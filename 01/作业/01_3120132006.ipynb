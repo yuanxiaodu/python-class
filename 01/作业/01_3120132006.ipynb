{
 "cells": [
  {
   "cell_type": "code",
   "execution_count": 1,
   "metadata": {},
   "outputs": [
    {
     "name": "stdout",
     "output_type": "stream",
     "text": [
      "hello word!\n"
     ]
    }
   ],
   "source": [
    "print(\"hello word!\")"
   ]
  },
  {
   "cell_type": "code",
   "execution_count": 2,
   "metadata": {},
   "outputs": [
    {
     "name": "stdout",
     "output_type": "stream",
     "text": [
      "I'd much rather you 'not'.\n"
     ]
    }
   ],
   "source": [
    "print(\"I'd much rather you 'not'.\")"
   ]
  },
  {
   "cell_type": "code",
   "execution_count": 4,
   "metadata": {},
   "outputs": [
    {
     "name": "stdout",
     "output_type": "stream",
     "text": [
      "I \"said\" do not touch this.\n"
     ]
    }
   ],
   "source": [
    "print('I \"said\" do not touch this.')"
   ]
  },
  {
   "cell_type": "code",
   "execution_count": 6,
   "metadata": {},
   "outputs": [
    {
     "ename": "SyntaxError",
     "evalue": "unexpected EOF while parsing (<ipython-input-6-a524e261d199>, line 1)",
     "output_type": "error",
     "traceback": [
      "\u001b[1;36m  File \u001b[1;32m\"<ipython-input-6-a524e261d199>\"\u001b[1;36m, line \u001b[1;32m1\u001b[0m\n\u001b[1;33m    print('This will get an error'\u001b[0m\n\u001b[1;37m                                  ^\u001b[0m\n\u001b[1;31mSyntaxError\u001b[0m\u001b[1;31m:\u001b[0m unexpected EOF while parsing\n"
     ]
    }
   ],
   "source": [
    "print('This will get an error'"
   ]
  },
  {
   "cell_type": "code",
   "execution_count": 7,
   "metadata": {},
   "outputs": [
    {
     "name": "stdout",
     "output_type": "stream",
     "text": [
      "I could have code like this.\n"
     ]
    }
   ],
   "source": [
    "print(\"I could have code like this.\") #被注释掉的语句不会显示"
   ]
  },
  {
   "cell_type": "code",
   "execution_count": 8,
   "metadata": {},
   "outputs": [],
   "source": [
    "counter=100 #整形变量\n",
    "miles=100.0  #浮点型变量\n",
    "name=\"runoob\" #字符串"
   ]
  },
  {
   "cell_type": "code",
   "execution_count": 9,
   "metadata": {},
   "outputs": [
    {
     "data": {
      "text/plain": [
       "100"
      ]
     },
     "execution_count": 9,
     "metadata": {},
     "output_type": "execute_result"
    }
   ],
   "source": [
    "counter"
   ]
  },
  {
   "cell_type": "code",
   "execution_count": 10,
   "metadata": {},
   "outputs": [
    {
     "data": {
      "text/plain": [
       "100.0"
      ]
     },
     "execution_count": 10,
     "metadata": {},
     "output_type": "execute_result"
    }
   ],
   "source": [
    "miles"
   ]
  },
  {
   "cell_type": "code",
   "execution_count": 11,
   "metadata": {},
   "outputs": [
    {
     "data": {
      "text/plain": [
       "'runoob'"
      ]
     },
     "execution_count": 11,
     "metadata": {},
     "output_type": "execute_result"
    }
   ],
   "source": [
    "counter\n",
    "miles\n",
    "name"
   ]
  },
  {
   "cell_type": "code",
   "execution_count": 12,
   "metadata": {},
   "outputs": [],
   "source": [
    "a=b=c=1"
   ]
  },
  {
   "cell_type": "code",
   "execution_count": 13,
   "metadata": {},
   "outputs": [
    {
     "data": {
      "text/plain": [
       "1"
      ]
     },
     "execution_count": 13,
     "metadata": {},
     "output_type": "execute_result"
    }
   ],
   "source": [
    "a"
   ]
  },
  {
   "cell_type": "code",
   "execution_count": 14,
   "metadata": {},
   "outputs": [
    {
     "data": {
      "text/plain": [
       "1"
      ]
     },
     "execution_count": 14,
     "metadata": {},
     "output_type": "execute_result"
    }
   ],
   "source": [
    "b"
   ]
  },
  {
   "cell_type": "code",
   "execution_count": 15,
   "metadata": {},
   "outputs": [
    {
     "data": {
      "text/plain": [
       "1"
      ]
     },
     "execution_count": 15,
     "metadata": {},
     "output_type": "execute_result"
    }
   ],
   "source": [
    "c"
   ]
  },
  {
   "cell_type": "code",
   "execution_count": 16,
   "metadata": {},
   "outputs": [],
   "source": [
    "a,b,c=1,2,\"runoob\""
   ]
  },
  {
   "cell_type": "code",
   "execution_count": 17,
   "metadata": {},
   "outputs": [
    {
     "data": {
      "text/plain": [
       "'runoob'"
      ]
     },
     "execution_count": 17,
     "metadata": {},
     "output_type": "execute_result"
    }
   ],
   "source": [
    "c"
   ]
  },
  {
   "cell_type": "code",
   "execution_count": 19,
   "metadata": {},
   "outputs": [
    {
     "data": {
      "text/plain": [
       "['False',\n",
       " 'None',\n",
       " 'True',\n",
       " 'and',\n",
       " 'as',\n",
       " 'assert',\n",
       " 'async',\n",
       " 'await',\n",
       " 'break',\n",
       " 'class',\n",
       " 'continue',\n",
       " 'def',\n",
       " 'del',\n",
       " 'elif',\n",
       " 'else',\n",
       " 'except',\n",
       " 'finally',\n",
       " 'for',\n",
       " 'from',\n",
       " 'global',\n",
       " 'if',\n",
       " 'import',\n",
       " 'in',\n",
       " 'is',\n",
       " 'lambda',\n",
       " 'nonlocal',\n",
       " 'not',\n",
       " 'or',\n",
       " 'pass',\n",
       " 'raise',\n",
       " 'return',\n",
       " 'try',\n",
       " 'while',\n",
       " 'with',\n",
       " 'yield']"
      ]
     },
     "execution_count": 19,
     "metadata": {},
     "output_type": "execute_result"
    }
   ],
   "source": [
    "import keyword \n",
    "keyword.kwlist"
   ]
  },
  {
   "cell_type": "code",
   "execution_count": 20,
   "metadata": {},
   "outputs": [
    {
     "data": {
      "text/plain": [
       "'I will now count my chicken'"
      ]
     },
     "execution_count": 20,
     "metadata": {},
     "output_type": "execute_result"
    }
   ],
   "source": [
    "\"I will now count my chicken\""
   ]
  },
  {
   "cell_type": "code",
   "execution_count": 21,
   "metadata": {},
   "outputs": [
    {
     "name": "stdout",
     "output_type": "stream",
     "text": [
      "Hens 30.0\n"
     ]
    }
   ],
   "source": [
    "print(\"Hens\",25+30/6)"
   ]
  },
  {
   "cell_type": "code",
   "execution_count": 22,
   "metadata": {},
   "outputs": [
    {
     "data": {
      "text/plain": [
       "6.75"
      ]
     },
     "execution_count": 22,
     "metadata": {},
     "output_type": "execute_result"
    }
   ],
   "source": [
    "3+2+1-5+4%2-1/4+6"
   ]
  },
  {
   "cell_type": "code",
   "execution_count": 23,
   "metadata": {},
   "outputs": [
    {
     "name": "stdout",
     "output_type": "stream",
     "text": [
      "Is is grater? True\n"
     ]
    }
   ],
   "source": [
    "print(\"Is is grater?\",5>2)"
   ]
  },
  {
   "cell_type": "code",
   "execution_count": 24,
   "metadata": {},
   "outputs": [
    {
     "data": {
      "text/plain": [
       "True"
      ]
     },
     "execution_count": 24,
     "metadata": {},
     "output_type": "execute_result"
    }
   ],
   "source": [
    "5>=2"
   ]
  },
  {
   "cell_type": "code",
   "execution_count": 25,
   "metadata": {},
   "outputs": [
    {
     "data": {
      "text/plain": [
       "False"
      ]
     },
     "execution_count": 25,
     "metadata": {},
     "output_type": "execute_result"
    }
   ],
   "source": [
    "5>5"
   ]
  },
  {
   "cell_type": "code",
   "execution_count": 26,
   "metadata": {},
   "outputs": [
    {
     "data": {
      "text/plain": [
       "True"
      ]
     },
     "execution_count": 26,
     "metadata": {},
     "output_type": "execute_result"
    }
   ],
   "source": [
    "5>=5"
   ]
  },
  {
   "cell_type": "code",
   "execution_count": 27,
   "metadata": {},
   "outputs": [
    {
     "data": {
      "text/plain": [
       "False"
      ]
     },
     "execution_count": 27,
     "metadata": {},
     "output_type": "execute_result"
    }
   ],
   "source": [
    "3+2<5-7"
   ]
  },
  {
   "cell_type": "code",
   "execution_count": 28,
   "metadata": {},
   "outputs": [],
   "source": [
    "a,b=10,20"
   ]
  },
  {
   "cell_type": "code",
   "execution_count": 29,
   "metadata": {},
   "outputs": [],
   "source": [
    "c=a+b"
   ]
  },
  {
   "cell_type": "code",
   "execution_count": 30,
   "metadata": {},
   "outputs": [
    {
     "data": {
      "text/plain": [
       "30"
      ]
     },
     "execution_count": 30,
     "metadata": {},
     "output_type": "execute_result"
    }
   ],
   "source": [
    "c"
   ]
  },
  {
   "cell_type": "code",
   "execution_count": 32,
   "metadata": {},
   "outputs": [
    {
     "name": "stdout",
     "output_type": "stream",
     "text": [
      "(a+b)*c/d 运算结果为： 90.0\n",
      "((a+b)*c)/d 运算结果为： 90.0\n",
      "(a+b)*(c/d) 运算结果为： 90.0\n",
      "a+(b*c)/d 运算结果为： 50.0\n"
     ]
    }
   ],
   "source": [
    "a=20\n",
    "b=10\n",
    "c=15\n",
    "d=5\n",
    "e=0\n",
    "\n",
    "e=(a+b)*c/d \n",
    "print(\"(a+b)*c/d 运算结果为：\",e)\n",
    "\n",
    "e=((a+b)*c)/d\n",
    "print(\"((a+b)*c)/d 运算结果为：\",e)\n",
    "\n",
    "e=(a+b)*(c/d)\n",
    "print(\"(a+b)*(c/d) 运算结果为：\",e)\n",
    "\n",
    "e=a+(b*c)/d\n",
    "print(\"a+(b*c)/d 运算结果为：\",e)"
   ]
  },
  {
   "cell_type": "code",
   "execution_count": 38,
   "metadata": {},
   "outputs": [
    {
     "name": "stdout",
     "output_type": "stream",
     "text": [
      "Let's tallk about Zed A. Shaw.\n",
      "He's 180 inches tall.\n",
      "He's74pounds heavy.\n",
      "Actually that's not too heavy.\n",
      "He's got brown eyes and shorthair.\n",
      "His teeth are usually white depending on the coffee.\n",
      "If I add 35 , 180 and 74 I get 289.\n"
     ]
    }
   ],
   "source": [
    "my_name='Zed A. Shaw'\n",
    "my_age=35\n",
    "my_weight=74\n",
    "my_height=180\n",
    "my_eyes=\"brown\"\n",
    "my_teeth=\"white\"\n",
    "my_hair=\"short\"\n",
    "\n",
    "print(f\"Let's tallk about {my_name}.\")\n",
    "print(f\"He's {my_height} inches tall.\")\n",
    "print(f\"He's{my_weight}pounds heavy.\")\n",
    "print(\"Actually that's not too heavy.\")\n",
    "print(f\"He's got {my_eyes} eyes and {my_hair}hair.\")\n",
    "print(f\"His teeth are usually {my_teeth} depending on the coffee.\")\n",
    "\n",
    "#this is tricky,try to get it exactly righy\n",
    "total=my_age+my_height+my_weight\n",
    "print(f\"If I add {my_age} , {my_height} and {my_weight} I get {total}.\")"
   ]
  },
  {
   "cell_type": "code",
   "execution_count": 49,
   "metadata": {},
   "outputs": [
    {
     "name": "stdout",
     "output_type": "stream",
     "text": [
      "there are 10 types of people.\n",
      "those who know binary and those who don't.\n",
      "I said :there are 10 types of people..\n",
      "I aslo said: 'those who know binary and those who don't.'\n",
      "Isn't that joke so funny?!False\n",
      "Isn't that joke so funny?!brown\n",
      "this is the left side of...a string with a right side.\n"
     ]
    }
   ],
   "source": [
    "types_of_people=10\n",
    "x=f\"there are {types_of_people} types of people.\"\n",
    "\n",
    "binary=\"binary\"\n",
    "do_not=\"don't\"\n",
    "y=f\"those who know {binary} and those who {do_not}.\"\n",
    "print(x)\n",
    "print(y)\n",
    "\n",
    "print(f\"I said :{x}.\")\n",
    "print(f\"I aslo said: '{y}'\")\n",
    "\n",
    "hilarious=False\n",
    "joke_evaluation=\"Isn't that joke so funny?!{}\"\n",
    "print(joke_evaluation.format(hilarious))\n",
    "print(joke_evaluation.format(my_eyes))\n",
    "\n",
    "w=\"this is the left side of...\"\n",
    "e=\"a string with a right side.\"\n",
    "print(w+e)"
   ]
  },
  {
   "cell_type": "code",
   "execution_count": 54,
   "metadata": {},
   "outputs": [
    {
     "name": "stdout",
     "output_type": "stream",
     "text": [
      "Mary had a little lamb.\n",
      "Its fleece was white as snow. \n",
      "And everywhere that Mary went.\n",
      "..........\n",
      "cheeseBurger\n"
     ]
    }
   ],
   "source": [
    "print(\"Mary had a little lamb.\")\n",
    "print(\"Its fleece was white as {}. \".format(\"snow\"))\n",
    "print(\"And everywhere that Mary went.\")\n",
    "print(\".\"*10) #twhat'd that do\n",
    "\n",
    "end1=\"c\"\n",
    "end2=\"h\"\n",
    "end3=\"e\"\n",
    "end4=\"e\"\n",
    "end5=\"s\"\n",
    "end6=\"e\"\n",
    "end7=\"B\"\n",
    "end8=\"u\"\n",
    "end9=\"r\"\n",
    "end10=\"g\"\n",
    "end11=\"e\"\n",
    "end12=\"r\"\n",
    "\n",
    "#what the \"end\" parameter at the end.(end='')\n",
    "#try removing it to see what happens\n",
    "print(end1+end2+end3+end4+end5+end6,end=\"\")\n",
    "print(end7+end8+end9+end10+end11+end12)"
   ]
  },
  {
   "cell_type": "code",
   "execution_count": 55,
   "metadata": {},
   "outputs": [
    {
     "name": "stdout",
     "output_type": "stream",
     "text": [
      "1 2 3 4\n",
      "one two three four\n",
      "True False False True\n",
      "{} {} {} {} {} {} {} {} {} {} {} {} {} {} {} {}\n",
      "I had this thing. That you could type up right. But it didn't sing. So I said goodnight.\n"
     ]
    }
   ],
   "source": [
    "formatter=\"{} {} {} {}\"\n",
    "print(formatter.format(1,2,3,4))\n",
    "print(formatter.format(\"one\",\"two\",\"three\",\"four\"))\n",
    "print(formatter.format(True,False,False,True))\n",
    "print(formatter.format(formatter,formatter,formatter,formatter))\n",
    "print(formatter.format(\n",
    "      \"I had this thing.\",\n",
    "      \"That you could type up right.\",\n",
    "      \"But it didn't sing.\",\n",
    "      \"So I said goodnight.\"))"
   ]
  },
  {
   "cell_type": "code",
   "execution_count": 58,
   "metadata": {},
   "outputs": [
    {
     "name": "stdout",
     "output_type": "stream",
     "text": [
      "here are the days:  Mon Tue Wed Thu Fri Sat Sun\n",
      "here are the months:  JAN\n",
      "FEB\n",
      "mar\n",
      "apr\n",
      "jun\n",
      "aug\n",
      "\n",
      "there's something going on here.\n",
      "with the three double-quotes.\n",
      "we'll be able to type as much as we like,\n",
      "even a lines if we want,or 5,or 6.\n",
      "\n"
     ]
    }
   ],
   "source": [
    "#here's some new strange stuff, remember type it exactly.\n",
    "\n",
    "days=\"Mon Tue Wed Thu Fri Sat Sun\"\n",
    "months=\"JAN\\nFEB\\nmar\\napr\\njun\\naug\"\n",
    "\n",
    "print(\"here are the days: \",days)\n",
    "print(\"here are the months: \", months)\n",
    "\n",
    "print(\"\"\"\n",
    "there's something going on here.\n",
    "with the three double-quotes.\n",
    "we'll be able to type as much as we like,\n",
    "even a lines if we want,or 5,or 6.\n",
    "\"\"\")"
   ]
  },
  {
   "cell_type": "code",
   "execution_count": 60,
   "metadata": {},
   "outputs": [
    {
     "name": "stdout",
     "output_type": "stream",
     "text": [
      "\tI'm tabbed in.\n",
      "I'm split\n",
      "on a line.\n",
      "I'm\\a\\cat.\n",
      "\n",
      "I'll do a list:\n",
      "\t* cat food\n",
      "\t* fishies\n",
      "\t* catnip\n",
      "\t* grass\n",
      "\n"
     ]
    }
   ],
   "source": [
    "tabby_cat=\"\\tI'm tabbed in.\"\n",
    "persian_cat=\"I'm split\\non a line.\"\n",
    "backslash_cat=\"I'm\\\\a\\\\cat.\"\n",
    "\n",
    "fat_cat=\"\"\"\n",
    "I'll do a list:\n",
    "\\t* cat food\n",
    "\\t* fishies\n",
    "\\t* catnip\\n\\t* grass\n",
    "\"\"\"\n",
    "\n",
    "print(tabby_cat)\n",
    "print(persian_cat)\n",
    "print(backslash_cat)\n",
    "print(fat_cat)"
   ]
  },
  {
   "cell_type": "code",
   "execution_count": 4,
   "metadata": {},
   "outputs": [
    {
     "name": "stdout",
     "output_type": "stream",
     "text": [
      "how old are you?"
     ]
    },
    {
     "name": "stdin",
     "output_type": "stream",
     "text": [
      " 12\n"
     ]
    },
    {
     "name": "stdout",
     "output_type": "stream",
     "text": [
      "how tall are you?"
     ]
    },
    {
     "name": "stdin",
     "output_type": "stream",
     "text": [
      " 12\n"
     ]
    },
    {
     "name": "stdout",
     "output_type": "stream",
     "text": [
      "how much do you weigh?"
     ]
    },
    {
     "name": "stdin",
     "output_type": "stream",
     "text": [
      " 12\n"
     ]
    },
    {
     "name": "stdout",
     "output_type": "stream",
     "text": [
      "so,you're 12 old,12 tall and 12 heavy.\n"
     ]
    }
   ],
   "source": [
    "print(\"how old are you?\",end=\"\")\n",
    "age=input()\n",
    "print(\"how tall are you?\",end=\"\")\n",
    "height=input()\n",
    "print(\"how much do you weigh?\",end=\"\")\n",
    "weight=input()\n",
    "\n",
    "print(f\"so,you're {age} old,{height} tall and {weight} heavy.\")"
   ]
  },
  {
   "cell_type": "code",
   "execution_count": 5,
   "metadata": {},
   "outputs": [
    {
     "name": "stdin",
     "output_type": "stream",
     "text": [
      "how old are you? 1\n",
      "how tall are you? 1\n",
      "how much do you weigh? 1\n"
     ]
    },
    {
     "name": "stdout",
     "output_type": "stream",
     "text": [
      "so,you are 1 old,1 tall and 1 heavy.\n"
     ]
    }
   ],
   "source": [
    "age=input(\"how old are you?\")\n",
    "height=input(\"how tall are you?\")\n",
    "weight=input(\"how much do you weigh?\")\n",
    "\n",
    "print(f\"so,you are {age} old,{height} tall and {weight} heavy.\")"
   ]
  },
  {
   "cell_type": "code",
   "execution_count": 7,
   "metadata": {},
   "outputs": [
    {
     "name": "stdout",
     "output_type": "stream",
     "text": [
      "the script is called: C:\\ProgramData\\Anaconda3\\lib\\site-packages\\ipykernel_launcher.py\n",
      "you first variable is: -f\n",
      "you second variable is: C:\\Users\\lenovo\\AppData\\Roaming\\jupyter\\runtime\\kernel-d709d5b5-8d6c-45a2-b4a8-8636eefbda38.json\n"
     ]
    }
   ],
   "source": [
    "from sys import argv\n",
    "#read the wyss section for how to run this\n",
    "script,first,second=argv\n",
    "\n",
    "print(\"the script is called:\",script)\n",
    "print(\"you first variable is:\",first)\n",
    "print(\"you second variable is:\",second)"
   ]
  },
  {
   "cell_type": "code",
   "execution_count": 1,
   "metadata": {},
   "outputs": [
    {
     "ename": "ModuleNotFoundError",
     "evalue": "No module named 'panda'",
     "output_type": "error",
     "traceback": [
      "\u001b[1;31m---------------------------------------------------------------------------\u001b[0m",
      "\u001b[1;31mModuleNotFoundError\u001b[0m                       Traceback (most recent call last)",
      "\u001b[1;32m<ipython-input-1-9d3c618def79>\u001b[0m in \u001b[0;36m<module>\u001b[1;34m\u001b[0m\n\u001b[1;32m----> 1\u001b[1;33m \u001b[1;32mimport\u001b[0m \u001b[0mpanda\u001b[0m \u001b[1;32mas\u001b[0m \u001b[0mpd\u001b[0m\u001b[1;33m\u001b[0m\u001b[1;33m\u001b[0m\u001b[0m\n\u001b[0m\u001b[0;32m      2\u001b[0m \u001b[0mcsv\u001b[0m\u001b[1;33m=\u001b[0m\u001b[0mpd\u001b[0m\u001b[1;33m.\u001b[0m\u001b[0mread_csv\u001b[0m\u001b[1;33m(\u001b[0m\u001b[1;34m'douban/movie_comments.csv'\u001b[0m\u001b[1;33m)\u001b[0m\u001b[1;33m\u001b[0m\u001b[1;33m\u001b[0m\u001b[0m\n\u001b[0;32m      3\u001b[0m \u001b[0mcsv\u001b[0m\u001b[1;33m\u001b[0m\u001b[1;33m\u001b[0m\u001b[0m\n",
      "\u001b[1;31mModuleNotFoundError\u001b[0m: No module named 'panda'"
     ]
    }
   ],
   "source": [
    "import panda as pd\n",
    "csv=pd.read_csv('douban/movie_comments.csv')\n",
    "csv"
   ]
  },
  {
   "cell_type": "code",
   "execution_count": 1,
   "metadata": {},
   "outputs": [
    {
     "name": "stdout",
     "output_type": "stream",
     "text": [
      "Python 原始数据： {'no': 1, 'name': 'Runoob', 'url': 'http://www.runoob.com'}\n",
      "JSON 对象： {\"no\": 1, \"name\": \"Runoob\", \"url\": \"http://www.runoob.com\"}\n"
     ]
    }
   ],
   "source": [
    "import json\n",
    " \n",
    "data = {\n",
    "    'no' : 1,\n",
    "    'name' : 'Runoob',\n",
    "    'url' : 'http://www.runoob.com'\n",
    "}\n",
    " \n",
    "json_str = json.dumps(data)\n",
    "print (\"Python 原始数据：\", repr(data))\n",
    "print (\"JSON 对象：\", json_str)"
   ]
  },
  {
   "cell_type": "code",
   "execution_count": 2,
   "metadata": {},
   "outputs": [
    {
     "name": "stdout",
     "output_type": "stream",
     "text": [
      "Python 原始数据： {'no': 1, 'name': 'Runoob', 'url': 'http://www.runoob.com'}\n",
      "JSON 对象： {\"no\": 1, \"name\": \"Runoob\", \"url\": \"http://www.runoob.com\"}\n",
      "data2['name']:  Runoob\n",
      "data2['url']:  http://www.runoob.com\n"
     ]
    }
   ],
   "source": [
    "import json\n",
    " \n",
    "\n",
    "data1 = {\n",
    "    'no' : 1,\n",
    "    'name' : 'Runoob',\n",
    "    'url' : 'http://www.runoob.com'\n",
    "}\n",
    " \n",
    "json_str = json.dumps(data1)\n",
    "print (\"Python 原始数据：\", repr(data1))\n",
    "print (\"JSON 对象：\", json_str)\n",
    " \n",
    "data2 = json.loads(json_str)\n",
    "print (\"data2['name']: \", data2['name'])\n",
    "print (\"data2['url']: \", data2['url'])"
   ]
  },
  {
   "cell_type": "code",
   "execution_count": 3,
   "metadata": {},
   "outputs": [],
   "source": [
    "def is_number(s):\n",
    "    try:\n",
    "        float(s)\n",
    "        return True\n",
    "    except ValueError:\n",
    "        pass\n",
    " \n",
    "    try:\n",
    "        import unicodedata\n",
    "        unicodedata.numeric(s)\n",
    "        return True\n",
    "    except (TypeError, ValueError):\n",
    "        pass\n",
    " \n",
    "    return False"
   ]
  },
  {
   "cell_type": "code",
   "execution_count": 5,
   "metadata": {},
   "outputs": [
    {
     "name": "stdout",
     "output_type": "stream",
     "text": [
      "False\n",
      "True\n",
      "True\n",
      "True\n",
      "True\n"
     ]
    }
   ],
   "source": [
    "print(is_number('foo'))  \n",
    "print(is_number('1'))    \n",
    "print(is_number('1.3'))  \n",
    "print(is_number('-1.37')) \n",
    "print(is_number('1e3'))   "
   ]
  },
  {
   "cell_type": "code",
   "execution_count": 6,
   "metadata": {},
   "outputs": [
    {
     "name": "stdout",
     "output_type": "stream",
     "text": [
      "True\n",
      "True\n",
      "True\n",
      "False\n"
     ]
    }
   ],
   "source": [
    "print(is_number('٥'))  \n",
    "\n",
    "print(is_number('๒'))  \n",
    "\n",
    "print(is_number('四')) \n",
    "\n",
    "print(is_number('©'))  "
   ]
  },
  {
   "cell_type": "code",
   "execution_count": 7,
   "metadata": {},
   "outputs": [
    {
     "data": {
      "text/plain": [
       "[]"
      ]
     },
     "execution_count": 7,
     "metadata": {},
     "output_type": "execute_result"
    }
   ],
   "source": [
    "import glob\n",
    "glob.glob('*.py')"
   ]
  },
  {
   "cell_type": "code",
   "execution_count": 9,
   "metadata": {},
   "outputs": [
    {
     "data": {
      "text/plain": [
       "'tea for two'"
      ]
     },
     "execution_count": 9,
     "metadata": {},
     "output_type": "execute_result"
    }
   ],
   "source": [
    "'tea for too'.replace('too', 'two')"
   ]
  },
  {
   "cell_type": "code",
   "execution_count": 10,
   "metadata": {},
   "outputs": [
    {
     "name": "stdout",
     "output_type": "stream",
     "text": [
      "Sum : 600\n"
     ]
    }
   ],
   "source": [
    "def returnSum(myDict): \n",
    "      \n",
    "    sum = 0\n",
    "    for i in myDict: \n",
    "        sum = sum + myDict[i] \n",
    "      \n",
    "    return sum\n",
    "  \n",
    "dict = {'a': 100, 'b':200, 'c':300} \n",
    "print(\"Sum :\", returnSum(dict))"
   ]
  },
  {
   "cell_type": "code",
   "execution_count": 11,
   "metadata": {},
   "outputs": [
    {
     "name": "stdout",
     "output_type": "stream",
     "text": [
      "1x1=1\t\n",
      "1x2=2\t2x2=4\t\n",
      "1x3=3\t2x3=6\t3x3=9\t\n",
      "1x4=4\t2x4=8\t3x4=12\t4x4=16\t\n",
      "1x5=5\t2x5=10\t3x5=15\t4x5=20\t5x5=25\t\n",
      "1x6=6\t2x6=12\t3x6=18\t4x6=24\t5x6=30\t6x6=36\t\n",
      "1x7=7\t2x7=14\t3x7=21\t4x7=28\t5x7=35\t6x7=42\t7x7=49\t\n",
      "1x8=8\t2x8=16\t3x8=24\t4x8=32\t5x8=40\t6x8=48\t7x8=56\t8x8=64\t\n",
      "1x9=9\t2x9=18\t3x9=27\t4x9=36\t5x9=45\t6x9=54\t7x9=63\t8x9=72\t9x9=81\t\n"
     ]
    }
   ],
   "source": [
    "for i in range(1, 10):\n",
    "    for j in range(1, i+1):\n",
    "        print('{}x{}={}\\t'.format(j, i, i*j), end='')\n",
    "    print()"
   ]
  },
  {
   "cell_type": "code",
   "execution_count": 12,
   "metadata": {},
   "outputs": [
    {
     "name": "stdin",
     "output_type": "stream",
     "text": [
      "请输入一个数字:  12\n"
     ]
    },
    {
     "name": "stdout",
     "output_type": "stream",
     "text": [
      "12 的阶乘为 479001600\n"
     ]
    }
   ],
   "source": [
    "num = int(input(\"请输入一个数字: \"))\n",
    "factorial = 1\n",
    "if num < 0:\n",
    "    print(\"抱歉，负数没有阶乘\")\n",
    "elif num == 0:\n",
    "    print(\"0 的阶乘为 1\")\n",
    "else:\n",
    "    for i in range(1,num + 1):\n",
    "        factorial = factorial*i\n",
    "    print(\"%d 的阶乘为 %d\" %(num,factorial))"
   ]
  },
  {
   "cell_type": "code",
   "execution_count": 13,
   "metadata": {},
   "outputs": [
    {
     "name": "stdin",
     "output_type": "stream",
     "text": [
      "输入区间最小值:  12\n",
      "输入区间最大值:  40\n"
     ]
    },
    {
     "name": "stdout",
     "output_type": "stream",
     "text": [
      "13\n",
      "17\n",
      "19\n",
      "23\n",
      "29\n",
      "31\n",
      "37\n"
     ]
    }
   ],
   "source": [
    "lower = int(input(\"输入区间最小值: \"))\n",
    "upper = int(input(\"输入区间最大值: \"))\n",
    " \n",
    "for num in range(lower,upper + 1):\n",
    "    if num > 1:\n",
    "        for i in range(2,num):\n",
    "            if (num % i) == 0:\n",
    "                break\n",
    "        else:\n",
    "            print(num)"
   ]
  },
  {
   "cell_type": "code",
   "execution_count": 14,
   "metadata": {},
   "outputs": [
    {
     "name": "stdout",
     "output_type": "stream",
     "text": [
      "圆的面积为 113.112000\n"
     ]
    }
   ],
   "source": [
    "def findArea(r):\n",
    "    PI = 3.142\n",
    "    return PI * (r*r)\n",
    "\n",
    "print(\"圆的面积为 %.6f\" % findArea(6))"
   ]
  },
  {
   "cell_type": "code",
   "execution_count": 15,
   "metadata": {},
   "outputs": [
    {
     "name": "stdin",
     "output_type": "stream",
     "text": [
      "请输入一个数字:  12\n"
     ]
    },
    {
     "name": "stdout",
     "output_type": "stream",
     "text": [
      "12 不是阿姆斯特朗数\n"
     ]
    }
   ],
   "source": [
    "num = int(input(\"请输入一个数字: \"))\n",
    " \n",
    "\n",
    "sum = 0\n",
    "n = len(str(num))\n",
    " \n",
    "temp = num\n",
    "while temp > 0:\n",
    "    digit = temp % 10\n",
    "    sum += digit ** n\n",
    "    temp //= 10\n",
    "\n",
    "if num == sum:\n",
    "    print(num,\"是阿姆斯特朗数\")\n",
    "else:\n",
    "    print(num,\"不是阿姆斯特朗数\")"
   ]
  },
  {
   "cell_type": "code",
   "execution_count": 16,
   "metadata": {},
   "outputs": [
    {
     "name": "stdin",
     "output_type": "stream",
     "text": [
      "你需要几项？ 23\n"
     ]
    },
    {
     "name": "stdout",
     "output_type": "stream",
     "text": [
      "斐波那契数列：\n",
      "0 , 1 , 1 , 2 , 3 , 5 , 8 , 13 , 21 , 34 , 55 , 89 , 144 , 233 , 377 , 610 , 987 , 1597 , 2584 , 4181 , 6765 , 10946 , 17711 , "
     ]
    }
   ],
   "source": [
    "nterms = int(input(\"你需要几项？\"))\n",
    " \n",
    "\n",
    "n1 = 0\n",
    "n2 = 1\n",
    "count = 2\n",
    " \n",
    "\n",
    "if nterms <= 0:\n",
    "    print(\"请输入一个正整数。\")\n",
    "elif nterms == 1:\n",
    "    print(\"斐波那契数列：\")\n",
    "    print(n1)\n",
    "else:\n",
    "    print(\"斐波那契数列：\")\n",
    "    print(n1,\",\",n2,end=\" , \")\n",
    "    while count < nterms:\n",
    "        nth = n1 + n2\n",
    "        print(nth,end=\" , \")\n",
    "      \n",
    "        n1 = n2\n",
    "        n2 = nth\n",
    "        count += 1"
   ]
  },
  {
   "cell_type": "code",
   "execution_count": 17,
   "metadata": {},
   "outputs": [
    {
     "name": "stdin",
     "output_type": "stream",
     "text": [
      "输入数字： 23\n"
     ]
    },
    {
     "name": "stdout",
     "output_type": "stream",
     "text": [
      "十进制数为： 23\n",
      "转换为二进制为： 0b10111\n",
      "转换为八进制为： 0o27\n",
      "转换为十六进制为： 0x17\n"
     ]
    }
   ],
   "source": [
    "dec = int(input(\"输入数字：\"))\n",
    " \n",
    "print(\"十进制数为：\", dec)\n",
    "print(\"转换为二进制为：\", bin(dec))\n",
    "print(\"转换为八进制为：\", oct(dec))\n",
    "print(\"转换为十六进制为：\", hex(dec))"
   ]
  },
  {
   "cell_type": "code",
   "execution_count": 21,
   "metadata": {},
   "outputs": [
    {
     "name": "stdin",
     "output_type": "stream",
     "text": [
      "请输入一个字符:  a\n",
      "请输入一个ASCII码:  101\n"
     ]
    },
    {
     "name": "stdout",
     "output_type": "stream",
     "text": [
      "a 的ASCII 码为 97\n",
      "101  对应的字符为 e\n"
     ]
    }
   ],
   "source": [
    "c = input(\"请输入一个字符: \")\n",
    "a = int(input(\"请输入一个ASCII码: \"))\n",
    " \n",
    "print( c + \" 的ASCII 码为\", ord(c))\n",
    "print( a , \" 对应的字符为\", chr(a))"
   ]
  },
  {
   "cell_type": "code",
   "execution_count": 22,
   "metadata": {},
   "outputs": [
    {
     "name": "stdin",
     "output_type": "stream",
     "text": [
      "输入年份:  2024\n",
      "输入月份:  4\n"
     ]
    },
    {
     "name": "stdout",
     "output_type": "stream",
     "text": [
      "     April 2024\n",
      "Mo Tu We Th Fr Sa Su\n",
      " 1  2  3  4  5  6  7\n",
      " 8  9 10 11 12 13 14\n",
      "15 16 17 18 19 20 21\n",
      "22 23 24 25 26 27 28\n",
      "29 30\n",
      "\n"
     ]
    }
   ],
   "source": [
    "import calendar\n",
    "yy = int(input(\"输入年份: \"))\n",
    "mm = int(input(\"输入月份: \"))\n",
    "print(calendar.month(yy,mm))"
   ]
  },
  {
   "cell_type": "code",
   "execution_count": 23,
   "metadata": {},
   "outputs": [
    {
     "name": "stdout",
     "output_type": "stream",
     "text": [
      "2020-12-17\n"
     ]
    }
   ],
   "source": [
    "import datetime\n",
    "def getYesterday(): \n",
    "    today=datetime.date.today() \n",
    "    oneday=datetime.timedelta(days=1) \n",
    "    yesterday=today-oneday  \n",
    "    return yesterday\n",
    " \n",
    "print(getYesterday())"
   ]
  },
  {
   "cell_type": "code",
   "execution_count": 24,
   "metadata": {},
   "outputs": [
    {
     "name": "stdout",
     "output_type": "stream",
     "text": [
      "总共有3121条鱼\n"
     ]
    }
   ],
   "source": [
    "def main():\n",
    "    fish = 1\n",
    "    while True:\n",
    "        total, enough = fish, True\n",
    "        for _ in range(5):\n",
    "            if (total - 1) % 5 == 0:\n",
    "                total = (total - 1)  //  5 * 4\n",
    "            else:\n",
    "                enough = False\n",
    "                break\n",
    "        if enough:\n",
    "            print(f'总共有{fish}条鱼')\n",
    "            break\n",
    "        fish += 1\n",
    "\n",
    "\n",
    "if __name__ == '__main__':\n",
    "    main()"
   ]
  },
  {
   "cell_type": "code",
   "execution_count": 25,
   "metadata": {},
   "outputs": [
    {
     "name": "stdout",
     "output_type": "stream",
     "text": [
      "9号下船了\n",
      "18号下船了\n",
      "27号下船了\n",
      "6号下船了\n",
      "16号下船了\n",
      "26号下船了\n",
      "7号下船了\n",
      "19号下船了\n",
      "30号下船了\n",
      "12号下船了\n",
      "24号下船了\n",
      "8号下船了\n",
      "22号下船了\n",
      "5号下船了\n",
      "23号下船了\n"
     ]
    }
   ],
   "source": [
    "people={}\n",
    "for x in range(1,31):\n",
    "    people[x]=1\n",
    "# print(people)\n",
    "check=0\n",
    "i=1\n",
    "j=0\n",
    "while i<=31:\n",
    "    if i == 31:\n",
    "        i=1\n",
    "    elif j == 15:\n",
    "        break\n",
    "    else:\n",
    "        if people[i] == 0:\n",
    "            i+=1\n",
    "            continue\n",
    "        else:\n",
    "            check+=1\n",
    "            if check == 9:\n",
    "                people[i]=0\n",
    "                check = 0\n",
    "                print(\"{}号下船了\".format(i))\n",
    "                j+=1\n",
    "            else:\n",
    "                i+=1\n",
    "                continue"
   ]
  },
  {
   "cell_type": "code",
   "execution_count": 28,
   "metadata": {},
   "outputs": [
    {
     "name": "stdout",
     "output_type": "stream",
     "text": [
      "按下回车开始计时，按下 Ctrl + C 停止计时。\n"
     ]
    },
    {
     "name": "stdin",
     "output_type": "stream",
     "text": [
      " \n"
     ]
    },
    {
     "name": "stdout",
     "output_type": "stream",
     "text": [
      "开始\n",
      "结束:  10.0 秒\n",
      "总共的时间为: 11.04 secs\n"
     ]
    }
   ],
   "source": [
    "import time\n",
    "  \n",
    "print('按下回车开始计时，按下 Ctrl + C 停止计时。')\n",
    "while True:\n",
    "    \n",
    "    input(\"\") # 如果是 python 2.x 版本请使用 raw_input() \n",
    "    starttime = time.time()\n",
    "    print('开始')\n",
    "    try:\n",
    "        while True:\n",
    "            print('计时: ', round(time.time() - starttime, 0), '秒', end=\"\\r\")\n",
    "            time.sleep(1)\n",
    "    except KeyboardInterrupt:\n",
    "        print('结束')\n",
    "        endtime = time.time()\n",
    "        print('总共的时间为:', round(endtime - starttime, 2),'secs')\n",
    "        break"
   ]
  },
  {
   "cell_type": "code",
   "execution_count": 40,
   "metadata": {},
   "outputs": [
    {
     "name": "stdout",
     "output_type": "stream",
     "text": [
      "(1, 2) (2, 56) (3, 323) (4, 24) (5, 12) (6, 18) 按键(key)排序:\n"
     ]
    }
   ],
   "source": [
    "def dictionairy():  \n",
    "    key_value ={}     \n",
    "    key_value[2] = 56       \n",
    "    key_value[1] = 2 \n",
    "    key_value[5] = 12 \n",
    "    key_value[4] = 24\n",
    "    key_value[6] = 18      \n",
    "    key_value[3] = 323 \n",
    "    print (\"按键(key)排序:\") \n",
    "    \n",
    "for i in sorted (key_value) : \n",
    "    print ((i, key_value[i]), end =\" \") \n",
    "\n",
    "def main(): \n",
    "    dictionairy()              \n",
    "      \n",
    "if __name__==\"__main__\":      \n",
    "    main()"
   ]
  },
  {
   "cell_type": "code",
   "execution_count": 41,
   "metadata": {},
   "outputs": [
    {
     "name": "stdout",
     "output_type": "stream",
     "text": [
      "按值(value)排序:\n",
      "[(1, 2), (5, 12), (6, 18), (4, 24), (2, 56), (3, 323)]\n"
     ]
    }
   ],
   "source": [
    "def dictionairy():  \n",
    "    key_value ={}     \n",
    "    key_value[2] = 56       \n",
    "    key_value[1] = 2 \n",
    "    key_value[5] = 12 \n",
    "    key_value[4] = 24\n",
    "    key_value[6] = 18      \n",
    "    key_value[3] = 323 \n",
    " \n",
    " \n",
    "    print (\"按值(value)排序:\")   \n",
    "    print(sorted(key_value.items(), key = lambda kv:(kv[1], kv[0])))     \n",
    "\n",
    "    \n",
    "def main(): \n",
    "    dictionairy()             \n",
    "      \n",
    "if __name__==\"__main__\":       \n",
    "    main()"
   ]
  },
  {
   "cell_type": "code",
   "execution_count": 43,
   "metadata": {},
   "outputs": [
    {
     "name": "stdout",
     "output_type": "stream",
     "text": [
      "列表通过 age 升序排序: \n",
      "[{'name': 'Runoob', 'age': 7}, {'name': 'Taobao', 'age': 100}, {'name': 'Google', 'age': 100}, {'name': 'Wiki', 'age': 200}]\n",
      "\n",
      "列表通过 age 和 name 排序: \n",
      "[{'name': 'Runoob', 'age': 7}, {'name': 'Google', 'age': 100}, {'name': 'Taobao', 'age': 100}, {'name': 'Wiki', 'age': 200}]\n",
      "\n",
      "列表通过 age 降序排序: \n",
      "[{'name': 'Wiki', 'age': 200}, {'name': 'Taobao', 'age': 100}, {'name': 'Google', 'age': 100}, {'name': 'Runoob', 'age': 7}]\n"
     ]
    }
   ],
   "source": [
    "lis = [{ \"name\" : \"Taobao\", \"age\" : 100},  \n",
    "{ \"name\" : \"Runoob\", \"age\" : 7 }, \n",
    "{ \"name\" : \"Google\", \"age\" : 100 }, \n",
    "{ \"name\" : \"Wiki\" , \"age\" : 200 }] \n",
    "  \n",
    "print (\"列表通过 age 升序排序: \")\n",
    "print (sorted(lis, key = lambda i: i['age']) )\n",
    "  \n",
    "print (\"\\r\") \n",
    "  \n",
    "print (\"列表通过 age 和 name 排序: \")\n",
    "print (sorted(lis, key = lambda i: (i['age'], i['name'])) )\n",
    "  \n",
    "print (\"\\r\") \n",
    "  \n",
    "print (\"列表通过 age 降序排序: \")\n",
    "print (sorted(lis, key = lambda i: i['age'],reverse=True) )"
   ]
  },
  {
   "cell_type": "code",
   "execution_count": 44,
   "metadata": {},
   "outputs": [
    {
     "name": "stdout",
     "output_type": "stream",
     "text": [
      "排序后的数组:\n",
      "11\n",
      "12\n",
      "22\n",
      "25\n",
      "34\n",
      "64\n",
      "90\n"
     ]
    }
   ],
   "source": [
    "def bubbleSort(arr):\n",
    "    n = len(arr)\n",
    " \n",
    "    # 遍历所有数组元素\n",
    "    for i in range(n):\n",
    " \n",
    "        # Last i elements are already in place\n",
    "        for j in range(0, n-i-1):\n",
    " \n",
    "            if arr[j] > arr[j+1] :\n",
    "                arr[j], arr[j+1] = arr[j+1], arr[j]\n",
    "arr = [64, 34, 25, 12, 22, 11, 90]\n",
    " \n",
    "bubbleSort(arr)\n",
    " \n",
    "print (\"排序后的数组:\")\n",
    "for i in range(len(arr)):\n",
    "    print (\"%d\" %arr[i]),"
   ]
  },
  {
   "cell_type": "code",
   "execution_count": null,
   "metadata": {},
   "outputs": [],
   "source": []
  }
 ],
 "metadata": {
  "kernelspec": {
   "display_name": "Python 3",
   "language": "python",
   "name": "python3"
  },
  "language_info": {
   "codemirror_mode": {
    "name": "ipython",
    "version": 3
   },
   "file_extension": ".py",
   "mimetype": "text/x-python",
   "name": "python",
   "nbconvert_exporter": "python",
   "pygments_lexer": "ipython3",
   "version": "3.8.3"
  }
 },
 "nbformat": 4,
 "nbformat_minor": 4
}
