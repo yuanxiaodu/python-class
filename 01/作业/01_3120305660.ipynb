{
 "cells": [
  {
   "cell_type": "raw",
   "metadata": {},
   "source": [
    "print(\"hello world\")"
   ]
  },
  {
   "cell_type": "code",
   "execution_count": null,
   "metadata": {},
   "outputs": [],
   "source": []
  },
  {
   "cell_type": "code",
   "execution_count": null,
   "metadata": {},
   "outputs": [],
   "source": []
  },
  {
   "cell_type": "code",
   "execution_count": 1,
   "metadata": {},
   "outputs": [
    {
     "name": "stdout",
     "output_type": "stream",
     "text": [
      "3\n"
     ]
    }
   ],
   "source": [
    "a = 1\n",
    "b =2\n",
    "print(a+b)"
   ]
  },
  {
   "cell_type": "code",
   "execution_count": 2,
   "metadata": {},
   "outputs": [
    {
     "name": "stdout",
     "output_type": "stream",
     "text": [
      "hello world\n"
     ]
    }
   ],
   "source": [
    "print('hello world')"
   ]
  },
  {
   "cell_type": "code",
   "execution_count": 1,
   "metadata": {},
   "outputs": [
    {
     "name": "stdout",
     "output_type": "stream",
     "text": [
      "I'd rather you not ''.\n"
     ]
    }
   ],
   "source": [
    "print(\"I'd rather you not ''.\")"
   ]
  },
  {
   "cell_type": "code",
   "execution_count": 2,
   "metadata": {},
   "outputs": [
    {
     "name": "stdout",
     "output_type": "stream",
     "text": [
      "I \"said\" you don\"t do this\n"
     ]
    }
   ],
   "source": [
    "print('I \"said\" you don\"t do this')"
   ]
  },
  {
   "cell_type": "code",
   "execution_count": 3,
   "metadata": {},
   "outputs": [
    {
     "ename": "SyntaxError",
     "evalue": "unexpected EOF while parsing (<ipython-input-3-9a45ba6de743>, line 1)",
     "output_type": "error",
     "traceback": [
      "\u001b[1;36m  File \u001b[1;32m\"<ipython-input-3-9a45ba6de743>\"\u001b[1;36m, line \u001b[1;32m1\u001b[0m\n\u001b[1;33m    print('kuo hao buquan'\u001b[0m\n\u001b[1;37m                          ^\u001b[0m\n\u001b[1;31mSyntaxError\u001b[0m\u001b[1;31m:\u001b[0m unexpected EOF while parsing\n"
     ]
    }
   ],
   "source": [
    "print('kuo hao buquan'"
   ]
  },
  {
   "cell_type": "code",
   "execution_count": 4,
   "metadata": {},
   "outputs": [
    {
     "name": "stdout",
     "output_type": "stream",
     "text": [
      "comments won't show\n"
     ]
    }
   ],
   "source": [
    "print(\"comments won't show\")# ok this is comments"
   ]
  },
  {
   "cell_type": "markdown",
   "metadata": {},
   "source": [
    "这个markdown是啥"
   ]
  },
  {
   "cell_type": "raw",
   "metadata": {},
   "source": [
    "这个raw是啥"
   ]
  },
  {
   "cell_type": "code",
   "execution_count": 5,
   "metadata": {},
   "outputs": [],
   "source": [
    "my_int = 1\n",
    "my_float =2.\n",
    "my_str = \"a str\""
   ]
  },
  {
   "cell_type": "code",
   "execution_count": 6,
   "metadata": {},
   "outputs": [
    {
     "data": {
      "text/plain": [
       "1"
      ]
     },
     "execution_count": 6,
     "metadata": {},
     "output_type": "execute_result"
    }
   ],
   "source": [
    "my_int"
   ]
  },
  {
   "cell_type": "code",
   "execution_count": 7,
   "metadata": {},
   "outputs": [
    {
     "data": {
      "text/plain": [
       "2.0"
      ]
     },
     "execution_count": 7,
     "metadata": {},
     "output_type": "execute_result"
    }
   ],
   "source": [
    "my_float"
   ]
  },
  {
   "cell_type": "code",
   "execution_count": 8,
   "metadata": {},
   "outputs": [
    {
     "data": {
      "text/plain": [
       "'a str'"
      ]
     },
     "execution_count": 8,
     "metadata": {},
     "output_type": "execute_result"
    }
   ],
   "source": [
    "my_str"
   ]
  },
  {
   "cell_type": "code",
   "execution_count": 9,
   "metadata": {},
   "outputs": [
    {
     "data": {
      "text/plain": [
       "'a str'"
      ]
     },
     "execution_count": 9,
     "metadata": {},
     "output_type": "execute_result"
    }
   ],
   "source": [
    "my_int\n",
    "my_str"
   ]
  },
  {
   "cell_type": "code",
   "execution_count": 10,
   "metadata": {},
   "outputs": [
    {
     "data": {
      "text/plain": [
       "1"
      ]
     },
     "execution_count": 10,
     "metadata": {},
     "output_type": "execute_result"
    }
   ],
   "source": [
    "my_str\n",
    "my_int"
   ]
  },
  {
   "cell_type": "code",
   "execution_count": 11,
   "metadata": {},
   "outputs": [
    {
     "ename": "NameError",
     "evalue": "name 'c' is not defined",
     "output_type": "error",
     "traceback": [
      "\u001b[1;31m---------------------------------------------------------------------------\u001b[0m",
      "\u001b[1;31mNameError\u001b[0m                                 Traceback (most recent call last)",
      "\u001b[1;32m<ipython-input-11-71d63c0ecc3b>\u001b[0m in \u001b[0;36m<module>\u001b[1;34m\u001b[0m\n\u001b[1;32m----> 1\u001b[1;33m \u001b[0ma\u001b[0m\u001b[1;33m=\u001b[0m\u001b[0mb\u001b[0m\u001b[1;33m=\u001b[0m\u001b[0mc\u001b[0m\u001b[1;33m\u001b[0m\u001b[1;33m\u001b[0m\u001b[0m\n\u001b[0m",
      "\u001b[1;31mNameError\u001b[0m: name 'c' is not defined"
     ]
    }
   ],
   "source": [
    "a=b=c"
   ]
  },
  {
   "cell_type": "code",
   "execution_count": 12,
   "metadata": {},
   "outputs": [],
   "source": [
    "a=b=c=1"
   ]
  },
  {
   "cell_type": "code",
   "execution_count": 13,
   "metadata": {},
   "outputs": [
    {
     "data": {
      "text/plain": [
       "1"
      ]
     },
     "execution_count": 13,
     "metadata": {},
     "output_type": "execute_result"
    }
   ],
   "source": [
    "a"
   ]
  },
  {
   "cell_type": "code",
   "execution_count": 14,
   "metadata": {},
   "outputs": [
    {
     "data": {
      "text/plain": [
       "1"
      ]
     },
     "execution_count": 14,
     "metadata": {},
     "output_type": "execute_result"
    }
   ],
   "source": [
    "b"
   ]
  },
  {
   "cell_type": "code",
   "execution_count": 15,
   "metadata": {},
   "outputs": [],
   "source": [
    "a,b,c=1,2.0,'3'"
   ]
  },
  {
   "cell_type": "code",
   "execution_count": 16,
   "metadata": {},
   "outputs": [
    {
     "data": {
      "text/plain": [
       "1"
      ]
     },
     "execution_count": 16,
     "metadata": {},
     "output_type": "execute_result"
    }
   ],
   "source": [
    "a"
   ]
  },
  {
   "cell_type": "code",
   "execution_count": 17,
   "metadata": {},
   "outputs": [
    {
     "data": {
      "text/plain": [
       "2.0"
      ]
     },
     "execution_count": 17,
     "metadata": {},
     "output_type": "execute_result"
    }
   ],
   "source": [
    "b"
   ]
  },
  {
   "cell_type": "code",
   "execution_count": 18,
   "metadata": {},
   "outputs": [
    {
     "data": {
      "text/plain": [
       "'3'"
      ]
     },
     "execution_count": 18,
     "metadata": {},
     "output_type": "execute_result"
    }
   ],
   "source": [
    "c"
   ]
  },
  {
   "cell_type": "code",
   "execution_count": 19,
   "metadata": {},
   "outputs": [
    {
     "name": "stdout",
     "output_type": "stream",
     "text": [
      "['False', 'None', 'True', 'and', 'as', 'assert', 'async', 'await', 'break', 'class', 'continue', 'def', 'del', 'elif', 'else', 'except', 'finally', 'for', 'from', 'global', 'if', 'import', 'in', 'is', 'lambda', 'nonlocal', 'not', 'or', 'pass', 'raise', 'return', 'try', 'while', 'with', 'yield']\n"
     ]
    }
   ],
   "source": [
    "import keyword\n",
    "print(keyword.kwlist)"
   ]
  },
  {
   "cell_type": "code",
   "execution_count": 20,
   "metadata": {},
   "outputs": [
    {
     "name": "stdout",
     "output_type": "stream",
     "text": [
      "30.0\n"
     ]
    }
   ],
   "source": [
    "print(25+10/2)"
   ]
  },
  {
   "cell_type": "code",
   "execution_count": 21,
   "metadata": {},
   "outputs": [
    {
     "name": "stdout",
     "output_type": "stream",
     "text": [
      "30\n"
     ]
    }
   ],
   "source": [
    "print(25+10//2)"
   ]
  },
  {
   "cell_type": "code",
   "execution_count": 22,
   "metadata": {},
   "outputs": [
    {
     "name": "stdout",
     "output_type": "stream",
     "text": [
      "10\n"
     ]
    }
   ],
   "source": [
    "print(3+2+1%2+2**2)"
   ]
  },
  {
   "cell_type": "code",
   "execution_count": 23,
   "metadata": {},
   "outputs": [
    {
     "data": {
      "text/plain": [
       "True"
      ]
     },
     "execution_count": 23,
     "metadata": {},
     "output_type": "execute_result"
    }
   ],
   "source": [
    "5>2"
   ]
  },
  {
   "cell_type": "code",
   "execution_count": 24,
   "metadata": {},
   "outputs": [
    {
     "data": {
      "text/plain": [
       "False"
      ]
     },
     "execution_count": 24,
     "metadata": {},
     "output_type": "execute_result"
    }
   ],
   "source": [
    "5<2"
   ]
  },
  {
   "cell_type": "code",
   "execution_count": 25,
   "metadata": {},
   "outputs": [
    {
     "data": {
      "text/plain": [
       "False"
      ]
     },
     "execution_count": 25,
     "metadata": {},
     "output_type": "execute_result"
    }
   ],
   "source": [
    "3+2<5-2"
   ]
  },
  {
   "cell_type": "code",
   "execution_count": 26,
   "metadata": {},
   "outputs": [
    {
     "data": {
      "text/plain": [
       "True"
      ]
     },
     "execution_count": 26,
     "metadata": {},
     "output_type": "execute_result"
    }
   ],
   "source": [
    "3+2<9-2"
   ]
  },
  {
   "cell_type": "code",
   "execution_count": 27,
   "metadata": {},
   "outputs": [],
   "source": [
    "a,b=1,2"
   ]
  },
  {
   "cell_type": "code",
   "execution_count": 28,
   "metadata": {},
   "outputs": [
    {
     "data": {
      "text/plain": [
       "3"
      ]
     },
     "execution_count": 28,
     "metadata": {},
     "output_type": "execute_result"
    }
   ],
   "source": [
    "a+b"
   ]
  },
  {
   "cell_type": "code",
   "execution_count": 29,
   "metadata": {},
   "outputs": [],
   "source": [
    "a,b='1','2'"
   ]
  },
  {
   "cell_type": "code",
   "execution_count": 30,
   "metadata": {},
   "outputs": [
    {
     "data": {
      "text/plain": [
       "'12'"
      ]
     },
     "execution_count": 30,
     "metadata": {},
     "output_type": "execute_result"
    }
   ],
   "source": [
    "a+b"
   ]
  },
  {
   "cell_type": "code",
   "execution_count": 31,
   "metadata": {},
   "outputs": [],
   "source": [
    "m_name = 'ludy'\n",
    "m_age = 100\n",
    "m_height = 10.68\n",
    "m_weight = 160\n",
    "m_eyes = 'B'\n",
    "m_teeth = 'W'\n",
    "m_hair = 'Bl'"
   ]
  },
  {
   "cell_type": "code",
   "execution_count": 32,
   "metadata": {},
   "outputs": [
    {
     "data": {
      "text/plain": [
       "\"let'talk about ludy\""
      ]
     },
     "execution_count": 32,
     "metadata": {},
     "output_type": "execute_result"
    }
   ],
   "source": [
    "f'let\\'talk about {m_name}'"
   ]
  },
  {
   "cell_type": "code",
   "execution_count": 33,
   "metadata": {},
   "outputs": [
    {
     "data": {
      "text/plain": [
       "'he is 100 years old\\nand his height is 10.68\\n'"
      ]
     },
     "execution_count": 33,
     "metadata": {},
     "output_type": "execute_result"
    }
   ],
   "source": [
    "f'''he is {m_age} years old\n",
    "and his height is {m_height}\n",
    "'''"
   ]
  },
  {
   "cell_type": "code",
   "execution_count": 34,
   "metadata": {},
   "outputs": [
    {
     "name": "stdout",
     "output_type": "stream",
     "text": [
      "he is 100 years old\n",
      "and his height is 10.68\n",
      "\n"
     ]
    }
   ],
   "source": [
    "print(f'''he is {m_age} years old\n",
    "and his height is {m_height}\n",
    "''')"
   ]
  },
  {
   "cell_type": "code",
   "execution_count": 1,
   "metadata": {},
   "outputs": [],
   "source": [
    "a='a\"lot\"'\n",
    "b=\"don't\"\n",
    "c = f'I will show {a} {b} '"
   ]
  },
  {
   "cell_type": "code",
   "execution_count": 2,
   "metadata": {},
   "outputs": [
    {
     "data": {
      "text/plain": [
       "'I will show a\"lot\" don\\'t '"
      ]
     },
     "execution_count": 2,
     "metadata": {},
     "output_type": "execute_result"
    }
   ],
   "source": [
    "c"
   ]
  },
  {
   "cell_type": "code",
   "execution_count": 3,
   "metadata": {},
   "outputs": [
    {
     "name": "stdout",
     "output_type": "stream",
     "text": [
      "I will show a\"lot\" don't \n"
     ]
    }
   ],
   "source": [
    "print(c)"
   ]
  },
  {
   "cell_type": "code",
   "execution_count": 4,
   "metadata": {},
   "outputs": [
    {
     "name": "stdout",
     "output_type": "stream",
     "text": [
      "this str contain bool True\n"
     ]
    }
   ],
   "source": [
    "flag = 1<2\n",
    "print(f'this str contain bool {flag}')"
   ]
  },
  {
   "cell_type": "code",
   "execution_count": 5,
   "metadata": {},
   "outputs": [
    {
     "name": "stdout",
     "output_type": "stream",
     "text": [
      "this str contain boolTrue\n"
     ]
    }
   ],
   "source": [
    "print(f'this str contain bool{flag}')"
   ]
  },
  {
   "cell_type": "code",
   "execution_count": 6,
   "metadata": {},
   "outputs": [
    {
     "name": "stdout",
     "output_type": "stream",
     "text": [
      "aaaaab*2\n"
     ]
    }
   ],
   "source": [
    "print('a'*5+'b*2')"
   ]
  },
  {
   "cell_type": "code",
   "execution_count": 7,
   "metadata": {},
   "outputs": [
    {
     "name": "stdout",
     "output_type": "stream",
     "text": [
      "aaaaabb\n"
     ]
    }
   ],
   "source": [
    "print('a'*5+'b'*2)"
   ]
  },
  {
   "cell_type": "code",
   "execution_count": 8,
   "metadata": {},
   "outputs": [
    {
     "name": "stdout",
     "output_type": "stream",
     "text": [
      "a b c\n"
     ]
    }
   ],
   "source": [
    "print('a','b','c')"
   ]
  },
  {
   "cell_type": "code",
   "execution_count": 9,
   "metadata": {},
   "outputs": [
    {
     "name": "stdout",
     "output_type": "stream",
     "text": [
      "abc\n"
     ]
    }
   ],
   "source": [
    "print('a','b','c',sep='')"
   ]
  },
  {
   "cell_type": "code",
   "execution_count": 10,
   "metadata": {},
   "outputs": [
    {
     "name": "stdout",
     "output_type": "stream",
     "text": [
      "abc "
     ]
    }
   ],
   "source": [
    "print('a','b','c',sep='',end=' ')"
   ]
  },
  {
   "cell_type": "code",
   "execution_count": 11,
   "metadata": {},
   "outputs": [
    {
     "name": "stdout",
     "output_type": "stream",
     "text": [
      "abc ok\n"
     ]
    }
   ],
   "source": [
    "print('a','b','c',sep='',end=' ')\n",
    "print('ok')"
   ]
  },
  {
   "cell_type": "code",
   "execution_count": 12,
   "metadata": {},
   "outputs": [
    {
     "name": "stdout",
     "output_type": "stream",
     "text": [
      "abc\n",
      "ok\n"
     ]
    }
   ],
   "source": [
    "print('a','b','c',sep='')\n",
    "print('ok')"
   ]
  },
  {
   "cell_type": "code",
   "execution_count": 13,
   "metadata": {},
   "outputs": [
    {
     "name": "stdout",
     "output_type": "stream",
     "text": [
      "{} {} {} {} {} {} {} {} {}\n"
     ]
    }
   ],
   "source": [
    "formatter = '{} {} {}'\n",
    "print(formatter.format(formatter,formatter,formatter))"
   ]
  },
  {
   "cell_type": "code",
   "execution_count": 14,
   "metadata": {},
   "outputs": [
    {
     "name": "stdout",
     "output_type": "stream",
     "text": [
      "Mon Tue Wed Thu Fri Sat Sun Jan\n",
      "Feb\n",
      "Mar\n",
      "Apr\n",
      "May\n",
      "Jun\n",
      "Jul\n",
      "Aug\n"
     ]
    }
   ],
   "source": [
    "days = \"Mon Tue Wed Thu Fri Sat Sun\"\n",
    "months = \"Jan\\nFeb\\nMar\\nApr\\nMay\\nJun\\nJul\\nAug\"\n",
    "print(days,months)"
   ]
  },
  {
   "cell_type": "code",
   "execution_count": 15,
   "metadata": {},
   "outputs": [
    {
     "name": "stdout",
     "output_type": "stream",
     "text": [
      "\n",
      "\n"
     ]
    }
   ],
   "source": [
    "print('\\n')"
   ]
  },
  {
   "cell_type": "code",
   "execution_count": 16,
   "metadata": {},
   "outputs": [
    {
     "name": "stdout",
     "output_type": "stream",
     "text": [
      "\n"
     ]
    }
   ],
   "source": [
    "print('\\r')"
   ]
  },
  {
   "cell_type": "code",
   "execution_count": 17,
   "metadata": {},
   "outputs": [],
   "source": [
    "a='\\n'\n",
    "b='\\r'"
   ]
  },
  {
   "cell_type": "code",
   "execution_count": 18,
   "metadata": {},
   "outputs": [
    {
     "data": {
      "text/plain": [
       "'\\n'"
      ]
     },
     "execution_count": 18,
     "metadata": {},
     "output_type": "execute_result"
    }
   ],
   "source": [
    "a"
   ]
  },
  {
   "cell_type": "code",
   "execution_count": 19,
   "metadata": {},
   "outputs": [
    {
     "data": {
      "text/plain": [
       "'\\r'"
      ]
     },
     "execution_count": 19,
     "metadata": {},
     "output_type": "execute_result"
    }
   ],
   "source": [
    "b"
   ]
  },
  {
   "cell_type": "markdown",
   "metadata": {},
   "source": [
    "print(\"How old are you?\", end=' ')\n",
    "age = input()\n",
    "print(\"How tall are you?\", end=' ')\n",
    "height = input()\n",
    "print(\"How much do you weigh?\", end=' ')\n",
    "weight = input()\n",
    "\n",
    "print(f\"So, you're {age} old, {height} tall and {weight} heavy.\")"
   ]
  },
  {
   "cell_type": "code",
   "execution_count": 21,
   "metadata": {},
   "outputs": [
    {
     "name": "stdout",
     "output_type": "stream",
     "text": [
      "How old are you? "
     ]
    },
    {
     "name": "stdin",
     "output_type": "stream",
     "text": [
      " 11\n"
     ]
    },
    {
     "name": "stdout",
     "output_type": "stream",
     "text": [
      "How tall are you? "
     ]
    },
    {
     "name": "stdin",
     "output_type": "stream",
     "text": [
      " 11\n"
     ]
    },
    {
     "name": "stdout",
     "output_type": "stream",
     "text": [
      "How much do you weigh? "
     ]
    },
    {
     "name": "stdin",
     "output_type": "stream",
     "text": [
      " 11\n"
     ]
    },
    {
     "name": "stdout",
     "output_type": "stream",
     "text": [
      "So, you're 11 old, 11 tall and 11 heavy.\n"
     ]
    }
   ],
   "source": [
    "print(\"How old are you?\", end=' ')\n",
    "age = input()\n",
    "print(\"How tall are you?\", end=' ')\n",
    "height = input()\n",
    "print(\"How much do you weigh?\", end=' ')\n",
    "weight = input()\n",
    "\n",
    "print(f\"So, you're {age} old, {height} tall and {weight} heavy.\")"
   ]
  },
  {
   "cell_type": "code",
   "execution_count": 22,
   "metadata": {},
   "outputs": [
    {
     "name": "stdout",
     "output_type": "stream",
     "text": [
      "How old are you?\t"
     ]
    },
    {
     "name": "stdin",
     "output_type": "stream",
     "text": [
      " 11\n"
     ]
    },
    {
     "name": "stdout",
     "output_type": "stream",
     "text": [
      "How tall are you?"
     ]
    },
    {
     "name": "stdin",
     "output_type": "stream",
     "text": [
      " 11\n"
     ]
    },
    {
     "name": "stdout",
     "output_type": "stream",
     "text": [
      "How much do you weigh?|||"
     ]
    },
    {
     "name": "stdin",
     "output_type": "stream",
     "text": [
      " 11\n"
     ]
    },
    {
     "name": "stdout",
     "output_type": "stream",
     "text": [
      "So, you're 11 old, 11 tall and 11 heavy.\n"
     ]
    }
   ],
   "source": [
    "print(\"How old are you?\", end='\\t')\n",
    "age = input()\n",
    "print(\"How tall are you?\", end='')\n",
    "height = input()\n",
    "print(\"How much do you weigh?\", end='|||')\n",
    "weight = input()\n",
    "\n",
    "print(f\"So, you're {age} old, {height} tall and {weight} heavy.\")"
   ]
  },
  {
   "cell_type": "code",
   "execution_count": 23,
   "metadata": {},
   "outputs": [
    {
     "name": "stdout",
     "output_type": "stream",
     "text": [
      "How old are you?\n"
     ]
    },
    {
     "name": "stdin",
     "output_type": "stream",
     "text": [
      " 11\n"
     ]
    },
    {
     "name": "stdout",
     "output_type": "stream",
     "text": [
      "How tall are you?\n",
      "\n"
     ]
    },
    {
     "name": "stdin",
     "output_type": "stream",
     "text": [
      " 11\n"
     ]
    },
    {
     "name": "stdout",
     "output_type": "stream",
     "text": [
      "How much do you weigh?\n",
      "|||"
     ]
    },
    {
     "name": "stdin",
     "output_type": "stream",
     "text": [
      " 11\n"
     ]
    },
    {
     "name": "stdout",
     "output_type": "stream",
     "text": [
      "So, you're 11 old, 11 tall and 11 heavy.\n"
     ]
    }
   ],
   "source": [
    "print(\"How old are you?\",)\n",
    "age = input()\n",
    "print(\"How tall are you?\", end='\\n\\n')\n",
    "height = input()\n",
    "print(\"How much do you weigh?\", end='\\n|||')\n",
    "weight = input()\n",
    "\n",
    "print(f\"So, you're {age} old, {height} tall and {weight} heavy.\")"
   ]
  },
  {
   "cell_type": "code",
   "execution_count": 24,
   "metadata": {},
   "outputs": [
    {
     "name": "stdout",
     "output_type": "stream",
     "text": [
      "C:\\ProgramData\\Anaconda3\\lib\\site-packages\\ipykernel_launcher.py\n",
      "-f C:\\Users\\Ludy\\AppData\\Roaming\\jupyter\\runtime\\kernel-ea2f3652-1c86-4a6b-ba90-59e4df2531b2.json\n"
     ]
    }
   ],
   "source": [
    "from sys import argv\n",
    "script, th1 ,nd2 = argv\n",
    "print(script)\n",
    "print(th1,nd2)"
   ]
  },
  {
   "cell_type": "code",
   "execution_count": 25,
   "metadata": {},
   "outputs": [
    {
     "ename": "ValueError",
     "evalue": "not enough values to unpack (expected 4, got 3)",
     "output_type": "error",
     "traceback": [
      "\u001b[1;31m---------------------------------------------------------------------------\u001b[0m",
      "\u001b[1;31mValueError\u001b[0m                                Traceback (most recent call last)",
      "\u001b[1;32m<ipython-input-25-9b7d3508aacb>\u001b[0m in \u001b[0;36m<module>\u001b[1;34m\u001b[0m\n\u001b[1;32m----> 1\u001b[1;33m \u001b[0mscript\u001b[0m\u001b[1;33m,\u001b[0m \u001b[0mth1\u001b[0m \u001b[1;33m,\u001b[0m\u001b[0mnd2\u001b[0m \u001b[1;33m,\u001b[0m\u001b[0mrd3\u001b[0m \u001b[1;33m=\u001b[0m \u001b[0margv\u001b[0m\u001b[1;33m\u001b[0m\u001b[1;33m\u001b[0m\u001b[0m\n\u001b[0m\u001b[0;32m      2\u001b[0m \u001b[0mprint\u001b[0m\u001b[1;33m(\u001b[0m\u001b[0mscript\u001b[0m\u001b[1;33m)\u001b[0m\u001b[1;33m\u001b[0m\u001b[1;33m\u001b[0m\u001b[0m\n\u001b[0;32m      3\u001b[0m \u001b[0mprint\u001b[0m\u001b[1;33m(\u001b[0m\u001b[0mth1\u001b[0m\u001b[1;33m,\u001b[0m\u001b[0mnd2\u001b[0m\u001b[1;33m)\u001b[0m\u001b[1;33m\u001b[0m\u001b[1;33m\u001b[0m\u001b[0m\n",
      "\u001b[1;31mValueError\u001b[0m: not enough values to unpack (expected 4, got 3)"
     ]
    }
   ],
   "source": [
    "script, th1 ,nd2 ,rd3 = argv\n",
    "print(script)\n",
    "print(th1,nd2)"
   ]
  },
  {
   "cell_type": "code",
   "execution_count": 26,
   "metadata": {},
   "outputs": [
    {
     "data": {
      "text/html": [
       "<div>\n",
       "<style scoped>\n",
       "    .dataframe tbody tr th:only-of-type {\n",
       "        vertical-align: middle;\n",
       "    }\n",
       "\n",
       "    .dataframe tbody tr th {\n",
       "        vertical-align: top;\n",
       "    }\n",
       "\n",
       "    .dataframe thead th {\n",
       "        text-align: right;\n",
       "    }\n",
       "</style>\n",
       "<table border=\"1\" class=\"dataframe\">\n",
       "  <thead>\n",
       "    <tr style=\"text-align: right;\">\n",
       "      <th></th>\n",
       "      <th>votes</th>\n",
       "      <th>name</th>\n",
       "      <th>seen</th>\n",
       "      <th>star</th>\n",
       "      <th>date</th>\n",
       "      <th>text</th>\n",
       "    </tr>\n",
       "  </thead>\n",
       "  <tbody>\n",
       "    <tr>\n",
       "      <th>0</th>\n",
       "      <td>260</td>\n",
       "      <td>____anybody</td>\n",
       "      <td>看过</td>\n",
       "      <td>推荐</td>\n",
       "      <td>2019-09-11 04:49:11</td>\n",
       "      <td>没错，在影片的前中后，我的菊花分别为剧情紧了三次。</td>\n",
       "    </tr>\n",
       "    <tr>\n",
       "      <th>1</th>\n",
       "      <td>116</td>\n",
       "      <td>瓦力</td>\n",
       "      <td>看过</td>\n",
       "      <td>推荐</td>\n",
       "      <td>2019-12-08 15:27:16</td>\n",
       "      <td>“霍金夫妇”的天空大冒险...本片可与《搏击太空》、《登月第一人》组成“人类升空进击三部曲”...</td>\n",
       "    </tr>\n",
       "    <tr>\n",
       "      <th>2</th>\n",
       "      <td>214</td>\n",
       "      <td>Maggie_in_LA</td>\n",
       "      <td>看过</td>\n",
       "      <td>还行</td>\n",
       "      <td>2019-10-08 15:41:00</td>\n",
       "      <td>这个片子虽然有的情节惊心动魄，画面也很美，但全程其实挺可笑的。看多了那种NASA在太空中的历...</td>\n",
       "    </tr>\n",
       "    <tr>\n",
       "      <th>3</th>\n",
       "      <td>185</td>\n",
       "      <td>花袭人</td>\n",
       "      <td>看过</td>\n",
       "      <td>还行</td>\n",
       "      <td>2019-12-12 18:58:00</td>\n",
       "      <td>在电影院看观感蛮好的，高空景致壮美，热气球独有的危险和挑战也挺抓人的，影片的长度跟热气球在空...</td>\n",
       "    </tr>\n",
       "    <tr>\n",
       "      <th>4</th>\n",
       "      <td>111</td>\n",
       "      <td>HarperDie</td>\n",
       "      <td>看过</td>\n",
       "      <td>推荐</td>\n",
       "      <td>2019-09-20 13:39:13</td>\n",
       "      <td>我相信埃迪·雷德梅恩在接下这个本子的时候，就笃定了要与导演汤姆·哈伯一起成就第一主角菲丽希缇...</td>\n",
       "    </tr>\n",
       "    <tr>\n",
       "      <th>...</th>\n",
       "      <td>...</td>\n",
       "      <td>...</td>\n",
       "      <td>...</td>\n",
       "      <td>...</td>\n",
       "      <td>...</td>\n",
       "      <td>...</td>\n",
       "    </tr>\n",
       "    <tr>\n",
       "      <th>195</th>\n",
       "      <td>0</td>\n",
       "      <td>寡狗</td>\n",
       "      <td>看过</td>\n",
       "      <td>推荐</td>\n",
       "      <td>2020-11-16 01:19:59</td>\n",
       "      <td>正因为有人能不顾生命安全也要去超越那些被人认为不可能的事，才是人类最伟大的特质，男主一度被老...</td>\n",
       "    </tr>\n",
       "    <tr>\n",
       "      <th>196</th>\n",
       "      <td>1</td>\n",
       "      <td>sickboy</td>\n",
       "      <td>看过</td>\n",
       "      <td>推荐</td>\n",
       "      <td>2019-12-17 10:08:35</td>\n",
       "      <td>電影院</td>\n",
       "    </tr>\n",
       "    <tr>\n",
       "      <th>197</th>\n",
       "      <td>0</td>\n",
       "      <td>球场终结者行云</td>\n",
       "      <td>看过</td>\n",
       "      <td>推荐</td>\n",
       "      <td>2020-11-13 19:13:10</td>\n",
       "      <td>3.5星。周五下午在一个银幕脏兮兮环境像80年代录像厅般的效区影院看的（20元票价还要啥自行...</td>\n",
       "    </tr>\n",
       "    <tr>\n",
       "      <th>198</th>\n",
       "      <td>0</td>\n",
       "      <td>基瑞尔</td>\n",
       "      <td>看过</td>\n",
       "      <td>推荐</td>\n",
       "      <td>2019-12-20 12:32:12</td>\n",
       "      <td>大概是Amazon命中无“爆”运，其实是故事振奋人心也足够在视觉上达到出色的电影，但却再次沦...</td>\n",
       "    </tr>\n",
       "    <tr>\n",
       "      <th>199</th>\n",
       "      <td>1</td>\n",
       "      <td>一个裤头的诞生</td>\n",
       "      <td>看过</td>\n",
       "      <td>还行</td>\n",
       "      <td>2020-01-01 22:52:59</td>\n",
       "      <td>埃迪和菲丽希缇两位几乎成了传记片专业户，表演还是发挥稳定的，片尾曲 Home To You ...</td>\n",
       "    </tr>\n",
       "  </tbody>\n",
       "</table>\n",
       "<p>200 rows × 6 columns</p>\n",
       "</div>"
      ],
      "text/plain": [
       "     votes          name seen star                 date  \\\n",
       "0      260   ____anybody   看过   推荐  2019-09-11 04:49:11   \n",
       "1      116            瓦力   看过   推荐  2019-12-08 15:27:16   \n",
       "2      214  Maggie_in_LA   看过   还行  2019-10-08 15:41:00   \n",
       "3      185           花袭人   看过   还行  2019-12-12 18:58:00   \n",
       "4      111     HarperDie   看过   推荐  2019-09-20 13:39:13   \n",
       "..     ...           ...  ...  ...                  ...   \n",
       "195      0            寡狗   看过   推荐  2020-11-16 01:19:59   \n",
       "196      1       sickboy   看过   推荐  2019-12-17 10:08:35   \n",
       "197      0       球场终结者行云   看过   推荐  2020-11-13 19:13:10   \n",
       "198      0           基瑞尔   看过   推荐  2019-12-20 12:32:12   \n",
       "199      1       一个裤头的诞生   看过   还行  2020-01-01 22:52:59   \n",
       "\n",
       "                                                  text  \n",
       "0                            没错，在影片的前中后，我的菊花分别为剧情紧了三次。  \n",
       "1    “霍金夫妇”的天空大冒险...本片可与《搏击太空》、《登月第一人》组成“人类升空进击三部曲”...  \n",
       "2    这个片子虽然有的情节惊心动魄，画面也很美，但全程其实挺可笑的。看多了那种NASA在太空中的历...  \n",
       "3    在电影院看观感蛮好的，高空景致壮美，热气球独有的危险和挑战也挺抓人的，影片的长度跟热气球在空...  \n",
       "4    我相信埃迪·雷德梅恩在接下这个本子的时候，就笃定了要与导演汤姆·哈伯一起成就第一主角菲丽希缇...  \n",
       "..                                                 ...  \n",
       "195  正因为有人能不顾生命安全也要去超越那些被人认为不可能的事，才是人类最伟大的特质，男主一度被老...  \n",
       "196                                                電影院  \n",
       "197  3.5星。周五下午在一个银幕脏兮兮环境像80年代录像厅般的效区影院看的（20元票价还要啥自行...  \n",
       "198  大概是Amazon命中无“爆”运，其实是故事振奋人心也足够在视觉上达到出色的电影，但却再次沦...  \n",
       "199  埃迪和菲丽希缇两位几乎成了传记片专业户，表演还是发挥稳定的，片尾曲 Home To You ...  \n",
       "\n",
       "[200 rows x 6 columns]"
      ]
     },
     "execution_count": 26,
     "metadata": {},
     "output_type": "execute_result"
    }
   ],
   "source": [
    "import pandas as pd\n",
    "\n",
    "csv = pd.read_csv('douban/movie_comments.csv')\n",
    "\n",
    "csv"
   ]
  },
  {
   "cell_type": "code",
   "execution_count": 27,
   "metadata": {},
   "outputs": [
    {
     "data": {
      "text/plain": [
       "202011211635"
      ]
     },
     "execution_count": 27,
     "metadata": {},
     "output_type": "execute_result"
    }
   ],
   "source": [
    "202011211635"
   ]
  },
  {
   "cell_type": "code",
   "execution_count": 1,
   "metadata": {},
   "outputs": [],
   "source": [
    "import numpy as np\n",
    "import PIL.Image as Image\n",
    "import os\n",
    "import math\n",
    "# import video_sequence_convertion\n",
    "\n",
    "global js  # 记录下一个图片名字的变量,本程序中不应大于9999\n",
    "global js_dot\n",
    "sampling_rate = 1000\n",
    "background_color = (50, 50, 70)\n",
    "path = 'D:\\\\draw_flag'\n",
    "# vec = ((0,0),)\n",
    "vec = ((-1, 0), (1, 0), (0, 1), (0, -1), (-2, -1), (2, 1),\n",
    "       (2, -1), (-2, 1), (-1, -2), (1, 2), (1, -2), (-1, 2), (0, 0))\n",
    "vec0 = ((-1, 0), (1, 0), (0, 1), (0, -1))\n",
    "# vec = ((-1, 0), (1, 0), (0, 1), (0, -1), (0, 0))\n",
    "\n",
    "\n",
    "def vec_plus(a, b) -> tuple:\n",
    "    x = a[0] + b[0]\n",
    "    y = a[1] + b[1]\n",
    "    return (x, y)\n",
    "\n",
    "\n",
    "def vec_substract(a, b) -> tuple:\n",
    "    x = a[0] - b[0]\n",
    "    y = a[1] - b[1]\n",
    "    return (x, y)\n",
    "\n",
    "\n",
    "def bfs(a, d, color, bk_color=background_color):\n",
    "    global js\n",
    "    q = []\n",
    "    q.append(d)\n",
    "    tail = 1\n",
    "    head = 0\n",
    "    draw_dot(a, q[head], color, print_mode='block')\n",
    "    while (head < tail):\n",
    "        for k in range(len(vec0)):\n",
    "            d = vec_plus(q[head], vec0[k])\n",
    "            if (a[d[0], d[1], 0] == bk_color[0]) and (a[d[0], d[1], 1] == bk_color[1]) and (a[d[0], d[1], 2] == bk_color[2]):\n",
    "                q.append(d)\n",
    "                draw_dot(a, d, color, 'block')\n",
    "                tail += 1\n",
    "            d = vec_substract(q[head], vec0[k])\n",
    "        head += 1\n",
    "    save_img(a, js, path)\n",
    "\n",
    "\n",
    "def bfs2(a, d, color, bk_color=background_color):\n",
    "    global js\n",
    "    q = []\n",
    "    q.append(d)\n",
    "    tail = 1\n",
    "    head = 0\n",
    "    draw_dot(a, q[head], color)\n",
    "    v = np.zeros((a.shape[0], a.shape[1]), dtype='bool')\n",
    "    v[d[0], d[1]] = True\n",
    "    for i in range(a.shape[0]):\n",
    "        for j in range(a.shape[1]):\n",
    "            if (a[i, j, 0] == bk_color[0] and a[i, j, 1] == bk_color[1] and a[i, j, 2] == bk_color[2]):\n",
    "                v[i, j] = True\n",
    "    while (head < tail):\n",
    "        for k in range(len(vec0)):\n",
    "            d = vec_plus(q[head], vec0[k])\n",
    "            if (not v[d[0], d[1]]):\n",
    "                q.append(d)\n",
    "                draw_dot(a, d, color)\n",
    "                tail += 1\n",
    "                v[d[0], d[1]] = True\n",
    "            d = vec_substract(q[head], vec0[k])\n",
    "        head += 1\n",
    "    save_img(a, js, path)\n",
    "\n",
    "\n",
    "def save_img(x, file_name: int, file_loc: str):\n",
    "    if not os.path.exists(file_loc):\n",
    "        os.makedirs(file_loc)\n",
    "    img = Image.fromarray(x)\n",
    "    file_path = file_loc + '\\\\'\n",
    "    if file_name < 1000:\n",
    "        file_path += '0'\n",
    "    if file_name < 100:\n",
    "        file_path += '0'\n",
    "    if file_name < 10:\n",
    "        file_path += '0'\n",
    "    file_path += str(file_name) + '.png'\n",
    "    img.save(fp=file_path)\n",
    "    global js\n",
    "    js += 1\n",
    "\n",
    "\n",
    "def get_step(x, y) -> int:\n",
    "    if x <= y:\n",
    "        return 1\n",
    "    else:\n",
    "        return -1\n",
    "\n",
    "\n",
    "def draw_line_vertical(a, d0, d1, color):\n",
    "    global js\n",
    "    step = get_step(d0[1], d1[1])\n",
    "    for k in range(len(vec)):\n",
    "        d0 = vec_plus(d0, vec[k])\n",
    "        d1 = vec_plus(d1, vec[k])\n",
    "        for j in range(d0[1], d1[1]+1, step):\n",
    "            draw_dot(a, (j, d0[0]), color)\n",
    "        d0 = vec_substract(d0, vec[k])\n",
    "        d1 = vec_substract(d1, vec[k])\n",
    "    save_img(a, js, path)\n",
    "\n",
    "\n",
    "def draw_line_vertical2(a, d0, d1, color):\n",
    "    step0 = get_step(d0[0], d1[0])\n",
    "    k_rate = float(d1[0]-d0[0])/(d1[1]-d0[1])\n",
    "    for k in range(len(vec)):\n",
    "        d0 = vec_plus(d0, vec[k])\n",
    "        d1 = vec_plus(d1, vec[k])\n",
    "        for i in range(d0[1]-1, d1[1]+1, step0):\n",
    "            tp0 = int(k_rate*(i-0-d0[1]))+d0[0]\n",
    "            tp1 = math.ceil(k_rate*(i+1-d0[1]))+d0[0]\n",
    "            tp2 = int(k_rate*(i+1-d0[1]))+d0[0]\n",
    "            tp3 = math.ceil(k_rate*(i-0-d0[1]))+d0[0]\n",
    "            mi = min(tp0, tp1, tp2, tp3)\n",
    "            ma = max(tp0, tp1, tp2, tp3)\n",
    "            tp0 = mi\n",
    "            tp1 = ma\n",
    "            step1 = get_step(tp0, tp1)\n",
    "            for j in range(tp0, tp1+1, step1):\n",
    "                draw_dot(a, (j, i), color)\n",
    "        d0 = vec_substract(d0, vec[k])\n",
    "        d1 = vec_substract(d1, vec[k])\n",
    "    save_img(a, js, path)\n",
    "\n",
    "\n",
    "def draw_line(a, d0, d1, color):\n",
    "    global js\n",
    "    if d1[0]-d0[0] == 0:\n",
    "        draw_line_vertical(a, d0, d1, color)\n",
    "        return\n",
    "    step0 = get_step(d0[0], d1[0])\n",
    "    k_rate = float(d1[1]-d0[1])/(d1[0]-d0[0])\n",
    "    if (k_rate > 8 or k_rate < -8):\n",
    "        if k_rate > 0:\n",
    "            draw_line_vertical(a, d0, d1, color)\n",
    "        else:\n",
    "            draw_line_vertical(a, d1, d0, color)\n",
    "        return\n",
    "    for k in range(len(vec)):\n",
    "        d0 = vec_plus(d0, vec[k])\n",
    "        d1 = vec_plus(d1, vec[k])\n",
    "        for i in range(d0[0]-1, d1[0]+1, step0):\n",
    "            tp0 = int(k_rate*(i-0-d0[0]))+d0[1]\n",
    "            tp1 = math.ceil(k_rate*(i+1-d0[0]))+d0[1]\n",
    "            tp2 = int(k_rate*(i+1-d0[0]))+d0[1]\n",
    "            tp3 = math.ceil(k_rate*(i-0-d0[0]))+d0[1]\n",
    "            mi = min(tp0, tp1, tp2, tp3)\n",
    "            ma = max(tp0, tp1, tp2, tp3)\n",
    "            tp0 = mi\n",
    "            tp1 = ma\n",
    "            step1 = get_step(tp0, tp1)\n",
    "            for j in range(tp0, tp1+1, step1):\n",
    "                draw_dot(a, (j, i), color)\n",
    "        d0 = vec_substract(d0, vec[k])\n",
    "        d1 = vec_substract(d1, vec[k])\n",
    "    save_img(a, js, path)\n",
    "\n",
    "\n",
    "def draw_star(a, d, r, phase=-1/2*math.pi, color=(255, 255, 0)):\n",
    "    dot = []\n",
    "    for i in range(5):\n",
    "        theta = phase + i/5*2*math.pi\n",
    "        x = int(math.cos(theta)*r) + d[1]\n",
    "        y = int(math.sin(theta)*r) + d[0]\n",
    "        dot.append((x, y))\n",
    "    draw_line(a, dot[0], dot[2], color)\n",
    "    draw_line(a, dot[0], dot[3], color)\n",
    "    draw_line(a, dot[1], dot[3], color)\n",
    "    draw_line(a, dot[1], dot[4], color)\n",
    "    draw_line(a, dot[2], dot[4], color)\n",
    "\n",
    "\n",
    "def draw_dot(a, d, color, print_mode='line'):\n",
    "    global js_dot, js\n",
    "    for i in range(3):\n",
    "        a[d[0], d[1], i] = color[i]\n",
    "    js_dot += 1\n",
    "    if js_dot % sampling_rate == 0:\n",
    "        if print_mode == 'line':\n",
    "            save_img(a, js, path)\n",
    "        elif print_mode == 'block':\n",
    "            if js_dot % (sampling_rate*25) == 0:\n",
    "                save_img(a, js, path)\n",
    "\n",
    "\n",
    "if __name__ == '__main__':\n",
    "    a = np.zeros((1080, 1920, 3), dtype='uint8') #更改输出大小\n",
    "    for i in range(3):\n",
    "        a[:, :, i] = background_color[i]\n",
    "    global js, js_dot\n",
    "    js = 0\n",
    "    js_dot = 0\n",
    "\n",
    "    x0 = a.shape[1] // 10\n",
    "    y0 = a.shape[0] * 9 // 10\n",
    "    h = a.shape[0] * 8 // 10\n",
    "    w = h // 2 * 3\n",
    "    x1 = x0 + w\n",
    "    y1 = y0 - h\n",
    "    draw_line(a, (x0, y0), (x0, y1), (255, 255, 255))\n",
    "    draw_line(a, (x0, y1), (x1, y1), (255, 255, 255))\n",
    "    draw_line(a, (x1, y1), (x1, y0), (255, 255, 255))\n",
    "    draw_line(a, (x1, y0), (x0, y0), (255, 255, 255))\n",
    "\n",
    "    big_star_r = h*3/20\n",
    "    big_star = (int(h*5/20)+y1, int(h*5/20)+x0)\n",
    "    little_star_r = h/20\n",
    "    little_star = []\n",
    "    phases = []\n",
    "    little_star.append((int(h*2/20)+y1, int(h*10/20)+x0))\n",
    "    phases.append(-math.atan(3/5)-1/2*math.pi)\n",
    "    little_star.append((int(h*9/20)+y1, int(h*10/20)+x0))\n",
    "    phases.append(-math.atan(5/4))\n",
    "    little_star.append((int(h*4/20)+y1, int(h*12/20)+x0))\n",
    "    phases.append(-math.pi+math.atan(7))\n",
    "    little_star.append((int(h*7/20)+y1, int(h*12/20)+x0))\n",
    "    phases.append(-math.atan(7/2))\n",
    "    draw_star(a, big_star, big_star_r)\n",
    "    for i in range(4):\n",
    "        draw_star(a, little_star[i], little_star_r,\n",
    "                  phase=-1/2*math.pi+phases[i])\n",
    "#     bfs(a, (y0-5, x0+5), (255, 0, 0))\n",
    "#     bfs2(a, big_star, (255, 255, 0), (255, 0, 0))\n",
    "#     for i in range(4):\n",
    "#         bfs2(a, little_star[i], (255, 255, 0), (255, 0, 0))\n",
    "    save_img(a,1,'./')"
   ]
  },
  {
   "cell_type": "code",
   "execution_count": 2,
   "metadata": {},
   "outputs": [
    {
     "data": {
      "image/png": "[encoded data removed]",
      "text/plain": [
       "<Figure size 432x288 with 1 Axes>"
      ]
     },
     "metadata": {
      "needs_background": "light"
     },
     "output_type": "display_data"
    }
   ],
   "source": [
    "import cv2\n",
    "from  matplotlib import pyplot as plt\n",
    "img = cv2.imread('./0001.png')\n",
    "img2 = img[:,:,::-1]\n",
    "plt.imshow(img2)\n",
    "plt.show()"
   ]
  },
  {
   "cell_type": "code",
   "execution_count": null,
   "metadata": {},
   "outputs": [],
   "source": []
  }
 ],
 "metadata": {
  "kernelspec": {
   "display_name": "Python 3",
   "language": "python",
   "name": "python3"
  },
  "language_info": {
   "codemirror_mode": {
    "name": "ipython",
    "version": 3
   },
   "file_extension": ".py",
   "mimetype": "text/x-python",
   "name": "python",
   "nbconvert_exporter": "python",
   "pygments_lexer": "ipython3",
   "version": "3.7.4"
  }
 },
 "nbformat": 4,
 "nbformat_minor": 4
}
