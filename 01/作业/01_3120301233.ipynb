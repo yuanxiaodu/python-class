{
 "cells": [
  {
   "cell_type": "code",
   "execution_count": null,
   "metadata": {},
   "outputs": [],
   "source": [
    "print('Hello,python')"
   ]
  },
  {
   "cell_type": "code",
   "execution_count": null,
   "metadata": {},
   "outputs": [],
   "source": [
    "def greet_user():\n",
    "    a=input('Can you say a sentence to the python?')\n",
    "    print(f'I want to say {a}')\n",
    "greet_user()"
   ]
  },
  {
   "cell_type": "code",
   "execution_count": null,
   "metadata": {},
   "outputs": [],
   "source": [
    "life is short, i use python"
   ]
  },
  {
   "cell_type": "code",
   "execution_count": null,
   "metadata": {},
   "outputs": [],
   "source": [
    "def greet_user(username):\n",
    "    print(f'my favorite pop star is {username.title()}')\n",
    "greet_user('cheng long')"
   ]
  },
  {
   "cell_type": "code",
   "execution_count": null,
   "metadata": {},
   "outputs": [],
   "source": [
    "greet_user(zhang jike)"
   ]
  },
  {
   "cell_type": "code",
   "execution_count": null,
   "metadata": {},
   "outputs": [],
   "source": [
    "def star_country(country,shengfen):\n",
    "    a=input(\"Can you list a star's information?\")\n",
    "    print(f'\\n{a.title()} is '+shengfen+' of '+country)\n",
    "star_country('USA','Washondong')"
   ]
  },
  {
   "cell_type": "code",
   "execution_count": null,
   "metadata": {},
   "outputs": [],
   "source": [
    "with open('pi.txt') as now_project:\n",
    "    a=now_project.read()\n",
    "    print(a)\n",
    "    "
   ]
  },
  {
   "cell_type": "code",
   "execution_count": null,
   "metadata": {},
   "outputs": [],
   "source": [
    "with open('untitled2.txt') as now_project:\n",
    "    a=now_project.read()\n",
    "    print(a.rstrip())"
   ]
  },
  {
   "cell_type": "code",
   "execution_count": null,
   "metadata": {},
   "outputs": [],
   "source": [
    "\"\"\"处理错误异常\"\"\"\n",
    "print(5/0)"
   ]
  },
  {
   "cell_type": "code",
   "execution_count": null,
   "metadata": {},
   "outputs": [],
   "source": [
    "try:\n",
    "    print(5/0)\n",
    "except ZeroDivisionError:\n",
    "    print(\"you cant' divide by zero\")"
   ]
  },
  {
   "cell_type": "code",
   "execution_count": null,
   "metadata": {},
   "outputs": [],
   "source": [
    "print('Please give me two numbers, I will divide them!')\n",
    "print(\"Enter 'q'to quit\")\n",
    "while True:\n",
    "    number1=input('\\nfirst number: ')\n",
    "    if number1=='q':\n",
    "        break\n",
    "    number2=input('\\nsecond number: ')\n",
    "    if number2=='q':\n",
    "        break\n",
    "    try:\n",
    "        answer=int(number1)/int(number2)\n",
    "    except ZeroDivisionError:\n",
    "        print('you can not divide zero!')\n",
    "    else:\n",
    "        print(answer)\n",
    "    "
   ]
  },
  {
   "cell_type": "code",
   "execution_count": null,
   "metadata": {},
   "outputs": [],
   "source": [
    "print('cad')"
   ]
  },
  {
   "cell_type": "code",
   "execution_count": null,
   "metadata": {},
   "outputs": [],
   "source": [
    "print('dwa')"
   ]
  },
  {
   "cell_type": "code",
   "execution_count": null,
   "metadata": {},
   "outputs": [],
   "source": [
    "fiction='Alice in wonderland'\n",
    "print(fiction.split())"
   ]
  },
  {
   "cell_type": "code",
   "execution_count": null,
   "metadata": {},
   "outputs": [],
   "source": [
    "with open('untitled2.txt') as fic:\n",
    "    num=fic.read()\n",
    "    num1=num.split()\n",
    "    words=len(num1)\n",
    "    print('the totall numbers are '+str(words))"
   ]
  },
  {
   "cell_type": "code",
   "execution_count": null,
   "metadata": {},
   "outputs": [],
   "source": [
    "def word_num(filename):\n",
    "    with open(filename) as fic:\n",
    "        num=fic.read()\n",
    "        num1=num.split()\n",
    "        words=len(num1)\n",
    "        print('the totall numbers are '+str(words))\n",
    "filename='untitled2.txt'\n",
    "word_num(filename)"
   ]
  },
  {
   "cell_type": "code",
   "execution_count": null,
   "metadata": {},
   "outputs": [],
   "source": [
    "import this"
   ]
  },
  {
   "cell_type": "code",
   "execution_count": null,
   "metadata": {},
   "outputs": [],
   "source": [
    "#python 之禅\n",
    "import this"
   ]
  },
  {
   "cell_type": "code",
   "execution_count": null,
   "metadata": {},
   "outputs": [],
   "source": [
    "print('this')"
   ]
  },
  {
   "cell_type": "code",
   "execution_count": null,
   "metadata": {},
   "outputs": [],
   "source": [
    "cars=['benz','BMW','Toyot','audi']\n",
    "for car in cars:\n",
    "    print('The '+car.title()+' is too expensive!')"
   ]
  },
  {
   "cell_type": "code",
   "execution_count": null,
   "metadata": {},
   "outputs": [],
   "source": [
    "range(1,6)"
   ]
  },
  {
   "cell_type": "code",
   "execution_count": null,
   "metadata": {},
   "outputs": [],
   "source": [
    "print(range(1,6))"
   ]
  },
  {
   "cell_type": "code",
   "execution_count": null,
   "metadata": {},
   "outputs": [],
   "source": [
    "nums=range(1,6)\n",
    "for num in nums:\n",
    "    print(num)"
   ]
  },
  {
   "cell_type": "code",
   "execution_count": null,
   "metadata": {},
   "outputs": [],
   "source": [
    "print(list(range(1,6)))"
   ]
  },
  {
   "cell_type": "code",
   "execution_count": null,
   "metadata": {},
   "outputs": [],
   "source": [
    "square=[]\n",
    "for num in range(1,6):\n",
    "    square.append(num**2)\n",
    "    print(square)"
   ]
  },
  {
   "cell_type": "code",
   "execution_count": null,
   "metadata": {},
   "outputs": [],
   "source": [
    "square=[]\n",
    "for num in range(1,6):\n",
    "    square.append(num**2)\n",
    "print(square)"
   ]
  },
  {
   "cell_type": "code",
   "execution_count": null,
   "metadata": {},
   "outputs": [],
   "source": [
    "square=[]\n",
    "for num in range(1,6):\n",
    "    square.append(num**2)\n",
    "print(square[1:4])"
   ]
  },
  {
   "cell_type": "code",
   "execution_count": null,
   "metadata": {},
   "outputs": [],
   "source": [
    "print(（200,50）)"
   ]
  },
  {
   "cell_type": "code",
   "execution_count": null,
   "metadata": {},
   "outputs": [],
   "source": [
    "a=(50,20)\n",
    "print(a)"
   ]
  },
  {
   "cell_type": "code",
   "execution_count": null,
   "metadata": {},
   "outputs": [],
   "source": [
    "a=('daw','dwad','dwad')\n",
    "print(a)"
   ]
  },
  {
   "cell_type": "code",
   "execution_count": null,
   "metadata": {},
   "outputs": [],
   "source": [
    "a1=('daw','dwad','dwad')\n",
    "for a in a1:\n",
    "    print(a)\n",
    "#print(a)"
   ]
  },
  {
   "cell_type": "code",
   "execution_count": null,
   "metadata": {},
   "outputs": [],
   "source": [
    "fruits=['apple','pear','orange','banana','grape','mango']\n",
    "if 'apple' in fruits:\n",
    "    print('add tamata\\n')\n",
    "if 'pear' in fruits:\n",
    "    print('add bobo\\n')\n",
    "#else:\n",
    "   #print(fruits[0:2])\n",
    "print('finish the fruits')"
   ]
  },
  {
   "cell_type": "code",
   "execution_count": null,
   "metadata": {},
   "outputs": [],
   "source": [
    "fruits=['apple','pear','orange','banana','grape','mango']\n",
    "for fruit in fruits:\n",
    "    if fruit=='grape':\n",
    "        print('sorry,we dont have grape now!\\n')\n",
    "    else:\n",
    "        print(f'My favorite fruit is {fruit}')\n",
    "print('finish the fruits')"
   ]
  },
  {
   "cell_type": "code",
   "execution_count": null,
   "metadata": {},
   "outputs": [],
   "source": [
    "alien0={'x_position':0,'y_position':0,'speed':'fast'}\n",
    "print('original_x_position:',str(alien0['x_position']))\n",
    "if alien0['speed']=='slow':\n",
    "    x_increment=1\n",
    "elif alien0['speed']=='medium':\n",
    "    x_increment=2\n",
    "else:\n",
    "    x_increment=3\n",
    "alien0['x_position']=alien0['x_position']+x_increment\n",
    "print('now_x_position:',str(alien0['x_position']))"
   ]
  },
  {
   "cell_type": "code",
   "execution_count": null,
   "metadata": {},
   "outputs": [],
   "source": [
    "alien0={'x_position':0,'y_position':0,'speed':'fast'}\n",
    "for key,value in alien0:\n",
    "    print('key:',key)\n",
    "    print('value:',value)"
   ]
  },
  {
   "cell_type": "code",
   "execution_count": null,
   "metadata": {},
   "outputs": [],
   "source": [
    "alien0={'x_position':0,'y_position':0,'speed':'fast'}\n",
    "for key,value in alien0.items():\n",
    "    print('\\nkey:',key)\n",
    "    print('value:',value)"
   ]
  },
  {
   "cell_type": "code",
   "execution_count": null,
   "metadata": {},
   "outputs": [],
   "source": [
    "alien0={'x_position':0,'y_position':0,'speed':'fast'}\n",
    "for positon in alien0.keys():\n",
    "    print(positon.title())\n",
    "  "
   ]
  },
  {
   "cell_type": "code",
   "execution_count": 26,
   "metadata": {},
   "outputs": [
    {
     "name": "stdin",
     "output_type": "stream",
     "text": [
      "How tall are you? q\n",
      "How old are you? q\n"
     ]
    },
    {
     "ename": "ValueError",
     "evalue": "could not convert string to float: 'q'",
     "output_type": "error",
     "traceback": [
      "\u001b[1;31m---------------------------------------------------------------------------\u001b[0m",
      "\u001b[1;31mValueError\u001b[0m                                Traceback (most recent call last)",
      "\u001b[1;32m<ipython-input-26-7e5913000e01>\u001b[0m in \u001b[0;36m<module>\u001b[1;34m\u001b[0m\n\u001b[0;32m      1\u001b[0m \u001b[0mheight\u001b[0m\u001b[1;33m=\u001b[0m\u001b[0minput\u001b[0m\u001b[1;33m(\u001b[0m\u001b[1;34m'How tall are you?'\u001b[0m\u001b[1;33m)\u001b[0m\u001b[1;33m\u001b[0m\u001b[1;33m\u001b[0m\u001b[0m\n\u001b[0;32m      2\u001b[0m \u001b[0mage\u001b[0m\u001b[1;33m=\u001b[0m\u001b[0minput\u001b[0m\u001b[1;33m(\u001b[0m\u001b[1;34m'How old are you?'\u001b[0m\u001b[1;33m)\u001b[0m\u001b[1;33m\u001b[0m\u001b[1;33m\u001b[0m\u001b[0m\n\u001b[1;32m----> 3\u001b[1;33m \u001b[0mage\u001b[0m\u001b[1;33m=\u001b[0m\u001b[0mfloat\u001b[0m\u001b[1;33m(\u001b[0m\u001b[0mage\u001b[0m\u001b[1;33m)\u001b[0m\u001b[1;33m\u001b[0m\u001b[1;33m\u001b[0m\u001b[0m\n\u001b[0m\u001b[0;32m      4\u001b[0m \u001b[0mheight\u001b[0m\u001b[1;33m=\u001b[0m\u001b[0mfloat\u001b[0m\u001b[1;33m(\u001b[0m\u001b[0mheight\u001b[0m\u001b[1;33m)\u001b[0m\u001b[1;33m\u001b[0m\u001b[1;33m\u001b[0m\u001b[0m\n\u001b[0;32m      5\u001b[0m \u001b[1;32mif\u001b[0m \u001b[0mheight\u001b[0m\u001b[1;33m>=\u001b[0m\u001b[1;36m1.8\u001b[0m\u001b[1;33m:\u001b[0m\u001b[1;33m\u001b[0m\u001b[1;33m\u001b[0m\u001b[0m\n",
      "\u001b[1;31mValueError\u001b[0m: could not convert string to float: 'q'"
     ]
    }
   ],
   "source": [
    "height=input('How tall are you?')\n",
    "age=input('How old are you?')\n",
    "age=float(age)\n",
    "height=float(height)\n",
    "if height>=1.8:\n",
    "    print('You are so tall,mu le mu le.')\n",
    "elif height<1.8:\n",
    "    print('dunk')\n",
    "if age>=80:\n",
    "    print('Oh my god,crazy!')\n",
    "elif age<80:\n",
    "    print('so young')\n",
    "\n"
   ]
  },
  {
   "cell_type": "code",
   "execution_count": 27,
   "metadata": {},
   "outputs": [
    {
     "name": "stdin",
     "output_type": "stream",
     "text": [
      "\n",
      "Tell me one something,I will teach you to play games! (Enter 'q' to quit) qwd\n"
     ]
    },
    {
     "name": "stdout",
     "output_type": "stream",
     "text": [
      "qwd\n"
     ]
    },
    {
     "name": "stdin",
     "output_type": "stream",
     "text": [
      "\n",
      "Tell me one something,I will teach you to play games! (Enter 'q' to quit) dwa\n"
     ]
    },
    {
     "name": "stdout",
     "output_type": "stream",
     "text": [
      "dwa\n"
     ]
    },
    {
     "name": "stdin",
     "output_type": "stream",
     "text": [
      "\n",
      "Tell me one something,I will teach you to play games! (Enter 'q' to quit) q\n"
     ]
    },
    {
     "name": "stdout",
     "output_type": "stream",
     "text": [
      "q\n"
     ]
    }
   ],
   "source": [
    "inf='\\nTell me one something,I will teach you to play games!'\n",
    "inf+=\" (Enter 'q' to quit)\"\n",
    "message=''\n",
    "while message!='q':\n",
    "    message=input(inf)\n",
    "    print(message)\n",
    "\n"
   ]
  },
  {
   "cell_type": "code",
   "execution_count": 28,
   "metadata": {},
   "outputs": [
    {
     "name": "stdin",
     "output_type": "stream",
     "text": [
      "\n",
      "Tell me one something,I will teach you to play games! (Enter 'q' to quit) qwd\n"
     ]
    },
    {
     "name": "stdout",
     "output_type": "stream",
     "text": [
      "qwd\n"
     ]
    },
    {
     "name": "stdin",
     "output_type": "stream",
     "text": [
      "\n",
      "Tell me one something,I will teach you to play games! (Enter 'q' to quit) faf\n"
     ]
    },
    {
     "name": "stdout",
     "output_type": "stream",
     "text": [
      "faf\n"
     ]
    },
    {
     "name": "stdin",
     "output_type": "stream",
     "text": [
      "\n",
      "Tell me one something,I will teach you to play games! (Enter 'q' to quit) q\n"
     ]
    }
   ],
   "source": [
    "inf='\\nTell me one something,I will teach you to play games!'\n",
    "inf+=\" (Enter 'q' to quit)\"\n",
    "active=True\n",
    "while active:\n",
    "    message=input(inf)\n",
    "    if message=='q':\n",
    "        active=False\n",
    "    else:\n",
    "        print(message)\n",
    "        "
   ]
  },
  {
   "cell_type": "code",
   "execution_count": 29,
   "metadata": {},
   "outputs": [
    {
     "name": "stdout",
     "output_type": "stream",
     "text": [
      "the title is bad\n"
     ]
    }
   ],
   "source": [
    "print('the title is bad')"
   ]
  },
  {
   "cell_type": "code",
   "execution_count": 30,
   "metadata": {},
   "outputs": [
    {
     "name": "stdin",
     "output_type": "stream",
     "text": [
      "\n",
      "Tell me one something,I will teach you to play games! (Enter 'q' to quit) dwad\n"
     ]
    },
    {
     "name": "stdout",
     "output_type": "stream",
     "text": [
      "dwad\n"
     ]
    },
    {
     "name": "stdin",
     "output_type": "stream",
     "text": [
      "\n",
      "Tell me one something,I will teach you to play games! (Enter 'q' to quit) fef\n"
     ]
    },
    {
     "name": "stdout",
     "output_type": "stream",
     "text": [
      "fef\n"
     ]
    },
    {
     "name": "stdin",
     "output_type": "stream",
     "text": [
      "\n",
      "Tell me one something,I will teach you to play games! (Enter 'q' to quit) wq\n"
     ]
    },
    {
     "name": "stdout",
     "output_type": "stream",
     "text": [
      "wq\n"
     ]
    },
    {
     "name": "stdin",
     "output_type": "stream",
     "text": [
      "\n",
      "Tell me one something,I will teach you to play games! (Enter 'q' to quit) q\n"
     ]
    }
   ],
   "source": [
    "inf='\\nTell me one something,I will teach you to play games!'\n",
    "inf+=\" (Enter 'q' to quit)\"\n",
    "active=True\n",
    "while active:\n",
    "    message=input(inf)\n",
    "    if message=='q':\n",
    "        active=False\n",
    "    else:\n",
    "        print(message)"
   ]
  },
  {
   "cell_type": "code",
   "execution_count": 25,
   "metadata": {},
   "outputs": [
    {
     "name": "stdin",
     "output_type": "stream",
     "text": [
      "Please tell me one city that you love very much(Enter 'Japan' to quit) dong\n"
     ]
    },
    {
     "name": "stdout",
     "output_type": "stream",
     "text": [
      "My favorite city is Dong !\n"
     ]
    },
    {
     "name": "stdin",
     "output_type": "stream",
     "text": [
      "Please tell me one city that you love very much(Enter 'Japan' to quit) dai\n"
     ]
    },
    {
     "name": "stdout",
     "output_type": "stream",
     "text": [
      "My favorite city is Dai !\n"
     ]
    },
    {
     "name": "stdin",
     "output_type": "stream",
     "text": [
      "Please tell me one city that you love very much(Enter 'Japan' to quit) fa\n"
     ]
    },
    {
     "name": "stdout",
     "output_type": "stream",
     "text": [
      "My favorite city is Fa !\n"
     ]
    },
    {
     "name": "stdin",
     "output_type": "stream",
     "text": [
      "Please tell me one city that you love very much(Enter 'Japan' to quit) q\n"
     ]
    },
    {
     "name": "stdout",
     "output_type": "stream",
     "text": [
      "My favorite city is Q !\n"
     ]
    },
    {
     "name": "stdin",
     "output_type": "stream",
     "text": [
      "Please tell me one city that you love very much(Enter 'Japan' to quit) Japan\n"
     ]
    }
   ],
   "source": [
    "dnf='Please tell me one city that you love very much'\n",
    "dnf+=\"(Enter 'Japan' to quit)\"\n",
    "while True:\n",
    "    city=input(dnf)\n",
    "    if city=='Japan':\n",
    "        break\n",
    "    else:\n",
    "        print(f'My favorite city is {city.title()} !')"
   ]
  },
  {
   "cell_type": "code",
   "execution_count": 1,
   "metadata": {},
   "outputs": [
    {
     "name": "stdout",
     "output_type": "stream",
     "text": [
      "1\n",
      "3\n",
      "5\n",
      "7\n",
      "9\n",
      "11\n",
      "13\n"
     ]
    }
   ],
   "source": [
    "current_num=0\n",
    "while current_num<13:\n",
    "    current_num+=1\n",
    "    if current_num%2==0:\n",
    "        continue\n",
    "    else:\n",
    "        print(current_num)"
   ]
  },
  {
   "cell_type": "code",
   "execution_count": 3,
   "metadata": {},
   "outputs": [
    {
     "name": "stdin",
     "output_type": "stream",
     "text": [
      "What is your name? jack\n",
      "Which is your favorite mountanin? dwa\n",
      "Anyone else?(yes/no) tai hsan\n",
      "What is your name? caiw\n",
      "Which is your favorite mountanin? dwj\n",
      "Anyone else?(yes/no) no\n"
     ]
    },
    {
     "name": "stdout",
     "output_type": "stream",
     "text": [
      "-----Poll Results-----\n",
      "jack love dwa\n",
      "caiw love dwj\n"
     ]
    }
   ],
   "source": [
    "responses={}\n",
    "poll_yes=True\n",
    "while poll_yes:\n",
    "    name=input('What is your name?')\n",
    "    response=input('Which is your favorite mountanin?')\n",
    "    responses[name]=response\n",
    "    repeat=input(\"Anyone else?(yes/no)\")\n",
    "    if repeat=='no':\n",
    "        poll_yes=False\n",
    "print('-----Poll Results-----')\n",
    "for name,response in responses.items():\n",
    "    print(f'{name} love {response}')"
   ]
  },
  {
   "cell_type": "code",
   "execution_count": 1,
   "metadata": {},
   "outputs": [
    {
     "name": "stdin",
     "output_type": "stream",
     "text": [
      "What is your name? zhang jike\n",
      "Please tell me your identify dad\n",
      "Are you hansomer than Yuan xiangyu?(yes/no) yes\n"
     ]
    },
    {
     "name": "stdout",
     "output_type": "stream",
     "text": [
      "-----1101 connections-------\n",
      "zhang jike is Yuan xiangyu's dad!\n"
     ]
    }
   ],
   "source": [
    "famliy_connections={}\n",
    "be_dad=True\n",
    "while be_dad:\n",
    "    name=input(\"What is your name?\")\n",
    "    connection=input('Please tell me your identify')\n",
    "    famliy_connections[name]=connection\n",
    "    note=input('Are you hansomer than Yuan xiangyu?(yes/no)')\n",
    "    if note=='yes':\n",
    "        be_dad=False\n",
    "    else:\n",
    "        continue\n",
    "print('-----1101 connections-------')\n",
    "for name,connection in famliy_connections.items():\n",
    "    print(f\"{name} is Yuan xiangyu's {connection}!\")\n",
    "        \n",
    "        \n",
    "    "
   ]
  },
  {
   "cell_type": "code",
   "execution_count": 3,
   "metadata": {},
   "outputs": [
    {
     "name": "stdin",
     "output_type": "stream",
     "text": [
      "What is your name? zhangjike\n",
      "Please tell me your identify dad\n",
      "Are you hansomer than Yuan xiangyu?(yes/no) yes\n"
     ]
    },
    {
     "name": "stdout",
     "output_type": "stream",
     "text": [
      "-----1101 connections-------\n",
      "Zhangjike is Yuan xiangyu's Dad!\n"
     ]
    }
   ],
   "source": [
    "famliy_connections={}\n",
    "be_dad=True\n",
    "while be_dad:\n",
    "    name=input(\"What is your name?\")\n",
    "    connection=input('Please tell me your identify')\n",
    "    famliy_connections[name]=connection\n",
    "    note=input('Are you hansomer than Yuan xiangyu?(yes/no)')\n",
    "    if note=='yes':\n",
    "        be_dad=False\n",
    "    else:\n",
    "        continue\n",
    "print('-----1101 connections-------')\n",
    "for name,connection in famliy_connections.items():\n",
    "    print(f\"{name.title()} is Yuan xiangyu's {connection.title()}!\")"
   ]
  },
  {
   "cell_type": "code",
   "execution_count": 1,
   "metadata": {},
   "outputs": [
    {
     "name": "stdin",
     "output_type": "stream",
     "text": [
      "Please tell me your first name:  zhang\n",
      "Tell me your last name:  jike\n"
     ]
    },
    {
     "name": "stdout",
     "output_type": "stream",
     "text": [
      "Hello, Zhang Jike!\n"
     ]
    },
    {
     "name": "stdin",
     "output_type": "stream",
     "text": [
      "Please tell me your first name:  q\n"
     ]
    }
   ],
   "source": [
    "def full_name(first_name,last_name):\n",
    "    name=first_name+' '+last_name\n",
    "    return name.title()\n",
    "while True:\n",
    "    fir=input('Please tell me your first name: ')\n",
    "    if fir=='q':\n",
    "        break\n",
    "    las=input('Tell me your last name: ')\n",
    "    if las=='q':\n",
    "        break\n",
    "    fullname=full_name(fir,las)\n",
    "    print(f'Hello, {fullname}!')\n",
    "    "
   ]
  },
  {
   "cell_type": "code",
   "execution_count": 6,
   "metadata": {},
   "outputs": [
    {
     "name": "stdout",
     "output_type": "stream",
     "text": [
      "\n",
      "Make a pizza with the following toppings: \n",
      "-  carrot\n",
      "\n",
      "Make a pizza with the following toppings: \n",
      "-  dad\n",
      "-  dwadawd\n",
      "-  yiojfliwua\n"
     ]
    }
   ],
   "source": [
    "def makepizza(*menus):\n",
    "    print('\\nMake a pizza with the following toppings: ')\n",
    "    for menu in menus:\n",
    "        print('- ',menu)\n",
    "makepizza('carrot')\n",
    "makepizza('dad','dwadawd','yiojfliwua')"
   ]
  },
  {
   "cell_type": "code",
   "execution_count": 8,
   "metadata": {},
   "outputs": [
    {
     "name": "stdout",
     "output_type": "stream",
     "text": [
      "\n",
      "Make a pizza with the following toppings: \n",
      "-  carrot\n"
     ]
    }
   ],
   "source": [
    "from pizza import makepizza\n",
    "makepizza('carrot')\n",
    "    "
   ]
  },
  {
   "cell_type": "code",
   "execution_count": 11,
   "metadata": {},
   "outputs": [
    {
     "ename": "TypeError",
     "evalue": "Car() takes no arguments",
     "output_type": "error",
     "traceback": [
      "\u001b[1;31m---------------------------------------------------------------------------\u001b[0m",
      "\u001b[1;31mTypeError\u001b[0m                                 Traceback (most recent call last)",
      "\u001b[1;32m<ipython-input-11-0ed61dcd1b21>\u001b[0m in \u001b[0;36m<module>\u001b[1;34m\u001b[0m\n\u001b[0;32m      7\u001b[0m         \u001b[0mfull_name\u001b[0m\u001b[1;33m=\u001b[0m\u001b[1;34m'my '\u001b[0m\u001b[1;33m,\u001b[0m\u001b[0mself\u001b[0m\u001b[1;33m.\u001b[0m\u001b[0mmodel\u001b[0m\u001b[1;33m,\u001b[0m\u001b[1;34m' is '\u001b[0m\u001b[1;33m,\u001b[0m\u001b[0mself\u001b[0m\u001b[1;33m.\u001b[0m\u001b[0mmake\u001b[0m\u001b[1;33m,\u001b[0m\u001b[1;34m' in the'\u001b[0m\u001b[1;33m,\u001b[0m\u001b[0mstr\u001b[0m\u001b[1;33m(\u001b[0m\u001b[0mself\u001b[0m\u001b[1;33m.\u001b[0m\u001b[0myear\u001b[0m\u001b[1;33m)\u001b[0m\u001b[1;33m\u001b[0m\u001b[1;33m\u001b[0m\u001b[0m\n\u001b[0;32m      8\u001b[0m         \u001b[1;32mreturn\u001b[0m \u001b[0mfull_name\u001b[0m\u001b[1;33m\u001b[0m\u001b[1;33m\u001b[0m\u001b[0m\n\u001b[1;32m----> 9\u001b[1;33m \u001b[0mMycar\u001b[0m\u001b[1;33m=\u001b[0m\u001b[0mCar\u001b[0m\u001b[1;33m(\u001b[0m\u001b[1;34m'audi'\u001b[0m\u001b[1;33m,\u001b[0m\u001b[1;34m'a6'\u001b[0m\u001b[1;33m,\u001b[0m\u001b[1;36m2019\u001b[0m\u001b[1;33m)\u001b[0m\u001b[1;33m\u001b[0m\u001b[1;33m\u001b[0m\u001b[0m\n\u001b[0m\u001b[0;32m     10\u001b[0m \u001b[0mprint\u001b[0m\u001b[1;33m(\u001b[0m\u001b[0mMycar\u001b[0m\u001b[1;33m.\u001b[0m\u001b[0mmy_car\u001b[0m\u001b[1;33m(\u001b[0m\u001b[1;33m)\u001b[0m\u001b[1;33m)\u001b[0m\u001b[1;33m\u001b[0m\u001b[1;33m\u001b[0m\u001b[0m\n",
      "\u001b[1;31mTypeError\u001b[0m: Car() takes no arguments"
     ]
    }
   ],
   "source": [
    "class Car():\n",
    "    def _init_(self,make,model,year):\n",
    "        self.make=make\n",
    "        self.model=model\n",
    "        self.year=year\n",
    "    def my_car(self):\n",
    "        full_name='my ',self.model,' is ',self.make,' in the',str(self.year)\n",
    "        return full_name\n",
    "Mycar=Car('audi','a6',2019)\n",
    "print(Mycar.my_car())"
   ]
  },
  {
   "cell_type": "code",
   "execution_count": 21,
   "metadata": {},
   "outputs": [
    {
     "name": "stdout",
     "output_type": "stream",
     "text": [
      "audi my a6 love 2019\n"
     ]
    }
   ],
   "source": [
    "class Car():\n",
    "    def __init__(self,make,model,year):#注意这里的类 定义 是分别两个下划线不是一个\n",
    "        self.make=make\n",
    "        self.model=model\n",
    "        self.year=year\n",
    "    def my_car(self):\n",
    "        full_name=self.make+' my '+self.model+' love '+str(self.year)\n",
    "        return full_name\n",
    "Mycar=Car('audi','a6',2019)\n",
    "print(Mycar.my_car())"
   ]
  },
  {
   "cell_type": "code",
   "execution_count": 23,
   "metadata": {},
   "outputs": [
    {
     "ename": "ImportError",
     "evalue": "cannot import name 'full_name' from 'pizza' (C:\\Users\\hp\\pizza.py)",
     "output_type": "error",
     "traceback": [
      "\u001b[1;31m---------------------------------------------------------------------------\u001b[0m",
      "\u001b[1;31mImportError\u001b[0m                               Traceback (most recent call last)",
      "\u001b[1;32m<ipython-input-23-9667030f1844>\u001b[0m in \u001b[0;36m<module>\u001b[1;34m\u001b[0m\n\u001b[0;32m      1\u001b[0m \u001b[1;32mimport\u001b[0m \u001b[0munittest\u001b[0m\u001b[1;33m\u001b[0m\u001b[1;33m\u001b[0m\u001b[0m\n\u001b[1;32m----> 2\u001b[1;33m \u001b[1;32mfrom\u001b[0m \u001b[0mpizza\u001b[0m \u001b[1;32mimport\u001b[0m \u001b[0mfull_name\u001b[0m\u001b[1;33m\u001b[0m\u001b[1;33m\u001b[0m\u001b[0m\n\u001b[0m\u001b[0;32m      3\u001b[0m \u001b[1;32mclass\u001b[0m \u001b[0mnametest\u001b[0m\u001b[1;33m(\u001b[0m\u001b[0munittest\u001b[0m\u001b[1;33m.\u001b[0m\u001b[0mTestCase\u001b[0m\u001b[1;33m)\u001b[0m\u001b[1;33m:\u001b[0m\u001b[1;33m\u001b[0m\u001b[1;33m\u001b[0m\u001b[0m\n\u001b[0;32m      4\u001b[0m     \u001b[1;32mdef\u001b[0m \u001b[0mtest_name\u001b[0m\u001b[1;33m(\u001b[0m\u001b[0mself\u001b[0m\u001b[1;33m)\u001b[0m\u001b[1;33m:\u001b[0m\u001b[1;33m\u001b[0m\u001b[1;33m\u001b[0m\u001b[0m\n\u001b[0;32m      5\u001b[0m         \u001b[0mfullname1\u001b[0m\u001b[1;33m=\u001b[0m\u001b[0mfull_name\u001b[0m\u001b[1;33m(\u001b[0m\u001b[1;34m'zhang'\u001b[0m\u001b[1;33m,\u001b[0m\u001b[1;34m'jike'\u001b[0m\u001b[1;33m)\u001b[0m\u001b[1;33m\u001b[0m\u001b[1;33m\u001b[0m\u001b[0m\n",
      "\u001b[1;31mImportError\u001b[0m: cannot import name 'full_name' from 'pizza' (C:\\Users\\hp\\pizza.py)"
     ]
    }
   ],
   "source": [
    "import unittest\n",
    "from pizza import full_name\n",
    "class nametest(unittest.TestCase):\n",
    "    def test_name(self):\n",
    "        fullname1=full_name('zhang','jike')\n",
    "        self.assertEqual(fullname1,'Zhang JiKe')\n",
    "unittest.main()"
   ]
  },
  {
   "cell_type": "code",
   "execution_count": 1,
   "metadata": {},
   "outputs": [
    {
     "name": "stdout",
     "output_type": "stream",
     "text": [
      "一到一百相加的和是: 5050\n"
     ]
    }
   ],
   "source": [
    "#一到一百相加的和：\n",
    "def sum():\n",
    "    sum = 0\n",
    "    for n in range(1, 101):\n",
    "        sum = sum + n\n",
    "    return sum\n",
    " \n",
    "print('一到一百相加的和是:',sum())\n"
   ]
  },
  {
   "cell_type": "code",
   "execution_count": 2,
   "metadata": {},
   "outputs": [
    {
     "name": "stdin",
     "output_type": "stream",
     "text": [
      "请输入你的成绩： 89\n"
     ]
    },
    {
     "name": "stdout",
     "output_type": "stream",
     "text": [
      "良好\n"
     ]
    }
   ],
   "source": [
    "#输入成绩判断等级：\n",
    " \n",
    "cj=float (input(\"请输入你的成绩：\"))\n",
    "if cj>=90 and cj<=100:\n",
    "    print(\"优秀\")\n",
    "elif cj>=70 and cj<90:\n",
    "    print(\"良好\")\n",
    "elif cj>=60 and cj<70:\n",
    "    print(\"及格\")\n",
    "else:\n",
    "    print(\"你要努力了\")"
   ]
  },
  {
   "cell_type": "code",
   "execution_count": 3,
   "metadata": {},
   "outputs": [
    {
     "name": "stdout",
     "output_type": "stream",
     "text": [
      "2450\n"
     ]
    }
   ],
   "source": [
    "#一到一百偶数相加的和：\n",
    "he=0\n",
    "for i in range(0,100,2):\n",
    "    he+=i\n",
    "print(he)\n"
   ]
  },
  {
   "cell_type": "code",
   "execution_count": 7,
   "metadata": {},
   "outputs": [
    {
     "ename": "SyntaxError",
     "evalue": "Missing parentheses in call to 'print'. Did you mean print(r)? (<ipython-input-7-7a17383afa4e>, line 15)",
     "output_type": "error",
     "traceback": [
      "\u001b[1;36m  File \u001b[1;32m\"<ipython-input-7-7a17383afa4e>\"\u001b[1;36m, line \u001b[1;32m15\u001b[0m\n\u001b[1;33m    print r\u001b[0m\n\u001b[1;37m          ^\u001b[0m\n\u001b[1;31mSyntaxError\u001b[0m\u001b[1;31m:\u001b[0m Missing parentheses in call to 'print'. Did you mean print(r)?\n"
     ]
    }
   ],
   "source": [
    "# -*- coding: UTF-8 -*-\n",
    "I = int(raw_input('净利润:'))\n",
    "#这应该就是各个分界值了，把它们放在列表里方便访问\n",
    "arr = [1000000,600000,400000,200000,100000,0] \n",
    "#这是各个分界值所对应的奖金比例值\n",
    "rat = [0.01,0.015,0.03,0.05,0.075,0.1] \n",
    " #这是总奖金的初始值\n",
    "r = 0 \n",
    " #有6个分界值当然要循环6次     \n",
    "for idx in range(0,6):  \n",
    "    if I > arr[idx]:\n",
    "        r = r + (I - arr[idx]) * rat[idx] \n",
    "        print (I - arr[idx]) * rat[idx]\n",
    "        I = arr[idx]\n",
    "print r"
   ]
  },
  {
   "cell_type": "code",
   "execution_count": null,
   "metadata": {},
   "outputs": [
    {
     "name": "stdin",
     "output_type": "stream",
     "text": [
      "pls input the lirun: 5\n"
     ]
    },
    {
     "name": "stdout",
     "output_type": "stream",
     "text": [
      "0.05\n"
     ]
    },
    {
     "name": "stdin",
     "output_type": "stream",
     "text": [
      "pls input the lirun: 3.5\n"
     ]
    },
    {
     "name": "stdout",
     "output_type": "stream",
     "text": [
      "0.035\n"
     ]
    }
   ],
   "source": [
    "# -*- coding: UTF-8 -*-\n",
    "while True:\n",
    " I = float(input(\"pls input the lirun:\"))\n",
    " if I <= 10:\n",
    "  a = I * 0.01\n",
    "  print(a)\n",
    " elif I <= 20 and I > 10:\n",
    "  b =0.25 + I * 0.075\n",
    "  print (b)\n",
    " elif I <= 40 and I > 20:\n",
    "  c = 0.75 + I * 0.05\n",
    "  print (c)\n",
    " elif I <= 60 and I > 40:\n",
    "  d = 0.95 + I * 0.03\n",
    "  print (d)\n",
    " elif I <= 60 and I > 100:\n",
    "  e = 2 + I * 0.015\n",
    "  print (e)\n",
    " else:\n",
    "  f = 2.95 + I * 0.01\n",
    " elif:\n",
    "  \n",
    "print(f)"
   ]
  },
  {
   "cell_type": "code",
   "execution_count": 1,
   "metadata": {},
   "outputs": [
    {
     "name": "stdin",
     "output_type": "stream",
     "text": [
      "input a num: 5\n",
      "input a num: 4\n",
      "input a num: 3\n"
     ]
    },
    {
     "name": "stdout",
     "output_type": "stream",
     "text": [
      "3 4 5\n"
     ]
    }
   ],
   "source": [
    "# -*- coding: UTF-8 -*-\n",
    " \n",
    "x = input(\"input a num:\")\n",
    "y = input(\"input a num:\")\n",
    "z = input(\"input a num:\")\n",
    "temp = 0\n",
    "if x < y:\n",
    " temp = x\n",
    " x = y\n",
    " y = temp\n",
    "if x < z:\n",
    " temp = x\n",
    " x = z\n",
    " z = temp\n",
    "if y < z:\n",
    " temp = y\n",
    " y = z\n",
    " z = temp\n",
    "print (z,y,x) #由于上面是由小到大来比较和交换的，所以这里需要逆序输出"
   ]
  },
  {
   "cell_type": "code",
   "execution_count": 4,
   "metadata": {},
   "outputs": [
    {
     "name": "stdout",
     "output_type": "stream",
     "text": [
      "[1, 2, 3, 4, 5, 6]\n"
     ]
    }
   ],
   "source": [
    "# -*- coding: UTF-8 -*-\n",
    "l1 = [1,2,3]\n",
    "l2 = [4,5,6]\n",
    "print (l1 + l2)\n"
   ]
  },
  {
   "cell_type": "code",
   "execution_count": 8,
   "metadata": {},
   "outputs": [
    {
     "name": "stdout",
     "output_type": "stream",
     "text": [
      "55\n"
     ]
    }
   ],
   "source": [
    "# -*- coding: UTF-8 -*-\n",
    " \n",
    "def fib(n):\n",
    " a,b = 1,1\n",
    " for i in range(n-1):\n",
    "  a,b = b,a+b\n",
    " return a\n",
    " \n",
    "# 输出了第10个斐波那契数列\n",
    "print (fib(10))"
   ]
  },
  {
   "cell_type": "code",
   "execution_count": 9,
   "metadata": {},
   "outputs": [
    {
     "name": "stdout",
     "output_type": "stream",
     "text": [
      "[1, 1, 2, 3, 5, 8, 13, 21, 34, 55]\n"
     ]
    }
   ],
   "source": [
    "# -*- coding: UTF-8 -*-\n",
    " \n",
    "def fib(n):\n",
    " if n == 1:\n",
    "  return [1]\n",
    " if n == 2:\n",
    "  return [1, 1]\n",
    " fibs = [1, 1]\n",
    " for i in range(2, n):\n",
    "  fibs.append(fibs[-1] + fibs[-2])\n",
    " return fibs\n",
    " \n",
    "# 输出前 10 个斐波那契数列\n",
    "print (fib(10))"
   ]
  },
  {
   "cell_type": "code",
   "execution_count": null,
   "metadata": {},
   "outputs": [],
   "source": []
  }
 ],
 "metadata": {
  "kernelspec": {
   "display_name": "Python 3",
   "language": "python",
   "name": "python3"
  },
  "language_info": {
   "codemirror_mode": {
    "name": "ipython",
    "version": 3
   },
   "file_extension": ".py",
   "mimetype": "text/x-python",
   "name": "python",
   "nbconvert_exporter": "python",
   "pygments_lexer": "ipython3",
   "version": "3.8.5"
  }
 },
 "nbformat": 4,
 "nbformat_minor": 4
}
