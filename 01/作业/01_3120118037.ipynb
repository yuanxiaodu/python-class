{
 "cells": [
  {
   "cell_type": "code",
   "execution_count": 16,
   "metadata": {},
   "outputs": [
    {
     "name": "stdout",
     "output_type": "stream",
     "text": [
      "hello world!\n"
     ]
    }
   ],
   "source": [
    "print(\"hello world!\")"
   ]
  },
  {
   "cell_type": "code",
   "execution_count": 32,
   "metadata": {},
   "outputs": [],
   "source": [
    "a,b,c=1,2 ,3"
   ]
  },
  {
   "cell_type": "code",
   "execution_count": 21,
   "metadata": {},
   "outputs": [
    {
     "data": {
      "text/plain": [
       "1"
      ]
     },
     "execution_count": 21,
     "metadata": {},
     "output_type": "execute_result"
    }
   ],
   "source": [
    "a"
   ]
  },
  {
   "cell_type": "code",
   "execution_count": 33,
   "metadata": {},
   "outputs": [
    {
     "data": {
      "text/plain": [
       "3"
      ]
     },
     "execution_count": 33,
     "metadata": {},
     "output_type": "execute_result"
    }
   ],
   "source": [
    "c"
   ]
  },
  {
   "cell_type": "code",
   "execution_count": 39,
   "metadata": {},
   "outputs": [
    {
     "data": {
      "text/plain": [
       "10.0"
      ]
     },
     "execution_count": 39,
     "metadata": {},
     "output_type": "execute_result"
    }
   ],
   "source": [
    "30/3"
   ]
  },
  {
   "cell_type": "code",
   "execution_count": 1,
   "metadata": {},
   "outputs": [],
   "source": [
    "a=20\n",
    "b=67\n",
    "c=12\n",
    "d=67\n",
    "e=90\n",
    "f=12\n"
   ]
  },
  {
   "cell_type": "code",
   "execution_count": 110,
   "metadata": {},
   "outputs": [
    {
     "name": "stdout",
     "output_type": "stream",
     "text": [
      "let's talk about Chung 663 ,\n",
      "he's 175 centimeters tall ,\n",
      "he's 175 centimeters tall ,\n"
     ]
    }
   ],
   "source": [
    "my_name = 'Chung 663'\n",
    "my_age = 18 # not a lie\n",
    "my_height = 175 # centimeter\n",
    "my_weight = 61 # kilogram\n",
    "my_eyes = 'black'\n",
    "my_teeth = 'white'\n",
    "my_hair = 'browm'\n",
    "\n",
    "print(f\"let's talk about {my_name} ,\")\n",
    "print(f\"he's {my_height} centimeters tall ,\")\n",
    "print(f\"he's {my_height} centimeters tall ,\")"
   ]
  },
  {
   "cell_type": "code",
   "execution_count": 59,
   "metadata": {},
   "outputs": [
    {
     "name": "stdout",
     "output_type": "stream",
     "text": [
      "I could have code like this\n",
      "hello world!\n"
     ]
    }
   ],
   "source": [
    "print('I could have code like this') # this is a commet, and it means nothing\n",
    "\n",
    "print('hello world!')"
   ]
  },
  {
   "cell_type": "code",
   "execution_count": 19,
   "metadata": {},
   "outputs": [],
   "source": [
    "counter = 100\n",
    "miles = 1000.0\n",
    "name = \" runoob \""
   ]
  },
  {
   "cell_type": "code",
   "execution_count": 20,
   "metadata": {},
   "outputs": [
    {
     "data": {
      "text/plain": [
       "100"
      ]
     },
     "execution_count": 20,
     "metadata": {},
     "output_type": "execute_result"
    }
   ],
   "source": [
    "counter"
   ]
  },
  {
   "cell_type": "code",
   "execution_count": 21,
   "metadata": {},
   "outputs": [
    {
     "data": {
      "text/plain": [
       "1000.0"
      ]
     },
     "execution_count": 21,
     "metadata": {},
     "output_type": "execute_result"
    }
   ],
   "source": [
    "miles"
   ]
  },
  {
   "cell_type": "code",
   "execution_count": 45,
   "metadata": {},
   "outputs": [
    {
     "data": {
      "text/plain": [
       "' runoob '"
      ]
     },
     "execution_count": 45,
     "metadata": {},
     "output_type": "execute_result"
    }
   ],
   "source": [
    "counter\n",
    "miles\n",
    "name"
   ]
  },
  {
   "cell_type": "code",
   "execution_count": 24,
   "metadata": {},
   "outputs": [
    {
     "name": "stdout",
     "output_type": "stream",
     "text": [
      "100\n"
     ]
    }
   ],
   "source": [
    "print(counter)"
   ]
  },
  {
   "cell_type": "code",
   "execution_count": 26,
   "metadata": {},
   "outputs": [
    {
     "name": "stdout",
     "output_type": "stream",
     "text": [
      "counter\n"
     ]
    }
   ],
   "source": [
    "print('counter')"
   ]
  },
  {
   "cell_type": "code",
   "execution_count": 27,
   "metadata": {},
   "outputs": [],
   "source": [
    "a = b = c = 1"
   ]
  },
  {
   "cell_type": "code",
   "execution_count": 28,
   "metadata": {},
   "outputs": [
    {
     "data": {
      "text/plain": [
       "1"
      ]
     },
     "execution_count": 28,
     "metadata": {},
     "output_type": "execute_result"
    }
   ],
   "source": [
    "a"
   ]
  },
  {
   "cell_type": "code",
   "execution_count": 30,
   "metadata": {},
   "outputs": [],
   "source": [
    "a, b, c = 1, 2, 'alcohol'"
   ]
  },
  {
   "cell_type": "code",
   "execution_count": 31,
   "metadata": {},
   "outputs": [
    {
     "data": {
      "text/plain": [
       "'alcohol'"
      ]
     },
     "execution_count": 31,
     "metadata": {},
     "output_type": "execute_result"
    }
   ],
   "source": [
    "c"
   ]
  },
  {
   "cell_type": "code",
   "execution_count": 32,
   "metadata": {},
   "outputs": [
    {
     "data": {
      "text/plain": [
       "1"
      ]
     },
     "execution_count": 32,
     "metadata": {},
     "output_type": "execute_result"
    }
   ],
   "source": [
    "a"
   ]
  },
  {
   "cell_type": "code",
   "execution_count": 33,
   "metadata": {},
   "outputs": [
    {
     "data": {
      "text/plain": [
       "['False',\n",
       " 'None',\n",
       " 'True',\n",
       " 'and',\n",
       " 'as',\n",
       " 'assert',\n",
       " 'async',\n",
       " 'await',\n",
       " 'break',\n",
       " 'class',\n",
       " 'continue',\n",
       " 'def',\n",
       " 'del',\n",
       " 'elif',\n",
       " 'else',\n",
       " 'except',\n",
       " 'finally',\n",
       " 'for',\n",
       " 'from',\n",
       " 'global',\n",
       " 'if',\n",
       " 'import',\n",
       " 'in',\n",
       " 'is',\n",
       " 'lambda',\n",
       " 'nonlocal',\n",
       " 'not',\n",
       " 'or',\n",
       " 'pass',\n",
       " 'raise',\n",
       " 'return',\n",
       " 'try',\n",
       " 'while',\n",
       " 'with',\n",
       " 'yield']"
      ]
     },
     "execution_count": 33,
     "metadata": {},
     "output_type": "execute_result"
    }
   ],
   "source": [
    "import keyword\n",
    "keyword.kwlist"
   ]
  },
  {
   "cell_type": "code",
   "execution_count": 34,
   "metadata": {},
   "outputs": [
    {
     "data": {
      "text/plain": [
       "'I will count my chickens:'"
      ]
     },
     "execution_count": 34,
     "metadata": {},
     "output_type": "execute_result"
    }
   ],
   "source": [
    "\"I will count my chickens:\""
   ]
  },
  {
   "cell_type": "code",
   "execution_count": 35,
   "metadata": {},
   "outputs": [
    {
     "name": "stdout",
     "output_type": "stream",
     "text": [
      "Hens 35.0\n"
     ]
    }
   ],
   "source": [
    "print(\"Hens\",30+30/6)"
   ]
  },
  {
   "cell_type": "code",
   "execution_count": 36,
   "metadata": {},
   "outputs": [
    {
     "data": {
      "text/plain": [
       "1"
      ]
     },
     "execution_count": 36,
     "metadata": {},
     "output_type": "execute_result"
    }
   ],
   "source": [
    "6-5+4%2"
   ]
  },
  {
   "cell_type": "code",
   "execution_count": 37,
   "metadata": {},
   "outputs": [
    {
     "name": "stdout",
     "output_type": "stream",
     "text": [
      "Is it great? True\n"
     ]
    }
   ],
   "source": [
    "print(\"Is it great?\", 5>2)"
   ]
  },
  {
   "cell_type": "code",
   "execution_count": 38,
   "metadata": {},
   "outputs": [
    {
     "name": "stdout",
     "output_type": "stream",
     "text": [
      "False\n"
     ]
    }
   ],
   "source": [
    "print(5>7)"
   ]
  },
  {
   "cell_type": "code",
   "execution_count": 43,
   "metadata": {},
   "outputs": [
    {
     "name": "stdout",
     "output_type": "stream",
     "text": [
      "(a+b)*c/d 运算结果为： 10.0\n",
      "e=(a-b)*(c-d) 运算结果为： -100\n"
     ]
    }
   ],
   "source": [
    "a=20\n",
    "b=10\n",
    "c=5\n",
    "d=15\n",
    "e=0\n",
    "\n",
    "e=(a+b)*c/d\n",
    "print(\"(a+b)*c/d 运算结果为：\", e)\n",
    "\n",
    "e=(a-b)*(c-d)\n",
    "print(\"e=(a-b)*(c-d) 运算结果为：\", e)"
   ]
  },
  {
   "cell_type": "code",
   "execution_count": 44,
   "metadata": {},
   "outputs": [
    {
     "data": {
      "text/plain": [
       "-100"
      ]
     },
     "execution_count": 44,
     "metadata": {},
     "output_type": "execute_result"
    }
   ],
   "source": [
    "e"
   ]
  },
  {
   "cell_type": "code",
   "execution_count": 48,
   "metadata": {},
   "outputs": [],
   "source": [
    "a,b=10,5"
   ]
  },
  {
   "cell_type": "code",
   "execution_count": 49,
   "metadata": {},
   "outputs": [],
   "source": [
    "c=a+b"
   ]
  },
  {
   "cell_type": "code",
   "execution_count": 111,
   "metadata": {},
   "outputs": [
    {
     "data": {
      "text/plain": [
       "10"
      ]
     },
     "execution_count": 111,
     "metadata": {},
     "output_type": "execute_result"
    }
   ],
   "source": [
    "a"
   ]
  },
  {
   "cell_type": "code",
   "execution_count": null,
   "metadata": {},
   "outputs": [],
   "source": []
  },
  {
   "cell_type": "code",
   "execution_count": 50,
   "metadata": {},
   "outputs": [
    {
     "name": "stderr",
     "output_type": "stream",
     "text": [
      "<>:1: SyntaxWarning: \"is\" with a literal. Did you mean \"==\"?\n",
      "<>:1: SyntaxWarning: \"is\" with a literal. Did you mean \"==\"?\n",
      "<ipython-input-50-36e25246bae4>:1: SyntaxWarning: \"is\" with a literal. Did you mean \"==\"?\n",
      "  'a' is b\n"
     ]
    },
    {
     "data": {
      "text/plain": [
       "False"
      ]
     },
     "execution_count": 50,
     "metadata": {},
     "output_type": "execute_result"
    }
   ],
   "source": []
  },
  {
   "cell_type": "code",
   "execution_count": 51,
   "metadata": {},
   "outputs": [
    {
     "data": {
      "text/plain": [
       "'c=a+b'"
      ]
     },
     "execution_count": 51,
     "metadata": {},
     "output_type": "execute_result"
    }
   ],
   "source": [
    "\"c=a+b\""
   ]
  },
  {
   "cell_type": "code",
   "execution_count": 52,
   "metadata": {},
   "outputs": [
    {
     "data": {
      "text/plain": [
       "15"
      ]
     },
     "execution_count": 52,
     "metadata": {},
     "output_type": "execute_result"
    }
   ],
   "source": [
    "a+b"
   ]
  },
  {
   "cell_type": "code",
   "execution_count": 53,
   "metadata": {},
   "outputs": [
    {
     "data": {
      "text/plain": [
       "15"
      ]
     },
     "execution_count": 53,
     "metadata": {},
     "output_type": "execute_result"
    }
   ],
   "source": [
    "c"
   ]
  },
  {
   "cell_type": "code",
   "execution_count": 54,
   "metadata": {},
   "outputs": [
    {
     "name": "stdout",
     "output_type": "stream",
     "text": [
      "Let's talk about Chung.\n",
      "He's Chung centimeters tall.\n",
      "He's 60 kilograms heavy.\n",
      "Actually that's not too heavy.\n",
      "He's got black eyes and pink hair.\n",
      "His teeth are usaully white depending on the coffee.\n",
      "If I add 18, 175, and 60 I get total\n"
     ]
    }
   ],
   "source": [
    "my_name='Chung'\n",
    "my_age=18 # a lie\n",
    "my_height=175 # centimeter\n",
    "my_weight=60 #kilogram\n",
    "my_eyes='black'\n",
    "my_teeth='white'\n",
    "my_hair='pink'\n",
    "\n",
    "print(f\"Let's talk about {my_name}.\")\n",
    "print(f\"He's {my_name} centimeters tall.\")\n",
    "print(f\"He's {my_weight} kilograms heavy.\")\n",
    "print(\"Actually that's not too heavy.\")\n",
    "print(f\"He's got {my_eyes} eyes and {my_hair} hair.\")\n",
    "print(f\"His teeth are usaully {my_teeth} depending on the coffee.\")\n",
    "\n",
    "# this line is tricky, try to get it exactly right\n",
    "total=my_age+my_height+my_weight\n",
    "print(f\"If I add {my_age}, {my_height}, and {my_weight} I get total\")"
   ]
  },
  {
   "cell_type": "code",
   "execution_count": 58,
   "metadata": {},
   "outputs": [
    {
     "name": "stdout",
     "output_type": "stream",
     "text": [
      "Let's talk about Chung.\n",
      "He's {my_name} centimeters tall.\n",
      "He's {my_weight} kilograms heavy.\n",
      "Actually that's not too heavy.\n",
      "He's got {my_eyes} eyes and {my_hair} hair.\n",
      "His teeth are usaully {my_teeth} depending on the coffee.\n"
     ]
    }
   ],
   "source": [
    "my_name='Chung'\n",
    "my_age=18 # a lie\n",
    "my_height=175 # centimeter\n",
    "my_weight=60 #kilogram\n",
    "my_eyes='black'\n",
    "my_teeth='white'\n",
    "my_hair='pink'\n",
    "\n",
    "print(f\"Let's talk about {my_name}.\")\n",
    "print(\"He's {my_name} centimeters tall.\")\n",
    "print(\"He's {my_weight} kilograms heavy.\")\n",
    "print(\"Actually that's not too heavy.\")\n",
    "print(\"He's got {my_eyes} eyes and {my_hair} hair.\")\n",
    "print(\"His teeth are usaully {my_teeth} depending on the coffee.\")"
   ]
  },
  {
   "cell_type": "code",
   "execution_count": 115,
   "metadata": {},
   "outputs": [
    {
     "ename": "SyntaxError",
     "evalue": "invalid syntax (<ipython-input-115-96a67a47e397>, line 9)",
     "output_type": "error",
     "traceback": [
      "\u001b[1;36m  File \u001b[1;32m\"<ipython-input-115-96a67a47e397>\"\u001b[1;36m, line \u001b[1;32m9\u001b[0m\n\u001b[1;33m    print(\"Let's talk about\", name.)\u001b[0m\n\u001b[1;37m                                   ^\u001b[0m\n\u001b[1;31mSyntaxError\u001b[0m\u001b[1;31m:\u001b[0m invalid syntax\n"
     ]
    }
   ],
   "source": [
    "name=\"Chung\"\n",
    "my_age=18 # a lie\n",
    "my_height=175 # centimeter\n",
    "my_weight=60 #kilogram\n",
    "my_eyes='black'\n",
    "my_teeth='white'\n",
    "my_hair='pink'\n",
    "\n",
    "print(\"Let's talk about\", name.)\n"
   ]
  },
  {
   "cell_type": "code",
   "execution_count": 65,
   "metadata": {},
   "outputs": [
    {
     "name": "stdout",
     "output_type": "stream",
     "text": [
      "Let's talk about Chung\n"
     ]
    }
   ],
   "source": [
    "name=\"Chung\"\n",
    "print(\"Let's talk about\", name)"
   ]
  },
  {
   "cell_type": "code",
   "execution_count": 66,
   "metadata": {},
   "outputs": [
    {
     "name": "stdout",
     "output_type": "stream",
     "text": [
      "Chung is flash\n"
     ]
    }
   ],
   "source": [
    "name=\"Chung\"\n",
    "print(name,\"is flash\")"
   ]
  },
  {
   "cell_type": "code",
   "execution_count": 82,
   "metadata": {},
   "outputs": [
    {
     "name": "stdout",
     "output_type": "stream",
     "text": [
      "Chinese KungFu\n"
     ]
    }
   ],
   "source": [
    "boy1=\"C\"\n",
    "boy2=\"h\"\n",
    "boy3=\"i\"\n",
    "boy4=\"n\"\n",
    "boy5=\"e\"\n",
    "boy6=\"s\"\n",
    "boy7=\"e\"\n",
    "boy8=\"K\"\n",
    "boy9=\"u\"\n",
    "boy10=\"n\"\n",
    "boy11=\"g\"\n",
    "boy12=\"F\"\n",
    "boy13=\"u\"\n",
    "\n",
    "print(boy1+boy2+boy3+boy4+boy5+boy6+boy7, end=' ')\n",
    "print(boy8+boy9+boy10+boy11+boy12+boy13)"
   ]
  },
  {
   "cell_type": "code",
   "execution_count": 87,
   "metadata": {},
   "outputs": [
    {
     "name": "stdout",
     "output_type": "stream",
     "text": [
      "here are the days Mon,Tue,Wed,Thu,Fri,Sat,Sun\n",
      "here are the months Jan\n",
      "Feb\n",
      "Mar\n",
      "Apr\n",
      "May\n",
      "Jun\n",
      "Jul\n",
      "Aug\n"
     ]
    }
   ],
   "source": [
    "months=\"Jan\\nFeb\\nMar\\nApr\\nMay\\nJun\\nJul\\nAug\"\n",
    "days=\"Mon,Tue,Wed,Thu,Fri,Sat,Sun\"\n",
    "\n",
    "print(\"here are the days\",days)\n",
    "print(\"here are the months\",months)"
   ]
  },
  {
   "cell_type": "code",
   "execution_count": 89,
   "metadata": {},
   "outputs": [
    {
     "name": "stdout",
     "output_type": "stream",
     "text": [
      "\n",
      "Today, I walk my dog to the street where the car crash happens.\n",
      "Jojo has made a \n",
      "dream, \n",
      "\n"
     ]
    }
   ],
   "source": [
    "print(\"\"\"\n",
    "Today, I walk my dog to the street where the car crash happens.\n",
    "Jojo has made a \n",
    "dream, \n",
    "\"\"\")"
   ]
  },
  {
   "cell_type": "code",
   "execution_count": 93,
   "metadata": {},
   "outputs": [
    {
     "name": "stdout",
     "output_type": "stream",
     "text": [
      "Boxers\\fight\\underground\n"
     ]
    }
   ],
   "source": [
    "Kengan_Ashura=\"Boxers\\\\fight\\\\underground\"\n",
    "\n",
    "print(Kengan_Ashura)"
   ]
  },
  {
   "cell_type": "code",
   "execution_count": 98,
   "metadata": {},
   "outputs": [
    {
     "name": "stdout",
     "output_type": "stream",
     "text": [
      "\tKingkong & Gozilla\n",
      "\t*firebaby\n",
      "\t*flashbaby\n",
      "\t*waterbaby\n"
     ]
    }
   ],
   "source": [
    "Titan=\"\\tKingkong & Gozilla\"\n",
    "Hulu_baby=\"\\t*firebaby\\n\\t*flashbaby\\n\\t*waterbaby\"\n",
    "\n",
    "print(Titan)\n",
    "print(Hulu_baby)"
   ]
  },
  {
   "cell_type": "code",
   "execution_count": 102,
   "metadata": {},
   "outputs": [
    {
     "name": "stdout",
     "output_type": "stream",
     "text": [
      "How much is this cat  "
     ]
    },
    {
     "name": "stdin",
     "output_type": "stream",
     "text": [
      " 23\n"
     ]
    }
   ],
   "source": [
    "print(\"How much is this cat\", end=\"  \")\n",
    "age=input()"
   ]
  },
  {
   "cell_type": "code",
   "execution_count": 105,
   "metadata": {},
   "outputs": [
    {
     "name": "stdout",
     "output_type": "stream",
     "text": [
      "How old are you?\n"
     ]
    },
    {
     "name": "stdin",
     "output_type": "stream",
     "text": [
      " 23\n"
     ]
    },
    {
     "name": "stdout",
     "output_type": "stream",
     "text": [
      "How tall are you?\n"
     ]
    },
    {
     "name": "stdin",
     "output_type": "stream",
     "text": [
      " 23\n"
     ]
    },
    {
     "name": "stdout",
     "output_type": "stream",
     "text": [
      "How much do you weigh?\n"
     ]
    },
    {
     "name": "stdin",
     "output_type": "stream",
     "text": [
      " 23\n"
     ]
    },
    {
     "name": "stdout",
     "output_type": "stream",
     "text": [
      "So, you're 23 old, 23 tall and 23 heavy.\n"
     ]
    }
   ],
   "source": [
    "print(\"How old are you?\")\n",
    "age = input()\n",
    "print(\"How tall are you?\")\n",
    "height = input()\n",
    "print(\"How much do you weigh?\")\n",
    "weight = input()\n",
    "\n",
    "print(f\"So, you're {age} old, {height} tall and {weight} heavy.\")"
   ]
  },
  {
   "cell_type": "code",
   "execution_count": 107,
   "metadata": {},
   "outputs": [
    {
     "name": "stdout",
     "output_type": "stream",
     "text": [
      "How old are you?\n"
     ]
    },
    {
     "name": "stdin",
     "output_type": "stream",
     "text": [
      " 18\n"
     ]
    },
    {
     "name": "stdout",
     "output_type": "stream",
     "text": [
      "How tall are you?\n"
     ]
    },
    {
     "name": "stdin",
     "output_type": "stream",
     "text": [
      " 176\n"
     ]
    },
    {
     "name": "stdout",
     "output_type": "stream",
     "text": [
      "How much do you weigh?\n"
     ]
    },
    {
     "name": "stdin",
     "output_type": "stream",
     "text": [
      " 121\n"
     ]
    },
    {
     "name": "stdout",
     "output_type": "stream",
     "text": [
      "So, you are 18old, 176 tall, 121 heavy\n"
     ]
    }
   ],
   "source": [
    "print(\"How old are you?\")\n",
    "age = input()\n",
    "print(\"How tall are you?\")\n",
    "height = input()\n",
    "print(\"How much do you weigh?\")\n",
    "weight = input()\n",
    "\n",
    "print(f\"So, you are {age}old, {height} tall, {weight} heavy\")"
   ]
  },
  {
   "cell_type": "code",
   "execution_count": 116,
   "metadata": {},
   "outputs": [
    {
     "name": "stdout",
     "output_type": "stream",
     "text": [
      "1 2 3 4\n",
      "one two three four\n",
      "True False False True\n",
      "{} {} {} {} {} {} {} {} {} {} {} {} {} {} {} {}\n",
      "I had this thing. That you could type up right. But it didn't sing. So I said goodnight.\n"
     ]
    }
   ],
   "source": [
    "formatter = \"{} {} {} {}\"\n",
    "\n",
    "print(formatter.format(1, 2, 3, 4))\n",
    "print(formatter.format(\"one\", \"two\", \"three\", \"four\"))\n",
    "print(formatter.format(True, False, False, True))\n",
    "print(formatter.format(formatter, formatter, formatter, formatter))\n",
    "print(formatter.format(\n",
    "    \"I had this thing.\",\n",
    "    \"That you could type up right.\",\n",
    "    \"But it didn't sing.\",\n",
    "    \"So I said goodnight.\"\n",
    "))"
   ]
  },
  {
   "cell_type": "code",
   "execution_count": 121,
   "metadata": {},
   "outputs": [
    {
     "data": {
      "text/plain": [
       "'bite dust the'"
      ]
     },
     "execution_count": 121,
     "metadata": {},
     "output_type": "execute_result"
    }
   ],
   "source": [
    "\"{0} {2} {1}\".format(\"bite\", \"the\", \"dust\")"
   ]
  },
  {
   "cell_type": "code",
   "execution_count": 123,
   "metadata": {},
   "outputs": [
    {
     "name": "stdout",
     "output_type": "stream",
     "text": [
      "1 4 2 3\n"
     ]
    }
   ],
   "source": [
    "biubiu = \"{0} {3} {1} {2}\"\n",
    "\n",
    "print(biubiu.format(1,2,3,4))"
   ]
  },
  {
   "cell_type": "code",
   "execution_count": 124,
   "metadata": {},
   "outputs": [
    {
     "name": "stdout",
     "output_type": "stream",
     "text": [
      "{} {} {} {} {} {} {} {} {} {} {} {} {} {} {} {}\n"
     ]
    }
   ],
   "source": [
    "biubiu = \"{} {} {} {}\"\n",
    "\n",
    "print(biubiu.format(biubiu,biubiu,biubiu,biubiu))"
   ]
  },
  {
   "cell_type": "code",
   "execution_count": 130,
   "metadata": {},
   "outputs": [
    {
     "name": "stdout",
     "output_type": "stream",
     "text": [
      "Attack On Titan Kengan Ashura Peaky Blinders\n"
     ]
    }
   ],
   "source": [
    "biubiu = \"{2} {0} {1}\"\n",
    "\n",
    "print(biubiu.format(\"Kengan Ashura\",  \"Peaky Blinders\", \"Attack On Titan\"))"
   ]
  },
  {
   "cell_type": "code",
   "execution_count": 131,
   "metadata": {},
   "outputs": [
    {
     "name": "stdout",
     "output_type": "stream",
     "text": [
      "The script is called: D:\\ANACONDA\\lib\\site-packages\\ipykernel_launcher.py\n",
      "Your first variable is: -f\n",
      "Your second variable is: C:\\Users\\663\\AppData\\Roaming\\jupyter\\runtime\\kernel-0709e2b3-018d-4ed9-b329-d86a66f4b164.json\n"
     ]
    }
   ],
   "source": [
    "from sys import argv\n",
    "# read the WYSS section for how to run this\n",
    "script, first, second = argv\n",
    "\n",
    "print(\"The script is called:\", script)\n",
    "print(\"Your first variable is:\", first)\n",
    "print(\"Your second variable is:\", second)"
   ]
  },
  {
   "cell_type": "code",
   "execution_count": 3,
   "metadata": {},
   "outputs": [
    {
     "name": "stdout",
     "output_type": "stream",
     "text": [
      "(a+b)*c/d 运算结果为： 13.6\n",
      "e=(a-b)*(c-d) 运算结果为： -126\n"
     ]
    }
   ],
   "source": [
    "a=24\n",
    "b=10\n",
    "c=6\n",
    "d=15\n",
    "e=90\n",
    "\n",
    "e=(a+b)*c/d\n",
    "print(\"(a+b)*c/d 运算结果为：\", e)\n",
    "\n",
    "e=(a-b)*(c-d)\n",
    "print(\"e=(a-b)*(c-d) 运算结果为：\", e)"
   ]
  },
  {
   "cell_type": "code",
   "execution_count": 4,
   "metadata": {},
   "outputs": [
    {
     "name": "stdout",
     "output_type": "stream",
     "text": [
      "We can just give the function numbers directly:\n",
      "There are 8 dogs.\n",
      "There are 12 cats.\n",
      "We have reach the animal kingdom!\n",
      "Here cames a lion!\n"
     ]
    }
   ],
   "source": [
    "def dogs_and_cats(dogs_count, cats_count):\n",
    "    print(f\"There are {dogs_count} dogs.\")\n",
    "    print(f\"There are {cats_count} cats.\")\n",
    "    print(\"We have reach the animal kingdom!\")\n",
    "    print(\"Here cames a lion!\")\n",
    "\n",
    "print(\"We can just give the function numbers directly:\")\n",
    "dogs_and_cats(8,12)"
   ]
  },
  {
   "cell_type": "code",
   "execution_count": 5,
   "metadata": {},
   "outputs": [
    {
     "data": {
      "text/plain": [
       "['Hello',\n",
       " 'World',\n",
       " 'Hello',\n",
       " 'World',\n",
       " 'Hello',\n",
       " 'World',\n",
       " 'Hello',\n",
       " 'World',\n",
       " 'Hello',\n",
       " 'World']"
      ]
     },
     "execution_count": 5,
     "metadata": {},
     "output_type": "execute_result"
    }
   ],
   "source": [
    "['Hello', 'World'] * 5"
   ]
  },
  {
   "cell_type": "code",
   "execution_count": 6,
   "metadata": {},
   "outputs": [],
   "source": [
    "def print_two(*args):\n",
    "    arg1, arg2 = args\n",
    "    print(f\"arg1: {arg1}, arg2:{arg2}\")\n",
    "    \n"
   ]
  },
  {
   "cell_type": "code",
   "execution_count": 7,
   "metadata": {},
   "outputs": [
    {
     "name": "stdout",
     "output_type": "stream",
     "text": [
      "arg1: Chung, arg2:Zhong\n"
     ]
    }
   ],
   "source": [
    "print_two(\"Chung\",\"Zhong\")"
   ]
  },
  {
   "cell_type": "code",
   "execution_count": 8,
   "metadata": {},
   "outputs": [
    {
     "name": "stdout",
     "output_type": "stream",
     "text": [
      "arg1: Ashura\n"
     ]
    }
   ],
   "source": [
    "def print_one(arg1):\n",
    "    print(f\"arg1: {arg1}\")\n",
    "    \n",
    "print_one(\"Ashura\")"
   ]
  },
  {
   "cell_type": "code",
   "execution_count": 9,
   "metadata": {},
   "outputs": [
    {
     "name": "stdout",
     "output_type": "stream",
     "text": [
      "ALL BLANK\n"
     ]
    }
   ],
   "source": [
    "def print_none(*args):\n",
    "    print(\"ALL BLANK\")\n",
    "    \n",
    "print_none(\"I have no dream!\")"
   ]
  },
  {
   "cell_type": "code",
   "execution_count": 10,
   "metadata": {},
   "outputs": [
    {
     "name": "stdout",
     "output_type": "stream",
     "text": [
      "OR, we can use variables from our script:\n",
      "There are 8 dogs.\n",
      "There are 12 cats.\n",
      "We have reach the animal kingdom!\n",
      "Here cames a lion!\n"
     ]
    }
   ],
   "source": [
    "print(\"OR, we can use variables from our script:\")\n",
    "amount_of_dogs = 8\n",
    "amount_of_cats = 12\n",
    "dogs_and_cats(amount_of_dogs,amount_of_cats)"
   ]
  },
  {
   "cell_type": "code",
   "execution_count": 11,
   "metadata": {},
   "outputs": [
    {
     "name": "stdout",
     "output_type": "stream",
     "text": [
      "Let's do some math with just functions!\n",
      "ADDING 30 + 5\n",
      "SUBTRACTING 78 - 4\n",
      "MULTIPLYING 90 * 2\n",
      "DIVIDING 100 / 2\n",
      "Age: 35, Height: 74, Weight: 180, IQ: 50.0\n",
      "Here is a puzzle.\n",
      "DIVIDING 50.0 / 2\n",
      "MULTIPLYING 180 * 25.0\n",
      "SUBTRACTING 74 - 4500.0\n",
      "ADDING 35 + -4426.0\n",
      "That becomes:  -4391.0 Can you do it by hand?\n"
     ]
    }
   ],
   "source": [
    "def add(a, b):   \n",
    "    print(f\"ADDING {a} + {b}\")\n",
    "    return a + b\n",
    "\n",
    "def subtract(a, b):\n",
    "    print(f\"SUBTRACTING {a} - {b}\")\n",
    "    return a - b\n",
    "\n",
    "def multiply(a, b):\n",
    "    print(f\"MULTIPLYING {a} * {b}\")\n",
    "    return a * b\n",
    "\n",
    "def divide(a, b):\n",
    "    print(f\"DIVIDING {a} / {b}\")\n",
    "    return a / b\n",
    "\n",
    "\n",
    "print(\"Let's do some math with just functions!\")\n",
    "\n",
    "age = add(30, 5)\n",
    "height = subtract(78, 4)\n",
    "weight = multiply(90, 2)\n",
    "iq = divide(100, 2)\n",
    "\n",
    "print(f\"Age: {age}, Height: {height}, Weight: {weight}, IQ: {iq}\")\n",
    "\n",
    "\n",
    "# A puzzle for the extra credit, type it in anyway.\n",
    "print(\"Here is a puzzle.\")\n",
    "\n",
    "what = add(age, subtract(height, multiply(weight, divide(iq, 2))))\n",
    "\n",
    "print(\"That becomes: \", what, \"Can you do it by hand?\")"
   ]
  },
  {
   "cell_type": "code",
   "execution_count": 12,
   "metadata": {},
   "outputs": [
    {
     "name": "stdout",
     "output_type": "stream",
     "text": [
      "Adding 20 + 5\n"
     ]
    }
   ],
   "source": [
    "def add(a,b):\n",
    "    print(f\"Adding {a} + {b}\")\n",
    "    return a + b\n",
    "\n",
    "age = add(20,5)"
   ]
  },
  {
   "cell_type": "code",
   "execution_count": null,
   "metadata": {},
   "outputs": [],
   "source": []
  }
 ],
 "metadata": {
  "kernelspec": {
   "display_name": "Python 3",
   "language": "python",
   "name": "python3"
  },
  "language_info": {
   "codemirror_mode": {
    "name": "ipython",
    "version": 3
   },
   "file_extension": ".py",
   "mimetype": "text/x-python",
   "name": "python",
   "nbconvert_exporter": "python",
   "pygments_lexer": "ipython3",
   "version": "3.8.5"
  }
 },
 "nbformat": 4,
 "nbformat_minor": 4
}
