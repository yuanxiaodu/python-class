{
 "cells": [
  {
   "cell_type": "code",
   "execution_count": 1,
   "metadata": {},
   "outputs": [
    {
     "name": "stdout",
     "output_type": "stream",
     "text": [
      "Hello World!\n"
     ]
    }
   ],
   "source": [
    "print('Hello World!')"
   ]
  },
  {
   "cell_type": "code",
   "execution_count": 2,
   "metadata": {},
   "outputs": [
    {
     "name": "stdout",
     "output_type": "stream",
     "text": [
      "I'd much rather you 'not'.\n"
     ]
    }
   ],
   "source": [
    "print(\"I'd much rather you 'not'.\")"
   ]
  },
  {
   "cell_type": "code",
   "execution_count": 3,
   "metadata": {},
   "outputs": [
    {
     "name": "stdout",
     "output_type": "stream",
     "text": [
      "I \"said\" do not touch this.\n"
     ]
    }
   ],
   "source": [
    "print('I \"said\" do not touch this.')"
   ]
  },
  {
   "cell_type": "code",
   "execution_count": 4,
   "metadata": {},
   "outputs": [
    {
     "ename": "SyntaxError",
     "evalue": "unexpected EOF while parsing (<ipython-input-4-a524e261d199>, line 1)",
     "output_type": "error",
     "traceback": [
      "\u001b[1;36m  File \u001b[1;32m\"<ipython-input-4-a524e261d199>\"\u001b[1;36m, line \u001b[1;32m1\u001b[0m\n\u001b[1;33m    print('This will get an error'\u001b[0m\n\u001b[1;37m                                  ^\u001b[0m\n\u001b[1;31mSyntaxError\u001b[0m\u001b[1;31m:\u001b[0m unexpected EOF while parsing\n"
     ]
    }
   ],
   "source": [
    "print('This will get an error'"
   ]
  },
  {
   "cell_type": "code",
   "execution_count": 5,
   "metadata": {},
   "outputs": [
    {
     "name": "stdout",
     "output_type": "stream",
     "text": [
      "I could have code like this.\n"
     ]
    }
   ],
   "source": [
    "# This is a commnet. This is what the programmer whats to tell you.\n",
    "print(\"I could have code like this.\") \n",
    "# and the comment after is ignored"
   ]
  },
  {
   "cell_type": "code",
   "execution_count": 6,
   "metadata": {},
   "outputs": [],
   "source": [
    "counter = 200          # 整型变量\n",
    "miles   = 2000.0       # 浮点型变量\n",
    "name    = \"heyyyyy\"     # 字符串"
   ]
  },
  {
   "cell_type": "code",
   "execution_count": 8,
   "metadata": {},
   "outputs": [
    {
     "data": {
      "text/plain": [
       "200"
      ]
     },
     "execution_count": 8,
     "metadata": {},
     "output_type": "execute_result"
    }
   ],
   "source": [
    "counter"
   ]
  },
  {
   "cell_type": "code",
   "execution_count": 9,
   "metadata": {},
   "outputs": [
    {
     "data": {
      "text/plain": [
       "2000.0"
      ]
     },
     "execution_count": 9,
     "metadata": {},
     "output_type": "execute_result"
    }
   ],
   "source": [
    "miles"
   ]
  },
  {
   "cell_type": "code",
   "execution_count": 10,
   "metadata": {},
   "outputs": [
    {
     "data": {
      "text/plain": [
       "'heyyyyy'"
      ]
     },
     "execution_count": 10,
     "metadata": {},
     "output_type": "execute_result"
    }
   ],
   "source": [
    "counter\n",
    "miles\n",
    "name"
   ]
  },
  {
   "cell_type": "code",
   "execution_count": 11,
   "metadata": {},
   "outputs": [],
   "source": [
    "a=b=c=2"
   ]
  },
  {
   "cell_type": "code",
   "execution_count": 12,
   "metadata": {},
   "outputs": [
    {
     "data": {
      "text/plain": [
       "2"
      ]
     },
     "execution_count": 12,
     "metadata": {},
     "output_type": "execute_result"
    }
   ],
   "source": [
    "a"
   ]
  },
  {
   "cell_type": "code",
   "execution_count": 13,
   "metadata": {},
   "outputs": [
    {
     "data": {
      "text/plain": [
       "2"
      ]
     },
     "execution_count": 13,
     "metadata": {},
     "output_type": "execute_result"
    }
   ],
   "source": [
    "b"
   ]
  },
  {
   "cell_type": "code",
   "execution_count": 14,
   "metadata": {},
   "outputs": [
    {
     "data": {
      "text/plain": [
       "2"
      ]
     },
     "execution_count": 14,
     "metadata": {},
     "output_type": "execute_result"
    }
   ],
   "source": [
    "c"
   ]
  },
  {
   "cell_type": "code",
   "execution_count": 15,
   "metadata": {},
   "outputs": [],
   "source": [
    "a,b,c=1,2,'heyyyy'"
   ]
  },
  {
   "cell_type": "code",
   "execution_count": 16,
   "metadata": {},
   "outputs": [
    {
     "data": {
      "text/plain": [
       "'heyyyy'"
      ]
     },
     "execution_count": 16,
     "metadata": {},
     "output_type": "execute_result"
    }
   ],
   "source": [
    "c"
   ]
  },
  {
   "cell_type": "code",
   "execution_count": 17,
   "metadata": {},
   "outputs": [
    {
     "data": {
      "text/plain": [
       "['False',\n",
       " 'None',\n",
       " 'True',\n",
       " 'and',\n",
       " 'as',\n",
       " 'assert',\n",
       " 'async',\n",
       " 'await',\n",
       " 'break',\n",
       " 'class',\n",
       " 'continue',\n",
       " 'def',\n",
       " 'del',\n",
       " 'elif',\n",
       " 'else',\n",
       " 'except',\n",
       " 'finally',\n",
       " 'for',\n",
       " 'from',\n",
       " 'global',\n",
       " 'if',\n",
       " 'import',\n",
       " 'in',\n",
       " 'is',\n",
       " 'lambda',\n",
       " 'nonlocal',\n",
       " 'not',\n",
       " 'or',\n",
       " 'pass',\n",
       " 'raise',\n",
       " 'return',\n",
       " 'try',\n",
       " 'while',\n",
       " 'with',\n",
       " 'yield']"
      ]
     },
     "execution_count": 17,
     "metadata": {},
     "output_type": "execute_result"
    }
   ],
   "source": [
    "import keyword\n",
    "keyword.kwlist"
   ]
  },
  {
   "cell_type": "code",
   "execution_count": 18,
   "metadata": {},
   "outputs": [
    {
     "data": {
      "text/plain": [
       "'I will now count my chickens'"
      ]
     },
     "execution_count": 18,
     "metadata": {},
     "output_type": "execute_result"
    }
   ],
   "source": [
    "\"I will now count my chickens\""
   ]
  },
  {
   "cell_type": "code",
   "execution_count": 19,
   "metadata": {},
   "outputs": [
    {
     "name": "stdout",
     "output_type": "stream",
     "text": [
      "Hens 30.0\n"
     ]
    }
   ],
   "source": [
    "print(\"Hens\", 25 + 30 / 6)"
   ]
  },
  {
   "cell_type": "code",
   "execution_count": 20,
   "metadata": {},
   "outputs": [
    {
     "data": {
      "text/plain": [
       "7.75"
      ]
     },
     "execution_count": 20,
     "metadata": {},
     "output_type": "execute_result"
    }
   ],
   "source": [
    "3 + 2  - 5 + 4 % 2 - 1 / 4 + 8"
   ]
  },
  {
   "cell_type": "code",
   "execution_count": 21,
   "metadata": {},
   "outputs": [
    {
     "name": "stdout",
     "output_type": "stream",
     "text": [
      "Is it grater? True\n"
     ]
    }
   ],
   "source": [
    "print(\"Is it grater?\", 5 > 2)"
   ]
  },
  {
   "cell_type": "code",
   "execution_count": 22,
   "metadata": {},
   "outputs": [
    {
     "data": {
      "text/plain": [
       "True"
      ]
     },
     "execution_count": 22,
     "metadata": {},
     "output_type": "execute_result"
    }
   ],
   "source": [
    "5>=3"
   ]
  },
  {
   "cell_type": "code",
   "execution_count": 23,
   "metadata": {},
   "outputs": [
    {
     "data": {
      "text/plain": [
       "True"
      ]
     },
     "execution_count": 23,
     "metadata": {},
     "output_type": "execute_result"
    }
   ],
   "source": [
    "5>=5"
   ]
  },
  {
   "cell_type": "code",
   "execution_count": 24,
   "metadata": {},
   "outputs": [
    {
     "data": {
      "text/plain": [
       "False"
      ]
     },
     "execution_count": 24,
     "metadata": {},
     "output_type": "execute_result"
    }
   ],
   "source": [
    "5<5"
   ]
  },
  {
   "cell_type": "code",
   "execution_count": 25,
   "metadata": {},
   "outputs": [
    {
     "data": {
      "text/plain": [
       "False"
      ]
     },
     "execution_count": 25,
     "metadata": {},
     "output_type": "execute_result"
    }
   ],
   "source": [
    "3+3>4+2"
   ]
  },
  {
   "cell_type": "code",
   "execution_count": 26,
   "metadata": {},
   "outputs": [],
   "source": [
    "a,b=10,20"
   ]
  },
  {
   "cell_type": "code",
   "execution_count": 27,
   "metadata": {},
   "outputs": [],
   "source": [
    "c=a+b"
   ]
  },
  {
   "cell_type": "code",
   "execution_count": 28,
   "metadata": {},
   "outputs": [
    {
     "data": {
      "text/plain": [
       "30"
      ]
     },
     "execution_count": 28,
     "metadata": {},
     "output_type": "execute_result"
    }
   ],
   "source": [
    "c"
   ]
  },
  {
   "cell_type": "code",
   "execution_count": 1,
   "metadata": {},
   "outputs": [
    {
     "name": "stdout",
     "output_type": "stream",
     "text": [
      "(a + b) * c / d 运算结果为： 165.0\n",
      "((a + b) * c) / d 运算结果为： 165.0\n",
      "(a + b) * (c / d) 运算结果为： 165.0\n",
      "a + (b * c) / d 运算结果为： 105.0\n",
      "That is all.Thank you!\n"
     ]
    }
   ],
   "source": [
    "a = 30\n",
    "b = 25\n",
    "c = 15\n",
    "d = 5\n",
    "e = 0\n",
    " \n",
    "e = (a + b) * c / d       #( 30 * 15 ) / 5\n",
    "print (\"(a + b) * c / d 运算结果为：\",  e)\n",
    " \n",
    "e = ((a + b) * c) / d     # (30 * 15 ) / 5\n",
    "print (\"((a + b) * c) / d 运算结果为：\",  e)\n",
    " \n",
    "e = (a + b) * (c / d)    # (30) * (15/5)\n",
    "print (\"(a + b) * (c / d) 运算结果为：\",  e)\n",
    " \n",
    "e = a + (b * c) / d      #  20 + (150/5)\n",
    "print (\"a + (b * c) / d 运算结果为：\",  e)\n",
    "word=\"That is all.\"\n",
    "word=word+\"Thank you!\"\n",
    "print(word)"
   ]
  },
  {
   "cell_type": "code",
   "execution_count": 2,
   "metadata": {},
   "outputs": [
    {
     "name": "stdout",
     "output_type": "stream",
     "text": [
      "Let's talk about Zhang Shuhao.\n",
      "He's 56 inches tall.\n",
      "He's 173 pounds heavy.\n",
      "Actually that's not too heavy.\n",
      "He's got Black eyes and Black hair.\n",
      "His teeth are usually White depending on the coffee.\n",
      "If I add 21, 56, and 173 I get 250.\n",
      "That is all.Thank you!\n"
     ]
    }
   ],
   "source": [
    "my_name = 'Zhang Shuhao'\n",
    "my_age = 21 # not a lie\n",
    "my_height = 56 # inches\n",
    "my_weight = 173 # lbs\n",
    "my_eyes = 'Black'\n",
    "my_teeth = 'White'\n",
    "my_hair = 'Black'\n",
    "\n",
    "print(f\"Let's talk about {my_name}.\")\n",
    "print(f\"He's {my_height} inches tall.\")\n",
    "print(f\"He's {my_weight} pounds heavy.\")\n",
    "print(\"Actually that's not too heavy.\")\n",
    "print(f\"He's got {my_eyes} eyes and {my_hair} hair.\")\n",
    "print(f\"His teeth are usually {my_teeth} depending on the coffee.\")\n",
    "\n",
    "# this line is tricky, try to get it exactly right\n",
    "total = my_age + my_height + my_weight\n",
    "print(f\"If I add {my_age}, {my_height}, and {my_weight} I get {total}.\")\n",
    "word=\"That is all.\"\n",
    "word=word+\"Thank you!\"\n",
    "print(word)"
   ]
  },
  {
   "cell_type": "code",
   "execution_count": 3,
   "metadata": {},
   "outputs": [
    {
     "name": "stdout",
     "output_type": "stream",
     "text": [
      "There are 10 types of people.\n",
      "Those who know binary and those who don't.\n",
      "I said: There are 10 types of people.\n",
      "I also said: 'Those who know binary and those who don't.'\n",
      "Isn't that joke so funny?! False\n",
      "This is the left side of...a string with a right side.\n",
      "That is all.Thank you!\n"
     ]
    }
   ],
   "source": [
    "types_of_people = 10\n",
    "x = f\"There are {types_of_people} types of people.\"\n",
    "binary = \"binary\"\n",
    "do_not = \"don't\"\n",
    "y = f\"Those who know {binary} and those who {do_not}.\"\n",
    "print(x)\n",
    "print(y)\n",
    "print(f\"I said: {x}\")\n",
    "print(f\"I also said: '{y}'\")\n",
    "hilarious = False\n",
    "joke_evaluation = \"Isn't that joke so funny?! {}\"\n",
    "print(joke_evaluation.format(hilarious))\n",
    "w = \"This is the left side of...\"\n",
    "e = \"a string with a right side.\"\n",
    "print(w + e)\n",
    "word=\"That is all.\"\n",
    "word=word+\"Thank you!\"\n",
    "print(word)"
   ]
  },
  {
   "cell_type": "code",
   "execution_count": 4,
   "metadata": {},
   "outputs": [
    {
     "name": "stdout",
     "output_type": "stream",
     "text": [
      "Mary had a little lamb.\n",
      "Its fleece was white as snow.\n",
      "And everywhere that Mary went.\n",
      "..........\n",
      "cheese Burger\n",
      "That is all.Thank you!\n"
     ]
    }
   ],
   "source": [
    "print(\"Mary had a little lamb.\")\n",
    "print(\"Its fleece was white as {}.\".format('snow'))\n",
    "print(\"And everywhere that Mary went.\")\n",
    "print(\".\" * 10)  \n",
    "\n",
    "end1 = \"c\"\n",
    "end2 = \"h\"\n",
    "end3 = \"e\"\n",
    "end4 = \"e\"\n",
    "end5 = \"s\"\n",
    "end6 = \"e\"\n",
    "end7 = \"B\"\n",
    "end8 = \"u\"\n",
    "end9 = \"r\"\n",
    "end10 = \"g\"\n",
    "end11 = \"e\"\n",
    "end12 = \"r\"\n",
    "\n",
    "print(end1 + end2 + end3 + end4 + end5 + end6, end=' ')\n",
    "print(end7 + end8 + end9 + end10 + end11 + end12)\n",
    "word=\"That is all.\"\n",
    "word=word+\"Thank you!\"\n",
    "print(word)"
   ]
  },
  {
   "cell_type": "code",
   "execution_count": 5,
   "metadata": {},
   "outputs": [
    {
     "name": "stdout",
     "output_type": "stream",
     "text": [
      "1 2 3 4\n",
      "one two three four\n",
      "True False False True\n",
      "{} {} {} {} {} {} {} {} {} {} {} {} {} {} {} {}\n",
      "I had this thing. That you could type up right. But it didn't sing. So I said goodnight.\n",
      "That is all.Thank you!\n"
     ]
    }
   ],
   "source": [
    "formatter = \"{} {} {} {}\"\n",
    "print(formatter.format(1, 2, 3, 4))\n",
    "print(formatter.format(\"one\", \"two\", \"three\", \"four\"))\n",
    "print(formatter.format(True, False, False, True))\n",
    "print(formatter.format(formatter, formatter, formatter, formatter))\n",
    "print(formatter.format\n",
    "          (\n",
    "            \"I had this thing.\",\n",
    "            \"That you could type up right.\",\n",
    "            \"But it didn't sing.\",\n",
    "            \"So I said goodnight.\"\n",
    "          )\n",
    "     )\n",
    "word=\"That is all.\"\n",
    "word=word+\"Thank you!\"\n",
    "print(word)"
   ]
  },
  {
   "cell_type": "code",
   "execution_count": 34,
   "metadata": {},
   "outputs": [
    {
     "name": "stdout",
     "output_type": "stream",
     "text": [
      "Here are the days:  Mon Tue Wed Thu Fri Sat Sun\n",
      "Here are the months:  Jan\n",
      "Feb\n",
      "Mar\n",
      "Apr\n",
      "May\n",
      "Jun\n",
      "Jul\n",
      "Aug\n"
     ]
    },
    {
     "data": {
      "text/plain": [
       "\"\\nThere's something going on here.\\nWith the three double-quotes.\\nWe'll be able to type as much as we like.\\nEven 4 lines if we want, or 5, or 6.\\n\""
      ]
     },
     "execution_count": 34,
     "metadata": {},
     "output_type": "execute_result"
    }
   ],
   "source": [
    "# Here's some new strange stuff, remember type it exactly.\n",
    "days = \"Mon Tue Wed Thu Fri Sat Sun\"\n",
    "months = \"Jan\\nFeb\\nMar\\nApr\\nMay\\nJun\\nJul\\nAug\"\n",
    "print(\"Here are the days: \", days)\n",
    "print(\"Here are the months: \", months)\n",
    "print\n",
    "(\"\"\"\n",
    "There's something going on here.\n",
    "With the three double-quotes.\n",
    "We'll be able to type as much as we like.\n",
    "Even 4 lines if we want, or 5, or 6.\n",
    "\"\"\"\n",
    ")"
   ]
  },
  {
   "cell_type": "code",
   "execution_count": 6,
   "metadata": {},
   "outputs": [
    {
     "name": "stdout",
     "output_type": "stream",
     "text": [
      "\tI'm tabbed in.\n",
      "I'm split\n",
      "on a line.\n",
      "I'm \\ a \\ cat.\n",
      "\n",
      "I'll do a list:\n",
      "\t* Cat food\n",
      "\t* Fishies\n",
      "\t* Catnip\n",
      "\t* Grass\n",
      "\n",
      "That is all.Thank you!\n"
     ]
    }
   ],
   "source": [
    "tabby_cat = \"\\tI'm tabbed in.\"\n",
    "persian_cat = \"I'm split\\non a line.\"\n",
    "backslash_cat = \"I'm \\\\ a \\\\ cat.\"\n",
    "fat_cat = \"\"\"\n",
    "I'll do a list:\n",
    "\\t* Cat food\n",
    "\\t* Fishies\n",
    "\\t* Catnip\\n\\t* Grass\n",
    "\"\"\"\n",
    "print(tabby_cat)\n",
    "print(persian_cat)\n",
    "print(backslash_cat)\n",
    "print(fat_cat)\n",
    "word=\"That is all.\"\n",
    "word=word+\"Thank you!\"\n",
    "print(word)"
   ]
  },
  {
   "cell_type": "code",
   "execution_count": 7,
   "metadata": {},
   "outputs": [
    {
     "name": "stdout",
     "output_type": "stream",
     "text": [
      "How old are you? 18\n",
      "How tall are you? 173\n",
      "How much do you weigh? 56\n",
      "So, you're 18 old, 173 tall and 56 heavy.\n",
      "That is all.Thank you!\n"
     ]
    }
   ],
   "source": [
    "print(\"How old are you?\", end=' ')\n",
    "age = input()\n",
    "print(\"How tall are you?\", end=' ')\n",
    "height = input()\n",
    "print(\"How much do you weigh?\", end=' ')\n",
    "weight = input()\n",
    "print(f\"So, you're {age} old, {height} tall and {weight} heavy.\")\n",
    "word=\"That is all.\"\n",
    "word=word+\"Thank you!\"\n",
    "print(word)"
   ]
  },
  {
   "cell_type": "code",
   "execution_count": 8,
   "metadata": {},
   "outputs": [
    {
     "name": "stdout",
     "output_type": "stream",
     "text": [
      "How old are you? 18\n",
      "How tall are you? 173\n",
      "How much do you weigh? 56\n",
      "So, you're 18 old, 173 tall and 56 heavy.\n",
      "That is all.Thank you!\n"
     ]
    }
   ],
   "source": [
    "age = input(\"How old are you? \")\n",
    "height = input(\"How tall are you? \")\n",
    "weight = input(\"How much do you weigh? \")\n",
    "print(f\"So, you're {age} old, {height} tall and {weight} heavy.\")\n",
    "word=\"That is all.\"\n",
    "word=word+\"Thank you!\"\n",
    "print(word)"
   ]
  },
  {
   "cell_type": "code",
   "execution_count": 9,
   "metadata": {},
   "outputs": [
    {
     "name": "stdout",
     "output_type": "stream",
     "text": [
      "The script is called: D:\\software\\Anaconda\\lib\\site-packages\\ipykernel_launcher.py\n",
      "Your first variable is: -f\n",
      "Your second variable is: C:\\Users\\huanx\\AppData\\Roaming\\jupyter\\runtime\\kernel-32691ae2-cb27-446d-b13a-9d8154d1c659.json\n",
      "That is all.Thank you!\n"
     ]
    }
   ],
   "source": [
    "from sys import argv\n",
    "script, first, second = argv\n",
    "print(\"The script is called:\", script)\n",
    "print(\"Your first variable is:\", first)\n",
    "print(\"Your second variable is:\", second)\n",
    "word=\"That is all.\"\n",
    "word=word+\"Thank you!\"\n",
    "print(word)"
   ]
  },
  {
   "cell_type": "code",
   "execution_count": 1,
   "metadata": {},
   "outputs": [
    {
     "ename": "FileNotFoundError",
     "evalue": "[Errno 2] File b'douban/movie_comments.csv' does not exist: b'douban/movie_comments.csv'",
     "output_type": "error",
     "traceback": [
      "\u001b[1;31m---------------------------------------------------------------------------\u001b[0m",
      "\u001b[1;31mFileNotFoundError\u001b[0m                         Traceback (most recent call last)",
      "\u001b[1;32m<ipython-input-1-715d95c4ca7c>\u001b[0m in \u001b[0;36m<module>\u001b[1;34m\u001b[0m\n\u001b[0;32m      2\u001b[0m \u001b[1;32mimport\u001b[0m \u001b[0mpandas\u001b[0m \u001b[1;32mas\u001b[0m \u001b[0mpd\u001b[0m\u001b[1;33m\u001b[0m\u001b[1;33m\u001b[0m\u001b[0m\n\u001b[0;32m      3\u001b[0m \u001b[1;31m#os.chdir(\"D:\\\\software\\\\python\\\\python-class-main\\x01\\\\douban\")\u001b[0m\u001b[1;33m\u001b[0m\u001b[1;33m\u001b[0m\u001b[1;33m\u001b[0m\u001b[0m\n\u001b[1;32m----> 4\u001b[1;33m \u001b[0mcsv\u001b[0m \u001b[1;33m=\u001b[0m \u001b[0mpd\u001b[0m\u001b[1;33m.\u001b[0m\u001b[0mread_csv\u001b[0m\u001b[1;33m(\u001b[0m\u001b[1;34m'douban/movie_comments.csv'\u001b[0m\u001b[1;33m)\u001b[0m\u001b[1;33m\u001b[0m\u001b[1;33m\u001b[0m\u001b[0m\n\u001b[0m\u001b[0;32m      5\u001b[0m \u001b[1;33m\u001b[0m\u001b[0m\n\u001b[0;32m      6\u001b[0m \u001b[0mcsv\u001b[0m\u001b[1;33m\u001b[0m\u001b[1;33m\u001b[0m\u001b[0m\n",
      "\u001b[1;32mD:\\software\\Anaconda\\lib\\site-packages\\pandas\\io\\parsers.py\u001b[0m in \u001b[0;36mparser_f\u001b[1;34m(filepath_or_buffer, sep, delimiter, header, names, index_col, usecols, squeeze, prefix, mangle_dupe_cols, dtype, engine, converters, true_values, false_values, skipinitialspace, skiprows, skipfooter, nrows, na_values, keep_default_na, na_filter, verbose, skip_blank_lines, parse_dates, infer_datetime_format, keep_date_col, date_parser, dayfirst, cache_dates, iterator, chunksize, compression, thousands, decimal, lineterminator, quotechar, quoting, doublequote, escapechar, comment, encoding, dialect, error_bad_lines, warn_bad_lines, delim_whitespace, low_memory, memory_map, float_precision)\u001b[0m\n\u001b[0;32m    683\u001b[0m         )\n\u001b[0;32m    684\u001b[0m \u001b[1;33m\u001b[0m\u001b[0m\n\u001b[1;32m--> 685\u001b[1;33m         \u001b[1;32mreturn\u001b[0m \u001b[0m_read\u001b[0m\u001b[1;33m(\u001b[0m\u001b[0mfilepath_or_buffer\u001b[0m\u001b[1;33m,\u001b[0m \u001b[0mkwds\u001b[0m\u001b[1;33m)\u001b[0m\u001b[1;33m\u001b[0m\u001b[1;33m\u001b[0m\u001b[0m\n\u001b[0m\u001b[0;32m    686\u001b[0m \u001b[1;33m\u001b[0m\u001b[0m\n\u001b[0;32m    687\u001b[0m     \u001b[0mparser_f\u001b[0m\u001b[1;33m.\u001b[0m\u001b[0m__name__\u001b[0m \u001b[1;33m=\u001b[0m \u001b[0mname\u001b[0m\u001b[1;33m\u001b[0m\u001b[1;33m\u001b[0m\u001b[0m\n",
      "\u001b[1;32mD:\\software\\Anaconda\\lib\\site-packages\\pandas\\io\\parsers.py\u001b[0m in \u001b[0;36m_read\u001b[1;34m(filepath_or_buffer, kwds)\u001b[0m\n\u001b[0;32m    455\u001b[0m \u001b[1;33m\u001b[0m\u001b[0m\n\u001b[0;32m    456\u001b[0m     \u001b[1;31m# Create the parser.\u001b[0m\u001b[1;33m\u001b[0m\u001b[1;33m\u001b[0m\u001b[1;33m\u001b[0m\u001b[0m\n\u001b[1;32m--> 457\u001b[1;33m     \u001b[0mparser\u001b[0m \u001b[1;33m=\u001b[0m \u001b[0mTextFileReader\u001b[0m\u001b[1;33m(\u001b[0m\u001b[0mfp_or_buf\u001b[0m\u001b[1;33m,\u001b[0m \u001b[1;33m**\u001b[0m\u001b[0mkwds\u001b[0m\u001b[1;33m)\u001b[0m\u001b[1;33m\u001b[0m\u001b[1;33m\u001b[0m\u001b[0m\n\u001b[0m\u001b[0;32m    458\u001b[0m \u001b[1;33m\u001b[0m\u001b[0m\n\u001b[0;32m    459\u001b[0m     \u001b[1;32mif\u001b[0m \u001b[0mchunksize\u001b[0m \u001b[1;32mor\u001b[0m \u001b[0miterator\u001b[0m\u001b[1;33m:\u001b[0m\u001b[1;33m\u001b[0m\u001b[1;33m\u001b[0m\u001b[0m\n",
      "\u001b[1;32mD:\\software\\Anaconda\\lib\\site-packages\\pandas\\io\\parsers.py\u001b[0m in \u001b[0;36m__init__\u001b[1;34m(self, f, engine, **kwds)\u001b[0m\n\u001b[0;32m    893\u001b[0m             \u001b[0mself\u001b[0m\u001b[1;33m.\u001b[0m\u001b[0moptions\u001b[0m\u001b[1;33m[\u001b[0m\u001b[1;34m\"has_index_names\"\u001b[0m\u001b[1;33m]\u001b[0m \u001b[1;33m=\u001b[0m \u001b[0mkwds\u001b[0m\u001b[1;33m[\u001b[0m\u001b[1;34m\"has_index_names\"\u001b[0m\u001b[1;33m]\u001b[0m\u001b[1;33m\u001b[0m\u001b[1;33m\u001b[0m\u001b[0m\n\u001b[0;32m    894\u001b[0m \u001b[1;33m\u001b[0m\u001b[0m\n\u001b[1;32m--> 895\u001b[1;33m         \u001b[0mself\u001b[0m\u001b[1;33m.\u001b[0m\u001b[0m_make_engine\u001b[0m\u001b[1;33m(\u001b[0m\u001b[0mself\u001b[0m\u001b[1;33m.\u001b[0m\u001b[0mengine\u001b[0m\u001b[1;33m)\u001b[0m\u001b[1;33m\u001b[0m\u001b[1;33m\u001b[0m\u001b[0m\n\u001b[0m\u001b[0;32m    896\u001b[0m \u001b[1;33m\u001b[0m\u001b[0m\n\u001b[0;32m    897\u001b[0m     \u001b[1;32mdef\u001b[0m \u001b[0mclose\u001b[0m\u001b[1;33m(\u001b[0m\u001b[0mself\u001b[0m\u001b[1;33m)\u001b[0m\u001b[1;33m:\u001b[0m\u001b[1;33m\u001b[0m\u001b[1;33m\u001b[0m\u001b[0m\n",
      "\u001b[1;32mD:\\software\\Anaconda\\lib\\site-packages\\pandas\\io\\parsers.py\u001b[0m in \u001b[0;36m_make_engine\u001b[1;34m(self, engine)\u001b[0m\n\u001b[0;32m   1133\u001b[0m     \u001b[1;32mdef\u001b[0m \u001b[0m_make_engine\u001b[0m\u001b[1;33m(\u001b[0m\u001b[0mself\u001b[0m\u001b[1;33m,\u001b[0m \u001b[0mengine\u001b[0m\u001b[1;33m=\u001b[0m\u001b[1;34m\"c\"\u001b[0m\u001b[1;33m)\u001b[0m\u001b[1;33m:\u001b[0m\u001b[1;33m\u001b[0m\u001b[1;33m\u001b[0m\u001b[0m\n\u001b[0;32m   1134\u001b[0m         \u001b[1;32mif\u001b[0m \u001b[0mengine\u001b[0m \u001b[1;33m==\u001b[0m \u001b[1;34m\"c\"\u001b[0m\u001b[1;33m:\u001b[0m\u001b[1;33m\u001b[0m\u001b[1;33m\u001b[0m\u001b[0m\n\u001b[1;32m-> 1135\u001b[1;33m             \u001b[0mself\u001b[0m\u001b[1;33m.\u001b[0m\u001b[0m_engine\u001b[0m \u001b[1;33m=\u001b[0m \u001b[0mCParserWrapper\u001b[0m\u001b[1;33m(\u001b[0m\u001b[0mself\u001b[0m\u001b[1;33m.\u001b[0m\u001b[0mf\u001b[0m\u001b[1;33m,\u001b[0m \u001b[1;33m**\u001b[0m\u001b[0mself\u001b[0m\u001b[1;33m.\u001b[0m\u001b[0moptions\u001b[0m\u001b[1;33m)\u001b[0m\u001b[1;33m\u001b[0m\u001b[1;33m\u001b[0m\u001b[0m\n\u001b[0m\u001b[0;32m   1136\u001b[0m         \u001b[1;32melse\u001b[0m\u001b[1;33m:\u001b[0m\u001b[1;33m\u001b[0m\u001b[1;33m\u001b[0m\u001b[0m\n\u001b[0;32m   1137\u001b[0m             \u001b[1;32mif\u001b[0m \u001b[0mengine\u001b[0m \u001b[1;33m==\u001b[0m \u001b[1;34m\"python\"\u001b[0m\u001b[1;33m:\u001b[0m\u001b[1;33m\u001b[0m\u001b[1;33m\u001b[0m\u001b[0m\n",
      "\u001b[1;32mD:\\software\\Anaconda\\lib\\site-packages\\pandas\\io\\parsers.py\u001b[0m in \u001b[0;36m__init__\u001b[1;34m(self, src, **kwds)\u001b[0m\n\u001b[0;32m   1915\u001b[0m         \u001b[0mkwds\u001b[0m\u001b[1;33m[\u001b[0m\u001b[1;34m\"usecols\"\u001b[0m\u001b[1;33m]\u001b[0m \u001b[1;33m=\u001b[0m \u001b[0mself\u001b[0m\u001b[1;33m.\u001b[0m\u001b[0musecols\u001b[0m\u001b[1;33m\u001b[0m\u001b[1;33m\u001b[0m\u001b[0m\n\u001b[0;32m   1916\u001b[0m \u001b[1;33m\u001b[0m\u001b[0m\n\u001b[1;32m-> 1917\u001b[1;33m         \u001b[0mself\u001b[0m\u001b[1;33m.\u001b[0m\u001b[0m_reader\u001b[0m \u001b[1;33m=\u001b[0m \u001b[0mparsers\u001b[0m\u001b[1;33m.\u001b[0m\u001b[0mTextReader\u001b[0m\u001b[1;33m(\u001b[0m\u001b[0msrc\u001b[0m\u001b[1;33m,\u001b[0m \u001b[1;33m**\u001b[0m\u001b[0mkwds\u001b[0m\u001b[1;33m)\u001b[0m\u001b[1;33m\u001b[0m\u001b[1;33m\u001b[0m\u001b[0m\n\u001b[0m\u001b[0;32m   1918\u001b[0m         \u001b[0mself\u001b[0m\u001b[1;33m.\u001b[0m\u001b[0munnamed_cols\u001b[0m \u001b[1;33m=\u001b[0m \u001b[0mself\u001b[0m\u001b[1;33m.\u001b[0m\u001b[0m_reader\u001b[0m\u001b[1;33m.\u001b[0m\u001b[0munnamed_cols\u001b[0m\u001b[1;33m\u001b[0m\u001b[1;33m\u001b[0m\u001b[0m\n\u001b[0;32m   1919\u001b[0m \u001b[1;33m\u001b[0m\u001b[0m\n",
      "\u001b[1;32mpandas\\_libs\\parsers.pyx\u001b[0m in \u001b[0;36mpandas._libs.parsers.TextReader.__cinit__\u001b[1;34m()\u001b[0m\n",
      "\u001b[1;32mpandas\\_libs\\parsers.pyx\u001b[0m in \u001b[0;36mpandas._libs.parsers.TextReader._setup_parser_source\u001b[1;34m()\u001b[0m\n",
      "\u001b[1;31mFileNotFoundError\u001b[0m: [Errno 2] File b'douban/movie_comments.csv' does not exist: b'douban/movie_comments.csv'"
     ]
    }
   ],
   "source": [
    "#import os\n",
    "import pandas as pd\n",
    "#os.chdir(\"D:\\\\software\\\\python\\\\python-class-main\\01\\\\douban\")\n",
    "csv = pd.read_csv('douban/movie_comments.csv')\n",
    "\n",
    "csv"
   ]
  },
  {
   "cell_type": "code",
   "execution_count": 10,
   "metadata": {},
   "outputs": [
    {
     "name": "stdout",
     "output_type": "stream",
     "text": [
      "100=无解！\n",
      "101=无解！\n",
      "102=17+17+17+17+17+17\n",
      "103=无解！\n",
      "104=17+17+17+17+17+19\n",
      "105=17+17+71\n",
      "106=17+17+17+17+19+19\n",
      "107=17+19+71\n",
      "108=17+17+17+19+19+19\n",
      "109=19+19+71\n",
      "110=17+17+19+19+19+19\n",
      "111=无解！\n",
      "112=17+17+17+61\n",
      "113=无解！\n",
      "114=17+17+19+61\n",
      "115=无解！\n",
      "116=17+19+19+61\n",
      "117=无解！\n",
      "118=19+19+19+61\n",
      "119=17+17+17+17+17+17+17\n",
      "120=无解！\n",
      "121=17+17+17+17+17+17+19\n",
      "122=17+17+17+71\n",
      "123=17+17+17+17+17+19+19\n",
      "124=17+17+19+71\n",
      "125=17+17+17+17+19+19+19\n",
      "126=17+19+19+71\n",
      "127=17+17+17+19+19+19+19\n",
      "128=19+19+19+71\n",
      "129=17+17+17+17+61\n",
      "130=无解！\n",
      "131=17+17+17+19+61\n",
      "132=61+71\n",
      "133=17+17+19+19+61\n",
      "134=无解！\n",
      "135=17+19+19+19+61\n",
      "136=17+17+17+17+17+17+17+17\n",
      "137=19+19+19+19+61\n",
      "138=17+17+17+17+17+17+17+19\n",
      "139=17+17+17+17+71\n",
      "140=17+17+17+17+17+17+19+19\n",
      "141=17+17+17+19+71\n",
      "142=71+71\n",
      "143=17+17+19+19+71\n",
      "144=17+17+17+17+19+19+19+19\n",
      "145=17+19+19+19+71\n",
      "146=17+17+17+17+17+61\n",
      "147=19+19+19+19+71\n",
      "148=17+17+17+17+19+61\n",
      "149=17+61+71\n",
      "150=17+17+17+19+19+61\n",
      "151=19+61+71\n",
      "152=17+17+19+19+19+61\n",
      "153=17+17+17+17+17+17+17+17+17\n",
      "154=17+19+19+19+19+61\n",
      "155=17+17+17+17+17+17+17+17+19\n",
      "156=17+17+17+17+17+71\n",
      "157=17+17+17+17+17+17+17+19+19\n",
      "158=17+17+17+17+19+71\n",
      "159=17+71+71\n",
      "160=17+17+17+19+19+71\n",
      "161=19+71+71\n",
      "162=17+17+19+19+19+71\n",
      "163=17+17+17+17+17+17+61\n",
      "164=17+19+19+19+19+71\n",
      "165=17+17+17+17+17+19+61\n",
      "166=17+17+61+71\n",
      "167=17+17+17+17+19+19+61\n",
      "168=17+19+61+71\n",
      "169=17+17+17+19+19+19+61\n",
      "170=19+19+61+71\n",
      "171=17+17+19+19+19+19+61\n",
      "172=17+17+17+17+17+17+17+17+17+19\n",
      "173=17+17+17+17+17+17+71\n",
      "174=17+17+17+17+17+17+17+17+19+19\n",
      "175=17+17+17+17+17+19+71\n",
      "176=17+17+71+71\n",
      "177=17+17+17+17+19+19+71\n",
      "178=17+19+71+71\n",
      "179=17+17+17+19+19+19+71\n",
      "180=19+19+71+71\n",
      "181=17+17+19+19+19+19+71\n",
      "182=17+17+17+17+17+17+19+61\n",
      "183=17+17+17+61+71\n",
      "184=17+17+17+17+17+19+19+61\n",
      "185=17+17+19+61+71\n",
      "186=17+17+17+17+19+19+19+61\n",
      "187=17+19+19+61+71\n",
      "188=17+17+17+19+19+19+19+61\n",
      "189=19+19+19+61+71\n",
      "190=17+17+17+17+17+17+17+71\n",
      "191=17+17+17+17+17+17+17+17+17+19+19\n",
      "192=17+17+17+17+17+17+19+71\n",
      "193=17+17+17+71+71\n",
      "194=17+17+17+17+17+19+19+71\n",
      "195=17+17+19+71+71\n",
      "196=17+17+17+17+19+19+19+71\n",
      "197=17+19+19+71+71\n",
      "198=17+17+17+19+19+19+19+71\n",
      "199=19+19+19+71+71\n",
      "hahahaha\n"
     ]
    }
   ],
   "source": [
    "def ss(n,numlist):\n",
    "    #功能：用numlist里面的数字，随意组合，使它们的和凑成n\n",
    "    \n",
    "    #给列表排序，将大数放前面，以便先尝试大数\n",
    "    numlist.sort(reverse=True)\n",
    " \n",
    "    #如果n小于最小对的数，尝试失败，返回0\n",
    "    if (n<min(numlist)):\n",
    "        return '0'\n",
    "    \n",
    "    #逐一核对，如果n刚好等于numlist列表的某个数，组合成功。\n",
    "    for i in numlist:\n",
    "        if n==i:\n",
    "            return str(i)\n",
    " \n",
    "    #逐一迭代，如果返回的值第一个字符不是0，表示尝试成功，返回值。    \n",
    "    for i in numlist:        \n",
    "        ti=ss(n-i,numlist)\n",
    "        if ti[0]!='0':\n",
    "            return ti+'+'+str(i)\n",
    "        else:\n",
    "            del ti\n",
    " \n",
    "    #如果上面有尝试成功，这句话不会被执行，\n",
    "    #以上尝试失败，会执行下面的语句，返回0\n",
    "    return '0'\n",
    " \n",
    " \n",
    "for i in range(100,200):\n",
    "    t=ss(i,[61,71,17,19])\n",
    "    if t!='0':\n",
    "        print(str(i)+\"=\"+t)\n",
    "    else:\n",
    "        print(str(i)+\"=无解！\")\n",
    "        \n",
    "print(\"hahahaha\")"
   ]
  },
  {
   "cell_type": "code",
   "execution_count": 11,
   "metadata": {},
   "outputs": [
    {
     "name": "stdout",
     "output_type": "stream",
     "text": [
      "100=无解！\n",
      "101=无解！\n",
      "102=17+17+17+17+17+17\n",
      "103=无解！\n",
      "104=17+17+17+17+17+19\n",
      "105=17+17+71\n",
      "106=17+17+17+17+19+19\n",
      "107=17+19+71\n",
      "108=17+17+17+19+19+19\n",
      "109=19+19+71\n",
      "110=17+17+19+19+19+19\n",
      "111=无解！\n",
      "112=17+17+17+61\n",
      "113=无解！\n",
      "114=17+17+19+61\n",
      "115=无解！\n",
      "116=17+19+19+61\n",
      "117=无解！\n",
      "118=19+19+19+61\n",
      "119=17+17+17+17+17+17+17\n",
      "120=无解！\n",
      "121=17+17+17+17+17+17+19\n",
      "122=17+17+17+71\n",
      "123=17+17+17+17+17+19+19\n",
      "124=17+17+19+71\n",
      "125=17+17+17+17+19+19+19\n",
      "126=17+19+19+71\n",
      "127=17+17+17+19+19+19+19\n",
      "128=19+19+19+71\n",
      "129=17+17+17+17+61\n",
      "130=无解！\n",
      "131=17+17+17+19+61\n",
      "132=61+71\n",
      "133=17+17+19+19+61\n",
      "134=无解！\n",
      "135=17+19+19+19+61\n",
      "136=17+17+17+17+17+17+17+17\n",
      "137=19+19+19+19+61\n",
      "138=17+17+17+17+17+17+17+19\n",
      "139=17+17+17+17+71\n",
      "140=17+17+17+17+17+17+19+19\n",
      "141=17+17+17+19+71\n",
      "142=71+71\n",
      "143=17+17+19+19+71\n",
      "144=17+17+17+17+19+19+19+19\n",
      "145=17+19+19+19+71\n",
      "146=17+17+17+17+17+61\n",
      "147=19+19+19+19+71\n",
      "148=17+17+17+17+19+61\n",
      "149=17+61+71\n",
      "150=17+17+17+19+19+61\n",
      "151=19+61+71\n",
      "152=17+17+19+19+19+61\n",
      "153=17+17+17+17+17+17+17+17+17\n",
      "154=17+19+19+19+19+61\n",
      "155=17+17+17+17+17+17+17+17+19\n",
      "156=17+17+17+17+17+71\n",
      "157=17+17+17+17+17+17+17+19+19\n",
      "158=17+17+17+17+19+71\n",
      "159=17+71+71\n",
      "160=17+17+17+19+19+71\n",
      "161=19+71+71\n",
      "162=17+17+19+19+19+71\n",
      "163=17+17+17+17+17+17+61\n",
      "164=17+19+19+19+19+71\n",
      "165=17+17+17+17+17+19+61\n",
      "166=17+17+61+71\n",
      "167=17+17+17+17+19+19+61\n",
      "168=17+19+61+71\n",
      "169=17+17+17+19+19+19+61\n",
      "170=19+19+61+71\n",
      "171=17+17+19+19+19+19+61\n",
      "172=17+17+17+17+17+17+17+17+17+19\n",
      "173=17+17+17+17+17+17+71\n",
      "174=17+17+17+17+17+17+17+17+19+19\n",
      "175=17+17+17+17+17+19+71\n",
      "176=17+17+71+71\n",
      "177=17+17+17+17+19+19+71\n",
      "178=17+19+71+71\n",
      "179=17+17+17+19+19+19+71\n",
      "180=19+19+71+71\n",
      "181=17+17+19+19+19+19+71\n",
      "182=17+17+17+17+17+17+19+61\n",
      "183=17+17+17+61+71\n",
      "184=17+17+17+17+17+19+19+61\n",
      "185=17+17+19+61+71\n",
      "186=17+17+17+17+19+19+19+61\n",
      "187=17+19+19+61+71\n",
      "188=17+17+17+19+19+19+19+61\n",
      "189=19+19+19+61+71\n",
      "190=17+17+17+17+17+17+17+71\n",
      "191=17+17+17+17+17+17+17+17+17+19+19\n",
      "192=17+17+17+17+17+17+19+71\n",
      "193=17+17+17+71+71\n",
      "194=17+17+17+17+17+19+19+71\n",
      "195=17+17+19+71+71\n",
      "196=17+17+17+17+19+19+19+71\n",
      "197=17+19+19+71+71\n",
      "198=17+17+17+19+19+19+19+71\n",
      "199=19+19+19+71+71\n",
      "That is all.Thank you!\n"
     ]
    }
   ],
   "source": [
    "def ss(n,numlist):\n",
    "    #功能：用numlist里面的数字，随意组合，使它们的和凑成n\n",
    "    \n",
    "    #给列表排序，将大数放前面，以便先尝试大数\n",
    "    numlist.sort(reverse=True)\n",
    " \n",
    "    #如果n小于最小对的数，尝试失败，返回0\n",
    "    if (n<min(numlist)):\n",
    "        return '0'\n",
    "    \n",
    "    #逐一核对，如果n刚好等于numlist列表的某个数，组合成功。\n",
    "    for i in numlist:\n",
    "        if n==i:\n",
    "            return str(i)\n",
    " \n",
    "    #逐一迭代，如果返回的值第一个字符不是0，表示尝试成功，返回值。    \n",
    "    for i in numlist:        \n",
    "        ti=ss(n-i,numlist)\n",
    "        if ti[0]!='0':\n",
    "            return ti+'+'+str(i)\n",
    "        else:\n",
    "            del ti\n",
    " \n",
    "    #如果上面有尝试成功，这句话不会被执行，\n",
    "    #以上尝试失败，会执行下面的语句，返回0\n",
    "    return '0'\n",
    " \n",
    " \n",
    "for i in range(100,200):\n",
    "    t=ss(i,[61,71,17,19])\n",
    "    if t!='0':\n",
    "        print(str(i)+\"=\"+t)\n",
    "    else:\n",
    "        print(str(i)+\"=无解！\")\n",
    "a='That is all.'\n",
    "a=a+'Thank you!'\n",
    "print(a)"
   ]
  },
  {
   "cell_type": "code",
   "execution_count": 12,
   "metadata": {},
   "outputs": [
    {
     "name": "stdout",
     "output_type": "stream",
     "text": [
      "6=6\n",
      "7=7\n",
      "8=8\n",
      "9=无解！\n",
      "10=无解！\n",
      "11=无解！\n",
      "12=6+6\n",
      "13=6+7\n",
      "14=6+8\n",
      "15=7+8\n",
      "16=8+8\n",
      "17=无解！\n",
      "18=6+6+6\n",
      "19=6+6+7\n",
      "20=6+6+8\n",
      "21=6+7+8\n",
      "22=6+8+8\n",
      "23=7+8+8\n",
      "24=8+8+8\n",
      "25=6+6+6+7\n",
      "26=6+6+6+8\n",
      "27=6+6+7+8\n",
      "28=6+6+8+8\n",
      "29=6+7+8+8\n",
      "30=6+8+8+8\n",
      "31=7+8+8+8\n",
      "32=8+8+8+8\n",
      "33=6+6+6+7+8\n",
      "34=6+6+6+8+8\n",
      "35=6+6+7+8+8\n",
      "36=6+6+8+8+8\n",
      "37=6+7+8+8+8\n",
      "38=6+8+8+8+8\n",
      "39=7+8+8+8+8\n",
      "40=8+8+8+8+8\n",
      "41=6+6+6+7+8+8\n",
      "42=6+6+6+8+8+8\n",
      "43=6+6+7+8+8+8\n",
      "44=6+6+8+8+8+8\n",
      "45=6+7+8+8+8+8\n",
      "46=6+8+8+8+8+8\n",
      "47=7+8+8+8+8+8\n",
      "48=8+8+8+8+8+8\n",
      "49=6+6+6+7+8+8+8\n",
      "50=6+6+6+8+8+8+8\n",
      "51=6+6+7+8+8+8+8\n",
      "52=6+6+8+8+8+8+8\n",
      "53=6+7+8+8+8+8+8\n",
      "54=6+8+8+8+8+8+8\n",
      "55=7+8+8+8+8+8+8\n",
      "56=8+8+8+8+8+8+8\n",
      "57=6+6+6+7+8+8+8+8\n",
      "58=6+6+6+8+8+8+8+8\n",
      "59=6+6+7+8+8+8+8+8\n",
      "60=6+6+8+8+8+8+8+8\n",
      "61=6+7+8+8+8+8+8+8\n",
      "62=6+8+8+8+8+8+8+8\n",
      "63=7+8+8+8+8+8+8+8\n",
      "64=8+8+8+8+8+8+8+8\n",
      "65=6+6+6+7+8+8+8+8+8\n",
      "66=6+6+6+8+8+8+8+8+8\n",
      "67=6+6+7+8+8+8+8+8+8\n",
      "68=6+6+8+8+8+8+8+8+8\n",
      "69=6+7+8+8+8+8+8+8+8\n",
      "70=6+8+8+8+8+8+8+8+8\n",
      "71=7+8+8+8+8+8+8+8+8\n",
      "72=8+8+8+8+8+8+8+8+8\n",
      "73=6+6+6+7+8+8+8+8+8+8\n",
      "74=6+6+6+8+8+8+8+8+8+8\n",
      "75=6+6+7+8+8+8+8+8+8+8\n",
      "76=6+6+8+8+8+8+8+8+8+8\n",
      "77=6+7+8+8+8+8+8+8+8+8\n",
      "78=6+8+8+8+8+8+8+8+8+8\n",
      "79=7+8+8+8+8+8+8+8+8+8\n",
      "80=8+8+8+8+8+8+8+8+8+8\n",
      "81=6+6+6+7+8+8+8+8+8+8+8\n",
      "82=6+6+6+8+8+8+8+8+8+8+8\n",
      "83=6+6+7+8+8+8+8+8+8+8+8\n",
      "84=6+6+8+8+8+8+8+8+8+8+8\n",
      "85=6+7+8+8+8+8+8+8+8+8+8\n",
      "86=6+8+8+8+8+8+8+8+8+8+8\n",
      "87=7+8+8+8+8+8+8+8+8+8+8\n",
      "88=8+8+8+8+8+8+8+8+8+8+8\n",
      "89=6+6+6+7+8+8+8+8+8+8+8+8\n",
      "90=6+6+6+8+8+8+8+8+8+8+8+8\n",
      "91=6+6+7+8+8+8+8+8+8+8+8+8\n",
      "92=6+6+8+8+8+8+8+8+8+8+8+8\n",
      "93=6+7+8+8+8+8+8+8+8+8+8+8\n",
      "94=6+8+8+8+8+8+8+8+8+8+8+8\n",
      "95=7+8+8+8+8+8+8+8+8+8+8+8\n",
      "96=8+8+8+8+8+8+8+8+8+8+8+8\n",
      "97=6+6+6+7+8+8+8+8+8+8+8+8+8\n",
      "98=6+6+6+8+8+8+8+8+8+8+8+8+8\n",
      "99=6+6+7+8+8+8+8+8+8+8+8+8+8\n",
      "That is all.Thank you!\n"
     ]
    }
   ],
   "source": [
    "def s(n):\n",
    "    if (n<6):\n",
    "        return '0'\n",
    "    if n==6:\n",
    "        return '6'\n",
    "    if n==7:\n",
    "        return '7'\n",
    "    if n==8:\n",
    "        return '8'\n",
    "\n",
    "\n",
    "    t8=s(n-8)\n",
    "    if t8[0]!='0':\n",
    "        return t8+'+8'\n",
    "    \n",
    "    t7=s(n-7)    \n",
    "    if t7[0]!='0':\n",
    "        return t7+'+7'\n",
    "    \n",
    "    t6=s(n-6)    \n",
    "    if t6[0]!='0':\n",
    "        return t6+'+6'\n",
    "\n",
    "\n",
    "    return '0'\n",
    "\n",
    "\n",
    "\n",
    "\n",
    "for i in range(6,100):\n",
    "    t=s(i)\n",
    "    if t!='0':\n",
    "        print(str(i)+\"=\"+t)\n",
    "    else:\n",
    "        print(str(i)+\"=无解！\")\n",
    "        \n",
    "a='That is all.'\n",
    "a=a+'Thank you!'\n",
    "print(a)"
   ]
  },
  {
   "cell_type": "code",
   "execution_count": 13,
   "metadata": {},
   "outputs": [
    {
     "data": {
      "image/png": "[encoded data removed]",
      "text/plain": [
       "<Figure size 432x288 with 1 Axes>"
      ]
     },
     "metadata": {
      "needs_background": "light"
     },
     "output_type": "display_data"
    }
   ],
   "source": [
    "%matplotlib inline\n",
    "import numpy as np\n",
    "import math\n",
    "import matplotlib.pyplot as plt\n",
    "SAMPLE_NUM=10#要生成的sample个数\n",
    "M=9#多项式阶数\n",
    "\n",
    "#产生带有高斯噪声的信号\n",
    "mid, sigma = 0, 0.3 # 设置均值和方差\n",
    "noise = np.random.normal(mid, sigma, SAMPLE_NUM).reshape(SAMPLE_NUM,1) #生成SAMPLE_NUM个数据\n",
    "\n",
    "#产生SAMPLE_NUM个序号(范围是2pi)\n",
    "x = np.arange(0, SAMPLE_NUM).reshape(SAMPLE_NUM,1)/(SAMPLE_NUM-1)*(2*math.pi)\n",
    "\n",
    "#generate y and y_noise, and both y's and y_noise's shape is (SAMPLE_NUM*1)\n",
    "y=np.sin(x)\n",
    "y_noise=np.sin(x)+noise\n",
    "\n",
    "#绿色曲线显示x - y，散点显示x - y_noise\n",
    "plt.title(\"\")\n",
    "plt.plot(x,y,'g',lw=4.0)\n",
    "plt.plot(x,y_noise,'bo')\n",
    " \n",
    "\n",
    "#generate Matrix X which has M order\n",
    "X=x\n",
    "for i in range(2,M+1):\n",
    "         X = np.column_stack((X, pow(x,i)))\n",
    "\n",
    "#add 1 on the first column of X, now X's shape is (SAMPLE_NUM*(M+1))\n",
    "X = np.insert(X,0,[1],1)\n",
    "#print(X)\n",
    "\n",
    "#calculate W, W's shape is ((M+1)*1)#\n",
    "#W=np.linalg.inv((X.T.dot(X))).dot(X.T).dot(y_noise)#have no regularization\n",
    "W=np.linalg.inv((X.T.dot(X))+np.exp(-8) * np.eye(M+1)).dot(X.T).dot(y_noise)#introduce regularization\n",
    "y_estimate=X.dot(W)\n",
    "\n",
    "#红色曲线显示x - y_estimate\n",
    "plt.plot(x,y_estimate,'r',lw=4.0)\n",
    "plt.show()"
   ]
  },
  {
   "cell_type": "code",
   "execution_count": 14,
   "metadata": {},
   "outputs": [
    {
     "name": "stdout",
     "output_type": "stream",
     "text": [
      "Fitting Parameters:  [-1.82301709e+03  9.23900785e+03 -1.87195383e+04  1.95735023e+04\n",
      " -1.13046795e+04  3.57439556e+03 -5.81528398e+02  4.18962823e+01\n",
      " -1.00847413e-01]\n"
     ]
    },
    {
     "data": {
      "image/png": "[encoded data removed]",
      "text/plain": [
       "<Figure size 432x288 with 1 Axes>"
      ]
     },
     "metadata": {
      "needs_background": "light"
     },
     "output_type": "display_data"
    }
   ],
   "source": [
    "%matplotlib inline\n",
    "'''最小二乘法'''\n",
    "# _*_ coding: utf-8 _*_\n",
    "\n",
    "import numpy as np  # 引入numpy\n",
    "import scipy as sp\n",
    "import pylab as pl\n",
    "from scipy.optimize import leastsq  # 引入最小二乘函数\n",
    "\n",
    "n = 9  # 多项式次数\n",
    "\n",
    "\n",
    "# 目标函数\n",
    "def real_func(x):\n",
    "    return np.sin(2 * np.pi * x)\n",
    "\n",
    "\n",
    "# 多项式函数\n",
    "def fit_func(p, x):\n",
    "    f = np.poly1d(p)\n",
    "    return f(x)\n",
    "\n",
    "regularization = 0  # 正则化系数lambda \n",
    "# 残差函数\n",
    "def residuals_func(p, y, x):\n",
    "    ret = fit_func(p, x) - y\n",
    "    ret = np.append(ret, np.sqrt(regularization) * p)\n",
    "    return ret\n",
    "\n",
    "\n",
    "x = np.linspace(0, 1, 9)  # 随机选择9个点作为x\n",
    "x_points = np.linspace(0, 1, 1000)  # 画图时需要的连续点\n",
    "\n",
    "y0 = real_func(x)  # 目标函数\n",
    "y1 = [np.random.normal(0, 0.1) + y for y in y0]  # 添加正太分布噪声后的函数\n",
    "\n",
    "p_init = np.random.randn(n)  # 随机初始化多项式参数\n",
    "\n",
    "plsq = leastsq(residuals_func, p_init, args=(y1, x))\n",
    "\n",
    "print('Fitting Parameters: ', plsq[0])  # 输出拟合参数\n",
    "\n",
    "pl.plot(x_points, real_func(x_points), label='real')\n",
    "pl.plot(x_points, fit_func(plsq[0], x_points), label='fitted curve')\n",
    "pl.plot(x, y1, 'bo', label='with noise')\n",
    "pl.legend()\n",
    "pl.show()"
   ]
  },
  {
   "cell_type": "code",
   "execution_count": 15,
   "metadata": {},
   "outputs": [
    {
     "name": "stdout",
     "output_type": "stream",
     "text": [
      "100=无解！\n",
      "101=无解！\n",
      "102=17+17+17+17+17+17\n",
      "103=无解！\n",
      "104=17+17+17+17+17+19\n",
      "105=17+17+71\n",
      "106=17+17+17+17+19+19\n",
      "107=17+19+71\n",
      "108=17+17+17+19+19+19\n",
      "109=19+19+71\n",
      "110=17+17+19+19+19+19\n",
      "111=无解！\n",
      "112=17+17+17+61\n",
      "113=无解！\n",
      "114=17+17+19+61\n",
      "115=无解！\n",
      "116=17+19+19+61\n",
      "117=无解！\n",
      "118=19+19+19+61\n",
      "119=17+17+17+17+17+17+17\n",
      "120=无解！\n",
      "121=17+17+17+17+17+17+19\n",
      "122=17+17+17+71\n",
      "123=17+17+17+17+17+19+19\n",
      "124=17+17+19+71\n",
      "125=17+17+17+17+19+19+19\n",
      "126=17+19+19+71\n",
      "127=17+17+17+19+19+19+19\n",
      "128=19+19+19+71\n",
      "129=17+17+17+17+61\n",
      "130=无解！\n",
      "131=17+17+17+19+61\n",
      "132=61+71\n",
      "133=17+17+19+19+61\n",
      "134=无解！\n",
      "135=17+19+19+19+61\n",
      "136=17+17+17+17+17+17+17+17\n",
      "137=19+19+19+19+61\n",
      "138=17+17+17+17+17+17+17+19\n",
      "139=17+17+17+17+71\n",
      "140=17+17+17+17+17+17+19+19\n",
      "141=17+17+17+19+71\n",
      "142=71+71\n",
      "143=17+17+19+19+71\n",
      "144=17+17+17+17+19+19+19+19\n",
      "145=17+19+19+19+71\n",
      "146=17+17+17+17+17+61\n",
      "147=19+19+19+19+71\n",
      "148=17+17+17+17+19+61\n",
      "149=17+61+71\n",
      "150=17+17+17+19+19+61\n",
      "151=19+61+71\n",
      "152=17+17+19+19+19+61\n",
      "153=17+17+17+17+17+17+17+17+17\n",
      "154=17+19+19+19+19+61\n",
      "155=17+17+17+17+17+17+17+17+19\n",
      "156=17+17+17+17+17+71\n",
      "157=17+17+17+17+17+17+17+19+19\n",
      "158=17+17+17+17+19+71\n",
      "159=17+71+71\n",
      "160=17+17+17+19+19+71\n",
      "161=19+71+71\n",
      "162=17+17+19+19+19+71\n",
      "163=17+17+17+17+17+17+61\n",
      "164=17+19+19+19+19+71\n",
      "165=17+17+17+17+17+19+61\n",
      "166=17+17+61+71\n",
      "167=17+17+17+17+19+19+61\n",
      "168=17+19+61+71\n",
      "169=17+17+17+19+19+19+61\n",
      "170=19+19+61+71\n",
      "171=17+17+19+19+19+19+61\n",
      "172=17+17+17+17+17+17+17+17+17+19\n",
      "173=17+17+17+17+17+17+71\n",
      "174=17+17+17+17+17+17+17+17+19+19\n",
      "175=17+17+17+17+17+19+71\n",
      "176=17+17+71+71\n",
      "177=17+17+17+17+19+19+71\n",
      "178=17+19+71+71\n",
      "179=17+17+17+19+19+19+71\n",
      "180=19+19+71+71\n",
      "181=17+17+19+19+19+19+71\n",
      "182=17+17+17+17+17+17+19+61\n",
      "183=17+17+17+61+71\n",
      "184=17+17+17+17+17+19+19+61\n",
      "185=17+17+19+61+71\n",
      "186=17+17+17+17+19+19+19+61\n",
      "187=17+19+19+61+71\n",
      "188=17+17+17+19+19+19+19+61\n",
      "189=19+19+19+61+71\n",
      "190=17+17+17+17+17+17+17+71\n",
      "191=17+17+17+17+17+17+17+17+17+19+19\n",
      "192=17+17+17+17+17+17+19+71\n",
      "193=17+17+17+71+71\n",
      "194=17+17+17+17+17+19+19+71\n",
      "195=17+17+19+71+71\n",
      "196=17+17+17+17+19+19+19+71\n",
      "197=17+19+19+71+71\n",
      "198=17+17+17+19+19+19+19+71\n",
      "199=19+19+19+71+71\n"
     ]
    }
   ],
   "source": [
    "def ss(n,numlist):\n",
    "    #功能：用numlist里面的数字，随意组合，使它们的和凑成n\n",
    "    \n",
    "    #给列表排序，将大数放前面，以便先尝试大数\n",
    "    numlist.sort(reverse=True)\n",
    " \n",
    "    #如果n小于最小对的数，尝试失败，返回0\n",
    "    if (n<min(numlist)):\n",
    "        return '0'\n",
    "    \n",
    "    #逐一核对，如果n刚好等于numlist列表的某个数，组合成功。\n",
    "    for i in numlist:\n",
    "        if n==i:\n",
    "            return str(i)\n",
    " \n",
    "    #逐一迭代，如果返回的值第一个字符不是0，表示尝试成功，返回值。    \n",
    "    for i in numlist:        \n",
    "        ti=ss(n-i,numlist)\n",
    "        if ti[0]!='0':\n",
    "            return ti+'+'+str(i)\n",
    "        else:\n",
    "            del ti\n",
    " \n",
    "    #如果上面有尝试成功，这句话不会被执行，\n",
    "    #以上尝试失败，会执行下面的语句，返回0\n",
    "    return '0'\n",
    " \n",
    " \n",
    "for i in range(100,200):\n",
    "    t=ss(i,[61,71,17,19])\n",
    "    if t!='0':\n",
    "        print(str(i)+\"=\"+t)\n",
    "    else:\n",
    "        print(str(i)+\"=无解！\")\n"
   ]
  },
  {
   "cell_type": "code",
   "execution_count": 17,
   "metadata": {},
   "outputs": [
    {
     "name": "stdout",
     "output_type": "stream",
     "text": [
      "EDCBA\n"
     ]
    }
   ],
   "source": [
    "\n",
    "# Reversing a string using slicing\n",
    "my_string = \"ABCDE\"\n",
    "reversed_string = my_string[::-1]\n",
    "print(reversed_string)\n",
    "# Output\n",
    "# EDCBA"
   ]
  },
  {
   "cell_type": "code",
   "execution_count": 18,
   "metadata": {},
   "outputs": [
    {
     "name": "stdout",
     "output_type": "stream",
     "text": [
      "My Name Is Chaitanya Baweja\n"
     ]
    }
   ],
   "source": [
    "\n",
    "my_string = \"my name is chaitanya baweja\"\n",
    "# using the title() function of string class\n",
    "new_string = my_string.title()\n",
    "print(new_string)\n",
    "# Output\n",
    "# My Name Is Chaitanya Baweja"
   ]
  },
  {
   "cell_type": "code",
   "execution_count": 19,
   "metadata": {},
   "outputs": [
    {
     "name": "stdout",
     "output_type": "stream",
     "text": [
      "cvaed\n"
     ]
    }
   ],
   "source": [
    "\n",
    "my_string = \"aavvccccddddeee\"\n",
    "# converting the string to a set\n",
    "temp_set = set(my_string)\n",
    "# stitching set into a string using join\n",
    "new_string = ''.join(temp_set)\n",
    "print(new_string)"
   ]
  },
  {
   "cell_type": "code",
   "execution_count": 20,
   "metadata": {},
   "outputs": [
    {
     "name": "stdout",
     "output_type": "stream",
     "text": [
      "abcdabcdabcd\n",
      "abcdabcdabcd\n"
     ]
    }
   ],
   "source": [
    "n = 3 # number of repetitions\n",
    "my_string = \"abcd\"\n",
    "my_list = [1,2,3]\n",
    "print(my_string*n)\n",
    "# abcdabcdabcd\n",
    "print(my_string*n)\n",
    "# [1,2,3,1,2,3,1,2,3]"
   ]
  },
  {
   "cell_type": "code",
   "execution_count": 21,
   "metadata": {},
   "outputs": [
    {
     "name": "stdout",
     "output_type": "stream",
     "text": [
      "[2, 4, 6, 8]\n"
     ]
    }
   ],
   "source": [
    "\n",
    "# Multiplying each element in a list by 2\n",
    "original_list = [1,2,3,4]\n",
    "new_list = [2*x for x in original_list]\n",
    "print(new_list)\n",
    "# [2,4,6,8]"
   ]
  },
  {
   "cell_type": "code",
   "execution_count": 22,
   "metadata": {},
   "outputs": [
    {
     "name": "stdout",
     "output_type": "stream",
     "text": [
      "['My', 'name', 'is', 'Chaitanya', 'Baweja']\n",
      "['sample', ' string 2']\n"
     ]
    }
   ],
   "source": [
    "string_1 = \"My name is Chaitanya Baweja\"\n",
    "string_2 = \"sample/ string 2\"\n",
    "# default separator ' '\n",
    "print(string_1.split())\n",
    "# ['My', 'name', 'is', 'Chaitanya', 'Baweja']\n",
    "# defining separator as '/'\n",
    "print(string_2.split('/'))\n",
    "# ['sample', ' string 2']"
   ]
  },
  {
   "cell_type": "code",
   "execution_count": 23,
   "metadata": {},
   "outputs": [
    {
     "name": "stdout",
     "output_type": "stream",
     "text": [
      "My,name,is,Chaitanya,Baweja\n"
     ]
    }
   ],
   "source": [
    "list_of_strings = ['My', 'name', 'is', 'Chaitanya', 'Baweja']\n",
    "# Using join with the comma separator\n",
    "print(','.join(list_of_strings))\n",
    "# Output\n",
    "# My,name,is,Chaitanya,Baweja"
   ]
  },
  {
   "cell_type": "code",
   "execution_count": 24,
   "metadata": {},
   "outputs": [
    {
     "name": "stdout",
     "output_type": "stream",
     "text": [
      "palindrome\n"
     ]
    }
   ],
   "source": [
    "\n",
    "my_string = \"abcba\"\n",
    "if my_string == my_string[::-1]:\n",
    "    print(\"palindrome\")\n",
    "else:\n",
    "    print(\"not palindrome\")\n",
    "# Output\n",
    "# palindrome"
   ]
  },
  {
   "cell_type": "code",
   "execution_count": 25,
   "metadata": {},
   "outputs": [
    {
     "name": "stdout",
     "output_type": "stream",
     "text": [
      "Counter({'d': 5, 'b': 3, 'a': 2, 'c': 1})\n",
      "3\n",
      "[('d', 5)]\n"
     ]
    }
   ],
   "source": [
    "\n",
    "# finding frequency of each element in a list\n",
    "from collections import Counter\n",
    "my_list = ['a','a','b','b','b','c','d','d','d','d','d']\n",
    "count = Counter(my_list) # defining a counter object\n",
    "print(count) # Of all elements\n",
    "# Counter({'d': 5, 'b': 3, 'a': 2, 'c': 1})\n",
    "print(count['b']) # of individual element\n",
    "# 3\n",
    "print(count.most_common(1)) # most frequent element\n",
    "# [('d', 5)]"
   ]
  },
  {
   "cell_type": "code",
   "execution_count": 26,
   "metadata": {},
   "outputs": [
    {
     "name": "stdout",
     "output_type": "stream",
     "text": [
      "1 and 2 anagram\n"
     ]
    }
   ],
   "source": [
    "from collections import Counter\n",
    "str_1, str_2, str_3 = \"acbde\", \"abced\", \"abcda\"\n",
    "cnt_1, cnt_2, cnt_3  = Counter(str_1), Counter(str_2), Counter(str_3)\n",
    "if cnt_1 == cnt_2:\n",
    "    print('1 and 2 anagram')\n",
    "if cnt_1 == cnt_3:\n",
    "    print('1 and 3 anagram')"
   ]
  },
  {
   "cell_type": "code",
   "execution_count": 27,
   "metadata": {},
   "outputs": [
    {
     "name": "stdout",
     "output_type": "stream",
     "text": [
      "division by zero\n",
      "Run this always\n"
     ]
    }
   ],
   "source": [
    "a, b = 1,0\n",
    "try:\n",
    "    print(a/b)\n",
    "    # exception raised when b is 0\n",
    "except ZeroDivisionError:\n",
    "    print(\"division by zero\")\n",
    "else:\n",
    "    print(\"no exceptions raised\")\n",
    "finally:\n",
    "    print(\"Run this always\")"
   ]
  },
  {
   "cell_type": "code",
   "execution_count": 28,
   "metadata": {},
   "outputs": [
    {
     "name": "stdout",
     "output_type": "stream",
     "text": [
      "0: a\n",
      "1: b\n",
      "2: c\n",
      "3: d\n",
      "4: e\n"
     ]
    }
   ],
   "source": [
    "\n",
    "my_list = ['a', 'b', 'c', 'd', 'e']\n",
    " \n",
    " \n",
    "for index, value in enumerate(my_list):\n",
    "    print('{0}: {1}'.format(index, value))\n"
   ]
  },
  {
   "cell_type": "code",
   "execution_count": 29,
   "metadata": {},
   "outputs": [
    {
     "name": "stdout",
     "output_type": "stream",
     "text": [
      "28\n"
     ]
    }
   ],
   "source": [
    "\n",
    "import sys\n",
    "num = 21\n",
    "print(sys.getsizeof(num))\n",
    "# In Python 2, 24\n",
    "# In Python 3, 28"
   ]
  },
  {
   "cell_type": "code",
   "execution_count": 30,
   "metadata": {},
   "outputs": [
    {
     "name": "stdout",
     "output_type": "stream",
     "text": [
      "{'apple': 9, 'banana': 4, 'orange': 8}\n"
     ]
    }
   ],
   "source": [
    "\n",
    "dict_1 = {'apple': 9, 'banana': 6}\n",
    "dict_2 = {'banana': 4, 'orange': 8}\n",
    "combined_dict = {**dict_1, **dict_2}\n",
    "print(combined_dict)\n",
    "# Output\n",
    "# {'apple': 9, 'banana': 4, 'orange': 8}"
   ]
  },
  {
   "cell_type": "code",
   "execution_count": 33,
   "metadata": {},
   "outputs": [
    {
     "name": "stdout",
     "output_type": "stream",
     "text": [
      "['a', 'c']\n"
     ]
    }
   ],
   "source": [
    "\n",
    "import random\n",
    "my_list = ['a', 'b', 'c', 'd', 'e']\n",
    "num_samples = 2\n",
    "samples = random.sample(my_list,num_samples)\n",
    "print(samples)\n",
    "# [ 'a', 'e'] this will have any 2 random values"
   ]
  },
  {
   "cell_type": "code",
   "execution_count": 34,
   "metadata": {},
   "outputs": [
    {
     "name": "stdout",
     "output_type": "stream",
     "text": [
      "[1, 2, 3, 4, 5, 6]\n"
     ]
    }
   ],
   "source": [
    "\n",
    "num = 123456\n",
    "list_of_digits = list(map(int, str(num)))\n",
    "print(list_of_digits)\n"
   ]
  },
  {
   "cell_type": "code",
   "execution_count": 35,
   "metadata": {},
   "outputs": [
    {
     "name": "stdout",
     "output_type": "stream",
     "text": [
      "All elements are unique\n",
      "List has duplicates\n"
     ]
    }
   ],
   "source": [
    "\n",
    "def unique(l):\n",
    "    if len(l)==len(set(l)):\n",
    "        print(\"All elements are unique\")\n",
    "    else:\n",
    "        print(\"List has duplicates\")\n",
    "unique([1,2,3,4])\n",
    "# All elements are unique\n",
    "unique([1,1,2,3])\n"
   ]
  },
  {
   "cell_type": "code",
   "execution_count": null,
   "metadata": {},
   "outputs": [],
   "source": []
  }
 ],
 "metadata": {
  "kernelspec": {
   "display_name": "Python 3",
   "language": "python",
   "name": "python3"
  },
  "language_info": {
   "codemirror_mode": {
    "name": "ipython",
    "version": 3
   },
   "file_extension": ".py",
   "mimetype": "text/x-python",
   "name": "python",
   "nbconvert_exporter": "python",
   "pygments_lexer": "ipython3",
   "version": "3.7.4"
  }
 },
 "nbformat": 4,
 "nbformat_minor": 2
}
