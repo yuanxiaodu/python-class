{
 "cells": [
  {
   "cell_type": "code",
   "execution_count": 1,
   "metadata": {},
   "outputs": [
    {
     "data": {
      "text/plain": [
       "'C:\\\\Users\\\\dell\\\\anaconda3\\\\python.exe'"
      ]
     },
     "execution_count": 1,
     "metadata": {},
     "output_type": "execute_result"
    }
   ],
   "source": [
    "import sys\n",
    "sys.executable"
   ]
  },
  {
   "cell_type": "code",
   "execution_count": 2,
   "metadata": {},
   "outputs": [
    {
     "name": "stdout",
     "output_type": "stream",
     "text": [
      "C:\\Users\\dell\n"
     ]
    }
   ],
   "source": [
    "import os\n",
    "print(os.path.abspath('.'))"
   ]
  },
  {
   "cell_type": "code",
   "execution_count": 7,
   "metadata": {},
   "outputs": [
    {
     "name": "stdout",
     "output_type": "stream",
     "text": [
      "arg1:Zed,arg2:Shaw\n",
      "arg1:Zed,arg2:Shaw\n",
      "arg1:First!\n",
      "I got nothing.\n"
     ]
    }
   ],
   "source": [
    "#This one is like your scripts with argv\n",
    "def print_two(*args):\n",
    "    arg1,arg2=args\n",
    "    print(f\"arg1:{arg1},arg2:{arg2}\")\n",
    "     \n",
    "#ok,that *arg1 is actually pointless,we can just do this\n",
    "def print_two_again(arg1,arg2):\n",
    "    print (f\"arg1:{arg1},arg2:{arg2}\")\n",
    "    \n",
    "#this just takes one argument\n",
    "def print_one(arg1):\n",
    "    print(f\"arg1:{arg1}\")\n",
    "    \n",
    "#this one takes no arguments\n",
    "def print_none():\n",
    "    print(\"I got nothing.\")\n",
    "    \n",
    "print_two(\"Zed\",\"Shaw\")\n",
    "print_two_again(\"Zed\",\"Shaw\")\n",
    "print_one(\"First!\")\n",
    "print_none()   "
   ]
  },
  {
   "cell_type": "code",
   "execution_count": 14,
   "metadata": {},
   "outputs": [
    {
     "name": "stdout",
     "output_type": "stream",
     "text": [
      "Wee can just give the function number directly:\n",
      "You have 20 cheeses!\n",
      "You have 30 boxes of crackers!\n",
      "Man taht's enough for a party!\n",
      "Get a blanket.\n",
      "\n",
      "OR, we can use variables from our script:\n",
      "You have 10 cheeses!\n",
      "You have 50 boxes of crackers!\n",
      "Man taht's enough for a party!\n",
      "Get a blanket.\n",
      "\n",
      "We can even do math inside too:\n",
      "You have 30 cheeses!\n",
      "You have 11 boxes of crackers!\n",
      "Man taht's enough for a party!\n",
      "Get a blanket.\n",
      "\n",
      "And we can combine the two,variables and math:\n",
      "You have 110 cheeses!\n",
      "You have 1050 boxes of crackers!\n",
      "Man taht's enough for a party!\n",
      "Get a blanket.\n",
      "\n"
     ]
    }
   ],
   "source": [
    "def cheese_and_crackers(cheese_count,boxes_of_crackers):\n",
    "    print(f\"You have {cheese_count} cheeses!\")\n",
    "    print(f\"You have {boxes_of_crackers} boxes of crackers!\")\n",
    "    print(\"Man taht's enough for a party!\")\n",
    "    print(\"Get a blanket.\\n\")\n",
    "    \n",
    "    \n",
    "print(\"Wee can just give the function number directly:\")\n",
    "cheese_and_crackers(20,30)\n",
    "\n",
    "print(\"OR, we can use variables from our script:\")\n",
    "amount_of_cheese=10\n",
    "amount_of_crackers=50\n",
    "\n",
    "cheese_and_crackers(amount_of_cheese,amount_of_crackers)\n",
    "\n",
    "print(\"We can even do math inside too:\")\n",
    "cheese_and_crackers(10+20,5+6)\n",
    "\n",
    "print(\"And we can combine the two,variables and math:\")\n",
    "cheese_and_crackers(amount_of_cheese+100,amount_of_crackers+1000)"
   ]
  },
  {
   "cell_type": "code",
   "execution_count": 17,
   "metadata": {},
   "outputs": [
    {
     "name": "stdout",
     "output_type": "stream",
     "text": [
      "Here's your file sample.txt:\n",
      "\n"
     ]
    }
   ],
   "source": [
    "filename='sample.txt'\n",
    "txt=open(filename)\n",
    "\n",
    "print(f\"Here's your file {filename}:\")\n",
    "print(txt.read())\n",
    "txt.close()"
   ]
  },
  {
   "cell_type": "code",
   "execution_count": 18,
   "metadata": {},
   "outputs": [
    {
     "name": "stdout",
     "output_type": "stream",
     "text": [
      "Truncating the file.Goodbye! \n",
      "Now I'm gopng to ask you for three lines.\n"
     ]
    },
    {
     "name": "stdin",
     "output_type": "stream",
     "text": [
      "line1: I'm ugly.\n",
      "line2: a little fat.\n",
      "line3: so tall.\n"
     ]
    },
    {
     "name": "stdout",
     "output_type": "stream",
     "text": [
      "I'm going write these to the file.\n",
      "And finally,we close it.\n"
     ]
    },
    {
     "data": {
      "text/plain": [
       "<function TextIOWrapper.close()>"
      ]
     },
     "execution_count": 18,
     "metadata": {},
     "output_type": "execute_result"
    }
   ],
   "source": [
    "target=open(filename,'w')\n",
    "\n",
    "print(\"Truncating the file.Goodbye! \")\n",
    "#target.truncate()\n",
    "\n",
    "print(\"Now I'm gopng to ask you for three lines.\")\n",
    "\n",
    "line1=input(\"line1:\")\n",
    "line2=input(\"line2:\")\n",
    "line3=input(\"line3:\")\n",
    "\n",
    "print(\"I'm going write these to the file.\")\n",
    "\n",
    "target.write(line1)\n",
    "target.write(\"\\n\")\n",
    "target.write(line2)\n",
    "target.write(\"\\n\")\n",
    "target.write(line3)\n",
    "target.write(\"\\n\")\n",
    "\n",
    "print(\"And finally,we close it.\")\n",
    "target.close"
   ]
  },
  {
   "cell_type": "code",
   "execution_count": 20,
   "metadata": {},
   "outputs": [
    {
     "name": "stdout",
     "output_type": "stream",
     "text": [
      "First let's print the whole file:\n",
      "\n",
      "\n",
      "Now let's rewind,kind of like a tape.\n",
      "Let's print three lines:\n",
      "1 \n",
      "2 \n",
      "3 \n"
     ]
    }
   ],
   "source": [
    "input_file='sample.txt'\n",
    "\n",
    "def print_all(f):\n",
    "    print(f.read())\n",
    "\n",
    "def rewind(f):\n",
    "    f.seek(0)\n",
    "\n",
    "def print_a_line(line_count,f):\n",
    "    print(line_count,f.readline())\n",
    "    \n",
    "current_file=open(input_file)\n",
    "\n",
    "print(\"First let's print the whole file:\\n\")\n",
    "\n",
    "print_all(current_file)\n",
    "\n",
    "print(\"Now let's rewind,kind of like a tape.\")\n",
    "\n",
    "rewind(current_file)\n",
    "\n",
    "print(\"Let's print three lines:\")\n",
    "\n",
    "current_line=1\n",
    "print_a_line(current_line,current_file)\n",
    "\n",
    "current_line=current_line+1\n",
    "print_a_line(current_line,current_file)\n",
    "\n",
    "current_line +=1\n",
    "print_a_line(current_line,current_file)\n",
    "\n",
    "current_file.close()"
   ]
  },
  {
   "cell_type": "code",
   "execution_count": 28,
   "metadata": {},
   "outputs": [
    {
     "name": "stdout",
     "output_type": "stream",
     "text": [
      "Let's do some math with just functions!\n",
      "ADDING30+5\n",
      "SUBTRACTING 78-4\n",
      "MULTIPLYING 90*2\n",
      "DIVIDING 100 / 2\n",
      "Age:35,Height:74,Weight:180,IQ:50.0\n",
      "Here is a puzzle.\n",
      "DIVIDING 50.0 / 2\n",
      "MULTIPLYING 180*25.0\n",
      "SUBTRACTING 74-4500.0\n",
      "ADDING35+-4426.0\n",
      "That becomes: -4391.0 Can you do it by hand?\n"
     ]
    }
   ],
   "source": [
    "def add(a,b):\n",
    "    print(f\"ADDING{a}+{b}\")\n",
    "    return a+b\n",
    "\n",
    "def subtract(a,b):\n",
    "    print(f\"SUBTRACTING {a}-{b}\")\n",
    "    return a-b\n",
    "\n",
    "def multiply(a,b):\n",
    "    print(f\"MULTIPLYING {a}*{b}\")\n",
    "    return a*b\n",
    "\n",
    "def divide(a, b):\n",
    "    print(f\"DIVIDING {a} / {b}\")\n",
    "    return a / b\n",
    "\n",
    "print(\"Let's do some math with just functions!\")\n",
    "\n",
    "age=add(30,5)\n",
    "height=subtract(78,4)\n",
    "weight=multiply(90,2)\n",
    "iq=divide(100,2)\n",
    "\n",
    "print(f\"Age:{age},Height:{height},Weight:{weight},IQ:{iq}\")\n",
    "\n",
    "#A puzzle foe the extra credit,type it in anyway.\n",
    "print(\"Here is a puzzle.\")\n",
    "\n",
    "what=add(age,subtract(height,multiply(weight,divide(iq,2))))\n",
    "print(\"That becomes:\",what,\"Can you do it by hand?\")"
   ]
  },
  {
   "cell_type": "code",
   "execution_count": 34,
   "metadata": {},
   "outputs": [
    {
     "name": "stdout",
     "output_type": "stream",
     "text": [
      "Too many cats!The world is doomed!\n",
      "The world is dry!\n",
      "People are greater than or equal to dogs.\n",
      "People are less than or equal to dogs.\n",
      "People are dogs.\n"
     ]
    }
   ],
   "source": [
    "people=20\n",
    "cats=30\n",
    "dogs=15\n",
    "\n",
    "if people<cats:\n",
    "    print(\"Too many cats!The world is doomed!\")\n",
    "    \n",
    "if people>cats:\n",
    "    print(\"Not many cats!The world is doomed!\")\n",
    "\n",
    "if people<dogs:\n",
    "    print(\"The world is drooled on!\")\n",
    "    \n",
    "if people>dogs:\n",
    "    print(\"The world is dry!\")\n",
    "    \n",
    "dogs +=5\n",
    "\n",
    "if people >=dogs:\n",
    "    print(\"People are greater than or equal to dogs.\")\n",
    "\n",
    "if people <=dogs:\n",
    "    print(\"People are less than or equal to dogs.\")\n",
    "\n",
    "if people ==dogs:\n",
    "    print(\"People are dogs.\")"
   ]
  },
  {
   "cell_type": "code",
   "execution_count": 38,
   "metadata": {},
   "outputs": [
    {
     "data": {
      "text/plain": [
       "True"
      ]
     },
     "execution_count": 38,
     "metadata": {},
     "output_type": "execute_result"
    }
   ],
   "source": [
    "3==3 and (not(\"testing\"==\"testing\" or \"python\" ==\"FUN\"))\n",
    "\"chunky\"==\"bacon\" and (not(3==4 or 3==3))\n",
    "1==1 and (not(\"testing\"==1 or 1==0))\n",
    "not (\"testing\"==\"testing\" and \"Zed\"==\"Cool Guy\")\n",
    "not(1!=10 or 3==4)\n",
    "not (10==1 or 1000==1000)\n",
    "not(1==1 and 0!=1)\n",
    "not(True and False)\n",
    "\"test\"==1\n",
    "\"test\"!=\"testing\"\n",
    "1!=0 and 2==1\n",
    "\"test\"==\"testing\"\n",
    "True or 1==1\n",
    "False and 0!=0\n",
    "True and 1==1\n",
    "1==1 or 2!=1\n",
    "\"test\" == \"test\"\n",
    "1==1 and 2==1\n",
    "False and True\n",
    "True and True"
   ]
  },
  {
   "cell_type": "code",
   "execution_count": 39,
   "metadata": {},
   "outputs": [
    {
     "name": "stdout",
     "output_type": "stream",
     "text": [
      "We should take the cars.\n",
      "Mybe we could take the trucks.\n",
      "Alright,let's just take the trucks.\n"
     ]
    }
   ],
   "source": [
    "peolpe =30\n",
    "cars =40\n",
    "trucks=15\n",
    "\n",
    "if cars>people:\n",
    "    print(\"We should take the cars.\")  \n",
    "elif cars<people:\n",
    "    print(\"We should not take the cars.\")\n",
    "else:\n",
    "    print(\"We can't decide.\")\n",
    "    \n",
    "if trucks>cars:\n",
    "    print(\"That's too many trucks.\")\n",
    "elif trucks<cars:\n",
    "    print(\"Mybe we could take the trucks.\")\n",
    "else:\n",
    "    print(\"We still can't decide.\")\n",
    "    \n",
    "if people>trucks:\n",
    "    print(\"Alright,let's just take the trucks.\")\n",
    "else:\n",
    "    print(\"Fine,let's stay home then.\")"
   ]
  },
  {
   "cell_type": "code",
   "execution_count": 40,
   "metadata": {},
   "outputs": [
    {
     "name": "stdout",
     "output_type": "stream",
     "text": [
      "You enter a dark room with two doors.\n",
      "Do you go through door #1 or door #2?\n"
     ]
    },
    {
     "name": "stdin",
     "output_type": "stream",
     "text": [
      "> #1\n"
     ]
    },
    {
     "name": "stdout",
     "output_type": "stream",
     "text": [
      "You stumble around and fall on a knife and die.  Good job!\n"
     ]
    }
   ],
   "source": [
    "print(\"\"\"You enter a dark room with two doors.\n",
    "Do you go through door #1 or door #2?\"\"\")\n",
    "\n",
    "door=input(\">\")\n",
    "\n",
    "if door==\"1\":\n",
    "    print(\"There's a giant bear here eating a cheese cake.What do you do?\")\n",
    "    print(\"1.Take the cake.\")\n",
    "    print(\"2,Scream at the bear.\")\n",
    "    \n",
    "    bear =input(\">\")\n",
    "    \n",
    "    if bear==\"1\":\n",
    "        print(\"The bear eats your face off.Good job!\")\n",
    "    elif bear==\"2\":\n",
    "        print(\"The bear eats your leg off.Good job!\")\n",
    "    else:\n",
    "        print(f\"Well,doing {bear} is probably better.Bear runs away.\")\n",
    "\n",
    "elif door==\"2\":\n",
    "    print(\"You stare into the endless abyss at Cthulhu's retina.\")\n",
    "    print(\"1. Blueberries.\")\n",
    "    print(\"2. Yellow jacket clothespins.\")\n",
    "    print(\"3. Understanding revolvers yelling melodies.\")\n",
    "\n",
    "    insanity = input(\"> \")\n",
    "    \n",
    "    if insanity == \"1\" or insanity == \"2\":\n",
    "        print(\"Your body survives powered by a mind of jello.  Good job!\")\n",
    "    else:\n",
    "        print(\"The insanity rots your eyes into a pool of muck.  Good job!\")\n",
    "\n",
    "else:\n",
    "    print(\"You stumble around and fall on a knife and die.  Good job!\")\n",
    "    "
   ]
  },
  {
   "cell_type": "code",
   "execution_count": 42,
   "metadata": {},
   "outputs": [
    {
     "name": "stdout",
     "output_type": "stream",
     "text": [
      "1到100之和为：5050\n"
     ]
    }
   ],
   "source": [
    "n=100\n",
    "\n",
    "sum=0\n",
    "counter=1\n",
    "while counter<=n:\n",
    "    sum=sum + counter\n",
    "    counter +=1\n",
    "\n",
    "print(\"1到%d之和为：%d\" % (n,sum))"
   ]
  },
  {
   "cell_type": "code",
   "execution_count": 9,
   "metadata": {},
   "outputs": [],
   "source": [
    "def save_grade(name,grade):\n",
    "    grades=open('sample.txt','a')\n",
    "    grades.write(f'姓名:{name}\\t成绩：{grade}\\n')\n",
    "    grades.close()"
   ]
  },
  {
   "cell_type": "code",
   "execution_count": 11,
   "metadata": {},
   "outputs": [
    {
     "name": "stdin",
     "output_type": "stream",
     "text": [
      "姓名： li\n",
      "成绩： 1100\n"
     ]
    },
    {
     "name": "stdout",
     "output_type": "stream",
     "text": [
      "li的成绩已保存\n"
     ]
    },
    {
     "name": "stdin",
     "output_type": "stream",
     "text": [
      "是否继续输入(yes or no)? no\n"
     ]
    }
   ],
   "source": [
    "while True:\n",
    "    name=input(\"姓名：\")\n",
    "    grade=input(\"成绩：\")\n",
    "    save_grade(name,grade)\n",
    "    \n",
    "    print(f'{name}的成绩已保存')\n",
    "    go_on=input('是否继续输入(yes or no)?')\n",
    "    n=0\n",
    "    if go_on=='yes':\n",
    "        continue\n",
    "    elif go_on=='no':\n",
    "        break\n",
    "    print('成绩输入结束。')\n",
    "        "
   ]
  },
  {
   "cell_type": "code",
   "execution_count": 10,
   "metadata": {},
   "outputs": [
    {
     "name": "stdin",
     "output_type": "stream",
     "text": [
      "姓名： li\n",
      "成绩： 888\n"
     ]
    },
    {
     "name": "stdout",
     "output_type": "stream",
     "text": [
      "li的成绩已保存\n"
     ]
    },
    {
     "name": "stdin",
     "output_type": "stream",
     "text": [
      "是否继续输入(yes or no)? no\n"
     ]
    },
    {
     "name": "stdout",
     "output_type": "stream",
     "text": [
      "成绩输入结束。\n"
     ]
    }
   ],
   "source": [
    "while True:\n",
    "    name=input(\"姓名：\")\n",
    "    grade=input(\"成绩：\")\n",
    "    save_grade(name,grade)\n",
    "    print(f'{name}的成绩已保存')\n",
    "    go_on=input('是否继续输入(yes or no)?')\n",
    "    n=0\n",
    "    while n<2:\n",
    "        if go_on=='yes':\n",
    "            continue\n",
    "        elif go_on=='no':\n",
    "            break\n",
    "        else:\n",
    "            n+=1\n",
    "            go_on=input(f'{n+1}指令无效，是否继续输入(yes or no)?')\n",
    "    if go_on=='no' or n==2:\n",
    "        print('成绩输入结束。')\n",
    "        break"
   ]
  },
  {
   "cell_type": "code",
   "execution_count": 12,
   "metadata": {},
   "outputs": [
    {
     "name": "stdout",
     "output_type": "stream",
     "text": [
      "This is count 1\n",
      "This is count 2\n",
      "This is count 3\n",
      "This is count 4\n",
      "This is count 5\n",
      "A fruit of type: apples\n",
      "A fruit of type: oranges\n",
      "A fruit of type: pears\n",
      "A fruit of type: apricots\n",
      "I got 1\n",
      "I got pennies\n",
      "I got 2\n",
      "I got dimes\n",
      "I got 3\n",
      "I got quarters\n",
      "Adding 0 to the list.\n",
      "Adding 1 to the list.\n",
      "Adding 2 to the list.\n",
      "Adding 3 to the list.\n",
      "Adding 4 to the list.\n",
      "Adding 5 to the list.\n",
      "Element was: 0\n",
      "Element was: 1\n",
      "Element was: 2\n",
      "Element was: 3\n",
      "Element was: 4\n",
      "Element was: 5\n"
     ]
    }
   ],
   "source": [
    "the_count = [1, 2, 3, 4, 5]\n",
    "fruits = ['apples', 'oranges', 'pears', 'apricots']\n",
    "change = [1, 'pennies', 2, 'dimes', 3, 'quarters']\n",
    "\n",
    "# this first kind of for-loop goes through a list\n",
    "for number in the_count:\n",
    "    print(f\"This is count {number}\")\n",
    "\n",
    "# same as above\n",
    "for fruit in fruits:\n",
    "    print(f\"A fruit of type: {fruit}\")\n",
    "\n",
    "# also we can go through mixed lists too\n",
    "# notice we have to use {} since we don't know what's in it\n",
    "for i in change:\n",
    "    print(f\"I got {i}\")\n",
    "\n",
    "# we can also build lists, first start with an empty one\n",
    "elements = []\n",
    "\n",
    "# then use the range function to do 0 to 5 counts\n",
    "for i in range(0, 6):\n",
    "    print(f\"Adding {i} to the list.\")\n",
    "    # append is a function that lists understand\n",
    "    elements.append(i)\n",
    "\n",
    "# now we can print them out too\n",
    "for i in elements:\n",
    "    print(f\"Element was: {i}\")"
   ]
  },
  {
   "cell_type": "code",
   "execution_count": 14,
   "metadata": {},
   "outputs": [
    {
     "name": "stdout",
     "output_type": "stream",
     "text": [
      "0\n"
     ]
    }
   ],
   "source": [
    "number_file = open('numbers.txt')\n",
    "numbers = number_file.readlines()\n",
    "sum = 0\n",
    "for number in numbers:\n",
    "    sum += number\n",
    "print(sum)\n",
    "number_file.close()"
   ]
  },
  {
   "cell_type": "code",
   "execution_count": 15,
   "metadata": {},
   "outputs": [
    {
     "name": "stdout",
     "output_type": "stream",
     "text": [
      "0\n"
     ]
    }
   ],
   "source": [
    "try:\n",
    "    number_file = open('numbers.txt')\n",
    "    numbers = number_file.readlines()\n",
    "    sum = 0\n",
    "    for number in numbers:\n",
    "        sum += int(number)\n",
    "except TypeError as te:\n",
    "    print(te.args)\n",
    "except:\n",
    "    print('未知错误')\n",
    "else:\n",
    "    print(sum)\n",
    "finally:\n",
    "    number_file.close()"
   ]
  },
  {
   "cell_type": "code",
   "execution_count": 16,
   "metadata": {},
   "outputs": [
    {
     "name": "stdout",
     "output_type": "stream",
     "text": [
      "0\n"
     ]
    }
   ],
   "source": [
    "try:\n",
    "    number_file = open('numbers.txt')\n",
    "    numbers = number_file.readlines()\n",
    "    sum = 0\n",
    "    for number in numbers:\n",
    "        sum += int(number)\n",
    "except TypeError as te:\n",
    "    print(te.args)\n",
    "except ValueError:\n",
    "    print(f'{number}不是数字！')\n",
    "except:\n",
    "    print('未知错误')\n",
    "else:\n",
    "    print(sum)\n",
    "finally:\n",
    "    number_file.close()"
   ]
  },
  {
   "cell_type": "code",
   "execution_count": 17,
   "metadata": {},
   "outputs": [],
   "source": [
    "stu_names = ['Lily', 'Lucy', 'Han Meimei']\n",
    "with open('sample.txt', 'w') as txt:\n",
    "    for name in stu_names:\n",
    "        txt.write(f'{name} 签到！\\n')"
   ]
  },
  {
   "cell_type": "code",
   "execution_count": 9,
   "metadata": {},
   "outputs": [
    {
     "data": {
      "text/plain": [
       "<function __main__.msg_inner()>"
      ]
     },
     "execution_count": 9,
     "metadata": {},
     "output_type": "execute_result"
    }
   ],
   "source": [
    "def msg_inner():\n",
    "    msg_inner = 'I am a local variable.'\n",
    "msg_inner"
   ]
  },
  {
   "cell_type": "code",
   "execution_count": 10,
   "metadata": {},
   "outputs": [
    {
     "data": {
      "text/plain": [
       "'I am a global variable.'"
      ]
     },
     "execution_count": 10,
     "metadata": {},
     "output_type": "execute_result"
    }
   ],
   "source": [
    "if True:\n",
    "    msg = 'I am a global variable.'\n",
    "msg"
   ]
  },
  {
   "cell_type": "code",
   "execution_count": 13,
   "metadata": {},
   "outputs": [],
   "source": [
    "a = 10\n",
    "def msg_inner():\n",
    "    a = a + 1\n",
    "    print(a)\n",
    "test()"
   ]
  },
  {
   "cell_type": "code",
   "execution_count": 14,
   "metadata": {},
   "outputs": [
    {
     "data": {
      "text/plain": [
       "['ArithmeticError',\n",
       " 'AssertionError',\n",
       " 'AttributeError',\n",
       " 'BaseException',\n",
       " 'BlockingIOError',\n",
       " 'BrokenPipeError',\n",
       " 'BufferError',\n",
       " 'BytesWarning',\n",
       " 'ChildProcessError',\n",
       " 'ConnectionAbortedError',\n",
       " 'ConnectionError',\n",
       " 'ConnectionRefusedError',\n",
       " 'ConnectionResetError',\n",
       " 'DeprecationWarning',\n",
       " 'EOFError',\n",
       " 'Ellipsis',\n",
       " 'EnvironmentError',\n",
       " 'Exception',\n",
       " 'False',\n",
       " 'FileExistsError',\n",
       " 'FileNotFoundError',\n",
       " 'FloatingPointError',\n",
       " 'FutureWarning',\n",
       " 'GeneratorExit',\n",
       " 'IOError',\n",
       " 'ImportError',\n",
       " 'ImportWarning',\n",
       " 'IndentationError',\n",
       " 'IndexError',\n",
       " 'InterruptedError',\n",
       " 'IsADirectoryError',\n",
       " 'KeyError',\n",
       " 'KeyboardInterrupt',\n",
       " 'LookupError',\n",
       " 'MemoryError',\n",
       " 'ModuleNotFoundError',\n",
       " 'NameError',\n",
       " 'None',\n",
       " 'NotADirectoryError',\n",
       " 'NotImplemented',\n",
       " 'NotImplementedError',\n",
       " 'OSError',\n",
       " 'OverflowError',\n",
       " 'PendingDeprecationWarning',\n",
       " 'PermissionError',\n",
       " 'ProcessLookupError',\n",
       " 'RecursionError',\n",
       " 'ReferenceError',\n",
       " 'ResourceWarning',\n",
       " 'RuntimeError',\n",
       " 'RuntimeWarning',\n",
       " 'StopAsyncIteration',\n",
       " 'StopIteration',\n",
       " 'SyntaxError',\n",
       " 'SyntaxWarning',\n",
       " 'SystemError',\n",
       " 'SystemExit',\n",
       " 'TabError',\n",
       " 'TimeoutError',\n",
       " 'True',\n",
       " 'TypeError',\n",
       " 'UnboundLocalError',\n",
       " 'UnicodeDecodeError',\n",
       " 'UnicodeEncodeError',\n",
       " 'UnicodeError',\n",
       " 'UnicodeTranslateError',\n",
       " 'UnicodeWarning',\n",
       " 'UserWarning',\n",
       " 'ValueError',\n",
       " 'Warning',\n",
       " 'WindowsError',\n",
       " 'ZeroDivisionError',\n",
       " '__IPYTHON__',\n",
       " '__build_class__',\n",
       " '__debug__',\n",
       " '__doc__',\n",
       " '__import__',\n",
       " '__loader__',\n",
       " '__name__',\n",
       " '__package__',\n",
       " '__spec__',\n",
       " 'abs',\n",
       " 'all',\n",
       " 'any',\n",
       " 'ascii',\n",
       " 'bin',\n",
       " 'bool',\n",
       " 'breakpoint',\n",
       " 'bytearray',\n",
       " 'bytes',\n",
       " 'callable',\n",
       " 'chr',\n",
       " 'classmethod',\n",
       " 'compile',\n",
       " 'complex',\n",
       " 'copyright',\n",
       " 'credits',\n",
       " 'delattr',\n",
       " 'dict',\n",
       " 'dir',\n",
       " 'display',\n",
       " 'divmod',\n",
       " 'enumerate',\n",
       " 'eval',\n",
       " 'exec',\n",
       " 'filter',\n",
       " 'float',\n",
       " 'format',\n",
       " 'frozenset',\n",
       " 'get_ipython',\n",
       " 'getattr',\n",
       " 'globals',\n",
       " 'hasattr',\n",
       " 'hash',\n",
       " 'help',\n",
       " 'hex',\n",
       " 'id',\n",
       " 'input',\n",
       " 'int',\n",
       " 'isinstance',\n",
       " 'issubclass',\n",
       " 'iter',\n",
       " 'len',\n",
       " 'license',\n",
       " 'list',\n",
       " 'locals',\n",
       " 'map',\n",
       " 'max',\n",
       " 'memoryview',\n",
       " 'min',\n",
       " 'next',\n",
       " 'object',\n",
       " 'oct',\n",
       " 'open',\n",
       " 'ord',\n",
       " 'pow',\n",
       " 'print',\n",
       " 'property',\n",
       " 'range',\n",
       " 'repr',\n",
       " 'reversed',\n",
       " 'round',\n",
       " 'set',\n",
       " 'setattr',\n",
       " 'slice',\n",
       " 'sorted',\n",
       " 'staticmethod',\n",
       " 'str',\n",
       " 'sum',\n",
       " 'super',\n",
       " 'tuple',\n",
       " 'type',\n",
       " 'vars',\n",
       " 'zip']"
      ]
     },
     "execution_count": 14,
     "metadata": {},
     "output_type": "execute_result"
    }
   ],
   "source": [
    "import builtins\n",
    "dir(builtins)"
   ]
  },
  {
   "cell_type": "code",
   "execution_count": null,
   "metadata": {},
   "outputs": [],
   "source": []
  }
 ],
 "metadata": {
  "kernelspec": {
   "display_name": "Python 3",
   "language": "python",
   "name": "python3"
  },
  "language_info": {
   "codemirror_mode": {
    "name": "ipython",
    "version": 3
   },
   "file_extension": ".py",
   "mimetype": "text/x-python",
   "name": "python",
   "nbconvert_exporter": "python",
   "pygments_lexer": "ipython3",
   "version": "3.8.5"
  }
 },
 "nbformat": 4,
 "nbformat_minor": 4
}
