{
 "cells": [
  {
   "cell_type": "code",
   "execution_count": 1,
   "metadata": {},
   "outputs": [],
   "source": [
    "from turtle import*\n",
    "color('red','red')\n",
    "begin_fill()\n",
    "for i in range(5):\n",
    "    fd(200)\n",
    "    rt(144)\n",
    "end_fill()\n",
    "done()"
   ]
  },
  {
   "cell_type": "code",
   "execution_count": 3,
   "metadata": {},
   "outputs": [],
   "source": [
    "import turtle\n",
    "turtle.pensize(2)\n",
    "turtle.circle(10)\n",
    "turtle.circle(40)\n",
    "turtle.circle(80)\n",
    "turtle.circle(80)\n",
    "turtle.circle(160)"
   ]
  },
  {
   "cell_type": "code",
   "execution_count": 13,
   "metadata": {},
   "outputs": [
    {
     "name": "stdin",
     "output_type": "stream",
     "text": [
      "请输入带有符号的温度值： 85F\n"
     ]
    },
    {
     "name": "stdout",
     "output_type": "stream",
     "text": [
      "转换后的温度是29.44C\n"
     ]
    }
   ],
   "source": [
    "TempStr=input(\"请输入带有符号的温度值：\")\n",
    "if TempStr[-1] in ['F','f']:\n",
    "    c=(eval(TempStr[0:-1])-32)/1.8\n",
    "    print(\"转换后的温度是{:.2f}C\".format(c))\n",
    "elif TempStr[-1] in ['C','c']:\n",
    "    F=1.8*eval(TempStr[0:-1])+32\n",
    "    print(\"转换后的温度是{:.2f}F\".format(F))\n",
    "else:\n",
    "    print(\"输入格式有误\")"
   ]
  },
  {
   "cell_type": "code",
   "execution_count": 5,
   "metadata": {},
   "outputs": [
    {
     "name": "stdin",
     "output_type": "stream",
     "text": [
      " 85F\n"
     ]
    },
    {
     "name": "stdout",
     "output_type": "stream",
     "text": [
      "29.44C\n"
     ]
    }
   ],
   "source": [
    "Temp=input()\n",
    "if Temp[-1] in ['F','f']:\n",
    "   C=(eval(Temp[0:-1])-32)/1.8 \n",
    "   print(\"{:.2f}C\".format(C))\n",
    "elif Temp[-1] in ['C','c']:\n",
    "   F=1.8*eval(Temp[0:-1])+32 \n",
    "   print(\"{:.2f}F\".format(F))\n",
    "else:\n",
    "   print(\"输入格式不正确\")"
   ]
  },
  {
   "cell_type": "code",
   "execution_count": 10,
   "metadata": {},
   "outputs": [
    {
     "name": "stdin",
     "output_type": "stream",
     "text": [
      " 356\n"
     ]
    },
    {
     "name": "stdout",
     "output_type": "stream",
     "text": [
      "三五六"
     ]
    }
   ],
   "source": [
    "temp=\"零一二三四五六七八九\"\n",
    "s=input()\n",
    "for i in s:\n",
    "    print(temp[eval(i)],end=\"\")"
   ]
  },
  {
   "cell_type": "code",
   "execution_count": 8,
   "metadata": {},
   "outputs": [
    {
     "name": "stdin",
     "output_type": "stream",
     "text": [
      " c24\n"
     ]
    },
    {
     "name": "stdout",
     "output_type": "stream",
     "text": [
      "输入格式错误\n"
     ]
    }
   ],
   "source": [
    "t=input()\n",
    "if t[0]=='C':\n",
    "   F=1.8*eval(t[1:-1]+t[-1])+32\n",
    "   print(\"F{:.2f}\".format(F))\n",
    "elif t[0]=='F':\n",
    "   C=(eval(t[1:-1]+t[-1])-32)/1.8 \n",
    "   print(\"C{:.2f}\".format(C))\n",
    "else:\n",
    "   print(\"输入格式错误\")"
   ]
  },
  {
   "cell_type": "code",
   "execution_count": 10,
   "metadata": {},
   "outputs": [
    {
     "name": "stdin",
     "output_type": "stream",
     "text": [
      " RMB123\n"
     ]
    },
    {
     "name": "stdout",
     "output_type": "stream",
     "text": [
      "USD18.14\n"
     ]
    }
   ],
   "source": [
    "Money=input()\n",
    "if Money[0:3]==\"RMB\":\n",
    "   D=eval(Money[3:-1]+Money[-1])/6.78\n",
    "   print(\"USD{:.2f}\".format(D))\n",
    "elif Money[0:3]==\"USD\":\n",
    "   R=6.78*eval(Money[3:-1]+Money[-1])\n",
    "   print(\"RMB{:.2f}\".format(R))"
   ]
  },
  {
   "cell_type": "code",
   "execution_count": 5,
   "metadata": {},
   "outputs": [
    {
     "name": "stdin",
     "output_type": "stream",
     "text": [
      "integer:\n",
      " 3\n",
      "integer:\n",
      " 1\n",
      "integer:\n",
      " 5\n"
     ]
    },
    {
     "name": "stdout",
     "output_type": "stream",
     "text": [
      "[1, 3, 5]\n"
     ]
    }
   ],
   "source": [
    "l=[]\n",
    "for i in range(3):\n",
    "    x=int(input(\"integer:\\n\"))\n",
    "    l.append(x)\n",
    "l.sort()\n",
    "print(l)"
   ]
  },
  {
   "cell_type": "code",
   "execution_count": 33,
   "metadata": {},
   "outputs": [
    {
     "name": "stdout",
     "output_type": "stream",
     "text": [
      "[1, 2, 3]\n"
     ]
    }
   ],
   "source": [
    "x=[1,2,3]\n",
    "x.sort()\n",
    "print(x)"
   ]
  },
  {
   "cell_type": "code",
   "execution_count": 34,
   "metadata": {},
   "outputs": [
    {
     "name": "stdin",
     "output_type": "stream",
     "text": [
      " 3\n",
      " 2\n",
      " 1\n"
     ]
    },
    {
     "name": "stdout",
     "output_type": "stream",
     "text": [
      "['3', '2', '1']\n"
     ]
    }
   ],
   "source": [
    "x=[0,0,0]\n",
    "for i in range(3):\n",
    "    x[i]=input()\n",
    "print(x)"
   ]
  },
  {
   "cell_type": "code",
   "execution_count": 36,
   "metadata": {},
   "outputs": [
    {
     "name": "stdin",
     "output_type": "stream",
     "text": [
      " 3\n",
      " 2\n",
      " 5\n"
     ]
    },
    {
     "name": "stdout",
     "output_type": "stream",
     "text": [
      "[2, 3, 5]\n"
     ]
    }
   ],
   "source": [
    "x=[0,0,0]\n",
    "l=[0,0,0]\n",
    "for i in range(3):\n",
    "    x[i]=input()\n",
    "    l[i]=eval(x[i])\n",
    "l.sort()\n",
    "print(l)"
   ]
  },
  {
   "cell_type": "code",
   "execution_count": 37,
   "metadata": {},
   "outputs": [
    {
     "name": "stdin",
     "output_type": "stream",
     "text": [
      "integer:\n",
      " 3\n",
      "integer:\n",
      " 5\n",
      "integer:\n",
      " 1\n"
     ]
    },
    {
     "name": "stdout",
     "output_type": "stream",
     "text": [
      "[1, 3, 5]\n"
     ]
    }
   ],
   "source": [
    "l=[0,0,0]\n",
    "for i in range(3):\n",
    "    x=int(input(\"integer:\\n\"))\n",
    "    l[i]=x\n",
    "l.sort()\n",
    "print(l)"
   ]
  },
  {
   "cell_type": "code",
   "execution_count": 46,
   "metadata": {},
   "outputs": [
    {
     "name": "stdin",
     "output_type": "stream",
     "text": [
      "排序整数数目n= 5\n",
      "x0= 5\n",
      "x1= 6\n",
      "x2= 4\n",
      "x3= 2\n",
      "x4= 3\n"
     ]
    },
    {
     "name": "stdout",
     "output_type": "stream",
     "text": [
      "[2, 3, 4, 5, 6]\n"
     ]
    }
   ],
   "source": [
    "#可变长度从小到大列表排序\n",
    "n=int(input(\"排序整数数目n=\"))\n",
    "l0=[0]\n",
    "l=n*l0\n",
    "for i in range(n):\n",
    "    x=int(input(\"x{}=\".format(i)))\n",
    "    l[i]=x\n",
    "l.sort()\n",
    "print(l)"
   ]
  },
  {
   "cell_type": "code",
   "execution_count": 48,
   "metadata": {},
   "outputs": [
    {
     "name": "stdin",
     "output_type": "stream",
     "text": [
      "排序整数数目n= 5\n",
      "x0= 5\n",
      "x1= 6\n",
      "x2= 4\n",
      "x3= 2\n",
      "x4= 3\n"
     ]
    },
    {
     "name": "stdout",
     "output_type": "stream",
     "text": [
      "[6, 5, 4, 3, 2]\n"
     ]
    }
   ],
   "source": [
    "#可变长度从大到小列表排序\n",
    "n=int(input(\"排序整数数目n=\"))\n",
    "l0=[0]\n",
    "l=n*l0\n",
    "for i in range(n):\n",
    "    x=int(input(\"x{}=\".format(i)))\n",
    "    l[i]=x\n",
    "l.sort()\n",
    "#方法一\n",
    "l.reverse()\n",
    "print(l)"
   ]
  },
  {
   "cell_type": "code",
   "execution_count": 75,
   "metadata": {},
   "outputs": [
    {
     "name": "stdin",
     "output_type": "stream",
     "text": [
      "排序整数数目n= 5\n",
      "x0= 6\n",
      "x1= 7\n",
      "x2= 5\n",
      "x3= 2\n",
      "x4= 1\n"
     ]
    },
    {
     "name": "stdout",
     "output_type": "stream",
     "text": [
      "7 6 5 2 1 \n",
      "[7, 6, 5, 2, 1]\n"
     ]
    }
   ],
   "source": [
    "#可变长度从大到小列表排序\n",
    "n=int(input(\"排序整数数目n=\"))\n",
    "l0=[0]\n",
    "l=n*l0\n",
    "for i in range(n):\n",
    "    x=int(input(\"x{}=\".format(i)))\n",
    "    l[i]=x\n",
    "l.sort()\n",
    "#方法二\n",
    "for i in range(n-1,-1,-1):\n",
    "    print(l[i],end=\" \")\n",
    "#方法三\n",
    "print(f\"\\n{l[::-1]}\")"
   ]
  },
  {
   "cell_type": "code",
   "execution_count": 71,
   "metadata": {},
   "outputs": [
    {
     "name": "stdout",
     "output_type": "stream",
     "text": [
      "SDFXA SFDSD \n",
      "\n",
      "sdfxa sfdsd \n",
      "\n",
      "Sdfxa sfdsd \n",
      "\n",
      "Sdfxa Sfdsd \n",
      "\n"
     ]
    }
   ],
   "source": [
    "str=\"SDFXa sfdSD \"\n",
    "print(f\"{str.upper()}\\n\")\n",
    "print(f\"{str.lower()}\\n\")\n",
    "print(f\"{str.capitalize()}\\n\")     \n",
    "print(f\"{str.title()}\\n\")     "
   ]
  },
  {
   "cell_type": "code",
   "execution_count": 9,
   "metadata": {},
   "outputs": [
    {
     "name": "stdin",
     "output_type": "stream",
     "text": [
      " 1123dhyfgj\n"
     ]
    },
    {
     "name": "stdout",
     "output_type": "stream",
     "text": [
      "False\n",
      "True\n",
      "False\n"
     ]
    }
   ],
   "source": [
    "x=input()\n",
    "print(x.isalpha())\n",
    "print(x.isalnum())\n",
    "print(x[1].isalpha())"
   ]
  },
  {
   "cell_type": "code",
   "execution_count": 12,
   "metadata": {},
   "outputs": [],
   "source": [
    "#画蟒蛇\n",
    "import turtle\n",
    "turtle.setup(650,350,200,200)\n",
    "turtle.penup()\n",
    "turtle.fd(-250)\n",
    "turtle.pendown()\n",
    "turtle.pensize(25)\n",
    "turtle.pencolor('purple')\n",
    "turtle.seth(-40)\n",
    "for i in range(4):\n",
    "    turtle.circle(40,80)\n",
    "    turtle.circle(-40,80)\n",
    "turtle.circle(40,80/2)\n",
    "turtle.fd(40)\n",
    "turtle.circle(16,180)\n",
    "turtle.fd(40*2/3)\n",
    "turtle.done()"
   ]
  },
  {
   "cell_type": "code",
   "execution_count": 10,
   "metadata": {},
   "outputs": [],
   "source": [
    "import turtle\n",
    "turtle.setup(650,650)\n",
    "turtle.pensize(25)\n",
    "turtle.left(250)\n",
    "turtle.fd(250)\n",
    "turtle.right(250)\n",
    "turtle.fd(250)\n",
    "turtle.left(110)\n",
    "turtle.fd(-250)\n",
    "turtle.done()"
   ]
  },
  {
   "cell_type": "code",
   "execution_count": 9,
   "metadata": {},
   "outputs": [],
   "source": [
    "#绘制Z形曲线\n",
    "import turtle \n",
    "turtle.setup(600,600,100,100)\n",
    "turtle.penup()\n",
    "turtle.fd(-200)\n",
    "turtle.seth(90)\n",
    "turtle.fd(200)\n",
    "turtle.pendown()\n",
    "turtle.seth(0)\n",
    "turtle.fd(400)\n",
    "turtle.seth(-135)\n",
    "turtle.fd(500)\n",
    "turtle.seth(0)\n",
    "turtle.fd(400)\n",
    "turtle.done()"
   ]
  },
  {
   "cell_type": "code",
   "execution_count": 5,
   "metadata": {},
   "outputs": [
    {
     "data": {
      "image/png": "[encoded data removed]",
      "text/plain": [
       "<Figure size 432x288 with 1 Axes>"
      ]
     },
     "metadata": {
      "needs_background": "light"
     },
     "output_type": "display_data"
    }
   ],
   "source": [
    "import numpy as np\n",
    "import random\n",
    "import matplotlib.pyplot as plt\n",
    "x=np.linspace(-np.pi,np.pi,200)\n",
    "y=np.sin(x)+random.random()\n",
    "plt.plot(x,y)\n",
    "plt.show()"
   ]
  },
  {
   "cell_type": "code",
   "execution_count": 9,
   "metadata": {},
   "outputs": [
    {
     "name": "stdout",
     "output_type": "stream",
     "text": [
      "----注册----\n"
     ]
    },
    {
     "name": "stdin",
     "output_type": "stream",
     "text": [
      "输入用户名： psjpsj1996\n",
      "输入密码： 12345\n",
      "确认密码： 12345\n"
     ]
    },
    {
     "name": "stdout",
     "output_type": "stream",
     "text": [
      "注册成功！\n",
      "----登录----\n"
     ]
    },
    {
     "name": "stdin",
     "output_type": "stream",
     "text": [
      "输入用户名： psjpsj1996\n",
      "输入密码： 12345\n"
     ]
    },
    {
     "name": "stdout",
     "output_type": "stream",
     "text": [
      "登陆成功！\n"
     ]
    }
   ],
   "source": [
    "print(\"----注册----\")\n",
    "x=input('输入用户名：')\n",
    "y=input('输入密码：')\n",
    "for i in range(3):\n",
    "    z=input('确认密码：')\n",
    "    if(z==y):\n",
    "        print(\"注册成功！\")\n",
    "        break\n",
    "    else:\n",
    "        print(\"密码确认失败！\")\n",
    "print(\"----登录----\")\n",
    "i=1\n",
    "while(i<=3):\n",
    "    name=input('输入用户名：')\n",
    "    password=input('输入密码：')\n",
    "    if(name==x and password==y):\n",
    "        print(\"登陆成功！\")\n",
    "        break\n",
    "    else:\n",
    "        print(\"用户名或密码错误！\")\n",
    "        i+=1\n",
    "if(i>3):\n",
    "    print(\"出错过多，账户冻结！\")"
   ]
  },
  {
   "cell_type": "code",
   "execution_count": 34,
   "metadata": {},
   "outputs": [
    {
     "name": "stdout",
     "output_type": "stream",
     "text": [
      "{1: {'name': 'Amy', 'score': 95}, 2: {'name': 'Tom', 'score': 100}, 3: {'name': 'Jerry', 'score': 90}}\n",
      "sum= 285\n",
      "ave= 95.0\n",
      "Amy的分数>平均分\n",
      "Tom的分数>平均分\n",
      "Jerry的分数<平均分\n"
     ]
    }
   ],
   "source": [
    "student={}\n",
    "student[1]={'name':'Amy','score':95}\n",
    "student[2]={'name':'Tom','score':100}\n",
    "student[3]={'name':'Jerry','score':90}\n",
    "print(student)\n",
    "sum=0\n",
    "for i in range(1,4):\n",
    "    sum+=student[i]['score']\n",
    "ave=sum/3\n",
    "print(\"sum=\",sum)\n",
    "print(\"ave=\",ave)\n",
    "for i in student:\n",
    "    if(student[i]['score']-ave<0):\n",
    "        print(f\"{student[i]['name']}的分数<平均分\")\n",
    "    else:\n",
    "        print(f\"{student[i]['name']}的分数>平均分\")"
   ]
  },
  {
   "cell_type": "code",
   "execution_count": 35,
   "metadata": {},
   "outputs": [
    {
     "name": "stdout",
     "output_type": "stream",
     "text": [
      "F:\\anaconda3\\lib\\site-packages\\ipykernel_launcher.py\n",
      "-f\n",
      "C:\\Users\\64524\\AppData\\Roaming\\jupyter\\runtime\\kernel-5f895ad2-20a7-4009-9fbe-092d9adebba2.json\n"
     ]
    }
   ],
   "source": [
    "from sys import argv\n",
    "script,first,second=argv\n",
    "print(script)\n",
    "print(first)\n",
    "print(second)"
   ]
  },
  {
   "cell_type": "code",
   "execution_count": 52,
   "metadata": {},
   "outputs": [
    {
     "name": "stdout",
     "output_type": "stream",
     "text": [
      " 0"
     ]
    }
   ],
   "source": [
    "#10s倒计时\n",
    "import time as t\n",
    "x=list(range(10))\n",
    "x.sort()\n",
    "x.reverse()\n",
    "for i in range(len(x)):\n",
    "    print('\\r',x[i],end=\"\")\n",
    "    t.sleep(1)"
   ]
  },
  {
   "cell_type": "code",
   "execution_count": 1,
   "metadata": {},
   "outputs": [
    {
     "name": "stdout",
     "output_type": "stream",
     "text": [
      "欢迎来到大神指点的小程序\n"
     ]
    },
    {
     "name": "stdin",
     "output_type": "stream",
     "text": [
      "你猜一下我现在想的哪个数字 5\n"
     ]
    },
    {
     "name": "stdout",
     "output_type": "stream",
     "text": [
      "大了\n"
     ]
    },
    {
     "name": "stdin",
     "output_type": "stream",
     "text": [
      "请重新输入 4\n"
     ]
    },
    {
     "name": "stdout",
     "output_type": "stream",
     "text": [
      "恭喜你答对了\n",
      "游戏结束\n"
     ]
    }
   ],
   "source": [
    "import random\n",
    "print('欢迎来到大神指点的小程序')\n",
    "answer=random.randint(1,10)\n",
    "temp=input(\"你猜一下我现在想的哪个数字\")\n",
    "guess=int(temp)\n",
    "while guess !=answer:\n",
    "    if(guess>answer):\n",
    "        print(\"大了\")\n",
    "    else:\n",
    "        print(\"小了\")\n",
    "    temp=input(\"请重新输入\")\n",
    "    guess=int(temp)\n",
    "print(\"恭喜你答对了\")\n",
    "print(\"游戏结束\")"
   ]
  },
  {
   "cell_type": "code",
   "execution_count": 1,
   "metadata": {},
   "outputs": [
    {
     "name": "stdout",
     "output_type": "stream",
     "text": [
      "[1, 3, 5, 7, 11, 13, 16, 9, 2, 4, 6, 8, 10]\n",
      "[1, 3, 5, 7, 11, 13, 16, 9, 2, 4, 6, 8, 10]\n",
      "[1, 3, 5, 7, 11, 13, 16, 9, 2, 4, 6, 8, 10]\n",
      "[1, 3, 5, 7, 11, 13, 16, 9, 2, 4, 6, 8, 10]\n",
      "[1, 3, 5, 7, 11, 13, 16, 9, 2, 4, 6, 8, 10]\n",
      "[1, 3, 5, 7, 11, 13, 16, 9, 2, 4, 6, 8, 10]\n",
      "[1, 3, 5, 7, 11, 13, 9, 16, 2, 4, 6, 8, 10]\n",
      "[1, 3, 5, 7, 11, 13, 9, 2, 16, 4, 6, 8, 10]\n",
      "[1, 3, 5, 7, 11, 13, 9, 2, 4, 16, 6, 8, 10]\n",
      "[1, 3, 5, 7, 11, 13, 9, 2, 4, 6, 16, 8, 10]\n",
      "[1, 3, 5, 7, 11, 13, 9, 2, 4, 6, 8, 16, 10]\n",
      "[1, 3, 5, 7, 11, 13, 9, 2, 4, 6, 8, 10, 16]\n",
      "[1, 3, 5, 7, 11, 13, 9, 2, 4, 6, 8, 10, 16]\n",
      "[1, 3, 5, 7, 11, 13, 9, 2, 4, 6, 8, 10, 16]\n",
      "[1, 3, 5, 7, 11, 13, 9, 2, 4, 6, 8, 10, 16]\n",
      "[1, 3, 5, 7, 11, 13, 9, 2, 4, 6, 8, 10, 16]\n",
      "[1, 3, 5, 7, 11, 13, 9, 2, 4, 6, 8, 10, 16]\n",
      "[1, 3, 5, 7, 11, 9, 13, 2, 4, 6, 8, 10, 16]\n",
      "[1, 3, 5, 7, 11, 9, 2, 13, 4, 6, 8, 10, 16]\n",
      "[1, 3, 5, 7, 11, 9, 2, 4, 13, 6, 8, 10, 16]\n",
      "[1, 3, 5, 7, 11, 9, 2, 4, 6, 13, 8, 10, 16]\n",
      "[1, 3, 5, 7, 11, 9, 2, 4, 6, 8, 13, 10, 16]\n",
      "[1, 3, 5, 7, 11, 9, 2, 4, 6, 8, 10, 13, 16]\n",
      "[1, 3, 5, 7, 11, 9, 2, 4, 6, 8, 10, 13, 16]\n",
      "[1, 3, 5, 7, 11, 9, 2, 4, 6, 8, 10, 13, 16]\n",
      "[1, 3, 5, 7, 11, 9, 2, 4, 6, 8, 10, 13, 16]\n",
      "[1, 3, 5, 7, 11, 9, 2, 4, 6, 8, 10, 13, 16]\n",
      "[1, 3, 5, 7, 11, 9, 2, 4, 6, 8, 10, 13, 16]\n",
      "[1, 3, 5, 7, 9, 11, 2, 4, 6, 8, 10, 13, 16]\n",
      "[1, 3, 5, 7, 9, 2, 11, 4, 6, 8, 10, 13, 16]\n",
      "[1, 3, 5, 7, 9, 2, 4, 11, 6, 8, 10, 13, 16]\n",
      "[1, 3, 5, 7, 9, 2, 4, 6, 11, 8, 10, 13, 16]\n",
      "[1, 3, 5, 7, 9, 2, 4, 6, 8, 11, 10, 13, 16]\n",
      "[1, 3, 5, 7, 9, 2, 4, 6, 8, 10, 11, 13, 16]\n",
      "[1, 3, 5, 7, 9, 2, 4, 6, 8, 10, 11, 13, 16]\n",
      "[1, 3, 5, 7, 9, 2, 4, 6, 8, 10, 11, 13, 16]\n",
      "[1, 3, 5, 7, 9, 2, 4, 6, 8, 10, 11, 13, 16]\n",
      "[1, 3, 5, 7, 9, 2, 4, 6, 8, 10, 11, 13, 16]\n",
      "[1, 3, 5, 7, 9, 2, 4, 6, 8, 10, 11, 13, 16]\n",
      "[1, 3, 5, 7, 9, 2, 4, 6, 8, 10, 11, 13, 16]\n",
      "[1, 3, 5, 7, 2, 9, 4, 6, 8, 10, 11, 13, 16]\n",
      "[1, 3, 5, 7, 2, 4, 9, 6, 8, 10, 11, 13, 16]\n",
      "[1, 3, 5, 7, 2, 4, 6, 9, 8, 10, 11, 13, 16]\n",
      "[1, 3, 5, 7, 2, 4, 6, 8, 9, 10, 11, 13, 16]\n",
      "[1, 3, 5, 7, 2, 4, 6, 8, 9, 10, 11, 13, 16]\n",
      "[1, 3, 5, 7, 2, 4, 6, 8, 9, 10, 11, 13, 16]\n",
      "[1, 3, 5, 7, 2, 4, 6, 8, 9, 10, 11, 13, 16]\n",
      "[1, 3, 5, 7, 2, 4, 6, 8, 9, 10, 11, 13, 16]\n",
      "[1, 3, 5, 7, 2, 4, 6, 8, 9, 10, 11, 13, 16]\n",
      "[1, 3, 5, 7, 2, 4, 6, 8, 9, 10, 11, 13, 16]\n",
      "[1, 3, 5, 7, 2, 4, 6, 8, 9, 10, 11, 13, 16]\n",
      "[1, 3, 5, 2, 7, 4, 6, 8, 9, 10, 11, 13, 16]\n",
      "[1, 3, 5, 2, 4, 7, 6, 8, 9, 10, 11, 13, 16]\n",
      "[1, 3, 5, 2, 4, 6, 7, 8, 9, 10, 11, 13, 16]\n",
      "[1, 3, 5, 2, 4, 6, 7, 8, 9, 10, 11, 13, 16]\n",
      "[1, 3, 5, 2, 4, 6, 7, 8, 9, 10, 11, 13, 16]\n",
      "[1, 3, 5, 2, 4, 6, 7, 8, 9, 10, 11, 13, 16]\n",
      "[1, 3, 5, 2, 4, 6, 7, 8, 9, 10, 11, 13, 16]\n",
      "[1, 3, 5, 2, 4, 6, 7, 8, 9, 10, 11, 13, 16]\n",
      "[1, 3, 5, 2, 4, 6, 7, 8, 9, 10, 11, 13, 16]\n",
      "[1, 3, 5, 2, 4, 6, 7, 8, 9, 10, 11, 13, 16]\n",
      "[1, 3, 5, 2, 4, 6, 7, 8, 9, 10, 11, 13, 16]\n",
      "[1, 3, 2, 5, 4, 6, 7, 8, 9, 10, 11, 13, 16]\n",
      "[1, 3, 2, 4, 5, 6, 7, 8, 9, 10, 11, 13, 16]\n",
      "[1, 3, 2, 4, 5, 6, 7, 8, 9, 10, 11, 13, 16]\n",
      "[1, 3, 2, 4, 5, 6, 7, 8, 9, 10, 11, 13, 16]\n",
      "[1, 3, 2, 4, 5, 6, 7, 8, 9, 10, 11, 13, 16]\n",
      "[1, 3, 2, 4, 5, 6, 7, 8, 9, 10, 11, 13, 16]\n",
      "[1, 3, 2, 4, 5, 6, 7, 8, 9, 10, 11, 13, 16]\n",
      "[1, 3, 2, 4, 5, 6, 7, 8, 9, 10, 11, 13, 16]\n",
      "[1, 3, 2, 4, 5, 6, 7, 8, 9, 10, 11, 13, 16]\n",
      "[1, 3, 2, 4, 5, 6, 7, 8, 9, 10, 11, 13, 16]\n",
      "[1, 3, 2, 4, 5, 6, 7, 8, 9, 10, 11, 13, 16]\n",
      "[1, 2, 3, 4, 5, 6, 7, 8, 9, 10, 11, 13, 16]\n",
      "[1, 2, 3, 4, 5, 6, 7, 8, 9, 10, 11, 13, 16]\n",
      "[1, 2, 3, 4, 5, 6, 7, 8, 9, 10, 11, 13, 16]\n",
      "[1, 2, 3, 4, 5, 6, 7, 8, 9, 10, 11, 13, 16]\n",
      "[1, 2, 3, 4, 5, 6, 7, 8, 9, 10, 11, 13, 16]\n",
      "[1, 2, 3, 4, 5, 6, 7, 8, 9, 10, 11, 13, 16]\n",
      "[1, 2, 3, 4, 5, 6, 7, 8, 9, 10, 11, 13, 16]\n",
      "[1, 2, 3, 4, 5, 6, 7, 8, 9, 10, 11, 13, 16]\n",
      "[1, 2, 3, 4, 5, 6, 7, 8, 9, 10, 11, 13, 16]\n",
      "[1, 2, 3, 4, 5, 6, 7, 8, 9, 10, 11, 13, 16]\n",
      "[1, 2, 3, 4, 5, 6, 7, 8, 9, 10, 11, 13, 16]\n",
      "[1, 2, 3, 4, 5, 6, 7, 8, 9, 10, 11, 13, 16]\n",
      "[1, 2, 3, 4, 5, 6, 7, 8, 9, 10, 11, 13, 16]\n",
      "[1, 2, 3, 4, 5, 6, 7, 8, 9, 10, 11, 13, 16]\n",
      "[1, 2, 3, 4, 5, 6, 7, 8, 9, 10, 11, 13, 16]\n",
      "[1, 2, 3, 4, 5, 6, 7, 8, 9, 10, 11, 13, 16]\n",
      "[1, 2, 3, 4, 5, 6, 7, 8, 9, 10, 11, 13, 16]\n",
      "[1, 2, 3, 4, 5, 6, 7, 8, 9, 10, 11, 13, 16]\n",
      "[1, 2, 3, 4, 5, 6, 7, 8, 9, 10, 11, 13, 16]\n",
      "[1, 2, 3, 4, 5, 6, 7, 8, 9, 10, 11, 13, 16]\n",
      "[1, 2, 3, 4, 5, 6, 7, 8, 9, 10, 11, 13, 16]\n",
      "[1, 2, 3, 4, 5, 6, 7, 8, 9, 10, 11, 13, 16]\n",
      "[1, 2, 3, 4, 5, 6, 7, 8, 9, 10, 11, 13, 16]\n",
      "[1, 2, 3, 4, 5, 6, 7, 8, 9, 10, 11, 13, 16]\n",
      "[1, 2, 3, 4, 5, 6, 7, 8, 9, 10, 11, 13, 16]\n",
      "[1, 2, 3, 4, 5, 6, 7, 8, 9, 10, 11, 13, 16]\n",
      "[1, 2, 3, 4, 5, 6, 7, 8, 9, 10, 11, 13, 16]\n",
      "[1, 2, 3, 4, 5, 6, 7, 8, 9, 10, 11, 13, 16]\n",
      "[1, 2, 3, 4, 5, 6, 7, 8, 9, 10, 11, 13, 16]\n",
      "[1, 2, 3, 4, 5, 6, 7, 8, 9, 10, 11, 13, 16]\n",
      "[1, 2, 3, 4, 5, 6, 7, 8, 9, 10, 11, 13, 16]\n",
      "[1, 2, 3, 4, 5, 6, 7, 8, 9, 10, 11, 13, 16]\n",
      "[1, 2, 3, 4, 5, 6, 7, 8, 9, 10, 11, 13, 16]\n",
      "[1, 2, 3, 4, 5, 6, 7, 8, 9, 10, 11, 13, 16]\n",
      "[1, 2, 3, 4, 5, 6, 7, 8, 9, 10, 11, 13, 16]\n",
      "[1, 2, 3, 4, 5, 6, 7, 8, 9, 10, 11, 13, 16]\n",
      "[1, 2, 3, 4, 5, 6, 7, 8, 9, 10, 11, 13, 16]\n",
      "[1, 2, 3, 4, 5, 6, 7, 8, 9, 10, 11, 13, 16]\n",
      "[1, 2, 3, 4, 5, 6, 7, 8, 9, 10, 11, 13, 16]\n",
      "[1, 2, 3, 4, 5, 6, 7, 8, 9, 10, 11, 13, 16]\n",
      "[1, 2, 3, 4, 5, 6, 7, 8, 9, 10, 11, 13, 16]\n",
      "[1, 2, 3, 4, 5, 6, 7, 8, 9, 10, 11, 13, 16]\n",
      "[1, 2, 3, 4, 5, 6, 7, 8, 9, 10, 11, 13, 16]\n",
      "[1, 2, 3, 4, 5, 6, 7, 8, 9, 10, 11, 13, 16]\n",
      "[1, 2, 3, 4, 5, 6, 7, 8, 9, 10, 11, 13, 16]\n",
      "[1, 2, 3, 4, 5, 6, 7, 8, 9, 10, 11, 13, 16]\n",
      "[1, 2, 3, 4, 5, 6, 7, 8, 9, 10, 11, 13, 16]\n",
      "[1, 2, 3, 4, 5, 6, 7, 8, 9, 10, 11, 13, 16]\n",
      "[1, 2, 3, 4, 5, 6, 7, 8, 9, 10, 11, 13, 16]\n",
      "[1, 2, 3, 4, 5, 6, 7, 8, 9, 10, 11, 13, 16]\n",
      "[1, 2, 3, 4, 5, 6, 7, 8, 9, 10, 11, 13, 16]\n",
      "[1, 2, 3, 4, 5, 6, 7, 8, 9, 10, 11, 13, 16]\n",
      "[1, 2, 3, 4, 5, 6, 7, 8, 9, 10, 11, 13, 16]\n",
      "[1, 2, 3, 4, 5, 6, 7, 8, 9, 10, 11, 13, 16]\n",
      "[1, 2, 3, 4, 5, 6, 7, 8, 9, 10, 11, 13, 16]\n",
      "[1, 2, 3, 4, 5, 6, 7, 8, 9, 10, 11, 13, 16]\n",
      "[1, 2, 3, 4, 5, 6, 7, 8, 9, 10, 11, 13, 16]\n",
      "[1, 2, 3, 4, 5, 6, 7, 8, 9, 10, 11, 13, 16]\n",
      "[1, 2, 3, 4, 5, 6, 7, 8, 9, 10, 11, 13, 16]\n",
      "[1, 2, 3, 4, 5, 6, 7, 8, 9, 10, 11, 13, 16]\n",
      "[1, 2, 3, 4, 5, 6, 7, 8, 9, 10, 11, 13, 16]\n",
      "[1, 2, 3, 4, 5, 6, 7, 8, 9, 10, 11, 13, 16]\n",
      "[1, 2, 3, 4, 5, 6, 7, 8, 9, 10, 11, 13, 16]\n",
      "[1, 2, 3, 4, 5, 6, 7, 8, 9, 10, 11, 13, 16]\n",
      "[1, 2, 3, 4, 5, 6, 7, 8, 9, 10, 11, 13, 16]\n",
      "[1, 2, 3, 4, 5, 6, 7, 8, 9, 10, 11, 13, 16]\n",
      "[1, 2, 3, 4, 5, 6, 7, 8, 9, 10, 11, 13, 16]\n",
      "[1, 2, 3, 4, 5, 6, 7, 8, 9, 10, 11, 13, 16]\n",
      "[1, 2, 3, 4, 5, 6, 7, 8, 9, 10, 11, 13, 16]\n",
      "[1, 2, 3, 4, 5, 6, 7, 8, 9, 10, 11, 13, 16]\n",
      "[1, 2, 3, 4, 5, 6, 7, 8, 9, 10, 11, 13, 16]\n"
     ]
    }
   ],
   "source": [
    "import turtle\n",
    "list1=[1,3,5,7,11,13,16,9,2,4,6,8,10]\n",
    "i=0\n",
    "while i<len(list1)-1:\n",
    "    i+=1\n",
    "    n=0\n",
    "    while n<len(list1)-1:\n",
    "        if(list1[n]>list1[n+1]):\n",
    "            list1[n],list1[n+1]=list1[n+1],list1[n]\n",
    "        n+=1\n",
    "        print(list1)\n",
    "        turtle.speed(20)\n",
    "        turtle.circle(list1[i]*5,350)\n",
    "        turtle.left(list1[i]*5)\n",
    "        turtle.showturtle()\n",
    "turtle.done()"
   ]
  },
  {
   "cell_type": "code",
   "execution_count": null,
   "metadata": {},
   "outputs": [],
   "source": []
  }
 ],
 "metadata": {
  "kernelspec": {
   "display_name": "Python 3",
   "language": "python",
   "name": "python3"
  },
  "language_info": {
   "codemirror_mode": {
    "name": "ipython",
    "version": 3
   },
   "file_extension": ".py",
   "mimetype": "text/x-python",
   "name": "python",
   "nbconvert_exporter": "python",
   "pygments_lexer": "ipython3",
   "version": "3.8.3"
  }
 },
 "nbformat": 4,
 "nbformat_minor": 4
}
