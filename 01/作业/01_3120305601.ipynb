{
 "cells": [
  {
   "cell_type": "code",
   "execution_count": 1,
   "metadata": {},
   "outputs": [
    {
     "name": "stdout",
     "output_type": "stream",
     "text": [
      "请输入身高180\n",
      "请输入体重120\n",
      "BMI指数为：0.003703703703703704\n",
      "体重过轻\n"
     ]
    }
   ],
   "source": [
    "height = float(input('请输入身高'))\n",
    "weight = float(input('请输入体重'))\n",
    "bmi = weight/(height*height)\n",
    "if bmi < 18.5:\n",
    "    print('BMI指数为：' +str(bmi))\n",
    "    print('体重过轻')\n",
    "if bmi >= 18.5 and bmi <24.9:\n",
    "    print('BMI指数为：' +str(bmi))\n",
    "    print('正常范围')\n",
    "if bmi >= 24.9 and bmi <29.9:\n",
    "    print('BMI指数为：' +str(bmi))\n",
    "    print('体重过重')\n",
    "if bmi >=29.9:\n",
    "    print('BMI指数为：' +str(bmi))\n",
    "    print('肥胖') "
   ]
  },
  {
   "cell_type": "code",
   "execution_count": 2,
   "metadata": {},
   "outputs": [
    {
     "data": {
      "text/plain": [
       "['False',\n",
       " 'None',\n",
       " 'True',\n",
       " 'and',\n",
       " 'as',\n",
       " 'assert',\n",
       " 'async',\n",
       " 'await',\n",
       " 'break',\n",
       " 'class',\n",
       " 'continue',\n",
       " 'def',\n",
       " 'del',\n",
       " 'elif',\n",
       " 'else',\n",
       " 'except',\n",
       " 'finally',\n",
       " 'for',\n",
       " 'from',\n",
       " 'global',\n",
       " 'if',\n",
       " 'import',\n",
       " 'in',\n",
       " 'is',\n",
       " 'lambda',\n",
       " 'nonlocal',\n",
       " 'not',\n",
       " 'or',\n",
       " 'pass',\n",
       " 'raise',\n",
       " 'return',\n",
       " 'try',\n",
       " 'while',\n",
       " 'with',\n",
       " 'yield']"
      ]
     },
     "execution_count": 2,
     "metadata": {},
     "output_type": "execute_result"
    }
   ],
   "source": [
    "import keyword\n",
    "keyword.kwlist"
   ]
  },
  {
   "cell_type": "code",
   "execution_count": 5,
   "metadata": {},
   "outputs": [
    {
     "name": "stdout",
     "output_type": "stream",
     "text": [
      "<class 'int'>\n",
      "<class 'str'>\n"
     ]
    },
    {
     "data": {
      "text/plain": [
       "140123517124656"
      ]
     },
     "execution_count": 5,
     "metadata": {},
     "output_type": "execute_result"
    }
   ],
   "source": [
    "number  =1024\n",
    "name = \"yangjihao\"\n",
    "\n",
    "print(type(number))\n",
    "print(type(name))\n",
    "no = number = 2048\n",
    "id(number)\n",
    "id(no)"
   ]
  },
  {
   "cell_type": "code",
   "execution_count": 6,
   "metadata": {},
   "outputs": [
    {
     "name": "stdout",
     "output_type": "stream",
     "text": [
      "我喜欢的句子\n",
      "性格决定命运\n",
      "personality determines fate\n"
     ]
    }
   ],
   "source": [
    "title = '我喜欢的句子'\n",
    "mot_cn = \"性格决定命运\"\n",
    "mot_en = \"personality determines fate\"\n",
    "print(title)\n",
    "print(mot_cn)\n",
    "print(mot_en)"
   ]
  },
  {
   "cell_type": "code",
   "execution_count": 7,
   "metadata": {},
   "outputs": [
    {
     "name": "stdout",
     "output_type": "stream",
     "text": [
      "失望之酒\n",
      "机会之杯\n",
      "失望之酒\\x0a机会之杯\n"
     ]
    }
   ],
   "source": [
    "print(\"失望之酒\\x0a机会之杯\")\n",
    "print(r\"失望之酒\\x0a机会之杯\")"
   ]
  },
  {
   "cell_type": "code",
   "execution_count": 8,
   "metadata": {},
   "outputs": [
    {
     "name": "stdout",
     "output_type": "stream",
     "text": [
      "12.5\n",
      "12\n"
     ]
    }
   ],
   "source": [
    "money_all = 1.0+2.3+4.1+5.1\n",
    "money_all_str = str(money_all)\n",
    "print(money_all_str)\n",
    "money_real = int(money_all)\n",
    "money_real_str = str(money_real)\n",
    "print(money_real_str)"
   ]
  },
  {
   "cell_type": "code",
   "execution_count": 10,
   "metadata": {},
   "outputs": [
    {
     "name": "stdout",
     "output_type": "stream",
     "text": [
      "python 和 c 的差:6\n",
      "平均分:92.0\n"
     ]
    }
   ],
   "source": [
    "python = 95\n",
    "english = 92\n",
    "c = 89\n",
    "sub = python - c\n",
    "avg = (python + english + c) / 3\n",
    "print(\"python 和 c 的差:\" +str(sub ))\n",
    "print('平均分:' +str(avg))"
   ]
  },
  {
   "cell_type": "code",
   "execution_count": 11,
   "metadata": {},
   "outputs": [
    {
     "name": "stdout",
     "output_type": "stream",
     "text": [
      "8\n",
      "12\n",
      "54\n",
      "-124\n"
     ]
    }
   ],
   "source": [
    "print(12&8)\n",
    "print(4|8)\n",
    "print(32^22)\n",
    "print(~123)"
   ]
  },
  {
   "cell_type": "code",
   "execution_count": 12,
   "metadata": {},
   "outputs": [
    {
     "name": "stdout",
     "output_type": "stream",
     "text": [
      "6\n",
      "60\n",
      "6\n"
     ]
    }
   ],
   "source": [
    "a = 10\n",
    "b = 6\n",
    "print(6)\n",
    "print(a*b )\n",
    "print(a if b>b else b)\n"
   ]
  },
  {
   "cell_type": "code",
   "execution_count": 14,
   "metadata": {},
   "outputs": [
    {
     "name": "stdout",
     "output_type": "stream",
     "text": [
      "输入一个数字122\n",
      "不符合\n"
     ]
    }
   ],
   "source": [
    "number = int(input(\"输入一个数字\"))\n",
    "if number%3 == 2 and number %5 ==3 and number%7 == 2:\n",
    "    print(number,\"符合条件：三三数之剩二，五五数之剩三，七七数之剩2\")\n",
    "else:\n",
    "    print('不符合')\n",
    "    "
   ]
  },
  {
   "cell_type": "code",
   "execution_count": 15,
   "metadata": {},
   "outputs": [
    {
     "name": "stdout",
     "output_type": "stream",
     "text": [
      "9\n"
     ]
    }
   ],
   "source": [
    "a =-9 \n",
    "if a>0:\n",
    "    b =a\n",
    "else:\n",
    "    b = -a\n",
    "print(b)"
   ]
  },
  {
   "cell_type": "code",
   "execution_count": 16,
   "metadata": {},
   "outputs": [
    {
     "name": "stdout",
     "output_type": "stream",
     "text": [
      "9\n"
     ]
    }
   ],
   "source": [
    "a = -9\n",
    "b = a if a>0 else -a\n",
    "print(b)"
   ]
  },
  {
   "cell_type": "code",
   "execution_count": 19,
   "metadata": {},
   "outputs": [
    {
     "name": "stdout",
     "output_type": "stream",
     "text": [
      "a小于0\n"
     ]
    }
   ],
   "source": [
    "a =-1\n",
    "if a>=0:\n",
    "    if a>0:\n",
    "        print('a大于0')\n",
    "    else:\n",
    "        print('a等于0')\n",
    "else:\n",
    "    print('a小于0')"
   ]
  },
  {
   "cell_type": "code",
   "execution_count": 21,
   "metadata": {},
   "outputs": [
    {
     "name": "stdout",
     "output_type": "stream",
     "text": [
      "0\n",
      "1\n",
      "2\n",
      "3\n",
      "4\n",
      "5\n",
      "6\n",
      "7\n",
      "8\n",
      "9\n"
     ]
    }
   ],
   "source": [
    "a = 0 \n",
    "while( a<10):\n",
    "    print(a)\n",
    "    a+=1"
   ]
  },
  {
   "cell_type": "code",
   "execution_count": 23,
   "metadata": {},
   "outputs": [
    {
     "name": "stdout",
     "output_type": "stream",
     "text": [
      "101\n"
     ]
    }
   ],
   "source": [
    "result = 0\n",
    "for i in range(101):\n",
    "    result +=1\n",
    "print(result)   "
   ]
  },
  {
   "cell_type": "code",
   "execution_count": 24,
   "metadata": {},
   "outputs": [
    {
     "name": "stdout",
     "output_type": "stream",
     "text": [
      "1\n",
      "3\n",
      "5\n",
      "7\n",
      "9\n"
     ]
    }
   ],
   "source": [
    "for i in range(1, 10,2):\n",
    "    print(i)"
   ]
  },
  {
   "cell_type": "code",
   "execution_count": 25,
   "metadata": {},
   "outputs": [
    {
     "name": "stdout",
     "output_type": "stream",
     "text": [
      "1 3 5 7 9 "
     ]
    }
   ],
   "source": [
    "for i in range(1,10,2):\n",
    "    print(i,end = ' ')"
   ]
  },
  {
   "cell_type": "code",
   "execution_count": 27,
   "metadata": {},
   "outputs": [
    {
     "name": "stdout",
     "output_type": "stream",
     "text": [
      "0\n",
      "1\n",
      "2\n",
      "3\n",
      "4\n",
      "5\n",
      "6\n",
      "7\n",
      "8\n"
     ]
    }
   ],
   "source": [
    "for i in range(10):\n",
    "    print(i)\n",
    "    if i>7:\n",
    "        break"
   ]
  },
  {
   "cell_type": "code",
   "execution_count": 28,
   "metadata": {},
   "outputs": [
    {
     "name": "stdout",
     "output_type": "stream",
     "text": [
      "2\n",
      "4\n",
      "6\n",
      "8\n"
     ]
    }
   ],
   "source": [
    "for i in range(1,10):\n",
    "    if i%2 ==0:\n",
    "        print(i)\n",
    "    else:\n",
    "        pass"
   ]
  },
  {
   "cell_type": "code",
   "execution_count": 29,
   "metadata": {},
   "outputs": [
    {
     "name": "stdout",
     "output_type": "stream",
     "text": [
      "['h', 'e', 'l', 'l', 'o']\n",
      "l\n",
      "l\n"
     ]
    }
   ],
   "source": [
    "words = ['h','e','l','l','o']\n",
    "print(words)\n",
    "print(words[2])\n",
    "print(words[-2])"
   ]
  },
  {
   "cell_type": "code",
   "execution_count": 31,
   "metadata": {},
   "outputs": [
    {
     "name": "stdout",
     "output_type": "stream",
     "text": [
      "['h', 'e', 'l', 'l', 'o']\n",
      "l\n",
      "l\n",
      "['l', 'l']\n"
     ]
    }
   ],
   "source": [
    "words = ['h','e','l','l','o']\n",
    "print(words)\n",
    "print(words[2])\n",
    "print(words[-2])\n",
    "print(words[2:4])"
   ]
  },
  {
   "cell_type": "code",
   "execution_count": 32,
   "metadata": {},
   "outputs": [
    {
     "name": "stdout",
     "output_type": "stream",
     "text": [
      "['h', 'e', 'l', 'l', 'o', 'w', 'o', 'r', 'l', 'd']\n"
     ]
    }
   ],
   "source": [
    "words2 = ['w','o','r','l','d']\n",
    "print(words+words2)"
   ]
  },
  {
   "cell_type": "code",
   "execution_count": 33,
   "metadata": {},
   "outputs": [
    {
     "name": "stdout",
     "output_type": "stream",
     "text": [
      "[1, 2, 3, 1, 2, 3, 1, 2, 3]\n"
     ]
    }
   ],
   "source": [
    "num = [1,2,3]\n",
    "print(num*3)"
   ]
  },
  {
   "cell_type": "code",
   "execution_count": 34,
   "metadata": {},
   "outputs": [
    {
     "name": "stdout",
     "output_type": "stream",
     "text": [
      "[1, 2, 3, 1, 2, 3, 1, 2, 3]\n",
      "True\n"
     ]
    }
   ],
   "source": [
    "num = [1,2,3]\n",
    "print(num*3)\n",
    "print(5 not in num)"
   ]
  },
  {
   "cell_type": "code",
   "execution_count": 35,
   "metadata": {},
   "outputs": [
    {
     "name": "stdout",
     "output_type": "stream",
     "text": [
      "3\n"
     ]
    }
   ],
   "source": [
    "num = [1,2,3]\n",
    "print(len(num))"
   ]
  },
  {
   "cell_type": "code",
   "execution_count": 36,
   "metadata": {},
   "outputs": [
    {
     "name": "stdout",
     "output_type": "stream",
     "text": [
      "[0, 1, 2, 3, 4, 5, 6, 7, 8, 9, 10, 11, 12, 13, 14, 15, 16, 17, 18, 19, 20, 21, 22, 23, 24, 25, 26, 27, 28, 29, 30, 31, 32, 33, 34, 35, 36, 37, 38, 39, 40, 41, 42, 43, 44, 45, 46, 47, 48, 49, 50, 51, 52, 53, 54, 55, 56, 57, 58, 59, 60, 61, 62, 63, 64, 65, 66, 67, 68, 69, 70, 71, 72, 73, 74, 75, 76, 77, 78, 79, 80, 81, 82, 83, 84, 85, 86, 87, 88, 89, 90, 91, 92, 93, 94, 95, 96, 97, 98, 99]\n"
     ]
    }
   ],
   "source": [
    "emptylist = []\n",
    "print(list(range(100)))"
   ]
  },
  {
   "cell_type": "code",
   "execution_count": 38,
   "metadata": {},
   "outputs": [
    {
     "name": "stdout",
     "output_type": "stream",
     "text": [
      "1\n"
     ]
    }
   ],
   "source": [
    "import datetime\n",
    "day = datetime.datetime.now().weekday()\n",
    "print(day)"
   ]
  },
  {
   "cell_type": "code",
   "execution_count": 39,
   "metadata": {},
   "outputs": [
    {
     "name": "stdout",
     "output_type": "stream",
     "text": [
      "0\n",
      "1\n",
      "2\n",
      "3\n",
      "4\n",
      "5\n",
      "6\n",
      "7\n",
      "8\n",
      "9\n"
     ]
    }
   ],
   "source": [
    "num = list(range(10))\n",
    "for i in num:\n",
    "    print(i)"
   ]
  },
  {
   "cell_type": "code",
   "execution_count": 41,
   "metadata": {},
   "outputs": [
    {
     "name": "stdout",
     "output_type": "stream",
     "text": [
      "0 0\n",
      "1 1\n",
      "2 2\n",
      "3 3\n",
      "4 4\n",
      "5 5\n",
      "6 6\n",
      "7 7\n",
      "8 8\n",
      "9 9\n"
     ]
    }
   ],
   "source": [
    "for index,item in enumerate(num):\n",
    "    print(index,item)"
   ]
  },
  {
   "cell_type": "code",
   "execution_count": 42,
   "metadata": {},
   "outputs": [
    {
     "name": "stdout",
     "output_type": "stream",
     "text": [
      "[1, 2, 3]\n",
      "3\n",
      "[1, 2, 3, 4, 5]\n",
      "5\n"
     ]
    }
   ],
   "source": [
    "num = [1,2,3]\n",
    "print(num)\n",
    "print(len(num))\n",
    "num.append(4)\n",
    "num.append(5)\n",
    "print(num)\n",
    "print(len(num))\n"
   ]
  },
  {
   "cell_type": "code",
   "execution_count": 43,
   "metadata": {},
   "outputs": [
    {
     "name": "stdout",
     "output_type": "stream",
     "text": [
      "[6, 7, 8]\n",
      "[1, 2, 3, 4, 5, 6, 7, 8]\n"
     ]
    }
   ],
   "source": [
    "num2 = [6,7,8]\n",
    "print(num2)\n",
    "num.extend(num2)\n",
    "print(num)"
   ]
  },
  {
   "cell_type": "code",
   "execution_count": 46,
   "metadata": {},
   "outputs": [
    {
     "name": "stdout",
     "output_type": "stream",
     "text": [
      "[1, 2, 3, 4, 5]\n"
     ]
    }
   ],
   "source": [
    "\n",
    "del num[-1]\n",
    "print(num)"
   ]
  },
  {
   "cell_type": "code",
   "execution_count": 47,
   "metadata": {},
   "outputs": [
    {
     "name": "stdout",
     "output_type": "stream",
     "text": [
      "[1, 2, 3, 4]\n"
     ]
    }
   ],
   "source": [
    "num.remove(num[-1])\n",
    "print(num)"
   ]
  },
  {
   "cell_type": "code",
   "execution_count": 48,
   "metadata": {},
   "outputs": [
    {
     "name": "stdout",
     "output_type": "stream",
     "text": [
      "1\n"
     ]
    }
   ],
   "source": [
    "count = num.count(1)\n",
    "print(count)"
   ]
  },
  {
   "cell_type": "code",
   "execution_count": 49,
   "metadata": {},
   "outputs": [
    {
     "name": "stdout",
     "output_type": "stream",
     "text": [
      "2\n"
     ]
    }
   ],
   "source": [
    "index = num.index(3)\n",
    "print(index)"
   ]
  },
  {
   "cell_type": "code",
   "execution_count": 50,
   "metadata": {},
   "outputs": [
    {
     "name": "stdout",
     "output_type": "stream",
     "text": [
      "[1, 4, 6, 11, 9, 10, 2000, 12]\n",
      "[1, 4, 6, 9, 10, 11, 12, 2000]\n"
     ]
    }
   ],
   "source": [
    "num = [1,4,6,11,9,10,2000,12]\n",
    "print(num)\n",
    "num.sort()\n",
    "print(num)"
   ]
  },
  {
   "cell_type": "code",
   "execution_count": 51,
   "metadata": {},
   "outputs": [
    {
     "name": "stdout",
     "output_type": "stream",
     "text": [
      "[90, 15, 47, 42, 40, 89, 82, 46, 16, 50]\n"
     ]
    }
   ],
   "source": [
    "import random\n",
    "ran_num = [random.randint(10,100) for i in range(10)]\n",
    "print(ran_num)"
   ]
  },
  {
   "cell_type": "code",
   "execution_count": 52,
   "metadata": {},
   "outputs": [
    {
     "name": "stdout",
     "output_type": "stream",
     "text": [
      "[22, 11, 3, 41, 1313]\n",
      "[110, 55, 15, 205, 6565]\n"
     ]
    }
   ],
   "source": [
    "price = [22,11,3,41,1313]\n",
    "sale = [int(x*5) for x in price]\n",
    "print(price)\n",
    "print(sale)"
   ]
  },
  {
   "cell_type": "code",
   "execution_count": 53,
   "metadata": {},
   "outputs": [
    {
     "name": "stdout",
     "output_type": "stream",
     "text": [
      "[22, 11, 3, 41, 1313]\n",
      "[41, 1313]\n"
     ]
    }
   ],
   "source": [
    "price = [22,11,3,41,1313]\n",
    "sale = [x for x in price if x>22]\n",
    "print(price)\n",
    "print(sale)"
   ]
  },
  {
   "cell_type": "code",
   "execution_count": 55,
   "metadata": {},
   "outputs": [
    {
     "name": "stdout",
     "output_type": "stream",
     "text": [
      "3 0\n",
      "3 1\n",
      "3 2\n",
      "3 3\n",
      "3 4\n"
     ]
    }
   ],
   "source": [
    "for i in range(5):\n",
    "    for j in range(4):\n",
    "        if j==3:\n",
    "            print(j,i)\n",
    "        else:\n",
    "            pass\n",
    "        "
   ]
  },
  {
   "cell_type": "code",
   "execution_count": 56,
   "metadata": {},
   "outputs": [
    {
     "name": "stdout",
     "output_type": "stream",
     "text": [
      "(1, 2, 3, 4)\n"
     ]
    }
   ],
   "source": [
    "num = (1,2,3,4)\n",
    "print(num)"
   ]
  },
  {
   "cell_type": "code",
   "execution_count": 57,
   "metadata": {},
   "outputs": [
    {
     "name": "stdout",
     "output_type": "stream",
     "text": [
      "hwlloworld\n"
     ]
    }
   ],
   "source": [
    "words = (\"hwlloworld\")\n",
    "print(words)"
   ]
  },
  {
   "cell_type": "code",
   "execution_count": 58,
   "metadata": {},
   "outputs": [
    {
     "name": "stdout",
     "output_type": "stream",
     "text": [
      "('helloworld',)\n"
     ]
    }
   ],
   "source": [
    "words = (\"helloworld\",)\n",
    "print(words)"
   ]
  },
  {
   "cell_type": "code",
   "execution_count": 2,
   "metadata": {},
   "outputs": [
    {
     "name": "stdout",
     "output_type": "stream",
     "text": [
      "(0, 1, 2, 3, 4, 5)\n"
     ]
    }
   ],
   "source": [
    "t = tuple(range(6))\n",
    "print(t)"
   ]
  },
  {
   "cell_type": "code",
   "execution_count": 3,
   "metadata": {},
   "outputs": [
    {
     "name": "stdout",
     "output_type": "stream",
     "text": [
      "(0, 1, 2, 3, 4, 5, 6)\n"
     ]
    },
    {
     "ename": "NameError",
     "evalue": "name 't' is not defined",
     "output_type": "error",
     "traceback": [
      "\u001b[0;31m---------------------------------------------------------------------------\u001b[0m",
      "\u001b[0;31mNameError\u001b[0m                                 Traceback (most recent call last)",
      "\u001b[0;32m<ipython-input-3-ba926cc49ae4>\u001b[0m in \u001b[0;36m<module>\u001b[0;34m\u001b[0m\n\u001b[1;32m      2\u001b[0m \u001b[0mprint\u001b[0m\u001b[0;34m(\u001b[0m\u001b[0mt\u001b[0m\u001b[0;34m)\u001b[0m\u001b[0;34m\u001b[0m\u001b[0;34m\u001b[0m\u001b[0m\n\u001b[1;32m      3\u001b[0m \u001b[0;32mdel\u001b[0m \u001b[0mt\u001b[0m\u001b[0;34m\u001b[0m\u001b[0;34m\u001b[0m\u001b[0m\n\u001b[0;32m----> 4\u001b[0;31m \u001b[0mprint\u001b[0m\u001b[0;34m(\u001b[0m\u001b[0mt\u001b[0m\u001b[0;34m)\u001b[0m\u001b[0;34m\u001b[0m\u001b[0;34m\u001b[0m\u001b[0m\n\u001b[0m",
      "\u001b[0;31mNameError\u001b[0m: name 't' is not defined"
     ]
    }
   ],
   "source": [
    "t = tuple(range(7))\n",
    "print(t)\n",
    "del t\n",
    "print(t)"
   ]
  },
  {
   "cell_type": "code",
   "execution_count": 63,
   "metadata": {},
   "outputs": [
    {
     "name": "stdout",
     "output_type": "stream",
     "text": [
      "0\n",
      "1\n",
      "2\n"
     ]
    },
    {
     "ename": "StopIteration",
     "evalue": "",
     "output_type": "error",
     "traceback": [
      "\u001b[0;31m---------------------------------------------------------------------------\u001b[0m",
      "\u001b[0;31mStopIteration\u001b[0m                             Traceback (most recent call last)",
      "\u001b[0;32m<ipython-input-63-57912dc14203>\u001b[0m in \u001b[0;36m<module>\u001b[0;34m\u001b[0m\n\u001b[1;32m      3\u001b[0m \u001b[0mprint\u001b[0m\u001b[0;34m(\u001b[0m\u001b[0mnumber\u001b[0m\u001b[0;34m.\u001b[0m\u001b[0m__next__\u001b[0m\u001b[0;34m(\u001b[0m\u001b[0;34m)\u001b[0m\u001b[0;34m)\u001b[0m\u001b[0;34m\u001b[0m\u001b[0;34m\u001b[0m\u001b[0m\n\u001b[1;32m      4\u001b[0m \u001b[0mprint\u001b[0m\u001b[0;34m(\u001b[0m\u001b[0mnumber\u001b[0m\u001b[0;34m.\u001b[0m\u001b[0m__next__\u001b[0m\u001b[0;34m(\u001b[0m\u001b[0;34m)\u001b[0m\u001b[0;34m)\u001b[0m\u001b[0;34m\u001b[0m\u001b[0;34m\u001b[0m\u001b[0m\n\u001b[0;32m----> 5\u001b[0;31m \u001b[0mprint\u001b[0m\u001b[0;34m(\u001b[0m\u001b[0mnumber\u001b[0m\u001b[0;34m.\u001b[0m\u001b[0m__next__\u001b[0m\u001b[0;34m(\u001b[0m\u001b[0;34m)\u001b[0m\u001b[0;34m)\u001b[0m\u001b[0;34m\u001b[0m\u001b[0;34m\u001b[0m\u001b[0m\n\u001b[0m",
      "\u001b[0;31mStopIteration\u001b[0m: "
     ]
    }
   ],
   "source": [
    "number  = (i for i in range(3))\n",
    "print(number.__next__())\n",
    "print(number.__next__())\n",
    "print(number.__next__())\n",
    "print(number.__next__())"
   ]
  },
  {
   "cell_type": "code",
   "execution_count": 62,
   "metadata": {},
   "outputs": [
    {
     "name": "stdout",
     "output_type": "stream",
     "text": [
      "{'name': 'yangjihao', 'age': 23}\n"
     ]
    }
   ],
   "source": [
    "dict1 = {\"name\":\"yangjihao\",\"age\":23}\n",
    "print(dict1)"
   ]
  },
  {
   "cell_type": "code",
   "execution_count": 6,
   "metadata": {},
   "outputs": [
    {
     "name": "stdout",
     "output_type": "stream",
     "text": [
      "[1, 2, 3, 4, 5]\n",
      "[3, 4, 5, 7, 9]\n"
     ]
    }
   ],
   "source": [
    "def bead_sort(sequence: list) -> list:\n",
    "   \n",
    "    if any(not isinstance(x, int) or x < 0 for x in sequence):\n",
    "        raise TypeError(\"Sequence must be list of nonnegative integers\")\n",
    "    for _ in range(len(sequence)):\n",
    "        for i, (rod_upper, rod_lower) in enumerate(zip(sequence, sequence[1:])):\n",
    "            if rod_upper > rod_lower:\n",
    "                sequence[i] -= rod_upper - rod_lower\n",
    "                sequence[i + 1] += rod_upper - rod_lower\n",
    "    return sequence\n",
    "\n",
    "\n",
    "if __name__ == \"__main__\":\n",
    "    print(bead_sort([5, 4, 3, 2, 1]))\n",
    "    print(bead_sort([7, 9, 4, 3, 5]))\n"
   ]
  },
  {
   "cell_type": "code",
   "execution_count": 8,
   "metadata": {},
   "outputs": [
    {
     "name": "stdout",
     "output_type": "stream",
     "text": [
      "Enter numbers separated by a comma:\n",
      "5,4,3,21,1\n",
      "\n",
      "Sorted array in ascending order is: 3, 4, 5, 21, 1\n",
      "Sorted array in descending order is: 21, 5, 4, 3, 1\n"
     ]
    }
   ],
   "source": [
    "from typing import List\n",
    "\n",
    "\n",
    "def comp_and_swap(array: List[int], index1: int, index2: int, direction: int) -> None:\n",
    "\n",
    "    if (direction == 1 and array[index1] > array[index2]) or (\n",
    "        direction == 0 and array[index1] < array[index2]\n",
    "    ):\n",
    "        array[index1], array[index2] = array[index2], array[index1]\n",
    "\n",
    "\n",
    "def bitonic_merge(array: List[int], low: int, length: int, direction: int) -> None:\n",
    "\n",
    "    if length > 1:\n",
    "        middle = int(length / 2)\n",
    "        for i in range(low, low + middle):\n",
    "            comp_and_swap(array, i, i + middle, direction)\n",
    "        bitonic_merge(array, low, middle, direction)\n",
    "        bitonic_merge(array, low + middle, middle, direction)\n",
    "\n",
    "\n",
    "def bitonic_sort(array: List[int], low: int, length: int, direction: int) -> None:\n",
    "\n",
    "    if length > 1:\n",
    "        middle = int(length / 2)\n",
    "        bitonic_sort(array, low, middle, 1)\n",
    "        bitonic_sort(array, low + middle, middle, 0)\n",
    "        bitonic_merge(array, low, length, direction)\n",
    "\n",
    "\n",
    "if __name__ == \"__main__\":\n",
    "    user_input = input(\"Enter numbers separated by a comma:\\n\").strip()\n",
    "    unsorted = [int(item.strip()) for item in user_input.split(\",\")]\n",
    "\n",
    "    bitonic_sort(unsorted, 0, len(unsorted), 1)\n",
    "    print(\"\\nSorted array in ascending order is: \", end=\"\")\n",
    "    print(*unsorted, sep=\", \")\n",
    "\n",
    "    bitonic_merge(unsorted, 0, len(unsorted), 0)\n",
    "    print(\"Sorted array in descending order is: \", end=\"\")\n",
    "    print(*unsorted, sep=\", \")"
   ]
  },
  {
   "cell_type": "code",
   "execution_count": null,
   "metadata": {},
   "outputs": [],
   "source": []
  }
 ],
 "metadata": {
  "kernelspec": {
   "display_name": "Python 3",
   "language": "python",
   "name": "python3"
  },
  "language_info": {
   "codemirror_mode": {
    "name": "ipython",
    "version": 3
   },
   "file_extension": ".py",
   "mimetype": "text/x-python",
   "name": "python",
   "nbconvert_exporter": "python",
   "pygments_lexer": "ipython3",
   "version": "3.8.3"
  }
 },
 "nbformat": 4,
 "nbformat_minor": 4
}
