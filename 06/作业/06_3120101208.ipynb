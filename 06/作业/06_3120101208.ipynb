{
 "cells": [
  {
   "cell_type": "code",
   "execution_count": 1,
   "metadata": {},
   "outputs": [
    {
     "data": {
      "text/plain": [
       "1.0"
      ]
     },
     "execution_count": 1,
     "metadata": {},
     "output_type": "execute_result"
    }
   ],
   "source": [
    "import matplotlib.pyplot as plt\n",
    "import numpy as np\n",
    "np.log(np.e)"
   ]
  },
  {
   "cell_type": "code",
   "execution_count": 2,
   "metadata": {},
   "outputs": [
    {
     "name": "stdout",
     "output_type": "stream",
     "text": [
      "[300.         305.26315789 310.52631579 315.78947368 321.05263158\n",
      " 326.31578947 331.57894737 336.84210526 342.10526316 347.36842105\n",
      " 352.63157895 357.89473684 363.15789474 368.42105263 373.68421053\n",
      " 378.94736842 384.21052632 389.47368421 394.73684211 400.        ]\n"
     ]
    }
   ],
   "source": [
    "x = np.linspace(300,400,20)\n",
    "print(x)"
   ]
  },
  {
   "cell_type": "code",
   "execution_count": 3,
   "metadata": {},
   "outputs": [
    {
     "name": "stdout",
     "output_type": "stream",
     "text": [
      "[312.         317.26315789 315.52631579 322.78947368 334.05263158\n",
      " 334.31578947 337.57894737 354.84210526 354.10526316 364.36842105\n",
      " 360.63157895 368.89473684 377.15789474 384.42105263 384.68421053\n",
      " 393.94736842 400.21052632 394.47368421 402.73684211 409.        ]\n"
     ]
    }
   ],
   "source": [
    "y = x + np.random.randint(5,20,20) #随机取5到10中间20个数\n",
    "print(y)"
   ]
  },
  {
   "cell_type": "code",
   "execution_count": 4,
   "metadata": {},
   "outputs": [
    {
     "name": "stdout",
     "output_type": "stream",
     "text": [
      "[310.58571429 315.90827068 321.23082707 326.55338346 331.87593985\n",
      " 337.19849624 342.52105263 347.84360902 353.16616541 358.4887218\n",
      " 363.8112782  369.13383459 374.45639098 379.77894737 385.10150376\n",
      " 390.42406015 395.74661654 401.06917293 406.39172932 411.71428571]\n"
     ]
    },
    {
     "data": {
      "image/png": "[encoded data removed]",
      "text/plain": [
       "<Figure size 432x288 with 1 Axes>"
      ]
     },
     "metadata": {
      "needs_background": "light"
     },
     "output_type": "display_data"
    }
   ],
   "source": [
    "poly = np.polyfit(x,y,deg=1)\n",
    "z = np.polyval(poly, x)\n",
    "plt.plot(x, y, 'o')\n",
    "plt.plot(x, z)\n",
    "print(z)\n",
    "plt.show()"
   ]
  },
  {
   "cell_type": "code",
   "execution_count": 5,
   "metadata": {},
   "outputs": [
    {
     "data": {
      "text/plain": [
       "list"
      ]
     },
     "execution_count": 5,
     "metadata": {},
     "output_type": "execute_result"
    }
   ],
   "source": [
    "import numpy as np\n",
    "import matplotlib.pyplot as plt\n",
    "from pylab import mpl\n",
    "\n",
    "x = [0,100,200,300,400]\n",
    "y = [341.96,311.1,315.74,324.49,321.14]\n",
    "type(x and y)"
   ]
  },
  {
   "cell_type": "code",
   "execution_count": 6,
   "metadata": {},
   "outputs": [
    {
     "data": {
      "text/plain": [
       "<function __main__.calculateEquationParameters(x)>"
      ]
     },
     "execution_count": 6,
     "metadata": {},
     "output_type": "execute_result"
    }
   ],
   "source": [
    "def calculateEquationParameters(x):\n",
    " \n",
    "    '''\n",
    "    代解未知数为a1,b1,c1,d1,a2,b2,c2,d2,a3,b3,c3,d3\n",
    "    :param x:\n",
    "    :return: parameter\n",
    "    '''\n",
    "    # parameter为二维数组，用来存放参数，sizeOfInterval是用来存放区间的个数\n",
    "    parameter = []\n",
    "    n = len(x)\n",
    "    sizeOfInterval = n - 1  # 线段数\n",
    "    i = 1\n",
    "    # 首先输入方程两边相邻  节点  处函数值相等的方程为2(n-2)=4个方程; n个点要减去两个端点，然后乘以2\n",
    "    while i <= n-2:\n",
    "        # x[i]代入点i前一条线段的参数\n",
    "        data = np.zeros(sizeOfInterval * 4)\n",
    "        data[(i - 1) * 4] = x[i] * x[i] * x[i]\n",
    "        data[(i - 1) * 4 + 1] = x[i] * x[i]\n",
    "        data[(i - 1) * 4 + 2] = x[i]\n",
    "        data[(i - 1) * 4 + 3] = 1\n",
    "        # x[i]代入点i后一条线段的参数\n",
    "        data1 = np.zeros(sizeOfInterval * 4)\n",
    "        data1[i * 4] = x[i] * x[i] * x[i]\n",
    "        data1[i * 4 + 1] = x[i] * x[i]\n",
    "        data1[i * 4 + 2] = x[i]\n",
    "        data1[i * 4 + 3] = 1\n",
    "        parameter.append(data)\n",
    "        parameter.append(data1)\n",
    "        i += 1\n",
    "    # 输入   端点   处的函数值。为2个方程\n",
    "    data = np.zeros(sizeOfInterval * 4)\n",
    "    # 第一条线段\n",
    "    data[0] = x[0] * x[0] * x[0]\n",
    "    data[1] = x[0] * x[0]\n",
    "    data[2] = x[0]\n",
    "    data[3] = 1\n",
    "    parameter.append(data)\n",
    "    data = np.zeros(sizeOfInterval * 4)\n",
    "    # 最后一条线段\n",
    "    data[-4] = x[-1] * x[-1] * x[-1]\n",
    "    data[-3] = x[-1] * x[-1]\n",
    "    data[-2] = x[-1]\n",
    "    data[-1] = 1\n",
    "    parameter.append(data)\n",
    " \n",
    "    # 节点点函数一阶导数值相等为n-2=2个方程。\n",
    "    i = 1\n",
    "    while i <= n-2:\n",
    "        data = np.zeros(sizeOfInterval * 4)\n",
    "        data[(i - 1) * 4] = 3 * x[i] * x[i]\n",
    "        data[(i - 1) * 4 + 1] = 2 * x[i]\n",
    "        data[(i - 1) * 4 + 2] = 1\n",
    "        data[i * 4] = -3 * x[i] * x[i]\n",
    "        data[i * 4 + 1] = -2 * x[i]\n",
    "        data[i * 4 + 2] = -1\n",
    "        # temp = data[2:]\n",
    "        # parameter.append(temp)\n",
    "        parameter.append(data)\n",
    "        i += 1\n",
    " \n",
    "    # 节点函数二阶导数值相等为n-2=2个方程。且端点处的函数值的二阶导数为零，为2个方程。\n",
    "    i = 1\n",
    "    while i <= n-2:\n",
    "        data = np.zeros(sizeOfInterval * 4)\n",
    "        data[(i - 1) * 4] = 6 * x[i]\n",
    "        data[(i - 1) * 4 + 1] = 2\n",
    "        data[i * 4] = -6 * x[i]\n",
    "        data[i * 4 + 1] = -2\n",
    "        # temp = data[2:]\n",
    "        # parameter.append(temp)\n",
    "        parameter.append(data)\n",
    "        i += 1\n",
    " \n",
    "    # 总共2(n-1)-2=10个方程\n",
    "    parameter = np.array(parameter)\n",
    "    return parameter[:, 2:]  # 去掉前两个a1,b1\n",
    "calculateEquationParameters"
   ]
  },
  {
   "cell_type": "code",
   "execution_count": 7,
   "metadata": {},
   "outputs": [
    {
     "data": {
      "text/plain": [
       "<function __main__.solutionOfEquation(parametes, y)>"
      ]
     },
     "execution_count": 7,
     "metadata": {},
     "output_type": "execute_result"
    }
   ],
   "source": [
    "\n",
    " \n",
    "\"\"\"\n",
    "功能：计算样条函数的系数。\n",
    "参数：parametes为方程的系数，y为要插值函数的因变量。\n",
    "返回值：三次插值函数的系数。\n",
    "\"\"\"\n",
    " \n",
    " \n",
    "def solutionOfEquation(parametes, y):\n",
    "    n = len(x)\n",
    "    sizeOfInterval = n - 1\n",
    "    result = np.zeros(sizeOfInterval * 4 - 2)\n",
    "    i = 1\n",
    "    # 节点处方程右边\n",
    "    while i < sizeOfInterval:  # result[0,1,2,3]\n",
    "        result[(i - 1) * 2] = y[i]\n",
    "        result[(i - 1) * 2 + 1] = y[i]\n",
    "        i += 1\n",
    "    # 起末端点处方程右边\n",
    "    result[(sizeOfInterval - 1) * 2] = y[0]\n",
    "    result[(sizeOfInterval - 1) * 2 + 1] = y[-1]\n",
    " \n",
    "    a = np.array(parametes)\n",
    "    b = np.array(result)\n",
    "    return np.linalg.solve(a, b)  # 解线性方程组\n",
    " \n",
    "solutionOfEquation"
   ]
  },
  {
   "cell_type": "code",
   "execution_count": 8,
   "metadata": {},
   "outputs": [
    {
     "data": {
      "text/plain": [
       "<function __main__.calculate(paremeters, x)>"
      ]
     },
     "execution_count": 8,
     "metadata": {},
     "output_type": "execute_result"
    }
   ],
   "source": [
    "\n",
    "\"\"\"\n",
    "功能：根据所给参数，计算三次函数的函数值：\n",
    "参数:parameters为二次函数的系数，x为自变量\n",
    "返回值：为函数的因变量\n",
    "\"\"\"\n",
    " \n",
    " \n",
    "def calculate(paremeters, x):\n",
    "    result = []\n",
    "    for data_x in x:\n",
    "        y = paremeters[0] * data_x * data_x * data_x + paremeters[1] * data_x * data_x + paremeters[2] * data_x + paremeters[3]\n",
    "        result.append(y)\n",
    "    return result\n",
    " \n",
    " \n",
    "\"\"\"\n",
    "功能：采点\n",
    "参数：x\n",
    "返回值：采取点和采取点的函数值\n",
    "\"\"\"\n",
    " \n",
    " \n",
    "def grasp_sample(x):\n",
    "    n = len(x)\n",
    "    i = 1\n",
    "    # result 为求解出来后的a1,b1,c1,d1,a2,b2,c2,d2,a3,b3,c3,d3\n",
    "    result = [0, 0]\n",
    "    temp = solutionOfEquation(calculateEquationParameters(x), y)\n",
    "    result.extend(temp)\n",
    "    samples_x = []\n",
    "    samples_y = []\n",
    "    # n-1段曲线\n",
    "    while i < n:\n",
    "        sample_x = np.arange(x[i-1], x[i], 0.01)\n",
    "        sample_y = calculate(result[(i-1)*4:i*4], sample_x)\n",
    "        samples_x.extend(sample_x)\n",
    "        samples_y.extend(sample_y)\n",
    "        i = i+1\n",
    "    samples_x.append(x[n-1])\n",
    "    samples_y.extend(calculate(result[-4:], [x[n-1]]))\n",
    "    return [samples_x, samples_y]\n",
    "calculate"
   ]
  },
  {
   "cell_type": "code",
   "execution_count": 9,
   "metadata": {},
   "outputs": [
    {
     "data": {
      "image/png": "[encoded data removed]",
      "text/plain": [
       "<Figure size 432x288 with 1 Axes>"
      ]
     },
     "metadata": {
      "needs_background": "light"
     },
     "output_type": "display_data"
    },
    {
     "data": {
      "text/plain": [
       "<function __main__.Draw(data_x, data_y, new_data_x, new_data_y)>"
      ]
     },
     "execution_count": 9,
     "metadata": {},
     "output_type": "execute_result"
    }
   ],
   "source": [
    "\"\"\"\n",
    "功能：将函数绘制成图像\n",
    "参数：data_x,data_y为离散的点.new_data_x,new_data_y为由拉格朗日插值函数计算的值。x为函数的预测值。\n",
    "返回值：空\n",
    "\"\"\"\n",
    "def Draw(data_x, data_y, new_data_x, new_data_y):\n",
    "    plt.plot(new_data_x, new_data_y, label=\"拟合曲线\", color=\"black\")\n",
    "    plt.scatter(data_x, data_y, label=\"离散数据\", color=\"red\")\n",
    "    mpl.rcParams['font.sans-serif'] = ['SimHei']\n",
    "    mpl.rcParams['axes.unicode_minus'] = False\n",
    "    plt.title(\"三次样条函数\")\n",
    "    plt.legend(loc=\"upper left\")\n",
    "    plt.show()\n",
    "\n",
    "samples = grasp_sample(x)\n",
    "# print(samples[0])\n",
    "# print(samples[1])\n",
    "Draw(x, y, samples[0], samples[1])\n",
    "Draw"
   ]
  },
  {
   "cell_type": "code",
   "execution_count": 10,
   "metadata": {},
   "outputs": [
    {
     "data": {
      "text/plain": [
       "<function scipy.optimize.minpack.curve_fit(f, xdata, ydata, p0=None, sigma=None, absolute_sigma=False, check_finite=True, bounds=(-inf, inf), method=None, jac=None, **kwargs)>"
      ]
     },
     "execution_count": 10,
     "metadata": {},
     "output_type": "execute_result"
    }
   ],
   "source": [
    "import numpy as np\n",
    "import matplotlib.pyplot as plt\n",
    "from scipy.optimize import curve_fit\n",
    "\n",
    "def Fun(x,a1,a2,a3):                   # 定义拟合函数形式\n",
    "    return a1*x**2+a2*x+a3\n",
    "def error (p,x,y): # 拟合残差\n",
    " return Fun(p,x)-y\n",
    "def main():\n",
    "    x = np.linspace(-10,10,100)       # 创建时间序列\n",
    "    a1,a2,a3 = [-2,5,10]              # 原始数据的参数\n",
    "    noise = np.random.randn(len(x))   # 创建随机噪声\n",
    "    y = Fun(x,a1,a2,a3)+noise*2       # 加上噪声的序列\n",
    "    para,pcov=curve_fit(Fun,x,y)\n",
    "    y_fitted = Fun(x,para[0],para[1],para[2]) # 画出拟合后的曲线\n",
    " \n",
    "    plt.figure(figsize=(10,10))\n",
    "    plt.plot(x,y,'o', label = 'Original curve')\n",
    "    plt.plot(x,y_fitted,'-r', label ='Fitted curve')\n",
    "    plt.legend()\n",
    "    plt.show()\n",
    "    print (para)\n",
    "curve_fit"
   ]
  },
  {
   "cell_type": "code",
   "execution_count": 11,
   "metadata": {},
   "outputs": [
    {
     "data": {
      "image/png": "[encoded data removed]",
      "text/plain": [
       "<Figure size 720x720 with 1 Axes>"
      ]
     },
     "metadata": {
      "needs_background": "light"
     },
     "output_type": "display_data"
    },
    {
     "name": "stdout",
     "output_type": "stream",
     "text": [
      "[-2.00792391  5.05307131 10.33830578]\n"
     ]
    }
   ],
   "source": [
    "if __name__=='__main__':\n",
    "   main()"
   ]
  },
  {
   "cell_type": "code",
   "execution_count": 12,
   "metadata": {},
   "outputs": [
    {
     "data": {
      "text/plain": [
       "<module 'matplotlib.pyplot' from 'C:\\\\Users\\\\lll51\\\\anaconda3\\\\lib\\\\site-packages\\\\matplotlib\\\\pyplot.py'>"
      ]
     },
     "execution_count": 12,
     "metadata": {},
     "output_type": "execute_result"
    }
   ],
   "source": [
    "import numpy as np\n",
    "import matplotlib.pyplot as plt\n",
    "from scipy.optimize import curve_fit\n",
    "\n",
    "def Fun(x,a1,a2):                   # 定义拟合函数形式\n",
    "    return a1*x**2+a2*x\n",
    "def error (p,x,y): # 拟合残差\n",
    " return Fun(p,x)-y\n",
    "def main():\n",
    "    x = np.linspace(-10,10,100)       # 创建时间序列\n",
    "    a1,a2,a3 = [-2,5,10]              # 原始数据的参数\n",
    "#     noise = np.random.randn(len(x))   # 创建随机噪声\n",
    "    y = Fun(x,a1,a2)      \n",
    "    para,pcov=curve_fit(Fun,x,y)\n",
    "    y_fitted = Fun(x,para[0],para[1]) # 画出拟合后的曲线\n",
    " \n",
    "    plt.figure(figsize=(6,6))\n",
    "    plt.plot(x,y,'o', label = 'Original curve')\n",
    "    plt.plot(x,y_fitted,'-r', label ='Fitted curve')\n",
    "    plt.legend()\n",
    "    plt.show()\n",
    "    print (para)\n",
    "plt"
   ]
  },
  {
   "cell_type": "code",
   "execution_count": 13,
   "metadata": {},
   "outputs": [
    {
     "data": {
      "image/png": "[encoded data removed]",
      "text/plain": [
       "<Figure size 432x432 with 1 Axes>"
      ]
     },
     "metadata": {
      "needs_background": "light"
     },
     "output_type": "display_data"
    },
    {
     "name": "stdout",
     "output_type": "stream",
     "text": [
      "[-2.  5.]\n"
     ]
    }
   ],
   "source": [
    "if __name__=='__main__':\n",
    "   main()"
   ]
  },
  {
   "cell_type": "code",
   "execution_count": 14,
   "metadata": {},
   "outputs": [
    {
     "data": {
      "image/png": "[encoded data removed]",
      "text/plain": [
       "<Figure size 432x432 with 1 Axes>"
      ]
     },
     "metadata": {
      "needs_background": "light"
     },
     "output_type": "display_data"
    },
    {
     "data": {
      "text/plain": [
       "<function matplotlib.pyplot.show(close=None, block=None)>"
      ]
     },
     "execution_count": 14,
     "metadata": {},
     "output_type": "execute_result"
    }
   ],
   "source": [
    "o=[3,2,3,7]\n",
    "v=[1,5,7,8]\n",
    "plt.figure(figsize=(6,6))\n",
    "plt.plot(o,v,'r', label = 'Original curve')\n",
    "plt.legend()\n",
    "plt.show()\n",
    "plt.show"
   ]
  },
  {
   "cell_type": "code",
   "execution_count": null,
   "metadata": {},
   "outputs": [],
   "source": []
  }
 ],
 "metadata": {
  "kernelspec": {
   "display_name": "Python 3",
   "language": "python",
   "name": "python3"
  },
  "language_info": {
   "codemirror_mode": {
    "name": "ipython",
    "version": 3
   },
   "file_extension": ".py",
   "mimetype": "text/x-python",
   "name": "python",
   "nbconvert_exporter": "python",
   "pygments_lexer": "ipython3",
   "version": "3.8.5"
  }
 },
 "nbformat": 4,
 "nbformat_minor": 4
}
