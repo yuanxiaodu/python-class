{
 "cells": [
  {
   "cell_type": "code",
   "execution_count": 4,
   "metadata": {},
   "outputs": [
    {
     "name": "stdout",
     "output_type": "stream",
     "text": [
      "1\n",
      "2\n",
      "3\n",
      "4\n",
      "5\n",
      "6\n",
      "7\n",
      "8\n",
      "9\n"
     ]
    }
   ],
   "source": [
    "\n",
    "for i in range(1,10):\n",
    "    print(i)"
   ]
  },
  {
   "cell_type": "code",
   "execution_count": 5,
   "metadata": {},
   "outputs": [
    {
     "name": "stdout",
     "output_type": "stream",
     "text": [
      "一到一百相加的和是: 5050\n"
     ]
    }
   ],
   "source": [
    "def sum():\n",
    "    sum = 0\n",
    "    for n in range(1, 101):\n",
    "        sum = sum + n\n",
    "    return sum\n",
    " \n",
    "print('一到一百相加的和是:',sum())"
   ]
  },
  {
   "cell_type": "code",
   "execution_count": 6,
   "metadata": {},
   "outputs": [
    {
     "name": "stdout",
     "output_type": "stream",
     "text": [
      "2450\n"
     ]
    }
   ],
   "source": [
    "he=0\n",
    "for i in range(0,100,2):\n",
    "    he+=i\n",
    "print(he)"
   ]
  },
  {
   "cell_type": "code",
   "execution_count": 7,
   "metadata": {},
   "outputs": [
    {
     "name": "stdin",
     "output_type": "stream",
     "text": [
      "请输入你的成绩： 88\n"
     ]
    },
    {
     "name": "stdout",
     "output_type": "stream",
     "text": [
      "良好\n"
     ]
    }
   ],
   "source": [
    "cj=float (input(\"请输入你的成绩：\"))\n",
    "if cj>=90 and cj<=100:\n",
    "    print(\"优秀\")\n",
    "elif cj>=70 and cj<90:\n",
    "    print(\"良好\")\n",
    "elif cj>=60 and cj<70:\n",
    "    print(\"及格\")\n",
    "else:\n",
    "    print(\"你要努力了\")"
   ]
  },
  {
   "cell_type": "code",
   "execution_count": 2,
   "metadata": {},
   "outputs": [
    {
     "name": "stdout",
     "output_type": "stream",
     "text": [
      "1\n"
     ]
    },
    {
     "ename": "ValueError",
     "evalue": "Invalid format specifier",
     "output_type": "error",
     "traceback": [
      "\u001b[1;31m---------------------------------------------------------------------------\u001b[0m",
      "\u001b[1;31mValueError\u001b[0m                                Traceback (most recent call last)",
      "\u001b[1;32m<ipython-input-2-787c15d8ee6e>\u001b[0m in \u001b[0;36m<module>\u001b[1;34m\u001b[0m\n\u001b[0;32m      1\u001b[0m \u001b[0ms\u001b[0m\u001b[1;33m=\u001b[0m\u001b[0minput\u001b[0m\u001b[1;33m(\u001b[0m\u001b[1;33m)\u001b[0m\u001b[1;33m\u001b[0m\u001b[1;33m\u001b[0m\u001b[0m\n\u001b[1;32m----> 2\u001b[1;33m \u001b[0mprint\u001b[0m\u001b[1;33m(\u001b[0m\u001b[1;34m\"{:.2fx}\"\u001b[0m\u001b[1;33m.\u001b[0m\u001b[0mformat\u001b[0m\u001b[1;33m(\u001b[0m\u001b[0meval\u001b[0m\u001b[1;33m(\u001b[0m\u001b[0ms\u001b[0m\u001b[1;33m)\u001b[0m\u001b[1;33m)\u001b[0m\u001b[1;33m)\u001b[0m\u001b[1;33m\u001b[0m\u001b[1;33m\u001b[0m\u001b[0m\n\u001b[0m",
      "\u001b[1;31mValueError\u001b[0m: Invalid format specifier"
     ]
    }
   ],
   "source": [
    "s=input()\n",
    "print(\"{:.2fx}\".format(eval(s)))\n"
   ]
  },
  {
   "cell_type": "code",
   "execution_count": 4,
   "metadata": {},
   "outputs": [
    {
     "name": "stdout",
     "output_type": "stream",
     "text": [
      "1634\n",
      "8208\n",
      "9474\n"
     ]
    }
   ],
   "source": [
    "for i in range(1000,10000):\n",
    "     a=int(i/1000)\n",
    "     b=int((i-1000*a)/100)\n",
    "     c=int((i-1000*a-100*b)/10)\n",
    "     d=int(i-1000*a-100*b-10*c)\n",
    "     if i==pow(a,4)+pow(b,4)+pow(c,4)+pow(d,4):\n",
    "        print(i)"
   ]
  },
  {
   "cell_type": "code",
   "execution_count": 5,
   "metadata": {},
   "outputs": [
    {
     "name": "stdout",
     "output_type": "stream",
     "text": [
      "66705\n"
     ]
    }
   ],
   "source": [
    "i=2\n",
    "num=0\n",
    "for i in range(2,100):\n",
    "     j=2\n",
    "     for j in range(2,i):\n",
    "          if i%j==0:\n",
    "             break\n",
    "          else:\n",
    "             num+=i\n",
    "print(num)"
   ]
  },
  {
   "cell_type": "code",
   "execution_count": null,
   "metadata": {},
   "outputs": [],
   "source": [
    "n=input()\n",
    "ss=set(n)\n",
    "num=0\n",
    "for i in ss:\n",
    "     num+=eval(i)\n",
    "print(num)"
   ]
  },
  {
   "cell_type": "code",
   "execution_count": null,
   "metadata": {},
   "outputs": [],
   "source": [
    "a=[]\n",
    "for i in range(26):\n",
    "     a.append(chr(ord(\"a\")+i))\n",
    "     a.append(chr(ord(\"A\")+i))\n",
    "s=input()\n",
    "for c in s:\n",
    "     if c in a:\n",
    "         print(c,end=\"\")\n"
   ]
  },
  {
   "cell_type": "code",
   "execution_count": null,
   "metadata": {},
   "outputs": [],
   "source": [
    "s=input()\n",
    "try:\n",
    "      if complex(s)==complex(eval(s)):\n",
    "             print(eval(s)**2)\n",
    "except:\n",
    "      print(\"输入有误\")"
   ]
  },
  {
   "cell_type": "code",
   "execution_count": null,
   "metadata": {},
   "outputs": [],
   "source": [
    "from tabulate import tabulate\n",
    "data =[[\"北京理工大学\", \"985\", 2000], \\\n",
    "         [\"清华大学\", \"985\", 3000], \\\n",
    "         [\"大连理工大学\", \"985\", 4000], \\\n",
    "         [\"深圳大学\", \"211\", 2000], \\\n",
    "         [\"沈阳大学\", \"省本\", 2000], \\\n",
    "]\n",
    "print(tabulate(data,tablefmt=\"grid\"))"
   ]
  },
  {
   "cell_type": "code",
   "execution_count": null,
   "metadata": {},
   "outputs": [],
   "source": [
    "#-*_coding:utf8-*-\n",
    "import requests\n",
    "import re\n",
    "import sys\n",
    "reload(sys)\n",
    "sys.setdefaultencoding(\"utf-8\")\n",
    "\n",
    "class func(object):\n",
    "    def __init__(self):\n",
    "        print u'开始爬取内容。。。'\n",
    "\n",
    "#getsource获取网页源代码\n",
    "    def getsource(self,url):\n",
    "        html = requests.get(url)\n",
    "        #print str(html.text)   可以在此打印，来检查是否抓到内容\n",
    "        return html.text\n",
    "\n",
    "#geteverydiv抓取每个课程块的信息\n",
    "    def geteverydiv(self,source):\n",
    "        everydiv = re.findall('(<div class=\"moco-course-wrap\".*?</div>)',source,re.S)\n",
    "        return everydiv\n",
    "\n",
    "#getinfo从每个课程块中提取出课程标题和内容描述\n",
    "    def getinfo(self,eachclass):\n",
    "        info = {}\n",
    "        info['title'] = re.search('<h3>(.*?)</h3>',eachclass,re.S).group(1)\n",
    "        info['content'] = re.search('<p>(.*?)</p>',eachclass,re.S).group(1)\n",
    "        #print info  可以在此打印，来检查是否抓到内容\n",
    "        return info\n",
    "\n",
    "#saveinfo用来保存结果到info.txt文件中\n",
    "    def saveinfo(self,classinfo):\n",
    "        f = open('info.txt','a')\n",
    "        for each in classinfo:\n",
    "            f.writelines('title:' + each['title'] + '\\n')\n",
    "            f.writelines('content:' + each['content'] + '\\n\\n')\n",
    "        f.close()\n",
    "        print \"write file finished\"\n",
    "        \n",
    "#主函数\n",
    "if __name__ == '__main__':\n",
    "    classinfo = []\n",
    "    url = 'http://www.imooc.com/'\n",
    "    testspider = func()\n",
    "    print u'正在处理页面：' + url\n",
    "    html = testspider.getsource(url)\n",
    "    everydiv = testspider.geteverydiv(html)\n",
    "    for each in everydiv:\n",
    "        info = testspider.getinfo(each)\n",
    "        classinfo.append(info)\n",
    "    testspider.saveinfo(classinfo)\n",
    "print(\"yes\")"
   ]
  },
  {
   "cell_type": "code",
   "execution_count": null,
   "metadata": {},
   "outputs": [],
   "source": [
    "k=float (input(\"请输入你的成绩：\"))\n",
    "if k>=90 and k<=100:\n",
    "    print(\"优秀\")\n",
    "elif k>=70 and k<90:\n",
    "    print(\"良好\")\n",
    "elif k>=60 and k<70:\n",
    "    print(\"及格\")\n",
    "else:\n",
    "    print(\"你要努力了\")"
   ]
  },
  {
   "cell_type": "code",
   "execution_count": null,
   "metadata": {},
   "outputs": [],
   "source": [
    "print('hello\\nrunoob')"
   ]
  },
  {
   "cell_type": "code",
   "execution_count": null,
   "metadata": {},
   "outputs": [],
   "source": [
    "import turtle as T\n",
    "import random\n",
    "import time\n",
    "\n",
    "# 画樱花的躯干(60,t)\n",
    "def Tree(branch, t):\n",
    "    time.sleep(0.0005)\n",
    "    if branch > 3:\n",
    "        if 8 <= branch <= 12:\n",
    "            if random.randint(0, 2) == 0:\n",
    "                t.color('snow')  # 白\n",
    "            else:\n",
    "                t.color('lightcoral')  # 淡珊瑚色\n",
    "            t.pensize(branch / 3)\n",
    "        elif branch < 8:\n",
    "            if random.randint(0, 1) == 0:\n",
    "                t.color('snow')\n",
    "            else:\n",
    "                t.color('lightcoral')  # 淡珊瑚色\n",
    "            t.pensize(branch / 2)\n",
    "        else:\n",
    "            t.color('sienna')  # 赭(zhě)色\n",
    "            t.pensize(branch / 10)  # 6\n",
    "        t.forward(branch)\n",
    "        a = 1.5 * random.random()\n",
    "        t.right(20 * a)\n",
    "        b = 1.5 * random.random()\n",
    "        Tree(branch - 10 * b, t)\n",
    "        t.left(40 * a)\n",
    "        Tree(branch - 10 * b, t)\n",
    "        t.right(20 * a)\n",
    "        t.up()\n",
    "        t.backward(branch)\n",
    "        t.down()\n",
    "\n",
    "# 掉落的花瓣\n",
    "def Petal(m, t):\n",
    "    for i in range(m):\n",
    "        a = 200 - 400 * random.random()\n",
    "        b = 10 - 20 * random.random()\n",
    "        t.up()\n",
    "        t.forward(b)\n",
    "        t.left(90)\n",
    "        t.forward(a)\n",
    "        t.down()\n",
    "        t.color('lightcoral')  # 淡珊瑚色\n",
    "        t.circle(1)\n",
    "        t.up()\n",
    "        t.backward(a)\n",
    "        t.right(90)\n",
    "        t.backward(b)\n",
    "\n",
    "# 绘图区域\n",
    "t = T.Turtle()\n",
    "# 画布大小\n",
    "w = T.Screen()\n",
    "t.hideturtle()  # 隐藏画笔\n",
    "t.getscreen().tracer(5, 0)\n",
    "w.screensize(bg='wheat')  # wheat小麦\n",
    "t.left(90)\n",
    "t.up()\n",
    "t.backward(150)\n",
    "t.down()\n",
    "t.color('sienna')\n",
    "\n",
    "# 画樱花的躯干\n",
    "Tree(60, t)\n",
    "# 掉落的花瓣\n",
    "Petal(200, t)\n",
    "w.exitonclick()"
   ]
  },
  {
   "cell_type": "code",
   "execution_count": null,
   "metadata": {},
   "outputs": [],
   "source": [
    "from turtle import *\n",
    "from random import *\n",
    "from math import *\n",
    "\n",
    "def tree(n,l):\n",
    "    pd()#下笔\n",
    "    #阴影效果\n",
    "    t = cos(radians(heading()+45))/8+0.25\n",
    "    pencolor(t,t,t)\n",
    "    pensize(n/3)\n",
    "    forward(l)#画树枝\n",
    "\n",
    "    if n>0:\n",
    "        b = random()*15+10 #右分支偏转角度\n",
    "        c = random()*15+10 #左分支偏转角度\n",
    "        d = l*(random()*0.25+0.7) #下一个分支的长度\n",
    "        #右转一定角度,画右分支\n",
    "        right(b)\n",
    "        tree(n-1,d)\n",
    "        #左转一定角度，画左分支\n",
    "        left(b+c)\n",
    "        tree(n-1,d)\n",
    "        #转回来\n",
    "        right(c)\n",
    "    else:\n",
    "        #画叶子\n",
    "        right(90)\n",
    "        n=cos(radians(heading()-45))/4+0.5\n",
    "        pencolor(n,n*0.8,n*0.8)\n",
    "        circle(3)\n",
    "        left(90)\n",
    "        #添加0.3倍的飘落叶子\n",
    "        if(random()>0.7):\n",
    "            pu()\n",
    "            #飘落\n",
    "            t = heading()\n",
    "            an = -40 +random()*40\n",
    "            setheading(an)\n",
    "            dis = int(800*random()*0.5 + 400*random()*0.3 + 200*random()*0.2)\n",
    "            forward(dis)\n",
    "            setheading(t)\n",
    "            #画叶子\n",
    "            pd()\n",
    "            right(90)\n",
    "            n = cos(radians(heading()-45))/4+0.5\n",
    "            pencolor(n*0.5+0.5,0.4+n*0.4,0.4+n*0.4)\n",
    "            circle(2)\n",
    "            left(90)\n",
    "            pu()\n",
    "            #返回\n",
    "            t=heading()\n",
    "            setheading(an)\n",
    "            backward(dis)\n",
    "            setheading(t)\n",
    "    pu()\n",
    "    backward(l)#退回\n",
    "\n",
    "bgcolor(0.5,0.5,0.5)#背景色\n",
    "ht()#隐藏turtle\n",
    "speed(0)#速度 1-10渐进，0 最快\n",
    "tracer(0,0)\n",
    "pu()#抬笔\n",
    "backward(100)\n",
    "left(90)#左转90度\n",
    "pu()#抬笔\n",
    "backward(300)#后退300\n",
    "tree(12,100)#递归7层\n",
    "done()"
   ]
  },
  {
   "cell_type": "code",
   "execution_count": null,
   "metadata": {},
   "outputs": [],
   "source": [
    "from turtle import *\n",
    "from random import *\n",
    "from math import *\n",
    "\n",
    "def tree(n, l):\n",
    "    pd()\n",
    "    t = cos(radians(heading() + 45)) / 8 + 0.25\n",
    "    pencolor(t, t, t)\n",
    "    pensize(n / 4)\n",
    "    forward(l)\n",
    "    if n > 0:\n",
    "        b = random() * 15 + 10\n",
    "        c = random() * 15 + 10\n",
    "        d = l * (random() * 0.35 + 0.6)\n",
    "        right(b)\n",
    "        tree(n - 1, d)\n",
    "        left(b + c)\n",
    "        tree(n - 1, d)\n",
    "        right(c)\n",
    "    else:\n",
    "        right(90)\n",
    "        n = cos(radians(heading() - 45)) / 4 + 0.5\n",
    "        pencolor(n, n, n)\n",
    "        circle(2)\n",
    "        left(90)\n",
    "    pu()\n",
    "    backward(l)\n",
    "bgcolor(0.5, 0.5, 0.5)\n",
    "ht()\n",
    "speed(0)\n",
    "tracer(0, 0)\n",
    "left(90)\n",
    "pu()\n",
    "backward(300)\n",
    "tree(13, 100)\n",
    "done()\n"
   ]
  },
  {
   "cell_type": "code",
   "execution_count": null,
   "metadata": {},
   "outputs": [],
   "source": []
  }
 ],
 "metadata": {
  "kernelspec": {
   "display_name": "Python 3",
   "language": "python",
   "name": "python3"
  },
  "language_info": {
   "codemirror_mode": {
    "name": "ipython",
    "version": 3
   },
   "file_extension": ".py",
   "mimetype": "text/x-python",
   "name": "python",
   "nbconvert_exporter": "python",
   "pygments_lexer": "ipython3",
   "version": "3.8.5"
  }
 },
 "nbformat": 4,
 "nbformat_minor": 4
}
