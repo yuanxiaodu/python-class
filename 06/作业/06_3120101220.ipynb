{
 "cells": [
  {
   "cell_type": "code",
   "execution_count": null,
   "metadata": {},
   "outputs": [],
   "source": [
    "if __name__  == '__main__':\n",
    "    from tkinter import *\n",
    "    canvas = Canvas(width = 300,height = 300,bg = 'green')\n",
    "    canvas.pack(expand = YES,fill = BOTH)\n",
    "    x0 = 150\n",
    "    y0 = 100\n",
    "    canvas.create_oval(x0 - 10,y0 - 10,x0 + 10,y0 + 10)\n",
    "    canvas.create_oval(x0 - 20,y0 - 20,x0 + 20,y0 + 20)\n",
    "    canvas.create_oval(x0 - 50,y0 - 50,x0 + 50,y0 + 50)\n",
    "    import math\n",
    "    B = 0.809\n",
    "    for i in range(16):\n",
    "        a = 2 * math.pi / 16 * i\n",
    "        x = math.ceil(x0 + 48 * math.cos(a))\n",
    "        y = math.ceil(y0 + 48 * math.sin(a) * B)\n",
    "        canvas.create_line(x0,y0,x,y,fill = 'red')\n",
    "    canvas.create_oval(x0 - 60,y0 - 60,x0 + 60,y0 + 60)\n",
    "    \n",
    "\n",
    "    for k in range(501):\n",
    "        for i in range(17):\n",
    "            a = (2 * math.pi / 16) * i + (2 * math.pi / 180) * k\n",
    "            x = math.ceil(x0 + 48 * math.cos(a))\n",
    "            y = math.ceil(y0 + 48 + math.sin(a) * B)\n",
    "            canvas.create_line(x0,y0,x,y,fill = 'red')\n",
    "        for j in range(51):\n",
    "            a = (2 * math.pi / 16) * i + (2* math.pi / 180) * k - 1\n",
    "            x = math.ceil(x0 + 48 * math.cos(a))\n",
    "            y = math.ceil(y0 + 48 * math.sin(a) * B)\n",
    "            canvas.create_line(x0,y0,x,y,fill = 'red')\n",
    "    mainloop()\n"
   ]
  },
  {
   "cell_type": "code",
   "execution_count": 2,
   "metadata": {},
   "outputs": [
    {
     "name": "stdin",
     "output_type": "stream",
     "text": [
      "输入一个整数： 56\n"
     ]
    },
    {
     "name": "stdout",
     "output_type": "stream",
     "text": [
      "56 = 2*2*2*7"
     ]
    }
   ],
   "source": [
    "target=int(input('输入一个整数：'))\n",
    "print(target,'= ',end='')\n",
    "\n",
    "if target<0:\n",
    "    target=abs(target)\n",
    "    print('-1*',end='')\n",
    "\n",
    "flag=0\n",
    "if target<=1:\n",
    "    print(target)\n",
    "    flag=1\n",
    "\n",
    "\n",
    "while True:\n",
    "    if flag:\n",
    "        break\n",
    "    for i in range(2,int(target+1)):\n",
    "        if target%i==0:\n",
    "            print(\"%d\"%i,end='')\n",
    "            if target==i:\n",
    "                flag=1\n",
    "                break\n",
    "            print('*',end='')\n",
    "            target/=i\n",
    "            break\n",
    "        \n"
   ]
  },
  {
   "cell_type": "code",
   "execution_count": 3,
   "metadata": {},
   "outputs": [
    {
     "name": "stdin",
     "output_type": "stream",
     "text": [
      "输入字符串： weter\n"
     ]
    },
    {
     "name": "stdout",
     "output_type": "stream",
     "text": [
      "space:  0\n",
      "digit:  0\n",
      "alpha:  5\n",
      "other:  0\n"
     ]
    }
   ],
   "source": [
    "string=input(\"输入字符串：\")\n",
    "alp=0\n",
    "num=0\n",
    "spa=0\n",
    "oth=0\n",
    "for i in range(len(string)):\n",
    "    if string[i].isspace():\n",
    "        spa+=1\n",
    "    elif string[i].isdigit():\n",
    "        num+=1\n",
    "    elif string[i].isalpha():\n",
    "        alp+=1\n",
    "    else:\n",
    "        oth+=1\n",
    "print('space: ',spa)\n",
    "print('digit: ',num)\n",
    "print('alpha: ',alp)\n",
    "print('other: ',oth)\n",
    "\n"
   ]
  },
  {
   "cell_type": "code",
   "execution_count": 4,
   "metadata": {},
   "outputs": [
    {
     "name": "stdout",
     "output_type": "stream",
     "text": [
      "6\n",
      "28\n",
      "496\n"
     ]
    }
   ],
   "source": [
    "def factor(num):\n",
    "    target=int(num)\n",
    "    res=set()\n",
    "    for i in range(1,num):\n",
    "        if num%i==0:\n",
    "            res.add(i)\n",
    "            res.add(num/i)\n",
    "    return res\n",
    "\n",
    "for i in range(2,1001):\n",
    "    if i==sum(factor(i))-i:\n",
    "        print(i)\n"
   ]
  },
  {
   "cell_type": "code",
   "execution_count": 5,
   "metadata": {},
   "outputs": [
    {
     "name": "stdin",
     "output_type": "stream",
     "text": [
      "请输入第一位字母: w\n"
     ]
    },
    {
     "name": "stdout",
     "output_type": "stream",
     "text": [
      "wensday\n"
     ]
    }
   ],
   "source": [
    "weekT={'h':'thursday',\n",
    "       'u':'tuesday'}\n",
    "weekS={'a':'saturday',\n",
    "       'u':'sunday'}\n",
    "week={'t':weekT,\n",
    "      's':weekS,\n",
    "      'm':'monday',\n",
    "      'w':'wensday',\n",
    "      'f':'friday'}\n",
    "a=week[str(input('请输入第一位字母:')).lower()]\n",
    "if a==weekT or a==weekS:\n",
    "    print(a[str(input('请输入第二位字母:')).lower()])\n",
    "else:\n",
    "    print(a)\n",
    "\n"
   ]
  },
  {
   "cell_type": "code",
   "execution_count": null,
   "metadata": {},
   "outputs": [
    {
     "name": "stdin",
     "output_type": "stream",
     "text": [
      "int0:  566465564456\n",
      "int1:  5621562125\n"
     ]
    }
   ],
   "source": [
    "raw=[]\n",
    "for i in range(10):\n",
    "    x=int(input('int%d: '%(i)))\n",
    "    raw.append(x)\n",
    "    \n",
    "for i in range(len(raw)):\n",
    "    for j in range(i,len(raw)):\n",
    "        if raw[i]>raw[j]:\n",
    "            raw[i],raw[j]=raw[j],raw[i]\n",
    "print(raw)\n",
    "\n"
   ]
  },
  {
   "cell_type": "code",
   "execution_count": 2,
   "metadata": {},
   "outputs": [
    {
     "name": "stdout",
     "output_type": "stream",
     "text": [
      "第一种实现：\n",
      "[100000, 10000, 1000, 100, 10, 1]\n",
      "第二种实现：\n",
      "[100000, 10000, 1000, 100, 10, 1]\n"
     ]
    }
   ],
   "source": [
    "lis=[1,10,100,1000,10000,100000]\n",
    "for i in range(int(len(lis)/2)):\n",
    "    lis[i],lis[len(lis)-1-i]=lis[len(lis)-1-i],lis[i]\n",
    "print('第一种实现：')\n",
    "print(lis)\n",
    "\n",
    "\n",
    "lis=[1,10,100,1000,10000,100000]\n",
    "print('第二种实现：')\n",
    "lis.reverse()\n",
    "print(lis)\n",
    "\n"
   ]
  },
  {
   "cell_type": "code",
   "execution_count": 3,
   "metadata": {},
   "outputs": [
    {
     "name": "stdout",
     "output_type": "stream",
     "text": [
      "3\n",
      "Time:  0.0010023117065429688\n"
     ]
    }
   ],
   "source": [
    "import time\n",
    "start_time = time.time()\n",
    "a = 1\n",
    "b = 2\n",
    "c = a + b\n",
    "print(c) #3\n",
    "end_time = time.time()\n",
    "total_time = end_time - start_time\n",
    "print(\"Time: \", total_time)\n",
    "# ('Time: ', 1.1205673217773438e-05)"
   ]
  },
  {
   "cell_type": "code",
   "execution_count": 9,
   "metadata": {},
   "outputs": [
    {
     "name": "stdin",
     "output_type": "stream",
     "text": [
      "亲输入三个系数a,b,c,用英文逗号隔开： 2,2,4\n"
     ]
    },
    {
     "name": "stdout",
     "output_type": "stream",
     "text": [
      "无实根\n"
     ]
    }
   ],
   "source": [
    "\n",
    "a,b,c=eval(input(\"亲输入三个系数a,b,c,用英文逗号隔开：\"))#此赋值方法可以多变量同时赋值\n",
    "Delta=b**2-4*a*c#一定不能写4ac\n",
    "if Delta>=0:\n",
    "    print(\"该一元二次方程有两个实根，进行如下计算\")\n",
    "    if Delta>0:\n",
    "        X1=(-b+Delta**(1/2))/(2*a)\n",
    "        X2=(-b-Delta**(1/2))/(2*a)\n",
    "        \n",
    "        print(\"该一元二次方程有两个不等的实根分别为{:.2f}，{:.2f}\".format(X1,X2))\n",
    "    if  Delta==0:\n",
    "        X=-b/(2*a)\n",
    "        print(\"该一元二次方程有两个相等的实根为{}\".format (X))\n",
    "else:\n",
    "    print(\"无实根\")#在同级中else和最近的if配对\n",
    "\n"
   ]
  },
  {
   "cell_type": "code",
   "execution_count": 10,
   "metadata": {},
   "outputs": [
    {
     "name": "stdin",
     "output_type": "stream",
     "text": [
      " 4665\n"
     ]
    },
    {
     "name": "stdout",
     "output_type": "stream",
     "text": [
      "您输入的数153为水仙花数\n",
      "您输入的数370为水仙花数\n",
      "您输入的数371为水仙花数\n",
      "您输入的数407为水仙花数\n",
      "您输入的数1634为水仙花数\n"
     ]
    }
   ],
   "source": [
    "#水仙花数：如果一个数为m位，则每个位上的数字m次幂之和等于它本身\n",
    "#创建一个函数，接受一个参数n(n>=100)，判断这个是否位水仙花数\n",
    "def flower(n):\n",
    "    if n<100:\n",
    "        print(\"数字不合格\")\n",
    "\n",
    "    elif n>=100: \n",
    "        #下方注释为验证n的位数\n",
    "        #print(\"n为{}位数\".format(len(str(n))))判断n为几位数\n",
    "        num=0\n",
    "        for i in str(n):\n",
    "            \n",
    "            s=int(i)\n",
    "           \n",
    "            sum=s**(len(str(n)))\n",
    "         \n",
    "            num+=sum\n",
    "            \n",
    "        #print(num)#测试累加是否正确\n",
    "        if num==n:\n",
    "            print(\"您输入的数{}为水仙花数\".format(n))\n",
    "                 \n",
    "'''flower(153)#对函数的调用\n",
    "flower(256)'''\n",
    "#创建一个函数输出100到max(>=1000)的所有水仙花数\n",
    "def allflower(max):\n",
    "    if max<1000:\n",
    "        print(\"数字不合格\")\n",
    "    elif max>=1000:\n",
    "       for j in range(100,max+1):\n",
    "           flower(j)#对上一个函数的调用\n",
    "#allflower(2500)#调用函数，输出水仙花数\n",
    "X=eval(input())\n",
    "allflower(X)\n",
    "\n"
   ]
  },
  {
   "cell_type": "code",
   "execution_count": 2,
   "metadata": {},
   "outputs": [
    {
     "name": "stdout",
     "output_type": "stream",
     "text": [
      "1 * 1  =  1  \n",
      "\n",
      "1 * 2  =  2  2 * 2  =  4  \n",
      "\n",
      "1 * 3  =  3  2 * 3  =  6  3 * 3  =  9  \n",
      "\n",
      "1 * 4  =  4  2 * 4  =  8  3 * 4  =  12  4 * 4  =  16  \n",
      "\n",
      "1 * 5  =  5  2 * 5  =  10  3 * 5  =  15  4 * 5  =  20  5 * 5  =  25  \n",
      "\n",
      "1 * 6  =  6  2 * 6  =  12  3 * 6  =  18  4 * 6  =  24  5 * 6  =  30  6 * 6  =  36  \n",
      "\n",
      "1 * 7  =  7  2 * 7  =  14  3 * 7  =  21  4 * 7  =  28  5 * 7  =  35  6 * 7  =  42  7 * 7  =  49  \n",
      "\n",
      "1 * 8  =  8  2 * 8  =  16  3 * 8  =  24  4 * 8  =  32  5 * 8  =  40  6 * 8  =  48  7 * 8  =  56  8 * 8  =  64  \n",
      "\n",
      "1 * 9  =  9  2 * 9  =  18  3 * 9  =  27  4 * 9  =  36  5 * 9  =  45  6 * 9  =  54  7 * 9  =  63  8 * 9  =  72  9 * 9  =  81  \n",
      "\n"
     ]
    }
   ],
   "source": [
    "i = 1\n",
    "while i :\n",
    "    j = 1\n",
    "    while j:\n",
    "        print (j ,\"*\", i ,\" = \" , i * j , end='  ')\n",
    "        if i == j :\n",
    "            break\n",
    "\n",
    "        j += 1\n",
    "        if j >= 10:\n",
    "            break\n",
    "    #第二个while到这个break属于同级循环，break属于跳出循环\n",
    "    print (\"\\n\")\n",
    "    i += 1\n",
    "    if i >= 10:\n",
    "        break\n"
   ]
  },
  {
   "cell_type": "code",
   "execution_count": 6,
   "metadata": {},
   "outputs": [
    {
     "name": "stdout",
     "output_type": "stream",
     "text": [
      "[1]\n",
      "[1, 1]\n",
      "[1, 2, 1]\n",
      "[1, 3, 3, 1]\n",
      "[1, 4, 6, 4, 1]\n",
      "[1, 5, 10, 10, 5, 1]\n"
     ]
    }
   ],
   "source": [
    "def yanghui(t):\n",
    "    print([1])\n",
    "    line = [1, 1]\n",
    "    print(line)\n",
    "    for i in range(2, t):\n",
    "        r = []\n",
    "        for j in range(0, len(line)-1):\n",
    "            r.append(line[j]+line[j+1])\n",
    "        line = [1]+r+[1]\n",
    "        print(line)\n",
    "yanghui(6)"
   ]
  },
  {
   "cell_type": "code",
   "execution_count": 8,
   "metadata": {},
   "outputs": [
    {
     "name": "stdout",
     "output_type": "stream",
     "text": [
      "5 + 73 = 78\n",
      "7 + 71 = 78\n",
      "11 + 67 = 78\n",
      "17 + 61 = 78\n",
      "19 + 59 = 78\n",
      "31 + 47 = 78\n",
      "37 + 41 = 78\n"
     ]
    }
   ],
   "source": [
    "def demo(n):\n",
    "    def IsPrime(p):\n",
    "        if p == 2:\n",
    "            return True\n",
    "        if p%2 == 0:\n",
    "            return False\n",
    "        for i in range(3, int(p**0.5)+1, 2):\n",
    "            if p%i==0:\n",
    "                return False\n",
    "        return True\n",
    "    \n",
    "    if isinstance(n, int) and n>0 and n%2==0:\n",
    "        for i in range(2, n//2+1):\n",
    "            if IsPrime(i) and IsPrime(n-i):\n",
    "                print(i, '+', n-i, '=', n)\n",
    "demo(78)"
   ]
  },
  {
   "cell_type": "code",
   "execution_count": 1,
   "metadata": {},
   "outputs": [
    {
     "name": "stdout",
     "output_type": "stream",
     "text": [
      "在1000000次实验中：\n",
      "若不更改门，获胜概率为33.3%.\n",
      "若更改门，获胜概率为66.7%.\n"
     ]
    }
   ],
   "source": [
    "import random as r\n",
    "\n",
    "#总次数\n",
    "total=1000000 #1000,1W,10W,100W\n",
    "#换与不换的获胜次数\n",
    "win1=0\n",
    "win2=0\n",
    "\n",
    "for i in range(total):\n",
    "    #模拟选择过程\n",
    "    man=r.randint(1,3)\n",
    "    car=r.randint(1,3)\n",
    "    #结果：一开始为车门，不换+1.\n",
    "    #       否则则一开始为羊门，换+1.\n",
    "    if man==car:\n",
    "        win1+=1\n",
    "    else:\n",
    "        win2+=1\n",
    "\n",
    "print(\"在{}次实验中：\".format(total))\n",
    "print(\"若不更改门，获胜概率为{:.3}%.\".format((win1/total)*100))\n",
    "print(\"若更改门，获胜概率为{:.3}%.\".format((win2/total)*100))"
   ]
  },
  {
   "cell_type": "code",
   "execution_count": 1,
   "metadata": {},
   "outputs": [
    {
     "name": "stdout",
     "output_type": "stream",
     "text": [
      "           1            1            2            3            5            8 \n",
      "          13           21           34           55           89          144 \n",
      "         233          377          610          987         1597         2584 \n",
      "        4181         6765        10946        17711        28657        46368 \n",
      "       75025       121393       196418       317811       514229       832040 \n",
      "     1346269      2178309      3524578      5702887      9227465     14930352 \n",
      "    24157817     39088169     63245986    102334155    165580141    267914296 \n"
     ]
    }
   ],
   "source": [
    "f1 = 1\n",
    "f2 = 1\n",
    "for i in range(1,22):\n",
    "    print ('%12ld %12ld' % (f1,f2), end=\" \")\n",
    "    if (i % 3) == 0:\n",
    "        print ('')\n",
    "    f1 = f1 + f2\n",
    "    f2 = f1 + f2\n",
    "    "
   ]
  },
  {
   "cell_type": "code",
   "execution_count": 2,
   "metadata": {},
   "outputs": [
    {
     "name": "stdout",
     "output_type": "stream",
     "text": [
      "153\n",
      "370\n",
      "371\n",
      "407\n"
     ]
    }
   ],
   "source": [
    "for n in range(100,1000):\n",
    "    i = n // 100\n",
    "    j = n // 10 % 10\n",
    "    k = n % 10\n",
    "    if n == i*i*i + j*j*j + k*k*k: \n",
    "        print(n)"
   ]
  },
  {
   "cell_type": "code",
   "execution_count": 3,
   "metadata": {},
   "outputs": [
    {
     "name": "stdout",
     "output_type": "stream",
     "text": [
      "32.66026079864164\n"
     ]
    }
   ],
   "source": [
    "from functools import reduce\n",
    " \n",
    "a = 2.0\n",
    "b = 1.0\n",
    "l = []\n",
    "l.append(a / b)\n",
    "for n in range(1,20):\n",
    "    b,a = a,a + b\n",
    "    l.append(a / b)\n",
    "print (reduce(lambda x,y: x + y,l))"
   ]
  },
  {
   "cell_type": "code",
   "execution_count": null,
   "metadata": {},
   "outputs": [],
   "source": []
  }
 ],
 "metadata": {
  "kernelspec": {
   "display_name": "Python 3",
   "language": "python",
   "name": "python3"
  },
  "language_info": {
   "codemirror_mode": {
    "name": "ipython",
    "version": 3
   },
   "file_extension": ".py",
   "mimetype": "text/x-python",
   "name": "python",
   "nbconvert_exporter": "python",
   "pygments_lexer": "ipython3",
   "version": "3.8.5"
  }
 },
 "nbformat": 4,
 "nbformat_minor": 4
}
