{
 "cells": [
  {
   "cell_type": "code",
   "execution_count": 10,
   "metadata": {},
   "outputs": [
    {
     "name": "stdout",
     "output_type": "stream",
     "text": [
      "[1, 2, 3]\n",
      "[1, 2, 3, 3, 4, 5]\n",
      "[1, 2, 3, 3, 4, 5]\n"
     ]
    }
   ],
   "source": [
    "if __name__ == '__main__':\n",
    "    a = [1,3,2]\n",
    "    b = [3,4,5]\n",
    "    a.sort()     # 对列表 a 进行排序\n",
    "    print (a)\n",
    " \n",
    "    # 连接列表 a 与 b\n",
    "    print (a+b)\n",
    "    \n",
    "    # 连接列表 a 与 b\n",
    "    a.extend(b)\n",
    "    print (a)"
   ]
  },
  {
   "cell_type": "code",
   "execution_count": 17,
   "metadata": {},
   "outputs": [
    {
     "name": "stdin",
     "output_type": "stream",
     "text": [
      "请输入总人数: 34\n"
     ]
    },
    {
     "name": "stdout",
     "output_type": "stream",
     "text": [
      "10\n"
     ]
    }
   ],
   "source": [
    "if __name__ == '__main__':\n",
    "    nmax = 50\n",
    "    n = int(input('请输入总人数:'))\n",
    "    num = []\n",
    "    for i in range(n):\n",
    "        num.append(i + 1)\n",
    " \n",
    "    i = 0\n",
    "    k = 0\n",
    "    m = 0\n",
    " \n",
    "    while m < n - 1:\n",
    "        if num[i] != 0 : k += 1\n",
    "        if k == 3:\n",
    "            num[i] = 0\n",
    "            k = 0\n",
    "            m += 1\n",
    "        i += 1\n",
    "        if i == n : i = 0\n",
    " \n",
    "    i = 0\n",
    "    while num[i] == 0: i += 1\n",
    "    print (num[i])"
   ]
  },
  {
   "cell_type": "markdown",
   "metadata": {},
   "source": [
    "#### if __name__ == '__main__':\n",
    "    n = int(input('整数 n 为:\\n'))\n",
    "    m = int(input('向后移 m 个位置为:\\n'))\n",
    " \n",
    "    def move(array,n,m):\n",
    "        array_end = array[n - 1]\n",
    "        for i in range(n - 1,-1,- 1):\n",
    "            array[i] = array[i - 1]\n",
    "        array[0] = array_end\n",
    "        m -= 1\n",
    "        if m > 0:move(array,n,m)\n",
    "        \n",
    "    number = []\n",
    "    for i in range(n):\n",
    "        number.append(int(input('输入一个数字:\\n')))\n",
    "    print ('原始列表:',number)\n",
    " \n",
    "    move(number,n,m)\n",
    " \n",
    "    print ('移动之后:',number)"
   ]
  },
  {
   "cell_type": "code",
   "execution_count": 23,
   "metadata": {},
   "outputs": [
    {
     "name": "stdin",
     "output_type": "stream",
     "text": [
      "整数 n 为:\n",
      " 4\n",
      "向后移 m 个位置为:\n",
      " 3\n",
      "输入一个数字:\n",
      " 23\n",
      "输入一个数字:\n",
      " 45\n",
      "输入一个数字:\n",
      " 34\n",
      "输入一个数字:\n",
      " 6\n"
     ]
    },
    {
     "name": "stdout",
     "output_type": "stream",
     "text": [
      "原始列表: [23, 45, 34, 6]\n",
      "移动之后: [45, 34, 6, 23]\n"
     ]
    }
   ],
   "source": [
    "if __name__ == '__main__':\n",
    "    n = int(input('整数 n 为:\\n'))\n",
    "    m = int(input('向后移 m 个位置为:\\n'))\n",
    " \n",
    "    def move(array,n,m):\n",
    "        array_end = array[n - 1]\n",
    "        for i in range(n - 1,-1,- 1):\n",
    "            array[i] = array[i - 1]\n",
    "        array[0] = array_end\n",
    "        m -= 1\n",
    "        if m > 0:move(array,n,m)\n",
    "        \n",
    "    number = []\n",
    "    for i in range(n):\n",
    "        number.append(int(input('输入一个数字:\\n')))\n",
    "    print ('原始列表:',number)\n",
    " \n",
    "    move(number,n,m)\n",
    " \n",
    "    print ('移动之后:',number)"
   ]
  },
  {
   "cell_type": "code",
   "execution_count": 24,
   "metadata": {},
   "outputs": [
    {
     "name": "stdin",
     "output_type": "stream",
     "text": [
      "输入一个数字:\n",
      " 34\n",
      "输入一个数字:\n",
      " 56\n",
      "输入一个数字:\n",
      " 67\n",
      "输入一个数字:\n",
      " 78\n",
      "输入一个数字:\n",
      " 5\n",
      "输入一个数字:\n",
      " 9\n"
     ]
    },
    {
     "name": "stdout",
     "output_type": "stream",
     "text": [
      "计算结果：\n",
      "78\n",
      "56\n",
      "67\n",
      "34\n",
      "9\n",
      "5\n"
     ]
    }
   ],
   "source": [
    "def inp(numbers):\n",
    "    for i in range(6):\n",
    "        numbers.append(int(input('输入一个数字:\\n')))\n",
    "p = 0\n",
    " \n",
    "def arr_max(array):\n",
    "    max = 0\n",
    "    for i in range(1,len(array) - 1):\n",
    "        p = i\n",
    "        if array[p] > array[max] : max = p\n",
    "    k = max\n",
    "    array[0],array[k] = array[k],array[0]\n",
    "def arr_min(array):\n",
    "    min = 0\n",
    "    for i in range(1,len(array) - 1):\n",
    "        p = i\n",
    "        if array[p] < array[min] : min = p\n",
    "    l = min\n",
    "    array[5],array[l] = array[l],array[5]\n",
    " \n",
    "def outp(numbers):\n",
    "    for i  in range(len(numbers)):\n",
    "        print (numbers[i])\n",
    " \n",
    "if __name__ == '__main__':\n",
    "    array = []\n",
    "    inp(array)        # 输入 6 个数字并放入数组\n",
    "    arr_max(array)    # 获取最大元素并与第一个元素交换\n",
    "    arr_min(array)    # 获取最小元素并与最后一个元素交换\n",
    "    print ('计算结果：')\n",
    "    outp(array)"
   ]
  },
  {
   "cell_type": "code",
   "execution_count": 25,
   "metadata": {},
   "outputs": [
    {
     "name": "stdin",
     "output_type": "stream",
     "text": [
      "n1 = :\n",
      " 77\n",
      "n2 = :\n",
      " 55\n",
      "n3 = :\n",
      " 44\n"
     ]
    },
    {
     "name": "stdout",
     "output_type": "stream",
     "text": [
      "44 55 77\n"
     ]
    }
   ],
   "source": [
    "if __name__ == '__main__':\n",
    "    n1 = int(input('n1 = :\\n'))\n",
    "    n2 = int(input('n2 = :\\n'))\n",
    "    n3 = int(input('n3 = :\\n'))\n",
    " \n",
    "    def swap(p1,p2):\n",
    "        return p2,p1\n",
    " \n",
    "    if n1 > n2 : n1,n2 = swap(n1,n2)\n",
    "    if n1 > n3 : n1,n3 = swap(n1,n3)\n",
    "    if n2 > n3 : n2,n3 = swap(n2,n3)\n",
    " \n",
    "    print (n1,n2,n3)"
   ]
  },
  {
   "cell_type": "code",
   "execution_count": 27,
   "metadata": {},
   "outputs": [
    {
     "name": "stdin",
     "output_type": "stream",
     "text": [
      "please input a number:\n",
      " 4545\n",
      "please input a number:\n",
      " 455555\n",
      "please input a number:\n",
      " 2\n",
      "please input a number:\n",
      " 4\n",
      "please input a number:\n",
      " 5\n"
     ]
    },
    {
     "name": "stdout",
     "output_type": "stream",
     "text": [
      "[4545, 455555, 2, 4, 5]\n",
      "[5, 4, 2, 455555, 4545]\n"
     ]
    }
   ],
   "source": [
    "if __name__ == '__main__':\n",
    "    ptr = []\n",
    "    for i in range(5):\n",
    "        num = int(input('please input a number:\\n'))\n",
    "        ptr.append(num)\n",
    "    print (ptr)\n",
    "    ptr.reverse()\n",
    "    print (ptr)"
   ]
  },
  {
   "cell_type": "code",
   "execution_count": 28,
   "metadata": {},
   "outputs": [
    {
     "name": "stdout",
     "output_type": "stream",
     "text": [
      "67\n"
     ]
    }
   ],
   "source": [
    "if __name__ == '__main__':\n",
    "    for i in range(5):\n",
    "        n = 0\n",
    "        if i != 1: n += 1\n",
    "        if i == 3: n += 1\n",
    "        if i == 4: n += 1\n",
    "        if i != 4: n += 1\n",
    "        if n == 3: print (64 + i)"
   ]
  },
  {
   "cell_type": "code",
   "execution_count": 30,
   "metadata": {},
   "outputs": [
    {
     "name": "stdin",
     "output_type": "stream",
     "text": [
      "input a number:\n",
      " 54\n"
     ]
    },
    {
     "name": "stdout",
     "output_type": "stream",
     "text": [
      "1.9457283766260411\n"
     ]
    }
   ],
   "source": [
    "def peven(n):\n",
    "    i = 0\n",
    "    s = 0.0\n",
    "    for i in range(2,n + 1,2):\n",
    "        s += 1.0 / i   \n",
    "    return s\n",
    " \n",
    "def podd(n):\n",
    "    s = 0.0\n",
    "    for i in range(1, n + 1,2):\n",
    "        s += 1.0 / i    \n",
    "    return s\n",
    " \n",
    "def dcall(fp,n):\n",
    "    s = fp(n)\n",
    "    return s\n",
    " \n",
    "if __name__ == '__main__':\n",
    "    n = int(input('input a number:\\n'))\n",
    "    if n % 2 == 0:\n",
    "        sum = dcall(peven,n)\n",
    "    else:\n",
    "        sum = dcall(podd,n)\n",
    "    print (sum)"
   ]
  },
  {
   "cell_type": "code",
   "execution_count": 31,
   "metadata": {},
   "outputs": [
    {
     "name": "stdout",
     "output_type": "stream",
     "text": [
      "man\n",
      "woman\n",
      "girl\n",
      "boy\n",
      "sister\n"
     ]
    }
   ],
   "source": [
    "if __name__ == '__main__':\n",
    "    s = [\"man\",\"woman\",\"girl\",\"boy\",\"sister\"]\n",
    "    for i in range(len(s)):\n",
    "        print (s[i])"
   ]
  },
  {
   "cell_type": "code",
   "execution_count": 32,
   "metadata": {},
   "outputs": [
    {
     "name": "stdin",
     "output_type": "stream",
     "text": [
      "input string:\n",
      " yu\n",
      "input string:\n",
      " boji\n",
      "input string:\n",
      " baba\n"
     ]
    },
    {
     "name": "stdout",
     "output_type": "stream",
     "text": [
      "yu boji baba\n",
      "after being sorted.\n",
      "baba boji yu\n"
     ]
    }
   ],
   "source": [
    "if __name__ == '__main__':\n",
    "    str1 = input('input string:\\n')\n",
    "    str2 = input('input string:\\n')\n",
    "    str3 = input('input string:\\n')\n",
    "    print (str1,str2,str3)\n",
    "    \n",
    "    if str1 > str2 : str1,str2 = str2,str1\n",
    "    if str1 > str3 : str1,str3 = str3,str1\n",
    "    if str2 > str3 : str2,str3 = str3,str2\n",
    " \n",
    "    print ('after being sorted.')\n",
    "    print (str1,str2,str3)"
   ]
  },
  {
   "cell_type": "code",
   "execution_count": 33,
   "metadata": {},
   "outputs": [
    {
     "name": "stdout",
     "output_type": "stream",
     "text": [
      "3121.0\n"
     ]
    }
   ],
   "source": [
    " \n",
    "if __name__ == '__main__':\n",
    "    i = 0\n",
    "    j = 1\n",
    "    x = 0\n",
    "    while (i < 5) :\n",
    "        x = 4 * j\n",
    "        for i in range(0,5) :\n",
    "            if(x%4 != 0) :\n",
    "                break\n",
    "            else :\n",
    "                i += 1\n",
    "            x = (x/4) * 5 +1\n",
    "        j += 1\n",
    "    print (x)"
   ]
  },
  {
   "cell_type": "code",
   "execution_count": 34,
   "metadata": {},
   "outputs": [
    {
     "name": "stdout",
     "output_type": "stream",
     "text": [
      "9708  = 800 *  12  + 9 *  12\n"
     ]
    }
   ],
   "source": [
    "a = 809\n",
    "for i in range(10,100):\n",
    "    b = i * a\n",
    "    if b >= 1000 and b <= 10000 and 8 * i < 100 and 9 * i >= 100:\n",
    "        print( b,' = 800 * ', i, ' + 9 * ', i)"
   ]
  },
  {
   "cell_type": "code",
   "execution_count": 37,
   "metadata": {},
   "outputs": [
    {
     "name": "stdin",
     "output_type": "stream",
     "text": [
      "input a octal number:\n",
      " 56\n"
     ]
    },
    {
     "name": "stdout",
     "output_type": "stream",
     "text": [
      "46\n"
     ]
    }
   ],
   "source": [
    "if __name__ == '__main__':\n",
    "    n = 0\n",
    "    p = input('input a octal number:\\n')\n",
    "    for i in range(len(p)):\n",
    "        n = n * 8 + ord(p[i]) - ord('0')\n",
    "    print (n)"
   ]
  },
  {
   "cell_type": "code",
   "execution_count": 39,
   "metadata": {},
   "outputs": [
    {
     "name": "stdout",
     "output_type": "stream",
     "text": [
      "4\n",
      "32\n",
      "256\n",
      "2048\n",
      "16384\n",
      "131072\n",
      "1048576\n",
      "sum = 8388608\n"
     ]
    }
   ],
   "source": [
    "if __name__ == '__main__':\n",
    "    sum = 4\n",
    "    s = 4\n",
    "    for j in range(2,9):\n",
    "        print (sum)\n",
    "        if j <= 2:\n",
    "            s *= 7\n",
    "        else:\n",
    "            s *= 8\n",
    "        sum += s\n",
    "    print ('sum = %d' % sum)"
   ]
  },
  {
   "cell_type": "code",
   "execution_count": 40,
   "metadata": {},
   "outputs": [
    {
     "name": "stdout",
     "output_type": "stream",
     "text": [
      "Brazil,Russia,India,China\n"
     ]
    }
   ],
   "source": [
    "delimiter = ','\n",
    "mylist = ['Brazil', 'Russia', 'India', 'China']\n",
    "print (delimiter.join(mylist))"
   ]
  },
  {
   "cell_type": "code",
   "execution_count": null,
   "metadata": {},
   "outputs": [],
   "source": [
    "if __name__ == '__main__':\n",
    "    zi = int(input('输入一个数字:\\n'))\n",
    "    n1 = 1\n",
    "    c9 = 1\n",
    "    m9 = 9\n",
    "    sum = 9\n",
    "    while n1 != 0:\n",
    "        if sum % zi == 0:\n",
    "            n1 = 0\n",
    "        else:\n",
    "            m9 *= 10\n",
    "            sum += m9\n",
    "            c9 += 1\n",
    "    print ('%d 个 9 可以被 %d 整除 : %d' % (c9,zi,sum))\n",
    "    r = sum / zi\n",
    "    print ('%d / %d = %d' % (sum,zi,r))"
   ]
  },
  {
   "cell_type": "code",
   "execution_count": 43,
   "metadata": {},
   "outputs": [
    {
     "name": "stdout",
     "output_type": "stream",
     "text": [
      "acegikmbdfhjlnpq\n"
     ]
    }
   ],
   "source": [
    "if __name__ == '__main__':\n",
    "    a = \"acegikm\"\n",
    "    b = \"bdfhjlnpq\"\n",
    " \n",
    "    # 连接字符串\n",
    "    c = a + b\n",
    "    print (c)"
   ]
  },
  {
   "cell_type": "code",
   "execution_count": 44,
   "metadata": {},
   "outputs": [
    {
     "name": "stdout",
     "output_type": "stream",
     "text": [
      "20 c\n"
     ]
    }
   ],
   "source": [
    "if __name__ == '__main__':\n",
    "    class student:\n",
    "        x = 0\n",
    "        c = 0\n",
    "    def f(stu):\n",
    "        stu.x = 20\n",
    "        stu.c = 'c'\n",
    "    a= student()\n",
    "    a.x = 3\n",
    "    a.c = 'a'\n",
    "    f(a)\n",
    "    print (a.x,a.c)"
   ]
  },
  {
   "cell_type": "markdown",
   "metadata": {},
   "source": [
    "##### if __name__ == '__main__':\n",
    "    n = 1\n",
    "    while n <= 7:\n",
    "        a = int(input('input a number:\\n'))\n",
    "        while a < 1 or a > 50:\n",
    "            a = int(input('input a number:\\n'))\n",
    "        print(a * '*')\n",
    "        n += 1"
   ]
  },
  {
   "cell_type": "code",
   "execution_count": 46,
   "metadata": {},
   "outputs": [
    {
     "ename": "IndentationError",
     "evalue": "unexpected indent (<ipython-input-46-5d0d3c261c46>, line 2)",
     "output_type": "error",
     "traceback": [
      "\u001b[1;36m  File \u001b[1;32m\"<ipython-input-46-5d0d3c261c46>\"\u001b[1;36m, line \u001b[1;32m2\u001b[0m\n\u001b[1;33m    while n <= 7:\u001b[0m\n\u001b[1;37m    ^\u001b[0m\n\u001b[1;31mIndentationError\u001b[0m\u001b[1;31m:\u001b[0m unexpected indent\n"
     ]
    }
   ],
   "source": [
    " n = 1\n",
    "    while n <= 7:\n",
    "        a = int(input('input a number:\\n'))\n",
    "        while a < 1 or a > 50:\n",
    "            a = int(input('input a number:\\n'))\n",
    "        print(a * '*')\n",
    "        n += 1"
   ]
  },
  {
   "cell_type": "code",
   "execution_count": 48,
   "metadata": {},
   "outputs": [
    {
     "name": "stdin",
     "output_type": "stream",
     "text": [
      "输入四个数字:\n",
      " 3245\n"
     ]
    },
    {
     "name": "stdout",
     "output_type": "stream",
     "text": [
      "09.57.458.245000000000001"
     ]
    }
   ],
   "source": [
    "from sys import stdout\n",
    "if __name__ == '__main__':\n",
    "    a = int(input('输入四个数字:\\n'))\n",
    "    aa = []\n",
    "    aa.append(a % 10)\n",
    "    aa.append(a % 100 / 10)\n",
    "    aa.append(a % 1000 / 100)\n",
    "    aa.append(a / 1000)\n",
    " \n",
    "    for i in range(4):\n",
    "        aa[i] += 5\n",
    "        aa[i] %= 10\n",
    "    for i in range(2):\n",
    "        aa[i],aa[3 - i] = aa[3 - i],aa[i]\n",
    "    for i in range(3,-1,-1):\n",
    "        stdout.write(str(aa[i]))"
   ]
  },
  {
   "cell_type": "code",
   "execution_count": 51,
   "metadata": {},
   "outputs": [
    {
     "name": "stdout",
     "output_type": "stream",
     "text": [
      "3\n",
      "['中国移动', [1, 2, 4, 5]]\n",
      "4\n",
      "i'm new here!\n",
      "中国移动\n",
      "3\n",
      "[10086, [1, 2, 4, 5], \"i'm new here!\"]\n",
      "[[1, 2, 3], [4, 5, 6], [7, 8, 9]]\n",
      "[4, 5, 6]\n",
      "[2, 5, 8]\n",
      "[2, 8]\n"
     ]
    }
   ],
   "source": [
    "testList=[10086,'中国移动',[1,2,4,5]]  \n",
    "  \n",
    "print (len(testList))\n",
    "\n",
    "print ( testList[1:] )\n",
    " \n",
    "testList.append('i\\'m new here!')  \n",
    "  \n",
    "print (len(testList) )\n",
    "print (testList[-1] )\n",
    "print (testList.pop(1))\n",
    "print (len(testList) ) \n",
    "print (testList )  \n",
    "matrix = [[1, 2, 3],  \n",
    "[4, 5, 6],  \n",
    "[7, 8, 9]]  \n",
    "print (matrix )\n",
    "print (matrix[1])  \n",
    "col2 = [row[1] for row in matrix]#get a  column from a matrix  \n",
    "print (col2 ) \n",
    "col2even = [row[1] for row in matrix if  row[1] % 2 == 0]#filter odd item  \n",
    "print (col2even)"
   ]
  },
  {
   "cell_type": "code",
   "execution_count": null,
   "metadata": {},
   "outputs": [],
   "source": []
  }
 ],
 "metadata": {
  "kernelspec": {
   "display_name": "Python 3",
   "language": "python",
   "name": "python3"
  },
  "language_info": {
   "codemirror_mode": {
    "name": "ipython",
    "version": 3
   },
   "file_extension": ".py",
   "mimetype": "text/x-python",
   "name": "python",
   "nbconvert_exporter": "python",
   "pygments_lexer": "ipython3",
   "version": "3.8.3"
  }
 },
 "nbformat": 4,
 "nbformat_minor": 4
}
