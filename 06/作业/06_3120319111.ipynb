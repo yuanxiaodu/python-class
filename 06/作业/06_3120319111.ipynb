{
 "cells": [
  {
   "cell_type": "code",
   "execution_count": 1,
   "metadata": {},
   "outputs": [
    {
     "name": "stdout",
     "output_type": "stream",
     "text": [
      "Hello python!\n"
     ]
    }
   ],
   "source": [
    "print('Hello python!')"
   ]
  },
  {
   "cell_type": "code",
   "execution_count": 2,
   "metadata": {},
   "outputs": [
    {
     "name": "stdout",
     "output_type": "stream",
     "text": [
      "Hello my future!\n"
     ]
    }
   ],
   "source": [
    "print(\"Hello my future!\")"
   ]
  },
  {
   "cell_type": "code",
   "execution_count": 3,
   "metadata": {},
   "outputs": [
    {
     "data": {
      "text/plain": [
       "['False',\n",
       " 'None',\n",
       " 'True',\n",
       " 'and',\n",
       " 'as',\n",
       " 'assert',\n",
       " 'async',\n",
       " 'await',\n",
       " 'break',\n",
       " 'class',\n",
       " 'continue',\n",
       " 'def',\n",
       " 'del',\n",
       " 'elif',\n",
       " 'else',\n",
       " 'except',\n",
       " 'finally',\n",
       " 'for',\n",
       " 'from',\n",
       " 'global',\n",
       " 'if',\n",
       " 'import',\n",
       " 'in',\n",
       " 'is',\n",
       " 'lambda',\n",
       " 'nonlocal',\n",
       " 'not',\n",
       " 'or',\n",
       " 'pass',\n",
       " 'raise',\n",
       " 'return',\n",
       " 'try',\n",
       " 'while',\n",
       " 'with',\n",
       " 'yield']"
      ]
     },
     "execution_count": 3,
     "metadata": {},
     "output_type": "execute_result"
    }
   ],
   "source": [
    "import keyword\n",
    "keyword.kwlist"
   ]
  },
  {
   "cell_type": "code",
   "execution_count": 4,
   "metadata": {},
   "outputs": [
    {
     "name": "stdout",
     "output_type": "stream",
     "text": [
      "Hens 200.0\n"
     ]
    }
   ],
   "source": [
    "print(\"Hens\",100+200/2)"
   ]
  },
  {
   "cell_type": "code",
   "execution_count": 5,
   "metadata": {},
   "outputs": [
    {
     "data": {
      "text/plain": [
       "True"
      ]
     },
     "execution_count": 5,
     "metadata": {},
     "output_type": "execute_result"
    }
   ],
   "source": [
    "2>=1"
   ]
  },
  {
   "cell_type": "code",
   "execution_count": 6,
   "metadata": {},
   "outputs": [
    {
     "data": {
      "text/plain": [
       "True"
      ]
     },
     "execution_count": 6,
     "metadata": {},
     "output_type": "execute_result"
    }
   ],
   "source": [
    "2==2"
   ]
  },
  {
   "cell_type": "code",
   "execution_count": 7,
   "metadata": {},
   "outputs": [
    {
     "data": {
      "text/plain": [
       "True"
      ]
     },
     "execution_count": 7,
     "metadata": {},
     "output_type": "execute_result"
    }
   ],
   "source": [
    "2<=2"
   ]
  },
  {
   "cell_type": "code",
   "execution_count": 8,
   "metadata": {},
   "outputs": [
    {
     "data": {
      "text/plain": [
       "False"
      ]
     },
     "execution_count": 8,
     "metadata": {},
     "output_type": "execute_result"
    }
   ],
   "source": [
    "2<=1"
   ]
  },
  {
   "cell_type": "code",
   "execution_count": 9,
   "metadata": {},
   "outputs": [],
   "source": [
    "my_name=\"张馨月\""
   ]
  },
  {
   "cell_type": "code",
   "execution_count": 10,
   "metadata": {},
   "outputs": [
    {
     "name": "stdout",
     "output_type": "stream",
     "text": [
      "my name is 张馨月\n"
     ]
    }
   ],
   "source": [
    "print(f\"my name is {my_name}\")"
   ]
  },
  {
   "cell_type": "code",
   "execution_count": 11,
   "metadata": {},
   "outputs": [],
   "source": [
    "my_age=23"
   ]
  },
  {
   "cell_type": "code",
   "execution_count": 12,
   "metadata": {},
   "outputs": [
    {
     "name": "stdout",
     "output_type": "stream",
     "text": [
      "my age is 23\n"
     ]
    }
   ],
   "source": [
    "print(f\"my age is {my_age}\")"
   ]
  },
  {
   "cell_type": "code",
   "execution_count": 13,
   "metadata": {},
   "outputs": [],
   "source": [
    "a=\"I love\""
   ]
  },
  {
   "cell_type": "code",
   "execution_count": 14,
   "metadata": {},
   "outputs": [],
   "source": [
    "b=\"you\""
   ]
  },
  {
   "cell_type": "code",
   "execution_count": 15,
   "metadata": {},
   "outputs": [
    {
     "name": "stdout",
     "output_type": "stream",
     "text": [
      "I loveyou\n"
     ]
    }
   ],
   "source": [
    "print(a+b)"
   ]
  },
  {
   "cell_type": "code",
   "execution_count": 16,
   "metadata": {},
   "outputs": [
    {
     "name": "stdout",
     "output_type": "stream",
     "text": [
      "my name is 张馨月\n"
     ]
    }
   ],
   "source": [
    "print(\"my name is {}\".format(\"张馨月\"))"
   ]
  },
  {
   "cell_type": "code",
   "execution_count": 17,
   "metadata": {},
   "outputs": [
    {
     "name": "stdout",
     "output_type": "stream",
     "text": [
      "my age is 23\n"
     ]
    }
   ],
   "source": [
    "print(\"my age is {}\".format(\"23\"))"
   ]
  },
  {
   "cell_type": "code",
   "execution_count": 18,
   "metadata": {},
   "outputs": [],
   "source": [
    "formatter=\"{} {} {}\""
   ]
  },
  {
   "cell_type": "code",
   "execution_count": 19,
   "metadata": {},
   "outputs": [
    {
     "name": "stdout",
     "output_type": "stream",
     "text": [
      "1 2 3\n"
     ]
    }
   ],
   "source": [
    "print(formatter.format(1,2,3))"
   ]
  },
  {
   "cell_type": "code",
   "execution_count": 20,
   "metadata": {},
   "outputs": [],
   "source": [
    "a=\"{} {}\""
   ]
  },
  {
   "cell_type": "code",
   "execution_count": 21,
   "metadata": {},
   "outputs": [
    {
     "name": "stdout",
     "output_type": "stream",
     "text": [
      "2 3\n"
     ]
    }
   ],
   "source": [
    "print(a.format(2,3))"
   ]
  },
  {
   "cell_type": "code",
   "execution_count": 22,
   "metadata": {},
   "outputs": [],
   "source": [
    "from sys import argv"
   ]
  },
  {
   "cell_type": "code",
   "execution_count": 23,
   "metadata": {},
   "outputs": [],
   "source": [
    "script,first,second=argv"
   ]
  },
  {
   "cell_type": "code",
   "execution_count": 24,
   "metadata": {},
   "outputs": [
    {
     "name": "stdout",
     "output_type": "stream",
     "text": [
      "This is called: C:\\Users\\hp\\anaconda3\\lib\\site-packages\\ipykernel_launcher.py\n"
     ]
    }
   ],
   "source": [
    "print(\"This is called:\",script)"
   ]
  },
  {
   "cell_type": "code",
   "execution_count": 25,
   "metadata": {},
   "outputs": [
    {
     "name": "stdout",
     "output_type": "stream",
     "text": [
      "your first variable is: -f\n"
     ]
    }
   ],
   "source": [
    "print('your first variable is:',first)"
   ]
  },
  {
   "cell_type": "code",
   "execution_count": 26,
   "metadata": {},
   "outputs": [
    {
     "name": "stdout",
     "output_type": "stream",
     "text": [
      "your second variable is: C:\\Users\\hp\\AppData\\Roaming\\jupyter\\runtime\\kernel-500ef8fd-05d2-4ade-9033-64251d560803.json\n"
     ]
    }
   ],
   "source": [
    "print(\"your second variable is:\",second)"
   ]
  },
  {
   "cell_type": "code",
   "execution_count": 27,
   "metadata": {},
   "outputs": [],
   "source": [
    "import pandas as pd"
   ]
  },
  {
   "cell_type": "code",
   "execution_count": 28,
   "metadata": {},
   "outputs": [],
   "source": [
    "csv=pd.read_csv('Desktop/movie_comments.csv')"
   ]
  },
  {
   "cell_type": "code",
   "execution_count": 29,
   "metadata": {},
   "outputs": [
    {
     "data": {
      "text/html": [
       "<div>\n",
       "<style scoped>\n",
       "    .dataframe tbody tr th:only-of-type {\n",
       "        vertical-align: middle;\n",
       "    }\n",
       "\n",
       "    .dataframe tbody tr th {\n",
       "        vertical-align: top;\n",
       "    }\n",
       "\n",
       "    .dataframe thead th {\n",
       "        text-align: right;\n",
       "    }\n",
       "</style>\n",
       "<table border=\"1\" class=\"dataframe\">\n",
       "  <thead>\n",
       "    <tr style=\"text-align: right;\">\n",
       "      <th></th>\n",
       "      <th>date</th>\n",
       "      <th>name</th>\n",
       "      <th>seen</th>\n",
       "      <th>star</th>\n",
       "      <th>text</th>\n",
       "      <th>votes</th>\n",
       "    </tr>\n",
       "  </thead>\n",
       "  <tbody>\n",
       "    <tr>\n",
       "      <th>0</th>\n",
       "      <td>2020-12-17 12:31:55</td>\n",
       "      <td>阿暖</td>\n",
       "      <td>看过</td>\n",
       "      <td>4</td>\n",
       "      <td>最意外的是，在这个故事里竟然看到某种波伏娃式的冷酷与绝望——一个完美女性可以拥有一切，美貌，...</td>\n",
       "      <td>2321</td>\n",
       "    </tr>\n",
       "    <tr>\n",
       "      <th>1</th>\n",
       "      <td>2020-12-10 13:32:24</td>\n",
       "      <td>豆蔻年华</td>\n",
       "      <td>看过</td>\n",
       "      <td>1</td>\n",
       "      <td>打斗戏太拉胯，根本没法看。广场舞都比她更有力度，土味视频都比她有演技。</td>\n",
       "      <td>456</td>\n",
       "    </tr>\n",
       "    <tr>\n",
       "      <th>2</th>\n",
       "      <td>2020-12-18 02:27:55</td>\n",
       "      <td>#cenotaph#</td>\n",
       "      <td>看过</td>\n",
       "      <td>2</td>\n",
       "      <td>野猫大战卷帘门</td>\n",
       "      <td>2147</td>\n",
       "    </tr>\n",
       "    <tr>\n",
       "      <th>3</th>\n",
       "      <td>2020-12-14 18:25:00</td>\n",
       "      <td>天马星</td>\n",
       "      <td>看过</td>\n",
       "      <td>5</td>\n",
       "      <td>二刷激光IMAX后依旧确信《神奇女侠1984》是我今年最爱的院线片，原因有二。一是延续了DC...</td>\n",
       "      <td>1025</td>\n",
       "    </tr>\n",
       "    <tr>\n",
       "      <th>4</th>\n",
       "      <td>2020-12-18 02:57:23</td>\n",
       "      <td>Lynchman</td>\n",
       "      <td>看过</td>\n",
       "      <td>3</td>\n",
       "      <td>《请回答1984：如果川普统治世界》</td>\n",
       "      <td>3613</td>\n",
       "    </tr>\n",
       "    <tr>\n",
       "      <th>...</th>\n",
       "      <td>...</td>\n",
       "      <td>...</td>\n",
       "      <td>...</td>\n",
       "      <td>...</td>\n",
       "      <td>...</td>\n",
       "      <td>...</td>\n",
       "    </tr>\n",
       "    <tr>\n",
       "      <th>495</th>\n",
       "      <td>2020-12-19 20:22:36</td>\n",
       "      <td>46562002</td>\n",
       "      <td>看过</td>\n",
       "      <td>2</td>\n",
       "      <td>1~正如女侠第一部时，说过的，盖尔加朵加盟DC就是人生最大的失败…\\n2~DC在新世纪，就根...</td>\n",
       "      <td>0</td>\n",
       "    </tr>\n",
       "    <tr>\n",
       "      <th>496</th>\n",
       "      <td>2020-12-22 18:42:21</td>\n",
       "      <td>Maxthor</td>\n",
       "      <td>看过</td>\n",
       "      <td>4</td>\n",
       "      <td>四星不足三星有余，Patty Jenkins的动作戏份还是没有想象中的精彩，对足够的特效支持...</td>\n",
       "      <td>0</td>\n",
       "    </tr>\n",
       "    <tr>\n",
       "      <th>497</th>\n",
       "      <td>2020-12-21 10:48:29</td>\n",
       "      <td>西老米</td>\n",
       "      <td>看过</td>\n",
       "      <td>4</td>\n",
       "      <td>还行啊，评分有点低了啊</td>\n",
       "      <td>0</td>\n",
       "    </tr>\n",
       "    <tr>\n",
       "      <th>498</th>\n",
       "      <td>2020-12-20 23:26:40</td>\n",
       "      <td>Clefairy</td>\n",
       "      <td>看过</td>\n",
       "      <td>2</td>\n",
       "      <td>我还真挺少打两星的。第一次有让我在电影院想弃了的电影。如坐针毡，满头问号。美貌没有发挥。逻辑不洽。</td>\n",
       "      <td>0</td>\n",
       "    </tr>\n",
       "    <tr>\n",
       "      <th>499</th>\n",
       "      <td>2020-12-20 23:52:52</td>\n",
       "      <td>リンカ</td>\n",
       "      <td>看过</td>\n",
       "      <td>4</td>\n",
       "      <td>剧情比较老套，但做抉择的时候还是很心痛就是了……小朋友真是可怜，经历这么多破事儿，就算最后h...</td>\n",
       "      <td>0</td>\n",
       "    </tr>\n",
       "  </tbody>\n",
       "</table>\n",
       "<p>500 rows × 6 columns</p>\n",
       "</div>"
      ],
      "text/plain": [
       "                    date        name seen  star  \\\n",
       "0    2020-12-17 12:31:55          阿暖   看过     4   \n",
       "1    2020-12-10 13:32:24        豆蔻年华   看过     1   \n",
       "2    2020-12-18 02:27:55  #cenotaph#   看过     2   \n",
       "3    2020-12-14 18:25:00         天马星   看过     5   \n",
       "4    2020-12-18 02:57:23    Lynchman   看过     3   \n",
       "..                   ...         ...  ...   ...   \n",
       "495  2020-12-19 20:22:36    46562002   看过     2   \n",
       "496  2020-12-22 18:42:21     Maxthor   看过     4   \n",
       "497  2020-12-21 10:48:29         西老米   看过     4   \n",
       "498  2020-12-20 23:26:40    Clefairy   看过     2   \n",
       "499  2020-12-20 23:52:52         リンカ   看过     4   \n",
       "\n",
       "                                                  text  votes  \n",
       "0    最意外的是，在这个故事里竟然看到某种波伏娃式的冷酷与绝望——一个完美女性可以拥有一切，美貌，...   2321  \n",
       "1                  打斗戏太拉胯，根本没法看。广场舞都比她更有力度，土味视频都比她有演技。    456  \n",
       "2                                              野猫大战卷帘门   2147  \n",
       "3    二刷激光IMAX后依旧确信《神奇女侠1984》是我今年最爱的院线片，原因有二。一是延续了DC...   1025  \n",
       "4                                   《请回答1984：如果川普统治世界》   3613  \n",
       "..                                                 ...    ...  \n",
       "495  1~正如女侠第一部时，说过的，盖尔加朵加盟DC就是人生最大的失败…\\n2~DC在新世纪，就根...      0  \n",
       "496  四星不足三星有余，Patty Jenkins的动作戏份还是没有想象中的精彩，对足够的特效支持...      0  \n",
       "497                                        还行啊，评分有点低了啊      0  \n",
       "498  我还真挺少打两星的。第一次有让我在电影院想弃了的电影。如坐针毡，满头问号。美貌没有发挥。逻辑不洽。      0  \n",
       "499  剧情比较老套，但做抉择的时候还是很心痛就是了……小朋友真是可怜，经历这么多破事儿，就算最后h...      0  \n",
       "\n",
       "[500 rows x 6 columns]"
      ]
     },
     "execution_count": 29,
     "metadata": {},
     "output_type": "execute_result"
    }
   ],
   "source": [
    "csv"
   ]
  },
  {
   "cell_type": "code",
   "execution_count": 30,
   "metadata": {},
   "outputs": [
    {
     "data": {
      "text/html": [
       "<div>\n",
       "<style scoped>\n",
       "    .dataframe tbody tr th:only-of-type {\n",
       "        vertical-align: middle;\n",
       "    }\n",
       "\n",
       "    .dataframe tbody tr th {\n",
       "        vertical-align: top;\n",
       "    }\n",
       "\n",
       "    .dataframe thead th {\n",
       "        text-align: right;\n",
       "    }\n",
       "</style>\n",
       "<table border=\"1\" class=\"dataframe\">\n",
       "  <thead>\n",
       "    <tr style=\"text-align: right;\">\n",
       "      <th></th>\n",
       "      <th>date</th>\n",
       "      <th>name</th>\n",
       "      <th>seen</th>\n",
       "      <th>star</th>\n",
       "      <th>text</th>\n",
       "      <th>votes</th>\n",
       "    </tr>\n",
       "  </thead>\n",
       "  <tbody>\n",
       "    <tr>\n",
       "      <th>0</th>\n",
       "      <td>2020-12-17 12:31:55</td>\n",
       "      <td>阿暖</td>\n",
       "      <td>看过</td>\n",
       "      <td>4</td>\n",
       "      <td>最意外的是，在这个故事里竟然看到某种波伏娃式的冷酷与绝望——一个完美女性可以拥有一切，美貌，...</td>\n",
       "      <td>2321</td>\n",
       "    </tr>\n",
       "    <tr>\n",
       "      <th>1</th>\n",
       "      <td>2020-12-10 13:32:24</td>\n",
       "      <td>豆蔻年华</td>\n",
       "      <td>看过</td>\n",
       "      <td>1</td>\n",
       "      <td>打斗戏太拉胯，根本没法看。广场舞都比她更有力度，土味视频都比她有演技。</td>\n",
       "      <td>456</td>\n",
       "    </tr>\n",
       "    <tr>\n",
       "      <th>2</th>\n",
       "      <td>2020-12-18 02:27:55</td>\n",
       "      <td>#cenotaph#</td>\n",
       "      <td>看过</td>\n",
       "      <td>2</td>\n",
       "      <td>野猫大战卷帘门</td>\n",
       "      <td>2147</td>\n",
       "    </tr>\n",
       "    <tr>\n",
       "      <th>3</th>\n",
       "      <td>2020-12-14 18:25:00</td>\n",
       "      <td>天马星</td>\n",
       "      <td>看过</td>\n",
       "      <td>5</td>\n",
       "      <td>二刷激光IMAX后依旧确信《神奇女侠1984》是我今年最爱的院线片，原因有二。一是延续了DC...</td>\n",
       "      <td>1025</td>\n",
       "    </tr>\n",
       "    <tr>\n",
       "      <th>4</th>\n",
       "      <td>2020-12-18 02:57:23</td>\n",
       "      <td>Lynchman</td>\n",
       "      <td>看过</td>\n",
       "      <td>3</td>\n",
       "      <td>《请回答1984：如果川普统治世界》</td>\n",
       "      <td>3613</td>\n",
       "    </tr>\n",
       "  </tbody>\n",
       "</table>\n",
       "</div>"
      ],
      "text/plain": [
       "                  date        name seen  star  \\\n",
       "0  2020-12-17 12:31:55          阿暖   看过     4   \n",
       "1  2020-12-10 13:32:24        豆蔻年华   看过     1   \n",
       "2  2020-12-18 02:27:55  #cenotaph#   看过     2   \n",
       "3  2020-12-14 18:25:00         天马星   看过     5   \n",
       "4  2020-12-18 02:57:23    Lynchman   看过     3   \n",
       "\n",
       "                                                text  votes  \n",
       "0  最意外的是，在这个故事里竟然看到某种波伏娃式的冷酷与绝望——一个完美女性可以拥有一切，美貌，...   2321  \n",
       "1                打斗戏太拉胯，根本没法看。广场舞都比她更有力度，土味视频都比她有演技。    456  \n",
       "2                                            野猫大战卷帘门   2147  \n",
       "3  二刷激光IMAX后依旧确信《神奇女侠1984》是我今年最爱的院线片，原因有二。一是延续了DC...   1025  \n",
       "4                                 《请回答1984：如果川普统治世界》   3613  "
      ]
     },
     "execution_count": 30,
     "metadata": {},
     "output_type": "execute_result"
    }
   ],
   "source": [
    "csv.head()"
   ]
  },
  {
   "cell_type": "code",
   "execution_count": 31,
   "metadata": {},
   "outputs": [
    {
     "data": {
      "text/html": [
       "<div>\n",
       "<style scoped>\n",
       "    .dataframe tbody tr th:only-of-type {\n",
       "        vertical-align: middle;\n",
       "    }\n",
       "\n",
       "    .dataframe tbody tr th {\n",
       "        vertical-align: top;\n",
       "    }\n",
       "\n",
       "    .dataframe thead th {\n",
       "        text-align: right;\n",
       "    }\n",
       "</style>\n",
       "<table border=\"1\" class=\"dataframe\">\n",
       "  <thead>\n",
       "    <tr style=\"text-align: right;\">\n",
       "      <th></th>\n",
       "      <th>date</th>\n",
       "      <th>name</th>\n",
       "      <th>seen</th>\n",
       "      <th>star</th>\n",
       "      <th>text</th>\n",
       "      <th>votes</th>\n",
       "    </tr>\n",
       "  </thead>\n",
       "  <tbody>\n",
       "    <tr>\n",
       "      <th>499</th>\n",
       "      <td>2020-12-20 23:52:52</td>\n",
       "      <td>リンカ</td>\n",
       "      <td>看过</td>\n",
       "      <td>4</td>\n",
       "      <td>剧情比较老套，但做抉择的时候还是很心痛就是了……小朋友真是可怜，经历这么多破事儿，就算最后h...</td>\n",
       "      <td>0</td>\n",
       "    </tr>\n",
       "  </tbody>\n",
       "</table>\n",
       "</div>"
      ],
      "text/plain": [
       "                    date name seen  star  \\\n",
       "499  2020-12-20 23:52:52  リンカ   看过     4   \n",
       "\n",
       "                                                  text  votes  \n",
       "499  剧情比较老套，但做抉择的时候还是很心痛就是了……小朋友真是可怜，经历这么多破事儿，就算最后h...      0  "
      ]
     },
     "execution_count": 31,
     "metadata": {},
     "output_type": "execute_result"
    }
   ],
   "source": [
    "csv.tail(1)"
   ]
  },
  {
   "cell_type": "code",
   "execution_count": 32,
   "metadata": {},
   "outputs": [
    {
     "data": {
      "text/html": [
       "<div>\n",
       "<style scoped>\n",
       "    .dataframe tbody tr th:only-of-type {\n",
       "        vertical-align: middle;\n",
       "    }\n",
       "\n",
       "    .dataframe tbody tr th {\n",
       "        vertical-align: top;\n",
       "    }\n",
       "\n",
       "    .dataframe thead th {\n",
       "        text-align: right;\n",
       "    }\n",
       "</style>\n",
       "<table border=\"1\" class=\"dataframe\">\n",
       "  <thead>\n",
       "    <tr style=\"text-align: right;\">\n",
       "      <th></th>\n",
       "      <th>date</th>\n",
       "      <th>name</th>\n",
       "      <th>seen</th>\n",
       "      <th>star</th>\n",
       "      <th>text</th>\n",
       "      <th>votes</th>\n",
       "    </tr>\n",
       "  </thead>\n",
       "  <tbody>\n",
       "    <tr>\n",
       "      <th>498</th>\n",
       "      <td>2020-12-20 23:26:40</td>\n",
       "      <td>Clefairy</td>\n",
       "      <td>看过</td>\n",
       "      <td>2</td>\n",
       "      <td>我还真挺少打两星的。第一次有让我在电影院想弃了的电影。如坐针毡，满头问号。美貌没有发挥。逻辑不洽。</td>\n",
       "      <td>0</td>\n",
       "    </tr>\n",
       "    <tr>\n",
       "      <th>499</th>\n",
       "      <td>2020-12-20 23:52:52</td>\n",
       "      <td>リンカ</td>\n",
       "      <td>看过</td>\n",
       "      <td>4</td>\n",
       "      <td>剧情比较老套，但做抉择的时候还是很心痛就是了……小朋友真是可怜，经历这么多破事儿，就算最后h...</td>\n",
       "      <td>0</td>\n",
       "    </tr>\n",
       "  </tbody>\n",
       "</table>\n",
       "</div>"
      ],
      "text/plain": [
       "                    date      name seen  star  \\\n",
       "498  2020-12-20 23:26:40  Clefairy   看过     2   \n",
       "499  2020-12-20 23:52:52       リンカ   看过     4   \n",
       "\n",
       "                                                  text  votes  \n",
       "498  我还真挺少打两星的。第一次有让我在电影院想弃了的电影。如坐针毡，满头问号。美貌没有发挥。逻辑不洽。      0  \n",
       "499  剧情比较老套，但做抉择的时候还是很心痛就是了……小朋友真是可怜，经历这么多破事儿，就算最后h...      0  "
      ]
     },
     "execution_count": 32,
     "metadata": {},
     "output_type": "execute_result"
    }
   ],
   "source": [
    "csv.tail(2)"
   ]
  },
  {
   "cell_type": "code",
   "execution_count": 33,
   "metadata": {},
   "outputs": [
    {
     "data": {
      "text/html": [
       "<div>\n",
       "<style scoped>\n",
       "    .dataframe tbody tr th:only-of-type {\n",
       "        vertical-align: middle;\n",
       "    }\n",
       "\n",
       "    .dataframe tbody tr th {\n",
       "        vertical-align: top;\n",
       "    }\n",
       "\n",
       "    .dataframe thead th {\n",
       "        text-align: right;\n",
       "    }\n",
       "</style>\n",
       "<table border=\"1\" class=\"dataframe\">\n",
       "  <thead>\n",
       "    <tr style=\"text-align: right;\">\n",
       "      <th></th>\n",
       "      <th>date</th>\n",
       "      <th>name</th>\n",
       "      <th>seen</th>\n",
       "      <th>star</th>\n",
       "      <th>text</th>\n",
       "      <th>votes</th>\n",
       "    </tr>\n",
       "  </thead>\n",
       "  <tbody>\n",
       "    <tr>\n",
       "      <th>497</th>\n",
       "      <td>2020-12-21 10:48:29</td>\n",
       "      <td>西老米</td>\n",
       "      <td>看过</td>\n",
       "      <td>4</td>\n",
       "      <td>还行啊，评分有点低了啊</td>\n",
       "      <td>0</td>\n",
       "    </tr>\n",
       "    <tr>\n",
       "      <th>498</th>\n",
       "      <td>2020-12-20 23:26:40</td>\n",
       "      <td>Clefairy</td>\n",
       "      <td>看过</td>\n",
       "      <td>2</td>\n",
       "      <td>我还真挺少打两星的。第一次有让我在电影院想弃了的电影。如坐针毡，满头问号。美貌没有发挥。逻辑不洽。</td>\n",
       "      <td>0</td>\n",
       "    </tr>\n",
       "    <tr>\n",
       "      <th>499</th>\n",
       "      <td>2020-12-20 23:52:52</td>\n",
       "      <td>リンカ</td>\n",
       "      <td>看过</td>\n",
       "      <td>4</td>\n",
       "      <td>剧情比较老套，但做抉择的时候还是很心痛就是了……小朋友真是可怜，经历这么多破事儿，就算最后h...</td>\n",
       "      <td>0</td>\n",
       "    </tr>\n",
       "  </tbody>\n",
       "</table>\n",
       "</div>"
      ],
      "text/plain": [
       "                    date      name seen  star  \\\n",
       "497  2020-12-21 10:48:29       西老米   看过     4   \n",
       "498  2020-12-20 23:26:40  Clefairy   看过     2   \n",
       "499  2020-12-20 23:52:52       リンカ   看过     4   \n",
       "\n",
       "                                                  text  votes  \n",
       "497                                        还行啊，评分有点低了啊      0  \n",
       "498  我还真挺少打两星的。第一次有让我在电影院想弃了的电影。如坐针毡，满头问号。美貌没有发挥。逻辑不洽。      0  \n",
       "499  剧情比较老套，但做抉择的时候还是很心痛就是了……小朋友真是可怜，经历这么多破事儿，就算最后h...      0  "
      ]
     },
     "execution_count": 33,
     "metadata": {},
     "output_type": "execute_result"
    }
   ],
   "source": [
    "csv.tail(3)"
   ]
  },
  {
   "cell_type": "code",
   "execution_count": 34,
   "metadata": {},
   "outputs": [
    {
     "data": {
      "text/plain": [
       "RangeIndex(start=0, stop=500, step=1)"
      ]
     },
     "execution_count": 34,
     "metadata": {},
     "output_type": "execute_result"
    }
   ],
   "source": [
    "csv.index"
   ]
  },
  {
   "cell_type": "code",
   "execution_count": 35,
   "metadata": {},
   "outputs": [
    {
     "data": {
      "text/plain": [
       "Index(['date', 'name', 'seen', 'star', 'text', 'votes'], dtype='object')"
      ]
     },
     "execution_count": 35,
     "metadata": {},
     "output_type": "execute_result"
    }
   ],
   "source": [
    "csv.columns"
   ]
  },
  {
   "cell_type": "code",
   "execution_count": 36,
   "metadata": {},
   "outputs": [
    {
     "data": {
      "text/html": [
       "<div>\n",
       "<style scoped>\n",
       "    .dataframe tbody tr th:only-of-type {\n",
       "        vertical-align: middle;\n",
       "    }\n",
       "\n",
       "    .dataframe tbody tr th {\n",
       "        vertical-align: top;\n",
       "    }\n",
       "\n",
       "    .dataframe thead th {\n",
       "        text-align: right;\n",
       "    }\n",
       "</style>\n",
       "<table border=\"1\" class=\"dataframe\">\n",
       "  <thead>\n",
       "    <tr style=\"text-align: right;\">\n",
       "      <th></th>\n",
       "      <th>star</th>\n",
       "      <th>votes</th>\n",
       "    </tr>\n",
       "  </thead>\n",
       "  <tbody>\n",
       "    <tr>\n",
       "      <th>count</th>\n",
       "      <td>500.000000</td>\n",
       "      <td>500.000000</td>\n",
       "    </tr>\n",
       "    <tr>\n",
       "      <th>mean</th>\n",
       "      <td>3.192000</td>\n",
       "      <td>61.334000</td>\n",
       "    </tr>\n",
       "    <tr>\n",
       "      <th>std</th>\n",
       "      <td>1.185727</td>\n",
       "      <td>284.473726</td>\n",
       "    </tr>\n",
       "    <tr>\n",
       "      <th>min</th>\n",
       "      <td>0.000000</td>\n",
       "      <td>0.000000</td>\n",
       "    </tr>\n",
       "    <tr>\n",
       "      <th>25%</th>\n",
       "      <td>2.000000</td>\n",
       "      <td>1.000000</td>\n",
       "    </tr>\n",
       "    <tr>\n",
       "      <th>50%</th>\n",
       "      <td>3.000000</td>\n",
       "      <td>3.000000</td>\n",
       "    </tr>\n",
       "    <tr>\n",
       "      <th>75%</th>\n",
       "      <td>4.000000</td>\n",
       "      <td>10.000000</td>\n",
       "    </tr>\n",
       "    <tr>\n",
       "      <th>max</th>\n",
       "      <td>5.000000</td>\n",
       "      <td>3613.000000</td>\n",
       "    </tr>\n",
       "  </tbody>\n",
       "</table>\n",
       "</div>"
      ],
      "text/plain": [
       "             star        votes\n",
       "count  500.000000   500.000000\n",
       "mean     3.192000    61.334000\n",
       "std      1.185727   284.473726\n",
       "min      0.000000     0.000000\n",
       "25%      2.000000     1.000000\n",
       "50%      3.000000     3.000000\n",
       "75%      4.000000    10.000000\n",
       "max      5.000000  3613.000000"
      ]
     },
     "execution_count": 36,
     "metadata": {},
     "output_type": "execute_result"
    }
   ],
   "source": [
    "csv.describe()"
   ]
  },
  {
   "cell_type": "code",
   "execution_count": 37,
   "metadata": {},
   "outputs": [
    {
     "data": {
      "text/html": [
       "<div>\n",
       "<style scoped>\n",
       "    .dataframe tbody tr th:only-of-type {\n",
       "        vertical-align: middle;\n",
       "    }\n",
       "\n",
       "    .dataframe tbody tr th {\n",
       "        vertical-align: top;\n",
       "    }\n",
       "\n",
       "    .dataframe thead th {\n",
       "        text-align: right;\n",
       "    }\n",
       "</style>\n",
       "<table border=\"1\" class=\"dataframe\">\n",
       "  <thead>\n",
       "    <tr style=\"text-align: right;\">\n",
       "      <th></th>\n",
       "      <th>date</th>\n",
       "      <th>name</th>\n",
       "      <th>seen</th>\n",
       "      <th>star</th>\n",
       "      <th>text</th>\n",
       "      <th>votes</th>\n",
       "    </tr>\n",
       "  </thead>\n",
       "  <tbody>\n",
       "    <tr>\n",
       "      <th>0</th>\n",
       "      <td>2020-12-17 12:31:55</td>\n",
       "      <td>阿暖</td>\n",
       "      <td>看过</td>\n",
       "      <td>4</td>\n",
       "      <td>最意外的是，在这个故事里竟然看到某种波伏娃式的冷酷与绝望——一个完美女性可以拥有一切，美貌，...</td>\n",
       "      <td>2321</td>\n",
       "    </tr>\n",
       "    <tr>\n",
       "      <th>1</th>\n",
       "      <td>2020-12-10 13:32:24</td>\n",
       "      <td>豆蔻年华</td>\n",
       "      <td>看过</td>\n",
       "      <td>1</td>\n",
       "      <td>打斗戏太拉胯，根本没法看。广场舞都比她更有力度，土味视频都比她有演技。</td>\n",
       "      <td>456</td>\n",
       "    </tr>\n",
       "    <tr>\n",
       "      <th>2</th>\n",
       "      <td>2020-12-18 02:27:55</td>\n",
       "      <td>#cenotaph#</td>\n",
       "      <td>看过</td>\n",
       "      <td>2</td>\n",
       "      <td>野猫大战卷帘门</td>\n",
       "      <td>2147</td>\n",
       "    </tr>\n",
       "    <tr>\n",
       "      <th>3</th>\n",
       "      <td>2020-12-14 18:25:00</td>\n",
       "      <td>天马星</td>\n",
       "      <td>看过</td>\n",
       "      <td>5</td>\n",
       "      <td>二刷激光IMAX后依旧确信《神奇女侠1984》是我今年最爱的院线片，原因有二。一是延续了DC...</td>\n",
       "      <td>1025</td>\n",
       "    </tr>\n",
       "    <tr>\n",
       "      <th>4</th>\n",
       "      <td>2020-12-18 02:57:23</td>\n",
       "      <td>Lynchman</td>\n",
       "      <td>看过</td>\n",
       "      <td>3</td>\n",
       "      <td>《请回答1984：如果川普统治世界》</td>\n",
       "      <td>3613</td>\n",
       "    </tr>\n",
       "    <tr>\n",
       "      <th>...</th>\n",
       "      <td>...</td>\n",
       "      <td>...</td>\n",
       "      <td>...</td>\n",
       "      <td>...</td>\n",
       "      <td>...</td>\n",
       "      <td>...</td>\n",
       "    </tr>\n",
       "    <tr>\n",
       "      <th>495</th>\n",
       "      <td>2020-12-19 20:22:36</td>\n",
       "      <td>46562002</td>\n",
       "      <td>看过</td>\n",
       "      <td>2</td>\n",
       "      <td>1~正如女侠第一部时，说过的，盖尔加朵加盟DC就是人生最大的失败…\\n2~DC在新世纪，就根...</td>\n",
       "      <td>0</td>\n",
       "    </tr>\n",
       "    <tr>\n",
       "      <th>496</th>\n",
       "      <td>2020-12-22 18:42:21</td>\n",
       "      <td>Maxthor</td>\n",
       "      <td>看过</td>\n",
       "      <td>4</td>\n",
       "      <td>四星不足三星有余，Patty Jenkins的动作戏份还是没有想象中的精彩，对足够的特效支持...</td>\n",
       "      <td>0</td>\n",
       "    </tr>\n",
       "    <tr>\n",
       "      <th>497</th>\n",
       "      <td>2020-12-21 10:48:29</td>\n",
       "      <td>西老米</td>\n",
       "      <td>看过</td>\n",
       "      <td>4</td>\n",
       "      <td>还行啊，评分有点低了啊</td>\n",
       "      <td>0</td>\n",
       "    </tr>\n",
       "    <tr>\n",
       "      <th>498</th>\n",
       "      <td>2020-12-20 23:26:40</td>\n",
       "      <td>Clefairy</td>\n",
       "      <td>看过</td>\n",
       "      <td>2</td>\n",
       "      <td>我还真挺少打两星的。第一次有让我在电影院想弃了的电影。如坐针毡，满头问号。美貌没有发挥。逻辑不洽。</td>\n",
       "      <td>0</td>\n",
       "    </tr>\n",
       "    <tr>\n",
       "      <th>499</th>\n",
       "      <td>2020-12-20 23:52:52</td>\n",
       "      <td>リンカ</td>\n",
       "      <td>看过</td>\n",
       "      <td>4</td>\n",
       "      <td>剧情比较老套，但做抉择的时候还是很心痛就是了……小朋友真是可怜，经历这么多破事儿，就算最后h...</td>\n",
       "      <td>0</td>\n",
       "    </tr>\n",
       "  </tbody>\n",
       "</table>\n",
       "<p>500 rows × 6 columns</p>\n",
       "</div>"
      ],
      "text/plain": [
       "                    date        name seen  star  \\\n",
       "0    2020-12-17 12:31:55          阿暖   看过     4   \n",
       "1    2020-12-10 13:32:24        豆蔻年华   看过     1   \n",
       "2    2020-12-18 02:27:55  #cenotaph#   看过     2   \n",
       "3    2020-12-14 18:25:00         天马星   看过     5   \n",
       "4    2020-12-18 02:57:23    Lynchman   看过     3   \n",
       "..                   ...         ...  ...   ...   \n",
       "495  2020-12-19 20:22:36    46562002   看过     2   \n",
       "496  2020-12-22 18:42:21     Maxthor   看过     4   \n",
       "497  2020-12-21 10:48:29         西老米   看过     4   \n",
       "498  2020-12-20 23:26:40    Clefairy   看过     2   \n",
       "499  2020-12-20 23:52:52         リンカ   看过     4   \n",
       "\n",
       "                                                  text  votes  \n",
       "0    最意外的是，在这个故事里竟然看到某种波伏娃式的冷酷与绝望——一个完美女性可以拥有一切，美貌，...   2321  \n",
       "1                  打斗戏太拉胯，根本没法看。广场舞都比她更有力度，土味视频都比她有演技。    456  \n",
       "2                                              野猫大战卷帘门   2147  \n",
       "3    二刷激光IMAX后依旧确信《神奇女侠1984》是我今年最爱的院线片，原因有二。一是延续了DC...   1025  \n",
       "4                                   《请回答1984：如果川普统治世界》   3613  \n",
       "..                                                 ...    ...  \n",
       "495  1~正如女侠第一部时，说过的，盖尔加朵加盟DC就是人生最大的失败…\\n2~DC在新世纪，就根...      0  \n",
       "496  四星不足三星有余，Patty Jenkins的动作戏份还是没有想象中的精彩，对足够的特效支持...      0  \n",
       "497                                        还行啊，评分有点低了啊      0  \n",
       "498  我还真挺少打两星的。第一次有让我在电影院想弃了的电影。如坐针毡，满头问号。美貌没有发挥。逻辑不洽。      0  \n",
       "499  剧情比较老套，但做抉择的时候还是很心痛就是了……小朋友真是可怜，经历这么多破事儿，就算最后h...      0  \n",
       "\n",
       "[500 rows x 6 columns]"
      ]
     },
     "execution_count": 37,
     "metadata": {},
     "output_type": "execute_result"
    }
   ],
   "source": [
    "csv.sort_index()"
   ]
  },
  {
   "cell_type": "code",
   "execution_count": 38,
   "metadata": {},
   "outputs": [
    {
     "data": {
      "text/html": [
       "<div>\n",
       "<style scoped>\n",
       "    .dataframe tbody tr th:only-of-type {\n",
       "        vertical-align: middle;\n",
       "    }\n",
       "\n",
       "    .dataframe tbody tr th {\n",
       "        vertical-align: top;\n",
       "    }\n",
       "\n",
       "    .dataframe thead th {\n",
       "        text-align: right;\n",
       "    }\n",
       "</style>\n",
       "<table border=\"1\" class=\"dataframe\">\n",
       "  <thead>\n",
       "    <tr style=\"text-align: right;\">\n",
       "      <th></th>\n",
       "      <th>date</th>\n",
       "      <th>name</th>\n",
       "      <th>seen</th>\n",
       "      <th>star</th>\n",
       "      <th>text</th>\n",
       "      <th>votes</th>\n",
       "    </tr>\n",
       "  </thead>\n",
       "  <tbody>\n",
       "    <tr>\n",
       "      <th>56</th>\n",
       "      <td>2020-12-18 08:12:33</td>\n",
       "      <td>技术原因</td>\n",
       "      <td>看过</td>\n",
       "      <td>2</td>\n",
       "      <td>\\n《神奇女侠2:DC已死》\\n</td>\n",
       "      <td>167</td>\n",
       "    </tr>\n",
       "    <tr>\n",
       "      <th>416</th>\n",
       "      <td>2020-12-18 21:42:20</td>\n",
       "      <td>丙酮</td>\n",
       "      <td>看过</td>\n",
       "      <td>5</td>\n",
       "      <td>ww吻别steve后迅速转身，流着泪放弃愿望，随后又大吼一声加速奔跑，这一段加朵的表演、配...</td>\n",
       "      <td>1</td>\n",
       "    </tr>\n",
       "    <tr>\n",
       "      <th>124</th>\n",
       "      <td>2020-12-18 22:37:53</td>\n",
       "      <td>冬寂網路.com</td>\n",
       "      <td>看过</td>\n",
       "      <td>4</td>\n",
       "      <td>#江湖观影团#好莱坞类型片正在冲向它的界外，从《信条》的多重时间晶体到《神奇女侠1984》，...</td>\n",
       "      <td>11</td>\n",
       "    </tr>\n",
       "    <tr>\n",
       "      <th>172</th>\n",
       "      <td>2020-12-18 02:40:17</td>\n",
       "      <td>Tom Light</td>\n",
       "      <td>看过</td>\n",
       "      <td>4</td>\n",
       "      <td>#盗梦观影\\r上海零点IMAX场，我居然第一个被抽中奖。\\r整场电影完全是盖尔加朵的时装秀，...</td>\n",
       "      <td>8</td>\n",
       "    </tr>\n",
       "    <tr>\n",
       "      <th>138</th>\n",
       "      <td>2020-12-25 08:08:24</td>\n",
       "      <td>SELVEN</td>\n",
       "      <td>看过</td>\n",
       "      <td>1</td>\n",
       "      <td>0/100 用无耻的方式和令人喜爱的角色强行灌输恶心的政治偏见，不可原谅。佩特罗帕斯卡值得一...</td>\n",
       "      <td>1</td>\n",
       "    </tr>\n",
       "    <tr>\n",
       "      <th>...</th>\n",
       "      <td>...</td>\n",
       "      <td>...</td>\n",
       "      <td>...</td>\n",
       "      <td>...</td>\n",
       "      <td>...</td>\n",
       "      <td>...</td>\n",
       "    </tr>\n",
       "    <tr>\n",
       "      <th>419</th>\n",
       "      <td>2020-12-18 16:17:01</td>\n",
       "      <td>暗黑馅爆炸团子</td>\n",
       "      <td>看过</td>\n",
       "      <td>4</td>\n",
       "      <td>飞檐走壁的大美女www太猴看惹qwq神奇女侠再次重申等价交换原则www可是为什么大美女不能拥...</td>\n",
       "      <td>2</td>\n",
       "    </tr>\n",
       "    <tr>\n",
       "      <th>9</th>\n",
       "      <td>2020-12-07 14:05:40</td>\n",
       "      <td>摇又鸟又鸟的狗</td>\n",
       "      <td>看过</td>\n",
       "      <td>4</td>\n",
       "      <td>首先想说，我并不是一个超英电影爱好者，我总觉得靠一个人发挥神力、噼里啪啦一顿大战就能拯救世界...</td>\n",
       "      <td>1782</td>\n",
       "    </tr>\n",
       "    <tr>\n",
       "      <th>425</th>\n",
       "      <td>2020-12-18 03:36:08</td>\n",
       "      <td>奇奇</td>\n",
       "      <td>看过</td>\n",
       "      <td>3</td>\n",
       "      <td>首先评分7分。当女性导演拍超级英雄大片，我们到底在看什么？它埋藏的是一个女性对浪漫，忠诚，永...</td>\n",
       "      <td>4</td>\n",
       "    </tr>\n",
       "    <tr>\n",
       "      <th>295</th>\n",
       "      <td>2020-12-19 18:29:08</td>\n",
       "      <td>维尼</td>\n",
       "      <td>看过</td>\n",
       "      <td>2</td>\n",
       "      <td>高潮姐太可怜了🥺</td>\n",
       "      <td>1</td>\n",
       "    </tr>\n",
       "    <tr>\n",
       "      <th>492</th>\n",
       "      <td>2020-12-20 23:33:08</td>\n",
       "      <td>厄庇墨透斯</td>\n",
       "      <td>看过</td>\n",
       "      <td>3</td>\n",
       "      <td>高端扯头花片。可惜金毛的全球播报没算中国。否则但凡有一个CPC看了，就实现共产主义了。</td>\n",
       "      <td>0</td>\n",
       "    </tr>\n",
       "  </tbody>\n",
       "</table>\n",
       "<p>500 rows × 6 columns</p>\n",
       "</div>"
      ],
      "text/plain": [
       "                    date       name seen  star  \\\n",
       "56   2020-12-18 08:12:33       技术原因   看过     2   \n",
       "416  2020-12-18 21:42:20         丙酮   看过     5   \n",
       "124  2020-12-18 22:37:53   冬寂網路.com   看过     4   \n",
       "172  2020-12-18 02:40:17  Tom Light   看过     4   \n",
       "138  2020-12-25 08:08:24     SELVEN   看过     1   \n",
       "..                   ...        ...  ...   ...   \n",
       "419  2020-12-18 16:17:01    暗黑馅爆炸团子   看过     4   \n",
       "9    2020-12-07 14:05:40    摇又鸟又鸟的狗   看过     4   \n",
       "425  2020-12-18 03:36:08         奇奇   看过     3   \n",
       "295  2020-12-19 18:29:08         维尼   看过     2   \n",
       "492  2020-12-20 23:33:08      厄庇墨透斯   看过     3   \n",
       "\n",
       "                                                  text  votes  \n",
       "56                                    \\n《神奇女侠2:DC已死》\\n    167  \n",
       "416   ww吻别steve后迅速转身，流着泪放弃愿望，随后又大吼一声加速奔跑，这一段加朵的表演、配...      1  \n",
       "124  #江湖观影团#好莱坞类型片正在冲向它的界外，从《信条》的多重时间晶体到《神奇女侠1984》，...     11  \n",
       "172  #盗梦观影\\r上海零点IMAX场，我居然第一个被抽中奖。\\r整场电影完全是盖尔加朵的时装秀，...      8  \n",
       "138  0/100 用无耻的方式和令人喜爱的角色强行灌输恶心的政治偏见，不可原谅。佩特罗帕斯卡值得一...      1  \n",
       "..                                                 ...    ...  \n",
       "419  飞檐走壁的大美女www太猴看惹qwq神奇女侠再次重申等价交换原则www可是为什么大美女不能拥...      2  \n",
       "9    首先想说，我并不是一个超英电影爱好者，我总觉得靠一个人发挥神力、噼里啪啦一顿大战就能拯救世界...   1782  \n",
       "425  首先评分7分。当女性导演拍超级英雄大片，我们到底在看什么？它埋藏的是一个女性对浪漫，忠诚，永...      4  \n",
       "295                                           高潮姐太可怜了🥺      1  \n",
       "492        高端扯头花片。可惜金毛的全球播报没算中国。否则但凡有一个CPC看了，就实现共产主义了。      0  \n",
       "\n",
       "[500 rows x 6 columns]"
      ]
     },
     "execution_count": 38,
     "metadata": {},
     "output_type": "execute_result"
    }
   ],
   "source": [
    "csv.sort_values(by='text')"
   ]
  },
  {
   "cell_type": "code",
   "execution_count": 39,
   "metadata": {},
   "outputs": [
    {
     "data": {
      "text/html": [
       "<div>\n",
       "<style scoped>\n",
       "    .dataframe tbody tr th:only-of-type {\n",
       "        vertical-align: middle;\n",
       "    }\n",
       "\n",
       "    .dataframe tbody tr th {\n",
       "        vertical-align: top;\n",
       "    }\n",
       "\n",
       "    .dataframe thead th {\n",
       "        text-align: right;\n",
       "    }\n",
       "</style>\n",
       "<table border=\"1\" class=\"dataframe\">\n",
       "  <thead>\n",
       "    <tr style=\"text-align: right;\">\n",
       "      <th></th>\n",
       "      <th>date</th>\n",
       "      <th>name</th>\n",
       "    </tr>\n",
       "  </thead>\n",
       "  <tbody>\n",
       "    <tr>\n",
       "      <th>0</th>\n",
       "      <td>2020-12-17 12:31:55</td>\n",
       "      <td>阿暖</td>\n",
       "    </tr>\n",
       "    <tr>\n",
       "      <th>1</th>\n",
       "      <td>2020-12-10 13:32:24</td>\n",
       "      <td>豆蔻年华</td>\n",
       "    </tr>\n",
       "    <tr>\n",
       "      <th>2</th>\n",
       "      <td>2020-12-18 02:27:55</td>\n",
       "      <td>#cenotaph#</td>\n",
       "    </tr>\n",
       "    <tr>\n",
       "      <th>3</th>\n",
       "      <td>2020-12-14 18:25:00</td>\n",
       "      <td>天马星</td>\n",
       "    </tr>\n",
       "    <tr>\n",
       "      <th>4</th>\n",
       "      <td>2020-12-18 02:57:23</td>\n",
       "      <td>Lynchman</td>\n",
       "    </tr>\n",
       "    <tr>\n",
       "      <th>...</th>\n",
       "      <td>...</td>\n",
       "      <td>...</td>\n",
       "    </tr>\n",
       "    <tr>\n",
       "      <th>495</th>\n",
       "      <td>2020-12-19 20:22:36</td>\n",
       "      <td>46562002</td>\n",
       "    </tr>\n",
       "    <tr>\n",
       "      <th>496</th>\n",
       "      <td>2020-12-22 18:42:21</td>\n",
       "      <td>Maxthor</td>\n",
       "    </tr>\n",
       "    <tr>\n",
       "      <th>497</th>\n",
       "      <td>2020-12-21 10:48:29</td>\n",
       "      <td>西老米</td>\n",
       "    </tr>\n",
       "    <tr>\n",
       "      <th>498</th>\n",
       "      <td>2020-12-20 23:26:40</td>\n",
       "      <td>Clefairy</td>\n",
       "    </tr>\n",
       "    <tr>\n",
       "      <th>499</th>\n",
       "      <td>2020-12-20 23:52:52</td>\n",
       "      <td>リンカ</td>\n",
       "    </tr>\n",
       "  </tbody>\n",
       "</table>\n",
       "<p>500 rows × 2 columns</p>\n",
       "</div>"
      ],
      "text/plain": [
       "                    date        name\n",
       "0    2020-12-17 12:31:55          阿暖\n",
       "1    2020-12-10 13:32:24        豆蔻年华\n",
       "2    2020-12-18 02:27:55  #cenotaph#\n",
       "3    2020-12-14 18:25:00         天马星\n",
       "4    2020-12-18 02:57:23    Lynchman\n",
       "..                   ...         ...\n",
       "495  2020-12-19 20:22:36    46562002\n",
       "496  2020-12-22 18:42:21     Maxthor\n",
       "497  2020-12-21 10:48:29         西老米\n",
       "498  2020-12-20 23:26:40    Clefairy\n",
       "499  2020-12-20 23:52:52         リンカ\n",
       "\n",
       "[500 rows x 2 columns]"
      ]
     },
     "execution_count": 39,
     "metadata": {},
     "output_type": "execute_result"
    }
   ],
   "source": [
    "csv[['date','name']]"
   ]
  },
  {
   "cell_type": "code",
   "execution_count": 40,
   "metadata": {},
   "outputs": [
    {
     "data": {
      "text/html": [
       "<div>\n",
       "<style scoped>\n",
       "    .dataframe tbody tr th:only-of-type {\n",
       "        vertical-align: middle;\n",
       "    }\n",
       "\n",
       "    .dataframe tbody tr th {\n",
       "        vertical-align: top;\n",
       "    }\n",
       "\n",
       "    .dataframe thead th {\n",
       "        text-align: right;\n",
       "    }\n",
       "</style>\n",
       "<table border=\"1\" class=\"dataframe\">\n",
       "  <thead>\n",
       "    <tr style=\"text-align: right;\">\n",
       "      <th></th>\n",
       "      <th>name</th>\n",
       "      <th>text</th>\n",
       "    </tr>\n",
       "  </thead>\n",
       "  <tbody>\n",
       "    <tr>\n",
       "      <th>0</th>\n",
       "      <td>阿暖</td>\n",
       "      <td>最意外的是，在这个故事里竟然看到某种波伏娃式的冷酷与绝望——一个完美女性可以拥有一切，美貌，...</td>\n",
       "    </tr>\n",
       "    <tr>\n",
       "      <th>1</th>\n",
       "      <td>豆蔻年华</td>\n",
       "      <td>打斗戏太拉胯，根本没法看。广场舞都比她更有力度，土味视频都比她有演技。</td>\n",
       "    </tr>\n",
       "    <tr>\n",
       "      <th>2</th>\n",
       "      <td>#cenotaph#</td>\n",
       "      <td>野猫大战卷帘门</td>\n",
       "    </tr>\n",
       "    <tr>\n",
       "      <th>3</th>\n",
       "      <td>天马星</td>\n",
       "      <td>二刷激光IMAX后依旧确信《神奇女侠1984》是我今年最爱的院线片，原因有二。一是延续了DC...</td>\n",
       "    </tr>\n",
       "    <tr>\n",
       "      <th>4</th>\n",
       "      <td>Lynchman</td>\n",
       "      <td>《请回答1984：如果川普统治世界》</td>\n",
       "    </tr>\n",
       "    <tr>\n",
       "      <th>...</th>\n",
       "      <td>...</td>\n",
       "      <td>...</td>\n",
       "    </tr>\n",
       "    <tr>\n",
       "      <th>495</th>\n",
       "      <td>46562002</td>\n",
       "      <td>1~正如女侠第一部时，说过的，盖尔加朵加盟DC就是人生最大的失败…\\n2~DC在新世纪，就根...</td>\n",
       "    </tr>\n",
       "    <tr>\n",
       "      <th>496</th>\n",
       "      <td>Maxthor</td>\n",
       "      <td>四星不足三星有余，Patty Jenkins的动作戏份还是没有想象中的精彩，对足够的特效支持...</td>\n",
       "    </tr>\n",
       "    <tr>\n",
       "      <th>497</th>\n",
       "      <td>西老米</td>\n",
       "      <td>还行啊，评分有点低了啊</td>\n",
       "    </tr>\n",
       "    <tr>\n",
       "      <th>498</th>\n",
       "      <td>Clefairy</td>\n",
       "      <td>我还真挺少打两星的。第一次有让我在电影院想弃了的电影。如坐针毡，满头问号。美貌没有发挥。逻辑不洽。</td>\n",
       "    </tr>\n",
       "    <tr>\n",
       "      <th>499</th>\n",
       "      <td>リンカ</td>\n",
       "      <td>剧情比较老套，但做抉择的时候还是很心痛就是了……小朋友真是可怜，经历这么多破事儿，就算最后h...</td>\n",
       "    </tr>\n",
       "  </tbody>\n",
       "</table>\n",
       "<p>500 rows × 2 columns</p>\n",
       "</div>"
      ],
      "text/plain": [
       "           name                                               text\n",
       "0            阿暖  最意外的是，在这个故事里竟然看到某种波伏娃式的冷酷与绝望——一个完美女性可以拥有一切，美貌，...\n",
       "1          豆蔻年华                打斗戏太拉胯，根本没法看。广场舞都比她更有力度，土味视频都比她有演技。\n",
       "2    #cenotaph#                                            野猫大战卷帘门\n",
       "3           天马星  二刷激光IMAX后依旧确信《神奇女侠1984》是我今年最爱的院线片，原因有二。一是延续了DC...\n",
       "4      Lynchman                                 《请回答1984：如果川普统治世界》\n",
       "..          ...                                                ...\n",
       "495    46562002  1~正如女侠第一部时，说过的，盖尔加朵加盟DC就是人生最大的失败…\\n2~DC在新世纪，就根...\n",
       "496     Maxthor  四星不足三星有余，Patty Jenkins的动作戏份还是没有想象中的精彩，对足够的特效支持...\n",
       "497         西老米                                        还行啊，评分有点低了啊\n",
       "498    Clefairy  我还真挺少打两星的。第一次有让我在电影院想弃了的电影。如坐针毡，满头问号。美貌没有发挥。逻辑不洽。\n",
       "499         リンカ  剧情比较老套，但做抉择的时候还是很心痛就是了……小朋友真是可怜，经历这么多破事儿，就算最后h...\n",
       "\n",
       "[500 rows x 2 columns]"
      ]
     },
     "execution_count": 40,
     "metadata": {},
     "output_type": "execute_result"
    }
   ],
   "source": [
    "csv[['name','text']]"
   ]
  },
  {
   "cell_type": "code",
   "execution_count": 41,
   "metadata": {},
   "outputs": [
    {
     "data": {
      "text/html": [
       "<div>\n",
       "<style scoped>\n",
       "    .dataframe tbody tr th:only-of-type {\n",
       "        vertical-align: middle;\n",
       "    }\n",
       "\n",
       "    .dataframe tbody tr th {\n",
       "        vertical-align: top;\n",
       "    }\n",
       "\n",
       "    .dataframe thead th {\n",
       "        text-align: right;\n",
       "    }\n",
       "</style>\n",
       "<table border=\"1\" class=\"dataframe\">\n",
       "  <thead>\n",
       "    <tr style=\"text-align: right;\">\n",
       "      <th></th>\n",
       "      <th>date</th>\n",
       "      <th>name</th>\n",
       "      <th>votes</th>\n",
       "    </tr>\n",
       "  </thead>\n",
       "  <tbody>\n",
       "    <tr>\n",
       "      <th>0</th>\n",
       "      <td>2020-12-17 12:31:55</td>\n",
       "      <td>阿暖</td>\n",
       "      <td>2321</td>\n",
       "    </tr>\n",
       "    <tr>\n",
       "      <th>1</th>\n",
       "      <td>2020-12-10 13:32:24</td>\n",
       "      <td>豆蔻年华</td>\n",
       "      <td>456</td>\n",
       "    </tr>\n",
       "    <tr>\n",
       "      <th>2</th>\n",
       "      <td>2020-12-18 02:27:55</td>\n",
       "      <td>#cenotaph#</td>\n",
       "      <td>2147</td>\n",
       "    </tr>\n",
       "    <tr>\n",
       "      <th>3</th>\n",
       "      <td>2020-12-14 18:25:00</td>\n",
       "      <td>天马星</td>\n",
       "      <td>1025</td>\n",
       "    </tr>\n",
       "    <tr>\n",
       "      <th>4</th>\n",
       "      <td>2020-12-18 02:57:23</td>\n",
       "      <td>Lynchman</td>\n",
       "      <td>3613</td>\n",
       "    </tr>\n",
       "    <tr>\n",
       "      <th>...</th>\n",
       "      <td>...</td>\n",
       "      <td>...</td>\n",
       "      <td>...</td>\n",
       "    </tr>\n",
       "    <tr>\n",
       "      <th>495</th>\n",
       "      <td>2020-12-19 20:22:36</td>\n",
       "      <td>46562002</td>\n",
       "      <td>0</td>\n",
       "    </tr>\n",
       "    <tr>\n",
       "      <th>496</th>\n",
       "      <td>2020-12-22 18:42:21</td>\n",
       "      <td>Maxthor</td>\n",
       "      <td>0</td>\n",
       "    </tr>\n",
       "    <tr>\n",
       "      <th>497</th>\n",
       "      <td>2020-12-21 10:48:29</td>\n",
       "      <td>西老米</td>\n",
       "      <td>0</td>\n",
       "    </tr>\n",
       "    <tr>\n",
       "      <th>498</th>\n",
       "      <td>2020-12-20 23:26:40</td>\n",
       "      <td>Clefairy</td>\n",
       "      <td>0</td>\n",
       "    </tr>\n",
       "    <tr>\n",
       "      <th>499</th>\n",
       "      <td>2020-12-20 23:52:52</td>\n",
       "      <td>リンカ</td>\n",
       "      <td>0</td>\n",
       "    </tr>\n",
       "  </tbody>\n",
       "</table>\n",
       "<p>500 rows × 3 columns</p>\n",
       "</div>"
      ],
      "text/plain": [
       "                    date        name  votes\n",
       "0    2020-12-17 12:31:55          阿暖   2321\n",
       "1    2020-12-10 13:32:24        豆蔻年华    456\n",
       "2    2020-12-18 02:27:55  #cenotaph#   2147\n",
       "3    2020-12-14 18:25:00         天马星   1025\n",
       "4    2020-12-18 02:57:23    Lynchman   3613\n",
       "..                   ...         ...    ...\n",
       "495  2020-12-19 20:22:36    46562002      0\n",
       "496  2020-12-22 18:42:21     Maxthor      0\n",
       "497  2020-12-21 10:48:29         西老米      0\n",
       "498  2020-12-20 23:26:40    Clefairy      0\n",
       "499  2020-12-20 23:52:52         リンカ      0\n",
       "\n",
       "[500 rows x 3 columns]"
      ]
     },
     "execution_count": 41,
     "metadata": {},
     "output_type": "execute_result"
    }
   ],
   "source": [
    "csv[['date','name','votes']]"
   ]
  },
  {
   "cell_type": "code",
   "execution_count": 42,
   "metadata": {},
   "outputs": [
    {
     "data": {
      "text/html": [
       "<div>\n",
       "<style scoped>\n",
       "    .dataframe tbody tr th:only-of-type {\n",
       "        vertical-align: middle;\n",
       "    }\n",
       "\n",
       "    .dataframe tbody tr th {\n",
       "        vertical-align: top;\n",
       "    }\n",
       "\n",
       "    .dataframe thead th {\n",
       "        text-align: right;\n",
       "    }\n",
       "</style>\n",
       "<table border=\"1\" class=\"dataframe\">\n",
       "  <thead>\n",
       "    <tr style=\"text-align: right;\">\n",
       "      <th></th>\n",
       "      <th>date</th>\n",
       "      <th>name</th>\n",
       "      <th>seen</th>\n",
       "      <th>star</th>\n",
       "      <th>text</th>\n",
       "      <th>votes</th>\n",
       "    </tr>\n",
       "  </thead>\n",
       "  <tbody>\n",
       "    <tr>\n",
       "      <th>0</th>\n",
       "      <td>2020-12-17 12:31:55</td>\n",
       "      <td>阿暖</td>\n",
       "      <td>看过</td>\n",
       "      <td>4</td>\n",
       "      <td>最意外的是，在这个故事里竟然看到某种波伏娃式的冷酷与绝望——一个完美女性可以拥有一切，美貌，...</td>\n",
       "      <td>2321</td>\n",
       "    </tr>\n",
       "    <tr>\n",
       "      <th>1</th>\n",
       "      <td>2020-12-10 13:32:24</td>\n",
       "      <td>豆蔻年华</td>\n",
       "      <td>看过</td>\n",
       "      <td>1</td>\n",
       "      <td>打斗戏太拉胯，根本没法看。广场舞都比她更有力度，土味视频都比她有演技。</td>\n",
       "      <td>456</td>\n",
       "    </tr>\n",
       "    <tr>\n",
       "      <th>2</th>\n",
       "      <td>2020-12-18 02:27:55</td>\n",
       "      <td>#cenotaph#</td>\n",
       "      <td>看过</td>\n",
       "      <td>2</td>\n",
       "      <td>野猫大战卷帘门</td>\n",
       "      <td>2147</td>\n",
       "    </tr>\n",
       "  </tbody>\n",
       "</table>\n",
       "</div>"
      ],
      "text/plain": [
       "                  date        name seen  star  \\\n",
       "0  2020-12-17 12:31:55          阿暖   看过     4   \n",
       "1  2020-12-10 13:32:24        豆蔻年华   看过     1   \n",
       "2  2020-12-18 02:27:55  #cenotaph#   看过     2   \n",
       "\n",
       "                                                text  votes  \n",
       "0  最意外的是，在这个故事里竟然看到某种波伏娃式的冷酷与绝望——一个完美女性可以拥有一切，美貌，...   2321  \n",
       "1                打斗戏太拉胯，根本没法看。广场舞都比她更有力度，土味视频都比她有演技。    456  \n",
       "2                                            野猫大战卷帘门   2147  "
      ]
     },
     "execution_count": 42,
     "metadata": {},
     "output_type": "execute_result"
    }
   ],
   "source": [
    "csv[0:3]"
   ]
  },
  {
   "cell_type": "code",
   "execution_count": 43,
   "metadata": {},
   "outputs": [
    {
     "data": {
      "text/html": [
       "<div>\n",
       "<style scoped>\n",
       "    .dataframe tbody tr th:only-of-type {\n",
       "        vertical-align: middle;\n",
       "    }\n",
       "\n",
       "    .dataframe tbody tr th {\n",
       "        vertical-align: top;\n",
       "    }\n",
       "\n",
       "    .dataframe thead th {\n",
       "        text-align: right;\n",
       "    }\n",
       "</style>\n",
       "<table border=\"1\" class=\"dataframe\">\n",
       "  <thead>\n",
       "    <tr style=\"text-align: right;\">\n",
       "      <th></th>\n",
       "      <th>date</th>\n",
       "      <th>name</th>\n",
       "      <th>seen</th>\n",
       "      <th>star</th>\n",
       "      <th>text</th>\n",
       "      <th>votes</th>\n",
       "    </tr>\n",
       "  </thead>\n",
       "  <tbody>\n",
       "    <tr>\n",
       "      <th>1</th>\n",
       "      <td>2020-12-10 13:32:24</td>\n",
       "      <td>豆蔻年华</td>\n",
       "      <td>看过</td>\n",
       "      <td>1</td>\n",
       "      <td>打斗戏太拉胯，根本没法看。广场舞都比她更有力度，土味视频都比她有演技。</td>\n",
       "      <td>456</td>\n",
       "    </tr>\n",
       "    <tr>\n",
       "      <th>2</th>\n",
       "      <td>2020-12-18 02:27:55</td>\n",
       "      <td>#cenotaph#</td>\n",
       "      <td>看过</td>\n",
       "      <td>2</td>\n",
       "      <td>野猫大战卷帘门</td>\n",
       "      <td>2147</td>\n",
       "    </tr>\n",
       "  </tbody>\n",
       "</table>\n",
       "</div>"
      ],
      "text/plain": [
       "                  date        name seen  star  \\\n",
       "1  2020-12-10 13:32:24        豆蔻年华   看过     1   \n",
       "2  2020-12-18 02:27:55  #cenotaph#   看过     2   \n",
       "\n",
       "                                  text  votes  \n",
       "1  打斗戏太拉胯，根本没法看。广场舞都比她更有力度，土味视频都比她有演技。    456  \n",
       "2                              野猫大战卷帘门   2147  "
      ]
     },
     "execution_count": 43,
     "metadata": {},
     "output_type": "execute_result"
    }
   ],
   "source": [
    "csv[1:3]"
   ]
  },
  {
   "cell_type": "code",
   "execution_count": 44,
   "metadata": {},
   "outputs": [
    {
     "data": {
      "text/html": [
       "<div>\n",
       "<style scoped>\n",
       "    .dataframe tbody tr th:only-of-type {\n",
       "        vertical-align: middle;\n",
       "    }\n",
       "\n",
       "    .dataframe tbody tr th {\n",
       "        vertical-align: top;\n",
       "    }\n",
       "\n",
       "    .dataframe thead th {\n",
       "        text-align: right;\n",
       "    }\n",
       "</style>\n",
       "<table border=\"1\" class=\"dataframe\">\n",
       "  <thead>\n",
       "    <tr style=\"text-align: right;\">\n",
       "      <th></th>\n",
       "      <th>date</th>\n",
       "    </tr>\n",
       "  </thead>\n",
       "  <tbody>\n",
       "    <tr>\n",
       "      <th>1</th>\n",
       "      <td>2020-12-10 13:32:24</td>\n",
       "    </tr>\n",
       "  </tbody>\n",
       "</table>\n",
       "</div>"
      ],
      "text/plain": [
       "                  date\n",
       "1  2020-12-10 13:32:24"
      ]
     },
     "execution_count": 44,
     "metadata": {},
     "output_type": "execute_result"
    }
   ],
   "source": [
    "csv.loc[[1],['date']]"
   ]
  },
  {
   "cell_type": "code",
   "execution_count": 45,
   "metadata": {},
   "outputs": [
    {
     "data": {
      "text/html": [
       "<div>\n",
       "<style scoped>\n",
       "    .dataframe tbody tr th:only-of-type {\n",
       "        vertical-align: middle;\n",
       "    }\n",
       "\n",
       "    .dataframe tbody tr th {\n",
       "        vertical-align: top;\n",
       "    }\n",
       "\n",
       "    .dataframe thead th {\n",
       "        text-align: right;\n",
       "    }\n",
       "</style>\n",
       "<table border=\"1\" class=\"dataframe\">\n",
       "  <thead>\n",
       "    <tr style=\"text-align: right;\">\n",
       "      <th></th>\n",
       "      <th>name</th>\n",
       "    </tr>\n",
       "  </thead>\n",
       "  <tbody>\n",
       "    <tr>\n",
       "      <th>50</th>\n",
       "      <td>平成宅叔</td>\n",
       "    </tr>\n",
       "  </tbody>\n",
       "</table>\n",
       "</div>"
      ],
      "text/plain": [
       "    name\n",
       "50  平成宅叔"
      ]
     },
     "execution_count": 45,
     "metadata": {},
     "output_type": "execute_result"
    }
   ],
   "source": [
    "csv.loc[[50],['name']]"
   ]
  },
  {
   "cell_type": "code",
   "execution_count": 46,
   "metadata": {},
   "outputs": [
    {
     "data": {
      "text/html": [
       "<div>\n",
       "<style scoped>\n",
       "    .dataframe tbody tr th:only-of-type {\n",
       "        vertical-align: middle;\n",
       "    }\n",
       "\n",
       "    .dataframe tbody tr th {\n",
       "        vertical-align: top;\n",
       "    }\n",
       "\n",
       "    .dataframe thead th {\n",
       "        text-align: right;\n",
       "    }\n",
       "</style>\n",
       "<table border=\"1\" class=\"dataframe\">\n",
       "  <thead>\n",
       "    <tr style=\"text-align: right;\">\n",
       "      <th></th>\n",
       "      <th>name</th>\n",
       "      <th>text</th>\n",
       "    </tr>\n",
       "  </thead>\n",
       "  <tbody>\n",
       "    <tr>\n",
       "      <th>100</th>\n",
       "      <td>書衣偵探華斯比</td>\n",
       "      <td>开篇楔子《女儿国日常大比武，戴安娜作弊失冠军》磨叽半天，全片前一个半小时，感觉看了两集国产都...</td>\n",
       "    </tr>\n",
       "  </tbody>\n",
       "</table>\n",
       "</div>"
      ],
      "text/plain": [
       "        name                                               text\n",
       "100  書衣偵探華斯比  开篇楔子《女儿国日常大比武，戴安娜作弊失冠军》磨叽半天，全片前一个半小时，感觉看了两集国产都..."
      ]
     },
     "execution_count": 46,
     "metadata": {},
     "output_type": "execute_result"
    }
   ],
   "source": [
    "csv.loc[[100],['name','text']]"
   ]
  },
  {
   "cell_type": "code",
   "execution_count": 47,
   "metadata": {},
   "outputs": [
    {
     "data": {
      "text/html": [
       "<div>\n",
       "<style scoped>\n",
       "    .dataframe tbody tr th:only-of-type {\n",
       "        vertical-align: middle;\n",
       "    }\n",
       "\n",
       "    .dataframe tbody tr th {\n",
       "        vertical-align: top;\n",
       "    }\n",
       "\n",
       "    .dataframe thead th {\n",
       "        text-align: right;\n",
       "    }\n",
       "</style>\n",
       "<table border=\"1\" class=\"dataframe\">\n",
       "  <thead>\n",
       "    <tr style=\"text-align: right;\">\n",
       "      <th></th>\n",
       "      <th>name</th>\n",
       "      <th>text</th>\n",
       "      <th>votes</th>\n",
       "    </tr>\n",
       "  </thead>\n",
       "  <tbody>\n",
       "    <tr>\n",
       "      <th>108</th>\n",
       "      <td>20个小明≯</td>\n",
       "      <td>这是一部荒诞轻喜剧，是一部烂俗亲子戏，是一部打嘴炮的说教片，是一场悲悲戚戚的苦情戏，但偏偏就...</td>\n",
       "      <td>6</td>\n",
       "    </tr>\n",
       "  </tbody>\n",
       "</table>\n",
       "</div>"
      ],
      "text/plain": [
       "       name                                               text  votes\n",
       "108  20个小明≯  这是一部荒诞轻喜剧，是一部烂俗亲子戏，是一部打嘴炮的说教片，是一场悲悲戚戚的苦情戏，但偏偏就...      6"
      ]
     },
     "execution_count": 47,
     "metadata": {},
     "output_type": "execute_result"
    }
   ],
   "source": [
    "csv.loc[[108],['name','text','votes']]"
   ]
  },
  {
   "cell_type": "code",
   "execution_count": 48,
   "metadata": {},
   "outputs": [
    {
     "data": {
      "text/plain": [
       "'2020-12-10 13:32:24'"
      ]
     },
     "execution_count": 48,
     "metadata": {},
     "output_type": "execute_result"
    }
   ],
   "source": [
    "csv.at[1,'date']"
   ]
  },
  {
   "cell_type": "code",
   "execution_count": 49,
   "metadata": {},
   "outputs": [
    {
     "data": {
      "text/plain": [
       "'平成宅叔'"
      ]
     },
     "execution_count": 49,
     "metadata": {},
     "output_type": "execute_result"
    }
   ],
   "source": [
    "csv.at[50,'name']"
   ]
  },
  {
   "cell_type": "code",
   "execution_count": 50,
   "metadata": {},
   "outputs": [
    {
     "data": {
      "text/plain": [
       "'打斗戏太拉胯，根本没法看。广场舞都比她更有力度，土味视频都比她有演技。'"
      ]
     },
     "execution_count": 50,
     "metadata": {},
     "output_type": "execute_result"
    }
   ],
   "source": [
    "csv.at[1,'text']"
   ]
  },
  {
   "cell_type": "code",
   "execution_count": 51,
   "metadata": {},
   "outputs": [
    {
     "data": {
      "text/plain": [
       "456"
      ]
     },
     "execution_count": 51,
     "metadata": {},
     "output_type": "execute_result"
    }
   ],
   "source": [
    "csv.at[1,'votes']"
   ]
  },
  {
   "cell_type": "code",
   "execution_count": 52,
   "metadata": {},
   "outputs": [
    {
     "data": {
      "text/html": [
       "<div>\n",
       "<style scoped>\n",
       "    .dataframe tbody tr th:only-of-type {\n",
       "        vertical-align: middle;\n",
       "    }\n",
       "\n",
       "    .dataframe tbody tr th {\n",
       "        vertical-align: top;\n",
       "    }\n",
       "\n",
       "    .dataframe thead th {\n",
       "        text-align: right;\n",
       "    }\n",
       "</style>\n",
       "<table border=\"1\" class=\"dataframe\">\n",
       "  <thead>\n",
       "    <tr style=\"text-align: right;\">\n",
       "      <th></th>\n",
       "      <th>seen</th>\n",
       "      <th>text</th>\n",
       "    </tr>\n",
       "  </thead>\n",
       "  <tbody>\n",
       "    <tr>\n",
       "      <th>1</th>\n",
       "      <td>看过</td>\n",
       "      <td>打斗戏太拉胯，根本没法看。广场舞都比她更有力度，土味视频都比她有演技。</td>\n",
       "    </tr>\n",
       "    <tr>\n",
       "      <th>3</th>\n",
       "      <td>看过</td>\n",
       "      <td>二刷激光IMAX后依旧确信《神奇女侠1984》是我今年最爱的院线片，原因有二。一是延续了DC...</td>\n",
       "    </tr>\n",
       "  </tbody>\n",
       "</table>\n",
       "</div>"
      ],
      "text/plain": [
       "  seen                                               text\n",
       "1   看过                打斗戏太拉胯，根本没法看。广场舞都比她更有力度，土味视频都比她有演技。\n",
       "3   看过  二刷激光IMAX后依旧确信《神奇女侠1984》是我今年最爱的院线片，原因有二。一是延续了DC..."
      ]
     },
     "execution_count": 52,
     "metadata": {},
     "output_type": "execute_result"
    }
   ],
   "source": [
    "csv.iloc[[1,3],[2,4]]"
   ]
  },
  {
   "cell_type": "code",
   "execution_count": 53,
   "metadata": {},
   "outputs": [
    {
     "data": {
      "text/html": [
       "<div>\n",
       "<style scoped>\n",
       "    .dataframe tbody tr th:only-of-type {\n",
       "        vertical-align: middle;\n",
       "    }\n",
       "\n",
       "    .dataframe tbody tr th {\n",
       "        vertical-align: top;\n",
       "    }\n",
       "\n",
       "    .dataframe thead th {\n",
       "        text-align: right;\n",
       "    }\n",
       "</style>\n",
       "<table border=\"1\" class=\"dataframe\">\n",
       "  <thead>\n",
       "    <tr style=\"text-align: right;\">\n",
       "      <th></th>\n",
       "      <th>star</th>\n",
       "      <th>votes</th>\n",
       "    </tr>\n",
       "  </thead>\n",
       "  <tbody>\n",
       "    <tr>\n",
       "      <th>1</th>\n",
       "      <td>1</td>\n",
       "      <td>456</td>\n",
       "    </tr>\n",
       "    <tr>\n",
       "      <th>2</th>\n",
       "      <td>2</td>\n",
       "      <td>2147</td>\n",
       "    </tr>\n",
       "  </tbody>\n",
       "</table>\n",
       "</div>"
      ],
      "text/plain": [
       "   star  votes\n",
       "1     1    456\n",
       "2     2   2147"
      ]
     },
     "execution_count": 53,
     "metadata": {},
     "output_type": "execute_result"
    }
   ],
   "source": [
    "csv.iloc[[1,2],[3,5]]"
   ]
  },
  {
   "cell_type": "code",
   "execution_count": 54,
   "metadata": {},
   "outputs": [
    {
     "data": {
      "text/plain": [
       "'豆蔻年华'"
      ]
     },
     "execution_count": 54,
     "metadata": {},
     "output_type": "execute_result"
    }
   ],
   "source": [
    "csv.iat[1,1]"
   ]
  },
  {
   "cell_type": "code",
   "execution_count": 55,
   "metadata": {},
   "outputs": [
    {
     "data": {
      "text/plain": [
       "'看过'"
      ]
     },
     "execution_count": 55,
     "metadata": {},
     "output_type": "execute_result"
    }
   ],
   "source": [
    "csv.iat[2,2]"
   ]
  },
  {
   "cell_type": "code",
   "execution_count": 56,
   "metadata": {},
   "outputs": [
    {
     "data": {
      "text/plain": [
       "2147"
      ]
     },
     "execution_count": 56,
     "metadata": {},
     "output_type": "execute_result"
    }
   ],
   "source": [
    "csv.iat[2,5]"
   ]
  },
  {
   "cell_type": "code",
   "execution_count": 57,
   "metadata": {},
   "outputs": [
    {
     "data": {
      "text/html": [
       "<div>\n",
       "<style scoped>\n",
       "    .dataframe tbody tr th:only-of-type {\n",
       "        vertical-align: middle;\n",
       "    }\n",
       "\n",
       "    .dataframe tbody tr th {\n",
       "        vertical-align: top;\n",
       "    }\n",
       "\n",
       "    .dataframe thead th {\n",
       "        text-align: right;\n",
       "    }\n",
       "</style>\n",
       "<table border=\"1\" class=\"dataframe\">\n",
       "  <thead>\n",
       "    <tr style=\"text-align: right;\">\n",
       "      <th></th>\n",
       "      <th>date</th>\n",
       "      <th>name</th>\n",
       "      <th>seen</th>\n",
       "      <th>star</th>\n",
       "      <th>text</th>\n",
       "      <th>votes</th>\n",
       "    </tr>\n",
       "  </thead>\n",
       "  <tbody>\n",
       "    <tr>\n",
       "      <th>0</th>\n",
       "      <td>2020-12-17 12:31:55</td>\n",
       "      <td>阿暖</td>\n",
       "      <td>看过</td>\n",
       "      <td>4</td>\n",
       "      <td>最意外的是，在这个故事里竟然看到某种波伏娃式的冷酷与绝望——一个完美女性可以拥有一切，美貌，...</td>\n",
       "      <td>2321</td>\n",
       "    </tr>\n",
       "    <tr>\n",
       "      <th>1</th>\n",
       "      <td>2020-12-10 13:32:24</td>\n",
       "      <td>豆蔻年华</td>\n",
       "      <td>看过</td>\n",
       "      <td>1</td>\n",
       "      <td>打斗戏太拉胯，根本没法看。广场舞都比她更有力度，土味视频都比她有演技。</td>\n",
       "      <td>456</td>\n",
       "    </tr>\n",
       "    <tr>\n",
       "      <th>2</th>\n",
       "      <td>2020-12-18 02:27:55</td>\n",
       "      <td>#cenotaph#</td>\n",
       "      <td>看过</td>\n",
       "      <td>2</td>\n",
       "      <td>野猫大战卷帘门</td>\n",
       "      <td>2147</td>\n",
       "    </tr>\n",
       "    <tr>\n",
       "      <th>3</th>\n",
       "      <td>2020-12-14 18:25:00</td>\n",
       "      <td>天马星</td>\n",
       "      <td>看过</td>\n",
       "      <td>5</td>\n",
       "      <td>二刷激光IMAX后依旧确信《神奇女侠1984》是我今年最爱的院线片，原因有二。一是延续了DC...</td>\n",
       "      <td>1025</td>\n",
       "    </tr>\n",
       "    <tr>\n",
       "      <th>4</th>\n",
       "      <td>2020-12-18 02:57:23</td>\n",
       "      <td>Lynchman</td>\n",
       "      <td>看过</td>\n",
       "      <td>3</td>\n",
       "      <td>《请回答1984：如果川普统治世界》</td>\n",
       "      <td>3613</td>\n",
       "    </tr>\n",
       "    <tr>\n",
       "      <th>5</th>\n",
       "      <td>2020-12-18 20:12:34</td>\n",
       "      <td>深夜的阿斯伯格</td>\n",
       "      <td>看过</td>\n",
       "      <td>3</td>\n",
       "      <td>我希望这个世界上没有伪3D，并让更多人看到这条短评</td>\n",
       "      <td>2259</td>\n",
       "    </tr>\n",
       "    <tr>\n",
       "      <th>6</th>\n",
       "      <td>2020-12-18 14:28:29</td>\n",
       "      <td>朝暮雪</td>\n",
       "      <td>看过</td>\n",
       "      <td>3</td>\n",
       "      <td>不是传统的超级英雄电影，不是爆米花爽片，而是更偏向剧情片。\\n动作戏和第一部相比有所退步，不...</td>\n",
       "      <td>1073</td>\n",
       "    </tr>\n",
       "    <tr>\n",
       "      <th>7</th>\n",
       "      <td>2020-12-07 13:26:58</td>\n",
       "      <td>烟波人长安</td>\n",
       "      <td>看过</td>\n",
       "      <td>5</td>\n",
       "      <td>本来正义联盟之后我都快对dc不抱什么期望了，盖尔加朵又给我打了针强心剂。没想到这一部拍得这么...</td>\n",
       "      <td>787</td>\n",
       "    </tr>\n",
       "    <tr>\n",
       "      <th>8</th>\n",
       "      <td>2020-12-18 03:27:37</td>\n",
       "      <td>有心打扰</td>\n",
       "      <td>看过</td>\n",
       "      <td>3</td>\n",
       "      <td>千万不要在生日的时候对着生日蛋糕上的蜡烛乱许愿望，你都不知道它会对你做出什么。</td>\n",
       "      <td>886</td>\n",
       "    </tr>\n",
       "    <tr>\n",
       "      <th>9</th>\n",
       "      <td>2020-12-07 14:05:40</td>\n",
       "      <td>摇又鸟又鸟的狗</td>\n",
       "      <td>看过</td>\n",
       "      <td>4</td>\n",
       "      <td>首先想说，我并不是一个超英电影爱好者，我总觉得靠一个人发挥神力、噼里啪啦一顿大战就能拯救世界...</td>\n",
       "      <td>1782</td>\n",
       "    </tr>\n",
       "    <tr>\n",
       "      <th>10</th>\n",
       "      <td>2020-12-18 01:27:03</td>\n",
       "      <td>张咏轩Wayne®</td>\n",
       "      <td>看过</td>\n",
       "      <td>2</td>\n",
       "      <td>太差了，枉顾逻辑纯扯淡，这个女导演是真正的婆妈话痨。大篇幅废话连篇，干货少，成本缩减的可怜，...</td>\n",
       "      <td>1231</td>\n",
       "    </tr>\n",
       "    <tr>\n",
       "      <th>11</th>\n",
       "      <td>2020-12-18 15:57:45</td>\n",
       "      <td>王大根</td>\n",
       "      <td>看过</td>\n",
       "      <td>3</td>\n",
       "      <td>怎么会这么金凯瑞电影+小鸡片，换装小游戏都出来了，难以相信当下全球最知名的女性超级英雄电影，...</td>\n",
       "      <td>439</td>\n",
       "    </tr>\n",
       "    <tr>\n",
       "      <th>12</th>\n",
       "      <td>2020-12-18 02:56:37</td>\n",
       "      <td>Ada🧣Wong💋💍</td>\n",
       "      <td>看过</td>\n",
       "      <td>4</td>\n",
       "      <td>8/10，这个许愿石的点子想的非常好，既解决了史蒂夫的回归的问题，也成功地树立了两个反派形象...</td>\n",
       "      <td>1209</td>\n",
       "    </tr>\n",
       "    <tr>\n",
       "      <th>13</th>\n",
       "      <td>2020-12-18 03:09:52</td>\n",
       "      <td>Luke</td>\n",
       "      <td>看过</td>\n",
       "      <td>4</td>\n",
       "      <td>结尾真的拍得好善良，女侠最后的念白简直像是送给过去的一年的。影片一开始挺糟糕，还好从中间开始...</td>\n",
       "      <td>1186</td>\n",
       "    </tr>\n",
       "    <tr>\n",
       "      <th>14</th>\n",
       "      <td>2020-12-16 23:56:53</td>\n",
       "      <td>zykmilan</td>\n",
       "      <td>看过</td>\n",
       "      <td>3</td>\n",
       "      <td>也许是期待不高，其实电影的大部分段落还是很不错的，尤其喜欢的是展现纵使强如Diana也有如常...</td>\n",
       "      <td>349</td>\n",
       "    </tr>\n",
       "    <tr>\n",
       "      <th>15</th>\n",
       "      <td>2020-12-18 16:14:26</td>\n",
       "      <td>飞佳</td>\n",
       "      <td>看过</td>\n",
       "      <td>3</td>\n",
       "      <td>好失望，没了加朵没法儿看。没有完全利用好1984的时代背景，反而剧本水平停留在1984。</td>\n",
       "      <td>259</td>\n",
       "    </tr>\n",
       "    <tr>\n",
       "      <th>16</th>\n",
       "      <td>2020-12-07 13:44:24</td>\n",
       "      <td>林微云</td>\n",
       "      <td>看过</td>\n",
       "      <td>4</td>\n",
       "      <td>当欲望将你的灵魂吞噬，只有爱与希望才能挽救这可怕的世界，在白雪飘落的圣诞季🎄用一部温暖治愈的...</td>\n",
       "      <td>472</td>\n",
       "    </tr>\n",
       "    <tr>\n",
       "      <th>17</th>\n",
       "      <td>2020-12-18 19:02:46</td>\n",
       "      <td>文森特九六</td>\n",
       "      <td>看过</td>\n",
       "      <td>3</td>\n",
       "      <td>极度盲目女权与极度盲目厌男，派蒂·杰金斯在或傲慢或惧怕的加持下亢奋过头，并将第一部的愚蠢无限...</td>\n",
       "      <td>112</td>\n",
       "    </tr>\n",
       "    <tr>\n",
       "      <th>18</th>\n",
       "      <td>2020-12-18 15:34:59</td>\n",
       "      <td>鹤然</td>\n",
       "      <td>看过</td>\n",
       "      <td>4</td>\n",
       "      <td>能理解为什么diana爱了steve这么多年，超英电影宇宙里唯一说服我的爱情。</td>\n",
       "      <td>319</td>\n",
       "    </tr>\n",
       "    <tr>\n",
       "      <th>19</th>\n",
       "      <td>2020-12-17 01:02:22</td>\n",
       "      <td>京客隆小丸子</td>\n",
       "      <td>看过</td>\n",
       "      <td>5</td>\n",
       "      <td>女侠升级黄金圣斗士，男友换脸整容陪你过圣诞。</td>\n",
       "      <td>515</td>\n",
       "    </tr>\n",
       "    <tr>\n",
       "      <th>20</th>\n",
       "      <td>2020-12-18 03:33:09</td>\n",
       "      <td>丿毛头</td>\n",
       "      <td>看过</td>\n",
       "      <td>4</td>\n",
       "      <td>1.超强版的阿拉丁神灯。\\n2.上帝为你开了扇窗，顺手也带上了门。\\n3.黛安娜的剑和盾去哪...</td>\n",
       "      <td>273</td>\n",
       "    </tr>\n",
       "    <tr>\n",
       "      <th>21</th>\n",
       "      <td>2020-12-18 02:43:14</td>\n",
       "      <td>次等水货</td>\n",
       "      <td>看过</td>\n",
       "      <td>1</td>\n",
       "      <td>观众都能走到编剧的前面了，太失败了。主题太陈旧，格局也很小。毁我盖尔加朵，导演和编剧我都想打。</td>\n",
       "      <td>228</td>\n",
       "    </tr>\n",
       "    <tr>\n",
       "      <th>22</th>\n",
       "      <td>2020-12-17 22:11:29</td>\n",
       "      <td>元帅</td>\n",
       "      <td>看过</td>\n",
       "      <td>4</td>\n",
       "      <td>牛逼如diana依然逃不过的实现不了愿望的宿命感也太令人绝望了 孕期荷尔蒙太夸张 在dian...</td>\n",
       "      <td>211</td>\n",
       "    </tr>\n",
       "    <tr>\n",
       "      <th>23</th>\n",
       "      <td>2020-12-18 18:45:49</td>\n",
       "      <td>捧与挖</td>\n",
       "      <td>看过</td>\n",
       "      <td>3</td>\n",
       "      <td>我哭了我又哭了我趴在派派的肩膀上哭！承包全世界最好的WonderSteve！戴安娜说她再也不...</td>\n",
       "      <td>115</td>\n",
       "    </tr>\n",
       "    <tr>\n",
       "      <th>24</th>\n",
       "      <td>2020-12-18 00:04:48</td>\n",
       "      <td>木石子</td>\n",
       "      <td>看过</td>\n",
       "      <td>2</td>\n",
       "      <td>导演但凡知道中国有一个成语叫“自相矛盾”，就不会拍出这么逻辑不通的傻缺电影，还拍了两个半小时...</td>\n",
       "      <td>841</td>\n",
       "    </tr>\n",
       "    <tr>\n",
       "      <th>25</th>\n",
       "      <td>2020-12-09 23:53:28</td>\n",
       "      <td>影随茵动</td>\n",
       "      <td>看过</td>\n",
       "      <td>4</td>\n",
       "      <td>小戴安娜试炼的开篇太燃了，加朵美丽依旧，男主复活的设置在逻辑上是完全自洽的，情节比第一部至少...</td>\n",
       "      <td>217</td>\n",
       "    </tr>\n",
       "    <tr>\n",
       "      <th>26</th>\n",
       "      <td>2020-12-18 04:23:31</td>\n",
       "      <td>明月何时照哥谭</td>\n",
       "      <td>看过</td>\n",
       "      <td>5</td>\n",
       "      <td>在超英漫改这个类型片被推向肥皂剧和严肃剧两个极端的当下，派导用一种极为纯真的笔触将超英电影带...</td>\n",
       "      <td>194</td>\n",
       "    </tr>\n",
       "    <tr>\n",
       "      <th>28</th>\n",
       "      <td>2020-12-11 15:28:40</td>\n",
       "      <td>豆瓣路人己</td>\n",
       "      <td>看过</td>\n",
       "      <td>2</td>\n",
       "      <td>恭喜女子铁人三项选手最后用荡秋千的方式击败了对手。作为DC粉，实在不能接受这部的安排，全片冗...</td>\n",
       "      <td>535</td>\n",
       "    </tr>\n",
       "    <tr>\n",
       "      <th>29</th>\n",
       "      <td>2020-12-18 03:15:04</td>\n",
       "      <td>忧郁的奇异果</td>\n",
       "      <td>看过</td>\n",
       "      <td>4</td>\n",
       "      <td>戴眼镜的nerdy女同事在我睡醒后突然变成了青面獠牙满身毛的豹子精 女侠的混天绫因为风太大无...</td>\n",
       "      <td>151</td>\n",
       "    </tr>\n",
       "    <tr>\n",
       "      <th>30</th>\n",
       "      <td>2020-12-15 14:39:01</td>\n",
       "      <td>[已注销]</td>\n",
       "      <td>看过</td>\n",
       "      <td>1</td>\n",
       "      <td>我们想看的是《神奇女侠》不是《说教女侠》</td>\n",
       "      <td>208</td>\n",
       "    </tr>\n",
       "    <tr>\n",
       "      <th>31</th>\n",
       "      <td>2020-12-18 02:53:15</td>\n",
       "      <td>Krten | 阿路</td>\n",
       "      <td>看过</td>\n",
       "      <td>2</td>\n",
       "      <td>我想取消愿望，还我两个半小时！！</td>\n",
       "      <td>356</td>\n",
       "    </tr>\n",
       "    <tr>\n",
       "      <th>33</th>\n",
       "      <td>2020-12-18 03:08:16</td>\n",
       "      <td>iriselite</td>\n",
       "      <td>看过</td>\n",
       "      <td>5</td>\n",
       "      <td>一开始戴安娜小时候在天堂岛的竞技那段激烈紧张，引人入胜。本片回归到了时髦新潮的美好80年代，...</td>\n",
       "      <td>104</td>\n",
       "    </tr>\n",
       "    <tr>\n",
       "      <th>34</th>\n",
       "      <td>2020-12-18 03:48:57</td>\n",
       "      <td>FLYPIG</td>\n",
       "      <td>看过</td>\n",
       "      <td>2</td>\n",
       "      <td>有多难看呢？本人一个每天凌晨六点才睡觉的人，看首映打了二十个哈欠。</td>\n",
       "      <td>213</td>\n",
       "    </tr>\n",
       "    <tr>\n",
       "      <th>41</th>\n",
       "      <td>2020-12-18 17:47:26</td>\n",
       "      <td>嘟嘟熊之父</td>\n",
       "      <td>看过</td>\n",
       "      <td>2</td>\n",
       "      <td>太老派太儿戏太没有化学反应了，我感觉自己一边在看蒋雯丽老师和陈宝国老师黄昏恋，一边在看他们联...</td>\n",
       "      <td>142</td>\n",
       "    </tr>\n",
       "    <tr>\n",
       "      <th>45</th>\n",
       "      <td>2020-12-18 18:50:30</td>\n",
       "      <td>路易十七</td>\n",
       "      <td>看过</td>\n",
       "      <td>4</td>\n",
       "      <td>即使在大女主电影里，女主也可以是天真，敏感，脆弱，同时充满女性魅力，有着强大的实力却也有没能...</td>\n",
       "      <td>127</td>\n",
       "    </tr>\n",
       "    <tr>\n",
       "      <th>56</th>\n",
       "      <td>2020-12-18 08:12:33</td>\n",
       "      <td>技术原因</td>\n",
       "      <td>看过</td>\n",
       "      <td>2</td>\n",
       "      <td>\\n《神奇女侠2:DC已死》\\n</td>\n",
       "      <td>167</td>\n",
       "    </tr>\n",
       "    <tr>\n",
       "      <th>57</th>\n",
       "      <td>2020-12-18 02:29:59</td>\n",
       "      <td>Eudilav</td>\n",
       "      <td>看过</td>\n",
       "      <td>2</td>\n",
       "      <td>加朵被坑得最惨的一次。最好看的是开头，再用又长又臭的篇幅讲了两个loser 一夜翻身又被圣母...</td>\n",
       "      <td>132</td>\n",
       "    </tr>\n",
       "    <tr>\n",
       "      <th>59</th>\n",
       "      <td>2020-12-18 10:51:05</td>\n",
       "      <td>郭连凯</td>\n",
       "      <td>看过</td>\n",
       "      <td>2</td>\n",
       "      <td>拍到最后是没钱了吧？是没钱了吧？是吧？</td>\n",
       "      <td>105</td>\n",
       "    </tr>\n",
       "    <tr>\n",
       "      <th>66</th>\n",
       "      <td>2020-12-18 21:55:09</td>\n",
       "      <td>大罗</td>\n",
       "      <td>看过</td>\n",
       "      <td>2</td>\n",
       "      <td>“只要你放弃男人，你就可以变强！甚至还能学会飞！！”哈哈哈哈哈</td>\n",
       "      <td>120</td>\n",
       "    </tr>\n",
       "  </tbody>\n",
       "</table>\n",
       "</div>"
      ],
      "text/plain": [
       "                   date        name seen  star  \\\n",
       "0   2020-12-17 12:31:55          阿暖   看过     4   \n",
       "1   2020-12-10 13:32:24        豆蔻年华   看过     1   \n",
       "2   2020-12-18 02:27:55  #cenotaph#   看过     2   \n",
       "3   2020-12-14 18:25:00         天马星   看过     5   \n",
       "4   2020-12-18 02:57:23    Lynchman   看过     3   \n",
       "5   2020-12-18 20:12:34     深夜的阿斯伯格   看过     3   \n",
       "6   2020-12-18 14:28:29         朝暮雪   看过     3   \n",
       "7   2020-12-07 13:26:58       烟波人长安   看过     5   \n",
       "8   2020-12-18 03:27:37        有心打扰   看过     3   \n",
       "9   2020-12-07 14:05:40     摇又鸟又鸟的狗   看过     4   \n",
       "10  2020-12-18 01:27:03   张咏轩Wayne®   看过     2   \n",
       "11  2020-12-18 15:57:45         王大根   看过     3   \n",
       "12  2020-12-18 02:56:37  Ada🧣Wong💋💍   看过     4   \n",
       "13  2020-12-18 03:09:52        Luke   看过     4   \n",
       "14  2020-12-16 23:56:53    zykmilan   看过     3   \n",
       "15  2020-12-18 16:14:26          飞佳   看过     3   \n",
       "16  2020-12-07 13:44:24         林微云   看过     4   \n",
       "17  2020-12-18 19:02:46       文森特九六   看过     3   \n",
       "18  2020-12-18 15:34:59          鹤然   看过     4   \n",
       "19  2020-12-17 01:02:22      京客隆小丸子   看过     5   \n",
       "20  2020-12-18 03:33:09         丿毛头   看过     4   \n",
       "21  2020-12-18 02:43:14        次等水货   看过     1   \n",
       "22  2020-12-17 22:11:29          元帅   看过     4   \n",
       "23  2020-12-18 18:45:49         捧与挖   看过     3   \n",
       "24  2020-12-18 00:04:48         木石子   看过     2   \n",
       "25  2020-12-09 23:53:28        影随茵动   看过     4   \n",
       "26  2020-12-18 04:23:31     明月何时照哥谭   看过     5   \n",
       "28  2020-12-11 15:28:40       豆瓣路人己   看过     2   \n",
       "29  2020-12-18 03:15:04      忧郁的奇异果   看过     4   \n",
       "30  2020-12-15 14:39:01       [已注销]   看过     1   \n",
       "31  2020-12-18 02:53:15  Krten | 阿路   看过     2   \n",
       "33  2020-12-18 03:08:16   iriselite   看过     5   \n",
       "34  2020-12-18 03:48:57      FLYPIG   看过     2   \n",
       "41  2020-12-18 17:47:26       嘟嘟熊之父   看过     2   \n",
       "45  2020-12-18 18:50:30        路易十七   看过     4   \n",
       "56  2020-12-18 08:12:33        技术原因   看过     2   \n",
       "57  2020-12-18 02:29:59     Eudilav   看过     2   \n",
       "59  2020-12-18 10:51:05         郭连凯   看过     2   \n",
       "66  2020-12-18 21:55:09          大罗   看过     2   \n",
       "\n",
       "                                                 text  votes  \n",
       "0   最意外的是，在这个故事里竟然看到某种波伏娃式的冷酷与绝望——一个完美女性可以拥有一切，美貌，...   2321  \n",
       "1                 打斗戏太拉胯，根本没法看。广场舞都比她更有力度，土味视频都比她有演技。    456  \n",
       "2                                             野猫大战卷帘门   2147  \n",
       "3   二刷激光IMAX后依旧确信《神奇女侠1984》是我今年最爱的院线片，原因有二。一是延续了DC...   1025  \n",
       "4                                  《请回答1984：如果川普统治世界》   3613  \n",
       "5                           我希望这个世界上没有伪3D，并让更多人看到这条短评   2259  \n",
       "6   不是传统的超级英雄电影，不是爆米花爽片，而是更偏向剧情片。\\n动作戏和第一部相比有所退步，不...   1073  \n",
       "7   本来正义联盟之后我都快对dc不抱什么期望了，盖尔加朵又给我打了针强心剂。没想到这一部拍得这么...    787  \n",
       "8             千万不要在生日的时候对着生日蛋糕上的蜡烛乱许愿望，你都不知道它会对你做出什么。    886  \n",
       "9   首先想说，我并不是一个超英电影爱好者，我总觉得靠一个人发挥神力、噼里啪啦一顿大战就能拯救世界...   1782  \n",
       "10  太差了，枉顾逻辑纯扯淡，这个女导演是真正的婆妈话痨。大篇幅废话连篇，干货少，成本缩减的可怜，...   1231  \n",
       "11  怎么会这么金凯瑞电影+小鸡片，换装小游戏都出来了，难以相信当下全球最知名的女性超级英雄电影，...    439  \n",
       "12  8/10，这个许愿石的点子想的非常好，既解决了史蒂夫的回归的问题，也成功地树立了两个反派形象...   1209  \n",
       "13  结尾真的拍得好善良，女侠最后的念白简直像是送给过去的一年的。影片一开始挺糟糕，还好从中间开始...   1186  \n",
       "14  也许是期待不高，其实电影的大部分段落还是很不错的，尤其喜欢的是展现纵使强如Diana也有如常...    349  \n",
       "15       好失望，没了加朵没法儿看。没有完全利用好1984的时代背景，反而剧本水平停留在1984。    259  \n",
       "16  当欲望将你的灵魂吞噬，只有爱与希望才能挽救这可怕的世界，在白雪飘落的圣诞季🎄用一部温暖治愈的...    472  \n",
       "17  极度盲目女权与极度盲目厌男，派蒂·杰金斯在或傲慢或惧怕的加持下亢奋过头，并将第一部的愚蠢无限...    112  \n",
       "18            能理解为什么diana爱了steve这么多年，超英电影宇宙里唯一说服我的爱情。    319  \n",
       "19                             女侠升级黄金圣斗士，男友换脸整容陪你过圣诞。    515  \n",
       "20  1.超强版的阿拉丁神灯。\\n2.上帝为你开了扇窗，顺手也带上了门。\\n3.黛安娜的剑和盾去哪...    273  \n",
       "21    观众都能走到编剧的前面了，太失败了。主题太陈旧，格局也很小。毁我盖尔加朵，导演和编剧我都想打。    228  \n",
       "22  牛逼如diana依然逃不过的实现不了愿望的宿命感也太令人绝望了 孕期荷尔蒙太夸张 在dian...    211  \n",
       "23  我哭了我又哭了我趴在派派的肩膀上哭！承包全世界最好的WonderSteve！戴安娜说她再也不...    115  \n",
       "24  导演但凡知道中国有一个成语叫“自相矛盾”，就不会拍出这么逻辑不通的傻缺电影，还拍了两个半小时...    841  \n",
       "25  小戴安娜试炼的开篇太燃了，加朵美丽依旧，男主复活的设置在逻辑上是完全自洽的，情节比第一部至少...    217  \n",
       "26  在超英漫改这个类型片被推向肥皂剧和严肃剧两个极端的当下，派导用一种极为纯真的笔触将超英电影带...    194  \n",
       "28  恭喜女子铁人三项选手最后用荡秋千的方式击败了对手。作为DC粉，实在不能接受这部的安排，全片冗...    535  \n",
       "29  戴眼镜的nerdy女同事在我睡醒后突然变成了青面獠牙满身毛的豹子精 女侠的混天绫因为风太大无...    151  \n",
       "30                               我们想看的是《神奇女侠》不是《说教女侠》    208  \n",
       "31                                   我想取消愿望，还我两个半小时！！    356  \n",
       "33  一开始戴安娜小时候在天堂岛的竞技那段激烈紧张，引人入胜。本片回归到了时髦新潮的美好80年代，...    104  \n",
       "34                  有多难看呢？本人一个每天凌晨六点才睡觉的人，看首映打了二十个哈欠。    213  \n",
       "41  太老派太儿戏太没有化学反应了，我感觉自己一边在看蒋雯丽老师和陈宝国老师黄昏恋，一边在看他们联...    142  \n",
       "45  即使在大女主电影里，女主也可以是天真，敏感，脆弱，同时充满女性魅力，有着强大的实力却也有没能...    127  \n",
       "56                                   \\n《神奇女侠2:DC已死》\\n    167  \n",
       "57  加朵被坑得最惨的一次。最好看的是开头，再用又长又臭的篇幅讲了两个loser 一夜翻身又被圣母...    132  \n",
       "59                                拍到最后是没钱了吧？是没钱了吧？是吧？    105  \n",
       "66                    “只要你放弃男人，你就可以变强！甚至还能学会飞！！”哈哈哈哈哈    120  "
      ]
     },
     "execution_count": 57,
     "metadata": {},
     "output_type": "execute_result"
    }
   ],
   "source": [
    "csv[csv['votes']>=100]"
   ]
  },
  {
   "cell_type": "code",
   "execution_count": 58,
   "metadata": {},
   "outputs": [
    {
     "data": {
      "text/html": [
       "<div>\n",
       "<style scoped>\n",
       "    .dataframe tbody tr th:only-of-type {\n",
       "        vertical-align: middle;\n",
       "    }\n",
       "\n",
       "    .dataframe tbody tr th {\n",
       "        vertical-align: top;\n",
       "    }\n",
       "\n",
       "    .dataframe thead th {\n",
       "        text-align: right;\n",
       "    }\n",
       "</style>\n",
       "<table border=\"1\" class=\"dataframe\">\n",
       "  <thead>\n",
       "    <tr style=\"text-align: right;\">\n",
       "      <th></th>\n",
       "      <th>date</th>\n",
       "      <th>name</th>\n",
       "      <th>seen</th>\n",
       "      <th>star</th>\n",
       "      <th>text</th>\n",
       "      <th>votes</th>\n",
       "    </tr>\n",
       "  </thead>\n",
       "  <tbody>\n",
       "    <tr>\n",
       "      <th>0</th>\n",
       "      <td>2020-12-17 12:31:55</td>\n",
       "      <td>阿暖</td>\n",
       "      <td>看过</td>\n",
       "      <td>4</td>\n",
       "      <td>最意外的是，在这个故事里竟然看到某种波伏娃式的冷酷与绝望——一个完美女性可以拥有一切，美貌，...</td>\n",
       "      <td>2321</td>\n",
       "    </tr>\n",
       "    <tr>\n",
       "      <th>2</th>\n",
       "      <td>2020-12-18 02:27:55</td>\n",
       "      <td>#cenotaph#</td>\n",
       "      <td>看过</td>\n",
       "      <td>2</td>\n",
       "      <td>野猫大战卷帘门</td>\n",
       "      <td>2147</td>\n",
       "    </tr>\n",
       "    <tr>\n",
       "      <th>3</th>\n",
       "      <td>2020-12-14 18:25:00</td>\n",
       "      <td>天马星</td>\n",
       "      <td>看过</td>\n",
       "      <td>5</td>\n",
       "      <td>二刷激光IMAX后依旧确信《神奇女侠1984》是我今年最爱的院线片，原因有二。一是延续了DC...</td>\n",
       "      <td>1025</td>\n",
       "    </tr>\n",
       "    <tr>\n",
       "      <th>4</th>\n",
       "      <td>2020-12-18 02:57:23</td>\n",
       "      <td>Lynchman</td>\n",
       "      <td>看过</td>\n",
       "      <td>3</td>\n",
       "      <td>《请回答1984：如果川普统治世界》</td>\n",
       "      <td>3613</td>\n",
       "    </tr>\n",
       "    <tr>\n",
       "      <th>5</th>\n",
       "      <td>2020-12-18 20:12:34</td>\n",
       "      <td>深夜的阿斯伯格</td>\n",
       "      <td>看过</td>\n",
       "      <td>3</td>\n",
       "      <td>我希望这个世界上没有伪3D，并让更多人看到这条短评</td>\n",
       "      <td>2259</td>\n",
       "    </tr>\n",
       "    <tr>\n",
       "      <th>6</th>\n",
       "      <td>2020-12-18 14:28:29</td>\n",
       "      <td>朝暮雪</td>\n",
       "      <td>看过</td>\n",
       "      <td>3</td>\n",
       "      <td>不是传统的超级英雄电影，不是爆米花爽片，而是更偏向剧情片。\\n动作戏和第一部相比有所退步，不...</td>\n",
       "      <td>1073</td>\n",
       "    </tr>\n",
       "    <tr>\n",
       "      <th>7</th>\n",
       "      <td>2020-12-07 13:26:58</td>\n",
       "      <td>烟波人长安</td>\n",
       "      <td>看过</td>\n",
       "      <td>5</td>\n",
       "      <td>本来正义联盟之后我都快对dc不抱什么期望了，盖尔加朵又给我打了针强心剂。没想到这一部拍得这么...</td>\n",
       "      <td>787</td>\n",
       "    </tr>\n",
       "    <tr>\n",
       "      <th>8</th>\n",
       "      <td>2020-12-18 03:27:37</td>\n",
       "      <td>有心打扰</td>\n",
       "      <td>看过</td>\n",
       "      <td>3</td>\n",
       "      <td>千万不要在生日的时候对着生日蛋糕上的蜡烛乱许愿望，你都不知道它会对你做出什么。</td>\n",
       "      <td>886</td>\n",
       "    </tr>\n",
       "    <tr>\n",
       "      <th>9</th>\n",
       "      <td>2020-12-07 14:05:40</td>\n",
       "      <td>摇又鸟又鸟的狗</td>\n",
       "      <td>看过</td>\n",
       "      <td>4</td>\n",
       "      <td>首先想说，我并不是一个超英电影爱好者，我总觉得靠一个人发挥神力、噼里啪啦一顿大战就能拯救世界...</td>\n",
       "      <td>1782</td>\n",
       "    </tr>\n",
       "    <tr>\n",
       "      <th>10</th>\n",
       "      <td>2020-12-18 01:27:03</td>\n",
       "      <td>张咏轩Wayne®</td>\n",
       "      <td>看过</td>\n",
       "      <td>2</td>\n",
       "      <td>太差了，枉顾逻辑纯扯淡，这个女导演是真正的婆妈话痨。大篇幅废话连篇，干货少，成本缩减的可怜，...</td>\n",
       "      <td>1231</td>\n",
       "    </tr>\n",
       "    <tr>\n",
       "      <th>12</th>\n",
       "      <td>2020-12-18 02:56:37</td>\n",
       "      <td>Ada🧣Wong💋💍</td>\n",
       "      <td>看过</td>\n",
       "      <td>4</td>\n",
       "      <td>8/10，这个许愿石的点子想的非常好，既解决了史蒂夫的回归的问题，也成功地树立了两个反派形象...</td>\n",
       "      <td>1209</td>\n",
       "    </tr>\n",
       "    <tr>\n",
       "      <th>13</th>\n",
       "      <td>2020-12-18 03:09:52</td>\n",
       "      <td>Luke</td>\n",
       "      <td>看过</td>\n",
       "      <td>4</td>\n",
       "      <td>结尾真的拍得好善良，女侠最后的念白简直像是送给过去的一年的。影片一开始挺糟糕，还好从中间开始...</td>\n",
       "      <td>1186</td>\n",
       "    </tr>\n",
       "    <tr>\n",
       "      <th>19</th>\n",
       "      <td>2020-12-17 01:02:22</td>\n",
       "      <td>京客隆小丸子</td>\n",
       "      <td>看过</td>\n",
       "      <td>5</td>\n",
       "      <td>女侠升级黄金圣斗士，男友换脸整容陪你过圣诞。</td>\n",
       "      <td>515</td>\n",
       "    </tr>\n",
       "    <tr>\n",
       "      <th>24</th>\n",
       "      <td>2020-12-18 00:04:48</td>\n",
       "      <td>木石子</td>\n",
       "      <td>看过</td>\n",
       "      <td>2</td>\n",
       "      <td>导演但凡知道中国有一个成语叫“自相矛盾”，就不会拍出这么逻辑不通的傻缺电影，还拍了两个半小时...</td>\n",
       "      <td>841</td>\n",
       "    </tr>\n",
       "    <tr>\n",
       "      <th>28</th>\n",
       "      <td>2020-12-11 15:28:40</td>\n",
       "      <td>豆瓣路人己</td>\n",
       "      <td>看过</td>\n",
       "      <td>2</td>\n",
       "      <td>恭喜女子铁人三项选手最后用荡秋千的方式击败了对手。作为DC粉，实在不能接受这部的安排，全片冗...</td>\n",
       "      <td>535</td>\n",
       "    </tr>\n",
       "  </tbody>\n",
       "</table>\n",
       "</div>"
      ],
      "text/plain": [
       "                   date        name seen  star  \\\n",
       "0   2020-12-17 12:31:55          阿暖   看过     4   \n",
       "2   2020-12-18 02:27:55  #cenotaph#   看过     2   \n",
       "3   2020-12-14 18:25:00         天马星   看过     5   \n",
       "4   2020-12-18 02:57:23    Lynchman   看过     3   \n",
       "5   2020-12-18 20:12:34     深夜的阿斯伯格   看过     3   \n",
       "6   2020-12-18 14:28:29         朝暮雪   看过     3   \n",
       "7   2020-12-07 13:26:58       烟波人长安   看过     5   \n",
       "8   2020-12-18 03:27:37        有心打扰   看过     3   \n",
       "9   2020-12-07 14:05:40     摇又鸟又鸟的狗   看过     4   \n",
       "10  2020-12-18 01:27:03   张咏轩Wayne®   看过     2   \n",
       "12  2020-12-18 02:56:37  Ada🧣Wong💋💍   看过     4   \n",
       "13  2020-12-18 03:09:52        Luke   看过     4   \n",
       "19  2020-12-17 01:02:22      京客隆小丸子   看过     5   \n",
       "24  2020-12-18 00:04:48         木石子   看过     2   \n",
       "28  2020-12-11 15:28:40       豆瓣路人己   看过     2   \n",
       "\n",
       "                                                 text  votes  \n",
       "0   最意外的是，在这个故事里竟然看到某种波伏娃式的冷酷与绝望——一个完美女性可以拥有一切，美貌，...   2321  \n",
       "2                                             野猫大战卷帘门   2147  \n",
       "3   二刷激光IMAX后依旧确信《神奇女侠1984》是我今年最爱的院线片，原因有二。一是延续了DC...   1025  \n",
       "4                                  《请回答1984：如果川普统治世界》   3613  \n",
       "5                           我希望这个世界上没有伪3D，并让更多人看到这条短评   2259  \n",
       "6   不是传统的超级英雄电影，不是爆米花爽片，而是更偏向剧情片。\\n动作戏和第一部相比有所退步，不...   1073  \n",
       "7   本来正义联盟之后我都快对dc不抱什么期望了，盖尔加朵又给我打了针强心剂。没想到这一部拍得这么...    787  \n",
       "8             千万不要在生日的时候对着生日蛋糕上的蜡烛乱许愿望，你都不知道它会对你做出什么。    886  \n",
       "9   首先想说，我并不是一个超英电影爱好者，我总觉得靠一个人发挥神力、噼里啪啦一顿大战就能拯救世界...   1782  \n",
       "10  太差了，枉顾逻辑纯扯淡，这个女导演是真正的婆妈话痨。大篇幅废话连篇，干货少，成本缩减的可怜，...   1231  \n",
       "12  8/10，这个许愿石的点子想的非常好，既解决了史蒂夫的回归的问题，也成功地树立了两个反派形象...   1209  \n",
       "13  结尾真的拍得好善良，女侠最后的念白简直像是送给过去的一年的。影片一开始挺糟糕，还好从中间开始...   1186  \n",
       "19                             女侠升级黄金圣斗士，男友换脸整容陪你过圣诞。    515  \n",
       "24  导演但凡知道中国有一个成语叫“自相矛盾”，就不会拍出这么逻辑不通的傻缺电影，还拍了两个半小时...    841  \n",
       "28  恭喜女子铁人三项选手最后用荡秋千的方式击败了对手。作为DC粉，实在不能接受这部的安排，全片冗...    535  "
      ]
     },
     "execution_count": 58,
     "metadata": {},
     "output_type": "execute_result"
    }
   ],
   "source": [
    "csv[csv['votes']>=500]"
   ]
  },
  {
   "cell_type": "code",
   "execution_count": 59,
   "metadata": {},
   "outputs": [
    {
     "data": {
      "text/html": [
       "<div>\n",
       "<style scoped>\n",
       "    .dataframe tbody tr th:only-of-type {\n",
       "        vertical-align: middle;\n",
       "    }\n",
       "\n",
       "    .dataframe tbody tr th {\n",
       "        vertical-align: top;\n",
       "    }\n",
       "\n",
       "    .dataframe thead th {\n",
       "        text-align: right;\n",
       "    }\n",
       "</style>\n",
       "<table border=\"1\" class=\"dataframe\">\n",
       "  <thead>\n",
       "    <tr style=\"text-align: right;\">\n",
       "      <th></th>\n",
       "      <th>date</th>\n",
       "      <th>name</th>\n",
       "      <th>seen</th>\n",
       "      <th>star</th>\n",
       "      <th>text</th>\n",
       "      <th>votes</th>\n",
       "    </tr>\n",
       "  </thead>\n",
       "  <tbody>\n",
       "    <tr>\n",
       "      <th>0</th>\n",
       "      <td>2020-12-17 12:31:55</td>\n",
       "      <td>阿暖</td>\n",
       "      <td>看过</td>\n",
       "      <td>4</td>\n",
       "      <td>最意外的是，在这个故事里竟然看到某种波伏娃式的冷酷与绝望——一个完美女性可以拥有一切，美貌，...</td>\n",
       "      <td>2321</td>\n",
       "    </tr>\n",
       "    <tr>\n",
       "      <th>2</th>\n",
       "      <td>2020-12-18 02:27:55</td>\n",
       "      <td>#cenotaph#</td>\n",
       "      <td>看过</td>\n",
       "      <td>2</td>\n",
       "      <td>野猫大战卷帘门</td>\n",
       "      <td>2147</td>\n",
       "    </tr>\n",
       "    <tr>\n",
       "      <th>3</th>\n",
       "      <td>2020-12-14 18:25:00</td>\n",
       "      <td>天马星</td>\n",
       "      <td>看过</td>\n",
       "      <td>5</td>\n",
       "      <td>二刷激光IMAX后依旧确信《神奇女侠1984》是我今年最爱的院线片，原因有二。一是延续了DC...</td>\n",
       "      <td>1025</td>\n",
       "    </tr>\n",
       "    <tr>\n",
       "      <th>4</th>\n",
       "      <td>2020-12-18 02:57:23</td>\n",
       "      <td>Lynchman</td>\n",
       "      <td>看过</td>\n",
       "      <td>3</td>\n",
       "      <td>《请回答1984：如果川普统治世界》</td>\n",
       "      <td>3613</td>\n",
       "    </tr>\n",
       "    <tr>\n",
       "      <th>5</th>\n",
       "      <td>2020-12-18 20:12:34</td>\n",
       "      <td>深夜的阿斯伯格</td>\n",
       "      <td>看过</td>\n",
       "      <td>3</td>\n",
       "      <td>我希望这个世界上没有伪3D，并让更多人看到这条短评</td>\n",
       "      <td>2259</td>\n",
       "    </tr>\n",
       "    <tr>\n",
       "      <th>6</th>\n",
       "      <td>2020-12-18 14:28:29</td>\n",
       "      <td>朝暮雪</td>\n",
       "      <td>看过</td>\n",
       "      <td>3</td>\n",
       "      <td>不是传统的超级英雄电影，不是爆米花爽片，而是更偏向剧情片。\\n动作戏和第一部相比有所退步，不...</td>\n",
       "      <td>1073</td>\n",
       "    </tr>\n",
       "    <tr>\n",
       "      <th>8</th>\n",
       "      <td>2020-12-18 03:27:37</td>\n",
       "      <td>有心打扰</td>\n",
       "      <td>看过</td>\n",
       "      <td>3</td>\n",
       "      <td>千万不要在生日的时候对着生日蛋糕上的蜡烛乱许愿望，你都不知道它会对你做出什么。</td>\n",
       "      <td>886</td>\n",
       "    </tr>\n",
       "    <tr>\n",
       "      <th>9</th>\n",
       "      <td>2020-12-07 14:05:40</td>\n",
       "      <td>摇又鸟又鸟的狗</td>\n",
       "      <td>看过</td>\n",
       "      <td>4</td>\n",
       "      <td>首先想说，我并不是一个超英电影爱好者，我总觉得靠一个人发挥神力、噼里啪啦一顿大战就能拯救世界...</td>\n",
       "      <td>1782</td>\n",
       "    </tr>\n",
       "    <tr>\n",
       "      <th>10</th>\n",
       "      <td>2020-12-18 01:27:03</td>\n",
       "      <td>张咏轩Wayne®</td>\n",
       "      <td>看过</td>\n",
       "      <td>2</td>\n",
       "      <td>太差了，枉顾逻辑纯扯淡，这个女导演是真正的婆妈话痨。大篇幅废话连篇，干货少，成本缩减的可怜，...</td>\n",
       "      <td>1231</td>\n",
       "    </tr>\n",
       "    <tr>\n",
       "      <th>12</th>\n",
       "      <td>2020-12-18 02:56:37</td>\n",
       "      <td>Ada🧣Wong💋💍</td>\n",
       "      <td>看过</td>\n",
       "      <td>4</td>\n",
       "      <td>8/10，这个许愿石的点子想的非常好，既解决了史蒂夫的回归的问题，也成功地树立了两个反派形象...</td>\n",
       "      <td>1209</td>\n",
       "    </tr>\n",
       "    <tr>\n",
       "      <th>13</th>\n",
       "      <td>2020-12-18 03:09:52</td>\n",
       "      <td>Luke</td>\n",
       "      <td>看过</td>\n",
       "      <td>4</td>\n",
       "      <td>结尾真的拍得好善良，女侠最后的念白简直像是送给过去的一年的。影片一开始挺糟糕，还好从中间开始...</td>\n",
       "      <td>1186</td>\n",
       "    </tr>\n",
       "    <tr>\n",
       "      <th>24</th>\n",
       "      <td>2020-12-18 00:04:48</td>\n",
       "      <td>木石子</td>\n",
       "      <td>看过</td>\n",
       "      <td>2</td>\n",
       "      <td>导演但凡知道中国有一个成语叫“自相矛盾”，就不会拍出这么逻辑不通的傻缺电影，还拍了两个半小时...</td>\n",
       "      <td>841</td>\n",
       "    </tr>\n",
       "  </tbody>\n",
       "</table>\n",
       "</div>"
      ],
      "text/plain": [
       "                   date        name seen  star  \\\n",
       "0   2020-12-17 12:31:55          阿暖   看过     4   \n",
       "2   2020-12-18 02:27:55  #cenotaph#   看过     2   \n",
       "3   2020-12-14 18:25:00         天马星   看过     5   \n",
       "4   2020-12-18 02:57:23    Lynchman   看过     3   \n",
       "5   2020-12-18 20:12:34     深夜的阿斯伯格   看过     3   \n",
       "6   2020-12-18 14:28:29         朝暮雪   看过     3   \n",
       "8   2020-12-18 03:27:37        有心打扰   看过     3   \n",
       "9   2020-12-07 14:05:40     摇又鸟又鸟的狗   看过     4   \n",
       "10  2020-12-18 01:27:03   张咏轩Wayne®   看过     2   \n",
       "12  2020-12-18 02:56:37  Ada🧣Wong💋💍   看过     4   \n",
       "13  2020-12-18 03:09:52        Luke   看过     4   \n",
       "24  2020-12-18 00:04:48         木石子   看过     2   \n",
       "\n",
       "                                                 text  votes  \n",
       "0   最意外的是，在这个故事里竟然看到某种波伏娃式的冷酷与绝望——一个完美女性可以拥有一切，美貌，...   2321  \n",
       "2                                             野猫大战卷帘门   2147  \n",
       "3   二刷激光IMAX后依旧确信《神奇女侠1984》是我今年最爱的院线片，原因有二。一是延续了DC...   1025  \n",
       "4                                  《请回答1984：如果川普统治世界》   3613  \n",
       "5                           我希望这个世界上没有伪3D，并让更多人看到这条短评   2259  \n",
       "6   不是传统的超级英雄电影，不是爆米花爽片，而是更偏向剧情片。\\n动作戏和第一部相比有所退步，不...   1073  \n",
       "8             千万不要在生日的时候对着生日蛋糕上的蜡烛乱许愿望，你都不知道它会对你做出什么。    886  \n",
       "9   首先想说，我并不是一个超英电影爱好者，我总觉得靠一个人发挥神力、噼里啪啦一顿大战就能拯救世界...   1782  \n",
       "10  太差了，枉顾逻辑纯扯淡，这个女导演是真正的婆妈话痨。大篇幅废话连篇，干货少，成本缩减的可怜，...   1231  \n",
       "12  8/10，这个许愿石的点子想的非常好，既解决了史蒂夫的回归的问题，也成功地树立了两个反派形象...   1209  \n",
       "13  结尾真的拍得好善良，女侠最后的念白简直像是送给过去的一年的。影片一开始挺糟糕，还好从中间开始...   1186  \n",
       "24  导演但凡知道中国有一个成语叫“自相矛盾”，就不会拍出这么逻辑不通的傻缺电影，还拍了两个半小时...    841  "
      ]
     },
     "execution_count": 59,
     "metadata": {},
     "output_type": "execute_result"
    }
   ],
   "source": [
    "csv[csv['votes']>=800]"
   ]
  },
  {
   "cell_type": "code",
   "execution_count": 60,
   "metadata": {},
   "outputs": [
    {
     "data": {
      "text/plain": [
       "0       True\n",
       "1      False\n",
       "2       True\n",
       "3       True\n",
       "4       True\n",
       "       ...  \n",
       "495    False\n",
       "496    False\n",
       "497    False\n",
       "498    False\n",
       "499    False\n",
       "Name: votes, Length: 500, dtype: bool"
      ]
     },
     "execution_count": 60,
     "metadata": {},
     "output_type": "execute_result"
    }
   ],
   "source": [
    "csv['votes']>=1000"
   ]
  },
  {
   "cell_type": "code",
   "execution_count": 61,
   "metadata": {},
   "outputs": [
    {
     "data": {
      "text/plain": [
       "date                     2020-12-10 13:32:24\n",
       "name                                    豆蔻年华\n",
       "seen                                      看过\n",
       "star                                       1\n",
       "text     打斗戏太拉胯，根本没法看。广场舞都比她更有力度，土味视频都比她有演技。\n",
       "votes                                    456\n",
       "Name: 1, dtype: object"
      ]
     },
     "execution_count": 61,
     "metadata": {},
     "output_type": "execute_result"
    }
   ],
   "source": [
    "csv.loc[1]"
   ]
  },
  {
   "cell_type": "code",
   "execution_count": 62,
   "metadata": {},
   "outputs": [
    {
     "data": {
      "text/plain": [
       "'豆蔻年华'"
      ]
     },
     "execution_count": 62,
     "metadata": {},
     "output_type": "execute_result"
    }
   ],
   "source": [
    "csv.loc[1,'name']"
   ]
  },
  {
   "cell_type": "code",
   "execution_count": 63,
   "metadata": {},
   "outputs": [
    {
     "data": {
      "text/plain": [
       "'豆蔻年华'"
      ]
     },
     "execution_count": 63,
     "metadata": {},
     "output_type": "execute_result"
    }
   ],
   "source": [
    "csv.iloc[1,1]"
   ]
  },
  {
   "cell_type": "code",
   "execution_count": 64,
   "metadata": {},
   "outputs": [
    {
     "data": {
      "text/plain": [
       "456"
      ]
     },
     "execution_count": 64,
     "metadata": {},
     "output_type": "execute_result"
    }
   ],
   "source": [
    "csv.iloc[1,5]"
   ]
  },
  {
   "cell_type": "code",
   "execution_count": 65,
   "metadata": {},
   "outputs": [
    {
     "data": {
      "text/plain": [
       "456"
      ]
     },
     "execution_count": 65,
     "metadata": {},
     "output_type": "execute_result"
    }
   ],
   "source": [
    "csv.loc[1,'votes']"
   ]
  },
  {
   "cell_type": "code",
   "execution_count": 66,
   "metadata": {},
   "outputs": [
    {
     "data": {
      "text/plain": [
       "'豆蔻年华'"
      ]
     },
     "execution_count": 66,
     "metadata": {},
     "output_type": "execute_result"
    }
   ],
   "source": [
    "csv.at[1,'name']"
   ]
  },
  {
   "cell_type": "code",
   "execution_count": 67,
   "metadata": {},
   "outputs": [
    {
     "data": {
      "text/plain": [
       "'豆蔻年华'"
      ]
     },
     "execution_count": 67,
     "metadata": {},
     "output_type": "execute_result"
    }
   ],
   "source": [
    "csv.iat[1,1]"
   ]
  },
  {
   "cell_type": "code",
   "execution_count": 68,
   "metadata": {},
   "outputs": [
    {
     "data": {
      "text/plain": [
       "456"
      ]
     },
     "execution_count": 68,
     "metadata": {},
     "output_type": "execute_result"
    }
   ],
   "source": [
    "csv.iat[1,5]"
   ]
  },
  {
   "cell_type": "code",
   "execution_count": 69,
   "metadata": {},
   "outputs": [
    {
     "data": {
      "text/html": [
       "<div>\n",
       "<style scoped>\n",
       "    .dataframe tbody tr th:only-of-type {\n",
       "        vertical-align: middle;\n",
       "    }\n",
       "\n",
       "    .dataframe tbody tr th {\n",
       "        vertical-align: top;\n",
       "    }\n",
       "\n",
       "    .dataframe thead th {\n",
       "        text-align: right;\n",
       "    }\n",
       "</style>\n",
       "<table border=\"1\" class=\"dataframe\">\n",
       "  <thead>\n",
       "    <tr style=\"text-align: right;\">\n",
       "      <th></th>\n",
       "      <th>date</th>\n",
       "      <th>name</th>\n",
       "      <th>seen</th>\n",
       "      <th>star</th>\n",
       "      <th>text</th>\n",
       "      <th>votes</th>\n",
       "    </tr>\n",
       "  </thead>\n",
       "  <tbody>\n",
       "    <tr>\n",
       "      <th>1</th>\n",
       "      <td>2020-12-10 13:32:24</td>\n",
       "      <td>豆蔻年华</td>\n",
       "      <td>看过</td>\n",
       "      <td>1</td>\n",
       "      <td>打斗戏太拉胯，根本没法看。广场舞都比她更有力度，土味视频都比她有演技。</td>\n",
       "      <td>456</td>\n",
       "    </tr>\n",
       "    <tr>\n",
       "      <th>2</th>\n",
       "      <td>2020-12-18 02:27:55</td>\n",
       "      <td>#cenotaph#</td>\n",
       "      <td>看过</td>\n",
       "      <td>2</td>\n",
       "      <td>野猫大战卷帘门</td>\n",
       "      <td>2147</td>\n",
       "    </tr>\n",
       "  </tbody>\n",
       "</table>\n",
       "</div>"
      ],
      "text/plain": [
       "                  date        name seen  star  \\\n",
       "1  2020-12-10 13:32:24        豆蔻年华   看过     1   \n",
       "2  2020-12-18 02:27:55  #cenotaph#   看过     2   \n",
       "\n",
       "                                  text  votes  \n",
       "1  打斗戏太拉胯，根本没法看。广场舞都比她更有力度，土味视频都比她有演技。    456  \n",
       "2                              野猫大战卷帘门   2147  "
      ]
     },
     "execution_count": 69,
     "metadata": {},
     "output_type": "execute_result"
    }
   ],
   "source": [
    "csv[1:3]"
   ]
  },
  {
   "cell_type": "code",
   "execution_count": 70,
   "metadata": {},
   "outputs": [
    {
     "data": {
      "text/html": [
       "<div>\n",
       "<style scoped>\n",
       "    .dataframe tbody tr th:only-of-type {\n",
       "        vertical-align: middle;\n",
       "    }\n",
       "\n",
       "    .dataframe tbody tr th {\n",
       "        vertical-align: top;\n",
       "    }\n",
       "\n",
       "    .dataframe thead th {\n",
       "        text-align: right;\n",
       "    }\n",
       "</style>\n",
       "<table border=\"1\" class=\"dataframe\">\n",
       "  <thead>\n",
       "    <tr style=\"text-align: right;\">\n",
       "      <th></th>\n",
       "      <th>date</th>\n",
       "      <th>name</th>\n",
       "      <th>seen</th>\n",
       "      <th>star</th>\n",
       "      <th>text</th>\n",
       "      <th>votes</th>\n",
       "    </tr>\n",
       "  </thead>\n",
       "  <tbody>\n",
       "    <tr>\n",
       "      <th>2</th>\n",
       "      <td>2020-12-18 02:27:55</td>\n",
       "      <td>#cenotaph#</td>\n",
       "      <td>看过</td>\n",
       "      <td>2</td>\n",
       "      <td>野猫大战卷帘门</td>\n",
       "      <td>2147</td>\n",
       "    </tr>\n",
       "    <tr>\n",
       "      <th>3</th>\n",
       "      <td>2020-12-14 18:25:00</td>\n",
       "      <td>天马星</td>\n",
       "      <td>看过</td>\n",
       "      <td>5</td>\n",
       "      <td>二刷激光IMAX后依旧确信《神奇女侠1984》是我今年最爱的院线片，原因有二。一是延续了DC...</td>\n",
       "      <td>1025</td>\n",
       "    </tr>\n",
       "    <tr>\n",
       "      <th>4</th>\n",
       "      <td>2020-12-18 02:57:23</td>\n",
       "      <td>Lynchman</td>\n",
       "      <td>看过</td>\n",
       "      <td>3</td>\n",
       "      <td>《请回答1984：如果川普统治世界》</td>\n",
       "      <td>3613</td>\n",
       "    </tr>\n",
       "  </tbody>\n",
       "</table>\n",
       "</div>"
      ],
      "text/plain": [
       "                  date        name seen  star  \\\n",
       "2  2020-12-18 02:27:55  #cenotaph#   看过     2   \n",
       "3  2020-12-14 18:25:00         天马星   看过     5   \n",
       "4  2020-12-18 02:57:23    Lynchman   看过     3   \n",
       "\n",
       "                                                text  votes  \n",
       "2                                            野猫大战卷帘门   2147  \n",
       "3  二刷激光IMAX后依旧确信《神奇女侠1984》是我今年最爱的院线片，原因有二。一是延续了DC...   1025  \n",
       "4                                 《请回答1984：如果川普统治世界》   3613  "
      ]
     },
     "execution_count": 70,
     "metadata": {},
     "output_type": "execute_result"
    }
   ],
   "source": [
    "csv[2:5]"
   ]
  },
  {
   "cell_type": "code",
   "execution_count": 71,
   "metadata": {},
   "outputs": [
    {
     "data": {
      "text/html": [
       "<div>\n",
       "<style scoped>\n",
       "    .dataframe tbody tr th:only-of-type {\n",
       "        vertical-align: middle;\n",
       "    }\n",
       "\n",
       "    .dataframe tbody tr th {\n",
       "        vertical-align: top;\n",
       "    }\n",
       "\n",
       "    .dataframe thead th {\n",
       "        text-align: right;\n",
       "    }\n",
       "</style>\n",
       "<table border=\"1\" class=\"dataframe\">\n",
       "  <thead>\n",
       "    <tr style=\"text-align: right;\">\n",
       "      <th></th>\n",
       "      <th>date</th>\n",
       "      <th>name</th>\n",
       "      <th>seen</th>\n",
       "      <th>star</th>\n",
       "      <th>text</th>\n",
       "      <th>votes</th>\n",
       "    </tr>\n",
       "  </thead>\n",
       "  <tbody>\n",
       "    <tr>\n",
       "      <th>3</th>\n",
       "      <td>2020-12-14 18:25:00</td>\n",
       "      <td>天马星</td>\n",
       "      <td>看过</td>\n",
       "      <td>5</td>\n",
       "      <td>二刷激光IMAX后依旧确信《神奇女侠1984》是我今年最爱的院线片，原因有二。一是延续了DC...</td>\n",
       "      <td>1025</td>\n",
       "    </tr>\n",
       "    <tr>\n",
       "      <th>4</th>\n",
       "      <td>2020-12-18 02:57:23</td>\n",
       "      <td>Lynchman</td>\n",
       "      <td>看过</td>\n",
       "      <td>3</td>\n",
       "      <td>《请回答1984：如果川普统治世界》</td>\n",
       "      <td>3613</td>\n",
       "    </tr>\n",
       "    <tr>\n",
       "      <th>5</th>\n",
       "      <td>2020-12-18 20:12:34</td>\n",
       "      <td>深夜的阿斯伯格</td>\n",
       "      <td>看过</td>\n",
       "      <td>3</td>\n",
       "      <td>我希望这个世界上没有伪3D，并让更多人看到这条短评</td>\n",
       "      <td>2259</td>\n",
       "    </tr>\n",
       "    <tr>\n",
       "      <th>6</th>\n",
       "      <td>2020-12-18 14:28:29</td>\n",
       "      <td>朝暮雪</td>\n",
       "      <td>看过</td>\n",
       "      <td>3</td>\n",
       "      <td>不是传统的超级英雄电影，不是爆米花爽片，而是更偏向剧情片。\\n动作戏和第一部相比有所退步，不...</td>\n",
       "      <td>1073</td>\n",
       "    </tr>\n",
       "    <tr>\n",
       "      <th>7</th>\n",
       "      <td>2020-12-07 13:26:58</td>\n",
       "      <td>烟波人长安</td>\n",
       "      <td>看过</td>\n",
       "      <td>5</td>\n",
       "      <td>本来正义联盟之后我都快对dc不抱什么期望了，盖尔加朵又给我打了针强心剂。没想到这一部拍得这么...</td>\n",
       "      <td>787</td>\n",
       "    </tr>\n",
       "  </tbody>\n",
       "</table>\n",
       "</div>"
      ],
      "text/plain": [
       "                  date      name seen  star  \\\n",
       "3  2020-12-14 18:25:00       天马星   看过     5   \n",
       "4  2020-12-18 02:57:23  Lynchman   看过     3   \n",
       "5  2020-12-18 20:12:34   深夜的阿斯伯格   看过     3   \n",
       "6  2020-12-18 14:28:29       朝暮雪   看过     3   \n",
       "7  2020-12-07 13:26:58     烟波人长安   看过     5   \n",
       "\n",
       "                                                text  votes  \n",
       "3  二刷激光IMAX后依旧确信《神奇女侠1984》是我今年最爱的院线片，原因有二。一是延续了DC...   1025  \n",
       "4                                 《请回答1984：如果川普统治世界》   3613  \n",
       "5                          我希望这个世界上没有伪3D，并让更多人看到这条短评   2259  \n",
       "6  不是传统的超级英雄电影，不是爆米花爽片，而是更偏向剧情片。\\n动作戏和第一部相比有所退步，不...   1073  \n",
       "7  本来正义联盟之后我都快对dc不抱什么期望了，盖尔加朵又给我打了针强心剂。没想到这一部拍得这么...    787  "
      ]
     },
     "execution_count": 71,
     "metadata": {},
     "output_type": "execute_result"
    }
   ],
   "source": [
    "csv[3:8]"
   ]
  },
  {
   "cell_type": "code",
   "execution_count": 72,
   "metadata": {},
   "outputs": [
    {
     "data": {
      "text/html": [
       "<div>\n",
       "<style scoped>\n",
       "    .dataframe tbody tr th:only-of-type {\n",
       "        vertical-align: middle;\n",
       "    }\n",
       "\n",
       "    .dataframe tbody tr th {\n",
       "        vertical-align: top;\n",
       "    }\n",
       "\n",
       "    .dataframe thead th {\n",
       "        text-align: right;\n",
       "    }\n",
       "</style>\n",
       "<table border=\"1\" class=\"dataframe\">\n",
       "  <thead>\n",
       "    <tr style=\"text-align: right;\">\n",
       "      <th></th>\n",
       "      <th>date</th>\n",
       "      <th>name</th>\n",
       "      <th>seen</th>\n",
       "      <th>star</th>\n",
       "      <th>text</th>\n",
       "      <th>votes</th>\n",
       "    </tr>\n",
       "  </thead>\n",
       "  <tbody>\n",
       "    <tr>\n",
       "      <th>5</th>\n",
       "      <td>2020-12-18 20:12:34</td>\n",
       "      <td>深夜的阿斯伯格</td>\n",
       "      <td>看过</td>\n",
       "      <td>3</td>\n",
       "      <td>我希望这个世界上没有伪3D，并让更多人看到这条短评</td>\n",
       "      <td>2259</td>\n",
       "    </tr>\n",
       "    <tr>\n",
       "      <th>6</th>\n",
       "      <td>2020-12-18 14:28:29</td>\n",
       "      <td>朝暮雪</td>\n",
       "      <td>看过</td>\n",
       "      <td>3</td>\n",
       "      <td>不是传统的超级英雄电影，不是爆米花爽片，而是更偏向剧情片。\\n动作戏和第一部相比有所退步，不...</td>\n",
       "      <td>1073</td>\n",
       "    </tr>\n",
       "    <tr>\n",
       "      <th>7</th>\n",
       "      <td>2020-12-07 13:26:58</td>\n",
       "      <td>烟波人长安</td>\n",
       "      <td>看过</td>\n",
       "      <td>5</td>\n",
       "      <td>本来正义联盟之后我都快对dc不抱什么期望了，盖尔加朵又给我打了针强心剂。没想到这一部拍得这么...</td>\n",
       "      <td>787</td>\n",
       "    </tr>\n",
       "    <tr>\n",
       "      <th>8</th>\n",
       "      <td>2020-12-18 03:27:37</td>\n",
       "      <td>有心打扰</td>\n",
       "      <td>看过</td>\n",
       "      <td>3</td>\n",
       "      <td>千万不要在生日的时候对着生日蛋糕上的蜡烛乱许愿望，你都不知道它会对你做出什么。</td>\n",
       "      <td>886</td>\n",
       "    </tr>\n",
       "    <tr>\n",
       "      <th>9</th>\n",
       "      <td>2020-12-07 14:05:40</td>\n",
       "      <td>摇又鸟又鸟的狗</td>\n",
       "      <td>看过</td>\n",
       "      <td>4</td>\n",
       "      <td>首先想说，我并不是一个超英电影爱好者，我总觉得靠一个人发挥神力、噼里啪啦一顿大战就能拯救世界...</td>\n",
       "      <td>1782</td>\n",
       "    </tr>\n",
       "    <tr>\n",
       "      <th>...</th>\n",
       "      <td>...</td>\n",
       "      <td>...</td>\n",
       "      <td>...</td>\n",
       "      <td>...</td>\n",
       "      <td>...</td>\n",
       "      <td>...</td>\n",
       "    </tr>\n",
       "    <tr>\n",
       "      <th>95</th>\n",
       "      <td>2020-12-18 23:16:15</td>\n",
       "      <td>方枪枪</td>\n",
       "      <td>看过</td>\n",
       "      <td>3</td>\n",
       "      <td>还行。得与舍，愿望与谎言，love and peace ！</td>\n",
       "      <td>5</td>\n",
       "    </tr>\n",
       "    <tr>\n",
       "      <th>96</th>\n",
       "      <td>2020-12-19 10:51:51</td>\n",
       "      <td>獨孤島主</td>\n",
       "      <td>看过</td>\n",
       "      <td>2</td>\n",
       "      <td>几乎全是废话，毁掉纯真年代。无聊透顶。</td>\n",
       "      <td>16</td>\n",
       "    </tr>\n",
       "    <tr>\n",
       "      <th>97</th>\n",
       "      <td>2020-12-18 22:48:50</td>\n",
       "      <td>废话队长</td>\n",
       "      <td>看过</td>\n",
       "      <td>1</td>\n",
       "      <td>天神因尘缘失去力量，这是12年前《全民超人汉考克》的设定；盖尔加朵带小妞升级，这是4年前《邻...</td>\n",
       "      <td>14</td>\n",
       "    </tr>\n",
       "    <tr>\n",
       "      <th>98</th>\n",
       "      <td>2020-12-18 17:28:05</td>\n",
       "      <td>昭和惊弓鸟</td>\n",
       "      <td>看过</td>\n",
       "      <td>2</td>\n",
       "      <td>80年代作为潮流文化如此有活力、美国国力最鼎盛的年代居然也能拍得这么散漫，把受够愈加分裂的2...</td>\n",
       "      <td>11</td>\n",
       "    </tr>\n",
       "    <tr>\n",
       "      <th>99</th>\n",
       "      <td>2020-12-18 13:10:44</td>\n",
       "      <td>帽子里的兔子</td>\n",
       "      <td>看过</td>\n",
       "      <td>1</td>\n",
       "      <td>比第一部还屎... 没有正视什么问题，对他人的苦难也漠不关心。还有，求求别正反打了，Barb...</td>\n",
       "      <td>12</td>\n",
       "    </tr>\n",
       "  </tbody>\n",
       "</table>\n",
       "<p>95 rows × 6 columns</p>\n",
       "</div>"
      ],
      "text/plain": [
       "                   date     name seen  star  \\\n",
       "5   2020-12-18 20:12:34  深夜的阿斯伯格   看过     3   \n",
       "6   2020-12-18 14:28:29      朝暮雪   看过     3   \n",
       "7   2020-12-07 13:26:58    烟波人长安   看过     5   \n",
       "8   2020-12-18 03:27:37     有心打扰   看过     3   \n",
       "9   2020-12-07 14:05:40  摇又鸟又鸟的狗   看过     4   \n",
       "..                  ...      ...  ...   ...   \n",
       "95  2020-12-18 23:16:15      方枪枪   看过     3   \n",
       "96  2020-12-19 10:51:51     獨孤島主   看过     2   \n",
       "97  2020-12-18 22:48:50     废话队长   看过     1   \n",
       "98  2020-12-18 17:28:05    昭和惊弓鸟   看过     2   \n",
       "99  2020-12-18 13:10:44   帽子里的兔子   看过     1   \n",
       "\n",
       "                                                 text  votes  \n",
       "5                           我希望这个世界上没有伪3D，并让更多人看到这条短评   2259  \n",
       "6   不是传统的超级英雄电影，不是爆米花爽片，而是更偏向剧情片。\\n动作戏和第一部相比有所退步，不...   1073  \n",
       "7   本来正义联盟之后我都快对dc不抱什么期望了，盖尔加朵又给我打了针强心剂。没想到这一部拍得这么...    787  \n",
       "8             千万不要在生日的时候对着生日蛋糕上的蜡烛乱许愿望，你都不知道它会对你做出什么。    886  \n",
       "9   首先想说，我并不是一个超英电影爱好者，我总觉得靠一个人发挥神力、噼里啪啦一顿大战就能拯救世界...   1782  \n",
       "..                                                ...    ...  \n",
       "95                      还行。得与舍，愿望与谎言，love and peace ！      5  \n",
       "96                                几乎全是废话，毁掉纯真年代。无聊透顶。     16  \n",
       "97  天神因尘缘失去力量，这是12年前《全民超人汉考克》的设定；盖尔加朵带小妞升级，这是4年前《邻...     14  \n",
       "98  80年代作为潮流文化如此有活力、美国国力最鼎盛的年代居然也能拍得这么散漫，把受够愈加分裂的2...     11  \n",
       "99  比第一部还屎... 没有正视什么问题，对他人的苦难也漠不关心。还有，求求别正反打了，Barb...     12  \n",
       "\n",
       "[95 rows x 6 columns]"
      ]
     },
     "execution_count": 72,
     "metadata": {},
     "output_type": "execute_result"
    }
   ],
   "source": [
    "csv[5:100]"
   ]
  },
  {
   "cell_type": "code",
   "execution_count": 73,
   "metadata": {},
   "outputs": [
    {
     "data": {
      "text/html": [
       "<div>\n",
       "<style scoped>\n",
       "    .dataframe tbody tr th:only-of-type {\n",
       "        vertical-align: middle;\n",
       "    }\n",
       "\n",
       "    .dataframe tbody tr th {\n",
       "        vertical-align: top;\n",
       "    }\n",
       "\n",
       "    .dataframe thead th {\n",
       "        text-align: right;\n",
       "    }\n",
       "</style>\n",
       "<table border=\"1\" class=\"dataframe\">\n",
       "  <thead>\n",
       "    <tr style=\"text-align: right;\">\n",
       "      <th></th>\n",
       "      <th>date</th>\n",
       "      <th>name</th>\n",
       "      <th>seen</th>\n",
       "      <th>star</th>\n",
       "      <th>text</th>\n",
       "      <th>votes</th>\n",
       "    </tr>\n",
       "  </thead>\n",
       "  <tbody>\n",
       "    <tr>\n",
       "      <th>0</th>\n",
       "      <td>2020-12-17 12:31:55</td>\n",
       "      <td>阿暖</td>\n",
       "      <td>看过</td>\n",
       "      <td>4</td>\n",
       "      <td>最意外的是，在这个故事里竟然看到某种波伏娃式的冷酷与绝望——一个完美女性可以拥有一切，美貌，...</td>\n",
       "      <td>2321</td>\n",
       "    </tr>\n",
       "    <tr>\n",
       "      <th>1</th>\n",
       "      <td>2020-12-10 13:32:24</td>\n",
       "      <td>豆蔻年华</td>\n",
       "      <td>看过</td>\n",
       "      <td>1</td>\n",
       "      <td>打斗戏太拉胯，根本没法看。广场舞都比她更有力度，土味视频都比她有演技。</td>\n",
       "      <td>456</td>\n",
       "    </tr>\n",
       "    <tr>\n",
       "      <th>2</th>\n",
       "      <td>2020-12-18 02:27:55</td>\n",
       "      <td>#cenotaph#</td>\n",
       "      <td>看过</td>\n",
       "      <td>2</td>\n",
       "      <td>野猫大战卷帘门</td>\n",
       "      <td>2147</td>\n",
       "    </tr>\n",
       "    <tr>\n",
       "      <th>3</th>\n",
       "      <td>2020-12-14 18:25:00</td>\n",
       "      <td>天马星</td>\n",
       "      <td>看过</td>\n",
       "      <td>5</td>\n",
       "      <td>二刷激光IMAX后依旧确信《神奇女侠1984》是我今年最爱的院线片，原因有二。一是延续了DC...</td>\n",
       "      <td>1025</td>\n",
       "    </tr>\n",
       "    <tr>\n",
       "      <th>4</th>\n",
       "      <td>2020-12-18 02:57:23</td>\n",
       "      <td>Lynchman</td>\n",
       "      <td>看过</td>\n",
       "      <td>3</td>\n",
       "      <td>《请回答1984：如果川普统治世界》</td>\n",
       "      <td>3613</td>\n",
       "    </tr>\n",
       "  </tbody>\n",
       "</table>\n",
       "</div>"
      ],
      "text/plain": [
       "                  date        name seen  star  \\\n",
       "0  2020-12-17 12:31:55          阿暖   看过     4   \n",
       "1  2020-12-10 13:32:24        豆蔻年华   看过     1   \n",
       "2  2020-12-18 02:27:55  #cenotaph#   看过     2   \n",
       "3  2020-12-14 18:25:00         天马星   看过     5   \n",
       "4  2020-12-18 02:57:23    Lynchman   看过     3   \n",
       "\n",
       "                                                text  votes  \n",
       "0  最意外的是，在这个故事里竟然看到某种波伏娃式的冷酷与绝望——一个完美女性可以拥有一切，美貌，...   2321  \n",
       "1                打斗戏太拉胯，根本没法看。广场舞都比她更有力度，土味视频都比她有演技。    456  \n",
       "2                                            野猫大战卷帘门   2147  \n",
       "3  二刷激光IMAX后依旧确信《神奇女侠1984》是我今年最爱的院线片，原因有二。一是延续了DC...   1025  \n",
       "4                                 《请回答1984：如果川普统治世界》   3613  "
      ]
     },
     "execution_count": 73,
     "metadata": {},
     "output_type": "execute_result"
    }
   ],
   "source": [
    "csv.head()"
   ]
  },
  {
   "cell_type": "code",
   "execution_count": 74,
   "metadata": {},
   "outputs": [
    {
     "data": {
      "text/html": [
       "<div>\n",
       "<style scoped>\n",
       "    .dataframe tbody tr th:only-of-type {\n",
       "        vertical-align: middle;\n",
       "    }\n",
       "\n",
       "    .dataframe tbody tr th {\n",
       "        vertical-align: top;\n",
       "    }\n",
       "\n",
       "    .dataframe thead th {\n",
       "        text-align: right;\n",
       "    }\n",
       "</style>\n",
       "<table border=\"1\" class=\"dataframe\">\n",
       "  <thead>\n",
       "    <tr style=\"text-align: right;\">\n",
       "      <th></th>\n",
       "      <th>date</th>\n",
       "      <th>name</th>\n",
       "      <th>seen</th>\n",
       "      <th>star</th>\n",
       "      <th>text</th>\n",
       "      <th>votes</th>\n",
       "    </tr>\n",
       "  </thead>\n",
       "  <tbody>\n",
       "    <tr>\n",
       "      <th>499</th>\n",
       "      <td>2020-12-20 23:52:52</td>\n",
       "      <td>リンカ</td>\n",
       "      <td>看过</td>\n",
       "      <td>4</td>\n",
       "      <td>剧情比较老套，但做抉择的时候还是很心痛就是了……小朋友真是可怜，经历这么多破事儿，就算最后h...</td>\n",
       "      <td>0</td>\n",
       "    </tr>\n",
       "  </tbody>\n",
       "</table>\n",
       "</div>"
      ],
      "text/plain": [
       "                    date name seen  star  \\\n",
       "499  2020-12-20 23:52:52  リンカ   看过     4   \n",
       "\n",
       "                                                  text  votes  \n",
       "499  剧情比较老套，但做抉择的时候还是很心痛就是了……小朋友真是可怜，经历这么多破事儿，就算最后h...      0  "
      ]
     },
     "execution_count": 74,
     "metadata": {},
     "output_type": "execute_result"
    }
   ],
   "source": [
    "csv.tail(1)"
   ]
  },
  {
   "cell_type": "code",
   "execution_count": 75,
   "metadata": {},
   "outputs": [
    {
     "data": {
      "text/html": [
       "<div>\n",
       "<style scoped>\n",
       "    .dataframe tbody tr th:only-of-type {\n",
       "        vertical-align: middle;\n",
       "    }\n",
       "\n",
       "    .dataframe tbody tr th {\n",
       "        vertical-align: top;\n",
       "    }\n",
       "\n",
       "    .dataframe thead th {\n",
       "        text-align: right;\n",
       "    }\n",
       "</style>\n",
       "<table border=\"1\" class=\"dataframe\">\n",
       "  <thead>\n",
       "    <tr style=\"text-align: right;\">\n",
       "      <th></th>\n",
       "      <th>date</th>\n",
       "      <th>name</th>\n",
       "      <th>seen</th>\n",
       "      <th>star</th>\n",
       "      <th>text</th>\n",
       "      <th>votes</th>\n",
       "    </tr>\n",
       "  </thead>\n",
       "  <tbody>\n",
       "    <tr>\n",
       "      <th>497</th>\n",
       "      <td>2020-12-21 10:48:29</td>\n",
       "      <td>西老米</td>\n",
       "      <td>看过</td>\n",
       "      <td>4</td>\n",
       "      <td>还行啊，评分有点低了啊</td>\n",
       "      <td>0</td>\n",
       "    </tr>\n",
       "    <tr>\n",
       "      <th>498</th>\n",
       "      <td>2020-12-20 23:26:40</td>\n",
       "      <td>Clefairy</td>\n",
       "      <td>看过</td>\n",
       "      <td>2</td>\n",
       "      <td>我还真挺少打两星的。第一次有让我在电影院想弃了的电影。如坐针毡，满头问号。美貌没有发挥。逻辑不洽。</td>\n",
       "      <td>0</td>\n",
       "    </tr>\n",
       "    <tr>\n",
       "      <th>499</th>\n",
       "      <td>2020-12-20 23:52:52</td>\n",
       "      <td>リンカ</td>\n",
       "      <td>看过</td>\n",
       "      <td>4</td>\n",
       "      <td>剧情比较老套，但做抉择的时候还是很心痛就是了……小朋友真是可怜，经历这么多破事儿，就算最后h...</td>\n",
       "      <td>0</td>\n",
       "    </tr>\n",
       "  </tbody>\n",
       "</table>\n",
       "</div>"
      ],
      "text/plain": [
       "                    date      name seen  star  \\\n",
       "497  2020-12-21 10:48:29       西老米   看过     4   \n",
       "498  2020-12-20 23:26:40  Clefairy   看过     2   \n",
       "499  2020-12-20 23:52:52       リンカ   看过     4   \n",
       "\n",
       "                                                  text  votes  \n",
       "497                                        还行啊，评分有点低了啊      0  \n",
       "498  我还真挺少打两星的。第一次有让我在电影院想弃了的电影。如坐针毡，满头问号。美貌没有发挥。逻辑不洽。      0  \n",
       "499  剧情比较老套，但做抉择的时候还是很心痛就是了……小朋友真是可怜，经历这么多破事儿，就算最后h...      0  "
      ]
     },
     "execution_count": 75,
     "metadata": {},
     "output_type": "execute_result"
    }
   ],
   "source": [
    "csv.tail(3)"
   ]
  },
  {
   "cell_type": "code",
   "execution_count": 76,
   "metadata": {},
   "outputs": [
    {
     "data": {
      "text/html": [
       "<div>\n",
       "<style scoped>\n",
       "    .dataframe tbody tr th:only-of-type {\n",
       "        vertical-align: middle;\n",
       "    }\n",
       "\n",
       "    .dataframe tbody tr th {\n",
       "        vertical-align: top;\n",
       "    }\n",
       "\n",
       "    .dataframe thead th {\n",
       "        text-align: right;\n",
       "    }\n",
       "</style>\n",
       "<table border=\"1\" class=\"dataframe\">\n",
       "  <thead>\n",
       "    <tr style=\"text-align: right;\">\n",
       "      <th></th>\n",
       "      <th>date</th>\n",
       "      <th>name</th>\n",
       "      <th>seen</th>\n",
       "      <th>star</th>\n",
       "      <th>text</th>\n",
       "      <th>votes</th>\n",
       "    </tr>\n",
       "  </thead>\n",
       "  <tbody>\n",
       "    <tr>\n",
       "      <th>495</th>\n",
       "      <td>2020-12-19 20:22:36</td>\n",
       "      <td>46562002</td>\n",
       "      <td>看过</td>\n",
       "      <td>2</td>\n",
       "      <td>1~正如女侠第一部时，说过的，盖尔加朵加盟DC就是人生最大的失败…\\n2~DC在新世纪，就根...</td>\n",
       "      <td>0</td>\n",
       "    </tr>\n",
       "    <tr>\n",
       "      <th>496</th>\n",
       "      <td>2020-12-22 18:42:21</td>\n",
       "      <td>Maxthor</td>\n",
       "      <td>看过</td>\n",
       "      <td>4</td>\n",
       "      <td>四星不足三星有余，Patty Jenkins的动作戏份还是没有想象中的精彩，对足够的特效支持...</td>\n",
       "      <td>0</td>\n",
       "    </tr>\n",
       "    <tr>\n",
       "      <th>497</th>\n",
       "      <td>2020-12-21 10:48:29</td>\n",
       "      <td>西老米</td>\n",
       "      <td>看过</td>\n",
       "      <td>4</td>\n",
       "      <td>还行啊，评分有点低了啊</td>\n",
       "      <td>0</td>\n",
       "    </tr>\n",
       "    <tr>\n",
       "      <th>498</th>\n",
       "      <td>2020-12-20 23:26:40</td>\n",
       "      <td>Clefairy</td>\n",
       "      <td>看过</td>\n",
       "      <td>2</td>\n",
       "      <td>我还真挺少打两星的。第一次有让我在电影院想弃了的电影。如坐针毡，满头问号。美貌没有发挥。逻辑不洽。</td>\n",
       "      <td>0</td>\n",
       "    </tr>\n",
       "    <tr>\n",
       "      <th>499</th>\n",
       "      <td>2020-12-20 23:52:52</td>\n",
       "      <td>リンカ</td>\n",
       "      <td>看过</td>\n",
       "      <td>4</td>\n",
       "      <td>剧情比较老套，但做抉择的时候还是很心痛就是了……小朋友真是可怜，经历这么多破事儿，就算最后h...</td>\n",
       "      <td>0</td>\n",
       "    </tr>\n",
       "  </tbody>\n",
       "</table>\n",
       "</div>"
      ],
      "text/plain": [
       "                    date      name seen  star  \\\n",
       "495  2020-12-19 20:22:36  46562002   看过     2   \n",
       "496  2020-12-22 18:42:21   Maxthor   看过     4   \n",
       "497  2020-12-21 10:48:29       西老米   看过     4   \n",
       "498  2020-12-20 23:26:40  Clefairy   看过     2   \n",
       "499  2020-12-20 23:52:52       リンカ   看过     4   \n",
       "\n",
       "                                                  text  votes  \n",
       "495  1~正如女侠第一部时，说过的，盖尔加朵加盟DC就是人生最大的失败…\\n2~DC在新世纪，就根...      0  \n",
       "496  四星不足三星有余，Patty Jenkins的动作戏份还是没有想象中的精彩，对足够的特效支持...      0  \n",
       "497                                        还行啊，评分有点低了啊      0  \n",
       "498  我还真挺少打两星的。第一次有让我在电影院想弃了的电影。如坐针毡，满头问号。美貌没有发挥。逻辑不洽。      0  \n",
       "499  剧情比较老套，但做抉择的时候还是很心痛就是了……小朋友真是可怜，经历这么多破事儿，就算最后h...      0  "
      ]
     },
     "execution_count": 76,
     "metadata": {},
     "output_type": "execute_result"
    }
   ],
   "source": [
    "csv.tail()"
   ]
  },
  {
   "cell_type": "code",
   "execution_count": 77,
   "metadata": {},
   "outputs": [
    {
     "data": {
      "text/plain": [
       "RangeIndex(start=0, stop=500, step=1)"
      ]
     },
     "execution_count": 77,
     "metadata": {},
     "output_type": "execute_result"
    }
   ],
   "source": [
    "csv.index"
   ]
  },
  {
   "cell_type": "code",
   "execution_count": 78,
   "metadata": {},
   "outputs": [
    {
     "data": {
      "text/html": [
       "<div>\n",
       "<style scoped>\n",
       "    .dataframe tbody tr th:only-of-type {\n",
       "        vertical-align: middle;\n",
       "    }\n",
       "\n",
       "    .dataframe tbody tr th {\n",
       "        vertical-align: top;\n",
       "    }\n",
       "\n",
       "    .dataframe thead th {\n",
       "        text-align: right;\n",
       "    }\n",
       "</style>\n",
       "<table border=\"1\" class=\"dataframe\">\n",
       "  <thead>\n",
       "    <tr style=\"text-align: right;\">\n",
       "      <th></th>\n",
       "      <th>date</th>\n",
       "      <th>name</th>\n",
       "      <th>seen</th>\n",
       "      <th>star</th>\n",
       "      <th>text</th>\n",
       "      <th>votes</th>\n",
       "    </tr>\n",
       "  </thead>\n",
       "  <tbody>\n",
       "    <tr>\n",
       "      <th>0</th>\n",
       "      <td>2020-12-17 12:31:55</td>\n",
       "      <td>阿暖</td>\n",
       "      <td>看过</td>\n",
       "      <td>4</td>\n",
       "      <td>最意外的是，在这个故事里竟然看到某种波伏娃式的冷酷与绝望——一个完美女性可以拥有一切，美貌，...</td>\n",
       "      <td>2321</td>\n",
       "    </tr>\n",
       "    <tr>\n",
       "      <th>1</th>\n",
       "      <td>2020-12-10 13:32:24</td>\n",
       "      <td>豆蔻年华</td>\n",
       "      <td>看过</td>\n",
       "      <td>1</td>\n",
       "      <td>打斗戏太拉胯，根本没法看。广场舞都比她更有力度，土味视频都比她有演技。</td>\n",
       "      <td>456</td>\n",
       "    </tr>\n",
       "    <tr>\n",
       "      <th>2</th>\n",
       "      <td>2020-12-18 02:27:55</td>\n",
       "      <td>#cenotaph#</td>\n",
       "      <td>看过</td>\n",
       "      <td>2</td>\n",
       "      <td>野猫大战卷帘门</td>\n",
       "      <td>2147</td>\n",
       "    </tr>\n",
       "    <tr>\n",
       "      <th>3</th>\n",
       "      <td>2020-12-14 18:25:00</td>\n",
       "      <td>天马星</td>\n",
       "      <td>看过</td>\n",
       "      <td>5</td>\n",
       "      <td>二刷激光IMAX后依旧确信《神奇女侠1984》是我今年最爱的院线片，原因有二。一是延续了DC...</td>\n",
       "      <td>1025</td>\n",
       "    </tr>\n",
       "    <tr>\n",
       "      <th>4</th>\n",
       "      <td>2020-12-18 02:57:23</td>\n",
       "      <td>Lynchman</td>\n",
       "      <td>看过</td>\n",
       "      <td>3</td>\n",
       "      <td>《请回答1984：如果川普统治世界》</td>\n",
       "      <td>3613</td>\n",
       "    </tr>\n",
       "    <tr>\n",
       "      <th>...</th>\n",
       "      <td>...</td>\n",
       "      <td>...</td>\n",
       "      <td>...</td>\n",
       "      <td>...</td>\n",
       "      <td>...</td>\n",
       "      <td>...</td>\n",
       "    </tr>\n",
       "    <tr>\n",
       "      <th>495</th>\n",
       "      <td>2020-12-19 20:22:36</td>\n",
       "      <td>46562002</td>\n",
       "      <td>看过</td>\n",
       "      <td>2</td>\n",
       "      <td>1~正如女侠第一部时，说过的，盖尔加朵加盟DC就是人生最大的失败…\\n2~DC在新世纪，就根...</td>\n",
       "      <td>0</td>\n",
       "    </tr>\n",
       "    <tr>\n",
       "      <th>496</th>\n",
       "      <td>2020-12-22 18:42:21</td>\n",
       "      <td>Maxthor</td>\n",
       "      <td>看过</td>\n",
       "      <td>4</td>\n",
       "      <td>四星不足三星有余，Patty Jenkins的动作戏份还是没有想象中的精彩，对足够的特效支持...</td>\n",
       "      <td>0</td>\n",
       "    </tr>\n",
       "    <tr>\n",
       "      <th>497</th>\n",
       "      <td>2020-12-21 10:48:29</td>\n",
       "      <td>西老米</td>\n",
       "      <td>看过</td>\n",
       "      <td>4</td>\n",
       "      <td>还行啊，评分有点低了啊</td>\n",
       "      <td>0</td>\n",
       "    </tr>\n",
       "    <tr>\n",
       "      <th>498</th>\n",
       "      <td>2020-12-20 23:26:40</td>\n",
       "      <td>Clefairy</td>\n",
       "      <td>看过</td>\n",
       "      <td>2</td>\n",
       "      <td>我还真挺少打两星的。第一次有让我在电影院想弃了的电影。如坐针毡，满头问号。美貌没有发挥。逻辑不洽。</td>\n",
       "      <td>0</td>\n",
       "    </tr>\n",
       "    <tr>\n",
       "      <th>499</th>\n",
       "      <td>2020-12-20 23:52:52</td>\n",
       "      <td>リンカ</td>\n",
       "      <td>看过</td>\n",
       "      <td>4</td>\n",
       "      <td>剧情比较老套，但做抉择的时候还是很心痛就是了……小朋友真是可怜，经历这么多破事儿，就算最后h...</td>\n",
       "      <td>0</td>\n",
       "    </tr>\n",
       "  </tbody>\n",
       "</table>\n",
       "<p>500 rows × 6 columns</p>\n",
       "</div>"
      ],
      "text/plain": [
       "                    date        name seen  star  \\\n",
       "0    2020-12-17 12:31:55          阿暖   看过     4   \n",
       "1    2020-12-10 13:32:24        豆蔻年华   看过     1   \n",
       "2    2020-12-18 02:27:55  #cenotaph#   看过     2   \n",
       "3    2020-12-14 18:25:00         天马星   看过     5   \n",
       "4    2020-12-18 02:57:23    Lynchman   看过     3   \n",
       "..                   ...         ...  ...   ...   \n",
       "495  2020-12-19 20:22:36    46562002   看过     2   \n",
       "496  2020-12-22 18:42:21     Maxthor   看过     4   \n",
       "497  2020-12-21 10:48:29         西老米   看过     4   \n",
       "498  2020-12-20 23:26:40    Clefairy   看过     2   \n",
       "499  2020-12-20 23:52:52         リンカ   看过     4   \n",
       "\n",
       "                                                  text  votes  \n",
       "0    最意外的是，在这个故事里竟然看到某种波伏娃式的冷酷与绝望——一个完美女性可以拥有一切，美貌，...   2321  \n",
       "1                  打斗戏太拉胯，根本没法看。广场舞都比她更有力度，土味视频都比她有演技。    456  \n",
       "2                                              野猫大战卷帘门   2147  \n",
       "3    二刷激光IMAX后依旧确信《神奇女侠1984》是我今年最爱的院线片，原因有二。一是延续了DC...   1025  \n",
       "4                                   《请回答1984：如果川普统治世界》   3613  \n",
       "..                                                 ...    ...  \n",
       "495  1~正如女侠第一部时，说过的，盖尔加朵加盟DC就是人生最大的失败…\\n2~DC在新世纪，就根...      0  \n",
       "496  四星不足三星有余，Patty Jenkins的动作戏份还是没有想象中的精彩，对足够的特效支持...      0  \n",
       "497                                        还行啊，评分有点低了啊      0  \n",
       "498  我还真挺少打两星的。第一次有让我在电影院想弃了的电影。如坐针毡，满头问号。美貌没有发挥。逻辑不洽。      0  \n",
       "499  剧情比较老套，但做抉择的时候还是很心痛就是了……小朋友真是可怜，经历这么多破事儿，就算最后h...      0  \n",
       "\n",
       "[500 rows x 6 columns]"
      ]
     },
     "execution_count": 78,
     "metadata": {},
     "output_type": "execute_result"
    }
   ],
   "source": [
    "csv.sort_index()"
   ]
  },
  {
   "cell_type": "code",
   "execution_count": 79,
   "metadata": {},
   "outputs": [
    {
     "data": {
      "text/html": [
       "<div>\n",
       "<style scoped>\n",
       "    .dataframe tbody tr th:only-of-type {\n",
       "        vertical-align: middle;\n",
       "    }\n",
       "\n",
       "    .dataframe tbody tr th {\n",
       "        vertical-align: top;\n",
       "    }\n",
       "\n",
       "    .dataframe thead th {\n",
       "        text-align: right;\n",
       "    }\n",
       "</style>\n",
       "<table border=\"1\" class=\"dataframe\">\n",
       "  <thead>\n",
       "    <tr style=\"text-align: right;\">\n",
       "      <th></th>\n",
       "      <th>name</th>\n",
       "      <th>votes</th>\n",
       "    </tr>\n",
       "  </thead>\n",
       "  <tbody>\n",
       "    <tr>\n",
       "      <th>0</th>\n",
       "      <td>阿暖</td>\n",
       "      <td>2321</td>\n",
       "    </tr>\n",
       "    <tr>\n",
       "      <th>1</th>\n",
       "      <td>豆蔻年华</td>\n",
       "      <td>456</td>\n",
       "    </tr>\n",
       "    <tr>\n",
       "      <th>2</th>\n",
       "      <td>#cenotaph#</td>\n",
       "      <td>2147</td>\n",
       "    </tr>\n",
       "    <tr>\n",
       "      <th>3</th>\n",
       "      <td>天马星</td>\n",
       "      <td>1025</td>\n",
       "    </tr>\n",
       "    <tr>\n",
       "      <th>4</th>\n",
       "      <td>Lynchman</td>\n",
       "      <td>3613</td>\n",
       "    </tr>\n",
       "    <tr>\n",
       "      <th>...</th>\n",
       "      <td>...</td>\n",
       "      <td>...</td>\n",
       "    </tr>\n",
       "    <tr>\n",
       "      <th>495</th>\n",
       "      <td>46562002</td>\n",
       "      <td>0</td>\n",
       "    </tr>\n",
       "    <tr>\n",
       "      <th>496</th>\n",
       "      <td>Maxthor</td>\n",
       "      <td>0</td>\n",
       "    </tr>\n",
       "    <tr>\n",
       "      <th>497</th>\n",
       "      <td>西老米</td>\n",
       "      <td>0</td>\n",
       "    </tr>\n",
       "    <tr>\n",
       "      <th>498</th>\n",
       "      <td>Clefairy</td>\n",
       "      <td>0</td>\n",
       "    </tr>\n",
       "    <tr>\n",
       "      <th>499</th>\n",
       "      <td>リンカ</td>\n",
       "      <td>0</td>\n",
       "    </tr>\n",
       "  </tbody>\n",
       "</table>\n",
       "<p>500 rows × 2 columns</p>\n",
       "</div>"
      ],
      "text/plain": [
       "           name  votes\n",
       "0            阿暖   2321\n",
       "1          豆蔻年华    456\n",
       "2    #cenotaph#   2147\n",
       "3           天马星   1025\n",
       "4      Lynchman   3613\n",
       "..          ...    ...\n",
       "495    46562002      0\n",
       "496     Maxthor      0\n",
       "497         西老米      0\n",
       "498    Clefairy      0\n",
       "499         リンカ      0\n",
       "\n",
       "[500 rows x 2 columns]"
      ]
     },
     "execution_count": 79,
     "metadata": {},
     "output_type": "execute_result"
    }
   ],
   "source": [
    "csv[['name','votes']]"
   ]
  },
  {
   "cell_type": "code",
   "execution_count": 80,
   "metadata": {},
   "outputs": [
    {
     "data": {
      "text/html": [
       "<div>\n",
       "<style scoped>\n",
       "    .dataframe tbody tr th:only-of-type {\n",
       "        vertical-align: middle;\n",
       "    }\n",
       "\n",
       "    .dataframe tbody tr th {\n",
       "        vertical-align: top;\n",
       "    }\n",
       "\n",
       "    .dataframe thead th {\n",
       "        text-align: right;\n",
       "    }\n",
       "</style>\n",
       "<table border=\"1\" class=\"dataframe\">\n",
       "  <thead>\n",
       "    <tr style=\"text-align: right;\">\n",
       "      <th></th>\n",
       "      <th>date</th>\n",
       "      <th>name</th>\n",
       "      <th>seen</th>\n",
       "      <th>star</th>\n",
       "      <th>text</th>\n",
       "      <th>votes</th>\n",
       "    </tr>\n",
       "  </thead>\n",
       "  <tbody>\n",
       "    <tr>\n",
       "      <th>0</th>\n",
       "      <td>2020-12-17 12:31:55</td>\n",
       "      <td>阿暖</td>\n",
       "      <td>看过</td>\n",
       "      <td>4</td>\n",
       "      <td>最意外的是，在这个故事里竟然看到某种波伏娃式的冷酷与绝望——一个完美女性可以拥有一切，美貌，...</td>\n",
       "      <td>2321</td>\n",
       "    </tr>\n",
       "    <tr>\n",
       "      <th>2</th>\n",
       "      <td>2020-12-18 02:27:55</td>\n",
       "      <td>#cenotaph#</td>\n",
       "      <td>看过</td>\n",
       "      <td>2</td>\n",
       "      <td>野猫大战卷帘门</td>\n",
       "      <td>2147</td>\n",
       "    </tr>\n",
       "    <tr>\n",
       "      <th>4</th>\n",
       "      <td>2020-12-18 02:57:23</td>\n",
       "      <td>Lynchman</td>\n",
       "      <td>看过</td>\n",
       "      <td>3</td>\n",
       "      <td>《请回答1984：如果川普统治世界》</td>\n",
       "      <td>3613</td>\n",
       "    </tr>\n",
       "    <tr>\n",
       "      <th>5</th>\n",
       "      <td>2020-12-18 20:12:34</td>\n",
       "      <td>深夜的阿斯伯格</td>\n",
       "      <td>看过</td>\n",
       "      <td>3</td>\n",
       "      <td>我希望这个世界上没有伪3D，并让更多人看到这条短评</td>\n",
       "      <td>2259</td>\n",
       "    </tr>\n",
       "    <tr>\n",
       "      <th>9</th>\n",
       "      <td>2020-12-07 14:05:40</td>\n",
       "      <td>摇又鸟又鸟的狗</td>\n",
       "      <td>看过</td>\n",
       "      <td>4</td>\n",
       "      <td>首先想说，我并不是一个超英电影爱好者，我总觉得靠一个人发挥神力、噼里啪啦一顿大战就能拯救世界...</td>\n",
       "      <td>1782</td>\n",
       "    </tr>\n",
       "    <tr>\n",
       "      <th>10</th>\n",
       "      <td>2020-12-18 01:27:03</td>\n",
       "      <td>张咏轩Wayne®</td>\n",
       "      <td>看过</td>\n",
       "      <td>2</td>\n",
       "      <td>太差了，枉顾逻辑纯扯淡，这个女导演是真正的婆妈话痨。大篇幅废话连篇，干货少，成本缩减的可怜，...</td>\n",
       "      <td>1231</td>\n",
       "    </tr>\n",
       "    <tr>\n",
       "      <th>12</th>\n",
       "      <td>2020-12-18 02:56:37</td>\n",
       "      <td>Ada🧣Wong💋💍</td>\n",
       "      <td>看过</td>\n",
       "      <td>4</td>\n",
       "      <td>8/10，这个许愿石的点子想的非常好，既解决了史蒂夫的回归的问题，也成功地树立了两个反派形象...</td>\n",
       "      <td>1209</td>\n",
       "    </tr>\n",
       "  </tbody>\n",
       "</table>\n",
       "</div>"
      ],
      "text/plain": [
       "                   date        name seen  star  \\\n",
       "0   2020-12-17 12:31:55          阿暖   看过     4   \n",
       "2   2020-12-18 02:27:55  #cenotaph#   看过     2   \n",
       "4   2020-12-18 02:57:23    Lynchman   看过     3   \n",
       "5   2020-12-18 20:12:34     深夜的阿斯伯格   看过     3   \n",
       "9   2020-12-07 14:05:40     摇又鸟又鸟的狗   看过     4   \n",
       "10  2020-12-18 01:27:03   张咏轩Wayne®   看过     2   \n",
       "12  2020-12-18 02:56:37  Ada🧣Wong💋💍   看过     4   \n",
       "\n",
       "                                                 text  votes  \n",
       "0   最意外的是，在这个故事里竟然看到某种波伏娃式的冷酷与绝望——一个完美女性可以拥有一切，美貌，...   2321  \n",
       "2                                             野猫大战卷帘门   2147  \n",
       "4                                  《请回答1984：如果川普统治世界》   3613  \n",
       "5                           我希望这个世界上没有伪3D，并让更多人看到这条短评   2259  \n",
       "9   首先想说，我并不是一个超英电影爱好者，我总觉得靠一个人发挥神力、噼里啪啦一顿大战就能拯救世界...   1782  \n",
       "10  太差了，枉顾逻辑纯扯淡，这个女导演是真正的婆妈话痨。大篇幅废话连篇，干货少，成本缩减的可怜，...   1231  \n",
       "12  8/10，这个许愿石的点子想的非常好，既解决了史蒂夫的回归的问题，也成功地树立了两个反派形象...   1209  "
      ]
     },
     "execution_count": 80,
     "metadata": {},
     "output_type": "execute_result"
    }
   ],
   "source": [
    "csv[csv['votes']>=1200]"
   ]
  },
  {
   "cell_type": "code",
   "execution_count": 81,
   "metadata": {},
   "outputs": [
    {
     "data": {
      "text/html": [
       "<div>\n",
       "<style scoped>\n",
       "    .dataframe tbody tr th:only-of-type {\n",
       "        vertical-align: middle;\n",
       "    }\n",
       "\n",
       "    .dataframe tbody tr th {\n",
       "        vertical-align: top;\n",
       "    }\n",
       "\n",
       "    .dataframe thead th {\n",
       "        text-align: right;\n",
       "    }\n",
       "</style>\n",
       "<table border=\"1\" class=\"dataframe\">\n",
       "  <thead>\n",
       "    <tr style=\"text-align: right;\">\n",
       "      <th></th>\n",
       "      <th>date</th>\n",
       "      <th>name</th>\n",
       "      <th>seen</th>\n",
       "      <th>star</th>\n",
       "      <th>text</th>\n",
       "      <th>votes</th>\n",
       "    </tr>\n",
       "  </thead>\n",
       "  <tbody>\n",
       "    <tr>\n",
       "      <th>0</th>\n",
       "      <td>2020-12-17 12:31:55</td>\n",
       "      <td>阿暖</td>\n",
       "      <td>看过</td>\n",
       "      <td>4</td>\n",
       "      <td>最意外的是，在这个故事里竟然看到某种波伏娃式的冷酷与绝望——一个完美女性可以拥有一切，美貌，...</td>\n",
       "      <td>2321</td>\n",
       "    </tr>\n",
       "    <tr>\n",
       "      <th>3</th>\n",
       "      <td>2020-12-14 18:25:00</td>\n",
       "      <td>天马星</td>\n",
       "      <td>看过</td>\n",
       "      <td>5</td>\n",
       "      <td>二刷激光IMAX后依旧确信《神奇女侠1984》是我今年最爱的院线片，原因有二。一是延续了DC...</td>\n",
       "      <td>1025</td>\n",
       "    </tr>\n",
       "    <tr>\n",
       "      <th>4</th>\n",
       "      <td>2020-12-18 02:57:23</td>\n",
       "      <td>Lynchman</td>\n",
       "      <td>看过</td>\n",
       "      <td>3</td>\n",
       "      <td>《请回答1984：如果川普统治世界》</td>\n",
       "      <td>3613</td>\n",
       "    </tr>\n",
       "    <tr>\n",
       "      <th>5</th>\n",
       "      <td>2020-12-18 20:12:34</td>\n",
       "      <td>深夜的阿斯伯格</td>\n",
       "      <td>看过</td>\n",
       "      <td>3</td>\n",
       "      <td>我希望这个世界上没有伪3D，并让更多人看到这条短评</td>\n",
       "      <td>2259</td>\n",
       "    </tr>\n",
       "    <tr>\n",
       "      <th>6</th>\n",
       "      <td>2020-12-18 14:28:29</td>\n",
       "      <td>朝暮雪</td>\n",
       "      <td>看过</td>\n",
       "      <td>3</td>\n",
       "      <td>不是传统的超级英雄电影，不是爆米花爽片，而是更偏向剧情片。\\n动作戏和第一部相比有所退步，不...</td>\n",
       "      <td>1073</td>\n",
       "    </tr>\n",
       "    <tr>\n",
       "      <th>...</th>\n",
       "      <td>...</td>\n",
       "      <td>...</td>\n",
       "      <td>...</td>\n",
       "      <td>...</td>\n",
       "      <td>...</td>\n",
       "      <td>...</td>\n",
       "    </tr>\n",
       "    <tr>\n",
       "      <th>492</th>\n",
       "      <td>2020-12-20 23:33:08</td>\n",
       "      <td>厄庇墨透斯</td>\n",
       "      <td>看过</td>\n",
       "      <td>3</td>\n",
       "      <td>高端扯头花片。可惜金毛的全球播报没算中国。否则但凡有一个CPC看了，就实现共产主义了。</td>\n",
       "      <td>0</td>\n",
       "    </tr>\n",
       "    <tr>\n",
       "      <th>493</th>\n",
       "      <td>2020-12-19 22:18:09</td>\n",
       "      <td>维恩B</td>\n",
       "      <td>看过</td>\n",
       "      <td>3</td>\n",
       "      <td>特别可惜，概念和主题都挺有趣，也有表达欲，无奈执行太差……岛上和商场两段最好看，整部电影最大...</td>\n",
       "      <td>0</td>\n",
       "    </tr>\n",
       "    <tr>\n",
       "      <th>496</th>\n",
       "      <td>2020-12-22 18:42:21</td>\n",
       "      <td>Maxthor</td>\n",
       "      <td>看过</td>\n",
       "      <td>4</td>\n",
       "      <td>四星不足三星有余，Patty Jenkins的动作戏份还是没有想象中的精彩，对足够的特效支持...</td>\n",
       "      <td>0</td>\n",
       "    </tr>\n",
       "    <tr>\n",
       "      <th>497</th>\n",
       "      <td>2020-12-21 10:48:29</td>\n",
       "      <td>西老米</td>\n",
       "      <td>看过</td>\n",
       "      <td>4</td>\n",
       "      <td>还行啊，评分有点低了啊</td>\n",
       "      <td>0</td>\n",
       "    </tr>\n",
       "    <tr>\n",
       "      <th>499</th>\n",
       "      <td>2020-12-20 23:52:52</td>\n",
       "      <td>リンカ</td>\n",
       "      <td>看过</td>\n",
       "      <td>4</td>\n",
       "      <td>剧情比较老套，但做抉择的时候还是很心痛就是了……小朋友真是可怜，经历这么多破事儿，就算最后h...</td>\n",
       "      <td>0</td>\n",
       "    </tr>\n",
       "  </tbody>\n",
       "</table>\n",
       "<p>373 rows × 6 columns</p>\n",
       "</div>"
      ],
      "text/plain": [
       "                    date      name seen  star  \\\n",
       "0    2020-12-17 12:31:55        阿暖   看过     4   \n",
       "3    2020-12-14 18:25:00       天马星   看过     5   \n",
       "4    2020-12-18 02:57:23  Lynchman   看过     3   \n",
       "5    2020-12-18 20:12:34   深夜的阿斯伯格   看过     3   \n",
       "6    2020-12-18 14:28:29       朝暮雪   看过     3   \n",
       "..                   ...       ...  ...   ...   \n",
       "492  2020-12-20 23:33:08     厄庇墨透斯   看过     3   \n",
       "493  2020-12-19 22:18:09       维恩B   看过     3   \n",
       "496  2020-12-22 18:42:21   Maxthor   看过     4   \n",
       "497  2020-12-21 10:48:29       西老米   看过     4   \n",
       "499  2020-12-20 23:52:52       リンカ   看过     4   \n",
       "\n",
       "                                                  text  votes  \n",
       "0    最意外的是，在这个故事里竟然看到某种波伏娃式的冷酷与绝望——一个完美女性可以拥有一切，美貌，...   2321  \n",
       "3    二刷激光IMAX后依旧确信《神奇女侠1984》是我今年最爱的院线片，原因有二。一是延续了DC...   1025  \n",
       "4                                   《请回答1984：如果川普统治世界》   3613  \n",
       "5                            我希望这个世界上没有伪3D，并让更多人看到这条短评   2259  \n",
       "6    不是传统的超级英雄电影，不是爆米花爽片，而是更偏向剧情片。\\n动作戏和第一部相比有所退步，不...   1073  \n",
       "..                                                 ...    ...  \n",
       "492        高端扯头花片。可惜金毛的全球播报没算中国。否则但凡有一个CPC看了，就实现共产主义了。      0  \n",
       "493  特别可惜，概念和主题都挺有趣，也有表达欲，无奈执行太差……岛上和商场两段最好看，整部电影最大...      0  \n",
       "496  四星不足三星有余，Patty Jenkins的动作戏份还是没有想象中的精彩，对足够的特效支持...      0  \n",
       "497                                        还行啊，评分有点低了啊      0  \n",
       "499  剧情比较老套，但做抉择的时候还是很心痛就是了……小朋友真是可怜，经历这么多破事儿，就算最后h...      0  \n",
       "\n",
       "[373 rows x 6 columns]"
      ]
     },
     "execution_count": 81,
     "metadata": {},
     "output_type": "execute_result"
    }
   ],
   "source": [
    "csv[csv['star']>=3]"
   ]
  },
  {
   "cell_type": "code",
   "execution_count": 82,
   "metadata": {},
   "outputs": [
    {
     "data": {
      "text/html": [
       "<div>\n",
       "<style scoped>\n",
       "    .dataframe tbody tr th:only-of-type {\n",
       "        vertical-align: middle;\n",
       "    }\n",
       "\n",
       "    .dataframe tbody tr th {\n",
       "        vertical-align: top;\n",
       "    }\n",
       "\n",
       "    .dataframe thead th {\n",
       "        text-align: right;\n",
       "    }\n",
       "</style>\n",
       "<table border=\"1\" class=\"dataframe\">\n",
       "  <thead>\n",
       "    <tr style=\"text-align: right;\">\n",
       "      <th></th>\n",
       "      <th>date</th>\n",
       "      <th>name</th>\n",
       "      <th>seen</th>\n",
       "      <th>star</th>\n",
       "      <th>text</th>\n",
       "      <th>votes</th>\n",
       "    </tr>\n",
       "  </thead>\n",
       "  <tbody>\n",
       "    <tr>\n",
       "      <th>0</th>\n",
       "      <td>2020-12-17 12:31:55</td>\n",
       "      <td>阿暖</td>\n",
       "      <td>看过</td>\n",
       "      <td>4</td>\n",
       "      <td>最意外的是，在这个故事里竟然看到某种波伏娃式的冷酷与绝望——一个完美女性可以拥有一切，美貌，...</td>\n",
       "      <td>2321</td>\n",
       "    </tr>\n",
       "    <tr>\n",
       "      <th>3</th>\n",
       "      <td>2020-12-14 18:25:00</td>\n",
       "      <td>天马星</td>\n",
       "      <td>看过</td>\n",
       "      <td>5</td>\n",
       "      <td>二刷激光IMAX后依旧确信《神奇女侠1984》是我今年最爱的院线片，原因有二。一是延续了DC...</td>\n",
       "      <td>1025</td>\n",
       "    </tr>\n",
       "    <tr>\n",
       "      <th>7</th>\n",
       "      <td>2020-12-07 13:26:58</td>\n",
       "      <td>烟波人长安</td>\n",
       "      <td>看过</td>\n",
       "      <td>5</td>\n",
       "      <td>本来正义联盟之后我都快对dc不抱什么期望了，盖尔加朵又给我打了针强心剂。没想到这一部拍得这么...</td>\n",
       "      <td>787</td>\n",
       "    </tr>\n",
       "    <tr>\n",
       "      <th>9</th>\n",
       "      <td>2020-12-07 14:05:40</td>\n",
       "      <td>摇又鸟又鸟的狗</td>\n",
       "      <td>看过</td>\n",
       "      <td>4</td>\n",
       "      <td>首先想说，我并不是一个超英电影爱好者，我总觉得靠一个人发挥神力、噼里啪啦一顿大战就能拯救世界...</td>\n",
       "      <td>1782</td>\n",
       "    </tr>\n",
       "    <tr>\n",
       "      <th>12</th>\n",
       "      <td>2020-12-18 02:56:37</td>\n",
       "      <td>Ada🧣Wong💋💍</td>\n",
       "      <td>看过</td>\n",
       "      <td>4</td>\n",
       "      <td>8/10，这个许愿石的点子想的非常好，既解决了史蒂夫的回归的问题，也成功地树立了两个反派形象...</td>\n",
       "      <td>1209</td>\n",
       "    </tr>\n",
       "    <tr>\n",
       "      <th>...</th>\n",
       "      <td>...</td>\n",
       "      <td>...</td>\n",
       "      <td>...</td>\n",
       "      <td>...</td>\n",
       "      <td>...</td>\n",
       "      <td>...</td>\n",
       "    </tr>\n",
       "    <tr>\n",
       "      <th>489</th>\n",
       "      <td>2020-12-22 18:51:18</td>\n",
       "      <td>扰扰</td>\n",
       "      <td>看过</td>\n",
       "      <td>4</td>\n",
       "      <td>所以说，如果全世界的人都来许个愿，这个世界很快就会灭亡，原因在于贪婪、自私和欺骗。放下执念，...</td>\n",
       "      <td>0</td>\n",
       "    </tr>\n",
       "    <tr>\n",
       "      <th>490</th>\n",
       "      <td>2020-12-20 23:12:02</td>\n",
       "      <td>卢子鱼酱</td>\n",
       "      <td>看过</td>\n",
       "      <td>5</td>\n",
       "      <td>我就是喜欢！！！我就是冲着盖尔加朵的盛世美颜看的！！！</td>\n",
       "      <td>0</td>\n",
       "    </tr>\n",
       "    <tr>\n",
       "      <th>496</th>\n",
       "      <td>2020-12-22 18:42:21</td>\n",
       "      <td>Maxthor</td>\n",
       "      <td>看过</td>\n",
       "      <td>4</td>\n",
       "      <td>四星不足三星有余，Patty Jenkins的动作戏份还是没有想象中的精彩，对足够的特效支持...</td>\n",
       "      <td>0</td>\n",
       "    </tr>\n",
       "    <tr>\n",
       "      <th>497</th>\n",
       "      <td>2020-12-21 10:48:29</td>\n",
       "      <td>西老米</td>\n",
       "      <td>看过</td>\n",
       "      <td>4</td>\n",
       "      <td>还行啊，评分有点低了啊</td>\n",
       "      <td>0</td>\n",
       "    </tr>\n",
       "    <tr>\n",
       "      <th>499</th>\n",
       "      <td>2020-12-20 23:52:52</td>\n",
       "      <td>リンカ</td>\n",
       "      <td>看过</td>\n",
       "      <td>4</td>\n",
       "      <td>剧情比较老套，但做抉择的时候还是很心痛就是了……小朋友真是可怜，经历这么多破事儿，就算最后h...</td>\n",
       "      <td>0</td>\n",
       "    </tr>\n",
       "  </tbody>\n",
       "</table>\n",
       "<p>207 rows × 6 columns</p>\n",
       "</div>"
      ],
      "text/plain": [
       "                    date        name seen  star  \\\n",
       "0    2020-12-17 12:31:55          阿暖   看过     4   \n",
       "3    2020-12-14 18:25:00         天马星   看过     5   \n",
       "7    2020-12-07 13:26:58       烟波人长安   看过     5   \n",
       "9    2020-12-07 14:05:40     摇又鸟又鸟的狗   看过     4   \n",
       "12   2020-12-18 02:56:37  Ada🧣Wong💋💍   看过     4   \n",
       "..                   ...         ...  ...   ...   \n",
       "489  2020-12-22 18:51:18          扰扰   看过     4   \n",
       "490  2020-12-20 23:12:02        卢子鱼酱   看过     5   \n",
       "496  2020-12-22 18:42:21     Maxthor   看过     4   \n",
       "497  2020-12-21 10:48:29         西老米   看过     4   \n",
       "499  2020-12-20 23:52:52         リンカ   看过     4   \n",
       "\n",
       "                                                  text  votes  \n",
       "0    最意外的是，在这个故事里竟然看到某种波伏娃式的冷酷与绝望——一个完美女性可以拥有一切，美貌，...   2321  \n",
       "3    二刷激光IMAX后依旧确信《神奇女侠1984》是我今年最爱的院线片，原因有二。一是延续了DC...   1025  \n",
       "7    本来正义联盟之后我都快对dc不抱什么期望了，盖尔加朵又给我打了针强心剂。没想到这一部拍得这么...    787  \n",
       "9    首先想说，我并不是一个超英电影爱好者，我总觉得靠一个人发挥神力、噼里啪啦一顿大战就能拯救世界...   1782  \n",
       "12   8/10，这个许愿石的点子想的非常好，既解决了史蒂夫的回归的问题，也成功地树立了两个反派形象...   1209  \n",
       "..                                                 ...    ...  \n",
       "489  所以说，如果全世界的人都来许个愿，这个世界很快就会灭亡，原因在于贪婪、自私和欺骗。放下执念，...      0  \n",
       "490                        我就是喜欢！！！我就是冲着盖尔加朵的盛世美颜看的！！！      0  \n",
       "496  四星不足三星有余，Patty Jenkins的动作戏份还是没有想象中的精彩，对足够的特效支持...      0  \n",
       "497                                        还行啊，评分有点低了啊      0  \n",
       "499  剧情比较老套，但做抉择的时候还是很心痛就是了……小朋友真是可怜，经历这么多破事儿，就算最后h...      0  \n",
       "\n",
       "[207 rows x 6 columns]"
      ]
     },
     "execution_count": 82,
     "metadata": {},
     "output_type": "execute_result"
    }
   ],
   "source": [
    "csv[csv['star']>=4]"
   ]
  },
  {
   "cell_type": "code",
   "execution_count": 83,
   "metadata": {},
   "outputs": [
    {
     "data": {
      "text/html": [
       "<div>\n",
       "<style scoped>\n",
       "    .dataframe tbody tr th:only-of-type {\n",
       "        vertical-align: middle;\n",
       "    }\n",
       "\n",
       "    .dataframe tbody tr th {\n",
       "        vertical-align: top;\n",
       "    }\n",
       "\n",
       "    .dataframe thead th {\n",
       "        text-align: right;\n",
       "    }\n",
       "</style>\n",
       "<table border=\"1\" class=\"dataframe\">\n",
       "  <thead>\n",
       "    <tr style=\"text-align: right;\">\n",
       "      <th></th>\n",
       "      <th>date</th>\n",
       "      <th>name</th>\n",
       "      <th>seen</th>\n",
       "      <th>star</th>\n",
       "      <th>text</th>\n",
       "      <th>votes</th>\n",
       "    </tr>\n",
       "  </thead>\n",
       "  <tbody>\n",
       "    <tr>\n",
       "      <th>3</th>\n",
       "      <td>2020-12-14 18:25:00</td>\n",
       "      <td>天马星</td>\n",
       "      <td>看过</td>\n",
       "      <td>5</td>\n",
       "      <td>二刷激光IMAX后依旧确信《神奇女侠1984》是我今年最爱的院线片，原因有二。一是延续了DC...</td>\n",
       "      <td>1025</td>\n",
       "    </tr>\n",
       "    <tr>\n",
       "      <th>7</th>\n",
       "      <td>2020-12-07 13:26:58</td>\n",
       "      <td>烟波人长安</td>\n",
       "      <td>看过</td>\n",
       "      <td>5</td>\n",
       "      <td>本来正义联盟之后我都快对dc不抱什么期望了，盖尔加朵又给我打了针强心剂。没想到这一部拍得这么...</td>\n",
       "      <td>787</td>\n",
       "    </tr>\n",
       "    <tr>\n",
       "      <th>19</th>\n",
       "      <td>2020-12-17 01:02:22</td>\n",
       "      <td>京客隆小丸子</td>\n",
       "      <td>看过</td>\n",
       "      <td>5</td>\n",
       "      <td>女侠升级黄金圣斗士，男友换脸整容陪你过圣诞。</td>\n",
       "      <td>515</td>\n",
       "    </tr>\n",
       "    <tr>\n",
       "      <th>26</th>\n",
       "      <td>2020-12-18 04:23:31</td>\n",
       "      <td>明月何时照哥谭</td>\n",
       "      <td>看过</td>\n",
       "      <td>5</td>\n",
       "      <td>在超英漫改这个类型片被推向肥皂剧和严肃剧两个极端的当下，派导用一种极为纯真的笔触将超英电影带...</td>\n",
       "      <td>194</td>\n",
       "    </tr>\n",
       "    <tr>\n",
       "      <th>33</th>\n",
       "      <td>2020-12-18 03:08:16</td>\n",
       "      <td>iriselite</td>\n",
       "      <td>看过</td>\n",
       "      <td>5</td>\n",
       "      <td>一开始戴安娜小时候在天堂岛的竞技那段激烈紧张，引人入胜。本片回归到了时髦新潮的美好80年代，...</td>\n",
       "      <td>104</td>\n",
       "    </tr>\n",
       "    <tr>\n",
       "      <th>...</th>\n",
       "      <td>...</td>\n",
       "      <td>...</td>\n",
       "      <td>...</td>\n",
       "      <td>...</td>\n",
       "      <td>...</td>\n",
       "      <td>...</td>\n",
       "    </tr>\n",
       "    <tr>\n",
       "      <th>461</th>\n",
       "      <td>2020-12-18 10:40:21</td>\n",
       "      <td>NBCS</td>\n",
       "      <td>看过</td>\n",
       "      <td>5</td>\n",
       "      <td>第一部史蒂夫带戴安娜走进新世界，这一部戴安娜带着史蒂夫打开新大门，很甜很可爱。终究是留不住，...</td>\n",
       "      <td>5</td>\n",
       "    </tr>\n",
       "    <tr>\n",
       "      <th>469</th>\n",
       "      <td>2020-12-18 14:40:48</td>\n",
       "      <td>黄景瑜</td>\n",
       "      <td>看过</td>\n",
       "      <td>5</td>\n",
       "      <td>电影就是幻觉，这种美到窒息的幻觉，还能奢求什么呢？</td>\n",
       "      <td>5</td>\n",
       "    </tr>\n",
       "    <tr>\n",
       "      <th>473</th>\n",
       "      <td>2020-12-19 02:05:12</td>\n",
       "      <td>Dʙ̆̈ᴢ̆̈R</td>\n",
       "      <td>看过</td>\n",
       "      <td>5</td>\n",
       "      <td>A perfect holiday movie. 但每次看这种电影都仿佛在一个bubble中...</td>\n",
       "      <td>2</td>\n",
       "    </tr>\n",
       "    <tr>\n",
       "      <th>488</th>\n",
       "      <td>2020-12-20 22:13:50</td>\n",
       "      <td>王赫特❤</td>\n",
       "      <td>看过</td>\n",
       "      <td>5</td>\n",
       "      <td>很好看啊！神奇女侠也逃不过“你要如何平衡事业与生活”，要爱情就要放弃超能力，但是她仍愿意为普...</td>\n",
       "      <td>1</td>\n",
       "    </tr>\n",
       "    <tr>\n",
       "      <th>490</th>\n",
       "      <td>2020-12-20 23:12:02</td>\n",
       "      <td>卢子鱼酱</td>\n",
       "      <td>看过</td>\n",
       "      <td>5</td>\n",
       "      <td>我就是喜欢！！！我就是冲着盖尔加朵的盛世美颜看的！！！</td>\n",
       "      <td>0</td>\n",
       "    </tr>\n",
       "  </tbody>\n",
       "</table>\n",
       "<p>69 rows × 6 columns</p>\n",
       "</div>"
      ],
      "text/plain": [
       "                    date       name seen  star  \\\n",
       "3    2020-12-14 18:25:00        天马星   看过     5   \n",
       "7    2020-12-07 13:26:58      烟波人长安   看过     5   \n",
       "19   2020-12-17 01:02:22     京客隆小丸子   看过     5   \n",
       "26   2020-12-18 04:23:31    明月何时照哥谭   看过     5   \n",
       "33   2020-12-18 03:08:16  iriselite   看过     5   \n",
       "..                   ...        ...  ...   ...   \n",
       "461  2020-12-18 10:40:21       NBCS   看过     5   \n",
       "469  2020-12-18 14:40:48        黄景瑜   看过     5   \n",
       "473  2020-12-19 02:05:12   Dʙ̆̈ᴢ̆̈R   看过     5   \n",
       "488  2020-12-20 22:13:50       王赫特❤   看过     5   \n",
       "490  2020-12-20 23:12:02       卢子鱼酱   看过     5   \n",
       "\n",
       "                                                  text  votes  \n",
       "3    二刷激光IMAX后依旧确信《神奇女侠1984》是我今年最爱的院线片，原因有二。一是延续了DC...   1025  \n",
       "7    本来正义联盟之后我都快对dc不抱什么期望了，盖尔加朵又给我打了针强心剂。没想到这一部拍得这么...    787  \n",
       "19                              女侠升级黄金圣斗士，男友换脸整容陪你过圣诞。    515  \n",
       "26   在超英漫改这个类型片被推向肥皂剧和严肃剧两个极端的当下，派导用一种极为纯真的笔触将超英电影带...    194  \n",
       "33   一开始戴安娜小时候在天堂岛的竞技那段激烈紧张，引人入胜。本片回归到了时髦新潮的美好80年代，...    104  \n",
       "..                                                 ...    ...  \n",
       "461  第一部史蒂夫带戴安娜走进新世界，这一部戴安娜带着史蒂夫打开新大门，很甜很可爱。终究是留不住，...      5  \n",
       "469                          电影就是幻觉，这种美到窒息的幻觉，还能奢求什么呢？      5  \n",
       "473  A perfect holiday movie. 但每次看这种电影都仿佛在一个bubble中...      2  \n",
       "488  很好看啊！神奇女侠也逃不过“你要如何平衡事业与生活”，要爱情就要放弃超能力，但是她仍愿意为普...      1  \n",
       "490                        我就是喜欢！！！我就是冲着盖尔加朵的盛世美颜看的！！！      0  \n",
       "\n",
       "[69 rows x 6 columns]"
      ]
     },
     "execution_count": 83,
     "metadata": {},
     "output_type": "execute_result"
    }
   ],
   "source": [
    "csv[csv['star']>=5]"
   ]
  },
  {
   "cell_type": "code",
   "execution_count": 84,
   "metadata": {},
   "outputs": [],
   "source": [
    "good=csv.dropna(how='any')"
   ]
  },
  {
   "cell_type": "code",
   "execution_count": 85,
   "metadata": {},
   "outputs": [
    {
     "data": {
      "text/plain": [
       "(500, 6)"
      ]
     },
     "execution_count": 85,
     "metadata": {},
     "output_type": "execute_result"
    }
   ],
   "source": [
    "good.shape"
   ]
  },
  {
   "cell_type": "code",
   "execution_count": 86,
   "metadata": {},
   "outputs": [
    {
     "data": {
      "text/plain": [
       "0      2321\n",
       "1       456\n",
       "2      2147\n",
       "3      1025\n",
       "4      3613\n",
       "       ... \n",
       "495       0\n",
       "496       0\n",
       "497       0\n",
       "498       0\n",
       "499       0\n",
       "Name: votes, Length: 500, dtype: int64"
      ]
     },
     "execution_count": 86,
     "metadata": {},
     "output_type": "execute_result"
    }
   ],
   "source": [
    "csv['votes'].fillna(value=1000)"
   ]
  },
  {
   "cell_type": "code",
   "execution_count": 87,
   "metadata": {},
   "outputs": [
    {
     "data": {
      "text/html": [
       "<div>\n",
       "<style scoped>\n",
       "    .dataframe tbody tr th:only-of-type {\n",
       "        vertical-align: middle;\n",
       "    }\n",
       "\n",
       "    .dataframe tbody tr th {\n",
       "        vertical-align: top;\n",
       "    }\n",
       "\n",
       "    .dataframe thead th {\n",
       "        text-align: right;\n",
       "    }\n",
       "</style>\n",
       "<table border=\"1\" class=\"dataframe\">\n",
       "  <thead>\n",
       "    <tr style=\"text-align: right;\">\n",
       "      <th></th>\n",
       "      <th>date</th>\n",
       "      <th>name</th>\n",
       "      <th>seen</th>\n",
       "      <th>star</th>\n",
       "      <th>text</th>\n",
       "      <th>votes</th>\n",
       "    </tr>\n",
       "  </thead>\n",
       "  <tbody>\n",
       "    <tr>\n",
       "      <th>0</th>\n",
       "      <td>False</td>\n",
       "      <td>False</td>\n",
       "      <td>False</td>\n",
       "      <td>False</td>\n",
       "      <td>False</td>\n",
       "      <td>False</td>\n",
       "    </tr>\n",
       "    <tr>\n",
       "      <th>1</th>\n",
       "      <td>False</td>\n",
       "      <td>False</td>\n",
       "      <td>False</td>\n",
       "      <td>False</td>\n",
       "      <td>False</td>\n",
       "      <td>False</td>\n",
       "    </tr>\n",
       "    <tr>\n",
       "      <th>2</th>\n",
       "      <td>False</td>\n",
       "      <td>False</td>\n",
       "      <td>False</td>\n",
       "      <td>False</td>\n",
       "      <td>False</td>\n",
       "      <td>False</td>\n",
       "    </tr>\n",
       "    <tr>\n",
       "      <th>3</th>\n",
       "      <td>False</td>\n",
       "      <td>False</td>\n",
       "      <td>False</td>\n",
       "      <td>False</td>\n",
       "      <td>False</td>\n",
       "      <td>False</td>\n",
       "    </tr>\n",
       "    <tr>\n",
       "      <th>4</th>\n",
       "      <td>False</td>\n",
       "      <td>False</td>\n",
       "      <td>False</td>\n",
       "      <td>False</td>\n",
       "      <td>False</td>\n",
       "      <td>False</td>\n",
       "    </tr>\n",
       "    <tr>\n",
       "      <th>...</th>\n",
       "      <td>...</td>\n",
       "      <td>...</td>\n",
       "      <td>...</td>\n",
       "      <td>...</td>\n",
       "      <td>...</td>\n",
       "      <td>...</td>\n",
       "    </tr>\n",
       "    <tr>\n",
       "      <th>495</th>\n",
       "      <td>False</td>\n",
       "      <td>False</td>\n",
       "      <td>False</td>\n",
       "      <td>False</td>\n",
       "      <td>False</td>\n",
       "      <td>False</td>\n",
       "    </tr>\n",
       "    <tr>\n",
       "      <th>496</th>\n",
       "      <td>False</td>\n",
       "      <td>False</td>\n",
       "      <td>False</td>\n",
       "      <td>False</td>\n",
       "      <td>False</td>\n",
       "      <td>False</td>\n",
       "    </tr>\n",
       "    <tr>\n",
       "      <th>497</th>\n",
       "      <td>False</td>\n",
       "      <td>False</td>\n",
       "      <td>False</td>\n",
       "      <td>False</td>\n",
       "      <td>False</td>\n",
       "      <td>False</td>\n",
       "    </tr>\n",
       "    <tr>\n",
       "      <th>498</th>\n",
       "      <td>False</td>\n",
       "      <td>False</td>\n",
       "      <td>False</td>\n",
       "      <td>False</td>\n",
       "      <td>False</td>\n",
       "      <td>False</td>\n",
       "    </tr>\n",
       "    <tr>\n",
       "      <th>499</th>\n",
       "      <td>False</td>\n",
       "      <td>False</td>\n",
       "      <td>False</td>\n",
       "      <td>False</td>\n",
       "      <td>False</td>\n",
       "      <td>False</td>\n",
       "    </tr>\n",
       "  </tbody>\n",
       "</table>\n",
       "<p>500 rows × 6 columns</p>\n",
       "</div>"
      ],
      "text/plain": [
       "      date   name   seen   star   text  votes\n",
       "0    False  False  False  False  False  False\n",
       "1    False  False  False  False  False  False\n",
       "2    False  False  False  False  False  False\n",
       "3    False  False  False  False  False  False\n",
       "4    False  False  False  False  False  False\n",
       "..     ...    ...    ...    ...    ...    ...\n",
       "495  False  False  False  False  False  False\n",
       "496  False  False  False  False  False  False\n",
       "497  False  False  False  False  False  False\n",
       "498  False  False  False  False  False  False\n",
       "499  False  False  False  False  False  False\n",
       "\n",
       "[500 rows x 6 columns]"
      ]
     },
     "execution_count": 87,
     "metadata": {},
     "output_type": "execute_result"
    }
   ],
   "source": [
    "csv.isna()"
   ]
  },
  {
   "cell_type": "code",
   "execution_count": 88,
   "metadata": {},
   "outputs": [
    {
     "data": {
      "text/plain": [
       "star      3.192\n",
       "votes    61.334\n",
       "dtype: float64"
      ]
     },
     "execution_count": 88,
     "metadata": {},
     "output_type": "execute_result"
    }
   ],
   "source": [
    "csv.mean()"
   ]
  },
  {
   "cell_type": "code",
   "execution_count": 89,
   "metadata": {},
   "outputs": [
    {
     "data": {
      "text/plain": [
       "0      1162.5\n",
       "1       228.5\n",
       "2      1074.5\n",
       "3       515.0\n",
       "4      1808.0\n",
       "        ...  \n",
       "495       1.0\n",
       "496       2.0\n",
       "497       2.0\n",
       "498       1.0\n",
       "499       2.0\n",
       "Length: 500, dtype: float64"
      ]
     },
     "execution_count": 89,
     "metadata": {},
     "output_type": "execute_result"
    }
   ],
   "source": [
    "csv.mean(1)"
   ]
  },
  {
   "cell_type": "code",
   "execution_count": 90,
   "metadata": {},
   "outputs": [],
   "source": [
    "csv.to_csv('new_csv.csv')"
   ]
  },
  {
   "cell_type": "code",
   "execution_count": 91,
   "metadata": {},
   "outputs": [],
   "source": [
    "a_file=open('Desktop/numbers.txt')"
   ]
  },
  {
   "cell_type": "code",
   "execution_count": 92,
   "metadata": {},
   "outputs": [],
   "source": [
    "numbers=a_file.readlines()"
   ]
  },
  {
   "cell_type": "code",
   "execution_count": 93,
   "metadata": {},
   "outputs": [],
   "source": [
    "sum=0"
   ]
  },
  {
   "cell_type": "code",
   "execution_count": 94,
   "metadata": {},
   "outputs": [
    {
     "data": {
      "text/plain": [
       "''"
      ]
     },
     "execution_count": 94,
     "metadata": {},
     "output_type": "execute_result"
    }
   ],
   "source": [
    "a_file.read()"
   ]
  },
  {
   "cell_type": "code",
   "execution_count": 95,
   "metadata": {},
   "outputs": [],
   "source": [
    "a_file.close()"
   ]
  },
  {
   "cell_type": "code",
   "execution_count": 96,
   "metadata": {},
   "outputs": [],
   "source": [
    "sentence=\"I love my family\""
   ]
  },
  {
   "cell_type": "code",
   "execution_count": 97,
   "metadata": {},
   "outputs": [
    {
     "name": "stdout",
     "output_type": "stream",
     "text": [
      "I love my family\n"
     ]
    }
   ],
   "source": [
    "print(sentence.capitalize())"
   ]
  },
  {
   "cell_type": "code",
   "execution_count": 98,
   "metadata": {},
   "outputs": [
    {
     "name": "stdout",
     "output_type": "stream",
     "text": [
      "I LOVE MY FAMILY\n"
     ]
    }
   ],
   "source": [
    "print(sentence.upper())"
   ]
  },
  {
   "cell_type": "code",
   "execution_count": 99,
   "metadata": {},
   "outputs": [
    {
     "name": "stdout",
     "output_type": "stream",
     "text": [
      "I Love My Family\n"
     ]
    }
   ],
   "source": [
    "print(sentence.title())"
   ]
  },
  {
   "cell_type": "code",
   "execution_count": 100,
   "metadata": {},
   "outputs": [],
   "source": [
    "a=\"i love myself\""
   ]
  },
  {
   "cell_type": "code",
   "execution_count": 101,
   "metadata": {},
   "outputs": [
    {
     "name": "stdout",
     "output_type": "stream",
     "text": [
      "I love myself\n"
     ]
    }
   ],
   "source": [
    "print(a.capitalize())"
   ]
  },
  {
   "cell_type": "code",
   "execution_count": 102,
   "metadata": {},
   "outputs": [
    {
     "name": "stdout",
     "output_type": "stream",
     "text": [
      "I LOVE MYSELF\n"
     ]
    }
   ],
   "source": [
    "print(a.upper())"
   ]
  },
  {
   "cell_type": "code",
   "execution_count": 103,
   "metadata": {},
   "outputs": [
    {
     "name": "stdout",
     "output_type": "stream",
     "text": [
      "I Love Myself\n"
     ]
    }
   ],
   "source": [
    "print(a.title())"
   ]
  },
  {
   "cell_type": "code",
   "execution_count": 104,
   "metadata": {},
   "outputs": [],
   "source": [
    "import altair as alt"
   ]
  },
  {
   "cell_type": "code",
   "execution_count": 105,
   "metadata": {},
   "outputs": [],
   "source": [
    "from vega_datasets import data"
   ]
  },
  {
   "cell_type": "code",
   "execution_count": 106,
   "metadata": {},
   "outputs": [],
   "source": [
    "source=alt.topo_feature(data.world_110m.url,'countries')"
   ]
  },
  {
   "cell_type": "code",
   "execution_count": 107,
   "metadata": {},
   "outputs": [],
   "source": [
    "import matplotlib.pyplot as plt"
   ]
  },
  {
   "cell_type": "code",
   "execution_count": 108,
   "metadata": {},
   "outputs": [],
   "source": [
    "import numpy as np"
   ]
  },
  {
   "cell_type": "code",
   "execution_count": 109,
   "metadata": {},
   "outputs": [
    {
     "data": {
      "image/png": "[encoded data removed]",
      "text/plain": [
       "<Figure size 432x288 with 1 Axes>"
      ]
     },
     "metadata": {
      "needs_background": "light"
     },
     "output_type": "display_data"
    }
   ],
   "source": [
    "fig,ax=plt.subplots()"
   ]
  },
  {
   "cell_type": "code",
   "execution_count": 110,
   "metadata": {},
   "outputs": [
    {
     "data": {
      "text/plain": [
       "[<matplotlib.lines.Line2D at 0x177dc6aad00>]"
      ]
     },
     "execution_count": 110,
     "metadata": {},
     "output_type": "execute_result"
    }
   ],
   "source": [
    "ax.plot([1,2,3,4],[1,3,2,1])"
   ]
  },
  {
   "cell_type": "code",
   "execution_count": 111,
   "metadata": {},
   "outputs": [],
   "source": [
    "plt.show()"
   ]
  },
  {
   "cell_type": "code",
   "execution_count": null,
   "metadata": {},
   "outputs": [
    {
     "data": {
      "text/plain": [
       "[<matplotlib.lines.Line2D at 0x177dd6f78b0>]"
      ]
     },
     "execution_count": 112,
     "metadata": {},
     "output_type": "execute_result"
    }
   ],
   "source": [
    "fig,ax=plt.subplots()\n",
    "ax.plot([1,2,3,4],[1,3,2,1])"
   ]
  },
  {
   "cell_type": "code",
   "execution_count": null,
   "metadata": {},
   "outputs": [],
   "source": [
    "plt.plot([1,2,3,4],[1,3,2,1])"
   ]
  },
  {
   "cell_type": "code",
   "execution_count": null,
   "metadata": {},
   "outputs": [],
   "source": [
    "ax.plot([1,2,3,4],[1,3,4,2])"
   ]
  },
  {
   "cell_type": "code",
   "execution_count": null,
   "metadata": {},
   "outputs": [],
   "source": [
    "plt.plot([1,2,3,4],[1,4,9,16],'ro')"
   ]
  },
  {
   "cell_type": "code",
   "execution_count": null,
   "metadata": {},
   "outputs": [],
   "source": [
    "plt.axis([0,6,0,20])"
   ]
  },
  {
   "cell_type": "code",
   "execution_count": null,
   "metadata": {},
   "outputs": [],
   "source": [
    "plt.plot([1,2,3,4],[1,4,9,16],'ro')\n",
    "plt.axis([0,6,0,20])\n",
    "plt.show()"
   ]
  },
  {
   "cell_type": "code",
   "execution_count": null,
   "metadata": {},
   "outputs": [],
   "source": [
    "t=np.arange(0.,5.,0.2)"
   ]
  },
  {
   "cell_type": "code",
   "execution_count": null,
   "metadata": {},
   "outputs": [],
   "source": [
    "plt.plot(t,t,'r--',t,t**2,'bs',t,t**3,'g^')"
   ]
  },
  {
   "cell_type": "code",
   "execution_count": null,
   "metadata": {},
   "outputs": [],
   "source": [
    "plt.show()"
   ]
  },
  {
   "cell_type": "code",
   "execution_count": null,
   "metadata": {},
   "outputs": [],
   "source": [
    "plt.plot(t**2,c='C2',ls='-.',marker='o',label='my label')"
   ]
  },
  {
   "cell_type": "code",
   "execution_count": null,
   "metadata": {},
   "outputs": [],
   "source": [
    "plt.legend()"
   ]
  },
  {
   "cell_type": "code",
   "execution_count": null,
   "metadata": {},
   "outputs": [],
   "source": [
    "import numpy as np"
   ]
  },
  {
   "cell_type": "code",
   "execution_count": null,
   "metadata": {},
   "outputs": [],
   "source": [
    "import pandas as pd"
   ]
  },
  {
   "cell_type": "code",
   "execution_count": null,
   "metadata": {},
   "outputs": [],
   "source": [
    "s=pd.Series([1,3,5,np.nan,6,8])"
   ]
  },
  {
   "cell_type": "code",
   "execution_count": null,
   "metadata": {},
   "outputs": [],
   "source": [
    "s"
   ]
  },
  {
   "cell_type": "code",
   "execution_count": null,
   "metadata": {},
   "outputs": [],
   "source": [
    "dates=pd.date_range('20210101',periods=3)"
   ]
  },
  {
   "cell_type": "code",
   "execution_count": null,
   "metadata": {},
   "outputs": [],
   "source": [
    "dates"
   ]
  },
  {
   "cell_type": "code",
   "execution_count": null,
   "metadata": {},
   "outputs": [],
   "source": [
    "df=pd.DataFrame(np.random.randn(3,3),index=dates,columns=list('ABC'))"
   ]
  },
  {
   "cell_type": "code",
   "execution_count": null,
   "metadata": {},
   "outputs": [],
   "source": [
    "df"
   ]
  },
  {
   "cell_type": "code",
   "execution_count": null,
   "metadata": {},
   "outputs": [],
   "source": [
    "df=pd.DataFrame({'A':1.,\n",
    "                 'B':pd.Timestamp('20210101'),\n",
    "                 'C':pd.Series(1,index=list(range(4)),dtype='float32')})"
   ]
  },
  {
   "cell_type": "code",
   "execution_count": null,
   "metadata": {},
   "outputs": [],
   "source": [
    "df"
   ]
  },
  {
   "cell_type": "code",
   "execution_count": null,
   "metadata": {},
   "outputs": [],
   "source": [
    "counter=100\n",
    "miles=100.0\n",
    "name=\"runoob\""
   ]
  },
  {
   "cell_type": "code",
   "execution_count": null,
   "metadata": {},
   "outputs": [],
   "source": [
    "counter"
   ]
  },
  {
   "cell_type": "code",
   "execution_count": null,
   "metadata": {},
   "outputs": [],
   "source": [
    "miles"
   ]
  },
  {
   "cell_type": "code",
   "execution_count": null,
   "metadata": {},
   "outputs": [],
   "source": [
    "name"
   ]
  },
  {
   "cell_type": "code",
   "execution_count": null,
   "metadata": {},
   "outputs": [],
   "source": [
    "a=b=c=1"
   ]
  },
  {
   "cell_type": "code",
   "execution_count": null,
   "metadata": {},
   "outputs": [],
   "source": [
    "a"
   ]
  },
  {
   "cell_type": "code",
   "execution_count": null,
   "metadata": {},
   "outputs": [],
   "source": [
    "b"
   ]
  },
  {
   "cell_type": "code",
   "execution_count": null,
   "metadata": {},
   "outputs": [],
   "source": [
    "c"
   ]
  },
  {
   "cell_type": "code",
   "execution_count": null,
   "metadata": {},
   "outputs": [],
   "source": [
    "my_weight=116"
   ]
  },
  {
   "cell_type": "code",
   "execution_count": null,
   "metadata": {},
   "outputs": [],
   "source": [
    "print(f'my weight is {my_weight}')"
   ]
  },
  {
   "cell_type": "code",
   "execution_count": null,
   "metadata": {},
   "outputs": [],
   "source": [
    "import sys\n",
    "sys.executable"
   ]
  },
  {
   "cell_type": "code",
   "execution_count": null,
   "metadata": {},
   "outputs": [],
   "source": [
    "sys.argv"
   ]
  },
  {
   "cell_type": "code",
   "execution_count": null,
   "metadata": {},
   "outputs": [],
   "source": [
    "a=100003948593649526\n",
    "b=9999.99999"
   ]
  },
  {
   "cell_type": "code",
   "execution_count": null,
   "metadata": {},
   "outputs": [],
   "source": [
    "c=a+b"
   ]
  },
  {
   "cell_type": "code",
   "execution_count": null,
   "metadata": {},
   "outputs": [],
   "source": [
    "c"
   ]
  },
  {
   "cell_type": "code",
   "execution_count": null,
   "metadata": {},
   "outputs": [],
   "source": [
    "d=a*b"
   ]
  },
  {
   "cell_type": "code",
   "execution_count": null,
   "metadata": {},
   "outputs": [],
   "source": [
    "d"
   ]
  },
  {
   "cell_type": "code",
   "execution_count": null,
   "metadata": {},
   "outputs": [],
   "source": [
    "e=a/b"
   ]
  },
  {
   "cell_type": "code",
   "execution_count": null,
   "metadata": {},
   "outputs": [],
   "source": [
    "e"
   ]
  },
  {
   "cell_type": "code",
   "execution_count": null,
   "metadata": {},
   "outputs": [],
   "source": [
    "f=a-b"
   ]
  },
  {
   "cell_type": "code",
   "execution_count": null,
   "metadata": {},
   "outputs": [],
   "source": [
    "f"
   ]
  },
  {
   "cell_type": "code",
   "execution_count": null,
   "metadata": {},
   "outputs": [],
   "source": [
    "def print_two(*args):\n",
    "    arg1,arg2=args"
   ]
  },
  {
   "cell_type": "code",
   "execution_count": null,
   "metadata": {},
   "outputs": [],
   "source": [
    "sys.argv"
   ]
  },
  {
   "cell_type": "code",
   "execution_count": null,
   "metadata": {},
   "outputs": [],
   "source": [
    "def print_two(*args):\n",
    "    arg1,arg2=args"
   ]
  },
  {
   "cell_type": "code",
   "execution_count": null,
   "metadata": {},
   "outputs": [],
   "source": [
    "import sys\n",
    "sys.executable"
   ]
  },
  {
   "cell_type": "code",
   "execution_count": null,
   "metadata": {},
   "outputs": [],
   "source": [
    "sys.argv"
   ]
  },
  {
   "cell_type": "code",
   "execution_count": null,
   "metadata": {},
   "outputs": [],
   "source": [
    "def print_two(*args):\n",
    "    arg1,arg2=args"
   ]
  },
  {
   "cell_type": "code",
   "execution_count": null,
   "metadata": {},
   "outputs": [],
   "source": [
    "print_two('Z','X')"
   ]
  },
  {
   "cell_type": "code",
   "execution_count": null,
   "metadata": {},
   "outputs": [],
   "source": [
    "filename='Desktop/任务.txt'"
   ]
  },
  {
   "cell_type": "code",
   "execution_count": null,
   "metadata": {},
   "outputs": [],
   "source": [
    "txt=open(filename)"
   ]
  },
  {
   "cell_type": "code",
   "execution_count": null,
   "metadata": {},
   "outputs": [],
   "source": [
    "print(f\"Here is your file {filename}:\")"
   ]
  },
  {
   "cell_type": "code",
   "execution_count": null,
   "metadata": {},
   "outputs": [],
   "source": [
    "print(txt.read())"
   ]
  },
  {
   "cell_type": "code",
   "execution_count": null,
   "metadata": {},
   "outputs": [],
   "source": [
    "txt"
   ]
  },
  {
   "cell_type": "code",
   "execution_count": null,
   "metadata": {},
   "outputs": [],
   "source": [
    "txt.close()"
   ]
  },
  {
   "cell_type": "code",
   "execution_count": null,
   "metadata": {},
   "outputs": [],
   "source": [
    "target=open(filename,'w')"
   ]
  },
  {
   "cell_type": "code",
   "execution_count": null,
   "metadata": {},
   "outputs": [],
   "source": [
    "print(\"Truncating the file. Goodbye!\")"
   ]
  },
  {
   "cell_type": "code",
   "execution_count": null,
   "metadata": {},
   "outputs": [],
   "source": [
    "txt.read"
   ]
  },
  {
   "cell_type": "code",
   "execution_count": null,
   "metadata": {},
   "outputs": [],
   "source": [
    "print(\"Now I am going to ask you for two lines.\")"
   ]
  },
  {
   "cell_type": "code",
   "execution_count": null,
   "metadata": {},
   "outputs": [],
   "source": [
    "line1=input(\"line1:\")"
   ]
  },
  {
   "cell_type": "code",
   "execution_count": null,
   "metadata": {},
   "outputs": [],
   "source": [
    "line2=input(\"line2:\")"
   ]
  },
  {
   "cell_type": "code",
   "execution_count": null,
   "metadata": {},
   "outputs": [],
   "source": [
    "print(\"I will write these to the file.\")"
   ]
  },
  {
   "cell_type": "code",
   "execution_count": null,
   "metadata": {},
   "outputs": [],
   "source": [
    "target.write(line1)"
   ]
  },
  {
   "cell_type": "code",
   "execution_count": null,
   "metadata": {},
   "outputs": [],
   "source": [
    "target.write(\"物流作业好难\")"
   ]
  },
  {
   "cell_type": "code",
   "execution_count": null,
   "metadata": {},
   "outputs": [],
   "source": [
    "target.write(line2)"
   ]
  },
  {
   "cell_type": "code",
   "execution_count": null,
   "metadata": {},
   "outputs": [],
   "source": [
    "target.write(\"克服困难就是成长\")"
   ]
  },
  {
   "cell_type": "code",
   "execution_count": null,
   "metadata": {},
   "outputs": [],
   "source": [
    "print(\"Finally, we close it\")"
   ]
  },
  {
   "cell_type": "code",
   "execution_count": null,
   "metadata": {},
   "outputs": [],
   "source": [
    "a='Desktop/任务.txt'"
   ]
  },
  {
   "cell_type": "code",
   "execution_count": null,
   "metadata": {},
   "outputs": [],
   "source": [
    "a=1348091276\n",
    "b=845209347\n",
    "c=23087591794"
   ]
  },
  {
   "cell_type": "code",
   "execution_count": null,
   "metadata": {},
   "outputs": [],
   "source": [
    "d=a-b+c"
   ]
  },
  {
   "cell_type": "code",
   "execution_count": null,
   "metadata": {},
   "outputs": [],
   "source": [
    "d"
   ]
  },
  {
   "cell_type": "code",
   "execution_count": null,
   "metadata": {},
   "outputs": [],
   "source": [
    "e=a*b*c"
   ]
  },
  {
   "cell_type": "code",
   "execution_count": null,
   "metadata": {},
   "outputs": [],
   "source": [
    "e"
   ]
  },
  {
   "cell_type": "code",
   "execution_count": null,
   "metadata": {},
   "outputs": [],
   "source": [
    "f=a*b/c"
   ]
  },
  {
   "cell_type": "code",
   "execution_count": null,
   "metadata": {},
   "outputs": [],
   "source": [
    "f"
   ]
  },
  {
   "cell_type": "code",
   "execution_count": null,
   "metadata": {},
   "outputs": [],
   "source": [
    "a=5\n",
    "b=7\n",
    "c=6"
   ]
  },
  {
   "cell_type": "code",
   "execution_count": null,
   "metadata": {},
   "outputs": [],
   "source": [
    "if a>b:\n",
    "    print(\"I love myself\")"
   ]
  },
  {
   "cell_type": "code",
   "execution_count": null,
   "metadata": {},
   "outputs": [],
   "source": [
    "if a<b:\n",
    "    print(\"I love my family\")"
   ]
  },
  {
   "cell_type": "code",
   "execution_count": null,
   "metadata": {},
   "outputs": [],
   "source": [
    "if b<c:\n",
    "    print(\"加油\")"
   ]
  },
  {
   "cell_type": "code",
   "execution_count": null,
   "metadata": {},
   "outputs": [],
   "source": [
    "if b>c:\n",
    "    print(\"加油吧！\")"
   ]
  },
  {
   "cell_type": "code",
   "execution_count": null,
   "metadata": {},
   "outputs": [],
   "source": [
    "if a>b:\n",
    "    print(a)\n",
    "else:\n",
    "    print(b)"
   ]
  },
  {
   "cell_type": "code",
   "execution_count": null,
   "metadata": {},
   "outputs": [],
   "source": [
    "a=0\n",
    "b=0"
   ]
  },
  {
   "cell_type": "code",
   "execution_count": null,
   "metadata": {},
   "outputs": [],
   "source": [
    "if a>b:\n",
    "    print(0)"
   ]
  },
  {
   "cell_type": "code",
   "execution_count": null,
   "metadata": {},
   "outputs": [],
   "source": [
    "csv"
   ]
  },
  {
   "cell_type": "code",
   "execution_count": null,
   "metadata": {},
   "outputs": [],
   "source": [
    "csv.at[1,'name']"
   ]
  },
  {
   "cell_type": "code",
   "execution_count": null,
   "metadata": {},
   "outputs": [],
   "source": [
    "csv.iat[1,2]"
   ]
  },
  {
   "cell_type": "code",
   "execution_count": null,
   "metadata": {},
   "outputs": [],
   "source": [
    "csv[csv['votes']>=2000]"
   ]
  },
  {
   "cell_type": "code",
   "execution_count": null,
   "metadata": {},
   "outputs": [],
   "source": [
    "csv[csv['star']>=5]"
   ]
  },
  {
   "cell_type": "code",
   "execution_count": null,
   "metadata": {},
   "outputs": [],
   "source": [
    "csv.head(1)"
   ]
  },
  {
   "cell_type": "code",
   "execution_count": null,
   "metadata": {},
   "outputs": [],
   "source": [
    "csv.head(3)"
   ]
  },
  {
   "cell_type": "code",
   "execution_count": null,
   "metadata": {},
   "outputs": [],
   "source": []
  }
 ],
 "metadata": {
  "kernelspec": {
   "display_name": "Python 3",
   "language": "python",
   "name": "python3"
  },
  "language_info": {
   "codemirror_mode": {
    "name": "ipython",
    "version": 3
   },
   "file_extension": ".py",
   "mimetype": "text/x-python",
   "name": "python",
   "nbconvert_exporter": "python",
   "pygments_lexer": "ipython3",
   "version": "3.8.3"
  }
 },
 "nbformat": 4,
 "nbformat_minor": 4
}
