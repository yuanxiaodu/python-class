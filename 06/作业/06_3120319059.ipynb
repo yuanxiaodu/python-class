{
 "cells": [
  {
   "cell_type": "code",
   "execution_count": 1,
   "metadata": {},
   "outputs": [
    {
     "name": "stdout",
     "output_type": "stream",
     "text": [
      "He\n",
      "ll\n",
      "o \n",
      "Wo\n",
      "rl\n",
      "d\n"
     ]
    }
   ],
   "source": [
    "n=9\n",
    "if n==0:\n",
    "    print(\"Hello World\")\n",
    "elif n>0:\n",
    "    print(\"He\\nll\\no \\nWo\\nrl\\nd\")\n",
    "else:\n",
    "    for c in \"Hello World\":\n",
    "        print(c)"
   ]
  },
  {
   "cell_type": "code",
   "execution_count": 2,
   "metadata": {},
   "outputs": [
    {
     "name": "stdout",
     "output_type": "stream",
     "text": [
      "目标数：1024， 步进范围：4， 组合数：5, 是否第一个出：1, 出多少：4\n",
      "(1, 4, 5)\n"
     ]
    }
   ],
   "source": [
    "import random\n",
    "\n",
    "def myFunc(n, stepper):\n",
    "    \"\"\"\n",
    "    :参数 n: 目标数\n",
    "    :参数 stepper: 步进范围（可以走几步的最大值）\n",
    "    :返回值: （flag,first_num,total_stepper）\n",
    "            第一个出还是第二个出：flag=1,第一个出；flag = 0第二个出\n",
    "                如果第一个出：第一次出多少 first_num\n",
    "                如果第二个出：出的数总和为多少 total_stepper\n",
    "    \"\"\"\n",
    "    total_stepper = stepper + 1  # 组合数\n",
    "    if n % total_stepper == 0:  #能整除的情况\n",
    "        print(\"目标数：{}，步进范围：{}，组合数：{}\".format(n, stepper, total_stepper))\n",
    "        flag = 0   # 对方先出\n",
    "        return (flag, 0, total_stepper)\n",
    "    else:\n",
    "        v_num = n - stepper - 1  # 拿到v_num就一定能数到目标数\n",
    "        if v_num % total_stepper == 0:   # v_num能被组合数整除的情况\n",
    "            flag = 0    # 对方先出\n",
    "            print(\"目标数：{}， 步进范围：{}， 组合数：{}, 是否第一个出：{}\".format(n, stepper, total_stepper, flag))\n",
    "            return (flag, 0, total_stepper)\n",
    "        else:\n",
    "            flag = 1   # 我方先出\n",
    "            first_num = v_num % total_stepper    # 我第一次数的数，这个数将v_num钝化为可以被组合数整除的数\n",
    "            print(\"目标数：{}， 步进范围：{}， 组合数：{}, 是否第一个出：{}, 出多少：{}\".format(n, stepper, total_stepper, flag, first_num))\n",
    "            return (flag, first_num, total_stepper)\n",
    "\n",
    "print(myFunc(1024,4))"
   ]
  },
  {
   "cell_type": "code",
   "execution_count": 3,
   "metadata": {},
   "outputs": [
    {
     "name": "stdout",
     "output_type": "stream",
     "text": [
      "[2, 3, 5, 7, 11, 13, 17, 19, 23, 29, 31, 37, 41, 43, 47, 53, 59, 61, 67, 71, 73, 79, 83, 89, 97]\n"
     ]
    }
   ],
   "source": [
    "num=[];\n",
    "i=2\n",
    "for i in range(2,100):\n",
    "    j=2\n",
    "    for j in range(2,i):\n",
    "          if(i%j==0):\n",
    "            break\n",
    "    else:\n",
    "        num.append(i)\n",
    "print(num)"
   ]
  },
  {
   "cell_type": "code",
   "execution_count": 4,
   "metadata": {},
   "outputs": [
    {
     "name": "stdout",
     "output_type": "stream",
     "text": [
      "[2, 3, 5, 7, 11, 13, 17, 19, 23, 29, 31, 37, 41, 43, 47, 53, 59, 61, 67, 71, 73, 79, 83, 89, 97]\n"
     ]
    }
   ],
   "source": [
    "import math\n",
    "def func_get_prime(n):\n",
    "    return filter(lambda x: not [x%i for i in range(2, int(math.sqrt(x))+1) if x%i ==0], range(2,n+1))\n",
    "print (list(func_get_prime(100)))"
   ]
  },
  {
   "cell_type": "code",
   "execution_count": 5,
   "metadata": {},
   "outputs": [
    {
     "name": "stdout",
     "output_type": "stream",
     "text": [
      "组合生成的最大数1050\n",
      "组合不能生成的数字[1, 2, 3, 4, 5, 9, 10, 11, 17]\n",
      "不能生成的最大数字为17\n"
     ]
    }
   ],
   "source": [
    "a = 6\n",
    "b = 7\n",
    "c = 8\n",
    "t = 50     # 票的张数\n",
    "s = []     # 排列组合全部放到这里\n",
    "# 生成的组合\n",
    "for i in range(t+1):\n",
    "    s1 = a*i\n",
    "    s.append(s1)\n",
    "    for j in range(t+1):\n",
    "        s2 = a*i+b*j\n",
    "        s.append(s2)\n",
    "        for k in range(t+1):\n",
    "            s3 = a*i + b*j + c*k\n",
    "            s.append(s3)\n",
    "\n",
    "\n",
    "# 排序\n",
    "s.sort()\n",
    "# 去掉重复\n",
    "news = []\n",
    "for i in s:\n",
    "    if i not in news:\n",
    "        news.append(i)\n",
    "print(\"组合生成的最大数%s\"%news[-1])\n",
    "\n",
    "# 提取不在列表列表中的数字\n",
    "r = []\n",
    "for i in range(6*t):\n",
    "    if i in news:\n",
    "        pass\n",
    "    else:\n",
    "        r.append(i)\n",
    "print(\"组合不能生成的数字%s\"%r)\n",
    "print(\"不能生成的最大数字为%s\"%r[-1])"
   ]
  },
  {
   "cell_type": "code",
   "execution_count": 6,
   "metadata": {},
   "outputs": [
    {
     "name": "stdout",
     "output_type": "stream",
     "text": [
      "21\n"
     ]
    }
   ],
   "source": [
    "num_1 = 100\n",
    "num_2 = 168\n",
    "num_find = []\n",
    "for i in range(100):\n",
    "    for j in range(100):\n",
    "        if (i+100) == j*j :\n",
    "            num_find.append(i)\n",
    "            \n",
    "for num in num_find:           \n",
    "    for k in range(10000):\n",
    "        if (num+100+168) == k*k:\n",
    "            print(num)"
   ]
  },
  {
   "cell_type": "code",
   "execution_count": 7,
   "metadata": {},
   "outputs": [
    {
     "name": "stdout",
     "output_type": "stream",
     "text": [
      "转换后的温度为: 89.60F\n"
     ]
    }
   ],
   "source": [
    "val ='32c'\n",
    "if val[-1] in ['C','c']:\n",
    "    f = 1.8 * float(val[0:-1]) + 32\n",
    "    print(\"转换后的温度为: %.2fF\"%f)\n",
    "elif val[-1] in ['F','f']:\n",
    "    c = (float(val[0:-1]) - 32) / 1.8\n",
    "    print(\"转换后的温度为: %.2fC\"%c)\n",
    "else:\n",
    "    print(\"输入有误\")"
   ]
  },
  {
   "cell_type": "code",
   "execution_count": 8,
   "metadata": {},
   "outputs": [
    {
     "name": "stdout",
     "output_type": "stream",
     "text": [
      "乙说谎，abc =  168\n"
     ]
    }
   ],
   "source": [
    "for a in range(1,5):\n",
    "    for b in range(0,9):\n",
    "        for c in range(0,9):\n",
    " \n",
    "            abc = a*100 + b*10 + c\n",
    "            t1 = abc % 8 == 0 #甲说abc可以被2整除3次\n",
    "            t2 = abc % 9 == 0 #乙说abc可以被3整除2次\n",
    "            t3 = abc % 7 == 0 #丙说abc可以被7整除\n",
    "            t4 = a + b + c == 15 #丁说abc之和是15\n",
    " \n",
    "            if t1 is True and t2 is True and t3 is True:\n",
    "                print (\"丁说谎，abc = \", abc)\n",
    "            elif t1 is True and t2 is True and t4 is True:\n",
    "                print (\"丙说谎，abc = \", abc)\n",
    "            elif t1 is True and t3 is True and t4 is True:\n",
    "                print (\"乙说谎，abc = \", abc)\n",
    "            elif t2 is True and t3 is True and t4 is True:\n",
    "                print (\"甲说谎，abc = \", abc)"
   ]
  },
  {
   "cell_type": "code",
   "execution_count": 9,
   "metadata": {},
   "outputs": [
    {
     "name": "stdout",
     "output_type": "stream",
     "text": [
      "洪七公\n"
     ]
    }
   ],
   "source": [
    "s = '双儿 洪七公 赵敏 赵敏 逍遥子 鳌拜 殷天正 金轮法王 乔峰 杨过 洪七公 郭靖 杨逍 鳌拜 殷天正 段誉 杨逍 慕容复 阿紫 慕容复 郭芙 乔峰 令狐冲 郭芙 金轮法王 小龙女 杨过 慕容复 梅超风 李莫愁 洪七公 张无忌 梅超风 杨逍'\n",
    "ls=s.split()\n",
    "d={}\n",
    "for i in ls:\n",
    "     d[i]=d.get(i,0)+1\n",
    "max_name,max_cnt=\"\",0\n",
    "for k in d:\n",
    "      if d[k]>max_cnt:\n",
    "        max_name,max_cnt=k,d[k]\n",
    "print(max_name)"
   ]
  },
  {
   "cell_type": "code",
   "execution_count": 10,
   "metadata": {},
   "outputs": [
    {
     "name": "stdout",
     "output_type": "stream",
     "text": [
      "甲跑了6圈,乙跑了9圈,丙跑了4圈\n"
     ]
    }
   ],
   "source": [
    "counter = 0    # 定义一个计数器，用来判断甲乙丙是否相遇\n",
    "for i in range(1,100):\n",
    "    playerA = i*400\n",
    "    playerB = i*600\n",
    "    playerC = i*400*2//3\n",
    "    if playerA % 400 == 0 and playerB % 400 == 0 and playerC % 400 == 0:\n",
    "        num1 = playerA//400\n",
    "        num2 = playerB//400\n",
    "        num3 = playerC//400\n",
    "        counter += 1\n",
    "        break\n",
    "if counter != 0:\n",
    "    print(\"甲跑了%d圈,乙跑了%d圈,丙跑了%d圈\" %(num1,num2,num3))\n",
    "    "
   ]
  },
  {
   "cell_type": "code",
   "execution_count": 11,
   "metadata": {},
   "outputs": [
    {
     "name": "stdout",
     "output_type": "stream",
     "text": [
      "-(a+1)/a\n",
      "遍历了2018次\n"
     ]
    }
   ],
   "source": [
    "# 规律题\n",
    "# 第一步：将前六项依次存入my_list列表\n",
    "my_list = ['1/a', '-(a+1)/a', '-a/(a+1)', '-1/(a+1)', '-a-1', 'a']\n",
    "# 根据目标项数定位到my_list中的对应项\n",
    "cnt = 0\n",
    "flag = 0\n",
    "while True:\n",
    "    for k in my_list:\n",
    "        cnt += 1\n",
    "        if cnt == 2018:\n",
    "            flag = 1\n",
    "            print(k)\n",
    "            print('遍历了{}次'.format(cnt))\n",
    "            break\n",
    "    if flag == 1:\n",
    "        break\n"
   ]
  },
  {
   "cell_type": "code",
   "execution_count": 12,
   "metadata": {},
   "outputs": [
    {
     "name": "stdout",
     "output_type": "stream",
     "text": [
      "78 18 4\n",
      "81 11 8\n",
      "84 4 12\n"
     ]
    }
   ],
   "source": [
    "# 定义小鸡初始数量\n",
    "xj = 3\n",
    "\n",
    "while xj <= 300: # 只买小鸡最多可以买300\n",
    "    # 定义公鸡初始数量\n",
    "    gj = 1\n",
    "\n",
    "    while gj <= 33:  # 公鸡最多可以买33只\n",
    "        # 定义母鸡数量\n",
    "        mj = 1\n",
    "        while mj <= 20:  # 母鸡最多可以买20只\n",
    "            # 判断如果小鸡公鸡母鸡的数量为100 并且花了100元时打印\n",
    "            if xj + gj + mj == 100 and (xj/3 + (gj*3)+(mj*5) == 100):\n",
    "                print(\"%d %d %d\" %(xj, gj, mj))\n",
    "            mj += 1\n",
    "        gj += 1\n",
    "    xj += 3"
   ]
  },
  {
   "cell_type": "code",
   "execution_count": 13,
   "metadata": {},
   "outputs": [
    {
     "name": "stdout",
     "output_type": "stream",
     "text": [
      "1534\n",
      "1534\n"
     ]
    }
   ],
   "source": [
    "a=1\n",
    "def monkey_tao(a):\n",
    "    for i in range(1,10):\n",
    "        a=(a+1)*2\n",
    "    print(a)\n",
    "monkey_tao(a)\n",
    "a = [1]\n",
    "def num2(b):\n",
    "    if len(a) == 10:\n",
    "        return b\n",
    "    b = (b + 1) * 2\n",
    "    a.append(1)\n",
    "    return num2(b)\n",
    "print(num2(1))"
   ]
  },
  {
   "cell_type": "code",
   "execution_count": 14,
   "metadata": {},
   "outputs": [],
   "source": [
    "def method_1():\n",
    "    import time\n",
    "    age = range(1, 100)    \n",
    "    start = time.time()\n",
    "    for ming in age:\n",
    "        for grand in age:\n",
    "            for x in age:\n",
    "                for y in age:\n",
    "                    if ming * 6 == grand and (ming+x) * 5 == (grand+x) and (ming+y) * 4 == (grand+y):\n",
    "                        t = time.time() - start\n",
    "                        print(t)\n",
    "                        return ming, grand, x, y-x"
   ]
  },
  {
   "cell_type": "code",
   "execution_count": 15,
   "metadata": {},
   "outputs": [],
   "source": [
    "def method_2():\n",
    "    import time\n",
    "    age_list_1, age_list_2, age_list_3 = [], [], []\n",
    "    age = range(1, 1000)\n",
    "    start = time.time()\n",
    "    for ming in age:\n",
    "        for grand in age:\n",
    "            if ming*6 == grand:\n",
    "                age_list_1.append([ming, grand])\n",
    "    for i in range(len(age_list_1)):\n",
    "        for x in age:\n",
    "            if (age_list_1[i][0] + x) * 5 == (age_list_1[i][1] + x):\n",
    "                age_list_2.append([age_list_1[i][0], age_list_1[i][1]])\n",
    "    for j in range(len(age_list_2)):\n",
    "        for y in age:\n",
    "            if (age_list_2[j][0] + y) * 4 == (age_list_2[j][1] + y):\n",
    "                age_list_3.append([age_list_2[j][0], age_list_2[j][1]])\n",
    "    t = time.time() - start\n",
    "    print(t)\n",
    "    return age_list_3"
   ]
  },
  {
   "cell_type": "code",
   "execution_count": 16,
   "metadata": {},
   "outputs": [
    {
     "name": "stdout",
     "output_type": "stream",
     "text": [
      "1 1 1 1\n",
      "1 1 1 2\n",
      "1 1 1 3\n",
      "1 1 1 4\n",
      "1 1 1 5\n",
      "1 1 1 6\n",
      "1 1 1 7\n",
      "1 1 1 8\n",
      "1 1 1 9\n",
      "1 1 2 2\n",
      "1 1 2 4\n",
      "1 1 2 6\n",
      "1 1 2 8\n",
      "1 1 3 3\n",
      "1 1 3 6\n",
      "1 1 3 9\n",
      "1 1 4 4\n",
      "1 1 4 8\n",
      "1 1 5 5\n",
      "1 1 6 6\n",
      "1 1 7 7\n",
      "1 1 8 8\n",
      "1 1 9 9\n",
      "1 2 1 2\n",
      "1 2 1 4\n",
      "1 2 1 6\n",
      "1 2 1 8\n",
      "1 2 2 4\n",
      "1 2 2 8\n",
      "1 2 3 6\n",
      "1 2 4 8\n",
      "1 3 1 3\n",
      "1 3 1 6\n",
      "1 3 1 9\n",
      "1 3 2 6\n",
      "1 3 3 9\n",
      "1 4 1 4\n",
      "1 4 1 8\n",
      "1 4 2 8\n",
      "1 5 1 5\n",
      "1 6 1 6\n",
      "1 7 1 7\n",
      "1 8 1 8\n",
      "1 9 1 9\n",
      "2 1 1 2\n",
      "2 1 1 4\n",
      "2 1 1 6\n",
      "2 1 1 8\n",
      "2 1 2 4\n",
      "2 1 2 8\n",
      "2 1 3 6\n",
      "2 1 4 8\n",
      "2 2 1 4\n",
      "2 2 1 8\n",
      "2 2 2 8\n",
      "2 3 1 6\n",
      "2 4 1 8\n",
      "3 1 1 3\n",
      "3 1 1 6\n",
      "3 1 1 9\n",
      "3 1 2 6\n",
      "3 1 3 9\n",
      "3 2 1 6\n",
      "3 3 1 9\n",
      "4 1 1 4\n",
      "4 1 1 8\n",
      "4 1 2 8\n",
      "4 2 1 8\n",
      "5 1 1 5\n",
      "6 1 1 6\n",
      "7 1 1 7\n",
      "8 1 1 8\n",
      "9 1 1 9\n",
      "运行结束，满足条件的数字共有73个。\n"
     ]
    }
   ],
   "source": [
    "num=0\n",
    "for a in range(1,10):\n",
    "    for b in range(1,10):\n",
    "        for c in range(1,10):\n",
    "            for d in range(1,10):\n",
    "                if (d)%(a*b*c)==0:\n",
    "                    print(a,b,c,d)\n",
    "                    num+=1\n",
    "print(\"运行结束，满足条件的数字共有{}个。\".format(num))"
   ]
  },
  {
   "cell_type": "code",
   "execution_count": 17,
   "metadata": {},
   "outputs": [],
   "source": [
    "for i in range(3, 100):\n",
    "    if i%2 == 0:\n",
    "        continue\n",
    "        j=63*i\n",
    "if (j-1)%40==0:\n",
    "    print (i)\n",
    "    print ('got it')\n",
    "    print (j)\n",
    "    for m in range(1,10):\n",
    "        print ('=',j/m, '*',m,'+',j%m)\n",
    "        break"
   ]
  },
  {
   "cell_type": "code",
   "execution_count": 18,
   "metadata": {},
   "outputs": [
    {
     "name": "stdout",
     "output_type": "stream",
     "text": [
      "dict['Name']:  Runoob\n",
      "dict['Age']:  7\n"
     ]
    }
   ],
   "source": [
    "dict = {'name': 'runoob', 'likes': 123, 'url': 'www.runoob.com'}\n",
    "dict1 = { 'abc': 456 }\n",
    "dict2 = { 'abc': 123, 98.6: 37 }\n",
    "dict = {'Name': 'Runoob', 'Age': 7, 'Class': 'First'}\n",
    "print (\"dict['Name']: \", dict['Name'])\n",
    "print (\"dict['Age']: \", dict['Age'])\n",
    "dict = {'Name': 'Runoob', 'Age': 7, 'Class': 'First'}\n",
    "dict['Age'] = 8               # 更新 Age\n",
    "dict['School'] = \"菜鸟教程\"  # 添加信息"
   ]
  },
  {
   "cell_type": "code",
   "execution_count": 19,
   "metadata": {},
   "outputs": [
    {
     "name": "stdout",
     "output_type": "stream",
     "text": [
      "dict['Age']:  8\n",
      "dict['School']:  菜鸟教程\n"
     ]
    }
   ],
   "source": [
    "print (\"dict['Age']: \", dict['Age'])\n",
    "print (\"dict['School']: \", dict['School'])\n",
    "dict = {'Name': 'Runoob', 'Age': 7, 'Class': 'First'} \n",
    "del dict['Name'] # 删除键 'Name'\n",
    "dict.clear()     # 清空字典\n",
    "del dict         # 删除字典"
   ]
  },
  {
   "cell_type": "code",
   "execution_count": 20,
   "metadata": {},
   "outputs": [
    {
     "name": "stdout",
     "output_type": "stream",
     "text": [
      "1 - if 表达式条件为 true\n",
      "100\n",
      "Good bye!\n"
     ]
    }
   ],
   "source": [
    "var1 = 100\n",
    "if var1:\n",
    "    print (\"1 - if 表达式条件为 true\")\n",
    "    print (var1)\n",
    "var2 = 0\n",
    "if var2:\n",
    "    print (\"2 - if 表达式条件为 true\")\n",
    "    print (var2)\n",
    "print (\"Good bye!\")"
   ]
  },
  {
   "cell_type": "code",
   "execution_count": null,
   "metadata": {},
   "outputs": [],
   "source": []
  }
 ],
 "metadata": {
  "kernelspec": {
   "display_name": "Python 3",
   "language": "python",
   "name": "python3"
  },
  "language_info": {
   "codemirror_mode": {
    "name": "ipython",
    "version": 3
   },
   "file_extension": ".py",
   "mimetype": "text/x-python",
   "name": "python",
   "nbconvert_exporter": "python",
   "pygments_lexer": "ipython3",
   "version": "3.8.3"
  }
 },
 "nbformat": 4,
 "nbformat_minor": 4
}
