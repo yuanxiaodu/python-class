{
 "cells": [
  {
   "cell_type": "code",
   "execution_count": 1,
   "metadata": {},
   "outputs": [
    {
     "name": "stdin",
     "output_type": "stream",
     "text": [
      "请输入一个数字：  11\n"
     ]
    },
    {
     "name": "stdout",
     "output_type": "stream",
     "text": [
      " 11.000 的平方根为 3.317\n"
     ]
    }
   ],
   "source": [
    "num = float(input('请输入一个数字： '))\n",
    "num_sqrt = num ** 0.5\n",
    "print(' %0.3f 的平方根为 %0.3f'%(num ,num_sqrt))"
   ]
  },
  {
   "cell_type": "code",
   "execution_count": 2,
   "metadata": {},
   "outputs": [
    {
     "name": "stdin",
     "output_type": "stream",
     "text": [
      "请输入一个数字:  -11\n"
     ]
    },
    {
     "name": "stdout",
     "output_type": "stream",
     "text": [
      "-11 的平方根为 0.000+3.317j\n"
     ]
    }
   ],
   "source": [
    "import cmath\n",
    " \n",
    "num = int(input(\"请输入一个数字: \"))\n",
    "num_sqrt = cmath.sqrt(num)\n",
    "print('{0} 的平方根为 {1:0.3f}+{2:0.3f}j'.format(num ,num_sqrt.real,num_sqrt.imag))"
   ]
  },
  {
   "cell_type": "code",
   "execution_count": 3,
   "metadata": {},
   "outputs": [
    {
     "name": "stdout",
     "output_type": "stream",
     "text": [
      "函数内是局部变量 :  30\n",
      "函数外是全局变量 :  30\n"
     ]
    }
   ],
   "source": [
    "total = 30 \n",
    "def sum( arg1, arg2 ):\n",
    "    total = arg1 + arg2 \n",
    "    print (\"函数内是局部变量 : \", total)\n",
    "    return total\n",
    " \n",
    "sum( 10, 20 )\n",
    "print (\"函数外是全局变量 : \", total)"
   ]
  },
  {
   "cell_type": "code",
   "execution_count": 4,
   "metadata": {},
   "outputs": [
    {
     "name": "stdout",
     "output_type": "stream",
     "text": [
      "3\n",
      "2333\n",
      "2333\n"
     ]
    }
   ],
   "source": [
    "num = 3\n",
    "def fun1():\n",
    "    global num \n",
    "    print(num) \n",
    "    num = 2333\n",
    "    print(num)\n",
    "fun1()\n",
    "print(num)"
   ]
  },
  {
   "cell_type": "code",
   "execution_count": 5,
   "metadata": {},
   "outputs": [
    {
     "name": "stdout",
     "output_type": "stream",
     "text": [
      "1004\n",
      "1004\n"
     ]
    }
   ],
   "source": [
    "def outer():\n",
    "    num = 103\n",
    "    def inner():\n",
    "        nonlocal num   \n",
    "        num = 1004\n",
    "        print(num)\n",
    "    inner()\n",
    "    print(num)\n",
    "outer()"
   ]
  },
  {
   "cell_type": "code",
   "execution_count": 6,
   "metadata": {},
   "outputs": [
    {
     "ename": "UnboundLocalError",
     "evalue": "local variable 'a' referenced before assignment",
     "output_type": "error",
     "traceback": [
      "\u001b[1;31m---------------------------------------------------------------------------\u001b[0m",
      "\u001b[1;31mUnboundLocalError\u001b[0m                         Traceback (most recent call last)",
      "\u001b[1;32m<ipython-input-6-4212688e84b0>\u001b[0m in \u001b[0;36m<module>\u001b[1;34m\u001b[0m\n\u001b[0;32m      3\u001b[0m     \u001b[0ma\u001b[0m \u001b[1;33m=\u001b[0m \u001b[0ma\u001b[0m \u001b[1;33m+\u001b[0m \u001b[1;36m1\u001b[0m\u001b[1;33m\u001b[0m\u001b[1;33m\u001b[0m\u001b[0m\n\u001b[0;32m      4\u001b[0m     \u001b[0mprint\u001b[0m\u001b[1;33m(\u001b[0m\u001b[0ma\u001b[0m\u001b[1;33m)\u001b[0m\u001b[1;33m\u001b[0m\u001b[1;33m\u001b[0m\u001b[0m\n\u001b[1;32m----> 5\u001b[1;33m \u001b[0mtest\u001b[0m\u001b[1;33m(\u001b[0m\u001b[1;33m)\u001b[0m\u001b[1;33m\u001b[0m\u001b[1;33m\u001b[0m\u001b[0m\n\u001b[0m",
      "\u001b[1;32m<ipython-input-6-4212688e84b0>\u001b[0m in \u001b[0;36mtest\u001b[1;34m()\u001b[0m\n\u001b[0;32m      1\u001b[0m \u001b[0ma\u001b[0m \u001b[1;33m=\u001b[0m \u001b[1;36m10\u001b[0m\u001b[1;33m\u001b[0m\u001b[1;33m\u001b[0m\u001b[0m\n\u001b[0;32m      2\u001b[0m \u001b[1;32mdef\u001b[0m \u001b[0mtest\u001b[0m\u001b[1;33m(\u001b[0m\u001b[1;33m)\u001b[0m\u001b[1;33m:\u001b[0m\u001b[1;33m\u001b[0m\u001b[1;33m\u001b[0m\u001b[0m\n\u001b[1;32m----> 3\u001b[1;33m     \u001b[0ma\u001b[0m \u001b[1;33m=\u001b[0m \u001b[0ma\u001b[0m \u001b[1;33m+\u001b[0m \u001b[1;36m1\u001b[0m\u001b[1;33m\u001b[0m\u001b[1;33m\u001b[0m\u001b[0m\n\u001b[0m\u001b[0;32m      4\u001b[0m     \u001b[0mprint\u001b[0m\u001b[1;33m(\u001b[0m\u001b[0ma\u001b[0m\u001b[1;33m)\u001b[0m\u001b[1;33m\u001b[0m\u001b[1;33m\u001b[0m\u001b[0m\n\u001b[0;32m      5\u001b[0m \u001b[0mtest\u001b[0m\u001b[1;33m(\u001b[0m\u001b[1;33m)\u001b[0m\u001b[1;33m\u001b[0m\u001b[1;33m\u001b[0m\u001b[0m\n",
      "\u001b[1;31mUnboundLocalError\u001b[0m: local variable 'a' referenced before assignment"
     ]
    }
   ],
   "source": [
    "a = 10\n",
    "def test():\n",
    "    a = a + 1\n",
    "    print(a)\n",
    "test()"
   ]
  },
  {
   "cell_type": "code",
   "execution_count": 7,
   "metadata": {},
   "outputs": [
    {
     "name": "stdout",
     "output_type": "stream",
     "text": [
      "11\n"
     ]
    }
   ],
   "source": [
    "a = 10\n",
    "def test():\n",
    "    global a\n",
    "    a = a + 1\n",
    "    print(a)\n",
    "test()"
   ]
  },
  {
   "cell_type": "code",
   "execution_count": 8,
   "metadata": {},
   "outputs": [
    {
     "name": "stdout",
     "output_type": "stream",
     "text": [
      "11\n"
     ]
    }
   ],
   "source": [
    "a = 10\n",
    "def test(a):\n",
    "    a = a + 1\n",
    "    print(a)\n",
    "test(a)"
   ]
  },
  {
   "cell_type": "code",
   "execution_count": 9,
   "metadata": {},
   "outputs": [
    {
     "data": {
      "text/plain": [
       "'C:\\\\Users\\\\lenovo\\\\douban\\\\douban'"
      ]
     },
     "execution_count": 9,
     "metadata": {},
     "output_type": "execute_result"
    }
   ],
   "source": [
    "import os\n",
    "os.getcwd()"
   ]
  },
  {
   "cell_type": "code",
   "execution_count": 10,
   "metadata": {},
   "outputs": [
    {
     "ename": "FileNotFoundError",
     "evalue": "[WinError 3] 系统找不到指定的路径。: '/server/accesslogs'",
     "output_type": "error",
     "traceback": [
      "\u001b[1;31m---------------------------------------------------------------------------\u001b[0m",
      "\u001b[1;31mFileNotFoundError\u001b[0m                         Traceback (most recent call last)",
      "\u001b[1;32m<ipython-input-10-0118c979e3ff>\u001b[0m in \u001b[0;36m<module>\u001b[1;34m\u001b[0m\n\u001b[1;32m----> 1\u001b[1;33m \u001b[0mos\u001b[0m\u001b[1;33m.\u001b[0m\u001b[0mchdir\u001b[0m\u001b[1;33m(\u001b[0m\u001b[1;34m'/server/accesslogs'\u001b[0m\u001b[1;33m)\u001b[0m\u001b[1;33m\u001b[0m\u001b[1;33m\u001b[0m\u001b[0m\n\u001b[0m\u001b[0;32m      2\u001b[0m \u001b[0mos\u001b[0m\u001b[1;33m.\u001b[0m\u001b[0msystem\u001b[0m\u001b[1;33m(\u001b[0m\u001b[1;34m'mkdir today'\u001b[0m\u001b[1;33m)\u001b[0m\u001b[1;33m\u001b[0m\u001b[1;33m\u001b[0m\u001b[0m\n",
      "\u001b[1;31mFileNotFoundError\u001b[0m: [WinError 3] 系统找不到指定的路径。: '/server/accesslogs'"
     ]
    }
   ],
   "source": [
    "os.chdir('/server/accesslogs')  \n",
    "os.system('mkdir today') "
   ]
  },
  {
   "cell_type": "code",
   "execution_count": 11,
   "metadata": {},
   "outputs": [
    {
     "data": {
      "text/plain": [
       "['DirEntry',\n",
       " 'F_OK',\n",
       " 'MutableMapping',\n",
       " 'O_APPEND',\n",
       " 'O_BINARY',\n",
       " 'O_CREAT',\n",
       " 'O_EXCL',\n",
       " 'O_NOINHERIT',\n",
       " 'O_RANDOM',\n",
       " 'O_RDONLY',\n",
       " 'O_RDWR',\n",
       " 'O_SEQUENTIAL',\n",
       " 'O_SHORT_LIVED',\n",
       " 'O_TEMPORARY',\n",
       " 'O_TEXT',\n",
       " 'O_TRUNC',\n",
       " 'O_WRONLY',\n",
       " 'P_DETACH',\n",
       " 'P_NOWAIT',\n",
       " 'P_NOWAITO',\n",
       " 'P_OVERLAY',\n",
       " 'P_WAIT',\n",
       " 'PathLike',\n",
       " 'R_OK',\n",
       " 'SEEK_CUR',\n",
       " 'SEEK_END',\n",
       " 'SEEK_SET',\n",
       " 'TMP_MAX',\n",
       " 'W_OK',\n",
       " 'X_OK',\n",
       " '_AddedDllDirectory',\n",
       " '_Environ',\n",
       " '__all__',\n",
       " '__builtins__',\n",
       " '__cached__',\n",
       " '__doc__',\n",
       " '__file__',\n",
       " '__loader__',\n",
       " '__name__',\n",
       " '__package__',\n",
       " '__spec__',\n",
       " '_check_methods',\n",
       " '_execvpe',\n",
       " '_exists',\n",
       " '_exit',\n",
       " '_fspath',\n",
       " '_get_exports_list',\n",
       " '_putenv',\n",
       " '_unsetenv',\n",
       " '_wrap_close',\n",
       " 'abc',\n",
       " 'abort',\n",
       " 'access',\n",
       " 'add_dll_directory',\n",
       " 'altsep',\n",
       " 'chdir',\n",
       " 'chmod',\n",
       " 'close',\n",
       " 'closerange',\n",
       " 'cpu_count',\n",
       " 'curdir',\n",
       " 'defpath',\n",
       " 'device_encoding',\n",
       " 'devnull',\n",
       " 'dup',\n",
       " 'dup2',\n",
       " 'environ',\n",
       " 'error',\n",
       " 'execl',\n",
       " 'execle',\n",
       " 'execlp',\n",
       " 'execlpe',\n",
       " 'execv',\n",
       " 'execve',\n",
       " 'execvp',\n",
       " 'execvpe',\n",
       " 'extsep',\n",
       " 'fdopen',\n",
       " 'fsdecode',\n",
       " 'fsencode',\n",
       " 'fspath',\n",
       " 'fstat',\n",
       " 'fsync',\n",
       " 'ftruncate',\n",
       " 'get_exec_path',\n",
       " 'get_handle_inheritable',\n",
       " 'get_inheritable',\n",
       " 'get_terminal_size',\n",
       " 'getcwd',\n",
       " 'getcwdb',\n",
       " 'getenv',\n",
       " 'getlogin',\n",
       " 'getpid',\n",
       " 'getppid',\n",
       " 'isatty',\n",
       " 'kill',\n",
       " 'linesep',\n",
       " 'link',\n",
       " 'listdir',\n",
       " 'lseek',\n",
       " 'lstat',\n",
       " 'makedirs',\n",
       " 'mkdir',\n",
       " 'name',\n",
       " 'open',\n",
       " 'pardir',\n",
       " 'path',\n",
       " 'pathsep',\n",
       " 'pipe',\n",
       " 'popen',\n",
       " 'putenv',\n",
       " 'read',\n",
       " 'readlink',\n",
       " 'remove',\n",
       " 'removedirs',\n",
       " 'rename',\n",
       " 'renames',\n",
       " 'replace',\n",
       " 'rmdir',\n",
       " 'scandir',\n",
       " 'sep',\n",
       " 'set_handle_inheritable',\n",
       " 'set_inheritable',\n",
       " 'spawnl',\n",
       " 'spawnle',\n",
       " 'spawnv',\n",
       " 'spawnve',\n",
       " 'st',\n",
       " 'startfile',\n",
       " 'stat',\n",
       " 'stat_result',\n",
       " 'statvfs_result',\n",
       " 'strerror',\n",
       " 'supports_bytes_environ',\n",
       " 'supports_dir_fd',\n",
       " 'supports_effective_ids',\n",
       " 'supports_fd',\n",
       " 'supports_follow_symlinks',\n",
       " 'symlink',\n",
       " 'sys',\n",
       " 'system',\n",
       " 'terminal_size',\n",
       " 'times',\n",
       " 'times_result',\n",
       " 'truncate',\n",
       " 'umask',\n",
       " 'uname_result',\n",
       " 'unlink',\n",
       " 'urandom',\n",
       " 'utime',\n",
       " 'waitpid',\n",
       " 'walk',\n",
       " 'write']"
      ]
     },
     "execution_count": 11,
     "metadata": {},
     "output_type": "execute_result"
    }
   ],
   "source": [
    "import os\n",
    "dir(os)"
   ]
  },
  {
   "cell_type": "code",
   "execution_count": 12,
   "metadata": {},
   "outputs": [
    {
     "name": "stdout",
     "output_type": "stream",
     "text": [
      "Python 原始数据： {'no': 1, 'name': 'Runoob', 'url': 'http://www.runoob.com'}\n",
      "JSON 对象： {\"no\": 1, \"name\": \"Runoob\", \"url\": \"http://www.runoob.com\"}\n"
     ]
    }
   ],
   "source": [
    "import json\n",
    " \n",
    "\n",
    "data = {\n",
    "    'no' : 1,\n",
    "    'name' : 'Runoob',\n",
    "    'url' : 'http://www.runoob.com'\n",
    "}\n",
    " \n",
    "json_str = json.dumps(data)\n",
    "print (\"Python 原始数据：\", repr(data))\n",
    "print (\"JSON 对象：\", json_str)"
   ]
  },
  {
   "cell_type": "code",
   "execution_count": 13,
   "metadata": {},
   "outputs": [
    {
     "name": "stdout",
     "output_type": "stream",
     "text": [
      "Python 原始数据： {'no': 1, 'name': 'Runoob', 'url': 'http://www.runoob.com'}\n",
      "JSON 对象： {\"no\": 1, \"name\": \"Runoob\", \"url\": \"http://www.runoob.com\"}\n",
      "data2['name']:  Runoob\n",
      "data2['url']:  http://www.runoob.com\n"
     ]
    }
   ],
   "source": [
    "import json\n",
    " \n",
    "data1 = {\n",
    "    'no' : 1,\n",
    "    'name' : 'Runoob',\n",
    "    'url' : 'http://www.runoob.com'\n",
    "}\n",
    " \n",
    "json_str = json.dumps(data1)\n",
    "print (\"Python 原始数据：\", repr(data1))\n",
    "print (\"JSON 对象：\", json_str)\n",
    " \n",
    "data2 = json.loads(json_str)\n",
    "print (\"data2['name']: \", data2['name'])\n",
    "print (\"data2['url']: \", data2['url'])"
   ]
  },
  {
   "cell_type": "code",
   "execution_count": 14,
   "metadata": {},
   "outputs": [],
   "source": [
    "with open('data.json', 'w') as f:\n",
    "    json.dump(data, f)\n",
    "with open('data.json', 'r') as f:\n",
    "    data = json.load(f)"
   ]
  },
  {
   "cell_type": "code",
   "execution_count": 15,
   "metadata": {},
   "outputs": [
    {
     "name": "stdout",
     "output_type": "stream",
     "text": [
      "abs(-40) :  40\n",
      "abs(100.10) :  100.1\n"
     ]
    }
   ],
   "source": [
    "print (\"abs(-40) : \", abs(-40))\n",
    "print (\"abs(100.10) : \", abs(100.10))"
   ]
  },
  {
   "cell_type": "code",
   "execution_count": 18,
   "metadata": {},
   "outputs": [
    {
     "name": "stdout",
     "output_type": "stream",
     "text": [
      "Help on built-in module sys:\n",
      "\n",
      "NAME\n",
      "    sys\n",
      "\n",
      "MODULE REFERENCE\n",
      "    https://docs.python.org/3.8/library/sys\n",
      "    \n",
      "    The following documentation is automatically generated from the Python\n",
      "    source files.  It may be incomplete, incorrect or include features that\n",
      "    are considered implementation detail and may vary between Python\n",
      "    implementations.  When in doubt, consult the module reference at the\n",
      "    location listed above.\n",
      "\n",
      "DESCRIPTION\n",
      "    This module provides access to some objects used or maintained by the\n",
      "    interpreter and to functions that interact strongly with the interpreter.\n",
      "    \n",
      "    Dynamic objects:\n",
      "    \n",
      "    argv -- command line arguments; argv[0] is the script pathname if known\n",
      "    path -- module search path; path[0] is the script directory, else ''\n",
      "    modules -- dictionary of loaded modules\n",
      "    \n",
      "    displayhook -- called to show results in an interactive session\n",
      "    excepthook -- called to handle any uncaught exception other than SystemExit\n",
      "      To customize printing in an interactive session or to install a custom\n",
      "      top-level exception handler, assign other functions to replace these.\n",
      "    \n",
      "    stdin -- standard input file object; used by input()\n",
      "    stdout -- standard output file object; used by print()\n",
      "    stderr -- standard error object; used for error messages\n",
      "      By assigning other file objects (or objects that behave like files)\n",
      "      to these, it is possible to redirect all of the interpreter's I/O.\n",
      "    \n",
      "    last_type -- type of last uncaught exception\n",
      "    last_value -- value of last uncaught exception\n",
      "    last_traceback -- traceback of last uncaught exception\n",
      "      These three are only available in an interactive session after a\n",
      "      traceback has been printed.\n",
      "    \n",
      "    Static objects:\n",
      "    \n",
      "    builtin_module_names -- tuple of module names built into this interpreter\n",
      "    copyright -- copyright notice pertaining to this interpreter\n",
      "    exec_prefix -- prefix used to find the machine-specific Python library\n",
      "    executable -- absolute path of the executable binary of the Python interpreter\n",
      "    float_info -- a named tuple with information about the float implementation.\n",
      "    float_repr_style -- string indicating the style of repr() output for floats\n",
      "    hash_info -- a named tuple with information about the hash algorithm.\n",
      "    hexversion -- version information encoded as a single integer\n",
      "    implementation -- Python implementation information.\n",
      "    int_info -- a named tuple with information about the int implementation.\n",
      "    maxsize -- the largest supported length of containers.\n",
      "    maxunicode -- the value of the largest Unicode code point\n",
      "    platform -- platform identifier\n",
      "    prefix -- prefix used to find the Python library\n",
      "    thread_info -- a named tuple with information about the thread implementation.\n",
      "    version -- the version of this interpreter as a string\n",
      "    version_info -- version information as a named tuple\n",
      "    dllhandle -- [Windows only] integer handle of the Python DLL\n",
      "    winver -- [Windows only] version number of the Python DLL\n",
      "    _enablelegacywindowsfsencoding -- [Windows only]\n",
      "    __stdin__ -- the original stdin; don't touch!\n",
      "    __stdout__ -- the original stdout; don't touch!\n",
      "    __stderr__ -- the original stderr; don't touch!\n",
      "    __displayhook__ -- the original displayhook; don't touch!\n",
      "    __excepthook__ -- the original excepthook; don't touch!\n",
      "    \n",
      "    Functions:\n",
      "    \n",
      "    displayhook() -- print an object to the screen, and save it in builtins._\n",
      "    excepthook() -- print an exception and its traceback to sys.stderr\n",
      "    exc_info() -- return thread-safe information about the current exception\n",
      "    exit() -- exit the interpreter by raising SystemExit\n",
      "    getdlopenflags() -- returns flags to be used for dlopen() calls\n",
      "    getprofile() -- get the global profiling function\n",
      "    getrefcount() -- return the reference count for an object (plus one :-)\n",
      "    getrecursionlimit() -- return the max recursion depth for the interpreter\n",
      "    getsizeof() -- return the size of an object in bytes\n",
      "    gettrace() -- get the global debug tracing function\n",
      "    setcheckinterval() -- control how often the interpreter checks for events\n",
      "    setdlopenflags() -- set the flags to be used for dlopen() calls\n",
      "    setprofile() -- set the global profiling function\n",
      "    setrecursionlimit() -- set the max recursion depth for the interpreter\n",
      "    settrace() -- set the global debug tracing function\n",
      "\n",
      "FUNCTIONS\n",
      "    __breakpointhook__ = breakpointhook(...)\n",
      "        breakpointhook(*args, **kws)\n",
      "        \n",
      "        This hook function is called by built-in breakpoint().\n",
      "    \n",
      "    __displayhook__ = displayhook(object, /)\n",
      "        Print an object to sys.stdout and also save it in builtins._\n",
      "    \n",
      "    __excepthook__ = excepthook(exctype, value, traceback, /)\n",
      "        Handle an exception by displaying it with a traceback on sys.stderr.\n",
      "    \n",
      "    __unraisablehook__ = unraisablehook(unraisable, /)\n",
      "        Handle an unraisable exception.\n",
      "        \n",
      "        The unraisable argument has the following attributes:\n",
      "        \n",
      "        * exc_type: Exception type.\n",
      "        * exc_value: Exception value, can be None.\n",
      "        * exc_traceback: Exception traceback, can be None.\n",
      "        * err_msg: Error message, can be None.\n",
      "        * object: Object causing the exception, can be None.\n",
      "    \n",
      "    addaudithook(hook)\n",
      "        Adds a new audit hook callback.\n",
      "    \n",
      "    audit(...)\n",
      "        audit(event, *args)\n",
      "        \n",
      "        Passes the event to any audit hooks that are attached.\n",
      "    \n",
      "    breakpointhook(...)\n",
      "        breakpointhook(*args, **kws)\n",
      "        \n",
      "        This hook function is called by built-in breakpoint().\n",
      "    \n",
      "    call_tracing(func, args, /)\n",
      "        Call func(*args), while tracing is enabled.\n",
      "        \n",
      "        The tracing state is saved, and restored afterwards.  This is intended\n",
      "        to be called from a debugger from a checkpoint, to recursively debug\n",
      "        some other code.\n",
      "    \n",
      "    callstats()\n",
      "        Return a tuple of function call statistics.\n",
      "        \n",
      "        A tuple is returned only if CALL_PROFILE was defined when Python was\n",
      "        built.  Otherwise, this returns None.\n",
      "        \n",
      "        When enabled, this function returns detailed, implementation-specific\n",
      "        details about the number of function calls executed. The return value\n",
      "        is a 11-tuple where the entries in the tuple are counts of:\n",
      "        0. all function calls\n",
      "        1. calls to PyFunction_Type objects\n",
      "        2. PyFunction calls that do not create an argument tuple\n",
      "        3. PyFunction calls that do not create an argument tuple\n",
      "           and bypass PyEval_EvalCodeEx()\n",
      "        4. PyMethod calls\n",
      "        5. PyMethod calls on bound methods\n",
      "        6. PyType calls\n",
      "        7. PyCFunction calls\n",
      "        8. generator calls\n",
      "        9. All other calls\n",
      "        10. Number of stack pops performed by call_function()\n",
      "    \n",
      "    exc_info()\n",
      "        Return current exception information: (type, value, traceback).\n",
      "        \n",
      "        Return information about the most recent exception caught by an except\n",
      "        clause in the current stack frame or in an older stack frame.\n",
      "    \n",
      "    exit(status=None, /)\n",
      "        Exit the interpreter by raising SystemExit(status).\n",
      "        \n",
      "        If the status is omitted or None, it defaults to zero (i.e., success).\n",
      "        If the status is an integer, it will be used as the system exit status.\n",
      "        If it is another kind of object, it will be printed and the system\n",
      "        exit status will be one (i.e., failure).\n",
      "    \n",
      "    get_asyncgen_hooks()\n",
      "        Return the installed asynchronous generators hooks.\n",
      "        \n",
      "        This returns a namedtuple of the form (firstiter, finalizer).\n",
      "    \n",
      "    get_coroutine_origin_tracking_depth()\n",
      "        Check status of origin tracking for coroutine objects in this thread.\n",
      "    \n",
      "    getallocatedblocks()\n",
      "        Return the number of memory blocks currently allocated.\n",
      "    \n",
      "    getcheckinterval()\n",
      "        Return the current check interval; see sys.setcheckinterval().\n",
      "    \n",
      "    getdefaultencoding()\n",
      "        Return the current default encoding used by the Unicode implementation.\n",
      "    \n",
      "    getfilesystemencodeerrors()\n",
      "        Return the error mode used Unicode to OS filename conversion.\n",
      "    \n",
      "    getfilesystemencoding()\n",
      "        Return the encoding used to convert Unicode filenames to OS filenames.\n",
      "    \n",
      "    getprofile()\n",
      "        Return the profiling function set with sys.setprofile.\n",
      "        \n",
      "        See the profiler chapter in the library manual.\n",
      "    \n",
      "    getrecursionlimit()\n",
      "        Return the current value of the recursion limit.\n",
      "        \n",
      "        The recursion limit is the maximum depth of the Python interpreter\n",
      "        stack.  This limit prevents infinite recursion from causing an overflow\n",
      "        of the C stack and crashing Python.\n",
      "    \n",
      "    getrefcount(object, /)\n",
      "        Return the reference count of object.\n",
      "        \n",
      "        The count returned is generally one higher than you might expect,\n",
      "        because it includes the (temporary) reference as an argument to\n",
      "        getrefcount().\n",
      "    \n",
      "    getsizeof(...)\n",
      "        getsizeof(object [, default]) -> int\n",
      "        \n",
      "        Return the size of object in bytes.\n",
      "    \n",
      "    getswitchinterval()\n",
      "        Return the current thread switch interval; see sys.setswitchinterval().\n",
      "    \n",
      "    gettrace()\n",
      "        Return the global debug tracing function set with sys.settrace.\n",
      "        \n",
      "        See the debugger chapter in the library manual.\n",
      "    \n",
      "    getwindowsversion()\n",
      "        Return info about the running version of Windows as a named tuple.\n",
      "        \n",
      "        The members are named: major, minor, build, platform, service_pack,\n",
      "        service_pack_major, service_pack_minor, suite_mask, product_type and\n",
      "        platform_version. For backward compatibility, only the first 5 items\n",
      "        are available by indexing. All elements are numbers, except\n",
      "        service_pack and platform_type which are strings, and platform_version\n",
      "        which is a 3-tuple. Platform is always 2. Product_type may be 1 for a\n",
      "        workstation, 2 for a domain controller, 3 for a server.\n",
      "        Platform_version is a 3-tuple containing a version number that is\n",
      "        intended for identifying the OS rather than feature detection.\n",
      "    \n",
      "    intern(string, /)\n",
      "        ``Intern'' the given string.\n",
      "        \n",
      "        This enters the string in the (global) table of interned strings whose\n",
      "        purpose is to speed up dictionary lookups. Return the string itself or\n",
      "        the previously interned string object with the same value.\n",
      "    \n",
      "    is_finalizing()\n",
      "        Return True if Python is exiting.\n",
      "    \n",
      "    set_asyncgen_hooks(...)\n",
      "        set_asyncgen_hooks(* [, firstiter] [, finalizer])\n",
      "        \n",
      "        Set a finalizer for async generators objects.\n",
      "    \n",
      "    set_coroutine_origin_tracking_depth(depth)\n",
      "        Enable or disable origin tracking for coroutine objects in this thread.\n",
      "        \n",
      "        Coroutine objects will track 'depth' frames of traceback information\n",
      "        about where they came from, available in their cr_origin attribute.\n",
      "        \n",
      "        Set a depth of 0 to disable.\n",
      "    \n",
      "    setcheckinterval(n, /)\n",
      "        Set the async event check interval to n instructions.\n",
      "        \n",
      "        This tells the Python interpreter to check for asynchronous events\n",
      "        every n instructions.\n",
      "        \n",
      "        This also affects how often thread switches occur.\n",
      "    \n",
      "    setprofile(...)\n",
      "        setprofile(function)\n",
      "        \n",
      "        Set the profiling function.  It will be called on each function call\n",
      "        and return.  See the profiler chapter in the library manual.\n",
      "    \n",
      "    setrecursionlimit(limit, /)\n",
      "        Set the maximum depth of the Python interpreter stack to n.\n",
      "        \n",
      "        This limit prevents infinite recursion from causing an overflow of the C\n",
      "        stack and crashing Python.  The highest possible limit is platform-\n",
      "        dependent.\n",
      "    \n",
      "    setswitchinterval(interval, /)\n",
      "        Set the ideal thread switching delay inside the Python interpreter.\n",
      "        \n",
      "        The actual frequency of switching threads can be lower if the\n",
      "        interpreter executes long sequences of uninterruptible code\n",
      "        (this is implementation-specific and workload-dependent).\n",
      "        \n",
      "        The parameter must represent the desired switching delay in seconds\n",
      "        A typical value is 0.005 (5 milliseconds).\n",
      "    \n",
      "    settrace(...)\n",
      "        settrace(function)\n",
      "        \n",
      "        Set the global debug tracing function.  It will be called on each\n",
      "        function call.  See the debugger chapter in the library manual.\n",
      "    \n",
      "    unraisablehook(unraisable, /)\n",
      "        Handle an unraisable exception.\n",
      "        \n",
      "        The unraisable argument has the following attributes:\n",
      "        \n",
      "        * exc_type: Exception type.\n",
      "        * exc_value: Exception value, can be None.\n",
      "        * exc_traceback: Exception traceback, can be None.\n",
      "        * err_msg: Error message, can be None.\n",
      "        * object: Object causing the exception, can be None.\n",
      "\n",
      "DATA\n",
      "    __stderr__ = <_io.TextIOWrapper name='<stderr>' mode='w' encoding='gbk...\n",
      "    __stdin__ = <_io.TextIOWrapper name='<stdin>' mode='r' encoding='gbk'>\n",
      "    __stdout__ = <_io.TextIOWrapper name='<stdout>' mode='w' encoding='gbk...\n",
      "    api_version = 1013\n",
      "    argv = [r'D:\\anaconda\\lib\\site-packages\\ipykernel_launcher.py', '-f', ...\n",
      "    base_exec_prefix = r'D:\\anaconda'\n",
      "    base_prefix = r'D:\\anaconda'\n",
      "    builtin_module_names = ('_abc', '_ast', '_bisect', '_blake2', '_codecs...\n",
      "    byteorder = 'little'\n",
      "    copyright = 'Copyright (c) 2001-2020 Python Software Foundati...ematis...\n",
      "    displayhook = <ipykernel.displayhook.ZMQShellDisplayHook object>\n",
      "    dllhandle = 140703242780672\n",
      "    dont_write_bytecode = False\n",
      "    exec_prefix = r'D:\\anaconda'\n",
      "    executable = r'D:\\anaconda\\python.exe'\n",
      "    flags = sys.flags(debug=0, inspect=0, interactive=0, opt...ation=1, is...\n",
      "    float_info = sys.float_info(max=1.7976931348623157e+308, max_...epsilo...\n",
      "    float_repr_style = 'short'\n",
      "    hash_info = sys.hash_info(width=64, modulus=2305843009213693...iphash2...\n",
      "    hexversion = 50856944\n",
      "    implementation = namespace(cache_tag='cpython-38', hexversion=508...in...\n",
      "    int_info = sys.int_info(bits_per_digit=30, sizeof_digit=4)\n",
      "    last_value = SyntaxError('invalid character in identifier', (...-input...\n",
      "    maxsize = 9223372036854775807\n",
      "    maxunicode = 1114111\n",
      "    meta_path = [<class '_frozen_importlib.BuiltinImporter'>, <class '_fro...\n",
      "    modules = {'IPython': <module 'IPython' from 'D:\\\\anaconda\\\\lib\\\\site-...\n",
      "    path = [r'C:\\Users\\lenovo\\douban\\douban', r'D:\\anaconda\\python38.zip',...\n",
      "    path_hooks = [<class 'zipimport.zipimporter'>, <function FileFinder.pa...\n",
      "    path_importer_cache = {r'C:\\Users\\lenovo\\.ipython': FileFinder('C:\\\\Us...\n",
      "    platform = 'win32'\n",
      "    prefix = r'D:\\anaconda'\n",
      "    ps1 = 'In : '\n",
      "    ps2 = '...: '\n",
      "    ps3 = 'Out: '\n",
      "    pycache_prefix = None\n",
      "    stderr = <ipykernel.iostream.OutStream object>\n",
      "    stdin = <_io.TextIOWrapper name='<stdin>' mode='r' encoding='gbk'>\n",
      "    stdout = <ipykernel.iostream.OutStream object>\n",
      "    thread_info = sys.thread_info(name='nt', lock=None, version=None)\n",
      "    version = '3.8.3 (default, Jul  2 2020, 17:30:36) [MSC v.1916 64 bit (...\n",
      "    version_info = sys.version_info(major=3, minor=8, micro=3, releaseleve...\n",
      "    warnoptions = []\n",
      "    winver = '3.8'\n",
      "\n",
      "FILE\n",
      "    (built-in)\n",
      "\n",
      "\n"
     ]
    }
   ],
   "source": [
    "help('sys')"
   ]
  },
  {
   "cell_type": "code",
   "execution_count": 19,
   "metadata": {},
   "outputs": [
    {
     "name": "stdout",
     "output_type": "stream",
     "text": [
      "min(0, 100, -400) :  -400\n"
     ]
    }
   ],
   "source": [
    "print (\"min(0, 100, -400) : \", min(0, 100, -400))"
   ]
  },
  {
   "cell_type": "code",
   "execution_count": 20,
   "metadata": {},
   "outputs": [
    {
     "data": {
      "text/plain": [
       "1"
      ]
     },
     "execution_count": 20,
     "metadata": {},
     "output_type": "execute_result"
    }
   ],
   "source": [
    "class A(object):\n",
    "    bar = 1\n",
    "a=A()\n",
    "getattr(a,\"bar\")"
   ]
  },
  {
   "cell_type": "code",
   "execution_count": 21,
   "metadata": {},
   "outputs": [
    {
     "data": {
      "text/plain": [
       "5"
      ]
     },
     "execution_count": 21,
     "metadata": {},
     "output_type": "execute_result"
    }
   ],
   "source": [
    "setattr(a, 'bar', 5)       \n",
    "a.bar"
   ]
  },
  {
   "cell_type": "code",
   "execution_count": 22,
   "metadata": {},
   "outputs": [
    {
     "data": {
      "text/plain": [
       "['A',\n",
       " 'In',\n",
       " 'Out',\n",
       " '_',\n",
       " '_11',\n",
       " '_20',\n",
       " '_21',\n",
       " '_9',\n",
       " '__',\n",
       " '___',\n",
       " '__builtin__',\n",
       " '__builtins__',\n",
       " '__doc__',\n",
       " '__loader__',\n",
       " '__name__',\n",
       " '__package__',\n",
       " '__spec__',\n",
       " '_dh',\n",
       " '_i',\n",
       " '_i1',\n",
       " '_i10',\n",
       " '_i11',\n",
       " '_i12',\n",
       " '_i13',\n",
       " '_i14',\n",
       " '_i15',\n",
       " '_i16',\n",
       " '_i17',\n",
       " '_i18',\n",
       " '_i19',\n",
       " '_i2',\n",
       " '_i20',\n",
       " '_i21',\n",
       " '_i22',\n",
       " '_i3',\n",
       " '_i4',\n",
       " '_i5',\n",
       " '_i6',\n",
       " '_i7',\n",
       " '_i8',\n",
       " '_i9',\n",
       " '_ih',\n",
       " '_ii',\n",
       " '_iii',\n",
       " '_oh',\n",
       " 'a',\n",
       " 'cmath',\n",
       " 'data',\n",
       " 'data1',\n",
       " 'data2',\n",
       " 'exit',\n",
       " 'f',\n",
       " 'fun1',\n",
       " 'get_ipython',\n",
       " 'json',\n",
       " 'json_str',\n",
       " 'num',\n",
       " 'num_sqrt',\n",
       " 'os',\n",
       " 'outer',\n",
       " 'quit',\n",
       " 'sum',\n",
       " 'test',\n",
       " 'total']"
      ]
     },
     "execution_count": 22,
     "metadata": {},
     "output_type": "execute_result"
    }
   ],
   "source": [
    "dir() "
   ]
  },
  {
   "cell_type": "code",
   "execution_count": 23,
   "metadata": {},
   "outputs": [
    {
     "data": {
      "text/plain": [
       "['__add__',\n",
       " '__class__',\n",
       " '__contains__',\n",
       " '__delattr__',\n",
       " '__delitem__',\n",
       " '__dir__',\n",
       " '__doc__',\n",
       " '__eq__',\n",
       " '__format__',\n",
       " '__ge__',\n",
       " '__getattribute__',\n",
       " '__getitem__',\n",
       " '__gt__',\n",
       " '__hash__',\n",
       " '__iadd__',\n",
       " '__imul__',\n",
       " '__init__',\n",
       " '__init_subclass__',\n",
       " '__iter__',\n",
       " '__le__',\n",
       " '__len__',\n",
       " '__lt__',\n",
       " '__mul__',\n",
       " '__ne__',\n",
       " '__new__',\n",
       " '__reduce__',\n",
       " '__reduce_ex__',\n",
       " '__repr__',\n",
       " '__reversed__',\n",
       " '__rmul__',\n",
       " '__setattr__',\n",
       " '__setitem__',\n",
       " '__sizeof__',\n",
       " '__str__',\n",
       " '__subclasshook__',\n",
       " 'append',\n",
       " 'clear',\n",
       " 'copy',\n",
       " 'count',\n",
       " 'extend',\n",
       " 'index',\n",
       " 'insert',\n",
       " 'pop',\n",
       " 'remove',\n",
       " 'reverse',\n",
       " 'sort']"
      ]
     },
     "execution_count": 23,
     "metadata": {},
     "output_type": "execute_result"
    }
   ],
   "source": [
    "dir([ ]) "
   ]
  },
  {
   "cell_type": "code",
   "execution_count": 24,
   "metadata": {},
   "outputs": [
    {
     "data": {
      "text/plain": [
       "'0xff'"
      ]
     },
     "execution_count": 24,
     "metadata": {},
     "output_type": "execute_result"
    }
   ],
   "source": [
    "hex(255)"
   ]
  },
  {
   "cell_type": "code",
   "execution_count": 25,
   "metadata": {},
   "outputs": [
    {
     "data": {
      "text/plain": [
       "str"
      ]
     },
     "execution_count": 25,
     "metadata": {},
     "output_type": "execute_result"
    }
   ],
   "source": [
    "type(hex(12))"
   ]
  },
  {
   "cell_type": "code",
   "execution_count": 27,
   "metadata": {},
   "outputs": [
    {
     "name": "stdout",
     "output_type": "stream",
     "text": [
      "1\n",
      "2\n",
      "3\n",
      "4\n",
      "5\n"
     ]
    }
   ],
   "source": [
    "it = iter([1, 2, 3, 4, 5])\n",
    "\n",
    "while True:\n",
    "    try:\n",
    "        \n",
    "        x = next(it)\n",
    "        print(x)\n",
    "    except StopIteration:\n",
    "       \n",
    "        break"
   ]
  },
  {
   "cell_type": "code",
   "execution_count": 28,
   "metadata": {},
   "outputs": [
    {
     "data": {
      "text/plain": [
       "slice(None, 5, None)"
      ]
     },
     "execution_count": 28,
     "metadata": {},
     "output_type": "execute_result"
    }
   ],
   "source": [
    "myslice = slice(5)    # 设置截取5个元素的切片\n",
    "myslice"
   ]
  },
  {
   "cell_type": "code",
   "execution_count": 29,
   "metadata": {},
   "outputs": [
    {
     "data": {
      "text/plain": [
       "range(0, 10)"
      ]
     },
     "execution_count": 29,
     "metadata": {},
     "output_type": "execute_result"
    }
   ],
   "source": [
    "arr = range(10)\n",
    "arr"
   ]
  },
  {
   "cell_type": "code",
   "execution_count": 30,
   "metadata": {},
   "outputs": [
    {
     "data": {
      "text/plain": [
       "range(0, 5)"
      ]
     },
     "execution_count": 30,
     "metadata": {},
     "output_type": "execute_result"
    }
   ],
   "source": [
    "arr[myslice]"
   ]
  },
  {
   "cell_type": "code",
   "execution_count": 31,
   "metadata": {},
   "outputs": [
    {
     "data": {
      "text/plain": [
       "True"
      ]
     },
     "execution_count": 31,
     "metadata": {},
     "output_type": "execute_result"
    }
   ],
   "source": [
    "any(['a', 'b', 'c', 'd'])"
   ]
  },
  {
   "cell_type": "code",
   "execution_count": 32,
   "metadata": {},
   "outputs": [
    {
     "data": {
      "text/plain": [
       "True"
      ]
     },
     "execution_count": 32,
     "metadata": {},
     "output_type": "execute_result"
    }
   ],
   "source": [
    "any(['a', 'b', '', 'd'])"
   ]
  },
  {
   "cell_type": "code",
   "execution_count": 33,
   "metadata": {},
   "outputs": [
    {
     "data": {
      "text/plain": [
       "(4, 0)"
      ]
     },
     "execution_count": 33,
     "metadata": {},
     "output_type": "execute_result"
    }
   ],
   "source": [
    "divmod(8, 2)"
   ]
  },
  {
   "cell_type": "code",
   "execution_count": 34,
   "metadata": {},
   "outputs": [
    {
     "data": {
      "text/plain": [
       "1787579598576"
      ]
     },
     "execution_count": 34,
     "metadata": {},
     "output_type": "execute_result"
    }
   ],
   "source": [
    "a = 'runoob'\n",
    "id(a)"
   ]
  },
  {
   "cell_type": "code",
   "execution_count": 35,
   "metadata": {},
   "outputs": [
    {
     "data": {
      "text/plain": [
       "[1, 2, 3, 4, 5]"
      ]
     },
     "execution_count": 35,
     "metadata": {},
     "output_type": "execute_result"
    }
   ],
   "source": [
    "sorted([5, 2, 3, 1, 4])"
   ]
  },
  {
   "cell_type": "code",
   "execution_count": 36,
   "metadata": {},
   "outputs": [
    {
     "data": {
      "text/plain": [
       "[1, 2, 3, 4, 5]"
      ]
     },
     "execution_count": 36,
     "metadata": {},
     "output_type": "execute_result"
    }
   ],
   "source": [
    "a=[5,2,3,1,4]\n",
    "a.sort()\n",
    "a"
   ]
  },
  {
   "cell_type": "code",
   "execution_count": 37,
   "metadata": {},
   "outputs": [
    {
     "data": {
      "text/plain": [
       "[1, 2, 3, 4, 5]"
      ]
     },
     "execution_count": 37,
     "metadata": {},
     "output_type": "execute_result"
    }
   ],
   "source": [
    "sorted({1: 'D', 2: 'B', 3: 'B', 4: 'E', 5: 'A'})"
   ]
  },
  {
   "cell_type": "code",
   "execution_count": 38,
   "metadata": {},
   "outputs": [
    {
     "name": "stdout",
     "output_type": "stream",
     "text": [
      "[7, 6, 5, 4, 3, 2, 1, 0]\n"
     ]
    }
   ],
   "source": [
    "example_list = [5, 0, 6, 1, 2, 7, 3, 4]\n",
    "result_list = sorted(example_list, key=lambda x: x*-1)\n",
    "print(result_list)"
   ]
  },
  {
   "cell_type": "code",
   "execution_count": 39,
   "metadata": {},
   "outputs": [
    {
     "data": {
      "text/plain": [
       "[7, 6, 5, 4, 3, 2, 1, 0]"
      ]
     },
     "execution_count": 39,
     "metadata": {},
     "output_type": "execute_result"
    }
   ],
   "source": [
    "example_list = [5, 0, 6, 1, 2, 7, 3, 4]\n",
    "sorted(example_list, reverse=True)"
   ]
  },
  {
   "cell_type": "code",
   "execution_count": 40,
   "metadata": {},
   "outputs": [
    {
     "data": {
      "text/plain": [
       "\"'runoob'\""
      ]
     },
     "execution_count": 40,
     "metadata": {},
     "output_type": "execute_result"
    }
   ],
   "source": [
    "ascii('runoob')"
   ]
  },
  {
   "cell_type": "code",
   "execution_count": 41,
   "metadata": {},
   "outputs": [
    {
     "data": {
      "text/plain": [
       "'0o12'"
      ]
     },
     "execution_count": 41,
     "metadata": {},
     "output_type": "execute_result"
    }
   ],
   "source": [
    "oct(10)"
   ]
  },
  {
   "cell_type": "code",
   "execution_count": 42,
   "metadata": {},
   "outputs": [
    {
     "name": "stdout",
     "output_type": "stream",
     "text": [
      "runoob\n",
      "runoob\n"
     ]
    }
   ],
   "source": [
    "class C(object):\n",
    "    @staticmethod\n",
    "    def f():\n",
    "        print('runoob');\n",
    "C.f();          \n",
    "cobj = C()\n",
    "cobj.f()        "
   ]
  },
  {
   "cell_type": "code",
   "execution_count": 43,
   "metadata": {},
   "outputs": [
    {
     "name": "stdout",
     "output_type": "stream",
     "text": [
      "<class '__main__.C1.C2'>\n",
      "Python世界第0!\n"
     ]
    }
   ],
   "source": [
    "class C1(object):\n",
    "    @staticmethod\n",
    "    class C2(object):\n",
    "        def __init__(self, val = 1):\n",
    "            self.val = val\n",
    "        def shout(self):\n",
    "            print(\"Python世界第%d!\"%self.val)\n",
    "tmp = C1.C2(0)\n",
    "print(type(tmp))    \n",
    "tmp.shout()    "
   ]
  },
  {
   "cell_type": "code",
   "execution_count": 44,
   "metadata": {},
   "outputs": [
    {
     "data": {
      "text/plain": [
       "'0b1010'"
      ]
     },
     "execution_count": 44,
     "metadata": {},
     "output_type": "execute_result"
    }
   ],
   "source": [
    "bin(10)"
   ]
  },
  {
   "cell_type": "code",
   "execution_count": 45,
   "metadata": {},
   "outputs": [
    {
     "data": {
      "text/plain": [
       "529"
      ]
     },
     "execution_count": 45,
     "metadata": {},
     "output_type": "execute_result"
    }
   ],
   "source": [
    "eval('pow(23,2)')"
   ]
  },
  {
   "cell_type": "code",
   "execution_count": 46,
   "metadata": {},
   "outputs": [
    {
     "data": {
      "text/plain": [
       "0"
      ]
     },
     "execution_count": 46,
     "metadata": {},
     "output_type": "execute_result"
    }
   ],
   "source": [
    "int()"
   ]
  },
  {
   "cell_type": "code",
   "execution_count": 47,
   "metadata": {},
   "outputs": [
    {
     "data": {
      "text/plain": [
       "18"
      ]
     },
     "execution_count": 47,
     "metadata": {},
     "output_type": "execute_result"
    }
   ],
   "source": [
    "int('12',16)    "
   ]
  },
  {
   "cell_type": "code",
   "execution_count": 48,
   "metadata": {},
   "outputs": [
    {
     "data": {
      "text/plain": [
       "10"
      ]
     },
     "execution_count": 48,
     "metadata": {},
     "output_type": "execute_result"
    }
   ],
   "source": [
    "int('0xa',16) "
   ]
  },
  {
   "cell_type": "code",
   "execution_count": 49,
   "metadata": {},
   "outputs": [
    {
     "data": {
      "text/plain": [
       "8"
      ]
     },
     "execution_count": 49,
     "metadata": {},
     "output_type": "execute_result"
    }
   ],
   "source": [
    "int('10',8)  "
   ]
  },
  {
   "cell_type": "code",
   "execution_count": 50,
   "metadata": {},
   "outputs": [
    {
     "data": {
      "text/plain": [
       "'RUNOOB'"
      ]
     },
     "execution_count": 50,
     "metadata": {},
     "output_type": "execute_result"
    }
   ],
   "source": [
    "s = 'RUNOOB'\n",
    "str(s)"
   ]
  },
  {
   "cell_type": "code",
   "execution_count": 51,
   "metadata": {},
   "outputs": [
    {
     "data": {
      "text/plain": [
       "\"{'runoob': 'runoob.com', 'google': 'google.com'}\""
      ]
     },
     "execution_count": 51,
     "metadata": {},
     "output_type": "execute_result"
    }
   ],
   "source": [
    "dict = {'runoob': 'runoob.com', 'google': 'google.com'};\n",
    "str(dict)"
   ]
  },
  {
   "cell_type": "code",
   "execution_count": 52,
   "metadata": {},
   "outputs": [
    {
     "name": "stdout",
     "output_type": "stream",
     "text": [
      "Hello World\n"
     ]
    }
   ],
   "source": [
    "exec('print(\"Hello World\")')"
   ]
  },
  {
   "cell_type": "code",
   "execution_count": 54,
   "metadata": {},
   "outputs": [
    {
     "name": "stdout",
     "output_type": "stream",
     "text": [
      "iter time: 0\n",
      "iter time: 1\n",
      "iter time: 2\n",
      "iter time: 3\n",
      "iter time: 4\n"
     ]
    }
   ],
   "source": [
    "exec (\"\"\"for i in range(5):\n",
    "...     print (\"iter time: %d\" % i)\n",
    "... \"\"\")"
   ]
  },
  {
   "cell_type": "code",
   "execution_count": 56,
   "metadata": {},
   "outputs": [
    {
     "name": "stdout",
     "output_type": "stream",
     "text": [
      "runoob.com\n"
     ]
    }
   ],
   "source": [
    "exec(\"print ('runoob.com')\")"
   ]
  },
  {
   "cell_type": "code",
   "execution_count": 57,
   "metadata": {},
   "outputs": [
    {
     "name": "stdout",
     "output_type": "stream",
     "text": [
      "60\n",
      "33\n",
      "34\n"
     ]
    }
   ],
   "source": [
    "x = 10\n",
    "expr = \"\"\"\n",
    "z = 30\n",
    "sum = x + y + z\n",
    "print(sum)\n",
    "\"\"\"\n",
    "def func():\n",
    "    y = 20\n",
    "    exec(expr)\n",
    "    exec(expr, {'x': 1, 'y': 2})\n",
    "    exec(expr, {'x': 1, 'y': 2}, {'y': 3, 'z': 4})\n",
    "    \n",
    "func()"
   ]
  },
  {
   "cell_type": "code",
   "execution_count": 58,
   "metadata": {},
   "outputs": [
    {
     "data": {
      "text/plain": [
       "True"
      ]
     },
     "execution_count": 58,
     "metadata": {},
     "output_type": "execute_result"
    }
   ],
   "source": [
    "isinstance (a,(str,int,list))"
   ]
  },
  {
   "cell_type": "code",
   "execution_count": 60,
   "metadata": {},
   "outputs": [
    {
     "data": {
      "text/plain": [
       "True"
      ]
     },
     "execution_count": 60,
     "metadata": {},
     "output_type": "execute_result"
    }
   ],
   "source": [
    "class A:\n",
    "    pass\n",
    " \n",
    "class B(A):\n",
    "    pass\n",
    " \n",
    "isinstance(A(), A)          "
   ]
  },
  {
   "cell_type": "code",
   "execution_count": 61,
   "metadata": {},
   "outputs": [
    {
     "data": {
      "text/plain": [
       "True"
      ]
     },
     "execution_count": 61,
     "metadata": {},
     "output_type": "execute_result"
    }
   ],
   "source": [
    "type(A()) == A       "
   ]
  },
  {
   "cell_type": "code",
   "execution_count": 62,
   "metadata": {},
   "outputs": [
    {
     "data": {
      "text/plain": [
       "True"
      ]
     },
     "execution_count": 62,
     "metadata": {},
     "output_type": "execute_result"
    }
   ],
   "source": [
    "isinstance(B(), A)    "
   ]
  },
  {
   "cell_type": "code",
   "execution_count": 63,
   "metadata": {},
   "outputs": [
    {
     "data": {
      "text/plain": [
       "False"
      ]
     },
     "execution_count": 63,
     "metadata": {},
     "output_type": "execute_result"
    }
   ],
   "source": [
    "type(B()) == A       "
   ]
  },
  {
   "cell_type": "code",
   "execution_count": 64,
   "metadata": {},
   "outputs": [
    {
     "data": {
      "text/plain": [
       "97"
      ]
     },
     "execution_count": 64,
     "metadata": {},
     "output_type": "execute_result"
    }
   ],
   "source": [
    "ord('a')"
   ]
  },
  {
   "cell_type": "code",
   "execution_count": 66,
   "metadata": {},
   "outputs": [
    {
     "data": {
      "text/plain": [
       "bytearray(b'')"
      ]
     },
     "execution_count": 66,
     "metadata": {},
     "output_type": "execute_result"
    }
   ],
   "source": [
    "bytearray() "
   ]
  },
  {
   "cell_type": "code",
   "execution_count": 67,
   "metadata": {},
   "outputs": [
    {
     "data": {
      "text/plain": [
       "bytearray(b'runoob')"
      ]
     },
     "execution_count": 67,
     "metadata": {},
     "output_type": "execute_result"
    }
   ],
   "source": [
    "bytearray('runoob', 'utf-8')"
   ]
  },
  {
   "cell_type": "code",
   "execution_count": 68,
   "metadata": {},
   "outputs": [
    {
     "name": "stdout",
     "output_type": "stream",
     "text": [
      "[1, 3, 5, 7, 9]\n"
     ]
    }
   ],
   "source": [
    "def is_odd(n):\n",
    "    return n % 2 == 1\n",
    " \n",
    "tmplist = filter(is_odd, [1, 2, 3, 4, 5, 6, 7, 8, 9, 10])\n",
    "newlist = list(tmplist)\n",
    "print(newlist)"
   ]
  },
  {
   "cell_type": "code",
   "execution_count": 69,
   "metadata": {},
   "outputs": [
    {
     "name": "stdout",
     "output_type": "stream",
     "text": [
      "[1, 4, 9, 16, 25, 36, 49, 64, 81, 100]\n"
     ]
    }
   ],
   "source": [
    "import math\n",
    "def is_sqr(x):\n",
    "    return math.sqrt(x) % 1 == 0\n",
    " \n",
    "tmplist = filter(is_sqr, range(1, 101))\n",
    "newlist = list(tmplist)\n",
    "print(newlist)"
   ]
  },
  {
   "cell_type": "code",
   "execution_count": 70,
   "metadata": {},
   "outputs": [
    {
     "name": "stdout",
     "output_type": "stream",
     "text": [
      "True\n"
     ]
    }
   ],
   "source": [
    "class A:\n",
    "    pass\n",
    "class B(A):\n",
    "    pass\n",
    "    \n",
    "print(issubclass(B,A)) "
   ]
  },
  {
   "cell_type": "code",
   "execution_count": 71,
   "metadata": {},
   "outputs": [
    {
     "name": "stdout",
     "output_type": "stream",
     "text": [
      "math.pow(100, 2) :  10000.0\n",
      "pow(100, 2) :  10000\n",
      "math.pow(100, -2) :  0.0001\n",
      "math.pow(2, 4) :  16.0\n",
      "math.pow(3, 0) :  1.0\n"
     ]
    }
   ],
   "source": [
    "import math   \n",
    "print (\"math.pow(100, 2) : \", math.pow(100, 2))\n",
    "print (\"pow(100, 2) : \", pow(100, 2))\n",
    "print (\"math.pow(100, -2) : \", math.pow(100, -2))\n",
    "print (\"math.pow(2, 4) : \", math.pow(2, 4))\n",
    "print (\"math.pow(3, 0) : \", math.pow(3, 0))"
   ]
  },
  {
   "cell_type": "code",
   "execution_count": 73,
   "metadata": {},
   "outputs": [
    {
     "name": "stdout",
     "output_type": "stream",
     "text": [
      "3\n"
     ]
    }
   ],
   "source": [
    "class A:\n",
    "     def add(self, x):\n",
    "            y = x+1\n",
    "            print(y)\n",
    "class B(A):\n",
    "    def add(self, x):\n",
    "        super().add(x)\n",
    "b = B()\n",
    "b.add(2) "
   ]
  },
  {
   "cell_type": "code",
   "execution_count": 74,
   "metadata": {},
   "outputs": [
    {
     "name": "stdout",
     "output_type": "stream",
     "text": [
      "Parent\n",
      "Child\n",
      "HelloWorld from Parent\n",
      "Child bar fuction\n",
      "I'm the parent.\n"
     ]
    }
   ],
   "source": [
    "class FooParent(object):\n",
    "    def __init__(self):\n",
    "        self.parent = 'I\\'m the parent.'\n",
    "        print ('Parent')\n",
    "    \n",
    "    def bar(self,message):\n",
    "        print (\"%s from Parent\" % message)\n",
    "class FooChild(FooParent):\n",
    "    def __init__(self):\n",
    "        # super(FooChild,self) 首先找到 FooChild 的父类（就是类 FooParent），然后把类 FooChild 的对象转换为类 FooParent 的对象\n",
    "        super(FooChild,self).__init__()    \n",
    "        print ('Child')\n",
    "        \n",
    "    def bar(self,message):\n",
    "        super(FooChild, self).bar(message)\n",
    "        print ('Child bar fuction')\n",
    "        print (self.parent)\n",
    "if __name__ == '__main__':\n",
    "    fooChild = FooChild()\n",
    "    fooChild.bar('HelloWorld')"
   ]
  },
  {
   "cell_type": "code",
   "execution_count": 75,
   "metadata": {},
   "outputs": [
    {
     "data": {
      "text/plain": [
       "b'\\x01\\x02\\x03\\x04'"
      ]
     },
     "execution_count": 75,
     "metadata": {},
     "output_type": "execute_result"
    }
   ],
   "source": [
    "a = bytes([1,2,3,4])\n",
    "a"
   ]
  },
  {
   "cell_type": "code",
   "execution_count": 76,
   "metadata": {},
   "outputs": [
    {
     "data": {
      "text/plain": [
       "bytes"
      ]
     },
     "execution_count": 76,
     "metadata": {},
     "output_type": "execute_result"
    }
   ],
   "source": [
    "type(a)"
   ]
  },
  {
   "cell_type": "code",
   "execution_count": 77,
   "metadata": {},
   "outputs": [
    {
     "data": {
      "text/plain": [
       "b'hello'"
      ]
     },
     "execution_count": 77,
     "metadata": {},
     "output_type": "execute_result"
    }
   ],
   "source": [
    "a = bytes('hello','ascii')\n",
    "a"
   ]
  },
  {
   "cell_type": "code",
   "execution_count": 79,
   "metadata": {},
   "outputs": [
    {
     "data": {
      "text/plain": [
       "bytes"
      ]
     },
     "execution_count": 79,
     "metadata": {},
     "output_type": "execute_result"
    }
   ],
   "source": [
    "type(a)"
   ]
  },
  {
   "cell_type": "code",
   "execution_count": 80,
   "metadata": {},
   "outputs": [
    {
     "data": {
      "text/plain": [
       "-123.6"
      ]
     },
     "execution_count": 80,
     "metadata": {},
     "output_type": "execute_result"
    }
   ],
   "source": [
    "float(-123.6)"
   ]
  },
  {
   "cell_type": "code",
   "execution_count": 81,
   "metadata": {},
   "outputs": [
    {
     "data": {
      "text/plain": [
       "123.0"
      ]
     },
     "execution_count": 81,
     "metadata": {},
     "output_type": "execute_result"
    }
   ],
   "source": [
    "float('123')"
   ]
  },
  {
   "cell_type": "code",
   "execution_count": 82,
   "metadata": {},
   "outputs": [
    {
     "name": "stdout",
     "output_type": "stream",
     "text": [
      "1\n",
      "2\n",
      "3\n"
     ]
    }
   ],
   "source": [
    "lst = [1, 2, 3]\n",
    "for i in iter(lst):\n",
    "    print(i)"
   ]
  },
  {
   "cell_type": "code",
   "execution_count": 83,
   "metadata": {},
   "outputs": [
    {
     "data": {
      "text/plain": [
       "True"
      ]
     },
     "execution_count": 83,
     "metadata": {},
     "output_type": "execute_result"
    }
   ],
   "source": [
    "def add(a, b):\n",
    "     return a + b\n",
    "\n",
    "callable(add)    "
   ]
  },
  {
   "cell_type": "code",
   "execution_count": 84,
   "metadata": {},
   "outputs": [
    {
     "data": {
      "text/plain": [
       "True"
      ]
     },
     "execution_count": 84,
     "metadata": {},
     "output_type": "execute_result"
    }
   ],
   "source": [
    "class A:                  \n",
    "    def method(self):\n",
    "          return 0\n",
    "callable(A)           "
   ]
  },
  {
   "cell_type": "code",
   "execution_count": 85,
   "metadata": {},
   "outputs": [
    {
     "data": {
      "text/plain": [
       "'hello world'"
      ]
     },
     "execution_count": 85,
     "metadata": {},
     "output_type": "execute_result"
    }
   ],
   "source": [
    "\"{} {}\".format(\"hello\", \"world\")   "
   ]
  },
  {
   "cell_type": "code",
   "execution_count": 86,
   "metadata": {},
   "outputs": [
    {
     "data": {
      "text/plain": [
       "'hello world'"
      ]
     },
     "execution_count": 86,
     "metadata": {},
     "output_type": "execute_result"
    }
   ],
   "source": [
    "\"{0} {1}\".format(\"hello\", \"world\")"
   ]
  },
  {
   "cell_type": "code",
   "execution_count": 87,
   "metadata": {},
   "outputs": [
    {
     "data": {
      "text/plain": [
       "'world hello world'"
      ]
     },
     "execution_count": 87,
     "metadata": {},
     "output_type": "execute_result"
    }
   ],
   "source": [
    "\"{1} {0} {1}\".format(\"hello\", \"world\")  "
   ]
  },
  {
   "cell_type": "code",
   "execution_count": 88,
   "metadata": {},
   "outputs": [
    {
     "name": "stdout",
     "output_type": "stream",
     "text": [
      "网站名：菜鸟教程, 地址 www.runoob.com\n",
      "网站名：菜鸟教程, 地址 www.runoob.com\n",
      "网站名：菜鸟教程, 地址 www.runoob.com\n"
     ]
    }
   ],
   "source": [
    "print(\"网站名：{name}, 地址 {url}\".format(name=\"菜鸟教程\", url=\"www.runoob.com\"))\n",
    " \n",
    "\n",
    "site = {\"name\": \"菜鸟教程\", \"url\": \"www.runoob.com\"}\n",
    "print(\"网站名：{name}, 地址 {url}\".format(**site))\n",
    " \n",
    "\n",
    "my_list = ['菜鸟教程', 'www.runoob.com']\n",
    "print(\"网站名：{0[0]}, 地址 {0[1]}\".format(my_list)) "
   ]
  },
  {
   "cell_type": "code",
   "execution_count": 89,
   "metadata": {},
   "outputs": [
    {
     "name": "stdout",
     "output_type": "stream",
     "text": [
      "value 为: 6\n"
     ]
    }
   ],
   "source": [
    "class AssignValue(object):\n",
    "    def __init__(self, value):\n",
    "        self.value = value\n",
    "my_value = AssignValue(6)\n",
    "print('value 为: {0.value}'.format(my_value))"
   ]
  },
  {
   "cell_type": "code",
   "execution_count": 90,
   "metadata": {},
   "outputs": [],
   "source": [
    "class C(object):\n",
    "    def __init__(self):\n",
    "        self._x = None\n",
    " \n",
    "    def getx(self):\n",
    "        return self._x\n",
    " \n",
    "    def setx(self, value):\n",
    "        self._x = value\n",
    " \n",
    "    def delx(self):\n",
    "        del self._x\n",
    " \n",
    "    x = property(getx, setx, delx, \"I'm the 'x' property.\")"
   ]
  },
  {
   "cell_type": "code",
   "execution_count": 91,
   "metadata": {},
   "outputs": [
    {
     "data": {
      "text/plain": [
       "'€'"
      ]
     },
     "execution_count": 91,
     "metadata": {},
     "output_type": "execute_result"
    }
   ],
   "source": [
    "chr(8364)"
   ]
  },
  {
   "cell_type": "code",
   "execution_count": 92,
   "metadata": {},
   "outputs": [
    {
     "data": {
      "text/plain": [
       "frozenset({0, 1, 2, 3, 4, 5, 6, 7, 8, 9})"
      ]
     },
     "execution_count": 92,
     "metadata": {},
     "output_type": "execute_result"
    }
   ],
   "source": [
    "a = frozenset(range(10))     \n",
    "a"
   ]
  },
  {
   "cell_type": "code",
   "execution_count": 93,
   "metadata": {},
   "outputs": [
    {
     "name": "stdout",
     "output_type": "stream",
     "text": [
      "{'__name__': '__main__', '__doc__': 'Automatically created module for IPython interactive environment', '__package__': None, '__loader__': None, '__spec__': None, '__builtin__': <module 'builtins' (built-in)>, '__builtins__': <module 'builtins' (built-in)>, '_ih': ['', \"num = float(input('请输入一个数字： '))\\nnum_sqrt = num ** 0.5\\nprint(' %0.3f 的平方根为 %0.3f'%(num ,num_sqrt))\", 'import cmath\\n \\nnum = int(input(\"请输入一个数字: \"))\\nnum_sqrt = cmath.sqrt(num)\\nprint(\\'{0} 的平方根为 {1:0.3f}+{2:0.3f}j\\'.format(num ,num_sqrt.real,num_sqrt.imag))', 'total = 30 \\ndef sum( arg1, arg2 ):\\n    total = arg1 + arg2 \\n    print (\"函数内是局部变量 : \", total)\\n    return total\\n \\nsum( 10, 20 )\\nprint (\"函数外是全局变量 : \", total)', 'num = 3\\ndef fun1():\\n    global num \\n    print(num) \\n    num = 2333\\n    print(num)\\nfun1()\\nprint(num)', 'def outer():\\n    num = 103\\n    def inner():\\n        nonlocal num   \\n        num = 1004\\n        print(num)\\n    inner()\\n    print(num)\\nouter()', 'a = 10\\ndef test():\\n    a = a + 1\\n    print(a)\\ntest()', 'a = 10\\ndef test():\\n    global a\\n    a = a + 1\\n    print(a)\\ntest()', 'a = 10\\ndef test(a):\\n    a = a + 1\\n    print(a)\\ntest(a)', 'import os\\nos.getcwd()', \"os.chdir('/server/accesslogs')  \\nos.system('mkdir today') \", 'import os\\ndir(os)', 'import json\\n \\n# Python 字典类型转换为 JSON 对象\\ndata = {\\n    \\'no\\' : 1,\\n    \\'name\\' : \\'Runoob\\',\\n    \\'url\\' : \\'http://www.runoob.com\\'\\n}\\n \\njson_str = json.dumps(data)\\nprint (\"Python 原始数据：\", repr(data))\\nprint (\"JSON 对象：\", json_str)', 'import json\\n \\ndata1 = {\\n    \\'no\\' : 1,\\n    \\'name\\' : \\'Runoob\\',\\n    \\'url\\' : \\'http://www.runoob.com\\'\\n}\\n \\njson_str = json.dumps(data1)\\nprint (\"Python 原始数据：\", repr(data1))\\nprint (\"JSON 对象：\", json_str)\\n \\ndata2 = json.loads(json_str)\\nprint (\"data2[\\'name\\']: \", data2[\\'name\\'])\\nprint (\"data2[\\'url\\']: \", data2[\\'url\\'])', \"with open('data.json', 'w') as f:\\n    json.dump(data, f)\\nwith open('data.json', 'r') as f:\\n    data = json.load(f)\", 'print (\"abs(-40) : \", abs(-40))\\nprint (\"abs(100.10) : \", abs(100.10))', 'dict（）', 'help（\"sys\"）', \"help('sys')\", 'print (\"min(0, 100, -400) : \", min(0, 100, -400))', 'class A(object):\\n    bar = 1\\na=A()\\ngetattr(a,\"bar\")', \"setattr(a, 'bar', 5)       \\na.bar\", 'dir() ', 'dir([ ]) ', 'hex(255)', 'type(hex(12))', 't = iter([1, 2, 3, 4, 5])\\n\\nwhile True:\\n    try:\\n        \\n        x = next(it)\\n        print(x)\\n    except StopIteration:\\n       \\n        break', 'it = iter([1, 2, 3, 4, 5])\\n\\nwhile True:\\n    try:\\n        \\n        x = next(it)\\n        print(x)\\n    except StopIteration:\\n       \\n        break', 'myslice = slice(5)    # 设置截取5个元素的切片\\nmyslice', 'arr = range(10)\\narr', 'arr[myslice]', \"any(['a', 'b', 'c', 'd'])\", \"any(['a', 'b', '', 'd'])\", 'divmod(8, 2)', \"a = 'runoob'\\nid(a)\", 'sorted([5, 2, 3, 1, 4])', 'a=[5,2,3,1,4]\\na.sort()\\na', \"sorted({1: 'D', 2: 'B', 3: 'B', 4: 'E', 5: 'A'})\", 'example_list = [5, 0, 6, 1, 2, 7, 3, 4]\\nresult_list = sorted(example_list, key=lambda x: x*-1)\\nprint(result_list)', 'example_list = [5, 0, 6, 1, 2, 7, 3, 4]\\nsorted(example_list, reverse=True)', \"ascii('runoob')\", 'oct(10)', \"class C(object):\\n    @staticmethod\\n    def f():\\n        print('runoob');\\nC.f();          \\ncobj = C()\\ncobj.f()        \", 'class C1(object):\\n    @staticmethod\\n    class C2(object):\\n        def __init__(self, val = 1):\\n            self.val = val\\n        def shout(self):\\n            print(\"Python世界第%d!\"%self.val)\\ntmp = C1.C2(0)\\nprint(type(tmp))    \\ntmp.shout()    ', 'bin(10)', \"eval('pow(23,2)')\", 'int()', \"int('12',16)    \", \"int('0xa',16) \", \"int('10',8)  \", \"s = 'RUNOOB'\\nstr(s)\", \"dict = {'runoob': 'runoob.com', 'google': 'google.com'};\\nstr(dict)\", 'exec(\\'print(\"Hello World\")\\')', 'exec (\"\"\"for i in range(5):\\n    print (\"iter time: %d\" % i)\\n\"\"\")\\niter time: 0\\niter time: 1\\niter time: 2\\niter time: 3\\niter time: 4', 'exec (\"\"\"for i in range(5):\\n    print (\"iter time: %d\" % i)\\n\"\"\")', 'exec(\"print (\\'runoob.com\\')\")\\nrunoob.com', 'exec(\"print (\\'runoob.com\\')\")', 'x = 10\\nexpr = \"\"\"\\nz = 30\\nsum = x + y + z\\nprint(sum)\\n\"\"\"\\ndef func():\\n    y = 20\\n    exec(expr)\\n    exec(expr, {\\'x\\': 1, \\'y\\': 2})\\n    exec(expr, {\\'x\\': 1, \\'y\\': 2}, {\\'y\\': 3, \\'z\\': 4})\\n    \\nfunc()', 'isinstance (a,(str,int,list))', 'class A:\\n    pass\\n \\nclass B(A):\\n    pass\\n \\nisinstance(A(), A)    # returns True\\ntype(A()) == A        # returns True\\nisinstance(B(), A)    # returns True\\ntype(B()) == A        # returns False', 'class A:\\n    pass\\n \\nclass B(A):\\n    pass\\n \\nisinstance(A(), A)          ', 'type(A()) == A        # returns True', 'isinstance(B(), A)    # returns True', 'type(B()) == A       ', \"ord('a')\", 'sum([0,1,2,3,4], 2)   ', 'bytearray() ', \"bytearray('runoob', 'utf-8')\", 'def is_odd(n):\\n    return n % 2 == 1\\n \\ntmplist = filter(is_odd, [1, 2, 3, 4, 5, 6, 7, 8, 9, 10])\\nnewlist = list(tmplist)\\nprint(newlist)', 'import math\\ndef is_sqr(x):\\n    return math.sqrt(x) % 1 == 0\\n \\ntmplist = filter(is_sqr, range(1, 101))\\nnewlist = list(tmplist)\\nprint(newlist)', 'class A:\\n    pass\\nclass B(A):\\n    pass\\n    \\nprint(issubclass(B,A)) ', 'import math   \\nprint (\"math.pow(100, 2) : \", math.pow(100, 2))\\nprint (\"pow(100, 2) : \", pow(100, 2))\\nprint (\"math.pow(100, -2) : \", math.pow(100, -2))\\nprint (\"math.pow(2, 4) : \", math.pow(2, 4))\\nprint (\"math.pow(3, 0) : \", math.pow(3, 0))', 'class A:\\n     def add(self, x):\\n        y = x+1\\n         print(y)\\nclass B(A):\\n    def add(self, x):\\n        super().add(x)\\nb = B()\\nb.add(2) ', 'class A:\\n     def add(self, x):\\n            y = x+1\\n            print(y)\\nclass B(A):\\n    def add(self, x):\\n        super().add(x)\\nb = B()\\nb.add(2) ', 'class FooParent(object):\\n    def __init__(self):\\n        self.parent = \\'I\\\\\\'m the parent.\\'\\n        print (\\'Parent\\')\\n    \\n    def bar(self,message):\\n        print (\"%s from Parent\" % message)\\nclass FooChild(FooParent):\\n    def __init__(self):\\n        # super(FooChild,self) 首先找到 FooChild 的父类（就是类 FooParent），然后把类 FooChild 的对象转换为类 FooParent 的对象\\n        super(FooChild,self).__init__()    \\n        print (\\'Child\\')\\n        \\n    def bar(self,message):\\n        super(FooChild, self).bar(message)\\n        print (\\'Child bar fuction\\')\\n        print (self.parent)\\nif __name__ == \\'__main__\\':\\n    fooChild = FooChild()\\n    fooChild.bar(\\'HelloWorld\\')', 'a = bytes([1,2,3,4])\\na', 'type(a)', \"a = bytes('hello','ascii')\\na\", \"type(a)\\n<class 'bytes'>\", 'type(a)', 'float(-123.6)', \"float('123')\", 'lst = [1, 2, 3]\\nfor i in iter(lst):\\n    print(i)', 'def add(a, b):\\n     return a + b\\n\\ncallable(add)    ', 'class A:                  \\n    def method(self):\\n          return 0\\ncallable(A)           ', '\"{} {}\".format(\"hello\", \"world\")   ', '\"{0} {1}\".format(\"hello\", \"world\")', '\"{1} {0} {1}\".format(\"hello\", \"world\")  ', 'print(\"网站名：{name}, 地址 {url}\".format(name=\"菜鸟教程\", url=\"www.runoob.com\"))\\n \\n# 通过字典设置参数\\nsite = {\"name\": \"菜鸟教程\", \"url\": \"www.runoob.com\"}\\nprint(\"网站名：{name}, 地址 {url}\".format(**site))\\n \\n# 通过列表索引设置参数\\nmy_list = [\\'菜鸟教程\\', \\'www.runoob.com\\']\\nprint(\"网站名：{0[0]}, 地址 {0[1]}\".format(my_list)) ', \"class AssignValue(object):\\n    def __init__(self, value):\\n        self.value = value\\nmy_value = AssignValue(6)\\nprint('value 为: {0.value}'.format(my_value))\", 'class C(object):\\n    def __init__(self):\\n        self._x = None\\n \\n    def getx(self):\\n        return self._x\\n \\n    def setx(self, value):\\n        self._x = value\\n \\n    def delx(self):\\n        del self._x\\n \\n    x = property(getx, setx, delx, \"I\\'m the \\'x\\' property.\")', 'chr(8364)', 'a = frozenset(range(10))     \\na', 'print(vars())'], '_oh': {9: 'C:\\\\Users\\\\lenovo\\\\douban\\\\douban', 11: ['DirEntry', 'F_OK', 'MutableMapping', 'O_APPEND', 'O_BINARY', 'O_CREAT', 'O_EXCL', 'O_NOINHERIT', 'O_RANDOM', 'O_RDONLY', 'O_RDWR', 'O_SEQUENTIAL', 'O_SHORT_LIVED', 'O_TEMPORARY', 'O_TEXT', 'O_TRUNC', 'O_WRONLY', 'P_DETACH', 'P_NOWAIT', 'P_NOWAITO', 'P_OVERLAY', 'P_WAIT', 'PathLike', 'R_OK', 'SEEK_CUR', 'SEEK_END', 'SEEK_SET', 'TMP_MAX', 'W_OK', 'X_OK', '_AddedDllDirectory', '_Environ', '__all__', '__builtins__', '__cached__', '__doc__', '__file__', '__loader__', '__name__', '__package__', '__spec__', '_check_methods', '_execvpe', '_exists', '_exit', '_fspath', '_get_exports_list', '_putenv', '_unsetenv', '_wrap_close', 'abc', 'abort', 'access', 'add_dll_directory', 'altsep', 'chdir', 'chmod', 'close', 'closerange', 'cpu_count', 'curdir', 'defpath', 'device_encoding', 'devnull', 'dup', 'dup2', 'environ', 'error', 'execl', 'execle', 'execlp', 'execlpe', 'execv', 'execve', 'execvp', 'execvpe', 'extsep', 'fdopen', 'fsdecode', 'fsencode', 'fspath', 'fstat', 'fsync', 'ftruncate', 'get_exec_path', 'get_handle_inheritable', 'get_inheritable', 'get_terminal_size', 'getcwd', 'getcwdb', 'getenv', 'getlogin', 'getpid', 'getppid', 'isatty', 'kill', 'linesep', 'link', 'listdir', 'lseek', 'lstat', 'makedirs', 'mkdir', 'name', 'open', 'pardir', 'path', 'pathsep', 'pipe', 'popen', 'putenv', 'read', 'readlink', 'remove', 'removedirs', 'rename', 'renames', 'replace', 'rmdir', 'scandir', 'sep', 'set_handle_inheritable', 'set_inheritable', 'spawnl', 'spawnle', 'spawnv', 'spawnve', 'st', 'startfile', 'stat', 'stat_result', 'statvfs_result', 'strerror', 'supports_bytes_environ', 'supports_dir_fd', 'supports_effective_ids', 'supports_fd', 'supports_follow_symlinks', 'symlink', 'sys', 'system', 'terminal_size', 'times', 'times_result', 'truncate', 'umask', 'uname_result', 'unlink', 'urandom', 'utime', 'waitpid', 'walk', 'write'], 20: 1, 21: 5, 22: ['A', 'In', 'Out', '_', '_11', '_20', '_21', '_9', '__', '___', '__builtin__', '__builtins__', '__doc__', '__loader__', '__name__', '__package__', '__spec__', '_dh', '_i', '_i1', '_i10', '_i11', '_i12', '_i13', '_i14', '_i15', '_i16', '_i17', '_i18', '_i19', '_i2', '_i20', '_i21', '_i22', '_i3', '_i4', '_i5', '_i6', '_i7', '_i8', '_i9', '_ih', '_ii', '_iii', '_oh', 'a', 'cmath', 'data', 'data1', 'data2', 'exit', 'f', 'fun1', 'get_ipython', 'json', 'json_str', 'num', 'num_sqrt', 'os', 'outer', 'quit', 'sum', 'test', 'total'], 23: ['__add__', '__class__', '__contains__', '__delattr__', '__delitem__', '__dir__', '__doc__', '__eq__', '__format__', '__ge__', '__getattribute__', '__getitem__', '__gt__', '__hash__', '__iadd__', '__imul__', '__init__', '__init_subclass__', '__iter__', '__le__', '__len__', '__lt__', '__mul__', '__ne__', '__new__', '__reduce__', '__reduce_ex__', '__repr__', '__reversed__', '__rmul__', '__setattr__', '__setitem__', '__sizeof__', '__str__', '__subclasshook__', 'append', 'clear', 'copy', 'count', 'extend', 'index', 'insert', 'pop', 'remove', 'reverse', 'sort'], 24: '0xff', 25: <class 'str'>, 28: slice(None, 5, None), 29: range(0, 10), 30: range(0, 5), 31: True, 32: True, 33: (4, 0), 34: 1787579598576, 35: [1, 2, 3, 4, 5], 36: [1, 2, 3, 4, 5], 37: [1, 2, 3, 4, 5], 39: [7, 6, 5, 4, 3, 2, 1, 0], 40: \"'runoob'\", 41: '0o12', 44: '0b1010', 45: 529, 46: 0, 47: 18, 48: 10, 49: 8, 50: 'RUNOOB', 51: \"{'runoob': 'runoob.com', 'google': 'google.com'}\", 58: True, 59: False, 60: True, 61: True, 62: True, 63: False, 64: 97, 66: bytearray(b''), 67: bytearray(b'runoob'), 75: b'\\x01\\x02\\x03\\x04', 76: <class 'bytes'>, 77: b'hello', 79: <class 'bytes'>, 80: -123.6, 81: 123.0, 83: True, 84: True, 85: 'hello world', 86: 'hello world', 87: 'world hello world', 91: '€', 92: frozenset({0, 1, 2, 3, 4, 5, 6, 7, 8, 9})}, '_dh': ['C:\\\\Users\\\\lenovo\\\\douban\\\\douban'], 'In': ['', \"num = float(input('请输入一个数字： '))\\nnum_sqrt = num ** 0.5\\nprint(' %0.3f 的平方根为 %0.3f'%(num ,num_sqrt))\", 'import cmath\\n \\nnum = int(input(\"请输入一个数字: \"))\\nnum_sqrt = cmath.sqrt(num)\\nprint(\\'{0} 的平方根为 {1:0.3f}+{2:0.3f}j\\'.format(num ,num_sqrt.real,num_sqrt.imag))', 'total = 30 \\ndef sum( arg1, arg2 ):\\n    total = arg1 + arg2 \\n    print (\"函数内是局部变量 : \", total)\\n    return total\\n \\nsum( 10, 20 )\\nprint (\"函数外是全局变量 : \", total)', 'num = 3\\ndef fun1():\\n    global num \\n    print(num) \\n    num = 2333\\n    print(num)\\nfun1()\\nprint(num)', 'def outer():\\n    num = 103\\n    def inner():\\n        nonlocal num   \\n        num = 1004\\n        print(num)\\n    inner()\\n    print(num)\\nouter()', 'a = 10\\ndef test():\\n    a = a + 1\\n    print(a)\\ntest()', 'a = 10\\ndef test():\\n    global a\\n    a = a + 1\\n    print(a)\\ntest()', 'a = 10\\ndef test(a):\\n    a = a + 1\\n    print(a)\\ntest(a)', 'import os\\nos.getcwd()', \"os.chdir('/server/accesslogs')  \\nos.system('mkdir today') \", 'import os\\ndir(os)', 'import json\\n \\n# Python 字典类型转换为 JSON 对象\\ndata = {\\n    \\'no\\' : 1,\\n    \\'name\\' : \\'Runoob\\',\\n    \\'url\\' : \\'http://www.runoob.com\\'\\n}\\n \\njson_str = json.dumps(data)\\nprint (\"Python 原始数据：\", repr(data))\\nprint (\"JSON 对象：\", json_str)', 'import json\\n \\ndata1 = {\\n    \\'no\\' : 1,\\n    \\'name\\' : \\'Runoob\\',\\n    \\'url\\' : \\'http://www.runoob.com\\'\\n}\\n \\njson_str = json.dumps(data1)\\nprint (\"Python 原始数据：\", repr(data1))\\nprint (\"JSON 对象：\", json_str)\\n \\ndata2 = json.loads(json_str)\\nprint (\"data2[\\'name\\']: \", data2[\\'name\\'])\\nprint (\"data2[\\'url\\']: \", data2[\\'url\\'])', \"with open('data.json', 'w') as f:\\n    json.dump(data, f)\\nwith open('data.json', 'r') as f:\\n    data = json.load(f)\", 'print (\"abs(-40) : \", abs(-40))\\nprint (\"abs(100.10) : \", abs(100.10))', 'dict（）', 'help（\"sys\"）', \"help('sys')\", 'print (\"min(0, 100, -400) : \", min(0, 100, -400))', 'class A(object):\\n    bar = 1\\na=A()\\ngetattr(a,\"bar\")', \"setattr(a, 'bar', 5)       \\na.bar\", 'dir() ', 'dir([ ]) ', 'hex(255)', 'type(hex(12))', 't = iter([1, 2, 3, 4, 5])\\n\\nwhile True:\\n    try:\\n        \\n        x = next(it)\\n        print(x)\\n    except StopIteration:\\n       \\n        break', 'it = iter([1, 2, 3, 4, 5])\\n\\nwhile True:\\n    try:\\n        \\n        x = next(it)\\n        print(x)\\n    except StopIteration:\\n       \\n        break', 'myslice = slice(5)    # 设置截取5个元素的切片\\nmyslice', 'arr = range(10)\\narr', 'arr[myslice]', \"any(['a', 'b', 'c', 'd'])\", \"any(['a', 'b', '', 'd'])\", 'divmod(8, 2)', \"a = 'runoob'\\nid(a)\", 'sorted([5, 2, 3, 1, 4])', 'a=[5,2,3,1,4]\\na.sort()\\na', \"sorted({1: 'D', 2: 'B', 3: 'B', 4: 'E', 5: 'A'})\", 'example_list = [5, 0, 6, 1, 2, 7, 3, 4]\\nresult_list = sorted(example_list, key=lambda x: x*-1)\\nprint(result_list)', 'example_list = [5, 0, 6, 1, 2, 7, 3, 4]\\nsorted(example_list, reverse=True)', \"ascii('runoob')\", 'oct(10)', \"class C(object):\\n    @staticmethod\\n    def f():\\n        print('runoob');\\nC.f();          \\ncobj = C()\\ncobj.f()        \", 'class C1(object):\\n    @staticmethod\\n    class C2(object):\\n        def __init__(self, val = 1):\\n            self.val = val\\n        def shout(self):\\n            print(\"Python世界第%d!\"%self.val)\\ntmp = C1.C2(0)\\nprint(type(tmp))    \\ntmp.shout()    ', 'bin(10)', \"eval('pow(23,2)')\", 'int()', \"int('12',16)    \", \"int('0xa',16) \", \"int('10',8)  \", \"s = 'RUNOOB'\\nstr(s)\", \"dict = {'runoob': 'runoob.com', 'google': 'google.com'};\\nstr(dict)\", 'exec(\\'print(\"Hello World\")\\')', 'exec (\"\"\"for i in range(5):\\n    print (\"iter time: %d\" % i)\\n\"\"\")\\niter time: 0\\niter time: 1\\niter time: 2\\niter time: 3\\niter time: 4', 'exec (\"\"\"for i in range(5):\\n    print (\"iter time: %d\" % i)\\n\"\"\")', 'exec(\"print (\\'runoob.com\\')\")\\nrunoob.com', 'exec(\"print (\\'runoob.com\\')\")', 'x = 10\\nexpr = \"\"\"\\nz = 30\\nsum = x + y + z\\nprint(sum)\\n\"\"\"\\ndef func():\\n    y = 20\\n    exec(expr)\\n    exec(expr, {\\'x\\': 1, \\'y\\': 2})\\n    exec(expr, {\\'x\\': 1, \\'y\\': 2}, {\\'y\\': 3, \\'z\\': 4})\\n    \\nfunc()', 'isinstance (a,(str,int,list))', 'class A:\\n    pass\\n \\nclass B(A):\\n    pass\\n \\nisinstance(A(), A)    # returns True\\ntype(A()) == A        # returns True\\nisinstance(B(), A)    # returns True\\ntype(B()) == A        # returns False', 'class A:\\n    pass\\n \\nclass B(A):\\n    pass\\n \\nisinstance(A(), A)          ', 'type(A()) == A        # returns True', 'isinstance(B(), A)    # returns True', 'type(B()) == A       ', \"ord('a')\", 'sum([0,1,2,3,4], 2)   ', 'bytearray() ', \"bytearray('runoob', 'utf-8')\", 'def is_odd(n):\\n    return n % 2 == 1\\n \\ntmplist = filter(is_odd, [1, 2, 3, 4, 5, 6, 7, 8, 9, 10])\\nnewlist = list(tmplist)\\nprint(newlist)', 'import math\\ndef is_sqr(x):\\n    return math.sqrt(x) % 1 == 0\\n \\ntmplist = filter(is_sqr, range(1, 101))\\nnewlist = list(tmplist)\\nprint(newlist)', 'class A:\\n    pass\\nclass B(A):\\n    pass\\n    \\nprint(issubclass(B,A)) ', 'import math   \\nprint (\"math.pow(100, 2) : \", math.pow(100, 2))\\nprint (\"pow(100, 2) : \", pow(100, 2))\\nprint (\"math.pow(100, -2) : \", math.pow(100, -2))\\nprint (\"math.pow(2, 4) : \", math.pow(2, 4))\\nprint (\"math.pow(3, 0) : \", math.pow(3, 0))', 'class A:\\n     def add(self, x):\\n        y = x+1\\n         print(y)\\nclass B(A):\\n    def add(self, x):\\n        super().add(x)\\nb = B()\\nb.add(2) ', 'class A:\\n     def add(self, x):\\n            y = x+1\\n            print(y)\\nclass B(A):\\n    def add(self, x):\\n        super().add(x)\\nb = B()\\nb.add(2) ', 'class FooParent(object):\\n    def __init__(self):\\n        self.parent = \\'I\\\\\\'m the parent.\\'\\n        print (\\'Parent\\')\\n    \\n    def bar(self,message):\\n        print (\"%s from Parent\" % message)\\nclass FooChild(FooParent):\\n    def __init__(self):\\n        # super(FooChild,self) 首先找到 FooChild 的父类（就是类 FooParent），然后把类 FooChild 的对象转换为类 FooParent 的对象\\n        super(FooChild,self).__init__()    \\n        print (\\'Child\\')\\n        \\n    def bar(self,message):\\n        super(FooChild, self).bar(message)\\n        print (\\'Child bar fuction\\')\\n        print (self.parent)\\nif __name__ == \\'__main__\\':\\n    fooChild = FooChild()\\n    fooChild.bar(\\'HelloWorld\\')', 'a = bytes([1,2,3,4])\\na', 'type(a)', \"a = bytes('hello','ascii')\\na\", \"type(a)\\n<class 'bytes'>\", 'type(a)', 'float(-123.6)', \"float('123')\", 'lst = [1, 2, 3]\\nfor i in iter(lst):\\n    print(i)', 'def add(a, b):\\n     return a + b\\n\\ncallable(add)    ', 'class A:                  \\n    def method(self):\\n          return 0\\ncallable(A)           ', '\"{} {}\".format(\"hello\", \"world\")   ', '\"{0} {1}\".format(\"hello\", \"world\")', '\"{1} {0} {1}\".format(\"hello\", \"world\")  ', 'print(\"网站名：{name}, 地址 {url}\".format(name=\"菜鸟教程\", url=\"www.runoob.com\"))\\n \\n# 通过字典设置参数\\nsite = {\"name\": \"菜鸟教程\", \"url\": \"www.runoob.com\"}\\nprint(\"网站名：{name}, 地址 {url}\".format(**site))\\n \\n# 通过列表索引设置参数\\nmy_list = [\\'菜鸟教程\\', \\'www.runoob.com\\']\\nprint(\"网站名：{0[0]}, 地址 {0[1]}\".format(my_list)) ', \"class AssignValue(object):\\n    def __init__(self, value):\\n        self.value = value\\nmy_value = AssignValue(6)\\nprint('value 为: {0.value}'.format(my_value))\", 'class C(object):\\n    def __init__(self):\\n        self._x = None\\n \\n    def getx(self):\\n        return self._x\\n \\n    def setx(self, value):\\n        self._x = value\\n \\n    def delx(self):\\n        del self._x\\n \\n    x = property(getx, setx, delx, \"I\\'m the \\'x\\' property.\")', 'chr(8364)', 'a = frozenset(range(10))     \\na', 'print(vars())'], 'Out': {9: 'C:\\\\Users\\\\lenovo\\\\douban\\\\douban', 11: ['DirEntry', 'F_OK', 'MutableMapping', 'O_APPEND', 'O_BINARY', 'O_CREAT', 'O_EXCL', 'O_NOINHERIT', 'O_RANDOM', 'O_RDONLY', 'O_RDWR', 'O_SEQUENTIAL', 'O_SHORT_LIVED', 'O_TEMPORARY', 'O_TEXT', 'O_TRUNC', 'O_WRONLY', 'P_DETACH', 'P_NOWAIT', 'P_NOWAITO', 'P_OVERLAY', 'P_WAIT', 'PathLike', 'R_OK', 'SEEK_CUR', 'SEEK_END', 'SEEK_SET', 'TMP_MAX', 'W_OK', 'X_OK', '_AddedDllDirectory', '_Environ', '__all__', '__builtins__', '__cached__', '__doc__', '__file__', '__loader__', '__name__', '__package__', '__spec__', '_check_methods', '_execvpe', '_exists', '_exit', '_fspath', '_get_exports_list', '_putenv', '_unsetenv', '_wrap_close', 'abc', 'abort', 'access', 'add_dll_directory', 'altsep', 'chdir', 'chmod', 'close', 'closerange', 'cpu_count', 'curdir', 'defpath', 'device_encoding', 'devnull', 'dup', 'dup2', 'environ', 'error', 'execl', 'execle', 'execlp', 'execlpe', 'execv', 'execve', 'execvp', 'execvpe', 'extsep', 'fdopen', 'fsdecode', 'fsencode', 'fspath', 'fstat', 'fsync', 'ftruncate', 'get_exec_path', 'get_handle_inheritable', 'get_inheritable', 'get_terminal_size', 'getcwd', 'getcwdb', 'getenv', 'getlogin', 'getpid', 'getppid', 'isatty', 'kill', 'linesep', 'link', 'listdir', 'lseek', 'lstat', 'makedirs', 'mkdir', 'name', 'open', 'pardir', 'path', 'pathsep', 'pipe', 'popen', 'putenv', 'read', 'readlink', 'remove', 'removedirs', 'rename', 'renames', 'replace', 'rmdir', 'scandir', 'sep', 'set_handle_inheritable', 'set_inheritable', 'spawnl', 'spawnle', 'spawnv', 'spawnve', 'st', 'startfile', 'stat', 'stat_result', 'statvfs_result', 'strerror', 'supports_bytes_environ', 'supports_dir_fd', 'supports_effective_ids', 'supports_fd', 'supports_follow_symlinks', 'symlink', 'sys', 'system', 'terminal_size', 'times', 'times_result', 'truncate', 'umask', 'uname_result', 'unlink', 'urandom', 'utime', 'waitpid', 'walk', 'write'], 20: 1, 21: 5, 22: ['A', 'In', 'Out', '_', '_11', '_20', '_21', '_9', '__', '___', '__builtin__', '__builtins__', '__doc__', '__loader__', '__name__', '__package__', '__spec__', '_dh', '_i', '_i1', '_i10', '_i11', '_i12', '_i13', '_i14', '_i15', '_i16', '_i17', '_i18', '_i19', '_i2', '_i20', '_i21', '_i22', '_i3', '_i4', '_i5', '_i6', '_i7', '_i8', '_i9', '_ih', '_ii', '_iii', '_oh', 'a', 'cmath', 'data', 'data1', 'data2', 'exit', 'f', 'fun1', 'get_ipython', 'json', 'json_str', 'num', 'num_sqrt', 'os', 'outer', 'quit', 'sum', 'test', 'total'], 23: ['__add__', '__class__', '__contains__', '__delattr__', '__delitem__', '__dir__', '__doc__', '__eq__', '__format__', '__ge__', '__getattribute__', '__getitem__', '__gt__', '__hash__', '__iadd__', '__imul__', '__init__', '__init_subclass__', '__iter__', '__le__', '__len__', '__lt__', '__mul__', '__ne__', '__new__', '__reduce__', '__reduce_ex__', '__repr__', '__reversed__', '__rmul__', '__setattr__', '__setitem__', '__sizeof__', '__str__', '__subclasshook__', 'append', 'clear', 'copy', 'count', 'extend', 'index', 'insert', 'pop', 'remove', 'reverse', 'sort'], 24: '0xff', 25: <class 'str'>, 28: slice(None, 5, None), 29: range(0, 10), 30: range(0, 5), 31: True, 32: True, 33: (4, 0), 34: 1787579598576, 35: [1, 2, 3, 4, 5], 36: [1, 2, 3, 4, 5], 37: [1, 2, 3, 4, 5], 39: [7, 6, 5, 4, 3, 2, 1, 0], 40: \"'runoob'\", 41: '0o12', 44: '0b1010', 45: 529, 46: 0, 47: 18, 48: 10, 49: 8, 50: 'RUNOOB', 51: \"{'runoob': 'runoob.com', 'google': 'google.com'}\", 58: True, 59: False, 60: True, 61: True, 62: True, 63: False, 64: 97, 66: bytearray(b''), 67: bytearray(b'runoob'), 75: b'\\x01\\x02\\x03\\x04', 76: <class 'bytes'>, 77: b'hello', 79: <class 'bytes'>, 80: -123.6, 81: 123.0, 83: True, 84: True, 85: 'hello world', 86: 'hello world', 87: 'world hello world', 91: '€', 92: frozenset({0, 1, 2, 3, 4, 5, 6, 7, 8, 9})}, 'get_ipython': <bound method InteractiveShell.get_ipython of <ipykernel.zmqshell.ZMQInteractiveShell object at 0x000001A033EF62E0>>, 'exit': <IPython.core.autocall.ZMQExitAutocall object at 0x000001A033F951F0>, 'quit': <IPython.core.autocall.ZMQExitAutocall object at 0x000001A033F951F0>, '_': frozenset({0, 1, 2, 3, 4, 5, 6, 7, 8, 9}), '__': '€', '___': 'world hello world', '_i': 'a = frozenset(range(10))     \\na', '_ii': 'chr(8364)', '_iii': 'class C(object):\\n    def __init__(self):\\n        self._x = None\\n \\n    def getx(self):\\n        return self._x\\n \\n    def setx(self, value):\\n        self._x = value\\n \\n    def delx(self):\\n        del self._x\\n \\n    x = property(getx, setx, delx, \"I\\'m the \\'x\\' property.\")', '_i1': \"num = float(input('请输入一个数字： '))\\nnum_sqrt = num ** 0.5\\nprint(' %0.3f 的平方根为 %0.3f'%(num ,num_sqrt))\", 'num': 2333, 'num_sqrt': 3.3166247903554j, '_i2': 'import cmath\\n \\nnum = int(input(\"请输入一个数字: \"))\\nnum_sqrt = cmath.sqrt(num)\\nprint(\\'{0} 的平方根为 {1:0.3f}+{2:0.3f}j\\'.format(num ,num_sqrt.real,num_sqrt.imag))', 'cmath': <module 'cmath' (built-in)>, '_i3': 'total = 30 \\ndef sum( arg1, arg2 ):\\n    total = arg1 + arg2 \\n    print (\"函数内是局部变量 : \", total)\\n    return total\\n \\nsum( 10, 20 )\\nprint (\"函数外是全局变量 : \", total)', 'total': 30, 'sum': <function sum at 0x000001A033FCECA0>, '_i4': 'num = 3\\ndef fun1():\\n    global num \\n    print(num) \\n    num = 2333\\n    print(num)\\nfun1()\\nprint(num)', 'fun1': <function fun1 at 0x000001A033FCE550>, '_i5': 'def outer():\\n    num = 103\\n    def inner():\\n        nonlocal num   \\n        num = 1004\\n        print(num)\\n    inner()\\n    print(num)\\nouter()', 'outer': <function outer at 0x000001A033FCE9D0>, '_i6': 'a = 10\\ndef test():\\n    a = a + 1\\n    print(a)\\ntest()', 'a': frozenset({0, 1, 2, 3, 4, 5, 6, 7, 8, 9}), 'test': <function test at 0x000001A0340805E0>, '_i7': 'a = 10\\ndef test():\\n    global a\\n    a = a + 1\\n    print(a)\\ntest()', '_i8': 'a = 10\\ndef test(a):\\n    a = a + 1\\n    print(a)\\ntest(a)', '_i9': 'import os\\nos.getcwd()', 'os': <module 'os' from 'D:\\\\anaconda\\\\lib\\\\os.py'>, '_9': 'C:\\\\Users\\\\lenovo\\\\douban\\\\douban', '_i10': \"os.chdir('/server/accesslogs')  \\nos.system('mkdir today') \", '_i11': 'import os\\ndir(os)', '_11': ['DirEntry', 'F_OK', 'MutableMapping', 'O_APPEND', 'O_BINARY', 'O_CREAT', 'O_EXCL', 'O_NOINHERIT', 'O_RANDOM', 'O_RDONLY', 'O_RDWR', 'O_SEQUENTIAL', 'O_SHORT_LIVED', 'O_TEMPORARY', 'O_TEXT', 'O_TRUNC', 'O_WRONLY', 'P_DETACH', 'P_NOWAIT', 'P_NOWAITO', 'P_OVERLAY', 'P_WAIT', 'PathLike', 'R_OK', 'SEEK_CUR', 'SEEK_END', 'SEEK_SET', 'TMP_MAX', 'W_OK', 'X_OK', '_AddedDllDirectory', '_Environ', '__all__', '__builtins__', '__cached__', '__doc__', '__file__', '__loader__', '__name__', '__package__', '__spec__', '_check_methods', '_execvpe', '_exists', '_exit', '_fspath', '_get_exports_list', '_putenv', '_unsetenv', '_wrap_close', 'abc', 'abort', 'access', 'add_dll_directory', 'altsep', 'chdir', 'chmod', 'close', 'closerange', 'cpu_count', 'curdir', 'defpath', 'device_encoding', 'devnull', 'dup', 'dup2', 'environ', 'error', 'execl', 'execle', 'execlp', 'execlpe', 'execv', 'execve', 'execvp', 'execvpe', 'extsep', 'fdopen', 'fsdecode', 'fsencode', 'fspath', 'fstat', 'fsync', 'ftruncate', 'get_exec_path', 'get_handle_inheritable', 'get_inheritable', 'get_terminal_size', 'getcwd', 'getcwdb', 'getenv', 'getlogin', 'getpid', 'getppid', 'isatty', 'kill', 'linesep', 'link', 'listdir', 'lseek', 'lstat', 'makedirs', 'mkdir', 'name', 'open', 'pardir', 'path', 'pathsep', 'pipe', 'popen', 'putenv', 'read', 'readlink', 'remove', 'removedirs', 'rename', 'renames', 'replace', 'rmdir', 'scandir', 'sep', 'set_handle_inheritable', 'set_inheritable', 'spawnl', 'spawnle', 'spawnv', 'spawnve', 'st', 'startfile', 'stat', 'stat_result', 'statvfs_result', 'strerror', 'supports_bytes_environ', 'supports_dir_fd', 'supports_effective_ids', 'supports_fd', 'supports_follow_symlinks', 'symlink', 'sys', 'system', 'terminal_size', 'times', 'times_result', 'truncate', 'umask', 'uname_result', 'unlink', 'urandom', 'utime', 'waitpid', 'walk', 'write'], '_i12': 'import json\\n \\n# Python 字典类型转换为 JSON 对象\\ndata = {\\n    \\'no\\' : 1,\\n    \\'name\\' : \\'Runoob\\',\\n    \\'url\\' : \\'http://www.runoob.com\\'\\n}\\n \\njson_str = json.dumps(data)\\nprint (\"Python 原始数据：\", repr(data))\\nprint (\"JSON 对象：\", json_str)', 'json': <module 'json' from 'D:\\\\anaconda\\\\lib\\\\json\\\\__init__.py'>, 'data': {'no': 1, 'name': 'Runoob', 'url': 'http://www.runoob.com'}, 'json_str': '{\"no\": 1, \"name\": \"Runoob\", \"url\": \"http://www.runoob.com\"}', '_i13': 'import json\\n \\ndata1 = {\\n    \\'no\\' : 1,\\n    \\'name\\' : \\'Runoob\\',\\n    \\'url\\' : \\'http://www.runoob.com\\'\\n}\\n \\njson_str = json.dumps(data1)\\nprint (\"Python 原始数据：\", repr(data1))\\nprint (\"JSON 对象：\", json_str)\\n \\ndata2 = json.loads(json_str)\\nprint (\"data2[\\'name\\']: \", data2[\\'name\\'])\\nprint (\"data2[\\'url\\']: \", data2[\\'url\\'])', 'data1': {'no': 1, 'name': 'Runoob', 'url': 'http://www.runoob.com'}, 'data2': {'no': 1, 'name': 'Runoob', 'url': 'http://www.runoob.com'}, '_i14': \"with open('data.json', 'w') as f:\\n    json.dump(data, f)\\nwith open('data.json', 'r') as f:\\n    data = json.load(f)\", 'f': <_io.TextIOWrapper name='data.json' mode='r' encoding='cp936'>, '_i15': 'print (\"abs(-40) : \", abs(-40))\\nprint (\"abs(100.10) : \", abs(100.10))', '_i16': 'dict（）', '_i17': 'help（\"sys\"）', '_i18': \"help('sys')\", '_i19': 'print (\"min(0, 100, -400) : \", min(0, 100, -400))', '_i20': 'class A(object):\\n    bar = 1\\na=A()\\ngetattr(a,\"bar\")', 'A': <class '__main__.A'>, '_20': 1, '_i21': \"setattr(a, 'bar', 5)       \\na.bar\", '_21': 5, '_i22': 'dir() ', '_22': ['A', 'In', 'Out', '_', '_11', '_20', '_21', '_9', '__', '___', '__builtin__', '__builtins__', '__doc__', '__loader__', '__name__', '__package__', '__spec__', '_dh', '_i', '_i1', '_i10', '_i11', '_i12', '_i13', '_i14', '_i15', '_i16', '_i17', '_i18', '_i19', '_i2', '_i20', '_i21', '_i22', '_i3', '_i4', '_i5', '_i6', '_i7', '_i8', '_i9', '_ih', '_ii', '_iii', '_oh', 'a', 'cmath', 'data', 'data1', 'data2', 'exit', 'f', 'fun1', 'get_ipython', 'json', 'json_str', 'num', 'num_sqrt', 'os', 'outer', 'quit', 'sum', 'test', 'total'], '_i23': 'dir([ ]) ', '_23': ['__add__', '__class__', '__contains__', '__delattr__', '__delitem__', '__dir__', '__doc__', '__eq__', '__format__', '__ge__', '__getattribute__', '__getitem__', '__gt__', '__hash__', '__iadd__', '__imul__', '__init__', '__init_subclass__', '__iter__', '__le__', '__len__', '__lt__', '__mul__', '__ne__', '__new__', '__reduce__', '__reduce_ex__', '__repr__', '__reversed__', '__rmul__', '__setattr__', '__setitem__', '__sizeof__', '__str__', '__subclasshook__', 'append', 'clear', 'copy', 'count', 'extend', 'index', 'insert', 'pop', 'remove', 'reverse', 'sort'], '_i24': 'hex(255)', '_24': '0xff', '_i25': 'type(hex(12))', '_25': <class 'str'>, '_i26': 't = iter([1, 2, 3, 4, 5])\\n\\nwhile True:\\n    try:\\n        \\n        x = next(it)\\n        print(x)\\n    except StopIteration:\\n       \\n        break', 't': <list_iterator object at 0x000001A0340B45E0>, '_i27': 'it = iter([1, 2, 3, 4, 5])\\n\\nwhile True:\\n    try:\\n        \\n        x = next(it)\\n        print(x)\\n    except StopIteration:\\n       \\n        break', 'it': <list_iterator object at 0x000001A0340B7160>, 'x': 10, '_i28': 'myslice = slice(5)    # 设置截取5个元素的切片\\nmyslice', 'myslice': slice(None, 5, None), '_28': slice(None, 5, None), '_i29': 'arr = range(10)\\narr', 'arr': range(0, 10), '_29': range(0, 10), '_i30': 'arr[myslice]', '_30': range(0, 5), '_i31': \"any(['a', 'b', 'c', 'd'])\", '_31': True, '_i32': \"any(['a', 'b', '', 'd'])\", '_32': True, '_i33': 'divmod(8, 2)', '_33': (4, 0), '_i34': \"a = 'runoob'\\nid(a)\", '_34': 1787579598576, '_i35': 'sorted([5, 2, 3, 1, 4])', '_35': [1, 2, 3, 4, 5], '_i36': 'a=[5,2,3,1,4]\\na.sort()\\na', '_36': [1, 2, 3, 4, 5], '_i37': \"sorted({1: 'D', 2: 'B', 3: 'B', 4: 'E', 5: 'A'})\", '_37': [1, 2, 3, 4, 5], '_i38': 'example_list = [5, 0, 6, 1, 2, 7, 3, 4]\\nresult_list = sorted(example_list, key=lambda x: x*-1)\\nprint(result_list)', 'example_list': [5, 0, 6, 1, 2, 7, 3, 4], 'result_list': [7, 6, 5, 4, 3, 2, 1, 0], '_i39': 'example_list = [5, 0, 6, 1, 2, 7, 3, 4]\\nsorted(example_list, reverse=True)', '_39': [7, 6, 5, 4, 3, 2, 1, 0], '_i40': \"ascii('runoob')\", '_40': \"'runoob'\", '_i41': 'oct(10)', '_41': '0o12', '_i42': \"class C(object):\\n    @staticmethod\\n    def f():\\n        print('runoob');\\nC.f();          \\ncobj = C()\\ncobj.f()        \", 'C': <class '__main__.C'>, 'cobj': <__main__.C object at 0x000001A0340B4970>, '_i43': 'class C1(object):\\n    @staticmethod\\n    class C2(object):\\n        def __init__(self, val = 1):\\n            self.val = val\\n        def shout(self):\\n            print(\"Python世界第%d!\"%self.val)\\ntmp = C1.C2(0)\\nprint(type(tmp))    \\ntmp.shout()    ', 'C1': <class '__main__.C1'>, 'tmp': <__main__.C1.C2 object at 0x000001A033FCBB50>, '_i44': 'bin(10)', '_44': '0b1010', '_i45': \"eval('pow(23,2)')\", '_45': 529, '_i46': 'int()', '_46': 0, '_i47': \"int('12',16)    \", '_47': 18, '_i48': \"int('0xa',16) \", '_48': 10, '_i49': \"int('10',8)  \", '_49': 8, '_i50': \"s = 'RUNOOB'\\nstr(s)\", 's': 'RUNOOB', '_50': 'RUNOOB', '_i51': \"dict = {'runoob': 'runoob.com', 'google': 'google.com'};\\nstr(dict)\", 'dict': {'runoob': 'runoob.com', 'google': 'google.com'}, '_51': \"{'runoob': 'runoob.com', 'google': 'google.com'}\", '_i52': 'exec(\\'print(\"Hello World\")\\')', '_i53': 'exec (\"\"\"for i in range(5):\\n...     print (\"iter time: %d\" % i)\\n... \"\"\")\\niter time: 0\\niter time: 1\\niter time: 2\\niter time: 3\\niter time: 4', '_i54': 'exec (\"\"\"for i in range(5):\\n...     print (\"iter time: %d\" % i)\\n... \"\"\")', 'i': 3, '_i55': 'exec(\"print (\\'runoob.com\\')\")\\nrunoob.com', '_i56': 'exec(\"print (\\'runoob.com\\')\")', '_i57': 'x = 10\\nexpr = \"\"\"\\nz = 30\\nsum = x + y + z\\nprint(sum)\\n\"\"\"\\ndef func():\\n    y = 20\\n    exec(expr)\\n    exec(expr, {\\'x\\': 1, \\'y\\': 2})\\n    exec(expr, {\\'x\\': 1, \\'y\\': 2}, {\\'y\\': 3, \\'z\\': 4})\\n    \\nfunc()', 'expr': '\\nz = 30\\nsum = x + y + z\\nprint(sum)\\n', 'func': <function func at 0x000001A0340B2310>, '_i58': 'isinstance (a,(str,int,list))', '_58': True, '_i59': 'class A:\\n    pass\\n \\nclass B(A):\\n    pass\\n \\nisinstance(A(), A)    # returns True\\ntype(A()) == A        # returns True\\nisinstance(B(), A)    # returns True\\ntype(B()) == A        # returns False', 'B': <class '__main__.B'>, '_59': False, '_i60': 'class A:\\n    pass\\n \\nclass B(A):\\n    pass\\n \\nisinstance(A(), A)          ', '_60': True, '_i61': 'type(A()) == A        # returns True', '_61': True, '_i62': 'isinstance(B(), A)    # returns True', '_62': True, '_i63': 'type(B()) == A       ', '_63': False, '_i64': \"ord('a')\", '_64': 97, '_i65': 'sum([0,1,2,3,4], 2)   ', '_i66': 'bytearray() ', '_66': bytearray(b''), '_i67': \"bytearray('runoob', 'utf-8')\", '_67': bytearray(b'runoob'), '_i68': 'def is_odd(n):\\n    return n % 2 == 1\\n \\ntmplist = filter(is_odd, [1, 2, 3, 4, 5, 6, 7, 8, 9, 10])\\nnewlist = list(tmplist)\\nprint(newlist)', 'is_odd': <function is_odd at 0x000001A0340B25E0>, 'tmplist': <filter object at 0x000001A0340A0E50>, 'newlist': [1, 4, 9, 16, 25, 36, 49, 64, 81, 100], '_i69': 'import math\\ndef is_sqr(x):\\n    return math.sqrt(x) % 1 == 0\\n \\ntmplist = filter(is_sqr, range(1, 101))\\nnewlist = list(tmplist)\\nprint(newlist)', 'math': <module 'math' (built-in)>, 'is_sqr': <function is_sqr at 0x000001A0340B2DC0>, '_i70': 'class A:\\n    pass\\nclass B(A):\\n    pass\\n    \\nprint(issubclass(B,A)) ', '_i71': 'import math   \\nprint (\"math.pow(100, 2) : \", math.pow(100, 2))\\nprint (\"pow(100, 2) : \", pow(100, 2))\\nprint (\"math.pow(100, -2) : \", math.pow(100, -2))\\nprint (\"math.pow(2, 4) : \", math.pow(2, 4))\\nprint (\"math.pow(3, 0) : \", math.pow(3, 0))', '_i72': 'class A:\\n     def add(self, x):\\n        y = x+1\\n         print(y)\\nclass B(A):\\n    def add(self, x):\\n        super().add(x)\\nb = B()\\nb.add(2) ', '_i73': 'class A:\\n     def add(self, x):\\n            y = x+1\\n            print(y)\\nclass B(A):\\n    def add(self, x):\\n        super().add(x)\\nb = B()\\nb.add(2) ', 'b': <__main__.B object at 0x000001A0340A03A0>, '_i74': 'class FooParent(object):\\n    def __init__(self):\\n        self.parent = \\'I\\\\\\'m the parent.\\'\\n        print (\\'Parent\\')\\n    \\n    def bar(self,message):\\n        print (\"%s from Parent\" % message)\\nclass FooChild(FooParent):\\n    def __init__(self):\\n        # super(FooChild,self) 首先找到 FooChild 的父类（就是类 FooParent），然后把类 FooChild 的对象转换为类 FooParent 的对象\\n        super(FooChild,self).__init__()    \\n        print (\\'Child\\')\\n        \\n    def bar(self,message):\\n        super(FooChild, self).bar(message)\\n        print (\\'Child bar fuction\\')\\n        print (self.parent)\\nif __name__ == \\'__main__\\':\\n    fooChild = FooChild()\\n    fooChild.bar(\\'HelloWorld\\')', 'FooParent': <class '__main__.FooParent'>, 'FooChild': <class '__main__.FooChild'>, 'fooChild': <__main__.FooChild object at 0x000001A0340B7EE0>, '_i75': 'a = bytes([1,2,3,4])\\na', '_75': b'\\x01\\x02\\x03\\x04', '_i76': 'type(a)', '_76': <class 'bytes'>, '_i77': \"a = bytes('hello','ascii')\\na\", '_77': b'hello', '_i78': \"type(a)\\n<class 'bytes'>\", '_i79': 'type(a)', '_79': <class 'bytes'>, '_i80': 'float(-123.6)', '_80': -123.6, '_i81': \"float('123')\", '_81': 123.0, '_i82': 'lst = [1, 2, 3]\\nfor i in iter(lst):\\n    print(i)', 'lst': [1, 2, 3], '_i83': 'def add(a, b):\\n     return a + b\\n\\ncallable(add)    ', 'add': <function add at 0x000001A0340B2670>, '_83': True, '_i84': 'class A:                  \\n    def method(self):\\n          return 0\\ncallable(A)           ', '_84': True, '_i85': '\"{} {}\".format(\"hello\", \"world\")   ', '_85': 'hello world', '_i86': '\"{0} {1}\".format(\"hello\", \"world\")', '_86': 'hello world', '_i87': '\"{1} {0} {1}\".format(\"hello\", \"world\")  ', '_87': 'world hello world', '_i88': 'print(\"网站名：{name}, 地址 {url}\".format(name=\"菜鸟教程\", url=\"www.runoob.com\"))\\n \\n# 通过字典设置参数\\nsite = {\"name\": \"菜鸟教程\", \"url\": \"www.runoob.com\"}\\nprint(\"网站名：{name}, 地址 {url}\".format(**site))\\n \\n# 通过列表索引设置参数\\nmy_list = [\\'菜鸟教程\\', \\'www.runoob.com\\']\\nprint(\"网站名：{0[0]}, 地址 {0[1]}\".format(my_list)) ', 'site': {'name': '菜鸟教程', 'url': 'www.runoob.com'}, 'my_list': ['菜鸟教程', 'www.runoob.com'], '_i89': \"class AssignValue(object):\\n    def __init__(self, value):\\n        self.value = value\\nmy_value = AssignValue(6)\\nprint('value 为: {0.value}'.format(my_value))\", 'AssignValue': <class '__main__.AssignValue'>, 'my_value': <__main__.AssignValue object at 0x000001A0340A0220>, '_i90': 'class C(object):\\n    def __init__(self):\\n        self._x = None\\n \\n    def getx(self):\\n        return self._x\\n \\n    def setx(self, value):\\n        self._x = value\\n \\n    def delx(self):\\n        del self._x\\n \\n    x = property(getx, setx, delx, \"I\\'m the \\'x\\' property.\")', '_i91': 'chr(8364)', '_91': '€', '_i92': 'a = frozenset(range(10))     \\na', '_92': frozenset({0, 1, 2, 3, 4, 5, 6, 7, 8, 9}), '_i93': 'print(vars())'}\n"
     ]
    }
   ],
   "source": [
    "print(vars())"
   ]
  },
  {
   "cell_type": "code",
   "execution_count": 94,
   "metadata": {},
   "outputs": [
    {
     "name": "stdout",
     "output_type": "stream",
     "text": [
      "func2\n",
      "1\n",
      "foo\n"
     ]
    }
   ],
   "source": [
    "class A(object):\n",
    "    bar = 1\n",
    "    def func1(self):  \n",
    "        print ('foo') \n",
    "    @classmethod\n",
    "    def func2(cls):\n",
    "        print ('func2')\n",
    "        print (cls.bar)\n",
    "        cls().func1()   \n",
    "A.func2()          "
   ]
  },
  {
   "cell_type": "code",
   "execution_count": 95,
   "metadata": {},
   "outputs": [
    {
     "name": "stdout",
     "output_type": "stream",
     "text": [
      "{'arg': 4, 'z': 1}\n"
     ]
    }
   ],
   "source": [
    "def runoob(arg):    \n",
    "        z = 1\n",
    "        print (locals())\n",
    "runoob(4)"
   ]
  },
  {
   "cell_type": "code",
   "execution_count": 96,
   "metadata": {},
   "outputs": [
    {
     "data": {
      "text/plain": [
       "\"{'runoob': 'runoob.com', 'google': 'google.com'}\""
      ]
     },
     "execution_count": 96,
     "metadata": {},
     "output_type": "execute_result"
    }
   ],
   "source": [
    "dict = {'runoob': 'runoob.com', 'google': 'google.com'};\n",
    "repr(dict)"
   ]
  },
  {
   "cell_type": "code",
   "execution_count": 97,
   "metadata": {},
   "outputs": [
    {
     "data": {
      "text/plain": [
       "<zip at 0x1a033fbc2c0>"
      ]
     },
     "execution_count": 97,
     "metadata": {},
     "output_type": "execute_result"
    }
   ],
   "source": [
    "a = [1,2,3]\n",
    "b = [4,5,6]\n",
    "c = [4,5,6,7,8]\n",
    "zipped = zip(a,b)     \n",
    "zipped"
   ]
  },
  {
   "cell_type": "code",
   "execution_count": 98,
   "metadata": {},
   "outputs": [
    {
     "data": {
      "text/plain": [
       "[(1, 4), (2, 5), (3, 6)]"
      ]
     },
     "execution_count": 98,
     "metadata": {},
     "output_type": "execute_result"
    }
   ],
   "source": [
    "list(zipped)"
   ]
  },
  {
   "cell_type": "code",
   "execution_count": 99,
   "metadata": {},
   "outputs": [
    {
     "data": {
      "text/plain": [
       "<code object <module> at 0x000001A0340E5500, file \"\", line 1>"
      ]
     },
     "execution_count": 99,
     "metadata": {},
     "output_type": "execute_result"
    }
   ],
   "source": [
    "str = \"for i in range(0,10): print(i)\" \n",
    "c = compile(str,'','exec')   \n",
    "c"
   ]
  },
  {
   "cell_type": "code",
   "execution_count": 100,
   "metadata": {},
   "outputs": [
    {
     "name": "stdout",
     "output_type": "stream",
     "text": [
      "0\n",
      "1\n",
      "2\n",
      "3\n",
      "4\n",
      "5\n",
      "6\n",
      "7\n",
      "8\n",
      "9\n"
     ]
    }
   ],
   "source": [
    "exec(c)"
   ]
  },
  {
   "cell_type": "code",
   "execution_count": 101,
   "metadata": {},
   "outputs": [
    {
     "data": {
      "text/plain": [
       "17"
      ]
     },
     "execution_count": 101,
     "metadata": {},
     "output_type": "execute_result"
    }
   ],
   "source": [
    "str = \"3 * 4 + 5\"\n",
    "a = compile(str,'','eval')\n",
    "eval(a)"
   ]
  },
  {
   "cell_type": "code",
   "execution_count": 102,
   "metadata": {},
   "outputs": [
    {
     "name": "stdout",
     "output_type": "stream",
     "text": [
      "{'__name__': '__main__', '__doc__': 'Automatically created module for IPython interactive environment', '__package__': None, '__loader__': None, '__spec__': None, '__builtin__': <module 'builtins' (built-in)>, '__builtins__': <module 'builtins' (built-in)>, '_ih': ['', \"num = float(input('请输入一个数字： '))\\nnum_sqrt = num ** 0.5\\nprint(' %0.3f 的平方根为 %0.3f'%(num ,num_sqrt))\", 'import cmath\\n \\nnum = int(input(\"请输入一个数字: \"))\\nnum_sqrt = cmath.sqrt(num)\\nprint(\\'{0} 的平方根为 {1:0.3f}+{2:0.3f}j\\'.format(num ,num_sqrt.real,num_sqrt.imag))', 'total = 30 \\ndef sum( arg1, arg2 ):\\n    total = arg1 + arg2 \\n    print (\"函数内是局部变量 : \", total)\\n    return total\\n \\nsum( 10, 20 )\\nprint (\"函数外是全局变量 : \", total)', 'num = 3\\ndef fun1():\\n    global num \\n    print(num) \\n    num = 2333\\n    print(num)\\nfun1()\\nprint(num)', 'def outer():\\n    num = 103\\n    def inner():\\n        nonlocal num   \\n        num = 1004\\n        print(num)\\n    inner()\\n    print(num)\\nouter()', 'a = 10\\ndef test():\\n    a = a + 1\\n    print(a)\\ntest()', 'a = 10\\ndef test():\\n    global a\\n    a = a + 1\\n    print(a)\\ntest()', 'a = 10\\ndef test(a):\\n    a = a + 1\\n    print(a)\\ntest(a)', 'import os\\nos.getcwd()', \"os.chdir('/server/accesslogs')  \\nos.system('mkdir today') \", 'import os\\ndir(os)', 'import json\\n \\n# Python 字典类型转换为 JSON 对象\\ndata = {\\n    \\'no\\' : 1,\\n    \\'name\\' : \\'Runoob\\',\\n    \\'url\\' : \\'http://www.runoob.com\\'\\n}\\n \\njson_str = json.dumps(data)\\nprint (\"Python 原始数据：\", repr(data))\\nprint (\"JSON 对象：\", json_str)', 'import json\\n \\ndata1 = {\\n    \\'no\\' : 1,\\n    \\'name\\' : \\'Runoob\\',\\n    \\'url\\' : \\'http://www.runoob.com\\'\\n}\\n \\njson_str = json.dumps(data1)\\nprint (\"Python 原始数据：\", repr(data1))\\nprint (\"JSON 对象：\", json_str)\\n \\ndata2 = json.loads(json_str)\\nprint (\"data2[\\'name\\']: \", data2[\\'name\\'])\\nprint (\"data2[\\'url\\']: \", data2[\\'url\\'])', \"with open('data.json', 'w') as f:\\n    json.dump(data, f)\\nwith open('data.json', 'r') as f:\\n    data = json.load(f)\", 'print (\"abs(-40) : \", abs(-40))\\nprint (\"abs(100.10) : \", abs(100.10))', 'dict（）', 'help（\"sys\"）', \"help('sys')\", 'print (\"min(0, 100, -400) : \", min(0, 100, -400))', 'class A(object):\\n    bar = 1\\na=A()\\ngetattr(a,\"bar\")', \"setattr(a, 'bar', 5)       \\na.bar\", 'dir() ', 'dir([ ]) ', 'hex(255)', 'type(hex(12))', 't = iter([1, 2, 3, 4, 5])\\n\\nwhile True:\\n    try:\\n        \\n        x = next(it)\\n        print(x)\\n    except StopIteration:\\n       \\n        break', 'it = iter([1, 2, 3, 4, 5])\\n\\nwhile True:\\n    try:\\n        \\n        x = next(it)\\n        print(x)\\n    except StopIteration:\\n       \\n        break', 'myslice = slice(5)    # 设置截取5个元素的切片\\nmyslice', 'arr = range(10)\\narr', 'arr[myslice]', \"any(['a', 'b', 'c', 'd'])\", \"any(['a', 'b', '', 'd'])\", 'divmod(8, 2)', \"a = 'runoob'\\nid(a)\", 'sorted([5, 2, 3, 1, 4])', 'a=[5,2,3,1,4]\\na.sort()\\na', \"sorted({1: 'D', 2: 'B', 3: 'B', 4: 'E', 5: 'A'})\", 'example_list = [5, 0, 6, 1, 2, 7, 3, 4]\\nresult_list = sorted(example_list, key=lambda x: x*-1)\\nprint(result_list)', 'example_list = [5, 0, 6, 1, 2, 7, 3, 4]\\nsorted(example_list, reverse=True)', \"ascii('runoob')\", 'oct(10)', \"class C(object):\\n    @staticmethod\\n    def f():\\n        print('runoob');\\nC.f();          \\ncobj = C()\\ncobj.f()        \", 'class C1(object):\\n    @staticmethod\\n    class C2(object):\\n        def __init__(self, val = 1):\\n            self.val = val\\n        def shout(self):\\n            print(\"Python世界第%d!\"%self.val)\\ntmp = C1.C2(0)\\nprint(type(tmp))    \\ntmp.shout()    ', 'bin(10)', \"eval('pow(23,2)')\", 'int()', \"int('12',16)    \", \"int('0xa',16) \", \"int('10',8)  \", \"s = 'RUNOOB'\\nstr(s)\", \"dict = {'runoob': 'runoob.com', 'google': 'google.com'};\\nstr(dict)\", 'exec(\\'print(\"Hello World\")\\')', 'exec (\"\"\"for i in range(5):\\n    print (\"iter time: %d\" % i)\\n\"\"\")\\niter time: 0\\niter time: 1\\niter time: 2\\niter time: 3\\niter time: 4', 'exec (\"\"\"for i in range(5):\\n    print (\"iter time: %d\" % i)\\n\"\"\")', 'exec(\"print (\\'runoob.com\\')\")\\nrunoob.com', 'exec(\"print (\\'runoob.com\\')\")', 'x = 10\\nexpr = \"\"\"\\nz = 30\\nsum = x + y + z\\nprint(sum)\\n\"\"\"\\ndef func():\\n    y = 20\\n    exec(expr)\\n    exec(expr, {\\'x\\': 1, \\'y\\': 2})\\n    exec(expr, {\\'x\\': 1, \\'y\\': 2}, {\\'y\\': 3, \\'z\\': 4})\\n    \\nfunc()', 'isinstance (a,(str,int,list))', 'class A:\\n    pass\\n \\nclass B(A):\\n    pass\\n \\nisinstance(A(), A)    # returns True\\ntype(A()) == A        # returns True\\nisinstance(B(), A)    # returns True\\ntype(B()) == A        # returns False', 'class A:\\n    pass\\n \\nclass B(A):\\n    pass\\n \\nisinstance(A(), A)          ', 'type(A()) == A        # returns True', 'isinstance(B(), A)    # returns True', 'type(B()) == A       ', \"ord('a')\", 'sum([0,1,2,3,4], 2)   ', 'bytearray() ', \"bytearray('runoob', 'utf-8')\", 'def is_odd(n):\\n    return n % 2 == 1\\n \\ntmplist = filter(is_odd, [1, 2, 3, 4, 5, 6, 7, 8, 9, 10])\\nnewlist = list(tmplist)\\nprint(newlist)', 'import math\\ndef is_sqr(x):\\n    return math.sqrt(x) % 1 == 0\\n \\ntmplist = filter(is_sqr, range(1, 101))\\nnewlist = list(tmplist)\\nprint(newlist)', 'class A:\\n    pass\\nclass B(A):\\n    pass\\n    \\nprint(issubclass(B,A)) ', 'import math   \\nprint (\"math.pow(100, 2) : \", math.pow(100, 2))\\nprint (\"pow(100, 2) : \", pow(100, 2))\\nprint (\"math.pow(100, -2) : \", math.pow(100, -2))\\nprint (\"math.pow(2, 4) : \", math.pow(2, 4))\\nprint (\"math.pow(3, 0) : \", math.pow(3, 0))', 'class A:\\n     def add(self, x):\\n        y = x+1\\n         print(y)\\nclass B(A):\\n    def add(self, x):\\n        super().add(x)\\nb = B()\\nb.add(2) ', 'class A:\\n     def add(self, x):\\n            y = x+1\\n            print(y)\\nclass B(A):\\n    def add(self, x):\\n        super().add(x)\\nb = B()\\nb.add(2) ', 'class FooParent(object):\\n    def __init__(self):\\n        self.parent = \\'I\\\\\\'m the parent.\\'\\n        print (\\'Parent\\')\\n    \\n    def bar(self,message):\\n        print (\"%s from Parent\" % message)\\nclass FooChild(FooParent):\\n    def __init__(self):\\n        # super(FooChild,self) 首先找到 FooChild 的父类（就是类 FooParent），然后把类 FooChild 的对象转换为类 FooParent 的对象\\n        super(FooChild,self).__init__()    \\n        print (\\'Child\\')\\n        \\n    def bar(self,message):\\n        super(FooChild, self).bar(message)\\n        print (\\'Child bar fuction\\')\\n        print (self.parent)\\nif __name__ == \\'__main__\\':\\n    fooChild = FooChild()\\n    fooChild.bar(\\'HelloWorld\\')', 'a = bytes([1,2,3,4])\\na', 'type(a)', \"a = bytes('hello','ascii')\\na\", \"type(a)\\n<class 'bytes'>\", 'type(a)', 'float(-123.6)', \"float('123')\", 'lst = [1, 2, 3]\\nfor i in iter(lst):\\n    print(i)', 'def add(a, b):\\n     return a + b\\n\\ncallable(add)    ', 'class A:                  \\n    def method(self):\\n          return 0\\ncallable(A)           ', '\"{} {}\".format(\"hello\", \"world\")   ', '\"{0} {1}\".format(\"hello\", \"world\")', '\"{1} {0} {1}\".format(\"hello\", \"world\")  ', 'print(\"网站名：{name}, 地址 {url}\".format(name=\"菜鸟教程\", url=\"www.runoob.com\"))\\n \\n# 通过字典设置参数\\nsite = {\"name\": \"菜鸟教程\", \"url\": \"www.runoob.com\"}\\nprint(\"网站名：{name}, 地址 {url}\".format(**site))\\n \\n# 通过列表索引设置参数\\nmy_list = [\\'菜鸟教程\\', \\'www.runoob.com\\']\\nprint(\"网站名：{0[0]}, 地址 {0[1]}\".format(my_list)) ', \"class AssignValue(object):\\n    def __init__(self, value):\\n        self.value = value\\nmy_value = AssignValue(6)\\nprint('value 为: {0.value}'.format(my_value))\", 'class C(object):\\n    def __init__(self):\\n        self._x = None\\n \\n    def getx(self):\\n        return self._x\\n \\n    def setx(self, value):\\n        self._x = value\\n \\n    def delx(self):\\n        del self._x\\n \\n    x = property(getx, setx, delx, \"I\\'m the \\'x\\' property.\")', 'chr(8364)', 'a = frozenset(range(10))     \\na', 'print(vars())', \"class A(object):\\n    bar = 1\\n    def func1(self):  \\n        print ('foo') \\n    @classmethod\\n    def func2(cls):\\n        print ('func2')\\n        print (cls.bar)\\n        cls().func1()   \\nA.func2()          \", 'def runoob(arg):    # 两个局部变量：arg、z\\n        z = 1\\n        print (locals())\\nrunoob(4)', \"dict = {'runoob': 'runoob.com', 'google': 'google.com'};\\nrepr(dict)\", 'a = [1,2,3]\\nb = [4,5,6]\\nc = [4,5,6,7,8]\\nzipped = zip(a,b)     \\nzipped', 'list(zipped)', 'str = \"for i in range(0,10): print(i)\" \\nc = compile(str,\\'\\',\\'exec\\')   \\nc', 'exec(c)', 'str = \"3 * 4 + 5\"\\na = compile(str,\\'\\',\\'eval\\')\\neval(a)', \"a='runoob'\\nprint(globals())\"], '_oh': {9: 'C:\\\\Users\\\\lenovo\\\\douban\\\\douban', 11: ['DirEntry', 'F_OK', 'MutableMapping', 'O_APPEND', 'O_BINARY', 'O_CREAT', 'O_EXCL', 'O_NOINHERIT', 'O_RANDOM', 'O_RDONLY', 'O_RDWR', 'O_SEQUENTIAL', 'O_SHORT_LIVED', 'O_TEMPORARY', 'O_TEXT', 'O_TRUNC', 'O_WRONLY', 'P_DETACH', 'P_NOWAIT', 'P_NOWAITO', 'P_OVERLAY', 'P_WAIT', 'PathLike', 'R_OK', 'SEEK_CUR', 'SEEK_END', 'SEEK_SET', 'TMP_MAX', 'W_OK', 'X_OK', '_AddedDllDirectory', '_Environ', '__all__', '__builtins__', '__cached__', '__doc__', '__file__', '__loader__', '__name__', '__package__', '__spec__', '_check_methods', '_execvpe', '_exists', '_exit', '_fspath', '_get_exports_list', '_putenv', '_unsetenv', '_wrap_close', 'abc', 'abort', 'access', 'add_dll_directory', 'altsep', 'chdir', 'chmod', 'close', 'closerange', 'cpu_count', 'curdir', 'defpath', 'device_encoding', 'devnull', 'dup', 'dup2', 'environ', 'error', 'execl', 'execle', 'execlp', 'execlpe', 'execv', 'execve', 'execvp', 'execvpe', 'extsep', 'fdopen', 'fsdecode', 'fsencode', 'fspath', 'fstat', 'fsync', 'ftruncate', 'get_exec_path', 'get_handle_inheritable', 'get_inheritable', 'get_terminal_size', 'getcwd', 'getcwdb', 'getenv', 'getlogin', 'getpid', 'getppid', 'isatty', 'kill', 'linesep', 'link', 'listdir', 'lseek', 'lstat', 'makedirs', 'mkdir', 'name', 'open', 'pardir', 'path', 'pathsep', 'pipe', 'popen', 'putenv', 'read', 'readlink', 'remove', 'removedirs', 'rename', 'renames', 'replace', 'rmdir', 'scandir', 'sep', 'set_handle_inheritable', 'set_inheritable', 'spawnl', 'spawnle', 'spawnv', 'spawnve', 'st', 'startfile', 'stat', 'stat_result', 'statvfs_result', 'strerror', 'supports_bytes_environ', 'supports_dir_fd', 'supports_effective_ids', 'supports_fd', 'supports_follow_symlinks', 'symlink', 'sys', 'system', 'terminal_size', 'times', 'times_result', 'truncate', 'umask', 'uname_result', 'unlink', 'urandom', 'utime', 'waitpid', 'walk', 'write'], 20: 1, 21: 5, 22: ['A', 'In', 'Out', '_', '_11', '_20', '_21', '_9', '__', '___', '__builtin__', '__builtins__', '__doc__', '__loader__', '__name__', '__package__', '__spec__', '_dh', '_i', '_i1', '_i10', '_i11', '_i12', '_i13', '_i14', '_i15', '_i16', '_i17', '_i18', '_i19', '_i2', '_i20', '_i21', '_i22', '_i3', '_i4', '_i5', '_i6', '_i7', '_i8', '_i9', '_ih', '_ii', '_iii', '_oh', 'a', 'cmath', 'data', 'data1', 'data2', 'exit', 'f', 'fun1', 'get_ipython', 'json', 'json_str', 'num', 'num_sqrt', 'os', 'outer', 'quit', 'sum', 'test', 'total'], 23: ['__add__', '__class__', '__contains__', '__delattr__', '__delitem__', '__dir__', '__doc__', '__eq__', '__format__', '__ge__', '__getattribute__', '__getitem__', '__gt__', '__hash__', '__iadd__', '__imul__', '__init__', '__init_subclass__', '__iter__', '__le__', '__len__', '__lt__', '__mul__', '__ne__', '__new__', '__reduce__', '__reduce_ex__', '__repr__', '__reversed__', '__rmul__', '__setattr__', '__setitem__', '__sizeof__', '__str__', '__subclasshook__', 'append', 'clear', 'copy', 'count', 'extend', 'index', 'insert', 'pop', 'remove', 'reverse', 'sort'], 24: '0xff', 25: <class 'str'>, 28: slice(None, 5, None), 29: range(0, 10), 30: range(0, 5), 31: True, 32: True, 33: (4, 0), 34: 1787579598576, 35: [1, 2, 3, 4, 5], 36: [1, 2, 3, 4, 5], 37: [1, 2, 3, 4, 5], 39: [7, 6, 5, 4, 3, 2, 1, 0], 40: \"'runoob'\", 41: '0o12', 44: '0b1010', 45: 529, 46: 0, 47: 18, 48: 10, 49: 8, 50: 'RUNOOB', 51: \"{'runoob': 'runoob.com', 'google': 'google.com'}\", 58: True, 59: False, 60: True, 61: True, 62: True, 63: False, 64: 97, 66: bytearray(b''), 67: bytearray(b'runoob'), 75: b'\\x01\\x02\\x03\\x04', 76: <class 'bytes'>, 77: b'hello', 79: <class 'bytes'>, 80: -123.6, 81: 123.0, 83: True, 84: True, 85: 'hello world', 86: 'hello world', 87: 'world hello world', 91: '€', 92: frozenset({0, 1, 2, 3, 4, 5, 6, 7, 8, 9}), 96: \"{'runoob': 'runoob.com', 'google': 'google.com'}\", 97: <zip object at 0x000001A033FBC2C0>, 98: [(1, 4), (2, 5), (3, 6)], 99: <code object <module> at 0x000001A0340E5500, file \"\", line 1>, 101: 17}, '_dh': ['C:\\\\Users\\\\lenovo\\\\douban\\\\douban'], 'In': ['', \"num = float(input('请输入一个数字： '))\\nnum_sqrt = num ** 0.5\\nprint(' %0.3f 的平方根为 %0.3f'%(num ,num_sqrt))\", 'import cmath\\n \\nnum = int(input(\"请输入一个数字: \"))\\nnum_sqrt = cmath.sqrt(num)\\nprint(\\'{0} 的平方根为 {1:0.3f}+{2:0.3f}j\\'.format(num ,num_sqrt.real,num_sqrt.imag))', 'total = 30 \\ndef sum( arg1, arg2 ):\\n    total = arg1 + arg2 \\n    print (\"函数内是局部变量 : \", total)\\n    return total\\n \\nsum( 10, 20 )\\nprint (\"函数外是全局变量 : \", total)', 'num = 3\\ndef fun1():\\n    global num \\n    print(num) \\n    num = 2333\\n    print(num)\\nfun1()\\nprint(num)', 'def outer():\\n    num = 103\\n    def inner():\\n        nonlocal num   \\n        num = 1004\\n        print(num)\\n    inner()\\n    print(num)\\nouter()', 'a = 10\\ndef test():\\n    a = a + 1\\n    print(a)\\ntest()', 'a = 10\\ndef test():\\n    global a\\n    a = a + 1\\n    print(a)\\ntest()', 'a = 10\\ndef test(a):\\n    a = a + 1\\n    print(a)\\ntest(a)', 'import os\\nos.getcwd()', \"os.chdir('/server/accesslogs')  \\nos.system('mkdir today') \", 'import os\\ndir(os)', 'import json\\n \\n# Python 字典类型转换为 JSON 对象\\ndata = {\\n    \\'no\\' : 1,\\n    \\'name\\' : \\'Runoob\\',\\n    \\'url\\' : \\'http://www.runoob.com\\'\\n}\\n \\njson_str = json.dumps(data)\\nprint (\"Python 原始数据：\", repr(data))\\nprint (\"JSON 对象：\", json_str)', 'import json\\n \\ndata1 = {\\n    \\'no\\' : 1,\\n    \\'name\\' : \\'Runoob\\',\\n    \\'url\\' : \\'http://www.runoob.com\\'\\n}\\n \\njson_str = json.dumps(data1)\\nprint (\"Python 原始数据：\", repr(data1))\\nprint (\"JSON 对象：\", json_str)\\n \\ndata2 = json.loads(json_str)\\nprint (\"data2[\\'name\\']: \", data2[\\'name\\'])\\nprint (\"data2[\\'url\\']: \", data2[\\'url\\'])', \"with open('data.json', 'w') as f:\\n    json.dump(data, f)\\nwith open('data.json', 'r') as f:\\n    data = json.load(f)\", 'print (\"abs(-40) : \", abs(-40))\\nprint (\"abs(100.10) : \", abs(100.10))', 'dict（）', 'help（\"sys\"）', \"help('sys')\", 'print (\"min(0, 100, -400) : \", min(0, 100, -400))', 'class A(object):\\n    bar = 1\\na=A()\\ngetattr(a,\"bar\")', \"setattr(a, 'bar', 5)       \\na.bar\", 'dir() ', 'dir([ ]) ', 'hex(255)', 'type(hex(12))', 't = iter([1, 2, 3, 4, 5])\\n\\nwhile True:\\n    try:\\n        \\n        x = next(it)\\n        print(x)\\n    except StopIteration:\\n       \\n        break', 'it = iter([1, 2, 3, 4, 5])\\n\\nwhile True:\\n    try:\\n        \\n        x = next(it)\\n        print(x)\\n    except StopIteration:\\n       \\n        break', 'myslice = slice(5)    # 设置截取5个元素的切片\\nmyslice', 'arr = range(10)\\narr', 'arr[myslice]', \"any(['a', 'b', 'c', 'd'])\", \"any(['a', 'b', '', 'd'])\", 'divmod(8, 2)', \"a = 'runoob'\\nid(a)\", 'sorted([5, 2, 3, 1, 4])', 'a=[5,2,3,1,4]\\na.sort()\\na', \"sorted({1: 'D', 2: 'B', 3: 'B', 4: 'E', 5: 'A'})\", 'example_list = [5, 0, 6, 1, 2, 7, 3, 4]\\nresult_list = sorted(example_list, key=lambda x: x*-1)\\nprint(result_list)', 'example_list = [5, 0, 6, 1, 2, 7, 3, 4]\\nsorted(example_list, reverse=True)', \"ascii('runoob')\", 'oct(10)', \"class C(object):\\n    @staticmethod\\n    def f():\\n        print('runoob');\\nC.f();          \\ncobj = C()\\ncobj.f()        \", 'class C1(object):\\n    @staticmethod\\n    class C2(object):\\n        def __init__(self, val = 1):\\n            self.val = val\\n        def shout(self):\\n            print(\"Python世界第%d!\"%self.val)\\ntmp = C1.C2(0)\\nprint(type(tmp))    \\ntmp.shout()    ', 'bin(10)', \"eval('pow(23,2)')\", 'int()', \"int('12',16)    \", \"int('0xa',16) \", \"int('10',8)  \", \"s = 'RUNOOB'\\nstr(s)\", \"dict = {'runoob': 'runoob.com', 'google': 'google.com'};\\nstr(dict)\", 'exec(\\'print(\"Hello World\")\\')', 'exec (\"\"\"for i in range(5):\\n    print (\"iter time: %d\" % i)\\n\"\"\")\\niter time: 0\\niter time: 1\\niter time: 2\\niter time: 3\\niter time: 4', 'exec (\"\"\"for i in range(5):\\n    print (\"iter time: %d\" % i)\\n\"\"\")', 'exec(\"print (\\'runoob.com\\')\")\\nrunoob.com', 'exec(\"print (\\'runoob.com\\')\")', 'x = 10\\nexpr = \"\"\"\\nz = 30\\nsum = x + y + z\\nprint(sum)\\n\"\"\"\\ndef func():\\n    y = 20\\n    exec(expr)\\n    exec(expr, {\\'x\\': 1, \\'y\\': 2})\\n    exec(expr, {\\'x\\': 1, \\'y\\': 2}, {\\'y\\': 3, \\'z\\': 4})\\n    \\nfunc()', 'isinstance (a,(str,int,list))', 'class A:\\n    pass\\n \\nclass B(A):\\n    pass\\n \\nisinstance(A(), A)    # returns True\\ntype(A()) == A        # returns True\\nisinstance(B(), A)    # returns True\\ntype(B()) == A        # returns False', 'class A:\\n    pass\\n \\nclass B(A):\\n    pass\\n \\nisinstance(A(), A)          ', 'type(A()) == A        # returns True', 'isinstance(B(), A)    # returns True', 'type(B()) == A       ', \"ord('a')\", 'sum([0,1,2,3,4], 2)   ', 'bytearray() ', \"bytearray('runoob', 'utf-8')\", 'def is_odd(n):\\n    return n % 2 == 1\\n \\ntmplist = filter(is_odd, [1, 2, 3, 4, 5, 6, 7, 8, 9, 10])\\nnewlist = list(tmplist)\\nprint(newlist)', 'import math\\ndef is_sqr(x):\\n    return math.sqrt(x) % 1 == 0\\n \\ntmplist = filter(is_sqr, range(1, 101))\\nnewlist = list(tmplist)\\nprint(newlist)', 'class A:\\n    pass\\nclass B(A):\\n    pass\\n    \\nprint(issubclass(B,A)) ', 'import math   \\nprint (\"math.pow(100, 2) : \", math.pow(100, 2))\\nprint (\"pow(100, 2) : \", pow(100, 2))\\nprint (\"math.pow(100, -2) : \", math.pow(100, -2))\\nprint (\"math.pow(2, 4) : \", math.pow(2, 4))\\nprint (\"math.pow(3, 0) : \", math.pow(3, 0))', 'class A:\\n     def add(self, x):\\n        y = x+1\\n         print(y)\\nclass B(A):\\n    def add(self, x):\\n        super().add(x)\\nb = B()\\nb.add(2) ', 'class A:\\n     def add(self, x):\\n            y = x+1\\n            print(y)\\nclass B(A):\\n    def add(self, x):\\n        super().add(x)\\nb = B()\\nb.add(2) ', 'class FooParent(object):\\n    def __init__(self):\\n        self.parent = \\'I\\\\\\'m the parent.\\'\\n        print (\\'Parent\\')\\n    \\n    def bar(self,message):\\n        print (\"%s from Parent\" % message)\\nclass FooChild(FooParent):\\n    def __init__(self):\\n        # super(FooChild,self) 首先找到 FooChild 的父类（就是类 FooParent），然后把类 FooChild 的对象转换为类 FooParent 的对象\\n        super(FooChild,self).__init__()    \\n        print (\\'Child\\')\\n        \\n    def bar(self,message):\\n        super(FooChild, self).bar(message)\\n        print (\\'Child bar fuction\\')\\n        print (self.parent)\\nif __name__ == \\'__main__\\':\\n    fooChild = FooChild()\\n    fooChild.bar(\\'HelloWorld\\')', 'a = bytes([1,2,3,4])\\na', 'type(a)', \"a = bytes('hello','ascii')\\na\", \"type(a)\\n<class 'bytes'>\", 'type(a)', 'float(-123.6)', \"float('123')\", 'lst = [1, 2, 3]\\nfor i in iter(lst):\\n    print(i)', 'def add(a, b):\\n     return a + b\\n\\ncallable(add)    ', 'class A:                  \\n    def method(self):\\n          return 0\\ncallable(A)           ', '\"{} {}\".format(\"hello\", \"world\")   ', '\"{0} {1}\".format(\"hello\", \"world\")', '\"{1} {0} {1}\".format(\"hello\", \"world\")  ', 'print(\"网站名：{name}, 地址 {url}\".format(name=\"菜鸟教程\", url=\"www.runoob.com\"))\\n \\n# 通过字典设置参数\\nsite = {\"name\": \"菜鸟教程\", \"url\": \"www.runoob.com\"}\\nprint(\"网站名：{name}, 地址 {url}\".format(**site))\\n \\n# 通过列表索引设置参数\\nmy_list = [\\'菜鸟教程\\', \\'www.runoob.com\\']\\nprint(\"网站名：{0[0]}, 地址 {0[1]}\".format(my_list)) ', \"class AssignValue(object):\\n    def __init__(self, value):\\n        self.value = value\\nmy_value = AssignValue(6)\\nprint('value 为: {0.value}'.format(my_value))\", 'class C(object):\\n    def __init__(self):\\n        self._x = None\\n \\n    def getx(self):\\n        return self._x\\n \\n    def setx(self, value):\\n        self._x = value\\n \\n    def delx(self):\\n        del self._x\\n \\n    x = property(getx, setx, delx, \"I\\'m the \\'x\\' property.\")', 'chr(8364)', 'a = frozenset(range(10))     \\na', 'print(vars())', \"class A(object):\\n    bar = 1\\n    def func1(self):  \\n        print ('foo') \\n    @classmethod\\n    def func2(cls):\\n        print ('func2')\\n        print (cls.bar)\\n        cls().func1()   \\nA.func2()          \", 'def runoob(arg):    # 两个局部变量：arg、z\\n        z = 1\\n        print (locals())\\nrunoob(4)', \"dict = {'runoob': 'runoob.com', 'google': 'google.com'};\\nrepr(dict)\", 'a = [1,2,3]\\nb = [4,5,6]\\nc = [4,5,6,7,8]\\nzipped = zip(a,b)     \\nzipped', 'list(zipped)', 'str = \"for i in range(0,10): print(i)\" \\nc = compile(str,\\'\\',\\'exec\\')   \\nc', 'exec(c)', 'str = \"3 * 4 + 5\"\\na = compile(str,\\'\\',\\'eval\\')\\neval(a)', \"a='runoob'\\nprint(globals())\"], 'Out': {9: 'C:\\\\Users\\\\lenovo\\\\douban\\\\douban', 11: ['DirEntry', 'F_OK', 'MutableMapping', 'O_APPEND', 'O_BINARY', 'O_CREAT', 'O_EXCL', 'O_NOINHERIT', 'O_RANDOM', 'O_RDONLY', 'O_RDWR', 'O_SEQUENTIAL', 'O_SHORT_LIVED', 'O_TEMPORARY', 'O_TEXT', 'O_TRUNC', 'O_WRONLY', 'P_DETACH', 'P_NOWAIT', 'P_NOWAITO', 'P_OVERLAY', 'P_WAIT', 'PathLike', 'R_OK', 'SEEK_CUR', 'SEEK_END', 'SEEK_SET', 'TMP_MAX', 'W_OK', 'X_OK', '_AddedDllDirectory', '_Environ', '__all__', '__builtins__', '__cached__', '__doc__', '__file__', '__loader__', '__name__', '__package__', '__spec__', '_check_methods', '_execvpe', '_exists', '_exit', '_fspath', '_get_exports_list', '_putenv', '_unsetenv', '_wrap_close', 'abc', 'abort', 'access', 'add_dll_directory', 'altsep', 'chdir', 'chmod', 'close', 'closerange', 'cpu_count', 'curdir', 'defpath', 'device_encoding', 'devnull', 'dup', 'dup2', 'environ', 'error', 'execl', 'execle', 'execlp', 'execlpe', 'execv', 'execve', 'execvp', 'execvpe', 'extsep', 'fdopen', 'fsdecode', 'fsencode', 'fspath', 'fstat', 'fsync', 'ftruncate', 'get_exec_path', 'get_handle_inheritable', 'get_inheritable', 'get_terminal_size', 'getcwd', 'getcwdb', 'getenv', 'getlogin', 'getpid', 'getppid', 'isatty', 'kill', 'linesep', 'link', 'listdir', 'lseek', 'lstat', 'makedirs', 'mkdir', 'name', 'open', 'pardir', 'path', 'pathsep', 'pipe', 'popen', 'putenv', 'read', 'readlink', 'remove', 'removedirs', 'rename', 'renames', 'replace', 'rmdir', 'scandir', 'sep', 'set_handle_inheritable', 'set_inheritable', 'spawnl', 'spawnle', 'spawnv', 'spawnve', 'st', 'startfile', 'stat', 'stat_result', 'statvfs_result', 'strerror', 'supports_bytes_environ', 'supports_dir_fd', 'supports_effective_ids', 'supports_fd', 'supports_follow_symlinks', 'symlink', 'sys', 'system', 'terminal_size', 'times', 'times_result', 'truncate', 'umask', 'uname_result', 'unlink', 'urandom', 'utime', 'waitpid', 'walk', 'write'], 20: 1, 21: 5, 22: ['A', 'In', 'Out', '_', '_11', '_20', '_21', '_9', '__', '___', '__builtin__', '__builtins__', '__doc__', '__loader__', '__name__', '__package__', '__spec__', '_dh', '_i', '_i1', '_i10', '_i11', '_i12', '_i13', '_i14', '_i15', '_i16', '_i17', '_i18', '_i19', '_i2', '_i20', '_i21', '_i22', '_i3', '_i4', '_i5', '_i6', '_i7', '_i8', '_i9', '_ih', '_ii', '_iii', '_oh', 'a', 'cmath', 'data', 'data1', 'data2', 'exit', 'f', 'fun1', 'get_ipython', 'json', 'json_str', 'num', 'num_sqrt', 'os', 'outer', 'quit', 'sum', 'test', 'total'], 23: ['__add__', '__class__', '__contains__', '__delattr__', '__delitem__', '__dir__', '__doc__', '__eq__', '__format__', '__ge__', '__getattribute__', '__getitem__', '__gt__', '__hash__', '__iadd__', '__imul__', '__init__', '__init_subclass__', '__iter__', '__le__', '__len__', '__lt__', '__mul__', '__ne__', '__new__', '__reduce__', '__reduce_ex__', '__repr__', '__reversed__', '__rmul__', '__setattr__', '__setitem__', '__sizeof__', '__str__', '__subclasshook__', 'append', 'clear', 'copy', 'count', 'extend', 'index', 'insert', 'pop', 'remove', 'reverse', 'sort'], 24: '0xff', 25: <class 'str'>, 28: slice(None, 5, None), 29: range(0, 10), 30: range(0, 5), 31: True, 32: True, 33: (4, 0), 34: 1787579598576, 35: [1, 2, 3, 4, 5], 36: [1, 2, 3, 4, 5], 37: [1, 2, 3, 4, 5], 39: [7, 6, 5, 4, 3, 2, 1, 0], 40: \"'runoob'\", 41: '0o12', 44: '0b1010', 45: 529, 46: 0, 47: 18, 48: 10, 49: 8, 50: 'RUNOOB', 51: \"{'runoob': 'runoob.com', 'google': 'google.com'}\", 58: True, 59: False, 60: True, 61: True, 62: True, 63: False, 64: 97, 66: bytearray(b''), 67: bytearray(b'runoob'), 75: b'\\x01\\x02\\x03\\x04', 76: <class 'bytes'>, 77: b'hello', 79: <class 'bytes'>, 80: -123.6, 81: 123.0, 83: True, 84: True, 85: 'hello world', 86: 'hello world', 87: 'world hello world', 91: '€', 92: frozenset({0, 1, 2, 3, 4, 5, 6, 7, 8, 9}), 96: \"{'runoob': 'runoob.com', 'google': 'google.com'}\", 97: <zip object at 0x000001A033FBC2C0>, 98: [(1, 4), (2, 5), (3, 6)], 99: <code object <module> at 0x000001A0340E5500, file \"\", line 1>, 101: 17}, 'get_ipython': <bound method InteractiveShell.get_ipython of <ipykernel.zmqshell.ZMQInteractiveShell object at 0x000001A033EF62E0>>, 'exit': <IPython.core.autocall.ZMQExitAutocall object at 0x000001A033F951F0>, 'quit': <IPython.core.autocall.ZMQExitAutocall object at 0x000001A033F951F0>, '_': 17, '__': <code object <module> at 0x000001A0340E5500, file \"\", line 1>, '___': [(1, 4), (2, 5), (3, 6)], '_i': 'str = \"3 * 4 + 5\"\\na = compile(str,\\'\\',\\'eval\\')\\neval(a)', '_ii': 'exec(c)', '_iii': 'str = \"for i in range(0,10): print(i)\" \\nc = compile(str,\\'\\',\\'exec\\')   \\nc', '_i1': \"num = float(input('请输入一个数字： '))\\nnum_sqrt = num ** 0.5\\nprint(' %0.3f 的平方根为 %0.3f'%(num ,num_sqrt))\", 'num': 2333, 'num_sqrt': 3.3166247903554j, '_i2': 'import cmath\\n \\nnum = int(input(\"请输入一个数字: \"))\\nnum_sqrt = cmath.sqrt(num)\\nprint(\\'{0} 的平方根为 {1:0.3f}+{2:0.3f}j\\'.format(num ,num_sqrt.real,num_sqrt.imag))', 'cmath': <module 'cmath' (built-in)>, '_i3': 'total = 30 \\ndef sum( arg1, arg2 ):\\n    total = arg1 + arg2 \\n    print (\"函数内是局部变量 : \", total)\\n    return total\\n \\nsum( 10, 20 )\\nprint (\"函数外是全局变量 : \", total)', 'total': 30, 'sum': <function sum at 0x000001A033FCECA0>, '_i4': 'num = 3\\ndef fun1():\\n    global num \\n    print(num) \\n    num = 2333\\n    print(num)\\nfun1()\\nprint(num)', 'fun1': <function fun1 at 0x000001A033FCE550>, '_i5': 'def outer():\\n    num = 103\\n    def inner():\\n        nonlocal num   \\n        num = 1004\\n        print(num)\\n    inner()\\n    print(num)\\nouter()', 'outer': <function outer at 0x000001A033FCE9D0>, '_i6': 'a = 10\\ndef test():\\n    a = a + 1\\n    print(a)\\ntest()', 'a': 'runoob', 'test': <function test at 0x000001A0340805E0>, '_i7': 'a = 10\\ndef test():\\n    global a\\n    a = a + 1\\n    print(a)\\ntest()', '_i8': 'a = 10\\ndef test(a):\\n    a = a + 1\\n    print(a)\\ntest(a)', '_i9': 'import os\\nos.getcwd()', 'os': <module 'os' from 'D:\\\\anaconda\\\\lib\\\\os.py'>, '_9': 'C:\\\\Users\\\\lenovo\\\\douban\\\\douban', '_i10': \"os.chdir('/server/accesslogs')  \\nos.system('mkdir today') \", '_i11': 'import os\\ndir(os)', '_11': ['DirEntry', 'F_OK', 'MutableMapping', 'O_APPEND', 'O_BINARY', 'O_CREAT', 'O_EXCL', 'O_NOINHERIT', 'O_RANDOM', 'O_RDONLY', 'O_RDWR', 'O_SEQUENTIAL', 'O_SHORT_LIVED', 'O_TEMPORARY', 'O_TEXT', 'O_TRUNC', 'O_WRONLY', 'P_DETACH', 'P_NOWAIT', 'P_NOWAITO', 'P_OVERLAY', 'P_WAIT', 'PathLike', 'R_OK', 'SEEK_CUR', 'SEEK_END', 'SEEK_SET', 'TMP_MAX', 'W_OK', 'X_OK', '_AddedDllDirectory', '_Environ', '__all__', '__builtins__', '__cached__', '__doc__', '__file__', '__loader__', '__name__', '__package__', '__spec__', '_check_methods', '_execvpe', '_exists', '_exit', '_fspath', '_get_exports_list', '_putenv', '_unsetenv', '_wrap_close', 'abc', 'abort', 'access', 'add_dll_directory', 'altsep', 'chdir', 'chmod', 'close', 'closerange', 'cpu_count', 'curdir', 'defpath', 'device_encoding', 'devnull', 'dup', 'dup2', 'environ', 'error', 'execl', 'execle', 'execlp', 'execlpe', 'execv', 'execve', 'execvp', 'execvpe', 'extsep', 'fdopen', 'fsdecode', 'fsencode', 'fspath', 'fstat', 'fsync', 'ftruncate', 'get_exec_path', 'get_handle_inheritable', 'get_inheritable', 'get_terminal_size', 'getcwd', 'getcwdb', 'getenv', 'getlogin', 'getpid', 'getppid', 'isatty', 'kill', 'linesep', 'link', 'listdir', 'lseek', 'lstat', 'makedirs', 'mkdir', 'name', 'open', 'pardir', 'path', 'pathsep', 'pipe', 'popen', 'putenv', 'read', 'readlink', 'remove', 'removedirs', 'rename', 'renames', 'replace', 'rmdir', 'scandir', 'sep', 'set_handle_inheritable', 'set_inheritable', 'spawnl', 'spawnle', 'spawnv', 'spawnve', 'st', 'startfile', 'stat', 'stat_result', 'statvfs_result', 'strerror', 'supports_bytes_environ', 'supports_dir_fd', 'supports_effective_ids', 'supports_fd', 'supports_follow_symlinks', 'symlink', 'sys', 'system', 'terminal_size', 'times', 'times_result', 'truncate', 'umask', 'uname_result', 'unlink', 'urandom', 'utime', 'waitpid', 'walk', 'write'], '_i12': 'import json\\n \\n# Python 字典类型转换为 JSON 对象\\ndata = {\\n    \\'no\\' : 1,\\n    \\'name\\' : \\'Runoob\\',\\n    \\'url\\' : \\'http://www.runoob.com\\'\\n}\\n \\njson_str = json.dumps(data)\\nprint (\"Python 原始数据：\", repr(data))\\nprint (\"JSON 对象：\", json_str)', 'json': <module 'json' from 'D:\\\\anaconda\\\\lib\\\\json\\\\__init__.py'>, 'data': {'no': 1, 'name': 'Runoob', 'url': 'http://www.runoob.com'}, 'json_str': '{\"no\": 1, \"name\": \"Runoob\", \"url\": \"http://www.runoob.com\"}', '_i13': 'import json\\n \\ndata1 = {\\n    \\'no\\' : 1,\\n    \\'name\\' : \\'Runoob\\',\\n    \\'url\\' : \\'http://www.runoob.com\\'\\n}\\n \\njson_str = json.dumps(data1)\\nprint (\"Python 原始数据：\", repr(data1))\\nprint (\"JSON 对象：\", json_str)\\n \\ndata2 = json.loads(json_str)\\nprint (\"data2[\\'name\\']: \", data2[\\'name\\'])\\nprint (\"data2[\\'url\\']: \", data2[\\'url\\'])', 'data1': {'no': 1, 'name': 'Runoob', 'url': 'http://www.runoob.com'}, 'data2': {'no': 1, 'name': 'Runoob', 'url': 'http://www.runoob.com'}, '_i14': \"with open('data.json', 'w') as f:\\n    json.dump(data, f)\\nwith open('data.json', 'r') as f:\\n    data = json.load(f)\", 'f': <_io.TextIOWrapper name='data.json' mode='r' encoding='cp936'>, '_i15': 'print (\"abs(-40) : \", abs(-40))\\nprint (\"abs(100.10) : \", abs(100.10))', '_i16': 'dict（）', '_i17': 'help（\"sys\"）', '_i18': \"help('sys')\", '_i19': 'print (\"min(0, 100, -400) : \", min(0, 100, -400))', '_i20': 'class A(object):\\n    bar = 1\\na=A()\\ngetattr(a,\"bar\")', 'A': <class '__main__.A'>, '_20': 1, '_i21': \"setattr(a, 'bar', 5)       \\na.bar\", '_21': 5, '_i22': 'dir() ', '_22': ['A', 'In', 'Out', '_', '_11', '_20', '_21', '_9', '__', '___', '__builtin__', '__builtins__', '__doc__', '__loader__', '__name__', '__package__', '__spec__', '_dh', '_i', '_i1', '_i10', '_i11', '_i12', '_i13', '_i14', '_i15', '_i16', '_i17', '_i18', '_i19', '_i2', '_i20', '_i21', '_i22', '_i3', '_i4', '_i5', '_i6', '_i7', '_i8', '_i9', '_ih', '_ii', '_iii', '_oh', 'a', 'cmath', 'data', 'data1', 'data2', 'exit', 'f', 'fun1', 'get_ipython', 'json', 'json_str', 'num', 'num_sqrt', 'os', 'outer', 'quit', 'sum', 'test', 'total'], '_i23': 'dir([ ]) ', '_23': ['__add__', '__class__', '__contains__', '__delattr__', '__delitem__', '__dir__', '__doc__', '__eq__', '__format__', '__ge__', '__getattribute__', '__getitem__', '__gt__', '__hash__', '__iadd__', '__imul__', '__init__', '__init_subclass__', '__iter__', '__le__', '__len__', '__lt__', '__mul__', '__ne__', '__new__', '__reduce__', '__reduce_ex__', '__repr__', '__reversed__', '__rmul__', '__setattr__', '__setitem__', '__sizeof__', '__str__', '__subclasshook__', 'append', 'clear', 'copy', 'count', 'extend', 'index', 'insert', 'pop', 'remove', 'reverse', 'sort'], '_i24': 'hex(255)', '_24': '0xff', '_i25': 'type(hex(12))', '_25': <class 'str'>, '_i26': 't = iter([1, 2, 3, 4, 5])\\n\\nwhile True:\\n    try:\\n        \\n        x = next(it)\\n        print(x)\\n    except StopIteration:\\n       \\n        break', 't': <list_iterator object at 0x000001A0340B45E0>, '_i27': 'it = iter([1, 2, 3, 4, 5])\\n\\nwhile True:\\n    try:\\n        \\n        x = next(it)\\n        print(x)\\n    except StopIteration:\\n       \\n        break', 'it': <list_iterator object at 0x000001A0340B7160>, 'x': 10, '_i28': 'myslice = slice(5)    # 设置截取5个元素的切片\\nmyslice', 'myslice': slice(None, 5, None), '_28': slice(None, 5, None), '_i29': 'arr = range(10)\\narr', 'arr': range(0, 10), '_29': range(0, 10), '_i30': 'arr[myslice]', '_30': range(0, 5), '_i31': \"any(['a', 'b', 'c', 'd'])\", '_31': True, '_i32': \"any(['a', 'b', '', 'd'])\", '_32': True, '_i33': 'divmod(8, 2)', '_33': (4, 0), '_i34': \"a = 'runoob'\\nid(a)\", '_34': 1787579598576, '_i35': 'sorted([5, 2, 3, 1, 4])', '_35': [1, 2, 3, 4, 5], '_i36': 'a=[5,2,3,1,4]\\na.sort()\\na', '_36': [1, 2, 3, 4, 5], '_i37': \"sorted({1: 'D', 2: 'B', 3: 'B', 4: 'E', 5: 'A'})\", '_37': [1, 2, 3, 4, 5], '_i38': 'example_list = [5, 0, 6, 1, 2, 7, 3, 4]\\nresult_list = sorted(example_list, key=lambda x: x*-1)\\nprint(result_list)', 'example_list': [5, 0, 6, 1, 2, 7, 3, 4], 'result_list': [7, 6, 5, 4, 3, 2, 1, 0], '_i39': 'example_list = [5, 0, 6, 1, 2, 7, 3, 4]\\nsorted(example_list, reverse=True)', '_39': [7, 6, 5, 4, 3, 2, 1, 0], '_i40': \"ascii('runoob')\", '_40': \"'runoob'\", '_i41': 'oct(10)', '_41': '0o12', '_i42': \"class C(object):\\n    @staticmethod\\n    def f():\\n        print('runoob');\\nC.f();          \\ncobj = C()\\ncobj.f()        \", 'C': <class '__main__.C'>, 'cobj': <__main__.C object at 0x000001A0340B4970>, '_i43': 'class C1(object):\\n    @staticmethod\\n    class C2(object):\\n        def __init__(self, val = 1):\\n            self.val = val\\n        def shout(self):\\n            print(\"Python世界第%d!\"%self.val)\\ntmp = C1.C2(0)\\nprint(type(tmp))    \\ntmp.shout()    ', 'C1': <class '__main__.C1'>, 'tmp': <__main__.C1.C2 object at 0x000001A033FCBB50>, '_i44': 'bin(10)', '_44': '0b1010', '_i45': \"eval('pow(23,2)')\", '_45': 529, '_i46': 'int()', '_46': 0, '_i47': \"int('12',16)    \", '_47': 18, '_i48': \"int('0xa',16) \", '_48': 10, '_i49': \"int('10',8)  \", '_49': 8, '_i50': \"s = 'RUNOOB'\\nstr(s)\", 's': 'RUNOOB', '_50': 'RUNOOB', '_i51': \"dict = {'runoob': 'runoob.com', 'google': 'google.com'};\\nstr(dict)\", 'dict': {'runoob': 'runoob.com', 'google': 'google.com'}, '_51': \"{'runoob': 'runoob.com', 'google': 'google.com'}\", '_i52': 'exec(\\'print(\"Hello World\")\\')', '_i53': 'exec (\"\"\"for i in range(5):\\n...     print (\"iter time: %d\" % i)\\n... \"\"\")\\niter time: 0\\niter time: 1\\niter time: 2\\niter time: 3\\niter time: 4', '_i54': 'exec (\"\"\"for i in range(5):\\n...     print (\"iter time: %d\" % i)\\n... \"\"\")', 'i': 9, '_i55': 'exec(\"print (\\'runoob.com\\')\")\\nrunoob.com', '_i56': 'exec(\"print (\\'runoob.com\\')\")', '_i57': 'x = 10\\nexpr = \"\"\"\\nz = 30\\nsum = x + y + z\\nprint(sum)\\n\"\"\"\\ndef func():\\n    y = 20\\n    exec(expr)\\n    exec(expr, {\\'x\\': 1, \\'y\\': 2})\\n    exec(expr, {\\'x\\': 1, \\'y\\': 2}, {\\'y\\': 3, \\'z\\': 4})\\n    \\nfunc()', 'expr': '\\nz = 30\\nsum = x + y + z\\nprint(sum)\\n', 'func': <function func at 0x000001A0340B2310>, '_i58': 'isinstance (a,(str,int,list))', '_58': True, '_i59': 'class A:\\n    pass\\n \\nclass B(A):\\n    pass\\n \\nisinstance(A(), A)    # returns True\\ntype(A()) == A        # returns True\\nisinstance(B(), A)    # returns True\\ntype(B()) == A        # returns False', 'B': <class '__main__.B'>, '_59': False, '_i60': 'class A:\\n    pass\\n \\nclass B(A):\\n    pass\\n \\nisinstance(A(), A)          ', '_60': True, '_i61': 'type(A()) == A        # returns True', '_61': True, '_i62': 'isinstance(B(), A)    # returns True', '_62': True, '_i63': 'type(B()) == A       ', '_63': False, '_i64': \"ord('a')\", '_64': 97, '_i65': 'sum([0,1,2,3,4], 2)   ', '_i66': 'bytearray() ', '_66': bytearray(b''), '_i67': \"bytearray('runoob', 'utf-8')\", '_67': bytearray(b'runoob'), '_i68': 'def is_odd(n):\\n    return n % 2 == 1\\n \\ntmplist = filter(is_odd, [1, 2, 3, 4, 5, 6, 7, 8, 9, 10])\\nnewlist = list(tmplist)\\nprint(newlist)', 'is_odd': <function is_odd at 0x000001A0340B25E0>, 'tmplist': <filter object at 0x000001A0340A0E50>, 'newlist': [1, 4, 9, 16, 25, 36, 49, 64, 81, 100], '_i69': 'import math\\ndef is_sqr(x):\\n    return math.sqrt(x) % 1 == 0\\n \\ntmplist = filter(is_sqr, range(1, 101))\\nnewlist = list(tmplist)\\nprint(newlist)', 'math': <module 'math' (built-in)>, 'is_sqr': <function is_sqr at 0x000001A0340B2DC0>, '_i70': 'class A:\\n    pass\\nclass B(A):\\n    pass\\n    \\nprint(issubclass(B,A)) ', '_i71': 'import math   \\nprint (\"math.pow(100, 2) : \", math.pow(100, 2))\\nprint (\"pow(100, 2) : \", pow(100, 2))\\nprint (\"math.pow(100, -2) : \", math.pow(100, -2))\\nprint (\"math.pow(2, 4) : \", math.pow(2, 4))\\nprint (\"math.pow(3, 0) : \", math.pow(3, 0))', '_i72': 'class A:\\n     def add(self, x):\\n        y = x+1\\n         print(y)\\nclass B(A):\\n    def add(self, x):\\n        super().add(x)\\nb = B()\\nb.add(2) ', '_i73': 'class A:\\n     def add(self, x):\\n            y = x+1\\n            print(y)\\nclass B(A):\\n    def add(self, x):\\n        super().add(x)\\nb = B()\\nb.add(2) ', 'b': [4, 5, 6], '_i74': 'class FooParent(object):\\n    def __init__(self):\\n        self.parent = \\'I\\\\\\'m the parent.\\'\\n        print (\\'Parent\\')\\n    \\n    def bar(self,message):\\n        print (\"%s from Parent\" % message)\\nclass FooChild(FooParent):\\n    def __init__(self):\\n        # super(FooChild,self) 首先找到 FooChild 的父类（就是类 FooParent），然后把类 FooChild 的对象转换为类 FooParent 的对象\\n        super(FooChild,self).__init__()    \\n        print (\\'Child\\')\\n        \\n    def bar(self,message):\\n        super(FooChild, self).bar(message)\\n        print (\\'Child bar fuction\\')\\n        print (self.parent)\\nif __name__ == \\'__main__\\':\\n    fooChild = FooChild()\\n    fooChild.bar(\\'HelloWorld\\')', 'FooParent': <class '__main__.FooParent'>, 'FooChild': <class '__main__.FooChild'>, 'fooChild': <__main__.FooChild object at 0x000001A0340B7EE0>, '_i75': 'a = bytes([1,2,3,4])\\na', '_75': b'\\x01\\x02\\x03\\x04', '_i76': 'type(a)', '_76': <class 'bytes'>, '_i77': \"a = bytes('hello','ascii')\\na\", '_77': b'hello', '_i78': \"type(a)\\n<class 'bytes'>\", '_i79': 'type(a)', '_79': <class 'bytes'>, '_i80': 'float(-123.6)', '_80': -123.6, '_i81': \"float('123')\", '_81': 123.0, '_i82': 'lst = [1, 2, 3]\\nfor i in iter(lst):\\n    print(i)', 'lst': [1, 2, 3], '_i83': 'def add(a, b):\\n     return a + b\\n\\ncallable(add)    ', 'add': <function add at 0x000001A0340B2670>, '_83': True, '_i84': 'class A:                  \\n    def method(self):\\n          return 0\\ncallable(A)           ', '_84': True, '_i85': '\"{} {}\".format(\"hello\", \"world\")   ', '_85': 'hello world', '_i86': '\"{0} {1}\".format(\"hello\", \"world\")', '_86': 'hello world', '_i87': '\"{1} {0} {1}\".format(\"hello\", \"world\")  ', '_87': 'world hello world', '_i88': 'print(\"网站名：{name}, 地址 {url}\".format(name=\"菜鸟教程\", url=\"www.runoob.com\"))\\n \\n# 通过字典设置参数\\nsite = {\"name\": \"菜鸟教程\", \"url\": \"www.runoob.com\"}\\nprint(\"网站名：{name}, 地址 {url}\".format(**site))\\n \\n# 通过列表索引设置参数\\nmy_list = [\\'菜鸟教程\\', \\'www.runoob.com\\']\\nprint(\"网站名：{0[0]}, 地址 {0[1]}\".format(my_list)) ', 'site': {'name': '菜鸟教程', 'url': 'www.runoob.com'}, 'my_list': ['菜鸟教程', 'www.runoob.com'], '_i89': \"class AssignValue(object):\\n    def __init__(self, value):\\n        self.value = value\\nmy_value = AssignValue(6)\\nprint('value 为: {0.value}'.format(my_value))\", 'AssignValue': <class '__main__.AssignValue'>, 'my_value': <__main__.AssignValue object at 0x000001A0340A0220>, '_i90': 'class C(object):\\n    def __init__(self):\\n        self._x = None\\n \\n    def getx(self):\\n        return self._x\\n \\n    def setx(self, value):\\n        self._x = value\\n \\n    def delx(self):\\n        del self._x\\n \\n    x = property(getx, setx, delx, \"I\\'m the \\'x\\' property.\")', '_i91': 'chr(8364)', '_91': '€', '_i92': 'a = frozenset(range(10))     \\na', '_92': frozenset({0, 1, 2, 3, 4, 5, 6, 7, 8, 9}), '_i93': 'print(vars())', '_i94': \"class A(object):\\n    bar = 1\\n    def func1(self):  \\n        print ('foo') \\n    @classmethod\\n    def func2(cls):\\n        print ('func2')\\n        print (cls.bar)\\n        cls().func1()   \\nA.func2()          \", '_i95': 'def runoob(arg):    # 两个局部变量：arg、z\\n        z = 1\\n        print (locals())\\nrunoob(4)', 'runoob': <function runoob at 0x000001A0340B2160>, '_i96': \"dict = {'runoob': 'runoob.com', 'google': 'google.com'};\\nrepr(dict)\", '_96': \"{'runoob': 'runoob.com', 'google': 'google.com'}\", '_i97': 'a = [1,2,3]\\nb = [4,5,6]\\nc = [4,5,6,7,8]\\nzipped = zip(a,b)     \\nzipped', 'c': <code object <module> at 0x000001A0340E5500, file \"\", line 1>, 'zipped': <zip object at 0x000001A033FBC2C0>, '_97': <zip object at 0x000001A033FBC2C0>, '_i98': 'list(zipped)', '_98': [(1, 4), (2, 5), (3, 6)], '_i99': 'str = \"for i in range(0,10): print(i)\" \\nc = compile(str,\\'\\',\\'exec\\')   \\nc', 'str': '3 * 4 + 5', '_99': <code object <module> at 0x000001A0340E5500, file \"\", line 1>, '_i100': 'exec(c)', '_i101': 'str = \"3 * 4 + 5\"\\na = compile(str,\\'\\',\\'eval\\')\\neval(a)', '_101': 17, '_i102': \"a='runoob'\\nprint(globals())\"}\n"
     ]
    }
   ],
   "source": [
    "a='runoob'\n",
    "print(globals())"
   ]
  },
  {
   "cell_type": "code",
   "execution_count": 103,
   "metadata": {},
   "outputs": [
    {
     "data": {
      "text/plain": [
       "<map at 0x1a0340a00a0>"
      ]
     },
     "execution_count": 103,
     "metadata": {},
     "output_type": "execute_result"
    }
   ],
   "source": [
    "def square(x) :            \n",
    "     return x ** 2\n",
    "\n",
    "map(square, [1,2,3,4,5])"
   ]
  },
  {
   "cell_type": "code",
   "execution_count": 104,
   "metadata": {},
   "outputs": [
    {
     "data": {
      "text/plain": [
       "<map at 0x1a0340b7a60>"
      ]
     },
     "execution_count": 104,
     "metadata": {},
     "output_type": "execute_result"
    }
   ],
   "source": [
    "map(lambda x: x ** 2, [1, 2, 3, 4, 5])"
   ]
  },
  {
   "cell_type": "code",
   "execution_count": 105,
   "metadata": {},
   "outputs": [
    {
     "data": {
      "text/plain": [
       "<map at 0x1a0340b7850>"
      ]
     },
     "execution_count": 105,
     "metadata": {},
     "output_type": "execute_result"
    }
   ],
   "source": [
    "map(square, [1,2,3,4,5])"
   ]
  },
  {
   "cell_type": "code",
   "execution_count": 106,
   "metadata": {},
   "outputs": [
    {
     "data": {
      "text/plain": [
       "<map at 0x1a0340b7610>"
      ]
     },
     "execution_count": 106,
     "metadata": {},
     "output_type": "execute_result"
    }
   ],
   "source": [
    "map(lambda x, y: x + y, [1, 3, 5, 7, 9], [2, 4, 6, 8, 10])"
   ]
  },
  {
   "cell_type": "code",
   "execution_count": 107,
   "metadata": {},
   "outputs": [
    {
     "name": "stdout",
     "output_type": "stream",
     "text": [
      "['b', 'o', 'o', 'n', 'u', 'R']\n",
      "['b', 'o', 'o', 'n', 'u', 'R']\n",
      "[8, 7, 6, 5]\n",
      "[5, 3, 4, 2, 1]\n"
     ]
    }
   ],
   "source": [
    "seqString = 'Runoob'\n",
    "print(list(reversed(seqString)))\n",
    " \n",
    "seqTuple = ('R', 'u', 'n', 'o', 'o', 'b')\n",
    "print(list(reversed(seqTuple)))\n",
    "\n",
    "seqRange = range(5, 9)\n",
    "print(list(reversed(seqRange)))\n",
    " \n",
    "seqList = [1, 2, 4, 3, 5]\n",
    "print(list(reversed(seqList)))"
   ]
  },
  {
   "cell_type": "code",
   "execution_count": 108,
   "metadata": {},
   "outputs": [
    {
     "name": "stdout",
     "output_type": "stream",
     "text": [
      "在 a.py 文件中 1787537247424\n"
     ]
    }
   ],
   "source": [
    "import os  \n",
    " \n",
    "print ('在 a.py 文件中 %s' % id(os))"
   ]
  },
  {
   "cell_type": "code",
   "execution_count": 113,
   "metadata": {},
   "outputs": [
    {
     "name": "stdout",
     "output_type": "stream",
     "text": [
      "round(70.23456) :  70\n",
      "round(56.659,1) :  56.7\n",
      "round(80.264, 2) :  80.26\n",
      "round(100.000056, 3) :  100.0\n",
      "round(-100.000056, 3) :  -100.0\n"
     ]
    }
   ],
   "source": [
    "print (\"round(70.23456) : \", round(70.23456))\n",
    "print (\"round(56.659,1) : \", round(56.659,1))\n",
    "print (\"round(80.264, 2) : \", round(80.264, 2))\n",
    "print (\"round(100.000056, 3) : \", round(100.000056, 3))\n",
    "print (\"round(-100.000056, 3) : \", round(-100.000056, 3))"
   ]
  },
  {
   "cell_type": "code",
   "execution_count": 114,
   "metadata": {},
   "outputs": [
    {
     "name": "stdout",
     "output_type": "stream",
     "text": [
      "x =  10\n",
      "y =  -5\n",
      "z =  0\n",
      "--删除 z 属性后--\n",
      "x =  10\n",
      "y =  -5\n"
     ]
    },
    {
     "ename": "AttributeError",
     "evalue": "'Coordinate' object has no attribute 'z'",
     "output_type": "error",
     "traceback": [
      "\u001b[1;31m---------------------------------------------------------------------------\u001b[0m",
      "\u001b[1;31mAttributeError\u001b[0m                            Traceback (most recent call last)",
      "\u001b[1;32m<ipython-input-114-506a631c46d0>\u001b[0m in \u001b[0;36m<module>\u001b[1;34m\u001b[0m\n\u001b[0;32m     17\u001b[0m \u001b[0mprint\u001b[0m\u001b[1;33m(\u001b[0m\u001b[1;34m'y = '\u001b[0m\u001b[1;33m,\u001b[0m\u001b[0mpoint1\u001b[0m\u001b[1;33m.\u001b[0m\u001b[0my\u001b[0m\u001b[1;33m)\u001b[0m\u001b[1;33m\u001b[0m\u001b[1;33m\u001b[0m\u001b[0m\n\u001b[0;32m     18\u001b[0m \u001b[1;33m\u001b[0m\u001b[0m\n\u001b[1;32m---> 19\u001b[1;33m \u001b[0mprint\u001b[0m\u001b[1;33m(\u001b[0m\u001b[1;34m'z = '\u001b[0m\u001b[1;33m,\u001b[0m\u001b[0mpoint1\u001b[0m\u001b[1;33m.\u001b[0m\u001b[0mz\u001b[0m\u001b[1;33m)\u001b[0m\u001b[1;33m\u001b[0m\u001b[1;33m\u001b[0m\u001b[0m\n\u001b[0m",
      "\u001b[1;31mAttributeError\u001b[0m: 'Coordinate' object has no attribute 'z'"
     ]
    }
   ],
   "source": [
    "class Coordinate:\n",
    "    x = 10\n",
    "    y = -5\n",
    "    z = 0\n",
    "\n",
    "\n",
    "point1 = Coordinate() \n",
    " \n",
    "print('x = ',point1.x)\n",
    "print('y = ',point1.y)\n",
    "print('z = ',point1.z)\n",
    " \n",
    "delattr(Coordinate, 'z')\n",
    " \n",
    "print('--删除 z 属性后--')\n",
    "print('x = ',point1.x)\n",
    "print('y = ',point1.y)\n",
    " \n",
    "print('z = ',point1.z)"
   ]
  },
  {
   "cell_type": "code",
   "execution_count": 117,
   "metadata": {},
   "outputs": [
    {
     "data": {
      "text/plain": [
       "-935742108365748551"
      ]
     },
     "execution_count": 117,
     "metadata": {},
     "output_type": "execute_result"
    }
   ],
   "source": [
    "hash('test')"
   ]
  },
  {
   "cell_type": "code",
   "execution_count": 2,
   "metadata": {},
   "outputs": [
    {
     "name": "stdin",
     "output_type": "stream",
     "text": [
      "输入三角形第一边长:  12\n",
      "输入三角形第二边长:  13\n",
      "输入三角形第三边长:  15\n"
     ]
    },
    {
     "name": "stdout",
     "output_type": "stream",
     "text": [
      "三角形面积为 74.83\n"
     ]
    }
   ],
   "source": [
    "a = float(input('输入三角形第一边长: '))\n",
    "b = float(input('输入三角形第二边长: '))\n",
    "c = float(input('输入三角形第三边长: '))\n",
    " \n",
    "\n",
    "s = (a + b + c) / 2\n",
    " \n",
    "\n",
    "area = (s*(s-a)*(s-b)*(s-c)) ** 0.5\n",
    "print('三角形面积为 %0.2f' %area)"
   ]
  },
  {
   "cell_type": "code",
   "execution_count": 4,
   "metadata": {},
   "outputs": [
    {
     "name": "stdin",
     "output_type": "stream",
     "text": [
      "输入 a:  11\n",
      "输入 b:  12\n",
      "输入 c:  13\n"
     ]
    },
    {
     "name": "stdout",
     "output_type": "stream",
     "text": [
      "结果为 (-0.5454545454545454-0.9403709484353274j) 和 (-0.5454545454545454+0.9403709484353274j)\n"
     ]
    }
   ],
   "source": [
    "import cmath\n",
    " \n",
    "a = float(input('输入 a: '))\n",
    "b = float(input('输入 b: '))\n",
    "c = float(input('输入 c: '))\n",
    " \n",
    "d = (b**2) - (4*a*c)\n",
    " \n",
    "sol1 = (-b-cmath.sqrt(d))/(2*a)\n",
    "sol2 = (-b+cmath.sqrt(d))/(2*a)\n",
    " \n",
    "print('结果为 {0} 和 {1}'.format(sol1,sol2))"
   ]
  },
  {
   "cell_type": "code",
   "execution_count": 14,
   "metadata": {},
   "outputs": [
    {
     "name": "stdin",
     "output_type": "stream",
     "text": [
      "输入第一个数字:  11\n",
      "输入第二个数字:  13\n"
     ]
    },
    {
     "name": "stdout",
     "output_type": "stream",
     "text": [
      "11 和 13 的最大公约数为 1\n"
     ]
    }
   ],
   "source": [
    "def hcf(x, y):\n",
    "    if x > y:\n",
    "        smaller = y\n",
    "    else:\n",
    "        smaller = x\n",
    "    for i in range(1,smaller + 1):\n",
    "        if((x % i == 0) and (y % i == 0)):\n",
    "            hcf = i\n",
    "            return hcf\n",
    "num1 = int(input(\"输入第一个数字: \"))\n",
    "num2 = int(input(\"输入第二个数字: \"))\n",
    " \n",
    "print( num1,\"和\", num2,\"的最大公约数为\", hcf(num1, num2))"
   ]
  },
  {
   "cell_type": "code",
   "execution_count": 20,
   "metadata": {},
   "outputs": [
    {
     "name": "stdin",
     "output_type": "stream",
     "text": [
      "输入第一个数字:  12\n",
      "输入第二个数字:  14\n"
     ]
    },
    {
     "ename": "UnboundLocalError",
     "evalue": "local variable 'lcm' referenced before assignment",
     "output_type": "error",
     "traceback": [
      "\u001b[1;31m---------------------------------------------------------------------------\u001b[0m",
      "\u001b[1;31mUnboundLocalError\u001b[0m                         Traceback (most recent call last)",
      "\u001b[1;32m<ipython-input-20-a26a41778f4f>\u001b[0m in \u001b[0;36m<module>\u001b[1;34m\u001b[0m\n\u001b[0;32m     17\u001b[0m \u001b[0mnum2\u001b[0m \u001b[1;33m=\u001b[0m \u001b[0mint\u001b[0m\u001b[1;33m(\u001b[0m\u001b[0minput\u001b[0m\u001b[1;33m(\u001b[0m\u001b[1;34m\"输入第二个数字: \"\u001b[0m\u001b[1;33m)\u001b[0m\u001b[1;33m)\u001b[0m\u001b[1;33m\u001b[0m\u001b[1;33m\u001b[0m\u001b[0m\n\u001b[0;32m     18\u001b[0m \u001b[1;33m\u001b[0m\u001b[0m\n\u001b[1;32m---> 19\u001b[1;33m \u001b[0mprint\u001b[0m\u001b[1;33m(\u001b[0m \u001b[0mnum1\u001b[0m\u001b[1;33m,\u001b[0m\u001b[1;34m\"和\"\u001b[0m\u001b[1;33m,\u001b[0m \u001b[0mnum2\u001b[0m\u001b[1;33m,\u001b[0m\u001b[1;34m\"的最小公倍数为\"\u001b[0m\u001b[1;33m,\u001b[0m \u001b[0mlcm\u001b[0m\u001b[1;33m(\u001b[0m\u001b[0mnum1\u001b[0m\u001b[1;33m,\u001b[0m \u001b[0mnum2\u001b[0m\u001b[1;33m)\u001b[0m\u001b[1;33m)\u001b[0m\u001b[1;33m\u001b[0m\u001b[1;33m\u001b[0m\u001b[0m\n\u001b[0m",
      "\u001b[1;32m<ipython-input-20-a26a41778f4f>\u001b[0m in \u001b[0;36mlcm\u001b[1;34m(x, y)\u001b[0m\n\u001b[0;32m     11\u001b[0m         \u001b[0mgreater\u001b[0m \u001b[1;33m+=\u001b[0m \u001b[1;36m1\u001b[0m\u001b[1;33m\u001b[0m\u001b[1;33m\u001b[0m\u001b[0m\n\u001b[0;32m     12\u001b[0m \u001b[1;33m\u001b[0m\u001b[0m\n\u001b[1;32m---> 13\u001b[1;33m     \u001b[1;32mreturn\u001b[0m \u001b[0mlcm\u001b[0m\u001b[1;33m\u001b[0m\u001b[1;33m\u001b[0m\u001b[0m\n\u001b[0m\u001b[0;32m     14\u001b[0m \u001b[1;33m\u001b[0m\u001b[0m\n\u001b[0;32m     15\u001b[0m \u001b[1;33m\u001b[0m\u001b[0m\n",
      "\u001b[1;31mUnboundLocalError\u001b[0m: local variable 'lcm' referenced before assignment"
     ]
    }
   ],
   "source": [
    "def lcm(x, y):\n",
    "    if x > y:\n",
    "        greater = x\n",
    "    else:\n",
    "        greater = y\n",
    " \n",
    "    while(True):\n",
    "        if((greater % x == 0) and (greater % y == 0)):\n",
    "            lcm = greater\n",
    "        break\n",
    "        greater += 1\n",
    " \n",
    "    return lcm\n",
    " \n",
    "\n",
    "num1 = int(input(\"输入第一个数字: \"))\n",
    "num2 = int(input(\"输入第二个数字: \"))\n",
    " \n",
    "print( num1,\"和\", num2,\"的最小公倍数为\", lcm(num1, num2))"
   ]
  },
  {
   "cell_type": "code",
   "execution_count": 21,
   "metadata": {},
   "outputs": [
    {
     "name": "stdout",
     "output_type": "stream",
     "text": [
      "选择运算：\n",
      "1、相加\n",
      "2、相减\n",
      "3、相乘\n",
      "4、相除\n"
     ]
    },
    {
     "name": "stdin",
     "output_type": "stream",
     "text": [
      "输入你的选择(1/2/3/4): 4\n",
      "输入第一个数字:  12\n",
      "输入第二个数字:  23\n"
     ]
    },
    {
     "name": "stdout",
     "output_type": "stream",
     "text": [
      "12 / 23 = 0.5217391304347826\n"
     ]
    }
   ],
   "source": [
    "def add(x, y):\n",
    "    return x + y\n",
    " \n",
    "def subtract(x, y):\n",
    "    return x - y\n",
    " \n",
    "def multiply(x, y):\n",
    "    return x * y\n",
    " \n",
    "def divide(x, y):\n",
    "    return x / y\n",
    " \n",
    "\n",
    "print(\"选择运算：\")\n",
    "print(\"1、相加\")\n",
    "print(\"2、相减\")\n",
    "print(\"3、相乘\")\n",
    "print(\"4、相除\")\n",
    " \n",
    "choice = input(\"输入你的选择(1/2/3/4):\")\n",
    " \n",
    "num1 = int(input(\"输入第一个数字: \"))\n",
    "num2 = int(input(\"输入第二个数字: \"))\n",
    " \n",
    "if choice == '1':\n",
    "    print(num1,\"+\",num2,\"=\", add(num1,num2))\n",
    "elif choice == '2':\n",
    "    print(num1,\"-\",num2,\"=\", subtract(num1,num2))\n",
    "elif choice == '3':\n",
    "    print(num1,\"*\",num2,\"=\", multiply(num1,num2))\n",
    "elif choice == '4':\n",
    "    print(num1,\"/\",num2,\"=\", divide(num1,num2))\n",
    "else:\n",
    "    print(\"非法输入\")"
   ]
  },
  {
   "cell_type": "code",
   "execution_count": 22,
   "metadata": {},
   "outputs": [
    {
     "name": "stdout",
     "output_type": "stream",
     "text": [
      "该文本会写入到文件中\n",
      "看到我了吧！\n"
     ]
    }
   ],
   "source": [
    "with open(\"number.txt\", \"wt\") as out_file:\n",
    "    out_file.write(\"该文本会写入到文件中\\n看到我了吧！\")\n",
    "with open(\"number.txt\", \"rt\") as in_file:\n",
    "    text = in_file.read()\n",
    "print(text)"
   ]
  },
  {
   "cell_type": "code",
   "execution_count": 23,
   "metadata": {},
   "outputs": [
    {
     "name": "stdout",
     "output_type": "stream",
     "text": [
      "(1, 30)\n"
     ]
    }
   ],
   "source": [
    "import calendar\n",
    "monthRange = calendar.monthrange(2026,9)\n",
    "print(monthRange)"
   ]
  },
  {
   "cell_type": "code",
   "execution_count": 24,
   "metadata": {},
   "outputs": [
    {
     "name": "stdout",
     "output_type": "stream",
     "text": [
      "30\n"
     ]
    }
   ],
   "source": [
    "import calendar\n",
    "print(calendar.mdays[9])"
   ]
  },
  {
   "cell_type": "code",
   "execution_count": 25,
   "metadata": {},
   "outputs": [
    {
     "name": "stdout",
     "output_type": "stream",
     "text": [
      "列表元素之和为:  74\n"
     ]
    }
   ],
   "source": [
    "total = 0\n",
    " \n",
    "list1 = [11, 5, 17, 18, 23]  \n",
    " \n",
    "for ele in range(0, len(list1)):\n",
    "    total = total + list1[ele]\n",
    "print(\"列表元素之和为: \", total)"
   ]
  },
  {
   "cell_type": "code",
   "execution_count": 26,
   "metadata": {},
   "outputs": [
    {
     "name": "stdout",
     "output_type": "stream",
     "text": [
      "列表元素之和为:  74\n"
     ]
    }
   ],
   "source": [
    "total = 0\n",
    "ele = 0\n",
    " \n",
    "list1 = [11, 5, 17, 18, 23]  \n",
    " \n",
    "while(ele < len(list1)):\n",
    "    total = total + list1[ele]\n",
    "    ele += 1\n",
    "     \n",
    "print(\"列表元素之和为: \", total)"
   ]
  },
  {
   "cell_type": "code",
   "execution_count": 27,
   "metadata": {},
   "outputs": [
    {
     "name": "stdout",
     "output_type": "stream",
     "text": [
      "列表元素之和为:  74\n"
     ]
    }
   ],
   "source": [
    "list1 = [11, 5, 17, 18, 23]\n",
    "\n",
    "def sumOfList(list, size):\n",
    "    if (size == 0):\n",
    "        return 0\n",
    "    else:\n",
    "        return list[size - 1] + sumOfList(list, size - 1)\n",
    "     \n",
    "total = sumOfList(list1, len(list1))\n",
    "\n",
    "print(\"列表元素之和为: \", total)"
   ]
  },
  {
   "cell_type": "code",
   "execution_count": 28,
   "metadata": {},
   "outputs": [
    {
     "name": "stdout",
     "output_type": "stream",
     "text": [
      "原始字符串为 : Runoob\n",
      "字符串移除后为 : Ruoob\n"
     ]
    }
   ],
   "source": [
    "test_str = \"Runoob\"\n",
    " \n",
    "\n",
    "print (\"原始字符串为 : \" + test_str)\n",
    " \n",
    "new_str = \"\"\n",
    " \n",
    "for i in range(0, len(test_str)):\n",
    "    if i != 2:\n",
    "        new_str = new_str + test_str[i]\n",
    "\n",
    "print (\"字符串移除后为 : \" + new_str)"
   ]
  },
  {
   "cell_type": "code",
   "execution_count": 31,
   "metadata": {},
   "outputs": [
    {
     "ename": "IndentationError",
     "evalue": "unexpected indent (<string>, line 2)",
     "output_type": "error",
     "traceback": [
      "Traceback \u001b[1;36m(most recent call last)\u001b[0m:\n",
      "  File \u001b[0;32m\"D:\\anaconda\\lib\\site-packages\\IPython\\core\\interactiveshell.py\"\u001b[0m, line \u001b[0;32m3343\u001b[0m, in \u001b[0;35mrun_code\u001b[0m\n    exec(code_obj, self.user_global_ns, self.user_ns)\n",
      "  File \u001b[0;32m\"<ipython-input-31-3912398711cf>\"\u001b[0m, line \u001b[0;32m11\u001b[0m, in \u001b[0;35m<module>\u001b[0m\n    exec_code()\n",
      "\u001b[1;36m  File \u001b[1;32m\"<ipython-input-31-3912398711cf>\"\u001b[1;36m, line \u001b[1;32m10\u001b[1;36m, in \u001b[1;35mexec_code\u001b[1;36m\u001b[0m\n\u001b[1;33m    exec(LOC)\u001b[0m\n",
      "\u001b[1;36m  File \u001b[1;32m\"<string>\"\u001b[1;36m, line \u001b[1;32m2\u001b[0m\n\u001b[1;33m    def factorial(num):\u001b[0m\n\u001b[1;37m    ^\u001b[0m\n\u001b[1;31mIndentationError\u001b[0m\u001b[1;31m:\u001b[0m unexpected indent\n"
     ]
    }
   ],
   "source": [
    "def exec_code(): \n",
    "    LOC = \"\"\" \n",
    "    def factorial(num): \n",
    "    fact=1 \n",
    "    for i in range(1,num+1): \n",
    "        fact = fact*i \n",
    "    return fact \n",
    "print(factorial(5)) \n",
    "\"\"\"\n",
    "    exec(LOC) \n",
    "exec_code()"
   ]
  },
  {
   "cell_type": "code",
   "execution_count": 32,
   "metadata": {},
   "outputs": [
    {
     "name": "stdout",
     "output_type": "stream",
     "text": [
      "..######..\n",
      "..#....#..\n",
      "..#.##... \n",
      "..#...#...\n",
      "..#....#..\n",
      "\n",
      "\n",
      "..#....#..\n",
      "..#....#..\n",
      "..#....#.. \n",
      "..#....#..\n",
      "..######..\n",
      "\n",
      "\n",
      "..#....#..\n",
      "..##...#..\n",
      "..#.#..#.. \n",
      "..#..#.#..\n",
      "..#...##..\n",
      "\n",
      "\n",
      "..######..\n",
      "..#....#..\n",
      "..#....#.. \n",
      "..#....#..\n",
      "..######..\n",
      "\n",
      "\n",
      "..######..\n",
      "..#....#..\n",
      "..#....#.. \n",
      "..#....#..\n",
      "..######..\n",
      "\n",
      "\n",
      "..######..\n",
      "..#....#..\n",
      "..#####... \n",
      "..#....#..\n",
      "..######..\n",
      "\n",
      "\n"
     ]
    }
   ],
   "source": [
    "name = \"RUNOOB\"\n",
    "  \n",
    "# 接收用户输入\n",
    "# name = input(\"输入你的名字: \\n\\n\") \n",
    "  \n",
    "lngth = len(name) \n",
    "l = \"\" \n",
    "  \n",
    "for x in range(0, lngth): \n",
    "    c = name[x] \n",
    "    c = c.upper() \n",
    "      \n",
    "    if (c == \"A\"): \n",
    "        print(\"..######..\\n..#....#..\\n..######..\", end = \" \") \n",
    "        print(\"\\n..#....#..\\n..#....#..\\n\\n\") \n",
    "          \n",
    "    elif (c == \"B\"): \n",
    "        print(\"..######..\\n..#....#..\\n..#####...\", end = \" \") \n",
    "        print(\"\\n..#....#..\\n..######..\\n\\n\") \n",
    "          \n",
    "    elif (c == \"C\"): \n",
    "        print(\"..######..\\n..#.......\\n..#.......\", end = \" \") \n",
    "        print(\"\\n..#.......\\n..######..\\n\\n\") \n",
    "          \n",
    "    elif (c == \"D\"): \n",
    "        print(\"..#####...\\n..#....#..\\n..#....#..\", end = \" \") \n",
    "        print(\"\\n..#....#..\\n..#####...\\n\\n\") \n",
    "          \n",
    "    elif (c == \"E\"): \n",
    "        print(\"..######..\\n..#.......\\n..#####...\", end = \" \") \n",
    "        print(\"\\n..#.......\\n..######..\\n\\n\") \n",
    "          \n",
    "    elif (c == \"F\"): \n",
    "        print(\"..######..\\n..#.......\\n..#####...\", end = \" \") \n",
    "        print(\"\\n..#.......\\n..#.......\\n\\n\") \n",
    "          \n",
    "    elif (c == \"G\"): \n",
    "        print(\"..######..\\n..#.......\\n..#.####..\", end = \" \") \n",
    "        print(\"\\n..#....#..\\n..#####...\\n\\n\") \n",
    "          \n",
    "    elif (c == \"H\"): \n",
    "        print(\"..#....#..\\n..#....#..\\n..######..\", end = \" \") \n",
    "        print(\"\\n..#....#..\\n..#....#..\\n\\n\") \n",
    "          \n",
    "    elif (c == \"I\"): \n",
    "        print(\"..######..\\n....##....\\n....##....\", end = \" \") \n",
    "        print(\"\\n....##....\\n..######..\\n\\n\") \n",
    "          \n",
    "    elif (c == \"J\"): \n",
    "        print(\"..######..\\n....##....\\n....##....\", end = \" \") \n",
    "        print(\"\\n..#.##....\\n..####....\\n\\n\") \n",
    "          \n",
    "    elif (c == \"K\"): \n",
    "        print(\"..#...#...\\n..#..#....\\n..##......\", end = \" \") \n",
    "        print(\"\\n..#..#....\\n..#...#...\\n\\n\") \n",
    "          \n",
    "    elif (c == \"L\"): \n",
    "        print(\"..#.......\\n..#.......\\n..#.......\", end = \" \") \n",
    "        print(\"\\n..#.......\\n..######..\\n\\n\") \n",
    "          \n",
    "    elif (c == \"M\"): \n",
    "        print(\"..#....#..\\n..##..##..\\n..#.##.#..\", end = \" \") \n",
    "        print(\"\\n..#....#..\\n..#....#..\\n\\n\") \n",
    "          \n",
    "    elif (c == \"N\"): \n",
    "        print(\"..#....#..\\n..##...#..\\n..#.#..#..\", end = \" \") \n",
    "        print(\"\\n..#..#.#..\\n..#...##..\\n\\n\") \n",
    "          \n",
    "    elif (c == \"O\"): \n",
    "        print(\"..######..\\n..#....#..\\n..#....#..\", end = \" \") \n",
    "        print(\"\\n..#....#..\\n..######..\\n\\n\") \n",
    "          \n",
    "    elif (c == \"P\"): \n",
    "        print(\"..######..\\n..#....#..\\n..######..\", end = \" \") \n",
    "        print(\"\\n..#.......\\n..#.......\\n\\n\") \n",
    "          \n",
    "    elif (c == \"Q\"): \n",
    "        print(\"..######..\\n..#....#..\\n..#.#..#..\", end = \" \") \n",
    "        print(\"\\n..#..#.#..\\n..######..\\n\\n\") \n",
    "          \n",
    "    elif (c == \"R\"): \n",
    "        print(\"..######..\\n..#....#..\\n..#.##...\", end = \" \") \n",
    "        print(\"\\n..#...#...\\n..#....#..\\n\\n\") \n",
    "          \n",
    "    elif (c == \"S\"): \n",
    "        print(\"..######..\\n..#.......\\n..######..\", end = \" \") \n",
    "        print(\"\\n.......#..\\n..######..\\n\\n\") \n",
    "          \n",
    "    elif (c == \"T\"): \n",
    "        print(\"..######..\\n....##....\\n....##....\", end = \" \") \n",
    "        print(\"\\n....##....\\n....##....\\n\\n\") \n",
    "          \n",
    "    elif (c == \"U\"): \n",
    "        print(\"..#....#..\\n..#....#..\\n..#....#..\", end = \" \") \n",
    "        print(\"\\n..#....#..\\n..######..\\n\\n\") \n",
    "          \n",
    "    elif (c == \"V\"): \n",
    "        print(\"..#....#..\\n..#....#..\\n..#....#..\", end = \" \") \n",
    "        print(\"\\n...#..#...\\n....##....\\n\\n\") \n",
    "          \n",
    "    elif (c == \"W\"): \n",
    "        print(\"..#....#..\\n..#....#..\\n..#.##.#..\", end = \" \") \n",
    "        print(\"\\n..##..##..\\n..#....#..\\n\\n\") \n",
    "          \n",
    "    elif (c == \"X\"): \n",
    "        print(\"..#....#..\\n...#..#...\\n....##....\", end = \" \") \n",
    "        print(\"\\n...#..#...\\n..#....#..\\n\\n\") \n",
    "          \n",
    "    elif (c == \"Y\"): \n",
    "        print(\"..#....#..\\n...#..#...\\n....##....\", end = \" \") \n",
    "        print(\"\\n....##....\\n....##....\\n\\n\") \n",
    "          \n",
    "    elif (c == \"Z\"): \n",
    "        print(\"..######..\\n......#...\\n.....#....\", end = \" \") \n",
    "        print(\"\\n....#.....\\n..######..\\n\\n\") \n",
    "          \n",
    "    elif (c == \" \"): \n",
    "        print(\"..........\\n..........\\n..........\", end = \" \") \n",
    "        print(\"\\n..........\\n\\n\") \n",
    "          \n",
    "    elif (c == \".\"): \n",
    "        print(\"----..----\\n\\n\")"
   ]
  },
  {
   "cell_type": "code",
   "execution_count": 33,
   "metadata": {},
   "outputs": [
    {
     "name": "stdout",
     "output_type": "stream",
     "text": [
      "排序后的数组:\n",
      "5\n",
      "6\n",
      "11\n",
      "12\n",
      "13\n"
     ]
    }
   ],
   "source": [
    "def insertionSort(arr): \n",
    "  \n",
    "    for i in range(1, len(arr)): \n",
    "  \n",
    "        key = arr[i] \n",
    "  \n",
    "        j = i-1\n",
    "        while j >=0 and key < arr[j] : \n",
    "                arr[j+1] = arr[j] \n",
    "                j -= 1\n",
    "        arr[j+1] = key \n",
    "  \n",
    "  \n",
    "arr = [12, 11, 13, 5, 6] \n",
    "insertionSort(arr) \n",
    "print (\"排序后的数组:\") \n",
    "for i in range(len(arr)): \n",
    "    print (\"%d\" %arr[i])"
   ]
  },
  {
   "cell_type": "code",
   "execution_count": 34,
   "metadata": {},
   "outputs": [
    {
     "name": "stdout",
     "output_type": "stream",
     "text": [
      "拓扑排序结果：\n",
      "[5, 4, 2, 3, 1, 0]\n"
     ]
    }
   ],
   "source": [
    "from collections import defaultdict \n",
    " \n",
    "class Graph: \n",
    "    def __init__(self,vertices): \n",
    "        self.graph = defaultdict(list) \n",
    "        self.V = vertices\n",
    "  \n",
    "    def addEdge(self,u,v): \n",
    "        self.graph[u].append(v) \n",
    "  \n",
    "    def topologicalSortUtil(self,v,visited,stack): \n",
    "  \n",
    "        visited[v] = True\n",
    "  \n",
    "        for i in self.graph[v]: \n",
    "            if visited[i] == False: \n",
    "                self.topologicalSortUtil(i,visited,stack) \n",
    "  \n",
    "        stack.insert(0,v) \n",
    "  \n",
    "    def topologicalSort(self): \n",
    "        visited = [False]*self.V \n",
    "        stack =[] \n",
    "  \n",
    "        for i in range(self.V): \n",
    "            if visited[i] == False: \n",
    "                self.topologicalSortUtil(i,visited,stack) \n",
    "  \n",
    "        print (stack) \n",
    "\n",
    "g= Graph(6) \n",
    "g.addEdge(5, 2); \n",
    "g.addEdge(5, 0); \n",
    "g.addEdge(4, 0); \n",
    "g.addEdge(4, 1); \n",
    "g.addEdge(2, 3); \n",
    "g.addEdge(3, 1); \n",
    "  \n",
    "print (\"拓扑排序结果：\")\n",
    "g.topologicalSort()"
   ]
  },
  {
   "cell_type": "code",
   "execution_count": 35,
   "metadata": {},
   "outputs": [
    {
     "name": "stdout",
     "output_type": "stream",
     "text": [
      "排序后\n",
      "5\n",
      "6\n",
      "7\n",
      "11\n",
      "12\n",
      "13\n"
     ]
    }
   ],
   "source": [
    "def heapify(arr, n, i): \n",
    "    largest = i  \n",
    "    l = 2 * i + 1     # left = 2*i + 1 \n",
    "    r = 2 * i + 2     # right = 2*i + 2 \n",
    "  \n",
    "    if l < n and arr[i] < arr[l]: \n",
    "        largest = l \n",
    "  \n",
    "    if r < n and arr[largest] < arr[r]: \n",
    "        largest = r \n",
    "  \n",
    "    if largest != i: \n",
    "        arr[i],arr[largest] = arr[largest],arr[i]  # 交换\n",
    "  \n",
    "        heapify(arr, n, largest) \n",
    "def heapSort(arr): \n",
    "    n = len(arr) \n",
    "  \n",
    "    # Build a maxheap. \n",
    "    for i in range(n, -1, -1): \n",
    "        heapify(arr, n, i) \n",
    "  \n",
    "    # 一个个交换元素\n",
    "    for i in range(n-1, 0, -1): \n",
    "        arr[i], arr[0] = arr[0], arr[i]   # 交换\n",
    "        heapify(arr, i, 0) \n",
    "arr = [ 12, 11, 13, 5, 6, 7] \n",
    "heapSort(arr) \n",
    "n = len(arr) \n",
    "print (\"排序后\") \n",
    "for i in range(n): \n",
    "    print (\"%d\" %arr[i]),"
   ]
  },
  {
   "cell_type": "code",
   "execution_count": 36,
   "metadata": {},
   "outputs": [
    {
     "name": "stdout",
     "output_type": "stream",
     "text": [
      "字符数组排序 bcmnoooruwww\n"
     ]
    }
   ],
   "source": [
    "def countSort(arr): \n",
    "  \n",
    "    output = [0 for i in range(256)] \n",
    "  \n",
    "    count = [0 for i in range(256)] \n",
    "  \n",
    "    ans = [\"\" for _ in arr] \n",
    "  \n",
    "    for i in arr: \n",
    "        count[ord(i)] += 1\n",
    "  \n",
    "    for i in range(256): \n",
    "        count[i] += count[i-1] \n",
    "  \n",
    "    for i in range(len(arr)): \n",
    "        output[count[ord(arr[i])]-1] = arr[i] \n",
    "        count[ord(arr[i])] -= 1\n",
    "  \n",
    "    for i in range(len(arr)): \n",
    "        ans[i] = output[i] \n",
    "    return ans  \n",
    "  \n",
    "arr = \"wwwrunoobcom\"\n",
    "ans = countSort(arr) \n",
    "print ( \"字符数组排序 %s\"  %(\"\".join(ans)) )"
   ]
  },
  {
   "cell_type": "code",
   "execution_count": 37,
   "metadata": {},
   "outputs": [
    {
     "name": "stdout",
     "output_type": "stream",
     "text": [
      "给定的数组\n",
      "12\n",
      "11\n",
      "13\n",
      "5\n",
      "6\n",
      "7\n",
      "\n",
      "\n",
      "排序后的数组\n",
      "5\n",
      "6\n",
      "7\n",
      "11\n",
      "12\n",
      "13\n"
     ]
    }
   ],
   "source": [
    "def merge(arr, l, m, r): \n",
    "    n1 = m - l + 1\n",
    "    n2 = r- m \n",
    "  \n",
    "    # 创建临时数组\n",
    "    L = [0] * (n1)\n",
    "    R = [0] * (n2)\n",
    "  \n",
    "    # 拷贝数据到临时数组 arrays L[] 和 R[] \n",
    "    for i in range(0 , n1): \n",
    "        L[i] = arr[l + i] \n",
    "  \n",
    "    for j in range(0 , n2): \n",
    "        R[j] = arr[m + 1 + j] \n",
    "  \n",
    "    # 归并临时数组到 arr[l..r] \n",
    "    i = 0     # 初始化第一个子数组的索引\n",
    "    j = 0     # 初始化第二个子数组的索引\n",
    "    k = l     # 初始归并子数组的索引\n",
    "  \n",
    "    while i < n1 and j < n2 : \n",
    "        if L[i] <= R[j]: \n",
    "            arr[k] = L[i] \n",
    "            i += 1\n",
    "        else: \n",
    "            arr[k] = R[j] \n",
    "            j += 1\n",
    "        k += 1\n",
    "  \n",
    "    # 拷贝 L[] 的保留元素\n",
    "    while i < n1: \n",
    "        arr[k] = L[i] \n",
    "        i += 1\n",
    "        k += 1\n",
    "  \n",
    "    # 拷贝 R[] 的保留元素\n",
    "    while j < n2: \n",
    "        arr[k] = R[j] \n",
    "        j += 1\n",
    "        k += 1\n",
    "def mergeSort(arr,l,r): \n",
    "    if l < r: \n",
    "  \n",
    "        \n",
    "        m = int((l+(r-1))/2)\n",
    "  \n",
    "       \n",
    "        mergeSort(arr, l, m) \n",
    "        mergeSort(arr, m+1, r) \n",
    "        merge(arr, l, m, r) \n",
    "  \n",
    "  \n",
    "arr = [12, 11, 13, 5, 6, 7] \n",
    "n = len(arr) \n",
    "print (\"给定的数组\") \n",
    "for i in range(n): \n",
    "    print (\"%d\" %arr[i]), \n",
    "mergeSort(arr,0,n-1) \n",
    "print (\"\\n\\n排序后的数组\") \n",
    "for i in range(n): \n",
    "    print (\"%d\" %arr[i]),"
   ]
  },
  {
   "cell_type": "code",
   "execution_count": 38,
   "metadata": {},
   "outputs": [
    {
     "name": "stdout",
     "output_type": "stream",
     "text": [
      "排序后的数组:\n",
      "1\n",
      "5\n",
      "7\n",
      "8\n",
      "9\n",
      "10\n"
     ]
    }
   ],
   "source": [
    "def partition(arr,low,high): \n",
    "    i = ( low-1 )         # 最小元素索引\n",
    "    pivot = arr[high]     \n",
    "  \n",
    "    for j in range(low , high): \n",
    "  \n",
    "        # 当前元素小于或等于 pivot \n",
    "        if   arr[j] <= pivot: \n",
    "          \n",
    "            i = i+1 \n",
    "            arr[i],arr[j] = arr[j],arr[i] \n",
    "  \n",
    "    arr[i+1],arr[high] = arr[high],arr[i+1] \n",
    "    return ( i+1 ) \n",
    "  \n",
    "def quickSort(arr,low,high): \n",
    "    if low < high: \n",
    "  \n",
    "        pi = partition(arr,low,high) \n",
    "  \n",
    "        quickSort(arr, low, pi-1) \n",
    "        quickSort(arr, pi+1, high) \n",
    "arr = [10, 7, 8, 9, 1, 5] \n",
    "n = len(arr) \n",
    "quickSort(arr,0,n-1) \n",
    "print (\"排序后的数组:\") \n",
    "for i in range(n): \n",
    "    print (\"%d\" %arr[i]),"
   ]
  },
  {
   "cell_type": "code",
   "execution_count": 39,
   "metadata": {},
   "outputs": [
    {
     "name": "stdout",
     "output_type": "stream",
     "text": [
      "排序后的数组：\n",
      "11\n",
      "12\n",
      "22\n",
      "25\n",
      "64\n"
     ]
    }
   ],
   "source": [
    "import sys \n",
    "A = [64, 25, 12, 22, 11] \n",
    "  \n",
    "for i in range(len(A)): \n",
    "      \n",
    "   \n",
    "    min_idx = i \n",
    "    for j in range(i+1, len(A)): \n",
    "        if A[min_idx] > A[j]: \n",
    "            min_idx = j \n",
    "                \n",
    "    A[i], A[min_idx] = A[min_idx], A[i] \n",
    "print (\"排序后的数组：\") \n",
    "for i in range(len(A)): \n",
    "    print(\"%d\" %A[i]),"
   ]
  },
  {
   "cell_type": "code",
   "execution_count": 40,
   "metadata": {},
   "outputs": [
    {
     "name": "stdout",
     "output_type": "stream",
     "text": [
      "元素在数组中的索引为 3\n"
     ]
    }
   ],
   "source": [
    "def binarySearch (arr, l, r, x): \n",
    "  \n",
    "    # 基本判断\n",
    "    if r >= l: \n",
    "  \n",
    "        mid = int(l + (r - l)/2)\n",
    "  \n",
    "        # 元素整好的中间位置\n",
    "        if arr[mid] == x: \n",
    "            return mid \n",
    "          \n",
    "        # 元素小于中间位置的元素，只需要再比较左边的元素\n",
    "        elif arr[mid] > x: \n",
    "            return binarySearch(arr, l, mid-1, x) \n",
    "  \n",
    "        # 元素大于中间位置的元素，只需要再比较右边的元素\n",
    "        else: \n",
    "            return binarySearch(arr, mid+1, r, x) \n",
    "  \n",
    "    else: \n",
    "        # 不存在\n",
    "        return -1\n",
    "arr = [ 2, 3, 4, 10, 40 ] \n",
    "x = 10\n",
    "  \n",
    "# 函数调用\n",
    "result = binarySearch(arr, 0, len(arr)-1, x) \n",
    "  \n",
    "if result != -1: \n",
    "    print (\"元素在数组中的索引为 %d\" % result )\n",
    "else: \n",
    "    print (\"元素不在数组中\")"
   ]
  },
  {
   "cell_type": "code",
   "execution_count": 41,
   "metadata": {},
   "outputs": [
    {
     "name": "stdout",
     "output_type": "stream",
     "text": [
      "元素在数组中的索引为 3\n"
     ]
    }
   ],
   "source": [
    "def search(arr, n, x): \n",
    "  \n",
    "    for i in range (0, n): \n",
    "        if (arr[i] == x): \n",
    "            return i; \n",
    "    return -1; \n",
    "  \n",
    "# 在数组 arr 中查找字符 D\n",
    "arr = [ 'A', 'B', 'C', 'D', 'E' ]; \n",
    "x = 'D'; \n",
    "n = len(arr); \n",
    "result = search(arr, n, x) \n",
    "if(result == -1): \n",
    "    print(\"元素不在数组中\") \n",
    "else: \n",
    "    print(\"元素在数组中的索引为\", result);"
   ]
  },
  {
   "cell_type": "code",
   "execution_count": 42,
   "metadata": {},
   "outputs": [
    {
     "name": "stdin",
     "output_type": "stream",
     "text": [
      "Number:\t 12\n"
     ]
    },
    {
     "name": "stdout",
     "output_type": "stream",
     "text": [
      "Don't find it.\n"
     ]
    }
   ],
   "source": [
    "def LinearSearch(list):\n",
    "    num = int(input('Number:\\t'))\n",
    "    counter = 0\n",
    "    null = 0\n",
    "\n",
    "    for i in list:\n",
    "        if i == num:\n",
    "            print('Find number {} in place {}.'.format(num, counter))\n",
    "        else:\n",
    "            null += 1\n",
    "        counter += 1\n",
    "    if null == counter:\n",
    "        print('Don\\'t find it.')\n",
    "\n",
    "list = [1, 2, 5, 7, 8, 34, 567, -1, 0, -1, -3, -9, 0]\n",
    "LinearSearch(list)"
   ]
  },
  {
   "cell_type": "code",
   "execution_count": 43,
   "metadata": {},
   "outputs": [
    {
     "name": "stdout",
     "output_type": "stream",
     "text": [
      "[11, 23, 48, 49, 50, 51, 54, 56, 57, 64, 70, 75, 81, 91, 92]\n",
      "4\n"
     ]
    }
   ],
   "source": [
    "def LinearSearch(num=50):\n",
    "    import random\n",
    "    random.seed(888)\n",
    "    data = []\n",
    "    for i in range(15):\n",
    "        data.append(random.randint(1, 100))\n",
    "    data.sort()\n",
    "    print(data)\n",
    "    for i in range(0,len(data)):\n",
    "        if data[i]==num:\n",
    "            print(i)\n",
    "            break\n",
    "    else:\n",
    "        print('查无此数')\n",
    "LinearSearch()"
   ]
  },
  {
   "cell_type": "code",
   "execution_count": 44,
   "metadata": {},
   "outputs": [
    {
     "name": "stdout",
     "output_type": "stream",
     "text": [
      "2020-12-25 10:45:29\n"
     ]
    }
   ],
   "source": [
    "import time\n",
    "import datetime\n",
    " \n",
    "# 先获得时间数组格式的日期\n",
    "threeDayAgo = (datetime.datetime.now() - datetime.timedelta(days = 3))\n",
    "# 转换为时间戳\n",
    "timeStamp = int(time.mktime(threeDayAgo.timetuple()))\n",
    "# 转换为其他字符串格式\n",
    "otherStyleTime = threeDayAgo.strftime(\"%Y-%m-%d %H:%M:%S\")\n",
    "print(otherStyleTime)"
   ]
  },
  {
   "cell_type": "code",
   "execution_count": 45,
   "metadata": {},
   "outputs": [
    {
     "name": "stdout",
     "output_type": "stream",
     "text": [
      "2019-05-07 15:40:00\n"
     ]
    }
   ],
   "source": [
    "import time\n",
    "import datetime\n",
    " \n",
    "#给定时间戳\n",
    "timeStamp = 1557502800\n",
    "dateArray = datetime.datetime.utcfromtimestamp(timeStamp)\n",
    "threeDayAgo = dateArray - datetime.timedelta(days = 3)\n",
    "print(threeDayAgo)"
   ]
  },
  {
   "cell_type": "code",
   "execution_count": 46,
   "metadata": {},
   "outputs": [
    {
     "name": "stdout",
     "output_type": "stream",
     "text": [
      "2020-12-25 10:45:56.730013\n",
      "2020-12-25 10:45:56\n"
     ]
    }
   ],
   "source": [
    "import datetime\n",
    "threeDayAgo = datetime.datetime.today() - datetime.timedelta(3)\n",
    "print(threeDayAgo)\n",
    "otherStyleTime = threeDayAgo.strftime(\"%Y-%m-%d %H:%M:%S\")\n",
    "print(otherStyleTime)"
   ]
  },
  {
   "cell_type": "code",
   "execution_count": 47,
   "metadata": {},
   "outputs": [
    {
     "name": "stdout",
     "output_type": "stream",
     "text": [
      "2020-12-28 10:46:14\n"
     ]
    }
   ],
   "source": [
    "import time\n",
    " \n",
    "# 获得当前时间时间戳\n",
    "now = int(time.time())\n",
    "#转换为其他日期格式,如:\"%Y-%m-%d %H:%M:%S\"\n",
    "timeArray = time.localtime(now)\n",
    "otherStyleTime = time.strftime(\"%Y-%m-%d %H:%M:%S\", timeArray)\n",
    "print(otherStyleTime)"
   ]
  },
  {
   "cell_type": "code",
   "execution_count": 49,
   "metadata": {},
   "outputs": [
    {
     "name": "stdout",
     "output_type": "stream",
     "text": [
      "2020-12-28 10:46:37\n"
     ]
    }
   ],
   "source": [
    "import datetime\n",
    " \n",
    "# 获得当前时间\n",
    "now = datetime.datetime.now()\n",
    "# 转换为指定的格式\n",
    "otherStyleTime = now.strftime(\"%Y-%m-%d %H:%M:%S\")\n",
    "print(otherStyleTime)"
   ]
  },
  {
   "cell_type": "code",
   "execution_count": 50,
   "metadata": {},
   "outputs": [
    {
     "name": "stdout",
     "output_type": "stream",
     "text": [
      "2019-05-10 23:40:00\n"
     ]
    }
   ],
   "source": [
    "import time\n",
    " \n",
    "timeStamp = 1557502800\n",
    "timeArray = time.localtime(timeStamp)\n",
    "otherStyleTime = time.strftime(\"%Y-%m-%d %H:%M:%S\", timeArray)\n",
    "print(otherStyleTime)"
   ]
  },
  {
   "cell_type": "code",
   "execution_count": 51,
   "metadata": {},
   "outputs": [
    {
     "name": "stdout",
     "output_type": "stream",
     "text": [
      "2019-05-10 15:40:00\n"
     ]
    }
   ],
   "source": [
    "import datetime\n",
    " \n",
    "timeStamp = 1557502800\n",
    "dateArray = datetime.datetime.utcfromtimestamp(timeStamp)\n",
    "otherStyleTime = dateArray.strftime(\"%Y-%m-%d %H:%M:%S\")\n",
    "print(otherStyleTime)"
   ]
  },
  {
   "cell_type": "code",
   "execution_count": 52,
   "metadata": {},
   "outputs": [
    {
     "name": "stdout",
     "output_type": "stream",
     "text": [
      "1557502800\n",
      "2019/05/10 23:40:00\n"
     ]
    }
   ],
   "source": [
    "import time\n",
    " \n",
    "a1 = \"2019-5-10 23:40:00\"\n",
    "# 先转换为时间数组\n",
    "timeArray = time.strptime(a1, \"%Y-%m-%d %H:%M:%S\")\n",
    " \n",
    "# 转换为时间戳\n",
    "timeStamp = int(time.mktime(timeArray))\n",
    "print(timeStamp)\n",
    " \n",
    " \n",
    "# 格式转换 - 转为 /\n",
    "a2 = \"2019/5/10 23:40:00\"\n",
    "# 先转换为时间数组,然后转换为其他格式\n",
    "timeArray = time.strptime(a2, \"%Y/%m/%d %H:%M:%S\")\n",
    "otherStyleTime = time.strftime(\"%Y/%m/%d %H:%M:%S\", timeArray)\n",
    "print(otherStyleTime)"
   ]
  },
  {
   "cell_type": "code",
   "execution_count": 53,
   "metadata": {},
   "outputs": [
    {
     "name": "stdout",
     "output_type": "stream",
     "text": [
      "字典移除前 : {'Runoob': 1, 'Google': 2, 'Taobao': 3, 'Zhihu': 4}\n",
      "字典移除后 : {'Runoob': 1, 'Google': 2, 'Taobao': 3}\n"
     ]
    }
   ],
   "source": [
    "test_dict = {\"Runoob\" : 1, \"Google\" : 2, \"Taobao\" : 3, \"Zhihu\" : 4} \n",
    "  \n",
    "# 输出原始的字典\n",
    "print (\"字典移除前 : \" + str(test_dict)) \n",
    "  \n",
    "# 使用 del 移除 Zhihu\n",
    "del test_dict['Zhihu'] \n",
    "  \n",
    "# 输出移除后的字典\n",
    "print (\"字典移除后 : \" + str(test_dict)) "
   ]
  },
  {
   "cell_type": "code",
   "execution_count": 54,
   "metadata": {},
   "outputs": [
    {
     "name": "stdout",
     "output_type": "stream",
     "text": [
      "字典移除前 : {'Runoob': 1, 'Google': 2, 'Taobao': 3, 'Zhihu': 4}\n",
      "字典移除后 : {'Runoob': 1, 'Google': 2, 'Taobao': 3}\n",
      "移除的 key 对应的 value 为 : 4\n",
      "\n",
      "字典移除后 : {'Runoob': 1, 'Google': 2, 'Taobao': 3}\n",
      "移除的值为 : 没有该键(key)\n"
     ]
    }
   ],
   "source": [
    "test_dict = {\"Runoob\" : 1, \"Google\" : 2, \"Taobao\" : 3, \"Zhihu\" : 4} \n",
    "\n",
    "print (\"字典移除前 : \" + str(test_dict)) \n",
    "\n",
    "removed_value = test_dict.pop('Zhihu') \n",
    "  \n",
    "print (\"字典移除后 : \" + str(test_dict)) \n",
    "  \n",
    "print (\"移除的 key 对应的 value 为 : \" + str(removed_value)) \n",
    "  \n",
    "print ('\\r') \n",
    "  \n",
    "removed_value = test_dict.pop('Baidu', '没有该键(key)') \n",
    "  \n",
    "\n",
    "print (\"字典移除后 : \" + str(test_dict)) \n",
    "print (\"移除的值为 : \" + str(removed_value))"
   ]
  },
  {
   "cell_type": "code",
   "execution_count": 55,
   "metadata": {},
   "outputs": [
    {
     "name": "stdout",
     "output_type": "stream",
     "text": [
      "字典移除前 : {'Runoob': 1, 'Google': 2, 'Taobao': 3, 'Zhihu': 4}\n",
      "字典移除后 : {'Runoob': 1, 'Google': 2, 'Taobao': 3}\n"
     ]
    }
   ],
   "source": [
    "test_dict = {\"Runoob\" : 1, \"Google\" : 2, \"Taobao\" : 3, \"Zhihu\" : 4} \n",
    "  \n",
    "# 输出原始的字典\n",
    "print (\"字典移除前 : \" + str(test_dict)) \n",
    "  \n",
    "# 使用 pop 移除 Zhihu\n",
    "new_dict = {key:val for key, val in test_dict.items() if key != 'Zhihu'} \n",
    "  \n",
    "print (\"字典移除后 : \" + str(new_dict))"
   ]
  },
  {
   "cell_type": "code",
   "execution_count": 56,
   "metadata": {},
   "outputs": [
    {
     "name": "stdout",
     "output_type": "stream",
     "text": [
      "None\n",
      "{'d': 6, 'c': 4, 'a': 10, 'b': 8}\n"
     ]
    }
   ],
   "source": [
    "def Merge(dict1, dict2): \n",
    "    return(dict2.update(dict1)) \n",
    "      \n",
    "# 两个字典\n",
    "dict1 = {'a': 10, 'b': 8} \n",
    "dict2 = {'d': 6, 'c': 4} \n",
    "  \n",
    "# 返回  None \n",
    "print(Merge(dict1, dict2)) \n",
    "  \n",
    "# dict2 合并了 dict1\n",
    "print(dict2)"
   ]
  },
  {
   "cell_type": "code",
   "execution_count": 57,
   "metadata": {},
   "outputs": [
    {
     "name": "stdout",
     "output_type": "stream",
     "text": [
      "{'a': 10, 'b': 8, 'd': 6, 'c': 4}\n"
     ]
    }
   ],
   "source": [
    "def Merge(dict1, dict2): \n",
    "    res = {**dict1, **dict2} \n",
    "    return res \n",
    "      \n",
    "# 两个字典\n",
    "dict1 = {'a': 10, 'b': 8} \n",
    "dict2 = {'d': 6, 'c': 4} \n",
    "dict3 = Merge(dict1, dict2) \n",
    "print(dict3)"
   ]
  },
  {
   "cell_type": "code",
   "execution_count": 58,
   "metadata": {},
   "outputs": [
    {
     "name": "stdout",
     "output_type": "stream",
     "text": [
      "boonuR\n"
     ]
    }
   ],
   "source": [
    "str='Runoob'\n",
    "print(str[::-1])"
   ]
  },
  {
   "cell_type": "code",
   "execution_count": 59,
   "metadata": {},
   "outputs": [
    {
     "name": "stdout",
     "output_type": "stream",
     "text": [
      "boonuR\n"
     ]
    }
   ],
   "source": [
    "str='Runoob'\n",
    "print(''.join(reversed(str)))"
   ]
  },
  {
   "cell_type": "code",
   "execution_count": 60,
   "metadata": {},
   "outputs": [
    {
     "name": "stdout",
     "output_type": "stream",
     "text": [
      "boonuR\n"
     ]
    }
   ],
   "source": [
    "from functools import reduce\n",
    "\n",
    "str='Runoob'\n",
    "print(reduce(lambda x, y: y + x, str))"
   ]
  },
  {
   "cell_type": "code",
   "execution_count": 61,
   "metadata": {},
   "outputs": [
    {
     "name": "stdout",
     "output_type": "stream",
     "text": [
      "6\n"
     ]
    }
   ],
   "source": [
    "def findLen(str): \n",
    "    counter = 0\n",
    "    while str[counter:]: \n",
    "        counter += 1\n",
    "    return counter \n",
    "  \n",
    "str = \"runoob\"\n",
    "print(findLen(str))"
   ]
  },
  {
   "cell_type": "code",
   "execution_count": 63,
   "metadata": {},
   "outputs": [
    {
     "name": "stdout",
     "output_type": "stream",
     "text": [
      "字符串长度为: 6\n"
     ]
    }
   ],
   "source": [
    "def length(src):\n",
    "    # 字符串长度\n",
    "    count = 0\n",
    "    all_str = src[count:]\n",
    "\n",
    "    for x in all_str:\n",
    "        count += 1\n",
    "\n",
    "    print(\"字符串长度为: %s\" % count)\n",
    "\n",
    "src = \"Runoob\"\n",
    "length(src)"
   ]
  },
  {
   "cell_type": "code",
   "execution_count": 64,
   "metadata": {},
   "outputs": [
    {
     "name": "stdout",
     "output_type": "stream",
     "text": [
      "6\n",
      "24\n"
     ]
    }
   ],
   "source": [
    "def multiplyList(myList) :\n",
    "     \n",
    "    result = 1\n",
    "    for x in myList:\n",
    "         result = result * x  \n",
    "    return result  \n",
    "     \n",
    "list1 = [1, 2, 3]  \n",
    "list2 = [3, 2, 4]\n",
    "print(multiplyList(list1))\n",
    "print(multiplyList(list2))"
   ]
  },
  {
   "cell_type": "code",
   "execution_count": 65,
   "metadata": {},
   "outputs": [
    {
     "name": "stdout",
     "output_type": "stream",
     "text": [
      "630\n"
     ]
    }
   ],
   "source": [
    "from functools import reduce\n",
    "list1 = [1,3,5,6,7]\n",
    "sum = reduce(lambda x,y:x*y,list1)\n",
    "print(sum)"
   ]
  },
  {
   "cell_type": "code",
   "execution_count": 66,
   "metadata": {},
   "outputs": [
    {
     "name": "stdout",
     "output_type": "stream",
     "text": [
      "[3, 4, 5]\n",
      "60\n"
     ]
    }
   ],
   "source": [
    "def list_product(list_1,size):\n",
    "    if size == 0:\n",
    "        return 1    \n",
    "    else:\n",
    "        return list_1[size-1] * list_product(list_1,size - 1)\n",
    "\n",
    "\n",
    "list_1 = [i for i in range(3,6)] #生成列表[3,4,5]\n",
    "print(list_1)\n",
    "print(list_product(list_1,len(list_1)))"
   ]
  },
  {
   "cell_type": "code",
   "execution_count": 67,
   "metadata": {},
   "outputs": [
    {
     "name": "stdout",
     "output_type": "stream",
     "text": [
      "最大元素为: 99\n"
     ]
    }
   ],
   "source": [
    "list1 = [10, 20, 4, 45, 99]\n",
    " \n",
    "list1.sort()\n",
    " \n",
    "print(\"最大元素为:\", list1[-1])"
   ]
  },
  {
   "cell_type": "code",
   "execution_count": 68,
   "metadata": {},
   "outputs": [
    {
     "name": "stdout",
     "output_type": "stream",
     "text": [
      "最大元素为: 99\n"
     ]
    }
   ],
   "source": [
    "list1 = [10, 20, 1, 45, 99]\n",
    " \n",
    "print(\"最大元素为:\", max(list1))"
   ]
  },
  {
   "cell_type": "code",
   "execution_count": 69,
   "metadata": {},
   "outputs": [
    {
     "name": "stdout",
     "output_type": "stream",
     "text": [
      "最小元素为: 4\n"
     ]
    }
   ],
   "source": [
    "list1 = [10, 20, 4, 45, 99]\n",
    " \n",
    "list1.sort()\n",
    " \n",
    "print(\"最小元素为:\", *list1[:1])"
   ]
  },
  {
   "cell_type": "code",
   "execution_count": 70,
   "metadata": {},
   "outputs": [
    {
     "name": "stdout",
     "output_type": "stream",
     "text": [
      "最小元素为: 1\n"
     ]
    }
   ],
   "source": [
    "list1 = [10, 20, 1, 45, 99]\n",
    " \n",
    "print(\"最小元素为:\", min(list1))"
   ]
  },
  {
   "cell_type": "code",
   "execution_count": 71,
   "metadata": {},
   "outputs": [
    {
     "name": "stdout",
     "output_type": "stream",
     "text": [
      "[15, 14, 13, 12, 11, 10]\n"
     ]
    }
   ],
   "source": [
    "def Reverse(lst):\n",
    "    return [ele for ele in reversed(lst)]\n",
    "     \n",
    "lst = [10, 11, 12, 13, 14, 15]\n",
    "print(Reverse(lst))"
   ]
  },
  {
   "cell_type": "code",
   "execution_count": 72,
   "metadata": {},
   "outputs": [
    {
     "name": "stdout",
     "output_type": "stream",
     "text": [
      "[15, 14, 13, 12, 11, 10]\n"
     ]
    }
   ],
   "source": [
    "def Reverse(lst):\n",
    "    lst.reverse()\n",
    "    return lst\n",
    "     \n",
    "lst = [10, 11, 12, 13, 14, 15]\n",
    "print(Reverse(lst))"
   ]
  },
  {
   "cell_type": "code",
   "execution_count": 73,
   "metadata": {},
   "outputs": [
    {
     "name": "stdout",
     "output_type": "stream",
     "text": [
      "[15, 14, 13, 12, 11, 10]\n"
     ]
    }
   ],
   "source": [
    "def Reverse(lst):\n",
    "    new_lst = lst[::-1]\n",
    "    return new_lst\n",
    "     \n",
    "lst = [10, 11, 12, 13, 14, 15]\n",
    "print(Reverse(lst))"
   ]
  },
  {
   "cell_type": "code",
   "execution_count": 74,
   "metadata": {},
   "outputs": [
    {
     "name": "stdout",
     "output_type": "stream",
     "text": [
      "[10, 11, 12, 13, 14, 15]\n",
      "[15, 14, 13, 12, 11, 10]\n"
     ]
    }
   ],
   "source": [
    "li = [*range(10, 16)]\n",
    "# 得到列表 li = [10, 11, 12, 13, 14, 15], * 为解包符号\n",
    "print(li)\n",
    "\n",
    "# 降序排列\n",
    "li.sort(reverse = True)\n",
    "print(li)\n",
    "# 输出: [15, 14, 13, 12, 11, 10]"
   ]
  },
  {
   "cell_type": "code",
   "execution_count": 75,
   "metadata": {},
   "outputs": [
    {
     "name": "stdout",
     "output_type": "stream",
     "text": [
      "[122, 65, 234, 54, 12, 34]\n"
     ]
    }
   ],
   "source": [
    "def fanzhuan(list): \n",
    "    a=[]\n",
    "    i=len(list)\n",
    "    while i>0:\n",
    "         a.append(list[i-1]) #生成一个新的列表，原列表的最后一位成为第一位\n",
    "         i-=1 #依次向前进一位\n",
    "    return a\n",
    "fa=fanzhuan([34,12,54,234,65,122])\n",
    "print(fa)"
   ]
  },
  {
   "cell_type": "code",
   "execution_count": 76,
   "metadata": {},
   "outputs": [
    {
     "name": "stdout",
     "output_type": "stream",
     "text": [
      "225\n"
     ]
    }
   ],
   "source": [
    "def sumOfSeries(n):\n",
    "    sum = 0\n",
    "    for i in range(1, n+1):\n",
    "        sum +=i*i*i\n",
    "         \n",
    "    return sum\n",
    " \n",
    "   \n",
    "# 调用函数\n",
    "n = 5\n",
    "print(sumOfSeries(n))"
   ]
  },
  {
   "cell_type": "code",
   "execution_count": 1,
   "metadata": {},
   "outputs": [
    {
     "name": "stdout",
     "output_type": "stream",
     "text": [
      "59\n"
     ]
    }
   ],
   "source": [
    "list=[1,3,5,7,9,34]\n",
    "sum=0\n",
    "for i in range(0,len(list)):\n",
    "    sum+=list[i]\n",
    "print(sum)"
   ]
  },
  {
   "cell_type": "code",
   "execution_count": 2,
   "metadata": {},
   "outputs": [
    {
     "name": "stdout",
     "output_type": "stream",
     "text": [
      "59\n"
     ]
    }
   ],
   "source": [
    "from functools import reduce\n",
    "list=[1,3,5,7,9,34]\n",
    "\n",
    "print(reduce(lambda x,y:x+y,list))"
   ]
  },
  {
   "cell_type": "code",
   "execution_count": 5,
   "metadata": {},
   "outputs": [
    {
     "name": "stdin",
     "output_type": "stream",
     "text": [
      "您要输出几项?  12\n"
     ]
    },
    {
     "name": "stdout",
     "output_type": "stream",
     "text": [
      "斐波那契数列:\n",
      "0\n",
      "1\n",
      "1\n",
      "2\n",
      "3\n",
      "5\n",
      "8\n",
      "13\n",
      "21\n",
      "34\n",
      "55\n",
      "89\n"
     ]
    }
   ],
   "source": [
    "def recur_fibo(n):\n",
    "    if n <= 1:\n",
    "        return n\n",
    "    else:\n",
    "        return(recur_fibo(n-1) + recur_fibo(n-2))\n",
    " \n",
    " \n",
    "# 获取用户输入\n",
    "nterms = int(input(\"您要输出几项? \"))\n",
    " \n",
    "# 检查输入的数字是否正确\n",
    "if nterms <= 0:\n",
    "    print(\"输入正数\")\n",
    "else:\n",
    "    print(\"斐波那契数列:\")\n",
    "    for i in range(nterms):\n",
    "        print(recur_fibo(i))"
   ]
  },
  {
   "cell_type": "code",
   "execution_count": 6,
   "metadata": {},
   "outputs": [
    {
     "name": "stdout",
     "output_type": "stream",
     "text": [
      "[3, 2, 1]\n"
     ]
    }
   ],
   "source": [
    "def swapList(newList):\n",
    "    size = len(newList)\n",
    "     \n",
    "    temp = newList[0]\n",
    "    newList[0] = newList[size - 1]\n",
    "    newList[size - 1] = temp\n",
    "     \n",
    "    return newList\n",
    "\n",
    "newList = [1, 2, 3]\n",
    " \n",
    "print(swapList(newList))"
   ]
  },
  {
   "cell_type": "code",
   "execution_count": 7,
   "metadata": {},
   "outputs": [
    {
     "name": "stdout",
     "output_type": "stream",
     "text": [
      "[3, 2, 1]\n"
     ]
    }
   ],
   "source": [
    "def swapList(newList):\n",
    "     \n",
    "    newList[0], newList[-1] = newList[-1], newList[0]\n",
    " \n",
    "    return newList\n",
    "     \n",
    "newList = [1, 2, 3]\n",
    "print(swapList(newList))"
   ]
  },
  {
   "cell_type": "code",
   "execution_count": 8,
   "metadata": {},
   "outputs": [
    {
     "name": "stdout",
     "output_type": "stream",
     "text": [
      "[3, 2, 1]\n"
     ]
    }
   ],
   "source": [
    "def swapList(list):\n",
    "     \n",
    "    get = list[-1], list[0]\n",
    "     \n",
    "    list[0], list[-1] = get\n",
    "     \n",
    "    return list\n",
    "     \n",
    "newList = [1, 2, 3]\n",
    "print(swapList(newList))"
   ]
  },
  {
   "cell_type": "code",
   "execution_count": 9,
   "metadata": {},
   "outputs": [
    {
     "name": "stdout",
     "output_type": "stream",
     "text": [
      "[19, 65, 23, 90]\n"
     ]
    }
   ],
   "source": [
    "def swapPositions(list, pos1, pos2):\n",
    "     \n",
    "    list[pos1], list[pos2] = list[pos2], list[pos1]\n",
    "    return list\n",
    " \n",
    "List = [23, 65, 19, 90]\n",
    "pos1, pos2  = 1, 3\n",
    " \n",
    "print(swapPositions(List, pos1-1, pos2-1))"
   ]
  },
  {
   "cell_type": "code",
   "execution_count": 10,
   "metadata": {},
   "outputs": [
    {
     "name": "stdout",
     "output_type": "stream",
     "text": [
      "[19, 65, 23, 90]\n"
     ]
    }
   ],
   "source": [
    "def swapPositions(list, pos1, pos2):\n",
    "     \n",
    "    first_ele = list.pop(pos1)    \n",
    "    second_ele = list.pop(pos2-1)\n",
    "     \n",
    "    list.insert(pos1, second_ele)  \n",
    "    list.insert(pos2, first_ele)  \n",
    "     \n",
    "    return list\n",
    " \n",
    "List = [23, 65, 19, 90]\n",
    "pos1, pos2  = 1, 3\n",
    " \n",
    "print(swapPositions(List, pos1-1, pos2-1))"
   ]
  },
  {
   "cell_type": "code",
   "execution_count": 11,
   "metadata": {},
   "outputs": [
    {
     "name": "stdout",
     "output_type": "stream",
     "text": [
      "[19, 65, 23, 90]\n"
     ]
    }
   ],
   "source": [
    "def swapPositions(list, pos1, pos2):\n",
    " \n",
    "    get = list[pos1], list[pos2]\n",
    "       \n",
    "    list[pos2], list[pos1] = get\n",
    "       \n",
    "    return list\n",
    " \n",
    "List = [23, 65, 19, 90]\n",
    " \n",
    "pos1, pos2  = 1, 3\n",
    "print(swapPositions(List, pos1-1, pos2-1))"
   ]
  },
  {
   "cell_type": "code",
   "execution_count": 12,
   "metadata": {},
   "outputs": [
    {
     "name": "stdout",
     "output_type": "stream",
     "text": [
      "[1, 2, 3, 4, 6, 5, 7]\n"
     ]
    }
   ],
   "source": [
    "def reversal(list,n1,n2):\n",
    "    temp = list[n1]\n",
    "    list[n1] = list[n2]\n",
    "    list[n2] = temp\n",
    "    print(list)\n",
    "list = [1,2,3,4,5,6,7]\n",
    "reversal(list,4,5)"
   ]
  },
  {
   "cell_type": "code",
   "execution_count": 13,
   "metadata": {},
   "outputs": [
    {
     "name": "stdout",
     "output_type": "stream",
     "text": [
      "3 4 5 6 7 1 2 "
     ]
    }
   ],
   "source": [
    "def leftRotate(arr, d, n):\n",
    "    for i in range(d):\n",
    "        leftRotatebyOne(arr, n)\n",
    "def leftRotatebyOne(arr, n):\n",
    "    temp = arr[0]\n",
    "    for i in range(n-1):\n",
    "        arr[i] = arr[i+1]\n",
    "    arr[n-1] = temp\n",
    "         \n",
    "def printArray(arr,size):\n",
    "    for i in range(size):\n",
    "        print (\"%d\"% arr[i],end=\" \")\n",
    "arr = [1, 2, 3, 4, 5, 6, 7]\n",
    "leftRotate(arr, 2, 7)\n",
    "printArray(arr, 7)"
   ]
  },
  {
   "cell_type": "code",
   "execution_count": 14,
   "metadata": {},
   "outputs": [
    {
     "name": "stdout",
     "output_type": "stream",
     "text": [
      "3 4 5 6 7 1 2 "
     ]
    }
   ],
   "source": [
    "def leftRotate(arr, d, n):\n",
    "    for i in range(gcd(d,n)):\n",
    "         \n",
    "        temp = arr[i]\n",
    "        j = i\n",
    "        while 1:\n",
    "            k = j + d\n",
    "            if k >= n:\n",
    "                k = k - n\n",
    "            if k == i:\n",
    "                break\n",
    "            arr[j] = arr[k]\n",
    "            j = k\n",
    "        arr[j] = temp\n",
    "\n",
    "def printArray(arr, size):\n",
    "    for i in range(size):\n",
    "        print (\"%d\" % arr[i], end=\" \")\n",
    "\n",
    "def gcd(a, b):\n",
    "    if b == 0:\n",
    "        return a;\n",
    "    else:\n",
    "        return gcd(b, a%b)\n",
    "\n",
    "arr = [1, 2, 3, 4, 5, 6, 7]\n",
    "leftRotate(arr, 2, 7)\n",
    "printArray(arr, 7)"
   ]
  },
  {
   "cell_type": "code",
   "execution_count": 15,
   "metadata": {},
   "outputs": [
    {
     "name": "stdout",
     "output_type": "stream",
     "text": [
      "3 4 5 6 7 1 2 "
     ]
    }
   ],
   "source": [
    "def rverseArray(arr, start, end):\n",
    "    while (start < end):\n",
    "        temp = arr[start]\n",
    "        arr[start] = arr[end]\n",
    "        arr[end] = temp\n",
    "        start += 1\n",
    "        end = end-1\n",
    "def leftRotate(arr, d):\n",
    "    n = len(arr)\n",
    "    rverseArray(arr, 0, d-1)\n",
    "    rverseArray(arr, d, n-1)\n",
    "    rverseArray(arr, 0, n-1)\n",
    "def printArray(arr):\n",
    "    for i in range(0, len(arr)):\n",
    "        print (arr[i], end=' ')\n",
    "arr = [1, 2, 3, 4, 5, 6, 7]\n",
    "leftRotate(arr, 2)\n",
    "printArray(arr)"
   ]
  },
  {
   "cell_type": "code",
   "execution_count": 16,
   "metadata": {},
   "outputs": [
    {
     "name": "stdout",
     "output_type": "stream",
     "text": [
      "查看 4 是否在列表中 ( 使用循环 ) : \n",
      "存在\n",
      "查看 4 是否在列表中 ( 使用 in 关键字 ) : \n",
      "存在\n"
     ]
    }
   ],
   "source": [
    "test_list = [ 1, 6, 3, 5, 3, 4 ]\n",
    " \n",
    "print(\"查看 4 是否在列表中 ( 使用循环 ) : \")\n",
    " \n",
    "for i in test_list:\n",
    "    if(i == 4) :\n",
    "        print (\"存在\")\n",
    "print(\"查看 4 是否在列表中 ( 使用 in 关键字 ) : \")\n",
    "\n",
    "if (4 in test_list):\n",
    "    print (\"存在\")"
   ]
  },
  {
   "cell_type": "code",
   "execution_count": 17,
   "metadata": {},
   "outputs": [
    {
     "name": "stdout",
     "output_type": "stream",
     "text": [
      "查看 4 是否在列表中 ( 使用 set() + in) : \n",
      "存在\n",
      "查看 4 是否在列表中 ( 使用 count()) : \n",
      "存在\n"
     ]
    }
   ],
   "source": [
    "test_list_set = [ 1, 6, 3, 5, 3, 4 ]\n",
    "test_list_bisect = [ 1, 6, 3, 5, 3, 4 ]\n",
    " \n",
    "print(\"查看 4 是否在列表中 ( 使用 set() + in) : \")\n",
    " \n",
    "test_list_set = set(test_list_set)\n",
    "if 4 in test_list_set :\n",
    "    print (\"存在\")\n",
    "print(\"查看 4 是否在列表中 ( 使用 count()) : \")\n",
    " \n",
    "if test_list_bisect.count(4) > 0 :\n",
    "    print (\"存在\")"
   ]
  },
  {
   "cell_type": "code",
   "execution_count": 18,
   "metadata": {},
   "outputs": [
    {
     "name": "stdout",
     "output_type": "stream",
     "text": [
      "原始列表: [4, 8, 2, 10, 15, 18]\n",
      "复制后列表: [4, 8, 2, 10, 15, 18]\n"
     ]
    }
   ],
   "source": [
    "def clone_runoob(li1):\n",
    "    li_copy = li1[:]\n",
    "    return li_copy\n",
    " \n",
    "li1 = [4, 8, 2, 10, 15, 18]\n",
    "li2 = clone_runoob(li1)\n",
    "print(\"原始列表:\", li1)\n",
    "print(\"复制后列表:\", li2)"
   ]
  },
  {
   "cell_type": "code",
   "execution_count": 19,
   "metadata": {},
   "outputs": [
    {
     "name": "stdout",
     "output_type": "stream",
     "text": [
      "原始列表: [4, 8, 2, 10, 15, 18]\n",
      "复制后列表: [4, 8, 2, 10, 15, 18]\n"
     ]
    }
   ],
   "source": [
    "def clone_runoob(li1):\n",
    "    li_copy = []\n",
    "    li_copy.extend(li1)\n",
    "    return li_copy\n",
    " \n",
    "li1 = [4, 8, 2, 10, 15, 18]\n",
    "li2 = clone_runoob(li1)\n",
    "print(\"原始列表:\", li1)\n",
    "print(\"复制后列表:\", li2)"
   ]
  },
  {
   "cell_type": "code",
   "execution_count": 21,
   "metadata": {},
   "outputs": [
    {
     "name": "stdout",
     "output_type": "stream",
     "text": [
      "5\n"
     ]
    }
   ],
   "source": [
    "def countX(lst, x):\n",
    "    count = 0\n",
    "    for ele in lst:\n",
    "        if (ele == x):\n",
    "            count = count + 1\n",
    "    return count\n",
    " \n",
    "lst = [8, 6, 8, 10, 8, 20, 10, 8, 8]\n",
    "x = 8\n",
    "print(countX(lst, x))"
   ]
  },
  {
   "cell_type": "code",
   "execution_count": 22,
   "metadata": {},
   "outputs": [
    {
     "name": "stdout",
     "output_type": "stream",
     "text": [
      "5\n"
     ]
    }
   ],
   "source": [
    "def countX(lst, x):\n",
    "    return lst.count(x)\n",
    " \n",
    "lst = [8, 6, 8, 10, 8, 20, 10, 8, 8]\n",
    "x = 8\n",
    "print(countX(lst, x))"
   ]
  },
  {
   "cell_type": "code",
   "execution_count": 23,
   "metadata": {},
   "outputs": [
    {
     "name": "stdout",
     "output_type": "stream",
     "text": [
      "清空前: [6, 0, 4, 1]\n",
      "清空后: []\n"
     ]
    }
   ],
   "source": [
    "RUNOOB = [6, 0, 4, 1]\n",
    "print('清空前:', RUNOOB)  \n",
    " \n",
    "RUNOOB.clear()\n",
    "print('清空后:', RUNOOB) "
   ]
  },
  {
   "cell_type": "code",
   "execution_count": 24,
   "metadata": {},
   "outputs": [
    {
     "name": "stdout",
     "output_type": "stream",
     "text": [
      "WWW.RUNOOB.COM\n",
      "www.runoob.com\n",
      "Www.runoob.com\n",
      "Www.Runoob.Com\n"
     ]
    }
   ],
   "source": [
    "str = \"www.runoob.com\"\n",
    "print(str.upper())          \n",
    "print(str.lower())         \n",
    "print(str.capitalize())     \n",
    "print(str.title())   "
   ]
  },
  {
   "cell_type": "code",
   "execution_count": 25,
   "metadata": {},
   "outputs": [
    {
     "name": "stdout",
     "output_type": "stream",
     "text": [
      "(1, 5, 9)\n",
      "(1, 5, 10)\n",
      "(1, 5, 11)\n",
      "(1, 5, 12)\n",
      "(1, 6, 9)\n",
      "(1, 6, 10)\n",
      "(1, 6, 11)\n",
      "(1, 6, 12)\n",
      "(1, 7, 9)\n",
      "(1, 7, 10)\n",
      "(1, 7, 11)\n",
      "(1, 7, 12)\n",
      "(1, 8, 9)\n",
      "(1, 8, 10)\n",
      "(1, 8, 11)\n",
      "(1, 8, 12)\n",
      "(2, 5, 9)\n",
      "(2, 5, 10)\n",
      "(2, 5, 11)\n",
      "(2, 5, 12)\n",
      "(2, 6, 9)\n",
      "(2, 6, 10)\n",
      "(2, 6, 11)\n",
      "(2, 6, 12)\n",
      "(2, 7, 9)\n",
      "(2, 7, 10)\n",
      "(2, 7, 11)\n",
      "(2, 7, 12)\n",
      "(2, 8, 9)\n",
      "(2, 8, 10)\n",
      "(2, 8, 11)\n",
      "(2, 8, 12)\n",
      "(3, 5, 9)\n",
      "(3, 5, 10)\n",
      "(3, 5, 11)\n",
      "(3, 5, 12)\n",
      "(3, 6, 9)\n",
      "(3, 6, 10)\n",
      "(3, 6, 11)\n",
      "(3, 6, 12)\n",
      "(3, 7, 9)\n",
      "(3, 7, 10)\n",
      "(3, 7, 11)\n",
      "(3, 7, 12)\n",
      "(3, 8, 9)\n",
      "(3, 8, 10)\n",
      "(3, 8, 11)\n",
      "(3, 8, 12)\n",
      "(4, 5, 9)\n",
      "(4, 5, 10)\n",
      "(4, 5, 11)\n",
      "(4, 5, 12)\n",
      "(4, 6, 9)\n",
      "(4, 6, 10)\n",
      "(4, 6, 11)\n",
      "(4, 6, 12)\n",
      "(4, 7, 9)\n",
      "(4, 7, 10)\n",
      "(4, 7, 11)\n",
      "(4, 7, 12)\n",
      "(4, 8, 9)\n",
      "(4, 8, 10)\n",
      "(4, 8, 11)\n",
      "(4, 8, 12)\n"
     ]
    }
   ],
   "source": [
    "import itertools\n",
    "\n",
    "class cartesian(object):\n",
    "    def __init__(self):\n",
    "        self._data_list=[]\n",
    "\n",
    "    def add_data(self,data=[]): #添加生成笛卡尔积的数据列表\n",
    "        self._data_list.append(data)\n",
    "\n",
    "    def build(self): #计算笛卡尔积\n",
    "        for item in itertools.product(*self._data_list):\n",
    "            print(item)\n",
    "\n",
    "if __name__==\"__main__\":\n",
    "    car=cartesian()\n",
    "    car.add_data([1,2,3,4])\n",
    "    car.add_data([5,6,7,8])\n",
    "    car.add_data([9,10,11,12])\n",
    "    car.build()"
   ]
  },
  {
   "cell_type": "code",
   "execution_count": 26,
   "metadata": {},
   "outputs": [
    {
     "name": "stdout",
     "output_type": "stream",
     "text": [
      "matchObj.group() :  Cats are smarter than dogs\n",
      "matchObj.group(1) :  Cats\n",
      "matchObj.group(2) :  smarter\n"
     ]
    }
   ],
   "source": [
    "import re\n",
    " \n",
    "line = \"Cats are smarter than dogs\"\n",
    "# .* 表示任意匹配除换行符（\\n、\\r）之外的任何单个或多个字符\n",
    "# (.*?) 表示\"非贪婪\"模式，只保存第一个匹配到的子串\n",
    "matchObj = re.match( r'(.*) are (.*?) .*', line, re.M|re.I)\n",
    " \n",
    "if matchObj:\n",
    "    print (\"matchObj.group() : \", matchObj.group())\n",
    "    print (\"matchObj.group(1) : \", matchObj.group(1))\n",
    "    print (\"matchObj.group(2) : \", matchObj.group(2))\n",
    "else:\n",
    "    print (\"No match!!\")"
   ]
  },
  {
   "cell_type": "code",
   "execution_count": 27,
   "metadata": {},
   "outputs": [
    {
     "name": "stdout",
     "output_type": "stream",
     "text": [
      "(0, 3)\n",
      "(11, 14)\n"
     ]
    }
   ],
   "source": [
    "import re\n",
    " \n",
    "print(re.search('www', 'www.runoob.com').span())  # 在起始位置匹配\n",
    "print(re.search('com', 'www.runoob.com').span())  "
   ]
  },
  {
   "cell_type": "code",
   "execution_count": 28,
   "metadata": {},
   "outputs": [
    {
     "name": "stdout",
     "output_type": "stream",
     "text": [
      "searchObj.group() :  Cats are smarter than dogs\n",
      "searchObj.group(1) :  Cats\n",
      "searchObj.group(2) :  smarter\n"
     ]
    }
   ],
   "source": [
    "import re\n",
    " \n",
    "line = \"Cats are smarter than dogs\"\n",
    " \n",
    "searchObj = re.search( r'(.*) are (.*?) .*', line, re.M|re.I)\n",
    " \n",
    "if searchObj:\n",
    "    print (\"searchObj.group() : \", searchObj.group())\n",
    "    print (\"searchObj.group(1) : \", searchObj.group(1))\n",
    "    print (\"searchObj.group(2) : \", searchObj.group(2))\n",
    "else:\n",
    "    print (\"Nothing found!!\")"
   ]
  },
  {
   "cell_type": "code",
   "execution_count": 33,
   "metadata": {},
   "outputs": [
    {
     "name": "stdout",
     "output_type": "stream",
     "text": [
      "No match!!\n",
      "search --> matchObj.group() :  dogs\n"
     ]
    }
   ],
   "source": [
    "import re\n",
    " \n",
    "line = \"Cats are smarter than dogs\"\n",
    "\n",
    "matchObj = re.match( r'dogs', line, re.M|re.I)\n",
    "if matchObj:\n",
    "    print (\"match --> matchObj.group() : \", matchObj.group())\n",
    "else:\n",
    "    print (\"No match!!\")\n",
    "\n",
    "matchObj = re.search( r'dogs', line, re.M|re.I)\n",
    "if matchObj:\n",
    "    print (\"search --> matchObj.group() : \", matchObj.group())\n",
    "else:\n",
    "    print (\"No match!!\")"
   ]
  },
  {
   "cell_type": "code",
   "execution_count": 34,
   "metadata": {},
   "outputs": [
    {
     "name": "stdout",
     "output_type": "stream",
     "text": [
      "电话号码 :  2004-959-559 \n",
      "电话号码 :  2004959559\n"
     ]
    }
   ],
   "source": [
    "import re\n",
    " \n",
    "phone = \"2004-959-559 # 这是一个电话号码\"\n",
    " \n",
    "\n",
    "num = re.sub(r'#.*$', \"\", phone)\n",
    "print (\"电话号码 : \", num)\n",
    " \n",
    "\n",
    "num = re.sub(r'\\D', \"\", phone)\n",
    "print (\"电话号码 : \", num)"
   ]
  },
  {
   "cell_type": "code",
   "execution_count": 37,
   "metadata": {},
   "outputs": [
    {
     "ename": "IndentationError",
     "evalue": "unexpected indent (<ipython-input-37-2f6ffe28ed40>, line 3)",
     "output_type": "error",
     "traceback": [
      "\u001b[1;36m  File \u001b[1;32m\"<ipython-input-37-2f6ffe28ed40>\"\u001b[1;36m, line \u001b[1;32m3\u001b[0m\n\u001b[1;33m    m = pattern.match('one12twothree34four')        # 查找头部，没有匹配\u001b[0m\n\u001b[1;37m    ^\u001b[0m\n\u001b[1;31mIndentationError\u001b[0m\u001b[1;31m:\u001b[0m unexpected indent\n"
     ]
    }
   ],
   "source": [
    "import re\n",
    "pattern = re.compile(r'\\d+')                    # 用于匹配至少一个数字\n",
    " m = pattern.match('one12twothree34four')        # 查找头部，没有匹配\n",
    "print( m )"
   ]
  },
  {
   "cell_type": "code",
   "execution_count": 39,
   "metadata": {},
   "outputs": [
    {
     "name": "stdout",
     "output_type": "stream",
     "text": [
      "['123', '456']\n",
      "['123', '456']\n",
      "['88', '12']\n"
     ]
    }
   ],
   "source": [
    "import re\n",
    " \n",
    "result1 = re.findall(r'\\d+','runoob 123 google 456')\n",
    " \n",
    "pattern = re.compile(r'\\d+')   # 查找数字\n",
    "result2 = pattern.findall('runoob 123 google 456')\n",
    "result3 = pattern.findall('run88oob123google456', 0, 10)\n",
    " \n",
    "print(result1)\n",
    "print(result2)\n",
    "print(result3)"
   ]
  },
  {
   "cell_type": "code",
   "execution_count": null,
   "metadata": {},
   "outputs": [],
   "source": []
  }
 ],
 "metadata": {
  "kernelspec": {
   "display_name": "Python 3",
   "language": "python",
   "name": "python3"
  },
  "language_info": {
   "codemirror_mode": {
    "name": "ipython",
    "version": 3
   },
   "file_extension": ".py",
   "mimetype": "text/x-python",
   "name": "python",
   "nbconvert_exporter": "python",
   "pygments_lexer": "ipython3",
   "version": "3.8.3"
  }
 },
 "nbformat": 4,
 "nbformat_minor": 4
}
