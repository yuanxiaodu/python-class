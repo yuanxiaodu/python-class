{
 "cells": [
  {
   "cell_type": "code",
   "execution_count": 1,
   "metadata": {},
   "outputs": [
    {
     "name": "stdout",
     "output_type": "stream",
     "text": [
      "[[1 2 3]\n",
      " [2 3 4]]\n",
      "number of dim(矩阵的维数): 2\n",
      "shape(几行几列): (2, 3)\n",
      "size: 6\n"
     ]
    }
   ],
   "source": [
    "# Numpy和Pandas都是基于C语言实现的\n",
    "# Pandas被认为是Numpy的升级版\n",
    "import numpy as np\n",
    "array = np.array([[1, 2, 3],\n",
    "                  [2, 3, 4]])\n",
    "print(array)\n",
    "print('number of dim(矩阵的维数):', array.ndim)\n",
    "print('shape(几行几列):', array.shape)\n",
    "print('size:', array.size)\n"
   ]
  },
  {
   "cell_type": "code",
   "execution_count": 2,
   "metadata": {},
   "outputs": [
    {
     "name": "stdout",
     "output_type": "stream",
     "text": [
      "[[ 2 23  4]\n",
      " [ 3 32  5]\n",
      " [ 2  2  2]]\n",
      "[[0. 0. 0. 0.]\n",
      " [0. 0. 0. 0.]\n",
      " [0. 0. 0. 0.]]\n",
      "[[1. 1. 1. 1.]\n",
      " [1. 1. 1. 1.]\n",
      " [1. 1. 1. 1.]]\n",
      "[[1.24447972e-311 3.16202013e-322 0.00000000e+000 0.00000000e+000]\n",
      " [1.37961302e-306 8.38288416e+169 3.06072738e-057 5.15820460e-062]\n",
      " [2.00561523e-076 4.03641705e+175 7.71628549e-043 9.40898543e-047]]\n",
      "[[2. 2. 2. 2.]\n",
      " [2. 2. 2. 2.]\n",
      " [2. 2. 2. 2.]]\n",
      "[10 12 14 16 18]\n",
      "[[ 0  1  2  3]\n",
      " [ 4  5  6  7]\n",
      " [ 8  9 10 11]]\n",
      "[[ 1.          1.47368421  1.94736842  2.42105263  2.89473684]\n",
      " [ 3.36842105  3.84210526  4.31578947  4.78947368  5.26315789]\n",
      " [ 5.73684211  6.21052632  6.68421053  7.15789474  7.63157895]\n",
      " [ 8.10526316  8.57894737  9.05263158  9.52631579 10.        ]]\n"
     ]
    }
   ],
   "source": [
    "import numpy as np\n",
    "\n",
    "a = np.array([[2, 23, 4],\n",
    "              [3, 32, 5],\n",
    "              [2, 2, 2]])\n",
    "b = np.zeros((3, 4))\n",
    "c = np.ones((3, 4))\n",
    "# 说是一个空的np其实是一个非常接近0的数字\n",
    "d = np.empty((3, 4))\n",
    "# 想要生成元素全是2的矩阵\n",
    "e = 2 * np.ones((3, 4))\n",
    "# 生成一个np数列从10到20(不包括20)，步长设置为2 \n",
    "f = np.arange(10, 20, 2)\n",
    "# 只有一个参数，默认从0开始,想把数列定义成3行4列只需要reshape\n",
    "g = np.arange(12).reshape((3, 4))\n",
    "# 生成一个从1到10(不包含10)的数列，第三个参数20，是将这个区间分为20段\n",
    "h = np.linspace(1, 10, 20).reshape((4, 5))\n",
    "\n",
    "\n",
    "# print(a.dtype)\n",
    "print(a)\n",
    "print(b)\n",
    "print(c)\n",
    "print(d)\n",
    "print(e)\n",
    "print(f)\n",
    "print(g)\n",
    "print(h)"
   ]
  },
  {
   "cell_type": "code",
   "execution_count": 3,
   "metadata": {},
   "outputs": [
    {
     "name": "stdout",
     "output_type": "stream",
     "text": [
      "[[0.59166352 0.28094705 0.6324734  0.49806603]\n",
      " [0.80168466 0.83274288 0.47870623 0.86406948]]\n",
      "0.2809470496918286\n",
      "0.8640694839598247\n",
      "4.9803532516532405\n",
      "[0.59166352 0.28094705 0.47870623 0.49806603]\n",
      "[0.80168466 0.83274288 0.6324734  0.86406948]\n",
      "[1.39334818 1.11368993 1.11117964 1.36213551]\n",
      "[[1 1]\n",
      " [0 1]]\n",
      "[[0 1]\n",
      " [2 3]]\n",
      "[[0 1]\n",
      " [0 3]]\n",
      "[[2 4]\n",
      " [2 3]]\n",
      "[[2 4]\n",
      " [2 3]]\n",
      "[[1 1]\n",
      " [0 1]]\n",
      "[[0 1]\n",
      " [2 3]]\n",
      "[10 19 28 37]\n",
      "[10 21 32 43]\n",
      "[  0  20  60 120]\n",
      "[ 100  400  900 1600]\n",
      "[0 1 2 3]\n",
      "[ True  True  True False]\n"
     ]
    }
   ],
   "source": [
    "import numpy as np\n",
    "# 随机生成一个2行4列的矩阵,元素值从0到1\n",
    "a = np.random.random((2, 4))\n",
    "print(a)\n",
    "# 分别对应求矩阵a的最小值，最大值，以及求和\n",
    "# 其中axis参数表示你想来求每行还是每列的最大，最小或者和\n",
    "# axis = 0 表示每列，axis = 1表示每行\n",
    "print(np.min(a))\n",
    "print(np.max(a))\n",
    "print(np.sum(a))\n",
    "\n",
    "print(np.min(a, axis=0))\n",
    "print(np.max(a, axis=0))\n",
    "print(np.sum(a, axis=0))\n",
    "\n",
    "\n",
    "a = np.array([10, 20, 30, 40])\n",
    "b = np.arange(4)\n",
    "c = np.array([[1, 1],\n",
    "              [0, 1]])\n",
    "d = np.arange(4).reshape((2, 2))\n",
    "print(c)\n",
    "print(d)\n",
    "# 直接相乘\n",
    "e = c*d\n",
    "# 矩阵相乘，下列两种方式等效\n",
    "e_cot = np.dot(c, d)\n",
    "e_ = c @ d\n",
    "\n",
    "print(e)\n",
    "print(e_cot)\n",
    "print(e_)\n",
    "\n",
    "print(c)\n",
    "print(d)\n",
    "\n",
    "c = a - b\n",
    "print(c)\n",
    "\n",
    "c = a + b\n",
    "print(c)\n",
    "\n",
    "c = a * b\n",
    "print(c)\n",
    "\n",
    "c = a**2\n",
    "print(c)\n",
    "\n",
    "print(b)\n",
    "print(b < 3)\n"
   ]
  },
  {
   "cell_type": "code",
   "execution_count": 4,
   "metadata": {},
   "outputs": [
    {
     "name": "stdout",
     "output_type": "stream",
     "text": [
      "[[ 2  3  4  5]\n",
      " [ 6  7  8  9]\n",
      " [10 11 12 13]]\n",
      "0\n",
      "11\n",
      "[[ 2  5  9 14]\n",
      " [20 27 35 44]\n",
      " [54 65 77 90]]\n",
      "(array([0, 0, 0, 0, 1, 1, 1, 1, 2, 2, 2, 2], dtype=int64), array([0, 1, 2, 3, 0, 1, 2, 3, 0, 1, 2, 3], dtype=int64))\n",
      "[[ 2  6 10]\n",
      " [ 3  7 11]\n",
      " [ 4  8 12]\n",
      " [ 5  9 13]]\n",
      "[[ 2  6 10]\n",
      " [ 3  7 11]\n",
      " [ 4  8 12]\n",
      " [ 5  9 13]]\n",
      "[[140 158 176 194]\n",
      " [158 179 200 221]\n",
      " [176 200 224 248]\n",
      " [194 221 248 275]]\n",
      "[[140 158 176 194]\n",
      " [158 179 200 221]\n",
      " [176 200 224 248]\n",
      " [194 221 248 275]]\n",
      "[[140 158 176 194]\n",
      " [158 179 200 221]\n",
      " [176 200 224 248]\n",
      " [194 221 248 275]]\n",
      "[[5 5 5 5]\n",
      " [6 7 8 9]\n",
      " [9 9 9 9]]\n",
      "[ 3.5  7.5 11.5]\n",
      "[6. 7. 8. 9.]\n"
     ]
    }
   ],
   "source": [
    "import numpy as np\n",
    "\n",
    "A = np.arange(2, 14).reshape((3, 4))\n",
    "\n",
    "print(A)\n",
    "# 输出A中最小值或最大值的索引\n",
    "print(np.argmin(A))\n",
    "print(np.argmax(A))\n",
    "# 逐项累加求和\n",
    "print(np.cumsum(A).reshape((3, 4)))\n",
    "# 输出A按照矩阵的排序是第几个(Python中默认从0，0开始)\n",
    "print(np.nonzero(A))\n",
    "\n",
    "# 输出矩阵A的转置\n",
    "print(A.T)\n",
    "print(np.transpose(A))\n",
    "\n",
    "# 矩阵转置相乘\n",
    "print(np.dot(A.T, A))\n",
    "print(A.T.dot(A))\n",
    "print(np.transpose(A).dot(A))\n",
    "\n",
    "# numpy中所有大于9的都变为9，所有小于5的都变为5，在此之间的值保持不变\n",
    "print(np.clip(A, 5, 9))\n",
    "# 求A中的行的元素平均值\n",
    "print(np.mean(A, axis=1))\n",
    "# 求A中的列的元素平均值\n",
    "print(np.mean(A, axis=0))\n"
   ]
  },
  {
   "cell_type": "code",
   "execution_count": 5,
   "metadata": {},
   "outputs": [
    {
     "name": "stdout",
     "output_type": "stream",
     "text": [
      "[[ 3  4  5  6]\n",
      " [ 7  8  9 10]\n",
      " [11 12 13 14]]\n",
      "8\n",
      "8\n",
      "[11 12 13 14]\n",
      "[ 4  8 12]\n",
      "[3 4 5 6]\n",
      "[ 7  8  9 10]\n",
      "[11 12 13 14]\n",
      "[ 3  7 11]\n",
      "[ 4  8 12]\n",
      "[ 5  9 13]\n",
      "[ 6 10 14]\n",
      "[ 3  4  5  6  7  8  9 10 11 12 13 14]\n",
      "3\n",
      "4\n",
      "5\n",
      "6\n",
      "7\n",
      "8\n",
      "9\n",
      "10\n",
      "11\n",
      "12\n",
      "13\n",
      "14\n"
     ]
    }
   ],
   "source": [
    "import numpy as np\n",
    "A = np.arange(3, 15).reshape((3, 4))\n",
    "print(A)\n",
    "# 求矩阵中索引对应的值\n",
    "print(A[1][1])\n",
    "print(A[1, 1])\n",
    "# 求A中第二行所有元素\n",
    "print(A[2, :])\n",
    "# 求A中第一列的所有数\n",
    "print(A[:, 1])\n",
    "# 求A每一行的数\n",
    "for row in A:\n",
    "    print(row)\n",
    "# 求A每一列的数(即A的转置每一行的数)\n",
    "for column in A.T:\n",
    "    print(column)\n",
    "\n",
    "# 将A变为一行\n",
    "print(A.flatten())\n",
    "for item in A.flat:\n",
    "    print(item)\n"
   ]
  },
  {
   "cell_type": "code",
   "execution_count": 6,
   "metadata": {},
   "outputs": [
    {
     "name": "stdout",
     "output_type": "stream",
     "text": [
      "[1 1 1]\n",
      "[2 2 2]\n",
      "[[1]\n",
      " [1]\n",
      " [1]]\n",
      "[[2]\n",
      " [2]\n",
      " [2]]\n",
      "[1 1 1]\n",
      "[2 2 2]\n",
      "[[1]\n",
      " [1]\n",
      " [1]]\n",
      "[[2]\n",
      " [2]\n",
      " [2]]\n",
      "[[[1]\n",
      "  [1]\n",
      "  [1]]]\n",
      "[[[2]\n",
      "  [2]\n",
      "  [2]]]\n",
      "[[[1]\n",
      "  [1]\n",
      "  [1]]\n",
      "\n",
      " [[2]\n",
      "  [2]\n",
      "  [2]]]\n",
      "[[[1]\n",
      "  [1]\n",
      "  [1]\n",
      "  [2]\n",
      "  [2]\n",
      "  [2]]]\n",
      "[[[1]\n",
      "  [1]\n",
      "  [1]]\n",
      "\n",
      " [[2]\n",
      "  [2]\n",
      "  [2]]]\n",
      "(1, 3, 1) (2, 3, 1)\n",
      "[[[1]\n",
      "  [1]\n",
      "  [1]\n",
      "  [2]\n",
      "  [2]\n",
      "  [2]]]\n",
      "(1, 3, 1) (1, 6, 1)\n"
     ]
    }
   ],
   "source": [
    "import numpy as np\n",
    "\n",
    "a = np.array([1, 1, 1])\n",
    "b = np.array([2, 2, 2])\n",
    "print(a)\n",
    "print(b)\n",
    "# 单行单列的无法直接进行转置，下面的操作则可以将单行转变为单列\n",
    "A = a[:, np.newaxis]\n",
    "B = b[:, np.newaxis]\n",
    "print(A)\n",
    "print(B)\n",
    "print(a)\n",
    "print(b)\n",
    "a = A[np.newaxis, :]\n",
    "b = B[np.newaxis, :]\n",
    "print(A)\n",
    "print(B)\n",
    "print(a)\n",
    "print(b)\n",
    "# vertical stack上下合并\n",
    "print(np.vstack((a, b)))\n",
    "# horizental stack左右合并\n",
    "print(np.hstack((a, b)))\n",
    "C = np.vstack((a, b))\n",
    "print(C)\n",
    "print(a.shape, C.shape)\n",
    "\n",
    "D = np.hstack((a, b))\n",
    "print(D)\n",
    "print(a.shape, D.shape)\n"
   ]
  },
  {
   "cell_type": "code",
   "execution_count": 7,
   "metadata": {},
   "outputs": [
    {
     "name": "stdout",
     "output_type": "stream",
     "text": [
      "[[ 0  1  2  3]\n",
      " [ 4  5  6  7]\n",
      " [ 8  9 10 11]]\n",
      "[array([[0, 1],\n",
      "       [4, 5],\n",
      "       [8, 9]]), array([[ 2,  3],\n",
      "       [ 6,  7],\n",
      "       [10, 11]])]\n",
      "[array([[0, 1, 2, 3]]), array([[4, 5, 6, 7]]), array([[ 8,  9, 10, 11]])]\n",
      "[array([[0, 1],\n",
      "       [4, 5],\n",
      "       [8, 9]]), array([[ 2],\n",
      "       [ 6],\n",
      "       [10]]), array([[ 3],\n",
      "       [ 7],\n",
      "       [11]])]\n",
      "[array([[0, 1, 2, 3]]), array([[4, 5, 6, 7]]), array([[ 8,  9, 10, 11]])]\n",
      "[array([[0, 1],\n",
      "       [4, 5],\n",
      "       [8, 9]]), array([[ 2,  3],\n",
      "       [ 6,  7],\n",
      "       [10, 11]])]\n"
     ]
    }
   ],
   "source": [
    "import numpy as np\n",
    "\n",
    "A = np.arange(12).reshape((3, 4))\n",
    "print(A)\n",
    "# 将A按照列分为两块，第二个参数只能是等量分割，4列可以分为2块或者4块\n",
    "print(np.split(A, 2, axis=1))\n",
    "# 将A按照行分为三块，同样是等量分割\n",
    "print(np.split(A, 3, axis=0))\n",
    "\n",
    "# 不均等分割\n",
    "print(np.array_split(A, 3, axis=1))\n",
    "\n",
    "# 行分割\n",
    "print(np.vsplit(A, 3))\n",
    "# 列分割\n",
    "print(np.hsplit(A, 2))\n"
   ]
  },
  {
   "cell_type": "code",
   "execution_count": 8,
   "metadata": {},
   "outputs": [
    {
     "name": "stdout",
     "output_type": "stream",
     "text": [
      "[0 1 2 3]\n",
      "[11  1  2  3]\n",
      "[11  1  2  3]\n",
      "[11  1  2  3]\n",
      "[11  1  2  3]\n",
      "[11  1  2  3]\n",
      "[11  1  2 66]\n",
      "[11  1  2  3]\n"
     ]
    }
   ],
   "source": [
    "import numpy as np\n",
    "\n",
    "a = np.arange(4)\n",
    "print(a)\n",
    "b = a\n",
    "c = a\n",
    "d = b\n",
    "\n",
    "a[0] = 11\n",
    "# 修改了a其他都变了，其实这些变量相当于都关联了a,即浅拷贝\n",
    "print(a)\n",
    "print(b)\n",
    "print(c)\n",
    "print(d)\n",
    "\n",
    "# 深拷贝:只复制值，并不关联\n",
    "# 所以以后只想要将a的值复制到b这里，而不想关联的话就可以用copy()进行深拷贝\n",
    "b = a.copy()\n",
    "print(b)\n",
    "a[3] = 66\n",
    "print(a)\n",
    "print(b)\n"
   ]
  },
  {
   "cell_type": "code",
   "execution_count": 9,
   "metadata": {},
   "outputs": [
    {
     "name": "stdout",
     "output_type": "stream",
     "text": [
      "<class 'str'>\n",
      "12\n",
      "var1[0]:  H\n",
      "var2[1:5]:  unoo\n"
     ]
    }
   ],
   "source": [
    "var1 = 'Hello World!'\n",
    "var2 = \"Runoob\"\n",
    "print(type(var1))\n",
    "print(len(var1))\n",
    "print (\"var1[0]: \", var1[0])\n",
    "print (\"var2[1:5]: \", var2[1:5])"
   ]
  },
  {
   "cell_type": "code",
   "execution_count": 10,
   "metadata": {},
   "outputs": [
    {
     "name": "stdout",
     "output_type": "stream",
     "text": [
      "Hello world\n",
      "HELLO WORLD\n",
      "Hello World\n"
     ]
    }
   ],
   "source": [
    "sentence = 'hello world'\n",
    "print(sentence.capitalize())\n",
    "print(sentence.upper())\n",
    "print(sentence.title())"
   ]
  },
  {
   "cell_type": "code",
   "execution_count": 11,
   "metadata": {},
   "outputs": [
    {
     "name": "stdout",
     "output_type": "stream",
     "text": [
      "var.count('o') :  3\n",
      "var.count('run', 0, 10) :  1\n"
     ]
    }
   ],
   "source": [
    "var=\"www.runoob.com\"\n",
    "sub='o'\n",
    "print (\"var.count('o') : \", var.count(sub))\n",
    "\n",
    "sub='run'\n",
    "print (\"var.count('run', 0, 10) : \", var.count(sub,0,10))"
   ]
  },
  {
   "cell_type": "code",
   "execution_count": 12,
   "metadata": {},
   "outputs": [
    {
     "name": "stdout",
     "output_type": "stream",
     "text": [
      "True\n",
      "False\n",
      "False\n",
      "True\n"
     ]
    }
   ],
   "source": [
    "var='Runoob example....wow!!!'\n",
    "suffix='!!'\n",
    "print (var.endswith(suffix))\n",
    "print (var.endswith(suffix, len(var) - 1))\n",
    "suffix='Run'\n",
    "print (var.endswith(suffix))\n",
    "print (var.endswith(suffix, 0, 3))"
   ]
  },
  {
   "cell_type": "code",
   "execution_count": null,
   "metadata": {},
   "outputs": [],
   "source": []
  }
 ],
 "metadata": {
  "kernelspec": {
   "display_name": "Python 3",
   "language": "python",
   "name": "python3"
  },
  "language_info": {
   "codemirror_mode": {
    "name": "ipython",
    "version": 3
   },
   "file_extension": ".py",
   "mimetype": "text/x-python",
   "name": "python",
   "nbconvert_exporter": "python",
   "pygments_lexer": "ipython3",
   "version": "3.8.3"
  }
 },
 "nbformat": 4,
 "nbformat_minor": 4
}
