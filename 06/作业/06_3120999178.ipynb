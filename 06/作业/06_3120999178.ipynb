{
 "cells": [
  {
   "cell_type": "code",
   "execution_count": 1,
   "metadata": {},
   "outputs": [
    {
     "name": "stdout",
     "output_type": "stream",
     "text": [
      "Requirement already satisfied: beautifulsoup4 in c:\\users\\linxu\\anaconda3\\lib\\site-packages (4.9.3)\n",
      "Requirement already satisfied: soupsieve>1.2 in c:\\users\\linxu\\anaconda3\\lib\\site-packages (from beautifulsoup4) (2.1)\n",
      "Note: you may need to restart the kernel to use updated packages.\n"
     ]
    }
   ],
   "source": [
    "pip install beautifulsoup4"
   ]
  },
  {
   "cell_type": "code",
   "execution_count": 2,
   "metadata": {},
   "outputs": [
    {
     "name": "stdout",
     "output_type": "stream",
     "text": [
      "Requirement already satisfied: requests in c:\\users\\linxu\\anaconda3\\lib\\site-packages (2.25.1)\n",
      "Requirement already satisfied: idna<3,>=2.5 in c:\\users\\linxu\\anaconda3\\lib\\site-packages (from requests) (2.10)\n",
      "Requirement already satisfied: urllib3<1.27,>=1.21.1 in c:\\users\\linxu\\anaconda3\\lib\\site-packages (from requests) (1.26.2)\n",
      "Requirement already satisfied: chardet<5,>=3.0.2 in c:\\users\\linxu\\anaconda3\\lib\\site-packages (from requests) (4.0.0)\n",
      "Requirement already satisfied: certifi>=2017.4.17 in c:\\users\\linxu\\anaconda3\\lib\\site-packages (from requests) (2020.12.5)\n",
      "Note: you may need to restart the kernel to use updated packages.\n"
     ]
    }
   ],
   "source": [
    "pip install requests"
   ]
  },
  {
   "cell_type": "code",
   "execution_count": 1,
   "metadata": {},
   "outputs": [],
   "source": [
    "from bs4 import BeautifulSoup\n",
    "import requests"
   ]
  },
  {
   "cell_type": "code",
   "execution_count": 2,
   "metadata": {},
   "outputs": [],
   "source": [
    "url = 'http://mignews.com/mobile'"
   ]
  },
  {
   "cell_type": "code",
   "execution_count": 3,
   "metadata": {},
   "outputs": [],
   "source": [
    "page = requests.get(url)"
   ]
  },
  {
   "cell_type": "code",
   "execution_count": 4,
   "metadata": {},
   "outputs": [
    {
     "name": "stdout",
     "output_type": "stream",
     "text": [
      "200\n"
     ]
    }
   ],
   "source": [
    "print(page.status_code)"
   ]
  },
  {
   "cell_type": "code",
   "execution_count": 5,
   "metadata": {},
   "outputs": [],
   "source": [
    "new_news= []\n",
    "news = []"
   ]
  },
  {
   "cell_type": "code",
   "execution_count": 6,
   "metadata": {},
   "outputs": [],
   "source": [
    "soup = BeautifulSoup(page.text, \"html.parser\")"
   ]
  },
  {
   "cell_type": "code",
   "execution_count": 7,
   "metadata": {},
   "outputs": [
    {
     "name": "stdout",
     "output_type": "stream",
     "text": [
      "<html>\n",
      "<head>\n",
      "<!-- Global site tag (gtag.js) - Google Analytics -->\n",
      "<script async=\"\" src=\"https://www.googletagmanager.com/gtag/js?id=UA-8839221-1\"></script>\n",
      "<script>\n",
      "  window.dataLayer = window.dataLayer || [];\n",
      "  function gtag(){dataLayer.push(arguments);}\n",
      "  gtag('js', new Date());\n",
      "\n",
      "  gtag('config', 'UA-8839221-1');\n",
      "</script>\n",
      "<!-- END Global site tag (gtag.js) - Google Analytics -->\n",
      "<meta content=\"text/html; charset=utf-8\" http-equiv=\"Content-Type\"/>\n",
      "<meta content=\"width=device-width, initial-scale=1, maximum-scale=1, user-scalable=no\" name=\"viewport\"/>\n",
      "<link href=\"img/logo2.png\" rel=\"apple-touch-icon\"/>\n",
      "<link href=\"favicon.ico\" rel=\"shortcut icon\"/>\n",
      "<link href=\"___.css\" rel=\"stylesheet\" type=\"text/css\"/>\n",
      "<link href=\"https://fonts.googleapis.com/css?family=Open+Sans:400,300,600,700,800&amp;subset=cyrillic\" rel=\"stylesheet\" type=\"text/css\"/>\n",
      "<link href=\"https://maxcdn.bootstrapcdn.com/font-awesome/4.6.3/css/font-awesome.min.css\" rel=\"stylesheet\"/>\n",
      "<title>MIGnews.com | Mobile</title>\n",
      "<!--BEGIN FIRSTIMPRESSION TAG -->\n",
      "<script data-cfasync=\"false\" type=\"text/javascript\">\n",
      "  window.apd_options = { 'websiteId': 5360, 'runFromFrame': false };\n",
      "  (function() {\n",
      "    var w = window.apd_options.runFromFrame ? window.top : window;\n",
      "    if(window.apd_options.runFromFrame && w!=window.parent) w=window.parent;\n",
      "    if (w.location.hash.indexOf('apdAdmin') != -1){if(typeof(Storage) !== 'undefined') {w.localStorage.apdAdmin = 1;}}\n",
      "    var adminMode = ((typeof(Storage) == 'undefined') || (w.localStorage.apdAdmin == 1));\n",
      "    w.apd_options=window.apd_options;\n",
      "    var apd = w.document.createElement('script'); apd.type = 'text/javascript'; apd.async = true;\n",
      "    apd.src = '//' + (adminMode ? 'cdn' : 'ecdn') + '.firstimpression.io/' + (adminMode ? 'fi.js?id=' + window.apd_options.websiteId : 'fi_client.js') ;\n",
      "    var s = w.document.getElementsByTagName('head')[0]; s.appendChild(apd);\n",
      "  })();</script>\n",
      "<!-- END FIRSTIMPRESSION TAG -->\n",
      "<meta content=\"http://mignews.com/mobile/article.html?id=/\" property=\"og:url\">\n",
      "<meta content=\"MIGnews.com | Mobile\" property=\"og:type\">\n",
      "<meta content=\"\" property=\"og:title\"/>\n",
      "<meta content=\"/\" property=\"og:image\"/>\n",
      "<!-- google -->\n",
      "<script type=\"text/javascript\"> var googletag = googletag || {}; googletag.cmd = googletag.cmd || []; var pbjs = pbjs || {}; pbjs.que = pbjs.que || []; </script>\n",
      "<script async=\"\" src=\"https://adncdnend.azureedge.net/adn-hb/adn.mig.js\" type=\"text/javascript\"></script>\n",
      "<script>\n",
      "googletag.cmd.push(function() {\n",
      "var slot = googletag.defineOutOfPageSlot(\n",
      "'/227399588/MigNews_Interstitial',\n",
      "googletag.enums.OutOfPageFormat.INTERSTITIAL);\n",
      "if (slot) slot.addService(googletag.pubads());\n",
      "googletag.enableServices();\n",
      "// NOTE! Consider delaying until first div on page\n",
      "googletag.display(slot);\n",
      "});\n",
      "</script>\n",
      "<script async=\"\" src=\"https://confiant-integrations.global.ssl.fastly.net/d2ehZtyVAa1kXxOtMxFp7XciXcU/gpt_and_prebid/config.js\"></script>\n",
      "<script async=\"\" data-ad-client=\"ca-pub-7528949385909099\" src=\"https://pagead2.googlesyndication.com/pagead/js/adsbygoogle.js\"></script>\n",
      "<!-- RevBoostPro_Footer -->\n",
      "<script>\n",
      "(function () {\n",
      "   var node = document.getElementsByTagName('script')[0],\n",
      "rvbP = document.createElement('script');\n",
      "   window.CMT = { appId: '3143d275-35a1-4997-b831-3c08c6eb6755' };\n",
      "   rvbP.defer = true;\n",
      "   rvbP.type = 'text/javascript';\n",
      "   rvbP.src = (document.location.protocol == 'https:' ? 'https:' : 'http:') +\n",
      "'//revboostprocdnadsprod.azureedge.net/scripts/latest/min.js';\n",
      "   node.parentNode.insertBefore(rvbP, node);\n",
      "})();\n",
      "</script>\n",
      "</meta></meta></head>\n",
      "<body>\n",
      "<div id=\"fb-root\"></div>\n",
      "<script async=\"\" crossorigin=\"anonymous\" defer=\"\" src=\"https://connect.facebook.net/ru_RU/sdk.js#xfbml=1&amp;version=v4.0&amp;appId=140083979402003&amp;autoLogAppEvents=1\"></script>\n",
      "<script type=\"text/javascript\">\n",
      "function createCookie(name, value, days) {\n",
      "            if (days) {\n",
      "                var date = new Date();\n",
      "                date.setTime(date.getTime() + (days * 24 * 60 * 60 * 1000));\n",
      "                var expires = \"; expires=\" + date.toGMTString();\n",
      "            }\n",
      "            else var expires = \"\";\n",
      "\n",
      "\n",
      "\n",
      "            document.cookie = name + \"=\" + value + expires + \"; path=/\";\n",
      "}\n",
      "\n",
      "function readCookie(name) {\n",
      "            var nameEQ = name + \"=\";\n",
      "            var ca = document.cookie.split(';');\n",
      "            for (var i = 0; i < ca.length; i++) {\n",
      "                var c = ca[i];\n",
      "                while (c.charAt(0) == ' ') c = c.substring(1, c.length);\n",
      "                if (c.indexOf(nameEQ) == 0) return c.substring(nameEQ.length, c.length);\n",
      "            }\n",
      "            return null;\n",
      "}\n",
      "\n",
      "function eraseCookie(name) {\n",
      "        createCookie(name, \"\", -1);\n",
      "}\n",
      "\n",
      "\n",
      "function goNormal() {\n",
      "    createCookie(\"force_normal\", \"true\", 1);\n",
      "    var url = window.location.href;\n",
      "    var migRegexp = /.*\\?id=(\\d+_\\d+_\\d+)/g;\n",
      "    var match = migRegexp.exec(url);\n",
      "  if (match !== null) {\n",
      "     location.href = '//mignews.com/news/' + match[1] + '.html';\n",
      "  }\n",
      "  else {\n",
      "     location.href = '//mignews.com/';\n",
      "  }\n",
      "}\n",
      "\n",
      "\n",
      "function goMobile() {\n",
      "    var url = window.location.href;\n",
      "  var migRegexp = /.*\\/(\\d+_\\d+_\\d+)\\.html/g;\n",
      "  var match = migRegexp.exec(url);\n",
      "  if (match !== null) {\n",
      "     location.href = '//mignews.com/mobile/article.html?id=' + match[1];\n",
      "  }\n",
      "  else {\n",
      "     location.href = '//mignews.com/mobile/';\n",
      "  }\n",
      "}\n",
      "\n",
      "</script>\n",
      "<div style=\"display:none\"><noindex><!-- Rating Mail.ru counter -->\n",
      "<script type=\"text/javascript\"> \n",
      "var _tmr = window._tmr || (window._tmr = []); \n",
      "_tmr.push({id: \"127580\", type: \"pageView\", start: (new Date()).getTime()}); \n",
      "(function (d, w, id) { \n",
      "  if (d.getElementById(id)) return; \n",
      "  var ts = d.createElement(\"script\"); ts.type = \"text/javascript\"; ts.async = true; ts.id = id; \n",
      "  ts.src = \"https://top-fwz1.mail.ru/js/code.js\"; \n",
      "  var f = function () {var s = d.getElementsByTagName(\"script\")[0]; s.parentNode.insertBefore(ts, s);}; \n",
      "  if (w.opera == \"[object Opera]\") { d.addEventListener(\"DOMContentLoaded\", f, false); } else { f(); } \n",
      "})(document, window, \"topmailru-code\"); \n",
      "</script><noscript><div>\n",
      "<img alt=\"Top.Mail.Ru\" src=\"https://top-fwz1.mail.ru/counter?id=127580;js=na\" style=\"border:0;position:absolute;left:-9999px;\"/>\n",
      "</div></noscript>\n",
      "<!-- //Rating Mail.ru counter -->\n",
      "<!-- tns-counter.ru -->\n",
      "<script type=\"text/javascript\">\n",
      "\t(function(win, doc, cb){\n",
      "\t\t(win[cb] = win[cb] || []).push(function() {\n",
      "\t\t\ttry {\n",
      "\t\t\t\ttnsCounterMignews_ru = new TNS.TnsCounter({\n",
      "\t\t\t\t'account':'mignews_ru',\n",
      "\t\t\t\t'tmsec': 'mignews_total'\n",
      "\t\t\t\t});\n",
      "\t\t\t} catch(e){}\n",
      "\t\t});\n",
      "\n",
      "\t\tvar tnsscript = doc.createElement('script');\n",
      "\t\ttnsscript.type = 'text/javascript';\n",
      "\t\ttnsscript.async = true;\n",
      "\t\ttnsscript.src = ('https:' == doc.location.protocol ? 'https:' : 'http:') + \n",
      "\t\t\t'//www.tns-counter.ru/tcounter.js';\n",
      "\t\tvar s = doc.getElementsByTagName('script')[0];\n",
      "\t\ts.parentNode.insertBefore(tnsscript, s);\n",
      "\t})(window, this.document,'tnscounter_callback');\n",
      "</script>\n",
      "<noscript>\n",
      "<img alt=\"\" height=\"0\" src=\"//www.tns-counter.ru/V13a****mignews_ru/ru/UTF-8/tmsec=mignews_total/\" width=\"0\"/>\n",
      "</noscript>\n",
      "<!--/ tns-counter.ru -->\n",
      "<!-- bigmir)net TOP 100 GIF 1x1 -->\n",
      "<script language=\"javascript\"><!--\n",
      "bmQ='<img src=//c.bigmir.net/?s20141&t6'\n",
      "bmD=document\n",
      "bmD.cookie=\"b=b\"\n",
      "if(bmD.cookie)bmQ+='&c1'\n",
      "//--></script><script language=\"javascript1.2\"><!-- \n",
      "bmS=screen;bmQ+='&d'+(bmS.colorDepth?bmS.colorDepth:bmS.pixelDepth)+\"&r\"+bmS.width;\n",
      "//--></script><script language=\"javascript\"><!--\n",
      "bmF = bmD.referrer.slice(7);\n",
      "((bmI=bmF.indexOf('/'))!=-1)?(bmF=bmF.substring(0,bmI)):(bmI=bmF.length);\n",
      "if(bmF!=window.location.href.substring(7,7+bmI))bmQ+='&f'+escape(bmD.referrer);\n",
      "bmD.write(bmQ+\" border=0 width=1 height=1>\");\n",
      "//--></script>\n",
      "<!-- bigmir)net TOP 100 GIF 1x1 -->\n",
      "<!--begin of Top100-->\n",
      "<a href=\"//top100.rambler.ru/top100/\"><img alt=\"Rambler's Top100\" border=\"0\" height=\"1\" src=\"//counter.rambler.ru/top100.cnt?193302\" width=\"1\"/></a>\n",
      "<!--end of Top100 code-->\n",
      "<!--LiveInternet counter--><script type=\"text/javascript\">\n",
      "new Image().src = \"//counter.yadro.ru/hit?r\"+\n",
      "escape(document.referrer)+((typeof(screen)==\"undefined\")?\"\":\n",
      "\";s\"+screen.width+\"*\"+screen.height+\"*\"+(screen.colorDepth?\n",
      "screen.colorDepth:screen.pixelDepth))+\";u\"+escape(document.URL)+\n",
      "\";\"+Math.random();</script><!--/LiveInternet-->\n",
      "</noindex></div>\n",
      "<center>\n",
      "<div id=\"header\">\n",
      "<div style=\" /* float:left; */ height:50px;padding:20px 20px 10px;\">\n",
      "<a href=\"/mobile/\"><img alt=\"mignews.com\" border=\"0\" src=\"//mignews.com/i/logo6.png\" width=\"220px\"/></a>\n",
      "</div>\n",
      "<div class=\"outer-menu\">\n",
      "<input class=\"checkbox-toggle\" type=\"checkbox\"/>\n",
      "<div class=\"hamburger\">\n",
      "<div></div>\n",
      "</div>\n",
      "<div class=\"menu\">\n",
      "<div>\n",
      "<div>\n",
      "<ul>\n",
      "<li><a href=\"/\">Главная</a></li>\n",
      "<li><a href=\"lenta.html\">Все новости</a></li>\n",
      "<li> </li>\n",
      "<li><a href=\"#\" onclick=\"goNormal(); return false;\">Полная версия</a></li>\n",
      "<li> </li>\n",
      "<li>\n",
      "<a href=\"http://mignews.com/export/\" target=\"_blank\"><i class=\"fa fa-rss fa-2x fa-fw\"></i></a>\n",
      "<a href=\"https://twitter.com/mignewsfeed\" target=\"_blank\"><i class=\"cir fa fa-twitter fa-2x fa-fw\"></i></a>\n",
      "<a href=\"https://www.facebook.com/MIGnews\" target=\"_blank\"><i class=\"cir fa fa-facebook fa-2x fa-fw\"></i></a>\n",
      "</li>\n",
      "</ul>\n",
      "</div>\n",
      "</div>\n",
      "</div>\n",
      "</div>\n",
      "</div>\n",
      "</center>\n",
      "<div id=\"main\"><font color=\"#990000\"><!-- 29.12 Вторник&nbsp;&nbsp; 11:47 &nbsp;  --></font>\n",
      "<!-- /227399588/Mobile_Article_ATF -->\n",
      "<div id=\"div-gpt-ad-Mobile_Article_ATF\">\n",
      "<script>\n",
      "    googletag.cmd.push(function() { googletag.display('div-gpt-ad-Mobile_Article_ATF'); });\n",
      "  </script>\n",
      "</div>\n",
      "<br/>\n",
      "<a class=\"zag\" href=\"/mobile/article.html?id=291220_92231_03574\">Запишите дату: когда туризм вернется к норме</a>\n",
      "<br/><br/>\n",
      "<div align=\"center\"><a href=\"/mobile/article.html?id=291220_92231_03574\"><img alt=\"Запишите дату: когда туризм вернется к норме \" border=\"0\" class=\"maim\" src=\"/aimages/12_20/291220_92231_03574_2.jpg\"/></a></div>\n",
      "<br/>\n",
      "\n",
      "\"Чем больше мы вынуждены оставаться дома, тем больше мы хотим улететь в отпуск\"\n",
      "<br/><br>\n",
      "<center>\n",
      "<!-- /227399588/Mobile_Article_Middle1 -->\n",
      "<div id=\"div-gpt-ad-Mobile_Article_Middle1\">\n",
      "<script>\n",
      "    googletag.cmd.push(function() { googletag.display('div-gpt-ad-Mobile_Article_Middle1'); });\n",
      "  </script>\n",
      "</div>\n",
      "</center>\n",
      "</br></div>\n",
      "<div id=\"main\"><!-- <b>Лента новостей:</b> -->\n",
      "<a class=\"lenta\" href=\"/mobile/article.html?id=291220_101245_93053\"><span class=\"time2\">11:34</span> Михаль Котлер-Вунш уходит из Кахоль Лаван</a>\n",
      "<a class=\"lenta\" href=\"/mobile/article.html?id=291220_111900_72055\"><span class=\"time2\">11:19</span> Лапид: то что говорят о Шаша-Битон - невыносимо</a>\n",
      "<a class=\"lenta\" href=\"/mobile/article.html?id=291220_100045_54926\"><span class=\"time2\">11:13</span> Обновлен список городов в соответствии с планом \"Светофор\"</a>\n",
      "<a class=\"lenta\" href=\"/mobile/article.html?id=291220_82013_77983\"><span class=\"time2\">10:52</span> Палата представителей проголосовала за отмену вето Трампа</a>\n",
      "<a class=\"lenta\" href=\"/mobile/article.html?id=291220_104928_95195\"><span class=\"time2\">10:49</span> Возмущение в Ликуде из-за \"брони для Орли Леви-Абукасис</a>\n",
      "<a class=\"lenta\" href=\"/mobile/article.html?id=291220_95202_87042\"><span class=\"time2 time3\">10:31</span> Эдельштейн: вакцинированных больше, чем заболевших</a>\n",
      "<a class=\"lenta\" href=\"/mobile/article.html?id=291220_100247_07930\"><span class=\"time2\">10:02</span> Когда убивают людей под охраной полиции, что еще сказать?</a>\n",
      "<a class=\"lenta\" href=\"/mobile/article.html?id=291220_93133_63587\"><span class=\"time2 time3\">09:43</span> COVID-19 в Израиле: 5449 зараженных за сутки</a>\n",
      "<a class=\"lenta\" href=\"/mobile/article.html?id=291220_92231_03574\"><span class=\"time2 time3\">09:22</span> Запишите дату: когда туризм вернется к норме</a>\n",
      "<a class=\"lenta\" href=\"/mobile/article.html?id=291220_83240_25094\"><span class=\"time2\">09:02</span> Вместо изоляции: Ганц и Ашкенази замечены в отеле </a>\n",
      "<a class=\"lenta\" href=\"/mobile/article.html?id=291220_83002_77104\"><span class=\"time2 time3\">08:58</span> В Израиле 4513 новых случаев заражения COVID-19</a>\n",
      "<a class=\"lenta\" href=\"/mobile/article.html?id=291220_84659_58531\"><span class=\"time2\">08:46</span> ФСИН пригрозила Навальному реальным сроком: политик ответил</a>\n",
      "<a class=\"lenta\" href=\"/mobile/article.html?id=291220_80226_61437\"><span class=\"time2\">08:10</span> Протест в Иерусалиме из-за смерти Сандака: 14 арестованных</a>\n",
      "<a class=\"lenta\" href=\"/mobile/article.html?id=291220_80705_08479\"><span class=\"time2\">08:09</span> Члены больничной кассы? Не потеряйте деньги по Битуах сиуди</a>\n",
      "<a class=\"lenta\" href=\"/mobile/article.html?id=291220_75634_18781\"><span class=\"time2 time3\">08:03</span> Мандельблитт устроил незаконные совещания по делам Нетаниягу</a>\n",
      "<a class=\"lenta\" href=\"/mobile/article.html?id=291220_73824_94384\"><span class=\"time2\">07:44</span> Иерусалим: первая серьезная аллергическая реакция на вакцину</a>\n",
      "<a class=\"lenta\" href=\"/mobile/article.html?id=291220_72352_00486\"><span class=\"time2 time3\">07:23</span> Ночной обстрел Израиля: ракета не долетела</a>\n",
      "<a class=\"lenta\" href=\"/mobile/article.html?id=281220_210702_74606\"><span class=\"time2\">07:20</span> Роналду отказался от звания лучшего футболиста года</a>\n",
      "<a class=\"lenta\" href=\"/mobile/article.html?id=291220_71736_49985\"><span class=\"time2 time3\">07:17</span> Министерство здравоохранения: 80000 взрослых заражены детьми</a>\n",
      "<a class=\"lenta\" href=\"/mobile/article.html?id=281220_205532_01202\"><span class=\"time2\">06:30</span> Италия: семьи жертв COVID-19 судятся с властями страны</a>\n",
      "<a class=\"lenta\" href=\"/mobile/article.html?id=281220_212124_69651\"><span class=\"time2\">06:00</span> Дайджест на 29 декабря: новости, которые нельзя пропустить</a>\n",
      "<a class=\"lenta\" href=\"/mobile/article.html?id=281220_183214_52832\"><span class=\"time2\">05:19</span> В Новой Зеландии закончились съемки \"Властелина колец\"</a>\n",
      "<a class=\"lenta\" href=\"/mobile/article.html?id=281220_170204_01339\"><span class=\"time2\">04:12</span> Какими продуктами можно отравиться в новогоднюю ночь</a>\n",
      "<a class=\"lenta\" href=\"/mobile/article.html?id=281220_145718_89378\"><span class=\"time2\">03:57</span> Президент Кипра сделал прививку от коронавируса</a>\n",
      "<a class=\"lenta\" href=\"/mobile/article.html?id=281220_140020_62508\"><span class=\"time2\">02:20</span> В США засняли полет неизвестного на реактивном ранце</a>\n",
      "<a class=\"lenta\" href=\"/mobile/article.html?id=281220_211659_84086\"><span class=\"time2\">01:16</span> Warner Bros. выпустит третий фильм о Чудо-женщине</a>\n",
      "<a class=\"lenta\" href=\"/mobile/article.html?id=281220_210247_28556\"><span class=\"time2\">00:22</span> Старейшая женщина-почтальон Великобритании ушла на пенсию</a>\n",
      "<a class=\"lenta\" href=\"/mobile/article.html?id=281220_205417_96364\"><span class=\"time2\">23:24</span> Продюсера сериала от Netflix отравил коллега</a>\n",
      "<a class=\"lenta\" href=\"/mobile/article.html?id=281220_204343_63014\"><span class=\"time2\">22:11</span> Novavax вышла на финальную стадию испытаний вакцины</a>\n",
      "<a class=\"lenta\" href=\"/mobile/article.html?id=281220_203735_91319\"><span class=\"time2\">21:50</span> Шиба приглашает учителей на вакцинацию</a>\n",
      "<a class=\"lenta\" href=\"/mobile/article.html?id=281220_205105_79970\"><span class=\"time2\">21:37</span> Похоронное бюро выдвинуло ультиматум минздраву из-за COVID</a>\n",
      "<a class=\"lenta\" href=\"/mobile/article.html?id=281220_200735_47880\"><span class=\"time2\">21:21</span> Предупреждение ВОЗ: коронавирус и дальше будет мутировать</a>\n",
      "<a class=\"lenta\" href=\"/mobile/article.html?id=281220_174458_39206\"><span class=\"time2\">21:02</span> Эдельштейн: вакцинацию прошли 379 тысяч израильтян</a>\n",
      "<a class=\"lenta\" href=\"/mobile/article.html?id=281220_192831_91117\"><span class=\"time2\">20:46</span> Ганц: отменить прохождение карантина в отелях коронавируса</a>\n",
      "<a class=\"lenta\" href=\"/mobile/article.html?id=281220_190009_40967\"><span class=\"time2\">20:25</span> Компания Rafael представила миниатюрных дронов и робособак</a>\n",
      "<a class=\"lenta\" href=\"/mobile/article.html?id=281220_182124_25148\"><span class=\"time2 time3\">20:04</span> Число зараженных в системе образования увеличилось вдвое</a>\n",
      "<a class=\"lenta\" href=\"/mobile/article.html?id=281220_195015_94109\"><span class=\"time2\">19:57</span> Стало известно, когда Хульдаи представит свою партию</a>\n",
      "<a class=\"lenta\" href=\"/mobile/article.html?id=281220_193044_22994\"><span class=\"time2\">19:43</span> Две трети арабов ПА требуют отставки председателя Аббаса</a>\n",
      "<a class=\"lenta\" href=\"/mobile/article.html?id=281220_180252_99742\"><span class=\"time2\">19:22</span> Нетаниягу и Путин провели переговоры: раскрыты детали</a>\n",
      "<a class=\"lenta\" href=\"/mobile/article.html?id=281220_175611_44664\"><span class=\"time2\">19:01</span> Локдаун в действии: много машин и работа рынка Махане-Иегуда</a>\n",
      "<a class=\"lenta\" href=\"/mobile/article.html?id=281220_181159_17350\"><span class=\"time2 time3\">18:40</span> Видео: массовая попытка побега из отеля коронавируса</a>\n",
      "<a class=\"lenta\" href=\"/mobile/article.html?id=281220_173753_72122\"><span class=\"time2 time3\">18:19</span> Иран пригрозил Израилю и США: не пересекайте красную черту</a>\n",
      "<a class=\"lenta\" href=\"/mobile/article.html?id=281220_171841_95455\"><span class=\"time2\">17:58</span> В Израиль прибыли 20 тысяч репатриантов за год пандемии</a>\n",
      "<a class=\"lenta\" href=\"/mobile/article.html?id=281220_164701_41955\"><span class=\"time2\">17:37</span> Локдаун: закрытие школ обошлось родителям в 850 млн шекелей</a>\n",
      "<a class=\"lenta\" href=\"/mobile/article.html?id=281220_133349_45225\"><span class=\"time2\">17:33</span> Авода: Ниссенкорн может заменить Амира Переца</a>\n",
      "<a class=\"lenta\" href=\"/mobile/article.html?id=281220_123328_35881\"><span class=\"time2\">17:16</span> Коронавирус закончится, останется дым сигарет</a>\n",
      "<a class=\"lenta\" href=\"/mobile/article.html?id=281220_144516_75830\"><span class=\"time2\">16:55</span> ВОЗ: Переболевшие COVID-19 все равно должны носить маски</a>\n",
      "<a class=\"lenta\" href=\"/mobile/article.html?id=281220_155322_82839\"><span class=\"time2\">16:34</span> Насралла: \"Хизбалла\" удвоила количество ракет</a>\n",
      "<a class=\"lenta\" href=\"/mobile/article.html?id=281220_153825_65771\"><span class=\"time2\">16:13</span> Третий локдаун: без работы останутся еще 100 тысяч человек</a>\n",
      "<a class=\"lenta\" href=\"/mobile/article.html?id=281220_100908_26628\"><span class=\"time2 time3\">15:52</span> Вертолеты с противолодочными ракетами - на пути в Залив</a>\n",
      "<a class=\"lenta\" href=\"/mobile/article.html?id=281220_153805_33327\"><span class=\"time2\">15:46</span> Барбибай: “Они вредят даже во время развала”</a>\n",
      "<a class=\"lenta\" href=\"/mobile/article.html?id=281220_110639_84550\"><span class=\"time2\">15:31</span> Больше 50% израильтян - в красных и оранжевых городах</a>\n",
      "<a class=\"lenta\" href=\"/mobile/article.html?id=281220_145017_28818\"><span class=\"time2\">15:25</span> Сама Абд Аль-Хади была арестована за вечеринку в мечети</a>\n",
      "<a class=\"lenta\" href=\"/mobile/article.html?id=281220_101753_29444\"><span class=\"time2\">15:10</span> Санта-Клаус заразил более сотни пенсионеров в Бельгии</a>\n",
      "<a class=\"lenta\" href=\"/mobile/article.html?id=281220_144146_91456\"><span class=\"time2\">14:41</span> Женщина-офицер избила протестующего в Бней-Браке: видео</a>\n",
      "<a class=\"lenta\" href=\"/mobile/article.html?id=281220_142452_55581\"><span class=\"time2 time3\">14:24</span> “Кинутые” в Дубае</a>\n",
      "<a class=\"lenta\" href=\"/mobile/article.html?id=281220_142331_30819\"><span class=\"time2 time3\">14:23</span> Врач заразился коронавирусом после вакцинации</a>\n",
      "<a class=\"lenta\" href=\"/mobile/article.html?id=281220_143334_58342\"><span class=\"time2\">14:13</span> Трамп подписал пакет помощи для пострадавших от пандемии</a>\n",
      "<a class=\"lenta\" href=\"/mobile/article.html?id=281220_134353_27980\"><span class=\"time2\">13:58</span> Встречаем Новый год бокалом элитного вина Purcari!</a>\n",
      "<a class=\"lenta\" href=\"/mobile/article.html?id=281220_135023_68626\"><span class=\"time2 time3\">13:50</span> Кнессет одобрил ограничения третьего локдауна</a>\n",
      "<a class=\"lenta\" href=\"/mobile/article.html?id=281220_132259_59370\"><span class=\"time2 time3\">13:36</span> Видео: задержание убийцы Эстер Хорган</a>\n",
      "<a class=\"lenta\" href=\"/mobile/article.html?id=281220_130742_72462\"><span class=\"time2\">13:07</span> Алису Фрейндлих госпитализировали в тяжелом состоянии</a>\n",
      "<a class=\"lenta\" href=\"/mobile/article.html?id=281220_124817_89363\"><span class=\"time2 time3\">12:48</span> Израильтянин умер через два часа после прививки</a>\n",
      "<a class=\"lenta\" href=\"/mobile/article.html?id=281220_124051_96089\"><span class=\"time2\">12:40</span> Как избежать когнитивных нарушений при рассеянном склерозе?</a>\n",
      "<a class=\"lenta\" href=\"/mobile/article.html?id=281220_121659_36088\"><span class=\"time2 time3\">12:16</span> Саар предложил ограничить срок пребывания на посту премьера</a>\n",
      "<a class=\"lenta\" href=\"/mobile/article.html?id=281220_120810_18189\"><span class=\"time2 time3\">12:08</span> Жертв атаки на шоссе №6 сопровождали 3 машины полиции  </a>\n",
      "<a class=\"lenta\" href=\"/mobile/article.html?id=281220_114111_29872\"><span class=\"time2\">12:02</span> Мэр Эйлата ушел из Ликуда в партию Гидеона Саара</a>\n",
      "<a class=\"lenta\" href=\"/mobile/article.html?id=281220_113638_64393\"><span class=\"time2 time3\">11:45</span> Джулиани: \"Демократическая партия рухнет\"</a>\n",
      "<a class=\"lenta\" href=\"/mobile/article.html?id=281220_113929_15473\"><span class=\"time2\">11:39</span> Йемен: глупые действия Израиля приведут к войне</a>\n",
      "<a class=\"lenta\" href=\"/mobile/article.html?id=281220_113532_86939\"><span class=\"time2\">11:35</span> Образовательная платформа Lectera: быстрое развитие карьеры</a>\n",
      "<a class=\"lenta\" href=\"/mobile/article.html?id=271220_164347_98902\"><span class=\"time2\">11:33</span> Khortytsa покоряет сердца израильтян!</a>\n",
      "<a class=\"lenta\" href=\"/mobile/article.html?id=281220_111946_19854\"><span class=\"time2 time3\">11:19</span> Расстрел на шоссе №6: эскалация войны кланов Лода</a>\n",
      "<a class=\"lenta\" href=\"/mobile/article.html?id=281220_111206_79836\"><span class=\"time2\">11:12</span> Китай приговорил журналистку к тюрьме за репортажи о COVID</a>\n",
      "<a class=\"lenta\" href=\"/mobile/article.html?id=281220_105850_36844\"><span class=\"time2\">11:02</span> Либерман требует сократить правительство до 18 министров</a>\n",
      "<a class=\"lenta\" href=\"/mobile/article.html?id=281220_104224_08698\"><span class=\"time2\">10:42</span> В Яд Биньямин неизвестные повредили полицейский участок</a>\n",
      "<a class=\"lenta\" href=\"/mobile/article.html?id=281220_103537_83364\"><span class=\"time2\">10:35</span> Убийство \"по неосторожности\"</a>\n",
      "<a class=\"lenta\" href=\"/mobile/article.html?id=281220_102721_67086\"><span class=\"time2\">10:27</span> Расстрел на шоссе №6</a>\n",
      "<a class=\"lenta\" href=\"/mobile/article.html?id=281220_101640_01604\"><span class=\"time2 time3\">10:16</span> Красные, оранжевые, желтые: хаос в системе образования</a>\n",
      "<a class=\"lenta\" href=\"/mobile/article.html?id=281220_95457_07601\"><span class=\"time2\">10:11</span> В Лоде обнаружили тело мужчины 50 лет, которого застрелили</a>\n",
      "<a class=\"lenta\" href=\"/mobile/article.html?id=281220_93152_26885\"><span class=\"time2\">09:41</span> Скандал на заседании комитета Кнессета</a>\n",
      "<a class=\"lenta\" href=\"/mobile/article.html?id=281220_94021_64428\"><span class=\"time2 time3\">09:40</span> \"Это - не локдаун\"</a>\n",
      "<a class=\"lenta\" href=\"/mobile/article.html?id=281220_92840_90920\"><span class=\"time2\">09:28</span> Не все попадают в отели на изоляцию</a>\n",
      "<a class=\"lenta\" href=\"/mobile/article.html?id=281220_90939_89465\"><span class=\"time2 time3\">09:09</span> Делегация из Марокко готовится к визиту в Израиль</a>\n",
      "<a class=\"lenta\" href=\"/mobile/article.html?id=281220_85707_34583\"><span class=\"time2 time3\">08:57</span> Прививку от COVID сделали почти 100 000 израильтян за день</a>\n",
      "<a class=\"lenta\" href=\"/mobile/article.html?id=281220_82448_29044\"><span class=\"time2\">08:44</span> Паскович - качественные замороженные продукты с доставкой!</a>\n",
      "<a class=\"lenta\" href=\"/mobile/article.html?id=281220_83802_29671\"><span class=\"time2\">08:38</span> Израиль: как не закрылись гостиницы сети  Club Hotel</a>\n",
      "<a class=\"lenta\" href=\"/mobile/article.html?id=281220_82300_73405\"><span class=\"time2\">08:23</span> Каждый сам за себя: Кахоль Лаван разваливается</a>\n",
      "<a class=\"lenta\" href=\"/mobile/article.html?id=281220_81005_07515\"><span class=\"time2 time3\">08:10</span> В Израиле произойдет разрушительное землетрясение - ученые</a>\n",
      "<a class=\"lenta\" href=\"/mobile/article.html?id=281220_80459_21020\"><span class=\"time2\">08:04</span> Мики Хаимович покинула Кахоль Лаван</a>\n",
      "<a class=\"lenta\" href=\"/mobile/article.html?id=281220_75846_25116\"><span class=\"time2\">07:58</span> Молодые палестинцы устроили вечеринку на территории мечети</a>\n",
      "<a class=\"lenta\" href=\"/mobile/article.html?id=281220_72611_23705\"><span class=\"time2 time3\">07:26</span> У Хизбаллы - в два раза больше высокоточных ракет</a>\n",
      "<a class=\"lenta\" href=\"/mobile/article.html?id=281220_71718_89264\"><span class=\"time2 time3\">07:17</span> Израиль и ОАЭ работают над ликвидацией UNRWA - отчет</a>\n",
      "<a class=\"lenta\" href=\"/mobile/article.html?id=271220_212221_43376\"><span class=\"time2\">07:10</span> \"Британский\" штамм коронавируса добрался до Португалии</a>\n",
      "<a class=\"lenta\" href=\"/mobile/article.html?id=271220_211124_02692\"><span class=\"time2\">06:31</span> Нападение террористов на блокпост в Пакистане: есть жертвы</a>\n",
      "<a class=\"lenta\" href=\"/mobile/article.html?id=271220_213524_26919\"><span class=\"time2\">06:00</span> Дайджест на 28 декабря: новости, которые нельзя пропустить</a>\n",
      "<a class=\"lenta\" href=\"/mobile/article.html?id=271220_205850_07751\"><span class=\"time2\">05:33</span> Ураган Белла разбушевался во Франции: тысячи домов без света</a>\n",
      "<a class=\"lenta\" href=\"/mobile/article.html?id=271220_204742_17072\"><span class=\"time2\">04:22</span> Британия: когда в ход пойдет вакцина AstraZeneca</a>\n",
      "<a class=\"lenta\" href=\"/mobile/article.html?id=271220_204121_36467\"><span class=\"time2\">03:04</span> Археологи рассказали об удивительном открытии в Помпеях</a>\n",
      "<a class=\"lenta\" href=\"/mobile/article.html?id=271220_135858_95022\"><span class=\"time2\">01:59</span> Полиция спасла от одиночества пенсионера на Рождество: фото</a>\n",
      "<a class=\"lenta\" href=\"/mobile/article.html?id=271220_115125_77678\"><span class=\"time2\">00:45</span> В Питере под зданием ФСБ вывалили кучу грязных трусов: фото</a>\n",
      "<!--<a href=\"./lenta.html\"><div id=main><b>Больше новостей</b></div></a>-->\n",
      "</div>\n",
      "<center>\n",
      "<a class=\"but\" href=\"/mobile\"><b>Главная</b></a>\n",
      "<a class=\"but\" href=\"./lenta.html\"><b>Все новости</b></a>\n",
      "<a class=\"but\" href=\"#\" onclick=\"goNormal(); return false;\"><b>Полная версия</b></a>\n",
      "</center>\n",
      "<br>\n",
      "<center>\n",
      "\n",
      "\n",
      "© 2000 — 2047 mignews.com\n",
      "<br><br>\n",
      "<br><br/>\n",
      "<style>\n",
      ".slinks {\n",
      "font: normal 8px arial!important;\n",
      "color: #999!important;\n",
      "line-height: 4px!important;\n",
      "display: inline-block!important;\n",
      "text-align: center;\n",
      "}\n",
      "\n",
      ".slinks a {\n",
      "    text-decoration: none;\n",
      "}\n",
      "div.block-c4e745-l div,\n",
      "div.c4e745-l .host-c4e745-l\n",
      "{\n",
      "display: inline-block!important;\n",
      "width:300px;\n",
      "overflow:hidden;\n",
      "}\n",
      ".slinks div {\n",
      "font: normal 8px arial!important;\n",
      "color: #999!important;\n",
      "line-height: 4px!important;\n",
      "display: inline-block!important;\n",
      "\n",
      "}\n",
      "</style>\n",
      "<li style=\"padding-top:0px; list-style: none;text-decoration: none;margin-top: 0px;color: #ccc !important;font-size: 8px!important;\">\n",
      "</li>\n",
      "<!--34646546456 888-->\n",
      "<li style=\"\">\n",
      "<br/><br/>\n",
      "<!-- sss -->\n",
      "<script type=\"text/javascript\">\n",
      "<!--\n",
      "var _acic={dataProvider:10,allowCookieMatch:false};(function(){var e=document.createElement(\"script\");e.type=\"text/javascript\";e.async=true;e.src=\"//www.acint.net/aci.js\";var t=document.getElementsByTagName(\"script\")[0];t.parentNode.insertBefore(e,t)})()\n",
      "//-->\n",
      "</script> дешевый <a href=\"https://nozheman.club/vykidnyye-nozhi/\" target=\"_blank\">выкидной нож</a> купить в Киеве. .  Украинское ГП <a href=\"https://yuzhnoye.com.ua\" target=\"_blank\">КБ \"Южное\"</a> находится в Днепре (старое название Днепропетровск) .  Официальное зеркало <a href=\"https://1winzerkalo.ru\" target=\"_blank\">https://1winzerkalo.ru</a> конторы 1win. </li>\n",
      "</br></br></br></center>\n",
      "<br clear=\"all\"/>\n",
      "</br></body></html>\n",
      "\n"
     ]
    }
   ],
   "source": [
    "print(soup)"
   ]
  },
  {
   "cell_type": "code",
   "execution_count": 19,
   "metadata": {},
   "outputs": [],
   "source": [
    "from bs4 import BeautifulSoup\n",
    "import requests"
   ]
  },
  {
   "cell_type": "code",
   "execution_count": 20,
   "metadata": {},
   "outputs": [],
   "source": [
    "url = 'https://assets.digitalocean.com/articles/eng_python/beautiful-soup/mockturtle.html'"
   ]
  },
  {
   "cell_type": "code",
   "execution_count": 21,
   "metadata": {},
   "outputs": [],
   "source": [
    "page = requests.get(url)"
   ]
  },
  {
   "cell_type": "code",
   "execution_count": 22,
   "metadata": {},
   "outputs": [
    {
     "data": {
      "text/plain": [
       "<Response [200]>"
      ]
     },
     "execution_count": 22,
     "metadata": {},
     "output_type": "execute_result"
    }
   ],
   "source": [
    "page"
   ]
  },
  {
   "cell_type": "code",
   "execution_count": 23,
   "metadata": {},
   "outputs": [
    {
     "data": {
      "text/plain": [
       "200"
      ]
     },
     "execution_count": 23,
     "metadata": {},
     "output_type": "execute_result"
    }
   ],
   "source": [
    "page.status_code"
   ]
  },
  {
   "cell_type": "code",
   "execution_count": 24,
   "metadata": {},
   "outputs": [
    {
     "data": {
      "text/plain": [
       "'<!DOCTYPE html PUBLIC \"-//W3C//DTD XHTML 1.0 Strict//EN\"\\n    \"http://www.w3.org/TR/xhtml1/DTD/xhtml1-strict.dtd\">\\n\\n<html lang=\"en-US\" xmlns=\"http://www.w3.org/1999/xhtml\" xml:lang=\"en-US\">\\n<head>\\n  <meta http-equiv=\"content-type\" content=\"text/html; charset=us-ascii\" />\\n\\n  <title>Turtle Soup</title>\\n</head>\\n\\n<body>\\n  <h1>Turtle Soup</h1>\\n\\n  <p class=\"verse\" id=\"first\">Beautiful Soup, so rich and green,<br />\\n  Waiting in a hot tureen!<br />\\n  Who for such dainties would not stoop?<br />\\n  Soup of the evening, beautiful Soup!<br />\\n  Soup of the evening, beautiful Soup!<br /></p>\\n\\n  <p class=\"chorus\" id=\"second\">Beau--ootiful Soo--oop!<br />\\n  Beau--ootiful Soo--oop!<br />\\n  Soo--oop of the e--e--evening,<br />\\n  Beautiful, beautiful Soup!<br /></p>\\n\\n  <p class=\"verse\" id=\"third\">Beautiful Soup! Who cares for fish,<br />\\n  Game or any other dish?<br />\\n  Who would not give all else for two<br />\\n  Pennyworth only of Beautiful Soup?<br />\\n  Pennyworth only of beautiful Soup?<br /></p>\\n\\n  <p class=\"chorus\" id=\"fourth\">Beau--ootiful Soo--oop!<br />\\n  Beau--ootiful Soo--oop!<br />\\n  Soo--oop of the e--e--evening,<br />\\n  Beautiful, beauti--FUL SOUP!<br /></p>\\n</body>\\n</html>\\n'"
      ]
     },
     "execution_count": 24,
     "metadata": {},
     "output_type": "execute_result"
    }
   ],
   "source": [
    "page.text"
   ]
  },
  {
   "cell_type": "code",
   "execution_count": 28,
   "metadata": {},
   "outputs": [
    {
     "name": "stdout",
     "output_type": "stream",
     "text": [
      "<!DOCTYPE html PUBLIC \"-//W3C//DTD XHTML 1.0 Strict//EN\"\n",
      "    \"http://www.w3.org/TR/xhtml1/DTD/xhtml1-strict.dtd\">\n",
      "<html lang=\"en-US\" xml:lang=\"en-US\" xmlns=\"http://www.w3.org/1999/xhtml\">\n",
      " <head>\n",
      "  <meta content=\"text/html; charset=utf-8\" http-equiv=\"content-type\"/>\n",
      "  <title>\n",
      "   Turtle Soup\n",
      "  </title>\n",
      " </head>\n",
      " <body>\n",
      "  <h1>\n",
      "   Turtle Soup\n",
      "  </h1>\n",
      "  <p class=\"verse\" id=\"first\">\n",
      "   Beautiful Soup, so rich and green,\n",
      "   <br/>\n",
      "   Waiting in a hot tureen!\n",
      "   <br/>\n",
      "   Who for such dainties would not stoop?\n",
      "   <br/>\n",
      "   Soup of the evening, beautiful Soup!\n",
      "   <br/>\n",
      "   Soup of the evening, beautiful Soup!\n",
      "   <br/>\n",
      "  </p>\n",
      "  <p class=\"chorus\" id=\"second\">\n",
      "   Beau--ootiful Soo--oop!\n",
      "   <br/>\n",
      "   Beau--ootiful Soo--oop!\n",
      "   <br/>\n",
      "   Soo--oop of the e--e--evening,\n",
      "   <br/>\n",
      "   Beautiful, beautiful Soup!\n",
      "   <br/>\n",
      "  </p>\n",
      "  <p class=\"verse\" id=\"third\">\n",
      "   Beautiful Soup! Who cares for fish,\n",
      "   <br/>\n",
      "   Game or any other dish?\n",
      "   <br/>\n",
      "   Who would not give all else for two\n",
      "   <br/>\n",
      "   Pennyworth only of Beautiful Soup?\n",
      "   <br/>\n",
      "   Pennyworth only of beautiful Soup?\n",
      "   <br/>\n",
      "  </p>\n",
      "  <p class=\"chorus\" id=\"fourth\">\n",
      "   Beau--ootiful Soo--oop!\n",
      "   <br/>\n",
      "   Beau--ootiful Soo--oop!\n",
      "   <br/>\n",
      "   Soo--oop of the e--e--evening,\n",
      "   <br/>\n",
      "   Beautiful, beauti--FUL SOUP!\n",
      "   <br/>\n",
      "  </p>\n",
      " </body>\n",
      "</html>\n",
      "\n"
     ]
    }
   ],
   "source": [
    "soup = BeautifulSoup(page.text, 'html.parser')\n",
    "print(soup.prettify())"
   ]
  },
  {
   "cell_type": "code",
   "execution_count": 29,
   "metadata": {},
   "outputs": [
    {
     "data": {
      "text/plain": [
       "[<p class=\"verse\" id=\"first\">Beautiful Soup, so rich and green,<br/>\n",
       "   Waiting in a hot tureen!<br/>\n",
       "   Who for such dainties would not stoop?<br/>\n",
       "   Soup of the evening, beautiful Soup!<br/>\n",
       "   Soup of the evening, beautiful Soup!<br/></p>,\n",
       " <p class=\"chorus\" id=\"second\">Beau--ootiful Soo--oop!<br/>\n",
       "   Beau--ootiful Soo--oop!<br/>\n",
       "   Soo--oop of the e--e--evening,<br/>\n",
       "   Beautiful, beautiful Soup!<br/></p>,\n",
       " <p class=\"verse\" id=\"third\">Beautiful Soup! Who cares for fish,<br/>\n",
       "   Game or any other dish?<br/>\n",
       "   Who would not give all else for two<br/>\n",
       "   Pennyworth only of Beautiful Soup?<br/>\n",
       "   Pennyworth only of beautiful Soup?<br/></p>,\n",
       " <p class=\"chorus\" id=\"fourth\">Beau--ootiful Soo--oop!<br/>\n",
       "   Beau--ootiful Soo--oop!<br/>\n",
       "   Soo--oop of the e--e--evening,<br/>\n",
       "   Beautiful, beauti--FUL SOUP!<br/></p>]"
      ]
     },
     "execution_count": 29,
     "metadata": {},
     "output_type": "execute_result"
    }
   ],
   "source": [
    "soup.find_all('p')"
   ]
  },
  {
   "cell_type": "code",
   "execution_count": 30,
   "metadata": {},
   "outputs": [
    {
     "data": {
      "text/plain": [
       "'Beautiful Soup! Who cares for fish,\\n  Game or any other dish?\\n  Who would not give all else for two\\n  Pennyworth only of Beautiful Soup?\\n  Pennyworth only of beautiful Soup?'"
      ]
     },
     "execution_count": 30,
     "metadata": {},
     "output_type": "execute_result"
    }
   ],
   "source": [
    "soup.find_all('p')[2].get_text()"
   ]
  },
  {
   "cell_type": "code",
   "execution_count": 31,
   "metadata": {},
   "outputs": [
    {
     "data": {
      "text/plain": [
       "[<p class=\"chorus\" id=\"second\">Beau--ootiful Soo--oop!<br/>\n",
       "   Beau--ootiful Soo--oop!<br/>\n",
       "   Soo--oop of the e--e--evening,<br/>\n",
       "   Beautiful, beautiful Soup!<br/></p>,\n",
       " <p class=\"chorus\" id=\"fourth\">Beau--ootiful Soo--oop!<br/>\n",
       "   Beau--ootiful Soo--oop!<br/>\n",
       "   Soo--oop of the e--e--evening,<br/>\n",
       "   Beautiful, beauti--FUL SOUP!<br/></p>]"
      ]
     },
     "execution_count": 31,
     "metadata": {},
     "output_type": "execute_result"
    }
   ],
   "source": [
    "soup.find_all(class_='chorus')"
   ]
  },
  {
   "cell_type": "code",
   "execution_count": 1,
   "metadata": {},
   "outputs": [],
   "source": [
    "html_doc = \"\"\"\n",
    "<html><head><title>The Dormouse's story</title></head>\n",
    "<body>\n",
    "<p class=\"title\"><b>The Dormouse's story</b></p>\n",
    "\n",
    "<p class=\"story\"> Once upon a time there were three little sisters; and their names were\n",
    "<a href=\"http://example.com/elsie\" class=\"sister\" id=\"link1\">Elsie</a>,\n",
    "<a href=\"http://example.com/lacie\" class=\"sister\" id=\"link2\">Lacie</a> and\n",
    "<a href=\"http://example.com/tillie\" class=\"sister\" id=\"link3\">Tillie</a>;\n",
    "and they lived at the bottom of a well.</p>\n",
    "\n",
    "<p class=\"story\">...</p>\n",
    "\"\"\""
   ]
  },
  {
   "cell_type": "code",
   "execution_count": 2,
   "metadata": {},
   "outputs": [],
   "source": [
    "from bs4 import BeautifulSoup"
   ]
  },
  {
   "cell_type": "code",
   "execution_count": 3,
   "metadata": {},
   "outputs": [
    {
     "name": "stdout",
     "output_type": "stream",
     "text": [
      "<html>\n",
      " <head>\n",
      "  <title>\n",
      "   The Dormouse's story\n",
      "  </title>\n",
      " </head>\n",
      " <body>\n",
      "  <p class=\"title\">\n",
      "   <b>\n",
      "    The Dormouse's story\n",
      "   </b>\n",
      "  </p>\n",
      "  <p class=\"story\">\n",
      "   Once upon a time there were three little sisters; and their names were\n",
      "   <a class=\"sister\" href=\"http://example.com/elsie\" id=\"link1\">\n",
      "    Elsie\n",
      "   </a>\n",
      "   ,\n",
      "   <a class=\"sister\" href=\"http://example.com/lacie\" id=\"link2\">\n",
      "    Lacie\n",
      "   </a>\n",
      "   and\n",
      "   <a class=\"sister\" href=\"http://example.com/tillie\" id=\"link3\">\n",
      "    Tillie\n",
      "   </a>\n",
      "   ;\n",
      "and they lived at the bottom of a well.\n",
      "  </p>\n",
      "  <p class=\"story\">\n",
      "   ...\n",
      "  </p>\n",
      " </body>\n",
      "</html>\n"
     ]
    }
   ],
   "source": [
    "soup = BeautifulSoup (html_doc, 'html.parser')\n",
    "\n",
    "print(soup.prettify())"
   ]
  },
  {
   "cell_type": "code",
   "execution_count": 4,
   "metadata": {},
   "outputs": [
    {
     "data": {
      "text/plain": [
       "<title>The Dormouse's story</title>"
      ]
     },
     "execution_count": 4,
     "metadata": {},
     "output_type": "execute_result"
    }
   ],
   "source": [
    "soup.title"
   ]
  },
  {
   "cell_type": "code",
   "execution_count": 5,
   "metadata": {},
   "outputs": [
    {
     "data": {
      "text/plain": [
       "'title'"
      ]
     },
     "execution_count": 5,
     "metadata": {},
     "output_type": "execute_result"
    }
   ],
   "source": [
    "soup.title.name"
   ]
  },
  {
   "cell_type": "code",
   "execution_count": 6,
   "metadata": {},
   "outputs": [
    {
     "data": {
      "text/plain": [
       "\"The Dormouse's story\""
      ]
     },
     "execution_count": 6,
     "metadata": {},
     "output_type": "execute_result"
    }
   ],
   "source": [
    "soup.title.string"
   ]
  },
  {
   "cell_type": "code",
   "execution_count": 7,
   "metadata": {},
   "outputs": [
    {
     "data": {
      "text/plain": [
       "'head'"
      ]
     },
     "execution_count": 7,
     "metadata": {},
     "output_type": "execute_result"
    }
   ],
   "source": [
    "soup.title.parent.name"
   ]
  },
  {
   "cell_type": "code",
   "execution_count": 8,
   "metadata": {},
   "outputs": [
    {
     "data": {
      "text/plain": [
       "<p class=\"title\"><b>The Dormouse's story</b></p>"
      ]
     },
     "execution_count": 8,
     "metadata": {},
     "output_type": "execute_result"
    }
   ],
   "source": [
    "soup.p"
   ]
  },
  {
   "cell_type": "code",
   "execution_count": 9,
   "metadata": {},
   "outputs": [
    {
     "data": {
      "text/plain": [
       "['title']"
      ]
     },
     "execution_count": 9,
     "metadata": {},
     "output_type": "execute_result"
    }
   ],
   "source": [
    "soup.p['class']"
   ]
  },
  {
   "cell_type": "code",
   "execution_count": 10,
   "metadata": {},
   "outputs": [
    {
     "data": {
      "text/plain": [
       "<a class=\"sister\" href=\"http://example.com/elsie\" id=\"link1\">Elsie</a>"
      ]
     },
     "execution_count": 10,
     "metadata": {},
     "output_type": "execute_result"
    }
   ],
   "source": [
    "soup.a"
   ]
  },
  {
   "cell_type": "code",
   "execution_count": 11,
   "metadata": {},
   "outputs": [
    {
     "data": {
      "text/plain": [
       "[<a class=\"sister\" href=\"http://example.com/elsie\" id=\"link1\">Elsie</a>,\n",
       " <a class=\"sister\" href=\"http://example.com/lacie\" id=\"link2\">Lacie</a>,\n",
       " <a class=\"sister\" href=\"http://example.com/tillie\" id=\"link3\">Tillie</a>]"
      ]
     },
     "execution_count": 11,
     "metadata": {},
     "output_type": "execute_result"
    }
   ],
   "source": [
    "soup.find_all('a')"
   ]
  },
  {
   "cell_type": "code",
   "execution_count": 12,
   "metadata": {},
   "outputs": [
    {
     "data": {
      "text/plain": [
       "<a class=\"sister\" href=\"http://example.com/tillie\" id=\"link3\">Tillie</a>"
      ]
     },
     "execution_count": 12,
     "metadata": {},
     "output_type": "execute_result"
    }
   ],
   "source": [
    "soup.find(id=\"link3\")"
   ]
  },
  {
   "cell_type": "code",
   "execution_count": 13,
   "metadata": {},
   "outputs": [
    {
     "name": "stdout",
     "output_type": "stream",
     "text": [
      "http://example.com/elsie\n",
      "http://example.com/lacie\n",
      "http://example.com/tillie\n"
     ]
    }
   ],
   "source": [
    "for link in soup.find_all('a'):\n",
    "    print(link.get('href'))"
   ]
  },
  {
   "cell_type": "code",
   "execution_count": 14,
   "metadata": {},
   "outputs": [
    {
     "name": "stdout",
     "output_type": "stream",
     "text": [
      "\n",
      "The Dormouse's story\n",
      "\n",
      "The Dormouse's story\n",
      " Once upon a time there were three little sisters; and their names were\n",
      "Elsie,\n",
      "Lacie and\n",
      "Tillie;\n",
      "and they lived at the bottom of a well.\n",
      "...\n",
      "\n"
     ]
    }
   ],
   "source": [
    "print(soup.get_text())"
   ]
  },
  {
   "cell_type": "code",
   "execution_count": 17,
   "metadata": {},
   "outputs": [
    {
     "data": {
      "text/plain": [
       "[<title>The Dormouse's story</title>]"
      ]
     },
     "execution_count": 17,
     "metadata": {},
     "output_type": "execute_result"
    }
   ],
   "source": [
    "soup.select(\"title\")"
   ]
  },
  {
   "cell_type": "code",
   "execution_count": 18,
   "metadata": {},
   "outputs": [
    {
     "data": {
      "text/plain": [
       "[<p class=\"story\">...</p>]"
      ]
     },
     "execution_count": 18,
     "metadata": {},
     "output_type": "execute_result"
    }
   ],
   "source": [
    "soup.select(\"p:nth-of-type(3)\")"
   ]
  },
  {
   "cell_type": "code",
   "execution_count": 19,
   "metadata": {},
   "outputs": [
    {
     "data": {
      "text/plain": [
       "[<a class=\"sister\" href=\"http://example.com/elsie\" id=\"link1\">Elsie</a>,\n",
       " <a class=\"sister\" href=\"http://example.com/lacie\" id=\"link2\">Lacie</a>,\n",
       " <a class=\"sister\" href=\"http://example.com/tillie\" id=\"link3\">Tillie</a>]"
      ]
     },
     "execution_count": 19,
     "metadata": {},
     "output_type": "execute_result"
    }
   ],
   "source": [
    "soup.select(\"body a\")"
   ]
  },
  {
   "cell_type": "code",
   "execution_count": 20,
   "metadata": {},
   "outputs": [
    {
     "data": {
      "text/plain": [
       "[<title>The Dormouse's story</title>]"
      ]
     },
     "execution_count": 20,
     "metadata": {},
     "output_type": "execute_result"
    }
   ],
   "source": [
    "soup.select(\"html head title\")"
   ]
  },
  {
   "cell_type": "code",
   "execution_count": 21,
   "metadata": {},
   "outputs": [
    {
     "data": {
      "text/plain": [
       "[<title>The Dormouse's story</title>]"
      ]
     },
     "execution_count": 21,
     "metadata": {},
     "output_type": "execute_result"
    }
   ],
   "source": [
    "soup.select(\"head > title\")"
   ]
  },
  {
   "cell_type": "code",
   "execution_count": 23,
   "metadata": {},
   "outputs": [
    {
     "data": {
      "text/plain": [
       "[<a class=\"sister\" href=\"http://example.com/lacie\" id=\"link2\">Lacie</a>,\n",
       " <a class=\"sister\" href=\"http://example.com/tillie\" id=\"link3\">Tillie</a>]"
      ]
     },
     "execution_count": 23,
     "metadata": {},
     "output_type": "execute_result"
    }
   ],
   "source": [
    "soup.select(\"#link1 ~ .sister\")"
   ]
  },
  {
   "cell_type": "code",
   "execution_count": 24,
   "metadata": {},
   "outputs": [
    {
     "data": {
      "text/plain": [
       "[<a class=\"sister\" href=\"http://example.com/lacie\" id=\"link2\">Lacie</a>]"
      ]
     },
     "execution_count": 24,
     "metadata": {},
     "output_type": "execute_result"
    }
   ],
   "source": [
    "soup.select(\"#link1 + .sister\")"
   ]
  },
  {
   "cell_type": "code",
   "execution_count": 34,
   "metadata": {},
   "outputs": [],
   "source": [
    "from bs4 import BeautifulSoup\n",
    "import requests"
   ]
  },
  {
   "cell_type": "code",
   "execution_count": 35,
   "metadata": {},
   "outputs": [],
   "source": [
    "main_url = \"https://fr.wikipedia.org/wiki/Hello_world\"\n",
    "req = requests.get(main_url)\n",
    "soup = BeautifulSoup(req.text, \"html.parser\")"
   ]
  },
  {
   "cell_type": "code",
   "execution_count": 37,
   "metadata": {},
   "outputs": [
    {
     "name": "stdout",
     "output_type": "stream",
     "text": [
      "Hello world\n"
     ]
    }
   ],
   "source": [
    "title = soup.find(\"h1\", class_=\"firstHeading\")\n",
    "print(title.get_text())"
   ]
  },
  {
   "cell_type": "code",
   "execution_count": 38,
   "metadata": {},
   "outputs": [],
   "source": [
    "mid_titles = [tag.get_text() for tag in soup.find_all(\"span\", class_=\"mw-headline\")]"
   ]
  },
  {
   "cell_type": "code",
   "execution_count": 39,
   "metadata": {},
   "outputs": [
    {
     "name": "stdout",
     "output_type": "stream",
     "text": [
      "#Histoire\n",
      "#Utilité\n",
      "#Programmes_Hello_world!\n",
      "#Notes_et_références\n"
     ]
    }
   ],
   "source": [
    "links_tags = soup.select(\"li.toclevel-1\")\n",
    "for tag in links_tags:\n",
    "    print(tag.a.get(\"href\"))"
   ]
  },
  {
   "cell_type": "code",
   "execution_count": 46,
   "metadata": {},
   "outputs": [],
   "source": [
    "def parse(code):\n",
    "    new = ''\n",
    "    for c in code:\n",
    "        if c in '><+-., []':\n",
    "            new += c\n",
    "    return new"
   ]
  },
  {
   "cell_type": "code",
   "execution_count": 47,
   "metadata": {},
   "outputs": [],
   "source": [
    "def block(code):\n",
    "    opened = []\n",
    "    blocks = {}\n",
    "    for i in range(len(code)):\n",
    "        if code [i] == '[':\n",
    "            opened.append(i)\n",
    "        elif code[i] == ']':\n",
    "            blocks[i] = opened [-1]\n",
    "            blocks[opened.pop()] = i\n",
    "    return blocks"
   ]
  },
  {
   "cell_type": "code",
   "execution_count": 48,
   "metadata": {},
   "outputs": [],
   "source": [
    "def run(code):\n",
    "    code = parse(code)\n",
    "    blocks = block(code)\n",
    "    x = i = 0\n",
    "    bf = {0: 0}\n",
    "    while i < len(code):\n",
    "        sym = code[i]\n",
    "        if sym == '>':\n",
    "            x += 1\n",
    "            bf.setdefault(x, 0)\n",
    "        elif sym == '<':\n",
    "            x -= 1\n",
    "        elif sym == '+':\n",
    "            bf[x] += 1\n",
    "        elif sym == '-':\n",
    "            bf[x] -= 1\n",
    "        elif sym == '.':\n",
    "            print(chr(bf[x]), end='')\n",
    "        elif sym == ',':\n",
    "            bf[x] = int(input('Input: '))\n",
    "        elif sym == '[':\n",
    "            if not bf[x]: i = blocks[i]\n",
    "        elif sym == ']':\n",
    "            if bf[x]: i = blocks[i]\n",
    "        i += 1"
   ]
  },
  {
   "cell_type": "code",
   "execution_count": null,
   "metadata": {},
   "outputs": [],
   "source": [
    "code = input()\n",
    "run(code)"
   ]
  },
  {
   "cell_type": "code",
   "execution_count": 1,
   "metadata": {},
   "outputs": [],
   "source": [
    "import matplotlib as mpl"
   ]
  },
  {
   "cell_type": "code",
   "execution_count": 2,
   "metadata": {},
   "outputs": [],
   "source": [
    "import matplotlib.pyplot as plt"
   ]
  },
  {
   "cell_type": "code",
   "execution_count": 3,
   "metadata": {},
   "outputs": [],
   "source": [
    "import math"
   ]
  },
  {
   "cell_type": "code",
   "execution_count": 4,
   "metadata": {},
   "outputs": [
    {
     "data": {
      "text/plain": [
       "<Figure size 512x384 with 0 Axes>"
      ]
     },
     "metadata": {},
     "output_type": "display_data"
    }
   ],
   "source": [
    "dpi = 80\n",
    "fig = plt.figure(dpi = dpi, figsize = (512 / dpi, 384 / dpi))\n",
    "mpl.rcParams.update({'font.size': 10})"
   ]
  },
  {
   "cell_type": "code",
   "execution_count": 5,
   "metadata": {},
   "outputs": [
    {
     "data": {
      "text/plain": [
       "(0.0, 10.0, -1.5, 1.5)"
      ]
     },
     "execution_count": 5,
     "metadata": {},
     "output_type": "execute_result"
    },
    {
     "data": {
      "image/png": "[encoded data removed]",
      "text/plain": [
       "<Figure size 432x288 with 1 Axes>"
      ]
     },
     "metadata": {
      "needs_background": "light"
     },
     "output_type": "display_data"
    }
   ],
   "source": [
    "plt.axis([0, 10, -1.5, 1.5])"
   ]
  },
  {
   "cell_type": "code",
   "execution_count": 6,
   "metadata": {},
   "outputs": [
    {
     "data": {
      "text/plain": [
       "Text(0, 0.5, 'F(x)')"
      ]
     },
     "execution_count": 6,
     "metadata": {},
     "output_type": "execute_result"
    },
    {
     "data": {
      "image/png": "[encoded data removed]",
      "text/plain": [
       "<Figure size 432x288 with 1 Axes>"
      ]
     },
     "metadata": {
      "needs_background": "light"
     },
     "output_type": "display_data"
    }
   ],
   "source": [
    "plt.title('Graph of Sine & Cosine')\n",
    "plt.xlabel('x')\n",
    "plt.ylabel('F(x)')"
   ]
  },
  {
   "cell_type": "code",
   "execution_count": 7,
   "metadata": {},
   "outputs": [],
   "source": [
    "xs = []\n",
    "sin_vals = []\n",
    "cos_vals = []"
   ]
  },
  {
   "cell_type": "code",
   "execution_count": 8,
   "metadata": {},
   "outputs": [
    {
     "data": {
      "image/png": "[encoded data removed]",
      "text/plain": [
       "<Figure size 432x288 with 1 Axes>"
      ]
     },
     "metadata": {
      "needs_background": "light"
     },
     "output_type": "display_data"
    }
   ],
   "source": [
    "x = 0.0\n",
    "while x < 10.0:\n",
    "    sin_vals += [math.sin(x)]\n",
    "    cos_vals += [math.cos(x)]\n",
    "    xs += [x]\n",
    "    x += 0.1\n",
    "    \n",
    "plt.plot(xs, sin_vals, color = 'blue', linestyle = 'solid',\n",
    "         label = 'sin(x)')\n",
    "plt.plot(xs, cos_vals, color = 'red', linestyle = 'dashed',\n",
    "         label = 'cos(x)')\n",
    "\n",
    "plt.legend(loc = 'upper right')\n",
    "fig.savefig('trigan.png')\n",
    "plt.show()"
   ]
  },
  {
   "cell_type": "code",
   "execution_count": 28,
   "metadata": {},
   "outputs": [],
   "source": [
    "%matplotlib inline"
   ]
  },
  {
   "cell_type": "code",
   "execution_count": 29,
   "metadata": {},
   "outputs": [],
   "source": [
    "import os"
   ]
  },
  {
   "cell_type": "code",
   "execution_count": 30,
   "metadata": {},
   "outputs": [],
   "source": [
    "import matplotlib.pyplot as plt"
   ]
  },
  {
   "cell_type": "code",
   "execution_count": 31,
   "metadata": {},
   "outputs": [],
   "source": [
    "from matplotlib import rcParams"
   ]
  },
  {
   "cell_type": "code",
   "execution_count": 32,
   "metadata": {},
   "outputs": [],
   "source": [
    "import numpy as np"
   ]
  },
  {
   "cell_type": "code",
   "execution_count": 33,
   "metadata": {},
   "outputs": [],
   "source": [
    "def save(name='', fmt='png'):\n",
    "    pwd = os.getcwd()\n",
    "    iPath = './pictures/{}'.format(fmt)\n",
    "    if not os.path.exist(iPath):\n",
    "        os.mkdir(iPath)\n",
    "    os.chdir(iPath)\n",
    "    plt.savefig('{}.{}'.format(name, fmt), fmt='png')\n",
    "    os.chdir(pwd)"
   ]
  },
  {
   "cell_type": "code",
   "execution_count": 34,
   "metadata": {},
   "outputs": [],
   "source": [
    "rcParams['font.family'] = 'fantasy'\n",
    "rcParams['font.fantasy'] = 'Arial'"
   ]
  },
  {
   "cell_type": "code",
   "execution_count": 35,
   "metadata": {},
   "outputs": [],
   "source": [
    "import matplotlib.pyplot as plt\n",
    "import numpy as np"
   ]
  },
  {
   "cell_type": "code",
   "execution_count": 36,
   "metadata": {},
   "outputs": [],
   "source": [
    "a = 1\n",
    "x = np.arange(-2*np.pi, 2*np.pi, 0.2)\n",
    "y = np.sin(x) * np.cos(x)\n",
    "f = np.sin(x) + np.cos(x)\n",
    "xz = a*(2*np.cos(x) - np.cos(2*x))\n",
    "yz = a*(2*np.sin(x) - np.sin(2*x))"
   ]
  },
  {
   "cell_type": "code",
   "execution_count": 37,
   "metadata": {},
   "outputs": [
    {
     "data": {
      "image/png": "[encoded data removed]",
      "text/plain": [
       "<Figure size 432x288 with 1 Axes>"
      ]
     },
     "metadata": {
      "needs_background": "light"
     },
     "output_type": "display_data"
    }
   ],
   "source": [
    "plt.plot(x, f, label=u'Cos and Sin')\n",
    "plt.scatter(x, y, label=u'Prod of cos and sin')\n",
    "plt.plot(xz, yz, label=u'Cardioid')\n",
    "\n",
    "plt.grid(True)\n",
    "plt.xlabel(u'Argument')\n",
    "plt.ylabel(u'Function')\n",
    "plt.title(u'Graph')\n",
    "\n",
    "plt.legend()\n",
    "\n",
    "plt.show()"
   ]
  },
  {
   "cell_type": "code",
   "execution_count": 46,
   "metadata": {},
   "outputs": [
    {
     "name": "stdout",
     "output_type": "stream",
     "text": [
      "\u001b[31msome red text\n",
      "\u001b[42mand with a green background\n",
      "\u001b[2mand in dim text\n",
      "\u001b[0m\n",
      "back to normal now\n"
     ]
    }
   ],
   "source": [
    "from colorama import Fore, Back, Style\n",
    "\n",
    "print(Fore.RED + 'some red text')\n",
    "print(Back.GREEN + 'and with a green background')\n",
    "print(Style.DIM + 'and in dim text')\n",
    "print(Style.RESET_ALL)\n",
    "print('back to normal now')"
   ]
  },
  {
   "cell_type": "code",
   "execution_count": 48,
   "metadata": {},
   "outputs": [
    {
     "name": "stdout",
     "output_type": "stream",
     "text": [
      "Collecting emoji\n",
      "  Downloading emoji-0.6.0.tar.gz (51 kB)\n",
      "Building wheels for collected packages: emoji\n",
      "  Building wheel for emoji (setup.py): started\n",
      "  Building wheel for emoji (setup.py): finished with status 'done'\n",
      "  Created wheel for emoji: filename=emoji-0.6.0-py3-none-any.whl size=49714 sha256=ea88857e717daed674b43e57dd9a6506dd0bef0f2d83d84b7643ce5e1be6d2d0\n",
      "  Stored in directory: c:\\users\\linxu\\appdata\\local\\pip\\cache\\wheels\\43\\3d\\82\\e7baffa5e86346c6178d7750dba6e8ef063282a37fc563f8f8\n",
      "Successfully built emoji\n",
      "Installing collected packages: emoji\n",
      "Successfully installed emoji-0.6.0\n",
      "Note: you may need to restart the kernel to use updated packages.\n"
     ]
    }
   ],
   "source": [
    "pip install emoji"
   ]
  },
  {
   "cell_type": "code",
   "execution_count": 50,
   "metadata": {},
   "outputs": [],
   "source": [
    "import emoji"
   ]
  },
  {
   "cell_type": "code",
   "execution_count": 51,
   "metadata": {},
   "outputs": [
    {
     "name": "stdout",
     "output_type": "stream",
     "text": [
      "Chinese culture is👍\n"
     ]
    }
   ],
   "source": [
    "result = emoji.emojize('Chinese culture is:thumbs_up:')\n",
    "print(result)"
   ]
  },
  {
   "cell_type": "code",
   "execution_count": 1,
   "metadata": {},
   "outputs": [],
   "source": [
    "import math"
   ]
  },
  {
   "cell_type": "code",
   "execution_count": 2,
   "metadata": {},
   "outputs": [],
   "source": [
    "an_int = 6\n",
    "a_neg_int = -8\n",
    "a_float = 2.00"
   ]
  },
  {
   "cell_type": "code",
   "execution_count": 3,
   "metadata": {},
   "outputs": [
    {
     "name": "stdout",
     "output_type": "stream",
     "text": [
      "403.4287934927351\n",
      "0.00033546262790251185\n",
      "7.38905609893065\n"
     ]
    }
   ],
   "source": [
    "print(math.exp(an_int))\n",
    "print(math.exp(a_neg_int))\n",
    "print(math.exp(a_float))"
   ]
  },
  {
   "cell_type": "code",
   "execution_count": 4,
   "metadata": {},
   "outputs": [],
   "source": [
    "def bSort(array):\n",
    "    length = len(array)\n",
    "    for i in range(length):\n",
    "        for j in range(0, length-i-1):\n",
    "            if array[j] > array[j+1]:\n",
    "                temp = array[j]\n",
    "                array[j] = array[j + 1]\n",
    "                array[j+1] = temp"
   ]
  },
  {
   "cell_type": "code",
   "execution_count": 5,
   "metadata": {},
   "outputs": [],
   "source": [
    "a = [3, 1, 6, 4]"
   ]
  },
  {
   "cell_type": "code",
   "execution_count": 6,
   "metadata": {},
   "outputs": [
    {
     "name": "stdout",
     "output_type": "stream",
     "text": [
      "[1, 3, 4, 6]\n"
     ]
    }
   ],
   "source": [
    "bSort(a)\n",
    "print(a)"
   ]
  },
  {
   "cell_type": "code",
   "execution_count": 7,
   "metadata": {},
   "outputs": [],
   "source": [
    "from tkinter import *\n",
    "from decimal import *"
   ]
  },
  {
   "cell_type": "code",
   "execution_count": 9,
   "metadata": {},
   "outputs": [],
   "source": [
    "root = Tk()\n",
    "root.title('Calculator')\n",
    "\n",
    "buttons = (('7', '8', '9', '/', '4'),\n",
    "           ('4', '5', '6', '*', '4'),\n",
    "           ('1', '2', '3', '-', '4'),\n",
    "           ('0', '.', '=', '+', '4')\n",
    "          )\n",
    "\n",
    "activeStr = ''\n",
    "stack = []"
   ]
  },
  {
   "cell_type": "code",
   "execution_count": 10,
   "metadata": {},
   "outputs": [],
   "source": [
    "def calculate():\n",
    "    global stack\n",
    "    global label\n",
    "    result = 0\n",
    "    operand2 = Decimal(stack.pop())\n",
    "    operation = stack.pop()\n",
    "    operand1 = Decimal(stack.pop())\n",
    "    \n",
    "    if operation == '+':\n",
    "        result = operand1 + operand2\n",
    "    if operation == '-':\n",
    "        result = operand1 - operand2\n",
    "    if operation == '/':\n",
    "        result = operand1 / operand2\n",
    "    if operation == '*':\n",
    "        result = operand1 * operand2\n",
    "    label.configure(text=str(result))"
   ]
  },
  {
   "cell_type": "code",
   "execution_count": 11,
   "metadata": {},
   "outputs": [],
   "source": [
    "def click(text):\n",
    "    global activeStr\n",
    "    global stack\n",
    "    if text == 'CE':\n",
    "        stack.clear()\n",
    "        activeStr = ''\n",
    "        label.configure(text='0')\n",
    "    elif '0' <= text <= '9':\n",
    "        activeStr += text\n",
    "        label.configure(text=activeStr)\n",
    "    elif text == '.':\n",
    "        if activeStr.find('.') == -1:\n",
    "            activeStr += text\n",
    "            label.configure(text=activeStr)\n",
    "    else:\n",
    "        if len(stack) >=2:\n",
    "            stack.append(label['text'])\n",
    "            calculate()\n",
    "            stack.clear()\n",
    "            stack.append(label['text'])\n",
    "            activeStr = ''\n",
    "            if text != '=':\n",
    "                stack.append(text)\n",
    "        else:\n",
    "            if text != '=':\n",
    "                stack.append(label['text'])\n",
    "                stack.append(text)\n",
    "                activeStr = ''\n",
    "                label.configure(text='0')"
   ]
  },
  {
   "cell_type": "code",
   "execution_count": null,
   "metadata": {},
   "outputs": [],
   "source": [
    "label = Label(root, text='0', width=35)\n",
    "label.grid(row=0, column=0, columnspan=4, sticky=\"nsew\")\n",
    "\n",
    "button = Button(root, text='CE', command=lambda text='CE': click(text))\n",
    "button.grid(row=1, column=3, sticky=\"nsew\")\n",
    "for row in range(4):\n",
    "    for col in range(4):\n",
    "        button = Button(root, text=buttons[row][col],\n",
    "                        command=lambda row=row, col=col: click(buttons[row][col]))\n",
    "        button.grid(row=row + 2, column=col, sticky=\"nsew\")\n",
    "\n",
    "root.grid_rowconfigure(6, weight=1)\n",
    "root.grid_columnconfigure(4, weight=1)\n",
    "\n",
    "root.mainloop()"
   ]
  },
  {
   "cell_type": "code",
   "execution_count": 1,
   "metadata": {},
   "outputs": [],
   "source": [
    "import datetime"
   ]
  },
  {
   "cell_type": "code",
   "execution_count": 2,
   "metadata": {},
   "outputs": [
    {
     "name": "stdout",
     "output_type": "stream",
     "text": [
      "2020-12-30 19:15:40.906190\n"
     ]
    }
   ],
   "source": [
    "dt_now = datetime.datetime.now()\n",
    "print(dt_now)"
   ]
  },
  {
   "cell_type": "code",
   "execution_count": 3,
   "metadata": {},
   "outputs": [],
   "source": [
    "import pylab"
   ]
  },
  {
   "cell_type": "code",
   "execution_count": 4,
   "metadata": {},
   "outputs": [],
   "source": [
    "import matplotlib.patches\n",
    "import matplotlib.lines\n",
    "import matplotlib.path"
   ]
  },
  {
   "cell_type": "code",
   "execution_count": 7,
   "metadata": {},
   "outputs": [
    {
     "ename": "TypeError",
     "evalue": "'str' object is not a mapping",
     "output_type": "error",
     "traceback": [
      "\u001b[1;31m---------------------------------------------------------------------------\u001b[0m",
      "\u001b[1;31mTypeError\u001b[0m                                 Traceback (most recent call last)",
      "\u001b[1;32m<ipython-input-7-5068b6455c53>\u001b[0m in \u001b[0;36m<module>\u001b[1;34m\u001b[0m\n\u001b[0;32m     19\u001b[0m \u001b[1;32mif\u001b[0m \u001b[0m__name__\u001b[0m \u001b[1;33m==\u001b[0m \u001b[1;34m\"__main__\"\u001b[0m\u001b[1;33m:\u001b[0m\u001b[1;33m\u001b[0m\u001b[1;33m\u001b[0m\u001b[0m\n\u001b[0;32m     20\u001b[0m                \u001b[0mcolor\u001b[0m \u001b[1;33m=\u001b[0m \u001b[1;34m'g'\u001b[0m\u001b[1;33m\u001b[0m\u001b[1;33m\u001b[0m\u001b[0m\n\u001b[1;32m---> 21\u001b[1;33m                \u001b[0mdrawRect\u001b[0m\u001b[1;33m(\u001b[0m\u001b[0mcolor\u001b[0m\u001b[1;33m)\u001b[0m\u001b[1;33m\u001b[0m\u001b[1;33m\u001b[0m\u001b[0m\n\u001b[0m\u001b[0;32m     22\u001b[0m \u001b[1;33m\u001b[0m\u001b[0m\n",
      "\u001b[1;32m<ipython-input-7-5068b6455c53>\u001b[0m in \u001b[0;36mdrawRect\u001b[1;34m(color)\u001b[0m\n\u001b[0;32m     13\u001b[0m     \u001b[0maxes\u001b[0m\u001b[1;33m.\u001b[0m\u001b[0madd_patch\u001b[0m\u001b[1;33m(\u001b[0m\u001b[0mrect_front\u001b[0m\u001b[1;33m)\u001b[0m\u001b[1;33m\u001b[0m\u001b[1;33m\u001b[0m\u001b[0m\n\u001b[0;32m     14\u001b[0m \u001b[1;33m\u001b[0m\u001b[0m\n\u001b[1;32m---> 15\u001b[1;33m     \u001b[0mpylab\u001b[0m\u001b[1;33m.\u001b[0m\u001b[0mtext\u001b[0m\u001b[1;33m(\u001b[0m\u001b[1;33m-\u001b[0m\u001b[1;36m1.5\u001b[0m\u001b[1;33m,\u001b[0m \u001b[1;36m1.7\u001b[0m\u001b[1;33m,\u001b[0m \u001b[1;34mu'color = {}'\u001b[0m\u001b[1;33m,\u001b[0m\u001b[0mformat\u001b[0m\u001b[1;33m(\u001b[0m\u001b[0mcolor\u001b[0m\u001b[1;33m)\u001b[0m\u001b[1;33m)\u001b[0m\u001b[1;33m\u001b[0m\u001b[1;33m\u001b[0m\u001b[0m\n\u001b[0m\u001b[0;32m     16\u001b[0m \u001b[1;33m\u001b[0m\u001b[0m\n\u001b[0;32m     17\u001b[0m \u001b[0mpylab\u001b[0m\u001b[1;33m.\u001b[0m\u001b[0mshow\u001b[0m\u001b[1;33m(\u001b[0m\u001b[1;33m)\u001b[0m\u001b[1;33m\u001b[0m\u001b[1;33m\u001b[0m\u001b[0m\n",
      "\u001b[1;32m~\\anaconda3\\lib\\site-packages\\matplotlib\\pyplot.py\u001b[0m in \u001b[0;36mtext\u001b[1;34m(x, y, s, fontdict, **kwargs)\u001b[0m\n\u001b[0;32m   3007\u001b[0m \u001b[1;33m@\u001b[0m\u001b[0m_copy_docstring_and_deprecators\u001b[0m\u001b[1;33m(\u001b[0m\u001b[0mAxes\u001b[0m\u001b[1;33m.\u001b[0m\u001b[0mtext\u001b[0m\u001b[1;33m)\u001b[0m\u001b[1;33m\u001b[0m\u001b[1;33m\u001b[0m\u001b[0m\n\u001b[0;32m   3008\u001b[0m \u001b[1;32mdef\u001b[0m \u001b[0mtext\u001b[0m\u001b[1;33m(\u001b[0m\u001b[0mx\u001b[0m\u001b[1;33m,\u001b[0m \u001b[0my\u001b[0m\u001b[1;33m,\u001b[0m \u001b[0ms\u001b[0m\u001b[1;33m,\u001b[0m \u001b[0mfontdict\u001b[0m\u001b[1;33m=\u001b[0m\u001b[1;32mNone\u001b[0m\u001b[1;33m,\u001b[0m \u001b[1;33m**\u001b[0m\u001b[0mkwargs\u001b[0m\u001b[1;33m)\u001b[0m\u001b[1;33m:\u001b[0m\u001b[1;33m\u001b[0m\u001b[1;33m\u001b[0m\u001b[0m\n\u001b[1;32m-> 3009\u001b[1;33m     \u001b[1;32mreturn\u001b[0m \u001b[0mgca\u001b[0m\u001b[1;33m(\u001b[0m\u001b[1;33m)\u001b[0m\u001b[1;33m.\u001b[0m\u001b[0mtext\u001b[0m\u001b[1;33m(\u001b[0m\u001b[0mx\u001b[0m\u001b[1;33m,\u001b[0m \u001b[0my\u001b[0m\u001b[1;33m,\u001b[0m \u001b[0ms\u001b[0m\u001b[1;33m,\u001b[0m \u001b[0mfontdict\u001b[0m\u001b[1;33m=\u001b[0m\u001b[0mfontdict\u001b[0m\u001b[1;33m,\u001b[0m \u001b[1;33m**\u001b[0m\u001b[0mkwargs\u001b[0m\u001b[1;33m)\u001b[0m\u001b[1;33m\u001b[0m\u001b[1;33m\u001b[0m\u001b[0m\n\u001b[0m\u001b[0;32m   3010\u001b[0m \u001b[1;33m\u001b[0m\u001b[0m\n\u001b[0;32m   3011\u001b[0m \u001b[1;33m\u001b[0m\u001b[0m\n",
      "\u001b[1;32m~\\anaconda3\\lib\\site-packages\\matplotlib\\axes\\_axes.py\u001b[0m in \u001b[0;36mtext\u001b[1;34m(self, x, y, s, fontdict, **kwargs)\u001b[0m\n\u001b[0;32m    755\u001b[0m             \u001b[1;33m>>\u001b[0m\u001b[1;33m>\u001b[0m \u001b[0mtext\u001b[0m\u001b[1;33m(\u001b[0m\u001b[0mx\u001b[0m\u001b[1;33m,\u001b[0m \u001b[0my\u001b[0m\u001b[1;33m,\u001b[0m \u001b[0ms\u001b[0m\u001b[1;33m,\u001b[0m \u001b[0mbbox\u001b[0m\u001b[1;33m=\u001b[0m\u001b[0mdict\u001b[0m\u001b[1;33m(\u001b[0m\u001b[0mfacecolor\u001b[0m\u001b[1;33m=\u001b[0m\u001b[1;34m'red'\u001b[0m\u001b[1;33m,\u001b[0m \u001b[0malpha\u001b[0m\u001b[1;33m=\u001b[0m\u001b[1;36m0.5\u001b[0m\u001b[1;33m)\u001b[0m\u001b[1;33m)\u001b[0m\u001b[1;33m\u001b[0m\u001b[1;33m\u001b[0m\u001b[0m\n\u001b[0;32m    756\u001b[0m         \"\"\"\n\u001b[1;32m--> 757\u001b[1;33m         effective_kwargs = {\n\u001b[0m\u001b[0;32m    758\u001b[0m             \u001b[1;34m'verticalalignment'\u001b[0m\u001b[1;33m:\u001b[0m \u001b[1;34m'baseline'\u001b[0m\u001b[1;33m,\u001b[0m\u001b[1;33m\u001b[0m\u001b[1;33m\u001b[0m\u001b[0m\n\u001b[0;32m    759\u001b[0m             \u001b[1;34m'horizontalalignment'\u001b[0m\u001b[1;33m:\u001b[0m \u001b[1;34m'left'\u001b[0m\u001b[1;33m,\u001b[0m\u001b[1;33m\u001b[0m\u001b[1;33m\u001b[0m\u001b[0m\n",
      "\u001b[1;31mTypeError\u001b[0m: 'str' object is not a mapping"
     ]
    },
    {
     "data": {
      "image/png": "[encoded data removed]",
      "text/plain": [
       "<Figure size 432x288 with 1 Axes>"
      ]
     },
     "metadata": {
      "needs_background": "light"
     },
     "output_type": "display_data"
    }
   ],
   "source": [
    "def drawRect(color):\n",
    "    pylab.xlim(-2, 2)\n",
    "    pylab.ylim(-2, 2)\n",
    "    pylab.grid()\n",
    "    \n",
    "    axes = pylab.gca()\n",
    "    axes.set_aspect(\"equal\")\n",
    "    \n",
    "    rect_back = matplotlib.patches.Rectangle((-0.5, -0.5), 1, 1, color='k')\n",
    "    rect_front = matplotlib.patches.Rectangle((-1, -1), 2, 2, color=color)\n",
    "    \n",
    "    axes.add_patch(rect_back)\n",
    "    axes.add_patch(rect_front)\n",
    "    \n",
    "    pylab.text(-1.5, 1.7, u'color = {}',format(color))\n",
    "               \n",
    "pylab.show()\n",
    "               \n",
    "if __name__ == \"__main__\":\n",
    "               color = 'g'\n",
    "               drawRect(color)\n",
    "            "
   ]
  },
  {
   "cell_type": "code",
   "execution_count": 8,
   "metadata": {},
   "outputs": [],
   "source": [
    "from abc import ABC, abstractmethod"
   ]
  },
  {
   "cell_type": "code",
   "execution_count": 9,
   "metadata": {},
   "outputs": [],
   "source": [
    "class ChessPiece(ABC):\n",
    "    def draw(self):\n",
    "        print(\"Drew a chess piece\")\n",
    "        \n",
    "    @abstractmethod\n",
    "    def move(self):\n",
    "        pass"
   ]
  },
  {
   "cell_type": "code",
   "execution_count": 10,
   "metadata": {},
   "outputs": [
    {
     "ename": "TypeError",
     "evalue": "Can't instantiate abstract class ChessPiece with abstract methods move",
     "output_type": "error",
     "traceback": [
      "\u001b[1;31m---------------------------------------------------------------------------\u001b[0m",
      "\u001b[1;31mTypeError\u001b[0m                                 Traceback (most recent call last)",
      "\u001b[1;32m<ipython-input-10-4a11223d2cd6>\u001b[0m in \u001b[0;36m<module>\u001b[1;34m\u001b[0m\n\u001b[1;32m----> 1\u001b[1;33m \u001b[0ma\u001b[0m \u001b[1;33m=\u001b[0m \u001b[0mChessPiece\u001b[0m\u001b[1;33m(\u001b[0m\u001b[1;33m)\u001b[0m\u001b[1;33m\u001b[0m\u001b[1;33m\u001b[0m\u001b[0m\n\u001b[0m",
      "\u001b[1;31mTypeError\u001b[0m: Can't instantiate abstract class ChessPiece with abstract methods move"
     ]
    }
   ],
   "source": [
    "a = ChessPiece()"
   ]
  },
  {
   "cell_type": "code",
   "execution_count": 11,
   "metadata": {},
   "outputs": [
    {
     "name": "stdout",
     "output_type": "stream",
     "text": [
      "Drew a chess piece\n",
      "Moves Queen to e2e4\n"
     ]
    }
   ],
   "source": [
    "class Queen(ChessPiece):\n",
    "    def move(self):\n",
    "        print(\"Moves Queen to e2e4\")\n",
    "        \n",
    "q = Queen()\n",
    "q.draw()\n",
    "q.move()\n"
   ]
  },
  {
   "cell_type": "code",
   "execution_count": 12,
   "metadata": {},
   "outputs": [
    {
     "name": "stdout",
     "output_type": "stream",
     "text": [
      "Hello from Russia!\n",
      "Enriched functionality\n"
     ]
    }
   ],
   "source": [
    "from abc import ABC, abstractmethod\n",
    "\n",
    "\n",
    "class Basic(ABC):\n",
    "    @abstractmethod\n",
    "    def hello(self):\n",
    "        print(\"Hello from Russia!\")\n",
    "        \n",
    "        \n",
    "class Advanced(Basic):\n",
    "    def hello(self):\n",
    "        super().hello()\n",
    "        print(\"Enriched functionality\")\n",
    "        \n",
    "a = Advanced()\n",
    "a.hello()"
   ]
  }
 ],
 "metadata": {
  "kernelspec": {
   "display_name": "Python 3",
   "language": "python",
   "name": "python3"
  },
  "language_info": {
   "codemirror_mode": {
    "name": "ipython",
    "version": 3
   },
   "file_extension": ".py",
   "mimetype": "text/x-python",
   "name": "python",
   "nbconvert_exporter": "python",
   "pygments_lexer": "ipython3",
   "version": "3.8.5"
  }
 },
 "nbformat": 4,
 "nbformat_minor": 4
}
