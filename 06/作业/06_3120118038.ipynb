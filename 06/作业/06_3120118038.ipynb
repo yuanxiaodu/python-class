{
 "cells": [
  {
   "cell_type": "code",
   "execution_count": 5,
   "metadata": {},
   "outputs": [
    {
     "data": {
      "text/plain": [
       "'C:\\\\Users\\\\evane\\\\anaconda3\\\\python.exe'"
      ]
     },
     "execution_count": 5,
     "metadata": {},
     "output_type": "execute_result"
    }
   ],
   "source": [
    "import sys\n",
    "sys.executable"
   ]
  },
  {
   "cell_type": "code",
   "execution_count": null,
   "metadata": {},
   "outputs": [],
   "source": [
    "# python 命令位置"
   ]
  },
  {
   "cell_type": "code",
   "execution_count": null,
   "metadata": {},
   "outputs": [],
   "source": [
    "#python 命令参数"
   ]
  },
  {
   "cell_type": "code",
   "execution_count": 6,
   "metadata": {},
   "outputs": [
    {
     "data": {
      "text/plain": [
       "['C:\\\\Users\\\\evane\\\\anaconda3\\\\lib\\\\site-packages\\\\ipykernel_launcher.py',\n",
       " '-f',\n",
       " 'C:\\\\Users\\\\evane\\\\AppData\\\\Roaming\\\\jupyter\\\\runtime\\\\kernel-2a804643-bdad-4e53-8a3b-c28ced4631bd.json']"
      ]
     },
     "execution_count": 6,
     "metadata": {},
     "output_type": "execute_result"
    }
   ],
   "source": [
    "sys.argv"
   ]
  },
  {
   "cell_type": "code",
   "execution_count": null,
   "metadata": {},
   "outputs": [],
   "source": [
    "#命名、变量、代码和函数"
   ]
  },
  {
   "cell_type": "code",
   "execution_count": 11,
   "metadata": {},
   "outputs": [
    {
     "name": "stdout",
     "output_type": "stream",
     "text": [
      "arg1:zed,arg2:shaw\n",
      "arg1:zed\n",
      "atg1:first!\n",
      "i got nothing\n"
     ]
    }
   ],
   "source": [
    "# this one is like your scripts with argv\n",
    "def print_two(*args):\n",
    "    arg1,arg2 =args\n",
    "    print(f\"arg1:{arg1},arg2:{arg2}\")\n",
    "    \n",
    "# ok, that *args is actually pointless, we can just do this \n",
    "def print_two_again(arg1,arg2):\n",
    "    print(f\"arg1:{arg1}\")\n",
    "    \n",
    "# this take one arguments\n",
    "def print_one(arg1):\n",
    "    print(f\"atg1:{arg1}\")\n",
    "    \n",
    "# this one takes no arguments\n",
    "def print_none():\n",
    "    print(\"i got nothing\")\n",
    "    \n",
    "print_two(\"zed\",\"shaw\")\n",
    "print_two_again(\"zed\",\"shaw\")\n",
    "print_one(\"first!\")\n",
    "print_none()\n",
    "\n"
   ]
  },
  {
   "cell_type": "code",
   "execution_count": 17,
   "metadata": {},
   "outputs": [
    {
     "ename": "SyntaxError",
     "evalue": "invalid syntax (<ipython-input-17-53a5db28587b>, line 5)",
     "output_type": "error",
     "traceback": [
      "\u001b[1;36m  File \u001b[1;32m\"<ipython-input-17-53a5db28587b>\"\u001b[1;36m, line \u001b[1;32m5\u001b[0m\n\u001b[1;33m    def function_name_2(a1,a2)\u001b[0m\n\u001b[1;37m                              ^\u001b[0m\n\u001b[1;31mSyntaxError\u001b[0m\u001b[1;31m:\u001b[0m invalid syntax\n"
     ]
    }
   ],
   "source": [
    "def function_name(a):\n",
    "    a1,a2=a\n",
    "    print(f\"a1:{a1},a2:{a2}\")\n",
    "\n",
    "def function_name_2(a1,a2)\n",
    "print(f\"a1:{a1},a2:{a2}\")\n",
    "\n",
    "function_name(\"1\",\"2\")\n",
    "function_name_2 (\"1\",\"2\")\n",
    "\n",
    "    "
   ]
  },
  {
   "cell_type": "code",
   "execution_count": 23,
   "metadata": {},
   "outputs": [],
   "source": [
    "def func(a,b):\n",
    "    c=a+b\n",
    "    print('the c is',c)"
   ]
  },
  {
   "cell_type": "code",
   "execution_count": 20,
   "metadata": {},
   "outputs": [],
   "source": [
    "def portrait(name,**KW):\n",
    "    print('name is', name)\n",
    "    for k,v in kw.items():\n",
    "        print(k,v)"
   ]
  },
  {
   "cell_type": "code",
   "execution_count": 22,
   "metadata": {},
   "outputs": [
    {
     "name": "stdout",
     "output_type": "stream",
     "text": [
      "we can just give the function numbeis directly:\n",
      "you have 20cheeses!\n",
      "you have 30 boxes of crackers!\n",
      "man that is enough for a patry!\n",
      "get a blanket.\n",
      "\n",
      "or, we can use varibles from our script: \n",
      "you have 10cheeses!\n",
      "you have 50 boxes of crackers!\n",
      "man that is enough for a patry!\n",
      "get a blanket.\n",
      "\n",
      "we can even do math inside too:\n",
      "you have 30cheeses!\n",
      "you have 11 boxes of crackers!\n",
      "man that is enough for a patry!\n",
      "get a blanket.\n",
      "\n",
      "and we can combine the two, variables and math:\n",
      "you have 110cheeses!\n",
      "you have 1050 boxes of crackers!\n",
      "man that is enough for a patry!\n",
      "get a blanket.\n",
      "\n"
     ]
    }
   ],
   "source": [
    "def cheese_and_crackers(cheese_count, boxes_of_crackers):\n",
    "    print(f\"you have {cheese_count}cheeses!\")\n",
    "    print(f\"you have {boxes_of_crackers} boxes of crackers!\")\n",
    "    print(\"man that is enough for a patry!\")\n",
    "    print(\"get a blanket.\\n\")\n",
    "    \n",
    "print(\"we can just give the function numbeis directly:\")\n",
    "cheese_and_crackers(20,30)\n",
    "\n",
    "print(\"or, we can use varibles from our script: \")\n",
    "amount_of_cheese=10\n",
    "amount_of_crackers=50\n",
    "\n",
    "cheese_and_crackers(amount_of_cheese,amount_of_crackers)\n",
    "\n",
    "print(\"we can even do math inside too:\")\n",
    "cheese_and_crackers(10+20,5+6)\n",
    "\n",
    "print(\"and we can combine the two, variables and math:\")\n",
    "cheese_and_crackers(amount_of_cheese+100, amount_of_crackers+1000)\n",
    "    "
   ]
  },
  {
   "cell_type": "code",
   "execution_count": 34,
   "metadata": {},
   "outputs": [
    {
     "name": "stdout",
     "output_type": "stream",
     "text": [
      "100\n",
      "a past: None\n",
      "a now: 20\n"
     ]
    }
   ],
   "source": [
    "apply=100 # 全局变量\n",
    "a = None\n",
    "def fun():\n",
    "    global a\n",
    "    a=20\n",
    "    return a+100\n",
    "print(apply)\n",
    "print('a past:',a)\n",
    "fun()\n",
    "print('a now:',a)\n"
   ]
  },
  {
   "cell_type": "code",
   "execution_count": null,
   "metadata": {},
   "outputs": [],
   "source": [
    "# 文件操作"
   ]
  },
  {
   "cell_type": "code",
   "execution_count": 35,
   "metadata": {},
   "outputs": [
    {
     "name": "stdout",
     "output_type": "stream",
     "text": [
      "here's your file untitled.txt:\n",
      "1\n",
      "2\n",
      "3\n",
      "\n"
     ]
    },
    {
     "data": {
      "text/plain": [
       "<function TextIOWrapper.close()>"
      ]
     },
     "execution_count": 35,
     "metadata": {},
     "output_type": "execute_result"
    }
   ],
   "source": [
    "filename='untitled.txt'\n",
    "txt = open(filename)\n",
    "\n",
    "print(f\"here's your file {filename}:\")\n",
    "print(txt.read())\n",
    "txt.close"
   ]
  },
  {
   "cell_type": "code",
   "execution_count": 38,
   "metadata": {},
   "outputs": [
    {
     "data": {
      "text/plain": [
       "<_io.TextIOWrapper name='untitled.txt' mode='r' encoding='cp936'>"
      ]
     },
     "execution_count": 38,
     "metadata": {},
     "output_type": "execute_result"
    }
   ],
   "source": [
    "file=\"untitled.txt\"\n",
    "open(file, mode='r')"
   ]
  },
  {
   "cell_type": "code",
   "execution_count": 42,
   "metadata": {},
   "outputs": [
    {
     "data": {
      "text/plain": [
       "<_io.TextIOWrapper name='untitled.txt' mode='r' encoding='cp936'>"
      ]
     },
     "execution_count": 42,
     "metadata": {},
     "output_type": "execute_result"
    }
   ],
   "source": [
    "filename=\"untitled.txt\"\n",
    "open(filename, mode='r', buffering=-1,encoding=None,errors=None,newline=None,opener=None)"
   ]
  },
  {
   "cell_type": "code",
   "execution_count": 32,
   "metadata": {},
   "outputs": [
    {
     "name": "stdout",
     "output_type": "stream",
     "text": [
      "truncating the file. Goodbye!\n",
      "now i am going to ask you for three lines.\n"
     ]
    },
    {
     "name": "stdin",
     "output_type": "stream",
     "text": [
      "line1:  1\n",
      "line2:  2\n",
      "line3:  3\n"
     ]
    },
    {
     "name": "stdout",
     "output_type": "stream",
     "text": [
      "i am going to write these to the file.\n",
      "and finally, we close it.\n"
     ]
    }
   ],
   "source": [
    "target=open(filename,'w')\n",
    "\n",
    "print(\"truncating the file. Goodbye!\")\n",
    "#target.truncate()\n",
    "\n",
    "print(\"now i am going to ask you for three lines.\")\n",
    "\n",
    "line1=input(\"line1: \")\n",
    "line2=input(\"line2: \")\n",
    "line3=input(\"line3: \")\n",
    "\n",
    "print(\"i am going to write these to the file.\")\n",
    "\n",
    "target.write(line1)\n",
    "target.write(\"\\n\")\n",
    "target.write(line2)\n",
    "target.write(\"\\n\")\n",
    "target.write(line3)\n",
    "target.write(\"\\n\")\n",
    "\n",
    "print(\"and finally, we close it.\")\n",
    "target.close()\n"
   ]
  },
  {
   "cell_type": "code",
   "execution_count": 45,
   "metadata": {},
   "outputs": [
    {
     "name": "stdout",
     "output_type": "stream",
     "text": [
      "deleting the file. cnn\n",
      "there are 4 things to do\n"
     ]
    },
    {
     "name": "stdin",
     "output_type": "stream",
     "text": [
      "t1:  1\n",
      "t2:  2\n",
      "t3:  3\n",
      "t4:  4\n"
     ]
    },
    {
     "name": "stdout",
     "output_type": "stream",
     "text": [
      "i will do these things\n"
     ]
    },
    {
     "ename": "AttributeError",
     "evalue": "'_io.TextIOWrapper' object has no attribute 'wtite'",
     "output_type": "error",
     "traceback": [
      "\u001b[1;31m---------------------------------------------------------------------------\u001b[0m",
      "\u001b[1;31mAttributeError\u001b[0m                            Traceback (most recent call last)",
      "\u001b[1;32m<ipython-input-45-c724ae51f38c>\u001b[0m in \u001b[0;36m<module>\u001b[1;34m\u001b[0m\n\u001b[0;32m     16\u001b[0m \u001b[0maimtion\u001b[0m\u001b[1;33m.\u001b[0m\u001b[0mwrite\u001b[0m\u001b[1;33m(\u001b[0m\u001b[0mt2\u001b[0m\u001b[1;33m)\u001b[0m\u001b[1;33m\u001b[0m\u001b[1;33m\u001b[0m\u001b[0m\n\u001b[0;32m     17\u001b[0m \u001b[0maimtion\u001b[0m\u001b[1;33m.\u001b[0m\u001b[0mwrite\u001b[0m\u001b[1;33m(\u001b[0m\u001b[0mt3\u001b[0m\u001b[1;33m)\u001b[0m\u001b[1;33m\u001b[0m\u001b[1;33m\u001b[0m\u001b[0m\n\u001b[1;32m---> 18\u001b[1;33m \u001b[0maimtion\u001b[0m\u001b[1;33m.\u001b[0m\u001b[0mwtite\u001b[0m\u001b[1;33m(\u001b[0m\u001b[0mt4\u001b[0m\u001b[1;33m)\u001b[0m\u001b[1;33m\u001b[0m\u001b[1;33m\u001b[0m\u001b[0m\n\u001b[0m\u001b[0;32m     19\u001b[0m \u001b[1;33m\u001b[0m\u001b[0m\n\u001b[0;32m     20\u001b[0m \u001b[0maimtion\u001b[0m\u001b[1;33m.\u001b[0m\u001b[0mclose\u001b[0m\u001b[1;33m(\u001b[0m\u001b[1;33m)\u001b[0m\u001b[1;33m\u001b[0m\u001b[1;33m\u001b[0m\u001b[0m\n",
      "\u001b[1;31mAttributeError\u001b[0m: '_io.TextIOWrapper' object has no attribute 'wtite'"
     ]
    }
   ],
   "source": [
    "aimtion=open(file,\"w\")\n",
    "\n",
    "print(\"deleting the file. cnn\")\n",
    "# aimtion.delete()\n",
    "\n",
    "print(\"there are 4 things to do\")\n",
    "\n",
    "t1=input(\"t1: \")\n",
    "t2=input(\"t2: \")\n",
    "t3=input(\"t3: \")\n",
    "t4=input(\"t4: \")\n",
    "\n",
    "print(\"i will do these things\")\n",
    "\n",
    "aimtion.write(t1)\n",
    "aimtion.write(t2)\n",
    "aimtion.write(t3)\n",
    "aimtion.wtite(t4)\n",
    "\n",
    "aimtion.close()"
   ]
  },
  {
   "cell_type": "code",
   "execution_count": null,
   "metadata": {},
   "outputs": [],
   "source": [
    "#functions and files"
   ]
  },
  {
   "cell_type": "code",
   "execution_count": 57,
   "metadata": {},
   "outputs": [
    {
     "ename": "SyntaxError",
     "evalue": "invalid syntax (<ipython-input-57-6e218a084070>, line 9)",
     "output_type": "error",
     "traceback": [
      "\u001b[1;36m  File \u001b[1;32m\"<ipython-input-57-6e218a084070>\"\u001b[1;36m, line \u001b[1;32m9\u001b[0m\n\u001b[1;33m    def print_a_line(line_count, f):\u001b[0m\n\u001b[1;37m    ^\u001b[0m\n\u001b[1;31mSyntaxError\u001b[0m\u001b[1;31m:\u001b[0m invalid syntax\n"
     ]
    }
   ],
   "source": [
    "input_file='sample.txt'\n",
    "\n",
    "def print_all(f):\n",
    "    print(f.read())\n",
    "    \n",
    "def rewind(f):\n",
    "    print(f.seek(())\n",
    "    \n",
    "def print_a_line(line_count, f):\n",
    "    print(line_count,f.readline())\n",
    "    \n",
    "current_file=open(input_file)\n",
    "\n",
    "print(\"first let's print the whole file: \\n\")\n",
    "\n",
    "print_all(current_file)\n",
    "\n",
    "print(\"now let's rewind, kind of like a tape.\")\n",
    "\n",
    "rewind(current_file）\n",
    "\n",
    "print(\"let's print three lines: \")\n",
    "\n",
    "current_line=1\n",
    "print_a_line(current_line, current_life)\n",
    "       \n",
    "current_line=current_line + 1\n",
    "print_a_line(current_line, currnet_file)\n",
    "\n",
    "current_line += 1\n",
    "print_a_line(current_line, current_file)\n",
    "       \n",
    "current_file.close()"
   ]
  },
  {
   "cell_type": "code",
   "execution_count": 60,
   "metadata": {},
   "outputs": [
    {
     "name": "stdout",
     "output_type": "stream",
     "text": [
      "打开全部文件\n",
      "123\n",
      "把文件的位置指向文件的开始\n"
     ]
    },
    {
     "ename": "TypeError",
     "evalue": "seek expected at least 1 argument, got 0",
     "output_type": "error",
     "traceback": [
      "\u001b[1;31m---------------------------------------------------------------------------\u001b[0m",
      "\u001b[1;31mTypeError\u001b[0m                                 Traceback (most recent call last)",
      "\u001b[1;32m<ipython-input-60-f9449d0cb1dc>\u001b[0m in \u001b[0;36m<module>\u001b[1;34m\u001b[0m\n\u001b[0;32m     17\u001b[0m \u001b[1;33m\u001b[0m\u001b[0m\n\u001b[0;32m     18\u001b[0m \u001b[0mprint\u001b[0m\u001b[1;33m(\u001b[0m\u001b[1;34m\"把文件的位置指向文件的开始\"\u001b[0m\u001b[1;33m)\u001b[0m\u001b[1;33m\u001b[0m\u001b[1;33m\u001b[0m\u001b[0m\n\u001b[1;32m---> 19\u001b[1;33m \u001b[0mrewind\u001b[0m\u001b[1;33m(\u001b[0m\u001b[0mcurrent_filenane\u001b[0m\u001b[1;33m)\u001b[0m\u001b[1;33m\u001b[0m\u001b[1;33m\u001b[0m\u001b[0m\n\u001b[0m\u001b[0;32m     20\u001b[0m \u001b[1;33m\u001b[0m\u001b[0m\n\u001b[0;32m     21\u001b[0m \u001b[1;33m\u001b[0m\u001b[0m\n",
      "\u001b[1;32m<ipython-input-60-f9449d0cb1dc>\u001b[0m in \u001b[0;36mrewind\u001b[1;34m(dd)\u001b[0m\n\u001b[0;32m      5\u001b[0m \u001b[1;33m\u001b[0m\u001b[0m\n\u001b[0;32m      6\u001b[0m \u001b[1;32mdef\u001b[0m \u001b[0mrewind\u001b[0m\u001b[1;33m(\u001b[0m\u001b[0mdd\u001b[0m\u001b[1;33m)\u001b[0m\u001b[1;33m:\u001b[0m\u001b[1;33m\u001b[0m\u001b[1;33m\u001b[0m\u001b[0m\n\u001b[1;32m----> 7\u001b[1;33m     \u001b[0mprint\u001b[0m\u001b[1;33m(\u001b[0m\u001b[0mdd\u001b[0m\u001b[1;33m.\u001b[0m\u001b[0mseek\u001b[0m\u001b[1;33m(\u001b[0m\u001b[1;33m)\u001b[0m\u001b[1;33m)\u001b[0m\u001b[1;33m\u001b[0m\u001b[1;33m\u001b[0m\u001b[0m\n\u001b[0m\u001b[0;32m      8\u001b[0m \u001b[1;33m\u001b[0m\u001b[0m\n\u001b[0;32m      9\u001b[0m \u001b[1;32mdef\u001b[0m \u001b[0mprint_a_line\u001b[0m\u001b[1;33m(\u001b[0m\u001b[0mline_count\u001b[0m\u001b[1;33m,\u001b[0m \u001b[0mdd\u001b[0m\u001b[1;33m)\u001b[0m\u001b[1;33m:\u001b[0m\u001b[1;33m\u001b[0m\u001b[1;33m\u001b[0m\u001b[0m\n",
      "\u001b[1;31mTypeError\u001b[0m: seek expected at least 1 argument, got 0"
     ]
    }
   ],
   "source": [
    "input_filename='untitled.txt'\n",
    "\n",
    "def print_all(dd):\n",
    "    print(dd.read())\n",
    "\n",
    "def rewind(dd):\n",
    "    print(dd.seek())\n",
    "\n",
    "def print_a_line(line_count, dd):\n",
    "    print(line_count, dd.readline())\n",
    "    \n",
    "current_filenane=open(input_filename)\n",
    "\n",
    "print(\"打开全部文件\")\n",
    "\n",
    "print_all (current_filenane)\n",
    "\n",
    "print(\"把文件的位置指向文件的开始\")\n",
    "rewind(current_filenane)\n",
    "\n",
    "    \n"
   ]
  },
  {
   "cell_type": "code",
   "execution_count": null,
   "metadata": {},
   "outputs": [],
   "source": [
    "#functions can return something"
   ]
  },
  {
   "cell_type": "code",
   "execution_count": 71,
   "metadata": {},
   "outputs": [
    {
     "name": "stdout",
     "output_type": "stream",
     "text": [
      "let's do some math with just function!\n",
      "adding 30+5\n",
      "f,subtracting {a}-{b}\n",
      "multiplying90*2\n",
      "dividing100/2\n",
      "age=35,height:74,weight:180,iq:50.0\n",
      "here is a puzzle\n",
      "dividing50.0/2\n",
      "multiplying180*25.0\n",
      "f,subtracting {a}-{b}\n",
      "adding 35+-4426.0\n",
      "that become: -4391.0 can you do it by hand?\n"
     ]
    }
   ],
   "source": [
    "def add(a,b):\n",
    "    print(f\"adding {a}+{b}\")\n",
    "    return a+b\n",
    "\n",
    "def subtract(a,b):\n",
    "    print(\"f,subtracting {a}-{b}\")\n",
    "    return a-b\n",
    "    \n",
    "def multiply(a,b):\n",
    "    print(f\"multiplying{a}*{b}\")\n",
    "    return a*b\n",
    "\n",
    "def divide(a,b):\n",
    "    print(f\"dividing{a}/{b}\")\n",
    "    return a/b\n",
    "\n",
    "print(\"let's do some math with just function!\")\n",
    "\n",
    "age=add(30,5)\n",
    "height=subtract(78,4)\n",
    "weight=multiply(90,2)\n",
    "iq=divide(100,2)\n",
    "\n",
    "print(f\"age={age},height:{height},weight:{weight},iq:{iq}\")\n",
    "\n",
    "# a puzzle for the extra credit, type it in  anyway.\n",
    "print(\"here is a puzzle\")\n",
    "\n",
    "what=add(age, subtract(height,multiply(weight,divide(iq,2))))\n",
    "\n",
    "print(\"that become:\",what,\"can you do it by hand?\")\n"
   ]
  },
  {
   "cell_type": "code",
   "execution_count": 73,
   "metadata": {},
   "outputs": [
    {
     "name": "stdout",
     "output_type": "stream",
     "text": [
      "和10+20\n",
      "people=30\n"
     ]
    }
   ],
   "source": [
    "def add(a,b):\n",
    "    print(f\"和{a}+{b}\")\n",
    "    return a+b\n",
    "\n",
    "people= add(10,20)\n",
    "print(f\"people={people}\")"
   ]
  },
  {
   "cell_type": "code",
   "execution_count": null,
   "metadata": {},
   "outputs": [],
   "source": [
    "#条件控制"
   ]
  },
  {
   "cell_type": "code",
   "execution_count": 74,
   "metadata": {},
   "outputs": [
    {
     "name": "stdout",
     "output_type": "stream",
     "text": [
      "too many cats! the world is doomed!\n",
      "the world is dry!\n",
      "people are greater than or equal to dogs.\n",
      "people are less than ot equal to dogs.\n",
      "people are dogs\n"
     ]
    }
   ],
   "source": [
    "people=20\n",
    "cats=30\n",
    "dogs=15\n",
    "\n",
    "if people<cats:\n",
    "    print(\"too many cats! the world is doomed!\")\n",
    "    \n",
    "if people>cats:\n",
    "    print(\"not many cats! the world is saved!\")\n",
    "    \n",
    "if people<dogs:\n",
    "    print(\"the world is drooled on!\")\n",
    "\n",
    "if people>dogs:\n",
    "    print(\"the world is dry!\")\n",
    "    \n",
    "dogs +=5\n",
    "\n",
    "if people>=dogs:\n",
    "    print(\"people are greater than or equal to dogs.\")\n",
    "    \n",
    "if people<=dogs:\n",
    "    print(\"people are less than ot equal to dogs.\")\n",
    "\n",
    "if people ==dogs:\n",
    "    print(\"people are dogs\")"
   ]
  },
  {
   "cell_type": "code",
   "execution_count": 76,
   "metadata": {},
   "outputs": [
    {
     "ename": "NameError",
     "evalue": "name '_name_' is not defined",
     "output_type": "error",
     "traceback": [
      "\u001b[1;31m---------------------------------------------------------------------------\u001b[0m",
      "\u001b[1;31mNameError\u001b[0m                                 Traceback (most recent call last)",
      "\u001b[1;32m<ipython-input-76-5b472a4092d9>\u001b[0m in \u001b[0;36m<module>\u001b[1;34m\u001b[0m\n\u001b[0;32m      1\u001b[0m \u001b[1;32mimport\u001b[0m \u001b[0mtime\u001b[0m\u001b[1;33m\u001b[0m\u001b[1;33m\u001b[0m\u001b[0m\n\u001b[0;32m      2\u001b[0m \u001b[1;33m\u001b[0m\u001b[0m\n\u001b[1;32m----> 3\u001b[1;33m \u001b[1;32mif\u001b[0m \u001b[0m_name_\u001b[0m\u001b[1;33m==\u001b[0m\u001b[1;34m'_main_'\u001b[0m\u001b[1;33m:\u001b[0m\u001b[1;33m\u001b[0m\u001b[1;33m\u001b[0m\u001b[0m\n\u001b[0m\u001b[0;32m      4\u001b[0m     \u001b[0mdate\u001b[0m\u001b[1;33m=\u001b[0m\u001b[0mtime\u001b[0m\u001b[1;33m.\u001b[0m\u001b[0mstrftime\u001b[0m\u001b[1;33m(\u001b[0m\u001b[1;34m'%m-%d'\u001b[0m\u001b[1;33m,\u001b[0m\u001b[0mtime\u001b[0m\u001b[1;33m.\u001b[0m\u001b[0mlocaltime\u001b[0m\u001b[1;33m(\u001b[0m\u001b[1;33m)\u001b[0m\u001b[1;33m)\u001b[0m\u001b[1;33m\u001b[0m\u001b[1;33m\u001b[0m\u001b[0m\n\u001b[0;32m      5\u001b[0m     \u001b[1;32mif\u001b[0m \u001b[0mdate\u001b[0m\u001b[1;33m==\u001b[0m\u001b[1;34m'02-14'\u001b[0m\u001b[1;33m:\u001b[0m\u001b[1;33m\u001b[0m\u001b[1;33m\u001b[0m\u001b[0m\n",
      "\u001b[1;31mNameError\u001b[0m: name '_name_' is not defined"
     ]
    }
   ],
   "source": [
    "import time\n",
    "\n",
    "if _name_=='_main_':\n",
    "    date=time.strftime('%m-%d',time.localtime())\n",
    "    if date=='02-14':\n",
    "        print('情人节到了')\n",
    "    else:\n",
    "        print('发红包！')"
   ]
  },
  {
   "cell_type": "code",
   "execution_count": 79,
   "metadata": {},
   "outputs": [
    {
     "ename": "NameError",
     "evalue": "name '_name_' is not defined",
     "output_type": "error",
     "traceback": [
      "\u001b[1;31m---------------------------------------------------------------------------\u001b[0m",
      "\u001b[1;31mNameError\u001b[0m                                 Traceback (most recent call last)",
      "\u001b[1;32m<ipython-input-79-372555f4138c>\u001b[0m in \u001b[0;36m<module>\u001b[1;34m\u001b[0m\n\u001b[1;32m----> 1\u001b[1;33m \u001b[1;32mif\u001b[0m \u001b[0m_name_\u001b[0m\u001b[1;33m==\u001b[0m\u001b[1;34m'_main_'\u001b[0m\u001b[1;33m:\u001b[0m\u001b[1;33m\u001b[0m\u001b[1;33m\u001b[0m\u001b[0m\n\u001b[0m\u001b[0;32m      2\u001b[0m     \u001b[1;32mfor\u001b[0m \u001b[0mi\u001b[0m \u001b[1;32min\u001b[0m \u001b[0mrange\u001b[0m\u001b[1;33m(\u001b[0m\u001b[1;36m5\u001b[0m\u001b[1;33m)\u001b[0m\u001b[1;33m:\u001b[0m\u001b[1;33m\u001b[0m\u001b[1;33m\u001b[0m\u001b[0m\n\u001b[0;32m      3\u001b[0m         \u001b[0mn\u001b[0m\u001b[1;33m=\u001b[0m\u001b[1;36m0\u001b[0m\u001b[1;33m\u001b[0m\u001b[1;33m\u001b[0m\u001b[0m\n\u001b[0;32m      4\u001b[0m         \u001b[1;32mif\u001b[0m \u001b[0mi\u001b[0m\u001b[1;33m!=\u001b[0m\u001b[1;36m1\u001b[0m\u001b[1;33m:\u001b[0m\u001b[0mn\u001b[0m\u001b[1;33m+=\u001b[0m\u001b[1;36m1\u001b[0m\u001b[1;33m\u001b[0m\u001b[1;33m\u001b[0m\u001b[0m\n\u001b[0;32m      5\u001b[0m         \u001b[1;32mif\u001b[0m \u001b[0mi\u001b[0m\u001b[1;33m==\u001b[0m\u001b[1;36m3\u001b[0m\u001b[1;33m:\u001b[0m\u001b[0mn\u001b[0m\u001b[1;33m+=\u001b[0m\u001b[1;36m1\u001b[0m\u001b[1;33m\u001b[0m\u001b[1;33m\u001b[0m\u001b[0m\n",
      "\u001b[1;31mNameError\u001b[0m: name '_name_' is not defined"
     ]
    }
   ],
   "source": [
    "if _name_=='_main_':\n",
    "    for i in range(5):\n",
    "        n=0\n",
    "        if i!=1:n+=1\n",
    "        if i==3:n+=1\n",
    "        if i==4:n+=1\n",
    "        if i!=4:n+=1\n",
    "        if n==3:print (64+i)"
   ]
  },
  {
   "cell_type": "code",
   "execution_count": null,
   "metadata": {},
   "outputs": [],
   "source": [
    "#boolean practice"
   ]
  },
  {
   "cell_type": "code",
   "execution_count": 83,
   "metadata": {},
   "outputs": [
    {
     "data": {
      "text/plain": [
       "True"
      ]
     },
     "execution_count": 83,
     "metadata": {},
     "output_type": "execute_result"
    }
   ],
   "source": [
    "3==3 and (not(\"testing\"==\"testing\" or \"python\"==\"fun\"))\n",
    "\"chunky\"==\"bacon\" and (not(3==4 or 3==3))\n",
    "1==1 and (not(\"testing\"==1 or 1==0))\n",
    "not (\"testing\" == \"testing\" and \"wang\" == \"cool girl\")\n",
    "not(1!=10 or 3==4)\n",
    "not(10==1 or 1000==1000)\n",
    "not(1==1 and 0!=1)\n",
    "not (True and False )\n",
    "\"test\"==1\n",
    "\"test\"!= \"testing\"\n",
    "1!=0 and 2==1\n",
    "\"test\"==\"testing\"\n",
    "True or 1==1\n",
    "False and 0!=0\n",
    "True and 1==1\n",
    "1==1 or 2!=1\n",
    "\"test\"==\"test\"\n",
    "1==1 and 2==1\n",
    "False and True\n",
    "True and True"
   ]
  },
  {
   "cell_type": "code",
   "execution_count": null,
   "metadata": {},
   "outputs": [],
   "source": [
    "#if elif else"
   ]
  },
  {
   "cell_type": "code",
   "execution_count": 84,
   "metadata": {},
   "outputs": [
    {
     "name": "stdout",
     "output_type": "stream",
     "text": [
      "we should take the cars.\n",
      "maybe we could take the trucks\n",
      "alright, let's just take the trucks\n"
     ]
    }
   ],
   "source": [
    "people = 30\n",
    "cars=40\n",
    "trucks=15\n",
    "\n",
    "if cars>people:\n",
    "    print(\"we should take the cars.\")\n",
    "elif cars<people:\n",
    "    print(\"we should not take the cars\")\n",
    "else:\n",
    "    print(\"we can not decide.\")\n",
    "    \n",
    "if trucks>cars:\n",
    "    print(\"taht is too many trucks\")\n",
    "    \n",
    "elif trucks<cars:\n",
    "    print(\"maybe we could take the trucks\")\n",
    "else:\n",
    "    print(\"we still can not decide\")\n",
    "\n",
    "if people>trucks:\n",
    "    print(\"alright, let's just take the trucks\")\n",
    "else:\n",
    "    print(\"fine, let's stay home then\")"
   ]
  },
  {
   "cell_type": "code",
   "execution_count": 85,
   "metadata": {},
   "outputs": [
    {
     "name": "stdout",
     "output_type": "stream",
     "text": [
      "hey bro\n",
      "hey bro\n",
      "hey bro\n"
     ]
    }
   ],
   "source": [
    "bro=30\n",
    "me =24\n",
    "sister=18\n",
    "\n",
    "if bro>me:\n",
    "    print(\"hey bro\")\n",
    "elif bro<me:\n",
    "    print(\"弟兄\")\n",
    "else:\n",
    "    print(\"都是姐妹来着\")\n",
    "    \n",
    "if bro>sister:\n",
    "    print(\"hey bro\")\n",
    "elif bro<sisiter:\n",
    "    print(\"你好，姐妹\")\n",
    "else:\n",
    "    print(\"都是兄弟\")\n",
    "\n",
    "if me>sister:\n",
    "    print(\"hey bro\")\n",
    "elif me<sister:\n",
    "    print(\"姐妹\")\n",
    "else:\n",
    "    print(\"真不错\")"
   ]
  },
  {
   "cell_type": "code",
   "execution_count": 87,
   "metadata": {},
   "outputs": [
    {
     "name": "stdout",
     "output_type": "stream",
     "text": [
      "yoou ernter a dark room with two doors.\n",
      "do you og through door #1 or #2?\n"
     ]
    },
    {
     "name": "stdin",
     "output_type": "stream",
     "text": [
      "> 2\n"
     ]
    },
    {
     "name": "stdout",
     "output_type": "stream",
     "text": [
      "you stare into the endless abss \n",
      "1.蓝莓\n",
      "2.黄色外套\n",
      "3.吃东西压压惊\n"
     ]
    },
    {
     "name": "stdin",
     "output_type": "stream",
     "text": [
      "> 3\n"
     ]
    },
    {
     "name": "stdout",
     "output_type": "stream",
     "text": [
      "害怕\n"
     ]
    }
   ],
   "source": [
    "print(\"\"\"yoou ernter a dark room with two doors.\n",
    "do you og through door #1 or #2?\"\"\")\n",
    "\n",
    "door=input(\">\")\n",
    "\n",
    "if door==\"1\":\n",
    "    print(\"there is a giant bear hehe eating a cheese cake. what do you do?\")\n",
    "    print(\"1.take a cake\")\n",
    "    print(\"2.scream at the bear\")\n",
    "    \n",
    "    bear=input(\">\")\n",
    "    \n",
    "    if bear==\"1\":\n",
    "        print(\"the bear eats your face off, good job\")\n",
    "    elif bear==\"2\":\n",
    "        print(\"the bear eats you leg off good job\")\n",
    "    else:\n",
    "        print(f\"well,doing{bear}is probably)better.bears runs away.\")\n",
    "\n",
    "elif door==\"2\":\n",
    "    print(\"you stare into the endless abss \")\n",
    "    print(\"1.蓝莓\")\n",
    "    print(\"2.黄色外套\")\n",
    "    print(\"3.吃东西压压惊\")\n",
    "    \n",
    "    Insanity=input(\">\")\n",
    "    \n",
    "    if Insanity==\"1\"or Insanity==\"2\":\n",
    "        print(\"获救\")\n",
    "    else:\n",
    "        print(\"害怕\")\n",
    "else:\n",
    "    print(\"guale\")\n"
   ]
  },
  {
   "cell_type": "code",
   "execution_count": null,
   "metadata": {},
   "outputs": [],
   "source": [
    "#while 循环"
   ]
  },
  {
   "cell_type": "code",
   "execution_count": 89,
   "metadata": {},
   "outputs": [
    {
     "name": "stdout",
     "output_type": "stream",
     "text": [
      "1到300 之和为：45150 \n"
     ]
    }
   ],
   "source": [
    "n=300\n",
    "\n",
    "sum=0\n",
    "counter=1\n",
    "while counter<=n:\n",
    "    sum=sum+counter\n",
    "    counter+= 1\n",
    "    \n",
    "print(\"1到%d 之和为：%d \" %(n,sum))"
   ]
  },
  {
   "cell_type": "code",
   "execution_count": 94,
   "metadata": {},
   "outputs": [],
   "source": [
    "def save_grade(name,grade):\n",
    "    grades=open('untitled.txt','a')\n",
    "    grades.write(f'姓名：{name}\\t成绩：{grade}\\n')\n",
    "    grade.close()"
   ]
  },
  {
   "cell_type": "code",
   "execution_count": 2,
   "metadata": {},
   "outputs": [
    {
     "name": "stdin",
     "output_type": "stream",
     "text": [
      "请输入姓名： CHUNG\n",
      "请输入成绩： 78\n"
     ]
    },
    {
     "ename": "NameError",
     "evalue": "name 'save_grade' is not defined",
     "output_type": "error",
     "traceback": [
      "\u001b[1;31m---------------------------------------------------------------------------\u001b[0m",
      "\u001b[1;31mNameError\u001b[0m                                 Traceback (most recent call last)",
      "\u001b[1;32m<ipython-input-2-0940dac59d8e>\u001b[0m in \u001b[0;36m<module>\u001b[1;34m\u001b[0m\n\u001b[0;32m      2\u001b[0m     \u001b[0mname\u001b[0m\u001b[1;33m=\u001b[0m\u001b[0minput\u001b[0m\u001b[1;33m(\u001b[0m\u001b[1;34m\"请输入姓名：\"\u001b[0m\u001b[1;33m)\u001b[0m\u001b[1;33m\u001b[0m\u001b[1;33m\u001b[0m\u001b[0m\n\u001b[0;32m      3\u001b[0m     \u001b[0mgrade\u001b[0m\u001b[1;33m=\u001b[0m\u001b[0minput\u001b[0m\u001b[1;33m(\u001b[0m\u001b[1;34m'请输入成绩：'\u001b[0m\u001b[1;33m)\u001b[0m\u001b[1;33m\u001b[0m\u001b[1;33m\u001b[0m\u001b[0m\n\u001b[1;32m----> 4\u001b[1;33m     \u001b[0msave_grade\u001b[0m\u001b[1;33m(\u001b[0m\u001b[0mname\u001b[0m\u001b[1;33m,\u001b[0m\u001b[0mgrade\u001b[0m\u001b[1;33m)\u001b[0m\u001b[1;33m\u001b[0m\u001b[1;33m\u001b[0m\u001b[0m\n\u001b[0m\u001b[0;32m      5\u001b[0m     \u001b[0mprint\u001b[0m\u001b[1;33m(\u001b[0m\u001b[1;34mf'{name}的成绩以保存。'\u001b[0m\u001b[1;33m)\u001b[0m\u001b[1;33m\u001b[0m\u001b[1;33m\u001b[0m\u001b[0m\n\u001b[0;32m      6\u001b[0m     \u001b[0mgo_on\u001b[0m\u001b[1;33m=\u001b[0m\u001b[0minput\u001b[0m\u001b[1;33m(\u001b[0m\u001b[1;34m'是否能继续输入(yes or no)?'\u001b[0m\u001b[1;33m)\u001b[0m\u001b[1;33m\u001b[0m\u001b[1;33m\u001b[0m\u001b[0m\n",
      "\u001b[1;31mNameError\u001b[0m: name 'save_grade' is not defined"
     ]
    }
   ],
   "source": [
    "while True:\n",
    "    name=input(\"请输入姓名：\")\n",
    "    grade=input('请输入成绩：')\n",
    "    save_grade(name,grade)\n",
    "    print(f'{name}的成绩以保存。')\n",
    "    go_on=input('是否能继续输入(yes or no)?')\n",
    "    n=0\n",
    "    if go_on=='yes':\n",
    "        continue\n",
    "    elif go_on=='no':\n",
    "        break\n",
    "    print('成绩输入以结束')"
   ]
  },
  {
   "cell_type": "code",
   "execution_count": null,
   "metadata": {},
   "outputs": [],
   "source": []
  }
 ],
 "metadata": {
  "kernelspec": {
   "display_name": "Python 3",
   "language": "python",
   "name": "python3"
  },
  "language_info": {
   "codemirror_mode": {
    "name": "ipython",
    "version": 3
   },
   "file_extension": ".py",
   "mimetype": "text/x-python",
   "name": "python",
   "nbconvert_exporter": "python",
   "pygments_lexer": "ipython3",
   "version": "3.8.5"
  }
 },
 "nbformat": 4,
 "nbformat_minor": 4
}
