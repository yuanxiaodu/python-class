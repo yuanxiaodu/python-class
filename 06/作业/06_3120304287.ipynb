{
 "cells": [
  {
   "cell_type": "code",
   "execution_count": 1,
   "metadata": {},
   "outputs": [
    {
     "name": "stdout",
     "output_type": "stream",
     "text": [
      "Good good study\n",
      "GOOD GOOD STUDY\n",
      "Good Good Study\n"
     ]
    }
   ],
   "source": [
    "sentence = 'good good study'\n",
    "print(sentence.capitalize())\n",
    "print(sentence.upper())\n",
    "print(sentence.title())"
   ]
  },
  {
   "cell_type": "code",
   "execution_count": 3,
   "metadata": {},
   "outputs": [
    {
     "name": "stdout",
     "output_type": "stream",
     "text": [
      "10\n"
     ]
    }
   ],
   "source": [
    "def max(a,b):\n",
    "    if a>b:\n",
    "        return a\n",
    "    else:\n",
    "        return b\n",
    "a=9\n",
    "b=10\n",
    "print(max(a,b))"
   ]
  },
  {
   "cell_type": "code",
   "execution_count": 4,
   "metadata": {},
   "outputs": [
    {
     "name": "stdout",
     "output_type": "stream",
     "text": [
      "1 1 0\n",
      "[66.66, 333, -1, 222, 1, 34.5, 333]\n"
     ]
    },
    {
     "data": {
      "text/plain": [
       "1"
      ]
     },
     "execution_count": 4,
     "metadata": {},
     "output_type": "execute_result"
    }
   ],
   "source": [
    "a=[66.66,333,222,1,34.5]\n",
    "print(a.count(333),a.count(66.66),a.count('x'))\n",
    "a.insert(2,-1)\n",
    "a.append(333)\n",
    "print(a)\n",
    "a.index(333)"
   ]
  },
  {
   "cell_type": "code",
   "execution_count": 5,
   "metadata": {},
   "outputs": [
    {
     "name": "stdout",
     "output_type": "stream",
     "text": [
      "[1, 2, 3, 7, 8]\n"
     ]
    }
   ],
   "source": [
    "stack=[1,2,3]\n",
    "stack.append(7)\n",
    "stack.append(8)\n",
    "print(stack)"
   ]
  },
  {
   "cell_type": "code",
   "execution_count": 6,
   "metadata": {},
   "outputs": [
    {
     "data": {
      "text/plain": [
       "[[1, 4, 7], [2, 5, 8], [3, 6, 9]]"
      ]
     },
     "execution_count": 6,
     "metadata": {},
     "output_type": "execute_result"
    }
   ],
   "source": [
    "matrix=[\n",
    "    [1,2,3],\n",
    "    [4,5,6],\n",
    "    [7,8,9],\n",
    "]\n",
    "[[row[i] for row in matrix]for i in range(3)]"
   ]
  },
  {
   "cell_type": "code",
   "execution_count": 7,
   "metadata": {},
   "outputs": [
    {
     "name": "stdout",
     "output_type": "stream",
     "text": [
      "{'s', 'a', 'b', 'r', 't', 'l', 'c', 'd', 'e'}\n",
      "{'d', 'b', 'c'}\n",
      "{'s', 'a', 'b', 'r', 't', 'l', 'c', 'm', 'd', 'e'}\n"
     ]
    }
   ],
   "source": [
    "a=set('abstractabled')\n",
    "b=set('alarmset')\n",
    "print(a)\n",
    "print(a-b)\n",
    "print(a|b)"
   ]
  },
  {
   "cell_type": "code",
   "execution_count": 17,
   "metadata": {},
   "outputs": [
    {
     "name": "stdin",
     "output_type": "stream",
     "text": [
      "请输入一个年份： 2019\n"
     ]
    },
    {
     "name": "stdout",
     "output_type": "stream",
     "text": [
      "2019不是闰年\n"
     ]
    }
   ],
   "source": [
    "year = int(input(\"请输入一个年份：\"))\n",
    "if (year % 4) == 0 and (year % 100) != 0 or (year % 400) == 0:\n",
    "    print(\"{0}是闰年\".format(year))\n",
    "else:\n",
    "    print(\"{0}不是闰年\".format(year))"
   ]
  },
  {
   "cell_type": "code",
   "execution_count": 18,
   "metadata": {},
   "outputs": [
    {
     "name": "stdin",
     "output_type": "stream",
     "text": [
      "输入一个数字:  123\n"
     ]
    },
    {
     "name": "stdout",
     "output_type": "stream",
     "text": [
      "123 是奇数\n"
     ]
    }
   ],
   "source": [
    "num = int(input(\"输入一个数字: \"))\n",
    "if (num % 2) == 0:\n",
    "   print(\"{0} 是偶数\".format(num))\n",
    "else:\n",
    "   print(\"{0} 是奇数\".format(num))"
   ]
  },
  {
   "cell_type": "code",
   "execution_count": 20,
   "metadata": {},
   "outputs": [
    {
     "name": "stdin",
     "output_type": "stream",
     "text": [
      " true\n"
     ]
    },
    {
     "name": "stdout",
     "output_type": "stream",
     "text": [
      "False\n"
     ]
    }
   ],
   "source": [
    "def is_number(s):\n",
    "    try:\n",
    "        float(s)\n",
    "        return True\n",
    "    except ValueError:\n",
    "        pass\n",
    " \n",
    "    try:\n",
    "        import unicodedata\n",
    "        unicodedata.numeric(s)\n",
    "        return True\n",
    "    except (TypeError, ValueError):\n",
    "        pass\n",
    " \n",
    "    return False\n",
    "print(is_number(input()))"
   ]
  },
  {
   "cell_type": "code",
   "execution_count": 21,
   "metadata": {},
   "outputs": [
    {
     "name": "stdin",
     "output_type": "stream",
     "text": [
      "输入 x 值:  1\n",
      "输入 y 值:  2\n"
     ]
    },
    {
     "name": "stdout",
     "output_type": "stream",
     "text": [
      "交换后 x 的值为: 2\n",
      "交换后 y 的值为: 1\n"
     ]
    }
   ],
   "source": [
    "x = input('输入 x 值: ')\n",
    "y = input('输入 y 值: ')\n",
    "\n",
    "x,y = y,x\n",
    " \n",
    "print('交换后 x 的值为: {}'.format(x))\n",
    "print('交换后 y 的值为: {}'.format(y))"
   ]
  },
  {
   "cell_type": "code",
   "execution_count": 22,
   "metadata": {},
   "outputs": [
    {
     "name": "stdin",
     "output_type": "stream",
     "text": [
      "输入 X 值： 1\n",
      "输入 Y 值： 2\n"
     ]
    },
    {
     "name": "stdout",
     "output_type": "stream",
     "text": [
      "交换后的 X 值为： 3\n",
      "交换后的 Y 值为： 1\n"
     ]
    }
   ],
   "source": [
    "x = int(input('输入 X 值：'))\n",
    "y = int(input('输入 Y 值：'))\n",
    "x = x ^ y\n",
    "y = x ^ y\n",
    "print('交换后的 X 值为：',x)\n",
    "print('交换后的 Y 值为：',y)"
   ]
  },
  {
   "cell_type": "code",
   "execution_count": 23,
   "metadata": {},
   "outputs": [
    {
     "name": "stdout",
     "output_type": "stream",
     "text": [
      "<class 'list'>\n",
      "[5, 10, 15, 20, 25, 30]\n",
      "[10, 15]\n",
      "[5, 10, 15, 20, 25]\n",
      "[0, 5, 10, 15]\n",
      "[30, 25, 20, 15]\n",
      "[10, 15, 20, 25]\n",
      "[20, 15, 10, 5, 0]\n",
      "[30, 25, 20, 15, 10, 5, 0]\n"
     ]
    }
   ],
   "source": [
    "numbers=[0,5,10,15,20,25,30]\n",
    "print(type(numbers))\n",
    "\n",
    "print(numbers[1:])\n",
    "print(numbers[2:4])\n",
    "print(numbers[1:6:1])\n",
    "print(numbers[:4])\n",
    "print(numbers[-1:-5:-1])\n",
    "print(numbers[-5:-1])\n",
    "print(numbers[-3::-1])\n",
    "print(numbers[::-1])"
   ]
  },
  {
   "cell_type": "code",
   "execution_count": 24,
   "metadata": {},
   "outputs": [
    {
     "data": {
      "text/plain": [
       "['day',\n",
       " 'day',\n",
       " 'up',\n",
       " 'day',\n",
       " 'day',\n",
       " 'up',\n",
       " 'day',\n",
       " 'day',\n",
       " 'up',\n",
       " 'day',\n",
       " 'day',\n",
       " 'up',\n",
       " 'day',\n",
       " 'day',\n",
       " 'up']"
      ]
     },
     "execution_count": 24,
     "metadata": {},
     "output_type": "execute_result"
    }
   ],
   "source": [
    "['day','day','up']*5"
   ]
  },
  {
   "cell_type": "code",
   "execution_count": 25,
   "metadata": {},
   "outputs": [
    {
     "name": "stdout",
     "output_type": "stream",
     "text": [
      "0-1-1-2-3-5-8-13-21-34-55-"
     ]
    }
   ],
   "source": [
    "def fibonacci(n): \n",
    "    a, b, counter = 0, 1, 0\n",
    "    while True:\n",
    "        if (counter > n): \n",
    "            return\n",
    "        yield a\n",
    "        a, b = b, a + b\n",
    "        counter += 1\n",
    "f = fibonacci(10) \n",
    "\n",
    "for x in f:\n",
    "    print (x, end=\"-\")"
   ]
  },
  {
   "cell_type": "code",
   "execution_count": 26,
   "metadata": {},
   "outputs": [
    {
     "name": "stdout",
     "output_type": "stream",
     "text": [
      "True\n",
      "True\n",
      "True\n",
      "False\n",
      "True\n",
      "------------------------------\n",
      "True\n",
      "True\n",
      "True\n",
      "True\n",
      "True\n",
      "------------------------------\n",
      "False\n",
      "False\n",
      "False\n",
      "False\n",
      "False\n",
      "------------------------------\n",
      "False\n",
      "False\n",
      "False\n",
      "False\n",
      "False\n"
     ]
    }
   ],
   "source": [
    "s1=\"大片\"\n",
    "s2=\"giao\"\n",
    "s3=\"选题\"\n",
    "s4=\"选题666\"\n",
    "s5=\"马上元旦\"\n",
    "print(s1.isalpha())\n",
    "print(s2.isalpha())\n",
    "print(s3.isalpha())\n",
    "print(s4.isalpha())\n",
    "print(s5.isalpha())\n",
    "print('-'*30)\n",
    "print(s1.isalnum())\n",
    "print(s2.isalnum())\n",
    "print(s3.isalnum())\n",
    "print(s4.isalnum())\n",
    "print(s5.isalnum())\n",
    "print('-'*30)\n",
    "print(s1.isdigit())\n",
    "print(s2.isdigit())\n",
    "print(s3.isdigit())\n",
    "print(s4.isdigit())\n",
    "print(s5.isdigit())\n",
    "print('-'*30)\n",
    "print(s1.isnumeric())\n",
    "print(s2.isnumeric())\n",
    "print(s3.isnumeric())\n",
    "print(s4.isnumeric())\n",
    "print(s5.isnumeric())"
   ]
  },
  {
   "cell_type": "code",
   "execution_count": 27,
   "metadata": {},
   "outputs": [
    {
     "data": {
      "text/plain": [
       "12545"
      ]
     },
     "execution_count": 27,
     "metadata": {},
     "output_type": "execute_result"
    }
   ],
   "source": [
    "from datetime import date\n",
    "now = date.today()\n",
    "now\n",
    "now.strftime(\"%m-%d-%y. %d %b %Y is a %A on the %d day of %B.\")\n",
    "birthday = date(1986, 8, 13)\n",
    "age = now - birthday\n",
    "age.days"
   ]
  },
  {
   "cell_type": "code",
   "execution_count": 28,
   "metadata": {},
   "outputs": [
    {
     "name": "stdout",
     "output_type": "stream",
     "text": [
      "CHILD override()\n",
      "OTHER implicit()\n",
      "CHILD, BEFORE OTHER altered()\n",
      "OTHER altered()\n",
      "CHILD, AFTER OTHER altered()\n"
     ]
    }
   ],
   "source": [
    "class Other(object): \n",
    "    def override(self):\n",
    "        print(\"OTHER override()\") \n",
    "    def implicit(self):\n",
    "        print(\"OTHER implicit()\") \n",
    "    def altered(self):\n",
    "        print(\"OTHER altered()\") \n",
    "        \n",
    "class Child(object):\n",
    "    def __init__(self): \n",
    "        self.other = Other()\n",
    "    def implicit(self): \n",
    "        self.other.implicit()\n",
    "    def override(self): \n",
    "        print(\"CHILD override()\")\n",
    "    def altered(self):\n",
    "        print(\"CHILD, BEFORE OTHER altered()\") \n",
    "        self.other.altered()\n",
    "        print(\"CHILD, AFTER OTHER altered()\")\n",
    "\n",
    "son = Child()\n",
    "son.override()\n",
    "son.implicit()\n",
    "son.altered()"
   ]
  },
  {
   "cell_type": "code",
   "execution_count": 29,
   "metadata": {},
   "outputs": [
    {
     "name": "stdout",
     "output_type": "stream",
     "text": [
      "1x1=1\t\n",
      "1x2=2\t2x2=4\t\n",
      "1x3=3\t2x3=6\t3x3=9\t\n",
      "1x4=4\t2x4=8\t3x4=12\t4x4=16\t\n",
      "1x5=5\t2x5=10\t3x5=15\t4x5=20\t5x5=25\t\n",
      "1x6=6\t2x6=12\t3x6=18\t4x6=24\t5x6=30\t6x6=36\t\n",
      "1x7=7\t2x7=14\t3x7=21\t4x7=28\t5x7=35\t6x7=42\t7x7=49\t\n",
      "1x8=8\t2x8=16\t3x8=24\t4x8=32\t5x8=40\t6x8=48\t7x8=56\t8x8=64\t\n",
      "1x9=9\t2x9=18\t3x9=27\t4x9=36\t5x9=45\t6x9=54\t7x9=63\t8x9=72\t9x9=81\t\n"
     ]
    }
   ],
   "source": [
    "for i in range(1, 10):\n",
    "    for j in range(1, i+1):\n",
    "        print('{}x{}={}\\t'.format(j, i, i*j), end='')\n",
    "    print()"
   ]
  },
  {
   "cell_type": "code",
   "execution_count": 30,
   "metadata": {},
   "outputs": [
    {
     "name": "stdout",
     "output_type": "stream",
     "text": [
      "3 4 5 6 7 1 2 "
     ]
    }
   ],
   "source": [
    "def leftRotate(arr, d, n):\n",
    "    for i in range(gcd(d,n)):\n",
    "         \n",
    "        temp = arr[i]\n",
    "        j = i\n",
    "        while 1:\n",
    "            k = j + d\n",
    "            if k >= n:\n",
    "                k = k - n\n",
    "            if k == i:\n",
    "                break\n",
    "            arr[j] = arr[k]\n",
    "            j = k\n",
    "        arr[j] = temp\n",
    "\n",
    "def printArray(arr, size):\n",
    "    for i in range(size):\n",
    "        print (\"%d\" % arr[i], end=\" \")\n",
    "\n",
    "def gcd(a, b):\n",
    "    if b == 0:\n",
    "        return a;\n",
    "    else:\n",
    "        return gcd(b, a%b)\n",
    "\n",
    "arr = [1, 2, 3, 4, 5, 6, 7]\n",
    "leftRotate(arr, 2, 7)\n",
    "printArray(arr, 7)"
   ]
  },
  {
   "cell_type": "code",
   "execution_count": 2,
   "metadata": {},
   "outputs": [
    {
     "name": "stdout",
     "output_type": "stream",
     "text": [
      "We should take the cars.\n",
      "Maybe wo could take the trucks.\n",
      "Alright,let's just take the trucks.\n"
     ]
    }
   ],
   "source": [
    "people = 30\n",
    "cars = 40\n",
    "trucks = 15\n",
    "\n",
    "if cars > people:\n",
    "    print(\"We should take the cars.\")\n",
    "elif cars < people:\n",
    "    print(\"We should not take the cars.\")\n",
    "else:\n",
    "    print(\"We can't decide.\")\n",
    "\n",
    "if trucks > cars:\n",
    "    print(\"That's too many trucks.\")\n",
    "elif trucks < cars:\n",
    "    print(\"Maybe wo could take the trucks.\")\n",
    "else:print(\"We still can't decide.\")\n",
    "    \n",
    "if people > trucks:\n",
    "    print(\"Alright,let's just take the trucks.\")\n",
    "else:\n",
    "    print(\"Fine,let's stay home then.\")"
   ]
  },
  {
   "cell_type": "code",
   "execution_count": 3,
   "metadata": {},
   "outputs": [
    {
     "name": "stdout",
     "output_type": "stream",
     "text": [
      "1 到 100 之和为： 5050\n"
     ]
    }
   ],
   "source": [
    "n = 100\n",
    "\n",
    "sum = 0\n",
    "counter = 1\n",
    "while counter <= n:\n",
    "    sum = sum + counter\n",
    "    counter += 1\n",
    "    \n",
    "print(\"1 到 %d 之和为： %d\" %(n,sum))"
   ]
  },
  {
   "cell_type": "code",
   "execution_count": null,
   "metadata": {},
   "outputs": [],
   "source": []
  }
 ],
 "metadata": {
  "kernelspec": {
   "display_name": "Python 3",
   "language": "python",
   "name": "python3"
  },
  "language_info": {
   "codemirror_mode": {
    "name": "ipython",
    "version": 3
   },
   "file_extension": ".py",
   "mimetype": "text/x-python",
   "name": "python",
   "nbconvert_exporter": "python",
   "pygments_lexer": "ipython3",
   "version": "3.8.3"
  }
 },
 "nbformat": 4,
 "nbformat_minor": 4
}
