{
 "cells": [
  {
   "cell_type": "code",
   "execution_count": 2,
   "metadata": {},
   "outputs": [],
   "source": [
    "import pandas as pd\n",
    "import numpy as np\n",
    "\n",
    "fmri=pd.read_csv('fmri.csv')"
   ]
  },
  {
   "cell_type": "code",
   "execution_count": 3,
   "metadata": {},
   "outputs": [
    {
     "data": {
      "text/html": [
       "<div>\n",
       "<style scoped>\n",
       "    .dataframe tbody tr th:only-of-type {\n",
       "        vertical-align: middle;\n",
       "    }\n",
       "\n",
       "    .dataframe tbody tr th {\n",
       "        vertical-align: top;\n",
       "    }\n",
       "\n",
       "    .dataframe thead th {\n",
       "        text-align: right;\n",
       "    }\n",
       "</style>\n",
       "<table border=\"1\" class=\"dataframe\">\n",
       "  <thead>\n",
       "    <tr style=\"text-align: right;\">\n",
       "      <th></th>\n",
       "      <th>subject</th>\n",
       "      <th>timepoint</th>\n",
       "      <th>event</th>\n",
       "      <th>region</th>\n",
       "      <th>signal</th>\n",
       "    </tr>\n",
       "  </thead>\n",
       "  <tbody>\n",
       "    <tr>\n",
       "      <th>71</th>\n",
       "      <td>s13</td>\n",
       "      <td>13</td>\n",
       "      <td>stim</td>\n",
       "      <td>parietal</td>\n",
       "      <td>-0.068637</td>\n",
       "    </tr>\n",
       "    <tr>\n",
       "      <th>72</th>\n",
       "      <td>s12</td>\n",
       "      <td>13</td>\n",
       "      <td>stim</td>\n",
       "      <td>parietal</td>\n",
       "      <td>-0.056306</td>\n",
       "    </tr>\n",
       "    <tr>\n",
       "      <th>73</th>\n",
       "      <td>s11</td>\n",
       "      <td>13</td>\n",
       "      <td>stim</td>\n",
       "      <td>parietal</td>\n",
       "      <td>-0.157834</td>\n",
       "    </tr>\n",
       "  </tbody>\n",
       "</table>\n",
       "</div>"
      ],
      "text/plain": [
       "   subject  timepoint event    region    signal\n",
       "71     s13         13  stim  parietal -0.068637\n",
       "72     s12         13  stim  parietal -0.056306\n",
       "73     s11         13  stim  parietal -0.157834"
      ]
     },
     "execution_count": 3,
     "metadata": {},
     "output_type": "execute_result"
    }
   ],
   "source": [
    "data=fmri.query(\"timepoint==13\")\n",
    "data[0:3]"
   ]
  },
  {
   "cell_type": "code",
   "execution_count": 4,
   "metadata": {},
   "outputs": [
    {
     "data": {
      "text/html": [
       "<div>\n",
       "<style scoped>\n",
       "    .dataframe tbody tr th:only-of-type {\n",
       "        vertical-align: middle;\n",
       "    }\n",
       "\n",
       "    .dataframe tbody tr th {\n",
       "        vertical-align: top;\n",
       "    }\n",
       "\n",
       "    .dataframe thead th {\n",
       "        text-align: right;\n",
       "    }\n",
       "</style>\n",
       "<table border=\"1\" class=\"dataframe\">\n",
       "  <thead>\n",
       "    <tr style=\"text-align: right;\">\n",
       "      <th></th>\n",
       "      <th>a</th>\n",
       "      <th>b</th>\n",
       "      <th>c</th>\n",
       "    </tr>\n",
       "  </thead>\n",
       "  <tbody>\n",
       "    <tr>\n",
       "      <th>0</th>\n",
       "      <td>1</td>\n",
       "      <td>1</td>\n",
       "      <td>1</td>\n",
       "    </tr>\n",
       "    <tr>\n",
       "      <th>1</th>\n",
       "      <td>2</td>\n",
       "      <td>2</td>\n",
       "      <td>2</td>\n",
       "    </tr>\n",
       "    <tr>\n",
       "      <th>2</th>\n",
       "      <td>3</td>\n",
       "      <td>3</td>\n",
       "      <td>3</td>\n",
       "    </tr>\n",
       "    <tr>\n",
       "      <th>3</th>\n",
       "      <td>4</td>\n",
       "      <td>4</td>\n",
       "      <td>4</td>\n",
       "    </tr>\n",
       "    <tr>\n",
       "      <th>4</th>\n",
       "      <td>5</td>\n",
       "      <td>5</td>\n",
       "      <td>5</td>\n",
       "    </tr>\n",
       "    <tr>\n",
       "      <th>5</th>\n",
       "      <td>6</td>\n",
       "      <td>6</td>\n",
       "      <td>6</td>\n",
       "    </tr>\n",
       "  </tbody>\n",
       "</table>\n",
       "</div>"
      ],
      "text/plain": [
       "   a  b  c\n",
       "0  1  1  1\n",
       "1  2  2  2\n",
       "2  3  3  3\n",
       "3  4  4  4\n",
       "4  5  5  5\n",
       "5  6  6  6"
      ]
     },
     "execution_count": 4,
     "metadata": {},
     "output_type": "execute_result"
    }
   ],
   "source": [
    "s=[1,2,3,4,5,6]\n",
    "df=pd.DataFrame({'a':s,'b':s,'c':s})\n",
    "df"
   ]
  },
  {
   "cell_type": "markdown",
   "metadata": {},
   "source": [
    "query_list = [1, 2]\n",
    "df_2 = df.query('c not in @query_list')[['a', 'b']]\n",
    "df_2"
   ]
  },
  {
   "cell_type": "code",
   "execution_count": 5,
   "metadata": {},
   "outputs": [
    {
     "data": {
      "text/html": [
       "<div>\n",
       "<style scoped>\n",
       "    .dataframe tbody tr th:only-of-type {\n",
       "        vertical-align: middle;\n",
       "    }\n",
       "\n",
       "    .dataframe tbody tr th {\n",
       "        vertical-align: top;\n",
       "    }\n",
       "\n",
       "    .dataframe thead th {\n",
       "        text-align: right;\n",
       "    }\n",
       "</style>\n",
       "<table border=\"1\" class=\"dataframe\">\n",
       "  <thead>\n",
       "    <tr style=\"text-align: right;\">\n",
       "      <th></th>\n",
       "      <th>a</th>\n",
       "      <th>b</th>\n",
       "      <th>c</th>\n",
       "    </tr>\n",
       "  </thead>\n",
       "  <tbody>\n",
       "    <tr>\n",
       "      <th>0</th>\n",
       "      <td>1</td>\n",
       "      <td>1</td>\n",
       "      <td>1</td>\n",
       "    </tr>\n",
       "    <tr>\n",
       "      <th>1</th>\n",
       "      <td>2</td>\n",
       "      <td>2</td>\n",
       "      <td>2</td>\n",
       "    </tr>\n",
       "    <tr>\n",
       "      <th>2</th>\n",
       "      <td>3</td>\n",
       "      <td>3</td>\n",
       "      <td>3</td>\n",
       "    </tr>\n",
       "    <tr>\n",
       "      <th>3</th>\n",
       "      <td>4</td>\n",
       "      <td>4</td>\n",
       "      <td>4</td>\n",
       "    </tr>\n",
       "  </tbody>\n",
       "</table>\n",
       "</div>"
      ],
      "text/plain": [
       "   a  b  c\n",
       "0  1  1  1\n",
       "1  2  2  2\n",
       "2  3  3  3\n",
       "3  4  4  4"
      ]
     },
     "execution_count": 5,
     "metadata": {},
     "output_type": "execute_result"
    }
   ],
   "source": [
    "n=[5,6]\n",
    "df2=df.query('c not in @n')\n",
    "df2"
   ]
  },
  {
   "cell_type": "code",
   "execution_count": 6,
   "metadata": {},
   "outputs": [
    {
     "data": {
      "text/html": [
       "<div>\n",
       "<style scoped>\n",
       "    .dataframe tbody tr th:only-of-type {\n",
       "        vertical-align: middle;\n",
       "    }\n",
       "\n",
       "    .dataframe tbody tr th {\n",
       "        vertical-align: top;\n",
       "    }\n",
       "\n",
       "    .dataframe thead th {\n",
       "        text-align: right;\n",
       "    }\n",
       "</style>\n",
       "<table border=\"1\" class=\"dataframe\">\n",
       "  <thead>\n",
       "    <tr style=\"text-align: right;\">\n",
       "      <th></th>\n",
       "      <th>a</th>\n",
       "      <th>b</th>\n",
       "      <th>c</th>\n",
       "    </tr>\n",
       "  </thead>\n",
       "  <tbody>\n",
       "    <tr>\n",
       "      <th>3</th>\n",
       "      <td>4</td>\n",
       "      <td>4</td>\n",
       "      <td>4</td>\n",
       "    </tr>\n",
       "    <tr>\n",
       "      <th>4</th>\n",
       "      <td>5</td>\n",
       "      <td>5</td>\n",
       "      <td>5</td>\n",
       "    </tr>\n",
       "    <tr>\n",
       "      <th>5</th>\n",
       "      <td>6</td>\n",
       "      <td>6</td>\n",
       "      <td>6</td>\n",
       "    </tr>\n",
       "  </tbody>\n",
       "</table>\n",
       "</div>"
      ],
      "text/plain": [
       "   a  b  c\n",
       "3  4  4  4\n",
       "4  5  5  5\n",
       "5  6  6  6"
      ]
     },
     "execution_count": 6,
     "metadata": {},
     "output_type": "execute_result"
    }
   ],
   "source": [
    "df.query('a>3')"
   ]
  },
  {
   "cell_type": "code",
   "execution_count": 7,
   "metadata": {},
   "outputs": [
    {
     "data": {
      "text/plain": [
       "Int64Index([3, 4, 5], dtype='int64')"
      ]
     },
     "execution_count": 7,
     "metadata": {},
     "output_type": "execute_result"
    }
   ],
   "source": [
    "df.query('a>3').index"
   ]
  },
  {
   "cell_type": "code",
   "execution_count": 8,
   "metadata": {},
   "outputs": [],
   "source": [
    "import matplotlib.pyplot as plt"
   ]
  },
  {
   "cell_type": "code",
   "execution_count": 9,
   "metadata": {},
   "outputs": [
    {
     "data": {
      "text/plain": [
       "<matplotlib.legend.Legend at 0x20f4814db20>"
      ]
     },
     "execution_count": 9,
     "metadata": {},
     "output_type": "execute_result"
    },
    {
     "data": {
      "image/png": "[encoded data removed]",
      "text/plain": [
       "<Figure size 432x288 with 1 Axes>"
      ]
     },
     "metadata": {
      "needs_background": "light"
     },
     "output_type": "display_data"
    }
   ],
   "source": [
    "x=np.linspace(0,1,100)\n",
    "\n",
    "fig,ax=plt.subplots()\n",
    "ax.plot(x,x,label='linear')\n",
    "ax.plot(x,x**2,label='quadratic')\n",
    "ax.plot(x,x**3,label='cubic')\n",
    "ax.plot(x,x**4,label='si')\n",
    "ax.set_xlabel('x label')\n",
    "ax.set_ylabel('y label')\n",
    "ax.set_title('yi ge tu ')\n",
    "ax.legend()"
   ]
  },
  {
   "cell_type": "code",
   "execution_count": 10,
   "metadata": {},
   "outputs": [
    {
     "data": {
      "text/plain": [
       "<matplotlib.legend.Legend at 0x20f4823f8e0>"
      ]
     },
     "execution_count": 10,
     "metadata": {},
     "output_type": "execute_result"
    },
    {
     "data": {
      "image/png": "[encoded data removed]",
      "text/plain": [
       "<Figure size 432x288 with 1 Axes>"
      ]
     },
     "metadata": {
      "needs_background": "light"
     },
     "output_type": "display_data"
    }
   ],
   "source": [
    "x = np.linspace(0, 1, 100)\n",
    "\n",
    "plt.plot(x, x, label='linear')  # Plot some data on the (implicit) axes.\n",
    "plt.plot(x, x**2, label='quadratic')  # etc.\n",
    "plt.plot(x, x**3, label='cubic')\n",
    "plt.xlabel('x label')\n",
    "plt.ylabel('y label')\n",
    "plt.title(\"Simple Plot\")\n",
    "plt.legend()"
   ]
  },
  {
   "cell_type": "code",
   "execution_count": 11,
   "metadata": {},
   "outputs": [
    {
     "data": {
      "text/plain": [
       "(0.0, 6.0, 0.0, 20.0)"
      ]
     },
     "execution_count": 11,
     "metadata": {},
     "output_type": "execute_result"
    },
    {
     "data": {
      "image/png": "[encoded data removed]",
      "text/plain": [
       "<Figure size 432x288 with 1 Axes>"
      ]
     },
     "metadata": {
      "needs_background": "light"
     },
     "output_type": "display_data"
    }
   ],
   "source": [
    "plt.plot([1, 2, 3, 4], [1, 4, 9, 16], 'ro')\n",
    "plt.axis([0, 6, 0, 20])\n"
   ]
  },
  {
   "cell_type": "code",
   "execution_count": 12,
   "metadata": {},
   "outputs": [
    {
     "data": {
      "text/plain": [
       "<matplotlib.collections.PathCollection at 0x20f4831a5b0>"
      ]
     },
     "execution_count": 12,
     "metadata": {},
     "output_type": "execute_result"
    },
    {
     "data": {
      "image/png": "[encoded data removed]",
      "text/plain": [
       "<Figure size 432x288 with 1 Axes>"
      ]
     },
     "metadata": {
      "needs_background": "light"
     },
     "output_type": "display_data"
    }
   ],
   "source": [
    "data = {'a': np.arange(40),\n",
    "        'c': np.random.randint(0, 40, 40),\n",
    "        'd': np.random.randn(40)}\n",
    "data['b'] = data['a'] + 10 * np.random.randn(40)\n",
    "data['d'] = np.abs(data['d']) * 100\n",
    "plt.scatter('a', 'b', c='c', s='d', data=data)"
   ]
  },
  {
   "cell_type": "code",
   "execution_count": 13,
   "metadata": {},
   "outputs": [
    {
     "name": "stderr",
     "output_type": "stream",
     "text": [
      "D:\\anaconda\\lib\\site-packages\\matplotlib\\collections.py:922: RuntimeWarning: invalid value encountered in sqrt\n",
      "  scale = np.sqrt(self._sizes) * dpi / 72.0 * self._factor\n"
     ]
    },
    {
     "data": {
      "text/plain": [
       "<matplotlib.collections.PathCollection at 0x20f4838c370>"
      ]
     },
     "execution_count": 13,
     "metadata": {},
     "output_type": "execute_result"
    },
    {
     "data": {
      "image/png": "[encoded data removed]",
      "text/plain": [
       "<Figure size 432x288 with 1 Axes>"
      ]
     },
     "metadata": {
      "needs_background": "light"
     },
     "output_type": "display_data"
    }
   ],
   "source": [
    "color=np.random.rand(40)\n",
    "plt.scatter('a', 'b', c=color, s='b', data=data)"
   ]
  },
  {
   "cell_type": "code",
   "execution_count": 14,
   "metadata": {},
   "outputs": [
    {
     "data": {
      "text/plain": [
       "False"
      ]
     },
     "execution_count": 14,
     "metadata": {},
     "output_type": "execute_result"
    }
   ],
   "source": [
    "a=5\n",
    "b='5'\n",
    "a==b"
   ]
  },
  {
   "cell_type": "markdown",
   "metadata": {},
   "source": [
    "##爬虫实例"
   ]
  },
  {
   "cell_type": "code",
   "execution_count": 15,
   "metadata": {},
   "outputs": [
    {
     "name": "stdout",
     "output_type": "stream",
     "text": [
      "<Response [200]>\n"
     ]
    }
   ],
   "source": [
    "import requests \n",
    "res=requests.get(\"https://baike.baidu.com/item/Python/407313\")\n",
    "print(res)"
   ]
  },
  {
   "cell_type": "code",
   "execution_count": 16,
   "metadata": {},
   "outputs": [],
   "source": [
    "res.encoding='utf-8'\n"
   ]
  },
  {
   "cell_type": "code",
   "execution_count": 17,
   "metadata": {},
   "outputs": [],
   "source": [
    "headers={'Host': 'reports.baidu.com',\n",
    "'Connection': 'keep-alive',\n",
    "'Content-Length': '523',\n",
    "'User-Agent': 'Mozilla/5.0 (Windows NT 10.0; Win64; x64) AppleWebKit/537.36 (KHTML, like Gecko) Chrome/87.0.4280.88 Safari/537.36 Edg/87.0.664.66',\n",
    "'Content-Type': 'application/csp-report',\n",
    "'Accept': '*/*',\n",
    "'Origin': 'https://baike.baidu.com',\n",
    "'Sec-Fetch-Site': 'same-site',\n",
    "'Sec-Fetch-Mode': 'no-cors',\n",
    "'Sec-Fetch-Dest': 'report',\n",
    "'Referer': 'https://baike.baidu.com/item/Python/407313',\n",
    "'Accept-Encoding': 'gzip, deflate, br',\n",
    "'Accept-Language': 'zh-CN,zh;q=0.9,en;q=0.8,en-GB;q=0.7,en-US;q=0.6'}"
   ]
  },
  {
   "cell_type": "code",
   "execution_count": 18,
   "metadata": {},
   "outputs": [
    {
     "name": "stdout",
     "output_type": "stream",
     "text": [
      "<Response [200]>\n"
     ]
    }
   ],
   "source": [
    "res=requests.get('https://baike.baidu.com/item/Python/407313',headers=headers)\n",
    "res.encoding='utf-8'\n",
    "print(res)"
   ]
  },
  {
   "cell_type": "code",
   "execution_count": 19,
   "metadata": {},
   "outputs": [
    {
     "name": "stdout",
     "output_type": "stream",
     "text": [
      "{'Accept-Ranges': 'bytes', 'Connection': 'keep-alive', 'Content-Length': '1', 'Content-Type': 'text/html', 'Date': 'Fri, 08 Jan 2021 05:41:55 GMT', 'Etag': '\"58b576df-1\"', 'Last-Modified': 'Tue, 28 Feb 2017 13:10:55 GMT', 'Server': 'bfe/5'}\n"
     ]
    }
   ],
   "source": [
    "print (res.headers)"
   ]
  },
  {
   "cell_type": "code",
   "execution_count": 20,
   "metadata": {},
   "outputs": [
    {
     "name": "stdout",
     "output_type": "stream",
     "text": [
      "\n",
      "\n"
     ]
    }
   ],
   "source": [
    "res.encoding='utf-8'\n",
    "print(res.text)"
   ]
  },
  {
   "cell_type": "code",
   "execution_count": 21,
   "metadata": {},
   "outputs": [],
   "source": [
    "from bs4 import BeautifulSoup\n",
    "soup=BeautifulSoup(res.text,'html.parser')"
   ]
  },
  {
   "cell_type": "code",
   "execution_count": 22,
   "metadata": {},
   "outputs": [],
   "source": [
    "import re\n"
   ]
  },
  {
   "cell_type": "code",
   "execution_count": 23,
   "metadata": {},
   "outputs": [],
   "source": [
    "links=soup.find_all('a',href=re.compile(r'/item/\\w+'))"
   ]
  },
  {
   "cell_type": "code",
   "execution_count": 24,
   "metadata": {},
   "outputs": [
    {
     "data": {
      "text/plain": [
       "[]"
      ]
     },
     "execution_count": 24,
     "metadata": {},
     "output_type": "execute_result"
    }
   ],
   "source": [
    "links[:10]"
   ]
  },
  {
   "cell_type": "code",
   "execution_count": 25,
   "metadata": {},
   "outputs": [],
   "source": [
    "stock_code='AAPL'#苹果公司的股票代码"
   ]
  },
  {
   "cell_type": "code",
   "execution_count": 26,
   "metadata": {},
   "outputs": [
    {
     "name": "stdout",
     "output_type": "stream",
     "text": [
      "<Response [200]>\n"
     ]
    }
   ],
   "source": [
    "url='https://finance.yahoo.com/quote/%s/history?p=%s' % (stock_code,stock_code)\n",
    "r=requests.get(url)\n",
    "\n",
    "print(r)"
   ]
  },
  {
   "cell_type": "code",
   "execution_count": 27,
   "metadata": {},
   "outputs": [],
   "source": [
    "result=re.findall('\"HistoricalPriceStore\":{\"prices\":(.*?),\"isPending\"',r.text)"
   ]
  },
  {
   "cell_type": "code",
   "execution_count": 28,
   "metadata": {},
   "outputs": [
    {
     "data": {
      "text/plain": [
       "[{'date': 1610029800,\n",
       "  'open': 128.36000061035156,\n",
       "  'high': 131.6300048828125,\n",
       "  'low': 127.86000061035156,\n",
       "  'close': 130.9199981689453,\n",
       "  'volume': 109004900,\n",
       "  'adjclose': 130.9199981689453},\n",
       " {'date': 1609943400,\n",
       "  'open': 127.72000122070312,\n",
       "  'high': 131.0500030517578,\n",
       "  'low': 126.37999725341797,\n",
       "  'close': 126.5999984741211,\n",
       "  'volume': 155088000,\n",
       "  'adjclose': 126.5999984741211},\n",
       " {'date': 1609857000,\n",
       "  'open': 128.88999938964844,\n",
       "  'high': 131.74000549316406,\n",
       "  'low': 128.42999267578125,\n",
       "  'close': 131.00999450683594,\n",
       "  'volume': 97664900,\n",
       "  'adjclose': 131.00999450683594},\n",
       " {'date': 1609770600,\n",
       "  'open': 133.52000427246094,\n",
       "  'high': 133.61000061035156,\n",
       "  'low': 126.76000213623047,\n",
       "  'close': 129.41000366210938,\n",
       "  'volume': 143301900,\n",
       "  'adjclose': 129.41000366210938}]"
      ]
     },
     "execution_count": 28,
     "metadata": {},
     "output_type": "execute_result"
    }
   ],
   "source": [
    "prices=eval(result[0])#返回结果\n",
    "prices[0:4]"
   ]
  },
  {
   "cell_type": "code",
   "execution_count": 29,
   "metadata": {},
   "outputs": [
    {
     "data": {
      "text/plain": [
       "{'date': 1610029800,\n",
       " 'open': 128.36000061035156,\n",
       " 'high': 131.6300048828125,\n",
       " 'low': 127.86000061035156,\n",
       " 'close': 130.9199981689453,\n",
       " 'volume': 109004900,\n",
       " 'adjclose': 130.9199981689453}"
      ]
     },
     "execution_count": 29,
     "metadata": {},
     "output_type": "execute_result"
    }
   ],
   "source": [
    "prices[0]"
   ]
  },
  {
   "cell_type": "code",
   "execution_count": 30,
   "metadata": {},
   "outputs": [],
   "source": [
    "quotes=[item for item in prices if not 'type' in item]\n"
   ]
  },
  {
   "cell_type": "code",
   "execution_count": 31,
   "metadata": {},
   "outputs": [
    {
     "data": {
      "text/plain": [
       "['2021-01-07', '2021-01-06', '2021-01-05', '2021-01-04', '2020-12-31']"
      ]
     },
     "execution_count": 31,
     "metadata": {},
     "output_type": "execute_result"
    }
   ],
   "source": [
    "from datetime import date\n",
    "list1=[]\n",
    "list2=[]\n",
    "for i in range(len(quotes)):\n",
    "    x=date.fromtimestamp(quotes[i]['date'])\n",
    "    y=date.strftime(x,'%Y-%m-%d')\n",
    "    list1.append(y)\n",
    "    list2.append(x)\n",
    "list1[0:5]"
   ]
  },
  {
   "cell_type": "code",
   "execution_count": 32,
   "metadata": {},
   "outputs": [
    {
     "data": {
      "text/plain": [
       "[datetime.date(2021, 1, 7),\n",
       " datetime.date(2021, 1, 6),\n",
       " datetime.date(2021, 1, 5),\n",
       " datetime.date(2021, 1, 4),\n",
       " datetime.date(2020, 12, 31)]"
      ]
     },
     "execution_count": 32,
     "metadata": {},
     "output_type": "execute_result"
    }
   ],
   "source": [
    "list2[0:5]"
   ]
  },
  {
   "cell_type": "code",
   "execution_count": 33,
   "metadata": {},
   "outputs": [
    {
     "data": {
      "text/html": [
       "<div>\n",
       "<style scoped>\n",
       "    .dataframe tbody tr th:only-of-type {\n",
       "        vertical-align: middle;\n",
       "    }\n",
       "\n",
       "    .dataframe tbody tr th {\n",
       "        vertical-align: top;\n",
       "    }\n",
       "\n",
       "    .dataframe thead th {\n",
       "        text-align: right;\n",
       "    }\n",
       "</style>\n",
       "<table border=\"1\" class=\"dataframe\">\n",
       "  <thead>\n",
       "    <tr style=\"text-align: right;\">\n",
       "      <th></th>\n",
       "      <th>open</th>\n",
       "      <th>high</th>\n",
       "      <th>low</th>\n",
       "      <th>close</th>\n",
       "      <th>volume</th>\n",
       "      <th>adjclose</th>\n",
       "    </tr>\n",
       "  </thead>\n",
       "  <tbody>\n",
       "    <tr>\n",
       "      <th>2021-01-07</th>\n",
       "      <td>128.360001</td>\n",
       "      <td>131.630005</td>\n",
       "      <td>127.860001</td>\n",
       "      <td>130.919998</td>\n",
       "      <td>109004900</td>\n",
       "      <td>130.919998</td>\n",
       "    </tr>\n",
       "    <tr>\n",
       "      <th>2021-01-06</th>\n",
       "      <td>127.720001</td>\n",
       "      <td>131.050003</td>\n",
       "      <td>126.379997</td>\n",
       "      <td>126.599998</td>\n",
       "      <td>155088000</td>\n",
       "      <td>126.599998</td>\n",
       "    </tr>\n",
       "    <tr>\n",
       "      <th>2021-01-05</th>\n",
       "      <td>128.889999</td>\n",
       "      <td>131.740005</td>\n",
       "      <td>128.429993</td>\n",
       "      <td>131.009995</td>\n",
       "      <td>97664900</td>\n",
       "      <td>131.009995</td>\n",
       "    </tr>\n",
       "    <tr>\n",
       "      <th>2021-01-04</th>\n",
       "      <td>133.520004</td>\n",
       "      <td>133.610001</td>\n",
       "      <td>126.760002</td>\n",
       "      <td>129.410004</td>\n",
       "      <td>143301900</td>\n",
       "      <td>129.410004</td>\n",
       "    </tr>\n",
       "    <tr>\n",
       "      <th>2020-12-31</th>\n",
       "      <td>134.080002</td>\n",
       "      <td>134.740005</td>\n",
       "      <td>131.720001</td>\n",
       "      <td>132.690002</td>\n",
       "      <td>98990400</td>\n",
       "      <td>132.690002</td>\n",
       "    </tr>\n",
       "    <tr>\n",
       "      <th>...</th>\n",
       "      <td>...</td>\n",
       "      <td>...</td>\n",
       "      <td>...</td>\n",
       "      <td>...</td>\n",
       "      <td>...</td>\n",
       "      <td>...</td>\n",
       "    </tr>\n",
       "    <tr>\n",
       "      <th>2020-01-14</th>\n",
       "      <td>79.175003</td>\n",
       "      <td>79.392502</td>\n",
       "      <td>78.042503</td>\n",
       "      <td>78.169998</td>\n",
       "      <td>161954400</td>\n",
       "      <td>77.500702</td>\n",
       "    </tr>\n",
       "    <tr>\n",
       "      <th>2020-01-13</th>\n",
       "      <td>77.910004</td>\n",
       "      <td>79.267502</td>\n",
       "      <td>77.787498</td>\n",
       "      <td>79.239998</td>\n",
       "      <td>121532000</td>\n",
       "      <td>78.561531</td>\n",
       "    </tr>\n",
       "    <tr>\n",
       "      <th>2020-01-10</th>\n",
       "      <td>77.650002</td>\n",
       "      <td>78.167503</td>\n",
       "      <td>77.062500</td>\n",
       "      <td>77.582497</td>\n",
       "      <td>140644800</td>\n",
       "      <td>76.918221</td>\n",
       "    </tr>\n",
       "    <tr>\n",
       "      <th>2020-01-09</th>\n",
       "      <td>76.809998</td>\n",
       "      <td>77.607498</td>\n",
       "      <td>76.550003</td>\n",
       "      <td>77.407501</td>\n",
       "      <td>170108400</td>\n",
       "      <td>76.744728</td>\n",
       "    </tr>\n",
       "    <tr>\n",
       "      <th>2020-01-08</th>\n",
       "      <td>74.290001</td>\n",
       "      <td>76.110001</td>\n",
       "      <td>74.290001</td>\n",
       "      <td>75.797501</td>\n",
       "      <td>132079200</td>\n",
       "      <td>75.148521</td>\n",
       "    </tr>\n",
       "  </tbody>\n",
       "</table>\n",
       "<p>253 rows × 6 columns</p>\n",
       "</div>"
      ],
      "text/plain": [
       "                  open        high         low       close     volume  \\\n",
       "2021-01-07  128.360001  131.630005  127.860001  130.919998  109004900   \n",
       "2021-01-06  127.720001  131.050003  126.379997  126.599998  155088000   \n",
       "2021-01-05  128.889999  131.740005  128.429993  131.009995   97664900   \n",
       "2021-01-04  133.520004  133.610001  126.760002  129.410004  143301900   \n",
       "2020-12-31  134.080002  134.740005  131.720001  132.690002   98990400   \n",
       "...                ...         ...         ...         ...        ...   \n",
       "2020-01-14   79.175003   79.392502   78.042503   78.169998  161954400   \n",
       "2020-01-13   77.910004   79.267502   77.787498   79.239998  121532000   \n",
       "2020-01-10   77.650002   78.167503   77.062500   77.582497  140644800   \n",
       "2020-01-09   76.809998   77.607498   76.550003   77.407501  170108400   \n",
       "2020-01-08   74.290001   76.110001   74.290001   75.797501  132079200   \n",
       "\n",
       "              adjclose  \n",
       "2021-01-07  130.919998  \n",
       "2021-01-06  126.599998  \n",
       "2021-01-05  131.009995  \n",
       "2021-01-04  129.410004  \n",
       "2020-12-31  132.690002  \n",
       "...                ...  \n",
       "2020-01-14   77.500702  \n",
       "2020-01-13   78.561531  \n",
       "2020-01-10   76.918221  \n",
       "2020-01-09   76.744728  \n",
       "2020-01-08   75.148521  \n",
       "\n",
       "[253 rows x 6 columns]"
      ]
     },
     "execution_count": 33,
     "metadata": {},
     "output_type": "execute_result"
    }
   ],
   "source": [
    "import pandas as pd\n",
    "\n",
    "gupiao=pd.DataFrame(quotes,index=list1)\n",
    "gupiao=gupiao.drop(['date'],axis=1)\n",
    "gupiao"
   ]
  },
  {
   "cell_type": "code",
   "execution_count": 34,
   "metadata": {},
   "outputs": [
    {
     "name": "stdout",
     "output_type": "stream",
     "text": [
      "time.struct_time(tm_year=2020, tm_mon=1, tm_mday=8, tm_hour=0, tm_min=0, tm_sec=0, tm_wday=2, tm_yday=8, tm_isdst=-1)\n",
      "['21/01', '21/01', '21/01', '21/01', '20/12', '20/12', '20/12', '20/12', '20/12', '20/12', '20/12', '20/12', '20/12', '20/12', '20/12', '20/12', '20/12', '20/12', '20/12', '20/12', '20/12', '20/12', '20/12', '20/12', '20/12', '20/12', '20/11', '20/11', '20/11', '20/11', '20/11', '20/11', '20/11', '20/11', '20/11', '20/11', '20/11', '20/11', '20/11', '20/11', '20/11', '20/11', '20/11', '20/11', '20/11', '20/11', '20/10', '20/10', '20/10', '20/10', '20/10', '20/10', '20/10', '20/10', '20/10', '20/10', '20/10', '20/10', '20/10', '20/10', '20/10', '20/10', '20/10', '20/10', '20/10', '20/10', '20/10', '20/10', '20/09', '20/09', '20/09', '20/09', '20/09', '20/09', '20/09', '20/09', '20/09', '20/09', '20/09', '20/09', '20/09', '20/09', '20/09', '20/09', '20/09', '20/09', '20/09', '20/09', '20/09', '20/08', '20/08', '20/08', '20/08', '20/08', '20/08', '20/08', '20/08', '20/08', '20/08', '20/08', '20/08', '20/08', '20/08', '20/08', '20/08', '20/08', '20/08', '20/08', '20/08', '20/08', '20/07', '20/07', '20/07', '20/07', '20/07', '20/07', '20/07', '20/07', '20/07', '20/07', '20/07', '20/07', '20/07', '20/07', '20/07', '20/07', '20/07', '20/07', '20/07', '20/07', '20/07', '20/07', '20/06', '20/06', '20/06', '20/06', '20/06', '20/06', '20/06', '20/06', '20/06', '20/06', '20/06', '20/06', '20/06', '20/06', '20/06', '20/06', '20/06', '20/06', '20/06', '20/06', '20/06', '20/06', '20/05', '20/05', '20/05', '20/05', '20/05', '20/05', '20/05', '20/05', '20/05', '20/05', '20/05', '20/05', '20/05', '20/05', '20/05', '20/05', '20/05', '20/05', '20/05', '20/05', '20/04', '20/04', '20/04', '20/04', '20/04', '20/04', '20/04', '20/04', '20/04', '20/04', '20/04', '20/04', '20/04', '20/04', '20/04', '20/04', '20/04', '20/04', '20/04', '20/04', '20/04', '20/03', '20/03', '20/03', '20/03', '20/03', '20/03', '20/03', '20/03', '20/03', '20/03', '20/03', '20/03', '20/03', '20/03', '20/03', '20/03', '20/03', '20/03', '20/03', '20/03', '20/03', '20/03', '20/02', '20/02', '20/02', '20/02', '20/02', '20/02', '20/02', '20/02', '20/02', '20/02', '20/02', '20/02', '20/02', '20/02', '20/02', '20/02', '20/02', '20/02', '20/02', '20/01', '20/01', '20/01', '20/01', '20/01', '20/01', '20/01', '20/01', '20/01', '20/01', '20/01', '20/01', '20/01', '20/01', '20/01', '20/01', '20/01']\n",
      "                  open        high         low       close     volume  \\\n",
      "2021-01-07  128.360001  131.630005  127.860001  130.919998  109004900   \n",
      "2021-01-06  127.720001  131.050003  126.379997  126.599998  155088000   \n",
      "2021-01-05  128.889999  131.740005  128.429993  131.009995   97664900   \n",
      "2021-01-04  133.520004  133.610001  126.760002  129.410004  143301900   \n",
      "2020-12-31  134.080002  134.740005  131.720001  132.690002   98990400   \n",
      "...                ...         ...         ...         ...        ...   \n",
      "2020-01-14   79.175003   79.392502   78.042503   78.169998  161954400   \n",
      "2020-01-13   77.910004   79.267502   77.787498   79.239998  121532000   \n",
      "2020-01-10   77.650002   78.167503   77.062500   77.582497  140644800   \n",
      "2020-01-09   76.809998   77.607498   76.550003   77.407501  170108400   \n",
      "2020-01-08   74.290001   76.110001   74.290001   75.797501  132079200   \n",
      "\n",
      "              adjclose  month  \n",
      "2021-01-07  130.919998  21/01  \n",
      "2021-01-06  126.599998  21/01  \n",
      "2021-01-05  131.009995  21/01  \n",
      "2021-01-04  129.410004  21/01  \n",
      "2020-12-31  132.690002  20/12  \n",
      "...                ...    ...  \n",
      "2020-01-14   77.500702  20/01  \n",
      "2020-01-13   78.561531  20/01  \n",
      "2020-01-10   76.918221  20/01  \n",
      "2020-01-09   76.744728  20/01  \n",
      "2020-01-08   75.148521  20/01  \n",
      "\n",
      "[253 rows x 7 columns]\n"
     ]
    }
   ],
   "source": [
    "import time#加载包\n",
    "price=[]\n",
    "for i in range(len(gupiao)):\n",
    "    pr=time.strptime(gupiao.index[i],\"%Y-%m-%d\")\n",
    "    price.append(\"{}/{:02}\".format(pr.tm_year%100,pr.tm_mon))\n",
    "    \n",
    "prpdf=gupiao.copy()\n",
    "prpdf['month']=price\n",
    "print(pr)\n",
    "print(price)\n",
    "print(prpdf)"
   ]
  },
  {
   "cell_type": "markdown",
   "metadata": {},
   "source": [
    "#已经有90行"
   ]
  },
  {
   "cell_type": "code",
   "execution_count": 35,
   "metadata": {},
   "outputs": [],
   "source": [
    "import urllib\n",
    "import urllib.request\n",
    "\n",
    "bili=urllib.request.urlopen(\"https://space.bilibili.com/19642758?from=search&seid=3581341055460492928\")\n",
    "bili=bili.read()\n",
    "\n"
   ]
  },
  {
   "cell_type": "code",
   "execution_count": 36,
   "metadata": {},
   "outputs": [],
   "source": [
    "response = urllib.request.urlopen(\"http://www.baidu.com\")\n",
    " \n",
    "# 类文件对象支持 文件对象的操作方法，如read()方法读取文件全部内容，返回字符串\n",
    "html = response.read()\n"
   ]
  },
  {
   "cell_type": "code",
   "execution_count": 37,
   "metadata": {},
   "outputs": [
    {
     "name": "stdout",
     "output_type": "stream",
     "text": [
      "<Response [200]>\n"
     ]
    }
   ],
   "source": [
    "import requests\n",
    "res=requests.get(\"https://space.bilibili.com/19642758?from=search&seid=3581341055460492928\")\n",
    "print(res)#成功"
   ]
  },
  {
   "cell_type": "code",
   "execution_count": 38,
   "metadata": {},
   "outputs": [
    {
     "name": "stdout",
     "output_type": "stream",
     "text": [
      "<!DOCTYPE html><html><head><meta name=\"spm_prefix\" content=\"333.999\"><meta charset=\"UTF-8\"><meta http-equiv=\"X-UA-Compatible\" content=\"IE=edge,chrome=1\"><meta name=\"renderer\" content=\"webkit|ie-comp|ie-stand\"><script type=\"text/javascript\">window.__BILI_CONFIG__={\"show_bv\":true}</script><script type=\"text/javascript\">var ua=window.navigator.userAgent,agents=[\"Android\",\"iPhone\",\"SymbianOS\",\"Windows Phone\",\"iPod\"],pathname=/\\d+/.exec(window.location.pathname),getCookie=function(e){return decodeURIComponent(document.cookie.replace(new RegExp(\"(?:(?:^|.*;)\\\\s*\"+encodeURIComponent(e).replace(/[\\-\\.\\+\\*]/g,\"\\\\$&\")+\"\\\\s*\\\\=\\\\s*([^;]*).*$)|^.*$\"),\"$1\"))||null},DedeUserID=getCookie(\"DedeUserID\"),mid=pathname?+pathname[0]:null===DedeUserID?0:+DedeUserID;if(mid<1)window.location.href=\"https://passport.bilibili.com/login?gourl=https://space.bilibili.com\";else{window._bili_space_mid=mid,window._bili_space_mymid=null===DedeUserID?0:+DedeUserID;for(var prefix=/^\\/v/.test(pathname)?\"/v\":\"\",i=0;i<agents.length;i++)if(-1<ua.indexOf(agents[i])&&!/\\sVR\\s/g.test(ua)){window.location.href=\"https://m.bilibili.com/space/\"+mid;break}}</script><script type=\"text/javascript\">function getIEVersion(){var e=99;if(\"Microsoft Internet Explorer\"==navigator.appName){var t=navigator.userAgent;null!=new RegExp(\"MSIE ([0-9]{1,}[.0-9]{0,})\").exec(t)&&(e=parseFloat(RegExp.$1))}return e}getIEVersion()<11&&(window.location.href=\"https://www.bilibili.com/blackboard/activity-I7btnS22Z.html\")</script><link rel=\"prefetch\" as=\"script\" href=\"//s1.hdslb.com/bfs/static/player/main/video.js?v=20201231\"><script type=\"text/javascript\" src=\"//s1.hdslb.com/bfs/static/jinkela/long/js/sentry/sentry-5.2.1.min.js\"></script><script type=\"text/javascript\" src=\"//s1.hdslb.com/bfs/static/jinkela/long/js/sentry/sentry.vue.js\"></script><link href=\"//s1.hdslb.com/bfs/static/jinkela/space/css/space.3.2978c103d214636d2630c69418fbb83f92d7d2fd.css\" rel=\"stylesheet\"><link href=\"//s1.hdslb.com/bfs/static/jinkela/space/css/space.2.2978c103d214636d2630c69418fbb83f92d7d2fd.css\" rel=\"stylesheet\"><title>力元君的个人空间 - 哔哩哔哩 ( ゜- ゜)つロ 乾杯~ Bilibili</title><meta name=\"keywords\" content=\"力元君,B站,弹幕,字幕,AMV,MAD,MTV,ANIME,动漫,动漫音乐,游戏,游戏解说,ACG,galgame,动画,番组,新番,初音,洛天依,vocaloid\"/><meta name=\"description\" content=\"力元君，关注我满足你奇怪的幻想  /  微博: 力元君，bilibili是国内知名的视频弹幕网站，这里有最及时的动漫新番，最棒的ACG氛围，最有创意的Up主。大家可以在这里找到许多欢乐。\"/></head><body><div id=\"biliMainHeader\" style=\"height:56px\"></div><div id=\"space-app\"></div><script type=\"text/javascript\">window.spaceReport={},window.reportConfig={sample:1,scrollTracker:!0,msgObjects:\"spaceReport\"};var reportScript=document.createElement(\"script\");reportScript.src=\"//s1.hdslb.com/bfs/seed/log/report/log-reporter.js\",document.getElementsByTagName(\"body\")[0].appendChild(reportScript),reportScript.onerror=function(){console.warn(\"log-reporter.js加载失败，放弃上报\");var r=function(){};window.reportObserver={sendPV:r,forceCommit:r}}</script><script src=\"//s1.hdslb.com/bfs/static/jinkela/long/js/jquery/jquery1.7.2.min.js\"></script><script type=\"text/javascript\" src=\"//s1.hdslb.com/bfs/seed/jinkela/header-v2/header.js\" defer=\"defer\"></script><script type=\"text/javascript\" src=\"//s1.hdslb.com/bfs/static/jinkela/space/3.space.2978c103d214636d2630c69418fbb83f92d7d2fd.js\"></script><script type=\"text/javascript\" src=\"//s1.hdslb.com/bfs/static/jinkela/space/space.2978c103d214636d2630c69418fbb83f92d7d2fd.js\"></script></body></html>\n"
     ]
    }
   ],
   "source": [
    "res.encoding='utf-8'\n",
    "print(res.text)"
   ]
  },
  {
   "cell_type": "code",
   "execution_count": 39,
   "metadata": {},
   "outputs": [
    {
     "data": {
      "text/plain": [
       "['ASCII_SPACES',\n",
       " 'DEFAULT_BUILDER_FEATURES',\n",
       " 'NO_PARSER_SPECIFIED_WARNING',\n",
       " 'ROOT_TAG_NAME',\n",
       " '__bool__',\n",
       " '__call__',\n",
       " '__class__',\n",
       " '__contains__',\n",
       " '__copy__',\n",
       " '__delattr__',\n",
       " '__delitem__',\n",
       " '__dict__',\n",
       " '__dir__',\n",
       " '__doc__',\n",
       " '__eq__',\n",
       " '__format__',\n",
       " '__ge__',\n",
       " '__getattr__',\n",
       " '__getattribute__',\n",
       " '__getitem__',\n",
       " '__getstate__',\n",
       " '__gt__',\n",
       " '__hash__',\n",
       " '__init__',\n",
       " '__init_subclass__',\n",
       " '__iter__',\n",
       " '__le__',\n",
       " '__len__',\n",
       " '__lt__',\n",
       " '__module__',\n",
       " '__ne__',\n",
       " '__new__',\n",
       " '__reduce__',\n",
       " '__reduce_ex__',\n",
       " '__repr__',\n",
       " '__setattr__',\n",
       " '__setitem__',\n",
       " '__sizeof__',\n",
       " '__str__',\n",
       " '__subclasshook__',\n",
       " '__unicode__',\n",
       " '__weakref__',\n",
       " '_all_strings',\n",
       " '_check_markup_is_url',\n",
       " '_decode_markup',\n",
       " '_feed',\n",
       " '_find_all',\n",
       " '_find_one',\n",
       " '_is_xml',\n",
       " '_lastRecursiveChild',\n",
       " '_last_descendant',\n",
       " '_linkage_fixer',\n",
       " '_most_recent_element',\n",
       " '_namespaces',\n",
       " '_popToTag',\n",
       " '_should_pretty_print',\n",
       " 'append',\n",
       " 'attrs',\n",
       " 'builder',\n",
       " 'can_be_empty_element',\n",
       " 'cdata_list_attributes',\n",
       " 'childGenerator',\n",
       " 'children',\n",
       " 'clear',\n",
       " 'contains_replacement_characters',\n",
       " 'contents',\n",
       " 'currentTag',\n",
       " 'current_data',\n",
       " 'declared_html_encoding',\n",
       " 'decode',\n",
       " 'decode_contents',\n",
       " 'decompose',\n",
       " 'decomposed',\n",
       " 'descendants',\n",
       " 'element_classes',\n",
       " 'encode',\n",
       " 'encode_contents',\n",
       " 'endData',\n",
       " 'extend',\n",
       " 'extract',\n",
       " 'fetchNextSiblings',\n",
       " 'fetchParents',\n",
       " 'fetchPrevious',\n",
       " 'fetchPreviousSiblings',\n",
       " 'find',\n",
       " 'findAll',\n",
       " 'findAllNext',\n",
       " 'findAllPrevious',\n",
       " 'findChild',\n",
       " 'findChildren',\n",
       " 'findNext',\n",
       " 'findNextSibling',\n",
       " 'findNextSiblings',\n",
       " 'findParent',\n",
       " 'findParents',\n",
       " 'findPrevious',\n",
       " 'findPreviousSibling',\n",
       " 'findPreviousSiblings',\n",
       " 'find_all',\n",
       " 'find_all_next',\n",
       " 'find_all_previous',\n",
       " 'find_next',\n",
       " 'find_next_sibling',\n",
       " 'find_next_siblings',\n",
       " 'find_parent',\n",
       " 'find_parents',\n",
       " 'find_previous',\n",
       " 'find_previous_sibling',\n",
       " 'find_previous_siblings',\n",
       " 'format_string',\n",
       " 'formatter_for_name',\n",
       " 'get',\n",
       " 'getText',\n",
       " 'get_attribute_list',\n",
       " 'get_text',\n",
       " 'handle_data',\n",
       " 'handle_endtag',\n",
       " 'handle_starttag',\n",
       " 'has_attr',\n",
       " 'has_key',\n",
       " 'hidden',\n",
       " 'index',\n",
       " 'insert',\n",
       " 'insert_after',\n",
       " 'insert_before',\n",
       " 'isSelfClosing',\n",
       " 'is_empty_element',\n",
       " 'is_xml',\n",
       " 'known_xml',\n",
       " 'markup',\n",
       " 'name',\n",
       " 'namespace',\n",
       " 'new_string',\n",
       " 'new_tag',\n",
       " 'next',\n",
       " 'nextGenerator',\n",
       " 'nextSibling',\n",
       " 'nextSiblingGenerator',\n",
       " 'next_element',\n",
       " 'next_elements',\n",
       " 'next_sibling',\n",
       " 'next_siblings',\n",
       " 'object_was_parsed',\n",
       " 'open_tag_counter',\n",
       " 'original_encoding',\n",
       " 'parent',\n",
       " 'parentGenerator',\n",
       " 'parents',\n",
       " 'parse_only',\n",
       " 'parserClass',\n",
       " 'parser_class',\n",
       " 'popTag',\n",
       " 'prefix',\n",
       " 'preserve_whitespace_tag_stack',\n",
       " 'preserve_whitespace_tags',\n",
       " 'prettify',\n",
       " 'previous',\n",
       " 'previousGenerator',\n",
       " 'previousSibling',\n",
       " 'previousSiblingGenerator',\n",
       " 'previous_element',\n",
       " 'previous_elements',\n",
       " 'previous_sibling',\n",
       " 'previous_siblings',\n",
       " 'pushTag',\n",
       " 'recursiveChildGenerator',\n",
       " 'renderContents',\n",
       " 'replaceWith',\n",
       " 'replaceWithChildren',\n",
       " 'replace_with',\n",
       " 'replace_with_children',\n",
       " 'reset',\n",
       " 'select',\n",
       " 'select_one',\n",
       " 'setup',\n",
       " 'smooth',\n",
       " 'string',\n",
       " 'string_container',\n",
       " 'string_container_stack',\n",
       " 'strings',\n",
       " 'stripped_strings',\n",
       " 'tagStack',\n",
       " 'text',\n",
       " 'unwrap',\n",
       " 'wrap']"
      ]
     },
     "execution_count": 39,
     "metadata": {},
     "output_type": "execute_result"
    }
   ],
   "source": [
    "from bs4 import BeautifulSoup\n",
    "soup=BeautifulSoup(res.text,'html.parser')\n",
    "dir(soup)"
   ]
  },
  {
   "cell_type": "code",
   "execution_count": 40,
   "metadata": {},
   "outputs": [
    {
     "name": "stdout",
     "output_type": "stream",
     "text": [
      "None\n"
     ]
    }
   ],
   "source": [
    "up_name=soup.find('div',calss_=\"h-name\")\n",
    "print(up_name)\n"
   ]
  },
  {
   "cell_type": "code",
   "execution_count": 41,
   "metadata": {},
   "outputs": [],
   "source": [
    "from bs4 import BeautifulSoup\n",
    "from lxml import html\n",
    "import xml\n",
    "import requests\n",
    "\n",
    "url = \"https://movie.douban.com/chart\"\n",
    "f = requests.get(url)                 #Get该网页从而获取该html内容\n",
    "soup = BeautifulSoup(f.content, \"lxml\")  #用lxml解析器解析该网页的内容, 好像f.text也是返回的html\n",
    "#print(f.content.decode())\t\t\t\t\t\t\t\t#尝试打印出网页内容,看是否获取成功\n",
    "#content = soup.find_all('div',class_=\"p12\" )   #尝试获取节点，因为calss和关键字冲突，所以改名class_\n",
    "\n",
    "for k in soup.find_all('div',class_='pl2'):#,找到div并且class为pl2的标签\n",
    "   a = k.find_all('span')       #在每个对应div标签下找span标签，会发现，一个a里面有四组span\n",
    "   print(a[0].string)            #取第一组的span中的字符串\n"
   ]
  },
  {
   "cell_type": "code",
   "execution_count": 42,
   "metadata": {},
   "outputs": [
    {
     "data": {
      "text/plain": [
       "[]"
      ]
     },
     "execution_count": 42,
     "metadata": {},
     "output_type": "execute_result"
    }
   ],
   "source": [
    "content=soup.find_all('div',class_='p12')\n",
    "content"
   ]
  },
  {
   "cell_type": "code",
   "execution_count": 43,
   "metadata": {},
   "outputs": [
    {
     "name": "stdout",
     "output_type": "stream",
     "text": [
      "<Response [200]>\n"
     ]
    }
   ],
   "source": [
    "from lxml import html#载入html库\n",
    "import xml\n",
    "import requests\n",
    "\n",
    "url=\"https://movie.douban.com/chart\"\n",
    "\n",
    "headers={\"User-Agent\": \"Mozilla/5.0 (Windows NT 10.0; WOW64) AppleWebKit/537.36 (KHTML, like Gecko) Chrome/76.0.3809.87 Safari/537.36 SLBrowser/6.0.1.9171\"}\n",
    "res=requests.get(url,headers=headers)\n",
    "print(res)\n"
   ]
  },
  {
   "cell_type": "code",
   "execution_count": 44,
   "metadata": {},
   "outputs": [],
   "source": [
    "from bs4 import BeautifulSoup\n",
    "soup=BeautifulSoup(res.text,'lxml')\n"
   ]
  },
  {
   "cell_type": "code",
   "execution_count": 45,
   "metadata": {},
   "outputs": [],
   "source": [
    "soup2=BeautifulSoup(res.content,'lxml')\n"
   ]
  },
  {
   "cell_type": "code",
   "execution_count": 46,
   "metadata": {},
   "outputs": [
    {
     "name": "stdout",
     "output_type": "stream",
     "text": [
      "The Call：超时空通话(港) / 声命线索(台)\n",
      "爵迹2 / 爵迹Ⅱ\n",
      "默爱(台)\n",
      "屠・姐上错身(港) / 换人杀砍砍(台)\n",
      "挛爱季节(港) / 求婚好意外(台)\n",
      "TENET天能(港/台) / 时空追捕\n",
      "重回西园码头 / 重返西园码头\n",
      "曼凯\n",
      "Kimetsu no Yaiba: Mugen Ressha-Hen\n",
      "逃(台) / 疑·妈(港)\n"
     ]
    }
   ],
   "source": [
    "for k in soup.find_all('div',class_='pl2'):#,找到div并且class为pl2的标签\n",
    "   a = k.find_all('span')       #在每个对应div标签下找span标签，会发现，一个a里面有四组span\n",
    "   print(a[0].string)            #取第一组的span中的字符串         #取第一组的span中的字符串"
   ]
  },
  {
   "cell_type": "code",
   "execution_count": 47,
   "metadata": {},
   "outputs": [
    {
     "name": "stdout",
     "output_type": "stream",
     "text": [
      "[<p class=\"pl\">2020-11-27(韩国网络) / 朴信惠 / 全钟瑞 / 金成铃 / 李艾 / 李东辉 / 朴浩山 / 吴政世 / 严彩英 / 韩国 / 李聪贤 / 112分钟 / 电话 / 剧情 / 惊悚 / 李聪贤 Choong Hyun Lee / 韩语</p>]\n",
      "2020-11-27(韩国网络) / 朴信惠 / 全钟瑞 / 金成铃 / 李艾 / 李东辉 / 朴浩山 / 吴政世 / 严彩英 / 韩国 / 李聪贤 / 112分钟 / 电话 / 剧情 / 惊悚 / 李聪贤 Choong Hyun Lee / 韩语\n",
      "[<p class=\"pl\">2020-12-04(中国大陆网络) / 吴亦凡 / 陈学冬 / 陈伟霆 / 郭采洁 / 林允 / 王源 / 王俊凯 / 易烊千玺 / 汪铎 / 中国大陆 / 郭敬明 / 129分钟 / 动画 / 奇幻 / 郭敬明 Jingming Guo / 汉语普通话</p>]\n",
      "2020-12-04(中国大陆网络) / 吴亦凡 / 陈学冬 / 陈伟霆 / 郭采洁 / 林允 / 王源 / 王俊凯 / 易烊千玺 / 汪铎 / 中国大陆 / 郭敬明 / 129分钟 / 动画 / 奇幻 / 郭敬明 Jingming Guo / 汉语普通话\n",
      "[<p class=\"pl\">2020-09-11(多伦多电影节) / 2020-10-17(英国) / 2020-11-13(美国) / 凯特·温丝莱特 / 西尔莎·罗南 / 费奥纳·肖 / 杰玛·琼斯 / 詹姆斯·麦卡德尔 / 亚力克·塞克雷亚努 / 克莱尔·拉什布鲁克 / 哈维·斯克林肖 / 温迪·诺丁汉 / 利亚姆·托马斯 /...</p>]\n",
      "2020-09-11(多伦多电影节) / 2020-10-17(英国) / 2020-11-13(美国) / 凯特·温丝莱特 / 西尔莎·罗南 / 费奥纳·肖 / 杰玛·琼斯 / 詹姆斯·麦卡德尔 / 亚力克·塞克雷亚努 / 克莱尔·拉什布鲁克 / 哈维·斯克林肖 / 温迪·诺丁汉 / 利亚姆·托马斯 /...\n",
      "[<p class=\"pl\">2020-11-13(美国) / 凯瑟琳·纽顿 / 文斯·沃恩 / 阿兰·卢克 / 凯蒂·芬内朗 / 米切尔·霍格 / 尤赖亚·谢尔顿 / 米沙·奥谢洛维奇 / 梅丽莎·科拉佐 / 凯利·拉莫尔·威尔逊 / 汉娜·拉塞尔 / 布鲁克·杰伊·泰勒 / 达娜·德罗里 / 塞莱斯特·奥康纳...</p>]\n",
      "2020-11-13(美国) / 凯瑟琳·纽顿 / 文斯·沃恩 / 阿兰·卢克 / 凯蒂·芬内朗 / 米切尔·霍格 / 尤赖亚·谢尔顿 / 米沙·奥谢洛维奇 / 梅丽莎·科拉佐 / 凯利·拉莫尔·威尔逊 / 汉娜·拉塞尔 / 布鲁克·杰伊·泰勒 / 达娜·德罗里 / 塞莱斯特·奥康纳...\n",
      "[<p class=\"pl\">2020-11-25(美国网络) / 克里斯汀·斯图尔特 / 麦肯兹·戴维斯 / 玛丽·斯汀伯根 / 维克多·加博 / 爱丽森·布里 / 玛丽·霍兰 / 丹·莱维 / 奥布瑞·普拉扎 / 莎拉尤·拉奧 / 杰克·麦克道曼 / 安娜·盖斯泰尔 / 珍妮·加利 / 蜜雪儿·伯托 / 卡拉·盖洛...</p>]\n",
      "2020-11-25(美国网络) / 克里斯汀·斯图尔特 / 麦肯兹·戴维斯 / 玛丽·斯汀伯根 / 维克多·加博 / 爱丽森·布里 / 玛丽·霍兰 / 丹·莱维 / 奥布瑞·普拉扎 / 莎拉尤·拉奧 / 杰克·麦克道曼 / 安娜·盖斯泰尔 / 珍妮·加利 / 蜜雪儿·伯托 / 卡拉·盖洛...\n",
      "[<p class=\"pl\">2020-08-26(英国) / 2020-09-03(美国) / 2020-09-04(中国大陆) / 约翰·大卫·华盛顿 / 罗伯特·帕丁森 / 伊丽莎白·德比茨基 / 肯尼思·布拉纳 / 亚伦·泰勒-约翰逊 / 迪宝·卡帕蒂娅 / 克蕾曼丝·波西 / 希米什·帕特尔 / 安德鲁·霍华德 / 尤里·科洛科利尼科夫...</p>]\n",
      "2020-08-26(英国) / 2020-09-03(美国) / 2020-09-04(中国大陆) / 约翰·大卫·华盛顿 / 罗伯特·帕丁森 / 伊丽莎白·德比茨基 / 肯尼思·布拉纳 / 亚伦·泰勒-约翰逊 / 迪宝·卡帕蒂娅 / 克蕾曼丝·波西 / 希米什·帕特尔 / 安德鲁·霍华德 / 尤里·科洛科利尼科夫...\n",
      "[<p class=\"pl\">2020-07-29(上海电影节) / 2020-11-06(中国大陆) / 章宇 / 宋佳 / 王砚辉 / 李鸿其 / 邓恩熙 / 周政杰 / 陈瑾 / 张建亚 / 叶青 / 高宇航 / 赵龙豪 / 丁冠中 / 林津锋 / 中国大陆 / 李霄峰 / 119分钟 / 剧情 / 爱情 / 犯罪 / 余欣 / 汉语普通话</p>]\n",
      "2020-07-29(上海电影节) / 2020-11-06(中国大陆) / 章宇 / 宋佳 / 王砚辉 / 李鸿其 / 邓恩熙 / 周政杰 / 陈瑾 / 张建亚 / 叶青 / 高宇航 / 赵龙豪 / 丁冠中 / 林津锋 / 中国大陆 / 李霄峰 / 119分钟 / 剧情 / 爱情 / 犯罪 / 余欣 / 汉语普通话\n",
      "[<p class=\"pl\">2020-11-13(美国) / 2020-12-04(美国网络) / 加里·奥德曼 / 阿曼达·塞弗里德 / 莉莉·柯林斯 / 查尔斯·丹斯 / 艾利斯·霍华德 / 汤姆·派福瑞 / 塔彭丝·米德尔顿 / 汤姆·伯克 / 杰米·麦克沙恩 / 莱文·兰宾 / 托比·莱昂纳德·摩尔 / 山姆·特劳顿...</p>]\n",
      "2020-11-13(美国) / 2020-12-04(美国网络) / 加里·奥德曼 / 阿曼达·塞弗里德 / 莉莉·柯林斯 / 查尔斯·丹斯 / 艾利斯·霍华德 / 汤姆·派福瑞 / 塔彭丝·米德尔顿 / 汤姆·伯克 / 杰米·麦克沙恩 / 莱文·兰宾 / 托比·莱昂纳德·摩尔 / 山姆·特劳顿...\n",
      "[<p class=\"pl\">2020-10-16(日本) / 花江夏树 / 鬼头明里 / 下野纮 / 松冈祯丞 / 日野聪 / 樱井孝宏 / 小西克幸 / 早见沙织 / 铃村健一 / 关智一 / 杉田智和 / 森川智之 / 佐藤利奈 / 三木真一郎 / 桑岛法子 / 本渡枫 / 大地叶 / 小原好美 / 古贺葵 / 小山力也...</p>]\n",
      "2020-10-16(日本) / 花江夏树 / 鬼头明里 / 下野纮 / 松冈祯丞 / 日野聪 / 樱井孝宏 / 小西克幸 / 早见沙织 / 铃村健一 / 关智一 / 杉田智和 / 森川智之 / 佐藤利奈 / 三木真一郎 / 桑岛法子 / 本渡枫 / 大地叶 / 小原好美 / 古贺葵 / 小山力也...\n",
      "[<p class=\"pl\">2020-11-20(美国网络) / 莎拉·保罗森 / 基拉·艾伦 / 帕特·希利 / 埃里克·阿塔瓦尔 / 布拉德利·索茨基 / 奥娜莉·艾姆斯 / 德里克·詹姆斯·特拉普 / 美国 / 阿尼什·查甘蒂 / 90分钟 / 逃跑 / 悬疑 / 惊悚 / 恐怖 / 阿尼什·查甘蒂 Aneesh Chaganty...</p>]\n",
      "2020-11-20(美国网络) / 莎拉·保罗森 / 基拉·艾伦 / 帕特·希利 / 埃里克·阿塔瓦尔 / 布拉德利·索茨基 / 奥娜莉·艾姆斯 / 德里克·詹姆斯·特拉普 / 美国 / 阿尼什·查甘蒂 / 90分钟 / 逃跑 / 悬疑 / 惊悚 / 恐怖 / 阿尼什·查甘蒂 Aneesh Chaganty...\n"
     ]
    }
   ],
   "source": [
    "for k in soup.find_all('div',class_='pl2'):#,找到div并且class为pl2的标签\n",
    "   a = k.find_all('p')       #在每个对应div标签下找span标签，会发现，一个a里面有四组span\n",
    "   print(a);print(a[0].string)"
   ]
  },
  {
   "cell_type": "code",
   "execution_count": 48,
   "metadata": {},
   "outputs": [
    {
     "name": "stdout",
     "output_type": "stream",
     "text": [
      "<Response [200]>\n"
     ]
    }
   ],
   "source": [
    "res2=requests.get(\"https://space.bilibili.com/19642758?from=search&seid=5706059794408704693\")\n",
    "print(res2)"
   ]
  },
  {
   "cell_type": "code",
   "execution_count": 49,
   "metadata": {},
   "outputs": [],
   "source": [
    "soup2=BeautifulSoup(res2.text,'html.parser')\n",
    "for name in soup2.find_all('div',class_='h-basic'):\n",
    "    a=name.find_all('span')\n",
    "    print(a)\n"
   ]
  },
  {
   "cell_type": "code",
   "execution_count": 50,
   "metadata": {},
   "outputs": [
    {
     "name": "stdout",
     "output_type": "stream",
     "text": [
      "None\n"
     ]
    }
   ],
   "source": [
    "a=soup2.find('div',class_=\"h-basic\")\n",
    "print(a)"
   ]
  },
  {
   "cell_type": "markdown",
   "metadata": {},
   "source": [
    "##### 还差80行"
   ]
  },
  {
   "cell_type": "code",
   "execution_count": 51,
   "metadata": {},
   "outputs": [
    {
     "name": "stdout",
     "output_type": "stream",
     "text": [
      "<Response [200]>\n"
     ]
    }
   ],
   "source": [
    "import requests\n",
    "from bs4 import BeautifulSoup\n",
    "\n",
    "res=requests.get(\"https://space.bilibili.com/19642758?from=search&seid=11124571905675324027\")\n",
    "print(res)"
   ]
  },
  {
   "cell_type": "code",
   "execution_count": 52,
   "metadata": {},
   "outputs": [],
   "source": [
    "soup=BeautifulSoup(res.text,'html.parser')"
   ]
  },
  {
   "cell_type": "code",
   "execution_count": 53,
   "metadata": {},
   "outputs": [
    {
     "name": "stdout",
     "output_type": "stream",
     "text": [
      "力元君的个人空间 - 哔哩哔哩 ( ゜- ゜)つロ 乾杯~ Bilibili\n"
     ]
    }
   ],
   "source": [
    "print(soup.title.string)"
   ]
  },
  {
   "cell_type": "code",
   "execution_count": 54,
   "metadata": {},
   "outputs": [
    {
     "data": {
      "text/plain": [
       "[<div id=\"biliMainHeader\" style=\"height:56px\"></div>,\n",
       " <div id=\"space-app\"></div>]"
      ]
     },
     "execution_count": 54,
     "metadata": {},
     "output_type": "execute_result"
    }
   ],
   "source": [
    "soup.find_all('div')"
   ]
  },
  {
   "cell_type": "code",
   "execution_count": 55,
   "metadata": {},
   "outputs": [
    {
     "data": {
      "text/plain": [
       "[]"
      ]
     },
     "execution_count": 55,
     "metadata": {},
     "output_type": "execute_result"
    }
   ],
   "source": [
    "soup.find_all('id')"
   ]
  },
  {
   "cell_type": "code",
   "execution_count": 56,
   "metadata": {},
   "outputs": [
    {
     "data": {
      "text/plain": [
       "<list_iterator at 0x20f49b410d0>"
      ]
     },
     "execution_count": 56,
     "metadata": {},
     "output_type": "execute_result"
    }
   ],
   "source": [
    "soup.head.children"
   ]
  },
  {
   "cell_type": "code",
   "execution_count": 57,
   "metadata": {},
   "outputs": [
    {
     "data": {
      "text/plain": [
       "<meta content=\"333.999\" name=\"spm_prefix\"/>"
      ]
     },
     "execution_count": 57,
     "metadata": {},
     "output_type": "execute_result"
    }
   ],
   "source": [
    "soup.head.contents[0]"
   ]
  },
  {
   "cell_type": "code",
   "execution_count": 58,
   "metadata": {},
   "outputs": [
    {
     "data": {
      "text/plain": [
       "2"
      ]
     },
     "execution_count": 58,
     "metadata": {},
     "output_type": "execute_result"
    }
   ],
   "source": [
    "len(soup.contents)"
   ]
  },
  {
   "cell_type": "code",
   "execution_count": 59,
   "metadata": {},
   "outputs": [
    {
     "data": {
      "text/plain": [
       "[]"
      ]
     },
     "execution_count": 59,
     "metadata": {},
     "output_type": "execute_result"
    }
   ],
   "source": [
    "ta=soup.find_all(\"div\",class_=\"h-basic-spacing\")\n",
    "ta"
   ]
  },
  {
   "cell_type": "code",
   "execution_count": 60,
   "metadata": {},
   "outputs": [],
   "source": [
    "\n",
    "headers={\"User-Agent\": \"Mozilla/5.0 (Windows NT 10.0; Win64; x64) AppleWebKit/537.36 (KHTML, like Gecko) Chrome/87.0.4280.88\"}\n",
    "baike=requests.get(\"https://baike.baidu.com/item/Python/407313\",headers=headers)"
   ]
  },
  {
   "cell_type": "code",
   "execution_count": 61,
   "metadata": {},
   "outputs": [
    {
     "name": "stdout",
     "output_type": "stream",
     "text": [
      "<Response [200]>\n"
     ]
    }
   ],
   "source": [
    "print(baike)"
   ]
  },
  {
   "cell_type": "code",
   "execution_count": 62,
   "metadata": {},
   "outputs": [],
   "source": [
    "soup=BeautifulSoup(baike.text,\"html.parser\")"
   ]
  },
  {
   "cell_type": "code",
   "execution_count": null,
   "metadata": {},
   "outputs": [],
   "source": []
  },
  {
   "cell_type": "code",
   "execution_count": 63,
   "metadata": {},
   "outputs": [],
   "source": [
    "a=soup.find(\"dd\",class_=\"lemmaWgt-lemmaTitle-title\").find(\"h1\")\n"
   ]
  },
  {
   "cell_type": "code",
   "execution_count": 64,
   "metadata": {},
   "outputs": [
    {
     "data": {
      "text/plain": [
       "'Python'"
      ]
     },
     "execution_count": 64,
     "metadata": {},
     "output_type": "execute_result"
    }
   ],
   "source": [
    "a.get_text()"
   ]
  },
  {
   "cell_type": "code",
   "execution_count": 65,
   "metadata": {},
   "outputs": [
    {
     "name": "stdout",
     "output_type": "stream",
     "text": [
      "<dd class=\"lemmaWgt-lemmaTitle-title\">\n",
      "<h1>Python</h1>\n",
      "<h2>（计算机编程语言）</h2>\n",
      "<a class=\"edit-lemma cmn-btn-hover-blue cmn-btn-28 j-edit-link\" href=\"javascript:;\"><em class=\"cmn-icon wiki-lemma-icons wiki-lemma-icons_edit-lemma\"></em>编辑</a>\n",
      "<a class=\"lock-lemma\" href=\"/view/10812319.htm\" nslog-type=\"10003105\" target=\"_blank\" title=\"锁定\"><em class=\"cmn-icon wiki-lemma-icons wiki-lemma-icons_lock-lemma\"></em>锁定</a>\n",
      "</dd>\n"
     ]
    }
   ],
   "source": [
    "d=soup.find(\"dd\",class_=\"lemmaWgt-lemmaTitle-title\")\n",
    "f=soup.find_all(\"dd\",class_=\"lemmaWgt-lemmaTitle-title\")\n",
    "print(d)\n"
   ]
  },
  {
   "cell_type": "code",
   "execution_count": 66,
   "metadata": {},
   "outputs": [
    {
     "name": "stdout",
     "output_type": "stream",
     "text": [
      "[<dd class=\"lemmaWgt-lemmaTitle-title\">\n",
      "<h1>Python</h1>\n",
      "<h2>（计算机编程语言）</h2>\n",
      "<a class=\"edit-lemma cmn-btn-hover-blue cmn-btn-28 j-edit-link\" href=\"javascript:;\"><em class=\"cmn-icon wiki-lemma-icons wiki-lemma-icons_edit-lemma\"></em>编辑</a>\n",
      "<a class=\"lock-lemma\" href=\"/view/10812319.htm\" nslog-type=\"10003105\" target=\"_blank\" title=\"锁定\"><em class=\"cmn-icon wiki-lemma-icons wiki-lemma-icons_lock-lemma\"></em>锁定</a>\n",
      "</dd>]\n"
     ]
    }
   ],
   "source": [
    "print(f)"
   ]
  },
  {
   "cell_type": "code",
   "execution_count": 67,
   "metadata": {},
   "outputs": [
    {
     "data": {
      "text/plain": [
       "<h1>Python</h1>"
      ]
     },
     "execution_count": 67,
     "metadata": {},
     "output_type": "execute_result"
    }
   ],
   "source": [
    "d.find(\"h1\")"
   ]
  },
  {
   "cell_type": "code",
   "execution_count": 68,
   "metadata": {},
   "outputs": [],
   "source": [
    "kaitou=soup.find(\"div\",class_=\"para\")"
   ]
  },
  {
   "cell_type": "code",
   "execution_count": 69,
   "metadata": {},
   "outputs": [
    {
     "data": {
      "text/plain": [
       "<div class=\"para\" label-module=\"para\">Python由荷兰数学和计算机科学研究学会的Guido van Rossum 于1990 年代初设计，作为一门叫做<a data-lemmaid=\"334996\" href=\"/item/ABC%E8%AF%AD%E8%A8%80/334996\" target=\"_blank\">ABC语言</a>的替代品。<sup class=\"sup--normal\" data-ctrmap=\":1,\" data-sup=\"1\">\n",
       "[1]</sup><a class=\"sup-anchor\" name=\"ref_[1]_21087\"> </a>\n",
       "Python提供了高效的高级<a data-lemmaid=\"1450\" href=\"/item/%E6%95%B0%E6%8D%AE%E7%BB%93%E6%9E%84/1450\" target=\"_blank\">数据结构</a>，还能简单有效地<a data-lemmaid=\"2262089\" href=\"/item/%E9%9D%A2%E5%90%91%E5%AF%B9%E8%B1%A1/2262089\" target=\"_blank\">面向对象</a>编程。Python语法和动态类型，以及<a data-lemmaid=\"8888952\" href=\"/item/%E8%A7%A3%E9%87%8A%E5%9E%8B%E8%AF%AD%E8%A8%80/8888952\" target=\"_blank\">解释型语言</a>的本质，使它成为多数平台上写脚本和快速开发应用的编程语言。<sup class=\"sup--normal\" data-ctrmap=\":2,\" data-sup=\"2\">\n",
       "[2]</sup><a class=\"sup-anchor\" name=\"ref_[2]_21087\"> </a>\n",
       "</div>"
      ]
     },
     "execution_count": 69,
     "metadata": {},
     "output_type": "execute_result"
    }
   ],
   "source": [
    "kaitou"
   ]
  },
  {
   "cell_type": "code",
   "execution_count": 70,
   "metadata": {},
   "outputs": [
    {
     "data": {
      "text/plain": [
       "'Python由荷兰数学和计算机科学研究学会的Guido van Rossum 于1990 年代初设计，作为一门叫做ABC语言的替代品。\\n[1]\\xa0\\nPython提供了高效的高级数据结构，还能简单有效地面向对象编程。Python语法和动态类型，以及解释型语言的本质，使它成为多数平台上写脚本和快速开发应用的编程语言。\\n[2]'"
      ]
     },
     "execution_count": 70,
     "metadata": {},
     "output_type": "execute_result"
    }
   ],
   "source": [
    "kaitou.get_text().strip()"
   ]
  },
  {
   "cell_type": "markdown",
   "metadata": {},
   "source": [
    "##还差80行"
   ]
  },
  {
   "cell_type": "code",
   "execution_count": 71,
   "metadata": {},
   "outputs": [],
   "source": [
    "a=[8,9,10]"
   ]
  },
  {
   "cell_type": "code",
   "execution_count": 72,
   "metadata": {},
   "outputs": [
    {
     "data": {
      "text/plain": [
       "\u001b[1;31mType:\u001b[0m        list\n",
       "\u001b[1;31mString form:\u001b[0m [8, 9, 10]\n",
       "\u001b[1;31mLength:\u001b[0m      3\n",
       "\u001b[1;31mDocstring:\u001b[0m  \n",
       "Built-in mutable sequence.\n",
       "\n",
       "If no argument is given, the constructor creates a new empty list.\n",
       "The argument must be an iterable if specified.\n"
      ]
     },
     "metadata": {},
     "output_type": "display_data"
    }
   ],
   "source": [
    "?a"
   ]
  },
  {
   "cell_type": "code",
   "execution_count": 73,
   "metadata": {},
   "outputs": [],
   "source": [
    "b='0'"
   ]
  },
  {
   "cell_type": "code",
   "execution_count": 74,
   "metadata": {},
   "outputs": [
    {
     "data": {
      "text/plain": [
       "\u001b[1;31mType:\u001b[0m        str\n",
       "\u001b[1;31mString form:\u001b[0m 0\n",
       "\u001b[1;31mLength:\u001b[0m      1\n",
       "\u001b[1;31mDocstring:\u001b[0m  \n",
       "str(object='') -> str\n",
       "str(bytes_or_buffer[, encoding[, errors]]) -> str\n",
       "\n",
       "Create a new string object from the given object. If encoding or\n",
       "errors is specified, then the object must expose a data buffer\n",
       "that will be decoded using the given encoding and error handler.\n",
       "Otherwise, returns the result of object.__str__() (if defined)\n",
       "or repr(object).\n",
       "encoding defaults to sys.getdefaultencoding().\n",
       "errors defaults to 'strict'.\n"
      ]
     },
     "metadata": {},
     "output_type": "display_data"
    }
   ],
   "source": [
    "?b"
   ]
  },
  {
   "cell_type": "code",
   "execution_count": 75,
   "metadata": {},
   "outputs": [],
   "source": [
    "c=0.9"
   ]
  },
  {
   "cell_type": "code",
   "execution_count": 76,
   "metadata": {},
   "outputs": [
    {
     "data": {
      "text/plain": [
       "\u001b[1;31mType:\u001b[0m        float\n",
       "\u001b[1;31mString form:\u001b[0m 0.9\n",
       "\u001b[1;31mDocstring:\u001b[0m   Convert a string or number to a floating point number, if possible.\n"
      ]
     },
     "metadata": {},
     "output_type": "display_data"
    }
   ],
   "source": [
    "?c"
   ]
  },
  {
   "cell_type": "code",
   "execution_count": 77,
   "metadata": {},
   "outputs": [
    {
     "data": {
      "text/plain": [
       "\u001b[1;31mDocstring:\u001b[0m\n",
       "random(size=None)\n",
       "\n",
       "Return random floats in the half-open interval [0.0, 1.0). Alias for\n",
       "`random_sample` to ease forward-porting to the new random API.\n",
       "\u001b[1;31mType:\u001b[0m      builtin_function_or_method\n"
      ]
     },
     "metadata": {},
     "output_type": "display_data"
    }
   ],
   "source": [
    "np.random.random?"
   ]
  },
  {
   "cell_type": "code",
   "execution_count": 78,
   "metadata": {},
   "outputs": [],
   "source": [
    "def add_numbers(a,b):\n",
    "    c=a+b\n",
    "    print(c)"
   ]
  },
  {
   "cell_type": "code",
   "execution_count": 79,
   "metadata": {},
   "outputs": [
    {
     "name": "stdout",
     "output_type": "stream",
     "text": [
      "3\n"
     ]
    }
   ],
   "source": [
    "add_numbers(1,2)"
   ]
  },
  {
   "cell_type": "code",
   "execution_count": 80,
   "metadata": {},
   "outputs": [
    {
     "data": {
      "text/plain": [
       "\u001b[1;31mSignature:\u001b[0m \u001b[0madd_numbers\u001b[0m\u001b[1;33m(\u001b[0m\u001b[0ma\u001b[0m\u001b[1;33m,\u001b[0m \u001b[0mb\u001b[0m\u001b[1;33m)\u001b[0m\u001b[1;33m\u001b[0m\u001b[1;33m\u001b[0m\u001b[0m\n",
       "\u001b[1;31mDocstring:\u001b[0m <no docstring>\n",
       "\u001b[1;31mFile:\u001b[0m      c:\\users\\10678\\python--documents\\homework\\<ipython-input-78-bd1b7d002ff3>\n",
       "\u001b[1;31mType:\u001b[0m      function\n"
      ]
     },
     "metadata": {},
     "output_type": "display_data"
    }
   ],
   "source": [
    "add_numbers?"
   ]
  },
  {
   "cell_type": "code",
   "execution_count": 81,
   "metadata": {},
   "outputs": [
    {
     "data": {
      "text/plain": [
       "\u001b[1;31mSignature:\u001b[0m \u001b[0madd_numbers\u001b[0m\u001b[1;33m(\u001b[0m\u001b[0ma\u001b[0m\u001b[1;33m,\u001b[0m \u001b[0mb\u001b[0m\u001b[1;33m)\u001b[0m\u001b[1;33m\u001b[0m\u001b[1;33m\u001b[0m\u001b[0m\n",
       "\u001b[1;31mDocstring:\u001b[0m <no docstring>\n",
       "\u001b[1;31mSource:\u001b[0m   \n",
       "\u001b[1;32mdef\u001b[0m \u001b[0madd_numbers\u001b[0m\u001b[1;33m(\u001b[0m\u001b[0ma\u001b[0m\u001b[1;33m,\u001b[0m\u001b[0mb\u001b[0m\u001b[1;33m)\u001b[0m\u001b[1;33m:\u001b[0m\u001b[1;33m\n",
       "\u001b[0m    \u001b[0mc\u001b[0m\u001b[1;33m=\u001b[0m\u001b[0ma\u001b[0m\u001b[1;33m+\u001b[0m\u001b[0mb\u001b[0m\u001b[1;33m\n",
       "\u001b[0m    \u001b[0mprint\u001b[0m\u001b[1;33m(\u001b[0m\u001b[0mc\u001b[0m\u001b[1;33m)\u001b[0m\u001b[1;33m\u001b[0m\u001b[1;33m\u001b[0m\u001b[0m\n",
       "\u001b[1;31mFile:\u001b[0m      c:\\users\\10678\\python--documents\\homework\\<ipython-input-78-bd1b7d002ff3>\n",
       "\u001b[1;31mType:\u001b[0m      function\n"
      ]
     },
     "metadata": {},
     "output_type": "display_data"
    }
   ],
   "source": [
    "add_numbers??"
   ]
  },
  {
   "cell_type": "code",
   "execution_count": 84,
   "metadata": {},
   "outputs": [
    {
     "data": {
      "text/plain": [
       "np.__loader__\n",
       "np.load\n",
       "np.loads\n",
       "np.loadtxt"
      ]
     },
     "metadata": {},
     "output_type": "display_data"
    }
   ],
   "source": [
    "np.*load*?"
   ]
  },
  {
   "cell_type": "code",
   "execution_count": 85,
   "metadata": {},
   "outputs": [],
   "source": [
    "def f(x,y,z):\n",
    "    return (x+y)/z"
   ]
  },
  {
   "cell_type": "code",
   "execution_count": 86,
   "metadata": {},
   "outputs": [
    {
     "data": {
      "text/plain": [
       "3.0"
      ]
     },
     "execution_count": 86,
     "metadata": {},
     "output_type": "execute_result"
    }
   ],
   "source": [
    "f(2,10,4)"
   ]
  },
  {
   "cell_type": "code",
   "execution_count": 87,
   "metadata": {},
   "outputs": [
    {
     "data": {
      "text/plain": [
       "2.0"
      ]
     },
     "execution_count": 87,
     "metadata": {},
     "output_type": "execute_result"
    }
   ],
   "source": [
    "a=5\n",
    "b=9\n",
    "c=7\n",
    "f(a,b,c)"
   ]
  },
  {
   "cell_type": "code",
   "execution_count": 3,
   "metadata": {},
   "outputs": [
    {
     "data": {
      "text/plain": [
       "[<matplotlib.lines.Line2D at 0x2ab992fe700>]"
      ]
     },
     "execution_count": 3,
     "metadata": {},
     "output_type": "execute_result"
    },
    {
     "data": {
      "image/png": "[encoded data removed]",
      "text/plain": [
       "<Figure size 432x288 with 1 Axes>"
      ]
     },
     "metadata": {
      "needs_background": "light"
     },
     "output_type": "display_data"
    }
   ],
   "source": [
    "%matplotlib inline\n",
    "import matplotlib.pyplot as plt\n",
    "import numpy as np\n",
    "plt.plot(np.random.randn(50).cumsum())"
   ]
  },
  {
   "cell_type": "markdown",
   "metadata": {},
   "source": [
    "#还差80行\n"
   ]
  },
  {
   "cell_type": "code",
   "execution_count": 1,
   "metadata": {},
   "outputs": [
    {
     "name": "stdout",
     "output_type": "stream",
     "text": [
      "reached this line\n"
     ]
    }
   ],
   "source": [
    "print(\"reached this line\")"
   ]
  },
  {
   "cell_type": "code",
   "execution_count": 3,
   "metadata": {},
   "outputs": [
    {
     "data": {
      "text/plain": [
       "[2, 3, 8]"
      ]
     },
     "execution_count": 3,
     "metadata": {},
     "output_type": "execute_result"
    }
   ],
   "source": [
    "a=[2,3,8]\n",
    "b=a\n",
    "b"
   ]
  },
  {
   "cell_type": "code",
   "execution_count": 4,
   "metadata": {},
   "outputs": [],
   "source": [
    "a.append(9)"
   ]
  },
  {
   "cell_type": "code",
   "execution_count": 5,
   "metadata": {},
   "outputs": [
    {
     "data": {
      "text/plain": [
       "[2, 3, 8, 9]"
      ]
     },
     "execution_count": 5,
     "metadata": {},
     "output_type": "execute_result"
    }
   ],
   "source": [
    "a\n"
   ]
  },
  {
   "cell_type": "code",
   "execution_count": 6,
   "metadata": {},
   "outputs": [
    {
     "data": {
      "text/plain": [
       "[2, 3, 8, 9]"
      ]
     },
     "execution_count": 6,
     "metadata": {},
     "output_type": "execute_result"
    }
   ],
   "source": [
    "b\n"
   ]
  },
  {
   "cell_type": "code",
   "execution_count": 7,
   "metadata": {},
   "outputs": [],
   "source": [
    "def append_element(init_ele,add_ele):\n",
    "    init_ele.append(add_ele)\n",
    "\n",
    "data=[9,88,77,44,66]\n",
    "append_element(data,90)"
   ]
  },
  {
   "cell_type": "code",
   "execution_count": 8,
   "metadata": {},
   "outputs": [
    {
     "data": {
      "text/plain": [
       "[9, 88, 77, 44, 66, 90]"
      ]
     },
     "execution_count": 8,
     "metadata": {},
     "output_type": "execute_result"
    }
   ],
   "source": [
    "data"
   ]
  },
  {
   "cell_type": "code",
   "execution_count": 10,
   "metadata": {},
   "outputs": [
    {
     "data": {
      "text/plain": [
       "int"
      ]
     },
     "execution_count": 10,
     "metadata": {},
     "output_type": "execute_result"
    }
   ],
   "source": [
    "a=90\n",
    "type(a)"
   ]
  },
  {
   "cell_type": "code",
   "execution_count": 11,
   "metadata": {},
   "outputs": [
    {
     "name": "stdout",
     "output_type": "stream",
     "text": [
      "a is <class 'float'>,b is <class 'int'>\n"
     ]
    }
   ],
   "source": [
    "a=9.5\n",
    "b=90\n",
    "print('a is {0},b is {1}'.format(type(a),type(b)))"
   ]
  },
  {
   "cell_type": "code",
   "execution_count": 15,
   "metadata": {},
   "outputs": [
    {
     "data": {
      "text/plain": [
       "0.10555555555555556"
      ]
     },
     "execution_count": 15,
     "metadata": {},
     "output_type": "execute_result"
    }
   ],
   "source": [
    "a/b"
   ]
  },
  {
   "cell_type": "code",
   "execution_count": 16,
   "metadata": {},
   "outputs": [
    {
     "data": {
      "text/plain": [
       "False"
      ]
     },
     "execution_count": 16,
     "metadata": {},
     "output_type": "execute_result"
    }
   ],
   "source": [
    "a=5\n",
    "isinstance(a,str)"
   ]
  },
  {
   "cell_type": "code",
   "execution_count": 17,
   "metadata": {},
   "outputs": [
    {
     "data": {
      "text/plain": [
       "True"
      ]
     },
     "execution_count": 17,
     "metadata": {},
     "output_type": "execute_result"
    }
   ],
   "source": [
    "b='h'\n",
    "isinstance(b,(str,int))"
   ]
  },
  {
   "cell_type": "code",
   "execution_count": 21,
   "metadata": {},
   "outputs": [
    {
     "data": {
      "text/plain": [
       "<function str.split(sep=None, maxsplit=-1)>"
      ]
     },
     "execution_count": 21,
     "metadata": {},
     "output_type": "execute_result"
    }
   ],
   "source": [
    "a='poo'\n",
    "getattr(a,'split')"
   ]
  },
  {
   "cell_type": "code",
   "execution_count": 23,
   "metadata": {},
   "outputs": [],
   "source": [
    "def isiterable(obj):\n",
    "    try:\n",
    "        iter(obj)\n",
    "        return True\n",
    "    except:\n",
    "        return False"
   ]
  },
  {
   "cell_type": "code",
   "execution_count": 24,
   "metadata": {},
   "outputs": [
    {
     "data": {
      "text/plain": [
       "True"
      ]
     },
     "execution_count": 24,
     "metadata": {},
     "output_type": "execute_result"
    }
   ],
   "source": [
    "isiterable('j')"
   ]
  },
  {
   "cell_type": "code",
   "execution_count": 26,
   "metadata": {},
   "outputs": [
    {
     "data": {
      "text/plain": [
       "True"
      ]
     },
     "execution_count": 26,
     "metadata": {},
     "output_type": "execute_result"
    }
   ],
   "source": [
    "isiterable([7,89,0])"
   ]
  },
  {
   "cell_type": "code",
   "execution_count": 30,
   "metadata": {},
   "outputs": [],
   "source": [
    "isiterable(78)\n",
    "x=78"
   ]
  },
  {
   "cell_type": "code",
   "execution_count": 31,
   "metadata": {},
   "outputs": [],
   "source": [
    "if not isinstance(x,list) and isiterable(x):\n",
    "    x=list(x)"
   ]
  },
  {
   "cell_type": "code",
   "execution_count": 33,
   "metadata": {},
   "outputs": [
    {
     "name": "stdout",
     "output_type": "stream",
     "text": [
      "78\n"
     ]
    }
   ],
   "source": [
    "print(x)"
   ]
  },
  {
   "cell_type": "code",
   "execution_count": 35,
   "metadata": {},
   "outputs": [],
   "source": [
    "PI=3.1415\n",
    "\n",
    "def f(x):\n",
    "    return x+8\n",
    "\n",
    "def g(a,b):\n",
    "    return a+b\n",
    "    "
   ]
  },
  {
   "cell_type": "code",
   "execution_count": 36,
   "metadata": {},
   "outputs": [
    {
     "data": {
      "text/plain": [
       "[1, 2, 3]"
      ]
     },
     "execution_count": 36,
     "metadata": {},
     "output_type": "execute_result"
    }
   ],
   "source": [
    "a=[1,2,3]\n",
    "c=list(a)\n",
    "c"
   ]
  },
  {
   "cell_type": "code",
   "execution_count": 37,
   "metadata": {},
   "outputs": [
    {
     "data": {
      "text/plain": [
       "False"
      ]
     },
     "execution_count": 37,
     "metadata": {},
     "output_type": "execute_result"
    }
   ],
   "source": [
    "a is c"
   ]
  },
  {
   "cell_type": "code",
   "execution_count": 38,
   "metadata": {},
   "outputs": [
    {
     "data": {
      "text/plain": [
       "list"
      ]
     },
     "execution_count": 38,
     "metadata": {},
     "output_type": "execute_result"
    }
   ],
   "source": [
    "type(a)"
   ]
  },
  {
   "cell_type": "code",
   "execution_count": 39,
   "metadata": {},
   "outputs": [
    {
     "data": {
      "text/plain": [
       "True"
      ]
     },
     "execution_count": 39,
     "metadata": {},
     "output_type": "execute_result"
    }
   ],
   "source": [
    "a==c"
   ]
  },
  {
   "cell_type": "code",
   "execution_count": 41,
   "metadata": {},
   "outputs": [
    {
     "data": {
      "text/plain": [
       "False"
      ]
     },
     "execution_count": 41,
     "metadata": {},
     "output_type": "execute_result"
    }
   ],
   "source": [
    "a=[]\n",
    "a is None"
   ]
  },
  {
   "cell_type": "code",
   "execution_count": 42,
   "metadata": {},
   "outputs": [
    {
     "data": {
      "text/plain": [
       "['ioo', 0, [8, 9]]"
      ]
     },
     "execution_count": 42,
     "metadata": {},
     "output_type": "execute_result"
    }
   ],
   "source": [
    "a=['ioo',9,[8,9]]\n",
    "a[1]=0\n",
    "a"
   ]
  },
  {
   "cell_type": "code",
   "execution_count": 43,
   "metadata": {},
   "outputs": [
    {
     "data": {
      "text/plain": [
       "float"
      ]
     },
     "execution_count": 43,
     "metadata": {},
     "output_type": "execute_result"
    }
   ],
   "source": [
    "a=7.0\n",
    "type(a)"
   ]
  },
  {
   "cell_type": "code",
   "execution_count": 44,
   "metadata": {},
   "outputs": [
    {
     "data": {
      "text/plain": [
       "7"
      ]
     },
     "execution_count": 44,
     "metadata": {},
     "output_type": "execute_result"
    }
   ],
   "source": [
    "int(a)"
   ]
  },
  {
   "cell_type": "code",
   "execution_count": 45,
   "metadata": {},
   "outputs": [
    {
     "data": {
      "text/plain": [
       "9"
      ]
     },
     "execution_count": 45,
     "metadata": {},
     "output_type": "execute_result"
    }
   ],
   "source": [
    "a=9.9\n",
    "int(a)"
   ]
  },
  {
   "cell_type": "code",
   "execution_count": 46,
   "metadata": {},
   "outputs": [],
   "source": [
    "fval=7.234\n",
    "fval2=6.789e-5"
   ]
  },
  {
   "cell_type": "code",
   "execution_count": 47,
   "metadata": {},
   "outputs": [
    {
     "data": {
      "text/plain": [
       "6.789e-05"
      ]
     },
     "execution_count": 47,
     "metadata": {},
     "output_type": "execute_result"
    }
   ],
   "source": [
    "fval2"
   ]
  },
  {
   "cell_type": "code",
   "execution_count": 49,
   "metadata": {},
   "outputs": [
    {
     "data": {
      "text/plain": [
       "2.0"
      ]
     },
     "execution_count": 49,
     "metadata": {},
     "output_type": "execute_result"
    }
   ],
   "source": [
    "9//PI"
   ]
  },
  {
   "cell_type": "code",
   "execution_count": 50,
   "metadata": {},
   "outputs": [],
   "source": [
    "a='one way to write string'\n",
    "b=\"do you love this?\"\n",
    "\n",
    "c=\"\"\"\n",
    "this is a longer sring that \n",
    "I have to multiple lines\n",
    "\"\"\""
   ]
  },
  {
   "cell_type": "code",
   "execution_count": 51,
   "metadata": {},
   "outputs": [
    {
     "data": {
      "text/plain": [
       "3"
      ]
     },
     "execution_count": 51,
     "metadata": {},
     "output_type": "execute_result"
    }
   ],
   "source": [
    "c.count('\\n')"
   ]
  },
  {
   "cell_type": "code",
   "execution_count": 54,
   "metadata": {},
   "outputs": [],
   "source": [
    "d=b.replace('love','likeeee a')"
   ]
  },
  {
   "cell_type": "code",
   "execution_count": 55,
   "metadata": {},
   "outputs": [
    {
     "data": {
      "text/plain": [
       "'do you likeeee a this?'"
      ]
     },
     "execution_count": 55,
     "metadata": {},
     "output_type": "execute_result"
    }
   ],
   "source": [
    "d"
   ]
  },
  {
   "cell_type": "code",
   "execution_count": 57,
   "metadata": {},
   "outputs": [
    {
     "data": {
      "text/plain": [
       "['i', ' ', 'l', 'o', 'v', 'e', ' ', 'p', 'y', 't', 'h', 'o', 'n']"
      ]
     },
     "execution_count": 57,
     "metadata": {},
     "output_type": "execute_result"
    }
   ],
   "source": [
    "s='i love python'\n",
    "list(s)"
   ]
  },
  {
   "cell_type": "code",
   "execution_count": 58,
   "metadata": {},
   "outputs": [
    {
     "data": {
      "text/plain": [
       "'ove python'"
      ]
     },
     "execution_count": 58,
     "metadata": {},
     "output_type": "execute_result"
    }
   ],
   "source": [
    "s[3:]"
   ]
  },
  {
   "cell_type": "markdown",
   "metadata": {},
   "source": [
    "#还差20行\n"
   ]
  },
  {
   "cell_type": "code",
   "execution_count": 60,
   "metadata": {},
   "outputs": [],
   "source": [
    "s=' wei shen \\ me yao\\ zhe \\ zyang'"
   ]
  },
  {
   "cell_type": "code",
   "execution_count": 61,
   "metadata": {},
   "outputs": [
    {
     "data": {
      "text/plain": [
       "' wei shen \\\\ me yao\\\\ zhe \\\\ zyang'"
      ]
     },
     "execution_count": 61,
     "metadata": {},
     "output_type": "execute_result"
    }
   ],
   "source": [
    "s"
   ]
  },
  {
   "cell_type": "code",
   "execution_count": 62,
   "metadata": {},
   "outputs": [
    {
     "name": "stdout",
     "output_type": "stream",
     "text": [
      " wei shen \\ me yao\\ zhe \\ zyang\n"
     ]
    }
   ],
   "source": [
    "s=r' wei shen \\ me yao\\ zhe \\ zyang'\n",
    "print(s)"
   ]
  },
  {
   "cell_type": "code",
   "execution_count": 74,
   "metadata": {},
   "outputs": [
    {
     "data": {
      "text/plain": [
       "'all study no play makes Jack a dull boy'"
      ]
     },
     "execution_count": 74,
     "metadata": {},
     "output_type": "execute_result"
    }
   ],
   "source": [
    "a='all study no play'\n",
    "b=' makes Jack a dull boy'\n",
    "a+b"
   ]
  },
  {
   "cell_type": "code",
   "execution_count": 70,
   "metadata": {},
   "outputs": [
    {
     "name": "stdout",
     "output_type": "stream",
     "text": [
      "Jan\n",
      "Feb\n",
      "Mar\n",
      "Apr\n",
      "May\n",
      "Jun\n",
      "Jul\n",
      "Aug\n"
     ]
    }
   ],
   "source": [
    "months = \"Jan\\nFeb\\nMar\\nApr\\nMay\\nJun\\nJul\\nAug\"\n",
    "print(months)"
   ]
  },
  {
   "cell_type": "code",
   "execution_count": 72,
   "metadata": {},
   "outputs": [
    {
     "name": "stdout",
     "output_type": "stream",
     "text": [
      "makes Jack\n",
      "a dull boy\n"
     ]
    }
   ],
   "source": [
    "print(\"makes Jack\\na dull boy\")"
   ]
  },
  {
   "cell_type": "code",
   "execution_count": 80,
   "metadata": {},
   "outputs": [],
   "source": [
    "template='{0:.2f} {1:s} are worth US${2:d}'"
   ]
  },
  {
   "cell_type": "code",
   "execution_count": 81,
   "metadata": {},
   "outputs": [
    {
     "data": {
      "text/plain": [
       "'{0:.2f} {1:s} are worth US${2:d}'"
      ]
     },
     "execution_count": 81,
     "metadata": {},
     "output_type": "execute_result"
    }
   ],
   "source": [
    "template"
   ]
  },
  {
   "cell_type": "code",
   "execution_count": 82,
   "metadata": {},
   "outputs": [
    {
     "data": {
      "text/plain": [
       "'4.56 Agent Ps are worth US$4'"
      ]
     },
     "execution_count": 82,
     "metadata": {},
     "output_type": "execute_result"
    }
   ],
   "source": [
    "template.format(4.5567,'Agent Ps',4)"
   ]
  },
  {
   "cell_type": "code",
   "execution_count": 83,
   "metadata": {},
   "outputs": [
    {
     "data": {
      "text/plain": [
       "NoneType"
      ]
     },
     "execution_count": 83,
     "metadata": {},
     "output_type": "execute_result"
    }
   ],
   "source": [
    "type(None)"
   ]
  },
  {
   "cell_type": "code",
   "execution_count": 84,
   "metadata": {},
   "outputs": [
    {
     "data": {
      "text/plain": [
       "9"
      ]
     },
     "execution_count": 84,
     "metadata": {},
     "output_type": "execute_result"
    }
   ],
   "source": [
    "from datetime import datetime,date,time\n",
    "\n",
    "dt=datetime(2021,1,9,16,54,9)\n",
    "dt.day"
   ]
  },
  {
   "cell_type": "code",
   "execution_count": 85,
   "metadata": {},
   "outputs": [
    {
     "data": {
      "text/plain": [
       "54"
      ]
     },
     "execution_count": 85,
     "metadata": {},
     "output_type": "execute_result"
    }
   ],
   "source": [
    "dt.minute"
   ]
  },
  {
   "cell_type": "code",
   "execution_count": 86,
   "metadata": {},
   "outputs": [
    {
     "data": {
      "text/plain": [
       "datetime.date(2021, 1, 9)"
      ]
     },
     "execution_count": 86,
     "metadata": {},
     "output_type": "execute_result"
    }
   ],
   "source": [
    "dt.date()"
   ]
  },
  {
   "cell_type": "code",
   "execution_count": 89,
   "metadata": {},
   "outputs": [
    {
     "data": {
      "text/plain": [
       "datetime.time(16, 54, 9)"
      ]
     },
     "execution_count": 89,
     "metadata": {},
     "output_type": "execute_result"
    }
   ],
   "source": [
    "dt.time()"
   ]
  },
  {
   "cell_type": "code",
   "execution_count": 93,
   "metadata": {},
   "outputs": [
    {
     "data": {
      "text/plain": [
       "'01/09/2021 16:54'"
      ]
     },
     "execution_count": 93,
     "metadata": {},
     "output_type": "execute_result"
    }
   ],
   "source": [
    "dt.strftime('%m/%d/%Y %H:%M')"
   ]
  },
  {
   "cell_type": "code",
   "execution_count": 94,
   "metadata": {},
   "outputs": [
    {
     "data": {
      "text/plain": [
       "datetime.datetime(2020, 10, 23, 0, 0)"
      ]
     },
     "execution_count": 94,
     "metadata": {},
     "output_type": "execute_result"
    }
   ],
   "source": [
    "dt='20201023'\n",
    "datetime.strptime(dt,'%Y%m%d')"
   ]
  },
  {
   "cell_type": "code",
   "execution_count": 97,
   "metadata": {},
   "outputs": [
    {
     "name": "stdout",
     "output_type": "stream",
     "text": [
      "it's negative\n"
     ]
    }
   ],
   "source": [
    "x=-8\n",
    "if x<0:\n",
    "    print('it\\'s negative')"
   ]
  },
  {
   "cell_type": "code",
   "execution_count": 96,
   "metadata": {},
   "outputs": [],
   "source": [
    "x=-9"
   ]
  },
  {
   "cell_type": "code",
   "execution_count": 98,
   "metadata": {},
   "outputs": [
    {
     "name": "stdout",
     "output_type": "stream",
     "text": [
      "It's negative   \n"
     ]
    }
   ],
   "source": [
    "x=-7\n",
    "\n",
    "if x<0:\n",
    "    print('It\\'s negative   ')\n",
    "elif x==0:\n",
    "    print('equal to zero')\n",
    "elif 0<x<5:\n",
    "    print(\"positive but smaller than 5\")\n",
    "else:\n",
    "    print('positive and lager than 5')\n",
    "\n",
    "\n"
   ]
  },
  {
   "cell_type": "code",
   "execution_count": null,
   "metadata": {},
   "outputs": [],
   "source": []
  }
 ],
 "metadata": {
  "kernelspec": {
   "display_name": "Python 3",
   "language": "python",
   "name": "python3"
  },
  "language_info": {
   "codemirror_mode": {
    "name": "ipython",
    "version": 3
   },
   "file_extension": ".py",
   "mimetype": "text/x-python",
   "name": "python",
   "nbconvert_exporter": "python",
   "pygments_lexer": "ipython3",
   "version": "3.8.5"
  }
 },
 "nbformat": 4,
 "nbformat_minor": 4
}
