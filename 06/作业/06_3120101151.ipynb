{
 "cells": [
  {
   "cell_type": "code",
   "execution_count": 1,
   "metadata": {},
   "outputs": [
    {
     "name": "stdout",
     "output_type": "stream",
     "text": [
      "元素在数组中的索引为 3\n"
     ]
    }
   ],
   "source": [
    "def binarySearch (arr, l, r, x): \n",
    "  \n",
    "    # 基本判断\n",
    "    if r >= l: \n",
    "  \n",
    "        mid = int(l + (r - l)/2)\n",
    "  \n",
    "        # 元素整好的中间位置\n",
    "        if arr[mid] == x: \n",
    "            return mid \n",
    "          \n",
    "        # 元素小于中间位置的元素，只需要再比较左边的元素\n",
    "        elif arr[mid] > x: \n",
    "            return binarySearch(arr, l, mid-1, x) \n",
    "  \n",
    "        # 元素大于中间位置的元素，只需要再比较右边的元素\n",
    "        else: \n",
    "            return binarySearch(arr, mid+1, r, x) \n",
    "  \n",
    "    else: \n",
    "        # 不存在\n",
    "        return -1\n",
    "  \n",
    "# 测试数组\n",
    "arr = [ 2, 3, 4, 10, 40 ] \n",
    "x = 10\n",
    "  \n",
    "# 函数调用\n",
    "result = binarySearch(arr, 0, len(arr)-1, x) \n",
    "  \n",
    "if result != -1: \n",
    "    print (\"元素在数组中的索引为 %d\" % result )\n",
    "else: \n",
    "    print (\"元素不在数组中\")"
   ]
  },
  {
   "cell_type": "code",
   "execution_count": 2,
   "metadata": {},
   "outputs": [
    {
     "name": "stdout",
     "output_type": "stream",
     "text": [
      "元素在数组中的索引为 3\n"
     ]
    }
   ],
   "source": [
    "def search(arr, n, x): \n",
    "  \n",
    "    for i in range (0, n): \n",
    "        if (arr[i] == x): \n",
    "            return i; \n",
    "    return -1; \n",
    "  \n",
    "# 在数组 arr 中查找字符 D\n",
    "arr = [ 'A', 'B', 'C', 'D', 'E' ]; \n",
    "x = 'D'; \n",
    "n = len(arr); \n",
    "result = search(arr, n, x) \n",
    "if(result == -1): \n",
    "    print(\"元素不在数组中\") \n",
    "else: \n",
    "    print(\"元素在数组中的索引为\", result);"
   ]
  },
  {
   "cell_type": "code",
   "execution_count": 3,
   "metadata": {},
   "outputs": [
    {
     "name": "stdin",
     "output_type": "stream",
     "text": [
      "Number:\t 5\n"
     ]
    },
    {
     "name": "stdout",
     "output_type": "stream",
     "text": [
      "Find number 5 in place 2.\n"
     ]
    }
   ],
   "source": [
    "def LinearSearch(list):\n",
    "    num = int(input('Number:\\t'))\n",
    "    counter = 0\n",
    "    null = 0\n",
    "\n",
    "    for i in list:\n",
    "        if i == num:\n",
    "            print('Find number {} in place {}.'.format(num, counter))\n",
    "        else:\n",
    "            null += 1\n",
    "        counter += 1\n",
    "    if null == counter:\n",
    "        print('Don\\'t find it.')\n",
    "\n",
    "list = [1, 2, 5, 7, 8, 34, 567, -1, 0, -1, -3, -9, 0]\n",
    "LinearSearch(list)"
   ]
  },
  {
   "cell_type": "code",
   "execution_count": 4,
   "metadata": {},
   "outputs": [
    {
     "name": "stdout",
     "output_type": "stream",
     "text": [
      "[11, 23, 48, 49, 50, 51, 54, 56, 57, 64, 70, 75, 81, 91, 92]\n",
      "4\n"
     ]
    }
   ],
   "source": [
    "def LinearSearch(num=50):\n",
    "    import random\n",
    "    random.seed(888)\n",
    "    data = []\n",
    "    for i in range(15):\n",
    "        data.append(random.randint(1, 100))\n",
    "    data.sort()\n",
    "    print(data)\n",
    "    for i in range(0,len(data)):\n",
    "        if data[i]==num:\n",
    "            print(i)\n",
    "            break\n",
    "    else:\n",
    "        print('查无此数')\n",
    "LinearSearch()"
   ]
  },
  {
   "cell_type": "code",
   "execution_count": 5,
   "metadata": {},
   "outputs": [
    {
     "name": "stdout",
     "output_type": "stream",
     "text": [
      "排序后的数组:\n",
      "5\n",
      "6\n",
      "11\n",
      "12\n",
      "13\n"
     ]
    }
   ],
   "source": [
    "def insertionSort(arr): \n",
    "  \n",
    "    for i in range(1, len(arr)): \n",
    "  \n",
    "        key = arr[i] \n",
    "  \n",
    "        j = i-1\n",
    "        while j >=0 and key < arr[j] : \n",
    "                arr[j+1] = arr[j] \n",
    "                j -= 1\n",
    "        arr[j+1] = key \n",
    "  \n",
    "  \n",
    "arr = [12, 11, 13, 5, 6] \n",
    "insertionSort(arr) \n",
    "print (\"排序后的数组:\") \n",
    "for i in range(len(arr)): \n",
    "    print (\"%d\" %arr[i])"
   ]
  },
  {
   "cell_type": "code",
   "execution_count": 6,
   "metadata": {},
   "outputs": [
    {
     "name": "stdin",
     "output_type": "stream",
     "text": [
      "Numbers:(split by spaces)\t 153\n"
     ]
    },
    {
     "name": "stdout",
     "output_type": "stream",
     "text": [
      "排序前数组：[6, 4, 45, -2, -1, 2, 4, 0, 1, 2, 3, 4, 5, 6, -4, -6, 7, 8, 8, 34, 0, 153].\n",
      "排序后数组：[-6, -4, -2, -1, 0, 0, 1, 2, 2, 3, 4, 4, 4, 5, 6, 6, 7, 8, 8, 34, 45, 153].\n"
     ]
    }
   ],
   "source": [
    "# 一次往数组添加多个数字\n",
    "def AppendNumbers(array):\n",
    "    num = input('Numbers:(split by spaces)\\t').split()\n",
    "    for i in num:\n",
    "        array.append(int(i))\n",
    "    print('排序前数组：{}.'.format(array))\n",
    "\n",
    "def InsertionSort(array):\n",
    "    AppendNumbers(array)  # 添加\n",
    "\n",
    "    list = []\n",
    "    while True:\n",
    "        for i in array:\n",
    "            minimum = min(array)\n",
    "            if i == minimum:\n",
    "                list.append(i)\n",
    "                array.remove(i)  # 删去最小值\n",
    "\n",
    "        if array == []:\n",
    "            break\n",
    "\n",
    "    print('排序后数组：{}.'.format(list))\n",
    "\n",
    "array = [6, 4, 45, -2, -1, 2, 4, 0, 1, 2, 3, 4, 5, 6, -4, -6,  7, 8, 8, 34, 0]\n",
    "InsertionSort(array)"
   ]
  },
  {
   "cell_type": "code",
   "execution_count": 7,
   "metadata": {},
   "outputs": [
    {
     "name": "stdout",
     "output_type": "stream",
     "text": [
      "[11, 56, 75, 57, 64, 50, 81, 48, 70, 54, 23, 91, 51, 92, 49]\n",
      "[11, 23, 48, 49, 50, 51, 54, 56, 57, 64, 70, 75, 81, 91, 92]\n"
     ]
    }
   ],
   "source": [
    "def insertionSort():\n",
    "    import random\n",
    "    random.seed(888)\n",
    "    data=[]\n",
    "    for i in range(15):\n",
    "        data.append(random.randint(1, 100))\n",
    "    print(data)\n",
    "    for i in range(1,len(data)):\n",
    "        temp=data[i]\n",
    "        for j in reversed(range(i)):\n",
    "            if temp<data[j]:\n",
    "                data[j+1],data[j]=data[j],temp\n",
    "    print(data)\n",
    "insertionSort()"
   ]
  },
  {
   "cell_type": "code",
   "execution_count": 8,
   "metadata": {},
   "outputs": [
    {
     "name": "stdout",
     "output_type": "stream",
     "text": [
      "排序后的数组:\n",
      "1\n",
      "5\n",
      "7\n",
      "8\n",
      "9\n",
      "10\n"
     ]
    }
   ],
   "source": [
    "def partition(arr,low,high): \n",
    "    i = ( low-1 )         # 最小元素索引\n",
    "    pivot = arr[high]     \n",
    "  \n",
    "    for j in range(low , high): \n",
    "  \n",
    "        # 当前元素小于或等于 pivot \n",
    "        if   arr[j] <= pivot: \n",
    "          \n",
    "            i = i+1 \n",
    "            arr[i],arr[j] = arr[j],arr[i] \n",
    "  \n",
    "    arr[i+1],arr[high] = arr[high],arr[i+1] \n",
    "    return ( i+1 ) \n",
    "  \n",
    " \n",
    "# arr[] --> 排序数组\n",
    "# low  --> 起始索引\n",
    "# high  --> 结束索引\n",
    "  \n",
    "# 快速排序函数\n",
    "def quickSort(arr,low,high): \n",
    "    if low < high: \n",
    "  \n",
    "        pi = partition(arr,low,high) \n",
    "  \n",
    "        quickSort(arr, low, pi-1) \n",
    "        quickSort(arr, pi+1, high) \n",
    "  \n",
    "arr = [10, 7, 8, 9, 1, 5] \n",
    "n = len(arr) \n",
    "quickSort(arr,0,n-1) \n",
    "print (\"排序后的数组:\") \n",
    "for i in range(n): \n",
    "    print (\"%d\" %arr[i]),"
   ]
  },
  {
   "cell_type": "code",
   "execution_count": 9,
   "metadata": {},
   "outputs": [
    {
     "name": "stdout",
     "output_type": "stream",
     "text": [
      "[1, 3, 5, 6, 8, 19]\n"
     ]
    }
   ],
   "source": [
    "def quicksort(arr):    \n",
    "    if len(arr) <= 1:        \n",
    "        return arr    \n",
    "    pivot = arr[len(arr) // 2]    \n",
    "    left = [x for x in arr if x < pivot]    \n",
    "    middle = [x for x in arr if x == pivot]    \n",
    "    right = [x for x in arr if x > pivot]    \n",
    "    return quicksort(left) + middle + quicksort(right)\n",
    "print(quicksort([3, 6, 8, 19, 1, 5]))  # [1，3, 5, 6, 8, 19]"
   ]
  },
  {
   "cell_type": "code",
   "execution_count": 13,
   "metadata": {},
   "outputs": [
    {
     "name": "stdout",
     "output_type": "stream",
     "text": [
      "原始数据： [1, 4, 5, 2, 41, 4, 24, 5]\n",
      "排序后的数据： [1, 2, 4, 5, 24, 41]\n"
     ]
    }
   ],
   "source": [
    "def quickSort(arr):\n",
    "    if(len(arr)<2): #不用进行排序\n",
    "        return arr\n",
    "    else:\n",
    "        pivot=arr[0]\n",
    "        less=[i for i in arr[1:] if(i<pivot)]\n",
    "        great=[i for i in arr[1:] if(i>pivot)]\n",
    "        return quickSort(less)+[pivot]+quickSort(great)\n",
    "arr=[1,4,5,2,41,4,24,5]\n",
    "print(\"原始数据：\",arr)\n",
    "print(\"排序后的数据：\",quickSort(arr))"
   ]
  },
  {
   "cell_type": "code",
   "execution_count": 14,
   "metadata": {},
   "outputs": [
    {
     "name": "stdout",
     "output_type": "stream",
     "text": [
      "排序后的数组:\n",
      "11\n",
      "12\n",
      "22\n",
      "25\n",
      "34\n",
      "64\n",
      "90\n"
     ]
    }
   ],
   "source": [
    "def bubbleSort(arr):\n",
    "    n = len(arr)\n",
    " \n",
    "    # 遍历所有数组元素\n",
    "    for i in range(n):\n",
    " \n",
    "        # Last i elements are already in place\n",
    "        for j in range(0, n-i-1):\n",
    " \n",
    "            if arr[j] > arr[j+1] :\n",
    "                arr[j], arr[j+1] = arr[j+1], arr[j]\n",
    " \n",
    "arr = [64, 34, 25, 12, 22, 11, 90]\n",
    " \n",
    "bubbleSort(arr)\n",
    " \n",
    "print (\"排序后的数组:\")\n",
    "for i in range(len(arr)):\n",
    "    print (\"%d\" %arr[i]),"
   ]
  },
  {
   "cell_type": "code",
   "execution_count": 15,
   "metadata": {},
   "outputs": [
    {
     "name": "stdout",
     "output_type": "stream",
     "text": [
      "排序前数组：[51, 0, -15, 66, -9, 15, 3, -96, 21, 45, -57, 42]\n",
      "排序后数组：[-96, -57, -15, -9, 0, 3, 15, 21, 42, 45, 51, 66]\n"
     ]
    }
   ],
   "source": [
    "from random import randrange, shuffle\n",
    "\n",
    "def Bubblesort():\n",
    "    array = []\n",
    "\n",
    "    while len(array) < 12:  # 范围内随机取12个数值\n",
    "        array.append(randrange(-99, 101, 3))\n",
    "    shuffle(array)  # 打乱数组\n",
    "\n",
    "    print('排序前数组：{}'.format(array))\n",
    "\n",
    "    for i in range(12):\n",
    "        for j in range(11 - i):\n",
    "            if array[j] > array[j + 1]:  # 遇到较小值前后交换\n",
    "                array[j], array[j + 1] = array[j + 1], array[j]\n",
    "\n",
    "    print('排序后数组：{}'.format(array))\n",
    "\n",
    "Bubblesort()"
   ]
  },
  {
   "cell_type": "code",
   "execution_count": null,
   "metadata": {},
   "outputs": [],
   "source": []
  }
 ],
 "metadata": {
  "kernelspec": {
   "display_name": "Python 3",
   "language": "python",
   "name": "python3"
  },
  "language_info": {
   "codemirror_mode": {
    "name": "ipython",
    "version": 3
   },
   "file_extension": ".py",
   "mimetype": "text/x-python",
   "name": "python",
   "nbconvert_exporter": "python",
   "pygments_lexer": "ipython3",
   "version": "3.8.5"
  }
 },
 "nbformat": 4,
 "nbformat_minor": 4
}
