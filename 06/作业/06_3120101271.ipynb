{
 "cells": [
  {
   "cell_type": "code",
   "execution_count": 3,
   "metadata": {},
   "outputs": [
    {
     "name": "stdout",
     "output_type": "stream",
     "text": [
      "排序后\n",
      "5\n",
      "6\n",
      "7\n",
      "11\n",
      "12\n",
      "13\n"
     ]
    }
   ],
   "source": [
    "# 堆排序\n",
    "def heapify(arr, n, i): \n",
    "    largest = i  \n",
    "    l = 2 * i + 1     # left = 2*i + 1 \n",
    "    r = 2 * i + 2     # right = 2*i + 2 \n",
    "  \n",
    "    if l < n and arr[i] < arr[l]: \n",
    "        largest = l \n",
    "  \n",
    "    if r < n and arr[largest] < arr[r]: \n",
    "        largest = r \n",
    "  \n",
    "    if largest != i: \n",
    "        arr[i],arr[largest] = arr[largest],arr[i]  # 交换\n",
    "  \n",
    "        heapify(arr, n, largest) \n",
    "\n",
    "\n",
    "def heapSort(arr): \n",
    "    n = len(arr) \n",
    "  \n",
    "    # Build a maxheap. \n",
    "    for i in range(n, -1, -1): \n",
    "        heapify(arr, n, i) \n",
    "  \n",
    "    # 一个个交换元素\n",
    "    for i in range(n-1, 0, -1): \n",
    "        arr[i], arr[0] = arr[0], arr[i]   # 交换\n",
    "        heapify(arr, i, 0) \n",
    "\n",
    "\n",
    "arr = [ 12, 11, 13, 5, 6, 7] \n",
    "heapSort(arr) \n",
    "n = len(arr) \n",
    "print (\"排序后\") \n",
    "for i in range(n): \n",
    "    print (\"%d\" %arr[i])"
   ]
  },
  {
   "cell_type": "code",
   "execution_count": 4,
   "metadata": {},
   "outputs": [
    {
     "name": "stdout",
     "output_type": "stream",
     "text": [
      "给定的数组\n",
      "12\n",
      "11\n",
      "13\n",
      "5\n",
      "6\n",
      "7\n",
      "\n",
      "\n",
      "排序后的数组\n",
      "5\n",
      "6\n",
      "7\n",
      "11\n",
      "12\n",
      "13\n"
     ]
    }
   ],
   "source": [
    "# 归并排序\n",
    "def merge(arr, l, m, r): \n",
    "    n1 = m - l + 1\n",
    "    n2 = r- m \n",
    "  \n",
    "    # 创建临时数组\n",
    "    L = [0] * (n1)\n",
    "    R = [0] * (n2)\n",
    "  \n",
    "    # 拷贝数据到临时数组 arrays L[] 和 R[] \n",
    "    for i in range(0 , n1): \n",
    "        L[i] = arr[l + i] \n",
    "  \n",
    "    for j in range(0 , n2): \n",
    "        R[j] = arr[m + 1 + j] \n",
    "  \n",
    "    # 归并临时数组到 arr[l..r] \n",
    "    i = 0     # 初始化第一个子数组的索引\n",
    "    j = 0     # 初始化第二个子数组的索引\n",
    "    k = l     # 初始归并子数组的索引\n",
    "  \n",
    "    while i < n1 and j < n2 : \n",
    "        if L[i] <= R[j]: \n",
    "            arr[k] = L[i] \n",
    "            i += 1\n",
    "        else: \n",
    "            arr[k] = R[j] \n",
    "            j += 1\n",
    "        k += 1\n",
    "  \n",
    "    # 拷贝 L[] 的保留元素\n",
    "    while i < n1: \n",
    "        arr[k] = L[i] \n",
    "        i += 1\n",
    "        k += 1\n",
    "  \n",
    "    # 拷贝 R[] 的保留元素\n",
    "    while j < n2: \n",
    "        arr[k] = R[j] \n",
    "        j += 1\n",
    "        k += 1\n",
    "\n",
    "        \n",
    "def mergeSort(arr,l,r): \n",
    "    if l < r: \n",
    "  \n",
    "        \n",
    "        m = int((l+(r-1))/2)\n",
    "  \n",
    "       \n",
    "        mergeSort(arr, l, m) \n",
    "        mergeSort(arr, m+1, r) \n",
    "        merge(arr, l, m, r) \n",
    "  \n",
    "  \n",
    "arr = [12, 11, 13, 5, 6, 7] \n",
    "n = len(arr) \n",
    "print (\"给定的数组\") \n",
    "for i in range(n): \n",
    "    print (\"%d\" %arr[i])\n",
    "\n",
    "    \n",
    "mergeSort(arr,0,n-1) \n",
    "print (\"\\n\\n排序后的数组\") \n",
    "for i in range(n): \n",
    "    print (\"%d\" %arr[i])"
   ]
  },
  {
   "cell_type": "code",
   "execution_count": 5,
   "metadata": {},
   "outputs": [
    {
     "name": "stdout",
     "output_type": "stream",
     "text": [
      "按键(key)排序:\n",
      "(1, 2) (2, 56) (3, 323) (4, 24) (5, 12) (6, 18) "
     ]
    }
   ],
   "source": [
    "# 按键排序\n",
    "def dictionairy():  \n",
    "\n",
    "    # 声明字典\n",
    "    key_value ={}     \n",
    "\n",
    "    # 初始化\n",
    "    key_value[2] = 56       \n",
    "    key_value[1] = 2 \n",
    "    key_value[5] = 12 \n",
    "    key_value[4] = 24\n",
    "    key_value[6] = 18      \n",
    "    key_value[3] = 323 \n",
    "\n",
    "    print (\"按键(key)排序:\")   \n",
    "\n",
    "    # sorted(key_value) 返回重新排序的列表\n",
    "    # 字典按键排序\n",
    "    for i in sorted (key_value) : \n",
    "        print ((i, key_value[i]), end =\" \") \n",
    "\n",
    "def main(): \n",
    "    # 调用函数\n",
    "    dictionairy()              \n",
    "\n",
    "# 主函数\n",
    "if __name__==\"__main__\":      \n",
    "    main()"
   ]
  },
  {
   "cell_type": "code",
   "execution_count": 6,
   "metadata": {},
   "outputs": [
    {
     "name": "stdout",
     "output_type": "stream",
     "text": [
      "按值(value)排序:\n",
      "[(1, 2), (5, 12), (6, 18), (4, 24), (2, 56), (3, 323)]\n"
     ]
    }
   ],
   "source": [
    "# 按值（value）排序\n",
    "def dictionairy():  \n",
    "\n",
    "    # 声明字典\n",
    "    key_value ={}     \n",
    "\n",
    "    # 初始化\n",
    "    key_value[2] = 56       \n",
    "    key_value[1] = 2 \n",
    "    key_value[5] = 12 \n",
    "    key_value[4] = 24\n",
    "    key_value[6] = 18      \n",
    "    key_value[3] = 323 \n",
    "\n",
    "\n",
    "    print (\"按值(value)排序:\")   \n",
    "    print(sorted(key_value.items(), key = lambda kv:(kv[1], kv[0])))     \n",
    "\n",
    "def main(): \n",
    "    dictionairy()             \n",
    "\n",
    "if __name__==\"__main__\":       \n",
    "    main()"
   ]
  },
  {
   "cell_type": "code",
   "execution_count": 7,
   "metadata": {},
   "outputs": [
    {
     "name": "stdout",
     "output_type": "stream",
     "text": [
      "列表通过 age 升序排序: \n",
      "[{'name': 'Runoob', 'age': 7}, {'name': 'Taobao', 'age': 100}, {'name': 'Google', 'age': 100}, {'name': 'Wiki', 'age': 200}]\n",
      "\n",
      "列表通过 age 和 name 排序: \n",
      "[{'name': 'Runoob', 'age': 7}, {'name': 'Google', 'age': 100}, {'name': 'Taobao', 'age': 100}, {'name': 'Wiki', 'age': 200}]\n",
      "\n",
      "列表通过 age 降序排序: \n",
      "[{'name': 'Wiki', 'age': 200}, {'name': 'Taobao', 'age': 100}, {'name': 'Google', 'age': 100}, {'name': 'Runoob', 'age': 7}]\n"
     ]
    }
   ],
   "source": [
    "# 字典列表排序\n",
    "lis = [{ \"name\" : \"Taobao\", \"age\" : 100},  \n",
    "{ \"name\" : \"Runoob\", \"age\" : 7 }, \n",
    "{ \"name\" : \"Google\", \"age\" : 100 }, \n",
    "{ \"name\" : \"Wiki\" , \"age\" : 200 }] \n",
    "\n",
    "# 通过 age 升序排序\n",
    "print (\"列表通过 age 升序排序: \")\n",
    "print (sorted(lis, key = lambda i: i['age']) )\n",
    "\n",
    "print (\"\\r\") \n",
    "\n",
    "# 先按 age 排序，再按 name 排序\n",
    "print (\"列表通过 age 和 name 排序: \")\n",
    "print (sorted(lis, key = lambda i: (i['age'], i['name'])) )\n",
    "\n",
    "print (\"\\r\") \n",
    "\n",
    "# 按 age 降序排序\n",
    "print (\"列表通过 age 降序排序: \")\n",
    "print (sorted(lis, key = lambda i: i['age'],reverse=True) )"
   ]
  },
  {
   "cell_type": "code",
   "execution_count": 9,
   "metadata": {},
   "outputs": [
    {
     "name": "stdout",
     "output_type": "stream",
     "text": [
      "Sum : 600\n"
     ]
    }
   ],
   "source": [
    "def returnSum(myDict): \n",
    "\n",
    "    sum = 0\n",
    "    for i in myDict: \n",
    "        sum = sum + myDict[i] \n",
    "\n",
    "    return sum\n",
    "\n",
    "dict = {'a': 100, 'b':200, 'c':300} \n",
    "print(\"Sum :\", returnSum(dict))"
   ]
  },
  {
   "cell_type": "code",
   "execution_count": 10,
   "metadata": {},
   "outputs": [
    {
     "name": "stdout",
     "output_type": "stream",
     "text": [
      "字典移除前 : {'Runoob': 1, 'Google': 2, 'Taobao': 3, 'Zhihu': 4}\n",
      "字典移除后 : {'Runoob': 1, 'Google': 2, 'Taobao': 3}\n"
     ]
    }
   ],
   "source": [
    "test_dict = {\"Runoob\" : 1, \"Google\" : 2, \"Taobao\" : 3, \"Zhihu\" : 4} \n",
    "\n",
    "# 输出原始的字典\n",
    "print (\"字典移除前 : \" + str(test_dict)) \n",
    "\n",
    "# 使用 del 移除 Zhihu\n",
    "del test_dict['Zhihu'] \n",
    "\n",
    "# 输出移除后的字典\n",
    "print (\"字典移除后 : \" + str(test_dict)) \n",
    "\n",
    "# 移除没有的 key 会报错\n",
    "#del test_dict['Baidu']"
   ]
  },
  {
   "cell_type": "code",
   "execution_count": 11,
   "metadata": {},
   "outputs": [
    {
     "name": "stdout",
     "output_type": "stream",
     "text": [
      "字典移除前 : {'Runoob': 1, 'Google': 2, 'Taobao': 3, 'Zhihu': 4}\n",
      "字典移除后 : {'Runoob': 1, 'Google': 2, 'Taobao': 3}\n",
      "移除的 key 对应的 value 为 : 4\n",
      "\n",
      "字典移除后 : {'Runoob': 1, 'Google': 2, 'Taobao': 3}\n",
      "移除的值为 : 没有该键(key)\n"
     ]
    }
   ],
   "source": [
    "test_dict = {\"Runoob\" : 1, \"Google\" : 2, \"Taobao\" : 3, \"Zhihu\" : 4} \n",
    "\n",
    "# 输出原始的字典\n",
    "print (\"字典移除前 : \" + str(test_dict)) \n",
    "\n",
    "# 使用 pop 移除 Zhihu\n",
    "removed_value = test_dict.pop('Zhihu') \n",
    "\n",
    "# 输出移除后的字典\n",
    "print (\"字典移除后 : \" + str(test_dict)) \n",
    "\n",
    "print (\"移除的 key 对应的 value 为 : \" + str(removed_value)) \n",
    "\n",
    "print ('\\r') \n",
    "\n",
    "# 使用 pop() 移除没有的 key 不会发生异常，我们可以自定义提示信息\n",
    "removed_value = test_dict.pop('Baidu', '没有该键(key)') \n",
    "\n",
    "# 输出移除后的字典\n",
    "print (\"字典移除后 : \" + str(test_dict)) \n",
    "print (\"移除的值为 : \" + str(removed_value))"
   ]
  },
  {
   "cell_type": "code",
   "execution_count": 12,
   "metadata": {},
   "outputs": [
    {
     "name": "stdout",
     "output_type": "stream",
     "text": [
      "字典移除前 : {'Runoob': 1, 'Google': 2, 'Taobao': 3, 'Zhihu': 4}\n",
      "字典移除后 : {'Runoob': 1, 'Google': 2, 'Taobao': 3}\n"
     ]
    }
   ],
   "source": [
    "test_dict = {\"Runoob\" : 1, \"Google\" : 2, \"Taobao\" : 3, \"Zhihu\" : 4} \n",
    "\n",
    "# 输出原始的字典\n",
    "print (\"字典移除前 : \" + str(test_dict)) \n",
    "\n",
    "# 使用 pop 移除 Zhihu\n",
    "new_dict = {key:val for key, val in test_dict.items() if key != 'Zhihu'} \n",
    "\n",
    "\n",
    "# 输出移除后的字典\n",
    "print (\"字典移除后 : \" + str(new_dict))"
   ]
  },
  {
   "cell_type": "code",
   "execution_count": 13,
   "metadata": {},
   "outputs": [
    {
     "name": "stdout",
     "output_type": "stream",
     "text": [
      "字符数组排序 bcmnoooruwww\n"
     ]
    }
   ],
   "source": [
    "# 计数排序\n",
    "def countSort(arr): \n",
    "  \n",
    "    output = [0 for i in range(256)] \n",
    "  \n",
    "    count = [0 for i in range(256)] \n",
    "  \n",
    "    ans = [\"\" for _ in arr] \n",
    "  \n",
    "    for i in arr: \n",
    "        count[ord(i)] += 1\n",
    "  \n",
    "    for i in range(256): \n",
    "        count[i] += count[i-1] \n",
    "  \n",
    "    for i in range(len(arr)): \n",
    "        output[count[ord(arr[i])]-1] = arr[i] \n",
    "        count[ord(arr[i])] -= 1\n",
    "  \n",
    "    for i in range(len(arr)): \n",
    "        ans[i] = output[i] \n",
    "    return ans  \n",
    "  \n",
    "arr = \"wwwrunoobcom\"\n",
    "ans = countSort(arr) \n",
    "print ( \"字符数组排序 %s\"  %(\"\".join(ans)) )"
   ]
  },
  {
   "cell_type": "code",
   "execution_count": 14,
   "metadata": {},
   "outputs": [
    {
     "name": "stdout",
     "output_type": "stream",
     "text": [
      "排序前:\n",
      "12\n",
      "34\n",
      "54\n",
      "2\n",
      "3\n",
      "\n",
      "排序后:\n",
      "2\n",
      "3\n",
      "12\n",
      "34\n",
      "54\n"
     ]
    }
   ],
   "source": [
    "# 希尔排序\n",
    "def shellSort(arr): \n",
    "  \n",
    "    n = len(arr)\n",
    "    gap = int(n/2)\n",
    "  \n",
    "    while gap > 0: \n",
    "  \n",
    "        for i in range(gap,n): \n",
    "  \n",
    "            temp = arr[i] \n",
    "            j = i \n",
    "            while  j >= gap and arr[j-gap] >temp: \n",
    "                arr[j] = arr[j-gap] \n",
    "                j -= gap \n",
    "            arr[j] = temp \n",
    "        gap = int(gap/2)\n",
    "\n",
    "arr = [ 12, 34, 54, 2, 3] \n",
    "\n",
    "n = len(arr) \n",
    "print (\"排序前:\") \n",
    "for i in range(n): \n",
    "    print(arr[i]), \n",
    "\n",
    "shellSort(arr) \n",
    "  \n",
    "print (\"\\n排序后:\") \n",
    "for i in range(n): \n",
    "    print(arr[i]),"
   ]
  },
  {
   "cell_type": "code",
   "execution_count": 15,
   "metadata": {},
   "outputs": [
    {
     "name": "stdout",
     "output_type": "stream",
     "text": [
      "拓扑排序结果：\n",
      "[5, 4, 2, 3, 1, 0]\n"
     ]
    }
   ],
   "source": [
    "# 拓扑排序\n",
    "from collections import defaultdict \n",
    "\n",
    "class Graph: \n",
    "    def __init__(self,vertices): \n",
    "        self.graph = defaultdict(list) \n",
    "        self.V = vertices\n",
    "\n",
    "    def addEdge(self,u,v): \n",
    "        self.graph[u].append(v) \n",
    "\n",
    "    def topologicalSortUtil(self,v,visited,stack): \n",
    "\n",
    "        visited[v] = True\n",
    "\n",
    "        for i in self.graph[v]: \n",
    "            if visited[i] == False: \n",
    "                self.topologicalSortUtil(i,visited,stack) \n",
    "\n",
    "        stack.insert(0,v) \n",
    "  \n",
    "    def topologicalSort(self): \n",
    "        visited = [False]*self.V \n",
    "        stack =[] \n",
    "  \n",
    "        for i in range(self.V): \n",
    "            if visited[i] == False: \n",
    "                self.topologicalSortUtil(i,visited,stack) \n",
    "\n",
    "        print (stack) \n",
    "\n",
    "g= Graph(6) \n",
    "g.addEdge(5, 2); \n",
    "g.addEdge(5, 0); \n",
    "g.addEdge(4, 0); \n",
    "g.addEdge(4, 1); \n",
    "g.addEdge(2, 3); \n",
    "g.addEdge(3, 1); \n",
    "\n",
    "print (\"拓扑排序结果：\")\n",
    "g.topologicalSort()"
   ]
  },
  {
   "cell_type": "code",
   "execution_count": 3,
   "metadata": {},
   "outputs": [
    {
     "name": "stdout",
     "output_type": "stream",
     "text": [
      "排序后的数组：\n",
      "11\n",
      "12\n",
      "22\n",
      "25\n",
      "64\n"
     ]
    }
   ],
   "source": [
    "# 选择排序\n",
    "import sys \n",
    "A = [64, 25, 12, 22, 11] \n",
    "\n",
    "for i in range(len(A)): \n",
    "\n",
    "\n",
    "    min_idx = i \n",
    "    for j in range(i+1, len(A)): \n",
    "        if A[min_idx] > A[j]: \n",
    "            min_idx = j \n",
    "                \n",
    "    A[i], A[min_idx] = A[min_idx], A[i] \n",
    "\n",
    "print (\"排序后的数组：\") \n",
    "for i in range(len(A)): \n",
    "    print(\"%d\" %A[i])"
   ]
  },
  {
   "cell_type": "code",
   "execution_count": null,
   "metadata": {},
   "outputs": [],
   "source": []
  }
 ],
 "metadata": {
  "kernelspec": {
   "display_name": "Python 3",
   "language": "python",
   "name": "python3"
  },
  "language_info": {
   "codemirror_mode": {
    "name": "ipython",
    "version": 3
   },
   "file_extension": ".py",
   "mimetype": "text/x-python",
   "name": "python",
   "nbconvert_exporter": "python",
   "pygments_lexer": "ipython3",
   "version": "3.8.3"
  }
 },
 "nbformat": 4,
 "nbformat_minor": 4
}
