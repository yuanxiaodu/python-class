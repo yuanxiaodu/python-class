{
 "cells": [
  {
   "cell_type": "code",
   "execution_count": 1,
   "metadata": {},
   "outputs": [
    {
     "name": "stdout",
     "output_type": "stream",
     "text": [
      "[ True  True  True  True  True]\n"
     ]
    }
   ],
   "source": [
    "import numpy as np\n",
    "weight = [65.4, 59.2, 63.6, 88.4, 68.7]  #体重列表\n",
    "height = [1.73, 1.68, 1.71, 1.89, 1.79]  #身高列表\n",
    "\n",
    "np_height = np.array(height)\n",
    "np_weight = np.array(weight)\n",
    "bmi = np_weight / np_height ** 2\n",
    "\n",
    "print(bmi>20)"
   ]
  },
  {
   "cell_type": "code",
   "execution_count": 3,
   "metadata": {},
   "outputs": [
    {
     "name": "stdout",
     "output_type": "stream",
     "text": [
      "<class 'numpy.ndarray'>\n",
      "(4, 2)\n",
      "[210.   98.5]\n",
      "[ 78.4 102.7  98.5  75.2]\n",
      "188.0\n",
      "188.0\n"
     ]
    }
   ],
   "source": [
    "# 创建二维列表 baseball, 第一列是身高，第二列是体重\n",
    "baseball = [[180, 78.4],\n",
    "            [215, 102.7],\n",
    "            [210, 98.5],\n",
    "            [188, 75.2]]\n",
    "\n",
    "np_baseball = np.array(baseball)\n",
    "print(type(np_baseball))\n",
    "print(np_baseball.shape)\n",
    "print(np_baseball[2])\n",
    "#打印输出第二列体总数据\n",
    "print(np_baseball[:, 1])\n",
    "#打印输出第4名运动员的身高\n",
    "print(np_baseball[3][0])\n",
    "print(np_baseball[3, 0])"
   ]
  },
  {
   "cell_type": "code",
   "execution_count": 2,
   "metadata": {},
   "outputs": [
    {
     "name": "stdout",
     "output_type": "stream",
     "text": [
      "[191 193 190]\n",
      "[184 185 180 181 187 170 179 183 186 185 170 187 183 173 188 183 180 188\n",
      " 175 180 185 170 183 173 185 185 168]\n",
      "Median height of goalkeepers: 191.0\n"
     ]
    }
   ],
   "source": [
    "import numpy as np\n",
    "positions = ['GK', 'M', 'A', 'D', 'M', 'D', 'M', 'M', 'M', 'A', 'M', 'M', 'A', 'A', 'A', 'M', 'D', 'A', 'D', 'M', 'GK',\n",
    "             'D', 'D', 'M', 'M', 'M', 'M', 'D', 'M', 'GK']\n",
    "heights = [191, 184, 185, 180, 181, 187, 170, 179, 183, 186, 185, 170, 187, 183, 173, 188, 183, 180, 188, 175, 193, 180,\n",
    "           185, 170, 183, 173, 185, 185, 168, 190]\n",
    "\n",
    "# 分别转化成numpy数组: np_positions, np_heights\n",
    "np_positions = np.array(positions)\n",
    "np_heights = np.array(heights)\n",
    "# 将守门员’GK‘的身高数据存入变量 gk_heights\n",
    "gk_heights = np_heights[np_positions == 'GK'] \n",
    "print(gk_heights)\n",
    "# 将守门员之外的其他运动员的身高数据存入变量 other_heights\n",
    "other_heights = np_heights[np_positions != 'GK']\n",
    "print(other_heights)\n",
    "# 守门员身高的中位数\n",
    "print(\"Median height of goalkeepers: \" + str(np.median(gk_heights)))"
   ]
  },
  {
   "cell_type": "code",
   "execution_count": 5,
   "metadata": {},
   "outputs": [
    {
     "name": "stderr",
     "output_type": "stream",
     "text": [
      "D:\\software\\Anaconda3\\lib\\site-packages\\matplotlib\\backends\\backend_agg.py:211: RuntimeWarning: Glyph 23567 missing from current font.\n",
      "  font.set_text(s, 0.0, flags=flags)\n",
      "D:\\software\\Anaconda3\\lib\\site-packages\\matplotlib\\backends\\backend_agg.py:211: RuntimeWarning: Glyph 35797 missing from current font.\n",
      "  font.set_text(s, 0.0, flags=flags)\n",
      "D:\\software\\Anaconda3\\lib\\site-packages\\matplotlib\\backends\\backend_agg.py:211: RuntimeWarning: Glyph 29275 missing from current font.\n",
      "  font.set_text(s, 0.0, flags=flags)\n",
      "D:\\software\\Anaconda3\\lib\\site-packages\\matplotlib\\backends\\backend_agg.py:211: RuntimeWarning: Glyph 20992 missing from current font.\n",
      "  font.set_text(s, 0.0, flags=flags)\n",
      "D:\\software\\Anaconda3\\lib\\site-packages\\matplotlib\\backends\\backend_agg.py:180: RuntimeWarning: Glyph 23567 missing from current font.\n",
      "  font.set_text(s, 0, flags=flags)\n",
      "D:\\software\\Anaconda3\\lib\\site-packages\\matplotlib\\backends\\backend_agg.py:180: RuntimeWarning: Glyph 35797 missing from current font.\n",
      "  font.set_text(s, 0, flags=flags)\n",
      "D:\\software\\Anaconda3\\lib\\site-packages\\matplotlib\\backends\\backend_agg.py:180: RuntimeWarning: Glyph 29275 missing from current font.\n",
      "  font.set_text(s, 0, flags=flags)\n",
      "D:\\software\\Anaconda3\\lib\\site-packages\\matplotlib\\backends\\backend_agg.py:180: RuntimeWarning: Glyph 20992 missing from current font.\n",
      "  font.set_text(s, 0, flags=flags)\n"
     ]
    },
    {
     "data": {
      "image/png": "[encoded data removed]",
      "text/plain": [
       "<Figure size 432x288 with 1 Axes>"
      ]
     },
     "metadata": {
      "needs_background": "light"
     },
     "output_type": "display_data"
    }
   ],
   "source": [
    "import matplotlib.pyplot as plt\n",
    "\n",
    "years = [2010, 2011, 2012, 2013, 2014, 2015, 2016, 2017]\n",
    "GDPs = [256, 289, 302, 356, 389, 400, 402, 436]\n",
    "plt.plot(years, GDPs, color='green', marker='o', linestyle='solid')\n",
    "plt.title('小试牛刀')\n",
    "plt.ylabel('gdp')\n",
    "plt.show()"
   ]
  },
  {
   "cell_type": "code",
   "execution_count": 23,
   "metadata": {},
   "outputs": [
    {
     "name": "stdout",
     "output_type": "stream",
     "text": [
      "VWAP = 350.5895493532009\n",
      "mean = 351.0376666666667\n",
      "twap = 352.4283218390804\n",
      "highest = 364.9\n",
      "lowest = 333.53\n",
      "349.215\n",
      "Spread high price 24.859999999999957\n",
      "Spread low price 26.970000000000027\n"
     ]
    }
   ],
   "source": [
    "# 利用NumPy进行历史股价分析\n",
    "import numpy as np\n",
    "# 读入文件，获取第7和8列字段（收盘价 || 成交量）\n",
    "c, v = np.loadtxt('data.csv', delimiter=',', usecols=(6, 7), unpack=True)\n",
    "\n",
    "# 计算成交量加权平均价格\n",
    "vwap = np.average(c, weights=v)\n",
    "print(\"VWAP =\", vwap)\n",
    "\n",
    "# 算术平均值函数\n",
    "print(\"mean =\", np.mean(c))\n",
    "\n",
    "# 时间加权平均价格，时间近权重大\n",
    "t = np.arange(len(c))\n",
    "print(\"twap =\", np.average(c, weights=t))\n",
    "\n",
    "# 寻找最大值和最小值\n",
    "h, l = np.loadtxt('data.csv', delimiter=',', usecols=(4, 5), unpack=True)\n",
    "print(\"highest =\", np.max(h))\n",
    "print(\"lowest =\", np.min(l))\n",
    "\n",
    "# 最高价最低价平均值\n",
    "print((np.max(h) + np.min(l)) / 2)\n",
    "\n",
    "# 最高价取值范围\n",
    "print(\"Spread high price\", np.ptp(h))\n",
    "# 最低价取值范围\n",
    "print(\"Spread low price\", np.ptp(l))"
   ]
  },
  {
   "cell_type": "code",
   "execution_count": 24,
   "metadata": {},
   "outputs": [
    {
     "name": "stdout",
     "output_type": "stream",
     "text": [
      "median = 352.055\n",
      "sorted = [336.1  338.61 339.32 342.62 342.88 343.44 344.32 345.03 346.5  346.67\n",
      " 348.16 349.31 350.56 351.88 351.99 352.12 352.47 353.21 354.54 355.2\n",
      " 355.36 355.76 356.85 358.16 358.3  359.18 359.56 359.9  360.   363.13]\n",
      "variance = 50.126517888888884\n",
      "variance from definition = 50.126517888888884\n",
      "Standard deviation = 0.012922134436826306\n",
      "Indices with positive returns (array([ 0,  1,  4,  5,  6,  7,  9, 10, 11, 12, 16, 17, 18, 19, 21, 22, 23,\n",
      "       25, 28], dtype=int64),)\n",
      "Annual volatility 129.27478991115132\n",
      "Monthly volatility 37.318417377317765\n"
     ]
    }
   ],
   "source": [
    "# 统计分析\n",
    "c = np.loadtxt('data.csv', delimiter=',', usecols=(6,), unpack=True)\n",
    "# 中位数\n",
    "print(\"median =\", np.median(c))\n",
    "\n",
    "# 排序\n",
    "sorted = np.msort(c)\n",
    "print(\"sorted =\", sorted)\n",
    "\n",
    "# 方差\n",
    "N = len(c)\n",
    "print(\"variance =\", np.var(c))\n",
    "print(\"variance from definition =\", np.mean((c - c.mean()) ** 2))\n",
    "\n",
    "# 股票收益率\n",
    "c = np.loadtxt('data.csv', delimiter=',', usecols=(6,), unpack=True)\n",
    "\n",
    "# 差分，相邻差值\n",
    "returns = np.diff(c) / c[: -1]\n",
    "print(\"Standard deviation =\", np.std(returns))\n",
    "\n",
    "# 对数收益率\n",
    "logreturns = np.diff(np.log(c))\n",
    "posretindices = np.where(returns > 0)  # 收益率大于0\n",
    "print(\"Indices with positive returns\", posretindices)\n",
    "\n",
    "# 年化波动率\n",
    "# 对数收益率标准差/均值\n",
    "annual_volatility = np.std(logreturns) / np.mean(logreturns)\n",
    "# 再/交易日倒数的平方\n",
    "annual_volatility = annual_volatility / np.sqrt(1. / 252.)\n",
    "print(\"Annual volatility\", annual_volatility)\n",
    "\n",
    "# 月度波动率\n",
    "print(\"Monthly volatility\", annual_volatility * np.sqrt(1. / 12.))\n"
   ]
  },
  {
   "cell_type": "code",
   "execution_count": 26,
   "metadata": {},
   "outputs": [
    {
     "name": "stdout",
     "output_type": "stream",
     "text": [
      "Dates = [4. 0. 1. 2. 3. 4. 0. 1. 2. 3. 4. 0. 1. 2. 3. 4. 1. 2. 3. 4. 0. 1. 2. 3.\n",
      " 4. 0. 1. 2. 3. 4.]\n",
      "Day 0 prices [[339.32 351.88 359.18 353.21 355.36]] Average 351.7900000000001\n",
      "Day 1 prices [[345.03 355.2  359.9  338.61 349.31 355.76]] Average 350.63500000000005\n",
      "Day 2 prices [[344.32 358.16 363.13 342.62 352.12 352.47]] Average 352.1366666666666\n",
      "Day 3 prices [[343.44 354.54 358.3  342.88 359.56 346.67]] Average 350.8983333333333\n",
      "Day 4 prices [[336.1  346.5  356.85 350.56 348.16 360.   351.99]] Average 350.0228571428571\n",
      "Highest average 352.1366666666666\n",
      "Top day of the week 2\n",
      "Lowest average 350.0228571428571\n",
      "Bottom day of the week 4\n"
     ]
    }
   ],
   "source": [
    "# 日期分析\n",
    "from datetime import datetime\n",
    "\n",
    "# Monday 0\n",
    "# Tuesday 1\n",
    "# Wednesday 2\n",
    "# Thursday 3\n",
    "# Friday 4\n",
    "# Saturday 5\n",
    "# Sunday 6\n",
    "def datestr2num(s):\n",
    "    return datetime.strptime(s.decode('ascii'), \"%d-%m-%Y\").date().weekday()\n",
    "\n",
    "# 读取日期 || 收盘价\n",
    "dates, close = np.loadtxt('data.csv', delimiter=',', usecols=(1, 6),\n",
    "                          converters={1: datestr2num}, unpack=True)\n",
    "print(\"Dates =\", dates)\n",
    "\n",
    "# 5个工作日数组\n",
    "averages = np.zeros(5)\n",
    "\n",
    "for i in range(5):\n",
    "    indices = np.where(dates == i)\n",
    "    prices = np.take(close, indices)\n",
    "    avg = np.mean(prices)\n",
    "    print(\"Day\", i, \"prices\", prices, \"Average\", avg)\n",
    "    averages[i] = avg\n",
    "\n",
    "top = np.max(averages)\n",
    "print(\"Highest average\", top)\n",
    "print(\"Top day of the week\", np.argmax(averages))\n",
    "\n",
    "bottom = np.min(averages)\n",
    "print(\"Lowest average\", bottom)\n",
    "print(\"Bottom day of the week\", np.argmin(averages))\n"
   ]
  },
  {
   "cell_type": "code",
   "execution_count": 27,
   "metadata": {},
   "outputs": [
    {
     "name": "stdout",
     "output_type": "stream",
     "text": [
      "The first Monday index is 1\n",
      "The last Friday index is 15\n",
      "Weeks indices initial [ 1  2  3  4  5  6  7  8  9 10 11 12 13 14 15]\n",
      "Weeks indices after split [array([1, 2, 3, 4, 5], dtype=int64), array([ 6,  7,  8,  9, 10], dtype=int64), array([11, 12, 13, 14, 15], dtype=int64)]\n"
     ]
    }
   ],
   "source": [
    "\n",
    "# 周汇总\n",
    "def datestr2num(s):\n",
    "    return datetime.strptime(s.decode('ascii'), \"%d-%m-%Y\").date().weekday()\n",
    "\n",
    "\n",
    "# 读取日期 || 开盘价 || 最高价 || 最低价 || 收盘价\n",
    "dates, open, high, low, close = np.loadtxt('data.csv', delimiter=',',\n",
    "                                           usecols=(1, 3, 4, 5, 6), converters={1: datestr2num}, unpack=True)\n",
    "# 前三周数据\n",
    "close = close[:16]\n",
    "dates = dates[:16]\n",
    "\n",
    "# 获取第一个星期一的索引\n",
    "first_monday = np.ravel(np.where(dates == 0))[0]\n",
    "print(\"The first Monday index is\", first_monday)\n",
    "\n",
    "# 获取最后一个星期五的索引\n",
    "last_friday = np.ravel(np.where(dates == 4))[-1]\n",
    "print(\"The last Friday index is\", last_friday)\n",
    "\n",
    "# 重新编排索引\n",
    "weeks_indices = np.arange(first_monday, last_friday + 1)\n",
    "print(\"Weeks indices initial\", weeks_indices)\n",
    "\n",
    "# 三周分成三组\n",
    "weeks_indices = np.split(weeks_indices, 3)\n",
    "print(\"Weeks indices after split\", weeks_indices)"
   ]
  },
  {
   "cell_type": "code",
   "execution_count": 29,
   "metadata": {},
   "outputs": [
    {
     "name": "stdout",
     "output_type": "stream",
     "text": [
      "Week summary [['APPL' '335.8' '346.7' '334.3' '346.5']\n",
      " ['APPL' '347.8' '360.0' '347.6' '356.8']\n",
      " ['APPL' '356.7' '364.9' '349.5' '350.5']]\n",
      "len(h) 20 len(l) 20\n",
      "Close [336.1  339.32 345.03 344.32 343.44 346.5  351.88 355.2  358.16 354.54\n",
      " 356.85 359.18 359.9  363.13 358.3  350.56 338.61 342.62 342.88 348.16\n",
      " 353.21 349.31 352.12 359.56 360.   355.36 355.76 352.47 346.67 351.99]\n",
      "len(previousclose) 20\n",
      "Previous close [354.54 356.85 359.18 359.9  363.13 358.3  350.56 338.61 342.62 342.88\n",
      " 348.16 353.21 349.31 352.12 359.56 360.   355.36 355.76 352.47 346.67]\n",
      "True range [ 4.26  2.77  2.42  5.    3.75  9.98  7.68  6.03  6.78  5.55  6.89  8.04\n",
      "  5.95  7.67  2.54 10.36  5.15  4.16  4.87  7.32]\n",
      "ATR [5.8585     5.704075   5.53987125 5.51287769 5.4247338  5.65249711\n",
      " 5.75387226 5.76767864 5.81829471 5.80487998 5.85913598 5.96817918\n",
      " 5.96727022 6.05240671 5.87678637 6.10094705 6.0533997  5.95872972\n",
      " 5.90429323 5.97507857]\n"
     ]
    }
   ],
   "source": [
    "# 周汇总\n",
    "def summarize(a, o, h, l, c):\n",
    "    monday_open = o[a[0]]\n",
    "    week_high = np.max(np.take(h, a))\n",
    "    week_low = np.min(np.take(l, a))\n",
    "    friday_close = c[a[-1]]\n",
    "    return (\"APPL\", monday_open, week_high, week_low, friday_close)\n",
    "\n",
    "weeksummary = np.apply_along_axis(summarize, 1, weeks_indices, open, high, low, close)\n",
    "print(\"Week summary\", weeksummary)\n",
    "\n",
    "# 保存到CSV文件\n",
    "np.savetxt(\"weeksummary.csv\", weeksummary, delimiter=\",\", fmt=\"%s\")\n",
    "\n",
    "# ATR真实波动幅度均值\n",
    "# 获取最高价 || 最低价 || 收盘价\n",
    "h, l, c = np.loadtxt('data.csv', delimiter=',', usecols=(4, 5, 6), unpack=True)\n",
    "\n",
    "# 获取最后20个数据\n",
    "N = 20\n",
    "h = h[-N:]\n",
    "l = l[-N:]\n",
    "\n",
    "print(\"len(h)\", len(h), \"len(l)\", len(l))\n",
    "print(\"Close\", c)\n",
    "\n",
    "# 最后20个数据的对应的前一天数据\n",
    "previousclose = c[-N - 1: -1]\n",
    "\n",
    "print(\"len(previousclose)\", len(previousclose))\n",
    "print(\"Previous close\", previousclose)\n",
    "\n",
    "# 三种数据差值\n",
    "truerange = np.maximum(h - l, h - previousclose, previousclose - l)\n",
    "print(\"True range\", truerange)\n",
    "\n",
    "# 20天空间数组\n",
    "atr = np.zeros(N)\n",
    "\n",
    "# 真实率浮动平均值\n",
    "atr[0] = np.mean(truerange)\n",
    "\n",
    "# 公式计算ATR\n",
    "for i in range(1, N):\n",
    "    atr[i] = (N - 1) * atr[i - 1] + truerange[i]\n",
    "    atr[i] /= N\n",
    "\n",
    "print(\"ATR\", atr)"
   ]
  },
  {
   "cell_type": "code",
   "execution_count": 33,
   "metadata": {},
   "outputs": [
    {
     "name": "stdout",
     "output_type": "stream",
     "text": [
      "Weights [0.2 0.2 0.2 0.2 0.2]\n"
     ]
    },
    {
     "data": {
      "image/png": "[encoded data removed]",
      "text/plain": [
       "<Figure size 432x288 with 1 Axes>"
      ]
     },
     "metadata": {
      "needs_background": "light"
     },
     "output_type": "display_data"
    }
   ],
   "source": [
    "# 简单移动平均线\n",
    "from matplotlib.pyplot import plot\n",
    "from matplotlib.pyplot import show\n",
    "# 滑动窗口\n",
    "N = 5\n",
    "weights = np.ones(N) / N\n",
    "print(\"Weights\", weights)\n",
    "\n",
    "c = np.loadtxt('data.csv', delimiter=',', usecols=(6,), unpack=True)\n",
    "# 简单移动平均值SMA\n",
    "sma = np.convolve(weights, c)[N - 1:-N + 1]\n",
    "t = np.arange(N - 1, len(c))\n",
    "plot(t, c[N - 1:], lw=1.0)\n",
    "plot(t, sma, lw=2.0)\n",
    "show()"
   ]
  },
  {
   "cell_type": "code",
   "execution_count": 34,
   "metadata": {},
   "outputs": [
    {
     "name": "stdout",
     "output_type": "stream",
     "text": [
      "Exp [ 1.          2.71828183  7.3890561  20.08553692 54.59815003]\n",
      "Linspace [-1.   -0.75 -0.5  -0.25  0.  ]\n",
      "Weights [0.11405072 0.14644403 0.18803785 0.24144538 0.31002201]\n"
     ]
    },
    {
     "data": {
      "image/png": "[encoded data removed]",
      "text/plain": [
       "<Figure size 432x288 with 1 Axes>"
      ]
     },
     "metadata": {
      "needs_background": "light"
     },
     "output_type": "display_data"
    }
   ],
   "source": [
    "# 指数移动平均线\n",
    "x = np.arange(5)\n",
    "print(\"Exp\", np.exp(x))\n",
    "print(\"Linspace\", np.linspace(-1, 0, 5))\n",
    "\n",
    "N = 5\n",
    "weights = np.exp(np.linspace(-1., 0., N))\n",
    "weights /= weights.sum()\n",
    "print(\"Weights\", weights)\n",
    "\n",
    "c = np.loadtxt('data.csv', delimiter=',', usecols=(6,), unpack=True)\n",
    "ema = np.convolve(weights, c)[N - 1:-N + 1]\n",
    "t = np.arange(N - 1, len(c))\n",
    "plot(t, c[N - 1:], lw=1.0)\n",
    "plot(t, ema, lw=2.0)\n",
    "show()"
   ]
  },
  {
   "cell_type": "code",
   "execution_count": 35,
   "metadata": {},
   "outputs": [
    {
     "name": "stdout",
     "output_type": "stream",
     "text": [
      "Weights [0.2 0.2 0.2 0.2 0.2]\n",
      "26 26\n",
      "[329.23044409 335.70890572 318.53386282 321.90858271 327.74175968\n",
      " 331.5628136  337.94259734 343.84172744 339.99900409 336.58687297\n",
      " 333.15550418 328.64879207 323.61483771 327.25667796 334.30323599\n",
      " 335.79295948 326.55905786 324.27329493 325.47601386 332.85867025\n",
      " 341.63882551 348.75558399 348.48014357 348.01342992 343.56371701\n",
      " 341.85163786]\n",
      "[336.1  339.32 345.03 344.32 343.44 346.5  351.88 355.2  358.16 354.54\n",
      " 356.85 359.18 359.9  363.13 358.3  350.56 338.61 342.62 342.88 348.16\n",
      " 353.21 349.31 352.12 359.56 360.   355.36]\n",
      "[354.05355591 351.73509428 373.93413718 374.62741729 374.33024032\n",
      " 374.9491864  372.70940266 369.73027256 375.45299591 380.85312703\n",
      " 385.78849582 387.77920793 384.58516229 374.03132204 358.88476401\n",
      " 353.33904052 363.63294214 370.19870507 372.79598614 372.08532975\n",
      " 368.04117449 361.78441601 364.63985643 365.24657008 364.54028299\n",
      " 363.04836214]\n",
      "Ratio between bands 1.0\n"
     ]
    },
    {
     "data": {
      "image/png": "[encoded data removed]",
      "text/plain": [
       "<Figure size 432x288 with 1 Axes>"
      ]
     },
     "metadata": {
      "needs_background": "light"
     },
     "output_type": "display_data"
    }
   ],
   "source": [
    "# 布林带\n",
    "N = 5\n",
    "\n",
    "weights = np.ones(N) / N\n",
    "print(\"Weights\", weights)\n",
    "\n",
    "c = np.loadtxt('data.csv', delimiter=',', usecols=(6,), unpack=True)\n",
    "sma = np.convolve(weights, c)[N - 1:-N + 1]\n",
    "deviation = []\n",
    "C = len(c)\n",
    "\n",
    "for i in range(N - 1, C):\n",
    "    if i + N < C:\n",
    "        dev = c[i: i + N]\n",
    "    else:\n",
    "        dev = c[-N:]\n",
    "\n",
    "    averages = np.zeros(N)\n",
    "    averages.fill(sma[i - N - 1])\n",
    "    dev = dev - averages\n",
    "    dev = dev ** 2\n",
    "    dev = np.sqrt(np.mean(dev))\n",
    "    deviation.append(dev)\n",
    "\n",
    "deviation = 2 * np.array(deviation)\n",
    "print(len(deviation), len(sma))\n",
    "\n",
    "# 上限\n",
    "upperBB = sma + deviation\n",
    "# 下限\n",
    "lowerBB = sma - deviation\n",
    "\n",
    "c_slice = c[N - 1:]\n",
    "between_bands = np.where((c_slice < upperBB) & (c_slice > lowerBB))\n",
    "\n",
    "print(lowerBB[between_bands])\n",
    "\n",
    "print(c[between_bands])\n",
    "\n",
    "print(upperBB[between_bands])\n",
    "\n",
    "between_bands = len(np.ravel(between_bands))\n",
    "print(\"Ratio between bands\", float(between_bands) / len(c_slice))\n",
    "\n",
    "t = np.arange(N - 1, C)\n",
    "plot(t, c_slice, lw=1.0)\n",
    "plot(t, sma, lw=2.0)\n",
    "plot(t, upperBB, lw=3.0)\n",
    "plot(t, lowerBB, lw=4.0)\n",
    "show()"
   ]
  },
  {
   "cell_type": "code",
   "execution_count": 36,
   "metadata": {},
   "outputs": [
    {
     "name": "stdout",
     "output_type": "stream",
     "text": [
      "b [351.99 346.67 352.47 355.76 355.36]\n",
      "Zeros N by N [[0. 0. 0. 0. 0.]\n",
      " [0. 0. 0. 0. 0.]\n",
      " [0. 0. 0. 0. 0.]\n",
      " [0. 0. 0. 0. 0.]\n",
      " [0. 0. 0. 0. 0.]]\n",
      "A [[360.   355.36 355.76 352.47 346.67]\n",
      " [359.56 360.   355.36 355.76 352.47]\n",
      " [352.12 359.56 360.   355.36 355.76]\n",
      " [349.31 352.12 359.56 360.   355.36]\n",
      " [353.21 349.31 352.12 359.56 360.  ]]\n",
      "[ 0.78111069 -1.44411737  1.63563225 -0.89905126  0.92009049] [] 5 [1.77736601e+03 1.49622969e+01 8.75528492e+00 5.15099261e+00\n",
      " 1.75199608e+00]\n",
      "357.93916101523365\n",
      "Pivots [338.01       337.88666667 343.88666667 344.37333333 342.07666667\n",
      " 345.57       350.92333333 354.29       357.34333333 354.18\n",
      " 356.06333333 358.45666667 359.14       362.84333333 358.36333333\n",
      " 353.19333333 340.57666667 341.95666667 342.13333333 347.13\n",
      " 353.12666667 350.90333333 351.62333333 358.42333333 359.34666667\n",
      " 356.11333333 355.13666667 352.61       347.11333333 349.77      ]\n",
      "Condition [False False  True  True  True  True  True False False  True False False\n",
      " False False False  True False False False  True  True  True  True False\n",
      " False  True  True  True False  True]\n",
      "[341.92421382 342.19081893 342.45742405 342.72402917 342.99063429\n",
      " 343.79044964 345.39008034 346.4565008  346.72310592 346.98971104\n",
      " 347.25631615 348.0561315  348.32273662 348.58934174 349.12255197]\n",
      "[345.03 344.32 343.44 346.5  351.88 354.54 350.56 348.16 353.21 349.31\n",
      " 352.12 355.36 355.76 352.47 351.99]\n",
      "[352.61688271 352.90732765 353.19777259 353.48821753 353.77866246\n",
      " 354.64999728 356.39266691 357.55444667 357.84489161 358.13533655\n",
      " 358.42578149 359.2971163  359.58756124 359.87800618 360.45889606]\n",
      "Number points between bands 15\n",
      "Ratio between bands 0.5\n",
      "Tomorrows support 349.38915708812254\n",
      "Tomorrows resistance 360.74934099616854\n",
      "Number of points between bands 2nd approach 15\n"
     ]
    },
    {
     "name": "stderr",
     "output_type": "stream",
     "text": [
      "D:\\software\\Anaconda3\\lib\\site-packages\\ipykernel_launcher.py:17: FutureWarning: `rcond` parameter will change to the default of machine precision times ``max(M, N)`` where M and N are the input matrix dimensions.\n",
      "To use the future default and silence this warning we advise to pass `rcond=None`, to keep using the old, explicitly pass `rcond=-1`.\n",
      "D:\\software\\Anaconda3\\lib\\site-packages\\ipykernel_launcher.py:25: FutureWarning: `rcond` parameter will change to the default of machine precision times ``max(M, N)`` where M and N are the input matrix dimensions.\n",
      "To use the future default and silence this warning we advise to pass `rcond=None`, to keep using the old, explicitly pass `rcond=-1`.\n"
     ]
    }
   ],
   "source": [
    "# 线性模型\n",
    "N = 5\n",
    "\n",
    "c = np.loadtxt('data.csv', delimiter=',', usecols=(6,), unpack=True)\n",
    "\n",
    "b = c[-N:]\n",
    "b = b[::-1]\n",
    "print(\"b\", b)\n",
    "\n",
    "A = np.zeros((N, N), float)\n",
    "print(\"Zeros N by N\", A)\n",
    "\n",
    "for i in range(N):\n",
    "    A[i,] = c[-N - 1 - i: - 1 - i]\n",
    "print(\"A\", A)\n",
    "\n",
    "(x, residuals, rank, s) = np.linalg.lstsq(A, b)\n",
    "print(x, residuals, rank, s)\n",
    "print(np.dot(b, x))\n",
    "\n",
    "\n",
    "# 趋势线\n",
    "def fit_line(t, y):\n",
    "    A = np.vstack([t, np.ones_like(t)]).T\n",
    "    return np.linalg.lstsq(A, y)[0]\n",
    "\n",
    "\n",
    "h, l, c = np.loadtxt('data.csv', delimiter=',', usecols=(4, 5, 6), unpack=True)\n",
    "\n",
    "pivots = (h + l + c) / 3\n",
    "print(\"Pivots\", pivots)\n",
    "\n",
    "t = np.arange(len(c))\n",
    "sa, sb = fit_line(t, pivots - (h - l))\n",
    "ra, rb = fit_line(t, pivots + (h - l))\n",
    "\n",
    "support = sa * t + sb\n",
    "resistance = ra * t + rb\n",
    "condition = (c > support) & (c < resistance)\n",
    "print(\"Condition\", condition)\n",
    "\n",
    "between_bands = np.where(condition)\n",
    "print(support[between_bands])\n",
    "print(c[between_bands])\n",
    "print(resistance[between_bands])\n",
    "\n",
    "between_bands = len(np.ravel(between_bands))\n",
    "print(\"Number points between bands\", between_bands)\n",
    "\n",
    "print(\"Ratio between bands\", float(between_bands) / len(c))\n",
    "\n",
    "print(\"Tomorrows support\", sa * (t[-1] + 1) + sb)\n",
    "\n",
    "print(\"Tomorrows resistance\", ra * (t[-1] + 1) + rb)\n",
    "\n",
    "a1 = c[c > support]\n",
    "a2 = c[c < resistance]\n",
    "print(\"Number of points between bands 2nd approach\", len(np.intersect1d(a1, a2)))"
   ]
  },
  {
   "cell_type": "code",
   "execution_count": 31,
   "metadata": {},
   "outputs": [
    {
     "data": {
      "image/png": "[encoded data removed]",
      "text/plain": [
       "<Figure size 432x288 with 1 Axes>"
      ]
     },
     "metadata": {
      "needs_background": "light"
     },
     "output_type": "display_data"
    }
   ],
   "source": [
    "plot(t, c)\n",
    "plot(t, support)\n",
    "plot(t, resistance)\n",
    "show()"
   ]
  },
  {
   "cell_type": "code",
   "execution_count": null,
   "metadata": {},
   "outputs": [],
   "source": []
  }
 ],
 "metadata": {
  "kernelspec": {
   "display_name": "Python 3",
   "language": "python",
   "name": "python3"
  },
  "language_info": {
   "codemirror_mode": {
    "name": "ipython",
    "version": 3
   },
   "file_extension": ".py",
   "mimetype": "text/x-python",
   "name": "python",
   "nbconvert_exporter": "python",
   "pygments_lexer": "ipython3",
   "version": "3.7.3"
  }
 },
 "nbformat": 4,
 "nbformat_minor": 2
}
