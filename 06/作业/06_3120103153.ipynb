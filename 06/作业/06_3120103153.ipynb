{
 "cells": [
  {
   "cell_type": "code",
   "execution_count": 1,
   "metadata": {},
   "outputs": [
    {
     "name": "stdout",
     "output_type": "stream",
     "text": [
      "1到100 之和为：1 \n",
      "1到100 之和为：3 \n",
      "1到100 之和为：6 \n",
      "1到100 之和为：10 \n",
      "1到100 之和为：15 \n",
      "1到100 之和为：21 \n",
      "1到100 之和为：28 \n",
      "1到100 之和为：36 \n",
      "1到100 之和为：45 \n",
      "1到100 之和为：55 \n",
      "1到100 之和为：66 \n",
      "1到100 之和为：78 \n",
      "1到100 之和为：91 \n",
      "1到100 之和为：105 \n",
      "1到100 之和为：120 \n",
      "1到100 之和为：136 \n",
      "1到100 之和为：153 \n",
      "1到100 之和为：171 \n",
      "1到100 之和为：190 \n",
      "1到100 之和为：210 \n",
      "1到100 之和为：231 \n",
      "1到100 之和为：253 \n",
      "1到100 之和为：276 \n",
      "1到100 之和为：300 \n",
      "1到100 之和为：325 \n",
      "1到100 之和为：351 \n",
      "1到100 之和为：378 \n",
      "1到100 之和为：406 \n",
      "1到100 之和为：435 \n",
      "1到100 之和为：465 \n",
      "1到100 之和为：496 \n",
      "1到100 之和为：528 \n",
      "1到100 之和为：561 \n",
      "1到100 之和为：595 \n",
      "1到100 之和为：630 \n",
      "1到100 之和为：666 \n",
      "1到100 之和为：703 \n",
      "1到100 之和为：741 \n",
      "1到100 之和为：780 \n",
      "1到100 之和为：820 \n",
      "1到100 之和为：861 \n",
      "1到100 之和为：903 \n",
      "1到100 之和为：946 \n",
      "1到100 之和为：990 \n",
      "1到100 之和为：1035 \n",
      "1到100 之和为：1081 \n",
      "1到100 之和为：1128 \n",
      "1到100 之和为：1176 \n",
      "1到100 之和为：1225 \n",
      "1到100 之和为：1275 \n",
      "1到100 之和为：1326 \n",
      "1到100 之和为：1378 \n",
      "1到100 之和为：1431 \n",
      "1到100 之和为：1485 \n",
      "1到100 之和为：1540 \n",
      "1到100 之和为：1596 \n",
      "1到100 之和为：1653 \n",
      "1到100 之和为：1711 \n",
      "1到100 之和为：1770 \n",
      "1到100 之和为：1830 \n",
      "1到100 之和为：1891 \n",
      "1到100 之和为：1953 \n",
      "1到100 之和为：2016 \n",
      "1到100 之和为：2080 \n",
      "1到100 之和为：2145 \n",
      "1到100 之和为：2211 \n",
      "1到100 之和为：2278 \n",
      "1到100 之和为：2346 \n",
      "1到100 之和为：2415 \n",
      "1到100 之和为：2485 \n",
      "1到100 之和为：2556 \n",
      "1到100 之和为：2628 \n",
      "1到100 之和为：2701 \n",
      "1到100 之和为：2775 \n",
      "1到100 之和为：2850 \n",
      "1到100 之和为：2926 \n",
      "1到100 之和为：3003 \n",
      "1到100 之和为：3081 \n",
      "1到100 之和为：3160 \n",
      "1到100 之和为：3240 \n",
      "1到100 之和为：3321 \n",
      "1到100 之和为：3403 \n",
      "1到100 之和为：3486 \n",
      "1到100 之和为：3570 \n",
      "1到100 之和为：3655 \n",
      "1到100 之和为：3741 \n",
      "1到100 之和为：3828 \n",
      "1到100 之和为：3916 \n",
      "1到100 之和为：4005 \n",
      "1到100 之和为：4095 \n",
      "1到100 之和为：4186 \n",
      "1到100 之和为：4278 \n",
      "1到100 之和为：4371 \n",
      "1到100 之和为：4465 \n",
      "1到100 之和为：4560 \n",
      "1到100 之和为：4656 \n",
      "1到100 之和为：4753 \n",
      "1到100 之和为：4851 \n",
      "1到100 之和为：4950 \n",
      "1到100 之和为：5050 \n",
      "That is all.Thank you!\n"
     ]
    }
   ],
   "source": [
    "n=100\n",
    "\n",
    "sum=0\n",
    "counter=1\n",
    "while counter<=n:\n",
    "    sum=sum+counter\n",
    "    counter+=1\n",
    "    print(\"1到%d 之和为：%d \"%(n,sum))\n",
    "a='That is all.'\n",
    "a=a+'Thank you!'\n",
    "print(a)"
   ]
  },
  {
   "cell_type": "code",
   "execution_count": 3,
   "metadata": {},
   "outputs": [
    {
     "name": "stdout",
     "output_type": "stream",
     "text": [
      "That is all.Thank you!Thank you!Thank you!\n"
     ]
    }
   ],
   "source": [
    "def save_grade(name,grade):\n",
    "    grades=open('sample.txt','a')\n",
    "    grade.write(f'姓名:{mame}\\t成绩:{grade}\\n')\n",
    "    grade.close()\n",
    "    a='That is all.'\n",
    "a=a+'Thank you!'\n",
    "print(a)"
   ]
  },
  {
   "cell_type": "code",
   "execution_count": 3,
   "metadata": {},
   "outputs": [
    {
     "name": "stdin",
     "output_type": "stream",
     "text": [
      "请输入姓名： mingming\n",
      "请输入成绩： 98\n"
     ]
    },
    {
     "ename": "AttributeError",
     "evalue": "'str' object has no attribute 'write'",
     "output_type": "error",
     "traceback": [
      "\u001b[1;31m---------------------------------------------------------------------------\u001b[0m",
      "\u001b[1;31mAttributeError\u001b[0m                            Traceback (most recent call last)",
      "\u001b[1;32m<ipython-input-3-f4f95f19f8a5>\u001b[0m in \u001b[0;36m<module>\u001b[1;34m\u001b[0m\n\u001b[0;32m      2\u001b[0m     \u001b[0mname\u001b[0m\u001b[1;33m=\u001b[0m\u001b[0minput\u001b[0m\u001b[1;33m(\u001b[0m\u001b[1;34m\"请输入姓名：\"\u001b[0m\u001b[1;33m)\u001b[0m\u001b[1;33m\u001b[0m\u001b[1;33m\u001b[0m\u001b[0m\n\u001b[0;32m      3\u001b[0m     \u001b[0mgrade\u001b[0m\u001b[1;33m=\u001b[0m\u001b[0minput\u001b[0m\u001b[1;33m(\u001b[0m\u001b[1;34m'请输入成绩：'\u001b[0m\u001b[1;33m)\u001b[0m\u001b[1;33m\u001b[0m\u001b[1;33m\u001b[0m\u001b[0m\n\u001b[1;32m----> 4\u001b[1;33m     \u001b[0msave_grade\u001b[0m\u001b[1;33m(\u001b[0m\u001b[0mname\u001b[0m\u001b[1;33m,\u001b[0m\u001b[0mgrade\u001b[0m\u001b[1;33m)\u001b[0m\u001b[1;33m\u001b[0m\u001b[1;33m\u001b[0m\u001b[0m\n\u001b[0m\u001b[0;32m      5\u001b[0m     \u001b[0mprint\u001b[0m\u001b[1;33m(\u001b[0m\u001b[1;34mf'{name}的成绩已保存。'\u001b[0m\u001b[1;33m)\u001b[0m\u001b[1;33m\u001b[0m\u001b[1;33m\u001b[0m\u001b[0m\n\u001b[0;32m      6\u001b[0m     \u001b[0mgo_on\u001b[0m\u001b[1;33m=\u001b[0m\u001b[0minput\u001b[0m\u001b[1;33m(\u001b[0m\u001b[1;34m'是否继续输入(yes or no)?'\u001b[0m\u001b[1;33m)\u001b[0m\u001b[1;33m\u001b[0m\u001b[1;33m\u001b[0m\u001b[0m\n",
      "\u001b[1;32m<ipython-input-2-f534cd95698c>\u001b[0m in \u001b[0;36msave_grade\u001b[1;34m(name, grade)\u001b[0m\n\u001b[0;32m      1\u001b[0m \u001b[1;32mdef\u001b[0m \u001b[0msave_grade\u001b[0m\u001b[1;33m(\u001b[0m\u001b[0mname\u001b[0m\u001b[1;33m,\u001b[0m\u001b[0mgrade\u001b[0m\u001b[1;33m)\u001b[0m\u001b[1;33m:\u001b[0m\u001b[1;33m\u001b[0m\u001b[1;33m\u001b[0m\u001b[0m\n\u001b[0;32m      2\u001b[0m     \u001b[0mgrades\u001b[0m\u001b[1;33m=\u001b[0m\u001b[0mopen\u001b[0m\u001b[1;33m(\u001b[0m\u001b[1;34m'sample.txt'\u001b[0m\u001b[1;33m,\u001b[0m\u001b[1;34m'a'\u001b[0m\u001b[1;33m)\u001b[0m\u001b[1;33m\u001b[0m\u001b[1;33m\u001b[0m\u001b[0m\n\u001b[1;32m----> 3\u001b[1;33m     \u001b[0mgrade\u001b[0m\u001b[1;33m.\u001b[0m\u001b[0mwrite\u001b[0m\u001b[1;33m(\u001b[0m\u001b[1;34mf'姓名:{mame}\\t成绩:{grade}\\n'\u001b[0m\u001b[1;33m)\u001b[0m\u001b[1;33m\u001b[0m\u001b[1;33m\u001b[0m\u001b[0m\n\u001b[0m\u001b[0;32m      4\u001b[0m     \u001b[0mgrade\u001b[0m\u001b[1;33m.\u001b[0m\u001b[0mclose\u001b[0m\u001b[1;33m(\u001b[0m\u001b[1;33m)\u001b[0m\u001b[1;33m\u001b[0m\u001b[1;33m\u001b[0m\u001b[0m\n",
      "\u001b[1;31mAttributeError\u001b[0m: 'str' object has no attribute 'write'"
     ]
    }
   ],
   "source": [
    "while True:\n",
    "    name=input(\"请输入姓名：\")\n",
    "    grade=input('请输入成绩：')\n",
    "    save_grade(name,grade)\n",
    "    print(f'{name}的成绩已保存。')\n",
    "    go_on=input('是否继续输入(yes or no)?')\n",
    "    n = 0\n",
    "    while n<2:\n",
    "        if go_on=='yes':\n",
    "            break\n",
    "            n=0\n",
    "        elif go_on =='no':\n",
    "            break\n",
    "        else:\n",
    "            n+=1\n",
    "            go_on=input(f'{n+1}指令无效，是否继续输入(yes or no)?')\n",
    "        if go_on=='no'or n==2:\n",
    "            prit('结束')\n",
    "            break"
   ]
  },
  {
   "cell_type": "code",
   "execution_count": 4,
   "metadata": {},
   "outputs": [
    {
     "name": "stdout",
     "output_type": "stream",
     "text": [
      "adding 0 to the list.\n",
      "adding 1 to the list.\n",
      "adding 2 to the list.\n",
      "adding 3 to the list.\n",
      "adding 4 to the list.\n",
      "adding 5 to the list.\n",
      "element was:0\n",
      "element was:1\n",
      "element was:2\n",
      "element was:3\n",
      "element was:4\n",
      "element was:5\n",
      "That is all.Thank you!\n"
     ]
    }
   ],
   "source": [
    "the_count=[1,2,3,4,5]\n",
    "fruits=['apple','orange','pears','apricots']\n",
    "change=[1,'pennies',2,'dimes',3,'quarters']\n",
    "\n",
    "elements=[]\n",
    "\n",
    "for i in range(0,6):\n",
    "    print(f\"adding {i} to the list.\")\n",
    "    elements.append(i)\n",
    "    \n",
    "for i in elements:\n",
    "    print(f\"element was:{i}\")\n",
    "    a='That is all.'\n",
    "a=a+'Thank you!'\n",
    "print(a)"
   ]
  },
  {
   "cell_type": "code",
   "execution_count": 5,
   "metadata": {},
   "outputs": [
    {
     "ename": "TypeError",
     "evalue": "unsupported operand type(s) for +=: 'int' and 'str'",
     "output_type": "error",
     "traceback": [
      "\u001b[1;31m---------------------------------------------------------------------------\u001b[0m",
      "\u001b[1;31mTypeError\u001b[0m                                 Traceback (most recent call last)",
      "\u001b[1;32m<ipython-input-5-6884230aaee9>\u001b[0m in \u001b[0;36m<module>\u001b[1;34m\u001b[0m\n\u001b[0;32m      3\u001b[0m \u001b[0msum\u001b[0m\u001b[1;33m=\u001b[0m\u001b[1;36m0\u001b[0m\u001b[1;33m\u001b[0m\u001b[1;33m\u001b[0m\u001b[0m\n\u001b[0;32m      4\u001b[0m \u001b[1;32mfor\u001b[0m \u001b[0mnumber\u001b[0m \u001b[1;32min\u001b[0m \u001b[0mnumbers\u001b[0m\u001b[1;33m:\u001b[0m\u001b[1;33m\u001b[0m\u001b[1;33m\u001b[0m\u001b[0m\n\u001b[1;32m----> 5\u001b[1;33m     \u001b[0msum\u001b[0m\u001b[1;33m+=\u001b[0m\u001b[0mnumber\u001b[0m\u001b[1;33m\u001b[0m\u001b[1;33m\u001b[0m\u001b[0m\n\u001b[0m\u001b[0;32m      6\u001b[0m \u001b[0mprint\u001b[0m\u001b[1;33m(\u001b[0m\u001b[0msum\u001b[0m\u001b[1;33m)\u001b[0m\u001b[1;33m\u001b[0m\u001b[1;33m\u001b[0m\u001b[0m\n\u001b[0;32m      7\u001b[0m \u001b[0mnumber_file\u001b[0m\u001b[1;33m.\u001b[0m\u001b[0mclose\u001b[0m\u001b[1;33m(\u001b[0m\u001b[1;33m)\u001b[0m\u001b[1;33m\u001b[0m\u001b[1;33m\u001b[0m\u001b[0m\n",
      "\u001b[1;31mTypeError\u001b[0m: unsupported operand type(s) for +=: 'int' and 'str'"
     ]
    }
   ],
   "source": [
    "number_file=open('sample.txt')\n",
    "numbers=number_file.readlines()\n",
    "sum=0\n",
    "for number in numbers:\n",
    "    sum+=number\n",
    "print(sum)\n",
    "number_file.close()\n",
    "a='That is all.'\n",
    "a=a+'Thank you!'\n",
    "print(a)"
   ]
  },
  {
   "cell_type": "code",
   "execution_count": 6,
   "metadata": {},
   "outputs": [
    {
     "name": "stdout",
     "output_type": "stream",
     "text": [
      "未知错误\n",
      "That is all.Thank you!\n"
     ]
    }
   ],
   "source": [
    "try:\n",
    "    number_file=open('number.txt')\n",
    "    numbers=number_file.readlines()\n",
    "    sum=0\n",
    "    for number in numbers:\n",
    "        sum+=int(number)\n",
    "except TypeError as te:\n",
    "    print(te.arges)\n",
    "except:\n",
    "    print('未知错误')\n",
    "else:\n",
    "    print(sum)\n",
    "finally:\n",
    "    number_file.close()\n",
    "    a='That is all.'\n",
    "a=a+'Thank you!'\n",
    "print(a)"
   ]
  },
  {
   "cell_type": "code",
   "execution_count": 7,
   "metadata": {},
   "outputs": [
    {
     "name": "stdout",
     "output_type": "stream",
     "text": [
      "未知错误\n"
     ]
    }
   ],
   "source": [
    "try:\n",
    "    number_file=open('number.txt')\n",
    "    numbers=number_file.readlines()\n",
    "    sum=0\n",
    "    for number in numbers:\n",
    "        sum+=int(number)\n",
    "except TypeError as te:\n",
    "    print(te.arges)\n",
    "except ValueError:\n",
    "    print(f'{number}不是数字！')\n",
    "except:\n",
    "    print('未知错误')\n",
    "else:\n",
    "    print(sum)\n",
    "finally:\n",
    "    number_file.close()"
   ]
  },
  {
   "cell_type": "code",
   "execution_count": 7,
   "metadata": {},
   "outputs": [],
   "source": [
    "cartoons=['huahua','lili','diandian']\n",
    "with open('untitled.txt','w') as txt:\n",
    "    for name in cartoons:\n",
    "        txt.write(f'{name}GOOD JOB!\\n')"
   ]
  },
  {
   "cell_type": "code",
   "execution_count": 8,
   "metadata": {},
   "outputs": [],
   "source": [
    "def test():\n",
    "    msg_inner = \"i am a local variable.\"\n",
    "test()"
   ]
  },
  {
   "cell_type": "code",
   "execution_count": 9,
   "metadata": {},
   "outputs": [
    {
     "data": {
      "text/plain": [
       "'i am a global varizble.'"
      ]
     },
     "execution_count": 9,
     "metadata": {},
     "output_type": "execute_result"
    }
   ],
   "source": [
    "if True:\n",
    "    msg='i am a global varizble.'\n",
    "msg"
   ]
  },
  {
   "cell_type": "code",
   "execution_count": 10,
   "metadata": {},
   "outputs": [
    {
     "name": "stdout",
     "output_type": "stream",
     "text": [
      "11\n",
      "That is all.Thank you!\n"
     ]
    }
   ],
   "source": [
    "a=10\n",
    "def test(a):\n",
    "    a = a + 1\n",
    "    print(a)\n",
    "test(a)\n",
    "a='That is all.'\n",
    "a=a+'Thank you!'\n",
    "print(a)"
   ]
  },
  {
   "cell_type": "code",
   "execution_count": 13,
   "metadata": {},
   "outputs": [
    {
     "data": {
      "text/plain": [
       "['ArithmeticError',\n",
       " 'AssertionError',\n",
       " 'AttributeError',\n",
       " 'BaseException',\n",
       " 'BlockingIOError',\n",
       " 'BrokenPipeError',\n",
       " 'BufferError',\n",
       " 'BytesWarning',\n",
       " 'ChildProcessError',\n",
       " 'ConnectionAbortedError',\n",
       " 'ConnectionError',\n",
       " 'ConnectionRefusedError',\n",
       " 'ConnectionResetError',\n",
       " 'DeprecationWarning',\n",
       " 'EOFError',\n",
       " 'Ellipsis',\n",
       " 'EnvironmentError',\n",
       " 'Exception',\n",
       " 'False',\n",
       " 'FileExistsError',\n",
       " 'FileNotFoundError',\n",
       " 'FloatingPointError',\n",
       " 'FutureWarning',\n",
       " 'GeneratorExit',\n",
       " 'IOError',\n",
       " 'ImportError',\n",
       " 'ImportWarning',\n",
       " 'IndentationError',\n",
       " 'IndexError',\n",
       " 'InterruptedError',\n",
       " 'IsADirectoryError',\n",
       " 'KeyError',\n",
       " 'KeyboardInterrupt',\n",
       " 'LookupError',\n",
       " 'MemoryError',\n",
       " 'ModuleNotFoundError',\n",
       " 'NameError',\n",
       " 'None',\n",
       " 'NotADirectoryError',\n",
       " 'NotImplemented',\n",
       " 'NotImplementedError',\n",
       " 'OSError',\n",
       " 'OverflowError',\n",
       " 'PendingDeprecationWarning',\n",
       " 'PermissionError',\n",
       " 'ProcessLookupError',\n",
       " 'RecursionError',\n",
       " 'ReferenceError',\n",
       " 'ResourceWarning',\n",
       " 'RuntimeError',\n",
       " 'RuntimeWarning',\n",
       " 'StopAsyncIteration',\n",
       " 'StopIteration',\n",
       " 'SyntaxError',\n",
       " 'SyntaxWarning',\n",
       " 'SystemError',\n",
       " 'SystemExit',\n",
       " 'TabError',\n",
       " 'TimeoutError',\n",
       " 'True',\n",
       " 'TypeError',\n",
       " 'UnboundLocalError',\n",
       " 'UnicodeDecodeError',\n",
       " 'UnicodeEncodeError',\n",
       " 'UnicodeError',\n",
       " 'UnicodeTranslateError',\n",
       " 'UnicodeWarning',\n",
       " 'UserWarning',\n",
       " 'ValueError',\n",
       " 'Warning',\n",
       " 'WindowsError',\n",
       " 'ZeroDivisionError',\n",
       " '__IPYTHON__',\n",
       " '__build_class__',\n",
       " '__debug__',\n",
       " '__doc__',\n",
       " '__import__',\n",
       " '__loader__',\n",
       " '__name__',\n",
       " '__package__',\n",
       " '__spec__',\n",
       " 'abs',\n",
       " 'all',\n",
       " 'any',\n",
       " 'ascii',\n",
       " 'bin',\n",
       " 'bool',\n",
       " 'breakpoint',\n",
       " 'bytearray',\n",
       " 'bytes',\n",
       " 'callable',\n",
       " 'chr',\n",
       " 'classmethod',\n",
       " 'compile',\n",
       " 'complex',\n",
       " 'copyright',\n",
       " 'credits',\n",
       " 'delattr',\n",
       " 'dict',\n",
       " 'dir',\n",
       " 'display',\n",
       " 'divmod',\n",
       " 'enumerate',\n",
       " 'eval',\n",
       " 'exec',\n",
       " 'filter',\n",
       " 'float',\n",
       " 'format',\n",
       " 'frozenset',\n",
       " 'get_ipython',\n",
       " 'getattr',\n",
       " 'globals',\n",
       " 'hasattr',\n",
       " 'hash',\n",
       " 'help',\n",
       " 'hex',\n",
       " 'id',\n",
       " 'input',\n",
       " 'int',\n",
       " 'isinstance',\n",
       " 'issubclass',\n",
       " 'iter',\n",
       " 'len',\n",
       " 'license',\n",
       " 'list',\n",
       " 'locals',\n",
       " 'map',\n",
       " 'max',\n",
       " 'memoryview',\n",
       " 'min',\n",
       " 'next',\n",
       " 'object',\n",
       " 'oct',\n",
       " 'open',\n",
       " 'ord',\n",
       " 'pow',\n",
       " 'print',\n",
       " 'property',\n",
       " 'range',\n",
       " 'repr',\n",
       " 'reversed',\n",
       " 'round',\n",
       " 'set',\n",
       " 'setattr',\n",
       " 'slice',\n",
       " 'sorted',\n",
       " 'staticmethod',\n",
       " 'str',\n",
       " 'sum',\n",
       " 'super',\n",
       " 'tuple',\n",
       " 'type',\n",
       " 'vars',\n",
       " 'zip']"
      ]
     },
     "execution_count": 13,
     "metadata": {},
     "output_type": "execute_result"
    }
   ],
   "source": [
    "import builtins\n",
    "dir(builtins)\n"
   ]
  },
  {
   "cell_type": "code",
   "execution_count": 14,
   "metadata": {},
   "outputs": [
    {
     "name": "stdout",
     "output_type": "stream",
     "text": [
      "Ada Lovelace\n",
      "That is all.Thank you!\n"
     ]
    }
   ],
   "source": [
    "name=\"ada lovelace\"\n",
    "print(name.title())\n",
    "a='That is all.'\n",
    "a=a+'Thank you!'\n",
    "print(a)"
   ]
  },
  {
   "cell_type": "code",
   "execution_count": 15,
   "metadata": {},
   "outputs": [
    {
     "name": "stdout",
     "output_type": "stream",
     "text": [
      "ADA LOVEPLACE\n",
      "ada loveplace\n",
      "That is all.Thank you!\n"
     ]
    }
   ],
   "source": [
    "name=\"ada loveplace\"\n",
    "print(name.upper())\n",
    "print(name.lower())\n",
    "a='That is all.'\n",
    "a=a+'Thank you!'\n",
    "print(a)"
   ]
  },
  {
   "cell_type": "code",
   "execution_count": 16,
   "metadata": {},
   "outputs": [
    {
     "name": "stdout",
     "output_type": "stream",
     "text": [
      "ada loveplace\n",
      "hello,Ada Loveplace！\n",
      "That is all.Thank you!\n"
     ]
    }
   ],
   "source": [
    "first_name=\"ada\"\n",
    "last_name=\"loveplace\"\n",
    "full_name=first_name+\" \"+last_name\n",
    "\n",
    "print(full_name)\n",
    "print(\"hello,\"+full_name.title()+\"！\")\n",
    "a='That is all.'\n",
    "a=a+'Thank you!'\n",
    "print(a)"
   ]
  },
  {
   "cell_type": "code",
   "execution_count": 17,
   "metadata": {},
   "outputs": [
    {
     "name": "stdout",
     "output_type": "stream",
     "text": [
      "language:\n",
      "\tpython\n",
      "\tC\n",
      "\tjava\n",
      "That is all.Thank you!\n"
     ]
    }
   ],
   "source": [
    "print(\"language:\\n\\tpython\\n\\tC\\n\\tjava\")\n",
    "a='That is all.'\n",
    "a=a+'Thank you!'\n",
    "print(a)"
   ]
  },
  {
   "cell_type": "code",
   "execution_count": 18,
   "metadata": {},
   "outputs": [
    {
     "name": "stdout",
     "output_type": "stream",
     "text": [
      "python\n",
      "That is all.Thank you!\n"
     ]
    }
   ],
   "source": [
    "print(\"python\")\n",
    "a='That is all.'\n",
    "a=a+'Thank you!'\n",
    "print(a)"
   ]
  },
  {
   "cell_type": "code",
   "execution_count": 19,
   "metadata": {},
   "outputs": [
    {
     "name": "stdout",
     "output_type": "stream",
     "text": [
      "\tpython\n",
      "That is all.Thank you!\n"
     ]
    }
   ],
   "source": [
    "print(\"\\tpython\")\n",
    "a='That is all.'\n",
    "a=a+'Thank you!'\n",
    "print(a)"
   ]
  },
  {
   "cell_type": "code",
   "execution_count": 20,
   "metadata": {},
   "outputs": [
    {
     "name": "stdout",
     "output_type": "stream",
     "text": [
      "That is all.Thank you!\n"
     ]
    }
   ],
   "source": [
    "like='python '\n",
    "like=like.rstrip()\n",
    "#永久删除\n",
    "like\n",
    "a='That is all.'\n",
    "a=a+'Thank you!'\n",
    "print(a)"
   ]
  },
  {
   "cell_type": "code",
   "execution_count": 21,
   "metadata": {},
   "outputs": [
    {
     "name": "stdout",
     "output_type": "stream",
     "text": [
      "That is all.Thank you!\n"
     ]
    }
   ],
   "source": [
    "like=' python '\n",
    "like.rstrip()\n",
    "a='That is all.'\n",
    "a=a+'Thank you!'\n",
    "print(a)"
   ]
  },
  {
   "cell_type": "code",
   "execution_count": 22,
   "metadata": {},
   "outputs": [
    {
     "name": "stdout",
     "output_type": "stream",
     "text": [
      "That is all.Thank you!\n"
     ]
    }
   ],
   "source": [
    "like=' python '\n",
    "like.lstrip()\n",
    "like.strip()\n",
    "a='That is all.'\n",
    "a=a+'Thank you!'\n",
    "print(a)"
   ]
  },
  {
   "cell_type": "code",
   "execution_count": 23,
   "metadata": {},
   "outputs": [
    {
     "name": "stdout",
     "output_type": "stream",
     "text": [
      "Albert Einsteinonce said,a person who never made a mistake never tried anything new.\n",
      "That is all.Thank you!\n"
     ]
    }
   ],
   "source": [
    "famous_person=\"albert einstein\"\n",
    "a_secent='a person who never made a mistake never tried anything new.'\n",
    "print(famous_person.title()+\"once said,\"+a_secent)\n",
    "a='That is all.'\n",
    "a=a+'Thank you!'\n",
    "print(a)"
   ]
  },
  {
   "cell_type": "code",
   "execution_count": 24,
   "metadata": {},
   "outputs": [
    {
     "name": "stdout",
     "output_type": "stream",
     "text": [
      "happy23rd birthday\n",
      "That is all.Thank you!\n"
     ]
    }
   ],
   "source": [
    "age=23\n",
    "message=\"happy\"+str(age)+\"rd birthday\"\n",
    "print(message)\n",
    "a='That is all.'\n",
    "a=a+'Thank you!'\n",
    "print(a)"
   ]
  },
  {
   "cell_type": "code",
   "execution_count": 25,
   "metadata": {},
   "outputs": [
    {
     "name": "stdout",
     "output_type": "stream",
     "text": [
      "my favortie number is 6\n",
      "That is all.Thank you!\n"
     ]
    }
   ],
   "source": [
    "favorite_number=6\n",
    "message=\"my favortie number is \"+str(favorite_number)\n",
    "print(message)\n",
    "a='That is all.'\n",
    "a=a+'Thank you!'\n",
    "print(a)"
   ]
  },
  {
   "cell_type": "code",
   "execution_count": 26,
   "metadata": {},
   "outputs": [
    {
     "name": "stdout",
     "output_type": "stream",
     "text": [
      "['trek', 'cannondale', 'redline', 'specialized']\n",
      "That is all.Thank you!\n"
     ]
    }
   ],
   "source": [
    "bicycles=['trek','cannondale','redline','specialized']\n",
    "print(bicycles)\n",
    "a='That is all.'\n",
    "a=a+'Thank you!'\n",
    "print(a)"
   ]
  },
  {
   "cell_type": "code",
   "execution_count": 27,
   "metadata": {},
   "outputs": [
    {
     "name": "stdout",
     "output_type": "stream",
     "text": [
      "Trek\n",
      "redline\n",
      "specialized\n",
      "my first bicycle was a Trek.\n",
      "That is all.Thank you!\n"
     ]
    }
   ],
   "source": [
    "bicycles=['trek','cannondale','redline','specialized']\n",
    "print(bicycles[0].title())\n",
    "print(bicycles[2])\n",
    "print(bicycles[-1])\n",
    "#使用列表中的各个值\n",
    "message=\"my first bicycle was a \"+bicycles[0].title()+\".\"\n",
    "print(message)\n",
    "a='That is all.'\n",
    "a=a+'Thank you!'\n",
    "print(a)"
   ]
  },
  {
   "cell_type": "code",
   "execution_count": 28,
   "metadata": {},
   "outputs": [
    {
     "name": "stdout",
     "output_type": "stream",
     "text": [
      "['wangdianni', 'zhongpeng', 'liuboyu', 'liudong']\n",
      "hai, my friend wangdianni.\n",
      "That is all.Thank you!\n"
     ]
    }
   ],
   "source": [
    "names=['wangdianni','zhongpeng','liuboyu','liudong']\n",
    "print(names)\n",
    "\n",
    "message=\"hai, my friend \"+names[0]+\".\"\n",
    "print(message)\n",
    "a='That is all.'\n",
    "a=a+'Thank you!'\n",
    "print(a)"
   ]
  },
  {
   "cell_type": "code",
   "execution_count": 29,
   "metadata": {},
   "outputs": [
    {
     "name": "stdout",
     "output_type": "stream",
     "text": [
      "['dn', 'zp', 'lili', '11']\n",
      "That is all.Thank you!\n"
     ]
    }
   ],
   "source": [
    "names=['dianni','zp','lili','11']\n",
    "names[0]='dn'\n",
    "print(names)\n",
    "a='That is all.'\n",
    "a=a+'Thank you!'\n",
    "print(a)"
   ]
  },
  {
   "cell_type": "code",
   "execution_count": 30,
   "metadata": {},
   "outputs": [
    {
     "name": "stdout",
     "output_type": "stream",
     "text": [
      "['dianni', 'lili', 'zhongpeng', '11', 'wangchang']\n",
      "That is all.Thank you!\n"
     ]
    }
   ],
   "source": [
    "names=['dianni','lili','zhongpeng','11']\n",
    "names.append('wangchang')\n",
    "print(names)\n",
    "a='That is all.'\n",
    "a=a+'Thank you!'\n",
    "print(a)"
   ]
  },
  {
   "cell_type": "code",
   "execution_count": 31,
   "metadata": {},
   "outputs": [
    {
     "name": "stdout",
     "output_type": "stream",
     "text": [
      "['dianni', 'zhongpeng']\n",
      "That is all.Thank you!\n"
     ]
    }
   ],
   "source": [
    "names=[]\n",
    "names.append('dianni')\n",
    "names.append('zhongpeng')\n",
    "print(names)\n",
    "a='That is all.'\n",
    "a=a+'Thank you!'\n",
    "print(a)"
   ]
  },
  {
   "cell_type": "code",
   "execution_count": 32,
   "metadata": {},
   "outputs": [
    {
     "name": "stdout",
     "output_type": "stream",
     "text": [
      "['wangchang', 'dianni', 'lili', 'zhongpeng', '11']\n",
      "That is all.Thank you!\n"
     ]
    }
   ],
   "source": [
    "names=['dianni','lili','zhongpeng','11']\n",
    "names.insert(0,'wangchang')\n",
    "print(names)\n",
    "a='That is all.'\n",
    "a=a+'Thank you!'\n",
    "print(a)"
   ]
  },
  {
   "cell_type": "code",
   "execution_count": 33,
   "metadata": {},
   "outputs": [
    {
     "name": "stdout",
     "output_type": "stream",
     "text": [
      "['lili', 'zhongpeng', '11']\n",
      "That is all.Thank you!\n"
     ]
    }
   ],
   "source": [
    "names=['dianni','lili','zhongpeng','11']\n",
    "del names[0]\n",
    "print(names)\n",
    "a='That is all.'\n",
    "a=a+'Thank you!'\n",
    "print(a)"
   ]
  },
  {
   "cell_type": "code",
   "execution_count": 34,
   "metadata": {},
   "outputs": [
    {
     "name": "stdout",
     "output_type": "stream",
     "text": [
      "['dianni', 'lili', 'zhongpeng']\n",
      "11\n",
      "That is all.Thank you!\n"
     ]
    }
   ],
   "source": [
    "names=['dianni','lili','zhongpeng','11']\n",
    "popped_names=names.pop()\n",
    "print(names)\n",
    "print(popped_names)\n",
    "a='That is all.'\n",
    "a=a+'Thank you!'\n",
    "print(a)"
   ]
  },
  {
   "cell_type": "code",
   "execution_count": 35,
   "metadata": {},
   "outputs": [
    {
     "name": "stdout",
     "output_type": "stream",
     "text": [
      "the laet people is 11.\n",
      "That is all.Thank you!\n"
     ]
    }
   ],
   "source": [
    "names=['dianni','lili','zhongpeng','11']\n",
    "last_bought=names.pop()\n",
    "print(\"the laet people is \"+ last_bought.title()+\".\")\n",
    "a='That is all.'\n",
    "a=a+'Thank you!'\n",
    "print(a)"
   ]
  },
  {
   "cell_type": "code",
   "execution_count": 36,
   "metadata": {},
   "outputs": [
    {
     "name": "stdout",
     "output_type": "stream",
     "text": [
      "['dianni', 'zhongpeng', '11']\n",
      "That is all.Thank you!\n"
     ]
    }
   ],
   "source": [
    "names=['dianni','lili','zhongpeng','11']\n",
    "last_bought=names.pop(1)\n",
    "print(names)\n",
    "a='That is all.'\n",
    "a=a+'Thank you!'\n",
    "print(a)"
   ]
  },
  {
   "cell_type": "code",
   "execution_count": 37,
   "metadata": {},
   "outputs": [
    {
     "name": "stdout",
     "output_type": "stream",
     "text": [
      "['dianni', 'zhongpeng', '11']\n",
      "That is all.Thank you!\n"
     ]
    }
   ],
   "source": [
    "names=['dianni','lili','zhongpeng','11']\n",
    "names.remove('lili')\n",
    "print(names)\n",
    "a='That is all.'\n",
    "a=a+'Thank you!'\n",
    "print(a)"
   ]
  },
  {
   "cell_type": "code",
   "execution_count": 38,
   "metadata": {},
   "outputs": [
    {
     "name": "stdout",
     "output_type": "stream",
     "text": [
      "['lili', 'zhongpeng', '11']\n",
      "\n",
      "A\n",
      "That is all.Thank you!\n"
     ]
    }
   ],
   "source": [
    "names=['dianni','lili','zhongpeng','11']\n",
    "stupid='dianni'\n",
    "names.remove(stupid)\n",
    "print(names)\n",
    "print(\"\\nA\")\n",
    "a='That is all.'\n",
    "a=a+'Thank you!'\n",
    "print(a)"
   ]
  },
  {
   "cell_type": "code",
   "execution_count": 39,
   "metadata": {},
   "outputs": [
    {
     "name": "stdout",
     "output_type": "stream",
     "text": [
      "['dianni', 'eleven', 'lili', 'zhongpeng']\n",
      "That is all.Thank you!\n"
     ]
    }
   ],
   "source": [
    "names=['dianni','lili','zhongpeng','eleven']\n",
    "names.sort()\n",
    "print(names)\n",
    "a='That is all.'\n",
    "a=a+'Thank you!'\n",
    "print(a)"
   ]
  },
  {
   "cell_type": "code",
   "execution_count": 40,
   "metadata": {},
   "outputs": [
    {
     "name": "stdout",
     "output_type": "stream",
     "text": [
      "['zhongpeng', 'lili', 'eleven', 'dianni']\n",
      "That is all.Thank you!\n"
     ]
    }
   ],
   "source": [
    "names=['dianni','lili','zhongpeng','eleven']\n",
    "names.sort(reverse=True)\n",
    "print(names)\n",
    "a='That is all.'\n",
    "a=a+'Thank you!'\n",
    "print(a)"
   ]
  },
  {
   "cell_type": "code",
   "execution_count": 41,
   "metadata": {},
   "outputs": [
    {
     "name": "stdout",
     "output_type": "stream",
     "text": [
      "here is the original lists:\n",
      "['dianni', 'lili', 'zhongpeng', 'eleven']\n",
      "\n",
      "here is the sorted list: \n",
      "['dianni', 'eleven', 'lili', 'zhongpeng']\n",
      "\n",
      "here is the original list again:\n",
      "['dianni', 'lili', 'zhongpeng', 'eleven']\n",
      "That is all.Thank you!\n"
     ]
    }
   ],
   "source": [
    "names=['dianni','lili','zhongpeng','eleven']\n",
    "print(\"here is the original lists:\")\n",
    "print(names)\n",
    "\n",
    "print(\"\\nhere is the sorted list: \")\n",
    "print(sorted(names))\n",
    "\n",
    "print(\"\\nhere is the original list again:\")\n",
    "print(names)\n",
    "a='That is all.'\n",
    "a=a+'Thank you!'\n",
    "print(a)"
   ]
  },
  {
   "cell_type": "code",
   "execution_count": 42,
   "metadata": {},
   "outputs": [
    {
     "name": "stdout",
     "output_type": "stream",
     "text": [
      "['eleven', 'zhongpeng', 'lili', 'dianni']\n",
      "That is all.Thank you!\n"
     ]
    }
   ],
   "source": [
    "names=['dianni','lili','zhongpeng','eleven']\n",
    "names.reverse()\n",
    "print(names)\n",
    "a='That is all.'\n",
    "a=a+'Thank you!'\n",
    "print(a)"
   ]
  },
  {
   "cell_type": "code",
   "execution_count": 43,
   "metadata": {},
   "outputs": [
    {
     "name": "stdout",
     "output_type": "stream",
     "text": [
      "That is all.Thank you!\n"
     ]
    }
   ],
   "source": [
    "names=['dianni','lili','zhongpeng','eleven']\n",
    "len(names)\n",
    "a='That is all.'\n",
    "a=a+'Thank you!'\n",
    "print(a)"
   ]
  },
  {
   "cell_type": "code",
   "execution_count": 44,
   "metadata": {},
   "outputs": [
    {
     "name": "stdout",
     "output_type": "stream",
     "text": [
      "dianni\n",
      "lili\n",
      "zhongpeng\n",
      "eleven\n",
      "That is all.Thank you!\n"
     ]
    }
   ],
   "source": [
    "names=['dianni','lili','zhongpeng','eleven']\n",
    "for name in names:\n",
    "    print(name)\n",
    "    a='That is all.'\n",
    "a=a+'Thank you!'\n",
    "print(a)"
   ]
  },
  {
   "cell_type": "code",
   "execution_count": 45,
   "metadata": {},
   "outputs": [
    {
     "name": "stdout",
     "output_type": "stream",
     "text": [
      "Dianni , you are so clever!\n",
      "Lili , you are so clever!\n",
      "Zhongpeng , you are so clever!\n",
      "Eleven , you are so clever!\n",
      "That is all.Thank you!\n"
     ]
    }
   ],
   "source": [
    "names=['dianni','lili','zhongpeng','eleven']\n",
    "for name in names:\n",
    "    print(name.title()+\" , you are so clever!\")\n",
    "    a='That is all.'\n",
    "a=a+'Thank you!'\n",
    "print(a)"
   ]
  },
  {
   "cell_type": "code",
   "execution_count": 46,
   "metadata": {},
   "outputs": [
    {
     "name": "stdout",
     "output_type": "stream",
     "text": [
      "Dianni , you are so clever!\n",
      "fighting!Dianni\n",
      "Lili , you are so clever!\n",
      "fighting!Lili\n",
      "Zhongpeng , you are so clever!\n",
      "fighting!Zhongpeng\n",
      "Eleven , you are so clever!\n",
      "fighting!Eleven\n",
      "\n",
      "毕业顺利！\n",
      "That is all.Thank you!\n"
     ]
    }
   ],
   "source": [
    "names=['dianni','lili','zhongpeng','eleven']\n",
    "for name in names:\n",
    "    print(name.title()+\" , you are so clever!\")\n",
    "    print(\"fighting!\"+name.title())\n",
    "\n",
    "print(\"\\n毕业顺利！\")\n",
    "a='That is all.'\n",
    "a=a+'Thank you!'\n",
    "print(a)"
   ]
  },
  {
   "cell_type": "code",
   "execution_count": 47,
   "metadata": {},
   "outputs": [
    {
     "name": "stdout",
     "output_type": "stream",
     "text": [
      "1\n",
      "2\n",
      "3\n",
      "4\n",
      "That is all.Thank you!\n"
     ]
    }
   ],
   "source": [
    "for value in range(1,5):\n",
    "    print(value)\n",
    "    a='That is all.'\n",
    "a=a+'Thank you!'\n",
    "print(a)"
   ]
  },
  {
   "cell_type": "code",
   "execution_count": 48,
   "metadata": {},
   "outputs": [
    {
     "name": "stdout",
     "output_type": "stream",
     "text": [
      "[1, 2, 3, 4, 5]\n",
      "That is all.Thank you!\n"
     ]
    }
   ],
   "source": [
    "numbers=list(range(1,6))\n",
    "print(numbers)\n",
    "a='That is all.'\n",
    "a=a+'Thank you!'\n",
    "print(a)"
   ]
  },
  {
   "cell_type": "code",
   "execution_count": 49,
   "metadata": {},
   "outputs": [
    {
     "name": "stdout",
     "output_type": "stream",
     "text": [
      "[2, 4, 6, 8, 10]\n",
      "That is all.Thank you!\n"
     ]
    }
   ],
   "source": [
    "even_numbers=list(range(2,11,2))\n",
    "print(even_numbers)\n",
    "a='That is all.'\n",
    "a=a+'Thank you!'\n",
    "print(a)"
   ]
  },
  {
   "cell_type": "code",
   "execution_count": 50,
   "metadata": {},
   "outputs": [
    {
     "name": "stdout",
     "output_type": "stream",
     "text": [
      "[1]\n",
      "[1, 4]\n",
      "[1, 4, 9]\n",
      "[1, 4, 9, 16]\n",
      "[1, 4, 9, 16, 25]\n",
      "[1, 4, 9, 16, 25, 36]\n",
      "[1, 4, 9, 16, 25, 36, 49]\n",
      "[1, 4, 9, 16, 25, 36, 49, 64]\n",
      "[1, 4, 9, 16, 25, 36, 49, 64, 81]\n",
      "[1, 4, 9, 16, 25, 36, 49, 64, 81, 100]\n",
      "That is all.Thank you!\n"
     ]
    }
   ],
   "source": [
    "squares=[]\n",
    "for value in range(1,11):\n",
    "    square=value**2\n",
    "    squares.append(square)\n",
    "    \n",
    "    print(squares)\n",
    "    a='That is all.'\n",
    "a=a+'Thank you!'\n",
    "print(a)"
   ]
  },
  {
   "cell_type": "code",
   "execution_count": 51,
   "metadata": {},
   "outputs": [
    {
     "name": "stdout",
     "output_type": "stream",
     "text": [
      "[1]\n",
      "[1, 4]\n",
      "[1, 4, 9]\n",
      "[1, 4, 9, 16]\n",
      "[1, 4, 9, 16, 25]\n",
      "[1, 4, 9, 16, 25, 36]\n",
      "[1, 4, 9, 16, 25, 36, 49]\n",
      "[1, 4, 9, 16, 25, 36, 49, 64]\n",
      "[1, 4, 9, 16, 25, 36, 49, 64, 81]\n",
      "[1, 4, 9, 16, 25, 36, 49, 64, 81, 100]\n",
      "That is all.Thank you!\n"
     ]
    }
   ],
   "source": [
    "squares=[]\n",
    "for value in range(1,11):\n",
    "    squares.append(value**2)\n",
    "    \n",
    "    print(squares)\n",
    "a='That is all.'\n",
    "a=a+'Thank you!'\n",
    "print(a)"
   ]
  },
  {
   "cell_type": "code",
   "execution_count": 52,
   "metadata": {},
   "outputs": [
    {
     "name": "stdout",
     "output_type": "stream",
     "text": [
      "1\n",
      "10\n",
      "That is all.Thank you!\n"
     ]
    }
   ],
   "source": [
    "digits=[1,2,3,4,5,6,7,8,9,10]\n",
    "print(min(digits))\n",
    "print(max(digits))\n",
    "#print(sum(digits))\n",
    "a='That is all.'\n",
    "a=a+'Thank you!'\n",
    "print(a)"
   ]
  },
  {
   "cell_type": "code",
   "execution_count": 53,
   "metadata": {},
   "outputs": [
    {
     "name": "stdout",
     "output_type": "stream",
     "text": [
      "[1, 4, 9, 16, 25, 36, 49, 64, 81, 100]\n",
      "That is all.Thank you!\n"
     ]
    }
   ],
   "source": [
    "squares=[value**2 for value in range(1,11)]\n",
    "print(squares)\n",
    "a='That is all.'\n",
    "a=a+'Thank you!'\n",
    "print(a)"
   ]
  },
  {
   "cell_type": "code",
   "execution_count": 54,
   "metadata": {},
   "outputs": [
    {
     "name": "stdout",
     "output_type": "stream",
     "text": [
      "1\n",
      "2\n",
      "3\n",
      "4\n",
      "5\n",
      "6\n",
      "7\n",
      "8\n",
      "9\n",
      "10\n",
      "11\n",
      "12\n",
      "13\n",
      "14\n",
      "15\n",
      "16\n",
      "17\n",
      "18\n",
      "19\n",
      "20\n",
      "That is all.Thank you!\n"
     ]
    }
   ],
   "source": [
    "numbers=[]\n",
    "for value in range(1,21):\n",
    "    print(value)\n",
    "    a='That is all.'\n",
    "a=a+'Thank you!'\n",
    "print(a)"
   ]
  },
  {
   "cell_type": "code",
   "execution_count": 55,
   "metadata": {},
   "outputs": [
    {
     "name": "stdout",
     "output_type": "stream",
     "text": [
      "1\n",
      "3\n",
      "5\n",
      "7\n",
      "9\n",
      "11\n",
      "13\n",
      "15\n",
      "17\n",
      "19\n",
      "That is all.Thank you!\n"
     ]
    }
   ],
   "source": [
    "numbers=[]\n",
    "for value in range(1,21,2):\n",
    "    print(value)\n",
    "    a='That is all.'\n",
    "a=a+'Thank you!'\n",
    "print(a)"
   ]
  },
  {
   "cell_type": "code",
   "execution_count": 56,
   "metadata": {},
   "outputs": [
    {
     "name": "stdout",
     "output_type": "stream",
     "text": [
      "3\n",
      "6\n",
      "9\n",
      "12\n",
      "15\n",
      "18\n",
      "21\n",
      "24\n",
      "27\n",
      "30\n",
      "That is all.Thank you!\n"
     ]
    }
   ],
   "source": [
    "numbers=[]\n",
    "for value in range(3,31,3):\n",
    "    print(value)\n",
    "    a='That is all.'\n",
    "a=a+'Thank you!'\n",
    "print(a)"
   ]
  },
  {
   "cell_type": "code",
   "execution_count": 57,
   "metadata": {},
   "outputs": [
    {
     "name": "stdout",
     "output_type": "stream",
     "text": [
      "[8]\n",
      "[8, 16]\n",
      "[8, 16, 24]\n",
      "[8, 16, 24, 32]\n",
      "[8, 16, 24, 32, 40]\n",
      "[8, 16, 24, 32, 40, 48]\n",
      "[8, 16, 24, 32, 40, 48, 56]\n",
      "[8, 16, 24, 32, 40, 48, 56, 64]\n",
      "[8, 16, 24, 32, 40, 48, 56, 64, 72]\n",
      "[8, 16, 24, 32, 40, 48, 56, 64, 72, 80]\n",
      "That is all.Thank you!\n"
     ]
    }
   ],
   "source": [
    "squares=[]\n",
    "for value in range(1,11):\n",
    "    squares.append(value*2**3)\n",
    "    \n",
    "    print(squares)\n",
    "    a='That is all.'\n",
    "a=a+'Thank you!'\n",
    "print(a)"
   ]
  },
  {
   "cell_type": "code",
   "execution_count": 58,
   "metadata": {},
   "outputs": [
    {
     "name": "stdout",
     "output_type": "stream",
     "text": [
      "['dianni', 'lili', 'zhongpeng']\n",
      "That is all.Thank you!\n"
     ]
    }
   ],
   "source": [
    "names=['dianni','lili','zhongpeng','eleven']\n",
    "print(names[:3])\n",
    "a='That is all.'\n",
    "a=a+'Thank you!'\n",
    "print(a)"
   ]
  },
  {
   "cell_type": "code",
   "execution_count": 59,
   "metadata": {},
   "outputs": [
    {
     "name": "stdout",
     "output_type": "stream",
     "text": [
      "they are my friends:\n",
      "Lili\n",
      "Zhongpeng\n",
      "Eleven\n",
      "That is all.Thank you!\n"
     ]
    }
   ],
   "source": [
    "names=['dianni','lili','zhongpeng','eleven']\n",
    "\n",
    "print(\"they are my friends:\")\n",
    "for name in names[1:4]:\n",
    "    print(name.title())\n",
    "    a='That is all.'\n",
    "a=a+'Thank you!'\n",
    "print(a)"
   ]
  },
  {
   "cell_type": "code",
   "execution_count": 60,
   "metadata": {},
   "outputs": [
    {
     "name": "stdout",
     "output_type": "stream",
     "text": [
      "the team members are: \n",
      "['dianni', 'lili', 'zhongpeng', 'eleven']\n",
      "That is all.Thank you!\n"
     ]
    }
   ],
   "source": [
    "names=['dianni','lili','zhongpeng','eleven']\n",
    "team_names=names[:]\n",
    "\n",
    "print(\"the team members are: \")\n",
    "print(team_names)\n",
    "a='That is all.'\n",
    "a=a+'Thank you!'\n",
    "print(a)"
   ]
  },
  {
   "cell_type": "code",
   "execution_count": 61,
   "metadata": {},
   "outputs": [
    {
     "name": "stdout",
     "output_type": "stream",
     "text": [
      "my favorite foods are:\n",
      "['pizza', 'apple', 'water', 'ice cream']\n",
      "\n",
      "my friend favorite foods are:\n",
      "['pizza', 'apple', 'water', 'cola']\n",
      "That is all.Thank you!\n"
     ]
    }
   ],
   "source": [
    "my_foods=['pizza','apple','water']\n",
    "friend_foods=my_foods[:]\n",
    "my_foods.append('ice cream')\n",
    "friend_foods.append('cola')\n",
    "\n",
    "print(\"my favorite foods are:\")\n",
    "print(my_foods)\n",
    "\n",
    "print(\"\\nmy friend favorite foods are:\")\n",
    "print(friend_foods)\n",
    "a='That is all.'\n",
    "a=a+'Thank you!'\n",
    "print(a)"
   ]
  },
  {
   "cell_type": "code",
   "execution_count": 62,
   "metadata": {},
   "outputs": [
    {
     "name": "stdout",
     "output_type": "stream",
     "text": [
      "200\n",
      "50\n",
      "That is all.Thank you!\n"
     ]
    }
   ],
   "source": [
    "dimensions=(200,50)\n",
    "print(dimensions[0])\n",
    "print(dimensions[1])\n",
    "a='That is all.'\n",
    "a=a+'Thank you!'\n",
    "print(a)"
   ]
  },
  {
   "cell_type": "code",
   "execution_count": 63,
   "metadata": {},
   "outputs": [
    {
     "name": "stdout",
     "output_type": "stream",
     "text": [
      "200\n",
      "50\n",
      "That is all.Thank you!\n"
     ]
    }
   ],
   "source": [
    "dimensions=(200,50)\n",
    "for dimension in dimensions:\n",
    "    print(dimension)\n",
    "    a='That is all.'\n",
    "a=a+'Thank you!'\n",
    "print(a)"
   ]
  },
  {
   "cell_type": "code",
   "execution_count": 64,
   "metadata": {},
   "outputs": [
    {
     "name": "stdout",
     "output_type": "stream",
     "text": [
      "original dimensions:\n",
      "200\n",
      "50\n",
      "\n",
      "modified dimensions:\n",
      "400\n",
      "100\n",
      "That is all.Thank you!\n"
     ]
    }
   ],
   "source": [
    "dimensions=(200,50)\n",
    "print(\"original dimensions:\")\n",
    "for dimension in dimensions:\n",
    "    print(dimension)\n",
    "    \n",
    "dimensions=(400,100)\n",
    "print(\"\\nmodified dimensions:\")\n",
    "for dimension in dimensions:\n",
    "    print(dimension)\n",
    "    a='That is all.'\n",
    "a=a+'Thank you!'\n",
    "print(a)"
   ]
  },
  {
   "cell_type": "code",
   "execution_count": 69,
   "metadata": {},
   "outputs": [
    {
     "data": {
      "image/png": "[encoded data removed]",
      "text/plain": [
       "<Figure size 432x288 with 1 Axes>"
      ]
     },
     "metadata": {},
     "output_type": "display_data"
    }
   ],
   "source": [
    "import matplotlib.pyplot as plt\n",
    "import seaborn as sns\n",
    "import pandas as pd\n",
    "import numpy as np\n",
    "\n",
    "labels = 'Di', 'αf', 'Di-αf', 'Others'\n",
    "sizes = 87.55, 10.81, 1.43, 0.22\n",
    "colors = 'lightskyblue', 'gold', 'lightcoral', 'lightgreen'\n",
    "explode=0.1, 0.2, 0.2, 0.5\n",
    "patches,l_text,p_text=plt.pie(sizes, explode=explode, labels=labels, colors=colors, autopct='%1.2f%%',shadow=False,startangle=50)\n",
    "plt.axis('equal')\n",
    "plt.legend(loc=\"upper right\",fontsize=5,bbox_to_anchor=(1.1,1.05),borderaxespad=0.9)\n",
    "\n",
    "for t in p_text:\n",
    "    t.set_size(9)\n",
    "\n",
    "for t in l_text:\n",
    "    t.set_size(9)\n",
    "plt.show()"
   ]
  },
  {
   "cell_type": "code",
   "execution_count": 70,
   "metadata": {},
   "outputs": [
    {
     "data": {
      "image/png": "[encoded data removed]",
      "text/plain": [
       "<Figure size 432x288 with 1 Axes>"
      ]
     },
     "metadata": {
      "needs_background": "light"
     },
     "output_type": "display_data"
    }
   ],
   "source": [
    "data = {'a': np.arange(50),\n",
    "        'c': np.random.randint(0, 50, 50),\n",
    "        'd': np.random.randn(50)}\n",
    "data['b'] = data['a'] + 10 * np.random.randn(50)\n",
    "data['d'] = np.abs(data['d']) * 100\n",
    "plt.scatter('a', 'b', c='c', s='d', data=data)\n",
    "plt.xlabel('entry a')\n",
    "plt.ylabel('entry b')\n",
    "plt.show()\n"
   ]
  },
  {
   "cell_type": "code",
   "execution_count": 71,
   "metadata": {},
   "outputs": [
    {
     "name": "stdout",
     "output_type": "stream",
     "text": [
      "That is all.Thank you!\n"
     ]
    },
    {
     "data": {
      "image/png": "[encoded data removed]",
      "text/plain": [
       "<Figure size 648x216 with 3 Axes>"
      ]
     },
     "metadata": {
      "needs_background": "light"
     },
     "output_type": "display_data"
    }
   ],
   "source": [
    "a='That is all.'\n",
    "a=a+'Thank you!'\n",
    "print(a)\n",
    "names = ['group_a', 'group_b', 'group_c']\n",
    "values = [1, 10, 100]\n",
    "\n",
    "plt.figure(figsize=(9, 3))\n",
    "\n",
    "plt.subplot(131)\n",
    "plt.bar(names, values)\n",
    "plt.subplot(132)\n",
    "plt.scatter(names, values)\n",
    "plt.subplot(133)\n",
    "plt.plot(names, values)\n",
    "plt.suptitle('Categorical Plotting')\n",
    "plt.show()"
   ]
  },
  {
   "cell_type": "code",
   "execution_count": 72,
   "metadata": {},
   "outputs": [
    {
     "name": "stdout",
     "output_type": "stream",
     "text": [
      "That is all.Thank you!\n"
     ]
    },
    {
     "data": {
      "image/png": "[encoded data removed]",
      "text/plain": [
       "<Figure size 360x360 with 1 Axes>"
      ]
     },
     "metadata": {
      "needs_background": "light"
     },
     "output_type": "display_data"
    }
   ],
   "source": [
    "a='That is all.'\n",
    "a=a+'Thank you!'\n",
    "print(a)\n",
    "names = ['Di', 'αf', 'Di-αf', 'Others']\n",
    "values = [87.55, 10.81, 1.43, 0.22]\n",
    "plt.figure(figsize=(5, 5))\n",
    "plt.bar(names, values)\n",
    "plt.plot(names, values)\n",
    "plt.show()"
   ]
  },
  {
   "cell_type": "code",
   "execution_count": 73,
   "metadata": {},
   "outputs": [
    {
     "name": "stdout",
     "output_type": "stream",
     "text": [
      "That is all.Thank you!\n"
     ]
    },
    {
     "data": {
      "image/png": "[encoded data removed]",
      "text/plain": [
       "<Figure size 432x288 with 1 Axes>"
      ]
     },
     "metadata": {
      "needs_background": "light"
     },
     "output_type": "display_data"
    }
   ],
   "source": [
    "a='That is all.'\n",
    "a=a+'Thank you!'\n",
    "print(a)\n",
    "mu, sigma = 100, 15\n",
    "x = mu + sigma * np.random.randn(10000)\n",
    "\n",
    "# the histogram of the data\n",
    "n, bins, patches = plt.hist(x, 50, density=1, facecolor='g', alpha=0.75)\n",
    "\n",
    "plt.xlabel('Smarts')\n",
    "plt.ylabel('Probability')\n",
    "plt.title('Histogram of IQ')\n",
    "plt.text(60, .025, r'$\\mu=100,\\ \\sigma=15$')\n",
    "plt.axis([40, 160, 0, 0.03])\n",
    "plt.grid(True)\n",
    "plt.show()"
   ]
  },
  {
   "cell_type": "code",
   "execution_count": 74,
   "metadata": {},
   "outputs": [
    {
     "name": "stdout",
     "output_type": "stream",
     "text": [
      "That is all.Thank you!\n"
     ]
    },
    {
     "data": {
      "text/plain": [
       "<matplotlib.legend.Legend at 0x1ec7b39f808>"
      ]
     },
     "execution_count": 74,
     "metadata": {},
     "output_type": "execute_result"
    },
    {
     "data": {
      "image/png": "[encoded data removed]",
      "text/plain": [
       "<Figure size 432x288 with 1 Axes>"
      ]
     },
     "metadata": {
      "needs_background": "light"
     },
     "output_type": "display_data"
    }
   ],
   "source": [
    "a='That is all.'\n",
    "a=a+'Thank you!'\n",
    "print(a)\n",
    "x = np.linspace(0, 2, 100)\n",
    "\n",
    "plt.plot(x, x, label='linear')  # Plot some data on the (implicit) axes.\n",
    "plt.plot(x, x**2, label='quadratic')  # etc.\n",
    "plt.plot(x, x**3, label='cubic')\n",
    "plt.xlabel('x label')\n",
    "plt.ylabel('y label')\n",
    "plt.title(\"Simple Plot\")\n",
    "plt.legend()"
   ]
  },
  {
   "cell_type": "code",
   "execution_count": 75,
   "metadata": {},
   "outputs": [
    {
     "name": "stdout",
     "output_type": "stream",
     "text": [
      "That is all.Thank you!\n"
     ]
    },
    {
     "data": {
      "text/plain": [
       "[<matplotlib.lines.Line2D at 0x1ec7b372c08>]"
      ]
     },
     "execution_count": 75,
     "metadata": {},
     "output_type": "execute_result"
    },
    {
     "data": {
      "image/png": "[encoded data removed]",
      "text/plain": [
       "<Figure size 432x288 with 1 Axes>"
      ]
     },
     "metadata": {
      "needs_background": "light"
     },
     "output_type": "display_data"
    }
   ],
   "source": [
    "a='That is all.'\n",
    "a=a+'Thank you!'\n",
    "print(a)\n",
    "fig, ax = plt.subplots() \n",
    "ax.plot([1, 2, 3, 4], [1, 4, 2, 3])"
   ]
  },
  {
   "cell_type": "code",
   "execution_count": 76,
   "metadata": {},
   "outputs": [
    {
     "name": "stdout",
     "output_type": "stream",
     "text": [
      "That is all.Thank you!\n"
     ]
    },
    {
     "data": {
      "text/plain": [
       "<matplotlib.legend.Legend at 0x1ec79f81088>"
      ]
     },
     "execution_count": 76,
     "metadata": {},
     "output_type": "execute_result"
    },
    {
     "data": {
      "image/png": "[encoded data removed]",
      "text/plain": [
       "<Figure size 432x288 with 1 Axes>"
      ]
     },
     "metadata": {
      "needs_background": "light"
     },
     "output_type": "display_data"
    }
   ],
   "source": [
    "a='That is all.'\n",
    "a=a+'Thank you!'\n",
    "print(a)\n",
    "x = [0.65,0.70,0.75,0.80,0.85,0.90,0.95,1.00,1.05]\n",
    "\n",
    "plt.plot([649.0180,631.4505,613.8460,594.5765,560.2595,513.2480,485.8830,437.5155,409.2235],label='MassFlowAve')\n",
    "plt.plot([227.4786,221.3226,215.1522,208.3986,196.3710,179.8938,170.3034,153.3492,143.4330],label='VolumeFlowAve')  \n",
    "plt.plot([4.302,4.708,5.118,5.533,5.979,6.453,6.903,7.448,7.843],label='Head')\n",
    "plt.xlabel('Pout(Pa)')\n",
    "plt.ylabel('y label')\n",
    "plt.title(\"Simple Plot\")\n",
    "plt.legend()"
   ]
  },
  {
   "cell_type": "code",
   "execution_count": 79,
   "metadata": {},
   "outputs": [
    {
     "name": "stdout",
     "output_type": "stream",
     "text": [
      "6=6\n",
      "7=7\n",
      "8=8\n",
      "9=无解！\n",
      "10=无解！\n",
      "11=无解！\n",
      "12=6+6\n",
      "13=6+7\n",
      "14=6+8\n",
      "15=7+8\n",
      "16=8+8\n",
      "17=无解！\n",
      "18=6+6+6\n",
      "19=6+6+7\n",
      "20=6+6+8\n",
      "21=6+7+8\n",
      "22=6+8+8\n",
      "23=7+8+8\n",
      "24=8+8+8\n",
      "25=6+6+6+7\n",
      "26=6+6+6+8\n",
      "27=6+6+7+8\n",
      "28=6+6+8+8\n",
      "29=6+7+8+8\n",
      "30=6+8+8+8\n",
      "31=7+8+8+8\n",
      "32=8+8+8+8\n",
      "33=6+6+6+7+8\n",
      "34=6+6+6+8+8\n",
      "35=6+6+7+8+8\n",
      "36=6+6+8+8+8\n",
      "37=6+7+8+8+8\n",
      "38=6+8+8+8+8\n",
      "39=7+8+8+8+8\n",
      "40=8+8+8+8+8\n",
      "41=6+6+6+7+8+8\n",
      "42=6+6+6+8+8+8\n",
      "43=6+6+7+8+8+8\n",
      "44=6+6+8+8+8+8\n",
      "45=6+7+8+8+8+8\n",
      "46=6+8+8+8+8+8\n",
      "47=7+8+8+8+8+8\n",
      "48=8+8+8+8+8+8\n",
      "49=6+6+6+7+8+8+8\n",
      "50=6+6+6+8+8+8+8\n",
      "51=6+6+7+8+8+8+8\n",
      "52=6+6+8+8+8+8+8\n",
      "53=6+7+8+8+8+8+8\n",
      "54=6+8+8+8+8+8+8\n",
      "55=7+8+8+8+8+8+8\n",
      "56=8+8+8+8+8+8+8\n",
      "57=6+6+6+7+8+8+8+8\n",
      "58=6+6+6+8+8+8+8+8\n",
      "59=6+6+7+8+8+8+8+8\n",
      "60=6+6+8+8+8+8+8+8\n",
      "61=6+7+8+8+8+8+8+8\n",
      "62=6+8+8+8+8+8+8+8\n",
      "63=7+8+8+8+8+8+8+8\n",
      "64=8+8+8+8+8+8+8+8\n",
      "65=6+6+6+7+8+8+8+8+8\n",
      "66=6+6+6+8+8+8+8+8+8\n",
      "67=6+6+7+8+8+8+8+8+8\n",
      "68=6+6+8+8+8+8+8+8+8\n",
      "69=6+7+8+8+8+8+8+8+8\n",
      "70=6+8+8+8+8+8+8+8+8\n",
      "71=7+8+8+8+8+8+8+8+8\n",
      "72=8+8+8+8+8+8+8+8+8\n",
      "73=6+6+6+7+8+8+8+8+8+8\n",
      "74=6+6+6+8+8+8+8+8+8+8\n",
      "75=6+6+7+8+8+8+8+8+8+8\n",
      "76=6+6+8+8+8+8+8+8+8+8\n",
      "77=6+7+8+8+8+8+8+8+8+8\n",
      "78=6+8+8+8+8+8+8+8+8+8\n",
      "79=7+8+8+8+8+8+8+8+8+8\n",
      "80=8+8+8+8+8+8+8+8+8+8\n",
      "81=6+6+6+7+8+8+8+8+8+8+8\n",
      "82=6+6+6+8+8+8+8+8+8+8+8\n",
      "83=6+6+7+8+8+8+8+8+8+8+8\n",
      "84=6+6+8+8+8+8+8+8+8+8+8\n",
      "85=6+7+8+8+8+8+8+8+8+8+8\n",
      "86=6+8+8+8+8+8+8+8+8+8+8\n",
      "87=7+8+8+8+8+8+8+8+8+8+8\n",
      "88=8+8+8+8+8+8+8+8+8+8+8\n",
      "89=6+6+6+7+8+8+8+8+8+8+8+8\n",
      "90=6+6+6+8+8+8+8+8+8+8+8+8\n",
      "91=6+6+7+8+8+8+8+8+8+8+8+8\n",
      "92=6+6+8+8+8+8+8+8+8+8+8+8\n",
      "93=6+7+8+8+8+8+8+8+8+8+8+8\n",
      "94=6+8+8+8+8+8+8+8+8+8+8+8\n",
      "95=7+8+8+8+8+8+8+8+8+8+8+8\n",
      "96=8+8+8+8+8+8+8+8+8+8+8+8\n",
      "97=6+6+6+7+8+8+8+8+8+8+8+8+8\n",
      "98=6+6+6+8+8+8+8+8+8+8+8+8+8\n",
      "99=6+6+7+8+8+8+8+8+8+8+8+8+8\n",
      "That is all.Thank you!\n"
     ]
    }
   ],
   "source": [
    "def s(n):\n",
    "    if (n<6):\n",
    "        return '0'\n",
    "    if n==6:\n",
    "        return '6'\n",
    "    if n==7:\n",
    "        return '7'\n",
    "    if n==8:\n",
    "        return '8'\n",
    "\n",
    "\n",
    "    t8=s(n-8)\n",
    "    if t8[0]!='0':\n",
    "        return t8+'+8'\n",
    "    \n",
    "    t7=s(n-7)    \n",
    "    if t7[0]!='0':\n",
    "        return t7+'+7'\n",
    "    \n",
    "    t6=s(n-6)    \n",
    "    if t6[0]!='0':\n",
    "        return t6+'+6'\n",
    "\n",
    "\n",
    "    return '0'\n",
    "\n",
    "\n",
    "\n",
    "\n",
    "for i in range(6,100):\n",
    "    t=s(i)\n",
    "    if t!='0':\n",
    "        print(str(i)+\"=\"+t)\n",
    "    else:\n",
    "        print(str(i)+\"=无解！\")\n",
    "        \n",
    "a='That is all.'\n",
    "a=a+'Thank you!'\n",
    "print(a)"
   ]
  },
  {
   "cell_type": "code",
   "execution_count": 81,
   "metadata": {},
   "outputs": [
    {
     "name": "stdout",
     "output_type": "stream",
     "text": [
      "100=无解！\n",
      "101=无解！\n",
      "102=17+17+17+17+17+17\n",
      "103=无解！\n",
      "104=17+17+17+17+17+19\n",
      "105=17+17+71\n",
      "106=17+17+17+17+19+19\n",
      "107=17+19+71\n",
      "108=17+17+17+19+19+19\n",
      "109=19+19+71\n",
      "110=17+17+19+19+19+19\n",
      "111=无解！\n",
      "112=17+17+17+61\n",
      "113=无解！\n",
      "114=17+17+19+61\n",
      "115=无解！\n",
      "116=17+19+19+61\n",
      "117=无解！\n",
      "118=19+19+19+61\n",
      "119=17+17+17+17+17+17+17\n",
      "120=无解！\n",
      "121=17+17+17+17+17+17+19\n",
      "122=17+17+17+71\n",
      "123=17+17+17+17+17+19+19\n",
      "124=17+17+19+71\n",
      "125=17+17+17+17+19+19+19\n",
      "126=17+19+19+71\n",
      "127=17+17+17+19+19+19+19\n",
      "128=19+19+19+71\n",
      "129=17+17+17+17+61\n",
      "130=无解！\n",
      "131=17+17+17+19+61\n",
      "132=61+71\n",
      "133=17+17+19+19+61\n",
      "134=无解！\n",
      "135=17+19+19+19+61\n",
      "136=17+17+17+17+17+17+17+17\n",
      "137=19+19+19+19+61\n",
      "138=17+17+17+17+17+17+17+19\n",
      "139=17+17+17+17+71\n",
      "140=17+17+17+17+17+17+19+19\n",
      "141=17+17+17+19+71\n",
      "142=71+71\n",
      "143=17+17+19+19+71\n",
      "144=17+17+17+17+19+19+19+19\n",
      "145=17+19+19+19+71\n",
      "146=17+17+17+17+17+61\n",
      "147=19+19+19+19+71\n",
      "148=17+17+17+17+19+61\n",
      "149=17+61+71\n",
      "150=17+17+17+19+19+61\n",
      "151=19+61+71\n",
      "152=17+17+19+19+19+61\n",
      "153=17+17+17+17+17+17+17+17+17\n",
      "154=17+19+19+19+19+61\n",
      "155=17+17+17+17+17+17+17+17+19\n",
      "156=17+17+17+17+17+71\n",
      "157=17+17+17+17+17+17+17+19+19\n",
      "158=17+17+17+17+19+71\n",
      "159=17+71+71\n",
      "160=17+17+17+19+19+71\n",
      "161=19+71+71\n",
      "162=17+17+19+19+19+71\n",
      "163=17+17+17+17+17+17+61\n",
      "164=17+19+19+19+19+71\n",
      "165=17+17+17+17+17+19+61\n",
      "166=17+17+61+71\n",
      "167=17+17+17+17+19+19+61\n",
      "168=17+19+61+71\n",
      "169=17+17+17+19+19+19+61\n",
      "170=19+19+61+71\n",
      "171=17+17+19+19+19+19+61\n",
      "172=17+17+17+17+17+17+17+17+17+19\n",
      "173=17+17+17+17+17+17+71\n",
      "174=17+17+17+17+17+17+17+17+19+19\n",
      "175=17+17+17+17+17+19+71\n",
      "176=17+17+71+71\n",
      "177=17+17+17+17+19+19+71\n",
      "178=17+19+71+71\n",
      "179=17+17+17+19+19+19+71\n",
      "180=19+19+71+71\n",
      "181=17+17+19+19+19+19+71\n",
      "182=17+17+17+17+17+17+19+61\n",
      "183=17+17+17+61+71\n",
      "184=17+17+17+17+17+19+19+61\n",
      "185=17+17+19+61+71\n",
      "186=17+17+17+17+19+19+19+61\n",
      "187=17+19+19+61+71\n",
      "188=17+17+17+19+19+19+19+61\n",
      "189=19+19+19+61+71\n",
      "190=17+17+17+17+17+17+17+71\n",
      "191=17+17+17+17+17+17+17+17+17+19+19\n",
      "192=17+17+17+17+17+17+19+71\n",
      "193=17+17+17+71+71\n",
      "194=17+17+17+17+17+19+19+71\n",
      "195=17+17+19+71+71\n",
      "196=17+17+17+17+19+19+19+71\n",
      "197=17+19+19+71+71\n",
      "198=17+17+17+19+19+19+19+71\n",
      "199=19+19+19+71+71\n",
      "That is all.Thank you!\n"
     ]
    }
   ],
   "source": [
    "def ss(n,numlist):\n",
    "    #功能：用numlist里面的数字，随意组合，使它们的和凑成n\n",
    "    \n",
    "    #给列表排序，将大数放前面，以便先尝试大数\n",
    "    numlist.sort(reverse=True)\n",
    " \n",
    "    #如果n小于最小对的数，尝试失败，返回0\n",
    "    if (n<min(numlist)):\n",
    "        return '0'\n",
    "    \n",
    "    #逐一核对，如果n刚好等于numlist列表的某个数，组合成功。\n",
    "    for i in numlist:\n",
    "        if n==i:\n",
    "            return str(i)\n",
    " \n",
    "    #逐一迭代，如果返回的值第一个字符不是0，表示尝试成功，返回值。    \n",
    "    for i in numlist:        \n",
    "        ti=ss(n-i,numlist)\n",
    "        if ti[0]!='0':\n",
    "            return ti+'+'+str(i)\n",
    "        else:\n",
    "            del ti\n",
    " \n",
    "    #如果上面有尝试成功，这句话不会被执行，\n",
    "    #以上尝试失败，会执行下面的语句，返回0\n",
    "    return '0'\n",
    " \n",
    " \n",
    "for i in range(100,200):\n",
    "    t=ss(i,[61,71,17,19])\n",
    "    if t!='0':\n",
    "        print(str(i)+\"=\"+t)\n",
    "    else:\n",
    "        print(str(i)+\"=无解！\")\n",
    "a='That is all.'\n",
    "a=a+'Thank you!'\n",
    "print(a)"
   ]
  },
  {
   "cell_type": "code",
   "execution_count": 82,
   "metadata": {},
   "outputs": [
    {
     "name": "stdout",
     "output_type": "stream",
     "text": [
      "100=无解！\n",
      "101=无解！\n",
      "102=17+17+17+17+17+17\n",
      "103=无解！\n",
      "104=17+17+17+17+17+19\n",
      "105=17+17+71\n",
      "106=17+17+17+17+19+19\n",
      "107=17+19+71\n",
      "108=17+17+17+19+19+19\n",
      "109=19+19+71\n",
      "110=17+17+19+19+19+19\n",
      "111=无解！\n",
      "112=17+17+17+61\n",
      "113=无解！\n",
      "114=17+17+19+61\n",
      "115=无解！\n",
      "116=17+19+19+61\n",
      "117=无解！\n",
      "118=19+19+19+61\n",
      "119=17+17+17+17+17+17+17\n",
      "120=无解！\n",
      "121=17+17+17+17+17+17+19\n",
      "122=17+17+17+71\n",
      "123=17+17+17+17+17+19+19\n",
      "124=17+17+19+71\n",
      "125=17+17+17+17+19+19+19\n",
      "126=17+19+19+71\n",
      "127=17+17+17+19+19+19+19\n",
      "128=19+19+19+71\n",
      "129=17+17+17+17+61\n",
      "130=无解！\n",
      "131=17+17+17+19+61\n",
      "132=61+71\n",
      "133=17+17+19+19+61\n",
      "134=无解！\n",
      "135=17+19+19+19+61\n",
      "136=17+17+17+17+17+17+17+17\n",
      "137=19+19+19+19+61\n",
      "138=17+17+17+17+17+17+17+19\n",
      "139=17+17+17+17+71\n",
      "140=17+17+17+17+17+17+19+19\n",
      "141=17+17+17+19+71\n",
      "142=71+71\n",
      "143=17+17+19+19+71\n",
      "144=17+17+17+17+19+19+19+19\n",
      "145=17+19+19+19+71\n",
      "146=17+17+17+17+17+61\n",
      "147=19+19+19+19+71\n",
      "148=17+17+17+17+19+61\n",
      "149=17+61+71\n",
      "150=17+17+17+19+19+61\n",
      "151=19+61+71\n",
      "152=17+17+19+19+19+61\n",
      "153=17+17+17+17+17+17+17+17+17\n",
      "154=17+19+19+19+19+61\n",
      "155=17+17+17+17+17+17+17+17+19\n",
      "156=17+17+17+17+17+71\n",
      "157=17+17+17+17+17+17+17+19+19\n",
      "158=17+17+17+17+19+71\n",
      "159=17+71+71\n",
      "160=17+17+17+19+19+71\n",
      "161=19+71+71\n",
      "162=17+17+19+19+19+71\n",
      "163=17+17+17+17+17+17+61\n",
      "164=17+19+19+19+19+71\n",
      "165=17+17+17+17+17+19+61\n",
      "166=17+17+61+71\n",
      "167=17+17+17+17+19+19+61\n",
      "168=17+19+61+71\n",
      "169=17+17+17+19+19+19+61\n",
      "170=19+19+61+71\n",
      "171=17+17+19+19+19+19+61\n",
      "172=17+17+17+17+17+17+17+17+17+19\n",
      "173=17+17+17+17+17+17+71\n",
      "174=17+17+17+17+17+17+17+17+19+19\n",
      "175=17+17+17+17+17+19+71\n",
      "176=17+17+71+71\n",
      "177=17+17+17+17+19+19+71\n",
      "178=17+19+71+71\n",
      "179=17+17+17+19+19+19+71\n",
      "180=19+19+71+71\n",
      "181=17+17+19+19+19+19+71\n",
      "182=17+17+17+17+17+17+19+61\n",
      "183=17+17+17+61+71\n",
      "184=17+17+17+17+17+19+19+61\n",
      "185=17+17+19+61+71\n",
      "186=17+17+17+17+19+19+19+61\n",
      "187=17+19+19+61+71\n",
      "188=17+17+17+19+19+19+19+61\n",
      "189=19+19+19+61+71\n",
      "190=17+17+17+17+17+17+17+71\n",
      "191=17+17+17+17+17+17+17+17+17+19+19\n",
      "192=17+17+17+17+17+17+19+71\n",
      "193=17+17+17+71+71\n",
      "194=17+17+17+17+17+19+19+71\n",
      "195=17+17+19+71+71\n",
      "196=17+17+17+17+19+19+19+71\n",
      "197=17+19+19+71+71\n",
      "198=17+17+17+19+19+19+19+71\n",
      "199=19+19+19+71+71\n"
     ]
    }
   ],
   "source": [
    "def ss(n,numlist):\n",
    "    #功能：用numlist里面的数字，随意组合，使它们的和凑成n\n",
    "    \n",
    "    #给列表排序，将大数放前面，以便先尝试大数\n",
    "    numlist.sort(reverse=True)\n",
    " \n",
    "    #如果n小于最小对的数，尝试失败，返回0\n",
    "    if (n<min(numlist)):\n",
    "        return '0'\n",
    "    \n",
    "    #逐一核对，如果n刚好等于numlist列表的某个数，组合成功。\n",
    "    for i in numlist:\n",
    "        if n==i:\n",
    "            return str(i)\n",
    " \n",
    "    #逐一迭代，如果返回的值第一个字符不是0，表示尝试成功，返回值。    \n",
    "    for i in numlist:        \n",
    "        ti=ss(n-i,numlist)\n",
    "        if ti[0]!='0':\n",
    "            return ti+'+'+str(i)\n",
    "        else:\n",
    "            del ti\n",
    " \n",
    "    #如果上面有尝试成功，这句话不会被执行，\n",
    "    #以上尝试失败，会执行下面的语句，返回0\n",
    "    return '0'\n",
    " \n",
    " \n",
    "for i in range(100,200):\n",
    "    t=ss(i,[61,71,17,19])\n",
    "    if t!='0':\n",
    "        print(str(i)+\"=\"+t)\n",
    "    else:\n",
    "        print(str(i)+\"=无解！\")"
   ]
  },
  {
   "cell_type": "code",
   "execution_count": 83,
   "metadata": {},
   "outputs": [
    {
     "name": "stdout",
     "output_type": "stream",
     "text": [
      "100=无解！\n",
      "101=无解！\n",
      "102=17+17+17+17+17+17\n",
      "103=无解！\n",
      "104=17+17+17+17+17+19\n",
      "105=17+17+71\n",
      "106=17+17+17+17+19+19\n",
      "107=17+19+71\n",
      "108=17+17+17+19+19+19\n",
      "109=19+19+71\n",
      "110=17+17+19+19+19+19\n",
      "111=无解！\n",
      "112=17+17+17+61\n",
      "113=无解！\n",
      "114=17+17+19+61\n",
      "115=无解！\n",
      "116=17+19+19+61\n",
      "117=无解！\n",
      "118=19+19+19+61\n",
      "119=17+17+17+17+17+17+17\n",
      "120=无解！\n",
      "121=17+17+17+17+17+17+19\n",
      "122=17+17+17+71\n",
      "123=17+17+17+17+17+19+19\n",
      "124=17+17+19+71\n",
      "125=17+17+17+17+19+19+19\n",
      "126=17+19+19+71\n",
      "127=17+17+17+19+19+19+19\n",
      "128=19+19+19+71\n",
      "129=17+17+17+17+61\n",
      "130=无解！\n",
      "131=17+17+17+19+61\n",
      "132=61+71\n",
      "133=17+17+19+19+61\n",
      "134=无解！\n",
      "135=17+19+19+19+61\n",
      "136=17+17+17+17+17+17+17+17\n",
      "137=19+19+19+19+61\n",
      "138=17+17+17+17+17+17+17+19\n",
      "139=17+17+17+17+71\n",
      "140=17+17+17+17+17+17+19+19\n",
      "141=17+17+17+19+71\n",
      "142=71+71\n",
      "143=17+17+19+19+71\n",
      "144=17+17+17+17+19+19+19+19\n",
      "145=17+19+19+19+71\n",
      "146=17+17+17+17+17+61\n",
      "147=19+19+19+19+71\n",
      "148=17+17+17+17+19+61\n",
      "149=17+61+71\n",
      "150=17+17+17+19+19+61\n",
      "151=19+61+71\n",
      "152=17+17+19+19+19+61\n",
      "153=17+17+17+17+17+17+17+17+17\n",
      "154=17+19+19+19+19+61\n",
      "155=17+17+17+17+17+17+17+17+19\n",
      "156=17+17+17+17+17+71\n",
      "157=17+17+17+17+17+17+17+19+19\n",
      "158=17+17+17+17+19+71\n",
      "159=17+71+71\n",
      "160=17+17+17+19+19+71\n",
      "161=19+71+71\n",
      "162=17+17+19+19+19+71\n",
      "163=17+17+17+17+17+17+61\n",
      "164=17+19+19+19+19+71\n",
      "165=17+17+17+17+17+19+61\n",
      "166=17+17+61+71\n",
      "167=17+17+17+17+19+19+61\n",
      "168=17+19+61+71\n",
      "169=17+17+17+19+19+19+61\n",
      "170=19+19+61+71\n",
      "171=17+17+19+19+19+19+61\n",
      "172=17+17+17+17+17+17+17+17+17+19\n",
      "173=17+17+17+17+17+17+71\n",
      "174=17+17+17+17+17+17+17+17+19+19\n",
      "175=17+17+17+17+17+19+71\n",
      "176=17+17+71+71\n",
      "177=17+17+17+17+19+19+71\n",
      "178=17+19+71+71\n",
      "179=17+17+17+19+19+19+71\n",
      "180=19+19+71+71\n",
      "181=17+17+19+19+19+19+71\n",
      "182=17+17+17+17+17+17+19+61\n",
      "183=17+17+17+61+71\n",
      "184=17+17+17+17+17+19+19+61\n",
      "185=17+17+19+61+71\n",
      "186=17+17+17+17+19+19+19+61\n",
      "187=17+19+19+61+71\n",
      "188=17+17+17+19+19+19+19+61\n",
      "189=19+19+19+61+71\n",
      "190=17+17+17+17+17+17+17+71\n",
      "191=17+17+17+17+17+17+17+17+17+19+19\n",
      "192=17+17+17+17+17+17+19+71\n",
      "193=17+17+17+71+71\n",
      "194=17+17+17+17+17+19+19+71\n",
      "195=17+17+19+71+71\n",
      "196=17+17+17+17+19+19+19+71\n",
      "197=17+19+19+71+71\n",
      "198=17+17+17+19+19+19+19+71\n",
      "199=19+19+19+71+71\n",
      "hahahaha\n"
     ]
    }
   ],
   "source": [
    "def ss(n,numlist):\n",
    "    #功能：用numlist里面的数字，随意组合，使它们的和凑成n\n",
    "    \n",
    "    #给列表排序，将大数放前面，以便先尝试大数\n",
    "    numlist.sort(reverse=True)\n",
    " \n",
    "    #如果n小于最小对的数，尝试失败，返回0\n",
    "    if (n<min(numlist)):\n",
    "        return '0'\n",
    "    \n",
    "    #逐一核对，如果n刚好等于numlist列表的某个数，组合成功。\n",
    "    for i in numlist:\n",
    "        if n==i:\n",
    "            return str(i)\n",
    " \n",
    "    #逐一迭代，如果返回的值第一个字符不是0，表示尝试成功，返回值。    \n",
    "    for i in numlist:        \n",
    "        ti=ss(n-i,numlist)\n",
    "        if ti[0]!='0':\n",
    "            return ti+'+'+str(i)\n",
    "        else:\n",
    "            del ti\n",
    " \n",
    "    #如果上面有尝试成功，这句话不会被执行，\n",
    "    #以上尝试失败，会执行下面的语句，返回0\n",
    "    return '0'\n",
    " \n",
    " \n",
    "for i in range(100,200):\n",
    "    t=ss(i,[61,71,17,19])\n",
    "    if t!='0':\n",
    "        print(str(i)+\"=\"+t)\n",
    "    else:\n",
    "        print(str(i)+\"=无解！\")\n",
    "        \n",
    "print(\"hahahaha\")"
   ]
  },
  {
   "cell_type": "code",
   "execution_count": null,
   "metadata": {},
   "outputs": [],
   "source": []
  }
 ],
 "metadata": {
  "kernelspec": {
   "display_name": "Python 3",
   "language": "python",
   "name": "python3"
  },
  "language_info": {
   "codemirror_mode": {
    "name": "ipython",
    "version": 3
   },
   "file_extension": ".py",
   "mimetype": "text/x-python",
   "name": "python",
   "nbconvert_exporter": "python",
   "pygments_lexer": "ipython3",
   "version": "3.7.4"
  }
 },
 "nbformat": 4,
 "nbformat_minor": 4
}
