{
 "cells": [
  {
   "cell_type": "code",
   "execution_count": 1,
   "metadata": {},
   "outputs": [
    {
     "name": "stdout",
     "output_type": "stream",
     "text": [
      "{'Alex', '马JJ'}\n",
      "{'老男孩', 'Alex', 'Rain', 'Nick', '海峰', '马JJ', '黑姑娘', '老村长', 'Egon', '佩奇', 'Jack'}\n",
      "{'老男孩', '海峰', '黑姑娘', '老村长', '佩奇'}\n",
      "{'Rain', 'Nick', 'Jack', 'Egon'}\n",
      "{'Rain', '老男孩', 'Nick', '海峰', '黑姑娘', '老村长', 'Egon', '佩奇', 'Jack'}\n"
     ]
    }
   ],
   "source": [
    "s_1024 = {\"佩奇\",\"老男孩\",\"海峰\",\"马JJ\",\"老村长\",\"黑姑娘\",\"Alex\"}\n",
    "s_pornhub = {\"Alex\",\"Egon\",\"Rain\",\"马JJ\",\"Nick\",\"Jack\"}\n",
    "print(s_1024 & s_pornhub)  \n",
    "print(s_1024 | s_pornhub)  \n",
    "print(s_1024 - s_pornhub) \n",
    "print(s_pornhub - s_1024) \n",
    "print(s_1024 ^ s_pornhub)  "
   ]
  },
  {
   "cell_type": "code",
   "execution_count": 2,
   "metadata": {},
   "outputs": [
    {
     "ename": "NameError",
     "evalue": "name 'random' is not defined",
     "output_type": "error",
     "traceback": [
      "\u001b[1;31m---------------------------------------------------------------------------\u001b[0m",
      "\u001b[1;31mNameError\u001b[0m                                 Traceback (most recent call last)",
      "\u001b[1;32m<ipython-input-2-a36bf99bc568>\u001b[0m in \u001b[0;36m<module>\u001b[1;34m\u001b[0m\n\u001b[1;32m----> 1\u001b[1;33m \u001b[0mrandom\u001b[0m\u001b[1;33m.\u001b[0m\u001b[0mrandrange\u001b[0m\u001b[1;33m(\u001b[0m\u001b[1;36m1\u001b[0m\u001b[1;33m,\u001b[0m\u001b[1;36m10\u001b[0m\u001b[1;33m)\u001b[0m\u001b[1;33m\u001b[0m\u001b[1;33m\u001b[0m\u001b[0m\n\u001b[0m\u001b[0;32m      2\u001b[0m \u001b[0mrandom\u001b[0m\u001b[1;33m.\u001b[0m\u001b[0mrandint\u001b[0m\u001b[1;33m(\u001b[0m\u001b[1;36m1\u001b[0m\u001b[1;33m,\u001b[0m\u001b[1;36m10\u001b[0m\u001b[1;33m)\u001b[0m\u001b[1;33m\u001b[0m\u001b[1;33m\u001b[0m\u001b[0m\n\u001b[0;32m      3\u001b[0m \u001b[0mrandom\u001b[0m\u001b[1;33m.\u001b[0m\u001b[0mrandrange\u001b[0m\u001b[1;33m(\u001b[0m\u001b[1;36m0\u001b[0m\u001b[1;33m,\u001b[0m \u001b[1;36m100\u001b[0m\u001b[1;33m,\u001b[0m \u001b[1;36m2\u001b[0m\u001b[1;33m)\u001b[0m\u001b[1;33m\u001b[0m\u001b[1;33m\u001b[0m\u001b[0m\n\u001b[0;32m      4\u001b[0m \u001b[0mrandom\u001b[0m\u001b[1;33m.\u001b[0m\u001b[0mrandom\u001b[0m\u001b[1;33m(\u001b[0m\u001b[1;33m)\u001b[0m\u001b[1;33m\u001b[0m\u001b[1;33m\u001b[0m\u001b[0m\n\u001b[0;32m      5\u001b[0m \u001b[0mrandom\u001b[0m\u001b[1;33m.\u001b[0m\u001b[0mchoice\u001b[0m\u001b[1;33m(\u001b[0m\u001b[1;34m'abce3#$@1'\u001b[0m\u001b[1;33m)\u001b[0m\u001b[1;33m\u001b[0m\u001b[1;33m\u001b[0m\u001b[0m\n",
      "\u001b[1;31mNameError\u001b[0m: name 'random' is not defined"
     ]
    }
   ],
   "source": [
    "\n",
    "random.randrange(1,10)\n",
    "random.randint(1,10)\n",
    "random.randrange(0, 100, 2) \n",
    "random.random() \n",
    "random.choice('abce3#$@1')\n",
    "random.sample('abcdefghij',3)  \n",
    "\n",
    "import string \n",
    "''.join(random.sample(string.ascii_lowercase + string.digits, 6)) \n",
    "\n",
    "a\n",
    "random.shuffle(a)\n",
    "a\n",
    "[3, 0, 7, 2, 1, 6, 5, 8, 9, 4]"
   ]
  },
  {
   "cell_type": "code",
   "execution_count": 7,
   "metadata": {},
   "outputs": [
    {
     "name": "stdout",
     "output_type": "stream",
     "text": [
      "None\n"
     ]
    }
   ],
   "source": [
    "import random\n",
    "random.randrange(1,10)\n",
    "random.randint(1,10)\n",
    "random.randrange(0, 100, 2) \n",
    "random.random() \n",
    "random.choice('abce3#$@1')\n",
    "random.sample('abcdefghij',3)  \n",
    "\n",
    "import string \n",
    "''.join(random.sample(string.ascii_lowercase + string.digits, 6)) \n",
    "\n",
    "a = [0, 1, 2, 3, 4, 5, 6, 7, 8, 9]\n",
    "\n",
    "print(random.shuffle(a))\n"
   ]
  },
  {
   "cell_type": "code",
   "execution_count": 8,
   "metadata": {},
   "outputs": [
    {
     "name": "stdout",
     "output_type": "stream",
     "text": [
      "Michael\n",
      "Bob\n",
      "Tracy\n"
     ]
    }
   ],
   "source": [
    "names = ['Michael', 'Bob', 'Tracy']\n",
    "for name in names:\n",
    "    print(name)"
   ]
  },
  {
   "cell_type": "code",
   "execution_count": 9,
   "metadata": {},
   "outputs": [
    {
     "name": "stdout",
     "output_type": "stream",
     "text": [
      "55\n"
     ]
    }
   ],
   "source": [
    "sum = 0\n",
    "for x in [1, 2, 3, 4, 5, 6, 7, 8, 9, 10]:\n",
    "    sum = sum + x\n",
    "print(sum)"
   ]
  },
  {
   "cell_type": "code",
   "execution_count": 10,
   "metadata": {},
   "outputs": [
    {
     "name": "stdout",
     "output_type": "stream",
     "text": [
      "2500\n"
     ]
    }
   ],
   "source": [
    "sum = 0\n",
    "n = 99\n",
    "while n > 0:\n",
    "    sum = sum + n\n",
    "    n = n - 2\n",
    "print(sum)"
   ]
  },
  {
   "cell_type": "code",
   "execution_count": 11,
   "metadata": {},
   "outputs": [
    {
     "ename": "SyntaxError",
     "evalue": "expression cannot contain assignment, perhaps you meant \"==\"? (<ipython-input-11-240afcbfbe47>, line 5)",
     "output_type": "error",
     "traceback": [
      "\u001b[1;36m  File \u001b[1;32m\"<ipython-input-11-240afcbfbe47>\"\u001b[1;36m, line \u001b[1;32m5\u001b[0m\n\u001b[1;33m    print(\"s\" + end = \" \")\u001b[0m\n\u001b[1;37m          ^\u001b[0m\n\u001b[1;31mSyntaxError\u001b[0m\u001b[1;31m:\u001b[0m expression cannot contain assignment, perhaps you meant \"==\"?\n"
     ]
    }
   ],
   "source": [
    "print(\"s\")\n",
    "a = 10\n",
    "print(a)\n",
    "print(\"======================\")\n",
    "print(\"s\" + end = \" \")\n",
    "print(a + end = \" \")"
   ]
  },
  {
   "cell_type": "code",
   "execution_count": 12,
   "metadata": {},
   "outputs": [
    {
     "name": "stdout",
     "output_type": "stream",
     "text": [
      "s\n",
      "10\n",
      "======================\n",
      "s 10 "
     ]
    }
   ],
   "source": [
    "print(\"s\")\n",
    "a = 10\n",
    "print(a)\n",
    "print(\"======================\")\n",
    "print(\"s\" , end= \" \")\n",
    "print(a , end= \" \")"
   ]
  },
  {
   "cell_type": "code",
   "execution_count": 13,
   "metadata": {},
   "outputs": [
    {
     "name": "stdout",
     "output_type": "stream",
     "text": [
      "True\n",
      "True\n",
      "True\n",
      "False\n"
     ]
    }
   ],
   "source": [
    "class A:\n",
    "    pass\n",
    "class B(A):\n",
    "    pass\n",
    "print(isinstance(A(), A))\n",
    "print(type(A()) == A)\n",
    "print(isinstance(B(), A))\n",
    "print(type(B()) == A)"
   ]
  },
  {
   "cell_type": "code",
   "execution_count": 14,
   "metadata": {},
   "outputs": [
    {
     "ename": "TypeError",
     "evalue": "request() got an unexpected keyword argument 'encoding'",
     "output_type": "error",
     "traceback": [
      "\u001b[1;31m---------------------------------------------------------------------------\u001b[0m",
      "\u001b[1;31mTypeError\u001b[0m                                 Traceback (most recent call last)",
      "\u001b[1;32m<ipython-input-14-413318541cdb>\u001b[0m in \u001b[0;36m<module>\u001b[1;34m\u001b[0m\n\u001b[0;32m      5\u001b[0m         \u001b[1;34m\"User-Agent\"\u001b[0m \u001b[1;33m:\u001b[0m \u001b[1;34m\"Mozilla/5.0 (Windows NT 10.0; Win64; x64; rv:82.0) Gecko/20100101 Firefox/82.0\"\u001b[0m\u001b[1;33m\u001b[0m\u001b[1;33m\u001b[0m\u001b[0m\n\u001b[0;32m      6\u001b[0m     }\n\u001b[1;32m----> 7\u001b[1;33m     \u001b[0mpage_text\u001b[0m \u001b[1;33m=\u001b[0m \u001b[0mrequests\u001b[0m\u001b[1;33m.\u001b[0m\u001b[0mget\u001b[0m\u001b[1;33m(\u001b[0m\u001b[0murl\u001b[0m\u001b[1;33m=\u001b[0m\u001b[0murl\u001b[0m\u001b[1;33m,\u001b[0m \u001b[0mheaders\u001b[0m\u001b[1;33m=\u001b[0m\u001b[0mheaders\u001b[0m\u001b[1;33m,\u001b[0m \u001b[0mencoding\u001b[0m\u001b[1;33m=\u001b[0m\u001b[1;34m\"utf-8\"\u001b[0m\u001b[1;33m)\u001b[0m\u001b[1;33m.\u001b[0m\u001b[0mtext\u001b[0m\u001b[1;33m\u001b[0m\u001b[1;33m\u001b[0m\u001b[0m\n\u001b[0m\u001b[0;32m      8\u001b[0m     \u001b[1;31m#page_text = page_text.encode(\"iso-8859-1\").decode(\"utf-8\")\u001b[0m\u001b[1;33m\u001b[0m\u001b[1;33m\u001b[0m\u001b[1;33m\u001b[0m\u001b[0m\n\u001b[0;32m      9\u001b[0m     \u001b[1;31m#page_text = page_text.encode(\"utf-8\")\u001b[0m\u001b[1;33m\u001b[0m\u001b[1;33m\u001b[0m\u001b[1;33m\u001b[0m\u001b[0m\n",
      "\u001b[1;32mD:\\ANACONDA\\lib\\site-packages\\requests\\api.py\u001b[0m in \u001b[0;36mget\u001b[1;34m(url, params, **kwargs)\u001b[0m\n\u001b[0;32m     74\u001b[0m \u001b[1;33m\u001b[0m\u001b[0m\n\u001b[0;32m     75\u001b[0m     \u001b[0mkwargs\u001b[0m\u001b[1;33m.\u001b[0m\u001b[0msetdefault\u001b[0m\u001b[1;33m(\u001b[0m\u001b[1;34m'allow_redirects'\u001b[0m\u001b[1;33m,\u001b[0m \u001b[1;32mTrue\u001b[0m\u001b[1;33m)\u001b[0m\u001b[1;33m\u001b[0m\u001b[1;33m\u001b[0m\u001b[0m\n\u001b[1;32m---> 76\u001b[1;33m     \u001b[1;32mreturn\u001b[0m \u001b[0mrequest\u001b[0m\u001b[1;33m(\u001b[0m\u001b[1;34m'get'\u001b[0m\u001b[1;33m,\u001b[0m \u001b[0murl\u001b[0m\u001b[1;33m,\u001b[0m \u001b[0mparams\u001b[0m\u001b[1;33m=\u001b[0m\u001b[0mparams\u001b[0m\u001b[1;33m,\u001b[0m \u001b[1;33m**\u001b[0m\u001b[0mkwargs\u001b[0m\u001b[1;33m)\u001b[0m\u001b[1;33m\u001b[0m\u001b[1;33m\u001b[0m\u001b[0m\n\u001b[0m\u001b[0;32m     77\u001b[0m \u001b[1;33m\u001b[0m\u001b[0m\n\u001b[0;32m     78\u001b[0m \u001b[1;33m\u001b[0m\u001b[0m\n",
      "\u001b[1;32mD:\\ANACONDA\\lib\\site-packages\\requests\\api.py\u001b[0m in \u001b[0;36mrequest\u001b[1;34m(method, url, **kwargs)\u001b[0m\n\u001b[0;32m     59\u001b[0m     \u001b[1;31m# cases, and look like a memory leak in others.\u001b[0m\u001b[1;33m\u001b[0m\u001b[1;33m\u001b[0m\u001b[1;33m\u001b[0m\u001b[0m\n\u001b[0;32m     60\u001b[0m     \u001b[1;32mwith\u001b[0m \u001b[0msessions\u001b[0m\u001b[1;33m.\u001b[0m\u001b[0mSession\u001b[0m\u001b[1;33m(\u001b[0m\u001b[1;33m)\u001b[0m \u001b[1;32mas\u001b[0m \u001b[0msession\u001b[0m\u001b[1;33m:\u001b[0m\u001b[1;33m\u001b[0m\u001b[1;33m\u001b[0m\u001b[0m\n\u001b[1;32m---> 61\u001b[1;33m         \u001b[1;32mreturn\u001b[0m \u001b[0msession\u001b[0m\u001b[1;33m.\u001b[0m\u001b[0mrequest\u001b[0m\u001b[1;33m(\u001b[0m\u001b[0mmethod\u001b[0m\u001b[1;33m=\u001b[0m\u001b[0mmethod\u001b[0m\u001b[1;33m,\u001b[0m \u001b[0murl\u001b[0m\u001b[1;33m=\u001b[0m\u001b[0murl\u001b[0m\u001b[1;33m,\u001b[0m \u001b[1;33m**\u001b[0m\u001b[0mkwargs\u001b[0m\u001b[1;33m)\u001b[0m\u001b[1;33m\u001b[0m\u001b[1;33m\u001b[0m\u001b[0m\n\u001b[0m\u001b[0;32m     62\u001b[0m \u001b[1;33m\u001b[0m\u001b[0m\n\u001b[0;32m     63\u001b[0m \u001b[1;33m\u001b[0m\u001b[0m\n",
      "\u001b[1;31mTypeError\u001b[0m: request() got an unexpected keyword argument 'encoding'"
     ]
    }
   ],
   "source": [
    "import requests\n",
    "if __name__ == \"__main__\":\n",
    "    url = \"https://www.37zw.net/3/3632/\"\n",
    "    headers = {\n",
    "        \"User-Agent\" : \"Mozilla/5.0 (Windows NT 10.0; Win64; x64; rv:82.0) Gecko/20100101 Firefox/82.0\"\n",
    "    }\n",
    "    page_text = requests.get(url=url, headers=headers, encoding=\"utf-8\").text\n",
    "    #page_text = page_text.encode(\"iso-8859-1\").decode(\"utf-8\")\n",
    "    #page_text = page_text.encode(\"utf-8\")\n",
    "    with open(\"D:/test4.html\", \"w\", encoding=\"utf-8\") as f:\n",
    "        \n",
    "        f.write(page_text)\n",
    "    print(\"保存成功！！！\")"
   ]
  },
  {
   "cell_type": "code",
   "execution_count": 15,
   "metadata": {},
   "outputs": [
    {
     "name": "stdout",
     "output_type": "stream",
     "text": [
      "保存成功！！！\n"
     ]
    }
   ],
   "source": [
    "if __name__ == \"__main__\":\n",
    "    url = \"https://www.37zw.net/3/3632/\"\n",
    "    headers = {\n",
    "        \"User-Agent\" : \"Mozilla/5.0 (Windows NT 10.0; Win64; x64; rv:82.0) Gecko/20100101 Firefox/82.0\"\n",
    "    }\n",
    "    response = requests.get(url=url, headers=headers)\n",
    "    response.encoding = \"utf-8\"\n",
    "    page_text = response.text\n",
    "    #page_text = page_text.encode(\"iso-8859-1\").decode(\"utf-8\")\n",
    "    #page_text = page_text.encode(\"utf-8\")\n",
    "    with open(\"D:/test5.html\", \"w\", encoding=\"utf-8\") as f:\n",
    "        \n",
    "        f.write(page_text)\n",
    "    print(\"保存成功！！！\")"
   ]
  },
  {
   "cell_type": "code",
   "execution_count": 16,
   "metadata": {},
   "outputs": [
    {
     "name": "stdout",
     "output_type": "stream",
     "text": [
      "\n",
      "gdsjkghbnerakjtghlek FEJIJWALHGNE R\n",
      "福IErlkjfglerhn】分klwrj'mfeklorgjtnlkerafgolpe a'j wetopwja美国控制\n",
      " iwaowe jo 佛和我IE围殴人围殴和沃尔沃荣和文和\n",
      " 容我和日温柔\n",
      " fuwifhkjwegfiuwtkw\n",
      " rwoitjw\n",
      "\n"
     ]
    }
   ],
   "source": [
    "str = \"\"\"\n",
    "gdsjkghbnerakjtghlek FEJIJWALHGNE R\n",
    "福IErlkjfglerhn】分klwrj'mfeklorgjtnlkerafgolpe a'j wetopwja美国控制\n",
    " iwaowe jo 佛和我IE围殴人围殴和沃尔沃荣和文和\n",
    " 容我和日温柔\n",
    " fuwifhkjwegfiuwtkw\n",
    " rwoitjw\n",
    "\"\"\"\n",
    "print(str)"
   ]
  },
  {
   "cell_type": "code",
   "execution_count": 17,
   "metadata": {},
   "outputs": [
    {
     "name": "stdout",
     "output_type": "stream",
     "text": [
      "凡人修仙传仙界篇\n",
      "作牋牋者：忘语\n",
      "['\\xa0\\xa0\\xa0\\xa0¡°ÔÚÏÂº«Á¢£¬ÊÇ´ÓÁé½ç·ÉÉýµÄ¡£ÕâÀï¾ÍÊÇ´«ÎÅÖÐµÄ·ÉÌ¨£¡³ýµÀÓÑÍâ£¬ºÃÏñ²¢ÎÞÆäËûÈË¡£¡±º«Á¢µ¥ÊÖÇáÇáÒ»°´³ØË®£¬¾ÍÒ»ÏÂ·É³öÁËË®³Ø£¬ÉíÉÏÇà¹âÒ»ÉÁ£¬¸üÊÇÎÞÉùÏ¢µÄÒ»µãË®×Õ¶¼Ã»ÓÐÁË¡£', '\\xa0\\xa0\\xa0\\xa0ÕâÊ±ËûÒÑ¾\\xad·¢ÏÖ£¬ÕÆÌìÆ¿ÔªºÏÎå¼«É½µÈÖØ±¦È«¶¼°²È»ÎÞí¦µÄÔÚÆäÌåÄÚ£¬µ¹ÊÇÄ§¹âµÈÈËÈ´²ØÔÚÁéÊÞ´üÖÐÈ«ÎÞÈÎºÎ·´Ó¦ÁË¡£', '\\xa0\\xa0\\xa0\\xa0¶ø´ËµØ¿´ÆðÀ´Ö»ÊÇÒ»¸öÊ®·Ö¼òÒ×¸ßÌ¨£¬³ýÁËÖÐÐÄ´¦µÄË®³ØÍâ£¬¸ßÌ¨ËÄÖÜÔò±»Ò»²ãÎµÀ¶¹âÄ»ÁýÕÖ¡£', '\\xa0\\xa0\\xa0\\xa0¹âÄ»Ö®Íâ£¬ÒþÔ¼¿É¼û¶ìÃ«´óÑ©ÂþÌì·ÉÎè£¬ÍâÃæ¾¹ÊÇÒ»¸ö¾§Ó¨µÄ±ùÑ©ÊÀ½ç¡£', '\\xa0\\xa0\\xa0\\xa0¡°Ô\\xadÀ´ÊÇº«µÀÓÑ¡£Áé½ç»°£¬Õâ¿ÉÓÐÐ©Í·Í´ÁË£¿ÏÂÃæµÄÄÇÐ©½çÃæ£¬Ê®¸öµ¹ÓÐÁ½Èý¸ö¶¼½Ð´ËÃûµÄ¡£ËãÁË£¬ÎÒ¾ÍËæ±ã¸øÄãµÇ¼ÇÒ»ÏÂ°É¡£·´ÕýÉÏÃæÒ»°ãÒ²²»»áÀ´²éÕâÖÖÊÂÇéµÄ¡£¡±¸ßÉýÏÈÊÇÃ¼Í·Ò»Öå£¬µ«ÂíÉÏÓÖÒ»Õ¹µÄÎÞËùÎ½ËµµÀ¡£', '\\xa0\\xa0\\xa0\\xa0½Ó×ÅËûÁ½ÊÖÐé¿ÕÒ»×¥£¬ÊÖÖÐ¶ÙÊ±³öÏÖÁËÒ»Ãæ¾§Ó¨ÓñÊéºÍÒ»¸ùµ\\xadÒøÉ«¾Þ±Ê£¬²¢·É¿ìÍùÉÏÃæÊéÐ´×ÅÊ²Ã´¡£', '\\xa0\\xa0\\xa0\\xa0º«Á¢ÐÄÖÐËäÈ»ÓÐÒ»·Ö²ïÒì£¬µ«ÃæÉÏ²¢Î´Â¶³ö£¬·´¶øÕ¾ÔÚÔ\\xadµØ¾²¾²¿´×Å¶Ô·½µÄ¾Ù¶¯¡£', '\\xa0\\xa0\\xa0\\xa0Æ¬¿Ìºó£¬¸ßÉýÁ½ÊÖ¹âÃ¢Ò»ÉÁ£¬ÓñÊéºÍ¾Þ±ÊÍ¬Ê±ÏûÊ§²»¼û£¬È¡¶ø´úÖ®µÄ¶à³öÁËÒ»ÕÅ×Ï½ðÉ«µÄ±¡±¡ÓñÅÆ£¬²¢Ãæ´øÐ¦ÈÝµÄ³åº«Á¢µÝÁË¹ýÀ´¡£', '\\xa0\\xa0\\xa0\\xa0¡°ÕâÊÇ£¿¡±º«Á¢²¢Ã»ÓÐÂíÉÏ½Ó¹ýÀ´£¬·´¶ø²»¶¯ÉùÉ«µÄÎÊÁËÒ»¾ä¡£', '\\xa0\\xa0\\xa0\\xa0¡°ÕâÊÇµÀÓÑµÄÏÉÅÆ£¬Ã¿Ò»Ãû·ÉÉýÏÉÈËµÇ¼ÇÔÚ²áºó£¬¶¼¿ÉÒÔÁìÈ¡µÄ¶«Î÷¡£µÀÓÑÒÔºóÆ¾´Ë¶«Î÷£¬¿ÉÒÔ½øÈë¸÷´óÏÉ³Ç¶øÎÞÐèÔâÊÜÈÎºÎÅÌ²éµÄ£¬²¢ÇÒ»¹½øÈëÒ»Ð©ÌØÊâµØ·½£¬¶øÎÞÐè½ÉÄÉÈÎºÎ·ÑÓÃµÄ¡£ºÇºÇ£¬Õâ¿ÉÖ»ÊÇÄãÃÇ·ÉÉýÏÉÈË²ÅÄÜÓÐµÄ´ýÓö£¬ÏñÎÒµÈÕâÐ©´ÓÏÉ½ç±¾ÍÁÕæÏÉ¿ÉÃ»ÓÐÕâ°ã´ýÓöµÄ¡£¡±¸ßÉýÓÃÒ»ÖÖÒì³£ÏÛÄ½µÄ¿ÚÆøËµµÀ¡£', '\\xa0\\xa0\\xa0\\xa0¡°Å¶£¬ÕâÊÇÎªºÎ£¿¡±º«Á¢ÖÕÓÚÂ¶³öÒ»Ë¿ÑÈÈ»À´¡£', '\\xa0\\xa0\\xa0\\xa0¡°ÕæÏÉ½çÎÞ±ßÎÞ¼Ê£¬±¾ÍÁÏÉÈË¸üÊÇÊýÒÔÒÚÍò¼Ç£¬µ«´ÓÏÂ½ç¿¿×Ô¼ºÁ¦Á¿·ÉÉýÉÏÀ´µÄÏÉÈËÈ´ÉÙÖ®ÓÖÉÙµÄ¡£µ«¸÷¸öÏÉÓòÖÐµÄ¸ß½×ÏÉÈËÖÐ£¬·ÉÉýÏÉÈËºÍ±¾ÍÁÏÉÈËÊýÁ¿È´²î²»ÁË¶àÉÙ¡£Õâ´ú±íÁËÊ²Ã´£¬µÀÓÑÓ¦¸ÃºÜÇå³þÁË°É¡£¡±¸ßÉýº¬Ð¦µÄ½âÊÍµÀ¡£', '\\xa0\\xa0\\xa0\\xa0¡°Ô\\xadÀ´Èç´Ë£¬ÎÒÓÐ¼¸·ÖÃ÷°×ÁË¡£¼ÈÈ»ÏÉ½çÓÐ´Ë¹æ¶¨£¬ÄÇÎÒÒ²¾Í²»¿ÍÆøÁË¡£¡±º«Á¢ÓÐÐ©»ÐÈ»£¬µãÁËµãÍ·£¬½Ó×ÅÒ»Ì§ÊÖ£¬¾Í½«×Ï½ðÉ«ÓñÅÆ½ÓÁË¹ýÀ´£¬µÍÊ×Ò»¿´ºó£¬Ö»¼ûÉÏÃæºÕÈ»ÃúÓ¡×Å×Ô¼ºµÄÈ«ÉíÓ°Ïñ£¬èòèòÈçÉú£¬ÅÔ±ßÔò»¹±ê×¢ÁË×Ô¼ºÃû×Ö»¹ÓÐ¡°·ÉÉý¡±µÈ¼¸¸ö½ð×\\xadÎÄ¡£', '\\xa0\\xa0\\xa0\\xa0º«Á¢Ðä×ÓÒ»¶¶£¬ÓñÅÆ¶ÙÊ±Ò»ÉÁµÄ²»¼ûÁË×ÙÓ°£¬¿ÚÖÐÓÖÒ»Ð¦µÄÎÊµÀ£º', '\\xa0\\xa0\\xa0\\xa0¡°Ìý¸ßÐÖ¿ÚÆø£¬ÏÉ½çËÆºõÆÄÓÐÖÈÐò£¬µ«²»ÖªµÀÓÑ¿ÚÖÐµÄÉÏÃæÖ¸µÄÊÇ¡\\xad¡\\xad¡±', '\\xa0\\xa0\\xa0\\xa0¡°´ËÊÂº«ÐÖ²»ÓÃ¶àÎÊ£¬Ö»Òª¿´ÍêÕâÃ¶¼ÇÒäÊ¯ÖÐËù¼Ç¶«Î÷£¬Ò²¾Í´ó¸ÅÓÐÐ©ÁË½âÁË¡£¡±¸ßÉýÃ»ÔÚ¶àËµÊ²Ã´£¬ÊÖÒ»Ñï£¬ÓÖÅ×¹ýÀ´Ò»Ã¶À¶ÍôÍôµÄ¾§Ê¯£¬»ØµÀ¡£', '\\xa0\\xa0\\xa0\\xa0¡°ÄÇº²Ä³¶àÐ»ÁË¡£¡±º«Á¢Ò»°Ñ½«¾§Ê¯×¥×¡£¬Á³ÉÏÂ¶³öÒ»Ë¿Ð»Òâ£¬½«ÆäÍù¶îÍ·ÉÏÒ»Ìù£¬Ò²¾ÍÃ÷°×ÁËÊ¹ÓÃ·½·¨£¬ÔÙÂÔÒ»´ß¶¯·¨¾öºó£¬¾Í½«ÉñÊ¶½þÈëÁËÆäÖÐ¡£', '\\xa0\\xa0\\xa0\\xa0×ã×ãÒ»Õµ²è¹¤·òºó£¬º«Á¢²ÅÇáÍÂÒ»¿ÚÆøµÄ½«¾§Ê¯´Ó¶îÍ·ÉÏÄÃ¿ª£¬²¢»º»ºËµµÀ£º', '\\xa0\\xa0\\xa0\\xa0¡°Ô\\xadÀ´Èç´Ë£¬ÏÉ½çÈç½ñ±»·Ö³ÉÎÞÊýÏÉÓò£¬¶øÕâÐ©ÏÉÓòÔòÓÖ±»¸÷¸öÏÉ¹¬¼ÓÒÔ¼à¹Ü×Å¡£Õâµ¹ÓÐÐ©ÒâË¼£¬Ö»ÊÇ¼à¹Ü¶ø²»Í³ÖÎ£¿¡±', '\\xa0\\xa0\\xa0\\xa0¡°µÀÓÑ¹ûÈ»ÊÇÃ÷°×Ö®ÈË¡£¼ÈÈ»ÕâÑù£¬ÎÒ¸øµÀÓÑÃ÷ËµÒ»ÏÂÏÉ½çÈç½ñµÄ´óÊÆÇéÐÎÁË¡£²»ÖªµÀÓÑ¿ÉÓÐÐËÈ¤ÌýÉÏÒ»¶þ£¡¡±¸ßÉýÌýµ½º«Á¢µÄÑÔÓï£¬Á³ÉÏÈ´¸¡ÏÖÒ»Ë¿Ææ¹ÖÖ®É«µÄÎÊµÀ¡£', '\\xa0\\xa0\\xa0\\xa0¡°»¹Çë¸ßÐÖÖ¸µãÒ»¶þ¡£¡±º«Á¢Ò»¹°ÊÖ£¬Á³É«ÄýÖØÁË¼¸·Ö¡£', '\\xa0\\xa0\\xa0\\xa0¡°º«µÀÓÑ²»ÓÃ¿ÍÆø¡£ÏÉ½çÇéÐÎµÄÈ·ºÍÏÉ½çÆÄÓÐÐ©µÄ²»Í¬µÄ¡£ÏÉÓòËäÈ»ÃûÒåÉÏ¶¼ÊÇÒÔÏÉ¹¬Îª×ð£¬µ«Êµ¼ÊÉÏÃ¿¸öÏÉÓò¶¼ÓÐ²»ÉÙÊµÁ¦²»ÔÚÏÉ¹¬Ö®ÏÂµÄ´óÊÆÁ¦´æÔÚ£¬ÉõÖÁÓÐÐ©³¬Ç¿ÊµÁ¦»¹ÄÜÎÈÎÈÑ¹×¡×Ô¼ºÏÉÓòÏÉ¹¬Ò»Í·¡£Ö»ÊÇÖîÎ»µÀ×æ¶¼ÐèÒªÏÉ½çÎ¬³ÖÒ»¶¨µÄÖÈÐò£¬ÒÔÃâ³öÒ»Ð©²»ºÃÊÕÊ°µÄ´óÂÒ×Ó£¬Õâ²ÅÄ¬ÈÏ¸÷¸öÏÉÓòÃûÒåÉÏ¶¼ÒÔÏÉ¹¬ÎªÖ÷µÄ¡£µ±È»ÕâÐ©ÏÉ¹¬±¾ÉíÒ²ÊÇÏÉÓòÖÐÓÐÊýµÄ´óÊÆÁ¦£¬·ñÔòÒ²¸ù±¾ÎÞ·¨·þÖÚµÄ¡£¶øÕâÐ©ÏÉ¹¬Ö´ÕÆÕßÒ²´ó¶¼ºÜÊ¶È¤£¬Ò»°ãÒ²²»»áÈ¥´¥Å\\xadÆäËûºÍ×Ô¼ºÏàµ±µÄ´óÊÆÁ¦£¬ËùÒÔÏÖÔÚµÄÏÉ½ç»¹Ëã°²Äþ¡£Ö»Òª²»È¥´¥·¸Ä³Ð©ÏÉ½ç½ûÂÉ£¬×ÔÄØ¸öÔÚÏÉ½çÄÜºÃºÃåÐÒ£µÄ¡£¶øµÀÓÑÊÇ·ÉÉýÏÉÈË£¬ÇéÐÎºÍ±¾ÍÁÏÉÈË»¹ÂÔÓÐ²»Í¬µÄ¡£¸Õ·ÉÉýÕæÏÉ×ÝÈ»¾\\xad¹ýÀ×½ÙÏ´Àñ£¬ÌåÄÚÕæÔªÒÑ¾\\xad¿ªÊ¼¸Ä±ä£¬¿ÉÒÔ½ÓÊÜÏÉÁéÁ¦ÁË£¬µ«Èô×ª»¯ÍêÈ«¿ÖÅÂ»¹ÐèÒªÊý°ÙÄêÊ±¼äÖ®¾ÃµÄ¡£ÈôÔÚÏÂÊÇµÀÓÑµÄ»°£¬±Ø¶¨»áÑ¡ÔñÏÉÓòÄ³Ò»ÊÆÁ¦ÒÀ¸½£¬µÈÌåÄÚÕæÔª³¹µ××ª»¯Íê³Éºó£¬²Å»áÔÙ¿¼ÂÇÆäËûµÄÊÂÇé¡£·ñÔòµÀÓÑÊÇ³õÁÙÏÉ½ç£¬¹âÊÇÈÕ³£µÄÏÉÁé¾§ÏûºÄ£¬¿ÖÅÂÒ²ÊÇÒ»±Ê²»Ð¡µÄÊýÄ¿¡£¡±¸ßÉýÒ²²»ÔÙ¿ÍÆøÁË£¬Ù©Ù©¶øÌ¸ÁËÒ»·¬¡£', '\\xa0\\xa0\\xa0\\xa0º«Á¢Ò»±ßÌý×Å£¬Ò»±ßÂ¶³öÈôÓÐËùË¼µÄÉñÉ«¡£', '\\xa0\\xa0\\xa0\\xa0¡°¶àÐ»¸ßÐÖÖ¸µã£¬ÌýµÀÓÑ¿ÚÆøÒ²²»ÊÇÏÉ¹¬Ö®ÈË°É¡£¡±º«Á¢Ð¦ÁËÒ»Ð¦ºó£¬ºöÈ»ÎÊµÀ¡£', '\\xa0\\xa0\\xa0\\xa0¡°º«µÀÓÑ¿´³öÀ´ÁË£¬ÔÚÏÂµÄÈ·²»ÊÇÏÉ¹¬Ö®ÈË£¬¶øÊÇÊ¯í¶µîÖÐÈË¡£Ö®ËùÒÔ»á³öÏÖÔÚ´Ë£¬Ö»²»¹ýÊÇÔÚÓ¦¸¶ÏÉ¹¬½»¸ø±¾µîµÄÒ»Ð©²îÊÂ¶øÒÑ¡£²»¹ýÈôÊÇµÀÓÑÈô¿ÏÏÖÔÚ¼ÓÈë±¾µîµÄ»°£¬¸ßÄ³×ÔÈ»ÊÇ¼«Îª»¶Ó\\xadµÄ¡£Ê¯í¶µî²»µ«ÄÜ¹»Ìá¹©ÆäËûÊÆÁ¦Ëù¸øµÄÒ»ÇÐ´ýÓö£¬²¢ÇÒÎÒ»¹¿É×öÖ÷£¬ÈÃµÀÓÑÔÚ±¾µîµÇÌì¸óÖÐÃâ·ÑÈÎÑ¡Ò»²¿¸ß½×ÏÉ¼Ò¹¦·¨ÐÞÁ¶¡£¡±¸ßÉýÒ²Ð¦ÁËÆðÀ´£¬Ë¿ºÁÃ»ÓÐÒþÂ÷Ö®ÒâµÄ»ØµÀ¡£', '\\xa0\\xa0\\xa0\\xa0@R', '\\xa0\\xa0\\xa0\\xa0(ÈýÆßÖÐÎÄ www.37zw.net)']\n"
     ]
    },
    {
     "ename": "TypeError",
     "evalue": "can only concatenate list (not \"str\") to list",
     "output_type": "error",
     "traceback": [
      "\u001b[1;31m---------------------------------------------------------------------------\u001b[0m",
      "\u001b[1;31mTypeError\u001b[0m                                 Traceback (most recent call last)",
      "\u001b[1;32m<ipython-input-17-faee3b57540c>\u001b[0m in \u001b[0;36m<module>\u001b[1;34m\u001b[0m\n\u001b[0;32m     31\u001b[0m         \u001b[0mprint\u001b[0m\u001b[1;33m(\u001b[0m\u001b[0mchapter_content\u001b[0m\u001b[1;33m)\u001b[0m\u001b[1;33m\u001b[0m\u001b[1;33m\u001b[0m\u001b[0m\n\u001b[0;32m     32\u001b[0m         \u001b[0mf\u001b[0m\u001b[1;33m.\u001b[0m\u001b[0mwrite\u001b[0m\u001b[1;33m(\u001b[0m\u001b[0mchapter_title\u001b[0m \u001b[1;33m+\u001b[0m \u001b[1;34m\"\\n\"\u001b[0m\u001b[1;33m)\u001b[0m\u001b[1;33m\u001b[0m\u001b[1;33m\u001b[0m\u001b[0m\n\u001b[1;32m---> 33\u001b[1;33m         \u001b[0mf\u001b[0m\u001b[1;33m.\u001b[0m\u001b[0mwrite\u001b[0m\u001b[1;33m(\u001b[0m\u001b[0mchapter_content\u001b[0m \u001b[1;33m+\u001b[0m \u001b[1;34m\"\\n\"\u001b[0m\u001b[1;33m)\u001b[0m\u001b[1;33m\u001b[0m\u001b[1;33m\u001b[0m\u001b[0m\n\u001b[0m\u001b[0;32m     34\u001b[0m         \u001b[0mprint\u001b[0m\u001b[1;33m(\u001b[0m\u001b[0mchapter_title\u001b[0m \u001b[1;33m+\u001b[0m \u001b[1;34m\"下载完成！！！\"\u001b[0m\u001b[1;33m)\u001b[0m\u001b[1;33m\u001b[0m\u001b[1;33m\u001b[0m\u001b[0m\n\u001b[0;32m     35\u001b[0m     \u001b[0mprint\u001b[0m\u001b[1;33m(\u001b[0m\u001b[0mtitle\u001b[0m \u001b[1;33m+\u001b[0m \u001b[1;34m\"保存成功！！！\"\u001b[0m\u001b[1;33m)\u001b[0m\u001b[1;33m\u001b[0m\u001b[1;33m\u001b[0m\u001b[0m\n",
      "\u001b[1;31mTypeError\u001b[0m: can only concatenate list (not \"str\") to list"
     ]
    }
   ],
   "source": [
    "import requests\n",
    "from lxml import etree\n",
    "if __name__ == \"__main__\":\n",
    "    url = \"https://www.37zw.net/21/21953/\"\n",
    "    headers = {\n",
    "        \"User-Agent\" : \"Mozilla/5.0 (Windows NT 10.0; Win64; x64; rv:82.0) Gecko/20100101 Firefox/82.0\"\n",
    "    }\n",
    "    page_text = requests.get(url=url, headers=headers).text\n",
    "#     page_text = page_text.encode(\"iso-8859-1\").decode(\"gbk\")\n",
    "    HTML_etree = etree.HTML(page_text)\n",
    "    title = HTML_etree.xpath('//div[@id=\"info\"]/h1/text()')[0]\n",
    "    author = HTML_etree.xpath('//div[@id=\"info\"]/p[1]/text()')[0]\n",
    "    title = title.encode('iso-8859-1').decode('gbk')\n",
    "    author = author.encode('iso-8859-1').decode('gbk')\n",
    "    print(title)\n",
    "    print(author)\n",
    "    f = open(\"D:/\"+ title +\".txt\", \"w\")\n",
    "    f.write(title)\n",
    "    f.write(author)\n",
    "    dd_list = HTML_etree.xpath('//div[@id=\"list\"]//dd')\n",
    "    for dd in dd_list:\n",
    "        chapter_title = dd.xpath('./a/text()')[0]\n",
    "        chapter_title = chapter_title.encode('iso-8859-1').decode('gbk')\n",
    "        chapter_src = url + dd.xpath('./a/@href')[0]\n",
    "        chapter_HTML = requests.get(url=chapter_src, headers=headers).text\n",
    "#         chapter_HTML = chapter_HTML.encode('iso-8859-1').decode('gbk')\n",
    "#         print(chapter_HTML)\n",
    "        chapter_etree = etree.HTML(chapter_HTML)\n",
    "        chapter_content = chapter_etree.xpath('//div[@id=\"content\"]//text()')\n",
    "#         chapter_content = chapter_content.encode('iso-8859-1').decode('gbk')\n",
    "        print(chapter_content)\n",
    "        f.write(chapter_title + \"\\n\")\n",
    "        f.write(chapter_content + \"\\n\")\n",
    "        print(chapter_title + \"下载完成！！！\")\n",
    "    print(title + \"保存成功！！！\")"
   ]
  },
  {
   "cell_type": "code",
   "execution_count": 18,
   "metadata": {},
   "outputs": [
    {
     "name": "stdout",
     "output_type": "stream",
     "text": [
      "凡人修仙传仙界篇\n",
      "作牋牋者：忘语\n",
      "['\\xa0\\xa0\\xa0\\xa0¡°ÔÚÏÂº«Á¢£¬ÊÇ´ÓÁé½ç·ÉÉýµÄ¡£ÕâÀï¾ÍÊÇ´«ÎÅÖÐµÄ·ÉÌ¨£¡³ýµÀÓÑÍâ£¬ºÃÏñ²¢ÎÞÆäËûÈË¡£¡±º«Á¢µ¥ÊÖÇáÇáÒ»°´³ØË®£¬¾ÍÒ»ÏÂ·É³öÁËË®³Ø£¬ÉíÉÏÇà¹âÒ»ÉÁ£¬¸üÊÇÎÞÉùÏ¢µÄÒ»µãË®×Õ¶¼Ã»ÓÐÁË¡£', '\\xa0\\xa0\\xa0\\xa0ÕâÊ±ËûÒÑ¾\\xad·¢ÏÖ£¬ÕÆÌìÆ¿ÔªºÏÎå¼«É½µÈÖØ±¦È«¶¼°²È»ÎÞí¦µÄÔÚÆäÌåÄÚ£¬µ¹ÊÇÄ§¹âµÈÈËÈ´²ØÔÚÁéÊÞ´üÖÐÈ«ÎÞÈÎºÎ·´Ó¦ÁË¡£', '\\xa0\\xa0\\xa0\\xa0¶ø´ËµØ¿´ÆðÀ´Ö»ÊÇÒ»¸öÊ®·Ö¼òÒ×¸ßÌ¨£¬³ýÁËÖÐÐÄ´¦µÄË®³ØÍâ£¬¸ßÌ¨ËÄÖÜÔò±»Ò»²ãÎµÀ¶¹âÄ»ÁýÕÖ¡£', '\\xa0\\xa0\\xa0\\xa0¹âÄ»Ö®Íâ£¬ÒþÔ¼¿É¼û¶ìÃ«´óÑ©ÂþÌì·ÉÎè£¬ÍâÃæ¾¹ÊÇÒ»¸ö¾§Ó¨µÄ±ùÑ©ÊÀ½ç¡£', '\\xa0\\xa0\\xa0\\xa0¡°Ô\\xadÀ´ÊÇº«µÀÓÑ¡£Áé½ç»°£¬Õâ¿ÉÓÐÐ©Í·Í´ÁË£¿ÏÂÃæµÄÄÇÐ©½çÃæ£¬Ê®¸öµ¹ÓÐÁ½Èý¸ö¶¼½Ð´ËÃûµÄ¡£ËãÁË£¬ÎÒ¾ÍËæ±ã¸øÄãµÇ¼ÇÒ»ÏÂ°É¡£·´ÕýÉÏÃæÒ»°ãÒ²²»»áÀ´²éÕâÖÖÊÂÇéµÄ¡£¡±¸ßÉýÏÈÊÇÃ¼Í·Ò»Öå£¬µ«ÂíÉÏÓÖÒ»Õ¹µÄÎÞËùÎ½ËµµÀ¡£', '\\xa0\\xa0\\xa0\\xa0½Ó×ÅËûÁ½ÊÖÐé¿ÕÒ»×¥£¬ÊÖÖÐ¶ÙÊ±³öÏÖÁËÒ»Ãæ¾§Ó¨ÓñÊéºÍÒ»¸ùµ\\xadÒøÉ«¾Þ±Ê£¬²¢·É¿ìÍùÉÏÃæÊéÐ´×ÅÊ²Ã´¡£', '\\xa0\\xa0\\xa0\\xa0º«Á¢ÐÄÖÐËäÈ»ÓÐÒ»·Ö²ïÒì£¬µ«ÃæÉÏ²¢Î´Â¶³ö£¬·´¶øÕ¾ÔÚÔ\\xadµØ¾²¾²¿´×Å¶Ô·½µÄ¾Ù¶¯¡£', '\\xa0\\xa0\\xa0\\xa0Æ¬¿Ìºó£¬¸ßÉýÁ½ÊÖ¹âÃ¢Ò»ÉÁ£¬ÓñÊéºÍ¾Þ±ÊÍ¬Ê±ÏûÊ§²»¼û£¬È¡¶ø´úÖ®µÄ¶à³öÁËÒ»ÕÅ×Ï½ðÉ«µÄ±¡±¡ÓñÅÆ£¬²¢Ãæ´øÐ¦ÈÝµÄ³åº«Á¢µÝÁË¹ýÀ´¡£', '\\xa0\\xa0\\xa0\\xa0¡°ÕâÊÇ£¿¡±º«Á¢²¢Ã»ÓÐÂíÉÏ½Ó¹ýÀ´£¬·´¶ø²»¶¯ÉùÉ«µÄÎÊÁËÒ»¾ä¡£', '\\xa0\\xa0\\xa0\\xa0¡°ÕâÊÇµÀÓÑµÄÏÉÅÆ£¬Ã¿Ò»Ãû·ÉÉýÏÉÈËµÇ¼ÇÔÚ²áºó£¬¶¼¿ÉÒÔÁìÈ¡µÄ¶«Î÷¡£µÀÓÑÒÔºóÆ¾´Ë¶«Î÷£¬¿ÉÒÔ½øÈë¸÷´óÏÉ³Ç¶øÎÞÐèÔâÊÜÈÎºÎÅÌ²éµÄ£¬²¢ÇÒ»¹½øÈëÒ»Ð©ÌØÊâµØ·½£¬¶øÎÞÐè½ÉÄÉÈÎºÎ·ÑÓÃµÄ¡£ºÇºÇ£¬Õâ¿ÉÖ»ÊÇÄãÃÇ·ÉÉýÏÉÈË²ÅÄÜÓÐµÄ´ýÓö£¬ÏñÎÒµÈÕâÐ©´ÓÏÉ½ç±¾ÍÁÕæÏÉ¿ÉÃ»ÓÐÕâ°ã´ýÓöµÄ¡£¡±¸ßÉýÓÃÒ»ÖÖÒì³£ÏÛÄ½µÄ¿ÚÆøËµµÀ¡£', '\\xa0\\xa0\\xa0\\xa0¡°Å¶£¬ÕâÊÇÎªºÎ£¿¡±º«Á¢ÖÕÓÚÂ¶³öÒ»Ë¿ÑÈÈ»À´¡£', '\\xa0\\xa0\\xa0\\xa0¡°ÕæÏÉ½çÎÞ±ßÎÞ¼Ê£¬±¾ÍÁÏÉÈË¸üÊÇÊýÒÔÒÚÍò¼Ç£¬µ«´ÓÏÂ½ç¿¿×Ô¼ºÁ¦Á¿·ÉÉýÉÏÀ´µÄÏÉÈËÈ´ÉÙÖ®ÓÖÉÙµÄ¡£µ«¸÷¸öÏÉÓòÖÐµÄ¸ß½×ÏÉÈËÖÐ£¬·ÉÉýÏÉÈËºÍ±¾ÍÁÏÉÈËÊýÁ¿È´²î²»ÁË¶àÉÙ¡£Õâ´ú±íÁËÊ²Ã´£¬µÀÓÑÓ¦¸ÃºÜÇå³þÁË°É¡£¡±¸ßÉýº¬Ð¦µÄ½âÊÍµÀ¡£', '\\xa0\\xa0\\xa0\\xa0¡°Ô\\xadÀ´Èç´Ë£¬ÎÒÓÐ¼¸·ÖÃ÷°×ÁË¡£¼ÈÈ»ÏÉ½çÓÐ´Ë¹æ¶¨£¬ÄÇÎÒÒ²¾Í²»¿ÍÆøÁË¡£¡±º«Á¢ÓÐÐ©»ÐÈ»£¬µãÁËµãÍ·£¬½Ó×ÅÒ»Ì§ÊÖ£¬¾Í½«×Ï½ðÉ«ÓñÅÆ½ÓÁË¹ýÀ´£¬µÍÊ×Ò»¿´ºó£¬Ö»¼ûÉÏÃæºÕÈ»ÃúÓ¡×Å×Ô¼ºµÄÈ«ÉíÓ°Ïñ£¬èòèòÈçÉú£¬ÅÔ±ßÔò»¹±ê×¢ÁË×Ô¼ºÃû×Ö»¹ÓÐ¡°·ÉÉý¡±µÈ¼¸¸ö½ð×\\xadÎÄ¡£', '\\xa0\\xa0\\xa0\\xa0º«Á¢Ðä×ÓÒ»¶¶£¬ÓñÅÆ¶ÙÊ±Ò»ÉÁµÄ²»¼ûÁË×ÙÓ°£¬¿ÚÖÐÓÖÒ»Ð¦µÄÎÊµÀ£º', '\\xa0\\xa0\\xa0\\xa0¡°Ìý¸ßÐÖ¿ÚÆø£¬ÏÉ½çËÆºõÆÄÓÐÖÈÐò£¬µ«²»ÖªµÀÓÑ¿ÚÖÐµÄÉÏÃæÖ¸µÄÊÇ¡\\xad¡\\xad¡±', '\\xa0\\xa0\\xa0\\xa0¡°´ËÊÂº«ÐÖ²»ÓÃ¶àÎÊ£¬Ö»Òª¿´ÍêÕâÃ¶¼ÇÒäÊ¯ÖÐËù¼Ç¶«Î÷£¬Ò²¾Í´ó¸ÅÓÐÐ©ÁË½âÁË¡£¡±¸ßÉýÃ»ÔÚ¶àËµÊ²Ã´£¬ÊÖÒ»Ñï£¬ÓÖÅ×¹ýÀ´Ò»Ã¶À¶ÍôÍôµÄ¾§Ê¯£¬»ØµÀ¡£', '\\xa0\\xa0\\xa0\\xa0¡°ÄÇº²Ä³¶àÐ»ÁË¡£¡±º«Á¢Ò»°Ñ½«¾§Ê¯×¥×¡£¬Á³ÉÏÂ¶³öÒ»Ë¿Ð»Òâ£¬½«ÆäÍù¶îÍ·ÉÏÒ»Ìù£¬Ò²¾ÍÃ÷°×ÁËÊ¹ÓÃ·½·¨£¬ÔÙÂÔÒ»´ß¶¯·¨¾öºó£¬¾Í½«ÉñÊ¶½þÈëÁËÆäÖÐ¡£', '\\xa0\\xa0\\xa0\\xa0×ã×ãÒ»Õµ²è¹¤·òºó£¬º«Á¢²ÅÇáÍÂÒ»¿ÚÆøµÄ½«¾§Ê¯´Ó¶îÍ·ÉÏÄÃ¿ª£¬²¢»º»ºËµµÀ£º', '\\xa0\\xa0\\xa0\\xa0¡°Ô\\xadÀ´Èç´Ë£¬ÏÉ½çÈç½ñ±»·Ö³ÉÎÞÊýÏÉÓò£¬¶øÕâÐ©ÏÉÓòÔòÓÖ±»¸÷¸öÏÉ¹¬¼ÓÒÔ¼à¹Ü×Å¡£Õâµ¹ÓÐÐ©ÒâË¼£¬Ö»ÊÇ¼à¹Ü¶ø²»Í³ÖÎ£¿¡±', '\\xa0\\xa0\\xa0\\xa0¡°µÀÓÑ¹ûÈ»ÊÇÃ÷°×Ö®ÈË¡£¼ÈÈ»ÕâÑù£¬ÎÒ¸øµÀÓÑÃ÷ËµÒ»ÏÂÏÉ½çÈç½ñµÄ´óÊÆÇéÐÎÁË¡£²»ÖªµÀÓÑ¿ÉÓÐÐËÈ¤ÌýÉÏÒ»¶þ£¡¡±¸ßÉýÌýµ½º«Á¢µÄÑÔÓï£¬Á³ÉÏÈ´¸¡ÏÖÒ»Ë¿Ææ¹ÖÖ®É«µÄÎÊµÀ¡£', '\\xa0\\xa0\\xa0\\xa0¡°»¹Çë¸ßÐÖÖ¸µãÒ»¶þ¡£¡±º«Á¢Ò»¹°ÊÖ£¬Á³É«ÄýÖØÁË¼¸·Ö¡£', '\\xa0\\xa0\\xa0\\xa0¡°º«µÀÓÑ²»ÓÃ¿ÍÆø¡£ÏÉ½çÇéÐÎµÄÈ·ºÍÏÉ½çÆÄÓÐÐ©µÄ²»Í¬µÄ¡£ÏÉÓòËäÈ»ÃûÒåÉÏ¶¼ÊÇÒÔÏÉ¹¬Îª×ð£¬µ«Êµ¼ÊÉÏÃ¿¸öÏÉÓò¶¼ÓÐ²»ÉÙÊµÁ¦²»ÔÚÏÉ¹¬Ö®ÏÂµÄ´óÊÆÁ¦´æÔÚ£¬ÉõÖÁÓÐÐ©³¬Ç¿ÊµÁ¦»¹ÄÜÎÈÎÈÑ¹×¡×Ô¼ºÏÉÓòÏÉ¹¬Ò»Í·¡£Ö»ÊÇÖîÎ»µÀ×æ¶¼ÐèÒªÏÉ½çÎ¬³ÖÒ»¶¨µÄÖÈÐò£¬ÒÔÃâ³öÒ»Ð©²»ºÃÊÕÊ°µÄ´óÂÒ×Ó£¬Õâ²ÅÄ¬ÈÏ¸÷¸öÏÉÓòÃûÒåÉÏ¶¼ÒÔÏÉ¹¬ÎªÖ÷µÄ¡£µ±È»ÕâÐ©ÏÉ¹¬±¾ÉíÒ²ÊÇÏÉÓòÖÐÓÐÊýµÄ´óÊÆÁ¦£¬·ñÔòÒ²¸ù±¾ÎÞ·¨·þÖÚµÄ¡£¶øÕâÐ©ÏÉ¹¬Ö´ÕÆÕßÒ²´ó¶¼ºÜÊ¶È¤£¬Ò»°ãÒ²²»»áÈ¥´¥Å\\xadÆäËûºÍ×Ô¼ºÏàµ±µÄ´óÊÆÁ¦£¬ËùÒÔÏÖÔÚµÄÏÉ½ç»¹Ëã°²Äþ¡£Ö»Òª²»È¥´¥·¸Ä³Ð©ÏÉ½ç½ûÂÉ£¬×ÔÄØ¸öÔÚÏÉ½çÄÜºÃºÃåÐÒ£µÄ¡£¶øµÀÓÑÊÇ·ÉÉýÏÉÈË£¬ÇéÐÎºÍ±¾ÍÁÏÉÈË»¹ÂÔÓÐ²»Í¬µÄ¡£¸Õ·ÉÉýÕæÏÉ×ÝÈ»¾\\xad¹ýÀ×½ÙÏ´Àñ£¬ÌåÄÚÕæÔªÒÑ¾\\xad¿ªÊ¼¸Ä±ä£¬¿ÉÒÔ½ÓÊÜÏÉÁéÁ¦ÁË£¬µ«Èô×ª»¯ÍêÈ«¿ÖÅÂ»¹ÐèÒªÊý°ÙÄêÊ±¼äÖ®¾ÃµÄ¡£ÈôÔÚÏÂÊÇµÀÓÑµÄ»°£¬±Ø¶¨»áÑ¡ÔñÏÉÓòÄ³Ò»ÊÆÁ¦ÒÀ¸½£¬µÈÌåÄÚÕæÔª³¹µ××ª»¯Íê³Éºó£¬²Å»áÔÙ¿¼ÂÇÆäËûµÄÊÂÇé¡£·ñÔòµÀÓÑÊÇ³õÁÙÏÉ½ç£¬¹âÊÇÈÕ³£µÄÏÉÁé¾§ÏûºÄ£¬¿ÖÅÂÒ²ÊÇÒ»±Ê²»Ð¡µÄÊýÄ¿¡£¡±¸ßÉýÒ²²»ÔÙ¿ÍÆøÁË£¬Ù©Ù©¶øÌ¸ÁËÒ»·¬¡£', '\\xa0\\xa0\\xa0\\xa0º«Á¢Ò»±ßÌý×Å£¬Ò»±ßÂ¶³öÈôÓÐËùË¼µÄÉñÉ«¡£', '\\xa0\\xa0\\xa0\\xa0¡°¶àÐ»¸ßÐÖÖ¸µã£¬ÌýµÀÓÑ¿ÚÆøÒ²²»ÊÇÏÉ¹¬Ö®ÈË°É¡£¡±º«Á¢Ð¦ÁËÒ»Ð¦ºó£¬ºöÈ»ÎÊµÀ¡£', '\\xa0\\xa0\\xa0\\xa0¡°º«µÀÓÑ¿´³öÀ´ÁË£¬ÔÚÏÂµÄÈ·²»ÊÇÏÉ¹¬Ö®ÈË£¬¶øÊÇÊ¯í¶µîÖÐÈË¡£Ö®ËùÒÔ»á³öÏÖÔÚ´Ë£¬Ö»²»¹ýÊÇÔÚÓ¦¸¶ÏÉ¹¬½»¸ø±¾µîµÄÒ»Ð©²îÊÂ¶øÒÑ¡£²»¹ýÈôÊÇµÀÓÑÈô¿ÏÏÖÔÚ¼ÓÈë±¾µîµÄ»°£¬¸ßÄ³×ÔÈ»ÊÇ¼«Îª»¶Ó\\xadµÄ¡£Ê¯í¶µî²»µ«ÄÜ¹»Ìá¹©ÆäËûÊÆÁ¦Ëù¸øµÄÒ»ÇÐ´ýÓö£¬²¢ÇÒÎÒ»¹¿É×öÖ÷£¬ÈÃµÀÓÑÔÚ±¾µîµÇÌì¸óÖÐÃâ·ÑÈÎÑ¡Ò»²¿¸ß½×ÏÉ¼Ò¹¦·¨ÐÞÁ¶¡£¡±¸ßÉýÒ²Ð¦ÁËÆðÀ´£¬Ë¿ºÁÃ»ÓÐÒþÂ÷Ö®ÒâµÄ»ØµÀ¡£', '\\xa0\\xa0\\xa0\\xa0@R', '\\xa0\\xa0\\xa0\\xa0(ÈýÆßÖÐÎÄ www.37zw.net)']\n"
     ]
    },
    {
     "ename": "TypeError",
     "evalue": "can only concatenate list (not \"str\") to list",
     "output_type": "error",
     "traceback": [
      "\u001b[1;31m---------------------------------------------------------------------------\u001b[0m",
      "\u001b[1;31mTypeError\u001b[0m                                 Traceback (most recent call last)",
      "\u001b[1;32m<ipython-input-18-725956e3c2cf>\u001b[0m in \u001b[0;36m<module>\u001b[1;34m\u001b[0m\n\u001b[0;32m     32\u001b[0m         \u001b[0mprint\u001b[0m\u001b[1;33m(\u001b[0m\u001b[0mchapter_content\u001b[0m\u001b[1;33m)\u001b[0m\u001b[1;33m\u001b[0m\u001b[1;33m\u001b[0m\u001b[0m\n\u001b[0;32m     33\u001b[0m         \u001b[0mf\u001b[0m\u001b[1;33m.\u001b[0m\u001b[0mwrite\u001b[0m\u001b[1;33m(\u001b[0m\u001b[0mchapter_title\u001b[0m \u001b[1;33m+\u001b[0m \u001b[1;34m\"\\n\"\u001b[0m\u001b[1;33m)\u001b[0m\u001b[1;33m\u001b[0m\u001b[1;33m\u001b[0m\u001b[0m\n\u001b[1;32m---> 34\u001b[1;33m         \u001b[0mf\u001b[0m\u001b[1;33m.\u001b[0m\u001b[0mwrite\u001b[0m\u001b[1;33m(\u001b[0m\u001b[0mchapter_content\u001b[0m \u001b[1;33m+\u001b[0m \u001b[1;34m\"\\n\"\u001b[0m\u001b[1;33m)\u001b[0m\u001b[1;33m\u001b[0m\u001b[1;33m\u001b[0m\u001b[0m\n\u001b[0m\u001b[0;32m     35\u001b[0m         \u001b[0mprint\u001b[0m\u001b[1;33m(\u001b[0m\u001b[0mchapter_title\u001b[0m \u001b[1;33m+\u001b[0m \u001b[1;34m\"下载完成！！！\"\u001b[0m\u001b[1;33m)\u001b[0m\u001b[1;33m\u001b[0m\u001b[1;33m\u001b[0m\u001b[0m\n\u001b[0;32m     36\u001b[0m     \u001b[0mprint\u001b[0m\u001b[1;33m(\u001b[0m\u001b[0mtitle\u001b[0m \u001b[1;33m+\u001b[0m \u001b[1;34m\"保存成功！！！\"\u001b[0m\u001b[1;33m)\u001b[0m\u001b[1;33m\u001b[0m\u001b[1;33m\u001b[0m\u001b[0m\n",
      "\u001b[1;31mTypeError\u001b[0m: can only concatenate list (not \"str\") to list"
     ]
    }
   ],
   "source": [
    "import requests\n",
    "from lxml import etree\n",
    "if __name__ == \"__main__\":\n",
    "    url = \"https://www.37zw.net/21/21953/\"\n",
    "    headers = {\n",
    "        \"User-Agent\" : \"Mozilla/5.0 (Windows NT 10.0; Win64; x64; rv:82.0) Gecko/20100101 Firefox/82.0\"\n",
    "    }\n",
    "    response = requests.get(url=url, headers=headers)\n",
    "    page_text = response.text\n",
    "#     page_text = page_text.encode(\"iso-8859-1\").decode(\"gbk\")\n",
    "    HTML_etree = etree.HTML(page_text)\n",
    "    title = HTML_etree.xpath('//div[@id=\"info\"]/h1/text()')[0]\n",
    "    author = HTML_etree.xpath('//div[@id=\"info\"]/p[1]/text()')[0]\n",
    "    title = title.encode('iso-8859-1').decode('gbk')\n",
    "    author = author.encode('iso-8859-1').decode('gbk')\n",
    "    print(title)\n",
    "    print(author)\n",
    "    f = open(\"D:/\"+ title +\".txt\", \"w\")\n",
    "    f.write(title)\n",
    "    f.write(author)\n",
    "    dd_list = HTML_etree.xpath('//div[@id=\"list\"]//dd')\n",
    "    for dd in dd_list:\n",
    "        chapter_title = dd.xpath('./a/text()')[0]\n",
    "        chapter_title = chapter_title.encode('iso-8859-1').decode('gbk')\n",
    "        chapter_src = url + dd.xpath('./a/@href')[0]\n",
    "        chapter_HTML = requests.get(url=chapter_src, headers=headers).text\n",
    "#         chapter_HTML = chapter_HTML.encode('iso-8859-1').decode('gbk')\n",
    "#         print(chapter_HTML)\n",
    "        chapter_etree = etree.HTML(chapter_HTML)\n",
    "        chapter_content = chapter_etree.xpath('//div[@id=\"content\"]//text()')\n",
    "#         chapter_content = chapter_content.encode('iso-8859-1').decode('gbk')\n",
    "        print(chapter_content)\n",
    "        f.write(chapter_title + \"\\n\")\n",
    "        f.write(chapter_content + \"\\n\")\n",
    "        print(chapter_title + \"下载完成！！！\")\n",
    "    print(title + \"保存成功！！！\")"
   ]
  },
  {
   "cell_type": "code",
   "execution_count": 19,
   "metadata": {},
   "outputs": [
    {
     "ename": "UnicodeEncodeError",
     "evalue": "'latin-1' codec can't encode characters in position 0-12: ordinal not in range(256)",
     "output_type": "error",
     "traceback": [
      "\u001b[1;31m---------------------------------------------------------------------------\u001b[0m",
      "\u001b[1;31mUnicodeEncodeError\u001b[0m                        Traceback (most recent call last)",
      "\u001b[1;32m<ipython-input-19-13205565ca94>\u001b[0m in \u001b[0;36m<module>\u001b[1;34m\u001b[0m\n\u001b[0;32m     13\u001b[0m     \u001b[0mtitle\u001b[0m \u001b[1;33m=\u001b[0m \u001b[0mHTML_etree\u001b[0m\u001b[1;33m.\u001b[0m\u001b[0mxpath\u001b[0m\u001b[1;33m(\u001b[0m\u001b[1;34m'//div[@id=\"info\"]/h1/text()'\u001b[0m\u001b[1;33m)\u001b[0m\u001b[1;33m[\u001b[0m\u001b[1;36m0\u001b[0m\u001b[1;33m]\u001b[0m\u001b[1;33m\u001b[0m\u001b[1;33m\u001b[0m\u001b[0m\n\u001b[0;32m     14\u001b[0m     \u001b[0mauthor\u001b[0m \u001b[1;33m=\u001b[0m \u001b[0mHTML_etree\u001b[0m\u001b[1;33m.\u001b[0m\u001b[0mxpath\u001b[0m\u001b[1;33m(\u001b[0m\u001b[1;34m'//div[@id=\"info\"]/p[1]/text()'\u001b[0m\u001b[1;33m)\u001b[0m\u001b[1;33m[\u001b[0m\u001b[1;36m0\u001b[0m\u001b[1;33m]\u001b[0m\u001b[1;33m\u001b[0m\u001b[1;33m\u001b[0m\u001b[0m\n\u001b[1;32m---> 15\u001b[1;33m     \u001b[0mtitle\u001b[0m \u001b[1;33m=\u001b[0m \u001b[0mtitle\u001b[0m\u001b[1;33m.\u001b[0m\u001b[0mencode\u001b[0m\u001b[1;33m(\u001b[0m\u001b[1;34m'iso-8859-1'\u001b[0m\u001b[1;33m)\u001b[0m\u001b[1;33m.\u001b[0m\u001b[0mdecode\u001b[0m\u001b[1;33m(\u001b[0m\u001b[1;34m'gbk'\u001b[0m\u001b[1;33m)\u001b[0m\u001b[1;33m\u001b[0m\u001b[1;33m\u001b[0m\u001b[0m\n\u001b[0m\u001b[0;32m     16\u001b[0m     \u001b[0mauthor\u001b[0m \u001b[1;33m=\u001b[0m \u001b[0mauthor\u001b[0m\u001b[1;33m.\u001b[0m\u001b[0mencode\u001b[0m\u001b[1;33m(\u001b[0m\u001b[1;34m'iso-8859-1'\u001b[0m\u001b[1;33m)\u001b[0m\u001b[1;33m.\u001b[0m\u001b[0mdecode\u001b[0m\u001b[1;33m(\u001b[0m\u001b[1;34m'gbk'\u001b[0m\u001b[1;33m)\u001b[0m\u001b[1;33m\u001b[0m\u001b[1;33m\u001b[0m\u001b[0m\n\u001b[0;32m     17\u001b[0m     \u001b[0mprint\u001b[0m\u001b[1;33m(\u001b[0m\u001b[0mtitle\u001b[0m\u001b[1;33m)\u001b[0m\u001b[1;33m\u001b[0m\u001b[1;33m\u001b[0m\u001b[0m\n",
      "\u001b[1;31mUnicodeEncodeError\u001b[0m: 'latin-1' codec can't encode characters in position 0-12: ordinal not in range(256)"
     ]
    }
   ],
   "source": [
    "import requests\n",
    "from lxml import etree\n",
    "if __name__ == \"__main__\":\n",
    "    url = \"https://www.37zw.net/21/21953/\"\n",
    "    headers = {\n",
    "        \"User-Agent\" : \"Mozilla/5.0 (Windows NT 10.0; Win64; x64; rv:82.0) Gecko/20100101 Firefox/82.0\"\n",
    "    }\n",
    "    response = requests.get(url=url, headers=headers)\n",
    "    response.encoding = \"utf-8\"\n",
    "    page_text = response.text\n",
    "#     page_text = page_text.encode(\"iso-8859-1\").decode(\"gbk\")\n",
    "    HTML_etree = etree.HTML(page_text)\n",
    "    title = HTML_etree.xpath('//div[@id=\"info\"]/h1/text()')[0]\n",
    "    author = HTML_etree.xpath('//div[@id=\"info\"]/p[1]/text()')[0]\n",
    "    title = title.encode('iso-8859-1').decode('gbk')\n",
    "    author = author.encode('iso-8859-1').decode('gbk')\n",
    "    print(title)\n",
    "    print(author)\n",
    "    f = open(\"D:/\"+ title +\".txt\", \"w\")\n",
    "    f.write(title)\n",
    "    f.write(author)\n",
    "    dd_list = HTML_etree.xpath('//div[@id=\"list\"]//dd')\n",
    "    for dd in dd_list:\n",
    "        chapter_title = dd.xpath('./a/text()')[0]\n",
    "        chapter_title = chapter_title.encode('iso-8859-1').decode('gbk')\n",
    "        chapter_src = url + dd.xpath('./a/@href')[0]\n",
    "        chapter_HTML = requests.get(url=chapter_src, headers=headers).text\n",
    "#         chapter_HTML = chapter_HTML.encode('iso-8859-1').decode('gbk')\n",
    "#         print(chapter_HTML)\n",
    "        chapter_etree = etree.HTML(chapter_HTML)\n",
    "        chapter_content = chapter_etree.xpath('//div[@id=\"content\"]//text()')\n",
    "#         chapter_content = chapter_content.encode('iso-8859-1').decode('gbk')\n",
    "        print(chapter_content)\n",
    "        f.write(chapter_title + \"\\n\")\n",
    "        f.write(chapter_content + \"\\n\")\n",
    "        print(chapter_title + \"下载完成！！！\")\n",
    "    print(title + \"保存成功！！！\")"
   ]
  },
  {
   "cell_type": "code",
   "execution_count": 20,
   "metadata": {},
   "outputs": [
    {
     "name": "stdout",
     "output_type": "stream",
     "text": [
      "�������ɴ��ɽ�ƪ\n",
      "��    �ߣ�����\n"
     ]
    },
    {
     "ename": "UnicodeEncodeError",
     "evalue": "'gbk' codec can't encode character '\\ufffd' in position 0: illegal multibyte sequence",
     "output_type": "error",
     "traceback": [
      "\u001b[1;31m---------------------------------------------------------------------------\u001b[0m",
      "\u001b[1;31mUnicodeEncodeError\u001b[0m                        Traceback (most recent call last)",
      "\u001b[1;32m<ipython-input-20-b243c13462d0>\u001b[0m in \u001b[0;36m<module>\u001b[1;34m\u001b[0m\n\u001b[0;32m     18\u001b[0m     \u001b[0mprint\u001b[0m\u001b[1;33m(\u001b[0m\u001b[0mauthor\u001b[0m\u001b[1;33m)\u001b[0m\u001b[1;33m\u001b[0m\u001b[1;33m\u001b[0m\u001b[0m\n\u001b[0;32m     19\u001b[0m     \u001b[0mf\u001b[0m \u001b[1;33m=\u001b[0m \u001b[0mopen\u001b[0m\u001b[1;33m(\u001b[0m\u001b[1;34m\"D:/\"\u001b[0m\u001b[1;33m+\u001b[0m \u001b[0mtitle\u001b[0m \u001b[1;33m+\u001b[0m\u001b[1;34m\".txt\"\u001b[0m\u001b[1;33m,\u001b[0m \u001b[1;34m\"w\"\u001b[0m\u001b[1;33m)\u001b[0m\u001b[1;33m\u001b[0m\u001b[1;33m\u001b[0m\u001b[0m\n\u001b[1;32m---> 20\u001b[1;33m     \u001b[0mf\u001b[0m\u001b[1;33m.\u001b[0m\u001b[0mwrite\u001b[0m\u001b[1;33m(\u001b[0m\u001b[0mtitle\u001b[0m\u001b[1;33m)\u001b[0m\u001b[1;33m\u001b[0m\u001b[1;33m\u001b[0m\u001b[0m\n\u001b[0m\u001b[0;32m     21\u001b[0m     \u001b[0mf\u001b[0m\u001b[1;33m.\u001b[0m\u001b[0mwrite\u001b[0m\u001b[1;33m(\u001b[0m\u001b[0mauthor\u001b[0m\u001b[1;33m)\u001b[0m\u001b[1;33m\u001b[0m\u001b[1;33m\u001b[0m\u001b[0m\n\u001b[0;32m     22\u001b[0m     \u001b[0mdd_list\u001b[0m \u001b[1;33m=\u001b[0m \u001b[0mHTML_etree\u001b[0m\u001b[1;33m.\u001b[0m\u001b[0mxpath\u001b[0m\u001b[1;33m(\u001b[0m\u001b[1;34m'//div[@id=\"list\"]//dd'\u001b[0m\u001b[1;33m)\u001b[0m\u001b[1;33m\u001b[0m\u001b[1;33m\u001b[0m\u001b[0m\n",
      "\u001b[1;31mUnicodeEncodeError\u001b[0m: 'gbk' codec can't encode character '\\ufffd' in position 0: illegal multibyte sequence"
     ]
    }
   ],
   "source": [
    "import requests\n",
    "from lxml import etree\n",
    "if __name__ == \"__main__\":\n",
    "    url = \"https://www.37zw.net/21/21953/\"\n",
    "    headers = {\n",
    "        \"User-Agent\" : \"Mozilla/5.0 (Windows NT 10.0; Win64; x64; rv:82.0) Gecko/20100101 Firefox/82.0\"\n",
    "    }\n",
    "    response = requests.get(url=url, headers=headers)\n",
    "    response.encoding = \"utf-8\"\n",
    "    page_text = response.text\n",
    "#     page_text = page_text.encode(\"iso-8859-1\").decode(\"gbk\")\n",
    "    HTML_etree = etree.HTML(page_text)\n",
    "    title = HTML_etree.xpath('//div[@id=\"info\"]/h1/text()')[0]\n",
    "    author = HTML_etree.xpath('//div[@id=\"info\"]/p[1]/text()')[0]\n",
    "#     title = title.encode('iso-8859-1').decode('gbk')\n",
    "#     author = author.encode('iso-8859-1').decode('gbk')\n",
    "    print(title)\n",
    "    print(author)\n",
    "    f = open(\"D:/\"+ title +\".txt\", \"w\")\n",
    "    f.write(title)\n",
    "    f.write(author)\n",
    "    dd_list = HTML_etree.xpath('//div[@id=\"list\"]//dd')\n",
    "    for dd in dd_list:\n",
    "        chapter_title = dd.xpath('./a/text()')[0]\n",
    "        chapter_title = chapter_title.encode('iso-8859-1').decode('gbk')\n",
    "        chapter_src = url + dd.xpath('./a/@href')[0]\n",
    "        chapter_HTML = requests.get(url=chapter_src, headers=headers).text\n",
    "#         chapter_HTML = chapter_HTML.encode('iso-8859-1').decode('gbk')\n",
    "#         print(chapter_HTML)\n",
    "        chapter_etree = etree.HTML(chapter_HTML)\n",
    "        chapter_content = chapter_etree.xpath('//div[@id=\"content\"]//text()')\n",
    "#         chapter_content = chapter_content.encode('iso-8859-1').decode('gbk')\n",
    "        print(chapter_content)\n",
    "        f.write(chapter_title + \"\\n\")\n",
    "        f.write(chapter_content + \"\\n\")\n",
    "        print(chapter_title + \"下载完成！！！\")\n",
    "    print(title + \"保存成功！！！\")"
   ]
  },
  {
   "cell_type": "code",
   "execution_count": 21,
   "metadata": {},
   "outputs": [
    {
     "name": "stdout",
     "output_type": "stream",
     "text": [
      "�������ɴ��ɽ�ƪ\n",
      "��    �ߣ�����\n"
     ]
    },
    {
     "ename": "UnicodeEncodeError",
     "evalue": "'latin-1' codec can't encode characters in position 0-6: ordinal not in range(256)",
     "output_type": "error",
     "traceback": [
      "\u001b[1;31m---------------------------------------------------------------------------\u001b[0m",
      "\u001b[1;31mUnicodeEncodeError\u001b[0m                        Traceback (most recent call last)",
      "\u001b[1;32m<ipython-input-21-15b101d52933>\u001b[0m in \u001b[0;36m<module>\u001b[1;34m\u001b[0m\n\u001b[0;32m     23\u001b[0m     \u001b[1;32mfor\u001b[0m \u001b[0mdd\u001b[0m \u001b[1;32min\u001b[0m \u001b[0mdd_list\u001b[0m\u001b[1;33m:\u001b[0m\u001b[1;33m\u001b[0m\u001b[1;33m\u001b[0m\u001b[0m\n\u001b[0;32m     24\u001b[0m         \u001b[0mchapter_title\u001b[0m \u001b[1;33m=\u001b[0m \u001b[0mdd\u001b[0m\u001b[1;33m.\u001b[0m\u001b[0mxpath\u001b[0m\u001b[1;33m(\u001b[0m\u001b[1;34m'./a/text()'\u001b[0m\u001b[1;33m)\u001b[0m\u001b[1;33m[\u001b[0m\u001b[1;36m0\u001b[0m\u001b[1;33m]\u001b[0m\u001b[1;33m\u001b[0m\u001b[1;33m\u001b[0m\u001b[0m\n\u001b[1;32m---> 25\u001b[1;33m         \u001b[0mchapter_title\u001b[0m \u001b[1;33m=\u001b[0m \u001b[0mchapter_title\u001b[0m\u001b[1;33m.\u001b[0m\u001b[0mencode\u001b[0m\u001b[1;33m(\u001b[0m\u001b[1;34m'iso-8859-1'\u001b[0m\u001b[1;33m)\u001b[0m\u001b[1;33m.\u001b[0m\u001b[0mdecode\u001b[0m\u001b[1;33m(\u001b[0m\u001b[1;34m'gbk'\u001b[0m\u001b[1;33m)\u001b[0m\u001b[1;33m\u001b[0m\u001b[1;33m\u001b[0m\u001b[0m\n\u001b[0m\u001b[0;32m     26\u001b[0m         \u001b[0mchapter_src\u001b[0m \u001b[1;33m=\u001b[0m \u001b[0murl\u001b[0m \u001b[1;33m+\u001b[0m \u001b[0mdd\u001b[0m\u001b[1;33m.\u001b[0m\u001b[0mxpath\u001b[0m\u001b[1;33m(\u001b[0m\u001b[1;34m'./a/@href'\u001b[0m\u001b[1;33m)\u001b[0m\u001b[1;33m[\u001b[0m\u001b[1;36m0\u001b[0m\u001b[1;33m]\u001b[0m\u001b[1;33m\u001b[0m\u001b[1;33m\u001b[0m\u001b[0m\n\u001b[0;32m     27\u001b[0m         \u001b[0mchapter_HTML\u001b[0m \u001b[1;33m=\u001b[0m \u001b[0mrequests\u001b[0m\u001b[1;33m.\u001b[0m\u001b[0mget\u001b[0m\u001b[1;33m(\u001b[0m\u001b[0murl\u001b[0m\u001b[1;33m=\u001b[0m\u001b[0mchapter_src\u001b[0m\u001b[1;33m,\u001b[0m \u001b[0mheaders\u001b[0m\u001b[1;33m=\u001b[0m\u001b[0mheaders\u001b[0m\u001b[1;33m)\u001b[0m\u001b[1;33m.\u001b[0m\u001b[0mtext\u001b[0m\u001b[1;33m\u001b[0m\u001b[1;33m\u001b[0m\u001b[0m\n",
      "\u001b[1;31mUnicodeEncodeError\u001b[0m: 'latin-1' codec can't encode characters in position 0-6: ordinal not in range(256)"
     ]
    }
   ],
   "source": [
    "import requests\n",
    "from lxml import etree\n",
    "if __name__ == \"__main__\":\n",
    "    url = \"https://www.37zw.net/21/21953/\"\n",
    "    headers = {\n",
    "        \"User-Agent\" : \"Mozilla/5.0 (Windows NT 10.0; Win64; x64; rv:82.0) Gecko/20100101 Firefox/82.0\"\n",
    "    }\n",
    "    response = requests.get(url=url, headers=headers)\n",
    "    response.encoding = \"utf-8\"\n",
    "    page_text = response.text\n",
    "#     page_text = page_text.encode(\"iso-8859-1\").decode(\"gbk\")\n",
    "    HTML_etree = etree.HTML(page_text)\n",
    "    title = HTML_etree.xpath('//div[@id=\"info\"]/h1/text()')[0]\n",
    "    author = HTML_etree.xpath('//div[@id=\"info\"]/p[1]/text()')[0]\n",
    "#     title = title.encode('iso-8859-1').decode('gbk')\n",
    "#     author = author.encode('iso-8859-1').decode('gbk')\n",
    "    print(title)\n",
    "    print(author)\n",
    "    f = open(\"D:/\"+ title +\".txt\", \"w\", encoding='utf-8')\n",
    "    f.write(title)\n",
    "    f.write(author)\n",
    "    dd_list = HTML_etree.xpath('//div[@id=\"list\"]//dd')\n",
    "    for dd in dd_list:\n",
    "        chapter_title = dd.xpath('./a/text()')[0]\n",
    "        chapter_title = chapter_title.encode('iso-8859-1').decode('gbk')\n",
    "        chapter_src = url + dd.xpath('./a/@href')[0]\n",
    "        chapter_HTML = requests.get(url=chapter_src, headers=headers).text\n",
    "#         chapter_HTML = chapter_HTML.encode('iso-8859-1').decode('gbk')\n",
    "#         print(chapter_HTML)\n",
    "        chapter_etree = etree.HTML(chapter_HTML)\n",
    "        chapter_content = chapter_etree.xpath('//div[@id=\"content\"]//text()')\n",
    "#         chapter_content = chapter_content.encode('iso-8859-1').decode('gbk')\n",
    "        print(chapter_content)\n",
    "        f.write(chapter_title + \"\\n\")\n",
    "        f.write(chapter_content + \"\\n\")\n",
    "        print(chapter_title + \"下载完成！！！\")\n",
    "    print(title + \"保存成功！！！\")"
   ]
  },
  {
   "cell_type": "code",
   "execution_count": 22,
   "metadata": {},
   "outputs": [
    {
     "name": "stdout",
     "output_type": "stream",
     "text": [
      "�������ɴ��ɽ�ƪ\n",
      "��    �ߣ�����\n",
      "['\\xa0\\xa0\\xa0\\xa0¡°ÔÚÏÂº«Á¢£¬ÊÇ´ÓÁé½ç·ÉÉýµÄ¡£ÕâÀï¾ÍÊÇ´«ÎÅÖÐµÄ·ÉÌ¨£¡³ýµÀÓÑÍâ£¬ºÃÏñ²¢ÎÞÆäËûÈË¡£¡±º«Á¢µ¥ÊÖÇáÇáÒ»°´³ØË®£¬¾ÍÒ»ÏÂ·É³öÁËË®³Ø£¬ÉíÉÏÇà¹âÒ»ÉÁ£¬¸üÊÇÎÞÉùÏ¢µÄÒ»µãË®×Õ¶¼Ã»ÓÐÁË¡£', '\\xa0\\xa0\\xa0\\xa0ÕâÊ±ËûÒÑ¾\\xad·¢ÏÖ£¬ÕÆÌìÆ¿ÔªºÏÎå¼«É½µÈÖØ±¦È«¶¼°²È»ÎÞí¦µÄÔÚÆäÌåÄÚ£¬µ¹ÊÇÄ§¹âµÈÈËÈ´²ØÔÚÁéÊÞ´üÖÐÈ«ÎÞÈÎºÎ·´Ó¦ÁË¡£', '\\xa0\\xa0\\xa0\\xa0¶ø´ËµØ¿´ÆðÀ´Ö»ÊÇÒ»¸öÊ®·Ö¼òÒ×¸ßÌ¨£¬³ýÁËÖÐÐÄ´¦µÄË®³ØÍâ£¬¸ßÌ¨ËÄÖÜÔò±»Ò»²ãÎµÀ¶¹âÄ»ÁýÕÖ¡£', '\\xa0\\xa0\\xa0\\xa0¹âÄ»Ö®Íâ£¬ÒþÔ¼¿É¼û¶ìÃ«´óÑ©ÂþÌì·ÉÎè£¬ÍâÃæ¾¹ÊÇÒ»¸ö¾§Ó¨µÄ±ùÑ©ÊÀ½ç¡£', '\\xa0\\xa0\\xa0\\xa0¡°Ô\\xadÀ´ÊÇº«µÀÓÑ¡£Áé½ç»°£¬Õâ¿ÉÓÐÐ©Í·Í´ÁË£¿ÏÂÃæµÄÄÇÐ©½çÃæ£¬Ê®¸öµ¹ÓÐÁ½Èý¸ö¶¼½Ð´ËÃûµÄ¡£ËãÁË£¬ÎÒ¾ÍËæ±ã¸øÄãµÇ¼ÇÒ»ÏÂ°É¡£·´ÕýÉÏÃæÒ»°ãÒ²²»»áÀ´²éÕâÖÖÊÂÇéµÄ¡£¡±¸ßÉýÏÈÊÇÃ¼Í·Ò»Öå£¬µ«ÂíÉÏÓÖÒ»Õ¹µÄÎÞËùÎ½ËµµÀ¡£', '\\xa0\\xa0\\xa0\\xa0½Ó×ÅËûÁ½ÊÖÐé¿ÕÒ»×¥£¬ÊÖÖÐ¶ÙÊ±³öÏÖÁËÒ»Ãæ¾§Ó¨ÓñÊéºÍÒ»¸ùµ\\xadÒøÉ«¾Þ±Ê£¬²¢·É¿ìÍùÉÏÃæÊéÐ´×ÅÊ²Ã´¡£', '\\xa0\\xa0\\xa0\\xa0º«Á¢ÐÄÖÐËäÈ»ÓÐÒ»·Ö²ïÒì£¬µ«ÃæÉÏ²¢Î´Â¶³ö£¬·´¶øÕ¾ÔÚÔ\\xadµØ¾²¾²¿´×Å¶Ô·½µÄ¾Ù¶¯¡£', '\\xa0\\xa0\\xa0\\xa0Æ¬¿Ìºó£¬¸ßÉýÁ½ÊÖ¹âÃ¢Ò»ÉÁ£¬ÓñÊéºÍ¾Þ±ÊÍ¬Ê±ÏûÊ§²»¼û£¬È¡¶ø´úÖ®µÄ¶à³öÁËÒ»ÕÅ×Ï½ðÉ«µÄ±¡±¡ÓñÅÆ£¬²¢Ãæ´øÐ¦ÈÝµÄ³åº«Á¢µÝÁË¹ýÀ´¡£', '\\xa0\\xa0\\xa0\\xa0¡°ÕâÊÇ£¿¡±º«Á¢²¢Ã»ÓÐÂíÉÏ½Ó¹ýÀ´£¬·´¶ø²»¶¯ÉùÉ«µÄÎÊÁËÒ»¾ä¡£', '\\xa0\\xa0\\xa0\\xa0¡°ÕâÊÇµÀÓÑµÄÏÉÅÆ£¬Ã¿Ò»Ãû·ÉÉýÏÉÈËµÇ¼ÇÔÚ²áºó£¬¶¼¿ÉÒÔÁìÈ¡µÄ¶«Î÷¡£µÀÓÑÒÔºóÆ¾´Ë¶«Î÷£¬¿ÉÒÔ½øÈë¸÷´óÏÉ³Ç¶øÎÞÐèÔâÊÜÈÎºÎÅÌ²éµÄ£¬²¢ÇÒ»¹½øÈëÒ»Ð©ÌØÊâµØ·½£¬¶øÎÞÐè½ÉÄÉÈÎºÎ·ÑÓÃµÄ¡£ºÇºÇ£¬Õâ¿ÉÖ»ÊÇÄãÃÇ·ÉÉýÏÉÈË²ÅÄÜÓÐµÄ´ýÓö£¬ÏñÎÒµÈÕâÐ©´ÓÏÉ½ç±¾ÍÁÕæÏÉ¿ÉÃ»ÓÐÕâ°ã´ýÓöµÄ¡£¡±¸ßÉýÓÃÒ»ÖÖÒì³£ÏÛÄ½µÄ¿ÚÆøËµµÀ¡£', '\\xa0\\xa0\\xa0\\xa0¡°Å¶£¬ÕâÊÇÎªºÎ£¿¡±º«Á¢ÖÕÓÚÂ¶³öÒ»Ë¿ÑÈÈ»À´¡£', '\\xa0\\xa0\\xa0\\xa0¡°ÕæÏÉ½çÎÞ±ßÎÞ¼Ê£¬±¾ÍÁÏÉÈË¸üÊÇÊýÒÔÒÚÍò¼Ç£¬µ«´ÓÏÂ½ç¿¿×Ô¼ºÁ¦Á¿·ÉÉýÉÏÀ´µÄÏÉÈËÈ´ÉÙÖ®ÓÖÉÙµÄ¡£µ«¸÷¸öÏÉÓòÖÐµÄ¸ß½×ÏÉÈËÖÐ£¬·ÉÉýÏÉÈËºÍ±¾ÍÁÏÉÈËÊýÁ¿È´²î²»ÁË¶àÉÙ¡£Õâ´ú±íÁËÊ²Ã´£¬µÀÓÑÓ¦¸ÃºÜÇå³þÁË°É¡£¡±¸ßÉýº¬Ð¦µÄ½âÊÍµÀ¡£', '\\xa0\\xa0\\xa0\\xa0¡°Ô\\xadÀ´Èç´Ë£¬ÎÒÓÐ¼¸·ÖÃ÷°×ÁË¡£¼ÈÈ»ÏÉ½çÓÐ´Ë¹æ¶¨£¬ÄÇÎÒÒ²¾Í²»¿ÍÆøÁË¡£¡±º«Á¢ÓÐÐ©»ÐÈ»£¬µãÁËµãÍ·£¬½Ó×ÅÒ»Ì§ÊÖ£¬¾Í½«×Ï½ðÉ«ÓñÅÆ½ÓÁË¹ýÀ´£¬µÍÊ×Ò»¿´ºó£¬Ö»¼ûÉÏÃæºÕÈ»ÃúÓ¡×Å×Ô¼ºµÄÈ«ÉíÓ°Ïñ£¬èòèòÈçÉú£¬ÅÔ±ßÔò»¹±ê×¢ÁË×Ô¼ºÃû×Ö»¹ÓÐ¡°·ÉÉý¡±µÈ¼¸¸ö½ð×\\xadÎÄ¡£', '\\xa0\\xa0\\xa0\\xa0º«Á¢Ðä×ÓÒ»¶¶£¬ÓñÅÆ¶ÙÊ±Ò»ÉÁµÄ²»¼ûÁË×ÙÓ°£¬¿ÚÖÐÓÖÒ»Ð¦µÄÎÊµÀ£º', '\\xa0\\xa0\\xa0\\xa0¡°Ìý¸ßÐÖ¿ÚÆø£¬ÏÉ½çËÆºõÆÄÓÐÖÈÐò£¬µ«²»ÖªµÀÓÑ¿ÚÖÐµÄÉÏÃæÖ¸µÄÊÇ¡\\xad¡\\xad¡±', '\\xa0\\xa0\\xa0\\xa0¡°´ËÊÂº«ÐÖ²»ÓÃ¶àÎÊ£¬Ö»Òª¿´ÍêÕâÃ¶¼ÇÒäÊ¯ÖÐËù¼Ç¶«Î÷£¬Ò²¾Í´ó¸ÅÓÐÐ©ÁË½âÁË¡£¡±¸ßÉýÃ»ÔÚ¶àËµÊ²Ã´£¬ÊÖÒ»Ñï£¬ÓÖÅ×¹ýÀ´Ò»Ã¶À¶ÍôÍôµÄ¾§Ê¯£¬»ØµÀ¡£', '\\xa0\\xa0\\xa0\\xa0¡°ÄÇº²Ä³¶àÐ»ÁË¡£¡±º«Á¢Ò»°Ñ½«¾§Ê¯×¥×¡£¬Á³ÉÏÂ¶³öÒ»Ë¿Ð»Òâ£¬½«ÆäÍù¶îÍ·ÉÏÒ»Ìù£¬Ò²¾ÍÃ÷°×ÁËÊ¹ÓÃ·½·¨£¬ÔÙÂÔÒ»´ß¶¯·¨¾öºó£¬¾Í½«ÉñÊ¶½þÈëÁËÆäÖÐ¡£', '\\xa0\\xa0\\xa0\\xa0×ã×ãÒ»Õµ²è¹¤·òºó£¬º«Á¢²ÅÇáÍÂÒ»¿ÚÆøµÄ½«¾§Ê¯´Ó¶îÍ·ÉÏÄÃ¿ª£¬²¢»º»ºËµµÀ£º', '\\xa0\\xa0\\xa0\\xa0¡°Ô\\xadÀ´Èç´Ë£¬ÏÉ½çÈç½ñ±»·Ö³ÉÎÞÊýÏÉÓò£¬¶øÕâÐ©ÏÉÓòÔòÓÖ±»¸÷¸öÏÉ¹¬¼ÓÒÔ¼à¹Ü×Å¡£Õâµ¹ÓÐÐ©ÒâË¼£¬Ö»ÊÇ¼à¹Ü¶ø²»Í³ÖÎ£¿¡±', '\\xa0\\xa0\\xa0\\xa0¡°µÀÓÑ¹ûÈ»ÊÇÃ÷°×Ö®ÈË¡£¼ÈÈ»ÕâÑù£¬ÎÒ¸øµÀÓÑÃ÷ËµÒ»ÏÂÏÉ½çÈç½ñµÄ´óÊÆÇéÐÎÁË¡£²»ÖªµÀÓÑ¿ÉÓÐÐËÈ¤ÌýÉÏÒ»¶þ£¡¡±¸ßÉýÌýµ½º«Á¢µÄÑÔÓï£¬Á³ÉÏÈ´¸¡ÏÖÒ»Ë¿Ææ¹ÖÖ®É«µÄÎÊµÀ¡£', '\\xa0\\xa0\\xa0\\xa0¡°»¹Çë¸ßÐÖÖ¸µãÒ»¶þ¡£¡±º«Á¢Ò»¹°ÊÖ£¬Á³É«ÄýÖØÁË¼¸·Ö¡£', '\\xa0\\xa0\\xa0\\xa0¡°º«µÀÓÑ²»ÓÃ¿ÍÆø¡£ÏÉ½çÇéÐÎµÄÈ·ºÍÏÉ½çÆÄÓÐÐ©µÄ²»Í¬µÄ¡£ÏÉÓòËäÈ»ÃûÒåÉÏ¶¼ÊÇÒÔÏÉ¹¬Îª×ð£¬µ«Êµ¼ÊÉÏÃ¿¸öÏÉÓò¶¼ÓÐ²»ÉÙÊµÁ¦²»ÔÚÏÉ¹¬Ö®ÏÂµÄ´óÊÆÁ¦´æÔÚ£¬ÉõÖÁÓÐÐ©³¬Ç¿ÊµÁ¦»¹ÄÜÎÈÎÈÑ¹×¡×Ô¼ºÏÉÓòÏÉ¹¬Ò»Í·¡£Ö»ÊÇÖîÎ»µÀ×æ¶¼ÐèÒªÏÉ½çÎ¬³ÖÒ»¶¨µÄÖÈÐò£¬ÒÔÃâ³öÒ»Ð©²»ºÃÊÕÊ°µÄ´óÂÒ×Ó£¬Õâ²ÅÄ¬ÈÏ¸÷¸öÏÉÓòÃûÒåÉÏ¶¼ÒÔÏÉ¹¬ÎªÖ÷µÄ¡£µ±È»ÕâÐ©ÏÉ¹¬±¾ÉíÒ²ÊÇÏÉÓòÖÐÓÐÊýµÄ´óÊÆÁ¦£¬·ñÔòÒ²¸ù±¾ÎÞ·¨·þÖÚµÄ¡£¶øÕâÐ©ÏÉ¹¬Ö´ÕÆÕßÒ²´ó¶¼ºÜÊ¶È¤£¬Ò»°ãÒ²²»»áÈ¥´¥Å\\xadÆäËûºÍ×Ô¼ºÏàµ±µÄ´óÊÆÁ¦£¬ËùÒÔÏÖÔÚµÄÏÉ½ç»¹Ëã°²Äþ¡£Ö»Òª²»È¥´¥·¸Ä³Ð©ÏÉ½ç½ûÂÉ£¬×ÔÄØ¸öÔÚÏÉ½çÄÜºÃºÃåÐÒ£µÄ¡£¶øµÀÓÑÊÇ·ÉÉýÏÉÈË£¬ÇéÐÎºÍ±¾ÍÁÏÉÈË»¹ÂÔÓÐ²»Í¬µÄ¡£¸Õ·ÉÉýÕæÏÉ×ÝÈ»¾\\xad¹ýÀ×½ÙÏ´Àñ£¬ÌåÄÚÕæÔªÒÑ¾\\xad¿ªÊ¼¸Ä±ä£¬¿ÉÒÔ½ÓÊÜÏÉÁéÁ¦ÁË£¬µ«Èô×ª»¯ÍêÈ«¿ÖÅÂ»¹ÐèÒªÊý°ÙÄêÊ±¼äÖ®¾ÃµÄ¡£ÈôÔÚÏÂÊÇµÀÓÑµÄ»°£¬±Ø¶¨»áÑ¡ÔñÏÉÓòÄ³Ò»ÊÆÁ¦ÒÀ¸½£¬µÈÌåÄÚÕæÔª³¹µ××ª»¯Íê³Éºó£¬²Å»áÔÙ¿¼ÂÇÆäËûµÄÊÂÇé¡£·ñÔòµÀÓÑÊÇ³õÁÙÏÉ½ç£¬¹âÊÇÈÕ³£µÄÏÉÁé¾§ÏûºÄ£¬¿ÖÅÂÒ²ÊÇÒ»±Ê²»Ð¡µÄÊýÄ¿¡£¡±¸ßÉýÒ²²»ÔÙ¿ÍÆøÁË£¬Ù©Ù©¶øÌ¸ÁËÒ»·¬¡£', '\\xa0\\xa0\\xa0\\xa0º«Á¢Ò»±ßÌý×Å£¬Ò»±ßÂ¶³öÈôÓÐËùË¼µÄÉñÉ«¡£', '\\xa0\\xa0\\xa0\\xa0¡°¶àÐ»¸ßÐÖÖ¸µã£¬ÌýµÀÓÑ¿ÚÆøÒ²²»ÊÇÏÉ¹¬Ö®ÈË°É¡£¡±º«Á¢Ð¦ÁËÒ»Ð¦ºó£¬ºöÈ»ÎÊµÀ¡£', '\\xa0\\xa0\\xa0\\xa0¡°º«µÀÓÑ¿´³öÀ´ÁË£¬ÔÚÏÂµÄÈ·²»ÊÇÏÉ¹¬Ö®ÈË£¬¶øÊÇÊ¯í¶µîÖÐÈË¡£Ö®ËùÒÔ»á³öÏÖÔÚ´Ë£¬Ö»²»¹ýÊÇÔÚÓ¦¸¶ÏÉ¹¬½»¸ø±¾µîµÄÒ»Ð©²îÊÂ¶øÒÑ¡£²»¹ýÈôÊÇµÀÓÑÈô¿ÏÏÖÔÚ¼ÓÈë±¾µîµÄ»°£¬¸ßÄ³×ÔÈ»ÊÇ¼«Îª»¶Ó\\xadµÄ¡£Ê¯í¶µî²»µ«ÄÜ¹»Ìá¹©ÆäËûÊÆÁ¦Ëù¸øµÄÒ»ÇÐ´ýÓö£¬²¢ÇÒÎÒ»¹¿É×öÖ÷£¬ÈÃµÀÓÑÔÚ±¾µîµÇÌì¸óÖÐÃâ·ÑÈÎÑ¡Ò»²¿¸ß½×ÏÉ¼Ò¹¦·¨ÐÞÁ¶¡£¡±¸ßÉýÒ²Ð¦ÁËÆðÀ´£¬Ë¿ºÁÃ»ÓÐÒþÂ÷Ö®ÒâµÄ»ØµÀ¡£', '\\xa0\\xa0\\xa0\\xa0@R', '\\xa0\\xa0\\xa0\\xa0(ÈýÆßÖÐÎÄ www.37zw.net)']\n"
     ]
    },
    {
     "ename": "TypeError",
     "evalue": "can only concatenate list (not \"str\") to list",
     "output_type": "error",
     "traceback": [
      "\u001b[1;31m---------------------------------------------------------------------------\u001b[0m",
      "\u001b[1;31mTypeError\u001b[0m                                 Traceback (most recent call last)",
      "\u001b[1;32m<ipython-input-22-82b895941817>\u001b[0m in \u001b[0;36m<module>\u001b[1;34m\u001b[0m\n\u001b[0;32m     33\u001b[0m         \u001b[0mprint\u001b[0m\u001b[1;33m(\u001b[0m\u001b[0mchapter_content\u001b[0m\u001b[1;33m)\u001b[0m\u001b[1;33m\u001b[0m\u001b[1;33m\u001b[0m\u001b[0m\n\u001b[0;32m     34\u001b[0m         \u001b[0mf\u001b[0m\u001b[1;33m.\u001b[0m\u001b[0mwrite\u001b[0m\u001b[1;33m(\u001b[0m\u001b[0mchapter_title\u001b[0m \u001b[1;33m+\u001b[0m \u001b[1;34m\"\\n\"\u001b[0m\u001b[1;33m)\u001b[0m\u001b[1;33m\u001b[0m\u001b[1;33m\u001b[0m\u001b[0m\n\u001b[1;32m---> 35\u001b[1;33m         \u001b[0mf\u001b[0m\u001b[1;33m.\u001b[0m\u001b[0mwrite\u001b[0m\u001b[1;33m(\u001b[0m\u001b[0mchapter_content\u001b[0m \u001b[1;33m+\u001b[0m \u001b[1;34m\"\\n\"\u001b[0m\u001b[1;33m)\u001b[0m\u001b[1;33m\u001b[0m\u001b[1;33m\u001b[0m\u001b[0m\n\u001b[0m\u001b[0;32m     36\u001b[0m         \u001b[0mprint\u001b[0m\u001b[1;33m(\u001b[0m\u001b[0mchapter_title\u001b[0m \u001b[1;33m+\u001b[0m \u001b[1;34m\"下载完成！！！\"\u001b[0m\u001b[1;33m)\u001b[0m\u001b[1;33m\u001b[0m\u001b[1;33m\u001b[0m\u001b[0m\n\u001b[0;32m     37\u001b[0m     \u001b[0mprint\u001b[0m\u001b[1;33m(\u001b[0m\u001b[0mtitle\u001b[0m \u001b[1;33m+\u001b[0m \u001b[1;34m\"保存成功！！！\"\u001b[0m\u001b[1;33m)\u001b[0m\u001b[1;33m\u001b[0m\u001b[1;33m\u001b[0m\u001b[0m\n",
      "\u001b[1;31mTypeError\u001b[0m: can only concatenate list (not \"str\") to list"
     ]
    }
   ],
   "source": [
    "import requests\n",
    "from lxml import etree\n",
    "if __name__ == \"__main__\":\n",
    "    url = \"https://www.37zw.net/21/21953/\"\n",
    "    headers = {\n",
    "        \"User-Agent\" : \"Mozilla/5.0 (Windows NT 10.0; Win64; x64; rv:82.0) Gecko/20100101 Firefox/82.0\"\n",
    "    }\n",
    "    response = requests.get(url=url, headers=headers)\n",
    "    response.encoding = \"utf-8\"\n",
    "    page_text = response.text\n",
    "#     page_text = page_text.encode(\"iso-8859-1\").decode(\"gbk\")\n",
    "    HTML_etree = etree.HTML(page_text)\n",
    "    title = HTML_etree.xpath('//div[@id=\"info\"]/h1/text()')[0]\n",
    "    author = HTML_etree.xpath('//div[@id=\"info\"]/p[1]/text()')[0]\n",
    "#     title = title.encode('iso-8859-1').decode('gbk')\n",
    "#     author = author.encode('iso-8859-1').decode('gbk')\n",
    "    print(title)\n",
    "    print(author)\n",
    "    f = open(\"D:/\"+ title +\".txt\", \"w\", encoding='utf-8')\n",
    "    f.write(title)\n",
    "    f.write(author)\n",
    "    dd_list = HTML_etree.xpath('//div[@id=\"list\"]//dd')\n",
    "    for dd in dd_list:\n",
    "        chapter_title = dd.xpath('./a/text()')[0]\n",
    "#         chapter_title = chapter_title.encode('iso-8859-1').decode('gbk')\n",
    "        chapter_src = url + dd.xpath('./a/@href')[0]\n",
    "        chapter_HTML = requests.get(url=chapter_src, headers=headers).text\n",
    "#         chapter_HTML = chapter_HTML.encode('iso-8859-1').decode('gbk')\n",
    "#         print(chapter_HTML)\n",
    "        chapter_etree = etree.HTML(chapter_HTML)\n",
    "        chapter_content = chapter_etree.xpath('//div[@id=\"content\"]//text()')\n",
    "#         chapter_content = chapter_content.encode('iso-8859-1').decode('gbk')\n",
    "        print(chapter_content)\n",
    "        f.write(chapter_title + \"\\n\")\n",
    "        f.write(chapter_content + \"\\n\")\n",
    "        print(chapter_title + \"下载完成！！！\")\n",
    "    print(title + \"保存成功！！！\")"
   ]
  },
  {
   "cell_type": "code",
   "execution_count": null,
   "metadata": {},
   "outputs": [],
   "source": []
  }
 ],
 "metadata": {
  "kernelspec": {
   "display_name": "Python 3",
   "language": "python",
   "name": "python3"
  },
  "language_info": {
   "codemirror_mode": {
    "name": "ipython",
    "version": 3
   },
   "file_extension": ".py",
   "mimetype": "text/x-python",
   "name": "python",
   "nbconvert_exporter": "python",
   "pygments_lexer": "ipython3",
   "version": "3.8.3"
  }
 },
 "nbformat": 4,
 "nbformat_minor": 4
}
