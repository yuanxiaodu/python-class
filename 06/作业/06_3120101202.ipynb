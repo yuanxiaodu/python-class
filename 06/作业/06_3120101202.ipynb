{
 "cells": [
  {
   "cell_type": "code",
   "execution_count": 5,
   "metadata": {},
   "outputs": [],
   "source": [
    "#对于计时器的调用....显示...\n",
    "\n",
    "from dummy_threading import  *\n",
    "\n",
    "class Fout:\n",
    "    \"This class contain some functions to display...\"\n",
    "    _defualt_string=\"wait...system is waiting... ...\"\n",
    "    _arg=[\"start...\",\"...end\"]\n",
    "\n",
    "    def out(self, i=0, string=_defualt_string):\n",
    "        print (string)\n",
    "        print (i ,\"seconds left...\")\n",
    "        print\n",
    "        #print \"...\".join(string)\n",
    "\n",
    "    def tout(self, sec=1,times=1, string=_defualt_string):\n",
    "        for i in range(times):\n",
    "            t=Timer(sec, self.out, [sec*(times-i), string])\n",
    "            t.start()\n",
    "        print (\"...end\")\n",
    "\n",
    "    def sout(self, sec=1, arg=_arg):\n",
    "        for ss in arg:\n",
    "            t=Timer(sec, self.out, [\"#\", ss])\n",
    "            t.start()\n",
    "           \n",
    "    pass\n",
    "\n"
   ]
  },
  {
   "cell_type": "code",
   "execution_count": 9,
   "metadata": {},
   "outputs": [],
   "source": [
    "#1.声明数据\n",
    "import pandas as pd\n",
    "raw_data_1 = {\n",
    "'subject_id': ['1', '2', '3', '4', '5'],\n",
    "'first_name': ['Alex', 'Amy', 'Allen', 'Alice', 'Ayoung'],\n",
    "'last_name': ['Anderson', 'Ackerman', 'Ali', 'Aoni', 'Atiches']}\n",
    "raw_data_2 = {\n",
    "'subject_id': ['4', '5', '6', '7', '8'],\n",
    "'first_name': ['Billy', 'Brian', 'Bran', 'Bryce', 'Betty'],\n",
    "'last_name': ['Bonder', 'Black', 'Balwner', 'Brice', 'Btisan']}\n",
    "raw_data_3 = {\n",
    "'subject_id': ['1', '2', '3', '4', '5', '7', '8', '9', '10', '11'],\n",
    "'test_id': [51, 15, 15, 61, 16, 14, 15, 1, 61, 16]}"
   ]
  },
  {
   "cell_type": "code",
   "execution_count": 10,
   "metadata": {},
   "outputs": [],
   "source": [
    "data1 = pd.DataFrame(raw_data_1)\n",
    "data2 = pd.DataFrame(raw_data_2)\n",
    "data3 = pd.DataFrame(raw_data_3)\n",
    "all_data = pd.concat([data1,data2],axis=0)"
   ]
  },
  {
   "cell_type": "code",
   "execution_count": 12,
   "metadata": {},
   "outputs": [
    {
     "name": "stdout",
     "output_type": "stream",
     "text": [
      "---------------Python要和你玩猜数字游戏---------------\n",
      "猜一个1-100之间的数\n"
     ]
    },
    {
     "name": "stdin",
     "output_type": "stream",
     "text": [
      "猜猜我想的是几： 99\n"
     ]
    },
    {
     "name": "stdout",
     "output_type": "stream",
     "text": [
      "大了大了~~~\n",
      "再试一次吧： "
     ]
    },
    {
     "name": "stdin",
     "output_type": "stream",
     "text": [
      "猜猜我想的是几： 55\n"
     ]
    },
    {
     "name": "stdout",
     "output_type": "stream",
     "text": [
      "大了大了~~~\n",
      "再试一次吧： "
     ]
    },
    {
     "name": "stdin",
     "output_type": "stream",
     "text": [
      "猜猜我想的是几： 22\n"
     ]
    },
    {
     "name": "stdout",
     "output_type": "stream",
     "text": [
      "大了大了~~~\n",
      "再试一次吧： "
     ]
    },
    {
     "name": "stdin",
     "output_type": "stream",
     "text": [
      "猜猜我想的是几： 10\n"
     ]
    },
    {
     "name": "stdout",
     "output_type": "stream",
     "text": [
      "小了小了-_-\n",
      "再试一次吧： "
     ]
    },
    {
     "name": "stdin",
     "output_type": "stream",
     "text": [
      "猜猜我想的是几： 15\n"
     ]
    },
    {
     "name": "stdout",
     "output_type": "stream",
     "text": [
      "大了大了~~~\n",
      "再试一次吧： "
     ]
    },
    {
     "name": "stdin",
     "output_type": "stream",
     "text": [
      "猜猜我想的是几： 12\n"
     ]
    },
    {
     "name": "stdout",
     "output_type": "stream",
     "text": [
      "小了小了-_-\n",
      "再试一次吧： "
     ]
    },
    {
     "name": "stdin",
     "output_type": "stream",
     "text": [
      "猜猜我想的是几： 13\n"
     ]
    },
    {
     "name": "stdout",
     "output_type": "stream",
     "text": [
      "小了小了-_-\n",
      "再试一次吧： "
     ]
    },
    {
     "name": "stdin",
     "output_type": "stream",
     "text": [
      "猜猜我想的是几： 14\n"
     ]
    },
    {
     "name": "stdout",
     "output_type": "stream",
     "text": [
      "恭喜你猜对了！\n",
      "哼，猜中了也没有奖励！\n",
      "游戏结束，不玩啦^_^\n"
     ]
    }
   ],
   "source": [
    "import random #导入random模块，用来产生随机数\n",
    "times = 10 #设置我们的答题次数\n",
    "secret = random.randint(1,100) #随机给random一个1~9的数字，再给secret赋值\n",
    "print('---------------Python要和你玩猜数字游戏---------------')\n",
    "print('猜一个1-100之间的数')\n",
    "guess = 0 #设定guess的值\n",
    "while (guess != secret) and (times > 0): #结束条件，要么次数用完，要么答对。\n",
    "    guess = int(input(\"猜猜我想的是几：\")) #用户输入，并转换为整数\n",
    "    times = times - 1 #用户每输入一次，猜数次数就-1\n",
    "    if guess == secret: #如果用户输入对了\n",
    "        print(\"恭喜你猜对了！\") \n",
    "        print(\"哼，猜中了也没有奖励！\")\n",
    "        break #跳出循环\n",
    "    else:\n",
    "        if guess > secret:\n",
    "            print(\"大了大了~~~\")# 之所以不在这里设置重输，是因为在if times > 0: 中已经弄过了，这样避免输两次，也避免次数已用完还让重输\n",
    "        else:\n",
    "            print(\"小了小了-_-\")\n",
    "    if times > 0: #判断次数是否用完\n",
    "        print(\"再试一次吧：\", end=\" \")\n",
    "    else:\n",
    "        print(\"机会用光咯T_T\")\n",
    "        print(\"我想的是\"+str(secret)+\"!\") #揭晓答案\n",
    "print(\"游戏结束，不玩啦^_^\")"
   ]
  },
  {
   "cell_type": "code",
   "execution_count": 14,
   "metadata": {},
   "outputs": [
    {
     "name": "stdout",
     "output_type": "stream",
     "text": [
      "2\n",
      "3\n",
      "5\n",
      "7\n",
      "11\n",
      "13\n",
      "17\n",
      "19\n",
      "23\n",
      "29\n",
      "31\n",
      "37\n",
      "41\n",
      "43\n",
      "47\n",
      "53\n",
      "59\n",
      "61\n",
      "67\n",
      "71\n",
      "73\n",
      "79\n",
      "83\n",
      "89\n",
      "97\n"
     ]
    }
   ],
   "source": [
    "import math\n",
    "for i in range(1,101):\n",
    "    if i==1:\n",
    "        continue\n",
    "    else:\n",
    "        flag=1\n",
    "        for j in range(2,int(math.sqrt(i))+1):\n",
    "            if i%j==0:\n",
    "                flag=0\n",
    "                break\n",
    "        if(flag==1):\n",
    "            print (i) "
   ]
  },
  {
   "cell_type": "code",
   "execution_count": 21,
   "metadata": {},
   "outputs": [
    {
     "name": "stdin",
     "output_type": "stream",
     "text": [
      "raw_input 22\n"
     ]
    },
    {
     "name": "stdout",
     "output_type": "stream",
     "text": [
      "2 *\n",
      "11\n"
     ]
    }
   ],
   "source": [
    "import math\n",
    "x=int(input(\"raw_input\"))\n",
    "i=2\n",
    "k=x\n",
    "while(i<=k):\n",
    "    if(x%i==0):\n",
    "        x/=i\n",
    "        if(x==1):\n",
    "            print (i)\n",
    "            break\n",
    "        else:\n",
    "            print( i,'*',)\n",
    "    else:\n",
    "        i+=1"
   ]
  },
  {
   "cell_type": "code",
   "execution_count": 22,
   "metadata": {},
   "outputs": [
    {
     "name": "stdin",
     "output_type": "stream",
     "text": [
      " 44\n"
     ]
    },
    {
     "name": "stdout",
     "output_type": "stream",
     "text": [
      "0 0 2 0\n"
     ]
    }
   ],
   "source": [
    "s=input()\n",
    "alpha=0\n",
    "space=0\n",
    "digit=0\n",
    "other=0\n",
    "for c in s:\n",
    "    if c.isalpha():\n",
    "        alpha+=1\n",
    "    elif c.isspace():\n",
    "        space+=1\n",
    "    elif c.isdigit():\n",
    "        digit+=1\n",
    "    else:\n",
    "        other+=1\n",
    "print (alpha,space,digit,other)"
   ]
  },
  {
   "cell_type": "code",
   "execution_count": 38,
   "metadata": {},
   "outputs": [
    {
     "name": "stdout",
     "output_type": "stream",
     "text": [
      "Person Object name:peter, age22\n"
     ]
    },
    {
     "ename": "ModuleNotFoundError",
     "evalue": "No module named 'person'",
     "output_type": "error",
     "traceback": [
      "\u001b[1;31m---------------------------------------------------------------------------\u001b[0m",
      "\u001b[1;31mModuleNotFoundError\u001b[0m                       Traceback (most recent call last)",
      "\u001b[1;32m<ipython-input-38-7457e61b98a8>\u001b[0m in \u001b[0;36m<module>\u001b[1;34m\u001b[0m\n\u001b[0;32m     11\u001b[0m \u001b[1;33m\u001b[0m\u001b[0m\n\u001b[0;32m     12\u001b[0m \u001b[1;33m\u001b[0m\u001b[0m\n\u001b[1;32m---> 13\u001b[1;33m \u001b[1;32mimport\u001b[0m \u001b[0mperson\u001b[0m\u001b[1;33m\u001b[0m\u001b[1;33m\u001b[0m\u001b[0m\n\u001b[0m\u001b[0;32m     14\u001b[0m \u001b[1;32mimport\u001b[0m \u001b[0mjson\u001b[0m\u001b[1;33m\u001b[0m\u001b[1;33m\u001b[0m\u001b[0m\n\u001b[0;32m     15\u001b[0m \u001b[0mp\u001b[0m\u001b[1;33m=\u001b[0m\u001b[0mperson\u001b[0m\u001b[1;33m.\u001b[0m\u001b[0mPerson\u001b[0m\u001b[1;33m(\u001b[0m\u001b[1;34m'shao'\u001b[0m\u001b[1;33m,\u001b[0m \u001b[1;36m22\u001b[0m\u001b[1;33m)\u001b[0m\u001b[1;33m\u001b[0m\u001b[1;33m\u001b[0m\u001b[0m\n",
      "\u001b[1;31mModuleNotFoundError\u001b[0m: No module named 'person'"
     ]
    }
   ],
   "source": [
    "class Person(object):\n",
    "    def __init__ (self, name, age):\n",
    "        self.name = name\n",
    "        self.age = age\n",
    "    def __repr__(self):\n",
    "        return 'Person Object name:{0}, age{1}'.format(self.name, self.age)\n",
    "if __name__ == '__main__':\n",
    "    p=Person('peter', 22)\n",
    "    print(p)\n",
    "    \n",
    "    \n",
    "    \n",
    "import person\n",
    "import json\n",
    "p=person.Person('shao', 22)\n",
    "def object2dict(obj):\n",
    "    d={}\n",
    "    d['__class__'] = obj.__class__.__name__\n",
    "    d['__module__'] = obj.__module__\n",
    "    d.update(obj.__dict__)\n",
    "    return d\n",
    "def dict2object(d):\n",
    "    if '__class__ ' in d:\n",
    "        class_name = d.pop('__class__')\n",
    "        module_name = d.pop('__module__')\n",
    "        module = __import__ (module_name)\n",
    "        class_ =getattr(module, class_name)\n",
    "        args = dict((key.encode('ascii'), value) for key, value in d.items())\n",
    "        inst = class_(**args)\n",
    "    else:\n",
    "        inst = d\n",
    "    return inst\n",
    "d=object2dict(p)\n",
    "print(d)\n",
    "o=dict2object(d)\n",
    "print(o)"
   ]
  },
  {
   "cell_type": "code",
   "execution_count": 40,
   "metadata": {},
   "outputs": [
    {
     "name": "stdout",
     "output_type": "stream",
     "text": [
      "[1, 1, 2, 3, 5, 8, 13, 21, 34, 55]\n"
     ]
    }
   ],
   "source": [
    "# -*- coding: UTF-8 -*-\n",
    "\n",
    "def fib(n):\n",
    "    if n == 1:\n",
    "        return [1]\n",
    "    if n == 2:\n",
    "        return [1, 1]\n",
    "    fibs = [1, 1]\n",
    "    for i in range(2, n):\n",
    "        fibs.append(fibs[-1] + fibs[-2])\n",
    "    return fibs\n",
    "\n",
    "# 输出前 10 个斐波那契数列\n",
    "print (fib(10))"
   ]
  },
  {
   "cell_type": "code",
   "execution_count": 43,
   "metadata": {},
   "outputs": [
    {
     "name": "stdout",
     "output_type": "stream",
     "text": [
      "           1            1\n",
      "           2            3\n",
      "           5            8\n",
      "\n",
      "          13           21\n",
      "          34           55\n",
      "          89          144\n",
      "\n",
      "         233          377\n",
      "         610          987\n",
      "        1597         2584\n",
      "\n",
      "        4181         6765\n",
      "       10946        17711\n",
      "       28657        46368\n",
      "\n",
      "       75025       121393\n",
      "      196418       317811\n",
      "      514229       832040\n",
      "\n",
      "     1346269      2178309\n",
      "     3524578      5702887\n",
      "     9227465     14930352\n",
      "\n",
      "    24157817     39088169\n",
      "    63245986    102334155\n"
     ]
    }
   ],
   "source": [
    "# -*- coding: UTF-8 -*-\n",
    "\n",
    "f1 = 1\n",
    "f2 = 1\n",
    "for i in range(1,21):\n",
    "    print ('%12ld %12ld' % (f1,f2),)\n",
    "    if (i % 3) == 0:\n",
    "        print ('')\n",
    "    f1 = f1 + f2\n",
    "    f2 = f1 + f2"
   ]
  },
  {
   "cell_type": "code",
   "execution_count": 47,
   "metadata": {},
   "outputs": [
    {
     "ename": "IndentationError",
     "evalue": "expected an indented block (<ipython-input-47-3223daa9b29b>, line 9)",
     "output_type": "error",
     "traceback": [
      "\u001b[1;36m  File \u001b[1;32m\"<ipython-input-47-3223daa9b29b>\"\u001b[1;36m, line \u001b[1;32m9\u001b[0m\n\u001b[1;33m    response = requesst.get(url)\u001b[0m\n\u001b[1;37m    ^\u001b[0m\n\u001b[1;31mIndentationError\u001b[0m\u001b[1;31m:\u001b[0m expected an indented block\n"
     ]
    }
   ],
   "source": [
    "import sys\n",
    "import requests\n",
    "import importlib\n",
    "from lxml import etree\n",
    "\n",
    "importlib.reload(sys)\n",
    "\n",
    "def _requests(url, encoding=\"utf-8\"):\n",
    "response = requesst.get(url)\n",
    "response.encoding = encoding\n",
    "html = response.text\n",
    "return etree.HTML(html)\n",
    "\n",
    "html = _request(‘https://www.csdn.net/’)\n",
    "\n",
    "recommend_title = html.xpath(\"//li[@class=’’]/a/text()\")\n",
    "print(“总共数据：”,len(recommend_title))\n",
    "for title in recommend_title:\n",
    "print(title)"
   ]
  },
  {
   "cell_type": "code",
   "execution_count": 48,
   "metadata": {},
   "outputs": [
    {
     "name": "stdout",
     "output_type": "stream",
     "text": [
      "https://c-ssl.duitang.com/uploads/item/201811/16/20181116185226_uylie.jpg\n",
      "文件保存成功\n"
     ]
    }
   ],
   "source": [
    "import requests as r\n",
    "import os\n",
    "url=\"https://c-ssl.duitang.com/uploads/item/201811/16/20181116185226_uylie.jpg\"\n",
    "kv={'user-agent':'Mozilla/5.0'}\n",
    "path=\"D:/ABC.jpg\"\n",
    "def pc(url):\n",
    "    try:\n",
    "        if not os.path.exists(path): \n",
    "            t=r.get(url,timeout=100,headers=kv)\n",
    "            print(t.request.url)\n",
    "            with open(path,'wb') as f:\n",
    "                f.write(t.content)\n",
    "                f.close()\n",
    "                print(\"文件保存成功\")\n",
    "        else:\n",
    "            print(\"文件已存在\")\n",
    "    except:\n",
    "        return \"产生异常\"\n",
    "pc(url)"
   ]
  },
  {
   "cell_type": "code",
   "execution_count": 49,
   "metadata": {},
   "outputs": [
    {
     "name": "stdout",
     "output_type": "stream",
     "text": [
      "URLError: <urlopen error timed out> All times is failed \n"
     ]
    }
   ],
   "source": [
    "\n",
    "import urllib.request\n",
    "import re\n",
    " \n",
    "def getHtml(url):\n",
    "\tpage = urllib.request.urlopen(url)  ##打开页面\n",
    "\thtml = page.read() ##获取目标页面的源码\n",
    "\treturn html\n",
    " \n",
    "def getImg(html):\n",
    "\treg = 'src=\"(.+?\\.png)\"'  ##正则表达式筛选目标图片格式，有些是'data-original=\"(.+?\\.jpg)\"'\n",
    "\timg = re.compile(reg)\n",
    "\thtml = html.decode('utf-8')  ##编码方式为utf-8\n",
    "\timglist = re.findall(img, html) ##解析页面源码获取图片列表\n",
    "\t#print(imglist)\n",
    "\tx = 0\n",
    "\t#length = len(imglist)\n",
    "\tfor i in range(6):  ##取前6张图片保存\n",
    "\t\timgurl = imglist[i]\n",
    "\t\t#imgurl = re.sub('\"(.*?)\"',r'\\1',imgurl) #取单引号里的双引号内容\n",
    "\t\t#print(imgurl)\n",
    "\t\turllib.request.urlretrieve(imgurl,'%s.jpg' % x) ##将图片从远程下载到本地并保存\n",
    "\t\tx += 1\n",
    " \n",
    "global Max_Num\n",
    "Max_Num = 1\n",
    "##有时候无法打开目标网页，需要尝试多次，这里设置为1次\n",
    "for i in range(Max_Num):\n",
    "\ttry:\n",
    "\t\thtml = getHtml(\"view-source:http://www.shangxueba.com/jingyan/2438398.html\")\n",
    "\t\tgetImg(html)\n",
    "\t\tbreak\n",
    "\texcept:\n",
    "\t\tif i < Max_Num - 1:\n",
    "\t\t\tcontinue\n",
    "\t\telse:\n",
    "\t\t\tprint ('URLError: <urlopen error timed out> All times is failed ')"
   ]
  },
  {
   "cell_type": "code",
   "execution_count": 50,
   "metadata": {},
   "outputs": [
    {
     "name": "stdout",
     "output_type": "stream",
     "text": [
      "<!DOCTYPE html>\n",
      "<!--STATUS OK--><html> <head><meta http-equiv=content-type content=text/html;charset=utf-8><meta http-equiv=X-UA-Compatible content=IE=Edge><meta content=always name=referrer><link rel=stylesheet type=text/css href=http://s1.bdstatic.com/r/www/cache/bdorz/baidu.min.css><title>百度一下，你就知道</title></head> <body link=#0000cc> <div id=wrapper> <div id=head> <div class=head_wrapper> <div class=s_form> <div class=s_form_wrapper> <div id=lg> <img hidefocus=true src=//www.baidu.com/img/bd_logo1.png width=270 height=129> </div> <form id=form name=f action=//www.baidu.com/s class=fm> <input type=hidden name=bdorz_come value=1> <input type=hidden name=ie value=utf-8> <input type=hidden name=f value=8> <input type=hidden name=rsv_bp value=1> <input type=hidden name=rsv_idx value=1> <input type=hidden name=tn value=baidu><span class=\"bg s_ipt_wr\"><input id=kw name=wd class=s_ipt value maxlength=255 autocomplete=off autofocus></span><span class=\"bg s_btn_wr\"><input type=submit id=su value=百度一下 class=\"bg s_btn\"></span> </form> </div> </div> <div id=u1> <a href=http://news.baidu.com name=tj_trnews class=mnav>新闻</a> <a href=http://www.hao123.com name=tj_trhao123 class=mnav>hao123</a> <a href=http://map.baidu.com name=tj_trmap class=mnav>地图</a> <a href=http://v.baidu.com name=tj_trvideo class=mnav>视频</a> <a href=http://tieba.baidu.com name=tj_trtieba class=mnav>贴吧</a> <noscript> <a href=http://www.baidu.com/bdorz/login.gif?login&amp;tpl=mn&amp;u=http%3A%2F%2Fwww.baidu.com%2f%3fbdorz_come%3d1 name=tj_login class=lb>登录</a> </noscript> <script>document.write('<a href=\"http://www.baidu.com/bdorz/login.gif?login&tpl=mn&u='+ encodeURIComponent(window.location.href+ (window.location.search === \"\" ? \"?\" : \"&\")+ \"bdorz_come=1\")+ '\" name=\"tj_login\" class=\"lb\">登录</a>');</script> <a href=//www.baidu.com/more/ name=tj_briicon class=bri style=\"display: block;\">更多产品</a> </div> </div> </div> <div id=ftCon> <div id=ftConw> <p id=lh> <a href=http://home.baidu.com>关于百度</a> <a href=http://ir.baidu.com>About Baidu</a> </p> <p id=cp>&copy;2017&nbsp;Baidu&nbsp;<a href=http://www.baidu.com/duty/>使用百度前必读</a>&nbsp; <a href=http://jianyi.baidu.com/ class=cp-feedback>意见反馈</a>&nbsp;京ICP证030173号&nbsp; <img src=//www.baidu.com/img/gs.gif> </p> </div> </div> </div> </body> </html>\n",
      "\n"
     ]
    }
   ],
   "source": [
    "#web爬虫学习 -- 分析\n",
    "#获取页面信息\n",
    " \n",
    "#输入：url\n",
    "#处理：request库函数获取页面信息，并将网页内容转换成为人能看懂的编码格式\n",
    "#输出：爬取到的内容\n",
    " \n",
    "import requests\n",
    " \n",
    "def getHTMLText(url):\n",
    "    try:\n",
    "        r = requests.get( url, timeout=30 )\n",
    "        r.raise_for_status()    #如果状态码不是200，产生异常\n",
    "        r.encoding = 'utf-8'    #字符编码格式改成 utf-8\n",
    "        return r.text\n",
    "    except:\n",
    "        #异常处理\n",
    "        return \" error \"\n",
    " \n",
    "url = \"http://www.baidu.com\"\n",
    "print( getHTMLText(url) )"
   ]
  },
  {
   "cell_type": "code",
   "execution_count": 53,
   "metadata": {},
   "outputs": [
    {
     "name": "stdout",
     "output_type": "stream",
     "text": [
      " 排名    学校名称    省市     总分      培养规模   \n"
     ]
    },
    {
     "ename": "IndexError",
     "evalue": "list index out of range",
     "output_type": "error",
     "traceback": [
      "\u001b[1;31m---------------------------------------------------------------------------\u001b[0m",
      "\u001b[1;31mIndexError\u001b[0m                                Traceback (most recent call last)",
      "\u001b[1;32m<ipython-input-53-2e68126d6289>\u001b[0m in \u001b[0;36m<module>\u001b[1;34m\u001b[0m\n\u001b[0;32m     32\u001b[0m     \u001b[0mfillUnivList\u001b[0m\u001b[1;33m(\u001b[0m\u001b[0msoup\u001b[0m\u001b[1;33m)\u001b[0m\u001b[1;33m\u001b[0m\u001b[1;33m\u001b[0m\u001b[0m\n\u001b[0;32m     33\u001b[0m     \u001b[0mprintUnivList\u001b[0m\u001b[1;33m(\u001b[0m\u001b[1;36m10\u001b[0m\u001b[1;33m)\u001b[0m\u001b[1;33m\u001b[0m\u001b[1;33m\u001b[0m\u001b[0m\n\u001b[1;32m---> 34\u001b[1;33m \u001b[0mmain\u001b[0m\u001b[1;33m(\u001b[0m\u001b[1;33m)\u001b[0m\u001b[1;33m\u001b[0m\u001b[1;33m\u001b[0m\u001b[0m\n\u001b[0m",
      "\u001b[1;32m<ipython-input-53-2e68126d6289>\u001b[0m in \u001b[0;36mmain\u001b[1;34m()\u001b[0m\n\u001b[0;32m     31\u001b[0m     \u001b[0msoup\u001b[0m \u001b[1;33m=\u001b[0m \u001b[0mBeautifulSoup\u001b[0m\u001b[1;33m(\u001b[0m\u001b[0mhtml\u001b[0m\u001b[1;33m,\u001b[0m \u001b[1;34m\"html.parser\"\u001b[0m\u001b[1;33m)\u001b[0m\u001b[1;33m\u001b[0m\u001b[1;33m\u001b[0m\u001b[0m\n\u001b[0;32m     32\u001b[0m     \u001b[0mfillUnivList\u001b[0m\u001b[1;33m(\u001b[0m\u001b[0msoup\u001b[0m\u001b[1;33m)\u001b[0m\u001b[1;33m\u001b[0m\u001b[1;33m\u001b[0m\u001b[0m\n\u001b[1;32m---> 33\u001b[1;33m     \u001b[0mprintUnivList\u001b[0m\u001b[1;33m(\u001b[0m\u001b[1;36m10\u001b[0m\u001b[1;33m)\u001b[0m\u001b[1;33m\u001b[0m\u001b[1;33m\u001b[0m\u001b[0m\n\u001b[0m\u001b[0;32m     34\u001b[0m \u001b[0mmain\u001b[0m\u001b[1;33m(\u001b[0m\u001b[1;33m)\u001b[0m\u001b[1;33m\u001b[0m\u001b[1;33m\u001b[0m\u001b[0m\n",
      "\u001b[1;32m<ipython-input-53-2e68126d6289>\u001b[0m in \u001b[0;36mprintUnivList\u001b[1;34m(num)\u001b[0m\n\u001b[0;32m     24\u001b[0m     \u001b[0mprint\u001b[0m\u001b[1;33m(\u001b[0m\u001b[1;34m\"{:^4}{:^10}{:^5}{:^8}{:^10}\"\u001b[0m\u001b[1;33m.\u001b[0m\u001b[0mformat\u001b[0m\u001b[1;33m(\u001b[0m\u001b[1;34m\"排名\"\u001b[0m\u001b[1;33m,\u001b[0m\u001b[1;34m\"学校名称\"\u001b[0m\u001b[1;33m,\u001b[0m\u001b[1;34m\"省市\"\u001b[0m\u001b[1;33m,\u001b[0m\u001b[1;34m\"总分\"\u001b[0m\u001b[1;33m,\u001b[0m\u001b[1;34m\"培养规模\"\u001b[0m\u001b[1;33m)\u001b[0m\u001b[1;33m)\u001b[0m\u001b[1;33m\u001b[0m\u001b[1;33m\u001b[0m\u001b[0m\n\u001b[0;32m     25\u001b[0m     \u001b[1;32mfor\u001b[0m \u001b[0mi\u001b[0m \u001b[1;32min\u001b[0m \u001b[0mrange\u001b[0m\u001b[1;33m(\u001b[0m\u001b[0mnum\u001b[0m\u001b[1;33m)\u001b[0m\u001b[1;33m:\u001b[0m\u001b[1;33m\u001b[0m\u001b[1;33m\u001b[0m\u001b[0m\n\u001b[1;32m---> 26\u001b[1;33m         \u001b[0mu\u001b[0m\u001b[1;33m=\u001b[0m\u001b[0mallUniv\u001b[0m\u001b[1;33m[\u001b[0m\u001b[0mi\u001b[0m\u001b[1;33m]\u001b[0m\u001b[1;33m\u001b[0m\u001b[1;33m\u001b[0m\u001b[0m\n\u001b[0m\u001b[0;32m     27\u001b[0m         \u001b[0mprint\u001b[0m\u001b[1;33m(\u001b[0m\u001b[1;34m\"{:^4}{:^10}{:^5}{:^8}{:^10}\"\u001b[0m\u001b[1;33m.\u001b[0m\u001b[0mformat\u001b[0m\u001b[1;33m(\u001b[0m\u001b[0mu\u001b[0m\u001b[1;33m[\u001b[0m\u001b[1;36m0\u001b[0m\u001b[1;33m]\u001b[0m\u001b[1;33m,\u001b[0m\u001b[0mu\u001b[0m\u001b[1;33m[\u001b[0m\u001b[1;36m1\u001b[0m\u001b[1;33m]\u001b[0m\u001b[1;33m,\u001b[0m\u001b[0mu\u001b[0m\u001b[1;33m[\u001b[0m\u001b[1;36m2\u001b[0m\u001b[1;33m]\u001b[0m\u001b[1;33m,\u001b[0m\u001b[0mu\u001b[0m\u001b[1;33m[\u001b[0m\u001b[1;36m3\u001b[0m\u001b[1;33m]\u001b[0m\u001b[1;33m,\u001b[0m\u001b[0mu\u001b[0m\u001b[1;33m[\u001b[0m\u001b[1;36m6\u001b[0m\u001b[1;33m]\u001b[0m\u001b[1;33m)\u001b[0m\u001b[1;33m)\u001b[0m\u001b[1;33m\u001b[0m\u001b[1;33m\u001b[0m\u001b[0m\n\u001b[0;32m     28\u001b[0m \u001b[1;32mdef\u001b[0m \u001b[0mmain\u001b[0m\u001b[1;33m(\u001b[0m\u001b[1;33m)\u001b[0m\u001b[1;33m:\u001b[0m\u001b[1;33m\u001b[0m\u001b[1;33m\u001b[0m\u001b[0m\n",
      "\u001b[1;31mIndexError\u001b[0m: list index out of range"
     ]
    }
   ],
   "source": [
    "#e23.1CrawUnivRanking.py\n",
    "import requests\n",
    "from bs4 import BeautifulSoup\n",
    "allUniv = []\n",
    "def getHTMLText(url):\n",
    "    try:\n",
    "        r = requests.get(url, timeout=30)\n",
    "        r.raise_for_status()\n",
    "        r.encoding = 'utf-8'\n",
    "        return r.text\n",
    "    except:\n",
    "        return \"\"\n",
    "def fillUnivList(soup):\n",
    "    data = soup.find_all('tr')\n",
    "    for tr in data:\n",
    "        ltd = tr.find_all('td')\n",
    "        if len(ltd)==0:\n",
    "            continue\n",
    "        singleUniv = []\n",
    "        for td in ltd:\n",
    "            singleUniv.append(td.string)\n",
    "        allUniv.append(singleUniv)\n",
    "def printUnivList(num):\n",
    "    print(\"{:^4}{:^10}{:^5}{:^8}{:^10}\".format(\"排名\",\"学校名称\",\"省市\",\"总分\",\"培养规模\"))\n",
    "    for i in range(num):\n",
    "        u=allUniv[i]\n",
    "        print(\"{:^4}{:^10}{:^5}{:^8}{:^10}\".format(u[0],u[1],u[2],u[3],u[6]))\n",
    "def main():\n",
    "    url = 'http://www.zuihaodaxue.cn/zuihaodaxuepaiming2016.html'\n",
    "    html = getHTMLText(url)\n",
    "    soup = BeautifulSoup(html, \"html.parser\")\n",
    "    fillUnivList(soup)\n",
    "    printUnivList(10)\n",
    "main()"
   ]
  },
  {
   "cell_type": "code",
   "execution_count": null,
   "metadata": {},
   "outputs": [],
   "source": []
  }
 ],
 "metadata": {
  "kernelspec": {
   "display_name": "Python 3",
   "language": "python",
   "name": "python3"
  },
  "language_info": {
   "codemirror_mode": {
    "name": "ipython",
    "version": 3
   },
   "file_extension": ".py",
   "mimetype": "text/x-python",
   "name": "python",
   "nbconvert_exporter": "python",
   "pygments_lexer": "ipython3",
   "version": "3.8.3"
  }
 },
 "nbformat": 4,
 "nbformat_minor": 4
}
