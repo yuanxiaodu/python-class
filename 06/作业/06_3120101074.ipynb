{
 "cells": [
  {
   "cell_type": "code",
   "execution_count": 8,
   "metadata": {},
   "outputs": [],
   "source": [
    "import requests   #对网页进行请求\n",
    "from bs4 import BeautifulSoup   #网页解析库"
   ]
  },
  {
   "cell_type": "code",
   "execution_count": 9,
   "metadata": {},
   "outputs": [],
   "source": [
    "# 爬取猫眼电影top100的爬虫\n",
    "for i in range(0,100,10):  #0到100以10为步长，range总是考虑后面的数减步长\n",
    "    url = 'http://maoyan.com/board/4?offset={}'.format(i)   #猫眼top100数据所在网页\n",
    "    headers = {'User-Agent':'Mozilla/5.0 (Windows NT 10.0; WOW64) AppleWebKit/537.36 (KHTML, like Gecko) Chrome/55.0.2883.87 Safari/537.36'}   #因为猫眼对爬虫或许有反爬措施，所以这里进行简单的处理，将我们的爬虫伪装成是人访问\n",
    "    response = requests.get(url,headers = headers)     #对网页进行请求并返回值\n",
    "    html = response.text      #将网页内容以html返回\n",
    "    soup = BeautifulSoup(html,'lxml')      #解析网页的一种方法\n",
    "    name = soup.find_all('p',class_=\"name\")    #对电影名字的定位\n",
    "    score = soup.find_all('p',class_=\"score\")   #对电影评分的定位\n",
    "    time = soup.find_all('p',class_=\"releasetime\")  #对电影上映时间的定位\n",
    "    artist = soup.find_all('p',class_=\"star\")       #对主演的定位\n",
    "    dic = {}    #创建一个字典，用来储存\n",
    "    for n in range(len(name)) :         #对于每一部电影进行同样的内容处理\n",
    "        # print(name[n].text)   #实现提取电影名字\n",
    "        # print(artist[n].text.strip()[3:])   #获取主演名字\n",
    "        # print(time[n].text[5:])    #上映时间\n",
    "        # print(score[n].text)   #评分\n",
    "        dic['name'] = name[n].text\n",
    "        dic['star'] = artist[n].text.strip()[3:]\n",
    "        dic['showtime'] = time[n].text[5:]\n",
    "        dic['score'] = score[n].text\n",
    "        print(dic)  #输出字典"
   ]
  },
  {
   "cell_type": "code",
   "execution_count": 11,
   "metadata": {},
   "outputs": [
    {
     "name": "stdout",
     "output_type": "stream",
     "text": [
      "<script>window.location.href='https://passport.jd.com/new/login.aspx?ReturnUrl=http%3A%2F%2Fitem.jd.com%2F6946605.html'</script>\n"
     ]
    }
   ],
   "source": [
    "# 爬取京东商品信息\n",
    "url=\"https://item.jd.com/6946605.html\"\n",
    "try:\n",
    "    r=requests.get(url)\n",
    "    r.raise_for_status()\n",
    "    r.encoding=r.apparent_encoding\n",
    "    print(r.text[:1000])\n",
    "except:\n",
    "    print(\"爬取失败\")"
   ]
  },
  {
   "cell_type": "code",
   "execution_count": 13,
   "metadata": {},
   "outputs": [
    {
     "name": "stdout",
     "output_type": "stream",
     "text": [
      "  ue_sid = (document.cookie.match(/session-id=([0-9-]+)/) || [])[1],\n",
      "        ue_sn = \"opfcaptcha.amazon.cn\",\n",
      "        ue_id = '2K857V34S3BAFT91K97M';\n",
      "}\n",
      "</script>\n",
      "</head>\n",
      "<body>\n",
      "\n",
      "<!--\n",
      "        To discuss automated access to Amazon data please contact api-services-support@amazon.com.\n",
      "        For information about migrating to our APIs refer to our Marketplace APIs at https://developer.amazonservices.com.cn/index.html/ref=rm_c_sv, or our Product Advertising API at https://associates.amazon.cn/gp/advertising/api/detail/main.html/ref=rm_c_ac for advertising use cases.\n",
      "-->\n",
      "\n",
      "<!--\n",
      "Correios.DoNotSend\n",
      "-->\n",
      "\n",
      "<div class=\"a-container a-padding-double-large\" style=\"min-width:350px;padding:44px 0 !important\">\n",
      "\n",
      "    <div class=\"a-row a-spacing-double-large\" style=\"width: 350px; margin: 0 auto\">\n",
      "\n",
      "        <div class=\"a-row a-spacing-medium a-text-center\"><i class=\"a-icon a-logo\"></i></div>\n",
      "\n",
      "        <div class=\"a-box a-alert a-alert-info a-spacing-base\">\n",
      "            <div class=\"a-box-inner\">\n",
      "                \n"
     ]
    }
   ],
   "source": [
    "# 爬取亚马逊商品信息\n",
    "url=\"https://www.amazon.cn/gp/product/B07D51Y714\"\n",
    "try:\n",
    "    kv={'user-agent':'Mozailla/5.0'}\n",
    "    r=requests.get(url,headers=kv)\n",
    "    r.raise_for_status()\n",
    "    r.encoding=r.apparent_encoding\n",
    "    print(r.text[1000:2000])\n",
    "except:\n",
    "    print(\"爬取失败\")"
   ]
  },
  {
   "cell_type": "code",
   "execution_count": 15,
   "metadata": {},
   "outputs": [
    {
     "name": "stdout",
     "output_type": "stream",
     "text": [
      "爬取失败\n"
     ]
    }
   ],
   "source": [
    "#　爬取单张网络图片\n",
    "import requests \n",
    "import os\n",
    "url=\"http://img0.dili360.com/ga/M00/4A/77/wKgBzFsfM-2ADQ9iAC7rBKt1uIE377.tub.jpg\"\n",
    "root=\"E:/pics//\"\n",
    "path=root +url.split('/')[-1]\n",
    "try:\n",
    "    if not os.path.exists(root):\n",
    "        os.mkdir(root)\n",
    "    if not os.path.exists(path):\n",
    "        r=requests.get(url)\n",
    "        with open(path,'wb') as f:\n",
    "            f.write(r.content)\n",
    "            f.close()\n",
    "            print(\"文件保存成功\")\n",
    "    else:\n",
    "        print(\"文件已存在\")\n",
    "except:\n",
    "    print(\"爬取失败\")"
   ]
  },
  {
   "cell_type": "code",
   "execution_count": 17,
   "metadata": {},
   "outputs": [
    {
     "name": "stdout",
     "output_type": "stream",
     "text": [
      "爬取失败\n"
     ]
    }
   ],
   "source": [
    "url=\"http://www.ip138.com/ips138.asp?ip=\"\n",
    "try:\n",
    "    r=urllib.request.get(url+'202.204.80.112')\n",
    "    r.raise_for_status()\n",
    "    r.encoding=r.apparent_encoding\n",
    "    print(r.text[-500:])\n",
    "except:\n",
    "    print(\"爬取失败\")"
   ]
  },
  {
   "cell_type": "code",
   "execution_count": 21,
   "metadata": {},
   "outputs": [
    {
     "name": "stdout",
     "output_type": "stream",
     "text": [
      "x is :\n",
      " [10 20 30 40 50 60 70 80]\n",
      "y is :\n",
      " [174 236 305 334 349 351 342 323]\n",
      "f1 is :\n",
      " [ 3.68686869e-04 -1.28701299e-01  1.10570707e+01  7.26428571e+01]\n",
      "p1 is :\n",
      "            3          2\n",
      "0.0003687 x - 0.1287 x + 11.06 x + 72.64\n",
      "yvals is :\n",
      " [170.71212121 245.25324675 298.47835498 332.5995671  349.82900433\n",
      " 352.37878788 342.46103896 322.28787879]\n"
     ]
    },
    {
     "data": {
      "image/png": "[encoded data removed]",
      "text/plain": [
       "<Figure size 432x288 with 1 Axes>"
      ]
     },
     "metadata": {
      "needs_background": "light"
     },
     "output_type": "display_data"
    }
   ],
   "source": [
    "# 多项式拟合\n",
    "import numpy as np\n",
    "import matplotlib.pyplot as plt\n",
    "#定义x、y散点坐标\n",
    "x = [10,20,30,40,50,60,70,80]\n",
    "x = np.array(x)\n",
    "print('x is :\\n',x)\n",
    "num = [174,236,305,334,349,351,342,323]\n",
    "y = np.array(num)\n",
    "print('y is :\\n',y)\n",
    "#用3次多项式拟合\n",
    "f1 = np.polyfit(x, y, 3)\n",
    "print('f1 is :\\n',f1)\n",
    " \n",
    "p1 = np.poly1d(f1)\n",
    "print('p1 is :\\n',p1)\n",
    " \n",
    "#也可使用yvals=np.polyval(f1, x)\n",
    "yvals = p1(x)  #拟合y值\n",
    "print('yvals is :\\n',yvals)\n",
    "#绘图\n",
    "plot1 = plt.plot(x, y, 's',label='original values')\n",
    "plot2 = plt.plot(x, yvals, 'r',label='polyfit values')\n",
    "plt.xlabel('x')\n",
    "plt.ylabel('y')\n",
    "plt.legend(loc=4) #指定legend的位置右下角\n",
    "plt.title('polyfitting')\n",
    "plt.show()"
   ]
  },
  {
   "cell_type": "code",
   "execution_count": 31,
   "metadata": {},
   "outputs": [
    {
     "name": "stdout",
     "output_type": "stream",
     "text": [
      "x is :\n",
      " [ 40  45  50  55  60  65  70  75  80  85  90  95 100 105 110 115 120 125\n",
      " 130 135]\n",
      "y is :\n",
      " [536 529 522 516 511 506 502 498 494 490 487 484 481 478 475 472 470 467\n",
      " 465 463]\n"
     ]
    },
    {
     "ename": "NameError",
     "evalue": "name 'math' is not defined",
     "output_type": "error",
     "traceback": [
      "\u001b[1;31m---------------------------------------------------------------------------\u001b[0m",
      "\u001b[1;31mNameError\u001b[0m                                 Traceback (most recent call last)",
      "\u001b[1;32m<ipython-input-31-555819fd2ca6>\u001b[0m in \u001b[0;36m<module>\u001b[1;34m\u001b[0m\n\u001b[0;32m     15\u001b[0m \u001b[0my\u001b[0m \u001b[1;33m=\u001b[0m \u001b[0mnp\u001b[0m\u001b[1;33m.\u001b[0m\u001b[0marray\u001b[0m\u001b[1;33m(\u001b[0m\u001b[0mnum\u001b[0m\u001b[1;33m)\u001b[0m\u001b[1;33m\u001b[0m\u001b[1;33m\u001b[0m\u001b[0m\n\u001b[0;32m     16\u001b[0m \u001b[0mprint\u001b[0m\u001b[1;33m(\u001b[0m\u001b[1;34m'y is :\\n'\u001b[0m\u001b[1;33m,\u001b[0m\u001b[0my\u001b[0m\u001b[1;33m)\u001b[0m\u001b[1;33m\u001b[0m\u001b[1;33m\u001b[0m\u001b[0m\n\u001b[1;32m---> 17\u001b[1;33m \u001b[0mpopt\u001b[0m\u001b[1;33m,\u001b[0m \u001b[0mpcov\u001b[0m \u001b[1;33m=\u001b[0m \u001b[0mcurve_fit\u001b[0m\u001b[1;33m(\u001b[0m\u001b[0mfunc\u001b[0m\u001b[1;33m,\u001b[0m \u001b[0mx\u001b[0m\u001b[1;33m,\u001b[0m \u001b[0my\u001b[0m\u001b[1;33m,\u001b[0m\u001b[0mp0\u001b[0m\u001b[1;33m=\u001b[0m\u001b[1;33m[\u001b[0m\u001b[1;36m3.1\u001b[0m\u001b[1;33m,\u001b[0m\u001b[1;36m4.2\u001b[0m\u001b[1;33m,\u001b[0m\u001b[1;36m3.3\u001b[0m\u001b[1;33m]\u001b[0m\u001b[1;33m)\u001b[0m\u001b[1;33m\u001b[0m\u001b[1;33m\u001b[0m\u001b[0m\n\u001b[0m\u001b[0;32m     18\u001b[0m \u001b[1;31m#获取popt里面是拟合系数\u001b[0m\u001b[1;33m\u001b[0m\u001b[1;33m\u001b[0m\u001b[1;33m\u001b[0m\u001b[0m\n\u001b[0;32m     19\u001b[0m \u001b[0ma\u001b[0m \u001b[1;33m=\u001b[0m \u001b[0mpopt\u001b[0m\u001b[1;33m[\u001b[0m\u001b[1;36m0\u001b[0m\u001b[1;33m]\u001b[0m\u001b[1;33m\u001b[0m\u001b[1;33m\u001b[0m\u001b[0m\n",
      "\u001b[1;32mD:\\anaconda\\lib\\site-packages\\scipy\\optimize\\minpack.py\u001b[0m in \u001b[0;36mcurve_fit\u001b[1;34m(f, xdata, ydata, p0, sigma, absolute_sigma, check_finite, bounds, method, jac, **kwargs)\u001b[0m\n\u001b[0;32m    782\u001b[0m         \u001b[1;31m# Remove full_output from kwargs, otherwise we're passing it in twice.\u001b[0m\u001b[1;33m\u001b[0m\u001b[1;33m\u001b[0m\u001b[1;33m\u001b[0m\u001b[0m\n\u001b[0;32m    783\u001b[0m         \u001b[0mreturn_full\u001b[0m \u001b[1;33m=\u001b[0m \u001b[0mkwargs\u001b[0m\u001b[1;33m.\u001b[0m\u001b[0mpop\u001b[0m\u001b[1;33m(\u001b[0m\u001b[1;34m'full_output'\u001b[0m\u001b[1;33m,\u001b[0m \u001b[1;32mFalse\u001b[0m\u001b[1;33m)\u001b[0m\u001b[1;33m\u001b[0m\u001b[1;33m\u001b[0m\u001b[0m\n\u001b[1;32m--> 784\u001b[1;33m         \u001b[0mres\u001b[0m \u001b[1;33m=\u001b[0m \u001b[0mleastsq\u001b[0m\u001b[1;33m(\u001b[0m\u001b[0mfunc\u001b[0m\u001b[1;33m,\u001b[0m \u001b[0mp0\u001b[0m\u001b[1;33m,\u001b[0m \u001b[0mDfun\u001b[0m\u001b[1;33m=\u001b[0m\u001b[0mjac\u001b[0m\u001b[1;33m,\u001b[0m \u001b[0mfull_output\u001b[0m\u001b[1;33m=\u001b[0m\u001b[1;36m1\u001b[0m\u001b[1;33m,\u001b[0m \u001b[1;33m**\u001b[0m\u001b[0mkwargs\u001b[0m\u001b[1;33m)\u001b[0m\u001b[1;33m\u001b[0m\u001b[1;33m\u001b[0m\u001b[0m\n\u001b[0m\u001b[0;32m    785\u001b[0m         \u001b[0mpopt\u001b[0m\u001b[1;33m,\u001b[0m \u001b[0mpcov\u001b[0m\u001b[1;33m,\u001b[0m \u001b[0minfodict\u001b[0m\u001b[1;33m,\u001b[0m \u001b[0merrmsg\u001b[0m\u001b[1;33m,\u001b[0m \u001b[0mier\u001b[0m \u001b[1;33m=\u001b[0m \u001b[0mres\u001b[0m\u001b[1;33m\u001b[0m\u001b[1;33m\u001b[0m\u001b[0m\n\u001b[0;32m    786\u001b[0m         \u001b[0mysize\u001b[0m \u001b[1;33m=\u001b[0m \u001b[0mlen\u001b[0m\u001b[1;33m(\u001b[0m\u001b[0minfodict\u001b[0m\u001b[1;33m[\u001b[0m\u001b[1;34m'fvec'\u001b[0m\u001b[1;33m]\u001b[0m\u001b[1;33m)\u001b[0m\u001b[1;33m\u001b[0m\u001b[1;33m\u001b[0m\u001b[0m\n",
      "\u001b[1;32mD:\\anaconda\\lib\\site-packages\\scipy\\optimize\\minpack.py\u001b[0m in \u001b[0;36mleastsq\u001b[1;34m(func, x0, args, Dfun, full_output, col_deriv, ftol, xtol, gtol, maxfev, epsfcn, factor, diag)\u001b[0m\n\u001b[0;32m    408\u001b[0m     \u001b[1;32mif\u001b[0m \u001b[1;32mnot\u001b[0m \u001b[0misinstance\u001b[0m\u001b[1;33m(\u001b[0m\u001b[0margs\u001b[0m\u001b[1;33m,\u001b[0m \u001b[0mtuple\u001b[0m\u001b[1;33m)\u001b[0m\u001b[1;33m:\u001b[0m\u001b[1;33m\u001b[0m\u001b[1;33m\u001b[0m\u001b[0m\n\u001b[0;32m    409\u001b[0m         \u001b[0margs\u001b[0m \u001b[1;33m=\u001b[0m \u001b[1;33m(\u001b[0m\u001b[0margs\u001b[0m\u001b[1;33m,\u001b[0m\u001b[1;33m)\u001b[0m\u001b[1;33m\u001b[0m\u001b[1;33m\u001b[0m\u001b[0m\n\u001b[1;32m--> 410\u001b[1;33m     \u001b[0mshape\u001b[0m\u001b[1;33m,\u001b[0m \u001b[0mdtype\u001b[0m \u001b[1;33m=\u001b[0m \u001b[0m_check_func\u001b[0m\u001b[1;33m(\u001b[0m\u001b[1;34m'leastsq'\u001b[0m\u001b[1;33m,\u001b[0m \u001b[1;34m'func'\u001b[0m\u001b[1;33m,\u001b[0m \u001b[0mfunc\u001b[0m\u001b[1;33m,\u001b[0m \u001b[0mx0\u001b[0m\u001b[1;33m,\u001b[0m \u001b[0margs\u001b[0m\u001b[1;33m,\u001b[0m \u001b[0mn\u001b[0m\u001b[1;33m)\u001b[0m\u001b[1;33m\u001b[0m\u001b[1;33m\u001b[0m\u001b[0m\n\u001b[0m\u001b[0;32m    411\u001b[0m     \u001b[0mm\u001b[0m \u001b[1;33m=\u001b[0m \u001b[0mshape\u001b[0m\u001b[1;33m[\u001b[0m\u001b[1;36m0\u001b[0m\u001b[1;33m]\u001b[0m\u001b[1;33m\u001b[0m\u001b[1;33m\u001b[0m\u001b[0m\n\u001b[0;32m    412\u001b[0m \u001b[1;33m\u001b[0m\u001b[0m\n",
      "\u001b[1;32mD:\\anaconda\\lib\\site-packages\\scipy\\optimize\\minpack.py\u001b[0m in \u001b[0;36m_check_func\u001b[1;34m(checker, argname, thefunc, x0, args, numinputs, output_shape)\u001b[0m\n\u001b[0;32m     22\u001b[0m def _check_func(checker, argname, thefunc, x0, args, numinputs,\n\u001b[0;32m     23\u001b[0m                 output_shape=None):\n\u001b[1;32m---> 24\u001b[1;33m     \u001b[0mres\u001b[0m \u001b[1;33m=\u001b[0m \u001b[0matleast_1d\u001b[0m\u001b[1;33m(\u001b[0m\u001b[0mthefunc\u001b[0m\u001b[1;33m(\u001b[0m\u001b[1;33m*\u001b[0m\u001b[1;33m(\u001b[0m\u001b[1;33m(\u001b[0m\u001b[0mx0\u001b[0m\u001b[1;33m[\u001b[0m\u001b[1;33m:\u001b[0m\u001b[0mnuminputs\u001b[0m\u001b[1;33m]\u001b[0m\u001b[1;33m,\u001b[0m\u001b[1;33m)\u001b[0m \u001b[1;33m+\u001b[0m \u001b[0margs\u001b[0m\u001b[1;33m)\u001b[0m\u001b[1;33m)\u001b[0m\u001b[1;33m)\u001b[0m\u001b[1;33m\u001b[0m\u001b[1;33m\u001b[0m\u001b[0m\n\u001b[0m\u001b[0;32m     25\u001b[0m     \u001b[1;32mif\u001b[0m \u001b[1;33m(\u001b[0m\u001b[0moutput_shape\u001b[0m \u001b[1;32mis\u001b[0m \u001b[1;32mnot\u001b[0m \u001b[1;32mNone\u001b[0m\u001b[1;33m)\u001b[0m \u001b[1;32mand\u001b[0m \u001b[1;33m(\u001b[0m\u001b[0mshape\u001b[0m\u001b[1;33m(\u001b[0m\u001b[0mres\u001b[0m\u001b[1;33m)\u001b[0m \u001b[1;33m!=\u001b[0m \u001b[0moutput_shape\u001b[0m\u001b[1;33m)\u001b[0m\u001b[1;33m:\u001b[0m\u001b[1;33m\u001b[0m\u001b[1;33m\u001b[0m\u001b[0m\n\u001b[0;32m     26\u001b[0m         \u001b[1;32mif\u001b[0m \u001b[1;33m(\u001b[0m\u001b[0moutput_shape\u001b[0m\u001b[1;33m[\u001b[0m\u001b[1;36m0\u001b[0m\u001b[1;33m]\u001b[0m \u001b[1;33m!=\u001b[0m \u001b[1;36m1\u001b[0m\u001b[1;33m)\u001b[0m\u001b[1;33m:\u001b[0m\u001b[1;33m\u001b[0m\u001b[1;33m\u001b[0m\u001b[0m\n",
      "\u001b[1;32mD:\\anaconda\\lib\\site-packages\\scipy\\optimize\\minpack.py\u001b[0m in \u001b[0;36mfunc_wrapped\u001b[1;34m(params)\u001b[0m\n\u001b[0;32m    482\u001b[0m     \u001b[1;32mif\u001b[0m \u001b[0mtransform\u001b[0m \u001b[1;32mis\u001b[0m \u001b[1;32mNone\u001b[0m\u001b[1;33m:\u001b[0m\u001b[1;33m\u001b[0m\u001b[1;33m\u001b[0m\u001b[0m\n\u001b[0;32m    483\u001b[0m         \u001b[1;32mdef\u001b[0m \u001b[0mfunc_wrapped\u001b[0m\u001b[1;33m(\u001b[0m\u001b[0mparams\u001b[0m\u001b[1;33m)\u001b[0m\u001b[1;33m:\u001b[0m\u001b[1;33m\u001b[0m\u001b[1;33m\u001b[0m\u001b[0m\n\u001b[1;32m--> 484\u001b[1;33m             \u001b[1;32mreturn\u001b[0m \u001b[0mfunc\u001b[0m\u001b[1;33m(\u001b[0m\u001b[0mxdata\u001b[0m\u001b[1;33m,\u001b[0m \u001b[1;33m*\u001b[0m\u001b[0mparams\u001b[0m\u001b[1;33m)\u001b[0m \u001b[1;33m-\u001b[0m \u001b[0mydata\u001b[0m\u001b[1;33m\u001b[0m\u001b[1;33m\u001b[0m\u001b[0m\n\u001b[0m\u001b[0;32m    485\u001b[0m     \u001b[1;32melif\u001b[0m \u001b[0mtransform\u001b[0m\u001b[1;33m.\u001b[0m\u001b[0mndim\u001b[0m \u001b[1;33m==\u001b[0m \u001b[1;36m1\u001b[0m\u001b[1;33m:\u001b[0m\u001b[1;33m\u001b[0m\u001b[1;33m\u001b[0m\u001b[0m\n\u001b[0;32m    486\u001b[0m         \u001b[1;32mdef\u001b[0m \u001b[0mfunc_wrapped\u001b[0m\u001b[1;33m(\u001b[0m\u001b[0mparams\u001b[0m\u001b[1;33m)\u001b[0m\u001b[1;33m:\u001b[0m\u001b[1;33m\u001b[0m\u001b[1;33m\u001b[0m\u001b[0m\n",
      "\u001b[1;32m<ipython-input-31-555819fd2ca6>\u001b[0m in \u001b[0;36mfunc\u001b[1;34m(x, a, u, sig)\u001b[0m\n\u001b[0;32m      6\u001b[0m \u001b[1;31m#自定义函数 e指数形式\u001b[0m\u001b[1;33m\u001b[0m\u001b[1;33m\u001b[0m\u001b[1;33m\u001b[0m\u001b[0m\n\u001b[0;32m      7\u001b[0m \u001b[1;32mdef\u001b[0m \u001b[0mfunc\u001b[0m\u001b[1;33m(\u001b[0m\u001b[0mx\u001b[0m\u001b[1;33m,\u001b[0m \u001b[0ma\u001b[0m\u001b[1;33m,\u001b[0m\u001b[0mu\u001b[0m\u001b[1;33m,\u001b[0m \u001b[0msig\u001b[0m\u001b[1;33m)\u001b[0m\u001b[1;33m:\u001b[0m\u001b[1;33m\u001b[0m\u001b[1;33m\u001b[0m\u001b[0m\n\u001b[1;32m----> 8\u001b[1;33m     \u001b[1;32mreturn\u001b[0m  \u001b[0ma\u001b[0m\u001b[1;33m*\u001b[0m\u001b[1;33m(\u001b[0m\u001b[0mnp\u001b[0m\u001b[1;33m.\u001b[0m\u001b[0mexp\u001b[0m\u001b[1;33m(\u001b[0m\u001b[1;33m-\u001b[0m\u001b[1;33m(\u001b[0m\u001b[0mx\u001b[0m \u001b[1;33m-\u001b[0m \u001b[0mu\u001b[0m\u001b[1;33m)\u001b[0m \u001b[1;33m**\u001b[0m \u001b[1;36m2\u001b[0m \u001b[1;33m/\u001b[0m\u001b[1;33m(\u001b[0m\u001b[1;36m2\u001b[0m\u001b[1;33m*\u001b[0m \u001b[0msig\u001b[0m \u001b[1;33m**\u001b[0m\u001b[1;36m2\u001b[0m\u001b[1;33m)\u001b[0m\u001b[1;33m)\u001b[0m\u001b[1;33m/\u001b[0m\u001b[1;33m(\u001b[0m\u001b[0mmath\u001b[0m\u001b[1;33m.\u001b[0m\u001b[0msqrt\u001b[0m\u001b[1;33m(\u001b[0m\u001b[1;36m2\u001b[0m\u001b[1;33m*\u001b[0m\u001b[0mmath\u001b[0m\u001b[1;33m.\u001b[0m\u001b[0mpi\u001b[0m\u001b[1;33m)\u001b[0m\u001b[1;33m*\u001b[0m\u001b[0msig\u001b[0m\u001b[1;33m)\u001b[0m\u001b[1;33m)\u001b[0m\u001b[1;33m*\u001b[0m\u001b[1;33m(\u001b[0m\u001b[1;36m431\u001b[0m\u001b[1;33m+\u001b[0m\u001b[1;33m(\u001b[0m\u001b[1;36m4750\u001b[0m\u001b[1;33m/\u001b[0m\u001b[0mx\u001b[0m\u001b[1;33m)\u001b[0m\u001b[1;33m)\u001b[0m\u001b[1;33m\u001b[0m\u001b[1;33m\u001b[0m\u001b[0m\n\u001b[0m\u001b[0;32m      9\u001b[0m \u001b[1;31m#定义x、y散点坐标\u001b[0m\u001b[1;33m\u001b[0m\u001b[1;33m\u001b[0m\u001b[1;33m\u001b[0m\u001b[0m\n\u001b[0;32m     10\u001b[0m \u001b[0mx\u001b[0m \u001b[1;33m=\u001b[0m \u001b[1;33m[\u001b[0m\u001b[1;36m40\u001b[0m\u001b[1;33m,\u001b[0m\u001b[1;36m45\u001b[0m\u001b[1;33m,\u001b[0m\u001b[1;36m50\u001b[0m\u001b[1;33m,\u001b[0m\u001b[1;36m55\u001b[0m\u001b[1;33m,\u001b[0m\u001b[1;36m60\u001b[0m\u001b[1;33m,\u001b[0m\u001b[1;36m65\u001b[0m\u001b[1;33m,\u001b[0m\u001b[1;36m70\u001b[0m\u001b[1;33m,\u001b[0m\u001b[1;36m75\u001b[0m\u001b[1;33m,\u001b[0m\u001b[1;36m80\u001b[0m\u001b[1;33m,\u001b[0m\u001b[1;36m85\u001b[0m\u001b[1;33m,\u001b[0m\u001b[1;36m90\u001b[0m\u001b[1;33m,\u001b[0m\u001b[1;36m95\u001b[0m\u001b[1;33m,\u001b[0m\u001b[1;36m100\u001b[0m\u001b[1;33m,\u001b[0m\u001b[1;36m105\u001b[0m\u001b[1;33m,\u001b[0m\u001b[1;36m110\u001b[0m\u001b[1;33m,\u001b[0m\u001b[1;36m115\u001b[0m\u001b[1;33m,\u001b[0m\u001b[1;36m120\u001b[0m\u001b[1;33m,\u001b[0m\u001b[1;36m125\u001b[0m\u001b[1;33m,\u001b[0m\u001b[1;36m130\u001b[0m\u001b[1;33m,\u001b[0m\u001b[1;36m135\u001b[0m\u001b[1;33m]\u001b[0m\u001b[1;33m\u001b[0m\u001b[1;33m\u001b[0m\u001b[0m\n",
      "\u001b[1;31mNameError\u001b[0m: name 'math' is not defined"
     ]
    }
   ],
   "source": [
    "#encoding=utf-8  \n",
    "import numpy as np\n",
    "import matplotlib.pyplot as plt\n",
    "from scipy.optimize import curve_fit\n",
    "import pandas as pd\n",
    "#自定义函数 e指数形式\n",
    "def func(x, a,u, sig):\n",
    "    return  a*(np.exp(-(x - u) ** 2 /(2* sig **2))/(math.sqrt(2*math.pi)*sig))*(431+(4750/x))\n",
    "#定义x、y散点坐标\n",
    "x = [40,45,50,55,60,65,70,75,80,85,90,95,100,105,110,115,120,125,130,135]\n",
    "x=np.array(x)\n",
    "# x = np.array(range(20))\n",
    "print('x is :\\n',x)\n",
    "num = [536,529,522,516,511,506,502,498,494,490,487,484,481,478,475,472,470,467,465,463]\n",
    "y = np.array(num)\n",
    "print('y is :\\n',y)\n",
    "popt, pcov = curve_fit(func, x, y,p0=[3.1,4.2,3.3])\n",
    "#获取popt里面是拟合系数\n",
    "a = popt[0]\n",
    "u = popt[1]\n",
    "sig = popt[2]\n",
    "yvals = func(x,a,u,sig) #拟合y值\n",
    "print(u'系数a:', a)\n",
    "print(u'系数u:', u)\n",
    "print(u'系数sig:', sig)\n",
    "#绘图\n",
    "plot1 = plt.plot(x, y, 's',label='original values')\n",
    "plot2 = plt.plot(x, yvals, 'r',label='polyfit values')\n",
    "plt.xlabel('x')\n",
    "plt.ylabel('y')\n",
    "plt.legend(loc=4) #指定legend的位置右下角\n",
    "plt.title('curve_fit')\n",
    "plt.show()"
   ]
  },
  {
   "cell_type": "code",
   "execution_count": 28,
   "metadata": {},
   "outputs": [
    {
     "ename": "NameError",
     "evalue": "name 're' is not defined",
     "output_type": "error",
     "traceback": [
      "\u001b[1;31m---------------------------------------------------------------------------\u001b[0m",
      "\u001b[1;31mNameError\u001b[0m                                 Traceback (most recent call last)",
      "\u001b[1;32m<ipython-input-28-77b89d6d55bd>\u001b[0m in \u001b[0;36m<module>\u001b[1;34m\u001b[0m\n\u001b[0;32m      1\u001b[0m \u001b[0mstr3\u001b[0m\u001b[1;33m=\u001b[0m\u001b[1;34m\"sunck is a good man!sunck is a nice man!sunck is a handsome man\"\u001b[0m\u001b[1;33m\u001b[0m\u001b[1;33m\u001b[0m\u001b[0m\n\u001b[1;32m----> 2\u001b[1;33m \u001b[0md\u001b[0m\u001b[1;33m=\u001b[0m\u001b[0mre\u001b[0m\u001b[1;33m.\u001b[0m\u001b[0mfinditer\u001b[0m\u001b[1;33m(\u001b[0m\u001b[1;34mr\"(sunck)\"\u001b[0m\u001b[1;33m,\u001b[0m\u001b[0mstr3\u001b[0m\u001b[1;33m)\u001b[0m\u001b[1;33m\u001b[0m\u001b[1;33m\u001b[0m\u001b[0m\n\u001b[0m\u001b[0;32m      3\u001b[0m \u001b[1;32mwhile\u001b[0m \u001b[1;32mTrue\u001b[0m\u001b[1;33m:\u001b[0m\u001b[1;33m\u001b[0m\u001b[1;33m\u001b[0m\u001b[0m\n\u001b[0;32m      4\u001b[0m     \u001b[1;32mtry\u001b[0m\u001b[1;33m:\u001b[0m\u001b[1;33m\u001b[0m\u001b[1;33m\u001b[0m\u001b[0m\n\u001b[0;32m      5\u001b[0m         \u001b[0mi\u001b[0m\u001b[1;33m=\u001b[0m\u001b[0mnext\u001b[0m\u001b[1;33m(\u001b[0m\u001b[0md\u001b[0m\u001b[1;33m)\u001b[0m\u001b[1;33m\u001b[0m\u001b[1;33m\u001b[0m\u001b[0m\n",
      "\u001b[1;31mNameError\u001b[0m: name 're' is not defined"
     ]
    }
   ],
   "source": [
    "str3=\"sunck is a good man!sunck is a nice man!sunck is a handsome man\"\n",
    "d=re.finditer(r\"(sunck)\",str3)\n",
    "while True:\n",
    "    try:\n",
    "        i=next(d)\n",
    "        print(d)\n",
    "    except StopIteration as e:\n",
    "        break"
   ]
  },
  {
   "cell_type": "code",
   "execution_count": 33,
   "metadata": {},
   "outputs": [
    {
     "name": "stdout",
     "output_type": "stream",
     "text": [
      "[8, 42, 12]\n",
      "[3, 5, 37]\n"
     ]
    }
   ],
   "source": [
    "numbers = [12, 37, 5, 42, 8, 3]\n",
    "even = []\n",
    "odd = []\n",
    "while len(numbers) > 0 :\n",
    "    number = numbers.pop()\n",
    "    if(number % 2 == 0):\n",
    "        even.append(number)\n",
    "    else:\n",
    "        odd.append(number)\n",
    "print(even)\n",
    "print(odd)"
   ]
  },
  {
   "cell_type": "code",
   "execution_count": 34,
   "metadata": {},
   "outputs": [
    {
     "name": "stdout",
     "output_type": "stream",
     "text": [
      "请输入半径r:55\n",
      "半径为55.00的圆的面积为9498.50\n"
     ]
    }
   ],
   "source": [
    "def area(r):\n",
    "    PI=3.14\n",
    "    return PI*r*r\n",
    "r=float(input(\"请输入半径r:\"))\n",
    "print(\"半径为%.2f的圆的面积为%.2f\"%(r,area(r)))"
   ]
  },
  {
   "cell_type": "code",
   "execution_count": 37,
   "metadata": {},
   "outputs": [
    {
     "name": "stdout",
     "output_type": "stream",
     "text": [
      "请输入x的值:55\n",
      "请输入y的值:33\n",
      "交换后x的值为33\n",
      "交换后y的值为55\n"
     ]
    }
   ],
   "source": [
    "x=int(input(\"请输入x的值:\"))\n",
    "y=int(input(\"请输入y的值:\"))\n",
    "t=x\n",
    "x=y\n",
    "y=t\n",
    "print(\"交换后x的值为%d\"%x)\n",
    "print(\"交换后y的值为%d\"%y)"
   ]
  },
  {
   "cell_type": "code",
   "execution_count": 40,
   "metadata": {},
   "outputs": [
    {
     "name": "stdout",
     "output_type": "stream",
     "text": [
      "     con: array([1.80711801e-09])\n",
      "     fun: -14.571428565645089\n",
      " message: 'Optimization terminated successfully.'\n",
      "     nit: 5\n",
      "   slack: array([-2.24563479e-10,  3.85714286e+00])\n",
      "  status: 0\n",
      " success: True\n",
      "       x: array([6.42857143e+00, 5.71428571e-01, 2.35900788e-10])\n"
     ]
    }
   ],
   "source": [
    "# 线性规划\n",
    "import numpy as np\n",
    "from scipy import optimize\n",
    "c = [-2, -3, 5]\n",
    "a = [[-2, 5, -1], [1, 3, 1]]\n",
    "b = [-10, 12]\n",
    "aeq = [[1, 1, 1]]\n",
    "beq = [7]\n",
    "bounds = [[0, None], [0, None], [0, None]]\t# (0, None) means non-negative, this is a default value\n",
    "result = optimize.linprog(c, a, b, aeq, beq, bounds)\n",
    "print(result)"
   ]
  },
  {
   "cell_type": "code",
   "execution_count": 44,
   "metadata": {},
   "outputs": [
    {
     "name": "stdout",
     "output_type": "stream",
     "text": [
      "49.4909028\n"
     ]
    }
   ],
   "source": [
    "# 整数规划\n",
    "import random\n",
    "x = [random.random() * 12 for i in range(0, 10000000)]\n",
    "y = [random.random() * 9 for i in range(0, 10000000)]\n",
    "p = 0\n",
    "for i in range(0, 10000000):\n",
    "    if x[i] <= 3 and y[i] < x[i] ** 2:\n",
    "            p += 1\n",
    "    elif x[i] > 3 and y[i] < 12 - x[i]:\n",
    "            p += 1\n",
    "area_appr = 12 * 9 * p / 10 ** 7\n",
    "print(area_appr)"
   ]
  },
  {
   "cell_type": "code",
   "execution_count": 45,
   "metadata": {},
   "outputs": [
    {
     "name": "stdout",
     "output_type": "stream",
     "text": [
      "[28, 99, 1, 99, 14] 49632\n"
     ]
    }
   ],
   "source": [
    "import time\n",
    "import random\n",
    "# 目标函数\n",
    "def f(x: list) -> int:\n",
    "    return x[0] ** 2 + x[1] ** 2 + 3 * x[2] ** 2 + 4 * x[3] ** 2 + 2 * x[4] ** 2 - 8 * x[0] - 2 * x[1] - 3 * x[2] - x[3] -2 * x[4]\n",
    "# 约束向量函数\n",
    "def g(x: list) -> list:\n",
    "    res = []\n",
    "    res.append(sum(x) - 400)\n",
    "    res.append(x[0] + 2 * x[1] + 2 * x[2] + x[3] + 6 * x[4] - 800)\n",
    "    res.append(2 * x[0] + x[1] + 6 * x[2] - 200)\n",
    "    res.append(x[2] + x[3] + 5 * x[4] - 200)\n",
    "    return res\n",
    "random.seed(time.time)\n",
    "pb = 0\n",
    "xb = []\n",
    "for i in range(10 ** 6):\n",
    "    x = [random.randint(0, 99) for i in range(5)]\t\t# 产生一行五列的区间[0, 99] 上的随机整数\n",
    "    rf = f(x)\n",
    "    rg = g(x)\n",
    "    if all((a < 0 for a in rg)):\t\t# 若 rg 中所有元素都小于 0\n",
    "        if pb < rf:\n",
    "            xb = x\n",
    "            pb = rf           \n",
    "print(xb, pb)"
   ]
  },
  {
   "cell_type": "code",
   "execution_count": 46,
   "metadata": {},
   "outputs": [
    {
     "name": "stdout",
     "output_type": "stream",
     "text": [
      "     fun: 10.651091840572583\n",
      "     jac: array([1.10433471, 2.40651834, 1.89564812])\n",
      " message: 'Optimization terminated successfully'\n",
      "    nfev: 71\n",
      "     nit: 15\n",
      "    njev: 15\n",
      "  status: 0\n",
      " success: True\n",
      "       x: array([0.55216734, 1.20325918, 0.94782404])\n"
     ]
    }
   ],
   "source": [
    "# 非线性规划\n",
    "import numpy as np\n",
    "from scipy import optimize\n",
    "f = lambda x: x[0] ** 2 + x[1] **2 + x[2] ** 2 + 8\n",
    "# Notice：eq ==; ineq >=\n",
    "cons = ({'type': 'ineq', 'fun': lambda x: x[0]**2 - x[1] + x[2]**2},\n",
    "        {'type': 'ineq', 'fun': lambda x: -x[0] - x[1] - x[2]**3 + 20},\n",
    "        {'type': 'eq', 'fun': lambda x: -x[0] - x[1]**2 + 2},\n",
    "        {'type': 'eq', 'fun': lambda x: x[1] + 2 * x[2]**2 - 3})\n",
    "\n",
    "res = optimize.minimize(f, (0, 0, 0), constraints=cons)\n",
    "print(res)"
   ]
  },
  {
   "cell_type": "code",
   "execution_count": 47,
   "metadata": {},
   "outputs": [
    {
     "name": "stdout",
     "output_type": "stream",
     "text": [
      "点(-3, 0)不是极值点\n",
      "点(-3, 2)是极大值点，对应的极大值为: f(-3, 2) = 31\n",
      "点(1, 0)是极小值点，对应的极小值为: f(1, 0) = -5\n",
      "点(1, 2)不是极值点\n"
     ]
    }
   ],
   "source": [
    "import sympy\n",
    "f, x, y = sympy.symbols(\"f x y\")\n",
    "f = x**3 - y**3 + 3 * x**2 + 3 * y**2 - 9 * x\n",
    "funs = sympy.Matrix([f])\n",
    "args = sympy.Matrix([x, y])\n",
    "df = funs.jacobian(args)        # 一阶偏导\n",
    "d2f = df.jacobian(args)         # Hessian 矩阵\n",
    "stationaryPoints = sympy.solve(df)      # 驻点\n",
    "for i in stationaryPoints:\n",
    "    a = d2f.subs(x, i[x]).subs(y, i[y])\t# 驻点处的Hessian\n",
    "    b = a.eigenvals(multiple=True)      # 求Hessian矩阵的特征值\n",
    "    fv = f.subs(x, i[x]).subs(y, i[y])\t# 驻点处的函数值\n",
    "    \n",
    "    if all((j > 0 for j in b)):\n",
    "        print('点({x}, {y})是极小值点，对应的极小值为: f({x}, {y}) = {f}'.format(x=i[x], y=i[y], f=fv))\n",
    "    elif all((j < 0 for j in b)):\n",
    "        print('点({x}, {y})是极大值点，对应的极大值为: f({x}, {y}) = {f}'.format(x=i[x], y=i[y], f=fv))\n",
    "    elif any((j < 0 for j in b)) and any((j > 0 for j in b)):\n",
    "        print('点({x}, {y})不是极值点'.format(x=i[x], y=i[y]))\n",
    "    else:\n",
    "        print('无法判断点({x}, {y})是否为极值点'.format(x=i[x], y=i[y]))"
   ]
  },
  {
   "cell_type": "code",
   "execution_count": 49,
   "metadata": {},
   "outputs": [
    {
     "name": "stdout",
     "output_type": "stream",
     "text": [
      "最小值：\n",
      "\n",
      "      fun: -5.0\n",
      " hess_inv: array([[8.34028325e-02, 3.27721596e-09],\n",
      "       [3.27721596e-09, 1.00000000e+00]])\n",
      "      jac: array([1.1920929e-07, 0.0000000e+00])\n",
      "  message: 'Optimization terminated successfully.'\n",
      "     nfev: 15\n",
      "      nit: 4\n",
      "     njev: 5\n",
      "   status: 0\n",
      "  success: True\n",
      "        x: array([ 1.00000000e+00, -5.40966234e-09])\n",
      "最大值：\n",
      "\n",
      "      fun: -30.999999999999915\n",
      " hess_inv: array([[0.0839028 , 0.00023508],\n",
      "       [0.00023508, 0.16671226]])\n",
      "      jac: array([-1.43051147e-06,  0.00000000e+00])\n",
      "  message: 'Optimization terminated successfully.'\n",
      "     nfev: 132\n",
      "      nit: 13\n",
      "     njev: 44\n",
      "   status: 0\n",
      "  success: True\n",
      "        x: array([-3.00000012,  1.99999999])\n"
     ]
    }
   ],
   "source": [
    "# 数值解\n",
    "import numpy as np\n",
    "from scipy import optimize\n",
    "f = lambda x: x[0]**3 - x[1]**3 + 3 * x[0]**2 + 3 * x[1]**2 - 9 * x[0]\n",
    "resMin = optimize.minimize(f, (0, 0))\t\t# 求最小值\n",
    "resMax = optimize.minimize(lambda x: -f(x), (0, 0))\t\t# 求最大值\n",
    "print(\"最小值：\\n\")\n",
    "print(resMin)\n",
    "print(\"最大值：\\n\")\n",
    "print(resMax)"
   ]
  },
  {
   "cell_type": "code",
   "execution_count": 51,
   "metadata": {},
   "outputs": [
    {
     "data": {
      "image/png": "[encoded data removed]",
      "text/plain": [
       "<Figure size 432x288 with 1 Axes>"
      ]
     },
     "metadata": {
      "needs_background": "light"
     },
     "output_type": "display_data"
    },
    {
     "data": {
      "image/png": "[encoded data removed]",
      "text/plain": [
       "<Figure size 432x288 with 1 Axes>"
      ]
     },
     "metadata": {},
     "output_type": "display_data"
    }
   ],
   "source": [
    "# python数学建模---绘制图表\n",
    "import matplotlib.pyplot as plt\n",
    "import numpy as np\n",
    "x = np.arange(7) #x产生7组\n",
    "#y1,y2 = np.random.randint(1,49,size=(2,7)) #y1,y2随机产生,7*7=49\n",
    "y1=[5,5,5,5,5,5,5]\n",
    "y2=[1,2,3,4,5,6,7]\n",
    "width = 0.25 #代表柱状图的宽度 \n",
    "ax = plt.subplot(1,1,1)\n",
    "ax.bar(x,y1,width,color='blue',label='y1')   #bar 是绘制柱状图\n",
    "ax.bar(x+width,y2,width,color='red',label='y3') #设置x轴，y轴，宽度，颜色\n",
    "ax.set_xticks(x+.5*width) #一半的柱宽正好可以让字母处于中间\n",
    "ax.set_xticklabels(['a','b','c','d','e','f','g']) #自定义x的刻度标签的内容\n",
    "plt.plot(x,y1) #这两行又在原有基础上连了一个折线图\n",
    "plt.plot(x,y2)\n",
    "plt.legend(loc=0)\n",
    "plt.ylabel('LY1')\n",
    "plt.xlabel('LX1')\n",
    "plt.title('title is just here')\n",
    "#以下为饼图\n",
    "label=['A','B','C','D']\n",
    "size=[12,30,45,10] #数字为饼的分块占比\n",
    "fig,ax=plt.subplots()  #面向对象画图\n",
    "explode=(0,0.2,0,0)    #第二块扇形移出，数值越大，移除的距离越远\n",
    "plt.title('title2 is just here')\n",
    "ax.pie(size,labels=label,autopct='%1.1f%%',shadow=True,startangle=45,explode=explode) #autopct自动显示百分比  shadow=90显示出阴影    startangle=90饼图倾斜与正\n",
    "ax.axis('equal')   #将椭圆变为圆\n",
    "plt.show()"
   ]
  },
  {
   "cell_type": "code",
   "execution_count": 53,
   "metadata": {},
   "outputs": [
    {
     "name": "stdout",
     "output_type": "stream",
     "text": [
      "矩阵:\n",
      "[[-4  3  0]\n",
      " [ 3  0 -1]\n",
      " [ 1  2 -2]]\n",
      "逆矩阵:\n",
      "[[ 0.28571429  0.85714286 -0.42857143]\n",
      " [ 0.71428571  1.14285714 -0.57142857]\n",
      " [ 0.85714286  1.57142857 -1.28571429]]\n",
      "转置:\n",
      "[[-4  3  1]\n",
      " [ 3  0  2]\n",
      " [ 0 -1 -2]]\n",
      "行列式:\n",
      "7.000000000000001\n"
     ]
    }
   ],
   "source": [
    "# 矩阵运算\n",
    "import numpy as np\n",
    "from numpy.linalg import *\n",
    "nptest=np.array([[-4,3,0],[3,0,-1],[1,2,-2]])\n",
    "print(\"矩阵:\")\n",
    "print(nptest)\n",
    "print(\"逆矩阵:\")\n",
    "print(inv(nptest))\n",
    "nptest=np.array([[-4,3,0],[3,0,-1],[1,2,-2]])\n",
    "print(\"转置:\")\n",
    "print(nptest.transpose())\n",
    "nptest=np.array([[-4,3,0],[3,0,-1],[1,2,-2]])\n",
    "print(\"行列式:\")\n",
    "print(det(nptest))"
   ]
  },
  {
   "cell_type": "code",
   "execution_count": 54,
   "metadata": {},
   "outputs": [
    {
     "name": "stdout",
     "output_type": "stream",
     "text": [
      "Input n:\n",
      "\n"
     ]
    },
    {
     "ename": "ValueError",
     "evalue": "invalid literal for int() with base 10: ''",
     "output_type": "error",
     "traceback": [
      "\u001b[1;31m---------------------------------------------------------------------------\u001b[0m",
      "\u001b[1;31mValueError\u001b[0m                                Traceback (most recent call last)",
      "\u001b[1;32m<ipython-input-54-c0c6af7ddb56>\u001b[0m in \u001b[0;36m<module>\u001b[1;34m\u001b[0m\n\u001b[0;32m     12\u001b[0m     \u001b[0mprint\u001b[0m\u001b[1;33m(\u001b[0m\u001b[1;34m\"Input n:\"\u001b[0m\u001b[1;33m)\u001b[0m\u001b[1;33m\u001b[0m\u001b[1;33m\u001b[0m\u001b[0m\n\u001b[0;32m     13\u001b[0m     \u001b[0mn_th\u001b[0m\u001b[1;33m=\u001b[0m\u001b[0minput\u001b[0m\u001b[1;33m(\u001b[0m\u001b[1;33m)\u001b[0m\u001b[1;33m\u001b[0m\u001b[1;33m\u001b[0m\u001b[0m\n\u001b[1;32m---> 14\u001b[1;33m     \u001b[0mn_th\u001b[0m\u001b[1;33m=\u001b[0m\u001b[0mint\u001b[0m\u001b[1;33m(\u001b[0m\u001b[0mn_th\u001b[0m\u001b[1;33m)\u001b[0m\u001b[1;33m\u001b[0m\u001b[1;33m\u001b[0m\u001b[0m\n\u001b[0m\u001b[0;32m     15\u001b[0m     \u001b[1;32mif\u001b[0m \u001b[0mn_th\u001b[0m\u001b[1;33m==\u001b[0m\u001b[1;36m0\u001b[0m\u001b[1;33m:\u001b[0m\u001b[1;33m\u001b[0m\u001b[1;33m\u001b[0m\u001b[0m\n\u001b[0;32m     16\u001b[0m         \u001b[0mprint\u001b[0m\u001b[1;33m(\u001b[0m\u001b[1;34m\"Fibonacci series calculation has been stopped\"\u001b[0m\u001b[1;33m)\u001b[0m\u001b[1;33m\u001b[0m\u001b[1;33m\u001b[0m\u001b[0m\n",
      "\u001b[1;31mValueError\u001b[0m: invalid literal for int() with base 10: ''"
     ]
    }
   ],
   "source": [
    "#循环输出第n个斐波那契数列的python3程序\n",
    "def Fibonacci_series (n_th):\n",
    "     if n_th==1:\n",
    "        return (1)\n",
    "     elif n_th==2:\n",
    "        return(1)\n",
    "     elif n_th>2:\n",
    "        return Fibonacci_series(n_th-1)+Fibonacci_series(n_th-2)\n",
    "z=0\n",
    "n_th=1\n",
    "while n_th>=1:\n",
    "    print(\"Input n:\")\n",
    "    n_th=input()\n",
    "    n_th=int(n_th)\n",
    "    if n_th==0:\n",
    "        print(\"Fibonacci series calculation has been stopped\")\n",
    "    if n_th>=1:\n",
    "       print(\"The n_th number of Fibonacci series:\")\n",
    "       print(Fibonacci_series(n_th))"
   ]
  },
  {
   "cell_type": "code",
   "execution_count": 58,
   "metadata": {},
   "outputs": [
    {
     "name": "stdout",
     "output_type": "stream",
     "text": [
      "输入一个数字还你一个斐波那契数列：5\n",
      "开始\n",
      "[1, 1, 2, 3, 5]\n"
     ]
    }
   ],
   "source": [
    "w = int(input(\"输入一个数字还你一个斐波那契数列：\"))\n",
    "list_res = []\n",
    "def list_n(n):\n",
    "    if n>=3:\n",
    "        res=list_n(n-1)+list_n(n-2)\n",
    "    else:\n",
    "        res=1\n",
    "    return res\n",
    "\n",
    "print(\"开始\")\n",
    "\n",
    "for i in range(0,w):\n",
    "    list_res.append(list_n(i+1))\n",
    "print(list_res)"
   ]
  }
 ],
 "metadata": {
  "kernelspec": {
   "display_name": "Python 3",
   "language": "python",
   "name": "python3"
  },
  "language_info": {
   "codemirror_mode": {
    "name": "ipython",
    "version": 3
   },
   "file_extension": ".py",
   "mimetype": "text/x-python",
   "name": "python",
   "nbconvert_exporter": "python",
   "pygments_lexer": "ipython3",
   "version": "3.8.5"
  },
  "toc": {
   "base_numbering": 1,
   "nav_menu": {},
   "number_sections": true,
   "sideBar": true,
   "skip_h1_title": false,
   "title_cell": "Table of Contents",
   "title_sidebar": "Contents",
   "toc_cell": false,
   "toc_position": {},
   "toc_section_display": true,
   "toc_window_display": false
  }
 },
 "nbformat": 4,
 "nbformat_minor": 4
}
