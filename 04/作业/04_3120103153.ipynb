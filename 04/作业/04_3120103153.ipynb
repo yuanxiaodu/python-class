{
 "cells": [
  {
   "cell_type": "code",
   "execution_count": 1,
   "metadata": {},
   "outputs": [
    {
     "name": "stdout",
     "output_type": "stream",
     "text": [
      "5\n",
      "\n"
     ]
    }
   ],
   "source": [
    "s=input()\n",
    "\n",
    "if len(s)>2:\n",
    "    s1=s[0:2]+s[-2:]\n",
    "else:\n",
    "    s1=''\n",
    "print(s1)"
   ]
  },
  {
   "cell_type": "code",
   "execution_count": 2,
   "metadata": {},
   "outputs": [
    {
     "name": "stdout",
     "output_type": "stream",
     "text": [
      "5\n",
      "45\n",
      "the input string is too short\n"
     ]
    }
   ],
   "source": [
    "a=input()\n",
    "b=input()\n",
    "\n",
    "if len(a)>2 and len(b)>2:\n",
    "    a,b=b[0:2]+a[2:],a[0:2]+b[2:]\n",
    "    print(a+' '+b)\n",
    "else:\n",
    "    print('the input string is too short')"
   ]
  },
  {
   "cell_type": "code",
   "execution_count": 3,
   "metadata": {},
   "outputs": [
    {
     "name": "stdout",
     "output_type": "stream",
     "text": [
      "while loop: 1.5625\n",
      "for loop: 1.5625\n"
     ]
    }
   ],
   "source": [
    "#落球计算\n",
    "height=100\n",
    "total=0\n",
    "i=1\n",
    "while True:\n",
    "    height*=0.5\n",
    "    i+=1\n",
    "    if i>6:break\n",
    "print('while loop:',height)\n",
    "\n",
    "height=100\n",
    "i=1\n",
    "for i in range(1,7):\n",
    "    height*=0.5\n",
    "    if i<6:\n",
    "        continue\n",
    "    else:\n",
    "        print('for loop:',height)\n",
    "        "
   ]
  },
  {
   "cell_type": "code",
   "execution_count": 4,
   "metadata": {},
   "outputs": [
    {
     "name": "stdout",
     "output_type": "stream",
     "text": [
      "56\n",
      "5\n"
     ]
    }
   ],
   "source": [
    "a=int(input())#小\n",
    "b=int(input())#大\n",
    "\n",
    "for i in range(a,b+1):\n",
    "    for j in range(2,i+1):\n",
    "        if i%j==0 and j<i:\n",
    "            print(i,'非素数')\n",
    "            break\n",
    "        elif j==i:\n",
    "            print(i,\"素数\")"
   ]
  },
  {
   "cell_type": "code",
   "execution_count": 5,
   "metadata": {},
   "outputs": [
    {
     "name": "stdout",
     "output_type": "stream",
     "text": [
      "1 2 3\n",
      "1 2 4\n",
      "1 3 2\n",
      "1 3 4\n",
      "1 4 2\n",
      "1 4 3\n",
      "2 1 3\n",
      "2 1 4\n",
      "2 3 1\n",
      "2 3 4\n",
      "2 4 1\n",
      "2 4 3\n",
      "3 1 2\n",
      "3 1 4\n",
      "3 2 1\n",
      "3 2 4\n",
      "3 4 1\n",
      "3 4 2\n",
      "4 1 2\n",
      "4 1 3\n",
      "4 2 1\n",
      "4 2 3\n",
      "4 3 1\n",
      "4 3 2\n"
     ]
    }
   ],
   "source": [
    "for i in range(1,5):\n",
    "    for j in range(1,5):\n",
    "        for k in range(1,5):\n",
    "            if( i != k ) and (i != j) and (j != k):\n",
    "                print (i,j,k)"
   ]
  },
  {
   "cell_type": "code",
   "execution_count": 15,
   "metadata": {},
   "outputs": [
    {
     "name": "stdout",
     "output_type": "stream",
     "text": [
      "请输入第一个数：56\n",
      "请输入第二个数：445\n",
      "请输入第三个数：41\n",
      "445 56 41\n"
     ]
    }
   ],
   "source": [
    "a=input(\"请输入第一个数：\")\n",
    "b=input(\"请输入第二个数：\")\n",
    "c=input(\"请输入第三个数：\")\n",
    "a=int(a)\n",
    "b=int(b)\n",
    "c=int(c)\n",
    "if a>b>c:\n",
    "    print(a,b,c)\n",
    "elif a>c>b:\n",
    "    d=c;c=b;b=d\n",
    "    print(a,b,c)\n",
    "elif b>a>c:\n",
    "    d=b;b=a;a=d\n",
    "    print(a,b,c)\n",
    "elif b>c>a:\n",
    "    d=b;e=c;b=e;c=a;a=d\n",
    "    print(a,b,c)\n",
    "elif c>a>b:\n",
    "    d=c;e=a;f=b;c=f;b=e;a=d\n",
    "    print(a,b,c)\n",
    "elif c>b>a:\n",
    "    d=c;c=a;a=d\n",
    "    print(a,b,c)\n",
    "else:\n",
    "    print(a,b,c)"
   ]
  },
  {
   "cell_type": "code",
   "execution_count": 17,
   "metadata": {},
   "outputs": [
    {
     "name": "stdout",
     "output_type": "stream",
     "text": [
      "请输入年份：2011\n",
      "2011年不是闰年\n"
     ]
    }
   ],
   "source": [
    "i=int(input(\"请输入年份：\"))\n",
    "if ((i%4==0) and (i%100!=0)):\n",
    "    print(\"%d年是闰年\"%i)\n",
    "else:\n",
    "    print(\"%d年不是闰年\"%i)"
   ]
  },
  {
   "cell_type": "code",
   "execution_count": 18,
   "metadata": {},
   "outputs": [
    {
     "name": "stdout",
     "output_type": "stream",
     "text": [
      "请输入您的成绩：99\n",
      "A\n"
     ]
    }
   ],
   "source": [
    "score=int(input(\"请输入您的成绩：\"))\n",
    "def func(score):\n",
    "    if score >100 or score <=0:\n",
    "        return\"wrong score .must between 0 and 100.\"\n",
    "    elif score >= 90:\n",
    "        return\"A\"\n",
    "    elif score >= 80:\n",
    "        return \"B\"\n",
    "    elif score >= 70:\n",
    "        return \"C\"\n",
    "    elif score >=60:\n",
    "        return \"D\"\n",
    "    else:\n",
    "        return \"E\"\n",
    "print(func(score))\n"
   ]
  },
  {
   "cell_type": "code",
   "execution_count": 19,
   "metadata": {},
   "outputs": [
    {
     "name": "stdout",
     "output_type": "stream",
     "text": [
      "5050\n"
     ]
    }
   ],
   "source": [
    "\n",
    "s=0;n=1\n",
    "while n<=100:\n",
    "    s=s+n\n",
    "    n=n+1\n",
    "print(s)"
   ]
  },
  {
   "cell_type": "code",
   "execution_count": 20,
   "metadata": {},
   "outputs": [
    {
     "name": "stdout",
     "output_type": "stream",
     "text": [
      "请输入评委人数：2\n",
      "评委人数需大于2\n",
      "请重新输入评委人数：3\n",
      "请输入比赛人数：2\n",
      "请输入选手序号：1\n",
      "输入评委打分分数：6\n",
      "输入评委打分分数：7\n",
      "输入评委打分分数：8\n",
      "请输入选手序号：2\n",
      "输入评委打分分数：5\n",
      "输入评委打分分数：8\n",
      "输入评委打分分数：9\n",
      "[['1', 7.0], ['2', 8.0]]\n",
      "选手序号： 1\n",
      "平均分： 7.0\n",
      "选手序号： 2\n",
      "平均分： 8.0\n",
      "[8.0, 7.0]\n"
     ]
    }
   ],
   "source": [
    "list1 = []\n",
    "n = int(input(\"请输入评委人数：\"))\n",
    "while n <= 2:\n",
    "    print(\"评委人数需大于2\")\n",
    "    n = int(input(\"请重新输入评委人数：\"))\n",
    "p = int(input(\"请输入比赛人数：\"))\n",
    "while p <= 1:\n",
    "    print(\"比赛人数需大于1\")\n",
    "    p = int(input(\"请重新输入比赛人数：\"))\n",
    "def check_score(score):\n",
    "    if score >= 0 and score <= 100:\n",
    "        return score\n",
    "    else:\n",
    "        print(\"分数不合法，请重新输入！\")\n",
    "        score = int(input(\"请重新输入分数：\"))\n",
    "        score = check_score(score)\n",
    "j = p\n",
    "list2=[]\n",
    "while j > 0 :\n",
    "    name = input(\"请输入选手序号：\")\n",
    "    list2.append(name)\n",
    "    i = n\n",
    "    a = []\n",
    "    while i > 0:\n",
    "        score = check_score(int(input(\"输入评委打分分数：\")))\n",
    "        a.append(score)\n",
    "        i -= 1\n",
    "    avg_score = (sum(a) - min(a) - max(a)) / (n-2)\n",
    "    list1.append([name,avg_score])\n",
    "    j -= 1\n",
    "print(list1)\n",
    " \n",
    "for i in range(p):\n",
    "    print(\"选手序号：\", list2[i])\n",
    "    print(\"平均分：\", list1[i][1])\n",
    " \n",
    "ll=[]\n",
    "for i in range(p):\n",
    "    ll.append(list1[i][1])\n",
    " \n",
    "    ll.sort(reverse=True)\n",
    "print(ll)"
   ]
  },
  {
   "cell_type": "code",
   "execution_count": 21,
   "metadata": {},
   "outputs": [
    {
     "name": "stdout",
     "output_type": "stream",
     "text": [
      "请输入方程系数a的值1\n",
      "请输入方程系数b的值2\n",
      "请输入方程系数c的值1\n",
      "方程+1*x*x+2*x+1=0的两个实数解为：x1=-1.00,x2=-1.00\n"
     ]
    }
   ],
   "source": [
    "import math\n",
    "a=int(input(\"请输入方程系数a的值\"))\n",
    "b=int(input(\"请输入方程系数b的值\"))\n",
    "c=int(input(\"请输入方程系数c的值\"))\n",
    "if ((b*b-4*a*c)>=0)and((a!=0)):\n",
    "    x1=(-b+math.sqrt(b*b-4*a*c))/(2*a)\n",
    "    x2=(-b-math.sqrt(b*b-4*a*c))/(2*a)\n",
    "    print(\"方程%+d*x*x%+d*x%+d=0的两个实数解为：x1=%+.2f,x2=%+.2f\"%(a,b,c,x1,x2))\n",
    "else:\n",
    "    print(\"方程%+d*x*x%+d*x%+d=0无实数解\"%(a,b,c))"
   ]
  },
  {
   "cell_type": "code",
   "execution_count": 22,
   "metadata": {},
   "outputs": [
    {
     "name": "stdout",
     "output_type": "stream",
     "text": [
      "请输入阿拉伯数字1-7的任意一个数字:6\n",
      "星期六\n"
     ]
    }
   ],
   "source": [
    "n=\"1,2,3,4,5,6,7\"\n",
    "data=\"一 二 三 四 五 六 日\"\n",
    "i=input(\"请输入阿拉伯数字1-7的任意一个数字:\")\n",
    "if i in n:\n",
    "    a=data[n.index(i)]\n",
    "    print(\"星期{}\" .format(a))"
   ]
  },
  {
   "cell_type": "code",
   "execution_count": 23,
   "metadata": {},
   "outputs": [
    {
     "name": "stdout",
     "output_type": "stream",
     "text": [
      "0 1 2 3 4 \n",
      "1 2 3 4 5 \n",
      "1 3 5 \n",
      "[0, 1, 2, 3, 4]\n"
     ]
    }
   ],
   "source": [
    "#1\n",
    "for i in range(5):\n",
    "    print(i,end=' ')\n",
    " \n",
    "print()\n",
    " \n",
    "#2.\n",
    "for i in range(1,6):\n",
    "    print(i,end=' ')\n",
    " \n",
    " \n",
    "print()\n",
    "#3.\n",
    "for i in range(1,6,2):\n",
    "    print(i,end=' ')\n",
    " \n",
    "print()\n",
    " \n",
    "#4.\n",
    "print(list(range(5)))"
   ]
  },
  {
   "cell_type": "code",
   "execution_count": 27,
   "metadata": {},
   "outputs": [
    {
     "ename": "NameError",
     "evalue": "name 'reload' is not defined",
     "output_type": "error",
     "traceback": [
      "\u001b[1;31m---------------------------------------------------------------------------\u001b[0m",
      "\u001b[1;31mNameError\u001b[0m                                 Traceback (most recent call last)",
      "\u001b[1;32m<ipython-input-27-67bea12ad5db>\u001b[0m in \u001b[0;36m<module>\u001b[1;34m\u001b[0m\n\u001b[0;32m      2\u001b[0m \u001b[1;32mimport\u001b[0m \u001b[0mre\u001b[0m\u001b[1;33m\u001b[0m\u001b[1;33m\u001b[0m\u001b[0m\n\u001b[0;32m      3\u001b[0m \u001b[1;32mimport\u001b[0m \u001b[0msys\u001b[0m\u001b[1;33m\u001b[0m\u001b[1;33m\u001b[0m\u001b[0m\n\u001b[1;32m----> 4\u001b[1;33m \u001b[0mreload\u001b[0m\u001b[1;33m(\u001b[0m\u001b[0msys\u001b[0m\u001b[1;33m)\u001b[0m\u001b[1;33m\u001b[0m\u001b[1;33m\u001b[0m\u001b[0m\n\u001b[0m\u001b[0;32m      5\u001b[0m \u001b[0msys\u001b[0m\u001b[1;33m.\u001b[0m\u001b[0msetdefaultencoding\u001b[0m\u001b[1;33m(\u001b[0m\u001b[1;34m\"utf-8\"\u001b[0m\u001b[1;33m)\u001b[0m\u001b[1;33m\u001b[0m\u001b[1;33m\u001b[0m\u001b[0m\n\u001b[0;32m      6\u001b[0m \u001b[1;33m\u001b[0m\u001b[0m\n",
      "\u001b[1;31mNameError\u001b[0m: name 'reload' is not defined"
     ]
    }
   ],
   "source": [
    "import requests\n",
    "import re\n",
    "import sys\n",
    "reload(sys)\n",
    "sys.setdefaultencoding(\"utf-8\")\n",
    "\n",
    "class func(object):\n",
    "    def __init__(self):\n",
    "        print(u'开始爬取内容。。。')\n",
    "\n",
    "#getsource获取网页源代码\n",
    "    def getsource(self,url):\n",
    "        html = requests.get(url)\n",
    "        #print str(html.text)   可以在此打印，来检查是否抓到内容\n",
    "        return html.text\n",
    "\n",
    "#geteverydiv抓取每个课程块的信息\n",
    "    def geteverydiv(self,source):\n",
    "        everydiv = re.findall('(<div class=\"moco-course-wrap\".*?</div>)',source,re.S)\n",
    "        return everydiv\n",
    "\n",
    "#getinfo从每个课程块中提取出课程标题和内容描述\n",
    "    def getinfo(self,eachclass):\n",
    "        info = {}\n",
    "        info['title'] = re.search('<h3>(.*?)</h3>',eachclass,re.S).group(1)\n",
    "        info['content'] = re.search('<p>(.*?)</p>',eachclass,re.S).group(1)\n",
    "        #print info  可以在此打印，来检查是否抓到内容\n",
    "        return info\n",
    "\n",
    "#saveinfo用来保存结果到info.txt文件中\n",
    "    def saveinfo(self,classinfo):\n",
    "        f = open('info.txt','a')\n",
    "        for each in classinfo:\n",
    "            f.writelines('title:' + each['title'] + '\\n')\n",
    "            f.writelines('content:' + each['content'] + '\\n\\n')\n",
    "        f.close()\n",
    "        print(\"write file finished\")\n",
    "        \n",
    "#主函数\n",
    "if __name__ == '__main__':\n",
    "    classinfo = []\n",
    "    url = 'http://www.imooc.com/'\n",
    "    testspider = func()\n",
    "    print(u'正在处理页面：' + url)\n",
    "    html = testspider.getsource(url)\n",
    "    everydiv = testspider.geteverydiv(html)\n",
    "    for each in everydiv:\n",
    "        info = testspider.getinfo(each)\n",
    "        classinfo.append(info)\n",
    "    testspider.saveinfo(classinfo)"
   ]
  },
  {
   "cell_type": "code",
   "execution_count": 28,
   "metadata": {},
   "outputs": [
    {
     "name": "stdout",
     "output_type": "stream",
     "text": [
      "\n",
      "You are in a land full of dragons. In front of you,\n",
      "   you see two caves. In one cave, the dragon is friendly\n",
      "    and will share his treasure with you. The other dragon\n",
      "   is greedy and hungry, and will eat you on sight.\n",
      "Which cave will you go into?( 1 or 2)\n",
      "2\n",
      "You approach the cave.....\n",
      "It is dark and spooky....\n",
      "A large dragon jumps ou in front of you! He opens his jaws and ....\n",
      "\n",
      "Gobbles you down in one bite!\n",
      "Do you want to play again?(yes or no)\n",
      "no\n"
     ]
    }
   ],
   "source": [
    "import time\n",
    "import random\n",
    "\n",
    "def displayFintro():\n",
    "    print('''You are in a land full of dragons. In front of you,\n",
    "   you see two caves. In one cave, the dragon is friendly\n",
    "    and will share his treasure with you. The other dragon\n",
    "   is greedy and hungry, and will eat you on sight.''')\n",
    "print()\n",
    "\n",
    "def chooseCave():\n",
    "    cave=''\n",
    "    while cave !='1' and cave !='2':\n",
    "        print('Which cave will you go into?( 1 or 2)')\n",
    "        cave=input()\n",
    "    return cave\n",
    "def checkCave(chooseCave):\n",
    "    print('You approach the cave.....')\n",
    "    time.sleep(2)\n",
    "    print('It is dark and spooky....')\n",
    "    time.sleep(2)\n",
    "    print('A large dragon jumps ou in front of you! He opens his jaws and ....')\n",
    "    print()\n",
    "    time.sleep(2)\n",
    "    friendlyCave=random.randint(1,2)\n",
    "    if chooseCave == str(friendlyCave):\n",
    "        print('Give you his treasure!')\n",
    "    else:\n",
    "        print('Gobbles you down in one bite!')\n",
    "playAgain='yes'\n",
    "while playAgain=='yes' or playAgain=='Y':\n",
    "    displayFintro()\n",
    "    caveNumber =chooseCave()\n",
    "    checkCave(caveNumber)\n",
    "    print('Do you want to play again?(yes or no)')\n",
    "    playAgain= input()"
   ]
  },
  {
   "cell_type": "code",
   "execution_count": 29,
   "metadata": {},
   "outputs": [
    {
     "name": "stdout",
     "output_type": "stream",
     "text": [
      "H A N G M A N\n",
      "\n",
      "           +---+\n",
      "               |\n",
      "               |\n",
      "               |\n",
      "              ===\n",
      "\n",
      "Missed letters: \n",
      "* * * \n",
      "Guess a letter:\n",
      "0\n",
      "Please enter a LETTER.\n",
      "Guess a letter:\n",
      "d\n",
      "\n",
      "           +---+\n",
      "          O   |\n",
      "              |\n",
      "              |\n",
      "              ===\n",
      "\n",
      "Missed letters: d \n",
      "* * * \n",
      "Guess a letter:\n",
      "o\n",
      "\n",
      "          +---+\n",
      "          O   |\n",
      "          |   |\n",
      "              |\n",
      "              ===\n",
      "\n",
      "Missed letters: d o \n",
      "* * * \n",
      "Guess a letter:\n",
      "u\n",
      "\n",
      "          +---+\n",
      "           O   |\n",
      "          /|   |\n",
      "               |\n",
      "              ===\n",
      "\n",
      "Missed letters: d o u \n",
      "* * * \n",
      "Guess a letter:\n",
      "q\n",
      "\n",
      "          +---+\n",
      "          O   |\n",
      "         /|\\  |\n",
      "              |\n",
      "             ===\n",
      "\n",
      "Missed letters: d o u q \n",
      "* * * \n",
      "Guess a letter:\n",
      "w\n",
      "\n",
      "         +---+\n",
      "          O   |\n",
      "         /|\\  |\n",
      "         /    |\n",
      "             ===\n",
      "\n",
      "Missed letters: d o u q w \n",
      "* * * \n",
      "Guess a letter:\n",
      "e\n",
      "\n",
      "         +---+\n",
      "          O   |\n",
      "         /|\\  |\n",
      "         / \\  |\n",
      "        ===\n",
      "\n",
      "Missed letters: d o u q w e \n",
      "* * * \n",
      "You have run out of guesses!\n",
      "After 6 missed guesses and 0 correct guesses,the word was \"cat\"\n",
      "Do you want to play again?( yes or no)\n",
      "no\n"
     ]
    }
   ],
   "source": [
    "import random\n",
    "\n",
    "HANGMAN_PICS = ['''\n",
    "           +---+\n",
    "               |\n",
    "               |\n",
    "               |\n",
    "              ===''', '''\n",
    "           +---+\n",
    "          O   |\n",
    "              |\n",
    "              |\n",
    "              ===''', '''\n",
    "          +---+\n",
    "          O   |\n",
    "          |   |\n",
    "              |\n",
    "              ===''', '''\n",
    "          +---+\n",
    "           O   |\n",
    "          /|   |\n",
    "               |\n",
    "              ===''', '''\n",
    "          +---+\n",
    "          O   |\n",
    "         /|\\  |\n",
    "              |\n",
    "             ===''', '''\n",
    "         +---+\n",
    "          O   |\n",
    "         /|\\  |\n",
    "         /    |\n",
    "             ===''', '''\n",
    "         +---+\n",
    "          O   |\n",
    "         /|\\  |\n",
    "         / \\  |\n",
    "        ===''']\n",
    "words = 'cat words'.split(' ')\n",
    "\n",
    "\n",
    "def getRandomWord(wordList):\n",
    "    wordIndex = random.randint(0, len(wordList) - 1)\n",
    "    return wordList[wordIndex]\n",
    "\n",
    "\n",
    "def displayBoard(missedLetters, correctLetters, secretword):\n",
    "    print(HANGMAN_PICS[len(missedLetters)])\n",
    "    print()\n",
    "\n",
    "    print('Missed letters:', end=' ')\n",
    "    for letter in missedLetters:\n",
    "        print(letter, end=' ')\n",
    "    print()\n",
    "    blanks = '*' * len(secretword)\n",
    "    for i in range(len(secretword)):\n",
    "        if secretword[i] in correctLetters:\n",
    "            blanks = blanks[:i] + secretword[i] + blanks[i + 1:]\n",
    "    for letter in blanks:\n",
    "        print(letter, end=' ')\n",
    "    print()\n",
    "\n",
    "\n",
    "def getGuess(alreadyGuessed):\n",
    "    while True:\n",
    "        print('Guess a letter:')\n",
    "        guess = input()\n",
    "        guess=guess.lower()\n",
    "        if len(guess) != 1:\n",
    "            print('Please enter a single letter.')\n",
    "        elif guess in alreadyGuessed:\n",
    "            print('You have already guessed that letter. Choose again.')\n",
    "        elif guess not in 'abcdefghijklmnopqrstuvwxyz':\n",
    "            print('Please enter a LETTER.')\n",
    "        else:\n",
    "            return guess\n",
    "\n",
    "\n",
    "def playAgain():\n",
    "    print('Do you want to play again?( yes or no)')\n",
    "    return input().lower().startswith('y')\n",
    "\n",
    "\n",
    "print('H A N G M A N')\n",
    "missedLetters = ''\n",
    "correctLetters = ''\n",
    "secretWord = getRandomWord(words)\n",
    "gameIsDone = False\n",
    "\n",
    "while True:\n",
    "    displayBoard(missedLetters, correctLetters, secretWord)\n",
    "    guess = getGuess((missedLetters + correctLetters))\n",
    "    if guess in secretWord:\n",
    "        correctLetters = correctLetters + guess\n",
    "        foundAllLetters = True\n",
    "        for i in range(len(secretWord)):\n",
    "            if secretWord[i] not in correctLetters:\n",
    "                foundAllLetters = False\n",
    "                break\n",
    "        if foundAllLetters:\n",
    "            print('Yes! The secret word is ' + secretWord + '! you have won!')\n",
    "            gameIsDone = True\n",
    "    else:\n",
    "        missedLetters = missedLetters + guess\n",
    "        if len(missedLetters) == len(HANGMAN_PICS) - 1:\n",
    "            displayBoard(missedLetters, correctLetters, secretWord)\n",
    "            print('You have run out of guesses!\\nAfter ' + str(len(missedLetters)) + ' missed guesses and ' + str(\n",
    "                len(correctLetters)) + ' correct guesses,the word was \"' + secretWord + '\"')\n",
    "            gameIsDone = True\n",
    "    if gameIsDone:\n",
    "        if playAgain():\n",
    "            missedLetters = ''\n",
    "            correctLetters = ''\n",
    "            gameIsDone = False\n",
    "            secretWord = getRandomWord(words)\n",
    "        else:\n",
    "            break"
   ]
  },
  {
   "cell_type": "code",
   "execution_count": 30,
   "metadata": {},
   "outputs": [
    {
     "ename": "SyntaxError",
     "evalue": "invalid syntax (<ipython-input-30-2f547caeb493>, line 3)",
     "output_type": "error",
     "traceback": [
      "\u001b[1;36m  File \u001b[1;32m\"<ipython-input-30-2f547caeb493>\"\u001b[1;36m, line \u001b[1;32m3\u001b[0m\n\u001b[1;33m    map_list=\u001b[0m\n\u001b[1;37m             ^\u001b[0m\n\u001b[1;31mSyntaxError\u001b[0m\u001b[1;31m:\u001b[0m invalid syntax\n"
     ]
    }
   ],
   "source": [
    "import os\n",
    "\n",
    "map_list=\n",
    "\n",
    "[[\"#\",\"#\",\"#\",\"#\",\"#\",\"#\",\"#\",\"#\",\"#\",\"#\",\"#\",\"#\",\"#\",\"#\",\"#\",\"#\",\"#\",\"#\",\"#\",\"#\",\"#\",\"#\",\"#\",\"#\",\"#\",\"#\",\"#\",\"#\",\"#\",\"#\"],\n",
    "[\"#\",\"O\",\" \",\" \",\" \",\" \",\" \",\" \",\" \",\" \",\" \",\"#\",\" \",\" \",\" \",\"#\",\"#\",\" \",\" \",\" \",\"#\",\" \",\"#\",\"#\",\"#\",\" \",\"#\",\"#\",\"#\",\"#\"],\n",
    "[\"#\",\" \",\"#\",\"#\",\"#\",\"#\",\"#\",\"#\",\" \",\"#\",\" \",\"#\",\" \",\"#\",\" \",\" \",\" \",\" \",\"#\",\" \",\"#\",\" \",\"#\",\"#\",\"#\",\" \",\"#\",\"#\",\"#\",\"#\"],\n",
    "[\"#\",\" \",\"#\",\" \",\" \",\" \",\"#\",\"#\",\" \",\"#\",\" \",\" \",\" \",\"#\",\" \",\"#\",\"#\",\"#\",\"#\",\" \",\"#\",\" \",\"#\",\"#\",\"#\",\" \",\" \",\" \",\"#\",\"#\"],\n",
    "[\"#\",\" \",\" \",\" \",\"#\",\" \",\"#\",\"#\",\" \",\" \",\"#\",\"#\",\"#\",\" \",\" \",\" \",\" \",\"#\",\" \",\" \",\"#\",\" \",\" \",\"#\",\"#\",\" \",\"#\",\"#\",\"#\",\"#\"],\n",
    "[\"#\",\"#\",\"#\",\"#\",\"#\",\" \",\"#\",\" \",\" \",\" \",\" \",\" \",\"#\",\" \",\"#\",\"#\",\"#\",\"#\",\"#\",\" \",\"#\",\"#\",\" \",\" \",\" \",\" \",\"#\",\"#\",\"#\",\"#\"],\n",
    "[\"#\",\" \",\" \",\" \",\"#\",\" \",\"#\",\"#\",\"#\",\"#\",\"#\",\" \",\"#\",\" \",\" \",\" \",\"#\",\" \",\" \",\" \",\"#\",\" \",\"#\",\" \",\"#\",\" \",\" \",\" \",\" \",\"#\"],\n",
    "[\"#\",\" \",\"#\",\" \",\"#\",\" \",\" \",\" \",\" \",\"#\",\"#\",\" \",\"#\",\" \",\"#\",\"#\",\"#\",\"#\",\" \",\"#\",\"#\",\" \",\"#\",\" \",\"#\",\" \",\"#\",\"#\",\"#\",\"#\"],\n",
    "[\"#\",\" \",\"#\",\" \",\"#\",\" \",\"#\",\"#\",\" \",\" \",\" \",\" \",\" \",\" \",\"#\",\"#\",\" \",\" \",\" \",\" \",\" \",\" \",\"#\",\" \",\"#\",\" \",\"#\",\"#\",\"#\",\"#\"],\n",
    "[\"#\",\" \",\"#\",\" \",\"#\",\" \",\"#\",\"#\",\"#\",\"#\",\"#\",\"#\",\"#\",\" \",\"#\",\"#\",\" \",\"#\",\"#\",\"#\",\"#\",\"#\",\"#\",\" \",\"#\",\" \",\" \",\" \",\"#\",\"#\"],\n",
    "[\"#\",\" \",\"#\",\" \",\" \",\" \",\"#\",\"#\",\" \",\" \",\" \",\"#\",\"#\",\"#\",\"#\",\"#\",\"#\",\"#\",\"#\",\"#\",\"#\",\"#\",\" \",\"#\",\"#\",\"#\",\" \",\" \",\" \",\"#\"],\n",
    "[\"#\",\" \",\"#\",\"#\",\"#\",\"#\",\"#\",\"#\",\" \",\"#\",\" \",\"#\",\"#\",\"#\",\"#\",\"#\",\" \",\" \",\"#\",\" \",\" \",\" \",\" \",\" \",\" \",\" \",\" \",\"#\",\" \",\"#\"],\n",
    "[\"#\",\" \",\" \",\" \",\" \",\" \",\" \",\" \",\" \",\"#\",\" \",\"#\",\" \",\" \",\" \",\" \",\" \",\"#\",\"#\",\"#\",\"#\",\"#\",\" \",\"#\",\"#\",\"#\",\" \",\"#\",\" \",\" \"],\n",
    "[\"#\",\" \",\"#\",\"#\",\"#\",\"#\",\"#\",\"#\",\"#\",\"#\",\" \",\"#\",\"#\",\"#\",\"#\",\"#\",\" \",\"#\",\"#\",\"#\",\"#\",\"#\",\" \",\"#\",\"#\",\"#\",\" \",\"#\",\"#\",\"#\"],\n",
    "[\"#\",\" \",\" \",\" \",\" \",\" \",\"#\",\" \",\"#\",\"#\",\" \",\"#\",\"#\",\"#\",\"#\",\"#\",\" \",\"#\",\"#\",\"#\",\" \",\" \",\" \",\" \",\" \",\" \",\" \",\"#\",\"#\",\"#\"],\n",
    "[\"#\",\"#\",\"#\",\"#\",\"#\",\" \",\"#\",\" \",\"#\",\"#\",\" \",\"#\",\" \",\" \",\" \",\" \",\" \",\" \",\"#\",\"#\",\"#\",\"#\",\"#\",\"#\",\"#\",\"#\",\" \",\"#\",\" \",\"#\"],\n",
    "[\"#\",\" \",\" \",\" \",\" \",\" \",\"#\",\" \",\"#\",\"#\",\" \",\"#\",\"#\",\" \",\"#\",\"#\",\"#\",\" \",\" \",\" \",\" \",\" \",\" \",\" \",\" \",\"#\",\" \",\" \",\" \",\"#\"],\n",
    "[\"#\",\" \",\"#\",\" \",\"#\",\"#\",\"#\",\" \",\" \",\" \",\" \",\" \",\" \",\" \",\"#\",\"#\",\"#\",\"#\",\"#\",\"#\",\" \",\"#\",\"#\",\"#\",\"#\",\"#\",\"#\",\"#\",\" \",\"#\"],\n",
    "[\"#\",\" \",\"#\",\" \",\" \",\" \",\" \",\"#\",\"#\",\"#\",\" \",\"#\",\"#\",\" \",\" \",\" \",\" \",\" \",\" \",\"#\",\" \",\" \",\" \",\" \",\" \",\" \",\" \",\" \",\" \",\"#\"],\n",
    "[\"#\",\"#\",\"#\",\"#\",\"#\",\"#\",\"#\",\"#\",\"#\",\"#\",\"#\",\"#\",\"#\",\"#\",\"#\",\"#\",\"#\",\"#\",\"#\",\"#\",\"#\",\"#\",\"#\",\"#\",\"#\",\"#\",\"#\",\"#\",\"#\",\"#\"]]\n",
    "\n",
    "\n",
    "\n",
    "for i in range(20):\n",
    "    for j in range(30):\n",
    "        print(map_list[i][j], end=\"\")\n",
    "    print(\"\")\n",
    "\n",
    "\n",
    "x = 1\n",
    "y = 1\n",
    "p = 12\n",
    "q = 29\n",
    "\n",
    "\n",
    "while x != p or y != q:\n",
    "    ch = input(\"请输入行走的方向(quit:是退出)：\")\n",
    "\n",
    "\n",
    "    #行走s方向\n",
    "    if (ch == \"s\"):\n",
    "        if map_list[x+1][y] != \"#\":\n",
    "            map_list[x][y] = \" \"\n",
    "            x += 1\n",
    "            map_list[x][y] = \"O\"\n",
    "        os.system(\"clear\")\n",
    "        for i in range(20):\n",
    "            for j in range(30):\n",
    "                print(map_list[i][j], end=\"\")\n",
    "            print(\"\")\n",
    "        continue\n",
    "\n",
    "\n",
    "    #行走d方向\n",
    "    elif (ch == \"d\"):\n",
    "        if map_list[x][y+1] != \"#\":\n",
    "            map_list[x][y] = \" \"\n",
    "            y += 1\n",
    "            map_list[x][y] = \"O\"\n",
    "        os.system(\"clear\")\n",
    "        for i in range(20):\n",
    "            for j in range(30):\n",
    "                print(map_list[i][j], end=\"\")\n",
    "            print(\"\")\n",
    "        continue\n",
    "\n",
    "\n",
    "    #行走w方向\n",
    "    elif (ch == \"w\"):\n",
    "        if map_list[x-1][y] != \"#\":\n",
    "            map_list[x][y] = \" \"\n",
    "            x -= 1\n",
    "            map_list[x][y] = \"O\"\n",
    "        os.system(\"clear\")\n",
    "        for i in range(20):\n",
    "            for j in range(30):\n",
    "                print(map_list[i][j], end=\"\")\n",
    "            print(\"\")\n",
    "        continue\n",
    "\n",
    "\n",
    "    #行走a方向\n",
    "    elif (ch == \"a\"):\n",
    "        if map_list[x][y-1] != \"#\":\n",
    "            map_list[x][y] = \" \"\n",
    "            y -= 1\n",
    "            map_list[x][y] = \"O\"\n",
    "        os.system(\"clear\")\n",
    "        for i in range(20):\n",
    "            for j in range(30):\n",
    "                print(map_list[i][j], end=\"\")\n",
    "            print(\"\")\n",
    "        continue\n",
    "\n",
    "\n",
    "    elif (ch == \"quit\"):\n",
    "        print(\"游戏退出。\")\n",
    "        break\n",
    "\n",
    "\n",
    "if x == p and y == q:\n",
    "    print(\"恭喜你已经脱出迷宫。\")"
   ]
  },
  {
   "cell_type": "code",
   "execution_count": 31,
   "metadata": {},
   "outputs": [],
   "source": [
    "import random\n",
    "\n",
    "def minesweeper(m,n,p):\n",
    "    # m行 n列 p为概率\n",
    "    matrix = [[0 for col in range(n+2)] for row in range(m+2)]\n",
    "    for row in range(1,m+1):\n",
    "        for col in range(1,n+1):\n",
    "            ran = random.random()\n",
    "            if ran>p:\n",
    "                matrix[row][col] = 0  # 如果ran大于p，说明不是地雷。因为这里的p表示的是地雷的概率。\n",
    "            else:\n",
    "                matrix[row][col] = \"*\"\n",
    "                \n",
    "    for row in range(1,m+1):\n",
    "        for col in range(1,n+1):\n",
    "            if matrix[row][col] == \"*\": #如果这个地方是地雷，就在它周围一圈里的非地雷方格都加1\n",
    "                for i in range(row-1,row+1+1):\n",
    "                    for j in range(col-1,col+1+1):\n",
    "                        if matrix[i][j] != \"*\": #只有在该方格不是地雷的时候才会+1\n",
    "                            matrix[i][j] += 1\n",
    "    # 打印\n",
    "    for i in range(1, m+1):\n",
    "        for j in range(1, n+1):\n",
    "            print(\"*\",end = \" \") if matrix[i][j] == \"*\" else print(\".\",end = \" \")\n",
    "        print()\n",
    "    \n",
    "    print()\n",
    "    \n",
    "    for i in range(1, m+1):\n",
    "        for j in range(1, n+1):\n",
    "            print(matrix[i][j],end = \" \")\n",
    "        print()"
   ]
  },
  {
   "cell_type": "code",
   "execution_count": 32,
   "metadata": {},
   "outputs": [
    {
     "name": "stdout",
     "output_type": "stream",
     "text": [
      "请输入一个数字：\n",
      "12\n",
      "479001600\n"
     ]
    }
   ],
   "source": [
    "\n",
    "def fact(x):\n",
    "    if x == 0:\n",
    "        return 1\n",
    "    return x * fact(x - 1)\n",
    "print('请输入一个数字：')\n",
    "x=int(input())\n",
    "print (fact(x))"
   ]
  },
  {
   "cell_type": "code",
   "execution_count": 33,
   "metadata": {},
   "outputs": [
    {
     "name": "stdout",
     "output_type": "stream",
     "text": [
      "2000,2002,2004,2006,2008,2020,2022,2024,2026,2028,2040,2042,2044,2046,2048,2060,2062,2064,2066,2068,2080,2082,2084,2086,2088,2200,2202,2204,2206,2208,2220,2222,2224,2226,2228,2240,2242,2244,2246,2248,2260,2262,2264,2266,2268,2280,2282,2284,2286,2288,2400,2402,2404,2406,2408,2420,2422,2424,2426,2428,2440,2442,2444,2446,2448,2460,2462,2464,2466,2468,2480,2482,2484,2486,2488,2600,2602,2604,2606,2608,2620,2622,2624,2626,2628,2640,2642,2644,2646,2648,2660,2662,2664,2666,2668,2680,2682,2684,2686,2688,2800,2802,2804,2806,2808,2820,2822,2824,2826,2828,2840,2842,2844,2846,2848,2860,2862,2864,2866,2868,2880,2882,2884,2886,2888\n"
     ]
    }
   ],
   "source": [
    "values = []\n",
    "for i in range(1000, 3001):\n",
    "    s = str(i)\n",
    "    if (int(s[0])%2==0) and (int(s[1])%2==0) and (int(s[2])%2==0) and (int(s[3])%2==0):\n",
    "        values.append(s)\n",
    "print (\",\".join(values))"
   ]
  },
  {
   "cell_type": "code",
   "execution_count": 34,
   "metadata": {},
   "outputs": [
    {
     "name": "stdout",
     "output_type": "stream",
     "text": [
      "请输入：\n",
      "45\n",
      "\n"
     ]
    }
   ],
   "source": [
    "import re\n",
    "value = []\n",
    "print(\"请输入：\")\n",
    "items=[x for x in input().split(',')]\n",
    "for p in items:\n",
    "    if len(p)<6 or len(p)>12:\n",
    "        continue\n",
    "    else:\n",
    "        pass\n",
    "    if not re.search(\"[a-z]\",p):\n",
    "        continue\n",
    "    elif not re.search(\"[0-9]\",p):\n",
    "        continue\n",
    "    elif not re.search(\"[A-Z]\",p):\n",
    "        continue\n",
    "    elif not re.search(\"[$#@]\",p):\n",
    "        continue\n",
    "    elif re.search(\"\\s\",p):\n",
    "        continue\n",
    "    else:\n",
    "        pass\n",
    "    value.append(p)\n",
    "print (\",\".join(value))"
   ]
  },
  {
   "cell_type": "code",
   "execution_count": 35,
   "metadata": {},
   "outputs": [
    {
     "name": "stdout",
     "output_type": "stream",
     "text": [
      "please input a sequence of numbers (enter to exit): 45\n",
      "please input a sequence of numbers (enter to exit): 26\n",
      "please input a sequence of numbers (enter to exit): 12\n",
      "please input a sequence of numbers (enter to exit): \n",
      "和:83.0000,平均数:27.6667,中位数:26.0000,方差:13.5236,绝对误差:17.333333,相对误差:0.6265\n"
     ]
    }
   ],
   "source": [
    "# 输入数据\n",
    "def getNum():\n",
    "    nums = []\n",
    "    iNumStr = input('please input a sequence of numbers (enter to exit): ')\n",
    "    while iNumStr != '':\n",
    "        nums.append(eval(iNumStr))\n",
    "        iNumStr = input('please input a sequence of numbers (enter to exit): ')\n",
    "    return nums\n",
    "\n",
    "# 平均数\n",
    "def average(numbers):\n",
    "    return sum(numbers) / len(numbers)\n",
    "\n",
    "# 标准差\n",
    "def dev(numbers, average):\n",
    "    sdev = 0.0\n",
    "    for num in numbers:\n",
    "        sdev += (num - average) ** 2\n",
    "    return pow(sdev / len(numbers), 0.5)\n",
    "\n",
    "# 中位数\n",
    "def median(numbers):\n",
    "    sorted(numbers)\n",
    "    size = len(numbers)\n",
    "    if size % 2 == 0:\n",
    "        return (numbers[size//2-1] + numbers[size//2]) / 2\n",
    "    else:\n",
    "        return numbers[size//2]\n",
    "\n",
    "# 绝对与相对误差\n",
    "def rel_dev(numbers, average):\n",
    "    _max = max(abs(max(numbers) - average), abs(min(numbers) - average))\n",
    "    return _max, _max / average\n",
    "\n",
    "def main():\n",
    "    nums = getNum()\n",
    "    if len(nums) == 0:\n",
    "        print('no data')\n",
    "    else:\n",
    "        ave = average(nums)\n",
    "        devs = rel_dev(nums, ave)\n",
    "        print('和:{:.4f},平均数:{:.4f},中位数:{:.4f},方差:{:.4f},绝对误差:{:4f},相对误差:{:.4f}' \\\n",
    "            .format(sum(nums), ave, median(nums), dev(nums, ave), devs[0], devs[1]))\n",
    "\n",
    "if __name__ == '__main__':\n",
    "    main()"
   ]
  },
  {
   "cell_type": "code",
   "execution_count": 36,
   "metadata": {},
   "outputs": [
    {
     "ename": "SyntaxError",
     "evalue": "Missing parentheses in call to 'print'. Did you mean print(u'开始爬取内容。。。')? (<ipython-input-36-3c49d9428e26>, line 9)",
     "output_type": "error",
     "traceback": [
      "\u001b[1;36m  File \u001b[1;32m\"<ipython-input-36-3c49d9428e26>\"\u001b[1;36m, line \u001b[1;32m9\u001b[0m\n\u001b[1;33m    print u'开始爬取内容。。。'\u001b[0m\n\u001b[1;37m                     ^\u001b[0m\n\u001b[1;31mSyntaxError\u001b[0m\u001b[1;31m:\u001b[0m Missing parentheses in call to 'print'. Did you mean print(u'开始爬取内容。。。')?\n"
     ]
    }
   ],
   "source": [
    "import requests\n",
    "import re\n",
    "import sys\n",
    "reload(sys)\n",
    "sys.setdefaultencoding(\"utf-8\")\n",
    "\n",
    "class func(object):\n",
    "    def __init__(self):\n",
    "        print u'开始爬取内容。。。'\n",
    "\n",
    "#getsource获取网页源代码\n",
    "    def getsource(self,url):\n",
    "        html = requests.get(url)\n",
    "        #print str(html.text)   可以在此打印，来检查是否抓到内容\n",
    "        return html.text\n",
    "\n",
    "#geteverydiv抓取每个课程块的信息\n",
    "    def geteverydiv(self,source):\n",
    "        everydiv = re.findall('(<div class=\"moco-course-wrap\".*?</div>)',source,re.S)\n",
    "        return everydiv\n",
    "\n",
    "#getinfo从每个课程块中提取出课程标题和内容描述\n",
    "    def getinfo(self,eachclass):\n",
    "        info = {}\n",
    "        info['title'] = re.search('<h3>(.*?)</h3>',eachclass,re.S).group(1)\n",
    "        info['content'] = re.search('<p>(.*?)</p>',eachclass,re.S).group(1)\n",
    "        #print info  可以在此打印，来检查是否抓到内容\n",
    "        return info\n",
    "\n",
    "#saveinfo用来保存结果到info.txt文件中\n",
    "    def saveinfo(self,classinfo):\n",
    "        f = open('info.txt','a')\n",
    "        for each in classinfo:\n",
    "            f.writelines('title:' + each['title'] + '\\n')\n",
    "            f.writelines('content:' + each['content'] + '\\n\\n')\n",
    "        f.close()\n",
    "        print \"write file finished\"\n",
    "        \n",
    "#主函数\n",
    "if __name__ == '__main__':\n",
    "    classinfo = []\n",
    "    url = 'http://www.imooc.com/'\n",
    "    testspider = func()\n",
    "    print u'正在处理页面：' + url\n",
    "    html = testspider.getsource(url)\n",
    "    everydiv = testspider.geteverydiv(html)\n",
    "    for each in everydiv:\n",
    "        info = testspider.getinfo(each)\n",
    "        classinfo.append(info)\n",
    "    testspider.saveinfo(classinfo)"
   ]
  },
  {
   "cell_type": "code",
   "execution_count": 37,
   "metadata": {},
   "outputs": [
    {
     "name": "stdout",
     "output_type": "stream",
     "text": [
      "请输入字符串：nxjshdh\n",
      "hnxjsdh\n"
     ]
    }
   ],
   "source": [
    "arr = []\n",
    "result = \"\"\n",
    "myStr = input(\"请输入字符串：\")\n",
    "for string in myStr:\n",
    "    arr.append(string)\n",
    "last = arr[-1]\n",
    "arr.remove(last)\n",
    "arr.insert(0,last)\n",
    "for new in arr:\n",
    "    result = result + new\n",
    "print(result)\n"
   ]
  },
  {
   "cell_type": "code",
   "execution_count": 1,
   "metadata": {},
   "outputs": [
    {
     "name": "stdout",
     "output_type": "stream",
     "text": [
      "请输入数字的总个数:3\n",
      "输入第1个数字:45\n",
      "输入第2个数字:25\n",
      "输入第3个数字:15\n",
      "排序前：[45, 25, 15]\n",
      "排序后：[15, 25, 45]\n"
     ]
    }
   ],
   "source": [
    "arr = []\n",
    "length = int(input(\"请输入数字的总个数:\"))\n",
    "i = 0\n",
    "while i < length:\n",
    "   num =  int(input(\"输入第%d个数字:\"%(i+1)))\n",
    "   arr.append(num)\n",
    "   i+=1\n",
    "print(\"排序前：%s\"%arr)\n",
    "# 对列表排序\n",
    "for i in range(length):\n",
    "    flag = 0\n",
    "    for j in range(1,length):\n",
    "        if arr[j-1] > arr[j]:\n",
    "            arr[j-1],arr[j] = arr[j],arr[j-1]\n",
    "            flag = 1\n",
    "    if not flag:\n",
    "        break\n",
    "print(\"排序后：%s\"%arr)"
   ]
  },
  {
   "cell_type": "code",
   "execution_count": 2,
   "metadata": {},
   "outputs": [
    {
     "name": "stdout",
     "output_type": "stream",
     "text": [
      "请输入列表的总个数:2\n",
      "输入第1个元素:45\n",
      "输入第2个元素:46\n",
      "{'45', '46'}\n"
     ]
    }
   ],
   "source": [
    "arr = []\n",
    "length = int(input(\"请输入列表的总个数:\"))\n",
    "i = 0\n",
    "while i < length:\n",
    "   element =  input(\"输入第%d个元素:\"%(i+1))\n",
    "   arr.append(element)\n",
    "   i+=1\n",
    "# 列表转为集合\n",
    "newList = set(arr)\n",
    "print(newList)"
   ]
  },
  {
   "cell_type": "code",
   "execution_count": 3,
   "metadata": {},
   "outputs": [
    {
     "name": "stdout",
     "output_type": "stream",
     "text": [
      "[[10, 10, 10], [10, 10, 10], [10, 10, 10]]\n"
     ]
    }
   ],
   "source": [
    "\n",
    "def add(a, b):\n",
    "    # 下面两行保证输入的a和b是维数相同的矩阵，根据实际情况不要也可以\n",
    "    assert (len(a) == len(b))\n",
    "    assert (all([len(a[i]) == len(b[i]) == len(a[0]) for i in range(len(a))]))\n",
    "    i, j = len(a), len(a[0])\n",
    "    c = [[0] * j] * i\n",
    "    for m in range(i):\n",
    "        for n in range(j):\n",
    "            c[m][n] = a[m][n] + b[m][n]\n",
    "    return c\n",
    "a = [[1, 2, 3], [4, 5, 6], [7, 8, 9]]\n",
    "b = [[9, 8, 7], [6, 5, 4], [3, 2, 1]]\n",
    "c = add(a, b)\n",
    "print(c)"
   ]
  },
  {
   "cell_type": "code",
   "execution_count": 4,
   "metadata": {},
   "outputs": [
    {
     "name": "stdout",
     "output_type": "stream",
     "text": [
      "输入学生学号：1\n",
      "输入学生姓名：s\n",
      "输入学生学号：2\n",
      "输入学生姓名：w\n",
      "输入学生学号：3\n",
      "输入学生姓名：e\n",
      "排序前：{'1': 's', '2': 'w', '3': 'e'}\n",
      "排序后：[('1', 's'), ('2', 'w'), ('3', 'e')]\n"
     ]
    }
   ],
   "source": [
    "\n",
    "dic = {}\n",
    "i=0\n",
    "while i<3:\n",
    "     number = input(\"输入学生学号：\")\n",
    "     name = input(\"输入学生姓名：\")\n",
    "     dic.__setitem__(number,name)\n",
    "     i+=1\n",
    "print(\"排序前：%s\"%dic)\n",
    "def dict2list(dic:dict):\n",
    "    ''' 将字典转化为列表 '''\n",
    "    keys = dic.keys()\n",
    "    vals = dic.values()\n",
    "    lst = [(key, val) for key, val in zip(keys, vals)]\n",
    "    return lst\n",
    "new = sorted(dict2list(dic), key=lambda x:x[0], reverse=False)\n",
    "print(\"排序后：%s\"%new)"
   ]
  },
  {
   "cell_type": "code",
   "execution_count": 5,
   "metadata": {},
   "outputs": [
    {
     "name": "stdout",
     "output_type": "stream",
     "text": [
      "[12, 91, 27, 45, 6]\n"
     ]
    }
   ],
   "source": [
    "\n",
    "arr1 = [12,3,37,7,91,67,27,45,6]\n",
    "arr2 = [12,3,37,7,91,67,27,45,6]\n",
    "def delPrime(arr1):\n",
    "    for element in arr2:\n",
    "        # 质数大于 1\n",
    "        if element > 1:\n",
    "            # 查看因子\n",
    "            for i in range(2, element):\n",
    "                if (element % i) == 0:\n",
    "                    break\n",
    "            else:\n",
    "                arr1.remove(element)\n",
    "delPrime(arr1)\n",
    "print(arr1)"
   ]
  },
  {
   "cell_type": "code",
   "execution_count": 6,
   "metadata": {},
   "outputs": [
    {
     "name": "stdout",
     "output_type": "stream",
     "text": [
      "请输入一个整数：10\n",
      "0.3821789321789322\n"
     ]
    }
   ],
   "source": [
    "\n",
    "def sum(n):\n",
    "    res = 0\n",
    "    while n >= 1:\n",
    "        if n%2 == 0:\n",
    "            res -= 1.0/(n*(n+1))\n",
    "        else:\n",
    "            res += 1.0/(n*(n+1))\n",
    "        n-=1\n",
    "    return res\n",
    "num = int(input(\"请输入一个整数：\"))\n",
    "print(sum(num))"
   ]
  },
  {
   "cell_type": "code",
   "execution_count": 7,
   "metadata": {},
   "outputs": [
    {
     "name": "stdout",
     "output_type": "stream",
     "text": [
      "能构成三角形\n",
      "不能构成三角形\n"
     ]
    }
   ],
   "source": [
    "\n",
    "def sjx(a, b, c):\n",
    "    if (a + b > c and a + c > b and b + c > a):\n",
    "        return \"能构成三角形\"\n",
    "    else:\n",
    "        return \"不能构成三角形\"\n",
    "result1 = sjx(3, 4, 5)\n",
    "print(result1)\n",
    "result2 = sjx(1, 1, 2)\n",
    "print(result2)"
   ]
  },
  {
   "cell_type": "code",
   "execution_count": 8,
   "metadata": {},
   "outputs": [
    {
     "name": "stdout",
     "output_type": "stream",
     "text": [
      "输入第一个数字: 5\n",
      "输入第二个数字: 18\n",
      "5 和 18 的最小公倍数为 90\n"
     ]
    }
   ],
   "source": [
    "\n",
    "# 定义函数\n",
    "def lcm(x, y):\n",
    "   #  获取最大的数\n",
    "   if x > y:\n",
    "       greater = x\n",
    "   else:\n",
    "       greater = y\n",
    "   while(True):\n",
    "       if((greater % x == 0) and (greater % y == 0)):\n",
    "           lcm = greater\n",
    "           break\n",
    "       greater += 1\n",
    "   return lcm\n",
    "# 获取用户输入\n",
    "num1 = int(input(\"输入第一个数字: \"))\n",
    "num2 = int(input(\"输入第二个数字: \"))\n",
    "print( num1,\"和\", num2,\"的最小公倍数为\", lcm(num1, num2))"
   ]
  },
  {
   "cell_type": "code",
   "execution_count": 10,
   "metadata": {},
   "outputs": [
    {
     "name": "stdout",
     "output_type": "stream",
     "text": [
      "密码簿的功能如下：\n",
      "1.添加\n",
      "2.删除\n",
      "3.修改\n",
      "4.查找\n",
      "请输入要选择的功能：1\n",
      "请输入存入的网址：www.itcast.cn\n",
      "请输入密码：123456\n",
      "{'123456': 'www.itcast.cn'}\n",
      "密码簿的功能如下：\n",
      "1.添加\n",
      "2.删除\n",
      "3.修改\n",
      "4.查找\n",
      "请输入要选择的功能：5\n",
      "密码簿的功能如下：\n",
      "1.添加\n",
      "2.删除\n",
      "3.修改\n",
      "4.查找\n",
      "请输入要选择的功能：5\n",
      "密码簿的功能如下：\n",
      "1.添加\n",
      "2.删除\n",
      "3.修改\n",
      "4.查找\n",
      "请输入要选择的功能：5\n",
      "密码簿的功能如下：\n",
      "1.添加\n",
      "2.删除\n",
      "3.修改\n",
      "4.查找\n",
      "请输入要选择的功能：5\n"
     ]
    }
   ],
   "source": [
    "\n",
    "# 密码薄\n",
    "passwordBook = {}\n",
    "def add(password, value):\n",
    "    if password not in passwordBook.keys():\n",
    "        passwordBook[password] = value\n",
    "        save()\n",
    "    else:\n",
    "        print(\"该密码已存在\")\n",
    "def delete(password):\n",
    "    if password in passwordBook.keys():\n",
    "        del passwordBook[password]\n",
    "        print(passwordBook)\n",
    "        save()\n",
    "    else:\n",
    "        print(\"该密码不存在\")\n",
    "def modify(password, newValue):\n",
    "    if password in passwordBook.keys():\n",
    "        passwordBook[password] = newValue\n",
    "        print(passwordBook)\n",
    "        save()\n",
    "    else:\n",
    "        print(\"该密码不存在\")\n",
    "def find(value):\n",
    "    if value in passwordBook.values():\n",
    "        print(\"该网址存在\")\n",
    "    else:\n",
    "        print(\"该网址不存在\")\n",
    "def save():\n",
    "    f = open(\"password.txt\",\"w\")\n",
    "    f.write(str(passwordBook))\n",
    "    f.close()\n",
    "def printInfo():\n",
    "    print(\"密码簿的功能如下：\")\n",
    "    print(\"1.添加\")\n",
    "    print(\"2.删除\")\n",
    "    print(\"3.修改\")\n",
    "    print(\"4.查找\")\n",
    "i = 0\n",
    "while i<5:\n",
    "    printInfo()\n",
    "    num = int(input(\"请输入要选择的功能：\"))\n",
    "    if num==1:\n",
    "        web = input(\"请输入存入的网址：\")\n",
    "        password1 = input(\"请输入密码：\")\n",
    "        add(password1, web)\n",
    "        print(passwordBook)\n",
    "    elif num==2:\n",
    "        password2 = input(\"请输入密码：\")\n",
    "        delete(password2)\n",
    "    elif num==3:\n",
    "        password3 = input(\"请输入密码：\")\n",
    "        value3 = input(\"请输入新的网址：\")\n",
    "        modify(password3,value3)\n",
    "    elif num==4:\n",
    "        value4 = input(\"请输入要查找的网址：\")\n",
    "        find(value4)\n",
    "    i+=1"
   ]
  },
  {
   "cell_type": "code",
   "execution_count": 11,
   "metadata": {},
   "outputs": [
    {
     "name": "stdout",
     "output_type": "stream",
     "text": [
      "请输入您的身高：173\n",
      "请输入您的体重：56\n",
      "体重不达标\n"
     ]
    }
   ],
   "source": [
    "\n",
    "class HeightException(Exception):\n",
    "    pass\n",
    "try:\n",
    "    height = int(input(\"请输入您的身高：\"))\n",
    "    if height<30 or height>250:\n",
    "        raise HeightException\n",
    "    weight = int(input(\"请输入您的体重：\"))\n",
    "    weightS = height-100\n",
    "    if weight > weightS and weight-weightS < 0.05*weightS:\n",
    "        print(\"体重达标\")\n",
    "    elif weight < weightS and weightS-weight < 0.05*weightS:\n",
    "        print(\"体重达标\")\n",
    "    else:\n",
    "        print(\"体重不达标\")\n",
    "except HeightException:\n",
    "    print(\"您输入的身高有误\")"
   ]
  },
  {
   "cell_type": "code",
   "execution_count": null,
   "metadata": {},
   "outputs": [],
   "source": []
  }
 ],
 "metadata": {
  "kernelspec": {
   "display_name": "Python 3",
   "language": "python",
   "name": "python3"
  },
  "language_info": {
   "codemirror_mode": {
    "name": "ipython",
    "version": 3
   },
   "file_extension": ".py",
   "mimetype": "text/x-python",
   "name": "python",
   "nbconvert_exporter": "python",
   "pygments_lexer": "ipython3",
   "version": "3.7.4"
  }
 },
 "nbformat": 4,
 "nbformat_minor": 2
}
