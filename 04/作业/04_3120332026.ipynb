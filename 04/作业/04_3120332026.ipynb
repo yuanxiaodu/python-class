{
 "cells": [
  {
   "cell_type": "code",
   "execution_count": 1,
   "metadata": {},
   "outputs": [
    {
     "data": {
      "text/plain": [
       "'E:\\\\python\\\\python.exe'"
      ]
     },
     "execution_count": 1,
     "metadata": {},
     "output_type": "execute_result"
    }
   ],
   "source": []
  },
  {
   "cell_type": "code",
   "execution_count": 4,
   "metadata": {},
   "outputs": [
    {
     "name": "stdout",
     "output_type": "stream",
     "text": [
      "arg1:('Zed', 'Shaw'),arg2:('Zed', 'Shaw')\n",
      "arg1:Zed,arg2:Shaw\n",
      "arg1:First!\n",
      "I got nothin'.\n"
     ]
    }
   ],
   "source": [
    "def print_two(*args):\n",
    "    arg1=arg2=args\n",
    "    print(f\"arg1:{arg1},arg2:{arg2}\")\n",
    "def print_two_again(arg1,arg2):\n",
    "    print(f\"arg1:{arg1},arg2:{arg2}\")\n",
    "def print_one(arg1):\n",
    "    print(f\"arg1:{arg1}\")\n",
    "def print_none():\n",
    "    print(\"I got nothin'.\")\n",
    "print_two(\"Zed\",\"Shaw\")\n",
    "print_two_again(\"Zed\",\"Shaw\")\n",
    "print_one(\"First!\")\n",
    "print_none()"
   ]
  },
  {
   "cell_type": "code",
   "execution_count": 5,
   "metadata": {},
   "outputs": [
    {
     "name": "stdout",
     "output_type": "stream",
     "text": [
      "We can just give the function numbers directetly.\n",
      "You have 20cheese!\n",
      "You have30boxes of crackers!\n",
      "Man that is enough for a party!\n",
      "Get a blanket.\n",
      "\n",
      "OR,we can use variables from our script.\n",
      "You have 10cheese!\n",
      "You have50boxes of crackers!\n",
      "Man that is enough for a party!\n",
      "Get a blanket.\n",
      "\n",
      "We can even do math inside too:\n",
      "You have 30cheese!\n",
      "You have11boxes of crackers!\n",
      "Man that is enough for a party!\n",
      "Get a blanket.\n",
      "\n",
      "And we can combine the two,variables and math:\n",
      "You have 110cheese!\n",
      "You have1050boxes of crackers!\n",
      "Man that is enough for a party!\n",
      "Get a blanket.\n",
      "\n"
     ]
    }
   ],
   "source": [
    "def print_two(*args):\n",
    "    arg1=arg2=args\n",
    "    print(f\"arg1:{arg1},arg2:{arg2}\")\n",
    "def print_two_again(arg1,arg2):\n",
    "    print(f\"arg1:{arg1},arg2:{arg2}\")\n",
    "def print_one(arg1):\n",
    "    print(f\"arg1:{arg1}\")\n",
    "def print_none():\n",
    "    print(\"I got nothin'.\")\n",
    "print_two(\"Zed\",\"Shaw\")\n",
    "print_two_again(\"Zed\",\"Shaw\")\n",
    "print_one(\"First!\")\n",
    "print_none()"
   ]
  },
  {
   "cell_type": "code",
   "execution_count": 2,
   "metadata": {},
   "outputs": [
    {
     "name": "stdout",
     "output_type": "stream",
     "text": [
      "OTHER implicit()\n",
      "CHILD override()\n",
      "CHILD, BEFORE OTHER altered()\n",
      "OTHER altered()\n",
      "CHILD, AFTER OTHER altered()\n"
     ]
    }
   ],
   "source": [
    "class Other(object):\n",
    "    def override(self):\n",
    "        print(\"OTHER override()\")\n",
    "    def implicit(self):\n",
    "        print(\"OTHER implicit()\")\n",
    "    def altered(self):\n",
    "        print(\"OTHER altered()\")\n",
    "        \n",
    "class Child(object):\n",
    "    def __init__(self): \n",
    "        self.other = Other()\n",
    "    def implicit(self): \n",
    "        self.other.implicit()\n",
    "    def override(self): \n",
    "        print(\"CHILD override()\")\n",
    "    def altered(self):\n",
    "        print(\"CHILD, BEFORE OTHER altered()\") \n",
    "        self.other.altered()\n",
    "        print(\"CHILD, AFTER OTHER altered()\")\n",
    "        \n",
    "son=Child()\n",
    "son.implicit()\n",
    "son.override()\n",
    "son.altered()"
   ]
  },
  {
   "cell_type": "code",
   "execution_count": null,
   "metadata": {},
   "outputs": [],
   "source": [
    "age=input(\"Please enter your age:\")\n",
    "print(\"hello,\"+age+\"!\")\n"
   ]
  },
  {
   "cell_type": "markdown",
   "metadata": {},
   "source": [
    "练习"
   ]
  },
  {
   "cell_type": "code",
   "execution_count": null,
   "metadata": {},
   "outputs": [],
   "source": [
    "print(\"new homework\")"
   ]
  },
  {
   "cell_type": "code",
   "execution_count": 2,
   "metadata": {},
   "outputs": [
    {
     "name": "stdout",
     "output_type": "stream",
     "text": [
      "1\n",
      "2\n",
      "3\n",
      "4\n",
      "5\n",
      "6\n",
      "7\n",
      "8\n",
      "9\n",
      "10\n"
     ]
    }
   ],
   "source": [
    "\n",
    "current_number=1\n",
    "while current_number<=10:\n",
    "    print(current_number)\n",
    "    current_number+=1"
   ]
  },
  {
   "cell_type": "code",
   "execution_count": 3,
   "metadata": {},
   "outputs": [
    {
     "name": "stdout",
     "output_type": "stream",
     "text": [
      "1\n",
      "2\n",
      "3\n",
      "4\n",
      "5\n",
      "6\n",
      "7\n",
      "8\n",
      "9\n",
      "10\n",
      "11\n",
      "12\n",
      "13\n",
      "14\n",
      "15\n",
      "16\n",
      "17\n",
      "18\n",
      "19\n",
      "20\n",
      "21\n",
      "22\n",
      "23\n",
      "24\n",
      "25\n",
      "26\n",
      "27\n",
      "28\n",
      "29\n",
      "30\n",
      "31\n",
      "32\n",
      "33\n",
      "34\n",
      "35\n",
      "36\n",
      "37\n",
      "38\n",
      "39\n",
      "40\n",
      "41\n",
      "42\n",
      "43\n",
      "44\n",
      "45\n",
      "46\n",
      "47\n",
      "48\n",
      "49\n",
      "50\n",
      "51\n",
      "52\n",
      "53\n",
      "54\n",
      "55\n",
      "56\n",
      "57\n",
      "58\n",
      "59\n",
      "60\n",
      "61\n",
      "62\n",
      "63\n",
      "64\n",
      "65\n",
      "66\n",
      "67\n",
      "68\n",
      "69\n",
      "70\n",
      "71\n",
      "72\n",
      "73\n",
      "74\n",
      "75\n",
      "76\n",
      "77\n",
      "78\n",
      "79\n",
      "80\n",
      "81\n",
      "82\n",
      "83\n",
      "84\n",
      "85\n",
      "86\n",
      "87\n",
      "88\n",
      "89\n",
      "90\n",
      "91\n",
      "92\n",
      "93\n",
      "94\n",
      "95\n",
      "96\n",
      "97\n",
      "98\n",
      "99\n",
      "100\n",
      "101\n",
      "102\n",
      "103\n",
      "104\n",
      "105\n",
      "106\n",
      "107\n",
      "108\n",
      "109\n",
      "110\n",
      "111\n",
      "112\n",
      "113\n",
      "114\n",
      "115\n",
      "116\n",
      "117\n",
      "118\n",
      "119\n",
      "120\n",
      "121\n",
      "122\n",
      "123\n",
      "124\n",
      "125\n",
      "126\n",
      "127\n",
      "128\n",
      "129\n",
      "130\n",
      "131\n",
      "132\n",
      "133\n",
      "134\n",
      "135\n",
      "136\n",
      "137\n",
      "138\n",
      "139\n",
      "140\n",
      "141\n",
      "142\n",
      "143\n",
      "144\n",
      "145\n",
      "146\n",
      "147\n",
      "148\n",
      "149\n",
      "150\n",
      "151\n",
      "152\n",
      "153\n",
      "154\n",
      "155\n",
      "156\n",
      "157\n",
      "158\n",
      "159\n",
      "160\n",
      "161\n",
      "162\n",
      "163\n",
      "164\n",
      "165\n",
      "166\n",
      "167\n",
      "168\n",
      "169\n",
      "170\n",
      "171\n",
      "172\n",
      "173\n",
      "174\n",
      "175\n",
      "176\n",
      "177\n",
      "178\n",
      "179\n",
      "180\n",
      "181\n",
      "182\n",
      "183\n",
      "184\n",
      "185\n",
      "186\n",
      "187\n",
      "188\n",
      "189\n",
      "190\n",
      "191\n",
      "192\n",
      "193\n",
      "194\n",
      "195\n",
      "196\n",
      "197\n",
      "198\n",
      "199\n",
      "200\n"
     ]
    }
   ],
   "source": [
    "\n",
    "current_number=1\n",
    "while current_number<=200:\n",
    "    print(current_number)\n",
    "    current_number+=1"
   ]
  },
  {
   "cell_type": "code",
   "execution_count": 1,
   "metadata": {},
   "outputs": [
    {
     "name": "stdout",
     "output_type": "stream",
     "text": [
      "1到100 之和为：1 \n",
      "1到100 之和为：3 \n",
      "1到100 之和为：6 \n",
      "1到100 之和为：10 \n",
      "1到100 之和为：15 \n",
      "1到100 之和为：21 \n",
      "1到100 之和为：28 \n",
      "1到100 之和为：36 \n",
      "1到100 之和为：45 \n",
      "1到100 之和为：55 \n",
      "1到100 之和为：66 \n",
      "1到100 之和为：78 \n",
      "1到100 之和为：91 \n",
      "1到100 之和为：105 \n",
      "1到100 之和为：120 \n",
      "1到100 之和为：136 \n",
      "1到100 之和为：153 \n",
      "1到100 之和为：171 \n",
      "1到100 之和为：190 \n",
      "1到100 之和为：210 \n",
      "1到100 之和为：231 \n",
      "1到100 之和为：253 \n",
      "1到100 之和为：276 \n",
      "1到100 之和为：300 \n",
      "1到100 之和为：325 \n",
      "1到100 之和为：351 \n",
      "1到100 之和为：378 \n",
      "1到100 之和为：406 \n",
      "1到100 之和为：435 \n",
      "1到100 之和为：465 \n",
      "1到100 之和为：496 \n",
      "1到100 之和为：528 \n",
      "1到100 之和为：561 \n",
      "1到100 之和为：595 \n",
      "1到100 之和为：630 \n",
      "1到100 之和为：666 \n",
      "1到100 之和为：703 \n",
      "1到100 之和为：741 \n",
      "1到100 之和为：780 \n",
      "1到100 之和为：820 \n",
      "1到100 之和为：861 \n",
      "1到100 之和为：903 \n",
      "1到100 之和为：946 \n",
      "1到100 之和为：990 \n",
      "1到100 之和为：1035 \n",
      "1到100 之和为：1081 \n",
      "1到100 之和为：1128 \n",
      "1到100 之和为：1176 \n",
      "1到100 之和为：1225 \n",
      "1到100 之和为：1275 \n",
      "1到100 之和为：1326 \n",
      "1到100 之和为：1378 \n",
      "1到100 之和为：1431 \n",
      "1到100 之和为：1485 \n",
      "1到100 之和为：1540 \n",
      "1到100 之和为：1596 \n",
      "1到100 之和为：1653 \n",
      "1到100 之和为：1711 \n",
      "1到100 之和为：1770 \n",
      "1到100 之和为：1830 \n",
      "1到100 之和为：1891 \n",
      "1到100 之和为：1953 \n",
      "1到100 之和为：2016 \n",
      "1到100 之和为：2080 \n",
      "1到100 之和为：2145 \n",
      "1到100 之和为：2211 \n",
      "1到100 之和为：2278 \n",
      "1到100 之和为：2346 \n",
      "1到100 之和为：2415 \n",
      "1到100 之和为：2485 \n",
      "1到100 之和为：2556 \n",
      "1到100 之和为：2628 \n",
      "1到100 之和为：2701 \n",
      "1到100 之和为：2775 \n",
      "1到100 之和为：2850 \n",
      "1到100 之和为：2926 \n",
      "1到100 之和为：3003 \n",
      "1到100 之和为：3081 \n",
      "1到100 之和为：3160 \n",
      "1到100 之和为：3240 \n",
      "1到100 之和为：3321 \n",
      "1到100 之和为：3403 \n",
      "1到100 之和为：3486 \n",
      "1到100 之和为：3570 \n",
      "1到100 之和为：3655 \n",
      "1到100 之和为：3741 \n",
      "1到100 之和为：3828 \n",
      "1到100 之和为：3916 \n",
      "1到100 之和为：4005 \n",
      "1到100 之和为：4095 \n",
      "1到100 之和为：4186 \n",
      "1到100 之和为：4278 \n",
      "1到100 之和为：4371 \n",
      "1到100 之和为：4465 \n",
      "1到100 之和为：4560 \n",
      "1到100 之和为：4656 \n",
      "1到100 之和为：4753 \n",
      "1到100 之和为：4851 \n",
      "1到100 之和为：4950 \n",
      "1到100 之和为：5050 \n"
     ]
    }
   ],
   "source": [
    "n=100\n",
    "\n",
    "sum=0\n",
    "counter=1\n",
    "while counter<=n:\n",
    "    sum=sum+counter\n",
    "    counter+=1\n",
    "    print(\"1到%d 之和为：%d \"%(n,sum))"
   ]
  },
  {
   "cell_type": "code",
   "execution_count": 2,
   "metadata": {},
   "outputs": [
    {
     "name": "stdout",
     "output_type": "stream",
     "text": [
      "1到300 之和为：1 \n",
      "1到300 之和为：3 \n",
      "1到300 之和为：6 \n",
      "1到300 之和为：10 \n",
      "1到300 之和为：15 \n",
      "1到300 之和为：21 \n",
      "1到300 之和为：28 \n",
      "1到300 之和为：36 \n",
      "1到300 之和为：45 \n",
      "1到300 之和为：55 \n",
      "1到300 之和为：66 \n",
      "1到300 之和为：78 \n",
      "1到300 之和为：91 \n",
      "1到300 之和为：105 \n",
      "1到300 之和为：120 \n",
      "1到300 之和为：136 \n",
      "1到300 之和为：153 \n",
      "1到300 之和为：171 \n",
      "1到300 之和为：190 \n",
      "1到300 之和为：210 \n",
      "1到300 之和为：231 \n",
      "1到300 之和为：253 \n",
      "1到300 之和为：276 \n",
      "1到300 之和为：300 \n",
      "1到300 之和为：325 \n",
      "1到300 之和为：351 \n",
      "1到300 之和为：378 \n",
      "1到300 之和为：406 \n",
      "1到300 之和为：435 \n",
      "1到300 之和为：465 \n",
      "1到300 之和为：496 \n",
      "1到300 之和为：528 \n",
      "1到300 之和为：561 \n",
      "1到300 之和为：595 \n",
      "1到300 之和为：630 \n",
      "1到300 之和为：666 \n",
      "1到300 之和为：703 \n",
      "1到300 之和为：741 \n",
      "1到300 之和为：780 \n",
      "1到300 之和为：820 \n",
      "1到300 之和为：861 \n",
      "1到300 之和为：903 \n",
      "1到300 之和为：946 \n",
      "1到300 之和为：990 \n",
      "1到300 之和为：1035 \n",
      "1到300 之和为：1081 \n",
      "1到300 之和为：1128 \n",
      "1到300 之和为：1176 \n",
      "1到300 之和为：1225 \n",
      "1到300 之和为：1275 \n",
      "1到300 之和为：1326 \n",
      "1到300 之和为：1378 \n",
      "1到300 之和为：1431 \n",
      "1到300 之和为：1485 \n",
      "1到300 之和为：1540 \n",
      "1到300 之和为：1596 \n",
      "1到300 之和为：1653 \n",
      "1到300 之和为：1711 \n",
      "1到300 之和为：1770 \n",
      "1到300 之和为：1830 \n",
      "1到300 之和为：1891 \n",
      "1到300 之和为：1953 \n",
      "1到300 之和为：2016 \n",
      "1到300 之和为：2080 \n",
      "1到300 之和为：2145 \n",
      "1到300 之和为：2211 \n",
      "1到300 之和为：2278 \n",
      "1到300 之和为：2346 \n",
      "1到300 之和为：2415 \n",
      "1到300 之和为：2485 \n",
      "1到300 之和为：2556 \n",
      "1到300 之和为：2628 \n",
      "1到300 之和为：2701 \n",
      "1到300 之和为：2775 \n",
      "1到300 之和为：2850 \n",
      "1到300 之和为：2926 \n",
      "1到300 之和为：3003 \n",
      "1到300 之和为：3081 \n",
      "1到300 之和为：3160 \n",
      "1到300 之和为：3240 \n",
      "1到300 之和为：3321 \n",
      "1到300 之和为：3403 \n",
      "1到300 之和为：3486 \n",
      "1到300 之和为：3570 \n",
      "1到300 之和为：3655 \n",
      "1到300 之和为：3741 \n",
      "1到300 之和为：3828 \n",
      "1到300 之和为：3916 \n",
      "1到300 之和为：4005 \n",
      "1到300 之和为：4095 \n",
      "1到300 之和为：4186 \n",
      "1到300 之和为：4278 \n",
      "1到300 之和为：4371 \n",
      "1到300 之和为：4465 \n",
      "1到300 之和为：4560 \n",
      "1到300 之和为：4656 \n",
      "1到300 之和为：4753 \n",
      "1到300 之和为：4851 \n",
      "1到300 之和为：4950 \n",
      "1到300 之和为：5050 \n",
      "1到300 之和为：5151 \n",
      "1到300 之和为：5253 \n",
      "1到300 之和为：5356 \n",
      "1到300 之和为：5460 \n",
      "1到300 之和为：5565 \n",
      "1到300 之和为：5671 \n",
      "1到300 之和为：5778 \n",
      "1到300 之和为：5886 \n",
      "1到300 之和为：5995 \n",
      "1到300 之和为：6105 \n",
      "1到300 之和为：6216 \n",
      "1到300 之和为：6328 \n",
      "1到300 之和为：6441 \n",
      "1到300 之和为：6555 \n",
      "1到300 之和为：6670 \n",
      "1到300 之和为：6786 \n",
      "1到300 之和为：6903 \n",
      "1到300 之和为：7021 \n",
      "1到300 之和为：7140 \n",
      "1到300 之和为：7260 \n",
      "1到300 之和为：7381 \n",
      "1到300 之和为：7503 \n",
      "1到300 之和为：7626 \n",
      "1到300 之和为：7750 \n",
      "1到300 之和为：7875 \n",
      "1到300 之和为：8001 \n",
      "1到300 之和为：8128 \n",
      "1到300 之和为：8256 \n",
      "1到300 之和为：8385 \n",
      "1到300 之和为：8515 \n",
      "1到300 之和为：8646 \n",
      "1到300 之和为：8778 \n",
      "1到300 之和为：8911 \n",
      "1到300 之和为：9045 \n",
      "1到300 之和为：9180 \n",
      "1到300 之和为：9316 \n",
      "1到300 之和为：9453 \n",
      "1到300 之和为：9591 \n",
      "1到300 之和为：9730 \n",
      "1到300 之和为：9870 \n",
      "1到300 之和为：10011 \n",
      "1到300 之和为：10153 \n",
      "1到300 之和为：10296 \n",
      "1到300 之和为：10440 \n",
      "1到300 之和为：10585 \n",
      "1到300 之和为：10731 \n",
      "1到300 之和为：10878 \n",
      "1到300 之和为：11026 \n",
      "1到300 之和为：11175 \n",
      "1到300 之和为：11325 \n",
      "1到300 之和为：11476 \n",
      "1到300 之和为：11628 \n",
      "1到300 之和为：11781 \n",
      "1到300 之和为：11935 \n",
      "1到300 之和为：12090 \n",
      "1到300 之和为：12246 \n",
      "1到300 之和为：12403 \n",
      "1到300 之和为：12561 \n",
      "1到300 之和为：12720 \n",
      "1到300 之和为：12880 \n",
      "1到300 之和为：13041 \n",
      "1到300 之和为：13203 \n",
      "1到300 之和为：13366 \n",
      "1到300 之和为：13530 \n",
      "1到300 之和为：13695 \n",
      "1到300 之和为：13861 \n",
      "1到300 之和为：14028 \n",
      "1到300 之和为：14196 \n",
      "1到300 之和为：14365 \n",
      "1到300 之和为：14535 \n",
      "1到300 之和为：14706 \n",
      "1到300 之和为：14878 \n",
      "1到300 之和为：15051 \n",
      "1到300 之和为：15225 \n",
      "1到300 之和为：15400 \n",
      "1到300 之和为：15576 \n",
      "1到300 之和为：15753 \n",
      "1到300 之和为：15931 \n",
      "1到300 之和为：16110 \n",
      "1到300 之和为：16290 \n",
      "1到300 之和为：16471 \n",
      "1到300 之和为：16653 \n",
      "1到300 之和为：16836 \n",
      "1到300 之和为：17020 \n",
      "1到300 之和为：17205 \n",
      "1到300 之和为：17391 \n",
      "1到300 之和为：17578 \n",
      "1到300 之和为：17766 \n",
      "1到300 之和为：17955 \n",
      "1到300 之和为：18145 \n",
      "1到300 之和为：18336 \n",
      "1到300 之和为：18528 \n",
      "1到300 之和为：18721 \n",
      "1到300 之和为：18915 \n",
      "1到300 之和为：19110 \n",
      "1到300 之和为：19306 \n",
      "1到300 之和为：19503 \n",
      "1到300 之和为：19701 \n",
      "1到300 之和为：19900 \n",
      "1到300 之和为：20100 \n",
      "1到300 之和为：20301 \n",
      "1到300 之和为：20503 \n",
      "1到300 之和为：20706 \n",
      "1到300 之和为：20910 \n",
      "1到300 之和为：21115 \n",
      "1到300 之和为：21321 \n",
      "1到300 之和为：21528 \n",
      "1到300 之和为：21736 \n",
      "1到300 之和为：21945 \n",
      "1到300 之和为：22155 \n",
      "1到300 之和为：22366 \n",
      "1到300 之和为：22578 \n",
      "1到300 之和为：22791 \n",
      "1到300 之和为：23005 \n",
      "1到300 之和为：23220 \n",
      "1到300 之和为：23436 \n",
      "1到300 之和为：23653 \n",
      "1到300 之和为：23871 \n",
      "1到300 之和为：24090 \n",
      "1到300 之和为：24310 \n",
      "1到300 之和为：24531 \n",
      "1到300 之和为：24753 \n",
      "1到300 之和为：24976 \n",
      "1到300 之和为：25200 \n",
      "1到300 之和为：25425 \n",
      "1到300 之和为：25651 \n",
      "1到300 之和为：25878 \n",
      "1到300 之和为：26106 \n",
      "1到300 之和为：26335 \n",
      "1到300 之和为：26565 \n",
      "1到300 之和为：26796 \n",
      "1到300 之和为：27028 \n",
      "1到300 之和为：27261 \n",
      "1到300 之和为：27495 \n",
      "1到300 之和为：27730 \n",
      "1到300 之和为：27966 \n",
      "1到300 之和为：28203 \n",
      "1到300 之和为：28441 \n",
      "1到300 之和为：28680 \n",
      "1到300 之和为：28920 \n",
      "1到300 之和为：29161 \n",
      "1到300 之和为：29403 \n",
      "1到300 之和为：29646 \n",
      "1到300 之和为：29890 \n",
      "1到300 之和为：30135 \n",
      "1到300 之和为：30381 \n",
      "1到300 之和为：30628 \n",
      "1到300 之和为：30876 \n",
      "1到300 之和为：31125 \n",
      "1到300 之和为：31375 \n",
      "1到300 之和为：31626 \n",
      "1到300 之和为：31878 \n",
      "1到300 之和为：32131 \n",
      "1到300 之和为：32385 \n",
      "1到300 之和为：32640 \n",
      "1到300 之和为：32896 \n",
      "1到300 之和为：33153 \n",
      "1到300 之和为：33411 \n",
      "1到300 之和为：33670 \n",
      "1到300 之和为：33930 \n",
      "1到300 之和为：34191 \n",
      "1到300 之和为：34453 \n",
      "1到300 之和为：34716 \n",
      "1到300 之和为：34980 \n",
      "1到300 之和为：35245 \n",
      "1到300 之和为：35511 \n",
      "1到300 之和为：35778 \n",
      "1到300 之和为：36046 \n",
      "1到300 之和为：36315 \n",
      "1到300 之和为：36585 \n",
      "1到300 之和为：36856 \n",
      "1到300 之和为：37128 \n",
      "1到300 之和为：37401 \n",
      "1到300 之和为：37675 \n",
      "1到300 之和为：37950 \n",
      "1到300 之和为：38226 \n",
      "1到300 之和为：38503 \n",
      "1到300 之和为：38781 \n",
      "1到300 之和为：39060 \n",
      "1到300 之和为：39340 \n",
      "1到300 之和为：39621 \n",
      "1到300 之和为：39903 \n",
      "1到300 之和为：40186 \n",
      "1到300 之和为：40470 \n",
      "1到300 之和为：40755 \n",
      "1到300 之和为：41041 \n",
      "1到300 之和为：41328 \n",
      "1到300 之和为：41616 \n",
      "1到300 之和为：41905 \n",
      "1到300 之和为：42195 \n",
      "1到300 之和为：42486 \n",
      "1到300 之和为：42778 \n",
      "1到300 之和为：43071 \n",
      "1到300 之和为：43365 \n",
      "1到300 之和为：43660 \n",
      "1到300 之和为：43956 \n",
      "1到300 之和为：44253 \n",
      "1到300 之和为：44551 \n",
      "1到300 之和为：44850 \n",
      "1到300 之和为：45150 \n"
     ]
    }
   ],
   "source": [
    "n=300\n",
    "\n",
    "sum=0\n",
    "counter=1\n",
    "while counter<=n:\n",
    "    sum=sum+counter\n",
    "    counter+=1\n",
    "    print(\"1到%d 之和为：%d \"%(n,sum))"
   ]
  },
  {
   "cell_type": "code",
   "execution_count": 3,
   "metadata": {},
   "outputs": [
    {
     "name": "stdout",
     "output_type": "stream",
     "text": [
      "3\n",
      "6\n",
      "9\n",
      "12\n",
      "15\n",
      "18\n",
      "21\n",
      "24\n",
      "27\n",
      "30\n"
     ]
    }
   ],
   "source": [
    "#3的倍数\n",
    "numbers=[]\n",
    "for value in range(3,31,3):\n",
    "    print(value)"
   ]
  },
  {
   "cell_type": "code",
   "execution_count": 4,
   "metadata": {},
   "outputs": [
    {
     "name": "stdout",
     "output_type": "stream",
     "text": [
      "3\n",
      "6\n",
      "9\n",
      "12\n",
      "15\n",
      "18\n",
      "21\n",
      "24\n",
      "27\n",
      "30\n"
     ]
    }
   ],
   "source": [
    "#4的倍数\n",
    "numbers=[]\n",
    "for value in range(3,31,3):\n",
    "    print(value)"
   ]
  },
  {
   "cell_type": "code",
   "execution_count": 6,
   "metadata": {},
   "outputs": [
    {
     "name": "stdout",
     "output_type": "stream",
     "text": [
      "3\n",
      "6\n",
      "9\n",
      "12\n",
      "15\n",
      "18\n",
      "21\n",
      "24\n",
      "27\n",
      "30\n"
     ]
    }
   ],
   "source": [
    "#5的倍数\n",
    "numbers=[]\n",
    "for value in range(3,31,3):\n",
    "    print(value)\n"
   ]
  },
  {
   "cell_type": "code",
   "execution_count": 7,
   "metadata": {},
   "outputs": [
    {
     "name": "stdout",
     "output_type": "stream",
     "text": [
      "[8]\n",
      "[8, 16]\n",
      "[8, 16, 24]\n",
      "[8, 16, 24, 32]\n",
      "[8, 16, 24, 32, 40]\n",
      "[8, 16, 24, 32, 40, 48]\n",
      "[8, 16, 24, 32, 40, 48, 56]\n",
      "[8, 16, 24, 32, 40, 48, 56, 64]\n",
      "[8, 16, 24, 32, 40, 48, 56, 64, 72]\n",
      "[8, 16, 24, 32, 40, 48, 56, 64, 72, 80]\n"
     ]
    }
   ],
   "source": [
    "#立方\n",
    "squares=[]\n",
    "for value in range(1,11):\n",
    "    squares.append(value*2**3)\n",
    "    \n",
    "    print(squares)"
   ]
  },
  {
   "cell_type": "code",
   "execution_count": 8,
   "metadata": {},
   "outputs": [
    {
     "name": "stdout",
     "output_type": "stream",
     "text": [
      "[8]\n",
      "[8, 16]\n",
      "[8, 16, 24]\n",
      "[8, 16, 24, 32]\n",
      "[8, 16, 24, 32, 40]\n",
      "[8, 16, 24, 32, 40, 48]\n",
      "[8, 16, 24, 32, 40, 48, 56]\n",
      "[8, 16, 24, 32, 40, 48, 56, 64]\n",
      "[8, 16, 24, 32, 40, 48, 56, 64, 72]\n",
      "[8, 16, 24, 32, 40, 48, 56, 64, 72, 80]\n",
      "[8, 16, 24, 32, 40, 48, 56, 64, 72, 80, 88]\n",
      "[8, 16, 24, 32, 40, 48, 56, 64, 72, 80, 88, 96]\n",
      "[8, 16, 24, 32, 40, 48, 56, 64, 72, 80, 88, 96, 104]\n",
      "[8, 16, 24, 32, 40, 48, 56, 64, 72, 80, 88, 96, 104, 112]\n",
      "[8, 16, 24, 32, 40, 48, 56, 64, 72, 80, 88, 96, 104, 112, 120]\n",
      "[8, 16, 24, 32, 40, 48, 56, 64, 72, 80, 88, 96, 104, 112, 120, 128]\n",
      "[8, 16, 24, 32, 40, 48, 56, 64, 72, 80, 88, 96, 104, 112, 120, 128, 136]\n",
      "[8, 16, 24, 32, 40, 48, 56, 64, 72, 80, 88, 96, 104, 112, 120, 128, 136, 144]\n",
      "[8, 16, 24, 32, 40, 48, 56, 64, 72, 80, 88, 96, 104, 112, 120, 128, 136, 144, 152]\n"
     ]
    }
   ],
   "source": [
    "#立方\n",
    "squares=[]\n",
    "for value in range(1,20):\n",
    "    squares.append(value*2**3)\n",
    "    \n",
    "    print(squares)"
   ]
  },
  {
   "cell_type": "code",
   "execution_count": 9,
   "metadata": {},
   "outputs": [
    {
     "name": "stdout",
     "output_type": "stream",
     "text": [
      "[(0, 'apple'), (1, 'orange'), (2, 'apple'), (3, 'pear'), (4, 'orange'), (5, 'banana')]\n",
      "0----------apple\n",
      "1----------orange\n",
      "2----------apple\n",
      "3----------pear\n",
      "4----------orange\n",
      "5----------banana\n"
     ]
    }
   ],
   "source": [
    "\n",
    "basket = ['apple', 'orange', 'apple', 'pear', 'orange', 'banana']\n",
    "print(list(enumerate(basket)))\n",
    "for i, v in enumerate(basket):\n",
    "    print(f'{i}{\"-\"*10}{v}')"
   ]
  },
  {
   "cell_type": "code",
   "execution_count": 10,
   "metadata": {},
   "outputs": [
    {
     "name": "stdout",
     "output_type": "stream",
     "text": [
      "[(0, 'apple'), (1, 'pink'), (2, 'apple'), (3, 'pear'), (4, 'orange'), (5, 'banana')]\n",
      "0----------apple\n",
      "1----------pink\n",
      "2----------apple\n",
      "3----------pear\n",
      "4----------orange\n",
      "5----------banana\n"
     ]
    }
   ],
   "source": [
    "\n",
    "basket = ['apple', 'pink', 'apple', 'pear', 'orange', 'banana']\n",
    "print(list(enumerate(basket)))\n",
    "for i, v in enumerate(basket):\n",
    "    print(f'{i}{\"-\"*10}{v}')"
   ]
  },
  {
   "cell_type": "code",
   "execution_count": 11,
   "metadata": {},
   "outputs": [
    {
     "name": "stdout",
     "output_type": "stream",
     "text": [
      "0*10 is 0\n",
      "1*11 is 11\n",
      "2*12 is 24\n",
      "3*13 is 39\n",
      "4*14 is 56\n",
      "5*15 is 75\n",
      "6*16 is 96\n",
      "7*17 is 119\n",
      "8*18 is 144\n",
      "9*19 is 171\n"
     ]
    }
   ],
   "source": [
    "r1 = range(10)\n",
    "r2 = range(10,20)\n",
    "for i,j in zip(r1,r2):\n",
    "    print(f'{i}*{j} is {i * j}')"
   ]
  },
  {
   "cell_type": "code",
   "execution_count": 12,
   "metadata": {},
   "outputs": [
    {
     "name": "stdout",
     "output_type": "stream",
     "text": [
      "0*15 is 0\n",
      "1*16 is 16\n",
      "2*17 is 34\n",
      "3*18 is 54\n",
      "4*19 is 76\n",
      "5*20 is 100\n",
      "6*21 is 126\n",
      "7*22 is 154\n",
      "8*23 is 184\n",
      "9*24 is 216\n",
      "10*25 is 250\n",
      "11*26 is 286\n",
      "12*27 is 324\n",
      "13*28 is 364\n",
      "14*29 is 406\n"
     ]
    }
   ],
   "source": [
    "r1 = range(15)\n",
    "r2 = range(15,30)\n",
    "for i,j in zip(r1,r2):\n",
    "    print(f'{i}*{j} is {i * j}')"
   ]
  },
  {
   "cell_type": "code",
   "execution_count": 17,
   "metadata": {},
   "outputs": [
    {
     "name": "stdout",
     "output_type": "stream",
     "text": [
      "[0, 1, 2, 3, 4, 'Hello', 'World']\n",
      "0_1_2_3_4_Hello_World\n"
     ]
    }
   ],
   "source": [
    "args = [*range(5), 'Hello', 'World']\n",
    "print(args)\n",
    "print(*args, sep='_')"
   ]
  },
  {
   "cell_type": "code",
   "execution_count": 18,
   "metadata": {},
   "outputs": [
    {
     "name": "stdout",
     "output_type": "stream",
     "text": [
      "[0, 1, 2, 3, 4, 5, 6, 7, 8, 9, 10, 11, 12, 13, 14, 15, 16, 17, 18, 19, 'Hello', 'World']\n",
      "0_1_2_3_4_5_6_7_8_9_10_11_12_13_14_15_16_17_18_19_Hello_World\n"
     ]
    }
   ],
   "source": [
    "args = [*range(20), 'Hello', 'World']\n",
    "print(args)\n",
    "print(*args, sep='_')"
   ]
  },
  {
   "cell_type": "code",
   "execution_count": 19,
   "metadata": {},
   "outputs": [
    {
     "data": {
      "text/plain": [
       "9.0"
      ]
     },
     "execution_count": 19,
     "metadata": {},
     "output_type": "execute_result"
    }
   ],
   "source": [
    "import numpy as np \n",
    "a = [5,6,16,9]\n",
    "np.mean(a)"
   ]
  },
  {
   "cell_type": "code",
   "execution_count": 20,
   "metadata": {},
   "outputs": [
    {
     "data": {
      "text/plain": [
       "11.25"
      ]
     },
     "execution_count": 20,
     "metadata": {},
     "output_type": "execute_result"
    }
   ],
   "source": [
    "import numpy as np \n",
    "a = [14,6,16,9]\n",
    "np.mean(a)"
   ]
  },
  {
   "cell_type": "code",
   "execution_count": 21,
   "metadata": {},
   "outputs": [
    {
     "data": {
      "text/plain": [
       "10.2"
      ]
     },
     "execution_count": 21,
     "metadata": {},
     "output_type": "execute_result"
    }
   ],
   "source": [
    "np.average(a,weights=[1,2,1,1])"
   ]
  },
  {
   "cell_type": "code",
   "execution_count": 23,
   "metadata": {},
   "outputs": [
    {
     "name": "stdin",
     "output_type": "stream",
     "text": [
      "输入第一个数字： 55\n",
      "输入第二个数字： 1078\n"
     ]
    },
    {
     "name": "stdout",
     "output_type": "stream",
     "text": [
      "数字 55 和 1078 相加结果为： 1133.0\n"
     ]
    }
   ],
   "source": [
    "num1 = input('输入第一个数字：')\n",
    "num2 = input('输入第二个数字：')\n",
    "sum = float(num1) + float(num2)\n",
    "print('数字 {0} 和 {1} 相加结果为： {2}'.format(num1, num2, sum))"
   ]
  },
  {
   "cell_type": "code",
   "execution_count": 25,
   "metadata": {},
   "outputs": [
    {
     "name": "stdin",
     "output_type": "stream",
     "text": [
      " 4\n"
     ]
    },
    {
     "name": "stdout",
     "output_type": "stream",
     "text": [
      "圆的面积为 50.272\n"
     ]
    }
   ],
   "source": [
    "def findArea(r):\n",
    "    PI = 3.142\n",
    "    return PI * (r*r)\n",
    "print(\"圆的面积为 %.3f\" % findArea(float(input())))"
   ]
  },
  {
   "cell_type": "code",
   "execution_count": 1,
   "metadata": {},
   "outputs": [
    {
     "name": "stdin",
     "output_type": "stream",
     "text": [
      "输入第一个数字： 34\n",
      "输入第二个数字： 35\n"
     ]
    },
    {
     "name": "stdout",
     "output_type": "stream",
     "text": [
      "数字 34 和 35 相加结果为： 69.0\n"
     ]
    }
   ],
   "source": [
    "# 用户输入数字\n",
    "num1 = input('输入第一个数字：')\n",
    "num2 = input('输入第二个数字：')\n",
    " \n",
    "# 求和\n",
    "sum = float(num1) + float(num2)\n",
    " \n",
    "# 显示计算结果\n",
    "print('数字 {0} 和 {1} 相加结果为： {2}'.format(num1, num2, sum))"
   ]
  },
  {
   "cell_type": "code",
   "execution_count": 2,
   "metadata": {},
   "outputs": [
    {
     "name": "stdin",
     "output_type": "stream",
     "text": [
      "输入第一个数字： 456\n",
      "输入第二个数字： 376\n"
     ]
    },
    {
     "name": "stdout",
     "output_type": "stream",
     "text": [
      "两数之和为 832.0\n"
     ]
    }
   ],
   "source": [
    "print('两数之和为 %.1f' %(float(input('输入第一个数字：'))+float(input('输入第二个数字：'))))"
   ]
  },
  {
   "cell_type": "code",
   "execution_count": 3,
   "metadata": {},
   "outputs": [
    {
     "name": "stdin",
     "output_type": "stream",
     "text": [
      "请输入一个数字：  6\n"
     ]
    },
    {
     "name": "stdout",
     "output_type": "stream",
     "text": [
      " 6.000 的平方根为 2.449\n"
     ]
    }
   ],
   "source": [
    "num = float(input('请输入一个数字： '))\n",
    "num_sqrt = num ** 0.5\n",
    "print(' %0.3f 的平方根为 %0.3f'%(num ,num_sqrt))\n"
   ]
  },
  {
   "cell_type": "code",
   "execution_count": 4,
   "metadata": {},
   "outputs": [
    {
     "name": "stdin",
     "output_type": "stream",
     "text": [
      "输入 x 值:  4\n",
      "输入 y 值:  45\n"
     ]
    },
    {
     "name": "stdout",
     "output_type": "stream",
     "text": [
      "交换后 x 的值为: 45\n",
      "交换后 y 的值为: 4\n"
     ]
    }
   ],
   "source": [
    "x = input('输入 x 值: ')\n",
    "y = input('输入 y 值: ')\n",
    " \n",
    "# 创建临时变量，并交换\n",
    "temp = x\n",
    "x = y\n",
    "y = temp\n",
    " \n",
    "print('交换后 x 的值为: {}'.format(x))\n",
    "print('交换后 y 的值为: {}'.format(y))"
   ]
  },
  {
   "cell_type": "code",
   "execution_count": 5,
   "metadata": {},
   "outputs": [
    {
     "name": "stdout",
     "output_type": "stream",
     "text": [
      "2\n",
      "b\n",
      "2\n",
      "2\n",
      "80, 100, 1000 最大值为:  1000\n",
      "-20, 100, 400最大值为:  400\n",
      "-80, -20, -10最大值为:  -10\n",
      "0, 100, -400最大值为: 100\n"
     ]
    }
   ],
   "source": [
    "# 最简单的\n",
    "print(max(1, 2))\n",
    "print(max('a', 'b'))\n",
    " \n",
    "# 也可以对列表和元组使用\n",
    "print(max([1,2]))\n",
    "print(max((1,2)))\n",
    " \n",
    "# 更多实例\n",
    "print(\"80, 100, 1000 最大值为: \", max(80, 100, 1000))\n",
    "print(\"-20, 100, 400最大值为: \", max(-20, 100, 400))\n",
    "print(\"-80, -20, -10最大值为: \", max(-80, -20, -10))\n",
    "print(\"0, 100, -400最大值为:\", max(0, 100, -400))"
   ]
  },
  {
   "cell_type": "code",
   "execution_count": 6,
   "metadata": {},
   "outputs": [
    {
     "name": "stdin",
     "output_type": "stream",
     "text": [
      "输入三角形第一边长:  6\n",
      "输入三角形第二边长:  3\n",
      "输入三角形第三边长:  3\n"
     ]
    },
    {
     "name": "stdout",
     "output_type": "stream",
     "text": [
      "三角形面积为 0.00\n"
     ]
    }
   ],
   "source": [
    "a = float(input('输入三角形第一边长: '))\n",
    "b = float(input('输入三角形第二边长: '))\n",
    "c = float(input('输入三角形第三边长: '))\n",
    " \n",
    "# 计算半周长\n",
    "s = (a + b + c) / 2\n",
    " \n",
    "# 计算面积\n",
    "area = (s*(s-a)*(s-b)*(s-c)) ** 0.5\n",
    "print('三角形面积为 %0.2f' %area)\n"
   ]
  },
  {
   "cell_type": "code",
   "execution_count": 7,
   "metadata": {},
   "outputs": [
    {
     "name": "stdin",
     "output_type": "stream",
     "text": [
      "输入第一个数字:  56\n",
      "输入第二个数字:  45\n"
     ]
    },
    {
     "name": "stdout",
     "output_type": "stream",
     "text": [
      "56 和 45 的最大公约数为 1\n"
     ]
    }
   ],
   "source": [
    "\n",
    "# 定义一个函数\n",
    "def hcf(x, y):\n",
    "   \"\"\"该函数返回两个数的最大公约数\"\"\"\n",
    " \n",
    "   # 获取最小值\n",
    "   if x > y:\n",
    "       smaller = y\n",
    "   else:\n",
    "       smaller = x\n",
    " \n",
    "   for i in range(1,smaller + 1):\n",
    "       if((x % i == 0) and (y % i == 0)):\n",
    "           hcf = i\n",
    " \n",
    "   return hcf\n",
    " \n",
    " \n",
    "# 用户输入两个数字\n",
    "num1 = int(input(\"输入第一个数字: \"))\n",
    "num2 = int(input(\"输入第二个数字: \"))\n",
    " \n",
    "print( num1,\"和\", num2,\"的最大公约数为\", hcf(num1, num2))"
   ]
  },
  {
   "cell_type": "code",
   "execution_count": 8,
   "metadata": {},
   "outputs": [
    {
     "name": "stdout",
     "output_type": "stream",
     "text": [
      "3 4 5 6 7 1 2 "
     ]
    }
   ],
   "source": [
    "def leftRotate(arr, d, n):\n",
    "    for i in range(d):\n",
    "        leftRotatebyOne(arr, n)\n",
    "def leftRotatebyOne(arr, n):\n",
    "    temp = arr[0]\n",
    "    for i in range(n-1):\n",
    "        arr[i] = arr[i+1]\n",
    "    arr[n-1] = temp\n",
    "         \n",
    " \n",
    "def printArray(arr,size):\n",
    "    for i in range(size):\n",
    "        print (\"%d\"% arr[i],end=\" \")\n",
    " \n",
    "\n",
    "arr = [1, 2, 3, 4, 5, 6, 7]\n",
    "leftRotate(arr, 2, 7)\n",
    "printArray(arr, 7)"
   ]
  },
  {
   "cell_type": "code",
   "execution_count": 9,
   "metadata": {},
   "outputs": [
    {
     "name": "stdout",
     "output_type": "stream",
     "text": [
      "3 4 5 6 7 1 2 "
     ]
    }
   ],
   "source": [
    "def leftRotate(arr, d, n):\n",
    "    for i in range(gcd(d,n)):\n",
    "         \n",
    "        temp = arr[i]\n",
    "        j = i\n",
    "        while 1:\n",
    "            k = j + d\n",
    "            if k >= n:\n",
    "                k = k - n\n",
    "            if k == i:\n",
    "                break\n",
    "            arr[j] = arr[k]\n",
    "            j = k\n",
    "        arr[j] = temp\n",
    "\n",
    "def printArray(arr, size):\n",
    "    for i in range(size):\n",
    "        print (\"%d\" % arr[i], end=\" \")\n",
    "\n",
    "def gcd(a, b):\n",
    "    if b == 0:\n",
    "        return a;\n",
    "    else:\n",
    "        return gcd(b, a%b)\n",
    "\n",
    "arr = [1, 2, 3, 4, 5, 6, 7]\n",
    "leftRotate(arr, 2, 7)\n",
    "printArray(arr, 7)"
   ]
  },
  {
   "cell_type": "code",
   "execution_count": 10,
   "metadata": {},
   "outputs": [
    {
     "name": "stdin",
     "output_type": "stream",
     "text": [
      "year:\n",
      " 1997\n",
      "month:\n",
      " 9\n",
      "day:\n",
      " 1\n"
     ]
    },
    {
     "name": "stdout",
     "output_type": "stream",
     "text": [
      "it is the 244th day.\n"
     ]
    }
   ],
   "source": [
    "\n",
    "#!/usr/bin/python3\n",
    " \n",
    "year = int(input('year:\\n'))\n",
    "month = int(input('month:\\n'))\n",
    "day = int(input('day:\\n'))\n",
    " \n",
    "months = (0,31,59,90,120,151,181,212,243,273,304,334)\n",
    "if 0 < month <= 12:\n",
    "    sum = months[month - 1]\n",
    "else:\n",
    "    print ('data error')\n",
    "sum += day\n",
    "leap = 0\n",
    "if (year % 400 == 0) or ((year % 4 == 0) and (year % 100 != 0)):\n",
    "    leap = 1\n",
    "if (leap == 1) and (month > 2):\n",
    "    sum += 1\n",
    "print ('it is the %dth day.' % sum)"
   ]
  },
  {
   "cell_type": "code",
   "execution_count": 11,
   "metadata": {},
   "outputs": [
    {
     "name": "stdin",
     "output_type": "stream",
     "text": [
      "integer:\n",
      " 1\n",
      "integer:\n",
      " 1\n",
      "integer:\n",
      " 2\n"
     ]
    },
    {
     "name": "stdout",
     "output_type": "stream",
     "text": [
      "[1, 1, 2]\n"
     ]
    }
   ],
   "source": [
    "\n",
    "#!/usr/bin/python3\n",
    " \n",
    "l = []\n",
    "for i in range(3):\n",
    "    x = int(input('integer:\\n'))\n",
    "    l.append(x)\n",
    "l.sort()\n",
    "print (l)"
   ]
  },
  {
   "cell_type": "code",
   "execution_count": 12,
   "metadata": {},
   "outputs": [
    {
     "name": "stdout",
     "output_type": "stream",
     "text": [
      "55\n"
     ]
    }
   ],
   "source": [
    "\n",
    "#!/usr/bin/python\n",
    "# -*- coding: UTF-8 -*-\n",
    " \n",
    "def fib(n):\n",
    "    a,b = 1,1\n",
    "    for i in range(n-1):\n",
    "        a,b = b,a+b\n",
    "    return a\n",
    " \n",
    "# 输出了第10个斐波那契数列\n",
    "print (fib(10))"
   ]
  },
  {
   "cell_type": "code",
   "execution_count": null,
   "metadata": {},
   "outputs": [],
   "source": []
  }
 ],
 "metadata": {
  "kernelspec": {
   "display_name": "Python 3",
   "language": "python",
   "name": "python3"
  },
  "language_info": {
   "codemirror_mode": {
    "name": "ipython",
    "version": 3
   },
   "file_extension": ".py",
   "mimetype": "text/x-python",
   "name": "python",
   "nbconvert_exporter": "python",
   "pygments_lexer": "ipython3",
   "version": "3.8.3"
  }
 },
 "nbformat": 4,
 "nbformat_minor": 4
}
