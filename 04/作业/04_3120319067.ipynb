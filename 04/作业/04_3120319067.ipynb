{
 "cells": [
  {
   "cell_type": "code",
   "execution_count": 1,
   "metadata": {},
   "outputs": [
    {
     "name": "stdout",
     "output_type": "stream",
     "text": [
      "18 李明\n",
      "李明\n",
      "刘德华\n",
      "刘德华\n"
     ]
    }
   ],
   "source": [
    "#属性  类属性和实例属性\n",
    "class Student:\n",
    "     name='李明'  #类属性\n",
    "     def __init__(self,age):\n",
    "         self.age=age  #实例属性\n",
    "         pass\n",
    "     pass\n",
    "lm=Student(18)\n",
    "print(lm.age,lm.name) #通过实例对象去访问类属性\n",
    "print(Student.name)\n",
    "lm.name='刘德华'\n",
    "print(lm.name)\n",
    "Student.name='张学友'\n",
    "print(lm.name)  #通过实例对象不能修改类属性  通过类对象可以修改类属性\n",
    "# 类方法"
   ]
  },
  {
   "cell_type": "code",
   "execution_count": 3,
   "metadata": {},
   "outputs": [
    {
     "name": "stdout",
     "output_type": "stream",
     "text": [
      "china\n",
      "china\n",
      "________\n",
      "英国\n"
     ]
    }
   ],
   "source": [
    "class People:\n",
    "     country='china'\n",
    "     @classmethod   #  定义类方法\n",
    "     def get_country(cls):\n",
    "         return cls.country  # 访问类属性\n",
    "     @classmethod\n",
    "     def change_country(cls,data):\n",
    "         cls.country=data   # 修改类属性的值，在类方法中\n",
    "         pass\n",
    "\n",
    "     pass\n",
    "print(People.get_country())  # 通过类对象引用\n",
    "p=People()\n",
    "print(p.get_country())  #通过实例对象引用\n",
    "print('________')\n",
    "People.change_country('英国')\n",
    "print(People.get_country())\n",
    "# 静态方法 类对象所拥有的方法 一般不会通过实例对象去访问静态方法\n"
   ]
  },
  {
   "cell_type": "code",
   "execution_count": 4,
   "metadata": {},
   "outputs": [
    {
     "name": "stdout",
     "output_type": "stream",
     "text": [
      "19:38:19\n"
     ]
    }
   ],
   "source": [
    "import time  #引入时间模块\n",
    "class Timetest:\n",
    "    def __init__(self,hour,min,second):\n",
    "        self.hour=hour\n",
    "        self.min = min\n",
    "        self.second = second\n",
    "    @staticmethod   # 静态方法\n",
    "    def showtime():\n",
    "        return time.strftime('%H:%M:%S',time.localtime())\n",
    "    pass\n",
    "print(Timetest.showtime())"
   ]
  },
  {
   "cell_type": "code",
   "execution_count": 5,
   "metadata": {},
   "outputs": [
    {
     "name": "stdout",
     "output_type": "stream",
     "text": [
      "计算结果是45\n",
      "(25, 75)\n"
     ]
    }
   ],
   "source": [
    " def sum(a,b):\n",
    "     result = 0\n",
    "     for item in range(a,b):\n",
    "         result += item\n",
    "     print('计算结果是%d'%result )\n",
    "     pass\n",
    " sum(1,10)\n",
    " def man(a,b):\n",
    "     for i in range(0,100):\n",
    "         if i*3+(a-i)*(1/3)==b:\n",
    "             return i,100-i\n",
    "         else:\n",
    "             i+=1\n",
    "     pass\n",
    " re=man(100,100)\n",
    " print(re)"
   ]
  },
  {
   "cell_type": "code",
   "execution_count": 6,
   "metadata": {},
   "outputs": [
    {
     "name": "stdout",
     "output_type": "stream",
     "text": [
      "{1, 2, 3, 4, 5}\n",
      "{2, 3, 4, 5}\n",
      "{1}\n",
      "1\n"
     ]
    }
   ],
   "source": [
    " li=[1,3,4,5,3,5,2,2,4]\n",
    " set1=set (li)\n",
    " print(set1 )\n",
    " for i in set1 :\n",
    "     li.remove(i)\n",
    "     pass\n",
    " set2=set (li)\n",
    " print(set2)  #set2为原来li中有重复数字的集合\n",
    " print(set1-set2 )\n",
    " for i in set1:\n",
    "     if i not in set2:\n",
    "         print(i)"
   ]
  },
  {
   "cell_type": "code",
   "execution_count": 8,
   "metadata": {},
   "outputs": [
    {
     "name": "stdout",
     "output_type": "stream",
     "text": [
      "我是一只鸭子\n",
      "我不是一只小猫\n",
      "我是一只鸭子\n",
      "我不是一只鸭子\n"
     ]
    }
   ],
   "source": [
    "class Animal:   #  父类\n",
    "    def saywho(self):\n",
    "        print('我是一个动物')\n",
    "    pass\n",
    "class Duck(Animal):    #子类\n",
    "    def saywho(self,name):   # 重写父类的方法\n",
    "        self.name=name\n",
    "        print('我是一只%s'%self.name)\n",
    "    pass\n",
    "class Cat(Animal):    #子类\n",
    "    def saywho(self,name):   # 重写父类的方法\n",
    "        self.name=name\n",
    "        print('我不是一只%s'%self.name)\n",
    "    pass\n",
    "def commenInvoke(obj):  # 统一调用的方法\n",
    "    obj.saywho('鸭子')\n",
    "duck1=Duck()\n",
    "duck1.saywho('鸭子')\n",
    "cat1=Cat()\n",
    "cat1.saywho('小猫')\n",
    "listobj=[Duck(),Cat()]\n",
    "for item in listobj:\n",
    "    commenInvoke(item)  # 循环调用函数"
   ]
  },
  {
   "cell_type": "code",
   "execution_count": 9,
   "metadata": {},
   "outputs": [
    {
     "name": "stdout",
     "output_type": "stream",
     "text": [
      "list index out of range\n",
      "异常处理\n",
      "division by zero\n"
     ]
    }
   ],
   "source": [
    "try:\n",
    "    #print(b)                 #捕获的代码，可能出错的代码\n",
    "    li=[1,2,3]\n",
    "    print(li[10])\n",
    "    a=10/0\n",
    "except NameError as msg:         #except在捕捉错误异常时，要根据具体的错误类型来捕捉\n",
    "     print(msg)\n",
    "     #捕获到的错误，在这里执行\n",
    "except IndexError as mas:\n",
    "     print(mas)\n",
    "except ZeroDivisionError as mas:\n",
    "     print(mas)\n",
    "except Exception as msg:   #错误类型不确定，捕获所有类型\n",
    "    print(msg)\n",
    "print('异常处理')\n",
    "def A(s):\n",
    "    return 10/int(s)\n",
    "def B(s):\n",
    "    return A(s)*2\n",
    "def main():\n",
    "    try:\n",
    "        B('0')\n",
    "        pass\n",
    "    except Exception as msg:\n",
    "        print(msg)\n",
    "        pass\n",
    "    pass\n",
    "main()   # 不需要在每个可能出错的地方去捕获，只要在合适的层次去捕获错误就行\n",
    "#try-except-else"
   ]
  },
  {
   "cell_type": "code",
   "execution_count": 11,
   "metadata": {},
   "outputs": [
    {
     "name": "stdout",
     "output_type": "stream",
     "text": [
      "aa\n",
      "当try里面的代码没有出现异常时，继续执行\n",
      "invalid literal for int() with base 10: 'ffff'\n",
      "不管有没有出错都会执行\n"
     ]
    },
    {
     "name": "stdin",
     "output_type": "stream",
     "text": [
      "请输入姓名 1\n"
     ]
    },
    {
     "name": "stdout",
     "output_type": "stream",
     "text": [
      "1\n",
      "执行完毕\n"
     ]
    }
   ],
   "source": [
    "try:\n",
    "    print('aa')\n",
    "    pass\n",
    "except Exception as msg:\n",
    "    print(msg)\n",
    "    pass\n",
    "else:                                          # 当try里面的代码没问题时执行\n",
    "    print('当try里面的代码没有出现异常时，继续执行')\n",
    "    pass\n",
    "#try-except-finally\n",
    "try:\n",
    "    int('ffff')\n",
    "    pass\n",
    "except Exception as msg:\n",
    "    print(msg)\n",
    "    pass\n",
    "finally:        #不管有没有出错都会执行\n",
    "    print('不管有没有出错都会执行')\n",
    "    pass\n",
    "#自定义异常\n",
    "class Too(Exception):\n",
    "    def __init__(self,long):\n",
    "        self.long=long\n",
    "        pass\n",
    "    def __str__(self):\n",
    "        return '你输入的数据长度是'+str(self.long)+'太长了'\n",
    "    pass\n",
    "def name_test():\n",
    "    name=input('请输入姓名')\n",
    "    try:\n",
    "        if len(name)>5:\n",
    "            raise Too(len(name))  #抛出异常\n",
    "        else:\n",
    "            print(name)\n",
    "            pass\n",
    "    except Too as msg:\n",
    "        print(msg)\n",
    "    finally:\n",
    "        print('执行完毕')\n",
    "name_test()"
   ]
  },
  {
   "cell_type": "code",
   "execution_count": 12,
   "metadata": {},
   "outputs": [
    {
     "name": "stdout",
     "output_type": "stream",
     "text": [
      "构造初始化方法\n",
      "析构方法\n"
     ]
    }
   ],
   "source": [
    "class Animal:\n",
    "    def __init__(self,name):\n",
    "        self.name=name\n",
    "        print('构造初始化方法')\n",
    "        pass\n",
    "    def __del__(self):\n",
    "        print('析构方法')\n",
    "        pass\n",
    "    pass  # 自动调用，清理对象，内存空间被释放\n",
    "cat = Animal('小猫')\n",
    "del cat"
   ]
  },
  {
   "cell_type": "code",
   "execution_count": 13,
   "metadata": {},
   "outputs": [
    {
     "name": "stdout",
     "output_type": "stream",
     "text": [
      "吃饭了\n",
      "喝水了\n",
      "神仙都会飞\n"
     ]
    }
   ],
   "source": [
    "class Animal:\n",
    "    def eat(self):\n",
    "        print('吃饭了')\n",
    "        pass\n",
    "    def drink(self):\n",
    "        print('喝水了')\n",
    "        pass\n",
    "    pass\n",
    "class Dog(Animal):      # 继承Animal这个父类\n",
    "    def wwj(self):\n",
    "        print('小狗汪汪叫')\n",
    "    pass\n",
    "class Cat(Animal):\n",
    "    def mmj(self):\n",
    "        print('小猫喵喵叫')\n",
    "        pass\n",
    "    pass\n",
    "d1=Dog()\n",
    "d1.eat()\n",
    "c1=Cat()\n",
    "c1.drink()\n",
    "#多继承\n",
    "class shenxian:\n",
    "    def fly(self):\n",
    "        print('神仙都会飞')\n",
    "        pass\n",
    "    pass\n",
    "class Monkey:\n",
    "    def chitao(self):\n",
    "        print('猴子吃桃')\n",
    "    pass\n",
    "class Wukong(shenxian,Monkey): # 既是神仙又是猴子\n",
    "    pass\n",
    "swk=Wukong()\n",
    "swk.fly()"
   ]
  },
  {
   "cell_type": "code",
   "execution_count": 15,
   "metadata": {},
   "outputs": [
    {
     "name": "stdout",
     "output_type": "stream",
     "text": [
      "True\n",
      "False\n",
      "False\n",
      "True\n"
     ]
    }
   ],
   "source": [
    "var='Runoob example....wow!!!'\n",
    "suffix='!!'\n",
    "print (var.endswith(suffix))\n",
    "print (var.endswith(suffix, len(var) - 1))\n",
    "suffix='Run'\n",
    "print (var.endswith(suffix))\n",
    "print (var.endswith(suffix, 0, 3))"
   ]
  },
  {
   "cell_type": "code",
   "execution_count": 16,
   "metadata": {},
   "outputs": [
    {
     "name": "stdout",
     "output_type": "stream",
     "text": [
      "7\n",
      "7\n",
      "-1\n"
     ]
    }
   ],
   "source": [
    "str1 = \"Runoob example....wow!!!\"\n",
    "str2 = \"exam\";\n",
    " \n",
    "print (str1.find(str2))\n",
    "print (str1.find(str2, 5))\n",
    "print (str1.find(str2, 10))\n",
    "# print (str1.index(str2, 10))"
   ]
  },
  {
   "cell_type": "code",
   "execution_count": 17,
   "metadata": {},
   "outputs": [
    {
     "name": "stdout",
     "output_type": "stream",
     "text": [
      "0 1 1 2 3 5 8 13 21 34 55 "
     ]
    }
   ],
   "source": [
    "def fibonacci(n):\n",
    "    a, b, counter = 0, 1, 0\n",
    "    while True:\n",
    "        if (counter > n): \n",
    "            return\n",
    "        yield a\n",
    "        a, b = b, a + b\n",
    "        counter += 1\n",
    "f = fibonacci(10)\n",
    "\n",
    "for x in f:\n",
    "    print (x, end=\" \")"
   ]
  },
  {
   "cell_type": "code",
   "execution_count": 18,
   "metadata": {},
   "outputs": [
    {
     "name": "stdout",
     "output_type": "stream",
     "text": [
      "[(0, 'apple'), (1, 'orange'), (2, 'apple'), (3, 'pear'), (4, 'orange'), (5, 'banana')]\n",
      "0----------apple\n",
      "1----------orange\n",
      "2----------apple\n",
      "3----------pear\n",
      "4----------orange\n",
      "5----------banana\n"
     ]
    }
   ],
   "source": [
    "basket = ['apple', 'orange', 'apple', 'pear', 'orange', 'banana']\n",
    "indexes = range(len(basket))\n",
    "print(list(zip(indexes, basket)))\n",
    "for i, v in zip(indexes, basket):\n",
    "    print(f'{i}{\"-\" * 10}{v}')"
   ]
  },
  {
   "cell_type": "code",
   "execution_count": null,
   "metadata": {},
   "outputs": [],
   "source": []
  }
 ],
 "metadata": {
  "kernelspec": {
   "display_name": "Python 3",
   "language": "python",
   "name": "python3"
  },
  "language_info": {
   "codemirror_mode": {
    "name": "ipython",
    "version": 3
   },
   "file_extension": ".py",
   "mimetype": "text/x-python",
   "name": "python",
   "nbconvert_exporter": "python",
   "pygments_lexer": "ipython3",
   "version": "3.8.3"
  }
 },
 "nbformat": 4,
 "nbformat_minor": 4
}
