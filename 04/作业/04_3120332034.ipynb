{
 "cells": [
  {
   "cell_type": "code",
   "execution_count": 1,
   "metadata": {},
   "outputs": [
    {
     "name": "stdout",
     "output_type": "stream",
     "text": [
      "Runoob\n",
      "Runoo\n"
     ]
    }
   ],
   "source": [
    "str='Runoob' \n",
    "\n",
    "print(str)\n",
    "print(str[0:-1])"
   ]
  },
  {
   "cell_type": "code",
   "execution_count": 2,
   "metadata": {},
   "outputs": [
    {
     "name": "stdout",
     "output_type": "stream",
     "text": [
      "R\n"
     ]
    }
   ],
   "source": [
    "print(str[0])"
   ]
  },
  {
   "cell_type": "code",
   "execution_count": 3,
   "metadata": {},
   "outputs": [
    {
     "name": "stdout",
     "output_type": "stream",
     "text": [
      "noo\n"
     ]
    }
   ],
   "source": [
    "print(str[2:5])"
   ]
  },
  {
   "cell_type": "code",
   "execution_count": 7,
   "metadata": {},
   "outputs": [
    {
     "name": "stdout",
     "output_type": "stream",
     "text": [
      "unoo\n"
     ]
    }
   ],
   "source": [
    "print(str[1:5:1])"
   ]
  },
  {
   "cell_type": "code",
   "execution_count": 8,
   "metadata": {},
   "outputs": [
    {
     "name": "stdout",
     "output_type": "stream",
     "text": [
      "RunoobRunoob\n"
     ]
    }
   ],
   "source": [
    "print(str*2)"
   ]
  },
  {
   "cell_type": "code",
   "execution_count": 9,
   "metadata": {},
   "outputs": [
    {
     "name": "stdout",
     "output_type": "stream",
     "text": [
      "Runoob你好\n"
     ]
    }
   ],
   "source": [
    "print(str+'你好')"
   ]
  },
  {
   "cell_type": "code",
   "execution_count": 10,
   "metadata": {},
   "outputs": [
    {
     "name": "stdout",
     "output_type": "stream",
     "text": [
      "hello\n",
      "runoob\n"
     ]
    }
   ],
   "source": [
    "print('hello\\nrunoob')"
   ]
  },
  {
   "cell_type": "code",
   "execution_count": 11,
   "metadata": {},
   "outputs": [
    {
     "name": "stdout",
     "output_type": "stream",
     "text": [
      "hello\\nrunoob\n"
     ]
    }
   ],
   "source": [
    "print(r'hello\\nrunoob')"
   ]
  },
  {
   "cell_type": "code",
   "execution_count": 13,
   "metadata": {},
   "outputs": [
    {
     "name": "stdout",
     "output_type": "stream",
     "text": [
      "\n",
      "\n",
      "按下 enter 键后退出。？？\n"
     ]
    },
    {
     "data": {
      "text/plain": [
       "'？？'"
      ]
     },
     "execution_count": 13,
     "metadata": {},
     "output_type": "execute_result"
    }
   ],
   "source": [
    "input(\"\\n\\n按下 enter 键后退出。\")"
   ]
  },
  {
   "cell_type": "code",
   "execution_count": 14,
   "metadata": {},
   "outputs": [
    {
     "name": "stdout",
     "output_type": "stream",
     "text": [
      "runoob\n"
     ]
    }
   ],
   "source": [
    "import sys;x='runoob';sys.stdout.write(x+'\\n')"
   ]
  },
  {
   "cell_type": "code",
   "execution_count": 15,
   "metadata": {},
   "outputs": [
    {
     "name": "stdout",
     "output_type": "stream",
     "text": [
      "runoob\n"
     ]
    }
   ],
   "source": [
    ">>> import sys; x = 'runoob'; sys.stdout.write(x + '\\n')"
   ]
  },
  {
   "cell_type": "code",
   "execution_count": 4,
   "metadata": {},
   "outputs": [
    {
     "name": "stdout",
     "output_type": "stream",
     "text": [
      "Please enter your name:123\n",
      "hello,123!\n"
     ]
    }
   ],
   "source": [
    "name=input(\"Please enter your name:\")\n",
    "print(\"hello,\"+name+\"!\")"
   ]
  },
  {
   "cell_type": "code",
   "execution_count": 8,
   "metadata": {},
   "outputs": [
    {
     "name": "stdout",
     "output_type": "stream",
     "text": [
      "这是一个注册表\n",
      "请告诉我你的名字：123\n",
      "Hello.123!\n"
     ]
    }
   ],
   "source": [
    "#多行\n",
    "message=\"这是一个注册表\"\n",
    "message+=\"\\n请告诉我你的名字：\"\n",
    "name=input(message)\n",
    "print(\"Hello.\"+name+\"!\")"
   ]
  },
  {
   "cell_type": "code",
   "execution_count": 9,
   "metadata": {},
   "outputs": [
    {
     "name": "stdout",
     "output_type": "stream",
     "text": [
      "你多大了？22\n",
      "22\n",
      "老了\n"
     ]
    }
   ],
   "source": [
    "age=input(\"你多大了？\")\n",
    "age=int(age)\n",
    "print(age)\n",
    "if age>18:\n",
    "    print(\"老了\")\n",
    "else:\n",
    "    print(\"年轻\")"
   ]
  },
  {
   "cell_type": "code",
   "execution_count": 10,
   "metadata": {},
   "outputs": [
    {
     "name": "stdout",
     "output_type": "stream",
     "text": [
      "输入一个数字？23\n",
      "这是一个奇数\n"
     ]
    }
   ],
   "source": [
    "number=input(\"输入一个数字？\")\n",
    "number=int(number)\n",
    "if number%2==0:\n",
    "    print(\"这是一个偶数\")\n",
    "else:\n",
    "    print(\"这是一个奇数\")"
   ]
  },
  {
   "cell_type": "code",
   "execution_count": 11,
   "metadata": {},
   "outputs": [
    {
     "name": "stdout",
     "output_type": "stream",
     "text": [
      "你们几位？5\n",
      "有空卓\n"
     ]
    }
   ],
   "source": [
    "#7-2\n",
    "person=input(\"你们几位？\")\n",
    "person=int(person)\n",
    "if person>8:\n",
    "    print(\"没有空桌\")\n",
    "else:\n",
    "    print(\"有空卓\")"
   ]
  },
  {
   "cell_type": "code",
   "execution_count": 12,
   "metadata": {},
   "outputs": [
    {
     "name": "stdout",
     "output_type": "stream",
     "text": [
      "输入数字？26\n",
      "No\n"
     ]
    }
   ],
   "source": [
    "#7-3\n",
    "number=input(\"输入数字？\")\n",
    "number=int(number)\n",
    "if number%10==0:\n",
    "    print(\"Yes\")\n",
    "else:\n",
    "    print(\"No\")"
   ]
  },
  {
   "cell_type": "code",
   "execution_count": 13,
   "metadata": {},
   "outputs": [
    {
     "name": "stdout",
     "output_type": "stream",
     "text": [
      "1\n",
      "2\n",
      "3\n",
      "4\n",
      "5\n"
     ]
    }
   ],
   "source": [
    "current_number=1\n",
    "while current_number<=5:\n",
    "    print(current_number)\n",
    "    current_number+=1"
   ]
  },
  {
   "cell_type": "code",
   "execution_count": 14,
   "metadata": {},
   "outputs": [
    {
     "name": "stdout",
     "output_type": "stream",
     "text": [
      "请输入？236\n",
      "236\n",
      "请输入？258\n",
      "258\n",
      "请输入？1212\n",
      "1212\n",
      "请输入？quit\n",
      "quit\n"
     ]
    }
   ],
   "source": [
    "message=\"\"\n",
    "while message!='quit':\n",
    "    message=input(\"请输入？\")\n",
    "    print(message)"
   ]
  },
  {
   "cell_type": "code",
   "execution_count": 16,
   "metadata": {},
   "outputs": [
    {
     "name": "stdout",
     "output_type": "stream",
     "text": [
      "请输入？qu\n",
      "qu\n",
      "请输入？quit\n"
     ]
    }
   ],
   "source": [
    "message=\"\"\n",
    "active=True\n",
    "while active:\n",
    "    message=input(\"请输入？\")\n",
    "    if message=='quit':\n",
    "        active=False\n",
    "    else:\n",
    "        print(message)"
   ]
  },
  {
   "cell_type": "code",
   "execution_count": 21,
   "metadata": {},
   "outputs": [
    {
     "name": "stdout",
     "output_type": "stream",
     "text": [
      "请输入配料表？cabbage\n",
      "请输入配料表？quit\n",
      "配料表：[[...]]\n"
     ]
    }
   ],
   "source": [
    "#7-4\n",
    "messages=[]\n",
    "active=True\n",
    "while active:\n",
    "    message=input(\"请输入配料表？\")\n",
    "    if message==\"quit\":\n",
    "        active=False\n",
    "    else:\n",
    "        messages.append(messages)\n",
    "print(\"配料表：\"+str(messages))"
   ]
  },
  {
   "cell_type": "code",
   "execution_count": 23,
   "metadata": {},
   "outputs": [
    {
     "name": "stdout",
     "output_type": "stream",
     "text": [
      "\n",
      "请输入配料表\n",
      "依次输入，输入quit结束baicai\n",
      "\n",
      "请输入配料表\n",
      "依次输入，输入quit结束pototoes\n",
      "\n",
      "请输入配料表\n",
      "依次输入，输入quit结束quit\n",
      "配料表：['baicai', 'pototoes']\n"
     ]
    }
   ],
   "source": [
    "prompt=\"\\n请输入配料表\"\n",
    "prompt+=\"\\n依次输入，输入quit结束\"\n",
    "messages=[]\n",
    "while True:\n",
    "    message=input(prompt)\n",
    "    if message==\"quit\":\n",
    "       break\n",
    "    else:\n",
    "        messages.append(message)\n",
    "print(\"配料表：\"+str(messages))\n",
    "    "
   ]
  },
  {
   "cell_type": "code",
   "execution_count": null,
   "metadata": {},
   "outputs": [],
   "source": [
    "#7-5\n",
    "age=\"\"\n",
    "while age!=\"*\":\n",
    "    age=input(\"\\n请输入你的年龄\")\n",
    "    if age!=\"*\":\n",
    "        age=int(age)\n",
    "        if age<3:\n",
    "            price=0\n",
    "        elif age<12:\n",
    "            price=10\n",
    "        else:\n",
    "            price=15\n",
    "    else:\n",
    "        break\n",
    "print(price)"
   ]
  },
  {
   "cell_type": "code",
   "execution_count": 26,
   "metadata": {},
   "outputs": [
    {
     "name": "stdout",
     "output_type": "stream",
     "text": [
      "\n",
      "请输入你的年龄6\n",
      "\n",
      "请输入你的年龄?\n"
     ]
    },
    {
     "ename": "ValueError",
     "evalue": "invalid literal for int() with base 10: '?'",
     "output_type": "error",
     "traceback": [
      "\u001b[1;31m---------------------------------------------------------------------------\u001b[0m",
      "\u001b[1;31mValueError\u001b[0m                                Traceback (most recent call last)",
      "\u001b[1;32m<ipython-input-26-e57366516afb>\u001b[0m in \u001b[0;36m<module>\u001b[1;34m\u001b[0m\n\u001b[0;32m      2\u001b[0m \u001b[1;32mwhile\u001b[0m \u001b[0mage\u001b[0m\u001b[1;33m!=\u001b[0m\u001b[1;34m\"*\"\u001b[0m\u001b[1;33m:\u001b[0m\u001b[1;33m\u001b[0m\u001b[1;33m\u001b[0m\u001b[0m\n\u001b[0;32m      3\u001b[0m     \u001b[0mage\u001b[0m\u001b[1;33m=\u001b[0m\u001b[0minput\u001b[0m\u001b[1;33m(\u001b[0m\u001b[1;34m\"\\n请输入你的年龄\"\u001b[0m\u001b[1;33m)\u001b[0m\u001b[1;33m\u001b[0m\u001b[1;33m\u001b[0m\u001b[0m\n\u001b[1;32m----> 4\u001b[1;33m     \u001b[0mage\u001b[0m\u001b[1;33m=\u001b[0m\u001b[0mint\u001b[0m\u001b[1;33m(\u001b[0m\u001b[0mage\u001b[0m\u001b[1;33m)\u001b[0m\u001b[1;33m\u001b[0m\u001b[1;33m\u001b[0m\u001b[0m\n\u001b[0m\u001b[0;32m      5\u001b[0m     \u001b[1;32mif\u001b[0m \u001b[0mage\u001b[0m\u001b[1;33m<\u001b[0m\u001b[1;36m3\u001b[0m \u001b[1;32mand\u001b[0m \u001b[0mage\u001b[0m\u001b[1;33m>\u001b[0m\u001b[1;36m0\u001b[0m\u001b[1;33m:\u001b[0m\u001b[1;33m\u001b[0m\u001b[1;33m\u001b[0m\u001b[0m\n\u001b[0;32m      6\u001b[0m         \u001b[0mprice\u001b[0m\u001b[1;33m=\u001b[0m\u001b[1;36m0\u001b[0m\u001b[1;33m\u001b[0m\u001b[1;33m\u001b[0m\u001b[0m\n",
      "\u001b[1;31mValueError\u001b[0m: invalid literal for int() with base 10: '?'"
     ]
    }
   ],
   "source": [
    "age=\"\"\n",
    "while age!=\"*\":\n",
    "    age=input(\"\\n请输入你的年龄\")\n",
    "    age=int(age)\n",
    "    if age<3 and age>0:\n",
    "        price=0\n",
    "    elif age<12 and age>=3:\n",
    "        price=10\n",
    "    else:\n",
    "        price=15\n",
    "print(price)"
   ]
  },
  {
   "cell_type": "code",
   "execution_count": 25,
   "metadata": {},
   "outputs": [
    {
     "name": "stdout",
     "output_type": "stream",
     "text": [
      "正在核实的用户：Candace\n",
      "正在核实的用户：Brian\n",
      "正在核实的用户：Alice\n",
      "\n",
      "下面的用户已经核实：\n",
      "Candace\n",
      "Brian\n",
      "Alice\n"
     ]
    }
   ],
   "source": [
    "unconfirmed_users=['alice','brian','candace']\n",
    "confirmed_users=[]\n",
    "while unconfirmed_users:\n",
    "    current_user=unconfirmed_users.pop()\n",
    "    print(\"正在核实的用户：\"+current_user.title())\n",
    "    confirmed_users.append(current_user)\n",
    "print(\"\\n下面的用户已经核实：\")\n",
    "for confirmed_user in confirmed_users:\n",
    "    print(confirmed_user.title())"
   ]
  },
  {
   "cell_type": "code",
   "execution_count": 29,
   "metadata": {},
   "outputs": [
    {
     "name": "stdout",
     "output_type": "stream",
     "text": [
      "['dog', 'cat', 'dog', 'cat', 'goldfish']\n",
      "['dog', 'dog', 'goldfish']\n"
     ]
    }
   ],
   "source": [
    "pets=['dog','cat','dog',\"cat\",'goldfish']\n",
    "print(pets)\n",
    "while 'cat'in pets:\n",
    "    pets.remove('cat')\n",
    "print(pets)"
   ]
  },
  {
   "cell_type": "code",
   "execution_count": 28,
   "metadata": {},
   "outputs": [
    {
     "name": "stdout",
     "output_type": "stream",
     "text": [
      "['dog', 'cat', 'dog', 'cat', 'goldfish']\n",
      "['cat', 'cat', 'goldfish']\n"
     ]
    }
   ],
   "source": [
    "pets=['dog','cat','dog','cat','goldfish']\n",
    "print(pets)\n",
    "while 'dog' in pets:\n",
    "    pets.remove('dog')\n",
    "print(pets)"
   ]
  },
  {
   "cell_type": "code",
   "execution_count": 31,
   "metadata": {},
   "outputs": [
    {
     "name": "stdout",
     "output_type": "stream",
     "text": [
      "\n",
      "I made your beef sandwich!\n",
      "\n",
      "I made your fish sandwich!\n",
      "\n",
      "I made your chicken sandwich!\n",
      "\n",
      "I made your vegetable sandwich!\n",
      "\n",
      "做好的三明治：['beef', 'fish', 'chicken', 'vegetable']\n"
     ]
    }
   ],
   "source": [
    "#7-8\n",
    "sandwich_orders=['vegetable','chicken','fish','beef']\n",
    "finished_sandwiches=[]\n",
    "while sandwich_orders:\n",
    "    current_sandwich=sandwich_orders.pop()\n",
    "    print(\"\\nI made your \"+current_sandwich+\" sandwich!\")\n",
    "    finished_sandwiches.append(current_sandwich)\n",
    "print(\"\\n做好的三明治：\"+str(finished_sandwiches))"
   ]
  },
  {
   "cell_type": "code",
   "execution_count": 33,
   "metadata": {},
   "outputs": [
    {
     "name": "stdout",
     "output_type": "stream",
     "text": [
      "五香牛肉买完了\n",
      "目前有的三明治：['vegetable', 'chicken']\n",
      "\n",
      " I made your chickensandwich!\n",
      "\n",
      " I made your vegetablesandwich!\n",
      "\n",
      "做好的三明治：['chicken', 'vegetable']\n"
     ]
    }
   ],
   "source": [
    "print(\"五香牛肉买完了\")\n",
    "sandwich_orders=['pastrami','vegetable','pastrami','chicken']\n",
    "while 'pastrami' in sandwich_orders:\n",
    "    sandwich_orders.remove('pastrami')\n",
    "print(\"目前有的三明治：\"+str(sandwich_orders))\n",
    "finished_sandwiches=[]\n",
    "while sandwich_orders:\n",
    "    current_sandwich=sandwich_orders.pop()\n",
    "    print(\"\\n I made your \"+current_sandwich+\"sandwich!\")\n",
    "    finished_sandwiches.append(current_sandwich)\n",
    "print(\"\\n做好的三明治：\"+str(finished_sandwiches))"
   ]
  },
  {
   "cell_type": "code",
   "execution_count": 35,
   "metadata": {},
   "outputs": [
    {
     "name": "stdout",
     "output_type": "stream",
     "text": [
      "如果可以去世界上任何一个地方，你想去哪里？uk\n",
      "是否结束？YES/NOno\n",
      "如果可以去世界上任何一个地方，你想去哪里？us\n",
      "是否结束？YES/NOyes\n",
      "['uk', 'us']\n"
     ]
    }
   ],
   "source": [
    "#7-10\n",
    "active=True\n",
    "sites=[]\n",
    "while active:\n",
    "    site=input('如果可以去世界上任何一个地方，你想去哪里？')\n",
    "    sites.append(site)\n",
    "    over=input(\"是否结束？YES/NO\")\n",
    "    if over==\"yes\":\n",
    "        active=False\n",
    "print(sites)"
   ]
  },
  {
   "cell_type": "code",
   "execution_count": 36,
   "metadata": {},
   "outputs": [
    {
     "name": "stdout",
     "output_type": "stream",
     "text": [
      "Hello,Tom!\n"
     ]
    }
   ],
   "source": [
    "def greet_user(username):\n",
    "    \"\"\"显示简单的问候语\"\"\"\n",
    "    print(\"Hello,\"+username.title()+\"!\")\n",
    "greet_user('tom')"
   ]
  },
  {
   "cell_type": "code",
   "execution_count": 39,
   "metadata": {},
   "outputs": [
    {
     "name": "stdout",
     "output_type": "stream",
     "text": [
      "One of my favorite book is Alice in wonderland.\n"
     ]
    }
   ],
   "source": [
    "def favorite_book(title):\n",
    "    \"\"\"喜欢的书\"\"\"\n",
    "    print(\"One of my favorite book is \"+title.title()+\" in wonderland.\")\n",
    "favorite_book('alice')"
   ]
  },
  {
   "cell_type": "code",
   "execution_count": 40,
   "metadata": {},
   "outputs": [
    {
     "name": "stdout",
     "output_type": "stream",
     "text": [
      "T恤的尺码：Xxl,T恤的字样：LOVE\n",
      "T恤的尺码：Xxl,T恤的字样：LOVE\n"
     ]
    }
   ],
   "source": [
    "def make_shirt(shirt_size,shirt_type):\n",
    "    print(\"T恤的尺码：\"+shirt_size.title()+\",T恤的字样：\"+shirt_type)\n",
    "make_shirt('xxl','LOVE')\n",
    "make_shirt(shirt_size='xxl',shirt_type='LOVE')"
   ]
  },
  {
   "cell_type": "code",
   "execution_count": 41,
   "metadata": {},
   "outputs": [
    {
     "name": "stdout",
     "output_type": "stream",
     "text": [
      "T恤的尺码：xl,T恤的字样：I love python\n",
      "T恤的尺码：xl,T恤的字样：I love python\n",
      "T恤的尺码：xxl,T恤的字样：LOVE\n"
     ]
    }
   ],
   "source": [
    "def make_shirt(shirt_size='xxl',shirt_type='I love python'):\n",
    "    print(\"T恤的尺码：\"+shirt_size+\",T恤的字样：\"+shirt_type)\n",
    "make_shirt('xl')\n",
    "make_shirt(shirt_size='xl')\n",
    "make_shirt(shirt_size='xxl',shirt_type='LOVE')\n"
   ]
  },
  {
   "cell_type": "code",
   "execution_count": 44,
   "metadata": {},
   "outputs": [
    {
     "name": "stdout",
     "output_type": "stream",
     "text": [
      "Abcis inIceland\n",
      "Beijingis inChina\n",
      "洛杉矶is in美国\n"
     ]
    }
   ],
   "source": [
    "def describe_city(city='abc',country='iceland'):\n",
    "    print(city.title() + \"is in\" + country.title())\n",
    "describe_city()\n",
    "describe_city(\"beijing\",\"china\")\n",
    "describe_city(city='洛杉矶',country='美国')"
   ]
  },
  {
   "cell_type": "code",
   "execution_count": 48,
   "metadata": {},
   "outputs": [
    {
     "name": "stdout",
     "output_type": "stream",
     "text": [
      "Jimi Hendrix\n",
      "John Hooker Lee\n"
     ]
    }
   ],
   "source": [
    "def name(first_name,last_name,middle_name=''):\n",
    "    if middle_name:\n",
    "        full_name=first_name+' '+middle_name+' '+last_name\n",
    "    else:\n",
    "        full_name=first_name+' '+last_name\n",
    "    return full_name.title()\n",
    "musician=name('jimi','hendrix')\n",
    "print(musician)\n",
    "musician=name('john','lee','hooker')\n",
    "print(musician)"
   ]
  },
  {
   "cell_type": "code",
   "execution_count": 49,
   "metadata": {},
   "outputs": [
    {
     "name": "stdout",
     "output_type": "stream",
     "text": [
      "\n",
      "请告诉我你的名字\n",
      "输入q结束\n",
      "如果没有中间名字，请输入空格\n",
      "First_name:ash\n",
      "Last_name:linx\n",
      "Middle_name: \n",
      "Ash   Linx\n",
      "\n",
      "请告诉我你的名字\n",
      "输入q结束\n",
      "如果没有中间名字，请输入空格\n",
      "First_name:q\n",
      "Last_name:q\n",
      "Middle_name:q\n"
     ]
    }
   ],
   "source": [
    "def name(first_name,last_name,middle_name):\n",
    "    if middle_name:\n",
    "        full_name=first_name+' '+middle_name+' '+last_name\n",
    "    else:\n",
    "        full_name=first_name+' '+last_name\n",
    "    return full_name.title()\n",
    "while True:\n",
    "    print(\"\\n请告诉我你的名字\")\n",
    "    print('输入q结束')\n",
    "    print(\"如果没有中间名字，请输入空格\")\n",
    "    f_name=input(\"First_name:\")\n",
    "    l_name=input(\"Last_name:\")\n",
    "    m_name=input(\"Middle_name:\")\n",
    "    if f_name=='q':\n",
    "        break\n",
    "    if l_name=='q':\n",
    "        break\n",
    "    if m_name=='q':\n",
    "        break\n",
    "    musician=name(f_name,l_name,m_name)\n",
    "    print(musician)"
   ]
  },
  {
   "cell_type": "code",
   "execution_count": 1,
   "metadata": {},
   "outputs": [
    {
     "name": "stdout",
     "output_type": "stream",
     "text": [
      "1*1=1\t\n",
      "2*1=2\t2*2=4\t\n",
      "3*1=3\t3*2=6\t3*3=9\t\n",
      "4*1=4\t4*2=8\t4*3=12\t4*4=16\t\n",
      "5*1=5\t5*2=10\t5*3=15\t5*4=20\t5*5=25\t\n",
      "6*1=6\t6*2=12\t6*3=18\t6*4=24\t6*5=30\t6*6=36\t\n",
      "7*1=7\t7*2=14\t7*3=21\t7*4=28\t7*5=35\t7*6=42\t7*7=49\t\n",
      "8*1=8\t8*2=16\t8*3=24\t8*4=32\t8*5=40\t8*6=48\t8*7=56\t8*8=64\t\n",
      "9*1=9\t9*2=18\t9*3=27\t9*4=36\t9*5=45\t9*6=54\t9*7=63\t9*8=72\t9*9=81\t\n"
     ]
    }
   ],
   "source": [
    "for i in range(1,10):\n",
    "    for j in range(1,i+1):\n",
    "        print(\"%d*%d=%d\\t\"%(i,j,i*j),end='')\n",
    "    print('')"
   ]
  },
  {
   "cell_type": "code",
   "execution_count": 2,
   "metadata": {},
   "outputs": [
    {
     "name": "stdout",
     "output_type": "stream",
     "text": [
      "please input a number(n>=2):8\n",
      "0.75\n"
     ]
    }
   ],
   "source": [
    "n = eval(input(\"please input a number(n>=2):\"))\n",
    "\n",
    "sum1=0\n",
    "sum2=0\n",
    "\n",
    "for i in range(5,2*n,4):\n",
    "    sum1+=1/i\n",
    "for j in range(3,2*n,4):\n",
    "    sum2-=1/j\n",
    "    \n",
    "sum=1+sum1+sum2\n",
    "print(\"%.2F\"%sum)"
   ]
  },
  {
   "cell_type": "code",
   "execution_count": 3,
   "metadata": {},
   "outputs": [
    {
     "name": "stdout",
     "output_type": "stream",
     "text": [
      "山有木兮木有枝，心悦君兮君不知。\n"
     ]
    }
   ],
   "source": [
    "import requests\n",
    "from bs4 import BeautifulSoup\n",
    "\n",
    "link = \"https://so.gushiwen.org/mingju/juv_2d8bb03f1e19.aspx\"\n",
    "link = \"https://so.gushiwen.org/mingju/juv_2d8bb03f1e19.aspx\"\n",
    "headers = {'User-Agent':'Mozilla/5.0 (Windows NT 10.0; Win64; x64)'\n",
    "           'AppleWebKit/537.36 (KHTML, like Gecko) Chrome/86.0.4240.193 Safari/537.36'}\n",
    "\n",
    "r = requests.get(link, headers = headers)\n",
    "\n",
    "soup = BeautifulSoup(r.text,\"lxml\")\n",
    "content = soup.find(\"div\",class_=\"contson\", id=\"contson4a96c8287eb5\").span.text.strip()\n",
    "print(content)"
   ]
  },
  {
   "cell_type": "code",
   "execution_count": null,
   "metadata": {},
   "outputs": [],
   "source": []
  }
 ],
 "metadata": {
  "kernelspec": {
   "display_name": "Python 3",
   "language": "python",
   "name": "python3"
  },
  "language_info": {
   "codemirror_mode": {
    "name": "ipython",
    "version": 3
   },
   "file_extension": ".py",
   "mimetype": "text/x-python",
   "name": "python",
   "nbconvert_exporter": "python",
   "pygments_lexer": "ipython3",
   "version": "3.8.3"
  }
 },
 "nbformat": 4,
 "nbformat_minor": 4
}
