{
 "cells": [
  {
   "cell_type": "code",
   "execution_count": 14,
   "metadata": {},
   "outputs": [
    {
     "name": "stdout",
     "output_type": "stream",
     "text": [
      "print string mylist: [10, 20, 30, 40, 50, 60]\n",
      "print extend mylist: [10, 20, 30, 40, 50, 60]\n",
      "print string mylist: [10, 20, 30, 40, 50, 60, [7, 8, 9]]\n",
      "print append mylist: [10, 20, 30, 40, 50, 60, [7, 8, 9]]\n"
     ]
    }
   ],
   "source": [
    "def changeextend(str):\n",
    "    \"print string with extend\"\n",
    "    mylist.extend([40,50,60]);\n",
    "    print (\"print string mylist:\",mylist)\n",
    "    return\n",
    "def changeappend(str):\n",
    "    \"print string with append\" \n",
    "    mylist.append( [7,8,9] )\n",
    "    print(\"print string mylist:\",mylist )\n",
    "    return\n",
    "mylist = [10,20,30]\n",
    "changeextend( mylist );\n",
    "print (\"print extend mylist:\", mylist )\n",
    "changeappend( mylist );\n",
    "print (\"print append mylist:\", mylist )"
   ]
  },
  {
   "cell_type": "code",
   "execution_count": 15,
   "metadata": {},
   "outputs": [
    {
     "name": "stdout",
     "output_type": "stream",
     "text": [
      "{'user': 'root', 'num': [2, 3]}\n",
      "{'user': 'root', 'num': [2, 3]}\n",
      "{'user': 'runoob', 'num': [2, 3]}\n"
     ]
    }
   ],
   "source": [
    "dict1 =  {'user':'runoob','num':[1,2,3]}\n",
    " \n",
    "dict2 = dict1          # 浅拷贝: 引用对象\n",
    "dict3 = dict1.copy()   # 浅拷贝：深拷贝父对象（一级目录），子对象（二级目录）不拷贝，还是引用\n",
    " \n",
    "# 修改 data 数据\n",
    "dict1['user']='root'\n",
    "dict1['num'].remove(1)\n",
    " \n",
    "# 输出结果\n",
    "print(dict1)\n",
    "print(dict2)\n",
    "print(dict3)"
   ]
  },
  {
   "cell_type": "code",
   "execution_count": 16,
   "metadata": {},
   "outputs": [
    {
     "name": "stdout",
     "output_type": "stream",
     "text": [
      "1\n",
      "1\n",
      "2\n",
      "3\n",
      "5\n",
      "8\n"
     ]
    }
   ],
   "source": [
    "a, b = 0, 1\n",
    "while b < 10:\n",
    "    print(b)\n",
    "    a, b = b, a+b"
   ]
  },
  {
   "cell_type": "markdown",
   "metadata": {},
   "source": [
    "## pyecharts\n",
    "Apache ECharts (incubating) 是一个由百度开源的数据可视化，凭借着良好的交互性，精巧的图表设计，得到了众多开发者的认可。而 Python 是一门富有表达力的语言，很适合用于数据处理。当数据分析遇上数据可视化时，pyecharts 诞生了。  \n",
    "https://github.com/pyecharts/pyecharts\n",
    "```\n",
    "pip install pyecharts\n",
    "```"
   ]
  },
  {
   "cell_type": "code",
   "execution_count": 18,
   "metadata": {},
   "outputs": [
    {
     "data": {
      "text/html": [
       "<!DOCTYPE html>\n",
       "<html>\n",
       "<head>\n",
       "    <meta charset=\"UTF-8\">\n",
       "</head>\n",
       "<body>\n",
       "        <div id=\"7303221bda934c7884b3b6cc606503bc\" class=\"chart-container\" style=\"width:900px; height:500px;\"></div>\n",
       "    <script>\n",
       "        var chart_7303221bda934c7884b3b6cc606503bc = echarts.init(\n",
       "            document.getElementById('7303221bda934c7884b3b6cc606503bc'), 'light', {renderer: 'canvas'});\n",
       "        var option_7303221bda934c7884b3b6cc606503bc = {\n",
       "    \"animation\": true,\n",
       "    \"animationThreshold\": 2000,\n",
       "    \"animationDuration\": 1000,\n",
       "    \"animationEasing\": \"cubicOut\",\n",
       "    \"animationDelay\": 0,\n",
       "    \"animationDurationUpdate\": 300,\n",
       "    \"animationEasingUpdate\": \"cubicOut\",\n",
       "    \"animationDelayUpdate\": 0,\n",
       "    \"series\": [\n",
       "        {\n",
       "            \"type\": \"bar\",\n",
       "            \"name\": \"\\u5546\\u5bb6A\",\n",
       "            \"legendHoverLink\": true,\n",
       "            \"data\": [\n",
       "                5,\n",
       "                20,\n",
       "                36,\n",
       "                10,\n",
       "                75,\n",
       "                90\n",
       "            ],\n",
       "            \"showBackground\": false,\n",
       "            \"barMinHeight\": 0,\n",
       "            \"barCategoryGap\": \"20%\",\n",
       "            \"barGap\": \"30%\",\n",
       "            \"large\": false,\n",
       "            \"largeThreshold\": 400,\n",
       "            \"seriesLayoutBy\": \"column\",\n",
       "            \"datasetIndex\": 0,\n",
       "            \"clip\": true,\n",
       "            \"zlevel\": 0,\n",
       "            \"z\": 2,\n",
       "            \"label\": {\n",
       "                \"show\": true,\n",
       "                \"position\": \"top\",\n",
       "                \"margin\": 8\n",
       "            }\n",
       "        },\n",
       "        {\n",
       "            \"type\": \"bar\",\n",
       "            \"name\": \"\\u5546\\u5bb6B\",\n",
       "            \"legendHoverLink\": true,\n",
       "            \"data\": [\n",
       "                15,\n",
       "                6,\n",
       "                45,\n",
       "                20,\n",
       "                35,\n",
       "                66\n",
       "            ],\n",
       "            \"showBackground\": false,\n",
       "            \"barMinHeight\": 0,\n",
       "            \"barCategoryGap\": \"20%\",\n",
       "            \"barGap\": \"30%\",\n",
       "            \"large\": false,\n",
       "            \"largeThreshold\": 400,\n",
       "            \"seriesLayoutBy\": \"column\",\n",
       "            \"datasetIndex\": 0,\n",
       "            \"clip\": true,\n",
       "            \"zlevel\": 0,\n",
       "            \"z\": 2,\n",
       "            \"label\": {\n",
       "                \"show\": true,\n",
       "                \"position\": \"top\",\n",
       "                \"margin\": 8\n",
       "            }\n",
       "        }\n",
       "    ],\n",
       "    \"legend\": [\n",
       "        {\n",
       "            \"data\": [\n",
       "                \"\\u5546\\u5bb6A\",\n",
       "                \"\\u5546\\u5bb6B\"\n",
       "            ],\n",
       "            \"selected\": {\n",
       "                \"\\u5546\\u5bb6A\": true,\n",
       "                \"\\u5546\\u5bb6B\": true\n",
       "            },\n",
       "            \"show\": true,\n",
       "            \"padding\": 5,\n",
       "            \"itemGap\": 10,\n",
       "            \"itemWidth\": 25,\n",
       "            \"itemHeight\": 14\n",
       "        }\n",
       "    ],\n",
       "    \"tooltip\": {\n",
       "        \"show\": true,\n",
       "        \"trigger\": \"item\",\n",
       "        \"triggerOn\": \"mousemove|click\",\n",
       "        \"axisPointer\": {\n",
       "            \"type\": \"line\"\n",
       "        },\n",
       "        \"showContent\": true,\n",
       "        \"alwaysShowContent\": false,\n",
       "        \"showDelay\": 0,\n",
       "        \"hideDelay\": 100,\n",
       "        \"textStyle\": {\n",
       "            \"fontSize\": 14\n",
       "        },\n",
       "        \"borderWidth\": 0,\n",
       "        \"padding\": 5\n",
       "    },\n",
       "    \"xAxis\": [\n",
       "        {\n",
       "            \"show\": true,\n",
       "            \"scale\": false,\n",
       "            \"nameLocation\": \"end\",\n",
       "            \"nameGap\": 15,\n",
       "            \"gridIndex\": 0,\n",
       "            \"inverse\": false,\n",
       "            \"offset\": 0,\n",
       "            \"splitNumber\": 5,\n",
       "            \"minInterval\": 0,\n",
       "            \"splitLine\": {\n",
       "                \"show\": false,\n",
       "                \"lineStyle\": {\n",
       "                    \"show\": true,\n",
       "                    \"width\": 1,\n",
       "                    \"opacity\": 1,\n",
       "                    \"curveness\": 0,\n",
       "                    \"type\": \"solid\"\n",
       "                }\n",
       "            },\n",
       "            \"data\": [\n",
       "                \"\\u886c\\u886b\",\n",
       "                \"\\u7f8a\\u6bdb\\u886b\",\n",
       "                \"\\u96ea\\u7eba\\u886b\",\n",
       "                \"\\u88e4\\u5b50\",\n",
       "                \"\\u9ad8\\u8ddf\\u978b\",\n",
       "                \"\\u889c\\u5b50\"\n",
       "            ]\n",
       "        }\n",
       "    ],\n",
       "    \"yAxis\": [\n",
       "        {\n",
       "            \"show\": true,\n",
       "            \"scale\": false,\n",
       "            \"nameLocation\": \"end\",\n",
       "            \"nameGap\": 15,\n",
       "            \"gridIndex\": 0,\n",
       "            \"inverse\": false,\n",
       "            \"offset\": 0,\n",
       "            \"splitNumber\": 5,\n",
       "            \"minInterval\": 0,\n",
       "            \"splitLine\": {\n",
       "                \"show\": false,\n",
       "                \"lineStyle\": {\n",
       "                    \"show\": true,\n",
       "                    \"width\": 1,\n",
       "                    \"opacity\": 1,\n",
       "                    \"curveness\": 0,\n",
       "                    \"type\": \"solid\"\n",
       "                }\n",
       "            }\n",
       "        }\n",
       "    ],\n",
       "    \"title\": [\n",
       "        {\n",
       "            \"text\": \"\\u4e3b\\u6807\\u9898\",\n",
       "            \"subtext\": \"\\u526f\\u6807\\u9898\",\n",
       "            \"padding\": 5,\n",
       "            \"itemGap\": 10\n",
       "        }\n",
       "    ]\n",
       "};\n",
       "        chart_7303221bda934c7884b3b6cc606503bc.setOption(option_7303221bda934c7884b3b6cc606503bc);\n",
       "    </script>\n",
       "</body>\n",
       "</html>\n"
      ],
      "text/plain": [
       "<pyecharts.render.display.HTML at 0x2a1ca803f60>"
      ]
     },
     "execution_count": 18,
     "metadata": {},
     "output_type": "execute_result"
    }
   ],
   "source": [
    "from pyecharts.globals import CurrentConfig, NotebookType\n",
    "CurrentConfig.NOTEBOOK_TYPE = NotebookType.JUPYTER_LAB\n",
    "\n",
    "from pyecharts.charts import Bar\n",
    "from pyecharts import options as opts\n",
    "# 内置主题类型可查看 pyecharts.globals.ThemeType\n",
    "from pyecharts.globals import ThemeType\n",
    "\n",
    "bar = (\n",
    "    Bar(init_opts=opts.InitOpts(theme=ThemeType.LIGHT))\n",
    "    .add_xaxis([\"衬衫\", \"羊毛衫\", \"雪纺衫\", \"裤子\", \"高跟鞋\", \"袜子\"])\n",
    "    .add_yaxis(\"商家A\", [5, 20, 36, 10, 75, 90])\n",
    "    .add_yaxis(\"商家B\", [15, 6, 45, 20, 35, 66])\n",
    "    .set_global_opts(title_opts=opts.TitleOpts(title=\"主标题\", subtitle=\"副标题\"))\n",
    ")\n",
    "bar.load_javascript()\n",
    "bar.render_notebook()"
   ]
  },
  {
   "cell_type": "code",
   "execution_count": 20,
   "metadata": {},
   "outputs": [
    {
     "name": "stdout",
     "output_type": "stream",
     "text": [
      "matchObj.group() :  Cats are smarter than dogs\n",
      "matchObj.group(1) :  Cats\n",
      "matchObj.group(2) :  smarter\n"
     ]
    }
   ],
   "source": [
    "import re\n",
    " \n",
    "line = \"Cats are smarter than dogs\"\n",
    "# .* 表示任意匹配除换行符（\\n、\\r）之外的任何单个或多个字符\n",
    "matchObj = re.match( r'(.*) are (.*?) .*', line, re.M|re.I)\n",
    " \n",
    "if matchObj:\n",
    "   print (\"matchObj.group() : \", matchObj.group())\n",
    "   print (\"matchObj.group(1) : \", matchObj.group(1))\n",
    "   print (\"matchObj.group(2) : \", matchObj.group(2))\n",
    "else:\n",
    "   print (\"No match!!\")"
   ]
  },
  {
   "cell_type": "code",
   "execution_count": 21,
   "metadata": {},
   "outputs": [
    {
     "name": "stdout",
     "output_type": "stream",
     "text": [
      "(0, 3)\n",
      "(11, 14)\n"
     ]
    }
   ],
   "source": [
    "#!/usr/bin/python3\n",
    " \n",
    "import re\n",
    " \n",
    "print(re.search('www', 'www.runoob.com').span())  # 在起始位置匹配\n",
    "print(re.search('com', 'www.runoob.com').span())         # 不在起始位置匹配"
   ]
  },
  {
   "cell_type": "code",
   "execution_count": 22,
   "metadata": {},
   "outputs": [
    {
     "name": "stdout",
     "output_type": "stream",
     "text": [
      "searchObj.group() :  Cats are smarter than dogs\n",
      "searchObj.group(1) :  Cats\n",
      "searchObj.group(2) :  smarter\n"
     ]
    }
   ],
   "source": [
    "import re\n",
    " \n",
    "line = \"Cats are smarter than dogs\"\n",
    " \n",
    "searchObj = re.search( r'(.*) are (.*?) .*', line, re.M|re.I)\n",
    " \n",
    "if searchObj:\n",
    "   print (\"searchObj.group() : \", searchObj.group())\n",
    "   print (\"searchObj.group(1) : \", searchObj.group(1))\n",
    "   print (\"searchObj.group(2) : \", searchObj.group(2))\n",
    "else:\n",
    "   print (\"Nothing found!!\")"
   ]
  },
  {
   "cell_type": "code",
   "execution_count": 23,
   "metadata": {},
   "outputs": [
    {
     "name": "stdout",
     "output_type": "stream",
     "text": [
      "No match!!\n",
      "search --> matchObj.group() :  dogs\n"
     ]
    }
   ],
   "source": [
    "#!/usr/bin/python3\n",
    " \n",
    "import re\n",
    " \n",
    "line = \"Cats are smarter than dogs\"\n",
    " \n",
    "matchObj = re.match( r'dogs', line, re.M|re.I)\n",
    "if matchObj:\n",
    "   print (\"match --> matchObj.group() : \", matchObj.group())\n",
    "else:\n",
    "   print (\"No match!!\")\n",
    " \n",
    "matchObj = re.search( r'dogs', line, re.M|re.I)\n",
    "if matchObj:\n",
    "   print (\"search --> matchObj.group() : \", matchObj.group())\n",
    "else:\n",
    "   print (\"No match!!\")"
   ]
  },
  {
   "cell_type": "code",
   "execution_count": 24,
   "metadata": {},
   "outputs": [
    {
     "name": "stdout",
     "output_type": "stream",
     "text": [
      "电话号码 :  2004-959-559 \n",
      "电话号码 :  2004959559\n"
     ]
    }
   ],
   "source": [
    "#!/usr/bin/python3\n",
    "import re\n",
    " \n",
    "phone = \"2004-959-559 # 这是一个电话号码\"\n",
    " \n",
    "# 删除注释\n",
    "num = re.sub(r'#.*$', \"\", phone)\n",
    "print (\"电话号码 : \", num)\n",
    " \n",
    "# 移除非数字的内容\n",
    "num = re.sub(r'\\D', \"\", phone)\n",
    "print (\"电话号码 : \", num)"
   ]
  },
  {
   "cell_type": "code",
   "execution_count": 25,
   "metadata": {},
   "outputs": [
    {
     "name": "stdout",
     "output_type": "stream",
     "text": [
      "A46G8HFD1134\n"
     ]
    }
   ],
   "source": [
    "import re\n",
    " \n",
    "# 将匹配的数字乘于 2\n",
    "def double(matched):\n",
    "    value = int(matched.group('value'))\n",
    "    return str(value * 2)\n",
    " \n",
    "s = 'A23G4HFD567'\n",
    "print(re.sub('(?P<value>\\d+)', double, s))"
   ]
  },
  {
   "cell_type": "code",
   "execution_count": 26,
   "metadata": {},
   "outputs": [
    {
     "name": "stdout",
     "output_type": "stream",
     "text": [
      "['123', '456']\n",
      "['123', '456']\n",
      "['88', '12']\n"
     ]
    }
   ],
   "source": [
    "import re\n",
    " \n",
    "result1 = re.findall(r'\\d+','runoob 123 google 456')\n",
    " \n",
    "pattern = re.compile(r'\\d+')   # 查找数字\n",
    "result2 = pattern.findall('runoob 123 google 456')\n",
    "result3 = pattern.findall('run88oob123google456', 0, 10)\n",
    " \n",
    "print(result1)\n",
    "print(result2)\n",
    "print(result3)"
   ]
  },
  {
   "cell_type": "code",
   "execution_count": 27,
   "metadata": {},
   "outputs": [
    {
     "name": "stdout",
     "output_type": "stream",
     "text": [
      "12\n",
      "32\n",
      "43\n",
      "3\n"
     ]
    }
   ],
   "source": [
    "import re\n",
    " \n",
    "it = re.finditer(r\"\\d+\",\"12a32bc43jf3\") \n",
    "for match in it: \n",
    "    print (match.group() )"
   ]
  },
  {
   "cell_type": "code",
   "execution_count": 28,
   "metadata": {},
   "outputs": [
    {
     "name": "stdout",
     "output_type": "stream",
     "text": [
      "Python 原始数据： {'no': 1, 'name': 'Runoob', 'url': 'http://www.runoob.com'}\n",
      "JSON 对象： {\"no\": 1, \"name\": \"Runoob\", \"url\": \"http://www.runoob.com\"}\n"
     ]
    }
   ],
   "source": [
    "#!/usr/bin/python3\n",
    " \n",
    "import json\n",
    " \n",
    "# Python 字典类型转换为 JSON 对象\n",
    "data = {\n",
    "    'no' : 1,\n",
    "    'name' : 'Runoob',\n",
    "    'url' : 'http://www.runoob.com'\n",
    "}\n",
    " \n",
    "json_str = json.dumps(data)\n",
    "print (\"Python 原始数据：\", repr(data))\n",
    "print (\"JSON 对象：\", json_str)"
   ]
  },
  {
   "cell_type": "code",
   "execution_count": 29,
   "metadata": {},
   "outputs": [
    {
     "name": "stdout",
     "output_type": "stream",
     "text": [
      "Python 原始数据： {'no': 1, 'name': 'Runoob', 'url': 'http://www.runoob.com'}\n",
      "JSON 对象： {\"no\": 1, \"name\": \"Runoob\", \"url\": \"http://www.runoob.com\"}\n",
      "data2['name']:  Runoob\n",
      "data2['url']:  http://www.runoob.com\n"
     ]
    }
   ],
   "source": [
    "#!/usr/bin/python3\n",
    " \n",
    "import json\n",
    " \n",
    "# Python 字典类型转换为 JSON 对象\n",
    "data1 = {\n",
    "    'no' : 1,\n",
    "    'name' : 'Runoob',\n",
    "    'url' : 'http://www.runoob.com'\n",
    "}\n",
    " \n",
    "json_str = json.dumps(data1)\n",
    "print (\"Python 原始数据：\", repr(data1))\n",
    "print (\"JSON 对象：\", json_str)\n",
    " \n",
    "# 将 JSON 对象转换为 Python 字典\n",
    "data2 = json.loads(json_str)\n",
    "print (\"data2['name']: \", data2['name'])\n",
    "print (\"data2['url']: \", data2['url'])"
   ]
  },
  {
   "cell_type": "code",
   "execution_count": 30,
   "metadata": {},
   "outputs": [
    {
     "name": "stdout",
     "output_type": "stream",
     "text": [
      "当前时间戳为: 1608259695.9240572\n"
     ]
    }
   ],
   "source": [
    "#!/usr/bin/python3\n",
    "\n",
    "import time  # 引入time模块\n",
    "\n",
    "ticks = time.time()\n",
    "print (\"当前时间戳为:\", ticks)"
   ]
  },
  {
   "cell_type": "code",
   "execution_count": 31,
   "metadata": {},
   "outputs": [
    {
     "name": "stdout",
     "output_type": "stream",
     "text": [
      "本地时间为 : time.struct_time(tm_year=2020, tm_mon=12, tm_mday=18, tm_hour=10, tm_min=48, tm_sec=22, tm_wday=4, tm_yday=353, tm_isdst=0)\n"
     ]
    }
   ],
   "source": [
    "#!/usr/bin/python3\n",
    "\n",
    "import time\n",
    "\n",
    "localtime = time.localtime(time.time())\n",
    "print (\"本地时间为 :\", localtime)"
   ]
  },
  {
   "cell_type": "code",
   "execution_count": 32,
   "metadata": {},
   "outputs": [
    {
     "name": "stdout",
     "output_type": "stream",
     "text": [
      "本地时间为 : Fri Dec 18 10:48:27 2020\n"
     ]
    }
   ],
   "source": [
    "#!/usr/bin/python3\n",
    "\n",
    "import time\n",
    "\n",
    "localtime = time.asctime( time.localtime(time.time()) )\n",
    "print (\"本地时间为 :\", localtime)"
   ]
  },
  {
   "cell_type": "code",
   "execution_count": 33,
   "metadata": {},
   "outputs": [
    {
     "name": "stdout",
     "output_type": "stream",
     "text": [
      "2020-12-18 10:48:36\n",
      "Fri Dec 18 10:48:36 2020\n",
      "1459175064.0\n"
     ]
    }
   ],
   "source": [
    "#!/usr/bin/python3\n",
    "\n",
    "import time\n",
    "\n",
    "# 格式化成2016-03-20 11:45:39形式\n",
    "print (time.strftime(\"%Y-%m-%d %H:%M:%S\", time.localtime()))\n",
    "\n",
    "# 格式化成Sat Mar 28 22:24:24 2016形式\n",
    "print (time.strftime(\"%a %b %d %H:%M:%S %Y\", time.localtime()))\n",
    " \n",
    "# 将格式字符串转换为时间戳\n",
    "a = \"Sat Mar 28 22:24:24 2016\"\n",
    "print (time.mktime(time.strptime(a,\"%a %b %d %H:%M:%S %Y\")))"
   ]
  },
  {
   "cell_type": "code",
   "execution_count": 34,
   "metadata": {},
   "outputs": [
    {
     "name": "stdout",
     "output_type": "stream",
     "text": [
      "以下输出2016年1月份的日历:\n",
      "    January 2016\n",
      "Mo Tu We Th Fr Sa Su\n",
      "             1  2  3\n",
      " 4  5  6  7  8  9 10\n",
      "11 12 13 14 15 16 17\n",
      "18 19 20 21 22 23 24\n",
      "25 26 27 28 29 30 31\n",
      "\n"
     ]
    }
   ],
   "source": [
    "\n",
    "import calendar\n",
    "\n",
    "cal = calendar.month(2016, 1)\n",
    "print (\"以下输出2016年1月份的日历:\")\n",
    "print (cal)"
   ]
  },
  {
   "cell_type": "code",
   "execution_count": 35,
   "metadata": {},
   "outputs": [
    {
     "name": "stdout",
     "output_type": "stream",
     "text": [
      "1\n",
      "1\n",
      "2\n",
      "3\n",
      "5\n",
      "8\n"
     ]
    }
   ],
   "source": [
    "#!/usr/bin/python3\n",
    " \n",
    "# Fibonacci series: 斐波纳契数列\n",
    "# 两个元素的总和确定了下一个数\n",
    "a, b = 0, 1\n",
    "while b < 10:\n",
    "    print(b)\n",
    "    a, b = b, a+b"
   ]
  },
  {
   "cell_type": "code",
   "execution_count": 36,
   "metadata": {},
   "outputs": [
    {
     "name": "stdout",
     "output_type": "stream",
     "text": [
      "1,1,2,3,5,8,13,21,34,55,89,144,233,377,610,987,"
     ]
    }
   ],
   "source": [
    "#!/usr/bin/python3\n",
    " \n",
    "# Fibonacci series: 斐波纳契数列\n",
    "# 两个元素的总和确定了下一个数\n",
    "a, b = 0, 1\n",
    "while b < 1000:\n",
    "    print(b, end=',')\n",
    "    a, b = b, a+b"
   ]
  },
  {
   "cell_type": "code",
   "execution_count": 38,
   "metadata": {},
   "outputs": [
    {
     "name": "stdout",
     "output_type": "stream",
     "text": [
      "Hello World!\n"
     ]
    }
   ],
   "source": [
    "#!/usr/bin/python3\n",
    "\n",
    "def hello() :\n",
    "    print(\"Hello World!\")\n",
    "\n",
    "hello()"
   ]
  },
  {
   "cell_type": "code",
   "execution_count": 39,
   "metadata": {},
   "outputs": [
    {
     "name": "stdout",
     "output_type": "stream",
     "text": [
      "5\n"
     ]
    }
   ],
   "source": [
    "def max(a, b):\n",
    "    if a > b:\n",
    "        return a\n",
    "    else:\n",
    "        return b\n",
    " \n",
    "a = 4\n",
    "b = 5\n",
    "print(max(a, b))"
   ]
  },
  {
   "cell_type": "code",
   "execution_count": 40,
   "metadata": {},
   "outputs": [
    {
     "name": "stdout",
     "output_type": "stream",
     "text": [
      "Welcome Runoob\n",
      "width = 4  height = 5  area = 20\n"
     ]
    }
   ],
   "source": [
    "#!/usr/bin/python3\n",
    " \n",
    "# 计算面积函数\n",
    "def area(width, height):\n",
    "    return width * height\n",
    " \n",
    "def print_welcome(name):\n",
    "    print(\"Welcome\", name)\n",
    " \n",
    "print_welcome(\"Runoob\")\n",
    "w = 4\n",
    "h = 5\n",
    "print(\"width =\", w, \" height =\", h, \" area =\", area(w, h))"
   ]
  },
  {
   "cell_type": "code",
   "execution_count": 41,
   "metadata": {},
   "outputs": [
    {
     "name": "stdout",
     "output_type": "stream",
     "text": [
      "我要调用用户自定义函数!\n",
      "再次调用同一函数\n"
     ]
    }
   ],
   "source": [
    "#!/usr/bin/python3\n",
    " \n",
    "# 定义函数\n",
    "def printme( str ):\n",
    "   # 打印任何传入的字符串\n",
    "   print (str)\n",
    "   return\n",
    " \n",
    "# 调用函数\n",
    "printme(\"我要调用用户自定义函数!\")\n",
    "printme(\"再次调用同一函数\")"
   ]
  },
  {
   "cell_type": "code",
   "execution_count": 42,
   "metadata": {},
   "outputs": [
    {
     "name": "stdout",
     "output_type": "stream",
     "text": [
      "140707235688192\n",
      "140707235688192\n",
      "140707235688480\n"
     ]
    }
   ],
   "source": [
    "def change(a):\n",
    "    print(id(a))   # 指向的是同一个对象\n",
    "    a=10\n",
    "    print(id(a))   # 一个新对象\n",
    " \n",
    "a=1\n",
    "print(id(a))\n",
    "change(a)"
   ]
  },
  {
   "cell_type": "code",
   "execution_count": 43,
   "metadata": {},
   "outputs": [
    {
     "name": "stdout",
     "output_type": "stream",
     "text": [
      "函数内取值:  [10, 20, 30, [1, 2, 3, 4]]\n",
      "函数外取值:  [10, 20, 30, [1, 2, 3, 4]]\n"
     ]
    }
   ],
   "source": [
    "#!/usr/bin/python3\n",
    " \n",
    "# 可写函数说明\n",
    "def changeme( mylist ):\n",
    "   \"修改传入的列表\"\n",
    "   mylist.append([1,2,3,4])\n",
    "   print (\"函数内取值: \", mylist)\n",
    "   return\n",
    " \n",
    "# 调用changeme函数\n",
    "mylist = [10,20,30]\n",
    "changeme( mylist )\n",
    "print (\"函数外取值: \", mylist)"
   ]
  },
  {
   "cell_type": "code",
   "execution_count": 45,
   "metadata": {},
   "outputs": [
    {
     "name": "stdout",
     "output_type": "stream",
     "text": [
      "菜鸟教程\n"
     ]
    }
   ],
   "source": [
    "#!/usr/bin/python3\n",
    " \n",
    "#可写函数说明\n",
    "def printme( str ):\n",
    "   \"打印任何传入的字符串\"\n",
    "   print (str)\n",
    "   return\n",
    " \n",
    "#调用printme函数\n",
    "printme( str = \"菜鸟教程\")"
   ]
  },
  {
   "cell_type": "code",
   "execution_count": null,
   "metadata": {},
   "outputs": [],
   "source": []
  }
 ],
 "metadata": {
  "kernelspec": {
   "display_name": "Python 3",
   "language": "python",
   "name": "python3"
  },
  "language_info": {
   "codemirror_mode": {
    "name": "ipython",
    "version": 3
   },
   "file_extension": ".py",
   "mimetype": "text/x-python",
   "name": "python",
   "nbconvert_exporter": "python",
   "pygments_lexer": "ipython3",
   "version": "3.7.0"
  }
 },
 "nbformat": 4,
 "nbformat_minor": 4
}
