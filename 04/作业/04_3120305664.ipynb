{
 "cells": [
  {
   "cell_type": "code",
   "execution_count": 10,
   "metadata": {},
   "outputs": [
    {
     "name": "stdout",
     "output_type": "stream",
     "text": [
      "Please enter your name:zwj\n",
      "hello,zwj!\n"
     ]
    }
   ],
   "source": [
    "name=input(\"Please enter your name:\")\n",
    "print(\"hello,\"+name+\"!\")"
   ]
  },
  {
   "cell_type": "code",
   "execution_count": 11,
   "metadata": {},
   "outputs": [
    {
     "name": "stdout",
     "output_type": "stream",
     "text": [
      "请输入一个字符: f\n",
      "请输入一个ASCII码: 34\n",
      "f 的ASCII 码为 102\n",
      "34  对应的字符为 \"\n"
     ]
    }
   ],
   "source": [
    "# Filename : test.py\n",
    "# author by : www.runoob.com\n",
    " \n",
    "# 用户输入字符\n",
    "c = input(\"请输入一个字符: \")\n",
    " \n",
    "# 用户输入ASCII码，并将输入的数字转为整型\n",
    "a = int(input(\"请输入一个ASCII码: \"))\n",
    " \n",
    " \n",
    "print( c + \" 的ASCII 码为\", ord(c))\n",
    "print( a , \" 对应的字符为\", chr(a))"
   ]
  },
  {
   "cell_type": "code",
   "execution_count": 12,
   "metadata": {},
   "outputs": [
    {
     "name": "stdout",
     "output_type": "stream",
     "text": [
      "输入第一个数字: 8\n",
      "输入第二个数字: 9\n",
      "8 和 9 的最小公倍数为 72\n"
     ]
    }
   ],
   "source": [
    "# Filename : test.py\n",
    "# author by : www.runoob.com\n",
    " \n",
    "# 定义函数\n",
    "def lcm(x, y):\n",
    " \n",
    "   #  获取最大的数\n",
    "   if x > y:\n",
    "       greater = x\n",
    "   else:\n",
    "       greater = y\n",
    " \n",
    "   while(True):\n",
    "       if((greater % x == 0) and (greater % y == 0)):\n",
    "           lcm = greater\n",
    "           break\n",
    "       greater += 1\n",
    " \n",
    "   return lcm\n",
    " \n",
    " \n",
    "# 获取用户输入\n",
    "num1 = int(input(\"输入第一个数字: \"))\n",
    "num2 = int(input(\"输入第二个数字: \"))\n",
    " \n",
    "print( num1,\"和\", num2,\"的最小公倍数为\", lcm(num1, num2))"
   ]
  },
  {
   "cell_type": "code",
   "execution_count": 13,
   "metadata": {},
   "outputs": [
    {
     "name": "stdout",
     "output_type": "stream",
     "text": [
      "测试实例一\n",
      "False\n",
      "False\n",
      "False\n",
      "True\n",
      "False\n",
      "False\n",
      "False\n",
      "------------------------\n",
      "测试实例二\n",
      "True\n",
      "True\n",
      "False\n",
      "True\n",
      "False\n",
      "False\n",
      "False\n"
     ]
    }
   ],
   "source": [
    "# Filename : test.py\n",
    "# author by : www.runoob.com\n",
    "\n",
    "# 测试实例一\n",
    "print(\"测试实例一\")\n",
    "str = \"runoob.com\"\n",
    "print(str.isalnum()) # 判断所有字符都是数字或者字母\n",
    "print(str.isalpha()) # 判断所有字符都是字母\n",
    "print(str.isdigit()) # 判断所有字符都是数字\n",
    "print(str.islower()) # 判断所有字符都是小写\n",
    "print(str.isupper()) # 判断所有字符都是大写\n",
    "print(str.istitle()) # 判断所有单词都是首字母大写，像标题\n",
    "print(str.isspace()) # 判断所有字符都是空白字符、\\t、\\n、\\r\n",
    "\n",
    "print(\"------------------------\")\n",
    "\n",
    "# 测试实例二\n",
    "print(\"测试实例二\")\n",
    "str = \"runoob\"\n",
    "print(str.isalnum())\n",
    "print(str.isalpha())\n",
    "print(str.isdigit())\n",
    "print(str.islower())\n",
    "print(str.isupper())\n",
    "print(str.istitle())\n",
    "print(str.isspace())"
   ]
  },
  {
   "cell_type": "code",
   "execution_count": 14,
   "metadata": {},
   "outputs": [
    {
     "name": "stdout",
     "output_type": "stream",
     "text": [
      "这是一个注册表\n",
      "请告诉我你的名字： zwj\n",
      "Hello,zwj!\n"
     ]
    }
   ],
   "source": [
    "#多行\n",
    "message=\"这是一个注册表\"\n",
    "message+=\"\\n请告诉我你的名字： \"\n",
    "name=input(message)\n",
    "print(\"Hello,\"+name+\"!\")"
   ]
  },
  {
   "cell_type": "code",
   "execution_count": 15,
   "metadata": {},
   "outputs": [
    {
     "name": "stdout",
     "output_type": "stream",
     "text": [
      "你多大了？22\n",
      "22\n",
      "ohoh\n"
     ]
    }
   ],
   "source": [
    "age=input(\"你多大了？\")\n",
    "age=int(age)\n",
    "print(age)\n",
    "if age >18:\n",
    "    print(\"ohoh\")\n",
    "else:\n",
    "    print(\"hoho\")"
   ]
  },
  {
   "cell_type": "code",
   "execution_count": 16,
   "metadata": {},
   "outputs": [
    {
     "name": "stdout",
     "output_type": "stream",
     "text": [
      "输入一个数字？ 55\n",
      "这是一个奇数\n"
     ]
    }
   ],
   "source": [
    "number=input(\"输入一个数字？ \")\n",
    "number=int(number)\n",
    "if number%2==0:\n",
    "    print(\"这是一个偶数\")\n",
    "else:\n",
    "    print(\"这是一个奇数\")"
   ]
  },
  {
   "cell_type": "code",
   "execution_count": 17,
   "metadata": {},
   "outputs": [
    {
     "name": "stdout",
     "output_type": "stream",
     "text": [
      "你们几位？ 7\n",
      "有空桌\n"
     ]
    }
   ],
   "source": [
    "#7-2\n",
    "person=input(\"你们几位？ \")\n",
    "person=int(person)\n",
    "if person >8:\n",
    "    print(\"没有空桌\")\n",
    "else:\n",
    "    print(\"有空桌\")"
   ]
  },
  {
   "cell_type": "code",
   "execution_count": 18,
   "metadata": {},
   "outputs": [
    {
     "name": "stdout",
     "output_type": "stream",
     "text": [
      "输入数字？0\n",
      "Yes\n"
     ]
    }
   ],
   "source": [
    "#7-3\n",
    "number=input(\"输入数字？\")\n",
    "number=int(number)\n",
    "if number%10==0:\n",
    "    print(\"Yes\")\n",
    "else:\n",
    "    print(\"No\")"
   ]
  },
  {
   "cell_type": "code",
   "execution_count": 19,
   "metadata": {},
   "outputs": [
    {
     "name": "stdout",
     "output_type": "stream",
     "text": [
      "总共有3121条鱼\n"
     ]
    }
   ],
   "source": [
    "def main():\n",
    "    fish = 1\n",
    "    while True:\n",
    "        total, enough = fish, True\n",
    "        for _ in range(5):\n",
    "            if (total - 1) % 5 == 0:\n",
    "                total = (total - 1)  //  5 * 4\n",
    "            else:\n",
    "                enough = False\n",
    "                break\n",
    "        if enough:\n",
    "            print(f'总共有{fish}条鱼')\n",
    "            break\n",
    "        fish += 1\n",
    "\n",
    "\n",
    "if __name__ == '__main__':\n",
    "    main()"
   ]
  },
  {
   "cell_type": "code",
   "execution_count": 20,
   "metadata": {},
   "outputs": [
    {
     "name": "stdout",
     "output_type": "stream",
     "text": [
      "1\n",
      "2\n",
      "3\n",
      "4\n",
      "5\n"
     ]
    }
   ],
   "source": [
    "current_number=1\n",
    "while current_number<=5:\n",
    "    print(current_number)\n",
    "    current_number+=1"
   ]
  },
  {
   "cell_type": "code",
   "execution_count": 21,
   "metadata": {},
   "outputs": [
    {
     "name": "stdout",
     "output_type": "stream",
     "text": [
      "请输入？quit\n",
      "quit\n"
     ]
    }
   ],
   "source": [
    "message=\"\"\n",
    "while message!='quit':\n",
    "    message=input(\"请输入？\")\n",
    "    print(message)"
   ]
  },
  {
   "cell_type": "code",
   "execution_count": 22,
   "metadata": {},
   "outputs": [
    {
     "name": "stdout",
     "output_type": "stream",
     "text": [
      "请输入？3\n",
      "3\n",
      "请输入？quit\n"
     ]
    }
   ],
   "source": [
    "message=\"\"\n",
    "while message!='quit':\n",
    "    message=input(\"请输入？\")\n",
    "    if message!='quit':\n",
    "        print(message)"
   ]
  },
  {
   "cell_type": "code",
   "execution_count": 23,
   "metadata": {},
   "outputs": [
    {
     "name": "stdout",
     "output_type": "stream",
     "text": [
      "请输入？quit\n"
     ]
    }
   ],
   "source": [
    "message=\"\"\n",
    "active=True#首字母大写\n",
    "while active:\n",
    "    message=input(\"请输入？\")\n",
    "    if message=='quit':\n",
    "        active=False\n",
    "    else:\n",
    "        print(message)"
   ]
  },
  {
   "cell_type": "code",
   "execution_count": 26,
   "metadata": {},
   "outputs": [
    {
     "name": "stdout",
     "output_type": "stream",
     "text": [
      "\n",
      "请输入你的年龄22\n",
      "\n",
      "请输入你的年龄22\n",
      "\n",
      "请输入你的年龄*\n",
      "15\n"
     ]
    }
   ],
   "source": [
    "#7-5\n",
    "age=\"\"\n",
    "while age!=\"*\":\n",
    "    age=input(\"\\n请输入你的年龄\")\n",
    "    if age!=\"*\":\n",
    "        age=int(age)\n",
    "        if age<3:\n",
    "            price=0\n",
    "        elif age<12:\n",
    "            price=10\n",
    "        else:\n",
    "            price=15\n",
    "    else:\n",
    "        break\n",
    "print(price)"
   ]
  },
  {
   "cell_type": "code",
   "execution_count": 27,
   "metadata": {},
   "outputs": [
    {
     "name": "stdout",
     "output_type": "stream",
     "text": [
      "\n",
      "请输入你的年龄33\n",
      "\n",
      "请输入你的年龄22\n",
      "\n",
      "请输入你的年龄*\n"
     ]
    },
    {
     "ename": "ValueError",
     "evalue": "invalid literal for int() with base 10: '*'",
     "output_type": "error",
     "traceback": [
      "\u001b[1;31m---------------------------------------------------------------------------\u001b[0m",
      "\u001b[1;31mValueError\u001b[0m                                Traceback (most recent call last)",
      "\u001b[1;32m<ipython-input-27-e57366516afb>\u001b[0m in \u001b[0;36m<module>\u001b[1;34m\u001b[0m\n\u001b[0;32m      2\u001b[0m \u001b[1;32mwhile\u001b[0m \u001b[0mage\u001b[0m\u001b[1;33m!=\u001b[0m\u001b[1;34m\"*\"\u001b[0m\u001b[1;33m:\u001b[0m\u001b[1;33m\u001b[0m\u001b[1;33m\u001b[0m\u001b[0m\n\u001b[0;32m      3\u001b[0m     \u001b[0mage\u001b[0m\u001b[1;33m=\u001b[0m\u001b[0minput\u001b[0m\u001b[1;33m(\u001b[0m\u001b[1;34m\"\\n请输入你的年龄\"\u001b[0m\u001b[1;33m)\u001b[0m\u001b[1;33m\u001b[0m\u001b[1;33m\u001b[0m\u001b[0m\n\u001b[1;32m----> 4\u001b[1;33m     \u001b[0mage\u001b[0m\u001b[1;33m=\u001b[0m\u001b[0mint\u001b[0m\u001b[1;33m(\u001b[0m\u001b[0mage\u001b[0m\u001b[1;33m)\u001b[0m\u001b[1;33m\u001b[0m\u001b[1;33m\u001b[0m\u001b[0m\n\u001b[0m\u001b[0;32m      5\u001b[0m     \u001b[1;32mif\u001b[0m \u001b[0mage\u001b[0m\u001b[1;33m<\u001b[0m\u001b[1;36m3\u001b[0m \u001b[1;32mand\u001b[0m \u001b[0mage\u001b[0m\u001b[1;33m>\u001b[0m\u001b[1;36m0\u001b[0m\u001b[1;33m:\u001b[0m\u001b[1;33m\u001b[0m\u001b[1;33m\u001b[0m\u001b[0m\n\u001b[0;32m      6\u001b[0m         \u001b[0mprice\u001b[0m\u001b[1;33m=\u001b[0m\u001b[1;36m0\u001b[0m\u001b[1;33m\u001b[0m\u001b[1;33m\u001b[0m\u001b[0m\n",
      "\u001b[1;31mValueError\u001b[0m: invalid literal for int() with base 10: '*'"
     ]
    }
   ],
   "source": [
    "age=\"\"\n",
    "while age!=\"*\":\n",
    "    age=input(\"\\n请输入你的年龄\")\n",
    "    age=int(age)\n",
    "    if age<3 and age>0:\n",
    "        price=0\n",
    "    elif age<12 and age>=3:\n",
    "        price=10\n",
    "    else:\n",
    "        price=15\n",
    "print(price)"
   ]
  },
  {
   "cell_type": "code",
   "execution_count": 28,
   "metadata": {},
   "outputs": [
    {
     "name": "stdout",
     "output_type": "stream",
     "text": [
      "正在核实的用户：Candace\n",
      "正在核实的用户：Brian\n",
      "正在核实的用户：Alice\n",
      "\n",
      "下面的用户已经核实：\n",
      "Candace\n",
      "Brian\n",
      "Alice\n"
     ]
    }
   ],
   "source": [
    "unconfirmed_users=['alice','brian','candace']\n",
    "confirmed_users=[]\n",
    "while unconfirmed_users:\n",
    "    current_user=unconfirmed_users.pop()\n",
    "    print(\"正在核实的用户：\"+current_user.title())\n",
    "    confirmed_users.append(current_user)\n",
    "print(\"\\n下面的用户已经核实：\")\n",
    "for confirmed_user in confirmed_users:\n",
    "    print(confirmed_user.title())"
   ]
  },
  {
   "cell_type": "code",
   "execution_count": 29,
   "metadata": {},
   "outputs": [
    {
     "name": "stdout",
     "output_type": "stream",
     "text": [
      "['dog', 'cat', 'dog', 'cat', 'goldfish', 'rabbit']\n",
      "['cat', 'cat', 'goldfish', 'rabbit']\n"
     ]
    }
   ],
   "source": [
    "pets=['dog','cat','dog','cat','goldfish','rabbit']\n",
    "print(pets)\n",
    "while 'dog' in pets:\n",
    "    pets.remove('dog')\n",
    "print(pets)"
   ]
  },
  {
   "cell_type": "code",
   "execution_count": 30,
   "metadata": {},
   "outputs": [
    {
     "name": "stdout",
     "output_type": "stream",
     "text": [
      "[15, 14, 13, 12, 11, 10]\n"
     ]
    }
   ],
   "source": [
    "def Reverse(lst):\n",
    "    return [ele for ele in reversed(lst)]\n",
    "     \n",
    "lst = [10, 11, 12, 13, 14, 15]\n",
    "print(Reverse(lst))"
   ]
  },
  {
   "cell_type": "code",
   "execution_count": 31,
   "metadata": {},
   "outputs": [
    {
     "name": "stdout",
     "output_type": "stream",
     "text": [
      "Hello,Tom!\n"
     ]
    }
   ],
   "source": [
    "def greet_user(username):\n",
    "    \"\"\"显示简单的问候语\"\"\"\n",
    "    print(\"Hello,\"+username.title()+\"!\")\n",
    "greet_user('tom')"
   ]
  },
  {
   "cell_type": "code",
   "execution_count": 32,
   "metadata": {},
   "outputs": [
    {
     "name": "stdout",
     "output_type": "stream",
     "text": [
      "One of my favorite book is Alice in Wonderland.\n"
     ]
    }
   ],
   "source": [
    "\n",
    "#157\n",
    "#8-2\n",
    "def favorite_book(title):\n",
    "    \"\"\"喜欢的书\"\"\"\n",
    "    print(\"One of my favorite book is \"+title.title()+\" in Wonderland.\")\n",
    "favorite_book('alice')"
   ]
  },
  {
   "cell_type": "code",
   "execution_count": 33,
   "metadata": {},
   "outputs": [
    {
     "name": "stdout",
     "output_type": "stream",
     "text": [
      "T恤的尺码：Xxl, T恤的字样：LOVE\n",
      "T恤的尺码：Xxl, T恤的字样：LOVE\n"
     ]
    }
   ],
   "source": [
    "#8-3\n",
    "def make_shirt(shirt_size,shirt_type):\n",
    "    print(\"T恤的尺码：\"+shirt_size.title()+\", T恤的字样：\"+shirt_type)\n",
    "make_shirt('xxl','LOVE')\n",
    "make_shirt(shirt_size='xxl',shirt_type='LOVE')"
   ]
  },
  {
   "cell_type": "code",
   "execution_count": 34,
   "metadata": {},
   "outputs": [
    {
     "name": "stdout",
     "output_type": "stream",
     "text": [
      "T恤的尺码：xl, T恤的字样：I love python\n",
      "T恤的尺码：xl, T恤的字样：I love python\n",
      "T恤的尺码：xxl, T恤的字样：LOVE\n"
     ]
    }
   ],
   "source": [
    "#8-4\n",
    "def make_shirt(shirt_size='xxl',shirt_type='I love python'):\n",
    "    print(\"T恤的尺码：\"+shirt_size+\", T恤的字样：\"+shirt_type)\n",
    "make_shirt('xl')\n",
    "make_shirt(shirt_size='xl')\n",
    "make_shirt(shirt_size='xxl',shirt_type='LOVE')"
   ]
  },
  {
   "cell_type": "code",
   "execution_count": 35,
   "metadata": {},
   "outputs": [
    {
     "name": "stdout",
     "output_type": "stream",
     "text": [
      "Reykjavik is in Iceland\n",
      "Beijing is in China\n",
      "洛杉矶 is in 美国\n"
     ]
    }
   ],
   "source": [
    "#8-5\n",
    "def describe_city(city='reykjavik',country='iceland'):\n",
    "    print(city.title()+\" is in \"+country.title())\n",
    "describe_city()\n",
    "describe_city('beijing','china')\n",
    "describe_city(city='洛杉矶',country='美国')"
   ]
  },
  {
   "cell_type": "code",
   "execution_count": 36,
   "metadata": {},
   "outputs": [
    {
     "name": "stdout",
     "output_type": "stream",
     "text": [
      "Jimi Hendrix\n",
      "John Hooker Lee\n"
     ]
    }
   ],
   "source": [
    "def name(first_name,last_name,middle_name=''):\n",
    "    if middle_name:\n",
    "        full_name=first_name+' '+middle_name+' '+last_name\n",
    "    else:\n",
    "        full_name=first_name+' '+last_name\n",
    "    return full_name.title()\n",
    "musician=name('jimi','hendrix')\n",
    "print(musician)\n",
    "musician=name('john','lee','hooker')\n",
    "print(musician)"
   ]
  },
  {
   "cell_type": "code",
   "execution_count": 37,
   "metadata": {},
   "outputs": [
    {
     "name": "stdout",
     "output_type": "stream",
     "text": [
      "\n",
      "请告诉我你的名字\n",
      "输入q结束\n",
      "如果没有中间名字，请输入空格\n",
      "First_name:文娇\n",
      "Last_name:张\n",
      "Middle_name:\n",
      "文娇 张\n",
      "\n",
      "请告诉我你的名字\n",
      "输入q结束\n",
      "如果没有中间名字，请输入空格\n",
      "First_name: \n",
      "Last_name: \n",
      "Middle_name: \n",
      "     \n",
      "\n",
      "请告诉我你的名字\n",
      "输入q结束\n",
      "如果没有中间名字，请输入空格\n",
      "First_name:文娇\n",
      "Last_name:张\n",
      "Middle_name: \n",
      "文娇   张\n",
      "\n",
      "请告诉我你的名字\n",
      "输入q结束\n",
      "如果没有中间名字，请输入空格\n",
      "First_name:q\n",
      "Last_name:q\n",
      "Middle_name:q\n"
     ]
    }
   ],
   "source": [
    "def name(first_name,last_name,middle_name):\n",
    "    if middle_name:\n",
    "        full_name=first_name+' '+middle_name+' '+last_name\n",
    "    else:\n",
    "        full_name=first_name+' '+last_name\n",
    "    return full_name.title()\n",
    "while True:\n",
    "    print(\"\\n请告诉我你的名字\")\n",
    "    print(\"输入q结束\")\n",
    "    print(\"如果没有中间名字，请输入空格\")\n",
    "    f_name=input(\"First_name:\")\n",
    "    l_name=input(\"Last_name:\")\n",
    "    m_name=input(\"Middle_name:\")\n",
    "    if f_name=='q':\n",
    "        break\n",
    "    if l_name=='q':\n",
    "        break\n",
    "    if m_name=='q':\n",
    "        break\n",
    "    musician=name(f_name,l_name,m_name)\n",
    "    print(musician)"
   ]
  },
  {
   "cell_type": "code",
   "execution_count": null,
   "metadata": {},
   "outputs": [],
   "source": []
  }
 ],
 "metadata": {
  "kernelspec": {
   "display_name": "Python 3",
   "language": "python",
   "name": "python3"
  },
  "language_info": {
   "codemirror_mode": {
    "name": "ipython",
    "version": 3
   },
   "file_extension": ".py",
   "mimetype": "text/x-python",
   "name": "python",
   "nbconvert_exporter": "python",
   "pygments_lexer": "ipython3",
   "version": "3.6.12"
  }
 },
 "nbformat": 4,
 "nbformat_minor": 4
}
