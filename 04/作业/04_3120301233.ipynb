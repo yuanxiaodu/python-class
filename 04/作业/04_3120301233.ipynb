{
 "cells": [
  {
   "cell_type": "code",
   "execution_count": 2,
   "metadata": {},
   "outputs": [
    {
     "name": "stdout",
     "output_type": "stream",
     "text": [
      "153是水仙花数\n",
      "226是水仙花数\n",
      "373是水仙花数\n",
      "518是水仙花数\n"
     ]
    }
   ],
   "source": [
    "#求100~1000之间 各个数的立方和等于另外一个数\n",
    "for i in range(100,1000):\n",
    "    s=(i%10)**3+(i//10%10)**3+i//100\n",
    "    if s==i:\n",
    "        print(\"%d是水仙花数\"%i)"
   ]
  },
  {
   "cell_type": "code",
   "execution_count": 3,
   "metadata": {},
   "outputs": [
    {
     "name": "stdout",
     "output_type": "stream",
     "text": [
      "鸡有0只，兔子有25只\n",
      "鸡有2只，兔子有24只\n",
      "鸡有4只，兔子有23只\n",
      "鸡有6只，兔子有22只\n",
      "鸡有8只，兔子有21只\n",
      "鸡有10只，兔子有20只\n",
      "鸡有12只，兔子有19只\n",
      "鸡有14只，兔子有18只\n",
      "鸡有16只，兔子有17只\n",
      "鸡有18只，兔子有16只\n",
      "鸡有20只，兔子有15只\n",
      "鸡有22只，兔子有14只\n",
      "鸡有24只，兔子有13只\n",
      "鸡有26只，兔子有12只\n",
      "鸡有28只，兔子有11只\n",
      "鸡有30只，兔子有10只\n",
      "鸡有32只，兔子有9只\n",
      "鸡有34只，兔子有8只\n",
      "鸡有36只，兔子有7只\n",
      "鸡有38只，兔子有6只\n",
      "鸡有40只，兔子有5只\n",
      "鸡有42只，兔子有4只\n",
      "鸡有44只，兔子有3只\n",
      "鸡有46只，兔子有2只\n",
      "鸡有48只，兔子有1只\n",
      "鸡有50只，兔子有0只\n"
     ]
    }
   ],
   "source": [
    "#鸡兔同笼\n",
    "for ji in range(100):\n",
    "    for tu in range(100):\n",
    "        if ji*2+tu*4==100:\n",
    "            print(\"鸡有%d只，兔子有%d只\"%(ji,tu))"
   ]
  },
  {
   "cell_type": "code",
   "execution_count": 4,
   "metadata": {},
   "outputs": [
    {
     "name": "stdout",
     "output_type": "stream",
     "text": [
      "共可购买公鸡0只，母鸡25只，小鸡75只\n",
      "共可购买公鸡4只，母鸡18只，小鸡78只\n",
      "共可购买公鸡8只，母鸡11只，小鸡81只\n",
      "共可购买公鸡12只，母鸡4只，小鸡84只\n"
     ]
    }
   ],
   "source": [
    "#百钱买鸡\n",
    "for i in range(21):\n",
    "    for j in range(33):\n",
    "        for k in range(300):\n",
    "            if i+j+k==100 and i*5+j*3+k/3==100:\n",
    "                print('共可购买公鸡%d只，母鸡%d只，小鸡%d只'%(i,j,k))"
   ]
  },
  {
   "cell_type": "code",
   "execution_count": 5,
   "metadata": {},
   "outputs": [
    {
     "name": "stdout",
     "output_type": "stream",
     "text": [
      "[2, 3, 5, 7, 11, 13, 17, 19, 23, 29, 31, 37, 41, 43, 47, 53, 59, 61, 67, 71, 73, 79, 83, 89, 97]\n"
     ]
    }
   ],
   "source": [
    "#求1~100之间的素数\n",
    "l=[]\n",
    "for i in range(2,100):\n",
    "    j=2\n",
    "    for j in range(2,i):\n",
    "        if(i%j==0):\n",
    "            break\n",
    "    else:\n",
    "        l.append(i)\n",
    "print(l)"
   ]
  },
  {
   "cell_type": "code",
   "execution_count": 6,
   "metadata": {},
   "outputs": [
    {
     "name": "stdout",
     "output_type": "stream",
     "text": [
      "欢迎来到「七七的小世界」！\n",
      "七七对你的到来表示十二万分的兴高采烈w\n",
      "--------------------------\n",
      "今天天气真好呢！\n",
      "或许...\n",
      "你想和七七一起做游戏嘛（星星眼）\n",
      "--------------------------\n",
      "【请选择】\n",
      "(七七温馨提示：要输入大写的字母鸭)\n"
     ]
    },
    {
     "name": "stdin",
     "output_type": "stream",
     "text": [
      "A.想      B.不想\n",
      " A\n"
     ]
    },
    {
     "name": "stdout",
     "output_type": "stream",
     "text": [
      "(σ´∀`)σ 七七超开心，并努力抑制喜悦于言表\n",
      "那么，你想和七七玩儿什么呢\n"
     ]
    },
    {
     "name": "stdin",
     "output_type": "stream",
     "text": [
      "A.猜数字     B.打小怪兽     C.大人的游戏\n",
      " B\n"
     ]
    },
    {
     "name": "stdout",
     "output_type": "stream",
     "text": [
      "经过七七灵魂的透视，你的属性是：\n",
      "血量:2\n",
      "攻击:26\n",
      "emmm，接下来的路要小心啊！\n",
      "--------------------------\n",
      "遇到了一只小怪兽\n",
      "【请选择】\n"
     ]
    },
    {
     "name": "stdin",
     "output_type": "stream",
     "text": [
      "A.攻击      B.我要肥家\n",
      " B\n"
     ]
    },
    {
     "name": "stdout",
     "output_type": "stream",
     "text": [
      "--------------------------\n",
      "好啦好啦，你超棒der！\n",
      "（七七给你揉揉并送你回家休息♡\n",
      "--------------------------\n",
      "还要继续和七七一起玩儿嘛？\n",
      "【请选择】\n",
      "A.要！     B.七七拜拜，下次再和你一起玩辣\n"
     ]
    },
    {
     "name": "stdin",
     "output_type": "stream",
     "text": [
      "你的选择是：\n",
      " B\n"
     ]
    },
    {
     "name": "stdout",
     "output_type": "stream",
     "text": [
      "拜拜咯|ू･ω･` )七七会想你的唔！\n"
     ]
    }
   ],
   "source": [
    "#文字小游戏\n",
    "import time\n",
    "import random\n",
    "\n",
    "print('''欢迎来到「七七的小世界」！\n",
    "七七对你的到来表示十二万分的兴高采烈w''')\n",
    "time.sleep(1.5)\n",
    "print('--------------------------')\n",
    "print('''今天天气真好呢！\n",
    "或许...''')\n",
    "time.sleep(1.5)\n",
    "print('你想和七七一起做游戏嘛（星星眼）')\n",
    "time.sleep(1.5)\n",
    "print('--------------------------')\n",
    "print('【请选择】')\n",
    "print('(七七温馨提示：要输入大写的字母鸭)')\n",
    "a1 = input('A.想      B.不想\\n')\n",
    "if a1 == 'B' :\n",
    "    print('真遗憾，下次有缘再见咯~')\n",
    "    time.sleep(2)\n",
    "elif a1 == 'A':\n",
    "    while True:\n",
    "        print('(σ´∀`)σ 七七超开心，并努力抑制喜悦于言表')\n",
    "        time.sleep(1.5)\n",
    "        print('那么，你想和七七玩儿什么呢')\n",
    "        a2 = input('A.猜数字     B.打小怪兽     C.大人的游戏\\n')\n",
    "        if a2 == 'A' :\n",
    "            print('''嗯嗯！那就来猜一个50以内的整数好啦\\n来猜猜七七心里想的数是多少?\\n一共有五次机会哟''')\n",
    "            time.sleep(1.5)\n",
    "            right = random.randint(0,50)\n",
    "            for i in range(5):\n",
    "                print('--------------------------')\n",
    "                char = int(input('请输入：'))\n",
    "                if char == right :\n",
    "                    print('猜对啦，七七超级佩服你！')\n",
    "                    break\n",
    "                elif char>right:\n",
    "                    print('猜大了捏')\n",
    "                else:\n",
    "                    print('猜小了捏')\n",
    "            else:\n",
    "                print('五次机会都没有猜中，你失败啦')\n",
    "        elif a2 == 'B' :\n",
    "            blood = random.randint(1,100)\n",
    "            attack = random.randint(1,100)\n",
    "            print('经过七七灵魂的透视，你的属性是：')\n",
    "            print('血量:'+str(blood))\n",
    "            print('攻击:'+str(attack))\n",
    "            time.sleep(1.5)\n",
    "            if blood>80 or attack>80:\n",
    "                print('哇！！真是天赋异禀（七七趁你不注意偷偷擦口水）')\n",
    "            elif blood<20 or attack<20:\n",
    "                print('emmm，接下来的路要小心啊！')\n",
    "            else:\n",
    "                print('海星啊兄dei！加把劲我们可以干掉小怪兽~')\n",
    "            time.sleep(1.5)\n",
    "            print('--------------------------')\n",
    "            while blood>0:\n",
    "                time.sleep(1.5)\n",
    "                blood2 = random.randint(1,80)\n",
    "                attack2 = random.randint(1,80)\n",
    "                money2 = random.randint(1,10)\n",
    "                print('遇到了一只小怪兽')\n",
    "                print('【请选择】')\n",
    "                choice = input('A.攻击      B.我要肥家\\n')\n",
    "                if choice == 'A' :\n",
    "                    print('--------------------------')\n",
    "                    time.sleep(1)\n",
    "                    print('【小怪兽】\\n血量：%d\\n攻击：%d' % (blood2,attack2))\n",
    "                    print('--------------------------')\n",
    "                    time.sleep(1)\n",
    "\n",
    "                    while blood > 0 and blood2 > 0:\n",
    "                        blood = blood - attack2 \n",
    "                        blood2 = blood2 - attack\n",
    "                        print('你发起了攻击，【小怪兽】的血量%d' % blood2)\n",
    "                        print('同时，小怪兽向你发起了攻击，【你】的血量%d' % blood)\n",
    "                        print('--------------------------')\n",
    "                        time.sleep(1.2)\n",
    "\n",
    "                    if blood > 0 and blood2 <= 0:\n",
    "                        print('小怪兽死翘翘了，七七超级崇拜你！')\n",
    "                        print('获得了金币￥10！')\n",
    "                        print('要给七七买小零食嘛？')\n",
    "                        print('【请选择】')\n",
    "                        buy = input('A.要      B.不要\\n')\n",
    "                        if buy == 'A' :\n",
    "                            print('--------------------------')\n",
    "                            appetizer = ['香蕉可丽饼','草莓蛋糕','薄荷冰淇淋']\n",
    "                            print('七七收到了你的礼物...啊！竟然是七七最爱的'+random.choice(appetizer))\n",
    "                            print('七七开心到飞起来啦！')\n",
    "                            time.sleep(1.5)\n",
    "                        elif buy == 'B' :\n",
    "                            print('好叭qwq哭唧唧')\n",
    "                        print('--------------------------')\n",
    "                    elif blood <= 0 and blood2 > 0:\n",
    "                        print('啊呜呜qwq小怪兽把你干掉了！')\n",
    "                    else:\n",
    "                        print('哎呀呀，你和小怪兽都死翘翘了！')\n",
    "                elif choice =='B':\n",
    "                    print('--------------------------')\n",
    "                    break\n",
    "            print('''好啦好啦，你超棒der！\\n（七七给你揉揉并送你回家休息♡''')\n",
    "            time.sleep(1.5)\n",
    "        elif a2 == 'C' :\n",
    "            print('''诶诶诶///\\n大人的游戏是什么辣(捂脸)\\n七七只和有缘的人玩这个游戏哦''')\n",
    "            time.sleep(1.5)\n",
    "            name = input('请输入你的名字：')\n",
    "            if name == '小叭':\n",
    "                print('如果是小叭的话///可以噢')\n",
    "                print('咕嘿嘿嘿嘿嘿嘿')\n",
    "            else:\n",
    "                print('诶，真遗憾。你和七七不是有缘人呢')\n",
    "            time.sleep(1.5)\n",
    "        print('--------------------------\\n还要继续和七七一起玩儿嘛？\\n【请选择】\\nA.要！     B.七七拜拜，下次再和你一起玩辣')\n",
    "        a = input('你的选择是：\\n')\n",
    "        if a == 'B':\n",
    "            print('拜拜咯|ू･ω･` )七七会想你的唔！')\n",
    "            time.sleep(2)\n",
    "            break"
   ]
  },
  {
   "cell_type": "code",
   "execution_count": 3,
   "metadata": {},
   "outputs": [
    {
     "name": "stdout",
     "output_type": "stream",
     "text": [
      "1\n",
      "2\n",
      "3\n",
      "3\n",
      "4\n",
      "4\n",
      "3\n",
      "2\n",
      "1\n"
     ]
    }
   ],
   "source": [
    "class Node(object):\n",
    "# 节点，包括两个属性，一个是节点的值，一个是节点的下一个指向\n",
    "    def __init__(self, value):\n",
    "        self.value = value                    # 赋值给节点\n",
    "        self.next = None                    # 节点的下一个指向\n",
    "\n",
    "class stack(object):\n",
    "    def __init__(self):\n",
    "        self.top = None                   # 创建栈，赋予top栈顶属性，top初始为空\n",
    "\n",
    "    def peek(self):                       # 获取栈顶的元素，返回对应的值\n",
    "        if self.top != None:                # 如果栈顶不为空，也就是说栈里有数据\n",
    "            return self.top.value           # 那就直接返回栈顶的值\n",
    "        else:\n",
    "            return None                     # 如果栈里无数据，则返回None\n",
    "\n",
    "    def push(self, node):             # 添加元素到栈（参数包括self和节点的value，node）\n",
    "        if node != None:                    # 如果加入的节点，不为空\n",
    "            packNode = Node(node)         # 实例化Node类\n",
    "            packNode.next = self.top        # 将新增的节点的指向赋值为栈顶的指向\n",
    "            self.top = packNode            # 将栈顶的节点，赋值为新增节点\n",
    "            return packNode.value         # 返回节点的值\n",
    "        else:\n",
    "            return None \n",
    "\n",
    "    def pop(self):                       # 出栈\n",
    "        if self.top == None:              # 如果栈是空的\n",
    "            return None            \n",
    "        else:\n",
    "            tmp = self.top.value         # 将栈顶的值传给tmp\n",
    "            self.top = self.top.next     # 将栈顶指向变为目前栈顶的下一个节点\n",
    "            return tmp                   # 返回出栈的节点的值\n",
    "\n",
    "\n",
    "s = stack()\n",
    "a = Node(1)\n",
    "print(s.push(a).value)\n",
    "print(s.push(2))\n",
    "print(s.push(3))\n",
    "print(s.peek())\n",
    "print(s.push(4))\n",
    "print(s.pop())\n",
    "print(s.pop())\n",
    "print(s.pop())\n",
    "print(s.pop().value)\n"
   ]
  },
  {
   "cell_type": "code",
   "execution_count": 8,
   "metadata": {},
   "outputs": [
    {
     "name": "stdin",
     "output_type": "stream",
     "text": [
      "请输入您要模拟投掷骰子的总次数： 100\n"
     ]
    },
    {
     "name": "stdout",
     "output_type": "stream",
     "text": [
      "点数1模拟的次数为18，概率为0.18\n",
      "点数2模拟的次数为16，概率为0.16\n",
      "点数3模拟的次数为22，概率为0.22\n",
      "点数4模拟的次数为21，概率为0.21\n",
      "点数5模拟的次数为7，概率为0.07\n",
      "点数6模拟的次数为16，概率为0.16\n"
     ]
    }
   ],
   "source": [
    "#仍筛子小游戏\n",
    "import random\n",
    "\n",
    "def roll_selec():\n",
    "    select_num = random.randint(1,6)\n",
    "    return select_num\n",
    "\n",
    "def main():\n",
    "\n",
    "    try_times = eval(input('请输入您要模拟投掷骰子的总次数：'))\n",
    "    list_1 = [0] * 6\n",
    "    for i in range(try_times):\n",
    "        result = roll_selec()\n",
    "        for j in range(1,7):\n",
    "            if result == j:\n",
    "                list_1[j - 1] += 1\n",
    "    for k,x in enumerate(list_1):\n",
    "        print('点数{}模拟的次数为{}，概率为{}'.format(k+1,x,float(x/try_times)))\n",
    "\n",
    "if __name__ == '__main__':\n",
    "    main()\n"
   ]
  },
  {
   "cell_type": "code",
   "execution_count": null,
   "metadata": {},
   "outputs": [],
   "source": []
  }
 ],
 "metadata": {
  "kernelspec": {
   "display_name": "Python 3",
   "language": "python",
   "name": "python3"
  },
  "language_info": {
   "codemirror_mode": {
    "name": "ipython",
    "version": 3
   },
   "file_extension": ".py",
   "mimetype": "text/x-python",
   "name": "python",
   "nbconvert_exporter": "python",
   "pygments_lexer": "ipython3",
   "version": "3.8.5"
  }
 },
 "nbformat": 4,
 "nbformat_minor": 4
}
