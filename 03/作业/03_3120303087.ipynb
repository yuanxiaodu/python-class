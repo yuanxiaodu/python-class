{
 "cells": [
  {
   "cell_type": "code",
   "execution_count": 2,
   "metadata": {},
   "outputs": [
    {
     "name": "stdout",
     "output_type": "stream",
     "text": [
      "Hello world\n"
     ]
    }
   ],
   "source": [
    "def introduce(name):\n",
    "    print(\"Hello\", name)\n",
    "introduce(\"world\")"
   ]
  },
  {
   "cell_type": "code",
   "execution_count": 3,
   "metadata": {},
   "outputs": [
    {
     "name": "stdout",
     "output_type": "stream",
     "text": [
      "Hello www\n"
     ]
    }
   ],
   "source": [
    "introduce(\"www\")"
   ]
  },
  {
   "cell_type": "code",
   "execution_count": 1,
   "metadata": {},
   "outputs": [
    {
     "name": "stdout",
     "output_type": "stream",
     "text": [
      "a + b = 3\n"
     ]
    }
   ],
   "source": [
    "def add(a,b):\n",
    "    print(\"a + b =\", a+b)\n",
    "add(1,2)"
   ]
  },
  {
   "cell_type": "code",
   "execution_count": 2,
   "metadata": {},
   "outputs": [
    {
     "name": "stdout",
     "output_type": "stream",
     "text": [
      "a + b = 13\n"
     ]
    }
   ],
   "source": [
    "add(5,8)"
   ]
  },
  {
   "cell_type": "code",
   "execution_count": 3,
   "metadata": {},
   "outputs": [
    {
     "name": "stdout",
     "output_type": "stream",
     "text": [
      "第一个参数 1\n",
      "第二个参数 2\n"
     ]
    }
   ],
   "source": [
    "def two_arg(arg1,arg2):\n",
    "    print('第一个参数',arg1)\n",
    "    print(\"第二个参数\",arg2)\n",
    "two_arg(1,2)"
   ]
  },
  {
   "cell_type": "code",
   "execution_count": 4,
   "metadata": {},
   "outputs": [
    {
     "name": "stdout",
     "output_type": "stream",
     "text": [
      "姓名： 王三\n",
      "年龄： 18\n"
     ]
    }
   ],
   "source": [
    "def hello(name,age):\n",
    "    print(\"姓名：\",name)\n",
    "    print(\"年龄：\",age)\n",
    "    \n",
    "hello(\"王三\",18)"
   ]
  },
  {
   "cell_type": "code",
   "execution_count": 6,
   "metadata": {},
   "outputs": [
    {
     "name": "stdout",
     "output_type": "stream",
     "text": [
      "姓名： Mike\n",
      "年龄： 18\n"
     ]
    }
   ],
   "source": [
    "def hello(name,age):\n",
    "    print(\"姓名：\",name)\n",
    "    print(\"年龄：\",age)\n",
    "    \n",
    "hello('Mike',18)"
   ]
  },
  {
   "cell_type": "code",
   "execution_count": 8,
   "metadata": {},
   "outputs": [
    {
     "name": "stdout",
     "output_type": "stream",
     "text": [
      "姓名： 张三\n",
      "年龄： 18\n"
     ]
    }
   ],
   "source": [
    "def default_value(name, age = 18):\n",
    "    print(\"姓名：\",name)\n",
    "    print(\"年龄：\",age)\n",
    "    \n",
    "default_value(\"张三\")"
   ]
  },
  {
   "cell_type": "code",
   "execution_count": 9,
   "metadata": {},
   "outputs": [
    {
     "name": "stdout",
     "output_type": "stream",
     "text": [
      "姓名： 小明\n",
      "分数： 60\n",
      "地区： Shanghai\n"
     ]
    }
   ],
   "source": [
    "def student_score(name,score=60,location=\"Shanghai\"):\n",
    "    print(\"姓名：\",name)\n",
    "    print(\"分数：\",score)\n",
    "    print(\"地区：\",location)\n",
    "    \n",
    "student_score(\"小明\")"
   ]
  },
  {
   "cell_type": "code",
   "execution_count": 10,
   "metadata": {},
   "outputs": [
    {
     "name": "stdout",
     "output_type": "stream",
     "text": [
      "姓名： 小刚\n",
      "分数： 90\n",
      "地区： Guangzhou\n"
     ]
    }
   ],
   "source": [
    "student_score(\"小刚\",90,\"Guangzhou\")"
   ]
  },
  {
   "cell_type": "code",
   "execution_count": 14,
   "metadata": {},
   "outputs": [
    {
     "name": "stdout",
     "output_type": "stream",
     "text": [
      "姓名： 小夫\n",
      "分数： 60\n",
      "地区： Guangzhou\n"
     ]
    }
   ],
   "source": [
    "student_score(\"小夫\",location=\"Guangzhou\")"
   ]
  },
  {
   "cell_type": "code",
   "execution_count": 15,
   "metadata": {},
   "outputs": [
    {
     "name": "stdout",
     "output_type": "stream",
     "text": [
      "姓名： 胖虎\n",
      "分数： 85\n",
      "地区： Shanghai\n"
     ]
    }
   ],
   "source": [
    "student_score(\"胖虎\",score=85)"
   ]
  },
  {
   "cell_type": "code",
   "execution_count": 21,
   "metadata": {},
   "outputs": [
    {
     "name": "stdout",
     "output_type": "stream",
     "text": [
      "()\n",
      "('avacnac',)\n"
     ]
    }
   ],
   "source": [
    "def foo(*arg):\n",
    "    print(arg)\n",
    "foo()\n",
    "\n",
    "foo('avacnac')"
   ]
  },
  {
   "cell_type": "code",
   "execution_count": 23,
   "metadata": {},
   "outputs": [
    {
     "name": "stdout",
     "output_type": "stream",
     "text": [
      "{}\n",
      "{'name': 'avacnac'}\n"
     ]
    }
   ],
   "source": [
    "def foo(**larg):\n",
    "    print(larg)\n",
    "foo()\n",
    "\n",
    "foo(name='avacnac')"
   ]
  },
  {
   "cell_type": "code",
   "execution_count": 24,
   "metadata": {},
   "outputs": [
    {
     "name": "stdout",
     "output_type": "stream",
     "text": [
      "合计： 6\n",
      "姓名 王三\n"
     ]
    }
   ],
   "source": [
    "def calculate_sum(*args,**kwargs):\n",
    "    s = 0\n",
    "    for i in args:\n",
    "        s += i\n",
    "    print(\"合计：\",s)\n",
    "    for k,v in kwargs.items():\n",
    "        print(k,v)\n",
    "\n",
    "calculate_sum(1,2,3,姓名=\"王三\")"
   ]
  },
  {
   "cell_type": "code",
   "execution_count": 30,
   "metadata": {},
   "outputs": [
    {
     "name": "stdout",
     "output_type": "stream",
     "text": [
      "(1, 2, 3, 4)\n",
      "{'name1': 'abc', 'name2': 'def'}\n"
     ]
    }
   ],
   "source": [
    "def exp(*args,**kwargs):\n",
    "    print(args)\n",
    "    print(kwargs)\n",
    "    \n",
    "l = (1,2,3,4)\n",
    "d = { \n",
    "    'name1': \"abc\",\n",
    "    'name2': \"def\"\n",
    "}\n",
    "exp(*l,**d)"
   ]
  },
  {
   "cell_type": "code",
   "execution_count": 31,
   "metadata": {},
   "outputs": [
    {
     "name": "stdout",
     "output_type": "stream",
     "text": [
      "1\n"
     ]
    }
   ],
   "source": [
    "def foo(x):\n",
    "    print(x)\n",
    "foo(1)"
   ]
  },
  {
   "cell_type": "code",
   "execution_count": 32,
   "metadata": {},
   "outputs": [
    {
     "name": "stdout",
     "output_type": "stream",
     "text": [
      "函数内\n",
      "函数内\n"
     ]
    }
   ],
   "source": [
    "x = \"函数外\"\n",
    "\n",
    "def foo():\n",
    "    global x\n",
    "    x = \"函数内\"\n",
    "    print(x)\n",
    "foo()\n",
    "print(x)"
   ]
  },
  {
   "cell_type": "code",
   "execution_count": 34,
   "metadata": {},
   "outputs": [
    {
     "data": {
      "text/plain": [
       "'局部变量'"
      ]
     },
     "execution_count": 34,
     "metadata": {},
     "output_type": "execute_result"
    }
   ],
   "source": [
    "def foo():\n",
    "    x = \"局部变量\"\n",
    "    return x\n",
    "\n",
    "foo()"
   ]
  },
  {
   "cell_type": "code",
   "execution_count": 36,
   "metadata": {},
   "outputs": [
    {
     "name": "stdout",
     "output_type": "stream",
     "text": [
      "没有return\n"
     ]
    }
   ],
   "source": [
    "def no_return():\n",
    "    print(\"没有return\")\n",
    "no_return()"
   ]
  },
  {
   "cell_type": "code",
   "execution_count": 37,
   "metadata": {},
   "outputs": [
    {
     "name": "stdout",
     "output_type": "stream",
     "text": [
      "有return没有返回值\n"
     ]
    }
   ],
   "source": [
    "def no_return_value():\n",
    "    print(\"有return没有返回值\")\n",
    "    return\n",
    "no_return_value()"
   ]
  },
  {
   "cell_type": "code",
   "execution_count": 38,
   "metadata": {},
   "outputs": [
    {
     "data": {
      "text/plain": [
       "('a', 'b', 'c', 'd', 'e')"
      ]
     },
     "execution_count": 38,
     "metadata": {},
     "output_type": "execute_result"
    }
   ],
   "source": [
    "def multi_value():\n",
    "    x1 = \"a\"\n",
    "    x2 = \"b\"\n",
    "    x3 = \"c\"\n",
    "    x4 = \"d\"\n",
    "    x5 = \"e\"\n",
    "    return x1,x2,x3,x4,x5\n",
    "multi_value()"
   ]
  },
  {
   "cell_type": "code",
   "execution_count": 40,
   "metadata": {},
   "outputs": [
    {
     "ename": "ValueError",
     "evalue": "too many values to unpack (expected 2)",
     "output_type": "error",
     "traceback": [
      "\u001b[1;31m---------------------------------------------------------------------------\u001b[0m",
      "\u001b[1;31mValueError\u001b[0m                                Traceback (most recent call last)",
      "\u001b[1;32m<ipython-input-40-67ba368efd0b>\u001b[0m in \u001b[0;36m<module>\u001b[1;34m\u001b[0m\n\u001b[0;32m      2\u001b[0m     \u001b[1;32mreturn\u001b[0m \u001b[1;34m\"第一个返回值,第二个返回值\"\u001b[0m\u001b[1;33m\u001b[0m\u001b[1;33m\u001b[0m\u001b[0m\n\u001b[0;32m      3\u001b[0m \u001b[1;33m\u001b[0m\u001b[0m\n\u001b[1;32m----> 4\u001b[1;33m \u001b[0mr1\u001b[0m \u001b[1;33m,\u001b[0m \u001b[0mr2\u001b[0m \u001b[1;33m=\u001b[0m \u001b[0mtwo_value\u001b[0m\u001b[1;33m(\u001b[0m\u001b[1;33m)\u001b[0m\u001b[1;33m\u001b[0m\u001b[1;33m\u001b[0m\u001b[0m\n\u001b[0m\u001b[0;32m      5\u001b[0m \u001b[0mprint\u001b[0m\u001b[1;33m(\u001b[0m\u001b[0mr1\u001b[0m\u001b[1;33m)\u001b[0m\u001b[1;33m\u001b[0m\u001b[1;33m\u001b[0m\u001b[0m\n\u001b[0;32m      6\u001b[0m \u001b[0mprint\u001b[0m\u001b[1;33m(\u001b[0m\u001b[0mr2\u001b[0m\u001b[1;33m)\u001b[0m\u001b[1;33m\u001b[0m\u001b[1;33m\u001b[0m\u001b[0m\n",
      "\u001b[1;31mValueError\u001b[0m: too many values to unpack (expected 2)"
     ]
    }
   ],
   "source": [
    "def two_value():\n",
    "    return \"第一个返回值,第二个返回值\"\n",
    "\n",
    "r1,r2 = two_value()\n",
    "print(r1)\n",
    "print(r2)"
   ]
  },
  {
   "cell_type": "code",
   "execution_count": 45,
   "metadata": {},
   "outputs": [
    {
     "name": "stdout",
     "output_type": "stream",
     "text": [
      "<function <lambda> at 0x000001D5CD08A3A0>\n"
     ]
    },
    {
     "data": {
      "text/plain": [
       "3"
      ]
     },
     "execution_count": 45,
     "metadata": {},
     "output_type": "execute_result"
    }
   ],
   "source": [
    "z = lambda x,y: x + y\n",
    "print(z)\n",
    "\n",
    "f = z(1,2)\n",
    "f"
   ]
  },
  {
   "cell_type": "code",
   "execution_count": 62,
   "metadata": {},
   "outputs": [
    {
     "name": "stdout",
     "output_type": "stream",
     "text": [
      "<function <lambda> at 0x000001D5CD091670>\n"
     ]
    }
   ],
   "source": [
    "x = (1,2,3,4,5,6,7,8)\n",
    "\n",
    "a1 = lambda x: x>5\n",
    "print(a1)"
   ]
  },
  {
   "cell_type": "code",
   "execution_count": 3,
   "metadata": {},
   "outputs": [
    {
     "name": "stdin",
     "output_type": "stream",
     "text": [
      "input x: 5\n",
      "input y: 6\n",
      "input z: 7\n",
      "input n: 8\n"
     ]
    },
    {
     "name": "stdout",
     "output_type": "stream",
     "text": [
      "118\n"
     ]
    }
   ],
   "source": [
    "x=eval(input(\"input x:\"))\n",
    "y=eval(input(\"input y:\"))\n",
    "z=eval(input(\"input z:\"))\n",
    "n=eval(input(\"input n:\"))\n",
    "z=x+y\n",
    "for i in range(n-3):\n",
    "    x=y\n",
    "    y=z\n",
    "    z=x+y\n",
    "print(z)"
   ]
  },
  {
   "cell_type": "code",
   "execution_count": 4,
   "metadata": {},
   "outputs": [
    {
     "name": "stdin",
     "output_type": "stream",
     "text": [
      "如果是华氏转摄氏，请按1\n",
      ",如果是摄氏转华氏，请按2\n",
      " 1\n",
      "请输入华氏温度 80\n"
     ]
    },
    {
     "name": "stdout",
     "output_type": "stream",
     "text": [
      "80.0华氏度转是176.0摄氏度\n"
     ]
    },
    {
     "name": "stdin",
     "output_type": "stream",
     "text": [
      "请输入摄氏温度 90\n"
     ]
    },
    {
     "name": "stdout",
     "output_type": "stream",
     "text": [
      "90.0摄氏度转是80.0华氏度\n"
     ]
    }
   ],
   "source": [
    "for a in range(1):\n",
    "       a = int(input('如果是华氏转摄氏，请按1\\n,如果是摄氏转华氏，请按2\\n'))\n",
    "if a==1:\n",
    "        h = float(input(\"请输入华氏温度\"))\n",
    "        s = (h*1.8)+32\n",
    "        print(\"{}华氏度转是{}摄氏度\".format(h,s))\n",
    "else:a==2\n",
    "s1 = float(input(\"请输入摄氏温度\"))\n",
    "h1=(s-32)*5/9\n",
    "print(\"{}摄氏度转是{}华氏度\".format(s1,h1))"
   ]
  },
  {
   "cell_type": "code",
   "execution_count": 5,
   "metadata": {},
   "outputs": [
    {
     "name": "stdin",
     "output_type": "stream",
     "text": [
      "输入外圈的直径: 2\n",
      "输入内圈的直径: 1\n"
     ]
    },
    {
     "name": "stdout",
     "output_type": "stream",
     "text": [
      "外圈的面积是: 3.14\n",
      "内圈的面积是: 0.79\n",
      "圆环的面积是: 2.35\n"
     ]
    }
   ],
   "source": [
    "r1=input(\"输入外圈的直径:\")\n",
    "r2=input(\"输入内圈的直径:\")\n",
    "r1=eval(r1)/2\n",
    "r2=eval(r2)/2\n",
    "s1=r1*r1*3.14\n",
    "s2=r2*r2*3.14\n",
    "print('外圈的面积是: %.2f'%(s1))\n",
    "print('内圈的面积是: %.2f'%(s2))\n",
    "s3=s1-s2\n",
    "print('圆环的面积是: %.2f'%(s3))"
   ]
  },
  {
   "cell_type": "markdown",
   "metadata": {},
   "source": []
  },
  {
   "cell_type": "code",
   "execution_count": 7,
   "metadata": {},
   "outputs": [
    {
     "name": "stdin",
     "output_type": "stream",
     "text": [
      "711-231= 1\n"
     ]
    },
    {
     "name": "stdout",
     "output_type": "stream",
     "text": [
      "错误480\n"
     ]
    },
    {
     "name": "stdin",
     "output_type": "stream",
     "text": [
      "732-292= 1\n"
     ]
    },
    {
     "name": "stdout",
     "output_type": "stream",
     "text": [
      "错误440\n"
     ]
    },
    {
     "name": "stdin",
     "output_type": "stream",
     "text": [
      "964-46= 1\n"
     ]
    },
    {
     "name": "stdout",
     "output_type": "stream",
     "text": [
      "错误918\n"
     ]
    },
    {
     "name": "stdin",
     "output_type": "stream",
     "text": [
      "605-341= 1\n"
     ]
    },
    {
     "name": "stdout",
     "output_type": "stream",
     "text": [
      "错误264\n"
     ]
    },
    {
     "name": "stdin",
     "output_type": "stream",
     "text": [
      "400-301= 1\n"
     ]
    },
    {
     "name": "stdout",
     "output_type": "stream",
     "text": [
      "错误99\n"
     ]
    },
    {
     "name": "stdin",
     "output_type": "stream",
     "text": [
      "208-133= 1\n"
     ]
    },
    {
     "name": "stdout",
     "output_type": "stream",
     "text": [
      "错误75\n"
     ]
    },
    {
     "name": "stdin",
     "output_type": "stream",
     "text": [
      "756-228= 1\n"
     ]
    },
    {
     "name": "stdout",
     "output_type": "stream",
     "text": [
      "错误528\n"
     ]
    },
    {
     "name": "stdin",
     "output_type": "stream",
     "text": [
      "199-172= 1\n"
     ]
    },
    {
     "name": "stdout",
     "output_type": "stream",
     "text": [
      "错误27\n"
     ]
    },
    {
     "name": "stdin",
     "output_type": "stream",
     "text": [
      "510-3= 1\n"
     ]
    },
    {
     "name": "stdout",
     "output_type": "stream",
     "text": [
      "错误507\n"
     ]
    },
    {
     "name": "stdin",
     "output_type": "stream",
     "text": [
      "721-156= 1\n"
     ]
    },
    {
     "name": "stdout",
     "output_type": "stream",
     "text": [
      "错误565\n",
      "共0分\n"
     ]
    }
   ],
   "source": [
    "import random as ran\n",
    " \n",
    " \n",
    "r = 0\n",
    "for i in range(10):\n",
    "    #随机出两个数：\n",
    "    ans = ran.randint(1,1000)\n",
    "    res = ran.randint(1,1000)\n",
    " \n",
    "    #比较两个数的大小：\n",
    "    if ans >= res:\n",
    "        aaa = ans - res\n",
    "        bbb = input(str(ans) + \"-\" + str(res) + \"=\")\n",
    "        if bbb == \"退出\":\n",
    "            break\n",
    "        if str(aaa) == bbb :\n",
    "            print(\"正确\")\n",
    "            r = r + 10\n",
    "            print(\"加10分\")\n",
    "        else:\n",
    "            print(\"错误\" + str(aaa))\n",
    "    elif res >= ans:\n",
    "        aaa = res - ans\n",
    "        bbb = input(str(res) + \"-\" + str(ans) + \"=\")\n",
    "        if bbb == \"退出\":\n",
    "            break\n",
    "        if str(aaa) == bbb :\n",
    "            print(\"正确\")\n",
    "            r = r + 10\n",
    "            print(\"加10分\")\n",
    "        else:\n",
    "            print(\"错误\" + str(aaa))\n",
    "print(\"共\" + str(r) + \"分\")\n"
   ]
  },
  {
   "cell_type": "code",
   "execution_count": 8,
   "metadata": {},
   "outputs": [
    {
     "name": "stdout",
     "output_type": "stream",
     "text": [
      "1 1 2 3 5 8 13 21 34 55 89 144 233 377 610 987 1597 2584 4181 6765 10946 17711 28657 46368 75025 121393 196418 317811 514229 832040 1346269 2178309 3524578 5702887 9227465 \n"
     ]
    },
    {
     "ename": "NameError",
     "evalue": "name 'delta' is not defined",
     "output_type": "error",
     "traceback": [
      "\u001b[1;31m---------------------------------------------------------------------------\u001b[0m",
      "\u001b[1;31mNameError\u001b[0m                                 Traceback (most recent call last)",
      "\u001b[1;32m<ipython-input-8-01526efd7098>\u001b[0m in \u001b[0;36m<module>\u001b[1;34m\u001b[0m\n\u001b[0;32m     10\u001b[0m \u001b[1;33m\u001b[0m\u001b[0m\n\u001b[0;32m     11\u001b[0m \u001b[0mprint\u001b[0m\u001b[1;33m(\u001b[0m\u001b[1;33m)\u001b[0m\u001b[1;33m\u001b[0m\u001b[1;33m\u001b[0m\u001b[0m\n\u001b[1;32m---> 12\u001b[1;33m \u001b[0mprint\u001b[0m\u001b[1;33m(\u001b[0m\u001b[0mdelta\u001b[0m\u001b[1;33m)\u001b[0m\u001b[1;33m\u001b[0m\u001b[1;33m\u001b[0m\u001b[0m\n\u001b[0m",
      "\u001b[1;31mNameError\u001b[0m: name 'delta' is not defined"
     ]
    }
   ],
   "source": [
    "import datetime\n",
    "n =35\n",
    "start = datetime.datetime.now()\n",
    "def fib(n):\n",
    "    return 1 if n < 2 else fib(n-1) + fib(n-2)\n",
    "\n",
    "for i in range(n):\n",
    "    print(fib(i),end = ' ' )\n",
    "\n",
    "\n",
    "print()\n",
    "print(delta)"
   ]
  },
  {
   "cell_type": "code",
   "execution_count": 9,
   "metadata": {},
   "outputs": [
    {
     "name": "stdin",
     "output_type": "stream",
     "text": [
      "请输入文件名： abc\n",
      "请输入需要替换的单词或字符： c\n",
      "请输入新的单词或字符： a\n"
     ]
    },
    {
     "ename": "FileNotFoundError",
     "evalue": "[Errno 2] No such file or directory: 'abc'",
     "output_type": "error",
     "traceback": [
      "\u001b[1;31m---------------------------------------------------------------------------\u001b[0m",
      "\u001b[1;31mFileNotFoundError\u001b[0m                         Traceback (most recent call last)",
      "\u001b[1;32m<ipython-input-9-f2cf3bb6049d>\u001b[0m in \u001b[0;36m<module>\u001b[1;34m\u001b[0m\n\u001b[0;32m     21\u001b[0m \u001b[0mre_word\u001b[0m \u001b[1;33m=\u001b[0m \u001b[0minput\u001b[0m\u001b[1;33m(\u001b[0m\u001b[1;34m'请输入需要替换的单词或字符：'\u001b[0m\u001b[1;33m)\u001b[0m\u001b[1;33m\u001b[0m\u001b[1;33m\u001b[0m\u001b[0m\n\u001b[0;32m     22\u001b[0m \u001b[0mne_word\u001b[0m \u001b[1;33m=\u001b[0m \u001b[0minput\u001b[0m\u001b[1;33m(\u001b[0m\u001b[1;34m'请输入新的单词或字符：'\u001b[0m\u001b[1;33m)\u001b[0m\u001b[1;33m\u001b[0m\u001b[1;33m\u001b[0m\u001b[0m\n\u001b[1;32m---> 23\u001b[1;33m \u001b[0mfile_replace\u001b[0m\u001b[1;33m(\u001b[0m\u001b[0mfile_name\u001b[0m\u001b[1;33m,\u001b[0m\u001b[0mre_word\u001b[0m\u001b[1;33m,\u001b[0m\u001b[0mne_word\u001b[0m\u001b[1;33m)\u001b[0m\u001b[1;33m\u001b[0m\u001b[1;33m\u001b[0m\u001b[0m\n\u001b[0m",
      "\u001b[1;32m<ipython-input-9-f2cf3bb6049d>\u001b[0m in \u001b[0;36mfile_replace\u001b[1;34m(file_name, re_word, ne_word)\u001b[0m\n\u001b[0;32m      1\u001b[0m \u001b[1;32mdef\u001b[0m \u001b[0mfile_replace\u001b[0m\u001b[1;33m(\u001b[0m\u001b[0mfile_name\u001b[0m\u001b[1;33m,\u001b[0m\u001b[0mre_word\u001b[0m\u001b[1;33m,\u001b[0m\u001b[0mne_word\u001b[0m\u001b[1;33m)\u001b[0m\u001b[1;33m:\u001b[0m\u001b[1;33m\u001b[0m\u001b[1;33m\u001b[0m\u001b[0m\n\u001b[1;32m----> 2\u001b[1;33m     \u001b[0mf_read\u001b[0m \u001b[1;33m=\u001b[0m \u001b[0mopen\u001b[0m\u001b[1;33m(\u001b[0m\u001b[0mfile_name\u001b[0m\u001b[1;33m)\u001b[0m\u001b[1;33m\u001b[0m\u001b[1;33m\u001b[0m\u001b[0m\n\u001b[0m\u001b[0;32m      3\u001b[0m     \u001b[0mcontent\u001b[0m \u001b[1;33m=\u001b[0m \u001b[1;33m[\u001b[0m\u001b[1;33m]\u001b[0m\u001b[1;33m\u001b[0m\u001b[1;33m\u001b[0m\u001b[0m\n\u001b[0;32m      4\u001b[0m     \u001b[0mcount\u001b[0m \u001b[1;33m=\u001b[0m \u001b[1;36m0\u001b[0m\u001b[1;33m\u001b[0m\u001b[1;33m\u001b[0m\u001b[0m\n\u001b[0;32m      5\u001b[0m     \u001b[1;32mfor\u001b[0m \u001b[0meachword\u001b[0m \u001b[1;32min\u001b[0m \u001b[0mf_read\u001b[0m\u001b[1;33m:\u001b[0m\u001b[1;33m\u001b[0m\u001b[1;33m\u001b[0m\u001b[0m\n",
      "\u001b[1;31mFileNotFoundError\u001b[0m: [Errno 2] No such file or directory: 'abc'"
     ]
    }
   ],
   "source": [
    "def file_replace(file_name,re_word,ne_word):\n",
    "    f_read = open(file_name)\n",
    "    content = []\n",
    "    count = 0\n",
    "    for eachword in f_read:\n",
    "        if re_word in eachword:\n",
    "            count +=1\n",
    "            eachword = eachword.replace(re_word,ne_word)\n",
    "        content.append(eachword)\n",
    "    decide = input('\\n文件 %s 中共有%s个【%s】\\n您确定要把所有的【%s】替换为【%s】吗？\\n【YES/NO】：' \\\n",
    "                       % (file_name, count, re_word, re_word, ne_word))\n",
    "    if decide in ['YES', 'Yes', 'yes']:\n",
    "        f_write = open(file_name, 'w')\n",
    "        f_write.writelines(content)\n",
    "        f_write.close()\n",
    "\n",
    "    f_read.close()\n",
    "\n",
    "\n",
    "file_name = input('请输入文件名：')\n",
    "re_word = input('请输入需要替换的单词或字符：')\n",
    "ne_word = input('请输入新的单词或字符：')\n",
    "file_replace(file_name,re_word,ne_word)"
   ]
  },
  {
   "cell_type": "code",
   "execution_count": 10,
   "metadata": {},
   "outputs": [
    {
     "name": "stdout",
     "output_type": "stream",
     "text": [
      "153\n",
      "370\n",
      "371\n",
      "407\n"
     ]
    }
   ],
   "source": [
    "for i in range(100,1000):\n",
    "    temp = i\n",
    "    sum = 0\n",
    "    while temp:\n",
    "        sum +=(temp%10) ** 3\n",
    "        temp //=10\n",
    "    if sum == i:\n",
    "        print(i)"
   ]
  },
  {
   "cell_type": "code",
   "execution_count": 11,
   "metadata": {},
   "outputs": [
    {
     "name": "stdin",
     "output_type": "stream",
     "text": [
      "请输入密码 123456\n"
     ]
    },
    {
     "name": "stdout",
     "output_type": "stream",
     "text": [
      "密码错误!您还有 2 次机会"
     ]
    },
    {
     "name": "stdin",
     "output_type": "stream",
     "text": [
      "请输入密码 789456\n"
     ]
    },
    {
     "name": "stdout",
     "output_type": "stream",
     "text": [
      "密码错误!您还有 1 次机会"
     ]
    },
    {
     "name": "stdin",
     "output_type": "stream",
     "text": [
      "请输入密码 123456\n"
     ]
    },
    {
     "name": "stdout",
     "output_type": "stream",
     "text": [
      "密码错误!您还有 0 次机会"
     ]
    }
   ],
   "source": [
    "count = 3\n",
    "password = \"fishc.com\"\n",
    "while count:\n",
    "    passwd = input('请输入密码')\n",
    "    if passwd == password:\n",
    "        print('密码正确')\n",
    "        break\n",
    "    elif '*' in passwd:\n",
    "        print('密码中不能含有\"*\"号！您还有',count,'次机会！',end='')\n",
    "        continue\n",
    "    else:\n",
    "        print('密码错误!您还有',count-1,'次机会',end='')\n",
    "    count -=1\n"
   ]
  },
  {
   "cell_type": "code",
   "execution_count": 1,
   "metadata": {},
   "outputs": [
    {
     "name": "stdin",
     "output_type": "stream",
     "text": [
      "输入算π的个数 5\n"
     ]
    },
    {
     "name": "stdout",
     "output_type": "stream",
     "text": [
      "1π=3.14\n",
      "2π=6.28\n",
      "3π=9.42\n",
      "4π=12.56\n",
      "5π=15.7\n",
      "计算完毕\n"
     ]
    }
   ],
   "source": [
    "mubea = input (\"输入算π的个数\")\n",
    "mube = int(mubea) #目标算的π数\n",
    "ji = 0 #已经算的π数\n",
    "a=0\n",
    "b=0\n",
    "while ji != mube:\n",
    "    a=a+1\n",
    "    b=a\n",
    "    b=b*3.14\n",
    "    b1=round(b, 2)\n",
    "    c=str (b1)\n",
    "    d=\"π\"\n",
    "    e=str (a)\n",
    "    f=e+d #多少π\n",
    "    g=\"=\"\n",
    "    h=f+g #多少π等于\n",
    "    i=h+c\n",
    "    print(i)\n",
    "    ji=ji+1\n",
    "print(\"计算完毕\")"
   ]
  },
  {
   "cell_type": "code",
   "execution_count": 2,
   "metadata": {},
   "outputs": [
    {
     "name": "stdout",
     "output_type": "stream",
     "text": [
      "hello world\n",
      "hello world\n",
      "hello world\n",
      "hello world\n",
      "hello world\n"
     ]
    }
   ],
   "source": [
    "for i in range(0,5):\n",
    "    print ('hello world')"
   ]
  },
  {
   "cell_type": "code",
   "execution_count": 3,
   "metadata": {},
   "outputs": [
    {
     "name": "stdout",
     "output_type": "stream",
     "text": [
      "1 * 1 = 1\t\n",
      "\n",
      "2 * 1 = 2\t2 * 2 = 4\t\n",
      "\n",
      "3 * 1 = 3\t3 * 2 = 6\t3 * 3 = 9\t\n",
      "\n",
      "4 * 1 = 4\t4 * 2 = 8\t4 * 3 = 12\t4 * 4 = 16\t\n",
      "\n",
      "5 * 1 = 5\t5 * 2 = 10\t5 * 3 = 15\t5 * 4 = 20\t5 * 5 = 25\t\n",
      "\n",
      "6 * 1 = 6\t6 * 2 = 12\t6 * 3 = 18\t6 * 4 = 24\t6 * 5 = 30\t6 * 6 = 36\t\n",
      "\n",
      "7 * 1 = 7\t7 * 2 = 14\t7 * 3 = 21\t7 * 4 = 28\t7 * 5 = 35\t7 * 6 = 42\t7 * 7 = 49\t\n",
      "\n",
      "8 * 1 = 8\t8 * 2 = 16\t8 * 3 = 24\t8 * 4 = 32\t8 * 5 = 40\t8 * 6 = 48\t8 * 7 = 56\t8 * 8 = 64\t\n",
      "\n",
      "9 * 1 = 9\t9 * 2 = 18\t9 * 3 = 27\t9 * 4 = 36\t9 * 5 = 45\t9 * 6 = 54\t9 * 7 = 63\t9 * 8 = 72\t9 * 9 = 81\t\n",
      "\n"
     ]
    }
   ],
   "source": [
    "for i in range(1,10):\n",
    "    for j in range(1,i+1):\n",
    "        print(i,'*',j,'=',i*j,end='\\t')\n",
    "    print(\"\\n\")"
   ]
  },
  {
   "cell_type": "code",
   "execution_count": 4,
   "metadata": {},
   "outputs": [
    {
     "name": "stdin",
     "output_type": "stream",
     "text": [
      "输入自然数:  \n"
     ]
    },
    {
     "name": "stdout",
     "output_type": "stream",
     "text": [
      "是回文数\n"
     ]
    }
   ],
   "source": [
    "g=input(\"输入自然数: \")\n",
    "if g==g[::-1]:\n",
    "    print(\"是回文数\")\n",
    "else:\n",
    "    print(\"不是回文数\")"
   ]
  },
  {
   "cell_type": "code",
   "execution_count": 1,
   "metadata": {},
   "outputs": [
    {
     "name": "stdin",
     "output_type": "stream",
     "text": [
      "请回答以下问题 是为1 否  点击回车继续 0\n",
      "你是否加入小写字母： 0\n",
      "你是否加入大写字母： 0\n",
      "你是否需要数字组合： 1\n",
      "你是否需要特殊符号 0\n",
      "你需要多少位数密码 1\n",
      "你需要生成多少次 1\n"
     ]
    },
    {
     "name": "stdout",
     "output_type": "stream",
     "text": [
      "密码位数：1\n",
      "生成数量：1\n",
      "复杂系数：\n",
      "    小写：无\n",
      "    大写：无\n",
      "    数字：有\n",
      "    特殊符号：无\n",
      "\n",
      "正在执行\n",
      "4\n",
      "\n"
     ]
    },
    {
     "name": "stdin",
     "output_type": "stream",
     "text": [
      "是否保存 是1 或 否0 0\n",
      "回车退出软件 \n"
     ]
    }
   ],
   "source": [
    "#代码免费开源使用\n",
    "#请检查代码完整性\n",
    "\n",
    "try:\n",
    "    from random import choice\n",
    "    import sys\n",
    "\n",
    "\n",
    "    # 设出词库\n",
    "    ku_a = 'q', 'w', 'e', 'r', 't', 'y', 'u', 'i', 'o', 'p', 'a', 's', 'd', 'f',\\\n",
    "           'g', 'h', 'j', 'k', 'l', 'z', 'x', 'c', 'v', 'b', 'n', 'm'\n",
    "    ku_A = 'Q', 'W', 'E', 'R', 'T', 'Y', 'U', 'I', 'O', 'P', 'A', 'S', \\\n",
    "           'D', 'F', 'G', 'H', 'J', 'K', 'L', 'Z', 'X', 'C', 'V', 'B', 'N', 'M'\n",
    "    ku_0 = '0', '1', '2', '3', '4', '5', '6', '7', '8', '9'\n",
    "    ku_ = '~', '@', '#', '%', '^', '&', '*', '(', ')', '-', '=', '+'\n",
    "    # 了解需求\n",
    "    input('请回答以下问题 是为1 否  点击回车继续')\n",
    "    ku_a_ = input('你是否加入小写字母：')\n",
    "    ku_A_ = input('你是否加入大写字母：')\n",
    "    ku_0_ = input('你是否需要数字组合：')\n",
    "    ku_s = input('你是否需要特殊符号')\n",
    "    # 判断需求\n",
    "    aaa,AAA,k000,sss='有','有','有','有'\n",
    "    if ku_a_ != '1':\n",
    "        ku_a = ()\n",
    "\n",
    "        aaa = '无'\n",
    "    if ku_A_ != '1':\n",
    "        ku_A = ()\n",
    "        AAA = '无'\n",
    "    if ku_0_ != '1':\n",
    "        ku_0 = ()\n",
    "        k000 = '无'\n",
    "    if ku_s != '1':\n",
    "        ku_ = ()\n",
    "        sss = '无'\n",
    "    if (ku_a + ku_A + ku_0 + ku_) == ():\n",
    "        print('没有选择')\n",
    "        input('软件退出')\n",
    "        sys.exit()\n",
    "    # 询问次数\n",
    "    b = input('你需要多少位数密码')\n",
    "    e = input('你需要生成多少次')\n",
    "    f = int(e)\n",
    "    a = int(b)\n",
    "    if a > 100 or f > 10000:\n",
    "        print('位数最多为100位,且不能超过生成10000次')\n",
    "\n",
    "        sys.exit()\n",
    "    if a < 0 or f < 0:\n",
    "        print('无法生成负数')\n",
    "        sys.exit()\n",
    "    d = ''\n",
    "    cun = ''\n",
    "    cuns= ('密码位数：'+b+'\\n'\n",
    "            '生成数量：'+e+'\\n'\n",
    "            '复杂系数：'+'\\n'\n",
    "            '    '+'小写：'+aaa+'\\n'\n",
    "            '    '+'大写：'+AAA+'\\n'\n",
    "            '    '+'数字：'+k000+ '\\n'\n",
    "            '    '+'特殊符号：'+sss+'\\n')\n",
    "    print(cuns)\n",
    "\n",
    "\n",
    "    print('正在执行')\n",
    "    # 开始执行\n",
    "    for b in range(f):\n",
    "        for b in range(a):\n",
    "            c = (choice(ku_a + ku_A + ku_0 + ku_))\n",
    "            d += c\n",
    "\n",
    "        cun += (d)\n",
    "        cun += ('\\n')\n",
    "        d = ''\n",
    "    print(cun)\n",
    "    ss = input('是否保存 是1 或 否0')\n",
    "    if ss == '否' or ss == '0':\n",
    "        input('回车退出软件')\n",
    "    if ss == '是' or ss == '1':\n",
    "        lujings = input('请复制路径到这里:')\n",
    "        wenjianmings = input('输入文件名字:')\n",
    "        lujing = lujings + '/' + wenjianmings + '.txt'\n",
    "        with open(lujing, 'w') as f:\n",
    "            cuns+=cun\n",
    "\n",
    "\n",
    "            f.write(cuns)\n",
    "        print('已经尝试在', lujings, '下创建', wenjianmings, '.txt')\n",
    "except:\n",
    "    print('软件被你玩坏啦\\n你输入的请求无法被正常理解')"
   ]
  },
  {
   "cell_type": "code",
   "execution_count": null,
   "metadata": {},
   "outputs": [],
   "source": []
  }
 ],
 "metadata": {
  "kernelspec": {
   "display_name": "Python 3",
   "language": "python",
   "name": "python3"
  },
  "language_info": {
   "codemirror_mode": {
    "name": "ipython",
    "version": 3
   },
   "file_extension": ".py",
   "mimetype": "text/x-python",
   "name": "python",
   "nbconvert_exporter": "python",
   "pygments_lexer": "ipython3",
   "version": "3.8.3"
  }
 },
 "nbformat": 4,
 "nbformat_minor": 4
}
