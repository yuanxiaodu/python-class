{
 "cells": [
  {
   "cell_type": "code",
   "execution_count": 1,
   "metadata": {},
   "outputs": [
    {
     "name": "stdout",
     "output_type": "stream",
     "text": [
      "The num = 3\n",
      "nNum = 2\n",
      "The num = 4\n",
      "nNum = 3\n",
      "The num = 5\n",
      "nNum = 4\n"
     ]
    }
   ],
   "source": [
    "# -*- coding: UTF-8 -*-\n",
    "\n",
    "class Num:\n",
    "    nNum = 1\n",
    "    def inc(self):\n",
    "        self.nNum += 1\n",
    "        print ('nNum = %d' % self.nNum)\n",
    "\n",
    "if __name__ == '__main__':\n",
    "    nNum = 2\n",
    "    inst = Num()\n",
    "    for i in range(3):\n",
    "        nNum += 1\n",
    "        print ('The num = %d' % nNum)\n",
    "        inst.inc()"
   ]
  },
  {
   "cell_type": "code",
   "execution_count": 2,
   "metadata": {},
   "outputs": [
    {
     "name": "stdout",
     "output_type": "stream",
     "text": [
      "[17, 15, 4]\n",
      "[10, 12, 9]\n",
      "[11, 13, 18]\n"
     ]
    }
   ],
   "source": [
    "# -*- coding: UTF-8 -*-\n",
    " \n",
    "X = [[12,7,3],\n",
    "    [4 ,5,6],\n",
    "    [7 ,8,9]]\n",
    " \n",
    "Y = [[5,8,1],\n",
    "    [6,7,3],\n",
    "    [4,5,9]]\n",
    " \n",
    "result = [[0,0,0],\n",
    "         [0,0,0],\n",
    "         [0,0,0]]\n",
    " \n",
    "# 迭代输出行\n",
    "for i in range(len(X)):\n",
    "   # 迭代输出列\n",
    "   for j in range(len(X[0])):\n",
    "       result[i][j] = X[i][j] + Y[i][j]\n",
    " \n",
    "for r in result:\n",
    "   print(r)"
   ]
  },
  {
   "cell_type": "code",
   "execution_count": 3,
   "metadata": {},
   "outputs": [
    {
     "name": "stdout",
     "output_type": "stream",
     "text": [
      "The sum is 5050\n"
     ]
    }
   ],
   "source": [
    "# -*- coding: UTF-8 -*-\n",
    " \n",
    "tmp = 0\n",
    "for i in range(1,101):\n",
    "    tmp += i\n",
    "print ('The sum is %d' % tmp)"
   ]
  },
  {
   "cell_type": "code",
   "execution_count": 4,
   "metadata": {},
   "outputs": [
    {
     "name": "stdout",
     "output_type": "stream",
     "text": [
      "如果输入的数字小于 50，程序将停止运行。\n"
     ]
    },
    {
     "name": "stdin",
     "output_type": "stream",
     "text": [
      "请输入一个数字： 12\n"
     ]
    },
    {
     "name": "stdout",
     "output_type": "stream",
     "text": [
      "运算结果为: 144\n"
     ]
    },
    {
     "name": "stdin",
     "output_type": "stream",
     "text": [
      "请输入一个数字： 14\n"
     ]
    },
    {
     "name": "stdout",
     "output_type": "stream",
     "text": [
      "运算结果为: 196\n"
     ]
    },
    {
     "name": "stdin",
     "output_type": "stream",
     "text": [
      "请输入一个数字： 1\n"
     ]
    },
    {
     "name": "stdout",
     "output_type": "stream",
     "text": [
      "运算结果为: 1\n"
     ]
    }
   ],
   "source": [
    "# -*- coding: UTF-8 -*-\n",
    " \n",
    "TRUE = 1\n",
    "FALSE = 0\n",
    "def SQ(x):\n",
    "    return x * x\n",
    "print ('如果输入的数字小于 50，程序将停止运行。')\n",
    "again = 1\n",
    "while again:\n",
    "    num = int(input('请输入一个数字：'))\n",
    "    print ('运算结果为: %d' % (SQ(num)))\n",
    "    if SQ(num) >= 50:\n",
    "        again = TRUE\n",
    "    else:\n",
    "        again = FALSE"
   ]
  },
  {
   "cell_type": "code",
   "execution_count": 5,
   "metadata": {},
   "outputs": [
    {
     "name": "stdout",
     "output_type": "stream",
     "text": [
      "x = 10,y = 20\n",
      "x = 20,y = 10\n"
     ]
    }
   ],
   "source": [
    "# -*- coding: UTF-8 -*-\n",
    " \n",
    "def exchange(a,b):\n",
    "    a,b = b,a\n",
    "    return (a,b)\n",
    " \n",
    "if __name__ == '__main__':\n",
    "    x = 10\n",
    "    y = 20\n",
    "    print ('x = %d,y = %d' % (x,y))\n",
    "    x,y = exchange(x,y)\n",
    "    print ('x = %d,y = %d' % (x,y))"
   ]
  },
  {
   "cell_type": "code",
   "execution_count": 6,
   "metadata": {},
   "outputs": [
    {
     "name": "stdout",
     "output_type": "stream",
     "text": [
      "10 小于 20\n"
     ]
    }
   ],
   "source": [
    "# -*- coding: UTF-8 -*-\n",
    " \n",
    "if __name__ == '__main__':\n",
    "    i = 10\n",
    "    j = 20\n",
    "    if i > j:\n",
    "        print ('%d 大于 %d' % (i,j))\n",
    "    elif i == j:\n",
    "        print ('%d 等于 %d' % (i,j))\n",
    "    elif i < j:\n",
    "        print ('%d 小于 %d' % (i,j))\n",
    "    else:\n",
    "        print ('未知')"
   ]
  },
  {
   "cell_type": "code",
   "execution_count": 7,
   "metadata": {},
   "outputs": [
    {
     "name": "stdout",
     "output_type": "stream",
     "text": [
      "The largar one is 20\n",
      "The lower one is 10\n"
     ]
    }
   ],
   "source": [
    "# -*- coding: UTF-8 -*-\n",
    " \n",
    "MAXIMUM = lambda x,y :  (x > y) * x + (x < y) * y\n",
    "MINIMUM = lambda x,y :  (x > y) * y + (x < y) * x\n",
    " \n",
    "if __name__ == '__main__':\n",
    "    a = 10\n",
    "    b = 20\n",
    "    print ('The largar one is %d' % MAXIMUM(a,b))\n",
    "    print ('The lower one is %d' % MINIMUM(a,b))"
   ]
  },
  {
   "cell_type": "code",
   "execution_count": 8,
   "metadata": {},
   "outputs": [
    {
     "name": "stdout",
     "output_type": "stream",
     "text": [
      "19.293862028838618\n"
     ]
    }
   ],
   "source": [
    "# -*- coding: UTF-8 -*-\n",
    " \n",
    "import random\n",
    " \n",
    "#生成 10 到 20 之间的随机数\n",
    "print (random.uniform(10, 20))"
   ]
  },
  {
   "cell_type": "code",
   "execution_count": 9,
   "metadata": {},
   "outputs": [
    {
     "name": "stdout",
     "output_type": "stream",
     "text": [
      "a & b = 3\n",
      "a & b = 3\n"
     ]
    }
   ],
   "source": [
    "# -*- coding: UTF-8 -*-\n",
    " \n",
    "if __name__ == '__main__':\n",
    "    a = 0x77\n",
    "    b = a & 3\n",
    "    print ('a & b = %d' % b)\n",
    "    b &= 7\n",
    "    print ('a & b = %d' % b)"
   ]
  },
  {
   "cell_type": "code",
   "execution_count": 10,
   "metadata": {},
   "outputs": [
    {
     "name": "stdout",
     "output_type": "stream",
     "text": [
      "The a ^ 3 = 60\n",
      "The a ^ b = 59\n"
     ]
    }
   ],
   "source": [
    "# -*- coding: UTF-8 -*-\n",
    "\n",
    "if __name__ == '__main__':\n",
    "    a = 0o77\n",
    "    b = a ^ 3\n",
    "    print ('The a ^ 3 = %d' % b)\n",
    "    b ^= 7\n",
    "    print ('The a ^ b = %d' % b)"
   ]
  },
  {
   "cell_type": "code",
   "execution_count": 11,
   "metadata": {},
   "outputs": [
    {
     "name": "stdin",
     "output_type": "stream",
     "text": [
      "input a number:\n",
      " 4\n"
     ]
    },
    {
     "name": "stdout",
     "output_type": "stream",
     "text": [
      "4\t0\n"
     ]
    }
   ],
   "source": [
    "# -*- coding: UTF-8 -*-\n",
    " \n",
    "if __name__ == '__main__':\n",
    "    a = int(input('input a number:\\n'))\n",
    "    b = a >> 4\n",
    "    c = ~(~0 << 4)\n",
    "    d = b & c\n",
    "    print ('%o\\t%o' %(a,d))"
   ]
  },
  {
   "cell_type": "code",
   "execution_count": 12,
   "metadata": {},
   "outputs": [
    {
     "name": "stdout",
     "output_type": "stream",
     "text": [
      "变量 a 取反结果为： -8\n",
      "变量 c 取反结果为： 6\n"
     ]
    }
   ],
   "source": [
    "# -*- coding: UTF-8 -*-\n",
    "\n",
    "a = 7\n",
    "b = ~a\n",
    "\n",
    "c = -7\n",
    "d = ~c\n",
    "\n",
    "print ('变量 a 取反结果为： %d' % b)\n",
    "print ('变量 c 取反结果为： %d' % d)"
   ]
  },
  {
   "cell_type": "code",
   "execution_count": 15,
   "metadata": {},
   "outputs": [],
   "source": [
    "# -*- coding: UTF-8 -*-\n",
    " \n",
    "if __name__ == '__main__':\n",
    "    from tkinter import *\n",
    " \n",
    "    canvas = Canvas(width=300, height=300, bg='green')   \n",
    "    canvas.pack(expand=YES, fill=BOTH)                  \n",
    "    x0 = 263\n",
    "    y0 = 263\n",
    "    y1 = 275\n",
    "    x1 = 275\n",
    "    for i in range(19):\n",
    "        canvas.create_line(x0,y0,x0,y1, width=1, fill='red')\n",
    "        x0 = x0 - 5\n",
    "        y0 = y0 - 5\n",
    "        x1 = x1 + 5\n",
    "        y1 = y1 + 5\n",
    " \n",
    "    x0 = 263\n",
    "    y1 = 275\n",
    "    y0 = 263\n",
    "    for i in range(21):\n",
    "        canvas.create_line(x0,y0,x0,y1,fill = 'red')\n",
    "        x0 += 5\n",
    "        y0 += 5\n",
    "        y1 += 5\n",
    " \n",
    "    mainloop()"
   ]
  },
  {
   "cell_type": "code",
   "execution_count": 16,
   "metadata": {},
   "outputs": [],
   "source": [
    "# -*- coding: UTF-8 -*-\n",
    " \n",
    "if __name__ == '__main__':\n",
    "    from tkinter import *\n",
    "    root = Tk()\n",
    "    root.title('Canvas')\n",
    "    canvas = Canvas(root,width = 400,height = 400,bg = 'yellow')\n",
    "    x0 = 263\n",
    "    y0 = 263\n",
    "    y1 = 275\n",
    "    x1 = 275\n",
    "    for i in range(19):\n",
    "        canvas.create_rectangle(x0,y0,x1,y1)\n",
    "        x0 -= 5\n",
    "        y0 -= 5\n",
    "        x1 += 5\n",
    "        y1 += 5\n",
    "        \n",
    "    canvas.pack()\n",
    "    root.mainloop()"
   ]
  },
  {
   "cell_type": "code",
   "execution_count": 18,
   "metadata": {},
   "outputs": [],
   "source": [
    "# -*- coding: UTF-8 -*-\n",
    "\n",
    "if __name__  == '__main__':\n",
    "    from tkinter import *\n",
    "    canvas = Canvas(width = 300,height = 300,bg = 'green')\n",
    "    canvas.pack(expand = YES,fill = BOTH)\n",
    "    x0 = 150\n",
    "    y0 = 100\n",
    "    canvas.create_oval(x0 - 10,y0 - 10,x0 + 10,y0 + 10)\n",
    "    canvas.create_oval(x0 - 20,y0 - 20,x0 + 20,y0 + 20)\n",
    "    canvas.create_oval(x0 - 50,y0 - 50,x0 + 50,y0 + 50)\n",
    "    import math\n",
    "    B = 0.809\n",
    "    for i in range(16):\n",
    "        a = 2 * math.pi / 16 * i\n",
    "        x = math.ceil(x0 + 48 * math.cos(a))\n",
    "        y = math.ceil(y0 + 48 * math.sin(a) * B)\n",
    "        canvas.create_line(x0,y0,x,y,fill = 'red')\n",
    "    canvas.create_oval(x0 - 60,y0 - 60,x0 + 60,y0 + 60)\n",
    "    \n",
    "\n",
    "    for k in range(501):\n",
    "        for i in range(17):\n",
    "            a = (2 * math.pi / 16) * i + (2 * math.pi / 180) * k\n",
    "            x = math.ceil(x0 + 48 * math.cos(a))\n",
    "            y = math.ceil(y0 + 48 + math.sin(a) * B)\n",
    "            canvas.create_line(x0,y0,x,y,fill = 'red')\n",
    "        for j in range(51):\n",
    "            a = (2 * math.pi / 16) * i + (2* math.pi / 180) * k - 1\n",
    "            x = math.ceil(x0 + 48 * math.cos(a))\n",
    "            y = math.ceil(y0 + 48 * math.sin(a) * B)\n",
    "            canvas.create_line(x0,y0,x,y,fill = 'red')\n",
    "    mainloop()"
   ]
  },
  {
   "cell_type": "code",
   "execution_count": 20,
   "metadata": {},
   "outputs": [
    {
     "name": "stdout",
     "output_type": "stream",
     "text": [
      "6\n"
     ]
    }
   ],
   "source": [
    "# -*- coding: UTF-8 -*-\n",
    " \n",
    "sStr1 = 'strlen'\n",
    "print(len(sStr1))"
   ]
  },
  {
   "cell_type": "code",
   "execution_count": 21,
   "metadata": {},
   "outputs": [
    {
     "name": "stdout",
     "output_type": "stream",
     "text": [
      "1 1 1 1 2 1 1 3 3 1 1 4 6 4 1 1 5 10 10 5 1 1 6 15 20 15 6 1 1 7 21 35 35 21 7 1 1 8 28 56 70 56 28 8 1 1 9 36 84 126 126 84 36 9 1 "
     ]
    }
   ],
   "source": [
    "# -*- coding: UTF-8 -*-\n",
    " \n",
    "if __name__ == '__main__':\n",
    "    a = []\n",
    "    for i in range(10):\n",
    "        a.append([])\n",
    "        for j in range(10):\n",
    "            a[i].append(0)\n",
    "    for i in range(10):\n",
    "        a[i][0] = 1\n",
    "        a[i][i] = 1\n",
    "    for i in range(2,10):\n",
    "        for j in range(1,i):\n",
    "            a[i][j] = a[i - 1][j-1] + a[i - 1][j]\n",
    "    from sys import stdout\n",
    "    for i in range(10):\n",
    "        for j in range(i + 1):\n",
    "            stdout.write(str(a[i][j]))\n",
    "            stdout.write(' ')\n",
    "        print"
   ]
  },
  {
   "cell_type": "code",
   "execution_count": 23,
   "metadata": {},
   "outputs": [
    {
     "name": "stdout",
     "output_type": "stream",
     "text": [
      "2\n"
     ]
    }
   ],
   "source": [
    "# -*- coding: UTF-8 -*-\n",
    "\n",
    "sStr1 = 'abcdefg'\n",
    "sStr2 = 'cde'\n",
    "print(sStr1.find(sStr2))"
   ]
  },
  {
   "cell_type": "code",
   "execution_count": 25,
   "metadata": {},
   "outputs": [],
   "source": [
    "# -*- coding: UTF-8 -*-\n",
    " \n",
    "if __name__ == '__main__':\n",
    "    from tkinter import *\n",
    "    x = 360\n",
    "    y = 160\n",
    "    top = y - 30\n",
    "    bottom = y - 30\n",
    "    \n",
    "    canvas = Canvas(width = 400,height = 600,bg = 'white')\n",
    "    for i in range(20):\n",
    "        canvas.create_oval(250 - top,250 - bottom,250 + top,250 + bottom)\n",
    "        top -= 5\n",
    "        bottom += 5\n",
    "    canvas.pack()\n",
    "    mainloop()"
   ]
  },
  {
   "cell_type": "code",
   "execution_count": 26,
   "metadata": {},
   "outputs": [],
   "source": [
    "# -*- coding: UTF-8 -*-\n",
    "\n",
    "if __name__ == '__main__':\n",
    "    from tkinter import *\n",
    "    canvas = Canvas(width = 400,height = 600,bg = 'white')\n",
    "    left = 20\n",
    "    right = 50\n",
    "    top = 50\n",
    "    num = 15\n",
    "    for i in range(num):\n",
    "        canvas.create_oval(250 - right,250 - left,250 + right,250 + left)\n",
    "        canvas.create_oval(250 - 20,250 - top,250 + 20,250 + top)\n",
    "        canvas.create_rectangle(20 - 2 * i,20 - 2 * i,10 * (i + 2),10 * ( i + 2))\n",
    "        right += 5\n",
    "        left += 5\n",
    "        top += 10\n",
    "\n",
    "    canvas.pack()\n",
    "    mainloop()"
   ]
  },
  {
   "cell_type": "code",
   "execution_count": null,
   "metadata": {},
   "outputs": [],
   "source": []
  }
 ],
 "metadata": {
  "kernelspec": {
   "display_name": "Python 3",
   "language": "python",
   "name": "python3"
  },
  "language_info": {
   "codemirror_mode": {
    "name": "ipython",
    "version": 3
   },
   "file_extension": ".py",
   "mimetype": "text/x-python",
   "name": "python",
   "nbconvert_exporter": "python",
   "pygments_lexer": "ipython3",
   "version": "3.8.3"
  }
 },
 "nbformat": 4,
 "nbformat_minor": 4
}
