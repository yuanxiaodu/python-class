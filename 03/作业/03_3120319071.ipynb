{
 "cells": [
  {
   "cell_type": "code",
   "execution_count": 1,
   "metadata": {},
   "outputs": [
    {
     "name": "stdout",
     "output_type": "stream",
     "text": [
      "校长的身高是1.730000\n",
      "校长的体重是160.000000\n",
      "校长的爱好是唱歌\n",
      "校长的专业是计算机\n",
      "小李的身高是1.890000\n",
      "小李的体重是200.000000\n",
      "小李的爱好是打游戏\n",
      "小李的专业是咨询师\n",
      "peter的身高是1.750000\n",
      "peter的体重是100.000000\n",
      "peter的爱好是码代码\n",
      "peter的专业是计算机应用\n",
      "计算结果是15\n",
      "{'name': 'lee', 'age': 35}\n",
      "{'name': 'lee', 'age': 35}\n"
     ]
    }
   ],
   "source": [
    "print('校长的身高是%f'%1.73)\n",
    "print('校长的体重是%f'%160)\n",
    "print('校长的爱好是%s'%'唱歌')\n",
    "print('校长的专业是%s'%'计算机')\n",
    "def printInfo(name,height,weight,hobby,pro):\n",
    "    print('%s的身高是%f' % (name,height ))\n",
    "    print('%s的体重是%f' % (name ,weight ))\n",
    "    print('%s的爱好是%s' % (name,hobby ))\n",
    "    print('%s的专业是%s' % (name ,pro))\n",
    "    pass\n",
    "printInfo('小李',1.89,200,'打游戏','咨询师')\n",
    "printInfo('peter',1.75,100,'码代码','计算机应用')\n",
    "def getComputer(*args ):\n",
    "    '''\n",
    "    计算累加和\n",
    "    :param args:\n",
    "    :return:\n",
    "    '''\n",
    "    # print(args )\n",
    "    result=0\n",
    "    for item in args :\n",
    "        result+=item\n",
    "        pass\n",
    "    return result\n",
    "    #print('result=%d'%result)\n",
    "    pass\n",
    "rs=getComputer(1,2,3,4,5)\n",
    "print('计算结果是%d'%rs)\n",
    "def keyFunc(**kwargs ):\n",
    "    print(kwargs )\n",
    "    pass\n",
    "dictA={'name':'lee','age':35}\n",
    "keyFunc(**dictA )\n",
    "keyFunc(name='lee',age=35)\n",
    "\n",
    "\n",
    "\n",
    "\n",
    "def fun1():\n",
    "    pass\n",
    "def fun2():\n",
    "    fun1()\n",
    "    pass\n",
    "fun2()"
   ]
  },
  {
   "cell_type": "code",
   "execution_count": 14,
   "metadata": {},
   "outputs": [
    {
     "name": "stdout",
     "output_type": "stream",
     "text": [
      "18 李明\n",
      "李明\n",
      "刘德华\n",
      "刘德华\n",
      "china\n",
      "china\n",
      "________\n",
      "英国\n",
      "20:10:56\n"
     ]
    }
   ],
   "source": [
    "\n",
    " class Student:\n",
    "     name='李明'  #类属性\n",
    "     def __init__(self,age):\n",
    "         self.age=age  #实例属性\n",
    "         pass\n",
    "     pass\n",
    " lm=Student(18)\n",
    " print(lm.age,lm.name) #通过实例对象去访问类属性\n",
    " print(Student.name)\n",
    " lm.name='刘德华'\n",
    " print(lm.name)\n",
    " Student.name='张学友'\n",
    " print(lm.name)  #通过实例对象不能修改类属性  通过类对象可以修改类属性\n",
    "\n",
    " class People:\n",
    "     country='china'\n",
    "     @classmethod   #  定义类方法\n",
    "     def get_country(cls):\n",
    "         return cls.country  # 访问类属性\n",
    "     @classmethod\n",
    "     def change_country(cls,data):\n",
    "         cls.country=data   # 修改类属性的值，在类方法中\n",
    "         pass\n",
    "\n",
    "     pass\n",
    " print(People.get_country())  # 通过类对象引用\n",
    " p=People()\n",
    " print(p.get_country())  #通过实例对象引用\n",
    " print('________')\n",
    " People.change_country('英国')\n",
    " print(People.get_country())\n",
    "# 静态方法 类对象所拥有的方法 一般不会通过实例对象去访问静态方法\n",
    "import time  #引入时间模块\n",
    "class Timetest:\n",
    "    def __init__(self,hour,min,second):\n",
    "        self.hour=hour\n",
    "        self.min = min\n",
    "        self.second = second\n",
    "    @staticmethod   # 静态方法\n",
    "    def showtime():\n",
    "        return time.strftime('%H:%M:%S',time.localtime())\n",
    "    pass\n",
    "print(Timetest.showtime())"
   ]
  },
  {
   "cell_type": "code",
   "execution_count": 20,
   "metadata": {},
   "outputs": [
    {
     "name": "stdout",
     "output_type": "stream",
     "text": [
      "我是一只鸭子\n",
      "我不是一只小猫\n",
      "我是一只鸭子\n",
      "我不是一只鸭子\n"
     ]
    }
   ],
   "source": [
    "# 多态  多种状态或形态 同一种行为对于不同的子类有不同的行为表现 ，发生在父类和子类之间 子类重写父类的方法\n",
    "class Animal:   #  父类\n",
    "    def saywho(self):\n",
    "        print('我是一个动物')\n",
    "    pass\n",
    "class Duck(Animal):    #子类\n",
    "    def saywho(self,name):   # 重写父类的方法\n",
    "        self.name=name\n",
    "        print('我是一只%s'%self.name)\n",
    "    pass\n",
    "class Cat(Animal):    #子类\n",
    "    def saywho(self,name):   # 重写父类的方法\n",
    "        self.name=name\n",
    "        print('我不是一只%s'%self.name)\n",
    "    pass\n",
    "def commenInvoke(obj):  # 统一调用的方法\n",
    "    obj.saywho('鸭子')\n",
    "duck1=Duck()\n",
    "duck1.saywho('鸭子')\n",
    "cat1=Cat()\n",
    "cat1.saywho('小猫')\n",
    "listobj=[Duck(),Cat()]\n",
    "for item in listobj:\n",
    "    commenInvoke(item)  # 循环调用函数"
   ]
  },
  {
   "cell_type": "code",
   "execution_count": 2,
   "metadata": {},
   "outputs": [
    {
     "name": "stdout",
     "output_type": "stream",
     "text": [
      "100\n",
      "1000.0\n",
      "nowcoder\n"
     ]
    }
   ],
   "source": [
    "#!/usr/bin/python3\n",
    " \n",
    "counter = 100          # 整型变量\n",
    "miles   = 1000.0       # 浮点型变量\n",
    "name    = \"nowcoder\"     # 字符串\n",
    " \n",
    "print (counter)\n",
    "print (miles)\n",
    "print (name)\n"
   ]
  },
  {
   "cell_type": "code",
   "execution_count": 3,
   "metadata": {},
   "outputs": [
    {
     "ename": "SyntaxError",
     "evalue": "invalid character in identifier (<ipython-input-3-84e3ab78c86a>, line 22)",
     "output_type": "error",
     "traceback": [
      "\u001b[1;36m  File \u001b[1;32m\"<ipython-input-3-84e3ab78c86a>\"\u001b[1;36m, line \u001b[1;32m22\u001b[0m\n\u001b[1;33m    print (\"4 - a 和 b 有相同的标识\"）\u001b[0m\n\u001b[1;37m                             ^\u001b[0m\n\u001b[1;31mSyntaxError\u001b[0m\u001b[1;31m:\u001b[0m invalid character in identifier\n"
     ]
    }
   ],
   "source": [
    "a = 20\n",
    "b = 20\n",
    "if ( a is b ):\n",
    "   print (\"1 - a 和 b 有相同的标识\")\n",
    "else:\n",
    "   print (\"1 - a 和 b 没有相同的标识\")\n",
    "#1 - a 和 b 有相同的标识\n",
    "if ( id(a) == id(b) ):\n",
    "   print (\"2 - a 和 b 有相同的标识\")\n",
    "else:\n",
    "   print (\"2 - a 和 b 没有相同的标识\")\n",
    "#2 - a 和 b 有相同的标识\n",
    "b = 30  #修改变量 b 的值\n",
    "if ( a is b ):\n",
    "   print (\"3 - a 和 b 有相同的标识\")\n",
    "else:\n",
    "   print (\"3 - a 和 b 没有相同的标识\")\n",
    "#3 - a 和 b 没有相同的标识\n",
    "if ( a is not b ):\n",
    "   print (\"4 - a 和 b 没有相同的标识\")\n",
    "else:\n",
    "   print (\"4 - a 和 b 有相同的标识\"）\n",
    "#4 - a 和 b 没有相同的标识"
   ]
  },
  {
   "cell_type": "code",
   "execution_count": 4,
   "metadata": {},
   "outputs": [
    {
     "name": "stdout",
     "output_type": "stream",
     "text": [
      "123\n",
      "ABC\n"
     ]
    }
   ],
   "source": [
    "a = 123 # a是整数\n",
    "print(a)\n",
    "a = 'ABC' # a变为字符串\n",
    "print(a)\n"
   ]
  },
  {
   "cell_type": "code",
   "execution_count": 5,
   "metadata": {},
   "outputs": [
    {
     "ename": "SyntaxError",
     "evalue": "EOL while scanning string literal (<ipython-input-5-297bbf8b0710>, line 2)",
     "output_type": "error",
     "traceback": [
      "\u001b[1;36m  File \u001b[1;32m\"<ipython-input-5-297bbf8b0710>\"\u001b[1;36m, line \u001b[1;32m2\u001b[0m\n\u001b[1;33m    I'm ok.\u001b[0m\n\u001b[1;37m           ^\u001b[0m\n\u001b[1;31mSyntaxError\u001b[0m\u001b[1;31m:\u001b[0m EOL while scanning string literal\n"
     ]
    }
   ],
   "source": [
    ">>> print('I\\'m ok.')\n",
    "I'm ok.\n",
    ">>> print('I\\'m learning\\nPython.')\n",
    "I'm learning\n",
    "Python.\n",
    ">>> print('\\\\\\n\\\\')\n",
    "\\\n",
    "\\\n",
    ">>> print('\\\\\\t\\\\')\n",
    "\\       \\\n",
    ">>> print(r'\\\\\\t\\\\')\n",
    "\\\\\\t\\\\"
   ]
  },
  {
   "cell_type": "code",
   "execution_count": 8,
   "metadata": {},
   "outputs": [
    {
     "name": "stdout",
     "output_type": "stream",
     "text": [
      "<__main__.Test object at 0x000001F274A2A820>\n",
      "<class '__main__.Test'>\n",
      "<__main__.Test object at 0x000001F274A5C100>\n",
      "<class '__main__.Test'>\n"
     ]
    }
   ],
   "source": [
    "class Test:\n",
    "    def prt(self):\n",
    "        print(self)\n",
    "        print(self.__class__)\n",
    " \n",
    "t = Test()\n",
    "t.prt()\n",
    "'''\n",
    "运行结果：\n",
    "<__main__.Test instance at 0x100771878>\n",
    "__main__.Test\n",
    "'''\n",
    "#以下程序的运行结果同上\n",
    "class Test:\n",
    "    def prt(runoob):\n",
    "        print(runoob)\n",
    "        print(runoob.__class__)\n",
    " \n",
    "t = Test()\n",
    "t.prt()"
   ]
  },
  {
   "cell_type": "code",
   "execution_count": 9,
   "metadata": {},
   "outputs": [
    {
     "name": "stdout",
     "output_type": "stream",
     "text": [
      "runoob 说: 我 10 岁。\n"
     ]
    },
    {
     "data": {
      "text/plain": [
       "'\\n运行结果：\\nrunoob 说: 我 10 岁。\\n'"
      ]
     },
     "execution_count": 9,
     "metadata": {},
     "output_type": "execute_result"
    }
   ],
   "source": [
    "#类定义\n",
    "class people:\n",
    "    #定义基本属性\n",
    "    name = ''\n",
    "    age = 0\n",
    "    #定义私有属性,私有属性在类外部无法直接进行访问\n",
    "    __weight = 0\n",
    "    #定义构造方法\n",
    "    def __init__(self,n,a,w):\n",
    "        self.name = n\n",
    "        self.age = a\n",
    "        self.__weight = w\n",
    "    def speak(self):\n",
    "        print(\"%s 说: 我 %d 岁。\" %(self.name,self.age))\n",
    " \n",
    "# 实例化类\n",
    "p = people('runoob',10,30)\n",
    "p.speak()\n",
    "'''\n",
    "运行结果：\n",
    "runoob 说: 我 10 岁。\n",
    "'''"
   ]
  },
  {
   "cell_type": "code",
   "execution_count": 10,
   "metadata": {},
   "outputs": [
    {
     "ename": "SyntaxError",
     "evalue": "invalid syntax (<ipython-input-10-d9c3bdc7fcbd>, line 3)",
     "output_type": "error",
     "traceback": [
      "\u001b[1;36m  File \u001b[1;32m\"<ipython-input-10-d9c3bdc7fcbd>\"\u001b[1;36m, line \u001b[1;32m3\u001b[0m\n\u001b[1;33m    <statement-1>\u001b[0m\n\u001b[1;37m    ^\u001b[0m\n\u001b[1;31mSyntaxError\u001b[0m\u001b[1;31m:\u001b[0m invalid syntax\n"
     ]
    }
   ],
   "source": [
    "#派生类的定义\n",
    "class DerivedClassName(BaseClassName1):\n",
    "    <statement-1>\n",
    "    .\n",
    "    .\n",
    "    .\n",
    "    <statement-N>\n",
    "\n",
    "#除了类，还可以用表达式，基类定义在另一个模块中时这一点非常有用:\n",
    "class DerivedClassName(modname.BaseClassName):\n",
    "\n",
    "#类定义\n",
    "class people:\n",
    "    #定义基本属性\n",
    "    name = ''\n",
    "    age = 0\n",
    "    #定义私有属性,私有属性在类外部无法直接进行访问\n",
    "    __weight = 0\n",
    "    #定义构造方法\n",
    "    def __init__(self,n,a,w):\n",
    "        self.name = n\n",
    "        self.age = a\n",
    "        self.__weight = w\n",
    "    def speak(self):\n",
    "        print(\"%s 说: 我 %d 岁。\" %(self.name,self.age))\n",
    " \n",
    "#单继承示例\n",
    "class student(people):\n",
    "    grade = ''\n",
    "    def __init__(self,n,a,w,g):\n",
    "        #调用父类的构函\n",
    "        people.__init__(self,n,a,w)\n",
    "        self.grade = g\n",
    "    #覆写父类的方法\n",
    "    def speak(self):\n",
    "        print(\"%s 说: 我 %d 岁了，我在读 %d 年级\"%(self.name,self.age,self.grade))\n",
    " \n",
    " \n",
    " \n",
    "s = student('ken',10,60,3)\n",
    "s.speak()\n",
    "'''\n",
    "运行结果：\n",
    "ken 说: 我 10 岁了，我在读 3 年级\n",
    "'''"
   ]
  },
  {
   "cell_type": "code",
   "execution_count": 7,
   "metadata": {},
   "outputs": [
    {
     "name": "stdout",
     "output_type": "stream",
     "text": [
      "MyClass 类的属性 i 为： 12345\n",
      "MyClass 类的方法 f 输出为： hello world\n"
     ]
    },
    {
     "data": {
      "text/plain": [
       "'\\n运行结果：\\nMyClass 类的属性 i 为： 12345\\nMyClass 类的方法 f 输出为： hello world\\n'"
      ]
     },
     "execution_count": 7,
     "metadata": {},
     "output_type": "execute_result"
    }
   ],
   "source": [
    "class MyClass:\n",
    "    \"\"\"一个简单的类实例\"\"\"\n",
    "    i = 12345\n",
    "    def f(self):\n",
    "        return 'hello world'\n",
    " \n",
    "# 实例化类\n",
    "x = MyClass()\n",
    " \n",
    "# 访问类的属性和方法\n",
    "print(\"MyClass 类的属性 i 为：\", x.i)\n",
    "print(\"MyClass 类的方法 f 输出为：\", x.f())\n",
    "'''\n",
    "运行结果：\n",
    "MyClass 类的属性 i 为： 12345\n",
    "MyClass 类的方法 f 输出为： hello world\n",
    "'''"
   ]
  },
  {
   "cell_type": "code",
   "execution_count": 11,
   "metadata": {},
   "outputs": [
    {
     "name": "stdout",
     "output_type": "stream",
     "text": [
      "调用子类方法\n",
      "调用父类方法\n"
     ]
    },
    {
     "data": {
      "text/plain": [
       "'\\n运行结果：\\n调用子类方法\\n调用父类方法\\n'"
      ]
     },
     "execution_count": 11,
     "metadata": {},
     "output_type": "execute_result"
    }
   ],
   "source": [
    "class Parent:        # 定义父类\n",
    "   def myMethod(self):\n",
    "      print ('调用父类方法')\n",
    " \n",
    "class Child(Parent): # 定义子类\n",
    "   def myMethod(self):\n",
    "      print ('调用子类方法')\n",
    " \n",
    "c = Child()          # 子类实例\n",
    "c.myMethod()         # 子类调用重写方法\n",
    "super(Child,c).myMethod() #用子类对象调用父类已被覆盖的方法\n",
    "'''\n",
    "运行结果：\n",
    "调用子类方法\n",
    "调用父类方法\n",
    "'''"
   ]
  },
  {
   "cell_type": "code",
   "execution_count": 12,
   "metadata": {},
   "outputs": [
    {
     "name": "stdout",
     "output_type": "stream",
     "text": [
      "name: runoob\n",
      "Son runoob\n"
     ]
    },
    {
     "data": {
      "text/plain": [
       "'\\n运行结果：\\nname: runoob\\nSon runoob\\n'"
      ]
     },
     "execution_count": 12,
     "metadata": {},
     "output_type": "execute_result"
    }
   ],
   "source": [
    "class Father(object):\n",
    "    def __init__(self, name):\n",
    "        self.name=name\n",
    "        print ( \"name: %s\" %( self.name) )\n",
    "    def getName(self):\n",
    "        return 'Father ' + self.name\n",
    " \n",
    "class Son(Father):\n",
    "    def getName(self):\n",
    "        return 'Son '+self.name\n",
    " \n",
    "if __name__=='__main__':\n",
    "    son=Son('runoob')\n",
    "    print ( son.getName() )\n",
    "'''\n",
    "运行结果：\n",
    "name: runoob\n",
    "Son runoob\n",
    "'''"
   ]
  },
  {
   "cell_type": "code",
   "execution_count": 13,
   "metadata": {},
   "outputs": [
    {
     "name": "stdout",
     "output_type": "stream",
     "text": [
      "hi\n",
      "Son runoob\n"
     ]
    },
    {
     "data": {
      "text/plain": [
       "'\\n运行结果：\\nhi\\nSon runoob\\n'"
      ]
     },
     "execution_count": 13,
     "metadata": {},
     "output_type": "execute_result"
    }
   ],
   "source": [
    "class Father(object):\n",
    "    def __init__(self, name):\n",
    "        self.name=name\n",
    "        print ( \"name: %s\" %( self.name) )\n",
    "    def getName(self):\n",
    "        return 'Father ' + self.name\n",
    " \n",
    "class Son(Father):\n",
    "    def __init__(self, name):\n",
    "        print ( \"hi\" )\n",
    "        self.name =  name\n",
    "    def getName(self):\n",
    "        return 'Son '+self.name\n",
    " \n",
    "if __name__=='__main__':\n",
    "    son=Son('runoob')\n",
    "    print ( son.getName() )\n",
    "'''\n",
    "运行结果：\n",
    "hi\n",
    "Son runoob\n",
    "'''"
   ]
  }
 ],
 "metadata": {
  "kernelspec": {
   "display_name": "Python 3",
   "language": "python",
   "name": "python3"
  },
  "language_info": {
   "codemirror_mode": {
    "name": "ipython",
    "version": 3
   },
   "file_extension": ".py",
   "mimetype": "text/x-python",
   "name": "python",
   "nbconvert_exporter": "python",
   "pygments_lexer": "ipython3",
   "version": "3.8.3"
  }
 },
 "nbformat": 4,
 "nbformat_minor": 4
}
