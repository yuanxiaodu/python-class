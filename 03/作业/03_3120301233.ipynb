{
 "cells": [
  {
   "cell_type": "code",
   "execution_count": 3,
   "metadata": {},
   "outputs": [
    {
     "name": "stdout",
     "output_type": "stream",
     "text": [
      "1 2 3\n",
      "1 2 4\n",
      "1 3 2\n",
      "1 3 4\n",
      "1 4 2\n",
      "1 4 3\n",
      "2 1 3\n",
      "2 1 4\n",
      "2 3 1\n",
      "2 3 4\n",
      "2 4 1\n",
      "2 4 3\n",
      "3 1 2\n",
      "3 1 4\n",
      "3 2 1\n",
      "3 2 4\n",
      "3 4 1\n",
      "3 4 2\n",
      "4 1 2\n",
      "4 1 3\n",
      "4 2 1\n",
      "4 2 3\n",
      "4 3 1\n",
      "4 3 2\n"
     ]
    }
   ],
   "source": [
    "for i in range(1,5):\n",
    "    for j in range(1,5):\n",
    "        for x in range(1,5):\n",
    "            if i != j and j!= x and i!=x:\n",
    "                print(i,j,x)\n",
    "#由1234能组成多少个不同的三位数"
   ]
  },
  {
   "cell_type": "code",
   "execution_count": 4,
   "metadata": {},
   "outputs": [
    {
     "name": "stdout",
     "output_type": "stream",
     "text": [
      "1×1=1 \n",
      "2×1=2 2×2=4 \n",
      "3×1=3 3×2=6 3×3=9 \n",
      "4×1=4 4×2=8 4×3=12 4×4=16 \n",
      "5×1=5 5×2=10 5×3=15 5×4=20 5×5=25 \n",
      "6×1=6 6×2=12 6×3=18 6×4=24 6×5=30 6×6=36 \n",
      "7×1=7 7×2=14 7×3=21 7×4=28 7×5=35 7×6=42 7×7=49 \n",
      "8×1=8 8×2=16 8×3=24 8×4=32 8×5=40 8×6=48 8×7=56 8×8=64 \n",
      "9×1=9 9×2=18 9×3=27 9×4=36 9×5=45 9×6=54 9×7=63 9×8=72 9×9=81 \n"
     ]
    }
   ],
   "source": [
    "for m in range(1,10):\n",
    "    for n in range(1,10):\n",
    "        if m>=n:\n",
    "            print('%s×%s=%s'%(m,n,m*n),end=' ')\n",
    "    print()"
   ]
  },
  {
   "cell_type": "code",
   "execution_count": 5,
   "metadata": {},
   "outputs": [
    {
     "name": "stdout",
     "output_type": "stream",
     "text": [
      "['1x1=1']\n",
      "['2x1=2']['2x2=4']\n",
      "['3x1=3']['3x2=6']['3x3=9']\n",
      "['4x1=4']['4x2=8']['4x3=12']['4x4=16']\n",
      "['5x1=5']['5x2=10']['5x3=15']['5x4=20']['5x5=25']\n",
      "['6x1=6']['6x2=12']['6x3=18']['6x4=24']['6x5=30']['6x6=36']\n",
      "['7x1=7']['7x2=14']['7x3=21']['7x4=28']['7x5=35']['7x6=42']['7x7=49']\n",
      "['8x1=8']['8x2=16']['8x3=24']['8x4=32']['8x5=40']['8x6=48']['8x7=56']['8x8=64']\n",
      "['9x1=9']['9x2=18']['9x3=27']['9x4=36']['9x5=45']['9x6=54']['9x7=63']['9x8=72']['9x9=81']\n"
     ]
    }
   ],
   "source": [
    "for i in range(1, 10):\n",
    "    for j in range(1, i + 1):\n",
    "        print((\"%sx%s=%s\" % (i, j, i * j)).split(\" \"), end=\"\")\n",
    "    print()"
   ]
  },
  {
   "cell_type": "code",
   "execution_count": 7,
   "metadata": {},
   "outputs": [
    {
     "data": {
      "text/plain": [
       "2"
      ]
     },
     "execution_count": 7,
     "metadata": {},
     "output_type": "execute_result"
    }
   ],
   "source": [
    "def fib(n):\n",
    "    if n==1 or n==2:\n",
    "        return 1\n",
    "    return fib(n-1)+fib(n-2)\n",
    "fib(3)"
   ]
  },
  {
   "cell_type": "code",
   "execution_count": 8,
   "metadata": {},
   "outputs": [
    {
     "name": "stdout",
     "output_type": "stream",
     "text": [
      "range(0, 3)\n"
     ]
    }
   ],
   "source": [
    "print(range(3))"
   ]
  },
  {
   "cell_type": "code",
   "execution_count": 9,
   "metadata": {},
   "outputs": [
    {
     "name": "stdin",
     "output_type": "stream",
     "text": [
      " 5\n",
      " 9\n",
      " 5\n"
     ]
    },
    {
     "name": "stdout",
     "output_type": "stream",
     "text": [
      "['5', '5', '9']\n"
     ]
    }
   ],
   "source": [
    "L = []\n",
    "for i in range(3):\n",
    "    x = input(\"\")\n",
    "    L.append(x)\n",
    "L.sort()\n",
    "print(L)"
   ]
  },
  {
   "cell_type": "code",
   "execution_count": 10,
   "metadata": {},
   "outputs": [
    {
     "ename": "SyntaxError",
     "evalue": "invalid syntax (<ipython-input-10-9174e32ecdc0>, line 3)",
     "output_type": "error",
     "traceback": [
      "\u001b[1;36m  File \u001b[1;32m\"<ipython-input-10-9174e32ecdc0>\"\u001b[1;36m, line \u001b[1;32m3\u001b[0m\n\u001b[1;33m    print time.strftime('%Y-%m-%d %H:%M:%S',time.localtime(time.time()))\u001b[0m\n\u001b[1;37m          ^\u001b[0m\n\u001b[1;31mSyntaxError\u001b[0m\u001b[1;31m:\u001b[0m invalid syntax\n"
     ]
    }
   ],
   "source": [
    "import time\n",
    " \n",
    "print time.strftime('%Y-%m-%d %H:%M:%S',time.localtime(time.time()))\n",
    " \n",
    "# 暂停一秒\n",
    "time.sleep(1)\n",
    "print time.strftime('%Y-%m-%d %H:%M:%S',time.localtime(time.time()))"
   ]
  },
  {
   "cell_type": "code",
   "execution_count": 14,
   "metadata": {},
   "outputs": [
    {
     "data": {
      "text/plain": [
       "1"
      ]
     },
     "execution_count": 14,
     "metadata": {},
     "output_type": "execute_result"
    }
   ],
   "source": [
    "def check(a, x):\n",
    "    n = len(a)\n",
    "    m = n // 2\n",
    "    if n<1:\n",
    "        return False\n",
    "    if a[m] > x:\n",
    "        return check(a[0:m],x)\n",
    "    elif a[m] < x:\n",
    "        return check(a[m+1:],x)\n",
    "    else:\n",
    "        return m\n",
    "a=[1,2,3,4]\n",
    "check(a,2)"
   ]
  },
  {
   "cell_type": "code",
   "execution_count": 15,
   "metadata": {},
   "outputs": [
    {
     "data": {
      "text/plain": [
       "[4, 3, 2, 1]"
      ]
     },
     "execution_count": 15,
     "metadata": {},
     "output_type": "execute_result"
    }
   ],
   "source": [
    "def bubble_sort(li):\n",
    " \n",
    "    for j in range(len(li)-1):\n",
    "        for i in range(1, len(li)):\n",
    "            if li[i] > li[i-1]:\n",
    "                li[i], li[i-1] = li[i-1], li[i]\n",
    " \n",
    "    return li\n",
    "l=[1,2,3,4]\n",
    "bubble_sort(l)"
   ]
  },
  {
   "cell_type": "code",
   "execution_count": null,
   "metadata": {},
   "outputs": [
    {
     "name": "stdout",
     "output_type": "stream",
     "text": [
      "[0. 0. 4. 2.]\n",
      "[0. 4. 0. 0.]\n",
      "[0. 0. 0. 0.]\n",
      "[0. 0. 0. 0.]\n"
     ]
    },
    {
     "name": "stdin",
     "output_type": "stream",
     "text": [
      "w(↑) a(←) s(↓) d(右)： 1\n"
     ]
    },
    {
     "name": "stdout",
     "output_type": "stream",
     "text": [
      "输入有误请重新输入\n"
     ]
    },
    {
     "name": "stdin",
     "output_type": "stream",
     "text": [
      "w(↑) a(←) s(↓) d(右)： 3\n"
     ]
    },
    {
     "name": "stdout",
     "output_type": "stream",
     "text": [
      "输入有误请重新输入\n"
     ]
    },
    {
     "name": "stdin",
     "output_type": "stream",
     "text": [
      "w(↑) a(←) s(↓) d(右)： 2\n"
     ]
    },
    {
     "name": "stdout",
     "output_type": "stream",
     "text": [
      "输入有误请重新输入\n"
     ]
    },
    {
     "name": "stdin",
     "output_type": "stream",
     "text": [
      "w(↑) a(←) s(↓) d(右)： q\n"
     ]
    },
    {
     "name": "stdout",
     "output_type": "stream",
     "text": [
      "Game Over\n",
      "[0. 0. 4. 2.]\n",
      "[0. 4. 0. 4.]\n",
      "[0. 0. 0. 0.]\n",
      "[0. 0. 0. 0.]\n"
     ]
    },
    {
     "name": "stdin",
     "output_type": "stream",
     "text": [
      "w(↑) a(←) s(↓) d(右)： q\n"
     ]
    },
    {
     "name": "stdout",
     "output_type": "stream",
     "text": [
      "Game Over\n",
      "[0. 0. 4. 2.]\n",
      "[0. 4. 0. 4.]\n",
      "[2. 0. 0. 0.]\n",
      "[0. 0. 0. 0.]\n"
     ]
    },
    {
     "name": "stdin",
     "output_type": "stream",
     "text": [
      "w(↑) a(←) s(↓) d(右)： q\n"
     ]
    },
    {
     "name": "stdout",
     "output_type": "stream",
     "text": [
      "Game Over\n",
      "[0. 0. 4. 2.]\n",
      "[0. 4. 0. 4.]\n",
      "[2. 0. 0. 0.]\n",
      "[4. 0. 0. 0.]\n"
     ]
    },
    {
     "name": "stdin",
     "output_type": "stream",
     "text": [
      "w(↑) a(←) s(↓) d(右)： q\n"
     ]
    },
    {
     "name": "stdout",
     "output_type": "stream",
     "text": [
      "Game Over\n",
      "[0. 0. 4. 2.]\n",
      "[4. 4. 0. 4.]\n",
      "[2. 0. 0. 0.]\n",
      "[4. 0. 0. 0.]\n"
     ]
    }
   ],
   "source": [
    "#!/usr/bin/env python3\n",
    "#coding: utf-8\n",
    "import numpy\n",
    "import numpy as np\n",
    "import random\n",
    "from random import choice\n",
    "\n",
    "\n",
    "class Game2048(object):\n",
    "    '''2048游戏的类'''\n",
    "    '''\n",
    "        属性:\n",
    "            self.dimension\n",
    "            self.matrix\n",
    "        方法：\n",
    "            judge_gameover(self)\n",
    "            generate_num(self)\n",
    "            left_2048(self)\n",
    "            right_2048(self)\n",
    "            down_2048(self)\n",
    "            up_2048(self)\n",
    "            print_(self)\n",
    "            input_(self)\n",
    "    '''\n",
    "    def __init__(self,dimension = 4):\n",
    "        self.dimension = dimension  #维数，决定要构建几维的矩阵 \n",
    "        self.matrix = np.zeros((dimension,dimension)) #创建一个全是0的n(n = dimension)维矩阵\n",
    "\n",
    "    def judge_gameover(self):#判断是否游戏结束，如果游戏结束返回True，未结束则返回False\n",
    "        '''如果水平方向上任意两个相邻的数字有相等的或者有为0的那么游戏未结束'''\n",
    "        for a in range(0,self.dimension):\n",
    "            for b in range(0,self.dimension-1):\n",
    "                if self.matrix[a][b] == self.matrix[a][b+1] or self.matrix[a][b] == 0 or self.matrix[a][b+1] == 0:\n",
    "                    return False\n",
    "        '''如果垂直方向上任意两个相邻的数字有相等的或者有为0的那么游戏未结束'''\n",
    "        self.matrix = np.transpose(self.matrix)#先转置垂直方向变作水平方向 eg:[[1,2],[3,4]]>>[[1,3],[2,4]]\n",
    "        for a in range(0,self.dimension):\n",
    "            for b in range(0,self.dimension-1):\n",
    "                if self.matrix[a][b] == self.matrix[a][b+1] or self.matrix[a][b] == 0 or self.matrix[a][b+1] == 0:\n",
    "                    return False\n",
    "        return True\n",
    "                    \n",
    "    def generate_num(self):#在随机的空白(为0)的位置替换为1个随机的2或者4\n",
    "        '''在随机的空白(为0)的位置替换为1个随机的2或者4'''\n",
    "        \n",
    "        #判断矩阵内为零的数的位置,并将索引放入到list_0中\n",
    "        list_0 = []\n",
    "        for a in range(0,self.dimension):\n",
    "            for b in range(0,self.dimension):\n",
    "                if self.matrix[a,b] == 0 :\n",
    "                    list_0.append([a,b])\n",
    "                    \n",
    "        #判断矩阵内为0的数的个数，如果为0,那么就不再生成新的数字\n",
    "        if len(list_0) != 0:\n",
    "            x = random.sample(list_0,1)[0]#注意random.sample()函数返回值类型为列表\n",
    "            self.matrix[x[0]][x[1]] = random.randrange(2, 5, 2)\n",
    "    \n",
    "    def left_2048(self):#向左平移合并\n",
    "        '''数字向左平移'''\n",
    "        for i in range(0,self.dimension):\n",
    "            list_i = list(self.matrix[i])\n",
    "            while 0 in list_i:\n",
    "                list_i.remove(0)\n",
    "            while len(list_i) != self.dimension:\n",
    "                list_i.append(0)\n",
    "            self.matrix[i] = list_i\n",
    "            \n",
    "        '''水平向左合并'''\n",
    "        for a in range(0,self.dimension):\n",
    "            for b in range(0,self.dimension-1):\n",
    "                if self.matrix[a][b] != 0 and self.matrix[a][b] == self.matrix[a][b+1]:\n",
    "                    self.matrix[a][b] = 2 * self.matrix[a][b]\n",
    "                    self.matrix[a][b+1] = 0\n",
    "                else:\n",
    "                    pass\n",
    "                    \n",
    "        '''数字向左平移'''\n",
    "        for i in range(0,self.dimension):\n",
    "            list_i = list(self.matrix[i])\n",
    "            while 0 in list_i:\n",
    "                list_i.remove(0)\n",
    "            while len(list_i) != self.dimension:\n",
    "                list_i.append(0)\n",
    "            self.matrix[i] = list_i\n",
    "            \n",
    "    def right_2048(self):#向右平移合并\n",
    "        for i in range(0,self.dimension):#将矩阵水平方向反转 eg：[[1,2],[3,4]]>>[[2,1],[4,3]]\n",
    "            self.matrix[i] = self.matrix[i][::-1]\n",
    "        self.left_2048()#注意在类中内置函数互相调用前面要加self.，也注意不要循环调用\n",
    "        for i in range(0,self.dimension):#再将矩阵水平方向反转回来\n",
    "            self.matrix[i] = self.matrix[i][::-1]\n",
    "\n",
    "    def down_2048(self):#向下平移合并\n",
    "        self.matrix = self.matrix[::-1]#先上下反转 eg:[[1,2],[3,4]]>>[[3,4],[1,2]]\n",
    "        self.up_2048()\n",
    "        self.matrix = self.matrix[::-1]#再上下反转回来eg:[[3,4],[1,2]]>>[[1,2],[3,4]]\n",
    "    \n",
    "    def up_2048(self):#向上平移合并\n",
    "        self.matrix = np.transpose(self.matrix)#先转置 eg:[[1,2],[3,4]]>>[[1,3],[2,4]]\n",
    "        self.left_2048()\n",
    "        self.matrix = np.transpose(self.matrix)#再转置回来 eg:[[1,3],[2,4]]>>[[1,2],[3,4]]\n",
    "        \n",
    "    def print_2048(self):#显示\n",
    "        for i in self.matrix:\n",
    "            print(i)\n",
    "        \n",
    "    def input_2048(self):#输入\n",
    "        while True:\n",
    "            s = input(\"w(↑) a(←) s(↓) d(右)：\")\n",
    "            if s == \"w\":\n",
    "                self.up_2048()\n",
    "                break\n",
    "            elif s == \"a\":\n",
    "                self.left_2048()\n",
    "                break\n",
    "            elif s == \"s\":\n",
    "                self.down_2048()\n",
    "                break\n",
    "            elif s == \"d\":\n",
    "                self.right_2048()\n",
    "                break\n",
    "            elif s=='q':\n",
    "                print('Game Over')\n",
    "                break\n",
    "            else:\n",
    "                print(\"输入有误请重新输入\")\n",
    "                continue\n",
    "                \n",
    "\n",
    "if __name__ == '__main__':#主程序\n",
    "    g1 = Game2048()\n",
    "    g1.generate_num()\n",
    "    g1.generate_num()\n",
    "    g1.generate_num()\n",
    "    g1.print_2048()\n",
    "    while True:\n",
    "        g1.input_2048()\n",
    "        g1.generate_num()\n",
    "        g1.print_2048()\n",
    "        if g1.judge_gameover() == True:\n",
    "            print(\"Game over\")\n",
    "            break"
   ]
  },
  {
   "cell_type": "code",
   "execution_count": 4,
   "metadata": {},
   "outputs": [
    {
     "name": "stdin",
     "output_type": "stream",
     "text": [
      "请输入棋子的总数:  10\n",
      "请输入你要选择的难度（'silly' or 'smart'）:  silly\n"
     ]
    },
    {
     "name": "stdout",
     "output_type": "stream",
     "text": [
      "你选择了低难度\n",
      "现在共有10个棋子\n",
      "Nim拿走了2个\n",
      "现在共有8个棋子\n"
     ]
    },
    {
     "name": "stdin",
     "output_type": "stream",
     "text": [
      "该你了，你要拿走: 7\n"
     ]
    },
    {
     "name": "stdout",
     "output_type": "stream",
     "text": [
      "最多只能拿走一半的棋子！\n"
     ]
    },
    {
     "name": "stdin",
     "output_type": "stream",
     "text": [
      "请重新输入，你要拿走: n\n"
     ]
    },
    {
     "ename": "ValueError",
     "evalue": "invalid literal for int() with base 10: 'n'",
     "output_type": "error",
     "traceback": [
      "\u001b[1;31m---------------------------------------------------------------------------\u001b[0m",
      "\u001b[1;31mValueError\u001b[0m                                Traceback (most recent call last)",
      "\u001b[1;32m<ipython-input-4-84caa1209c75>\u001b[0m in \u001b[0;36m<module>\u001b[1;34m\u001b[0m\n\u001b[0;32m     60\u001b[0m     \u001b[0mnum\u001b[0m \u001b[1;33m=\u001b[0m \u001b[0mint\u001b[0m\u001b[1;33m(\u001b[0m\u001b[0minput\u001b[0m\u001b[1;33m(\u001b[0m\u001b[1;34m\"请输入棋子的总数: \"\u001b[0m\u001b[1;33m)\u001b[0m\u001b[1;33m)\u001b[0m\u001b[1;33m\u001b[0m\u001b[1;33m\u001b[0m\u001b[0m\n\u001b[0;32m     61\u001b[0m     \u001b[0mchoose\u001b[0m \u001b[1;33m=\u001b[0m \u001b[0minput\u001b[0m\u001b[1;33m(\u001b[0m\u001b[1;34m\"请输入你要选择的难度（'silly' or 'smart'）: \"\u001b[0m\u001b[1;33m)\u001b[0m\u001b[1;33m\u001b[0m\u001b[1;33m\u001b[0m\u001b[0m\n\u001b[1;32m---> 62\u001b[1;33m \u001b[0mnim_game\u001b[0m\u001b[1;33m(\u001b[0m\u001b[0mnum\u001b[0m\u001b[1;33m,\u001b[0m \u001b[0mchoose\u001b[0m\u001b[1;33m)\u001b[0m\u001b[1;33m\u001b[0m\u001b[1;33m\u001b[0m\u001b[0m\n\u001b[0m",
      "\u001b[1;32m<ipython-input-4-84caa1209c75>\u001b[0m in \u001b[0;36mnim_game\u001b[1;34m(n, choose)\u001b[0m\n\u001b[0;32m     49\u001b[0m             \u001b[1;32melse\u001b[0m\u001b[1;33m:\u001b[0m\u001b[1;33m\u001b[0m\u001b[1;33m\u001b[0m\u001b[0m\n\u001b[0;32m     50\u001b[0m                 \u001b[0mprint\u001b[0m\u001b[1;33m(\u001b[0m\u001b[1;34m\"最多只能拿走一半的棋子！\"\u001b[0m\u001b[1;33m)\u001b[0m\u001b[1;33m\u001b[0m\u001b[1;33m\u001b[0m\u001b[0m\n\u001b[1;32m---> 51\u001b[1;33m             \u001b[0myou\u001b[0m \u001b[1;33m=\u001b[0m \u001b[0mint\u001b[0m\u001b[1;33m(\u001b[0m\u001b[0minput\u001b[0m\u001b[1;33m(\u001b[0m\u001b[1;34m\"请重新输入，你要拿走:\"\u001b[0m\u001b[1;33m)\u001b[0m\u001b[1;33m)\u001b[0m\u001b[1;33m\u001b[0m\u001b[1;33m\u001b[0m\u001b[0m\n\u001b[0m\u001b[0;32m     52\u001b[0m \u001b[1;33m\u001b[0m\u001b[0m\n\u001b[0;32m     53\u001b[0m         \u001b[0mn\u001b[0m \u001b[1;33m-=\u001b[0m \u001b[0myou\u001b[0m\u001b[1;33m\u001b[0m\u001b[1;33m\u001b[0m\u001b[0m\n",
      "\u001b[1;31mValueError\u001b[0m: invalid literal for int() with base 10: 'n'"
     ]
    }
   ],
   "source": [
    "from random import randint\n",
    "from math import floor\n",
    "\n",
    "def nim_silly(n):  # 愚钝版本随机取数\n",
    "    if n <= 3:\n",
    "        return 1\n",
    "    return randint(1, floor(n / 2))\n",
    "\n",
    "def nim_smart(n):  # 聪明版本自动选择最佳数\n",
    "    if n <= 3:\n",
    "        return 1\n",
    "    x = 0\n",
    "    while (True):\n",
    "        if pow(2, x) < n <= pow(2, x + 1):\n",
    "            break\n",
    "        x += 1\n",
    "\n",
    "    num = n - pow(2, x) + 1\n",
    "    if 1 <= num <= n / 2:\n",
    "        return num\n",
    "    else:  # 若最佳数不在范围内，则选取随机数\n",
    "        return randint(1, floor(n / 2))\n",
    "\n",
    "def nim_game(n, choose):\n",
    "    if choose == 'silly':\n",
    "        print(\"你选择了低难度\")\n",
    "        f = nim_silly    # 函数指针选择silly函数\n",
    "    else:\n",
    "        print(\"你选择了高难度\")\n",
    "        f = nim_smart  # 函数指针选择smart函数\n",
    "\n",
    "    while (True):\n",
    "        print(\"现在共有\" + str(n) + \"个棋子\")\n",
    "        nim = f(n)\n",
    "        print(\"Nim拿走了\" + str(nim) + \"个\")\n",
    "        n -= nim\n",
    "        print(\"现在共有\" + str(n) + \"个棋子\")\n",
    "        if n == 0:\n",
    "            print(\"你赢了！\")\n",
    "            return\n",
    "\n",
    "        you = int(input(\"该你了，你要拿走:\"))\n",
    "        while (True):\n",
    "            if 1 <= you <= n / 2 or n == 1:\n",
    "                print(\"你拿走了\" + str(you) + \"个\")\n",
    "                break\n",
    "            if you < 1:\n",
    "                print(\"至少要拿走一个棋子！\")\n",
    "            else:\n",
    "                print(\"最多只能拿走一半的棋子！\")\n",
    "            you = int(input(\"请重新输入，你要拿走:\"))\n",
    "\n",
    "        n -= you\n",
    "        if n == 0:\n",
    "            print(\"现在共有\" + str(n) + \"个棋子\")\n",
    "            print(\"你输了！\")\n",
    "            return\n",
    "\n",
    "if __name__ == '__main__':\n",
    "    num = int(input(\"请输入棋子的总数: \"))\n",
    "    choose = input(\"请输入你要选择的难度（'silly' or 'smart'）: \")\n",
    "nim_game(num, choose)"
   ]
  },
  {
   "cell_type": "code",
   "execution_count": null,
   "metadata": {},
   "outputs": [],
   "source": []
  }
 ],
 "metadata": {
  "kernelspec": {
   "display_name": "Python 3",
   "language": "python",
   "name": "python3"
  },
  "language_info": {
   "codemirror_mode": {
    "name": "ipython",
    "version": 3
   },
   "file_extension": ".py",
   "mimetype": "text/x-python",
   "name": "python",
   "nbconvert_exporter": "python",
   "pygments_lexer": "ipython3",
   "version": "3.8.5"
  }
 },
 "nbformat": 4,
 "nbformat_minor": 4
}
