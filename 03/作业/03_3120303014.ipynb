{
 "cells": [
  {
   "cell_type": "code",
   "execution_count": 1,
   "metadata": {},
   "outputs": [
    {
     "name": "stdout",
     "output_type": "stream",
     "text": [
      "Hello python\n",
      "HELLO PYTHON\n",
      "Hello Python\n"
     ]
    }
   ],
   "source": [
    "a='hello python'\n",
    "print(a.capitalize())\n",
    "print(a.upper())\n",
    "print(a.title())"
   ]
  },
  {
   "cell_type": "code",
   "execution_count": 2,
   "metadata": {},
   "outputs": [
    {
     "name": "stdout",
     "output_type": "stream",
     "text": [
      "2\n"
     ]
    }
   ],
   "source": [
    "b='o'\n",
    "print(a.count(b))"
   ]
  },
  {
   "cell_type": "code",
   "execution_count": 3,
   "metadata": {},
   "outputs": [
    {
     "name": "stdout",
     "output_type": "stream",
     "text": [
      "1\n"
     ]
    }
   ],
   "source": [
    "print(a.count(b,0,5))"
   ]
  },
  {
   "cell_type": "code",
   "execution_count": 20,
   "metadata": {},
   "outputs": [
    {
     "name": "stdout",
     "output_type": "stream",
     "text": [
      "True\n",
      "True\n",
      "False\n",
      "False\n",
      "False\n",
      "True\n",
      "**************************************************\n",
      "True\n",
      "True\n",
      "False\n",
      "True\n",
      "True\n",
      "True\n",
      "**************************************************\n",
      "False\n",
      "False\n",
      "False\n",
      "False\n",
      "True\n",
      "False\n",
      "**************************************************\n",
      "False\n",
      "False\n",
      "False\n",
      "False\n",
      "True\n",
      "True\n"
     ]
    }
   ],
   "source": [
    "list=[]\n",
    "list.append('nebula')\n",
    "list.append('nebula星云')\n",
    "list.append('nebula*..')\n",
    "list.append('nebula1998')\n",
    "list.append('1998')\n",
    "list.append('一九九八')\n",
    "for i in range(0,6):\n",
    "    print(list[i].isalpha())\n",
    "print('*'*50)\n",
    "for i in range(0,6):\n",
    "    print(list[i].isalnum())\n",
    "print('*'*50)\n",
    "for i in range(0,6):\n",
    "    print(list[i].isdigit())\n",
    "print('*'*50)\n",
    "for i in range(0,6):\n",
    "    print(list[i].isnumeric())"
   ]
  },
  {
   "cell_type": "code",
   "execution_count": 22,
   "metadata": {},
   "outputs": [
    {
     "name": "stdout",
     "output_type": "stream",
     "text": [
      "True\n"
     ]
    }
   ],
   "source": [
    "a='nebula is a handsome guy'\n",
    "print(a.startswith('nebula'))"
   ]
  },
  {
   "cell_type": "code",
   "execution_count": 26,
   "metadata": {},
   "outputs": [
    {
     "name": "stdout",
     "output_type": "stream",
     "text": [
      "False\n"
     ]
    }
   ],
   "source": [
    "print(a.startswith('gay',21))"
   ]
  },
  {
   "cell_type": "code",
   "execution_count": 29,
   "metadata": {},
   "outputs": [
    {
     "name": "stdout",
     "output_type": "stream",
     "text": [
      "False\n"
     ]
    }
   ],
   "source": [
    "print(a.startswith('guy',21,23))"
   ]
  },
  {
   "cell_type": "code",
   "execution_count": 30,
   "metadata": {},
   "outputs": [
    {
     "name": "stdout",
     "output_type": "stream",
     "text": [
      "True\n"
     ]
    }
   ],
   "source": [
    "print(a.startswith('guy',21,24))"
   ]
  },
  {
   "cell_type": "code",
   "execution_count": 31,
   "metadata": {},
   "outputs": [
    {
     "name": "stdout",
     "output_type": "stream",
     "text": [
      "True\n"
     ]
    }
   ],
   "source": [
    "print(a.endswith('guy'))"
   ]
  },
  {
   "cell_type": "code",
   "execution_count": 32,
   "metadata": {},
   "outputs": [
    {
     "name": "stdout",
     "output_type": "stream",
     "text": [
      "False\n"
     ]
    }
   ],
   "source": [
    "print(a.endswith('guy',len(a)-1))"
   ]
  },
  {
   "cell_type": "code",
   "execution_count": 33,
   "metadata": {},
   "outputs": [
    {
     "name": "stdout",
     "output_type": "stream",
     "text": [
      "False\n"
     ]
    }
   ],
   "source": [
    "print(a.endswith('guy',len(a)))"
   ]
  },
  {
   "cell_type": "code",
   "execution_count": 34,
   "metadata": {},
   "outputs": [
    {
     "data": {
      "text/plain": [
       "24"
      ]
     },
     "execution_count": 34,
     "metadata": {},
     "output_type": "execute_result"
    }
   ],
   "source": [
    "len(a)"
   ]
  },
  {
   "cell_type": "code",
   "execution_count": 36,
   "metadata": {},
   "outputs": [
    {
     "name": "stdout",
     "output_type": "stream",
     "text": [
      "True\n"
     ]
    }
   ],
   "source": [
    "print(a.endswith('guy',len(a)-3))"
   ]
  },
  {
   "cell_type": "code",
   "execution_count": 37,
   "metadata": {},
   "outputs": [
    {
     "name": "stdout",
     "output_type": "stream",
     "text": [
      "16\n"
     ]
    }
   ],
   "source": [
    "print(a.find('some'))"
   ]
  },
  {
   "cell_type": "code",
   "execution_count": 38,
   "metadata": {},
   "outputs": [
    {
     "data": {
      "text/plain": [
       "'s'"
      ]
     },
     "execution_count": 38,
     "metadata": {},
     "output_type": "execute_result"
    }
   ],
   "source": [
    "a[16]"
   ]
  },
  {
   "cell_type": "code",
   "execution_count": 39,
   "metadata": {},
   "outputs": [
    {
     "name": "stdout",
     "output_type": "stream",
     "text": [
      "16\n"
     ]
    }
   ],
   "source": [
    "print(a.find('some',12))"
   ]
  },
  {
   "cell_type": "code",
   "execution_count": 40,
   "metadata": {},
   "outputs": [
    {
     "name": "stdout",
     "output_type": "stream",
     "text": [
      "-1\n"
     ]
    }
   ],
   "source": [
    "print(a.find('some',20))"
   ]
  },
  {
   "cell_type": "code",
   "execution_count": 42,
   "metadata": {},
   "outputs": [
    {
     "name": "stdout",
     "output_type": "stream",
     "text": [
      "***nebula is a handsome guy*******\n"
     ]
    },
    {
     "data": {
      "text/plain": [
       "'nebula is a handsome guy'"
      ]
     },
     "execution_count": 42,
     "metadata": {},
     "output_type": "execute_result"
    }
   ],
   "source": [
    "a= \"    ***nebula is a handsome guy*******    \"\n",
    "a=a.strip()\n",
    "print(a)\n",
    "a=a.strip('*') \n",
    "a"
   ]
  },
  {
   "cell_type": "code",
   "execution_count": 43,
   "metadata": {},
   "outputs": [
    {
     "name": "stdout",
     "output_type": "stream",
     "text": [
      "['nebula', 'is', 'a', 'handsome', 'guy']\n"
     ]
    }
   ],
   "source": [
    "a='nebula is a handsome guy'\n",
    "print(a.split())"
   ]
  },
  {
   "cell_type": "code",
   "execution_count": 46,
   "metadata": {},
   "outputs": [
    {
     "name": "stdout",
     "output_type": "stream",
     "text": [
      "['nebula', 'is', 'a', 'handsome', 'guy']\n"
     ]
    }
   ],
   "source": [
    "a='nebula     is a handsome guy'\n",
    "print(a.split())"
   ]
  },
  {
   "cell_type": "code",
   "execution_count": 50,
   "metadata": {},
   "outputs": [
    {
     "name": "stdout",
     "output_type": "stream",
     "text": [
      "['nebula', '', '', 'is', 'a', 'handsome', 'guy']\n"
     ]
    }
   ],
   "source": [
    "a='nebula###is#a#handsome#guy'\n",
    "print(a.split('#'))"
   ]
  },
  {
   "cell_type": "code",
   "execution_count": 51,
   "metadata": {},
   "outputs": [
    {
     "data": {
      "text/plain": [
       "''"
      ]
     },
     "execution_count": 51,
     "metadata": {},
     "output_type": "execute_result"
    }
   ],
   "source": [
    "l=a.split('#')\n",
    "l[1]"
   ]
  },
  {
   "cell_type": "code",
   "execution_count": 52,
   "metadata": {},
   "outputs": [
    {
     "name": "stdout",
     "output_type": "stream",
     "text": [
      "nebula is a super handsome guy\n"
     ]
    }
   ],
   "source": [
    "a='nebula is a handsome guy'\n",
    "print(a.replace('handsome','super handsome'))"
   ]
  },
  {
   "cell_type": "code",
   "execution_count": 66,
   "metadata": {},
   "outputs": [
    {
     "data": {
      "text/plain": [
       "'1551388701@qq.com'"
      ]
     },
     "execution_count": 66,
     "metadata": {},
     "output_type": "execute_result"
    }
   ],
   "source": [
    "import re\n",
    "a=re.match(r'[a-zA-Z0-9_-]+\\@[a-zA-Z0-9_-]+(\\.[a-zA-Z0-9_-]+)+$', '1551388701@qq.com')\n",
    "a.group()"
   ]
  },
  {
   "cell_type": "code",
   "execution_count": 68,
   "metadata": {},
   "outputs": [
    {
     "name": "stdout",
     "output_type": "stream",
     "text": [
      "<re.Match object; span=(0, 9), match='010-12345'>\n"
     ]
    }
   ],
   "source": [
    "print(re.match(r'\\d{3}-\\d{3,8}$', '010-12345'))"
   ]
  },
  {
   "cell_type": "code",
   "execution_count": 70,
   "metadata": {},
   "outputs": [
    {
     "name": "stdout",
     "output_type": "stream",
     "text": [
      "['a', 'b', '', '', '', '', '', 'c']\n"
     ]
    }
   ],
   "source": [
    "a='a b      c'\n",
    "print(a.split(' '))"
   ]
  },
  {
   "cell_type": "code",
   "execution_count": 71,
   "metadata": {},
   "outputs": [
    {
     "name": "stdout",
     "output_type": "stream",
     "text": [
      "['a', 'b', 'c']\n"
     ]
    }
   ],
   "source": [
    "a='a b      c'\n",
    "print(a.split())"
   ]
  },
  {
   "cell_type": "code",
   "execution_count": 74,
   "metadata": {},
   "outputs": [
    {
     "name": "stdout",
     "output_type": "stream",
     "text": [
      "['a', 'b', 'c']\n"
     ]
    }
   ],
   "source": [
    "import re\n",
    "print(re.split(r'\\s+',a))"
   ]
  },
  {
   "cell_type": "code",
   "execution_count": 75,
   "metadata": {},
   "outputs": [
    {
     "name": "stdout",
     "output_type": "stream",
     "text": [
      "['a', 'b', 'c', 'd']\n"
     ]
    }
   ],
   "source": [
    "a='a, b,c d'\n",
    "print(re.split(r'[\\s\\,]+',a))"
   ]
  },
  {
   "cell_type": "code",
   "execution_count": 76,
   "metadata": {},
   "outputs": [
    {
     "name": "stdout",
     "output_type": "stream",
     "text": [
      "['a', 'cd', 'l', 's']\n"
     ]
    }
   ],
   "source": [
    "a='a#cd ,#l,; s'\n",
    "print(re.split(r'[\\s\\,\\#\\;]+',a))"
   ]
  },
  {
   "cell_type": "code",
   "execution_count": 78,
   "metadata": {},
   "outputs": [
    {
     "name": "stdout",
     "output_type": "stream",
     "text": [
      "<re.Match object; span=(0, 3), match='www'>\n",
      "None\n"
     ]
    }
   ],
   "source": [
    "import re\n",
    "print(re.match('www', 'www.runoob.com'))  \n",
    "print(re.match('com', 'www.runoob.com')) "
   ]
  },
  {
   "cell_type": "code",
   "execution_count": 80,
   "metadata": {},
   "outputs": [
    {
     "name": "stdout",
     "output_type": "stream",
     "text": [
      "<re.Match object; span=(0, 9), match='010-12345'>\n",
      "010-12345\n",
      "010\n",
      "12345\n"
     ]
    },
    {
     "data": {
      "text/plain": [
       "('010', '12345')"
      ]
     },
     "execution_count": 80,
     "metadata": {},
     "output_type": "execute_result"
    }
   ],
   "source": [
    "m = re.match(r'^(\\d{3})-(\\d{3,8})$', '010-12345')\n",
    "print(m)\n",
    "print(m.group(0))\n",
    "print(m.group(1))\n",
    "print(m.group(2))\n",
    "m.groups()"
   ]
  },
  {
   "cell_type": "code",
   "execution_count": 88,
   "metadata": {},
   "outputs": [
    {
     "data": {
      "text/plain": [
       "('9', '5', '30')"
      ]
     },
     "execution_count": 88,
     "metadata": {},
     "output_type": "execute_result"
    }
   ],
   "source": [
    "t = '9:5:30'\n",
    "m = re.match(r'^(0[0-9]|1[0-9]|2[0-3]|[0-9])\\:(0[0-9]|1[0-9]|2[0-9]|3[0-9]|4[0-9]|5[0-9]|[0-9])\\:(0[0-9]|1[0-9]|2[0-9]|3[0-9]|4[0-9]|5[0-9]|[0-9])$', t)\n",
    "tu=m.groups()\n",
    "tu"
   ]
  },
  {
   "cell_type": "code",
   "execution_count": 89,
   "metadata": {},
   "outputs": [
    {
     "data": {
      "text/plain": [
       "('102300', '')"
      ]
     },
     "execution_count": 89,
     "metadata": {},
     "output_type": "execute_result"
    }
   ],
   "source": [
    "re.match(r'^(\\d+)(0*)$', '102300').groups()"
   ]
  },
  {
   "cell_type": "code",
   "execution_count": 90,
   "metadata": {},
   "outputs": [
    {
     "data": {
      "text/plain": [
       "('1023', '00')"
      ]
     },
     "execution_count": 90,
     "metadata": {},
     "output_type": "execute_result"
    }
   ],
   "source": [
    "re.match(r'^(\\d+?)(0*)$', '102300').groups()"
   ]
  },
  {
   "cell_type": "code",
   "execution_count": 95,
   "metadata": {},
   "outputs": [
    {
     "data": {
      "text/plain": [
       "('1023', '00')"
      ]
     },
     "execution_count": 95,
     "metadata": {},
     "output_type": "execute_result"
    }
   ],
   "source": [
    "re.match(r'^(\\d+?)(0*)$', '102300').groups()"
   ]
  },
  {
   "cell_type": "code",
   "execution_count": 103,
   "metadata": {},
   "outputs": [
    {
     "name": "stdout",
     "output_type": "stream",
     "text": [
      "--------------------re.search---------------------\n",
      "toocle01@netsun.com\n",
      "--------------------re.findall--------------------\n",
      "530180782@qq.com\n",
      "243678025@qq.com\n",
      "398018489@qq.com\n",
      "595064131@qq.com\n",
      "362483245@qq.com\n",
      "285340035@qq.com\n",
      "448280012@qq.com\n",
      "452779373@qq.com\n",
      "1043553227@qq.com\n",
      "554003572@qq.com\n",
      "1158658706@qq.com\n",
      "535603525@qq.com\n",
      "327526091@qq.com\n",
      "491163631@qq.com\n",
      "404127680@qq.com\n",
      "610363953@qq.com\n",
      "530413323@qq.com\n",
      "976581566@qq.com\n",
      "645366312@qq.com\n",
      "252297147@qq.com\n",
      "958715182@qq.com\n",
      "421184840@qq.com\n",
      "276140133@qq.com\n",
      "295642572@qq.com\n",
      "657227464@qq.com\n",
      "402236479@qq.com\n",
      "304470253@qq.com\n",
      "954881719@qq.com\n",
      "584720149@qq.com\n",
      "1113964742@qq.com\n",
      "541939857@qq.com\n",
      "463757313@qq.com\n",
      "634335492@qq.com\n",
      "593368912@qq.com\n",
      "849847679@qq.com\n",
      "672900644@qq.com\n",
      "779569651@qq.com\n",
      "406242205@qq.com\n",
      "735055817@qq.com\n",
      "836633828@qq.com\n",
      "476706564@qq.com\n",
      "625211428@qq.com\n",
      "172918923@qq.com\n",
      "359163787@qq.com\n",
      "119023118@qq.com\n",
      "292010344@qq.com\n",
      "516086546@qq.com\n",
      "11302299@qq.com\n",
      "695297016@qq.com\n",
      "616103992@qq.com\n",
      "523512190@qq.com\n",
      "307323273@qq.com\n",
      "474945849@qq.com\n",
      "1013934207@qq.com\n",
      "847449402@qq.com\n",
      "119024552@qq.com\n",
      "1016946307@qq.com\n",
      "851733175@qq.com\n",
      "627254325@qq.com\n",
      "454809244@qq.com\n",
      "927330592@qq.com\n",
      "729263464@qq.com\n",
      "812193944@qq.com\n",
      "303462539@qq.com\n",
      "350305755@qq.com\n",
      "609496763@qq.com\n",
      "40273158@qq.com\n",
      "977674774@qq.com\n",
      "515161590@qq.com\n",
      "495032680@qq.com\n",
      "414684501@qq.com\n",
      "443733564@qq.com\n",
      "867577874@qq.com\n",
      "343534820@qq.com\n",
      "497210009@qq.com\n",
      "466975772@qq.com\n",
      "465592934@qq.com\n",
      "592870174@qq.com\n",
      "362033506@qq.com\n",
      "616939853@qq.com\n",
      "364667312@qq.com\n",
      "529724371@qq.com\n",
      "515471801@qq.com\n",
      "441450595@qq.com\n",
      "444360506@qq.com\n",
      "xingfa@xingfayeya.com\n",
      "cjwlj@21cn.com\n",
      "toocle01@netsun.com\n",
      "chuangling@chuangling.net\n",
      "zjykrc@163.com\n",
      "hahdjx@163.com\n",
      "5663@sohu.com\n",
      "chenql_008@163.com\n",
      "tsmoql@alibaba.com.cn\n",
      "jx@lc-jxgg.com\n",
      "wxweijie@163.com\n",
      "jinganmotor@jinganmotor.cn\n",
      "cnjiangtai@126.com\n",
      "ankson@126.com\n",
      "newsinda@yahoo.com\n",
      "jwf110@hotmail.com\n",
      "jsob@jsob.cn\n",
      "shfmsr@hotmail.com\n",
      "LYC@hzlasiji.com\n",
      "yawei@xinyajx.com\n",
      "zhoulequn@alibaba.com.cn\n",
      "shandongxinghuo@163.com\n",
      "dc571@163.com\n",
      "hongyi211@sina.com\n",
      "bzxianfeng@163.com\n",
      "ykwbq@163.com\n",
      "hnzz_hgjx110@163.com\n",
      "zy@zhenasia.com\n",
      "cgzb110@163.com\n",
      "manager@hongxinqd.com\n",
      "xsgl2010@yahoo.com.cn\n",
      "chuangyizdh@163.com\n",
      "dsk@cngxj.com\n",
      "meiyingmachine@163.com\n",
      "cilijichuang@sina.com\n",
      "sdTS7559@yahoo.com.cn\n",
      "info@qdhuari.com.cn\n",
      "yh123@vip.163.com\n",
      "hrc@china.com\n",
      "web@cn-pengwei.com\n",
      "ycdy28@163.com\n",
      "ysfh@ysfh.com\n",
      "zhengdongsheng1970@126.com\n",
      "yarkesong@vip.163.com\n",
      "fhjxsbzzc@126.com\n",
      "jingchuang@gdjingchuang.com\n",
      "gyby5911@alibaba.com.cn\n",
      "dgjs0769@126.com\n",
      "hr@bmschina.com\n",
      "zhaomingwqw@163.com\n",
      "ruihongfair@163.com\n",
      "bzfangzheng@126.com\n",
      "zsstssjxzzyxgs@3158.com\n",
      "sdzgjx@126.com\n",
      "sale@xinhuajg.com\n",
      "222@126.com\n",
      "ivanoowin@hotmail.com\n",
      "chinawutong@126.com\n",
      "info@hbzrzz.cn\n",
      "xyyunshan@163.com\n",
      "saw@cnsaw.com\n",
      "zoulin68@hotmail.com\n",
      "cdkj@cj-elec.com\n",
      "hellodongchen@hotmail.com\n",
      "chinawutong@126.com\n",
      "yunyuan@163.com\n",
      "ourgameren@yahoo.com.cn\n",
      "gsw888@163.com\n",
      "jshsjx@jshs.com.cn\n",
      "chinawutong@126.com\n",
      "cdsongli@126.com\n",
      "zbshenchang@163.com\n",
      "zzjianxing@126.com\n",
      "tjzf@tjzf.com\n",
      "4151447@126.com\n",
      "xuxia928@163.com\n",
      "wangqianjuan@163.com\n",
      "qsyj@jjqsyj.cn\n",
      "sanjiangjx@alibaba.com.cn\n",
      "yao@163.com\n",
      "xxtljx@126.com\n",
      "mxjm@mxjm.com\n",
      "bbxindas@sohu.com.cc\n",
      "lvjuntx@qszt.net\n",
      "caoyang@pm-china.com\n",
      "wcdb@wcdb.com.cn\n",
      "jh@xichenji.com\n",
      "jcmaxgride@21cn.com\n",
      "sale@zjgjcjx.com\n",
      "wangdz01@126.com\n",
      "xwxs315@163.com\n",
      "zyj8888@163.com\n",
      "hyshelf_ok@126.com\n",
      "xiongxin@autobrakes-china.com\n",
      "948882566@QQ.COM\n",
      "ybopackage_mei@163.com\n",
      "hengxing@188.com\n",
      "chinawutong@126.com\n",
      "kaihuajx@yahoo.cn\n",
      "yf@yfjxzz.cn\n",
      "13816589881@126.com\n",
      "ycx358@sina.com\n",
      "hddgsb@hddgsb.com\n",
      "yue248ax@126.com\n",
      "8930377@cpp114.net\n",
      "wailaan@gz-wailaan.com\n",
      "sznayee@shc021.com\n",
      "bpmouldgs@yahoo.cn\n",
      "9skybug@163.com\n",
      "andrui110@sina.com\n",
      "zn@wjlljx.com\n",
      "yyuf118@163.com\n",
      "jylshx@163.com\n",
      "runze66@126.com\n",
      "cass@zjcass.com\n",
      "xiao@zldjc.com\n",
      "tianyi0205@163.com\n",
      "yanghaifeng8245@yahoo.com.cn\n",
      "xjx978@126.com\n",
      "nbdfmy@163.com\n",
      "1034953236@qq.com\n",
      "YFRC123@TOM.COM\n",
      "web@txtcjsj.com\n",
      "hebeizuanji@163.com\n",
      "root@xsp2.com\n",
      "13910101728@139.com\n",
      "hzchuangqili@163.com\n",
      "lqhlq_001@163.com\n",
      "dy@sy-v.com\n",
      "root@xsp2.com\n",
      "jsltszd@163.com\n",
      "newsinda@yahoo.com\n",
      "tzcldq@alibaba.com.cn\n",
      "xwdq400@126.com\n",
      "zhushaohua806@sohu.com\n",
      "zcyin@163.com\n",
      "SUNVAN@ADVANTECH.COM\n",
      "hongqigroup@126.com\n",
      "lyshjttqm@yahoo.cn\n",
      "ystongtai@126.com\n",
      "sales@yazhoupumps.com\n",
      "181888@gmail.com\n",
      "js@zkjq.cn\n",
      "310487604@qq.com\n",
      "server@cmt365.com\n",
      "yangqing_0221@126.com\n",
      "xianglin912@sina.com\n",
      "sales@cnartil.com\n",
      "xf@xf86.com\n",
      "lzh666777@sina.com\n",
      "abolan@163.net\n",
      "jzssysjzzyxgs@3158.com\n",
      "sales@wiremesh-machine.cn\n",
      "1305480186@qq.com\n",
      "lc@longchangjx.com\n",
      "cycle168@yahoo.cn\n",
      "275464647@qq.com\n",
      "info@btc888.com\n",
      "webmaster@sh-fhdp.com\n",
      "love2230050@hotmail.com\n",
      "server@jinxingjd.com\n",
      "wadb258@sohu.com\n"
     ]
    }
   ],
   "source": [
    "with open('re_test.txt',encoding='utf-8') as f:\n",
    "    content = f.read()\n",
    "    res = re.search(r'^[a-zA-Z0-9_-]+@[a-zA-Z0-9_-]+(\\.[a-zA-Z0-9_-]+)+$', content, re.M)\n",
    "    print('re.search'.center(50, '-'))\n",
    "    print(res.group())\n",
    "    print('re.findall'.center(50, '-'))\n",
    "    res = re.findall(r'([a-zA-Z0-9_-]+@[a-zA-Z0-9_-]+(\\.[a-zA-Z0-9_-]+)+)', content, re.M)\n",
    "    for x in res:\n",
    "        print(x[0])"
   ]
  },
  {
   "cell_type": "code",
   "execution_count": 107,
   "metadata": {},
   "outputs": [
    {
     "data": {
      "text/plain": [
       "['a', 'b', 'c', 'f']"
      ]
     },
     "execution_count": 107,
     "metadata": {},
     "output_type": "execute_result"
    }
   ],
   "source": [
    "l=['a','b','c']\n",
    "l.append('f')\n",
    "l"
   ]
  },
  {
   "cell_type": "code",
   "execution_count": 108,
   "metadata": {},
   "outputs": [
    {
     "data": {
      "text/plain": [
       "['a', 'b', 'e', 'c', 'f']"
      ]
     },
     "execution_count": 108,
     "metadata": {},
     "output_type": "execute_result"
    }
   ],
   "source": [
    "l.insert(2,'e')\n",
    "l"
   ]
  },
  {
   "cell_type": "code",
   "execution_count": 110,
   "metadata": {},
   "outputs": [
    {
     "data": {
      "text/plain": [
       "2"
      ]
     },
     "execution_count": 110,
     "metadata": {},
     "output_type": "execute_result"
    }
   ],
   "source": [
    "l.append('c')\n",
    "l.count('c')"
   ]
  },
  {
   "cell_type": "code",
   "execution_count": 111,
   "metadata": {},
   "outputs": [
    {
     "data": {
      "text/plain": [
       "0"
      ]
     },
     "execution_count": 111,
     "metadata": {},
     "output_type": "execute_result"
    }
   ],
   "source": [
    "l.index('a')"
   ]
  },
  {
   "cell_type": "code",
   "execution_count": 113,
   "metadata": {},
   "outputs": [
    {
     "name": "stdout",
     "output_type": "stream",
     "text": [
      "['a', 'b', 'e', 'c', 'f', 'c']\n"
     ]
    },
    {
     "data": {
      "text/plain": [
       "3"
      ]
     },
     "execution_count": 113,
     "metadata": {},
     "output_type": "execute_result"
    }
   ],
   "source": [
    "print(l)\n",
    "l.index('c')"
   ]
  },
  {
   "cell_type": "code",
   "execution_count": 115,
   "metadata": {},
   "outputs": [
    {
     "name": "stdout",
     "output_type": "stream",
     "text": [
      "[0, 1, 1, 2, 3, 4, 5, 6, 8, 9]\n",
      "[9, 8, 6, 5, 4, 3, 2, 1, 1, 0]\n",
      "[]\n"
     ]
    }
   ],
   "source": [
    "a = [0 ,1, 2, 4, 5, 6, 8, 9, 3, 1]\n",
    "a.sort()\n",
    "print(a)\n",
    "a.reverse()\n",
    "print(a)\n",
    "a.clear()\n",
    "print(a)"
   ]
  },
  {
   "cell_type": "code",
   "execution_count": 119,
   "metadata": {},
   "outputs": [
    {
     "data": {
      "text/plain": [
       "9"
      ]
     },
     "execution_count": 119,
     "metadata": {},
     "output_type": "execute_result"
    }
   ],
   "source": [
    "a = [0 ,1, 2, 4, 5, 6, 8, 9, 3, 1]\n",
    "max(a)"
   ]
  },
  {
   "cell_type": "code",
   "execution_count": 120,
   "metadata": {},
   "outputs": [
    {
     "data": {
      "text/plain": [
       "[0, 1, 2, 4, 5, 6, 8, 9, 3, 1, 10, 11]"
      ]
     },
     "execution_count": 120,
     "metadata": {},
     "output_type": "execute_result"
    }
   ],
   "source": [
    "a.extend([10,11])\n",
    "a"
   ]
  },
  {
   "cell_type": "code",
   "execution_count": 121,
   "metadata": {},
   "outputs": [
    {
     "data": {
      "text/plain": [
       "[0, 1, 2, 4, 5, 6, 8, 9, 3, 1, 10, 11, 12]"
      ]
     },
     "execution_count": 121,
     "metadata": {},
     "output_type": "execute_result"
    }
   ],
   "source": [
    "a.extend([12])\n",
    "a"
   ]
  },
  {
   "cell_type": "code",
   "execution_count": 128,
   "metadata": {},
   "outputs": [
    {
     "name": "stdout",
     "output_type": "stream",
     "text": [
      "[0, 1, 2, 3, 4, 'Hello', 'World']\n",
      "0#1#2#3#4#Hello#World\n"
     ]
    }
   ],
   "source": [
    "args = [*range(5), 'Hello', 'World']\n",
    "print(args)\n",
    "print(*args, sep='#')"
   ]
  },
  {
   "cell_type": "code",
   "execution_count": 129,
   "metadata": {},
   "outputs": [
    {
     "ename": "SyntaxError",
     "evalue": "can't use starred expression here (<ipython-input-129-8de611c80e22>, line 1)",
     "output_type": "error",
     "traceback": [
      "\u001b[1;36m  File \u001b[1;32m\"<ipython-input-129-8de611c80e22>\"\u001b[1;36m, line \u001b[1;32m1\u001b[0m\n\u001b[1;33m    a=*range(5)\u001b[0m\n\u001b[1;37m      ^\u001b[0m\n\u001b[1;31mSyntaxError\u001b[0m\u001b[1;31m:\u001b[0m can't use starred expression here\n"
     ]
    }
   ],
   "source": [
    "a=*range(5)\n",
    "a"
   ]
  },
  {
   "cell_type": "code",
   "execution_count": 130,
   "metadata": {},
   "outputs": [
    {
     "name": "stdout",
     "output_type": "stream",
     "text": [
      "0 1 2 3 4\n"
     ]
    }
   ],
   "source": [
    "print(*range(5))"
   ]
  },
  {
   "cell_type": "code",
   "execution_count": 132,
   "metadata": {},
   "outputs": [
    {
     "name": "stdout",
     "output_type": "stream",
     "text": [
      "1\n",
      "2\n"
     ]
    }
   ],
   "source": [
    "l = [1,2,3,4]\n",
    "it = iter(l)\n",
    "print(next(it)) \n",
    "print(next(it))"
   ]
  },
  {
   "cell_type": "code",
   "execution_count": 133,
   "metadata": {},
   "outputs": [
    {
     "name": "stdout",
     "output_type": "stream",
     "text": [
      "1\n",
      "2\n"
     ]
    }
   ],
   "source": [
    "l = (1,2,3,4)\n",
    "it = iter(l)\n",
    "print(next(it)) \n",
    "print(next(it))"
   ]
  },
  {
   "cell_type": "code",
   "execution_count": 134,
   "metadata": {},
   "outputs": [
    {
     "name": "stdout",
     "output_type": "stream",
     "text": [
      "1\n",
      "2\n"
     ]
    }
   ],
   "source": [
    "l = '1234'\n",
    "it = iter(l)\n",
    "print(next(it)) \n",
    "print(next(it))"
   ]
  },
  {
   "cell_type": "code",
   "execution_count": 1,
   "metadata": {},
   "outputs": [
    {
     "name": "stdout",
     "output_type": "stream",
     "text": [
      "(1, 5, 9)\n",
      "(1, 5, 10)\n",
      "(1, 5, 11)\n",
      "(1, 5, 12)\n",
      "(1, 6, 9)\n",
      "(1, 6, 10)\n",
      "(1, 6, 11)\n",
      "(1, 6, 12)\n",
      "(1, 7, 9)\n",
      "(1, 7, 10)\n",
      "(1, 7, 11)\n",
      "(1, 7, 12)\n",
      "(1, 8, 9)\n",
      "(1, 8, 10)\n",
      "(1, 8, 11)\n",
      "(1, 8, 12)\n",
      "(2, 5, 9)\n",
      "(2, 5, 10)\n",
      "(2, 5, 11)\n",
      "(2, 5, 12)\n",
      "(2, 6, 9)\n",
      "(2, 6, 10)\n",
      "(2, 6, 11)\n",
      "(2, 6, 12)\n",
      "(2, 7, 9)\n",
      "(2, 7, 10)\n",
      "(2, 7, 11)\n",
      "(2, 7, 12)\n",
      "(2, 8, 9)\n",
      "(2, 8, 10)\n",
      "(2, 8, 11)\n",
      "(2, 8, 12)\n",
      "(3, 5, 9)\n",
      "(3, 5, 10)\n",
      "(3, 5, 11)\n",
      "(3, 5, 12)\n",
      "(3, 6, 9)\n",
      "(3, 6, 10)\n",
      "(3, 6, 11)\n",
      "(3, 6, 12)\n",
      "(3, 7, 9)\n",
      "(3, 7, 10)\n",
      "(3, 7, 11)\n",
      "(3, 7, 12)\n",
      "(3, 8, 9)\n",
      "(3, 8, 10)\n",
      "(3, 8, 11)\n",
      "(3, 8, 12)\n",
      "(4, 5, 9)\n",
      "(4, 5, 10)\n",
      "(4, 5, 11)\n",
      "(4, 5, 12)\n",
      "(4, 6, 9)\n",
      "(4, 6, 10)\n",
      "(4, 6, 11)\n",
      "(4, 6, 12)\n",
      "(4, 7, 9)\n",
      "(4, 7, 10)\n",
      "(4, 7, 11)\n",
      "(4, 7, 12)\n",
      "(4, 8, 9)\n",
      "(4, 8, 10)\n",
      "(4, 8, 11)\n",
      "(4, 8, 12)\n"
     ]
    }
   ],
   "source": [
    "import itertools\n",
    "\n",
    "class cartesian(object):\n",
    "    def __init__(self):\n",
    "        self._data_list=[]\n",
    "\n",
    "    def add_data(self,data=[]): #添加生成笛卡尔积的数据列表\n",
    "        self._data_list.append(data)\n",
    "\n",
    "    def build(self): #计算笛卡尔积\n",
    "        for item in itertools.product(*self._data_list):\n",
    "            print(item)\n",
    "\n",
    "if __name__==\"__main__\":\n",
    "    car=cartesian()\n",
    "    car.add_data([1,2,3,4])\n",
    "    car.add_data([5,6,7,8])\n",
    "    car.add_data([9,10,11,12])\n",
    "    car.build()"
   ]
  },
  {
   "cell_type": "code",
   "execution_count": 2,
   "metadata": {},
   "outputs": [
    {
     "name": "stdin",
     "output_type": "stream",
     "text": [
      "输入第一个数字： 1\n",
      "输入第二个数字： 21\n"
     ]
    },
    {
     "name": "stdout",
     "output_type": "stream",
     "text": [
      "数字 1 和 21 相加结果为： 22.0\n"
     ]
    }
   ],
   "source": [
    "num1 = input('输入第一个数字：')\n",
    "num2 = input('输入第二个数字：')\n",
    " \n",
    "# 求和\n",
    "sum = float(num1) + float(num2)\n",
    " \n",
    "# 显示计算结果\n",
    "print('数字 {0} 和 {1} 相加结果为： {2}'.format(num1, num2, sum))"
   ]
  },
  {
   "cell_type": "code",
   "execution_count": 3,
   "metadata": {},
   "outputs": [
    {
     "name": "stdin",
     "output_type": "stream",
     "text": [
      "请输入一个数字：  5\n"
     ]
    },
    {
     "name": "stdout",
     "output_type": "stream",
     "text": [
      " 5.000 的平方根为 2.236\n"
     ]
    }
   ],
   "source": [
    "num = float(input('请输入一个数字： '))\n",
    "num_sqrt = num ** 0.5\n",
    "print(' %0.3f 的平方根为 %0.3f'%(num ,num_sqrt))"
   ]
  },
  {
   "cell_type": "code",
   "execution_count": 4,
   "metadata": {},
   "outputs": [
    {
     "name": "stdin",
     "output_type": "stream",
     "text": [
      "请输入一个数字:  10\n"
     ]
    },
    {
     "name": "stdout",
     "output_type": "stream",
     "text": [
      "10 的平方根为 3.162+0.000j\n"
     ]
    }
   ],
   "source": [
    "import cmath\n",
    " \n",
    "num = int(input(\"请输入一个数字: \"))\n",
    "num_sqrt = cmath.sqrt(num)\n",
    "print('{0} 的平方根为 {1:0.3f}+{2:0.3f}j'.format(num ,num_sqrt.real,num_sqrt.imag))"
   ]
  },
  {
   "cell_type": "code",
   "execution_count": 5,
   "metadata": {},
   "outputs": [
    {
     "name": "stdin",
     "output_type": "stream",
     "text": [
      "请输入一个实数字:  10\n",
      "请输入一个虚数字:  1\n"
     ]
    },
    {
     "name": "stdout",
     "output_type": "stream",
     "text": [
      "10.000+ 1.000j 8的平方根为 3.166+0.158j\n"
     ]
    }
   ],
   "source": [
    "import cmath\n",
    "\n",
    "a = float(input(\"请输入一个实数字: \"))\n",
    "b = float(input(\"请输入一个虚数字: \"))\n",
    "num_sqrt = cmath.sqrt(complex(a, b))\n",
    "print('{0:0.3f}+ {1:0.3f}j 8的平方根为 {2:0.3f}+{3:0.3f}j'.format(a, b, num_sqrt.real, num_sqrt.imag))"
   ]
  },
  {
   "cell_type": "code",
   "execution_count": 6,
   "metadata": {},
   "outputs": [],
   "source": [
    "def sqrt():\n",
    "  \n",
    "  import cmath\n",
    "# # 计算实数和复数平方根# # 导入复数数学模块 isinstance(num ,  (float,int) )\n",
    "  num = input('输入第一个数字：')\n",
    "  if num.__contains__('-') and  num.__contains__('.'):  # 负数、浮点数    \n",
    "    num_sqrt = cmath.sqrt(float(num))\n",
    "    print('{0} 的平方根为 {1:0.3f}+{2:0.3f}j'.format(float(num), num_sqrt.real, num_sqrt.imag))\n",
    "  elif num.__contains__('-'):  # # 负数、整数    \n",
    "    num_sqrt = cmath.sqrt(int(num))\n",
    "    print('{0} 的平方根为 {1:0.3f}+{2:0.3f}j'.format(int(num), num_sqrt.real, num_sqrt.imag))\n",
    "  else:\n",
    "    if num.__contains__('.'):   # 非负数、浮点数 整数        \n",
    "       num_sqrt = float(num) ** 0.5        \n",
    "       print(' %0.3f 的平方根为 %0.3f' % (float(num), num_sqrt))\n",
    "    else:   #  # 非负数、整数       \n",
    "      num_sqrt = int(num) ** 0.5        \n",
    "      print(' %0.3f 的平方根为 %0.3f' % (int(num), num_sqrt))"
   ]
  },
  {
   "cell_type": "code",
   "execution_count": 7,
   "metadata": {},
   "outputs": [
    {
     "name": "stdin",
     "output_type": "stream",
     "text": [
      "输入 a:  10\n",
      "输入 b:  20\n",
      "输入 c:  23\n"
     ]
    },
    {
     "name": "stdout",
     "output_type": "stream",
     "text": [
      "结果为 (-1-1.1401754250991378j) 和 (-1+1.1401754250991378j)\n"
     ]
    }
   ],
   "source": [
    "import cmath\n",
    " \n",
    "a = float(input('输入 a: '))\n",
    "b = float(input('输入 b: '))\n",
    "c = float(input('输入 c: '))\n",
    " \n",
    "# 计算\n",
    "d = (b**2) - (4*a*c)\n",
    " \n",
    "# 两种求解方式\n",
    "sol1 = (-b-cmath.sqrt(d))/(2*a)\n",
    "sol2 = (-b+cmath.sqrt(d))/(2*a)\n",
    " \n",
    "print('结果为 {0} 和 {1}'.format(sol1,sol2))"
   ]
  },
  {
   "cell_type": "code",
   "execution_count": null,
   "metadata": {},
   "outputs": [],
   "source": []
  }
 ],
 "metadata": {
  "kernelspec": {
   "display_name": "Python 3",
   "language": "python",
   "name": "python3"
  },
  "language_info": {
   "codemirror_mode": {
    "name": "ipython",
    "version": 3
   },
   "file_extension": ".py",
   "mimetype": "text/x-python",
   "name": "python",
   "nbconvert_exporter": "python",
   "pygments_lexer": "ipython3",
   "version": "3.8.3"
  }
 },
 "nbformat": 4,
 "nbformat_minor": 4
}
