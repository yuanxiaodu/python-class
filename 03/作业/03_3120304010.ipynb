{
 "cells": [
  {
   "cell_type": "code",
   "execution_count": 1,
   "metadata": {},
   "outputs": [
    {
     "name": "stdin",
     "output_type": "stream",
     "text": [
      "int0:  32\n",
      "int1:  5345\n",
      "int2:  645\n"
     ]
    },
    {
     "name": "stdout",
     "output_type": "stream",
     "text": [
      "[32, 645, 5345]\n"
     ]
    },
    {
     "name": "stdin",
     "output_type": "stream",
     "text": [
      "int0:  6\n",
      "int1:  \n"
     ]
    },
    {
     "ename": "ValueError",
     "evalue": "invalid literal for int() with base 10: ''",
     "output_type": "error",
     "traceback": [
      "\u001b[1;31m---------------------------------------------------------------------------\u001b[0m",
      "\u001b[1;31mValueError\u001b[0m                                Traceback (most recent call last)",
      "\u001b[1;32m<ipython-input-1-c7f521834d07>\u001b[0m in \u001b[0;36m<module>\u001b[1;34m\u001b[0m\n\u001b[0;32m     13\u001b[0m \u001b[0mraw2\u001b[0m\u001b[1;33m=\u001b[0m\u001b[1;33m[\u001b[0m\u001b[1;33m]\u001b[0m\u001b[1;33m\u001b[0m\u001b[1;33m\u001b[0m\u001b[0m\n\u001b[0;32m     14\u001b[0m \u001b[1;32mfor\u001b[0m \u001b[0mi\u001b[0m \u001b[1;32min\u001b[0m \u001b[0mrange\u001b[0m\u001b[1;33m(\u001b[0m\u001b[1;36m3\u001b[0m\u001b[1;33m)\u001b[0m\u001b[1;33m:\u001b[0m\u001b[1;33m\u001b[0m\u001b[1;33m\u001b[0m\u001b[0m\n\u001b[1;32m---> 15\u001b[1;33m     \u001b[0mx\u001b[0m\u001b[1;33m=\u001b[0m\u001b[0mint\u001b[0m\u001b[1;33m(\u001b[0m\u001b[0minput\u001b[0m\u001b[1;33m(\u001b[0m\u001b[1;34m'int%d: '\u001b[0m\u001b[1;33m%\u001b[0m\u001b[1;33m(\u001b[0m\u001b[0mi\u001b[0m\u001b[1;33m)\u001b[0m\u001b[1;33m)\u001b[0m\u001b[1;33m)\u001b[0m\u001b[1;33m\u001b[0m\u001b[1;33m\u001b[0m\u001b[0m\n\u001b[0m\u001b[0;32m     16\u001b[0m     \u001b[0mraw2\u001b[0m\u001b[1;33m.\u001b[0m\u001b[0mappend\u001b[0m\u001b[1;33m(\u001b[0m\u001b[0mx\u001b[0m\u001b[1;33m)\u001b[0m\u001b[1;33m\u001b[0m\u001b[1;33m\u001b[0m\u001b[0m\n\u001b[0;32m     17\u001b[0m \u001b[0mprint\u001b[0m\u001b[1;33m(\u001b[0m\u001b[0msorted\u001b[0m\u001b[1;33m(\u001b[0m\u001b[0mraw2\u001b[0m\u001b[1;33m)\u001b[0m\u001b[1;33m)\u001b[0m\u001b[1;33m\u001b[0m\u001b[1;33m\u001b[0m\u001b[0m\n",
      "\u001b[1;31mValueError\u001b[0m: invalid literal for int() with base 10: ''"
     ]
    }
   ],
   "source": [
    "raw=[]\n",
    "for i in range(3):\n",
    "    x=int(input('int%d: '%(i)))\n",
    "    raw.append(x)\n",
    "    \n",
    "for i in range(len(raw)):\n",
    "    for j in range(i,len(raw)):\n",
    "        if raw[i]>raw[j]:\n",
    "            raw[i],raw[j]=raw[j],raw[i]\n",
    "print(raw)\n",
    "\n",
    "\n",
    "raw2=[]\n",
    "for i in range(3):\n",
    "    x=int(input('int%d: '%(i)))\n",
    "    raw2.append(x)\n",
    "print(sorted(raw2))\n",
    "\n"
   ]
  },
  {
   "cell_type": "code",
   "execution_count": null,
   "metadata": {},
   "outputs": [],
   "source": [
    "# 递归实现\n",
    "def Fib(n):\n",
    "    return 1 if n<=2 else Fib(n-1)+Fib(n-2)\n",
    "print(Fib(int(input())))\n",
    "    \n",
    "# 朴素实现\n",
    "target=int(input())\n",
    "res=0\n",
    "a,b=1,1\n",
    "for i in range(target-1):\n",
    "    a,b=b,a+b\n",
    "print(a)\n",
    "\n",
    "\n",
    "\n"
   ]
  },
  {
   "cell_type": "code",
   "execution_count": 4,
   "metadata": {},
   "outputs": [
    {
     "ename": "SyntaxError",
     "evalue": "invalid syntax (<ipython-input-4-5e2eae5aa4f4>, line 18)",
     "output_type": "error",
     "traceback": [
      "\u001b[1;36m  File \u001b[1;32m\"<ipython-input-4-5e2eae5aa4f4>\"\u001b[1;36m, line \u001b[1;32m18\u001b[0m\n\u001b[1;33m    ============ RESTART: F:\\PyWorkspace\\Python100\\100examples\\007.py ============\u001b[0m\n\u001b[1;37m    ^\u001b[0m\n\u001b[1;31mSyntaxError\u001b[0m\u001b[1;31m:\u001b[0m invalid syntax\n"
     ]
    }
   ],
   "source": [
    "import copy\n",
    "a = [1,2,3,4,['a','b']]\n",
    "\n",
    "b = a\t\t\t\t\t# 赋值\n",
    "c = a[:]\t\t\t\t# 浅拷贝\n",
    "d = copy.copy(a)\t\t# 浅拷贝\n",
    "e = copy.deepcopy(a)\t# 深拷贝\n",
    "\n",
    "a.append(5)\n",
    "a[4].append('c')\n",
    "\n",
    "print('a=',a)\n",
    "print('b=',b)\n",
    "print('c=',c)\n",
    "print('d=',d)\n",
    "print('e=',e)\n",
    "\n",
    "============ RESTART: F:\\PyWorkspace\\Python100\\100examples\\007.py ============\n",
    "a= [1, 2, 3, 4, ['a', 'b', 'c'], 5]\n",
    "b= [1, 2, 3, 4, ['a', 'b', 'c'], 5]\n",
    "c= [1, 2, 3, 4, ['a', 'b', 'c']]\n",
    "d= [1, 2, 3, 4, ['a', 'b', 'c']]\n",
    "e= [1, 2, 3, 4, ['a', 'b']]\n",
    "\n"
   ]
  },
  {
   "cell_type": "code",
   "execution_count": 5,
   "metadata": {},
   "outputs": [
    {
     "name": "stdout",
     "output_type": "stream",
     "text": [
      "70\n",
      "71\n",
      "72\n",
      "73\n"
     ]
    }
   ],
   "source": [
    "import time\n",
    "for i in range(4):\n",
    "    print(str(int(time.time()))[-2:])\n",
    "    time.sleep(1)\n"
   ]
  },
  {
   "cell_type": "code",
   "execution_count": 6,
   "metadata": {},
   "outputs": [
    {
     "name": "stdin",
     "output_type": "stream",
     "text": [
      "繁殖几个月？：  6\n"
     ]
    },
    {
     "name": "stdout",
     "output_type": "stream",
     "text": [
      "第1个月共 1 对兔子\n",
      "其中1月兔： 0\n",
      "其中2月兔： 1\n",
      "其中3月兔： 0\n",
      "其中成年兔： 0\n",
      "第2个月共 1 对兔子\n",
      "其中1月兔： 0\n",
      "其中2月兔： 0\n",
      "其中3月兔： 1\n",
      "其中成年兔： 0\n",
      "第3个月共 2 对兔子\n",
      "其中1月兔： 1\n",
      "其中2月兔： 0\n",
      "其中3月兔： 0\n",
      "其中成年兔： 1\n",
      "第4个月共 3 对兔子\n",
      "其中1月兔： 1\n",
      "其中2月兔： 1\n",
      "其中3月兔： 0\n",
      "其中成年兔： 1\n",
      "第5个月共 4 对兔子\n",
      "其中1月兔： 1\n",
      "其中2月兔： 1\n",
      "其中3月兔： 1\n",
      "其中成年兔： 1\n",
      "第6个月共 6 对兔子\n",
      "其中1月兔： 2\n",
      "其中2月兔： 1\n",
      "其中3月兔： 1\n",
      "其中成年兔： 2\n"
     ]
    }
   ],
   "source": [
    "month=int(input('繁殖几个月？： '))\n",
    "month_1=1\n",
    "month_2=0\n",
    "month_3=0\n",
    "month_elder=0\n",
    "for i in range(month):\n",
    "    month_1,month_2,month_3,month_elder=month_elder+month_3,month_1,month_2,month_elder+month_3\n",
    "    print('第%d个月共'%(i+1),month_1+month_2+month_3+month_elder,'对兔子')\n",
    "    print('其中1月兔：',month_1)\n",
    "    print('其中2月兔：',month_2)\n",
    "    print('其中3月兔：',month_3)\n",
    "    print('其中成年兔：',month_elder)\n"
   ]
  },
  {
   "cell_type": "code",
   "execution_count": 7,
   "metadata": {},
   "outputs": [
    {
     "name": "stdout",
     "output_type": "stream",
     "text": [
      "101\n",
      "103\n",
      "107\n",
      "109\n",
      "113\n",
      "127\n",
      "131\n",
      "137\n",
      "139\n",
      "149\n",
      "151\n",
      "157\n",
      "163\n",
      "167\n",
      "173\n",
      "179\n",
      "181\n",
      "191\n",
      "193\n",
      "197\n",
      "199\n",
      "\n",
      "Simplify the code with \"else\"\n",
      "\n",
      "101\n",
      "103\n",
      "107\n",
      "109\n",
      "113\n",
      "127\n",
      "131\n",
      "137\n",
      "139\n",
      "149\n",
      "151\n",
      "157\n",
      "163\n",
      "167\n",
      "173\n",
      "179\n",
      "181\n",
      "191\n",
      "193\n",
      "197\n",
      "199\n"
     ]
    }
   ],
   "source": [
    "import math\n",
    "for i in range(100,200):\n",
    "    flag=0\n",
    "    for j in range(2,round(math.sqrt(i))+1):\n",
    "        if i%j==0:\n",
    "            flag=1\n",
    "            break\n",
    "    if flag:\n",
    "        continue\n",
    "    print(i)\n",
    "\n",
    "\n",
    "print('\\nSimplify the code with \"else\"\\n')\n",
    "\n",
    "\n",
    "for i in range(100,200):\n",
    "    for j in range(2,round(math.sqrt(i))+1):\n",
    "        if i%j==0:\n",
    "            break\n",
    "    else:\n",
    "        print(i)\n"
   ]
  },
  {
   "cell_type": "code",
   "execution_count": 8,
   "metadata": {},
   "outputs": [
    {
     "name": "stdin",
     "output_type": "stream",
     "text": [
      "输入一个整数： 476\n"
     ]
    },
    {
     "name": "stdout",
     "output_type": "stream",
     "text": [
      "476 = 2*2*7*17"
     ]
    }
   ],
   "source": [
    "target=int(input('输入一个整数：'))\n",
    "print(target,'= ',end='')\n",
    "\n",
    "if target<0:\n",
    "    target=abs(target)\n",
    "    print('-1*',end='')\n",
    "\n",
    "flag=0\n",
    "if target<=1:\n",
    "    print(target)\n",
    "    flag=1\n",
    "\n",
    "\n",
    "while True:\n",
    "    if flag:\n",
    "        break\n",
    "    for i in range(2,int(target+1)):\n",
    "        if target%i==0:\n",
    "            print(\"%d\"%i,end='')\n",
    "            if target==i:\n",
    "                flag=1\n",
    "                break\n",
    "            print('*',end='')\n",
    "            target/=i\n",
    "            break\n",
    "        \n"
   ]
  },
  {
   "cell_type": "code",
   "execution_count": 9,
   "metadata": {},
   "outputs": [
    {
     "name": "stdout",
     "output_type": "stream",
     "text": [
      "2020-12-31\n",
      "2333-02-03\n",
      "31/12/2020\n",
      "1133-02-03\n"
     ]
    }
   ],
   "source": [
    "import datetime\n",
    "print(datetime.date.today())\n",
    "print(datetime.date(2333,2,3))\n",
    "print(datetime.date.today().strftime('%d/%m/%Y'))\n",
    "day=datetime.date(1111,2,3)\n",
    "day=day.replace(year=day.year+22)\n",
    "print(day)\n"
   ]
  },
  {
   "cell_type": "markdown",
   "metadata": {},
   "source": [
    "\n",
    "#### raw=[]\n",
    "for i in range(10):\n",
    "    x=int(input('int%d: '%(i)))\n",
    "    raw.append(x)\n",
    "    \n",
    "for i in range(len(raw)):\n",
    "    for j in range(i,len(raw)):\n",
    "        if raw[i]>raw[j]:\n",
    "            raw[i],raw[j]=raw[j],raw[i]\n",
    "print(raw)\n",
    "\n"
   ]
  },
  {
   "cell_type": "code",
   "execution_count": null,
   "metadata": {},
   "outputs": [],
   "source": []
  },
  {
   "cell_type": "code",
   "execution_count": 11,
   "metadata": {},
   "outputs": [
    {
     "name": "stdout",
     "output_type": "stream",
     "text": [
      "11\n"
     ]
    }
   ],
   "source": [
    "mat=[[1,2,3],\n",
    "     [3,4,5],\n",
    "     [4,5,6]\n",
    "    ]\n",
    "res=0\n",
    "for i in range(len(mat)):\n",
    "    res+=mat[i][i]\n",
    "print(res)\n"
   ]
  },
  {
   "cell_type": "code",
   "execution_count": 12,
   "metadata": {},
   "outputs": [
    {
     "name": "stdin",
     "output_type": "stream",
     "text": [
      "input student num:\n",
      " a\n",
      "input student name:\n",
      " s\n",
      "score:\n",
      " 23\n",
      "score:\n",
      " 45\n",
      "score:\n",
      " 656\n",
      "input student num:\n",
      " 6\n",
      "input student name:\n",
      " 76\n",
      "score:\n",
      " 76\n",
      "score:\n",
      " 67\n",
      "score:\n",
      " 76\n",
      "input student num:\n",
      " 75\n",
      "input student name:\n",
      " 5\n",
      "score:\n",
      " \n"
     ]
    },
    {
     "ename": "ValueError",
     "evalue": "invalid literal for int() with base 10: ''",
     "output_type": "error",
     "traceback": [
      "\u001b[1;31m---------------------------------------------------------------------------\u001b[0m",
      "\u001b[1;31mValueError\u001b[0m                                Traceback (most recent call last)",
      "\u001b[1;32m<ipython-input-12-432ec7ffc7d9>\u001b[0m in \u001b[0;36m<module>\u001b[1;34m\u001b[0m\n\u001b[0;32m     22\u001b[0m \u001b[1;33m\u001b[0m\u001b[0m\n\u001b[0;32m     23\u001b[0m \u001b[1;32mif\u001b[0m \u001b[0m__name__\u001b[0m \u001b[1;33m==\u001b[0m \u001b[1;34m'__main__'\u001b[0m\u001b[1;33m:\u001b[0m\u001b[1;33m\u001b[0m\u001b[1;33m\u001b[0m\u001b[0m\n\u001b[1;32m---> 24\u001b[1;33m     \u001b[0minput_stu\u001b[0m\u001b[1;33m(\u001b[0m\u001b[0mstudent\u001b[0m\u001b[1;33m)\u001b[0m\u001b[1;33m\u001b[0m\u001b[1;33m\u001b[0m\u001b[0m\n\u001b[0m\u001b[0;32m     25\u001b[0m     \u001b[0mprint\u001b[0m \u001b[1;33m(\u001b[0m\u001b[0mstudent\u001b[0m\u001b[1;33m)\u001b[0m\u001b[1;33m\u001b[0m\u001b[1;33m\u001b[0m\u001b[0m\n\u001b[0;32m     26\u001b[0m     \u001b[0moutput_stu\u001b[0m\u001b[1;33m(\u001b[0m\u001b[0mstudent\u001b[0m\u001b[1;33m)\u001b[0m\u001b[1;33m\u001b[0m\u001b[1;33m\u001b[0m\u001b[0m\n",
      "\u001b[1;32m<ipython-input-12-432ec7ffc7d9>\u001b[0m in \u001b[0;36minput_stu\u001b[1;34m(stu)\u001b[0m\n\u001b[0;32m     13\u001b[0m         \u001b[0mstu\u001b[0m\u001b[1;33m[\u001b[0m\u001b[0mi\u001b[0m\u001b[1;33m]\u001b[0m\u001b[1;33m[\u001b[0m\u001b[1;36m1\u001b[0m\u001b[1;33m]\u001b[0m \u001b[1;33m=\u001b[0m \u001b[0minput\u001b[0m\u001b[1;33m(\u001b[0m\u001b[1;34m'input student name:\\n'\u001b[0m\u001b[1;33m)\u001b[0m\u001b[1;33m\u001b[0m\u001b[1;33m\u001b[0m\u001b[0m\n\u001b[0;32m     14\u001b[0m         \u001b[1;32mfor\u001b[0m \u001b[0mj\u001b[0m \u001b[1;32min\u001b[0m \u001b[0mrange\u001b[0m\u001b[1;33m(\u001b[0m\u001b[1;36m3\u001b[0m\u001b[1;33m)\u001b[0m\u001b[1;33m:\u001b[0m\u001b[1;33m\u001b[0m\u001b[1;33m\u001b[0m\u001b[0m\n\u001b[1;32m---> 15\u001b[1;33m             \u001b[0mstu\u001b[0m\u001b[1;33m[\u001b[0m\u001b[0mi\u001b[0m\u001b[1;33m]\u001b[0m\u001b[1;33m[\u001b[0m\u001b[1;36m2\u001b[0m\u001b[1;33m]\u001b[0m\u001b[1;33m.\u001b[0m\u001b[0mappend\u001b[0m\u001b[1;33m(\u001b[0m\u001b[0mint\u001b[0m\u001b[1;33m(\u001b[0m\u001b[0minput\u001b[0m\u001b[1;33m(\u001b[0m\u001b[1;34m'score:\\n'\u001b[0m\u001b[1;33m)\u001b[0m\u001b[1;33m)\u001b[0m\u001b[1;33m)\u001b[0m\u001b[1;33m\u001b[0m\u001b[1;33m\u001b[0m\u001b[0m\n\u001b[0m\u001b[0;32m     16\u001b[0m \u001b[1;33m\u001b[0m\u001b[0m\n\u001b[0;32m     17\u001b[0m \u001b[1;32mdef\u001b[0m \u001b[0moutput_stu\u001b[0m\u001b[1;33m(\u001b[0m\u001b[0mstu\u001b[0m\u001b[1;33m)\u001b[0m\u001b[1;33m:\u001b[0m\u001b[1;33m\u001b[0m\u001b[1;33m\u001b[0m\u001b[0m\n",
      "\u001b[1;31mValueError\u001b[0m: invalid literal for int() with base 10: ''"
     ]
    }
   ],
   "source": [
    "N = 3\n",
    "#stu\n",
    "# num : string\n",
    "# name : string\n",
    "# score[4]: list\n",
    "student = []\n",
    "for i in range(5):\n",
    "    student.append(['','',[]])\n",
    " \n",
    "def input_stu(stu):\n",
    "    for i in range(N):\n",
    "        stu[i][0] = input('input student num:\\n')\n",
    "        stu[i][1] = input('input student name:\\n')\n",
    "        for j in range(3):\n",
    "            stu[i][2].append(int(input('score:\\n')))\n",
    " \n",
    "def output_stu(stu):\n",
    "    for i in range(N):\n",
    "        print ('%-6s%-10s' % ( stu[i][0],stu[i][1] ))\n",
    "        for j in range(3):\n",
    "            print ('%-8d' % stu[i][2][j])\n",
    " \n",
    "if __name__ == '__main__':\n",
    "    input_stu(student)\n",
    "    print (student)\n",
    "    output_stu(student)\n"
   ]
  },
  {
   "cell_type": "code",
   "execution_count": 13,
   "metadata": {},
   "outputs": [
    {
     "name": "stdout",
     "output_type": "stream",
     "text": [
      "2.0945514815423474\n"
     ]
    }
   ],
   "source": [
    "from typing import Callable\n",
    "\n",
    "RealFunc = Callable[[float], float]  # type alias for a real -> real function\n",
    "\n",
    "\n",
    "# function is the f(x) and derivative is the f'(x)\n",
    "def newton(\n",
    "    function: RealFunc,\n",
    "    derivative: RealFunc,\n",
    "    starting_int: int,\n",
    ") -> float:\n",
    "    \"\"\"\n",
    "    >>> newton(lambda x: x ** 3 - 2 * x - 5, lambda x: 3 * x ** 2 - 2, 3)\n",
    "    2.0945514815423474\n",
    "    >>> newton(lambda x: x ** 3 - 1, lambda x: 3 * x ** 2, -2)\n",
    "    1.0\n",
    "    >>> newton(lambda x: x ** 3 - 1, lambda x: 3 * x ** 2, -4)\n",
    "    1.0000000000000102\n",
    "    >>> import math\n",
    "    >>> newton(math.sin, math.cos, 1)\n",
    "    0.0\n",
    "    >>> newton(math.sin, math.cos, 2)\n",
    "    3.141592653589793\n",
    "    >>> newton(math.cos, lambda x: -math.sin(x), 2)\n",
    "    1.5707963267948966\n",
    "    >>> newton(math.cos, lambda x: -math.sin(x), 0)\n",
    "    Traceback (most recent call last):\n",
    "    ...\n",
    "    ZeroDivisionError: Could not find root\n",
    "    \"\"\"\n",
    "    prev_guess = float(starting_int)\n",
    "    while True:\n",
    "        try:\n",
    "            next_guess = prev_guess - function(prev_guess) / derivative(prev_guess)\n",
    "        except ZeroDivisionError:\n",
    "            raise ZeroDivisionError(\"Could not find root\") from None\n",
    "        if abs(prev_guess - next_guess) < 10 ** -5:\n",
    "            return next_guess\n",
    "        prev_guess = next_guess\n",
    "\n",
    "\n",
    "def f(x: float) -> float:\n",
    "    return (x ** 3) - (2 * x) - 5\n",
    "\n",
    "\n",
    "def f1(x: float) -> float:\n",
    "    return 3 * (x ** 2) - 2\n",
    "\n",
    "\n",
    "if __name__ == \"__main__\":\n",
    "    print(newton(f, f1, 3))"
   ]
  },
  {
   "cell_type": "code",
   "execution_count": 14,
   "metadata": {},
   "outputs": [
    {
     "name": "stdout",
     "output_type": "stream",
     "text": [
      "The root of sin(x) = 0 is 3.141592653680804\n",
      "The root of x**2 - 5*x + 2 = 0 is 0.4384471871911695\n",
      "The root of log(x) - 1 = 0 is 2.718281828458938\n",
      "The root of exp(x) - 1 = 0 is 0.0\n"
     ]
    }
   ],
   "source": [
    "from decimal import Decimal\n",
    "from math import *  # noqa: F401, F403\n",
    "from typing import Union\n",
    "\n",
    "from sympy import diff\n",
    "\n",
    "\n",
    "def newton_raphson(\n",
    "    func: str, a: Union[float, Decimal], precision: float = 10 ** -10\n",
    ") -> float:\n",
    "    \"\"\"Finds root from the point 'a' onwards by Newton-Raphson method\n",
    "    >>> newton_raphson(\"sin(x)\", 2)\n",
    "    3.1415926536808043\n",
    "    >>> newton_raphson(\"x**2 - 5*x +2\", 0.4)\n",
    "    0.4384471871911695\n",
    "    >>> newton_raphson(\"x**2 - 5\", 0.1)\n",
    "    2.23606797749979\n",
    "    >>> newton_raphson(\"log(x)- 1\", 2)\n",
    "    2.718281828458938\n",
    "    \"\"\"\n",
    "    x = a\n",
    "    while True:\n",
    "        x = Decimal(x) - (Decimal(eval(func)) / Decimal(eval(str(diff(func)))))\n",
    "        # This number dictates the accuracy of the answer\n",
    "        if abs(eval(func)) < precision:\n",
    "            return float(x)\n",
    "\n",
    "\n",
    "# Let's Execute\n",
    "if __name__ == \"__main__\":\n",
    "    # Find root of trigonometric function\n",
    "    # Find value of pi\n",
    "    print(f\"The root of sin(x) = 0 is {newton_raphson('sin(x)', 2)}\")\n",
    "    # Find root of polynomial\n",
    "    print(f\"The root of x**2 - 5*x + 2 = 0 is {newton_raphson('x**2 - 5*x + 2', 0.4)}\")\n",
    "    # Find Square Root of 5\n",
    "    print(f\"The root of log(x) - 1 = 0 is {newton_raphson('log(x) - 1', 2)}\")\n",
    "    # Exponential Roots\n",
    "    print(f\"The root of exp(x) - 1 = 0 is {newton_raphson('exp(x) - 1', 0)}\")"
   ]
  },
  {
   "cell_type": "code",
   "execution_count": null,
   "metadata": {},
   "outputs": [],
   "source": []
  },
  {
   "cell_type": "code",
   "execution_count": 15,
   "metadata": {},
   "outputs": [
    {
     "name": "stdout",
     "output_type": "stream",
     "text": [
      "Example: secant_method(1, 3, 2) = 0.2139409276214589\n"
     ]
    }
   ],
   "source": [
    "from math import exp\n",
    "\n",
    "\n",
    "def f(x: float) -> float:\n",
    "    \"\"\"\n",
    "    >>> f(5)\n",
    "    39.98652410600183\n",
    "    \"\"\"\n",
    "    return 8 * x - 2 * exp(-x)\n",
    "\n",
    "\n",
    "def secant_method(lower_bound: float, upper_bound: float, repeats: int) -> float:\n",
    "    \"\"\"\n",
    "    >>> secant_method(1, 3, 2)\n",
    "    0.2139409276214589\n",
    "    \"\"\"\n",
    "    x0 = lower_bound\n",
    "    x1 = upper_bound\n",
    "    for i in range(0, repeats):\n",
    "        x0, x1 = x1, x1 - (f(x1) * (x1 - x0)) / (f(x1) - f(x0))\n",
    "    return x1\n",
    "\n",
    "\n",
    "if __name__ == \"__main__\":\n",
    "    print(f\"Example: {secant_method(1, 3, 2) = }\")"
   ]
  },
  {
   "cell_type": "code",
   "execution_count": null,
   "metadata": {},
   "outputs": [],
   "source": []
  }
 ],
 "metadata": {
  "kernelspec": {
   "display_name": "Python 3",
   "language": "python",
   "name": "python3"
  },
  "language_info": {
   "codemirror_mode": {
    "name": "ipython",
    "version": 3
   },
   "file_extension": ".py",
   "mimetype": "text/x-python",
   "name": "python",
   "nbconvert_exporter": "python",
   "pygments_lexer": "ipython3",
   "version": "3.8.3"
  }
 },
 "nbformat": 4,
 "nbformat_minor": 4
}
