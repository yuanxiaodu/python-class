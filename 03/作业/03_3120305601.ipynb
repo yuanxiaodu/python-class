{
 "cells": [
  {
   "cell_type": "code",
   "execution_count": null,
   "metadata": {},
   "outputs": [],
   "source": [
    "import cv2 as cv\n",
    "import numpy as np\n",
    "import matplotlib.pyplot as plt\n",
    "\n",
    "\n",
    "\n",
    "def Harris_corner(img):\n",
    "\n",
    "    def BGR2GRAY(img):\n",
    "        gray = 0.2126 * img[..., 2] + 0.7152 * img[..., 1] + 0.0722 * img[..., 0]\n",
    "        gray = gray.astype(np.uint8)\n",
    "        return gray\n",
    "\n",
    "\n",
    "    def Sobel_filtering(gray):\n",
    "\n",
    "        H, W = gray.shape\n",
    "\n",
    "\n",
    "        sobely = np.array(((1, 2, 1),\n",
    "                           (0, 0, 0),\n",
    "                           (-1, -2, -1)), dtype=np.float32)\n",
    "\n",
    "        sobelx = np.array(((1, 0, -1),\n",
    "                           (2, 0, -2),\n",
    "                           (1, 0, -1)), dtype=np.float32)\n",
    "\n",
    "        tmp = np.pad(gray, (1, 1), 'edge')\n",
    "\n",
    "        Ix = np.zeros_like(gray, dtype=np.float32)\n",
    "        Iy = np.zeros_like(gray, dtype=np.float32)\n",
    "\n",
    "        for y in range(H):\n",
    "            for x in range(W):\n",
    "                Ix[y, x] = np.mean(tmp[y: y + 3, x: x + 3] * sobelx)\n",
    "                Iy[y, x] = np.mean(tmp[y: y + 3, x: x + 3] * sobely)\n",
    "\n",
    "        Ix2 = Ix ** 2\n",
    "        Iy2 = Iy ** 2\n",
    "        Ixy = Ix * Iy\n",
    "\n",
    "        return Ix2, Iy2, Ixy\n",
    "\n",
    "    def gaussian_filtering(I, K_size=3, sigma=3):\n",
    "\n",
    "        H, W = I.shape\n",
    "\n",
    "\n",
    "        I_t = np.pad(I, (K_size // 2, K_size // 2), 'edge')\n",
    "\n",
    "\n",
    "        K = np.zeros((K_size, K_size), dtype=np.float)\n",
    "        for x in range(K_size):\n",
    "            for y in range(K_size):\n",
    "                _x = x - K_size // 2\n",
    "                _y = y - K_size // 2\n",
    "                K[y, x] = np.exp(-(_x ** 2 + _y ** 2) / (2 * (sigma ** 2)))\n",
    "        K /= (sigma * np.sqrt(2 * np.pi))\n",
    "        K /= K.sum()\n",
    "\n",
    "\n",
    "        for y in range(H):\n",
    "            for x in range(W):\n",
    "                I[y, x] = np.sum(I_t[y: y + K_size, x: x + K_size] * K)\n",
    "\n",
    "        return I\n",
    "\n",
    "\n",
    "    def corner_detect(gray, Ix2, Iy2, Ixy, k=0.04, th=0.1):\n",
    "\n",
    "        out = np.array((gray, gray, gray))\n",
    "        out = np.transpose(out, (1, 2, 0))\n",
    "\n",
    "\n",
    "        R = (Ix2 * Iy2 - Ixy ** 2) - k * ((Ix2 + Iy2) ** 2)\n",
    "\n",
    "\n",
    "        out[R >= np.max(R) * th] = [255, 0, 0]\n",
    "\n",
    "        out = out.astype(np.uint8)\n",
    "\n",
    "        return out\n",
    "\n",
    "    gray = BGR2GRAY(img)\n",
    "\n",
    "    Ix2, Iy2, Ixy = Sobel_filtering(gray)\n",
    "\n",
    "    Ix2 = gaussian_filtering(Ix2, K_size=3, sigma=3)\n",
    "    Iy2 = gaussian_filtering(Iy2, K_size=3, sigma=3)\n",
    "    Ixy = gaussian_filtering(Ixy, K_size=3, sigma=3)\n",
    "\n",
    "    out = corner_detect(gray, Ix2, Iy2, Ixy)\n",
    "\n",
    "    return out\n",
    "\n",
    "\n",
    "img = cv.imread(\"test1.jpeg\").astype(np.float32)\n",
    "\n",
    "out = Harris_corner(img)\n",
    "\n",
    "cv.imwrite(\"out.jpg\", out)\n",
    "cv.imshow(\"result\", out)\n",
    "cv.waitKey(0)\n",
    "cv.destroyAllWindows()\n",
    "print('hello')"
   ]
  },
  {
   "cell_type": "code",
   "execution_count": 1,
   "metadata": {},
   "outputs": [
    {
     "name": "stdout",
     "output_type": "stream",
     "text": [
      "<class 'str'>\n",
      "13\n",
      "var1[0]:  H\n",
      "var2[1:5]:  unoo\n"
     ]
    }
   ],
   "source": [
    "var1 = 'Hello  World!'\n",
    "var2 = \"Runoob\"\n",
    "print(type(var1))\n",
    "print(len(var1))\n",
    "print (\"var1[0]: \", var1[0])\n",
    "print (\"var2[1:5]: \", var2[1:5])\n",
    "\n"
   ]
  },
  {
   "cell_type": "code",
   "execution_count": 2,
   "metadata": {},
   "outputs": [
    {
     "name": "stdout",
     "output_type": "stream",
     "text": [
      "hello\n"
     ]
    }
   ],
   "source": [
    "print('hello')"
   ]
  },
  {
   "cell_type": "code",
   "execution_count": 3,
   "metadata": {},
   "outputs": [
    {
     "data": {
      "text/plain": [
       "<re.Match object; span=(0, 9), match='010-12345'>"
      ]
     },
     "execution_count": 3,
     "metadata": {},
     "output_type": "execute_result"
    }
   ],
   "source": [
    "import re\n",
    "re.match(r'\\d{3}\\-\\d{3,8}$', '010-12345')"
   ]
  },
  {
   "cell_type": "code",
   "execution_count": 4,
   "metadata": {},
   "outputs": [
    {
     "data": {
      "text/plain": [
       "['a', 'b', 'c']"
      ]
     },
     "execution_count": 4,
     "metadata": {},
     "output_type": "execute_result"
    }
   ],
   "source": [
    "re.split(r'\\s+', 'a b   c')"
   ]
  },
  {
   "cell_type": "code",
   "execution_count": 5,
   "metadata": {},
   "outputs": [
    {
     "name": "stdout",
     "output_type": "stream",
     "text": [
      "<re.Match object; span=(0, 9), match='010-12345'>\n",
      "010-12345\n",
      "010\n",
      "12345\n"
     ]
    }
   ],
   "source": [
    "m = re.match(r'^(\\d{3})-(\\d{3,8})$', '010-12345')\n",
    "print(m)\n",
    "print(m.group(0))\n",
    "print(m.group(1))\n",
    "print(m.group(2))"
   ]
  },
  {
   "cell_type": "code",
   "execution_count": 6,
   "metadata": {},
   "outputs": [
    {
     "data": {
      "text/plain": [
       "('19', '05', '30')"
      ]
     },
     "execution_count": 6,
     "metadata": {},
     "output_type": "execute_result"
    }
   ],
   "source": [
    "t = '19:05:30'\n",
    "m = re.match(r'^(0[0-9]|1[0-9]|2[0-3]|[0-9])\\:(0[0-9]|1[0-9]|2[0-9]|3[0-9]|4[0-9]|5[0-9]|[0-9])\\:(0[0-9]|1[0-9]|2[0-9]|3[0-9]|4[0-9]|5[0-9]|[0-9])$', t)\n",
    "m.groups()"
   ]
  },
  {
   "cell_type": "code",
   "execution_count": 7,
   "metadata": {},
   "outputs": [
    {
     "name": "stdout",
     "output_type": "stream",
     "text": [
      "<class 'list'>\n"
     ]
    },
    {
     "data": {
      "text/plain": [
       "['red', 'green', 'blue', 'yellow', 'white', 'black']"
      ]
     },
     "execution_count": 7,
     "metadata": {},
     "output_type": "execute_result"
    }
   ],
   "source": [
    "colors = ['red', 'green', 'blue', 'yellow', 'white', 'black']\n",
    "print(type(colors))\n",
    "colors"
   ]
  },
  {
   "cell_type": "code",
   "execution_count": 8,
   "metadata": {},
   "outputs": [
    {
     "name": "stdout",
     "output_type": "stream",
     "text": [
      "[20, 30]\n",
      "[30, 40, 50, 60, 70, 80, 90]\n",
      "[0, 10, 20]\n",
      "[60, 70]\n",
      "[0, 20, 40, 60]\n",
      "[80, 70, 60, 50, 40, 30, 20, 10]\n",
      "[80, 70, 60, 50, 40, 30, 20, 10, 0]\n",
      "[90, 80, 70, 60, 50, 40, 30, 20, 10]\n",
      "[90, 80, 70, 60, 50, 40, 30, 20, 10, 0]\n"
     ]
    }
   ],
   "source": [
    "numbers = [0 ,10, 20, 30, 40, 50, 60, 70, 80, 90]\n",
    "numbers\n",
    "print(numbers[2:4])\n",
    "print(numbers[3:])\n",
    "print(numbers[:3])\n",
    "print(numbers[-4:-2])\n",
    "print(numbers[0:8:2])\n",
    "print(numbers[-2:-10:-1])\n",
    "print(numbers[-2::-1])\n",
    "print(numbers[:-10:-1])\n",
    "print(numbers[::-1])"
   ]
  },
  {
   "cell_type": "code",
   "execution_count": 9,
   "metadata": {},
   "outputs": [
    {
     "name": "stdout",
     "output_type": "stream",
     "text": [
      "<class 'tuple'>\n",
      "('Google', 'Runoob', 1997, 2000)\n",
      "(1, 2, 3, 4, 5)\n",
      "('a', 'b', 'c', 'd')\n",
      "(1,)\n",
      "(1,)\n"
     ]
    }
   ],
   "source": [
    "tup1 = ('Google', 'Runoob', 1997, 2000)\n",
    "print(type(tup1))\n",
    "tup2 = (1, 2, 3, 4, 5)\n",
    "tup3 = \"a\", \"b\", \"c\", \"d\"   #  不需要括号也可以\n",
    "tup4 = (1,)\n",
    "tup5 = 1,\n",
    "print(tup1)\n",
    "print(tup2)\n",
    "print(tup3)\n",
    "print(tup4)\n",
    "print(tup5)"
   ]
  },
  {
   "cell_type": "code",
   "execution_count": 10,
   "metadata": {},
   "outputs": [
    {
     "name": "stdout",
     "output_type": "stream",
     "text": [
      "<class 'set'>\n",
      "{'banana', 'orange', 'apple', 'pear'}\n",
      "{'e', 'W', 'o', ' ', 'd', 'r', 'l', 'H'}\n"
     ]
    }
   ],
   "source": [
    "basket = {'apple', 'orange', 'apple', 'pear', 'orange', 'banana'}\n",
    "print(type(basket))\n",
    "print(basket)\n",
    "letters = set('Hello World')\n",
    "print(letters)"
   ]
  },
  {
   "cell_type": "code",
   "execution_count": 11,
   "metadata": {},
   "outputs": [
    {
     "name": "stdout",
     "output_type": "stream",
     "text": [
      "{'e', 'orange', 'o', 'banana', 'n', 'm', 'l', 'apple', 'pear'}\n",
      "{'e', 'lemon', 'orange', 'o', 'banana', 'n', 'melon', 'm', 'l', 'apple', 'pear'}\n"
     ]
    }
   ],
   "source": [
    "\n",
    "basket = {'apple', 'orange', 'apple', 'pear', 'orange', 'banana'}\n",
    "basket.update('melon')\n",
    "print(basket)\n",
    "basket.update(['melon', 'lemon'])\n",
    "print(basket)"
   ]
  },
  {
   "cell_type": "code",
   "execution_count": 3,
   "metadata": {},
   "outputs": [
    {
     "name": "stdout",
     "output_type": "stream",
     "text": [
      "enter the list to be sorted\n",
      "1 2 3 4 1 2 \n",
      "the sorted list is\n",
      "[1, 1, 2, 2, 3, 4]\n"
     ]
    }
   ],
   "source": [
    "def double_sort(lst):\n",
    "    \"\"\"this sorting algorithm sorts an array using the principle of bubble sort,\n",
    "    but does it both from left to right and right to left,\n",
    "    hence i decided to call it \"double sort\"\n",
    "    :param collection: mutable ordered sequence of elements\n",
    "    :return: the same collection in ascending order\n",
    "    Examples:\n",
    "    >>> double_sort([-1 ,-2 ,-3 ,-4 ,-5 ,-6 ,-7])\n",
    "    [-7, -6, -5, -4, -3, -2, -1]\n",
    "    >>> double_sort([])\n",
    "    []\n",
    "    >>> double_sort([-1 ,-2 ,-3 ,-4 ,-5 ,-6])\n",
    "    [-6, -5, -4, -3, -2, -1]\n",
    "    >>> double_sort([-3, 10, 16, -42, 29]) == sorted([-3, 10, 16, -42, 29])\n",
    "    True\n",
    "    \"\"\"\n",
    "    no_of_elements = len(lst)\n",
    "    for i in range(\n",
    "        0, int(((no_of_elements - 1) / 2) + 1)\n",
    "    ):  # we don't need to traverse to end of list as\n",
    "        for j in range(0, no_of_elements - 1):\n",
    "            if (\n",
    "                lst[j + 1] < lst[j]\n",
    "            ):  # applying bubble sort algorithm from left to right (or forwards)\n",
    "                temp = lst[j + 1]\n",
    "                lst[j + 1] = lst[j]\n",
    "                lst[j] = temp\n",
    "            if (\n",
    "                lst[no_of_elements - 1 - j] < lst[no_of_elements - 2 - j]\n",
    "            ):  # applying bubble sort algorithm from right to left (or backwards)\n",
    "                temp = lst[no_of_elements - 1 - j]\n",
    "                lst[no_of_elements - 1 - j] = lst[no_of_elements - 2 - j]\n",
    "                lst[no_of_elements - 2 - j] = temp\n",
    "    return lst\n",
    "\n",
    "\n",
    "if __name__ == \"__main__\":\n",
    "    print(\"enter the list to be sorted\")\n",
    "    lst = [int(x) for x in input().split()]  # inputing elements of the list in one line\n",
    "    sorted_lst = double_sort(lst)\n",
    "    print(\"the sorted list is\")\n",
    "    print(sorted_lst)"
   ]
  },
  {
   "cell_type": "code",
   "execution_count": 6,
   "metadata": {},
   "outputs": [
    {
     "name": "stdout",
     "output_type": "stream",
     "text": [
      "Enter numbers separated by a comma:\n",
      "4,3,2,1\n",
      "[1, 2, 3, 4]\n"
     ]
    }
   ],
   "source": [
    "def gnome_sort(lst: list) -> list:\n",
    "\n",
    "    if len(lst) <= 1:\n",
    "        return lst\n",
    "\n",
    "    i = 1\n",
    "\n",
    "    while i < len(lst):\n",
    "        if lst[i - 1] <= lst[i]:\n",
    "            i += 1\n",
    "        else:\n",
    "            lst[i - 1], lst[i] = lst[i], lst[i - 1]\n",
    "            i -= 1\n",
    "            if i == 0:\n",
    "                i = 1\n",
    "\n",
    "    return lst\n",
    "\n",
    "\n",
    "if __name__ == \"__main__\":\n",
    "    user_input = input(\"Enter numbers separated by a comma:\\n\").strip()\n",
    "    unsorted = [int(item) for item in user_input.split(\",\")]\n",
    "    print(gnome_sort(unsorted))"
   ]
  },
  {
   "cell_type": "code",
   "execution_count": 8,
   "metadata": {},
   "outputs": [
    {
     "name": "stdout",
     "output_type": "stream",
     "text": [
      "Enter numbers separated by a comma:\n",
      "6,5,4,3,2,1\n",
      "[1, 2, 3, 4, 5, 6]\n"
     ]
    }
   ],
   "source": [
    "def heapify(unsorted, index, heap_size):\n",
    "    largest = index\n",
    "    left_index = 2 * index + 1\n",
    "    right_index = 2 * index + 2\n",
    "    if left_index < heap_size and unsorted[left_index] > unsorted[largest]:\n",
    "        largest = left_index\n",
    "\n",
    "    if right_index < heap_size and unsorted[right_index] > unsorted[largest]:\n",
    "        largest = right_index\n",
    "\n",
    "    if largest != index:\n",
    "        unsorted[largest], unsorted[index] = unsorted[index], unsorted[largest]\n",
    "        heapify(unsorted, largest, heap_size)\n",
    "\n",
    "\n",
    "def heap_sort(unsorted):\n",
    "    \"\"\"\n",
    "    Pure implementation of the heap sort algorithm in Python\n",
    "    :param collection: some mutable ordered collection with heterogeneous\n",
    "    comparable items inside\n",
    "    :return: the same collection ordered by ascending\n",
    "    Examples:\n",
    "    >>> heap_sort([0, 5, 3, 2, 2])\n",
    "    [0, 2, 2, 3, 5]\n",
    "    >>> heap_sort([])\n",
    "    []\n",
    "    >>> heap_sort([-2, -5, -45])\n",
    "    [-45, -5, -2]\n",
    "    \"\"\"\n",
    "    n = len(unsorted)\n",
    "    for i in range(n // 2 - 1, -1, -1):\n",
    "        heapify(unsorted, i, n)\n",
    "    for i in range(n - 1, 0, -1):\n",
    "        unsorted[0], unsorted[i] = unsorted[i], unsorted[0]\n",
    "        heapify(unsorted, 0, i)\n",
    "    return unsorted\n",
    "\n",
    "\n",
    "if __name__ == \"__main__\":\n",
    "    user_input = input(\"Enter numbers separated by a comma:\\n\").strip()\n",
    "    unsorted = [int(item) for item in user_input.split(\",\")]\n",
    "    print(heap_sort(unsorted))"
   ]
  },
  {
   "cell_type": "code",
   "execution_count": 9,
   "metadata": {},
   "outputs": [
    {
     "name": "stdout",
     "output_type": "stream",
     "text": [
      "Enter numbers separated by a comma:\n",
      "6,5,4,3,2,1\n",
      "insertion_sort(unsorted) = [1, 2, 3, 4, 5, 6]\n"
     ]
    }
   ],
   "source": [
    "def insertion_sort(collection: list) -> list:\n",
    "\n",
    "\n",
    "    for insert_index, insert_value in enumerate(collection[1:]):\n",
    "        temp_index = insert_index\n",
    "        while insert_index >= 0 and insert_value < collection[insert_index]:\n",
    "            collection[insert_index + 1] = collection[insert_index]\n",
    "            insert_index -= 1\n",
    "        if insert_index != temp_index:\n",
    "            collection[insert_index + 1] = insert_value\n",
    "    return collection\n",
    "\n",
    "\n",
    "if __name__ == \"__main__\":\n",
    "    from doctest import testmod\n",
    "\n",
    "    testmod()\n",
    "\n",
    "    user_input = input(\"Enter numbers separated by a comma:\\n\").strip()\n",
    "    unsorted = [int(item) for item in user_input.split(\",\")]\n",
    "    print(f\"{insertion_sort(unsorted) = }\")"
   ]
  },
  {
   "cell_type": "code",
   "execution_count": 2,
   "metadata": {},
   "outputs": [
    {
     "name": "stdout",
     "output_type": "stream",
     "text": [
      "Enter numbers separated by a comma : 6,5,4,3,2,1\n",
      "[1.0, 2.0, 3.0, 4.0, 5.0, 6.0]\n"
     ]
    }
   ],
   "source": [
    "import math\n",
    "\n",
    "\n",
    "def insertion_sort(array: list, start: int = 0, end: int = 0) -> list:\n",
    "    \"\"\"\n",
    "    >>> array = [4, 2, 6, 8, 1, 7, 8, 22, 14, 56, 27, 79, 23, 45, 14, 12]\n",
    "    >>> insertion_sort(array, 0, len(array))\n",
    "    [1, 2, 4, 6, 7, 8, 8, 12, 14, 14, 22, 23, 27, 45, 56, 79]\n",
    "    \"\"\"\n",
    "    end = end or len(array)\n",
    "    for i in range(start, end):\n",
    "        temp_index = i\n",
    "        temp_index_value = array[i]\n",
    "        while temp_index != start and temp_index_value < array[temp_index - 1]:\n",
    "            array[temp_index] = array[temp_index - 1]\n",
    "            temp_index -= 1\n",
    "        array[temp_index] = temp_index_value\n",
    "    return array\n",
    "\n",
    "\n",
    "def heapify(array: list, index: int, heap_size: int) -> None:  # Max Heap\n",
    "    \"\"\"\n",
    "    >>> array = [4, 2, 6, 8, 1, 7, 8, 22, 14, 56, 27, 79, 23, 45, 14, 12]\n",
    "    >>> heapify(array, len(array) // 2 ,len(array))\n",
    "    \"\"\"\n",
    "    largest = index\n",
    "    left_index = 2 * index + 1  # Left Node\n",
    "    right_index = 2 * index + 2  # Right Node\n",
    "\n",
    "    if left_index < heap_size and array[largest] < array[left_index]:\n",
    "        largest = left_index\n",
    "\n",
    "    if right_index < heap_size and array[largest] < array[right_index]:\n",
    "        largest = right_index\n",
    "\n",
    "    if largest != index:\n",
    "        array[index], array[largest] = array[largest], array[index]\n",
    "        heapify(array, largest, heap_size)\n",
    "\n",
    "\n",
    "def heap_sort(array: list) -> list:\n",
    "    \"\"\"\n",
    "    >>> array = [4, 2, 6, 8, 1, 7, 8, 22, 14, 56, 27, 79, 23, 45, 14, 12]\n",
    "    >>> heap_sort(array)\n",
    "    [1, 2, 4, 6, 7, 8, 8, 12, 14, 14, 22, 23, 27, 45, 56, 79]\n",
    "    \"\"\"\n",
    "    n = len(array)\n",
    "\n",
    "    for i in range(n // 2, -1, -1):\n",
    "        heapify(array, i, n)\n",
    "\n",
    "    for i in range(n - 1, 0, -1):\n",
    "        array[i], array[0] = array[0], array[i]\n",
    "        heapify(array, 0, i)\n",
    "\n",
    "    return array\n",
    "\n",
    "\n",
    "def median_of_3(\n",
    "    array: list, first_index: int, middle_index: int, last_index: int\n",
    ") -> int:\n",
    "    \"\"\"\n",
    "    >>> array = [4, 2, 6, 8, 1, 7, 8, 22, 14, 56, 27, 79, 23, 45, 14, 12]\n",
    "    >>> median_of_3(array, 0, 0 + ((len(array) - 0) // 2) + 1, len(array) - 1)\n",
    "    12\n",
    "    \"\"\"\n",
    "    if (array[first_index] > array[middle_index]) != (\n",
    "        array[first_index] > array[last_index]\n",
    "    ):\n",
    "        return array[first_index]\n",
    "    elif (array[middle_index] > array[first_index]) != (\n",
    "        array[middle_index] > array[last_index]\n",
    "    ):\n",
    "        return array[middle_index]\n",
    "    else:\n",
    "        return array[last_index]\n",
    "\n",
    "\n",
    "def partition(array: list, low: int, high: int, pivot: int) -> int:\n",
    "    \"\"\"\n",
    "    >>> array = [4, 2, 6, 8, 1, 7, 8, 22, 14, 56, 27, 79, 23, 45, 14, 12]\n",
    "    >>> partition(array, 0, len(array), 12)\n",
    "    8\n",
    "    \"\"\"\n",
    "    i = low\n",
    "    j = high\n",
    "    while True:\n",
    "        while array[i] < pivot:\n",
    "            i += 1\n",
    "        j -= 1\n",
    "        while pivot < array[j]:\n",
    "            j -= 1\n",
    "        if i >= j:\n",
    "            return i\n",
    "        array[i], array[j] = array[j], array[i]\n",
    "        i += 1\n",
    "\n",
    "\n",
    "def sort(array: list) -> list:\n",
    "\n",
    "    if len(array) == 0:\n",
    "        return array\n",
    "    max_depth = 2 * math.ceil(math.log2(len(array)))\n",
    "    size_threshold = 16\n",
    "    return intro_sort(array, 0, len(array), size_threshold, max_depth)\n",
    "\n",
    "\n",
    "def intro_sort(\n",
    "    array: list, start: int, end: int, size_threshold: int, max_depth: int\n",
    ") -> list:\n",
    "    \"\"\"\n",
    "    >>> array = [4, 2, 6, 8, 1, 7, 8, 22, 14, 56, 27, 79, 23, 45, 14, 12]\n",
    "    >>> max_depth = 2 * math.ceil(math.log2(len(array)))\n",
    "    >>> intro_sort(array, 0, len(array), 16, max_depth)\n",
    "    [1, 2, 4, 6, 7, 8, 8, 12, 14, 14, 22, 23, 27, 45, 56, 79]\n",
    "    \"\"\"\n",
    "    while end - start > size_threshold:\n",
    "        if max_depth == 0:\n",
    "            return heap_sort(array)\n",
    "        max_depth -= 1\n",
    "        pivot = median_of_3(array, start, start + ((end - start) // 2) + 1, end - 1)\n",
    "        p = partition(array, start, end, pivot)\n",
    "        intro_sort(array, p, end, size_threshold, max_depth)\n",
    "        end = p\n",
    "    return insertion_sort(array, start, end)\n",
    "\n",
    "\n",
    "if __name__ == \"__main__\":\n",
    "    import doctest\n",
    "\n",
    "    doctest.testmod()\n",
    "\n",
    "    user_input = input(\"Enter numbers separated by a comma : \").strip()\n",
    "    unsorted = [float(item) for item in user_input.split(\",\")]\n",
    "    print(sort(unsorted))"
   ]
  },
  {
   "cell_type": "code",
   "execution_count": 1,
   "metadata": {},
   "outputs": [
    {
     "name": "stdout",
     "output_type": "stream",
     "text": [
      "Enter numbers separated by a comma:\n",
      "6,5,4,3,2,1\n",
      "1,2,3,4,5,6\n"
     ]
    }
   ],
   "source": [
    "def merge_sort(collection: list) -> list:\n",
    "\n",
    "    def merge(left: list, right: list) -> list:\n",
    "        \"\"\"merge left and right\n",
    "        :param left: left collection\n",
    "        :param right: right collection\n",
    "        :return: merge result\n",
    "        \"\"\"\n",
    "\n",
    "        def _merge():\n",
    "            while left and right:\n",
    "                yield (left if left[0] <= right[0] else right).pop(0)\n",
    "            yield from left\n",
    "            yield from right\n",
    "\n",
    "        return list(_merge())\n",
    "\n",
    "    if len(collection) <= 1:\n",
    "        return collection\n",
    "    mid = len(collection) // 2\n",
    "    return merge(merge_sort(collection[:mid]), merge_sort(collection[mid:]))\n",
    "\n",
    "\n",
    "if __name__ == \"__main__\":\n",
    "    import doctest\n",
    "\n",
    "    doctest.testmod()\n",
    "    user_input = input(\"Enter numbers separated by a comma:\\n\").strip()\n",
    "    unsorted = [int(item) for item in user_input.split(\",\")]\n",
    "    print(*merge_sort(unsorted), sep=\",\")"
   ]
  },
  {
   "cell_type": "code",
   "execution_count": null,
   "metadata": {},
   "outputs": [],
   "source": []
  }
 ],
 "metadata": {
  "kernelspec": {
   "display_name": "Python 3",
   "language": "python",
   "name": "python3"
  },
  "language_info": {
   "codemirror_mode": {
    "name": "ipython",
    "version": 3
   },
   "file_extension": ".py",
   "mimetype": "text/x-python",
   "name": "python",
   "nbconvert_exporter": "python",
   "pygments_lexer": "ipython3",
   "version": "3.8.3"
  }
 },
 "nbformat": 4,
 "nbformat_minor": 4
}
