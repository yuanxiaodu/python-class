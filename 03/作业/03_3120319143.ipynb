{
 "cells": [
  {
   "cell_type": "code",
   "execution_count": 1,
   "metadata": {},
   "outputs": [
    {
     "name": "stdout",
     "output_type": "stream",
     "text": [
      "x = 10,y = 20\n",
      "x = 20,y = 10\n"
     ]
    }
   ],
   "source": [
    "#!/usr/bin/python\n",
    "# -*- coding: UTF-8 -*-\n",
    " \n",
    "def exchange(a,b):\n",
    "    a,b = b,a\n",
    "    return (a,b)\n",
    " \n",
    "if __name__ == '__main__':\n",
    "    x = 10\n",
    "    y = 20\n",
    "    print ('x = %d,y = %d' % (x,y))\n",
    "    x,y = exchange(x,y)\n",
    "    print ('x = %d,y = %d' % (x,y))"
   ]
  },
  {
   "cell_type": "code",
   "execution_count": 2,
   "metadata": {},
   "outputs": [
    {
     "name": "stdout",
     "output_type": "stream",
     "text": [
      "10 小于 20\n"
     ]
    }
   ],
   "source": [
    "#!/usr/bin/python\n",
    "# -*- coding: UTF-8 -*-\n",
    " \n",
    "if __name__ == '__main__':\n",
    "    i = 10\n",
    "    j = 20\n",
    "    if i > j:\n",
    "        print ('%d 大于 %d' % (i,j))\n",
    "    elif i == j:\n",
    "        print ('%d 等于 %d' % (i,j))\n",
    "    elif i < j:\n",
    "        print ('%d 小于 %d' % (i,j))\n",
    "    else:\n",
    "        print ('未知')"
   ]
  },
  {
   "cell_type": "code",
   "execution_count": 3,
   "metadata": {},
   "outputs": [
    {
     "name": "stdout",
     "output_type": "stream",
     "text": [
      "The largar one is 20\n",
      "The lower one is 10\n"
     ]
    }
   ],
   "source": [
    "#!/usr/bin/python\n",
    "# -*- coding: UTF-8 -*-\n",
    " \n",
    "MAXIMUM = lambda x,y :  (x > y) * x + (x < y) * y\n",
    "MINIMUM = lambda x,y :  (x > y) * y + (x < y) * x\n",
    " \n",
    "if __name__ == '__main__':\n",
    "    a = 10\n",
    "    b = 20\n",
    "    print ('The largar one is %d' % MAXIMUM(a,b))\n",
    "    print ('The lower one is %d' % MINIMUM(a,b))"
   ]
  },
  {
   "cell_type": "code",
   "execution_count": 4,
   "metadata": {},
   "outputs": [
    {
     "name": "stdout",
     "output_type": "stream",
     "text": [
      "11.207328181971056\n"
     ]
    }
   ],
   "source": [
    "#!/usr/bin/python\n",
    "# -*- coding: UTF-8 -*-\n",
    " \n",
    "import random\n",
    " \n",
    "#生成 10 到 20 之间的随机数\n",
    "print (random.uniform(10, 20))"
   ]
  },
  {
   "cell_type": "code",
   "execution_count": 5,
   "metadata": {},
   "outputs": [
    {
     "name": "stdout",
     "output_type": "stream",
     "text": [
      "a & b = 3\n",
      "a & b = 3\n"
     ]
    }
   ],
   "source": [
    "#!/usr/bin/python\n",
    "# -*- coding: UTF-8 -*-\n",
    " \n",
    "if __name__ == '__main__':\n",
    "    a = 0x77\n",
    "    b = a & 3\n",
    "    print ('a & b = %d' % b)\n",
    "    b &= 7\n",
    "    print ('a & b = %d' % b)"
   ]
  },
  {
   "cell_type": "code",
   "execution_count": 6,
   "metadata": {},
   "outputs": [
    {
     "name": "stdout",
     "output_type": "stream",
     "text": [
      "a | b is 63\n",
      "a | b is 63\n"
     ]
    }
   ],
   "source": [
    "#!/usr/bin/python\n",
    "# -*- coding: UTF-8 -*-\n",
    " \n",
    "if __name__ == '__main__':\n",
    "    a = 0o77\n",
    "    b = a | 3\n",
    "    print ('a | b is %d' % b)\n",
    "    b |= 7\n",
    "    print ('a | b is %d' % b)"
   ]
  },
  {
   "cell_type": "code",
   "execution_count": 7,
   "metadata": {},
   "outputs": [
    {
     "name": "stdout",
     "output_type": "stream",
     "text": [
      "The a ^ 3 = 60\n",
      "The a ^ b = 59\n"
     ]
    }
   ],
   "source": [
    "#!/usr/bin/python\n",
    "# -*- coding: UTF-8 -*-\n",
    "\n",
    "if __name__ == '__main__':\n",
    "    a = 0o77\n",
    "    b = a ^ 3\n",
    "    print ('The a ^ 3 = %d' % b)\n",
    "    b ^= 7\n",
    "    print ('The a ^ b = %d' % b)"
   ]
  },
  {
   "cell_type": "code",
   "execution_count": 8,
   "metadata": {},
   "outputs": [
    {
     "name": "stdin",
     "output_type": "stream",
     "text": [
      "input a number:\n",
      " 3\n"
     ]
    },
    {
     "name": "stdout",
     "output_type": "stream",
     "text": [
      "3\t0\n"
     ]
    }
   ],
   "source": [
    "#!/usr/bin/python\n",
    "# -*- coding: UTF-8 -*-\n",
    " \n",
    "if __name__ == '__main__':\n",
    "    a = int(input('input a number:\\n'))\n",
    "    b = a >> 4\n",
    "    c = ~(~0 << 4)\n",
    "    d = b & c\n",
    "    print ('%o\\t%o' %(a,d))"
   ]
  },
  {
   "cell_type": "code",
   "execution_count": 9,
   "metadata": {},
   "outputs": [
    {
     "name": "stdout",
     "output_type": "stream",
     "text": [
      "变量 a 取反结果为： -8\n",
      "变量 c 取反结果为： 6\n"
     ]
    }
   ],
   "source": [
    "#!/usr/bin/python\n",
    "# -*- coding: UTF-8 -*-\n",
    "\n",
    "a = 7\n",
    "b = ~a\n",
    "\n",
    "c = -7\n",
    "d = ~c\n",
    "\n",
    "print ('变量 a 取反结果为： %d' % b)\n",
    "print ('变量 c 取反结果为： %d' % d)"
   ]
  },
  {
   "cell_type": "code",
   "execution_count": 14,
   "metadata": {},
   "outputs": [
    {
     "name": "stdout",
     "output_type": "stream",
     "text": [
      "1 1 1 1 2 1 1 3 3 1 1 4 6 4 1 1 5 10 10 5 1 1 6 15 20 15 6 1 1 7 21 35 35 21 7 1 1 8 28 56 70 56 28 8 1 1 9 36 84 126 126 84 36 9 1 "
     ]
    }
   ],
   "source": [
    "#!/usr/bin/python\n",
    "# -*- coding: UTF-8 -*-\n",
    " \n",
    "if __name__ == '__main__':\n",
    "    a = []\n",
    "    for i in range(10):\n",
    "        a.append([])\n",
    "        for j in range(10):\n",
    "            a[i].append(0)\n",
    "    for i in range(10):\n",
    "        a[i][0] = 1\n",
    "        a[i][i] = 1\n",
    "    for i in range(2,10):\n",
    "        for j in range(1,i):\n",
    "            a[i][j] = a[i - 1][j-1] + a[i - 1][j]\n",
    "    from sys import stdout\n",
    "    for i in range(10):\n",
    "        for j in range(i + 1):\n",
    "            stdout.write(str(a[i][j]))\n",
    "            stdout.write(' ')\n",
    "        print"
   ]
  },
  {
   "cell_type": "code",
   "execution_count": 20,
   "metadata": {},
   "outputs": [
    {
     "ename": "SyntaxError",
     "evalue": "Missing parentheses in call to 'print'. Did you mean print(numbers[i])? (<ipython-input-20-d045c6eb464c>, line 26)",
     "output_type": "error",
     "traceback": [
      "\u001b[1;36m  File \u001b[1;32m\"<ipython-input-20-d045c6eb464c>\"\u001b[1;36m, line \u001b[1;32m26\u001b[0m\n\u001b[1;33m    print numbers[i]\u001b[0m\n\u001b[1;37m          ^\u001b[0m\n\u001b[1;31mSyntaxError\u001b[0m\u001b[1;31m:\u001b[0m Missing parentheses in call to 'print'. Did you mean print(numbers[i])?\n"
     ]
    }
   ],
   "source": [
    "#!/usr/bin/python\n",
    "# -*- coding: UTF-8 -*-\n",
    " \n",
    "def inp(numbers):\n",
    "    for i in range(6):\n",
    "        numbers.append(int(raw_input('输入一个数字:\\n')))\n",
    "p = 0\n",
    " \n",
    "def arr_max(array):\n",
    "    max = 0\n",
    "    for i in range(1,len(array) - 1):\n",
    "        p = i\n",
    "        if array[p] > array[max] : max = p\n",
    "    k = max\n",
    "    array[0],array[k] = array[k],array[0]\n",
    "def arr_min(array):\n",
    "    min = 0\n",
    "    for i in range(1,len(array) - 1):\n",
    "        p = i\n",
    "        if array[p] < array[min] : min = p\n",
    "    l = min\n",
    "    array[5],array[l] = array[l],array[5]\n",
    " \n",
    "def outp(numbers):\n",
    "    for i  in range(len(numbers)):\n",
    "        print numbers[i]\n",
    " \n",
    "if __name__ == '__main__':\n",
    "    array = []\n",
    "    inp(array)        # 输入 6 个数字并放入数组\n",
    "    arr_max(array)    # 获取最大元素并与第一个元素交换\n",
    "    arr_min(array)    # 获取最小元素并与最后一个元素交换\n",
    "    print '计算结果：'\n",
    "    outp(array)"
   ]
  },
  {
   "cell_type": "code",
   "execution_count": 22,
   "metadata": {},
   "outputs": [
    {
     "ename": "SyntaxError",
     "evalue": "invalid syntax (<ipython-input-22-305e84876d78>, line 6)",
     "output_type": "error",
     "traceback": [
      "\u001b[1;36m  File \u001b[1;32m\"<ipython-input-22-305e84876d78>\"\u001b[1;36m, line \u001b[1;32m6\u001b[0m\n\u001b[1;33m    print 'the string has %d characters.' % len(s)\u001b[0m\n\u001b[1;37m          ^\u001b[0m\n\u001b[1;31mSyntaxError\u001b[0m\u001b[1;31m:\u001b[0m invalid syntax\n"
     ]
    }
   ],
   "source": [
    "#!/usr/bin/python\n",
    "# -*- coding: UTF-8 -*-\n",
    "\n",
    "if __name__ == '__main__':\n",
    "    s = raw_input('please input a string:\\n')\n",
    "    print 'the string has %d characters.' % len(s)"
   ]
  },
  {
   "cell_type": "code",
   "execution_count": 23,
   "metadata": {},
   "outputs": [
    {
     "ename": "SyntaxError",
     "evalue": "invalid syntax (<ipython-input-23-2a9eacfcd965>, line 22)",
     "output_type": "error",
     "traceback": [
      "\u001b[1;36m  File \u001b[1;32m\"<ipython-input-23-2a9eacfcd965>\"\u001b[1;36m, line \u001b[1;32m22\u001b[0m\n\u001b[1;33m    print '%-6s%-10s' % ( stu[i][0],stu[i][1] )\u001b[0m\n\u001b[1;37m          ^\u001b[0m\n\u001b[1;31mSyntaxError\u001b[0m\u001b[1;31m:\u001b[0m invalid syntax\n"
     ]
    }
   ],
   "source": [
    "#!/usr/bin/python\n",
    "# -*- coding: UTF-8 -*-\n",
    " \n",
    "N = 3\n",
    "#stu\n",
    "# num : string\n",
    "# name : string\n",
    "# score[4]: list\n",
    "student = []\n",
    "for i in range(5):\n",
    "    student.append(['','',[]])\n",
    " \n",
    "def input_stu(stu):\n",
    "    for i in range(N):\n",
    "        stu[i][0] = raw_input('input student num:\\n')\n",
    "        stu[i][1] = raw_input('input student name:\\n')\n",
    "        for j in range(3):\n",
    "            stu[i][2].append(int(raw_input('score:\\n')))\n",
    " \n",
    "def output_stu(stu):\n",
    "    for i in range(N):\n",
    "        print '%-6s%-10s' % ( stu[i][0],stu[i][1] )\n",
    "        for j in range(3):\n",
    "            print '%-8d' % stu[i][2][j]\n",
    " \n",
    "if __name__ == '__main__':\n",
    "    input_stu(student)\n",
    "    print student\n",
    "    output_stu(student)"
   ]
  },
  {
   "cell_type": "code",
   "execution_count": 24,
   "metadata": {},
   "outputs": [
    {
     "data": {
      "text/plain": [
       "[3, 4]"
      ]
     },
     "execution_count": 24,
     "metadata": {},
     "output_type": "execute_result"
    }
   ],
   "source": [
    ">>> stack = [3, 4, 5]\n",
    ">>> stack.append(6)\n",
    ">>> stack.append(7)\n",
    ">>> stack\n",
    "[3, 4, 5, 6, 7]\n",
    ">>> stack.pop()\n",
    "7\n",
    ">>> stack\n",
    "[3, 4, 5, 6]\n",
    ">>> stack.pop()\n",
    "6\n",
    ">>> stack.pop()\n",
    "5\n",
    ">>> stack\n",
    "[3, 4]"
   ]
  },
  {
   "cell_type": "code",
   "execution_count": 25,
   "metadata": {},
   "outputs": [
    {
     "ename": "SyntaxError",
     "evalue": "Missing parentheses in call to 'print'. Did you mean print(64 + i)? (<ipython-input-25-06b80cfb35f1>, line 11)",
     "output_type": "error",
     "traceback": [
      "\u001b[1;36m  File \u001b[1;32m\"<ipython-input-25-06b80cfb35f1>\"\u001b[1;36m, line \u001b[1;32m11\u001b[0m\n\u001b[1;33m    if n == 3: print 64 + i\u001b[0m\n\u001b[1;37m                     ^\u001b[0m\n\u001b[1;31mSyntaxError\u001b[0m\u001b[1;31m:\u001b[0m Missing parentheses in call to 'print'. Did you mean print(64 + i)?\n"
     ]
    }
   ],
   "source": [
    "#!/usr/bin/python\n",
    "# -*- coding: UTF-8 -*-\n",
    " \n",
    "if __name__ == '__main__':\n",
    "    for i in range(5):\n",
    "        n = 0\n",
    "        if i != 1: n += 1\n",
    "        if i == 3: n += 1\n",
    "        if i == 4: n += 1\n",
    "        if i != 4: n += 1\n",
    "        if n == 3: print 64 + i"
   ]
  },
  {
   "cell_type": "code",
   "execution_count": 26,
   "metadata": {},
   "outputs": [
    {
     "ename": "SyntaxError",
     "evalue": "Missing parentheses in call to 'print'. Did you mean print(s[i])? (<ipython-input-26-6a64dbca4932>, line 7)",
     "output_type": "error",
     "traceback": [
      "\u001b[1;36m  File \u001b[1;32m\"<ipython-input-26-6a64dbca4932>\"\u001b[1;36m, line \u001b[1;32m7\u001b[0m\n\u001b[1;33m    print s[i]\u001b[0m\n\u001b[1;37m          ^\u001b[0m\n\u001b[1;31mSyntaxError\u001b[0m\u001b[1;31m:\u001b[0m Missing parentheses in call to 'print'. Did you mean print(s[i])?\n"
     ]
    }
   ],
   "source": [
    "#!/usr/bin/python\n",
    "# -*- coding: UTF-8 -*-\n",
    " \n",
    "if __name__ == '__main__':\n",
    "    s = [\"man\",\"woman\",\"girl\",\"boy\",\"sister\"]\n",
    "    for i in range(len(s)):\n",
    "        print s[i]"
   ]
  },
  {
   "cell_type": "code",
   "execution_count": 27,
   "metadata": {},
   "outputs": [
    {
     "name": "stdin",
     "output_type": "stream",
     "text": [
      "please input: d\n"
     ]
    },
    {
     "name": "stdout",
     "output_type": "stream",
     "text": [
      "data error\n"
     ]
    }
   ],
   "source": [
    "#!/usr/bin/python3\n",
    " \n",
    "letter = input(\"please input:\")\n",
    "#while letter  != 'Y':\n",
    "if letter == 'S':\n",
    "    print ('please input second letter:')\n",
    "    letter = input(\"please input:\")\n",
    "    if letter == 'a':\n",
    "        print ('Saturday')\n",
    "    elif letter  == 'u':\n",
    "        print ('Sunday')\n",
    "    else:\n",
    "        print ('data error')\n",
    "    \n",
    "elif letter == 'F':\n",
    "    print ('Friday')\n",
    "    \n",
    "elif letter == 'M':\n",
    "    print ('Monday')\n",
    "    \n",
    "elif letter == 'T':\n",
    "    print ('please input second letter')\n",
    "    letter = input(\"please input:\")\n",
    " \n",
    "    if letter  == 'u':\n",
    "        print ('Tuesday')\n",
    "    elif letter  == 'h':\n",
    "        print ('Thursday')\n",
    "    else:\n",
    "        print ('data error')\n",
    "        \n",
    "elif letter == 'W':\n",
    "    print ('Wednesday')\n",
    "else:\n",
    "    print ('data error')"
   ]
  },
  {
   "cell_type": "code",
   "execution_count": 28,
   "metadata": {},
   "outputs": [
    {
     "name": "stdout",
     "output_type": "stream",
     "text": [
      "var = 0\n",
      "var = 0\n",
      "var = 0\n",
      "5\n",
      "6\n",
      "7\n",
      "8\n"
     ]
    }
   ],
   "source": [
    "#!/usr/bin/python\n",
    "# -*- coding: UTF-8 -*-\n",
    "\n",
    "def varfunc():\n",
    "    var = 0\n",
    "    print ('var = %d' % var)\n",
    "    var += 1\n",
    "if __name__ == '__main__':\n",
    "    for i in range(3):\n",
    "        varfunc()\n",
    "\n",
    "\n",
    "class Static:\n",
    "    StaticVar = 5\n",
    "    def varfunc(self):\n",
    "        self.StaticVar += 1\n",
    "        print (self.StaticVar)\n",
    "\n",
    "print (Static.StaticVar)\n",
    "a = Static()\n",
    "for i in range(3):\n",
    "    a.varfunc()"
   ]
  },
  {
   "cell_type": "code",
   "execution_count": 29,
   "metadata": {},
   "outputs": [
    {
     "name": "stdout",
     "output_type": "stream",
     "text": [
      "1 2 3\n",
      "1 2 4\n",
      "1 3 2\n",
      "1 3 4\n",
      "1 4 2\n",
      "1 4 3\n",
      "2 1 3\n",
      "2 1 4\n",
      "2 3 1\n",
      "2 3 4\n",
      "2 4 1\n",
      "2 4 3\n",
      "3 1 2\n",
      "3 1 4\n",
      "3 2 1\n",
      "3 2 4\n",
      "3 4 1\n",
      "3 4 2\n",
      "4 1 2\n",
      "4 1 3\n",
      "4 2 1\n",
      "4 2 3\n",
      "4 3 1\n",
      "4 3 2\n"
     ]
    }
   ],
   "source": [
    "#!/usr/bin/python\n",
    "# -*- coding: UTF-8 -*-\n",
    " \n",
    "for i in range(1,5):\n",
    "    for j in range(1,5):\n",
    "        for k in range(1,5):\n",
    "            if( i != k ) and (i != j) and (j != k):\n",
    "                print (i,j,k)"
   ]
  },
  {
   "cell_type": "code",
   "execution_count": 30,
   "metadata": {},
   "outputs": [
    {
     "name": "stdout",
     "output_type": "stream",
     "text": [
      "a + b 输出结果： HelloPython\n",
      "a * 2 输出结果： HelloHello\n",
      "a[1] 输出结果： e\n",
      "a[1:4] 输出结果： ell\n",
      "H 在变量 a 中\n",
      "M 不在变量 a 中\n",
      "\\n\n",
      "\\n\n"
     ]
    }
   ],
   "source": [
    "#!/usr/bin/python3\n",
    " \n",
    "a = \"Hello\"\n",
    "b = \"Python\"\n",
    " \n",
    "print(\"a + b 输出结果：\", a + b)\n",
    "print(\"a * 2 输出结果：\", a * 2)\n",
    "print(\"a[1] 输出结果：\", a[1])\n",
    "print(\"a[1:4] 输出结果：\", a[1:4])\n",
    " \n",
    "if( \"H\" in a) :\n",
    "    print(\"H 在变量 a 中\")\n",
    "else :\n",
    "    print(\"H 不在变量 a 中\")\n",
    " \n",
    "if( \"M\" not in a) :\n",
    "    print(\"M 不在变量 a 中\")\n",
    "else :\n",
    "    print(\"M 在变量 a 中\")\n",
    " \n",
    "print (r'\\n')\n",
    "print (R'\\n')"
   ]
  },
  {
   "cell_type": "code",
   "execution_count": null,
   "metadata": {},
   "outputs": [],
   "source": []
  }
 ],
 "metadata": {
  "kernelspec": {
   "display_name": "Python 3",
   "language": "python",
   "name": "python3"
  },
  "language_info": {
   "codemirror_mode": {
    "name": "ipython",
    "version": 3
   },
   "file_extension": ".py",
   "mimetype": "text/x-python",
   "name": "python",
   "nbconvert_exporter": "python",
   "pygments_lexer": "ipython3",
   "version": "3.8.5"
  }
 },
 "nbformat": 4,
 "nbformat_minor": 4
}
