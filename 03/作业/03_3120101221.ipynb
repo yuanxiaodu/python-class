{
 "cells": [
  {
   "cell_type": "code",
   "execution_count": 1,
   "metadata": {},
   "outputs": [
    {
     "ename": "ModuleNotFoundError",
     "evalue": "No module named 'pyecharts'",
     "output_type": "error",
     "traceback": [
      "\u001b[1;31m---------------------------------------------------------------------------\u001b[0m",
      "\u001b[1;31mModuleNotFoundError\u001b[0m                       Traceback (most recent call last)",
      "\u001b[1;32m<ipython-input-1-41ec95c9b91a>\u001b[0m in \u001b[0;36m<module>\u001b[1;34m\u001b[0m\n\u001b[1;32m----> 1\u001b[1;33m \u001b[1;32mfrom\u001b[0m \u001b[0mpyecharts\u001b[0m \u001b[1;32mimport\u001b[0m \u001b[0moptions\u001b[0m \u001b[1;32mas\u001b[0m \u001b[0mopts\u001b[0m\u001b[1;33m\u001b[0m\u001b[1;33m\u001b[0m\u001b[0m\n\u001b[0m\u001b[0;32m      2\u001b[0m \u001b[1;32mfrom\u001b[0m \u001b[0mpyecharts\u001b[0m\u001b[1;33m.\u001b[0m\u001b[0mcharts\u001b[0m \u001b[1;32mimport\u001b[0m \u001b[0mPage\u001b[0m\u001b[1;33m,\u001b[0m \u001b[0mParallel\u001b[0m\u001b[1;33m\u001b[0m\u001b[1;33m\u001b[0m\u001b[0m\n\u001b[0;32m      3\u001b[0m \u001b[1;33m\u001b[0m\u001b[0m\n\u001b[0;32m      4\u001b[0m data = [\n\u001b[0;32m      5\u001b[0m \u001b[1;33m\u001b[0m\u001b[0m\n",
      "\u001b[1;31mModuleNotFoundError\u001b[0m: No module named 'pyecharts'"
     ]
    }
   ],
   "source": [
    "from pyecharts import options as opts\n",
    "from pyecharts.charts import Page, Parallel\n",
    "\n",
    "data = [\n",
    "\n",
    "    [381.550003,402.7363009,29.5250005,0.356463667,294.839138,42.8080005,26.9,121.7666703,1.6,20.22857186,0.9,1.53,2.34,902.6100216,0.3501819,59.43374418,1.122222222,3.625,3.65,36.3800016],\n",
    "    [383.300003,402.7234313,30.5000005,0.352324632,294.5698849,43.55182892,27.54285771,121.333336,1.5,18.8400006,0.985356118,1.58464071,2.436823324,996.6969504,0.360449299,59.42835388,1.1625,3.7,3.634888464,36.98571457],\n",
    "    [386.00001,402.8638846,29.40000033,0.346857063,294.3692497,45.85843121,27.25000013,118.5166677,1.575,19.02500025,1,1.598882051,2.533311363,1002.900024,0.360826451,59.43199282,1.25,3.633333333,3.6,36.9125015],\n",
    "    [383.100006,402.8007152,29.14,0.341511813,294.1697794,47.564445,27.50000063,116.566668,1.55,19.275,1.05,1.604098021,2.582122648,1012.213597,0.377844329,59.3970423,1.1125,3.633333333,3.666666667,36.77142986],\n",
    "    [391.150009,402.6733703,29.80000025,0.3357353,293.9890748,46.60580056,27.33750025,115.3500025,1.564043336,18.47142871,1.05,1.608877307,2.382250798,1012.500031,0.386956672,59.40350671,1.2,3.633333333,3.6,37.2],\n",
    "    [389.600006,402.9134218,28.78,0.330665211,293.8095442,46.61991549,27.2800005,112.9750026,1.6,18.60000056,1.033333333,1.533344807,2.6,1014.400024,0.385508094,59.40548508,1.172727273,3.666666667,3.7,36.70000125],\n",
    "    [391.700012,402.7363111,30.3000004,0.326010294,293.7250628,46.63516143,28.35000038,112.600001,1.65,19.62857214,1.05,1.689500254,2.620115339,1020.200013,0.367032499,59.43220966,1.157142857,3.64,3.6,37.35714386],\n",
    "    [388.300003,404.0169484,31.2000008,0.322132611,293.3607104,46.403191,28.17777811,111.8000016,1.666666667,19.06666733,1.041389709,1.602356783,2.633333333,1020.200013,0.378887788,59.40000464,1.188888889,3.633333333,3.633333333,37.88571614],\n",
    "    [389.300018,404.7446063,29.10000067,0.317089333,293.3343073,46.30895726,27.4125005,108.600001,1.65,19.1000004,1.023307387,1.661972873,2.65,1021.574782,0.371240798,59.43279882,1.125,3.65,3.65,36.0600006],\n",
    "    [391.899994,404.6582432,30.70000033,0.312332783,293.282671,46.015736,28.78750013,108.25,1.692697431,18.588889,1.041544257,1.628854212,2.633333333,1024.633362,0.355331508,59.43126363,1.2125,3.65,3.633333333,37.66666667],\n",
    "    [384.399994,404.8822268,33,0.309169143,292.8554757,45.48627485,29.00000075,109,1.732451205,19.43333367,1.025397878,1.636499868,2.628160382,1025.056338,0.386248759,59.4174421,1.15,3.625,3.666666667,38.566667],\n",
    "    [382.949997,405.4761228,34.900002,0.307029476,292.5350543,45.79358361,28.35714329,109.300003,1.674527547,18.41666717,1.028873251,1.565673917,2.608121119,1027.451494,0.352611733,59.418514,1.142857143,3.65,3.633333333,38.92857243],\n",
    "    [391.399994,406.1258329,35.700001,0.304946105,292.2639234,45.78257877,28.80000057,109.3000021,1.71932148,18.95714329,1,1.684848254,2.6,1029.800049,0.355343422,59.38651644,1.1625,3.65,3.65,38.5800014],\n",
    "    [395.600006,406.9740817,36.2500015,0.303439115,292.1406705,45.67222641,28.68750038,109.3000016,1.709487682,18.48571457,1.05,1.644200422,2.65,1028.208137,0.369946235,59.42123298,1.177777778,3.657142857,3.633333333,38.86250075],\n",
    "    [399.399994,407.7331236,33.780002,0.301955455,292.4709695,45.240276,28.88750038,107.8250008,1.730432017,18.28750063,1.020757337,1.653172607,2.633333333,1025.900024,0.381608579,59.37667707,1.157142857,3.625,3.65,38.516667],\n",
    "    [387,408.3470803,32.05,0.30023825,292.8986074,45.22889594,29.14444478,105.900002,1.713546601,19.07500025,1.009192492,1.7,2.6,1025.900024,0.382692635,59.39401799,1.325,3.642857143,3.625,37.88571486],\n",
    "    [393.399994,408.208323,30.71250038,0.2968394,293.4204221,45.20058248,29.45000025,104.6,1.694752425,18.85555578,1.007839324,1.75,2.65,1027.862856,0.359656828,59.37894767,1.175,3.65,3.657142857,37.61428686],\n",
    "    [386.300018,406.8890346,34.02500125,0.29449465,293.4141033,45.143291,29.36666711,106.1666693,1.718752703,18.78571457,1,1.7,2.65,1032.080005,0.358344176,59.40717615,1.357142857,3.66,3.64,39.75000117],\n",
    "    [391.600006,406.5672224,33.68750063,0.294411417,293.323746,44.85726314,29.11250063,105.7142869,1.694006345,18.514286,1.05,1.75,2.65,1031.700013,0.38140208,59.38078121,1.157142857,3.642857143,3.66,39.866668],\n",
    "    [392.600006,405.9685854,35.3000005,0.293667273,293.175873,45.0423402,28.4750005,105.900002,1.733333333,18.22857171,1,1.7,2.6,1029.800049,0.385826371,59.375931,1.177777778,3.633333333,3.6,39.90000075],\n",
    "    [393.900009,405.6170346,36.80000063,0.2933883,292.9910355,44.80949431,28.8250005,106.2500023,1.7,18.67500025,1.05,1.75,2.66,1029.800049,0.364857031,59.312338,1.1875,3.666666667,3.65,39.22500038],\n",
    "    [395.300003,405.6064938,37.2000008,0.293467208,292.880127,44.755234,28.93333367,105.8500025,1.75,18.56666717,1.036926579,1.716517604,2.633333333,1022.100037,0.354146923,59.312338,1.125,3.65,3.666666667,39.64285843],\n",
    "    [398.300018,405.649963,36.5,0.291848308,292.888343,44.755234,28.78750025,105.5,1.75,18.43750038,1.033333333,1.7,2.7,1022.100037,0.363053576,59.308991,1.242857143,3.633333333,3.633333333,39.440001],\n",
    "    [394.449997,406.2836,36.5,0.29098219,293.0329286,44.755234,28.92222267,105.400002,1.75,18.314286,1.002348282,1.75,2.65,1022.100037,0.350759214,59.30903418,1.122222222,3.666666667,3.65,39.30000063],\n",
    "    [393.700012,407.120481,36.96666733,0.29035,293.225164,44.755234,30.26666722,106.075003,1.766666667,18.016667,1.01423385,1.714121415,2.65,1022.100037,0.36972304,59.312338,1.242857143,3.642857143,3.64,39.8333345],\n",
    "\n",
    "    ]\n",
    "c = (\n",
    "    Parallel()\n",
    "        .add_schema(\n",
    "        [\n",
    "            {\"dim\": 1, \"name\": \"DCS2.20MAW60CT001\"},\n",
    "            {\"dim\": 2, \"name\": \"DCS2.20MAA50CT015\"},\n",
    "            {\"dim\": 3, \"name\": \"DCS2.20MAA12FG151\"},\n",
    "            {\"dim\": 4, \"name\": \"DCS2.20MAB50CP002\"},\n",
    "            {\"dim\": 5, \"name\": \"DCS2.20MAB50CT022\"},\n",
    "            {\"dim\": 6, \"name\": \"DCS2.20MAC10CT011\"},\n",
    "            {\"dim\": 7, \"name\": \"DCS2.20MAC10CT072\"},\n",
    "            {\"dim\": 8, \"name\": \"DCS2.20MAA50FP001\"},\n",
    "            {\"dim\": 9, \"name\": \"DCS2.20MAD14CY021\"},\n",
    "            {\"dim\": 10, \"name\": \"DCS2.20MAD14CY940\"},\n",
    "            {\"dim\": 11, \"name\": \"DCS2.20MAD16CY021\"},\n",
    "            {\"dim\": 12, \"name\": \"DCS2.20MAD17CY021\"},\n",
    "            {\"dim\": 13, \"name\": \"DCS2.20MAD18CY021\"},\n",
    "            {\"dim\": 14, \"name\": \"DCS2.20MAG10FL021\"},\n",
    "            {\"dim\": 15, \"name\": \"DCS2.20MAJ11AP001XQ01\"},\n",
    "            {\"dim\": 16, \"name\": \"DCS2.20MAJ13CT002\"},\n",
    "            {\"dim\": 17, \"name\": \"DCS2.20MAV35CP001\"},\n",
    "            {\"dim\": 18, \"name\": \"DCS2.20MAV42CP016\"},\n",
    "            {\"dim\": 19, \"name\": \"DCS2.20MAV42FP016\"},\n",
    "            {\"dim\": 20, \"name\": \"DCS2.20MAW20CP001\"},\n",
    "\n",
    "\n",
    "\n",
    "        ]\n",
    "    )\n",
    "        .add(\"parallel\", data)\n",
    "        .set_global_opts(title_opts=opts.TitleOpts(title=\"TurbineData2000\"))\n",
    ")\n",
    "\n",
    "c.render(\"平行坐标系图2.html\")"
   ]
  },
  {
   "cell_type": "code",
   "execution_count": 2,
   "metadata": {
    "scrolled": true
   },
   "outputs": [
    {
     "name": "stdout",
     "output_type": "stream",
     "text": [
      "Welcome to Raymond's Happy Farm Yard, the location of farm yard is Xi'an Shaanxi China. My email is liaoh1@myumanitoba.ca, if you have any problem, feel free to contact me.\n",
      "The total earned money is 209000\n",
      "The total cost of farm yard is 46500.0\n",
      "The total profit of this year is 162500.0\n",
      "The VIPs ID are [321, 343, 543, 645, 764, 345, 876, 145, 654, 330, 154, 545, 321, 948, 345, 621, 987].\n",
      "Can not find the VIP with VIPsID 332.\n",
      "The VIP with VIPsID is 654 has been found\n",
      "Can not find the VIP with VIPsID 654.\n",
      "Can not find the VIP with VIPsID 555.\n",
      "The retailers of location are: [\"Xi'an\", 'Shanghai', 'Nanjing', 'Wuhan', 'Weinan', \"Yan'an\", 'Guangzhou', 'Beijin', 'Tianjin', 'Hongkong', 'Taiwan'].\n",
      "Xi'an has retailer, you can buy products there.\n",
      "Qingyang has no retailer, sorry about that!\n",
      "Nanjing has retailer, you can buy products there.\n"
     ]
    },
    {
     "ename": "AttributeError",
     "evalue": "'Line2D' object has no property 'lable'",
     "output_type": "error",
     "traceback": [
      "\u001b[1;31m---------------------------------------------------------------------------\u001b[0m",
      "\u001b[1;31mAttributeError\u001b[0m                            Traceback (most recent call last)",
      "\u001b[1;32m<ipython-input-2-b9ea4fa20fc6>\u001b[0m in \u001b[0;36m<module>\u001b[1;34m\u001b[0m\n\u001b[0;32m     75\u001b[0m \u001b[0mplt\u001b[0m\u001b[1;33m.\u001b[0m\u001b[0mylim\u001b[0m\u001b[1;33m(\u001b[0m\u001b[1;36m0\u001b[0m\u001b[1;33m,\u001b[0m\u001b[1;36m38\u001b[0m\u001b[1;33m)\u001b[0m\u001b[1;33m\u001b[0m\u001b[1;33m\u001b[0m\u001b[0m\n\u001b[0;32m     76\u001b[0m \u001b[0my_xa\u001b[0m \u001b[1;33m=\u001b[0m \u001b[1;33m[\u001b[0m\u001b[0mrandom\u001b[0m\u001b[1;33m.\u001b[0m\u001b[0muniform\u001b[0m\u001b[1;33m(\u001b[0m\u001b[1;36m5\u001b[0m\u001b[1;33m,\u001b[0m\u001b[1;36m12\u001b[0m\u001b[1;33m)\u001b[0m \u001b[1;32mfor\u001b[0m \u001b[0mi\u001b[0m \u001b[1;32min\u001b[0m \u001b[0mrange\u001b[0m\u001b[1;33m(\u001b[0m\u001b[1;36m61\u001b[0m\u001b[1;33m)\u001b[0m\u001b[1;33m]\u001b[0m\u001b[1;33m\u001b[0m\u001b[1;33m\u001b[0m\u001b[0m\n\u001b[1;32m---> 77\u001b[1;33m \u001b[0mplt\u001b[0m\u001b[1;33m.\u001b[0m\u001b[0mplot\u001b[0m\u001b[1;33m(\u001b[0m\u001b[0mx\u001b[0m\u001b[1;33m,\u001b[0m\u001b[0my_xa\u001b[0m\u001b[1;33m,\u001b[0m\u001b[0mcolor\u001b[0m \u001b[1;33m=\u001b[0m \u001b[1;34m'r'\u001b[0m\u001b[1;33m,\u001b[0m \u001b[0mlinestyle\u001b[0m \u001b[1;33m=\u001b[0m \u001b[1;34m\"--\"\u001b[0m\u001b[1;33m,\u001b[0m \u001b[0mlable\u001b[0m \u001b[1;33m=\u001b[0m \u001b[1;34m\"Xi'an\"\u001b[0m\u001b[1;33m)\u001b[0m\u001b[1;33m\u001b[0m\u001b[1;33m\u001b[0m\u001b[0m\n\u001b[0m\u001b[0;32m     78\u001b[0m \u001b[0mc\u001b[0m \u001b[1;33m=\u001b[0m \u001b[0mnp\u001b[0m\u001b[1;33m.\u001b[0m\u001b[0mmean\u001b[0m\u001b[1;33m(\u001b[0m\u001b[0my_xa\u001b[0m\u001b[1;33m)\u001b[0m\u001b[1;33m\u001b[0m\u001b[1;33m\u001b[0m\u001b[0m\n\u001b[0;32m     79\u001b[0m \u001b[0mplt\u001b[0m\u001b[1;33m.\u001b[0m\u001b[0maxhline\u001b[0m\u001b[1;33m(\u001b[0m\u001b[0my\u001b[0m \u001b[1;33m=\u001b[0m \u001b[0mc\u001b[0m\u001b[1;33m,\u001b[0m \u001b[0mcolor\u001b[0m \u001b[1;33m=\u001b[0m \u001b[1;34m\"c\"\u001b[0m\u001b[1;33m,\u001b[0m \u001b[0mmarker\u001b[0m \u001b[1;33m=\u001b[0m \u001b[1;34m\"x\"\u001b[0m\u001b[1;33m,\u001b[0m \u001b[0mlable\u001b[0m \u001b[1;33m=\u001b[0m \u001b[1;34m\"mean value\"\u001b[0m\u001b[1;33m)\u001b[0m\u001b[1;33m\u001b[0m\u001b[1;33m\u001b[0m\u001b[0m\n",
      "\u001b[1;32mC:\\Anaconda3\\lib\\site-packages\\matplotlib\\pyplot.py\u001b[0m in \u001b[0;36mplot\u001b[1;34m(scalex, scaley, data, *args, **kwargs)\u001b[0m\n\u001b[0;32m   2759\u001b[0m \u001b[1;33m@\u001b[0m\u001b[0mdocstring\u001b[0m\u001b[1;33m.\u001b[0m\u001b[0mcopy\u001b[0m\u001b[1;33m(\u001b[0m\u001b[0mAxes\u001b[0m\u001b[1;33m.\u001b[0m\u001b[0mplot\u001b[0m\u001b[1;33m)\u001b[0m\u001b[1;33m\u001b[0m\u001b[1;33m\u001b[0m\u001b[0m\n\u001b[0;32m   2760\u001b[0m \u001b[1;32mdef\u001b[0m \u001b[0mplot\u001b[0m\u001b[1;33m(\u001b[0m\u001b[1;33m*\u001b[0m\u001b[0margs\u001b[0m\u001b[1;33m,\u001b[0m \u001b[0mscalex\u001b[0m\u001b[1;33m=\u001b[0m\u001b[1;32mTrue\u001b[0m\u001b[1;33m,\u001b[0m \u001b[0mscaley\u001b[0m\u001b[1;33m=\u001b[0m\u001b[1;32mTrue\u001b[0m\u001b[1;33m,\u001b[0m \u001b[0mdata\u001b[0m\u001b[1;33m=\u001b[0m\u001b[1;32mNone\u001b[0m\u001b[1;33m,\u001b[0m \u001b[1;33m**\u001b[0m\u001b[0mkwargs\u001b[0m\u001b[1;33m)\u001b[0m\u001b[1;33m:\u001b[0m\u001b[1;33m\u001b[0m\u001b[1;33m\u001b[0m\u001b[0m\n\u001b[1;32m-> 2761\u001b[1;33m     return gca().plot(\n\u001b[0m\u001b[0;32m   2762\u001b[0m         *args, scalex=scalex, scaley=scaley, **({\"data\": data} if data\n\u001b[0;32m   2763\u001b[0m         is not None else {}), **kwargs)\n",
      "\u001b[1;32mC:\\Anaconda3\\lib\\site-packages\\matplotlib\\axes\\_axes.py\u001b[0m in \u001b[0;36mplot\u001b[1;34m(self, scalex, scaley, data, *args, **kwargs)\u001b[0m\n\u001b[0;32m   1645\u001b[0m         \"\"\"\n\u001b[0;32m   1646\u001b[0m         \u001b[0mkwargs\u001b[0m \u001b[1;33m=\u001b[0m \u001b[0mcbook\u001b[0m\u001b[1;33m.\u001b[0m\u001b[0mnormalize_kwargs\u001b[0m\u001b[1;33m(\u001b[0m\u001b[0mkwargs\u001b[0m\u001b[1;33m,\u001b[0m \u001b[0mmlines\u001b[0m\u001b[1;33m.\u001b[0m\u001b[0mLine2D\u001b[0m\u001b[1;33m)\u001b[0m\u001b[1;33m\u001b[0m\u001b[1;33m\u001b[0m\u001b[0m\n\u001b[1;32m-> 1647\u001b[1;33m         \u001b[0mlines\u001b[0m \u001b[1;33m=\u001b[0m \u001b[1;33m[\u001b[0m\u001b[1;33m*\u001b[0m\u001b[0mself\u001b[0m\u001b[1;33m.\u001b[0m\u001b[0m_get_lines\u001b[0m\u001b[1;33m(\u001b[0m\u001b[1;33m*\u001b[0m\u001b[0margs\u001b[0m\u001b[1;33m,\u001b[0m \u001b[0mdata\u001b[0m\u001b[1;33m=\u001b[0m\u001b[0mdata\u001b[0m\u001b[1;33m,\u001b[0m \u001b[1;33m**\u001b[0m\u001b[0mkwargs\u001b[0m\u001b[1;33m)\u001b[0m\u001b[1;33m]\u001b[0m\u001b[1;33m\u001b[0m\u001b[1;33m\u001b[0m\u001b[0m\n\u001b[0m\u001b[0;32m   1648\u001b[0m         \u001b[1;32mfor\u001b[0m \u001b[0mline\u001b[0m \u001b[1;32min\u001b[0m \u001b[0mlines\u001b[0m\u001b[1;33m:\u001b[0m\u001b[1;33m\u001b[0m\u001b[1;33m\u001b[0m\u001b[0m\n\u001b[0;32m   1649\u001b[0m             \u001b[0mself\u001b[0m\u001b[1;33m.\u001b[0m\u001b[0madd_line\u001b[0m\u001b[1;33m(\u001b[0m\u001b[0mline\u001b[0m\u001b[1;33m)\u001b[0m\u001b[1;33m\u001b[0m\u001b[1;33m\u001b[0m\u001b[0m\n",
      "\u001b[1;32mC:\\Anaconda3\\lib\\site-packages\\matplotlib\\axes\\_base.py\u001b[0m in \u001b[0;36m__call__\u001b[1;34m(self, *args, **kwargs)\u001b[0m\n\u001b[0;32m    214\u001b[0m                 \u001b[0mthis\u001b[0m \u001b[1;33m+=\u001b[0m \u001b[0margs\u001b[0m\u001b[1;33m[\u001b[0m\u001b[1;36m0\u001b[0m\u001b[1;33m]\u001b[0m\u001b[1;33m,\u001b[0m\u001b[1;33m\u001b[0m\u001b[1;33m\u001b[0m\u001b[0m\n\u001b[0;32m    215\u001b[0m                 \u001b[0margs\u001b[0m \u001b[1;33m=\u001b[0m \u001b[0margs\u001b[0m\u001b[1;33m[\u001b[0m\u001b[1;36m1\u001b[0m\u001b[1;33m:\u001b[0m\u001b[1;33m]\u001b[0m\u001b[1;33m\u001b[0m\u001b[1;33m\u001b[0m\u001b[0m\n\u001b[1;32m--> 216\u001b[1;33m             \u001b[1;32myield\u001b[0m \u001b[1;32mfrom\u001b[0m \u001b[0mself\u001b[0m\u001b[1;33m.\u001b[0m\u001b[0m_plot_args\u001b[0m\u001b[1;33m(\u001b[0m\u001b[0mthis\u001b[0m\u001b[1;33m,\u001b[0m \u001b[0mkwargs\u001b[0m\u001b[1;33m)\u001b[0m\u001b[1;33m\u001b[0m\u001b[1;33m\u001b[0m\u001b[0m\n\u001b[0m\u001b[0;32m    217\u001b[0m \u001b[1;33m\u001b[0m\u001b[0m\n\u001b[0;32m    218\u001b[0m     \u001b[1;32mdef\u001b[0m \u001b[0mget_next_color\u001b[0m\u001b[1;33m(\u001b[0m\u001b[0mself\u001b[0m\u001b[1;33m)\u001b[0m\u001b[1;33m:\u001b[0m\u001b[1;33m\u001b[0m\u001b[1;33m\u001b[0m\u001b[0m\n",
      "\u001b[1;32mC:\\Anaconda3\\lib\\site-packages\\matplotlib\\axes\\_base.py\u001b[0m in \u001b[0;36m_plot_args\u001b[1;34m(self, tup, kwargs)\u001b[0m\n\u001b[0;32m    361\u001b[0m                 \u001b[1;34m\"2.2\"\u001b[0m\u001b[1;33m,\u001b[0m \u001b[0mmessage\u001b[0m\u001b[1;33m=\u001b[0m\u001b[1;34m\"cycling among columns of inputs with \"\u001b[0m\u001b[1;33m\u001b[0m\u001b[1;33m\u001b[0m\u001b[0m\n\u001b[0;32m    362\u001b[0m                 \"non-matching shapes is deprecated.\")\n\u001b[1;32m--> 363\u001b[1;33m         return [func(x[:, j % ncx], y[:, j % ncy], kw, kwargs)\n\u001b[0m\u001b[0;32m    364\u001b[0m                 for j in range(max(ncx, ncy))]\n\u001b[0;32m    365\u001b[0m \u001b[1;33m\u001b[0m\u001b[0m\n",
      "\u001b[1;32mC:\\Anaconda3\\lib\\site-packages\\matplotlib\\axes\\_base.py\u001b[0m in \u001b[0;36m<listcomp>\u001b[1;34m(.0)\u001b[0m\n\u001b[0;32m    361\u001b[0m                 \u001b[1;34m\"2.2\"\u001b[0m\u001b[1;33m,\u001b[0m \u001b[0mmessage\u001b[0m\u001b[1;33m=\u001b[0m\u001b[1;34m\"cycling among columns of inputs with \"\u001b[0m\u001b[1;33m\u001b[0m\u001b[1;33m\u001b[0m\u001b[0m\n\u001b[0;32m    362\u001b[0m                 \"non-matching shapes is deprecated.\")\n\u001b[1;32m--> 363\u001b[1;33m         return [func(x[:, j % ncx], y[:, j % ncy], kw, kwargs)\n\u001b[0m\u001b[0;32m    364\u001b[0m                 for j in range(max(ncx, ncy))]\n\u001b[0;32m    365\u001b[0m \u001b[1;33m\u001b[0m\u001b[0m\n",
      "\u001b[1;32mC:\\Anaconda3\\lib\\site-packages\\matplotlib\\axes\\_base.py\u001b[0m in \u001b[0;36m_makeline\u001b[1;34m(self, x, y, kw, kwargs)\u001b[0m\n\u001b[0;32m    253\u001b[0m         \u001b[0mdefault_dict\u001b[0m \u001b[1;33m=\u001b[0m \u001b[0mself\u001b[0m\u001b[1;33m.\u001b[0m\u001b[0m_getdefaults\u001b[0m\u001b[1;33m(\u001b[0m\u001b[0mset\u001b[0m\u001b[1;33m(\u001b[0m\u001b[1;33m)\u001b[0m\u001b[1;33m,\u001b[0m \u001b[0mkw\u001b[0m\u001b[1;33m)\u001b[0m\u001b[1;33m\u001b[0m\u001b[1;33m\u001b[0m\u001b[0m\n\u001b[0;32m    254\u001b[0m         \u001b[0mself\u001b[0m\u001b[1;33m.\u001b[0m\u001b[0m_setdefaults\u001b[0m\u001b[1;33m(\u001b[0m\u001b[0mdefault_dict\u001b[0m\u001b[1;33m,\u001b[0m \u001b[0mkw\u001b[0m\u001b[1;33m)\u001b[0m\u001b[1;33m\u001b[0m\u001b[1;33m\u001b[0m\u001b[0m\n\u001b[1;32m--> 255\u001b[1;33m         \u001b[0mseg\u001b[0m \u001b[1;33m=\u001b[0m \u001b[0mmlines\u001b[0m\u001b[1;33m.\u001b[0m\u001b[0mLine2D\u001b[0m\u001b[1;33m(\u001b[0m\u001b[0mx\u001b[0m\u001b[1;33m,\u001b[0m \u001b[0my\u001b[0m\u001b[1;33m,\u001b[0m \u001b[1;33m**\u001b[0m\u001b[0mkw\u001b[0m\u001b[1;33m)\u001b[0m\u001b[1;33m\u001b[0m\u001b[1;33m\u001b[0m\u001b[0m\n\u001b[0m\u001b[0;32m    256\u001b[0m         \u001b[1;32mreturn\u001b[0m \u001b[0mseg\u001b[0m\u001b[1;33m\u001b[0m\u001b[1;33m\u001b[0m\u001b[0m\n\u001b[0;32m    257\u001b[0m \u001b[1;33m\u001b[0m\u001b[0m\n",
      "\u001b[1;32mC:\\Anaconda3\\lib\\site-packages\\matplotlib\\lines.py\u001b[0m in \u001b[0;36m__init__\u001b[1;34m(self, xdata, ydata, linewidth, linestyle, color, marker, markersize, markeredgewidth, markeredgecolor, markerfacecolor, markerfacecoloralt, fillstyle, antialiased, dash_capstyle, solid_capstyle, dash_joinstyle, solid_joinstyle, pickradius, drawstyle, markevery, **kwargs)\u001b[0m\n\u001b[0;32m    398\u001b[0m         \u001b[1;31m# update kwargs before updating data to give the caller a\u001b[0m\u001b[1;33m\u001b[0m\u001b[1;33m\u001b[0m\u001b[1;33m\u001b[0m\u001b[0m\n\u001b[0;32m    399\u001b[0m         \u001b[1;31m# chance to init axes (and hence unit support)\u001b[0m\u001b[1;33m\u001b[0m\u001b[1;33m\u001b[0m\u001b[1;33m\u001b[0m\u001b[0m\n\u001b[1;32m--> 400\u001b[1;33m         \u001b[0mself\u001b[0m\u001b[1;33m.\u001b[0m\u001b[0mupdate\u001b[0m\u001b[1;33m(\u001b[0m\u001b[0mkwargs\u001b[0m\u001b[1;33m)\u001b[0m\u001b[1;33m\u001b[0m\u001b[1;33m\u001b[0m\u001b[0m\n\u001b[0m\u001b[0;32m    401\u001b[0m         \u001b[0mself\u001b[0m\u001b[1;33m.\u001b[0m\u001b[0mpickradius\u001b[0m \u001b[1;33m=\u001b[0m \u001b[0mpickradius\u001b[0m\u001b[1;33m\u001b[0m\u001b[1;33m\u001b[0m\u001b[0m\n\u001b[0;32m    402\u001b[0m         \u001b[0mself\u001b[0m\u001b[1;33m.\u001b[0m\u001b[0mind_offset\u001b[0m \u001b[1;33m=\u001b[0m \u001b[1;36m0\u001b[0m\u001b[1;33m\u001b[0m\u001b[1;33m\u001b[0m\u001b[0m\n",
      "\u001b[1;32mC:\\Anaconda3\\lib\\site-packages\\matplotlib\\artist.py\u001b[0m in \u001b[0;36mupdate\u001b[1;34m(self, props)\u001b[0m\n\u001b[0;32m   1004\u001b[0m \u001b[1;33m\u001b[0m\u001b[0m\n\u001b[0;32m   1005\u001b[0m         \u001b[1;32mwith\u001b[0m \u001b[0mcbook\u001b[0m\u001b[1;33m.\u001b[0m\u001b[0m_setattr_cm\u001b[0m\u001b[1;33m(\u001b[0m\u001b[0mself\u001b[0m\u001b[1;33m,\u001b[0m \u001b[0meventson\u001b[0m\u001b[1;33m=\u001b[0m\u001b[1;32mFalse\u001b[0m\u001b[1;33m)\u001b[0m\u001b[1;33m:\u001b[0m\u001b[1;33m\u001b[0m\u001b[1;33m\u001b[0m\u001b[0m\n\u001b[1;32m-> 1006\u001b[1;33m             \u001b[0mret\u001b[0m \u001b[1;33m=\u001b[0m \u001b[1;33m[\u001b[0m\u001b[0m_update_property\u001b[0m\u001b[1;33m(\u001b[0m\u001b[0mself\u001b[0m\u001b[1;33m,\u001b[0m \u001b[0mk\u001b[0m\u001b[1;33m,\u001b[0m \u001b[0mv\u001b[0m\u001b[1;33m)\u001b[0m \u001b[1;32mfor\u001b[0m \u001b[0mk\u001b[0m\u001b[1;33m,\u001b[0m \u001b[0mv\u001b[0m \u001b[1;32min\u001b[0m \u001b[0mprops\u001b[0m\u001b[1;33m.\u001b[0m\u001b[0mitems\u001b[0m\u001b[1;33m(\u001b[0m\u001b[1;33m)\u001b[0m\u001b[1;33m]\u001b[0m\u001b[1;33m\u001b[0m\u001b[1;33m\u001b[0m\u001b[0m\n\u001b[0m\u001b[0;32m   1007\u001b[0m \u001b[1;33m\u001b[0m\u001b[0m\n\u001b[0;32m   1008\u001b[0m         \u001b[1;32mif\u001b[0m \u001b[0mlen\u001b[0m\u001b[1;33m(\u001b[0m\u001b[0mret\u001b[0m\u001b[1;33m)\u001b[0m\u001b[1;33m:\u001b[0m\u001b[1;33m\u001b[0m\u001b[1;33m\u001b[0m\u001b[0m\n",
      "\u001b[1;32mC:\\Anaconda3\\lib\\site-packages\\matplotlib\\artist.py\u001b[0m in \u001b[0;36m<listcomp>\u001b[1;34m(.0)\u001b[0m\n\u001b[0;32m   1004\u001b[0m \u001b[1;33m\u001b[0m\u001b[0m\n\u001b[0;32m   1005\u001b[0m         \u001b[1;32mwith\u001b[0m \u001b[0mcbook\u001b[0m\u001b[1;33m.\u001b[0m\u001b[0m_setattr_cm\u001b[0m\u001b[1;33m(\u001b[0m\u001b[0mself\u001b[0m\u001b[1;33m,\u001b[0m \u001b[0meventson\u001b[0m\u001b[1;33m=\u001b[0m\u001b[1;32mFalse\u001b[0m\u001b[1;33m)\u001b[0m\u001b[1;33m:\u001b[0m\u001b[1;33m\u001b[0m\u001b[1;33m\u001b[0m\u001b[0m\n\u001b[1;32m-> 1006\u001b[1;33m             \u001b[0mret\u001b[0m \u001b[1;33m=\u001b[0m \u001b[1;33m[\u001b[0m\u001b[0m_update_property\u001b[0m\u001b[1;33m(\u001b[0m\u001b[0mself\u001b[0m\u001b[1;33m,\u001b[0m \u001b[0mk\u001b[0m\u001b[1;33m,\u001b[0m \u001b[0mv\u001b[0m\u001b[1;33m)\u001b[0m \u001b[1;32mfor\u001b[0m \u001b[0mk\u001b[0m\u001b[1;33m,\u001b[0m \u001b[0mv\u001b[0m \u001b[1;32min\u001b[0m \u001b[0mprops\u001b[0m\u001b[1;33m.\u001b[0m\u001b[0mitems\u001b[0m\u001b[1;33m(\u001b[0m\u001b[1;33m)\u001b[0m\u001b[1;33m]\u001b[0m\u001b[1;33m\u001b[0m\u001b[1;33m\u001b[0m\u001b[0m\n\u001b[0m\u001b[0;32m   1007\u001b[0m \u001b[1;33m\u001b[0m\u001b[0m\n\u001b[0;32m   1008\u001b[0m         \u001b[1;32mif\u001b[0m \u001b[0mlen\u001b[0m\u001b[1;33m(\u001b[0m\u001b[0mret\u001b[0m\u001b[1;33m)\u001b[0m\u001b[1;33m:\u001b[0m\u001b[1;33m\u001b[0m\u001b[1;33m\u001b[0m\u001b[0m\n",
      "\u001b[1;32mC:\\Anaconda3\\lib\\site-packages\\matplotlib\\artist.py\u001b[0m in \u001b[0;36m_update_property\u001b[1;34m(self, k, v)\u001b[0m\n\u001b[0;32m    999\u001b[0m                 \u001b[0mfunc\u001b[0m \u001b[1;33m=\u001b[0m \u001b[0mgetattr\u001b[0m\u001b[1;33m(\u001b[0m\u001b[0mself\u001b[0m\u001b[1;33m,\u001b[0m \u001b[1;34m'set_'\u001b[0m \u001b[1;33m+\u001b[0m \u001b[0mk\u001b[0m\u001b[1;33m,\u001b[0m \u001b[1;32mNone\u001b[0m\u001b[1;33m)\u001b[0m\u001b[1;33m\u001b[0m\u001b[1;33m\u001b[0m\u001b[0m\n\u001b[0;32m   1000\u001b[0m                 \u001b[1;32mif\u001b[0m \u001b[1;32mnot\u001b[0m \u001b[0mcallable\u001b[0m\u001b[1;33m(\u001b[0m\u001b[0mfunc\u001b[0m\u001b[1;33m)\u001b[0m\u001b[1;33m:\u001b[0m\u001b[1;33m\u001b[0m\u001b[1;33m\u001b[0m\u001b[0m\n\u001b[1;32m-> 1001\u001b[1;33m                     raise AttributeError('{!r} object has no property {!r}'\n\u001b[0m\u001b[0;32m   1002\u001b[0m                                          .format(type(self).__name__, k))\n\u001b[0;32m   1003\u001b[0m                 \u001b[1;32mreturn\u001b[0m \u001b[0mfunc\u001b[0m\u001b[1;33m(\u001b[0m\u001b[0mv\u001b[0m\u001b[1;33m)\u001b[0m\u001b[1;33m\u001b[0m\u001b[1;33m\u001b[0m\u001b[0m\n",
      "\u001b[1;31mAttributeError\u001b[0m: 'Line2D' object has no property 'lable'"
     ]
    },
    {
     "data": {
      "image/png": "[encoded data removed]",
      "text/plain": [
       "<Figure size 800x480 with 1 Axes>"
      ]
     },
     "metadata": {
      "needs_background": "light"
     },
     "output_type": "display_data"
    }
   ],
   "source": [
    "import numpy as np\n",
    "import random\n",
    "import matplotlib.pyplot as plt\n",
    "\n",
    "NameOfFarm = \"Raymond's Happy Farm Yard\"\n",
    "emailOfFarm = \"liaoh1@myumanitoba.ca\"\n",
    "location = \"Xi'an Shaanxi China\"\n",
    "print(\"Welcome to {}, the location of farm yard is {}. My email is {}, if you have any problem, feel free to contact me.\".format(NameOfFarm, location, emailOfFarm))\n",
    "\n",
    "regularPriceOfApple = 8\n",
    "regularPriceOfBanana = 10\n",
    "regularPriceOfOrange = 9\n",
    "regularPriceOfMango = 15\n",
    "\n",
    "costOfApple = 1\n",
    "costOfBanana = 2\n",
    "costOfOrange = 1.5\n",
    "costOfMango = 4\n",
    "\n",
    "appleSold = 3000\n",
    "bananaSold = 2000\n",
    "orangeSold = 5000\n",
    "mangoSold = 8000\n",
    "\n",
    "totalEarned = regularPriceOfApple * appleSold + regularPriceOfBanana * bananaSold + regularPriceOfOrange * orangeSold + regularPriceOfMango * mangoSold\n",
    "totalCost = costOfApple * appleSold + costOfBanana * bananaSold + costOfOrange * orangeSold + costOfMango * mangoSold\n",
    "totalProfit = totalEarned - totalCost\n",
    "\n",
    "print(\"The total earned money is \" + str(totalEarned))\n",
    "print(\"The total cost of farm yard is \" + str(totalCost))\n",
    "print(\"The total profit of this year is \" + str(totalProfit))\n",
    "\n",
    "VIPsID = [321,343,543,645,764,345,876,145,654,330,154,545,321,948,345,621,987]\n",
    "print(\"The VIPs ID are {}.\" .format(VIPsID))\n",
    "search1 = 332\n",
    "search2 = 654\n",
    "search3 = 555\n",
    "\n",
    "def searchVIP(search):\n",
    "    for i in VIPsID:\n",
    "        if i == search:\n",
    "            print(\"The VIP with VIPsID is {} has been found\".format(search))\n",
    "    print(\"Can not find the VIP with VIPsID {}.\".format(search))\n",
    "\n",
    "searchVIP(search1)\n",
    "searchVIP(search2)\n",
    "searchVIP(search3)\n",
    "\n",
    "retailerLocation = [\"Xi'an\", \"Shanghai\",\"Nanjing\",\"Wuhan\",\"Weinan\",\"Yan'an\",\"Guangzhou\",\"Beijin\",\"Tianjin\",\"Hongkong\",\"Taiwan\"]\n",
    "print(\"The retailers of location are: {}.\".format(retailerLocation))\n",
    "\n",
    "def searchLocation(location):\n",
    "    n = 0\n",
    "    found = False\n",
    "    while n < len(retailerLocation):\n",
    "        if(location == retailerLocation[n]):\n",
    "            print(\"{} has retailer, you can buy products there.\".format(location))\n",
    "            found = True\n",
    "            break\n",
    "        else:\n",
    "            n = n + 1\n",
    "    if(found == False):\n",
    "        print(\"{} has no retailer, sorry about that!\".format(location))\n",
    "\n",
    "location1 = \"Xi'an\"\n",
    "location2 = \"Qingyang\"\n",
    "location3 = \"Nanjing\"\n",
    "\n",
    "searchLocation(location1)\n",
    "searchLocation(location2)\n",
    "searchLocation(location3)\n",
    "\n",
    "plt.figure(figsize=(10,6),dpi=80)\n",
    "x = range(61)\n",
    "plt.ylim(0,38)\n",
    "y_xa = [random.uniform(5,12) for i in range(61)]\n",
    "plt.plot(x,y_xa,color = 'r', linestyle = \"--\", lable = \"Xi'an\")\n",
    "c = np.mean(y_xa)\n",
    "plt.axhline(y = c, color = \"c\", marker = \"x\", lable = \"mean value\")\n",
    "y_ticks = range(37)\n",
    "plt.xticks(x[::5])\n",
    "plt.yticks(y_ticks[::5])\n",
    "plt.title(\"11:00~12:00 temp change of farm\")\n",
    "plt.xlabel(\"time\")\n",
    "plt.ylabel(\"temp\")\n",
    "plt.legend(loc = 0)\n",
    "plt.show()\n",
    "\n"
   ]
  },
  {
   "cell_type": "code",
   "execution_count": 3,
   "metadata": {},
   "outputs": [
    {
     "name": "stdout",
     "output_type": "stream",
     "text": [
      "原始字符串为 : Runoob\n",
      "字符串移除后为 : Ruoob\n"
     ]
    }
   ],
   "source": [
    "test_str = \"Runoob\"\n",
    " \n",
    "# 输出原始字符串\n",
    "print (\"原始字符串为 : \" + test_str)\n",
    " \n",
    "# 移除第三个字符 n\n",
    "new_str = \"\"\n",
    " \n",
    "for i in range(0, len(test_str)):\n",
    "    if i != 2:\n",
    "        new_str = new_str + test_str[i]\n",
    "\n",
    "print (\"字符串移除后为 : \" + new_str)"
   ]
  },
  {
   "cell_type": "code",
   "execution_count": 4,
   "metadata": {},
   "outputs": [
    {
     "name": "stdout",
     "output_type": "stream",
     "text": [
      "排序后的数组:\n",
      "11\n",
      "12\n",
      "22\n",
      "25\n",
      "34\n",
      "64\n",
      "90\n"
     ]
    }
   ],
   "source": [
    "def bubbleSort(arr):\n",
    "    n = len(arr)\n",
    " \n",
    "    # 遍历所有数组元素\n",
    "    for i in range(n):\n",
    " \n",
    "        # Last i elements are already in place\n",
    "        for j in range(0, n-i-1):\n",
    " \n",
    "            if arr[j] > arr[j+1] :\n",
    "                arr[j], arr[j+1] = arr[j+1], arr[j]\n",
    " \n",
    "arr = [64, 34, 25, 12, 22, 11, 90]\n",
    " \n",
    "bubbleSort(arr)\n",
    " \n",
    "print (\"排序后的数组:\")\n",
    "for i in range(len(arr)):\n",
    "    print (\"%d\" %arr[i]),"
   ]
  },
  {
   "cell_type": "code",
   "execution_count": 5,
   "metadata": {},
   "outputs": [
    {
     "name": "stdout",
     "output_type": "stream",
     "text": [
      "总共有3121条鱼\n"
     ]
    }
   ],
   "source": [
    "def main():\n",
    "    fish = 1\n",
    "    while True:\n",
    "        total, enough = fish, True\n",
    "        for _ in range(5):\n",
    "            if (total - 1) % 5 == 0:\n",
    "                total = (total - 1)  //  5 * 4\n",
    "            else:\n",
    "                enough = False\n",
    "                break\n",
    "        if enough:\n",
    "            print(f'总共有{fish}条鱼')\n",
    "            break\n",
    "        fish += 1\n",
    "\n",
    "\n",
    "if __name__ == '__main__':\n",
    "    main()"
   ]
  },
  {
   "cell_type": "code",
   "execution_count": 6,
   "metadata": {},
   "outputs": [
    {
     "name": "stdout",
     "output_type": "stream",
     "text": [
      "hello world\n"
     ]
    }
   ],
   "source": [
    "print(\"hello world\")"
   ]
  },
  {
   "cell_type": "code",
   "execution_count": 2,
   "metadata": {},
   "outputs": [
    {
     "name": "stdout",
     "output_type": "stream",
     "text": [
      "本地时间为 : Fri Dec 18 11:59:47 2020\n"
     ]
    }
   ],
   "source": [
    "\n",
    "import time\n",
    "\n",
    "localtime = time.asctime( time.localtime(time.time()) )\n",
    "print (\"本地时间为 :\", localtime)"
   ]
  },
  {
   "cell_type": "code",
   "execution_count": 3,
   "metadata": {},
   "outputs": [
    {
     "name": "stdout",
     "output_type": "stream",
     "text": [
      "2020-12-18 12:00:05\n",
      "Fri Dec 18 12:00:05 2020\n",
      "1459175064.0\n"
     ]
    }
   ],
   "source": [
    "import time\n",
    "\n",
    "# 格式化成2016-03-20 11:45:39形式\n",
    "print (time.strftime(\"%Y-%m-%d %H:%M:%S\", time.localtime()))\n",
    "\n",
    "# 格式化成Sat Mar 28 22:24:24 2016形式\n",
    "print (time.strftime(\"%a %b %d %H:%M:%S %Y\", time.localtime()))\n",
    " \n",
    "# 将格式字符串转换为时间戳\n",
    "a = \"Sat Mar 28 22:24:24 2016\"\n",
    "print (time.mktime(time.strptime(a,\"%a %b %d %H:%M:%S %Y\")))"
   ]
  },
  {
   "cell_type": "code",
   "execution_count": 4,
   "metadata": {},
   "outputs": [
    {
     "name": "stdout",
     "output_type": "stream",
     "text": [
      "Sum : 600\n"
     ]
    }
   ],
   "source": [
    "def returnSum(myDict): \n",
    "      \n",
    "    sum = 0\n",
    "    for i in myDict: \n",
    "        sum = sum + myDict[i] \n",
    "      \n",
    "    return sum\n",
    "  \n",
    "dict = {'a': 100, 'b':200, 'c':300} \n",
    "print(\"Sum :\", returnSum(dict))"
   ]
  },
  {
   "cell_type": "code",
   "execution_count": 5,
   "metadata": {},
   "outputs": [
    {
     "name": "stdout",
     "output_type": "stream",
     "text": [
      "1 2 3\n",
      "1 2 4\n",
      "1 3 2\n",
      "1 3 4\n",
      "1 4 2\n",
      "1 4 3\n",
      "2 1 3\n",
      "2 1 4\n",
      "2 3 1\n",
      "2 3 4\n",
      "2 4 1\n",
      "2 4 3\n",
      "3 1 2\n",
      "3 1 4\n",
      "3 2 1\n",
      "3 2 4\n",
      "3 4 1\n",
      "3 4 2\n",
      "4 1 2\n",
      "4 1 3\n",
      "4 2 1\n",
      "4 2 3\n",
      "4 3 1\n",
      "4 3 2\n",
      "24\n"
     ]
    }
   ],
   "source": [
    "total=0\n",
    "for i in range(1,5):\n",
    "    for j in range(1,5):\n",
    "        for k in range(1,5):\n",
    "            if ((i!=j)and(j!=k)and(k!=i)):\n",
    "                print(i,j,k)\n",
    "                total+=1\n",
    "print(total)\n"
   ]
  },
  {
   "cell_type": "code",
   "execution_count": 6,
   "metadata": {},
   "outputs": [
    {
     "name": "stdout",
     "output_type": "stream",
     "text": [
      "(1, 2, 3)\n",
      "(1, 2, 4)\n",
      "(1, 3, 2)\n",
      "(1, 3, 4)\n",
      "(1, 4, 2)\n",
      "(1, 4, 3)\n",
      "(2, 1, 3)\n",
      "(2, 1, 4)\n",
      "(2, 3, 1)\n",
      "(2, 3, 4)\n",
      "(2, 4, 1)\n",
      "(2, 4, 3)\n",
      "(3, 1, 2)\n",
      "(3, 1, 4)\n",
      "(3, 2, 1)\n",
      "(3, 2, 4)\n",
      "(3, 4, 1)\n",
      "(3, 4, 2)\n",
      "(4, 1, 2)\n",
      "(4, 1, 3)\n",
      "(4, 2, 1)\n",
      "(4, 2, 3)\n",
      "(4, 3, 1)\n",
      "(4, 3, 2)\n",
      "24\n"
     ]
    }
   ],
   "source": [
    "import itertools\n",
    "sum2=0\n",
    "a=[1,2,3,4]\n",
    "for i in itertools.permutations(a,3):\n",
    "    print(i)\n",
    "    sum2+=1\n",
    "print(sum2)\n",
    "\n"
   ]
  },
  {
   "cell_type": "code",
   "execution_count": 7,
   "metadata": {},
   "outputs": [
    {
     "ename": "KeyboardInterrupt",
     "evalue": "Interrupted by user",
     "output_type": "error",
     "traceback": [
      "\u001b[1;31m---------------------------------------------------------------------------\u001b[0m",
      "\u001b[1;31mKeyboardInterrupt\u001b[0m                         Traceback (most recent call last)",
      "\u001b[1;32m<ipython-input-7-6c7a7a960ed7>\u001b[0m in \u001b[0;36m<module>\u001b[1;34m\u001b[0m\n\u001b[1;32m----> 1\u001b[1;33m \u001b[0mprofit\u001b[0m\u001b[1;33m=\u001b[0m\u001b[0mint\u001b[0m\u001b[1;33m(\u001b[0m\u001b[0minput\u001b[0m\u001b[1;33m(\u001b[0m\u001b[1;34m'Show me the money: '\u001b[0m\u001b[1;33m)\u001b[0m\u001b[1;33m)\u001b[0m\u001b[1;33m\u001b[0m\u001b[1;33m\u001b[0m\u001b[0m\n\u001b[0m\u001b[0;32m      2\u001b[0m \u001b[0mbonus\u001b[0m\u001b[1;33m=\u001b[0m\u001b[1;36m0\u001b[0m\u001b[1;33m\u001b[0m\u001b[1;33m\u001b[0m\u001b[0m\n\u001b[0;32m      3\u001b[0m \u001b[0mthresholds\u001b[0m\u001b[1;33m=\u001b[0m\u001b[1;33m[\u001b[0m\u001b[1;36m100000\u001b[0m\u001b[1;33m,\u001b[0m\u001b[1;36m100000\u001b[0m\u001b[1;33m,\u001b[0m\u001b[1;36m200000\u001b[0m\u001b[1;33m,\u001b[0m\u001b[1;36m200000\u001b[0m\u001b[1;33m,\u001b[0m\u001b[1;36m400000\u001b[0m\u001b[1;33m]\u001b[0m\u001b[1;33m\u001b[0m\u001b[1;33m\u001b[0m\u001b[0m\n\u001b[0;32m      4\u001b[0m \u001b[0mrates\u001b[0m\u001b[1;33m=\u001b[0m\u001b[1;33m[\u001b[0m\u001b[1;36m0.1\u001b[0m\u001b[1;33m,\u001b[0m\u001b[1;36m0.075\u001b[0m\u001b[1;33m,\u001b[0m\u001b[1;36m0.05\u001b[0m\u001b[1;33m,\u001b[0m\u001b[1;36m0.03\u001b[0m\u001b[1;33m,\u001b[0m\u001b[1;36m0.015\u001b[0m\u001b[1;33m,\u001b[0m\u001b[1;36m0.01\u001b[0m\u001b[1;33m]\u001b[0m\u001b[1;33m\u001b[0m\u001b[1;33m\u001b[0m\u001b[0m\n\u001b[0;32m      5\u001b[0m \u001b[1;32mfor\u001b[0m \u001b[0mi\u001b[0m \u001b[1;32min\u001b[0m \u001b[0mrange\u001b[0m\u001b[1;33m(\u001b[0m\u001b[0mlen\u001b[0m\u001b[1;33m(\u001b[0m\u001b[0mthresholds\u001b[0m\u001b[1;33m)\u001b[0m\u001b[1;33m)\u001b[0m\u001b[1;33m:\u001b[0m\u001b[1;33m\u001b[0m\u001b[1;33m\u001b[0m\u001b[0m\n",
      "\u001b[1;32mC:\\Anaconda3\\lib\\site-packages\\ipykernel\\kernelbase.py\u001b[0m in \u001b[0;36mraw_input\u001b[1;34m(self, prompt)\u001b[0m\n\u001b[0;32m    858\u001b[0m                 \u001b[1;34m\"raw_input was called, but this frontend does not support input requests.\"\u001b[0m\u001b[1;33m\u001b[0m\u001b[1;33m\u001b[0m\u001b[0m\n\u001b[0;32m    859\u001b[0m             )\n\u001b[1;32m--> 860\u001b[1;33m         return self._input_request(str(prompt),\n\u001b[0m\u001b[0;32m    861\u001b[0m             \u001b[0mself\u001b[0m\u001b[1;33m.\u001b[0m\u001b[0m_parent_ident\u001b[0m\u001b[1;33m,\u001b[0m\u001b[1;33m\u001b[0m\u001b[1;33m\u001b[0m\u001b[0m\n\u001b[0;32m    862\u001b[0m             \u001b[0mself\u001b[0m\u001b[1;33m.\u001b[0m\u001b[0m_parent_header\u001b[0m\u001b[1;33m,\u001b[0m\u001b[1;33m\u001b[0m\u001b[1;33m\u001b[0m\u001b[0m\n",
      "\u001b[1;32mC:\\Anaconda3\\lib\\site-packages\\ipykernel\\kernelbase.py\u001b[0m in \u001b[0;36m_input_request\u001b[1;34m(self, prompt, ident, parent, password)\u001b[0m\n\u001b[0;32m    902\u001b[0m             \u001b[1;32mexcept\u001b[0m \u001b[0mKeyboardInterrupt\u001b[0m\u001b[1;33m:\u001b[0m\u001b[1;33m\u001b[0m\u001b[1;33m\u001b[0m\u001b[0m\n\u001b[0;32m    903\u001b[0m                 \u001b[1;31m# re-raise KeyboardInterrupt, to truncate traceback\u001b[0m\u001b[1;33m\u001b[0m\u001b[1;33m\u001b[0m\u001b[1;33m\u001b[0m\u001b[0m\n\u001b[1;32m--> 904\u001b[1;33m                 \u001b[1;32mraise\u001b[0m \u001b[0mKeyboardInterrupt\u001b[0m\u001b[1;33m(\u001b[0m\u001b[1;34m\"Interrupted by user\"\u001b[0m\u001b[1;33m)\u001b[0m \u001b[1;32mfrom\u001b[0m \u001b[1;32mNone\u001b[0m\u001b[1;33m\u001b[0m\u001b[1;33m\u001b[0m\u001b[0m\n\u001b[0m\u001b[0;32m    905\u001b[0m             \u001b[1;32mexcept\u001b[0m \u001b[0mException\u001b[0m \u001b[1;32mas\u001b[0m \u001b[0me\u001b[0m\u001b[1;33m:\u001b[0m\u001b[1;33m\u001b[0m\u001b[1;33m\u001b[0m\u001b[0m\n\u001b[0;32m    906\u001b[0m                 \u001b[0mself\u001b[0m\u001b[1;33m.\u001b[0m\u001b[0mlog\u001b[0m\u001b[1;33m.\u001b[0m\u001b[0mwarning\u001b[0m\u001b[1;33m(\u001b[0m\u001b[1;34m\"Invalid Message:\"\u001b[0m\u001b[1;33m,\u001b[0m \u001b[0mexc_info\u001b[0m\u001b[1;33m=\u001b[0m\u001b[1;32mTrue\u001b[0m\u001b[1;33m)\u001b[0m\u001b[1;33m\u001b[0m\u001b[1;33m\u001b[0m\u001b[0m\n",
      "\u001b[1;31mKeyboardInterrupt\u001b[0m: Interrupted by user"
     ]
    }
   ],
   "source": [
    "profit=int(input('Show me the money: '))\n",
    "bonus=0\n",
    "thresholds=[100000,100000,200000,200000,400000]\n",
    "rates=[0.1,0.075,0.05,0.03,0.015,0.01]\n",
    "for i in range(len(thresholds)):\n",
    "    if profit<=thresholds[i]:\n",
    "        bonus+=profit*rates[i]\n",
    "        profit=0\n",
    "        break\n",
    "    else:\n",
    "        bonus+=thresholds[i]*rates[i]\n",
    "        profit-=thresholds[i]\n",
    "bonus+=profit*rates[-1]\n",
    "print(bonus)\n"
   ]
  },
  {
   "cell_type": "code",
   "execution_count": 10,
   "metadata": {},
   "outputs": [
    {
     "name": "stdout",
     "output_type": "stream",
     "text": [
      "85\n"
     ]
    }
   ],
   "source": [
    "n=0\n",
    "while (n+1)**2-n*n<=168:\n",
    "    n+=1\n",
    "\n",
    "print(n+1)\n",
    "\n"
   ]
  },
  {
   "cell_type": "code",
   "execution_count": 8,
   "metadata": {},
   "outputs": [
    {
     "name": "stdout",
     "output_type": "stream",
     "text": [
      "-99\n",
      "21\n",
      "261\n",
      "1581\n"
     ]
    }
   ],
   "source": [
    "n=0\n",
    "while (n+1)**2-n*n<=168:\n",
    "    n+=1\n",
    "\n",
    "for i in range((n+1)**2):\n",
    "    if i**0.5==int(i**0.5) and (i+168)**0.5==int((i+168)**0.5):\n",
    "        print(i-100)\n"
   ]
  },
  {
   "cell_type": "code",
   "execution_count": 11,
   "metadata": {},
   "outputs": [
    {
     "name": "stdout",
     "output_type": "stream",
     "text": [
      "Year:2222\n",
      "Month:2\n",
      "day:2\n",
      "33\n"
     ]
    }
   ],
   "source": [
    "def isLeapYear(y):\n",
    "    return (y%400==0 or (y%4==0 and y%100!=0))\n",
    "DofM=[0,31,28,31,30,31,30,31,31,30,31,30]\n",
    "res=0\n",
    "year=int(input('Year:'))\n",
    "month=int(input('Month:'))\n",
    "day=int(input('day:'))\n",
    "if isLeapYear(year):\n",
    "    DofM[2]+=1\n",
    "for i in range(month):\n",
    "    res+=DofM[i]\n",
    "print(res+day)\n",
    "\n"
   ]
  },
  {
   "cell_type": "code",
   "execution_count": 12,
   "metadata": {},
   "outputs": [
    {
     "name": "stdout",
     "output_type": "stream",
     "text": [
      "int0: 2\n",
      "int1: 7\n",
      "int2: 7\n",
      "[2, 7, 7]\n"
     ]
    },
    {
     "ename": "KeyboardInterrupt",
     "evalue": "Interrupted by user",
     "output_type": "error",
     "traceback": [
      "\u001b[1;31m---------------------------------------------------------------------------\u001b[0m",
      "\u001b[1;31mKeyboardInterrupt\u001b[0m                         Traceback (most recent call last)",
      "\u001b[1;32m<ipython-input-12-c7f521834d07>\u001b[0m in \u001b[0;36m<module>\u001b[1;34m\u001b[0m\n\u001b[0;32m     13\u001b[0m \u001b[0mraw2\u001b[0m\u001b[1;33m=\u001b[0m\u001b[1;33m[\u001b[0m\u001b[1;33m]\u001b[0m\u001b[1;33m\u001b[0m\u001b[1;33m\u001b[0m\u001b[0m\n\u001b[0;32m     14\u001b[0m \u001b[1;32mfor\u001b[0m \u001b[0mi\u001b[0m \u001b[1;32min\u001b[0m \u001b[0mrange\u001b[0m\u001b[1;33m(\u001b[0m\u001b[1;36m3\u001b[0m\u001b[1;33m)\u001b[0m\u001b[1;33m:\u001b[0m\u001b[1;33m\u001b[0m\u001b[1;33m\u001b[0m\u001b[0m\n\u001b[1;32m---> 15\u001b[1;33m     \u001b[0mx\u001b[0m\u001b[1;33m=\u001b[0m\u001b[0mint\u001b[0m\u001b[1;33m(\u001b[0m\u001b[0minput\u001b[0m\u001b[1;33m(\u001b[0m\u001b[1;34m'int%d: '\u001b[0m\u001b[1;33m%\u001b[0m\u001b[1;33m(\u001b[0m\u001b[0mi\u001b[0m\u001b[1;33m)\u001b[0m\u001b[1;33m)\u001b[0m\u001b[1;33m)\u001b[0m\u001b[1;33m\u001b[0m\u001b[1;33m\u001b[0m\u001b[0m\n\u001b[0m\u001b[0;32m     16\u001b[0m     \u001b[0mraw2\u001b[0m\u001b[1;33m.\u001b[0m\u001b[0mappend\u001b[0m\u001b[1;33m(\u001b[0m\u001b[0mx\u001b[0m\u001b[1;33m)\u001b[0m\u001b[1;33m\u001b[0m\u001b[1;33m\u001b[0m\u001b[0m\n\u001b[0;32m     17\u001b[0m \u001b[0mprint\u001b[0m\u001b[1;33m(\u001b[0m\u001b[0msorted\u001b[0m\u001b[1;33m(\u001b[0m\u001b[0mraw2\u001b[0m\u001b[1;33m)\u001b[0m\u001b[1;33m)\u001b[0m\u001b[1;33m\u001b[0m\u001b[1;33m\u001b[0m\u001b[0m\n",
      "\u001b[1;32mC:\\Anaconda3\\lib\\site-packages\\ipykernel\\kernelbase.py\u001b[0m in \u001b[0;36mraw_input\u001b[1;34m(self, prompt)\u001b[0m\n\u001b[0;32m    858\u001b[0m                 \u001b[1;34m\"raw_input was called, but this frontend does not support input requests.\"\u001b[0m\u001b[1;33m\u001b[0m\u001b[1;33m\u001b[0m\u001b[0m\n\u001b[0;32m    859\u001b[0m             )\n\u001b[1;32m--> 860\u001b[1;33m         return self._input_request(str(prompt),\n\u001b[0m\u001b[0;32m    861\u001b[0m             \u001b[0mself\u001b[0m\u001b[1;33m.\u001b[0m\u001b[0m_parent_ident\u001b[0m\u001b[1;33m,\u001b[0m\u001b[1;33m\u001b[0m\u001b[1;33m\u001b[0m\u001b[0m\n\u001b[0;32m    862\u001b[0m             \u001b[0mself\u001b[0m\u001b[1;33m.\u001b[0m\u001b[0m_parent_header\u001b[0m\u001b[1;33m,\u001b[0m\u001b[1;33m\u001b[0m\u001b[1;33m\u001b[0m\u001b[0m\n",
      "\u001b[1;32mC:\\Anaconda3\\lib\\site-packages\\ipykernel\\kernelbase.py\u001b[0m in \u001b[0;36m_input_request\u001b[1;34m(self, prompt, ident, parent, password)\u001b[0m\n\u001b[0;32m    902\u001b[0m             \u001b[1;32mexcept\u001b[0m \u001b[0mKeyboardInterrupt\u001b[0m\u001b[1;33m:\u001b[0m\u001b[1;33m\u001b[0m\u001b[1;33m\u001b[0m\u001b[0m\n\u001b[0;32m    903\u001b[0m                 \u001b[1;31m# re-raise KeyboardInterrupt, to truncate traceback\u001b[0m\u001b[1;33m\u001b[0m\u001b[1;33m\u001b[0m\u001b[1;33m\u001b[0m\u001b[0m\n\u001b[1;32m--> 904\u001b[1;33m                 \u001b[1;32mraise\u001b[0m \u001b[0mKeyboardInterrupt\u001b[0m\u001b[1;33m(\u001b[0m\u001b[1;34m\"Interrupted by user\"\u001b[0m\u001b[1;33m)\u001b[0m \u001b[1;32mfrom\u001b[0m \u001b[1;32mNone\u001b[0m\u001b[1;33m\u001b[0m\u001b[1;33m\u001b[0m\u001b[0m\n\u001b[0m\u001b[0;32m    905\u001b[0m             \u001b[1;32mexcept\u001b[0m \u001b[0mException\u001b[0m \u001b[1;32mas\u001b[0m \u001b[0me\u001b[0m\u001b[1;33m:\u001b[0m\u001b[1;33m\u001b[0m\u001b[1;33m\u001b[0m\u001b[0m\n\u001b[0;32m    906\u001b[0m                 \u001b[0mself\u001b[0m\u001b[1;33m.\u001b[0m\u001b[0mlog\u001b[0m\u001b[1;33m.\u001b[0m\u001b[0mwarning\u001b[0m\u001b[1;33m(\u001b[0m\u001b[1;34m\"Invalid Message:\"\u001b[0m\u001b[1;33m,\u001b[0m \u001b[0mexc_info\u001b[0m\u001b[1;33m=\u001b[0m\u001b[1;32mTrue\u001b[0m\u001b[1;33m)\u001b[0m\u001b[1;33m\u001b[0m\u001b[1;33m\u001b[0m\u001b[0m\n",
      "\u001b[1;31mKeyboardInterrupt\u001b[0m: Interrupted by user"
     ]
    }
   ],
   "source": [
    "raw=[]\n",
    "for i in range(3):\n",
    "    x=int(input('int%d: '%(i)))\n",
    "    raw.append(x)\n",
    "    \n",
    "for i in range(len(raw)):\n",
    "    for j in range(i,len(raw)):\n",
    "        if raw[i]>raw[j]:\n",
    "            raw[i],raw[j]=raw[j],raw[i]\n",
    "print(raw)\n",
    "\n",
    "\n",
    "raw2=[]\n",
    "for i in range(3):\n",
    "    x=int(input('int%d: '%(i)))\n",
    "    raw2.append(x)\n",
    "print(sorted(raw2))\n",
    "\n"
   ]
  },
  {
   "cell_type": "code",
   "execution_count": 13,
   "metadata": {},
   "outputs": [
    {
     "name": "stdout",
     "output_type": "stream",
     "text": [
      "4\n",
      "3\n",
      "4\n",
      "3\n"
     ]
    }
   ],
   "source": [
    "# 递归实现\n",
    "def Fib(n):\n",
    "    return 1 if n<=2 else Fib(n-1)+Fib(n-2)\n",
    "print(Fib(int(input())))\n",
    "    \n",
    "# 朴素实现\n",
    "target=int(input())\n",
    "res=0\n",
    "a,b=1,1\n",
    "for i in range(target-1):\n",
    "    a,b=b,a+b\n",
    "print(a)"
   ]
  },
  {
   "cell_type": "code",
   "execution_count": 14,
   "metadata": {},
   "outputs": [
    {
     "name": "stdout",
     "output_type": "stream",
     "text": [
      "繁殖几个月？： 22\n",
      "第1个月共 1 对兔子\n",
      "其中1月兔： 0\n",
      "其中2月兔： 1\n",
      "其中3月兔： 0\n",
      "其中成年兔： 0\n",
      "第2个月共 1 对兔子\n",
      "其中1月兔： 0\n",
      "其中2月兔： 0\n",
      "其中3月兔： 1\n",
      "其中成年兔： 0\n",
      "第3个月共 2 对兔子\n",
      "其中1月兔： 1\n",
      "其中2月兔： 0\n",
      "其中3月兔： 0\n",
      "其中成年兔： 1\n",
      "第4个月共 3 对兔子\n",
      "其中1月兔： 1\n",
      "其中2月兔： 1\n",
      "其中3月兔： 0\n",
      "其中成年兔： 1\n",
      "第5个月共 4 对兔子\n",
      "其中1月兔： 1\n",
      "其中2月兔： 1\n",
      "其中3月兔： 1\n",
      "其中成年兔： 1\n",
      "第6个月共 6 对兔子\n",
      "其中1月兔： 2\n",
      "其中2月兔： 1\n",
      "其中3月兔： 1\n",
      "其中成年兔： 2\n",
      "第7个月共 9 对兔子\n",
      "其中1月兔： 3\n",
      "其中2月兔： 2\n",
      "其中3月兔： 1\n",
      "其中成年兔： 3\n",
      "第8个月共 13 对兔子\n",
      "其中1月兔： 4\n",
      "其中2月兔： 3\n",
      "其中3月兔： 2\n",
      "其中成年兔： 4\n",
      "第9个月共 19 对兔子\n",
      "其中1月兔： 6\n",
      "其中2月兔： 4\n",
      "其中3月兔： 3\n",
      "其中成年兔： 6\n",
      "第10个月共 28 对兔子\n",
      "其中1月兔： 9\n",
      "其中2月兔： 6\n",
      "其中3月兔： 4\n",
      "其中成年兔： 9\n",
      "第11个月共 41 对兔子\n",
      "其中1月兔： 13\n",
      "其中2月兔： 9\n",
      "其中3月兔： 6\n",
      "其中成年兔： 13\n",
      "第12个月共 60 对兔子\n",
      "其中1月兔： 19\n",
      "其中2月兔： 13\n",
      "其中3月兔： 9\n",
      "其中成年兔： 19\n",
      "第13个月共 88 对兔子\n",
      "其中1月兔： 28\n",
      "其中2月兔： 19\n",
      "其中3月兔： 13\n",
      "其中成年兔： 28\n",
      "第14个月共 129 对兔子\n",
      "其中1月兔： 41\n",
      "其中2月兔： 28\n",
      "其中3月兔： 19\n",
      "其中成年兔： 41\n",
      "第15个月共 189 对兔子\n",
      "其中1月兔： 60\n",
      "其中2月兔： 41\n",
      "其中3月兔： 28\n",
      "其中成年兔： 60\n",
      "第16个月共 277 对兔子\n",
      "其中1月兔： 88\n",
      "其中2月兔： 60\n",
      "其中3月兔： 41\n",
      "其中成年兔： 88\n",
      "第17个月共 406 对兔子\n",
      "其中1月兔： 129\n",
      "其中2月兔： 88\n",
      "其中3月兔： 60\n",
      "其中成年兔： 129\n",
      "第18个月共 595 对兔子\n",
      "其中1月兔： 189\n",
      "其中2月兔： 129\n",
      "其中3月兔： 88\n",
      "其中成年兔： 189\n",
      "第19个月共 872 对兔子\n",
      "其中1月兔： 277\n",
      "其中2月兔： 189\n",
      "其中3月兔： 129\n",
      "其中成年兔： 277\n",
      "第20个月共 1278 对兔子\n",
      "其中1月兔： 406\n",
      "其中2月兔： 277\n",
      "其中3月兔： 189\n",
      "其中成年兔： 406\n",
      "第21个月共 1873 对兔子\n",
      "其中1月兔： 595\n",
      "其中2月兔： 406\n",
      "其中3月兔： 277\n",
      "其中成年兔： 595\n",
      "第22个月共 2745 对兔子\n",
      "其中1月兔： 872\n",
      "其中2月兔： 595\n",
      "其中3月兔： 406\n",
      "其中成年兔： 872\n"
     ]
    }
   ],
   "source": [
    "month=int(input('繁殖几个月？： '))\n",
    "month_1=1\n",
    "month_2=0\n",
    "month_3=0\n",
    "month_elder=0\n",
    "for i in range(month):\n",
    "    month_1,month_2,month_3,month_elder=month_elder+month_3,month_1,month_2,month_elder+month_3\n",
    "    print('第%d个月共'%(i+1),month_1+month_2+month_3+month_elder,'对兔子')\n",
    "    print('其中1月兔：',month_1)\n",
    "    print('其中2月兔：',month_2)\n",
    "    print('其中3月兔：',month_3)\n",
    "    print('其中成年兔：',month_elder)\n"
   ]
  },
  {
   "cell_type": "code",
   "execution_count": 15,
   "metadata": {},
   "outputs": [
    {
     "name": "stdout",
     "output_type": "stream",
     "text": [
      "101\n",
      "103\n",
      "107\n",
      "109\n",
      "113\n",
      "127\n",
      "131\n",
      "137\n",
      "139\n",
      "149\n",
      "151\n",
      "157\n",
      "163\n",
      "167\n",
      "173\n",
      "179\n",
      "181\n",
      "191\n",
      "193\n",
      "197\n",
      "199\n",
      "\n",
      "Simplify the code with \"else\"\n",
      "\n",
      "101\n",
      "103\n",
      "107\n",
      "109\n",
      "113\n",
      "127\n",
      "131\n",
      "137\n",
      "139\n",
      "149\n",
      "151\n",
      "157\n",
      "163\n",
      "167\n",
      "173\n",
      "179\n",
      "181\n",
      "191\n",
      "193\n",
      "197\n",
      "199\n"
     ]
    }
   ],
   "source": [
    "import math\n",
    "for i in range(100,200):\n",
    "    flag=0\n",
    "    for j in range(2,round(math.sqrt(i))+1):\n",
    "        if i%j==0:\n",
    "            flag=1\n",
    "            break\n",
    "    if flag:\n",
    "        continue\n",
    "    print(i)\n",
    "\n",
    "\n",
    "print('\\nSimplify the code with \"else\"\\n')\n",
    "\n",
    "\n",
    "for i in range(100,200):\n",
    "    for j in range(2,round(math.sqrt(i))+1):\n",
    "        if i%j==0:\n",
    "            break\n",
    "    else:\n",
    "        print(i)\n"
   ]
  },
  {
   "cell_type": "code",
   "execution_count": 16,
   "metadata": {},
   "outputs": [
    {
     "name": "stdout",
     "output_type": "stream",
     "text": [
      "153\n",
      "370\n",
      "371\n",
      "407\n"
     ]
    }
   ],
   "source": [
    "for i in range(100,1000):\n",
    "    s=str(i)\n",
    "    one=int(s[-1])\n",
    "    ten=int(s[-2])\n",
    "    hun=int(s[-3])\n",
    "    if i == one**3+ten**3+hun**3:\n",
    "        print(i)\n"
   ]
  },
  {
   "cell_type": "code",
   "execution_count": 17,
   "metadata": {},
   "outputs": [
    {
     "name": "stdout",
     "output_type": "stream",
     "text": [
      "输入一个整数：222\n",
      "222 = 2*3*37"
     ]
    }
   ],
   "source": [
    "target=int(input('输入一个整数：'))\n",
    "print(target,'= ',end='')\n",
    "\n",
    "if target<0:\n",
    "    target=abs(target)\n",
    "    print('-1*',end='')\n",
    "\n",
    "flag=0\n",
    "if target<=1:\n",
    "    print(target)\n",
    "    flag=1\n",
    "\n",
    "\n",
    "while True:\n",
    "    if flag:\n",
    "        break\n",
    "    for i in range(2,int(target+1)):\n",
    "        if target%i==0:\n",
    "            print(\"%d\"%i,end='')\n",
    "            if target==i:\n",
    "                flag=1\n",
    "                break\n",
    "            print('*',end='')\n",
    "            target/=i\n",
    "            break\n",
    "        \n"
   ]
  },
  {
   "cell_type": "code",
   "execution_count": 18,
   "metadata": {},
   "outputs": [
    {
     "name": "stdout",
     "output_type": "stream",
     "text": [
      "输入分数：123123\n",
      "A\n"
     ]
    }
   ],
   "source": [
    "points=int(input('输入分数：'))\n",
    "if points>=90:\n",
    "    grade='A'\n",
    "elif points<60:\n",
    "    grade='C'\n",
    "else:\n",
    "    grade='B'\n",
    "print(grade)\n",
    "\n"
   ]
  },
  {
   "cell_type": "code",
   "execution_count": 19,
   "metadata": {},
   "outputs": [
    {
     "name": "stdout",
     "output_type": "stream",
     "text": [
      "2020-12-18\n",
      "2333-02-03\n",
      "18/12/2020\n",
      "1133-02-03\n"
     ]
    }
   ],
   "source": [
    "import datetime\n",
    "print(datetime.date.today())\n",
    "print(datetime.date(2333,2,3))\n",
    "print(datetime.date.today().strftime('%d/%m/%Y'))\n",
    "day=datetime.date(1111,2,3)\n",
    "day=day.replace(year=day.year+22)\n",
    "print(day)\n"
   ]
  },
  {
   "cell_type": "code",
   "execution_count": 20,
   "metadata": {},
   "outputs": [
    {
     "name": "stdout",
     "output_type": "stream",
     "text": [
      "a:z,b:x,c:y\n"
     ]
    }
   ],
   "source": [
    "a=set(['x','y','z'])\n",
    "b=set(['x','y','z'])\n",
    "c=set(['x','y','z'])\n",
    "c-=set(('x','z'))\n",
    "a-=set('x')\n",
    "for i in a:\n",
    "    for j in b:\n",
    "        for k in c:\n",
    "            if len(set((i,j,k)))==3:\n",
    "                print('a:%s,b:%s,c:%s'%(i,j,k))\n"
   ]
  },
  {
   "cell_type": "code",
   "execution_count": 21,
   "metadata": {},
   "outputs": [
    {
     "name": "stdout",
     "output_type": "stream",
     "text": [
      "32.66026079864164\n"
     ]
    }
   ],
   "source": [
    "a = 2.0\n",
    "b = 1.0\n",
    "s = 0\n",
    "for n in range(1,21):\n",
    "    s += a / b\n",
    "    a,b = a + b,a\n",
    "print (s)\n",
    "\n"
   ]
  },
  {
   "cell_type": "code",
   "execution_count": 22,
   "metadata": {},
   "outputs": [
    {
     "name": "stdout",
     "output_type": "stream",
     "text": [
      "2561327494111820313\n"
     ]
    }
   ],
   "source": [
    "res=1\n",
    "for i in range(20,1,-1):\n",
    "    res=i*res+1\n",
    "print(res)\n"
   ]
  },
  {
   "cell_type": "code",
   "execution_count": 23,
   "metadata": {},
   "outputs": [
    {
     "name": "stdout",
     "output_type": "stream",
     "text": [
      "随便你输入啥啦：234234\n",
      "不是回文串\n"
     ]
    }
   ],
   "source": [
    "n=input(\"随便你输入啥啦：\")\n",
    "a=0\n",
    "b=len(n)-1\n",
    "flag=True\n",
    "while a<b:\n",
    "    if n[a]!=n[b]:\n",
    "        print('不是回文串')\n",
    "        flag=False\n",
    "        break\n",
    "    a,b=a+1,b-1\n",
    "if flag:\n",
    "    print('是回文串')\n"
   ]
  },
  {
   "cell_type": "code",
   "execution_count": 24,
   "metadata": {},
   "outputs": [
    {
     "name": "stdout",
     "output_type": "stream",
     "text": [
      "请输入第一位字母:a\n"
     ]
    },
    {
     "ename": "KeyError",
     "evalue": "'a'",
     "output_type": "error",
     "traceback": [
      "\u001b[1;31m---------------------------------------------------------------------------\u001b[0m",
      "\u001b[1;31mKeyError\u001b[0m                                  Traceback (most recent call last)",
      "\u001b[1;32m<ipython-input-24-d6367bfe3d1a>\u001b[0m in \u001b[0;36m<module>\u001b[1;34m\u001b[0m\n\u001b[0;32m      8\u001b[0m       \u001b[1;34m'w'\u001b[0m\u001b[1;33m:\u001b[0m\u001b[1;34m'wensday'\u001b[0m\u001b[1;33m,\u001b[0m\u001b[1;33m\u001b[0m\u001b[1;33m\u001b[0m\u001b[0m\n\u001b[0;32m      9\u001b[0m       'f':'friday'}\n\u001b[1;32m---> 10\u001b[1;33m \u001b[0ma\u001b[0m\u001b[1;33m=\u001b[0m\u001b[0mweek\u001b[0m\u001b[1;33m[\u001b[0m\u001b[0mstr\u001b[0m\u001b[1;33m(\u001b[0m\u001b[0minput\u001b[0m\u001b[1;33m(\u001b[0m\u001b[1;34m'请输入第一位字母:'\u001b[0m\u001b[1;33m)\u001b[0m\u001b[1;33m)\u001b[0m\u001b[1;33m.\u001b[0m\u001b[0mlower\u001b[0m\u001b[1;33m(\u001b[0m\u001b[1;33m)\u001b[0m\u001b[1;33m]\u001b[0m\u001b[1;33m\u001b[0m\u001b[1;33m\u001b[0m\u001b[0m\n\u001b[0m\u001b[0;32m     11\u001b[0m \u001b[1;32mif\u001b[0m \u001b[0ma\u001b[0m\u001b[1;33m==\u001b[0m\u001b[0mweekT\u001b[0m \u001b[1;32mor\u001b[0m \u001b[0ma\u001b[0m\u001b[1;33m==\u001b[0m\u001b[0mweekS\u001b[0m\u001b[1;33m:\u001b[0m\u001b[1;33m\u001b[0m\u001b[1;33m\u001b[0m\u001b[0m\n\u001b[0;32m     12\u001b[0m     \u001b[0mprint\u001b[0m\u001b[1;33m(\u001b[0m\u001b[0ma\u001b[0m\u001b[1;33m[\u001b[0m\u001b[0mstr\u001b[0m\u001b[1;33m(\u001b[0m\u001b[0minput\u001b[0m\u001b[1;33m(\u001b[0m\u001b[1;34m'请输入第二位字母:'\u001b[0m\u001b[1;33m)\u001b[0m\u001b[1;33m)\u001b[0m\u001b[1;33m.\u001b[0m\u001b[0mlower\u001b[0m\u001b[1;33m(\u001b[0m\u001b[1;33m)\u001b[0m\u001b[1;33m]\u001b[0m\u001b[1;33m)\u001b[0m\u001b[1;33m\u001b[0m\u001b[1;33m\u001b[0m\u001b[0m\n",
      "\u001b[1;31mKeyError\u001b[0m: 'a'"
     ]
    }
   ],
   "source": [
    "weekT={'h':'thursday',\n",
    "       'u':'tuesday'}\n",
    "weekS={'a':'saturday',\n",
    "       'u':'sunday'}\n",
    "week={'t':weekT,\n",
    "      's':weekS,\n",
    "      'm':'monday',\n",
    "      'w':'wensday',\n",
    "      'f':'friday'}\n",
    "a=week[str(input('请输入第一位字母:')).lower()]\n",
    "if a==weekT or a==weekS:\n",
    "    print(a[str(input('请输入第二位字母:')).lower()])\n",
    "else:\n",
    "    print(a)\n",
    "\n"
   ]
  },
  {
   "cell_type": "code",
   "execution_count": 25,
   "metadata": {},
   "outputs": [
    {
     "name": "stdout",
     "output_type": "stream",
     "text": [
      "\u001b[93m警告的颜色字体?\u001b[0m\n"
     ]
    }
   ],
   "source": [
    "class bcolors:\n",
    "    HEADER = '\\033[95m'\n",
    "    OKBLUE = '\\033[94m'\n",
    "    OKGREEN = '\\033[92m'\n",
    "    WARNING = '\\033[93m'\n",
    "    FAIL = '\\033[91m'\n",
    "    ENDC = '\\033[0m'\n",
    "    BOLD = '\\033[1m'\n",
    "    UNDERLINE = '\\033[4m'\n",
    "print(bcolors.WARNING + \"警告的颜色字体?\" + bcolors.ENDC)\n"
   ]
  },
  {
   "cell_type": "code",
   "execution_count": 27,
   "metadata": {},
   "outputs": [
    {
     "name": "stdout",
     "output_type": "stream",
     "text": [
      "int0: 11\n",
      "int1: 113\n",
      "int2: 12\n",
      "int3: 45\n",
      "int4: 456\n",
      "int5: 78\n",
      "int6: 1\n",
      "int7: 654\n",
      "int8: 5\n",
      "int9: 5\n",
      "[1, 5, 5, 11, 12, 45, 78, 113, 456, 654]\n"
     ]
    }
   ],
   "source": [
    "raw=[]\n",
    "for i in range(10):\n",
    "    x=int(input('int%d: '%(i)))\n",
    "    raw.append(x)\n",
    "    \n",
    "for i in range(len(raw)):\n",
    "    for j in range(i,len(raw)):\n",
    "        if raw[i]>raw[j]:\n",
    "            raw[i],raw[j]=raw[j],raw[i]\n",
    "print(raw)\n",
    "\n"
   ]
  },
  {
   "cell_type": "code",
   "execution_count": null,
   "metadata": {},
   "outputs": [],
   "source": [
    "1\n"
   ]
  }
 ],
 "metadata": {
  "kernelspec": {
   "display_name": "Python 3",
   "language": "python",
   "name": "python3"
  },
  "language_info": {
   "codemirror_mode": {
    "name": "ipython",
    "version": 3
   },
   "file_extension": ".py",
   "mimetype": "text/x-python",
   "name": "python",
   "nbconvert_exporter": "python",
   "pygments_lexer": "ipython3",
   "version": "3.8.3"
  }
 },
 "nbformat": 4,
 "nbformat_minor": 4
}
