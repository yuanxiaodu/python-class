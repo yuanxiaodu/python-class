{
 "cells": [
  {
   "cell_type": "code",
   "execution_count": 1,
   "metadata": {},
   "outputs": [
    {
     "name": "stdout",
     "output_type": "stream",
     "text": [
      "[2, 3]\n"
     ]
    }
   ],
   "source": [
    "def twoSum(nums, target):\n",
    "    lens = len(nums)\n",
    "    j=-1\n",
    "    for i in range(lens):\n",
    "        if (target - nums[i]) in nums:\n",
    "            if (nums.count(target - nums[i]) == 1)&(target - nums[i] == nums[i]):#如果num2=num1,且nums中只出现了一次，说明找到是num1本身。\n",
    "                continue\n",
    "            else:\n",
    "                j = nums.index(target - nums[i],i+1) #index(x,i+1)是从num1后的序列后找num2                \n",
    "                break\n",
    "    if j>0:\n",
    "        return [i,j]\n",
    "    else:\n",
    "        return []\n",
    "print(twoSum([2,3,1,9],10))\n"
   ]
  },
  {
   "cell_type": "code",
   "execution_count": 2,
   "metadata": {},
   "outputs": [
    {
     "name": "stdout",
     "output_type": "stream",
     "text": [
      "3\n"
     ]
    }
   ],
   "source": [
    "def lengthOfLongestSubstring( s):\n",
    "        \"\"\"\n",
    "        :type s: str\n",
    "        :rtype: int\n",
    "        \"\"\"\n",
    "        st = {}\n",
    "        i, ans = 0, 0\n",
    "        for j in range(len(s)):\n",
    "            if s[j] in st:\n",
    "                i = max(st[s[j]], i)\n",
    "            ans = max(ans, j - i + 1)\n",
    "            st[s[j]] = j + 1\n",
    "        return ans;\n",
    "print(lengthOfLongestSubstring(\"abcabcbb\"))"
   ]
  },
  {
   "cell_type": "code",
   "execution_count": 7,
   "metadata": {},
   "outputs": [
    {
     "name": "stdout",
     "output_type": "stream",
     "text": [
      "2.0\n",
      "hello\n"
     ]
    }
   ],
   "source": [
    "def findMedianSortedArrays(nums1, nums2):\n",
    "        def findKthElement(arr1,arr2,k):\n",
    "            len1,len2 = len(arr1),len(arr2)\n",
    "            if len1 > len2:\n",
    "                return findKthElement(arr2,arr1,k)\n",
    "            if not arr1:\n",
    "                return arr2[k-1]\n",
    "            if k == 1:\n",
    "                return min(arr1[0],arr2[0])\n",
    "            i,j = min(k//2,len1)-1,min(k//2,len2)-1\n",
    "            if arr1[i] > arr2[j]:\n",
    "                return findKthElement(arr1,arr2[j+1:],k-j-1)\n",
    "            else:\n",
    "                return findKthElement(arr1[i+1:],arr2,k-i-1)\n",
    "        l1,l2 = len(nums1),len(nums2)\n",
    "        left,right = (l1+l2+1)//2,(l1+l2+2)//2\n",
    "        return (findKthElement(nums1,nums2,left)+findKthElement(nums1,nums2,right))/2\n",
    "print(findMedianSortedArrays([1,3],[2]))\n",
    "print('hello')"
   ]
  },
  {
   "cell_type": "code",
   "execution_count": 8,
   "metadata": {},
   "outputs": [
    {
     "name": "stdout",
     "output_type": "stream",
     "text": [
      "16\n"
     ]
    }
   ],
   "source": [
    "def maxArea( height):\n",
    "        left, right = 0, len(height) - 1  # 设定左右指针初始位置\n",
    "        max_vol = (right - left) * min(height[left], height[right])  # 设定初始最大容量\n",
    "        while left < right and right - left > 0:\n",
    "            # 主要是要考虑是移动左指针还有右指针，什么情况下移动，想清楚这点问题就解决了\n",
    "            # 移动短的边界，同时更新最大的容量\n",
    "            if height[left] <= height[right]:\n",
    "                left += 1\n",
    "                max_vol = max(max_vol, (right - left) * min(height[left], height[right]))\n",
    "            else:\n",
    "                right -= 1\n",
    "                max_vol = max(max_vol, (right - left) * min(height[left], height[right]))\n",
    "        return max_vol\n",
    "\n",
    "print(maxArea([4,3,2,1,4]))"
   ]
  },
  {
   "cell_type": "code",
   "execution_count": 9,
   "metadata": {},
   "outputs": [
    {
     "name": "stdout",
     "output_type": "stream",
     "text": [
      "ab\n"
     ]
    }
   ],
   "source": [
    "def longestCommonPrefix( s):\n",
    "        if not s:\n",
    "            return \"\"\n",
    "        res = s[0]\n",
    "        i = 1\n",
    "        while i < len(s):\n",
    "            while s[i].find(res) != 0:\n",
    "                res = res[0:len(res)-1]\n",
    "            i += 1\n",
    "        return res\n",
    "print(longestCommonPrefix([\"abc\",\"ab\"]))"
   ]
  },
  {
   "cell_type": "code",
   "execution_count": 10,
   "metadata": {},
   "outputs": [
    {
     "name": "stdout",
     "output_type": "stream",
     "text": [
      "a\n"
     ]
    }
   ],
   "source": [
    "def longestCommonPrefix(strs):\n",
    "        ans = ''\n",
    "        for i in zip(*strs):\n",
    "            if len(set(i)) == 1:\n",
    "                ans += i[0]\n",
    "            else:\n",
    "                break\n",
    "        return ans\n",
    "print(longestCommonPrefix([\"abc\",\"a\"]))"
   ]
  },
  {
   "cell_type": "code",
   "execution_count": 11,
   "metadata": {},
   "outputs": [
    {
     "name": "stdout",
     "output_type": "stream",
     "text": [
      "2\n"
     ]
    }
   ],
   "source": [
    "def removeElement(nums, val):\n",
    "        a = 0\n",
    "        b = 0\n",
    "\n",
    "        while a < len(nums):\n",
    "            if nums[a] != val:\n",
    "                nums[b] = nums[a]\n",
    "                b += 1\n",
    "            a += 1\n",
    "\n",
    "        return b\n",
    "print(removeElement(nums = [3,2,2,3], val = 3))"
   ]
  },
  {
   "cell_type": "code",
   "execution_count": 12,
   "metadata": {},
   "outputs": [
    {
     "name": "stdout",
     "output_type": "stream",
     "text": [
      "[[1, 2, 3], [1, 3, 2], [2, 1, 3], [2, 3, 1], [3, 1, 2], [3, 2, 1]]\n"
     ]
    }
   ],
   "source": [
    "def permute(nums):\n",
    "        \"\"\"\n",
    "        :type nums: List[int]\n",
    "        :rtype: List[List[int]]\n",
    "        \"\"\"\n",
    "        if len(nums) <= 1:\n",
    "            return [nums]\n",
    "        visited = [False for _ in range(len(nums))]  # 记录那些元素已经访问\n",
    "        res = []\n",
    "\n",
    "        def dfs(numbers, result, cur, visit):\n",
    "            if len(cur) == len(numbers):\n",
    "                result.append(cur[:])  # 这里记得用cur[:]或拷贝\n",
    "                return\n",
    "            for i in range(len(numbers)):\n",
    "                if visit[i]:  # 如果已经访问过某元素，直接跳过进下一个元素\n",
    "                    continue\n",
    "                cur.append(numbers[i])\n",
    "                visit[i] = True  # 将访问过的元素标记\n",
    "                dfs(numbers, result, cur, visit)\n",
    "                cur.pop()  # 恢复到之前状态\n",
    "                visit[i] = False  # 恢复到之前状态\n",
    "\n",
    "        dfs(nums, res, [], visited)\n",
    "        return res\n",
    "print(permute([1,2,3]))\n",
    "\n"
   ]
  },
  {
   "cell_type": "code",
   "execution_count": 16,
   "metadata": {},
   "outputs": [
    {
     "name": "stdout",
     "output_type": "stream",
     "text": [
      "True\n"
     ]
    }
   ],
   "source": [
    "directions = [(0, -1), (-1, 0), (0, 1), (1, 0)]\n",
    "\n",
    "def exist(board, word):\n",
    "    m = len(board)\n",
    "    if m == 0:\n",
    "        return False\n",
    "    n = len(board[0])\n",
    "\n",
    "    marked = [[False for _ in range(n)] for _ in range(m)]\n",
    "    for i in range(m):\n",
    "        for j in range(n):\n",
    "            # 对每一个格子都从头开始搜索\n",
    "            if search_word(board, word, 0, i, j, marked, m, n):\n",
    "                return True\n",
    "    return False\n",
    "\n",
    "def search_word(board, word, index,\n",
    "                  start_x, start_y, marked, m, n):\n",
    "    # 先写递归终止条件\n",
    "    if index == len(word) - 1:\n",
    "        return board[start_x][start_y] == word[index]\n",
    "\n",
    "    # 中间匹配了，再继续搜索\n",
    "    if board[start_x][start_y] == word[index]:\n",
    "        # 先占住这个位置，搜索不成功的话，要释放掉\n",
    "        marked[start_x][start_y] = True\n",
    "        for direction in directions:\n",
    "            new_x = start_x + direction[0]\n",
    "            new_y = start_y + direction[1]\n",
    "            # 注意：如果这一次 search word 成功的话，就返回\n",
    "            if 0 <= new_x < m and 0 <= new_y < n and \\\n",
    "                    not marked[new_x][new_y] and \\\n",
    "                    search_word(board, word,\n",
    "                                       index + 1,\n",
    "                                       new_x, new_y,\n",
    "                                       marked, m, n):\n",
    "                return True\n",
    "        marked[start_x][start_y] = False\n",
    "    return False\n",
    "print(exist(board =\n",
    "[\n",
    "  ['A','B','C','E'],\n",
    "  ['S','F','C','S'],\n",
    "  ['A','D','E','E']\n",
    "],word=\"SEE\"))"
   ]
  },
  {
   "cell_type": "code",
   "execution_count": 18,
   "metadata": {},
   "outputs": [
    {
     "name": "stdout",
     "output_type": "stream",
     "text": [
      "hh\n"
     ]
    }
   ],
   "source": [
    "def recoverTree(root):\n",
    "        \"\"\"\n",
    "        Do not return anything, modify root in-place instead.\n",
    "        \"\"\"\n",
    "        Trees = lambda x: [] if not x else Trees(x.left) + [x] + Trees(x.right)\n",
    "        a = Trees(root)\n",
    "        sa = sorted(a, key=lambda x: x.val)\n",
    "        p, q = [a[i] for i in range(len(a)) if a[i] != sa[i]]\n",
    "        p.val, q.val = q.val, p.val\n",
    "print(\"hh\")\n"
   ]
  },
  {
   "cell_type": "code",
   "execution_count": 20,
   "metadata": {},
   "outputs": [
    {
     "name": "stdout",
     "output_type": "stream",
     "text": [
      "True\n"
     ]
    }
   ],
   "source": [
    "def isPalindrome(s) :\n",
    "        #将字符串全部变为小写\n",
    "        s = s.lower()\n",
    "        a = []\n",
    "        #如果是字母或者数字，添加到数组元素中\n",
    "        for i in s:\n",
    "            if i in \"abcdefghijklmnopqrstuvwxyz0123456789\":\n",
    "                a.append(i)\n",
    "        #比较顺序跟逆序，返回结果\n",
    "        return(a[::1]==a[::-1])\n",
    "print(isPalindrome(\"A man, a plan, a canal: Panama\"))\n"
   ]
  },
  {
   "cell_type": "code",
   "execution_count": 21,
   "metadata": {},
   "outputs": [
    {
     "name": "stdout",
     "output_type": "stream",
     "text": [
      "[3, 3, 5, 5, 6, 7]\n"
     ]
    }
   ],
   "source": [
    "def maxSlidingWindow(nums, k):\n",
    "        \"\"\"\n",
    "        :type nums: List[int]\n",
    "        :type k: int\n",
    "        :rtype: List[int]\n",
    "        \"\"\"\n",
    "        # 从第m个开始, 之后k个中, 最大为第几个\n",
    "        def find(m, k, nums):\n",
    "            res = m\n",
    "            for i in range(m+1, m+k):\n",
    "                if nums[i] > nums[res]:\n",
    "                    res = i\n",
    "            # print(m, m+k-1, res)\n",
    "            return res\n",
    "        \n",
    "        # 初始从前k个找到最大的位置\n",
    "        m = find(0, k, nums)\n",
    "        res = [nums[m]]\n",
    "\n",
    "        # 之后每次加入一个新的数\n",
    "        for i in range(k, len(nums)):\n",
    "            # 如果最大的从滑块左侧溢出, 找一个新的最大\n",
    "            if i-k+1 > m:  \n",
    "                m = find(i-k+1, k, nums)\n",
    "            # 否则与新加入的进行比较, 更新\n",
    "            elif nums[m] < nums[i]:\n",
    "                # print(m)\n",
    "                m = i\n",
    "            res.append(nums[m])\n",
    "\n",
    "        return res\n",
    "print(maxSlidingWindow(nums = [1,3,-1,-3,5,3,6,7], k = 3))\n"
   ]
  },
  {
   "cell_type": "code",
   "execution_count": 25,
   "metadata": {},
   "outputs": [
    {
     "name": "stdout",
     "output_type": "stream",
     "text": [
      "True\n"
     ]
    }
   ],
   "source": [
    "def searchMatrix( matrix, target):\n",
    "        \"\"\"\n",
    "        :type matrix: List[List[int]]\n",
    "        :type target: int\n",
    "        :rtype: bool\n",
    "        \"\"\"\n",
    "        # 特殊情况处理：空的二维数组\n",
    "        if len(matrix) == 0:\n",
    "            return False\n",
    "        y = len(matrix) - 1\n",
    "        x_range = len(matrix[0]) - 1\n",
    "        x = 0\n",
    "        # 注意x、y的初始值和循环退出条件 \n",
    "        while x <= x_range and y >= 0:\n",
    "            # 注意这里取左下角坐标matrix[y][x]\n",
    "            if target > matrix[y][x]:\n",
    "                x += 1\n",
    "            elif target < matrix[y][x]:\n",
    "                y -= 1\n",
    "            else:\n",
    "                return True\n",
    "        \n",
    "        return  False\n",
    "print(searchMatrix(matrix = [[1,4,7,11,15],[2,5,8,12,19],[3,6,9,16,22],[10,13,14,17,24],[18,21,23,26,30]],\n",
    "                   target = 5))\n"
   ]
  },
  {
   "cell_type": "code",
   "execution_count": null,
   "metadata": {},
   "outputs": [],
   "source": []
  }
 ],
 "metadata": {
  "kernelspec": {
   "display_name": "Python 3",
   "language": "python",
   "name": "python3"
  },
  "language_info": {
   "codemirror_mode": {
    "name": "ipython",
    "version": 3
   },
   "file_extension": ".py",
   "mimetype": "text/x-python",
   "name": "python",
   "nbconvert_exporter": "python",
   "pygments_lexer": "ipython3",
   "version": "3.8.3"
  }
 },
 "nbformat": 4,
 "nbformat_minor": 4
}
