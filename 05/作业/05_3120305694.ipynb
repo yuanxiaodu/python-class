{
 "cells": [
  {
   "cell_type": "code",
   "execution_count": 2,
   "metadata": {},
   "outputs": [
    {
     "name": "stdout",
     "output_type": "stream",
     "text": [
      "[[0, 1, 4], [4, 4, 4], [4, 6, 10]]\n"
     ]
    }
   ],
   "source": [
    "            lst = [[0,1,2],[2,2,2],[2,3,2]]\n",
    "            lst1 = [[0,1,2],[2,2,2],[2,2,5]]\n",
    "            lst2 = []\n",
    "            for i in range(3):\n",
    "                lst2.append([])\n",
    "                for j in range(3):\n",
    "                    a = lst[i][j]*lst1[i][j]\n",
    "                    lst2[i].append(a)\n",
    "            print(lst2)"
   ]
  },
  {
   "cell_type": "code",
   "execution_count": 4,
   "metadata": {},
   "outputs": [
    {
     "name": "stdout",
     "output_type": "stream",
     "text": [
      "2\n",
      "[9, 9, 8, 8, 7, 6, 4, 2, 0]\n",
      "None\n",
      "[2]\n"
     ]
    }
   ],
   "source": [
    "\n",
    "        import random\n",
    "        lst = [2,9,8,4,7,0,6,9,8]\n",
    "        a=random.randint(1,5)\n",
    "        print(a)\n",
    "        l = lst.sort(reverse=True)\n",
    "        print(lst)\n",
    "        print(l)\n",
    "        l = random.choices(lst)\n",
    "        print(l)"
   ]
  },
  {
   "cell_type": "code",
   "execution_count": 5,
   "metadata": {},
   "outputs": [
    {
     "name": "stdout",
     "output_type": "stream",
     "text": [
      "[[1, 4, 7], [2, 5, 8], [3, 6, 9]]\n"
     ]
    }
   ],
   "source": [
    "        lst=[[1,2,3],[4,5,6],[7,8,9]]\n",
    "        lst2=[[],[],[]]\n",
    "        for i in range(3):\n",
    "            for j in range(3):\n",
    "                lst2[i].append(lst[j][(i)])\n",
    "        print(lst2)"
   ]
  },
  {
   "cell_type": "code",
   "execution_count": null,
   "metadata": {},
   "outputs": [],
   "source": [
    "        import random\n",
    "        l = input(\"输入一个数：\")\n",
    "        a = int(l)\n",
    "        lst = []\n",
    "        for i in range(len(l)):\n",
    "            x = a%10**(i+1)//10**i\n",
    "            lst.append(x)\n",
    "        print(lst)\n",
    "        for i in range(len(l)):\n",
    "            for j in range(len(l)-1):\n",
    "                if lst[j] > lst[j+1]:\n",
    "                    lst[j],lst[j+1] = lst[j+1],lst[j]\n",
    "        print(lst)"
   ]
  },
  {
   "cell_type": "code",
   "execution_count": null,
   "metadata": {},
   "outputs": [],
   "source": [
    "        import random\n",
    "        lst = [random.randint(1,20) for i in range(10)]\n",
    "        ls0 = []\n",
    "        ls1 = []\n",
    "        print(lst)\n",
    "        for i in range(10):\n",
    "            count = 1\n",
    "            if lst[i] in ls0:\n",
    "                continue\n",
    "            for j in range(i+1,len(lst)):\n",
    "                if lst[i] == lst[j]:\n",
    "                    count +=1\n",
    "                if count >= 2:\n",
    "                    ls0.append(lst[i])\n",
    "                else:\n",
    "                    ls1.append(lst[i])\n",
    "            print(lst[i],count)\n",
    "print(12)\n"
   ]
  },
  {
   "cell_type": "code",
   "execution_count": null,
   "metadata": {},
   "outputs": [],
   "source": [
    "        import random\n",
    "        l = []\n",
    "        for i in range(3):\n",
    "            a = int(input(\"请输入一个数：\"))\n",
    "            l.append(a)\n",
    "        for i in range(3):\n",
    "            for j in range(2-i):\n",
    "                if l[j] > l[j+1]:\n",
    "                    l[j],l[j+1] = l[j+1],l[j]\n",
    "        print(l)"
   ]
  },
  {
   "cell_type": "code",
   "execution_count": null,
   "metadata": {},
   "outputs": [],
   "source": [
    "        import random\n",
    "        st = \"hello#hello#hello#welcome#welcome\"\n",
    "        word = \"\"\n",
    "        for i in st:\n",
    "           if i !=\"#\":\n",
    "               word += i\n",
    "           else:\n",
    "               lst.append(word)\n",
    "               word = \"\"\n",
    "        print(lst)\n",
    "\n",
    "         print(st.upper())　         　　　#全部换成大写字母输出\n",
    "         print(st.center(70))      　　　#占70个位置居中打印，\n",
    "         print(st.zfill(50))          　　　 #占50个位置居右打印，前面的空位用０填充\n",
    "         print(st.replace(\"h\",\"Q\"))　　#将所有的h换成Ｑ\n",
    "         print(st.count(\"lo\"))　　   　　#统计“lo”出现的次数\n",
    "         print(st.split(\"o\",3))        　　#遇到o就分割，分割３次\n",
    "         ```"
   ]
  },
  {
   "cell_type": "code",
   "execution_count": null,
   "metadata": {},
   "outputs": [],
   "source": [
    "longstring = 'this is a long long long long long long long \\\n",
    "string'\n",
    "print(longstring)\n"
   ]
  },
  {
   "cell_type": "code",
   "execution_count": null,
   "metadata": {},
   "outputs": [],
   "source": [
    "a = 1\n",
    "b = 2\n",
    "c = a +\\\n",
    "b\n",
    "print(c)\n"
   ]
  },
  {
   "cell_type": "code",
   "execution_count": null,
   "metadata": {},
   "outputs": [],
   "source": [
    "detector = dlib.get_frontal_face_detector()\n",
    "predictor = dlib.shape_predictor(PREDICTOR_PATH)\n",
    "\n",
    "def get_landmarks(im):\n",
    "    rects = detector(im, 1)\n",
    "\n",
    "    if len(rects) > 1:\n",
    "        raise TooManyFaces\n",
    "    if len(rects) == 0:\n",
    "        raise NoFaces\n",
    "\n",
    "    return numpy.matrix([[p.x, p.y] for p in predictor(im, rects[0]).parts()])"
   ]
  },
  {
   "cell_type": "code",
   "execution_count": null,
   "metadata": {},
   "outputs": [],
   "source": [
    "def transformation_from_points(points1, points2):\n",
    "    points1 = points1.astype(numpy.float64)\n",
    "    points2 = points2.astype(numpy.float64)\n",
    "\n",
    "    c1 = numpy.mean(points1, axis=0)\n",
    "    c2 = numpy.mean(points2, axis=0)\n",
    "    points1 -= c1\n",
    "    points2 -= c2\n",
    "\n",
    "    s1 = numpy.std(points1)\n",
    "    s2 = numpy.std(points2)\n",
    "    points1 /= s1\n",
    "    points2 /= s2\n",
    "\n",
    "    U, S, Vt = numpy.linalg.svd(points1.T * points2)\n",
    "    R = (U * Vt).T\n",
    "\n",
    "    return numpy.vstack([numpy.hstack(((s2 / s1) * R,\n",
    "                                       c2.T - (s2 / s1) * R * c1.T)),\n",
    "                         numpy.matrix([0., 0., 1.])])"
   ]
  },
  {
   "cell_type": "code",
   "execution_count": null,
   "metadata": {},
   "outputs": [],
   "source": [
    "def warp_im(im, M, dshape):\n",
    "    output_im = numpy.zeros(dshape, dtype=im.dtype)\n",
    "    cv2.warpAffine(im,\n",
    "                   M[:2],\n",
    "                   (dshape[1], dshape[0]),\n",
    "                   dst=output_im,\n",
    "                   borderMode=cv2.BORDER_TRANSPARENT,\n",
    "                   flags=cv2.WARP_INVERSE_MAP)\n",
    "    return output_im"
   ]
  },
  {
   "cell_type": "code",
   "execution_count": null,
   "metadata": {},
   "outputs": [],
   "source": [
    "COLOUR_CORRECT_BLUR_FRAC = 0.6\n",
    "LEFT_EYE_POINTS = list(range(42, 48))\n",
    "RIGHT_EYE_POINTS = list(range(36, 42))\n",
    "\n",
    "def correct_colours(im1, im2, landmarks1):\n",
    "    blur_amount = COLOUR_CORRECT_BLUR_FRAC * numpy.linalg.norm(\n",
    "                              numpy.mean(landmarks1[LEFT_EYE_POINTS], axis=0) -\n",
    "                              numpy.mean(landmarks1[RIGHT_EYE_POINTS], axis=0))\n",
    "    blur_amount = int(blur_amount)\n",
    "    if blur_amount % 2 == 0:\n",
    "        blur_amount += 1\n",
    "    im1_blur = cv2.GaussianBlur(im1, (blur_amount, blur_amount), 0)\n",
    "    im2_blur = cv2.GaussianBlur(im2, (blur_amount, blur_amount), 0)\n",
    "\n",
    "    # Avoid divide-by-zero errors.\n",
    "    im2_blur += 128 * (im2_blur <= 1.0)\n",
    "\n",
    "    return (im2.astype(numpy.float64) * im1_blur.astype(numpy.float64) /\n",
    "                                                im2_blur.astype(numpy.float64))"
   ]
  },
  {
   "cell_type": "code",
   "execution_count": null,
   "metadata": {},
   "outputs": [],
   "source": [
    "LEFT_EYE_POINTS = list(range(42, 48))\n",
    "RIGHT_EYE_POINTS = list(range(36, 42))\n",
    "LEFT_BROW_POINTS = list(range(22, 27))\n",
    "RIGHT_BROW_POINTS = list(range(17, 22))\n",
    "NOSE_POINTS = list(range(27, 35))\n",
    "MOUTH_POINTS = list(range(48, 61))\n",
    "OVERLAY_POINTS = [\n",
    "    LEFT_EYE_POINTS + RIGHT_EYE_POINTS + LEFT_BROW_POINTS + RIGHT_BROW_POINTS,\n",
    "    NOSE_POINTS + MOUTH_POINTS,\n",
    "]\n",
    "FEATHER_AMOUNT = 11\n",
    "\n",
    "def draw_convex_hull(im, points, color):\n",
    "    points = cv2.convexHull(points)\n",
    "    cv2.fillConvexPoly(im, points, color=color)\n",
    "\n",
    "def get_face_mask(im, landmarks):\n",
    "    im = numpy.zeros(im.shape[:2], dtype=numpy.float64)\n",
    "\n",
    "    for group in OVERLAY_POINTS:\n",
    "        draw_convex_hull(im,\n",
    "                         landmarks[group],\n",
    "                         color=1)\n",
    "\n",
    "    im = numpy.array([im, im, im]).transpose((1, 2, 0))\n",
    "\n",
    "    im = (cv2.GaussianBlur(im, (FEATHER_AMOUNT, FEATHER_AMOUNT), 0) > 0) * 1.0\n",
    "    im = cv2.GaussianBlur(im, (FEATHER_AMOUNT, FEATHER_AMOUNT), 0)\n",
    "\n",
    "    return im\n",
    "\n",
    "mask = get_face_mask(im2, landmarks2)\n",
    "warped_mask = warp_im(mask, M, im1.shape)\n",
    "combined_mask = numpy.max([get_face_mask(im1, landmarks1), warped_mask],\n",
    "                          axis=0)"
   ]
  },
  {
   "cell_type": "code",
   "execution_count": null,
   "metadata": {},
   "outputs": [],
   "source": [
    "def terminate():\n",
    "    pygame.quit()\n",
    "    sys.exit()\n",
    "\n",
    "def waitForPlayerToPressKey():\n",
    "    while True:\n",
    "        for event in pygame.event.get():\n",
    "            if event.type == QUIT:\n",
    "                terminate()\n",
    "            if event.type == KEYDOWN:\n",
    "                if event.key == K_ESCAPE: # pressing escape quits\n",
    "                    terminate()\n",
    "                return\n",
    "\n",
    "def playerHasHitBaddie(playerRect, baddies):\n",
    "    for b in baddies:\n",
    "        if playerRect.colliderect(b['rect']):\n",
    "            return True\n",
    "    return False\n",
    "\n",
    "def drawText(text, font, surface, x, y):\n",
    "    textobj = font.render(text, 1, TEXTCOLOR)\n",
    "    textrect = textobj.get_rect()\n",
    "    textrect.topleft = (x, y)\n",
    "    surface.blit(textobj, textrect)\n"
   ]
  },
  {
   "cell_type": "code",
   "execution_count": null,
   "metadata": {},
   "outputs": [],
   "source": []
  }
 ],
 "metadata": {
  "kernelspec": {
   "display_name": "Python 3",
   "language": "python",
   "name": "python3"
  },
  "language_info": {
   "codemirror_mode": {
    "name": "ipython",
    "version": 3
   },
   "file_extension": ".py",
   "mimetype": "text/x-python",
   "name": "python",
   "nbconvert_exporter": "python",
   "pygments_lexer": "ipython3",
   "version": "3.8.5"
  }
 },
 "nbformat": 4,
 "nbformat_minor": 4
}
