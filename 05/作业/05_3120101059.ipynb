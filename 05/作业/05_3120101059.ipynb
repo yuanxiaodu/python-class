{
 "cells": [
  {
   "cell_type": "code",
   "execution_count": 2,
   "metadata": {},
   "outputs": [
    {
     "name": "stdout",
     "output_type": "stream",
     "text": [
      "Shanghai,China\n"
     ]
    }
   ],
   "source": [
    "#8-6\n",
    "def city_country(city,country):\n",
    "    w=city+\",\"+country\n",
    "    return w.title()\n",
    "q=city_country(\"shanghai\",\"china\")\n",
    "print(q)"
   ]
  },
  {
   "cell_type": "code",
   "execution_count": 3,
   "metadata": {},
   "outputs": [
    {
     "name": "stdout",
     "output_type": "stream",
     "text": [
      "{'singer_name': '叶惠美'}\n"
     ]
    }
   ],
   "source": [
    "#8-7\n",
    "music={}\n",
    "def make_album(singer_name,name):\n",
    "    music['singer_name']=name\n",
    "    return music\n",
    "q=make_album(\"周杰伦\",\"叶惠美\")\n",
    "print(q)"
   ]
  },
  {
   "cell_type": "code",
   "execution_count": 5,
   "metadata": {},
   "outputs": [
    {
     "name": "stdout",
     "output_type": "stream",
     "text": [
      "输入q结束\n"
     ]
    },
    {
     "name": "stdin",
     "output_type": "stream",
     "text": [
      "歌手的名字？ 周杰伦\n",
      "专辑的名字？ 叶惠美\n"
     ]
    },
    {
     "name": "stdout",
     "output_type": "stream",
     "text": [
      "输入q结束\n"
     ]
    },
    {
     "name": "stdin",
     "output_type": "stream",
     "text": [
      "歌手的名字？ q\n"
     ]
    },
    {
     "name": "stdout",
     "output_type": "stream",
     "text": [
      "{'singer_name': '周杰伦', 'album_name': '叶惠美'}\n"
     ]
    }
   ],
   "source": [
    "#8-8\n",
    "music={}\n",
    "def make_album(singer_name,album_name):\n",
    "    music['singer_name']=singer_name\n",
    "    music['album_name']=album_name\n",
    "    return music\n",
    "while True:\n",
    "    print(\"输入q结束\")\n",
    "    singer=input(\"歌手的名字？\")\n",
    "    if singer=='q':\n",
    "        break\n",
    "    name=input(\"专辑的名字？\")\n",
    "    if name=='q':\n",
    "        break\n",
    "    q=make_album(singer,name)\n",
    "print(q)"
   ]
  },
  {
   "cell_type": "code",
   "execution_count": 10,
   "metadata": {},
   "outputs": [
    {
     "name": "stdout",
     "output_type": "stream",
     "text": [
      "{'singer_name': '周杰伦', 'name': '叶惠美', 'song_number': '27'}\n"
     ]
    }
   ],
   "source": [
    "music={}\n",
    "def make_album(singer_name,name,song_number=''):\n",
    "    music={'singer_name':singer_name,'name':name}\n",
    "    if song_number:\n",
    "        music['song_number']=song_number\n",
    "    return music\n",
    "q=make_album(\"周杰伦\",\"叶惠美\",\"27\")\n",
    "print(q)"
   ]
  },
  {
   "cell_type": "code",
   "execution_count": 1,
   "metadata": {},
   "outputs": [
    {
     "name": "stdout",
     "output_type": "stream",
     "text": [
      "l\n",
      "a\n",
      "s\n"
     ]
    }
   ],
   "source": [
    "#8-9\n",
    "def show_magicians(magicians):\n",
    "    for magician in magicians:\n",
    "        print(magician)\n",
    "magicians=['l','a','s']\n",
    "show_magicians(magicians)"
   ]
  },
  {
   "cell_type": "code",
   "execution_count": 4,
   "metadata": {},
   "outputs": [
    {
     "name": "stdout",
     "output_type": "stream",
     "text": [
      "['the Great s', 'the Great a', 'the Great l']\n"
     ]
    }
   ],
   "source": [
    "#8-10\n",
    "def make_great(unchange_magicians,change_magicians):\n",
    "    while unchange_magicians:\n",
    "        magician=\"the Great \"+unchange_magicians.pop()\n",
    "        change_magicians.append(magician)\n",
    "    print(change_magicians)\n",
    "magicians=['l','a','s']\n",
    "change_magicians=[]\n",
    "make_great(magicians,change_magicians)"
   ]
  },
  {
   "cell_type": "code",
   "execution_count": 6,
   "metadata": {},
   "outputs": [
    {
     "name": "stdout",
     "output_type": "stream",
     "text": [
      "l\n",
      "a\n",
      "s\n",
      "\n",
      "\n",
      "the Great s\n",
      "the Great a\n",
      "the Great l\n"
     ]
    }
   ],
   "source": [
    "#8-11\n",
    "def make_great(unchange_magicians,change_magicians):\n",
    "    while unchange_magicians:\n",
    "        magician=\"the Great \"+unchange_magicians.pop()\n",
    "        change_magicians.append(magician)\n",
    "def show_magicians(magicians):\n",
    "    for magician in magicians:\n",
    "        print(magician)\n",
    "magicians=['l','a','s']\n",
    "change_magicians=[]\n",
    "make_great(magicians[:],change_magicians)\n",
    "show_magicians(magicians)\n",
    "print(\"\\n\")\n",
    "show_magicians(change_magicians)"
   ]
  },
  {
   "cell_type": "code",
   "execution_count": 7,
   "metadata": {},
   "outputs": [
    {
     "ename": "NameError",
     "evalue": "name 'food_ingredients' is not defined",
     "output_type": "error",
     "traceback": [
      "\u001b[1;31m---------------------------------------------------------------------------\u001b[0m",
      "\u001b[1;31mNameError\u001b[0m                                 Traceback (most recent call last)",
      "\u001b[1;32m<ipython-input-7-3138e14e4c86>\u001b[0m in \u001b[0;36m<module>\u001b[1;34m\u001b[0m\n\u001b[0;32m      4\u001b[0m     \u001b[1;32mfor\u001b[0m \u001b[0mfood_ingredient\u001b[0m \u001b[1;32min\u001b[0m \u001b[0mfood_ingredients\u001b[0m\u001b[1;33m:\u001b[0m\u001b[1;33m\u001b[0m\u001b[1;33m\u001b[0m\u001b[0m\n\u001b[0;32m      5\u001b[0m         \u001b[0mprint\u001b[0m\u001b[1;33m(\u001b[0m\u001b[1;34m\"-\"\u001b[0m\u001b[1;33m+\u001b[0m\u001b[0mfood_ingredient\u001b[0m\u001b[1;33m)\u001b[0m\u001b[1;33m\u001b[0m\u001b[1;33m\u001b[0m\u001b[0m\n\u001b[1;32m----> 6\u001b[1;33m \u001b[0mfood_ingredients\u001b[0m\u001b[1;33m(\u001b[0m\u001b[1;34m'西红柿'\u001b[0m\u001b[1;33m,\u001b[0m\u001b[1;34m'牛肉'\u001b[0m\u001b[1;33m,\u001b[0m\u001b[1;34m'洋葱'\u001b[0m\u001b[1;33m)\u001b[0m\u001b[1;33m\u001b[0m\u001b[1;33m\u001b[0m\u001b[0m\n\u001b[0m",
      "\u001b[1;31mNameError\u001b[0m: name 'food_ingredients' is not defined"
     ]
    }
   ],
   "source": [
    "#8-12\n",
    "def sandwich(*food_ingredients):\n",
    "    print(\"\\n你所需要的食材\")\n",
    "    for food_ingredient in food_ingredients:\n",
    "        print(\"-\"+food_ingredient)\n",
    "food_ingredients('西红柿','牛肉','洋葱')"
   ]
  },
  {
   "cell_type": "code",
   "execution_count": 9,
   "metadata": {},
   "outputs": [
    {
     "name": "stdout",
     "output_type": "stream",
     "text": [
      "\n",
      "你所需要的食材:\n",
      "-西红柿\n",
      "-牛肉\n",
      "-洋葱\n"
     ]
    }
   ],
   "source": [
    "#8-12\n",
    "def sandwich(*food_ingredients):\n",
    "    print(\"\\n你所需要的食材:\")\n",
    "    for food_ingredient in food_ingredients:\n",
    "        print(\"-\"+food_ingredient)\n",
    "sandwich('西红柿','牛肉','洋葱')"
   ]
  },
  {
   "cell_type": "code",
   "execution_count": 1,
   "metadata": {},
   "outputs": [
    {
     "name": "stdout",
     "output_type": "stream",
     "text": [
      "{'first_name': 'Zhang', 'last_name': 'Jintao', 'like': '游戏', 'unlike': '西红柿', 'english_name': 'Jett'}\n"
     ]
    }
   ],
   "source": [
    "#8-13\n",
    "def build_profile(first,last,**user_info):\n",
    "    profile={}\n",
    "    profile['first_name']=first\n",
    "    profile['last_name']=last\n",
    "    for key,value in user_info.items():\n",
    "        profile[key]=value\n",
    "    return profile\n",
    "user_profile=build_profile('Zhang','Jintao',like='游戏',unlike='西红柿',english_name='Jett')\n",
    "print(user_profile)"
   ]
  },
  {
   "cell_type": "code",
   "execution_count": 2,
   "metadata": {},
   "outputs": [
    {
     "name": "stdout",
     "output_type": "stream",
     "text": [
      "{'car_brand': 'subaru', 'car_model': 'outback', 'color': 'blue', 'tow_package': True}\n"
     ]
    }
   ],
   "source": [
    "#8-14\n",
    "def car_information(brand,model,**car_info):\n",
    "    profile={}\n",
    "    profile['car_brand']=brand\n",
    "    profile['car_model']=model\n",
    "    for key,value in car_info.items():\n",
    "        profile[key]=value\n",
    "    return profile\n",
    "car_profile=car_information('subaru','outback',color='blue',tow_package=True)\n",
    "print(car_profile)"
   ]
  },
  {
   "cell_type": "code",
   "execution_count": 3,
   "metadata": {},
   "outputs": [
    {
     "name": "stdout",
     "output_type": "stream",
     "text": [
      "{'car_brand': 'subaru', 'car_model': 'outback', 'color': 'blue', 'tow_package': True}\n"
     ]
    }
   ],
   "source": [
    "#8-15\n",
    "import printing_functions\n",
    "car_profile=printing_functions.car_information('subaru','outback',color='blue',tow_package=True)\n",
    "print(car_profile)"
   ]
  },
  {
   "cell_type": "code",
   "execution_count": 4,
   "metadata": {},
   "outputs": [
    {
     "ename": "ImportError",
     "evalue": "cannot import name 'car_profile' from 'printing_functions' (C:\\Users\\LuYuan\\printing_functions.py)",
     "output_type": "error",
     "traceback": [
      "\u001b[1;31m---------------------------------------------------------------------------\u001b[0m",
      "\u001b[1;31mImportError\u001b[0m                               Traceback (most recent call last)",
      "\u001b[1;32m<ipython-input-4-ef09d31eba8e>\u001b[0m in \u001b[0;36m<module>\u001b[1;34m\u001b[0m\n\u001b[1;32m----> 1\u001b[1;33m \u001b[1;32mfrom\u001b[0m \u001b[0mprinting_functions\u001b[0m \u001b[1;32mimport\u001b[0m \u001b[0mcar_profile\u001b[0m\u001b[1;33m\u001b[0m\u001b[1;33m\u001b[0m\u001b[0m\n\u001b[0m\u001b[0;32m      2\u001b[0m \u001b[0mcar_profile\u001b[0m\u001b[1;33m=\u001b[0m\u001b[0mcar_information\u001b[0m\u001b[1;33m(\u001b[0m\u001b[1;34m'subaru'\u001b[0m\u001b[1;33m,\u001b[0m\u001b[1;34m'outback'\u001b[0m\u001b[1;33m,\u001b[0m\u001b[0mcolor\u001b[0m\u001b[1;33m=\u001b[0m\u001b[1;34m'blue'\u001b[0m\u001b[1;33m,\u001b[0m\u001b[0mtow_package\u001b[0m\u001b[1;33m=\u001b[0m\u001b[1;32mTrue\u001b[0m\u001b[1;33m)\u001b[0m\u001b[1;33m\u001b[0m\u001b[1;33m\u001b[0m\u001b[0m\n\u001b[0;32m      3\u001b[0m \u001b[0mprint\u001b[0m\u001b[1;33m(\u001b[0m\u001b[0mcar_profile\u001b[0m\u001b[1;33m)\u001b[0m\u001b[1;33m\u001b[0m\u001b[1;33m\u001b[0m\u001b[0m\n",
      "\u001b[1;31mImportError\u001b[0m: cannot import name 'car_profile' from 'printing_functions' (C:\\Users\\LuYuan\\printing_functions.py)"
     ]
    }
   ],
   "source": [
    "from printing_functions import car_profile\n",
    "car_profile=car_information('subaru','outback',color='blue',tow_package=True)\n",
    "print(car_profile)"
   ]
  },
  {
   "cell_type": "code",
   "execution_count": 5,
   "metadata": {},
   "outputs": [
    {
     "name": "stdout",
     "output_type": "stream",
     "text": [
      "{'car_brand': 'subaru', 'car_model': 'outback', 'color': 'blue', 'tow_package': True}\n"
     ]
    }
   ],
   "source": [
    "from printing_functions import car_information\n",
    "car_profile=car_information('subaru','outback',color='blue',tow_package=True)\n",
    "print(car_profile)"
   ]
  },
  {
   "cell_type": "code",
   "execution_count": 6,
   "metadata": {},
   "outputs": [
    {
     "name": "stdout",
     "output_type": "stream",
     "text": [
      "{'car_brand': 'subaru', 'car_model': 'outback', 'color': 'blue', 'tow_package': True}\n"
     ]
    }
   ],
   "source": [
    "from printing_functions import car_information as ci\n",
    "car_profile=ci('subaru','outback',color='blue',tow_package=True)\n",
    "print(car_profile)"
   ]
  },
  {
   "cell_type": "code",
   "execution_count": 7,
   "metadata": {},
   "outputs": [
    {
     "name": "stdout",
     "output_type": "stream",
     "text": [
      "{'car_brand': 'subaru', 'car_model': 'outback', 'color': 'blue', 'tow_package': True}\n"
     ]
    }
   ],
   "source": [
    "import printing_functions as pf\n",
    "car_profile=pf.car_information('subaru','outback',color='blue',tow_package=True)\n",
    "print(car_profile)"
   ]
  },
  {
   "cell_type": "code",
   "execution_count": 8,
   "metadata": {},
   "outputs": [
    {
     "name": "stdout",
     "output_type": "stream",
     "text": [
      "{'car_brand': 'subaru', 'car_model': 'outback', 'color': 'blue', 'tow_package': True}\n"
     ]
    }
   ],
   "source": [
    "from printing_functions import *\n",
    "car_profile=car_information('subaru','outback',color='blue',tow_package=True)\n",
    "print(car_profile)"
   ]
  },
  {
   "cell_type": "code",
   "execution_count": 1,
   "metadata": {},
   "outputs": [
    {
     "name": "stdout",
     "output_type": "stream",
     "text": [
      "(1+2j)\n"
     ]
    }
   ],
   "source": [
    "x=1\n",
    "y=2\n",
    "z=complex(x,y)\n",
    "print(z)"
   ]
  },
  {
   "cell_type": "code",
   "execution_count": 2,
   "metadata": {},
   "outputs": [
    {
     "name": "stdout",
     "output_type": "stream",
     "text": [
      "1.0\n"
     ]
    }
   ],
   "source": [
    "x=1\n",
    "z=float(x)\n",
    "print(z)"
   ]
  },
  {
   "cell_type": "code",
   "execution_count": 3,
   "metadata": {},
   "outputs": [
    {
     "name": "stdout",
     "output_type": "stream",
     "text": [
      "1\n"
     ]
    }
   ],
   "source": [
    "x=1.2\n",
    "z=int(x)\n",
    "print(z)"
   ]
  },
  {
   "cell_type": "code",
   "execution_count": 4,
   "metadata": {},
   "outputs": [
    {
     "name": "stdout",
     "output_type": "stream",
     "text": [
      "4\n"
     ]
    }
   ],
   "source": [
    "z=72//15#输出整除数\n",
    "print(z)"
   ]
  },
  {
   "cell_type": "code",
   "execution_count": 5,
   "metadata": {},
   "outputs": [
    {
     "name": "stdout",
     "output_type": "stream",
     "text": [
      "2.0\n"
     ]
    }
   ],
   "source": [
    "z=12//5.0#//返回的并不一定是整型\n",
    "print(z)"
   ]
  },
  {
   "cell_type": "code",
   "execution_count": 6,
   "metadata": {},
   "outputs": [
    {
     "name": "stdout",
     "output_type": "stream",
     "text": [
      "256\n"
     ]
    }
   ],
   "source": [
    "z=2**8#幂运算\n",
    "print(z)"
   ]
  },
  {
   "cell_type": "code",
   "execution_count": 3,
   "metadata": {},
   "outputs": [
    {
     "name": "stdout",
     "output_type": "stream",
     "text": [
      "sgadfcvww\n",
      "ww\n",
      "sgadfcvww\n",
      "d\n",
      "s\n"
     ]
    }
   ],
   "source": [
    "z=\"sgadfcvwwd\"\n",
    "print(z[:-1])\n",
    "print(z[-3:-1])\n",
    "print(z[0:-1])\n",
    "print(z[9])\n",
    "print(z[-10])"
   ]
  },
  {
   "cell_type": "code",
   "execution_count": 8,
   "metadata": {},
   "outputs": [
    {
     "name": "stdout",
     "output_type": "stream",
     "text": [
      "已更新字符串:  Hello Runoob\n"
     ]
    }
   ],
   "source": [
    "var1='Hello World!'\n",
    "print(\"已更新字符串: \",var1[:6]+'Runoob')"
   ]
  },
  {
   "cell_type": "code",
   "execution_count": 10,
   "metadata": {},
   "outputs": [
    {
     "name": "stdout",
     "output_type": "stream",
     "text": [
      "\n",
      "\n",
      "\\n\n",
      "\\n\n"
     ]
    }
   ],
   "source": [
    "print('\\n')\n",
    "print(r'\\n')\n",
    "print(R'\\n')"
   ]
  },
  {
   "cell_type": "code",
   "execution_count": 12,
   "metadata": {},
   "outputs": [
    {
     "name": "stdout",
     "output_type": "stream",
     "text": [
      "HelloPython\n",
      "HelloHello\n",
      "H在a中\n",
      "M不在a中\n"
     ]
    }
   ],
   "source": [
    "a='Hello'\n",
    "b='Python'\n",
    "print(a+b)\n",
    "print(a*2)\n",
    "if(\"H\"in a):\n",
    "    print(\"H在a中\")\n",
    "else:\n",
    "    print(\"H不在a中\")\n",
    "if(\"M\" not in a):\n",
    "    print(\"M不在a中\")"
   ]
  },
  {
   "cell_type": "code",
   "execution_count": 2,
   "metadata": {},
   "outputs": [
    {
     "name": "stdout",
     "output_type": "stream",
     "text": [
      "\u0007\n"
     ]
    }
   ],
   "source": [
    "print(\"\\a\")"
   ]
  },
  {
   "cell_type": "code",
   "execution_count": 3,
   "metadata": {},
   "outputs": [
    {
     "name": "stdout",
     "output_type": "stream",
     "text": [
      "['hello', 'world', 'hello', 'world', 'hello', 'world']\n"
     ]
    }
   ],
   "source": [
    "list=['hello','world']\n",
    "lists=list*3\n",
    "print(lists)"
   ]
  },
  {
   "cell_type": "code",
   "execution_count": 8,
   "metadata": {},
   "outputs": [
    {
     "name": "stdout",
     "output_type": "stream",
     "text": [
      "1\n",
      "['hello', 'world', '1', '2']\n",
      "2\n",
      "hello \n",
      "\n",
      "world \n",
      "\n",
      "1 \n",
      "\n",
      "2 \n",
      "\n"
     ]
    }
   ],
   "source": [
    "list=['hello','world']\n",
    "q=['1','2']\n",
    "z=len(list)\n",
    "lists=list+q\n",
    "if('hello' in lists):\n",
    "    print('1')\n",
    "else:\n",
    "    print('2')\n",
    "print(lists)\n",
    "print(z)\n",
    "for x in lists:\n",
    "    print(x,\"\\n\")"
   ]
  },
  {
   "cell_type": "code",
   "execution_count": 9,
   "metadata": {},
   "outputs": [
    {
     "name": "stdout",
     "output_type": "stream",
     "text": [
      "c\n"
     ]
    }
   ],
   "source": [
    "#嵌套\n",
    "a=['a','b','c']\n",
    "n=[1,2,3]\n",
    "x=[a,n]\n",
    "print(x[0][2])"
   ]
  },
  {
   "cell_type": "code",
   "execution_count": 10,
   "metadata": {},
   "outputs": [
    {
     "name": "stdout",
     "output_type": "stream",
     "text": [
      "<class 'tuple'>\n"
     ]
    }
   ],
   "source": [
    "#元组和列表类似，不同之处在于元组的元素不能修改\n",
    "tup1=(50,)\n",
    "print(type(tup1))"
   ]
  },
  {
   "cell_type": "code",
   "execution_count": 14,
   "metadata": {},
   "outputs": [
    {
     "name": "stdout",
     "output_type": "stream",
     "text": [
      "('Google', 'Runoob', 1997, 2000)\n"
     ]
    },
    {
     "ename": "NameError",
     "evalue": "name 'tup' is not defined",
     "output_type": "error",
     "traceback": [
      "\u001b[1;31m---------------------------------------------------------------------------\u001b[0m",
      "\u001b[1;31mNameError\u001b[0m                                 Traceback (most recent call last)",
      "\u001b[1;32m<ipython-input-14-e2b2f233a083>\u001b[0m in \u001b[0;36m<module>\u001b[1;34m\u001b[0m\n\u001b[0;32m      2\u001b[0m \u001b[0mprint\u001b[0m\u001b[1;33m(\u001b[0m\u001b[0mtup\u001b[0m\u001b[1;33m)\u001b[0m\u001b[1;33m\u001b[0m\u001b[1;33m\u001b[0m\u001b[0m\n\u001b[0;32m      3\u001b[0m \u001b[1;32mdel\u001b[0m \u001b[0mtup\u001b[0m\u001b[1;33m\u001b[0m\u001b[1;33m\u001b[0m\u001b[0m\n\u001b[1;32m----> 4\u001b[1;33m \u001b[0mprint\u001b[0m\u001b[1;33m(\u001b[0m\u001b[0mtup\u001b[0m\u001b[1;33m)\u001b[0m\u001b[1;33m\u001b[0m\u001b[1;33m\u001b[0m\u001b[0m\n\u001b[0m",
      "\u001b[1;31mNameError\u001b[0m: name 'tup' is not defined"
     ]
    }
   ],
   "source": [
    "tup=('Google','Runoob',1997,2000)\n",
    "print(tup)\n",
    "del tup\n",
    "print(tup)"
   ]
  },
  {
   "cell_type": "code",
   "execution_count": 16,
   "metadata": {},
   "outputs": [
    {
     "name": "stdout",
     "output_type": "stream",
     "text": [
      "('Google', 'Runoob', 1997, 2000, 'Google', 'Runoob', 1997, 2000, 'Google', 'Runoob', 1997, 2000, 'Google', 'Runoob', 1997, 2000)\n",
      "1\n"
     ]
    }
   ],
   "source": [
    "tup=('Google','Runoob',1997,2000)\n",
    "print(tup*4)\n",
    "if(1997 in tup):\n",
    "    print(1)"
   ]
  },
  {
   "cell_type": "code",
   "execution_count": 18,
   "metadata": {},
   "outputs": [
    {
     "name": "stdout",
     "output_type": "stream",
     "text": [
      "Runoob\n",
      "8\n"
     ]
    }
   ],
   "source": [
    "dict={'Name':'Runoob','Age':7,'Class':'First'}\n",
    "print(dict['Name'])\n",
    "dict['Age']=8\n",
    "print(dict['Age'])"
   ]
  },
  {
   "cell_type": "code",
   "execution_count": 20,
   "metadata": {},
   "outputs": [
    {
     "name": "stdout",
     "output_type": "stream",
     "text": [
      "Runoob\n"
     ]
    }
   ],
   "source": [
    "#键必须不可变，所以可以用数字，字符串或元组充当，而用列表就不行\n",
    "dict={['Name']:'Runoob','Age':7}\n",
    "print(dict['Name'])"
   ]
  },
  {
   "cell_type": "code",
   "execution_count": 24,
   "metadata": {},
   "outputs": [
    {
     "name": "stdout",
     "output_type": "stream",
     "text": [
      "{'Name': 'Runoob', 'Age': 7}\n",
      "<class 'dict'>\n",
      "<class 'str'>\n"
     ]
    }
   ],
   "source": [
    "dict={'Name':'Runoob','Age':7}\n",
    "z=str(dict)\n",
    "print(z)\n",
    "print(type(dict))\n",
    "print(type(z))"
   ]
  },
  {
   "cell_type": "code",
   "execution_count": 25,
   "metadata": {},
   "outputs": [
    {
     "name": "stdout",
     "output_type": "stream",
     "text": [
      "{'r', 'c', 'a', 'd', 'b'}\n"
     ]
    }
   ],
   "source": [
    "#集合set是一个无序的不重复元素序列\n",
    "a=set('abracadabra')\n",
    "b=set('alacazam')\n",
    "print(a)"
   ]
  },
  {
   "cell_type": "code",
   "execution_count": 26,
   "metadata": {},
   "outputs": [
    {
     "name": "stdout",
     "output_type": "stream",
     "text": [
      "1\n",
      "1\n",
      "2\n",
      "3\n",
      "5\n",
      "8\n"
     ]
    }
   ],
   "source": [
    "a,b=0,1\n",
    "while b<10:\n",
    "    print(b)\n",
    "    a,b=b,a+b"
   ]
  },
  {
   "cell_type": "code",
   "execution_count": 27,
   "metadata": {},
   "outputs": [
    {
     "name": "stdout",
     "output_type": "stream",
     "text": [
      "1,1,2,3,5,8,13,21,34,55,89,144,233,377,610,987,"
     ]
    }
   ],
   "source": [
    "a,b=0,1\n",
    "while b<1000:\n",
    "    print(b,end=',')\n",
    "    a,b=b,a+b"
   ]
  },
  {
   "cell_type": "code",
   "execution_count": 28,
   "metadata": {},
   "outputs": [
    {
     "ename": "SyntaxError",
     "evalue": "invalid syntax (<ipython-input-28-21f05d8b0ab9>, line 7)",
     "output_type": "error",
     "traceback": [
      "\u001b[1;36m  File \u001b[1;32m\"<ipython-input-28-21f05d8b0ab9>\"\u001b[1;36m, line \u001b[1;32m7\u001b[0m\n\u001b[1;33m    print(%(n,sum))\u001b[0m\n\u001b[1;37m          ^\u001b[0m\n\u001b[1;31mSyntaxError\u001b[0m\u001b[1;31m:\u001b[0m invalid syntax\n"
     ]
    }
   ],
   "source": [
    "n=100\n",
    "sum=0\n",
    "counter=1\n",
    "while counter<=n:\n",
    "    sum=sum+counter\n",
    "    counter+=1\n",
    "print(%(n,sum))"
   ]
  },
  {
   "cell_type": "code",
   "execution_count": null,
   "metadata": {},
   "outputs": [],
   "source": []
  }
 ],
 "metadata": {
  "kernelspec": {
   "display_name": "Python 3",
   "language": "python",
   "name": "python3"
  },
  "language_info": {
   "codemirror_mode": {
    "name": "ipython",
    "version": 3
   },
   "file_extension": ".py",
   "mimetype": "text/x-python",
   "name": "python",
   "nbconvert_exporter": "python",
   "pygments_lexer": "ipython3",
   "version": "3.8.3"
  }
 },
 "nbformat": 4,
 "nbformat_minor": 4
}
