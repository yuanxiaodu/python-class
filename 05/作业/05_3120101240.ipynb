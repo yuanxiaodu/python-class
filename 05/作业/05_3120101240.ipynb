{
 "cells": [
  {
   "cell_type": "code",
   "execution_count": 5,
   "metadata": {},
   "outputs": [
    {
     "name": "stdin",
     "output_type": "stream",
     "text": [
      "int0:  123\n",
      "int1:  213\n",
      "int2:  321\n"
     ]
    },
    {
     "name": "stdout",
     "output_type": "stream",
     "text": [
      "[123, 213, 321]\n"
     ]
    },
    {
     "name": "stdin",
     "output_type": "stream",
     "text": [
      "int0:  123\n",
      "int1:  213\n",
      "int2:  321\n"
     ]
    },
    {
     "name": "stdout",
     "output_type": "stream",
     "text": [
      "[123, 213, 321]\n"
     ]
    }
   ],
   "source": [
    "#输入三个整数x,y,z，请把这三个数由小到大输出。\n",
    "#!/usr/bin/python\n",
    "# -*- coding: UTF-8 -*- \n",
    "raw=[]\n",
    "for i in range(3):\n",
    "    x=int(input('int%d: '%(i)))\n",
    "    raw.append(x)\n",
    "    \n",
    "for i in range(len(raw)):\n",
    "    for j in range(i,len(raw)):\n",
    "        if raw[i]>raw[j]:\n",
    "            raw[i],raw[j]=raw[j],raw[i]\n",
    "print(raw)\n",
    "\n",
    "#运用sorted函数\n",
    "raw2=[]\n",
    "for i in range(3):\n",
    "    x=int(input('int%d: '%(i)))\n",
    "    raw2.append(x)\n",
    "print(sorted(raw2))\n",
    "\n"
   ]
  },
  {
   "cell_type": "code",
   "execution_count": 11,
   "metadata": {},
   "outputs": [
    {
     "name": "stdout",
     "output_type": "stream",
     "text": [
      "101\n",
      "103\n",
      "107\n",
      "109\n",
      "113\n",
      "127\n",
      "131\n",
      "137\n",
      "139\n",
      "149\n",
      "151\n",
      "157\n",
      "163\n",
      "167\n",
      "173\n",
      "179\n",
      "181\n",
      "191\n",
      "193\n",
      "197\n",
      "199\n",
      "\n",
      "Simplify the code with \"else\"\n",
      "\n",
      "101\n",
      "103\n",
      "107\n",
      "109\n",
      "113\n",
      "127\n",
      "131\n",
      "137\n",
      "139\n",
      "149\n",
      "151\n",
      "157\n",
      "163\n",
      "167\n",
      "173\n",
      "179\n",
      "181\n",
      "191\n",
      "193\n",
      "197\n",
      "199\n"
     ]
    }
   ],
   "source": [
    "# 判断101-200之间有多少个素数，并输出所有素数。\n",
    "#!/usr/bin/python\n",
    "# -*- coding: UTF-8 -*- \n",
    "import math\n",
    "for i in range(100,200):\n",
    "    flag=0\n",
    "    for j in range(2,round(math.sqrt(i))+1):\n",
    "        if i%j==0:\n",
    "            flag=1\n",
    "            break\n",
    "    if flag:\n",
    "        continue\n",
    "    print(i)\n",
    "\n",
    "\n",
    "print('\\nSimplify the code with \"else\"\\n')\n",
    "\n",
    "\n",
    "for i in range(100,200):\n",
    "    for j in range(2,round(math.sqrt(i))+1):\n",
    "        if i%j==0:\n",
    "            break\n",
    "    else:\n",
    "        print(i)\n"
   ]
  },
  {
   "cell_type": "code",
   "execution_count": 17,
   "metadata": {},
   "outputs": [
    {
     "name": "stdin",
     "output_type": "stream",
     "text": [
      "输入一个整数： 520\n"
     ]
    },
    {
     "name": "stdout",
     "output_type": "stream",
     "text": [
      "520 = 2*2*2*5*13"
     ]
    }
   ],
   "source": [
    "#将一个整数分解质因数。\n",
    "#!/usr/bin/python\n",
    "# -*- coding: UTF-8 -*- \n",
    "target=int(input('输入一个整数：'))\n",
    "print(target,'= ',end='')\n",
    "\n",
    "if target<0:\n",
    "    target=abs(target)\n",
    "    print('-1*',end='')\n",
    "\n",
    "flag=0\n",
    "if target<=1:\n",
    "    print(target)\n",
    "    flag=1\n",
    "\n",
    "\n",
    "while True:\n",
    "    if flag:\n",
    "        break\n",
    "    for i in range(2,int(target+1)):\n",
    "        if target%i==0:\n",
    "            print(\"%d\"%i,end='')\n",
    "            if target==i:\n",
    "                flag=1\n",
    "                break\n",
    "            print('*',end='')\n",
    "            target/=i\n",
    "            break\n",
    "        \n"
   ]
  },
  {
   "cell_type": "code",
   "execution_count": 23,
   "metadata": {},
   "outputs": [
    {
     "name": "stdin",
     "output_type": "stream",
     "text": [
      "输入字符串： asdasd161161  516!!!\n"
     ]
    },
    {
     "name": "stdout",
     "output_type": "stream",
     "text": [
      "space:  2\n",
      "digit:  9\n",
      "alpha:  6\n",
      "other:  3\n"
     ]
    }
   ],
   "source": [
    "#输入一行字符，分别统计出其中英文字母、空格、数字和其它字符的个数。\n",
    "#!/usr/bin/python\n",
    "# -*- coding: UTF-8 -*- \n",
    "string=input(\"输入字符串：\")\n",
    "alp=0\n",
    "num=0\n",
    "spa=0\n",
    "oth=0\n",
    "for i in range(len(string)):\n",
    "    if string[i].isspace():\n",
    "        spa+=1\n",
    "    elif string[i].isdigit():\n",
    "        num+=1\n",
    "    elif string[i].isalpha():\n",
    "        alp+=1\n",
    "    else:\n",
    "        oth+=1\n",
    "print('space: ',spa)\n",
    "print('digit: ',num)\n",
    "print('alpha: ',alp)\n",
    "print('other: ',oth)\n"
   ]
  },
  {
   "cell_type": "code",
   "execution_count": 29,
   "metadata": {},
   "outputs": [
    {
     "name": "stdout",
     "output_type": "stream",
     "text": [
      "6\n",
      "28\n",
      "496\n"
     ]
    }
   ],
   "source": [
    " #一个数如果恰好等于它的因子之和，这个数就称为\"完数\"。例如6=1＋2＋3.编程找出1000以内的所有完数。\n",
    "#!/usr/bin/python\n",
    "# -*- coding: UTF-8 -*- \n",
    "def factor(num):\n",
    "    target=int(num)\n",
    "    res=set()\n",
    "    for i in range(1,num):\n",
    "        if num%i==0:\n",
    "            res.add(i)\n",
    "            res.add(num/i)\n",
    "    return res\n",
    "\n",
    "for i in range(2,1001):\n",
    "    if i==sum(factor(i))-i:\n",
    "        print(i)\n"
   ]
  },
  {
   "cell_type": "code",
   "execution_count": 43,
   "metadata": {},
   "outputs": [
    {
     "name": "stdout",
     "output_type": "stream",
     "text": [
      "['head', 0, 1, 2, 3, 4, 5, 6, 7, 8, 9, 10, 11, 12, 13, 14, 15, 16, 17, 18, 19]\n"
     ]
    }
   ],
   "source": [
    "#创建一个链表\n",
    "#!/usr/bin/python\n",
    "# -*- coding: UTF-8 -*- \n",
    "class Node:\n",
    "\n",
    "    def __init__(self, data):\n",
    "        self.data = data\n",
    "        self.next = None\n",
    "\n",
    "    def get_data(self):\n",
    "        return self.data\n",
    "\n",
    "class List:\n",
    "\n",
    "    def __init__(self, head):\n",
    "        self.head = head\n",
    "\n",
    "    def is_empty(self): \n",
    "        return self.get_len() == 0\n",
    "\n",
    "    def get_len(self):  \n",
    "        length = 0\n",
    "        temp = self.head\n",
    "        while temp is not None:\n",
    "            length += 1\n",
    "            temp = temp.next\n",
    "        return length\n",
    "\n",
    "    def append(self, node):\n",
    "        temp = self.head\n",
    "        while temp.next is not None:\n",
    "            temp = temp.next\n",
    "        temp.next = node\n",
    "\n",
    "    def delete(self, index): \n",
    "        if index < 1 or index > self.get_len():\n",
    "            print(\"给定位置不合理\")\n",
    "            return\n",
    "        if index == 1:\n",
    "            self.head = self.head.next\n",
    "            return\n",
    "        temp = self.head\n",
    "        cur_pos = 0\n",
    "        while temp is not None:\n",
    "            cur_pos += 1\n",
    "            if cur_pos == index-1:\n",
    "                temp.next = temp.next.next\n",
    "            temp = temp.next\n",
    "\n",
    "    def insert(self, pos, node):\n",
    "        if pos < 1 or pos > self.get_len():\n",
    "            print(\"插入结点位置不合理\")\n",
    "            return\n",
    "        temp = self.head\n",
    "        cur_pos = 0\n",
    "        while temp is not Node:\n",
    "            cur_pos += 1\n",
    "            if cur_pos == pos-1:\n",
    "                node.next = temp.next\n",
    "                temp.next =node\n",
    "                break\n",
    "            temp = temp.next\n",
    "\n",
    "    def reverse(self, head):\n",
    "        if head is None and head.next is None:\n",
    "            return head\n",
    "        pre = head\n",
    "        cur = head.next\n",
    "        while cur is not None:\n",
    "            temp = cur.next\n",
    "            cur.next = pre\n",
    "            pre = cur\n",
    "            cur = temp\n",
    "        head.next = None\n",
    "        return pre\n",
    "\n",
    "    def print_list(self, head):\n",
    "        init_data = []\n",
    "        while head is not None:\n",
    "            init_data.append(head.get_data())\n",
    "            head = head.next\n",
    "        return init_data\n",
    "\n",
    "if __name__=='__main__':\n",
    "    head=Node('head')\n",
    "    link=List(head)\n",
    "    for i in range(20):\n",
    "        node=Node(i)\n",
    "        link.append(node)\n",
    "    print(link.print_list(head))\n"
   ]
  },
  {
   "cell_type": "code",
   "execution_count": 54,
   "metadata": {},
   "outputs": [
    {
     "name": "stdout",
     "output_type": "stream",
     "text": [
      "['head', 0, 1, 2, 3, 4, 5, 6, 7, 8, 9, 10, 11, 12, 13, 14, 15, 16, 17, 18, 19]\n",
      "[19, 18, 17, 16, 15, 14, 13, 12, 11, 10, 9, 8, 7, 6, 5, 4, 3, 2, 1, 0, 'head']\n"
     ]
    }
   ],
   "source": [
    "#反向输出一个链表\n",
    "#!/usr/bin/python\n",
    "# -*- coding: UTF-8 -*- \n",
    "class Node:\n",
    "\n",
    "    def __init__(self, data):\n",
    "        self.data = data\n",
    "        self.next = None\n",
    "\n",
    "    def get_data(self):\n",
    "        return self.data\n",
    "\n",
    "class List:\n",
    "\n",
    "    def __init__(self, head):\n",
    "        self.head = head\n",
    "\n",
    "    def is_empty(self): \n",
    "        return self.get_len() == 0\n",
    "\n",
    "    def get_len(self):  \n",
    "        length = 0\n",
    "        temp = self.head\n",
    "        while temp is not None:\n",
    "            length += 1\n",
    "            temp = temp.next\n",
    "        return length\n",
    "\n",
    "    def append(self, node):\n",
    "        temp = self.head\n",
    "        while temp.next is not None:\n",
    "            temp = temp.next\n",
    "        temp.next = node\n",
    "\n",
    "    def delete(self, index): \n",
    "        if index < 1 or index > self.get_len():\n",
    "            print(\"给定位置不合理\")\n",
    "            return\n",
    "        if index == 1:\n",
    "            self.head = self.head.next\n",
    "            return\n",
    "        temp = self.head\n",
    "        cur_pos = 0\n",
    "        while temp is not None:\n",
    "            cur_pos += 1\n",
    "            if cur_pos == index-1:\n",
    "                temp.next = temp.next.next\n",
    "            temp = temp.next\n",
    "\n",
    "    def insert(self, pos, node):\n",
    "        if pos < 1 or pos > self.get_len():\n",
    "            print(\"插入结点位置不合理\")\n",
    "            return\n",
    "        temp = self.head\n",
    "        cur_pos = 0\n",
    "        while temp is not Node:\n",
    "            cur_pos += 1\n",
    "            if cur_pos == pos-1:\n",
    "                node.next = temp.next\n",
    "                temp.next =node\n",
    "                break\n",
    "            temp = temp.next\n",
    "\n",
    "    def reverse(self, head):\n",
    "        if head is None and head.next is None:\n",
    "            return head\n",
    "        pre = head\n",
    "        cur = head.next\n",
    "        while cur is not None:\n",
    "            temp = cur.next\n",
    "            cur.next = pre\n",
    "            pre = cur\n",
    "            cur = temp\n",
    "        head.next = None\n",
    "        return pre\n",
    "\n",
    "    def print_list(self, head):\n",
    "        init_data = []\n",
    "        while head is not None:\n",
    "            init_data.append(head.get_data())\n",
    "            head = head.next\n",
    "        return init_data\n",
    "\n",
    "if __name__=='__main__':\n",
    "    head=Node('head')\n",
    "    link=List(head)\n",
    "    for i in range(20):\n",
    "        node=Node(i)\n",
    "        link.append(node)\n",
    "    print(link.print_list(head))\n",
    "    print(link.print_list(link.reverse(head)))\n"
   ]
  },
  {
   "cell_type": "code",
   "execution_count": 57,
   "metadata": {},
   "outputs": [
    {
     "name": "stdout",
     "output_type": "stream",
     "text": [
      "\u001b[93m警告的颜色字体?\u001b[93m\n"
     ]
    }
   ],
   "source": [
    "#文本颜色设置。\n",
    "#!/usr/bin/python\n",
    "# -*- coding: UTF-8 -*- \n",
    "class bcolors:\n",
    "    HEADER = '\\033[95m'\n",
    "    OKBLUE = '\\033[94m'\n",
    "    OKGREEN = '\\033[92m'\n",
    "    WARNING = '\\033[93m'\n",
    "    FAIL = '\\033[91m'\n",
    "    ENDC = '\\033[0m'\n",
    "    BOLD = '\\033[1m'\n",
    "    UNDERLINE = '\\033[4m'\n",
    "print(bcolors.WARNING + \"警告的颜色字体?\" + bcolors.WARNING)\n"
   ]
  },
  {
   "cell_type": "code",
   "execution_count": 63,
   "metadata": {},
   "outputs": [
    {
     "name": "stdin",
     "output_type": "stream",
     "text": [
      "随便你输入啥啦： asdsa\n"
     ]
    },
    {
     "name": "stdout",
     "output_type": "stream",
     "text": [
      "是回文串\n"
     ]
    }
   ],
   "source": [
    "#判断是否为回文\n",
    "#!/usr/bin/python\n",
    "# -*- coding: UTF-8 -*- \n",
    "n=input(\"随便你输入啥啦：\")\n",
    "a=0\n",
    "b=len(n)-1\n",
    "flag=True\n",
    "while a<b:\n",
    "    if n[a]!=n[b]:\n",
    "        print('不是回文串')\n",
    "        flag=False\n",
    "        break\n",
    "    a,b=a+1,b-1\n",
    "if flag:\n",
    "    print('是回文串')\n"
   ]
  }
 ],
 "metadata": {
  "kernelspec": {
   "display_name": "Python 3",
   "language": "python",
   "name": "python3"
  },
  "language_info": {
   "codemirror_mode": {
    "name": "ipython",
    "version": 3
   },
   "file_extension": ".py",
   "mimetype": "text/x-python",
   "name": "python",
   "nbconvert_exporter": "python",
   "pygments_lexer": "ipython3",
   "version": "3.8.3"
  }
 },
 "nbformat": 4,
 "nbformat_minor": 4
}
