{
 "cells": [
  {
   "cell_type": "code",
   "execution_count": 1,
   "metadata": {},
   "outputs": [
    {
     "name": "stdout",
     "output_type": "stream",
     "text": [
      "调用子类方法\n",
      "调用父类方法\n"
     ]
    }
   ],
   "source": [
    "#类的方法重写\n",
    "class Parent():\n",
    "    def myMethod(self):\n",
    "        print('调用父类方法')\n",
    "class Child(Parent):\n",
    "    def myMethod(slef):\n",
    "        print('调用子类方法')\n",
    "c = Child()\n",
    "c.myMethod()\n",
    "super(Child,c).myMethod()"
   ]
  },
  {
   "cell_type": "code",
   "execution_count": 2,
   "metadata": {},
   "outputs": [
    {
     "name": "stdout",
     "output_type": "stream",
     "text": [
      "name:runoob\n",
      "Sonrunoob\n"
     ]
    }
   ],
   "source": [
    "class Father(object):\n",
    "    def __init__(self,name):\n",
    "        self.name = name\n",
    "        print('name:%s'%(self.name))\n",
    "        def getName(self):\n",
    "            return 'Father'+self.name\n",
    "class Son(Father):\n",
    "    def getName(self):\n",
    "        return 'Son'+self.name\n",
    "if __name__=='__main__':\n",
    "    son = Son('runoob')\n",
    "    print(son.getName())"
   ]
  },
  {
   "cell_type": "code",
   "execution_count": 4,
   "metadata": {},
   "outputs": [
    {
     "name": "stdout",
     "output_type": "stream",
     "text": [
      "hi\n",
      "Sonrunoob\n"
     ]
    }
   ],
   "source": [
    "class Father(object):\n",
    "    def __init__(self,name):\n",
    "        self.name = name\n",
    "        print('name:%s'%(self.name))\n",
    "        def getName(self):\n",
    "            return 'Father'+self.name\n",
    "class Son(Father):\n",
    "    def __init__(self,name):\n",
    "        print('hi')\n",
    "        self.name = name\n",
    "    def getName(self):\n",
    "        return 'Son'+self.name\n",
    "if __name__=='__main__':\n",
    "    son = Son('runoob')\n",
    "    print(son.getName())"
   ]
  },
  {
   "cell_type": "code",
   "execution_count": 5,
   "metadata": {},
   "outputs": [
    {
     "name": "stdout",
     "output_type": "stream",
     "text": [
      "name:runoob\n",
      "hi\n",
      "Sonrunoob\n"
     ]
    }
   ],
   "source": [
    "class Father(object):\n",
    "    def __init__(self,name):\n",
    "        self.name = name\n",
    "        print('name:%s'%(self.name))\n",
    "        def getName(self):\n",
    "            return 'Father'+self.name\n",
    "class Son(Father):\n",
    "    def __init__(self,name):\n",
    "        super(Son,self).__init__(name)\n",
    "        print('hi')\n",
    "        self.name=name\n",
    "    def getName(self):\n",
    "        return 'Son'+self.name\n",
    "if __name__=='__main__':\n",
    "    son = Son('runoob')\n",
    "    print(son.getName())"
   ]
  },
  {
   "cell_type": "code",
   "execution_count": 8,
   "metadata": {},
   "outputs": [
    {
     "name": "stdout",
     "output_type": "stream",
     "text": [
      "1\n",
      "2\n",
      "2\n"
     ]
    }
   ],
   "source": [
    "#两个下划线开头表示该属性私有，类外不可访问\n",
    "class JustCounter:\n",
    "    __secretCount = 0\n",
    "    publicCount = 0\n",
    "    def count(self):\n",
    "        self.__secretCount+=1\n",
    "        self.publicCount+=1\n",
    "        print(self.__secretCount)\n",
    "counter=JustCounter()\n",
    "counter.count()\n",
    "counter.count()\n",
    "print(counter.publicCount)\n",
    "#print(counter.secretCount)"
   ]
  },
  {
   "cell_type": "code",
   "execution_count": 12,
   "metadata": {},
   "outputs": [
    {
     "name": "stdout",
     "output_type": "stream",
     "text": [
      "name : runoob\n",
      "url : www.runoob.com\n",
      "这是公有方法\n"
     ]
    }
   ],
   "source": [
    "class Site:\n",
    "    def __init__(self,name,url):\n",
    "        self.name = name\n",
    "        self.__url = url\n",
    "    def who(self):\n",
    "        print('name :',self.name)\n",
    "        print('url :',self.__url)\n",
    "    def __foo(self):\n",
    "        print('这是私有方法')\n",
    "    def foo(self):\n",
    "        print('这是公有方法')\n",
    "x = Site('runoob','www.runoob.com')\n",
    "x.who()\n",
    "x.foo()\n",
    "#x.__foo()"
   ]
  },
  {
   "cell_type": "code",
   "execution_count": 14,
   "metadata": {},
   "outputs": [
    {
     "name": "stdout",
     "output_type": "stream",
     "text": [
      "Vector(7,8)\n"
     ]
    }
   ],
   "source": [
    "#运算符重载\n",
    "class Vector:\n",
    "    def __init__(self,a,b):\n",
    "        self.a = a\n",
    "        self.b = b\n",
    "    def __str__(self):\n",
    "        return 'Vector(%d,%d)'%(self.a,self.b)\n",
    "    def __add__(self,other):\n",
    "        return Vector(self.a+other.a,self.b+other.b)\n",
    "v1 = Vector(2,10)\n",
    "v2 = Vector(5,-2)\n",
    "print(v1+v2)"
   ]
  },
  {
   "cell_type": "code",
   "execution_count": 1,
   "metadata": {},
   "outputs": [
    {
     "name": "stdout",
     "output_type": "stream",
     "text": [
      "函数内是局部变量： 30\n",
      "函数外是全局变量 0\n"
     ]
    }
   ],
   "source": [
    "#定义在函数内部的变量拥有一个局部作用域，定义在函数外的拥有全局作用域。\n",
    "#局部变量只能在其被声明的函数内部访问，而全局变量可以在整个程序范围内访问。调用函数时，所有在函数内声明的变量名称都将被加入到作用域中。\n",
    "total = 0\n",
    "def sum(arg1,arg2):\n",
    "    total = arg1+arg2\n",
    "    print('函数内是局部变量：',total)\n",
    "    return total\n",
    "sum(10,20)\n",
    "print('函数外是全局变量',total)"
   ]
  },
  {
   "cell_type": "code",
   "execution_count": 3,
   "metadata": {},
   "outputs": [
    {
     "name": "stdout",
     "output_type": "stream",
     "text": [
      "1\n",
      "123\n",
      "123\n"
     ]
    }
   ],
   "source": [
    "#修改全局变量 num\n",
    "num = 1\n",
    "def fun1():\n",
    "    global num\n",
    "    print(num)\n",
    "    num = 123\n",
    "    print(num)\n",
    "fun1()\n",
    "print(num)"
   ]
  },
  {
   "cell_type": "code",
   "execution_count": 5,
   "metadata": {},
   "outputs": [
    {
     "name": "stdout",
     "output_type": "stream",
     "text": [
      "100\n",
      "100\n"
     ]
    }
   ],
   "source": [
    "#修改嵌套作用域\n",
    "def outer():\n",
    "    num = 10\n",
    "    def inner():\n",
    "        nonlocal num\n",
    "        num = 100\n",
    "        print(num)\n",
    "    inner()\n",
    "    print(num)\n",
    "outer()"
   ]
  },
  {
   "cell_type": "code",
   "execution_count": 6,
   "metadata": {},
   "outputs": [
    {
     "data": {
      "text/plain": [
       "['05_3120301223_王家乐.ipynb',\n",
       " '05_matplotlib.ipynb',\n",
       " '05_pandas.ipynb',\n",
       " '05_seaborn.ipynb']"
      ]
     },
     "execution_count": 6,
     "metadata": {},
     "output_type": "execute_result"
    }
   ],
   "source": [
    "import glob\n",
    "glob.glob('*.ipynb')"
   ]
  },
  {
   "cell_type": "code",
   "execution_count": 7,
   "metadata": {},
   "outputs": [
    {
     "data": {
      "text/plain": [
       "'tea for two'"
      ]
     },
     "execution_count": 7,
     "metadata": {},
     "output_type": "execute_result"
    }
   ],
   "source": [
    "'tea for too'.replace('too','two')"
   ]
  },
  {
   "cell_type": "code",
   "execution_count": 8,
   "metadata": {},
   "outputs": [
    {
     "data": {
      "text/plain": [
       "0.7071067811865476"
      ]
     },
     "execution_count": 8,
     "metadata": {},
     "output_type": "execute_result"
    }
   ],
   "source": [
    "import math\n",
    "math.cos(math.pi/4)"
   ]
  },
  {
   "cell_type": "code",
   "execution_count": 9,
   "metadata": {},
   "outputs": [
    {
     "data": {
      "text/plain": [
       "10.0"
      ]
     },
     "execution_count": 9,
     "metadata": {},
     "output_type": "execute_result"
    }
   ],
   "source": [
    "math.log(1024,2)"
   ]
  },
  {
   "cell_type": "code",
   "execution_count": 14,
   "metadata": {},
   "outputs": [
    {
     "data": {
      "text/plain": [
       "'banana'"
      ]
     },
     "execution_count": 14,
     "metadata": {},
     "output_type": "execute_result"
    }
   ],
   "source": [
    "#random生成随机数\n",
    "import random\n",
    "random.choice(['apple','pear','banana'])"
   ]
  },
  {
   "cell_type": "code",
   "execution_count": 15,
   "metadata": {},
   "outputs": [
    {
     "data": {
      "text/plain": [
       "[5, 32, 62, 94, 73, 85, 79, 9, 91, 39]"
      ]
     },
     "execution_count": 15,
     "metadata": {},
     "output_type": "execute_result"
    }
   ],
   "source": [
    "random.sample(range(100),10)"
   ]
  },
  {
   "cell_type": "code",
   "execution_count": 16,
   "metadata": {},
   "outputs": [
    {
     "data": {
      "text/plain": [
       "0.521466546984186"
      ]
     },
     "execution_count": 16,
     "metadata": {},
     "output_type": "execute_result"
    }
   ],
   "source": [
    "random.random()"
   ]
  },
  {
   "cell_type": "code",
   "execution_count": 17,
   "metadata": {},
   "outputs": [
    {
     "data": {
      "text/plain": [
       "4"
      ]
     },
     "execution_count": 17,
     "metadata": {},
     "output_type": "execute_result"
    }
   ],
   "source": [
    "random.randrange(6)"
   ]
  },
  {
   "cell_type": "code",
   "execution_count": 23,
   "metadata": {},
   "outputs": [
    {
     "data": {
      "text/plain": [
       "datetime.date(2020, 12, 20)"
      ]
     },
     "execution_count": 23,
     "metadata": {},
     "output_type": "execute_result"
    }
   ],
   "source": [
    "from datetime import date\n",
    "now = date.today()\n",
    "now"
   ]
  },
  {
   "cell_type": "code",
   "execution_count": 27,
   "metadata": {},
   "outputs": [
    {
     "data": {
      "text/plain": [
       "'12-20-20.20 Dec 2020 is Sunday on the 20 day of December.'"
      ]
     },
     "execution_count": 27,
     "metadata": {},
     "output_type": "execute_result"
    }
   ],
   "source": [
    "now.strftime(\"%m-%d-%y.%d %b %Y is %A on the %d day of %B.\")"
   ]
  },
  {
   "cell_type": "code",
   "execution_count": 30,
   "metadata": {},
   "outputs": [
    {
     "data": {
      "text/plain": [
       "8219"
      ]
     },
     "execution_count": 30,
     "metadata": {},
     "output_type": "execute_result"
    }
   ],
   "source": [
    "birthday = date(1998,6,20)\n",
    "age = now - birthday\n",
    "age.days"
   ]
  },
  {
   "cell_type": "code",
   "execution_count": 31,
   "metadata": {},
   "outputs": [
    {
     "data": {
      "text/plain": [
       "41"
      ]
     },
     "execution_count": 31,
     "metadata": {},
     "output_type": "execute_result"
    }
   ],
   "source": [
    "#数据压缩\n",
    "import zlib\n",
    "s = b'witch which has which witched wrist watch'\n",
    "len(s)"
   ]
  },
  {
   "cell_type": "code",
   "execution_count": 33,
   "metadata": {},
   "outputs": [
    {
     "data": {
      "text/plain": [
       "39"
      ]
     },
     "execution_count": 33,
     "metadata": {},
     "output_type": "execute_result"
    }
   ],
   "source": [
    "t = zlib.compress(s)\n",
    "len(t)"
   ]
  },
  {
   "cell_type": "code",
   "execution_count": 35,
   "metadata": {},
   "outputs": [
    {
     "data": {
      "text/plain": [
       "b'witch which has which witched wrist watch'"
      ]
     },
     "execution_count": 35,
     "metadata": {},
     "output_type": "execute_result"
    }
   ],
   "source": [
    "zlib.decompress(t)"
   ]
  },
  {
   "cell_type": "code",
   "execution_count": 36,
   "metadata": {},
   "outputs": [
    {
     "data": {
      "text/plain": [
       "3304089689"
      ]
     },
     "execution_count": 36,
     "metadata": {},
     "output_type": "execute_result"
    }
   ],
   "source": [
    "zlib.crc32(s)"
   ]
  },
  {
   "cell_type": "code",
   "execution_count": 37,
   "metadata": {},
   "outputs": [
    {
     "data": {
      "text/plain": [
       "0.08946700000001329"
      ]
     },
     "execution_count": 37,
     "metadata": {},
     "output_type": "execute_result"
    }
   ],
   "source": [
    "#性能度量\n",
    "from timeit import Timer\n",
    "Timer('t=a;a=b;b=t','a=1;b=2').timeit()"
   ]
  },
  {
   "cell_type": "code",
   "execution_count": 38,
   "metadata": {},
   "outputs": [
    {
     "data": {
      "text/plain": [
       "0.08057090000011158"
      ]
     },
     "execution_count": 38,
     "metadata": {},
     "output_type": "execute_result"
    }
   ],
   "source": [
    "Timer('a,b=b,a','a=1;b=2').timeit()"
   ]
  },
  {
   "cell_type": "code",
   "execution_count": 53,
   "metadata": {},
   "outputs": [
    {
     "data": {
      "text/plain": [
       "<matplotlib.image.AxesImage at 0x297be617760>"
      ]
     },
     "execution_count": 53,
     "metadata": {},
     "output_type": "execute_result"
    },
    {
     "data": {
      "image/png": "[encoded data removed]",
      "text/plain": [
       "<Figure size 432x288 with 1 Axes>"
      ]
     },
     "metadata": {
      "needs_background": "light"
     },
     "output_type": "display_data"
    }
   ],
   "source": [
    "#具有神经网络思维的Logistic回归\n",
    "import numpy as np\n",
    "import matplotlib.pyplot as plt\n",
    "import h5py\n",
    "from lr_utils import load_dataset\n",
    "\n",
    "train_set_x_orig , train_set_y , test_set_x_orig , test_set_y , classes = load_dataset()\n",
    "index = 25\n",
    "plt.imshow(train_set_x_orig[index])"
   ]
  },
  {
   "cell_type": "code",
   "execution_count": 57,
   "metadata": {},
   "outputs": [
    {
     "name": "stdout",
     "output_type": "stream",
     "text": [
      "y=[1],it's a cat picture\n"
     ]
    }
   ],
   "source": [
    "print(\"y=\" + str(train_set_y[:,index]) +\",it's a \" +classes[np.squeeze(train_set_y[:,index])].decode(\"utf-8\")+\" picture\")"
   ]
  },
  {
   "cell_type": "code",
   "execution_count": 63,
   "metadata": {},
   "outputs": [
    {
     "name": "stdout",
     "output_type": "stream",
     "text": [
      "训练集的数量：m_train=209\n",
      "测试集的数量：m_test=50\n",
      "每张图片的宽/高：num_px=64\n",
      "每张图片的大小：(64,64,3)\n",
      "训练集图片的维数：(209, 64, 64, 3)\n",
      "训练集标签的维数：(1, 209)\n",
      "测试集图片的维数：(50, 64, 64, 3)\n",
      "测试集标签的维数：(1, 50)\n"
     ]
    }
   ],
   "source": [
    "m_train = train_set_y.shape[1]#训练集里图片的数量\n",
    "m_test = test_set_y.shape[1]\n",
    "num_px = train_set_x_orig.shape[1]\n",
    "\n",
    "print('训练集的数量：m_train='+str(m_train))\n",
    "print('测试集的数量：m_test='+str(m_test))\n",
    "print('每张图片的宽/高：num_px='+str(num_px))\n",
    "print('每张图片的大小：('+str(num_px)+','+str(num_px)+','+'3)')\n",
    "print(\"训练集图片的维数：\"+str(train_set_x_orig.shape))\n",
    "print(\"训练集标签的维数：\"+str(train_set_y.shape))\n",
    "print(\"测试集图片的维数：\"+str(test_set_x_orig.shape))\n",
    "print(\"测试集标签的维数：\"+str(test_set_y.shape))"
   ]
  },
  {
   "cell_type": "code",
   "execution_count": 64,
   "metadata": {},
   "outputs": [
    {
     "name": "stdout",
     "output_type": "stream",
     "text": [
      "训练集降维最后的维度：(12288, 209)\n",
      "训练集标签的维数：(1, 209)\n",
      "测试集降维最后的维度：(12288, 50)\n",
      "测试集标签的维数：(1, 50)\n"
     ]
    }
   ],
   "source": [
    "#将测试集、训练集维数降低并转置\n",
    "train_set_x_flatten = train_set_x_orig.reshape(train_set_x_orig.shape[0],-1).T\n",
    "test_set_x_flatten = test_set_x_orig.reshape(test_set_x_orig.shape[0],-1).T\n",
    "print(\"训练集降维最后的维度：\"+str(train_set_x_flatten.shape))\n",
    "print(\"训练集标签的维数：\"+str(train_set_y.shape))\n",
    "print(\"测试集降维最后的维度：\"+str(test_set_x_flatten.shape))\n",
    "print(\"测试集标签的维数：\"+str(test_set_y.shape))"
   ]
  },
  {
   "cell_type": "code",
   "execution_count": 65,
   "metadata": {},
   "outputs": [],
   "source": [
    "#标准化数据集\n",
    "train_set_x = train_set_x_flatten / 255\n",
    "test_set_x = test_set_x_flatten / 255"
   ]
  },
  {
   "cell_type": "code",
   "execution_count": 68,
   "metadata": {},
   "outputs": [],
   "source": [
    "#构建sigmoid\n",
    "def sigmoid(z):\n",
    "    s = 1/(1 + np.exp(-z))\n",
    "    return s"
   ]
  },
  {
   "cell_type": "code",
   "execution_count": 69,
   "metadata": {},
   "outputs": [
    {
     "name": "stdout",
     "output_type": "stream",
     "text": [
      "sigmoid(0) = 0.5\n"
     ]
    }
   ],
   "source": [
    "#测试sigmoid\n",
    "print(\"sigmoid(0) = \"+str(sigmoid(0)))"
   ]
  },
  {
   "cell_type": "code",
   "execution_count": 81,
   "metadata": {},
   "outputs": [],
   "source": [
    "#初始化参数w和b\n",
    "def initialize_with_zeros(dim):\n",
    "    w = np.zeros(shape = (dim,1))\n",
    "    b =0\n",
    "    assert(w.shape == (dim,1))\n",
    "    assert(isinstance(b,float) or isinstance(b,int))\n",
    "    return (w,b)"
   ]
  },
  {
   "cell_type": "code",
   "execution_count": 84,
   "metadata": {},
   "outputs": [],
   "source": [
    "#计算成本函数及其渐变的函数propagate\n",
    "def propagate(w,b,X,Y):\n",
    "    m = X.shape[1]\n",
    "    #正向传播\n",
    "    A = sigmoid(np.dot(w.T,X)+b)\n",
    "    cost = (-1/m)*np.sum(Y*np.log(A) + (1-Y)*(np.log(1-A)))\n",
    "    #反向传播\n",
    "    dw = (1/m)*np.dot(X,(A-Y).T)\n",
    "    db = (1/m)*np.sum(A-Y)\n",
    "    #使用断言确保我的数据是正确的\n",
    "    assert(dw.shape == w.shape)\n",
    "    assert(db.dtype ==float)\n",
    "    cost = np.squeeze(cost)\n",
    "    assert(cost.shape == ())\n",
    "    #创建字典，存储dw、db\n",
    "    grads = {\n",
    "        \"dw\":dw,\n",
    "        \"db\":db\n",
    "    }\n",
    "    return(grads,cost)"
   ]
  },
  {
   "cell_type": "code",
   "execution_count": 85,
   "metadata": {},
   "outputs": [
    {
     "name": "stdout",
     "output_type": "stream",
     "text": [
      "dw = [[0.99993216]\n",
      " [1.99980262]]\n",
      "db = 0.49993523062470574\n",
      "cost = 6.000064773192205\n"
     ]
    }
   ],
   "source": [
    "#测试propagate\n",
    "w,b,X,Y = np.array([[1],[2]]),2,np.array([[1,2],[3,4]]),np.array([[1,0]])\n",
    "grads,cost = propagate(w,b,X,Y)\n",
    "print(\"dw = \"+str(grads[\"dw\"]))\n",
    "print(\"db = \"+str(grads[\"db\"]))\n",
    "print(\"cost = \"+ str(cost))"
   ]
  },
  {
   "cell_type": "code",
   "execution_count": 86,
   "metadata": {},
   "outputs": [],
   "source": [
    "#使用渐变下降更新参数\n",
    "def optimize(w,b,X,Y,num_iterations,learning_rate,print_cost = False):\n",
    "    costs = []\n",
    "    for i in range(num_iterations):\n",
    "        grads,cost = propagate(w,b,X,Y)\n",
    "        dw = grads[\"dw\"]\n",
    "        db = grads[\"db\"]\n",
    "        w = w - learning_rate * dw\n",
    "        b = b - learning_rate * db\n",
    "        #记录成本\n",
    "        if i % 100 == 0:\n",
    "            costs.append(cost)\n",
    "        #打印成本数据\n",
    "        if (print_cost) and (i % 100 == 0):\n",
    "            print(\"迭代次数： %i,误差值 ：%f\"%(i,cost))\n",
    "    params = {\n",
    "        \"w\":w,\n",
    "        \"b\":b\n",
    "    }\n",
    "    grads = {\n",
    "        \"dw\":dw,\n",
    "        \"db\":db\n",
    "    }\n",
    "    return(params,grads,costs)"
   ]
  },
  {
   "cell_type": "code",
   "execution_count": 88,
   "metadata": {},
   "outputs": [
    {
     "name": "stdout",
     "output_type": "stream",
     "text": [
      "w = [[0.1124579 ]\n",
      " [0.23106775]]\n",
      "b = 1.5593049248448891\n",
      "dw = [[0.90158428]\n",
      " [1.76250842]]\n",
      "db = 0.4304620716786828\n"
     ]
    }
   ],
   "source": [
    "#测试优化函数\n",
    "w,b,X,Y = np.array([[1],[2]]),2,np.array([[1,2],[3,4]]),np.array([[1,0]])\n",
    "params,grads,costs = optimize(w,b,X,Y,num_iterations=100,learning_rate=0.009,print_cost=False)\n",
    "print(\"w = \"+str(params[\"w\"]))\n",
    "print(\"b = \"+str(params[\"b\"]))\n",
    "print(\"dw = \"+str(grads[\"dw\"]))\n",
    "print(\"db = \"+str(grads[\"db\"]))"
   ]
  },
  {
   "cell_type": "code",
   "execution_count": 89,
   "metadata": {},
   "outputs": [],
   "source": [
    "#预测\n",
    "def predict(w,b,X):\n",
    "    m = X.shape[1]\n",
    "    Y_prediction = np.zeros((1,m))\n",
    "    w = w.reshape(X.shape[0],1)\n",
    "    #预测猫在图片中出现的概率\n",
    "    A = sigmoid(np.dot(w.T,X)+b)\n",
    "    for i in range(A.shape[1]):\n",
    "        Y_prediction[0,i] = 1 if A[0,i]>0.5 else 0\n",
    "        assert(Y_prediction.shape == (1,m))\n",
    "        return Y_prediction"
   ]
  },
  {
   "cell_type": "code",
   "execution_count": 90,
   "metadata": {},
   "outputs": [
    {
     "name": "stdout",
     "output_type": "stream",
     "text": [
      "prediction = [[1. 0.]]\n"
     ]
    }
   ],
   "source": [
    "#测试预测\n",
    "w,b,X,Y = np.array([[1],[2]]),2,np.array([[1,2],[3,4]]),np.array([[1,0]])\n",
    "print(\"prediction = \"+str(predict(w,b,X)))"
   ]
  },
  {
   "cell_type": "code",
   "execution_count": 97,
   "metadata": {},
   "outputs": [],
   "source": [
    "#整合\n",
    "def model(X_train,Y_train,X_test,Y_test,num_iterations = 2000,learning_rate = 0.5,print_cost = False):\n",
    "    w,b=initialize_with_zeros(X_train.shape[0])\n",
    "    parameters,grads,costs = optimize(w,b,X_train,Y_train,num_iterations,learning_rate,print_cost)\n",
    "    #从字典“参数”中检索w和b\n",
    "    w,b = parameters[\"w\"],parameters[\"b\"]\n",
    "    Y_prediction_test = predict(w,b,X_test)\n",
    "    Y_prediction_train=predict(w,b,X_train)\n",
    "    print(\"训练集准确性：\",format(100-np.mean(np.abs(Y_prediction_train - Y_train))*100),\"%\")\n",
    "    print(\"测试集准确性：\",format(100-np.mean(np.abs(Y_prediction_test - Y_test))*100),\"%\")\n",
    "    \n",
    "    d = {\n",
    "        \"costs\":costs,\n",
    "        \"Y_predictions_test\":Y_prediction_test,\n",
    "        \"Y_prediction_train\":Y_prediction_train,\n",
    "        \"w\":w,\n",
    "        \"b\":b,\n",
    "        \"learing_rate\":learning_rate,\n",
    "        \"num_iterations\":num_iterations\n",
    "    }\n",
    "    return d"
   ]
  },
  {
   "cell_type": "code",
   "execution_count": 98,
   "metadata": {},
   "outputs": [
    {
     "name": "stdout",
     "output_type": "stream",
     "text": [
      "迭代次数： 0,误差值 ：0.693147\n",
      "迭代次数： 100,误差值 ：0.584508\n",
      "迭代次数： 200,误差值 ：0.466949\n",
      "迭代次数： 300,误差值 ：0.376007\n",
      "迭代次数： 400,误差值 ：0.331463\n",
      "迭代次数： 500,误差值 ：0.303273\n",
      "迭代次数： 600,误差值 ：0.279880\n",
      "迭代次数： 700,误差值 ：0.260042\n",
      "迭代次数： 800,误差值 ：0.242941\n",
      "迭代次数： 900,误差值 ：0.228004\n",
      "迭代次数： 1000,误差值 ：0.214820\n",
      "迭代次数： 1100,误差值 ：0.203078\n",
      "迭代次数： 1200,误差值 ：0.192544\n",
      "迭代次数： 1300,误差值 ：0.183033\n",
      "迭代次数： 1400,误差值 ：0.174399\n",
      "迭代次数： 1500,误差值 ：0.166521\n",
      "迭代次数： 1600,误差值 ：0.159305\n",
      "迭代次数： 1700,误差值 ：0.152667\n",
      "迭代次数： 1800,误差值 ：0.146542\n",
      "迭代次数： 1900,误差值 ：0.140872\n",
      "训练集准确性： 65.55023923444976 %\n",
      "测试集准确性： 36.0 %\n"
     ]
    }
   ],
   "source": [
    "d = model(train_set_x,train_set_y,test_set_x,test_set_y,num_iterations = 2000,learning_rate = 0.005,print_cost=True)"
   ]
  },
  {
   "cell_type": "code",
   "execution_count": 99,
   "metadata": {},
   "outputs": [
    {
     "data": {
      "image/png": "[encoded data removed]",
      "text/plain": [
       "<Figure size 432x288 with 1 Axes>"
      ]
     },
     "metadata": {
      "needs_background": "light"
     },
     "output_type": "display_data"
    }
   ],
   "source": [
    "#绘制图\n",
    "costs = np.squeeze(d['costs'])\n",
    "plt.plot(costs)\n",
    "plt.ylabel('cost')\n",
    "plt.xlabel('iterations (per hundreds)')\n",
    "plt.title(\"learing rate = \"+ str(d[\"learing_rate\"]))\n",
    "plt.show()"
   ]
  },
  {
   "cell_type": "code",
   "execution_count": 103,
   "metadata": {},
   "outputs": [
    {
     "name": "stdout",
     "output_type": "stream",
     "text": [
      "learning rate is:0.01\n",
      "训练集准确性： 65.55023923444976 %\n",
      "测试集准确性： 36.0 %\n",
      "\n",
      "------------------\n",
      "\n",
      "learning rate is:0.001\n",
      "训练集准确性： 65.55023923444976 %\n",
      "测试集准确性： 36.0 %\n",
      "\n",
      "------------------\n",
      "\n",
      "learning rate is:0.0001\n",
      "训练集准确性： 65.55023923444976 %\n",
      "测试集准确性： 34.0 %\n",
      "\n",
      "------------------\n",
      "\n"
     ]
    },
    {
     "ename": "KeyError",
     "evalue": "'learning_rate'",
     "output_type": "error",
     "traceback": [
      "\u001b[1;31m---------------------------------------------------------------------------\u001b[0m",
      "\u001b[1;31mKeyError\u001b[0m                                  Traceback (most recent call last)",
      "\u001b[1;32m<ipython-input-103-25b4829f3337>\u001b[0m in \u001b[0;36m<module>\u001b[1;34m\u001b[0m\n\u001b[0;32m      6\u001b[0m     \u001b[0mprint\u001b[0m\u001b[1;33m(\u001b[0m\u001b[1;34m'\\n'\u001b[0m\u001b[1;33m+\u001b[0m\u001b[1;34m\"------------------\"\u001b[0m\u001b[1;33m+\u001b[0m\u001b[1;34m'\\n'\u001b[0m\u001b[1;33m)\u001b[0m\u001b[1;33m\u001b[0m\u001b[1;33m\u001b[0m\u001b[0m\n\u001b[0;32m      7\u001b[0m \u001b[1;32mfor\u001b[0m \u001b[0mi\u001b[0m \u001b[1;32min\u001b[0m \u001b[0mlearning_rates\u001b[0m\u001b[1;33m:\u001b[0m\u001b[1;33m\u001b[0m\u001b[1;33m\u001b[0m\u001b[0m\n\u001b[1;32m----> 8\u001b[1;33m     \u001b[0mplt\u001b[0m\u001b[1;33m.\u001b[0m\u001b[0mplot\u001b[0m\u001b[1;33m(\u001b[0m\u001b[0mnp\u001b[0m\u001b[1;33m.\u001b[0m\u001b[0msqueeze\u001b[0m\u001b[1;33m(\u001b[0m\u001b[0mmodels\u001b[0m\u001b[1;33m[\u001b[0m\u001b[0mstr\u001b[0m\u001b[1;33m(\u001b[0m\u001b[0mi\u001b[0m\u001b[1;33m)\u001b[0m\u001b[1;33m]\u001b[0m\u001b[1;33m[\u001b[0m\u001b[1;34m\"costs\"\u001b[0m\u001b[1;33m]\u001b[0m\u001b[1;33m)\u001b[0m\u001b[1;33m,\u001b[0m\u001b[0mlabel\u001b[0m \u001b[1;33m=\u001b[0m \u001b[0mstr\u001b[0m\u001b[1;33m(\u001b[0m\u001b[0mmodels\u001b[0m\u001b[1;33m[\u001b[0m\u001b[0mstr\u001b[0m\u001b[1;33m(\u001b[0m\u001b[0mi\u001b[0m\u001b[1;33m)\u001b[0m\u001b[1;33m]\u001b[0m\u001b[1;33m[\u001b[0m\u001b[1;34m\"learning_rate\"\u001b[0m\u001b[1;33m]\u001b[0m\u001b[1;33m)\u001b[0m\u001b[1;33m)\u001b[0m\u001b[1;33m\u001b[0m\u001b[1;33m\u001b[0m\u001b[0m\n\u001b[0m\u001b[0;32m      9\u001b[0m \u001b[1;33m\u001b[0m\u001b[0m\n\u001b[0;32m     10\u001b[0m \u001b[0mplt\u001b[0m\u001b[1;33m.\u001b[0m\u001b[0mylabel\u001b[0m\u001b[1;33m(\u001b[0m\u001b[1;34m'cost'\u001b[0m\u001b[1;33m)\u001b[0m\u001b[1;33m\u001b[0m\u001b[1;33m\u001b[0m\u001b[0m\n",
      "\u001b[1;31mKeyError\u001b[0m: 'learning_rate'"
     ]
    }
   ],
   "source": [
    "learning_rates = [0.01,0.001,0.0001]\n",
    "models = {}\n",
    "for i in learning_rates:\n",
    "    print(\"learning rate is:\" +str(i))\n",
    "    models[str(i)] = model(train_set_x,train_set_y,test_set_x,test_set_y,num_iterations = 1500,learning_rate = i,print_cost=False)\n",
    "    print('\\n'+\"------------------\"+'\\n')\n",
    "for i in learning_rates:\n",
    "    plt.plot(np.squeeze(models[str(i)][\"costs\"]),label = str(models[str(i)][\"learning_rate\"]))\n",
    "    \n",
    "plt.ylabel('cost')\n",
    "plt.xlabel('iterations')\n",
    "\n",
    "legend = plt.legend(loc = 'upper center',shadow = True)\n",
    "frame = legend.get_frame()\n",
    "frame.set_facecolor('0.90')\n",
    "plt.show()"
   ]
  },
  {
   "cell_type": "code",
   "execution_count": null,
   "metadata": {},
   "outputs": [],
   "source": []
  }
 ],
 "metadata": {
  "kernelspec": {
   "display_name": "Python 3",
   "language": "python",
   "name": "python3"
  },
  "language_info": {
   "codemirror_mode": {
    "name": "ipython",
    "version": 3
   },
   "file_extension": ".py",
   "mimetype": "text/x-python",
   "name": "python",
   "nbconvert_exporter": "python",
   "pygments_lexer": "ipython3",
   "version": "3.8.3"
  }
 },
 "nbformat": 4,
 "nbformat_minor": 4
}
