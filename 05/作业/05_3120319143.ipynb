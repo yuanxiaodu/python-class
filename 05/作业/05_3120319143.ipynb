{
 "cells": [
  {
   "cell_type": "code",
   "execution_count": 1,
   "metadata": {},
   "outputs": [
    {
     "name": "stdin",
     "output_type": "stream",
     "text": [
      "输入分数:\n",
      " 78\n"
     ]
    },
    {
     "name": "stdout",
     "output_type": "stream",
     "text": [
      "78 属于 B\n"
     ]
    }
   ],
   "source": [
    "#!/usr/bin/python3\n",
    " \n",
    "score = int(input('输入分数:\\n'))\n",
    "if score >= 90:\n",
    "    grade = 'A'\n",
    "elif score >= 60:\n",
    "    grade = 'B'\n",
    "else:\n",
    "    grade = 'C'\n",
    " \n",
    "print ('%d 属于 %s' % (score,grade))"
   ]
  },
  {
   "cell_type": "code",
   "execution_count": 2,
   "metadata": {},
   "outputs": [
    {
     "name": "stdout",
     "output_type": "stream",
     "text": [
      "14/01/2021\n",
      "05/01/1941\n",
      "06/01/1941\n",
      "05/01/1942\n"
     ]
    }
   ],
   "source": [
    "#!/usr/bin/python\n",
    "# -*- coding: UTF-8 -*-\n",
    " \n",
    "import datetime\n",
    " \n",
    "if __name__ == '__main__':\n",
    " \n",
    "    # 输出今日日期，格式为 dd/mm/yyyy。更多选项可以查看 strftime() 方法\n",
    "    print(datetime.date.today().strftime('%d/%m/%Y'))\n",
    " \n",
    "    # 创建日期对象\n",
    "    miyazakiBirthDate = datetime.date(1941, 1, 5)\n",
    " \n",
    "    print(miyazakiBirthDate.strftime('%d/%m/%Y'))\n",
    " \n",
    "    # 日期算术运算\n",
    "    miyazakiBirthNextDay = miyazakiBirthDate + datetime.timedelta(days=1)\n",
    " \n",
    "    print(miyazakiBirthNextDay.strftime('%d/%m/%Y'))\n",
    " \n",
    "    # 日期替换\n",
    "    miyazakiFirstBirthday = miyazakiBirthDate.replace(year=miyazakiBirthDate.year + 1)\n",
    " \n",
    "    print(miyazakiFirstBirthday.strftime('%d/%m/%Y'))"
   ]
  },
  {
   "cell_type": "code",
   "execution_count": 3,
   "metadata": {},
   "outputs": [
    {
     "name": "stdin",
     "output_type": "stream",
     "text": [
      "请输入一个字符串:\n",
      " trgf\n"
     ]
    },
    {
     "name": "stdout",
     "output_type": "stream",
     "text": [
      "char = 4,space = 0,digit = 0,others = 0\n"
     ]
    }
   ],
   "source": [
    "#!/usr/bin/python3\n",
    " \n",
    "import string\n",
    "s = input('请输入一个字符串:\\n')\n",
    "letters = 0\n",
    "space = 0\n",
    "digit = 0\n",
    "others = 0\n",
    "for c in s:\n",
    "    if c.isalpha():\n",
    "        letters += 1\n",
    "    elif c.isspace():\n",
    "        space += 1\n",
    "    elif c.isdigit():\n",
    "        digit += 1\n",
    "    else:\n",
    "        others += 1\n",
    "print ('char = %d,space = %d,digit = %d,others = %d' % (letters,space,digit,others))"
   ]
  },
  {
   "cell_type": "code",
   "execution_count": 5,
   "metadata": {},
   "outputs": [
    {
     "name": "stdin",
     "output_type": "stream",
     "text": [
      "n =  4\n",
      "a =  5\n"
     ]
    },
    {
     "name": "stdout",
     "output_type": "stream",
     "text": [
      "5\n",
      "55\n",
      "555\n",
      "5555\n",
      "计算和为： 6170\n"
     ]
    }
   ],
   "source": [
    "#!/usr/bin/python\n",
    "from functools import reduce\n",
    " \n",
    "Tn = 0\n",
    "Sn = []\n",
    "n = int(input('n = '))\n",
    "a = int(input('a = '))\n",
    "for count in range(n):\n",
    "    Tn = Tn + a\n",
    "    a = a * 10\n",
    "    Sn.append(Tn)\n",
    "    print (Tn)\n",
    " \n",
    "Sn = reduce(lambda x,y : x + y,Sn)\n",
    "print (\"计算和为：\",Sn)"
   ]
  },
  {
   "cell_type": "code",
   "execution_count": 6,
   "metadata": {},
   "outputs": [
    {
     "name": "stdout",
     "output_type": "stream",
     "text": [
      "6\n",
      "1 2 3\n",
      "28\n",
      "1 2 4 7 14\n",
      "496\n",
      "1 2 4 8 16 31 62 124 248\n"
     ]
    }
   ],
   "source": [
    "#!/usr/bin/python\n",
    "# -*- coding: UTF-8 -*-\n",
    " \n",
    "from sys import stdout\n",
    "for j in range(2,1001):\n",
    "    k = []\n",
    "    n = -1\n",
    "    s = j\n",
    "    for i in range(1,j):\n",
    "            if j % i == 0:\n",
    "                n += 1\n",
    "                s -= i\n",
    "                k.append(i)\n",
    "    \n",
    "    if s == 0:\n",
    "        print (j)\n",
    "        for i in range(n):\n",
    "            stdout.write(str(k[i]))\n",
    "            stdout.write(' ')\n",
    "        print (k[n])"
   ]
  },
  {
   "cell_type": "code",
   "execution_count": 7,
   "metadata": {},
   "outputs": [
    {
     "name": "stdout",
     "output_type": "stream",
     "text": [
      "总高度：tour = 299.609375\n",
      "第10次反弹高度：height = 0.09765625\n"
     ]
    }
   ],
   "source": [
    "#!/usr/bin/python\n",
    "# -*- coding: UTF-8 -*-\n",
    " \n",
    "tour = []\n",
    "height = []\n",
    " \n",
    "hei = 100.0 # 起始高度\n",
    "tim = 10 # 次数\n",
    " \n",
    "for i in range(1, tim + 1):\n",
    "    # 从第二次开始，落地时的距离应该是反弹高度乘以2（弹到最高点再落下）\n",
    "    if i == 1:\n",
    "        tour.append(hei)\n",
    "    else:\n",
    "        tour.append(2*hei) \n",
    "    hei /= 2\n",
    "    height.append(hei)\n",
    " \n",
    "print('总高度：tour = {0}'.format(sum(tour)))\n",
    "print('第10次反弹高度：height = {0}'.format(height[-1]))"
   ]
  },
  {
   "cell_type": "code",
   "execution_count": 8,
   "metadata": {},
   "outputs": [
    {
     "name": "stdout",
     "output_type": "stream",
     "text": [
      "order is a -- z\t b -- x\tc--y\n"
     ]
    }
   ],
   "source": [
    "#!/usr/bin/python\n",
    "# -*- coding: UTF-8 -*-\n",
    " \n",
    "for i in range(ord('x'),ord('z') + 1):\n",
    "    for j in range(ord('x'),ord('z') + 1):\n",
    "        if i != j:\n",
    "            for k in range(ord('x'),ord('z') + 1):\n",
    "                if (i != k) and (j != k):\n",
    "                    if (i != ord('x')) and (k != ord('x')) and (k != ord('z')):\n",
    "                        print ('order is a -- %s\\t b -- %s\\tc--%s' % (chr(i),chr(j),chr(k)))"
   ]
  },
  {
   "cell_type": "code",
   "execution_count": 9,
   "metadata": {},
   "outputs": [
    {
     "name": "stdout",
     "output_type": "stream",
     "text": [
      "   *\n",
      "  ***\n",
      " *****\n",
      "*******\n",
      " *****\n",
      "  ***\n",
      "   *\n"
     ]
    }
   ],
   "source": [
    "#!/usr/bin/python\n",
    "# -*- coding: UTF-8 -*-\n",
    " \n",
    "from sys import stdout\n",
    "for i in range(4):\n",
    "    for j in range(2 - i + 1):\n",
    "        stdout.write(' ')\n",
    "    for k in range(2 * i + 1):\n",
    "        stdout.write('*')\n",
    "    print('')\n",
    " \n",
    "for i in range(3):\n",
    "    for j in range(i + 1):\n",
    "        stdout.write(' ')\n",
    "    for k in range(4 - 2 * i + 1):\n",
    "        stdout.write('*')\n",
    "    print('')"
   ]
  },
  {
   "cell_type": "code",
   "execution_count": 10,
   "metadata": {},
   "outputs": [
    {
     "name": "stdout",
     "output_type": "stream",
     "text": [
      "32.66026079864164\n"
     ]
    }
   ],
   "source": [
    "#!/usr/bin/python\n",
    "# -*- coding: UTF-8 -*-\n",
    " \n",
    "a = 2.0\n",
    "b = 1.0\n",
    "s = 0\n",
    "for n in range(1,21):\n",
    "    s += a / b\n",
    "    t = a\n",
    "    a = a + b\n",
    "    b = t\n",
    "print (s)"
   ]
  },
  {
   "cell_type": "code",
   "execution_count": 11,
   "metadata": {},
   "outputs": [
    {
     "name": "stdout",
     "output_type": "stream",
     "text": [
      "32.66026079864164\n",
      "32.36067977602954\n"
     ]
    }
   ],
   "source": [
    "#!/usr/bin/python\n",
    "# -*- coding: UTF-8 -*-\n",
    " \n",
    "a = 2.0\n",
    "b = 1.0\n",
    "s = 0.0\n",
    "for n in range(1,21):\n",
    "    s += a / b\n",
    "    b,a = a , a + b\n",
    "print (s)\n",
    " \n",
    "s = 0.0\n",
    "for n in range(1,21):\n",
    "    s += a / b\n",
    "    b,a = a , a + b\n",
    "print (s)"
   ]
  },
  {
   "cell_type": "code",
   "execution_count": 12,
   "metadata": {},
   "outputs": [
    {
     "name": "stdout",
     "output_type": "stream",
     "text": [
      "32.66026079864164\n"
     ]
    }
   ],
   "source": [
    "#!/usr/bin/python\n",
    " \n",
    "from functools import reduce\n",
    " \n",
    "a = 2.0\n",
    "b = 1.0\n",
    "l = []\n",
    "l.append(a / b)\n",
    "for n in range(1,20):\n",
    "    b,a = a,a + b\n",
    "    l.append(a / b)\n",
    "print (reduce(lambda x,y: x + y,l))"
   ]
  },
  {
   "cell_type": "code",
   "execution_count": 13,
   "metadata": {},
   "outputs": [
    {
     "name": "stdout",
     "output_type": "stream",
     "text": [
      "1! + 2! + 3! + ... + 20! = 2561327494111820313\n"
     ]
    }
   ],
   "source": [
    "#!/usr/bin/python\n",
    "# -*- coding: UTF-8 -*-\n",
    " \n",
    "n = 0\n",
    "s = 0\n",
    "t = 1\n",
    "for n in range(1,21):\n",
    "    t *= n\n",
    "    s += t\n",
    "print ('1! + 2! + 3! + ... + 20! = %d' % s)"
   ]
  },
  {
   "cell_type": "code",
   "execution_count": 14,
   "metadata": {},
   "outputs": [
    {
     "name": "stdout",
     "output_type": "stream",
     "text": [
      "1! + 2! + 3! + ... + 20! = 2561327494111820313\n"
     ]
    }
   ],
   "source": [
    "#!/usr/bin/python\n",
    "# -*- coding: UTF-8 -*-\n",
    " \n",
    "s = 0\n",
    "l = range(1,21)\n",
    "def op(x):\n",
    "    r = 1\n",
    "    for i in range(1,x + 1):\n",
    "        r *= i\n",
    "    return r\n",
    "s = sum(map(op,l))\n",
    "print ('1! + 2! + 3! + ... + 20! = %d' % s)"
   ]
  },
  {
   "cell_type": "code",
   "execution_count": 15,
   "metadata": {},
   "outputs": [
    {
     "name": "stdout",
     "output_type": "stream",
     "text": [
      "120\n"
     ]
    }
   ],
   "source": [
    "#!/usr/bin/python\n",
    "# -*- coding: UTF-8 -*-\n",
    " \n",
    "def fact(j):\n",
    "    sum = 0\n",
    "    if j == 0:\n",
    "        sum = 1\n",
    "    else:\n",
    "        sum = j * fact(j - 1)\n",
    "    return sum\n",
    " \n",
    "print (fact(5))"
   ]
  },
  {
   "cell_type": "code",
   "execution_count": 16,
   "metadata": {},
   "outputs": [
    {
     "name": "stdin",
     "output_type": "stream",
     "text": [
      "Input a string: rsvgj\n"
     ]
    },
    {
     "name": "stdout",
     "output_type": "stream",
     "text": [
      "j\n",
      "g\n",
      "v\n",
      "s\n",
      "r\n"
     ]
    }
   ],
   "source": [
    "#!/usr/bin/python3\n",
    " \n",
    "def output(s,l):\n",
    "    if l==0:\n",
    "       return\n",
    "    print (s[l-1])\n",
    "    output(s,l-1)\n",
    " \n",
    "s = input('Input a string:')\n",
    "l = len(s)\n",
    "output(s,l)"
   ]
  },
  {
   "cell_type": "code",
   "execution_count": 17,
   "metadata": {},
   "outputs": [
    {
     "name": "stdout",
     "output_type": "stream",
     "text": [
      "18\n"
     ]
    }
   ],
   "source": [
    "#!/usr/bin/python\n",
    "# -*- coding: UTF-8 -*-\n",
    " \n",
    "def age(n):\n",
    "    if n == 1: c = 10\n",
    "    else: c = age(n - 1) + 2\n",
    "    return c\n",
    "print (age(5))"
   ]
  },
  {
   "cell_type": "code",
   "execution_count": 18,
   "metadata": {},
   "outputs": [
    {
     "name": "stdin",
     "output_type": "stream",
     "text": [
      "请输入一个数:\n",
      " 45769\n"
     ]
    },
    {
     "name": "stdout",
     "output_type": "stream",
     "text": [
      "5 位数： 9 6 7 5 4\n"
     ]
    }
   ],
   "source": [
    "#!/usr/bin/python\n",
    " \n",
    "x = int(input(\"请输入一个数:\\n\"))\n",
    "a = x // 10000\n",
    "b = x % 10000 // 1000\n",
    "c = x % 1000 // 100\n",
    "d = x % 100 // 10\n",
    "e = x % 10\n",
    " \n",
    "if a != 0:\n",
    "    print (\"5 位数：\",e,d,c,b,a)\n",
    "elif b != 0:\n",
    "    print (\"4 位数：\",e,d,c,b)\n",
    "elif c != 0:\n",
    "    print (\"3 位数：\",e,d,c)\n",
    "elif d != 0:\n",
    "    print (\"2 位数：\",e,d)\n",
    "else:\n",
    "    print (\"1 位数：\",e)"
   ]
  },
  {
   "cell_type": "code",
   "execution_count": 19,
   "metadata": {},
   "outputs": [
    {
     "name": "stdin",
     "output_type": "stream",
     "text": [
      "请输入一个数字:\n",
      " 23657\n"
     ]
    },
    {
     "name": "stdout",
     "output_type": "stream",
     "text": [
      "23657 不是一个回文数!\n"
     ]
    }
   ],
   "source": [
    "#!/usr/bin/python3\n",
    " \n",
    "a = int(input(\"请输入一个数字:\\n\"))\n",
    "x = str(a)\n",
    "flag = True\n",
    " \n",
    "for i in range(len(x)//2):\n",
    "    if x[i] != x[-i - 1]:\n",
    "        flag = False\n",
    "        break\n",
    "if flag:\n",
    "    print (\"%d 是一个回文数!\" % a)\n",
    "else:\n",
    "    print (\"%d 不是一个回文数!\" % a)"
   ]
  },
  {
   "cell_type": "code",
   "execution_count": 21,
   "metadata": {},
   "outputs": [
    {
     "name": "stdin",
     "output_type": "stream",
     "text": [
      "please input: s\n"
     ]
    },
    {
     "name": "stdout",
     "output_type": "stream",
     "text": [
      "data error\n"
     ]
    }
   ],
   "source": [
    "#!/usr/bin/python3\n",
    " \n",
    "letter = input(\"please input:\")\n",
    "#while letter  != 'Y':\n",
    "if letter == 'S':\n",
    "    print ('please input second letter:')\n",
    "    letter = input(\"please input:\")\n",
    "    if letter == 'a':\n",
    "        print ('Saturday')\n",
    "    elif letter  == 'u':\n",
    "        print ('Sunday')\n",
    "    else:\n",
    "        print ('data error')\n",
    "    \n",
    "elif letter == 'F':\n",
    "    print ('Friday')\n",
    "    \n",
    "elif letter == 'M':\n",
    "    print ('Monday')\n",
    "    \n",
    "elif letter == 'T':\n",
    "    print ('please input second letter')\n",
    "    letter = input(\"please input:\")\n",
    " \n",
    "    if letter  == 'u':\n",
    "        print ('Tuesday')\n",
    "    elif letter  == 'h':\n",
    "        print ('Thursday')\n",
    "    else:\n",
    "        print ('data error')\n",
    "        \n",
    "elif letter == 'W':\n",
    "    print ('Wednesday')\n",
    "else:\n",
    "    print ('data error')"
   ]
  },
  {
   "cell_type": "code",
   "execution_count": 22,
   "metadata": {},
   "outputs": [
    {
     "name": "stdout",
     "output_type": "stream",
     "text": [
      "three\n",
      "two\n",
      "one\n"
     ]
    }
   ],
   "source": [
    "#!/usr/bin/python\n",
    "# -*- coding: UTF-8 -*-\n",
    " \n",
    "a = ['one', 'two', 'three']\n",
    "for i in a[::-1]:\n",
    "    print (i)"
   ]
  },
  {
   "cell_type": "code",
   "execution_count": null,
   "metadata": {},
   "outputs": [],
   "source": []
  }
 ],
 "metadata": {
  "kernelspec": {
   "display_name": "Python 3",
   "language": "python",
   "name": "python3"
  },
  "language_info": {
   "codemirror_mode": {
    "name": "ipython",
    "version": 3
   },
   "file_extension": ".py",
   "mimetype": "text/x-python",
   "name": "python",
   "nbconvert_exporter": "python",
   "pygments_lexer": "ipython3",
   "version": "3.8.5"
  }
 },
 "nbformat": 4,
 "nbformat_minor": 4
}
