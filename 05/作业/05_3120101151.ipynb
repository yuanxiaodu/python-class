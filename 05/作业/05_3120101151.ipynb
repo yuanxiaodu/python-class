{
 "cells": [
  {
   "cell_type": "code",
   "execution_count": 1,
   "metadata": {},
   "outputs": [
    {
     "name": "stdout",
     "output_type": "stream",
     "text": [
      "[3, 2, 1]\n"
     ]
    }
   ],
   "source": [
    "def swapList(newList):\n",
    "    size = len(newList)\n",
    "     \n",
    "    temp = newList[0]\n",
    "    newList[0] = newList[size - 1]\n",
    "    newList[size - 1] = temp\n",
    "     \n",
    "    return newList\n",
    "\n",
    "newList = [1, 2, 3]\n",
    " \n",
    "print(swapList(newList))"
   ]
  },
  {
   "cell_type": "code",
   "execution_count": 2,
   "metadata": {},
   "outputs": [
    {
     "name": "stdout",
     "output_type": "stream",
     "text": [
      "[3, 2, 1]\n"
     ]
    }
   ],
   "source": [
    "def swapList(newList):\n",
    "     \n",
    "    newList[0], newList[-1] = newList[-1], newList[0]\n",
    " \n",
    "    return newList\n",
    "     \n",
    "newList = [1, 2, 3]\n",
    "print(swapList(newList))"
   ]
  },
  {
   "cell_type": "code",
   "execution_count": 3,
   "metadata": {},
   "outputs": [
    {
     "name": "stdout",
     "output_type": "stream",
     "text": [
      "[3, 2, 1]\n"
     ]
    }
   ],
   "source": [
    "def swapList(list):\n",
    "     \n",
    "    get = list[-1], list[0]\n",
    "     \n",
    "    list[0], list[-1] = get\n",
    "     \n",
    "    return list\n",
    "     \n",
    "newList = [1, 2, 3]\n",
    "print(swapList(newList))"
   ]
  },
  {
   "cell_type": "code",
   "execution_count": 4,
   "metadata": {},
   "outputs": [
    {
     "name": "stdout",
     "output_type": "stream",
     "text": [
      "[19, 65, 23, 90]\n"
     ]
    }
   ],
   "source": [
    "def swapPositions(list, pos1, pos2):\n",
    "     \n",
    "    list[pos1], list[pos2] = list[pos2], list[pos1]\n",
    "    return list\n",
    " \n",
    "List = [23, 65, 19, 90]\n",
    "pos1, pos2  = 1, 3\n",
    " \n",
    "print(swapPositions(List, pos1-1, pos2-1))"
   ]
  },
  {
   "cell_type": "code",
   "execution_count": 5,
   "metadata": {},
   "outputs": [
    {
     "name": "stdout",
     "output_type": "stream",
     "text": [
      "[19, 65, 23, 90]\n"
     ]
    }
   ],
   "source": [
    "def swapPositions(list, pos1, pos2):\n",
    "     \n",
    "    first_ele = list.pop(pos1)    \n",
    "    second_ele = list.pop(pos2-1)\n",
    "     \n",
    "    list.insert(pos1, second_ele)  \n",
    "    list.insert(pos2, first_ele)  \n",
    "     \n",
    "    return list\n",
    " \n",
    "List = [23, 65, 19, 90]\n",
    "pos1, pos2  = 1, 3\n",
    " \n",
    "print(swapPositions(List, pos1-1, pos2-1))"
   ]
  },
  {
   "cell_type": "code",
   "execution_count": 6,
   "metadata": {},
   "outputs": [
    {
     "name": "stdout",
     "output_type": "stream",
     "text": [
      "[1, 2, 3, 4, 6, 5, 7]\n"
     ]
    }
   ],
   "source": [
    "def reversal(list,n1,n2):\n",
    "    temp = list[n1]\n",
    "    list[n1] = list[n2]\n",
    "    list[n2] = temp\n",
    "    print(list)\n",
    "list = [1,2,3,4,5,6,7]\n",
    "reversal(list,4,5)"
   ]
  },
  {
   "cell_type": "code",
   "execution_count": 7,
   "metadata": {},
   "outputs": [
    {
     "name": "stdout",
     "output_type": "stream",
     "text": [
      "5\n"
     ]
    }
   ],
   "source": [
    "def countX(lst, x):\n",
    "    count = 0\n",
    "    for ele in lst:\n",
    "        if (ele == x):\n",
    "            count = count + 1\n",
    "    return count\n",
    " \n",
    "lst = [8, 6, 8, 10, 8, 20, 10, 8, 8]\n",
    "x = 8\n",
    "print(countX(lst, x))"
   ]
  },
  {
   "cell_type": "code",
   "execution_count": 8,
   "metadata": {},
   "outputs": [
    {
     "name": "stdout",
     "output_type": "stream",
     "text": [
      "5\n"
     ]
    }
   ],
   "source": [
    "def countX(lst, x):\n",
    "    return lst.count(x)\n",
    " \n",
    "lst = [8, 6, 8, 10, 8, 20, 10, 8, 8]\n",
    "x = 8\n",
    "print(countX(lst, x))"
   ]
  },
  {
   "cell_type": "code",
   "execution_count": 9,
   "metadata": {},
   "outputs": [
    {
     "name": "stdout",
     "output_type": "stream",
     "text": [
      "列表元素之和为:  74\n",
      "列表元素之和为:  74\n"
     ]
    }
   ],
   "source": [
    "total = 0\n",
    " \n",
    "list1 = [11, 5, 17, 18, 23]  \n",
    " \n",
    "for ele in range(0, len(list1)):\n",
    "    total = total + list1[ele]\n",
    " \n",
    "print(\"列表元素之和为: \", total)\n",
    "\n",
    "total = 0\n",
    "ele = 0\n",
    " \n",
    "list1 = [11, 5, 17, 18, 23]  \n",
    " \n",
    "while(ele < len(list1)):\n",
    "    total = total + list1[ele]\n",
    "    ele += 1\n",
    "     \n",
    "print(\"列表元素之和为: \", total)"
   ]
  },
  {
   "cell_type": "code",
   "execution_count": 10,
   "metadata": {},
   "outputs": [
    {
     "name": "stdout",
     "output_type": "stream",
     "text": [
      "6\n",
      "24\n"
     ]
    }
   ],
   "source": [
    "def multiplyList(myList) :\n",
    "     \n",
    "    result = 1\n",
    "    for x in myList:\n",
    "         result = result * x  \n",
    "    return result  \n",
    "     \n",
    "list1 = [1, 2, 3]  \n",
    "list2 = [3, 2, 4]\n",
    "print(multiplyList(list1))\n",
    "print(multiplyList(list2))"
   ]
  },
  {
   "cell_type": "code",
   "execution_count": 12,
   "metadata": {},
   "outputs": [
    {
     "name": "stdout",
     "output_type": "stream",
     "text": [
      "原始字符串为 : Runoob\n",
      "字符串移除后为 : Ruoob\n",
      "存在！\n",
      "Ruoob\n",
      "Runob\n"
     ]
    }
   ],
   "source": [
    "test_str = \"Runoob\"\n",
    " \n",
    "# 输出原始字符串\n",
    "print (\"原始字符串为 : \" + test_str)\n",
    " \n",
    "# 移除第三个字符 n\n",
    "new_str = \"\"\n",
    " \n",
    "for i in range(0, len(test_str)):\n",
    "    if i != 2:\n",
    "        new_str = new_str + test_str[i]\n",
    "\n",
    "print (\"字符串移除后为 : \" + new_str)\n",
    "\n",
    "str = 'Runoob'\n",
    "\n",
    "'''\n",
    "@param str 原字符串\n",
    "@paramnum 要移除的位置\n",
    "@return 移除后的字符串\n",
    "'''\n",
    "def check(string, sub_str): \n",
    "    if (string.find(sub_str) == -1): \n",
    "        print(\"不存在！\") \n",
    "    else: \n",
    "        print(\"存在！\") \n",
    " \n",
    "string = \"www.runoob.com\"\n",
    "sub_str =\"runoob\"\n",
    "check(string, sub_str)\n",
    "def ff(str,num):\n",
    "    return str[:num] + str[num+1:];\n",
    "print(ff(str,2));\n",
    "print(ff(str,4));"
   ]
  },
  {
   "cell_type": "code",
   "execution_count": 13,
   "metadata": {},
   "outputs": [
    {
     "name": "stdout",
     "output_type": "stream",
     "text": [
      "Urls:  ['https://www.runoob.com', 'https://www.google.com']\n"
     ]
    }
   ],
   "source": [
    "import re \n",
    "  \n",
    "def Find(string): \n",
    "    # findall() 查找匹配正则表达式的字符串\n",
    "    url = re.findall('https?://(?:[-\\w.]|(?:%[\\da-fA-F]{2}))+', string)\n",
    "    return url \n",
    "      \n",
    " \n",
    "string = 'Runoob 的网页地址为：https://www.runoob.com，Google 的网页地址为：https://www.google.com'\n",
    "print(\"Urls: \", Find(string))"
   ]
  },
  {
   "cell_type": "code",
   "execution_count": 14,
   "metadata": {},
   "outputs": [
    {
     "name": "stdout",
     "output_type": "stream",
     "text": [
      "120\n"
     ]
    }
   ],
   "source": [
    "def exec_code(): \n",
    "    LOC = \"\"\" \n",
    "def factorial(num): \n",
    "    fact=1 \n",
    "    for i in range(1,num+1): \n",
    "        fact = fact*i \n",
    "    return fact \n",
    "print(factorial(5)) \n",
    "\"\"\"\n",
    "    exec(LOC) \n",
    " \n",
    "exec_code()"
   ]
  },
  {
   "cell_type": "code",
   "execution_count": 15,
   "metadata": {},
   "outputs": [
    {
     "name": "stdout",
     "output_type": "stream",
     "text": [
      "按键(key)排序:\n",
      "(1, 2) (2, 56) (3, 323) (4, 24) (5, 12) (6, 18) "
     ]
    }
   ],
   "source": [
    "def dictionairy():  \n",
    "  \n",
    "    # 声明字典\n",
    "    key_value ={}     \n",
    " \n",
    "    # 初始化\n",
    "    key_value[2] = 56       \n",
    "    key_value[1] = 2 \n",
    "    key_value[5] = 12 \n",
    "    key_value[4] = 24\n",
    "    key_value[6] = 18      \n",
    "    key_value[3] = 323 \n",
    " \n",
    "    print (\"按键(key)排序:\")   \n",
    " \n",
    "    # sorted(key_value) 返回重新排序的列表\n",
    "    # 字典按键排序\n",
    "    for i in sorted (key_value) : \n",
    "        print ((i, key_value[i]), end =\" \") \n",
    "  \n",
    "def main(): \n",
    "    # 调用函数\n",
    "    dictionairy()              \n",
    "      \n",
    "# 主函数\n",
    "if __name__==\"__main__\":      \n",
    "    main()"
   ]
  },
  {
   "cell_type": "code",
   "execution_count": 16,
   "metadata": {},
   "outputs": [
    {
     "name": "stdout",
     "output_type": "stream",
     "text": [
      "按值(value)排序:\n",
      "[(1, 2), (5, 12), (6, 18), (4, 24), (2, 56), (3, 323)]\n"
     ]
    }
   ],
   "source": [
    "def dictionairy():  \n",
    " \n",
    "    # 声明字典\n",
    "    key_value ={}     \n",
    " \n",
    "    # 初始化\n",
    "    key_value[2] = 56       \n",
    "    key_value[1] = 2 \n",
    "    key_value[5] = 12 \n",
    "    key_value[4] = 24\n",
    "    key_value[6] = 18      \n",
    "    key_value[3] = 323 \n",
    " \n",
    " \n",
    "    print (\"按值(value)排序:\")   \n",
    "    print(sorted(key_value.items(), key = lambda kv:(kv[1], kv[0])))     \n",
    "   \n",
    "def main(): \n",
    "    dictionairy()             \n",
    "      \n",
    "if __name__==\"__main__\":       \n",
    "    main()"
   ]
  },
  {
   "cell_type": "code",
   "execution_count": 17,
   "metadata": {},
   "outputs": [
    {
     "name": "stdout",
     "output_type": "stream",
     "text": [
      "Sum : 600\n"
     ]
    }
   ],
   "source": [
    "def returnSum(myDict): \n",
    "      \n",
    "    sum = 0\n",
    "    for i in myDict: \n",
    "        sum = sum + myDict[i] \n",
    "      \n",
    "    return sum\n",
    "  \n",
    "dict = {'a': 100, 'b':200, 'c':300} \n",
    "print(\"Sum :\", returnSum(dict))"
   ]
  },
  {
   "cell_type": "code",
   "execution_count": 18,
   "metadata": {},
   "outputs": [
    {
     "name": "stdout",
     "output_type": "stream",
     "text": [
      "头部切片翻转 :  noobRu\n",
      "尾部切片翻转 :  obRuno\n"
     ]
    }
   ],
   "source": [
    "def rotate(input,d): \n",
    "  \n",
    "    Lfirst = input[0 : d] \n",
    "    Lsecond = input[d :] \n",
    "    Rfirst = input[0 : len(input)-d] \n",
    "    Rsecond = input[len(input)-d : ] \n",
    "  \n",
    "    print( \"头部切片翻转 : \", (Lsecond + Lfirst) )\n",
    "    print( \"尾部切片翻转 : \", (Rsecond + Rfirst) )\n",
    " \n",
    "if __name__ == \"__main__\": \n",
    "    input = 'Runoob'\n",
    "    d=2  # 截取两个字符\n",
    "    rotate(input,d)"
   ]
  },
  {
   "cell_type": "code",
   "execution_count": 19,
   "metadata": {},
   "outputs": [
    {
     "name": "stdout",
     "output_type": "stream",
     "text": [
      "6\n",
      "6\n"
     ]
    }
   ],
   "source": [
    "def findLen(str): \n",
    "    counter = 0\n",
    "    while str[counter:]: \n",
    "        counter += 1\n",
    "    return counter \n",
    "  \n",
    "str = \"runoob\"\n",
    "print(findLen(str))\n",
    "\n",
    "str = \"runoob\"\n",
    "print(len(str))"
   ]
  },
  {
   "cell_type": "code",
   "execution_count": null,
   "metadata": {},
   "outputs": [],
   "source": []
  }
 ],
 "metadata": {
  "kernelspec": {
   "display_name": "Python 3",
   "language": "python",
   "name": "python3"
  },
  "language_info": {
   "codemirror_mode": {
    "name": "ipython",
    "version": 3
   },
   "file_extension": ".py",
   "mimetype": "text/x-python",
   "name": "python",
   "nbconvert_exporter": "python",
   "pygments_lexer": "ipython3",
   "version": "3.8.5"
  }
 },
 "nbformat": 4,
 "nbformat_minor": 4
}
