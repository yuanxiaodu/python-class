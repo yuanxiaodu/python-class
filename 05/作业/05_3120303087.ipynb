{
 "cells": [
  {
   "cell_type": "code",
   "execution_count": 6,
   "metadata": {},
   "outputs": [
    {
     "name": "stdout",
     "output_type": "stream",
     "text": [
      "q9Ut\n"
     ]
    }
   ],
   "source": [
    "import random\n",
    "if __name__ ==\"__main__\":    #四位数字字母验证码的生成\n",
    "    checkcode=\"\" #保存验证码的变量\n",
    "    for i in range(4):\n",
    "        index=random.randrange(0,4)  #生成一个0~3中的数\n",
    "        if index!=i and index +1 !=i:\n",
    "            checkcode +=chr(random.randint(97,122))  # 生成a~z中的一个小写字母\n",
    "        elif index +1==i:\n",
    "            checkcode +=chr(random.randint(65,90) ) # 生成A~Z中的一个大写字母\n",
    "        else:\n",
    "            checkcode +=str(random.randint(1,9))  # 数字1-9\n",
    "    print(checkcode)"
   ]
  },
  {
   "cell_type": "code",
   "execution_count": 8,
   "metadata": {},
   "outputs": [
    {
     "name": "stdin",
     "output_type": "stream",
     "text": [
      "请输入用户名： abc\n",
      "请输入密码： 123456\n"
     ]
    },
    {
     "name": "stdout",
     "output_type": "stream",
     "text": [
      "登录成功\n",
      "输入提示数字，执行相应操作\n",
      "0：退出\n",
      "1：查看登录日志\n",
      "    \n"
     ]
    },
    {
     "name": "stdin",
     "output_type": "stream",
     "text": [
      "输入操作数字: 1\n"
     ]
    },
    {
     "name": "stdout",
     "output_type": "stream",
     "text": [
      "查看登录日志\n",
      "用户名：abc 登录时间：2021-01-14 21:01:38\n",
      "\n",
      "输入提示数字，执行相应操作\n",
      "0：退出\n",
      "1：查看登录日志\n",
      "    \n"
     ]
    },
    {
     "name": "stdin",
     "output_type": "stream",
     "text": [
      "输入操作数字: 0\n"
     ]
    },
    {
     "name": "stdout",
     "output_type": "stream",
     "text": [
      "退出成功\n"
     ]
    }
   ],
   "source": [
    "import time\n",
    "\n",
    "def show_info():\n",
    "    print('''输入提示数字，执行相应操作\n",
    "0：退出\n",
    "1：查看登录日志\n",
    "    ''')\n",
    "\n",
    "def write_loginfo(username):\n",
    "    \"\"\"\n",
    "    将用户名和登录时间写入日志\n",
    "    :param username: 用户名\n",
    "    \"\"\"\n",
    "    with open('log.txt','a') as f:\n",
    "        string = \"用户名：{} 登录时间：{}\\n\".format(username ,time.strftime('%Y-%m-%d %H:%M:%S',time.localtime(time.time())))\n",
    "        f.write(string)\n",
    "\n",
    "def read_loginfo():\n",
    "    \"\"\"\n",
    "    读取日志\n",
    "    \"\"\"\n",
    "    with open('log.txt','r') as f:\n",
    "        while True:\n",
    "            line = f.readline()\n",
    "            if line == '':\n",
    "                break  # 跳出循环\n",
    "            print(line)  # 输出一行内容\n",
    "\n",
    "if __name__ == \"__main__\":\n",
    "    # 输入用户名\n",
    "    username = input('请输入用户名：')\n",
    "    # 检测用户名\n",
    "    while len(username) < 2 :\n",
    "        print('用户名长度应不少于2位')\n",
    "        username = input('请输入用户名：')\n",
    "    # 输入密码\n",
    "    password = input('请输入密码：')\n",
    "    # 检测密码\n",
    "    while len(password) < 6 :\n",
    "        print('密码长度应不少于6位')\n",
    "        password = input('请输入密码：')\n",
    "\n",
    "    print('登录成功')\n",
    "    write_loginfo(username)  # 写入日志\n",
    "    show_info()              # 提示信息\n",
    "    num = int(input('输入操作数字:')) # 输入数字\n",
    "    while True:\n",
    "        if num == 0:\n",
    "            print('退出成功')\n",
    "            break\n",
    "        elif num == 1:\n",
    "            print('查看登录日志')\n",
    "            read_loginfo()\n",
    "            show_info()\n",
    "            num = int(input('输入操作数字:'))\n",
    "        else:\n",
    "            print('您输入的数字有误')\n",
    "            show_info()\n",
    "            num = int(input('输入操作数字:'))"
   ]
  },
  {
   "cell_type": "code",
   "execution_count": 10,
   "metadata": {},
   "outputs": [
    {
     "name": "stdin",
     "output_type": "stream",
     "text": [
      "请输入想要提问的内容： bye\n"
     ]
    },
    {
     "name": "stdout",
     "output_type": "stream",
     "text": [
      "谢谢，再见！\n"
     ]
    }
   ],
   "source": [
    "# 任务2：模拟淘宝客服自动回复\n",
    "\n",
    "def find_answer(question):\n",
    "    with open('reply.txt','r') as f :\n",
    "        while True:\n",
    "            line=f.readline()\n",
    "            if  not line:   #也可以为if  line==''\n",
    "                break\n",
    "            keyword=line.split('|')[0]\n",
    "            reply=line.split('|')[1]\n",
    "            if keyword in question:\n",
    "                return reply\n",
    "        return '对不起，没有你想要找的问题'\n",
    "\n",
    "if __name__ =='__main__':\n",
    "    question=input('请输入想要提问的内容：')\n",
    "    while True:\n",
    "        if question=='bye':\n",
    "            break\n",
    "        reply=find_answer(question)\n",
    "        if not reply:\n",
    "            question=input(\"小蜜不懂您在说什么，您可以问一些与订单、账户和支付相关的内容（退出请输入bye）：\")\n",
    "        else:\n",
    "            print(reply)\n",
    "            question=input(\"您可以问一些与订单、账户和支付相关的内容（退出请输入bye）：\")\n",
    "    print('谢谢，再见！')"
   ]
  },
  {
   "cell_type": "code",
   "execution_count": 11,
   "metadata": {},
   "outputs": [
    {
     "name": "stdin",
     "output_type": "stream",
     "text": [
      "输入数字1: 5\n",
      "输入数字2: 8\n"
     ]
    },
    {
     "name": "stdout",
     "output_type": "stream",
     "text": [
      "8\n",
      "5\n",
      "5\n",
      "3\n",
      "3\n",
      "2\n",
      "2\n",
      "1\n",
      "1 is the maximum common divisor最大公约数\n",
      "40 is the least common multiple，最小公倍数\n"
     ]
    }
   ],
   "source": [
    "a=int(input('输入数字1:'))\n",
    "b=int(input('输入数字2:'))\n",
    "s=a*b\n",
    "while a%b!=0:\n",
    "    a,b=b,(a%b)\n",
    "    print(a)\n",
    "    print(b)\n",
    "else:\n",
    "    print(b,'is the maximum common divisor最大公约数')\n",
    "    print(s//b,'is the least common multiple，最小公倍数')"
   ]
  },
  {
   "cell_type": "code",
   "execution_count": 13,
   "metadata": {},
   "outputs": [
    {
     "name": "stdin",
     "output_type": "stream",
     "text": [
      "please enter 1st num: 5\n",
      "please enter 2nd num: 8\n"
     ]
    },
    {
     "name": "stdout",
     "output_type": "stream",
     "text": [
      "1 is the maximum common divisor\n",
      "40 is the least common multiple\n"
     ]
    }
   ],
   "source": [
    "a=int(input('please enter 1st num:'))\n",
    "b=int(input('please enter 2nd num:'))\n",
    "s=a*b\n",
    "\n",
    "while a!=b:\n",
    "    if a>b:\n",
    "        a-=b\n",
    "    elif a<b:\n",
    "        b-=a\n",
    "else:\n",
    "    print(a,'is the maximum common divisor')\n",
    "    print(s//a,'is the least common multiple')"
   ]
  },
  {
   "cell_type": "code",
   "execution_count": null,
   "metadata": {},
   "outputs": [
    {
     "name": "stdin",
     "output_type": "stream",
     "text": [
      "请输入一个年份： 1998\n"
     ]
    },
    {
     "name": "stdout",
     "output_type": "stream",
     "text": [
      "1998 不是闰年\n"
     ]
    },
    {
     "name": "stdin",
     "output_type": "stream",
     "text": [
      "请输入一个年份： 0\n"
     ]
    },
    {
     "name": "stdout",
     "output_type": "stream",
     "text": [
      "0 是闰年\n"
     ]
    }
   ],
   "source": [
    "# 判断是否为闰年\n",
    "while True:\n",
    "    try:\n",
    "        num=eval(input(\"请输入一个年份：\"))\n",
    "    except:\n",
    "        print('输入错误年份')\n",
    "    if (num %4==0 and num%100 !=0) or num %400==0:\n",
    "        print(num,\"是闰年\")\n",
    "        \n",
    "    else:\n",
    "        print(num,\"不是闰年\")"
   ]
  },
  {
   "cell_type": "code",
   "execution_count": 1,
   "metadata": {},
   "outputs": [
    {
     "name": "stdin",
     "output_type": "stream",
     "text": [
      "请输入年份： 1998\n"
     ]
    },
    {
     "name": "stdout",
     "output_type": "stream",
     "text": [
      "平年\n"
     ]
    }
   ],
   "source": [
    "import calendar\n",
    "\n",
    "year = int(input(\"请输入年份：\"))\n",
    "check_year=calendar.isleap(year)\n",
    "if check_year == True:\n",
    "    print (\"闰年\")\n",
    "else:\n",
    "    print (\"平年\")"
   ]
  },
  {
   "cell_type": "code",
   "execution_count": 1,
   "metadata": {},
   "outputs": [
    {
     "name": "stdout",
     "output_type": "stream",
     "text": [
      "输入字符串: abcdefgHABC123456中华民族\n",
      "包含的数字: ['1', '2', '3', '4', '5', '6']\n",
      "包含的字母: ['a', 'b', 'c', 'd', 'e', 'f', 'g', 'H', 'A', 'B', 'C']\n",
      "包含的汉字: ['中', '华', '民', '族']\n"
     ]
    }
   ],
   "source": [
    "import re\n",
    "str_test='abcdefgHABC123456中华民族'\n",
    "\n",
    "#把正则表达式编译成对象,如果经常使用该对象,此种方式可提高一定效率\n",
    "num_regex = re.compile(r'[0-9]')\n",
    "zimu_regex = re.compile(r'[a-zA-z]')\n",
    "hanzi_regex = re.compile(r'[\\u4E00-\\u9FA5]')\n",
    "\n",
    "print('输入字符串:',str_test)\n",
    "#findall获取字符串中所有匹配的字符\n",
    "num_list = num_regex.findall(str_test)\n",
    "print('包含的数字:',num_list)\n",
    "zimu_list = zimu_regex.findall(str_test)\n",
    "print('包含的字母:',zimu_list)\n",
    "hanzi_list = hanzi_regex.findall(str_test)\n",
    "print('包含的汉字:',hanzi_list)"
   ]
  },
  {
   "cell_type": "code",
   "execution_count": 2,
   "metadata": {},
   "outputs": [
    {
     "name": "stdout",
     "output_type": "stream",
     "text": [
      "在1000000次实验中：\n",
      "若不更改门，获胜概率为33.3%.\n",
      "若更改门，获胜概率为66.7%.\n"
     ]
    }
   ],
   "source": [
    "import random as r\n",
    "\n",
    "#总次数\n",
    "total=1000000 #1000,1W,10W,100W\n",
    "#换与不换的获胜次数\n",
    "win1=0\n",
    "win2=0\n",
    "\n",
    "for i in range(total):\n",
    "    #模拟选择过程\n",
    "    man=r.randint(1,3)\n",
    "    car=r.randint(1,3)\n",
    "    #结果：一开始为车门，不换+1.\n",
    "    #       否则则一开始为羊门，换+1.\n",
    "    if man==car:\n",
    "        win1+=1\n",
    "    else:\n",
    "        win2+=1\n",
    "\n",
    "print(\"在{}次实验中：\".format(total))\n",
    "print(\"若不更改门，获胜概率为{:.3}%.\".format((win1/total)*100))\n",
    "print(\"若更改门，获胜概率为{:.3}%.\".format((win2/total)*100))"
   ]
  },
  {
   "cell_type": "code",
   "execution_count": 3,
   "metadata": {},
   "outputs": [
    {
     "name": "stdout",
     "output_type": "stream",
     "text": [
      "6499\n",
      "不更改选择得到汽车的概率为0.34\n",
      "更改选择得到汽车的概率为0.66\n"
     ]
    }
   ],
   "source": [
    "import random\n",
    "x=random.randint(5000,10000)\n",
    "print(x)\n",
    "change=0\n",
    "nochange=0\n",
    "for i in range(1,x+1):\n",
    "  a=random.randrange(1,4)\n",
    "  b=random.randrange(1,4)\n",
    "  if a==b:\n",
    "    nochange=nochange+1\n",
    "  else:\n",
    "    change=change+1\n",
    "print(\"不更改选择得到汽车的概率为{:.2f}\".format(nochange/x))\n",
    "\n",
    "print(\"更改选择得到汽车的概率为{:.2f}\".format(change/x))"
   ]
  },
  {
   "cell_type": "code",
   "execution_count": 4,
   "metadata": {},
   "outputs": [],
   "source": [
    "import turtle as t\n",
    " \n",
    "t.pu()\n",
    "t.goto(0,200)\n",
    "t.circle(-130,-80)\n",
    "t.pd()\n",
    "t.colormode(255)\n",
    "t.pensize(5)\n",
    "t.color(242,232,184)\n",
    "t.begin_fill()\n",
    "t.pencolor(0,0,0)\n",
    "t.circle(-130,160)\n",
    "t.seth(180)\n",
    "t.fd(255)\n",
    "t.end_fill()\n",
    "  \n",
    " \n",
    "t.begin_fill()\n",
    "t.color(221,65,43)\n",
    "t.pencolor(0,0,0)\n",
    "t.seth(80)\n",
    "t.circle(-130,19)\n",
    "t.seth(0)\n",
    "t.fd(225)\n",
    "t.seth(-59)\n",
    "t.circle(-130,19)\n",
    "t.seth(180)\n",
    "t.fd(255)\n",
    "t.end_fill()\n",
    "  \n",
    " \n",
    "t.begin_fill()\n",
    "t.color(242,232,184)\n",
    "t.pencolor(0,0,0)\n",
    "t.fd(60)\n",
    "t.circle(12,180)\n",
    "t.fd(375)\n",
    "t.circle(12,180)\n",
    "t.fd(255 + 60)\n",
    "t.end_fill()\n",
    "  \n",
    " \n",
    "t.pu()\n",
    "t.setpos(0,-30)\n",
    "t.seth(-180)\n",
    "t.circle(-130,-75)\n",
    "t.pd()\n",
    "t.circle(-130,150)\n",
    "  \n",
    " \n",
    "t.pu()\n",
    "t.color(33,24,24)\n",
    "t.setpos(-45,64)\n",
    "t.seth(-180)\n",
    "t.pd()\n",
    "t.begin_fill()\n",
    "t.circle(33)\n",
    "t.pu()\n",
    "t.setpos(45,64)\n",
    "t.pd()\n",
    "t.circle(33)\n",
    "t.end_fill()\n",
    "  \n",
    "t.pu()\n",
    "t.setpos(0,5)\n",
    "t.pd()\n",
    "t.begin_fill()\n",
    "t.circle(8)\n",
    "t.end_fill()\n",
    "  \n",
    " \n",
    "t.pencolor(0,0,0)\n",
    "t.pu()\n",
    "t.setpos(0,0)\n",
    "t.seth(0)\n",
    "t.circle(-75,45)\n",
    "t.pd()\n",
    "t.circle(-75,270)\n",
    "  \n",
    " \n",
    "t.pu()\n",
    "t.setpos(0,120)\n",
    "t.seth(0)\n",
    "t.circle(-105,136)\n",
    "t.pd()\n",
    "t.circle(-105,86)\n",
    "  \n",
    "t.pu()\n",
    "t.seth(0)\n",
    "t.goto(0,200)\n",
    "t.circle(-130,150)\n",
    "t.pd()\n",
    "t.circle(-130,60)\n",
    "  \n",
    "t.pu()\n",
    "t.setpos(-30,-27)\n",
    "t.seth(260)\n",
    "t.pd()\n",
    "t.fd(52)\n",
    "t.pu()\n",
    "t.setpos(30,-27)\n",
    "t.pd()\n",
    "t.seth(-260)\n",
    "t.fd(-52)\n",
    "t.pu()\n",
    "t.setpos(0,-30)\n",
    "t.seth(-90)\n",
    "t.pd()\n",
    "t.fd(56)\n",
    "  \n",
    " \n",
    "t.pu()\n",
    " \n",
    "t.pencolor(0,0,0)\n",
    "t.setpos(110,145)\n",
    "t.seth(45)\n",
    "t.pd()\n",
    " \n",
    "t.fd(40)\n",
    "t.seth(135)\n",
    "t.circle(-30,235)\n",
    "t.seth(-20)\n",
    "t.circle(-30,220)\n",
    "t.seth(-135)\n",
    "t.fd(40)\n",
    " \n",
    "  \n",
    " \n",
    "t.pu()\n",
    "t.pencolor(0,0,0)\n",
    "t.setpos(-110,145)\n",
    "t.seth(135)\n",
    "t.pd()\n",
    "t.fd(40)\n",
    "t.seth(45)\n",
    "t.circle(30,235)\n",
    "t.seth(-160)\n",
    "t.circle(30,220)\n",
    "t.seth(-45)\n",
    "t.fd(40)\n",
    "  \n",
    " \n",
    "t.pu()\n",
    "t.setpos(70,-10)\n",
    "t.seth(-45)\n",
    "t.pd()\n",
    "t.fd(70)\n",
    "t.seth(45)\n",
    "t.circle(-30,235)\n",
    "t.seth(-70)\n",
    "t.circle(-30,255)\n",
    "t.seth(135)\n",
    "t.fd(22)\n",
    "  \n",
    " \n",
    "t.pu()\n",
    "t.setpos(-70,-10)\n",
    "t.seth(-135)\n",
    "t.pd()\n",
    "t.fd(70)\n",
    "t.seth(135)\n",
    "t.circle(30,235)\n",
    "t.seth(-110)\n",
    "t.circle(30,255)\n",
    "t.seth(45)\n",
    "t.fd(22)\n"
   ]
  },
  {
   "cell_type": "code",
   "execution_count": null,
   "metadata": {},
   "outputs": [],
   "source": []
  }
 ],
 "metadata": {
  "kernelspec": {
   "display_name": "Python 3",
   "language": "python",
   "name": "python3"
  },
  "language_info": {
   "codemirror_mode": {
    "name": "ipython",
    "version": 3
   },
   "file_extension": ".py",
   "mimetype": "text/x-python",
   "name": "python",
   "nbconvert_exporter": "python",
   "pygments_lexer": "ipython3",
   "version": "3.8.3"
  }
 },
 "nbformat": 4,
 "nbformat_minor": 4
}
