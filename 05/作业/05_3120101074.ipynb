{
 "cells": [
  {
   "cell_type": "code",
   "execution_count": 100,
   "metadata": {},
   "outputs": [
    {
     "name": "stdout",
     "output_type": "stream",
     "text": [
      "预测结果:\n",
      " [0 2 1 2 1 1 1 1 1 0 2 1 2 2 0 2 1 1 1 1 0 2 0 1 2 0 2 2 2 2 0 0 1 1 1 0 0\n",
      " 0]\n",
      "结果对比:\n",
      " [ True  True  True  True  True  True  True False  True  True  True  True\n",
      "  True  True  True  True  True  True False  True  True  True  True  True\n",
      "  True  True  True  True  True  True  True  True  True  True  True  True\n",
      "  True  True]\n",
      "直接计算准确率为:\n",
      " 0.9473684210526315\n",
      "在交叉验证中的最好结果：\n",
      " 0.9732100521574205\n",
      "最好的参数模型：\n",
      " KNeighborsClassifier()\n",
      "每次交叉验证后的准确率结果：\n",
      " {'mean_fit_time': array([0.00033418, 0.        , 0.0003322 ]), 'std_fit_time': array([0.00047261, 0.        , 0.0004698 ]), 'mean_score_time': array([0.00231624, 0.00200351, 0.00166249]), 'std_score_time': array([4.73698899e-04, 1.25938783e-05, 4.70021695e-04]), 'param_n_neighbors': masked_array(data=[1, 3, 5],\n",
      "             mask=[False, False, False],\n",
      "       fill_value='?',\n",
      "            dtype=object), 'params': [{'n_neighbors': 1}, {'n_neighbors': 3}, {'n_neighbors': 5}], 'split0_test_score': array([0.97368421, 0.97368421, 0.97368421]), 'split1_test_score': array([0.97297297, 0.97297297, 0.97297297]), 'split2_test_score': array([0.94594595, 0.89189189, 0.97297297]), 'mean_test_score': array([0.96420104, 0.94618303, 0.97321005]), 'std_test_score': array([0.01291157, 0.03839073, 0.00033528]), 'rank_test_score': array([2, 3, 1])}\n"
     ]
    }
   ],
   "source": [
    "from sklearn.datasets import load_iris\n",
    "from sklearn.model_selection import train_test_split\n",
    "from sklearn.preprocessing import StandardScaler\n",
    "from sklearn.neighbors import KNeighborsClassifier\n",
    "from sklearn.model_selection import GridSearchCV\n",
    "# 1.获取数据集\n",
    "iris = load_iris()\n",
    "# 2.数据集划分\n",
    "x_train,x_test,y_train,y_test = train_test_split(iris.data,iris.target,test_size=0.25,random_state=22)\n",
    "# 3.特征工程：标准化\n",
    "#     3.1实例化一个转换器类\n",
    "transfer = StandardScaler()\n",
    "#     3.2调用fit_transform\n",
    "x_train = transfer.fit_transform(x_train)\n",
    "x_test = transfer.fit_transform(x_test)\n",
    "# 4.KNN预估器流程\n",
    "# 4.1 实例化预估器类\n",
    "estimator = KNeighborsClassifier()\n",
    "# 4.2 模型选择与调优——网格搜索和交叉验证\n",
    "param_dict = {\"n_neighbors\":[1,3,5]}\n",
    "estimator = GridSearchCV(estimator,param_grid=param_dict,cv=3)\n",
    "estimator.fit(x_train, y_train)\n",
    "# 5.模型评估\n",
    "#     5.1 方法1，对比预测值和准确值\n",
    "y_predict = estimator.predict(x_test)\n",
    "print(\"预测结果:\\n\",y_predict)\n",
    "print(\"结果对比:\\n\",y_test == y_predict)\n",
    "#     5.2 方法2，直接计算准确率\n",
    "score = estimator.score(x_test,y_test)\n",
    "print(\"直接计算准确率为:\\n\",score)\n",
    "# 查看最终选择的结果和交叉验证结果\n",
    "print(\"在交叉验证中的最好结果：\\n\",estimator.best_score_)\n",
    "print(\"最好的参数模型：\\n\", estimator.best_estimator_)\n",
    "print(\"每次交叉验证后的准确率结果：\\n\", estimator.cv_results_)"
   ]
  },
  {
   "cell_type": "code",
   "execution_count": 74,
   "metadata": {},
   "outputs": [],
   "source": [
    "import pandas as pd\n",
    "from sklearn.model_selection import train_test_split\n",
    "from sklearn.preprocessing import StandardScaler\n",
    "from sklearn.neighbors import KNeighborsClassifier\n",
    "from sklearn.model_selection import GridSearchCV"
   ]
  },
  {
   "cell_type": "code",
   "execution_count": 75,
   "metadata": {},
   "outputs": [
    {
     "ename": "FileNotFoundError",
     "evalue": "[Errno 2] No such file or directory: './1.K近邻算法/train.csv'",
     "output_type": "error",
     "traceback": [
      "\u001b[1;31m---------------------------------------------------------------------------\u001b[0m",
      "\u001b[1;31mFileNotFoundError\u001b[0m                         Traceback (most recent call last)",
      "\u001b[1;32m<ipython-input-75-4f324a64cd61>\u001b[0m in \u001b[0;36m<module>\u001b[1;34m\u001b[0m\n\u001b[1;32m----> 1\u001b[1;33m \u001b[0mfacebook\u001b[0m \u001b[1;33m=\u001b[0m \u001b[0mpd\u001b[0m\u001b[1;33m.\u001b[0m\u001b[0mread_csv\u001b[0m\u001b[1;33m(\u001b[0m\u001b[1;34m'./1.K近邻算法/train.csv'\u001b[0m\u001b[1;33m)\u001b[0m\u001b[1;33m\u001b[0m\u001b[1;33m\u001b[0m\u001b[0m\n\u001b[0m\u001b[0;32m      2\u001b[0m \u001b[0mfacebook\u001b[0m\u001b[1;33m.\u001b[0m\u001b[0mhead\u001b[0m\u001b[1;33m(\u001b[0m\u001b[1;36m20\u001b[0m\u001b[1;33m)\u001b[0m\u001b[1;33m\u001b[0m\u001b[1;33m\u001b[0m\u001b[0m\n",
      "\u001b[1;32mD:\\anaconda\\lib\\site-packages\\pandas\\io\\parsers.py\u001b[0m in \u001b[0;36mread_csv\u001b[1;34m(filepath_or_buffer, sep, delimiter, header, names, index_col, usecols, squeeze, prefix, mangle_dupe_cols, dtype, engine, converters, true_values, false_values, skipinitialspace, skiprows, skipfooter, nrows, na_values, keep_default_na, na_filter, verbose, skip_blank_lines, parse_dates, infer_datetime_format, keep_date_col, date_parser, dayfirst, cache_dates, iterator, chunksize, compression, thousands, decimal, lineterminator, quotechar, quoting, doublequote, escapechar, comment, encoding, dialect, error_bad_lines, warn_bad_lines, delim_whitespace, low_memory, memory_map, float_precision)\u001b[0m\n\u001b[0;32m    684\u001b[0m     )\n\u001b[0;32m    685\u001b[0m \u001b[1;33m\u001b[0m\u001b[0m\n\u001b[1;32m--> 686\u001b[1;33m     \u001b[1;32mreturn\u001b[0m \u001b[0m_read\u001b[0m\u001b[1;33m(\u001b[0m\u001b[0mfilepath_or_buffer\u001b[0m\u001b[1;33m,\u001b[0m \u001b[0mkwds\u001b[0m\u001b[1;33m)\u001b[0m\u001b[1;33m\u001b[0m\u001b[1;33m\u001b[0m\u001b[0m\n\u001b[0m\u001b[0;32m    687\u001b[0m \u001b[1;33m\u001b[0m\u001b[0m\n\u001b[0;32m    688\u001b[0m \u001b[1;33m\u001b[0m\u001b[0m\n",
      "\u001b[1;32mD:\\anaconda\\lib\\site-packages\\pandas\\io\\parsers.py\u001b[0m in \u001b[0;36m_read\u001b[1;34m(filepath_or_buffer, kwds)\u001b[0m\n\u001b[0;32m    450\u001b[0m \u001b[1;33m\u001b[0m\u001b[0m\n\u001b[0;32m    451\u001b[0m     \u001b[1;31m# Create the parser.\u001b[0m\u001b[1;33m\u001b[0m\u001b[1;33m\u001b[0m\u001b[1;33m\u001b[0m\u001b[0m\n\u001b[1;32m--> 452\u001b[1;33m     \u001b[0mparser\u001b[0m \u001b[1;33m=\u001b[0m \u001b[0mTextFileReader\u001b[0m\u001b[1;33m(\u001b[0m\u001b[0mfp_or_buf\u001b[0m\u001b[1;33m,\u001b[0m \u001b[1;33m**\u001b[0m\u001b[0mkwds\u001b[0m\u001b[1;33m)\u001b[0m\u001b[1;33m\u001b[0m\u001b[1;33m\u001b[0m\u001b[0m\n\u001b[0m\u001b[0;32m    453\u001b[0m \u001b[1;33m\u001b[0m\u001b[0m\n\u001b[0;32m    454\u001b[0m     \u001b[1;32mif\u001b[0m \u001b[0mchunksize\u001b[0m \u001b[1;32mor\u001b[0m \u001b[0miterator\u001b[0m\u001b[1;33m:\u001b[0m\u001b[1;33m\u001b[0m\u001b[1;33m\u001b[0m\u001b[0m\n",
      "\u001b[1;32mD:\\anaconda\\lib\\site-packages\\pandas\\io\\parsers.py\u001b[0m in \u001b[0;36m__init__\u001b[1;34m(self, f, engine, **kwds)\u001b[0m\n\u001b[0;32m    944\u001b[0m             \u001b[0mself\u001b[0m\u001b[1;33m.\u001b[0m\u001b[0moptions\u001b[0m\u001b[1;33m[\u001b[0m\u001b[1;34m\"has_index_names\"\u001b[0m\u001b[1;33m]\u001b[0m \u001b[1;33m=\u001b[0m \u001b[0mkwds\u001b[0m\u001b[1;33m[\u001b[0m\u001b[1;34m\"has_index_names\"\u001b[0m\u001b[1;33m]\u001b[0m\u001b[1;33m\u001b[0m\u001b[1;33m\u001b[0m\u001b[0m\n\u001b[0;32m    945\u001b[0m \u001b[1;33m\u001b[0m\u001b[0m\n\u001b[1;32m--> 946\u001b[1;33m         \u001b[0mself\u001b[0m\u001b[1;33m.\u001b[0m\u001b[0m_make_engine\u001b[0m\u001b[1;33m(\u001b[0m\u001b[0mself\u001b[0m\u001b[1;33m.\u001b[0m\u001b[0mengine\u001b[0m\u001b[1;33m)\u001b[0m\u001b[1;33m\u001b[0m\u001b[1;33m\u001b[0m\u001b[0m\n\u001b[0m\u001b[0;32m    947\u001b[0m \u001b[1;33m\u001b[0m\u001b[0m\n\u001b[0;32m    948\u001b[0m     \u001b[1;32mdef\u001b[0m \u001b[0mclose\u001b[0m\u001b[1;33m(\u001b[0m\u001b[0mself\u001b[0m\u001b[1;33m)\u001b[0m\u001b[1;33m:\u001b[0m\u001b[1;33m\u001b[0m\u001b[1;33m\u001b[0m\u001b[0m\n",
      "\u001b[1;32mD:\\anaconda\\lib\\site-packages\\pandas\\io\\parsers.py\u001b[0m in \u001b[0;36m_make_engine\u001b[1;34m(self, engine)\u001b[0m\n\u001b[0;32m   1176\u001b[0m     \u001b[1;32mdef\u001b[0m \u001b[0m_make_engine\u001b[0m\u001b[1;33m(\u001b[0m\u001b[0mself\u001b[0m\u001b[1;33m,\u001b[0m \u001b[0mengine\u001b[0m\u001b[1;33m=\u001b[0m\u001b[1;34m\"c\"\u001b[0m\u001b[1;33m)\u001b[0m\u001b[1;33m:\u001b[0m\u001b[1;33m\u001b[0m\u001b[1;33m\u001b[0m\u001b[0m\n\u001b[0;32m   1177\u001b[0m         \u001b[1;32mif\u001b[0m \u001b[0mengine\u001b[0m \u001b[1;33m==\u001b[0m \u001b[1;34m\"c\"\u001b[0m\u001b[1;33m:\u001b[0m\u001b[1;33m\u001b[0m\u001b[1;33m\u001b[0m\u001b[0m\n\u001b[1;32m-> 1178\u001b[1;33m             \u001b[0mself\u001b[0m\u001b[1;33m.\u001b[0m\u001b[0m_engine\u001b[0m \u001b[1;33m=\u001b[0m \u001b[0mCParserWrapper\u001b[0m\u001b[1;33m(\u001b[0m\u001b[0mself\u001b[0m\u001b[1;33m.\u001b[0m\u001b[0mf\u001b[0m\u001b[1;33m,\u001b[0m \u001b[1;33m**\u001b[0m\u001b[0mself\u001b[0m\u001b[1;33m.\u001b[0m\u001b[0moptions\u001b[0m\u001b[1;33m)\u001b[0m\u001b[1;33m\u001b[0m\u001b[1;33m\u001b[0m\u001b[0m\n\u001b[0m\u001b[0;32m   1179\u001b[0m         \u001b[1;32melse\u001b[0m\u001b[1;33m:\u001b[0m\u001b[1;33m\u001b[0m\u001b[1;33m\u001b[0m\u001b[0m\n\u001b[0;32m   1180\u001b[0m             \u001b[1;32mif\u001b[0m \u001b[0mengine\u001b[0m \u001b[1;33m==\u001b[0m \u001b[1;34m\"python\"\u001b[0m\u001b[1;33m:\u001b[0m\u001b[1;33m\u001b[0m\u001b[1;33m\u001b[0m\u001b[0m\n",
      "\u001b[1;32mD:\\anaconda\\lib\\site-packages\\pandas\\io\\parsers.py\u001b[0m in \u001b[0;36m__init__\u001b[1;34m(self, src, **kwds)\u001b[0m\n\u001b[0;32m   2006\u001b[0m         \u001b[0mkwds\u001b[0m\u001b[1;33m[\u001b[0m\u001b[1;34m\"usecols\"\u001b[0m\u001b[1;33m]\u001b[0m \u001b[1;33m=\u001b[0m \u001b[0mself\u001b[0m\u001b[1;33m.\u001b[0m\u001b[0musecols\u001b[0m\u001b[1;33m\u001b[0m\u001b[1;33m\u001b[0m\u001b[0m\n\u001b[0;32m   2007\u001b[0m \u001b[1;33m\u001b[0m\u001b[0m\n\u001b[1;32m-> 2008\u001b[1;33m         \u001b[0mself\u001b[0m\u001b[1;33m.\u001b[0m\u001b[0m_reader\u001b[0m \u001b[1;33m=\u001b[0m \u001b[0mparsers\u001b[0m\u001b[1;33m.\u001b[0m\u001b[0mTextReader\u001b[0m\u001b[1;33m(\u001b[0m\u001b[0msrc\u001b[0m\u001b[1;33m,\u001b[0m \u001b[1;33m**\u001b[0m\u001b[0mkwds\u001b[0m\u001b[1;33m)\u001b[0m\u001b[1;33m\u001b[0m\u001b[1;33m\u001b[0m\u001b[0m\n\u001b[0m\u001b[0;32m   2009\u001b[0m         \u001b[0mself\u001b[0m\u001b[1;33m.\u001b[0m\u001b[0munnamed_cols\u001b[0m \u001b[1;33m=\u001b[0m \u001b[0mself\u001b[0m\u001b[1;33m.\u001b[0m\u001b[0m_reader\u001b[0m\u001b[1;33m.\u001b[0m\u001b[0munnamed_cols\u001b[0m\u001b[1;33m\u001b[0m\u001b[1;33m\u001b[0m\u001b[0m\n\u001b[0;32m   2010\u001b[0m \u001b[1;33m\u001b[0m\u001b[0m\n",
      "\u001b[1;32mpandas\\_libs\\parsers.pyx\u001b[0m in \u001b[0;36mpandas._libs.parsers.TextReader.__cinit__\u001b[1;34m()\u001b[0m\n",
      "\u001b[1;32mpandas\\_libs\\parsers.pyx\u001b[0m in \u001b[0;36mpandas._libs.parsers.TextReader._setup_parser_source\u001b[1;34m()\u001b[0m\n",
      "\u001b[1;31mFileNotFoundError\u001b[0m: [Errno 2] No such file or directory: './1.K近邻算法/train.csv'"
     ]
    }
   ],
   "source": [
    "facebook = pd.read_csv('./1.K近邻算法/train.csv')\n",
    "facebook.head(20)"
   ]
  },
  {
   "cell_type": "code",
   "execution_count": 76,
   "metadata": {},
   "outputs": [
    {
     "ename": "NameError",
     "evalue": "name 'facebook' is not defined",
     "output_type": "error",
     "traceback": [
      "\u001b[1;31m---------------------------------------------------------------------------\u001b[0m",
      "\u001b[1;31mNameError\u001b[0m                                 Traceback (most recent call last)",
      "\u001b[1;32m<ipython-input-76-ebfbae2f6c9a>\u001b[0m in \u001b[0;36m<module>\u001b[1;34m\u001b[0m\n\u001b[1;32m----> 1\u001b[1;33m \u001b[0mfacebook_data\u001b[0m \u001b[1;33m=\u001b[0m \u001b[0mfacebook\u001b[0m\u001b[1;33m.\u001b[0m\u001b[0mquery\u001b[0m\u001b[1;33m(\u001b[0m\u001b[1;34m\"x>2.0 & x<2.5 & y>2.0 & y<2.5\"\u001b[0m\u001b[1;33m)\u001b[0m\u001b[1;33m\u001b[0m\u001b[1;33m\u001b[0m\u001b[0m\n\u001b[0m\u001b[0;32m      2\u001b[0m \u001b[1;31m# 2.2 选择时间特征\u001b[0m\u001b[1;33m\u001b[0m\u001b[1;33m\u001b[0m\u001b[1;33m\u001b[0m\u001b[0m\n\u001b[0;32m      3\u001b[0m \u001b[0mtime\u001b[0m \u001b[1;33m=\u001b[0m \u001b[0mpd\u001b[0m\u001b[1;33m.\u001b[0m\u001b[0mto_datetime\u001b[0m\u001b[1;33m(\u001b[0m\u001b[0mfacebook_data\u001b[0m\u001b[1;33m[\u001b[0m\u001b[1;34m\"time\"\u001b[0m\u001b[1;33m]\u001b[0m\u001b[1;33m,\u001b[0m \u001b[0munit\u001b[0m\u001b[1;33m=\u001b[0m\u001b[1;34m\"s\"\u001b[0m\u001b[1;33m)\u001b[0m \u001b[1;31m# 将时间戳转换成具体的日期\u001b[0m\u001b[1;33m\u001b[0m\u001b[1;33m\u001b[0m\u001b[0m\n\u001b[0;32m      4\u001b[0m \u001b[0mtime\u001b[0m \u001b[1;33m=\u001b[0m \u001b[0mpd\u001b[0m\u001b[1;33m.\u001b[0m\u001b[0mDatetimeIndex\u001b[0m\u001b[1;33m(\u001b[0m\u001b[0mtime\u001b[0m\u001b[1;33m)\u001b[0m\u001b[1;33m\u001b[0m\u001b[1;33m\u001b[0m\u001b[0m\n\u001b[0;32m      5\u001b[0m \u001b[0mfacebook_data\u001b[0m\u001b[1;33m[\u001b[0m\u001b[1;34m\"day\"\u001b[0m\u001b[1;33m]\u001b[0m \u001b[1;33m=\u001b[0m \u001b[0mtime\u001b[0m\u001b[1;33m.\u001b[0m\u001b[0mday\u001b[0m\u001b[1;33m\u001b[0m\u001b[1;33m\u001b[0m\u001b[0m\n",
      "\u001b[1;31mNameError\u001b[0m: name 'facebook' is not defined"
     ]
    }
   ],
   "source": [
    "facebook_data = facebook.query(\"x>2.0 & x<2.5 & y>2.0 & y<2.5\")\n",
    "# 2.2 选择时间特征\n",
    "time = pd.to_datetime(facebook_data[\"time\"], unit=\"s\") # 将时间戳转换成具体的日期\n",
    "time = pd.DatetimeIndex(time)\n",
    "facebook_data[\"day\"] = time.day\n",
    "facebook_data[\"hour\"] = time.hour\n",
    "facebook_data[\"weekday\"] = time.weekday\n",
    "# 2.3 去掉签到较少的地方\n",
    "place_count = facebook_data.groupby(\"place_id\").count()  # groupby函数是将数据按照\"place_id\"分组并计数\n",
    "place_count = place_count[place_count[\"row_id\"]>3]       # 筛选出次数大于3的地方\n",
    "facebook_data = facebook_data[facebook_data[\"place_id\"].isin(place_count.index)] # 应用isin筛选出>3的地点\n",
    "# 2.4 确定目标值和特征值\n",
    "x = facebook_data[[\"x\", \"y\", \"accuracy\", \"day\", \"hour\", \"weekday\"]]\n",
    "y = facebook_data[\"place_id\"]\n",
    "# 2.5 分割数据集\n",
    "x_train,x_test,y_train,y_test = train_test_split(x,y,test_size=0.3,random_state=10)\n",
    "# 3.特征工程：标准化\n",
    "# 3.1 实例化一个转换器类\n",
    "transfer = StandardScaler()\n",
    "# 3.2 调用fit_transform\n",
    "x_train = transfer.fit_transform(x_train)\n",
    "x_test = transfer.fit_transform(x_test)\n",
    "# 4.机器学习 knn+GridsearchCV\n",
    "# 4.1 实例化预估器类\n",
    "estimator = KNeighborsClassifier()\n",
    "# 4.2 调用GridSearchCV\n",
    "param_grid = {\"n_neighbors\": [1, 3, 5, 6, 7, 9,11]}\n",
    "estimator = GridSearchCV(estimator, param_grid=param_grid, cv=9)\n",
    "# 4.3 模型训练\n",
    "estimator.fit(x_train,y_train)\n",
    "# 5.模型评估\n",
    "# 5.1 基本评估方式\n",
    "score = estimator.score(x_test,y_test)\n",
    "print(\"最后预测的准确率为:\\n\",score)\n",
    "y_predict = estimator.predict(x_test)\n",
    "print(\"最后的预测值为:\\n\", y_predict)\n",
    "print(\"预测值和真实值的对比情况:\\n\", y_predict == y_test)\n",
    "# 5.2 使用交叉验证后的评估方式\n",
    "print(\"在交叉验证中验证的最好结果:\\n\", estimator.best_score_)\n",
    "print(\"最好的参数模型:\\n\", estimator.best_estimator_)\n",
    "print(\"每次交叉验证后的验证集准确率结果和训练集准确率结果:\\n\",estimator.cv_results_)"
   ]
  },
  {
   "cell_type": "code",
   "execution_count": 45,
   "metadata": {},
   "outputs": [
    {
     "name": "stdout",
     "output_type": "stream",
     "text": [
      "预测值为:\n",
      " [28.01892316 31.10973232 20.71522003 31.27078503 19.35665239 18.27577089\n",
      " 20.68537538 18.61236654 18.76244757 32.52583676 20.53950086 26.79920191\n",
      " 14.90346898 19.32622055 36.73138795 18.1436293   8.34831679 17.80201281\n",
      " 30.23022556 23.6588965  18.14940642 33.56719222 28.15659242 16.8342339\n",
      " 34.43092768 25.95237531 34.29855907 26.67620464 18.53976338 14.28087185\n",
      " 30.17681586 13.96270609 37.12398213  9.27914892 15.41928949 15.86636429\n",
      "  7.41804801 18.98695207 39.26317607 28.49864203 24.65105363 16.86460045\n",
      " 37.877637    5.73065641 20.91315988 24.38361983 19.22422747 20.0574593\n",
      " 15.2017291  26.10094048  8.33736846 26.82949765 29.11129691 16.25679088\n",
      "  8.29069659 35.08133644 31.5599828  21.72400461 16.61596806 21.0338388\n",
      " 22.94263891 23.39788084 19.62635228 37.84115409 24.65810486 18.84971439\n",
      " 12.9154527   6.11652874 41.31534803 21.13549069 15.93857105 21.79489742\n",
      " 40.51105379 20.86424541 36.49859833 26.81086529 20.74647554 19.79398156\n",
      " 24.67976477 22.38892245 30.97156138 19.38588583 22.36101941 30.98801612\n",
      " 26.51755971 20.18795083 28.54818006 21.15792243 26.15395203 18.51365463\n",
      " 24.67810928 22.20334022 18.98329801 19.19372987 14.29313106 17.38090659\n",
      " 23.95558689 15.87908324 19.84135224 26.4365055  19.98310314 17.12864513\n",
      " 23.61493568 22.67035994 20.13924313 35.61628002 15.04519051 21.33577802\n",
      " 32.20782972 32.64268778 19.83978225 25.76604939 21.47552726 16.79428531\n",
      " 20.79859329 20.90411594 26.88681963 24.47977682 23.10418168 13.64460207\n",
      " 15.45039362  2.80255092 28.7074495  19.78868601 21.5465983  27.48968215\n",
      " 28.05122649]\n",
      "模型中的系数为:\n",
      " [-0.55638947  0.94868611 -0.29338303  0.76988373 -1.65228848  2.78456791\n",
      " -0.14333133 -2.94413876  1.84590375 -1.2436974  -1.68267802  0.86113858\n",
      " -3.76589168]\n",
      "模型中的偏置为:\n",
      " 22.62137203166228\n",
      "误差为:\n",
      " 20.170054477167035\n"
     ]
    }
   ],
   "source": [
    "from sklearn.datasets import load_boston\n",
    "from sklearn.model_selection import train_test_split\n",
    "from sklearn.preprocessing import StandardScaler\n",
    "from sklearn.linear_model import Ridge,RidgeCV\n",
    "from sklearn.metrics import mean_squared_error\n",
    "boston = load_boston()\n",
    "x_train,x_test,y_train,y_test = train_test_split(boston.data,boston.target,random_state = 22)\n",
    "transfer = StandardScaler()\n",
    "x_train = transfer.fit_transform(x_train)\n",
    "x_test = transfer.fit_transform(x_test)\n",
    "estimator = RidgeCV( alphas=(0.1, 1.0, 10.0))\n",
    "estimator.fit(x_train, y_train)\n",
    "y_predict = estimator.predict(x_test)\n",
    "print(\"预测值为:\\n\",y_predict)\n",
    "print(\"模型中的系数为:\\n\",estimator.coef_)\n",
    "print(\"模型中的偏置为:\\n\",estimator.intercept_)\n",
    "error = mean_squared_error(y_test, y_predict)\n",
    "print(\"误差为:\\n\", error)"
   ]
  },
  {
   "cell_type": "code",
   "execution_count": 65,
   "metadata": {},
   "outputs": [
    {
     "name": "stdout",
     "output_type": "stream",
     "text": [
      "[('13998652456', '39', '')]\n",
      "[]\n",
      "[('13898652456', '38', '')]\n",
      "[('13198652456', '31', '')]\n",
      "[]\n",
      "[('17754685245', '77', ''), ('13856854584', '38', '')]\n",
      "<re.Match object; span=(0, 8), match='56425456'>\n"
     ]
    }
   ],
   "source": [
    "def checkPhone(str):\n",
    "    if len(str)!=11:\n",
    "        return False\n",
    "    elif str[0]!='1':\n",
    "        return False\n",
    "    elif str[1:3]!='39' and str[1:3]!='31':\n",
    "        return False\n",
    "    for i in range(3,11):\n",
    "        if str[i] <'0' or str[i]>'9':\n",
    "            return False\n",
    "    return True\n",
    "import re\n",
    "def checkPhone2(str):\n",
    "    #13985647852\n",
    "    pat=r'(1([3578]\\d|(47))\\d{8})'\n",
    "    res=re.findall(pat,str)\n",
    "    print(res)\n",
    "\n",
    "checkPhone2('13998652456')\n",
    "checkPhone2('1399865256')\n",
    "checkPhone2('13898652456')\n",
    "checkPhone2('13198652456')\n",
    "checkPhone2('23998652456')\n",
    "\n",
    "str2='cawrgva17754685245zcxszd13856854584dsar'\n",
    "checkPhone2(str2)\n",
    "\n",
    "def checkQQ(str):\n",
    "    pat=r'^[1-9]\\d{5,10}$'\n",
    "    res=re.match(pat,str)\n",
    "    print(res)\n",
    "checkQQ('56425456')"
   ]
  },
  {
   "cell_type": "code",
   "execution_count": 71,
   "metadata": {},
   "outputs": [
    {
     "name": "stdout",
     "output_type": "stream",
     "text": [
      "20201223142710\n",
      "20201223142711\n",
      "The time cost: \n",
      "0:00:01.624495\n"
     ]
    }
   ],
   "source": [
    "# 字典攻击\n",
    "import itertools # 迭代器\n",
    "import datetime\n",
    "import hashlib\n",
    "import time\n",
    "def generatelibary(library, length=8):\n",
    "    libararys = itertools.product(library,repeat=length)\n",
    "    dic = open(\"paswordlirbarys.txt\",\"w\",encoding='utf-8')#写模式打开文件\n",
    "    for i in libararys:\n",
    "        dic.writelines(i)\n",
    "        dic.writelines(\"\\n\")\n",
    "    dic.close()\n",
    "#x = hashlib.md5(\"123\".encode(encoding=\"utf-8\")).hexdigest()#hash算法存储密码\n",
    "#202cb962ac59075b964b07152d234b70\n",
    "#print(x)\n",
    "def dict_attack(path,password):\n",
    "    file = open(path)\n",
    "    for passwords in file:\n",
    "        #print(passwords)\n",
    "        passwords = passwords.split(\"\\n\")[0]\n",
    "        if password == hashlib.md5(passwords.encode(encoding=\"utf-8\")).hexdigest():\n",
    "            print(\"你的密码是：{}\".format(passwords))\n",
    "if __name__ == \"__main__\":\n",
    "    #lowercase = 'abcdefghijklmnopqrstuvwxyz'#字符组合\n",
    "    #uppercase = 'ABCDEFGHIJKLMNOPQRS'\n",
    "    #digits = '0123456789'\n",
    "    word = \"xiaowng2067\"\n",
    "    #special = \"\"\"!\"#$%&'( )*+,-./:;<=>?@[]^_`{|}~\"\"\"\n",
    "    #word = lowercase + uppercase + digits + special\n",
    "    starttime = datetime.datetime.now() # 获取当前时间\n",
    "    print(time.strftime(\"%Y%m%d%H%M%S\", time.localtime(time.time())))\n",
    "    generatelibary(word,length=6)  #生成8位数字字典\n",
    "    #dict_attack(\"paswordlirbarys.txt\",\"05213bc82bacf7312806baf095038402\")\n",
    "    endtime = datetime.datetime.now()\n",
    "    print(time.strftime(\"%Y%m%d%H%M%S\", time.localtime(time.time())))\n",
    "    print('The time cost: ')\n",
    "    print(endtime - starttime)#时间"
   ]
  },
  {
   "cell_type": "code",
   "execution_count": 77,
   "metadata": {},
   "outputs": [],
   "source": [
    "from win32com.client import constants\n",
    "import os\n",
    "import win32com.client\n",
    "import pythoncom\n",
    "import win32con\n",
    "import win32api\n",
    "import time"
   ]
  },
  {
   "cell_type": "code",
   "execution_count": 78,
   "metadata": {},
   "outputs": [
    {
     "ename": "TypeError",
     "evalue": "NoneType takes no arguments",
     "output_type": "error",
     "traceback": [
      "\u001b[1;31m---------------------------------------------------------------------------\u001b[0m",
      "\u001b[1;31mTypeError\u001b[0m                                 Traceback (most recent call last)",
      "\u001b[1;32m<ipython-input-78-24b2a896d1c6>\u001b[0m in \u001b[0;36m<module>\u001b[1;34m\u001b[0m\n\u001b[0;32m     20\u001b[0m         \u001b[0mself\u001b[0m\u001b[1;33m.\u001b[0m\u001b[0mspeaker\u001b[0m\u001b[1;33m.\u001b[0m\u001b[0mSpeak\u001b[0m\u001b[1;33m(\u001b[0m\u001b[0mphrase\u001b[0m\u001b[1;33m)\u001b[0m\u001b[1;33m\u001b[0m\u001b[1;33m\u001b[0m\u001b[0m\n\u001b[0;32m     21\u001b[0m \u001b[1;33m\u001b[0m\u001b[0m\n\u001b[1;32m---> 22\u001b[1;33m class ContextEvents(win32com.client.getevents(\n\u001b[0m\u001b[0;32m     23\u001b[0m     \"SAPI.SpSharedRecoContext\")):\n\u001b[0;32m     24\u001b[0m     \u001b[1;32mdef\u001b[0m \u001b[0mOnRecognition\u001b[0m\u001b[1;33m(\u001b[0m\u001b[0mself\u001b[0m\u001b[1;33m,\u001b[0m \u001b[0mStreamNumber\u001b[0m\u001b[1;33m,\u001b[0m \u001b[0mStreamPosition\u001b[0m\u001b[1;33m,\u001b[0m \u001b[0mRecognitionType\u001b[0m\u001b[1;33m,\u001b[0m \u001b[0mResult\u001b[0m\u001b[1;33m)\u001b[0m\u001b[1;33m:\u001b[0m\u001b[1;33m\u001b[0m\u001b[1;33m\u001b[0m\u001b[0m\n",
      "\u001b[1;31mTypeError\u001b[0m: NoneType takes no arguments"
     ]
    }
   ],
   "source": [
    "class SpeechRecognition:\n",
    "    def __init__(self, wordsToAdd):\n",
    "        self.speaker = win32com.client.Dispatch(\"SAPI.SpVoice\")\n",
    "        self.listener = win32com.client.Dispatch(\n",
    "    \"SAPI.SpSharedRecognizer\")\n",
    "        self.context = self.listener.CreateRecoContext()\n",
    "        self.grammar = self.context.CreateGrammar()\n",
    "        self.grammar.DictationSetState(0)\n",
    "        self.wordsRule = self.grammar.Rules.Add(\"wordsRule\",\n",
    "    constants.SRATopLevel + constants.SRADynamic, 0)\n",
    "        self.wordsRule.Clear()\n",
    "        [self.wordsRule.InitialState.AddWordTransition(None, word)\n",
    "    for word in wordsToAdd]\n",
    "        self.grammar.Rules.Commit()\n",
    "        self.grammar.CmdSetRuleState(\"wordsRule\", 1)\n",
    "        self.grammar.Rules.Commit()\n",
    "        self.eventHandler = ContextEvents(self.context)\n",
    "        self.say(\"Started successfully\")\n",
    "    def say(self, phrase):\n",
    "        self.speaker.Speak(phrase)\n",
    "\n",
    "class ContextEvents(win32com.client.getevents(\n",
    "    \"SAPI.SpSharedRecoContext\")):\n",
    "    def OnRecognition(self, StreamNumber, StreamPosition, RecognitionType, Result):\n",
    "        newResult = win32com.client.Dispatch(Result)\n",
    "        print(\"说：\", newResult.PeraseInfo.GetText)\n",
    "        s = newResult.PhraseInfo.GetText()\n",
    "\n",
    "        if s == \"上\":\n",
    "            win32api.keybd_event(38, 0, 0, 0)\n",
    "            time.sleep(0.1)\n",
    "            win32api.keybd_event(38, 0, win32con.KEYEVENTF_KEYUP, 0)\n",
    "            print('shang')\n",
    "        elif s == \"下\":\n",
    "            win32api.keybd_event(40, 0, 0, 0)\n",
    "            time.sleep(0.1)\n",
    "            win32api.keybd_event(40, 0, win32con.KEYEVENTF_KEYUP, 0)\n",
    "            print(\"xia\")\n",
    "        elif s == \"左\":\n",
    "            win32api.keybd_event(37, 0, 0, 0)\n",
    "            time.sleep(0.1)\n",
    "            win32api.keybd_event(37, 0, win32con.KEYEVENTF_KEYUP, 0)\n",
    "            print(\"zuo\")\n",
    "        elif s == \"右\":\n",
    "            win32api.keybd_event(39, 0, 0, 0)\n",
    "            time.sleep(0.1)\n",
    "            win32api.keybd_event(39, 0, win32con.KEYEVENTF_KEYUP, 0)\n",
    "            print(\"you\")\n",
    "if __name__ == '__main__':\n",
    "    wordsToAdd = ['上','下','左','右']\n",
    "    speechReco = SpeechRecognition(wordsToAdd)\n",
    "    while True:\n",
    "        pythoncom.PumpWaitingMessages()"
   ]
  },
  {
   "cell_type": "code",
   "execution_count": 79,
   "metadata": {},
   "outputs": [
    {
     "name": "stdout",
     "output_type": "stream",
     "text": [
      "http://www.interoem.com/\n",
      "http://3995503.com/\n",
      "http://lib.wzmc.edu.cn/\n",
      "http://www.zy-ls.com/\n",
      "http://www.fincm.com/\n"
     ]
    }
   ],
   "source": [
    "import re\n",
    "S=['http://www.interoem.com/messageinfo.asp?id=35'\n",
    "   ,'http://3995503.com/class/class09/news_show.asp?id=14',\n",
    "   'http://lib.wzmc.edu.cn/news/onews.asp?id=769',\n",
    "   'http://www.zy-ls.com/alfx.asp?newsid=377&id=6',\n",
    "   'http://www.fincm.com/newslist.asp?id=415']\n",
    "for i in S:\n",
    "    t=re.sub(r'(\\.com/.+)','.com/',i)\n",
    "    if t==i:\n",
    "        t=re.sub(r'(\\.cn/.+)','.cn/',i)\n",
    "    print(t)"
   ]
  },
  {
   "cell_type": "code",
   "execution_count": 80,
   "metadata": {},
   "outputs": [
    {
     "name": "stdout",
     "output_type": "stream",
     "text": [
      "['hello', 'world', 'ha', 'ha']\n"
     ]
    }
   ],
   "source": [
    "import re\n",
    "str=\"hello world ha ha\"\n",
    "pat='[a-zA-Z]+'\n",
    "ans=re.findall(pat,str)\n",
    "print(ans)"
   ]
  },
  {
   "cell_type": "code",
   "execution_count": 81,
   "metadata": {},
   "outputs": [
    {
     "name": "stdout",
     "output_type": "stream",
     "text": [
      "['Lu', 'Xun', 'is', 'a', 'famous', 'writer']\n"
     ]
    }
   ],
   "source": [
    "\"3. 匹配用一个空格分隔的任意一对单词，比如，名和姓\"\n",
    "import re\n",
    "test=\"Lu Xun is a famous writer\"\n",
    "ans=re.findall('[a-zA-Z]+',test)\n",
    "print(ans)"
   ]
  },
  {
   "cell_type": "code",
   "execution_count": 83,
   "metadata": {},
   "outputs": [
    {
     "name": "stdout",
     "output_type": "stream",
     "text": [
      "请输入一串字符串llk\n",
      "['llk']\n"
     ]
    },
    {
     "data": {
      "text/plain": [
       "'abc _123 123 a_b'"
      ]
     },
     "execution_count": 83,
     "metadata": {},
     "output_type": "execute_result"
    }
   ],
   "source": [
    "\"\"\"4. 匹配所有合法的Python标识符\"\"\"\n",
    "import re\n",
    "str=input(\"请输入一串字符串\")\n",
    "str=str.split()\n",
    "pat=re.compile(r'^[_a-zA-Z]\\w*$')\n",
    "ans=[]\n",
    "for i in str :\n",
    "    t=pat.findall(i)\n",
    "    ans.extend(t)\n",
    "print(ans)\n",
    "\"\"\"abc _123 123 a_b\"\"\""
   ]
  },
  {
   "cell_type": "code",
   "execution_count": 84,
   "metadata": {},
   "outputs": [
    {
     "name": "stdout",
     "output_type": "stream",
     "text": [
      "['192.168.1.1', '192.165.2.3']\n"
     ]
    }
   ],
   "source": [
    "\"5. 匹配合法的ip地址```\"\n",
    "\"\"\"'^\\d{1,3}\\.\\d{1,3}\\.\\d{1,3}\\.\\d{1,3}$'\"\"\"\n",
    "import re\n",
    "test=[\"192.168.1.1\",\"192.165.2.3\",\"123.4.5\",\"192.168.3,1\"]\n",
    "ans=[]\n",
    "pat=re.compile(r'^\\d{1,3}\\.\\d{1,3}\\.\\d{1,3}\\.\\d{1,3}$')\n",
    "for i in test:\n",
    "    t=pat.findall(i)\n",
    "    ans.extend(t)\n",
    "print(ans)"
   ]
  },
  {
   "cell_type": "code",
   "execution_count": 97,
   "metadata": {},
   "outputs": [
    {
     "name": "stdout",
     "output_type": "stream",
     "text": [
      "['bseazh@163.com', 'xiandai@163.com']\n"
     ]
    }
   ],
   "source": [
    "import re\n",
    "test=[\"bseazh@163.com\",\"xiandai@163.com\"]\n",
    "ans=[]\n",
    "pat=re.compile(r'^\\w+@\\w+\\.+\\w+$')\n",
    "for i in test:\n",
    "    t=pat.findall(i)\n",
    "    ans.extend(t)\n",
    "print(ans)"
   ]
  },
  {
   "cell_type": "code",
   "execution_count": 98,
   "metadata": {},
   "outputs": [
    {
     "name": "stdout",
     "output_type": "stream",
     "text": [
      "示例 ： 请替换 电子邮箱 123@qq.com\n",
      "示例 ： 请替换 电子邮箱 bseszh@163.com\n"
     ]
    }
   ],
   "source": [
    "import re\n",
    "test=\"示例 ： 请替换 电子邮箱 123@qq.com\"\n",
    "print(test)\n",
    "pat=re.compile(r'\\w+@\\w+\\.+\\w+',re.I)\n",
    "t=pat.sub('bseszh@163.com',test)\n",
    "print(t)"
   ]
  },
  {
   "cell_type": "code",
   "execution_count": 99,
   "metadata": {},
   "outputs": [
    {
     "name": "stdout",
     "output_type": "stream",
     "text": [
      "<img data-original=\"https://rpic.douyucdn.cn/z1609/07/15/478748_160907150833.jpg\" src=\"https://rpic.douyucdn.cn/z1609/07/15/478748_160907150833.jpg\" style=\"display: block;\">\n",
      " data-original https://rpic.douyucdn.cn/z1609/07/15/478748_160907150833.jpg\n",
      " src https://rpic.douyucdn.cn/z1609/07/15/478748_160907150833.jpg\n"
     ]
    }
   ],
   "source": [
    "import re\n",
    "test=\"<img data-original=\\\"https://rpic.douyucdn.cn/z1609/07/15/478748_160907150833.jpg\\\" src=\\\"https://rpic.douyucdn.cn/z1609/07/15/478748_160907150833.jpg\\\" style=\\\"display: block;\\\">\"\n",
    "print(test)\n",
    "pat='<img data-original=\\\"(.+)\\\" src=\\\"(.+)\\\" style=\\\"display: block;\\\">'\n",
    "result=re.search(pat,test)\n",
    "t1=result.group(1)\n",
    "t2=result.group(2)\n",
    "print(\" data-original \"+t1)\n",
    "print(\" src \"+t2)"
   ]
  },
  {
   "cell_type": "code",
   "execution_count": 106,
   "metadata": {},
   "outputs": [],
   "source": [
    "import urllib.request\n",
    "import ssl\n",
    "import json\n",
    "import re"
   ]
  },
  {
   "cell_type": "code",
   "execution_count": 107,
   "metadata": {},
   "outputs": [
    {
     "ename": "TypeError",
     "evalue": "'list' object is not callable",
     "output_type": "error",
     "traceback": [
      "\u001b[1;31m---------------------------------------------------------------------------\u001b[0m",
      "\u001b[1;31mTypeError\u001b[0m                                 Traceback (most recent call last)",
      "\u001b[1;32m<ipython-input-107-2cea0b5cf19b>\u001b[0m in \u001b[0;36m<module>\u001b[1;34m\u001b[0m\n\u001b[0;32m     36\u001b[0m      \u001b[1;31m#   f.write(HTML)\u001b[0m\u001b[1;33m\u001b[0m\u001b[1;33m\u001b[0m\u001b[1;33m\u001b[0m\u001b[0m\n\u001b[0;32m     37\u001b[0m \u001b[1;32mfor\u001b[0m \u001b[0mi\u001b[0m \u001b[1;32min\u001b[0m \u001b[0mrange\u001b[0m\u001b[1;33m(\u001b[0m\u001b[1;36m0\u001b[0m\u001b[1;33m,\u001b[0m\u001b[1;36m10\u001b[0m\u001b[1;33m)\u001b[0m\u001b[1;33m:\u001b[0m\u001b[1;33m\u001b[0m\u001b[1;33m\u001b[0m\u001b[0m\n\u001b[1;32m---> 38\u001b[1;33m     \u001b[0murl\u001b[0m\u001b[1;33m=\u001b[0m\u001b[1;34m'https://www.qiushibaike.com/text/page/1'\u001b[0m\u001b[1;33m+\u001b[0m\u001b[0mstr\u001b[0m\u001b[1;33m(\u001b[0m\u001b[0mi\u001b[0m\u001b[1;33m)\u001b[0m\u001b[1;33m+\u001b[0m\u001b[1;34m'/'\u001b[0m\u001b[1;33m\u001b[0m\u001b[1;33m\u001b[0m\u001b[0m\n\u001b[0m\u001b[0;32m     39\u001b[0m     \u001b[0minfo\u001b[0m\u001b[1;33m=\u001b[0m\u001b[0mjokeCrawler\u001b[0m\u001b[1;33m(\u001b[0m\u001b[0murl\u001b[0m\u001b[1;33m)\u001b[0m\u001b[1;33m\u001b[0m\u001b[1;33m\u001b[0m\u001b[0m\n\u001b[0;32m     40\u001b[0m     \u001b[0mprint\u001b[0m\u001b[1;33m(\u001b[0m\u001b[0minfo\u001b[0m\u001b[1;33m)\u001b[0m\u001b[1;33m\u001b[0m\u001b[1;33m\u001b[0m\u001b[0m\n",
      "\u001b[1;31mTypeError\u001b[0m: 'list' object is not callable"
     ]
    }
   ],
   "source": [
    "def jokeCrawler(url):\n",
    "    headers = {\n",
    "'User-Agent': 'Mozilla/5.0 (Windows NT 10.0; Win64; x64)'\n",
    "'AppleWebKit/537.36 (KHTML, like Gecko) '\n",
    "'Chrome/83.0.4103.61Safari/537.36'\n",
    "    }\n",
    "    req=urllib.request.Request(url,headers=headers)\n",
    "    response=urllib.request.urlopen(req)\n",
    "\n",
    "    HTML=response.read().decode('utf-8')\n",
    "    pat=r'<div class=\"author clearfix\">(.*?)<span ' \\\n",
    "        r'class=\"stats-vote\">'\n",
    "\n",
    "    re_joke=re.compile(pat,re.S)\n",
    "    divlist=re_joke.findall(HTML)\n",
    "    #print(divlist)\n",
    "    #print(len(divlist))\n",
    "    dic={}\n",
    "    for div in divlist:\n",
    "        #用户名\n",
    "        re_u=re.compile(r\"<h2>(.*?)</h2>\",re.S)\n",
    "        username=re_u.findall(div)\n",
    "        username=username[0]\n",
    "        print(username)\n",
    "        #段子\n",
    "        re_d=re.compile(r'<div class=\"content\">\\n'\n",
    "                        r'<span>(.*?)</span>',re.S)\n",
    "        duanzi=re_d.findall(div)\n",
    "        duanzi=duanzi[0]\n",
    "        print(duanzi)\n",
    "\n",
    "        dic[username]=duanzi\n",
    "\n",
    "    #with open(r'D:\\python\\pycharm\\project\\TestProject' \\\n",
    "    #  r'\\第十八课\\file\\file3.html','w') as f:\n",
    "     #   f.write(HTML)\n",
    "for i in range(0,10):\n",
    "    url='https://www.qiushibaike.com/text/page/1'+str(i)+'/'\n",
    "    info=jokeCrawler(url)\n",
    "    print(info) "
   ]
  },
  {
   "cell_type": "code",
   "execution_count": 111,
   "metadata": {},
   "outputs": [],
   "source": [
    "import urllib.request\n",
    "import os\n",
    "import re\n",
    "import ssl\n",
    "from collections import deque"
   ]
  },
  {
   "cell_type": "code",
   "execution_count": 118,
   "metadata": {},
   "outputs": [
    {
     "ename": "FileNotFoundError",
     "evalue": "[Errno 2] No such file or directory: 'D:\\\\python\\\\pycharm\\\\project\\\\TestProject\\\\第十八课\\\\file\\\\qqFile3.txt'",
     "output_type": "error",
     "traceback": [
      "\u001b[1;31m---------------------------------------------------------------------------\u001b[0m",
      "\u001b[1;31mFileNotFoundError\u001b[0m                         Traceback (most recent call last)",
      "\u001b[1;32m<ipython-input-118-3bfe1b76f329>\u001b[0m in \u001b[0;36m<module>\u001b[1;34m\u001b[0m\n\u001b[0;32m     52\u001b[0m \u001b[0mtopath\u001b[0m\u001b[1;33m=\u001b[0m\u001b[1;34mr'D:\\python\\pycharm\\project\\TestProject'\u001b[0m\u001b[0;31m \u001b[0m\u001b[0;31m\\\u001b[0m\u001b[1;33m\u001b[0m\u001b[1;33m\u001b[0m\u001b[0m\n\u001b[0;32m     53\u001b[0m       \u001b[1;34mr'\\第十八课\\file\\qqFile3.txt'\u001b[0m\u001b[1;33m\u001b[0m\u001b[1;33m\u001b[0m\u001b[0m\n\u001b[1;32m---> 54\u001b[1;33m \u001b[0mqqCrawler\u001b[0m\u001b[1;33m(\u001b[0m\u001b[0murl\u001b[0m\u001b[1;33m,\u001b[0m\u001b[0mtopath\u001b[0m\u001b[1;33m)\u001b[0m\u001b[1;33m\u001b[0m\u001b[1;33m\u001b[0m\u001b[0m\n\u001b[0m\u001b[0;32m     55\u001b[0m \u001b[0mcenter\u001b[0m\u001b[1;33m(\u001b[0m\u001b[0murl\u001b[0m\u001b[1;33m,\u001b[0m\u001b[0mtopath\u001b[0m\u001b[1;33m)\u001b[0m\u001b[1;33m\u001b[0m\u001b[1;33m\u001b[0m\u001b[0m\n",
      "\u001b[1;32m<ipython-input-118-3bfe1b76f329>\u001b[0m in \u001b[0;36mqqCrawler\u001b[1;34m(url, topath)\u001b[0m\n\u001b[0;32m     28\u001b[0m     \u001b[1;31m#去重\u001b[0m\u001b[1;33m\u001b[0m\u001b[1;33m\u001b[0m\u001b[1;33m\u001b[0m\u001b[0m\n\u001b[0;32m     29\u001b[0m     \u001b[0mqqsList\u001b[0m\u001b[1;33m=\u001b[0m\u001b[0mlist\u001b[0m\u001b[1;33m(\u001b[0m\u001b[0mset\u001b[0m\u001b[1;33m(\u001b[0m\u001b[0mqqsList\u001b[0m\u001b[1;33m)\u001b[0m\u001b[1;33m)\u001b[0m\u001b[1;33m\u001b[0m\u001b[1;33m\u001b[0m\u001b[0m\n\u001b[1;32m---> 30\u001b[1;33m     \u001b[0mf\u001b[0m\u001b[1;33m=\u001b[0m\u001b[0mopen\u001b[0m\u001b[1;33m(\u001b[0m\u001b[0mtopath\u001b[0m\u001b[1;33m,\u001b[0m\u001b[1;34m'a'\u001b[0m\u001b[1;33m)\u001b[0m\u001b[1;33m\u001b[0m\u001b[1;33m\u001b[0m\u001b[0m\n\u001b[0m\u001b[0;32m     31\u001b[0m     \u001b[1;32mfor\u001b[0m \u001b[0mqqStr\u001b[0m \u001b[1;32min\u001b[0m \u001b[0mqqsList\u001b[0m\u001b[1;33m:\u001b[0m\u001b[1;33m\u001b[0m\u001b[1;33m\u001b[0m\u001b[0m\n\u001b[0;32m     32\u001b[0m         \u001b[0mf\u001b[0m\u001b[1;33m.\u001b[0m\u001b[0mwrite\u001b[0m\u001b[1;33m(\u001b[0m\u001b[0mqqStr\u001b[0m\u001b[1;33m+\u001b[0m\u001b[1;34m'\\n'\u001b[0m\u001b[1;33m)\u001b[0m\u001b[1;33m\u001b[0m\u001b[1;33m\u001b[0m\u001b[0m\n",
      "\u001b[1;31mFileNotFoundError\u001b[0m: [Errno 2] No such file or directory: 'D:\\\\python\\\\pycharm\\\\project\\\\TestProject\\\\第十八课\\\\file\\\\qqFile3.txt'"
     ]
    }
   ],
   "source": [
    "def wirteFileBytes(htmlBytes,topath):\n",
    "    with open(topath,'wb') as f:\n",
    "        f.write(htmlBytes)\n",
    "\n",
    "\n",
    "\n",
    "def wirteFileStr(htmlBytes,topath):\n",
    "    with open(topath,'w') as f:\n",
    "        f.write(htmlBytes.decode('utf-8'))\n",
    "\n",
    "def getHtmlBytes(url):\n",
    "    headers = {\n",
    "        'User-Agent': 'Mozilla/5.0 (Windows NT 10.0; Win64; x64)'\n",
    "                      'AppleWebKit/537.36 (KHTML, like Gecko) '\n",
    "                      'Chrome/83.0.4103.61Safari/537.36'\n",
    "    }\n",
    "    req = urllib.request.Request(url, headers=headers)\n",
    "    context = ssl._create_unverified_context()\n",
    "    response = urllib.request.urlopen(req,context=context)\n",
    "    return response.read()\n",
    "\n",
    "def qqCrawler(url,topath):\n",
    "    htmlBytes=getHtmlBytes(url)\n",
    "    htmlStr=htmlBytes.decode('utf-8')\n",
    "    pat=r'[1-9]\\d{4,9}'\n",
    "    re_qq=re.compile(pat)\n",
    "    qqsList=re_qq.findall(htmlStr)\n",
    "    #去重\n",
    "    qqsList=list(set(qqsList))\n",
    "    f=open(topath,'a')\n",
    "    for qqStr in qqsList:\n",
    "        f.write(qqStr+'\\n')\n",
    "    f.close()\n",
    "    pat=r'(((http|ftp|https)://)(([a-zA-Z0-9\\._-]+\\.[a-zA-Z]{2,6})' \\\n",
    "        r'|([0-9]{1,3}\\.[0-9]{1,3}\\.[0-9]{1,3}\\.[0-9]{1,3}))' \\\n",
    "        r'(:[0-9]{1,4})*(/[a-zA-Z0-9\\&%_\\./-~-]*)?)'\n",
    "    re_url=re.compile(pat)\n",
    "    urlsList=re_url.findall(htmlStr)\n",
    "    urlsList=list(set(urlsList))\n",
    "    return urlsList\n",
    "\n",
    "def center(url,topath):\n",
    "    queue=deque()\n",
    "    queue.append(url)\n",
    "    while len(queue)!=0:\n",
    "        target=queue.popleft()\n",
    "        urlList=qqCrawler(target,topath)\n",
    "        for item in urlList:\n",
    "            tempUrl=item[0]\n",
    "            queue.append(tempUrl)\n",
    "url='http://bbs.tianya.cn/post-293-80719-1.shtml'\n",
    "topath=r'D:\\python\\pycharm\\project\\TestProject' \\\n",
    "      r'\\第十八课\\file\\qqFile3.txt'\n",
    "qqCrawler(url,topath)\n",
    "center(url,topath)"
   ]
  }
 ],
 "metadata": {
  "kernelspec": {
   "display_name": "Python 3",
   "language": "python",
   "name": "python3"
  },
  "language_info": {
   "codemirror_mode": {
    "name": "ipython",
    "version": 3
   },
   "file_extension": ".py",
   "mimetype": "text/x-python",
   "name": "python",
   "nbconvert_exporter": "python",
   "pygments_lexer": "ipython3",
   "version": "3.8.5"
  },
  "toc": {
   "base_numbering": 1,
   "nav_menu": {},
   "number_sections": true,
   "sideBar": true,
   "skip_h1_title": false,
   "title_cell": "Table of Contents",
   "title_sidebar": "Contents",
   "toc_cell": false,
   "toc_position": {},
   "toc_section_display": true,
   "toc_window_display": false
  }
 },
 "nbformat": 4,
 "nbformat_minor": 4
}
