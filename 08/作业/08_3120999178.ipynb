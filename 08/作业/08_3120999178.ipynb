{
 "cells": [
  {
   "cell_type": "code",
   "execution_count": 1,
   "metadata": {},
   "outputs": [
    {
     "name": "stdout",
     "output_type": "stream",
     "text": [
      "[0, 1, 2, 3, 4]\n"
     ]
    }
   ],
   "source": [
    "numbers = list(range(5))\n",
    "print(numbers)"
   ]
  },
  {
   "cell_type": "code",
   "execution_count": 2,
   "metadata": {},
   "outputs": [
    {
     "name": "stdout",
     "output_type": "stream",
     "text": [
      "[0, 4, 16]\n"
     ]
    }
   ],
   "source": [
    "squares0 = []\n",
    "for number in numbers:\n",
    "    if number%2 == 0:\n",
    "        squares0.append(number*number)\n",
    "        \n",
    "print(squares0)"
   ]
  },
  {
   "cell_type": "code",
   "execution_count": 9,
   "metadata": {},
   "outputs": [
    {
     "name": "stdout",
     "output_type": "stream",
     "text": [
      "1 USD =  0.89 EUR\n"
     ]
    }
   ],
   "source": [
    "usd_to_eur = 0.89\n",
    "\n",
    "print(f'1 USD = {usd_to_eur: .2f} EUR')"
   ]
  },
  {
   "cell_type": "code",
   "execution_count": 11,
   "metadata": {},
   "outputs": [],
   "source": [
    "from threading import Thread\n",
    "from time import sleep"
   ]
  },
  {
   "cell_type": "code",
   "execution_count": 12,
   "metadata": {},
   "outputs": [
    {
     "name": "stdout",
     "output_type": "stream",
     "text": [
      "from child thread: 0from main thread: 0\n",
      "\n",
      "from child thread: 1\n",
      "from main thread: 1from child thread: 2\n",
      "\n",
      "from child thread: 3\n",
      "from main thread: 2\n",
      "from child thread: 4\n",
      "from main thread: 3\n",
      "from main thread: 4\n"
     ]
    }
   ],
   "source": [
    "def func():\n",
    "    for i in range(5):\n",
    "        print(f\"from child thread: {i}\")\n",
    "        sleep(0.5)\n",
    "        \n",
    "th = Thread(target=func)\n",
    "th.start()\n",
    "\n",
    "for i in range(5):\n",
    "    print(f\"from main thread: {i}\")\n",
    "    sleep(1)"
   ]
  },
  {
   "cell_type": "code",
   "execution_count": 15,
   "metadata": {},
   "outputs": [
    {
     "name": "stdout",
     "output_type": "stream",
     "text": [
      "from child thread: 0\n",
      "from child thread: 0\n",
      "from child thread: 1from child thread: 1\n",
      "\n",
      "from child thread: 2from child thread: 2\n",
      "\n",
      "from child thread: 3from child thread: 3\n",
      "\n",
      "from child thread: 4from child thread: 4\n",
      "\n",
      "--> stop\n"
     ]
    }
   ],
   "source": [
    "th1 = Thread(target=func)\n",
    "th2 = Thread(target=func)\n",
    "\n",
    "th1.start()\n",
    "th2.start()\n",
    "\n",
    "th1.join()\n",
    "th2.join()\n",
    "\n",
    "print(\"--> stop\")"
   ]
  },
  {
   "cell_type": "code",
   "execution_count": 17,
   "metadata": {},
   "outputs": [
    {
     "name": "stdout",
     "output_type": "stream",
     "text": [
      "from CustomThread: 0\n",
      "from CustomThread: 1\n",
      "from CustomThread: 2\n"
     ]
    }
   ],
   "source": [
    "class CustomThread(Thread):\n",
    "    def __init__(self, limit):\n",
    "        Thread.__init__(self)\n",
    "        self._limit = limit\n",
    "        \n",
    "    def run(self):\n",
    "        for i in range(self._limit):\n",
    "            print(f\"from CustomThread: {i}\")\n",
    "            sleep(0.5)\n",
    "            \n",
    "cth = CustomThread(3)\n",
    "cth.start()"
   ]
  },
  {
   "cell_type": "code",
   "execution_count": 18,
   "metadata": {},
   "outputs": [],
   "source": [
    "from threading import Thread, Lock\n",
    "from time import sleep"
   ]
  },
  {
   "cell_type": "code",
   "execution_count": 19,
   "metadata": {},
   "outputs": [
    {
     "name": "stderr",
     "output_type": "stream",
     "text": [
      "Exception in thread Thread-10:\n",
      "Traceback (most recent call last):\n",
      "  File \"C:\\Users\\linxu\\anaconda3\\lib\\threading.py\", line 932, in _bootstrap_inner\n",
      "    self.run()\n",
      "  File \"C:\\Users\\linxu\\anaconda3\\lib\\threading.py\", line 870, in run\n",
      "    self._target(*self._args, **self._kwargs)\n",
      "  File \"<ipython-input-19-ea6ab8e8cd70>\", line 9, in infinit_worker\n",
      "AttributeError: '_thread.lock' object has no attribute 'acqure'\n"
     ]
    },
    {
     "name": "stdout",
     "output_type": "stream",
     "text": [
      "Start infinir_worker()\n",
      "--> thread work\n"
     ]
    }
   ],
   "source": [
    "lock = Lock()\n",
    "\n",
    "stop_thread = False\n",
    "\n",
    "def infinit_worker():\n",
    "    print(\"Start infinir_worker()\")\n",
    "    while True:\n",
    "        print(\"--> thread work\")\n",
    "        lock.acqure()\n",
    "        \n",
    "        if stop_thread is True:\n",
    "            break\n",
    "            \n",
    "        lock.release()\n",
    "        \n",
    "        sleep(0.1)\n",
    "        \n",
    "    print(\"Stop infinit_worker()\")\n",
    "    \n",
    "th = Thread(target=infinit_worker)\n",
    "th.start()\n",
    "\n",
    "sleep(2)\n",
    "\n",
    "lock.acquire()\n",
    "stop_thread = True\n",
    "lock.release()"
   ]
  },
  {
   "cell_type": "code",
   "execution_count": 23,
   "metadata": {},
   "outputs": [
    {
     "name": "stdout",
     "output_type": "stream",
     "text": [
      "20\n"
     ]
    }
   ],
   "source": [
    "def multiply(x, y):\n",
    "    print(x * y)\n",
    "    \n",
    "multiply(5, 4)"
   ]
  },
  {
   "cell_type": "code",
   "execution_count": 24,
   "metadata": {},
   "outputs": [
    {
     "name": "stdout",
     "output_type": "stream",
     "text": [
      "20\n",
      "90\n",
      "24\n",
      "900\n"
     ]
    }
   ],
   "source": [
    "def multiply(*args):\n",
    "    z = 1\n",
    "    for num in args:\n",
    "        z *= num\n",
    "    print(z)\n",
    "    \n",
    "multiply(4, 5)\n",
    "multiply(10, 9)\n",
    "multiply(2, 3, 4)\n",
    "multiply(3, 5, 10, 6)"
   ]
  },
  {
   "cell_type": "code",
   "execution_count": 25,
   "metadata": {},
   "outputs": [
    {
     "name": "stdout",
     "output_type": "stream",
     "text": [
      "{'kwargs_1': 'Shark', 'kwargs_2': 4.5, 'kwargs_3': True}\n"
     ]
    }
   ],
   "source": [
    "def print_kwargs(**kwargs):\n",
    "    print(kwargs)\n",
    "    \n",
    "print_kwargs(kwargs_1=\"Shark\", kwargs_2=4.5, kwargs_3=True)"
   ]
  },
  {
   "cell_type": "code",
   "execution_count": 26,
   "metadata": {},
   "outputs": [],
   "source": [
    "import numpy as np\n",
    "from matplotlib import pyplot as plt\n",
    "from matplotlib.animation import FuncAnimation\n",
    "plt.style.use('seaborn-pastel')"
   ]
  },
  {
   "cell_type": "code",
   "execution_count": 30,
   "metadata": {},
   "outputs": [
    {
     "name": "stderr",
     "output_type": "stream",
     "text": [
      "MovieWriter imageimage unavailable; using Pillow instead.\n"
     ]
    },
    {
     "data": {
      "image/png": "[encoded data removed]",
      "text/plain": [
       "<Figure size 432x288 with 1 Axes>"
      ]
     },
     "metadata": {
      "needs_background": "light"
     },
     "output_type": "display_data"
    }
   ],
   "source": [
    "fig = plt.figure()\n",
    "ax = plt.axes(xlim=(0, 4), ylim=(-2, 2))\n",
    "line, = ax.plot([], [], lw=3)\n",
    "\n",
    "def init():\n",
    "    line.set_data([], [])\n",
    "    return line,\n",
    "def animate(i):\n",
    "    x = np.linspace(0, 4, 1000)\n",
    "    y = np.sin(2 * np.pi * (x - 0.01 * i))\n",
    "    line.set_data(x, y)\n",
    "    return line,\n",
    "\n",
    "anim = FuncAnimation(fig, animate, init_func=init, frames=200, interval=20, blit=True)\n",
    "\n",
    "anim.save('wave_wave.gif', writer='imageimage')"
   ]
  },
  {
   "cell_type": "code",
   "execution_count": 31,
   "metadata": {},
   "outputs": [],
   "source": [
    "from mpl_toolkits.mplot3d import Axes3D\n",
    "import matplotlib.pyplot as plt\n",
    "import pandas as pd"
   ]
  },
  {
   "cell_type": "code",
   "execution_count": 32,
   "metadata": {},
   "outputs": [],
   "source": [
    "url = 'https://python-scripts.com/wp-content/uploads/2019/3d-data.csv'\n",
    "data = pd.read_csv(url)"
   ]
  },
  {
   "cell_type": "code",
   "execution_count": 33,
   "metadata": {},
   "outputs": [],
   "source": [
    "df = data.unstack().reset_index()\n",
    "df.columns = [\"X\", \"Y\", \"Z\"]"
   ]
  },
  {
   "cell_type": "code",
   "execution_count": 34,
   "metadata": {},
   "outputs": [
    {
     "ename": "FileNotFoundError",
     "evalue": "[Errno 2] No such file or directory: 'frames/step70.png'",
     "output_type": "error",
     "traceback": [
      "\u001b[1;31m---------------------------------------------------------------------------\u001b[0m",
      "\u001b[1;31mFileNotFoundError\u001b[0m                         Traceback (most recent call last)",
      "\u001b[1;32m<ipython-input-34-b3d5522fb18d>\u001b[0m in \u001b[0;36m<module>\u001b[1;34m\u001b[0m\n\u001b[0;32m     10\u001b[0m \u001b[1;33m\u001b[0m\u001b[0m\n\u001b[0;32m     11\u001b[0m     \u001b[0mfilename\u001b[0m \u001b[1;33m=\u001b[0m \u001b[1;34m'frames/step'\u001b[0m \u001b[1;33m+\u001b[0m \u001b[0mstr\u001b[0m\u001b[1;33m(\u001b[0m\u001b[0mangle\u001b[0m\u001b[1;33m)\u001b[0m\u001b[1;33m+\u001b[0m\u001b[1;34m'.png'\u001b[0m\u001b[1;33m\u001b[0m\u001b[1;33m\u001b[0m\u001b[0m\n\u001b[1;32m---> 12\u001b[1;33m     \u001b[0mplt\u001b[0m\u001b[1;33m.\u001b[0m\u001b[0msavefig\u001b[0m\u001b[1;33m(\u001b[0m\u001b[0mfilename\u001b[0m\u001b[1;33m,\u001b[0m \u001b[0mdpi\u001b[0m\u001b[1;33m=\u001b[0m\u001b[1;36m96\u001b[0m\u001b[1;33m)\u001b[0m\u001b[1;33m\u001b[0m\u001b[1;33m\u001b[0m\u001b[0m\n\u001b[0m\u001b[0;32m     13\u001b[0m     \u001b[0mplt\u001b[0m\u001b[1;33m.\u001b[0m\u001b[0mgca\u001b[0m\u001b[1;33m(\u001b[0m\u001b[1;33m)\u001b[0m\u001b[1;33m\u001b[0m\u001b[1;33m\u001b[0m\u001b[0m\n",
      "\u001b[1;32m~\\anaconda3\\lib\\site-packages\\matplotlib\\pyplot.py\u001b[0m in \u001b[0;36msavefig\u001b[1;34m(*args, **kwargs)\u001b[0m\n\u001b[0;32m    857\u001b[0m \u001b[1;32mdef\u001b[0m \u001b[0msavefig\u001b[0m\u001b[1;33m(\u001b[0m\u001b[1;33m*\u001b[0m\u001b[0margs\u001b[0m\u001b[1;33m,\u001b[0m \u001b[1;33m**\u001b[0m\u001b[0mkwargs\u001b[0m\u001b[1;33m)\u001b[0m\u001b[1;33m:\u001b[0m\u001b[1;33m\u001b[0m\u001b[1;33m\u001b[0m\u001b[0m\n\u001b[0;32m    858\u001b[0m     \u001b[0mfig\u001b[0m \u001b[1;33m=\u001b[0m \u001b[0mgcf\u001b[0m\u001b[1;33m(\u001b[0m\u001b[1;33m)\u001b[0m\u001b[1;33m\u001b[0m\u001b[1;33m\u001b[0m\u001b[0m\n\u001b[1;32m--> 859\u001b[1;33m     \u001b[0mres\u001b[0m \u001b[1;33m=\u001b[0m \u001b[0mfig\u001b[0m\u001b[1;33m.\u001b[0m\u001b[0msavefig\u001b[0m\u001b[1;33m(\u001b[0m\u001b[1;33m*\u001b[0m\u001b[0margs\u001b[0m\u001b[1;33m,\u001b[0m \u001b[1;33m**\u001b[0m\u001b[0mkwargs\u001b[0m\u001b[1;33m)\u001b[0m\u001b[1;33m\u001b[0m\u001b[1;33m\u001b[0m\u001b[0m\n\u001b[0m\u001b[0;32m    860\u001b[0m     \u001b[0mfig\u001b[0m\u001b[1;33m.\u001b[0m\u001b[0mcanvas\u001b[0m\u001b[1;33m.\u001b[0m\u001b[0mdraw_idle\u001b[0m\u001b[1;33m(\u001b[0m\u001b[1;33m)\u001b[0m   \u001b[1;31m# need this if 'transparent=True' to reset colors\u001b[0m\u001b[1;33m\u001b[0m\u001b[1;33m\u001b[0m\u001b[0m\n\u001b[0;32m    861\u001b[0m     \u001b[1;32mreturn\u001b[0m \u001b[0mres\u001b[0m\u001b[1;33m\u001b[0m\u001b[1;33m\u001b[0m\u001b[0m\n",
      "\u001b[1;32m~\\anaconda3\\lib\\site-packages\\matplotlib\\figure.py\u001b[0m in \u001b[0;36msavefig\u001b[1;34m(self, fname, transparent, **kwargs)\u001b[0m\n\u001b[0;32m   2309\u001b[0m                 \u001b[0mpatch\u001b[0m\u001b[1;33m.\u001b[0m\u001b[0mset_edgecolor\u001b[0m\u001b[1;33m(\u001b[0m\u001b[1;34m'none'\u001b[0m\u001b[1;33m)\u001b[0m\u001b[1;33m\u001b[0m\u001b[1;33m\u001b[0m\u001b[0m\n\u001b[0;32m   2310\u001b[0m \u001b[1;33m\u001b[0m\u001b[0m\n\u001b[1;32m-> 2311\u001b[1;33m         \u001b[0mself\u001b[0m\u001b[1;33m.\u001b[0m\u001b[0mcanvas\u001b[0m\u001b[1;33m.\u001b[0m\u001b[0mprint_figure\u001b[0m\u001b[1;33m(\u001b[0m\u001b[0mfname\u001b[0m\u001b[1;33m,\u001b[0m \u001b[1;33m**\u001b[0m\u001b[0mkwargs\u001b[0m\u001b[1;33m)\u001b[0m\u001b[1;33m\u001b[0m\u001b[1;33m\u001b[0m\u001b[0m\n\u001b[0m\u001b[0;32m   2312\u001b[0m \u001b[1;33m\u001b[0m\u001b[0m\n\u001b[0;32m   2313\u001b[0m         \u001b[1;32mif\u001b[0m \u001b[0mtransparent\u001b[0m\u001b[1;33m:\u001b[0m\u001b[1;33m\u001b[0m\u001b[1;33m\u001b[0m\u001b[0m\n",
      "\u001b[1;32m~\\anaconda3\\lib\\site-packages\\matplotlib\\backend_bases.py\u001b[0m in \u001b[0;36mprint_figure\u001b[1;34m(self, filename, dpi, facecolor, edgecolor, orientation, format, bbox_inches, pad_inches, bbox_extra_artists, backend, **kwargs)\u001b[0m\n\u001b[0;32m   2208\u001b[0m \u001b[1;33m\u001b[0m\u001b[0m\n\u001b[0;32m   2209\u001b[0m             \u001b[1;32mtry\u001b[0m\u001b[1;33m:\u001b[0m\u001b[1;33m\u001b[0m\u001b[1;33m\u001b[0m\u001b[0m\n\u001b[1;32m-> 2210\u001b[1;33m                 result = print_method(\n\u001b[0m\u001b[0;32m   2211\u001b[0m                     \u001b[0mfilename\u001b[0m\u001b[1;33m,\u001b[0m\u001b[1;33m\u001b[0m\u001b[1;33m\u001b[0m\u001b[0m\n\u001b[0;32m   2212\u001b[0m                     \u001b[0mdpi\u001b[0m\u001b[1;33m=\u001b[0m\u001b[0mdpi\u001b[0m\u001b[1;33m,\u001b[0m\u001b[1;33m\u001b[0m\u001b[1;33m\u001b[0m\u001b[0m\n",
      "\u001b[1;32m~\\anaconda3\\lib\\site-packages\\matplotlib\\backend_bases.py\u001b[0m in \u001b[0;36mwrapper\u001b[1;34m(*args, **kwargs)\u001b[0m\n\u001b[0;32m   1637\u001b[0m             \u001b[0mkwargs\u001b[0m\u001b[1;33m.\u001b[0m\u001b[0mpop\u001b[0m\u001b[1;33m(\u001b[0m\u001b[0marg\u001b[0m\u001b[1;33m)\u001b[0m\u001b[1;33m\u001b[0m\u001b[1;33m\u001b[0m\u001b[0m\n\u001b[0;32m   1638\u001b[0m \u001b[1;33m\u001b[0m\u001b[0m\n\u001b[1;32m-> 1639\u001b[1;33m         \u001b[1;32mreturn\u001b[0m \u001b[0mfunc\u001b[0m\u001b[1;33m(\u001b[0m\u001b[1;33m*\u001b[0m\u001b[0margs\u001b[0m\u001b[1;33m,\u001b[0m \u001b[1;33m**\u001b[0m\u001b[0mkwargs\u001b[0m\u001b[1;33m)\u001b[0m\u001b[1;33m\u001b[0m\u001b[1;33m\u001b[0m\u001b[0m\n\u001b[0m\u001b[0;32m   1640\u001b[0m \u001b[1;33m\u001b[0m\u001b[0m\n\u001b[0;32m   1641\u001b[0m     \u001b[1;32mreturn\u001b[0m \u001b[0mwrapper\u001b[0m\u001b[1;33m\u001b[0m\u001b[1;33m\u001b[0m\u001b[0m\n",
      "\u001b[1;32m~\\anaconda3\\lib\\site-packages\\matplotlib\\backends\\backend_agg.py\u001b[0m in \u001b[0;36mprint_png\u001b[1;34m(self, filename_or_obj, metadata, pil_kwargs, *args)\u001b[0m\n\u001b[0;32m    508\u001b[0m         \"\"\"\n\u001b[0;32m    509\u001b[0m         \u001b[0mFigureCanvasAgg\u001b[0m\u001b[1;33m.\u001b[0m\u001b[0mdraw\u001b[0m\u001b[1;33m(\u001b[0m\u001b[0mself\u001b[0m\u001b[1;33m)\u001b[0m\u001b[1;33m\u001b[0m\u001b[1;33m\u001b[0m\u001b[0m\n\u001b[1;32m--> 510\u001b[1;33m         mpl.image.imsave(\n\u001b[0m\u001b[0;32m    511\u001b[0m             \u001b[0mfilename_or_obj\u001b[0m\u001b[1;33m,\u001b[0m \u001b[0mself\u001b[0m\u001b[1;33m.\u001b[0m\u001b[0mbuffer_rgba\u001b[0m\u001b[1;33m(\u001b[0m\u001b[1;33m)\u001b[0m\u001b[1;33m,\u001b[0m \u001b[0mformat\u001b[0m\u001b[1;33m=\u001b[0m\u001b[1;34m\"png\"\u001b[0m\u001b[1;33m,\u001b[0m \u001b[0morigin\u001b[0m\u001b[1;33m=\u001b[0m\u001b[1;34m\"upper\"\u001b[0m\u001b[1;33m,\u001b[0m\u001b[1;33m\u001b[0m\u001b[1;33m\u001b[0m\u001b[0m\n\u001b[0;32m    512\u001b[0m             dpi=self.figure.dpi, metadata=metadata, pil_kwargs=pil_kwargs)\n",
      "\u001b[1;32m~\\anaconda3\\lib\\site-packages\\matplotlib\\image.py\u001b[0m in \u001b[0;36mimsave\u001b[1;34m(fname, arr, vmin, vmax, cmap, format, origin, dpi, metadata, pil_kwargs)\u001b[0m\n\u001b[0;32m   1609\u001b[0m         \u001b[0mpil_kwargs\u001b[0m\u001b[1;33m.\u001b[0m\u001b[0msetdefault\u001b[0m\u001b[1;33m(\u001b[0m\u001b[1;34m\"format\"\u001b[0m\u001b[1;33m,\u001b[0m \u001b[0mformat\u001b[0m\u001b[1;33m)\u001b[0m\u001b[1;33m\u001b[0m\u001b[1;33m\u001b[0m\u001b[0m\n\u001b[0;32m   1610\u001b[0m         \u001b[0mpil_kwargs\u001b[0m\u001b[1;33m.\u001b[0m\u001b[0msetdefault\u001b[0m\u001b[1;33m(\u001b[0m\u001b[1;34m\"dpi\"\u001b[0m\u001b[1;33m,\u001b[0m \u001b[1;33m(\u001b[0m\u001b[0mdpi\u001b[0m\u001b[1;33m,\u001b[0m \u001b[0mdpi\u001b[0m\u001b[1;33m)\u001b[0m\u001b[1;33m)\u001b[0m\u001b[1;33m\u001b[0m\u001b[1;33m\u001b[0m\u001b[0m\n\u001b[1;32m-> 1611\u001b[1;33m         \u001b[0mimage\u001b[0m\u001b[1;33m.\u001b[0m\u001b[0msave\u001b[0m\u001b[1;33m(\u001b[0m\u001b[0mfname\u001b[0m\u001b[1;33m,\u001b[0m \u001b[1;33m**\u001b[0m\u001b[0mpil_kwargs\u001b[0m\u001b[1;33m)\u001b[0m\u001b[1;33m\u001b[0m\u001b[1;33m\u001b[0m\u001b[0m\n\u001b[0m\u001b[0;32m   1612\u001b[0m \u001b[1;33m\u001b[0m\u001b[0m\n\u001b[0;32m   1613\u001b[0m \u001b[1;33m\u001b[0m\u001b[0m\n",
      "\u001b[1;32m~\\anaconda3\\lib\\site-packages\\PIL\\Image.py\u001b[0m in \u001b[0;36msave\u001b[1;34m(self, fp, format, **params)\u001b[0m\n\u001b[0;32m   2146\u001b[0m                 \u001b[0mfp\u001b[0m \u001b[1;33m=\u001b[0m \u001b[0mbuiltins\u001b[0m\u001b[1;33m.\u001b[0m\u001b[0mopen\u001b[0m\u001b[1;33m(\u001b[0m\u001b[0mfilename\u001b[0m\u001b[1;33m,\u001b[0m \u001b[1;34m\"r+b\"\u001b[0m\u001b[1;33m)\u001b[0m\u001b[1;33m\u001b[0m\u001b[1;33m\u001b[0m\u001b[0m\n\u001b[0;32m   2147\u001b[0m             \u001b[1;32melse\u001b[0m\u001b[1;33m:\u001b[0m\u001b[1;33m\u001b[0m\u001b[1;33m\u001b[0m\u001b[0m\n\u001b[1;32m-> 2148\u001b[1;33m                 \u001b[0mfp\u001b[0m \u001b[1;33m=\u001b[0m \u001b[0mbuiltins\u001b[0m\u001b[1;33m.\u001b[0m\u001b[0mopen\u001b[0m\u001b[1;33m(\u001b[0m\u001b[0mfilename\u001b[0m\u001b[1;33m,\u001b[0m \u001b[1;34m\"w+b\"\u001b[0m\u001b[1;33m)\u001b[0m\u001b[1;33m\u001b[0m\u001b[1;33m\u001b[0m\u001b[0m\n\u001b[0m\u001b[0;32m   2149\u001b[0m \u001b[1;33m\u001b[0m\u001b[0m\n\u001b[0;32m   2150\u001b[0m         \u001b[1;32mtry\u001b[0m\u001b[1;33m:\u001b[0m\u001b[1;33m\u001b[0m\u001b[1;33m\u001b[0m\u001b[0m\n",
      "\u001b[1;31mFileNotFoundError\u001b[0m: [Errno 2] No such file or directory: 'frames/step70.png'"
     ]
    },
    {
     "data": {
      "image/png": "[encoded data removed]",
      "text/plain": [
       "<Figure size 432x288 with 1 Axes>"
      ]
     },
     "metadata": {
      "needs_background": "light"
     },
     "output_type": "display_data"
    }
   ],
   "source": [
    "df['X'] = pd.Categorical(df['X'])\n",
    "df['X'] = df['X'].cat.codes\n",
    "\n",
    "for angle in range(70, 210, 2):\n",
    "    fig = plt.figure()\n",
    "    ax = fig.gca(projection='3d')\n",
    "    ax.plot_trisurf(df['Y'], df['X'], df['Z'], cmap=plt.cm.viridis, linewidth=0.2)\n",
    "    \n",
    "    ax.view_init(30, angle)\n",
    "    \n",
    "    filename = 'frames/step' + str(angle)+'.png'\n",
    "    plt.savefig(filename, dpi=96)\n",
    "    plt.gca()"
   ]
  },
  {
   "cell_type": "code",
   "execution_count": 2,
   "metadata": {},
   "outputs": [
    {
     "name": "stdout",
     "output_type": "stream",
     "text": [
      "Nth elif\n"
     ]
    }
   ],
   "source": [
    "count = 1\n",
    "if True and count == 1 and count == 2:\n",
    "    print(\"if\")\n",
    "elif count == 'count':\n",
    "    print(\"First elif\")\n",
    "elif count == 14.2:\n",
    "    print(\"Second elif\")\n",
    "elif count == 1:\n",
    "    print(\"Nth elif\")\n",
    "else:\n",
    "    print(\"Else\")"
   ]
  },
  {
   "cell_type": "code",
   "execution_count": 3,
   "metadata": {},
   "outputs": [
    {
     "name": "stdout",
     "output_type": "stream",
     "text": [
      "10\n",
      "10.344080432788601\n"
     ]
    }
   ],
   "source": [
    "b = 10\n",
    "if b == 10:\n",
    "    print(b)\n",
    "    b = b * 15\n",
    "    b = b - 43\n",
    "    b = b ** 0.5\n",
    "    print(b)\n",
    "elif b == 20:\n",
    "    print(\"You will not see me\")\n",
    "else:\n",
    "    print(\"And me\")"
   ]
  },
  {
   "cell_type": "code",
   "execution_count": 4,
   "metadata": {},
   "outputs": [
    {
     "name": "stdout",
     "output_type": "stream",
     "text": [
      "1000\n",
      "1020\n",
      "-20\n"
     ]
    }
   ],
   "source": [
    "var_1 = 5\n",
    "var_2 = 10\n",
    "var_3 = 20\n",
    "if var_3**2 > var_1 * var_2:\n",
    "    if var_3 < 100:\n",
    "        if var_3 > 10:\n",
    "            var_1 = var_1 * var_2 * var_3\n",
    "        var_2 = var_1 + var_3\n",
    "    var_3 = var_1 - var_2\n",
    "print(var_1)\n",
    "print(var_2)\n",
    "print(var_3)"
   ]
  },
  {
   "cell_type": "code",
   "execution_count": 5,
   "metadata": {},
   "outputs": [],
   "source": [
    "from datetime import datetime"
   ]
  },
  {
   "cell_type": "code",
   "execution_count": 6,
   "metadata": {},
   "outputs": [
    {
     "name": "stdout",
     "output_type": "stream",
     "text": [
      "creating first backup [2021-01-19]..\n"
     ]
    }
   ],
   "source": [
    "def daily_backup(last_backup_date):\n",
    "    if not last_backup_date:\n",
    "        print(f\"creating first backup [{datetime.now().date()}]..\")\n",
    "        return\n",
    "    delta = datetime.now() - last_backup_date\n",
    "    if delta.days > 0:\n",
    "        print(f\"creating backup [{datetime.now().date()}]..\")\n",
    "    else:\n",
    "        print(f\"backup on [{datetime.now().date()}] already exist\")\n",
    "        \n",
    "daily_backup(\"\")"
   ]
  },
  {
   "cell_type": "code",
   "execution_count": 7,
   "metadata": {},
   "outputs": [
    {
     "name": "stdout",
     "output_type": "stream",
     "text": [
      "backup on [2021-01-19] already exist\n"
     ]
    }
   ],
   "source": [
    "daily_backup(datetime(2021, 1, 19))"
   ]
  },
  {
   "cell_type": "code",
   "execution_count": 11,
   "metadata": {},
   "outputs": [
    {
     "name": "stdout",
     "output_type": "stream",
     "text": [
      "Hello, User!\n"
     ]
    }
   ],
   "source": [
    "BLACK_LIST = ['192.34.12.3', '192.34.12.5','192.34.10.23']\n",
    "USERS = ['Anna12', 'peterpeter1', 'kate901']\n",
    "\n",
    "def access_available(user_name,ip):\n",
    "    if user_name in USERS:\n",
    "        if ip not in BLACK_LIST:\n",
    "            return True\n",
    "        else:\n",
    "            print(f\"write to log: user {user_name} [ip: {ip}] in block list\")\n",
    "    else:\n",
    "        print(f\"write to log: user {user_name} [ip: {ip}] does not exists\")\n",
    "        return False\n",
    "    \n",
    "if access_available(\"Anna12\", \"192.34.12.111\"):\n",
    "    print(\"Hello, User!\")"
   ]
  },
  {
   "cell_type": "code",
   "execution_count": 12,
   "metadata": {},
   "outputs": [
    {
     "name": "stdout",
     "output_type": "stream",
     "text": [
      "write to log: user Anna12 [ip: 192.34.10.23] in block list\n"
     ]
    }
   ],
   "source": [
    "if access_available(\"Anna12\", \"192.34.10.23\"):\n",
    "    print(f\"Hello, User!\")"
   ]
  },
  {
   "cell_type": "code",
   "execution_count": 13,
   "metadata": {},
   "outputs": [
    {
     "name": "stdout",
     "output_type": "stream",
     "text": [
      "write to log: user denvull [ip: 192.34.10.11] does not exists\n"
     ]
    }
   ],
   "source": [
    "if access_available(\"denvull\", \"192.34.10.11\"):\n",
    "    print(f\"Hello!!\")"
   ]
  },
  {
   "cell_type": "code",
   "execution_count": 14,
   "metadata": {},
   "outputs": [],
   "source": [
    "import math\n",
    "import random"
   ]
  },
  {
   "cell_type": "code",
   "execution_count": 16,
   "metadata": {},
   "outputs": [
    {
     "name": "stdout",
     "output_type": "stream",
     "text": [
      "Random numder =  8\n"
     ]
    }
   ],
   "source": [
    "rand_num = random.randint(1, 100)\n",
    "sqrt_rand_num = math.sqrt(rand_num)\n",
    "\n",
    "print('Random numder = ', rand_num)"
   ]
  },
  {
   "cell_type": "code",
   "execution_count": 17,
   "metadata": {},
   "outputs": [
    {
     "name": "stdout",
     "output_type": "stream",
     "text": [
      "Square root =  2.8284271247461903\n"
     ]
    }
   ],
   "source": [
    "print('Square root = ', sqrt_rand_num)"
   ]
  },
  {
   "cell_type": "code",
   "execution_count": 18,
   "metadata": {},
   "outputs": [],
   "source": [
    "import math"
   ]
  },
  {
   "cell_type": "code",
   "execution_count": 20,
   "metadata": {},
   "outputs": [
    {
     "name": "stdout",
     "output_type": "stream",
     "text": [
      "3.141592653589793\n"
     ]
    }
   ],
   "source": [
    "print(math.pi)"
   ]
  },
  {
   "cell_type": "code",
   "execution_count": 21,
   "metadata": {},
   "outputs": [
    {
     "name": "stdout",
     "output_type": "stream",
     "text": [
      "2.718281828459045\n"
     ]
    }
   ],
   "source": [
    "print(math.e)"
   ]
  },
  {
   "cell_type": "code",
   "execution_count": 22,
   "metadata": {},
   "outputs": [],
   "source": [
    "import threading\n",
    "import time"
   ]
  },
  {
   "cell_type": "code",
   "execution_count": 23,
   "metadata": {},
   "outputs": [
    {
     "name": "stdout",
     "output_type": "stream",
     "text": [
      "Thread A - perfoming some computation...\n",
      "Thread A - set shared_resource to True!\n",
      "Thread A - Finished!\n"
     ]
    }
   ],
   "source": [
    "shared_resource = False\n",
    "\n",
    "lock = threading.Lock()\n",
    "\n",
    "def perfom_computation():\n",
    "    print(f'Thread {threading.currentThread().name} - perfoming some computation...')\n",
    "    shared_resource = True\n",
    "    print(f'Thread {threading.currentThread().name} - set shared_resource to True!')\n",
    "    print(f'Thread {threading.currentThread().name} - Finished!')\n",
    "    time.sleep(1)\n",
    "    \n",
    "def monitor_resource():\n",
    "    while shared_resource == False:\n",
    "        time.sleep(1)\n",
    "    print(f'Thread {threading.currentThread().name} - Detected shared_resource = False')\n",
    "    time.sleep(1)\n",
    "    print(f'Thread {threading.currentThread().name} - Finished!')\n",
    "    \n",
    "    \n",
    "if __name__ == '__main__':\n",
    "    a = threading.Thread(target=perfom_computation, name='A')\n",
    "    b = threading.Thread(target=monitor_resource, name='B')\n",
    "    \n",
    "    a.start()\n",
    "    b.start()"
   ]
  },
  {
   "cell_type": "code",
   "execution_count": 25,
   "metadata": {},
   "outputs": [
    {
     "name": "stdout",
     "output_type": "stream",
     "text": [
      "Collecting pipenv\n",
      "  Downloading pipenv-2020.11.15-py2.py3-none-any.whl (3.9 MB)\n",
      "Requirement already satisfied: pip>=18.0 in c:\\users\\linxu\\anaconda3\\lib\\site-packages (from pipenv) (20.3.3)\n",
      "Requirement already satisfied: certifi in c:\\users\\linxu\\anaconda3\\lib\\site-packages (from pipenv) (2020.12.5)\n",
      "Requirement already satisfied: setuptools>=36.2.1 in c:\\users\\linxu\\anaconda3\\lib\\site-packages (from pipenv) (51.0.0.post20201207)\n",
      "Collecting virtualenv-clone>=0.2.5\n",
      "  Downloading virtualenv_clone-0.5.4-py2.py3-none-any.whl (6.6 kB)\n",
      "Collecting virtualenv\n",
      "  Downloading virtualenv-20.4.0-py2.py3-none-any.whl (5.7 MB)\n",
      "Requirement already satisfied: filelock<4,>=3.0.0 in c:\\users\\linxu\\anaconda3\\lib\\site-packages (from virtualenv->pipenv) (3.0.12)Note: you may need to restart the kernel to use updated packages.\n",
      "Requirement already satisfied: six<2,>=1.9.0 in c:\\users\\linxu\\anaconda3\\lib\\site-packages (from virtualenv->pipenv) (1.15.0)\n",
      "\n",
      "Collecting appdirs<2,>=1.4.3\n",
      "  Downloading appdirs-1.4.4-py2.py3-none-any.whl (9.6 kB)\n",
      "Collecting distlib<1,>=0.3.1\n",
      "  Downloading distlib-0.3.1-py2.py3-none-any.whl (335 kB)\n",
      "Installing collected packages: distlib, appdirs, virtualenv-clone, virtualenv, pipenv\n",
      "Successfully installed appdirs-1.4.4 distlib-0.3.1 pipenv-2020.11.15 virtualenv-20.4.0 virtualenv-clone-0.5.4\n"
     ]
    }
   ],
   "source": [
    "pip install pipenv"
   ]
  },
  {
   "cell_type": "code",
   "execution_count": 28,
   "metadata": {},
   "outputs": [
    {
     "name": "stdout",
     "output_type": "stream",
     "text": [
      "Requirement already satisfied: pandas-bokeh in c:\\users\\linxu\\anaconda3\\lib\\site-packages (0.5.2)\n",
      "Requirement already satisfied: pandas>=0.22.0 in c:\\users\\linxu\\anaconda3\\lib\\site-packages (from pandas-bokeh) (1.1.5)\n",
      "Requirement already satisfied: bokeh>=2.0 in c:\\users\\linxu\\anaconda3\\lib\\site-packages (from pandas-bokeh) (2.2.3)\n",
      "Requirement already satisfied: packaging>=16.8 in c:\\users\\linxu\\anaconda3\\lib\\site-packages (from bokeh>=2.0->pandas-bokeh) (20.8)\n",
      "Requirement already satisfied: typing-extensions>=3.7.4 in c:\\users\\linxu\\anaconda3\\lib\\site-packages (from bokeh>=2.0->pandas-bokeh) (3.7.4.3)\n",
      "Requirement already satisfied: python-dateutil>=2.1 in c:\\users\\linxu\\anaconda3\\lib\\site-packages (from bokeh>=2.0->pandas-bokeh) (2.8.1)\n",
      "Requirement already satisfied: Jinja2>=2.7 in c:\\users\\linxu\\anaconda3\\lib\\site-packages (from bokeh>=2.0->pandas-bokeh) (2.11.2)\n",
      "Requirement already satisfied: tornado>=5.1 in c:\\users\\linxu\\anaconda3\\lib\\site-packages (from bokeh>=2.0->pandas-bokeh) (6.1)\n",
      "Requirement already satisfied: PyYAML>=3.10 in c:\\users\\linxu\\anaconda3\\lib\\site-packages (from bokeh>=2.0->pandas-bokeh) (5.3.1)\n",
      "Requirement already satisfied: numpy>=1.11.3 in c:\\users\\linxu\\anaconda3\\lib\\site-packages (from bokeh>=2.0->pandas-bokeh) (1.19.3)\n",
      "Requirement already satisfied: pillow>=7.1.0 in c:\\users\\linxu\\anaconda3\\lib\\site-packages (from bokeh>=2.0->pandas-bokeh) (8.0.1)\n",
      "Requirement already satisfied: MarkupSafe>=0.23 in c:\\users\\linxu\\anaconda3\\lib\\site-packages (from Jinja2>=2.7->bokeh>=2.0->pandas-bokeh) (1.1.1)\n",
      "Requirement already satisfied: pyparsing>=2.0.2 in c:\\users\\linxu\\anaconda3\\lib\\site-packages (from packaging>=16.8->bokeh>=2.0->pandas-bokeh) (2.4.7)\n",
      "Requirement already satisfied: pytz>=2017.2 in c:\\users\\linxu\\anaconda3\\lib\\site-packages (from pandas>=0.22.0->pandas-bokeh) (2020.4)\n",
      "Requirement already satisfied: six>=1.5 in c:\\users\\linxu\\anaconda3\\lib\\site-packages (from python-dateutil>=2.1->bokeh>=2.0->pandas-bokeh) (1.15.0)\n",
      "Note: you may need to restart the kernel to use updated packages.\n"
     ]
    }
   ],
   "source": [
    "pip install pandas-bokeh"
   ]
  },
  {
   "cell_type": "code",
   "execution_count": 29,
   "metadata": {},
   "outputs": [],
   "source": [
    "from bokeh.plotting import figure, output_file, show"
   ]
  },
  {
   "cell_type": "code",
   "execution_count": 30,
   "metadata": {},
   "outputs": [
    {
     "name": "stderr",
     "output_type": "stream",
     "text": [
      "BokehDeprecationWarning: 'legend' keyword is deprecated, use explicit 'legend_label', 'legend_field', or 'legend_group' keywords instead\n"
     ]
    }
   ],
   "source": [
    "x = [1, 2, 3, 4, 5]\n",
    "y = [4, 3, 3, 5, 4]\n",
    "\n",
    "output_file('index.html')\n",
    "\n",
    "p = figure(\n",
    "    title = 'Example chart',\n",
    "    x_axis_label = 'X axis',\n",
    "    y_axis_label = 'Y axis'\n",
    ")\n",
    "\n",
    "p.line(x, y, legend=\"test\", line_width=1.5)\n",
    "\n",
    "show(p)"
   ]
  },
  {
   "cell_type": "code",
   "execution_count": 31,
   "metadata": {},
   "outputs": [],
   "source": [
    "import numpy as np"
   ]
  },
  {
   "cell_type": "code",
   "execution_count": 32,
   "metadata": {},
   "outputs": [
    {
     "name": "stdout",
     "output_type": "stream",
     "text": [
      "Array elements: \n",
      " [ 0  1  2  3  4  5  6  7  8  9 10 11 12 13 14 15]\n",
      "\n",
      "Array reshaped as 4 rows and 4 columns: \n",
      " [[ 0  1  2  3]\n",
      " [ 4  5  6  7]\n",
      " [ 8  9 10 11]\n",
      " [12 13 14 15]]\n"
     ]
    }
   ],
   "source": [
    "arr = np.arange(16)\n",
    "print(\"Array elements: \\n\", arr)\n",
    "\n",
    "res = np.arange(16).reshape(4, 4)\n",
    "print(\"\\nArray reshaped as 4 rows and 4 columns: \\n\", res)"
   ]
  },
  {
   "cell_type": "code",
   "execution_count": 33,
   "metadata": {},
   "outputs": [
    {
     "name": "stdout",
     "output_type": "stream",
     "text": [
      "locals() outside fun(a, b) = {'__name__': '__main__', '__doc__': 'Automatically created module for IPython interactive environment', '__package__': None, '__loader__': None, '__spec__': None, '__builtin__': <module 'builtins' (built-in)>, '__builtins__': <module 'builtins' (built-in)>, '_ih': ['', 'count = 1\\nif True and count == 1 and count == 2:\\n    print(\"if\")\\nelif count == \\'count\\':\\n    print(\"First elif\")\\nelif count == 14.2:\\n    print(\"Second elif\")\\nelif coint == 1:\\n    print(\"Nth elif\")\\nelse:\\n    print(\"Else\")', 'count = 1\\nif True and count == 1 and count == 2:\\n    print(\"if\")\\nelif count == \\'count\\':\\n    print(\"First elif\")\\nelif count == 14.2:\\n    print(\"Second elif\")\\nelif count == 1:\\n    print(\"Nth elif\")\\nelse:\\n    print(\"Else\")', 'b = 10\\nif b == 10:\\n    print(b)\\n    b = b * 15\\n    b = b - 43\\n    b = b ** 0.5\\n    print(b)\\nelif b == 20:\\n    print(\"You will not see me\")\\nelse:\\n    print(\"And me\")', 'var_1 = 5\\nvar_2 = 10\\nvar_3 = 20\\nif var_3**2 > var_1 * var_2:\\n    if var_3 < 100:\\n        if var_3 > 10:\\n            var_1 = var_1 * var_2 * var_3\\n        var_2 = var_1 + var_3\\n    var_3 = var_1 - var_2\\nprint(var_1)\\nprint(var_2)\\nprint(var_3)', 'from datetime import datetime', 'def daily_backup(last_backup_date):\\n    if not last_backup_date:\\n        print(f\"creating first backup [{datetime.now().date()}]..\")\\n        return\\n    delta = datetime.now() - last_backup_date\\n    if delta.days > 0:\\n        print(f\"creating backup [{datetime.now().date()}]..\")\\n    else:\\n        print(f\"backup on [{datetime.now().date()}] already exist\")\\n        \\ndaily_backup(\"\")', 'daily_backup(datetime(2021, 1, 19))', 'BLACK_LIST = [\\'192.34.12.3\\', \\'192.34.12.5\\',\\'192.34.10.23\\']\\nUSERS = [\\'Anna12\\', \\'peterpeter1\\', \\'kate901\\']\\n\\ndef acces_available(user_name, ip):\\n    if user_name in USERS:\\n        if ip not in BLACK_LIST:\\n            return True\\n        else:\\n            print(f\"write to log: user {user_name} [ip: {ip}] in block list\")\\n    else:\\n        print(f\"write to log: user {user_name} [ip: {ip}] does not exists\")\\n        return False\\n    \\nif acces_available(\"Anna12\", \"192.34.12.111\"):\\n    print(\"Hello, User!\")', 'if access_available(\"Anna12\", \"192.34.10.23\"):\\n    print(f\"Hello, User!\")', 'if acces_available(\"Anna12\", \"192.34.10.23\"):\\n    print(f\"Hello, User!\")', 'BLACK_LIST = [\\'192.34.12.3\\', \\'192.34.12.5\\',\\'192.34.10.23\\']\\nUSERS = [\\'Anna12\\', \\'peterpeter1\\', \\'kate901\\']\\n\\ndef access_available(user_name,ip):\\n    if user_name in USERS:\\n        if ip not in BLACK_LIST:\\n            return True\\n        else:\\n            print(f\"write to log: user {user_name} [ip: {ip}] in block list\")\\n    else:\\n        print(f\"write to log: user {user_name} [ip: {ip}] does not exists\")\\n        return False\\n    \\nif access_available(\"Anna12\", \"192.34.12.111\"):\\n    print(\"Hello, User!\")', 'if access_available(\"Anna12\", \"192.34.10.23\"):\\n    print(f\"Hello, User!\")', 'if access_available(\"denvull\", \"192.34.10.11\"):\\n    print(f\"Hello!!\")', 'import math\\nimport random', \"rand_num = random.randit(1, 100)\\nsqrt_rand_num = math.sqrt(rand_num)\\n\\nprint('Random numder = ', rand_num)\", \"rand_num = random.randint(1, 100)\\nsqrt_rand_num = math.sqrt(rand_num)\\n\\nprint('Random numder = ', rand_num)\", \"print('Square root = ', sqrt_rand_num)\", 'import math', 'math.log()', 'print(math.pi)', 'print(math.e)', 'import threading\\nimport time', \"shared_resource = False\\n\\nlock = threading.Lock()\\n\\ndef perfom_computation():\\n    print(f'Thread {threading.currentThread().name} - perfoming some computation...')\\n    shared_resource = True\\n    print(f'Thread {threading.currentThread().name} - set shared_resource to True!')\\n    print(f'Thread {threading.currentThread().name} - Finished!')\\n    time.sleep(1)\\n    \\ndef monitor_resource():\\n    while shared_resource == False:\\n        time.sleep(1)\\n    print(f'Thread {threading.currentThread().name} - Detected shared_resource = False')\\n    time.sleep(1)\\n    print(f'Thread {threading.currentThread().name} - Finished!')\\n    \\n    \\nif __name__ == '__main__':\\n    a = threading.Thread(target=perfom_computation, name='A')\\n    b = threading.Thread(target=monitor_resource, name='B')\\n    \\n    a.start()\\n    b.start()\", 'pipenv install bokeh pandas', \"get_ipython().run_line_magic('pip', 'install pipenv')\", 'pipenv install bokeh pandas', \"get_ipython().run_line_magic('pip', 'install pandas-bokeh')\", \"get_ipython().run_line_magic('pip', 'install pandas-bokeh')\", 'from bokeh.plotting import figure, output_file, show', 'x = [1, 2, 3, 4, 5]\\ny = [4, 3, 3, 5, 4]\\n\\noutput_file(\\'index.html\\')\\n\\np = figure(\\n    title = \\'Example chart\\',\\n    x_axis_label = \\'X axis\\',\\n    y_axis_label = \\'Y axis\\'\\n)\\n\\np.line(x, y, legend=\"test\", line_width=1.5)\\n\\nshow(p)', 'import numpy as np', 'arr = np.arange(16)\\nprint(\"Array elements: \\\\n\", arr)\\n\\nres = np.arange(16).reshape(4, 4)\\nprint(\"\\\\nArray reshaped as 4 rows and 4 columns: \\\\n\", res)', 'global_var = 1234\\n\\ndef fun(a, b):\\n    global global_var\\n    temp = 100\\n    print(f\"locals() inside fun(a, b) = {locals()}\")\\n    return a + b\\n\\nif __name__ == \\'__main__\\':\\n    print(f\"locals() outside fun(a, b) = {locals()}\")\\n    print(fun(10, 20))'], '_oh': {}, '_dh': ['C:\\\\Users\\\\linxu\\\\Downloads'], 'In': ['', 'count = 1\\nif True and count == 1 and count == 2:\\n    print(\"if\")\\nelif count == \\'count\\':\\n    print(\"First elif\")\\nelif count == 14.2:\\n    print(\"Second elif\")\\nelif coint == 1:\\n    print(\"Nth elif\")\\nelse:\\n    print(\"Else\")', 'count = 1\\nif True and count == 1 and count == 2:\\n    print(\"if\")\\nelif count == \\'count\\':\\n    print(\"First elif\")\\nelif count == 14.2:\\n    print(\"Second elif\")\\nelif count == 1:\\n    print(\"Nth elif\")\\nelse:\\n    print(\"Else\")', 'b = 10\\nif b == 10:\\n    print(b)\\n    b = b * 15\\n    b = b - 43\\n    b = b ** 0.5\\n    print(b)\\nelif b == 20:\\n    print(\"You will not see me\")\\nelse:\\n    print(\"And me\")', 'var_1 = 5\\nvar_2 = 10\\nvar_3 = 20\\nif var_3**2 > var_1 * var_2:\\n    if var_3 < 100:\\n        if var_3 > 10:\\n            var_1 = var_1 * var_2 * var_3\\n        var_2 = var_1 + var_3\\n    var_3 = var_1 - var_2\\nprint(var_1)\\nprint(var_2)\\nprint(var_3)', 'from datetime import datetime', 'def daily_backup(last_backup_date):\\n    if not last_backup_date:\\n        print(f\"creating first backup [{datetime.now().date()}]..\")\\n        return\\n    delta = datetime.now() - last_backup_date\\n    if delta.days > 0:\\n        print(f\"creating backup [{datetime.now().date()}]..\")\\n    else:\\n        print(f\"backup on [{datetime.now().date()}] already exist\")\\n        \\ndaily_backup(\"\")', 'daily_backup(datetime(2021, 1, 19))', 'BLACK_LIST = [\\'192.34.12.3\\', \\'192.34.12.5\\',\\'192.34.10.23\\']\\nUSERS = [\\'Anna12\\', \\'peterpeter1\\', \\'kate901\\']\\n\\ndef acces_available(user_name, ip):\\n    if user_name in USERS:\\n        if ip not in BLACK_LIST:\\n            return True\\n        else:\\n            print(f\"write to log: user {user_name} [ip: {ip}] in block list\")\\n    else:\\n        print(f\"write to log: user {user_name} [ip: {ip}] does not exists\")\\n        return False\\n    \\nif acces_available(\"Anna12\", \"192.34.12.111\"):\\n    print(\"Hello, User!\")', 'if access_available(\"Anna12\", \"192.34.10.23\"):\\n    print(f\"Hello, User!\")', 'if acces_available(\"Anna12\", \"192.34.10.23\"):\\n    print(f\"Hello, User!\")', 'BLACK_LIST = [\\'192.34.12.3\\', \\'192.34.12.5\\',\\'192.34.10.23\\']\\nUSERS = [\\'Anna12\\', \\'peterpeter1\\', \\'kate901\\']\\n\\ndef access_available(user_name,ip):\\n    if user_name in USERS:\\n        if ip not in BLACK_LIST:\\n            return True\\n        else:\\n            print(f\"write to log: user {user_name} [ip: {ip}] in block list\")\\n    else:\\n        print(f\"write to log: user {user_name} [ip: {ip}] does not exists\")\\n        return False\\n    \\nif access_available(\"Anna12\", \"192.34.12.111\"):\\n    print(\"Hello, User!\")', 'if access_available(\"Anna12\", \"192.34.10.23\"):\\n    print(f\"Hello, User!\")', 'if access_available(\"denvull\", \"192.34.10.11\"):\\n    print(f\"Hello!!\")', 'import math\\nimport random', \"rand_num = random.randit(1, 100)\\nsqrt_rand_num = math.sqrt(rand_num)\\n\\nprint('Random numder = ', rand_num)\", \"rand_num = random.randint(1, 100)\\nsqrt_rand_num = math.sqrt(rand_num)\\n\\nprint('Random numder = ', rand_num)\", \"print('Square root = ', sqrt_rand_num)\", 'import math', 'math.log()', 'print(math.pi)', 'print(math.e)', 'import threading\\nimport time', \"shared_resource = False\\n\\nlock = threading.Lock()\\n\\ndef perfom_computation():\\n    print(f'Thread {threading.currentThread().name} - perfoming some computation...')\\n    shared_resource = True\\n    print(f'Thread {threading.currentThread().name} - set shared_resource to True!')\\n    print(f'Thread {threading.currentThread().name} - Finished!')\\n    time.sleep(1)\\n    \\ndef monitor_resource():\\n    while shared_resource == False:\\n        time.sleep(1)\\n    print(f'Thread {threading.currentThread().name} - Detected shared_resource = False')\\n    time.sleep(1)\\n    print(f'Thread {threading.currentThread().name} - Finished!')\\n    \\n    \\nif __name__ == '__main__':\\n    a = threading.Thread(target=perfom_computation, name='A')\\n    b = threading.Thread(target=monitor_resource, name='B')\\n    \\n    a.start()\\n    b.start()\", 'pipenv install bokeh pandas', \"get_ipython().run_line_magic('pip', 'install pipenv')\", 'pipenv install bokeh pandas', \"get_ipython().run_line_magic('pip', 'install pandas-bokeh')\", \"get_ipython().run_line_magic('pip', 'install pandas-bokeh')\", 'from bokeh.plotting import figure, output_file, show', 'x = [1, 2, 3, 4, 5]\\ny = [4, 3, 3, 5, 4]\\n\\noutput_file(\\'index.html\\')\\n\\np = figure(\\n    title = \\'Example chart\\',\\n    x_axis_label = \\'X axis\\',\\n    y_axis_label = \\'Y axis\\'\\n)\\n\\np.line(x, y, legend=\"test\", line_width=1.5)\\n\\nshow(p)', 'import numpy as np', 'arr = np.arange(16)\\nprint(\"Array elements: \\\\n\", arr)\\n\\nres = np.arange(16).reshape(4, 4)\\nprint(\"\\\\nArray reshaped as 4 rows and 4 columns: \\\\n\", res)', 'global_var = 1234\\n\\ndef fun(a, b):\\n    global global_var\\n    temp = 100\\n    print(f\"locals() inside fun(a, b) = {locals()}\")\\n    return a + b\\n\\nif __name__ == \\'__main__\\':\\n    print(f\"locals() outside fun(a, b) = {locals()}\")\\n    print(fun(10, 20))'], 'Out': {}, 'get_ipython': <bound method InteractiveShell.get_ipython of <ipykernel.zmqshell.ZMQInteractiveShell object at 0x0000029CCF9B8D60>>, 'exit': <IPython.core.autocall.ZMQExitAutocall object at 0x0000029CCFA37BB0>, 'quit': <IPython.core.autocall.ZMQExitAutocall object at 0x0000029CCFA37BB0>, '_': '', '__': '', '___': '', '_i': 'arr = np.arange(16)\\nprint(\"Array elements: \\\\n\", arr)\\n\\nres = np.arange(16).reshape(4, 4)\\nprint(\"\\\\nArray reshaped as 4 rows and 4 columns: \\\\n\", res)', '_ii': 'import numpy as np', '_iii': 'x = [1, 2, 3, 4, 5]\\ny = [4, 3, 3, 5, 4]\\n\\noutput_file(\\'index.html\\')\\n\\np = figure(\\n    title = \\'Example chart\\',\\n    x_axis_label = \\'X axis\\',\\n    y_axis_label = \\'Y axis\\'\\n)\\n\\np.line(x, y, legend=\"test\", line_width=1.5)\\n\\nshow(p)', '_i1': 'count = 1\\nif True and count == 1 and count == 2:\\n    print(\"if\")\\nelif count == \\'count\\':\\n    print(\"First elif\")\\nelif count == 14.2:\\n    print(\"Second elif\")\\nelif coint == 1:\\n    print(\"Nth elif\")\\nelse:\\n    print(\"Else\")', 'count': 1, '_i2': 'count = 1\\nif True and count == 1 and count == 2:\\n    print(\"if\")\\nelif count == \\'count\\':\\n    print(\"First elif\")\\nelif count == 14.2:\\n    print(\"Second elif\")\\nelif count == 1:\\n    print(\"Nth elif\")\\nelse:\\n    print(\"Else\")', '_i3': 'b = 10\\nif b == 10:\\n    print(b)\\n    b = b * 15\\n    b = b - 43\\n    b = b ** 0.5\\n    print(b)\\nelif b == 20:\\n    print(\"You will not see me\")\\nelse:\\n    print(\"And me\")', 'b': <Thread(B, started 2520)>, '_i4': 'var_1 = 5\\nvar_2 = 10\\nvar_3 = 20\\nif var_3**2 > var_1 * var_2:\\n    if var_3 < 100:\\n        if var_3 > 10:\\n            var_1 = var_1 * var_2 * var_3\\n        var_2 = var_1 + var_3\\n    var_3 = var_1 - var_2\\nprint(var_1)\\nprint(var_2)\\nprint(var_3)', 'var_1': 1000, 'var_2': 1020, 'var_3': -20, '_i5': 'from datetime import datetime', 'datetime': <class 'datetime.datetime'>, '_i6': 'def daily_backup(last_backup_date):\\n    if not last_backup_date:\\n        print(f\"creating first backup [{datetime.now().date()}]..\")\\n        return\\n    delta = datetime.now() - last_backup_date\\n    if delta.days > 0:\\n        print(f\"creating backup [{datetime.now().date()}]..\")\\n    else:\\n        print(f\"backup on [{datetime.now().date()}] already exist\")\\n        \\ndaily_backup(\"\")', 'daily_backup': <function daily_backup at 0x0000029CCFB570D0>, '_i7': 'daily_backup(datetime(2021, 1, 19))', '_i8': 'BLACK_LIST = [\\'192.34.12.3\\', \\'192.34.12.5\\',\\'192.34.10.23\\']\\nUSERS = [\\'Anna12\\', \\'peterpeter1\\', \\'kate901\\']\\n\\ndef acces_available(user_name, ip):\\n    if user_name in USERS:\\n        if ip not in BLACK_LIST:\\n            return True\\n        else:\\n            print(f\"write to log: user {user_name} [ip: {ip}] in block list\")\\n    else:\\n        print(f\"write to log: user {user_name} [ip: {ip}] does not exists\")\\n        return False\\n    \\nif acces_available(\"Anna12\", \"192.34.12.111\"):\\n    print(\"Hello, User!\")', 'BLACK_LIST': ['192.34.12.3', '192.34.12.5', '192.34.10.23'], 'USERS': ['Anna12', 'peterpeter1', 'kate901'], 'acces_available': <function acces_available at 0x0000029CCFB57160>, '_i9': 'if access_available(\"Anna12\", \"192.34.10.23\"):\\n    print(f\"Hello, User!\")', '_i10': 'if acces_available(\"Anna12\", \"192.34.10.23\"):\\n    print(f\"Hello, User!\")', '_i11': 'BLACK_LIST = [\\'192.34.12.3\\', \\'192.34.12.5\\',\\'192.34.10.23\\']\\nUSERS = [\\'Anna12\\', \\'peterpeter1\\', \\'kate901\\']\\n\\ndef access_available(user_name,ip):\\n    if user_name in USERS:\\n        if ip not in BLACK_LIST:\\n            return True\\n        else:\\n            print(f\"write to log: user {user_name} [ip: {ip}] in block list\")\\n    else:\\n        print(f\"write to log: user {user_name} [ip: {ip}] does not exists\")\\n        return False\\n    \\nif access_available(\"Anna12\", \"192.34.12.111\"):\\n    print(\"Hello, User!\")', 'access_available': <function access_available at 0x0000029CCFB571F0>, '_i12': 'if access_available(\"Anna12\", \"192.34.10.23\"):\\n    print(f\"Hello, User!\")', '_i13': 'if access_available(\"denvull\", \"192.34.10.11\"):\\n    print(f\"Hello!!\")', '_i14': 'import math\\nimport random', 'math': <module 'math' (built-in)>, 'random': <module 'random' from 'C:\\\\Users\\\\linxu\\\\anaconda3\\\\lib\\\\random.py'>, '_i15': \"rand_num = random.randit(1, 100)\\nsqrt_rand_num = math.sqrt(rand_num)\\n\\nprint('Random numder = ', rand_num)\", '_i16': \"rand_num = random.randint(1, 100)\\nsqrt_rand_num = math.sqrt(rand_num)\\n\\nprint('Random numder = ', rand_num)\", 'rand_num': 8, 'sqrt_rand_num': 2.8284271247461903, '_i17': \"print('Square root = ', sqrt_rand_num)\", '_i18': 'import math', '_i19': 'math.log()', '_i20': 'print(math.pi)', '_i21': 'print(math.e)', '_i22': 'import threading\\nimport time', 'threading': <module 'threading' from 'C:\\\\Users\\\\linxu\\\\anaconda3\\\\lib\\\\threading.py'>, 'time': <module 'time' (built-in)>, '_i23': \"shared_resource = False\\n\\nlock = threading.Lock()\\n\\ndef perfom_computation():\\n    print(f'Thread {threading.currentThread().name} - perfoming some computation...')\\n    shared_resource = True\\n    print(f'Thread {threading.currentThread().name} - set shared_resource to True!')\\n    print(f'Thread {threading.currentThread().name} - Finished!')\\n    time.sleep(1)\\n    \\ndef monitor_resource():\\n    while shared_resource == False:\\n        time.sleep(1)\\n    print(f'Thread {threading.currentThread().name} - Detected shared_resource = False')\\n    time.sleep(1)\\n    print(f'Thread {threading.currentThread().name} - Finished!')\\n    \\n    \\nif __name__ == '__main__':\\n    a = threading.Thread(target=perfom_computation, name='A')\\n    b = threading.Thread(target=monitor_resource, name='B')\\n    \\n    a.start()\\n    b.start()\", 'shared_resource': False, 'lock': <unlocked _thread.lock object at 0x0000029CCFB6FD20>, 'perfom_computation': <function perfom_computation at 0x0000029CCFB574C0>, 'monitor_resource': <function monitor_resource at 0x0000029CCFB575E0>, 'a': <Thread(A, stopped 1612)>, '_i24': 'pipenv install bokeh pandas', '_i25': 'pip install pipenv', '_exit_code': 0, '_i26': 'pipenv install bokeh pandas', '_i27': 'pip install pandas-bokeh', '_i28': 'pip install pandas-bokeh', '_i29': 'from bokeh.plotting import figure, output_file, show', 'figure': <function figure at 0x0000029CCFBE8430>, 'output_file': <function output_file at 0x0000029CEA45C3A0>, 'show': <function show at 0x0000029CEA45C9D0>, '_i30': 'x = [1, 2, 3, 4, 5]\\ny = [4, 3, 3, 5, 4]\\n\\noutput_file(\\'index.html\\')\\n\\np = figure(\\n    title = \\'Example chart\\',\\n    x_axis_label = \\'X axis\\',\\n    y_axis_label = \\'Y axis\\'\\n)\\n\\np.line(x, y, legend=\"test\", line_width=1.5)\\n\\nshow(p)', 'x': [1, 2, 3, 4, 5], 'y': [4, 3, 3, 5, 4], 'p': Figure(id='1001', ...), '_i31': 'import numpy as np', 'np': <module 'numpy' from 'C:\\\\Users\\\\linxu\\\\anaconda3\\\\lib\\\\site-packages\\\\numpy\\\\__init__.py'>, '_i32': 'arr = np.arange(16)\\nprint(\"Array elements: \\\\n\", arr)\\n\\nres = np.arange(16).reshape(4, 4)\\nprint(\"\\\\nArray reshaped as 4 rows and 4 columns: \\\\n\", res)', 'arr': array([ 0,  1,  2,  3,  4,  5,  6,  7,  8,  9, 10, 11, 12, 13, 14, 15]), 'res': array([[ 0,  1,  2,  3],\n",
      "       [ 4,  5,  6,  7],\n",
      "       [ 8,  9, 10, 11],\n",
      "       [12, 13, 14, 15]]), '_i33': 'global_var = 1234\\n\\ndef fun(a, b):\\n    global global_var\\n    temp = 100\\n    print(f\"locals() inside fun(a, b) = {locals()}\")\\n    return a + b\\n\\nif __name__ == \\'__main__\\':\\n    print(f\"locals() outside fun(a, b) = {locals()}\")\\n    print(fun(10, 20))', 'global_var': 1234, 'fun': <function fun at 0x0000029CEA46BEE0>}\n",
      "locals() inside fun(a, b) = {'a': 10, 'b': 20, 'temp': 100}\n",
      "30\n"
     ]
    }
   ],
   "source": [
    "global_var = 1234\n",
    "\n",
    "def fun(a, b):\n",
    "    global global_var\n",
    "    temp = 100\n",
    "    print(f\"locals() inside fun(a, b) = {locals()}\")\n",
    "    return a + b\n",
    "\n",
    "if __name__ == '__main__':\n",
    "    print(f\"locals() outside fun(a, b) = {locals()}\")\n",
    "    print(fun(10, 20))"
   ]
  },
  {
   "cell_type": "code",
   "execution_count": 34,
   "metadata": {},
   "outputs": [
    {
     "name": "stdout",
     "output_type": "stream",
     "text": [
      "Addition = (3+6j)\n",
      "Subtraction = (-1-2j)\n",
      "Multiplication = (-6+8j)\n",
      "Division = (0.5+0j)\n"
     ]
    }
   ],
   "source": [
    "a = 1 + 2j\n",
    "b = 2 + 4j\n",
    "print('Addition =', a + b)\n",
    "print('Subtraction =', a - b)\n",
    "print('Multiplication =', a * b)\n",
    "print('Division =', a / b)"
   ]
  },
  {
   "cell_type": "code",
   "execution_count": 35,
   "metadata": {},
   "outputs": [],
   "source": [
    "import cmath\n",
    "import math"
   ]
  },
  {
   "cell_type": "code",
   "execution_count": 36,
   "metadata": {},
   "outputs": [
    {
     "name": "stdout",
     "output_type": "stream",
     "text": [
      "cmath Module: 0.6435011087932844\n",
      "Math Module: 0.6435011087932844\n"
     ]
    }
   ],
   "source": [
    "num = 4 + 3j\n",
    "\n",
    "p = cmath.phase(num)\n",
    "print('cmath Module:', p)\n",
    "\n",
    "p = math.atan(num.imag/num.real)\n",
    "print('Math Module:', p)"
   ]
  },
  {
   "cell_type": "code",
   "execution_count": 37,
   "metadata": {},
   "outputs": [],
   "source": [
    "import os\n",
    "from multiprocessing import Process, current_process"
   ]
  },
  {
   "cell_type": "code",
   "execution_count": 41,
   "metadata": {},
   "outputs": [],
   "source": [
    "def doubler(number):\n",
    "    result = number * 2\n",
    "    proc_name = current_process().name\n",
    "    print('{0} doubled to {1} by: {2}'.format(\n",
    "        number, result, proc_name))\n",
    "    \n",
    "if __name__ == '__main__':\n",
    "    numbers = [5, 10, 15, 20, 25]\n",
    "    procs = []\n",
    "    proc = Process(target=doubler, args=(5, ))\n",
    "    \n",
    "    for index, number in enumerate(numbers):\n",
    "        proc = Process(target=doubler, args=(number, ))\n",
    "        proc.start()\n",
    "        \n",
    "    proc = Process(target=doubler, name='Test', args=(2, ))\n",
    "    proc.start()\n",
    "    procs.append(proc)\n",
    "    \n",
    "    for proc in procs:\n",
    "        proc.join()"
   ]
  },
  {
   "cell_type": "code",
   "execution_count": 42,
   "metadata": {},
   "outputs": [],
   "source": [
    "import numpy as np\n",
    "import matplotlib.pyplot as plt\n",
    "import matplotlib as mpl"
   ]
  },
  {
   "cell_type": "code",
   "execution_count": 45,
   "metadata": {},
   "outputs": [
    {
     "name": "stdout",
     "output_type": "stream",
     "text": [
      "[0.07138329 1.47681462 2.88224595 4.28767729 5.69310862 7.09853995\n",
      " 8.50397128 9.90940261]\n",
      "Type CS: <class 'matplotlib.collections.PolyCollection'>\n",
      "Type CBSR: <class 'matplotlib.colorbar.Colorbar'>\n"
     ]
    },
    {
     "data": {
      "image/png": "[encoded data removed]",
      "text/plain": [
       "<Figure size 864x288 with 6 Axes>"
      ]
     },
     "metadata": {
      "needs_background": "light"
     },
     "output_type": "display_data"
    }
   ],
   "source": [
    "a = np.random.random(100)*10.\n",
    "a = a.reshape(10, 10)\n",
    "\n",
    "fig = plt.figure(figsize=(12, 4))\n",
    "\n",
    "N = 7\n",
    "bounds = np.linspace(np.min(a), np.max(a), N+1)\n",
    "print(bounds)\n",
    "cmap = mpl.cm.get_cmap('RdBu', N)\n",
    "\n",
    "ax = fig.add_subplot(131)\n",
    "cs = ax.pcolor(a, cmap=cmap)\n",
    "print(u'Type CS: %s' % type(cs))\n",
    "cbar = fig.colorbar(cs, ax=ax)\n",
    "print(u'Type CBSR: %s' % type(cbar))\n",
    "\n",
    "ax.set_title(u'Selection of divisions for the number of colors')\n",
    "\n",
    "ax2 = fig.add_subplot(132)\n",
    "bounds = [0.0, 2.0, 4.0, 6.0, 8.0, 10.0]\n",
    "cmap = mpl.cm.get_cmap('ocean', len(bounds)-1)\n",
    "cmap.set_over('red')\n",
    "cmap.set_under('grey')\n",
    "cs = ax2.pcolor(a, cmap=cmap, vmin=bounds[0], vmax=bounds[-1])\n",
    "cbar = fig.colorbar(cs, ax=ax2, ticks=bounds, extend='max', extendfrac=0.1)\n",
    "ax2.set_title(u'Selection of the number of colors for the specified value intervals')\n",
    "ax2.grid(True)\n",
    "cmap.set_over('pink')\n",
    "\n",
    "ax3 = fig.add_subplot(133)\n",
    "cs = ax3.imshow(a, cmap=cmap, vmin=bounds[0], vmax=bounds[-1])\n",
    "cbar = fig.colorbar(cs, ax=ax3, ticks=bounds, extend='both', extendfrac='auto',\n",
    "                    orientation='horizontal')\n",
    "ax3.set_title(u'Scaling the color scale')\n",
    "ax3.grid(True)\n",
    "\n",
    "plt.tight_layout()\n",
    "\n",
    "\n",
    "\n",
    "plt.show()"
   ]
  },
  {
   "cell_type": "code",
   "execution_count": 13,
   "metadata": {},
   "outputs": [],
   "source": [
    "from matplotlib import patches\n",
    "from scipy.spatial import ConvexHull\n",
    "import warnings; warnings.simplefilter('ignore')\n",
    "import pandas as pd\n",
    "import numpy as np\n",
    "import matplotlib.pyplot as plt\n",
    "import seaborn as sns\n",
    "sns.set_style(\"white\")"
   ]
  },
  {
   "cell_type": "code",
   "execution_count": 14,
   "metadata": {},
   "outputs": [],
   "source": [
    "midwest = pd.read_csv(\"https://raw.githubusercontent.com/selva86/datasets/master/midwest_filter.csv\")"
   ]
  },
  {
   "cell_type": "code",
   "execution_count": 15,
   "metadata": {},
   "outputs": [],
   "source": [
    "categories = np.unique(midwest['category'])\n",
    "colors = [plt.cm.tab10(i/float(len(categories)-1)) for i in range(len(categories))]"
   ]
  },
  {
   "cell_type": "code",
   "execution_count": 22,
   "metadata": {},
   "outputs": [
    {
     "name": "stderr",
     "output_type": "stream",
     "text": [
      "*c* argument looks like a single numeric RGB or RGBA sequence, which should be avoided as value-mapping will have precedence in case its length matches with *x* & *y*.  Please use the *color* keyword-argument or provide a 2-D array with a single row if you intend to specify the same RGB or RGBA value for all points.\n",
      "*c* argument looks like a single numeric RGB or RGBA sequence, which should be avoided as value-mapping will have precedence in case its length matches with *x* & *y*.  Please use the *color* keyword-argument or provide a 2-D array with a single row if you intend to specify the same RGB or RGBA value for all points.\n",
      "*c* argument looks like a single numeric RGB or RGBA sequence, which should be avoided as value-mapping will have precedence in case its length matches with *x* & *y*.  Please use the *color* keyword-argument or provide a 2-D array with a single row if you intend to specify the same RGB or RGBA value for all points.\n",
      "*c* argument looks like a single numeric RGB or RGBA sequence, which should be avoided as value-mapping will have precedence in case its length matches with *x* & *y*.  Please use the *color* keyword-argument or provide a 2-D array with a single row if you intend to specify the same RGB or RGBA value for all points.\n",
      "*c* argument looks like a single numeric RGB or RGBA sequence, which should be avoided as value-mapping will have precedence in case its length matches with *x* & *y*.  Please use the *color* keyword-argument or provide a 2-D array with a single row if you intend to specify the same RGB or RGBA value for all points.\n",
      "*c* argument looks like a single numeric RGB or RGBA sequence, which should be avoided as value-mapping will have precedence in case its length matches with *x* & *y*.  Please use the *color* keyword-argument or provide a 2-D array with a single row if you intend to specify the same RGB or RGBA value for all points.\n",
      "*c* argument looks like a single numeric RGB or RGBA sequence, which should be avoided as value-mapping will have precedence in case its length matches with *x* & *y*.  Please use the *color* keyword-argument or provide a 2-D array with a single row if you intend to specify the same RGB or RGBA value for all points.\n",
      "*c* argument looks like a single numeric RGB or RGBA sequence, which should be avoided as value-mapping will have precedence in case its length matches with *x* & *y*.  Please use the *color* keyword-argument or provide a 2-D array with a single row if you intend to specify the same RGB or RGBA value for all points.\n",
      "*c* argument looks like a single numeric RGB or RGBA sequence, which should be avoided as value-mapping will have precedence in case its length matches with *x* & *y*.  Please use the *color* keyword-argument or provide a 2-D array with a single row if you intend to specify the same RGB or RGBA value for all points.\n",
      "*c* argument looks like a single numeric RGB or RGBA sequence, which should be avoided as value-mapping will have precedence in case its length matches with *x* & *y*.  Please use the *color* keyword-argument or provide a 2-D array with a single row if you intend to specify the same RGB or RGBA value for all points.\n",
      "*c* argument looks like a single numeric RGB or RGBA sequence, which should be avoided as value-mapping will have precedence in case its length matches with *x* & *y*.  Please use the *color* keyword-argument or provide a 2-D array with a single row if you intend to specify the same RGB or RGBA value for all points.\n",
      "*c* argument looks like a single numeric RGB or RGBA sequence, which should be avoided as value-mapping will have precedence in case its length matches with *x* & *y*.  Please use the *color* keyword-argument or provide a 2-D array with a single row if you intend to specify the same RGB or RGBA value for all points.\n",
      "*c* argument looks like a single numeric RGB or RGBA sequence, which should be avoided as value-mapping will have precedence in case its length matches with *x* & *y*.  Please use the *color* keyword-argument or provide a 2-D array with a single row if you intend to specify the same RGB or RGBA value for all points.\n",
      "*c* argument looks like a single numeric RGB or RGBA sequence, which should be avoided as value-mapping will have precedence in case its length matches with *x* & *y*.  Please use the *color* keyword-argument or provide a 2-D array with a single row if you intend to specify the same RGB or RGBA value for all points.\n"
     ]
    },
    {
     "data": {
      "image/png": "[encoded data removed]",
      "text/plain": [
       "<Figure size 1280x800 with 1 Axes>"
      ]
     },
     "metadata": {},
     "output_type": "display_data"
    }
   ],
   "source": [
    "fig = plt.figure(figsize=(16, 10), dpi=80, facecolor='w',edgecolor='k')\n",
    "\n",
    "for i, category in enumerate(categories):\n",
    "    plt.scatter('area', 'poptotal',data=midwest.loc[midwest.category==category, :], s='dot_size', c=colors[i], label=str(category), edgecolors='black', linewidth=.5)\n",
    "    \n",
    "    \n",
    "def encircle(x, y, ax=None, **kw):\n",
    "    if not ax: ax=plt.gca()\n",
    "    p = np.c_[x, y]\n",
    "    hull = ConvexHull(p)\n",
    "    poly = plt.Polygon(p[hull.vertices, :], **kw)\n",
    "    ax.add_patch(poly)\n",
    "    \n",
    "midwest_encircle_data = midwest.loc[midwest.state=='IN', :]\n",
    "\n",
    "encircle(midwest_encircle_data.area, midwest_encircle_data.poptotal, ec=\"k\", fc=\"gold\", alpha=0.1)\n",
    "encircle(midwest_encircle_data.area, midwest_encircle_data.poptotal, ec=\"firebrick\", fc=\"none\", linewidth=1.5)\n",
    "\n",
    "plt.gca().set(xlim=(0.0, 0.1), ylim=(0, 90000),\n",
    "              xlabel='Area', ylabel='Population')\n",
    "\n",
    "plt.xticks(fontsize=12); plt.yticks(fontsize=12)\n",
    "plt.title(\"Bubble Plot with Encircling\", fontsize=22)\n",
    "plt.legend(fontsize=12)\n",
    "plt.show()"
   ]
  },
  {
   "cell_type": "code",
   "execution_count": 5,
   "metadata": {},
   "outputs": [],
   "source": [
    "file = open(\"example.txt\", \"w\")\n",
    "file.write(\"Hello, my name is Backy Bannat, and I'am a 34 years old.\")\n",
    "file.close()"
   ]
  },
  {
   "cell_type": "code",
   "execution_count": 9,
   "metadata": {},
   "outputs": [],
   "source": [
    "lines = [\"Jounny\", \"Antony\", \"Elena\"]\n",
    "with open(r\"C://Users/linxu/Downloads/example.txt\", \"w\") as file:\n",
    "    for line in lines:\n",
    "        file.write(line + '\\n')"
   ]
  },
  {
   "cell_type": "code",
   "execution_count": 10,
   "metadata": {},
   "outputs": [
    {
     "name": "stdout",
     "output_type": "stream",
     "text": [
      "Jounny\n",
      "\n",
      "Antony\n",
      "\n",
      "Elena\n",
      "\n"
     ]
    }
   ],
   "source": [
    "with open(r\"C://Users/linxu/Downloads/example.txt\", \"r\") as file:\n",
    "    for line in file:\n",
    "        print(line)"
   ]
  },
  {
   "cell_type": "code",
   "execution_count": 11,
   "metadata": {},
   "outputs": [
    {
     "name": "stdout",
     "output_type": "stream",
     "text": [
      "1\n",
      "2\n",
      "3\n"
     ]
    }
   ],
   "source": [
    "count = 0\n",
    "with open(r\"C://Users/linxu/Downloads/example.txt\", \"r\") as file:\n",
    "    for line in file:\n",
    "        count += 1\n",
    "        print(count)"
   ]
  },
  {
   "cell_type": "code",
   "execution_count": 13,
   "metadata": {},
   "outputs": [
    {
     "name": "stdout",
     "output_type": "stream",
     "text": [
      "1\n"
     ]
    }
   ],
   "source": [
    "with open(r\"C://Users/linxu/Downloads/example.txt\", \"r\") as file:\n",
    "    lines = file.readlines()\n",
    "    print(lines.index(\"Antony\\n\"))"
   ]
  },
  {
   "cell_type": "code",
   "execution_count": 15,
   "metadata": {},
   "outputs": [
    {
     "name": "stdout",
     "output_type": "stream",
     "text": [
      "True\n",
      "False\n"
     ]
    }
   ],
   "source": [
    "import os\n",
    "print(os.path.exists(\"C://Users/linxu/Downloads/example.txt\"))\n",
    "print(os.path.exists(\"C://Users/linxu/Downloads/example101.txt\"))"
   ]
  },
  {
   "cell_type": "code",
   "execution_count": 16,
   "metadata": {},
   "outputs": [
    {
     "name": "stdout",
     "output_type": "stream",
     "text": [
      "23\n"
     ]
    }
   ],
   "source": [
    "print(os.path.getsize(\"C://Users/linxu/Downloads/example.txt\"))"
   ]
  },
  {
   "cell_type": "code",
   "execution_count": 17,
   "metadata": {},
   "outputs": [],
   "source": [
    "os.rename(\"C://Users/linxu/Downloads/example.txt\", \"C://Users/linxu/Downloads/example1.txt\")"
   ]
  },
  {
   "cell_type": "code",
   "execution_count": 18,
   "metadata": {},
   "outputs": [
    {
     "name": "stdout",
     "output_type": "stream",
     "text": [
      "C:\\Users\\linxu\\Downloads\\example1.txt\n"
     ]
    }
   ],
   "source": [
    "p = os.path.abspath('example1.txt')\n",
    "print(p)"
   ]
  },
  {
   "cell_type": "code",
   "execution_count": 22,
   "metadata": {},
   "outputs": [],
   "source": [
    "def bSort(array):\n",
    "    length = len(array)\n",
    "    for i in range(length):\n",
    "        for j in range(0, length-i-1):\n",
    "            if array[j] > array[j+1]:\n",
    "                temp = array[j]\n",
    "                array[j] = array[j + 1]\n",
    "                array[j + 1] = temp"
   ]
  },
  {
   "cell_type": "code",
   "execution_count": 23,
   "metadata": {},
   "outputs": [
    {
     "name": "stdout",
     "output_type": "stream",
     "text": [
      "[1, 3, 4, 6]\n"
     ]
    }
   ],
   "source": [
    "a = [3, 1, 6, 4]\n",
    "\n",
    "bSort(a)\n",
    "print(a)"
   ]
  },
  {
   "cell_type": "code",
   "execution_count": 1,
   "metadata": {},
   "outputs": [
    {
     "name": "stdout",
     "output_type": "stream",
     "text": [
      "Fibonacci sequence:\n",
      "0\n",
      "1\n",
      "1\n",
      "2\n",
      "3\n",
      "5\n",
      "8\n",
      "13\n",
      "21\n",
      "34\n"
     ]
    }
   ],
   "source": [
    "def recur_fibo(n):\n",
    "    if n <=1:\n",
    "        return n\n",
    "    else:\n",
    "        return(recur_fibo(n-1) + recur_fibo(n-2))\n",
    "    \n",
    "nterms = 10\n",
    "if nterms <= 0:\n",
    "    print(\"Please enter a positive integer\")\n",
    "else:\n",
    "    print(\"Fibonacci sequence:\")\n",
    "    for i in range(nterms):\n",
    "        print(recur_fibo(i))"
   ]
  },
  {
   "cell_type": "code",
   "execution_count": 2,
   "metadata": {},
   "outputs": [
    {
     "name": "stdout",
     "output_type": "stream",
     "text": [
      "inner: nonlocal\n",
      "outer: nonlocal\n"
     ]
    }
   ],
   "source": [
    "def outer():\n",
    "    x = \"local\"\n",
    "    \n",
    "    def inner():\n",
    "        nonlocal x\n",
    "        x = \"nonlocal\"\n",
    "        print(\"inner:\", x)\n",
    "        \n",
    "    inner()\n",
    "    print(\"outer:\", x)\n",
    "    \n",
    "outer()"
   ]
  },
  {
   "cell_type": "code",
   "execution_count": 3,
   "metadata": {},
   "outputs": [],
   "source": [
    "import re"
   ]
  },
  {
   "cell_type": "code",
   "execution_count": 5,
   "metadata": {},
   "outputs": [
    {
     "name": "stdout",
     "output_type": "stream",
     "text": [
      "abc12\\de23n\\f456\n"
     ]
    }
   ],
   "source": [
    "string = 'abc 12\\ de 23 n\\ f45 6'\n",
    "\n",
    "pattern = '\\s+'\n",
    "replace = ''\n",
    "\n",
    "new_string = re.sub(pattern, replace, string)\n",
    "print(new_string)"
   ]
  },
  {
   "cell_type": "code",
   "execution_count": 2,
   "metadata": {},
   "outputs": [],
   "source": [
    "import configparser"
   ]
  },
  {
   "cell_type": "code",
   "execution_count": 3,
   "metadata": {},
   "outputs": [],
   "source": [
    "def createConfig(path):\n",
    "    \"\"\"\n",
    "    Create a congig file\n",
    "    \"\"\"\n",
    "    config = configparser.ConfigParser()\n",
    "    config.add_section(\"Settings\")\n",
    "    config.set(\"Settings\", \"font\", \"Courier\")\n",
    "    config.set(\"Settings\", \"font_size\", \"10\")\n",
    "    config.set(\"Settings\", \"font_style\", \"Normal\")\n",
    "    config.set(\"Settings\", \"font_info\", \n",
    "               \"You are using %(font)s at %(font_size)s pt\")\n",
    "    \n",
    "    with open(path, \"w\") as config_file:\n",
    "        config.write(config_file)\n",
    "        \n",
    "if __name__ == \"__main__\":\n",
    "    path = \"settings.ini\"\n",
    "    createConfig(path)"
   ]
  },
  {
   "cell_type": "code",
   "execution_count": 4,
   "metadata": {},
   "outputs": [],
   "source": [
    "import subprocess"
   ]
  },
  {
   "cell_type": "code",
   "execution_count": 5,
   "metadata": {},
   "outputs": [
    {
     "data": {
      "text/plain": [
       "0"
      ]
     },
     "execution_count": 5,
     "metadata": {},
     "output_type": "execute_result"
    }
   ],
   "source": [
    "subprocess.call(\"notepad.exe\")"
   ]
  },
  {
   "cell_type": "code",
   "execution_count": 7,
   "metadata": {},
   "outputs": [
    {
     "name": "stdout",
     "output_type": "stream",
     "text": [
      "Success!\n"
     ]
    }
   ],
   "source": [
    "code = subprocess.call(\"notepad.exe\")\n",
    "if code == 0:\n",
    "    print(\"Success!\")\n",
    "else:\n",
    "    print(\"Error!\")"
   ]
  },
  {
   "cell_type": "code",
   "execution_count": 9,
   "metadata": {},
   "outputs": [],
   "source": [
    "import sqlite3"
   ]
  },
  {
   "cell_type": "code",
   "execution_count": 10,
   "metadata": {},
   "outputs": [
    {
     "data": {
      "text/plain": [
       "<sqlite3.Cursor at 0x1b169f46a40>"
      ]
     },
     "execution_count": 10,
     "metadata": {},
     "output_type": "execute_result"
    }
   ],
   "source": [
    "conn = sqlite3.connect(\"mydatabase.db\")\n",
    "cursor = conn.cursor()\n",
    "\n",
    "\n",
    "cursor.execute(\"\"\"CREATE TABLE albums\n",
    "                  (title text, artist text, release_date text,\n",
    "                  publisher text, media_type text)\n",
    "              \"\"\")"
   ]
  },
  {
   "cell_type": "code",
   "execution_count": 11,
   "metadata": {},
   "outputs": [],
   "source": [
    "cursor.execute(\"\"\"INSERT INTO albums\n",
    "                  VALUES ('Glow', 'Amy Hunter', '8/12/2020',\n",
    "                  'Xplore Records', 'MP3')\"\"\"\n",
    "              )\n",
    "\n",
    "conn.commit()\n",
    "\n",
    "albums = [('White Rose', 'Amy Hunter', '6/9/2010', 'Black Records', 'CD'),\n",
    "          ('Champions', 'Red', '2/4/2015', 'Virginia Records', 'CD'),\n",
    "          ('Hurricane', 'Love and Lust', '4/12/2016', 'Barry Music', 'CD'),\n",
    "          ('If we were young', 'Life is good', '4/9/2016', 'CoolMusic Records', 'CD')]\n",
    "\n",
    "cursor.executemany(\"INSERT INTO albums VALUES (?,?,?,?,?)\", albums)\n",
    "conn.commit()"
   ]
  },
  {
   "cell_type": "code",
   "execution_count": 12,
   "metadata": {},
   "outputs": [],
   "source": [
    "import re"
   ]
  },
  {
   "cell_type": "code",
   "execution_count": 13,
   "metadata": {},
   "outputs": [
    {
     "name": "stdout",
     "output_type": "stream",
     "text": [
      "Did not find \"the\"\n",
      "Found \"one\" in \"The ants go matching one by one\"\n",
      "one\n"
     ]
    }
   ],
   "source": [
    "text = \"The ants go matching one by one\"\n",
    "\n",
    "strings = ['the', 'one']\n",
    "\n",
    "for string in strings:\n",
    "    match = re.search(string, text)\n",
    "    if match:\n",
    "        print('Found \"{}\" in \"{}\"'.format(string, text))\n",
    "        text_pos = match.span()\n",
    "        print(text[match.start():match.end()])\n",
    "    else:\n",
    "        print('Did not find \"{}\"'.format(string))"
   ]
  },
  {
   "cell_type": "code",
   "execution_count": 14,
   "metadata": {},
   "outputs": [],
   "source": [
    "from collections import ChainMap"
   ]
  },
  {
   "cell_type": "code",
   "execution_count": 16,
   "metadata": {},
   "outputs": [
    {
     "name": "stdout",
     "output_type": "stream",
     "text": [
      "500\n"
     ]
    }
   ],
   "source": [
    "car_parts = {\n",
    "    'hood': 500,\n",
    "    'engine': 5000,\n",
    "    'front_door': 750\n",
    "}\n",
    "\n",
    "car_options = {\n",
    "    'A/C': 1000,\n",
    "    'Turbo': 2500,\n",
    "    'rollbar': 300\n",
    "}\n",
    "\n",
    "car_accessories = {\n",
    "    'cover': 100,\n",
    "    'hood_ornament': 150,\n",
    "    'seat_cover': 99\n",
    "}\n",
    "\n",
    "car_pricing = ChainMap(car_accessories, car_options, car_parts)\n",
    "\n",
    "print(car_pricing['hood'])"
   ]
  },
  {
   "cell_type": "code",
   "execution_count": 19,
   "metadata": {},
   "outputs": [
    {
     "name": "stdout",
     "output_type": "stream",
     "text": [
      "10\n",
      "11\n",
      "12\n",
      "13\n",
      "14\n",
      "15\n",
      "16\n",
      "17\n",
      "18\n",
      "19\n",
      "20\n"
     ]
    }
   ],
   "source": [
    "from itertools import count\n",
    "\n",
    "for i in count(10):\n",
    "    if i > 20:\n",
    "        break\n",
    "    else:\n",
    "        print(i)"
   ]
  },
  {
   "cell_type": "code",
   "execution_count": 20,
   "metadata": {},
   "outputs": [
    {
     "name": "stdout",
     "output_type": "stream",
     "text": [
      "10\n",
      "11\n",
      "12\n",
      "13\n",
      "14\n"
     ]
    }
   ],
   "source": [
    "from itertools import islice\n",
    "\n",
    "for i in islice(count(10), 5):\n",
    "    print(i)"
   ]
  },
  {
   "cell_type": "code",
   "execution_count": 21,
   "metadata": {},
   "outputs": [
    {
     "name": "stdout",
     "output_type": "stream",
     "text": [
      "X\n",
      "Y\n",
      "Z\n",
      "X\n",
      "Y\n",
      "Z\n",
      "X\n",
      "Y\n"
     ]
    }
   ],
   "source": [
    "from itertools import cycle\n",
    "\n",
    "count = 0\n",
    "for item in cycle('XYZ'):\n",
    "    if count > 7:\n",
    "        break\n",
    "    print(item)\n",
    "    count += 1"
   ]
  },
  {
   "cell_type": "code",
   "execution_count": 22,
   "metadata": {},
   "outputs": [
    {
     "name": "stdout",
     "output_type": "stream",
     "text": [
      "[0, 1, 3, 6, 10, 15, 21, 28, 36, 45]\n"
     ]
    }
   ],
   "source": [
    "from itertools import accumulate\n",
    "\n",
    "result = list(accumulate(range(10)))\n",
    "print(result)"
   ]
  },
  {
   "cell_type": "code",
   "execution_count": 23,
   "metadata": {},
   "outputs": [
    {
     "name": "stdout",
     "output_type": "stream",
     "text": [
      "b'nDWE1bgsM9YssdLIK7Gac-nEmZKsqPrDC93KhIeYRUk='\n"
     ]
    }
   ],
   "source": [
    "from cryptography.fernet import Fernet\n",
    "\n",
    "cipher_key = Fernet.generate_key()\n",
    "print(cipher_key)"
   ]
  },
  {
   "cell_type": "code",
   "execution_count": 27,
   "metadata": {},
   "outputs": [
    {
     "name": "stdout",
     "output_type": "stream",
     "text": [
      "Looking in indexes: https://pypi.tuna.tsinghua.edu.cn/simple\n",
      "Requirement already satisfied: requests in c:\\users\\linxu\\anaconda3\\lib\\site-packages (2.25.1)\n",
      "Requirement already satisfied: idna<3,>=2.5 in c:\\users\\linxu\\anaconda3\\lib\\site-packages (from requests) (2.10)\n",
      "Requirement already satisfied: urllib3<1.27,>=1.21.1 in c:\\users\\linxu\\anaconda3\\lib\\site-packages (from requests) (1.26.2)\n",
      "Requirement already satisfied: chardet<5,>=3.0.2 in c:\\users\\linxu\\anaconda3\\lib\\site-packages (from requests) (4.0.0)\n",
      "Requirement already satisfied: certifi>=2017.4.17 in c:\\users\\linxu\\anaconda3\\lib\\site-packages (from requests) (2020.12.5)\n",
      "Note: you may need to restart the kernel to use updated packages.\n"
     ]
    }
   ],
   "source": [
    "pip install -i https://pypi.tuna.tsinghua.edu.cn/simple requests"
   ]
  },
  {
   "cell_type": "code",
   "execution_count": 28,
   "metadata": {},
   "outputs": [],
   "source": [
    "import requests"
   ]
  },
  {
   "cell_type": "code",
   "execution_count": 30,
   "metadata": {},
   "outputs": [],
   "source": [
    "response = requests.get(\"http://www.baidu.com\")"
   ]
  },
  {
   "cell_type": "code",
   "execution_count": 31,
   "metadata": {},
   "outputs": [
    {
     "name": "stdout",
     "output_type": "stream",
     "text": [
      "Status code:200\n",
      "<!DOCTYPE html>\n",
      "<!--STATUS OK--><html> <head><meta http-equiv=content-type content=text/html;charset=utf-8><meta http-equiv=X-UA-Compatible content=IE=Edge><meta content=always name=referrer><link rel=stylesheet type=text/css href=http://s1.bdstatic.com/r/www/cache/bdorz/baidu.min.css><title>百度一下，你就知道</title></head> <body link=#0000cc> <div id=wrapper> <div id=head> <div class=head_wrapper> <div class=s_form> <div class=s_form_wrapper> <div id=lg> <img hidefocus=true src=//www.baidu.com/img/bd_logo1.png width=270 height=129> </div> <form id=form name=f action=//www.baidu.com/s class=fm> <input type=hidden name=bdorz_come value=1> <input type=hidden name=ie value=utf-8> <input type=hidden name=f value=8> <input type=hidden name=rsv_bp value=1> <input type=hidden name=rsv_idx value=1> <input type=hidden name=tn value=baidu><span class=\"bg s_ipt_wr\"><input id=kw name=wd class=s_ipt value maxlength=255 autocomplete=off autofocus></span><span class=\"bg s_btn_wr\"><input type=submit id=su value=百度一下 class=\"bg s_btn\"></span> </form> </div> </div> <div id=u1> <a href=http://news.baidu.com name=tj_trnews class=mnav>新闻</a> <a href=http://www.hao123.com name=tj_trhao123 class=mnav>hao123</a> <a href=http://map.baidu.com name=tj_trmap class=mnav>地图</a> <a href=http://v.baidu.com name=tj_trvideo class=mnav>视频</a> <a href=http://tieba.baidu.com name=tj_trtieba class=mnav>贴吧</a> <noscript> <a href=http://www.baidu.com/bdorz/login.gif?login&amp;tpl=mn&amp;u=http%3A%2F%2Fwww.baidu.com%2f%3fbdorz_come%3d1 name=tj_login class=lb>登录</a> </noscript> <script>document.write('<a href=\"http://www.baidu.com/bdorz/login.gif?login&tpl=mn&u='+ encodeURIComponent(window.location.href+ (window.location.search === \"\" ? \"?\" : \"&\")+ \"bdorz_come=1\")+ '\" name=\"tj_login\" class=\"lb\">登录</a>');</script> <a href=//www.baidu.com/more/ name=tj_briicon class=bri style=\"display: block;\">更多产品</a> </div> </div> </div> <div id=ftCon> <div id=ftConw> <p id=lh> <a href=http://home.baidu.com>关于百度</a> <a href=http://ir.baidu.com>About Baidu</a> </p> <p id=cp>&copy;2017&nbsp;Baidu&nbsp;<a href=http://www.baidu.com/duty/>使用百度前必读</a>&nbsp; <a href=http://jianyi.baidu.com/ class=cp-feedback>意见反馈</a>&nbsp;京ICP证030173号&nbsp; <img src=//www.baidu.com/img/gs.gif> </p> </div> </div> </div> </body> </html>\n",
      "\n"
     ]
    }
   ],
   "source": [
    "response.encoding = response.apparent_encoding\n",
    "print(\"Status code:\"+str(response.status_code))\n",
    "print(response.text)"
   ]
  },
  {
   "cell_type": "code",
   "execution_count": 32,
   "metadata": {},
   "outputs": [],
   "source": [
    "import requests"
   ]
  },
  {
   "cell_type": "code",
   "execution_count": 33,
   "metadata": {},
   "outputs": [
    {
     "name": "stdout",
     "output_type": "stream",
     "text": [
      "200\n",
      "{\n",
      "  \"args\": {}, \n",
      "  \"data\": \"\", \n",
      "  \"files\": {}, \n",
      "  \"form\": {}, \n",
      "  \"headers\": {\n",
      "    \"Accept\": \"*/*\", \n",
      "    \"Accept-Encoding\": \"gzip, deflate\", \n",
      "    \"Content-Length\": \"0\", \n",
      "    \"Host\": \"httpbin.org\", \n",
      "    \"User-Agent\": \"python-requests/2.25.1\", \n",
      "    \"X-Amzn-Trace-Id\": \"Root=1-6009a7f3-7d271a4777e601ef5b70a2fc\"\n",
      "  }, \n",
      "  \"json\": null, \n",
      "  \"origin\": \"178.218.26.128\", \n",
      "  \"url\": \"http://httpbin.org/post\"\n",
      "}\n",
      "\n"
     ]
    }
   ],
   "source": [
    "response = requests.post(\"http://httpbin.org/post\")\n",
    "print(response.status_code)\n",
    "print(response.text)"
   ]
  },
  {
   "cell_type": "code",
   "execution_count": 35,
   "metadata": {},
   "outputs": [
    {
     "name": "stdout",
     "output_type": "stream",
     "text": [
      "\n",
      "rTypes<class 'requests.models.Response'>\n",
      "\n",
      "TheStatusCodeIs:200\n",
      "\n",
      "Headers:{'Cache-Control': 'private, no-cache, no-store, proxy-revalidate, no-transform', 'Connection': 'keep-alive', 'Content-Encoding': 'gzip', 'Content-Type': 'text/html', 'Date': 'Thu, 21 Jan 2021 16:17:10 GMT', 'Last-Modified': 'Mon, 23 Jan 2017 13:28:11 GMT', 'Pragma': 'no-cache', 'Server': 'bfe/1.0.8.18', 'Set-Cookie': 'BDORZ=27315; max-age=86400; domain=.baidu.com; path=/', 'Transfer-Encoding': 'chunked'}\n",
      "\n",
      "ResponseContent\n",
      "<!DOCTYPE html>\n",
      "<!--STATUS OK--><html> <head><meta http-equiv=content-type content=text/html;charset=utf-8><meta http-equiv=X-UA-Compatible content=IE=Edge><meta content=always name=referrer><link rel=stylesheet type=text/css href=http://s1.bdstatic.com/r/www/cache/bdorz/baidu.min.css><title>百度一下，你就知道</title></head> <body link=#0000cc> <div id=wrapper> <div id=head> <div class=head_wrapper> <div class=s_form> <div class=s_form_wrapper> <div id=lg> <img hidefocus=true src=//www.baidu.com/img/bd_logo1.png width=270 height=129> </div> <form id=form name=f action=//www.baidu.com/s class=fm> <input type=hidden name=bdorz_come value=1> <input type=hidden name=ie value=utf-8> <input type=hidden name=f value=8> <input type=hidden name=rsv_bp value=1> <input type=hidden name=rsv_idx value=1> <input type=hidden name=tn value=baidu><span class=\"bg s_ipt_wr\"><input id=kw name=wd class=s_ipt value maxlength=255 autocomplete=off autofocus></span><span class=\"bg s_btn_wr\"><input type=submit id=su value=百度一下 class=\"bg s_btn\"></span> </form> </div> </div> <div id=u1> <a href=http://news.baidu.com name=tj_trnews class=mnav>新闻</a> <a href=http://www.hao123.com name=tj_trhao123 class=mnav>hao123</a> <a href=http://map.baidu.com name=tj_trmap class=mnav>地图</a> <a href=http://v.baidu.com name=tj_trvideo class=mnav>视频</a> <a href=http://tieba.baidu.com name=tj_trtieba class=mnav>贴吧</a> <noscript> <a href=http://www.baidu.com/bdorz/login.gif?login&amp;tpl=mn&amp;u=http%3A%2F%2Fwww.baidu.com%2f%3fbdorz_come%3d1 name=tj_login class=lb>登录</a> </noscript> <script>document.write('<a href=\"http://www.baidu.com/bdorz/login.gif?login&tpl=mn&u='+ encodeURIComponent(window.location.href+ (window.location.search === \"\" ? \"?\" : \"&\")+ \"bdorz_come=1\")+ '\" name=\"tj_login\" class=\"lb\">登录</a>');</script> <a href=//www.baidu.com/more/ name=tj_briicon class=bri style=\"display: block;\">更多产品</a> </div> </div> </div> <div id=ftCon> <div id=ftConw> <p id=lh> <a href=http://home.baidu.com>关于百度</a> <a href=http://ir.baidu.com>About Baidu</a> </p> <p id=cp>&copy;2017&nbsp;Baidu&nbsp;<a href=http://www.baidu.com/duty/>使用百度前必读</a>&nbsp; <a href=http://jianyi.baidu.com/ class=cp-feedback>意见反馈</a>&nbsp;京ICP证030173号&nbsp; <img src=//www.baidu.com/img/gs.gif> </p> </div> </div> </div> </body> </html>\n",
      "\n"
     ]
    }
   ],
   "source": [
    "import requests\n",
    "\n",
    "url = \"http://www.baidu.com\"\n",
    "\n",
    "response = requests.get(url)\n",
    "\n",
    "response.encoding = \"utf8\"\n",
    "\n",
    "print(\"\\nrTypes\"+str(type(response)))\n",
    "print(\"\\nTheStatusCodeIs:\"+str(response.status_code))\n",
    "print(\"\\nHeaders:\"+str(response.headers))\n",
    "print(\"\\nResponseContent\")\n",
    "print(response.text)"
   ]
  },
  {
   "cell_type": "code",
   "execution_count": 42,
   "metadata": {},
   "outputs": [],
   "source": [
    "class Bilibili_For_PC():\n",
    "    def __init__(self, **kwargs):\n",
    "        for key, value in kwargs.items():setattr(self, key, value)\n",
    "        self.session = requests.Session()\n",
    "        self.__initialize()\n",
    "        \n",
    "        def login(self, username, password, crack_captcha_func=None, *kwargs):\n",
    "            self.session.proxies.update(kwargs.get('proxies', {}))\n",
    "            is_need_captcha = False\n",
    "            while True:\n",
    "                if is_need_captcha:\n",
    "                    captcha_img = self.session.get(self.captcha_url, headers=self.captcha_headers).content\n",
    "                    data = {'image': base64.b64encode(captcha_img).decode('utf-8')}\n",
    "                    captcha = self.session.post(self.crack_captcha_url, json=data).json()['message']\n",
    "                    \n",
    "                appkey = '1d8b6e7d45233436'\n",
    "                data = {\n",
    "                    'appkey': appkey,\n",
    "                    'sign': self._calcSign('appkey={}'.format(appkey))\n",
    "                }\n",
    "                response = self.session.post(self, getkey_url, data=data)\n",
    "                response_json = response.json()\n",
    "                key_hach = response_json['data']['hash']\n",
    "                pub_key = rsa.PublicKey.load_pcks1_openssl_pem(response_json['data']['key'].encode('utf-8'))\n",
    "                \n",
    "                if is_need_captcha:\n",
    "                    data = \"access_key=&actionKey=appkey&appkey={}&build=6040500&captcha={}&challenge=&channel=bili&cookies=&device=pc&password={}&permission=ALL&seccode=&subid=1&ts={}&username={}&validate=\"\\\n",
    "                      .format(appkey, captcha, urllib.parse.quote_plus(base64.b64encode(rsa.encrypt('{}{}'.format(key_hash, password).encode(), pub_key))), int(time.time()), urllib.parse.quote_plus(username))\n",
    "                else:\n",
    "                    data = \"access_key=&actionKey=appkey&appkey={}&build=6040500&captcha=&challenge=&channel=bili&ciikies=&device=pc&password={}&permission=ALL&seccode=&subid=1&ts={}&username={}&validate=\"\\\n",
    "                      .format(appkey, urllib.parse.quote_plus(base64.b64encode(rsa.encrypt('{}{}'.format(key_hash, password).encide(), pib_key))), int(time.time()), urllib.oarse.quote_plus(username))\n",
    "                data = \"{}&sign={}\".format(data, self.__calcSign(data))\n",
    "                response = self.session.post(self.login_url, data=data, headers=self.login_headers)\n",
    "                response_json = response.json()\n",
    "                if response_json['code'] == 0 and response_json['data']['status'] == 0:\n",
    "                    for cookie in response_json['data']['cookie_info']['cookies']:\n",
    "                        self.session.cookies.set(cookie['name'], cookie['value'], domain='.bilibili')\n",
    "                    print('[INFO]: Account -> %s, login successfully' % username)\n",
    "                    infos_return = {'username': username}\n",
    "                    infos_return.update(response.json)\n",
    "                    return infos_return, self.session\n",
    "                elif response_json['code'] == -105:\n",
    "                    is_need_captcha = True\n",
    "                elif response_json['code'] == -629:\n",
    "                    raise RuntimeError('Account -> %s, fail to login, username or password error' % username)\n",
    "                else:\n",
    "                    raise RuntimeError(response_json.gett('message'))\n",
    "                    \n",
    "                def __calcSign(self, param, salt=\"560c52ccd288fed045859ed18bffd973\"):\n",
    "                    sign = hashlib.md5('{}{}'.format(param, salt).encode('utf-8'))\n",
    "                    return sign.hexdigest()\n",
    "                \n",
    "                def __initialize(self):\n",
    "                    self.login_headers = {'Content-type': 'application/x-www-form-urlencoded'}\n",
    "                    self.captcha_headers = {'Host': 'passport.bilibili.com'}\n",
    "                    self.getkey_url = 'https://passport.bilibili.com/api/oauth2/getKey'\n",
    "                    self.login_url = 'https://passport.bilibili.com/captcha'\n",
    "                    self.crack_captcha_url = 'https://bili.dev:2233/captcha'\n",
    "                    "
   ]
  },
  {
   "cell_type": "code",
   "execution_count": 4,
   "metadata": {},
   "outputs": [],
   "source": [
    "import requests\n",
    "from lxml import etree\n",
    "import time\n",
    "import csv\n",
    "from bs4 import BeautifulSoup\n",
    "\n",
    "url = 'https://movie.douban.com/top250'"
   ]
  },
  {
   "cell_type": "code",
   "execution_count": 5,
   "metadata": {},
   "outputs": [],
   "source": [
    "headers = {'User-Agent': 'Mozilla/5.0(Windows NT 6.1; Win64; x64)'\n",
    "                         'AppleWebKit/537.36(KHTML, like Gecko)' \n",
    "                          'Chrome/73.0.3683.103 Safari/537.36',\n",
    "          'Host': 'movie.douban.com'} "
   ]
  },
  {
   "cell_type": "code",
   "execution_count": 6,
   "metadata": {},
   "outputs": [],
   "source": [
    "r = requests.get(url, headers=headers)\n",
    "\n",
    "soup = BeautifulSoup(r.text, \"html.parser\")\n",
    "\n",
    "movie_list = []"
   ]
  },
  {
   "cell_type": "code",
   "execution_count": 7,
   "metadata": {},
   "outputs": [
    {
     "name": "stdout",
     "output_type": "stream",
     "text": [
      "肖申克的救赎\n",
      "霸王别姬\n",
      "阿甘正传\n",
      "这个杀手不太冷\n",
      "泰坦尼克号\n",
      "美丽人生\n",
      "千与千寻\n",
      "辛德勒的名单\n",
      "盗梦空间\n",
      "忠犬八公的故事\n",
      "星际穿越\n",
      "海上钢琴师\n",
      "楚门的世界\n",
      "三傻大闹宝莱坞\n",
      "机器人总动员\n",
      "放牛班的春天\n",
      "大话西游之大圣娶亲\n",
      "疯狂动物城\n",
      "熔炉\n",
      "无间道\n",
      "教父\n",
      "当幸福来敲门\n",
      "龙猫\n",
      "怦然心动\n",
      "触不可及\n"
     ]
    }
   ],
   "source": [
    "m_list = soup.findAll(\"div\", {'class': 'hd'})\n",
    "\n",
    "for m in m_list:\n",
    "    movie = m.a.span.text\n",
    "    \n",
    "    movie_list.append(movie)\n",
    "    \n",
    "for i in movie_list:\n",
    "    print(i)"
   ]
  },
  {
   "cell_type": "code",
   "execution_count": 8,
   "metadata": {},
   "outputs": [
    {
     "name": "stdout",
     "output_type": "stream",
     "text": [
      "1*1=1 \n",
      "1*2=2 \n",
      "1*3=3 \n",
      "1*4=4 \n",
      "1*5=5 \n",
      "1*6=6 \n",
      "1*7=7 \n",
      "1*8=8 \n",
      "1*9=9 \n"
     ]
    }
   ],
   "source": [
    "print('\\n'.join([''.join(['%s*%s=%-2s' % (y, x, x*y) for y in range(1, 1+1)]) for x in range(1, 10)]))"
   ]
  },
  {
   "cell_type": "code",
   "execution_count": null,
   "metadata": {},
   "outputs": [],
   "source": []
  }
 ],
 "metadata": {
  "kernelspec": {
   "display_name": "Python 3",
   "language": "python",
   "name": "python3"
  },
  "language_info": {
   "codemirror_mode": {
    "name": "ipython",
    "version": 3
   },
   "file_extension": ".py",
   "mimetype": "text/x-python",
   "name": "python",
   "nbconvert_exporter": "python",
   "pygments_lexer": "ipython3",
   "version": "3.8.5"
  }
 },
 "nbformat": 4,
 "nbformat_minor": 4
}
