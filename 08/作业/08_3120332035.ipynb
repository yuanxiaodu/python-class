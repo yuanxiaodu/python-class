{
 "cells": [
  {
   "cell_type": "markdown",
   "metadata": {},
   "source": [
    "西安市气象数据爬取与分析-8组-禹诗雨"
   ]
  },
  {
   "cell_type": "markdown",
   "metadata": {},
   "source": [
    "一、数据爬取+存储"
   ]
  },
  {
   "cell_type": "code",
   "execution_count": 1,
   "metadata": {},
   "outputs": [],
   "source": [
    "import requests\n",
    "from bs4 import BeautifulSoup\n",
    "import csv\n",
    "import json"
   ]
  },
  {
   "cell_type": "code",
   "execution_count": 2,
   "metadata": {},
   "outputs": [],
   "source": [
    "def getHTMLtext(url):\n",
    "    try:\n",
    "        r = requests.get(url, timeout=30)\n",
    "        r.raise_for_status()\n",
    "        r.encoding = r.apparent_encoding\n",
    "        print(\"成功访问\")\n",
    "        return r.text\n",
    "    except:\n",
    "        print(\"访问错误\")\n",
    "        return \" \"\n",
    "\n",
    "\n",
    "def get_content(html):\n",
    "    final = []\n",
    "    bs = BeautifulSoup(html, \"html.parser\")\n",
    "    body = bs.body\n",
    "    data = body.find('div', {'id': '7d'})\n",
    "    # 下面爬取当天的数据\n",
    "    data2 = body.find_all('div', {'class': 'left-div'})\n",
    "    text = data2[2].find('script').string\n",
    "    text = text[text.index('=') + 1:-2]\n",
    "    jd = json.loads(text)\n",
    "    dayone = jd['od']['od2']\n",
    "    final_day = []\n",
    "    count = 0\n",
    "    for i in dayone:\n",
    "        temp = []\n",
    "        if count <= 23:\n",
    "            temp.append(i['od21'])  # 添加时间\n",
    "            temp.append(i['od22'])  # 添加当前时刻温度\n",
    "            temp.append(i['od24'])  # 添加当前时刻风力方向\n",
    "            temp.append(i['od25'])  # 添加当前时刻风级\n",
    "            temp.append(i['od26'])  # 添加当前时刻降水量\n",
    "            temp.append(i['od27'])  # 添加当前时刻相对湿度\n",
    "            temp.append(i['od28'])  # 添加当前时刻控制质量\n",
    "            # print(temp)\n",
    "            final_day.append(temp)\n",
    "        count = count + 1\n",
    "    # 下面爬取7天的数据\n",
    "    ul = data.find('ul')\n",
    "    li = ul.find_all('li')\n",
    "    i = 0\n",
    "    for day in li:\n",
    "        if i < 7 and i > 0:\n",
    "            temp = []\n",
    "            date = day.find('h1').string\n",
    "            date = date[0:date.index('日')]\n",
    "            temp.append(date)\n",
    "            inf = day.find_all('p')\n",
    "            temp.append(inf[0].string)\n",
    "\n",
    "            tem_low = inf[1].find('i').string\n",
    "\n",
    "            if inf[1].find('span') is None:\n",
    "                tem_high = None\n",
    "            else:\n",
    "                tem_high = inf[1].find('span').string\n",
    "            temp.append(tem_low[:-1])\n",
    "            if tem_high[-1] == '℃':\n",
    "                temp.append(tem_high[:-1])\n",
    "            else:\n",
    "                temp.append(tem_high)\n",
    "\n",
    "            wind = inf[2].find_all('span')\n",
    "            for j in wind:\n",
    "                temp.append(j['title'])\n",
    "\n",
    "            wind_scale = inf[2].find('i').string\n",
    "            index1 = wind_scale.index('级')\n",
    "            temp.append(int(wind_scale[index1 - 1:index1]))\n",
    "            final.append(temp)\n",
    "        i = i + 1\n",
    "    return final_day, final\n",
    "\n",
    "# print(final)\n",
    "def get_content2(html):\n",
    "    final = []\n",
    "    bs = BeautifulSoup(html, \"html.parser\")\n",
    "    body = bs.body\n",
    "    data = body.find('div', {'id': '15d'})\n",
    "    ul = data.find('ul')\n",
    "    li = ul.find_all('li')\n",
    "    final = []\n",
    "    i = 0\n",
    "    for day in li:\n",
    "        if i < 8:\n",
    "            temp = []\n",
    "            date = day.find('span', {'class': 'time'}).string\n",
    "            date = date[date.index('（') + 1:-2]\n",
    "            temp.append(date)\n",
    "            weather = day.find('span', {'class': 'wea'}).string\n",
    "            temp.append(weather)\n",
    "            tem = day.find('span', {'class': 'tem'}).text\n",
    "            temp.append(tem[tem.index('/') + 1:-1])\n",
    "            temp.append(tem[:tem.index('/') - 1])\n",
    "            wind = day.find('span', {'class': 'wind'}).string\n",
    "            if '转' in wind:\n",
    "                temp.append(wind[:wind.index('转')])\n",
    "                temp.append(wind[wind.index('转') + 1:])\n",
    "            else:\n",
    "                temp.append(wind)\n",
    "                temp.append(wind)\n",
    "            wind_scale = day.find('span', {'class': 'wind1'}).string\n",
    "            index1 = wind_scale.index('级')\n",
    "            temp.append(int(wind_scale[index1 - 1:index1]))\n",
    "\n",
    "            final.append(temp)\n",
    "    return final\n",
    "\n",
    "\n",
    "def write_to_csv(file_name, data, day=14):\n",
    "    with open(file_name, 'a', errors='ignore', newline='') as f:\n",
    "        if day == 14:\n",
    "            header = ['日期', '天气', '最低气温', '最高气温', '风向1', '风向2', '风级']\n",
    "        else:\n",
    "            header = ['小时', '温度', '风力方向', '风级', '降水量', '相对湿度', '空气质量']\n",
    "        f_csv = csv.writer(f)\n",
    "        f_csv.writerow(header)\n",
    "        f_csv.writerows(data)\n",
    "\n",
    "\n",
    "def main():\n",
    "    \"\"\"主函数\"\"\"\n",
    "    print(\"Weather test\")\n",
    "    #西安市\n",
    "    url1 = 'http://www.weather.com.cn/weather/101110101.shtml'\n",
    "    url2 = 'http://www.weather.com.cn/weather15d/101110101.shtml'\n",
    "\n",
    "    html1 = getHTMLtext(url1)\n",
    "    data1, data1_7 = get_content(html1)\n",
    "\n",
    "    html2 = getHTMLtext(url2)\n",
    "    data8_14 = get_content2(html2)\n",
    "    data14 = data1_7 + data8_14\n",
    "    # print(data)\n",
    "    write_to_csv('./data/weather14.csv', data14, 14)\n",
    "    write_to_csv('./data/weather1.csv', data1, 1)"
   ]
  },
  {
   "cell_type": "code",
   "execution_count": 3,
   "metadata": {},
   "outputs": [
    {
     "name": "stdout",
     "output_type": "stream",
     "text": [
      "Weather test\n",
      "成功访问\n",
      "成功访问\n"
     ]
    }
   ],
   "source": [
    "if __name__ == '__main__':\n",
    "    main()"
   ]
  },
  {
   "cell_type": "markdown",
   "metadata": {},
   "source": [
    "二、可视化分析"
   ]
  },
  {
   "cell_type": "code",
   "execution_count": 4,
   "metadata": {},
   "outputs": [],
   "source": [
    "import numpy as np\n",
    "import pandas as pd\n",
    "\n",
    "import matplotlib as mpl\n",
    "import matplotlib.pyplot as plt\n",
    "import matplotlib.cm as cm\n",
    "\n",
    "%matplotlib inline"
   ]
  },
  {
   "cell_type": "code",
   "execution_count": 5,
   "metadata": {},
   "outputs": [
    {
     "data": {
      "image/png": "[encoded data removed]",
      "text/plain": [
       "<Figure size 432x302.4 with 1 Axes>"
      ]
     },
     "metadata": {
      "needs_background": "light"
     },
     "output_type": "display_data"
    }
   ],
   "source": [
    "# 高低温变化图\n",
    "\n",
    "data = pd.read_csv('data/weather14.csv', encoding='gb2312')\n",
    "\n",
    "record_min = data['最低气温'].to_numpy()\n",
    "record_max = data['最高气温'].to_numpy()\n",
    "\n",
    "plt.figure(figsize=(6, 4.2))\n",
    "plt.plot(np.arange(len(record_max)) + 1,record_max, '--k', color=\"red\", label=\"the maximum temperature\")\n",
    "plt.plot(np.arange(len(record_max)) + 1,record_min, '--k', color=\"blue\", label=\"the minimum temperature\")\n",
    "\n",
    "plt.xlim(1, 14)\n",
    "plt.xticks(list(range(1, 15)))\n",
    "plt.ylim(-5, 25)\n",
    "plt.xlabel('day', size=14)\n",
    "plt.ylabel('temperature($^\\circ C$ )',size=14)\n",
    "\n",
    "plt.title('Temperature changes in Xi\\'an in 14 days',size=14)\n",
    "plt.legend(loc=4)\n",
    "\n",
    "plt.show()"
   ]
  },
  {
   "cell_type": "code",
   "execution_count": 7,
   "metadata": {},
   "outputs": [],
   "source": [
    "data = pd.read_csv('data/weather1.csv', encoding='gb2312')"
   ]
  },
  {
   "cell_type": "code",
   "execution_count": 8,
   "metadata": {},
   "outputs": [
    {
     "data": {
      "image/png": "[encoded data removed]",
      "text/plain": [
       "<Figure size 432x302.4 with 1 Axes>"
      ]
     },
     "metadata": {
      "needs_background": "light"
     },
     "output_type": "display_data"
    }
   ],
   "source": [
    "# 温度\n",
    "\n",
    "temp = data['温度'].to_numpy()\n",
    "\n",
    "plt.figure(figsize=(6, 4.2))\n",
    "plt.plot(np.arange(len(temp)), temp, '--k', label=\"temperature\")\n",
    "\n",
    "plt.xlim(0, 23)\n",
    "plt.xticks(list(range(0, 24)))\n",
    "plt.ylim(0, 10)\n",
    "plt.xlabel('hour', size=14)\n",
    "plt.ylabel('temperature($^\\circ C$ )', size=14)\n",
    "\n",
    "plt.title('24-hour temperature changes in Xi\\'an',size=14)\n",
    "plt.legend(loc=4)\n",
    "\n",
    "plt.show()"
   ]
  },
  {
   "cell_type": "code",
   "execution_count": 10,
   "metadata": {},
   "outputs": [
    {
     "data": {
      "image/png": "[encoded data removed]",
      "text/plain": [
       "<Figure size 432x302.4 with 1 Axes>"
      ]
     },
     "metadata": {
      "needs_background": "light"
     },
     "output_type": "display_data"
    }
   ],
   "source": [
    "# 空气质量指数\n",
    "\n",
    "hum = data['空气质量'].to_numpy()\n",
    "\n",
    "plt.figure(figsize=(6, 4.2))\n",
    "plt.bar(np.arange(len(hum)), hum, label=\"air quality\")\n",
    "\n",
    "plt.xlim(0, 23)\n",
    "plt.xticks(list(range(0, 24)))\n",
    "plt.xlabel('hour', size=14)\n",
    "plt.ylabel('air quality', size=14)\n",
    "\n",
    "plt.title('24-hour air quality changes in Xi\\'an',size=14)\n",
    "plt.legend(loc=0)\n",
    "\n",
    "plt.show()"
   ]
  },
  {
   "cell_type": "code",
   "execution_count": null,
   "metadata": {},
   "outputs": [],
   "source": []
  }
 ],
 "metadata": {
  "kernelspec": {
   "display_name": "Python 3",
   "language": "python",
   "name": "python3"
  },
  "language_info": {
   "codemirror_mode": {
    "name": "ipython",
    "version": 3
   },
   "file_extension": ".py",
   "mimetype": "text/x-python",
   "name": "python",
   "nbconvert_exporter": "python",
   "pygments_lexer": "ipython3",
   "version": "3.8.3"
  }
 },
 "nbformat": 4,
 "nbformat_minor": 4
}
