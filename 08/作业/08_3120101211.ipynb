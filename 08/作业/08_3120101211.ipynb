{
 "cells": [
  {
   "cell_type": "markdown",
   "metadata": {},
   "source": [
    "# 爬取豆瓣影评网站\n",
    "## 关于电影《神奇女侠1984》的相关评论 分析该电影热度与质量"
   ]
  },
  {
   "cell_type": "markdown",
   "metadata": {},
   "source": [
    "![神奇女侠1984](1.png)"
   ]
  },
  {
   "cell_type": "markdown",
   "metadata": {},
   "source": [
    "### 用自动化工具selenium进行爬取网页信息\n",
    "### 利用selenium的定位工具定位网页信息的位置，8种定位方式如下"
   ]
  },
  {
   "cell_type": "code",
   "execution_count": 1,
   "metadata": {},
   "outputs": [],
   "source": [
    "from selenium import webdriver\n",
    "# driver=webdriver.chrome() ##chrom浏览器 可以换Firefox Edge ...\n",
    "# find_element_by_id()    ##8种定位方式\n",
    "# find_element_by_name()\n",
    "# find_element_by_class_name()\n",
    "# find_element_by_tag_name()\n",
    "# find_element_by_link_text()\n",
    "# find_element_by_partial_link_text()\n",
    "# find_element_by_xpath()\n",
    "# find_element_by_css_selector()"
   ]
  },
  {
   "cell_type": "markdown",
   "metadata": {},
   "source": [
    "## (1)通过chromedriver打开chrome浏览器并进入哔哩哔哩的官方网站"
   ]
  },
  {
   "cell_type": "code",
   "execution_count": 8,
   "metadata": {},
   "outputs": [],
   "source": [
    "import selenium.webdriver as webdriver\n",
    "import time\n",
    "import subprocess\n",
    "if __name__==\"__main__\":\n",
    "    display=True ##是否显示\n",
    "    option = webdriver.ChromeOptions() ##浏览器的启动选项\n",
    "    ##添加浏览器的安装路径\n",
    "    option.binary_location = r'C:\\Program Files (x86)\\Google\\Chrome\\Application\\chrome.exe'\n",
    "    ##设置成有浏览器界面的模式，目前没针对无头浏览器开发，display改成true会报错\n",
    "    if not display:\n",
    "        option.set_headless() ## 若无界面采用无界面运行\n",
    "        pass\n",
    "    driver=webdriver.Chrome(r'C:\\Users\\zhoum\\Desktop\\python_share\\chromedriver.exe',options=option)\n",
    "    ##设置窗口尺寸 或者driver.set_window_size()\n",
    "    driver.set_window_rect(width=1366, height=768)\n",
    "    ##操作的网站\n",
    "    target_url=r'https://movie.douban.com/'##豆瓣\n",
    "    driver.get(target_url)\n",
    "    \n",
    "    time.sleep(2) ##等待2s 等页面加载wanbi"
   ]
  },
  {
   "cell_type": "markdown",
   "metadata": {},
   "source": [
    "### 网页效果如下图所示\n",
    "![豆瓣](2.png)"
   ]
  },
  {
   "cell_type": "markdown",
   "metadata": {},
   "source": [
    "## (2)进行用户登入及定位到《神奇女侠》的评论界面\n"
   ]
  },
  {
   "cell_type": "code",
   "execution_count": null,
   "metadata": {},
   "outputs": [],
   "source": [
    "'''## 登入selector-Xpath 点击\n",
    "#internationalHeader > div.mini-header.m-header > div > div.nav-user-center > div.user-con.logout > div:nth-child(1) > div > span > div > span\n",
    "//*[@id=\"internationalHeader\"]/div[1]/div/div[3]/div[2]/div[1]/div/span/div/span\n",
    "## 用户\n",
    "#login-username\n",
    "//*[@id=\"login-username\"]\n",
    "## 密码\n",
    "#login-passwd\n",
    "//*[@id=\"login-passwd\"]\n",
    "## 点击登入\n",
    "#geetest-wrap > div > div.btn-box > a.btn.btn-login\n",
    "//*[@id=\"geetest-wrap\"]/div/div[5]/a[1]\n",
    "## 点击搜索\n",
    "#internationalHeader > div.mini-header.m-header > div > div.nav-user-center > div.user-con.search-icon > a > i\n",
    "//*[@id=\"internationalHeader\"]/div[1]/div/div[3]/div[1]/a/i\n",
    "## 输入风灵玉秀\n",
    "#search-keyword\n",
    "//*[@id=\"search-keyword\"]\n",
    "## 点击搜索\n",
    "#server-search-app > div > div.head-contain > div.search-wrap > div > div > div > div.search-button\n",
    "//*[@id=\"server-search-app\"]/div/div[1]/div[1]/div/div/div/div[2]\n",
    "## 点击\n",
    "#all-list > div.flow-loader > div.mixin-list > ul.bangumi-list > li > div > div > div.headline > a > em\n",
    "//*[@id=\"all-list\"]/div[1]/div[2]/ul[1]/li/div/div/div[1]/a/em\n",
    "## 点击评论按时间排序\n",
    "#comment_module > div.comm > div > div.comment-header.clearfix > div.tabs-order > ul > li.new-sort\n",
    "//*[@id=\"comment_module\"]/div[2]/div/div[2]/div[1]/ul/li[3]\n",
    "//*[@id=\"comment_module\"]/div[2]/div/div[2]/div[1]/ul/li[3]\n",
    "'''"
   ]
  },
  {
   "cell_type": "code",
   "execution_count": null,
   "metadata": {},
   "outputs": [],
   "source": [
    "'''login_btn1:webdriver.remote.webdriver.WebElement = driver.find_element_by_xpath('//*[@id=\"internationalHeader\"]/div[1]/div/div[3]/div[2]/div[1]/div/span/div/span').click()\n",
    "time.sleep(1)\n",
    "# username:webdriver.remote.webdriver.WebElement = driver.find_element_by_xpath('//*[@id=\"login-username\"]').send_keys('15659734196')\n",
    "# password:webdriver.remote.webdriver.WebElement = driver.find_element_by_xpath('//*[@id=\"login-passwd\"]').send_keys('13159434110')\n",
    "# login_btn2:webdriver.remote.webdriver.WebElement = driver.find_element_by_xpath('//*[@id=\"geetest-wrap\"]/div/div[5]/a[1]').click()\n",
    "# time.sleep(12)\n",
    "# search_btn0:webdriver.remote.webdriver.WebElement = driver.find_element_by_xpath('//*[@id=\"internationalHeader\"]/div[1]/div/div[3]/div[1]/a/i').click()\n",
    "# time.slepp(1)\n",
    "searchname:webdriver.remote.webdriver.WebElement = driver.find_element_by_css_selector('#nav_searchform > input').send_keys('风灵玉秀')\n",
    "search_btn:webdriver.remote.webdriver.WebElement = driver.find_element_by_xpath('//*[@id=\"nav_searchform\"]/div/button').click()\n",
    "time.sleep(3)\n",
    "name_btn:webdriver.remote.webdriver.WebElement = driver.find_element_by_xpath('//*[@id=\"pgc-navigate-wrap\"]/ul/li[1]/a/div').click()\n",
    "time.sleep(1)\n",
    "time_btn:webdriver.remote.webdriver.WebElement = driver.find_element_by_xpath('//*[@id=\"comment_module\"]/div[2]/div/div[2]/div[1]/ul/li[3]').click()'''"
   ]
  },
  {
   "cell_type": "code",
   "execution_count": 9,
   "metadata": {},
   "outputs": [],
   "source": [
    "login_btn1:webdriver.remote.webdriver.WebElement=driver.find_element_by_css_selector('#db-global-nav > div > div.top-nav-info > a').click()\n",
    "time.sleep(0.5)\n",
    "pwd_btn:webdriver.remote.webdriver.WebElement=driver.find_element_by_css_selector('#account > div.login-wrap > div.login-right > div > div.account-body-tabs > ul.tab-start > li.account-tab-account').click()\n",
    "time.sleep(0.5)\n",
    "userName: webdriver.remote.webdriver.WebElement = driver.find_element_by_css_selector('#username').send_keys('15659734196')\n",
    "passWord: webdriver.remote.webdriver.WebElement = driver.find_element_by_css_selector('#password').send_keys('13159434110zmh')\n",
    "login_btn2: webdriver.remote.webdriver.WebElement = driver.find_element_by_css_selector('#account > div.login-wrap > div.login-right > div > div.account-tabcon-start > div.account-form > div.account-form-field-submit > a').click()\n",
    "time.sleep(10)\n",
    "search_name: webdriver.remote.webdriver.WebElement = driver.find_element_by_xpath('//*[@id=\"inp-query\"]').send_keys('神奇女侠1984')\n",
    "search_btn: webdriver.remote.webdriver.WebElement = driver.find_element_by_css_selector('#db-nav-movie > div.nav-wrap > div > div.nav-search > form > fieldset > div.inp-btn > input[type=submit]').click()\n",
    "time.sleep(1)\n",
    "#    film_btn:webdriver.remote.webdriver.WebElement = driver.find_element_by_css_selector('#root > div > div._2w044wi2u > div._gd58w1w2x > div:nth-child(1) > div:nth-child(1) > div > div > div.title > a').click()\n",
    "film_btn:webdriver.remote.webdriver.WebElement = driver.find_element_by_xpath('//*[@id=\"root\"]/div/div[2]/div[1]/div[1]/div[1]/div/div/div[1]/a').click()\n",
    "time.sleep(1)\n",
    "comments_btn:webdriver.remote.webdriver.WebElement = driver.find_element_by_xpath('//*[@id=\"comments-section\"]/div[1]/h2/span/a').click()\n",
    "time.sleep(2)"
   ]
  },
  {
   "cell_type": "markdown",
   "metadata": {},
   "source": [
    "## 打开第一集的评论按时间排序下图所示"
   ]
  },
  {
   "cell_type": "markdown",
   "metadata": {},
   "source": [
    "![评论](3.png)"
   ]
  },
  {
   "cell_type": "markdown",
   "metadata": {},
   "source": [
    "## (3)对评论进行抓取"
   ]
  },
  {
   "cell_type": "code",
   "execution_count": null,
   "metadata": {},
   "outputs": [],
   "source": [
    "j=1\n",
    "name=[]\n",
    "content=[]\n",
    "useful=[]\n",
    "date=[]\n",
    "df = pd.DataFrame()\n",
    "for i in range(1,3):\n",
    "    for j in range(1,21):\n",
    "        uesr_name:webdriver.remote.webdriver.WebElement = driver.find_element_by_xpath('//*[@id=\"comments\"]/div['+str(j)+']/div[2]/h3/span[2]/a')\n",
    "        support_cell:webdriver.remote.webdriver.WebElement = driver.find_element_by_xpath('//*[@id=\"comments\"]/div['+str(j)+']/div[2]/h3/span[1]/span')\n",
    "        content_cell:webdriver.remote.webdriver.WebElement = driver.find_element_by_xpath('//*[@id=\"comments\"]/div['+str(j)+']/div[2]/p/span')\n",
    "        print('用户名:',uesr_name.text)\n",
    "        print('  ',content_cell.text)\n",
    "        print('support:',support_cell.text)\n",
    "        print('---------------------------------')\n",
    "    time.sleep(10)\n",
    "    if i==1:\n",
    "        next_cell:webdriver.remote.webdriver.WebElement = driver.find_element_by_xpath('//*[@id=\"paginator\"]/a').click()\n",
    "    else:\n",
    "        next_cell:webdriver.remote.webdriver.WebElement = driver.find_element_by_xpath('//*[@id=\"paginator\"]/a[3]').click()\n",
    "    time.sleep(2)\n",
    "    continue\n",
    "df['用户名']=name\n",
    "df['点赞']=useful\n",
    "df['评论']=content\n",
    "df.to_excel('神奇女侠.xlsx')"
   ]
  },
  {
   "cell_type": "markdown",
   "metadata": {},
   "source": [
    "![抓取评论](4.png)"
   ]
  },
  {
   "cell_type": "markdown",
   "metadata": {},
   "source": [
    "## (4)将抓取的评论通过pandas储存为表格"
   ]
  },
  {
   "cell_type": "code",
   "execution_count": null,
   "metadata": {},
   "outputs": [],
   "source": [
    "import pandas as pd\n",
    "filmcomment = pd.read_excel('神奇女侠.xlsx')\n",
    "filmcomment"
   ]
  },
  {
   "cell_type": "markdown",
   "metadata": {},
   "source": [
    "![表格](7.png)"
   ]
  },
  {
   "cell_type": "markdown",
   "metadata": {},
   "source": [
    "## (5)通过SnowNLP对影评进行分词及情感分析"
   ]
  },
  {
   "cell_type": "code",
   "execution_count": 25,
   "metadata": {},
   "outputs": [],
   "source": [
    "import pandas as pd\n",
    "from snownlp import SnowNLP\n",
    "\n",
    "# 显示所有列\n",
    "pd.set_option('display.max_columns', None)\n",
    "# 显示所有行\n",
    "pd.set_option('display.max_rows', None)\n",
    "# 设置value的显示长度为100，默认为50\n",
    "pd.set_option('max_colwidth', 100)\n",
    "    \n",
    "tweets = pd.read_excel('神奇女侠.xlsx', usecols=['评论'])\n",
    "tweets['snownlp分词'] = tweets.apply(lambda x: ';'.join(SnowNLP(x['评论']).words), axis=1)\n",
    "tweets['情感分数'] = tweets.apply(lambda x: SnowNLP(x['评论']).sentiments, axis=1)\n",
    "tweets.to_excel('情感分析.xlsx')"
   ]
  },
  {
   "cell_type": "markdown",
   "metadata": {},
   "source": [
    "![情感分数](5.png)"
   ]
  },
  {
   "cell_type": "markdown",
   "metadata": {},
   "source": [
    "## 对情感分数的区间进行统计并用matplotlib得出统计结果如下"
   ]
  },
  {
   "cell_type": "markdown",
   "metadata": {},
   "source": [
    "![10](10.png)"
   ]
  },
  {
   "cell_type": "markdown",
   "metadata": {},
   "source": [
    "## (6)用wordcloud将评论做一个词云"
   ]
  },
  {
   "cell_type": "code",
   "execution_count": 40,
   "metadata": {},
   "outputs": [],
   "source": [
    "import pandas as  pd\n",
    "import re\n",
    "import collections\n",
    "import jieba\n",
    "import matplotlib.pyplot as plt\n",
    "from pyecharts.charts import WordCloud\n",
    "from pyecharts import options as opts\n",
    "\n",
    "'''\n",
    "找出评论，并做出词云图\n",
    "'''\n",
    "\n",
    "# 读取数据\n",
    "data = pd.read_excel('神奇女侠.xlsx')\n",
    "# 为了不影响原数据，所以拷贝一份\n",
    "data_cy = data.copy()\n",
    "# 去除空格\n",
    "A = data_cy['评论'].str.strip()\n",
    "# 把去除空格后的数据更改到原数据中\n",
    "data_cy['评论'] = A\n",
    "## 拼接\n",
    "string_data = ''\n",
    "for i in data_cy['评论']:\n",
    "    string_data += str(i)\n",
    "\n",
    "\n",
    "# 文本预处理，去除各种标点符号，不然统计词频时会统计进去\n",
    "# 定义正则表达式匹配模式，其中的|代表或\n",
    "pattern = re.compile(u'\\t|\\n| |；|\\.|。|：|：\\.|-|:|\\d|;|、|，|\\)|\\(|\\?|\"')\n",
    "# 将符合模式的字符去除，re.sub代表替换，把符合pattern的替换为空\n",
    "string_data = re.sub(pattern, '', string_data)\n",
    "\n",
    "# 文本分词\n",
    "seg_list_exact = jieba.cut(string_data, cut_all=False)  # 精确模式分词\n",
    "# object_list  = list(seg_list_exact) # list()函数可以把可迭代对象转为列表\n",
    "\n",
    "# 运用过滤词表优化掉常用词，比如“的”这些词，不然统计词频时会统计进去\n",
    "object_list = []\n",
    "\n",
    "# 读取过滤词表\n",
    "with open('./remove_words.txt', 'r', encoding=\"utf-8\") as fp:\n",
    "    remove_words = fp.read().split()\n",
    "\n",
    "# 循环读出每个分词\n",
    "for word in seg_list_exact:\n",
    "    #看每个分词是否在常用词表中或结果是否为空或\\xa0不间断空白符，如果不是再追加\n",
    "    if word not in remove_words and word != ' ' and word != '\\xa0':\n",
    "        object_list.append(word)  # 分词追加到列表\n",
    "\n",
    "\n",
    "# 词频统计\n",
    "word_counts = collections.Counter(object_list)  # 对分词做词频统计\n",
    "word_counts_top = word_counts.most_common(100)  # 获取前100最高频的词\n",
    "\n",
    "# 绘图\n",
    "# https://gallery.pyecharts.org/#/WordCloud/wordcloud_custom_mask_image\n",
    "# 去pyecharts官网找模板代码复制出来修改\n",
    "c = (\n",
    "    WordCloud()\n",
    "    .add(\"\", word_counts_top)#根据词频最高的词\n",
    "    .render(\"wordcloud.html\")#生成页面\n",
    ")"
   ]
  },
  {
   "cell_type": "markdown",
   "metadata": {},
   "source": [
    "![词云](11.png)"
   ]
  },
  {
   "cell_type": "markdown",
   "metadata": {},
   "source": [
    "###   综上所得：神奇女侠1984 这部电影整体上还是迎合观众口味，热度较高，受到大部分观众的喜爱，虽然有部分人对它的评价不佳，但毕竟是少部分，总的来说，神奇女侠1984是一部质量不错的电影。"
   ]
  }
 ],
 "metadata": {
  "kernelspec": {
   "display_name": "Python 3",
   "language": "python",
   "name": "python3"
  },
  "language_info": {
   "codemirror_mode": {
    "name": "ipython",
    "version": 3
   },
   "file_extension": ".py",
   "mimetype": "text/x-python",
   "name": "python",
   "nbconvert_exporter": "python",
   "pygments_lexer": "ipython3",
   "version": "3.8.5"
  }
 },
 "nbformat": 4,
 "nbformat_minor": 4
}
