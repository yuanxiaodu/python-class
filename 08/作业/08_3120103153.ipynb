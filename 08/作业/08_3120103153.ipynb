{
 "cells": [
  {
   "cell_type": "markdown",
   "metadata": {},
   "source": [
    "# 作业：水果自由\n",
    "\n",
    "最近由于车厘子的降价，水果自由这个词又重新火了起来，因此考虑使用爬虫爬取\n",
    "我比较喜欢的两种水果：荔枝和西瓜的价格，分析它们在全国的价格分布\n",
    "\n",
    "所做的工作包括：爬取美团上荔枝的价格并存入csv文件； \n",
    "                对数据进行清洗，包括去除荔枝味饮料等，以及统一度量； \n",
    "                找出全国荔枝价格最高和最低的地区，分析产地对价格的影响； \n",
    "                展示全国的荔枝价格分布； \n",
    "                对西瓜的操作与荔枝类似。"
   ]
  },
  {
   "cell_type": "markdown",
   "metadata": {},
   "source": [
    "### 1.数据爬取\n",
    "- 一是一些基本设置\n",
    "- 二是爬取美团网获得数据；\n",
    "- 三是展示部分数据；"
   ]
  },
  {
   "cell_type": "markdown",
   "metadata": {},
   "source": [
    "#### 1.部分爬虫代码（此处未运行，后面的分析均为读取之前存的csv文件）"
   ]
  },
  {
   "cell_type": "code",
   "execution_count": null,
   "metadata": {},
   "outputs": [],
   "source": [
    "import time\n",
    "import json\n",
    "import requests\n",
    "import pandas as pd\n",
    "from pymongo import MongoClient\n",
    "\n",
    "mt_data = {'geoType': '2', 'cityId': '1', 'start': '0', 'queryType': '12002', 'keyword': '荔枝',\n",
    "        'entranceId': '0', 'uuid': '16abf817564c8-0f17bb52c7e85c-37617604-fa000-16abf817564c8',\n",
    "           'platform': '3', 'partner': '4',\n",
    "        'originUrl': 'http://h5.waimai.meituan.com/waimai/mindex/searchresults?'\n",
    "                     'queryType=12002&keyword=%E8%8D%94%E6%9E%9D&entranceId=0&qwTypeId=11002&mode=search',\n",
    "        'riskLevel': '71', 'optimusCode': '10', 'wm_actual_latitude': '23144351', 'wm_actual_longitude': '113337841'}\n",
    "\n",
    "\n",
    "mt_headers = { 'Cookie': '_lxsdk_s=16abfa7f904-d87-043-14d%7C%7C7;'\n",
    "                         ' openh5_uuid=2D72E5C2609F2792812E24DBD270517FB1C9D62702619D33328C9300DD6FC302;'\n",
    "                         ' terminal=i; w_actual_lat=23131972; w_actual_lng=113327507;'\n",
    "                         ' w_utmz=\"utm_campaign=(direct)&utm_source=5000&utm_medium=(none)&utm_'\n",
    "                         'content=(none)&utm_term=(none)\"; '\n",
    "                         'openh5_uuid=2D72E5C2609F2792812E24DBD270517FB1C9D62702619D33328C9300DD6FC302;'\n",
    "                         ' uuid=2D72E5C2609F2792812E24DBD270517FB1C9D62702619D33328C9300DD6FC302; '\n",
    "                         'au_trace_key_net=default; wm_order_channel=default; '\n",
    "                         'w_addr=%E5%A4%A9%E6%B2%B3%E5%8C%BA%E7%9F%B3%E7%89%8C%E5%A4%A9%E7%AB%8B%'\n",
    "                         'E5%A4%A7%E5%8E%A6(%E4%BA%94%E5%B1%B1%E8%B7%AF%E8%A5%BF); '\n",
    "                         'w_uuid=_2vrZM6Cyta66ENmXNBXbzZh_AeqYk-43e0meKNSBJt_HH_bbAAidBBpL3lIcCNJ; '\n",
    "                         '__mta=212228651.1557993617867.1557993617867.1557993617867.1; '\n",
    "                         '_lx_utm=utm_source%3Dbing%26utm_medium%3Dorganic%26utm_term%3D%25E7%25BE%258E%25E5'\n",
    "                         '%259B%25A2%25E5%25A4%2596%25E5%258D%2596; '\n",
    "                         '_lxsdk=2D72E5C2609F2792812E24DBD270517FB1C9D62702619D33328C9300DD6FC302; '\n",
    "                         '_lxsdk_cuid=16abfa7f900c8-0558d17ad177f6-7f7f3265-3d10d-16abfa7f901c8; '\n",
    "                         'JSESSIONID=1gjxbn5o5kddo1d55838n5r4es; webp=0; utm_source=0; '\n",
    "                         'w_visitid=43c6eacd-00b4-489f-8440-497e12a5d732; wx_channel_id=0; '\n",
    "                         'IJSESSIONID=mu3yrzj1osjb1alojuq6yymcu; ci=20; cityname=%'\n",
    "                         'E5%B9%BF%E5%B7%9E; iuuid=2D72E5C2609F2792812E24DBD270517FB1C9D62702619D33328C9300DD6FC302;'\n",
    "                         ' latlng=23.134567%2C113.322089%2C1557993607532; nodown=yes'\n",
    ",\n",
    "           'Host': 'i.waimai.meituan.com',\n",
    "           'Origin': 'http://h5.waimai.meituan.com',\n",
    "           'Referer': 'http://h5.waimai.meituan.com/waimai/mindex/searchresults?queryType=12002'\n",
    "                      '&keyword=%E8%8D%94%E6%9E%9D&entranceId=0&qwTypeId=11002&mode=search',\n",
    "           'User-Agent': 'Mozilla/5.0 (iPhone; CPU iPhone OS 11_0 like Mac OS X) AppleWebKit/604.1.38'\n",
    "                         ' (KHTML, like Gecko) Version/11.0 Mobile/15A372 Safari/604.1'}\n",
    "\n",
    "class PriceCrawler(object):\n",
    "    def __init__(self, fruit):\n",
    "        self.city_data = pd.read_csv('city_data.csv')\n",
    "        self.loc_url = 'https://apis.map.qq.com/jsapi?qt=geoc&addr={}&key=TU5BZ-MKD3W-L43RW-O3ZBW-GWMZK-QBB25' \\\n",
    "                       '&output=jsonp&pf=jsapi&ref=jsapi&cb=qq.maps._svcb2.geocoder0'\n",
    "        self.mt_url = 'http://i.waimai.meituan.com/openh5/search/poi?_={}' \\\n",
    "                      '&X-FOR-WITH=mP9tsFEnb9hfrEHTrmpMSE8Y1za6R%2B5jgLtj%2FaCEkv9mUzq9C90xx7W8ztsISSWV3ccaw7' \\\n",
    "                      'm5H2%2FEKCO4ybaM13BHe5NUV%2BwIfo17kPUjMBKTvhGk21LspnQJ8CJAiH6KAI2CF5K44l%2BJjx1VgIpnVg%3D%3D'\n",
    "        client = MongoClient(host='localhost', port=27017)\n",
    "        db = client.Fruit\n",
    "        self.col = db.lychee\n",
    "\n",
    "        mt_data['keyword'] = fruit\n",
    "\n",
    "    def get_lat_lon(self, city):\n",
    "        try:\n",
    "            loc_res = requests.get(self.loc_url.format(city+'市'), timeout=5)\n",
    "            loc_data = json.loads(loc_res.text[loc_res.text.find('(')+1: -1])\n",
    "            if loc_data['info']['error'] == 0:\n",
    "                lon = int(float(loc_data['detail']['pointx'])*1000000)\n",
    "                lat = int(float(loc_data['detail']['pointy'])*1000000)\n",
    "                return lon, lat, 1\n",
    "            else:\n",
    "                return None, None, 0\n",
    "        except:\n",
    "            print('Can not get city: {}'.format(city))\n",
    "            return None, None, 0\n",
    "\n",
    "    def get_fruit_data(self):\n",
    "        idx = self.city_data.shape[0]\n",
    "        for i in range(idx):\n",
    "            city = self.city_data.iloc[i]['city']\n",
    "            province = self.city_data.iloc[i]['province']\n",
    "            mt_data['wm_actual_longitude'], mt_data['wm_actual_latitude'], validate = self.get_lat_lon(city)\n",
    "            if validate:\n",
    "                print('Crawling data of city: {}, province: {}'.format(city, province))\n",
    "                res = requests.post(self.mt_url.format(int(time.time()*1000)),\n",
    "                                    headers=mt_headers,\n",
    "                                    data=mt_data)\n",
    "                time.sleep(5)\n",
    "                self.format_response(res.json(), city, province)\n",
    "\n",
    "    def format_response(self, res, city, province):\n",
    "        if len(res['data']['searchPoiList']) > 0:\n",
    "            for store in res['data']['searchPoiList']:\n",
    "                store_name = store['name']\n",
    "                print('Crawling data of Store: {}'.format(store_name))\n",
    "                for prod in store['productList']:\n",
    "                    del prod['logField']\n",
    "                    del prod['picture']\n",
    "                    del prod['productLabelPictureList']\n",
    "                    prod['city'] = city\n",
    "                    prod['province'] = province\n",
    "                    prod['store'] = store_name\n",
    "                    self.col.insert_one(prod)\n",
    "\n",
    "\n",
    "if __name__ == '__main__':\n",
    "    pc = PriceCrawler('荔枝')\n",
    "    pc.get_fruit_data()\n"
   ]
  },
  {
   "cell_type": "markdown",
   "metadata": {},
   "source": [
    "#### 2.一些设置"
   ]
  },
  {
   "cell_type": "code",
   "execution_count": 1,
   "metadata": {},
   "outputs": [],
   "source": [
    "import re\n",
    "import pandas as pd\n",
    "import numpy as np\n",
    "import matplotlib.pyplot as plt\n",
    "import seaborn as sns\n",
    "\n",
    "# plt.style.use('ggplot')\n",
    "from pylab import mpl\n",
    "sns.set(font_scale=1.5)\n",
    "mpl.rcParams['font.sans-serif'] = ['SimHei']  #解决seaborn中文字体显示问题\n",
    "mpl.rcParams['axes.unicode_minus'] = False # 解决保存图像是负号'-'显示为方块的问题\n",
    "%matplotlib inline"
   ]
  },
  {
   "cell_type": "markdown",
   "metadata": {},
   "source": [
    "#### 3.读取数据文件并展示部分数据"
   ]
  },
  {
   "cell_type": "code",
   "execution_count": 2,
   "metadata": {},
   "outputs": [],
   "source": [
    "lc = pd.read_csv('D:\\work\\lychee.csv')"
   ]
  },
  {
   "cell_type": "code",
   "execution_count": 3,
   "metadata": {},
   "outputs": [
    {
     "name": "stdout",
     "output_type": "stream",
     "text": [
      "<class 'pandas.core.frame.DataFrame'>\n",
      "RangeIndex: 1692 entries, 0 to 1691\n",
      "Data columns (total 12 columns):\n",
      "monthSales       1692 non-null int64\n",
      "originalPrice    1692 non-null float64\n",
      "praiseContent    1692 non-null object\n",
      "price            1692 non-null float64\n",
      "productName      1692 non-null object\n",
      "productSpuId     1692 non-null int64\n",
      "productStatus    1692 non-null int64\n",
      "promotionInfo    476 non-null object\n",
      "wmPoiId          1692 non-null int64\n",
      "city             1692 non-null object\n",
      "province         1692 non-null object\n",
      "store            1692 non-null object\n",
      "dtypes: float64(2), int64(4), object(6)\n",
      "memory usage: 158.8+ KB\n"
     ]
    }
   ],
   "source": [
    "lc.info()"
   ]
  },
  {
   "cell_type": "code",
   "execution_count": 4,
   "metadata": {},
   "outputs": [
    {
     "data": {
      "text/html": [
       "<div>\n",
       "<style scoped>\n",
       "    .dataframe tbody tr th:only-of-type {\n",
       "        vertical-align: middle;\n",
       "    }\n",
       "\n",
       "    .dataframe tbody tr th {\n",
       "        vertical-align: top;\n",
       "    }\n",
       "\n",
       "    .dataframe thead th {\n",
       "        text-align: right;\n",
       "    }\n",
       "</style>\n",
       "<table border=\"1\" class=\"dataframe\">\n",
       "  <thead>\n",
       "    <tr style=\"text-align: right;\">\n",
       "      <th></th>\n",
       "      <th>monthSales</th>\n",
       "      <th>originalPrice</th>\n",
       "      <th>praiseContent</th>\n",
       "      <th>price</th>\n",
       "      <th>productName</th>\n",
       "      <th>productSpuId</th>\n",
       "      <th>productStatus</th>\n",
       "      <th>promotionInfo</th>\n",
       "      <th>wmPoiId</th>\n",
       "      <th>city</th>\n",
       "      <th>province</th>\n",
       "      <th>store</th>\n",
       "    </tr>\n",
       "  </thead>\n",
       "  <tbody>\n",
       "    <tr>\n",
       "      <td>1566</td>\n",
       "      <td>4</td>\n",
       "      <td>10.8</td>\n",
       "      <td>赞0</td>\n",
       "      <td>8.99</td>\n",
       "      <td>妃子笑荔枝约250g</td>\n",
       "      <td>1530091727</td>\n",
       "      <td>0</td>\n",
       "      <td>8.32折</td>\n",
       "      <td>886194668860648</td>\n",
       "      <td>西安</td>\n",
       "      <td>陕西省</td>\n",
       "      <td>龙门头（含光门店）</td>\n",
       "    </tr>\n",
       "    <tr>\n",
       "      <td>93</td>\n",
       "      <td>4</td>\n",
       "      <td>30.0</td>\n",
       "      <td>赞0</td>\n",
       "      <td>30.00</td>\n",
       "      <td>广西 妃子笑 荔枝 肉大核小超甜</td>\n",
       "      <td>855598498</td>\n",
       "      <td>0</td>\n",
       "      <td>NaN</td>\n",
       "      <td>847784776333064</td>\n",
       "      <td>巴彦淖尔</td>\n",
       "      <td>内蒙古自治区</td>\n",
       "      <td>西安小罗精品果蔬</td>\n",
       "    </tr>\n",
       "    <tr>\n",
       "      <td>647</td>\n",
       "      <td>1</td>\n",
       "      <td>28.0</td>\n",
       "      <td>赞0</td>\n",
       "      <td>25.00</td>\n",
       "      <td>妃子笑荔枝（500g）</td>\n",
       "      <td>1514498026</td>\n",
       "      <td>0</td>\n",
       "      <td>8.93折</td>\n",
       "      <td>923328956106326</td>\n",
       "      <td>东阳</td>\n",
       "      <td>浙江省</td>\n",
       "      <td>小红平价水果</td>\n",
       "    </tr>\n",
       "    <tr>\n",
       "      <td>1527</td>\n",
       "      <td>2</td>\n",
       "      <td>29.8</td>\n",
       "      <td>赞0</td>\n",
       "      <td>29.80</td>\n",
       "      <td>香蕉  妃子笑 杨梅500克</td>\n",
       "      <td>1488715708</td>\n",
       "      <td>0</td>\n",
       "      <td>NaN</td>\n",
       "      <td>906728907474180</td>\n",
       "      <td>都匀</td>\n",
       "      <td>贵州省</td>\n",
       "      <td>阿强水果副食店</td>\n",
       "    </tr>\n",
       "    <tr>\n",
       "      <td>957</td>\n",
       "      <td>0</td>\n",
       "      <td>18.8</td>\n",
       "      <td>赞0</td>\n",
       "      <td>16.80</td>\n",
       "      <td>空运妃子笑鲜荔枝半斤</td>\n",
       "      <td>1543393572</td>\n",
       "      <td>0</td>\n",
       "      <td>8.94折</td>\n",
       "      <td>949901918780257</td>\n",
       "      <td>济宁</td>\n",
       "      <td>山东省</td>\n",
       "      <td>李家水果快送（炒酸奶.水果捞）</td>\n",
       "    </tr>\n",
       "  </tbody>\n",
       "</table>\n",
       "</div>"
      ],
      "text/plain": [
       "      monthSales  originalPrice praiseContent  price       productName  \\\n",
       "1566           4           10.8            赞0   8.99        妃子笑荔枝约250g   \n",
       "93             4           30.0            赞0  30.00  广西 妃子笑 荔枝 肉大核小超甜   \n",
       "647            1           28.0            赞0  25.00       妃子笑荔枝（500g）   \n",
       "1527           2           29.8            赞0  29.80    香蕉  妃子笑 杨梅500克   \n",
       "957            0           18.8            赞0  16.80        空运妃子笑鲜荔枝半斤   \n",
       "\n",
       "      productSpuId  productStatus promotionInfo          wmPoiId  city  \\\n",
       "1566    1530091727              0         8.32折  886194668860648    西安   \n",
       "93       855598498              0           NaN  847784776333064  巴彦淖尔   \n",
       "647     1514498026              0         8.93折  923328956106326    东阳   \n",
       "1527    1488715708              0           NaN  906728907474180    都匀   \n",
       "957     1543393572              0         8.94折  949901918780257    济宁   \n",
       "\n",
       "     province            store  \n",
       "1566      陕西省        龙门头（含光门店）  \n",
       "93     内蒙古自治区         西安小罗精品果蔬  \n",
       "647       浙江省           小红平价水果  \n",
       "1527      贵州省          阿强水果副食店  \n",
       "957       山东省  李家水果快送（炒酸奶.水果捞）  "
      ]
     },
     "execution_count": 4,
     "metadata": {},
     "output_type": "execute_result"
    }
   ],
   "source": [
    "lc.sample(5)"
   ]
  },
  {
   "cell_type": "markdown",
   "metadata": {},
   "source": [
    "### 2.数据清洗\n",
    "- 一是把不是荔枝的记录清掉，比如说有些是奶茶店卖的“妃子笑芝芝”；\n",
    "- 二是统一度量标准，单位比较乱，有以克为单位的，以千克为单位的，还有以斤、半斤为单位的；\n",
    "- 三是去重、数据类型转换等"
   ]
  },
  {
   "cell_type": "markdown",
   "metadata": {},
   "source": [
    "#### 1. 清理不是荔枝的记录"
   ]
  },
  {
   "cell_type": "code",
   "execution_count": 5,
   "metadata": {},
   "outputs": [],
   "source": [
    "lc = lc[-lc['store'].str.contains('茶|奶|咖啡|披萨|冷饮|汁|餐厅|锅|面皮|鱼|饭')]\n",
    "lc = lc[-lc['productName'].str.contains('茶|奶|咖啡|披萨|冷饮|汁|餐厅|锅|面皮|箱|饮料')]"
   ]
  },
  {
   "cell_type": "code",
   "execution_count": 6,
   "metadata": {},
   "outputs": [
    {
     "data": {
      "text/html": [
       "<div>\n",
       "<style scoped>\n",
       "    .dataframe tbody tr th:only-of-type {\n",
       "        vertical-align: middle;\n",
       "    }\n",
       "\n",
       "    .dataframe tbody tr th {\n",
       "        vertical-align: top;\n",
       "    }\n",
       "\n",
       "    .dataframe thead th {\n",
       "        text-align: right;\n",
       "    }\n",
       "</style>\n",
       "<table border=\"1\" class=\"dataframe\">\n",
       "  <thead>\n",
       "    <tr style=\"text-align: right;\">\n",
       "      <th></th>\n",
       "      <th>monthSales</th>\n",
       "      <th>originalPrice</th>\n",
       "      <th>praiseContent</th>\n",
       "      <th>price</th>\n",
       "      <th>productName</th>\n",
       "      <th>productSpuId</th>\n",
       "      <th>productStatus</th>\n",
       "      <th>promotionInfo</th>\n",
       "      <th>wmPoiId</th>\n",
       "      <th>city</th>\n",
       "      <th>province</th>\n",
       "      <th>store</th>\n",
       "    </tr>\n",
       "  </thead>\n",
       "  <tbody>\n",
       "    <tr>\n",
       "      <td>1390</td>\n",
       "      <td>19</td>\n",
       "      <td>10.90</td>\n",
       "      <td>赞0</td>\n",
       "      <td>7.90</td>\n",
       "      <td>【特惠】A级-妃子笑荔枝（粒果）1份/不少于250g</td>\n",
       "      <td>1523110432</td>\n",
       "      <td>0</td>\n",
       "      <td>7.25折</td>\n",
       "      <td>863358327740633</td>\n",
       "      <td>湛江</td>\n",
       "      <td>广东省</td>\n",
       "      <td>百果园（湛江金城一横路店）</td>\n",
       "    </tr>\n",
       "    <tr>\n",
       "      <td>901</td>\n",
       "      <td>0</td>\n",
       "      <td>18.50</td>\n",
       "      <td>赞0</td>\n",
       "      <td>18.50</td>\n",
       "      <td>A级-妃子笑荔枝（粒果）1份/不少于500g</td>\n",
       "      <td>1515355043</td>\n",
       "      <td>0</td>\n",
       "      <td>NaN</td>\n",
       "      <td>885520359001373</td>\n",
       "      <td>丰城</td>\n",
       "      <td>江西省</td>\n",
       "      <td>百果园（宜春梦祥路店）</td>\n",
       "    </tr>\n",
       "    <tr>\n",
       "      <td>1660</td>\n",
       "      <td>0</td>\n",
       "      <td>21.99</td>\n",
       "      <td>赞0</td>\n",
       "      <td>21.99</td>\n",
       "      <td>海南妃子笑荔枝约500g/份</td>\n",
       "      <td>858169352</td>\n",
       "      <td>0</td>\n",
       "      <td>NaN</td>\n",
       "      <td>1042385449543833</td>\n",
       "      <td>北京</td>\n",
       "      <td>北京市</td>\n",
       "      <td>比邻鲜（二毛店）</td>\n",
       "    </tr>\n",
       "    <tr>\n",
       "      <td>35</td>\n",
       "      <td>0</td>\n",
       "      <td>8.00</td>\n",
       "      <td>赞0</td>\n",
       "      <td>8.00</td>\n",
       "      <td>妃子笑（荔枝西柚）</td>\n",
       "      <td>1054129061</td>\n",
       "      <td>0</td>\n",
       "      <td>NaN</td>\n",
       "      <td>1069327779426292</td>\n",
       "      <td>定州</td>\n",
       "      <td>河北省</td>\n",
       "      <td>果然时光（大世界共享星厨店）</td>\n",
       "    </tr>\n",
       "    <tr>\n",
       "      <td>903</td>\n",
       "      <td>0</td>\n",
       "      <td>18.50</td>\n",
       "      <td>赞0</td>\n",
       "      <td>18.50</td>\n",
       "      <td>A级-妃子笑荔枝（粒果）1份/不少于500g</td>\n",
       "      <td>1515153751</td>\n",
       "      <td>0</td>\n",
       "      <td>NaN</td>\n",
       "      <td>846418976763997</td>\n",
       "      <td>丰城</td>\n",
       "      <td>江西省</td>\n",
       "      <td>百果园（宜春雷焕路店）</td>\n",
       "    </tr>\n",
       "  </tbody>\n",
       "</table>\n",
       "</div>"
      ],
      "text/plain": [
       "      monthSales  originalPrice praiseContent  price  \\\n",
       "1390          19          10.90            赞0   7.90   \n",
       "901            0          18.50            赞0  18.50   \n",
       "1660           0          21.99            赞0  21.99   \n",
       "35             0           8.00            赞0   8.00   \n",
       "903            0          18.50            赞0  18.50   \n",
       "\n",
       "                     productName  productSpuId  productStatus promotionInfo  \\\n",
       "1390  【特惠】A级-妃子笑荔枝（粒果）1份/不少于250g    1523110432              0         7.25折   \n",
       "901       A级-妃子笑荔枝（粒果）1份/不少于500g    1515355043              0           NaN   \n",
       "1660              海南妃子笑荔枝约500g/份     858169352              0           NaN   \n",
       "35                     妃子笑（荔枝西柚）    1054129061              0           NaN   \n",
       "903       A级-妃子笑荔枝（粒果）1份/不少于500g    1515153751              0           NaN   \n",
       "\n",
       "               wmPoiId city province           store  \n",
       "1390   863358327740633   湛江      广东省   百果园（湛江金城一横路店）  \n",
       "901    885520359001373   丰城      江西省     百果园（宜春梦祥路店）  \n",
       "1660  1042385449543833   北京      北京市        比邻鲜（二毛店）  \n",
       "35    1069327779426292   定州      河北省  果然时光（大世界共享星厨店）  \n",
       "903    846418976763997   丰城      江西省     百果园（宜春雷焕路店）  "
      ]
     },
     "execution_count": 6,
     "metadata": {},
     "output_type": "execute_result"
    }
   ],
   "source": [
    "lc.sample(5)"
   ]
  },
  {
   "cell_type": "markdown",
   "metadata": {},
   "source": [
    "#### 2. 统一度量标准"
   ]
  },
  {
   "cell_type": "code",
   "execution_count": 7,
   "metadata": {},
   "outputs": [],
   "source": [
    "pat_kg = r'([\\d|.]*)kg'\n",
    "pat_g = r'(\\d*)g'\n",
    "pat_jin = r'([\\d|.]*)斤'\n",
    "pat_ke = r'(\\d*)克'\n",
    "def get_weight(data):\n",
    "    if 'kg' in data:\n",
    "        return float(re.findall(pattern=pat_kg, string=data)[0])*1000\n",
    "    elif 'Kg' in data:\n",
    "        return float(1000)\n",
    "    elif 'g' in data:\n",
    "        if re.findall(pattern=pat_g, string=data)[0] != '':\n",
    "            return float(re.findall(pattern=pat_g, string=data)[0])\n",
    "    elif '半斤'in data:\n",
    "        return float(250)\n",
    "    elif '一斤' in data:\n",
    "        return float(500)\n",
    "    elif '每斤' in data:\n",
    "        return float(500)\n",
    "    elif '二斤' in data:\n",
    "        return float(1000)\n",
    "    elif '三斤' in data:\n",
    "        return float(1500)\n",
    "    elif '/斤' in data:\n",
    "        return float(500)\n",
    "    elif '斤' in data:\n",
    "        jin = re.findall(pattern=pat_jin, string=data)\n",
    "        if len(jin) > 0 and jin[0] != '':\n",
    "            return float(jin[0])*500\n",
    "        else:\n",
    "            return float(500)\n",
    "    elif '克' in data:\n",
    "        return float(re.findall(pattern=pat_ke, string=data)[0])\n",
    "    else:\n",
    "        return float(500)"
   ]
  },
  {
   "cell_type": "code",
   "execution_count": 8,
   "metadata": {},
   "outputs": [],
   "source": [
    "lc['gram'] = lc['productName'].apply(get_weight)"
   ]
  },
  {
   "cell_type": "code",
   "execution_count": 9,
   "metadata": {
    "scrolled": true
   },
   "outputs": [
    {
     "data": {
      "text/html": [
       "<div>\n",
       "<style scoped>\n",
       "    .dataframe tbody tr th:only-of-type {\n",
       "        vertical-align: middle;\n",
       "    }\n",
       "\n",
       "    .dataframe tbody tr th {\n",
       "        vertical-align: top;\n",
       "    }\n",
       "\n",
       "    .dataframe thead th {\n",
       "        text-align: right;\n",
       "    }\n",
       "</style>\n",
       "<table border=\"1\" class=\"dataframe\">\n",
       "  <thead>\n",
       "    <tr style=\"text-align: right;\">\n",
       "      <th></th>\n",
       "      <th>productName</th>\n",
       "      <th>gram</th>\n",
       "    </tr>\n",
       "  </thead>\n",
       "  <tbody>\n",
       "    <tr>\n",
       "      <td>226</td>\n",
       "      <td>妃子笑</td>\n",
       "      <td>500.0</td>\n",
       "    </tr>\n",
       "    <tr>\n",
       "      <td>123</td>\n",
       "      <td>新摘妃子笑荔枝（斤）</td>\n",
       "      <td>500.0</td>\n",
       "    </tr>\n",
       "    <tr>\n",
       "      <td>1253</td>\n",
       "      <td>海南 新鲜  小核妃子笑  一斤</td>\n",
       "      <td>500.0</td>\n",
       "    </tr>\n",
       "    <tr>\n",
       "      <td>1272</td>\n",
       "      <td>海南 妃子笑荔枝/500g 500g</td>\n",
       "      <td>500.0</td>\n",
       "    </tr>\n",
       "    <tr>\n",
       "      <td>1241</td>\n",
       "      <td>妃子笑荔枝 约500g/份</td>\n",
       "      <td>500.0</td>\n",
       "    </tr>\n",
       "  </tbody>\n",
       "</table>\n",
       "</div>"
      ],
      "text/plain": [
       "             productName   gram\n",
       "226                  妃子笑  500.0\n",
       "123           新摘妃子笑荔枝（斤）  500.0\n",
       "1253    海南 新鲜  小核妃子笑  一斤  500.0\n",
       "1272  海南 妃子笑荔枝/500g 500g  500.0\n",
       "1241       妃子笑荔枝 约500g/份  500.0"
      ]
     },
     "execution_count": 9,
     "metadata": {},
     "output_type": "execute_result"
    }
   ],
   "source": [
    "lc[['productName', 'gram']].sample(5)"
   ]
  },
  {
   "cell_type": "code",
   "execution_count": 10,
   "metadata": {},
   "outputs": [],
   "source": [
    "lc['price_per_jin'] = lc['price'] / (lc['gram']/500)"
   ]
  },
  {
   "cell_type": "code",
   "execution_count": 11,
   "metadata": {},
   "outputs": [
    {
     "name": "stdout",
     "output_type": "stream",
     "text": [
      "<class 'pandas.core.frame.DataFrame'>\n",
      "Int64Index: 1396 entries, 0 to 1691\n",
      "Data columns (total 14 columns):\n",
      "monthSales       1396 non-null int64\n",
      "originalPrice    1396 non-null float64\n",
      "praiseContent    1396 non-null object\n",
      "price            1396 non-null float64\n",
      "productName      1396 non-null object\n",
      "productSpuId     1396 non-null int64\n",
      "productStatus    1396 non-null int64\n",
      "promotionInfo    448 non-null object\n",
      "wmPoiId          1396 non-null int64\n",
      "city             1396 non-null object\n",
      "province         1396 non-null object\n",
      "store            1396 non-null object\n",
      "gram             1395 non-null float64\n",
      "price_per_jin    1395 non-null float64\n",
      "dtypes: float64(4), int64(4), object(6)\n",
      "memory usage: 163.6+ KB\n"
     ]
    }
   ],
   "source": [
    "lc.info()"
   ]
  },
  {
   "cell_type": "code",
   "execution_count": 12,
   "metadata": {},
   "outputs": [
    {
     "data": {
      "text/html": [
       "<div>\n",
       "<style scoped>\n",
       "    .dataframe tbody tr th:only-of-type {\n",
       "        vertical-align: middle;\n",
       "    }\n",
       "\n",
       "    .dataframe tbody tr th {\n",
       "        vertical-align: top;\n",
       "    }\n",
       "\n",
       "    .dataframe thead th {\n",
       "        text-align: right;\n",
       "    }\n",
       "</style>\n",
       "<table border=\"1\" class=\"dataframe\">\n",
       "  <thead>\n",
       "    <tr style=\"text-align: right;\">\n",
       "      <th></th>\n",
       "      <th>monthSales</th>\n",
       "      <th>originalPrice</th>\n",
       "      <th>praiseContent</th>\n",
       "      <th>price</th>\n",
       "      <th>productName</th>\n",
       "      <th>productSpuId</th>\n",
       "      <th>productStatus</th>\n",
       "      <th>promotionInfo</th>\n",
       "      <th>wmPoiId</th>\n",
       "      <th>city</th>\n",
       "      <th>province</th>\n",
       "      <th>store</th>\n",
       "      <th>gram</th>\n",
       "      <th>price_per_jin</th>\n",
       "    </tr>\n",
       "  </thead>\n",
       "  <tbody>\n",
       "    <tr>\n",
       "      <td>1308</td>\n",
       "      <td>0</td>\n",
       "      <td>19.9</td>\n",
       "      <td>赞0</td>\n",
       "      <td>19.90</td>\n",
       "      <td>妃子笑荔枝 500g</td>\n",
       "      <td>1543586110</td>\n",
       "      <td>0</td>\n",
       "      <td>NaN</td>\n",
       "      <td>958131076116431</td>\n",
       "      <td>湘乡</td>\n",
       "      <td>湖南省</td>\n",
       "      <td>鲜果庄园</td>\n",
       "      <td>500.0</td>\n",
       "      <td>19.900000</td>\n",
       "    </tr>\n",
       "    <tr>\n",
       "      <td>736</td>\n",
       "      <td>0</td>\n",
       "      <td>25.0</td>\n",
       "      <td>赞0</td>\n",
       "      <td>25.00</td>\n",
       "      <td>【核小纯甜】火山口妃子笑 一斤盒装</td>\n",
       "      <td>1543599872</td>\n",
       "      <td>0</td>\n",
       "      <td>NaN</td>\n",
       "      <td>845491263810671</td>\n",
       "      <td>桐城</td>\n",
       "      <td>安徽省</td>\n",
       "      <td>四季果业</td>\n",
       "      <td>500.0</td>\n",
       "      <td>25.000000</td>\n",
       "    </tr>\n",
       "    <tr>\n",
       "      <td>1442</td>\n",
       "      <td>13</td>\n",
       "      <td>26.9</td>\n",
       "      <td>赞0</td>\n",
       "      <td>14.90</td>\n",
       "      <td>【1斤】A级-妃子笑荔枝（粒果）1份/不少于500g</td>\n",
       "      <td>1523327232</td>\n",
       "      <td>0</td>\n",
       "      <td>5.54折</td>\n",
       "      <td>944855332210978</td>\n",
       "      <td>海口</td>\n",
       "      <td>海南省</td>\n",
       "      <td>百果园(海口海德路店)</td>\n",
       "      <td>500.0</td>\n",
       "      <td>14.900000</td>\n",
       "    </tr>\n",
       "    <tr>\n",
       "      <td>1592</td>\n",
       "      <td>10</td>\n",
       "      <td>15.8</td>\n",
       "      <td>赞0</td>\n",
       "      <td>9.90</td>\n",
       "      <td>海南 妃子笑荔枝 （250g）</td>\n",
       "      <td>1528461979</td>\n",
       "      <td>0</td>\n",
       "      <td>6.27折</td>\n",
       "      <td>989883769312501</td>\n",
       "      <td>兰州</td>\n",
       "      <td>甘肃省</td>\n",
       "      <td>果果家（兰州桃花苑店）</td>\n",
       "      <td>250.0</td>\n",
       "      <td>19.800000</td>\n",
       "    </tr>\n",
       "    <tr>\n",
       "      <td>1282</td>\n",
       "      <td>0</td>\n",
       "      <td>24.8</td>\n",
       "      <td>赞0</td>\n",
       "      <td>16.81</td>\n",
       "      <td>【新鲜到货】妃子笑荔枝 600g/份</td>\n",
       "      <td>1541194736</td>\n",
       "      <td>0</td>\n",
       "      <td>6.78折</td>\n",
       "      <td>909739679611644</td>\n",
       "      <td>娄底</td>\n",
       "      <td>湖南省</td>\n",
       "      <td>绿叶水果（娄底株山国际店）</td>\n",
       "      <td>600.0</td>\n",
       "      <td>14.008333</td>\n",
       "    </tr>\n",
       "  </tbody>\n",
       "</table>\n",
       "</div>"
      ],
      "text/plain": [
       "      monthSales  originalPrice praiseContent  price  \\\n",
       "1308           0           19.9            赞0  19.90   \n",
       "736            0           25.0            赞0  25.00   \n",
       "1442          13           26.9            赞0  14.90   \n",
       "1592          10           15.8            赞0   9.90   \n",
       "1282           0           24.8            赞0  16.81   \n",
       "\n",
       "                     productName  productSpuId  productStatus promotionInfo  \\\n",
       "1308                  妃子笑荔枝 500g    1543586110              0           NaN   \n",
       "736            【核小纯甜】火山口妃子笑 一斤盒装    1543599872              0           NaN   \n",
       "1442  【1斤】A级-妃子笑荔枝（粒果）1份/不少于500g    1523327232              0         5.54折   \n",
       "1592             海南 妃子笑荔枝 （250g）    1528461979              0         6.27折   \n",
       "1282          【新鲜到货】妃子笑荔枝 600g/份    1541194736              0         6.78折   \n",
       "\n",
       "              wmPoiId city province          store   gram  price_per_jin  \n",
       "1308  958131076116431   湘乡      湖南省           鲜果庄园  500.0      19.900000  \n",
       "736   845491263810671   桐城      安徽省           四季果业  500.0      25.000000  \n",
       "1442  944855332210978   海口      海南省    百果园(海口海德路店)  500.0      14.900000  \n",
       "1592  989883769312501   兰州      甘肃省    果果家（兰州桃花苑店）  250.0      19.800000  \n",
       "1282  909739679611644   娄底      湖南省  绿叶水果（娄底株山国际店）  600.0      14.008333  "
      ]
     },
     "execution_count": 12,
     "metadata": {},
     "output_type": "execute_result"
    }
   ],
   "source": [
    "lc.sample(5)"
   ]
  },
  {
   "cell_type": "markdown",
   "metadata": {},
   "source": [
    "#### 3. 去重、数据类型转换"
   ]
  },
  {
   "cell_type": "code",
   "execution_count": 13,
   "metadata": {},
   "outputs": [],
   "source": [
    "lc.drop_duplicates(subset='productSpuId', inplace=True)"
   ]
  },
  {
   "cell_type": "code",
   "execution_count": 14,
   "metadata": {},
   "outputs": [
    {
     "data": {
      "text/plain": [
       "22.144160908182368"
      ]
     },
     "execution_count": 14,
     "metadata": {},
     "output_type": "execute_result"
    }
   ],
   "source": [
    "lc['price_per_jin'].mean()"
   ]
  },
  {
   "cell_type": "markdown",
   "metadata": {},
   "source": [
    "### 3.数据分析：\n",
    "1. 荔枝价格整体情况如何？\n",
    "2. 哪些城市吃荔枝最贵？\n",
    "3. 原产地是否有价格优势？\n",
    "4. 全国荔枝平均价格图\n",
    "5. 平均工资水平能否实现荔枝自由？"
   ]
  },
  {
   "cell_type": "markdown",
   "metadata": {},
   "source": [
    "#### 1. 荔枝价格整体情况如何？"
   ]
  },
  {
   "cell_type": "code",
   "execution_count": 15,
   "metadata": {},
   "outputs": [
    {
     "data": {
      "text/plain": [
       "count    1394.000000\n",
       "mean       22.144161\n",
       "std         9.891200\n",
       "min         0.010000\n",
       "25%        15.800000\n",
       "50%        19.800000\n",
       "75%        25.800000\n",
       "max        98.000000\n",
       "Name: price_per_jin, dtype: float64"
      ]
     },
     "execution_count": 15,
     "metadata": {},
     "output_type": "execute_result"
    }
   ],
   "source": [
    "lc['price_per_jin'].describe()"
   ]
  },
  {
   "cell_type": "code",
   "execution_count": 16,
   "metadata": {},
   "outputs": [
    {
     "name": "stderr",
     "output_type": "stream",
     "text": [
      "D:\\software\\Anaconda\\lib\\site-packages\\seaborn\\distributions.py:2557: FutureWarning: `distplot` is a deprecated function and will be removed in a future version. Please adapt your code to use either `displot` (a figure-level function with similar flexibility) or `histplot` (an axes-level function for histograms).\n",
      "  warnings.warn(msg, FutureWarning)\n"
     ]
    },
    {
     "data": {
      "text/plain": [
       "Text(0.5, 0, '价格/斤')"
      ]
     },
     "execution_count": 16,
     "metadata": {},
     "output_type": "execute_result"
    },
    {
     "data": {
      "image/png": "[encoded data removed]",
      "text/plain": [
       "<Figure size 720x432 with 1 Axes>"
      ]
     },
     "metadata": {
      "needs_background": "light"
     },
     "output_type": "display_data"
    }
   ],
   "source": [
    "fig, ax = plt.subplots(figsize=(10,6))\n",
    "sns.distplot(list(lc['price_per_jin'].dropna()), ax=ax)\n",
    "ax.set_xlim(0, 100)\n",
    "ax.set_xlabel('价格/斤')"
   ]
  },
  {
   "cell_type": "code",
   "execution_count": 17,
   "metadata": {},
   "outputs": [],
   "source": [
    "top5_store = lc.loc[lc['price_per_jin'].nlargest().index][['productName', 'price', 'city', 'store']]"
   ]
  },
  {
   "cell_type": "code",
   "execution_count": 18,
   "metadata": {},
   "outputs": [
    {
     "data": {
      "text/html": [
       "<div>\n",
       "<style scoped>\n",
       "    .dataframe tbody tr th:only-of-type {\n",
       "        vertical-align: middle;\n",
       "    }\n",
       "\n",
       "    .dataframe tbody tr th {\n",
       "        vertical-align: top;\n",
       "    }\n",
       "\n",
       "    .dataframe thead th {\n",
       "        text-align: right;\n",
       "    }\n",
       "</style>\n",
       "<table border=\"1\" class=\"dataframe\">\n",
       "  <thead>\n",
       "    <tr style=\"text-align: right;\">\n",
       "      <th></th>\n",
       "      <th>productName</th>\n",
       "      <th>price</th>\n",
       "      <th>city</th>\n",
       "      <th>store</th>\n",
       "    </tr>\n",
       "  </thead>\n",
       "  <tbody>\n",
       "    <tr>\n",
       "      <td>1648</td>\n",
       "      <td>海南妃子笑荔枝【500g】</td>\n",
       "      <td>98.0</td>\n",
       "      <td>银川</td>\n",
       "      <td>F******店</td>\n",
       "    </tr>\n",
       "    <tr>\n",
       "      <td>249</td>\n",
       "      <td>妃子笑荔枝</td>\n",
       "      <td>80.0</td>\n",
       "      <td>洮南</td>\n",
       "      <td>谷***果</td>\n",
       "    </tr>\n",
       "    <tr>\n",
       "      <td>1669</td>\n",
       "      <td>海南妃子笑500g</td>\n",
       "      <td>78.0</td>\n",
       "      <td>上海</td>\n",
       "      <td>绿**********）</td>\n",
       "    </tr>\n",
       "    <tr>\n",
       "      <td>1671</td>\n",
       "      <td>海南妃子笑500g</td>\n",
       "      <td>78.0</td>\n",
       "      <td>上海</td>\n",
       "      <td>绿*****园</td>\n",
       "    </tr>\n",
       "    <tr>\n",
       "      <td>459</td>\n",
       "      <td>妃子笑荔枝</td>\n",
       "      <td>70.0</td>\n",
       "      <td>兴化</td>\n",
       "      <td>果***你</td>\n",
       "    </tr>\n",
       "  </tbody>\n",
       "</table>\n",
       "</div>"
      ],
      "text/plain": [
       "        productName  price city         store\n",
       "1648  海南妃子笑荔枝【500g】   98.0   银川      F******店\n",
       "249           妃子笑荔枝   80.0   洮南         谷***果\n",
       "1669      海南妃子笑500g   78.0   上海  绿**********）\n",
       "1671      海南妃子笑500g   78.0   上海       绿*****园\n",
       "459           妃子笑荔枝   70.0   兴化         果***你"
      ]
     },
     "execution_count": 18,
     "metadata": {},
     "output_type": "execute_result"
    }
   ],
   "source": [
    "def anonymous(data):\n",
    "    rpc_str = data[1:-1]\n",
    "    rpc_str_len = len(rpc_str)\n",
    "    return data.replace(rpc_str, '*'*rpc_str_len)\n",
    "    \n",
    "\n",
    "top5_store['store'] = top5_store['store'].apply(anonymous)\n",
    "top5_store"
   ]
  },
  {
   "cell_type": "code",
   "execution_count": 19,
   "metadata": {},
   "outputs": [
    {
     "data": {
      "text/html": [
       "<div>\n",
       "<style scoped>\n",
       "    .dataframe tbody tr th:only-of-type {\n",
       "        vertical-align: middle;\n",
       "    }\n",
       "\n",
       "    .dataframe tbody tr th {\n",
       "        vertical-align: top;\n",
       "    }\n",
       "\n",
       "    .dataframe thead th {\n",
       "        text-align: right;\n",
       "    }\n",
       "</style>\n",
       "<table border=\"1\" class=\"dataframe\">\n",
       "  <thead>\n",
       "    <tr style=\"text-align: right;\">\n",
       "      <th></th>\n",
       "      <th>price</th>\n",
       "      <th>productName</th>\n",
       "      <th>city</th>\n",
       "      <th>province</th>\n",
       "      <th>store</th>\n",
       "    </tr>\n",
       "  </thead>\n",
       "  <tbody>\n",
       "    <tr>\n",
       "      <td>163</td>\n",
       "      <td>2.00</td>\n",
       "      <td>荔枝 1颗 （妃子笑）</td>\n",
       "      <td>新民</td>\n",
       "      <td>辽宁省</td>\n",
       "      <td>街*********店</td>\n",
       "    </tr>\n",
       "    <tr>\n",
       "      <td>1214</td>\n",
       "      <td>0.57</td>\n",
       "      <td>妃子笑荔枝 1粒 尝鲜</td>\n",
       "      <td>长沙</td>\n",
       "      <td>湖南省</td>\n",
       "      <td>果**********）</td>\n",
       "    </tr>\n",
       "    <tr>\n",
       "      <td>1242</td>\n",
       "      <td>0.57</td>\n",
       "      <td>妃子笑荔枝 1粒 尝鲜</td>\n",
       "      <td>株洲</td>\n",
       "      <td>湖南省</td>\n",
       "      <td>果**********）</td>\n",
       "    </tr>\n",
       "    <tr>\n",
       "      <td>1245</td>\n",
       "      <td>0.57</td>\n",
       "      <td>妃子笑荔枝 1粒 尝鲜</td>\n",
       "      <td>株洲</td>\n",
       "      <td>湖南省</td>\n",
       "      <td>果**********）</td>\n",
       "    </tr>\n",
       "    <tr>\n",
       "      <td>1251</td>\n",
       "      <td>0.57</td>\n",
       "      <td>妃子笑荔枝 1粒 尝鲜</td>\n",
       "      <td>湘潭</td>\n",
       "      <td>湖南省</td>\n",
       "      <td>果*********）</td>\n",
       "    </tr>\n",
       "    <tr>\n",
       "      <td>1256</td>\n",
       "      <td>0.57</td>\n",
       "      <td>妃子笑荔枝 1粒 尝鲜</td>\n",
       "      <td>湘潭</td>\n",
       "      <td>湖南省</td>\n",
       "      <td>果*********）</td>\n",
       "    </tr>\n",
       "    <tr>\n",
       "      <td>1450</td>\n",
       "      <td>2.00</td>\n",
       "      <td>妃子笑荔枝/个</td>\n",
       "      <td>三亚</td>\n",
       "      <td>海南省</td>\n",
       "      <td>亚***市</td>\n",
       "    </tr>\n",
       "  </tbody>\n",
       "</table>\n",
       "</div>"
      ],
      "text/plain": [
       "      price  productName city province         store\n",
       "163    2.00  荔枝 1颗 （妃子笑）   新民      辽宁省   街*********店\n",
       "1214   0.57  妃子笑荔枝 1粒 尝鲜   长沙      湖南省  果**********）\n",
       "1242   0.57  妃子笑荔枝 1粒 尝鲜   株洲      湖南省  果**********）\n",
       "1245   0.57  妃子笑荔枝 1粒 尝鲜   株洲      湖南省  果**********）\n",
       "1251   0.57  妃子笑荔枝 1粒 尝鲜   湘潭      湖南省   果*********）\n",
       "1256   0.57  妃子笑荔枝 1粒 尝鲜   湘潭      湖南省   果*********）\n",
       "1450   2.00      妃子笑荔枝/个   三亚      海南省         亚***市"
      ]
     },
     "execution_count": 19,
     "metadata": {},
     "output_type": "execute_result"
    }
   ],
   "source": [
    "less_than_3 = lc[(lc['price_per_jin']<3)&(lc['price']>0.1)][['price', 'productName', 'city', 'province', 'store']]\n",
    "less_than_3['store'] = less_than_3['store'].apply(anonymous)\n",
    "less_than_3"
   ]
  },
  {
   "cell_type": "code",
   "execution_count": 20,
   "metadata": {},
   "outputs": [],
   "source": [
    "lc = lc[lc['price_per_jin']>3]"
   ]
  },
  {
   "cell_type": "markdown",
   "metadata": {},
   "source": [
    "#### 2. 哪些城市吃荔枝最贵？"
   ]
  },
  {
   "cell_type": "code",
   "execution_count": 21,
   "metadata": {},
   "outputs": [],
   "source": [
    "top10_city = lc.groupby('city')['price_per_jin'].mean().nlargest(10)"
   ]
  },
  {
   "cell_type": "code",
   "execution_count": 22,
   "metadata": {},
   "outputs": [
    {
     "name": "stdout",
     "output_type": "stream",
     "text": [
      "Requirement already satisfied: pyecharts==0.1.9.4 in d:\\software\\anaconda\\lib\\site-packages (0.1.9.4)\n",
      "Requirement already satisfied: jinja2 in d:\\software\\anaconda\\lib\\site-packages (from pyecharts==0.1.9.4) (2.10.3)\n",
      "Requirement already satisfied: pillow in d:\\software\\anaconda\\lib\\site-packages (from pyecharts==0.1.9.4) (6.2.0)\n",
      "Requirement already satisfied: future in d:\\software\\anaconda\\lib\\site-packages (from pyecharts==0.1.9.4) (0.17.1)\n",
      "Requirement already satisfied: MarkupSafe>=0.23 in d:\\software\\anaconda\\lib\\site-packages (from jinja2->pyecharts==0.1.9.4) (1.1.1)\n",
      "Note: you may need to restart the kernel to use updated packages.\n"
     ]
    }
   ],
   "source": [
    "pip install pyecharts==0.1.9.4"
   ]
  },
  {
   "cell_type": "code",
   "execution_count": 23,
   "metadata": {},
   "outputs": [
    {
     "name": "stdout",
     "output_type": "stream",
     "text": [
      "Requirement already satisfied: echarts-themes-pypkg in d:\\software\\anaconda\\lib\\site-packages (0.0.3)\n",
      "Requirement already satisfied: pyecharts-jupyter-installer==0.0.3 in d:\\software\\anaconda\\lib\\site-packages (from echarts-themes-pypkg) (0.0.3)\n",
      "Requirement already satisfied: lml>=0.0.2 in d:\\software\\anaconda\\lib\\site-packages (from echarts-themes-pypkg) (0.0.2)\n",
      "Note: you may need to restart the kernel to use updated packages.\n"
     ]
    }
   ],
   "source": [
    "pip install echarts-themes-pypkg"
   ]
  },
  {
   "cell_type": "code",
   "execution_count": 24,
   "metadata": {},
   "outputs": [
    {
     "name": "stdout",
     "output_type": "stream",
     "text": [
      "Requirement already satisfied: wheel in d:\\software\\anaconda\\lib\\site-packages (0.33.6)\n",
      "Note: you may need to restart the kernel to use updated packages.\n"
     ]
    }
   ],
   "source": [
    "pip install wheel"
   ]
  },
  {
   "cell_type": "code",
   "execution_count": 29,
   "metadata": {},
   "outputs": [
    {
     "data": {
      "image/png": "[encoded data removed]",
      "text/plain": [
       "<Figure size 576x576 with 1 Axes>"
      ]
     },
     "metadata": {
      "needs_background": "light"
     },
     "output_type": "display_data"
    }
   ],
   "source": [
    "\n",
    "plt.figure(figsize=(8, 8))\n",
    "sns.barplot(x=top10_city.index, y=np.round(top10_city.values, 0))\n",
    "plt.show()"
   ]
  },
  {
   "cell_type": "markdown",
   "metadata": {},
   "source": [
    "#### 3. 原产地是否有价格优势？\n",
    "国内原产地为：广东、福建、海南"
   ]
  },
  {
   "cell_type": "code",
   "execution_count": 30,
   "metadata": {},
   "outputs": [],
   "source": [
    "small10_city = lc[lc['province'].isin(['广东省', '福建省', '海南省'])].groupby('city')['price_per_jin'].mean().nsmallest(5)"
   ]
  },
  {
   "cell_type": "code",
   "execution_count": 33,
   "metadata": {},
   "outputs": [
    {
     "data": {
      "image/png": "[encoded data removed]",
      "text/plain": [
       "<Figure size 360x360 with 1 Axes>"
      ]
     },
     "metadata": {
      "needs_background": "light"
     },
     "output_type": "display_data"
    }
   ],
   "source": [
    "\n",
    "plt.figure(figsize=(5, 5))\n",
    "sns.barplot(x=small10_city.index, y=np.round(small10_city.values, 1))\n",
    "plt.show()"
   ]
  },
  {
   "cell_type": "code",
   "execution_count": 34,
   "metadata": {},
   "outputs": [
    {
     "data": {
      "text/plain": [
       "city\n",
       "茂名    10.0\n",
       "儋州    10.5\n",
       "宁德    13.0\n",
       "汕尾    13.8\n",
       "河源    13.8\n",
       "Name: price_per_jin, dtype: float64"
      ]
     },
     "execution_count": 34,
     "metadata": {},
     "output_type": "execute_result"
    }
   ],
   "source": [
    "small10_city"
   ]
  },
  {
   "cell_type": "code",
   "execution_count": 35,
   "metadata": {},
   "outputs": [
    {
     "data": {
      "text/plain": [
       "city\n",
       "厦门    18.452381\n",
       "广州    18.426316\n",
       "深圳    18.156944\n",
       "Name: price_per_jin, dtype: float64"
      ]
     },
     "execution_count": 35,
     "metadata": {},
     "output_type": "execute_result"
    }
   ],
   "source": [
    "lc[lc['city'].isin(['广州', '深圳', '厦门'])].groupby('city')['price_per_jin'].mean()"
   ]
  },
  {
   "cell_type": "markdown",
   "metadata": {},
   "source": [
    "#### 4. 全国荔枝平均价格图"
   ]
  },
  {
   "cell_type": "code",
   "execution_count": 36,
   "metadata": {},
   "outputs": [],
   "source": [
    "lc_province = lc.groupby('province')['price_per_jin'].mean().reset_index(name='price')"
   ]
  },
  {
   "cell_type": "code",
   "execution_count": 37,
   "metadata": {},
   "outputs": [],
   "source": [
    "lc_province['province'] = lc_province['province'].str.replace('省|市|自治区|回族自治区|壮族自治区|维吾尔自治区', '')"
   ]
  },
  {
   "cell_type": "code",
   "execution_count": 38,
   "metadata": {},
   "outputs": [],
   "source": [
    "# 政治上要正确，用平均价格补足西藏和台湾的荔枝价格\n",
    "lc_province = pd.concat([lc_province, pd.DataFrame({'province':['西藏', '台湾'],\n",
    "                                                  'price':[22, 22]})])"
   ]
  },
  {
   "cell_type": "code",
   "execution_count": 39,
   "metadata": {},
   "outputs": [
    {
     "data": {
      "text/plain": [
       "39.8"
      ]
     },
     "execution_count": 39,
     "metadata": {},
     "output_type": "execute_result"
    }
   ],
   "source": [
    "lc_province['price'].max()"
   ]
  },
  {
   "cell_type": "code",
   "execution_count": 56,
   "metadata": {
    "scrolled": false
   },
   "outputs": [
    {
     "data": {
      "text/plain": [
       "0"
      ]
     },
     "execution_count": 56,
     "metadata": {},
     "output_type": "execute_result"
    }
   ],
   "source": [
    "#from pyecharts import CurrentConfig, NotebookType, OnlineHostType\n",
    "# CurrentConfig.ONLINE_HOST = \"https://www.echartsjs.com/examples/vendors/echarts/\"\n",
    "#CurrentConfig.ONLINE_HOST = \"https://assets.pyecharts.org/assets/\"\n",
    "from pyecharts import Map\n",
    "\n",
    "import os\n",
    "\n",
    "map = Map(\"全国各省份荔枝平均价格图\", width=800, height=800)\n",
    "map.add(\n",
    "    \"\",\n",
    "    lc_province['province'],\n",
    "    np.round(lc_province['price'], 0),\n",
    "    maptype=\"china\",\n",
    "    is_visualmap=True,\n",
    "    visual_text_color=\"#000\",\n",
    "    visual_range=[0, 40],\n",
    "    is_label_show=True\n",
    ")\n",
    "map.render()\n",
    "\n",
    "os.system(\"render.html\")"
   ]
  },
  {
   "cell_type": "markdown",
   "metadata": {},
   "source": [
    "#### 注：这里和后面的map图由于环境等问题没有解决，最后没有交互展示只能网页展示了QaQ"
   ]
  },
  {
   "cell_type": "code",
   "execution_count": 57,
   "metadata": {},
   "outputs": [],
   "source": [
    "salary = pd.read_csv('D:\\work\\salary.csv') "
   ]
  },
  {
   "cell_type": "code",
   "execution_count": 58,
   "metadata": {},
   "outputs": [],
   "source": [
    "salary = salary[['地区', '标准实行时间', '第一档']]"
   ]
  },
  {
   "cell_type": "code",
   "execution_count": 59,
   "metadata": {},
   "outputs": [],
   "source": [
    "lc_province = lc_province.merge(salary, left_on='province', right_on='地区')"
   ]
  },
  {
   "cell_type": "code",
   "execution_count": 60,
   "metadata": {},
   "outputs": [],
   "source": [
    "lc_province['salary_lc'] = np.round(lc_province['第一档']/lc_province['price'], 1)"
   ]
  },
  {
   "cell_type": "code",
   "execution_count": 61,
   "metadata": {},
   "outputs": [
    {
     "data": {
      "text/plain": [
       "114.8"
      ]
     },
     "execution_count": 61,
     "metadata": {},
     "output_type": "execute_result"
    }
   ],
   "source": [
    "lc_province['salary_lc'].max()"
   ]
  },
  {
   "cell_type": "code",
   "execution_count": 62,
   "metadata": {
    "scrolled": true
   },
   "outputs": [
    {
     "data": {
      "text/html": [
       "<div>\n",
       "<style scoped>\n",
       "    .dataframe tbody tr th:only-of-type {\n",
       "        vertical-align: middle;\n",
       "    }\n",
       "\n",
       "    .dataframe tbody tr th {\n",
       "        vertical-align: top;\n",
       "    }\n",
       "\n",
       "    .dataframe thead th {\n",
       "        text-align: right;\n",
       "    }\n",
       "</style>\n",
       "<table border=\"1\" class=\"dataframe\">\n",
       "  <thead>\n",
       "    <tr style=\"text-align: right;\">\n",
       "      <th></th>\n",
       "      <th>province</th>\n",
       "      <th>price</th>\n",
       "      <th>地区</th>\n",
       "      <th>标准实行时间</th>\n",
       "      <th>第一档</th>\n",
       "      <th>salary_lc</th>\n",
       "    </tr>\n",
       "  </thead>\n",
       "  <tbody>\n",
       "    <tr>\n",
       "      <td>0</td>\n",
       "      <td>上海</td>\n",
       "      <td>35.817612</td>\n",
       "      <td>上海</td>\n",
       "      <td>2018.04.01</td>\n",
       "      <td>2420</td>\n",
       "      <td>67.6</td>\n",
       "    </tr>\n",
       "    <tr>\n",
       "      <td>1</td>\n",
       "      <td>云南</td>\n",
       "      <td>23.634825</td>\n",
       "      <td>云南</td>\n",
       "      <td>2018.05.01</td>\n",
       "      <td>1670</td>\n",
       "      <td>70.7</td>\n",
       "    </tr>\n",
       "    <tr>\n",
       "      <td>2</td>\n",
       "      <td>内蒙古</td>\n",
       "      <td>19.870800</td>\n",
       "      <td>内蒙古</td>\n",
       "      <td>2017.08.01</td>\n",
       "      <td>1760</td>\n",
       "      <td>88.6</td>\n",
       "    </tr>\n",
       "    <tr>\n",
       "      <td>3</td>\n",
       "      <td>北京</td>\n",
       "      <td>21.416765</td>\n",
       "      <td>北京</td>\n",
       "      <td>2018.09.01</td>\n",
       "      <td>2120</td>\n",
       "      <td>99.0</td>\n",
       "    </tr>\n",
       "    <tr>\n",
       "      <td>4</td>\n",
       "      <td>吉林</td>\n",
       "      <td>17.073333</td>\n",
       "      <td>吉林</td>\n",
       "      <td>2017.10.01</td>\n",
       "      <td>1780</td>\n",
       "      <td>104.3</td>\n",
       "    </tr>\n",
       "    <tr>\n",
       "      <td>5</td>\n",
       "      <td>四川</td>\n",
       "      <td>24.567586</td>\n",
       "      <td>四川</td>\n",
       "      <td>2018.07.01</td>\n",
       "      <td>1780</td>\n",
       "      <td>72.5</td>\n",
       "    </tr>\n",
       "    <tr>\n",
       "      <td>6</td>\n",
       "      <td>天津</td>\n",
       "      <td>32.135556</td>\n",
       "      <td>天津</td>\n",
       "      <td>2017.07.01</td>\n",
       "      <td>2050</td>\n",
       "      <td>63.8</td>\n",
       "    </tr>\n",
       "    <tr>\n",
       "      <td>7</td>\n",
       "      <td>宁夏</td>\n",
       "      <td>29.023333</td>\n",
       "      <td>宁夏</td>\n",
       "      <td>2017.10.01</td>\n",
       "      <td>1660</td>\n",
       "      <td>57.2</td>\n",
       "    </tr>\n",
       "    <tr>\n",
       "      <td>8</td>\n",
       "      <td>安徽</td>\n",
       "      <td>23.613700</td>\n",
       "      <td>安徽</td>\n",
       "      <td>2015.11.01</td>\n",
       "      <td>1520</td>\n",
       "      <td>64.4</td>\n",
       "    </tr>\n",
       "    <tr>\n",
       "      <td>9</td>\n",
       "      <td>山东</td>\n",
       "      <td>24.235354</td>\n",
       "      <td>山东</td>\n",
       "      <td>2018.06.01</td>\n",
       "      <td>1910</td>\n",
       "      <td>78.8</td>\n",
       "    </tr>\n",
       "    <tr>\n",
       "      <td>10</td>\n",
       "      <td>山西</td>\n",
       "      <td>22.214510</td>\n",
       "      <td>山西</td>\n",
       "      <td>2017.10.01</td>\n",
       "      <td>1700</td>\n",
       "      <td>76.5</td>\n",
       "    </tr>\n",
       "    <tr>\n",
       "      <td>11</td>\n",
       "      <td>广东</td>\n",
       "      <td>18.290976</td>\n",
       "      <td>广东</td>\n",
       "      <td>2018.07.01</td>\n",
       "      <td>2100</td>\n",
       "      <td>114.8</td>\n",
       "    </tr>\n",
       "    <tr>\n",
       "      <td>12</td>\n",
       "      <td>广西</td>\n",
       "      <td>19.027778</td>\n",
       "      <td>广西</td>\n",
       "      <td>2018.02.01</td>\n",
       "      <td>1680</td>\n",
       "      <td>88.3</td>\n",
       "    </tr>\n",
       "    <tr>\n",
       "      <td>13</td>\n",
       "      <td>新疆</td>\n",
       "      <td>24.833333</td>\n",
       "      <td>新疆</td>\n",
       "      <td>2018.01.01</td>\n",
       "      <td>1820</td>\n",
       "      <td>73.3</td>\n",
       "    </tr>\n",
       "    <tr>\n",
       "      <td>14</td>\n",
       "      <td>江苏</td>\n",
       "      <td>26.750030</td>\n",
       "      <td>江苏</td>\n",
       "      <td>2018.08.01</td>\n",
       "      <td>2020</td>\n",
       "      <td>75.5</td>\n",
       "    </tr>\n",
       "    <tr>\n",
       "      <td>15</td>\n",
       "      <td>江西</td>\n",
       "      <td>23.416471</td>\n",
       "      <td>江西</td>\n",
       "      <td>2018.01.01</td>\n",
       "      <td>1680</td>\n",
       "      <td>71.7</td>\n",
       "    </tr>\n",
       "    <tr>\n",
       "      <td>16</td>\n",
       "      <td>河北</td>\n",
       "      <td>22.109603</td>\n",
       "      <td>河北</td>\n",
       "      <td>2016.07.01</td>\n",
       "      <td>1650</td>\n",
       "      <td>74.6</td>\n",
       "    </tr>\n",
       "    <tr>\n",
       "      <td>17</td>\n",
       "      <td>河南</td>\n",
       "      <td>20.339922</td>\n",
       "      <td>河南</td>\n",
       "      <td>2017.10.01</td>\n",
       "      <td>1720</td>\n",
       "      <td>84.6</td>\n",
       "    </tr>\n",
       "    <tr>\n",
       "      <td>18</td>\n",
       "      <td>浙江</td>\n",
       "      <td>24.391887</td>\n",
       "      <td>浙江</td>\n",
       "      <td>2017.12.01</td>\n",
       "      <td>2010</td>\n",
       "      <td>82.4</td>\n",
       "    </tr>\n",
       "    <tr>\n",
       "      <td>19</td>\n",
       "      <td>海南</td>\n",
       "      <td>15.705556</td>\n",
       "      <td>海南</td>\n",
       "      <td>2016.05.01</td>\n",
       "      <td>1430</td>\n",
       "      <td>91.1</td>\n",
       "    </tr>\n",
       "    <tr>\n",
       "      <td>20</td>\n",
       "      <td>湖北</td>\n",
       "      <td>24.298579</td>\n",
       "      <td>湖北</td>\n",
       "      <td>2017.11.01</td>\n",
       "      <td>1750</td>\n",
       "      <td>72.0</td>\n",
       "    </tr>\n",
       "    <tr>\n",
       "      <td>21</td>\n",
       "      <td>湖南</td>\n",
       "      <td>22.179669</td>\n",
       "      <td>湖南</td>\n",
       "      <td>2017.07.01</td>\n",
       "      <td>1580</td>\n",
       "      <td>71.2</td>\n",
       "    </tr>\n",
       "    <tr>\n",
       "      <td>22</td>\n",
       "      <td>甘肃</td>\n",
       "      <td>23.677221</td>\n",
       "      <td>甘肃</td>\n",
       "      <td>2017.06.01</td>\n",
       "      <td>1620</td>\n",
       "      <td>68.4</td>\n",
       "    </tr>\n",
       "    <tr>\n",
       "      <td>23</td>\n",
       "      <td>福建</td>\n",
       "      <td>19.600242</td>\n",
       "      <td>福建</td>\n",
       "      <td>2017.07.01</td>\n",
       "      <td>1700</td>\n",
       "      <td>86.7</td>\n",
       "    </tr>\n",
       "    <tr>\n",
       "      <td>24</td>\n",
       "      <td>贵州</td>\n",
       "      <td>22.304074</td>\n",
       "      <td>贵州</td>\n",
       "      <td>2017.07.01</td>\n",
       "      <td>1680</td>\n",
       "      <td>75.3</td>\n",
       "    </tr>\n",
       "    <tr>\n",
       "      <td>25</td>\n",
       "      <td>辽宁</td>\n",
       "      <td>16.092300</td>\n",
       "      <td>辽宁</td>\n",
       "      <td>2018.01.01</td>\n",
       "      <td>1620</td>\n",
       "      <td>100.7</td>\n",
       "    </tr>\n",
       "    <tr>\n",
       "      <td>26</td>\n",
       "      <td>重庆</td>\n",
       "      <td>39.800000</td>\n",
       "      <td>重庆</td>\n",
       "      <td>2016.01.01</td>\n",
       "      <td>1500</td>\n",
       "      <td>37.7</td>\n",
       "    </tr>\n",
       "    <tr>\n",
       "      <td>27</td>\n",
       "      <td>陕西</td>\n",
       "      <td>23.599286</td>\n",
       "      <td>陕西</td>\n",
       "      <td>2017.05.01</td>\n",
       "      <td>1680</td>\n",
       "      <td>71.2</td>\n",
       "    </tr>\n",
       "    <tr>\n",
       "      <td>28</td>\n",
       "      <td>青海</td>\n",
       "      <td>19.553333</td>\n",
       "      <td>青海</td>\n",
       "      <td>2017.05.01</td>\n",
       "      <td>1500</td>\n",
       "      <td>76.7</td>\n",
       "    </tr>\n",
       "    <tr>\n",
       "      <td>29</td>\n",
       "      <td>黑龙江</td>\n",
       "      <td>16.788333</td>\n",
       "      <td>黑龙江</td>\n",
       "      <td>2017.10.01</td>\n",
       "      <td>1680</td>\n",
       "      <td>100.1</td>\n",
       "    </tr>\n",
       "    <tr>\n",
       "      <td>30</td>\n",
       "      <td>西藏</td>\n",
       "      <td>22.000000</td>\n",
       "      <td>西藏</td>\n",
       "      <td>2018.01.01</td>\n",
       "      <td>1650</td>\n",
       "      <td>75.0</td>\n",
       "    </tr>\n",
       "  </tbody>\n",
       "</table>\n",
       "</div>"
      ],
      "text/plain": [
       "   province      price   地区      标准实行时间   第一档  salary_lc\n",
       "0        上海  35.817612   上海  2018.04.01  2420       67.6\n",
       "1        云南  23.634825   云南  2018.05.01  1670       70.7\n",
       "2       内蒙古  19.870800  内蒙古  2017.08.01  1760       88.6\n",
       "3        北京  21.416765   北京  2018.09.01  2120       99.0\n",
       "4        吉林  17.073333   吉林  2017.10.01  1780      104.3\n",
       "5        四川  24.567586   四川  2018.07.01  1780       72.5\n",
       "6        天津  32.135556   天津  2017.07.01  2050       63.8\n",
       "7        宁夏  29.023333   宁夏  2017.10.01  1660       57.2\n",
       "8        安徽  23.613700   安徽  2015.11.01  1520       64.4\n",
       "9        山东  24.235354   山东  2018.06.01  1910       78.8\n",
       "10       山西  22.214510   山西  2017.10.01  1700       76.5\n",
       "11       广东  18.290976   广东  2018.07.01  2100      114.8\n",
       "12       广西  19.027778   广西  2018.02.01  1680       88.3\n",
       "13       新疆  24.833333   新疆  2018.01.01  1820       73.3\n",
       "14       江苏  26.750030   江苏  2018.08.01  2020       75.5\n",
       "15       江西  23.416471   江西  2018.01.01  1680       71.7\n",
       "16       河北  22.109603   河北  2016.07.01  1650       74.6\n",
       "17       河南  20.339922   河南  2017.10.01  1720       84.6\n",
       "18       浙江  24.391887   浙江  2017.12.01  2010       82.4\n",
       "19       海南  15.705556   海南  2016.05.01  1430       91.1\n",
       "20       湖北  24.298579   湖北  2017.11.01  1750       72.0\n",
       "21       湖南  22.179669   湖南  2017.07.01  1580       71.2\n",
       "22       甘肃  23.677221   甘肃  2017.06.01  1620       68.4\n",
       "23       福建  19.600242   福建  2017.07.01  1700       86.7\n",
       "24       贵州  22.304074   贵州  2017.07.01  1680       75.3\n",
       "25       辽宁  16.092300   辽宁  2018.01.01  1620      100.7\n",
       "26       重庆  39.800000   重庆  2016.01.01  1500       37.7\n",
       "27       陕西  23.599286   陕西  2017.05.01  1680       71.2\n",
       "28       青海  19.553333   青海  2017.05.01  1500       76.7\n",
       "29      黑龙江  16.788333  黑龙江  2017.10.01  1680      100.1\n",
       "30       西藏  22.000000   西藏  2018.01.01  1650       75.0"
      ]
     },
     "execution_count": 62,
     "metadata": {},
     "output_type": "execute_result"
    }
   ],
   "source": [
    "lc_province"
   ]
  },
  {
   "cell_type": "code",
   "execution_count": 64,
   "metadata": {},
   "outputs": [
    {
     "data": {
      "text/plain": [
       "0"
      ]
     },
     "execution_count": 64,
     "metadata": {},
     "output_type": "execute_result"
    }
   ],
   "source": [
    "import os\n",
    "map = Map(\"各省最低工资可购买荔枝斤数\", width=800, height=800)\n",
    "map.add(\n",
    "    \"\",\n",
    "    lc_province['province'],\n",
    "    lc_province['salary_lc'],\n",
    "    maptype=\"china\",\n",
    "    is_visualmap=True,\n",
    "    visual_text_color=\"#000\",\n",
    "    visual_range=[0, 115],\n",
    "    is_label_show=True\n",
    ")\n",
    "map.render()\n",
    "\n",
    "os.system(\"render.html\")"
   ]
  },
  {
   "cell_type": "markdown",
   "metadata": {},
   "source": [
    "# 4. 西瓜自由(与荔枝类似）"
   ]
  },
  {
   "cell_type": "code",
   "execution_count": 66,
   "metadata": {
    "scrolled": true
   },
   "outputs": [],
   "source": [
    "wm = pd.read_csv('D:\\work\\watermelon.csv')"
   ]
  },
  {
   "cell_type": "code",
   "execution_count": 67,
   "metadata": {
    "scrolled": true
   },
   "outputs": [
    {
     "data": {
      "text/html": [
       "<div>\n",
       "<style scoped>\n",
       "    .dataframe tbody tr th:only-of-type {\n",
       "        vertical-align: middle;\n",
       "    }\n",
       "\n",
       "    .dataframe tbody tr th {\n",
       "        vertical-align: top;\n",
       "    }\n",
       "\n",
       "    .dataframe thead th {\n",
       "        text-align: right;\n",
       "    }\n",
       "</style>\n",
       "<table border=\"1\" class=\"dataframe\">\n",
       "  <thead>\n",
       "    <tr style=\"text-align: right;\">\n",
       "      <th></th>\n",
       "      <th>monthSales</th>\n",
       "      <th>originalPrice</th>\n",
       "      <th>praiseContent</th>\n",
       "      <th>price</th>\n",
       "      <th>productName</th>\n",
       "      <th>productSpuId</th>\n",
       "      <th>productStatus</th>\n",
       "      <th>promotionInfo</th>\n",
       "      <th>wmPoiId</th>\n",
       "      <th>city</th>\n",
       "      <th>province</th>\n",
       "      <th>store</th>\n",
       "    </tr>\n",
       "  </thead>\n",
       "  <tbody>\n",
       "    <tr>\n",
       "      <td>2501</td>\n",
       "      <td>94</td>\n",
       "      <td>11.0</td>\n",
       "      <td>赞0</td>\n",
       "      <td>7.00</td>\n",
       "      <td>西瓜沙冰700ml</td>\n",
       "      <td>608067671</td>\n",
       "      <td>0</td>\n",
       "      <td>6.36折</td>\n",
       "      <td>1079846154338269</td>\n",
       "      <td>辽阳</td>\n",
       "      <td>辽宁省</td>\n",
       "      <td>阿牛与仙草（烧仙草专卖店）</td>\n",
       "    </tr>\n",
       "    <tr>\n",
       "      <td>11523</td>\n",
       "      <td>8</td>\n",
       "      <td>28.0</td>\n",
       "      <td>赞0</td>\n",
       "      <td>28.00</td>\n",
       "      <td>解暑西瓜果切</td>\n",
       "      <td>1066852567</td>\n",
       "      <td>0</td>\n",
       "      <td>NaN</td>\n",
       "      <td>1068863922911685</td>\n",
       "      <td>当阳</td>\n",
       "      <td>湖北省</td>\n",
       "      <td>果果多（广洲路店）</td>\n",
       "    </tr>\n",
       "    <tr>\n",
       "      <td>794</td>\n",
       "      <td>0</td>\n",
       "      <td>40.0</td>\n",
       "      <td>赞0</td>\n",
       "      <td>40.00</td>\n",
       "      <td>黑美人西瓜 西瓜 一个价格大约重九斤左右</td>\n",
       "      <td>1198852267</td>\n",
       "      <td>0</td>\n",
       "      <td>NaN</td>\n",
       "      <td>898151857792088</td>\n",
       "      <td>冀州</td>\n",
       "      <td>河北省</td>\n",
       "      <td>沃林水果店</td>\n",
       "    </tr>\n",
       "    <tr>\n",
       "      <td>8918</td>\n",
       "      <td>3</td>\n",
       "      <td>13.8</td>\n",
       "      <td>赞0</td>\n",
       "      <td>13.52</td>\n",
       "      <td>果切 哈密瓜 凤梨 西瓜320g</td>\n",
       "      <td>1021591311</td>\n",
       "      <td>0</td>\n",
       "      <td>9.8折</td>\n",
       "      <td>922568746877138</td>\n",
       "      <td>平度</td>\n",
       "      <td>山东省</td>\n",
       "      <td>玲珑鲜果</td>\n",
       "    </tr>\n",
       "    <tr>\n",
       "      <td>7492</td>\n",
       "      <td>11</td>\n",
       "      <td>8.0</td>\n",
       "      <td>赞1</td>\n",
       "      <td>8.00</td>\n",
       "      <td>西瓜冰沙</td>\n",
       "      <td>215962239</td>\n",
       "      <td>0</td>\n",
       "      <td>NaN</td>\n",
       "      <td>854867177422113</td>\n",
       "      <td>武夷山</td>\n",
       "      <td>福建省</td>\n",
       "      <td>思味甜品店（市区店）</td>\n",
       "    </tr>\n",
       "  </tbody>\n",
       "</table>\n",
       "</div>"
      ],
      "text/plain": [
       "       monthSales  originalPrice praiseContent  price           productName  \\\n",
       "2501           94           11.0            赞0   7.00             西瓜沙冰700ml   \n",
       "11523           8           28.0            赞0  28.00                解暑西瓜果切   \n",
       "794             0           40.0            赞0  40.00  黑美人西瓜 西瓜 一个价格大约重九斤左右   \n",
       "8918            3           13.8            赞0  13.52      果切 哈密瓜 凤梨 西瓜320g   \n",
       "7492           11            8.0            赞1   8.00                  西瓜冰沙   \n",
       "\n",
       "       productSpuId  productStatus promotionInfo           wmPoiId city  \\\n",
       "2501      608067671              0         6.36折  1079846154338269   辽阳   \n",
       "11523    1066852567              0           NaN  1068863922911685   当阳   \n",
       "794      1198852267              0           NaN   898151857792088   冀州   \n",
       "8918     1021591311              0          9.8折   922568746877138   平度   \n",
       "7492      215962239              0           NaN   854867177422113  武夷山   \n",
       "\n",
       "      province          store  \n",
       "2501       辽宁省  阿牛与仙草（烧仙草专卖店）  \n",
       "11523      湖北省      果果多（广洲路店）  \n",
       "794        河北省          沃林水果店  \n",
       "8918       山东省           玲珑鲜果  \n",
       "7492       福建省     思味甜品店（市区店）  "
      ]
     },
     "execution_count": 67,
     "metadata": {},
     "output_type": "execute_result"
    }
   ],
   "source": [
    "wm.sample(5)\n",
    "# 黑美人、麒麟、红玉西瓜、墨童西瓜、冰镇西瓜、8428西瓜、无籽西瓜、山东甜西瓜、本地西瓜"
   ]
  },
  {
   "cell_type": "markdown",
   "metadata": {},
   "source": [
    "### 1.数据处理\n",
    "- 一是把不是西瓜的记录清掉；\n",
    "- 二是统一度量标准，单位比较乱，有以克为单位的，以千克为单位的，还有以斤、半斤为单位的；\n",
    "- 三是去重、数据类型转换等"
   ]
  },
  {
   "cell_type": "markdown",
   "metadata": {},
   "source": [
    "#### 1. 清理不是西瓜的记录"
   ]
  },
  {
   "cell_type": "code",
   "execution_count": 68,
   "metadata": {
    "scrolled": true
   },
   "outputs": [],
   "source": [
    "wm  = wm[wm['productName'].str.contains('黑美人|麒麟|红玉|墨童|冰镇西瓜|8428|无籽西瓜|山东甜西瓜|本地西瓜')]\n",
    "wm  = wm[-wm['productName'].str.contains('汽水|切|净|盒')]"
   ]
  },
  {
   "cell_type": "markdown",
   "metadata": {},
   "source": [
    "#### 2. 统一度量标准"
   ]
  },
  {
   "cell_type": "code",
   "execution_count": 69,
   "metadata": {},
   "outputs": [],
   "source": [
    "def get_weight_wm(data):\n",
    "    if 'kg' in data:\n",
    "        kg = re.findall(pattern=pat_kg, string=data)\n",
    "        if len(kg) >0 and kg[0] != '':\n",
    "            return float(kg[0])*1000\n",
    "    elif 'Kg' in data:\n",
    "        return float(1000)\n",
    "    elif 'g' in data:\n",
    "        if re.findall(pattern=pat_g, string=data)[0] != '':\n",
    "            return float(re.findall(pattern=pat_g, string=data)[0])\n",
    "    elif '半斤'in data:\n",
    "        return float(250)\n",
    "    elif '一斤' in data:\n",
    "        return float(500)\n",
    "    elif '每斤' in data:\n",
    "        return float(500)\n",
    "    elif '十二斤' in data:\n",
    "        return float(6000)\n",
    "    elif '二斤' in data:\n",
    "        return float(1000)\n",
    "    elif '三斤半' in data:\n",
    "        return float(1750)\n",
    "    elif '三斤' in data:\n",
    "        return float(1500)\n",
    "    elif '四斤' in data:\n",
    "        return float(2000)\n",
    "    elif '五斤' in data:\n",
    "        return float(2500)\n",
    "    elif '六斤半' in data:\n",
    "        return float(3250)\n",
    "    elif '六斤' in data:\n",
    "        return float(3000)\n",
    "    elif '七斤' in data:\n",
    "        return float(3500)\n",
    "    elif '八斤' in data:\n",
    "        return float(4000)\n",
    "    elif '九斤' in data:\n",
    "        return float(4500)\n",
    "    elif '十斤' in data:\n",
    "        return float(5000)    \n",
    "    elif '/斤' in data:\n",
    "        return float(500)\n",
    "    elif '斤' in data:\n",
    "        jin = re.findall(pattern=pat_jin, string=data)\n",
    "        if len(jin) > 0 and jin[0] != '':\n",
    "            return float(jin[0])*500\n",
    "        else:\n",
    "            return float(500)\n",
    "    elif '克' in data:\n",
    "        ke = re.findall(pattern=pat_ke, string=data)\n",
    "        if len(ke) > 0 and ke[0] != '':\n",
    "            return float(ke[0])\n",
    "    elif '/个' in data:\n",
    "        return float(5000)\n",
    "    elif '半个' in data:\n",
    "        return float(2500)\n",
    "    elif '个' in data:\n",
    "        return float(5000)\n",
    "    else:\n",
    "        return np.nan"
   ]
  },
  {
   "cell_type": "code",
   "execution_count": 70,
   "metadata": {},
   "outputs": [],
   "source": [
    "wm['gram'] = wm['productName'].apply(get_weight_wm)"
   ]
  },
  {
   "cell_type": "code",
   "execution_count": 71,
   "metadata": {},
   "outputs": [
    {
     "data": {
      "text/html": [
       "<div>\n",
       "<style scoped>\n",
       "    .dataframe tbody tr th:only-of-type {\n",
       "        vertical-align: middle;\n",
       "    }\n",
       "\n",
       "    .dataframe tbody tr th {\n",
       "        vertical-align: top;\n",
       "    }\n",
       "\n",
       "    .dataframe thead th {\n",
       "        text-align: right;\n",
       "    }\n",
       "</style>\n",
       "<table border=\"1\" class=\"dataframe\">\n",
       "  <thead>\n",
       "    <tr style=\"text-align: right;\">\n",
       "      <th></th>\n",
       "      <th>productName</th>\n",
       "      <th>gram</th>\n",
       "      <th>price</th>\n",
       "    </tr>\n",
       "  </thead>\n",
       "  <tbody>\n",
       "    <tr>\n",
       "      <td>16752</td>\n",
       "      <td>本地西瓜 500g</td>\n",
       "      <td>500.0</td>\n",
       "      <td>3.5</td>\n",
       "    </tr>\n",
       "    <tr>\n",
       "      <td>1114</td>\n",
       "      <td>麒麟瓜 个</td>\n",
       "      <td>5000.0</td>\n",
       "      <td>50.0</td>\n",
       "    </tr>\n",
       "    <tr>\n",
       "      <td>4720</td>\n",
       "      <td>海南 海南麒麟西瓜 1个</td>\n",
       "      <td>5000.0</td>\n",
       "      <td>70.0</td>\n",
       "    </tr>\n",
       "    <tr>\n",
       "      <td>4714</td>\n",
       "      <td>海南麒麟西瓜</td>\n",
       "      <td>NaN</td>\n",
       "      <td>65.0</td>\n",
       "    </tr>\n",
       "    <tr>\n",
       "      <td>8358</td>\n",
       "      <td>麒麟瓜皮微厚 4斤左右</td>\n",
       "      <td>2000.0</td>\n",
       "      <td>22.8</td>\n",
       "    </tr>\n",
       "  </tbody>\n",
       "</table>\n",
       "</div>"
      ],
      "text/plain": [
       "        productName    gram  price\n",
       "16752     本地西瓜 500g   500.0    3.5\n",
       "1114          麒麟瓜 个  5000.0   50.0\n",
       "4720   海南 海南麒麟西瓜 1个  5000.0   70.0\n",
       "4714         海南麒麟西瓜     NaN   65.0\n",
       "8358    麒麟瓜皮微厚 4斤左右  2000.0   22.8"
      ]
     },
     "execution_count": 71,
     "metadata": {},
     "output_type": "execute_result"
    }
   ],
   "source": [
    "wm[['productName', 'gram', 'price']].sample(5)"
   ]
  },
  {
   "cell_type": "code",
   "execution_count": 72,
   "metadata": {},
   "outputs": [
    {
     "name": "stdout",
     "output_type": "stream",
     "text": [
      "<class 'pandas.core.frame.DataFrame'>\n",
      "Int64Index: 1523 entries, 18 to 17689\n",
      "Data columns (total 13 columns):\n",
      "monthSales       1523 non-null int64\n",
      "originalPrice    1523 non-null float64\n",
      "praiseContent    1523 non-null object\n",
      "price            1523 non-null float64\n",
      "productName      1523 non-null object\n",
      "productSpuId     1523 non-null int64\n",
      "productStatus    1523 non-null int64\n",
      "promotionInfo    125 non-null object\n",
      "wmPoiId          1523 non-null int64\n",
      "city             1523 non-null object\n",
      "province         1523 non-null object\n",
      "store            1523 non-null object\n",
      "gram             943 non-null float64\n",
      "dtypes: float64(3), int64(4), object(6)\n",
      "memory usage: 166.6+ KB\n"
     ]
    }
   ],
   "source": [
    "wm.info()"
   ]
  },
  {
   "cell_type": "code",
   "execution_count": 73,
   "metadata": {},
   "outputs": [],
   "source": [
    "wm = wm[wm['gram'].notnull()]"
   ]
  },
  {
   "cell_type": "code",
   "execution_count": 74,
   "metadata": {},
   "outputs": [],
   "source": [
    "wm['price_per_jin'] = wm['price'] / (wm['gram']/500)"
   ]
  },
  {
   "cell_type": "markdown",
   "metadata": {},
   "source": [
    "### 2.西瓜数据分析"
   ]
  },
  {
   "cell_type": "markdown",
   "metadata": {},
   "source": [
    "#### 1. 西瓜价格整体情况如何？"
   ]
  },
  {
   "cell_type": "code",
   "execution_count": 75,
   "metadata": {},
   "outputs": [
    {
     "data": {
      "text/html": [
       "<div>\n",
       "<style scoped>\n",
       "    .dataframe tbody tr th:only-of-type {\n",
       "        vertical-align: middle;\n",
       "    }\n",
       "\n",
       "    .dataframe tbody tr th {\n",
       "        vertical-align: top;\n",
       "    }\n",
       "\n",
       "    .dataframe thead th {\n",
       "        text-align: right;\n",
       "    }\n",
       "</style>\n",
       "<table border=\"1\" class=\"dataframe\">\n",
       "  <thead>\n",
       "    <tr style=\"text-align: right;\">\n",
       "      <th></th>\n",
       "      <th>monthSales</th>\n",
       "      <th>originalPrice</th>\n",
       "      <th>praiseContent</th>\n",
       "      <th>price</th>\n",
       "      <th>productName</th>\n",
       "      <th>productSpuId</th>\n",
       "      <th>productStatus</th>\n",
       "      <th>promotionInfo</th>\n",
       "      <th>wmPoiId</th>\n",
       "      <th>city</th>\n",
       "      <th>province</th>\n",
       "      <th>store</th>\n",
       "      <th>gram</th>\n",
       "      <th>price_per_jin</th>\n",
       "    </tr>\n",
       "  </thead>\n",
       "  <tbody>\n",
       "    <tr>\n",
       "      <td>37</td>\n",
       "      <td>0</td>\n",
       "      <td>65.80</td>\n",
       "      <td>赞0</td>\n",
       "      <td>65.80</td>\n",
       "      <td>麒麟西瓜 /个</td>\n",
       "      <td>1269632110</td>\n",
       "      <td>0</td>\n",
       "      <td>NaN</td>\n",
       "      <td>1024690184314426</td>\n",
       "      <td>唐山</td>\n",
       "      <td>河北省</td>\n",
       "      <td>乐家超市</td>\n",
       "      <td>5000.0</td>\n",
       "      <td>6.580000</td>\n",
       "    </tr>\n",
       "    <tr>\n",
       "      <td>162</td>\n",
       "      <td>11</td>\n",
       "      <td>29.50</td>\n",
       "      <td>赞0</td>\n",
       "      <td>29.50</td>\n",
       "      <td>黑美人西瓜 进口越南西部 个</td>\n",
       "      <td>1313114869</td>\n",
       "      <td>0</td>\n",
       "      <td>NaN</td>\n",
       "      <td>943468057787314</td>\n",
       "      <td>承德</td>\n",
       "      <td>河北省</td>\n",
       "      <td>海峰水果蔬菜超市</td>\n",
       "      <td>5000.0</td>\n",
       "      <td>2.950000</td>\n",
       "    </tr>\n",
       "    <tr>\n",
       "      <td>163</td>\n",
       "      <td>3</td>\n",
       "      <td>37.99</td>\n",
       "      <td>赞0</td>\n",
       "      <td>37.99</td>\n",
       "      <td>麒麟西瓜 半个</td>\n",
       "      <td>1298678405</td>\n",
       "      <td>0</td>\n",
       "      <td>NaN</td>\n",
       "      <td>943468057787314</td>\n",
       "      <td>承德</td>\n",
       "      <td>河北省</td>\n",
       "      <td>海峰水果蔬菜超市</td>\n",
       "      <td>2500.0</td>\n",
       "      <td>7.598000</td>\n",
       "    </tr>\n",
       "    <tr>\n",
       "      <td>165</td>\n",
       "      <td>0</td>\n",
       "      <td>39.90</td>\n",
       "      <td>赞0</td>\n",
       "      <td>39.90</td>\n",
       "      <td>早春红玉西瓜 皮薄 口感甘甜 个</td>\n",
       "      <td>1532341783</td>\n",
       "      <td>0</td>\n",
       "      <td>NaN</td>\n",
       "      <td>943468057787314</td>\n",
       "      <td>承德</td>\n",
       "      <td>河北省</td>\n",
       "      <td>海峰水果蔬菜超市</td>\n",
       "      <td>5000.0</td>\n",
       "      <td>3.990000</td>\n",
       "    </tr>\n",
       "    <tr>\n",
       "      <td>167</td>\n",
       "      <td>0</td>\n",
       "      <td>68.00</td>\n",
       "      <td>赞0</td>\n",
       "      <td>68.00</td>\n",
       "      <td>2484冰糖麒麟西瓜 5kg</td>\n",
       "      <td>1328735166</td>\n",
       "      <td>0</td>\n",
       "      <td>NaN</td>\n",
       "      <td>960420293659451</td>\n",
       "      <td>承德</td>\n",
       "      <td>河北省</td>\n",
       "      <td>丁丁果儿（卓越家园店）</td>\n",
       "      <td>5000.0</td>\n",
       "      <td>6.800000</td>\n",
       "    </tr>\n",
       "    <tr>\n",
       "      <td>...</td>\n",
       "      <td>...</td>\n",
       "      <td>...</td>\n",
       "      <td>...</td>\n",
       "      <td>...</td>\n",
       "      <td>...</td>\n",
       "      <td>...</td>\n",
       "      <td>...</td>\n",
       "      <td>...</td>\n",
       "      <td>...</td>\n",
       "      <td>...</td>\n",
       "      <td>...</td>\n",
       "      <td>...</td>\n",
       "      <td>...</td>\n",
       "      <td>...</td>\n",
       "    </tr>\n",
       "    <tr>\n",
       "      <td>17377</td>\n",
       "      <td>0</td>\n",
       "      <td>5.00</td>\n",
       "      <td>赞0</td>\n",
       "      <td>5.00</td>\n",
       "      <td>红玉西瓜 500g</td>\n",
       "      <td>1447147231</td>\n",
       "      <td>0</td>\n",
       "      <td>NaN</td>\n",
       "      <td>933508028582773</td>\n",
       "      <td>博乐</td>\n",
       "      <td>新疆维吾尔自治区</td>\n",
       "      <td>仁和春天生活广场</td>\n",
       "      <td>500.0</td>\n",
       "      <td>5.000000</td>\n",
       "    </tr>\n",
       "    <tr>\n",
       "      <td>17509</td>\n",
       "      <td>2</td>\n",
       "      <td>24.00</td>\n",
       "      <td>赞0</td>\n",
       "      <td>24.00</td>\n",
       "      <td>红玉西瓜 一个西瓜3公斤左右 3000g</td>\n",
       "      <td>1201568098</td>\n",
       "      <td>0</td>\n",
       "      <td>NaN</td>\n",
       "      <td>1111942444925361</td>\n",
       "      <td>伊宁</td>\n",
       "      <td>新疆维吾尔自治区</td>\n",
       "      <td>琪梦超市</td>\n",
       "      <td>3000.0</td>\n",
       "      <td>4.000000</td>\n",
       "    </tr>\n",
       "    <tr>\n",
       "      <td>17516</td>\n",
       "      <td>1</td>\n",
       "      <td>36.00</td>\n",
       "      <td>赞0</td>\n",
       "      <td>36.00</td>\n",
       "      <td>麒麟西瓜@双击666  约3000g</td>\n",
       "      <td>760380209</td>\n",
       "      <td>0</td>\n",
       "      <td>NaN</td>\n",
       "      <td>867240978191061</td>\n",
       "      <td>伊宁</td>\n",
       "      <td>新疆维吾尔自治区</td>\n",
       "      <td>杜林蔬菜店</td>\n",
       "      <td>3000.0</td>\n",
       "      <td>6.000000</td>\n",
       "    </tr>\n",
       "    <tr>\n",
       "      <td>17667</td>\n",
       "      <td>3</td>\n",
       "      <td>40.00</td>\n",
       "      <td>赞0</td>\n",
       "      <td>40.00</td>\n",
       "      <td>红玉西瓜 4600g</td>\n",
       "      <td>1499859520</td>\n",
       "      <td>0</td>\n",
       "      <td>NaN</td>\n",
       "      <td>1053732753144680</td>\n",
       "      <td>五家渠</td>\n",
       "      <td>新疆维吾尔自治区</td>\n",
       "      <td>田园果蔬</td>\n",
       "      <td>4600.0</td>\n",
       "      <td>4.347826</td>\n",
       "    </tr>\n",
       "    <tr>\n",
       "      <td>17689</td>\n",
       "      <td>0</td>\n",
       "      <td>4.00</td>\n",
       "      <td>赞0</td>\n",
       "      <td>4.00</td>\n",
       "      <td>无籽西瓜 500g</td>\n",
       "      <td>1275194539</td>\n",
       "      <td>0</td>\n",
       "      <td>NaN</td>\n",
       "      <td>1010035755847671</td>\n",
       "      <td>五家渠</td>\n",
       "      <td>新疆维吾尔自治区</td>\n",
       "      <td>宜嘉购物</td>\n",
       "      <td>500.0</td>\n",
       "      <td>4.000000</td>\n",
       "    </tr>\n",
       "  </tbody>\n",
       "</table>\n",
       "<p>943 rows × 14 columns</p>\n",
       "</div>"
      ],
      "text/plain": [
       "       monthSales  originalPrice praiseContent  price           productName  \\\n",
       "37              0          65.80            赞0  65.80               麒麟西瓜 /个   \n",
       "162            11          29.50            赞0  29.50        黑美人西瓜 进口越南西部 个   \n",
       "163             3          37.99            赞0  37.99               麒麟西瓜 半个   \n",
       "165             0          39.90            赞0  39.90      早春红玉西瓜 皮薄 口感甘甜 个   \n",
       "167             0          68.00            赞0  68.00        2484冰糖麒麟西瓜 5kg   \n",
       "...           ...            ...           ...    ...                   ...   \n",
       "17377           0           5.00            赞0   5.00             红玉西瓜 500g   \n",
       "17509           2          24.00            赞0  24.00  红玉西瓜 一个西瓜3公斤左右 3000g   \n",
       "17516           1          36.00            赞0  36.00    麒麟西瓜@双击666  约3000g   \n",
       "17667           3          40.00            赞0  40.00            红玉西瓜 4600g   \n",
       "17689           0           4.00            赞0   4.00             无籽西瓜 500g   \n",
       "\n",
       "       productSpuId  productStatus promotionInfo           wmPoiId city  \\\n",
       "37       1269632110              0           NaN  1024690184314426   唐山   \n",
       "162      1313114869              0           NaN   943468057787314   承德   \n",
       "163      1298678405              0           NaN   943468057787314   承德   \n",
       "165      1532341783              0           NaN   943468057787314   承德   \n",
       "167      1328735166              0           NaN   960420293659451   承德   \n",
       "...             ...            ...           ...               ...  ...   \n",
       "17377    1447147231              0           NaN   933508028582773   博乐   \n",
       "17509    1201568098              0           NaN  1111942444925361   伊宁   \n",
       "17516     760380209              0           NaN   867240978191061   伊宁   \n",
       "17667    1499859520              0           NaN  1053732753144680  五家渠   \n",
       "17689    1275194539              0           NaN  1010035755847671  五家渠   \n",
       "\n",
       "       province        store    gram  price_per_jin  \n",
       "37          河北省         乐家超市  5000.0       6.580000  \n",
       "162         河北省     海峰水果蔬菜超市  5000.0       2.950000  \n",
       "163         河北省     海峰水果蔬菜超市  2500.0       7.598000  \n",
       "165         河北省     海峰水果蔬菜超市  5000.0       3.990000  \n",
       "167         河北省  丁丁果儿（卓越家园店）  5000.0       6.800000  \n",
       "...         ...          ...     ...            ...  \n",
       "17377  新疆维吾尔自治区     仁和春天生活广场   500.0       5.000000  \n",
       "17509  新疆维吾尔自治区         琪梦超市  3000.0       4.000000  \n",
       "17516  新疆维吾尔自治区        杜林蔬菜店  3000.0       6.000000  \n",
       "17667  新疆维吾尔自治区         田园果蔬  4600.0       4.347826  \n",
       "17689  新疆维吾尔自治区         宜嘉购物   500.0       4.000000  \n",
       "\n",
       "[943 rows x 14 columns]"
      ]
     },
     "execution_count": 75,
     "metadata": {},
     "output_type": "execute_result"
    }
   ],
   "source": [
    "wm"
   ]
  },
  {
   "cell_type": "code",
   "execution_count": 76,
   "metadata": {},
   "outputs": [
    {
     "data": {
      "text/html": [
       "<div>\n",
       "<style scoped>\n",
       "    .dataframe tbody tr th:only-of-type {\n",
       "        vertical-align: middle;\n",
       "    }\n",
       "\n",
       "    .dataframe tbody tr th {\n",
       "        vertical-align: top;\n",
       "    }\n",
       "\n",
       "    .dataframe thead th {\n",
       "        text-align: right;\n",
       "    }\n",
       "</style>\n",
       "<table border=\"1\" class=\"dataframe\">\n",
       "  <thead>\n",
       "    <tr style=\"text-align: right;\">\n",
       "      <th></th>\n",
       "      <th>price_per_jin</th>\n",
       "      <th>productName</th>\n",
       "      <th>price</th>\n",
       "      <th>gram</th>\n",
       "    </tr>\n",
       "  </thead>\n",
       "  <tbody>\n",
       "    <tr>\n",
       "      <td>3614</td>\n",
       "      <td>8.600000</td>\n",
       "      <td>海南麒麟西瓜 个</td>\n",
       "      <td>86.0</td>\n",
       "      <td>5000.0</td>\n",
       "    </tr>\n",
       "    <tr>\n",
       "      <td>8098</td>\n",
       "      <td>3.666667</td>\n",
       "      <td>海南 麒麟瓜 散称包甜多汁 4-6斤/个</td>\n",
       "      <td>22.0</td>\n",
       "      <td>3000.0</td>\n",
       "    </tr>\n",
       "    <tr>\n",
       "      <td>8861</td>\n",
       "      <td>9.600000</td>\n",
       "      <td>麒麟瓜 500g</td>\n",
       "      <td>9.6</td>\n",
       "      <td>500.0</td>\n",
       "    </tr>\n",
       "    <tr>\n",
       "      <td>6918</td>\n",
       "      <td>222.000000</td>\n",
       "      <td>黑美人西瓜 500g</td>\n",
       "      <td>222.0</td>\n",
       "      <td>500.0</td>\n",
       "    </tr>\n",
       "    <tr>\n",
       "      <td>14864</td>\n",
       "      <td>999.000000</td>\n",
       "      <td>黑美人西瓜 500g</td>\n",
       "      <td>999.0</td>\n",
       "      <td>500.0</td>\n",
       "    </tr>\n",
       "  </tbody>\n",
       "</table>\n",
       "</div>"
      ],
      "text/plain": [
       "       price_per_jin           productName  price    gram\n",
       "3614        8.600000              海南麒麟西瓜 个   86.0  5000.0\n",
       "8098        3.666667  海南 麒麟瓜 散称包甜多汁 4-6斤/个   22.0  3000.0\n",
       "8861        9.600000              麒麟瓜 500g    9.6   500.0\n",
       "6918      222.000000            黑美人西瓜 500g  222.0   500.0\n",
       "14864     999.000000            黑美人西瓜 500g  999.0   500.0"
      ]
     },
     "execution_count": 76,
     "metadata": {},
     "output_type": "execute_result"
    }
   ],
   "source": [
    "wm[['price_per_jin', 'productName', 'price', 'gram']].sample(5)"
   ]
  },
  {
   "cell_type": "code",
   "execution_count": 77,
   "metadata": {},
   "outputs": [],
   "source": [
    "wm = wm[wm['price_per_jin']<20]"
   ]
  },
  {
   "cell_type": "code",
   "execution_count": 78,
   "metadata": {},
   "outputs": [
    {
     "data": {
      "text/plain": [
       "count    837.000000\n",
       "mean       6.345770\n",
       "std        2.977894\n",
       "min        0.016667\n",
       "25%        4.444444\n",
       "50%        6.000000\n",
       "75%        7.718182\n",
       "max       19.980000\n",
       "Name: price_per_jin, dtype: float64"
      ]
     },
     "execution_count": 78,
     "metadata": {},
     "output_type": "execute_result"
    }
   ],
   "source": [
    "wm['price_per_jin'].describe()"
   ]
  },
  {
   "cell_type": "code",
   "execution_count": 79,
   "metadata": {},
   "outputs": [
    {
     "name": "stderr",
     "output_type": "stream",
     "text": [
      "D:\\software\\Anaconda\\lib\\site-packages\\seaborn\\distributions.py:2557: FutureWarning: `distplot` is a deprecated function and will be removed in a future version. Please adapt your code to use either `displot` (a figure-level function with similar flexibility) or `histplot` (an axes-level function for histograms).\n",
      "  warnings.warn(msg, FutureWarning)\n"
     ]
    },
    {
     "data": {
      "text/plain": [
       "Text(0.5, 0, '价格/斤')"
      ]
     },
     "execution_count": 79,
     "metadata": {},
     "output_type": "execute_result"
    },
    {
     "data": {
      "image/png": "[encoded data removed]",
      "text/plain": [
       "<Figure size 720x432 with 1 Axes>"
      ]
     },
     "metadata": {
      "needs_background": "light"
     },
     "output_type": "display_data"
    }
   ],
   "source": [
    "fig, ax = plt.subplots(figsize=(10,6))\n",
    "sns.distplot(list(wm['price_per_jin'].dropna()), ax=ax)\n",
    "ax.set_xlim(0, 20)\n",
    "ax.set_xlabel('价格/斤')"
   ]
  },
  {
   "cell_type": "markdown",
   "metadata": {},
   "source": [
    "#### 2.哪里西瓜最贵"
   ]
  },
  {
   "cell_type": "code",
   "execution_count": 84,
   "metadata": {},
   "outputs": [],
   "source": [
    "top10_city = lc.groupby('city')['price_per_jin'].mean().nlargest(10)"
   ]
  },
  {
   "cell_type": "code",
   "execution_count": 85,
   "metadata": {},
   "outputs": [
    {
     "data": {
      "image/png": "[encoded data removed]",
      "text/plain": [
       "<Figure size 576x576 with 1 Axes>"
      ]
     },
     "metadata": {
      "needs_background": "light"
     },
     "output_type": "display_data"
    }
   ],
   "source": [
    "plt.figure(figsize=(8, 8))\n",
    "sns.barplot(x=top10_city.index, y=np.round(top10_city.values, 0))\n",
    "plt.show()"
   ]
  },
  {
   "cell_type": "markdown",
   "metadata": {},
   "source": [
    "#### 3. 全国西瓜平均价格图"
   ]
  },
  {
   "cell_type": "code",
   "execution_count": 80,
   "metadata": {},
   "outputs": [],
   "source": [
    "wm_province = wm.groupby('province')['price_per_jin'].mean().reset_index(name='price')"
   ]
  },
  {
   "cell_type": "code",
   "execution_count": 81,
   "metadata": {},
   "outputs": [],
   "source": [
    "wm_province['province'] = wm_province['province'].str.replace('省|市|自治区|回族自治区|壮族自治区|维吾尔自治区', '')"
   ]
  },
  {
   "cell_type": "code",
   "execution_count": 82,
   "metadata": {},
   "outputs": [
    {
     "data": {
      "text/plain": [
       "9.385535714285714"
      ]
     },
     "execution_count": 82,
     "metadata": {},
     "output_type": "execute_result"
    }
   ],
   "source": [
    "wm_province['price'].max()"
   ]
  },
  {
   "cell_type": "code",
   "execution_count": 83,
   "metadata": {
    "scrolled": false
   },
   "outputs": [
    {
     "data": {
      "text/plain": [
       "0"
      ]
     },
     "execution_count": 83,
     "metadata": {},
     "output_type": "execute_result"
    }
   ],
   "source": [
    "import os\n",
    "map = Map(\"全国各省份西瓜平均价格图\", width=800, height=800)\n",
    "map.add(\n",
    "    \"\",\n",
    "    wm_province['province'],\n",
    "    np.round(wm_province['price'], 1),\n",
    "    maptype=\"china\",\n",
    "    is_visualmap=True,\n",
    "    visual_text_color=\"#000\",\n",
    "    visual_range=[0, 10],\n",
    "    is_label_show=True\n",
    ")\n",
    "map.render()\n",
    "\n",
    "os.system(\"render.html\")"
   ]
  },
  {
   "cell_type": "markdown",
   "metadata": {},
   "source": [
    "# 本次作业到此结束~~~~"
   ]
  }
 ],
 "metadata": {
  "kernelspec": {
   "display_name": "Python 3",
   "language": "python",
   "name": "python3"
  },
  "language_info": {
   "codemirror_mode": {
    "name": "ipython",
    "version": 3
   },
   "file_extension": ".py",
   "mimetype": "text/x-python",
   "name": "python",
   "nbconvert_exporter": "python",
   "pygments_lexer": "ipython3",
   "version": "3.7.4"
  }
 },
 "nbformat": 4,
 "nbformat_minor": 2
}
