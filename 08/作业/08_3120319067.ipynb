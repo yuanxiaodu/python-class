{
 "cells": [
  {
   "cell_type": "markdown",
   "metadata": {},
   "source": [
    "# bilibili百大up主的研究"
   ]
  },
  {
   "cell_type": "markdown",
   "metadata": {},
   "source": [
    "### 1.爬取百大up和非百大up相关数据\n",
    "### 2.数据处理\n",
    "### 3.可视化和logistic回归"
   ]
  },
  {
   "cell_type": "markdown",
   "metadata": {},
   "source": [
    "### 第一步：数据爬取，利用selenium包进行数据抓取\n",
    "### 百大up主是b站评选出的过去一年拥有出色表现的100位UP主。\n",
    "### 需要用到的框架：\n",
    "### selenium自动化测试框架:爬取信息\n",
    "### time：生成随机暂停防止反爬\n",
    "### numpy:生成随机数\n",
    "### re：数据清洗。以列表的形式返回up主的UID\n",
    "### csv：读写CSV文件\n"
   ]
  },
  {
   "cell_type": "markdown",
   "metadata": {},
   "source": [
    "# 下面为第一步爬取数据的代码"
   ]
  },
  {
   "cell_type": "code",
   "execution_count": 29,
   "metadata": {},
   "outputs": [
    {
     "name": "stdout",
     "output_type": "stream",
     "text": [
      "政宗君de情敌\n",
      "6\n",
      "年度大会员\n",
      "207\n",
      "33.3万\n",
      "297.8万\n",
      "5833.9万\n",
      "01-02\n",
      "0 error\n",
      "花花与三猫CatLive\n",
      "6\n",
      "年度大会员\n",
      "339\n",
      "317.3万\n",
      "2973.9万\n",
      "3.9亿\n",
      "07-11\n",
      "238\n",
      "********************\n",
      " 1 success\n",
      "老邪说电影\n",
      "6\n",
      "年度大会员\n",
      "84\n",
      "189.6万\n",
      "1969.5万\n",
      "3亿\n",
      "04-08\n",
      "392\n",
      "********************\n",
      " 2 success\n",
      "LexBurner\n",
      "6\n",
      "年度大会员\n",
      "34\n",
      "944万\n",
      "5160.8万\n",
      "10.5亿\n",
      "11-22\n",
      "392\n",
      "********************\n",
      " 3 success\n",
      "观视频工作室\n",
      "6\n",
      "年度大会员\n",
      "64\n",
      "370万\n",
      "4373.8万\n",
      "7.4亿\n",
      "01-01\n",
      "4 error\n",
      "话很多的小姐姐们\n",
      "6\n",
      "年度大会员\n",
      "35\n",
      "161.9万\n",
      "1030.6万\n",
      "2.1亿\n",
      "01-01\n",
      "447\n",
      "********************\n",
      " 5 success\n",
      "刘老师说电影\n",
      "6\n",
      "大会员\n",
      "207\n",
      "333.3万\n",
      "1672.6万\n",
      "4.6亿\n",
      "11-16\n",
      "544\n",
      "********************\n",
      " 6 success\n",
      "胥渡吧\n",
      "6\n",
      "年度大会员\n",
      "1\n",
      "79.1万\n",
      "400.7万\n",
      "1.1亿\n",
      "02-16\n",
      "429\n",
      "********************\n",
      " 7 success\n",
      "虫哥说电影\n",
      "6\n",
      "年度大会员\n",
      "82\n",
      "195.9万\n",
      "1296.4万\n",
      "2.7亿\n",
      "None\n",
      "266\n",
      "********************\n",
      " 8 success\n",
      "蒲熠星\n",
      "6\n",
      "年度大会员\n",
      "47\n",
      "44.7万\n",
      "53.1万\n",
      "540.2万\n",
      "None\n",
      "55\n",
      "********************\n",
      " 9 success\n",
      "3Blue1Brown\n",
      "6\n",
      "\n",
      "9\n",
      "117.8万\n",
      "54.2万\n",
      "1792.4万\n",
      "None\n",
      "98\n",
      "********************\n",
      " 10 success\n",
      "懒人厨房\n",
      "6\n",
      "\n",
      "7\n",
      "59万\n",
      "44.1万\n",
      "923.9万\n",
      "None\n",
      "11 error\n",
      "于译舒l哈哈的鱼头\n",
      "5\n",
      "\n",
      "52\n",
      "12.1万\n",
      "12.9万\n",
      "414.7万\n",
      "05-03\n",
      "41\n",
      "********************\n",
      " 12 success\n",
      "水果医生\n",
      "6\n",
      "\n",
      "1\n",
      "27.4万\n",
      "98.2万\n",
      "3362.2万\n",
      "None\n",
      "71\n",
      "********************\n",
      " 13 success\n",
      "韭菜实验室\n",
      "6\n",
      "年度大会员\n",
      "21\n",
      "52.1万\n",
      "143.5万\n",
      "1973.8万\n",
      "None\n",
      "56\n",
      "********************\n",
      " 14 success\n",
      "yakisa彭雅琦\n",
      "6\n",
      "年度大会员\n",
      "18\n",
      "39.5万\n",
      "105.9万\n",
      "1945.7万\n",
      "None\n",
      "81\n",
      "********************\n",
      " 15 success\n",
      "底层原理\n",
      "6\n",
      "年度大会员\n",
      "1\n",
      "42.2万\n",
      "21.4万\n",
      "311.9万\n",
      "None\n",
      "23\n",
      "********************\n",
      " 16 success\n",
      "金毛闹腾麻\n",
      "6\n",
      "\n",
      "1\n",
      "10.9万\n",
      "72.7万\n",
      "2424.9万\n",
      "None\n",
      "101\n",
      "********************\n",
      " 17 success\n",
      "叫我tina小姐姐\n",
      "6\n",
      "年度大会员\n",
      "32\n",
      "77.8万\n",
      "149.9万\n",
      "3098万\n",
      "None\n",
      "127\n",
      "********************\n",
      " 18 success\n",
      "有马贵皮\n",
      "6\n",
      "年度大会员\n",
      "366\n",
      "9万\n",
      "150.4万\n",
      "3540.3万\n",
      "08-17\n",
      "182\n",
      "********************\n",
      " 19 success\n",
      "美国老张\n",
      "6\n",
      "大会员\n",
      "15\n",
      "43.3万\n",
      "84.7万\n",
      "1275.2万\n",
      "None\n",
      "68\n",
      "********************\n",
      " 20 success\n",
      "保护野菠萝\n",
      "6\n",
      "年度大会员\n",
      "56\n",
      "6.7万\n",
      "29.6万\n",
      "373.1万\n",
      "01-01\n",
      "104\n",
      "********************\n",
      " 21 success\n",
      "北大颌面外科巩玺医生\n",
      "5\n",
      "\n",
      "52\n",
      "5.1万\n",
      "7.8万\n",
      "199.3万\n",
      "None\n",
      "41\n",
      "********************\n",
      " 22 success\n",
      "fan人张\n",
      "6\n",
      "年度大会员\n",
      "515\n",
      "14.1万\n",
      "293万\n",
      "3433.8万\n",
      "09-09\n",
      "342\n",
      "********************\n",
      " 23 success\n",
      "我是瑞斯拜\n",
      "6\n",
      "年度大会员\n",
      "290\n",
      "25.9万\n",
      "39万\n",
      "1054万\n",
      "None\n",
      "424\n",
      "********************\n",
      " 24 success\n",
      "Iris学姐\n",
      "5\n",
      "\n",
      "4\n",
      "6.6万\n",
      "8万\n",
      "183.9万\n",
      "None\n",
      "59\n",
      "********************\n",
      " 25 success\n",
      "懒人饭饭\n",
      "6\n",
      "大会员\n",
      "3\n",
      "6.1万\n",
      "22.8万\n",
      "867.6万\n",
      "None\n",
      "535\n",
      "********************\n",
      " 26 success\n",
      "解螺旋官方频道\n",
      "5\n",
      "年度大会员\n",
      "12\n",
      "9.2万\n",
      "2.7万\n",
      "95.8万\n",
      "12-24\n",
      "406\n",
      "********************\n",
      " 27 success\n",
      "YouTube精彩视频-\n",
      "6\n",
      "\n",
      "9\n",
      "51.3万\n",
      "860.7万\n",
      "2.1亿\n",
      "12-05\n",
      "28 error\n",
      "一数\n",
      "6\n",
      "年度大会员\n",
      "0\n",
      "45.4万\n",
      "78.5万\n",
      "1245.7万\n",
      "10-01\n",
      "213\n",
      "********************\n",
      " 29 success\n",
      "哥大白大哥\n",
      "6\n",
      "年度大会员\n",
      "309\n",
      "13.6万\n",
      "155.5万\n",
      "2188.4万\n",
      "None\n",
      "114\n",
      "********************\n",
      " 30 success\n",
      "凤凰新闻\n",
      "6\n",
      "年度大会员\n",
      "16\n",
      "11.7万\n",
      "288.4万\n",
      "6188.8万\n",
      "03-31\n",
      "31 error\n",
      "我是黄鸭兄\n",
      "6\n",
      "年度大会员\n",
      "119\n",
      "5万\n",
      "7.5万\n",
      "139.4万\n",
      "None\n",
      "14\n",
      "********************\n",
      " 32 success\n",
      "留学生日报\n",
      "6\n",
      "年度大会员\n",
      "82\n",
      "63.8万\n",
      "604.3万\n",
      "7353.8万\n",
      "01-01\n",
      "211\n",
      "********************\n",
      " 33 success\n",
      "腾讯\n",
      "6\n",
      "年度大会员\n",
      "136\n",
      "47.5万\n",
      "157.9万\n",
      "1794.6万\n",
      "None\n",
      "50\n",
      "********************\n",
      " 34 success\n",
      "学术数据分析及可视化\n",
      "5\n",
      "\n",
      "11\n",
      "17.3万\n",
      "1.2万\n",
      "34.5万\n",
      "01-01\n",
      "64\n",
      "********************\n",
      " 35 success\n",
      "美国国家地理_NatGeo\n",
      "5\n",
      "\n",
      "22\n",
      "8.8万\n",
      "11.3万\n",
      "114万\n",
      "09-22\n",
      "36\n",
      "********************\n",
      " 36 success\n",
      "回形针PaperClip\n",
      "6\n",
      "年度大会员\n",
      "50\n",
      "301万\n",
      "661.8万\n",
      "1.4亿\n",
      "None\n",
      "207\n",
      "********************\n",
      " 37 success\n",
      "二次元的中科院物理所\n",
      "6\n",
      "年度大会员\n",
      "1215\n",
      "134.1万\n",
      "559.7万\n",
      "4043.8万\n",
      "06-09\n",
      "38 error\n",
      "克里米亚野生动物园\n",
      "6\n",
      "年度大会员\n",
      "23\n",
      "132.9万\n",
      "2006.2万\n",
      "1.8亿\n",
      "01-01\n",
      "379\n",
      "********************\n",
      " 39 success\n",
      "侣行\n",
      "6\n",
      "\n",
      "1\n",
      "32.6万\n",
      "49.3万\n",
      "1603.8万\n",
      "None\n",
      "40 error\n",
      "普外科曾医生\n",
      "6\n",
      "大会员\n",
      "27\n",
      "44.6万\n",
      "239.9万\n",
      "3697.6万\n",
      "None\n",
      "237\n",
      "********************\n",
      " 41 success\n"
     ]
    }
   ],
   "source": [
    "# -*- coding: UTF-8 -*-\n",
    "\n",
    "import selenium.webdriver as wb  # 爬虫框架/自动化测试框架\n",
    "import time  # 随机休眠，防止反爬机制\n",
    "import numpy as np  # 处理数组用\n",
    "import csv  # 处理数据，存储和读取CSV文件\n",
    "import re  # 正则表达式\n",
    "\n",
    "\n",
    "def init_csv(filepath='test.csv'):\n",
    "    headers = ['UP昵称', '会员等级', '会员类别', '关注', '粉丝', '获赞', '播放', '生日', '投稿']#最后文件的标题行\n",
    "    with open(filepath, 'w', newline='', encoding='utf-8')as f:#w指直接写入\n",
    "        f_csv = csv.writer(f)\n",
    "        f_csv.writerow(headers)#创建文件，写入标题行\n",
    "\n",
    "\n",
    "def write_csv(filepath, datas):\n",
    "    with open(filepath, 'a+', newline='', encoding='utf-8')as f:#\n",
    "        f_csv = csv.writer(f)\n",
    "        f_csv.writerow(datas)#每爬取一行数据就写入\n",
    "\n",
    "\n",
    "def read_uid(filepath):\n",
    "    x = []\n",
    "    with open(filepath, 'r', newline='', encoding='utf-8')as f:\n",
    "        csv_read = csv.reader(f)\n",
    "        for line in csv_read:\n",
    "            line[0] = re.findall('\\d+', line[0])[0]#正则化处理\n",
    "            x.append(line[0])\n",
    "    return x\n",
    "\n",
    "\n",
    "class Spider(object):#定义一个爬虫类\n",
    "\n",
    "    def __init__(self, display=True) -> None:\n",
    "        super().__init__()\n",
    "        option = wb.ChromeOptions()\n",
    "        # 忽略driver自身的警告|错误等输出\n",
    "        option.add_experimental_option(\n",
    "            'excludeSwitches', ['enable-logging'])\n",
    "        # 禁用图片加载,加速爬取url等页面数据,图片数据待爬取url后由requests库实现\n",
    "        # option.add_experimental_option(\n",
    "        #     'prefs', {\"profile.managed_default_content_settings.images\": 2})\n",
    "        if display == False:\n",
    "            option.headless = True\n",
    "            print('程序运行，设置为无窗口模式')\n",
    "\n",
    "        ################    Chrome程序地址改这里\n",
    "        option.binary_location = r\"C:\\Program Files (x86)\\Google\\Chrome\\Application\\chrome.exe\"\n",
    "        # 浏览器驱动器初始化，需指明路径与参数\n",
    "        ################    Chrome驱动器地址改这里，改try里的那个就行\n",
    "        try:\n",
    "            self.driver = wb.Chrome(\n",
    "                r\"C:\\Users\\dell\\Downloads\\chromedriver.exe\", options=option)\n",
    "        except:\n",
    "            self.driver = wb.Chrome(\n",
    "                r\"C:\\Users\\Ludy_Lab\\Desktop\\workspace\\assets\\chromedriver.exe\", options=option)\n",
    "\n",
    "    def login(self):\n",
    "        self.driver.get('https://space.bilibili.com/' + '51896064')\n",
    "        self.random_sleep(2)\n",
    "        login_elm = self.driver.find_element_by_css_selector(\n",
    "            '#internationalHeader > div > div > div.nav-user-center > div.user-con.logout > div:nth-child(1) > div > span > div > span')\n",
    "        #找到登陆按钮的元素\n",
    "        login_elm.click()#要求点击\n",
    "        wds = self.driver.window_handles#点击之后弹出到一个新的网页\n",
    "        self.driver.switch_to.window(wds[-1])#返回到上一个网页\n",
    "        self.random_sleep(2)\n",
    "        username_elm: wb.remote.webdriver.WebElement = self.driver.find_element_by_css_selector(\n",
    "            '#login-username')\n",
    "        password_elm: wb.remote.webdriver.WebElement = self.driver.find_element_by_css_selector(\n",
    "            '#login-passwd')\n",
    "        login2_elm: wb.remote.webdriver.WebElement = self.driver.find_element_by_css_selector(\n",
    "            '#geetest-wrap > div > div.btn-box > a.btn.btn-login')#登录界面的登陆按钮\n",
    "\n",
    "        ################################\n",
    "        # 账号密码改这里\n",
    "        username_elm.send_keys('15029220381')#输入账号\n",
    "        password_elm.send_keys('g123456')#输入密码\n",
    "        self.random_sleep(1)\n",
    "        login2_elm.click()\n",
    "        # 12秒的时间进行人机结合登录=_=\n",
    "        time.sleep(12)\n",
    "\n",
    "    def random_sleep(self, delay=3):\n",
    "        tmp = np.random.random()#随机数0-1\n",
    "        time.sleep(delay * (tmp + 0.5))#每爬一个网页随机暂停几秒\n",
    "\n",
    "    def fetch_by_UID(self, UID='51896064'):\n",
    "        self.driver.get('https://space.bilibili.com/' + UID)\n",
    "        self.random_sleep(3)\n",
    "\n",
    "        up_name_elm = self.driver.find_element_by_css_selector('#h-name')\n",
    "        print(up_name_elm.text)\n",
    "        up_name = up_name_elm.text\n",
    "\n",
    "        up_level_elm: wb.remote.webdriver.WebElement = self.driver.find_element_by_css_selector(\n",
    "            '#app > div.h > div.wrapper > div.h-inner > div.h-user > div > div.h-basic > div:nth-child(1) > a.h-level.m-level')\n",
    "        print(up_level_elm.get_attribute('lvl'))\n",
    "        up_level = up_level_elm.get_attribute('lvl')\n",
    "\n",
    "        up_member_elm = self.driver.find_element_by_css_selector(\n",
    "            '#app > div.h > div.wrapper > div.h-inner > div.h-user > div > div.h-basic > div:nth-child(1) > a.h-vipType')\n",
    "        print(up_member_elm.text)\n",
    "        up_member = up_member_elm.text\n",
    "\n",
    "        up_follow_elm = self.driver.find_element_by_css_selector('#n-gz')\n",
    "        print(up_follow_elm.text)\n",
    "        up_follow = up_follow_elm.text\n",
    "\n",
    "        up_followby_elm = self.driver.find_element_by_css_selector('#n-fs')\n",
    "        print(up_followby_elm.text)\n",
    "        up_followby = up_followby_elm.text\n",
    "\n",
    "        up_getzan_elm = self.driver.find_element_by_css_selector('#n-bf')\n",
    "        print(up_getzan_elm.text)\n",
    "        up_getzan = up_getzan_elm.text\n",
    "\n",
    "        up_numofplay_elm = self.driver.find_element_by_xpath(\n",
    "            '/html/body/div[2]/div[2]/div/div[1]/div[3]/div[2]/p[2]')\n",
    "        print(up_numofplay_elm.text)\n",
    "        up_numofplay = up_numofplay_elm.text\n",
    "\n",
    "        birthday = 'None'\n",
    "        try:\n",
    "            birthday = self.driver.find_element_by_css_selector(\n",
    "                '#page-index > div.col-2 > div.section.user > div.info > div.content > div > div > div.item.birthday > span.text').text\n",
    "        except:\n",
    "            pass\n",
    "        print(birthday)\n",
    "\n",
    "        up_tougao_elm = self.driver.find_element_by_css_selector(\n",
    "            '#navigator > div > div.n-inner.clearfix > div.n-tab-links > a.n-btn.n-video.n-audio.n-article.n-album > span.n-num').text\n",
    "        tougao = up_tougao_elm\n",
    "        xiangbu = 'Error'\n",
    "        try:\n",
    "            up_tougao_elm = self.driver.find_element_by_xpath(\n",
    "                '//*[@id=\"navigator\"]/div/div[1]/div[1]/a[3]/span[2]')\n",
    "            up_tougao_elm.click()\n",
    "            self.random_sleep(3)\n",
    "            up_xiangbu_elm = self.driver.find_element_by_css_selector(\n",
    "                '#page-video > div > div.contribution-sidenav > div > div > ul > li:nth-child(4) > span')\n",
    "            xiangbu = up_xiangbu_elm.text\n",
    "        except:\n",
    "            pass\n",
    "        if xiangbu != 'Error':\n",
    "            tougao = str(int(tougao) - int(xiangbu))\n",
    "        print(tougao)\n",
    "        self.random_sleep(2)\n",
    "        return (up_name, up_level, up_member, up_follow, up_followby, up_getzan, up_numofplay, birthday, tougao)\n",
    "\n",
    "\n",
    "if __name__ == \"__main__\":#从此开始执行\n",
    "    # 用来保存爬虫结果的文件是下面这个，可以不新建\n",
    "    csv_path = r'C:\\Users\\dell\\Desktop\\bilibli_ups22.csv'\n",
    "    # 用来读取UID列表的csv文件是这个，excel要先另存为成csv，并且不要有标题行\n",
    "    uid_path = r'C:\\Users\\dell\\Desktop\\bilibili40.csv'\n",
    "    uid_list = read_uid(uid_path)#返回成一个列表\n",
    "    worker = Spider(display=True)#spider是前面定义的一个爬虫类\n",
    "    try:\n",
    "        worker.login()\n",
    "    except:\n",
    "        print('登录失败')\n",
    "        time.sleep(10)\n",
    "        exit()\n",
    "\n",
    "    try:\n",
    "        init_csv(csv_path)#执行初始化CSV的函数\n",
    "    except:\n",
    "        pass\n",
    "\n",
    "    for i in range(len(uid_list)):\n",
    "        try:\n",
    "            write_csv(csv_path, worker.fetch_by_UID(uid_list[i]))\n",
    "            print('*' * 20 + '\\n', i, 'success')\n",
    "        except:\n",
    "            print(i, 'error')\n",
    "    time.sleep(10)\n",
    "    # worker.random_sleep()\n"
   ]
  },
  {
   "cell_type": "markdown",
   "metadata": {},
   "source": [
    "# 第二步：数据整理与可视化\n",
    "### 下面是数据处理与画图的包\n",
    "### 运用numop、pandas、matplotlib等模块进行数据的整理与可视化"
   ]
  },
  {
   "cell_type": "code",
   "execution_count": 3,
   "metadata": {},
   "outputs": [],
   "source": [
    "import numpy as np\n",
    "import pandas as pd\n",
    "import matplotlib.pyplot as plt #画图\n",
    "import os"
   ]
  },
  {
   "cell_type": "code",
   "execution_count": 3,
   "metadata": {},
   "outputs": [],
   "source": [
    "#内嵌画图\n",
    "%matplotlib inline"
   ]
  },
  {
   "cell_type": "code",
   "execution_count": 4,
   "metadata": {},
   "outputs": [
    {
     "data": {
      "text/html": [
       "<div>\n",
       "<style scoped>\n",
       "    .dataframe tbody tr th:only-of-type {\n",
       "        vertical-align: middle;\n",
       "    }\n",
       "\n",
       "    .dataframe tbody tr th {\n",
       "        vertical-align: top;\n",
       "    }\n",
       "\n",
       "    .dataframe thead th {\n",
       "        text-align: right;\n",
       "    }\n",
       "</style>\n",
       "<table border=\"1\" class=\"dataframe\">\n",
       "  <thead>\n",
       "    <tr style=\"text-align: right;\">\n",
       "      <th></th>\n",
       "      <th>X1</th>\n",
       "      <th>X2</th>\n",
       "      <th>X3</th>\n",
       "      <th>X4</th>\n",
       "      <th>X5</th>\n",
       "      <th>X6</th>\n",
       "      <th>X7</th>\n",
       "      <th>Y</th>\n",
       "    </tr>\n",
       "  </thead>\n",
       "  <tbody>\n",
       "    <tr>\n",
       "      <th>0</th>\n",
       "      <td>6</td>\n",
       "      <td>0</td>\n",
       "      <td>254</td>\n",
       "      <td>3707000</td>\n",
       "      <td>10477000</td>\n",
       "      <td>160000000.0</td>\n",
       "      <td>121</td>\n",
       "      <td>1</td>\n",
       "    </tr>\n",
       "    <tr>\n",
       "      <th>1</th>\n",
       "      <td>6</td>\n",
       "      <td>1</td>\n",
       "      <td>197</td>\n",
       "      <td>3391000</td>\n",
       "      <td>23852000</td>\n",
       "      <td>260000000.0</td>\n",
       "      <td>202</td>\n",
       "      <td>1</td>\n",
       "    </tr>\n",
       "    <tr>\n",
       "      <th>2</th>\n",
       "      <td>6</td>\n",
       "      <td>0</td>\n",
       "      <td>117</td>\n",
       "      <td>1399000</td>\n",
       "      <td>6502000</td>\n",
       "      <td>110000000.0</td>\n",
       "      <td>158</td>\n",
       "      <td>1</td>\n",
       "    </tr>\n",
       "    <tr>\n",
       "      <th>3</th>\n",
       "      <td>6</td>\n",
       "      <td>1</td>\n",
       "      <td>376</td>\n",
       "      <td>3298000</td>\n",
       "      <td>18040000</td>\n",
       "      <td>190000000.0</td>\n",
       "      <td>186</td>\n",
       "      <td>1</td>\n",
       "    </tr>\n",
       "    <tr>\n",
       "      <th>4</th>\n",
       "      <td>6</td>\n",
       "      <td>1</td>\n",
       "      <td>0</td>\n",
       "      <td>3214000</td>\n",
       "      <td>6430000</td>\n",
       "      <td>370000000.0</td>\n",
       "      <td>468</td>\n",
       "      <td>1</td>\n",
       "    </tr>\n",
       "  </tbody>\n",
       "</table>\n",
       "</div>"
      ],
      "text/plain": [
       "   X1  X2   X3       X4        X5           X6   X7  Y\n",
       "0   6   0  254  3707000  10477000  160000000.0  121  1\n",
       "1   6   1  197  3391000  23852000  260000000.0  202  1\n",
       "2   6   0  117  1399000   6502000  110000000.0  158  1\n",
       "3   6   1  376  3298000  18040000  190000000.0  186  1\n",
       "4   6   1    0  3214000   6430000  370000000.0  468  1"
      ]
     },
     "execution_count": 4,
     "metadata": {},
     "output_type": "execute_result"
    }
   ],
   "source": [
    "#数据导入\n",
    "#会员等级，会员类别，关注，粉丝，获赞，播放，投稿，是否百大\n",
    "data = pd.read_excel('C:/Users/dell/Desktop/bilibilidata.xls')\n",
    "data.head()"
   ]
  },
  {
   "cell_type": "code",
   "execution_count": 38,
   "metadata": {},
   "outputs": [
    {
     "data": {
      "text/plain": [
       "(122, 8)"
      ]
     },
     "execution_count": 38,
     "metadata": {},
     "output_type": "execute_result"
    }
   ],
   "source": [
    "data.shape#查看数据维度"
   ]
  },
  {
   "cell_type": "code",
   "execution_count": 39,
   "metadata": {},
   "outputs": [
    {
     "data": {
      "text/plain": [
       "pandas.core.frame.DataFrame"
      ]
     },
     "execution_count": 39,
     "metadata": {},
     "output_type": "execute_result"
    }
   ],
   "source": [
    "type(data)#数据类型"
   ]
  },
  {
   "cell_type": "code",
   "execution_count": 40,
   "metadata": {},
   "outputs": [
    {
     "data": {
      "text/html": [
       "<div>\n",
       "<style scoped>\n",
       "    .dataframe tbody tr th:only-of-type {\n",
       "        vertical-align: middle;\n",
       "    }\n",
       "\n",
       "    .dataframe tbody tr th {\n",
       "        vertical-align: top;\n",
       "    }\n",
       "\n",
       "    .dataframe thead th {\n",
       "        text-align: right;\n",
       "    }\n",
       "</style>\n",
       "<table border=\"1\" class=\"dataframe\">\n",
       "  <thead>\n",
       "    <tr style=\"text-align: right;\">\n",
       "      <th></th>\n",
       "      <th>17409016</th>\n",
       "    </tr>\n",
       "  </thead>\n",
       "  <tbody>\n",
       "    <tr>\n",
       "      <th>0</th>\n",
       "      <td>7552204</td>\n",
       "    </tr>\n",
       "    <tr>\n",
       "      <th>1</th>\n",
       "      <td>383513330</td>\n",
       "    </tr>\n",
       "    <tr>\n",
       "      <th>2</th>\n",
       "      <td>22141287</td>\n",
       "    </tr>\n",
       "    <tr>\n",
       "      <th>3</th>\n",
       "      <td>113362335</td>\n",
       "    </tr>\n",
       "    <tr>\n",
       "      <th>4</th>\n",
       "      <td>3682229</td>\n",
       "    </tr>\n",
       "  </tbody>\n",
       "</table>\n",
       "</div>"
      ],
      "text/plain": [
       "    17409016\n",
       "0    7552204\n",
       "1  383513330\n",
       "2   22141287\n",
       "3  113362335\n",
       "4    3682229"
      ]
     },
     "execution_count": 40,
     "metadata": {},
     "output_type": "execute_result"
    }
   ],
   "source": [
    "#这部分检查用\n",
    "data2 = pd.read_csv('C:/Users/dell/Desktop/UID100.csv')\n",
    "data2.head()"
   ]
  },
  {
   "cell_type": "code",
   "execution_count": 51,
   "metadata": {},
   "outputs": [
    {
     "data": {
      "text/plain": [
       "Text(0, 0.5, 'X5')"
      ]
     },
     "execution_count": 51,
     "metadata": {},
     "output_type": "execute_result"
    },
    {
     "data": {
      "image/png": "[encoded data removed]",
      "text/plain": [
       "<Figure size 720x360 with 1 Axes>"
      ]
     },
     "metadata": {
      "needs_background": "light"
     },
     "output_type": "display_data"
    }
   ],
   "source": [
    "#散点图1\n",
    "#指定两个部分\n",
    "positive = data[data['Y'] == 1]\n",
    "negative = data[data['Y'] == 0]\n",
    "\n",
    "#指定画图参数（图像大小，变量,颜色，标签）\n",
    "#figsize为图像大小，s为散点大小，c为散点颜色，marker为散点样式，label为标签\n",
    "fig, ax = plt.subplots(figsize = (10,5))\n",
    "ax.scatter(positive['X4'], positive['X5'], s = 20, c = 'b', marker = '2', label = 'top100 UP')\n",
    "ax.scatter(negative['X4'], negative['X5'], s = 20, c = 'r', marker = 'x', label = 'Not top100 UP')\n",
    "ax.legend()\n",
    "ax.set_xlabel('X4')\n",
    "ax.set_ylabel('X5')"
   ]
  },
  {
   "cell_type": "code",
   "execution_count": 14,
   "metadata": {},
   "outputs": [],
   "source": [
    "#计算新变量\n",
    "#粉丝留存率N1=粉丝数X4/视频播放量X6； 获赞率N2=获赞数X5/视频播放量X6； 平均播放量N3=视频播放量X6/作品数X7\n",
    "N1 = data.X4/data.X6\n",
    "N2 = data.X5/data.X6\n",
    "N3 = data.X6/data.X7"
   ]
  },
  {
   "cell_type": "code",
   "execution_count": 29,
   "metadata": {},
   "outputs": [],
   "source": [
    "#在data后新增列\n",
    "data['N1'] = N1\n",
    "data['N2'] = N2\n",
    "data['N3'] = N3"
   ]
  },
  {
   "cell_type": "code",
   "execution_count": 30,
   "metadata": {},
   "outputs": [
    {
     "data": {
      "text/html": [
       "<div>\n",
       "<style scoped>\n",
       "    .dataframe tbody tr th:only-of-type {\n",
       "        vertical-align: middle;\n",
       "    }\n",
       "\n",
       "    .dataframe tbody tr th {\n",
       "        vertical-align: top;\n",
       "    }\n",
       "\n",
       "    .dataframe thead th {\n",
       "        text-align: right;\n",
       "    }\n",
       "</style>\n",
       "<table border=\"1\" class=\"dataframe\">\n",
       "  <thead>\n",
       "    <tr style=\"text-align: right;\">\n",
       "      <th></th>\n",
       "      <th>X1</th>\n",
       "      <th>X2</th>\n",
       "      <th>X3</th>\n",
       "      <th>X4</th>\n",
       "      <th>X5</th>\n",
       "      <th>X6</th>\n",
       "      <th>X7</th>\n",
       "      <th>Y</th>\n",
       "      <th>N1</th>\n",
       "      <th>N2</th>\n",
       "      <th>N3</th>\n",
       "    </tr>\n",
       "  </thead>\n",
       "  <tbody>\n",
       "    <tr>\n",
       "      <th>0</th>\n",
       "      <td>6</td>\n",
       "      <td>0</td>\n",
       "      <td>254</td>\n",
       "      <td>3707000</td>\n",
       "      <td>10477000</td>\n",
       "      <td>160000000.0</td>\n",
       "      <td>121</td>\n",
       "      <td>1</td>\n",
       "      <td>0.023169</td>\n",
       "      <td>0.065481</td>\n",
       "      <td>1.322314e+06</td>\n",
       "    </tr>\n",
       "    <tr>\n",
       "      <th>1</th>\n",
       "      <td>6</td>\n",
       "      <td>1</td>\n",
       "      <td>197</td>\n",
       "      <td>3391000</td>\n",
       "      <td>23852000</td>\n",
       "      <td>260000000.0</td>\n",
       "      <td>202</td>\n",
       "      <td>1</td>\n",
       "      <td>0.013042</td>\n",
       "      <td>0.091738</td>\n",
       "      <td>1.287129e+06</td>\n",
       "    </tr>\n",
       "    <tr>\n",
       "      <th>2</th>\n",
       "      <td>6</td>\n",
       "      <td>0</td>\n",
       "      <td>117</td>\n",
       "      <td>1399000</td>\n",
       "      <td>6502000</td>\n",
       "      <td>110000000.0</td>\n",
       "      <td>158</td>\n",
       "      <td>1</td>\n",
       "      <td>0.012718</td>\n",
       "      <td>0.059109</td>\n",
       "      <td>6.962025e+05</td>\n",
       "    </tr>\n",
       "    <tr>\n",
       "      <th>3</th>\n",
       "      <td>6</td>\n",
       "      <td>1</td>\n",
       "      <td>376</td>\n",
       "      <td>3298000</td>\n",
       "      <td>18040000</td>\n",
       "      <td>190000000.0</td>\n",
       "      <td>186</td>\n",
       "      <td>1</td>\n",
       "      <td>0.017358</td>\n",
       "      <td>0.094947</td>\n",
       "      <td>1.021505e+06</td>\n",
       "    </tr>\n",
       "    <tr>\n",
       "      <th>4</th>\n",
       "      <td>6</td>\n",
       "      <td>1</td>\n",
       "      <td>0</td>\n",
       "      <td>3214000</td>\n",
       "      <td>6430000</td>\n",
       "      <td>370000000.0</td>\n",
       "      <td>468</td>\n",
       "      <td>1</td>\n",
       "      <td>0.008686</td>\n",
       "      <td>0.017378</td>\n",
       "      <td>7.905983e+05</td>\n",
       "    </tr>\n",
       "  </tbody>\n",
       "</table>\n",
       "</div>"
      ],
      "text/plain": [
       "   X1  X2   X3       X4        X5           X6   X7  Y        N1        N2  \\\n",
       "0   6   0  254  3707000  10477000  160000000.0  121  1  0.023169  0.065481   \n",
       "1   6   1  197  3391000  23852000  260000000.0  202  1  0.013042  0.091738   \n",
       "2   6   0  117  1399000   6502000  110000000.0  158  1  0.012718  0.059109   \n",
       "3   6   1  376  3298000  18040000  190000000.0  186  1  0.017358  0.094947   \n",
       "4   6   1    0  3214000   6430000  370000000.0  468  1  0.008686  0.017378   \n",
       "\n",
       "             N3  \n",
       "0  1.322314e+06  \n",
       "1  1.287129e+06  \n",
       "2  6.962025e+05  \n",
       "3  1.021505e+06  \n",
       "4  7.905983e+05  "
      ]
     },
     "execution_count": 30,
     "metadata": {},
     "output_type": "execute_result"
    }
   ],
   "source": [
    "#查看数据\n",
    "data.head()"
   ]
  },
  {
   "cell_type": "code",
   "execution_count": 50,
   "metadata": {},
   "outputs": [
    {
     "data": {
      "text/plain": [
       "Text(0, 0.5, 'N2')"
      ]
     },
     "execution_count": 50,
     "metadata": {},
     "output_type": "execute_result"
    },
    {
     "data": {
      "image/png": "[encoded data removed]",
      "text/plain": [
       "<Figure size 720x360 with 1 Axes>"
      ]
     },
     "metadata": {
      "needs_background": "light"
     },
     "output_type": "display_data"
    }
   ],
   "source": [
    "#散点图2\n",
    "fig, ax = plt.subplots(figsize = (10,5))\n",
    "ax.scatter(positive['N1'], positive['N2'], s = 20, c = 'b', marker = '2', label = 'top100 UP')\n",
    "ax.scatter(negative['N1'], negative['N2'], s = 20, c = 'r', marker = 'x', label = 'Not top100 UP')\n",
    "ax.legend()\n",
    "ax.set_xlabel('N1')\n",
    "ax.set_ylabel('N2')"
   ]
  },
  {
   "cell_type": "code",
   "execution_count": 49,
   "metadata": {},
   "outputs": [
    {
     "data": {
      "text/plain": [
       "Text(0, 0.5, 'N3')"
      ]
     },
     "execution_count": 49,
     "metadata": {},
     "output_type": "execute_result"
    },
    {
     "data": {
      "image/png": "[encoded data removed]",
      "text/plain": [
       "<Figure size 720x360 with 1 Axes>"
      ]
     },
     "metadata": {
      "needs_background": "light"
     },
     "output_type": "display_data"
    }
   ],
   "source": [
    "#散点图3\n",
    "fig, ax = plt.subplots(figsize = (10,5))\n",
    "ax.scatter(positive['N1'], positive['N3'], s = 20, c = 'b', marker = '2', label = 'top100 UP')\n",
    "ax.scatter(negative['N1'], negative['N3'], s = 20, c = 'r', marker = 'x', label = 'Not top100 UP')\n",
    "ax.legend()\n",
    "ax.set_xlabel('N1')\n",
    "ax.set_ylabel('N3')"
   ]
  },
  {
   "cell_type": "code",
   "execution_count": 48,
   "metadata": {},
   "outputs": [
    {
     "data": {
      "text/plain": [
       "Text(0, 0.5, 'N3')"
      ]
     },
     "execution_count": 48,
     "metadata": {},
     "output_type": "execute_result"
    },
    {
     "data": {
      "image/png": "[encoded data removed]",
      "text/plain": [
       "<Figure size 720x360 with 1 Axes>"
      ]
     },
     "metadata": {
      "needs_background": "light"
     },
     "output_type": "display_data"
    }
   ],
   "source": [
    "#散点图4\n",
    "fig, ax = plt.subplots(figsize = (10,5))\n",
    "ax.scatter(positive['N2'], positive['N3'], s = 20, c = 'b', marker = '2', label = 'top100 UP')\n",
    "ax.scatter(negative['N2'], negative['N3'], s = 20, c = 'r', marker = 'x', label = 'Not top100 UP')\n",
    "ax.legend()\n",
    "ax.set_xlabel('N2')\n",
    "ax.set_ylabel('N3')"
   ]
  },
  {
   "cell_type": "code",
   "execution_count": 53,
   "metadata": {},
   "outputs": [
    {
     "data": {
      "text/plain": [
       "Text(0.5, 0, 'N3')"
      ]
     },
     "execution_count": 53,
     "metadata": {},
     "output_type": "execute_result"
    },
    {
     "data": {
      "image/png": "[encoded data removed]",
      "text/plain": [
       "<Figure size 432x288 with 1 Axes>"
      ]
     },
     "metadata": {
      "needs_background": "light"
     },
     "output_type": "display_data"
    }
   ],
   "source": [
    "#绘制三维散点图\n",
    "from mpl_toolkits.mplot3d import Axes3D\n",
    "fig = plt.figure()\n",
    "ax = Axes3D(fig)\n",
    "ax.scatter(positive['N1'], positive['N2'], positive['N3'], s = 20, c = 'b', marker = '2', label = 'top100 UP')\n",
    "ax.scatter(negative['N1'], negative['N2'], negative['N3'], s = 20, c = 'r', marker = 'x', label = 'Not top100 UP')\n",
    "ax.legend()\n",
    "ax.set_xlabel('N1')\n",
    "ax.set_ylabel('N2')\n",
    "ax.set_zlabel('N3')"
   ]
  },
  {
   "cell_type": "markdown",
   "metadata": {},
   "source": [
    "# The logistic regression"
   ]
  },
  {
   "cell_type": "markdown",
   "metadata": {},
   "source": [
    "### 目标：建立分类器（构造决策边界）求解参数\n",
    "### 设定阈值，根据阈值判断结果\n",
    "### ------"
   ]
  },
  {
   "cell_type": "markdown",
   "metadata": {},
   "source": [
    "### sigmoid:映射到概率的函数\n",
    "### model:返回预测结果值\n",
    "### cost:根据参数计算损失\n",
    "### gradient:计算每个参数的梯度方向\n",
    "### descent:进行参数更新\n",
    "### accuracy:计算精度\n",
    "### ------"
   ]
  },
  {
   "cell_type": "markdown",
   "metadata": {},
   "source": [
    "Logistic回归:处理二分类问题，输出的被解释变量y={0,1}。线性回归模型产生的预测值z=wx+b是一个实值，所以通过logistic模型将实值z转化成0/1值便可。\n",
    "\n",
    "将是否为百大设置为被解释变量（y），将投稿数、平均播放量、平均弹幕数、平均点赞数、平均硬币数、主分区等作为解释变量（x）\n",
    "\n",
    "logistic回归最重要的是要找到最佳的拟合参数，即w。使用的方法是梯度上升法。\n"
   ]
  },
  {
   "cell_type": "code",
   "execution_count": 62,
   "metadata": {},
   "outputs": [],
   "source": [
    "# sigmoid函数\n",
    "def sigmoid(z):\n",
    "    return 1/(1 + np.exp(-z))"
   ]
  },
  {
   "cell_type": "code",
   "execution_count": 66,
   "metadata": {},
   "outputs": [
    {
     "data": {
      "text/plain": [
       "[<matplotlib.lines.Line2D at 0x1d5450253d0>]"
      ]
     },
     "execution_count": 66,
     "metadata": {},
     "output_type": "execute_result"
    },
    {
     "data": {
      "image/png": "[encoded data removed]",
      "text/plain": [
       "<Figure size 864x288 with 1 Axes>"
      ]
     },
     "metadata": {
      "needs_background": "light"
     },
     "output_type": "display_data"
    }
   ],
   "source": [
    "#这一步非必要，画sigmoid函数图\n",
    "nums = np.arange(-10, 10, step = 1)\n",
    "fig, ax = plt.subplots(figsize = (12,4))\n",
    "ax.plot(nums, sigmoid(nums), 'r')"
   ]
  },
  {
   "cell_type": "code",
   "execution_count": 67,
   "metadata": {},
   "outputs": [],
   "source": [
    "# g: R → [0,1]\n",
    "# g(0) = 0.5\n",
    "# g(-∞) = 0\n",
    "# g(+∞) = 1"
   ]
  },
  {
   "cell_type": "code",
   "execution_count": 70,
   "metadata": {},
   "outputs": [],
   "source": [
    "def model(X, theta):\n",
    "    return sigmoid(np.dot(X, theta.T))"
   ]
  },
  {
   "cell_type": "code",
   "execution_count": 79,
   "metadata": {},
   "outputs": [],
   "source": [
    "# 删掉无关列\n",
    "del data['X3']\n",
    "del data['X4']\n",
    "del data['X5']\n",
    "del data['X6']\n",
    "del data['X7']"
   ]
  },
  {
   "cell_type": "code",
   "execution_count": 80,
   "metadata": {},
   "outputs": [
    {
     "data": {
      "text/html": [
       "<div>\n",
       "<style scoped>\n",
       "    .dataframe tbody tr th:only-of-type {\n",
       "        vertical-align: middle;\n",
       "    }\n",
       "\n",
       "    .dataframe tbody tr th {\n",
       "        vertical-align: top;\n",
       "    }\n",
       "\n",
       "    .dataframe thead th {\n",
       "        text-align: right;\n",
       "    }\n",
       "</style>\n",
       "<table border=\"1\" class=\"dataframe\">\n",
       "  <thead>\n",
       "    <tr style=\"text-align: right;\">\n",
       "      <th></th>\n",
       "      <th>Y</th>\n",
       "      <th>N1</th>\n",
       "      <th>N2</th>\n",
       "      <th>N3</th>\n",
       "    </tr>\n",
       "  </thead>\n",
       "  <tbody>\n",
       "    <tr>\n",
       "      <th>0</th>\n",
       "      <td>1</td>\n",
       "      <td>0.023169</td>\n",
       "      <td>0.065481</td>\n",
       "      <td>1.322314e+06</td>\n",
       "    </tr>\n",
       "    <tr>\n",
       "      <th>1</th>\n",
       "      <td>1</td>\n",
       "      <td>0.013042</td>\n",
       "      <td>0.091738</td>\n",
       "      <td>1.287129e+06</td>\n",
       "    </tr>\n",
       "    <tr>\n",
       "      <th>2</th>\n",
       "      <td>1</td>\n",
       "      <td>0.012718</td>\n",
       "      <td>0.059109</td>\n",
       "      <td>6.962025e+05</td>\n",
       "    </tr>\n",
       "    <tr>\n",
       "      <th>3</th>\n",
       "      <td>1</td>\n",
       "      <td>0.017358</td>\n",
       "      <td>0.094947</td>\n",
       "      <td>1.021505e+06</td>\n",
       "    </tr>\n",
       "    <tr>\n",
       "      <th>4</th>\n",
       "      <td>1</td>\n",
       "      <td>0.008686</td>\n",
       "      <td>0.017378</td>\n",
       "      <td>7.905983e+05</td>\n",
       "    </tr>\n",
       "  </tbody>\n",
       "</table>\n",
       "</div>"
      ],
      "text/plain": [
       "   Y        N1        N2            N3\n",
       "0  1  0.023169  0.065481  1.322314e+06\n",
       "1  1  0.013042  0.091738  1.287129e+06\n",
       "2  1  0.012718  0.059109  6.962025e+05\n",
       "3  1  0.017358  0.094947  1.021505e+06\n",
       "4  1  0.008686  0.017378  7.905983e+05"
      ]
     },
     "execution_count": 80,
     "metadata": {},
     "output_type": "execute_result"
    }
   ],
   "source": [
    "data.head()"
   ]
  },
  {
   "cell_type": "code",
   "execution_count": 81,
   "metadata": {},
   "outputs": [],
   "source": [
    "# 第二列插入常数列\n",
    "data.insert(1, 'Ones', 1)"
   ]
  },
  {
   "cell_type": "code",
   "execution_count": 82,
   "metadata": {},
   "outputs": [
    {
     "data": {
      "text/html": [
       "<div>\n",
       "<style scoped>\n",
       "    .dataframe tbody tr th:only-of-type {\n",
       "        vertical-align: middle;\n",
       "    }\n",
       "\n",
       "    .dataframe tbody tr th {\n",
       "        vertical-align: top;\n",
       "    }\n",
       "\n",
       "    .dataframe thead th {\n",
       "        text-align: right;\n",
       "    }\n",
       "</style>\n",
       "<table border=\"1\" class=\"dataframe\">\n",
       "  <thead>\n",
       "    <tr style=\"text-align: right;\">\n",
       "      <th></th>\n",
       "      <th>Y</th>\n",
       "      <th>Ones</th>\n",
       "      <th>N1</th>\n",
       "      <th>N2</th>\n",
       "      <th>N3</th>\n",
       "    </tr>\n",
       "  </thead>\n",
       "  <tbody>\n",
       "    <tr>\n",
       "      <th>0</th>\n",
       "      <td>1</td>\n",
       "      <td>1</td>\n",
       "      <td>0.023169</td>\n",
       "      <td>0.065481</td>\n",
       "      <td>1.322314e+06</td>\n",
       "    </tr>\n",
       "    <tr>\n",
       "      <th>1</th>\n",
       "      <td>1</td>\n",
       "      <td>1</td>\n",
       "      <td>0.013042</td>\n",
       "      <td>0.091738</td>\n",
       "      <td>1.287129e+06</td>\n",
       "    </tr>\n",
       "    <tr>\n",
       "      <th>2</th>\n",
       "      <td>1</td>\n",
       "      <td>1</td>\n",
       "      <td>0.012718</td>\n",
       "      <td>0.059109</td>\n",
       "      <td>6.962025e+05</td>\n",
       "    </tr>\n",
       "    <tr>\n",
       "      <th>3</th>\n",
       "      <td>1</td>\n",
       "      <td>1</td>\n",
       "      <td>0.017358</td>\n",
       "      <td>0.094947</td>\n",
       "      <td>1.021505e+06</td>\n",
       "    </tr>\n",
       "    <tr>\n",
       "      <th>4</th>\n",
       "      <td>1</td>\n",
       "      <td>1</td>\n",
       "      <td>0.008686</td>\n",
       "      <td>0.017378</td>\n",
       "      <td>7.905983e+05</td>\n",
       "    </tr>\n",
       "  </tbody>\n",
       "</table>\n",
       "</div>"
      ],
      "text/plain": [
       "   Y  Ones        N1        N2            N3\n",
       "0  1     1  0.023169  0.065481  1.322314e+06\n",
       "1  1     1  0.013042  0.091738  1.287129e+06\n",
       "2  1     1  0.012718  0.059109  6.962025e+05\n",
       "3  1     1  0.017358  0.094947  1.021505e+06\n",
       "4  1     1  0.008686  0.017378  7.905983e+05"
      ]
     },
     "execution_count": 82,
     "metadata": {},
     "output_type": "execute_result"
    }
   ],
   "source": [
    "data.head()"
   ]
  },
  {
   "cell_type": "code",
   "execution_count": 88,
   "metadata": {},
   "outputs": [
    {
     "data": {
      "text/plain": [
       "(122, 5)"
      ]
     },
     "execution_count": 88,
     "metadata": {},
     "output_type": "execute_result"
    }
   ],
   "source": [
    "data.shape"
   ]
  },
  {
   "cell_type": "code",
   "execution_count": 121,
   "metadata": {},
   "outputs": [],
   "source": [
    "orig_data = data.iloc[0:122,0:5].values\n",
    "cols = orig_data.shape[1] #列数\n",
    "X = orig_data[:, 1:cols]\n",
    "Y = orig_data[:, 0]\n",
    "\n",
    "theta = np.zeros([1, 4])"
   ]
  },
  {
   "cell_type": "code",
   "execution_count": 122,
   "metadata": {},
   "outputs": [
    {
     "data": {
      "text/plain": [
       "array([[1.00000000e+00, 2.31687500e-02, 6.54812500e-02, 1.32231405e+06],\n",
       "       [1.00000000e+00, 1.30423077e-02, 9.17384615e-02, 1.28712871e+06],\n",
       "       [1.00000000e+00, 1.27181818e-02, 5.91090909e-02, 6.96202532e+05],\n",
       "       [1.00000000e+00, 1.73578947e-02, 9.49473684e-02, 1.02150538e+06],\n",
       "       [1.00000000e+00, 8.68648649e-03, 1.73783784e-02, 7.90598291e+05],\n",
       "       [1.00000000e+00, 7.99545455e-03, 3.70136364e-02, 6.19718310e+05]])"
      ]
     },
     "execution_count": 122,
     "metadata": {},
     "output_type": "execute_result"
    }
   ],
   "source": [
    "X[:6]"
   ]
  },
  {
   "cell_type": "code",
   "execution_count": 123,
   "metadata": {},
   "outputs": [
    {
     "data": {
      "text/plain": [
       "array([1., 1., 1., 1., 1., 1.])"
      ]
     },
     "execution_count": 123,
     "metadata": {},
     "output_type": "execute_result"
    }
   ],
   "source": [
    "Y[:6]"
   ]
  },
  {
   "cell_type": "code",
   "execution_count": 124,
   "metadata": {},
   "outputs": [
    {
     "data": {
      "text/plain": [
       "array([[0., 0., 0., 0.]])"
      ]
     },
     "execution_count": 124,
     "metadata": {},
     "output_type": "execute_result"
    }
   ],
   "source": [
    "theta"
   ]
  },
  {
   "cell_type": "code",
   "execution_count": 125,
   "metadata": {},
   "outputs": [
    {
     "data": {
      "text/plain": [
       "((122, 4), (122,), (1, 4))"
      ]
     },
     "execution_count": 125,
     "metadata": {},
     "output_type": "execute_result"
    }
   ],
   "source": [
    "X.shape, Y.shape, theta.shape"
   ]
  },
  {
   "cell_type": "code",
   "execution_count": 131,
   "metadata": {},
   "outputs": [
    {
     "data": {
      "text/plain": [
       "numpy.ndarray"
      ]
     },
     "execution_count": 131,
     "metadata": {},
     "output_type": "execute_result"
    }
   ],
   "source": [
    "type(X)"
   ]
  },
  {
   "cell_type": "code",
   "execution_count": null,
   "metadata": {},
   "outputs": [],
   "source": [
    "type(Y)"
   ]
  },
  {
   "cell_type": "code",
   "execution_count": 132,
   "metadata": {},
   "outputs": [
    {
     "data": {
      "text/plain": [
       "numpy.ndarray"
      ]
     },
     "execution_count": 132,
     "metadata": {},
     "output_type": "execute_result"
    }
   ],
   "source": [
    "type(theta)"
   ]
  },
  {
   "cell_type": "code",
   "execution_count": 133,
   "metadata": {},
   "outputs": [],
   "source": [
    "# 计算损失率\n",
    "def cost(X, Y, theta):\n",
    "    left = np.multiply(-Y, np.log(model(X, theta)))\n",
    "    right = np.multiply(1 - Y, np.log(1 - model(X, theta)))\n",
    "    return np.sum(left - right) / (len(X))"
   ]
  },
  {
   "cell_type": "code",
   "execution_count": 134,
   "metadata": {},
   "outputs": [
    {
     "data": {
      "text/plain": [
       "84.56395602831333"
      ]
     },
     "execution_count": 134,
     "metadata": {},
     "output_type": "execute_result"
    }
   ],
   "source": [
    "cost(X, Y, theta)"
   ]
  },
  {
   "cell_type": "code",
   "execution_count": 135,
   "metadata": {},
   "outputs": [],
   "source": [
    "# 计算梯度\n",
    "def gradient(X, Y, theta):\n",
    "    grad = np.zeros(theta.shape)\n",
    "    error = (model(X, theta) - Y).ravel()\n",
    "    for j in range(len(theta.ravel())):\n",
    "        term = np.multiply(error, X[:,j])\n",
    "        grad[0, j] = np.sum(term) / len(X)\n",
    "        \n",
    "    return grad"
   ]
  },
  {
   "cell_type": "code",
   "execution_count": 136,
   "metadata": {},
   "outputs": [],
   "source": [
    "# 比较三种梯度下降方法\n",
    "STOP_ITER = 0\n",
    "STOP_COST = 1\n",
    "STOP_GRAD = 2\n",
    "# 设定三种不同的停止策略\n",
    "def stopGriterion(type, value, threshold):\n",
    "    if type == STOP_ITER:\n",
    "        return value > threshold\n",
    "    elif type == STOP_COST:\n",
    "        return abs(value[-1]-value[-2]) < threshold\n",
    "    elif type == STOP_GRAD:\n",
    "        return np.linalg.norm(value) < threshold"
   ]
  },
  {
   "cell_type": "code",
   "execution_count": 137,
   "metadata": {},
   "outputs": [],
   "source": [
    "import numpy.random"
   ]
  },
  {
   "cell_type": "code",
   "execution_count": 138,
   "metadata": {},
   "outputs": [],
   "source": [
    "def shuffleData(data):\n",
    "    np.random.shuffle(data)\n",
    "    cols = data.shape[1]\n",
    "    X = data[:, 0:cols-1]\n",
    "    Y = data[:, cols-1:]\n",
    "    return X, Y"
   ]
  },
  {
   "cell_type": "code",
   "execution_count": 139,
   "metadata": {},
   "outputs": [],
   "source": [
    "import time"
   ]
  },
  {
   "cell_type": "code",
   "execution_count": 143,
   "metadata": {},
   "outputs": [],
   "source": [
    "def descent(data, theta, batchSize, stopType, thresh, alpha):\n",
    "    # 梯度下降求解\n",
    "    init_time = time.time()\n",
    "    i = 0 # 迭代次数\n",
    "    k = 0 # batch\n",
    "    X, Y = shuffleData(data)\n",
    "    grad = np.zeros(theta.shape) # 计算的梯度\n",
    "    costs = [cost(X, Y, theta)] # 损失值\n",
    "    \n",
    "    while True:\n",
    "        grad = gradient(X[k:k+batchSize],Y[k:k+batchSize], theta)\n",
    "        k += batchSize # 取batch数量个数据\n",
    "        if k >= n:\n",
    "            k = 0\n",
    "            X, Y = shuffleData(data) # 重新洗牌\n",
    "        theta = theta - alpha*grad # 参数更新\n",
    "        costs.append(cost(X, Y, theta)) # 计算新的损失\n",
    "        i += 1\n",
    "        \n",
    "        if stopType == STOP_ITER:\n",
    "            value = i\n",
    "        elif stopType == STOP_COST:\n",
    "            value = costs\n",
    "        elif stopType == STOP_GRAD:\n",
    "            value = grad\n",
    "        if stopGriterion(stopType, value, thresh):break\n",
    "            \n",
    "    return theta, i-1, costs, grad, time.time() - init_time"
   ]
  },
  {
   "cell_type": "code",
   "execution_count": 147,
   "metadata": {},
   "outputs": [],
   "source": [
    "def runExpe(data, theta, batchSize, stopType, thresh, alpha):\n",
    "    theta, iter, costs, grad, dur = descent(data, theta, batchSize, stopType, thresh, alpha)\n",
    "    name = 'Original' if (data[:,1]>2).sum() > 1 else 'Scaled'\n",
    "    name += 'data - learning rate: {} - '.format(alpha)\n",
    "    if batchSize == n: strDescType = 'Gradient'\n",
    "    elif batchSize == 1: strDescType = 'Stochastic'\n",
    "    else: strDescType = 'Mini-batch({})'.format(batchSize)\n",
    "    name += strDescType + 'descent - Stop:'\n",
    "    if stopType == STOP_ITER: strStop = '{} iterations'.format(thresh)\n",
    "    elif stopType == STOP_COST: strStop = 'cost change < {}'.format(thresh)\n",
    "    else: strType = 'gradient norm < {}'.format(thresh)\n",
    "    name += strStop\n",
    "    print ('***{}\\nTheta: {} - Iter: {} - Last cost: {:03.2f} - Duration: {:03.2f}s'.format(\n",
    "        name, theta, iter, costs[-1], dur))\n",
    "    fig, ax = plt.subplots(figsize=(12,4))\n",
    "    ax.plot(np.arange(len(costs)), costs, 'r')\n",
    "    ax.set_xlabel('Iterations')\n",
    "    ax.set_ylabel('cost')\n",
    "    ax.set_title(name.upper() + 'Error vs. Iteration')\n",
    "    return theta"
   ]
  },
  {
   "cell_type": "code",
   "execution_count": 150,
   "metadata": {},
   "outputs": [
    {
     "name": "stderr",
     "output_type": "stream",
     "text": [
      "<ipython-input-133-47a44032ab8f>:3: RuntimeWarning: divide by zero encountered in log\n",
      "  right = np.multiply(1 - Y, np.log(1 - model(X, theta)))\n"
     ]
    },
    {
     "name": "stdout",
     "output_type": "stream",
     "text": [
      "***Scaleddata - learning rate: 1e-06 - Gradientdescent - Stop:5000 iterations\n",
      "Theta: [[4556.68684847 5080.59470441   67.31523685  307.64330274]] - Iter: 5000 - Last cost: -inf - Duration: 1.15s\n"
     ]
    },
    {
     "data": {
      "text/plain": [
       "array([[4556.68684847, 5080.59470441,   67.31523685,  307.64330274]])"
      ]
     },
     "execution_count": 150,
     "metadata": {},
     "output_type": "execute_result"
    },
    {
     "data": {
      "image/png": "[encoded data removed]",
      "text/plain": [
       "<Figure size 864x288 with 1 Axes>"
      ]
     },
     "metadata": {
      "needs_background": "light"
     },
     "output_type": "display_data"
    }
   ],
   "source": [
    "#不同的停止策略\n",
    "#设定迭代次数\n",
    "#选择的梯度下降方法是基于所有样本的\n",
    "n = 122\n",
    "runExpe(orig_data, theta, n, STOP_ITER, thresh=5000, alpha=0.000001)"
   ]
  },
  {
   "cell_type": "code",
   "execution_count": 159,
   "metadata": {},
   "outputs": [],
   "source": [
    "# 精度\n",
    "def predict(X, theta):\n",
    "    return [1 if x>= 0.5 else 0 for x in model(X, theta)]"
   ]
  },
  {
   "cell_type": "code",
   "execution_count": null,
   "metadata": {},
   "outputs": [],
   "source": []
  },
  {
   "cell_type": "code",
   "execution_count": null,
   "metadata": {},
   "outputs": [],
   "source": []
  },
  {
   "cell_type": "code",
   "execution_count": null,
   "metadata": {},
   "outputs": [],
   "source": []
  }
 ],
 "metadata": {
  "kernelspec": {
   "display_name": "Python 3",
   "language": "python",
   "name": "python3"
  },
  "language_info": {
   "codemirror_mode": {
    "name": "ipython",
    "version": 3
   },
   "file_extension": ".py",
   "mimetype": "text/x-python",
   "name": "python",
   "nbconvert_exporter": "python",
   "pygments_lexer": "ipython3",
   "version": "3.8.3"
  }
 },
 "nbformat": 4,
 "nbformat_minor": 4
}
