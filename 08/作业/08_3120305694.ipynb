{
 "cells": [
  {
   "cell_type": "code",
   "execution_count": 2,
   "metadata": {},
   "outputs": [],
   "source": [
    "#B站弹幕数据分析和可视化（比较习惯用pycharm写）"
   ]
  },
  {
   "cell_type": "code",
   "execution_count": 3,
   "metadata": {},
   "outputs": [],
   "source": [
    "#首先是爬取弹幕并下载"
   ]
  },
  {
   "cell_type": "code",
   "execution_count": 4,
   "metadata": {},
   "outputs": [
    {
     "name": "stdout",
     "output_type": "stream",
     "text": [
      "请输入B站视频链接: https://www.bilibili.com/bangumi/play/ep17617\n"
     ]
    }
   ],
   "source": [
    "import re\n",
    "import requests\n",
    "url = input('请输入B站视频链接: ')\n",
    "res = requests.get(url)\n",
    "cid = re.findall(r'\"cid\":(.*?),', res.text)[-1]\n",
    "url = f'https://comment.bilibili.com/{cid}.xml'\n",
    "res = requests.get(url)\n",
    "with open(f'{cid}.xml', 'wb') as f:\n",
    "    f.write(res.content)"
   ]
  },
  {
   "cell_type": "code",
   "execution_count": 5,
   "metadata": {},
   "outputs": [],
   "source": [
    "#输出弹幕文件51816463.xml"
   ]
  },
  {
   "cell_type": "code",
   "execution_count": 6,
   "metadata": {},
   "outputs": [],
   "source": [
    "#处理弹幕文件\n",
    "#stime: 弹幕出现时间 (s)\n",
    "#mode: 弹幕类型 (< 7 时为普通弹幕)\n",
    "#size: 字号\n",
    "#color: 文字颜色\n",
    "#date: 发送时间戳\n",
    "#pool: 弹幕池ID\n",
    "#author: 发送者ID\n",
    "#dbid: 数据库记录ID（单调递增）"
   ]
  },
  {
   "cell_type": "code",
   "execution_count": 7,
   "metadata": {},
   "outputs": [],
   "source": [
    "#了解弹幕的参数后，我们就将弹幕信息保存为danmus.csv文件"
   ]
  },
  {
   "cell_type": "code",
   "execution_count": 8,
   "metadata": {},
   "outputs": [],
   "source": [
    "import re\n",
    "with open('51816463.xml', encoding='utf-8') as f:\n",
    "    data = f.read()\n",
    "comments = re.findall('<d p=\"(.*?)\">(.*?)</d>', data)\n",
    "# print(len(comments))  # 3000\n",
    "danmus = [','.join(item) for item in comments]\n",
    "headers = ['stime', 'mode', 'size', 'color', 'date', 'pool', 'author', 'dbid', 'text']\n",
    "headers = ','.join(headers)\n",
    "danmus.insert(0, headers)\n",
    "\n",
    "with open('danmus.csv', 'w', encoding='utf_8_sig') as f:\n",
    "    f.writelines([line+'\\n' for line in danmus])"
   ]
  },
  {
   "cell_type": "code",
   "execution_count": 9,
   "metadata": {},
   "outputs": [],
   "source": [
    "#进行数据分析，首先进行词云分析"
   ]
  },
  {
   "cell_type": "code",
   "execution_count": null,
   "metadata": {},
   "outputs": [],
   "source": [
    "from pyecharts import options as opts\n",
    "from pyecharts.charts import WordCloud\n",
    "import jieba\n",
    "\n",
    "with open('danmus.csv', encoding='utf-8') as f:\n",
    "    text = \" \".join([line.split(',')[-1] for line in f.readlines()])\n",
    "\n",
    "words = jieba.cut(text)\n",
    "_dict = {}\n",
    "for word in words:\n",
    "    if len(word) >= 2:\n",
    "        _dict[word] = _dict.get(word, 0)+1\n",
    "items = list(_dict.items())\n",
    "items.sort(key=lambda x: x[1], reverse=True)\n",
    "\n",
    "c = (\n",
    "    WordCloud()\n",
    "    .add(\n",
    "        \"\",\n",
    "        items,\n",
    "        word_size_range=[20, 120],\n",
    "        textstyle_opts=opts.TextStyleOpts(font_family=\"cursive\"),\n",
    "    )\n",
    "    .render(\"wordcloud.html\")\n",
    ")"
   ]
  },
  {
   "cell_type": "code",
   "execution_count": 10,
   "metadata": {},
   "outputs": [],
   "source": [
    "#由饼状图可知：3000条弹幕中，积极弹幕超过一半，中立弹幕有百分之三十几\n",
    "#当然，弹幕调侃内容居中，而且有很多梗，会对情感分析造成很大的障碍"
   ]
  },
  {
   "cell_type": "code",
   "execution_count": 11,
   "metadata": {},
   "outputs": [],
   "source": [
    "#>>> from snownlp import SnowNLP\n",
    "#>>> s = SnowNLP('阿伟死了') \n",
    "#>>> s.sentiments"
   ]
  },
  {
   "cell_type": "code",
   "execution_count": 12,
   "metadata": {},
   "outputs": [],
   "source": [
    "#\"阿伟死了\"因带有\"死\"字，所以被判别为消极情绪。\n",
    "#但实际上，它反映的确实积极情绪，形容对看到可爱的事物时的激动心情。"
   ]
  },
  {
   "cell_type": "code",
   "execution_count": null,
   "metadata": {},
   "outputs": [],
   "source": [
    "from snownlp import SnowNLP\n",
    "from pyecharts import options as opts\n",
    "from pyecharts.charts import Pie\n",
    "\n",
    "with open('danmus.csv', encoding='utf-8') as f:\n",
    "    text = [line.split(',')[-1] for line in f.readlines()[1:]]\n",
    "\n",
    "emotions = {\n",
    "    'positive': 0,\n",
    "    'negative': 0,\n",
    "    'neutral': 0\n",
    "}\n",
    "for item in text:\n",
    "    if SnowNLP(item).sentiments > 0.6:\n",
    "        emotions['positive'] += 1\n",
    "    elif SnowNLP(item).sentiments < 0.4:\n",
    "        emotions['negative'] += 1\n",
    "    else:\n",
    "        emotions['neutral'] += 1\n",
    "print(emotions)\n",
    "\n",
    "\n",
    "c = (\n",
    "    Pie()\n",
    "    .add(\"\", list(emotions.items()))\n",
    "    .set_colors([\"blue\", \"purple\", \"orange\"])\n",
    "    .set_series_opts(label_opts=opts.LabelOpts(formatter=\"{b}: {c} ({d}%)\"))\n",
    "    .render(\"emotionAnalysis.html\")\n",
    ")"
   ]
  },
  {
   "cell_type": "code",
   "execution_count": 13,
   "metadata": {},
   "outputs": [],
   "source": [
    "#精彩片段，用折线图进行分析"
   ]
  },
  {
   "cell_type": "code",
   "execution_count": null,
   "metadata": {},
   "outputs": [],
   "source": [
    "from pyecharts.commons.utils import JsCode\n",
    "from pyecharts.charts import Line\n",
    "from pyecharts.charts import Line, Grid\n",
    "import pyecharts.options as opts\n",
    "\n",
    "\n",
    "with open('danmus.csv', encoding='utf-8') as f:\n",
    "    text = [float(line.split(',')[0]) for line in f.readlines()[1:]]\n",
    "\n",
    "\n",
    "text = sorted([int(item) for item in text])\n",
    "data = {}\n",
    "for item in text:\n",
    "    item = int(item/60)\n",
    "    data[item] = data.get(item, 0)+1\n",
    "\n",
    "\n",
    "x_data = list(data.keys())\n",
    "y_data = list(data.values())\n",
    "background_color_js = (\n",
    "    \"new echarts.graphic.LinearGradient(0, 0, 0, 1, \"\n",
    "    \"[{offset: 0, color: '#c86589'}, {offset: 1, color: '#06a7ff'}], false)\"\n",
    ")\n",
    "area_color_js = (\n",
    "    \"new echarts.graphic.LinearGradient(0, 0, 0, 1, \"\n",
    "    \"[{offset: 0, color: '#eb64fb'}, {offset: 1, color: '#3fbbff0d'}], false)\"\n",
    ")\n",
    "c = (\n",
    "    Line(init_opts=opts.InitOpts(bg_color=JsCode(background_color_js)))\n",
    "    .add_xaxis(xaxis_data=x_data)\n",
    "    .add_yaxis(\n",
    "        series_name=\"弹幕数量\",\n",
    "        y_axis=y_data,\n",
    "        is_smooth=True,\n",
    "        symbol=\"circle\",\n",
    "        symbol_size=6,\n",
    "        linestyle_opts=opts.LineStyleOpts(color=\"#fff\"),\n",
    "        label_opts=opts.LabelOpts(is_show=True, position=\"top\", color=\"white\"),\n",
    "        itemstyle_opts=opts.ItemStyleOpts(\n",
    "            color=\"red\", border_color=\"#fff\", border_width=3\n",
    "        ),\n",
    "        tooltip_opts=opts.TooltipOpts(is_show=True),\n",
    "        areastyle_opts=opts.AreaStyleOpts(\n",
    "            color=JsCode(area_color_js), opacity=1),\n",
    "        markpoint_opts=opts.MarkPointOpts(\n",
    "            data=[opts.MarkPointItem(type_=\"max\")])\n",
    "    )\n",
    "    .set_global_opts(\n",
    "        title_opts=opts.TitleOpts(\n",
    "            title=\"\",\n",
    "            pos_bottom=\"5%\",\n",
    "            pos_left=\"center\",\n",
    "            title_textstyle_opts=opts.TextStyleOpts(\n",
    "                color=\"#fff\", font_size=16),\n",
    "        ),\n",
    "        xaxis_opts=opts.AxisOpts(\n",
    "            type_=\"category\",\n",
    "            boundary_gap=False,\n",
    "            axislabel_opts=opts.LabelOpts(margin=30, color=\"#ffffff63\"),\n",
    "            axisline_opts=opts.AxisLineOpts(\n",
    "                linestyle_opts=opts.LineStyleOpts(width=2, color=\"#fff\")\n",
    "            ),\n",
    "            axistick_opts=opts.AxisTickOpts(\n",
    "                is_show=True,\n",
    "                length=25,\n",
    "                linestyle_opts=opts.LineStyleOpts(color=\"#ffffff1f\"),\n",
    "            ),\n",
    "            splitline_opts=opts.SplitLineOpts(\n",
    "                is_show=True, linestyle_opts=opts.LineStyleOpts(color=\"#ffffff1f\")\n",
    "            )\n",
    "        ),\n",
    "        yaxis_opts=opts.AxisOpts(\n",
    "            type_=\"value\",\n",
    "            position=\"left\",\n",
    "            axislabel_opts=opts.LabelOpts(margin=20, color=\"#ffffff63\"),\n",
    "            axisline_opts=opts.AxisLineOpts(\n",
    "                linestyle_opts=opts.LineStyleOpts(width=2, color=\"#fff\")\n",
    "            ),\n",
    "            axistick_opts=opts.AxisTickOpts(\n",
    "                is_show=True,\n",
    "                length=15,\n",
    "                linestyle_opts=opts.LineStyleOpts(color=\"#ffffff1f\"),\n",
    "            ),\n",
    "            splitline_opts=opts.SplitLineOpts(\n",
    "                is_show=True, linestyle_opts=opts.LineStyleOpts(color=\"#ffffff1f\")\n",
    "            ),\n",
    "        ),\n",
    "        legend_opts=opts.LegendOpts(is_show=False),\n",
    "        tooltip_opts=opts.TooltipOpts(trigger=\"axis\", axis_pointer_type=\"line\")\n",
    "    )\n",
    "    .render(\"highlights.html\")\n",
    ")"
   ]
  },
  {
   "cell_type": "code",
   "execution_count": 14,
   "metadata": {},
   "outputs": [],
   "source": [
    "#高能时刻，知道番剧的名场面出自几分几秒，即高能时刻。"
   ]
  },
  {
   "cell_type": "code",
   "execution_count": 15,
   "metadata": {},
   "outputs": [
    {
     "name": "stdout",
     "output_type": "stream",
     "text": [
      "9m29s 名场面:怀中抱妹鲨\n"
     ]
    }
   ],
   "source": [
    "import re\n",
    "\n",
    "with open('danmus.csv', encoding='utf-8') as f:\n",
    "    danmus = []\n",
    "    for line in f.readlines()[1:]:\n",
    "        time = int(float(line.split(',')[0]))\n",
    "        text = line.split(',')[-1].replace('\\n', '')\n",
    "        danmus.append([time, text])\n",
    "\n",
    "danmus.sort(key=lambda x: x[0])\n",
    "dict1 = {}\n",
    "dict2 = {}\n",
    "control = True\n",
    "for item in danmus:\n",
    "    if re.search('名场面(:|：)', item[1]):\n",
    "        print(f'{int(item[0]/60)}m{item[0]%60}s {item[1]}')\n",
    "        control = False\n",
    "        break\n",
    "    if '名场面' in item[1]:\n",
    "        minute = int(item[0]/60)\n",
    "        second = item[0] % 60\n",
    "        dict1[minute] = dict1.get(minute, 0)+1\n",
    "        dict2[minute] = dict2.get(minute, 0)+second\n",
    "    else:\n",
    "        pass\n",
    "if control:\n",
    "    minute= max(dict1, key=dict1.get)\n",
    "    second = round(dict2[minute]/dict1[minute])\n",
    "    print(f'{minute}m{second}s 名场面')"
   ]
  },
  {
   "cell_type": "code",
   "execution_count": 16,
   "metadata": {},
   "outputs": [],
   "source": [
    "#福利情节，字体颜色为黄色，也就是10进制颜色的值为16776960时，就是那种比较污的福利情节\n",
    "#同时为了防止异常，只有当该分钟内出现黄色弹幕的次数≥3时，才说明该分钟内是福利情节，并且输出该分钟内第一次出现黄色弹幕的秒数："
   ]
  },
  {
   "cell_type": "code",
   "execution_count": null,
   "metadata": {},
   "outputs": [],
   "source": [
    "with open('danmus.csv', encoding='utf-8') as f:\n",
    "    danmus = []\n",
    "    for line in f.readlines()[1:]:\n",
    "        time = int(float(line.split(',')[0]))\n",
    "        color = line.split(',')[3]\n",
    "        text = line.split(',')[-1].replace('\\n', '')\n",
    "        danmus.append([time, color, text])\n",
    "\n",
    "danmus.sort(key=lambda x: x[0])\n",
    "dict1 = {}\n",
    "dict2 = {}\n",
    "for item in danmus:\n",
    "    if item[1] == '16776960':\n",
    "        minute = int(item[0]/60)\n",
    "        second = item[0] % 60\n",
    "        dict1[minute] = dict1.get(minute, 0)+1\n",
    "        if dict2.get(minute) == None:\n",
    "            dict2[minute] = f'{minute:0>2}m{second:0>2}s {item[2]}'\n",
    "        else:\n",
    "            pass\n",
    "            \n",
    "for key, value in dict1.items():\n",
    "    if value >= 3:\n",
    "        print(dict2[key])"
   ]
  },
  {
   "cell_type": "code",
   "execution_count": 17,
   "metadata": {},
   "outputs": [],
   "source": [
    "#end"
   ]
  },
  {
   "cell_type": "code",
   "execution_count": null,
   "metadata": {},
   "outputs": [],
   "source": []
  }
 ],
 "metadata": {
  "kernelspec": {
   "display_name": "Python 3",
   "language": "python",
   "name": "python3"
  },
  "language_info": {
   "codemirror_mode": {
    "name": "ipython",
    "version": 3
   },
   "file_extension": ".py",
   "mimetype": "text/x-python",
   "name": "python",
   "nbconvert_exporter": "python",
   "pygments_lexer": "ipython3",
   "version": "3.8.5"
  }
 },
 "nbformat": 4,
 "nbformat_minor": 4
}
