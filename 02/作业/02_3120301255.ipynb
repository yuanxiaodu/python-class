{
 "cells": [
  {
   "cell_type": "code",
   "execution_count": 1,
   "metadata": {},
   "outputs": [
    {
     "data": {
      "text/plain": [
       "'D:\\\\anaconda3\\\\python.exe'"
      ]
     },
     "execution_count": 1,
     "metadata": {},
     "output_type": "execute_result"
    }
   ],
   "source": [
    "import sys\n",
    "sys.executable"
   ]
  },
  {
   "cell_type": "code",
   "execution_count": 11,
   "metadata": {},
   "outputs": [
    {
     "name": "stdout",
     "output_type": "stream",
     "text": [
      "我有一只小毛驴，我从来都不骑。\n",
      "我有一只小毛驴，我从来都不骑。\n",
      "我有一只小毛驴，我从来都不骑。\n",
      "\n"
     ]
    }
   ],
   "source": [
    "with open(r'C:\\Users\\王晨浩\\Desktop\\test.txt','a+') as file:  #注意此处的冒号,a+表示可读写，文件存在则追加写\n",
    "    file.write('我有一只小毛驴，我从来都不骑。\\n' )             #注意此处字符串中\\n换行操作有效\n",
    "    file.seek(0)\n",
    "    content = file.read()\n",
    "\n",
    "    print(content)\n"
   ]
  },
  {
   "cell_type": "code",
   "execution_count": 12,
   "metadata": {},
   "outputs": [
    {
     "name": "stdout",
     "output_type": "stream",
     "text": [
      "*********Made by WCH**********\n"
     ]
    },
    {
     "name": "stdin",
     "output_type": "stream",
     "text": [
      "猜一下我心中在想什么，你有四次机会哦！ 5\n"
     ]
    },
    {
     "name": "stdout",
     "output_type": "stream",
     "text": [
      "大了大了\n"
     ]
    },
    {
     "name": "stdin",
     "output_type": "stream",
     "text": [
      "真遗憾，猜错了，再猜一次吧，你还有3次机会 3\n"
     ]
    },
    {
     "name": "stdout",
     "output_type": "stream",
     "text": [
      "大了大了\n"
     ]
    },
    {
     "name": "stdin",
     "output_type": "stream",
     "text": [
      "真遗憾，猜错了，再猜一次吧，你还有2次机会 1\n"
     ]
    },
    {
     "name": "stdout",
     "output_type": "stream",
     "text": [
      "猜对啦，真聪明，不过没有奖励，哈哈\n",
      "5秒钟后我会自动关闭哦\n"
     ]
    }
   ],
   "source": [
    "#猜字小游戏\n",
    "print('*********Made by WCH**********')\n",
    "import random\n",
    "import time\n",
    "\n",
    "secret = random.randint(1,10)\n",
    "guess = input('猜一下我心中在想什么，你有四次机会哦！')\n",
    "guess = int(guess)\n",
    "i = 3\n",
    "index = False\n",
    "while i > 0:\n",
    "    if guess == secret:\n",
    "        print('猜对啦，真聪明，不过没有奖励，哈哈')\n",
    "        print('5秒钟后我会自动关闭哦')\n",
    "        time.sleep(5)\n",
    "        index = True\n",
    "        exit()\n",
    "    else:\n",
    "        if guess < secret:\n",
    "            print('小了小了')\n",
    "        else:\n",
    "            print('大了大了')\n",
    "        guess = int(input(\"真遗憾，猜错了，再猜一次吧，你还有%d次机会\"%i))\n",
    "    i -= 1\n",
    "if not index:\n",
    "    print('你真笨，这都猜不着')\n",
    "    print('5秒钟后我会自动关闭哦')\n",
    "    time.sleep(5)"
   ]
  },
  {
   "cell_type": "code",
   "execution_count": null,
   "metadata": {},
   "outputs": [],
   "source": [
    "try : #执行代码\n",
    "except : #出现异常时执行的代码\n",
    "else :\n",
    "finally : #无论有无错误都要执行的代码"
   ]
  },
  {
   "cell_type": "code",
   "execution_count": 1,
   "metadata": {},
   "outputs": [
    {
     "name": "stdout",
     "output_type": "stream",
     "text": [
      "['我有一只小毛驴，我从来都不骑。\\n', '我有一只小毛驴，我从来都不骑。\\n', '我有一只小毛驴，我从来都不骑。\\n', '我有一只小毛驴，我从来都不骑。\\n']\n"
     ]
    }
   ],
   "source": [
    "with open(r'C:\\Users\\王晨浩\\Desktop\\test.txt','a+') as file:  #注意此处的冒号,a+表示可读写，文件存在则追加写\n",
    "    file.write('我有一只小毛驴，我从来都不骑。\\n' )             #注意此处字符串中\\n换行操作有效\n",
    "    file.seek(0)\n",
    "    content = file.readlines()                       #file.readlines()以每行内容为元素分界，返回一个列表\n",
    "\n",
    "    print(content)"
   ]
  },
  {
   "cell_type": "code",
   "execution_count": 6,
   "metadata": {},
   "outputs": [
    {
     "name": "stdout",
     "output_type": "stream",
     "text": [
      "*********Made by WCH**********\n"
     ]
    },
    {
     "name": "stdin",
     "output_type": "stream",
     "text": [
      "猜一下我心中在想什么，你有四次机会哦！ 5\n"
     ]
    },
    {
     "name": "stdout",
     "output_type": "stream",
     "text": [
      "小了小了\n"
     ]
    },
    {
     "name": "stdin",
     "output_type": "stream",
     "text": [
      "真遗憾，猜错了，再猜一次吧，你还有3次机会 8\n"
     ]
    },
    {
     "name": "stdout",
     "output_type": "stream",
     "text": [
      "小了小了\n"
     ]
    },
    {
     "name": "stdin",
     "output_type": "stream",
     "text": [
      "真遗憾，猜错了，再猜一次吧，你还有2次机会 9\n"
     ]
    },
    {
     "name": "stdout",
     "output_type": "stream",
     "text": [
      "猜对啦，真聪明，不过没有奖励，哈哈\n",
      "5秒钟后我会自动关闭哦\n"
     ]
    }
   ],
   "source": [
    "#文件调用只能是上层调用下层\n",
    "from sys import *\n",
    "from Desktop import 猜字小游戏\n"
   ]
  },
  {
   "cell_type": "code",
   "execution_count": 7,
   "metadata": {},
   "outputs": [
    {
     "name": "stdout",
     "output_type": "stream",
     "text": [
      "11\n"
     ]
    }
   ],
   "source": [
    "#全局变量会占用更多内存\n",
    "a = 10\n",
    "def test():\n",
    "    global a   #声明此处调用的变量为全局变量\n",
    "    a += 1\n",
    "    print(a)\n",
    "test()"
   ]
  },
  {
   "cell_type": "code",
   "execution_count": 8,
   "metadata": {},
   "outputs": [
    {
     "name": "stdout",
     "output_type": "stream",
     "text": [
      "201\n",
      "10\n"
     ]
    }
   ],
   "source": [
    "num = 10\n",
    "def test():\n",
    "    num = 200\n",
    "    num += 1\n",
    "    print(num)    #此处num变量与函数外num变量不同，其值互不影响，定义互不影响\n",
    "test()\n",
    "print(num)"
   ]
  },
  {
   "cell_type": "code",
   "execution_count": null,
   "metadata": {},
   "outputs": [],
   "source": [
    "#仿写老师的爬虫程序\n",
    "import codecs\n",
    "import copy\n",
    "import csv\n",
    "import json\n",
    "import math\n",
    "import os\n",
    "import random\n",
    "import sys\n",
    "import traceback\n",
    "from collections import OrderedDict\n",
    "from datetime import date,datetime,timedelta\n",
    "from time import sleep\n",
    "\n",
    "import requestes.adapters import HTTPAdapter\n",
    "from tqdm import tqdm\n",
    "\n",
    "#定义微博对象\n",
    "class Weibo(object):\n",
    "    def __init__(self,config):\n",
    "        '''微博类初始化'''\n",
    "        self.validate_config(config)\n",
    "        #fliter参数为0（默认）时，爬取用户全部微博，为1时只爬取用户的原创微博\n",
    "        self.filter = config['filter']\n",
    "        since_date = str(config['sunce_date'])\n",
    "        if since_date.isdigit():\n",
    "            since_date = str(date.today() - timedelta(int(since_date)))\n",
    "            #起始时间，即爬取发布日期从该值到现在的微博，形式为yyyy-mm-dd(年月日？)\n",
    "        self.since_date = since_date\n",
    "            #结果信息保存类型为List形式，可包含csv、mongo和mysql三种类型\n",
    "        self.write_mode = config['write_mode']\n",
    "            #参数original_pic_download取值0（默认）代表不下载_原创微博图片，取值1代表下载\n",
    "        self.original_pic_download = config['original_pic_download']\n",
    "            #参数retweet_pic_download取值0（默认）代表不下载_转发图片，取值1代表下载\n",
    "        self.retweet_pic_download = config['retweet_pic_download']\n",
    "            #参数original_video_download取值0（默认）代表不下载_原创微博视频，取值1代表下载\n",
    "        self.original_video_download = config['original_video_download']\n",
    "            #参数retweet_video_download取值0（默认）代表不下载_转发视频，取值1代表下载\n",
    "        self.retweet_video_download = config['retweet_video_download']\n",
    "        self.cookie = {'Cookie':config.get('cookie')} #微博cookie可填可不填\n",
    "        self.mysql_config = config.get('mysql_config')#MySQL数据库连接配置，可填可不填。\n",
    "        User_id_list = config['user_id_list']\n",
    "        if not isinstance(User_id_list,list):\n",
    "            if not os.path.isabs(User_id_list):\n",
    "                User_id_list = os.path.split(\n",
    "                    os.path.realpath(__file__))[0] + os.sep + User_id_list\n",
    "                self.User_config_file_path = User_id_list  #用户配置及文件路径\n",
    "                User_config_list = self.get_User_config_list(User_id_list)\n",
    "        \n",
    "        \n",
    "        "
   ]
  },
  {
   "cell_type": "code",
   "execution_count": 4,
   "metadata": {},
   "outputs": [
    {
     "data": {
      "image/png": "[encoded data removed]",
      "text/plain": [
       "<Figure size 432x288 with 1 Axes>"
      ]
     },
     "metadata": {
      "needs_background": "light"
     },
     "output_type": "display_data"
    }
   ],
   "source": [
    "from matplotlib import pyplot as plt\n",
    "x = range(2,26,2)\n",
    "y = [15,13,14.5,17,20,25,26,26,24,22,18,15]\n",
    "plt.plot(x,y)\n",
    "plt.show()"
   ]
  },
  {
   "cell_type": "code",
   "execution_count": 1,
   "metadata": {},
   "outputs": [
    {
     "data": {
      "text/plain": [
       "'D:\\\\anaconda\\\\python.exe'"
      ]
     },
     "execution_count": 1,
     "metadata": {},
     "output_type": "execute_result"
    }
   ],
   "source": [
    "import sys\n",
    "sys.executable"
   ]
  },
  {
   "cell_type": "code",
   "execution_count": 3,
   "metadata": {},
   "outputs": [
    {
     "name": "stdout",
     "output_type": "stream",
     "text": [
      "moving from A to C\n",
      "moving from A to B\n",
      "moving from C to B\n",
      "moving from A to C\n",
      "moving from B to A\n",
      "moving from B to C\n",
      "moving from A to C\n"
     ]
    }
   ],
   "source": [
    "#运用递归解决汉诺塔问题\n",
    "def hannoi(n,a,b,c): \n",
    "    if n > 0:\n",
    "        hannoi(n-1,a,c,b)\n",
    "        print('moving from %s to %s'%(a,c))\n",
    "        hannoi(n-1,b,a,c)\n",
    "hannoi(3,'A','B','C')\n"
   ]
  },
  {
   "cell_type": "code",
   "execution_count": 1,
   "metadata": {},
   "outputs": [
    {
     "name": "stdout",
     "output_type": "stream",
     "text": [
      "[1, 4, 7, 10, 13, 16, 19, 22, 25, 28, 31, 34, 37, 40, 43, 46, 49, 52, 55, 58, 61, 64, 67, 70, 73, 76, 79, 82, 85, 88, 91, 94, 97]\n",
      "[1, 4, 7, 10, 13, 16, 19, 22, 25, 28, 31, 34, 37, 40, 43, 46, 49, 52, 55, 58, 61, 64, 67, 70, 73, 76, 79, 82, 85, 88, 91, 94, 97]\n",
      "22\n",
      "90\n"
     ]
    }
   ],
   "source": [
    "#在有序数组中运用二分法查找元素\n",
    "def binary_search(li,val):\n",
    "    left = 0\n",
    "    right = len(li) - 1\n",
    "    while left <= right:   #候选区有值\n",
    "        mid = (left + right)//2\n",
    "        if li[mid] == val:\n",
    "            return mid        \n",
    "        elif li[mid] > val:\n",
    "            right = mid - 1\n",
    "        else:\n",
    "            left = mid + 1\n",
    "    else: \n",
    "        return None\n",
    "    \n",
    "li = [i for i in range(1,99,3)]\n",
    "print(li)\n",
    "print(str(li))\n",
    "print(binary_search(li,67))\n",
    "print(90)"
   ]
  },
  {
   "cell_type": "code",
   "execution_count": 5,
   "metadata": {},
   "outputs": [
    {
     "data": {
      "image/png": "[encoded data removed]",
      "text/plain": [
       "<Figure size 432x288 with 1 Axes>"
      ]
     },
     "metadata": {
      "needs_background": "light"
     },
     "output_type": "display_data"
    }
   ],
   "source": [
    "\"\"\"\n",
    "Demo of a PathPatch object.\n",
    "\"\"\"\n",
    "import matplotlib.path as mpath\n",
    "import matplotlib.patches as mpatches\n",
    "import matplotlib.pyplot as plt\n",
    "\n",
    "fig,ax = plt.subplots()\n",
    "\n",
    "Path = mpath.Path         #创建路径对象\n",
    "path_data = [\n",
    "    (Path.MOVETO,(1.58,-2.57)),\n",
    "    (Path.CURVE4,(0.35,-1.1)),\n",
    "    (Path.CURVE4,(-1.75,2.0)),\n",
    "    (Path.CURVE4,(0.375,2.0)),\n",
    "    (Path.LINETO,(0.85,1.15)),\n",
    "    (Path.CURVE4,(2.2,3.2)),\n",
    "    (Path.CURVE4,(3,0.05)),\n",
    "    (Path.CURVE4,(2.0,-0.5)),\n",
    "    (Path.CLOSEPOLY,(1.58,-2.57)),\n",
    "]\n",
    "codes,verts = zip(*path_data)\n",
    "path = mpath.Path(verts,codes)\n",
    "patch = mpatches.PathPatch(path,facecolor='r',alpha=0.5)\n",
    "ax.add_patch(patch)\n",
    "\n",
    "#plot control points and connecting lines\n",
    "x,y = zip(*path.vertices)\n",
    "#line, = ax.plot(x,y,'go-')\n",
    "\n",
    "ax.grid()\n",
    "ax.axis('equal')\n",
    "plt.show()"
   ]
  },
  {
   "cell_type": "code",
   "execution_count": 1,
   "metadata": {},
   "outputs": [
    {
     "data": {
      "image/png": "[encoded data removed]",
      "text/plain": [
       "<Figure size 432x288 with 1 Axes>"
      ]
     },
     "metadata": {
      "needs_background": "light"
     },
     "output_type": "display_data"
    },
    {
     "name": "stdout",
     "output_type": "stream",
     "text": [
      "140\n"
     ]
    }
   ],
   "source": [
    "import numpy as np\n",
    "import matplotlib.pyplot as plt\n",
    "\n",
    "x = np.linspace(0,2*np.pi,50)\n",
    "y = np.sin(x)\n",
    "y2 = y + 0.1*np.random.normal(size=x.shape)\n",
    "\n",
    "fig,ax = plt.subplots()\n",
    "ax.plot(x,y,'k--')\n",
    "ax.plot(x,y2,'ro')\n",
    "\n",
    "#set tick and tick labels\n",
    "ax.set_xlim((0,2*np.pi))\n",
    "ax.set_xticks([0,np.pi,2*np.pi])\n",
    "ax.set_xticklabels(['0','$\\pi$','2$\\pi$'])\n",
    "ax.set_ylim((-1.5,1.5))\n",
    "ax.set_yticks([-1,0,1])\n",
    "\n",
    "#Only draw spine between the y-ticks\n",
    "ax.spines['left'].set_bounds(-1,1)\n",
    "#Hide the right and top spines\n",
    "ax.spines['right'].set_visible(False)\n",
    "ax.spines['top'].set_visible(False)\n",
    "#Only show ticks on the left and bottom spines\n",
    "ax.yaxis.set_ticks_position('left')\n",
    "ax.xaxis.set_ticks_position('bottom')\n",
    "\n",
    "plt.show()\n",
    "print(140)"
   ]
  },
  {
   "cell_type": "code",
   "execution_count": null,
   "metadata": {},
   "outputs": [
    {
     "name": "stdout",
     "output_type": "stream",
     "text": [
      "date:20201218-v1 \n",
      "Come on! WorkMan\n",
      "16:38:06.517047\n"
     ]
    }
   ],
   "source": [
    "import datetime as dt\n",
    "import time\n",
    "import subprocess\n",
    "if __name__ == \"__main__\":\n",
    "    print('date:20201218-v1 \\nCome on! WorkMan')\n",
    "    done = False\n",
    "    cmd0 = 'conda activate spider & python yjskq_auto_release.py'\n",
    "    #A = True\n",
    "    while True:\n",
    "        current_time = dt.datetime.now().time()\n",
    "        print(current_time)\n",
    "        #A = False\n",
    "        if current_time.hour == 8 and done == False:\n",
    "            p0 = subprocess.Popen(cmd0,shell=True)\n",
    "            p0.wait()\n",
    "            p0.kill()\n",
    "            done = True\n",
    "        if current_time.hour == 9:\n",
    "            done = False\n",
    "        \n",
    "        if current_time.hour == 10 and current_time.minute > 10 and done == False:\n",
    "            p0 = subprocess.Popen(cmd0,shell=True)\n",
    "            p0.wait()\n",
    "            p0.kill()\n",
    "            done = True\n",
    "        if current_time.hour == 11:\n",
    "            done = False\n",
    "            \n",
    "        if current_time.hour == 14 and done == False:\n",
    "            p0 = subprocess.Popen(cmd0,shell=True)\n",
    "            p0.wait()\n",
    "            p0.kill()\n",
    "            done = True\n",
    "        if current_time.hour == 17:\n",
    "            done = False\n",
    "            \n",
    "        time.sleep(60)\n",
    "print(160)"
   ]
  },
  {
   "cell_type": "code",
   "execution_count": 3,
   "metadata": {},
   "outputs": [
    {
     "name": "stdout",
     "output_type": "stream",
     "text": [
      "190\n"
     ]
    },
    {
     "ename": "TypeError",
     "evalue": "__init__() got an unexpected keyword argument 'descripyion'",
     "output_type": "error",
     "traceback": [
      "\u001b[1;31m---------------------------------------------------------------------------\u001b[0m",
      "\u001b[1;31mTypeError\u001b[0m                                 Traceback (most recent call last)",
      "\u001b[1;32m<ipython-input-3-9c365c997873>\u001b[0m in \u001b[0;36m<module>\u001b[1;34m\u001b[0m\n\u001b[0;32m      5\u001b[0m \u001b[1;33m\u001b[0m\u001b[0m\n\u001b[0;32m      6\u001b[0m \u001b[0mprint\u001b[0m\u001b[1;33m(\u001b[0m\u001b[1;36m190\u001b[0m\u001b[1;33m)\u001b[0m\u001b[1;33m\u001b[0m\u001b[1;33m\u001b[0m\u001b[0m\n\u001b[1;32m----> 7\u001b[1;33m \u001b[0mparser\u001b[0m \u001b[1;33m=\u001b[0m \u001b[0margparse\u001b[0m\u001b[1;33m.\u001b[0m\u001b[0mArgumentParser\u001b[0m\u001b[1;33m(\u001b[0m\u001b[0mdescripyion\u001b[0m\u001b[1;33m=\u001b[0m\u001b[1;34m'执行了几次就把times写成几就好'\u001b[0m\u001b[1;33m)\u001b[0m\u001b[1;33m\u001b[0m\u001b[1;33m\u001b[0m\u001b[0m\n\u001b[0m\u001b[0;32m      8\u001b[0m \u001b[0mparser\u001b[0m\u001b[1;33m.\u001b[0m\u001b[0madd_argument\u001b[0m\u001b[1;33m(\u001b[0m\u001b[1;34m'--times'\u001b[0m\u001b[1;33m,\u001b[0m\u001b[0mtype\u001b[0m\u001b[1;33m=\u001b[0m\u001b[0mint\u001b[0m\u001b[1;33m,\u001b[0m\u001b[0mdefault\u001b[0m\u001b[1;33m=\u001b[0m\u001b[1;36m0\u001b[0m\u001b[1;33m)\u001b[0m\u001b[1;33m\u001b[0m\u001b[1;33m\u001b[0m\u001b[0m\n\u001b[0;32m      9\u001b[0m \u001b[0mparser\u001b[0m\u001b[1;33m.\u001b[0m\u001b[0madd_argument\u001b[0m\u001b[1;33m(\u001b[0m\u001b[1;34m'--success'\u001b[0m\u001b[1;33m,\u001b[0m\u001b[0mtype\u001b[0m\u001b[1;33m=\u001b[0m\u001b[0mstr\u001b[0m\u001b[1;33m,\u001b[0m\u001b[0mdefault\u001b[0m \u001b[1;33m=\u001b[0m \u001b[1;34m'None'\u001b[0m\u001b[1;33m)\u001b[0m\u001b[1;33m\u001b[0m\u001b[1;33m\u001b[0m\u001b[0m\n",
      "\u001b[1;31mTypeError\u001b[0m: __init__() got an unexpected keyword argument 'descripyion'"
     ]
    }
   ],
   "source": [
    "from email.mime.text import MIMEText\n",
    "from email.header import Header\n",
    "from smtplib import SMTP_SSL\n",
    "import argparse\n",
    "\n",
    "print(190)\n",
    "parser = argparse.ArgumentParser(descripyion='执行了几次就把times写成几就好')\n",
    "parser.add_argument('--times',type=int,default=0)\n",
    "parser.add_argument('--success',type=str,default = 'None')\n",
    "parser.add_argument('--message',type=str,default = 'None')\n",
    "args = parser.parse_args()\n",
    "print(args.times)\n",
    "\n",
    "#qq邮箱smtp服务器\n",
    "host_server = 'smtp.qq.com'\n",
    "#sender_qq为发件人的qq号码\n",
    "sender_qq = '176*******8@qq.com'\n",
    "#pwd为邮箱授权码，怎么开通自己百度一下\n",
    "pwd = 'an***********jbi'\n",
    "#发件人邮箱\n",
    "sender_qq_mail = '27******74@qq.com'\n",
    "#收件人邮箱\n",
    "receiver = 'c*********8@qq.com'\n",
    "#邮件正文内容ov\n",
    "mail_content = f'上课打卡情况已发送'\n",
    "#邮件标题内容ov\n",
    "mail_title = f'打卡  {args.message}'\n",
    "print('邮件已发送')\n",
    "\n",
    "#ssl登录\n",
    "smtp = SMTP_SSL(host_server)\n",
    "#set_debuglevel()是用来调试的。参数值为1表示开启调试模式，参数值为0关闭调试模式\n",
    "smtp.set_debuglevel(0)\n",
    "smtp.ehlo(host_sever)\n",
    "smtp.login(sender_qq,pwd)\n",
    "\n",
    "msg = MIMEText(mail_content,'plain','utf-8')\n",
    "msg['Subject'] = Header(mail_title,'utf-8')\n",
    "msg['To'] = receiver\n",
    "smtp.sendmail(sender_qq_mail,receiver,msg.as_string())\n",
    "smtp.quit()\n",
    "print(190)"
   ]
  },
  {
   "cell_type": "code",
   "execution_count": 1,
   "metadata": {},
   "outputs": [
    {
     "name": "stdout",
     "output_type": "stream",
     "text": [
      "90\n"
     ]
    }
   ],
   "source": [
    "print(90)"
   ]
  },
  {
   "cell_type": "code",
   "execution_count": 4,
   "metadata": {},
   "outputs": [
    {
     "name": "stdin",
     "output_type": "stream",
     "text": [
      "猜一下我心中在想什么数字，你有四次机会哦！ 5\n"
     ]
    },
    {
     "name": "stdout",
     "output_type": "stream",
     "text": [
      "大了大了\n"
     ]
    },
    {
     "name": "stdin",
     "output_type": "stream",
     "text": [
      "真遗憾，猜错了，再猜一次吧，你还有3次机会 3\n"
     ]
    },
    {
     "name": "stdout",
     "output_type": "stream",
     "text": [
      "大了大了\n"
     ]
    },
    {
     "name": "stdin",
     "output_type": "stream",
     "text": [
      "真遗憾，猜错了，再猜一次吧，你还有2次机会 2\n"
     ]
    },
    {
     "name": "stdout",
     "output_type": "stream",
     "text": [
      "猜对啦，真聪明，不过没有奖励，哈哈\n",
      "5秒钟后我会自动关闭哦\n"
     ]
    }
   ],
   "source": [
    "import random\n",
    "import time\n",
    "\n",
    "secret = random.randint(1,10)\n",
    "guess = input('猜一下我心中在想什么数字，你有四次机会哦！')\n",
    "guess = int(guess)\n",
    "i = 3\n",
    "index = False\n",
    "while i > -1:\n",
    "    if guess != secret:\n",
    "        if guess < secret:\n",
    "            print('小了小了')\n",
    "        else:\n",
    "            print('大了大了')\n",
    "        if i != 0:\n",
    "            guess = int(input('真遗憾，猜错了，再猜一次吧，你还有%d次机会'%i))\n",
    "    else:\n",
    "        print('猜对啦，真聪明，不过没有奖励，哈哈')\n",
    "        print('5秒钟后我会自动关闭哦')\n",
    "        time.sleep(5)\n",
    "        index = True\n",
    "        break\n",
    "    i -= 1\n",
    "if not index:\n",
    "    print('hahahahahahahahahah.....')\n",
    "    print('5秒后我会自动关闭哦')\n",
    "    time.sleep(5)\n",
    "print(210)"
   ]
  },
  {
   "cell_type": "code",
   "execution_count": null,
   "metadata": {},
   "outputs": [],
   "source": []
  }
 ],
 "metadata": {
  "kernelspec": {
   "display_name": "Python 3",
   "language": "python",
   "name": "python3"
  },
  "language_info": {
   "codemirror_mode": {
    "name": "ipython",
    "version": 3
   },
   "file_extension": ".py",
   "mimetype": "text/x-python",
   "name": "python",
   "nbconvert_exporter": "python",
   "pygments_lexer": "ipython3",
   "version": "3.9.0"
  }
 },
 "nbformat": 4,
 "nbformat_minor": 4
}
