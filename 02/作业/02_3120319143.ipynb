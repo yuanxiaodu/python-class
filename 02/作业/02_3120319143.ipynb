{
 "cells": [
  {
   "cell_type": "code",
   "execution_count": 1,
   "metadata": {},
   "outputs": [
    {
     "data": {
      "text/plain": [
       "'C:\\\\Users\\\\y\\\\anaconda3\\\\python.exe'"
      ]
     },
     "execution_count": 1,
     "metadata": {},
     "output_type": "execute_result"
    }
   ],
   "source": [
    "import sys\n",
    "sys.executable"
   ]
  },
  {
   "cell_type": "code",
   "execution_count": 3,
   "metadata": {},
   "outputs": [
    {
     "data": {
      "text/plain": [
       "['C:\\\\Users\\\\y\\\\anaconda3\\\\lib\\\\site-packages\\\\ipykernel_launcher.py',\n",
       " '-f',\n",
       " 'C:\\\\Users\\\\y\\\\AppData\\\\Roaming\\\\jupyter\\\\runtime\\\\kernel-cfa86e40-cbbc-4ba6-b99d-02d9941f92e3.json']"
      ]
     },
     "execution_count": 3,
     "metadata": {},
     "output_type": "execute_result"
    }
   ],
   "source": [
    "sys.argv"
   ]
  },
  {
   "cell_type": "code",
   "execution_count": 6,
   "metadata": {},
   "outputs": [
    {
     "name": "stdout",
     "output_type": "stream",
     "text": [
      "arg1: Zed, arg2: Shaw\n",
      "arg1: Zed, arg2: Shaw\n",
      "arg1:First!\n",
      "I got nothin'.\n"
     ]
    }
   ],
   "source": [
    "def print_two(*args):\n",
    "    arg1,arg2=args\n",
    "    print(f\"arg1: {arg1}, arg2: {arg2}\")\n",
    "          \n",
    "def print_two_again(arg1,arg2):\n",
    "    print(f\"arg1: {arg1}, arg2: {arg2}\")\n",
    "          \n",
    "def print_one(arg1):\n",
    "    print(f\"arg1:{arg1}\")\n",
    "          \n",
    "def print_none():\n",
    "    print(\"I got nothin'.\")\n",
    "          \n",
    "          \n",
    "print_two(\"Zed\",\"Shaw\")\n",
    "print_two_again(\"Zed\",\"Shaw\")\n",
    "print_one(\"First!\")\n",
    "print_none()"
   ]
  },
  {
   "cell_type": "code",
   "execution_count": 7,
   "metadata": {},
   "outputs": [
    {
     "ename": "SyntaxError",
     "evalue": "invalid character in identifier (<ipython-input-7-415690c26c8d>, line 1)",
     "output_type": "error",
     "traceback": [
      "\u001b[1;36m  File \u001b[1;32m\"<ipython-input-7-415690c26c8d>\"\u001b[1;36m, line \u001b[1;32m1\u001b[0m\n\u001b[1;33m    filename=’sample.txt'\u001b[0m\n\u001b[1;37m                   ^\u001b[0m\n\u001b[1;31mSyntaxError\u001b[0m\u001b[1;31m:\u001b[0m invalid character in identifier\n"
     ]
    }
   ],
   "source": [
    "filename=’sample.txt'\n",
    "txt= open(filename)\n",
    "\n",
    "print(f\"Here's your file {filename}:\")\n",
    "print(txt.read())\n",
    "txt.close()"
   ]
  },
  {
   "cell_type": "code",
   "execution_count": 9,
   "metadata": {},
   "outputs": [
    {
     "name": "stdout",
     "output_type": "stream",
     "text": [
      "Let's do some math with just functions!\n",
      "ADDING 30 + 5\n"
     ]
    },
    {
     "ename": "NameError",
     "evalue": "name 'A' is not defined",
     "output_type": "error",
     "traceback": [
      "\u001b[1;31m---------------------------------------------------------------------------\u001b[0m",
      "\u001b[1;31mNameError\u001b[0m                                 Traceback (most recent call last)",
      "\u001b[1;32m<ipython-input-9-a6ab3b59f5df>\u001b[0m in \u001b[0;36m<module>\u001b[1;34m\u001b[0m\n\u001b[0;32m     18\u001b[0m \u001b[1;33m\u001b[0m\u001b[0m\n\u001b[0;32m     19\u001b[0m \u001b[0mage\u001b[0m \u001b[1;33m=\u001b[0m \u001b[0madd\u001b[0m\u001b[1;33m(\u001b[0m\u001b[1;36m30\u001b[0m\u001b[1;33m,\u001b[0m \u001b[1;36m5\u001b[0m\u001b[1;33m)\u001b[0m\u001b[1;33m\u001b[0m\u001b[1;33m\u001b[0m\u001b[0m\n\u001b[1;32m---> 20\u001b[1;33m \u001b[0mheight\u001b[0m \u001b[1;33m=\u001b[0m \u001b[0msubtract\u001b[0m\u001b[1;33m(\u001b[0m\u001b[1;36m78\u001b[0m\u001b[1;33m,\u001b[0m \u001b[1;36m4\u001b[0m\u001b[1;33m)\u001b[0m\u001b[1;33m\u001b[0m\u001b[1;33m\u001b[0m\u001b[0m\n\u001b[0m\u001b[0;32m     21\u001b[0m \u001b[0mweight\u001b[0m \u001b[1;33m=\u001b[0m \u001b[0mmultiply\u001b[0m\u001b[1;33m(\u001b[0m\u001b[1;36m90\u001b[0m\u001b[1;33m,\u001b[0m \u001b[1;36m2\u001b[0m\u001b[1;33m)\u001b[0m\u001b[1;33m\u001b[0m\u001b[1;33m\u001b[0m\u001b[0m\n\u001b[0;32m     22\u001b[0m \u001b[0miq\u001b[0m \u001b[1;33m=\u001b[0m \u001b[0mdivide\u001b[0m\u001b[1;33m(\u001b[0m\u001b[1;36m100\u001b[0m\u001b[1;33m,\u001b[0m \u001b[1;36m2\u001b[0m\u001b[1;33m)\u001b[0m\u001b[1;33m\u001b[0m\u001b[1;33m\u001b[0m\u001b[0m\n",
      "\u001b[1;32m<ipython-input-9-a6ab3b59f5df>\u001b[0m in \u001b[0;36msubtract\u001b[1;34m(a, b)\u001b[0m\n\u001b[0;32m      4\u001b[0m \u001b[1;33m\u001b[0m\u001b[0m\n\u001b[0;32m      5\u001b[0m \u001b[1;32mdef\u001b[0m \u001b[0msubtract\u001b[0m\u001b[1;33m(\u001b[0m\u001b[0ma\u001b[0m\u001b[1;33m,\u001b[0m \u001b[0mb\u001b[0m\u001b[1;33m)\u001b[0m\u001b[1;33m:\u001b[0m\u001b[1;33m\u001b[0m\u001b[1;33m\u001b[0m\u001b[0m\n\u001b[1;32m----> 6\u001b[1;33m     \u001b[0mprint\u001b[0m\u001b[1;33m(\u001b[0m\u001b[1;34mf\"SUBTRACTING {A} - {B}\"\u001b[0m\u001b[1;33m)\u001b[0m\u001b[1;33m\u001b[0m\u001b[1;33m\u001b[0m\u001b[0m\n\u001b[0m\u001b[0;32m      7\u001b[0m     \u001b[1;32mreturn\u001b[0m \u001b[0ma\u001b[0m \u001b[1;33m-\u001b[0m \u001b[0mb\u001b[0m\u001b[1;33m\u001b[0m\u001b[1;33m\u001b[0m\u001b[0m\n\u001b[0;32m      8\u001b[0m \u001b[1;33m\u001b[0m\u001b[0m\n",
      "\u001b[1;31mNameError\u001b[0m: name 'A' is not defined"
     ]
    }
   ],
   "source": [
    "def add(a,b):\n",
    "    print(f\"ADDING {a} + {b}\")\n",
    "    return a + b\n",
    "\n",
    "def subtract(a, b):\n",
    "    print(f\"SUBTRACTING {A} - {B}\")\n",
    "    return a - b\n",
    "\n",
    "def multiply(a, b):\n",
    "    print(f\"MULTIPLYING {a} * {b}\")\n",
    "    return a * b\n",
    "\n",
    "def divide(a, b):\n",
    "    print(f\"DIVIDING {a} / {b}\")\n",
    "    return a / b\n",
    "\n",
    "print(\"Let's do some math with just functions!\")\n",
    "\n",
    "age = add(30, 5)\n",
    "height = subtract(78, 4)\n",
    "weight = multiply(90, 2)\n",
    "iq = divide(100, 2)\n",
    "\n",
    "print(f\"Age: {age}, Height: {height}, Weight: {weight}: {weight}, IQ: {iq}\")\n",
    "\n",
    "\n",
    "print(\"Here is a puzzle.\")\n",
    "\n",
    "what = add(age, subtract(height, multiply(weight, divide(iq, 2))))\n",
    "\n",
    "print(\"That becomes: \", what, \"Can you do it by hand?\")"
   ]
  },
  {
   "cell_type": "code",
   "execution_count": 14,
   "metadata": {},
   "outputs": [
    {
     "name": "stdout",
     "output_type": "stream",
     "text": [
      "hi\n",
      "nice\n",
      "hello world\n",
      "hello python\n"
     ]
    }
   ],
   "source": [
    "a=20\n",
    "b=30\n",
    "c=15\n",
    "\n",
    "if a < b:\n",
    "    print(\"hi\")\n",
    "    \n",
    "if a > b:\n",
    "    print(\"hello\")\n",
    "    \n",
    "if a > c:\n",
    "    print(\"nice\")\n",
    "    \n",
    "if a < c:\n",
    "    print(\"good\")\n",
    "    \n",
    "c += 5\n",
    "\n",
    "if a >= c:\n",
    "   print(\"hello world\")\n",
    "    \n",
    "if a <= c:\n",
    "   print(\"hello python\")\n",
    "    \n"
   ]
  },
  {
   "cell_type": "code",
   "execution_count": 16,
   "metadata": {},
   "outputs": [
    {
     "data": {
      "text/plain": [
       "True"
      ]
     },
     "execution_count": 16,
     "metadata": {},
     "output_type": "execute_result"
    }
   ],
   "source": [
    "3 == 3 and (not (\"testing\" == \"testing\" or \"Python\" == \"Fun\"))\n",
    "\"chunky\" == \"bacon\" and (not (3 == 4 or 3 == 3))\n",
    "1==1 and (not(\"testing\"==1 or 1==0))\n",
    "not (\"testing\" == \"testing\" and \"Zed\" == \"Cool Guy\")\n",
    "not(1!=10 or 3==4)\n",
    "not (10 == 1 or 1000 == 1000)\n",
    "not(1==1 and 0!=1)\n",
    "not (True and False)\n",
    "\"test\" == 1\n",
    "\"test\" != \"testing\"\n",
    "1!=0 and 2==1\n",
    "\"test\" == \"testing\"\n",
    "True or 1==1\n",
    "False and 0!=0\n",
    "True and 1==1\n",
    "1==1 or 2!=1\n",
    "\"test\" == \"test\"\n",
    "1==1 and 2==1\n",
    "False and True\n",
    "True and True"
   ]
  },
  {
   "cell_type": "code",
   "execution_count": 18,
   "metadata": {},
   "outputs": [
    {
     "ename": "SyntaxError",
     "evalue": "invalid syntax (<ipython-input-18-b46909b0e764>, line 14)",
     "output_type": "error",
     "traceback": [
      "\u001b[1;36m  File \u001b[1;32m\"<ipython-input-18-b46909b0e764>\"\u001b[1;36m, line \u001b[1;32m14\u001b[0m\n\u001b[1;33m    elif c < b\u001b[0m\n\u001b[1;37m              ^\u001b[0m\n\u001b[1;31mSyntaxError\u001b[0m\u001b[1;31m:\u001b[0m invalid syntax\n"
     ]
    }
   ],
   "source": [
    "a = 30\n",
    "b = 40\n",
    "c = 15\n",
    "\n",
    "if b > a:\n",
    "    print(\"nice\")\n",
    "elif b < a:\n",
    "    print(\"to\")\n",
    "else:\n",
    "    print(\"meet\")\n",
    "    \n",
    "if c > b:\n",
    "    print(\"you\")\n",
    "elif c < b\n",
    "    print(\"ok\")\n",
    "else:\n",
    "    print(\"fine\")\n",
    "    \n",
    "if a > c\n",
    "    print(\"and\")\n",
    "else:\n",
    "    print(\"you\")"
   ]
  },
  {
   "cell_type": "code",
   "execution_count": 19,
   "metadata": {},
   "outputs": [
    {
     "name": "stdout",
     "output_type": "stream",
     "text": [
      "1到 100 之和为： 5050\n"
     ]
    }
   ],
   "source": [
    "n = 100\n",
    "\n",
    "sum = 0\n",
    "counter = 1\n",
    "while counter <= n:\n",
    "    sum = sum + counter\n",
    "    counter += 1\n",
    "\n",
    "print(\"1到 %d 之和为： %d\" % (n,sum))"
   ]
  },
  {
   "cell_type": "code",
   "execution_count": 20,
   "metadata": {},
   "outputs": [],
   "source": [
    "def save_grade(name, grade):\n",
    "    grades = open('sample.txt', 'a')\n",
    "    grades.write(f'姓名：{name}\\t成绩：{grade}\\n')\n",
    "    grades.close()"
   ]
  },
  {
   "cell_type": "code",
   "execution_count": 21,
   "metadata": {},
   "outputs": [
    {
     "name": "stdout",
     "output_type": "stream",
     "text": [
      "请输入姓名：邓元鑫\n",
      "请输入成绩：99\n",
      "邓元鑫的成绩已保存。\n",
      "是否继续输入（yes or no）？no\n"
     ]
    }
   ],
   "source": [
    "while True:\n",
    "    name = input(\"请输入姓名：\")\n",
    "    grade = input('请输入成绩：')\n",
    "    save_grade(name, grade)\n",
    "    print(f'{name}的成绩已保存。')\n",
    "    go_on = input('是否继续输入（yes or no）？')\n",
    "    n = 0\n",
    "    if go_on == 'yes':\n",
    "        continue\n",
    "    elif go_on == 'no':\n",
    "        break\n",
    "    print('成绩输入结束。')"
   ]
  },
  {
   "cell_type": "code",
   "execution_count": 23,
   "metadata": {},
   "outputs": [
    {
     "name": "stdout",
     "output_type": "stream",
     "text": [
      "请输入姓名：dyx\n",
      "请输入成绩：99\n",
      "dyx的成绩已保存。\n",
      "是否继续输入（yes or no）？1\n",
      "2 指令无效，是否继续输入（yes or no）？2\n",
      "3 指令无效，是否继续输入（yes or no）？3\n",
      "结束\n"
     ]
    }
   ],
   "source": [
    "while True:\n",
    "    name = input(\"请输入姓名：\")\n",
    "    grade = input('请输入成绩：')\n",
    "    save_grade(name, grade)\n",
    "    print(f'{name}的成绩已保存。')\n",
    "    go_on = input('是否继续输入（yes or no）？')\n",
    "    n = 0\n",
    "    while n < 2:\n",
    "        if go_on == 'yes':\n",
    "            break\n",
    "            n = 0\n",
    "        elif go_on == 'no':\n",
    "            break\n",
    "        else:\n",
    "            n+=1\n",
    "            go_on = input(f'{n + 1} 指令无效，是否继续输入（yes or no）？')\n",
    "    if go_on == 'no' or n == 2:\n",
    "        print('结束')\n",
    "        break"
   ]
  },
  {
   "cell_type": "code",
   "execution_count": 24,
   "metadata": {},
   "outputs": [
    {
     "ename": "SyntaxError",
     "evalue": "invalid character in identifier (<ipython-input-24-f3827767a65a>, line 4)",
     "output_type": "error",
     "traceback": [
      "\u001b[1;36m  File \u001b[1;32m\"<ipython-input-24-f3827767a65a>\"\u001b[1;36m, line \u001b[1;32m4\u001b[0m\n\u001b[1;33m    for number in numbers：\u001b[0m\n\u001b[1;37m                         ^\u001b[0m\n\u001b[1;31mSyntaxError\u001b[0m\u001b[1;31m:\u001b[0m invalid character in identifier\n"
     ]
    }
   ],
   "source": [
    "number_file = open('numbers.txt')\n",
    "numbers = number_file.readlines()\n",
    "sum= 0\n",
    "for number in numbers：\n",
    "    sum += number\n",
    "print(sum)\n",
    "number_file.close()"
   ]
  },
  {
   "cell_type": "code",
   "execution_count": 27,
   "metadata": {},
   "outputs": [
    {
     "name": "stdout",
     "output_type": "stream",
     "text": [
      "未知错误\n"
     ]
    },
    {
     "ename": "NameError",
     "evalue": "name 'number_file' is not defined",
     "output_type": "error",
     "traceback": [
      "\u001b[1;31m---------------------------------------------------------------------------\u001b[0m",
      "\u001b[1;31mNameError\u001b[0m                                 Traceback (most recent call last)",
      "\u001b[1;32m<ipython-input-27-3c78583a3a4f>\u001b[0m in \u001b[0;36m<module>\u001b[1;34m\u001b[0m\n\u001b[0;32m     12\u001b[0m     \u001b[0mprint\u001b[0m\u001b[1;33m(\u001b[0m\u001b[0msum\u001b[0m\u001b[1;33m)\u001b[0m\u001b[1;33m\u001b[0m\u001b[1;33m\u001b[0m\u001b[0m\n\u001b[0;32m     13\u001b[0m \u001b[1;32mfinally\u001b[0m\u001b[1;33m:\u001b[0m\u001b[1;33m\u001b[0m\u001b[1;33m\u001b[0m\u001b[0m\n\u001b[1;32m---> 14\u001b[1;33m     \u001b[0mnumber_file\u001b[0m\u001b[1;33m.\u001b[0m\u001b[0mclose\u001b[0m\u001b[1;33m(\u001b[0m\u001b[1;33m)\u001b[0m\u001b[1;33m\u001b[0m\u001b[1;33m\u001b[0m\u001b[0m\n\u001b[0m",
      "\u001b[1;31mNameError\u001b[0m: name 'number_file' is not defined"
     ]
    }
   ],
   "source": [
    "try:\n",
    "    number_file = open('numbers.txt')\n",
    "    numbers = number_file.readlines()\n",
    "    sum = 0\n",
    "    for number in numbers:\n",
    "        sum += int(number)\n",
    "except TypeError as te:\n",
    "    print(te.args)\n",
    "except:\n",
    "    print('未知错误')\n",
    "else:\n",
    "    print(sum)\n",
    "finally:\n",
    "    number_file.close()"
   ]
  },
  {
   "cell_type": "code",
   "execution_count": 1,
   "metadata": {},
   "outputs": [
    {
     "data": {
      "text/plain": [
       "{'d', 'r'}"
      ]
     },
     "execution_count": 1,
     "metadata": {},
     "output_type": "execute_result"
    }
   ],
   "source": [
    ">>> a = {x for x in 'abracadabra' if x not in 'abc'}\n",
    ">>> a\n",
    "{'r', 'd'}"
   ]
  },
  {
   "cell_type": "code",
   "execution_count": 2,
   "metadata": {},
   "outputs": [
    {
     "name": "stdout",
     "output_type": "stream",
     "text": [
      "{1, 'Google', 3, 'Taobao', 'Runoob'}\n",
      "{1, 'Google', 3, 'Taobao', 4, 5, 6, 'Runoob'}\n"
     ]
    },
    {
     "data": {
      "text/plain": [
       "{1, 3, 4, 5, 6, 'Google', 'Runoob', 'Taobao'}"
      ]
     },
     "execution_count": 2,
     "metadata": {},
     "output_type": "execute_result"
    }
   ],
   "source": [
    ">>> thisset = set((\"Google\", \"Runoob\", \"Taobao\"))\n",
    ">>> thisset.update({1,3})\n",
    ">>> print(thisset)\n",
    "{1, 3, 'Google', 'Taobao', 'Runoob'}\n",
    ">>> thisset.update([1,4],[5,6])  \n",
    ">>> print(thisset)\n",
    "{1, 3, 4, 5, 6, 'Google', 'Taobao', 'Runoob'}\n",
    ">>>"
   ]
  },
  {
   "cell_type": "code",
   "execution_count": 3,
   "metadata": {},
   "outputs": [
    {
     "ename": "SyntaxError",
     "evalue": "invalid syntax (<ipython-input-3-f3caab596b01>, line 6)",
     "output_type": "error",
     "traceback": [
      "\u001b[1;36m  File \u001b[1;32m\"<ipython-input-3-f3caab596b01>\"\u001b[1;36m, line \u001b[1;32m6\u001b[0m\n\u001b[1;33m    Traceback (most recent call last):\u001b[0m\n\u001b[1;37m                    ^\u001b[0m\n\u001b[1;31mSyntaxError\u001b[0m\u001b[1;31m:\u001b[0m invalid syntax\n"
     ]
    }
   ],
   "source": [
    ">>> thisset = set((\"Google\", \"Runoob\", \"Taobao\"))\n",
    ">>> thisset.remove(\"Taobao\")\n",
    ">>> print(thisset)\n",
    "{'Google', 'Runoob'}\n",
    ">>> thisset.remove(\"Facebook\")   # 不存在会发生错误\n",
    "Traceback (most recent call last):\n",
    "  File \"<stdin>\", line 1, in <module>\n",
    "KeyError: 'Facebook'\n",
    ">>>"
   ]
  },
  {
   "cell_type": "code",
   "execution_count": 4,
   "metadata": {},
   "outputs": [
    {
     "name": "stdout",
     "output_type": "stream",
     "text": [
      "{'Google', 'Taobao', 'Runoob'}\n"
     ]
    },
    {
     "data": {
      "text/plain": [
       "{'Google', 'Runoob', 'Taobao'}"
      ]
     },
     "execution_count": 4,
     "metadata": {},
     "output_type": "execute_result"
    }
   ],
   "source": [
    ">>> thisset = set((\"Google\", \"Runoob\", \"Taobao\"))\n",
    ">>> thisset.discard(\"Facebook\")  # 不存在不会发生错误\n",
    ">>> print(thisset)\n",
    "{'Taobao', 'Google', 'Runoob'}"
   ]
  },
  {
   "cell_type": "code",
   "execution_count": 5,
   "metadata": {},
   "outputs": [
    {
     "name": "stdout",
     "output_type": "stream",
     "text": [
      "set()\n"
     ]
    },
    {
     "data": {
      "text/plain": [
       "set()"
      ]
     },
     "execution_count": 5,
     "metadata": {},
     "output_type": "execute_result"
    }
   ],
   "source": [
    ">>> thisset = set((\"Google\", \"Runoob\", \"Taobao\"))\n",
    ">>> thisset.clear()\n",
    ">>> print(thisset)\n",
    "set()"
   ]
  },
  {
   "cell_type": "code",
   "execution_count": 6,
   "metadata": {},
   "outputs": [
    {
     "data": {
      "text/plain": [
       "False"
      ]
     },
     "execution_count": 6,
     "metadata": {},
     "output_type": "execute_result"
    }
   ],
   "source": [
    ">>> thisset = set((\"Google\", \"Runoob\", \"Taobao\"))\n",
    ">>> \"Runoob\" in thisset\n",
    "True\n",
    ">>> \"Facebook\" in thisset\n",
    "False\n",
    ">>>"
   ]
  },
  {
   "cell_type": "code",
   "execution_count": 7,
   "metadata": {},
   "outputs": [
    {
     "name": "stdout",
     "output_type": "stream",
     "text": [
      "Google\n"
     ]
    }
   ],
   "source": [
    "thisset = set((\"Google\", \"Runoob\", \"Taobao\", \"Facebook\"))\n",
    "x = thisset.pop()\n",
    "\n",
    "print(x)"
   ]
  },
  {
   "cell_type": "code",
   "execution_count": 8,
   "metadata": {},
   "outputs": [
    {
     "name": "stdout",
     "output_type": "stream",
     "text": [
      "dict['Name']:  Runoob\n",
      "dict['Age']:  7\n"
     ]
    }
   ],
   "source": [
    "#!/usr/bin/python3\n",
    " \n",
    "dict = {'Name': 'Runoob', 'Age': 7, 'Class': 'First'}\n",
    " \n",
    "print (\"dict['Name']: \", dict['Name'])\n",
    "print (\"dict['Age']: \", dict['Age'])"
   ]
  },
  {
   "cell_type": "code",
   "execution_count": 10,
   "metadata": {},
   "outputs": [
    {
     "name": "stdout",
     "output_type": "stream",
     "text": [
      "dict['Age']:  8\n",
      "dict['School']:  你好\n"
     ]
    }
   ],
   "source": [
    "#!/usr/bin/python3\n",
    " \n",
    "dict = {'Name': 'Runoob', 'Age': 7, 'Class': 'First'}\n",
    " \n",
    "dict['Age'] = 8             \n",
    "dict['School'] = \"你好\"  \n",
    " \n",
    " \n",
    "print (\"dict['Age']: \", dict['Age'])\n",
    "print (\"dict['School']: \", dict['School'])"
   ]
  },
  {
   "cell_type": "code",
   "execution_count": null,
   "metadata": {},
   "outputs": [],
   "source": []
  }
 ],
 "metadata": {
  "kernelspec": {
   "display_name": "Python 3",
   "language": "python",
   "name": "python3"
  },
  "language_info": {
   "codemirror_mode": {
    "name": "ipython",
    "version": 3
   },
   "file_extension": ".py",
   "mimetype": "text/x-python",
   "name": "python",
   "nbconvert_exporter": "python",
   "pygments_lexer": "ipython3",
   "version": "3.8.5"
  }
 },
 "nbformat": 4,
 "nbformat_minor": 4
}
