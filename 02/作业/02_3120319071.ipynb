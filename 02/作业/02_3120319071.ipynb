{
 "cells": [
  {
   "cell_type": "code",
   "execution_count": 4,
   "metadata": {},
   "outputs": [
    {
     "name": "stdout",
     "output_type": "stream",
     "text": [
      "第一个字符y\n"
     ]
    }
   ],
   "source": [
    "test='python'\n",
    "print('第一个字符%s'%test [1])"
   ]
  },
  {
   "cell_type": "code",
   "execution_count": 5,
   "metadata": {},
   "outputs": [
    {
     "name": "stdout",
     "output_type": "stream",
     "text": [
      "p y t h o n 首字母大写Python\n"
     ]
    }
   ],
   "source": [
    "for item in test :\n",
    "    print(item,end=' ')\n",
    "    pass\n",
    "print('首字母大写%s'%test .capitalize())"
   ]
  },
  {
   "cell_type": "code",
   "execution_count": 6,
   "metadata": {},
   "outputs": [
    {
     "name": "stdout",
     "output_type": "stream",
     "text": [
      "['abcd', 785, 12.23, 'qiuzhi', True]\n",
      "abcd\n",
      "[785, 12.23]\n",
      "[True, 'qiuzhi', 12.23, 785, 'abcd']\n",
      "追加之前 ['abcd', 785, 12.23, 'qiuzhi', True]\n",
      "追加之后 ['abcd', 785, 12.23, 'qiuzhi', True, ['fff', 'ddd']]\n",
      "['abcd', '这是我刚插入的', 785, 12.23, 'qiuzhi', True, ['fff', 'ddd']]\n"
     ]
    }
   ],
   "source": [
    "listA=['abcd',785,12.23,'qiuzhi',True]\n",
    "print(listA )\n",
    "print(listA [0])\n",
    "print(listA[1:3] )\n",
    "print(listA[::-1])\n",
    "print('追加之前',listA )\n",
    "listA.append(['fff','ddd'])\n",
    "print('追加之后',listA )\n",
    "listA.insert(1,'这是我刚插入的')\n",
    "print(listA )"
   ]
  },
  {
   "cell_type": "code",
   "execution_count": 7,
   "metadata": {},
   "outputs": [
    {
     "name": "stdout",
     "output_type": "stream",
     "text": [
      "<class 'list'>\n",
      "['abcd', '这是我刚插入的', 785, 12.23, 'qiuzhi', True, ['fff', 'ddd'], 0, 1, 2, 3, 4, 5, 6, 7, 8, 9]\n",
      "['peter', '这是我刚插入的', 785, 12.23, 'qiuzhi', True, ['fff', 'ddd'], 0, 1, 2, 3, 4, 5, 6, 7, 8, 9]\n"
     ]
    }
   ],
   "source": [
    "rsData=list(range (10))\n",
    "print(type (rsData ))\n",
    "listA .extend(rsData )\n",
    "print(listA )\n",
    "listA [0]='peter'\n",
    "print(listA)"
   ]
  },
  {
   "cell_type": "code",
   "execution_count": 8,
   "metadata": {},
   "outputs": [
    {
     "name": "stdout",
     "output_type": "stream",
     "text": [
      "[10, 11, 12, 13, 14, 15, 16, 17, 18, 19, 20, 21, 22, 23, 24, 25, 26, 27, 28, 29, 30, 31, 32, 33, 34, 35, 36, 37, 38, 39, 40, 41, 42, 43, 44, 45, 46, 47, 48, 49]\n",
      "[11, 12, 13, 14, 15, 16, 17, 18, 19, 20, 21, 22, 23, 24, 25, 26, 27, 28, 29, 30, 31, 32, 33, 34, 35, 36, 37, 38, 39, 40, 41, 42, 43, 44, 45, 46, 47, 48, 49]\n",
      "[11, 14, 15, 16, 17, 18, 19, 20, 21, 22, 23, 24, 25, 26, 27, 28, 29, 30, 31, 32, 33, 34, 35, 36, 37, 38, 39, 40, 41, 42, 43, 44, 45, 46, 47, 48, 49]\n"
     ]
    }
   ],
   "source": [
    "listB=list(range (10,50))\n",
    "print(listB )\n",
    "del listB [0]\n",
    "print(listB )\n",
    "del listB[1:3]\n",
    "print(listB )"
   ]
  },
  {
   "cell_type": "code",
   "execution_count": 9,
   "metadata": {},
   "outputs": [],
   "source": [
    "class Databass(object):\n",
    "    def __new__(cls, *args, **kwargs):\n",
    "        if not hasattr(cls,'_instance'):\n",
    "            cls._instance=object.__new__(cls, *args, **kwargs)\n",
    "        return cls._instance\n",
    "    pass"
   ]
  },
  {
   "cell_type": "code",
   "execution_count": 10,
   "metadata": {},
   "outputs": [
    {
     "name": "stdout",
     "output_type": "stream",
     "text": [
      "2312268524848\n",
      "2312268524848\n"
     ]
    }
   ],
   "source": [
    "d1=Databass()\n",
    "d2=Databass()\n",
    "print(id(d1))\n",
    "print(id(d2))"
   ]
  },
  {
   "cell_type": "code",
   "execution_count": 11,
   "metadata": {},
   "outputs": [
    {
     "name": "stdout",
     "output_type": "stream",
     "text": [
      "红色\n"
     ]
    }
   ],
   "source": [
    "class Animal:\n",
    "    def __init__(self):\n",
    "        self.color='红色'\n",
    "    def __new__(cls, *args, **kwargs):\n",
    "        return super().__new__(cls, *args, **kwargs)  #如果不重写，则默认结构如下\n",
    "    pass\n",
    "tiger=Animal()  #实例化过程会自动调用new去创建实例\n",
    "print(tiger.color)"
   ]
  },
  {
   "cell_type": "code",
   "execution_count": 12,
   "metadata": {},
   "outputs": [
    {
     "name": "stdout",
     "output_type": "stream",
     "text": [
      "计算结果是45\n"
     ]
    }
   ],
   "source": [
    "def sum(a,b):\n",
    "    result = 0\n",
    "    for item in range(a,b):\n",
    "        result += item\n",
    "    print('计算结果是%d'%result )\n",
    "    pass\n",
    "sum(1,10)"
   ]
  },
  {
   "cell_type": "code",
   "execution_count": 13,
   "metadata": {},
   "outputs": [
    {
     "name": "stdout",
     "output_type": "stream",
     "text": [
      "(25, 75)\n"
     ]
    }
   ],
   "source": [
    "def man(a,b):\n",
    "    for i in range(0,100):\n",
    "        if i*3+(a-i)*(1/3)==b:\n",
    "            return i,100-i\n",
    "        else:\n",
    "            i+=1\n",
    "    pass\n",
    "re=man(100,100)\n",
    "print(re)"
   ]
  },
  {
   "cell_type": "code",
   "execution_count": 16,
   "metadata": {},
   "outputs": [
    {
     "name": "stdout",
     "output_type": "stream",
     "text": [
      "{1, 2, 3, 4, 5}\n",
      "{2, 3, 4, 5}\n",
      "{1}\n",
      "1\n"
     ]
    }
   ],
   "source": [
    "li=[1,3,4,5,3,5,2,2,4]\n",
    "set1=set (li)\n",
    "print(set1 )\n",
    "for i in set1 :\n",
    "    li.remove(i)\n",
    "    pass\n",
    "set2=set (li)\n",
    "print(set2)  #set2为原来li中有重复数字的集合\n",
    "print(set1-set2 )\n",
    "for i in set1:\n",
    "    if i not in set2:\n",
    "        print(i)"
   ]
  },
  {
   "cell_type": "code",
   "execution_count": 1,
   "metadata": {},
   "outputs": [
    {
     "name": "stdout",
     "output_type": "stream",
     "text": [
      "请输入带有符号的温度值：23\n",
      "输入格式错误\n"
     ]
    }
   ],
   "source": [
    "#tempConvert.py\n",
    "'第1章使用的温度转换实例代码'\n",
    "TempStr=input(\"请输入带有符号的温度值：\")\n",
    "if TempStr[-1]in['C','c']:\n",
    "    f=1.8*eval(TempStr[0:-1])+32\n",
    "    print(\"转换后的温度是：{:.2f}F\".format(f))\n",
    "elif TempStr[-1]in['f','F']:\n",
    "    c=(eval(TempStr[0:-1])-32)/1.8\n",
    "    print(\"转换后的温度是：{:.2f}C\".format(c))\n",
    "else:\n",
    "    print(\"输入格式错误\")"
   ]
  },
  {
   "cell_type": "code",
   "execution_count": 2,
   "metadata": {},
   "outputs": [
    {
     "name": "stdout",
     "output_type": "stream",
     "text": [
      "helloworld\n",
      "hellohello\n",
      "e\n",
      "ell\n",
      "True\n",
      "True\n",
      "\\n\n"
     ]
    }
   ],
   "source": [
    "a='hello'\n",
    "b='world'\n",
    "print(a+b)          #helloworld，+号连接字符串\n",
    "print(a*2)          #hellohello，*号重复字符串\n",
    "print(a[1])         #e，[]索引字符\n",
    "print(a[1:4])       #ell，[:]截取字符串\n",
    "print(\"h\" in a)     #True，in是否包含\n",
    "print(\"M\" not in a) #True，not in是否不包含\n",
    "print(r'\\n')        #\\n，r原始字符串（不解析转义字符）"
   ]
  },
  {
   "cell_type": "code",
   "execution_count": 6,
   "metadata": {},
   "outputs": [],
   "source": [
    "num = 5\n",
    "if num ==3:         #判断num的值\n",
    "    print('boss')\n",
    "elif num ==2:\n",
    "    print('user')\n",
    "elif num ==1:\n",
    "    print('worker')"
   ]
  },
  {
   "cell_type": "code",
   "execution_count": 7,
   "metadata": {},
   "outputs": [
    {
     "name": "stdout",
     "output_type": "stream",
     "text": [
      "2\n",
      "4\n",
      "6\n",
      "8\n",
      "10\n",
      "1\n",
      "2\n",
      "3\n",
      "4\n",
      "5\n",
      "6\n",
      "7\n",
      "8\n",
      "9\n",
      "10\n"
     ]
    }
   ],
   "source": [
    "i=1\n",
    "while i<10:\n",
    "    i+= 1\n",
    "    if i%2>0:  # 非双数时跳过输出\n",
    "        continue\n",
    "    print(i)  # 输出双数2、4、6、8、10\n",
    " \n",
    "i = 1\n",
    "while 1:  # 循环条件为1必定成立\n",
    "    print(i)  # 输出1~10\n",
    "    i+= 1\n",
    "    if i>10:  # 当i大于10时跳出循环\n",
    "        break"
   ]
  },
  {
   "cell_type": "code",
   "execution_count": 8,
   "metadata": {},
   "outputs": [
    {
     "name": "stdout",
     "output_type": "stream",
     "text": [
      "0  is less than 5\n",
      "1  is less than 5\n",
      "2  is less than 5\n",
      "3  is less than 5\n",
      "4  is less than 5\n",
      "5  is not less than 5\n"
     ]
    }
   ],
   "source": [
    "count = 0\n",
    "while count <5:\n",
    "    print(count,\" is less than 5\")\n",
    "    count = count +1\n",
    "else:\n",
    "    print(count,\" is not less than 5\")"
   ]
  },
  {
   "cell_type": "code",
   "execution_count": 9,
   "metadata": {},
   "outputs": [
    {
     "name": "stdout",
     "output_type": "stream",
     "text": [
      "当前字母 : P\n",
      "当前字母 : y\n",
      "当前字母 : t\n",
      "当前字母 : h\n",
      "当前字母 : o\n",
      "当前字母 : n\n",
      "当前水果 : banana\n",
      "当前水果 : apple\n",
      "当前水果 : mango\n",
      "Good bye!\n"
     ]
    }
   ],
   "source": [
    "for letter in 'Python':  # 逐个输出字符串中的字符\n",
    "    print('当前字母 :', letter)\n",
    " \n",
    "fruits = ['banana', 'apple', 'mango']\n",
    "for fruit in fruits:  # 逐个输出列表中的元素\n",
    "    print('当前水果 :', fruit)\n",
    "print(\"Good bye!\")"
   ]
  },
  {
   "cell_type": "code",
   "execution_count": 10,
   "metadata": {},
   "outputs": [
    {
     "name": "stdout",
     "output_type": "stream",
     "text": [
      "当前水果 : banana\n",
      "Good bye!\n",
      "当前水果 : apple\n",
      "Good bye!\n",
      "当前水果 : mango\n",
      "Good bye!\n"
     ]
    }
   ],
   "source": [
    "fruits = ['banana','apple','mango']\n",
    "#通过len（）函数获得列表的长度，通过range（）函数获得了一个值不超过长度-1的索引序列\n",
    "for index in range(len(fruits)):\n",
    "    print('当前水果 :',fruits[index])\n",
    "    print(\"Good bye!\")"
   ]
  },
  {
   "cell_type": "code",
   "execution_count": 11,
   "metadata": {},
   "outputs": [
    {
     "name": "stdout",
     "output_type": "stream",
     "text": [
      "Name: Zara , Salary: 2000\n",
      "Name: Manni , Salary: 5000\n",
      "TotalEmployee 2\n"
     ]
    }
   ],
   "source": [
    "'所有员工的基类'\n",
    "class Employee:\n",
    "    empCount = 0\n",
    "    def __init__(self, name, salary): #构造函数\n",
    "        self.name = name            # 添加实例属性\n",
    "        self.salary = salary        # 添加实例属性\n",
    "        Employee.empCount += 1      # 修改类属性\n",
    "    def displayCount(self):         # 添加实例方法\n",
    "        print(\"TotalEmployee %d\" % Employee.empCount) # 读取类属性\n",
    " \n",
    "    def displayEmployee(self):      # 添加实例方法\n",
    "        print(\"Name:\", self.name, \", Salary:\", self.salary) # 读取实例属性\n",
    " \n",
    " \n",
    "# \"创建 Employee 类的第一个对象\"\n",
    "emp1 =Employee(\"Zara\",2000)\n",
    "# \"创建 Employee 类的第二个对象\"\n",
    "emp2 =Employee(\"Manni\",5000)\n",
    "emp1.displayEmployee()\n",
    "emp2.displayEmployee()\n",
    "print(\"TotalEmployee %d\" %Employee.empCount)"
   ]
  },
  {
   "cell_type": "code",
   "execution_count": 12,
   "metadata": {},
   "outputs": [
    {
     "name": "stdout",
     "output_type": "stream",
     "text": [
      "调用子类构造方法\n",
      "调用子类方法\n",
      "调用父类方法\n",
      "重写父类方法，因为父类方法不能满足需求\n"
     ]
    }
   ],
   "source": [
    "class Parent:\n",
    "    # 定义父类\n",
    "    parentAttr =100\n",
    "    def __init__(self):\n",
    "        print(\"调用父类构造函数\")\n",
    "    def parentMethod(self):\n",
    "        print('调用父类方法')\n",
    "    def setAttr(self,attr):\n",
    "        Parent.parentAttr =attr\n",
    "    def getAttr(self):\n",
    "        print(\"父类属性 :\",Parent.parentAttr)\n",
    " \n",
    "class Child(Parent):\n",
    "    # 定义子类\n",
    "    def __init__(self):\n",
    "        print(\"调用子类构造方法\")  #无论子类还是父类，都要单独写一次_init_\n",
    "    def childMethod(self):\n",
    "        print('调用子类方法')\n",
    "    def getAttr (self):\n",
    "        print('重写父类方法，因为父类方法不能满足需求')\n",
    " \n",
    "c = Child()  #实例化子类\n",
    "c.childMethod()#调用子类的方法\n",
    "c.parentMethod()#调用父类方法\n",
    "c.setAttr(200)  #再次调用父类的方法 -设置属性值\n",
    "c.getAttr()#再次调用父类的方法 -获取属性值"
   ]
  },
  {
   "cell_type": "code",
   "execution_count": 15,
   "metadata": {},
   "outputs": [
    {
     "name": "stdout",
     "output_type": "stream",
     "text": [
      "1\n",
      "2\n",
      "2\n"
     ]
    },
    {
     "ename": "AttributeError",
     "evalue": "'JustCounter' object has no attribute '__secretCount'",
     "output_type": "error",
     "traceback": [
      "\u001b[1;31m---------------------------------------------------------------------------\u001b[0m",
      "\u001b[1;31mAttributeError\u001b[0m                            Traceback (most recent call last)",
      "\u001b[1;32m<ipython-input-15-955c8bdbb0bf>\u001b[0m in \u001b[0;36m<module>\u001b[1;34m\u001b[0m\n\u001b[0;32m     13\u001b[0m \u001b[0mcounter\u001b[0m\u001b[1;33m.\u001b[0m\u001b[0mcount\u001b[0m\u001b[1;33m(\u001b[0m\u001b[1;33m)\u001b[0m\u001b[1;33m\u001b[0m\u001b[1;33m\u001b[0m\u001b[0m\n\u001b[0;32m     14\u001b[0m \u001b[0mprint\u001b[0m\u001b[1;33m(\u001b[0m\u001b[0mcounter\u001b[0m\u001b[1;33m.\u001b[0m\u001b[0mpublicCount\u001b[0m\u001b[1;33m)\u001b[0m\u001b[1;33m\u001b[0m\u001b[1;33m\u001b[0m\u001b[0m\n\u001b[1;32m---> 15\u001b[1;33m \u001b[0mprint\u001b[0m\u001b[1;33m(\u001b[0m\u001b[0mcounter\u001b[0m\u001b[1;33m.\u001b[0m\u001b[0m__secretCount\u001b[0m\u001b[1;33m)\u001b[0m\u001b[1;33m\u001b[0m\u001b[1;33m\u001b[0m\u001b[0m\n\u001b[0m\u001b[0;32m     16\u001b[0m \u001b[1;31m# 报错，实例不能访问私有变量\u001b[0m\u001b[1;33m\u001b[0m\u001b[1;33m\u001b[0m\u001b[1;33m\u001b[0m\u001b[0m\n",
      "\u001b[1;31mAttributeError\u001b[0m: 'JustCounter' object has no attribute '__secretCount'"
     ]
    }
   ],
   "source": [
    "class JustCounter:\n",
    "    __secretCount = 0\n",
    "    # 私有变量\n",
    "    publicCount = 0\n",
    "    # 公开变量\n",
    "    def count(self):\n",
    "        self.__secretCount += 1\n",
    "        self.publicCount += 1\n",
    "        print(self.__secretCount)  # 在内部使用私有化属性，不会产生错误\n",
    " \n",
    "counter = JustCounter()\n",
    "counter.count()\n",
    "counter.count()\n",
    "print(counter.publicCount)\n",
    "print(counter.__secretCount)\n",
    "# 报错，实例不能访问私有变量"
   ]
  },
  {
   "cell_type": "code",
   "execution_count": 16,
   "metadata": {},
   "outputs": [
    {
     "name": "stdout",
     "output_type": "stream",
     "text": [
      "e\n",
      "hello\n",
      "Python\n",
      "Python\n",
      "Python\n",
      "hlo\n",
      "n\n",
      "lle\n",
      "lleh\n",
      "noht\n"
     ]
    }
   ],
   "source": [
    "str = \"helloPython\"\n",
    "\n",
    "print(str[1])\n",
    "#含头不含尾,要取出的末尾索引+1\n",
    "print(str[0:5])\n",
    "#索引超出不报错\n",
    "print(str[5:11])\n",
    "print(str[5:2000])\n",
    "print(str[5:])\n",
    "#步长为2，中间隔1个取出来\n",
    "print(str[0:5:2])\n",
    "\n",
    "print(str[-1])\n",
    "#含头不含尾，取不到索引0\n",
    "print(str[3:0:-1])\n",
    "print(str[3::-1])\n",
    "print(str[-1:-5:-1])\n"
   ]
  },
  {
   "cell_type": "code",
   "execution_count": 17,
   "metadata": {},
   "outputs": [
    {
     "name": "stdout",
     "output_type": "stream",
     "text": [
      "Hellopython\n",
      "HELLOPYTHON\n",
      "hellopython\n",
      "helloPython\n",
      "HELLOpYTHON\n",
      "Hello Python\n",
      "    hello python    \n",
      "****hello python****\n",
      "False\n",
      "True\n",
      "True\n",
      "0\n",
      "1\n",
      "0\n",
      "-1\n",
      "0\n",
      "hello python\n",
      "hello python \n",
      " hello python\n",
      "llo python\n",
      "---\n",
      "['', 'i', 'le', 'i', 'le']\n",
      "['', 'i', 'letitle']\n",
      "['', 'i', 'le', 'i', 'le']\n",
      "oollo python\n",
      "-------------------\n",
      "jljle\n",
      "True\n",
      "False\n",
      "False\n",
      "name:egon,age:18,sex:male\n",
      "name:18,age: egon ,sex:18\n",
      "name:egon ,age:18 ,sex:male\n"
     ]
    }
   ],
   "source": [
    "str = \"helloPython\"\n",
    "#首字母大写，其他的都小写\n",
    "print(str.capitalize())\n",
    "print(str.upper())\n",
    "print(str.lower())\n",
    "print(str)\n",
    "\n",
    "\n",
    "print(str.swapcase())\n",
    "str = \"hello python\"\n",
    "print(str.title())\n",
    "#内同居中，总长度，空白处填充\n",
    "print(str.center(20))\n",
    "print(str.center(20,\"*\"))\n",
    "\n",
    "print(str.startswith(\"hh\"))\n",
    "#截取的切片是否以h开头\n",
    "print(str.startswith(\"h\",0,3))\n",
    "#是不是以o结尾的切片\n",
    "print(str.endswith(\"o\",-3,-1))\n",
    "print(str.count(\"v\"))\n",
    "#截取的切片包含h的个数,找不到返回0\n",
    "print(str.count(\"h\",0,3))\n",
    "\n",
    "#find获取下标,找不到返回-1\n",
    "print(str.find(\"h\"))\n",
    "print(str.find(\"h\",2,5))\n",
    "\n",
    "print(str.index(\"h\"))\n",
    "#找不到会报错\n",
    "# print(str.index(\"h\",2,5))\n",
    "\n",
    "str = \" hello python \"\n",
    "#去除两边的空格\n",
    "print(str.strip())\n",
    "print(str.lstrip())\n",
    "print(str.rstrip())\n",
    "str = \"hello python\"\n",
    "#去除两边的he\n",
    "str = \"hello pythonhe\"\n",
    "print(str.strip(\"he\"))\n",
    "print(\"---\")\n",
    "str = \"titletitle\"\n",
    "sp = str.split(\"t\")\n",
    "#['', 'i', 'le'] 分割成一个列表\n",
    "print(sp)\n",
    "print(str.split(\"t\",2))\n",
    "print(str.split(\"t\",20))\n",
    "\n",
    "str = \"hello python\"\n",
    "print(str.replace(\"he\",\"oo\",1))\n",
    "temp = str.replace(str,\"jljle\")\n",
    "print(\"-------------------\")\n",
    "print(temp)\n",
    "\n",
    "\n",
    "name='jinxin123'\n",
    "print(name.isalnum()) #字符串由字母或数字组成\n",
    "print(name.isalpha()) #字符串只由字母组成\n",
    "print(name.isdigit()) #字符串只由数字组成\n",
    "\n",
    "\n",
    "#format的三种玩法 格式化输出\n",
    "res='name:{},age:{},sex:{}'.format('egon',18,'male')\n",
    "print(res)\n",
    "res='name:{1},age: {0} ,sex:{1}'.format('egon',18,'male')\n",
    "print(res)\n",
    "res='name:{name} ,age:{age} ,sex:{sex}'.format(sex='male',name='egon',age=18)\n",
    "print(res)\n"
   ]
  },
  {
   "cell_type": "code",
   "execution_count": 18,
   "metadata": {},
   "outputs": [
    {
     "name": "stdout",
     "output_type": "stream",
     "text": [
      "2\n",
      "3\n",
      "4\n",
      "True\n",
      "True\n",
      "True\n",
      "False\n"
     ]
    },
    {
     "ename": "TypeError",
     "evalue": "'str' object is not callable",
     "output_type": "error",
     "traceback": [
      "\u001b[1;31m---------------------------------------------------------------------------\u001b[0m",
      "\u001b[1;31mTypeError\u001b[0m                                 Traceback (most recent call last)",
      "\u001b[1;32m<ipython-input-18-7f71d74e453d>\u001b[0m in \u001b[0;36m<module>\u001b[1;34m\u001b[0m\n\u001b[0;32m     28\u001b[0m \u001b[0mprint\u001b[0m\u001b[1;33m(\u001b[0m\u001b[0mbool\u001b[0m\u001b[1;33m(\u001b[0m\u001b[1;34m\"\"\u001b[0m\u001b[1;33m)\u001b[0m\u001b[1;33m)\u001b[0m\u001b[1;33m\u001b[0m\u001b[1;33m\u001b[0m\u001b[0m\n\u001b[0;32m     29\u001b[0m \u001b[1;33m\u001b[0m\u001b[0m\n\u001b[1;32m---> 30\u001b[1;33m \u001b[0ma\u001b[0m \u001b[1;33m=\u001b[0m \u001b[0mstr\u001b[0m\u001b[1;33m(\u001b[0m\u001b[1;32mTrue\u001b[0m\u001b[1;33m)\u001b[0m\u001b[1;33m\u001b[0m\u001b[1;33m\u001b[0m\u001b[0m\n\u001b[0m\u001b[0;32m     31\u001b[0m \u001b[0mb\u001b[0m \u001b[1;33m=\u001b[0m \u001b[0mstr\u001b[0m\u001b[1;33m(\u001b[0m\u001b[1;32mFalse\u001b[0m\u001b[1;33m)\u001b[0m\u001b[1;33m\u001b[0m\u001b[1;33m\u001b[0m\u001b[0m\n\u001b[0;32m     32\u001b[0m \u001b[0mprint\u001b[0m\u001b[1;33m(\u001b[0m\u001b[0mtype\u001b[0m\u001b[1;33m(\u001b[0m\u001b[0ma\u001b[0m\u001b[1;33m)\u001b[0m\u001b[1;33m)\u001b[0m\u001b[1;33m\u001b[0m\u001b[1;33m\u001b[0m\u001b[0m\n",
      "\u001b[1;31mTypeError\u001b[0m: 'str' object is not callable"
     ]
    }
   ],
   "source": [
    "\"\"\"\n",
    "    二进制  十进制\n",
    "    0000 0001  1\n",
    "    0000 0010  2\n",
    "    0000 0011  3\n",
    "    0000 0100  4\n",
    "    0000 0101  5\n",
    "    0000 0110  6\n",
    "\"\"\"\n",
    "\"\"\"\n",
    "二进制的占位长度\n",
    "\"\"\"\n",
    "i = 3\n",
    "j = 6\n",
    "k = 8\n",
    "\n",
    "print(i.bit_length())\n",
    "print(j.bit_length())\n",
    "print(k.bit_length())\n",
    "\n",
    "\"\"\"\n",
    "字符串 bool转换\n",
    "非空字符串都是True\n",
    "\"\"\"\n",
    "print(bool(\"sss\"))\n",
    "print(bool(\"a\"))\n",
    "print(bool(\"1\"))\n",
    "print(bool(\"\"))\n",
    "\n",
    "a = str(True)\n",
    "b = str(False)\n",
    "print(type(a))\n",
    "print(type(b))\n",
    "\n",
    "\"\"\"\n",
    "bool与int转换\n",
    "\"\"\"\n",
    "print(True or 1)\n",
    "print(True and 1)\n",
    "\n"
   ]
  }
 ],
 "metadata": {
  "kernelspec": {
   "display_name": "Python 3",
   "language": "python",
   "name": "python3"
  },
  "language_info": {
   "codemirror_mode": {
    "name": "ipython",
    "version": 3
   },
   "file_extension": ".py",
   "mimetype": "text/x-python",
   "name": "python",
   "nbconvert_exporter": "python",
   "pygments_lexer": "ipython3",
   "version": "3.8.3"
  }
 },
 "nbformat": 4,
 "nbformat_minor": 4
}
