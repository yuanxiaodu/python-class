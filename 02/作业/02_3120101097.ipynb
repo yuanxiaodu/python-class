{
 "cells": [
  {
   "cell_type": "code",
   "execution_count": 1,
   "metadata": {},
   "outputs": [
    {
     "name": "stdout",
     "output_type": "stream",
     "text": [
      "32.66026079864164\n",
      "32.36067977602954\n"
     ]
    }
   ],
   "source": [
    "# -*- coding: UTF-8 -*-\n",
    " \n",
    "a = 2.0\n",
    "b = 1.0\n",
    "s = 0.0\n",
    "for n in range(1,21):\n",
    "    s += a / b\n",
    "    b,a = a , a + b\n",
    "print (s)\n",
    " \n",
    "s = 0.0\n",
    "for n in range(1,21):\n",
    "    s += a / b\n",
    "    b,a = a , a + b\n",
    "print (s)"
   ]
  },
  {
   "cell_type": "code",
   "execution_count": 2,
   "metadata": {},
   "outputs": [
    {
     "name": "stdout",
     "output_type": "stream",
     "text": [
      "32.66026079864164\n"
     ]
    }
   ],
   "source": [
    "from functools import reduce\n",
    " \n",
    "a = 2.0\n",
    "b = 1.0\n",
    "l = []\n",
    "l.append(a / b)\n",
    "for n in range(1,20):\n",
    "    b,a = a,a + b\n",
    "    l.append(a / b)\n",
    "print (reduce(lambda x,y: x + y,l))"
   ]
  },
  {
   "cell_type": "code",
   "execution_count": 3,
   "metadata": {},
   "outputs": [
    {
     "name": "stdout",
     "output_type": "stream",
     "text": [
      "1! + 2! + 3! + ... + 20! = 2561327494111820313\n"
     ]
    }
   ],
   "source": [
    "# -*- coding: UTF-8 -*-\n",
    " \n",
    "n = 0\n",
    "s = 0\n",
    "t = 1\n",
    "for n in range(1,21):\n",
    "    t *= n\n",
    "    s += t\n",
    "print ('1! + 2! + 3! + ... + 20! = %d' % s)"
   ]
  },
  {
   "cell_type": "code",
   "execution_count": 4,
   "metadata": {},
   "outputs": [
    {
     "name": "stdout",
     "output_type": "stream",
     "text": [
      "1! + 2! + 3! + ... + 20! = 2561327494111820313\n"
     ]
    }
   ],
   "source": [
    "# -*- coding: UTF-8 -*-\n",
    " \n",
    "s = 0\n",
    "l = range(1,21)\n",
    "def op(x):\n",
    "    r = 1\n",
    "    for i in range(1,x + 1):\n",
    "        r *= i\n",
    "    return r\n",
    "s = sum(map(op,l))\n",
    "print ('1! + 2! + 3! + ... + 20! = %d' % s)"
   ]
  },
  {
   "cell_type": "code",
   "execution_count": 5,
   "metadata": {},
   "outputs": [
    {
     "name": "stdout",
     "output_type": "stream",
     "text": [
      "120\n"
     ]
    }
   ],
   "source": [
    "# -*- coding: UTF-8 -*-\n",
    " \n",
    "def fact(j):\n",
    "    sum = 0\n",
    "    if j == 0:\n",
    "        sum = 1\n",
    "    else:\n",
    "        sum = j * fact(j - 1)\n",
    "    return sum\n",
    " \n",
    "print (fact(5))"
   ]
  },
  {
   "cell_type": "code",
   "execution_count": 6,
   "metadata": {},
   "outputs": [
    {
     "name": "stdin",
     "output_type": "stream",
     "text": [
      "Input a string: abcd\n"
     ]
    },
    {
     "name": "stdout",
     "output_type": "stream",
     "text": [
      "d\n",
      "c\n",
      "b\n",
      "a\n"
     ]
    }
   ],
   "source": [
    "def output(s,l):\n",
    "    if l==0:\n",
    "       return\n",
    "    print (s[l-1])\n",
    "    output(s,l-1)\n",
    " \n",
    "s = input('Input a string:')\n",
    "l = len(s)\n",
    "output(s,l)"
   ]
  },
  {
   "cell_type": "code",
   "execution_count": 7,
   "metadata": {},
   "outputs": [
    {
     "name": "stdout",
     "output_type": "stream",
     "text": [
      "18\n"
     ]
    }
   ],
   "source": [
    "# -*- coding: UTF-8 -*-\n",
    " \n",
    "def age(n):\n",
    "    if n == 1: c = 10\n",
    "    else: c = age(n - 1) + 2\n",
    "    return c\n",
    "print (age(5))"
   ]
  },
  {
   "cell_type": "code",
   "execution_count": 8,
   "metadata": {},
   "outputs": [
    {
     "name": "stdin",
     "output_type": "stream",
     "text": [
      "请输入一个数:\n",
      " 3472\n"
     ]
    },
    {
     "name": "stdout",
     "output_type": "stream",
     "text": [
      "4 位数： 2 7 4 3\n"
     ]
    }
   ],
   "source": [
    "x = int(input(\"请输入一个数:\\n\"))\n",
    "a = x // 10000\n",
    "b = x % 10000 // 1000\n",
    "c = x % 1000 // 100\n",
    "d = x % 100 // 10\n",
    "e = x % 10\n",
    " \n",
    "if a != 0:\n",
    "    print (\"5 位数：\",e,d,c,b,a)\n",
    "elif b != 0:\n",
    "    print (\"4 位数：\",e,d,c,b)\n",
    "elif c != 0:\n",
    "    print (\"3 位数：\",e,d,c)\n",
    "elif d != 0:\n",
    "    print (\"2 位数：\",e,d)\n",
    "else:\n",
    "    print (\"1 位数：\",e)"
   ]
  },
  {
   "cell_type": "code",
   "execution_count": 9,
   "metadata": {},
   "outputs": [
    {
     "name": "stdin",
     "output_type": "stream",
     "text": [
      "请输入一个数字:\n",
      " 12321\n"
     ]
    },
    {
     "name": "stdout",
     "output_type": "stream",
     "text": [
      "12321 是一个回文数!\n"
     ]
    }
   ],
   "source": [
    "a = int(input(\"请输入一个数字:\\n\"))\n",
    "x = str(a)\n",
    "flag = True\n",
    " \n",
    "for i in range(len(x)//2):\n",
    "    if x[i] != x[-i - 1]:\n",
    "        flag = False\n",
    "        break\n",
    "if flag:\n",
    "    print (\"%d 是一个回文数!\" % a)\n",
    "else:\n",
    "    print (\"%d 不是一个回文数!\" % a)"
   ]
  },
  {
   "cell_type": "code",
   "execution_count": 10,
   "metadata": {},
   "outputs": [
    {
     "name": "stdin",
     "output_type": "stream",
     "text": [
      "please input: S\n"
     ]
    },
    {
     "name": "stdout",
     "output_type": "stream",
     "text": [
      "please input second letter:\n"
     ]
    },
    {
     "name": "stdin",
     "output_type": "stream",
     "text": [
      "please input: a\n"
     ]
    },
    {
     "name": "stdout",
     "output_type": "stream",
     "text": [
      "Saturday\n"
     ]
    }
   ],
   "source": [
    "letter = input(\"please input:\")\n",
    "#while letter  != 'Y':\n",
    "if letter == 'S':\n",
    "    print ('please input second letter:')\n",
    "    letter = input(\"please input:\")\n",
    "    if letter == 'a':\n",
    "        print ('Saturday')\n",
    "    elif letter  == 'u':\n",
    "        print ('Sunday')\n",
    "    else:\n",
    "        print ('data error')\n",
    "    \n",
    "elif letter == 'F':\n",
    "    print ('Friday')\n",
    "    \n",
    "elif letter == 'M':\n",
    "    print ('Monday')\n",
    "    \n",
    "elif letter == 'T':\n",
    "    print ('please input second letter')\n",
    "    letter = input(\"please input:\")\n",
    " \n",
    "    if letter  == 'u':\n",
    "        print ('Tuesday')\n",
    "    elif letter  == 'h':\n",
    "        print ('Thursday')\n",
    "    else:\n",
    "        print ('data error')\n",
    "        \n",
    "elif letter == 'W':\n",
    "    print ('Wednesday')\n",
    "else:\n",
    "    print ('data error')"
   ]
  },
  {
   "cell_type": "code",
   "execution_count": 11,
   "metadata": {},
   "outputs": [
    {
     "name": "stdout",
     "output_type": "stream",
     "text": [
      "three\n",
      "two\n",
      "one\n"
     ]
    }
   ],
   "source": [
    "# -*- coding: UTF-8 -*-\n",
    " \n",
    "a = ['one', 'two', 'three']\n",
    "for i in a[::-1]:\n",
    "    print (i)"
   ]
  },
  {
   "cell_type": "code",
   "execution_count": 12,
   "metadata": {},
   "outputs": [
    {
     "name": "stdout",
     "output_type": "stream",
     "text": [
      "1,2,3,4,5\n"
     ]
    }
   ],
   "source": [
    "# -*- coding: UTF-8 -*-\n",
    " \n",
    "L = [1,2,3,4,5]\n",
    "s1 = ','.join(str(n) for n in L)\n",
    "print (s1)"
   ]
  },
  {
   "cell_type": "code",
   "execution_count": 13,
   "metadata": {},
   "outputs": [
    {
     "name": "stdout",
     "output_type": "stream",
     "text": [
      "RUNOOB\n",
      "RUNOOB\n",
      "RUNOOB\n"
     ]
    }
   ],
   "source": [
    "# -*- coding: UTF-8 -*-\n",
    " \n",
    "def hello_runoob():\n",
    "    print ('RUNOOB')\n",
    " \n",
    "def hello_runoobs():\n",
    "    for i in range(3):\n",
    "        hello_runoob()\n",
    "if __name__ == '__main__':\n",
    "    hello_runoobs()"
   ]
  },
  {
   "cell_type": "code",
   "execution_count": 14,
   "metadata": {},
   "outputs": [
    {
     "name": "stdout",
     "output_type": "stream",
     "text": [
      "\u001b[93m警告的颜色字体?\u001b[0m\n"
     ]
    }
   ],
   "source": [
    "# -*- coding: UTF-8 -*-\n",
    " \n",
    "class bcolors:\n",
    "    HEADER = '\\033[95m'\n",
    "    OKBLUE = '\\033[94m'\n",
    "    OKGREEN = '\\033[92m'\n",
    "    WARNING = '\\033[93m'\n",
    "    FAIL = '\\033[91m'\n",
    "    ENDC = '\\033[0m'\n",
    "    BOLD = '\\033[1m'\n",
    "    UNDERLINE = '\\033[4m'\n",
    "print (bcolors.WARNING + \"警告的颜色字体?\" + bcolors.ENDC)"
   ]
  },
  {
   "cell_type": "code",
   "execution_count": 15,
   "metadata": {},
   "outputs": [
    {
     "name": "stdin",
     "output_type": "stream",
     "text": [
      "输入区间最小值:  1\n",
      "输入区间最大值:  100\n"
     ]
    },
    {
     "name": "stdout",
     "output_type": "stream",
     "text": [
      "2\n",
      "3\n",
      "5\n",
      "7\n",
      "11\n",
      "13\n",
      "17\n",
      "19\n",
      "23\n",
      "29\n",
      "31\n",
      "37\n",
      "41\n",
      "43\n",
      "47\n",
      "53\n",
      "59\n",
      "61\n",
      "67\n",
      "71\n",
      "73\n",
      "79\n",
      "83\n",
      "89\n",
      "97\n"
     ]
    }
   ],
   "source": [
    "# -*- coding: UTF-8 -*-\n",
    " \n",
    "# 输出指定范围内的素数\n",
    " \n",
    "# 用户输入数据\n",
    "lower = int(input(\"输入区间最小值: \"))\n",
    "upper = int(input(\"输入区间最大值: \"))\n",
    " \n",
    "for num in range(lower,upper + 1):\n",
    "    # 素数大于 1\n",
    "    if num > 1:\n",
    "        for i in range(2,num):\n",
    "            if (num % i) == 0:\n",
    "                break\n",
    "        else:\n",
    "            print(num)"
   ]
  },
  {
   "cell_type": "code",
   "execution_count": 16,
   "metadata": {},
   "outputs": [
    {
     "name": "stdout",
     "output_type": "stream",
     "text": [
      "请输入10个数字:\n",
      "\n"
     ]
    },
    {
     "name": "stdin",
     "output_type": "stream",
     "text": [
      "输入一个数字:\n",
      " 3\n",
      "输入一个数字:\n",
      " 2\n",
      "输入一个数字:\n",
      " 56\n",
      "输入一个数字:\n",
      " 23\n",
      "输入一个数字:\n",
      " 45\n",
      "输入一个数字:\n",
      " 87\n",
      "输入一个数字:\n",
      " 99\n",
      "输入一个数字:\n",
      " 13\n",
      "输入一个数字:\n",
      " 45\n",
      "输入一个数字:\n",
      " 55\n"
     ]
    },
    {
     "name": "stdout",
     "output_type": "stream",
     "text": [
      "3\n",
      "2\n",
      "56\n",
      "23\n",
      "45\n",
      "87\n",
      "99\n",
      "13\n",
      "45\n",
      "55\n",
      "排列之后：\n",
      "2\n",
      "3\n",
      "13\n",
      "23\n",
      "45\n",
      "45\n",
      "55\n",
      "56\n",
      "87\n",
      "99\n"
     ]
    }
   ],
   "source": [
    "# -*- coding: UTF-8 -*-\n",
    " \n",
    "if __name__ == \"__main__\":\n",
    "    N = 10\n",
    "    # input data\n",
    "    print ('请输入10个数字:\\n')\n",
    "    l = []\n",
    "    for i in range(N):\n",
    "        l.append(int(input('输入一个数字:\\n')))\n",
    "    print\n",
    "    for i in range(N):\n",
    "        print (l[i])\n",
    "    print\n",
    " \n",
    "    # 排列10个数字\n",
    "    for i in range(N - 1):\n",
    "        min = i\n",
    "        for j in range(i + 1,N):\n",
    "            if l[min] > l[j]:min = j\n",
    "        l[i],l[min] = l[min],l[i]\n",
    "    print ('排列之后：')\n",
    "    for i in range(N):\n",
    "        print (l[i])"
   ]
  },
  {
   "cell_type": "code",
   "execution_count": 17,
   "metadata": {},
   "outputs": [
    {
     "name": "stdin",
     "output_type": "stream",
     "text": [
      "input num:\n",
      " 34\n",
      "input num:\n",
      " 23\n",
      "input num:\n",
      " 12\n",
      "input num:\n",
      " 55\n",
      "input num:\n",
      " 43\n",
      "input num:\n",
      " 32\n",
      "input num:\n",
      " 87\n",
      "input num:\n",
      " 67\n",
      "input num:\n",
      " 1\n"
     ]
    },
    {
     "name": "stdout",
     "output_type": "stream",
     "text": [
      "78.0\n"
     ]
    }
   ],
   "source": [
    "# -*- coding: UTF-8 -*-\n",
    " \n",
    "if __name__ == '__main__':\n",
    "    a = []\n",
    "    sum = 0.0\n",
    "    for i in range(3):\n",
    "        a.append([])\n",
    "        for j in range(3):\n",
    "            a[i].append(float(input(\"input num:\\n\")))\n",
    "    for i in range(3):\n",
    "        sum += a[i][i]\n",
    "    print (sum)"
   ]
  },
  {
   "cell_type": "code",
   "execution_count": 18,
   "metadata": {},
   "outputs": [
    {
     "name": "stdout",
     "output_type": "stream",
     "text": [
      "[9, 6, 5, 4, 1]\n",
      "[1, 4, 5, 6, 9]\n"
     ]
    }
   ],
   "source": [
    "# -*- coding: UTF-8 -*-\n",
    " \n",
    "if __name__ == '__main__':\n",
    "    a = [9,6,5,4,1]\n",
    "    N = len(a) \n",
    "    print (a) \n",
    "    for i in range(len(a) // 2):\n",
    "        a[i],a[N - i - 1] = a[N - i - 1],a[i]\n",
    "    print (a)"
   ]
  },
  {
   "cell_type": "code",
   "execution_count": 19,
   "metadata": {},
   "outputs": [
    {
     "name": "stdout",
     "output_type": "stream",
     "text": [
      "var = 0\n",
      "var = 0\n",
      "var = 0\n",
      "5\n",
      "6\n",
      "7\n",
      "8\n"
     ]
    }
   ],
   "source": [
    "# -*- coding: UTF-8 -*-\n",
    "\n",
    "def varfunc():\n",
    "    var = 0\n",
    "    print ('var = %d' % var)\n",
    "    var += 1\n",
    "if __name__ == '__main__':\n",
    "    for i in range(3):\n",
    "        varfunc()\n",
    "\n",
    "# 类的属性\n",
    "# 作为类的一个属性吧\n",
    "class Static:\n",
    "    StaticVar = 5\n",
    "    def varfunc(self):\n",
    "        self.StaticVar += 1\n",
    "        print (self.StaticVar)\n",
    "\n",
    "print (Static.StaticVar)\n",
    "a = Static()\n",
    "for i in range(3):\n",
    "    a.varfunc()"
   ]
  },
  {
   "cell_type": "code",
   "execution_count": 20,
   "metadata": {},
   "outputs": [
    {
     "name": "stdout",
     "output_type": "stream",
     "text": [
      "The num = 2\n",
      "internal block num = 1\n",
      "The num = 3\n",
      "internal block num = 1\n",
      "The num = 4\n",
      "internal block num = 1\n"
     ]
    }
   ],
   "source": [
    "# -*- coding: UTF-8 -*-\n",
    "\n",
    "num = 2\n",
    "def autofunc():\n",
    "    num = 1\n",
    "    print ('internal block num = %d' % num)\n",
    "    num += 1\n",
    "for i in range(3):\n",
    "    print ('The num = %d' % num)\n",
    "    num += 1\n",
    "    autofunc()"
   ]
  },
  {
   "cell_type": "code",
   "execution_count": null,
   "metadata": {},
   "outputs": [],
   "source": []
  }
 ],
 "metadata": {
  "kernelspec": {
   "display_name": "Python 3",
   "language": "python",
   "name": "python3"
  },
  "language_info": {
   "codemirror_mode": {
    "name": "ipython",
    "version": 3
   },
   "file_extension": ".py",
   "mimetype": "text/x-python",
   "name": "python",
   "nbconvert_exporter": "python",
   "pygments_lexer": "ipython3",
   "version": "3.8.3"
  }
 },
 "nbformat": 4,
 "nbformat_minor": 4
}
