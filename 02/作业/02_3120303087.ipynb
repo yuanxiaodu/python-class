{
 "cells": [
  {
   "cell_type": "code",
   "execution_count": 1,
   "metadata": {},
   "outputs": [
    {
     "name": "stdout",
     "output_type": "stream",
     "text": [
      "It's true!\n"
     ]
    }
   ],
   "source": [
    "x = True\n",
    "if x:\n",
    "    print(\"It's true!\")"
   ]
  },
  {
   "cell_type": "code",
   "execution_count": 3,
   "metadata": {},
   "outputs": [
    {
     "name": "stdout",
     "output_type": "stream",
     "text": [
      "Not true!\n"
     ]
    }
   ],
   "source": [
    "x = False\n",
    "if x:\n",
    "    print(\"It's true!\")\n",
    "else:\n",
    "    print(\"Not true!\")"
   ]
  },
  {
   "cell_type": "code",
   "execution_count": 4,
   "metadata": {},
   "outputs": [],
   "source": [
    "x = 18"
   ]
  },
  {
   "cell_type": "code",
   "execution_count": 5,
   "metadata": {},
   "outputs": [
    {
     "name": "stdout",
     "output_type": "stream",
     "text": [
      "x is 18\n"
     ]
    }
   ],
   "source": [
    "if x:\n",
    "    print('x is', x)"
   ]
  },
  {
   "cell_type": "code",
   "execution_count": 6,
   "metadata": {},
   "outputs": [],
   "source": [
    "x = 0\n",
    "if x:\n",
    "    print(\"x is not zero\")"
   ]
  },
  {
   "cell_type": "code",
   "execution_count": 7,
   "metadata": {},
   "outputs": [
    {
     "name": "stdout",
     "output_type": "stream",
     "text": [
      "x is 16\n"
     ]
    }
   ],
   "source": [
    "x = 19\n",
    "if x:\n",
    "    print('x is', x-3)"
   ]
  },
  {
   "cell_type": "code",
   "execution_count": 8,
   "metadata": {},
   "outputs": [
    {
     "name": "stdout",
     "output_type": "stream",
     "text": [
      "x is Hello\n"
     ]
    }
   ],
   "source": [
    "x = \"Hello\"\n",
    "if x:\n",
    "    print('x is', x)"
   ]
  },
  {
   "cell_type": "code",
   "execution_count": 9,
   "metadata": {},
   "outputs": [],
   "source": [
    "x= \"\"\n",
    "if x:\n",
    "    print('afafs')"
   ]
  },
  {
   "cell_type": "code",
   "execution_count": 11,
   "metadata": {},
   "outputs": [
    {
     "name": "stdout",
     "output_type": "stream",
     "text": [
      "b\n"
     ]
    }
   ],
   "source": [
    "x1 = []\n",
    "x2 = [1,2]\n",
    "if x1:\n",
    "    print(\"a\")\n",
    "if x2:\n",
    "    print(\"b\")"
   ]
  },
  {
   "cell_type": "code",
   "execution_count": 12,
   "metadata": {},
   "outputs": [
    {
     "name": "stdout",
     "output_type": "stream",
     "text": [
      "b\n"
     ]
    }
   ],
   "source": [
    "x3 = ()\n",
    "x4 = (1,2)\n",
    "if x3:\n",
    "    print(\"a\")\n",
    "if x4:\n",
    "    print(\"b\")"
   ]
  },
  {
   "cell_type": "code",
   "execution_count": 13,
   "metadata": {},
   "outputs": [
    {
     "name": "stdout",
     "output_type": "stream",
     "text": [
      "b\n"
     ]
    }
   ],
   "source": [
    "x5 = {}\n",
    "x6 = {'Hello'}\n",
    "if x5:\n",
    "    print(\"a\")\n",
    "if x6:\n",
    "    print(\"b\")"
   ]
  },
  {
   "cell_type": "code",
   "execution_count": 14,
   "metadata": {},
   "outputs": [
    {
     "name": "stdout",
     "output_type": "stream",
     "text": [
      "x is zero\n"
     ]
    }
   ],
   "source": [
    "x=0\n",
    "if x:\n",
    "    print(\"x is not zero\")\n",
    "else:\n",
    "    print(\"x is zero\")"
   ]
  },
  {
   "cell_type": "code",
   "execution_count": 15,
   "metadata": {},
   "outputs": [
    {
     "name": "stdout",
     "output_type": "stream",
     "text": [
      "良好\n"
     ]
    }
   ],
   "source": [
    "x = 89\n",
    "if x > 90:\n",
    "    print(\"优秀\")\n",
    "elif x > 80:\n",
    "    print(\"良好\")\n",
    "elif x > 60:\n",
    "    print(\"及格\")\n",
    "else:\n",
    "    print(\"不及格\")"
   ]
  },
  {
   "cell_type": "code",
   "execution_count": 16,
   "metadata": {},
   "outputs": [
    {
     "name": "stdout",
     "output_type": "stream",
     "text": [
      "优秀\n"
     ]
    }
   ],
   "source": [
    "x = 91\n",
    "if x >= 90:\n",
    "    print(\"优秀\")\n",
    "elif x > 80:\n",
    "    print(\"良好\")\n",
    "elif x >= 60:\n",
    "    print(\"及格\")\n",
    "else:\n",
    "    print(\"不及格\")"
   ]
  },
  {
   "cell_type": "code",
   "execution_count": 17,
   "metadata": {},
   "outputs": [
    {
     "name": "stdout",
     "output_type": "stream",
     "text": [
      "良好\n"
     ]
    }
   ],
   "source": [
    "x = 90\n",
    "if x > 90:\n",
    "    print(\"优秀\")\n",
    "elif x > 80:\n",
    "    print(\"良好\")\n",
    "elif x > 60:\n",
    "    print(\"及格\")\n",
    "else:\n",
    "    print(\"不及格\")"
   ]
  },
  {
   "cell_type": "code",
   "execution_count": 18,
   "metadata": {},
   "outputs": [
    {
     "name": "stdout",
     "output_type": "stream",
     "text": [
      "优秀\n"
     ]
    }
   ],
   "source": [
    "x = 90\n",
    "if x >= 90:\n",
    "    print(\"优秀\")\n",
    "elif x >= 80:\n",
    "    print(\"良好\")\n",
    "elif x >= 60:\n",
    "    print(\"及格\")\n",
    "else:\n",
    "    print(\"不及格\")"
   ]
  },
  {
   "cell_type": "code",
   "execution_count": 19,
   "metadata": {},
   "outputs": [
    {
     "name": "stdout",
     "output_type": "stream",
     "text": [
      "及格\n"
     ]
    }
   ],
   "source": [
    "x = 62\n",
    "if x >= 90:\n",
    "    print(\"优秀\")\n",
    "elif x >= 80:\n",
    "    print(\"良好\")\n",
    "elif x >= 60:\n",
    "    print(\"及格\")\n",
    "else:\n",
    "    print(\"不及格\")"
   ]
  },
  {
   "cell_type": "code",
   "execution_count": 20,
   "metadata": {},
   "outputs": [
    {
     "name": "stdout",
     "output_type": "stream",
     "text": [
      "不及格\n"
     ]
    }
   ],
   "source": [
    "x = 58\n",
    "if x >= 90:\n",
    "    print(\"优秀\")\n",
    "elif x >= 80:\n",
    "    print(\"良好\")\n",
    "elif x >= 60:\n",
    "    print(\"及格\")\n",
    "else:\n",
    "    print(\"不及格\")"
   ]
  },
  {
   "cell_type": "code",
   "execution_count": 21,
   "metadata": {},
   "outputs": [
    {
     "name": "stdout",
     "output_type": "stream",
     "text": [
      "1\n",
      "2\n",
      "3\n",
      "4\n",
      "5\n",
      "6\n",
      "7\n",
      "8\n",
      "9\n"
     ]
    }
   ],
   "source": [
    "x = 1\n",
    "while x < 10:\n",
    "    print(x)\n",
    "    x += 1"
   ]
  },
  {
   "cell_type": "code",
   "execution_count": 22,
   "metadata": {},
   "outputs": [
    {
     "name": "stdout",
     "output_type": "stream",
     "text": [
      "1\n",
      "2\n",
      "3\n",
      "4\n",
      "5\n",
      "6\n",
      "7\n",
      "8\n",
      "9\n",
      "10\n"
     ]
    }
   ],
   "source": [
    "x = 1\n",
    "while x <= 10:\n",
    "    print(x)\n",
    "    x += 1"
   ]
  },
  {
   "cell_type": "code",
   "execution_count": 24,
   "metadata": {},
   "outputs": [
    {
     "name": "stdout",
     "output_type": "stream",
     "text": [
      "1\n",
      "2\n",
      "3\n",
      "4\n",
      "5\n",
      "6\n",
      "8\n",
      "9\n"
     ]
    }
   ],
   "source": [
    "for x in (1,2,3,4,5,6,8,9):\n",
    "    print(x)"
   ]
  },
  {
   "cell_type": "code",
   "execution_count": 25,
   "metadata": {},
   "outputs": [
    {
     "name": "stdout",
     "output_type": "stream",
     "text": [
      "Hello world!\n",
      "Hello world!\n",
      "Hello world!\n"
     ]
    }
   ],
   "source": [
    "for x in (1,2,3):\n",
    "    print(\"Hello world!\")"
   ]
  },
  {
   "cell_type": "code",
   "execution_count": 26,
   "metadata": {},
   "outputs": [
    {
     "name": "stdout",
     "output_type": "stream",
     "text": [
      "0\n",
      "1\n",
      "2\n",
      "3\n",
      "4\n",
      "5\n",
      "6\n",
      "7\n",
      "8\n",
      "9\n"
     ]
    }
   ],
   "source": [
    "for x in range(10):\n",
    "    print(x)"
   ]
  },
  {
   "cell_type": "code",
   "execution_count": 27,
   "metadata": {},
   "outputs": [
    {
     "name": "stdout",
     "output_type": "stream",
     "text": [
      "1\n",
      "2\n",
      "3\n",
      "4\n",
      "5\n",
      "6\n",
      "7\n",
      "8\n",
      "9\n"
     ]
    }
   ],
   "source": [
    "for x in range(1,10):\n",
    "    print(x)"
   ]
  },
  {
   "cell_type": "code",
   "execution_count": 28,
   "metadata": {},
   "outputs": [
    {
     "name": "stdout",
     "output_type": "stream",
     "text": [
      "1\n",
      "3\n",
      "5\n",
      "7\n",
      "9\n"
     ]
    }
   ],
   "source": [
    "for x in range(1,10,2):\n",
    "    print(x)"
   ]
  },
  {
   "cell_type": "code",
   "execution_count": 29,
   "metadata": {},
   "outputs": [
    {
     "name": "stdout",
     "output_type": "stream",
     "text": [
      "0\n",
      "1\n",
      "2\n",
      "3\n",
      "4\n",
      "5\n"
     ]
    }
   ],
   "source": [
    "for i in range(10):\n",
    "    if i > 5:\n",
    "        break\n",
    "    print(i)"
   ]
  },
  {
   "cell_type": "code",
   "execution_count": 30,
   "metadata": {},
   "outputs": [
    {
     "name": "stdout",
     "output_type": "stream",
     "text": [
      "0\n",
      "1\n",
      "2\n",
      "3\n",
      "4\n",
      "6\n",
      "7\n",
      "8\n",
      "9\n"
     ]
    }
   ],
   "source": [
    "for i in range(10):\n",
    "    if i == 5:\n",
    "        continue\n",
    "    print(i)"
   ]
  },
  {
   "cell_type": "code",
   "execution_count": 32,
   "metadata": {},
   "outputs": [
    {
     "name": "stdout",
     "output_type": "stream",
     "text": [
      "0\n",
      "1\n",
      "2\n",
      "3\n",
      "4\n",
      "6\n",
      "7\n",
      "8\n",
      "9\n"
     ]
    }
   ],
   "source": [
    "for i in range(10):\n",
    "    if i == 5:\n",
    "        pass\n",
    "    else:\n",
    "        print(i)"
   ]
  },
  {
   "cell_type": "code",
   "execution_count": 33,
   "metadata": {},
   "outputs": [
    {
     "name": "stdout",
     "output_type": "stream",
     "text": [
      "0 is less than 5\n",
      "1 is less than 5\n",
      "2 is less than 5\n",
      "3 is less than 5\n",
      "4 is less than 5\n",
      "5 is not less than 5\n"
     ]
    }
   ],
   "source": [
    "c = 0\n",
    "while c < 5:\n",
    "    print(c,\"is less than 5\")\n",
    "    c += 1\n",
    "else:\n",
    "    print(c,\"is not less than 5\")"
   ]
  },
  {
   "cell_type": "code",
   "execution_count": 34,
   "metadata": {},
   "outputs": [
    {
     "name": "stdout",
     "output_type": "stream",
     "text": [
      "0 is less than 5\n",
      "1 is less than 5\n",
      "2 is less than 5\n"
     ]
    }
   ],
   "source": [
    "c = 0\n",
    "while c < 5:\n",
    "    print(c,\"is less than 5\")\n",
    "    c += 1\n",
    "    if c == 3 :\n",
    "        break\n",
    "else:\n",
    "    print(c,\"is not less than 5\")"
   ]
  },
  {
   "cell_type": "code",
   "execution_count": 35,
   "metadata": {},
   "outputs": [
    {
     "name": "stdout",
     "output_type": "stream",
     "text": [
      "0 in segment\n",
      "1 in segment\n",
      "2 in segment\n",
      "3 in segment\n",
      "4 in segment\n",
      "4 not in segment\n"
     ]
    }
   ],
   "source": [
    "for c in range(5):\n",
    "    print(c , \"in segment\")\n",
    "else:\n",
    "    print(c, \"not in segment\")"
   ]
  },
  {
   "cell_type": "code",
   "execution_count": 37,
   "metadata": {},
   "outputs": [
    {
     "name": "stdout",
     "output_type": "stream",
     "text": [
      "0 in segment\n",
      "1 in segment\n",
      "2 in segment\n",
      "3 in segment\n"
     ]
    }
   ],
   "source": [
    "for c in range(5):\n",
    "    print(c , \"in segment\")\n",
    "    if c == 3:\n",
    "        break\n",
    "else:\n",
    "    print(c, \"not in segment\")"
   ]
  },
  {
   "cell_type": "code",
   "execution_count": 1,
   "metadata": {},
   "outputs": [
    {
     "name": "stdin",
     "output_type": "stream",
     "text": [
      "输入ax2+bx+c的a值： 1\n",
      "输入ax2+bx+c的b值： 2\n",
      "输入ax2+bx+c的c值： 1\n"
     ]
    },
    {
     "name": "stdout",
     "output_type": "stream",
     "text": [
      "该方程有一个根x1=-1.000\n"
     ]
    }
   ],
   "source": [
    "# -*- coding: utf-8 -*-\n",
    "import math\n",
    " \n",
    "def quadratic(a1,b1,c1):\n",
    "    a = int(a1)\n",
    "    b = int(b1)\n",
    "    c = int(c1)\n",
    "     \n",
    "    if b*b-4*a*c >0 :\n",
    "        t=b*b-4*a*c\n",
    "        t2 = math.sqrt(t)\n",
    "        x1 = -(b/(2*a))+(t2/(2*a))\n",
    "        x2 = -(b/(2*a))-(t2/(2*a))\n",
    "        z = 1\n",
    "        return x1,x2,z\n",
    "    elif b*b-4*a*c == 0 :\n",
    "         \n",
    "        x1 = (-b/(2*a))\n",
    "        z=0\n",
    "        return x1,x1,z\n",
    "    else:\n",
    "        t=4*a*c-b*b\n",
    "        t2 = math.sqrt(t)\n",
    "        x = (-b/(2*a))\n",
    "        y = (t2/(2*a))\n",
    "        z = -1\n",
    "        return x,y,z\n",
    " \n",
    " \n",
    " \n",
    " \n",
    "a = input('输入ax2+bx+c的a值：')\n",
    "b = input('输入ax2+bx+c的b值：')\n",
    "c = input('输入ax2+bx+c的c值：')\n",
    " \n",
    "x,y,z = quadratic(a,b,c)\n",
    "if z == 1:\n",
    "    print('该方程有两个根x1,x2分别为%.3f %.3f'%(x,y))\n",
    "elif z == 0:\n",
    "    print('该方程有一个根x1=%.3f'%(x))\n",
    "else :\n",
    "    print('该方程有两个虚根a,b分别为%.3f %.3f'%(x,y))\n"
   ]
  },
  {
   "cell_type": "code",
   "execution_count": 4,
   "metadata": {},
   "outputs": [
    {
     "name": "stdout",
     "output_type": "stream",
     "text": [
      "现在是: 5 \n",
      "\n",
      "现在是: 2 \n",
      "\n",
      "现在是: 2 \n",
      "\n",
      "现在是: 7 \n",
      "\n",
      "现在是: 4 \n",
      "\n"
     ]
    }
   ],
   "source": [
    "import random\n",
    "kris = random.randint(1,10)\n",
    "kris1 = random.randint(1,10)\n",
    "kris2 = random.randint(1,10)\n",
    "kris3 = random.randint(1,10)\n",
    "kris4 = random.randint(1,10)\n",
    "\n",
    "print('现在是:',kris,'\\n')\n",
    "print('现在是:',kris1,'\\n')\n",
    "print('现在是:',kris2,'\\n')\n",
    "print('现在是:',kris3,'\\n')\n",
    "print('现在是:',kris4,'\\n')"
   ]
  },
  {
   "cell_type": "code",
   "execution_count": 8,
   "metadata": {},
   "outputs": [
    {
     "name": "stdin",
     "output_type": "stream",
     "text": [
      "please input the parameters:\n",
      " 1\n"
     ]
    },
    {
     "name": "stdout",
     "output_type": "stream",
     "text": [
      "f(x)=0.84134\n"
     ]
    },
    {
     "name": "stdin",
     "output_type": "stream",
     "text": [
      "please input the parameters:\n",
      " 2\n"
     ]
    },
    {
     "name": "stdout",
     "output_type": "stream",
     "text": [
      "f(x)=0.97725\n"
     ]
    },
    {
     "name": "stdin",
     "output_type": "stream",
     "text": [
      "please input the parameters:\n",
      " 3\n"
     ]
    },
    {
     "name": "stdout",
     "output_type": "stream",
     "text": [
      "f(x)=0.99865\n"
     ]
    },
    {
     "name": "stdin",
     "output_type": "stream",
     "text": [
      "please input the parameters:\n",
      " 4\n"
     ]
    },
    {
     "name": "stdout",
     "output_type": "stream",
     "text": [
      "f(x)=0.99997\n"
     ]
    },
    {
     "name": "stdin",
     "output_type": "stream",
     "text": [
      "please input the parameters:\n",
      " 5\n"
     ]
    },
    {
     "name": "stdout",
     "output_type": "stream",
     "text": [
      "f(x)=1.00000\n"
     ]
    },
    {
     "name": "stdin",
     "output_type": "stream",
     "text": [
      "please input the parameters:\n",
      " 6\n"
     ]
    },
    {
     "name": "stdout",
     "output_type": "stream",
     "text": [
      "f(x)=1.00000\n"
     ]
    },
    {
     "name": "stdin",
     "output_type": "stream",
     "text": [
      "please input the parameters:\n",
      " 7\n"
     ]
    },
    {
     "name": "stdout",
     "output_type": "stream",
     "text": [
      "f(x)=1.00000\n"
     ]
    },
    {
     "name": "stdin",
     "output_type": "stream",
     "text": [
      "please input the parameters:\n",
      " 8\n"
     ]
    },
    {
     "name": "stdout",
     "output_type": "stream",
     "text": [
      "f(x)=1.00000\n"
     ]
    },
    {
     "name": "stdin",
     "output_type": "stream",
     "text": [
      "please input the parameters:\n",
      " 9\n"
     ]
    },
    {
     "name": "stdout",
     "output_type": "stream",
     "text": [
      "f(x)=1.00000\n"
     ]
    },
    {
     "name": "stdin",
     "output_type": "stream",
     "text": [
      "please input the parameters:\n",
      " 864\n"
     ]
    },
    {
     "name": "stdout",
     "output_type": "stream",
     "text": [
      "f(x)=1.00000\n"
     ]
    },
    {
     "name": "stdin",
     "output_type": "stream",
     "text": [
      "please input the parameters:\n",
      " stop\n"
     ]
    }
   ],
   "source": [
    "def st_norm(u):\n",
    "     '''标准正态分布'''\n",
    "     import math\n",
    "     x=abs(u)/math.sqrt(2)\n",
    "     T=(0.0705230784,0.0422820123,0.0092705272,\n",
    "        0.0001520143,0.0002765672,0.0000430638)\n",
    "     E=1-pow((1+sum([a*pow(x,(i+1))\n",
    "                     for i,a in enumerate(T)])),-16)\n",
    "     p=0.5-0.5*E if u<0 else 0.5+0.5*E\n",
    "     return(p)\n",
    " \n",
    "def norm(a,sigma,x):\n",
    "     '''一般正态分布'''\n",
    "     u=(x-a)/sigma\n",
    "     return(st_norm(u))\n",
    " \n",
    "while 1:\n",
    "     '''输入一个数时默认为标准正态分布\n",
    "     输入三个数(空格隔开)时分别为期望、方差、x\n",
    "     输入 stop 停止'''\n",
    "     S=input('please input the parameters:\\n')\n",
    "     if S=='stop':break\n",
    "     try:\n",
    "         L=[float(s) for s in S.split()]\n",
    "     except:\n",
    "         print('Input error!')\n",
    "         continue\n",
    "     if len(L)==1:\n",
    "         print('f(x)=%.5f'%st_norm(L[0]))\n",
    "     elif len(L)==3:\n",
    "         print('f(x)=%.5f'%norm(L[0],L[1],L[2]))\n",
    "     else:\n",
    "         print('Input error!')"
   ]
  },
  {
   "cell_type": "code",
   "execution_count": null,
   "metadata": {},
   "outputs": [],
   "source": []
  }
 ],
 "metadata": {
  "kernelspec": {
   "display_name": "Python 3",
   "language": "python",
   "name": "python3"
  },
  "language_info": {
   "codemirror_mode": {
    "name": "ipython",
    "version": 3
   },
   "file_extension": ".py",
   "mimetype": "text/x-python",
   "name": "python",
   "nbconvert_exporter": "python",
   "pygments_lexer": "ipython3",
   "version": "3.8.3"
  }
 },
 "nbformat": 4,
 "nbformat_minor": 4
}
