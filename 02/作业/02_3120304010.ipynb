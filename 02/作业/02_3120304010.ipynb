{
 "cells": [
  {
   "cell_type": "code",
   "execution_count": 1,
   "metadata": {},
   "outputs": [
    {
     "name": "stdout",
     "output_type": "stream",
     "text": [
      "王大锤正在玩飞行棋.\n",
      "王大锤正在玩斗地主.\n"
     ]
    }
   ],
   "source": [
    "class Person(object):\n",
    "\n",
    "    def __init__(self, name, age):\n",
    "        self._name = name\n",
    "        self._age = age\n",
    "\n",
    "    # 访问器 - getter方法\n",
    "    @property\n",
    "    def name(self):\n",
    "        return self._name\n",
    "\n",
    "    # 访问器 - getter方法\n",
    "    @property\n",
    "    def age(self):\n",
    "        return self._age\n",
    "\n",
    "    # 修改器 - setter方法\n",
    "    @age.setter\n",
    "    def age(self, age):\n",
    "        self._age = age\n",
    "\n",
    "    def play(self):\n",
    "        if self._age <= 16:\n",
    "            print('%s正在玩飞行棋.' % self._name)\n",
    "        else:\n",
    "            print('%s正在玩斗地主.' % self._name)\n",
    "\n",
    "\n",
    "def main():\n",
    "    person = Person('王大锤', 12)\n",
    "    person.play()\n",
    "    person.age = 22\n",
    "    person.play()\n",
    "    # person.name = '白元芳'  # AttributeError: can't set attribute\n",
    "\n",
    "\n",
    "if __name__ == '__main__':\n",
    "    main()"
   ]
  },
  {
   "cell_type": "code",
   "execution_count": 2,
   "metadata": {},
   "outputs": [],
   "source": [
    "class Person(object):\n",
    "\n",
    "    # 限定Person对象只能绑定_name, _age和_gender属性\n",
    "    __slots__ = ('_name', '_age', '_gender')\n",
    "\n",
    "    def __init__(self, name, age):\n",
    "        self._name = name\n",
    "        self._age = age\n",
    "\n",
    "    @property\n",
    "    def name(self):\n",
    "        return self._name\n",
    "\n",
    "    @property\n",
    "    def age(self):\n",
    "        return self._age\n",
    "\n",
    "    @age.setter\n",
    "    def age(self, age):\n",
    "        self._age = age\n",
    "\n",
    "    def play(self):\n",
    "        if self._age <= 16:\n",
    "            print('%s正在玩飞行棋.' % self._name)\n",
    "        else:\n",
    "            print('%s正在玩斗地主.' % self._name)\n",
    "\n",
    "\n",
    "def main():\n",
    "    person = Person('王大锤', 22)\n",
    "    person.play()\n",
    "    person._gender = '男'\n",
    "    # AttributeError: 'Person' object has no attribute '_is_gay'\n",
    "    # person._is_gay = True"
   ]
  },
  {
   "cell_type": "code",
   "execution_count": 3,
   "metadata": {},
   "outputs": [
    {
     "ename": "ModuleNotFoundError",
     "evalue": "No module named 'pygame'",
     "output_type": "error",
     "traceback": [
      "\u001b[1;31m---------------------------------------------------------------------------\u001b[0m",
      "\u001b[1;31mModuleNotFoundError\u001b[0m                       Traceback (most recent call last)",
      "\u001b[1;32m<ipython-input-3-4511f4789148>\u001b[0m in \u001b[0;36m<module>\u001b[1;34m\u001b[0m\n\u001b[1;32m----> 1\u001b[1;33m \u001b[1;32mimport\u001b[0m \u001b[0mpygame\u001b[0m\u001b[1;33m\u001b[0m\u001b[1;33m\u001b[0m\u001b[0m\n\u001b[0m\u001b[0;32m      2\u001b[0m \u001b[1;33m\u001b[0m\u001b[0m\n\u001b[0;32m      3\u001b[0m \u001b[1;33m\u001b[0m\u001b[0m\n\u001b[0;32m      4\u001b[0m \u001b[1;32mdef\u001b[0m \u001b[0mmain\u001b[0m\u001b[1;33m(\u001b[0m\u001b[1;33m)\u001b[0m\u001b[1;33m:\u001b[0m\u001b[1;33m\u001b[0m\u001b[1;33m\u001b[0m\u001b[0m\n\u001b[0;32m      5\u001b[0m     \u001b[1;31m# 初始化导入的pygame中的模块\u001b[0m\u001b[1;33m\u001b[0m\u001b[1;33m\u001b[0m\u001b[1;33m\u001b[0m\u001b[0m\n",
      "\u001b[1;31mModuleNotFoundError\u001b[0m: No module named 'pygame'"
     ]
    }
   ],
   "source": [
    "import pygame\n",
    "\n",
    "\n",
    "def main():\n",
    "    # 初始化导入的pygame中的模块\n",
    "    pygame.init()\n",
    "    # 初始化用于显示的窗口并设置窗口尺寸\n",
    "    screen = pygame.display.set_mode((800, 600))\n",
    "    # 设置当前窗口的标题\n",
    "    pygame.display.set_caption('大球吃小球')\n",
    "    running = True\n",
    "    # 开启一个事件循环处理发生的事件\n",
    "    while running:\n",
    "        # 从消息队列中获取事件并对事件进行处理\n",
    "        for event in pygame.event.get():\n",
    "            if event.type == pygame.QUIT:\n",
    "                running = False\n",
    "\n",
    "\n",
    "if __name__ == '__main__':\n",
    "    main()"
   ]
  },
  {
   "cell_type": "code",
   "execution_count": 4,
   "metadata": {},
   "outputs": [
    {
     "name": "stdout",
     "output_type": "stream",
     "text": [
      "{'AAPL': 191.88, 'GOOG': 1186.96, 'IBM': 149.24, 'ACN': 166.89, 'FB': 208.09}\n"
     ]
    }
   ],
   "source": [
    "prices = {\n",
    "    'AAPL': 191.88,\n",
    "    'GOOG': 1186.96,\n",
    "    'IBM': 149.24,\n",
    "    'ORCL': 48.44,\n",
    "    'ACN': 166.89,\n",
    "    'FB': 208.09,\n",
    "    'SYMC': 21.29\n",
    "}\n",
    "# 用股票价格大于100元的股票构造一个新的字典\n",
    "prices2 = {key: value for key, value in prices.items() if value > 100}\n",
    "print(prices2)"
   ]
  },
  {
   "cell_type": "markdown",
   "metadata": {},
   "source": [
    "123\n",
    "### names = ['关羽', '张飞', '赵云', '马超', '黄忠']\n",
    "courses = ['语文', '数学', '英语']\n",
    "# 录入五个学生三门课程的成绩\n",
    "# 错误 - 参考http://pythontutor.com/visualize.html#mode=edit\n",
    "# scores = [[None] * len(courses)] * len(names)\n",
    "scores = [[None] * len(courses) for _ in range(len(names))]\n",
    "for row, name in enumerate(names):\n",
    "    for col, course in enumerate(courses):\n",
    "        scores[row][col] = float(input(f'请输入{name}的{course}成绩: '))\n",
    "        print(scores)"
   ]
  },
  {
   "cell_type": "code",
   "execution_count": 2,
   "metadata": {},
   "outputs": [
    {
     "name": "stdout",
     "output_type": "stream",
     "text": [
      "[99, 92, 88]\n",
      "[12, 25, 34]\n",
      "[{'name': 'AAPL', 'shares': 50, 'price': 543.22}, {'name': 'ACME', 'shares': 75, 'price': 115.65}]\n",
      "[{'name': 'FB', 'shares': 200, 'price': 21.09}, {'name': 'IBM', 'shares': 100, 'price': 91.1}]\n"
     ]
    }
   ],
   "source": [
    "import heapq\n",
    "\n",
    "list1 = [34, 25, 12, 99, 87, 63, 58, 78, 88, 92]\n",
    "list2 = [\n",
    "    {'name': 'IBM', 'shares': 100, 'price': 91.1},\n",
    "    {'name': 'AAPL', 'shares': 50, 'price': 543.22},\n",
    "    {'name': 'FB', 'shares': 200, 'price': 21.09},\n",
    "    {'name': 'HPQ', 'shares': 35, 'price': 31.75},\n",
    "    {'name': 'YHOO', 'shares': 45, 'price': 16.35},\n",
    "    {'name': 'ACME', 'shares': 75, 'price': 115.65}\n",
    "]\n",
    "print(heapq.nlargest(3, list1))\n",
    "print(heapq.nsmallest(3, list1))\n",
    "print(heapq.nlargest(2, list2, key=lambda x: x['price']))\n",
    "print(heapq.nlargest(2, list2, key=lambda x: x['shares']))"
   ]
  },
  {
   "cell_type": "code",
   "execution_count": 4,
   "metadata": {},
   "outputs": [],
   "source": [
    "def select_sort(items, comp=lambda x, y: x < y):\n",
    "    \"\"\"简单选择排序\"\"\"\n",
    "    items = items[:]\n",
    "    for i in range(len(items) - 1):\n",
    "        min_index = i\n",
    "        for j in range(i + 1, len(items)):\n",
    "            if comp(items[j], items[min_index]):\n",
    "                min_index = j\n",
    "        items[i], items[min_index] = items[min_index], items[i]\n",
    "    return items"
   ]
  },
  {
   "cell_type": "code",
   "execution_count": 5,
   "metadata": {},
   "outputs": [
    {
     "ename": "IndentationError",
     "evalue": "unexpected indent (<ipython-input-5-182e0cb04754>, line 2)",
     "output_type": "error",
     "traceback": [
      "\u001b[1;36m  File \u001b[1;32m\"<ipython-input-5-182e0cb04754>\"\u001b[1;36m, line \u001b[1;32m2\u001b[0m\n\u001b[1;33m    for i in range(len(items) - 1):\u001b[0m\n\u001b[1;37m    ^\u001b[0m\n\u001b[1;31mIndentationError\u001b[0m\u001b[1;31m:\u001b[0m unexpected indent\n"
     ]
    }
   ],
   "source": [
    "items = items[:]\n",
    "    for i in range(len(items) - 1):\n",
    "        min_index = i\n",
    "        for j in range(i + 1, len(items)):\n",
    "            if comp(items[j], items[min_index]):\n",
    "                min_index = j\n",
    "        items[i], items[min_index] = items[min_index], items[i]\n",
    "    return items"
   ]
  },
  {
   "cell_type": "code",
   "execution_count": 6,
   "metadata": {},
   "outputs": [
    {
     "name": "stdin",
     "output_type": "stream",
     "text": [
      " 66\n"
     ]
    },
    {
     "ename": "ValueError",
     "evalue": "not enough values to unpack (expected 2, got 1)",
     "output_type": "error",
     "traceback": [
      "\u001b[1;31m---------------------------------------------------------------------------\u001b[0m",
      "\u001b[1;31mValueError\u001b[0m                                Traceback (most recent call last)",
      "\u001b[1;32m<ipython-input-6-bf9150d5cde3>\u001b[0m in \u001b[0;36m<module>\u001b[1;34m\u001b[0m\n\u001b[0;32m     37\u001b[0m \u001b[1;33m\u001b[0m\u001b[0m\n\u001b[0;32m     38\u001b[0m \u001b[1;32mif\u001b[0m \u001b[0m__name__\u001b[0m \u001b[1;33m==\u001b[0m \u001b[1;34m'__main__'\u001b[0m\u001b[1;33m:\u001b[0m\u001b[1;33m\u001b[0m\u001b[1;33m\u001b[0m\u001b[0m\n\u001b[1;32m---> 39\u001b[1;33m     \u001b[0mmain\u001b[0m\u001b[1;33m(\u001b[0m\u001b[1;33m)\u001b[0m\u001b[1;33m\u001b[0m\u001b[1;33m\u001b[0m\u001b[0m\n\u001b[0m",
      "\u001b[1;32m<ipython-input-6-bf9150d5cde3>\u001b[0m in \u001b[0;36mmain\u001b[1;34m()\u001b[0m\n\u001b[0;32m     21\u001b[0m \u001b[1;32mdef\u001b[0m \u001b[0mmain\u001b[0m\u001b[1;33m(\u001b[0m\u001b[1;33m)\u001b[0m\u001b[1;33m:\u001b[0m\u001b[1;33m\u001b[0m\u001b[1;33m\u001b[0m\u001b[0m\n\u001b[0;32m     22\u001b[0m     \u001b[1;34m\"\"\"主函数\"\"\"\u001b[0m\u001b[1;33m\u001b[0m\u001b[1;33m\u001b[0m\u001b[0m\n\u001b[1;32m---> 23\u001b[1;33m     \u001b[0mmax_weight\u001b[0m\u001b[1;33m,\u001b[0m \u001b[0mnum_of_things\u001b[0m \u001b[1;33m=\u001b[0m \u001b[0mmap\u001b[0m\u001b[1;33m(\u001b[0m\u001b[0mint\u001b[0m\u001b[1;33m,\u001b[0m \u001b[0minput\u001b[0m\u001b[1;33m(\u001b[0m\u001b[1;33m)\u001b[0m\u001b[1;33m.\u001b[0m\u001b[0msplit\u001b[0m\u001b[1;33m(\u001b[0m\u001b[1;33m)\u001b[0m\u001b[1;33m)\u001b[0m\u001b[1;33m\u001b[0m\u001b[1;33m\u001b[0m\u001b[0m\n\u001b[0m\u001b[0;32m     24\u001b[0m     \u001b[0mall_things\u001b[0m \u001b[1;33m=\u001b[0m \u001b[1;33m[\u001b[0m\u001b[1;33m]\u001b[0m\u001b[1;33m\u001b[0m\u001b[1;33m\u001b[0m\u001b[0m\n\u001b[0;32m     25\u001b[0m     \u001b[1;32mfor\u001b[0m \u001b[0m_\u001b[0m \u001b[1;32min\u001b[0m \u001b[0mrange\u001b[0m\u001b[1;33m(\u001b[0m\u001b[0mnum_of_things\u001b[0m\u001b[1;33m)\u001b[0m\u001b[1;33m:\u001b[0m\u001b[1;33m\u001b[0m\u001b[1;33m\u001b[0m\u001b[0m\n",
      "\u001b[1;31mValueError\u001b[0m: not enough values to unpack (expected 2, got 1)"
     ]
    }
   ],
   "source": [
    "class Thing(object):\n",
    "    \"\"\"物品\"\"\"\n",
    "\n",
    "    def __init__(self, name, price, weight):\n",
    "        self.name = name\n",
    "        self.price = price\n",
    "        self.weight = weight\n",
    "\n",
    "    @property\n",
    "    def value(self):\n",
    "        \"\"\"价格重量比\"\"\"\n",
    "        return self.price / self.weight\n",
    "\n",
    "\n",
    "def input_thing():\n",
    "    \"\"\"输入物品信息\"\"\"\n",
    "    name_str, price_str, weight_str = input().split()\n",
    "    return name_str, int(price_str), int(weight_str)\n",
    "\n",
    "\n",
    "def main():\n",
    "    \"\"\"主函数\"\"\"\n",
    "    max_weight, num_of_things = map(int, input().split())\n",
    "    all_things = []\n",
    "    for _ in range(num_of_things):\n",
    "        all_things.append(Thing(*input_thing()))\n",
    "    all_things.sort(key=lambda x: x.value, reverse=True)\n",
    "    total_weight = 0\n",
    "    total_price = 0\n",
    "    for thing in all_things:\n",
    "        if total_weight + thing.weight <= max_weight:\n",
    "            print(f'小偷拿走了{thing.name}')\n",
    "            total_weight += thing.weight\n",
    "            total_price += thing.price\n",
    "    print(f'总价值: {total_price}美元')\n",
    "\n",
    "\n",
    "if __name__ == '__main__':\n",
    "    main()"
   ]
  },
  {
   "cell_type": "code",
   "execution_count": 7,
   "metadata": {},
   "outputs": [
    {
     "name": "stdout",
     "output_type": "stream",
     "text": [
      "曹操: 15000.00元\n",
      "荀彧: 24000.00元\n",
      "郭嘉: 17000.00元\n",
      "典韦: 7950.00元\n"
     ]
    }
   ],
   "source": [
    "from abc import ABCMeta, abstractmethod\n",
    "\n",
    "\n",
    "class Employee(metaclass=ABCMeta):\n",
    "    \"\"\"员工(抽象类)\"\"\"\n",
    "\n",
    "    def __init__(self, name):\n",
    "        self.name = name\n",
    "\n",
    "    @abstractmethod\n",
    "    def get_salary(self):\n",
    "        \"\"\"结算月薪(抽象方法)\"\"\"\n",
    "        pass\n",
    "\n",
    "\n",
    "class Manager(Employee):\n",
    "    \"\"\"部门经理\"\"\"\n",
    "\n",
    "    def get_salary(self):\n",
    "        return 15000.0\n",
    "\n",
    "\n",
    "class Programmer(Employee):\n",
    "    \"\"\"程序员\"\"\"\n",
    "\n",
    "    def __init__(self, name, working_hour=0):\n",
    "        self.working_hour = working_hour\n",
    "        super().__init__(name)\n",
    "\n",
    "    def get_salary(self):\n",
    "        return 200.0 * self.working_hour\n",
    "\n",
    "\n",
    "class Salesman(Employee):\n",
    "    \"\"\"销售员\"\"\"\n",
    "\n",
    "    def __init__(self, name, sales=0.0):\n",
    "        self.sales = sales\n",
    "        super().__init__(name)\n",
    "\n",
    "    def get_salary(self):\n",
    "        return 1800.0 + self.sales * 0.05\n",
    "\n",
    "\n",
    "class EmployeeFactory:\n",
    "    \"\"\"创建员工的工厂（工厂模式 - 通过工厂实现对象使用者和对象之间的解耦合）\"\"\"\n",
    "\n",
    "    @staticmethod\n",
    "    def create(emp_type, *args, **kwargs):\n",
    "        \"\"\"创建员工\"\"\"\n",
    "        all_emp_types = {'M': Manager, 'P': Programmer, 'S': Salesman}\n",
    "        cls = all_emp_types[emp_type.upper()]\n",
    "        return cls(*args, **kwargs) if cls else None\n",
    "\n",
    "\n",
    "def main():\n",
    "    \"\"\"主函数\"\"\"\n",
    "    emps = [\n",
    "        EmployeeFactory.create('M', '曹操'), \n",
    "        EmployeeFactory.create('P', '荀彧', 120),\n",
    "        EmployeeFactory.create('P', '郭嘉', 85), \n",
    "        EmployeeFactory.create('S', '典韦', 123000),\n",
    "    ]\n",
    "    for emp in emps:\n",
    "        print(f'{emp.name}: {emp.get_salary():.2f}元')\n",
    "\n",
    "\n",
    "if __name__ == '__main__':\n",
    "    main()"
   ]
  },
  {
   "cell_type": "code",
   "execution_count": 8,
   "metadata": {},
   "outputs": [
    {
     "name": "stdin",
     "output_type": "stream",
     "text": [
      "请输入想要提问的内容： 你好\n"
     ]
    },
    {
     "ename": "FileNotFoundError",
     "evalue": "[Errno 2] No such file or directory: 'reply.txt'",
     "output_type": "error",
     "traceback": [
      "\u001b[1;31m---------------------------------------------------------------------------\u001b[0m",
      "\u001b[1;31mFileNotFoundError\u001b[0m                         Traceback (most recent call last)",
      "\u001b[1;32m<ipython-input-8-9d06d303e08e>\u001b[0m in \u001b[0;36m<module>\u001b[1;34m\u001b[0m\n\u001b[0;32m     18\u001b[0m         \u001b[1;32mif\u001b[0m \u001b[0mquestion\u001b[0m\u001b[1;33m==\u001b[0m\u001b[1;34m'bye'\u001b[0m\u001b[1;33m:\u001b[0m\u001b[1;33m\u001b[0m\u001b[1;33m\u001b[0m\u001b[0m\n\u001b[0;32m     19\u001b[0m             \u001b[1;32mbreak\u001b[0m\u001b[1;33m\u001b[0m\u001b[1;33m\u001b[0m\u001b[0m\n\u001b[1;32m---> 20\u001b[1;33m         \u001b[0mreply\u001b[0m\u001b[1;33m=\u001b[0m\u001b[0mfind_answer\u001b[0m\u001b[1;33m(\u001b[0m\u001b[0mquestion\u001b[0m\u001b[1;33m)\u001b[0m\u001b[1;33m\u001b[0m\u001b[1;33m\u001b[0m\u001b[0m\n\u001b[0m\u001b[0;32m     21\u001b[0m         \u001b[1;32mif\u001b[0m \u001b[1;32mnot\u001b[0m \u001b[0mreply\u001b[0m\u001b[1;33m:\u001b[0m\u001b[1;33m\u001b[0m\u001b[1;33m\u001b[0m\u001b[0m\n\u001b[0;32m     22\u001b[0m             \u001b[0mquestion\u001b[0m\u001b[1;33m=\u001b[0m\u001b[0minput\u001b[0m\u001b[1;33m(\u001b[0m\u001b[1;34m\"小蜜不懂您在说什么，您可以问一些与订单、账户和支付相关的内容（退出请输入bye）：\"\u001b[0m\u001b[1;33m)\u001b[0m\u001b[1;33m\u001b[0m\u001b[1;33m\u001b[0m\u001b[0m\n",
      "\u001b[1;32m<ipython-input-8-9d06d303e08e>\u001b[0m in \u001b[0;36mfind_answer\u001b[1;34m(question)\u001b[0m\n\u001b[0;32m      2\u001b[0m \u001b[1;33m\u001b[0m\u001b[0m\n\u001b[0;32m      3\u001b[0m \u001b[1;32mdef\u001b[0m \u001b[0mfind_answer\u001b[0m\u001b[1;33m(\u001b[0m\u001b[0mquestion\u001b[0m\u001b[1;33m)\u001b[0m\u001b[1;33m:\u001b[0m\u001b[1;33m\u001b[0m\u001b[1;33m\u001b[0m\u001b[0m\n\u001b[1;32m----> 4\u001b[1;33m     \u001b[1;32mwith\u001b[0m \u001b[0mopen\u001b[0m\u001b[1;33m(\u001b[0m\u001b[1;34m'reply.txt'\u001b[0m\u001b[1;33m,\u001b[0m\u001b[1;34m'r'\u001b[0m\u001b[1;33m)\u001b[0m \u001b[1;32mas\u001b[0m \u001b[0mf\u001b[0m \u001b[1;33m:\u001b[0m\u001b[1;33m\u001b[0m\u001b[1;33m\u001b[0m\u001b[0m\n\u001b[0m\u001b[0;32m      5\u001b[0m         \u001b[1;32mwhile\u001b[0m \u001b[1;32mTrue\u001b[0m\u001b[1;33m:\u001b[0m\u001b[1;33m\u001b[0m\u001b[1;33m\u001b[0m\u001b[0m\n\u001b[0;32m      6\u001b[0m             \u001b[0mline\u001b[0m\u001b[1;33m=\u001b[0m\u001b[0mf\u001b[0m\u001b[1;33m.\u001b[0m\u001b[0mreadline\u001b[0m\u001b[1;33m(\u001b[0m\u001b[1;33m)\u001b[0m\u001b[1;33m\u001b[0m\u001b[1;33m\u001b[0m\u001b[0m\n",
      "\u001b[1;31mFileNotFoundError\u001b[0m: [Errno 2] No such file or directory: 'reply.txt'"
     ]
    }
   ],
   "source": [
    "# 任务2：模拟淘宝客服自动回复\n",
    "\n",
    "def find_answer(question):\n",
    "    with open('reply.txt','r') as f :\n",
    "        while True:\n",
    "            line=f.readline()\n",
    "            if  not line:   #也可以为if  line==''\n",
    "                break\n",
    "            keyword=line.split('|')[0]\n",
    "            reply=line.split('|')[1]\n",
    "            if keyword in question:\n",
    "                return reply\n",
    "        return '对不起，没有你想要找的问题'\n",
    "\n",
    "if __name__ =='__main__':\n",
    "    question=input('请输入想要提问的内容：')\n",
    "    while True:\n",
    "        if question=='bye':\n",
    "            break\n",
    "        reply=find_answer(question)\n",
    "        if not reply:\n",
    "            question=input(\"小蜜不懂您在说什么，您可以问一些与订单、账户和支付相关的内容（退出请输入bye）：\")\n",
    "        else:\n",
    "            print(reply)\n",
    "            question=input(\"您可以问一些与订单、账户和支付相关的内容（退出请输入bye）：\")\n",
    "    print('谢谢，再见！')\n",
    "    "
   ]
  },
  {
   "cell_type": "code",
   "execution_count": 9,
   "metadata": {},
   "outputs": [
    {
     "ename": "SyntaxError",
     "evalue": "invalid syntax (<ipython-input-9-53e598962665>, line 39)",
     "output_type": "error",
     "traceback": [
      "\u001b[1;36m  File \u001b[1;32m\"<ipython-input-9-53e598962665>\"\u001b[1;36m, line \u001b[1;32m39\u001b[0m\n\u001b[1;33m    while len(passw ord) < 6 :\u001b[0m\n\u001b[1;37m                    ^\u001b[0m\n\u001b[1;31mSyntaxError\u001b[0m\u001b[1;31m:\u001b[0m invalid syntax\n"
     ]
    }
   ],
   "source": [
    "import time\n",
    "\n",
    "def show_info():\n",
    "    print('''输入提示数字，执行相应操作\n",
    "0：退出\n",
    "1：查看登录日志\n",
    "    ''')\n",
    "\n",
    "def write_loginfo(username):\n",
    "    \"\"\"\n",
    "    将用户名和登录时间写入日志\n",
    "    :param username: 用户名\n",
    "    \"\"\"\n",
    "    with open('log.txt','a') as f:\n",
    "        string = \"用户名：{} 登录时间：{}\\n\".format(username ,time.strftime('%Y-%m-%d %H:%M:%S',time.localtime(time.time())))\n",
    "        f.write(string)\n",
    "\n",
    "def read_loginfo():\n",
    "    \"\"\"\n",
    "    读取日志\n",
    "    \"\"\"\n",
    "    with open('log.txt','r') as f:\n",
    "        while True:\n",
    "            line = f.readline()\n",
    "            if line == '':\n",
    "                break  # 跳出循环\n",
    "            print(line)  # 输出一行内容\n",
    "\n",
    "if __name__ == \"__main__\":\n",
    "    # 输入用户名\n",
    "    username = input('请输入用户名：')\n",
    "    # 检测用户名\n",
    "    while len(username) < 2 :\n",
    "        print('用户名长度应不少于2位')\n",
    "        username = input('请输入用户名：')\n",
    "    # 输入密码\n",
    "    password = input('请输入密码：')\n",
    "    # 检测密码\n",
    "    while len(passw ord) < 6 :\n",
    "        print('密码长度应不少于6位')\n",
    "        password = input('请输入密码：')\n",
    "\n",
    "    print('登录成功')\n",
    "    write_loginfo(username)  # 写入日志\n",
    "    show_info()              # 提示信息\n",
    "    num = int(input('输入操作数字:')) # 输入数字\n",
    "    while True:\n",
    "        if num == 0:\n",
    "            print('退出成功')\n",
    "            break\n",
    "        elif num == 1:\n",
    "            print('查看登录日志')\n",
    "            read_loginfo()\n",
    "            show_info()\n",
    "            num = int(input('输入操作数字:'))\n",
    "        else:\n",
    "            print('您输入的数字有误')\n",
    "            show_info()\n",
    "            num = int(input('输入操作数字:'))------------------------------\n",
    "3。模拟淘宝客服自动回复\n",
    " 1 # 任务2：模拟淘宝客服自动回复\n",
    " 2 \n",
    " 3 def find_answer(question):\n",
    " 4     with open('reply.txt','r') as f :\n",
    " 5         while True:\n",
    " 6             line=f.readline()\n",
    " 7             if  not line:   #也可以为if  line==''\n",
    " 8                 break\n",
    " 9             keyword=line.split('|')[0]\n",
    "10             reply=line.split('|')[1]\n",
    "11             if keyword in question:\n",
    "12                 return reply\n",
    "13         return '对不起，没有你想要找的问题'\n",
    "14          \n",
    "15 if __name__ =='__main__':\n",
    "16     question=input('请输入想要提问的内容：')\n",
    "17     while True:\n",
    "18         if question=='bye':\n",
    "19             break\n",
    "20         reply=find_answer(question)\n",
    "21         if not reply:\n",
    "22             question=input(\"小蜜不懂您在说什么，您可以问一些与订单、账户和支付相关的内容（退出请输入bye）：\")\n",
    "23         else:\n",
    "24             print(reply)\n",
    "25             question=input(\"您可以问一些与订单、账户和支付相关的内容（退出请输入bye）：\")\n",
    "26     print('谢谢，再见！')\n",
    "27"
   ]
  },
  {
   "cell_type": "code",
   "execution_count": 10,
   "metadata": {},
   "outputs": [
    {
     "name": "stdout",
     "output_type": "stream",
     "text": [
      "输入字符串: abcdefgHABC123456中华民族\n",
      "包含的数字: ['1', '2', '3', '4', '5', '6']\n",
      "包含的字母: ['a', 'b', 'c', 'd', 'e', 'f', 'g', 'H', 'A', 'B', 'C']\n",
      "包含的汉字: ['中', '华', '民', '族']\n"
     ]
    }
   ],
   "source": [
    "import re\n",
    "str_test='abcdefgHABC123456中华民族'\n",
    "\n",
    "#把正则表达式编译成对象,如果经常使用该对象,此种方式可提高一定效率\n",
    "num_regex = re.compile(r'[0-9]')\n",
    "zimu_regex = re.compile(r'[a-zA-z]')\n",
    "hanzi_regex = re.compile(r'[\\u4E00-\\u9FA5]')\n",
    "\n",
    "print('输入字符串:',str_test)\n",
    "#findall获取字符串中所有匹配的字符\n",
    "num_list = num_regex.findall(str_test)\n",
    "print('包含的数字:',num_list)\n",
    "zimu_list = zimu_regex.findall(str_test)\n",
    "print('包含的字母:',zimu_list)\n",
    "hanzi_list = hanzi_regex.findall(str_test)\n",
    "print('包含的汉字:',hanzi_list)"
   ]
  },
  {
   "cell_type": "code",
   "execution_count": 11,
   "metadata": {},
   "outputs": [
    {
     "name": "stdin",
     "output_type": "stream",
     "text": [
      "Year: 2009\n",
      "Month: 5\n",
      "day: 6\n"
     ]
    },
    {
     "name": "stdout",
     "output_type": "stream",
     "text": [
      "126\n"
     ]
    }
   ],
   "source": [
    "def isLeapYear(y):\n",
    "    return (y%400==0 or (y%4==0 and y%100!=0))\n",
    "DofM=[0,31,28,31,30,31,30,31,31,30,31,30]\n",
    "res=0\n",
    "year=int(input('Year:'))\n",
    "month=int(input('Month:'))\n",
    "day=int(input('day:'))\n",
    "if isLeapYear(year):\n",
    "    DofM[2]+=1\n",
    "for i in range(month):\n",
    "    res+=DofM[i]\n",
    "print(res+day)\n",
    "\n"
   ]
  },
  {
   "cell_type": "code",
   "execution_count": 12,
   "metadata": {},
   "outputs": [
    {
     "name": "stdin",
     "output_type": "stream",
     "text": [
      "int0:  1232\n",
      "int1:  34\n",
      "int2:  55\n"
     ]
    },
    {
     "name": "stdout",
     "output_type": "stream",
     "text": [
      "[34, 55, 1232]\n"
     ]
    },
    {
     "name": "stdin",
     "output_type": "stream",
     "text": [
      "int0:  6\n",
      "int1:  7\n",
      "int2:  7\n"
     ]
    },
    {
     "name": "stdout",
     "output_type": "stream",
     "text": [
      "[6, 7, 7]\n"
     ]
    }
   ],
   "source": [
    "raw=[]\n",
    "for i in range(3):\n",
    "    x=int(input('int%d: '%(i)))\n",
    "    raw.append(x)\n",
    "    \n",
    "for i in range(len(raw)):\n",
    "    for j in range(i,len(raw)):\n",
    "        if raw[i]>raw[j]:\n",
    "            raw[i],raw[j]=raw[j],raw[i]\n",
    "print(raw)\n",
    "\n",
    "\n",
    "raw2=[]\n",
    "for i in range(3):\n",
    "    x=int(input('int%d: '%(i)))\n",
    "    raw2.append(x)\n",
    "print(sorted(raw2))\n",
    "\n",
    "\n"
   ]
  },
  {
   "cell_type": "code",
   "execution_count": null,
   "metadata": {},
   "outputs": [],
   "source": [
    "1*9\n"
   ]
  },
  {
   "cell_type": "code",
   "execution_count": null,
   "metadata": {},
   "outputs": [],
   "source": [
    "1+1"
   ]
  },
  {
   "cell_type": "code",
   "execution_count": 13,
   "metadata": {},
   "outputs": [
    {
     "name": "stdout",
     "output_type": "stream",
     "text": [
      "{'AAPL': 191.88, 'GOOG': 1186.96, 'IBM': 149.24, 'ACN': 166.89, 'FB': 208.09}\n"
     ]
    }
   ],
   "source": [
    "prices = {\n",
    "    'AAPL': 191.88,\n",
    "    'GOOG': 1186.96,\n",
    "    'IBM': 149.24,\n",
    "    'ORCL': 48.44,\n",
    "    'ACN': 166.89,\n",
    "    'FB': 208.09,\n",
    "    'SYMC': 21.29\n",
    "}\n",
    "# 用股票价格大于100元的股票构造一个新的字典\n",
    "prices2 = {key: value for key, value in prices.items() if value > 100}\n",
    "print(prices2)"
   ]
  },
  {
   "cell_type": "code",
   "execution_count": null,
   "metadata": {},
   "outputs": [],
   "source": []
  },
  {
   "cell_type": "code",
   "execution_count": null,
   "metadata": {},
   "outputs": [],
   "source": []
  },
  {
   "cell_type": "code",
   "execution_count": null,
   "metadata": {},
   "outputs": [],
   "source": []
  }
 ],
 "metadata": {
  "kernelspec": {
   "display_name": "Python 3",
   "language": "python",
   "name": "python3"
  },
  "language_info": {
   "codemirror_mode": {
    "name": "ipython",
    "version": 3
   },
   "file_extension": ".py",
   "mimetype": "text/x-python",
   "name": "python",
   "nbconvert_exporter": "python",
   "pygments_lexer": "ipython3",
   "version": "3.8.3"
  }
 },
 "nbformat": 4,
 "nbformat_minor": 4
}
