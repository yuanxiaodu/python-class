{
 "cells": [
  {
   "cell_type": "code",
   "execution_count": 6,
   "metadata": {},
   "outputs": [],
   "source": [
    "num = 10"
   ]
  },
  {
   "cell_type": "code",
   "execution_count": 7,
   "metadata": {},
   "outputs": [],
   "source": [
    " if num > 10 : \n",
    "    print('num比10大！')\n",
    "    print('谁也管不了我')"
   ]
  },
  {
   "cell_type": "code",
   "execution_count": 8,
   "metadata": {},
   "outputs": [],
   "source": [
    "if False :\n",
    "    print(123)\n",
    "    print(456)\n",
    "    print(789)\n",
    "    print(101112)"
   ]
  },
  {
   "cell_type": "code",
   "execution_count": 9,
   "metadata": {},
   "outputs": [],
   "source": [
    "num = 28"
   ]
  },
  {
   "cell_type": "code",
   "execution_count": 10,
   "metadata": {},
   "outputs": [],
   "source": [
    "if num > 10 and num < 20 :\n",
    "  print('num比10大,num比20小！')"
   ]
  },
  {
   "cell_type": "code",
   "execution_count": 11,
   "metadata": {},
   "outputs": [],
   "source": [
    " if 10 < num < 20 :\n",
    "    print('num比10大,num比20小！')"
   ]
  },
  {
   "cell_type": "code",
   "execution_count": 12,
   "metadata": {},
   "outputs": [
    {
     "name": "stdin",
     "output_type": "stream",
     "text": [
      "请输入你的用户名: ding\n"
     ]
    }
   ],
   "source": [
    "username = input('请输入你的用户名:')\n",
    "# 判断用户名是否是admin\n",
    "if username == 'admin' :\n",
    "    print('欢迎管理员光临！')"
   ]
  },
  {
   "cell_type": "code",
   "execution_count": 13,
   "metadata": {},
   "outputs": [],
   "source": [
    "age = 7"
   ]
  },
  {
   "cell_type": "code",
   "execution_count": 14,
   "metadata": {},
   "outputs": [
    {
     "name": "stdout",
     "output_type": "stream",
     "text": [
      "你还未成年~~\n"
     ]
    }
   ],
   "source": [
    "if age > 17 :\n",
    "    print('你已经成年了~~')\n",
    "else :\n",
    "    print('你还未成年~~')"
   ]
  },
  {
   "cell_type": "code",
   "execution_count": 20,
   "metadata": {},
   "outputs": [],
   "source": [
    "age = 210"
   ]
  },
  {
   "cell_type": "code",
   "execution_count": 21,
   "metadata": {},
   "outputs": [
    {
     "name": "stdout",
     "output_type": "stream",
     "text": [
      "活着可真没劲呢！\n"
     ]
    }
   ],
   "source": [
    "if age > 200 :\n",
    "     print('活着可真没劲呢！')\n",
    "elif age > 100 :\n",
    "     print('你也是老大不小了！')\n",
    "elif age >= 60 :\n",
    "     print('你已经退休了！')\n",
    "elif age >= 30 :\n",
    "     print('你已经是中年了！')\n",
    "elif age >= 18 :\n",
    "     print('你已经成年了！')\n",
    "else :\n",
    "     print('你还是个小孩！')"
   ]
  },
  {
   "cell_type": "code",
   "execution_count": 22,
   "metadata": {},
   "outputs": [],
   "source": [
    "age = 68"
   ]
  },
  {
   "cell_type": "code",
   "execution_count": 23,
   "metadata": {},
   "outputs": [
    {
     "name": "stdout",
     "output_type": "stream",
     "text": [
      "你已经退休了！\n"
     ]
    }
   ],
   "source": [
    "if age >= 18 and age < 30 :\n",
    "    print('你已经成年了！')\n",
    "elif age >= 30 and age < 60 :\n",
    "    print('你已经中年了！')\n",
    "elif age >= 60 :\n",
    "    print('你已经退休了！')"
   ]
  },
  {
   "cell_type": "code",
   "execution_count": 25,
   "metadata": {},
   "outputs": [
    {
     "name": "stdin",
     "output_type": "stream",
     "text": [
      "请输入你的身高(厘米): 2\n"
     ]
    }
   ],
   "source": [
    "height = float(input('请输入你的身高(厘米):'))"
   ]
  },
  {
   "cell_type": "code",
   "execution_count": 26,
   "metadata": {},
   "outputs": [
    {
     "name": "stdin",
     "output_type": "stream",
     "text": [
      "请输入你的财富(万): 3\n"
     ]
    }
   ],
   "source": [
    "money = float(input('请输入你的财富(万):'))"
   ]
  },
  {
   "cell_type": "code",
   "execution_count": 27,
   "metadata": {},
   "outputs": [
    {
     "name": "stdin",
     "output_type": "stream",
     "text": [
      "请输入你的颜值(平方厘米): 3\n"
     ]
    }
   ],
   "source": [
    "face = float(input('请输入你的颜值(平方厘米):'))"
   ]
  },
  {
   "cell_type": "code",
   "execution_count": 28,
   "metadata": {},
   "outputs": [
    {
     "name": "stdout",
     "output_type": "stream",
     "text": [
      "不嫁！\n"
     ]
    }
   ],
   "source": [
    "if height > 180 and money > 1000 and face > 500 :\n",
    "    print('我一定要嫁给他！')\n",
    "# 如果三个条件有为真的情况，则:'嫁吧，比上不足，比下有余。'\n",
    "elif height > 180 or money > 1000 or face > 500 :\n",
    "    print('嫁吧，比上不足，比下有余。')\n",
    "# 如果三个条件都不满足，则:'不嫁！'\n",
    "else :\n",
    "    print('不嫁！')"
   ]
  },
  {
   "cell_type": "code",
   "execution_count": 31,
   "metadata": {},
   "outputs": [
    {
     "name": "stdin",
     "output_type": "stream",
     "text": [
      "请输入你的期末成绩(0-100)： 4\n"
     ]
    }
   ],
   "source": [
    "score = float(input('请输入你的期末成绩(0-100)：'))"
   ]
  },
  {
   "cell_type": "code",
   "execution_count": 32,
   "metadata": {},
   "outputs": [
    {
     "name": "stdout",
     "output_type": "stream",
     "text": [
      "棍子一根！\n"
     ]
    }
   ],
   "source": [
    " if 0 <= score <= 100 :\n",
    "     # 判断发给的奖励\n",
    "    if score == 100 :\n",
    "         print('宝马，拿去玩！')\n",
    "    elif score >= 80 :\n",
    "         print('苹果手机，拿去玩！')\n",
    "    elif score >= 60 :\n",
    "         print('参考书，拿去玩！')\n",
    "    else :\n",
    "         print('棍子一根！')\n",
    "else :\n",
    "     # 用户输入的不合法，弹出一个友好提示\n",
    "    print('你输入的内容不合法，拉出去毙了！')"
   ]
  },
  {
   "cell_type": "code",
   "execution_count": 33,
   "metadata": {},
   "outputs": [
    {
     "name": "stdin",
     "output_type": "stream",
     "text": [
      "请输入一个任意的整数： 5\n"
     ]
    }
   ],
   "source": [
    "num = int(input('请输入一个任意的整数：'))"
   ]
  },
  {
   "cell_type": "code",
   "execution_count": 34,
   "metadata": {},
   "outputs": [
    {
     "name": "stdout",
     "output_type": "stream",
     "text": [
      "5 是奇数\n"
     ]
    }
   ],
   "source": [
    "if num % 2 == 0 :\n",
    "     print(num , \"是偶数\")\n",
    "else :\n",
    "     print(num , '是奇数')"
   ]
  },
  {
   "cell_type": "code",
   "execution_count": 35,
   "metadata": {},
   "outputs": [
    {
     "name": "stdin",
     "output_type": "stream",
     "text": [
      "请输入一个任意的年份: 2020\n"
     ]
    }
   ],
   "source": [
    "year = int(input('请输入一个任意的年份:'))"
   ]
  },
  {
   "cell_type": "code",
   "execution_count": 36,
   "metadata": {},
   "outputs": [
    {
     "name": "stdout",
     "output_type": "stream",
     "text": [
      "2020 是闰年\n"
     ]
    }
   ],
   "source": [
    "year % 4 == 0 and year % 100 != 0 or year % 400 == 0\n",
    "if year % 4 == 0 and year % 100 != 0 or year % 400 == 0 :\n",
    "     print(year,'是闰年')\n",
    "else :\n",
    "    print(year,'是平年')"
   ]
  },
  {
   "cell_type": "code",
   "execution_count": 37,
   "metadata": {},
   "outputs": [
    {
     "name": "stdin",
     "output_type": "stream",
     "text": [
      "请输入狗的年龄： 20\n"
     ]
    }
   ],
   "source": [
    "dog_age = float(input('请输入狗的年龄：'))"
   ]
  },
  {
   "cell_type": "code",
   "execution_count": 38,
   "metadata": {},
   "outputs": [],
   "source": [
    "like_person_age = 0\n",
    "# 检查用户输入的是否是负数\n",
    "if dog_age < 0 :\n",
    "    print('你的输入不合法！')\n",
    "# # 如果狗的年龄在两岁以下（包含两岁）\n",
    "elif dog_age <= 2 :\n",
    "#     # 直接将当前的年龄乘以10.5\n",
    "     like_person_age = dog_age * 10.5\n",
    "# # 如果狗的年龄在两岁以上\n",
    "else :\n",
    "#     # 计算前两岁相当于人类的年纪\n",
    "    like_person_age = 2 * 10.5\n",
    "    # 计算超过两岁的部分相对于人类的年纪，并进行相加\n",
    "    like_person_age += ( dog_age - 2 ) * 4"
   ]
  },
  {
   "cell_type": "code",
   "execution_count": 39,
   "metadata": {},
   "outputs": [
    {
     "name": "stdout",
     "output_type": "stream",
     "text": [
      "20.0 岁的狗，年纪相当于 93.0 岁的人\n"
     ]
    }
   ],
   "source": [
    "if dog_age > 0 :\n",
    "     print(dog_age,'岁的狗，年纪相当于',like_person_age,'岁的人')"
   ]
  },
  {
   "cell_type": "code",
   "execution_count": 50,
   "metadata": {},
   "outputs": [
    {
     "name": "stdout",
     "output_type": "stream",
     "text": [
      "1 hello\n",
      "2 hello\n",
      "3 hello\n",
      "4 hello\n",
      "5 hello\n",
      "6 hello\n",
      "7 hello\n",
      "8 hello\n",
      "9 hello\n",
      "10 hello\n",
      "else中的代码块\n"
     ]
    }
   ],
   "source": [
    "i = 0\n",
    "while i < 10 :\n",
    "    i += 1\n",
    "    print(i,'hello')\n",
    "else :\n",
    "    print('else中的代码块')"
   ]
  },
  {
   "cell_type": "code",
   "execution_count": 51,
   "metadata": {},
   "outputs": [],
   "source": [
    "i = 0"
   ]
  },
  {
   "cell_type": "code",
   "execution_count": 52,
   "metadata": {},
   "outputs": [],
   "source": [
    "result = 0"
   ]
  },
  {
   "cell_type": "code",
   "execution_count": 53,
   "metadata": {},
   "outputs": [
    {
     "name": "stdout",
     "output_type": "stream",
     "text": [
      "result = 2500\n"
     ]
    }
   ],
   "source": [
    "while i < 100 :\n",
    "     i += 1\n",
    "     # 判断i是否是奇数\n",
    "     if i % 2 != 0:\n",
    "        result += i\n",
    "\n",
    "print('result =',result)"
   ]
  },
  {
   "cell_type": "code",
   "execution_count": 54,
   "metadata": {},
   "outputs": [],
   "source": [
    "i = 1"
   ]
  },
  {
   "cell_type": "code",
   "execution_count": 55,
   "metadata": {},
   "outputs": [
    {
     "name": "stdout",
     "output_type": "stream",
     "text": [
      "1\n",
      "3\n",
      "5\n",
      "7\n",
      "9\n",
      "11\n",
      "13\n",
      "15\n",
      "17\n",
      "19\n",
      "21\n",
      "23\n",
      "25\n",
      "27\n",
      "29\n",
      "31\n",
      "33\n",
      "35\n",
      "37\n",
      "39\n",
      "41\n",
      "43\n",
      "45\n",
      "47\n",
      "49\n",
      "51\n",
      "53\n",
      "55\n",
      "57\n",
      "59\n",
      "61\n",
      "63\n",
      "65\n",
      "67\n",
      "69\n",
      "71\n",
      "73\n",
      "75\n",
      "77\n",
      "79\n",
      "81\n",
      "83\n",
      "85\n",
      "87\n",
      "89\n",
      "91\n",
      "93\n",
      "95\n",
      "97\n",
      "99\n"
     ]
    }
   ],
   "source": [
    "while i < 100:\n",
    "     print(i)\n",
    "     i += 2"
   ]
  },
  {
   "cell_type": "code",
   "execution_count": 56,
   "metadata": {},
   "outputs": [],
   "source": [
    "i = 7 "
   ]
  },
  {
   "cell_type": "code",
   "execution_count": 57,
   "metadata": {},
   "outputs": [],
   "source": [
    "result = 0"
   ]
  },
  {
   "cell_type": "code",
   "execution_count": 58,
   "metadata": {},
   "outputs": [],
   "source": [
    "count = 0"
   ]
  },
  {
   "cell_type": "code",
   "execution_count": 59,
   "metadata": {},
   "outputs": [],
   "source": [
    "while i < 100:\n",
    "    # 为计数器加1\n",
    "    count += 1\n",
    "    result += i\n",
    "    i += 7    "
   ]
  },
  {
   "cell_type": "code",
   "execution_count": 60,
   "metadata": {},
   "outputs": [
    {
     "name": "stdout",
     "output_type": "stream",
     "text": [
      "总和为： 735 总数量为: 14\n"
     ]
    }
   ],
   "source": [
    "print('总和为：',result,'总数量为:',count)"
   ]
  },
  {
   "cell_type": "code",
   "execution_count": 61,
   "metadata": {},
   "outputs": [],
   "source": [
    "i = 100"
   ]
  },
  {
   "cell_type": "code",
   "execution_count": 62,
   "metadata": {},
   "outputs": [
    {
     "name": "stdout",
     "output_type": "stream",
     "text": [
      "153\n",
      "370\n",
      "371\n",
      "407\n"
     ]
    }
   ],
   "source": [
    "while i < 1000:\n",
    "\n",
    "    # 假设，i的百位数是a，十位数b，个位数c\n",
    "    # 求i的百位数\n",
    "    a = i // 100\n",
    "    # 求i的十位数\n",
    "    # b = i // 10 % 10\n",
    "    b = (i - a * 100) // 10\n",
    "    # 求i的个位数字\n",
    "    c = i % 10\n",
    "    # print(i , a , b , c)\n",
    "    \n",
    "    # 判断i是否是水仙花数\n",
    "    if a**3 + b**3 + c**3 == i :\n",
    "        print(i)\n",
    "    i += 1"
   ]
  },
  {
   "cell_type": "code",
   "execution_count": 63,
   "metadata": {},
   "outputs": [
    {
     "name": "stdin",
     "output_type": "stream",
     "text": [
      "输入一个任意的大于1的整数： 3\n"
     ]
    }
   ],
   "source": [
    "num = int(input('输入一个任意的大于1的整数：'))"
   ]
  },
  {
   "cell_type": "code",
   "execution_count": 64,
   "metadata": {},
   "outputs": [],
   "source": [
    "i = 2"
   ]
  },
  {
   "cell_type": "code",
   "execution_count": 65,
   "metadata": {},
   "outputs": [],
   "source": [
    "flag = True"
   ]
  },
  {
   "cell_type": "code",
   "execution_count": 66,
   "metadata": {},
   "outputs": [
    {
     "name": "stdout",
     "output_type": "stream",
     "text": [
      "3 是质数\n"
     ]
    }
   ],
   "source": [
    "while i < num:\n",
    "    # 判断num能否被i整除\n",
    "    # 如果num能被i整除，则说明num一定不是质数\n",
    "    if num % i == 0 :\n",
    "        # 一旦进入判断，则证明num不是质数，则需要将flag修改为false\n",
    "        flag = False\n",
    "    i += 1\n",
    "\n",
    "if flag :\n",
    "    print(num,'是质数')\n",
    "else :\n",
    "    print(num,'不是质数')"
   ]
  },
  {
   "cell_type": "code",
   "execution_count": 67,
   "metadata": {},
   "outputs": [],
   "source": [
    "i = 0"
   ]
  },
  {
   "cell_type": "code",
   "execution_count": 71,
   "metadata": {},
   "outputs": [
    {
     "name": "stdout",
     "output_type": "stream",
     "text": [
      "* * * * * \n",
      "* * * * * \n",
      "* * * * * \n",
      "* * * * * \n",
      "* * * * * \n"
     ]
    }
   ],
   "source": [
    "while i < 5:\n",
    "    # 创建一个内层循环来控制图形的宽度\n",
    "    j = 0\n",
    "    while j < 5:\n",
    "        print(\"* \",end='')\n",
    "        j += 1\n",
    "    print()\n",
    "    i += 1"
   ]
  },
  {
   "cell_type": "code",
   "execution_count": 72,
   "metadata": {},
   "outputs": [
    {
     "name": "stdout",
     "output_type": "stream",
     "text": [
      "* \n",
      "* * \n",
      "* * * \n",
      "* * * * \n",
      "* * * * * \n"
     ]
    }
   ],
   "source": [
    "i = 0\n",
    "while i < 5:\n",
    "    j = 0\n",
    "    while j < i + 1:\n",
    "        print(\"* \",end='')\n",
    "        j += 1\n",
    "    print()\n",
    "    i += 1"
   ]
  },
  {
   "cell_type": "code",
   "execution_count": 73,
   "metadata": {},
   "outputs": [
    {
     "name": "stdout",
     "output_type": "stream",
     "text": [
      "1*1=1 \n",
      "1*2=2 2*2=4 \n",
      "1*3=3 2*3=6 3*3=9 \n",
      "1*4=4 2*4=8 3*4=12 4*4=16 \n",
      "1*5=5 2*5=10 3*5=15 4*5=20 5*5=25 \n",
      "1*6=6 2*6=12 3*6=18 4*6=24 5*6=30 6*6=36 \n",
      "1*7=7 2*7=14 3*7=21 4*7=28 5*7=35 6*7=42 7*7=49 \n",
      "1*8=8 2*8=16 3*8=24 4*8=32 5*8=40 6*8=48 7*8=56 8*8=64 \n",
      "1*9=9 2*9=18 3*9=27 4*9=36 5*9=45 6*9=54 7*9=63 8*9=72 9*9=81 \n"
     ]
    }
   ],
   "source": [
    "i = 0\n",
    "while i < 9:\n",
    "    i += 1\n",
    "    \n",
    "    # 创建一个内层循环来控制图形的宽度\n",
    "    j = 0\n",
    "    while j < i:\n",
    "        j += 1\n",
    "        print(f\"{j}*{i}={i*j} \",end=\"\")\n",
    "\n",
    "    print()"
   ]
  },
  {
   "cell_type": "code",
   "execution_count": 74,
   "metadata": {},
   "outputs": [],
   "source": [
    "i = 2"
   ]
  },
  {
   "cell_type": "code",
   "execution_count": 75,
   "metadata": {},
   "outputs": [
    {
     "name": "stdout",
     "output_type": "stream",
     "text": [
      "2\n",
      "3\n",
      "5\n",
      "7\n",
      "11\n",
      "13\n",
      "17\n",
      "19\n",
      "23\n",
      "29\n",
      "31\n",
      "37\n",
      "41\n",
      "43\n",
      "47\n",
      "53\n",
      "59\n",
      "61\n",
      "67\n",
      "71\n",
      "73\n",
      "79\n",
      "83\n",
      "89\n",
      "97\n"
     ]
    }
   ],
   "source": [
    "while i <= 100:\n",
    "    \n",
    "    # 创建一个变量，记录i的状态，默认认为i是质数\n",
    "    flag = True\n",
    "\n",
    "    # 判断i是否是质数\n",
    "    # 获取所有可能成为i的因数的数\n",
    "    j = 2 \n",
    "    while j < i:\n",
    "        # 判断i能否被j整除\n",
    "        if i % j == 0:\n",
    "            # i能被j整除，证明i不是质数，修改flag为False\n",
    "            flag = False\n",
    "        j += 1\n",
    "    # 验证结果并输出\n",
    "    if flag :\n",
    "        print(i)   \n",
    "\n",
    "    i += 1"
   ]
  },
  {
   "cell_type": "code",
   "execution_count": 76,
   "metadata": {},
   "outputs": [],
   "source": [
    "i = 0\n",
    "if i < 5:\n",
    "    pass"
   ]
  },
  {
   "cell_type": "code",
   "execution_count": 79,
   "metadata": {},
   "outputs": [],
   "source": [
    "from time import *"
   ]
  },
  {
   "cell_type": "code",
   "execution_count": 80,
   "metadata": {},
   "outputs": [],
   "source": [
    "begin = time()"
   ]
  },
  {
   "cell_type": "code",
   "execution_count": 81,
   "metadata": {},
   "outputs": [],
   "source": [
    "i = 2"
   ]
  },
  {
   "cell_type": "code",
   "execution_count": 82,
   "metadata": {},
   "outputs": [],
   "source": [
    "while i <= 100000:\n",
    "    flag = True\n",
    "    j = 2 \n",
    "    while j <= i ** 0.5:\n",
    "        if i % j == 0:\n",
    "            flag = False\n",
    "            # 一旦进入判断，则证明i一定不是质数，此时内层循环没有继续执行的必要\n",
    "            # 使用break来退出内层的循环\n",
    "            break\n",
    "        j += 1\n",
    "    if flag :\n",
    "        # print(i)  \n",
    "        pass\n",
    "    i += 1"
   ]
  },
  {
   "cell_type": "code",
   "execution_count": 83,
   "metadata": {},
   "outputs": [],
   "source": [
    "# 获取程序结束的时间\n",
    "end = time()"
   ]
  },
  {
   "cell_type": "code",
   "execution_count": 84,
   "metadata": {},
   "outputs": [
    {
     "name": "stdout",
     "output_type": "stream",
     "text": [
      "程序执行花费了： 2.150813102722168 秒\n"
     ]
    }
   ],
   "source": [
    "# 计算程序执行的时间\n",
    "print(\"程序执行花费了：\",end - begin , \"秒\")"
   ]
  },
  {
   "cell_type": "code",
   "execution_count": 85,
   "metadata": {},
   "outputs": [
    {
     "name": "stdout",
     "output_type": "stream",
     "text": [
      "-------------------- 欢迎光临《唐僧大战白骨精》 --------------------\n"
     ]
    }
   ],
   "source": [
    "print('-'*20,'欢迎光临《唐僧大战白骨精》','-'*20)"
   ]
  },
  {
   "cell_type": "code",
   "execution_count": 86,
   "metadata": {},
   "outputs": [
    {
     "name": "stdout",
     "output_type": "stream",
     "text": [
      "请选择你的身份：\n"
     ]
    }
   ],
   "source": [
    "# 显示身份选择的信息\n",
    "print('请选择你的身份：')"
   ]
  },
  {
   "cell_type": "code",
   "execution_count": 87,
   "metadata": {},
   "outputs": [
    {
     "name": "stdout",
     "output_type": "stream",
     "text": [
      "\t1.唐僧\n"
     ]
    }
   ],
   "source": [
    "print('\\t1.唐僧')"
   ]
  },
  {
   "cell_type": "code",
   "execution_count": 88,
   "metadata": {},
   "outputs": [
    {
     "name": "stdout",
     "output_type": "stream",
     "text": [
      "\t2.白骨精\n"
     ]
    }
   ],
   "source": [
    "print('\\t2.白骨精')"
   ]
  },
  {
   "cell_type": "code",
   "execution_count": 89,
   "metadata": {},
   "outputs": [],
   "source": [
    "# 游戏的身份选择"
   ]
  },
  {
   "cell_type": "code",
   "execution_count": 92,
   "metadata": {},
   "outputs": [
    {
     "name": "stdin",
     "output_type": "stream",
     "text": [
      "请选择[1-2]： 1\n"
     ]
    }
   ],
   "source": [
    "player_choose = input('请选择[1-2]：')"
   ]
  },
  {
   "cell_type": "code",
   "execution_count": 93,
   "metadata": {},
   "outputs": [
    {
     "name": "stdout",
     "output_type": "stream",
     "text": [
      "------------------------------------------------------------------\n"
     ]
    }
   ],
   "source": [
    "# 打印一条分割线\n",
    "print('-'*66)"
   ]
  },
  {
   "cell_type": "code",
   "execution_count": 94,
   "metadata": {},
   "outputs": [
    {
     "name": "stdout",
     "output_type": "stream",
     "text": [
      "你已经选择了1，你将以->唐僧<-的身份来进行游戏！\n"
     ]
    }
   ],
   "source": [
    "# 根据用户的选择来显示不同的提示信息\n",
    "if player_choose == '1':\n",
    "    # 选择1\n",
    "    print('你已经选择了1，你将以->唐僧<-的身份来进行游戏！')\n",
    "elif player_choose == '2':\n",
    "    # 选择2\n",
    "    print('你竟然选择了白骨精，太不要脸了，你将以->唐僧<-的身份来进行游戏！')\n",
    "else :\n",
    "    # 选择3\n",
    "    print('你的输入有误，系统将自动分配身份，你将以->唐僧<-的身份来进行游戏！')"
   ]
  },
  {
   "cell_type": "code",
   "execution_count": 95,
   "metadata": {},
   "outputs": [],
   "source": [
    "# 进入游戏\n",
    "\n",
    "# 创建变量，来保存玩家的生命值和攻击力\n",
    "player_life = 2 # 生命值"
   ]
  },
  {
   "cell_type": "code",
   "execution_count": 96,
   "metadata": {},
   "outputs": [],
   "source": [
    "player_attack = 2 # 攻击力"
   ]
  },
  {
   "cell_type": "code",
   "execution_count": 97,
   "metadata": {},
   "outputs": [],
   "source": [
    "# 创建一个变量，保存boss的生命值和攻击力\n",
    "boss_life = 10"
   ]
  },
  {
   "cell_type": "code",
   "execution_count": 98,
   "metadata": {},
   "outputs": [],
   "source": [
    "boss_attack = 10"
   ]
  },
  {
   "cell_type": "code",
   "execution_count": 99,
   "metadata": {},
   "outputs": [
    {
     "name": "stdout",
     "output_type": "stream",
     "text": [
      "------------------------------------------------------------------\n"
     ]
    }
   ],
   "source": [
    "# 打印一条分割线\n",
    "print('-'*66)"
   ]
  },
  {
   "cell_type": "code",
   "execution_count": 100,
   "metadata": {},
   "outputs": [
    {
     "name": "stdout",
     "output_type": "stream",
     "text": [
      "唐僧，你的生命值是 2 , 你的攻击力是 2\n"
     ]
    }
   ],
   "source": [
    "# 显示玩家的信息（攻击力、生命值）\n",
    "print(f'唐僧，你的生命值是 {player_life} , 你的攻击力是 {player_attack}')"
   ]
  },
  {
   "cell_type": "code",
   "execution_count": 101,
   "metadata": {},
   "outputs": [
    {
     "name": "stdout",
     "output_type": "stream",
     "text": [
      "------------------------------------------------------------------\n",
      "请选择你要进行的操作：\n",
      "\t1.练级\n",
      "\t2.打BOSS\n",
      "\t3.逃跑\n"
     ]
    },
    {
     "name": "stdin",
     "output_type": "stream",
     "text": [
      "请选择要做的操作[1-3]： 1\n"
     ]
    },
    {
     "name": "stdout",
     "output_type": "stream",
     "text": [
      "------------------------------------------------------------------\n",
      "恭喜你升级了！，你现在的生命值是 4 , 你的攻击力是 4\n",
      "------------------------------------------------------------------\n",
      "请选择你要进行的操作：\n",
      "\t1.练级\n",
      "\t2.打BOSS\n",
      "\t3.逃跑\n"
     ]
    },
    {
     "name": "stdin",
     "output_type": "stream",
     "text": [
      "请选择要做的操作[1-3]： 3\n"
     ]
    },
    {
     "name": "stdout",
     "output_type": "stream",
     "text": [
      "------------------------------------------------------------------\n",
      "->唐僧<-一扭头，撒腿就跑！GAME OVER\n"
     ]
    }
   ],
   "source": [
    "# 由于游戏选项是需要反复显示的，所以必须将其编写到一个循环中\n",
    "while True :\n",
    "    # 打印一条分割线\n",
    "    print('-'*66)\n",
    "    # 显示游戏选项，游戏正式开始\n",
    "    print('请选择你要进行的操作：')\n",
    "    print('\\t1.练级')\n",
    "    print('\\t2.打BOSS')\n",
    "    print('\\t3.逃跑')\n",
    "    game_choose = input('请选择要做的操作[1-3]：')\n",
    "\n",
    "    # 处理用户的选择\n",
    "    if game_choose == '1' :\n",
    "        # 增加玩家的生命值和攻击力\n",
    "        player_life += 2\n",
    "        player_attack += 2\n",
    "        # 显示最新的信息\n",
    "        # 打印一条分割线\n",
    "        print('-'*66)\n",
    "        # 显示玩家的信息（攻击力、生命值）\n",
    "        print(f'恭喜你升级了！，你现在的生命值是 {player_life} , 你的攻击力是 {player_attack}')\n",
    "    elif game_choose == '2' :\n",
    "        # 玩家攻击boss\n",
    "        # 减去boss的生命值，减去的生命值应该等于玩家的攻击力\n",
    "        boss_life -= player_attack \n",
    "\n",
    "        # 打印一条分割线\n",
    "        print('-'*66)\n",
    "        print('->唐僧<- 攻击了 ->白骨精<-')\n",
    "        # 检查boss是否死亡\n",
    "        if boss_life <= 0 :\n",
    "            # boss死亡，player胜利，游戏结束\n",
    "            print(f'->白骨精<-受到了 {player_attack} 点伤害，重伤不治死了，->唐僧<-赢得了胜利！')\n",
    "            # 游戏结束\n",
    "            break\n",
    "\n",
    "        # boss要反击玩家\n",
    "        # 减去玩家的生命值\n",
    "        player_life -= boss_attack \n",
    "        print(' ->白骨精<- 攻击了 ->唐僧<-')\n",
    "        # 检查玩家是否死亡\n",
    "        if player_life <= 0 :\n",
    "            # 玩家死亡\n",
    "            print(f'你受到了 {boss_attack} 点伤害，重伤不治死了！GAME OVER')\n",
    "            # 游戏结束\n",
    "            break\n",
    "    elif game_choose == '3' :\n",
    "        # 打印一条分割线\n",
    "        print('-'*66)\n",
    "        # 逃跑，退出游戏\n",
    "        print('->唐僧<-一扭头，撒腿就跑！GAME OVER')\n",
    "        break\n",
    "    else :\n",
    "        # 打印一条分割线\n",
    "        print('-'*66)\n",
    "        print('你的输入有误，请重新输入！')"
   ]
  },
  {
   "cell_type": "code",
   "execution_count": 102,
   "metadata": {},
   "outputs": [],
   "source": [
    "my_list = [] # 创建了一个空列表"
   ]
  },
  {
   "cell_type": "code",
   "execution_count": 103,
   "metadata": {},
   "outputs": [],
   "source": [
    "my_list = [10] # 创建一个只包含一个元素的列表"
   ]
  },
  {
   "cell_type": "code",
   "execution_count": 104,
   "metadata": {},
   "outputs": [],
   "source": [
    "my_list = [10,20,30,40,50] # 创建了一个保护有5个元素的列表"
   ]
  },
  {
   "cell_type": "code",
   "execution_count": 105,
   "metadata": {},
   "outputs": [],
   "source": [
    "my_list = [10,'hello',True,None,[1,2,3],print]"
   ]
  },
  {
   "cell_type": "code",
   "execution_count": 106,
   "metadata": {},
   "outputs": [],
   "source": [
    "my_list = [10,20,30,40,50]"
   ]
  },
  {
   "cell_type": "code",
   "execution_count": 107,
   "metadata": {},
   "outputs": [
    {
     "name": "stdout",
     "output_type": "stream",
     "text": [
      "5\n"
     ]
    }
   ],
   "source": [
    "print(len(my_list))"
   ]
  },
  {
   "cell_type": "code",
   "execution_count": 109,
   "metadata": {},
   "outputs": [],
   "source": [
    "stus = ['孙悟空','猪八戒','沙和尚','唐僧','蜘蛛精','白骨精']"
   ]
  },
  {
   "cell_type": "code",
   "execution_count": 110,
   "metadata": {},
   "outputs": [
    {
     "name": "stdout",
     "output_type": "stream",
     "text": [
      "['猪八戒', '沙和尚', '唐僧', '蜘蛛精', '白骨精']\n"
     ]
    }
   ],
   "source": [
    "print(stus[1:])"
   ]
  },
  {
   "cell_type": "code",
   "execution_count": null,
   "metadata": {},
   "outputs": [],
   "source": []
  },
  {
   "cell_type": "code",
   "execution_count": 111,
   "metadata": {},
   "outputs": [
    {
     "name": "stdout",
     "output_type": "stream",
     "text": [
      "['孙悟空', '猪八戒', '沙和尚']\n"
     ]
    }
   ],
   "source": [
    "print(stus[:3])"
   ]
  },
  {
   "cell_type": "code",
   "execution_count": 112,
   "metadata": {},
   "outputs": [
    {
     "name": "stdout",
     "output_type": "stream",
     "text": [
      "['孙悟空', '猪八戒', '沙和尚', '唐僧', '蜘蛛精', '白骨精']\n"
     ]
    }
   ],
   "source": [
    "print(stus[:])"
   ]
  },
  {
   "cell_type": "code",
   "execution_count": 113,
   "metadata": {},
   "outputs": [
    {
     "name": "stdout",
     "output_type": "stream",
     "text": [
      "['孙悟空', '猪八戒', '沙和尚', '唐僧', '蜘蛛精', '白骨精']\n"
     ]
    }
   ],
   "source": [
    "print(stus)"
   ]
  },
  {
   "cell_type": "code",
   "execution_count": 114,
   "metadata": {},
   "outputs": [
    {
     "name": "stdout",
     "output_type": "stream",
     "text": [
      "['孙悟空', '唐僧']\n"
     ]
    }
   ],
   "source": [
    "print(stus[0:5:3])"
   ]
  },
  {
   "cell_type": "code",
   "execution_count": 115,
   "metadata": {},
   "outputs": [
    {
     "name": "stdout",
     "output_type": "stream",
     "text": [
      "['白骨精', '蜘蛛精', '唐僧', '沙和尚', '猪八戒', '孙悟空']\n"
     ]
    }
   ],
   "source": [
    "print(stus[::-1])"
   ]
  },
  {
   "cell_type": "code",
   "execution_count": 116,
   "metadata": {},
   "outputs": [],
   "source": [
    "my_list = [1,2,3] + [4,5,6]"
   ]
  },
  {
   "cell_type": "code",
   "execution_count": 117,
   "metadata": {},
   "outputs": [],
   "source": [
    "my_list = [1,2,3] * 5"
   ]
  },
  {
   "cell_type": "code",
   "execution_count": 118,
   "metadata": {},
   "outputs": [],
   "source": [
    "stus = ['孙悟空','猪八戒','沙和尚','唐僧','蜘蛛精','白骨精','沙和尚','沙和尚']"
   ]
  },
  {
   "cell_type": "code",
   "execution_count": 119,
   "metadata": {},
   "outputs": [
    {
     "name": "stdout",
     "output_type": "stream",
     "text": [
      "True\n"
     ]
    }
   ],
   "source": [
    "print('牛魔王' not in stus)"
   ]
  },
  {
   "cell_type": "code",
   "execution_count": 120,
   "metadata": {},
   "outputs": [
    {
     "name": "stdout",
     "output_type": "stream",
     "text": [
      "False\n"
     ]
    }
   ],
   "source": [
    "print('牛魔王' in stus)"
   ]
  },
  {
   "cell_type": "code",
   "execution_count": 121,
   "metadata": {},
   "outputs": [],
   "source": [
    "arr = [10,1,2,5,100,77]"
   ]
  },
  {
   "cell_type": "code",
   "execution_count": 122,
   "metadata": {},
   "outputs": [
    {
     "name": "stdout",
     "output_type": "stream",
     "text": [
      "1 100\n"
     ]
    }
   ],
   "source": [
    "print(min(arr) , max(arr))"
   ]
  },
  {
   "cell_type": "code",
   "execution_count": 123,
   "metadata": {},
   "outputs": [
    {
     "name": "stdout",
     "output_type": "stream",
     "text": [
      "0\n"
     ]
    }
   ],
   "source": [
    "print(stus.count('牛魔王'))"
   ]
  },
  {
   "cell_type": "code",
   "execution_count": 124,
   "metadata": {},
   "outputs": [
    {
     "name": "stdout",
     "output_type": "stream",
     "text": [
      "2\n"
     ]
    }
   ],
   "source": [
    "print(stus.index('沙和尚'))"
   ]
  },
  {
   "cell_type": "code",
   "execution_count": 125,
   "metadata": {},
   "outputs": [
    {
     "name": "stdout",
     "output_type": "stream",
     "text": [
      "6\n"
     ]
    }
   ],
   "source": [
    "print(stus.index('沙和尚',3,7))"
   ]
  },
  {
   "cell_type": "code",
   "execution_count": 126,
   "metadata": {},
   "outputs": [
    {
     "name": "stdout",
     "output_type": "stream",
     "text": [
      "-33.977526017470794\n"
     ]
    }
   ],
   "source": [
    "print(-33.977526017470794)"
   ]
  },
  {
   "cell_type": "code",
   "execution_count": 127,
   "metadata": {},
   "outputs": [
    {
     "name": "stdout",
     "output_type": "stream",
     "text": [
      "-30.362638878690827\n"
     ]
    }
   ],
   "source": [
    "print(-30.362638878690827)"
   ]
  },
  {
   "cell_type": "code",
   "execution_count": 128,
   "metadata": {},
   "outputs": [
    {
     "name": "stdout",
     "output_type": "stream",
     "text": [
      "-76.81624769977202\n"
     ]
    }
   ],
   "source": [
    "print(-76.81624769977202)"
   ]
  },
  {
   "cell_type": "code",
   "execution_count": 129,
   "metadata": {},
   "outputs": [
    {
     "name": "stdout",
     "output_type": "stream",
     "text": [
      "-6.705773650326286\n"
     ]
    }
   ],
   "source": [
    "print(-6.705773650326286)"
   ]
  },
  {
   "cell_type": "code",
   "execution_count": 130,
   "metadata": {},
   "outputs": [
    {
     "name": "stdout",
     "output_type": "stream",
     "text": [
      "-81.73838923377632\n",
      "-74.36015112145927\n"
     ]
    }
   ],
   "source": [
    "print(-81.73838923377632)\n",
    "print(-74.36015112145927)"
   ]
  },
  {
   "cell_type": "code",
   "execution_count": 131,
   "metadata": {},
   "outputs": [
    {
     "name": "stdout",
     "output_type": "stream",
     "text": [
      "-15.378481899810403\n",
      "-73.12837609261479\n"
     ]
    }
   ],
   "source": [
    "print(-15.378481899810403)\n",
    "print(-73.12837609261479)"
   ]
  },
  {
   "cell_type": "code",
   "execution_count": 132,
   "metadata": {},
   "outputs": [
    {
     "name": "stdout",
     "output_type": "stream",
     "text": [
      "-88.00065979952826\n",
      "-6.110887031298107\n"
     ]
    }
   ],
   "source": [
    "print(-88.00065979952826)\n",
    "print(-6.110887031298107)"
   ]
  },
  {
   "cell_type": "code",
   "execution_count": 133,
   "metadata": {},
   "outputs": [
    {
     "name": "stdout",
     "output_type": "stream",
     "text": [
      "-54.768481639158026\n"
     ]
    }
   ],
   "source": [
    "print(-54.768481639158026)"
   ]
  },
  {
   "cell_type": "code",
   "execution_count": 134,
   "metadata": {},
   "outputs": [
    {
     "name": "stdout",
     "output_type": "stream",
     "text": [
      "-96.63326982583254\n",
      "-76.87627091823926\n"
     ]
    }
   ],
   "source": [
    "print(-96.63326982583254)\n",
    "print(-76.87627091823926)"
   ]
  },
  {
   "cell_type": "code",
   "execution_count": 135,
   "metadata": {},
   "outputs": [
    {
     "name": "stdout",
     "output_type": "stream",
     "text": [
      "-67.0920423466745\n",
      "-46.352453694177285\n"
     ]
    }
   ],
   "source": [
    "print(-67.0920423466745)\n",
    "print(-46.352453694177285)"
   ]
  },
  {
   "cell_type": "code",
   "execution_count": 136,
   "metadata": {},
   "outputs": [
    {
     "name": "stdout",
     "output_type": "stream",
     "text": [
      "-72.66607847181359\n",
      "-89.92264325736717\n"
     ]
    }
   ],
   "source": [
    "print(-72.66607847181359)\n",
    "print(-89.92264325736717)"
   ]
  },
  {
   "cell_type": "code",
   "execution_count": 137,
   "metadata": {},
   "outputs": [
    {
     "name": "stdout",
     "output_type": "stream",
     "text": [
      "-18.34435784910935\n",
      "-20.7356037788176\n"
     ]
    }
   ],
   "source": [
    "print(-18.34435784910935)\n",
    "print(-20.7356037788176)"
   ]
  },
  {
   "cell_type": "code",
   "execution_count": 138,
   "metadata": {},
   "outputs": [
    {
     "name": "stdout",
     "output_type": "stream",
     "text": [
      "-21.0694993662205\n",
      "-9.5183697813799\n"
     ]
    }
   ],
   "source": [
    "print(-21.0694993662205)\n",
    "print(-9.5183697813799)"
   ]
  },
  {
   "cell_type": "code",
   "execution_count": 139,
   "metadata": {},
   "outputs": [
    {
     "name": "stdout",
     "output_type": "stream",
     "text": [
      "-32.338320209861514\n"
     ]
    }
   ],
   "source": [
    "print(-32.338320209861514)"
   ]
  },
  {
   "cell_type": "code",
   "execution_count": 140,
   "metadata": {},
   "outputs": [
    {
     "name": "stdout",
     "output_type": "stream",
     "text": [
      "-10.812669952703757\n"
     ]
    }
   ],
   "source": [
    "print(-10.812669952703757)"
   ]
  },
  {
   "cell_type": "code",
   "execution_count": 141,
   "metadata": {},
   "outputs": [
    {
     "name": "stdout",
     "output_type": "stream",
     "text": [
      "-31.684917635557287\n"
     ]
    }
   ],
   "source": [
    "print(-31.684917635557287)"
   ]
  },
  {
   "cell_type": "code",
   "execution_count": 142,
   "metadata": {},
   "outputs": [
    {
     "name": "stdout",
     "output_type": "stream",
     "text": [
      "-48.00939257714566\n"
     ]
    }
   ],
   "source": [
    "print(-48.00939257714566)"
   ]
  },
  {
   "cell_type": "code",
   "execution_count": 143,
   "metadata": {},
   "outputs": [
    {
     "name": "stdout",
     "output_type": "stream",
     "text": [
      "-54.0679877198188\n"
     ]
    }
   ],
   "source": [
    "print(-54.0679877198188)"
   ]
  },
  {
   "cell_type": "code",
   "execution_count": 144,
   "metadata": {},
   "outputs": [
    {
     "name": "stdout",
     "output_type": "stream",
     "text": [
      "-4.720791796742474\n"
     ]
    }
   ],
   "source": [
    "print(-4.720791796742474)"
   ]
  },
  {
   "cell_type": "code",
   "execution_count": 145,
   "metadata": {},
   "outputs": [
    {
     "name": "stdout",
     "output_type": "stream",
     "text": [
      "-47.16871339212524\n"
     ]
    }
   ],
   "source": [
    "print(-47.16871339212524)"
   ]
  },
  {
   "cell_type": "code",
   "execution_count": 146,
   "metadata": {},
   "outputs": [
    {
     "name": "stdout",
     "output_type": "stream",
     "text": [
      "-27.63977017074796\n"
     ]
    }
   ],
   "source": [
    "print(-27.63977017074796)"
   ]
  },
  {
   "cell_type": "code",
   "execution_count": 147,
   "metadata": {},
   "outputs": [
    {
     "name": "stdout",
     "output_type": "stream",
     "text": [
      "-95.9807161654469\n"
     ]
    }
   ],
   "source": [
    "print(-95.9807161654469)"
   ]
  },
  {
   "cell_type": "code",
   "execution_count": 148,
   "metadata": {},
   "outputs": [
    {
     "name": "stdout",
     "output_type": "stream",
     "text": [
      "-93.63052159063722\n"
     ]
    }
   ],
   "source": [
    "print(-93.63052159063722)"
   ]
  },
  {
   "cell_type": "code",
   "execution_count": 149,
   "metadata": {},
   "outputs": [
    {
     "name": "stdout",
     "output_type": "stream",
     "text": [
      "-23.02892401619926\n"
     ]
    }
   ],
   "source": [
    "print(-23.02892401619926)"
   ]
  },
  {
   "cell_type": "code",
   "execution_count": 150,
   "metadata": {},
   "outputs": [
    {
     "name": "stdout",
     "output_type": "stream",
     "text": [
      "-28.498117424911797\n"
     ]
    }
   ],
   "source": [
    "print(-28.498117424911797)"
   ]
  },
  {
   "cell_type": "code",
   "execution_count": 151,
   "metadata": {},
   "outputs": [
    {
     "name": "stdout",
     "output_type": "stream",
     "text": [
      "-69.67418710291972\n"
     ]
    }
   ],
   "source": [
    "print(-69.67418710291972)"
   ]
  },
  {
   "cell_type": "code",
   "execution_count": 152,
   "metadata": {},
   "outputs": [
    {
     "name": "stdout",
     "output_type": "stream",
     "text": [
      "-14.000412723920864\n"
     ]
    }
   ],
   "source": [
    "print(-14.000412723920864)"
   ]
  },
  {
   "cell_type": "code",
   "execution_count": 153,
   "metadata": {},
   "outputs": [
    {
     "name": "stdout",
     "output_type": "stream",
     "text": [
      "-57.83422145926834\n"
     ]
    }
   ],
   "source": [
    "print(-57.83422145926834)"
   ]
  },
  {
   "cell_type": "code",
   "execution_count": 154,
   "metadata": {},
   "outputs": [
    {
     "name": "stdout",
     "output_type": "stream",
     "text": [
      "-18.72003897531127\n"
     ]
    }
   ],
   "source": [
    "print(-18.72003897531127)"
   ]
  },
  {
   "cell_type": "code",
   "execution_count": 155,
   "metadata": {},
   "outputs": [
    {
     "name": "stdout",
     "output_type": "stream",
     "text": [
      "-23.195085288063833\n"
     ]
    }
   ],
   "source": [
    "print(-23.195085288063833)"
   ]
  },
  {
   "cell_type": "code",
   "execution_count": 156,
   "metadata": {},
   "outputs": [
    {
     "name": "stdout",
     "output_type": "stream",
     "text": [
      "-3.3673715211927524\n"
     ]
    }
   ],
   "source": [
    "print(-3.3673715211927524)"
   ]
  },
  {
   "cell_type": "code",
   "execution_count": 157,
   "metadata": {},
   "outputs": [
    {
     "name": "stdout",
     "output_type": "stream",
     "text": [
      "-83.9889291348646\n"
     ]
    }
   ],
   "source": [
    "print(-83.9889291348646)"
   ]
  },
  {
   "cell_type": "code",
   "execution_count": 158,
   "metadata": {},
   "outputs": [
    {
     "name": "stdout",
     "output_type": "stream",
     "text": [
      "-23.097738532824962\n"
     ]
    }
   ],
   "source": [
    "print(-23.097738532824962)"
   ]
  },
  {
   "cell_type": "code",
   "execution_count": 159,
   "metadata": {},
   "outputs": [
    {
     "name": "stdout",
     "output_type": "stream",
     "text": [
      "-8.450074580316125\n"
     ]
    }
   ],
   "source": [
    "print(-8.450074580316125)"
   ]
  },
  {
   "cell_type": "code",
   "execution_count": 160,
   "metadata": {},
   "outputs": [
    {
     "name": "stdout",
     "output_type": "stream",
     "text": [
      "-48.140009116554616\n"
     ]
    }
   ],
   "source": [
    "print(-48.140009116554616)"
   ]
  },
  {
   "cell_type": "code",
   "execution_count": 161,
   "metadata": {},
   "outputs": [
    {
     "name": "stdout",
     "output_type": "stream",
     "text": [
      "-13.850544611176673\n"
     ]
    }
   ],
   "source": [
    "print(-13.850544611176673)"
   ]
  },
  {
   "cell_type": "code",
   "execution_count": 162,
   "metadata": {},
   "outputs": [
    {
     "name": "stdout",
     "output_type": "stream",
     "text": [
      "-70.6329066198226\n"
     ]
    }
   ],
   "source": [
    "print(-70.6329066198226)"
   ]
  },
  {
   "cell_type": "code",
   "execution_count": 163,
   "metadata": {},
   "outputs": [
    {
     "name": "stdout",
     "output_type": "stream",
     "text": [
      "-37.08228902109346\n"
     ]
    }
   ],
   "source": [
    "print(-37.08228902109346)"
   ]
  },
  {
   "cell_type": "code",
   "execution_count": 164,
   "metadata": {},
   "outputs": [
    {
     "name": "stdout",
     "output_type": "stream",
     "text": [
      "-25.458567929643326\n"
     ]
    }
   ],
   "source": [
    "print(-25.458567929643326)"
   ]
  },
  {
   "cell_type": "code",
   "execution_count": 165,
   "metadata": {},
   "outputs": [
    {
     "name": "stdout",
     "output_type": "stream",
     "text": [
      "-52.780451047538094\n"
     ]
    }
   ],
   "source": [
    "print(-52.780451047538094)"
   ]
  },
  {
   "cell_type": "code",
   "execution_count": 166,
   "metadata": {},
   "outputs": [
    {
     "name": "stdout",
     "output_type": "stream",
     "text": [
      "-67.29849192559914\n"
     ]
    }
   ],
   "source": [
    "print(-67.29849192559914)"
   ]
  },
  {
   "cell_type": "code",
   "execution_count": 167,
   "metadata": {},
   "outputs": [
    {
     "name": "stdout",
     "output_type": "stream",
     "text": [
      "-74.92228645926176\n"
     ]
    }
   ],
   "source": [
    "print(-74.92228645926176)"
   ]
  },
  {
   "cell_type": "code",
   "execution_count": 168,
   "metadata": {},
   "outputs": [
    {
     "name": "stdout",
     "output_type": "stream",
     "text": [
      "-85.14222916120475\n"
     ]
    }
   ],
   "source": [
    "print(-85.14222916120475)"
   ]
  },
  {
   "cell_type": "code",
   "execution_count": 169,
   "metadata": {},
   "outputs": [
    {
     "name": "stdout",
     "output_type": "stream",
     "text": [
      "-51.33591444976814\n"
     ]
    }
   ],
   "source": [
    "print(-51.33591444976814)"
   ]
  },
  {
   "cell_type": "code",
   "execution_count": 170,
   "metadata": {},
   "outputs": [
    {
     "name": "stdout",
     "output_type": "stream",
     "text": [
      "-58.25243095573326\n"
     ]
    }
   ],
   "source": [
    "print(-58.25243095573326)"
   ]
  },
  {
   "cell_type": "code",
   "execution_count": 171,
   "metadata": {},
   "outputs": [
    {
     "name": "stdout",
     "output_type": "stream",
     "text": [
      "-55.928290794724155\n"
     ]
    }
   ],
   "source": [
    "print(-55.928290794724155)"
   ]
  },
  {
   "cell_type": "code",
   "execution_count": 172,
   "metadata": {},
   "outputs": [
    {
     "name": "stdout",
     "output_type": "stream",
     "text": [
      "-17.390838783143646\n"
     ]
    }
   ],
   "source": [
    "print(-17.390838783143646)"
   ]
  },
  {
   "cell_type": "code",
   "execution_count": 173,
   "metadata": {},
   "outputs": [
    {
     "name": "stdout",
     "output_type": "stream",
     "text": [
      "-78.43818195378147\n"
     ]
    }
   ],
   "source": [
    "print(-78.43818195378147)"
   ]
  },
  {
   "cell_type": "code",
   "execution_count": 174,
   "metadata": {},
   "outputs": [
    {
     "name": "stdout",
     "output_type": "stream",
     "text": [
      "-50.89525614925334\n"
     ]
    }
   ],
   "source": [
    "print(-50.89525614925334)"
   ]
  },
  {
   "cell_type": "code",
   "execution_count": 175,
   "metadata": {},
   "outputs": [
    {
     "name": "stdout",
     "output_type": "stream",
     "text": [
      "-88.01316793864434\n"
     ]
    }
   ],
   "source": [
    "print(-88.01316793864434)"
   ]
  },
  {
   "cell_type": "code",
   "execution_count": 207,
   "metadata": {},
   "outputs": [
    {
     "name": "stdout",
     "output_type": "stream",
     "text": [
      "-60.11310360732944\n"
     ]
    }
   ],
   "source": [
    "print(-60.11310360732944)"
   ]
  },
  {
   "cell_type": "code",
   "execution_count": 209,
   "metadata": {},
   "outputs": [
    {
     "name": "stdout",
     "output_type": "stream",
     "text": [
      "-10.351642330802413\n"
     ]
    }
   ],
   "source": [
    "print(-10.351642330802413)"
   ]
  },
  {
   "cell_type": "code",
   "execution_count": 210,
   "metadata": {},
   "outputs": [
    {
     "name": "stdout",
     "output_type": "stream",
     "text": [
      "-62.89003738905043\n"
     ]
    }
   ],
   "source": [
    "print(-62.89003738905043)"
   ]
  },
  {
   "cell_type": "code",
   "execution_count": 211,
   "metadata": {},
   "outputs": [
    {
     "name": "stdout",
     "output_type": "stream",
     "text": [
      "-6.772171317620312\n"
     ]
    }
   ],
   "source": [
    "print(-6.772171317620312)"
   ]
  },
  {
   "cell_type": "code",
   "execution_count": 212,
   "metadata": {},
   "outputs": [
    {
     "name": "stdout",
     "output_type": "stream",
     "text": [
      "-11.697932961485636\n"
     ]
    }
   ],
   "source": [
    "print(-11.697932961485636)"
   ]
  },
  {
   "cell_type": "code",
   "execution_count": 213,
   "metadata": {},
   "outputs": [
    {
     "name": "stdout",
     "output_type": "stream",
     "text": [
      "-87.40826660179994\n"
     ]
    }
   ],
   "source": [
    "print(-87.40826660179994)"
   ]
  },
  {
   "cell_type": "code",
   "execution_count": 214,
   "metadata": {},
   "outputs": [
    {
     "name": "stdout",
     "output_type": "stream",
     "text": [
      "-34.309130989326285\n"
     ]
    }
   ],
   "source": [
    "print(-34.309130989326285)"
   ]
  },
  {
   "cell_type": "code",
   "execution_count": 215,
   "metadata": {},
   "outputs": [
    {
     "name": "stdout",
     "output_type": "stream",
     "text": [
      "-47.73227623692041\n"
     ]
    }
   ],
   "source": [
    "print(-47.73227623692041)"
   ]
  },
  {
   "cell_type": "code",
   "execution_count": 216,
   "metadata": {},
   "outputs": [
    {
     "name": "stdout",
     "output_type": "stream",
     "text": [
      "-80.72326084752743\n"
     ]
    }
   ],
   "source": [
    "print(-80.72326084752743)"
   ]
  },
  {
   "cell_type": "code",
   "execution_count": 217,
   "metadata": {},
   "outputs": [
    {
     "name": "stdout",
     "output_type": "stream",
     "text": [
      "-77.06993192868092\n"
     ]
    }
   ],
   "source": [
    "print(-77.06993192868092)"
   ]
  },
  {
   "cell_type": "code",
   "execution_count": 218,
   "metadata": {},
   "outputs": [
    {
     "name": "stdout",
     "output_type": "stream",
     "text": [
      "-96.005234641311\n"
     ]
    }
   ],
   "source": [
    "print(-96.005234641311)"
   ]
  },
  {
   "cell_type": "code",
   "execution_count": 219,
   "metadata": {},
   "outputs": [
    {
     "name": "stdout",
     "output_type": "stream",
     "text": [
      "-72.22410189015615\n"
     ]
    }
   ],
   "source": [
    "print(-72.22410189015615)"
   ]
  },
  {
   "cell_type": "code",
   "execution_count": 220,
   "metadata": {},
   "outputs": [
    {
     "name": "stdout",
     "output_type": "stream",
     "text": [
      "-76.00989718315215\n"
     ]
    }
   ],
   "source": [
    "print(-76.00989718315215)"
   ]
  },
  {
   "cell_type": "code",
   "execution_count": 221,
   "metadata": {},
   "outputs": [
    {
     "name": "stdout",
     "output_type": "stream",
     "text": [
      "-3.9917481266417476\n"
     ]
    }
   ],
   "source": [
    "print(-3.9917481266417476)"
   ]
  },
  {
   "cell_type": "code",
   "execution_count": 222,
   "metadata": {},
   "outputs": [
    {
     "name": "stdout",
     "output_type": "stream",
     "text": [
      "-13.83179418646816\n"
     ]
    }
   ],
   "source": [
    "print(-13.83179418646816)"
   ]
  },
  {
   "cell_type": "code",
   "execution_count": 223,
   "metadata": {},
   "outputs": [
    {
     "name": "stdout",
     "output_type": "stream",
     "text": [
      "-6.438841612357404\n"
     ]
    }
   ],
   "source": [
    "print(-6.438841612357404)"
   ]
  },
  {
   "cell_type": "code",
   "execution_count": 224,
   "metadata": {},
   "outputs": [
    {
     "name": "stdout",
     "output_type": "stream",
     "text": [
      "-28.911538131884296\n"
     ]
    }
   ],
   "source": [
    "print(-28.911538131884296)"
   ]
  },
  {
   "cell_type": "code",
   "execution_count": 225,
   "metadata": {},
   "outputs": [
    {
     "name": "stdout",
     "output_type": "stream",
     "text": [
      "-1.033874566299764\n"
     ]
    }
   ],
   "source": [
    "print(-1.033874566299764)"
   ]
  },
  {
   "cell_type": "code",
   "execution_count": 226,
   "metadata": {},
   "outputs": [
    {
     "name": "stdout",
     "output_type": "stream",
     "text": [
      "-70.99631997406905\n"
     ]
    }
   ],
   "source": [
    "print(-70.99631997406905)"
   ]
  },
  {
   "cell_type": "code",
   "execution_count": 227,
   "metadata": {},
   "outputs": [
    {
     "name": "stdout",
     "output_type": "stream",
     "text": [
      "-13.896865740012675\n"
     ]
    }
   ],
   "source": [
    "print(-13.896865740012675)"
   ]
  },
  {
   "cell_type": "code",
   "execution_count": 228,
   "metadata": {},
   "outputs": [
    {
     "name": "stdout",
     "output_type": "stream",
     "text": [
      "-13.870377990166837\n"
     ]
    }
   ],
   "source": [
    "print(-13.870377990166837)"
   ]
  },
  {
   "cell_type": "code",
   "execution_count": 229,
   "metadata": {},
   "outputs": [
    {
     "name": "stdout",
     "output_type": "stream",
     "text": [
      "-9.219767884516338\n"
     ]
    }
   ],
   "source": [
    "print(-9.219767884516338)"
   ]
  },
  {
   "cell_type": "code",
   "execution_count": 230,
   "metadata": {},
   "outputs": [
    {
     "name": "stdout",
     "output_type": "stream",
     "text": [
      "-7.435932137502254\n"
     ]
    }
   ],
   "source": [
    "print(-7.435932137502254)"
   ]
  },
  {
   "cell_type": "code",
   "execution_count": 231,
   "metadata": {},
   "outputs": [
    {
     "name": "stdout",
     "output_type": "stream",
     "text": [
      "-75.36378736944526\n"
     ]
    }
   ],
   "source": [
    "print(-75.36378736944526)"
   ]
  },
  {
   "cell_type": "code",
   "execution_count": 232,
   "metadata": {},
   "outputs": [
    {
     "name": "stdout",
     "output_type": "stream",
     "text": [
      "-13.765988729535383\n"
     ]
    }
   ],
   "source": [
    "print(-13.765988729535383)"
   ]
  },
  {
   "cell_type": "code",
   "execution_count": 233,
   "metadata": {},
   "outputs": [
    {
     "name": "stdout",
     "output_type": "stream",
     "text": [
      "-87.70180269939185\n"
     ]
    }
   ],
   "source": [
    "print(-87.70180269939185)"
   ]
  },
  {
   "cell_type": "code",
   "execution_count": 234,
   "metadata": {},
   "outputs": [
    {
     "name": "stdout",
     "output_type": "stream",
     "text": [
      "-41.45113929763402\n"
     ]
    }
   ],
   "source": [
    "print(-41.45113929763402)"
   ]
  },
  {
   "cell_type": "code",
   "execution_count": 235,
   "metadata": {},
   "outputs": [
    {
     "name": "stdout",
     "output_type": "stream",
     "text": [
      "-8.548159601700256\n"
     ]
    }
   ],
   "source": [
    "print(-8.548159601700256)"
   ]
  },
  {
   "cell_type": "code",
   "execution_count": 236,
   "metadata": {},
   "outputs": [
    {
     "name": "stdout",
     "output_type": "stream",
     "text": [
      "-37.74358901910081\n"
     ]
    }
   ],
   "source": [
    "print(-37.74358901910081)"
   ]
  },
  {
   "cell_type": "code",
   "execution_count": 237,
   "metadata": {},
   "outputs": [
    {
     "name": "stdout",
     "output_type": "stream",
     "text": [
      "-58.90146794714713\n"
     ]
    }
   ],
   "source": [
    "print(-58.90146794714713)"
   ]
  },
  {
   "cell_type": "code",
   "execution_count": null,
   "metadata": {},
   "outputs": [],
   "source": []
  },
  {
   "cell_type": "code",
   "execution_count": null,
   "metadata": {},
   "outputs": [],
   "source": []
  },
  {
   "cell_type": "code",
   "execution_count": null,
   "metadata": {},
   "outputs": [],
   "source": []
  }
 ],
 "metadata": {
  "kernelspec": {
   "display_name": "Python 3",
   "language": "python",
   "name": "python3"
  },
  "language_info": {
   "codemirror_mode": {
    "name": "ipython",
    "version": 3
   },
   "file_extension": ".py",
   "mimetype": "text/x-python",
   "name": "python",
   "nbconvert_exporter": "python",
   "pygments_lexer": "ipython3",
   "version": "3.8.3"
  }
 },
 "nbformat": 4,
 "nbformat_minor": 4
}
