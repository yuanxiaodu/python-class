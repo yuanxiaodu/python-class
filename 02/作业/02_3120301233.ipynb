{
 "cells": [
  {
   "cell_type": "code",
   "execution_count": 2,
   "metadata": {},
   "outputs": [
    {
     "name": "stdout",
     "output_type": "stream",
     "text": [
      "<_io.TextIOWrapper name='name1.txt' mode='w' encoding='cp936'>\n"
     ]
    }
   ],
   "source": [
    "filename='name1.txt'\n",
    "with open(filename,'w') as file_name:\n",
    "    file_name.write('I love python!\\n')\n",
    "    file_name.write('Life is short,you need python!')\n",
    "    print(file_name)\n",
    "    "
   ]
  },
  {
   "cell_type": "code",
   "execution_count": 3,
   "metadata": {},
   "outputs": [
    {
     "ename": "ZeroDivisionError",
     "evalue": "division by zero",
     "output_type": "error",
     "traceback": [
      "\u001b[1;31m---------------------------------------------------------------------------\u001b[0m",
      "\u001b[1;31mZeroDivisionError\u001b[0m                         Traceback (most recent call last)",
      "\u001b[1;32m<ipython-input-3-fad870a50e27>\u001b[0m in \u001b[0;36m<module>\u001b[1;34m\u001b[0m\n\u001b[1;32m----> 1\u001b[1;33m \u001b[0mprint\u001b[0m\u001b[1;33m(\u001b[0m\u001b[1;36m5\u001b[0m\u001b[1;33m/\u001b[0m\u001b[1;36m0\u001b[0m\u001b[1;33m)\u001b[0m\u001b[1;33m\u001b[0m\u001b[1;33m\u001b[0m\u001b[0m\n\u001b[0m",
      "\u001b[1;31mZeroDivisionError\u001b[0m: division by zero"
     ]
    }
   ],
   "source": [
    "print(5/0)"
   ]
  },
  {
   "cell_type": "code",
   "execution_count": 8,
   "metadata": {},
   "outputs": [
    {
     "name": "stdout",
     "output_type": "stream",
     "text": [
      "Please give me a number,I will divide it!\n",
      "Enter q to quit\n"
     ]
    },
    {
     "name": "stdin",
     "output_type": "stream",
     "text": [
      "Tell me one number as molecule: 5\n",
      "Anthor number as denominator: 6\n"
     ]
    },
    {
     "name": "stdout",
     "output_type": "stream",
     "text": [
      "0.8333333333333334\n"
     ]
    },
    {
     "name": "stdin",
     "output_type": "stream",
     "text": [
      "Tell me one number as molecule: 9\n",
      "Anthor number as denominator: 2\n"
     ]
    },
    {
     "name": "stdout",
     "output_type": "stream",
     "text": [
      "4.5\n"
     ]
    },
    {
     "name": "stdin",
     "output_type": "stream",
     "text": [
      "Tell me one number as molecule: 1\n",
      "Anthor number as denominator: 0\n"
     ]
    },
    {
     "name": "stdout",
     "output_type": "stream",
     "text": [
      "You cant enter zero as denominator!\n"
     ]
    },
    {
     "name": "stdin",
     "output_type": "stream",
     "text": [
      "Tell me one number as molecule: d\n",
      "Anthor number as denominator: 5\n"
     ]
    },
    {
     "ename": "ValueError",
     "evalue": "invalid literal for int() with base 10: 'd'",
     "output_type": "error",
     "traceback": [
      "\u001b[1;31m---------------------------------------------------------------------------\u001b[0m",
      "\u001b[1;31mValueError\u001b[0m                                Traceback (most recent call last)",
      "\u001b[1;32m<ipython-input-8-4b569875c650>\u001b[0m in \u001b[0;36m<module>\u001b[1;34m\u001b[0m\n\u001b[0;32m      7\u001b[0m     \u001b[0mnum2\u001b[0m\u001b[1;33m=\u001b[0m\u001b[0minput\u001b[0m\u001b[1;33m(\u001b[0m\u001b[1;34m'Anthor number as denominator:'\u001b[0m\u001b[1;33m)\u001b[0m\u001b[1;33m\u001b[0m\u001b[1;33m\u001b[0m\u001b[0m\n\u001b[0;32m      8\u001b[0m     \u001b[1;32mtry\u001b[0m\u001b[1;33m:\u001b[0m\u001b[1;33m\u001b[0m\u001b[1;33m\u001b[0m\u001b[0m\n\u001b[1;32m----> 9\u001b[1;33m         \u001b[0manwser\u001b[0m\u001b[1;33m=\u001b[0m\u001b[0mint\u001b[0m\u001b[1;33m(\u001b[0m\u001b[0mnum1\u001b[0m\u001b[1;33m)\u001b[0m\u001b[1;33m/\u001b[0m\u001b[0mint\u001b[0m\u001b[1;33m(\u001b[0m\u001b[0mnum2\u001b[0m\u001b[1;33m)\u001b[0m\u001b[1;33m\u001b[0m\u001b[1;33m\u001b[0m\u001b[0m\n\u001b[0m\u001b[0;32m     10\u001b[0m     \u001b[1;32mexcept\u001b[0m \u001b[0mZeroDivisionError\u001b[0m\u001b[1;33m:\u001b[0m\u001b[1;33m\u001b[0m\u001b[1;33m\u001b[0m\u001b[0m\n\u001b[0;32m     11\u001b[0m         \u001b[0mprint\u001b[0m\u001b[1;33m(\u001b[0m\u001b[1;34m'You cant enter zero as denominator!'\u001b[0m\u001b[1;33m)\u001b[0m\u001b[1;33m\u001b[0m\u001b[1;33m\u001b[0m\u001b[0m\n",
      "\u001b[1;31mValueError\u001b[0m: invalid literal for int() with base 10: 'd'"
     ]
    }
   ],
   "source": [
    "print('Please give me a number,I will divide it!')\n",
    "print('Enter q to quit')\n",
    "while True:\n",
    "    num1=input('Tell me one number as molecule:')\n",
    "    if num1=='q':\n",
    "        break\n",
    "    num2=input('Anthor number as denominator:')\n",
    "    try:\n",
    "        anwser=int(num1)/int(num2)\n",
    "    except ZeroDivisionError:\n",
    "        print('You cant enter zero as denominator!')\n",
    "    else:\n",
    "        print(anwser)\n",
    "        "
   ]
  },
  {
   "cell_type": "code",
   "execution_count": 16,
   "metadata": {},
   "outputs": [
    {
     "data": {
      "text/plain": [
       "5"
      ]
     },
     "execution_count": 16,
     "metadata": {},
     "output_type": "execute_result"
    }
   ],
   "source": [
    "import json\n",
    "nums=[1,3,5,7,8,11,13]\n",
    "filename='nums.json'\n",
    "with open(filename,'w') as odd:\n",
    "    json.dump(nums,odd)\n",
    "nums[2]"
   ]
  },
  {
   "cell_type": "code",
   "execution_count": 13,
   "metadata": {},
   "outputs": [
    {
     "ename": "SyntaxError",
     "evalue": "invalid syntax (<ipython-input-13-359d33ae81bf>, line 1)",
     "output_type": "error",
     "traceback": [
      "\u001b[1;36m  File \u001b[1;32m\"<ipython-input-13-359d33ae81bf>\"\u001b[1;36m, line \u001b[1;32m1\u001b[0m\n\u001b[1;33m    a=range(1:2:11)\u001b[0m\n\u001b[1;37m             ^\u001b[0m\n\u001b[1;31mSyntaxError\u001b[0m\u001b[1;31m:\u001b[0m invalid syntax\n"
     ]
    }
   ],
   "source": [
    "a=range(1:2:11)\n",
    "print(a)"
   ]
  },
  {
   "cell_type": "code",
   "execution_count": 17,
   "metadata": {},
   "outputs": [
    {
     "data": {
      "text/plain": [
       "range(0, 2)"
      ]
     },
     "execution_count": 17,
     "metadata": {},
     "output_type": "execute_result"
    }
   ],
   "source": [
    "range(2)"
   ]
  },
  {
   "cell_type": "code",
   "execution_count": 21,
   "metadata": {},
   "outputs": [
    {
     "name": "stdout",
     "output_type": "stream",
     "text": [
      "[1, 3, 5, 7, 8, 11, 13]\n"
     ]
    }
   ],
   "source": [
    "import json\n",
    "filename='nums.json'\n",
    "with open(filename) as odd:\n",
    "    nums3=json.load(odd)\n",
    "print(nums3)"
   ]
  },
  {
   "cell_type": "code",
   "execution_count": 2,
   "metadata": {},
   "outputs": [
    {
     "ename": "NameError",
     "evalue": "name 'Frame' is not defined",
     "output_type": "error",
     "traceback": [
      "\u001b[1;31m---------------------------------------------------------------------------\u001b[0m",
      "\u001b[1;31mNameError\u001b[0m                                 Traceback (most recent call last)",
      "\u001b[1;32m<ipython-input-2-43c4d8623200>\u001b[0m in \u001b[0;36m<module>\u001b[1;34m\u001b[0m\n\u001b[0;32m     57\u001b[0m \u001b[1;33m\u001b[0m\u001b[0m\n\u001b[0;32m     58\u001b[0m \u001b[1;33m\u001b[0m\u001b[0m\n\u001b[1;32m---> 59\u001b[1;33m \u001b[1;32mclass\u001b[0m \u001b[0mMines\u001b[0m\u001b[1;33m(\u001b[0m\u001b[0mFrame\u001b[0m\u001b[1;33m)\u001b[0m\u001b[1;33m:\u001b[0m\u001b[1;33m\u001b[0m\u001b[1;33m\u001b[0m\u001b[0m\n\u001b[0m\u001b[0;32m     60\u001b[0m    \u001b[1;32mdef\u001b[0m \u001b[0m__init__\u001b[0m\u001b[1;33m(\u001b[0m\u001b[0mself\u001b[0m\u001b[1;33m,\u001b[0m \u001b[0mm\u001b[0m\u001b[1;33m,\u001b[0m \u001b[0mmaster\u001b[0m\u001b[1;33m=\u001b[0m\u001b[1;32mNone\u001b[0m\u001b[1;33m)\u001b[0m\u001b[1;33m:\u001b[0m\u001b[1;33m\u001b[0m\u001b[1;33m\u001b[0m\u001b[0m\n\u001b[0;32m     61\u001b[0m        \u001b[0mFrame\u001b[0m\u001b[1;33m.\u001b[0m\u001b[0m__init__\u001b[0m\u001b[1;33m(\u001b[0m\u001b[0mself\u001b[0m\u001b[1;33m,\u001b[0m \u001b[0mmaster\u001b[0m\u001b[1;33m)\u001b[0m\u001b[1;33m\u001b[0m\u001b[1;33m\u001b[0m\u001b[0m\n",
      "\u001b[1;31mNameError\u001b[0m: name 'Frame' is not defined"
     ]
    }
   ],
   "source": [
    " class Model:\n",
    "    \"\"\"\n",
    "    核心数据类，维护一个矩阵\n",
    "    \"\"\"\n",
    "\n",
    "    def __init__(self, row, col):\n",
    "        self.width = col\n",
    "        self.height = row\n",
    "        self.items = [[0 for c in range(col)] for r in range(row)]\n",
    "\n",
    "    def setItemValue(self, r, c, value):\n",
    "        \"\"\"\n",
    "        设置某个位置的值为value\n",
    "        \"\"\"\n",
    "        self.items[r][c] = value;\n",
    "\n",
    "    def checkValue(self, r, c, value):\n",
    "        \"\"\"\n",
    "        检测某个位置的值是否为value\n",
    "        \"\"\"\n",
    "        if self.items[r][c] != -1 and self.items[r][c] == value:\n",
    "            self.items[r][c] = -1  # 已经检测过\n",
    "            return True\n",
    "        else:\n",
    "            return False\n",
    "\n",
    "    def countValue(self, r, c, value):\n",
    "        \"\"\"\n",
    "        统计某个位置周围8个位置中，值为value的个数\n",
    "        \"\"\"\n",
    "        count = 0\n",
    "        if r - 1 >= 0 and c - 1 >= 0:\n",
    "            if self.items[r - 1][c - 1] == 1: \n",
    "                count += 1\n",
    "        if r - 1 >= 0 and c >= 0:\n",
    "            if self.items[r - 1][c] == 1: \n",
    "                count += 1\n",
    "        if r - 1 >= 0 and c + 1 <= self.width - 1:\n",
    "            if self.items[r - 1][c + 1] == 1: \n",
    "                count += 1\n",
    "        if c - 1 >= 0:\n",
    "            if self.items[r][c - 1] == 1: \n",
    "                count += 1\n",
    "        if c + 1 <= self.width - 1:\n",
    "            if self.items[r][c + 1] == 1:\n",
    "                count += 1\n",
    "        if r + 1 <= self.height - 1 and c - 1 >= 0:\n",
    "            if self.items[r + 1][c - 1] == 1:\n",
    "                count += 1\n",
    "        if r + 1 <= self.height - 1:\n",
    "            if self.items[r + 1][c] == 1:\n",
    "                count += 1\n",
    "        if r + 1 <= self.height - 1 and c + 1 <= self.width - 1:\n",
    "            if self.items[r + 1][c + 1] == 1: \n",
    "                count += 1\n",
    "        return count\n",
    "\n",
    "\n",
    "class Mines(Frame):\n",
    "    def __init__(self, m, master=None):\n",
    "        Frame.__init__(self, master)\n",
    "        self.model = m\n",
    "        self.initmine()\n",
    "        self.grid()\n",
    "        self.createWidgets()\n",
    "\n",
    "    def createWidgets(self):\n",
    "        # top=self.winfo_toplevel()\n",
    "        # top.rowconfigure(self.model.height*2,weight=1)\n",
    "        # top.columnconfigure(self.model.width*2,weight=1)\n",
    "        self.rowconfigure(self.model.height, weight=1)\n",
    "        self.columnconfigure(self.model.width, weight=1)\n",
    "        self.buttongroups = [[Button(self, height=1, width=2) for i in range(self.model.width)]\n",
    "                             for j in range(self.model.height)]\n",
    "        for r in range(self.model.width):\n",
    "            for c in range(self.model.height):\n",
    "                self.buttongroups[r][c].grid(row=r, column=c)\n",
    "                self.buttongroups[r][c].bind('<Button-1>', self.clickevent)\n",
    "                self.buttongroups[r][c]['padx'] = r\n",
    "                self.buttongroups[r][c]['pady'] = c\n",
    "\n",
    "    def showall(self):\n",
    "        for r in range(model.height):\n",
    "            for c in range(model.width):\n",
    "                self.showone(r, c)\n",
    "\n",
    "    def showone(self, r, c):\n",
    "        if model.checkValue(r, c, 0):\n",
    "            self.buttongroups[r][c]['text'] = model.countValue(r, c, 1)\n",
    "        else:\n",
    "            self.buttongroups[r][c]['text'] = 'Mines'\n",
    "\n",
    "    def recureshow(self, r, c):\n",
    "        if 0 <= r <= self.model.height - 1 and 0 <= c <= self.model.width - 1:\n",
    "            if model.checkValue(r, c, 0) and model.countValue(r, c, 1) == 0:\n",
    "                self.buttongroups[r][c]['text'] = ''\n",
    "                self.recureshow(r - 1, c - 1)\n",
    "                self.recureshow(r - 1, c)\n",
    "                self.recureshow(r - 1, c + 1)\n",
    "                self.recureshow(r, c - 1)\n",
    "                self.recureshow(r, c + 1)\n",
    "                self.recureshow(r + 1, c - 1)\n",
    "                self.recureshow(r + 1, c)\n",
    "                self.recureshow(r + 1, c + 1)\n",
    "            elif model.countValue(r, c, 1) != 0:\n",
    "                self.buttongroups[r][c]['text'] = model.countValue(r, c, 1)\n",
    "        else:\n",
    "            pass\n",
    "\n",
    "    def clickevent(self, event):\n",
    "        \"\"\"\n",
    "        点击事件\n",
    "        case 1:是雷，所有都显示出来，游戏结束\n",
    "        case 2:是周围雷数为0的，递归触发周围8个button的点击事件\n",
    "        case 3:周围雷数不为0的，显示周围雷数\n",
    "        \"\"\"\n",
    "        r = int(str(event.widget['padx']))\n",
    "        c = int(str(event.widget['pady']))\n",
    "        if model.checkValue(r, c, 1):  # 是雷\n",
    "            self.showall()\n",
    "        else:  # 不是雷\n",
    "            self.recureshow(r, c)\n",
    "\n",
    "    def initmine(self):\n",
    "        \"\"\"\n",
    "        埋雷,每行埋height/width+2个暂定\n",
    "        \"\"\"\n",
    "        r = random.randint(1, model.height / model.width + 2)\n",
    "        for r in range(model.height):\n",
    "            for i in range(2):\n",
    "                rancol = random.randint(0, model.width - 1)\n",
    "                model.setItemValue(r, rancol, 1)\n",
    "\n",
    "    def printf(self):\n",
    "        \"\"\"\n",
    "        打印\n",
    "        \"\"\"\n",
    "        for r in range(model.height):\n",
    "            for c in range(model.width):\n",
    "                print\n",
    "                model.items[r][c],\n",
    "            print\n",
    "            '/n'\n",
    "\n",
    "\n",
    "def new(self):\n",
    "    \"\"\"\n",
    "    重新开始游戏\n",
    "    \"\"\"\n",
    "    pass\n",
    "if __name__ == '__main__':\n",
    "    model = Model(10, 10)\n",
    "    root = Tk()\n",
    "\n",
    "    # menu\n",
    "    menu = Menu(root)\n",
    "    root.config(menu=menu)\n",
    "    filemenu = Menu(menu)\n",
    "    menu.add_cascade(label=\"File\", menu=filemenu)\n",
    "    filemenu.add_command(label=\"New\", command=new)\n",
    "    filemenu.add_separator()\n",
    "    filemenu.add_command(label=\"Exit\", command=root.quit)\n",
    "\n",
    "    # Mines\n",
    "    m = Mines(model, root)\n",
    "    # m.printf()\n",
    "    root.mainloop()"
   ]
  },
  {
   "cell_type": "code",
   "execution_count": null,
   "metadata": {},
   "outputs": [],
   "source": []
  }
 ],
 "metadata": {
  "kernelspec": {
   "display_name": "Python 3",
   "language": "python",
   "name": "python3"
  },
  "language_info": {
   "codemirror_mode": {
    "name": "ipython",
    "version": 3
   },
   "file_extension": ".py",
   "mimetype": "text/x-python",
   "name": "python",
   "nbconvert_exporter": "python",
   "pygments_lexer": "ipython3",
   "version": "3.8.5"
  }
 },
 "nbformat": 4,
 "nbformat_minor": 4
}
