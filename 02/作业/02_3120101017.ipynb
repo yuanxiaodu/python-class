{
 "cells": [
  {
   "cell_type": "code",
   "execution_count": 1,
   "metadata": {},
   "outputs": [
    {
     "name": "stdin",
     "output_type": "stream",
     "text": [
      "输入年份:  2021\n",
      "输入月份:  1\n"
     ]
    },
    {
     "name": "stdout",
     "output_type": "stream",
     "text": [
      "    January 2021\n",
      "Mo Tu We Th Fr Sa Su\n",
      "             1  2  3\n",
      " 4  5  6  7  8  9 10\n",
      "11 12 13 14 15 16 17\n",
      "18 19 20 21 22 23 24\n",
      "25 26 27 28 29 30 31\n",
      "\n"
     ]
    }
   ],
   "source": [
    "import calendar\n",
    " \n",
    "# 输入指定年月\n",
    "yy = int(input(\"输入年份: \"))\n",
    "mm = int(input(\"输入月份: \"))\n",
    " \n",
    "# 显示日历\n",
    "print(calendar.month(yy,mm))"
   ]
  },
  {
   "cell_type": "code",
   "execution_count": null,
   "metadata": {},
   "outputs": [
    {
     "name": "stdin",
     "output_type": "stream",
     "text": [
      "您要输出几项?  50\n"
     ]
    },
    {
     "name": "stdout",
     "output_type": "stream",
     "text": [
      "斐波那契数列:\n",
      "0\n",
      "1\n",
      "1\n",
      "2\n",
      "3\n",
      "5\n",
      "8\n",
      "13\n",
      "21\n",
      "34\n",
      "55\n",
      "89\n",
      "144\n",
      "233\n",
      "377\n",
      "610\n",
      "987\n",
      "1597\n",
      "2584\n",
      "4181\n",
      "6765\n",
      "10946\n",
      "17711\n",
      "28657\n",
      "46368\n",
      "75025\n",
      "121393\n",
      "196418\n",
      "317811\n",
      "514229\n",
      "832040\n",
      "1346269\n",
      "2178309\n",
      "3524578\n",
      "5702887\n",
      "9227465\n",
      "14930352\n",
      "24157817\n",
      "39088169\n",
      "63245986\n",
      "102334155\n"
     ]
    }
   ],
   "source": [
    "def recur_fibo(n):\n",
    "   \"\"\"递归函数\n",
    "   输出斐波那契数列\"\"\"\n",
    "   if n <= 1:\n",
    "       return n\n",
    "   else:\n",
    "       return(recur_fibo(n-1) + recur_fibo(n-2))\n",
    " \n",
    " \n",
    "# 获取用户输入\n",
    "nterms = int(input(\"您要输出几项? \"))\n",
    " \n",
    "# 检查输入的数字是否正确\n",
    "if nterms <= 0:\n",
    "   print(\"输入正数\")\n",
    "else:\n",
    "   print(\"斐波那契数列:\")\n",
    "   for i in range(nterms):\n",
    "       print(recur_fibo(i))"
   ]
  },
  {
   "cell_type": "code",
   "execution_count": 1,
   "metadata": {},
   "outputs": [
    {
     "name": "stdout",
     "output_type": "stream",
     "text": [
      "测试实例一\n",
      "False\n",
      "False\n",
      "False\n",
      "True\n",
      "False\n",
      "False\n",
      "False\n",
      "------------------------\n",
      "测试实例二\n",
      "True\n",
      "True\n",
      "False\n",
      "True\n",
      "False\n",
      "False\n",
      "False\n"
     ]
    }
   ],
   "source": [
    "print(\"测试实例一\")\n",
    "str = \"runoob.com\"\n",
    "print(str.isalnum()) # 判断所有字符都是数字或者字母\n",
    "print(str.isalpha()) # 判断所有字符都是字母\n",
    "print(str.isdigit()) # 判断所有字符都是数字\n",
    "print(str.islower()) # 判断所有字符都是小写\n",
    "print(str.isupper()) # 判断所有字符都是大写\n",
    "print(str.istitle()) # 判断所有单词都是首字母大写，像标题\n",
    "print(str.isspace()) # 判断所有字符都是空白字符、\\t、\\n、\\r\n",
    "\n",
    "print(\"------------------------\")\n",
    "\n",
    "print(\"测试实例二\")\n",
    "str = \"runoob\"\n",
    "print(str.isalnum())\n",
    "print(str.isalpha())\n",
    "print(str.isdigit())\n",
    "print(str.islower())\n",
    "print(str.isupper())\n",
    "print(str.istitle())\n",
    "print(str.isspace())"
   ]
  },
  {
   "cell_type": "code",
   "execution_count": 2,
   "metadata": {},
   "outputs": [
    {
     "name": "stdout",
     "output_type": "stream",
     "text": [
      "WWW.RUNOOB.COM\n",
      "www.runoob.com\n",
      "Www.runoob.com\n",
      "Www.Runoob.Com\n"
     ]
    }
   ],
   "source": [
    "str = \"www.runoob.com\"\n",
    "print(str.upper())          # 把所有字符中的小写字母转换成大写字母\n",
    "print(str.lower())          # 把所有字符中的大写字母转换成小写字母\n",
    "print(str.capitalize())     # 把第一个字母转化为大写字母，其余小写\n",
    "print(str.title())          # 把每个单词的第一个字母转化为大写，其余小写 "
   ]
  },
  {
   "cell_type": "code",
   "execution_count": 3,
   "metadata": {},
   "outputs": [
    {
     "name": "stdout",
     "output_type": "stream",
     "text": [
      "(4, 31)\n"
     ]
    }
   ],
   "source": [
    "import calendar\n",
    "monthRange = calendar.monthrange(2021,1)\n",
    "print(monthRange)"
   ]
  },
  {
   "cell_type": "code",
   "execution_count": 4,
   "metadata": {},
   "outputs": [
    {
     "name": "stdout",
     "output_type": "stream",
     "text": [
      "2021-01-04\n"
     ]
    }
   ],
   "source": [
    "import datetime\n",
    "def getYesterday(): \n",
    "    today=datetime.date.today() \n",
    "    oneday=datetime.timedelta(days=1) \n",
    "    yesterday=today-oneday  \n",
    "    return yesterday\n",
    " \n",
    "# 输出\n",
    "print(getYesterday())"
   ]
  },
  {
   "cell_type": "code",
   "execution_count": 5,
   "metadata": {},
   "outputs": [
    {
     "name": "stdout",
     "output_type": "stream",
     "text": [
      "9号下船了\n",
      "18号下船了\n",
      "27号下船了\n",
      "6号下船了\n",
      "16号下船了\n",
      "26号下船了\n",
      "7号下船了\n",
      "19号下船了\n",
      "30号下船了\n",
      "12号下船了\n",
      "24号下船了\n",
      "8号下船了\n",
      "22号下船了\n",
      "5号下船了\n",
      "23号下船了\n"
     ]
    }
   ],
   "source": [
    "people={}\n",
    "for x in range(1,31):\n",
    "    people[x]=1\n",
    "# print(people)\n",
    "check=0\n",
    "i=1\n",
    "j=0\n",
    "while i<=31:\n",
    "    if i == 31:\n",
    "        i=1\n",
    "    elif j == 15:\n",
    "        break\n",
    "    else:\n",
    "        if people[i] == 0:\n",
    "            i+=1\n",
    "            continue\n",
    "        else:\n",
    "            check+=1\n",
    "            if check == 9:\n",
    "                people[i]=0\n",
    "                check = 0\n",
    "                print(\"{}号下船了\".format(i))\n",
    "                j+=1\n",
    "            else:\n",
    "                i+=1\n",
    "                continue"
   ]
  },
  {
   "cell_type": "code",
   "execution_count": 6,
   "metadata": {},
   "outputs": [
    {
     "name": "stdout",
     "output_type": "stream",
     "text": [
      "总共有3121条鱼\n"
     ]
    }
   ],
   "source": [
    "def main():\n",
    "    fish = 1\n",
    "    while True:\n",
    "        total, enough = fish, True\n",
    "        for _ in range(5):\n",
    "            if (total - 1) % 5 == 0:\n",
    "                total = (total - 1)  //  5 * 4\n",
    "            else:\n",
    "                enough = False\n",
    "                break\n",
    "        if enough:\n",
    "            print(f'总共有{fish}条鱼')\n",
    "            break\n",
    "        fish += 1\n",
    "\n",
    "\n",
    "if __name__ == '__main__':\n",
    "    main()"
   ]
  },
  {
   "cell_type": "code",
   "execution_count": 11,
   "metadata": {},
   "outputs": [
    {
     "name": "stdout",
     "output_type": "stream",
     "text": [
      "14400\n"
     ]
    }
   ],
   "source": [
    "def sumOfSeries(n):\n",
    "    sum = 0\n",
    "    for i in range(1, n+1):\n",
    "        sum +=i*i*i\n",
    "         \n",
    "    return sum\n",
    " \n",
    "   \n",
    "# 调用函数\n",
    "n = 15\n",
    "print(sumOfSeries(n))"
   ]
  },
  {
   "cell_type": "code",
   "execution_count": 10,
   "metadata": {},
   "outputs": [
    {
     "name": "stdout",
     "output_type": "stream",
     "text": [
      "数组元素之和为 34\n"
     ]
    }
   ],
   "source": [
    "def _sum(arr,n):\n",
    "     \n",
    "    # 使用内置的 sum 函数计算\n",
    "    return(sum(arr))\n",
    " \n",
    "# 调用函数\n",
    "arr=[]\n",
    "# 数组元素\n",
    "arr = [12, 3, 4, 15]\n",
    " \n",
    "# 计算数组元素的长度\n",
    "n = len(arr)\n",
    " \n",
    "ans = _sum(arr,n)\n",
    " \n",
    "# 输出结果\n",
    "print ('数组元素之和为',ans)"
   ]
  },
  {
   "cell_type": "code",
   "execution_count": 9,
   "metadata": {},
   "outputs": [
    {
     "name": "stdout",
     "output_type": "stream",
     "text": [
      "3 4 5 6 7 1 2 "
     ]
    }
   ],
   "source": [
    "def leftRotate(arr, d, n):\n",
    "    for i in range(d):\n",
    "        leftRotatebyOne(arr, n)\n",
    "def leftRotatebyOne(arr, n):\n",
    "    temp = arr[0]\n",
    "    for i in range(n-1):\n",
    "        arr[i] = arr[i+1]\n",
    "    arr[n-1] = temp\n",
    "         \n",
    " \n",
    "def printArray(arr,size):\n",
    "    for i in range(size):\n",
    "        print (\"%d\"% arr[i],end=\" \")\n",
    " \n",
    "\n",
    "arr = [1, 2, 3, 4, 5, 6, 7]\n",
    "leftRotate(arr, 2, 7)\n",
    "printArray(arr, 7)"
   ]
  },
  {
   "cell_type": "code",
   "execution_count": 8,
   "metadata": {},
   "outputs": [
    {
     "name": "stdout",
     "output_type": "stream",
     "text": [
      "[3, 2, 1]\n"
     ]
    }
   ],
   "source": [
    "def swapList(newList):\n",
    "    size = len(newList)\n",
    "     \n",
    "    temp = newList[0]\n",
    "    newList[0] = newList[size - 1]\n",
    "    newList[size - 1] = temp\n",
    "     \n",
    "    return newList\n",
    "\n",
    "newList = [1, 2, 3]\n",
    " \n",
    "print(swapList(newList))"
   ]
  },
  {
   "cell_type": "code",
   "execution_count": 7,
   "metadata": {},
   "outputs": [
    {
     "name": "stdout",
     "output_type": "stream",
     "text": [
      "[19, 65, 23, 90]\n"
     ]
    }
   ],
   "source": [
    "def swapPositions(list, pos1, pos2):\n",
    "     \n",
    "    list[pos1], list[pos2] = list[pos2], list[pos1]\n",
    "    return list\n",
    " \n",
    "List = [23, 65, 19, 90]\n",
    "pos1, pos2  = 1, 3\n",
    " \n",
    "print(swapPositions(List, pos1-1, pos2-1))"
   ]
  },
  {
   "cell_type": "code",
   "execution_count": 6,
   "metadata": {},
   "outputs": [
    {
     "name": "stdout",
     "output_type": "stream",
     "text": [
      "[15, 14, 13, 12, 11, 10]\n"
     ]
    }
   ],
   "source": [
    "def Reverse(lst):\n",
    "    return [ele for ele in reversed(lst)]\n",
    "     \n",
    "lst = [10, 11, 12, 13, 14, 15]\n",
    "print(Reverse(lst))"
   ]
  },
  {
   "cell_type": "code",
   "execution_count": 5,
   "metadata": {},
   "outputs": [
    {
     "name": "stdout",
     "output_type": "stream",
     "text": [
      "查看 4 是否在列表中 ( 使用循环 ) : \n",
      "存在\n",
      "查看 4 是否在列表中 ( 使用 in 关键字 ) : \n",
      "存在\n"
     ]
    }
   ],
   "source": [
    "test_list = [ 1, 6, 3, 5, 3, 4 ]\n",
    " \n",
    "print(\"查看 4 是否在列表中 ( 使用循环 ) : \")\n",
    " \n",
    "for i in test_list:\n",
    "    if(i == 4) :\n",
    "        print (\"存在\")\n",
    " \n",
    "print(\"查看 4 是否在列表中 ( 使用 in 关键字 ) : \")\n",
    "\n",
    "if (4 in test_list):\n",
    "    print (\"存在\")"
   ]
  },
  {
   "cell_type": "code",
   "execution_count": 4,
   "metadata": {},
   "outputs": [
    {
     "name": "stdout",
     "output_type": "stream",
     "text": [
      "清空前: [6, 0, 4, 1]\n",
      "清空后: []\n"
     ]
    }
   ],
   "source": [
    "RUNOOB = [6, 0, 4, 1]\n",
    "print('清空前:', RUNOOB)  \n",
    " \n",
    "RUNOOB.clear()\n",
    "print('清空后:', RUNOOB)  "
   ]
  },
  {
   "cell_type": "code",
   "execution_count": 3,
   "metadata": {},
   "outputs": [
    {
     "name": "stdout",
     "output_type": "stream",
     "text": [
      "原始列表: [4, 8, 2, 10, 15, 18]\n",
      "复制后列表: [4, 8, 2, 10, 15, 18]\n"
     ]
    }
   ],
   "source": [
    "def clone_runoob(li1):\n",
    "    li_copy = li1[:]\n",
    "    return li_copy\n",
    " \n",
    "li1 = [4, 8, 2, 10, 15, 18]\n",
    "li2 = clone_runoob(li1)\n",
    "print(\"原始列表:\", li1)\n",
    "print(\"复制后列表:\", li2)"
   ]
  },
  {
   "cell_type": "code",
   "execution_count": 2,
   "metadata": {},
   "outputs": [
    {
     "name": "stdout",
     "output_type": "stream",
     "text": [
      "5\n"
     ]
    }
   ],
   "source": [
    "def countX(lst, x):\n",
    "    count = 0\n",
    "    for ele in lst:\n",
    "        if (ele == x):\n",
    "            count = count + 1\n",
    "    return count\n",
    " \n",
    "lst = [8, 6, 8, 10, 8, 20, 10, 8, 8]\n",
    "x = 8\n",
    "print(countX(lst, x))"
   ]
  },
  {
   "cell_type": "code",
   "execution_count": 1,
   "metadata": {},
   "outputs": [
    {
     "name": "stdout",
     "output_type": "stream",
     "text": [
      "排序后的数组:\n",
      "1\n",
      "8\n",
      "59\n",
      "77\n",
      "99\n",
      "100\n"
     ]
    }
   ],
   "source": [
    "def partition(arr,low,high): \n",
    "    i = ( low-1 )         # 最小元素索引\n",
    "    pivot = arr[high]     \n",
    "  \n",
    "    for j in range(low , high): \n",
    "  \n",
    "        # 当前元素小于或等于 pivot \n",
    "        if   arr[j] <= pivot: \n",
    "          \n",
    "            i = i+1 \n",
    "            arr[i],arr[j] = arr[j],arr[i] \n",
    "  \n",
    "    arr[i+1],arr[high] = arr[high],arr[i+1] \n",
    "    return ( i+1 ) \n",
    "  \n",
    " \n",
    "# arr[] --> 排序数组\n",
    "# low  --> 起始索引\n",
    "# high  --> 结束索引\n",
    "  \n",
    "# 快速排序函数\n",
    "def quickSort(arr,low,high): \n",
    "    if low < high: \n",
    "  \n",
    "        pi = partition(arr,low,high) \n",
    "  \n",
    "        quickSort(arr, low, pi-1) \n",
    "        quickSort(arr, pi+1, high) \n",
    "  \n",
    "arr = [100, 77, 8, 99, 1, 59] \n",
    "n = len(arr) \n",
    "quickSort(arr,0,n-1) \n",
    "print (\"排序后的数组:\") \n",
    "for i in range(n): \n",
    "    print (\"%d\" %arr[i])"
   ]
  },
  {
   "cell_type": "code",
   "execution_count": 3,
   "metadata": {},
   "outputs": [
    {
     "name": "stdout",
     "output_type": "stream",
     "text": [
      "6\n",
      "24\n"
     ]
    }
   ],
   "source": [
    "def multiplyList(myList) :\n",
    "     \n",
    "    result = 1\n",
    "    for x in myList:\n",
    "         result = result * x  \n",
    "    return result  \n",
    "     \n",
    "list1 = [1, 2, 3]  \n",
    "list2 = [3, 2, 4]\n",
    "print(multiplyList(list1))\n",
    "print(multiplyList(list2))"
   ]
  },
  {
   "cell_type": "code",
   "execution_count": 4,
   "metadata": {},
   "outputs": [
    {
     "name": "stdout",
     "output_type": "stream",
     "text": [
      "最小元素为: 4\n"
     ]
    }
   ],
   "source": [
    "list1 = [10, 20, 4, 45, 99]\n",
    " \n",
    "list1.sort()\n",
    " \n",
    "print(\"最小元素为:\", *list1[:1])"
   ]
  },
  {
   "cell_type": "code",
   "execution_count": 5,
   "metadata": {},
   "outputs": [
    {
     "name": "stdout",
     "output_type": "stream",
     "text": [
      "元素在数组中的索引为 3\n"
     ]
    }
   ],
   "source": [
    "def binarySearch (arr, l, r, x): \n",
    "  \n",
    "    # 基本判断\n",
    "    if r >= l: \n",
    "  \n",
    "        mid = int(l + (r - l)/2)\n",
    "  \n",
    "        # 元素整好的中间位置\n",
    "        if arr[mid] == x: \n",
    "            return mid \n",
    "          \n",
    "        # 元素小于中间位置的元素，只需要再比较左边的元素\n",
    "        elif arr[mid] > x: \n",
    "            return binarySearch(arr, l, mid-1, x) \n",
    "  \n",
    "        # 元素大于中间位置的元素，只需要再比较右边的元素\n",
    "        else: \n",
    "            return binarySearch(arr, mid+1, r, x) \n",
    "  \n",
    "    else: \n",
    "        # 不存在\n",
    "        return -1\n",
    "  \n",
    "# 测试数组\n",
    "arr = [ 2, 3, 4, 10, 40 ] \n",
    "x = 10\n",
    "  \n",
    "# 函数调用\n",
    "result = binarySearch(arr, 0, len(arr)-1, x) \n",
    "  \n",
    "if result != -1: \n",
    "    print (\"元素在数组中的索引为 %d\" % result )\n",
    "else: \n",
    "    print (\"元素不在数组中\")"
   ]
  },
  {
   "cell_type": "code",
   "execution_count": 6,
   "metadata": {},
   "outputs": [
    {
     "name": "stdin",
     "output_type": "stream",
     "text": [
      "输入一个数字:  10\n"
     ]
    },
    {
     "name": "stdout",
     "output_type": "stream",
     "text": [
      "正数\n"
     ]
    }
   ],
   "source": [
    "num = float(input(\"输入一个数字: \"))\n",
    "if num > 0:\n",
    "   print(\"正数\")\n",
    "elif num == 0:\n",
    "   print(\"零\")\n",
    "else:\n",
    "   print(\"负数\")"
   ]
  },
  {
   "cell_type": "code",
   "execution_count": null,
   "metadata": {},
   "outputs": [],
   "source": []
  }
 ],
 "metadata": {
  "kernelspec": {
   "display_name": "Python 3",
   "language": "python",
   "name": "python3"
  },
  "language_info": {
   "codemirror_mode": {
    "name": "ipython",
    "version": 3
   },
   "file_extension": ".py",
   "mimetype": "text/x-python",
   "name": "python",
   "nbconvert_exporter": "python",
   "pygments_lexer": "ipython3",
   "version": "3.8.5"
  }
 },
 "nbformat": 4,
 "nbformat_minor": 4
}
