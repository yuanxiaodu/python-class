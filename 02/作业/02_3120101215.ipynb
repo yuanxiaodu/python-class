{
 "cells": [
  {
   "cell_type": "code",
   "execution_count": 1,
   "metadata": {},
   "outputs": [
    {
     "name": "stdout",
     "output_type": "stream",
     "text": [
      "1 - 变量 a 和 b 都为 true\n",
      "2 - 变量 a 和 b 都为 true，或其中一个变量为 true\n",
      "3 - 变量 a 和 b 有一个不为 true\n",
      "4 - 变量 a 和 b 都为 true，或其中一个变量为 true\n",
      "5 - 变量 a 和 b 都为 false，或其中一个变量为 false\n"
     ]
    }
   ],
   "source": [
    "a = 10\n",
    "b = 20\n",
    "if ( a and b ):\n",
    "    print('1 - 变量 a 和 b 都为 true')\n",
    "else:\n",
    "    print('1 - 变量 a 和 b 有一个不为 true')\n",
    "if ( a or b ):\n",
    "    print('2 - 变量 a 和 b 都为 true，或其中一个变量为 true')\n",
    "else:\n",
    "    print('2 - 变量 a 和 b 都不为 true')                            #10\n",
    "a = 0\n",
    "if ( a and b ):\n",
    "    print('3 - 变量 a 和 b 都为 true')\n",
    "else:\n",
    "    print('3 - 变量 a 和 b 有一个不为 true')\n",
    "if ( a or b ):\n",
    "    print('4 - 变量 a 和 b 都为 true，或其中一个变量为 true')\n",
    "else:\n",
    "    print('4 - 变量 a 和 b 都不为 true')\n",
    "if not( a and b ):                                                 #20\n",
    "    print('5 - 变量 a 和 b 都为 false，或其中一个变量为 false')\n",
    "else:\n",
    "    print('5 - 变量 a 和 b 都为 true')"
   ]
  },
  {
   "cell_type": "code",
   "execution_count": 2,
   "metadata": {},
   "outputs": [
    {
     "name": "stdout",
     "output_type": "stream",
     "text": [
      "1 - a 和 b 有相同的标识\n",
      "2 - a 和 b 有相同的标识\n",
      "3 - a 和 b 没有相同的标识\n",
      "4 - a 和 b 没有相同的标识\n"
     ]
    }
   ],
   "source": [
    "a = 20\n",
    "b = 20\n",
    "if ( a is b ):\n",
    "    print('1 - a 和 b 有相同的标识')\n",
    "else:\n",
    "    print('1 - a 和 b 没有相同的标识')\n",
    "if ( id(a) == id(b) ):                                          #30\n",
    "    print('2 - a 和 b 有相同的标识')\n",
    "else:\n",
    "    print('2 - a 和 b 没有相同的标识')\n",
    "b = 30\n",
    "if ( a is b ):\n",
    "    print('3 - a 和 b 有相同的标识')\n",
    "else:\n",
    "    print('3 - a 和 b 没有相同的标识')\n",
    "if ( a is not b ):\n",
    "    print('4 - a 和 b 没有相同的标识')                         #40\n",
    "else:\n",
    "    print('4 - a 和 b 有相同的标识')"
   ]
  },
  {
   "cell_type": "code",
   "execution_count": 3,
   "metadata": {},
   "outputs": [
    {
     "name": "stdout",
     "output_type": "stream",
     "text": [
      "True\n",
      "False\n",
      "True\n"
     ]
    }
   ],
   "source": [
    "a = [1,2,3]\n",
    "b = a\n",
    "print( b == a )\n",
    "b = a[:]\n",
    "print( b is a )\n",
    "print( b == a )"
   ]
  },
  {
   "cell_type": "code",
   "execution_count": 4,
   "metadata": {},
   "outputs": [
    {
     "name": "stdout",
     "output_type": "stream",
     "text": [
      "(a + b) * c / d 运算结果为： 90.0\n",
      "((a + b) * c) / d 运算结果为： 90.0\n",
      "(a + b) * (c / d) 运算结果为： 90.0\n",
      "a + (b * c) / d 运算结果为： 50.0\n"
     ]
    }
   ],
   "source": [
    "a = 20\n",
    "b = 10                                                        #50\n",
    "c = 15\n",
    "d = 5\n",
    "e = 0\n",
    "e = (a + b) * c / d\n",
    "print('(a + b) * c / d 运算结果为：', e)\n",
    "e = ((a + b) * c) / d\n",
    "print('((a + b) * c) / d 运算结果为：', e)\n",
    "e = (a + b) * (c / d)\n",
    "print('(a + b) * (c / d) 运算结果为：', e)\n",
    "e = a + (b * c) / d                                          #60\n",
    "print('a + (b * c) / d 运算结果为：', e)"
   ]
  },
  {
   "cell_type": "code",
   "execution_count": 5,
   "metadata": {},
   "outputs": [
    {
     "name": "stdout",
     "output_type": "stream",
     "text": [
      "yes\n"
     ]
    }
   ],
   "source": [
    "x = True\n",
    "y = False\n",
    "z = False\n",
    "if x or y and z:\n",
    "    print('yes')\n",
    "else:\n",
    "    print('no')"
   ]
  },
  {
   "cell_type": "code",
   "execution_count": 6,
   "metadata": {},
   "outputs": [
    {
     "name": "stdout",
     "output_type": "stream",
     "text": [
      "2575\n",
      "31\n"
     ]
    }
   ],
   "source": [
    "number = 0xA0F\n",
    "print(number)                                              #70\n",
    "number = 0o37\n",
    "print(number)"
   ]
  },
  {
   "cell_type": "code",
   "execution_count": 8,
   "metadata": {},
   "outputs": [
    {
     "name": "stdout",
     "output_type": "stream",
     "text": [
      "1\n"
     ]
    }
   ],
   "source": [
    "a = 1.0\n",
    "print(int(a))"
   ]
  },
  {
   "cell_type": "code",
   "execution_count": 9,
   "metadata": {},
   "outputs": [
    {
     "name": "stdout",
     "output_type": "stream",
     "text": [
      "4\n",
      "20\n",
      "5.0\n",
      "1.6\n"
     ]
    }
   ],
   "source": [
    "print(2 + 2)\n",
    "print(50 - 5 * 6)\n",
    "print((50 - 5 * 6) / 4)\n",
    "print(8 / 5)"
   ]
  },
  {
   "cell_type": "code",
   "execution_count": 10,
   "metadata": {},
   "outputs": [
    {
     "name": "stdout",
     "output_type": "stream",
     "text": [
      "5.666666666666667\n",
      "5\n",
      "2\n",
      "17\n"
     ]
    }
   ],
   "source": [
    "print(17 / 3)\n",
    "print(17 // 3)                                           #80\n",
    "print(17 % 3)\n",
    "print(5 * 3 + 2)"
   ]
  },
  {
   "cell_type": "code",
   "execution_count": 11,
   "metadata": {},
   "outputs": [
    {
     "name": "stdout",
     "output_type": "stream",
     "text": [
      "3\n",
      "3.0\n",
      "3.0\n"
     ]
    }
   ],
   "source": [
    "print(7 // 2)\n",
    "print(7.0 // 2)\n",
    "print(7 // 2.0)"
   ]
  },
  {
   "cell_type": "code",
   "execution_count": 12,
   "metadata": {},
   "outputs": [
    {
     "name": "stdout",
     "output_type": "stream",
     "text": [
      "25\n",
      "128\n"
     ]
    }
   ],
   "source": [
    "print(5 ** 2)\n",
    "print(2 ** 7)"
   ]
  },
  {
   "cell_type": "code",
   "execution_count": 13,
   "metadata": {},
   "outputs": [
    {
     "name": "stdout",
     "output_type": "stream",
     "text": [
      "7.5\n",
      "3.5\n"
     ]
    }
   ],
   "source": [
    "print(3 * 3.75 / 1.5)\n",
    "print(7.0 / 2)"
   ]
  },
  {
   "cell_type": "code",
   "execution_count": 15,
   "metadata": {},
   "outputs": [
    {
     "name": "stdout",
     "output_type": "stream",
     "text": [
      "var1[0]: H\n",
      "var2[1:5]: unoo\n"
     ]
    }
   ],
   "source": [
    "var1 = 'Hello World!'                                   #90\n",
    "var2 = 'Runoob'\n",
    "print('var1[0]:',var1[0])\n",
    "print('var2[1:5]:',var2[1:5])"
   ]
  },
  {
   "cell_type": "code",
   "execution_count": 16,
   "metadata": {},
   "outputs": [
    {
     "name": "stdout",
     "output_type": "stream",
     "text": [
      "已更新字符串： Hello Runoob!\n"
     ]
    }
   ],
   "source": [
    "var1 = 'Hello World!'\n",
    "print('已更新字符串：',var1[:6] + 'Runoob!')"
   ]
  },
  {
   "cell_type": "code",
   "execution_count": 18,
   "metadata": {},
   "outputs": [
    {
     "name": "stdout",
     "output_type": "stream",
     "text": [
      "a + b 输出结果： HelloPython\n",
      "a * 2 输出结果： HelloHello\n",
      "a[1] 输出结果： e\n",
      "a[1:4] 输出结果： ell\n",
      "H 在变量 a 中\n",
      "M 不在变量 a 中\n",
      "\\n\n",
      "\\n\n"
     ]
    }
   ],
   "source": [
    "a = 'Hello'\n",
    "b = 'Python'\n",
    "print('a + b 输出结果：',a + b)\n",
    "print('a * 2 输出结果：',a * 2)\n",
    "print('a[1] 输出结果：',a[1])                          #100\n",
    "print('a[1:4] 输出结果：',a[1:4])\n",
    "if('H' in a):\n",
    "    print('H 在变量 a 中')\n",
    "else:\n",
    "    print('H 不在变量 a 中')\n",
    "if('M' not in a):\n",
    "    print('M 不在变量 a 中')\n",
    "else:\n",
    "    print('M 在变量 a 中')\n",
    "print(r'\\n')                                         #110\n",
    "print(R'\\n')"
   ]
  },
  {
   "cell_type": "code",
   "execution_count": 19,
   "metadata": {},
   "outputs": [
    {
     "name": "stdout",
     "output_type": "stream",
     "text": [
      "我叫 小明 今年 10 岁！\n"
     ]
    }
   ],
   "source": [
    "print('我叫 %s 今年 %d 岁！' %('小明',10))"
   ]
  },
  {
   "cell_type": "code",
   "execution_count": 20,
   "metadata": {},
   "outputs": [
    {
     "name": "stdout",
     "output_type": "stream",
     "text": [
      "这是一个多行字符串的实例\n",
      "多行字符串可以使用制表符\n",
      "TAB(\t)。\n",
      "也可以使用换行符[\n",
      "]\n",
      "\n"
     ]
    }
   ],
   "source": [
    "para_str = '''这是一个多行字符串的实例\n",
    "多行字符串可以使用制表符\n",
    "TAB(\\t)。\n",
    "也可以使用换行符[\\n]\n",
    "'''\n",
    "print(para_str)"
   ]
  },
  {
   "cell_type": "code",
   "execution_count": 21,
   "metadata": {},
   "outputs": [
    {
     "name": "stdout",
     "output_type": "stream",
     "text": [
      "Hello Runoob\n"
     ]
    }
   ],
   "source": [
    "name = 'Runoob'                                     #120\n",
    "print('Hello %s' % name)"
   ]
  },
  {
   "cell_type": "code",
   "execution_count": 30,
   "metadata": {},
   "outputs": [
    {
     "name": "stdout",
     "output_type": "stream",
     "text": [
      "HelloRunoob\n",
      "3\n",
      "Runoob:www.runoob.com\n"
     ]
    }
   ],
   "source": [
    "name = 'Runoob'\n",
    "print(f'Hello{name}')\n",
    "print(f'{1 + 2}')\n",
    "w = {'name':'Runoob','url':'www.runoob.com'}\n",
    "print(f\"{w['name']}:{w['url']}\")"
   ]
  },
  {
   "cell_type": "code",
   "execution_count": 31,
   "metadata": {},
   "outputs": [
    {
     "name": "stdout",
     "output_type": "stream",
     "text": [
      "2\n",
      "x+1=2\n"
     ]
    }
   ],
   "source": [
    "x = 1\n",
    "print(f'{x+1}')\n",
    "x = 1\n",
    "print(f'{x+1=}')                                  #130"
   ]
  },
  {
   "cell_type": "code",
   "execution_count": 33,
   "metadata": {},
   "outputs": [
    {
     "name": "stdout",
     "output_type": "stream",
     "text": [
      "red\n",
      "green\n",
      "blue\n",
      "black\n",
      "white\n",
      "yellow\n"
     ]
    }
   ],
   "source": [
    "list = ['red','green','blue','yellow','white','black']\n",
    "print(list[0])\n",
    "print(list[1])\n",
    "print(list[2])\n",
    "print(list[-1])\n",
    "print(list[-2])\n",
    "print(list[-3])"
   ]
  },
  {
   "cell_type": "code",
   "execution_count": 34,
   "metadata": {},
   "outputs": [
    {
     "name": "stdout",
     "output_type": "stream",
     "text": [
      "[10, 20, 30, 40]\n"
     ]
    }
   ],
   "source": [
    "nums = [10,20,30,40,50,60,70,80,90]\n",
    "print(nums[0:4])"
   ]
  },
  {
   "cell_type": "code",
   "execution_count": 37,
   "metadata": {},
   "outputs": [
    {
     "name": "stdout",
     "output_type": "stream",
     "text": [
      "list[1]: Runoob\n",
      "list[1:-2]: ['Runoob', 'Zhihu']\n"
     ]
    }
   ],
   "source": [
    "list = ['Google','Runoob','Zhihu','Taobao','Wiki']           #140\n",
    "print('list[1]:',list[1])\n",
    "print('list[1:-2]:',list[1:-2])"
   ]
  },
  {
   "cell_type": "code",
   "execution_count": 38,
   "metadata": {},
   "outputs": [
    {
     "name": "stdout",
     "output_type": "stream",
     "text": [
      "原始列表： ['Google', 'Runoob', 1997, 2000]\n",
      "删除第三元素： ['Google', 'Runoob', 2000]\n"
     ]
    }
   ],
   "source": [
    "list = ['Google','Runoob',1997,2000]\n",
    "print('原始列表：',list)\n",
    "del list[2]\n",
    "print('删除第三元素：',list)"
   ]
  },
  {
   "cell_type": "code",
   "execution_count": 40,
   "metadata": {},
   "outputs": [
    {
     "name": "stdout",
     "output_type": "stream",
     "text": [
      "[1, 4, 6, 15, 25, 36]\n"
     ]
    }
   ],
   "source": [
    "list = [1,4,6]\n",
    "list += [15,25,36]\n",
    "print(list)"
   ]
  },
  {
   "cell_type": "code",
   "execution_count": 41,
   "metadata": {},
   "outputs": [
    {
     "name": "stdout",
     "output_type": "stream",
     "text": [
      "[['a', 'b', 'c'], [1, 2, 3]]\n",
      "['a', 'b', 'c']\n",
      "b\n"
     ]
    }
   ],
   "source": [
    "a = ['a','b','c']                                            #150\n",
    "n = [1,2,3]\n",
    "x = [a,n]\n",
    "print(x)\n",
    "print(x[0])\n",
    "print(x[0][1])"
   ]
  },
  {
   "cell_type": "code",
   "execution_count": 42,
   "metadata": {},
   "outputs": [
    {
     "data": {
      "text/plain": [
       "tuple"
      ]
     },
     "execution_count": 42,
     "metadata": {},
     "output_type": "execute_result"
    }
   ],
   "source": [
    "tup1 = ('Google','Runoob',1997,2000)\n",
    "tup2 = (1,2,3,4,5)\n",
    "tup3 = 'a','b','c','d'\n",
    "type(tup3)"
   ]
  },
  {
   "cell_type": "code",
   "execution_count": 44,
   "metadata": {},
   "outputs": [
    {
     "name": "stdout",
     "output_type": "stream",
     "text": [
      "<class 'int'>\n",
      "<class 'tuple'>\n"
     ]
    }
   ],
   "source": [
    "tup1 = (50)                                           #160\n",
    "print(type(tup1))\n",
    "tup1 = (50,)\n",
    "print(type(tup1))"
   ]
  },
  {
   "cell_type": "code",
   "execution_count": 45,
   "metadata": {},
   "outputs": [
    {
     "name": "stdout",
     "output_type": "stream",
     "text": [
      "tup1[0]: Google\n",
      "tup2[1:5]: (2, 3, 4, 5)\n"
     ]
    }
   ],
   "source": [
    "tup1 = ('Google','Runoob',1997,2000)\n",
    "tup2 = (1,2,3,4,5,6,7)\n",
    "print('tup1[0]:',tup1[0])\n",
    "print('tup2[1:5]:',tup2[1:5])"
   ]
  },
  {
   "cell_type": "code",
   "execution_count": 46,
   "metadata": {},
   "outputs": [
    {
     "name": "stdout",
     "output_type": "stream",
     "text": [
      "(12, 34.56, 'abc', 'xyz')\n"
     ]
    }
   ],
   "source": [
    "tup1 = (12,34.56)\n",
    "tup2 = ('abc','xyz')\n",
    "tup3 = tup1 + tup2                                      #170\n",
    "print(tup3)"
   ]
  },
  {
   "cell_type": "code",
   "execution_count": 47,
   "metadata": {},
   "outputs": [
    {
     "name": "stdout",
     "output_type": "stream",
     "text": [
      "('Google', 'Runoob', 1997, 2000)\n",
      "删除后的元组 tup：\n"
     ]
    },
    {
     "ename": "NameError",
     "evalue": "name 'tup' is not defined",
     "output_type": "error",
     "traceback": [
      "\u001b[1;31m---------------------------------------------------------------------------\u001b[0m",
      "\u001b[1;31mNameError\u001b[0m                                 Traceback (most recent call last)",
      "\u001b[1;32m<ipython-input-47-111c0a8feabc>\u001b[0m in \u001b[0;36m<module>\u001b[1;34m\u001b[0m\n\u001b[0;32m      3\u001b[0m \u001b[1;32mdel\u001b[0m \u001b[0mtup\u001b[0m\u001b[1;33m\u001b[0m\u001b[1;33m\u001b[0m\u001b[0m\n\u001b[0;32m      4\u001b[0m \u001b[0mprint\u001b[0m\u001b[1;33m(\u001b[0m\u001b[1;34m'删除后的元组 tup：'\u001b[0m\u001b[1;33m)\u001b[0m\u001b[1;33m\u001b[0m\u001b[1;33m\u001b[0m\u001b[0m\n\u001b[1;32m----> 5\u001b[1;33m \u001b[0mprint\u001b[0m\u001b[1;33m(\u001b[0m\u001b[0mtup\u001b[0m\u001b[1;33m)\u001b[0m\u001b[1;33m\u001b[0m\u001b[1;33m\u001b[0m\u001b[0m\n\u001b[0m",
      "\u001b[1;31mNameError\u001b[0m: name 'tup' is not defined"
     ]
    }
   ],
   "source": [
    "tup = ('Google','Runoob',1997,2000)\n",
    "print(tup)\n",
    "del tup\n",
    "print('删除后的元组 tup：')\n",
    "print(tup)"
   ]
  },
  {
   "cell_type": "code",
   "execution_count": 48,
   "metadata": {},
   "outputs": [
    {
     "name": "stdout",
     "output_type": "stream",
     "text": [
      "Runoob\n",
      "Weibo\n",
      "('Runoob', 'Taobao', 'Wiki', 'Weibo', 'Weixin')\n",
      "('Runoob', 'Taobao', 'Wiki')\n"
     ]
    }
   ],
   "source": [
    "tup = ('Google','Runoob','Taobao','Wiki','Weibo','Weixin')\n",
    "print(tup[1])\n",
    "print(tup[-2])\n",
    "print(tup[1:])                                              #180\n",
    "print(tup[1:4])"
   ]
  },
  {
   "cell_type": "code",
   "execution_count": 51,
   "metadata": {},
   "outputs": [
    {
     "name": "stdout",
     "output_type": "stream",
     "text": [
      "1486896294112\n",
      "1486896313344\n"
     ]
    }
   ],
   "source": [
    "tup = ('r','u','n','o','o','b')\n",
    "print(id(tup))\n",
    "tup = (1,2,3)\n",
    "print(id(tup))"
   ]
  },
  {
   "cell_type": "code",
   "execution_count": 52,
   "metadata": {},
   "outputs": [
    {
     "name": "stdout",
     "output_type": "stream",
     "text": [
      "{'apple', 'orange', 'pear', 'banana'}\n",
      "True\n",
      "False\n",
      "{'d', 'r', 'b', 'a', 'c'}\n",
      "{'d', 'r', 'b'}\n",
      "{'d', 'b', 'r', 'l', 'a', 'z', 'm', 'c'}\n",
      "{'a', 'c'}\n",
      "{'d', 'r', 'b', 'z', 'm', 'l'}\n"
     ]
    }
   ],
   "source": [
    "basket = {'apple','orange','apple','pear','orange','banana'}\n",
    "print(basket)\n",
    "print('orange' in basket)\n",
    "print('crabgrass' in basket)\n",
    "a = set('abracadabra')                                    #190\n",
    "b = set('alacazam')\n",
    "print(a)\n",
    "print(a - b)\n",
    "print(a | b)\n",
    "print(a & b)\n",
    "print(a ^ b)"
   ]
  },
  {
   "cell_type": "code",
   "execution_count": 54,
   "metadata": {},
   "outputs": [
    {
     "name": "stdout",
     "output_type": "stream",
     "text": [
      "{'d', 'r'}\n"
     ]
    }
   ],
   "source": [
    "a = {x for x in 'abracadabra' if x not in 'abc'}\n",
    "print(a)                                                  #200"
   ]
  },
  {
   "cell_type": "code",
   "execution_count": 1,
   "metadata": {},
   "outputs": [
    {
     "name": "stdout",
     "output_type": "stream",
     "text": [
      "1671657307008\n",
      "1671657442240\n"
     ]
    }
   ],
   "source": [
    "tup = ('a','b','c','d','e','f')\n",
    "print(id(tup))\n",
    "tup = (1,3,5)\n",
    "print(id(tup))"
   ]
  },
  {
   "cell_type": "code",
   "execution_count": null,
   "metadata": {},
   "outputs": [],
   "source": []
  }
 ],
 "metadata": {
  "kernelspec": {
   "display_name": "Python 3",
   "language": "python",
   "name": "python3"
  },
  "language_info": {
   "codemirror_mode": {
    "name": "ipython",
    "version": 3
   },
   "file_extension": ".py",
   "mimetype": "text/x-python",
   "name": "python",
   "nbconvert_exporter": "python",
   "pygments_lexer": "ipython3",
   "version": "3.8.5"
  }
 },
 "nbformat": 4,
 "nbformat_minor": 4
}
