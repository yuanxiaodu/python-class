{
 "cells": [
  {
   "cell_type": "code",
   "execution_count": 1,
   "metadata": {},
   "outputs": [
    {
     "name": "stdout",
     "output_type": "stream",
     "text": [
      "1 2 3\n",
      "1 2 4\n",
      "1 3 2\n",
      "1 3 4\n",
      "1 4 2\n",
      "1 4 3\n",
      "2 1 3\n",
      "2 1 4\n",
      "2 3 1\n",
      "2 3 4\n",
      "2 4 1\n",
      "2 4 3\n",
      "3 1 2\n",
      "3 1 4\n",
      "3 2 1\n",
      "3 2 4\n",
      "3 4 1\n",
      "3 4 2\n",
      "4 1 2\n",
      "4 1 3\n",
      "4 2 1\n",
      "4 2 3\n",
      "4 3 1\n",
      "4 3 2\n",
      "24\n"
     ]
    }
   ],
   "source": [
    "total=0\n",
    "for i in range(1,5):\n",
    "    for j in range(1,5):\n",
    "        for k in range(1,5):\n",
    "            if ((i!=j)and(j!=k)and(k!=i)):\n",
    "                print(i,j,k)\n",
    "                total+=1\n",
    "print(total)"
   ]
  },
  {
   "cell_type": "code",
   "execution_count": 3,
   "metadata": {},
   "outputs": [
    {
     "name": "stdout",
     "output_type": "stream",
     "text": [
      "(1, 2, 3)\n",
      "(1, 2, 4)\n",
      "(1, 3, 2)\n",
      "(1, 3, 4)\n",
      "(1, 4, 2)\n",
      "(1, 4, 3)\n",
      "(2, 1, 3)\n",
      "(2, 1, 4)\n",
      "(2, 3, 1)\n",
      "(2, 3, 4)\n",
      "(2, 4, 1)\n",
      "(2, 4, 3)\n",
      "(3, 1, 2)\n",
      "(3, 1, 4)\n",
      "(3, 2, 1)\n",
      "(3, 2, 4)\n",
      "(3, 4, 1)\n",
      "(3, 4, 2)\n",
      "(4, 1, 2)\n",
      "(4, 1, 3)\n",
      "(4, 2, 1)\n",
      "(4, 2, 3)\n",
      "(4, 3, 1)\n",
      "(4, 3, 2)\n",
      "24\n"
     ]
    }
   ],
   "source": [
    "import itertools\n",
    "sum2=0\n",
    "a=[1,2,3,4]\n",
    "for i in itertools.permutations(a,3):\n",
    "    print(i)\n",
    "    sum2+=1\n",
    "print(sum2)"
   ]
  },
  {
   "cell_type": "code",
   "execution_count": 4,
   "metadata": {},
   "outputs": [
    {
     "name": "stdout",
     "output_type": "stream",
     "text": [
      "show me the money:333\n",
      "33.300000000000004\n"
     ]
    }
   ],
   "source": [
    "profit=int(input('show me the money:'))\n",
    "bonus=0\n",
    "thresholds=[100000,100000,200000,200000,400000]\n",
    "rates=[0.1,0.075,0.05,0.03,0.015,0.01]\n",
    "for i in range(len(thresholds)):\n",
    "    if profit<=thresholds[i]:\n",
    "        bonus+=profit*rates[i]\n",
    "        profit=0\n",
    "        break\n",
    "    else:\n",
    "        bonus+=thresholds[i]*rates[i]\n",
    "        profit-=thresholds[i]\n",
    "bonus+=profit*rates[-1]\n",
    "print(bonus)"
   ]
  },
  {
   "cell_type": "code",
   "execution_count": 8,
   "metadata": {},
   "outputs": [
    {
     "name": "stdout",
     "output_type": "stream",
     "text": [
      "85\n"
     ]
    },
    {
     "data": {
      "text/plain": [
       "85"
      ]
     },
     "execution_count": 8,
     "metadata": {},
     "output_type": "execute_result"
    }
   ],
   "source": [
    "n=0\n",
    "while (n+1)**2-n*n<=168:\n",
    "    n+=1\n",
    "    \n",
    "print(n+1)\n",
    "\n",
    "85"
   ]
  },
  {
   "cell_type": "code",
   "execution_count": 9,
   "metadata": {},
   "outputs": [
    {
     "name": "stdout",
     "output_type": "stream",
     "text": [
      "-99\n",
      "21\n",
      "261\n",
      "1581\n"
     ]
    }
   ],
   "source": [
    "n=0\n",
    "while (n+1)**2-n*n<=168:\n",
    "    n+=1\n",
    "    \n",
    "for i in range((n+1)**2):\n",
    "    if i**0.5==int(i**0.5) and (i+168)**0.5==int((i+168)**0.5):\n",
    "        print(i-100)"
   ]
  },
  {
   "cell_type": "code",
   "execution_count": 11,
   "metadata": {},
   "outputs": [
    {
     "name": "stdout",
     "output_type": "stream",
     "text": [
      "Year2020\n",
      "Month:12\n",
      "day:31\n",
      "366\n"
     ]
    }
   ],
   "source": [
    "def isLeapYear(y):\n",
    "    return (y%400==0 or (y%4==0 and y%100!=0))\n",
    "Dofm=[0,31,28,31,30,31,30,31,31,30,31,30]\n",
    "res=0\n",
    "year=int(input('Year'))\n",
    "month=int(input('Month:'))\n",
    "day=int(input('day:'))\n",
    "if isLeapYear(year):\n",
    "    Dofm[2]+=1\n",
    "for i in range(month):\n",
    "    res+=Dofm[i]\n",
    "print(res+day)"
   ]
  },
  {
   "cell_type": "code",
   "execution_count": 15,
   "metadata": {},
   "outputs": [
    {
     "name": "stdout",
     "output_type": "stream",
     "text": [
      "int0:1\n",
      "int1:2\n",
      "int2:3\n",
      "[1, 2, 3]\n",
      "int0:4\n",
      "int1:5\n",
      "int2:6\n",
      "[4, 5, 6]\n"
     ]
    }
   ],
   "source": [
    "raw=[]\n",
    "for i in range(3):\n",
    "    x=int(input('int%d:'%(i)))\n",
    "    raw.append(x)\n",
    "    \n",
    "for i in range(len(raw)):\n",
    "    for j in range(i,len(raw)):\n",
    "        if raw[i]>raw[j]:\n",
    "            raw[i],raw[j]=raw[j],raw[i]\n",
    "print(raw)\n",
    "\n",
    "raw2=[]\n",
    "for i in range(3):\n",
    "    x=int(input(\"int%d:\"%(i)))\n",
    "    raw2.append(x)\n",
    "print(sorted(raw2))"
   ]
  },
  {
   "cell_type": "code",
   "execution_count": 17,
   "metadata": {},
   "outputs": [
    {
     "name": "stdout",
     "output_type": "stream",
     "text": [
      "1\n",
      "1\n",
      "2\n",
      "1\n"
     ]
    }
   ],
   "source": [
    "# 递归实现\n",
    "def Fib(n):\n",
    "    return 1 if n<=2 else Fib(n-1)+Fib(n-2)\n",
    "print(Fib(int(input())))\n",
    "\n",
    "# 朴素实现\n",
    "target=int(input())\n",
    "res=0\n",
    "a,b=1,1\n",
    "for i in range(target-1):\n",
    "    a,b=b,a+b\n",
    "print(a)"
   ]
  },
  {
   "cell_type": "code",
   "execution_count": 19,
   "metadata": {},
   "outputs": [
    {
     "name": "stdout",
     "output_type": "stream",
     "text": [
      "a= [1, 2, 3, 4, ['a', 'b', 'c'], 5]\n",
      "b= [1, 2, 3, 4, ['a', 'b', 'c'], 5]\n",
      "c= [1, 2, 3, 4, ['a', 'b', 'c']]\n",
      "d= [1, 2, 3, 4, ['a', 'b', 'c']]\n",
      "e= [1, 2, 3, 4, ['a', 'b']]\n"
     ]
    }
   ],
   "source": [
    "import copy\n",
    "a=[1,2,3,4,['a','b']]\n",
    "\n",
    "b=a   # 赋值\n",
    "c=a[:]  # 浅拷贝\n",
    "d=copy.copy(a)   # 浅拷贝\n",
    "e=copy.deepcopy(a)  # 深拷贝\n",
    "\n",
    "a.append(5)\n",
    "a[4].append('c')\n",
    "\n",
    "print('a=',a)\n",
    "print('b=',b)\n",
    "print('c=',c)\n",
    "print('d=',d)\n",
    "print('e=',e)\n",
    "\n",
    "a=[1,2,3,4,[\"a\",\"b\",\"c\"],5]\n",
    "b=[1,2,3,4,[\"a\",\"b\",\"c\"],5]\n",
    "c=[1,2,3,4,[\"a\",\"b\",\"c\"]]\n",
    "d=[1,2,3,4,[\"a\",\"b\",\"c\"]]\n",
    "e=[1,2,3,4,[\"a\",\"b\"]]"
   ]
  },
  {
   "cell_type": "code",
   "execution_count": 20,
   "metadata": {},
   "outputs": [
    {
     "name": "stdout",
     "output_type": "stream",
     "text": [
      "1*1=                    1\n",
      "2*1=                    22*2=                    4\n",
      "3*1=                    33*2=                    63*3=                    9\n",
      "4*1=                    44*2=                    84*3=                   124*4=                   16\n",
      "5*1=                    55*2=                   105*3=                   155*4=                   205*5=                   25\n",
      "6*1=                    66*2=                   126*3=                   186*4=                   246*5=                   306*6=                   36\n",
      "7*1=                    77*2=                   147*3=                   217*4=                   287*5=                   357*6=                   427*7=                   49\n",
      "8*1=                    88*2=                   168*3=                   248*4=                   328*5=                   408*6=                   488*7=                   568*8=                   64\n",
      "9*1=                    99*2=                   189*3=                   279*4=                   369*5=                   459*6=                   549*7=                   639*8=                   729*9=                   81\n"
     ]
    }
   ],
   "source": [
    "for i in range(1,10):\n",
    "    for j in range(1,i+1):\n",
    "        print('%d*%d=%21d'%(i,j,i*j),end='')\n",
    "    print()"
   ]
  },
  {
   "cell_type": "code",
   "execution_count": 22,
   "metadata": {},
   "outputs": [
    {
     "name": "stdout",
     "output_type": "stream",
     "text": [
      "15\n",
      "16\n",
      "18\n",
      "19\n"
     ]
    }
   ],
   "source": [
    "import time\n",
    "for i in range(4):\n",
    "    print(str(int(time.time()))[-2:])\n",
    "    time.sleep(1)"
   ]
  },
  {
   "cell_type": "code",
   "execution_count": 23,
   "metadata": {},
   "outputs": [
    {
     "name": "stdout",
     "output_type": "stream",
     "text": [
      "2020-12-31 00:43:22\n",
      "2020-12-31 00:43:23\n",
      "2020-12-31 00:43:24\n",
      "2020-12-31 00:43:25\n"
     ]
    }
   ],
   "source": [
    "import time\n",
    "\n",
    "for i in range(4):\n",
    "    print(time.strftime('%Y-%m-%d %H:%M:%S',time.localtime(time.time())))\n",
    "    time.sleep(1)"
   ]
  },
  {
   "cell_type": "code",
   "execution_count": 24,
   "metadata": {},
   "outputs": [
    {
     "name": "stdout",
     "output_type": "stream",
     "text": [
      "繁殖几个月？：3\n",
      "第1个月共 1 对兔子\n",
      "其中1月兔： 0\n",
      "其中2月兔： 1\n",
      "其中3月兔： 0\n",
      "其中成年兔： 0\n",
      "第2个月共 1 对兔子\n",
      "其中1月兔： 0\n",
      "其中2月兔： 0\n",
      "其中3月兔： 1\n",
      "其中成年兔： 0\n",
      "第3个月共 2 对兔子\n",
      "其中1月兔： 1\n",
      "其中2月兔： 0\n",
      "其中3月兔： 0\n",
      "其中成年兔： 1\n"
     ]
    }
   ],
   "source": [
    "month=int(input('繁殖几个月？：'))\n",
    "month_1=1\n",
    "month_2=0\n",
    "month_3=0\n",
    "month_elder=0\n",
    "for i in range(month):\n",
    "    month_1,month_2,month_3,month_elder=month_elder+month_3,month_1,month_2,month_elder+month_3\n",
    "    print('第%d个月共'%(i+1),month_1+month_2+month_3+month_elder,'对兔子')\n",
    "    print('其中1月兔：',month_1)\n",
    "    print('其中2月兔：',month_2)\n",
    "    print('其中3月兔：',month_3)\n",
    "    print('其中成年兔：',month_elder)"
   ]
  },
  {
   "cell_type": "code",
   "execution_count": 25,
   "metadata": {},
   "outputs": [
    {
     "name": "stdout",
     "output_type": "stream",
     "text": [
      "101\n",
      "103\n",
      "107\n",
      "109\n",
      "113\n",
      "127\n",
      "131\n",
      "137\n",
      "139\n",
      "149\n",
      "151\n",
      "157\n",
      "163\n",
      "167\n",
      "173\n",
      "179\n",
      "181\n",
      "191\n",
      "193\n",
      "197\n",
      "199\n",
      "\n",
      "Simplify the code with \"else\"\n",
      "\n",
      "101\n",
      "103\n",
      "107\n",
      "109\n",
      "113\n",
      "127\n",
      "131\n",
      "137\n",
      "139\n",
      "149\n",
      "151\n",
      "157\n",
      "163\n",
      "167\n",
      "173\n",
      "179\n",
      "181\n",
      "191\n",
      "193\n",
      "197\n",
      "199\n"
     ]
    }
   ],
   "source": [
    "import math\n",
    "for i in range(100,200):\n",
    "    flag=0\n",
    "    for j in range(2,round(math.sqrt(i)+1)):\n",
    "        if i%j==0:\n",
    "            flag=1\n",
    "            break\n",
    "    if flag:\n",
    "        continue\n",
    "    print(i)\n",
    "    \n",
    "print('\\nSimplify the code with \"else\"\\n')\n",
    "\n",
    "for i in range(100,200):\n",
    "    for j in range(2,round(math.sqrt(i)+1)):\n",
    "        if i%j==0:\n",
    "            break\n",
    "    else:\n",
    "        print(i)"
   ]
  },
  {
   "cell_type": "code",
   "execution_count": 26,
   "metadata": {},
   "outputs": [
    {
     "name": "stdout",
     "output_type": "stream",
     "text": [
      "153\n",
      "370\n",
      "371\n",
      "407\n"
     ]
    }
   ],
   "source": [
    "for i in range(100,1000):\n",
    "    s=str(i)\n",
    "    one=int(s[-1])\n",
    "    ten=int(s[-2])\n",
    "    hun=int(s[-3])\n",
    "    if i ==one**3+ten**3+hun**3:\n",
    "        print(i)"
   ]
  },
  {
   "cell_type": "code",
   "execution_count": 28,
   "metadata": {},
   "outputs": [
    {
     "name": "stdout",
     "output_type": "stream",
     "text": [
      "输入一个整数：25\n",
      "25 =5*5"
     ]
    }
   ],
   "source": [
    "target=int(input('输入一个整数：'))\n",
    "print(target,'=',end='')\n",
    "\n",
    "if target<0:\n",
    "    target=abs(target)\n",
    "    print('-1*',end='')\n",
    "    \n",
    "flag=0\n",
    "if target<=1:\n",
    "    print(target)\n",
    "    flag=1\n",
    "    \n",
    "while True:\n",
    "    if flag:\n",
    "        break\n",
    "    for i in range(2,int(target+1)):\n",
    "        if target%i==0:\n",
    "            print(\"%d\"%i,end='')\n",
    "            if target==i:\n",
    "                flag=1\n",
    "                break\n",
    "            print('*',end='')\n",
    "            target/=i\n",
    "            break"
   ]
  },
  {
   "cell_type": "code",
   "execution_count": 30,
   "metadata": {},
   "outputs": [
    {
     "name": "stdout",
     "output_type": "stream",
     "text": [
      "输入分数：3\n",
      "C\n"
     ]
    }
   ],
   "source": [
    "points=int(input('输入分数：'))\n",
    "if points>=90:\n",
    "    grade='A'\n",
    "elif points<=60:\n",
    "    grade='C'\n",
    "else:\n",
    "    grade='B'\n",
    "print(grade)"
   ]
  },
  {
   "cell_type": "code",
   "execution_count": 33,
   "metadata": {},
   "outputs": [
    {
     "name": "stdout",
     "output_type": "stream",
     "text": [
      "2020-12-31\n",
      "2333-02-03\n",
      "31/122020\n",
      "1133-02-03\n"
     ]
    }
   ],
   "source": [
    "import datetime\n",
    "print(datetime.date.today())\n",
    "print(datetime.date(2333,2,3))\n",
    "print(datetime.date.today().strftime('%d/%m%Y'))\n",
    "day=datetime.date(1111,2,3)\n",
    "day=day.replace(year=day.year+22)\n",
    "print(day)"
   ]
  },
  {
   "cell_type": "code",
   "execution_count": 34,
   "metadata": {},
   "outputs": [
    {
     "name": "stdout",
     "output_type": "stream",
     "text": [
      "输入字符串：local\n",
      "sapce: 0\n",
      "digit: 0\n",
      "alpha: 5\n",
      "other: 0\n"
     ]
    }
   ],
   "source": [
    "string=input('输入字符串：')\n",
    "alp=0\n",
    "num=0\n",
    "spa=0\n",
    "oth=0\n",
    "for i in range(len(string)):\n",
    "    if string[i].isspace():\n",
    "        spa+=1\n",
    "    elif string[i].isdigit():\n",
    "        num+=1\n",
    "    elif string[i].isalpha():\n",
    "        alp+=1\n",
    "    else:\n",
    "        oth+=1\n",
    "print('sapce:',spa)\n",
    "print('digit:',num)\n",
    "print('alpha:',alp)\n",
    "print('other:',oth)"
   ]
  },
  {
   "cell_type": "code",
   "execution_count": 35,
   "metadata": {},
   "outputs": [
    {
     "name": "stdout",
     "output_type": "stream",
     "text": [
      "被加数字：25\n",
      "加几次？：6\n",
      "结果是： 2802465\n"
     ]
    }
   ],
   "source": [
    "a=input('被加数字：')\n",
    "n=int(input('加几次？：'))\n",
    "res=0\n",
    "for i in range(n):\n",
    "    res+=int(a)\n",
    "    a+=a[0]\n",
    "print('结果是：',res)"
   ]
  },
  {
   "cell_type": "code",
   "execution_count": 36,
   "metadata": {},
   "outputs": [
    {
     "name": "stdout",
     "output_type": "stream",
     "text": [
      "6\n",
      "28\n",
      "496\n"
     ]
    }
   ],
   "source": [
    "def factor(num):\n",
    "    target=int(num)\n",
    "    res=set()\n",
    "    for i in range(1,num):\n",
    "        if num%i==0:\n",
    "            res.add(i)\n",
    "            res.add(num/i)\n",
    "    return res\n",
    "\n",
    "for i in range(2,1001):\n",
    "    if i==sum(factor(i))-i:\n",
    "        print(i)"
   ]
  },
  {
   "cell_type": "code",
   "execution_count": 37,
   "metadata": {},
   "outputs": [
    {
     "name": "stdout",
     "output_type": "stream",
     "text": [
      "50.0\n",
      "25.0\n",
      "12.5\n",
      "6.25\n",
      "3.125\n",
      "1.5625\n",
      "0.78125\n",
      "0.390625\n",
      "0.1953125\n",
      "0.09765625\n",
      "总长： 299.8046875\n"
     ]
    }
   ],
   "source": [
    "high=200.\n",
    "total=100\n",
    "for i in range(10):\n",
    "    high/=2\n",
    "    total+=high\n",
    "    print(high/2)\n",
    "print('总长：',total)"
   ]
  },
  {
   "cell_type": "code",
   "execution_count": 38,
   "metadata": {},
   "outputs": [
    {
     "name": "stdout",
     "output_type": "stream",
     "text": [
      "1534\n"
     ]
    }
   ],
   "source": [
    "peach=1\n",
    "for i in range(9):\n",
    "    peach=(peach+1)*2\n",
    "print(peach)"
   ]
  },
  {
   "cell_type": "code",
   "execution_count": 40,
   "metadata": {},
   "outputs": [
    {
     "ename": "TypeError",
     "evalue": "The fill character must be exactly one character long",
     "output_type": "error",
     "traceback": [
      "\u001b[1;31m---------------------------------------------------------------------------\u001b[0m",
      "\u001b[1;31mTypeError\u001b[0m                                 Traceback (most recent call last)",
      "\u001b[1;32m<ipython-input-40-3329b43dc1af>\u001b[0m in \u001b[0;36m<module>\u001b[1;34m\u001b[0m\n\u001b[0;32m      5\u001b[0m         \u001b[0mdraw\u001b[0m\u001b[1;33m(\u001b[0m\u001b[0mnum\u001b[0m\u001b[1;33m-\u001b[0m\u001b[1;36m1\u001b[0m\u001b[1;33m)\u001b[0m\u001b[1;33m\u001b[0m\u001b[1;33m\u001b[0m\u001b[0m\n\u001b[0;32m      6\u001b[0m         \u001b[0mprint\u001b[0m\u001b[1;33m(\u001b[0m\u001b[0ma\u001b[0m\u001b[1;33m.\u001b[0m\u001b[0mcenter\u001b[0m\u001b[1;33m(\u001b[0m\u001b[1;36m9\u001b[0m\u001b[1;33m,\u001b[0m\u001b[1;34m''\u001b[0m\u001b[1;33m)\u001b[0m\u001b[1;33m)\u001b[0m\u001b[1;33m\u001b[0m\u001b[1;33m\u001b[0m\u001b[0m\n\u001b[1;32m----> 7\u001b[1;33m \u001b[0mdraw\u001b[0m\u001b[1;33m(\u001b[0m\u001b[1;36m4\u001b[0m\u001b[1;33m)\u001b[0m\u001b[1;33m\u001b[0m\u001b[1;33m\u001b[0m\u001b[0m\n\u001b[0m",
      "\u001b[1;32m<ipython-input-40-3329b43dc1af>\u001b[0m in \u001b[0;36mdraw\u001b[1;34m(num)\u001b[0m\n\u001b[0;32m      1\u001b[0m \u001b[1;32mdef\u001b[0m \u001b[0mdraw\u001b[0m\u001b[1;33m(\u001b[0m\u001b[0mnum\u001b[0m\u001b[1;33m)\u001b[0m\u001b[1;33m:\u001b[0m\u001b[1;33m\u001b[0m\u001b[1;33m\u001b[0m\u001b[0m\n\u001b[0;32m      2\u001b[0m     \u001b[0ma\u001b[0m\u001b[1;33m=\u001b[0m\u001b[1;34m\"*\"\u001b[0m\u001b[1;33m*\u001b[0m\u001b[1;33m(\u001b[0m\u001b[1;36m2\u001b[0m\u001b[1;33m*\u001b[0m\u001b[1;33m(\u001b[0m\u001b[1;36m4\u001b[0m\u001b[1;33m-\u001b[0m\u001b[0mnum\u001b[0m\u001b[1;33m)\u001b[0m\u001b[1;33m+\u001b[0m\u001b[1;36m1\u001b[0m\u001b[1;33m)\u001b[0m\u001b[1;33m\u001b[0m\u001b[1;33m\u001b[0m\u001b[0m\n\u001b[1;32m----> 3\u001b[1;33m     \u001b[0mprint\u001b[0m\u001b[1;33m(\u001b[0m\u001b[0ma\u001b[0m\u001b[1;33m.\u001b[0m\u001b[0mcenter\u001b[0m\u001b[1;33m(\u001b[0m\u001b[1;36m9\u001b[0m\u001b[1;33m,\u001b[0m\u001b[1;34m''\u001b[0m\u001b[1;33m)\u001b[0m\u001b[1;33m)\u001b[0m\u001b[1;33m\u001b[0m\u001b[1;33m\u001b[0m\u001b[0m\n\u001b[0m\u001b[0;32m      4\u001b[0m     \u001b[1;32mif\u001b[0m \u001b[0mnum\u001b[0m\u001b[1;33m!=\u001b[0m\u001b[1;36m1\u001b[0m\u001b[1;33m:\u001b[0m\u001b[1;33m\u001b[0m\u001b[1;33m\u001b[0m\u001b[0m\n\u001b[0;32m      5\u001b[0m         \u001b[0mdraw\u001b[0m\u001b[1;33m(\u001b[0m\u001b[0mnum\u001b[0m\u001b[1;33m-\u001b[0m\u001b[1;36m1\u001b[0m\u001b[1;33m)\u001b[0m\u001b[1;33m\u001b[0m\u001b[1;33m\u001b[0m\u001b[0m\n",
      "\u001b[1;31mTypeError\u001b[0m: The fill character must be exactly one character long"
     ]
    }
   ],
   "source": [
    "def draw(num):\n",
    "    a=\"*\"*(2*(4-num)+1)\n",
    "    print(a.center(9,''))\n",
    "    if num!=1:\n",
    "        draw(num-1)\n",
    "        print(a.center(9,''))\n",
    "draw(4)"
   ]
  },
  {
   "cell_type": "code",
   "execution_count": 42,
   "metadata": {},
   "outputs": [
    {
     "name": "stdout",
     "output_type": "stream",
     "text": [
      "insert a number:6\n",
      "[1, 6, 10, 100, 1000, 10000, 100000]\n"
     ]
    }
   ],
   "source": [
    "lis=[1,10,100,1000,10000,100000]\n",
    "n=int(input('insert a number:'))\n",
    "lis.append(n)\n",
    "for i in range(len(lis)-1):\n",
    "    if lis[i]>=n:\n",
    "        for j in range(i,len(lis)):\n",
    "            lis[j],lis[-1]=lis[-1],lis[j]\n",
    "        break\n",
    "print(lis)"
   ]
  },
  {
   "cell_type": "code",
   "execution_count": 43,
   "metadata": {},
   "outputs": [
    {
     "name": "stdout",
     "output_type": "stream",
     "text": [
      "0\n",
      "0\n",
      "0\n",
      "1\n",
      "0\n",
      "2\n",
      "0\n",
      "3\n",
      "0\n",
      "4\n",
      "0\n",
      "5\n",
      "0\n",
      "6\n",
      "0\n",
      "7\n",
      "0\n",
      "8\n",
      "0\n",
      "9\n",
      "0\n",
      "10\n",
      "0\n",
      "11\n",
      "0\n",
      "12\n",
      "0\n",
      "13\n",
      "0\n",
      "14\n",
      "0\n",
      "15\n",
      "0\n",
      "16\n",
      "0\n",
      "17\n",
      "0\n",
      "18\n",
      "0\n",
      "19\n",
      "0\n",
      "20\n",
      "0\n",
      "21\n",
      "0\n",
      "22\n",
      "0\n",
      "23\n",
      "0\n",
      "24\n",
      "0\n",
      "25\n",
      "0\n",
      "26\n",
      "0\n",
      "27\n",
      "0\n",
      "28\n",
      "0\n",
      "29\n",
      "0\n",
      "30\n",
      "0\n",
      "31\n",
      "0\n",
      "32\n",
      "0\n",
      "33\n",
      "0\n",
      "34\n",
      "0\n",
      "35\n",
      "0\n",
      "36\n",
      "0\n",
      "37\n",
      "0\n",
      "38\n",
      "0\n",
      "39\n",
      "0\n",
      "40\n",
      "0\n",
      "41\n",
      "0\n",
      "42\n",
      "0\n",
      "43\n",
      "0\n",
      "44\n",
      "0\n",
      "45\n",
      "0\n",
      "46\n",
      "0\n",
      "47\n",
      "0\n",
      "48\n",
      "0\n",
      "49\n"
     ]
    }
   ],
   "source": [
    "def dumpy():\n",
    "    i=0\n",
    "    print(i)\n",
    "    i+=1\n",
    "    \n",
    "class cls:\n",
    "    i=0\n",
    "    def dumpy(self):\n",
    "        print(self.i)\n",
    "        self.i+=1\n",
    "        \n",
    "a=cls()\n",
    "for i in range(50):\n",
    "    dumpy()\n",
    "    a.dumpy()"
   ]
  },
  {
   "cell_type": "code",
   "execution_count": 45,
   "metadata": {},
   "outputs": [
    {
     "name": "stdout",
     "output_type": "stream",
     "text": [
      "函数内部的同名变量\n",
      "0\n",
      "0\n",
      "1\n",
      "0\n",
      "2\n",
      "0\n",
      "3\n",
      "0\n",
      "4\n",
      "0\n",
      "5\n",
      "0\n",
      "6\n",
      "0\n",
      "7\n",
      "0\n",
      "8\n",
      "0\n",
      "9\n",
      "0\n",
      "10\n",
      "0\n",
      "11\n",
      "0\n",
      "12\n",
      "0\n",
      "13\n",
      "0\n",
      "14\n",
      "0\n",
      "15\n",
      "0\n",
      "16\n",
      "0\n",
      "17\n",
      "0\n",
      "18\n",
      "0\n",
      "19\n",
      "0\n",
      "global声明同名变量\n",
      "0\n",
      "0\n",
      "11\n",
      "11\n",
      "22\n",
      "22\n",
      "33\n",
      "33\n",
      "44\n",
      "44\n",
      "55\n",
      "55\n",
      "66\n",
      "66\n",
      "77\n",
      "77\n",
      "88\n",
      "88\n",
      "99\n",
      "99\n",
      "110\n",
      "110\n",
      "121\n",
      "121\n",
      "132\n",
      "132\n",
      "143\n",
      "143\n",
      "154\n",
      "154\n",
      "165\n",
      "165\n",
      "176\n",
      "176\n",
      "187\n",
      "187\n",
      "198\n",
      "198\n",
      "209\n",
      "209\n"
     ]
    }
   ],
   "source": [
    "i=0\n",
    "n=0\n",
    "def dumpy():\n",
    "    i=0\n",
    "    print(i)\n",
    "    i+=1\n",
    "def dumpy2():\n",
    "    global n\n",
    "    print(n)\n",
    "    n+=1\n",
    "print('函数内部的同名变量')\n",
    "for j in range(20):\n",
    "    print(i)\n",
    "    dumpy()\n",
    "    i+=1\n",
    "print('global声明同名变量')\n",
    "for k in range(20):\n",
    "    print(n)\n",
    "    dumpy2()\n",
    "    n+=10"
   ]
  },
  {
   "cell_type": "code",
   "execution_count": 46,
   "metadata": {},
   "outputs": [
    {
     "name": "stdout",
     "output_type": "stream",
     "text": [
      "class dumpy num: 1\n",
      "global num: 10\n",
      "class dumpy num: 2\n",
      "global num: 100\n",
      "class dumpy num: 3\n",
      "global num: 1000\n",
      "class dumpy num: 4\n",
      "global num: 10000\n",
      "class dumpy num: 5\n",
      "global num: 100000\n"
     ]
    }
   ],
   "source": [
    "class dumpy:\n",
    "    num=1\n",
    "    def Num(self):\n",
    "        print('class dumpy num:',self.num)\n",
    "        print('global num:',num)\n",
    "        self.num+=1\n",
    "        \n",
    "n=dumpy()\n",
    "num=1\n",
    "for i in range(5):\n",
    "    num*=10\n",
    "    n.Num()"
   ]
  },
  {
   "cell_type": "code",
   "execution_count": 49,
   "metadata": {},
   "outputs": [],
   "source": [
    "from tkinter import *\n",
    "canvas=Canvas(width=800,height=600,bg='yellow')\n",
    "canvas.pack(expand=YES,fill=BOTH)\n",
    "k=1\n",
    "j=1\n",
    "for i in range(26):\n",
    "    canvas.create_oval(310-k,250-k,310+k,250+k,width=1)\n",
    "    k+=j\n",
    "    j+=0.3\n",
    "mainloop()"
   ]
  },
  {
   "cell_type": "code",
   "execution_count": 50,
   "metadata": {},
   "outputs": [
    {
     "name": "stdout",
     "output_type": "stream",
     "text": [
      "['aaaa', 'aaba', 'abaa', 'abbb', 'baaa']\n"
     ]
    }
   ],
   "source": [
    "l=['baaa','abbb','aaba','aaaa','abaa']\n",
    "l.sort()\n",
    "print(l)"
   ]
  },
  {
   "cell_type": "code",
   "execution_count": 1,
   "metadata": {},
   "outputs": [
    {
     "name": "stdout",
     "output_type": "stream",
     "text": [
      "13\n"
     ]
    }
   ],
   "source": [
    "s='zhangguang101'\n",
    "print(len(s))"
   ]
  },
  {
   "cell_type": "code",
   "execution_count": 2,
   "metadata": {},
   "outputs": [
    {
     "name": "stdout",
     "output_type": "stream",
     "text": [
      "[1]\n",
      "[1, 1]\n",
      "[1, 2, 1]\n",
      "[1, 3, 3, 1]\n",
      "[1, 4, 6, 4, 1]\n",
      "[1, 5, 10, 10, 5, 1]\n",
      "[1, 6, 15, 20, 15, 6, 1]\n",
      "[1, 7, 21, 35, 35, 21, 7, 1]\n",
      "[1, 8, 28, 56, 70, 56, 28, 8, 1]\n",
      "[1, 9, 36, 84, 126, 126, 84, 36, 9, 1]\n"
     ]
    }
   ],
   "source": [
    "def generate(numRows):\n",
    "    r=[[1]]\n",
    "    for i in range(1,numRows):\n",
    "        r.append(list(map(lambda x,y:x+y,[0]+r[-1],r[-1]+[0])))\n",
    "    return r[:numRows]\n",
    "a=generate(10)\n",
    "for i in a :\n",
    "    print(i)"
   ]
  },
  {
   "cell_type": "code",
   "execution_count": 8,
   "metadata": {},
   "outputs": [
    {
     "ename": "SyntaxError",
     "evalue": "invalid syntax (<ipython-input-8-dd74ecc17bf7>, line 4)",
     "output_type": "error",
     "traceback": [
      "\u001b[1;36m  File \u001b[1;32m\"<ipython-input-8-dd74ecc17bf7>\"\u001b[1;36m, line \u001b[1;32m4\u001b[0m\n\u001b[1;33m    raw.append(x)\u001b[0m\n\u001b[1;37m    ^\u001b[0m\n\u001b[1;31mSyntaxError\u001b[0m\u001b[1;31m:\u001b[0m invalid syntax\n"
     ]
    }
   ],
   "source": [
    "raw=[]\n",
    "for i in range(3):\n",
    "    x=int(input('int%d:'%(i))\n",
    "    raw.append(x)\n",
    "\n",
    "for i in range(len(raw)):\n",
    "    x=int(input('int%d:'%(i)))\n",
    "    raw2.append(x)\n",
    "print(sorted(raw2))"
   ]
  },
  {
   "cell_type": "code",
   "execution_count": 9,
   "metadata": {},
   "outputs": [
    {
     "name": "stdout",
     "output_type": "stream",
     "text": [
      "[1, 2, 3, 4, 5, 6, 7, 8, 9]\n",
      "rotate:5\n",
      "[5, 6, 7, 8, 9, 1, 2, 3, 4]\n"
     ]
    }
   ],
   "source": [
    "from collections import *\n",
    "li=[1,2,3,4,5,6,7,8,9]\n",
    "deq=deque(li,maxlen=len(li))\n",
    "print(li)\n",
    "deq.rotate(int(input('rotate:')))\n",
    "print(list(deq))"
   ]
  },
  {
   "cell_type": "code",
   "execution_count": 12,
   "metadata": {},
   "outputs": [
    {
     "name": "stdout",
     "output_type": "stream",
     "text": [
      "请输入总人数：65\n",
      "56\n"
     ]
    }
   ],
   "source": [
    "if __name__=='__main__':\n",
    "    nmax=50\n",
    "    n=int(input('请输入总人数：'))\n",
    "    num=[]\n",
    "    for i in range(n):\n",
    "        num.append(i+1)\n",
    "        \n",
    "    i=0\n",
    "    k=0\n",
    "    m=0\n",
    "    \n",
    "    while m<n-1:\n",
    "        if num[i]!=0:k+=1\n",
    "        if  k==3:\n",
    "            num[i]=0\n",
    "            k=0\n",
    "            m+=1\n",
    "        i+=1\n",
    "        if i==n:i=0\n",
    "        \n",
    "    i=0\n",
    "    while num[i]==0:i+=1\n",
    "    print(num[i])"
   ]
  },
  {
   "cell_type": "markdown",
   "metadata": {},
   "source": []
  }
 ],
 "metadata": {
  "kernelspec": {
   "display_name": "Python 3",
   "language": "python",
   "name": "python3"
  },
  "language_info": {
   "codemirror_mode": {
    "name": "ipython",
    "version": 3
   },
   "file_extension": ".py",
   "mimetype": "text/x-python",
   "name": "python",
   "nbconvert_exporter": "python",
   "pygments_lexer": "ipython3",
   "version": "3.8.3"
  }
 },
 "nbformat": 4,
 "nbformat_minor": 4
}
