{
 "cells": [
  {
   "cell_type": "code",
   "execution_count": 2,
   "metadata": {},
   "outputs": [
    {
     "ename": "IndentationError",
     "evalue": "unexpected indent (<ipython-input-2-afeb93599d71>, line 17)",
     "output_type": "error",
     "traceback": [
      "\u001b[1;36m  File \u001b[1;32m\"<ipython-input-2-afeb93599d71>\"\u001b[1;36m, line \u001b[1;32m17\u001b[0m\n\u001b[1;33m    def parse_item(self,response):\u001b[0m\n\u001b[1;37m    ^\u001b[0m\n\u001b[1;31mIndentationError\u001b[0m\u001b[1;31m:\u001b[0m unexpected indent\n"
     ]
    }
   ],
   "source": [
    "print(95)\n",
    "from scrapy.linkextractors import LinkExractor\n",
    "from scrapy.spiders import CrawlSpider,Rule\n",
    "from qd.items import QdItem\n",
    "import requests\n",
    "\n",
    "# class ReadSpider(CrawlSpider):\n",
    "#     name = 'read'\n",
    "#     #allowed_domains = ['qidian']\n",
    "#     start_urls = ['']\n",
    "#     rules = (\n",
    "#         #匹配全部主页面的url规则  深度爬取子页面\n",
    "#         Rule(LinkExtractor(allow=('')))\n",
    "#         #匹配详情页面 不作深度爬取\n",
    "#         Rule(LinkExtractor(allow=r''),callback='parse_item',follow=False)\n",
    "#     )\n",
    "    def parse_item(self,response):\n",
    "        item=QdItem()\n",
    "        item['book_name']=self.get_book_name(response)\n",
    "        item['author']=self.get_author(response)\n",
    "        item['state']=self.get_state(response)\n",
    "        item['type']=self.get_type(response)\n",
    "        item['about']=self.get_about(response)\n",
    "        item['score']=self.get_score(response)\n",
    "        item['story']=self.get_story(response)\n",
    "        item['news']=self.get_news(response)\n",
    "        yield item\n",
    "        \n",
    "    def get_book_name(self,response):\n",
    "        book_name = response.xpath('//h1/em/text()').extract()[0]\n",
    "        if len(book_name)>0:\n",
    "            book_name=book_name.strip()\n",
    "        else:\n",
    "            book_name='NULL'\n",
    "        return book_name\n",
    "    def get_author(self,response):\n",
    "        author=respose.xpath('//h1/span/a/text()').extract()[0]\n",
    "        if len(author)>0:\n",
    "            author=author.strip()\n",
    "        else:\n",
    "            author='NULL'\n",
    "        return author\n",
    "    def get_state(self,response):\n",
    "        state=response.xpath('//p[@class=\"tag\"]/span/text()').extract()[0]\n",
    "        if len(state)>0:\n",
    "            state=state.strip()\n",
    "        else:\n",
    "            st='NULL'\n",
    "        return state\n",
    "    def get_type(self,response):\n",
    "        type=response.xpath('//p[@class=\"tag\"]/a/text()').extract()[0]\n",
    "        if len(type)>0:\n",
    "            t=\"\"\n",
    "            for i in type:\n",
    "                t+=' '+i\n",
    "            type=t\n",
    "        else:\n",
    "            type='NULL'\n",
    "        return type\n",
    "    def get_about(self,response):\n",
    "        about=response.xpath('//p[@class=\"intro\"]/text()').extract()[0]\n",
    "        if len(about)>0:\n",
    "            about=about.strip()\n",
    "        else:\n",
    "            about = 'NULL'\n",
    "        return about\n",
    "    def get_score(self,response):\n",
    "        \n",
    "        def get_sc(id):\n",
    "            urll = ''\n",
    "            rr = requests.get(urll)\n",
    "            #print(rr)\n",
    "            score = rr.text[16:19]\n",
    "            return score\n",
    "        #获取书的id\n",
    "        bid = response.xpath('//a[@id=\"bookImg\"]/@data-bid').extract()[0]\n",
    "        if len(bid)>0:\n",
    "            #调用方法获取评分，若是整数，可能返回9，\"\n",
    "            score=get_sc(bid)\n",
    "            if score[1] == ',':\n",
    "                score=score.replace(',''',\".0\")   #???\n",
    "            else:\n",
    "                score=score\n",
    "        else:\n",
    "            score=\"NULL\"\n",
    "        return score\n",
    "    def get_story(self,response):\n",
    "        story=response.xpath('//div[@class=\"book-intro\"]/p/text()').extract()[0]\n",
    "        if len(story)>0:\n",
    "            story=story.strip()\n",
    "        else:\n",
    "            story='NULL'\n",
    "        return story\n",
    "    def get_news(self,response):\n",
    "        news=response.xpath('//div[@class=\"detail\"]/p[@class=\"cf\"]/a/text()').extract()[0]\n",
    "        if len(news)>0:\n",
    "            news=news.strip()\n",
    "        else:\n",
    "            news='NULL'\n",
    "        return news"
   ]
  },
  {
   "cell_type": "code",
   "execution_count": 6,
   "metadata": {},
   "outputs": [
    {
     "name": "stdout",
     "output_type": "stream",
     "text": [
      "uvb7\n",
      "110\n"
     ]
    }
   ],
   "source": [
    "import random\n",
    "#四位数字字母验证码的生成\n",
    "if __name__==\"__main__\":\n",
    "    #保存验证码的变量\n",
    "    checkcode=\"\"\n",
    "    for i in range(4):\n",
    "        index=random.randrange(0,4)\n",
    "        if index!=i and index +1 !=i:\n",
    "            checkcode += chr(random.randint(97,122))\n",
    "        elif index +1 == i:\n",
    "            checkcode +=chr(random.randint(65,90))\n",
    "        else:\n",
    "            checkcode +=str(random.randint(1,9))\n",
    "    print(checkcode)  \n",
    "print(110)"
   ]
  },
  {
   "cell_type": "code",
   "execution_count": 7,
   "metadata": {},
   "outputs": [
    {
     "ename": "KeyboardInterrupt",
     "evalue": "Interrupted by user",
     "output_type": "error",
     "traceback": [
      "\u001b[1;31m---------------------------------------------------------------------------\u001b[0m",
      "\u001b[1;31mKeyboardInterrupt\u001b[0m                         Traceback (most recent call last)",
      "\u001b[1;32m<ipython-input-7-e7508c40266d>\u001b[0m in \u001b[0;36m<module>\u001b[1;34m\u001b[0m\n\u001b[0;32m     12\u001b[0m         \u001b[1;32mreturn\u001b[0m \u001b[1;34m'对不起，没有你想要找的问题'\u001b[0m\u001b[1;33m\u001b[0m\u001b[1;33m\u001b[0m\u001b[0m\n\u001b[0;32m     13\u001b[0m \u001b[1;32mif\u001b[0m \u001b[0m__name__\u001b[0m\u001b[1;33m==\u001b[0m\u001b[1;34m'__main__'\u001b[0m\u001b[1;33m:\u001b[0m\u001b[1;33m\u001b[0m\u001b[1;33m\u001b[0m\u001b[0m\n\u001b[1;32m---> 14\u001b[1;33m     \u001b[0mquestion\u001b[0m\u001b[1;33m=\u001b[0m\u001b[0minput\u001b[0m\u001b[1;33m(\u001b[0m\u001b[1;34m'请输入想要提问的内容：'\u001b[0m\u001b[1;33m)\u001b[0m\u001b[1;33m\u001b[0m\u001b[1;33m\u001b[0m\u001b[0m\n\u001b[0m\u001b[0;32m     15\u001b[0m     \u001b[1;32mwhile\u001b[0m \u001b[1;32mTrue\u001b[0m\u001b[1;33m:\u001b[0m\u001b[1;33m\u001b[0m\u001b[1;33m\u001b[0m\u001b[0m\n\u001b[0;32m     16\u001b[0m         \u001b[1;32mif\u001b[0m \u001b[0mquestion\u001b[0m\u001b[1;33m==\u001b[0m\u001b[1;34m'bye'\u001b[0m\u001b[1;33m:\u001b[0m\u001b[1;33m\u001b[0m\u001b[1;33m\u001b[0m\u001b[0m\n",
      "\u001b[1;32md:\\python39\\lib\\site-packages\\ipykernel\\kernelbase.py\u001b[0m in \u001b[0;36mraw_input\u001b[1;34m(self, prompt)\u001b[0m\n\u001b[0;32m    858\u001b[0m                 \u001b[1;34m\"raw_input was called, but this frontend does not support input requests.\"\u001b[0m\u001b[1;33m\u001b[0m\u001b[1;33m\u001b[0m\u001b[0m\n\u001b[0;32m    859\u001b[0m             )\n\u001b[1;32m--> 860\u001b[1;33m         return self._input_request(str(prompt),\n\u001b[0m\u001b[0;32m    861\u001b[0m             \u001b[0mself\u001b[0m\u001b[1;33m.\u001b[0m\u001b[0m_parent_ident\u001b[0m\u001b[1;33m,\u001b[0m\u001b[1;33m\u001b[0m\u001b[1;33m\u001b[0m\u001b[0m\n\u001b[0;32m    862\u001b[0m             \u001b[0mself\u001b[0m\u001b[1;33m.\u001b[0m\u001b[0m_parent_header\u001b[0m\u001b[1;33m,\u001b[0m\u001b[1;33m\u001b[0m\u001b[1;33m\u001b[0m\u001b[0m\n",
      "\u001b[1;32md:\\python39\\lib\\site-packages\\ipykernel\\kernelbase.py\u001b[0m in \u001b[0;36m_input_request\u001b[1;34m(self, prompt, ident, parent, password)\u001b[0m\n\u001b[0;32m    902\u001b[0m             \u001b[1;32mexcept\u001b[0m \u001b[0mKeyboardInterrupt\u001b[0m\u001b[1;33m:\u001b[0m\u001b[1;33m\u001b[0m\u001b[1;33m\u001b[0m\u001b[0m\n\u001b[0;32m    903\u001b[0m                 \u001b[1;31m# re-raise KeyboardInterrupt, to truncate traceback\u001b[0m\u001b[1;33m\u001b[0m\u001b[1;33m\u001b[0m\u001b[1;33m\u001b[0m\u001b[0m\n\u001b[1;32m--> 904\u001b[1;33m                 \u001b[1;32mraise\u001b[0m \u001b[0mKeyboardInterrupt\u001b[0m\u001b[1;33m(\u001b[0m\u001b[1;34m\"Interrupted by user\"\u001b[0m\u001b[1;33m)\u001b[0m \u001b[1;32mfrom\u001b[0m \u001b[1;32mNone\u001b[0m\u001b[1;33m\u001b[0m\u001b[1;33m\u001b[0m\u001b[0m\n\u001b[0m\u001b[0;32m    905\u001b[0m             \u001b[1;32mexcept\u001b[0m \u001b[0mException\u001b[0m \u001b[1;32mas\u001b[0m \u001b[0me\u001b[0m\u001b[1;33m:\u001b[0m\u001b[1;33m\u001b[0m\u001b[1;33m\u001b[0m\u001b[0m\n\u001b[0;32m    906\u001b[0m                 \u001b[0mself\u001b[0m\u001b[1;33m.\u001b[0m\u001b[0mlog\u001b[0m\u001b[1;33m.\u001b[0m\u001b[0mwarning\u001b[0m\u001b[1;33m(\u001b[0m\u001b[1;34m\"Invalid Message:\"\u001b[0m\u001b[1;33m,\u001b[0m \u001b[0mexc_info\u001b[0m\u001b[1;33m=\u001b[0m\u001b[1;32mTrue\u001b[0m\u001b[1;33m)\u001b[0m\u001b[1;33m\u001b[0m\u001b[1;33m\u001b[0m\u001b[0m\n",
      "\u001b[1;31mKeyboardInterrupt\u001b[0m: Interrupted by user"
     ]
    }
   ],
   "source": [
    "#模拟淘宝客服自动回复\n",
    "def find_answer(question):\n",
    "    with open('reply.txt','r') as f:\n",
    "        while Ture:\n",
    "            line = f.readline()\n",
    "            if not line:\n",
    "                break\n",
    "            keyword = line.split('|')[0]\n",
    "            reply=line.solit('|')[1]\n",
    "            if keyword in question:\n",
    "                return reply\n",
    "        return '对不起，没有你想要找的问题'\n",
    "if __name__=='__main__':\n",
    "    question=input('请输入想要提问的内容：')\n",
    "    while True:\n",
    "        if question=='bye':\n",
    "            break\n",
    "        reply=find_answer(question)\n",
    "        if not reply:\n",
    "            question=input(\"小蜜不懂您在说什么，您可以问一些与订单、账户和支付相关的内容(退出请输入bye)\")\n",
    "        else:\n",
    "            print(reply)\n",
    "            question=input(\"您可以问一些与订单、账户和支付相关的内容（退出请输入bye）:\")\n",
    "    print('谢谢，再见！')\n",
    "print(135)"
   ]
  },
  {
   "cell_type": "code",
   "execution_count": 8,
   "metadata": {},
   "outputs": [
    {
     "name": "stdin",
     "output_type": "stream",
     "text": [
      "输入数字1： 1\n",
      "输入数字2： 2\n"
     ]
    },
    {
     "name": "stdout",
     "output_type": "stream",
     "text": [
      "2\n",
      "1\n",
      "1 is the maximum common divisor\n",
      "2 is the least commo  multiple,最小公倍数\n",
      "145\n"
     ]
    }
   ],
   "source": [
    "a = int(input('输入数字1：'))\n",
    "b = int(input('输入数字2：'))\n",
    "s=a*b\n",
    "while a%b!=0:\n",
    "    a,b=b,(a%b)\n",
    "    print(a)\n",
    "    print(b)\n",
    "else:\n",
    "    print(b,'is the maximum common divisor')\n",
    "    print(s//b,'is the least commo  multiple,最小公倍数')\n",
    "print(145)"
   ]
  },
  {
   "cell_type": "code",
   "execution_count": 10,
   "metadata": {},
   "outputs": [
    {
     "name": "stdin",
     "output_type": "stream",
     "text": [
      "please enter 1st num: 2\n",
      "please enter 2nd num: 3\n"
     ]
    },
    {
     "name": "stdout",
     "output_type": "stream",
     "text": [
      "1 is\n",
      "6 is\n"
     ]
    }
   ],
   "source": [
    "#更相损减法\n",
    "a=int(input('please enter 1st num:'))\n",
    "b=int(input('please enter 2nd num:'))\n",
    "s=a*b\n",
    "while a!=b:\n",
    "    if a>b:\n",
    "        a-=b\n",
    "    elif a<b:\n",
    "        b-=a\n",
    "else:\n",
    "    print(a,\"is\")\n",
    "    print(s//a,'is')\n",
    "#运行结果\n",
    "print(160)\n",
    "print(160)"
   ]
  },
  {
   "cell_type": "code",
   "execution_count": 12,
   "metadata": {},
   "outputs": [
    {
     "name": "stdin",
     "output_type": "stream",
     "text": [
      "请输入一个年份： 2021\n"
     ]
    },
    {
     "name": "stdout",
     "output_type": "stream",
     "text": [
      "2021 不是润年\n",
      "170\n"
     ]
    }
   ],
   "source": [
    "#判断是否是润年（辗转相除法）\n",
    "i = 1\n",
    "while i:\n",
    "    i-=1\n",
    "    try:\n",
    "        num=eval(input(\"请输入一个年份：\"))\n",
    "    except:\n",
    "        print('输入年份错误')\n",
    "        continue\n",
    "    if (num %4==0 and num%100 !=0) or num %400==0:\n",
    "        print(num,\"是闰年\")\n",
    "    else:\n",
    "        print(num,\"不是闰年\")\n",
    "print(170)\n",
    "        "
   ]
  },
  {
   "cell_type": "code",
   "execution_count": 13,
   "metadata": {},
   "outputs": [
    {
     "name": "stdin",
     "output_type": "stream",
     "text": [
      "请输入年份： 2021\n"
     ]
    },
    {
     "name": "stdout",
     "output_type": "stream",
     "text": [
      "2021 平年\n"
     ]
    }
   ],
   "source": [
    "import calendar\n",
    "year = int(input('请输入年份：'))\n",
    "check_year=calendar.isleap(year)\n",
    "if check_year == True:\n",
    "    print(\"闰年\")\n",
    "else:\n",
    "    print(num,\"平年\")\n",
    "print(180)"
   ]
  },
  {
   "cell_type": "code",
   "execution_count": 15,
   "metadata": {},
   "outputs": [
    {
     "name": "stdout",
     "output_type": "stream",
     "text": [
      "在1000000次实验中：\n",
      "若不更改门，获胜概率为33.3%.\n",
      "若更改门，获胜概率为66.7%.\n"
     ]
    }
   ],
   "source": [
    "#羊车门问题\n",
    "import random as r\n",
    "#总次数\n",
    "total = 1000000\n",
    "#换与不换的获胜次数\n",
    "win1=0\n",
    "win2=0\n",
    "\n",
    "for i in range(total):\n",
    "    #模拟选择过程\n",
    "    man=r.randint(1,3)\n",
    "    car=r.randint(1,3)\n",
    "    #结果：一开始为车门，不换+1\n",
    "    #否则则一开始为羊门，换+1\n",
    "    if man == car:\n",
    "        win1+=1\n",
    "    else:\n",
    "        win2+=1\n",
    "print(\"在{}次实验中：\".format(total))\n",
    "print(\"若不更改门，获胜概率为{:.3}%.\".format((win1/total)*100))\n",
    "print(\"若更改门，获胜概率为{:.3}%.\".format((win2/total)*100))\n",
    "print(202)"
   ]
  },
  {
   "cell_type": "code",
   "execution_count": 16,
   "metadata": {},
   "outputs": [
    {
     "name": "stdout",
     "output_type": "stream",
     "text": [
      "360\n"
     ]
    }
   ],
   "source": [
    "a=10\n",
    "b=20\n",
    "c=30\n",
    "d=40\n",
    "e=50\n",
    "f=60\n",
    "h=70\n",
    "g=80\n",
    "print(a+b+c+d+e+f+h+g)"
   ]
  },
  {
   "cell_type": "code",
   "execution_count": null,
   "metadata": {},
   "outputs": [],
   "source": []
  }
 ],
 "metadata": {
  "kernelspec": {
   "display_name": "Python 3",
   "language": "python",
   "name": "python3"
  },
  "language_info": {
   "codemirror_mode": {
    "name": "ipython",
    "version": 3
   },
   "file_extension": ".py",
   "mimetype": "text/x-python",
   "name": "python",
   "nbconvert_exporter": "python",
   "pygments_lexer": "ipython3",
   "version": "3.9.0"
  }
 },
 "nbformat": 4,
 "nbformat_minor": 4
}
