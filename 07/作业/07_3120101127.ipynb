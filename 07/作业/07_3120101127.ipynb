{
 "cells": [
  {
   "cell_type": "code",
   "execution_count": 1,
   "metadata": {},
   "outputs": [
    {
     "name": "stdout",
     "output_type": "stream",
     "text": [
      "Runoob\n",
      "Runoo\n",
      "R\n",
      "noo\n",
      "noob\n",
      "uo\n",
      "RunoobRunoob\n",
      "Runoob你好\n",
      "--------------\n",
      "hello\n",
      "runoob\n",
      "hello\\nrunoob\n"
     ]
    }
   ],
   "source": [
    "str='Runoob'\n",
    "print(str)\n",
    "print(str[0:-1])\n",
    "print(str[0])\n",
    "print(str[2:5])\n",
    "print(str[2:])\n",
    "print(str[1:5:2])\n",
    "print(str*2)\n",
    "print(str+'你好')\n",
    "print('--------------')\n",
    "print('hello\\nrunoob')\n",
    "print(r'hello\\nrunoob')"
   ]
  },
  {
   "cell_type": "code",
   "execution_count": 2,
   "metadata": {},
   "outputs": [
    {
     "name": "stdout",
     "output_type": "stream",
     "text": [
      "{'Google', 'Taobao', 'Facebook', 'Baidu', 'Runoob', 'Zhihu'}\n",
      "Runoob在集合中\n",
      "{'a', 'd', 'r', 'b', 'c'}\n",
      "{'b', 'r', 'd'}\n",
      "{'a', 'd', 'r', 'z', 'b', 'c', 'm', 'l'}\n",
      "{'a', 'c'}\n",
      "{'r', 'd', 'm', 'l', 'z', 'b'}\n"
     ]
    }
   ],
   "source": [
    "sites={'Google','Taobao','Runoob','Facebook','Zhihu','Baidu'}\n",
    "print (sites)\n",
    "if 'Runoob' in sites:\n",
    "    print('Runoob在集合中')\n",
    "else:\n",
    "    print('Runoob不在集合中')\n",
    "a=set('abracadabra')\n",
    "b=set('alacazam')\n",
    "print(a)\n",
    "print(a-b)  #a和b的差集\n",
    "print(a|b)  #a和b的并集\n",
    "print(a&b)  #a和b的交集\n",
    "print(a^b)  #a和b中不同时存在的元素"
   ]
  },
  {
   "cell_type": "code",
   "execution_count": 3,
   "metadata": {},
   "outputs": [
    {
     "name": "stdout",
     "output_type": "stream",
     "text": [
      "1-变量a和b都为true\n",
      "2-变量a和b都为true，或其中一个变量为true\n",
      "3-变量a和b有一个不为true\n",
      "4-变量a和b都为true，或其中一个变量为true\n",
      "5-变量a和b都为false,或其中一个变量为false\n"
     ]
    }
   ],
   "source": [
    "a=15\n",
    "b=20\n",
    "if (a and b):\n",
    "    print(\"1-变量a和b都为true\")\n",
    "else:\n",
    "    print('1-变量a和b有一个不为true')\n",
    "if (a or b):\n",
    "    print(\"2-变量a和b都为true，或其中一个变量为true\")\n",
    "else:\n",
    "    print(\"2-变量a和b都不为true\")\n",
    "#修改变量a的值\n",
    "a=0\n",
    "if (a and b):\n",
    "    print(\"3-变量a和b都为true\")\n",
    "else:\n",
    "    print('3-变量a和b有一个不为true')\n",
    "if (a or b):\n",
    "    print(\"4-变量a和b都为true，或其中一个变量为true\")\n",
    "else:\n",
    "    print(\"4-变量a和b都不为true\")\n",
    "if not(a and b):\n",
    "    print(\"5-变量a和b都为false,或其中一个变量为false\")\n",
    "else:\n",
    "    print(\"5-变量a和b都为true\")"
   ]
  },
  {
   "cell_type": "code",
   "execution_count": 7,
   "metadata": {},
   "outputs": [
    {
     "name": "stdout",
     "output_type": "stream",
     "text": [
      "1-a和b没有相同的标识\n",
      "2-a和b没有相同的标识\n",
      "3-a和b没有相同的标识\n",
      "4-a和b没有相同的标识\n",
      "5-a和b没有相同的标识\n"
     ]
    }
   ],
   "source": [
    "a=10\n",
    "b=15\n",
    "if (a is b):\n",
    "    print(\"1-a和b有相同的标识\")\n",
    "else:\n",
    "    print(\"1-a和b没有相同的标识\")\n",
    "if (id(a)==id(b)):\n",
    "    print(\"2-a和b有相同的标识\")\n",
    "else:\n",
    "    print(\"2-a和b没有相同的标识\")\n",
    "b=30\n",
    "if (a is b):\n",
    "    print(\"3-a和b有相同的标识\")\n",
    "else:\n",
    "    print(\"3-a和b没有相同的标识\")\n",
    "if (id(a)==id(b)):\n",
    "    print(\"4-a和b有相同的标识\")\n",
    "else:\n",
    "    print(\"4-a和b没有相同的标识\")\n",
    "if (a is not b):\n",
    "    print(\"5-a和b没有相同的标识\")\n",
    "else:\n",
    "    print(\"5-a和b有相同的标识\")"
   ]
  },
  {
   "cell_type": "code",
   "execution_count": 5,
   "metadata": {},
   "outputs": [
    {
     "name": "stdout",
     "output_type": "stream",
     "text": [
      "您要输出几项? 30\n",
      "斐波那契数列:\n",
      "0\n",
      "1\n",
      "1\n",
      "2\n",
      "3\n",
      "5\n",
      "8\n",
      "13\n",
      "21\n",
      "34\n",
      "55\n",
      "89\n",
      "144\n",
      "233\n",
      "377\n",
      "610\n",
      "987\n",
      "1597\n",
      "2584\n",
      "4181\n",
      "6765\n",
      "10946\n",
      "17711\n",
      "28657\n",
      "46368\n",
      "75025\n",
      "121393\n",
      "196418\n",
      "317811\n",
      "514229\n"
     ]
    }
   ],
   "source": [
    "def recur_fibo(n):\n",
    "   if n <= 1:\n",
    "       return n\n",
    "   else:\n",
    "       return(recur_fibo(n-1) + recur_fibo(n-2))\n",
    "nterms = int(input(\"您要输出几项? \"))\n",
    "if nterms <= 0:\n",
    "   print(\"输入正数\")\n",
    "else:\n",
    "   print(\"斐波那契数列:\")\n",
    "   for i in range(nterms):\n",
    "       print(recur_fibo(i))"
   ]
  },
  {
   "cell_type": "code",
   "execution_count": 9,
   "metadata": {},
   "outputs": [
    {
     "name": "stdout",
     "output_type": "stream",
     "text": [
      "请输入一个数字: 18\n",
      "18 的阶乘为 6402373705728000\n"
     ]
    }
   ],
   "source": [
    "num = int(input(\"请输入一个数字: \"))\n",
    "factorial = 1\n",
    "if num < 0:\n",
    "   print(\"抱歉，负数没有阶乘\")\n",
    "elif num == 0:\n",
    "   print(\"0 的阶乘为 1\")\n",
    "else:\n",
    "   for i in range(1,num + 1):\n",
    "       factorial = factorial*i\n",
    "   print(\"%d 的阶乘为 %d\" %(num,factorial))"
   ]
  },
  {
   "cell_type": "code",
   "execution_count": 10,
   "metadata": {},
   "outputs": [
    {
     "name": "stdout",
     "output_type": "stream",
     "text": [
      "输入路程:30\n",
      "输入等待时间:2\n",
      "车费是:      72.60\n"
     ]
    }
   ],
   "source": [
    "lc=int(input('输入路程:'))\n",
    "sj=int(input('输入等待时间:'))\n",
    "if lc>=10:\n",
    "    fy=6+(10-3)*1.8+(lc-10)*1.8*1.5\n",
    "else:\n",
    "    if lc>3:\n",
    "        fy=6+(lc-3)*1.8\n",
    "    else:\n",
    "        fy=6\n",
    "    fy=fy+(sj/3)*1\n",
    "print('车费是:','%10.2f'%fy)"
   ]
  },
  {
   "cell_type": "code",
   "execution_count": 11,
   "metadata": {},
   "outputs": [
    {
     "name": "stdout",
     "output_type": "stream",
     "text": [
      "1\n",
      "2\n",
      "3\n",
      "4\n",
      "5\n"
     ]
    }
   ],
   "source": [
    "class MyNumbers:\n",
    "    def __iter__(self):\n",
    "        self.a=1\n",
    "        return self\n",
    "    def __next__(self):\n",
    "        x=self.a\n",
    "        self.a+=1\n",
    "        return x\n",
    "myclass=MyNumbers()\n",
    "myiter=iter(myclass)\n",
    "print(next(myiter))\n",
    "print(next(myiter))\n",
    "print(next(myiter))\n",
    "print(next(myiter))\n",
    "print(next(myiter))"
   ]
  },
  {
   "cell_type": "code",
   "execution_count": 13,
   "metadata": {},
   "outputs": [
    {
     "name": "stdout",
     "output_type": "stream",
     "text": [
      "1 - a 不等于 b\n",
      "2 - a 不等于 b\n",
      "3 - a 大于等于 b\n",
      "4 - a 大于 b\n",
      "5 - a 小于等于 b\n",
      "6 - b 大于等于 a\n"
     ]
    }
   ],
   "source": [
    "a = 21\n",
    "b = 10\n",
    "c = 0\n",
    "if ( a == b ):\n",
    "   print (\"1 - a 等于 b\")\n",
    "else:\n",
    "   print (\"1 - a 不等于 b\")\n",
    " \n",
    "if ( a != b ):\n",
    "   print (\"2 - a 不等于 b\")\n",
    "else:\n",
    "   print (\"2 - a 等于 b\")\n",
    "if ( a < b ):\n",
    "   print (\"3 - a 小于 b\")\n",
    "else:\n",
    "   print (\"3 - a 大于等于 b\")\n",
    " \n",
    "if ( a > b ):\n",
    "   print (\"4 - a 大于 b\")\n",
    "else:\n",
    "   print (\"4 - a 小于等于 b\")\n",
    "a = 5\n",
    "b = 20\n",
    "if ( a <= b ):\n",
    "   print (\"5 - a 小于等于 b\")\n",
    "else:\n",
    "   print (\"5 - a 大于  b\")\n",
    "if ( b >= a ):\n",
    "   print (\"6 - b 大于等于 a\")\n",
    "else:\n",
    "   print (\"6 - b 小于 a\")"
   ]
  },
  {
   "cell_type": "code",
   "execution_count": 14,
   "metadata": {},
   "outputs": [
    {
     "name": "stdout",
     "output_type": "stream",
     "text": [
      "runoob like I\n"
     ]
    }
   ],
   "source": [
    "def reversewords(input):\n",
    "    inputwords=input.split(\" \")\n",
    "    inputwords=inputwords[-1::-1]\n",
    "    output=' '.join(inputwords)\n",
    "    return output\n",
    "if __name__==\"__main__\":\n",
    "    input=(\"I like runoob\")\n",
    "    rw=reversewords(input)\n",
    "    print(rw)"
   ]
  },
  {
   "cell_type": "code",
   "execution_count": 15,
   "metadata": {},
   "outputs": [
    {
     "name": "stdout",
     "output_type": "stream",
     "text": [
      "{'Google', 'Taobao', 'Facebook', 'Baidu', 'Runoob', 'Zhihu'}\n",
      "Runoob在集合中\n",
      "{'a', 'd', 'r', 'b', 'c'}\n",
      "{'b', 'r', 'd'}\n",
      "{'a', 'd', 'r', 'z', 'b', 'c', 'm', 'l'}\n",
      "{'a', 'c'}\n",
      "{'r', 'd', 'm', 'l', 'z', 'b'}\n"
     ]
    }
   ],
   "source": [
    "sites={'Google','Taobao','Runoob','Facebook','Zhihu','Baidu'}\n",
    "print (sites)\n",
    "if 'Runoob' in sites:\n",
    "    print('Runoob在集合中')\n",
    "else:\n",
    "    print('Runoob不在集合中')\n",
    "a=set('abracadabra')\n",
    "b=set('alacazam')\n",
    "print(a)\n",
    "print(a-b)  #a和b的差集\n",
    "print(a|b)  #a和b的并集\n",
    "print(a&b)  #a和b的交集\n",
    "print(a^b)  #a和b中不同时存在的元素"
   ]
  },
  {
   "cell_type": "code",
   "execution_count": 16,
   "metadata": {},
   "outputs": [
    {
     "name": "stdout",
     "output_type": "stream",
     "text": [
      "1-if表达条件为true\n",
      "100\n",
      "Good bye!\n"
     ]
    }
   ],
   "source": [
    "var1=100\n",
    "if var1:\n",
    "    print(\"1-if表达条件为true\")\n",
    "    print(var1)\n",
    "var2=0\n",
    "if var2:\n",
    "    print(\"2-if表达条件为true\")\n",
    "    print(var2)\n",
    "print(\"Good bye!\")"
   ]
  },
  {
   "cell_type": "code",
   "execution_count": 17,
   "metadata": {},
   "outputs": [
    {
     "name": "stdout",
     "output_type": "stream",
     "text": [
      "('runoob', 786, 2.23, 'john', 70.2)\n",
      "runoob\n",
      "(786, 2.23)\n",
      "(2.23, 'john', 70.2)\n",
      "(123, 'john', 123, 'john')\n",
      "('runoob', 786, 2.23, 'john', 70.2, 123, 'john')\n"
     ]
    }
   ],
   "source": [
    "tuple = ( 'runoob', 786 , 2.23, 'john', 70.2 )\n",
    "tinytuple = (123, 'john')\n",
    "print (tuple)               \n",
    "print (tuple[0])            \n",
    "print (tuple[1:3])           \n",
    "print (tuple[2:])           \n",
    "print (tinytuple * 2)       \n",
    "print (tuple + tinytuple)  "
   ]
  },
  {
   "cell_type": "code",
   "execution_count": 18,
   "metadata": {},
   "outputs": [
    {
     "name": "stdout",
     "output_type": "stream",
     "text": [
      "-- -- -- -- -- -- 口算大师-- -- -- -- -- --\n"
     ]
    },
    {
     "ename": "TypeError",
     "evalue": "'str' object is not callable",
     "output_type": "error",
     "traceback": [
      "\u001b[1;31m---------------------------------------------------------------------------\u001b[0m",
      "\u001b[1;31mTypeError\u001b[0m                                 Traceback (most recent call last)",
      "\u001b[1;32m<ipython-input-18-3847249ce15a>\u001b[0m in \u001b[0;36m<module>\u001b[1;34m\u001b[0m\n\u001b[0;32m     29\u001b[0m         \u001b[0mb\u001b[0m \u001b[1;33m=\u001b[0m \u001b[0mrandom\u001b[0m\u001b[1;33m.\u001b[0m\u001b[0mrandint\u001b[0m\u001b[1;33m(\u001b[0m\u001b[1;36m0\u001b[0m\u001b[1;33m,\u001b[0m\u001b[1;36m10\u001b[0m\u001b[1;33m)\u001b[0m\u001b[1;33m\u001b[0m\u001b[1;33m\u001b[0m\u001b[0m\n\u001b[0;32m     30\u001b[0m         \u001b[0mc\u001b[0m \u001b[1;33m=\u001b[0m \u001b[0ma\u001b[0m\u001b[1;33m*\u001b[0m\u001b[0mb\u001b[0m\u001b[1;33m\u001b[0m\u001b[1;33m\u001b[0m\u001b[0m\n\u001b[1;32m---> 31\u001b[1;33m         \u001b[0muser\u001b[0m \u001b[1;33m=\u001b[0m \u001b[0minput\u001b[0m\u001b[1;33m(\u001b[0m\u001b[0mstr\u001b[0m\u001b[1;33m(\u001b[0m\u001b[0ma\u001b[0m\u001b[1;33m)\u001b[0m\u001b[1;33m+\u001b[0m\u001b[1;34m\"*\"\u001b[0m\u001b[1;33m+\u001b[0m\u001b[0mstr\u001b[0m\u001b[1;33m(\u001b[0m\u001b[0mb\u001b[0m\u001b[1;33m)\u001b[0m\u001b[1;33m+\u001b[0m\u001b[1;34m\"=\"\u001b[0m\u001b[1;33m)\u001b[0m\u001b[1;33m\u001b[0m\u001b[1;33m\u001b[0m\u001b[0m\n\u001b[0m\u001b[0;32m     32\u001b[0m         \u001b[1;32mif\u001b[0m \u001b[0mstr\u001b[0m\u001b[1;33m(\u001b[0m\u001b[0mc\u001b[0m\u001b[1;33m)\u001b[0m \u001b[1;33m==\u001b[0m \u001b[0muser\u001b[0m\u001b[1;33m:\u001b[0m\u001b[1;33m\u001b[0m\u001b[1;33m\u001b[0m\u001b[0m\n\u001b[0;32m     33\u001b[0m             \u001b[0mprint\u001b[0m\u001b[1;33m(\u001b[0m\u001b[1;34m\"恭喜你,答对了!\"\u001b[0m\u001b[1;33m)\u001b[0m\u001b[1;33m\u001b[0m\u001b[1;33m\u001b[0m\u001b[0m\n",
      "\u001b[1;31mTypeError\u001b[0m: 'str' object is not callable"
     ]
    }
   ],
   "source": [
    "import random\n",
    "print(\"-- -- -- -- -- -- 口算大师-- -- -- -- -- --\")\n",
    "while True:\n",
    "    coin = random.randint(1,4) #抛硬币\n",
    "    if coin ==1:\n",
    "        #加法\n",
    "        a = random.randint(0,10)\n",
    "        b = random.randint(0,10)\n",
    "        c = a+b\n",
    "        user = input(str(a)+\"+\"+str(b)+\"=\")   \n",
    "        if str(c) == user:\n",
    "            print(\"恭喜你,答对了!\")\n",
    "        else:\n",
    "            print(\"很遗憾，你打错了！\"+\"答案是\"+str(c))\n",
    "         \n",
    "    if coin ==2:\n",
    "        #减法\n",
    "        a = random.randint(0,10)\n",
    "        b = random.randint(0,10)\n",
    "        c = a-b\n",
    "        user = input(str(a)+\"-\"+str(b)+\"=\")   \n",
    "        if str(c) == user:\n",
    "            print(\"恭喜你,答对了!\")\n",
    "        else:\n",
    "            print(\"很遗憾，你打错了！\"+\"答案是\"+str(c))\n",
    "    if coin ==3:\n",
    "        #乘法\n",
    "        a = random.randint(0,10)\n",
    "        b = random.randint(0,10)\n",
    "        c = a*b\n",
    "        user = input(str(a)+\"*\"+str(b)+\"=\")   \n",
    "        if str(c) == user:\n",
    "            print(\"恭喜你,答对了!\")\n",
    "        else:\n",
    "            print(\"很遗憾，你打错了！\"+\"答案是\"+str(c))\n",
    "    if coin ==4:\n",
    "        #除法\n",
    "        a = random.randint(0,10)\n",
    "        b = random.randint(0,10)\n",
    "        c = round(a/b,2)\n",
    "        user = input(str(a)+\"/\"+str(b)+\"=\")   \n",
    "        if str(c) == user:\n",
    "            print(\"恭喜你,答对了!\")\n",
    "        else:\n",
    "            print(\"很遗憾，你打错了！\"+\"答案是\"+str(c))\n"
   ]
  },
  {
   "cell_type": "code",
   "execution_count": null,
   "metadata": {},
   "outputs": [],
   "source": []
  }
 ],
 "metadata": {
  "kernelspec": {
   "display_name": "Python 3",
   "language": "python",
   "name": "python3"
  },
  "language_info": {
   "codemirror_mode": {
    "name": "ipython",
    "version": 3
   },
   "file_extension": ".py",
   "mimetype": "text/x-python",
   "name": "python",
   "nbconvert_exporter": "python",
   "pygments_lexer": "ipython3",
   "version": "3.8.5"
  }
 },
 "nbformat": 4,
 "nbformat_minor": 4
}
