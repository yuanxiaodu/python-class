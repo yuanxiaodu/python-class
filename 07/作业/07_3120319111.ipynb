{
 "cells": [
  {
   "cell_type": "code",
   "execution_count": null,
   "metadata": {},
   "outputs": [],
   "source": [
    "for i in range(1,5):\n",
    "    for j in range(1,5):\n",
    "        for k in range(1,5):\n",
    "            if(i!=k) and (i!=j) and (j!=k):\n",
    "                print(i,j,k)"
   ]
  },
  {
   "cell_type": "code",
   "execution_count": null,
   "metadata": {},
   "outputs": [],
   "source": [
    "for a in range(1,3):\n",
    "    for b in range(1,3):\n",
    "        if(a!=b):\n",
    "            print(a,b)"
   ]
  },
  {
   "cell_type": "code",
   "execution_count": null,
   "metadata": {},
   "outputs": [],
   "source": [
    "for a in range(1,8):\n",
    "    for b in range(1,8):\n",
    "        if(a!=b):\n",
    "            print(a,b)"
   ]
  },
  {
   "cell_type": "code",
   "execution_count": null,
   "metadata": {},
   "outputs": [],
   "source": [
    "for a in range(1,85):\n",
    "    if 168%a==0:\n",
    "        b=168/a;\n",
    "        if a>b and (a+b)%2==0 and (a-b)%2==0:\n",
    "            m=a+b\n",
    "            n=a-b\n",
    "            x=n*n-100\n",
    "            print(x)"
   ]
  },
  {
   "cell_type": "code",
   "execution_count": null,
   "metadata": {},
   "outputs": [],
   "source": [
    "a=b=c=d=1"
   ]
  },
  {
   "cell_type": "code",
   "execution_count": null,
   "metadata": {},
   "outputs": [],
   "source": [
    "a"
   ]
  },
  {
   "cell_type": "code",
   "execution_count": null,
   "metadata": {},
   "outputs": [],
   "source": [
    "b"
   ]
  },
  {
   "cell_type": "code",
   "execution_count": null,
   "metadata": {},
   "outputs": [],
   "source": [
    "c"
   ]
  },
  {
   "cell_type": "code",
   "execution_count": null,
   "metadata": {},
   "outputs": [],
   "source": [
    "d"
   ]
  },
  {
   "cell_type": "code",
   "execution_count": null,
   "metadata": {},
   "outputs": [],
   "source": [
    "a=1\n",
    "b=5"
   ]
  },
  {
   "cell_type": "code",
   "execution_count": null,
   "metadata": {},
   "outputs": [],
   "source": [
    "c=a+b\n",
    "d=a-b"
   ]
  },
  {
   "cell_type": "code",
   "execution_count": null,
   "metadata": {},
   "outputs": [],
   "source": [
    "a"
   ]
  },
  {
   "cell_type": "code",
   "execution_count": null,
   "metadata": {},
   "outputs": [],
   "source": [
    "b"
   ]
  },
  {
   "cell_type": "code",
   "execution_count": null,
   "metadata": {},
   "outputs": [],
   "source": [
    "c"
   ]
  },
  {
   "cell_type": "code",
   "execution_count": 15,
   "metadata": {},
   "outputs": [
    {
     "data": {
      "text/plain": [
       "-4"
      ]
     },
     "execution_count": 15,
     "metadata": {},
     "output_type": "execute_result"
    }
   ],
   "source": [
    "d"
   ]
  },
  {
   "cell_type": "code",
   "execution_count": 16,
   "metadata": {},
   "outputs": [
    {
     "data": {
      "text/plain": [
       "True"
      ]
     },
     "execution_count": 16,
     "metadata": {},
     "output_type": "execute_result"
    }
   ],
   "source": [
    "1>0"
   ]
  },
  {
   "cell_type": "code",
   "execution_count": 17,
   "metadata": {},
   "outputs": [
    {
     "data": {
      "text/plain": [
       "False"
      ]
     },
     "execution_count": 17,
     "metadata": {},
     "output_type": "execute_result"
    }
   ],
   "source": [
    "1<0"
   ]
  },
  {
   "cell_type": "code",
   "execution_count": 18,
   "metadata": {},
   "outputs": [],
   "source": [
    "a=\"{} {}\""
   ]
  },
  {
   "cell_type": "code",
   "execution_count": 19,
   "metadata": {},
   "outputs": [
    {
     "name": "stdout",
     "output_type": "stream",
     "text": [
      "1 2\n"
     ]
    }
   ],
   "source": [
    "print(a.format(1,2))"
   ]
  },
  {
   "cell_type": "code",
   "execution_count": 20,
   "metadata": {},
   "outputs": [
    {
     "name": "stdout",
     "output_type": "stream",
     "text": [
      "one two\n"
     ]
    }
   ],
   "source": [
    "print(a.format('one','two'))"
   ]
  },
  {
   "cell_type": "code",
   "execution_count": 21,
   "metadata": {},
   "outputs": [
    {
     "name": "stdout",
     "output_type": "stream",
     "text": [
      "a b\n"
     ]
    }
   ],
   "source": [
    "print(a.format('a','b'))"
   ]
  },
  {
   "cell_type": "code",
   "execution_count": 22,
   "metadata": {},
   "outputs": [],
   "source": [
    "from sys import argv"
   ]
  },
  {
   "cell_type": "code",
   "execution_count": 23,
   "metadata": {},
   "outputs": [],
   "source": [
    "script,first,second=argv"
   ]
  },
  {
   "cell_type": "code",
   "execution_count": 24,
   "metadata": {},
   "outputs": [
    {
     "name": "stdout",
     "output_type": "stream",
     "text": [
      "The script is called: C:\\Users\\hp\\anaconda3\\lib\\site-packages\\ipykernel_launcher.py\n"
     ]
    }
   ],
   "source": [
    "print(\"The script is called:\",script)"
   ]
  },
  {
   "cell_type": "code",
   "execution_count": 25,
   "metadata": {},
   "outputs": [
    {
     "name": "stdout",
     "output_type": "stream",
     "text": [
      "Your first variable is: -f\n"
     ]
    }
   ],
   "source": [
    "print(\"Your first variable is:\",first)"
   ]
  },
  {
   "cell_type": "code",
   "execution_count": 26,
   "metadata": {},
   "outputs": [
    {
     "name": "stdout",
     "output_type": "stream",
     "text": [
      "Your second variable is: C:\\Users\\hp\\AppData\\Roaming\\jupyter\\runtime\\kernel-afaae44b-39f3-442d-a245-10b3036524c0.json\n"
     ]
    }
   ],
   "source": [
    "print(\"Your second variable is:\",second)"
   ]
  },
  {
   "cell_type": "code",
   "execution_count": 27,
   "metadata": {},
   "outputs": [],
   "source": [
    "import pandas as pd"
   ]
  },
  {
   "cell_type": "code",
   "execution_count": 28,
   "metadata": {},
   "outputs": [],
   "source": [
    "csv=pd.read_csv('Desktop\\movie_comments.csv')"
   ]
  },
  {
   "cell_type": "code",
   "execution_count": 29,
   "metadata": {},
   "outputs": [
    {
     "data": {
      "text/html": [
       "<div>\n",
       "<style scoped>\n",
       "    .dataframe tbody tr th:only-of-type {\n",
       "        vertical-align: middle;\n",
       "    }\n",
       "\n",
       "    .dataframe tbody tr th {\n",
       "        vertical-align: top;\n",
       "    }\n",
       "\n",
       "    .dataframe thead th {\n",
       "        text-align: right;\n",
       "    }\n",
       "</style>\n",
       "<table border=\"1\" class=\"dataframe\">\n",
       "  <thead>\n",
       "    <tr style=\"text-align: right;\">\n",
       "      <th></th>\n",
       "      <th>date</th>\n",
       "      <th>name</th>\n",
       "      <th>seen</th>\n",
       "      <th>star</th>\n",
       "      <th>text</th>\n",
       "      <th>votes</th>\n",
       "    </tr>\n",
       "  </thead>\n",
       "  <tbody>\n",
       "    <tr>\n",
       "      <th>0</th>\n",
       "      <td>2020-12-17 12:31:55</td>\n",
       "      <td>阿暖</td>\n",
       "      <td>看过</td>\n",
       "      <td>4</td>\n",
       "      <td>最意外的是，在这个故事里竟然看到某种波伏娃式的冷酷与绝望——一个完美女性可以拥有一切，美貌，...</td>\n",
       "      <td>2321</td>\n",
       "    </tr>\n",
       "    <tr>\n",
       "      <th>1</th>\n",
       "      <td>2020-12-10 13:32:24</td>\n",
       "      <td>豆蔻年华</td>\n",
       "      <td>看过</td>\n",
       "      <td>1</td>\n",
       "      <td>打斗戏太拉胯，根本没法看。广场舞都比她更有力度，土味视频都比她有演技。</td>\n",
       "      <td>456</td>\n",
       "    </tr>\n",
       "    <tr>\n",
       "      <th>2</th>\n",
       "      <td>2020-12-18 02:27:55</td>\n",
       "      <td>#cenotaph#</td>\n",
       "      <td>看过</td>\n",
       "      <td>2</td>\n",
       "      <td>野猫大战卷帘门</td>\n",
       "      <td>2147</td>\n",
       "    </tr>\n",
       "    <tr>\n",
       "      <th>3</th>\n",
       "      <td>2020-12-14 18:25:00</td>\n",
       "      <td>天马星</td>\n",
       "      <td>看过</td>\n",
       "      <td>5</td>\n",
       "      <td>二刷激光IMAX后依旧确信《神奇女侠1984》是我今年最爱的院线片，原因有二。一是延续了DC...</td>\n",
       "      <td>1025</td>\n",
       "    </tr>\n",
       "    <tr>\n",
       "      <th>4</th>\n",
       "      <td>2020-12-18 02:57:23</td>\n",
       "      <td>Lynchman</td>\n",
       "      <td>看过</td>\n",
       "      <td>3</td>\n",
       "      <td>《请回答1984：如果川普统治世界》</td>\n",
       "      <td>3613</td>\n",
       "    </tr>\n",
       "    <tr>\n",
       "      <th>...</th>\n",
       "      <td>...</td>\n",
       "      <td>...</td>\n",
       "      <td>...</td>\n",
       "      <td>...</td>\n",
       "      <td>...</td>\n",
       "      <td>...</td>\n",
       "    </tr>\n",
       "    <tr>\n",
       "      <th>495</th>\n",
       "      <td>2020-12-19 20:22:36</td>\n",
       "      <td>46562002</td>\n",
       "      <td>看过</td>\n",
       "      <td>2</td>\n",
       "      <td>1~正如女侠第一部时，说过的，盖尔加朵加盟DC就是人生最大的失败…\\n2~DC在新世纪，就根...</td>\n",
       "      <td>0</td>\n",
       "    </tr>\n",
       "    <tr>\n",
       "      <th>496</th>\n",
       "      <td>2020-12-22 18:42:21</td>\n",
       "      <td>Maxthor</td>\n",
       "      <td>看过</td>\n",
       "      <td>4</td>\n",
       "      <td>四星不足三星有余，Patty Jenkins的动作戏份还是没有想象中的精彩，对足够的特效支持...</td>\n",
       "      <td>0</td>\n",
       "    </tr>\n",
       "    <tr>\n",
       "      <th>497</th>\n",
       "      <td>2020-12-21 10:48:29</td>\n",
       "      <td>西老米</td>\n",
       "      <td>看过</td>\n",
       "      <td>4</td>\n",
       "      <td>还行啊，评分有点低了啊</td>\n",
       "      <td>0</td>\n",
       "    </tr>\n",
       "    <tr>\n",
       "      <th>498</th>\n",
       "      <td>2020-12-20 23:26:40</td>\n",
       "      <td>Clefairy</td>\n",
       "      <td>看过</td>\n",
       "      <td>2</td>\n",
       "      <td>我还真挺少打两星的。第一次有让我在电影院想弃了的电影。如坐针毡，满头问号。美貌没有发挥。逻辑不洽。</td>\n",
       "      <td>0</td>\n",
       "    </tr>\n",
       "    <tr>\n",
       "      <th>499</th>\n",
       "      <td>2020-12-20 23:52:52</td>\n",
       "      <td>リンカ</td>\n",
       "      <td>看过</td>\n",
       "      <td>4</td>\n",
       "      <td>剧情比较老套，但做抉择的时候还是很心痛就是了……小朋友真是可怜，经历这么多破事儿，就算最后h...</td>\n",
       "      <td>0</td>\n",
       "    </tr>\n",
       "  </tbody>\n",
       "</table>\n",
       "<p>500 rows × 6 columns</p>\n",
       "</div>"
      ],
      "text/plain": [
       "                    date        name seen  star  \\\n",
       "0    2020-12-17 12:31:55          阿暖   看过     4   \n",
       "1    2020-12-10 13:32:24        豆蔻年华   看过     1   \n",
       "2    2020-12-18 02:27:55  #cenotaph#   看过     2   \n",
       "3    2020-12-14 18:25:00         天马星   看过     5   \n",
       "4    2020-12-18 02:57:23    Lynchman   看过     3   \n",
       "..                   ...         ...  ...   ...   \n",
       "495  2020-12-19 20:22:36    46562002   看过     2   \n",
       "496  2020-12-22 18:42:21     Maxthor   看过     4   \n",
       "497  2020-12-21 10:48:29         西老米   看过     4   \n",
       "498  2020-12-20 23:26:40    Clefairy   看过     2   \n",
       "499  2020-12-20 23:52:52         リンカ   看过     4   \n",
       "\n",
       "                                                  text  votes  \n",
       "0    最意外的是，在这个故事里竟然看到某种波伏娃式的冷酷与绝望——一个完美女性可以拥有一切，美貌，...   2321  \n",
       "1                  打斗戏太拉胯，根本没法看。广场舞都比她更有力度，土味视频都比她有演技。    456  \n",
       "2                                              野猫大战卷帘门   2147  \n",
       "3    二刷激光IMAX后依旧确信《神奇女侠1984》是我今年最爱的院线片，原因有二。一是延续了DC...   1025  \n",
       "4                                   《请回答1984：如果川普统治世界》   3613  \n",
       "..                                                 ...    ...  \n",
       "495  1~正如女侠第一部时，说过的，盖尔加朵加盟DC就是人生最大的失败…\\n2~DC在新世纪，就根...      0  \n",
       "496  四星不足三星有余，Patty Jenkins的动作戏份还是没有想象中的精彩，对足够的特效支持...      0  \n",
       "497                                        还行啊，评分有点低了啊      0  \n",
       "498  我还真挺少打两星的。第一次有让我在电影院想弃了的电影。如坐针毡，满头问号。美貌没有发挥。逻辑不洽。      0  \n",
       "499  剧情比较老套，但做抉择的时候还是很心痛就是了……小朋友真是可怜，经历这么多破事儿，就算最后h...      0  \n",
       "\n",
       "[500 rows x 6 columns]"
      ]
     },
     "execution_count": 29,
     "metadata": {},
     "output_type": "execute_result"
    }
   ],
   "source": [
    "csv"
   ]
  },
  {
   "cell_type": "code",
   "execution_count": 30,
   "metadata": {},
   "outputs": [
    {
     "data": {
      "text/html": [
       "<div>\n",
       "<style scoped>\n",
       "    .dataframe tbody tr th:only-of-type {\n",
       "        vertical-align: middle;\n",
       "    }\n",
       "\n",
       "    .dataframe tbody tr th {\n",
       "        vertical-align: top;\n",
       "    }\n",
       "\n",
       "    .dataframe thead th {\n",
       "        text-align: right;\n",
       "    }\n",
       "</style>\n",
       "<table border=\"1\" class=\"dataframe\">\n",
       "  <thead>\n",
       "    <tr style=\"text-align: right;\">\n",
       "      <th></th>\n",
       "      <th>date</th>\n",
       "      <th>name</th>\n",
       "      <th>seen</th>\n",
       "      <th>star</th>\n",
       "      <th>text</th>\n",
       "      <th>votes</th>\n",
       "    </tr>\n",
       "  </thead>\n",
       "  <tbody>\n",
       "    <tr>\n",
       "      <th>0</th>\n",
       "      <td>2020-12-17 12:31:55</td>\n",
       "      <td>阿暖</td>\n",
       "      <td>看过</td>\n",
       "      <td>4</td>\n",
       "      <td>最意外的是，在这个故事里竟然看到某种波伏娃式的冷酷与绝望——一个完美女性可以拥有一切，美貌，...</td>\n",
       "      <td>2321</td>\n",
       "    </tr>\n",
       "    <tr>\n",
       "      <th>1</th>\n",
       "      <td>2020-12-10 13:32:24</td>\n",
       "      <td>豆蔻年华</td>\n",
       "      <td>看过</td>\n",
       "      <td>1</td>\n",
       "      <td>打斗戏太拉胯，根本没法看。广场舞都比她更有力度，土味视频都比她有演技。</td>\n",
       "      <td>456</td>\n",
       "    </tr>\n",
       "    <tr>\n",
       "      <th>2</th>\n",
       "      <td>2020-12-18 02:27:55</td>\n",
       "      <td>#cenotaph#</td>\n",
       "      <td>看过</td>\n",
       "      <td>2</td>\n",
       "      <td>野猫大战卷帘门</td>\n",
       "      <td>2147</td>\n",
       "    </tr>\n",
       "    <tr>\n",
       "      <th>3</th>\n",
       "      <td>2020-12-14 18:25:00</td>\n",
       "      <td>天马星</td>\n",
       "      <td>看过</td>\n",
       "      <td>5</td>\n",
       "      <td>二刷激光IMAX后依旧确信《神奇女侠1984》是我今年最爱的院线片，原因有二。一是延续了DC...</td>\n",
       "      <td>1025</td>\n",
       "    </tr>\n",
       "    <tr>\n",
       "      <th>4</th>\n",
       "      <td>2020-12-18 02:57:23</td>\n",
       "      <td>Lynchman</td>\n",
       "      <td>看过</td>\n",
       "      <td>3</td>\n",
       "      <td>《请回答1984：如果川普统治世界》</td>\n",
       "      <td>3613</td>\n",
       "    </tr>\n",
       "  </tbody>\n",
       "</table>\n",
       "</div>"
      ],
      "text/plain": [
       "                  date        name seen  star  \\\n",
       "0  2020-12-17 12:31:55          阿暖   看过     4   \n",
       "1  2020-12-10 13:32:24        豆蔻年华   看过     1   \n",
       "2  2020-12-18 02:27:55  #cenotaph#   看过     2   \n",
       "3  2020-12-14 18:25:00         天马星   看过     5   \n",
       "4  2020-12-18 02:57:23    Lynchman   看过     3   \n",
       "\n",
       "                                                text  votes  \n",
       "0  最意外的是，在这个故事里竟然看到某种波伏娃式的冷酷与绝望——一个完美女性可以拥有一切，美貌，...   2321  \n",
       "1                打斗戏太拉胯，根本没法看。广场舞都比她更有力度，土味视频都比她有演技。    456  \n",
       "2                                            野猫大战卷帘门   2147  \n",
       "3  二刷激光IMAX后依旧确信《神奇女侠1984》是我今年最爱的院线片，原因有二。一是延续了DC...   1025  \n",
       "4                                 《请回答1984：如果川普统治世界》   3613  "
      ]
     },
     "execution_count": 30,
     "metadata": {},
     "output_type": "execute_result"
    }
   ],
   "source": [
    "csv.head()"
   ]
  },
  {
   "cell_type": "code",
   "execution_count": 31,
   "metadata": {},
   "outputs": [
    {
     "data": {
      "text/html": [
       "<div>\n",
       "<style scoped>\n",
       "    .dataframe tbody tr th:only-of-type {\n",
       "        vertical-align: middle;\n",
       "    }\n",
       "\n",
       "    .dataframe tbody tr th {\n",
       "        vertical-align: top;\n",
       "    }\n",
       "\n",
       "    .dataframe thead th {\n",
       "        text-align: right;\n",
       "    }\n",
       "</style>\n",
       "<table border=\"1\" class=\"dataframe\">\n",
       "  <thead>\n",
       "    <tr style=\"text-align: right;\">\n",
       "      <th></th>\n",
       "      <th>date</th>\n",
       "      <th>name</th>\n",
       "      <th>seen</th>\n",
       "      <th>star</th>\n",
       "      <th>text</th>\n",
       "      <th>votes</th>\n",
       "    </tr>\n",
       "  </thead>\n",
       "  <tbody>\n",
       "    <tr>\n",
       "      <th>499</th>\n",
       "      <td>2020-12-20 23:52:52</td>\n",
       "      <td>リンカ</td>\n",
       "      <td>看过</td>\n",
       "      <td>4</td>\n",
       "      <td>剧情比较老套，但做抉择的时候还是很心痛就是了……小朋友真是可怜，经历这么多破事儿，就算最后h...</td>\n",
       "      <td>0</td>\n",
       "    </tr>\n",
       "  </tbody>\n",
       "</table>\n",
       "</div>"
      ],
      "text/plain": [
       "                    date name seen  star  \\\n",
       "499  2020-12-20 23:52:52  リンカ   看过     4   \n",
       "\n",
       "                                                  text  votes  \n",
       "499  剧情比较老套，但做抉择的时候还是很心痛就是了……小朋友真是可怜，经历这么多破事儿，就算最后h...      0  "
      ]
     },
     "execution_count": 31,
     "metadata": {},
     "output_type": "execute_result"
    }
   ],
   "source": [
    "csv.tail(1)"
   ]
  },
  {
   "cell_type": "code",
   "execution_count": 32,
   "metadata": {},
   "outputs": [
    {
     "data": {
      "text/html": [
       "<div>\n",
       "<style scoped>\n",
       "    .dataframe tbody tr th:only-of-type {\n",
       "        vertical-align: middle;\n",
       "    }\n",
       "\n",
       "    .dataframe tbody tr th {\n",
       "        vertical-align: top;\n",
       "    }\n",
       "\n",
       "    .dataframe thead th {\n",
       "        text-align: right;\n",
       "    }\n",
       "</style>\n",
       "<table border=\"1\" class=\"dataframe\">\n",
       "  <thead>\n",
       "    <tr style=\"text-align: right;\">\n",
       "      <th></th>\n",
       "      <th>date</th>\n",
       "      <th>name</th>\n",
       "      <th>seen</th>\n",
       "      <th>star</th>\n",
       "      <th>text</th>\n",
       "      <th>votes</th>\n",
       "    </tr>\n",
       "  </thead>\n",
       "  <tbody>\n",
       "    <tr>\n",
       "      <th>0</th>\n",
       "      <td>2020-12-17 12:31:55</td>\n",
       "      <td>阿暖</td>\n",
       "      <td>看过</td>\n",
       "      <td>4</td>\n",
       "      <td>最意外的是，在这个故事里竟然看到某种波伏娃式的冷酷与绝望——一个完美女性可以拥有一切，美貌，...</td>\n",
       "      <td>2321</td>\n",
       "    </tr>\n",
       "  </tbody>\n",
       "</table>\n",
       "</div>"
      ],
      "text/plain": [
       "                  date name seen  star  \\\n",
       "0  2020-12-17 12:31:55   阿暖   看过     4   \n",
       "\n",
       "                                                text  votes  \n",
       "0  最意外的是，在这个故事里竟然看到某种波伏娃式的冷酷与绝望——一个完美女性可以拥有一切，美貌，...   2321  "
      ]
     },
     "execution_count": 32,
     "metadata": {},
     "output_type": "execute_result"
    }
   ],
   "source": [
    "csv.head(1)"
   ]
  },
  {
   "cell_type": "code",
   "execution_count": 33,
   "metadata": {},
   "outputs": [
    {
     "data": {
      "text/html": [
       "<div>\n",
       "<style scoped>\n",
       "    .dataframe tbody tr th:only-of-type {\n",
       "        vertical-align: middle;\n",
       "    }\n",
       "\n",
       "    .dataframe tbody tr th {\n",
       "        vertical-align: top;\n",
       "    }\n",
       "\n",
       "    .dataframe thead th {\n",
       "        text-align: right;\n",
       "    }\n",
       "</style>\n",
       "<table border=\"1\" class=\"dataframe\">\n",
       "  <thead>\n",
       "    <tr style=\"text-align: right;\">\n",
       "      <th></th>\n",
       "      <th>date</th>\n",
       "      <th>name</th>\n",
       "      <th>seen</th>\n",
       "      <th>star</th>\n",
       "      <th>text</th>\n",
       "      <th>votes</th>\n",
       "    </tr>\n",
       "  </thead>\n",
       "  <tbody>\n",
       "    <tr>\n",
       "      <th>0</th>\n",
       "      <td>2020-12-17 12:31:55</td>\n",
       "      <td>阿暖</td>\n",
       "      <td>看过</td>\n",
       "      <td>4</td>\n",
       "      <td>最意外的是，在这个故事里竟然看到某种波伏娃式的冷酷与绝望——一个完美女性可以拥有一切，美貌，...</td>\n",
       "      <td>2321</td>\n",
       "    </tr>\n",
       "    <tr>\n",
       "      <th>1</th>\n",
       "      <td>2020-12-10 13:32:24</td>\n",
       "      <td>豆蔻年华</td>\n",
       "      <td>看过</td>\n",
       "      <td>1</td>\n",
       "      <td>打斗戏太拉胯，根本没法看。广场舞都比她更有力度，土味视频都比她有演技。</td>\n",
       "      <td>456</td>\n",
       "    </tr>\n",
       "  </tbody>\n",
       "</table>\n",
       "</div>"
      ],
      "text/plain": [
       "                  date  name seen  star  \\\n",
       "0  2020-12-17 12:31:55    阿暖   看过     4   \n",
       "1  2020-12-10 13:32:24  豆蔻年华   看过     1   \n",
       "\n",
       "                                                text  votes  \n",
       "0  最意外的是，在这个故事里竟然看到某种波伏娃式的冷酷与绝望——一个完美女性可以拥有一切，美貌，...   2321  \n",
       "1                打斗戏太拉胯，根本没法看。广场舞都比她更有力度，土味视频都比她有演技。    456  "
      ]
     },
     "execution_count": 33,
     "metadata": {},
     "output_type": "execute_result"
    }
   ],
   "source": [
    "csv.head(2)"
   ]
  },
  {
   "cell_type": "code",
   "execution_count": 34,
   "metadata": {},
   "outputs": [
    {
     "data": {
      "text/html": [
       "<div>\n",
       "<style scoped>\n",
       "    .dataframe tbody tr th:only-of-type {\n",
       "        vertical-align: middle;\n",
       "    }\n",
       "\n",
       "    .dataframe tbody tr th {\n",
       "        vertical-align: top;\n",
       "    }\n",
       "\n",
       "    .dataframe thead th {\n",
       "        text-align: right;\n",
       "    }\n",
       "</style>\n",
       "<table border=\"1\" class=\"dataframe\">\n",
       "  <thead>\n",
       "    <tr style=\"text-align: right;\">\n",
       "      <th></th>\n",
       "      <th>date</th>\n",
       "      <th>name</th>\n",
       "      <th>seen</th>\n",
       "      <th>star</th>\n",
       "      <th>text</th>\n",
       "      <th>votes</th>\n",
       "    </tr>\n",
       "  </thead>\n",
       "  <tbody>\n",
       "    <tr>\n",
       "      <th>498</th>\n",
       "      <td>2020-12-20 23:26:40</td>\n",
       "      <td>Clefairy</td>\n",
       "      <td>看过</td>\n",
       "      <td>2</td>\n",
       "      <td>我还真挺少打两星的。第一次有让我在电影院想弃了的电影。如坐针毡，满头问号。美貌没有发挥。逻辑不洽。</td>\n",
       "      <td>0</td>\n",
       "    </tr>\n",
       "    <tr>\n",
       "      <th>499</th>\n",
       "      <td>2020-12-20 23:52:52</td>\n",
       "      <td>リンカ</td>\n",
       "      <td>看过</td>\n",
       "      <td>4</td>\n",
       "      <td>剧情比较老套，但做抉择的时候还是很心痛就是了……小朋友真是可怜，经历这么多破事儿，就算最后h...</td>\n",
       "      <td>0</td>\n",
       "    </tr>\n",
       "  </tbody>\n",
       "</table>\n",
       "</div>"
      ],
      "text/plain": [
       "                    date      name seen  star  \\\n",
       "498  2020-12-20 23:26:40  Clefairy   看过     2   \n",
       "499  2020-12-20 23:52:52       リンカ   看过     4   \n",
       "\n",
       "                                                  text  votes  \n",
       "498  我还真挺少打两星的。第一次有让我在电影院想弃了的电影。如坐针毡，满头问号。美貌没有发挥。逻辑不洽。      0  \n",
       "499  剧情比较老套，但做抉择的时候还是很心痛就是了……小朋友真是可怜，经历这么多破事儿，就算最后h...      0  "
      ]
     },
     "execution_count": 34,
     "metadata": {},
     "output_type": "execute_result"
    }
   ],
   "source": [
    "csv.tail(2)"
   ]
  },
  {
   "cell_type": "code",
   "execution_count": 35,
   "metadata": {},
   "outputs": [
    {
     "data": {
      "text/plain": [
       "RangeIndex(start=0, stop=500, step=1)"
      ]
     },
     "execution_count": 35,
     "metadata": {},
     "output_type": "execute_result"
    }
   ],
   "source": [
    "csv.index"
   ]
  },
  {
   "cell_type": "code",
   "execution_count": 36,
   "metadata": {},
   "outputs": [
    {
     "data": {
      "text/plain": [
       "Index(['date', 'name', 'seen', 'star', 'text', 'votes'], dtype='object')"
      ]
     },
     "execution_count": 36,
     "metadata": {},
     "output_type": "execute_result"
    }
   ],
   "source": [
    "csv.columns"
   ]
  },
  {
   "cell_type": "code",
   "execution_count": 37,
   "metadata": {},
   "outputs": [
    {
     "data": {
      "text/html": [
       "<div>\n",
       "<style scoped>\n",
       "    .dataframe tbody tr th:only-of-type {\n",
       "        vertical-align: middle;\n",
       "    }\n",
       "\n",
       "    .dataframe tbody tr th {\n",
       "        vertical-align: top;\n",
       "    }\n",
       "\n",
       "    .dataframe thead th {\n",
       "        text-align: right;\n",
       "    }\n",
       "</style>\n",
       "<table border=\"1\" class=\"dataframe\">\n",
       "  <thead>\n",
       "    <tr style=\"text-align: right;\">\n",
       "      <th></th>\n",
       "      <th>star</th>\n",
       "      <th>votes</th>\n",
       "    </tr>\n",
       "  </thead>\n",
       "  <tbody>\n",
       "    <tr>\n",
       "      <th>count</th>\n",
       "      <td>500.000000</td>\n",
       "      <td>500.000000</td>\n",
       "    </tr>\n",
       "    <tr>\n",
       "      <th>mean</th>\n",
       "      <td>3.192000</td>\n",
       "      <td>61.334000</td>\n",
       "    </tr>\n",
       "    <tr>\n",
       "      <th>std</th>\n",
       "      <td>1.185727</td>\n",
       "      <td>284.473726</td>\n",
       "    </tr>\n",
       "    <tr>\n",
       "      <th>min</th>\n",
       "      <td>0.000000</td>\n",
       "      <td>0.000000</td>\n",
       "    </tr>\n",
       "    <tr>\n",
       "      <th>25%</th>\n",
       "      <td>2.000000</td>\n",
       "      <td>1.000000</td>\n",
       "    </tr>\n",
       "    <tr>\n",
       "      <th>50%</th>\n",
       "      <td>3.000000</td>\n",
       "      <td>3.000000</td>\n",
       "    </tr>\n",
       "    <tr>\n",
       "      <th>75%</th>\n",
       "      <td>4.000000</td>\n",
       "      <td>10.000000</td>\n",
       "    </tr>\n",
       "    <tr>\n",
       "      <th>max</th>\n",
       "      <td>5.000000</td>\n",
       "      <td>3613.000000</td>\n",
       "    </tr>\n",
       "  </tbody>\n",
       "</table>\n",
       "</div>"
      ],
      "text/plain": [
       "             star        votes\n",
       "count  500.000000   500.000000\n",
       "mean     3.192000    61.334000\n",
       "std      1.185727   284.473726\n",
       "min      0.000000     0.000000\n",
       "25%      2.000000     1.000000\n",
       "50%      3.000000     3.000000\n",
       "75%      4.000000    10.000000\n",
       "max      5.000000  3613.000000"
      ]
     },
     "execution_count": 37,
     "metadata": {},
     "output_type": "execute_result"
    }
   ],
   "source": [
    "csv.describe()"
   ]
  },
  {
   "cell_type": "code",
   "execution_count": 38,
   "metadata": {},
   "outputs": [
    {
     "data": {
      "text/html": [
       "<div>\n",
       "<style scoped>\n",
       "    .dataframe tbody tr th:only-of-type {\n",
       "        vertical-align: middle;\n",
       "    }\n",
       "\n",
       "    .dataframe tbody tr th {\n",
       "        vertical-align: top;\n",
       "    }\n",
       "\n",
       "    .dataframe thead th {\n",
       "        text-align: right;\n",
       "    }\n",
       "</style>\n",
       "<table border=\"1\" class=\"dataframe\">\n",
       "  <thead>\n",
       "    <tr style=\"text-align: right;\">\n",
       "      <th></th>\n",
       "      <th>date</th>\n",
       "      <th>name</th>\n",
       "      <th>seen</th>\n",
       "      <th>star</th>\n",
       "      <th>text</th>\n",
       "      <th>votes</th>\n",
       "    </tr>\n",
       "  </thead>\n",
       "  <tbody>\n",
       "    <tr>\n",
       "      <th>0</th>\n",
       "      <td>2020-12-17 12:31:55</td>\n",
       "      <td>阿暖</td>\n",
       "      <td>看过</td>\n",
       "      <td>4</td>\n",
       "      <td>最意外的是，在这个故事里竟然看到某种波伏娃式的冷酷与绝望——一个完美女性可以拥有一切，美貌，...</td>\n",
       "      <td>2321</td>\n",
       "    </tr>\n",
       "    <tr>\n",
       "      <th>1</th>\n",
       "      <td>2020-12-10 13:32:24</td>\n",
       "      <td>豆蔻年华</td>\n",
       "      <td>看过</td>\n",
       "      <td>1</td>\n",
       "      <td>打斗戏太拉胯，根本没法看。广场舞都比她更有力度，土味视频都比她有演技。</td>\n",
       "      <td>456</td>\n",
       "    </tr>\n",
       "    <tr>\n",
       "      <th>2</th>\n",
       "      <td>2020-12-18 02:27:55</td>\n",
       "      <td>#cenotaph#</td>\n",
       "      <td>看过</td>\n",
       "      <td>2</td>\n",
       "      <td>野猫大战卷帘门</td>\n",
       "      <td>2147</td>\n",
       "    </tr>\n",
       "    <tr>\n",
       "      <th>3</th>\n",
       "      <td>2020-12-14 18:25:00</td>\n",
       "      <td>天马星</td>\n",
       "      <td>看过</td>\n",
       "      <td>5</td>\n",
       "      <td>二刷激光IMAX后依旧确信《神奇女侠1984》是我今年最爱的院线片，原因有二。一是延续了DC...</td>\n",
       "      <td>1025</td>\n",
       "    </tr>\n",
       "    <tr>\n",
       "      <th>4</th>\n",
       "      <td>2020-12-18 02:57:23</td>\n",
       "      <td>Lynchman</td>\n",
       "      <td>看过</td>\n",
       "      <td>3</td>\n",
       "      <td>《请回答1984：如果川普统治世界》</td>\n",
       "      <td>3613</td>\n",
       "    </tr>\n",
       "    <tr>\n",
       "      <th>...</th>\n",
       "      <td>...</td>\n",
       "      <td>...</td>\n",
       "      <td>...</td>\n",
       "      <td>...</td>\n",
       "      <td>...</td>\n",
       "      <td>...</td>\n",
       "    </tr>\n",
       "    <tr>\n",
       "      <th>495</th>\n",
       "      <td>2020-12-19 20:22:36</td>\n",
       "      <td>46562002</td>\n",
       "      <td>看过</td>\n",
       "      <td>2</td>\n",
       "      <td>1~正如女侠第一部时，说过的，盖尔加朵加盟DC就是人生最大的失败…\\n2~DC在新世纪，就根...</td>\n",
       "      <td>0</td>\n",
       "    </tr>\n",
       "    <tr>\n",
       "      <th>496</th>\n",
       "      <td>2020-12-22 18:42:21</td>\n",
       "      <td>Maxthor</td>\n",
       "      <td>看过</td>\n",
       "      <td>4</td>\n",
       "      <td>四星不足三星有余，Patty Jenkins的动作戏份还是没有想象中的精彩，对足够的特效支持...</td>\n",
       "      <td>0</td>\n",
       "    </tr>\n",
       "    <tr>\n",
       "      <th>497</th>\n",
       "      <td>2020-12-21 10:48:29</td>\n",
       "      <td>西老米</td>\n",
       "      <td>看过</td>\n",
       "      <td>4</td>\n",
       "      <td>还行啊，评分有点低了啊</td>\n",
       "      <td>0</td>\n",
       "    </tr>\n",
       "    <tr>\n",
       "      <th>498</th>\n",
       "      <td>2020-12-20 23:26:40</td>\n",
       "      <td>Clefairy</td>\n",
       "      <td>看过</td>\n",
       "      <td>2</td>\n",
       "      <td>我还真挺少打两星的。第一次有让我在电影院想弃了的电影。如坐针毡，满头问号。美貌没有发挥。逻辑不洽。</td>\n",
       "      <td>0</td>\n",
       "    </tr>\n",
       "    <tr>\n",
       "      <th>499</th>\n",
       "      <td>2020-12-20 23:52:52</td>\n",
       "      <td>リンカ</td>\n",
       "      <td>看过</td>\n",
       "      <td>4</td>\n",
       "      <td>剧情比较老套，但做抉择的时候还是很心痛就是了……小朋友真是可怜，经历这么多破事儿，就算最后h...</td>\n",
       "      <td>0</td>\n",
       "    </tr>\n",
       "  </tbody>\n",
       "</table>\n",
       "<p>500 rows × 6 columns</p>\n",
       "</div>"
      ],
      "text/plain": [
       "                    date        name seen  star  \\\n",
       "0    2020-12-17 12:31:55          阿暖   看过     4   \n",
       "1    2020-12-10 13:32:24        豆蔻年华   看过     1   \n",
       "2    2020-12-18 02:27:55  #cenotaph#   看过     2   \n",
       "3    2020-12-14 18:25:00         天马星   看过     5   \n",
       "4    2020-12-18 02:57:23    Lynchman   看过     3   \n",
       "..                   ...         ...  ...   ...   \n",
       "495  2020-12-19 20:22:36    46562002   看过     2   \n",
       "496  2020-12-22 18:42:21     Maxthor   看过     4   \n",
       "497  2020-12-21 10:48:29         西老米   看过     4   \n",
       "498  2020-12-20 23:26:40    Clefairy   看过     2   \n",
       "499  2020-12-20 23:52:52         リンカ   看过     4   \n",
       "\n",
       "                                                  text  votes  \n",
       "0    最意外的是，在这个故事里竟然看到某种波伏娃式的冷酷与绝望——一个完美女性可以拥有一切，美貌，...   2321  \n",
       "1                  打斗戏太拉胯，根本没法看。广场舞都比她更有力度，土味视频都比她有演技。    456  \n",
       "2                                              野猫大战卷帘门   2147  \n",
       "3    二刷激光IMAX后依旧确信《神奇女侠1984》是我今年最爱的院线片，原因有二。一是延续了DC...   1025  \n",
       "4                                   《请回答1984：如果川普统治世界》   3613  \n",
       "..                                                 ...    ...  \n",
       "495  1~正如女侠第一部时，说过的，盖尔加朵加盟DC就是人生最大的失败…\\n2~DC在新世纪，就根...      0  \n",
       "496  四星不足三星有余，Patty Jenkins的动作戏份还是没有想象中的精彩，对足够的特效支持...      0  \n",
       "497                                        还行啊，评分有点低了啊      0  \n",
       "498  我还真挺少打两星的。第一次有让我在电影院想弃了的电影。如坐针毡，满头问号。美貌没有发挥。逻辑不洽。      0  \n",
       "499  剧情比较老套，但做抉择的时候还是很心痛就是了……小朋友真是可怜，经历这么多破事儿，就算最后h...      0  \n",
       "\n",
       "[500 rows x 6 columns]"
      ]
     },
     "execution_count": 38,
     "metadata": {},
     "output_type": "execute_result"
    }
   ],
   "source": [
    "csv.sort_index()"
   ]
  },
  {
   "cell_type": "code",
   "execution_count": 39,
   "metadata": {},
   "outputs": [
    {
     "data": {
      "text/html": [
       "<div>\n",
       "<style scoped>\n",
       "    .dataframe tbody tr th:only-of-type {\n",
       "        vertical-align: middle;\n",
       "    }\n",
       "\n",
       "    .dataframe tbody tr th {\n",
       "        vertical-align: top;\n",
       "    }\n",
       "\n",
       "    .dataframe thead th {\n",
       "        text-align: right;\n",
       "    }\n",
       "</style>\n",
       "<table border=\"1\" class=\"dataframe\">\n",
       "  <thead>\n",
       "    <tr style=\"text-align: right;\">\n",
       "      <th></th>\n",
       "      <th>date</th>\n",
       "      <th>name</th>\n",
       "      <th>seen</th>\n",
       "      <th>star</th>\n",
       "      <th>text</th>\n",
       "      <th>votes</th>\n",
       "    </tr>\n",
       "  </thead>\n",
       "  <tbody>\n",
       "    <tr>\n",
       "      <th>7</th>\n",
       "      <td>2020-12-07 13:26:58</td>\n",
       "      <td>烟波人长安</td>\n",
       "      <td>看过</td>\n",
       "      <td>5</td>\n",
       "      <td>本来正义联盟之后我都快对dc不抱什么期望了，盖尔加朵又给我打了针强心剂。没想到这一部拍得这么...</td>\n",
       "      <td>787</td>\n",
       "    </tr>\n",
       "    <tr>\n",
       "      <th>16</th>\n",
       "      <td>2020-12-07 13:44:24</td>\n",
       "      <td>林微云</td>\n",
       "      <td>看过</td>\n",
       "      <td>4</td>\n",
       "      <td>当欲望将你的灵魂吞噬，只有爱与希望才能挽救这可怕的世界，在白雪飘落的圣诞季🎄用一部温暖治愈的...</td>\n",
       "      <td>472</td>\n",
       "    </tr>\n",
       "    <tr>\n",
       "      <th>9</th>\n",
       "      <td>2020-12-07 14:05:40</td>\n",
       "      <td>摇又鸟又鸟的狗</td>\n",
       "      <td>看过</td>\n",
       "      <td>4</td>\n",
       "      <td>首先想说，我并不是一个超英电影爱好者，我总觉得靠一个人发挥神力、噼里啪啦一顿大战就能拯救世界...</td>\n",
       "      <td>1782</td>\n",
       "    </tr>\n",
       "    <tr>\n",
       "      <th>196</th>\n",
       "      <td>2020-12-09 18:53:45</td>\n",
       "      <td>Doublebitch</td>\n",
       "      <td>看过</td>\n",
       "      <td>4</td>\n",
       "      <td>女性导演视角下的超英片，超级英雄可以正常上班恋爱，反派不再是恶贯满盈的大魔头而是养成系，影片...</td>\n",
       "      <td>10</td>\n",
       "    </tr>\n",
       "    <tr>\n",
       "      <th>25</th>\n",
       "      <td>2020-12-09 23:53:28</td>\n",
       "      <td>影随茵动</td>\n",
       "      <td>看过</td>\n",
       "      <td>4</td>\n",
       "      <td>小戴安娜试炼的开篇太燃了，加朵美丽依旧，男主复活的设置在逻辑上是完全自洽的，情节比第一部至少...</td>\n",
       "      <td>217</td>\n",
       "    </tr>\n",
       "    <tr>\n",
       "      <th>...</th>\n",
       "      <td>...</td>\n",
       "      <td>...</td>\n",
       "      <td>...</td>\n",
       "      <td>...</td>\n",
       "      <td>...</td>\n",
       "      <td>...</td>\n",
       "    </tr>\n",
       "    <tr>\n",
       "      <th>126</th>\n",
       "      <td>2020-12-24 07:54:00</td>\n",
       "      <td>桃桃林林</td>\n",
       "      <td>看过</td>\n",
       "      <td>3</td>\n",
       "      <td>还是预期问题，大众还是想看一部帅帅美美，动作戏过瘾的超级英雄爽片。电影却试图讲深度与说教，自...</td>\n",
       "      <td>5</td>\n",
       "    </tr>\n",
       "    <tr>\n",
       "      <th>138</th>\n",
       "      <td>2020-12-25 08:08:24</td>\n",
       "      <td>SELVEN</td>\n",
       "      <td>看过</td>\n",
       "      <td>1</td>\n",
       "      <td>0/100 用无耻的方式和令人喜爱的角色强行灌输恶心的政治偏见，不可原谅。佩特罗帕斯卡值得一...</td>\n",
       "      <td>1</td>\n",
       "    </tr>\n",
       "    <tr>\n",
       "      <th>316</th>\n",
       "      <td>2020-12-25 09:26:39</td>\n",
       "      <td>扭腰客</td>\n",
       "      <td>看过</td>\n",
       "      <td>1</td>\n",
       "      <td>最关键的一点，难道不是没有80年代感吗？我健美裤都穿好了，你就给我看这个？！唯一值得一星的，...</td>\n",
       "      <td>0</td>\n",
       "    </tr>\n",
       "    <tr>\n",
       "      <th>269</th>\n",
       "      <td>2020-12-25 09:58:02</td>\n",
       "      <td>托尼·王大拿</td>\n",
       "      <td>看过</td>\n",
       "      <td>3</td>\n",
       "      <td>某些在故事和角色上的设定可谓是大胆甚至颠覆的，但却又在讲述的过程中被稀释成了团圆完满的童话，...</td>\n",
       "      <td>1</td>\n",
       "    </tr>\n",
       "    <tr>\n",
       "      <th>350</th>\n",
       "      <td>2020-12-25 13:28:47</td>\n",
       "      <td>浣熊市逃生选手</td>\n",
       "      <td>看过</td>\n",
       "      <td>3</td>\n",
       "      <td>初中满分作文。如果是动画电影我可以打高点，但它不是动画电影所以没有豁免权。标题有84并不代表...</td>\n",
       "      <td>2</td>\n",
       "    </tr>\n",
       "  </tbody>\n",
       "</table>\n",
       "<p>500 rows × 6 columns</p>\n",
       "</div>"
      ],
      "text/plain": [
       "                    date         name seen  star  \\\n",
       "7    2020-12-07 13:26:58        烟波人长安   看过     5   \n",
       "16   2020-12-07 13:44:24          林微云   看过     4   \n",
       "9    2020-12-07 14:05:40      摇又鸟又鸟的狗   看过     4   \n",
       "196  2020-12-09 18:53:45  Doublebitch   看过     4   \n",
       "25   2020-12-09 23:53:28         影随茵动   看过     4   \n",
       "..                   ...          ...  ...   ...   \n",
       "126  2020-12-24 07:54:00         桃桃林林   看过     3   \n",
       "138  2020-12-25 08:08:24       SELVEN   看过     1   \n",
       "316  2020-12-25 09:26:39          扭腰客   看过     1   \n",
       "269  2020-12-25 09:58:02       托尼·王大拿   看过     3   \n",
       "350  2020-12-25 13:28:47      浣熊市逃生选手   看过     3   \n",
       "\n",
       "                                                  text  votes  \n",
       "7    本来正义联盟之后我都快对dc不抱什么期望了，盖尔加朵又给我打了针强心剂。没想到这一部拍得这么...    787  \n",
       "16   当欲望将你的灵魂吞噬，只有爱与希望才能挽救这可怕的世界，在白雪飘落的圣诞季🎄用一部温暖治愈的...    472  \n",
       "9    首先想说，我并不是一个超英电影爱好者，我总觉得靠一个人发挥神力、噼里啪啦一顿大战就能拯救世界...   1782  \n",
       "196  女性导演视角下的超英片，超级英雄可以正常上班恋爱，反派不再是恶贯满盈的大魔头而是养成系，影片...     10  \n",
       "25   小戴安娜试炼的开篇太燃了，加朵美丽依旧，男主复活的设置在逻辑上是完全自洽的，情节比第一部至少...    217  \n",
       "..                                                 ...    ...  \n",
       "126  还是预期问题，大众还是想看一部帅帅美美，动作戏过瘾的超级英雄爽片。电影却试图讲深度与说教，自...      5  \n",
       "138  0/100 用无耻的方式和令人喜爱的角色强行灌输恶心的政治偏见，不可原谅。佩特罗帕斯卡值得一...      1  \n",
       "316  最关键的一点，难道不是没有80年代感吗？我健美裤都穿好了，你就给我看这个？！唯一值得一星的，...      0  \n",
       "269  某些在故事和角色上的设定可谓是大胆甚至颠覆的，但却又在讲述的过程中被稀释成了团圆完满的童话，...      1  \n",
       "350  初中满分作文。如果是动画电影我可以打高点，但它不是动画电影所以没有豁免权。标题有84并不代表...      2  \n",
       "\n",
       "[500 rows x 6 columns]"
      ]
     },
     "execution_count": 39,
     "metadata": {},
     "output_type": "execute_result"
    }
   ],
   "source": [
    "csv.sort_values(by='date')"
   ]
  },
  {
   "cell_type": "code",
   "execution_count": 40,
   "metadata": {},
   "outputs": [
    {
     "data": {
      "text/html": [
       "<div>\n",
       "<style scoped>\n",
       "    .dataframe tbody tr th:only-of-type {\n",
       "        vertical-align: middle;\n",
       "    }\n",
       "\n",
       "    .dataframe tbody tr th {\n",
       "        vertical-align: top;\n",
       "    }\n",
       "\n",
       "    .dataframe thead th {\n",
       "        text-align: right;\n",
       "    }\n",
       "</style>\n",
       "<table border=\"1\" class=\"dataframe\">\n",
       "  <thead>\n",
       "    <tr style=\"text-align: right;\">\n",
       "      <th></th>\n",
       "      <th>date</th>\n",
       "      <th>name</th>\n",
       "    </tr>\n",
       "  </thead>\n",
       "  <tbody>\n",
       "    <tr>\n",
       "      <th>0</th>\n",
       "      <td>2020-12-17 12:31:55</td>\n",
       "      <td>阿暖</td>\n",
       "    </tr>\n",
       "    <tr>\n",
       "      <th>1</th>\n",
       "      <td>2020-12-10 13:32:24</td>\n",
       "      <td>豆蔻年华</td>\n",
       "    </tr>\n",
       "    <tr>\n",
       "      <th>2</th>\n",
       "      <td>2020-12-18 02:27:55</td>\n",
       "      <td>#cenotaph#</td>\n",
       "    </tr>\n",
       "    <tr>\n",
       "      <th>3</th>\n",
       "      <td>2020-12-14 18:25:00</td>\n",
       "      <td>天马星</td>\n",
       "    </tr>\n",
       "    <tr>\n",
       "      <th>4</th>\n",
       "      <td>2020-12-18 02:57:23</td>\n",
       "      <td>Lynchman</td>\n",
       "    </tr>\n",
       "    <tr>\n",
       "      <th>...</th>\n",
       "      <td>...</td>\n",
       "      <td>...</td>\n",
       "    </tr>\n",
       "    <tr>\n",
       "      <th>495</th>\n",
       "      <td>2020-12-19 20:22:36</td>\n",
       "      <td>46562002</td>\n",
       "    </tr>\n",
       "    <tr>\n",
       "      <th>496</th>\n",
       "      <td>2020-12-22 18:42:21</td>\n",
       "      <td>Maxthor</td>\n",
       "    </tr>\n",
       "    <tr>\n",
       "      <th>497</th>\n",
       "      <td>2020-12-21 10:48:29</td>\n",
       "      <td>西老米</td>\n",
       "    </tr>\n",
       "    <tr>\n",
       "      <th>498</th>\n",
       "      <td>2020-12-20 23:26:40</td>\n",
       "      <td>Clefairy</td>\n",
       "    </tr>\n",
       "    <tr>\n",
       "      <th>499</th>\n",
       "      <td>2020-12-20 23:52:52</td>\n",
       "      <td>リンカ</td>\n",
       "    </tr>\n",
       "  </tbody>\n",
       "</table>\n",
       "<p>500 rows × 2 columns</p>\n",
       "</div>"
      ],
      "text/plain": [
       "                    date        name\n",
       "0    2020-12-17 12:31:55          阿暖\n",
       "1    2020-12-10 13:32:24        豆蔻年华\n",
       "2    2020-12-18 02:27:55  #cenotaph#\n",
       "3    2020-12-14 18:25:00         天马星\n",
       "4    2020-12-18 02:57:23    Lynchman\n",
       "..                   ...         ...\n",
       "495  2020-12-19 20:22:36    46562002\n",
       "496  2020-12-22 18:42:21     Maxthor\n",
       "497  2020-12-21 10:48:29         西老米\n",
       "498  2020-12-20 23:26:40    Clefairy\n",
       "499  2020-12-20 23:52:52         リンカ\n",
       "\n",
       "[500 rows x 2 columns]"
      ]
     },
     "execution_count": 40,
     "metadata": {},
     "output_type": "execute_result"
    }
   ],
   "source": [
    "csv[['date','name']]"
   ]
  },
  {
   "cell_type": "code",
   "execution_count": 41,
   "metadata": {},
   "outputs": [
    {
     "data": {
      "text/html": [
       "<div>\n",
       "<style scoped>\n",
       "    .dataframe tbody tr th:only-of-type {\n",
       "        vertical-align: middle;\n",
       "    }\n",
       "\n",
       "    .dataframe tbody tr th {\n",
       "        vertical-align: top;\n",
       "    }\n",
       "\n",
       "    .dataframe thead th {\n",
       "        text-align: right;\n",
       "    }\n",
       "</style>\n",
       "<table border=\"1\" class=\"dataframe\">\n",
       "  <thead>\n",
       "    <tr style=\"text-align: right;\">\n",
       "      <th></th>\n",
       "      <th>date</th>\n",
       "      <th>name</th>\n",
       "      <th>seen</th>\n",
       "      <th>star</th>\n",
       "      <th>text</th>\n",
       "      <th>votes</th>\n",
       "    </tr>\n",
       "  </thead>\n",
       "  <tbody>\n",
       "    <tr>\n",
       "      <th>0</th>\n",
       "      <td>2020-12-17 12:31:55</td>\n",
       "      <td>阿暖</td>\n",
       "      <td>看过</td>\n",
       "      <td>4</td>\n",
       "      <td>最意外的是，在这个故事里竟然看到某种波伏娃式的冷酷与绝望——一个完美女性可以拥有一切，美貌，...</td>\n",
       "      <td>2321</td>\n",
       "    </tr>\n",
       "    <tr>\n",
       "      <th>1</th>\n",
       "      <td>2020-12-10 13:32:24</td>\n",
       "      <td>豆蔻年华</td>\n",
       "      <td>看过</td>\n",
       "      <td>1</td>\n",
       "      <td>打斗戏太拉胯，根本没法看。广场舞都比她更有力度，土味视频都比她有演技。</td>\n",
       "      <td>456</td>\n",
       "    </tr>\n",
       "    <tr>\n",
       "      <th>2</th>\n",
       "      <td>2020-12-18 02:27:55</td>\n",
       "      <td>#cenotaph#</td>\n",
       "      <td>看过</td>\n",
       "      <td>2</td>\n",
       "      <td>野猫大战卷帘门</td>\n",
       "      <td>2147</td>\n",
       "    </tr>\n",
       "  </tbody>\n",
       "</table>\n",
       "</div>"
      ],
      "text/plain": [
       "                  date        name seen  star  \\\n",
       "0  2020-12-17 12:31:55          阿暖   看过     4   \n",
       "1  2020-12-10 13:32:24        豆蔻年华   看过     1   \n",
       "2  2020-12-18 02:27:55  #cenotaph#   看过     2   \n",
       "\n",
       "                                                text  votes  \n",
       "0  最意外的是，在这个故事里竟然看到某种波伏娃式的冷酷与绝望——一个完美女性可以拥有一切，美貌，...   2321  \n",
       "1                打斗戏太拉胯，根本没法看。广场舞都比她更有力度，土味视频都比她有演技。    456  \n",
       "2                                            野猫大战卷帘门   2147  "
      ]
     },
     "execution_count": 41,
     "metadata": {},
     "output_type": "execute_result"
    }
   ],
   "source": [
    "csv[0:3]"
   ]
  },
  {
   "cell_type": "code",
   "execution_count": 42,
   "metadata": {},
   "outputs": [
    {
     "data": {
      "text/html": [
       "<div>\n",
       "<style scoped>\n",
       "    .dataframe tbody tr th:only-of-type {\n",
       "        vertical-align: middle;\n",
       "    }\n",
       "\n",
       "    .dataframe tbody tr th {\n",
       "        vertical-align: top;\n",
       "    }\n",
       "\n",
       "    .dataframe thead th {\n",
       "        text-align: right;\n",
       "    }\n",
       "</style>\n",
       "<table border=\"1\" class=\"dataframe\">\n",
       "  <thead>\n",
       "    <tr style=\"text-align: right;\">\n",
       "      <th></th>\n",
       "      <th>date</th>\n",
       "      <th>name</th>\n",
       "      <th>seen</th>\n",
       "      <th>star</th>\n",
       "      <th>text</th>\n",
       "      <th>votes</th>\n",
       "    </tr>\n",
       "  </thead>\n",
       "  <tbody>\n",
       "    <tr>\n",
       "      <th>100</th>\n",
       "      <td>2020-12-18 19:21:45</td>\n",
       "      <td>書衣偵探華斯比</td>\n",
       "      <td>看过</td>\n",
       "      <td>3</td>\n",
       "      <td>开篇楔子《女儿国日常大比武，戴安娜作弊失冠军》磨叽半天，全片前一个半小时，感觉看了两集国产都...</td>\n",
       "      <td>10</td>\n",
       "    </tr>\n",
       "    <tr>\n",
       "      <th>101</th>\n",
       "      <td>2020-12-18 13:31:24</td>\n",
       "      <td>HevenHS</td>\n",
       "      <td>看过</td>\n",
       "      <td>5</td>\n",
       "      <td>我是一个很容易陷入剧情和营造的气氛中的人，所以我要给这片大大的好评，疫情期后我已经很久没看到...</td>\n",
       "      <td>24</td>\n",
       "    </tr>\n",
       "    <tr>\n",
       "      <th>102</th>\n",
       "      <td>2020-12-18 11:45:52</td>\n",
       "      <td>Cocobolo</td>\n",
       "      <td>看过</td>\n",
       "      <td>2</td>\n",
       "      <td>我竟然还为这电影去查了豹女的起源发展，听了那么多的电台，我是傻逼。DC- don’t care</td>\n",
       "      <td>19</td>\n",
       "    </tr>\n",
       "    <tr>\n",
       "      <th>103</th>\n",
       "      <td>2020-12-18 13:10:44</td>\n",
       "      <td>帽子里的兔子</td>\n",
       "      <td>看过</td>\n",
       "      <td>1</td>\n",
       "      <td>比第一部还屎... 没有正视什么问题，对他人的苦难也漠不关心。还有，求求别正反打了，Barb...</td>\n",
       "      <td>12</td>\n",
       "    </tr>\n",
       "    <tr>\n",
       "      <th>104</th>\n",
       "      <td>2020-12-18 11:24:42</td>\n",
       "      <td>国王KING</td>\n",
       "      <td>看过</td>\n",
       "      <td>4</td>\n",
       "      <td>重新解构的神灯故事，对于愿望的探讨以前自己也有想过。WW这次还是和Steve分离啊……</td>\n",
       "      <td>9</td>\n",
       "    </tr>\n",
       "    <tr>\n",
       "      <th>...</th>\n",
       "      <td>...</td>\n",
       "      <td>...</td>\n",
       "      <td>...</td>\n",
       "      <td>...</td>\n",
       "      <td>...</td>\n",
       "      <td>...</td>\n",
       "    </tr>\n",
       "    <tr>\n",
       "      <th>195</th>\n",
       "      <td>2020-12-21 00:27:07</td>\n",
       "      <td>十二</td>\n",
       "      <td>看过</td>\n",
       "      <td>4</td>\n",
       "      <td>看起来是爆米花电影，但其实仔细想，电影用心刻画了1984年的很多冲突，美苏冷战、种族冲突等等...</td>\n",
       "      <td>3</td>\n",
       "    </tr>\n",
       "    <tr>\n",
       "      <th>196</th>\n",
       "      <td>2020-12-09 18:53:45</td>\n",
       "      <td>Doublebitch</td>\n",
       "      <td>看过</td>\n",
       "      <td>4</td>\n",
       "      <td>女性导演视角下的超英片，超级英雄可以正常上班恋爱，反派不再是恶贯满盈的大魔头而是养成系，影片...</td>\n",
       "      <td>10</td>\n",
       "    </tr>\n",
       "    <tr>\n",
       "      <th>197</th>\n",
       "      <td>2020-12-19 12:24:34</td>\n",
       "      <td>405</td>\n",
       "      <td>看过</td>\n",
       "      <td>2</td>\n",
       "      <td>单身的神奇女侠才牛逼，有爱情的就能力稀撇，果然男人只会影响我出刀的速度。</td>\n",
       "      <td>4</td>\n",
       "    </tr>\n",
       "    <tr>\n",
       "      <th>198</th>\n",
       "      <td>2020-12-19 16:11:05</td>\n",
       "      <td>瑾朵朵</td>\n",
       "      <td>看过</td>\n",
       "      <td>5</td>\n",
       "      <td>哪个女孩不想成为盖尔加朵！！！</td>\n",
       "      <td>2</td>\n",
       "    </tr>\n",
       "    <tr>\n",
       "      <th>199</th>\n",
       "      <td>2020-12-18 19:00:32</td>\n",
       "      <td>季恩熙</td>\n",
       "      <td>看过</td>\n",
       "      <td>4</td>\n",
       "      <td>他一直在提醒着她，\\n这个世界混浊得不像话 但依然美好。\\n他没有超能力，\\n却给了她平凡世...</td>\n",
       "      <td>8</td>\n",
       "    </tr>\n",
       "  </tbody>\n",
       "</table>\n",
       "<p>100 rows × 6 columns</p>\n",
       "</div>"
      ],
      "text/plain": [
       "                    date         name seen  star  \\\n",
       "100  2020-12-18 19:21:45      書衣偵探華斯比   看过     3   \n",
       "101  2020-12-18 13:31:24      HevenHS   看过     5   \n",
       "102  2020-12-18 11:45:52     Cocobolo   看过     2   \n",
       "103  2020-12-18 13:10:44       帽子里的兔子   看过     1   \n",
       "104  2020-12-18 11:24:42       国王KING   看过     4   \n",
       "..                   ...          ...  ...   ...   \n",
       "195  2020-12-21 00:27:07           十二   看过     4   \n",
       "196  2020-12-09 18:53:45  Doublebitch   看过     4   \n",
       "197  2020-12-19 12:24:34          405   看过     2   \n",
       "198  2020-12-19 16:11:05          瑾朵朵   看过     5   \n",
       "199  2020-12-18 19:00:32          季恩熙   看过     4   \n",
       "\n",
       "                                                  text  votes  \n",
       "100  开篇楔子《女儿国日常大比武，戴安娜作弊失冠军》磨叽半天，全片前一个半小时，感觉看了两集国产都...     10  \n",
       "101  我是一个很容易陷入剧情和营造的气氛中的人，所以我要给这片大大的好评，疫情期后我已经很久没看到...     24  \n",
       "102    我竟然还为这电影去查了豹女的起源发展，听了那么多的电台，我是傻逼。DC- don’t care     19  \n",
       "103  比第一部还屎... 没有正视什么问题，对他人的苦难也漠不关心。还有，求求别正反打了，Barb...     12  \n",
       "104        重新解构的神灯故事，对于愿望的探讨以前自己也有想过。WW这次还是和Steve分离啊……      9  \n",
       "..                                                 ...    ...  \n",
       "195  看起来是爆米花电影，但其实仔细想，电影用心刻画了1984年的很多冲突，美苏冷战、种族冲突等等...      3  \n",
       "196  女性导演视角下的超英片，超级英雄可以正常上班恋爱，反派不再是恶贯满盈的大魔头而是养成系，影片...     10  \n",
       "197               单身的神奇女侠才牛逼，有爱情的就能力稀撇，果然男人只会影响我出刀的速度。      4  \n",
       "198                                    哪个女孩不想成为盖尔加朵！！！      2  \n",
       "199  他一直在提醒着她，\\n这个世界混浊得不像话 但依然美好。\\n他没有超能力，\\n却给了她平凡世...      8  \n",
       "\n",
       "[100 rows x 6 columns]"
      ]
     },
     "execution_count": 42,
     "metadata": {},
     "output_type": "execute_result"
    }
   ],
   "source": [
    "csv[100:200]"
   ]
  },
  {
   "cell_type": "code",
   "execution_count": 43,
   "metadata": {},
   "outputs": [
    {
     "data": {
      "text/plain": [
       "456"
      ]
     },
     "execution_count": 43,
     "metadata": {},
     "output_type": "execute_result"
    }
   ],
   "source": [
    "csv.loc[1,'votes']"
   ]
  },
  {
   "cell_type": "code",
   "execution_count": 44,
   "metadata": {},
   "outputs": [
    {
     "data": {
      "text/plain": [
       "'豆蔻年华'"
      ]
     },
     "execution_count": 44,
     "metadata": {},
     "output_type": "execute_result"
    }
   ],
   "source": [
    "csv.loc[1,'name']"
   ]
  },
  {
   "cell_type": "code",
   "execution_count": 45,
   "metadata": {},
   "outputs": [
    {
     "data": {
      "text/plain": [
       "'野猫大战卷帘门'"
      ]
     },
     "execution_count": 45,
     "metadata": {},
     "output_type": "execute_result"
    }
   ],
   "source": [
    "csv.loc[2,'text']"
   ]
  },
  {
   "cell_type": "code",
   "execution_count": 46,
   "metadata": {},
   "outputs": [
    {
     "data": {
      "text/plain": [
       "1"
      ]
     },
     "execution_count": 46,
     "metadata": {},
     "output_type": "execute_result"
    }
   ],
   "source": [
    "csv.iloc[1,3]"
   ]
  },
  {
   "cell_type": "code",
   "execution_count": 47,
   "metadata": {},
   "outputs": [
    {
     "data": {
      "text/plain": [
       "'看过'"
      ]
     },
     "execution_count": 47,
     "metadata": {},
     "output_type": "execute_result"
    }
   ],
   "source": [
    "csv.iloc[1,2]"
   ]
  },
  {
   "cell_type": "code",
   "execution_count": 48,
   "metadata": {},
   "outputs": [
    {
     "data": {
      "text/plain": [
       "'豆蔻年华'"
      ]
     },
     "execution_count": 48,
     "metadata": {},
     "output_type": "execute_result"
    }
   ],
   "source": [
    "csv.iloc[1,1]"
   ]
  },
  {
   "cell_type": "code",
   "execution_count": 49,
   "metadata": {},
   "outputs": [
    {
     "data": {
      "text/plain": [
       "'豆蔻年华'"
      ]
     },
     "execution_count": 49,
     "metadata": {},
     "output_type": "execute_result"
    }
   ],
   "source": [
    "csv.at[1,'name']"
   ]
  },
  {
   "cell_type": "code",
   "execution_count": 50,
   "metadata": {},
   "outputs": [
    {
     "data": {
      "text/plain": [
       "'野猫大战卷帘门'"
      ]
     },
     "execution_count": 50,
     "metadata": {},
     "output_type": "execute_result"
    }
   ],
   "source": [
    "csv.at[2,'text']"
   ]
  },
  {
   "cell_type": "code",
   "execution_count": 51,
   "metadata": {},
   "outputs": [
    {
     "data": {
      "text/plain": [
       "'看过'"
      ]
     },
     "execution_count": 51,
     "metadata": {},
     "output_type": "execute_result"
    }
   ],
   "source": [
    "csv.iat[2,2]"
   ]
  },
  {
   "cell_type": "code",
   "execution_count": 52,
   "metadata": {},
   "outputs": [
    {
     "data": {
      "text/plain": [
       "'看过'"
      ]
     },
     "execution_count": 52,
     "metadata": {},
     "output_type": "execute_result"
    }
   ],
   "source": [
    "csv.iat[1,2]"
   ]
  },
  {
   "cell_type": "code",
   "execution_count": 53,
   "metadata": {},
   "outputs": [
    {
     "data": {
      "text/plain": [
       "'打斗戏太拉胯，根本没法看。广场舞都比她更有力度，土味视频都比她有演技。'"
      ]
     },
     "execution_count": 53,
     "metadata": {},
     "output_type": "execute_result"
    }
   ],
   "source": [
    "csv.iat[1,4]"
   ]
  },
  {
   "cell_type": "code",
   "execution_count": 54,
   "metadata": {},
   "outputs": [
    {
     "data": {
      "text/html": [
       "<div>\n",
       "<style scoped>\n",
       "    .dataframe tbody tr th:only-of-type {\n",
       "        vertical-align: middle;\n",
       "    }\n",
       "\n",
       "    .dataframe tbody tr th {\n",
       "        vertical-align: top;\n",
       "    }\n",
       "\n",
       "    .dataframe thead th {\n",
       "        text-align: right;\n",
       "    }\n",
       "</style>\n",
       "<table border=\"1\" class=\"dataframe\">\n",
       "  <thead>\n",
       "    <tr style=\"text-align: right;\">\n",
       "      <th></th>\n",
       "      <th>date</th>\n",
       "      <th>name</th>\n",
       "      <th>seen</th>\n",
       "      <th>star</th>\n",
       "      <th>text</th>\n",
       "      <th>votes</th>\n",
       "    </tr>\n",
       "  </thead>\n",
       "  <tbody>\n",
       "    <tr>\n",
       "      <th>0</th>\n",
       "      <td>2020-12-17 12:31:55</td>\n",
       "      <td>阿暖</td>\n",
       "      <td>看过</td>\n",
       "      <td>4</td>\n",
       "      <td>最意外的是，在这个故事里竟然看到某种波伏娃式的冷酷与绝望——一个完美女性可以拥有一切，美貌，...</td>\n",
       "      <td>2321</td>\n",
       "    </tr>\n",
       "    <tr>\n",
       "      <th>2</th>\n",
       "      <td>2020-12-18 02:27:55</td>\n",
       "      <td>#cenotaph#</td>\n",
       "      <td>看过</td>\n",
       "      <td>2</td>\n",
       "      <td>野猫大战卷帘门</td>\n",
       "      <td>2147</td>\n",
       "    </tr>\n",
       "    <tr>\n",
       "      <th>3</th>\n",
       "      <td>2020-12-14 18:25:00</td>\n",
       "      <td>天马星</td>\n",
       "      <td>看过</td>\n",
       "      <td>5</td>\n",
       "      <td>二刷激光IMAX后依旧确信《神奇女侠1984》是我今年最爱的院线片，原因有二。一是延续了DC...</td>\n",
       "      <td>1025</td>\n",
       "    </tr>\n",
       "    <tr>\n",
       "      <th>4</th>\n",
       "      <td>2020-12-18 02:57:23</td>\n",
       "      <td>Lynchman</td>\n",
       "      <td>看过</td>\n",
       "      <td>3</td>\n",
       "      <td>《请回答1984：如果川普统治世界》</td>\n",
       "      <td>3613</td>\n",
       "    </tr>\n",
       "    <tr>\n",
       "      <th>5</th>\n",
       "      <td>2020-12-18 20:12:34</td>\n",
       "      <td>深夜的阿斯伯格</td>\n",
       "      <td>看过</td>\n",
       "      <td>3</td>\n",
       "      <td>我希望这个世界上没有伪3D，并让更多人看到这条短评</td>\n",
       "      <td>2259</td>\n",
       "    </tr>\n",
       "    <tr>\n",
       "      <th>6</th>\n",
       "      <td>2020-12-18 14:28:29</td>\n",
       "      <td>朝暮雪</td>\n",
       "      <td>看过</td>\n",
       "      <td>3</td>\n",
       "      <td>不是传统的超级英雄电影，不是爆米花爽片，而是更偏向剧情片。\\n动作戏和第一部相比有所退步，不...</td>\n",
       "      <td>1073</td>\n",
       "    </tr>\n",
       "    <tr>\n",
       "      <th>7</th>\n",
       "      <td>2020-12-07 13:26:58</td>\n",
       "      <td>烟波人长安</td>\n",
       "      <td>看过</td>\n",
       "      <td>5</td>\n",
       "      <td>本来正义联盟之后我都快对dc不抱什么期望了，盖尔加朵又给我打了针强心剂。没想到这一部拍得这么...</td>\n",
       "      <td>787</td>\n",
       "    </tr>\n",
       "    <tr>\n",
       "      <th>8</th>\n",
       "      <td>2020-12-18 03:27:37</td>\n",
       "      <td>有心打扰</td>\n",
       "      <td>看过</td>\n",
       "      <td>3</td>\n",
       "      <td>千万不要在生日的时候对着生日蛋糕上的蜡烛乱许愿望，你都不知道它会对你做出什么。</td>\n",
       "      <td>886</td>\n",
       "    </tr>\n",
       "    <tr>\n",
       "      <th>9</th>\n",
       "      <td>2020-12-07 14:05:40</td>\n",
       "      <td>摇又鸟又鸟的狗</td>\n",
       "      <td>看过</td>\n",
       "      <td>4</td>\n",
       "      <td>首先想说，我并不是一个超英电影爱好者，我总觉得靠一个人发挥神力、噼里啪啦一顿大战就能拯救世界...</td>\n",
       "      <td>1782</td>\n",
       "    </tr>\n",
       "    <tr>\n",
       "      <th>10</th>\n",
       "      <td>2020-12-18 01:27:03</td>\n",
       "      <td>张咏轩Wayne®</td>\n",
       "      <td>看过</td>\n",
       "      <td>2</td>\n",
       "      <td>太差了，枉顾逻辑纯扯淡，这个女导演是真正的婆妈话痨。大篇幅废话连篇，干货少，成本缩减的可怜，...</td>\n",
       "      <td>1231</td>\n",
       "    </tr>\n",
       "    <tr>\n",
       "      <th>12</th>\n",
       "      <td>2020-12-18 02:56:37</td>\n",
       "      <td>Ada🧣Wong💋💍</td>\n",
       "      <td>看过</td>\n",
       "      <td>4</td>\n",
       "      <td>8/10，这个许愿石的点子想的非常好，既解决了史蒂夫的回归的问题，也成功地树立了两个反派形象...</td>\n",
       "      <td>1209</td>\n",
       "    </tr>\n",
       "    <tr>\n",
       "      <th>13</th>\n",
       "      <td>2020-12-18 03:09:52</td>\n",
       "      <td>Luke</td>\n",
       "      <td>看过</td>\n",
       "      <td>4</td>\n",
       "      <td>结尾真的拍得好善良，女侠最后的念白简直像是送给过去的一年的。影片一开始挺糟糕，还好从中间开始...</td>\n",
       "      <td>1186</td>\n",
       "    </tr>\n",
       "    <tr>\n",
       "      <th>19</th>\n",
       "      <td>2020-12-17 01:02:22</td>\n",
       "      <td>京客隆小丸子</td>\n",
       "      <td>看过</td>\n",
       "      <td>5</td>\n",
       "      <td>女侠升级黄金圣斗士，男友换脸整容陪你过圣诞。</td>\n",
       "      <td>515</td>\n",
       "    </tr>\n",
       "    <tr>\n",
       "      <th>24</th>\n",
       "      <td>2020-12-18 00:04:48</td>\n",
       "      <td>木石子</td>\n",
       "      <td>看过</td>\n",
       "      <td>2</td>\n",
       "      <td>导演但凡知道中国有一个成语叫“自相矛盾”，就不会拍出这么逻辑不通的傻缺电影，还拍了两个半小时...</td>\n",
       "      <td>841</td>\n",
       "    </tr>\n",
       "    <tr>\n",
       "      <th>28</th>\n",
       "      <td>2020-12-11 15:28:40</td>\n",
       "      <td>豆瓣路人己</td>\n",
       "      <td>看过</td>\n",
       "      <td>2</td>\n",
       "      <td>恭喜女子铁人三项选手最后用荡秋千的方式击败了对手。作为DC粉，实在不能接受这部的安排，全片冗...</td>\n",
       "      <td>535</td>\n",
       "    </tr>\n",
       "  </tbody>\n",
       "</table>\n",
       "</div>"
      ],
      "text/plain": [
       "                   date        name seen  star  \\\n",
       "0   2020-12-17 12:31:55          阿暖   看过     4   \n",
       "2   2020-12-18 02:27:55  #cenotaph#   看过     2   \n",
       "3   2020-12-14 18:25:00         天马星   看过     5   \n",
       "4   2020-12-18 02:57:23    Lynchman   看过     3   \n",
       "5   2020-12-18 20:12:34     深夜的阿斯伯格   看过     3   \n",
       "6   2020-12-18 14:28:29         朝暮雪   看过     3   \n",
       "7   2020-12-07 13:26:58       烟波人长安   看过     5   \n",
       "8   2020-12-18 03:27:37        有心打扰   看过     3   \n",
       "9   2020-12-07 14:05:40     摇又鸟又鸟的狗   看过     4   \n",
       "10  2020-12-18 01:27:03   张咏轩Wayne®   看过     2   \n",
       "12  2020-12-18 02:56:37  Ada🧣Wong💋💍   看过     4   \n",
       "13  2020-12-18 03:09:52        Luke   看过     4   \n",
       "19  2020-12-17 01:02:22      京客隆小丸子   看过     5   \n",
       "24  2020-12-18 00:04:48         木石子   看过     2   \n",
       "28  2020-12-11 15:28:40       豆瓣路人己   看过     2   \n",
       "\n",
       "                                                 text  votes  \n",
       "0   最意外的是，在这个故事里竟然看到某种波伏娃式的冷酷与绝望——一个完美女性可以拥有一切，美貌，...   2321  \n",
       "2                                             野猫大战卷帘门   2147  \n",
       "3   二刷激光IMAX后依旧确信《神奇女侠1984》是我今年最爱的院线片，原因有二。一是延续了DC...   1025  \n",
       "4                                  《请回答1984：如果川普统治世界》   3613  \n",
       "5                           我希望这个世界上没有伪3D，并让更多人看到这条短评   2259  \n",
       "6   不是传统的超级英雄电影，不是爆米花爽片，而是更偏向剧情片。\\n动作戏和第一部相比有所退步，不...   1073  \n",
       "7   本来正义联盟之后我都快对dc不抱什么期望了，盖尔加朵又给我打了针强心剂。没想到这一部拍得这么...    787  \n",
       "8             千万不要在生日的时候对着生日蛋糕上的蜡烛乱许愿望，你都不知道它会对你做出什么。    886  \n",
       "9   首先想说，我并不是一个超英电影爱好者，我总觉得靠一个人发挥神力、噼里啪啦一顿大战就能拯救世界...   1782  \n",
       "10  太差了，枉顾逻辑纯扯淡，这个女导演是真正的婆妈话痨。大篇幅废话连篇，干货少，成本缩减的可怜，...   1231  \n",
       "12  8/10，这个许愿石的点子想的非常好，既解决了史蒂夫的回归的问题，也成功地树立了两个反派形象...   1209  \n",
       "13  结尾真的拍得好善良，女侠最后的念白简直像是送给过去的一年的。影片一开始挺糟糕，还好从中间开始...   1186  \n",
       "19                             女侠升级黄金圣斗士，男友换脸整容陪你过圣诞。    515  \n",
       "24  导演但凡知道中国有一个成语叫“自相矛盾”，就不会拍出这么逻辑不通的傻缺电影，还拍了两个半小时...    841  \n",
       "28  恭喜女子铁人三项选手最后用荡秋千的方式击败了对手。作为DC粉，实在不能接受这部的安排，全片冗...    535  "
      ]
     },
     "execution_count": 54,
     "metadata": {},
     "output_type": "execute_result"
    }
   ],
   "source": [
    "csv[csv['votes']>=500]"
   ]
  },
  {
   "cell_type": "code",
   "execution_count": 55,
   "metadata": {},
   "outputs": [
    {
     "data": {
      "text/html": [
       "<div>\n",
       "<style scoped>\n",
       "    .dataframe tbody tr th:only-of-type {\n",
       "        vertical-align: middle;\n",
       "    }\n",
       "\n",
       "    .dataframe tbody tr th {\n",
       "        vertical-align: top;\n",
       "    }\n",
       "\n",
       "    .dataframe thead th {\n",
       "        text-align: right;\n",
       "    }\n",
       "</style>\n",
       "<table border=\"1\" class=\"dataframe\">\n",
       "  <thead>\n",
       "    <tr style=\"text-align: right;\">\n",
       "      <th></th>\n",
       "      <th>date</th>\n",
       "      <th>name</th>\n",
       "      <th>seen</th>\n",
       "      <th>star</th>\n",
       "      <th>text</th>\n",
       "      <th>votes</th>\n",
       "    </tr>\n",
       "  </thead>\n",
       "  <tbody>\n",
       "    <tr>\n",
       "      <th>0</th>\n",
       "      <td>2020-12-17 12:31:55</td>\n",
       "      <td>阿暖</td>\n",
       "      <td>看过</td>\n",
       "      <td>4</td>\n",
       "      <td>最意外的是，在这个故事里竟然看到某种波伏娃式的冷酷与绝望——一个完美女性可以拥有一切，美貌，...</td>\n",
       "      <td>2321</td>\n",
       "    </tr>\n",
       "    <tr>\n",
       "      <th>3</th>\n",
       "      <td>2020-12-14 18:25:00</td>\n",
       "      <td>天马星</td>\n",
       "      <td>看过</td>\n",
       "      <td>5</td>\n",
       "      <td>二刷激光IMAX后依旧确信《神奇女侠1984》是我今年最爱的院线片，原因有二。一是延续了DC...</td>\n",
       "      <td>1025</td>\n",
       "    </tr>\n",
       "    <tr>\n",
       "      <th>7</th>\n",
       "      <td>2020-12-07 13:26:58</td>\n",
       "      <td>烟波人长安</td>\n",
       "      <td>看过</td>\n",
       "      <td>5</td>\n",
       "      <td>本来正义联盟之后我都快对dc不抱什么期望了，盖尔加朵又给我打了针强心剂。没想到这一部拍得这么...</td>\n",
       "      <td>787</td>\n",
       "    </tr>\n",
       "    <tr>\n",
       "      <th>9</th>\n",
       "      <td>2020-12-07 14:05:40</td>\n",
       "      <td>摇又鸟又鸟的狗</td>\n",
       "      <td>看过</td>\n",
       "      <td>4</td>\n",
       "      <td>首先想说，我并不是一个超英电影爱好者，我总觉得靠一个人发挥神力、噼里啪啦一顿大战就能拯救世界...</td>\n",
       "      <td>1782</td>\n",
       "    </tr>\n",
       "    <tr>\n",
       "      <th>12</th>\n",
       "      <td>2020-12-18 02:56:37</td>\n",
       "      <td>Ada🧣Wong💋💍</td>\n",
       "      <td>看过</td>\n",
       "      <td>4</td>\n",
       "      <td>8/10，这个许愿石的点子想的非常好，既解决了史蒂夫的回归的问题，也成功地树立了两个反派形象...</td>\n",
       "      <td>1209</td>\n",
       "    </tr>\n",
       "    <tr>\n",
       "      <th>...</th>\n",
       "      <td>...</td>\n",
       "      <td>...</td>\n",
       "      <td>...</td>\n",
       "      <td>...</td>\n",
       "      <td>...</td>\n",
       "      <td>...</td>\n",
       "    </tr>\n",
       "    <tr>\n",
       "      <th>489</th>\n",
       "      <td>2020-12-22 18:51:18</td>\n",
       "      <td>扰扰</td>\n",
       "      <td>看过</td>\n",
       "      <td>4</td>\n",
       "      <td>所以说，如果全世界的人都来许个愿，这个世界很快就会灭亡，原因在于贪婪、自私和欺骗。放下执念，...</td>\n",
       "      <td>0</td>\n",
       "    </tr>\n",
       "    <tr>\n",
       "      <th>490</th>\n",
       "      <td>2020-12-20 23:12:02</td>\n",
       "      <td>卢子鱼酱</td>\n",
       "      <td>看过</td>\n",
       "      <td>5</td>\n",
       "      <td>我就是喜欢！！！我就是冲着盖尔加朵的盛世美颜看的！！！</td>\n",
       "      <td>0</td>\n",
       "    </tr>\n",
       "    <tr>\n",
       "      <th>496</th>\n",
       "      <td>2020-12-22 18:42:21</td>\n",
       "      <td>Maxthor</td>\n",
       "      <td>看过</td>\n",
       "      <td>4</td>\n",
       "      <td>四星不足三星有余，Patty Jenkins的动作戏份还是没有想象中的精彩，对足够的特效支持...</td>\n",
       "      <td>0</td>\n",
       "    </tr>\n",
       "    <tr>\n",
       "      <th>497</th>\n",
       "      <td>2020-12-21 10:48:29</td>\n",
       "      <td>西老米</td>\n",
       "      <td>看过</td>\n",
       "      <td>4</td>\n",
       "      <td>还行啊，评分有点低了啊</td>\n",
       "      <td>0</td>\n",
       "    </tr>\n",
       "    <tr>\n",
       "      <th>499</th>\n",
       "      <td>2020-12-20 23:52:52</td>\n",
       "      <td>リンカ</td>\n",
       "      <td>看过</td>\n",
       "      <td>4</td>\n",
       "      <td>剧情比较老套，但做抉择的时候还是很心痛就是了……小朋友真是可怜，经历这么多破事儿，就算最后h...</td>\n",
       "      <td>0</td>\n",
       "    </tr>\n",
       "  </tbody>\n",
       "</table>\n",
       "<p>207 rows × 6 columns</p>\n",
       "</div>"
      ],
      "text/plain": [
       "                    date        name seen  star  \\\n",
       "0    2020-12-17 12:31:55          阿暖   看过     4   \n",
       "3    2020-12-14 18:25:00         天马星   看过     5   \n",
       "7    2020-12-07 13:26:58       烟波人长安   看过     5   \n",
       "9    2020-12-07 14:05:40     摇又鸟又鸟的狗   看过     4   \n",
       "12   2020-12-18 02:56:37  Ada🧣Wong💋💍   看过     4   \n",
       "..                   ...         ...  ...   ...   \n",
       "489  2020-12-22 18:51:18          扰扰   看过     4   \n",
       "490  2020-12-20 23:12:02        卢子鱼酱   看过     5   \n",
       "496  2020-12-22 18:42:21     Maxthor   看过     4   \n",
       "497  2020-12-21 10:48:29         西老米   看过     4   \n",
       "499  2020-12-20 23:52:52         リンカ   看过     4   \n",
       "\n",
       "                                                  text  votes  \n",
       "0    最意外的是，在这个故事里竟然看到某种波伏娃式的冷酷与绝望——一个完美女性可以拥有一切，美貌，...   2321  \n",
       "3    二刷激光IMAX后依旧确信《神奇女侠1984》是我今年最爱的院线片，原因有二。一是延续了DC...   1025  \n",
       "7    本来正义联盟之后我都快对dc不抱什么期望了，盖尔加朵又给我打了针强心剂。没想到这一部拍得这么...    787  \n",
       "9    首先想说，我并不是一个超英电影爱好者，我总觉得靠一个人发挥神力、噼里啪啦一顿大战就能拯救世界...   1782  \n",
       "12   8/10，这个许愿石的点子想的非常好，既解决了史蒂夫的回归的问题，也成功地树立了两个反派形象...   1209  \n",
       "..                                                 ...    ...  \n",
       "489  所以说，如果全世界的人都来许个愿，这个世界很快就会灭亡，原因在于贪婪、自私和欺骗。放下执念，...      0  \n",
       "490                        我就是喜欢！！！我就是冲着盖尔加朵的盛世美颜看的！！！      0  \n",
       "496  四星不足三星有余，Patty Jenkins的动作戏份还是没有想象中的精彩，对足够的特效支持...      0  \n",
       "497                                        还行啊，评分有点低了啊      0  \n",
       "499  剧情比较老套，但做抉择的时候还是很心痛就是了……小朋友真是可怜，经历这么多破事儿，就算最后h...      0  \n",
       "\n",
       "[207 rows x 6 columns]"
      ]
     },
     "execution_count": 55,
     "metadata": {},
     "output_type": "execute_result"
    }
   ],
   "source": [
    "csv[csv['star']>=4]"
   ]
  },
  {
   "cell_type": "code",
   "execution_count": 56,
   "metadata": {},
   "outputs": [
    {
     "data": {
      "text/plain": [
       "0       True\n",
       "1      False\n",
       "2      False\n",
       "3       True\n",
       "4      False\n",
       "       ...  \n",
       "495    False\n",
       "496     True\n",
       "497     True\n",
       "498    False\n",
       "499     True\n",
       "Name: star, Length: 500, dtype: bool"
      ]
     },
     "execution_count": 56,
     "metadata": {},
     "output_type": "execute_result"
    }
   ],
   "source": [
    "csv['star']>=4"
   ]
  },
  {
   "cell_type": "code",
   "execution_count": 57,
   "metadata": {},
   "outputs": [
    {
     "data": {
      "text/plain": [
       "0       True\n",
       "1      False\n",
       "2       True\n",
       "3      False\n",
       "4       True\n",
       "       ...  \n",
       "495    False\n",
       "496    False\n",
       "497    False\n",
       "498    False\n",
       "499    False\n",
       "Name: votes, Length: 500, dtype: bool"
      ]
     },
     "execution_count": 57,
     "metadata": {},
     "output_type": "execute_result"
    }
   ],
   "source": [
    "csv['votes']>=2000"
   ]
  },
  {
   "cell_type": "code",
   "execution_count": 58,
   "metadata": {},
   "outputs": [],
   "source": [
    "csv.iat[1,1]=0"
   ]
  },
  {
   "cell_type": "code",
   "execution_count": 59,
   "metadata": {},
   "outputs": [
    {
     "data": {
      "text/plain": [
       "0"
      ]
     },
     "execution_count": 59,
     "metadata": {},
     "output_type": "execute_result"
    }
   ],
   "source": [
    "csv.iat[1,1]"
   ]
  },
  {
   "cell_type": "code",
   "execution_count": 60,
   "metadata": {},
   "outputs": [
    {
     "data": {
      "text/plain": [
       "0      1162.5\n",
       "1       228.5\n",
       "2      1074.5\n",
       "3       515.0\n",
       "4      1808.0\n",
       "        ...  \n",
       "495       1.0\n",
       "496       2.0\n",
       "497       2.0\n",
       "498       1.0\n",
       "499       2.0\n",
       "Length: 500, dtype: float64"
      ]
     },
     "execution_count": 60,
     "metadata": {},
     "output_type": "execute_result"
    }
   ],
   "source": [
    "csv.mean(1)"
   ]
  },
  {
   "cell_type": "code",
   "execution_count": 61,
   "metadata": {},
   "outputs": [
    {
     "data": {
      "text/plain": [
       "star      3.192\n",
       "votes    61.334\n",
       "dtype: float64"
      ]
     },
     "execution_count": 61,
     "metadata": {},
     "output_type": "execute_result"
    }
   ],
   "source": [
    "csv.mean()"
   ]
  },
  {
   "cell_type": "code",
   "execution_count": 62,
   "metadata": {},
   "outputs": [],
   "source": [
    "a=\"Hello\""
   ]
  },
  {
   "cell_type": "code",
   "execution_count": 63,
   "metadata": {},
   "outputs": [],
   "source": [
    "b=\"rush\""
   ]
  },
  {
   "cell_type": "code",
   "execution_count": 64,
   "metadata": {},
   "outputs": [
    {
     "name": "stdout",
     "output_type": "stream",
     "text": [
      "<class 'str'>\n"
     ]
    }
   ],
   "source": [
    "print(type(a))"
   ]
  },
  {
   "cell_type": "code",
   "execution_count": 65,
   "metadata": {},
   "outputs": [
    {
     "name": "stdout",
     "output_type": "stream",
     "text": [
      "5\n"
     ]
    }
   ],
   "source": [
    "print(len(a))"
   ]
  },
  {
   "cell_type": "code",
   "execution_count": 66,
   "metadata": {},
   "outputs": [
    {
     "name": "stdout",
     "output_type": "stream",
     "text": [
      "<class 'str'>\n"
     ]
    }
   ],
   "source": [
    "print(type(b))"
   ]
  },
  {
   "cell_type": "code",
   "execution_count": 67,
   "metadata": {},
   "outputs": [
    {
     "name": "stdout",
     "output_type": "stream",
     "text": [
      "4\n"
     ]
    }
   ],
   "source": [
    "print(len(b))"
   ]
  },
  {
   "cell_type": "code",
   "execution_count": 68,
   "metadata": {},
   "outputs": [
    {
     "name": "stdout",
     "output_type": "stream",
     "text": [
      "a[0]: H\n"
     ]
    }
   ],
   "source": [
    "print(\"a[0]:\",a[0])"
   ]
  },
  {
   "cell_type": "code",
   "execution_count": 69,
   "metadata": {},
   "outputs": [
    {
     "name": "stdout",
     "output_type": "stream",
     "text": [
      "b[1:4]: ush\n"
     ]
    }
   ],
   "source": [
    "print(\"b[1:4]:\",b[1:4])"
   ]
  },
  {
   "cell_type": "code",
   "execution_count": 70,
   "metadata": {},
   "outputs": [],
   "source": [
    "a=\"Hello\""
   ]
  },
  {
   "cell_type": "code",
   "execution_count": 71,
   "metadata": {},
   "outputs": [
    {
     "name": "stdout",
     "output_type": "stream",
     "text": [
      "Hello\n"
     ]
    }
   ],
   "source": [
    "print(f'{a}')"
   ]
  },
  {
   "cell_type": "code",
   "execution_count": 72,
   "metadata": {},
   "outputs": [
    {
     "name": "stdout",
     "output_type": "stream",
     "text": [
      "HELLO\n"
     ]
    }
   ],
   "source": [
    "print(a.upper())"
   ]
  },
  {
   "cell_type": "code",
   "execution_count": 73,
   "metadata": {},
   "outputs": [
    {
     "name": "stdout",
     "output_type": "stream",
     "text": [
      "Hello\n"
     ]
    }
   ],
   "source": [
    "print(a.title())"
   ]
  },
  {
   "cell_type": "code",
   "execution_count": 74,
   "metadata": {},
   "outputs": [
    {
     "name": "stdout",
     "output_type": "stream",
     "text": [
      "Hello\n"
     ]
    }
   ],
   "source": [
    "print(a.capitalize())"
   ]
  },
  {
   "cell_type": "code",
   "execution_count": 75,
   "metadata": {},
   "outputs": [
    {
     "name": "stdout",
     "output_type": "stream",
     "text": [
      "True\n"
     ]
    }
   ],
   "source": [
    "print(a.isalpha())"
   ]
  },
  {
   "cell_type": "code",
   "execution_count": 76,
   "metadata": {},
   "outputs": [],
   "source": [
    "b=['red','green','white']"
   ]
  },
  {
   "cell_type": "code",
   "execution_count": 77,
   "metadata": {},
   "outputs": [
    {
     "name": "stdout",
     "output_type": "stream",
     "text": [
      "<class 'list'>\n"
     ]
    }
   ],
   "source": [
    "print(type(b))"
   ]
  },
  {
   "cell_type": "code",
   "execution_count": 78,
   "metadata": {},
   "outputs": [
    {
     "data": {
      "text/plain": [
       "['red', 'green', 'white']"
      ]
     },
     "execution_count": 78,
     "metadata": {},
     "output_type": "execute_result"
    }
   ],
   "source": [
    "b"
   ]
  },
  {
   "cell_type": "code",
   "execution_count": 79,
   "metadata": {},
   "outputs": [
    {
     "name": "stdout",
     "output_type": "stream",
     "text": [
      "red\n"
     ]
    }
   ],
   "source": [
    "print(b[0])"
   ]
  },
  {
   "cell_type": "code",
   "execution_count": 80,
   "metadata": {},
   "outputs": [
    {
     "name": "stdout",
     "output_type": "stream",
     "text": [
      "green\n"
     ]
    }
   ],
   "source": [
    "print(b[1])"
   ]
  },
  {
   "cell_type": "code",
   "execution_count": 81,
   "metadata": {},
   "outputs": [
    {
     "name": "stdout",
     "output_type": "stream",
     "text": [
      "white\n"
     ]
    }
   ],
   "source": [
    "print(b[2])"
   ]
  },
  {
   "cell_type": "code",
   "execution_count": 82,
   "metadata": {},
   "outputs": [],
   "source": [
    "a=[0,10,20,30]"
   ]
  },
  {
   "cell_type": "code",
   "execution_count": 83,
   "metadata": {},
   "outputs": [
    {
     "data": {
      "text/plain": [
       "[0, 10, 20, 30]"
      ]
     },
     "execution_count": 83,
     "metadata": {},
     "output_type": "execute_result"
    }
   ],
   "source": [
    "a"
   ]
  },
  {
   "cell_type": "code",
   "execution_count": 84,
   "metadata": {},
   "outputs": [
    {
     "name": "stdout",
     "output_type": "stream",
     "text": [
      "[0]\n"
     ]
    }
   ],
   "source": [
    "print(a[0:1])"
   ]
  },
  {
   "cell_type": "code",
   "execution_count": 85,
   "metadata": {},
   "outputs": [
    {
     "name": "stdout",
     "output_type": "stream",
     "text": [
      "[0, 10]\n"
     ]
    }
   ],
   "source": [
    "print(a[0:2])"
   ]
  },
  {
   "cell_type": "code",
   "execution_count": 86,
   "metadata": {},
   "outputs": [
    {
     "name": "stdout",
     "output_type": "stream",
     "text": [
      "[10, 20]\n"
     ]
    }
   ],
   "source": [
    "print(a[1:3])"
   ]
  },
  {
   "cell_type": "code",
   "execution_count": 87,
   "metadata": {},
   "outputs": [
    {
     "name": "stdout",
     "output_type": "stream",
     "text": [
      "[10, 20, 30]\n"
     ]
    }
   ],
   "source": [
    "print(a[1:])"
   ]
  },
  {
   "cell_type": "code",
   "execution_count": 88,
   "metadata": {},
   "outputs": [
    {
     "name": "stdout",
     "output_type": "stream",
     "text": [
      "[0, 10, 20, 30]\n"
     ]
    }
   ],
   "source": [
    "print(a[:4])"
   ]
  },
  {
   "cell_type": "code",
   "execution_count": 89,
   "metadata": {},
   "outputs": [
    {
     "name": "stdout",
     "output_type": "stream",
     "text": [
      "[0, 10, 20]\n"
     ]
    }
   ],
   "source": [
    "print(a[:3])"
   ]
  },
  {
   "cell_type": "code",
   "execution_count": 90,
   "metadata": {},
   "outputs": [
    {
     "name": "stdout",
     "output_type": "stream",
     "text": [
      "[0, 10]\n"
     ]
    }
   ],
   "source": [
    "print(a[:2])"
   ]
  },
  {
   "cell_type": "code",
   "execution_count": 91,
   "metadata": {},
   "outputs": [
    {
     "name": "stdout",
     "output_type": "stream",
     "text": [
      "[10, 20, 30]\n"
     ]
    }
   ],
   "source": [
    "print(a[1:])"
   ]
  },
  {
   "cell_type": "code",
   "execution_count": 92,
   "metadata": {},
   "outputs": [
    {
     "name": "stdout",
     "output_type": "stream",
     "text": [
      "[30]\n"
     ]
    }
   ],
   "source": [
    "print(a[3:])"
   ]
  },
  {
   "cell_type": "code",
   "execution_count": 93,
   "metadata": {},
   "outputs": [
    {
     "name": "stdout",
     "output_type": "stream",
     "text": [
      "[20, 30]\n"
     ]
    }
   ],
   "source": [
    "print(a[2:])"
   ]
  },
  {
   "cell_type": "code",
   "execution_count": 94,
   "metadata": {},
   "outputs": [
    {
     "name": "stdout",
     "output_type": "stream",
     "text": [
      "[10, 20, 30]\n"
     ]
    }
   ],
   "source": [
    "print(a[1:])"
   ]
  },
  {
   "cell_type": "code",
   "execution_count": 95,
   "metadata": {},
   "outputs": [
    {
     "name": "stdout",
     "output_type": "stream",
     "text": [
      "[0, 10]\n"
     ]
    }
   ],
   "source": [
    "print(a[0:2])"
   ]
  },
  {
   "cell_type": "code",
   "execution_count": 96,
   "metadata": {},
   "outputs": [],
   "source": [
    "b=['red','white','yellow']"
   ]
  },
  {
   "cell_type": "code",
   "execution_count": 97,
   "metadata": {},
   "outputs": [],
   "source": [
    "b[2]='pink'"
   ]
  },
  {
   "cell_type": "code",
   "execution_count": 98,
   "metadata": {},
   "outputs": [
    {
     "data": {
      "text/plain": [
       "['red', 'white', 'pink']"
      ]
     },
     "execution_count": 98,
     "metadata": {},
     "output_type": "execute_result"
    }
   ],
   "source": [
    "b"
   ]
  },
  {
   "cell_type": "code",
   "execution_count": 99,
   "metadata": {},
   "outputs": [],
   "source": [
    "b=['red','yellow','white']"
   ]
  },
  {
   "cell_type": "code",
   "execution_count": 100,
   "metadata": {},
   "outputs": [],
   "source": [
    "del b[1]"
   ]
  },
  {
   "cell_type": "code",
   "execution_count": 101,
   "metadata": {},
   "outputs": [
    {
     "data": {
      "text/plain": [
       "['red', 'white']"
      ]
     },
     "execution_count": 101,
     "metadata": {},
     "output_type": "execute_result"
    }
   ],
   "source": [
    "b"
   ]
  },
  {
   "cell_type": "code",
   "execution_count": 102,
   "metadata": {},
   "outputs": [],
   "source": [
    "b.append('pink')"
   ]
  },
  {
   "cell_type": "code",
   "execution_count": 103,
   "metadata": {},
   "outputs": [
    {
     "data": {
      "text/plain": [
       "['red', 'white', 'pink']"
      ]
     },
     "execution_count": 103,
     "metadata": {},
     "output_type": "execute_result"
    }
   ],
   "source": [
    "b"
   ]
  },
  {
   "cell_type": "code",
   "execution_count": 104,
   "metadata": {},
   "outputs": [],
   "source": [
    "b.insert(2,'yellow')"
   ]
  },
  {
   "cell_type": "code",
   "execution_count": 105,
   "metadata": {},
   "outputs": [
    {
     "data": {
      "text/plain": [
       "['red', 'white', 'yellow', 'pink']"
      ]
     },
     "execution_count": 105,
     "metadata": {},
     "output_type": "execute_result"
    }
   ],
   "source": [
    "b"
   ]
  },
  {
   "cell_type": "code",
   "execution_count": 106,
   "metadata": {},
   "outputs": [
    {
     "name": "stdout",
     "output_type": "stream",
     "text": [
      "1\n"
     ]
    }
   ],
   "source": [
    "print(b.count('red'))"
   ]
  },
  {
   "cell_type": "code",
   "execution_count": 107,
   "metadata": {},
   "outputs": [
    {
     "name": "stdout",
     "output_type": "stream",
     "text": [
      "2\n"
     ]
    }
   ],
   "source": [
    "print(b.index('yellow'))"
   ]
  },
  {
   "cell_type": "code",
   "execution_count": 108,
   "metadata": {},
   "outputs": [],
   "source": [
    "c=[0,1,3,5,7,9,2,4,6,8]"
   ]
  },
  {
   "cell_type": "code",
   "execution_count": 109,
   "metadata": {},
   "outputs": [
    {
     "name": "stdout",
     "output_type": "stream",
     "text": [
      "10\n"
     ]
    }
   ],
   "source": [
    "print(len(c))"
   ]
  },
  {
   "cell_type": "code",
   "execution_count": 110,
   "metadata": {},
   "outputs": [
    {
     "name": "stdout",
     "output_type": "stream",
     "text": [
      "9\n"
     ]
    }
   ],
   "source": [
    "print(max(c))"
   ]
  },
  {
   "cell_type": "code",
   "execution_count": 111,
   "metadata": {},
   "outputs": [
    {
     "name": "stdout",
     "output_type": "stream",
     "text": [
      "0\n"
     ]
    }
   ],
   "source": [
    "print(min(c))"
   ]
  },
  {
   "cell_type": "code",
   "execution_count": 112,
   "metadata": {},
   "outputs": [],
   "source": [
    "c.sort()"
   ]
  },
  {
   "cell_type": "code",
   "execution_count": 113,
   "metadata": {},
   "outputs": [
    {
     "name": "stdout",
     "output_type": "stream",
     "text": [
      "[0, 1, 2, 3, 4, 5, 6, 7, 8, 9]\n"
     ]
    }
   ],
   "source": [
    "print(c)"
   ]
  },
  {
   "cell_type": "code",
   "execution_count": 114,
   "metadata": {},
   "outputs": [],
   "source": [
    "c.reverse()"
   ]
  },
  {
   "cell_type": "code",
   "execution_count": 115,
   "metadata": {},
   "outputs": [
    {
     "data": {
      "text/plain": [
       "[9, 8, 7, 6, 5, 4, 3, 2, 1, 0]"
      ]
     },
     "execution_count": 115,
     "metadata": {},
     "output_type": "execute_result"
    }
   ],
   "source": [
    "c"
   ]
  },
  {
   "cell_type": "code",
   "execution_count": 116,
   "metadata": {},
   "outputs": [],
   "source": [
    "c.clear()"
   ]
  },
  {
   "cell_type": "code",
   "execution_count": 117,
   "metadata": {},
   "outputs": [
    {
     "name": "stdout",
     "output_type": "stream",
     "text": [
      "[]\n"
     ]
    }
   ],
   "source": [
    "print(c)"
   ]
  },
  {
   "cell_type": "code",
   "execution_count": 118,
   "metadata": {},
   "outputs": [],
   "source": [
    "a=[]"
   ]
  },
  {
   "cell_type": "code",
   "execution_count": 119,
   "metadata": {},
   "outputs": [],
   "source": [
    "a+=[1,2,4,6]"
   ]
  },
  {
   "cell_type": "code",
   "execution_count": 120,
   "metadata": {},
   "outputs": [
    {
     "data": {
      "text/plain": [
       "[1, 2, 4, 6]"
      ]
     },
     "execution_count": 120,
     "metadata": {},
     "output_type": "execute_result"
    }
   ],
   "source": [
    "a"
   ]
  },
  {
   "cell_type": "code",
   "execution_count": 121,
   "metadata": {},
   "outputs": [
    {
     "data": {
      "text/plain": [
       "['Hello',\n",
       " 'ZXY',\n",
       " 'Hello',\n",
       " 'ZXY',\n",
       " 'Hello',\n",
       " 'ZXY',\n",
       " 'Hello',\n",
       " 'ZXY',\n",
       " 'Hello',\n",
       " 'ZXY']"
      ]
     },
     "execution_count": 121,
     "metadata": {},
     "output_type": "execute_result"
    }
   ],
   "source": [
    "['Hello','ZXY']*5"
   ]
  },
  {
   "cell_type": "code",
   "execution_count": 122,
   "metadata": {},
   "outputs": [
    {
     "name": "stdout",
     "output_type": "stream",
     "text": [
      "<class 'range'>\n"
     ]
    }
   ],
   "source": [
    "print(type(range(5)))"
   ]
  },
  {
   "cell_type": "code",
   "execution_count": 123,
   "metadata": {},
   "outputs": [
    {
     "data": {
      "text/plain": [
       "[0, 1, 2, 3, 4]"
      ]
     },
     "execution_count": 123,
     "metadata": {},
     "output_type": "execute_result"
    }
   ],
   "source": [
    "list(range(5))"
   ]
  },
  {
   "cell_type": "code",
   "execution_count": 124,
   "metadata": {},
   "outputs": [
    {
     "data": {
      "text/plain": [
       "[0, 1, 2, 3, 4]"
      ]
     },
     "execution_count": 124,
     "metadata": {},
     "output_type": "execute_result"
    }
   ],
   "source": [
    "[i for i in range(5)]"
   ]
  },
  {
   "cell_type": "code",
   "execution_count": 125,
   "metadata": {},
   "outputs": [
    {
     "data": {
      "text/plain": [
       "4"
      ]
     },
     "execution_count": 125,
     "metadata": {},
     "output_type": "execute_result"
    }
   ],
   "source": [
    "i"
   ]
  },
  {
   "cell_type": "code",
   "execution_count": 126,
   "metadata": {},
   "outputs": [],
   "source": [
    "tup1=('google','rush',1997)"
   ]
  },
  {
   "cell_type": "code",
   "execution_count": 127,
   "metadata": {},
   "outputs": [
    {
     "name": "stdout",
     "output_type": "stream",
     "text": [
      "<class 'tuple'>\n"
     ]
    }
   ],
   "source": [
    "print(type(tup1))"
   ]
  },
  {
   "cell_type": "code",
   "execution_count": 128,
   "metadata": {},
   "outputs": [],
   "source": [
    "tup2=(1,2,3,4)"
   ]
  },
  {
   "cell_type": "code",
   "execution_count": 129,
   "metadata": {},
   "outputs": [],
   "source": [
    "tup3=\"a\",\"b\",\"c\""
   ]
  },
  {
   "cell_type": "code",
   "execution_count": 130,
   "metadata": {},
   "outputs": [],
   "source": [
    "tup4=(1,)"
   ]
  },
  {
   "cell_type": "code",
   "execution_count": 131,
   "metadata": {},
   "outputs": [],
   "source": [
    "tup5=1,"
   ]
  },
  {
   "cell_type": "code",
   "execution_count": 132,
   "metadata": {},
   "outputs": [
    {
     "name": "stdout",
     "output_type": "stream",
     "text": [
      "('google', 'rush', 1997)\n"
     ]
    }
   ],
   "source": [
    "print(tup1)"
   ]
  },
  {
   "cell_type": "code",
   "execution_count": 133,
   "metadata": {},
   "outputs": [
    {
     "name": "stdout",
     "output_type": "stream",
     "text": [
      "(1, 2, 3, 4)\n"
     ]
    }
   ],
   "source": [
    "print(tup2)"
   ]
  },
  {
   "cell_type": "code",
   "execution_count": 134,
   "metadata": {},
   "outputs": [
    {
     "name": "stdout",
     "output_type": "stream",
     "text": [
      "('a', 'b', 'c')\n"
     ]
    }
   ],
   "source": [
    "print(tup3)"
   ]
  },
  {
   "cell_type": "code",
   "execution_count": 135,
   "metadata": {},
   "outputs": [
    {
     "name": "stdout",
     "output_type": "stream",
     "text": [
      "(1,)\n"
     ]
    }
   ],
   "source": [
    "print(tup4)"
   ]
  },
  {
   "cell_type": "code",
   "execution_count": 136,
   "metadata": {},
   "outputs": [
    {
     "name": "stdout",
     "output_type": "stream",
     "text": [
      "(1,)\n"
     ]
    }
   ],
   "source": [
    "print(tup5)"
   ]
  },
  {
   "cell_type": "code",
   "execution_count": 137,
   "metadata": {},
   "outputs": [
    {
     "data": {
      "text/plain": [
       "'google'"
      ]
     },
     "execution_count": 137,
     "metadata": {},
     "output_type": "execute_result"
    }
   ],
   "source": [
    "tup1[0]"
   ]
  },
  {
   "cell_type": "code",
   "execution_count": 138,
   "metadata": {},
   "outputs": [
    {
     "data": {
      "text/plain": [
       "('google', 'rush', 1997, 1, 2, 3, 4)"
      ]
     },
     "execution_count": 138,
     "metadata": {},
     "output_type": "execute_result"
    }
   ],
   "source": [
    "tup1+tup2"
   ]
  },
  {
   "cell_type": "code",
   "execution_count": 139,
   "metadata": {},
   "outputs": [],
   "source": [
    "del tup1"
   ]
  },
  {
   "cell_type": "code",
   "execution_count": 140,
   "metadata": {},
   "outputs": [
    {
     "data": {
      "text/plain": [
       "(0, 1, 2, 3, 4)"
      ]
     },
     "execution_count": 140,
     "metadata": {},
     "output_type": "execute_result"
    }
   ],
   "source": [
    "tuple(range(5))"
   ]
  },
  {
   "cell_type": "code",
   "execution_count": 141,
   "metadata": {},
   "outputs": [],
   "source": [
    "a={'apple','orange','apple','banana'}"
   ]
  },
  {
   "cell_type": "code",
   "execution_count": 142,
   "metadata": {},
   "outputs": [
    {
     "name": "stdout",
     "output_type": "stream",
     "text": [
      "<class 'set'>\n"
     ]
    }
   ],
   "source": [
    "print(type(a))"
   ]
  },
  {
   "cell_type": "code",
   "execution_count": 143,
   "metadata": {},
   "outputs": [
    {
     "name": "stdout",
     "output_type": "stream",
     "text": [
      "{'orange', 'apple', 'banana'}\n"
     ]
    }
   ],
   "source": [
    "print(a)"
   ]
  },
  {
   "cell_type": "code",
   "execution_count": 144,
   "metadata": {},
   "outputs": [],
   "source": [
    "b=set('gello')"
   ]
  },
  {
   "cell_type": "code",
   "execution_count": 145,
   "metadata": {},
   "outputs": [
    {
     "name": "stdout",
     "output_type": "stream",
     "text": [
      "{'e', 'g', 'o', 'l'}\n"
     ]
    }
   ],
   "source": [
    "print(b)"
   ]
  },
  {
   "cell_type": "code",
   "execution_count": 146,
   "metadata": {},
   "outputs": [],
   "source": [
    "a.add('melon')"
   ]
  },
  {
   "cell_type": "code",
   "execution_count": 147,
   "metadata": {},
   "outputs": [
    {
     "name": "stdout",
     "output_type": "stream",
     "text": [
      "{'orange', 'apple', 'melon', 'banana'}\n"
     ]
    }
   ],
   "source": [
    "print(a)"
   ]
  },
  {
   "cell_type": "code",
   "execution_count": 148,
   "metadata": {},
   "outputs": [],
   "source": [
    "a.remove('apple')"
   ]
  },
  {
   "cell_type": "code",
   "execution_count": 149,
   "metadata": {},
   "outputs": [
    {
     "name": "stdout",
     "output_type": "stream",
     "text": [
      "{'orange', 'melon', 'banana'}\n"
     ]
    }
   ],
   "source": [
    "print(a)"
   ]
  },
  {
   "cell_type": "code",
   "execution_count": 150,
   "metadata": {},
   "outputs": [],
   "source": [
    "a=set('apple')"
   ]
  },
  {
   "cell_type": "code",
   "execution_count": 151,
   "metadata": {},
   "outputs": [
    {
     "name": "stdout",
     "output_type": "stream",
     "text": [
      "{'a', 'l', 'p', 'e'}\n"
     ]
    }
   ],
   "source": [
    "print(a)"
   ]
  },
  {
   "cell_type": "code",
   "execution_count": 152,
   "metadata": {},
   "outputs": [],
   "source": [
    "b=set('vdszdv')"
   ]
  },
  {
   "cell_type": "code",
   "execution_count": 153,
   "metadata": {},
   "outputs": [
    {
     "name": "stdout",
     "output_type": "stream",
     "text": [
      "{'v', 'd', 's', 'z'}\n"
     ]
    }
   ],
   "source": [
    "print(b)"
   ]
  },
  {
   "cell_type": "code",
   "execution_count": 154,
   "metadata": {},
   "outputs": [],
   "source": [
    "a={'apple','melon','banana'}"
   ]
  },
  {
   "cell_type": "code",
   "execution_count": 155,
   "metadata": {},
   "outputs": [],
   "source": [
    "a.update('lemon')"
   ]
  },
  {
   "cell_type": "code",
   "execution_count": 156,
   "metadata": {},
   "outputs": [
    {
     "name": "stdout",
     "output_type": "stream",
     "text": [
      "{'m', 'n', 'e', 'apple', 'o', 'l', 'melon', 'banana'}\n"
     ]
    }
   ],
   "source": [
    "print(a)"
   ]
  },
  {
   "cell_type": "code",
   "execution_count": 157,
   "metadata": {},
   "outputs": [],
   "source": [
    "a.update(['melon','lemon'])"
   ]
  },
  {
   "cell_type": "code",
   "execution_count": 158,
   "metadata": {},
   "outputs": [
    {
     "name": "stdout",
     "output_type": "stream",
     "text": [
      "{'m', 'n', 'lemon', 'e', 'apple', 'o', 'l', 'melon', 'banana'}\n"
     ]
    }
   ],
   "source": [
    "print(a)"
   ]
  },
  {
   "cell_type": "code",
   "execution_count": 159,
   "metadata": {},
   "outputs": [],
   "source": [
    "dict1={'Name':'rush','Age':7}"
   ]
  },
  {
   "cell_type": "code",
   "execution_count": 160,
   "metadata": {},
   "outputs": [
    {
     "name": "stdout",
     "output_type": "stream",
     "text": [
      "<class 'dict'>\n"
     ]
    }
   ],
   "source": [
    "print(type(dict1))"
   ]
  },
  {
   "cell_type": "code",
   "execution_count": 161,
   "metadata": {},
   "outputs": [],
   "source": [
    "del dict1['Name']"
   ]
  },
  {
   "cell_type": "code",
   "execution_count": 162,
   "metadata": {},
   "outputs": [
    {
     "name": "stdout",
     "output_type": "stream",
     "text": [
      "{'Age': 7}\n"
     ]
    }
   ],
   "source": [
    "print(dict1)"
   ]
  },
  {
   "cell_type": "code",
   "execution_count": 163,
   "metadata": {},
   "outputs": [
    {
     "name": "stdout",
     "output_type": "stream",
     "text": [
      "dict_keys(['Age'])\n"
     ]
    }
   ],
   "source": [
    "print(dict1.keys())"
   ]
  },
  {
   "cell_type": "code",
   "execution_count": 164,
   "metadata": {},
   "outputs": [
    {
     "name": "stdout",
     "output_type": "stream",
     "text": [
      "dict_values([7])\n"
     ]
    }
   ],
   "source": [
    "print(dict1.values())"
   ]
  },
  {
   "cell_type": "code",
   "execution_count": 165,
   "metadata": {},
   "outputs": [
    {
     "name": "stdout",
     "output_type": "stream",
     "text": [
      "dict_items([('Age', 7)])\n"
     ]
    }
   ],
   "source": [
    "print(dict1.items())"
   ]
  },
  {
   "cell_type": "code",
   "execution_count": 166,
   "metadata": {},
   "outputs": [
    {
     "name": "stdout",
     "output_type": "stream",
     "text": [
      "{'a': 0, 'b': 0, 'c': 0}\n"
     ]
    }
   ],
   "source": [
    "print(dict1.fromkeys('abc',0))"
   ]
  },
  {
   "cell_type": "code",
   "execution_count": 167,
   "metadata": {},
   "outputs": [
    {
     "data": {
      "text/plain": [
       "True"
      ]
     },
     "execution_count": 167,
     "metadata": {},
     "output_type": "execute_result"
    }
   ],
   "source": [
    "1==1"
   ]
  },
  {
   "cell_type": "code",
   "execution_count": 168,
   "metadata": {},
   "outputs": [],
   "source": [
    "a=b=c=1"
   ]
  },
  {
   "cell_type": "code",
   "execution_count": 169,
   "metadata": {},
   "outputs": [
    {
     "data": {
      "text/plain": [
       "1"
      ]
     },
     "execution_count": 169,
     "metadata": {},
     "output_type": "execute_result"
    }
   ],
   "source": [
    "a"
   ]
  },
  {
   "cell_type": "code",
   "execution_count": 170,
   "metadata": {},
   "outputs": [
    {
     "data": {
      "text/plain": [
       "1"
      ]
     },
     "execution_count": 170,
     "metadata": {},
     "output_type": "execute_result"
    }
   ],
   "source": [
    "b"
   ]
  },
  {
   "cell_type": "code",
   "execution_count": 171,
   "metadata": {},
   "outputs": [
    {
     "data": {
      "text/plain": [
       "1"
      ]
     },
     "execution_count": 171,
     "metadata": {},
     "output_type": "execute_result"
    }
   ],
   "source": [
    "c"
   ]
  },
  {
   "cell_type": "code",
   "execution_count": 172,
   "metadata": {},
   "outputs": [],
   "source": [
    "d=a+b-c"
   ]
  },
  {
   "cell_type": "code",
   "execution_count": 173,
   "metadata": {},
   "outputs": [
    {
     "data": {
      "text/plain": [
       "1"
      ]
     },
     "execution_count": 173,
     "metadata": {},
     "output_type": "execute_result"
    }
   ],
   "source": [
    "d"
   ]
  },
  {
   "cell_type": "code",
   "execution_count": 174,
   "metadata": {},
   "outputs": [],
   "source": [
    "a=['apple','banana','pear']"
   ]
  },
  {
   "cell_type": "code",
   "execution_count": 175,
   "metadata": {},
   "outputs": [],
   "source": [
    "b=list(range(3))"
   ]
  },
  {
   "cell_type": "code",
   "execution_count": 176,
   "metadata": {},
   "outputs": [],
   "source": [
    "a.append(b)"
   ]
  },
  {
   "cell_type": "code",
   "execution_count": 177,
   "metadata": {},
   "outputs": [
    {
     "name": "stdout",
     "output_type": "stream",
     "text": [
      "['apple', 'banana', 'pear', [0, 1, 2]]\n"
     ]
    }
   ],
   "source": [
    "print(a)"
   ]
  },
  {
   "cell_type": "code",
   "execution_count": 178,
   "metadata": {},
   "outputs": [
    {
     "data": {
      "text/plain": [
       "['apple']"
      ]
     },
     "execution_count": 178,
     "metadata": {},
     "output_type": "execute_result"
    }
   ],
   "source": [
    "def flat(l):\n",
    "    f=[]\n",
    "    for x in l:\n",
    "        if type(x) is list:\n",
    "            f.extend(x)\n",
    "        else:\n",
    "            f.append(x)\n",
    "        return f\n",
    "flat(a)"
   ]
  },
  {
   "cell_type": "code",
   "execution_count": 179,
   "metadata": {},
   "outputs": [],
   "source": [
    "l=[1,2,3,4]"
   ]
  },
  {
   "cell_type": "code",
   "execution_count": 180,
   "metadata": {},
   "outputs": [],
   "source": [
    "it=iter(l)"
   ]
  },
  {
   "cell_type": "code",
   "execution_count": 181,
   "metadata": {},
   "outputs": [
    {
     "name": "stdout",
     "output_type": "stream",
     "text": [
      "1\n"
     ]
    }
   ],
   "source": [
    "print(next(it))"
   ]
  },
  {
   "cell_type": "code",
   "execution_count": 182,
   "metadata": {},
   "outputs": [
    {
     "name": "stdout",
     "output_type": "stream",
     "text": [
      "2\n"
     ]
    }
   ],
   "source": [
    "print(next(it))"
   ]
  },
  {
   "cell_type": "code",
   "execution_count": 183,
   "metadata": {},
   "outputs": [
    {
     "name": "stdout",
     "output_type": "stream",
     "text": [
      "3 4 "
     ]
    }
   ],
   "source": [
    "for x in it:\n",
    "    print(x,end=\" \")"
   ]
  },
  {
   "cell_type": "code",
   "execution_count": 185,
   "metadata": {},
   "outputs": [],
   "source": [
    "class Parent(object):\n",
    "    def override(self):\n",
    "        print(\"PARENT override()\")"
   ]
  },
  {
   "cell_type": "code",
   "execution_count": 186,
   "metadata": {},
   "outputs": [
    {
     "data": {
      "text/plain": [
       "'C:\\\\Users\\\\hp'"
      ]
     },
     "execution_count": 186,
     "metadata": {},
     "output_type": "execute_result"
    }
   ],
   "source": [
    "import os\n",
    "os.getcwd()"
   ]
  },
  {
   "cell_type": "code",
   "execution_count": 187,
   "metadata": {},
   "outputs": [
    {
     "name": "stdout",
     "output_type": "stream",
     "text": [
      "['C:\\\\Users\\\\hp\\\\anaconda3\\\\lib\\\\site-packages\\\\ipykernel_launcher.py', '-f', 'C:\\\\Users\\\\hp\\\\AppData\\\\Roaming\\\\jupyter\\\\runtime\\\\kernel-afaae44b-39f3-442d-a245-10b3036524c0.json']\n"
     ]
    }
   ],
   "source": [
    "import sys\n",
    "print(sys.argv)"
   ]
  },
  {
   "cell_type": "code",
   "execution_count": 188,
   "metadata": {},
   "outputs": [
    {
     "data": {
      "text/plain": [
       "10.0"
      ]
     },
     "execution_count": 188,
     "metadata": {},
     "output_type": "execute_result"
    }
   ],
   "source": [
    "import math\n",
    "math.cos(math.pi/4)\n",
    "math.log(1024,2)"
   ]
  },
  {
   "cell_type": "code",
   "execution_count": 189,
   "metadata": {},
   "outputs": [],
   "source": [
    "import random"
   ]
  },
  {
   "cell_type": "code",
   "execution_count": 190,
   "metadata": {},
   "outputs": [
    {
     "data": {
      "text/plain": [
       "'pear'"
      ]
     },
     "execution_count": 190,
     "metadata": {},
     "output_type": "execute_result"
    }
   ],
   "source": [
    "random.choice(['apple','pear','banana'])"
   ]
  },
  {
   "cell_type": "code",
   "execution_count": 191,
   "metadata": {},
   "outputs": [
    {
     "data": {
      "text/plain": [
       "[1, 92, 99, 13, 21, 63, 54, 32, 80, 22]"
      ]
     },
     "execution_count": 191,
     "metadata": {},
     "output_type": "execute_result"
    }
   ],
   "source": [
    "random.sample(range(100),10)"
   ]
  },
  {
   "cell_type": "code",
   "execution_count": 192,
   "metadata": {},
   "outputs": [
    {
     "data": {
      "text/plain": [
       "0.5083861435808857"
      ]
     },
     "execution_count": 192,
     "metadata": {},
     "output_type": "execute_result"
    }
   ],
   "source": [
    "random.random()"
   ]
  },
  {
   "cell_type": "code",
   "execution_count": 193,
   "metadata": {},
   "outputs": [
    {
     "data": {
      "text/plain": [
       "1"
      ]
     },
     "execution_count": 193,
     "metadata": {},
     "output_type": "execute_result"
    }
   ],
   "source": [
    "random.randrange(6)"
   ]
  },
  {
   "cell_type": "code",
   "execution_count": 194,
   "metadata": {},
   "outputs": [],
   "source": [
    "import statistics\n",
    "data=[1,2.45,3.55]"
   ]
  },
  {
   "cell_type": "code",
   "execution_count": 195,
   "metadata": {},
   "outputs": [
    {
     "data": {
      "text/plain": [
       "2.3333333333333335"
      ]
     },
     "execution_count": 195,
     "metadata": {},
     "output_type": "execute_result"
    }
   ],
   "source": [
    "statistics.mean(data)"
   ]
  },
  {
   "cell_type": "code",
   "execution_count": 196,
   "metadata": {},
   "outputs": [
    {
     "data": {
      "text/plain": [
       "2.45"
      ]
     },
     "execution_count": 196,
     "metadata": {},
     "output_type": "execute_result"
    }
   ],
   "source": [
    "statistics.median(data)"
   ]
  },
  {
   "cell_type": "code",
   "execution_count": 197,
   "metadata": {},
   "outputs": [
    {
     "data": {
      "text/plain": [
       "1.635833333333333"
      ]
     },
     "execution_count": 197,
     "metadata": {},
     "output_type": "execute_result"
    }
   ],
   "source": [
    "statistics.variance(data)"
   ]
  },
  {
   "cell_type": "code",
   "execution_count": 198,
   "metadata": {},
   "outputs": [],
   "source": [
    "import matplotlib.pyplot as plt"
   ]
  },
  {
   "cell_type": "code",
   "execution_count": 199,
   "metadata": {},
   "outputs": [],
   "source": [
    "import numpy as np"
   ]
  },
  {
   "cell_type": "code",
   "execution_count": 200,
   "metadata": {},
   "outputs": [
    {
     "data": {
      "text/plain": [
       "[<matplotlib.lines.Line2D at 0x27f26809f70>]"
      ]
     },
     "execution_count": 200,
     "metadata": {},
     "output_type": "execute_result"
    },
    {
     "data": {
      "image/png": "[encoded data removed]",
      "text/plain": [
       "<Figure size 432x288 with 1 Axes>"
      ]
     },
     "metadata": {
      "needs_background": "light"
     },
     "output_type": "display_data"
    }
   ],
   "source": [
    "fig,ax=plt.subplots()\n",
    "ax.plot([1,2,3,4],[1,4,3,2])"
   ]
  },
  {
   "cell_type": "code",
   "execution_count": null,
   "metadata": {},
   "outputs": [],
   "source": [
    "plt.plot([1,2,3,4])"
   ]
  }
 ],
 "metadata": {
  "kernelspec": {
   "display_name": "Python 3",
   "language": "python",
   "name": "python3"
  },
  "language_info": {
   "codemirror_mode": {
    "name": "ipython",
    "version": 3
   },
   "file_extension": ".py",
   "mimetype": "text/x-python",
   "name": "python",
   "nbconvert_exporter": "python",
   "pygments_lexer": "ipython3",
   "version": "3.8.3"
  }
 },
 "nbformat": 4,
 "nbformat_minor": 4
}
