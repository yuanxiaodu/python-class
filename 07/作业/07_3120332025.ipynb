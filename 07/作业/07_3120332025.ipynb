{
 "cells": [
  {
   "cell_type": "code",
   "execution_count": 1,
   "metadata": {},
   "outputs": [],
   "source": [
    "import random"
   ]
  },
  {
   "cell_type": "code",
   "execution_count": 2,
   "metadata": {},
   "outputs": [
    {
     "data": {
      "text/plain": [
       "'banana'"
      ]
     },
     "execution_count": 2,
     "metadata": {},
     "output_type": "execute_result"
    }
   ],
   "source": [
    "random.choice(['apple','pear','banana'])"
   ]
  },
  {
   "cell_type": "code",
   "execution_count": 3,
   "metadata": {},
   "outputs": [
    {
     "data": {
      "text/plain": [
       "0.32983513530795183"
      ]
     },
     "execution_count": 3,
     "metadata": {},
     "output_type": "execute_result"
    }
   ],
   "source": [
    "random.random()"
   ]
  },
  {
   "cell_type": "code",
   "execution_count": 7,
   "metadata": {},
   "outputs": [
    {
     "data": {
      "text/plain": [
       "4"
      ]
     },
     "execution_count": 7,
     "metadata": {},
     "output_type": "execute_result"
    }
   ],
   "source": [
    "import statistics\n",
    "data=[1,2,3,4,5,6,7]\n",
    "statistics.mean(data)"
   ]
  },
  {
   "cell_type": "code",
   "execution_count": 8,
   "metadata": {},
   "outputs": [
    {
     "data": {
      "text/plain": [
       "4.666666666666667"
      ]
     },
     "execution_count": 8,
     "metadata": {},
     "output_type": "execute_result"
    }
   ],
   "source": [
    "statistics.variance(data)"
   ]
  },
  {
   "cell_type": "code",
   "execution_count": 9,
   "metadata": {},
   "outputs": [
    {
     "name": "stdout",
     "output_type": "stream",
     "text": [
      "Collecting you-getNote: you may need to restart the kernel to use updated packages.\n",
      "\n",
      "  Downloading you_get-0.4.1500-py3-none-any.whl (217 kB)\n",
      "Installing collected packages: you-get\n",
      "Successfully installed you-get-0.4.1500\n"
     ]
    }
   ],
   "source": [
    "pip install you-get"
   ]
  },
  {
   "cell_type": "code",
   "execution_count": 14,
   "metadata": {},
   "outputs": [
    {
     "name": "stdout",
     "output_type": "stream",
     "text": [
      "Let's do some math with just functions!\n",
      "ADDING 30 + 5\n",
      "SUBTRACTING 78 - 4\n",
      "MULTIPLYING 90 * 2\n",
      "DIVIDING 100 / 2\n",
      "Age: 35, Height: 74, Weight: 180, IQ: 50.0\n",
      "Here is a puzzle.\n",
      "DIVIDING 50.0 / 2\n",
      "MULTIPLYING 180 * 25.0\n",
      "SUBTRACTING 74 - 4500.0\n",
      "ADDING 35 + -4426.0\n",
      "That becomes:  -4391.0 Can you do it by hand?\n"
     ]
    }
   ],
   "source": [
    "def add(a, b):   \n",
    "    print(f\"ADDING {a} + {b}\")\n",
    "    return a + b\n",
    "\n",
    "def subtract(a, b):\n",
    "    print(f\"SUBTRACTING {a} - {b}\")\n",
    "    return a - b\n",
    "\n",
    "def multiply(a, b):\n",
    "    print(f\"MULTIPLYING {a} * {b}\")\n",
    "    return a * b\n",
    "\n",
    "def divide(a, b):\n",
    "    print(f\"DIVIDING {a} / {b}\")\n",
    "    return a / b\n",
    "\n",
    "\n",
    "print(\"Let's do some math with just functions!\")\n",
    "\n",
    "age = add(30, 5)\n",
    "height = subtract(78, 4)\n",
    "weight = multiply(90, 2)\n",
    "iq = divide(100, 2)\n",
    "\n",
    "print(f\"Age: {age}, Height: {height}, Weight: {weight}, IQ: {iq}\")\n",
    "\n",
    "\n",
    "# A puzzle for the extra credit, type it in anyway.\n",
    "print(\"Here is a puzzle.\")\n",
    "\n",
    "what = add(age, subtract(height, multiply(weight, divide(iq, 2))))\n",
    "\n",
    "print(\"That becomes: \", what, \"Can you do it by hand?\")"
   ]
  },
  {
   "cell_type": "code",
   "execution_count": 15,
   "metadata": {},
   "outputs": [
    {
     "name": "stdout",
     "output_type": "stream",
     "text": [
      "Can these functions really work? Let me see: \n",
      "\n",
      "Adding 20 + 5\n",
      "Subtracting 180 + 5\n",
      "Multiplying 31 * 2\n",
      "Dividing 400 / 2.5\n",
      "He's 25 years old, 175cm tall and 62kg.\n"
     ]
    }
   ],
   "source": [
    "def add(a,b):\n",
    "    print(f\"Adding {a} + {b}\")\n",
    "    return a + b\n",
    "\n",
    "def subtract(a,b):\n",
    "    print(f\"Subtracting {a} + {b}\")\n",
    "    return a - b\n",
    "\n",
    "def multiply(a,b):\n",
    "    print(f\"Multiplying {a} * {b}\")\n",
    "    return a * b\n",
    "\n",
    "def divide(a,b):\n",
    "    print(f\"Dividing {a} / {b}\")\n",
    "    return a / b\n",
    "\n",
    "print(\"Can these functions really work? Let me see: \\n\")\n",
    "age = add(20,5)\n",
    "height = subtract(180,5)\n",
    "weight = multiply(31,2)\n",
    "IQ = divide(400,2.5)\n",
    "\n",
    "print(f\"He's {age} years old, {height}cm tall and {weight}kg.\")"
   ]
  },
  {
   "cell_type": "code",
   "execution_count": 16,
   "metadata": {},
   "outputs": [
    {
     "name": "stdout",
     "output_type": "stream",
     "text": [
      "Dividing 160.0 / 2\n",
      "Multiplying 62 * 80.0\n",
      "Subtracting 175 + 4960.0\n",
      "Adding 25 + -4785.0\n",
      "That comes:  -4760.0 Of course I can do it by hand\n"
     ]
    }
   ],
   "source": [
    "what = (add(age,subtract(height,multiply(weight,divide(IQ,2)))))\n",
    "print(\"That comes: \", what, \"Of course I can do it by hand\")"
   ]
  },
  {
   "cell_type": "code",
   "execution_count": 17,
   "metadata": {},
   "outputs": [
    {
     "name": "stdout",
     "output_type": "stream",
     "text": [
      "This is count 1\n",
      "This is count 2\n",
      "This is count 3\n",
      "This is count 4\n",
      "This is count 5\n",
      "A fruit of type: apples\n",
      "A fruit of type: oranges\n",
      "A fruit of type: pears\n",
      "A fruit of type: apricots\n",
      "I got 1\n",
      "I got pennies\n",
      "I got 2\n",
      "I got dimes\n",
      "I got 3\n",
      "I got quarters\n",
      "Adding 0 to the list.\n",
      "Adding 1 to the list.\n",
      "Adding 2 to the list.\n",
      "Adding 3 to the list.\n",
      "Adding 4 to the list.\n",
      "Adding 5 to the list.\n",
      "Element was: 0\n",
      "Element was: 1\n",
      "Element was: 2\n",
      "Element was: 3\n",
      "Element was: 4\n",
      "Element was: 5\n"
     ]
    }
   ],
   "source": [
    "the_count = [1, 2, 3, 4, 5]\n",
    "fruits = ['apples', 'oranges', 'pears', 'apricots']\n",
    "change = [1, 'pennies', 2, 'dimes', 3, 'quarters']\n",
    "\n",
    "# this first kind of for-loop goes through a list\n",
    "for number in the_count:\n",
    "    print(f\"This is count {number}\")\n",
    "\n",
    "# same as above\n",
    "for fruit in fruits:\n",
    "    print(f\"A fruit of type: {fruit}\")\n",
    "\n",
    "# also we can go through mixed lists too\n",
    "# notice we have to use {} since we don't know what's in it\n",
    "for i in change:\n",
    "    print(f\"I got {i}\")\n",
    "\n",
    "# we can also build lists, first start with an empty one\n",
    "elements = []\n",
    "\n",
    "# then use the range function to do 0 to 5 counts\n",
    "for i in range(0, 6):\n",
    "    print(f\"Adding {i} to the list.\")\n",
    "    # append is a function that lists understand\n",
    "    elements.append(i)\n",
    "\n",
    "# now we can print them out too\n",
    "for i in elements:\n",
    "    print(f\"Element was: {i}\")"
   ]
  },
  {
   "cell_type": "code",
   "execution_count": 18,
   "metadata": {},
   "outputs": [
    {
     "name": "stdout",
     "output_type": "stream",
     "text": [
      "水果类型：  apple\n",
      "水果类型：  banana\n",
      "水果类型：  orange\n",
      "水果类型：  watermelon\n",
      "Sayolala~~~!!\n"
     ]
    }
   ],
   "source": [
    "fruits = ['apple','banana','orange','watermelon']\n",
    "\n",
    "for fruit in fruits:\n",
    "    print('水果类型： ',fruit)\n",
    "    \n",
    "print('Sayolala~~~!!')"
   ]
  },
  {
   "cell_type": "code",
   "execution_count": 19,
   "metadata": {},
   "outputs": [
    {
     "data": {
      "image/png": "[encoded data removed]",
      "text/plain": [
       "<Figure size 432x288 with 1 Axes>"
      ]
     },
     "metadata": {
      "needs_background": "light"
     },
     "output_type": "display_data"
    }
   ],
   "source": [
    "import matplotlib.pyplot as plt\n",
    "squares = [1,4,9,16,25]\n",
    "plt.plot(squares)\n",
    "plt.show()"
   ]
  },
  {
   "cell_type": "code",
   "execution_count": 20,
   "metadata": {},
   "outputs": [
    {
     "data": {
      "image/png": "[encoded data removed]",
      "text/plain": [
       "<Figure size 432x288 with 1 Axes>"
      ]
     },
     "metadata": {
      "needs_background": "light"
     },
     "output_type": "display_data"
    }
   ],
   "source": [
    "import matplotlib.pyplot as plt\n",
    "squares = [1, 4, 9, 16, 25]\n",
    "plt.plot(squares, linewidth=5)\n",
    "\n",
    "# 设置图表标题，并给坐标轴加上标签\n",
    "plt.title('Squares Number', fontsize=24)\n",
    "plt.xlabel('value', fontsize=14)\n",
    "plt.ylabel('Square of Value', fontsize=14)\n",
    "\n",
    "# 设置刻度标记的大小\n",
    "plt.tick_params(axis='both', labelsize=14)\n",
    "plt.show()"
   ]
  },
  {
   "cell_type": "code",
   "execution_count": 21,
   "metadata": {},
   "outputs": [
    {
     "data": {
      "image/png": "[encoded data removed]",
      "text/plain": [
       "<Figure size 432x288 with 1 Axes>"
      ]
     },
     "metadata": {
      "needs_background": "light"
     },
     "output_type": "display_data"
    }
   ],
   "source": [
    "import matplotlib.pyplot as plt\n",
    "x1_yzheng = [0.3465528852384314, 1.6543770798009416, 0.3118267304489247, 0.30283021451104397, 1.6403758789573746,\n",
    "             1.294880724258554, 0.591364091245265, 0.6652714506976171, 0.952251330500421,  0.5065561702206883]\n",
    "x2_yzheng = [2.5749144273638356, 4.193717489470946, 4.000781160075151, 4.890788879868054, 4.3047385271212475,\n",
    "             4.939889152774452, 3.2429412953980963, 3.096686427675867, 2.8322975933300514, 4.8438106191781145]\n",
    "x1_yfu = [4.851811134591529, 4.460629140027919, 2.7851780711599017, 2.659443040942649, 0.6133475200984945,\n",
    "          4.494867697019594, 0.7882837644423762, 3.3008693810720673, 3.6047070787322477]\n",
    "x2_yfu= [0.07562252790360047, 2.7700590605644293, 3.1996344045720067, 3.3633888825278904, 0.07709559582427472,\n",
    "         2.5404383676471456, 1.063294050029956, 0.6703673739104754, 2.791183468078184]\n",
    "\n",
    "plt.scatter(x1_yzheng, x2_yzheng, c='red', s=10)\n",
    "plt.scatter(x1_yfu, x2_yfu, c='green', s=10)\n",
    "# 设置图标标题并给坐标轴加上标签\n",
    "plt.title('20size', fontsize=24)\n",
    "plt.xlabel('X1', fontsize=14)\n",
    "plt.ylabel('X2', fontsize=14)\n",
    "\n",
    "# 设置刻度标记的大小\n",
    "plt.tick_params(axis='both', which='major', labelsize=14)\n",
    "plt.show()"
   ]
  },
  {
   "cell_type": "code",
   "execution_count": 22,
   "metadata": {},
   "outputs": [
    {
     "name": "stdout",
     "output_type": "stream",
     "text": [
      "{'colour': 'green', 'speed': 'fast', 'points': 5}\n",
      "{'colour': 'green', 'speed': 'fast', 'points': 5}\n",
      "{'colour': 'green', 'speed': 'fast', 'points': 5}\n",
      "{'colour': 'green', 'speed': 'fast', 'points': 5}\n",
      "{'colour': 'green', 'speed': 'fast', 'points': 5}\n",
      "...\n",
      "外星人总数为： 30\n"
     ]
    }
   ],
   "source": [
    "# 外星人\n",
    "aliens = []\n",
    "for alien_number in range(30):\n",
    "    new_alien = {'colour':'green','speed':'fast','points':5}\n",
    "    aliens.append(new_alien)\n",
    "for alien in aliens[:5]:\n",
    "    print(alien)\n",
    "print('...')\n",
    "print('外星人总数为：', 30)"
   ]
  },
  {
   "cell_type": "code",
   "execution_count": 23,
   "metadata": {},
   "outputs": [
    {
     "name": "stdout",
     "output_type": "stream",
     "text": [
      "[1, 8, 27, 64, 125, 216, 343, 512, 729]\n",
      "以下程序效果相同\n",
      "[1, 8, 27, 64, 125, 216, 343, 512, 729]\n",
      "[64, 125, 216, 343, 512, 729]\n"
     ]
    }
   ],
   "source": [
    "# 普通列表和列表解析\n",
    "# 普通列表\n",
    "# 创建空列表cubics\n",
    "cubics = []\n",
    "# 用for循环给列表cubics的后面每一次添加一个数的立方\n",
    "for number in range(1,10):\n",
    "    cubics.append(number**3)\n",
    "print(cubics)\n",
    "print('以下程序效果相同')\n",
    "\n",
    "# 解析列表，很简洁，与上面程序的效果相同\n",
    "cubics = [number**3 for number in range(1,10)]\n",
    "print(cubics)\n",
    "print(cubics[3:])"
   ]
  },
  {
   "cell_type": "code",
   "execution_count": 25,
   "metadata": {},
   "outputs": [
    {
     "name": "stdout",
     "output_type": "stream",
     "text": [
      "       0    1    2    3               4\n",
      "145  6.7  3.0  5.2  2.3  Iris-virginica\n",
      "146  6.3  2.5  5.0  1.9  Iris-virginica\n",
      "147  6.5  3.0  5.2  2.0  Iris-virginica\n",
      "148  6.2  3.4  5.4  2.3  Iris-virginica\n",
      "149  5.9  3.0  5.1  1.8  Iris-virginica\n"
     ]
    },
    {
     "data": {
      "image/png": "[encoded data removed]",
      "text/plain": [
       "<Figure size 432x288 with 1 Axes>"
      ]
     },
     "metadata": {
      "needs_background": "light"
     },
     "output_type": "display_data"
    }
   ],
   "source": [
    "import pandas as pd\n",
    "import matplotlib.pyplot as plt\n",
    "\n",
    "df = pd.read_csv('https://archive.ics.uci.edu/ml/'\n",
    "        'machine-learning-databases/iris/iris.data', header=None)\n",
    "print(df.tail())\n",
    "# extract sepal length and petal length\n",
    "X = df.iloc[0:100, [0, 2]].values\n",
    "# plot data\n",
    "plt.scatter(X[:50, 0], X[:50, 1],\n",
    "            color='red', marker='o', label='setosa')\n",
    "plt.scatter(X[50:100, 0], X[50:100, 1],\n",
    "            color='blue', marker='x', label='versicolor')\n",
    "plt.xlabel('sepal length [cm]')\n",
    "plt.ylabel('petal length [cm]')\n",
    "plt.legend(loc='upper left')\n",
    "# plt.savefig('images/02_06.png', dpi=300)\n",
    "plt.show()"
   ]
  },
  {
   "cell_type": "code",
   "execution_count": 26,
   "metadata": {},
   "outputs": [
    {
     "name": "stdout",
     "output_type": "stream",
     "text": [
      "['str_word', 'sentence is ok', 90, [9, 3, 2]]\n"
     ]
    }
   ],
   "source": [
    "list = ['str_word', 'sentence is ok', 90, [9, 3, 2]]\n",
    "def flat(l):\n",
    "    f = []\n",
    "    for x in l:\n",
    "        if type(x) is list:\n",
    "            f.extend(x)\n",
    "        else:\n",
    "            f.append(x)\n",
    "    return f\n",
    "print(flat(list))"
   ]
  },
  {
   "cell_type": "code",
   "execution_count": 27,
   "metadata": {},
   "outputs": [
    {
     "name": "stdout",
     "output_type": "stream",
     "text": [
      "['A', 'A', 'A', 'A', 'A', 'A', 'A', 'A', 'A']\n",
      "['B', 'B', 'B', 'B', 'B', 'B', 'B', 'B', 'B']\n",
      "['A', 'A', 'A', 'A', 'A', 'A', 'A', 'A', 'A']\n",
      "['B', 'B', 'B', 'B', 'B', 'B', 'B', 'B', 'B']\n",
      "['A', 'A', 'A', 'A', 'A', 'A', 'A', 'A', 'A']\n",
      "['B', 'B', 'B', 'B', 'B', 'B', 'B', 'B', 'B']\n",
      "['A', 'A', 'A', 'A', 'A', 'A', 'A', 'A', 'A']\n",
      "['B', 'B', 'B', 'B', 'B', 'B', 'B', 'B', 'B']\n",
      "['A', 'A', 'A', 'A', 'A', 'A', 'A', 'A', 'A']\n",
      "['B', 'B', 'B', 'B', 'B', 'B', 'B', 'B', 'B']\n",
      "['A', 'A', 'A', 'A', 'A', 'A', 'A', 'A', 'A']\n",
      "['B', 'B', 'B', 'B', 'B', 'B', 'B', 'B', 'B']\n",
      "将要被交换的A、B原子对数为：\n",
      "29\n",
      "被替换掉的A原子序号为：\n",
      "59\n",
      "35\n",
      "13\n",
      "53\n",
      "12\n",
      "36\n",
      "27\n",
      "8\n",
      "58\n",
      "37\n",
      "19\n",
      "26\n",
      "22\n",
      "38\n",
      "46\n",
      "20\n",
      "32\n",
      "41\n",
      "14\n",
      "29\n",
      "7\n",
      "50\n",
      "42\n",
      "6\n",
      "57\n",
      "31\n",
      "45\n",
      "52\n",
      "39\n",
      "被替换掉的B原子序号为：\n",
      "24\n",
      "26\n",
      "45\n",
      "19\n",
      "13\n",
      "58\n",
      "29\n",
      "42\n",
      "35\n",
      "30\n",
      "25\n",
      "51\n",
      "6\n",
      "56\n",
      "48\n",
      "31\n",
      "21\n",
      "41\n",
      "23\n",
      "27\n",
      "59\n",
      "10\n",
      "17\n",
      "8\n",
      "57\n",
      "54\n",
      "55\n",
      "47\n",
      "20\n",
      "['A', 'A', 'A', 'A', 'A', 'A', 'B', 'B', 'B']\n",
      "['B', 'B', 'B', 'B', 'B', 'B', 'A', 'B', 'A']\n",
      "['A', 'A', 'B', 'B', 'B', 'A', 'A', 'A', 'A']\n",
      "['A', 'B', 'B', 'A', 'B', 'B', 'B', 'A', 'B']\n",
      "['B', 'A', 'B', 'A', 'A', 'A', 'B', 'B', 'A']\n",
      "['A', 'A', 'B', 'A', 'A', 'A', 'A', 'A', 'B']\n",
      "['A', 'B', 'B', 'A', 'A', 'B', 'B', 'B', 'B']\n",
      "['A', 'A', 'B', 'B', 'B', 'A', 'B', 'B', 'B']\n",
      "['A', 'B', 'B', 'A', 'A', 'B', 'B', 'A', 'A']\n",
      "['B', 'A', 'A', 'B', 'B', 'A', 'B', 'A', 'A']\n",
      "['B', 'A', 'B', 'B', 'A', 'A', 'A', 'B', 'B']\n"
     ]
    }
   ],
   "source": [
    "# 构造总层数为12层的A、B原子层间隔排列结构\n",
    "Alayer_1_3_5_7_9_11 = ['A','A','A','A','A','A','A','A','A','A','A','A','A','A','A','A','A','A','A','A','A','A','A','A','A','A','A','A','A','A','A','A','A','A','A','A','A','A','A','A','A','A','A','A','A','A','A','A','A','A','A','A','A','A','A','A','A','A','A','A']\n",
    "Blayer_2_4_6_8_10_12 = ['B','B','B','B','B','B','B','B','B','B','B','B','B','B','B','B','B','B','B','B','B','B','B','B','B','B','B','B','B','B','B','B','B','B','B','B','B','B','B','B','B','B','B','B','B','B','B','B','B','B','B','B','B','B','B','B','B','B','B','B']\n",
    "# 打印出这12层原子\n",
    "print(Alayer_1_3_5_7_9_11[0:9])\n",
    "print(Blayer_2_4_6_8_10_12[0:9])\n",
    "print(Alayer_1_3_5_7_9_11[10:19])\n",
    "print(Blayer_2_4_6_8_10_12[10:19])\n",
    "print(Alayer_1_3_5_7_9_11[20:29])\n",
    "print(Blayer_2_4_6_8_10_12[20:29])\n",
    "print(Alayer_1_3_5_7_9_11[30:39])\n",
    "print(Blayer_2_4_6_8_10_12[30:39])\n",
    "print(Alayer_1_3_5_7_9_11[40:49])\n",
    "print(Blayer_2_4_6_8_10_12[40:49])\n",
    "print(Alayer_1_3_5_7_9_11[50:59])\n",
    "print(Blayer_2_4_6_8_10_12[50:59])\n",
    "# 产生随机整数N，决定需要有多少对A,B原子需要被交换，并打印N\n",
    "import random\n",
    "NA=random.randint(1,59)\n",
    "NB=NA\n",
    "print('将要被交换的A、B原子对数为：')\n",
    "print(NA)\n",
    "# 开始用循环随机不重复替换N个A原子为B原子\n",
    "print('被替换掉的A原子序号为：')\n",
    "while NA!=0:\n",
    "    #产生随机数来决定第几号A原子被替换成B原子\n",
    "    A_replaced_number=random.randint(0,59)\n",
    "    if Alayer_1_3_5_7_9_11[A_replaced_number]!='B':\n",
    "        Alayer_1_3_5_7_9_11[A_replaced_number]='B'\n",
    "        print(A_replaced_number)\n",
    "        NA=NA-1\n",
    "    else:\n",
    "        NA=NA\n",
    "# 开始用循环随机不重复替换N个B原子为A原子s\n",
    "print('被替换掉的B原子序号为：')\n",
    "while NB!=0:\n",
    "    #产生随机数来决定第几号B原子被替换成A原子\n",
    "    import random\n",
    "    B_replaced_number=random.randint(0,59)\n",
    "    if Blayer_2_4_6_8_10_12[B_replaced_number]!='A':\n",
    "        Blayer_2_4_6_8_10_12[B_replaced_number]='A'\n",
    "        print(B_replaced_number)\n",
    "        NB=NB-1\n",
    "    else:\n",
    "        NB=NB\n",
    "print(Alayer_1_3_5_7_9_11[0:9])\n",
    "print(Blayer_2_4_6_8_10_12[0:9])\n",
    "print(Alayer_1_3_5_7_9_11[10:19])\n",
    "print(Blayer_2_4_6_8_10_12[10:19])\n",
    "print(Alayer_1_3_5_7_9_11[20:29])\n",
    "print(Blayer_2_4_6_8_10_12[20:29])\n",
    "print(Alayer_1_3_5_7_9_11[30:39])\n",
    "print(Blayer_2_4_6_8_10_12[30:39])\n",
    "print(Alayer_1_3_5_7_9_11[40:49])\n",
    "print(Blayer_2_4_6_8_10_12[40:49])\n",
    "print(Alayer_1_3_5_7_9_11[50:59])"
   ]
  },
  {
   "cell_type": "code",
   "execution_count": 4,
   "metadata": {},
   "outputs": [
    {
     "name": "stdin",
     "output_type": "stream",
     "text": [
      "摄氏度转换为华氏温度请按1\n",
      "华氏温度转化为摄氏度请按2\n",
      " 2\n",
      "输入华氏度: 56\n"
     ]
    },
    {
     "name": "stdout",
     "output_type": "stream",
     "text": [
      "56.0华氏度转为摄氏度为13.3\n"
     ]
    }
   ],
   "source": [
    "a = int(input('摄氏度转换为华氏温度请按1\\n华氏温度转化为摄氏度请按2\\n'))\n",
    "while a != 1 and a != 2:\n",
    "    a = int(input('你选择不正确，请重新输入。\\n摄氏度转换为华氏温度请按1\\n华氏温度转换为摄氏度请按2\\n'))\n",
    "if a == 1:\n",
    "    celsius = float(input('输入摄氏度:'))\n",
    "    fahrenheit = (celsius*1.8)+32 \n",
    "    print('%.1f摄氏度转为华氏温度为%.1f' %(celsius,fahrenheit))\n",
    "else:\n",
    "    fahrenheit = float(input('输入华氏度:'))\n",
    "    celsius = (fahrenheit - 32)/1.8 \n",
    "    print('%.1f华氏度转为摄氏度为%.1f' %(fahrenheit,celsius))"
   ]
  },
  {
   "cell_type": "code",
   "execution_count": 3,
   "metadata": {},
   "outputs": [
    {
     "name": "stdout",
     "output_type": "stream",
     "text": [
      "2\n",
      "b\n",
      "2\n",
      "2\n",
      "80, 100, 1000 最大值为:  1000\n",
      "-20, 100, 400最大值为:  400\n",
      "-80, -20, -10最大值为:  -10\n",
      "0, 100, -400最大值为: 100\n"
     ]
    }
   ],
   "source": [
    "print(max(1, 2))\n",
    "print(max('a', 'b'))\n",
    "\n",
    "print(max([1,2]))\n",
    "print(max((1,2)))\n",
    "\n",
    "print(\"80, 100, 1000 最大值为: \", max(80, 100, 1000))\n",
    "print(\"-20, 100, 400最大值为: \", max(-20, 100, 400))\n",
    "print(\"-80, -20, -10最大值为: \", max(-80, -20, -10))\n",
    "print(\"0, 100, -400最大值为:\", max(0, 100, -400))"
   ]
  },
  {
   "cell_type": "code",
   "execution_count": 2,
   "metadata": {},
   "outputs": [
    {
     "name": "stdout",
     "output_type": "stream",
     "text": [
      "猜数字\n"
     ]
    },
    {
     "name": "stdin",
     "output_type": "stream",
     "text": [
      "开始：1\n",
      "结束：0\n",
      "-> 1\n"
     ]
    },
    {
     "name": "stdout",
     "output_type": "stream",
     "text": [
      "｛LV0.新手}｛LV1.简单｝｛LV2.一般｝｛LV3.困难｝｛LV4.噩梦｝｛LV5.地狱｝\n"
     ]
    },
    {
     "name": "stdin",
     "output_type": "stream",
     "text": [
      "Level: level1\n"
     ]
    },
    {
     "name": "stdout",
     "output_type": "stream",
     "text": [
      "猜猜{1-10}之间的数:\n",
      "一定是："
     ]
    },
    {
     "name": "stdin",
     "output_type": "stream",
     "text": [
      " 8\n"
     ]
    },
    {
     "name": "stdout",
     "output_type": "stream",
     "text": [
      "太大\n",
      "还有[4]次机会:\n",
      "一定是："
     ]
    },
    {
     "name": "stdin",
     "output_type": "stream",
     "text": [
      " 2\n"
     ]
    },
    {
     "name": "stdout",
     "output_type": "stream",
     "text": [
      "太小\n",
      "还有[3]次机会:\n",
      "一定是："
     ]
    },
    {
     "name": "stdin",
     "output_type": "stream",
     "text": [
      " 3\n"
     ]
    },
    {
     "name": "stdout",
     "output_type": "stream",
     "text": [
      "太小\n",
      "还有[2]次机会:\n",
      "一定是："
     ]
    },
    {
     "name": "stdin",
     "output_type": "stream",
     "text": [
      " 5\n"
     ]
    },
    {
     "name": "stdout",
     "output_type": "stream",
     "text": [
      "太小\n",
      "还有[1]次机会:\n",
      "一定是："
     ]
    },
    {
     "name": "stdin",
     "output_type": "stream",
     "text": [
      " 7\n"
     ]
    },
    {
     "name": "stdout",
     "output_type": "stream",
     "text": [
      "好\n",
      "游戏结束!\n"
     ]
    }
   ],
   "source": [
    "import random\n",
    "import re\n",
    "from sys import exit\n",
    "\n",
    "def main():\n",
    "    time = 5\n",
    "    count = 1\n",
    "    num = 0\n",
    "    dict = {'0': 5, '1': 10, '2': 20, '3': 50, '4': 100}\n",
    "\n",
    "    print('猜数字')\n",
    "    go = int(input('开始：1\\n结束：0\\n->'))\n",
    "\n",
    "    while go != 1 and go != 0:\n",
    "        print('Input 1 or 0.')\n",
    "        go = int(input('开始：1\\n结束：0\\n->')) \n",
    "    if go == 1:\n",
    "        pass\n",
    "    elif go == 0:\n",
    "        print('游戏结束!')\n",
    "        exit()\n",
    "    \n",
    "\n",
    "    print('｛LV0.新手}｛LV1.简单｝｛LV2.一般｝｛LV3.困难｝｛LV4.噩梦｝｛LV5.地狱｝')\n",
    "    r = input('Level:')\n",
    "    r = re.sub('\\D', '', r) \n",
    "\n",
    "    if r.strip() == '': \n",
    "        print('隐藏难度｛LV6.调戏｝')\n",
    "        n = 1000\n",
    "        time = 99\n",
    "    else:\n",
    "        n = dict.get(r, 500)\n",
    "\n",
    "    secret = random.randint(1, n + 1)\n",
    "    print('猜猜{1-%s}之间的数:' % n)\n",
    "\n",
    "    while True:\n",
    "        print('一定是：' , end = '')\n",
    "        num = input()\n",
    "\n",
    "        if num.isdigit():\n",
    "            num = int(num)\n",
    "            if num < 1:\n",
    "                print('现在就放弃太可惜了')\n",
    "            elif num > n:\n",
    "                print('超出范围')\n",
    "            elif num > secret:\n",
    "                print('太大')\n",
    "            elif num < secret:\n",
    "                print('太小')\n",
    "            else:\n",
    "                if count == 1:\n",
    "                    print('棒')\n",
    "                elif count == 2:\n",
    "                    print('赞')\n",
    "                else:\n",
    "                    print('好')\n",
    "                break\n",
    "\n",
    "            time -= 1\n",
    "            count += 1\n",
    "\n",
    "            if time == 0:\n",
    "                print('正确答案：%s' % secret)\n",
    "                break\n",
    "            else:\n",
    "                print('还有[%s]次机会:' % time)\n",
    "        else:\n",
    "            print('要崩溃了!!!')\n",
    "    print('游戏结束!')\n",
    "\n",
    "if __name__ == '__main__':\n",
    "    main()"
   ]
  },
  {
   "cell_type": "code",
   "execution_count": 5,
   "metadata": {},
   "outputs": [
    {
     "name": "stdin",
     "output_type": "stream",
     "text": [
      "请输入一个年份： 2008\n"
     ]
    },
    {
     "name": "stdout",
     "output_type": "stream",
     "text": [
      "2008是闰年\n"
     ]
    }
   ],
   "source": [
    "year = int(input(\"请输入一个年份：\"))\n",
    "if (year % 4) == 0 and (year % 100) != 0 or (year % 400) == 0:\n",
    "    print(\"{0}是闰年\".format(year))\n",
    "else:\n",
    "    print(\"{0}不是闰年\".format(year))"
   ]
  },
  {
   "cell_type": "code",
   "execution_count": 6,
   "metadata": {},
   "outputs": [
    {
     "name": "stdin",
     "output_type": "stream",
     "text": [
      " 12\n"
     ]
    },
    {
     "name": "stdout",
     "output_type": "stream",
     "text": [
      "True\n"
     ]
    }
   ],
   "source": [
    "def is_number(s):\n",
    "    try:\n",
    "        float(s)\n",
    "        return True\n",
    "    except ValueError:\n",
    "        pass\n",
    " \n",
    "    try:\n",
    "        import unicodedata\n",
    "        unicodedata.numeric(s)\n",
    "        return True\n",
    "    except (TypeError, ValueError):\n",
    "        pass\n",
    " \n",
    "    return False\n",
    " \n",
    "print(is_number(input()))\n",
    "#print(is_number('foo'))\n",
    "#print(is_number('1'))\n",
    "#print(is_number('1.3'))\n",
    "#print(is_number('-1.37'))\n",
    "#print(is_number('1e3')) \n",
    "#print(is_number('٥'))  # True\n",
    "#print(is_number('๒'))  # True\n",
    "#print(is_number('四')) # True\n",
    "#print(is_number('©'))  # False"
   ]
  },
  {
   "cell_type": "code",
   "execution_count": 8,
   "metadata": {},
   "outputs": [
    {
     "name": "stdout",
     "output_type": "stream",
     "text": [
      "郑岳峰申论课前热身与整体内容介绍1这节课弹幕最多的是：666666，一共有104条\n",
      "郑岳峰申论课前热身与整体内容介绍2这节课弹幕最多的是：666666，一共有29条\n",
      "申论01-1总论&概括题及材料阅读三大主线（上）这节课弹幕最多的是：冲冲冲，一共有121条\n",
      "申论01-2总论&概括题及材料阅读三大主线（上）这节课弹幕最多的是：对策，一共有306条\n",
      "申论01-3总论&概括题及材料阅读三大主线（上）这节课弹幕最多的是：对策，一共有219条\n",
      "申论01-4总论&概括题及材料阅读三大主线（上）这节课弹幕最多的是：相关人士的看法，一共有125条\n",
      "申论01-5总论&概括题及材料阅读三大主线（上)这节课弹幕最多的是：二选一，一共有45条\n",
      "申论02-1概括题及材料阅读三大主线（下）这节课弹幕最多的是：调查统计，一共有105条\n",
      "申论02-2概括题及材料阅读三大主线（下）这节课弹幕最多的是：见招拆招，一共有136条\n",
      "申论02-3概括题及材料阅读三大主线（下）这节课弹幕最多的是：洞穿，一共有276条\n",
      "申论02-4概括题及材料阅读三大主线（下）这节课弹幕最多的是：秘书，一共有141条\n",
      "申论02-5概括题及材料阅读三大主线（下）这节课弹幕最多的是：爽，一共有72条\n",
      "申论02-6《专项补充：确定型概括、开放型概括及总括句、合并、分类问题》这节课弹幕最多的是：自然而然，顺势而为，一共有111条\n",
      "申论03-1申论文章三种文体的框架结构与理论素养这节课弹幕最多的是：二选一，一共有49条\n",
      "申论03-2申论文章三种文体的框架结构与理论素养这节课弹幕最多的是：议论文，一共有28条\n",
      "申论03-3申论文章三种文体的框架结构与理论素养这节课弹幕最多的是：求深不求全，一共有133条\n",
      "申论03-4申论文章三种文体的框架结构与理论素养这节课弹幕最多的是：中心主题，一共有86条\n",
      "申论03-5申论文章三种文体的框架结构与理论素养这节课弹幕最多的是：但是，一共有50条\n",
      "申论03-6申论文章三种文体的框架结构与理论素养这节课弹幕最多的是：材料，一共有32条\n",
      "申论04-1策论文的理论应用：15联考真题这节课弹幕最多的是：中心主题，一共有174条\n",
      "申论04-2策论文的理论应用：15联考真题这节课弹幕最多的是：大文章强调有选择性的利用材料，一共有235条\n",
      "申论04-3策论文的理论应用：15联考真题这节课弹幕最多的是：思想，一共有148条\n",
      "申论04-4策论文的理论应用：15联考真题这节课弹幕最多的是：枪扎一条线，一共有405条\n",
      "申论05-1策论文理论应用2：2018多省联考真题A卷这节课弹幕最多的是：俯瞰，一共有245条\n",
      "申论05-2 策论文理论应用2：2018多省联考真题A卷这节课弹幕最多的是：绑架，一共有109条\n",
      "申论05-3 策论文理论应用2：2018多省联考真题A卷这节课弹幕最多的是：举一反三，一共有190条\n",
      "申论05-4 策论文理论应用2：2018多省联考真题A卷这节课弹幕最多的是：用思想穿透黑暗，一共有86条\n",
      "申论06-1如何对待大文章题干中的A与B这节课弹幕最多的是：中心主题，一共有170条\n",
      "申论06-2如何对待大文章题干中的A与B这节课弹幕最多的是：公共责任，一共有118条\n",
      "申论06-3如何对待大文章题干中的A与B这节课弹幕最多的是：税收、社会保障、转移支付，一共有39条\n",
      "申论06-4如何对待大文章题干中的A与B这节课弹幕最多的是：枪扎一条线，一共有140条\n",
      "申论07-1概括题和大文章之间的关系：2017联考真题这节课弹幕最多的是：意义对策，一共有19条\n",
      "申论07-2概括题和大文章之间的关系：2017联考真题这节课弹幕最多的是：能合就合，一共有65条\n",
      "申论07-3概括题和大文章之间的关系：2017联考真题这节课弹幕最多的是：大文章强调有选择性的挑选材料，一共有45条\n",
      "申论07-4概括题和大文章之间的关系：2017联考真题这节课弹幕最多的是：从一而终，一共有204条\n",
      "申论08-1如何确定文章中心主题：2015浙江申论真题这节课弹幕最多的是：权威机构，一共有28条\n",
      "申论08-2如何确定文章中心主题：2015浙江申论真题这节课弹幕最多的是：能合就合，一共有27条\n",
      "申论08-3如何确定文章中心主题：2015浙江申论真题这节课弹幕最多的是：666，一共有35条\n",
      "申论08-4如何确定文章中心主题：2015浙江申论真题这节课弹幕最多的是：中心主题，一共有101条\n",
      "申论08-5如何确定文章中心主题：2015浙江申论真题这节课弹幕最多的是：经世致用，一共有176条\n",
      "申论09-1政论文的思路框架与理论素养：2014广东真题这节课弹幕最多的是：66666，一共有18条\n",
      "申论09-2政论文的思路框架与理论素养：2014广东真题这节课弹幕最多的是：意义，一共有65条\n",
      "申论09-3政论文的思路框架与理论素养：2014广东真题这节课弹幕最多的是：在此背景下，一共有158条\n",
      "申论09-4政论文的思路框架与理论素养：2014广东真题这节课弹幕最多的是：思想底蕴，一共有35条\n",
      "申论09-5政论文的思路框架与理论素养：2014广东真题这节课弹幕最多的是：666，一共有13条\n",
      "申论10-1政论文的理论应用：2019多省联考真题这节课弹幕最多的是：总论点，一共有69条\n",
      "申论10-2政论文的理论应用：2019多省联考真题这节课弹幕最多的是：画龙点睛，一共有50条\n",
      "申论10-3政论文的理论应用：2019多省联考真题这节课弹幕最多的是：思想，一共有41条\n",
      "申论10-4政论文的理论应用：2019多省联考真题这节课弹幕最多的是：在此背景下，一共有75条\n",
      "申论11-1如何确定文章中心主题（下）：18联考真题B卷这节课弹幕最多的是：66666，一共有17条\n",
      "申论11-2如何确定文章中心主题（下）：18联考真题B卷这节课弹幕最多的是：技术创新，一共有11条\n",
      "申论11-3如何确定文章中心主题（下）：18联考真题B卷这节课弹幕最多的是：脚踩大地，仰望星空，一共有36条\n",
      "申论11-4如何确定文章中心主题（下）：18联考真题B卷这节课弹幕最多的是：画龙点睛，一共有51条\n",
      "申论12-1政论文的理论应用：2019公安联考真题这节课弹幕最多的是：666666，一共有13条\n",
      "申论12-2政论文的理论应用：2019公安联考真题这节课弹幕最多的是：人剑合一，一共有64条\n",
      "申论12-3政论文的理论应用：2019公安联考真题这节课弹幕最多的是：政治化写作，一共有25条\n",
      "申论13-1如何对待文章题干中的A与B：2017广东真题这节课弹幕最多的是：666666，一共有21条\n",
      "申论13-2如何对待文章题干中的A与B：2017广东真题这节课弹幕最多的是：收入分配，一共有35条\n",
      "申论13-3如何对待文章题干中的A与B：2017广东真题这节课弹幕最多的是：梳理，一共有14条\n",
      "申论13-4如何对待文章题干中的A与B：2017广东真题这节课弹幕最多的是：不要让自己成为群氓中的一员，一共有35条\n",
      "申论14-1政论文的巩固深化：2020国考B卷这节课弹幕最多的是：666666，一共有15条\n",
      "申论14-2政论文的巩固深化：2020国考B卷这节课弹幕最多的是：思想，一共有27条\n",
      "申论14-3政论文的巩固深化：2020国考B卷这节课弹幕最多的是：哈哈哈哈哈，一共有6条\n",
      "申论14-4政论文的巩固深化：2020国考B卷这节课弹幕最多的是：上士闻道，勤而行之，一共有57条\n",
      "申论15-1对策论文的回顾巩固：2019广东真题这节课弹幕最多的是：调查统计，一共有32条\n",
      "申论15-2对策论文的回顾巩固：2019广东真题这节课弹幕最多的是：意义，一共有5条\n",
      "申论15-3对策论文的回顾巩固：2019广东真题这节课弹幕最多的是：文意，一共有5条\n",
      "申论15-4对策论文的回顾巩固：2019广东真题这节课弹幕最多的是：枪扎一条线，一共有39条\n",
      "申论16-1评论型小文章之观点评论这节课弹幕最多的是：一分为二，辩证理性，一共有11条\n",
      "申论16-2评论型小文章之观点评论这节课弹幕最多的是：调查统计，一共有24条\n",
      "申论16-3评论型小文章之观点评论这节课弹幕最多的是：忽略了，没有认识到，一共有6条\n",
      "申论16-4评论型小文章之观点评论这节课弹幕最多的是：哈哈哈哈，一共有11条\n",
      "申论17-1评论型小文章之现象评论这节课弹幕最多的是：透过现象看本质，一共有17条\n",
      "申论17-2评论型小文章之现象评论这节课弹幕最多的是：用严密的逻辑编织材料，一共有32条\n",
      "申论17-3评论型小文章之现象评论这节课弹幕最多的是：谢谢老师，一共有11条\n",
      "申论18-1 提出小对策题这节课弹幕最多的是：提出，一共有135条\n",
      "申论18-2提出小对策题这节课弹幕最多的是：中心主题，一共有64条\n",
      "申论18-3 提出小对策题这节课弹幕最多的是：格局，一共有11条\n",
      "申论18-4 提出小对策题这节课弹幕最多的是：基层管理者，一共有10条\n",
      "申论19-1公文题（上，倡议书宣传稿公开信）这节课弹幕最多的是：提纲，一共有25条\n",
      "申论19-2公文题（上，倡议书宣传稿公开信）这节课弹幕最多的是：内容为王，形式为辅，一共有48条\n",
      "申论19-3公文题（上，倡议书宣传稿公开信）这节课弹幕最多的是：概括题，一共有45条\n",
      "申论19-4公文题（上，倡议书宣传稿公开信）这节课弹幕最多的是：严密的逻辑，一共有29条\n",
      "申论20-1公文题（下，讲话稿发言稿及提纲）这节课弹幕最多的是：66666，一共有22条\n",
      "申论20-2公文题（下，讲话稿发言稿及提纲）这节课弹幕最多的是：别骂了别骂了，一共有12条\n",
      "申论20-3公文题（下，讲话稿发言稿及提纲）这节课弹幕最多的是：提纲只是一种呈现方式，一共有18条\n",
      "申论20-4公文题（下，讲话稿发言稿及提纲）这节课弹幕最多的是：问题，一共有21条\n",
      "申论21-1公文题与评论型小文章之综合这节课弹幕最多的是：666666，一共有19条\n",
      "申论21-2公文题与评论型小文章之综合这节课弹幕最多的是：透过现象看本质，一共有9条\n",
      "申论21-3公文题与评论型小文章之综合这节课弹幕最多的是：材料，一共有27条\n",
      "申论21-4公文题与评论型小文章之综合这节课弹幕最多的是：小文章，一共有21条\n",
      "申论22-1语句解释题（上）这节课弹幕最多的是：内容为王，一共有27条\n",
      "申论22-2语句解释题（上）这节课弹幕最多的是：问题，一共有12条\n",
      "申论22-3语句解释题（上）这节课弹幕最多的是：人剑合一，一共有25条\n",
      "申论22-4语句解释题（上）这节课弹幕最多的是：人剑合一，一共有43条\n",
      "申论23-1语句解释题（下）&社会热点问题这节课弹幕最多的是：概括题，一共有37条\n",
      "申论23-2语句解释题（下）&社会热点问题这节课弹幕最多的是：缺乏，一共有10条\n",
      "申论23-3语句解释题（下）&社会热点问题这节课弹幕最多的是：冲冲冲，一共有4条\n",
      "申论23-4语句解释题（下）&社会热点问题这节课弹幕最多的是：谢谢老师，一共有103条\n",
      "2015广东申论真题大文章这节课弹幕最多的是：6666，一共有3条\n",
      "7.25联考申论（河南卷）这节课弹幕最多的是：有啊，一共有2条\n",
      "2013广东申论真题大文章这节课弹幕最多的是：粉笔应该就是拆分开的，，，，，一共有1条\n",
      "开放型概括题专项这节课弹幕最多的是：冲冲冲，一共有2条\n",
      "2020山东申论A卷这节课弹幕最多的是：枪扎一条线，一共有5条\n",
      "2019联考申论C卷这节课弹幕最多的是：谢谢老师！，一共有2条\n"
     ]
    }
   ],
   "source": [
    "import requests\n",
    "import re\n",
    "import os\n",
    "import time\n",
    "###弹幕存储路径\n",
    "dirName=\"申论弹幕\"\n",
    "if not os.path.exists(dirName):\n",
    "    os.mkdir(dirName)\n",
    "\n",
    "headers = {\n",
    "    'User-Agent': 'Mozilla/5.0 (Windows NT 10.0; Win64; x64) AppleWebKit/537.36 (KHTML, like Gecko) Chrome/87.0.4280.88 Safari/537.36'\n",
    "}\n",
    "url = 'https://www.bilibili.com/video/BV1W7411t7fy'\n",
    "##此变量用于改变文件名\n",
    "count = 0\n",
    "###爬取106节课的弹幕数据\n",
    "for each in range(1,106):\n",
    "    params = {\n",
    "        'p': str(each)\n",
    "    }\n",
    "    ###爬取原网址以获得oid\n",
    "    response = requests.get(url=url,headers=headers,params=params)\n",
    "    response.encoding = 'utf-8'\n",
    "    page_text = response.text\n",
    "    ##获取oid\n",
    "    oid = re.findall(r'\"base_url\":\".*?upgcxcode/\\d+/\\d+/(.*?)/.*?m4s.*?\"',page_text,re.S)[0]\n",
    "    ##获取这节课的名称\n",
    "    name = re.findall(r'\"part\":.*?\"(.*?)\",',page_text,re.S)[count]\n",
    "    ###爬取弹幕数据\n",
    "    content_url = 'https://api.bilibili.com/x/v1/dm/list.so?oid='+str(oid)\n",
    "    content = requests.get(url=content_url,headers= headers)\n",
    "    content.encoding = 'utf-8'\n",
    "    content_text = content.text\n",
    "    ###弹幕数据清理\n",
    "    real_content = re.findall(r'<.*?d.*?p.*?=.*?\".*?\".*?>(.*?)</d>',content_text,re.S)\n",
    "    ###存储弹幕数据\n",
    "    content_path = dirName + '/' + name + '.txt'\n",
    "    with open(content_path,'w',encoding = 'utf-8') as fp:\n",
    "        for cont in real_content:\n",
    "            fp.write(cont)\n",
    "            ###使数据更美观\n",
    "            fp.write('\\n')\n",
    "#####分析每一节课弹幕最多的数据\n",
    "###把数据存储为字典格式\n",
    "    content_dict = {}\n",
    "    for every in real_content:\n",
    "        if every not in content_dict:\n",
    "            content_dict[every] = 1\n",
    "        else:\n",
    "            content_dict[every] += 1\n",
    "    ###获取弹幕数最多的数据\n",
    "    max = list(content_dict.items())[0][1]\n",
    "    for i in list(content_dict.items()):\n",
    "        if i[1] >= max:\n",
    "            max = i[1]\n",
    "            content_max = i[0]\n",
    "    print(name+'这节课'+'弹幕最多的是：'+content_max+'，'+'一共有'+str(max)+'条')\n",
    "    ###防止爬取速度过快\n",
    "    time.sleep(0.5)\n",
    "    count += 1"
   ]
  },
  {
   "cell_type": "code",
   "execution_count": 9,
   "metadata": {},
   "outputs": [
    {
     "name": "stdout",
     "output_type": "stream",
     "text": [
      "       2020年12月\n",
      "Su\tM\tTu\tW\tTh\tF\tSa\n",
      "\t\t1\t2\t3\t4\t5\t\n",
      "6\t7\t8\t9\t10\t11\t12\t\n",
      "13\t14\t15\t16\t17\t18\t19\t\n",
      "20\t21\t22\t23\t24\t25\t26\t\n",
      "27\t28\t29\t30\t31\t\n",
      "---------------------------\n",
      "       2017年2月\n",
      "Su\tM\tTu\tW\tTh\tF\tSa\n",
      "\t\t\t1\t2\t3\t4\t\n",
      "5\t6\t7\t8\t9\t10\t11\t\n",
      "12\t13\t14\t15\t16\t17\t18\t\n",
      "19\t20\t21\t22\t23\t24\t25\t\n",
      "26\t27\t28\t\n",
      "---------------------------\n",
      "       2016年2月\n",
      "Su\tM\tTu\tW\tTh\tF\tSa\n",
      "\t1\t2\t3\t4\t5\t6\t\n",
      "7\t8\t9\t10\t11\t12\t13\t\n",
      "14\t15\t16\t17\t18\t19\t20\t\n",
      "21\t22\t23\t24\t25\t26\t27\t\n",
      "28\t29\t\n",
      "---------------------------\n"
     ]
    }
   ],
   "source": [
    "def day(y, m, d):#计算y年m月d日是星期几\n",
    "\n",
    "    y0 = y - (14 - m)//12\n",
    "    x = y0 + y0//4 - y0//100 + y0 //400\n",
    "    m0 = m + 12*((14 - m)//12) - 2\n",
    "    d0 = (d + x + 31*m0//12) % 7\n",
    "    return d0       #注意，周日是0\n",
    "\n",
    "def isLeapYear(year): #判断year年是否闰年\n",
    "    isLeapYear = True       \n",
    "    if year % 4 ==0:       #整除可不是等于0，天\n",
    "        if year % 100 ==0:\n",
    "            if year % 400 ==0:\n",
    "                isLeapYear = True\n",
    "            else:\n",
    "                isLeapYear = False\n",
    "        else:\n",
    "            isLeapYear = True      \n",
    "    else:\n",
    "        isLeapYear = False      #注意是一个等号还是两个等号\n",
    "    return isLeapYear\n",
    "\n",
    "def calendar(y, m): #打印y年m月日历\n",
    "    print('       {}年{}月'.format(y,m))\n",
    "    print('Su\\tM\\tTu\\tW\\tTh\\tF\\tSa')\n",
    "    # 请在下面编写代码\n",
    "    # ********** Begin ********** #\n",
    "    month_1 = [1,3,5,7,8,10,12]\n",
    "    month_2 = [4,6,9,11]\n",
    "    momth_number = 0\n",
    "    if isLeapYear(y):           #计算这个月有多少天\n",
    "        if m == 2:\n",
    "            month_number = 29\n",
    "        else:\n",
    "            if m in month_1:\n",
    "                month_number = 31\n",
    "            if m in month_2:\n",
    "                month_number = 30\n",
    "    else:\n",
    "        if m == 2:\n",
    "            month_number = 28\n",
    "        else:\n",
    "            if m in month_1:\n",
    "                month_number = 31\n",
    "            if m in month_2:\n",
    "                month_number = 30 \n",
    "                \n",
    "    table = day(y, m, 1)       #空格     排列输出\n",
    "    for j in range (1,month_number + 1):        #注意加一\n",
    "        if j == 1:\n",
    "            print(\"\\t\" * table,end = '')\n",
    "        j = str(j)\n",
    "        print(j + \"\\t\",end = '')\n",
    "        j = eval(j)\n",
    "        if (j + day(y, m, 1)) % 7 == 0:\n",
    "            print(\"\\r\")\n",
    "    print(\"\\r\")\n",
    " \n",
    "for (y,m) in [(2020,12), (2017,2), (2016,2)]:\n",
    "        calendar(y, m)\n",
    "        print('---------------------------')"
   ]
  },
  {
   "cell_type": "code",
   "execution_count": 10,
   "metadata": {},
   "outputs": [
    {
     "name": "stdout",
     "output_type": "stream",
     "text": [
      "x_data from datasets:\n",
      " [[5.1 3.5 1.4 0.2]\n",
      " [4.9 3.  1.4 0.2]\n",
      " [4.7 3.2 1.3 0.2]\n",
      " [4.6 3.1 1.5 0.2]\n",
      " [5.  3.6 1.4 0.2]\n",
      " [5.4 3.9 1.7 0.4]\n",
      " [4.6 3.4 1.4 0.3]\n",
      " [5.  3.4 1.5 0.2]\n",
      " [4.4 2.9 1.4 0.2]\n",
      " [4.9 3.1 1.5 0.1]\n",
      " [5.4 3.7 1.5 0.2]\n",
      " [4.8 3.4 1.6 0.2]\n",
      " [4.8 3.  1.4 0.1]\n",
      " [4.3 3.  1.1 0.1]\n",
      " [5.8 4.  1.2 0.2]\n",
      " [5.7 4.4 1.5 0.4]\n",
      " [5.4 3.9 1.3 0.4]\n",
      " [5.1 3.5 1.4 0.3]\n",
      " [5.7 3.8 1.7 0.3]\n",
      " [5.1 3.8 1.5 0.3]\n",
      " [5.4 3.4 1.7 0.2]\n",
      " [5.1 3.7 1.5 0.4]\n",
      " [4.6 3.6 1.  0.2]\n",
      " [5.1 3.3 1.7 0.5]\n",
      " [4.8 3.4 1.9 0.2]\n",
      " [5.  3.  1.6 0.2]\n",
      " [5.  3.4 1.6 0.4]\n",
      " [5.2 3.5 1.5 0.2]\n",
      " [5.2 3.4 1.4 0.2]\n",
      " [4.7 3.2 1.6 0.2]\n",
      " [4.8 3.1 1.6 0.2]\n",
      " [5.4 3.4 1.5 0.4]\n",
      " [5.2 4.1 1.5 0.1]\n",
      " [5.5 4.2 1.4 0.2]\n",
      " [4.9 3.1 1.5 0.2]\n",
      " [5.  3.2 1.2 0.2]\n",
      " [5.5 3.5 1.3 0.2]\n",
      " [4.9 3.6 1.4 0.1]\n",
      " [4.4 3.  1.3 0.2]\n",
      " [5.1 3.4 1.5 0.2]\n",
      " [5.  3.5 1.3 0.3]\n",
      " [4.5 2.3 1.3 0.3]\n",
      " [4.4 3.2 1.3 0.2]\n",
      " [5.  3.5 1.6 0.6]\n",
      " [5.1 3.8 1.9 0.4]\n",
      " [4.8 3.  1.4 0.3]\n",
      " [5.1 3.8 1.6 0.2]\n",
      " [4.6 3.2 1.4 0.2]\n",
      " [5.3 3.7 1.5 0.2]\n",
      " [5.  3.3 1.4 0.2]\n",
      " [7.  3.2 4.7 1.4]\n",
      " [6.4 3.2 4.5 1.5]\n",
      " [6.9 3.1 4.9 1.5]\n",
      " [5.5 2.3 4.  1.3]\n",
      " [6.5 2.8 4.6 1.5]\n",
      " [5.7 2.8 4.5 1.3]\n",
      " [6.3 3.3 4.7 1.6]\n",
      " [4.9 2.4 3.3 1. ]\n",
      " [6.6 2.9 4.6 1.3]\n",
      " [5.2 2.7 3.9 1.4]\n",
      " [5.  2.  3.5 1. ]\n",
      " [5.9 3.  4.2 1.5]\n",
      " [6.  2.2 4.  1. ]\n",
      " [6.1 2.9 4.7 1.4]\n",
      " [5.6 2.9 3.6 1.3]\n",
      " [6.7 3.1 4.4 1.4]\n",
      " [5.6 3.  4.5 1.5]\n",
      " [5.8 2.7 4.1 1. ]\n",
      " [6.2 2.2 4.5 1.5]\n",
      " [5.6 2.5 3.9 1.1]\n",
      " [5.9 3.2 4.8 1.8]\n",
      " [6.1 2.8 4.  1.3]\n",
      " [6.3 2.5 4.9 1.5]\n",
      " [6.1 2.8 4.7 1.2]\n",
      " [6.4 2.9 4.3 1.3]\n",
      " [6.6 3.  4.4 1.4]\n",
      " [6.8 2.8 4.8 1.4]\n",
      " [6.7 3.  5.  1.7]\n",
      " [6.  2.9 4.5 1.5]\n",
      " [5.7 2.6 3.5 1. ]\n",
      " [5.5 2.4 3.8 1.1]\n",
      " [5.5 2.4 3.7 1. ]\n",
      " [5.8 2.7 3.9 1.2]\n",
      " [6.  2.7 5.1 1.6]\n",
      " [5.4 3.  4.5 1.5]\n",
      " [6.  3.4 4.5 1.6]\n",
      " [6.7 3.1 4.7 1.5]\n",
      " [6.3 2.3 4.4 1.3]\n",
      " [5.6 3.  4.1 1.3]\n",
      " [5.5 2.5 4.  1.3]\n",
      " [5.5 2.6 4.4 1.2]\n",
      " [6.1 3.  4.6 1.4]\n",
      " [5.8 2.6 4.  1.2]\n",
      " [5.  2.3 3.3 1. ]\n",
      " [5.6 2.7 4.2 1.3]\n",
      " [5.7 3.  4.2 1.2]\n",
      " [5.7 2.9 4.2 1.3]\n",
      " [6.2 2.9 4.3 1.3]\n",
      " [5.1 2.5 3.  1.1]\n",
      " [5.7 2.8 4.1 1.3]\n",
      " [6.3 3.3 6.  2.5]\n",
      " [5.8 2.7 5.1 1.9]\n",
      " [7.1 3.  5.9 2.1]\n",
      " [6.3 2.9 5.6 1.8]\n",
      " [6.5 3.  5.8 2.2]\n",
      " [7.6 3.  6.6 2.1]\n",
      " [4.9 2.5 4.5 1.7]\n",
      " [7.3 2.9 6.3 1.8]\n",
      " [6.7 2.5 5.8 1.8]\n",
      " [7.2 3.6 6.1 2.5]\n",
      " [6.5 3.2 5.1 2. ]\n",
      " [6.4 2.7 5.3 1.9]\n",
      " [6.8 3.  5.5 2.1]\n",
      " [5.7 2.5 5.  2. ]\n",
      " [5.8 2.8 5.1 2.4]\n",
      " [6.4 3.2 5.3 2.3]\n",
      " [6.5 3.  5.5 1.8]\n",
      " [7.7 3.8 6.7 2.2]\n",
      " [7.7 2.6 6.9 2.3]\n",
      " [6.  2.2 5.  1.5]\n",
      " [6.9 3.2 5.7 2.3]\n",
      " [5.6 2.8 4.9 2. ]\n",
      " [7.7 2.8 6.7 2. ]\n",
      " [6.3 2.7 4.9 1.8]\n",
      " [6.7 3.3 5.7 2.1]\n",
      " [7.2 3.2 6.  1.8]\n",
      " [6.2 2.8 4.8 1.8]\n",
      " [6.1 3.  4.9 1.8]\n",
      " [6.4 2.8 5.6 2.1]\n",
      " [7.2 3.  5.8 1.6]\n",
      " [7.4 2.8 6.1 1.9]\n",
      " [7.9 3.8 6.4 2. ]\n",
      " [6.4 2.8 5.6 2.2]\n",
      " [6.3 2.8 5.1 1.5]\n",
      " [6.1 2.6 5.6 1.4]\n",
      " [7.7 3.  6.1 2.3]\n",
      " [6.3 3.4 5.6 2.4]\n",
      " [6.4 3.1 5.5 1.8]\n",
      " [6.  3.  4.8 1.8]\n",
      " [6.9 3.1 5.4 2.1]\n",
      " [6.7 3.1 5.6 2.4]\n",
      " [6.9 3.1 5.1 2.3]\n",
      " [5.8 2.7 5.1 1.9]\n",
      " [6.8 3.2 5.9 2.3]\n",
      " [6.7 3.3 5.7 2.5]\n",
      " [6.7 3.  5.2 2.3]\n",
      " [6.3 2.5 5.  1.9]\n",
      " [6.5 3.  5.2 2. ]\n",
      " [6.2 3.4 5.4 2.3]\n",
      " [5.9 3.  5.1 1.8]]\n",
      "y_data from datasets:\n",
      " [0 0 0 0 0 0 0 0 0 0 0 0 0 0 0 0 0 0 0 0 0 0 0 0 0 0 0 0 0 0 0 0 0 0 0 0 0\n",
      " 0 0 0 0 0 0 0 0 0 0 0 0 0 1 1 1 1 1 1 1 1 1 1 1 1 1 1 1 1 1 1 1 1 1 1 1 1\n",
      " 1 1 1 1 1 1 1 1 1 1 1 1 1 1 1 1 1 1 1 1 1 1 1 1 1 1 2 2 2 2 2 2 2 2 2 2 2\n",
      " 2 2 2 2 2 2 2 2 2 2 2 2 2 2 2 2 2 2 2 2 2 2 2 2 2 2 2 2 2 2 2 2 2 2 2 2 2\n",
      " 2 2]\n",
      "x_data add index:\n",
      "      花萼长度  花萼宽度  花瓣长度  花瓣宽度\n",
      "0         5.1       3.5       1.4       0.2\n",
      "1         4.9       3.0       1.4       0.2\n",
      "2         4.7       3.2       1.3       0.2\n",
      "3         4.6       3.1       1.5       0.2\n",
      "4         5.0       3.6       1.4       0.2\n",
      "..        ...       ...       ...       ...\n",
      "145       6.7       3.0       5.2       2.3\n",
      "146       6.3       2.5       5.0       1.9\n",
      "147       6.5       3.0       5.2       2.0\n",
      "148       6.2       3.4       5.4       2.3\n",
      "149       5.9       3.0       5.1       1.8\n",
      "\n",
      "[150 rows x 4 columns]\n",
      "x_data add column:\n",
      "      花萼长度  花萼宽度  花瓣长度  花瓣宽度  类别\n",
      "0         5.1       3.5       1.4       0.2     0\n",
      "1         4.9       3.0       1.4       0.2     0\n",
      "2         4.7       3.2       1.3       0.2     0\n",
      "3         4.6       3.1       1.5       0.2     0\n",
      "4         5.0       3.6       1.4       0.2     0\n",
      "..        ...       ...       ...       ...   ...\n",
      "145       6.7       3.0       5.2       2.3     2\n",
      "146       6.3       2.5       5.0       1.9     2\n",
      "147       6.5       3.0       5.2       2.0     2\n",
      "148       6.2       3.4       5.4       2.3     2\n",
      "149       5.9       3.0       5.1       1.8     2\n",
      "\n",
      "[150 rows x 5 columns]\n"
     ]
    }
   ],
   "source": [
    "#基于sklearn自带数据集进行鸢尾花分类的数据预处理\n",
    "\n",
    "from sklearn import datasets\n",
    "from sklearn.datasets import load_iris\n",
    "import pandas as pd\n",
    "from pandas import DataFrame\n",
    " \n",
    "x_data=datasets.load_iris().data # .data返回iris数据集所有输入特征\n",
    "y_data=datasets.load_iris().target # .target返回iris数据集所有标签\n",
    "print(\"x_data from datasets:\\n\",x_data)\n",
    "print(\"y_data from datasets:\\n\",y_data)\n",
    "\n",
    "x_data=DataFrame(x_data,columns=['花萼长度','花萼宽度','花瓣长度','花瓣宽度']) #为每一列增加中文标签\n",
    "pd.set_option('display.unicode.east_asian_width',True) #设置列对齐\n",
    "print(\"x_data add index:\\n\",x_data)\n",
    "\n",
    "x_data['类别']=y_data  #新增加一列，列标签为‘类别’，数据为y_data\n",
    "print(\"x_data add column:\\n\",x_data)"
   ]
  },
  {
   "cell_type": "code",
   "execution_count": 11,
   "metadata": {},
   "outputs": [
    {
     "data": {
      "image/png": "[encoded data removed]",
      "text/plain": [
       "<Figure size 432x288 with 1 Axes>"
      ]
     },
     "metadata": {
      "needs_background": "light"
     },
     "output_type": "display_data"
    }
   ],
   "source": [
    "import numpy as np\n",
    "import matplotlib.pyplot as plt\n",
    "X = np.linspace(0, 2*np.pi, 32, endpoint=True)\n",
    "C,S = np.cos(X), np.sin(X)\n",
    "plt.plot(X, C, 'go--')\n",
    "plt.plot(X,S, color='blue', marker='o', linestyle='dashed')\n",
    "# 一个是fmt，一个是线属性，但是它们的格式是一样的\n",
    "plt.show()"
   ]
  },
  {
   "cell_type": "code",
   "execution_count": 13,
   "metadata": {},
   "outputs": [
    {
     "name": "stdout",
     "output_type": "stream",
     "text": [
      "Tesla  Model S  2019\n"
     ]
    }
   ],
   "source": [
    "class Car:\n",
    "    def __init__(self,make,model,year):\n",
    "        self.make=make\n",
    "        self.model=model\n",
    "        self.year=year\n",
    "        self.odometer_reading=0\n",
    "    def get_descriptive_name(self):\n",
    "        long_name = f'{self.make}  {self.model}  {self.year}'\n",
    "        return long_name.title()\n",
    "    def read_odometer(self):\n",
    "        print(f\"该车的里程为{self.odometer_reading}\")\n",
    "    def update_odometer(self,mileage):\n",
    "        if mileage >= self.odometer_reading:\n",
    "            self.odometer_reading=mileage\n",
    "        else:\n",
    "            print(\"不能回调\")\n",
    "    def increment_odometer(self, miles):\n",
    "        self.odometer_reading += miles\n",
    "        \n",
    "class ElectricCar(Car):\n",
    "    '''\n",
    "    子类\n",
    "    '''\n",
    "    def __init__(self,make,model,year):\n",
    "        super().__init__(make,model,year)\n",
    "        \n",
    "my_tesla = ElectricCar('tesla','model s',2019)\n",
    "print(my_tesla.get_descriptive_name())"
   ]
  },
  {
   "cell_type": "code",
   "execution_count": 14,
   "metadata": {},
   "outputs": [
    {
     "name": "stdout",
     "output_type": "stream",
     "text": [
      "Tesla  Model S  2019\n",
      "电量：75\n"
     ]
    }
   ],
   "source": [
    "class Car:\n",
    "    def __init__(self,make,model,year):\n",
    "        self.make=make\n",
    "        self.model=model\n",
    "        self.year=year\n",
    "        self.odometer_reading=0\n",
    "    def get_descriptive_name(self):\n",
    "        long_name = f'{self.make}  {self.model}  {self.year}'\n",
    "        return long_name.title()\n",
    "    def read_odometer(self):\n",
    "        print(f\"该车的里程为{self.odometer_reading}\")\n",
    "    def update_odometer(self,mileage):\n",
    "        if mileage >= self.odometer_reading:\n",
    "            self.odometer_reading=mileage\n",
    "        else:\n",
    "            print(\"不能回调\")\n",
    "    def increment_odometer(self, miles):\n",
    "        self.odometer_reading += miles\n",
    "    def fill_gas_tank(self):\n",
    "        print('油箱油满了')\n",
    "        \n",
    "class ElectricCar(Car):\n",
    "    '''\n",
    "    子类\n",
    "    '''\n",
    "    def __init__(self,make,model,year):\n",
    "        super().__init__(make,model,year)\n",
    "        self.battery_size=75\n",
    "    \n",
    "    def describe_battery(self):\n",
    "        print(f\"电量：{self.battery_size}\")\n",
    "        \n",
    "my_tesla = ElectricCar('tesla','model s',2019)\n",
    "print(my_tesla.get_descriptive_name())\n",
    "my_tesla.describe_battery()"
   ]
  },
  {
   "cell_type": "code",
   "execution_count": 15,
   "metadata": {},
   "outputs": [
    {
     "data": {
      "image/png": "[encoded data removed]",
      "text/plain": [
       "<Figure size 432x288 with 1 Axes>"
      ]
     },
     "metadata": {
      "needs_background": "light"
     },
     "output_type": "display_data"
    }
   ],
   "source": [
    "import matplotlib.pyplot as plt\n",
    "squares=[1,4,9,16,25]\n",
    "fig,ax = plt.subplots()\n",
    "ax.plot(squares)\n",
    "plt.show()"
   ]
  },
  {
   "cell_type": "code",
   "execution_count": 16,
   "metadata": {},
   "outputs": [
    {
     "data": {
      "image/png": "[encoded data removed]",
      "text/plain": [
       "<Figure size 432x288 with 1 Axes>"
      ]
     },
     "metadata": {
      "needs_background": "light"
     },
     "output_type": "display_data"
    }
   ],
   "source": [
    "import matplotlib.pyplot as plt\n",
    "input_values=[1,2,5,6,10]\n",
    "squares=[1,4,6,8,7]\n",
    "plt.style.use('seaborn-muted')\n",
    "fig,ax=plt.subplots()\n",
    "ax.plot(input_values, squares, linewidth=5)\n",
    "plt.show()"
   ]
  },
  {
   "cell_type": "code",
   "execution_count": 19,
   "metadata": {},
   "outputs": [
    {
     "name": "stdout",
     "output_type": "stream",
     "text": [
      "           1            1            2            3            5            8 \n",
      "          13           21           34           55           89          144 \n",
      "         233          377          610          987         1597         2584 \n",
      "        4181         6765        10946        17711        28657        46368 \n",
      "       75025       121393       196418       317811       514229       832040 \n",
      "     1346269      2178309      3524578      5702887      9227465     14930352 \n",
      "    24157817     39088169     63245986    102334155    165580141    267914296 \n"
     ]
    }
   ],
   "source": [
    "f1 = 1\n",
    "f2 = 1\n",
    "for i in range(1,22):\n",
    "    print ('%12ld %12ld' % (f1,f2), end=\" \")\n",
    "    if (i % 3) == 0:\n",
    "        print ('')\n",
    "    f1 = f1 + f2\n",
    "    f2 = f1 + f2"
   ]
  },
  {
   "cell_type": "code",
   "execution_count": 20,
   "metadata": {},
   "outputs": [
    {
     "name": "stdout",
     "output_type": "stream",
     "text": [
      "101 \n",
      "103 \n",
      "107 \n",
      "109 \n",
      "113 \n",
      "127 \n",
      "131 \n",
      "137 \n",
      "139 \n",
      "149 \n",
      "\n",
      "151 \n",
      "157 \n",
      "163 \n",
      "167 \n",
      "173 \n",
      "179 \n",
      "181 \n",
      "191 \n",
      "193 \n",
      "197 \n",
      "\n",
      "199 \n",
      "The total is 21\n"
     ]
    }
   ],
   "source": [
    "h = 0\n",
    "leap = 1\n",
    "from math import sqrt\n",
    "from sys import stdout\n",
    "for m in range(101,201):\n",
    "    k = int(sqrt(m + 1))\n",
    "    for i in range(2,k + 1):\n",
    "        if m % i == 0:\n",
    "            leap = 0\n",
    "            break\n",
    "    if leap == 1:\n",
    "        print ('%-4d' % m)\n",
    "        h += 1\n",
    "        if h % 10 == 0:\n",
    "            print ('')\n",
    "    leap = 1\n",
    "print ('The total is %d' % h)"
   ]
  },
  {
   "cell_type": "code",
   "execution_count": 21,
   "metadata": {},
   "outputs": [
    {
     "name": "stdout",
     "output_type": "stream",
     "text": [
      "15/01/2021\n",
      "05/01/1941\n",
      "06/01/1941\n",
      "05/01/1942\n"
     ]
    }
   ],
   "source": [
    "import datetime\n",
    " \n",
    "if __name__ == '__main__':\n",
    " \n",
    "    \n",
    "    print(datetime.date.today().strftime('%d/%m/%Y'))\n",
    "   \n",
    "    miyazakiBirthDate = datetime.date(1941, 1, 5)\n",
    " \n",
    "    print(miyazakiBirthDate.strftime('%d/%m/%Y'))\n",
    "\n",
    "    miyazakiBirthNextDay = miyazakiBirthDate + datetime.timedelta(days=1)\n",
    " \n",
    "    print(miyazakiBirthNextDay.strftime('%d/%m/%Y'))\n",
    "  \n",
    "    miyazakiFirstBirthday = miyazakiBirthDate.replace(year=miyazakiBirthDate.year + 1)\n",
    " \n",
    "    print(miyazakiFirstBirthday.strftime('%d/%m/%Y'))"
   ]
  },
  {
   "cell_type": "code",
   "execution_count": 22,
   "metadata": {},
   "outputs": [
    {
     "name": "stdout",
     "output_type": "stream",
     "text": [
      "RUNOOB\n",
      "RUNOOB\n",
      "RUNOOB\n"
     ]
    }
   ],
   "source": [
    "def hello_runoob():\n",
    "    print ('RUNOOB')\n",
    " \n",
    "def hello_runoobs():\n",
    "    for i in range(3):\n",
    "        hello_runoob()\n",
    "if __name__ == '__main__':\n",
    "    hello_runoobs()"
   ]
  },
  {
   "cell_type": "code",
   "execution_count": null,
   "metadata": {},
   "outputs": [],
   "source": []
  }
 ],
 "metadata": {
  "kernelspec": {
   "display_name": "Python 3",
   "language": "python",
   "name": "python3"
  },
  "language_info": {
   "codemirror_mode": {
    "name": "ipython",
    "version": 3
   },
   "file_extension": ".py",
   "mimetype": "text/x-python",
   "name": "python",
   "nbconvert_exporter": "python",
   "pygments_lexer": "ipython3",
   "version": "3.8.3"
  }
 },
 "nbformat": 4,
 "nbformat_minor": 4
}
