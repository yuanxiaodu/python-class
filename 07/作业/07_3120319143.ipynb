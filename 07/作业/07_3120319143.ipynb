{
 "cells": [
  {
   "cell_type": "code",
   "execution_count": 1,
   "metadata": {},
   "outputs": [
    {
     "name": "stdin",
     "output_type": "stream",
     "text": [
      "please input: s\n"
     ]
    },
    {
     "name": "stdout",
     "output_type": "stream",
     "text": [
      "data error\n"
     ]
    }
   ],
   "source": [
    "#!/usr/bin/python3\n",
    " \n",
    "letter = input(\"please input:\")\n",
    "#while letter  != 'Y':\n",
    "if letter == 'S':\n",
    "    print ('please input second letter:')\n",
    "    letter = input(\"please input:\")\n",
    "    if letter == 'a':\n",
    "        print ('Saturday')\n",
    "    elif letter  == 'u':\n",
    "        print ('Sunday')\n",
    "    else:\n",
    "        print ('data error')\n",
    "    \n",
    "elif letter == 'F':\n",
    "    print ('Friday')\n",
    "    \n",
    "elif letter == 'M':\n",
    "    print ('Monday')\n",
    "    \n",
    "elif letter == 'T':\n",
    "    print ('please input second letter')\n",
    "    letter = input(\"please input:\")\n",
    " \n",
    "    if letter  == 'u':\n",
    "        print ('Tuesday')\n",
    "    elif letter  == 'h':\n",
    "        print ('Thursday')\n",
    "    else:\n",
    "        print ('data error')\n",
    "        \n",
    "elif letter == 'W':\n",
    "    print ('Wednesday')\n",
    "else:\n",
    "    print ('data error')"
   ]
  },
  {
   "cell_type": "code",
   "execution_count": 2,
   "metadata": {},
   "outputs": [
    {
     "name": "stdout",
     "output_type": "stream",
     "text": [
      "RUNOOB\n",
      "RUNOOB\n",
      "RUNOOB\n"
     ]
    }
   ],
   "source": [
    "#!/usr/bin/python\n",
    "# -*- coding: UTF-8 -*-\n",
    " \n",
    "def hello_runoob():\n",
    "    print ('RUNOOB')\n",
    " \n",
    "def hello_runoobs():\n",
    "    for i in range(3):\n",
    "        hello_runoob()\n",
    "if __name__ == '__main__':\n",
    "    hello_runoobs()"
   ]
  },
  {
   "cell_type": "code",
   "execution_count": 3,
   "metadata": {},
   "outputs": [
    {
     "name": "stdout",
     "output_type": "stream",
     "text": [
      "\u001b[93m警告的颜色字体?\u001b[0m\n"
     ]
    }
   ],
   "source": [
    "#!/usr/bin/python\n",
    "# -*- coding: UTF-8 -*-\n",
    " \n",
    "class bcolors:\n",
    "    HEADER = '\\033[95m'\n",
    "    OKBLUE = '\\033[94m'\n",
    "    OKGREEN = '\\033[92m'\n",
    "    WARNING = '\\033[93m'\n",
    "    FAIL = '\\033[91m'\n",
    "    ENDC = '\\033[0m'\n",
    "    BOLD = '\\033[1m'\n",
    "    UNDERLINE = '\\033[4m'\n",
    "print (bcolors.WARNING + \"警告的颜色字体?\" + bcolors.ENDC)"
   ]
  },
  {
   "cell_type": "code",
   "execution_count": 4,
   "metadata": {},
   "outputs": [
    {
     "name": "stdin",
     "output_type": "stream",
     "text": [
      "输入区间最小值:  1\n",
      "输入区间最大值:  6\n"
     ]
    },
    {
     "name": "stdout",
     "output_type": "stream",
     "text": [
      "2\n",
      "3\n",
      "5\n"
     ]
    }
   ],
   "source": [
    "#!/usr/bin/python\n",
    "# -*- coding: UTF-8 -*-\n",
    " \n",
    "# 输出指定范围内的素数\n",
    " \n",
    "# 用户输入数据\n",
    "lower = int(input(\"输入区间最小值: \"))\n",
    "upper = int(input(\"输入区间最大值: \"))\n",
    " \n",
    "for num in range(lower,upper + 1):\n",
    "    # 素数大于 1\n",
    "    if num > 1:\n",
    "        for i in range(2,num):\n",
    "            if (num % i) == 0:\n",
    "                break\n",
    "        else:\n",
    "            print(num)"
   ]
  },
  {
   "cell_type": "code",
   "execution_count": 5,
   "metadata": {},
   "outputs": [
    {
     "name": "stdout",
     "output_type": "stream",
     "text": [
      "请输入10个数字:\n",
      "\n"
     ]
    },
    {
     "name": "stdin",
     "output_type": "stream",
     "text": [
      "输入一个数字:\n",
      " 4\n",
      "输入一个数字:\n",
      " 7\n",
      "输入一个数字:\n",
      " 6\n",
      "输入一个数字:\n",
      " 9\n",
      "输入一个数字:\n",
      " 6\n",
      "输入一个数字:\n",
      " 9\n",
      "输入一个数字:\n",
      " 0\n",
      "输入一个数字:\n",
      " 2\n",
      "输入一个数字:\n",
      " 8\n",
      "输入一个数字:\n",
      " 8\n"
     ]
    },
    {
     "name": "stdout",
     "output_type": "stream",
     "text": [
      "4\n",
      "7\n",
      "6\n",
      "9\n",
      "6\n",
      "9\n",
      "0\n",
      "2\n",
      "8\n",
      "8\n",
      "排列之后：\n",
      "0\n",
      "2\n",
      "4\n",
      "6\n",
      "6\n",
      "7\n",
      "8\n",
      "8\n",
      "9\n",
      "9\n"
     ]
    }
   ],
   "source": [
    "#!/usr/bin/python\n",
    "# -*- coding: UTF-8 -*-\n",
    " \n",
    "if __name__ == \"__main__\":\n",
    "    N = 10\n",
    "    # input data\n",
    "    print ('请输入10个数字:\\n')\n",
    "    l = []\n",
    "    for i in range(N):\n",
    "        l.append(int(input('输入一个数字:\\n')))\n",
    "    print\n",
    "    for i in range(N):\n",
    "        print (l[i])\n",
    "    print\n",
    " \n",
    "    # 排列10个数字\n",
    "    for i in range(N - 1):\n",
    "        min = i\n",
    "        for j in range(i + 1,N):\n",
    "            if l[min] > l[j]:min = j\n",
    "        l[i],l[min] = l[min],l[i]\n",
    "    print ('排列之后：')\n",
    "    for i in range(N):\n",
    "        print (l[i])"
   ]
  },
  {
   "cell_type": "code",
   "execution_count": 6,
   "metadata": {},
   "outputs": [
    {
     "name": "stdin",
     "output_type": "stream",
     "text": [
      "input num:\n",
      " 35\n",
      "input num:\n",
      " 87\n",
      "input num:\n",
      " 54\n",
      "input num:\n",
      " 98\n",
      "input num:\n",
      " 54\n",
      "input num:\n",
      " 32\n",
      "input num:\n",
      " 12\n",
      "input num:\n",
      " 46\n",
      "input num:\n",
      " 5\n"
     ]
    },
    {
     "name": "stdout",
     "output_type": "stream",
     "text": [
      "94.0\n"
     ]
    }
   ],
   "source": [
    "#!/usr/bin/python\n",
    "# -*- coding: UTF-8 -*-\n",
    " \n",
    "if __name__ == '__main__':\n",
    "    a = []\n",
    "    sum = 0.0\n",
    "    for i in range(3):\n",
    "        a.append([])\n",
    "        for j in range(3):\n",
    "            a[i].append(float(input(\"input num:\\n\")))\n",
    "    for i in range(3):\n",
    "        sum += a[i][i]\n",
    "    print (sum)"
   ]
  },
  {
   "cell_type": "code",
   "execution_count": 7,
   "metadata": {},
   "outputs": [
    {
     "name": "stdout",
     "output_type": "stream",
     "text": [
      "原始列表:\n",
      "1\n",
      "4\n",
      "6\n",
      "9\n",
      "13\n",
      "16\n",
      "19\n",
      "28\n",
      "40\n",
      "100\n",
      "0\n"
     ]
    },
    {
     "name": "stdin",
     "output_type": "stream",
     "text": [
      "\n",
      "插入一个数字:\n",
      " 2\n"
     ]
    },
    {
     "name": "stdout",
     "output_type": "stream",
     "text": [
      "排序后列表:\n",
      "1\n",
      "2\n",
      "4\n",
      "6\n",
      "9\n",
      "13\n",
      "16\n",
      "19\n",
      "28\n",
      "40\n",
      "100\n"
     ]
    }
   ],
   "source": [
    "#!/usr/bin/python\n",
    "# -*- coding: UTF-8 -*-\n",
    " \n",
    "if __name__ == '__main__':\n",
    "    # 方法一 ： 0 作为加入数字的占位符\n",
    "    a = [1,4,6,9,13,16,19,28,40,100,0]\n",
    "    print ('原始列表:')\n",
    "    for i in range(len(a)):\n",
    "        print (a[i])\n",
    "    number = int(input(\"\\n插入一个数字:\\n\"))\n",
    "    end = a[9]\n",
    "    if number > end:\n",
    "        a[10] = number\n",
    "    else:\n",
    "        for i in range(10):\n",
    "            if a[i] > number:\n",
    "                temp1 = a[i]\n",
    "                a[i] = number\n",
    "                for j in range(i + 1,11):\n",
    "                    temp2 = a[j]\n",
    "                    a[j] = temp1\n",
    "                    temp1 = temp2\n",
    "                break\n",
    "    print ('排序后列表:')\n",
    "    for i in range(11):\n",
    "        print (a[i])"
   ]
  },
  {
   "cell_type": "code",
   "execution_count": 8,
   "metadata": {},
   "outputs": [
    {
     "name": "stdout",
     "output_type": "stream",
     "text": [
      "[9, 6, 5, 4, 1]\n",
      "[1, 4, 5, 6, 9]\n"
     ]
    }
   ],
   "source": [
    "#!/usr/bin/python\n",
    "# -*- coding: UTF-8 -*-\n",
    " \n",
    "if __name__ == '__main__':\n",
    "    a = [9,6,5,4,1]\n",
    "    N = len(a) \n",
    "    print (a) \n",
    "    for i in range(len(a) // 2):\n",
    "        a[i],a[N - i - 1] = a[N - i - 1],a[i]\n",
    "    print (a)"
   ]
  },
  {
   "cell_type": "code",
   "execution_count": 9,
   "metadata": {},
   "outputs": [
    {
     "name": "stdout",
     "output_type": "stream",
     "text": [
      "var = 0\n",
      "var = 0\n",
      "var = 0\n",
      "5\n",
      "6\n",
      "7\n",
      "8\n"
     ]
    }
   ],
   "source": [
    "#!/usr/bin/python\n",
    "# -*- coding: UTF-8 -*-\n",
    "\n",
    "def varfunc():\n",
    "    var = 0\n",
    "    print ('var = %d' % var)\n",
    "    var += 1\n",
    "if __name__ == '__main__':\n",
    "    for i in range(3):\n",
    "        varfunc()\n",
    "\n",
    "\n",
    "class Static:\n",
    "    StaticVar = 5\n",
    "    def varfunc(self):\n",
    "        self.StaticVar += 1\n",
    "        print (self.StaticVar)\n",
    "\n",
    "print (Static.StaticVar)\n",
    "a = Static()\n",
    "for i in range(3):\n",
    "    a.varfunc()"
   ]
  },
  {
   "cell_type": "code",
   "execution_count": 10,
   "metadata": {},
   "outputs": [
    {
     "name": "stdout",
     "output_type": "stream",
     "text": [
      "The num = 2\n",
      "internal block num = 1\n",
      "The num = 3\n",
      "internal block num = 1\n",
      "The num = 4\n",
      "internal block num = 1\n"
     ]
    }
   ],
   "source": [
    "#!/usr/bin/python\n",
    "# -*- coding: UTF-8 -*-\n",
    "\n",
    "num = 2\n",
    "def autofunc():\n",
    "    num = 1\n",
    "    print ('internal block num = %d' % num)\n",
    "    num += 1\n",
    "for i in range(3):\n",
    "    print ('The num = %d' % num)\n",
    "    num += 1\n",
    "    autofunc()"
   ]
  },
  {
   "cell_type": "code",
   "execution_count": 11,
   "metadata": {},
   "outputs": [
    {
     "name": "stdout",
     "output_type": "stream",
     "text": [
      "The num = 3\n",
      "nNum = 2\n",
      "The num = 4\n",
      "nNum = 3\n",
      "The num = 5\n",
      "nNum = 4\n"
     ]
    }
   ],
   "source": [
    "#!/usr/bin/python\n",
    "# -*- coding: UTF-8 -*-\n",
    "\n",
    "class Num:\n",
    "    nNum = 1\n",
    "    def inc(self):\n",
    "        self.nNum += 1\n",
    "        print ('nNum = %d' % self.nNum)\n",
    "\n",
    "if __name__ == '__main__':\n",
    "    nNum = 2\n",
    "    inst = Num()\n",
    "    for i in range(3):\n",
    "        nNum += 1\n",
    "        print ('The num = %d' % nNum)\n",
    "        inst.inc()"
   ]
  },
  {
   "cell_type": "code",
   "execution_count": 12,
   "metadata": {},
   "outputs": [
    {
     "name": "stdout",
     "output_type": "stream",
     "text": [
      "[17, 15, 4]\n",
      "[10, 12, 9]\n",
      "[11, 13, 18]\n"
     ]
    }
   ],
   "source": [
    "#!/usr/bin/python\n",
    "# -*- coding: UTF-8 -*-\n",
    " \n",
    "X = [[12,7,3],\n",
    "    [4 ,5,6],\n",
    "    [7 ,8,9]]\n",
    " \n",
    "Y = [[5,8,1],\n",
    "    [6,7,3],\n",
    "    [4,5,9]]\n",
    " \n",
    "result = [[0,0,0],\n",
    "         [0,0,0],\n",
    "         [0,0,0]]\n",
    " \n",
    "# 迭代输出行\n",
    "for i in range(len(X)):\n",
    "   # 迭代输出列\n",
    "   for j in range(len(X[0])):\n",
    "       result[i][j] = X[i][j] + Y[i][j]\n",
    " \n",
    "for r in result:\n",
    "   print(r)"
   ]
  },
  {
   "cell_type": "code",
   "execution_count": 13,
   "metadata": {},
   "outputs": [
    {
     "name": "stdout",
     "output_type": "stream",
     "text": [
      "如果输入的数字小于 50，程序将停止运行。\n"
     ]
    },
    {
     "name": "stdin",
     "output_type": "stream",
     "text": [
      "请输入一个数字： 23\n"
     ]
    },
    {
     "name": "stdout",
     "output_type": "stream",
     "text": [
      "运算结果为: 529\n"
     ]
    },
    {
     "name": "stdin",
     "output_type": "stream",
     "text": [
      "请输入一个数字： 87\n"
     ]
    },
    {
     "name": "stdout",
     "output_type": "stream",
     "text": [
      "运算结果为: 7569\n"
     ]
    },
    {
     "name": "stdin",
     "output_type": "stream",
     "text": [
      "请输入一个数字： 76\n"
     ]
    },
    {
     "name": "stdout",
     "output_type": "stream",
     "text": [
      "运算结果为: 5776\n"
     ]
    },
    {
     "name": "stdin",
     "output_type": "stream",
     "text": [
      "请输入一个数字： 3\n"
     ]
    },
    {
     "name": "stdout",
     "output_type": "stream",
     "text": [
      "运算结果为: 9\n"
     ]
    }
   ],
   "source": [
    "#!/usr/bin/python\n",
    "# -*- coding: UTF-8 -*-\n",
    " \n",
    "TRUE = 1\n",
    "FALSE = 0\n",
    "def SQ(x):\n",
    "    return x * x\n",
    "print ('如果输入的数字小于 50，程序将停止运行。')\n",
    "again = 1\n",
    "while again:\n",
    "    num = int(input('请输入一个数字：'))\n",
    "    print ('运算结果为: %d' % (SQ(num)))\n",
    "    if SQ(num) >= 50:\n",
    "        again = TRUE\n",
    "    else:\n",
    "        again = FALSE"
   ]
  },
  {
   "cell_type": "code",
   "execution_count": null,
   "metadata": {},
   "outputs": [],
   "source": []
  }
 ],
 "metadata": {
  "kernelspec": {
   "display_name": "Python 3",
   "language": "python",
   "name": "python3"
  },
  "language_info": {
   "codemirror_mode": {
    "name": "ipython",
    "version": 3
   },
   "file_extension": ".py",
   "mimetype": "text/x-python",
   "name": "python",
   "nbconvert_exporter": "python",
   "pygments_lexer": "ipython3",
   "version": "3.8.5"
  }
 },
 "nbformat": 4,
 "nbformat_minor": 4
}
