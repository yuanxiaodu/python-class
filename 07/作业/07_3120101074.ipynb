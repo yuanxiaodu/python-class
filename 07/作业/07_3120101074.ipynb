{
 "cells": [
  {
   "cell_type": "code",
   "execution_count": 1,
   "metadata": {},
   "outputs": [
    {
     "name": "stdout",
     "output_type": "stream",
     "text": [
      "输入一个数字还你一个斐波那契数列v2.0：2\n",
      "==================================================\n",
      "第2个:1\n"
     ]
    }
   ],
   "source": [
    "num =int(input(\"输入一个数字还你一个斐波那契数列v2.0：\"))\n",
    "list_nums=[1,1]\n",
    "def calculate(num,list_nums):\n",
    "    i = 0\n",
    "    if num>2:\n",
    "        while i < num:\n",
    "            list_nums.insert(i+2,list_nums[i]+list_nums[i+1])\n",
    "            i+=1\n",
    "        else:\n",
    "            print(\"数列已生成\")\n",
    "            print(list_nums)\n",
    "        return list_nums[num-1]\n",
    "    else:\n",
    "        return list_nums[0]\n",
    "\n",
    "res = calculate(num,list_nums)\n",
    "print(\"=\"*50)\n",
    "print(\"第%s个:%s\"%(num,res))"
   ]
  },
  {
   "cell_type": "code",
   "execution_count": 2,
   "metadata": {},
   "outputs": [
    {
     "name": "stdout",
     "output_type": "stream",
     "text": [
      "0\n",
      "1\n",
      "1\n",
      "2\n",
      "3\n",
      "5\n",
      "8\n",
      "13\n",
      "21\n",
      "34\n"
     ]
    }
   ],
   "source": [
    "# 实现斐波那契数列\n",
    "class feibo(object):\n",
    "    def __init__(self, length):\n",
    "        self.num1 = 0\n",
    "        self.num2 = 1\n",
    "        self.num = self.num1\n",
    "        self.length = length\n",
    "        self.index = 0\n",
    "    def __iter__(self):\n",
    "        return self\n",
    "    def __next__(self):\n",
    "        self.num = self.num1\n",
    "        while True:\n",
    "            if self.index == self.length:\n",
    "                raise StopIteration\n",
    "            self.num1, self.num2 = self.num2, self.num1+self.num2\n",
    "            self.index += 1\n",
    "            return self.num\n",
    "myfbnq = feibo(10)\n",
    "# print(list(myfbnq))    # 指针位置已到最后一位\n",
    "for i in myfbnq:\n",
    "    print(i)"
   ]
  },
  {
   "cell_type": "code",
   "execution_count": 3,
   "metadata": {},
   "outputs": [
    {
     "name": "stdout",
     "output_type": "stream",
     "text": [
      "输入一个数：2\n",
      "1\n"
     ]
    }
   ],
   "source": [
    "def fbnq(n):\n",
    "    a,b=1,1\n",
    "    if n==1 or n ==2:\n",
    "        return 1\n",
    "    else:\n",
    "        i=3\n",
    "        while i<=n:\n",
    "            a,b=b,a+b\n",
    "            i+=1\n",
    "        return b\n",
    "print(fbnq(int(input(\"输入一个数：\"))))"
   ]
  },
  {
   "cell_type": "code",
   "execution_count": 4,
   "metadata": {},
   "outputs": [
    {
     "data": {
      "image/png": "[encoded data removed]",
      "text/plain": [
       "<Figure size 432x288 with 1 Axes>"
      ]
     },
     "metadata": {
      "needs_background": "light"
     },
     "output_type": "display_data"
    }
   ],
   "source": [
    "# 多个函数图像求交点\n",
    "import numpy as np\n",
    "import math\n",
    "from matplotlib import pyplot as plt \n",
    "x1=[]\n",
    "y1=[]\n",
    "x2=[]\n",
    "y2=[]\n",
    "a=np.linspace(0,10,1000)\n",
    "def line1(x1):\n",
    "    y1=math.sin(x1)\n",
    "    return y1\n",
    "def line2(x2):\n",
    "    y2=math.exp(-x2)\n",
    "    return y2\n",
    "def f3(k):\n",
    "    y3=math.sin(k)\n",
    "    return y3\n",
    "def f4(k):\n",
    "    y4=math.exp(-k)\n",
    "    return y4\n",
    "plt.figure(\"sin(x) & e^(-x) function\")\n",
    "for i in a:\n",
    "    x1.append(i)\n",
    "    y1.append(line1(i))\n",
    "    x2.append(i)\n",
    "    y2.append(line2(i))\n",
    "x_position=0\n",
    "y_position=0\n",
    "plt.scatter(x_position,y_position , marker = 'x',color = 'black', s = 40 ,label = 'origin')\n",
    "j=0\n",
    "for k in a:\n",
    "     y5=f3(k)-f4(k)\n",
    "     if  math.fabs(y5)<0.005:         \n",
    "         j=j+1 \n",
    "         plt.scatter(k ,f4(k) , marker = '*',color = 'green', s = 40 ,label = 'intersection'+str(j))\n",
    "         plt.text(k ,f4(k) ,(round(k,4),round(f4(k),4)),color='green')\n",
    "plt.text(2.7,0.75, \"y=sin(x)\", weight=\"bold\", color=\"blue\")         \n",
    "plt.plot(x1, y1, color='blue', label=\"sin(x)\")\n",
    "plt.text(4.5,0.1, \"y=e^(-x)\", weight=\"bold\", color=\"red\") \n",
    "plt.plot(x2, y2, color='red', label=\"e^(-x)\")\n",
    "plt.title(\"sin(x) & e^(-x) function\")\n",
    "plt.legend()\n",
    "plt.show()"
   ]
  },
  {
   "cell_type": "code",
   "execution_count": 6,
   "metadata": {},
   "outputs": [
    {
     "name": "stdout",
     "output_type": "stream",
     "text": [
      "矩阵X:\n",
      "[[ 1  0  1]\n",
      " [ 1 -1  0]]\n",
      "矩阵Y1:\n",
      "[[3 4 2]\n",
      " [5 4 6]\n",
      " [2 2 1]]\n",
      "矩阵Y2:\n",
      "[[3 4 2]\n",
      " [5 4 6]]\n",
      "矩阵乘法:\n",
      "[[ 5  6  3]\n",
      " [-2  0 -4]]\n",
      "按位乘法:\n",
      "[[ 3  0  2]\n",
      " [ 5 -4  0]]\n"
     ]
    }
   ],
   "source": [
    "# 矩阵乘法和按位乘法\n",
    "import numpy as np\n",
    "X=np.array([[1,0,1],[1,-1,0]])\n",
    "Y1=np.array([[3,4,2],[5,4,6],[2,2,1]])\n",
    "Y2=np.array([[3,4,2],[5,4,6]])\n",
    "print(\"矩阵X:\\n\"+str(X))\n",
    "print(\"矩阵Y1:\\n\"+str(Y1))\n",
    "print(\"矩阵Y2:\\n\"+str(Y2))\n",
    "Z1=X.dot(Y1)\n",
    "print(\"矩阵乘法:\\n\"+str(Z1))\n",
    "Z2=X*Y2\n",
    "print(\"按位乘法:\\n\"+str(Z2))"
   ]
  },
  {
   "cell_type": "code",
   "execution_count": 7,
   "metadata": {},
   "outputs": [
    {
     "name": "stdout",
     "output_type": "stream",
     "text": [
      "He is a cool boy\n",
      "\n"
     ]
    }
   ],
   "source": [
    "# 字符串选择性条件拼接\n",
    "import random as rd\n",
    "people = ['He','She']\n",
    "person = rd.sample(people,1)\n",
    "be = '_am_is_are'\n",
    "var1 = 'cool'\n",
    "var2 = 'beautiful'\n",
    "article = 'a'\n",
    "boy_or_girl = '_boy_gril'\n",
    "var3 = \"\"\n",
    "person = var3.join(person)\n",
    "if person == 'He' :    \n",
    "    be=be[4:6]\n",
    "    var4=var1\n",
    "    boy_or_girl = boy_or_girl[1:4]    \n",
    "elif person == 'She' :\n",
    "    be=be[4:6]\n",
    "    var4=var2\n",
    "    boy_or_girl = boy_or_girl[5:9]\n",
    "print (person+' '+be+' '+article[0]+' '+var4+' '+boy_or_girl+'\\n')"
   ]
  },
  {
   "cell_type": "code",
   "execution_count": 8,
   "metadata": {},
   "outputs": [
    {
     "name": "stdout",
     "output_type": "stream",
     "text": [
      "\n",
      "\n",
      "(0,4) (1,4) (2,4) (3,4) (4,4) \n",
      "\n",
      "(0,3) (1,3) (2,3) (3,3) (4,3) \n",
      "\n",
      "(0,2) (1,2) (2,2) (3,2) (4,2) \n",
      "\n",
      "(0,1) (1,1) (2,1) (3,1) (4,1) \n",
      "\n",
      "(0,0) (1,0) (2,0) (3,0) (4,0) \n",
      "\n",
      "        (2,4)         \n",
      "\n",
      "    (1,3)     (3,3)     \n",
      "\n",
      "(0,2)             (4,2) \n",
      "\n",
      "    (1,1)     (3,1)     \n",
      "\n",
      "        (2,0)         \n",
      "\n",
      "        *           \n",
      "\n",
      "    *       *       \n",
      "\n",
      "*               *   \n",
      "\n",
      "    *       *       \n",
      "\n",
      "        *           "
     ]
    }
   ],
   "source": [
    "# 函数曲线方程的方法控制输出位置\n",
    "import math\n",
    "L=5\n",
    "list = [' *']\n",
    "for y in range (0,L,1) :\n",
    "    print (\"\\n\")\n",
    "    for x in range (0,L,1) :\n",
    "        print (\"(\"+str(x)+\",\"+str(4-y)+\")\", end=' ')           \n",
    "for y in range (0,L,1) :\n",
    "    print (\"\\n\")\n",
    "    for x in range (0,L,1) :\n",
    "        if math.fabs(x-2)+math.fabs(y-2)==2 :\n",
    "           print (\"(\"+str(x)+\",\"+str(4-y)+\")\", end=' ')\n",
    "        else:\n",
    "           print (list[0][0], end='   ')\n",
    "for y in range (0,L,1) :\n",
    "    print (\"\\n\")\n",
    "    for x in range (0,L,1) :\n",
    "        if math.fabs(x-2)+math.fabs(y-2)==2 :\n",
    "           print (list[0][1], end='   ')\n",
    "        else:\n",
    "           print (list[0][0], end='   ')"
   ]
  },
  {
   "cell_type": "code",
   "execution_count": 9,
   "metadata": {},
   "outputs": [
    {
     "name": "stdout",
     "output_type": "stream",
     "text": [
      "x1 =  3.0247190501056416\n",
      "x2 =  -1.17949009013103\n",
      "x3 =  -2.004813040615706\n",
      "x =  [ 3.02471905 -1.17949009 -2.00481304]\n",
      "计算次数 = 12\n"
     ]
    }
   ],
   "source": [
    "import numpy as np #首先确保python安装了numpy包\n",
    "def gauss(a, b):   #自己定义一个函数，自变量是a，b\n",
    "    cout = 0           #定义计算次数\n",
    "    m, n = a.shape   #矩阵a的行数和列数\n",
    "    if ( m < n ):\n",
    "        print(\"There is a 解空间。\")#保证方程个数大于未知数个数\n",
    "    else:\n",
    "        l = np.zeros((n,n))\n",
    "        for i in range(n):\n",
    "            # 限制条件\n",
    "            if (a[i][i] == 0):\n",
    "                print(\"no answer\")\n",
    "        # j表示列\n",
    "        for k in range(n - 1):          # k表示第一层循环，(0，n-1)行\n",
    "            for i in range(k + 1, n):   # i表示第二层循环,(k+1,n)行,计算该行消元的系数\n",
    "                l[i][k] = a[i][k] / a[k][k]     #计算l\n",
    "                cout += 1               #计算次数加一\n",
    "                for j in range(m):      # j表示列，对每一列进行运算\n",
    "                    a[i][j] = a[i][j] - l[i][k] * a[k][j]\n",
    "                    cout += 1\n",
    "                b[i] = b[i] - l[i][k] * b[k]\n",
    "        # 回代求出方程解\n",
    "        x = np.zeros(n)                       #先将解赋值为零，再一一计算\n",
    "        x[n - 1] = b[n - 1] / a[n - 1][n - 1] #先算最后一位的x解\n",
    "\n",
    "        for i in range(n - 2, -1, -1):      #依次回代倒着算每一个解\n",
    "            for j in range(i + 1, n):\n",
    "                b[i] -= a[i][j] * x[j]       #自增自减\n",
    "            x[i] = b[i] / a[i][i]\n",
    "        for i in range(n):\n",
    "            print(\"x\" + str(i + 1) + \" = \", x[i])\n",
    "        print(\"x\" \" = \", x)\n",
    "        print(\"计算次数\", \"=\", cout)\n",
    "if __name__ == '__main__':      #当模块被直接运行时，以下代码块将被运行，当模块是被导入时，代码块不被运行。\n",
    "    a = np.array([[0.5, 1.1, 3.1], [2.0, 4.5, 0.36], [5.0, 0.96, 6.5]])    #输入的系数矩阵\n",
    "    b = np.array([-6.0, 0.020, 0.96])                                      #增广的一列矩阵\n",
    "    gauss(a, b)                                                          #进行函数guassin运算"
   ]
  },
  {
   "cell_type": "code",
   "execution_count": 10,
   "metadata": {},
   "outputs": [
    {
     "data": {
      "text/plain": [
       "<matplotlib.legend.Legend at 0x1e758dbd5e0>"
      ]
     },
     "execution_count": 10,
     "metadata": {},
     "output_type": "execute_result"
    },
    {
     "data": {
      "image/png": "[encoded data removed]",
      "text/plain": [
       "<Figure size 720x864 with 2 Axes>"
      ]
     },
     "metadata": {
      "needs_background": "light"
     },
     "output_type": "display_data"
    }
   ],
   "source": [
    "import numpy as np\n",
    "import matplotlib.pyplot as plt\n",
    "plt.rcParams['font.sans-serif']=['SimHei'] #用来正常显示中文标签\n",
    "plt.rcParams['axes.unicode_minus']=False #用来正常显示负号\n",
    "#数据准备\n",
    "X=np.arange(-np.pi,np.pi,1) #定义样本点X，从-pi到pi每次间隔1\n",
    "Y= np.sin(X)#定义样本点Y，形成sin函数\n",
    "new_x=np.arange(-np.pi,np.pi,0.1) #定义差值点\n",
    "#进行样条差值\n",
    "import scipy.interpolate as spi\n",
    "#进行一阶样条插值\n",
    "ipo1=spi.splrep(X,Y,k=1) #样本点导入，生成参数\n",
    "iy1=spi.splev(new_x,ipo1) #根据观测点和样条参数，生成插值\n",
    "#进行三次样条拟合\n",
    "ipo3=spi.splrep(X,Y,k=3) #样本点导入，生成参数\n",
    "iy3=spi.splev(new_x,ipo3) #根据观测点和样条参数，生成插值\n",
    "##作图\n",
    "fig,(ax1,ax2)=plt.subplots(2,1,figsize=(10,12))\n",
    "ax1.plot(X,Y,'o',label='样本点')\n",
    "ax1.plot(new_x,iy1,label='插值点')\n",
    "ax1.set_ylim(Y.min()-1,Y.max()+1)\n",
    "ax1.set_ylabel('指数')\n",
    "ax1.set_title('线性插值')\n",
    "ax1.legend()\n",
    "ax2.plot(X,Y,'o',label='样本点')\n",
    "ax2.plot(new_x,iy3,label='插值点')\n",
    "ax2.set_ylim(Y.min()-1,Y.max()+1)\n",
    "ax2.set_ylabel('指数')\n",
    "ax2.set_title('三次样条插值')\n",
    "ax2.legend()"
   ]
  },
  {
   "cell_type": "code",
   "execution_count": 11,
   "metadata": {},
   "outputs": [
    {
     "name": "stdout",
     "output_type": "stream",
     "text": [
      "函数在点 3.0 处的插值函数值为: 4.249999999999999 \n"
     ]
    }
   ],
   "source": [
    "# 三次样条插值\n",
    "import numpy as np\n",
    "# 用于存放x，y，m的值\n",
    "x = np.array([1,2,4,5])\n",
    "y = np.array([1,3,4,2])\n",
    "m = np.array([17/8,None,None,-19/8])\n",
    "lens = len(x)\n",
    "x_f = 3.0     # 待插值点\n",
    "# 用于存放几种数据\n",
    "h = np.zeros(lens-1)\n",
    "a = np.zeros(lens)\n",
    "b = np.zeros(lens)\n",
    "n = np.zeros([lens,lens])\n",
    "for i in range(len(h)):\n",
    "    h[i] = x[i+1] - x[i]\n",
    "for i in range(1,len(a)-1):\n",
    "    a[i] = h[i-1]/(h[i]+h[i-1])\n",
    "    b[i] = 3*(((1-a[i])*(y[i]-y[i-1]))/h[i-1]+(a[i]*(y[i+1]-y[i]))/h[i])\n",
    "a[0] = 1\n",
    "b[0] = (3*(y[1]-y[0]))/h[0]\n",
    "b[-1] = (3*(y[-1]-y[-2]))/h[-1]\n",
    "for i in range(len(n)):\n",
    "    n[i][i] = 2\n",
    "    if i != len(n) - 1:\n",
    "        n[i][i + 1] = a[i]\n",
    "    if i != 0:\n",
    "        n[i][i-1] = 1 - a[i]\n",
    "for i in range(len(n)-1):\n",
    "    if i == 0:\n",
    "        m[i+1] = (b[i] - n[i][i]*m[i])/a[i]\n",
    "    else:\n",
    "        m[i+1] = (b[i] - n[i][i]*m[i] - n[i][i-1]*m[i-1])/a[i]\n",
    "p = 0\n",
    "for i in range(len(x)-1):\n",
    "    if x[i] < x_f <= x[i + 1]:\n",
    "        p = i\n",
    "        break\n",
    "if p == 0:\n",
    "    print('待求值点超出函数范围！')\n",
    "    exit()\n",
    "fun_1 = (1+2*(x_f-x[p])/(x[p+1]-x[p]))*(((x_f-x[p+1])/(x[p]-x[p+1]))**2)*y[p]\n",
    "fun_2 = (1+2*(x_f-x[p+1])/(x[p]-x[p+1]))*(((x_f-x[p])/(x[p+1]-x[p]))**2)*y[p+1]\n",
    "fun_3 = (x_f-x[p])*(((x_f-x[p+1])/(x[p]-x[p+1]))**2)*m[p]\n",
    "fun_4 = (x_f-x[p+1])*(((x_f-x[p])/(x[p+1]-x[p]))**2)*m[p+1]\n",
    "fun = fun_1 + fun_2 + fun_3 + fun_4\n",
    "print('函数在点 {0} 处的插值函数值为: {1} '.format(x_f,fun))"
   ]
  }
 ],
 "metadata": {
  "kernelspec": {
   "display_name": "Python 3",
   "language": "python",
   "name": "python3"
  },
  "language_info": {
   "codemirror_mode": {
    "name": "ipython",
    "version": 3
   },
   "file_extension": ".py",
   "mimetype": "text/x-python",
   "name": "python",
   "nbconvert_exporter": "python",
   "pygments_lexer": "ipython3",
   "version": "3.8.5"
  },
  "toc": {
   "base_numbering": 1,
   "nav_menu": {},
   "number_sections": true,
   "sideBar": true,
   "skip_h1_title": false,
   "title_cell": "Table of Contents",
   "title_sidebar": "Contents",
   "toc_cell": false,
   "toc_position": {},
   "toc_section_display": true,
   "toc_window_display": false
  }
 },
 "nbformat": 4,
 "nbformat_minor": 4
}
