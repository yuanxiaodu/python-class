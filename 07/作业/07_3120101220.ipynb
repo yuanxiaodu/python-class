{
 "cells": [
  {
   "cell_type": "code",
   "execution_count": 1,
   "metadata": {},
   "outputs": [
    {
     "name": "stdout",
     "output_type": "stream",
     "text": [
      "class dummy num: 1\n",
      "global num:  10\n",
      "class dummy num: 2\n",
      "global num:  100\n",
      "class dummy num: 3\n",
      "global num:  1000\n",
      "class dummy num: 4\n",
      "global num:  10000\n",
      "class dummy num: 5\n",
      "global num:  100000\n"
     ]
    }
   ],
   "source": [
    "class dummy:\n",
    "    num=1\n",
    "    def Num(self):\n",
    "        print('class dummy num:',self.num)\n",
    "        print('global num: ',num)\n",
    "        self.num+=1\n",
    "\n",
    "n=dummy()\n",
    "num=1\n",
    "for i in range(5):\n",
    "    num*=10\n",
    "    n.Num()"
   ]
  },
  {
   "cell_type": "code",
   "execution_count": 1,
   "metadata": {},
   "outputs": [
    {
     "name": "stdout",
     "output_type": "stream",
     "text": [
      "[[17, 15, 4], [10, 12, 9], [11, 13, 18]]\n"
     ]
    }
   ],
   "source": [
    "X = [[12,7,3],\n",
    "    [4 ,5,6],\n",
    "    [7 ,8,9]]\n",
    " \n",
    "Y = [[5,8,1],\n",
    "    [6,7,3],\n",
    "    [4,5,9]]\n",
    " \n",
    "res=[[0,0,0],\n",
    "    [0,0,0],\n",
    "    [0,0,0]]\n",
    "for i in range(len(res)):\n",
    "    for j in range(len(res[0])):\n",
    "        res[i][j]=X[i][j]+Y[i][j]\n",
    "print(res)"
   ]
  },
  {
   "cell_type": "code",
   "execution_count": 2,
   "metadata": {},
   "outputs": [
    {
     "name": "stdin",
     "output_type": "stream",
     "text": [
      "1: 56\n",
      "2: 56\n"
     ]
    },
    {
     "name": "stdout",
     "output_type": "stream",
     "text": [
      "56\n",
      "56\n"
     ]
    }
   ],
   "source": [
    "Max=lambda x,y:x*(x>=y)+y*(y>x)\n",
    "Min=lambda x,y:x*(x<=y)+y*(y<x)\n",
    "a=int(input('1:'))\n",
    "b=int(input('2:'))\n",
    "print(Max(a,b))\n",
    "print(Min(a,b))"
   ]
  },
  {
   "cell_type": "code",
   "execution_count": 1,
   "metadata": {},
   "outputs": [
    {
     "name": "stdin",
     "output_type": "stream",
     "text": [
      "输入一个数字： 56\n"
     ]
    },
    {
     "name": "stdout",
     "output_type": "stream",
     "text": [
      "其平方为： 3136.0\n"
     ]
    },
    {
     "name": "stdin",
     "output_type": "stream",
     "text": [
      "输入一个数字： 455\n"
     ]
    },
    {
     "name": "stdout",
     "output_type": "stream",
     "text": [
      "其平方为： 207025.0\n"
     ]
    },
    {
     "name": "stdin",
     "output_type": "stream",
     "text": [
      "输入一个数字： 5\n"
     ]
    },
    {
     "name": "stdout",
     "output_type": "stream",
     "text": [
      "其平方为： 25.0\n",
      "平方小于50，退出\n"
     ]
    }
   ],
   "source": [
    "while True:\n",
    "    try:\n",
    "        n=float(input('输入一个数字：'))\n",
    "    except:\n",
    "        print('输入错误')\n",
    "        continue\n",
    "    dn=n**2\n",
    "    print('其平方为：',dn)\n",
    "    if dn<50:\n",
    "        print('平方小于50，退出')\n",
    "        break"
   ]
  },
  {
   "cell_type": "code",
   "execution_count": 2,
   "metadata": {},
   "outputs": [
    {
     "name": "stdin",
     "output_type": "stream",
     "text": [
      "a= 4\n",
      "b= 5\n"
     ]
    },
    {
     "name": "stdout",
     "output_type": "stream",
     "text": [
      "a<b\n"
     ]
    }
   ],
   "source": [
    "a=int(input('a='))\n",
    "b=int(input('b='))\n",
    "if a<b:\n",
    "    print('a<b')\n",
    "elif a>b:\n",
    "    print('a>b')\n",
    "else:\n",
    "    print('a=b')"
   ]
  },
  {
   "cell_type": "code",
   "execution_count": 3,
   "metadata": {},
   "outputs": [
    {
     "name": "stdin",
     "output_type": "stream",
     "text": [
      "下限： 56\n",
      "上限： 59\n"
     ]
    },
    {
     "name": "stdout",
     "output_type": "stream",
     "text": [
      "59\n"
     ]
    }
   ],
   "source": [
    "lo=int(input('下限：'))\n",
    "hi=int(input('上限：'))\n",
    "for i in range(lo,hi+1):\n",
    "    if i > 1:\n",
    "        for j in range(2,i):\n",
    "            if (i % j) == 0:\n",
    "                break\n",
    "        else:\n",
    "            print(i)"
   ]
  },
  {
   "cell_type": "code",
   "execution_count": 4,
   "metadata": {},
   "outputs": [
    {
     "name": "stdout",
     "output_type": "stream",
     "text": [
      "11\n"
     ]
    }
   ],
   "source": [
    "mat=[[1,2,3],\n",
    "     [3,4,5],\n",
    "     [4,5,6]\n",
    "    ]\n",
    "res=0\n",
    "for i in range(len(mat)):\n",
    "    res+=mat[i][i]\n",
    "print(res)"
   ]
  },
  {
   "cell_type": "code",
   "execution_count": 5,
   "metadata": {},
   "outputs": [
    {
     "name": "stdout",
     "output_type": "stream",
     "text": [
      "第一种实现：\n",
      "[100000, 10000, 1000, 100, 10, 1]\n",
      "第二种实现：\n",
      "[100000, 10000, 1000, 100, 10, 1]\n"
     ]
    }
   ],
   "source": [
    "lis=[1,10,100,1000,10000,100000]\n",
    "for i in range(int(len(lis)/2)):\n",
    "    lis[i],lis[len(lis)-1-i]=lis[len(lis)-1-i],lis[i]\n",
    "print('第一种实现：')\n",
    "print(lis)\n",
    "\n",
    "\n",
    "lis=[1,10,100,1000,10000,100000]\n",
    "print('第二种实现：')\n",
    "lis.reverse()\n",
    "print(lis)"
   ]
  },
  {
   "cell_type": "code",
   "execution_count": 6,
   "metadata": {},
   "outputs": [
    {
     "name": "stdin",
     "output_type": "stream",
     "text": [
      "int0:  56\n",
      "int1:  566\n",
      "int2:  6664\n"
     ]
    },
    {
     "name": "stdout",
     "output_type": "stream",
     "text": [
      "[56, 566, 6664]\n"
     ]
    },
    {
     "name": "stdin",
     "output_type": "stream",
     "text": [
      "int0:  45\n",
      "int1:  54\n",
      "int2:  4\n"
     ]
    },
    {
     "name": "stdout",
     "output_type": "stream",
     "text": [
      "[4, 45, 54]\n"
     ]
    }
   ],
   "source": [
    "raw=[]\n",
    "for i in range(3):\n",
    "    x=int(input('int%d: '%(i)))\n",
    "    raw.append(x)\n",
    "    \n",
    "for i in range(len(raw)):\n",
    "    for j in range(i,len(raw)):\n",
    "        if raw[i]>raw[j]:\n",
    "            raw[i],raw[j]=raw[j],raw[i]\n",
    "print(raw)\n",
    "\n",
    "\n",
    "raw2=[]\n",
    "for i in range(3):\n",
    "    x=int(input('int%d: '%(i)))\n",
    "    raw2.append(x)\n",
    "print(sorted(raw2))"
   ]
  },
  {
   "cell_type": "code",
   "execution_count": 7,
   "metadata": {},
   "outputs": [
    {
     "name": "stdout",
     "output_type": "stream",
     "text": [
      "[8, 2, 5, 7, 3, 5, 1]\n"
     ]
    }
   ],
   "source": [
    "li=[3,2,5,7,8,1,5]\n",
    "\n",
    "li[-1],li[li.index(min(li))]=li[li.index(min(li))],li[-1]\n",
    "\n",
    "m=li[0]\n",
    "ind=li.index(max(li))\n",
    "li[0]=li[ind]\n",
    "li[ind]=m\n",
    "print(li)"
   ]
  },
  {
   "cell_type": "code",
   "execution_count": 8,
   "metadata": {},
   "outputs": [
    {
     "name": "stdout",
     "output_type": "stream",
     "text": [
      "[1, 2, 3, 4, 5, 6, 7, 8, 9]\n"
     ]
    },
    {
     "name": "stdin",
     "output_type": "stream",
     "text": [
      "rotate: 5\n"
     ]
    },
    {
     "name": "stdout",
     "output_type": "stream",
     "text": [
      "[5, 6, 7, 8, 9, 1, 2, 3, 4]\n"
     ]
    }
   ],
   "source": [
    "from collections import *\n",
    "li=[1,2,3,4,5,6,7,8,9]\n",
    "deq=deque(li,maxlen=len(li))\n",
    "print(li)\n",
    "deq.rotate(int(input('rotate:')))\n",
    "print(list(deq))"
   ]
  },
  {
   "cell_type": "code",
   "execution_count": 9,
   "metadata": {},
   "outputs": [
    {
     "name": "stdin",
     "output_type": "stream",
     "text": [
      "请输入总人数: 12\n"
     ]
    },
    {
     "name": "stdout",
     "output_type": "stream",
     "text": [
      "10\n"
     ]
    }
   ],
   "source": [
    "if __name__ == '__main__':\n",
    "    nmax = 50\n",
    "    n = int(input('请输入总人数:'))\n",
    "    num = []\n",
    "    for i in range(n):\n",
    "        num.append(i + 1)\n",
    " \n",
    "    i = 0\n",
    "    k = 0\n",
    "    m = 0\n",
    " \n",
    "    while m < n - 1:\n",
    "        if num[i] != 0 : k += 1\n",
    "        if k == 3:\n",
    "            num[i] = 0\n",
    "            k = 0\n",
    "            m += 1\n",
    "        i += 1\n",
    "        if i == n : i = 0\n",
    " \n",
    "    i = 0\n",
    "    while num[i] == 0: i += 1\n",
    "    print(num[i])"
   ]
  },
  {
   "cell_type": "code",
   "execution_count": 13,
   "metadata": {},
   "outputs": [
    {
     "name": "stdin",
     "output_type": "stream",
     "text": [
      "input student num:\n",
      " y\n",
      "input student name:\n",
      " rt4\n",
      "score:\n",
      " 44\n",
      "score:\n",
      " 455\n",
      "score:\n",
      " 44\n",
      "input student num:\n",
      " yy\n",
      "input student name:\n",
      " yyt4\n",
      "score:\n",
      " 44\n",
      "score:\n",
      " 52\n",
      "score:\n",
      " 22\n",
      "input student num:\n",
      " yy\n",
      "input student name:\n",
      " yyt\n",
      "score:\n",
      " 1\n",
      "score:\n",
      " 2\n",
      "score:\n",
      " 2\n"
     ]
    },
    {
     "name": "stdout",
     "output_type": "stream",
     "text": [
      "[['y', 'rt4', [44, 455, 44]], ['yy', 'yyt4', [44, 52, 22]], ['yy', 'yyt', [1, 2, 2]], ['', '', []], ['', '', []]]\n",
      "y     rt4       \n",
      "44      \n",
      "455     \n",
      "44      \n",
      "yy    yyt4      \n",
      "44      \n",
      "52      \n",
      "22      \n",
      "yy    yyt       \n",
      "1       \n",
      "2       \n",
      "2       \n"
     ]
    }
   ],
   "source": [
    "N = 3\n",
    "student = []\n",
    "for i in range(5):\n",
    "    student.append(['','',[]])\n",
    " \n",
    "def input_stu(stu):\n",
    "    for i in range(N):\n",
    "        stu[i][0] = input('input student num:\\n')\n",
    "        stu[i][1] = input('input student name:\\n')\n",
    "        for j in range(3):\n",
    "            stu[i][2].append(int(input('score:\\n')))\n",
    " \n",
    "def output_stu(stu):\n",
    "    for i in range(N):\n",
    "        print ('%-6s%-10s' % ( stu[i][0],stu[i][1] ))\n",
    "        for j in range(3):\n",
    "            print ('%-8d' % stu[i][2][j])\n",
    " \n",
    "if __name__ == '__main__':\n",
    "    input_stu(student)\n",
    "    print (student)\n",
    "    output_stu(student)"
   ]
  },
  {
   "cell_type": "code",
   "execution_count": 14,
   "metadata": {},
   "outputs": [
    {
     "name": "stdin",
     "output_type": "stream",
     "text": [
      "input a number:  748\n"
     ]
    },
    {
     "name": "stdout",
     "output_type": "stream",
     "text": [
      "3.2514038824732183\n"
     ]
    }
   ],
   "source": [
    "def peven(n):\n",
    "    i = 0\n",
    "    s = 0.0\n",
    "    for i in range(2,n + 1,2):\n",
    "        s += 1.0 / i\n",
    "    return s\n",
    " \n",
    "def podd(n):\n",
    "    s = 0.0\n",
    "    for i in range(1, n + 1,2):\n",
    "        s += 1.0 / i\n",
    "    return s\n",
    " \n",
    "def dcall(fp,n):\n",
    "    s = fp(n)\n",
    "    return s\n",
    " \n",
    "if __name__ == '__main__':\n",
    "    n = int(input('input a number: '))\n",
    "    if n % 2 == 0:\n",
    "        sum = dcall(peven,n)\n",
    "    else:\n",
    "        sum = dcall(podd,n)\n",
    "    print (sum)"
   ]
  },
  {
   "cell_type": "code",
   "execution_count": 15,
   "metadata": {},
   "outputs": [
    {
     "name": "stdout",
     "output_type": "stream",
     "text": [
      "3121.0\n",
      "1020.0\n"
     ]
    }
   ],
   "source": [
    "if __name__ == '__main__':\n",
    "    i = 0\n",
    "    j = 1\n",
    "    x = 0\n",
    "    while (i < 5) :\n",
    "        x = 4 * j\n",
    "        for i in range(0,5) :\n",
    "            if(x%4 != 0) :\n",
    "                break\n",
    "            else :\n",
    "                i += 1\n",
    "            x = (x/4) * 5 +1\n",
    "        j += 1\n",
    "    print(x)\n",
    "\n",
    "    for p in range(5):\n",
    "        x=(x-1)/5*4\n",
    "    print(x)"
   ]
  },
  {
   "cell_type": "code",
   "execution_count": 18,
   "metadata": {},
   "outputs": [
    {
     "name": "stdout",
     "output_type": "stream",
     "text": [
      "3\n",
      "['中国移动', [1, 2, 4, 5]]\n",
      "4\n",
      "i'm new here!\n",
      "中国移动\n",
      "3\n",
      "[10086, [1, 2, 4, 5], \"i'm new here!\"]\n",
      "[[1, 2, 3], [4, 5, 6], [7, 8, 9]]\n",
      "[4, 5, 6]\n",
      "[2, 5, 8]\n",
      "[2, 8]\n"
     ]
    }
   ],
   "source": [
    "#list  \n",
    "#新建列表  \n",
    "testList=[10086,'中国移动',[1,2,4,5]]  \n",
    "  \n",
    "#访问列表长度  \n",
    "print (len(testList)  )\n",
    "#到列表结尾  \n",
    "print (testList[1:])\n",
    "#向列表添加元素  \n",
    "testList.append('i\\'m new here!')  \n",
    "  \n",
    "print (len(testList)  )\n",
    "print (testList[-1]  )\n",
    "#弹出列表的最后一个元素  \n",
    "print (testList.pop(1)  )\n",
    "print (len(testList)  )\n",
    "print (testList  )\n",
    "#list comprehension  \n",
    "#后面有介绍，暂时掠过  \n",
    "matrix = [[1, 2, 3],  \n",
    "[4, 5, 6],  \n",
    "[7, 8, 9]]  \n",
    "print (matrix  )\n",
    "print (matrix[1]  )\n",
    "col2 = [row[1] for row in matrix]#get a  column from a matrix  \n",
    "print (col2  )\n",
    "col2even = [row[1] for row in matrix if  row[1] % 2 == 0]#filter odd item  \n",
    "print (col2even)"
   ]
  },
  {
   "cell_type": "code",
   "execution_count": null,
   "metadata": {},
   "outputs": [],
   "source": []
  }
 ],
 "metadata": {
  "kernelspec": {
   "display_name": "Python 3",
   "language": "python",
   "name": "python3"
  },
  "language_info": {
   "codemirror_mode": {
    "name": "ipython",
    "version": 3
   },
   "file_extension": ".py",
   "mimetype": "text/x-python",
   "name": "python",
   "nbconvert_exporter": "python",
   "pygments_lexer": "ipython3",
   "version": "3.8.5"
  }
 },
 "nbformat": 4,
 "nbformat_minor": 4
}
