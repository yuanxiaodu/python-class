{
 "cells": [
  {
   "cell_type": "code",
   "execution_count": 3,
   "metadata": {},
   "outputs": [
    {
     "name": "stdin",
     "output_type": "stream",
     "text": [
      "请输入带有单位符号的温度值，单位可为“C”，“c”或“F”，“f”:  56f\n"
     ]
    },
    {
     "name": "stdout",
     "output_type": "stream",
     "text": [
      "转换后的温度是13.3C\n"
     ]
    }
   ],
   "source": [
    "a = input(\"请输入带有单位符号的温度值，单位可为“C”，“c”或“F”，“f”: \")\n",
    "if a[-1] in ['F','f']:\n",
    "    C = (eval(a[0:-1]) - 32)/1.8\n",
    "    print(\"转换后的温度是{:.1f}C\".format(C))\n",
    "elif a[-1] in ['C','c']:\n",
    "    F = 1.8*eval(a[0:-1]) + 32\n",
    "    print(\"转换后的温度是{:.1f}F\".format(F))\n",
    "else:\n",
    "    print(\"输入格式错误\")"
   ]
  },
  {
   "cell_type": "code",
   "execution_count": 5,
   "metadata": {},
   "outputs": [
    {
     "name": "stdin",
     "output_type": "stream",
     "text": [
      "输入 x 值:  8\n",
      "输入 y 值:  0\n"
     ]
    },
    {
     "name": "stdout",
     "output_type": "stream",
     "text": [
      "交换后 x 的值为: 0\n",
      "交换后 y 的值为: 8\n"
     ]
    }
   ],
   "source": [
    "# 用户输入\n",
    " \n",
    "x = input('输入 x 值: ')\n",
    "y = input('输入 y 值: ')\n",
    " \n",
    "# 不使用临时变量\n",
    "x,y = y,x\n",
    " \n",
    "print('交换后 x 的值为: {}'.format(x))\n",
    "print('交换后 y 的值为: {}'.format(y))"
   ]
  },
  {
   "cell_type": "code",
   "execution_count": 8,
   "metadata": {},
   "outputs": [
    {
     "name": "stdin",
     "output_type": "stream",
     "text": [
      "请输入一个数字： 0\n"
     ]
    },
    {
     "name": "stdout",
     "output_type": "stream",
     "text": [
      "输入的数字是零\n"
     ]
    }
   ],
   "source": [
    "while True:\n",
    "    try:\n",
    "        num=float(input('请输入一个数字：'))\n",
    "        if num==0:\n",
    "            print('输入的数字是零')\n",
    "        elif num>0:\n",
    "            print('输入的数字是正数')\n",
    "        else:\n",
    "            print('输入的数字是负数')\n",
    "        break\n",
    "    except ValueError:\n",
    "        print('输入无效，需要输入一个数字')"
   ]
  },
  {
   "cell_type": "code",
   "execution_count": 10,
   "metadata": {},
   "outputs": [
    {
     "name": "stdout",
     "output_type": "stream",
     "text": [
      "False\n",
      "True\n",
      "True\n",
      "True\n",
      "True\n",
      "False\n",
      "False\n",
      "False\n",
      "True\n",
      "True\n",
      "True\n",
      "True\n",
      "True\n",
      "True\n",
      "True\n",
      "True\n",
      "True\n",
      "True\n",
      "False\n",
      "False\n",
      "True\n",
      "True\n",
      "True\n",
      "True\n",
      "True\n",
      "False\n",
      "False\n"
     ]
    }
   ],
   "source": [
    "def is_number(s):\n",
    "    try:\n",
    "        float(s)\n",
    "        return True\n",
    "    except ValueError:\n",
    "        pass\n",
    "\n",
    "    import unicodedata\n",
    "    try:\n",
    "        unicodedata.numeric(s)\n",
    "        return True\n",
    "    except (TypeError, ValueError):\n",
    "        pass\n",
    "        \n",
    "    if len(s) < 2:\n",
    "        return False\n",
    "\n",
    "    try:\n",
    "        d = 0\n",
    "        if s.startswith('－'):\n",
    "            s = s[1:]\n",
    "        for c in s:\n",
    "            if c == '－': # 全角减号\n",
    "                return False\n",
    "                \n",
    "            if c == '．': # 全角点号\n",
    "                if d > 0:\n",
    "                    return False\n",
    "                else:\n",
    "                    d = 1\n",
    "                    continue\n",
    "            unicodedata.numeric(c)\n",
    "        return True\n",
    "    except (TypeError, ValueError):\n",
    "        pass\n",
    "\n",
    "    return False\n",
    "\n",
    "# 测试字符串和数字\n",
    "print(f'{is_number(\"foo\")}')\n",
    "print(f'{is_number(\"1\") }')\n",
    "print(f'{is_number(\"1.3\") }')\n",
    "print(f'{is_number(\"-1.37\") }')\n",
    "print(f'{is_number(\"1e3\") }')\n",
    "print(f'{is_number(\"2.345.6\") }')\n",
    "print(f'{is_number(\"-5.2-8\") }')\n",
    "print(f'{is_number(\"52-8\") }')\n",
    "print(f'{is_number(\"-.5\") }')\n",
    "print(f'{is_number(\"-5.\") }')\n",
    "print(f'{is_number(\".5\") }')\n",
    "\n",
    "# 测试Unicode\n",
    "# 阿拉伯语 5\n",
    "print(f'{is_number(\"٥\") }')\n",
    "# 泰语 2\n",
    "print(f'{is_number(\"๒\") }')\n",
    "# 中文数字\n",
    "print(f'{is_number(\"四\") }')\n",
    "print(f'{is_number(\"四卅\") }')\n",
    "# 全角数字\n",
    "print(f'{is_number(\"１２３\") }')\n",
    "print(f'{is_number(\"-１２３\") }')\n",
    "print(f'{is_number(\"－１２３\") }')\n",
    "print(f'{is_number(\"１２－３\") }')\n",
    "print(f'{is_number(\"１２３－\") }')\n",
    "print(f'{is_number(\"１.２３\") }')\n",
    "print(f'{is_number(\"１．２３\") }')\n",
    "print(f'{is_number(\"．２３\") }')\n",
    "print(f'{is_number(\"－．２３\") }')\n",
    "print(f'{is_number(\"１．23\") }')\n",
    "print(f'{is_number(\"１．２．３\") }')\n",
    "# 版权号\n",
    "print(f'{is_number(\"©\") }')"
   ]
  },
  {
   "cell_type": "code",
   "execution_count": 12,
   "metadata": {},
   "outputs": [
    {
     "name": "stdin",
     "output_type": "stream",
     "text": [
      "输入一个年份:  2012\n"
     ]
    },
    {
     "name": "stdout",
     "output_type": "stream",
     "text": [
      "2012 是闰年\n"
     ]
    }
   ],
   "source": [
    "year = int(input(\"输入一个年份: \"))\n",
    "if (year % 4) == 0:\n",
    "   if (year % 100) == 0:\n",
    "       if (year % 400) == 0:\n",
    "           print(\"{0} 是闰年\".format(year))   # 整百年能被400整除的是闰年\n",
    "       else:\n",
    "           print(\"{0} 不是闰年\".format(year))\n",
    "   else:\n",
    "       print(\"{0} 是闰年\".format(year))       # 非整百年能被4整除的为闰年\n",
    "else:\n",
    "   print(\"{0} 不是闰年\".format(year))"
   ]
  },
  {
   "cell_type": "code",
   "execution_count": 15,
   "metadata": {},
   "outputs": [
    {
     "name": "stdout",
     "output_type": "stream",
     "text": [
      "2\n",
      "b\n",
      "2\n",
      "2\n",
      "80, 100, 1000 最大值为:  1000\n",
      "-20, 100, 400最大值为:  400\n",
      "-80, -20, -10最大值为:  -10\n",
      "0, 100, -400最大值为: 100\n"
     ]
    }
   ],
   "source": [
    "# 最简单的\n",
    "print(max(1, 2))\n",
    "print(max('a', 'b'))\n",
    " \n",
    "# 也可以对列表和元组使用\n",
    "print(max([1,2]))\n",
    "print(max((1,2)))\n",
    " \n",
    "# 更多实例\n",
    "print(\"80, 100, 1000 最大值为: \", max(80, 100, 1000))\n",
    "print(\"-20, 100, 400最大值为: \", max(-20, 100, 400))\n",
    "print(\"-80, -20, -10最大值为: \", max(-80, -20, -10))\n",
    "print(\"0, 100, -400最大值为:\", max(0, 100, -400))"
   ]
  },
  {
   "cell_type": "code",
   "execution_count": 19,
   "metadata": {},
   "outputs": [
    {
     "name": "stdin",
     "output_type": "stream",
     "text": [
      "请输入一个数字:  7\n"
     ]
    },
    {
     "name": "stdout",
     "output_type": "stream",
     "text": [
      "7 是质数\n"
     ]
    }
   ],
   "source": [
    "# 用户输入数字\n",
    "num = int(input(\"请输入一个数字: \"))\n",
    " \n",
    "# 质数大于 1\n",
    "if num > 1:\n",
    "   # 查看因子\n",
    "   for i in range(2,num):\n",
    "       if (num % i) == 0:\n",
    "           print(num,\"不是质数\")\n",
    "           print(i,\"乘于\",num//i,\"是\",num)\n",
    "           break\n",
    "   else:\n",
    "       print(num,\"是质数\")\n",
    "       \n",
    "# 如果输入的数字小于或等于 1，不是质数\n",
    "else:\n",
    "   print(num,\"不是质数\")"
   ]
  },
  {
   "cell_type": "code",
   "execution_count": 21,
   "metadata": {},
   "outputs": [
    {
     "name": "stdin",
     "output_type": "stream",
     "text": [
      "输入区间最小值:  3\n",
      "输入区间最大值:  9\n"
     ]
    },
    {
     "name": "stdout",
     "output_type": "stream",
     "text": [
      "3\n",
      "5\n",
      "7\n"
     ]
    }
   ],
   "source": [
    "# take input from the user\n",
    "lower = int(input(\"输入区间最小值: \"))\n",
    "upper = int(input(\"输入区间最大值: \"))\n",
    " \n",
    "for num in range(lower,upper + 1):\n",
    "    # 素数大于 1\n",
    "    if num > 1:\n",
    "        for i in range(2,num):\n",
    "            if (num % i) == 0:\n",
    "                break\n",
    "        else:\n",
    "            print(num)"
   ]
  },
  {
   "cell_type": "code",
   "execution_count": 25,
   "metadata": {},
   "outputs": [
    {
     "name": "stdin",
     "output_type": "stream",
     "text": [
      "请输入一个数字:  7\n"
     ]
    },
    {
     "name": "stdout",
     "output_type": "stream",
     "text": [
      "7 的阶乘为 5040\n"
     ]
    }
   ],
   "source": [
    "# 获取用户输入的数字\n",
    "num = int(input(\"请输入一个数字: \"))\n",
    "factorial = 1\n",
    " \n",
    "# 查看数字是负数，0 或 正数\n",
    "if num < 0:\n",
    "   print(\"抱歉，负数没有阶乘\")\n",
    "elif num == 0:\n",
    "   print(\"0 的阶乘为 1\")\n",
    "else:\n",
    "   for i in range(1,num + 1):\n",
    "       factorial = factorial*i\n",
    "   print(\"%d 的阶乘为 %d\" %(num,factorial))"
   ]
  },
  {
   "cell_type": "code",
   "execution_count": 29,
   "metadata": {},
   "outputs": [
    {
     "name": "stdout",
     "output_type": "stream",
     "text": [
      "1x1=1\t\n",
      "1x2=2\t2x2=4\t\n",
      "1x3=3\t2x3=6\t3x3=9\t\n",
      "1x4=4\t2x4=8\t3x4=12\t4x4=16\t\n",
      "1x5=5\t2x5=10\t3x5=15\t4x5=20\t5x5=25\t\n",
      "1x6=6\t2x6=12\t3x6=18\t4x6=24\t5x6=30\t6x6=36\t\n",
      "1x7=7\t2x7=14\t3x7=21\t4x7=28\t5x7=35\t6x7=42\t7x7=49\t\n",
      "1x8=8\t2x8=16\t3x8=24\t4x8=32\t5x8=40\t6x8=48\t7x8=56\t8x8=64\t\n",
      "1x9=9\t2x9=18\t3x9=27\t4x9=36\t5x9=45\t6x9=54\t7x9=63\t8x9=72\t9x9=81\t\n"
     ]
    }
   ],
   "source": [
    "# 九九乘法表\n",
    "for i in range(1, 10):\n",
    "    for j in range(1, i+1):\n",
    "        print('{}x{}={}\\t'.format(j, i, i*j), end='')\n",
    "    print()"
   ]
  },
  {
   "cell_type": "code",
   "execution_count": 30,
   "metadata": {},
   "outputs": [
    {
     "name": "stdin",
     "output_type": "stream",
     "text": [
      "你需要几项？ 9\n"
     ]
    },
    {
     "name": "stdout",
     "output_type": "stream",
     "text": [
      "斐波那契数列：\n",
      "0 , 1 , 1 , 2 , 3 , 5 , 8 , 13 , 21 , "
     ]
    }
   ],
   "source": [
    "# 获取用户输入数据\n",
    "nterms = int(input(\"你需要几项？\"))\n",
    " \n",
    "# 第一和第二项\n",
    "n1 = 0\n",
    "n2 = 1\n",
    "count = 2\n",
    " \n",
    "# 判断输入的值是否合法\n",
    "if nterms <= 0:\n",
    "   print(\"请输入一个正整数。\")\n",
    "elif nterms == 1:\n",
    "   print(\"斐波那契数列：\")\n",
    "   print(n1)\n",
    "else:\n",
    "   print(\"斐波那契数列：\")\n",
    "   print(n1,\",\",n2,end=\" , \")\n",
    "   while count < nterms:\n",
    "       nth = n1 + n2\n",
    "       print(nth,end=\" , \")\n",
    "       # 更新值\n",
    "       n1 = n2\n",
    "       n2 = nth\n",
    "       count += 1"
   ]
  },
  {
   "cell_type": "code",
   "execution_count": 31,
   "metadata": {},
   "outputs": [
    {
     "name": "stdin",
     "output_type": "stream",
     "text": [
      "输入数字： 6\n"
     ]
    },
    {
     "name": "stdout",
     "output_type": "stream",
     "text": [
      "十进制数为： 6\n",
      "转换为二进制为： 0b110\n",
      "转换为八进制为： 0o6\n",
      "转换为十六进制为： 0x6\n"
     ]
    }
   ],
   "source": [
    "# 获取用户输入十进制数\n",
    "dec = int(input(\"输入数字：\"))\n",
    " \n",
    "print(\"十进制数为：\", dec)\n",
    "print(\"转换为二进制为：\", bin(dec))\n",
    "print(\"转换为八进制为：\", oct(dec))\n",
    "print(\"转换为十六进制为：\", hex(dec))"
   ]
  },
  {
   "cell_type": "code",
   "execution_count": 33,
   "metadata": {},
   "outputs": [
    {
     "name": "stdin",
     "output_type": "stream",
     "text": [
      "输入第一个数字:  3\n",
      "输入第二个数字:  45\n"
     ]
    },
    {
     "name": "stdout",
     "output_type": "stream",
     "text": [
      "3 和 45 的最大公约数为 3\n"
     ]
    }
   ],
   "source": [
    "# 定义一个函数\n",
    "def hcf(x, y):\n",
    "   \"\"\"该函数返回两个数的最大公约数\"\"\"\n",
    " \n",
    "   # 获取最小值\n",
    "   if x > y:\n",
    "       smaller = y\n",
    "   else:\n",
    "       smaller = x\n",
    " \n",
    "   for i in range(1,smaller + 1):\n",
    "       if((x % i == 0) and (y % i == 0)):\n",
    "           hcf = i\n",
    " \n",
    "   return hcf\n",
    " \n",
    " \n",
    "# 用户输入两个数字\n",
    "num1 = int(input(\"输入第一个数字: \"))\n",
    "num2 = int(input(\"输入第二个数字: \"))\n",
    " \n",
    "print( num1,\"和\", num2,\"的最大公约数为\", hcf(num1, num2))"
   ]
  },
  {
   "cell_type": "code",
   "execution_count": 34,
   "metadata": {},
   "outputs": [
    {
     "name": "stdin",
     "output_type": "stream",
     "text": [
      "输入第一个数字:  8\n",
      "输入第二个数字:  7\n"
     ]
    },
    {
     "name": "stdout",
     "output_type": "stream",
     "text": [
      "8 和 7 的最小公倍数为 56\n"
     ]
    }
   ],
   "source": [
    "# 定义函数\n",
    "def lcm(x, y):\n",
    " \n",
    "   #  获取最大的数\n",
    "   if x > y:\n",
    "       greater = x\n",
    "   else:\n",
    "       greater = y\n",
    " \n",
    "   while(True):\n",
    "       if((greater % x == 0) and (greater % y == 0)):\n",
    "           lcm = greater\n",
    "           break\n",
    "       greater += 1\n",
    " \n",
    "   return lcm\n",
    " \n",
    " \n",
    "# 获取用户输入\n",
    "num1 = int(input(\"输入第一个数字: \"))\n",
    "num2 = int(input(\"输入第二个数字: \"))\n",
    " \n",
    "print( num1,\"和\", num2,\"的最小公倍数为\", lcm(num1, num2))"
   ]
  },
  {
   "cell_type": "code",
   "execution_count": null,
   "metadata": {},
   "outputs": [],
   "source": []
  }
 ],
 "metadata": {
  "kernelspec": {
   "display_name": "Python 3",
   "language": "python",
   "name": "python3"
  },
  "language_info": {
   "codemirror_mode": {
    "name": "ipython",
    "version": 3
   },
   "file_extension": ".py",
   "mimetype": "text/x-python",
   "name": "python",
   "nbconvert_exporter": "python",
   "pygments_lexer": "ipython3",
   "version": "3.8.3"
  }
 },
 "nbformat": 4,
 "nbformat_minor": 4
}
