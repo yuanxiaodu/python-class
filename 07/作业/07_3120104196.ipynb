{
 "cells": [
  {
   "cell_type": "code",
   "execution_count": 1,
   "metadata": {},
   "outputs": [
    {
     "name": "stdout",
     "output_type": "stream",
     "text": [
      "..######..\n",
      "..#....#..\n",
      "..#.##... \n",
      "..#...#...\n",
      "..#....#..\n",
      "\n",
      "\n",
      "..#....#..\n",
      "..#....#..\n",
      "..#....#.. \n",
      "..#....#..\n",
      "..######..\n",
      "\n",
      "\n",
      "..#....#..\n",
      "..##...#..\n",
      "..#.#..#.. \n",
      "..#..#.#..\n",
      "..#...##..\n",
      "\n",
      "\n",
      "..######..\n",
      "..#....#..\n",
      "..#....#.. \n",
      "..#....#..\n",
      "..######..\n",
      "\n",
      "\n",
      "..######..\n",
      "..#....#..\n",
      "..#....#.. \n",
      "..#....#..\n",
      "..######..\n",
      "\n",
      "\n",
      "..######..\n",
      "..#....#..\n",
      "..#####... \n",
      "..#....#..\n",
      "..######..\n",
      "\n",
      "\n"
     ]
    }
   ],
   "source": [
    "name = \"RUNOOB\"\n",
    "  \n",
    "  \n",
    "lngth = len(name) \n",
    "l = \"\" \n",
    "  \n",
    "for x in range(0, lngth): \n",
    "    c = name[x] \n",
    "    c = c.upper() \n",
    "      \n",
    "    if (c == \"A\"): \n",
    "        print(\"..######..\\n..#....#..\\n..######..\", end = \" \") \n",
    "        print(\"\\n..#....#..\\n..#....#..\\n\\n\") \n",
    "          \n",
    "    elif (c == \"B\"): \n",
    "        print(\"..######..\\n..#....#..\\n..#####...\", end = \" \") \n",
    "        print(\"\\n..#....#..\\n..######..\\n\\n\") \n",
    "          \n",
    "    elif (c == \"C\"): \n",
    "        print(\"..######..\\n..#.......\\n..#.......\", end = \" \") \n",
    "        print(\"\\n..#.......\\n..######..\\n\\n\") \n",
    "          \n",
    "    elif (c == \"D\"): \n",
    "        print(\"..#####...\\n..#....#..\\n..#....#..\", end = \" \") \n",
    "        print(\"\\n..#....#..\\n..#####...\\n\\n\") \n",
    "          \n",
    "    elif (c == \"E\"): \n",
    "        print(\"..######..\\n..#.......\\n..#####...\", end = \" \") \n",
    "        print(\"\\n..#.......\\n..######..\\n\\n\") \n",
    "          \n",
    "    elif (c == \"F\"): \n",
    "        print(\"..######..\\n..#.......\\n..#####...\", end = \" \") \n",
    "        print(\"\\n..#.......\\n..#.......\\n\\n\") \n",
    "          \n",
    "    elif (c == \"G\"): \n",
    "        print(\"..######..\\n..#.......\\n..#.####..\", end = \" \") \n",
    "        print(\"\\n..#....#..\\n..#####...\\n\\n\") \n",
    "          \n",
    "    elif (c == \"H\"): \n",
    "        print(\"..#....#..\\n..#....#..\\n..######..\", end = \" \") \n",
    "        print(\"\\n..#....#..\\n..#....#..\\n\\n\") \n",
    "          \n",
    "    elif (c == \"I\"): \n",
    "        print(\"..######..\\n....##....\\n....##....\", end = \" \") \n",
    "        print(\"\\n....##....\\n..######..\\n\\n\") \n",
    "          \n",
    "    elif (c == \"J\"): \n",
    "        print(\"..######..\\n....##....\\n....##....\", end = \" \") \n",
    "        print(\"\\n..#.##....\\n..####....\\n\\n\") \n",
    "          \n",
    "    elif (c == \"K\"): \n",
    "        print(\"..#...#...\\n..#..#....\\n..##......\", end = \" \") \n",
    "        print(\"\\n..#..#....\\n..#...#...\\n\\n\") \n",
    "          \n",
    "    elif (c == \"L\"): \n",
    "        print(\"..#.......\\n..#.......\\n..#.......\", end = \" \") \n",
    "        print(\"\\n..#.......\\n..######..\\n\\n\") \n",
    "          \n",
    "    elif (c == \"M\"): \n",
    "        print(\"..#....#..\\n..##..##..\\n..#.##.#..\", end = \" \") \n",
    "        print(\"\\n..#....#..\\n..#....#..\\n\\n\") \n",
    "          \n",
    "    elif (c == \"N\"): \n",
    "        print(\"..#....#..\\n..##...#..\\n..#.#..#..\", end = \" \") \n",
    "        print(\"\\n..#..#.#..\\n..#...##..\\n\\n\") \n",
    "          \n",
    "    elif (c == \"O\"): \n",
    "        print(\"..######..\\n..#....#..\\n..#....#..\", end = \" \") \n",
    "        print(\"\\n..#....#..\\n..######..\\n\\n\") \n",
    "          \n",
    "    elif (c == \"P\"): \n",
    "        print(\"..######..\\n..#....#..\\n..######..\", end = \" \") \n",
    "        print(\"\\n..#.......\\n..#.......\\n\\n\") \n",
    "          \n",
    "    elif (c == \"Q\"): \n",
    "        print(\"..######..\\n..#....#..\\n..#.#..#..\", end = \" \") \n",
    "        print(\"\\n..#..#.#..\\n..######..\\n\\n\") \n",
    "          \n",
    "    elif (c == \"R\"): \n",
    "        print(\"..######..\\n..#....#..\\n..#.##...\", end = \" \") \n",
    "        print(\"\\n..#...#...\\n..#....#..\\n\\n\") \n",
    "          \n",
    "    elif (c == \"S\"): \n",
    "        print(\"..######..\\n..#.......\\n..######..\", end = \" \") \n",
    "        print(\"\\n.......#..\\n..######..\\n\\n\") \n",
    "          \n",
    "    elif (c == \"T\"): \n",
    "        print(\"..######..\\n....##....\\n....##....\", end = \" \") \n",
    "        print(\"\\n....##....\\n....##....\\n\\n\") \n",
    "          \n",
    "    elif (c == \"U\"): \n",
    "        print(\"..#....#..\\n..#....#..\\n..#....#..\", end = \" \") \n",
    "        print(\"\\n..#....#..\\n..######..\\n\\n\") \n",
    "          \n",
    "    elif (c == \"V\"): \n",
    "        print(\"..#....#..\\n..#....#..\\n..#....#..\", end = \" \") \n",
    "        print(\"\\n...#..#...\\n....##....\\n\\n\") \n",
    "          \n",
    "    elif (c == \"W\"): \n",
    "        print(\"..#....#..\\n..#....#..\\n..#.##.#..\", end = \" \") \n",
    "        print(\"\\n..##..##..\\n..#....#..\\n\\n\") \n",
    "          \n",
    "    elif (c == \"X\"): \n",
    "        print(\"..#....#..\\n...#..#...\\n....##....\", end = \" \") \n",
    "        print(\"\\n...#..#...\\n..#....#..\\n\\n\") \n",
    "          \n",
    "    elif (c == \"Y\"): \n",
    "        print(\"..#....#..\\n...#..#...\\n....##....\", end = \" \") \n",
    "        print(\"\\n....##....\\n....##....\\n\\n\") \n",
    "          \n",
    "    elif (c == \"Z\"): \n",
    "        print(\"..######..\\n......#...\\n.....#....\", end = \" \") \n",
    "        print(\"\\n....#.....\\n..######..\\n\\n\") \n",
    "          \n",
    "    elif (c == \" \"): \n",
    "        print(\"..........\\n..........\\n..........\", end = \" \") \n",
    "        print(\"\\n..........\\n\\n\") \n",
    "          \n",
    "    elif (c == \".\"): \n",
    "        print(\"----..----\\n\\n\")"
   ]
  },
  {
   "cell_type": "code",
   "execution_count": 2,
   "metadata": {},
   "outputs": [
    {
     "name": "stdout",
     "output_type": "stream",
     "text": [
      "2021-01-04 15:36:54\n"
     ]
    }
   ],
   "source": [
    "import time\n",
    " \n",
    "now = int(time.time())\n",
    "timeArray = time.localtime(now)\n",
    "otherStyleTime = time.strftime(\"%Y-%m-%d %H:%M:%S\", timeArray)\n",
    "print(otherStyleTime)"
   ]
  },
  {
   "cell_type": "code",
   "execution_count": 5,
   "metadata": {},
   "outputs": [
    {
     "name": "stdout",
     "output_type": "stream",
     "text": [
      "2021-01-04 15:38:51\n"
     ]
    }
   ],
   "source": [
    "import datetime\n",
    " \n",
    "now = datetime.datetime.now()\n",
    "otherStyleTime = now.strftime(\"%Y-%m-%d %H:%M:%S\")\n",
    "print(otherStyleTime)"
   ]
  },
  {
   "cell_type": "code",
   "execution_count": 6,
   "metadata": {},
   "outputs": [
    {
     "name": "stdout",
     "output_type": "stream",
     "text": [
      "2019-05-10 23:40:00\n"
     ]
    }
   ],
   "source": [
    "import time\n",
    " \n",
    "timeStamp = 1557502800\n",
    "timeArray = time.localtime(timeStamp)\n",
    "otherStyleTime = time.strftime(\"%Y-%m-%d %H:%M:%S\", timeArray)\n",
    "print(otherStyleTime)"
   ]
  },
  {
   "cell_type": "code",
   "execution_count": 7,
   "metadata": {},
   "outputs": [
    {
     "name": "stdout",
     "output_type": "stream",
     "text": [
      "2019-05-10 15:40:00\n"
     ]
    }
   ],
   "source": [
    "import datetime\n",
    " \n",
    "timeStamp = 1557502800\n",
    "dateArray = datetime.datetime.utcfromtimestamp(timeStamp)\n",
    "otherStyleTime = dateArray.strftime(\"%Y-%m-%d %H:%M:%S\")\n",
    "print(otherStyleTime)"
   ]
  },
  {
   "cell_type": "code",
   "execution_count": 8,
   "metadata": {},
   "outputs": [
    {
     "name": "stdout",
     "output_type": "stream",
     "text": [
      "2021-01-01 15:39:33\n"
     ]
    }
   ],
   "source": [
    "import time\n",
    "import datetime\n",
    " \n",
    "threeDayAgo = (datetime.datetime.now() - datetime.timedelta(days = 3))\n",
    "timeStamp = int(time.mktime(threeDayAgo.timetuple()))\n",
    "otherStyleTime = threeDayAgo.strftime(\"%Y-%m-%d %H:%M:%S\")\n",
    "print(otherStyleTime)"
   ]
  },
  {
   "cell_type": "code",
   "execution_count": 9,
   "metadata": {},
   "outputs": [
    {
     "name": "stdout",
     "output_type": "stream",
     "text": [
      "2019-05-07 15:40:00\n"
     ]
    }
   ],
   "source": [
    "import time\n",
    "import datetime\n",
    " \n",
    "timeStamp = 1557502800\n",
    "dateArray = datetime.datetime.utcfromtimestamp(timeStamp)\n",
    "threeDayAgo = dateArray - datetime.timedelta(days = 3)\n",
    "print(threeDayAgo)"
   ]
  },
  {
   "cell_type": "code",
   "execution_count": 10,
   "metadata": {},
   "outputs": [
    {
     "name": "stdout",
     "output_type": "stream",
     "text": [
      "1609746000\n",
      "2021/01/04 15:40:00\n"
     ]
    }
   ],
   "source": [
    "import time\n",
    " \n",
    "a1 = \"2021-1-4 15:40:00\"\n",
    "timeArray = time.strptime(a1, \"%Y-%m-%d %H:%M:%S\")\n",
    " \n",
    "timeStamp = int(time.mktime(timeArray))\n",
    "print(timeStamp)\n",
    " \n",
    " \n",
    "a2 = \"2021/1/4 15:40:00\"\n",
    "timeArray = time.strptime(a2, \"%Y/%m/%d %H:%M:%S\")\n",
    "otherStyleTime = time.strftime(\"%Y/%m/%d %H:%M:%S\", timeArray)\n",
    "print(otherStyleTime)"
   ]
  },
  {
   "cell_type": "code",
   "execution_count": 11,
   "metadata": {},
   "outputs": [
    {
     "name": "stdout",
     "output_type": "stream",
     "text": [
      "None\n",
      "{'d': 6, 'c': 4, 'a': 10, 'b': 8}\n"
     ]
    }
   ],
   "source": [
    "def Merge(dict1, dict2): \n",
    "    return(dict2.update(dict1)) \n",
    "      \n",
    "dict1 = {'a': 10, 'b': 8} \n",
    "dict2 = {'d': 6, 'c': 4} \n",
    "  \n",
    "print(Merge(dict1, dict2)) \n",
    "  \n",
    "print(dict2)"
   ]
  },
  {
   "cell_type": "code",
   "execution_count": 12,
   "metadata": {},
   "outputs": [
    {
     "name": "stdout",
     "output_type": "stream",
     "text": [
      "{'a': 10, 'b': 8, 'd': 6, 'c': 4}\n"
     ]
    }
   ],
   "source": [
    "def Merge(dict1, dict2): \n",
    "    res = {**dict1, **dict2} \n",
    "    return res \n",
    "      \n",
    "dict1 = {'a': 10, 'b': 8} \n",
    "dict2 = {'d': 6, 'c': 4} \n",
    "dict3 = Merge(dict1, dict2) \n",
    "print(dict3)"
   ]
  },
  {
   "cell_type": "code",
   "execution_count": 13,
   "metadata": {},
   "outputs": [
    {
     "name": "stdout",
     "output_type": "stream",
     "text": [
      "字典移除前 : {'Runoob': 1, 'Google': 2, 'Taobao': 3, 'Zhihu': 4}\n",
      "字典移除后 : {'Runoob': 1, 'Google': 2, 'Taobao': 3}\n"
     ]
    }
   ],
   "source": [
    "test_dict = {\"Runoob\" : 1, \"Google\" : 2, \"Taobao\" : 3, \"Zhihu\" : 4} \n",
    "  \n",
    "print (\"字典移除前 : \" + str(test_dict)) \n",
    "  \n",
    "del test_dict['Zhihu'] \n",
    "  \n",
    "print (\"字典移除后 : \" + str(test_dict)) "
   ]
  },
  {
   "cell_type": "code",
   "execution_count": 14,
   "metadata": {},
   "outputs": [
    {
     "name": "stdout",
     "output_type": "stream",
     "text": [
      "字典移除前 : {'Runoob': 1, 'Google': 2, 'Taobao': 3, 'Zhihu': 4}\n",
      "字典移除后 : {'Runoob': 1, 'Google': 2, 'Taobao': 3}\n",
      "移除的 key 对应的 value 为 : 4\n",
      "\n",
      "字典移除后 : {'Runoob': 1, 'Google': 2, 'Taobao': 3}\n",
      "移除的值为 : 没有该键(key)\n"
     ]
    }
   ],
   "source": [
    "test_dict = {\"Runoob\" : 1, \"Google\" : 2, \"Taobao\" : 3, \"Zhihu\" : 4} \n",
    "  \n",
    "print (\"字典移除前 : \" + str(test_dict)) \n",
    "  \n",
    "removed_value = test_dict.pop('Zhihu') \n",
    "  \n",
    "print (\"字典移除后 : \" + str(test_dict)) \n",
    "  \n",
    "print (\"移除的 key 对应的 value 为 : \" + str(removed_value)) \n",
    "  \n",
    "print ('\\r') \n",
    "  \n",
    "removed_value = test_dict.pop('Baidu', '没有该键(key)') \n",
    "  \n",
    "print (\"字典移除后 : \" + str(test_dict)) \n",
    "print (\"移除的值为 : \" + str(removed_value))"
   ]
  },
  {
   "cell_type": "code",
   "execution_count": 15,
   "metadata": {},
   "outputs": [
    {
     "name": "stdout",
     "output_type": "stream",
     "text": [
      "字典移除前 : {'Runoob': 1, 'Google': 2, 'Taobao': 3, 'Zhihu': 4}\n",
      "字典移除后 : {'Runoob': 1, 'Google': 2, 'Taobao': 3}\n"
     ]
    }
   ],
   "source": [
    "test_dict = {\"Runoob\" : 1, \"Google\" : 2, \"Taobao\" : 3, \"Zhihu\" : 4} \n",
    "  \n",
    "print (\"字典移除前 : \" + str(test_dict)) \n",
    "  \n",
    "new_dict = {key:val for key, val in test_dict.items() if key != 'Zhihu'} \n",
    "  \n",
    "print (\"字典移除后 : \" + str(new_dict))"
   ]
  },
  {
   "cell_type": "code",
   "execution_count": 16,
   "metadata": {},
   "outputs": [
    {
     "name": "stdout",
     "output_type": "stream",
     "text": [
      "Sum : 600\n"
     ]
    }
   ],
   "source": [
    "def returnSum(myDict): \n",
    "      \n",
    "    sum = 0\n",
    "    for i in myDict: \n",
    "        sum = sum + myDict[i] \n",
    "      \n",
    "    return sum\n",
    "  \n",
    "dict = {'a': 100, 'b':200, 'c':300} \n",
    "print(\"Sum :\", returnSum(dict))"
   ]
  },
  {
   "cell_type": "code",
   "execution_count": 17,
   "metadata": {},
   "outputs": [
    {
     "name": "stdout",
     "output_type": "stream",
     "text": [
      "按键(key)排序:\n",
      "(1, 2) (2, 56) (3, 323) (4, 24) (5, 12) (6, 18) "
     ]
    }
   ],
   "source": [
    "def dictionairy():  \n",
    "  \n",
    "    key_value ={}     \n",
    " \n",
    "    key_value[2] = 56       \n",
    "    key_value[1] = 2 \n",
    "    key_value[5] = 12 \n",
    "    key_value[4] = 24\n",
    "    key_value[6] = 18      \n",
    "    key_value[3] = 323 \n",
    " \n",
    "    print (\"按键(key)排序:\")   \n",
    " \n",
    "    for i in sorted (key_value) : \n",
    "        print ((i, key_value[i]), end =\" \") \n",
    "  \n",
    "def main(): \n",
    "    dictionairy()              \n",
    "      \n",
    "if __name__==\"__main__\":      \n",
    "    main()"
   ]
  },
  {
   "cell_type": "code",
   "execution_count": 18,
   "metadata": {},
   "outputs": [
    {
     "name": "stdout",
     "output_type": "stream",
     "text": [
      "按值(value)排序:\n",
      "[(1, 2), (5, 12), (6, 18), (4, 24), (2, 56), (3, 323)]\n"
     ]
    }
   ],
   "source": [
    "def dictionairy():  \n",
    " \n",
    "    key_value ={}     \n",
    " \n",
    "    key_value[2] = 56       \n",
    "    key_value[1] = 2 \n",
    "    key_value[5] = 12 \n",
    "    key_value[4] = 24\n",
    "    key_value[6] = 18      \n",
    "    key_value[3] = 323 \n",
    " \n",
    " \n",
    "    print (\"按值(value)排序:\")   \n",
    "    print(sorted(key_value.items(), key = lambda kv:(kv[1], kv[0])))     \n",
    "   \n",
    "def main(): \n",
    "    dictionairy()             \n",
    "      \n",
    "if __name__==\"__main__\":       \n",
    "    main()"
   ]
  },
  {
   "cell_type": "code",
   "execution_count": 19,
   "metadata": {},
   "outputs": [
    {
     "name": "stdout",
     "output_type": "stream",
     "text": [
      "列表通过 age 升序排序: \n",
      "[{'name': 'Runoob', 'age': 7}, {'name': 'Taobao', 'age': 100}, {'name': 'Google', 'age': 100}, {'name': 'Wiki', 'age': 200}]\n",
      "\n",
      "列表通过 age 和 name 排序: \n",
      "[{'name': 'Runoob', 'age': 7}, {'name': 'Google', 'age': 100}, {'name': 'Taobao', 'age': 100}, {'name': 'Wiki', 'age': 200}]\n",
      "\n",
      "列表通过 age 降序排序: \n",
      "[{'name': 'Wiki', 'age': 200}, {'name': 'Taobao', 'age': 100}, {'name': 'Google', 'age': 100}, {'name': 'Runoob', 'age': 7}]\n"
     ]
    }
   ],
   "source": [
    "lis = [{ \"name\" : \"Taobao\", \"age\" : 100},  \n",
    "{ \"name\" : \"Runoob\", \"age\" : 7 }, \n",
    "{ \"name\" : \"Google\", \"age\" : 100 }, \n",
    "{ \"name\" : \"Wiki\" , \"age\" : 200 }] \n",
    "  \n",
    "print (\"列表通过 age 升序排序: \")\n",
    "print (sorted(lis, key = lambda i: i['age']) )\n",
    "  \n",
    "print (\"\\r\") \n",
    "  \n",
    "print (\"列表通过 age 和 name 排序: \")\n",
    "print (sorted(lis, key = lambda i: (i['age'], i['name'])) )\n",
    "  \n",
    "print (\"\\r\") \n",
    "  \n",
    "print (\"列表通过 age 降序排序: \")\n",
    "print (sorted(lis, key = lambda i: i['age'],reverse=True) )"
   ]
  },
  {
   "cell_type": "code",
   "execution_count": null,
   "metadata": {},
   "outputs": [],
   "source": []
  }
 ],
 "metadata": {
  "kernelspec": {
   "display_name": "Python 3",
   "language": "python",
   "name": "python3"
  },
  "language_info": {
   "codemirror_mode": {
    "name": "ipython",
    "version": 3
   },
   "file_extension": ".py",
   "mimetype": "text/x-python",
   "name": "python",
   "nbconvert_exporter": "python",
   "pygments_lexer": "ipython3",
   "version": "3.8.3"
  }
 },
 "nbformat": 4,
 "nbformat_minor": 4
}
