{
 "cells": [
  {
   "cell_type": "code",
   "execution_count": 1,
   "metadata": {},
   "outputs": [
    {
     "name": "stdin",
     "output_type": "stream",
     "text": [
      "如果你可以去世界的任何一个地方，你想去哪里？ sge\n",
      "是否结束？Yes/No Yes\n"
     ]
    },
    {
     "name": "stdout",
     "output_type": "stream",
     "text": [
      "['sge']\n"
     ]
    }
   ],
   "source": [
    "active=True\n",
    "sites=[]\n",
    "while active:\n",
    "    site=input(\"如果你可以去世界的任何一个地方，你想去哪里？\")\n",
    "    sites.append(site)\n",
    "    over=input(\"是否结束？Yes/No\")\n",
    "    if over==\"Yes\":\n",
    "        active=False\n",
    "print(sites)"
   ]
  },
  {
   "cell_type": "code",
   "execution_count": 2,
   "metadata": {},
   "outputs": [
    {
     "name": "stdout",
     "output_type": "stream",
     "text": [
      "Reykjavik is in Iceland\n",
      "Beijing is in China\n",
      "洛杉矶 is in 美国\n"
     ]
    }
   ],
   "source": [
    "\n",
    "def describe_city(city='reykjavik',country='iceland'):\n",
    "    print(city.title()+\" is in \"+country.title())\n",
    "describe_city()\n",
    "describe_city('beijing','china')\n",
    "describe_city(city='洛杉矶',country='美国')"
   ]
  },
  {
   "cell_type": "code",
   "execution_count": 3,
   "metadata": {},
   "outputs": [
    {
     "name": "stdout",
     "output_type": "stream",
     "text": [
      "Jimi Hendrix\n",
      "John Hooker Lee\n"
     ]
    }
   ],
   "source": [
    "def name(first_name,last_name,middle_name=''):\n",
    "    if middle_name:\n",
    "        full_name=first_name+' '+middle_name+' '+last_name\n",
    "    else:\n",
    "        full_name=first_name+' '+last_name\n",
    "    return full_name.title()\n",
    "musician=name('jimi','hendrix')\n",
    "print(musician)\n",
    "musician=name('john','lee','hooker')\n",
    "print(musician)"
   ]
  },
  {
   "cell_type": "code",
   "execution_count": 4,
   "metadata": {},
   "outputs": [
    {
     "name": "stdout",
     "output_type": "stream",
     "text": [
      "\n",
      "请告诉我你的名字\n",
      "输入q结束\n",
      "如果没有中间名字，请输入空格\n"
     ]
    },
    {
     "name": "stdin",
     "output_type": "stream",
     "text": [
      "First_name: wang\n",
      "Last_name: shiyu\n",
      "Middle_name: shi\n"
     ]
    },
    {
     "name": "stdout",
     "output_type": "stream",
     "text": [
      "Wang Shi Shiyu\n",
      "\n",
      "请告诉我你的名字\n",
      "输入q结束\n",
      "如果没有中间名字，请输入空格\n"
     ]
    },
    {
     "name": "stdin",
     "output_type": "stream",
     "text": [
      "First_name: q\n",
      "Last_name: q\n",
      "Middle_name: q\n"
     ]
    }
   ],
   "source": [
    "def name(first_name,last_name,middle_name):\n",
    "    if middle_name:\n",
    "        full_name=first_name+' '+middle_name+' '+last_name\n",
    "    else:\n",
    "        full_name=first_name+' '+last_name\n",
    "    return full_name.title()\n",
    "while True:\n",
    "    print(\"\\n请告诉我你的名字\")\n",
    "    print(\"输入q结束\")\n",
    "    print(\"如果没有中间名字，请输入空格\")\n",
    "    f_name=input(\"First_name:\")\n",
    "    l_name=input(\"Last_name:\")\n",
    "    m_name=input(\"Middle_name:\")\n",
    "    if f_name=='q':\n",
    "        break\n",
    "    if l_name=='q':\n",
    "        break\n",
    "    if m_name=='q':\n",
    "        break\n",
    "    musician=name(f_name,l_name,m_name)\n",
    "    print(musician)"
   ]
  },
  {
   "cell_type": "code",
   "execution_count": 5,
   "metadata": {},
   "outputs": [
    {
     "name": "stdout",
     "output_type": "stream",
     "text": [
      "显示程序开始的时间： 2020-12-30 17:34:22\n",
      "显示程序结束的时间： 2020-12-30 17:34:22\n",
      "用时：0.001000s\n"
     ]
    }
   ],
   "source": [
    "import time\n",
    "t0 = time.time()\n",
    "print('显示程序开始的时间：',time.strftime('%Y-%m-%d %H:%M:%S',time.localtime(time.time())))\n",
    "\n",
    "t1=time.time()\n",
    "print('显示程序结束的时间：',time.strftime('%Y-%m-%d %H:%M:%S',time.localtime(time.time())))\n",
    "print('用时：%.6fs'%(t1-t0))"
   ]
  },
  {
   "cell_type": "code",
   "execution_count": 6,
   "metadata": {},
   "outputs": [
    {
     "name": "stdout",
     "output_type": "stream",
     "text": [
      "arange函数创建的数值范围为0~1间隔为0.01的数组arr1为：\n",
      " [0.   0.01 0.02 0.03 0.04 0.05 0.06 0.07 0.08 0.09 0.1  0.11 0.12 0.13\n",
      " 0.14 0.15 0.16 0.17 0.18 0.19 0.2  0.21 0.22 0.23 0.24 0.25 0.26 0.27\n",
      " 0.28 0.29 0.3  0.31 0.32 0.33 0.34 0.35 0.36 0.37 0.38 0.39 0.4  0.41\n",
      " 0.42 0.43 0.44 0.45 0.46 0.47 0.48 0.49 0.5  0.51 0.52 0.53 0.54 0.55\n",
      " 0.56 0.57 0.58 0.59 0.6  0.61 0.62 0.63 0.64 0.65 0.66 0.67 0.68 0.69\n",
      " 0.7  0.71 0.72 0.73 0.74 0.75 0.76 0.77 0.78 0.79 0.8  0.81 0.82 0.83\n",
      " 0.84 0.85 0.86 0.87 0.88 0.89 0.9  0.91 0.92 0.93 0.94 0.95 0.96 0.97\n",
      " 0.98 0.99]\n",
      "生成的随机数组arr1为：\n",
      " [-0.30148351  0.67934109  2.41038969 -0.32710512  0.28384773 -0.18908166\n",
      "  0.37382908  0.40431792  0.89436846  0.2459953   0.21370082  1.4986195\n",
      " -1.88741949 -0.25557772 -1.17734665  0.76269741 -1.10286961 -0.62890493\n",
      "  0.5546019  -1.76801034 -1.02464672 -0.61414269  0.21975434  1.52695032\n",
      " -0.27527505  0.46433994  0.39200507 -1.09307698  0.96892757 -0.63628831\n",
      " -0.50519087  0.05876157  0.54225376 -0.13304635  0.91112923  0.52596069\n",
      "  0.7659708  -1.06377905  1.52481441  0.5977362   0.99270884  2.34882269\n",
      "  1.6609662  -1.37477265  0.81297766 -0.93591934  1.69706281  0.96518775\n",
      " -0.08140176  1.77253169 -0.50817281 -1.91601789  0.77828927 -1.6989636\n",
      "  0.27466953  1.13181374 -0.76573127  1.1140493  -0.16200863  0.42976769\n",
      " -0.30407951 -0.9685988   0.76361156 -0.27992891 -1.18544331  1.26084327\n",
      "  0.4492355   0.48047334 -1.38995076  0.70903678  0.28007003  0.45821285\n",
      " -1.38788611 -0.09930625  0.09736671 -0.69469945  1.57688548  1.18525276\n",
      " -0.27776103 -0.76955054  0.40896128  0.10219014  1.45211324 -0.42621524\n",
      "  0.94447458  1.46984463 -1.52470657  2.01973146  0.75160308 -0.66378231\n",
      "  0.37835828  0.36061501  1.48162246 -0.11456087 -0.69644732 -1.59070349\n",
      "  1.87467078  1.59054384 -0.93267493  0.53918046]\n",
      "arr1 + arr2: \n",
      " [-0.30148351  0.68934109  2.43038969 -0.29710512  0.32384773 -0.13908166\n",
      "  0.43382908  0.47431792  0.97436846  0.3359953   0.31370082  1.6086195\n",
      " -1.76741949 -0.12557772 -1.03734665  0.91269741 -0.94286961 -0.45890493\n",
      "  0.7346019  -1.57801034 -0.82464672 -0.40414269  0.43975434  1.75695032\n",
      " -0.03527505  0.71433994  0.65200507 -0.82307698  1.24892757 -0.34628831\n",
      " -0.20519087  0.36876157  0.86225376  0.19695365  1.25112923  0.87596069\n",
      "  1.1259708  -0.69377905  1.90481441  0.9877362   1.39270884  2.75882269\n",
      "  2.0809662  -0.94477265  1.25297766 -0.48591934  2.15706281  1.43518775\n",
      "  0.39859824  2.26253169 -0.00817281 -1.40601789  1.29828927 -1.1689636\n",
      "  0.81466953  1.68181374 -0.20573127  1.6840493   0.41799137  1.01976769\n",
      "  0.29592049 -0.3585988   1.38361156  0.35007109 -0.54544331  1.91084327\n",
      "  1.1092355   1.15047334 -0.70995076  1.39903678  0.98007003  1.16821285\n",
      " -0.66788611  0.63069375  0.83736671  0.05530055  2.33688548  1.95525276\n",
      "  0.50223897  0.02044946  1.20896128  0.91219014  2.27211324  0.40378476\n",
      "  1.78447458  2.31984463 -0.66470657  2.88973146  1.63160308  0.22621769\n",
      "  1.27835828  1.27061501  2.40162246  0.81543913  0.24355268 -0.64070349\n",
      "  2.83467078  2.56054384  0.04732507  1.52918046]\n",
      "arr1 - arr2: \n",
      " [ 3.01483515e-01 -6.69341091e-01 -2.39038969e+00  3.57105124e-01\n",
      " -2.43847730e-01  2.39081658e-01 -3.13829079e-01 -3.34317924e-01\n",
      " -8.14368461e-01 -1.55995300e-01 -1.13700818e-01 -1.38861950e+00\n",
      "  2.00741949e+00  3.85577719e-01  1.31734665e+00 -6.12697410e-01\n",
      "  1.26286961e+00  7.98904928e-01 -3.74601901e-01  1.95801034e+00\n",
      "  1.22464672e+00  8.24142686e-01  2.45660807e-04 -1.29695032e+00\n",
      "  5.15275052e-01 -2.14339942e-01 -1.32005071e-01  1.36307698e+00\n",
      " -6.88927573e-01  9.26288306e-01  8.05190867e-01  2.51238435e-01\n",
      " -2.22253756e-01  4.63046353e-01 -5.71129227e-01 -1.75960693e-01\n",
      " -4.05970804e-01  1.43377905e+00 -1.14481441e+00 -2.07736204e-01\n",
      " -5.92708837e-01 -1.93882269e+00 -1.24096620e+00  1.80477265e+00\n",
      " -3.72977658e-01  1.38591934e+00 -1.23706281e+00 -4.95187751e-01\n",
      "  5.61401762e-01 -1.28253169e+00  1.00817281e+00  2.42601789e+00\n",
      " -2.58289267e-01  2.22896360e+00  2.65330475e-01 -5.81813739e-01\n",
      "  1.32573127e+00 -5.44049301e-01  7.42008634e-01  1.60232313e-01\n",
      "  9.04079507e-01  1.57859880e+00 -1.43611558e-01  9.09928913e-01\n",
      "  1.82544331e+00 -6.10843273e-01  2.10764501e-01  1.89526657e-01\n",
      "  2.06995076e+00 -1.90367764e-02  4.19929969e-01  2.51787151e-01\n",
      "  2.10788611e+00  8.29306252e-01  6.42633288e-01  1.44469945e+00\n",
      " -8.16885484e-01 -4.15252756e-01  1.05776103e+00  1.55955054e+00\n",
      "  3.91038717e-01  7.07809857e-01 -6.32113237e-01  1.25621524e+00\n",
      " -1.04474578e-01 -6.19844626e-01  2.38470657e+00 -1.14973146e+00\n",
      "  1.28396922e-01  1.55378231e+00  5.21641724e-01  5.49384988e-01\n",
      " -5.61622461e-01  1.04456087e+00  1.63644732e+00  2.54070349e+00\n",
      " -9.14670783e-01 -6.20543842e-01  1.91267493e+00  4.50819536e-01]\n",
      "arr1 * arr2: \n",
      " [-0.          0.00679341  0.04820779 -0.00981315  0.01135391 -0.00945408\n",
      "  0.02242974  0.02830225  0.07154948  0.02213958  0.02137008  0.16484814\n",
      " -0.22649034 -0.0332251  -0.16482853  0.11440461 -0.17645914 -0.10691384\n",
      "  0.09982834 -0.33592197 -0.20492934 -0.12896996  0.04834595  0.35119857\n",
      " -0.06606601  0.11608499  0.10192132 -0.29513078  0.27129972 -0.18452361\n",
      " -0.15155726  0.01821609  0.1735212  -0.0439053   0.30978394  0.18408624\n",
      "  0.27574949 -0.39359825  0.57942947  0.23311712  0.39708353  0.9630173\n",
      "  0.6976058  -0.59115224  0.35771017 -0.4211637   0.78064889  0.45363824\n",
      " -0.03907285  0.86854053 -0.25408641 -0.97716912  0.40471042 -0.90045071\n",
      "  0.14832154  0.62249756 -0.42880951  0.6350081  -0.09396501  0.25356294\n",
      " -0.1824477  -0.59084527  0.47343917 -0.17635522 -0.75868372  0.81954813\n",
      "  0.29649543  0.32191714 -0.94516651  0.48923538  0.19604902  0.32533112\n",
      " -0.999278   -0.07249356  0.07205137 -0.52102459  1.19843297  0.91264462\n",
      " -0.2166536  -0.60794493  0.32716903  0.08277402  1.19073285 -0.35375865\n",
      "  0.79335865  1.24936793 -1.31124765  1.75716637  0.66141071 -0.59076626\n",
      "  0.34052245  0.32815966  1.36309266 -0.1065416  -0.65466048 -1.51116831\n",
      "  1.79968395  1.54282753 -0.91402144  0.53378866]\n",
      "arr1 / arr2: \n",
      " [-0.          0.01472015  0.00829741 -0.09171364  0.14092063 -0.26443601\n",
      "  0.16050116  0.17313108  0.08944859  0.36586065  0.46794393  0.07340089\n",
      " -0.06357887 -0.50865154 -0.11891145  0.19667039 -0.14507608 -0.27031113\n",
      "  0.32455713 -0.10746543 -0.19518923 -0.34194008  1.00111789  0.15062704\n",
      " -0.87185525  0.53839865  0.66325673 -0.24700914  0.28897929 -0.45576824\n",
      " -0.59383496  5.27555721  0.59012961 -2.48033856  0.37316331  0.66544897\n",
      "  0.4699918  -0.34781659  0.24921066  0.65246173  0.40293789  0.17455553\n",
      "  0.25286487 -0.31277899  0.54122029 -0.48081067  0.27105656  0.48695189\n",
      " -5.89667828  0.27644076 -0.98391725 -0.26617706  0.66813205 -0.31195489\n",
      "  1.96599895  0.48594568 -0.73132706  0.51164702 -3.58005611  1.37283471\n",
      " -1.97316815 -0.62977571  0.81193114 -2.25057138 -0.53988242  0.51552799\n",
      "  1.46916261  1.39445821 -0.48922597  0.97315121  2.49937488  1.54949823\n",
      " -0.51877456 -7.35099737  7.6001334  -1.07960356  0.48196271  0.64965046\n",
      " -2.8081693  -1.02657325  1.95617539  7.92640052  0.56469425 -1.94737289\n",
      "  0.88938339  0.57829242 -0.56404296  0.43075033  1.17083076 -1.34080102\n",
      "  2.3786978   2.52346677  0.62094091 -8.11795543 -1.34970726 -0.59722004\n",
      "  0.51208991  0.6098543  -1.05074122  1.83611994]\n",
      "正太分布数数组的累计和为：\n",
      " [-0.30148351  0.37785758  2.78824727  2.46114215  2.74498988  2.55590822\n",
      "  2.9297373   3.33405522  4.22842368  4.47441898  4.6881198   6.1867393\n",
      "  4.2993198   4.04374208  2.86639544  3.62909285  2.52622323  1.89731831\n",
      "  2.45192021  0.68390986 -0.34073685 -0.95487954 -0.7351252   0.79182512\n",
      "  0.51655007  0.98089001  1.37289508  0.27981811  1.24874568  0.61245738\n",
      "  0.10726651  0.16602807  0.70828183  0.57523548  1.4863647   2.0123254\n",
      "  2.7782962   1.71451715  3.23933156  3.83706776  4.8297766   7.17859929\n",
      "  8.83956549  7.46479284  8.2777705   7.34185116  9.03891397 10.00410172\n",
      "  9.92269996 11.69523165 11.18705883  9.27104094 10.04933021  8.35036661\n",
      "  8.62503614  9.75684987  8.9911186  10.1051679   9.94315927 10.37292695\n",
      " 10.06884745  9.10024864  9.8638602   9.58393129  8.39848798  9.65933125\n",
      " 10.10856675 10.58904009  9.19908934  9.90812612 10.18819615 10.64640899\n",
      "  9.25852289  9.15921663  9.25658335  8.56188389 10.13876938 11.32402213\n",
      " 11.0462611  10.27671056 10.68567184 10.78786199 12.23997522 11.81375998\n",
      " 12.75823456 14.22807919 12.70337262 14.72310409 15.47470716 14.81092485\n",
      " 15.18928313 15.54989814 17.0315206  16.91695974 16.22051242 14.62980893\n",
      " 16.50447972 18.09502356 17.16234863 17.70152909]\n",
      "正态分布数去重后的值组为：\n",
      " [-1.91601789 -1.88741949 -1.76801034 -1.6989636  -1.59070349 -1.52470657\n",
      " -1.38995076 -1.38788611 -1.37477265 -1.18544331 -1.17734665 -1.10286961\n",
      " -1.09307698 -1.06377905 -1.02464672 -0.9685988  -0.93591934 -0.93267493\n",
      " -0.76955054 -0.76573127 -0.69644732 -0.69469945 -0.66378231 -0.63628831\n",
      " -0.62890493 -0.61414269 -0.50817281 -0.50519087 -0.42621524 -0.32710512\n",
      " -0.30407951 -0.30148351 -0.27992891 -0.27776103 -0.27527505 -0.25557772\n",
      " -0.18908166 -0.16200863 -0.13304635 -0.11456087 -0.09930625 -0.08140176\n",
      "  0.05876157  0.09736671  0.10219014  0.21370082  0.21975434  0.2459953\n",
      "  0.27466953  0.28007003  0.28384773  0.36061501  0.37382908  0.37835828\n",
      "  0.39200507  0.40431792  0.40896128  0.42976769  0.4492355   0.45821285\n",
      "  0.46433994  0.48047334  0.52596069  0.53918046  0.54225376  0.5546019\n",
      "  0.5977362   0.67934109  0.70903678  0.75160308  0.76269741  0.76361156\n",
      "  0.7659708   0.77828927  0.81297766  0.89436846  0.91112923  0.94447458\n",
      "  0.96518775  0.96892757  0.99270884  1.1140493   1.13181374  1.18525276\n",
      "  1.26084327  1.45211324  1.46984463  1.48162246  1.4986195   1.52481441\n",
      "  1.52695032  1.57688548  1.59054384  1.6609662   1.69706281  1.77253169\n",
      "  1.87467078  2.01973146  2.34882269  2.41038969]\n",
      "正态分布数组的均值为： 0.17701529089706242\n",
      "正态分布数组的标准差为: 1.0067015436475624\n",
      "正态分布数组的方差为： 1.013447997982385\n",
      "正态分布数组的最小值为: -1.9160178888239523\n",
      "正态分布数组的最大值为： 2.4103896943523004\n",
      "正态分布数组的总和为： 17.70152908970624\n"
     ]
    }
   ],
   "source": [
    "import numpy as np\n",
    "#1、创建一个数值范围为0~1，间隔为0.01的数组\n",
    "arr1 = np.arange(0,1,0.01)\n",
    "print('arange函数创建的数值范围为0~1间隔为0.01的数组arr1为：\\n',arr1)\n",
    "#2、创建由100个服从正太分布的随机数构成的数组\n",
    "arr2 = np.random.randn(100)\n",
    "print('生成的随机数组arr1为：\\n',arr2)\n",
    "#3、对创建的两个数组进行四则运算\n",
    "print('arr1 + arr2: \\n',arr1+arr2)\n",
    "print('arr1 - arr2: \\n',arr1-arr2)\n",
    "print('arr1 * arr2: \\n',arr1*arr2)\n",
    "print('arr1 / arr2: \\n',arr1/arr2)\n",
    "#4、对创建的数组进行简单的统计分析\n",
    "print('正太分布数数组的累计和为：\\n',np.cumsum(arr2))#计算所有元素的累计和\n",
    "print('正态分布数去重后的值组为：\\n',np.unique(arr2))#去除重复值\n",
    "print('正态分布数组的均值为：',np.mean(arr2))#计算数组均值\n",
    "print('正态分布数组的标准差为:',np.std(arr2))#计算数组标准差\n",
    "print('正态分布数组的方差为：',np.var(arr2))#计算数组方差\n",
    "print('正态分布数组的最小值为:',np.min(arr2))#计算最小值\n",
    "print('正态分布数组的最大值为：',np.max(arr2))#计算最大值\n",
    "print('正态分布数组的总和为：',np.sum(arr2))#计算数组总和"
   ]
  },
  {
   "cell_type": "code",
   "execution_count": 7,
   "metadata": {},
   "outputs": [
    {
     "name": "stdout",
     "output_type": "stream",
     "text": [
      "国际棋盘对应的矩阵为：\n",
      " [[0. 1. 0. 1. 0. 1. 0. 1.]\n",
      " [1. 0. 1. 0. 1. 0. 1. 0.]\n",
      " [0. 1. 0. 1. 0. 1. 0. 1.]\n",
      " [1. 0. 1. 0. 1. 0. 1. 0.]\n",
      " [0. 1. 0. 1. 0. 1. 0. 1.]\n",
      " [1. 0. 1. 0. 1. 0. 1. 0.]\n",
      " [0. 1. 0. 1. 0. 1. 0. 1.]\n",
      " [1. 0. 1. 0. 1. 0. 1. 0.]]\n",
      "□   ■   □   ■   □   ■   □   ■   \n",
      "\n",
      "■   □   ■   □   ■   □   ■   □   \n",
      "\n",
      "□   ■   □   ■   □   ■   □   ■   \n",
      "\n",
      "■   □   ■   □   ■   □   ■   □   \n",
      "\n",
      "□   ■   □   ■   □   ■   □   ■   \n",
      "\n",
      "■   □   ■   □   ■   □   ■   □   \n",
      "\n",
      "□   ■   □   ■   □   ■   □   ■   \n",
      "\n",
      "■   □   ■   □   ■   □   ■   □   \n",
      "\n"
     ]
    }
   ],
   "source": [
    "import numpy as np\n",
    "matr1=np.ones((8,8))\n",
    "for i in range(8):\n",
    "    for j in range(8):\n",
    "        if(i+j)%2==0:\n",
    "            matr1[i,j]=0\n",
    "print('国际棋盘对应的矩阵为：\\n',matr1)\n",
    "\n",
    "for i in range(0,8):\n",
    "    for j in range(0,8):\n",
    "        if matr1[i,j]==0:\n",
    "            print(\"□\",end='   ')\n",
    "        else:\n",
    "            print(\"■\", end='   ')\n",
    "    print('\\n')"
   ]
  },
  {
   "cell_type": "code",
   "execution_count": 8,
   "metadata": {},
   "outputs": [
    {
     "data": {
      "text/html": [
       "<div>\n",
       "<style scoped>\n",
       "    .dataframe tbody tr th:only-of-type {\n",
       "        vertical-align: middle;\n",
       "    }\n",
       "\n",
       "    .dataframe tbody tr th {\n",
       "        vertical-align: top;\n",
       "    }\n",
       "\n",
       "    .dataframe thead th {\n",
       "        text-align: right;\n",
       "    }\n",
       "</style>\n",
       "<table border=\"1\" class=\"dataframe\">\n",
       "  <thead>\n",
       "    <tr style=\"text-align: right;\">\n",
       "      <th></th>\n",
       "      <th>统计学</th>\n",
       "      <th>高数</th>\n",
       "      <th>英语</th>\n",
       "    </tr>\n",
       "  </thead>\n",
       "  <tbody>\n",
       "    <tr>\n",
       "      <th>张三</th>\n",
       "      <td>85</td>\n",
       "      <td>68</td>\n",
       "      <td>90</td>\n",
       "    </tr>\n",
       "    <tr>\n",
       "      <th>李四</th>\n",
       "      <td>82</td>\n",
       "      <td>63</td>\n",
       "      <td>88</td>\n",
       "    </tr>\n",
       "    <tr>\n",
       "      <th>王五</th>\n",
       "      <td>84</td>\n",
       "      <td>90</td>\n",
       "      <td>78</td>\n",
       "    </tr>\n",
       "  </tbody>\n",
       "</table>\n",
       "</div>"
      ],
      "text/plain": [
       "    统计学  高数  英语\n",
       "张三   85  68  90\n",
       "李四   82  63  88\n",
       "王五   84  90  78"
      ]
     },
     "execution_count": 8,
     "metadata": {},
     "output_type": "execute_result"
    }
   ],
   "source": [
    "import pandas as pd\n",
    "df = pd.DataFrame(np.array([[85, 68, 90], [82, 63, 88], [84, 90, 78]]), columns=['统计学', '高数', '英语'], index=['张三', '李四', '王五'])\n",
    "df"
   ]
  },
  {
   "cell_type": "code",
   "execution_count": 9,
   "metadata": {},
   "outputs": [
    {
     "name": "stdout",
     "output_type": "stream",
     "text": [
      "[1. 2. 3.]\n",
      "float64\n",
      "<class 'numpy.float64'>\n"
     ]
    }
   ],
   "source": [
    "import numpy as np\n",
    "\n",
    "a = [1, 2, 3]\n",
    "b = np.array(a, dtype=np.float_)\n",
    "# 或者\n",
    "b = np.array(a, dtype=float)\n",
    "\n",
    "print(b)\n",
    "print(b.dtype)\n",
    "print(type(b[0]))"
   ]
  },
  {
   "cell_type": "code",
   "execution_count": 10,
   "metadata": {},
   "outputs": [
    {
     "name": "stdout",
     "output_type": "stream",
     "text": [
      "array('i', [1, 2, 3, 4])\n",
      "[1 2 3 4]\n",
      "array('i', [10, 2, 3, 4])\n",
      "[10  2  3  4]\n"
     ]
    }
   ],
   "source": [
    "import numpy as np\n",
    "import array\n",
    "\n",
    "a = array.array('i', [1, 2, 3, 4])\n",
    "print(a)\n",
    "\n",
    "na = np.frombuffer(a, dtype=np.int_)\n",
    "print(na)\n",
    "\n",
    "a[0] = 10\n",
    "print(a)\n",
    "print(na)"
   ]
  },
  {
   "cell_type": "code",
   "execution_count": 12,
   "metadata": {},
   "outputs": [
    {
     "name": "stdout",
     "output_type": "stream",
     "text": [
      "main thread start\n",
      "Thread 0\t is printing!times:0\n",
      "Thread 0\t is printing!times:1\n",
      "Thread 0\t is printing!times:2\n",
      "Thread 1\t is printing!times:0\n",
      "Thread 1\t is printing!times:1\n",
      "Thread 1\t is printing!times:2\n",
      "Thread 2\t is printing!times:0\n",
      "Thread 2\t is printing!times:1\n",
      "Thread 2\t is printing!times:2\n",
      "Thread 3\t is printing!times:0\n",
      "Thread 3\t is printing!times:1\n",
      "Thread 3\t is printing!times:2\n",
      "Thread 4\t is printing!times:0\n",
      "Thread 4\t is printing!times:1\n",
      "Thread 4\t is printing!times:2\n",
      "Thread 0\t is printing!times:0\n",
      "Thread 0\t is printing!times:1\n",
      "Thread 0\t is printing!times:2\n",
      "Thread 1\t is printing!times:0\n",
      "Thread 1\t is printing!times:1\n",
      "Thread 1\t is printing!times:2\n",
      "Thread 2\t is printing!times:0\n",
      "Thread 2\t is printing!times:1\n",
      "Thread 2\t is printing!times:2\n",
      "Thread 3\t is printing!times:0\n",
      "Thread 3\t is printing!times:1\n",
      "Thread 3\t is printing!times:2\n",
      "Thread 4\t is printing!times:0\n",
      "Thread 4\t is printing!times:1\n",
      "Thread 4\t is printing!times:2\n",
      "main thread finish\n"
     ]
    }
   ],
   "source": [
    "import time\n",
    "import threading\n",
    "\n",
    "thread_lock = None\n",
    "class mythread(threading.Thread):\n",
    "    def __init__(self,threat_id):\n",
    "        super(mythread, self).__init__()\n",
    "        self.threat_id = threat_id\n",
    "\n",
    "    def run(self):\n",
    "        #锁定\n",
    "        thread_lock.acquire()\n",
    "        for i in range(3):\n",
    "            print(\"Thread %d\\t is printing!times:%d\"%(self.threat_id,i))\n",
    "        #释放\n",
    "        thread_lock.release()\n",
    "        time.sleep(1)\n",
    "\n",
    "        #锁定\n",
    "        thread_lock.acquire()\n",
    "        for i in range(3):\n",
    "            print(\"Thread %d\\t is printing!times:%d\"%(self.threat_id,i))\n",
    "        # 释放\n",
    "        thread_lock.release()\n",
    "\n",
    "def main():\n",
    "    print(\"main thread start\")\n",
    "    threads = []\n",
    "\n",
    "    '''创建线程'''\n",
    "    for i in range(5):\n",
    "        thread = mythread(i)\n",
    "        threads.append(thread)\n",
    "\n",
    "    '''启动线程'''\n",
    "    for i in range(5):\n",
    "        threads[i].start()\n",
    "\n",
    "    '''等待线程执行完毕'''\n",
    "    for i in range(5):\n",
    "        threads[i].join()\n",
    "\n",
    "    print(\"main thread finish\")\n",
    "\n",
    "if __name__ == '__main__':\n",
    "    #获取锁\n",
    "    thread_lock = threading.Lock()\n",
    "    main()"
   ]
  },
  {
   "cell_type": "code",
   "execution_count": 13,
   "metadata": {},
   "outputs": [
    {
     "name": "stdout",
     "output_type": "stream",
     "text": [
      "[[ 0.03807591  0.05068012  0.06169621  0.02187235 -0.0442235  -0.03482076\n",
      "  -0.04340085 -0.00259226  0.01990842 -0.01764613]\n",
      " [-0.00188202 -0.04464164 -0.05147406 -0.02632783 -0.00844872 -0.01916334\n",
      "   0.07441156 -0.03949338 -0.06832974 -0.09220405]\n",
      " [ 0.08529891  0.05068012  0.04445121 -0.00567061 -0.04559945 -0.03419447\n",
      "  -0.03235593 -0.00259226  0.00286377 -0.02593034]\n",
      " [-0.08906294 -0.04464164 -0.01159501 -0.03665645  0.01219057  0.02499059\n",
      "  -0.03603757  0.03430886  0.02269202 -0.00936191]\n",
      " [ 0.00538306 -0.04464164 -0.03638469  0.02187235  0.00393485  0.01559614\n",
      "   0.00814208 -0.00259226 -0.03199144 -0.04664087]]\n",
      "[151.  75. 141. 206. 135.]\n"
     ]
    }
   ],
   "source": [
    "#导入糖尿病数据\n",
    "import numpy as np\n",
    "from sklearn.datasets import load_diabetes\n",
    "data = load_diabetes()\n",
    "x = data.data\n",
    "y = data.target\n",
    "print(x[:5])\n",
    "print(y[:5])"
   ]
  },
  {
   "cell_type": "code",
   "execution_count": 23,
   "metadata": {},
   "outputs": [
    {
     "name": "stdout",
     "output_type": "stream",
     "text": [
      "False\n",
      "True\n",
      "True\n",
      "True\n",
      "True\n",
      "False\n",
      "False\n",
      "False\n",
      "True\n",
      "True\n",
      "True\n",
      "True\n",
      "True\n",
      "True\n",
      "True\n",
      "True\n",
      "True\n",
      "True\n",
      "False\n",
      "False\n",
      "True\n",
      "True\n",
      "True\n",
      "True\n",
      "True\n",
      "False\n",
      "False\n"
     ]
    }
   ],
   "source": [
    "def is_number(s):\n",
    "    try:\n",
    "        float(s)\n",
    "        return True\n",
    "    except ValueError:\n",
    "        pass\n",
    "\n",
    "    import unicodedata\n",
    "    try:\n",
    "        unicodedata.numeric(s)\n",
    "        return True\n",
    "    except (TypeError, ValueError):\n",
    "        pass\n",
    "        \n",
    "    if len(s) < 2:\n",
    "        return False\n",
    "\n",
    "    try:\n",
    "        d = 0\n",
    "        if s.startswith('－'):\n",
    "            s = s[1:]\n",
    "        for c in s:\n",
    "            if c == '－': # 全角减号\n",
    "                return False\n",
    "                \n",
    "            if c == '．': # 全角点号\n",
    "                if d > 0:\n",
    "                    return False\n",
    "                else:\n",
    "                    d = 1\n",
    "                    continue\n",
    "            unicodedata.numeric(c)\n",
    "        return True\n",
    "    except (TypeError, ValueError):\n",
    "        pass\n",
    "\n",
    "    return False\n",
    "\n",
    "# 测试字符串和数字\n",
    "print(f'{is_number(\"foo\")}')\n",
    "print(f'{is_number(\"1\") }')\n",
    "print(f'{is_number(\"1.3\") }')\n",
    "print(f'{is_number(\"-1.37\") }')\n",
    "print(f'{is_number(\"1e3\") }')\n",
    "print(f'{is_number(\"2.345.6\") }')\n",
    "print(f'{is_number(\"-5.2-8\") }')\n",
    "print(f'{is_number(\"52-8\") }')\n",
    "print(f'{is_number(\"-.5\") }')\n",
    "print(f'{is_number(\"-5.\") }')\n",
    "print(f'{is_number(\".5\") }')\n",
    "\n",
    "# 测试Unicode\n",
    "# 阿拉伯语 5\n",
    "print(f'{is_number(\"٥\") }')\n",
    "# 泰语 2\n",
    "print(f'{is_number(\"๒\") }')\n",
    "# 中文数字\n",
    "print(f'{is_number(\"四\") }')\n",
    "print(f'{is_number(\"四卅\") }')\n",
    "# 全角数字\n",
    "print(f'{is_number(\"１２３\") }')\n",
    "print(f'{is_number(\"-１２３\") }')\n",
    "print(f'{is_number(\"－１２３\") }')\n",
    "print(f'{is_number(\"１２－３\") }')\n",
    "print(f'{is_number(\"１２３－\") }')\n",
    "print(f'{is_number(\"１.２３\") }')\n",
    "print(f'{is_number(\"１．２３\") }')\n",
    "print(f'{is_number(\"．２３\") }')\n",
    "print(f'{is_number(\"－．２３\") }')\n",
    "print(f'{is_number(\"１．23\") }')\n",
    "print(f'{is_number(\"１．２．３\") }')\n",
    "# 版权号\n",
    "print(f'{is_number(\"©\") }')"
   ]
  },
  {
   "cell_type": "code",
   "execution_count": 24,
   "metadata": {},
   "outputs": [
    {
     "name": "stdin",
     "output_type": "stream",
     "text": [
      "你需要几项？ 3\n"
     ]
    },
    {
     "name": "stdout",
     "output_type": "stream",
     "text": [
      "斐波那契数列：\n",
      "0 , 1 , 1 , "
     ]
    }
   ],
   "source": [
    "# 获取用户输入数据\n",
    "nterms = int(input(\"你需要几项？\"))\n",
    " \n",
    "# 第一和第二项\n",
    "n1 = 0\n",
    "n2 = 1\n",
    "count = 2\n",
    " \n",
    "# 判断输入的值是否合法\n",
    "if nterms <= 0:\n",
    "   print(\"请输入一个正整数。\")\n",
    "elif nterms == 1:\n",
    "   print(\"斐波那契数列：\")\n",
    "   print(n1)\n",
    "else:\n",
    "   print(\"斐波那契数列：\")\n",
    "   print(n1,\",\",n2,end=\" , \")\n",
    "   while count < nterms:\n",
    "       nth = n1 + n2\n",
    "       print(nth,end=\" , \")\n",
    "       # 更新值\n",
    "       n1 = n2\n",
    "       n2 = nth\n",
    "       count += 1"
   ]
  },
  {
   "cell_type": "code",
   "execution_count": 25,
   "metadata": {},
   "outputs": [
    {
     "name": "stdout",
     "output_type": "stream",
     "text": [
      "3 4 5 6 7 1 2 "
     ]
    }
   ],
   "source": [
    "def leftRotate(arr, d, n):\n",
    "    for i in range(gcd(d,n)):\n",
    "         \n",
    "        temp = arr[i]\n",
    "        j = i\n",
    "        while 1:\n",
    "            k = j + d\n",
    "            if k >= n:\n",
    "                k = k - n\n",
    "            if k == i:\n",
    "                break\n",
    "            arr[j] = arr[k]\n",
    "            j = k\n",
    "        arr[j] = temp\n",
    "\n",
    "def printArray(arr, size):\n",
    "    for i in range(size):\n",
    "        print (\"%d\" % arr[i], end=\" \")\n",
    "\n",
    "def gcd(a, b):\n",
    "    if b == 0:\n",
    "        return a;\n",
    "    else:\n",
    "        return gcd(b, a%b)\n",
    "\n",
    "arr = [1, 2, 3, 4, 5, 6, 7]\n",
    "leftRotate(arr, 2, 7)\n",
    "printArray(arr, 7)"
   ]
  },
  {
   "cell_type": "code",
   "execution_count": 26,
   "metadata": {},
   "outputs": [
    {
     "name": "stdout",
     "output_type": "stream",
     "text": [
      "3 4 5 6 7 1 2 "
     ]
    }
   ],
   "source": [
    "def leftRotate(arr, d, n):\n",
    "    for i in range(d):\n",
    "        leftRotatebyOne(arr, n)\n",
    "def leftRotatebyOne(arr, n):\n",
    "    temp = arr[0]\n",
    "    for i in range(n-1):\n",
    "        arr[i] = arr[i+1]\n",
    "    arr[n-1] = temp\n",
    "         \n",
    " \n",
    "def printArray(arr,size):\n",
    "    for i in range(size):\n",
    "        print (\"%d\"% arr[i],end=\" \")\n",
    " \n",
    "\n",
    "arr = [1, 2, 3, 4, 5, 6, 7]\n",
    "leftRotate(arr, 2, 7)\n",
    "printArray(arr, 7)"
   ]
  },
  {
   "cell_type": "code",
   "execution_count": null,
   "metadata": {},
   "outputs": [],
   "source": []
  }
 ],
 "metadata": {
  "kernelspec": {
   "display_name": "Python 3",
   "language": "python",
   "name": "python3"
  },
  "language_info": {
   "codemirror_mode": {
    "name": "ipython",
    "version": 3
   },
   "file_extension": ".py",
   "mimetype": "text/x-python",
   "name": "python",
   "nbconvert_exporter": "python",
   "pygments_lexer": "ipython3",
   "version": "3.8.5"
  }
 },
 "nbformat": 4,
 "nbformat_minor": 4
}
