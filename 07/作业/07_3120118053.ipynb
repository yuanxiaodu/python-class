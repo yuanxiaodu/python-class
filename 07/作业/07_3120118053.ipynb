{
 "cells": [
  {
   "cell_type": "code",
   "execution_count": 2,
   "metadata": {},
   "outputs": [
    {
     "name": "stdout",
     "output_type": "stream",
     "text": [
      "17\n"
     ]
    }
   ],
   "source": [
    "s='abcdefrmcxzoplamc'\n",
    "count=0\n",
    "for i in s:\n",
    "    count+=1\n",
    "print(count) "
   ]
  },
  {
   "cell_type": "code",
   "execution_count": 3,
   "metadata": {},
   "outputs": [
    {
     "name": "stdout",
     "output_type": "stream",
     "text": [
      "4\n"
     ]
    }
   ],
   "source": [
    "l=[1,2,3,4]\n",
    "count=0\n",
    "for i in l:\n",
    "    count+=1\n",
    "print(count)"
   ]
  },
  {
   "cell_type": "code",
   "execution_count": 4,
   "metadata": {},
   "outputs": [
    {
     "name": "stdout",
     "output_type": "stream",
     "text": [
      "4\n"
     ]
    }
   ],
   "source": [
    "def my_len():\n",
    "    l=[1,2,3,4]\n",
    "    count=0\n",
    "    for i in l:\n",
    "        count+=1\n",
    "    print(count)\n",
    "my_len()"
   ]
  },
  {
   "cell_type": "code",
   "execution_count": 5,
   "metadata": {},
   "outputs": [
    {
     "name": "stdout",
     "output_type": "stream",
     "text": [
      "16\n"
     ]
    }
   ],
   "source": [
    "s='asdfghjklmnbvcxz'\n",
    "print(len(s))"
   ]
  },
  {
   "cell_type": "code",
   "execution_count": 6,
   "metadata": {},
   "outputs": [
    {
     "name": "stdout",
     "output_type": "stream",
     "text": [
      "17\n"
     ]
    }
   ],
   "source": [
    "def my_len():\n",
    "    s='asdfghjlkmnbzvxcc'\n",
    "    count=0\n",
    "    for i in s:\n",
    "        count+=1\n",
    "    print(count)\n",
    "my_len()"
   ]
  },
  {
   "cell_type": "code",
   "execution_count": 7,
   "metadata": {},
   "outputs": [
    {
     "name": "stdout",
     "output_type": "stream",
     "text": [
      "21\n"
     ]
    }
   ],
   "source": [
    "def my_len():\n",
    "    #函数体\n",
    "    s = 'dhclvamvmzkfisncnmlwq'\n",
    "    count=0\n",
    "    for i in s:\n",
    "        count+=1\n",
    "    print(count)\n",
    "my_len() "
   ]
  },
  {
   "cell_type": "code",
   "execution_count": 8,
   "metadata": {},
   "outputs": [
    {
     "name": "stdout",
     "output_type": "stream",
     "text": [
      "[1, 2, 3] <class 'list'>\n"
     ]
    }
   ],
   "source": [
    "def func():\n",
    "    a=1\n",
    "    b=2\n",
    "    c=a+b\n",
    "    d='alex'\n",
    "    e=[1,2,3]\n",
    "    return e\n",
    "ret=func()\n",
    "print(ret,type(ret))"
   ]
  },
  {
   "cell_type": "code",
   "execution_count": 9,
   "metadata": {},
   "outputs": [
    {
     "name": "stdout",
     "output_type": "stream",
     "text": [
      "111\n",
      "112\n",
      "121\n"
     ]
    }
   ],
   "source": [
    "def func():\n",
    "    print(111)\n",
    "    print(112)\n",
    "    print(121)\n",
    "    return\n",
    "    print(333)\n",
    "func()"
   ]
  },
  {
   "cell_type": "code",
   "execution_count": 10,
   "metadata": {},
   "outputs": [
    {
     "name": "stdout",
     "output_type": "stream",
     "text": [
      "(3, 'alex', [1, 2, 3]) <class 'tuple'>\n"
     ]
    }
   ],
   "source": [
    "def fun1():\n",
    "    a=1\n",
    "    b=2\n",
    "    c=a+b\n",
    "    d='alex'\n",
    "    e=[1,2,3]\n",
    "    return c,d,e\n",
    "ret=fun1()\n",
    "print(ret,type(ret))"
   ]
  },
  {
   "cell_type": "code",
   "execution_count": 11,
   "metadata": {},
   "outputs": [
    {
     "name": "stdout",
     "output_type": "stream",
     "text": [
      "13\n"
     ]
    }
   ],
   "source": [
    "def my_len():\n",
    "    s='asdnfmcznxcvb'\n",
    "    count=0\n",
    "    for i in s:\n",
    "        count+=1\n",
    "    return count\n",
    "print(my_len())"
   ]
  },
  {
   "cell_type": "code",
   "execution_count": 12,
   "metadata": {},
   "outputs": [
    {
     "name": "stdout",
     "output_type": "stream",
     "text": [
      "13\n"
     ]
    }
   ],
   "source": [
    "l1=[1,2,3]\n",
    "s='asdfglmnvbcxz'\n",
    "def my_len(argy):\n",
    "    count=0\n",
    "    for i in argy:\n",
    "        count+=1\n",
    "    return count\n",
    "print(my_len(s))"
   ]
  },
  {
   "cell_type": "code",
   "execution_count": 13,
   "metadata": {},
   "outputs": [
    {
     "name": "stdout",
     "output_type": "stream",
     "text": [
      "1 2\n"
     ]
    }
   ],
   "source": [
    "def fun1(x,y):\n",
    "    print(x,y)\n",
    "fun1(1,2)"
   ]
  },
  {
   "cell_type": "code",
   "execution_count": 14,
   "metadata": {},
   "outputs": [
    {
     "name": "stdout",
     "output_type": "stream",
     "text": [
      "9\n"
     ]
    }
   ],
   "source": [
    "def sum1(x,y):\n",
    "    return x+y\n",
    "a=3\n",
    "b=6\n",
    "print(sum1(a,b))"
   ]
  },
  {
   "cell_type": "code",
   "execution_count": 15,
   "metadata": {},
   "outputs": [
    {
     "name": "stdout",
     "output_type": "stream",
     "text": [
      "245\n"
     ]
    }
   ],
   "source": [
    "def compare(x,y):\n",
    "    if x>y:\n",
    "        return x\n",
    "    else:\n",
    "        return y\n",
    "print(compare(132,245))"
   ]
  },
  {
   "cell_type": "code",
   "execution_count": 16,
   "metadata": {},
   "outputs": [
    {
     "name": "stdout",
     "output_type": "stream",
     "text": [
      "234\n",
      "199\n"
     ]
    }
   ],
   "source": [
    "def compare(x,y):\n",
    "    return  x if x>y else y\n",
    "print(compare(123,234)) #234\n",
    "def fun1(a,b,n,x,y):\n",
    "    return x+y\n",
    "name='alex'\n",
    "print(fun1(100,200,name,y=100,x=99))"
   ]
  },
  {
   "cell_type": "code",
   "execution_count": 17,
   "metadata": {},
   "outputs": [
    {
     "name": "stdout",
     "output_type": "stream",
     "text": [
      "179\n"
     ]
    }
   ],
   "source": [
    "def fun1(a,b,n,x,y):\n",
    "    return x+y\n",
    "name='alex'\n",
    "print(fun1(100,234,name,y=90,x=89))"
   ]
  },
  {
   "cell_type": "code",
   "execution_count": 18,
   "metadata": {},
   "outputs": [
    {
     "name": "stdout",
     "output_type": "stream",
     "text": [
      "111\n",
      "222\n",
      "设置筛选条件:性别:男,年龄:23-34,爱好:打球\n",
      "333\n",
      "444\n",
      "录入员工信息\n",
      "张飞 33 男\n",
      "录入完毕\n"
     ]
    },
    {
     "name": "stdin",
     "output_type": "stream",
     "text": [
      "请输入元素： 234\n"
     ]
    },
    {
     "name": "stdout",
     "output_type": "stream",
     "text": [
      "23\n"
     ]
    }
   ],
   "source": [
    "def data(sex,age,hobby):\n",
    "    print(111)\n",
    "    print(222)\n",
    "    print('设置筛选条件:性别:%s,年龄:%s,爱好:%s'%(sex,age,hobby))\n",
    "    print(333)\n",
    "    print(444)\n",
    "data('男','23-34','打球')\n",
    "def stu_info(name,age,sex='男'):\n",
    "    print('录入员工信息')\n",
    "    print(name,age,sex)\n",
    "    print('录入完毕')\n",
    "stu_info('张飞',33)\n",
    "def check(str):\n",
    "    if len(str) >2:\n",
    "        str=str[0:2]\n",
    "    return str\n",
    "str=input('请输入元素：')\n",
    "print(check(str))"
   ]
  },
  {
   "cell_type": "code",
   "execution_count": 19,
   "metadata": {},
   "outputs": [],
   "source": [
    "from tkinter import *      \n",
    "import time \n",
    "import random \n",
    "tk=Tk()    #创建一个界面 \n",
    "tk.title(\"弹球游戏\") \n",
    "canvas=Canvas(tk,width=800,height=600,bg=\"skyblue\",bd=0,highlightthickness = 0) \n",
    "tk.resizable(0,0) #表示边框不能被拉伸 \n",
    "canvas.pack() #使部件放在主窗口中 \n",
    "tk.update() "
   ]
  },
  {
   "cell_type": "code",
   "execution_count": 20,
   "metadata": {},
   "outputs": [],
   "source": [
    "class Ball: #球的类 \n",
    "  def __init__(self,canvas,paddle,color): \n",
    "    self.canvas=canvas \n",
    "    self.paddle=paddle \n",
    "    self.id=canvas.create_oval(10,10,25,25,fill=color) #在画布上画出一个球 \n",
    "    self.canvas.move(self.id,240,100)   #初始球的位置 \n",
    "    stat=[-3,-2,-1,1,2,3]   \n",
    "    random.shuffle(stat) \n",
    "    self.x=stat[0] \n",
    "    self.y=-3\n",
    "    self.canvas_height=self.canvas.winfo_height() #获取画布的的高度 \n",
    "    self.canvas_width=self.canvas.winfo_width() \n",
    "    self.hit_bottom=False \n",
    "  def hit_paddle(self, pos):    #判断输赢 \n",
    "    paddle_pos = self.canvas.coords(self.paddle.id ) \n",
    "    if pos[2]>= paddle_pos[0] and pos[0]<= paddle_pos[2]: \n",
    "      if pos[3]>= paddle_pos[1] and pos[3]<= paddle_pos[3]: \n",
    "        return True\n",
    "    return False\n",
    "  def draw(self): #小球移动 \n",
    "    self.canvas.move(self.id,self.x,self.y) \n",
    "    pos=self.canvas.coords(self.id) \n",
    "    if pos[1]<=0: #判断小球是否碰到边框，如果碰到回弹 \n",
    "      self.y=3\n",
    "    if pos[3]>=self.canvas_height: #判断球拍是否有接到球 ，如果没接到游戏结束 \n",
    "      self.hit_bottom=True\n",
    "    if self.hit_paddle(pos)==True: #判断求是否碰到了球拍，如果碰到了使小球回弹 \n",
    "      self.y=-3\n",
    "    if pos[0]<=0: #来判断球拍是不是碰到了边框，， \n",
    "      self.x=3\n",
    "    if pos[2]>=self.canvas_width: \n",
    "      self.x=-3"
   ]
  },
  {
   "cell_type": "code",
   "execution_count": 21,
   "metadata": {},
   "outputs": [],
   "source": [
    "class Paddle: #球拍的的类 \n",
    "  def __init__(self,canvans,color): \n",
    "    self.canvas=canvas \n",
    "    self.id=canvas.create_rectangle(0,0,150,10,fill=color) \n",
    "    self.canvas.move(self.id,400,450) \n",
    "    self.x=0\n",
    "    self.canvas_width=self.canvas.winfo_width() \n",
    "    self.canvas.bind_all(\"<KeyPress-Left>\",self.turn_left) #通过按键来使球拍移动 \n",
    "    self.canvas.bind_all(\"<KeyPress-Right>\", self.turn_right) \n",
    "  def turn_left(self,event): #每次按键球拍移动的距离 \n",
    "    self.x=-5\n",
    "  def turn_right(self,event): \n",
    "    self.x=5\n",
    "  def draw(self): #球拍移动的方法 \n",
    "    pos=self.canvas.coords(self.id) \n",
    "    self.canvas.move(self.id, self.x, 0) \n",
    "    if pos[0]<=0: \n",
    "      self.x=0\n",
    "    if pos[2]>=self.canvas_width: \n",
    "      self.x=0\n",
    "paddle=Paddle(canvas,\"blue\") \n",
    "ball=Ball(canvas,paddle,\"red\") "
   ]
  },
  {
   "cell_type": "code",
   "execution_count": 22,
   "metadata": {},
   "outputs": [],
   "source": [
    "while True: #用循环 如果球怕没有接到球就推出 \n",
    "  if ball.hit_bottom==False: \n",
    "    ball.draw() \n",
    "    paddle.draw() \n",
    "  else: \n",
    "    break\n",
    "  tk.update_idletasks()# 不停的刷新画布 \n",
    "  tk.update() \n",
    "  time.sleep(0.01)"
   ]
  },
  {
   "cell_type": "code",
   "execution_count": null,
   "metadata": {},
   "outputs": [],
   "source": []
  }
 ],
 "metadata": {
  "kernelspec": {
   "display_name": "Python 3",
   "language": "python",
   "name": "python3"
  },
  "language_info": {
   "codemirror_mode": {
    "name": "ipython",
    "version": 3
   },
   "file_extension": ".py",
   "mimetype": "text/x-python",
   "name": "python",
   "nbconvert_exporter": "python",
   "pygments_lexer": "ipython3",
   "version": "3.8.3"
  }
 },
 "nbformat": 4,
 "nbformat_minor": 4
}
