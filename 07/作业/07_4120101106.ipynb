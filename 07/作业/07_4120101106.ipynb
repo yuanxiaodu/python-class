{
 "cells": [
  {
   "cell_type": "code",
   "execution_count": 1,
   "metadata": {},
   "outputs": [],
   "source": [
    "import re\n",
    "import requests\n",
    "import traceback\n",
    "from bs4 import BeautifulSoup"
   ]
  },
  {
   "cell_type": "code",
   "execution_count": 2,
   "metadata": {},
   "outputs": [],
   "source": [
    "def gethttptext(url,code='utf-8'):\n",
    "    try:\n",
    "        r=requests.get(url,timeout=30)\n",
    "        r.raise_for_status()\n",
    "        r.encoding=code\n",
    "        #print(r.status_code)\n",
    "        return r.text\n",
    "    except:\n",
    "        return \"\""
   ]
  },
  {
   "cell_type": "code",
   "execution_count": 3,
   "metadata": {},
   "outputs": [],
   "source": [
    "def getstocklist(list,stockurl):\n",
    "    html=gethttptext(stockurl)\n",
    "    soup=BeautifulSoup(html,'html.parser')\n",
    "    a=soup.find_all('tr')\n",
    "    for i in a:\n",
    "        try:\n",
    "            href=i.attrs['id']\n",
    "            list.append(re.findall(r'[tr]\\d{6}',href)[0])\n",
    "        except:\n",
    "            continue"
   ]
  },
  {
   "cell_type": "code",
   "execution_count": 4,
   "metadata": {},
   "outputs": [],
   "source": [
    "def getstockinfo(list,stockurl,fpath):\n",
    "    count=0\n",
    "    for stock in list:\n",
    "        url=stockurl+stock[1:]+\".html\"\n",
    "        html=gethttptext(url)\n",
    "        try:\n",
    "            if html=='':\n",
    "                continue\n",
    "            infodict={}\n",
    "            soup=BeautifulSoup(html,'html.parser')\n",
    "            stockinfo=soup.find('div',attrs={'class':'merchandiseDetail'})\n",
    "\n",
    "            name=stockinfo.find_all(attrs={'class':'fundDetail-tit'})[0]\n",
    "            infodict.update({'股票名称':name.text.split()[0]})\n",
    "\n",
    "            keylist=stockinfo.find_all('dt')\n",
    "            valuelist=stockinfo.find_all('dd')\n",
    "            for i in range(len(keylist)):\n",
    "                key=keylist[i].text\n",
    "                val=valuelist[i].text\n",
    "                infodict[key]=val\n",
    "            with open(fpath,'a',encoding='utf-8') as f:\n",
    "                f.write(str(infodict)+'\\n')\n",
    "                count=count+1\n",
    "                print('\\r当前速度：{:.2f}%'.format(count*100/len(list)),end='')\n",
    "\n",
    "        except:\n",
    "            count = count + 1\n",
    "            print('\\r当前速度：{:.2f}%'.format(count * 100 / len(list)), end='')\n",
    "            traceback.print_exc()\n",
    "            continue"
   ]
  },
  {
   "cell_type": "code",
   "execution_count": 6,
   "metadata": {},
   "outputs": [
    {
     "name": "stdout",
     "output_type": "stream",
     "text": [
      "当前速度：100.00%"
     ]
    }
   ],
   "source": [
    "if __name__==\"__main__\":\n",
    "    stock_list_url=\"https://fund.eastmoney.com/fund.html#os_0;isall_0;ft_;pt_1\"\n",
    "    stock_info_url=\"https://fund.eastmoney.com/\"\n",
    "    output_fire=\"F://py项目//BaiduStockInfo.txt\"\n",
    "    slist=[]\n",
    "    getstocklist(slist,stock_list_url)\n",
    "    getstockinfo(slist,stock_info_url,output_fire)"
   ]
  },
  {
   "cell_type": "code",
   "execution_count": 11,
   "metadata": {},
   "outputs": [
    {
     "name": "stdout",
     "output_type": "stream",
     "text": [
      "请求失败\n",
      "\n",
      "请求失败\n",
      "\n",
      "请求失败\n",
      "\n",
      "请求失败\n",
      "\n",
      "请求失败\n",
      "\n",
      "请求失败\n",
      "\n",
      "请求失败\n",
      "\n",
      "请求失败\n",
      "\n"
     ]
    },
    {
     "ename": "AttributeError",
     "evalue": "'NoneType' object has no attribute 'encoding'",
     "output_type": "error",
     "traceback": [
      "\u001b[1;31m---------------------------------------------------------------------------\u001b[0m",
      "\u001b[1;31mAttributeError\u001b[0m                            Traceback (most recent call last)",
      "\u001b[1;32m<ipython-input-11-10607b1cabba>\u001b[0m in \u001b[0;36m<module>\u001b[1;34m\u001b[0m\n\u001b[0;32m     74\u001b[0m \u001b[1;33m\u001b[0m\u001b[0m\n\u001b[0;32m     75\u001b[0m \u001b[1;32mif\u001b[0m \u001b[0m__name__\u001b[0m\u001b[1;33m==\u001b[0m\u001b[1;34m\"__main__\"\u001b[0m\u001b[1;33m:\u001b[0m\u001b[1;33m\u001b[0m\u001b[1;33m\u001b[0m\u001b[0m\n\u001b[1;32m---> 76\u001b[1;33m     \u001b[0mmain\u001b[0m\u001b[1;33m(\u001b[0m\u001b[1;33m)\u001b[0m\u001b[1;33m\u001b[0m\u001b[1;33m\u001b[0m\u001b[0m\n\u001b[0m",
      "\u001b[1;32m<ipython-input-11-10607b1cabba>\u001b[0m in \u001b[0;36mmain\u001b[1;34m()\u001b[0m\n\u001b[0;32m     71\u001b[0m             \u001b[0mwrite_to_file\u001b[0m\u001b[1;33m(\u001b[0m\u001b[0mitem\u001b[0m\u001b[1;33m)\u001b[0m\u001b[1;33m\u001b[0m\u001b[1;33m\u001b[0m\u001b[0m\n\u001b[0;32m     72\u001b[0m             \u001b[1;31m#print(list_1)\u001b[0m\u001b[1;33m\u001b[0m\u001b[1;33m\u001b[0m\u001b[1;33m\u001b[0m\u001b[0m\n\u001b[1;32m---> 73\u001b[1;33m             \u001b[0mwrite_to_mysql\u001b[0m\u001b[1;33m(\u001b[0m\u001b[0mlist_1\u001b[0m\u001b[1;33m)\u001b[0m\u001b[1;33m\u001b[0m\u001b[1;33m\u001b[0m\u001b[0m\n\u001b[0m\u001b[0;32m     74\u001b[0m \u001b[1;33m\u001b[0m\u001b[0m\n\u001b[0;32m     75\u001b[0m \u001b[1;32mif\u001b[0m \u001b[0m__name__\u001b[0m\u001b[1;33m==\u001b[0m\u001b[1;34m\"__main__\"\u001b[0m\u001b[1;33m:\u001b[0m\u001b[1;33m\u001b[0m\u001b[1;33m\u001b[0m\u001b[0m\n",
      "\u001b[1;32m<ipython-input-11-10607b1cabba>\u001b[0m in \u001b[0;36mwrite_to_mysql\u001b[1;34m(item)\u001b[0m\n\u001b[0;32m     46\u001b[0m \u001b[1;33m\u001b[0m\u001b[0m\n\u001b[0;32m     47\u001b[0m \u001b[1;32mdef\u001b[0m \u001b[0mwrite_to_mysql\u001b[0m\u001b[1;33m(\u001b[0m\u001b[0mitem\u001b[0m\u001b[1;33m)\u001b[0m\u001b[1;33m:\u001b[0m\u001b[1;33m\u001b[0m\u001b[1;33m\u001b[0m\u001b[0m\n\u001b[1;32m---> 48\u001b[1;33m     \u001b[0mdb\u001b[0m\u001b[1;33m=\u001b[0m\u001b[0mpymysql\u001b[0m\u001b[1;33m.\u001b[0m\u001b[0mconnect\u001b[0m\u001b[1;33m(\u001b[0m\u001b[1;34m\"localhost\"\u001b[0m\u001b[1;33m,\u001b[0m\u001b[1;34m\"root\"\u001b[0m\u001b[1;33m,\u001b[0m\u001b[1;34m\"root\"\u001b[0m\u001b[1;33m,\u001b[0m\u001b[1;34m\"maoyan\"\u001b[0m\u001b[1;33m,\u001b[0m\u001b[0mcharset\u001b[0m\u001b[1;33m=\u001b[0m\u001b[1;34m'utf-8'\u001b[0m\u001b[1;33m)\u001b[0m\u001b[1;33m\u001b[0m\u001b[1;33m\u001b[0m\u001b[0m\n\u001b[0m\u001b[0;32m     49\u001b[0m     \u001b[0mcursor\u001b[0m\u001b[1;33m=\u001b[0m\u001b[0mdb\u001b[0m\u001b[1;33m.\u001b[0m\u001b[0mcursor\u001b[0m\u001b[1;33m(\u001b[0m\u001b[1;33m)\u001b[0m\u001b[1;33m\u001b[0m\u001b[1;33m\u001b[0m\u001b[0m\n\u001b[0;32m     50\u001b[0m     \u001b[0mprint\u001b[0m\u001b[1;33m(\u001b[0m\u001b[0mitem\u001b[0m\u001b[1;33m)\u001b[0m\u001b[1;33m\u001b[0m\u001b[1;33m\u001b[0m\u001b[0m\n",
      "\u001b[1;32mC:\\ProgramData\\Anaconda3\\lib\\site-packages\\pymysql\\__init__.py\u001b[0m in \u001b[0;36mConnect\u001b[1;34m(*args, **kwargs)\u001b[0m\n\u001b[0;32m     92\u001b[0m     \"\"\"\n\u001b[0;32m     93\u001b[0m     \u001b[1;32mfrom\u001b[0m \u001b[1;33m.\u001b[0m\u001b[0mconnections\u001b[0m \u001b[1;32mimport\u001b[0m \u001b[0mConnection\u001b[0m\u001b[1;33m\u001b[0m\u001b[1;33m\u001b[0m\u001b[0m\n\u001b[1;32m---> 94\u001b[1;33m     \u001b[1;32mreturn\u001b[0m \u001b[0mConnection\u001b[0m\u001b[1;33m(\u001b[0m\u001b[1;33m*\u001b[0m\u001b[0margs\u001b[0m\u001b[1;33m,\u001b[0m \u001b[1;33m**\u001b[0m\u001b[0mkwargs\u001b[0m\u001b[1;33m)\u001b[0m\u001b[1;33m\u001b[0m\u001b[1;33m\u001b[0m\u001b[0m\n\u001b[0m\u001b[0;32m     95\u001b[0m \u001b[1;33m\u001b[0m\u001b[0m\n\u001b[0;32m     96\u001b[0m \u001b[1;32mfrom\u001b[0m \u001b[1;33m.\u001b[0m \u001b[1;32mimport\u001b[0m \u001b[0mconnections\u001b[0m \u001b[1;32mas\u001b[0m \u001b[0m_orig_conn\u001b[0m\u001b[1;33m\u001b[0m\u001b[1;33m\u001b[0m\u001b[0m\n",
      "\u001b[1;32mC:\\ProgramData\\Anaconda3\\lib\\site-packages\\pymysql\\connections.py\u001b[0m in \u001b[0;36m__init__\u001b[1;34m(self, host, user, password, database, port, unix_socket, charset, sql_mode, read_default_file, conv, use_unicode, client_flag, cursorclass, init_command, connect_timeout, ssl, read_default_group, compress, named_pipe, autocommit, db, passwd, local_infile, max_allowed_packet, defer_connect, auth_plugin_map, read_timeout, write_timeout, bind_address, binary_prefix, program_name, server_public_key)\u001b[0m\n\u001b[0;32m    283\u001b[0m             \u001b[0mself\u001b[0m\u001b[1;33m.\u001b[0m\u001b[0muse_unicode\u001b[0m \u001b[1;33m=\u001b[0m \u001b[0muse_unicode\u001b[0m\u001b[1;33m\u001b[0m\u001b[1;33m\u001b[0m\u001b[0m\n\u001b[0;32m    284\u001b[0m \u001b[1;33m\u001b[0m\u001b[0m\n\u001b[1;32m--> 285\u001b[1;33m         \u001b[0mself\u001b[0m\u001b[1;33m.\u001b[0m\u001b[0mencoding\u001b[0m \u001b[1;33m=\u001b[0m \u001b[0mcharset_by_name\u001b[0m\u001b[1;33m(\u001b[0m\u001b[0mself\u001b[0m\u001b[1;33m.\u001b[0m\u001b[0mcharset\u001b[0m\u001b[1;33m)\u001b[0m\u001b[1;33m.\u001b[0m\u001b[0mencoding\u001b[0m\u001b[1;33m\u001b[0m\u001b[1;33m\u001b[0m\u001b[0m\n\u001b[0m\u001b[0;32m    286\u001b[0m \u001b[1;33m\u001b[0m\u001b[0m\n\u001b[0;32m    287\u001b[0m         \u001b[0mclient_flag\u001b[0m \u001b[1;33m|=\u001b[0m \u001b[0mCLIENT\u001b[0m\u001b[1;33m.\u001b[0m\u001b[0mCAPABILITIES\u001b[0m\u001b[1;33m\u001b[0m\u001b[1;33m\u001b[0m\u001b[0m\n",
      "\u001b[1;31mAttributeError\u001b[0m: 'NoneType' object has no attribute 'encoding'"
     ]
    }
   ],
   "source": [
    "import re\n",
    "import requests\n",
    "import pymysql\n",
    "import json\n",
    "import time\n",
    "def gethttptext(url):\n",
    "    try:\n",
    "        header = {\"Accept\": \"text/html,application/xhtml+xml,application/xml;q=0.9,image/webp,*/*;q=0.8\",\n",
    "                  \"Cache-Control\": \"max-age=0\",\n",
    "                  \"Connection\": \"keep-alive\",\n",
    "                  \"Host\": \"maoyan.com\",\n",
    "                  \"Referer\": \"http://maoyan.com/board\",\n",
    "                  \"Upgrade-Insecure-Requests\": \"1\",\n",
    "                  \"User-Agent\": \"Mozilla/5.0 (Windows NT 6.1; Win64; x64) AppleWebKit/537.36 (KHTML, like Gecko) Chrome/49.0.2623.75 Safari/537.36\"}\n",
    "        r=requests.get(url,headers=header,timeout=30)\n",
    "        r.raise_for_status()\n",
    "        r.encoding=r.apparent_encoding\n",
    "        return r.text\n",
    "    except:\n",
    "        print(\"请求失败\\n\")\n",
    "        return \"\"\n",
    "def parsepage(html):\n",
    "    try:\n",
    "        pattern=re.compile('<dd>.*?board-index.*?>(\\d*)</i>.*?data-src=\"(.*?)\".*?name\"><a'+\n",
    "                           '.*?>(.*?)</a>.*?star\">(.*?)</p>.*?releasetime\">(.*?)</p>'+\n",
    "                           '.*?integer\">(.*?)</i>.*?fraction\">(.*?)</i>.*?</dd>',re.S)\n",
    "        item=re.findall(pattern,html)\n",
    "        #print(item)\n",
    "        for infomation in item:\n",
    "            dic={\n",
    "                'index':infomation[0],\n",
    "                'image-url':infomation[1],\n",
    "                'title':infomation[2],\n",
    "                'star':infomation[3].strip()[3:],\n",
    "                'time':infomation[4].strip()[5:],\n",
    "                'score':infomation[5]+infomation[6],\n",
    "            }\n",
    "            yield dic\n",
    "    except:\n",
    "        print(\"解析失败\")\n",
    "        return \"\"\n",
    "\n",
    "def write_to_file(item):\n",
    "    with open('./猫眼电影Top100.txt','a',encoding='utf-8') as f:\n",
    "        f.write(json.dumps(item,ensure_ascii=False)+'\\n\\n')\n",
    "\n",
    "def write_to_mysql(item):\n",
    "    db=pymysql.connect(\"localhost\",\"root\",\"root\",\"maoyan\",charset='utf-8')\n",
    "    cursor=db.cursor()\n",
    "    print(item)\n",
    "    sql=\"insert into movies(rank,imagesurl,name,star,time,score) values(%s,%s,%s,%s,%s,%s)\"\n",
    "    try:\n",
    "        cursor.execute(sql,item)\n",
    "        db.commit()\n",
    "        print(\"success\")\n",
    "    except:\n",
    "        print(\"lose\")\n",
    "    cursor.close()\n",
    "    db.close()\n",
    "\n",
    "\n",
    "def main():\n",
    "    start_url=\"https://maoyan.com/board/4?offset=\"\n",
    "    depth=10\n",
    "    for i in range(depth):\n",
    "        url=start_url+str(10*i)\n",
    "        html=gethttptext(url)\n",
    "        items=parsepage(html)\n",
    "        for item in items:\n",
    "            list_1=list(item.values())\n",
    "            write_to_file(item)\n",
    "            #print(list_1)\n",
    "            write_to_mysql(list_1)\n",
    "\n",
    "if __name__==\"__main__\":\n",
    "    main()"
   ]
  },
  {
   "cell_type": "code",
   "execution_count": 26,
   "metadata": {},
   "outputs": [],
   "source": [
    "import re\n",
    "import requests"
   ]
  },
  {
   "cell_type": "code",
   "execution_count": 27,
   "metadata": {},
   "outputs": [],
   "source": [
    "def gethttptext(url):\n",
    "    try:\n",
    "        kv = {\n",
    "            'cookie':'cna=kL/kF0zT1TcCAcrI7Na/TEcN; sca=8a7e6244; tbsa=30d08f305d08bc44e8b769ed_1609993607_3; atpsida=d1e8051b95f6bc92af6abfbb_1609993607_3',\n",
    "            'user-agent':'Mozilla/5.0'\n",
    "        }\n",
    "        r=requests.get(url,headers=kv,timeout=30)\n",
    "        r.raise_for_status()\n",
    "        r.encoding=r.apparent_encoding\n",
    "        return r.text\n",
    "    except:\n",
    "        print(\"提取失败\")\n",
    "        return \"\""
   ]
  },
  {
   "cell_type": "code",
   "execution_count": 28,
   "metadata": {},
   "outputs": [],
   "source": [
    "def parsepage(ilt,html):\n",
    "    try:\n",
    "        plt = re.findall(r'\\\"view_price\\\"\\:\\\"[\\d\\.]*\\\"', html)\n",
    "        tlt = re.findall(r'\\\"raw_title\\\"\\:\\\".*?\\\"', html)\n",
    "        # print(tlt)\n",
    "        print(len(plt))\n",
    "        for i in range(len(plt)):\n",
    "            price = eval(plt[i].split(':')[1])\n",
    "            title = eval(tlt[i].split(':')[1])\n",
    "            ilt.append([title, price])\n",
    "        # print(ilist)\n",
    "    except:\n",
    "        print(\"解析出错\")"
   ]
  },
  {
   "cell_type": "code",
   "execution_count": 29,
   "metadata": {},
   "outputs": [],
   "source": [
    "def printgoodslist(ilt):\n",
    "    tplt=\"{:4}\\t{:8}\\t{:16}\"\n",
    "    print(tplt.format(\"序号\",\"价格\",\"商品名称\"))\n",
    "    count=0\n",
    "    for g in ilt:\n",
    "        count=count+1\n",
    "        print(tplt.format(count,g[0],g[1]))"
   ]
  },
  {
   "cell_type": "code",
   "execution_count": 30,
   "metadata": {},
   "outputs": [
    {
     "name": "stdout",
     "output_type": "stream",
     "text": [
      "0\n",
      "0\n",
      "序号  \t价格      \t商品名称            \n"
     ]
    }
   ],
   "source": [
    "if __name__==\"__main__\":\n",
    "    goods='蛋糕'\n",
    "    depth=2\n",
    "    start_url='https://s.taobao.com/search?q='+goods\n",
    "    infolist=[]\n",
    "    for i in range(depth):\n",
    "        try:\n",
    "            url=start_url+'&s='+str(44*i)\n",
    "            html=gethttptext(url)\n",
    "            parsepage(infolist,html)\n",
    "        except:\n",
    "            continue\n",
    "    printgoodslist(infolist)"
   ]
  },
  {
   "cell_type": "code",
   "execution_count": 34,
   "metadata": {},
   "outputs": [
    {
     "name": "stdout",
     "output_type": "stream",
     "text": [
      "    排名    \t　　　学校名称　　　\t    总分    \n",
      "    1     \t　　　清华大学　　　\t   95.3   \n",
      "    2     \t　　　北京大学　　　\t   78.6   \n",
      "    3     \t　　　浙江大学　　　\t   73.9   \n",
      "    4     \t　　上海交通大学　　\t   73.1   \n",
      "    5     \t　　　复旦大学　　　\t    66    \n",
      "    6     \t　中国科学技术大学　\t   61.9   \n",
      "    7     \t　　　南京大学　　　\t   59.8   \n",
      "    8     \t　　华中科技大学　　\t   59.1   \n",
      "    9     \t　　　中山大学　　　\t   58.6   \n",
      "    10    \t　哈尔滨工业大学　　\t   57.4   \n",
      "    11    \t　　　同济大学　　　\t   56.4   \n",
      "    12    \t　　　武汉大学　　　\t   55.5   \n",
      "    13    \t　　　东南大学　　　\t   55.3   \n",
      "    14    \t　　西安交通大学　　\t   54.2   \n",
      "    15    \t　北京航空航天大学　\t    54    \n",
      "    16    \t　　　南开大学　　　\t   53.9   \n",
      "    17    \t　　　四川大学　　　\t   53.3   \n",
      "    18    \t　　　天津大学　　　\t   52.4   \n",
      "    19    \t　　华南理工大学　　\t   51.8   \n",
      "    20    \t　　北京师范大学　　\t   51.7   \n",
      "    21    \t　　北京理工大学　　\t   51.1   \n",
      "    22    \t　　　厦门大学　　　\t   50.9   \n",
      "    23    \t　　　吉林大学　　　\t   50.2   \n",
      "    24    \t　　　山东大学　　　\t    50    \n",
      "    25    \t　　大连理工大学　　\t   49.7   \n",
      "    26    \t　　　中南大学　　　\t   49.5   \n",
      "    27    \t　　　苏州大学　　　\t   48.8   \n",
      "    28    \t　对外经济贸易大学　\t   47.7   \n",
      "    29    \t　　西北工业大学　　\t   47.6   \n",
      "    30    \t　　中国人民大学　　\t   47.5   \n"
     ]
    }
   ],
   "source": [
    "import requests\n",
    "import bs4\n",
    "from bs4 import BeautifulSoup\n",
    "\n",
    "def gethttptext(url):\n",
    "    try:\n",
    "        r=requests.get(url,timeout=30)\n",
    "        r.raise_for_status()\n",
    "        r.encoding=r.apparent_encoding\n",
    "        return r.text\n",
    "    except:\n",
    "        return \"\"\n",
    "\n",
    "def fillunivlist(ulist,html):\n",
    "    soup=BeautifulSoup(html,'html.parser')\n",
    "    for tr in soup.find('tbody').children:\n",
    "        if isinstance(tr,bs4.element.Tag):\n",
    "            tds=tr('td')\n",
    "            tda=tr('a')\n",
    "            ulist.append([tds[0].get_text(\"\",strip=\"true\"),tda[0].string,tds[4].get_text(\"\",strip=\"true\")])\n",
    "\n",
    "def printunivlist(ulist,num):\n",
    "    tplt=\"{0:^10}\\t{1:{3}^10}\\t{2:^10}\"\n",
    "    print(tplt.format(\"排名\",\"学校名称\",\"总分\",chr(12288)))\n",
    "    for i in range(num):\n",
    "        u=ulist[i]\n",
    "        if u[2]!=None:\n",
    "            print(tplt.format(u[0],u[1],u[2],chr(12288)))\n",
    "\n",
    "def main():\n",
    "    uinfo=[]\n",
    "    url='https://www.shanghairanking.cn/rankings/bcur/201811'\n",
    "    html=gethttptext(url)\n",
    "    fillunivlist(uinfo,html)\n",
    "    printunivlist(uinfo,30)\n",
    "\n",
    "main()"
   ]
  },
  {
   "cell_type": "code",
   "execution_count": 37,
   "metadata": {},
   "outputs": [
    {
     "data": {
      "image/png": "[encoded data removed]",
      "text/plain": [
       "<Figure size 432x288 with 1 Axes>"
      ]
     },
     "metadata": {
      "needs_background": "light"
     },
     "output_type": "display_data"
    }
   ],
   "source": [
    "import matplotlib.pyplot as plt\n",
    "import numpy as np\n",
    "\n",
    "data = ((3, 1000), (10, 3), (100, 30), (500, 800), (50, 1))\n",
    "\n",
    "dim = len(data[0])\n",
    "w = 0.75\n",
    "dimw = w / dim\n",
    "\n",
    "fig, ax = plt.subplots()\n",
    "x = np.arange(len(data))\n",
    "for i in range(len(data[0])):\n",
    "    y = [d[i] for d in data]\n",
    "    b = ax.bar(x + i * dimw, y, dimw, bottom=0.001)\n",
    "\n",
    "ax.set_xticks(x + dimw / 2)\n",
    "ax.set_xticklabels(map(str, x))\n",
    "ax.set_yscale('log')\n",
    "\n",
    "ax.set_xlabel('x')\n",
    "ax.set_ylabel('y')\n",
    "\n",
    "plt.show()"
   ]
  },
  {
   "cell_type": "code",
   "execution_count": null,
   "metadata": {},
   "outputs": [],
   "source": []
  },
  {
   "cell_type": "code",
   "execution_count": null,
   "metadata": {},
   "outputs": [],
   "source": []
  }
 ],
 "metadata": {
  "kernelspec": {
   "display_name": "Python 3",
   "language": "python",
   "name": "python3"
  },
  "language_info": {
   "codemirror_mode": {
    "name": "ipython",
    "version": 3
   },
   "file_extension": ".py",
   "mimetype": "text/x-python",
   "name": "python",
   "nbconvert_exporter": "python",
   "pygments_lexer": "ipython3",
   "version": "3.8.5"
  }
 },
 "nbformat": 4,
 "nbformat_minor": 4
}
