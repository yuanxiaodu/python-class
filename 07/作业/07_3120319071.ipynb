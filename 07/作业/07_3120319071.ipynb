{
 "cells": [
  {
   "cell_type": "code",
   "execution_count": 8,
   "metadata": {},
   "outputs": [
    {
     "name": "stdout",
     "output_type": "stream",
     "text": [
      "Willie is now sitting.\n",
      "Willie rolled over.\n",
      "\n",
      "My dog's name is Willie.\n",
      "My dog is 6 years old.\n",
      "Willie is now sitting.\n",
      "\n",
      "Your dog's name is Luck.\n",
      "Your dog is 3 years old.\n",
      "Luck is now sitting.\n"
     ]
    }
   ],
   "source": [
    "#创建类\n",
    "class Dog:\n",
    "    \"\"\"一次模拟小狗的简单尝试\"\"\"\n",
    "    \n",
    "    def __init__(self,name,age):\n",
    "        \"\"\"初始化属性name和age\"\"\"\n",
    "        self.name = name\n",
    "        self.age = age\n",
    "        \n",
    "    def sit(self):\n",
    "        \"\"\"模拟小狗收到命令时蹲下\"\"\"\n",
    "        print(f\"{self.name} is now sitting.\")\n",
    "        \n",
    "    def roll_over(self):\n",
    "        \"\"\"模拟小狗收到命令时打滚\"\"\"\n",
    "        print(f\"{self.name} rolled over.\")\n",
    "        \n",
    "my_dog = Dog('Willie',6)\n",
    "my_dog.sit()\n",
    "my_dog.roll_over()\n",
    "\n",
    "my_dog = Dog('Willie',6)\n",
    "your_dog = Dog('Luck',3)\n",
    "\n",
    "print(f\"\\nMy dog's name is {my_dog.name}.\")\n",
    "print(f\"My dog is {my_dog.age} years old.\")\n",
    "my_dog.sit()\n",
    "\n",
    "print(f\"\\nYour dog's name is {your_dog.name}.\")\n",
    "print(f\"Your dog is {your_dog.age} years old.\")\n",
    "your_dog.sit()"
   ]
  },
  {
   "cell_type": "code",
   "execution_count": 12,
   "metadata": {},
   "outputs": [
    {
     "name": "stdout",
     "output_type": "stream",
     "text": [
      "餐厅的名字：人间美味\n",
      "烹饪方法：中餐\n",
      "\n",
      "Restaurant's name is 人间美味.\n",
      "Restaurant's type is 中餐.\n",
      "Restaurant is open.\n"
     ]
    }
   ],
   "source": [
    "#练习9-1\n",
    "class Restaurant:\n",
    "    \n",
    "    def __init__(self,restaurant_name,cuisine_type):\n",
    "        self.restaurant_name = restaurant_name\n",
    "        self.cuisine_type = cuisine_type\n",
    "        \n",
    "    def describe_restaurant(self):\n",
    "        print(f\"\\nRestaurant's name is {self.restaurant_name}.\")\n",
    "        print(f\"Restaurant's type is {self.cuisine_type}.\")\n",
    "        \n",
    "    def open_restaurant(self):\n",
    "        print(\"Restaurant is open.\")\n",
    "\n",
    "        \n",
    "restaurant = Restaurant('人间美味', '中餐')       #创建餐厅\n",
    "\n",
    "print(\"餐厅的名字：\" + restaurant.restaurant_name)        #访问属性\n",
    "print(\"烹饪方法：\" + restaurant.cuisine_type)        #访问属性\n",
    "\n",
    "restaurant.describe_restaurant()    #调用方法\n",
    "restaurant.open_restaurant()        #调用方法"
   ]
  },
  {
   "cell_type": "code",
   "execution_count": 13,
   "metadata": {},
   "outputs": [
    {
     "name": "stdout",
     "output_type": "stream",
     "text": [
      "\n",
      "Restaurant's name is 人间美味.\n",
      "Restaurant's type is 中餐.\n",
      "\n",
      "Restaurant's name is KFC.\n",
      "Restaurant's type is 炸鸡.\n",
      "\n",
      "Restaurant's name is M.\n",
      "Restaurant's type is 炸鸡.\n"
     ]
    }
   ],
   "source": [
    "#练习9-2\n",
    "restaurant_1 = Restaurant('人间美味', '中餐')\n",
    "restaurant_2 = Restaurant('KFC','炸鸡')\n",
    "restaurant_3 = Restaurant('M','炸鸡')\n",
    "\n",
    "restaurant_1.describe_restaurant() \n",
    "restaurant_2.describe_restaurant() \n",
    "restaurant_3.describe_restaurant() \n"
   ]
  },
  {
   "cell_type": "code",
   "execution_count": 24,
   "metadata": {},
   "outputs": [
    {
     "name": "stdout",
     "output_type": "stream",
     "text": [
      "User's name:张小明\n"
     ]
    }
   ],
   "source": [
    "#练习9-3\n",
    "class User:\n",
    "    \n",
    "    def __init__(self,first,last):\n",
    "        self.first_name = first\n",
    "        self.last_name = last\n",
    "        \n",
    "    def describe_user(self):\n",
    "        #print(f\"'User's name:' {self.last_name}{self.first_name}\")\n",
    "        print(\"User's name:\" +self.last_name + self.first_name)\n",
    "        \n",
    "    def greet_user(self):\n",
    "        print(Hello, self.first_name +self.last_name)\n",
    "        \n",
    "\n",
    "user = User('小明','张')\n",
    "\n",
    "user.describe_user()"
   ]
  },
  {
   "cell_type": "code",
   "execution_count": 26,
   "metadata": {},
   "outputs": [
    {
     "name": "stdout",
     "output_type": "stream",
     "text": [
      "2019 Audi A4\n"
     ]
    }
   ],
   "source": [
    "class Car:\n",
    "    \"\"\"模拟汽车的简单尝试\"\"\"\n",
    "    \n",
    "    def __init__(self,make,model,year):\n",
    "        \"\"\"初始化描述汽车的属性\"\"\"\n",
    "        self.make = make\n",
    "        self.model = model\n",
    "        self.year = year\n",
    "        \n",
    "    def get_descriptive_name(self):\n",
    "        \"\"\"返回整洁的描述性信息\"\"\"\n",
    "        long_name = f\"{self.year} {self.make} {self.model}\"\n",
    "        return long_name.title()\n",
    "my_new_car = Car('audi','a4',2019)\n",
    "print(my_new_car.get_descriptive_name())"
   ]
  },
  {
   "cell_type": "code",
   "execution_count": 68,
   "metadata": {},
   "outputs": [
    {
     "name": "stdout",
     "output_type": "stream",
     "text": [
      "2019 Audi A4\n",
      "This car has 0 miles on it.\n",
      "This car has 23 miles on it.\n"
     ]
    }
   ],
   "source": [
    "#拓展\n",
    "class Car:\n",
    "    \"\"\"模拟汽车的简单尝试\"\"\"\n",
    "    \n",
    "    def __init__(self,make,model,year):\n",
    "        \"\"\"初始化描述汽车的属性\"\"\"\n",
    "        self.make = make\n",
    "        self.model = model\n",
    "        self.year = year\n",
    "        self.odometer_reading = 0\n",
    "        \n",
    "    def get_descriptive_name(self):\n",
    "        \"\"\"返回整洁的描述性信息\"\"\"\n",
    "        long_name = f\"{self.year} {self.make} {self.model}\"\n",
    "        return long_name.title()\n",
    "    \n",
    "    def update(self,mile):\n",
    "        \"\"\"将里程表读数设置成指定的值\"\"\"\n",
    "        self.odometer_reading = mile\n",
    "    \n",
    "    def read_odometer(self):\n",
    "        \"\"\"打印一条指出汽车里程的消息\"\"\"\n",
    "        #print(f\"This car has {self.odometer_reading} miles on it.\")\n",
    "        print(\"This car has \"  +str(self.odometer_reading)+ \" miles on it.\")\n",
    "\n",
    "my_new_car = Car('audi','a4',2019)\n",
    "print(my_new_car.get_descriptive_name())\n",
    "\n",
    "my_new_car.read_odometer()\n",
    "my_new_car.update(23)\n",
    "my_new_car.read_odometer()"
   ]
  },
  {
   "cell_type": "code",
   "execution_count": null,
   "metadata": {},
   "outputs": [],
   "source": []
  },
  {
   "cell_type": "code",
   "execution_count": 91,
   "metadata": {},
   "outputs": [
    {
     "name": "stdout",
     "output_type": "stream",
     "text": [
      "2015 Subaru Outback\n",
      "This car has 23500 miles on it.\n",
      "This car has 23600 miles on it.\n"
     ]
    }
   ],
   "source": [
    "#方法1\n",
    "# my_new_car.odometer_reading = 23\n",
    "# my_new_car.read_odometer()\n",
    "\n",
    "#方法2\n",
    "class Car:\n",
    "    \"\"\"模拟汽车的简单尝试\"\"\"\n",
    "    \n",
    "    def __init__(self,make,model,year):\n",
    "        \"\"\"初始化描述汽车的属性\"\"\"\n",
    "        self.make = make\n",
    "        self.model = model\n",
    "        self.year = year\n",
    "        self.odometer_reading = 0\n",
    "        \n",
    "    def update(self,mile):\n",
    "#         \"\"\"将里程表读数设置成指定的值\"\"\"\n",
    "#         self.odometer_reading = mile\n",
    "        \"\"\"\n",
    "        将里程表读数设置成指定的值\n",
    "        禁止将里程表读数往回调\n",
    "        \"\"\"\n",
    "        if mile >= self.odometer_reading:\n",
    "            self.odometer_reading = mile\n",
    "        else:\n",
    "            print(\"You can't roll back an odometer\")\n",
    "\n",
    "\n",
    "# my_new_car.update(23)\n",
    "# my_new_car.read_odometer()\n",
    "\n",
    "#方法3\n",
    "class Car:\n",
    "    \"\"\"模拟汽车的简单尝试\"\"\"\n",
    "    \n",
    "    def __init__(self,make,model,year):\n",
    "        \"\"\"初始化描述汽车的属性\"\"\"\n",
    "        self.make = make\n",
    "        self.model = model\n",
    "        self.year = year\n",
    "        self.odometer_reading = 0\n",
    "\n",
    "    def increment_odometer(self,miles):\n",
    "        \"\"\"将里程表读数增加指定的量\"\"\"\n",
    "        self.odometer_reading += miles\n",
    "\n",
    "    def get_descriptive_name(self):\n",
    "        \"\"\"返回整洁的描述性信息\"\"\"\n",
    "        long_name = f\"{self.year} {self.make} {self.model}\"\n",
    "        return long_name.title()\n",
    "\n",
    "    def read_odometer(self):\n",
    "        \"\"\"打印一条指出汽车里程的消息\"\"\"\n",
    "        #print(f\"This car has {self.odometer_reading} miles on it.\")\n",
    "        print(\"This car has \"  +str(self.odometer_reading)+ \" miles on it.\")\n",
    "        \n",
    "    def update(self,mile):\n",
    "        \"\"\"将里程表读数设置成指定的值\"\"\"\n",
    "        self.odometer_reading = mile\n",
    "        \n",
    "my_used_car = Car('subaru','outback',2015)\n",
    "print(my_used_car.get_descriptive_name())\n",
    "\n",
    "my_used_car.update(23_500)\n",
    "my_used_car.read_odometer()\n",
    "\n",
    "my_used_car.increment_odometer(100)\n",
    "my_used_car.read_odometer()"
   ]
  },
  {
   "cell_type": "code",
   "execution_count": 98,
   "metadata": {},
   "outputs": [
    {
     "name": "stdout",
     "output_type": "stream",
     "text": [
      "There are 0 people\n",
      "80\n"
     ]
    }
   ],
   "source": [
    "#练习9-4\n",
    "class Restaurant:\n",
    "    \n",
    "    def __init__(self,restaurant_name,cuisine_type):\n",
    "        self.restaurant_name = restaurant_name\n",
    "        self.cuisine_type = cuisine_type\n",
    "        self.number_severd = 0\n",
    "        \n",
    "    def describe_restaurant(self):\n",
    "        print(f\"\\nRestaurant's name is {self.restaurant_name}.\")\n",
    "        print(f\"Restaurant's type is {self.cuisine_type}.\")\n",
    "        \n",
    "    def open_restaurant(self):\n",
    "        print(\"Restaurant is open.\")\n",
    "\n",
    "    def number(self):\n",
    "        print(\"There are \"+str(self.number_severd) + \" people\")\n",
    "    \n",
    "    def set_number_severd(self,_number):\n",
    "        self.number_severd = _number\n",
    "        \n",
    "restaurant = Restaurant('人间美味', '中餐')       #创建餐厅\n",
    "restaurant.number()\n",
    "restaurant.set_number_severd(80)\n",
    "print(restaurant.number_severd)\n",
    "\n",
    "# print(\"餐厅的名字：\" + restaurant.restaurant_name)        #访问属性\n",
    "# print(\"烹饪方法：\" + restaurant.cuisine_type)        #访问属性\n",
    "\n",
    "# restaurant.describe_restaurant()    #调用方法\n",
    "# restaurant.open_restaurant()        #调用方法"
   ]
  },
  {
   "cell_type": "code",
   "execution_count": 10,
   "metadata": {},
   "outputs": [
    {
     "name": "stdout",
     "output_type": "stream",
     "text": [
      "2019 Tesla Model S\n",
      "This car has a 75-kWh battery.\n"
     ]
    }
   ],
   "source": [
    "class Car():\n",
    "    \"\"\"模拟汽车的简单尝试\"\"\"\n",
    "    \n",
    "    def __init__(self,make,model,year):\n",
    "        \"\"\"初始化描述汽车的属性\"\"\"\n",
    "        self.make = make\n",
    "        self.model = model\n",
    "        self.year = year\n",
    "        self.odometer_reading = 0\n",
    "\n",
    "    def increment_odometer(self,miles):\n",
    "        \"\"\"将里程表读数增加指定的量\"\"\"\n",
    "        self.odometer_reading += miles\n",
    "\n",
    "    def get_descriptive_name(self):\n",
    "        \"\"\"返回整洁的描述性信息\"\"\"\n",
    "        long_name = f\"{self.year} {self.make} {self.model}\"\n",
    "        return long_name.title()\n",
    "\n",
    "    def read_odometer(self):\n",
    "        \"\"\"打印一条指出汽车里程的消息\"\"\"\n",
    "        #print(f\"This car has {self.odometer_reading} miles on it.\")\n",
    "        print(\"This car has \"  +str(self.odometer_reading)+ \" miles on it.\")\n",
    "        \n",
    "    def update(self,mile):\n",
    "        \"\"\"将里程表读数设置成指定的值\"\"\"\n",
    "        self.odometer_reading = mile\n",
    "\n",
    "class ElectricCar(Car):\n",
    "    \"\"\"电动汽车的独特之处\"\"\"\n",
    "    \n",
    "    def __init__(self,make,model,year):\n",
    "        \"\"\"初始化父类属性\"\"\"\n",
    "        \"\"\"再初始化电动汽车特有的属性\"\"\"\n",
    "        super().__init__(make,model,year)\n",
    "        self.battery_size = 75\n",
    "        \n",
    "    def describe_battery(self):\n",
    "        \"\"\"打印一条描述电瓶容量的消息\"\"\"\n",
    "        print(f\"This car has a {self.battery_size}-kWh battery.\")\n",
    "        \n",
    "        \n",
    "my_tesla = ElectricCar('tesla','model s',2019)\n",
    "print(my_tesla.get_descriptive_name())\n",
    "my_tesla.describe_battery()"
   ]
  },
  {
   "cell_type": "code",
   "execution_count": 1,
   "metadata": {},
   "outputs": [
    {
     "name": "stdout",
     "output_type": "stream",
     "text": [
      "Hello!\n"
     ]
    }
   ],
   "source": [
    "def greet_user():\n",
    "    \"\"\"显示简单的问候语\"\"\"\n",
    "    print(\"Hello!\")\n",
    "greet_user()"
   ]
  },
  {
   "cell_type": "code",
   "execution_count": 2,
   "metadata": {},
   "outputs": [
    {
     "name": "stdout",
     "output_type": "stream",
     "text": [
      "Hello,Jesse\n"
     ]
    }
   ],
   "source": [
    "def greet_user(username):\n",
    "    \"\"\"显示简单的问候语\"\"\"\n",
    "    print(f\"Hello,{username.title()}\")\n",
    "greet_user('jesse')"
   ]
  },
  {
   "cell_type": "code",
   "execution_count": 4,
   "metadata": {},
   "outputs": [
    {
     "name": "stdout",
     "output_type": "stream",
     "text": [
      "函数\n"
     ]
    }
   ],
   "source": [
    "def display_message():\n",
    "    print(\"函数\")\n",
    "display_message()"
   ]
  },
  {
   "cell_type": "code",
   "execution_count": 3,
   "metadata": {},
   "outputs": [
    {
     "name": "stdout",
     "output_type": "stream",
     "text": [
      "One of my favorite book is Alice in Wonderland.\n"
     ]
    }
   ],
   "source": [
    "#练习\n",
    "def favorite_book(title):\n",
    "    print(f\"One of my favorite book is {title}.\")\n",
    "favorite_book(\"Alice in Wonderland\")"
   ]
  },
  {
   "cell_type": "code",
   "execution_count": 5,
   "metadata": {},
   "outputs": [
    {
     "name": "stdout",
     "output_type": "stream",
     "text": [
      "\n",
      "I have a dog.\n",
      "My dog's name is Wawa.\n",
      "\n",
      "I have a cat.\n",
      "My cat's name is Mimi.\n"
     ]
    }
   ],
   "source": [
    "#位置实参\n",
    "def decribe_pet(animal_type,pet_name):\n",
    "    \"\"\"显示宠物信息\"\"\"\n",
    "    print(f\"\\nI have a {animal_type}.\")\n",
    "    print(f\"My {animal_type}'s name is {pet_name.title()}.\")\n",
    "    \n",
    "decribe_pet('dog','wawa')\n",
    "decribe_pet('cat','mimi')"
   ]
  },
  {
   "cell_type": "code",
   "execution_count": 6,
   "metadata": {},
   "outputs": [
    {
     "name": "stdout",
     "output_type": "stream",
     "text": [
      "\n",
      "I have a dog.\n",
      "My dog's name is Wawa.\n",
      "\n",
      "I have a dog.\n",
      "My dog's name is Wawa.\n"
     ]
    }
   ],
   "source": [
    "#关键字实参\n",
    "def decribe_pet(animal_type,pet_name):\n",
    "    \"\"\"显示宠物信息\"\"\"\n",
    "    print(f\"\\nI have a {animal_type}.\")\n",
    "    print(f\"My {animal_type}'s name is {pet_name.title()}.\")\n",
    "    \n",
    "decribe_pet(animal_type='dog',pet_name='wawa')\n",
    "decribe_pet(pet_name='wawa',animal_type='dog')"
   ]
  },
  {
   "cell_type": "code",
   "execution_count": 7,
   "metadata": {},
   "outputs": [
    {
     "name": "stdout",
     "output_type": "stream",
     "text": [
      "\n",
      "I have a dog.\n",
      "My dog's name is Wawa.\n"
     ]
    }
   ],
   "source": [
    "#默认值\n",
    "def decribe_pet(pet_name,animal_type = 'dog'):     #默认值为dog\n",
    "    \"\"\"显示宠物信息\"\"\"\n",
    "    print(f\"\\nI have a {animal_type}.\")\n",
    "    print(f\"My {animal_type}'s name is {pet_name.title()}.\")\n",
    "    \n",
    "decribe_pet(pet_name='wawa')\n",
    "# decribe_pet()  #TypeError: decribe_pet() missing 1 required positional argument: 'pet_name'"
   ]
  },
  {
   "cell_type": "code",
   "execution_count": 8,
   "metadata": {},
   "outputs": [
    {
     "name": "stdout",
     "output_type": "stream",
     "text": [
      "This T-shirt is M with I love u.\n"
     ]
    }
   ],
   "source": [
    "#练习\n",
    "def make_shirt(size,type_):\n",
    "    print(f\"This T-shirt is {size.title()} with {type_}.\")\n",
    "make_shirt('m','I love u')"
   ]
  },
  {
   "cell_type": "code",
   "execution_count": 9,
   "metadata": {},
   "outputs": [
    {
     "name": "stdout",
     "output_type": "stream",
     "text": [
      "This T-shirt is L with I love Python.\n",
      "This T-shirt is M with I love Python.\n",
      "This T-shirt is S with I love u.\n"
     ]
    }
   ],
   "source": [
    "#练习\n",
    "def make_shirt(size='L',type_='I love Python'):\n",
    "    print(f\"This T-shirt is {size.title()} with {type_}.\")\n",
    "\n",
    "make_shirt()\n",
    "make_shirt(\"m\",)\n",
    "make_shirt('s','I love u')"
   ]
  },
  {
   "cell_type": "code",
   "execution_count": 10,
   "metadata": {},
   "outputs": [
    {
     "name": "stdout",
     "output_type": "stream",
     "text": [
      "Jimi Hendrix\n"
     ]
    }
   ],
   "source": [
    "def get_formatted_name(first_name,last_name):\n",
    "    \"\"\"返回整洁的姓名\"\"\"\n",
    "    full_name = f\"{first_name} {last_name}\"\n",
    "    return full_name.title()\n",
    "musician = get_formatted_name('jimi','hendrix')\n",
    "print(musician)"
   ]
  },
  {
   "cell_type": "code",
   "execution_count": 11,
   "metadata": {},
   "outputs": [
    {
     "name": "stdout",
     "output_type": "stream",
     "text": [
      "Jimi Hendrix\n",
      "Jimi Lee Hooker\n"
     ]
    }
   ],
   "source": [
    "def get_formatted_name(first_name,last_name,middle_name = ''):\n",
    "    \"\"\"返回整洁的姓名\"\"\"\n",
    "    if middle_name:\n",
    "        full_name = f\"{first_name} {middle_name} {last_name}\"\n",
    "    else:\n",
    "        full_name = f\"{first_name} {last_name}\"\n",
    "    return full_name.title()\n",
    "\n",
    "musician = get_formatted_name('jimi','hendrix')\n",
    "print(musician)\n",
    "\n",
    "musician = get_formatted_name('jimi','hooker','lee')\n",
    "print(musician)"
   ]
  },
  {
   "cell_type": "code",
   "execution_count": 12,
   "metadata": {},
   "outputs": [
    {
     "name": "stdout",
     "output_type": "stream",
     "text": [
      "{'first': 'jimi', 'last': 'hendrix'}\n"
     ]
    }
   ],
   "source": [
    "def build_person(first_name,last_name):\n",
    "    \"\"\"返回一个字典，其中包含有一个人的信息\"\"\"\n",
    "    person = {'first':first_name,'last':last_name}\n",
    "    return person\n",
    "\n",
    "musician = build_person('jimi','hendrix')\n",
    "print(musician)"
   ]
  },
  {
   "cell_type": "code",
   "execution_count": 13,
   "metadata": {},
   "outputs": [
    {
     "name": "stdout",
     "output_type": "stream",
     "text": [
      "{'first': 'jimi', 'last': 'hendrix', 'age': 27}\n"
     ]
    }
   ],
   "source": [
    "#拓展\n",
    "def build_person(first_name,last_name,age = None):\n",
    "    \"\"\"返回一个字典，其中包含有一个人的信息\"\"\"\n",
    "    person = {'first':first_name,'last':last_name}\n",
    "    if age:\n",
    "        person['age'] = age\n",
    "    return person\n",
    "\n",
    "musician = build_person('jimi','hendrix',age = 27)\n",
    "print(musician)"
   ]
  },
  {
   "cell_type": "code",
   "execution_count": 21,
   "metadata": {},
   "outputs": [
    {
     "name": "stdout",
     "output_type": "stream",
     "text": [
      "Printing model:dodecahedron\n",
      "Printing model:robot pendant\n",
      "Printing model:phone case\n",
      "\n",
      "The following models have been printed:\n",
      "dodecahedron\n",
      "robot pendant\n",
      "phone case\n"
     ]
    }
   ],
   "source": [
    "unprinted_designs = ['phone case','robot pendant','dodecahedron']\n",
    "completed_models =[]\n",
    "\n",
    "while unprinted_designs:\n",
    "    current_design = unprinted_designs.pop()\n",
    "    print(f\"Printing model:{current_design}\")\n",
    "    completed_models.append(current_design)\n",
    "    \n",
    "print(\"\\nThe following models have been printed:\")\n",
    "for completed_model in completed_models:\n",
    "    print(completed_model)"
   ]
  },
  {
   "cell_type": "code",
   "execution_count": 20,
   "metadata": {},
   "outputs": [
    {
     "name": "stdout",
     "output_type": "stream",
     "text": [
      "Printing model:dodecahedron\n",
      "Printing model:robot pendant\n",
      "Printing model:phone case\n",
      "\n",
      "The following models have been printed:\n",
      "dodecahedron\n",
      "robot pendant\n",
      "phone case\n"
     ]
    }
   ],
   "source": [
    "def print_models(unprinted_designs,completed_models):\n",
    "    \"\"\"\n",
    "    模拟打印每个设计，直到没有未打印的设计为止。\n",
    "    打印每个设计后，都将其移到列表completed_models中。\n",
    "    \"\"\"\n",
    "    while unprinted_designs:\n",
    "        current_design = unprinted_designs.pop()\n",
    "        print(f\"Printing model:{current_design}\")\n",
    "        completed_models.append(current_design)\n",
    "\n",
    "def show_completed_models(completed_models):\n",
    "    \"\"\"显示打印好的所有模型\"\"\"\n",
    "    print(\"\\nThe following models have been printed:\")\n",
    "    for completed_model in completed_models:\n",
    "        print(completed_model)\n",
    "    \n",
    "unprinted_designs = ['phone case','robot pendant','dodecahedron']\n",
    "completed_models =[]\n",
    "\n",
    "print_models(unprinted_designs,completed_models)\n",
    "show_completed_models(completed_models)"
   ]
  },
  {
   "cell_type": "code",
   "execution_count": 19,
   "metadata": {},
   "outputs": [
    {
     "name": "stdout",
     "output_type": "stream",
     "text": [
      "\n",
      "read qq\n",
      "\n",
      "read ww\n",
      "\n",
      "read ee\n"
     ]
    }
   ],
   "source": [
    "#练习\n",
    "books = ['qq','ww','ee']\n",
    "def show_messages():\n",
    "    for book in books:\n",
    "        print(f\"\\nread {book}\")\n",
    "\n",
    "show_messages()"
   ]
  },
  {
   "cell_type": "code",
   "execution_count": 18,
   "metadata": {},
   "outputs": [
    {
     "name": "stdout",
     "output_type": "stream",
     "text": [
      "('pepperoni',)\n",
      "('mushrooms', 'green peppers', 'extra cheese')\n"
     ]
    }
   ],
   "source": [
    "def make_pizza(*toppings):\n",
    "    \"\"\"打印客户点的所有配料\"\"\"\n",
    "    print(toppings)   # *是让python创建一个名为toppings的空元组，将收到的所有值都封装到这个元组\n",
    "    \n",
    "make_pizza('pepperoni')\n",
    "make_pizza('mushrooms','green peppers','extra cheese')"
   ]
  },
  {
   "cell_type": "code",
   "execution_count": 17,
   "metadata": {},
   "outputs": [
    {
     "name": "stdout",
     "output_type": "stream",
     "text": [
      "\n",
      "Making a pizza with the following toppings:\n",
      "- pepperoni\n",
      "\n",
      "Making a pizza with the following toppings:\n",
      "- mushrooms\n",
      "- green peppers\n",
      "- extra cheese\n"
     ]
    }
   ],
   "source": [
    "#拓展\n",
    "def make_pizza(*toppings):\n",
    "    \"\"\"打印客户点的所有配料\"\"\"\n",
    "    print(\"\\nMaking a pizza with the following toppings:\")\n",
    "    for topping in toppings:\n",
    "        print(f\"- {topping}\")\n",
    "    \n",
    "make_pizza('pepperoni')\n",
    "make_pizza('mushrooms','green peppers','extra cheese')"
   ]
  },
  {
   "cell_type": "code",
   "execution_count": 16,
   "metadata": {},
   "outputs": [
    {
     "name": "stdout",
     "output_type": "stream",
     "text": [
      "\n",
      "Making a 16-inch pizza with the following toppings:\n",
      "- pepperoni\n",
      "\n",
      "Making a 12-inch pizza with the following toppings:\n",
      "- mushrooms\n",
      "- green peppers\n",
      "- extra cheese\n"
     ]
    }
   ],
   "source": [
    "def make_pizza(size,*toppings):\n",
    "    \"\"\"概述要制作的比萨\"\"\"\n",
    "    print(f\"\\nMaking a {size}-inch pizza with the following toppings:\")\n",
    "    for topping in toppings:\n",
    "        print(f\"- {topping}\")\n",
    "        \n",
    "make_pizza(16,'pepperoni')\n",
    "make_pizza(12,'mushrooms','green peppers','extra cheese')"
   ]
  },
  {
   "cell_type": "code",
   "execution_count": 15,
   "metadata": {},
   "outputs": [
    {
     "name": "stdout",
     "output_type": "stream",
     "text": [
      "{'location': 'princeton', 'field': 'pyysics', 'first_name': 'albert', 'last_name': 'einstein'}\n"
     ]
    }
   ],
   "source": [
    "def build_profile(first,last,**user_info):\n",
    "    \"\"\"创建一个字典，其中包含我们知道的有关用户的一切\"\"\"\n",
    "    user_info['first_name'] = first\n",
    "    user_info['last_name'] = last\n",
    "    return user_info\n",
    "\n",
    "user_profile = build_profile('albert','einstein',\n",
    "                            location='princeton',\n",
    "                            field='pyysics')\n",
    "print(user_profile)"
   ]
  }
 ],
 "metadata": {
  "kernelspec": {
   "display_name": "Python 3",
   "language": "python",
   "name": "python3"
  },
  "language_info": {
   "codemirror_mode": {
    "name": "ipython",
    "version": 3
   },
   "file_extension": ".py",
   "mimetype": "text/x-python",
   "name": "python",
   "nbconvert_exporter": "python",
   "pygments_lexer": "ipython3",
   "version": "3.8.3"
  }
 },
 "nbformat": 4,
 "nbformat_minor": 4
}
