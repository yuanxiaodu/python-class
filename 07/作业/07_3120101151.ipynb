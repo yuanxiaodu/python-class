{
 "cells": [
  {
   "cell_type": "code",
   "execution_count": 1,
   "metadata": {},
   "outputs": [
    {
     "name": "stdout",
     "output_type": "stream",
     "text": [
      "给定的数组\n",
      "12\n",
      "11\n",
      "13\n",
      "5\n",
      "6\n",
      "7\n",
      "\n",
      "\n",
      "排序后的数组\n",
      "5\n",
      "6\n",
      "7\n",
      "11\n",
      "12\n",
      "13\n"
     ]
    }
   ],
   "source": [
    "def merge(arr, l, m, r): \n",
    "    n1 = m - l + 1\n",
    "    n2 = r- m \n",
    "  \n",
    "    # 创建临时数组\n",
    "    L = [0] * (n1)\n",
    "    R = [0] * (n2)\n",
    "  \n",
    "    # 拷贝数据到临时数组 arrays L[] 和 R[] \n",
    "    for i in range(0 , n1): \n",
    "        L[i] = arr[l + i] \n",
    "  \n",
    "    for j in range(0 , n2): \n",
    "        R[j] = arr[m + 1 + j] \n",
    "  \n",
    "    # 归并临时数组到 arr[l..r] \n",
    "    i = 0     # 初始化第一个子数组的索引\n",
    "    j = 0     # 初始化第二个子数组的索引\n",
    "    k = l     # 初始归并子数组的索引\n",
    "  \n",
    "    while i < n1 and j < n2 : \n",
    "        if L[i] <= R[j]: \n",
    "            arr[k] = L[i] \n",
    "            i += 1\n",
    "        else: \n",
    "            arr[k] = R[j] \n",
    "            j += 1\n",
    "        k += 1\n",
    "  \n",
    "    # 拷贝 L[] 的保留元素\n",
    "    while i < n1: \n",
    "        arr[k] = L[i] \n",
    "        i += 1\n",
    "        k += 1\n",
    "  \n",
    "    # 拷贝 R[] 的保留元素\n",
    "    while j < n2: \n",
    "        arr[k] = R[j] \n",
    "        j += 1\n",
    "        k += 1\n",
    "  \n",
    "def mergeSort(arr,l,r): \n",
    "    if l < r: \n",
    "  \n",
    "        \n",
    "        m = int((l+(r-1))/2)\n",
    "  \n",
    "       \n",
    "        mergeSort(arr, l, m) \n",
    "        mergeSort(arr, m+1, r) \n",
    "        merge(arr, l, m, r) \n",
    "  \n",
    "  \n",
    "arr = [12, 11, 13, 5, 6, 7] \n",
    "n = len(arr) \n",
    "print (\"给定的数组\") \n",
    "for i in range(n): \n",
    "    print (\"%d\" %arr[i]), \n",
    "  \n",
    "mergeSort(arr,0,n-1) \n",
    "print (\"\\n\\n排序后的数组\") \n",
    "for i in range(n): \n",
    "    print (\"%d\" %arr[i])"
   ]
  },
  {
   "cell_type": "code",
   "execution_count": 2,
   "metadata": {},
   "outputs": [
    {
     "name": "stdout",
     "output_type": "stream",
     "text": [
      "排序后\n",
      "5\n",
      "6\n",
      "7\n",
      "11\n",
      "12\n",
      "13\n"
     ]
    }
   ],
   "source": [
    "def heapify(arr, n, i): \n",
    "    largest = i  \n",
    "    l = 2 * i + 1     # left = 2*i + 1 \n",
    "    r = 2 * i + 2     # right = 2*i + 2 \n",
    "  \n",
    "    if l < n and arr[i] < arr[l]: \n",
    "        largest = l \n",
    "  \n",
    "    if r < n and arr[largest] < arr[r]: \n",
    "        largest = r \n",
    "  \n",
    "    if largest != i: \n",
    "        arr[i],arr[largest] = arr[largest],arr[i]  # 交换\n",
    "  \n",
    "        heapify(arr, n, largest) \n",
    "  \n",
    "def heapSort(arr): \n",
    "    n = len(arr) \n",
    "  \n",
    "    # Build a maxheap. \n",
    "    for i in range(n, -1, -1): \n",
    "        heapify(arr, n, i) \n",
    "  \n",
    "    # 一个个交换元素\n",
    "    for i in range(n-1, 0, -1): \n",
    "        arr[i], arr[0] = arr[0], arr[i]   # 交换\n",
    "        heapify(arr, i, 0) \n",
    "  \n",
    "arr = [ 12, 11, 13, 5, 6, 7] \n",
    "heapSort(arr) \n",
    "n = len(arr) \n",
    "print (\"排序后\") \n",
    "for i in range(n): \n",
    "    print (\"%d\" %arr[i])"
   ]
  },
  {
   "cell_type": "code",
   "execution_count": 3,
   "metadata": {},
   "outputs": [
    {
     "name": "stdout",
     "output_type": "stream",
     "text": [
      "堆化： [1, 2, 3, 9, 7, 8]\n",
      "排序后： [9, 8, 7, 3, 2, 1]\n"
     ]
    }
   ],
   "source": [
    "def heapify(arr):\n",
    "    n = len(arr)\n",
    "    for i in reversed(range(n // 2)):\n",
    "        shiftDown(arr,n,i)\n",
    "\n",
    "def shiftDown(arr, n, k):\n",
    "    while 2 * k + 1 < n:\n",
    "        j = 2 * k + 1\n",
    "        if j + 1 < n and arr[j + 1] < arr[j]:\n",
    "            j += 1\n",
    "        if arr[k] <= arr[j]:\n",
    "            break\n",
    "        arr[k], arr[j] = arr[j], arr[k]\n",
    "        k = j\n",
    "\n",
    "def shiftDown2(arr, n, k):\n",
    "    smallest, l, r = k, 2 * k + 1, 2 * k + 2\n",
    "    while l < n:\n",
    "        if arr[l] < arr[smallest]:\n",
    "            smallest = l\n",
    "        if r < n and arr[r] < arr[smallest]:\n",
    "            smallest = r\n",
    "        if smallest == k:\n",
    "            break\n",
    "        else:\n",
    "            arr[k], arr[smallest] = arr[smallest], arr[k]\n",
    "            k = smallest\n",
    "            l, r = 2 * k + 1, 2 * k + 2\n",
    "\n",
    "def heapSort(arr):\n",
    "    n=len(arr)\n",
    "    heapify(arr)\n",
    "    print(\"堆化：\",arr)\n",
    "    for i in range(n-1):\n",
    "        arr[n-i-1],arr[0] = arr[0],arr[n-i-1]\n",
    "        # print(\"交换最小值后：\",arr)\n",
    "        shiftDown(arr,n-i-1,0)\n",
    "        # print(\"调整后：\",arr)\n",
    "\n",
    "\n",
    "arr = [3,2,1,9,7,8]\n",
    "heapSort(arr)\n",
    "print(\"排序后：\",arr)"
   ]
  },
  {
   "cell_type": "code",
   "execution_count": 4,
   "metadata": {},
   "outputs": [
    {
     "name": "stdout",
     "output_type": "stream",
     "text": [
      "拓扑排序结果：\n",
      "[5, 4, 2, 3, 1, 0]\n"
     ]
    }
   ],
   "source": [
    "from collections import defaultdict \n",
    " \n",
    "class Graph: \n",
    "    def __init__(self,vertices): \n",
    "        self.graph = defaultdict(list) \n",
    "        self.V = vertices\n",
    "  \n",
    "    def addEdge(self,u,v): \n",
    "        self.graph[u].append(v) \n",
    "  \n",
    "    def topologicalSortUtil(self,v,visited,stack): \n",
    "  \n",
    "        visited[v] = True\n",
    "  \n",
    "        for i in self.graph[v]: \n",
    "            if visited[i] == False: \n",
    "                self.topologicalSortUtil(i,visited,stack) \n",
    "  \n",
    "        stack.insert(0,v) \n",
    "  \n",
    "    def topologicalSort(self): \n",
    "        visited = [False]*self.V \n",
    "        stack =[] \n",
    "  \n",
    "        for i in range(self.V): \n",
    "            if visited[i] == False: \n",
    "                self.topologicalSortUtil(i,visited,stack) \n",
    "  \n",
    "        print (stack) \n",
    "  \n",
    "g= Graph(6) \n",
    "g.addEdge(5, 2); \n",
    "g.addEdge(5, 0); \n",
    "g.addEdge(4, 0); \n",
    "g.addEdge(4, 1); \n",
    "g.addEdge(2, 3); \n",
    "g.addEdge(3, 1); \n",
    "  \n",
    "print (\"拓扑排序结果：\")\n",
    "g.topologicalSort()"
   ]
  },
  {
   "cell_type": "code",
   "execution_count": 5,
   "metadata": {},
   "outputs": [
    {
     "name": "stdout",
     "output_type": "stream",
     "text": [
      "[1, 4, 8, 10, 50, 200]\n"
     ]
    }
   ],
   "source": [
    "# 假定数组最后一位是根节点，其他部分平分为分支节点\n",
    "# 经过一次OneHeapSort，找到最大值并放到根节点\n",
    "def OneHeapSort(list, l, r):\n",
    "    if r-l<=0:\n",
    "        return\n",
    "    if r-l==1 and list[l]>list[r]:\n",
    "        list[l],list[r] = list[r],list[l]\n",
    "    else:\n",
    "        middle = l + (r-l-1)//2\n",
    "        OneHeapSort(list, l, middle)\n",
    "        OneHeapSort(list, middle+1, r-1)\n",
    "        if list[middle]>list[r]:\n",
    "            list[middle],list[r] = list[r],list[middle]\n",
    "        if list[r-1]>list[r]:\n",
    "            list[r-1],list[r] = list[r],list[r-1]\n",
    "\n",
    "# 依次将最大值放到数组的后面\n",
    "def heapSort(list):\n",
    "    for i in range(len(list)-1, 0, -1):\n",
    "        OneHeapSort(list, 0, i)\n",
    "\n",
    "\n",
    "list = [1, 10, 8, 200, 50, 4]\n",
    "heapSort(list)\n",
    "print(list) # [1,4,8,10,50,200]"
   ]
  },
  {
   "cell_type": "code",
   "execution_count": 6,
   "metadata": {},
   "outputs": [
    {
     "name": "stdout",
     "output_type": "stream",
     "text": [
      "字符数组排序 bcmnoooruwww\n"
     ]
    }
   ],
   "source": [
    "def countSort(arr): \n",
    "  \n",
    "    output = [0 for i in range(256)] \n",
    "  \n",
    "    count = [0 for i in range(256)] \n",
    "  \n",
    "    ans = [\"\" for _ in arr] \n",
    "  \n",
    "    for i in arr: \n",
    "        count[ord(i)] += 1\n",
    "  \n",
    "    for i in range(256): \n",
    "        count[i] += count[i-1] \n",
    "  \n",
    "    for i in range(len(arr)): \n",
    "        output[count[ord(arr[i])]-1] = arr[i] \n",
    "        count[ord(arr[i])] -= 1\n",
    "  \n",
    "    for i in range(len(arr)): \n",
    "        ans[i] = output[i] \n",
    "    return ans  \n",
    "  \n",
    "arr = \"wwwrunoobcom\"\n",
    "ans = countSort(arr) \n",
    "print ( \"字符数组排序 %s\"  %(\"\".join(ans)) )"
   ]
  },
  {
   "cell_type": "code",
   "execution_count": 7,
   "metadata": {},
   "outputs": [
    {
     "name": "stdin",
     "output_type": "stream",
     "text": [
      "您要输出几项?  5\n"
     ]
    },
    {
     "name": "stdout",
     "output_type": "stream",
     "text": [
      "斐波那契数列:\n",
      "0\n",
      "1\n",
      "1\n",
      "2\n",
      "3\n"
     ]
    }
   ],
   "source": [
    "# Filename : test.py\n",
    "# author by : www.runoob.com\n",
    " \n",
    "def recur_fibo(n):\n",
    "   \"\"\"递归函数\n",
    "   输出斐波那契数列\"\"\"\n",
    "   if n <= 1:\n",
    "       return n\n",
    "   else:\n",
    "       return(recur_fibo(n-1) + recur_fibo(n-2))\n",
    " \n",
    " \n",
    "# 获取用户输入\n",
    "nterms = int(input(\"您要输出几项? \"))\n",
    " \n",
    "# 检查输入的数字是否正确\n",
    "if nterms <= 0:\n",
    "   print(\"输入正数\")\n",
    "else:\n",
    "   print(\"斐波那契数列:\")\n",
    "   for i in range(nterms):\n",
    "       print(recur_fibo(i))"
   ]
  },
  {
   "cell_type": "code",
   "execution_count": null,
   "metadata": {},
   "outputs": [],
   "source": []
  }
 ],
 "metadata": {
  "kernelspec": {
   "display_name": "Python 3",
   "language": "python",
   "name": "python3"
  },
  "language_info": {
   "codemirror_mode": {
    "name": "ipython",
    "version": 3
   },
   "file_extension": ".py",
   "mimetype": "text/x-python",
   "name": "python",
   "nbconvert_exporter": "python",
   "pygments_lexer": "ipython3",
   "version": "3.8.5"
  }
 },
 "nbformat": 4,
 "nbformat_minor": 4
}
