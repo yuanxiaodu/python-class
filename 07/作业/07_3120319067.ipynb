{
 "cells": [
  {
   "cell_type": "code",
   "execution_count": 1,
   "metadata": {},
   "outputs": [
    {
     "name": "stdout",
     "output_type": "stream",
     "text": [
      "显示程序开始时间： 2021-01-07 19:00:47\n",
      "显示程序结束时间： 2021-01-07 19:00:47\n",
      "用时：0.000000s\n"
     ]
    }
   ],
   "source": [
    "import time\n",
    "t0 = time.time()\n",
    "print('显示程序开始时间：',time.strftime('%Y-%m-%d %H:%M:%S',time.localtime(time.time())))\n",
    "t1=time.time()\n",
    "print('显示程序结束时间：',time.strftime('%Y-%m-%d %H:%M:%S',time.localtime(time.time())))\n",
    "print('用时：%.6fs'%(t1-t0))"
   ]
  },
  {
   "cell_type": "code",
   "execution_count": 4,
   "metadata": {},
   "outputs": [
    {
     "name": "stdout",
     "output_type": "stream",
     "text": [
      "这是一个有效的InternetURL: 3.com.-\n",
      "这是一个无效的InternetURL: thisisaurl\n",
      "这是一个有效的InternetURL: www.baidutaobao.com\n",
      "前或后都没有空白字符 <span>01</span>\n",
      "前或后有空白字符  text \n",
      "前或后有空白字符  string\n",
      "这是一个无效的账户名： 01_kuaixue\n",
      "这是一个无效的账户名： huawei-0912\n",
      "这是一个有效的账户名： xuetang_01\n",
      "这是一个有效的月份： 03\n",
      "这是一个有效的月份： 2\n",
      "这是一个无效的月份： 18\n",
      "这是一个有效的身份证号码： 130730199702110635\n",
      "这是一个无效的身份证号码： 411624200513191716\n",
      "这是一个有效的身份证号码： 459866202002151872\n"
     ]
    }
   ],
   "source": [
    "import re\n",
    "pattern = re.compile(r'^(https?:\\/\\/)?([\\da-z.-]+)\\.([a-z.]{2,6})([\\/\\w .-])\\/?$')\n",
    "def is_url(url):\n",
    "    if pattern.match(url):\n",
    "        print(\"这是一个有效的InternetURL:\",url)\n",
    "    else:\n",
    "        print(\"这是一个无效的InternetURL:\", url)\n",
    "\n",
    "is_url(\"3.com.-\")\n",
    "is_url(\"thisisaurl\")\n",
    "is_url(\"www.baidutaobao.com\")\n",
    "\n",
    "# 匹配首尾空白字符的正则表达式\n",
    "pattern = re.compile(r'^\\s|\\s$')\n",
    "def has_blank(blank):\n",
    "    if pattern.search(blank):\n",
    "        print(\"前或后有空白字符\",blank)\n",
    "    else:\n",
    "        print(\"前或后都没有空白字符\",blank)\n",
    "\n",
    "has_blank(\"<span>01</span>\")\n",
    "has_blank(\" text \")\n",
    "has_blank(\" string\")\n",
    "\n",
    "# 账号是否合法\n",
    "pattern = re.compile(r'^[a-zA-Z][a-zA-Z0-9_]{4,15}$')\n",
    "def is_user(username):\n",
    "    if pattern.search(username):\n",
    "        print(\"这是一个有效的账户名：\",username)\n",
    "    else:\n",
    "        print(\"这是一个无效的账户名：\",username)\n",
    "\n",
    "is_user(\"01_kuaixue\")\n",
    "is_user(\"huawei-0912\")\n",
    "is_user(\"xuetang_01\")\n",
    "\n",
    "# 一年的12月\n",
    "pattern = re.compile(r'^(0?[1-9]|1[0-2])$')\n",
    "def is_month(month):\n",
    "    if pattern.match(month):\n",
    "        print(\"这是一个有效的月份：\",month)\n",
    "    else:\n",
    "        print(\"这是一个无效的月份：\",month)\n",
    "\n",
    "is_month(\"03\")\n",
    "is_month(\"2\")\n",
    "is_month(\"18\")\n",
    "\n",
    "# 18位身份证号码(可识别出生年月日是否正常)\n",
    "pattern = re.compile(r'^(\\d{6})(19[5-9][0-9]|20[0-1][0-9]|2020)(0[1-9]|1[0-2])([0-2][0-9]|3[0-1])(\\d{3}([0-9xX]))$')\n",
    "def is_idcard(idcard):\n",
    "    if pattern.match(idcard):\n",
    "        print(\"这是一个有效的身份证号码：\",idcard)\n",
    "    else:\n",
    "        print(\"这是一个无效的身份证号码：\",idcard)\n",
    "\n",
    "is_idcard(\"130730199702110635\")\n",
    "is_idcard(\"411624200513191716\")\n",
    "is_idcard(\"459866202002151872\")"
   ]
  },
  {
   "cell_type": "code",
   "execution_count": 5,
   "metadata": {},
   "outputs": [
    {
     "name": "stdout",
     "output_type": "stream",
     "text": [
      "[False, False, True, True, True]\n",
      "[63 64 65]\n"
     ]
    }
   ],
   "source": [
    "import numpy as np\n",
    "\n",
    "arr = np.array([61, 62, 63, 64, 65])\n",
    "# 创建一个空列表\n",
    "filter_arr = []\n",
    "# 遍历 arr 中的每个元素\n",
    "for element in arr:\n",
    "  # 如果元素大于 62，则将值设置为 True，否则为 False：\n",
    "  if element > 62:\n",
    "    filter_arr.append(True)\n",
    "  else:\n",
    "    filter_arr.append(False)\n",
    "newarr = arr[filter_arr]\n",
    "\n",
    "print(filter_arr)\n",
    "print(newarr)"
   ]
  },
  {
   "cell_type": "code",
   "execution_count": 6,
   "metadata": {},
   "outputs": [
    {
     "name": "stdin",
     "output_type": "stream",
     "text": [
      "\n",
      "请输入\n",
      "依次输入，输入quit结束 1\n",
      "\n",
      "请输入\n",
      "依次输入，输入quit结束 2\n",
      "\n",
      "请输入\n",
      "依次输入，输入quit结束 d\n",
      "\n",
      "请输入\n",
      "依次输入，输入quit结束 quit\n"
     ]
    },
    {
     "name": "stdout",
     "output_type": "stream",
     "text": [
      "abc：['1', '2', 'd']\n"
     ]
    }
   ],
   "source": [
    "prompt=\"\\n请输入\"\n",
    "prompt+=\"\\n依次输入，输入quit结束\"\n",
    "messages=[]\n",
    "while True:\n",
    "    message=input(prompt)\n",
    "    if message==\"quit\":\n",
    "        break\n",
    "    else:\n",
    "        messages.append(message)\n",
    "print(\"abc：\"+str(messages))"
   ]
  },
  {
   "cell_type": "code",
   "execution_count": 7,
   "metadata": {},
   "outputs": [
    {
     "name": "stdin",
     "output_type": "stream",
     "text": [
      "\n",
      "请输入你的年龄 18\n",
      "\n",
      "请输入你的年龄 20\n",
      "\n",
      "请输入你的年龄 12\n"
     ]
    },
    {
     "ename": "KeyboardInterrupt",
     "evalue": "Interrupted by user",
     "output_type": "error",
     "traceback": [
      "\u001b[1;31m---------------------------------------------------------------------------\u001b[0m",
      "\u001b[1;31mKeyboardInterrupt\u001b[0m                         Traceback (most recent call last)",
      "\u001b[1;32m<ipython-input-7-b7e78575168c>\u001b[0m in \u001b[0;36m<module>\u001b[1;34m\u001b[0m\n\u001b[0;32m      1\u001b[0m \u001b[0mage\u001b[0m\u001b[1;33m=\u001b[0m\u001b[1;34m\"\"\u001b[0m\u001b[1;33m\u001b[0m\u001b[1;33m\u001b[0m\u001b[0m\n\u001b[0;32m      2\u001b[0m \u001b[1;32mwhile\u001b[0m \u001b[0mage\u001b[0m\u001b[1;33m!=\u001b[0m\u001b[1;34m\"*\"\u001b[0m\u001b[1;33m:\u001b[0m\u001b[1;33m\u001b[0m\u001b[1;33m\u001b[0m\u001b[0m\n\u001b[1;32m----> 3\u001b[1;33m     \u001b[0mage\u001b[0m\u001b[1;33m=\u001b[0m\u001b[0minput\u001b[0m\u001b[1;33m(\u001b[0m\u001b[1;34m\"\\n请输入你的年龄\"\u001b[0m\u001b[1;33m)\u001b[0m\u001b[1;33m\u001b[0m\u001b[1;33m\u001b[0m\u001b[0m\n\u001b[0m\u001b[0;32m      4\u001b[0m     \u001b[1;32mif\u001b[0m \u001b[0mage\u001b[0m\u001b[1;33m!=\u001b[0m\u001b[1;34m\"*\"\u001b[0m\u001b[1;33m:\u001b[0m\u001b[1;33m\u001b[0m\u001b[1;33m\u001b[0m\u001b[0m\n\u001b[0;32m      5\u001b[0m         \u001b[0mage\u001b[0m\u001b[1;33m=\u001b[0m\u001b[0mint\u001b[0m\u001b[1;33m(\u001b[0m\u001b[0mage\u001b[0m\u001b[1;33m)\u001b[0m\u001b[1;33m\u001b[0m\u001b[1;33m\u001b[0m\u001b[0m\n",
      "\u001b[1;32mD:\\Users\\dell\\anaconda3\\lib\\site-packages\\ipykernel\\kernelbase.py\u001b[0m in \u001b[0;36mraw_input\u001b[1;34m(self, prompt)\u001b[0m\n\u001b[0;32m    858\u001b[0m                 \u001b[1;34m\"raw_input was called, but this frontend does not support input requests.\"\u001b[0m\u001b[1;33m\u001b[0m\u001b[1;33m\u001b[0m\u001b[0m\n\u001b[0;32m    859\u001b[0m             )\n\u001b[1;32m--> 860\u001b[1;33m         return self._input_request(str(prompt),\n\u001b[0m\u001b[0;32m    861\u001b[0m             \u001b[0mself\u001b[0m\u001b[1;33m.\u001b[0m\u001b[0m_parent_ident\u001b[0m\u001b[1;33m,\u001b[0m\u001b[1;33m\u001b[0m\u001b[1;33m\u001b[0m\u001b[0m\n\u001b[0;32m    862\u001b[0m             \u001b[0mself\u001b[0m\u001b[1;33m.\u001b[0m\u001b[0m_parent_header\u001b[0m\u001b[1;33m,\u001b[0m\u001b[1;33m\u001b[0m\u001b[1;33m\u001b[0m\u001b[0m\n",
      "\u001b[1;32mD:\\Users\\dell\\anaconda3\\lib\\site-packages\\ipykernel\\kernelbase.py\u001b[0m in \u001b[0;36m_input_request\u001b[1;34m(self, prompt, ident, parent, password)\u001b[0m\n\u001b[0;32m    902\u001b[0m             \u001b[1;32mexcept\u001b[0m \u001b[0mKeyboardInterrupt\u001b[0m\u001b[1;33m:\u001b[0m\u001b[1;33m\u001b[0m\u001b[1;33m\u001b[0m\u001b[0m\n\u001b[0;32m    903\u001b[0m                 \u001b[1;31m# re-raise KeyboardInterrupt, to truncate traceback\u001b[0m\u001b[1;33m\u001b[0m\u001b[1;33m\u001b[0m\u001b[1;33m\u001b[0m\u001b[0m\n\u001b[1;32m--> 904\u001b[1;33m                 \u001b[1;32mraise\u001b[0m \u001b[0mKeyboardInterrupt\u001b[0m\u001b[1;33m(\u001b[0m\u001b[1;34m\"Interrupted by user\"\u001b[0m\u001b[1;33m)\u001b[0m \u001b[1;32mfrom\u001b[0m \u001b[1;32mNone\u001b[0m\u001b[1;33m\u001b[0m\u001b[1;33m\u001b[0m\u001b[0m\n\u001b[0m\u001b[0;32m    905\u001b[0m             \u001b[1;32mexcept\u001b[0m \u001b[0mException\u001b[0m \u001b[1;32mas\u001b[0m \u001b[0me\u001b[0m\u001b[1;33m:\u001b[0m\u001b[1;33m\u001b[0m\u001b[1;33m\u001b[0m\u001b[0m\n\u001b[0;32m    906\u001b[0m                 \u001b[0mself\u001b[0m\u001b[1;33m.\u001b[0m\u001b[0mlog\u001b[0m\u001b[1;33m.\u001b[0m\u001b[0mwarning\u001b[0m\u001b[1;33m(\u001b[0m\u001b[1;34m\"Invalid Message:\"\u001b[0m\u001b[1;33m,\u001b[0m \u001b[0mexc_info\u001b[0m\u001b[1;33m=\u001b[0m\u001b[1;32mTrue\u001b[0m\u001b[1;33m)\u001b[0m\u001b[1;33m\u001b[0m\u001b[1;33m\u001b[0m\u001b[0m\n",
      "\u001b[1;31mKeyboardInterrupt\u001b[0m: Interrupted by user"
     ]
    }
   ],
   "source": [
    "age=\"\"\n",
    "while age!=\"*\":\n",
    "    age=input(\"\\n请输入你的年龄\")\n",
    "    if age!=\"*\":\n",
    "        age=int(age)\n",
    "        if age<3:\n",
    "            price=0\n",
    "        elif age<12:\n",
    "            price=10\n",
    "        else:\n",
    "            price=15\n",
    "    else:\n",
    "        break\n",
    "print(price)"
   ]
  },
  {
   "cell_type": "code",
   "execution_count": 9,
   "metadata": {},
   "outputs": [
    {
     "name": "stdout",
     "output_type": "stream",
     "text": [
      "2.4.0\n",
      "2.4.0\n"
     ]
    }
   ],
   "source": [
    "import tensorflow as tf\n",
    "from tensorflow.keras import layers\n",
    "print(tf.__version__)\n",
    "print(tf.keras.__version__)"
   ]
  },
  {
   "cell_type": "code",
   "execution_count": 12,
   "metadata": {},
   "outputs": [],
   "source": [
    "layers.Dense(32, activation='sigmoid')\n",
    "layers.Dense(32, activation=tf.sigmoid)\n",
    "layers.Dense(32, kernel_initializer='orthogonal')\n",
    " # kernel_initializer 和 bias_initializer：创建层权重（核和偏差）的初始化方案\n",
    "layers.Dense(32, kernel_initializer=tf.keras.initializers.glorot_normal)\n",
    "# kernel_regularizer 和 bias_regularizer：应用层权重（核和偏差）的正则化方案，例如 L1 或 L2 正则化\n",
    "layers.Dense(32, kernel_regularizer=tf.keras.regularizers.l2(0.01))\n",
    "layers.Dense(32, kernel_regularizer=tf.keras.regularizers.l1(0.01))\n",
    "\n",
    "model = tf.keras.Sequential()\n",
    "model.add(layers.Dense(32, activation='relu'))\n",
    "model.add(layers.Dense(32, activation='relu'))\n",
    "model.add(layers.Dense(10, activation='softmax'))\n",
    "model.compile(optimizer=tf.keras.optimizers.Adam(0.001),\n",
    "             loss=tf.keras.losses.categorical_crossentropy,\n",
    "             metrics=[tf.keras.metrics.categorical_accuracy]) # 设置训练流程"
   ]
  },
  {
   "cell_type": "code",
   "execution_count": 16,
   "metadata": {},
   "outputs": [
    {
     "name": "stdout",
     "output_type": "stream",
     "text": [
      "Epoch 1/5\n",
      "10/10 [==============================] - 0s 10ms/step - loss: 164.2577 - categorical_accuracy: 0.0960 - val_loss: 168.6264 - val_categorical_accuracy: 0.1000\n",
      "Epoch 2/5\n",
      "10/10 [==============================] - 0s 5ms/step - loss: 189.0944 - categorical_accuracy: 0.0960 - val_loss: 193.1175 - val_categorical_accuracy: 0.0750\n",
      "Epoch 3/5\n",
      "10/10 [==============================] - 0s 5ms/step - loss: 215.8437 - categorical_accuracy: 0.0860 - val_loss: 219.2402 - val_categorical_accuracy: 0.0800\n",
      "Epoch 4/5\n",
      "10/10 [==============================] - 0s 5ms/step - loss: 243.8404 - categorical_accuracy: 0.0870 - val_loss: 246.2543 - val_categorical_accuracy: 0.0850\n",
      "Epoch 5/5\n",
      "10/10 [==============================] - 0s 5ms/step - loss: 274.2956 - categorical_accuracy: 0.0840 - val_loss: 275.5625 - val_categorical_accuracy: 0.0800\n"
     ]
    },
    {
     "data": {
      "text/plain": [
       "<tensorflow.python.keras.callbacks.History at 0x291c70d8b80>"
      ]
     },
     "execution_count": 16,
     "metadata": {},
     "output_type": "execute_result"
    }
   ],
   "source": [
    "# 输入numpy数据并训练\n",
    "import numpy as np\n",
    "\n",
    "train_x = np.random.random((1000, 72))\n",
    "train_y = np.random.random((1000, 10))\n",
    "val_x = np.random.random((200, 72))\n",
    "val_y = np.random.random((200, 10))\n",
    "model.fit(train_x, train_y, epochs=5, batch_size=100,\n",
    "          validation_data=(val_x, val_y))"
   ]
  },
  {
   "cell_type": "code",
   "execution_count": 17,
   "metadata": {},
   "outputs": [
    {
     "name": "stdout",
     "output_type": "stream",
     "text": [
      "3 4 5 6 7 1 2 "
     ]
    }
   ],
   "source": [
    "def leftRotate(arr, d, n):\n",
    "    for i in range(gcd(d,n)):       \n",
    "        temp = arr[i]\n",
    "        j = i\n",
    "        while 1:\n",
    "            k = j + d\n",
    "            if k >= n:\n",
    "                k = k - n\n",
    "            if k == i:\n",
    "                break\n",
    "            arr[j] = arr[k]\n",
    "            j = k\n",
    "        arr[j] = temp\n",
    "\n",
    "def printArray(arr, size):\n",
    "    for i in range(size):\n",
    "        print (\"%d\" % arr[i], end=\" \")\n",
    "\n",
    "def gcd(a, b):\n",
    "    if b == 0:\n",
    "        return a;\n",
    "    else:\n",
    "        return gcd(b, a%b)\n",
    "\n",
    "arr = [1, 2, 3, 4, 5, 6, 7]\n",
    "leftRotate(arr, 2, 7)\n",
    "printArray(arr, 7)"
   ]
  },
  {
   "cell_type": "code",
   "execution_count": 19,
   "metadata": {},
   "outputs": [
    {
     "data": {
      "image/png": "[encoded data removed]",
      "text/plain": [
       "<Figure size 432x288 with 1 Axes>"
      ]
     },
     "metadata": {
      "needs_background": "light"
     },
     "output_type": "display_data"
    }
   ],
   "source": [
    "import numpy as np\n",
    "import matplotlib.pyplot as plt\n",
    "X = np.linspace(0, 2*np.pi, 32, endpoint=True)\n",
    "C,S = np.cos(X), np.sin(X)\n",
    "plt.plot(X, C, 'go--')\n",
    "plt.plot(X,S, color='blue', marker='o', linestyle='dashed')\n",
    "# 一个是fmt，一个是线属性，但是它们的格式是一样的\n",
    "plt.show()"
   ]
  },
  {
   "cell_type": "code",
   "execution_count": 43,
   "metadata": {},
   "outputs": [
    {
     "name": "stdout",
     "output_type": "stream",
     "text": [
      "郑岳峰申论课前热身与整体内容介绍1这节课弹幕最多的是：666666，一共有104条\n",
      "郑岳峰申论课前热身与整体内容介绍2这节课弹幕最多的是：666666，一共有27条\n",
      "申论01-1总论&概括题及材料阅读三大主线（上）这节课弹幕最多的是：冲冲冲，一共有120条\n",
      "申论01-2总论&概括题及材料阅读三大主线（上）这节课弹幕最多的是：对策，一共有292条\n",
      "申论01-3总论&概括题及材料阅读三大主线（上）这节课弹幕最多的是：对策，一共有210条\n",
      "申论01-4总论&概括题及材料阅读三大主线（上）这节课弹幕最多的是：相关人士的看法，一共有122条\n",
      "申论01-5总论&概括题及材料阅读三大主线（上)这节课弹幕最多的是：二选一，一共有43条\n",
      "申论02-1概括题及材料阅读三大主线（下）这节课弹幕最多的是：调查统计，一共有102条\n",
      "申论02-2概括题及材料阅读三大主线（下）这节课弹幕最多的是：见招拆招，一共有121条\n",
      "申论02-3概括题及材料阅读三大主线（下）这节课弹幕最多的是：洞穿，一共有259条\n",
      "申论02-4概括题及材料阅读三大主线（下）这节课弹幕最多的是：秘书，一共有134条\n",
      "申论02-5概括题及材料阅读三大主线（下）这节课弹幕最多的是：爽，一共有70条\n",
      "申论02-6《专项补充：确定型概括、开放型概括及总括句、合并、分类问题》这节课弹幕最多的是：自然而然，顺势而为，一共有98条\n",
      "申论03-1申论文章三种文体的框架结构与理论素养这节课弹幕最多的是：二选一，一共有47条\n",
      "申论03-2申论文章三种文体的框架结构与理论素养这节课弹幕最多的是：议论文，一共有27条\n",
      "申论03-3申论文章三种文体的框架结构与理论素养这节课弹幕最多的是：求深不求全，一共有127条\n",
      "申论03-4申论文章三种文体的框架结构与理论素养这节课弹幕最多的是：中心主题，一共有82条\n",
      "申论03-5申论文章三种文体的框架结构与理论素养这节课弹幕最多的是：但是，一共有49条\n",
      "申论03-6申论文章三种文体的框架结构与理论素养这节课弹幕最多的是：材料，一共有32条\n",
      "申论04-1策论文的理论应用：15联考真题这节课弹幕最多的是：中心主题，一共有172条\n",
      "申论04-2策论文的理论应用：15联考真题这节课弹幕最多的是：大文章强调有选择性的利用材料，一共有221条\n",
      "申论04-3策论文的理论应用：15联考真题这节课弹幕最多的是：思想，一共有141条\n",
      "申论04-4策论文的理论应用：15联考真题这节课弹幕最多的是：枪扎一条线，一共有387条\n",
      "申论05-1策论文理论应用2：2018多省联考真题A卷这节课弹幕最多的是：俯瞰，一共有235条\n",
      "申论05-2 策论文理论应用2：2018多省联考真题A卷这节课弹幕最多的是：绑架，一共有104条\n",
      "申论05-3 策论文理论应用2：2018多省联考真题A卷这节课弹幕最多的是：举一反三，一共有184条\n",
      "申论05-4 策论文理论应用2：2018多省联考真题A卷这节课弹幕最多的是：用思想穿透黑暗，一共有83条\n",
      "申论06-1如何对待大文章题干中的A与B这节课弹幕最多的是：中心主题，一共有164条\n",
      "申论06-2如何对待大文章题干中的A与B这节课弹幕最多的是：公共责任，一共有112条\n",
      "申论06-3如何对待大文章题干中的A与B这节课弹幕最多的是：税收、社会保障、转移支付，一共有38条\n",
      "申论06-4如何对待大文章题干中的A与B这节课弹幕最多的是：枪扎一条线，一共有136条\n",
      "申论07-1概括题和大文章之间的关系：2017联考真题这节课弹幕最多的是：意义对策，一共有18条\n",
      "申论07-2概括题和大文章之间的关系：2017联考真题这节课弹幕最多的是：能合就合，一共有64条\n",
      "申论07-3概括题和大文章之间的关系：2017联考真题这节课弹幕最多的是：大文章强调有选择性的挑选材料，一共有40条\n",
      "申论07-4概括题和大文章之间的关系：2017联考真题这节课弹幕最多的是：从一而终，一共有199条\n",
      "申论08-1如何确定文章中心主题：2015浙江申论真题这节课弹幕最多的是：666666，一共有25条\n",
      "申论08-2如何确定文章中心主题：2015浙江申论真题这节课弹幕最多的是：能合就合，一共有27条\n",
      "申论08-3如何确定文章中心主题：2015浙江申论真题这节课弹幕最多的是：666，一共有34条\n",
      "申论08-4如何确定文章中心主题：2015浙江申论真题这节课弹幕最多的是：中心主题，一共有98条\n",
      "申论08-5如何确定文章中心主题：2015浙江申论真题这节课弹幕最多的是：经世致用，一共有171条\n",
      "申论09-1政论文的思路框架与理论素养：2014广东真题这节课弹幕最多的是：66666，一共有17条\n",
      "申论09-2政论文的思路框架与理论素养：2014广东真题这节课弹幕最多的是：意义，一共有60条\n",
      "申论09-3政论文的思路框架与理论素养：2014广东真题这节课弹幕最多的是：在此背景下，一共有152条\n",
      "申论09-4政论文的思路框架与理论素养：2014广东真题这节课弹幕最多的是：思想底蕴，一共有34条\n",
      "申论09-5政论文的思路框架与理论素养：2014广东真题这节课弹幕最多的是：666，一共有13条\n",
      "申论10-1政论文的理论应用：2019多省联考真题这节课弹幕最多的是：总论点，一共有68条\n",
      "申论10-2政论文的理论应用：2019多省联考真题这节课弹幕最多的是：画龙点睛，一共有50条\n",
      "申论10-3政论文的理论应用：2019多省联考真题这节课弹幕最多的是：思想，一共有39条\n",
      "申论10-4政论文的理论应用：2019多省联考真题这节课弹幕最多的是：在此背景下，一共有70条\n",
      "申论11-1如何确定文章中心主题（下）：18联考真题B卷这节课弹幕最多的是：66666，一共有17条\n",
      "申论11-2如何确定文章中心主题（下）：18联考真题B卷这节课弹幕最多的是：技术创新，一共有10条\n",
      "申论11-3如何确定文章中心主题（下）：18联考真题B卷这节课弹幕最多的是：脚踩大地，仰望星空，一共有34条\n",
      "申论11-4如何确定文章中心主题（下）：18联考真题B卷这节课弹幕最多的是：画龙点睛，一共有51条\n",
      "申论12-1政论文的理论应用：2019公安联考真题这节课弹幕最多的是：666666，一共有13条\n",
      "申论12-2政论文的理论应用：2019公安联考真题这节课弹幕最多的是：人剑合一，一共有61条\n",
      "申论12-3政论文的理论应用：2019公安联考真题这节课弹幕最多的是：政治化写作，一共有24条\n",
      "申论13-1如何对待文章题干中的A与B：2017广东真题这节课弹幕最多的是：666666，一共有21条\n",
      "申论13-2如何对待文章题干中的A与B：2017广东真题这节课弹幕最多的是：收入分配，一共有34条\n",
      "申论13-3如何对待文章题干中的A与B：2017广东真题这节课弹幕最多的是：梳理，一共有13条\n",
      "申论13-4如何对待文章题干中的A与B：2017广东真题这节课弹幕最多的是：不要让自己成为群氓中的一员，一共有32条\n",
      "申论14-1政论文的巩固深化：2020国考B卷这节课弹幕最多的是：666666，一共有15条\n",
      "申论14-2政论文的巩固深化：2020国考B卷这节课弹幕最多的是：思想，一共有27条\n",
      "申论14-3政论文的巩固深化：2020国考B卷这节课弹幕最多的是：哈哈哈哈哈，一共有5条\n",
      "申论14-4政论文的巩固深化：2020国考B卷这节课弹幕最多的是：上士闻道，勤而行之，一共有54条\n",
      "申论15-1对策论文的回顾巩固：2019广东真题这节课弹幕最多的是：调查统计，一共有32条\n",
      "申论15-2对策论文的回顾巩固：2019广东真题这节课弹幕最多的是：意义，一共有5条\n",
      "申论15-3对策论文的回顾巩固：2019广东真题这节课弹幕最多的是：文意，一共有5条\n",
      "申论15-4对策论文的回顾巩固：2019广东真题这节课弹幕最多的是：枪扎一条线，一共有39条\n",
      "申论16-1评论型小文章之观点评论这节课弹幕最多的是：一分为二，辩证理性，一共有10条\n",
      "申论16-2评论型小文章之观点评论这节课弹幕最多的是：调查统计，一共有24条\n",
      "申论16-3评论型小文章之观点评论这节课弹幕最多的是：忽略了，没有认识到，一共有6条\n",
      "申论16-4评论型小文章之观点评论这节课弹幕最多的是：哈哈哈哈，一共有11条\n",
      "申论17-1评论型小文章之现象评论这节课弹幕最多的是：透过现象看本质，一共有15条\n",
      "申论17-2评论型小文章之现象评论这节课弹幕最多的是：用严密的逻辑编织材料，一共有31条\n",
      "申论17-3评论型小文章之现象评论这节课弹幕最多的是：谢谢老师，一共有11条\n",
      "申论18-1 提出小对策题这节课弹幕最多的是：提出，一共有131条\n",
      "申论18-2提出小对策题这节课弹幕最多的是：中心主题，一共有61条\n",
      "申论18-3 提出小对策题这节课弹幕最多的是：格局，一共有11条\n",
      "申论18-4 提出小对策题这节课弹幕最多的是：基层管理者，一共有10条\n",
      "申论19-1公文题（上，倡议书宣传稿公开信）这节课弹幕最多的是：提纲，一共有24条\n",
      "申论19-2公文题（上，倡议书宣传稿公开信）这节课弹幕最多的是：内容为王，形式为辅，一共有47条\n",
      "申论19-3公文题（上，倡议书宣传稿公开信）这节课弹幕最多的是：概括题，一共有44条\n",
      "申论19-4公文题（上，倡议书宣传稿公开信）这节课弹幕最多的是：严密的逻辑，一共有28条\n",
      "申论20-1公文题（下，讲话稿发言稿及提纲）这节课弹幕最多的是：66666，一共有21条\n",
      "申论20-2公文题（下，讲话稿发言稿及提纲）这节课弹幕最多的是：别骂了别骂了，一共有12条\n",
      "申论20-3公文题（下，讲话稿发言稿及提纲）这节课弹幕最多的是：提纲只是一种呈现方式，一共有18条\n",
      "申论20-4公文题（下，讲话稿发言稿及提纲）这节课弹幕最多的是：问题，一共有20条\n",
      "申论21-1公文题与评论型小文章之综合这节课弹幕最多的是：666666，一共有19条\n",
      "申论21-2公文题与评论型小文章之综合这节课弹幕最多的是：透过现象看本质，一共有9条\n",
      "申论21-3公文题与评论型小文章之综合这节课弹幕最多的是：材料，一共有27条\n",
      "申论21-4公文题与评论型小文章之综合这节课弹幕最多的是：小文章，一共有20条\n",
      "申论22-1语句解释题（上）这节课弹幕最多的是：内容为王，一共有24条\n",
      "申论22-2语句解释题（上）这节课弹幕最多的是：问题，一共有12条\n",
      "申论22-3语句解释题（上）这节课弹幕最多的是：人剑合一，一共有22条\n",
      "申论22-4语句解释题（上）这节课弹幕最多的是：人剑合一，一共有42条\n",
      "申论23-1语句解释题（下）&社会热点问题这节课弹幕最多的是：概括题，一共有36条\n",
      "申论23-2语句解释题（下）&社会热点问题这节课弹幕最多的是：缺乏，一共有10条\n",
      "申论23-3语句解释题（下）&社会热点问题这节课弹幕最多的是：冲冲冲，一共有4条\n",
      "申论23-4语句解释题（下）&社会热点问题这节课弹幕最多的是：谢谢老师，一共有98条\n",
      "2015广东申论真题大文章这节课弹幕最多的是：6666，一共有3条\n",
      "7.25联考申论（河南卷）这节课弹幕最多的是：有啊，一共有2条\n",
      "2013广东申论真题大文章这节课弹幕最多的是：粉笔应该就是拆分开的，，，，，一共有1条\n",
      "开放型概括题专项这节课弹幕最多的是：冲冲冲，一共有2条\n",
      "2020山东申论A卷这节课弹幕最多的是：枪扎一条线，一共有5条\n",
      "2019联考申论C卷这节课弹幕最多的是：谢谢老师！，一共有2条\n"
     ]
    }
   ],
   "source": [
    "import requests\n",
    "import re\n",
    "import os\n",
    "import time\n",
    "###弹幕存储路径\n",
    "dirName=\"申论弹幕\"\n",
    "if not os.path.exists(dirName):\n",
    "    os.mkdir(dirName)\n",
    "\n",
    "headers = {\n",
    "    'User-Agent': 'Mozilla/5.0 (Windows NT 10.0; Win64; x64) AppleWebKit/537.36 (KHTML, like Gecko) Chrome/87.0.4280.88 Safari/537.36'\n",
    "}\n",
    "url = 'https://www.bilibili.com/video/BV1W7411t7fy'\n",
    "##此变量用于改变文件名\n",
    "count = 0\n",
    "###爬取106节课的弹幕数据\n",
    "for each in range(1,106):\n",
    "    params = {\n",
    "        'p': str(each)\n",
    "    }\n",
    "    ###爬取原网址以获得oid\n",
    "    response = requests.get(url=url,headers=headers,params=params)\n",
    "    response.encoding = 'utf-8'\n",
    "    page_text = response.text\n",
    "    ##获取oid\n",
    "    oid = re.findall(r'\"base_url\":\".*?upgcxcode/\\d+/\\d+/(.*?)/.*?m4s.*?\"',page_text,re.S)[0]\n",
    "    ##获取这节课的名称\n",
    "    name = re.findall(r'\"part\":.*?\"(.*?)\",',page_text,re.S)[count]\n",
    "    ###爬取弹幕数据\n",
    "    content_url = 'https://api.bilibili.com/x/v1/dm/list.so?oid='+str(oid)\n",
    "    content = requests.get(url=content_url,headers= headers)\n",
    "    content.encoding = 'utf-8'\n",
    "    content_text = content.text\n",
    "    ###弹幕数据清理\n",
    "    real_content = re.findall(r'<.*?d.*?p.*?=.*?\".*?\".*?>(.*?)</d>',content_text,re.S)\n",
    "    ###存储弹幕数据\n",
    "    content_path = dirName + '/' + name + '.txt'\n",
    "    with open(content_path,'w',encoding = 'utf-8') as fp:\n",
    "        for cont in real_content:\n",
    "            fp.write(cont)\n",
    "            ###使数据更美观\n",
    "            fp.write('\\n')\n",
    "#####分析每一节课弹幕最多的数据\n",
    "###把数据存储为字典格式\n",
    "    content_dict = {}\n",
    "    for every in real_content:\n",
    "        if every not in content_dict:\n",
    "            content_dict[every] = 1\n",
    "        else:\n",
    "            content_dict[every] += 1\n",
    "    ###获取弹幕数最多的数据\n",
    "    max = list(content_dict.items())[0][1]\n",
    "    for i in list(content_dict.items()):\n",
    "        if i[1] >= max:\n",
    "            max = i[1]\n",
    "            content_max = i[0]\n",
    "    print(name+'这节课'+'弹幕最多的是：'+content_max+'，'+'一共有'+str(max)+'条')\n",
    "    ###防止爬取速度过快\n",
    "    time.sleep(0.5)\n",
    "    count += 1"
   ]
  },
  {
   "cell_type": "code",
   "execution_count": 42,
   "metadata": {},
   "outputs": [
    {
     "name": "stdout",
     "output_type": "stream",
     "text": [
      "       2020年12月\n",
      "Su\tM\tTu\tW\tTh\tF\tSa\n",
      "\t\t1\t2\t3\t4\t5\t\n",
      "6\t7\t8\t9\t10\t11\t12\t\n",
      "13\t14\t15\t16\t17\t18\t19\t\n",
      "20\t21\t22\t23\t24\t25\t26\t\n",
      "27\t28\t29\t30\t31\t\n",
      "---------------------------\n",
      "       2017年2月\n",
      "Su\tM\tTu\tW\tTh\tF\tSa\n",
      "\t\t\t1\t2\t3\t4\t\n",
      "5\t6\t7\t8\t9\t10\t11\t\n",
      "12\t13\t14\t15\t16\t17\t18\t\n",
      "19\t20\t21\t22\t23\t24\t25\t\n",
      "26\t27\t28\t\n",
      "---------------------------\n",
      "       2016年2月\n",
      "Su\tM\tTu\tW\tTh\tF\tSa\n",
      "\t1\t2\t3\t4\t5\t6\t\n",
      "7\t8\t9\t10\t11\t12\t13\t\n",
      "14\t15\t16\t17\t18\t19\t20\t\n",
      "21\t22\t23\t24\t25\t26\t27\t\n",
      "28\t29\t\n",
      "---------------------------\n"
     ]
    }
   ],
   "source": [
    "def day(y, m, d):#计算y年m月d日是星期几\n",
    "    y0 = y - (14 - m)//12\n",
    "    x = y0 + y0//4 - y0//100 + y0 //400\n",
    "    m0 = m + 12*((14 - m)//12) - 2\n",
    "    d0 = (d + x + 31*m0//12) % 7\n",
    "    return d0       #注意，周日是0\n",
    "\n",
    "def isLeapYear(year): #判断year年是否闰年\n",
    "    isLeapYear = True       \n",
    "    if year % 4 ==0:       #整除可不是等于0，天\n",
    "        if year % 100 ==0:\n",
    "            if year % 400 ==0:\n",
    "                isLeapYear = True\n",
    "            else:\n",
    "                isLeapYear = False\n",
    "        else:\n",
    "\n",
    "            isLeapYear = True      \n",
    "    else:\n",
    "        isLeapYear = False      #注意是一个等号还是两个等号\n",
    "    return isLeapYear\n",
    "def calendar(y, m): #打印y年m月日历\n",
    "    print('       {}年{}月'.format(y,m))\n",
    "    print('Su\\tM\\tTu\\tW\\tTh\\tF\\tSa')\n",
    "    month_1 = [1,3,5,7,8,10,12]\n",
    "    month_2 = [4,6,9,11]\n",
    "    momth_number = 0\n",
    "    if isLeapYear(y):           #计算这个月有多少天\n",
    "        if m == 2:\n",
    "          month_number = 29\n",
    "        else:\n",
    "            if m in month_1:\n",
    "                month_number = 31\n",
    "            if m in month_2:\n",
    "                month_number = 30\n",
    "    else:\n",
    "        if m == 2:\n",
    "            month_number = 28\n",
    "        else:\n",
    "            if m in month_1:\n",
    "                month_number = 31\n",
    "            if m in month_2:\n",
    "                month_number = 30 \n",
    "    table = day(y, m, 1)       #空格     排列输出\n",
    "\n",
    "    for j in range (1,month_number + 1): #注意加一\n",
    "        if j == 1:\n",
    "            print(\"\\t\" * table,end = '')\n",
    "        j = str(j)\n",
    "        print(j + \"\\t\",end = '')\n",
    "        j = eval(j)\n",
    "        if (j + day(y, m, 1)) % 7 == 0:\n",
    "            print(\"\\r\")\n",
    "    print(\"\\r\")\n",
    "\n",
    "for (y,m) in [(2020,12), (2017,2), (2016,2)]:\n",
    "        calendar(y, m)\n",
    "        print('---------------------------')"
   ]
  },
  {
   "cell_type": "code",
   "execution_count": null,
   "metadata": {},
   "outputs": [],
   "source": []
  }
 ],
 "metadata": {
  "kernelspec": {
   "display_name": "Python 3",
   "language": "python",
   "name": "python3"
  },
  "language_info": {
   "codemirror_mode": {
    "name": "ipython",
    "version": 3
   },
   "file_extension": ".py",
   "mimetype": "text/x-python",
   "name": "python",
   "nbconvert_exporter": "python",
   "pygments_lexer": "ipython3",
   "version": "3.8.3"
  }
 },
 "nbformat": 4,
 "nbformat_minor": 4
}
