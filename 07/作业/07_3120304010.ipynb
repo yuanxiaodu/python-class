{
 "cells": [
  {
   "cell_type": "code",
   "execution_count": 1,
   "metadata": {},
   "outputs": [
    {
     "name": "stdout",
     "output_type": "stream",
     "text": [
      "Raise base to the power of exponent using recursion...\n"
     ]
    },
    {
     "name": "stdin",
     "output_type": "stream",
     "text": [
      "Enter the base:  de\n"
     ]
    },
    {
     "ename": "ValueError",
     "evalue": "invalid literal for int() with base 10: 'de'",
     "output_type": "error",
     "traceback": [
      "\u001b[1;31m---------------------------------------------------------------------------\u001b[0m",
      "\u001b[1;31mValueError\u001b[0m                                Traceback (most recent call last)",
      "\u001b[1;32m<ipython-input-1-88a65397ea82>\u001b[0m in \u001b[0;36m<module>\u001b[1;34m\u001b[0m\n\u001b[0;32m      6\u001b[0m \u001b[1;32mif\u001b[0m \u001b[0m__name__\u001b[0m \u001b[1;33m==\u001b[0m \u001b[1;34m\"__main__\"\u001b[0m\u001b[1;33m:\u001b[0m\u001b[1;33m\u001b[0m\u001b[1;33m\u001b[0m\u001b[0m\n\u001b[0;32m      7\u001b[0m     \u001b[0mprint\u001b[0m\u001b[1;33m(\u001b[0m\u001b[1;34m\"Raise base to the power of exponent using recursion...\"\u001b[0m\u001b[1;33m)\u001b[0m\u001b[1;33m\u001b[0m\u001b[1;33m\u001b[0m\u001b[0m\n\u001b[1;32m----> 8\u001b[1;33m     \u001b[0mbase\u001b[0m \u001b[1;33m=\u001b[0m \u001b[0mint\u001b[0m\u001b[1;33m(\u001b[0m\u001b[0minput\u001b[0m\u001b[1;33m(\u001b[0m\u001b[1;34m\"Enter the base: \"\u001b[0m\u001b[1;33m)\u001b[0m\u001b[1;33m.\u001b[0m\u001b[0mstrip\u001b[0m\u001b[1;33m(\u001b[0m\u001b[1;33m)\u001b[0m\u001b[1;33m)\u001b[0m\u001b[1;33m\u001b[0m\u001b[1;33m\u001b[0m\u001b[0m\n\u001b[0m\u001b[0;32m      9\u001b[0m     \u001b[0mexponent\u001b[0m \u001b[1;33m=\u001b[0m \u001b[0mint\u001b[0m\u001b[1;33m(\u001b[0m\u001b[0minput\u001b[0m\u001b[1;33m(\u001b[0m\u001b[1;34m\"Enter the exponent: \"\u001b[0m\u001b[1;33m)\u001b[0m\u001b[1;33m.\u001b[0m\u001b[0mstrip\u001b[0m\u001b[1;33m(\u001b[0m\u001b[1;33m)\u001b[0m\u001b[1;33m)\u001b[0m\u001b[1;33m\u001b[0m\u001b[1;33m\u001b[0m\u001b[0m\n\u001b[0;32m     10\u001b[0m     \u001b[0mresult\u001b[0m \u001b[1;33m=\u001b[0m \u001b[0mpower\u001b[0m\u001b[1;33m(\u001b[0m\u001b[0mbase\u001b[0m\u001b[1;33m,\u001b[0m \u001b[0mabs\u001b[0m\u001b[1;33m(\u001b[0m\u001b[0mexponent\u001b[0m\u001b[1;33m)\u001b[0m\u001b[1;33m)\u001b[0m\u001b[1;33m\u001b[0m\u001b[1;33m\u001b[0m\u001b[0m\n",
      "\u001b[1;31mValueError\u001b[0m: invalid literal for int() with base 10: 'de'"
     ]
    }
   ],
   "source": [
    "\n",
    "def power(base: int, exponent: int) -> float:\n",
    "   \n",
    "    return base * power(base, (exponent - 1)) if exponent else 1\n",
    "\n",
    "\n",
    "if __name__ == \"__main__\":\n",
    "    print(\"Raise base to the power of exponent using recursion...\")\n",
    "    base = int(input(\"Enter the base: \").strip())\n",
    "    exponent = int(input(\"Enter the exponent: \").strip())\n",
    "    result = power(base, abs(exponent))\n",
    "    if exponent < 0:  # power() does not properly deal w/ negative exponents\n",
    "        result = 1 / result\n",
    "    print(f\"{base} to the power of {exponent} is {result}\")"
   ]
  },
  {
   "cell_type": "code",
   "execution_count": 2,
   "metadata": {},
   "outputs": [
    {
     "name": "stderr",
     "output_type": "stream",
     "text": [
      "E\n",
      "======================================================================\n",
      "ERROR: C:\\Users\\18810\\AppData\\Roaming\\jupyter\\runtime\\kernel-cece43e0-0278-473d-9b51-f5a158117966 (unittest.loader._FailedTest)\n",
      "----------------------------------------------------------------------\n",
      "AttributeError: module '__main__' has no attribute 'C:\\Users\\18810\\AppData\\Roaming\\jupyter\\runtime\\kernel-cece43e0-0278-473d-9b51-f5a158117966'\n",
      "\n",
      "----------------------------------------------------------------------\n",
      "Ran 1 test in 0.001s\n",
      "\n",
      "FAILED (errors=1)\n"
     ]
    },
    {
     "ename": "SystemExit",
     "evalue": "True",
     "output_type": "error",
     "traceback": [
      "An exception has occurred, use %tb to see the full traceback.\n",
      "\u001b[1;31mSystemExit\u001b[0m\u001b[1;31m:\u001b[0m True\n"
     ]
    },
    {
     "name": "stderr",
     "output_type": "stream",
     "text": [
      "D:\\python\\lib\\site-packages\\IPython\\core\\interactiveshell.py:3351: UserWarning: To exit: use 'exit', 'quit', or Ctrl-D.\n",
      "  warn(\"To exit: use 'exit', 'quit', or Ctrl-D.\", stacklevel=1)\n"
     ]
    }
   ],
   "source": [
    "import math\n",
    "import unittest\n",
    "\n",
    "\n",
    "def prime_check(number: int) -> bool:\n",
    "    \"\"\"Checks to see if a number is a prime.\n",
    "    A number is prime if it has exactly two factors: 1 and itself.\n",
    "    \"\"\"\n",
    "\n",
    "    if 1 < number < 4:\n",
    "        # 2 and 3 are primes\n",
    "        return True\n",
    "    elif number < 2 or not number % 2:\n",
    "        # Negatives, 0, 1 and all even numbers are not primes\n",
    "        return False\n",
    "\n",
    "    odd_numbers = range(3, int(math.sqrt(number) + 1), 2)\n",
    "    return not any(not number % i for i in odd_numbers)\n",
    "\n",
    "\n",
    "class Test(unittest.TestCase):\n",
    "    def test_primes(self):\n",
    "        self.assertTrue(prime_check(2))\n",
    "        self.assertTrue(prime_check(3))\n",
    "        self.assertTrue(prime_check(5))\n",
    "        self.assertTrue(prime_check(7))\n",
    "        self.assertTrue(prime_check(11))\n",
    "        self.assertTrue(prime_check(13))\n",
    "        self.assertTrue(prime_check(17))\n",
    "        self.assertTrue(prime_check(19))\n",
    "        self.assertTrue(prime_check(23))\n",
    "        self.assertTrue(prime_check(29))\n",
    "\n",
    "    def test_not_primes(self):\n",
    "        self.assertFalse(\n",
    "            prime_check(-19),\n",
    "            \"Negative numbers are excluded by definition of prime numbers.\",\n",
    "        )\n",
    "        self.assertFalse(\n",
    "            prime_check(0),\n",
    "            \"Zero doesn't have any positive factors, primes must have exactly two.\",\n",
    "        )\n",
    "        self.assertFalse(\n",
    "            prime_check(1),\n",
    "            \"One only has 1 positive factor, primes must have exactly two.\",\n",
    "        )\n",
    "        self.assertFalse(prime_check(2 * 2))\n",
    "        self.assertFalse(prime_check(2 * 3))\n",
    "        self.assertFalse(prime_check(3 * 3))\n",
    "        self.assertFalse(prime_check(3 * 5))\n",
    "        self.assertFalse(prime_check(3 * 5 * 7))\n",
    "\n",
    "\n",
    "if __name__ == \"__main__\":\n",
    "    unittest.main()"
   ]
  },
  {
   "cell_type": "code",
   "execution_count": 7,
   "metadata": {},
   "outputs": [
    {
     "data": {
      "text/plain": [
       "2"
      ]
     },
     "execution_count": 7,
     "metadata": {},
     "output_type": "execute_result"
    }
   ],
   "source": [
    "1+1\n"
   ]
  },
  {
   "cell_type": "code",
   "execution_count": 11,
   "metadata": {},
   "outputs": [],
   "source": [
    "from __future__ import division, print_function, unicode_literals"
   ]
  },
  {
   "cell_type": "code",
   "execution_count": 12,
   "metadata": {},
   "outputs": [
    {
     "name": "stdout",
     "output_type": "stream",
     "text": [
      "[[17, 15, 4], [10, 12, 9], [11, 13, 18]]\n"
     ]
    }
   ],
   "source": [
    "X = [[12,7,3],\n",
    "    [4 ,5,6],\n",
    "    [7 ,8,9]]\n",
    " \n",
    "Y = [[5,8,1],\n",
    "    [6,7,3],\n",
    "    [4,5,9]]\n",
    " \n",
    "res=[[0,0,0],\n",
    "    [0,0,0],\n",
    "    [0,0,0]]\n",
    "for i in range(len(res)):\n",
    "    for j in range(len(res[0])):\n",
    "        res[i][j]=X[i][j]+Y[i][j]\n",
    "print(res)"
   ]
  },
  {
   "cell_type": "code",
   "execution_count": 13,
   "metadata": {},
   "outputs": [
    {
     "name": "stdin",
     "output_type": "stream",
     "text": [
      "Enter numbers separated by a comma:\n",
      " 23\n"
     ]
    },
    {
     "name": "stdout",
     "output_type": "stream",
     "text": [
      "[(23,)]\n"
     ]
    }
   ],
   "source": [
    "\n",
    "def heaps(arr: list) -> list:\n",
    "   \n",
    "\n",
    "    if len(arr) <= 1:\n",
    "        return [tuple(arr)]\n",
    "\n",
    "    res = []\n",
    "\n",
    "    def generate(k: int, arr: list):\n",
    "        if k == 1:\n",
    "            res.append(tuple(arr[:]))\n",
    "            return\n",
    "\n",
    "        generate(k - 1, arr)\n",
    "\n",
    "        for i in range(k - 1):\n",
    "            if k % 2 == 0:  # k is even\n",
    "                arr[i], arr[k - 1] = arr[k - 1], arr[i]\n",
    "            else:  # k is odd\n",
    "                arr[0], arr[k - 1] = arr[k - 1], arr[0]\n",
    "            generate(k - 1, arr)\n",
    "\n",
    "    generate(len(arr), arr)\n",
    "    return res\n",
    "\n",
    "\n",
    "if __name__ == \"__main__\":\n",
    "    user_input = input(\"Enter numbers separated by a comma:\\n\").strip()\n",
    "    arr = [int(item) for item in user_input.split(\",\")]\n",
    "    print(heaps(arr))"
   ]
  },
  {
   "cell_type": "code",
   "execution_count": 19,
   "metadata": {},
   "outputs": [
    {
     "name": "stdout",
     "output_type": "stream",
     "text": [
      "-0.125\n"
     ]
    }
   ],
   "source": [
    "def actual_power(a: int, b: int):\n",
    "   \n",
    "    if b == 0:\n",
    "        return 1\n",
    "    if (b % 2) == 0:\n",
    "        return actual_power(a, int(b / 2)) * actual_power(a, int(b / 2))\n",
    "    else:\n",
    "        return a * actual_power(a, int(b / 2)) * actual_power(a, int(b / 2))\n",
    "\n",
    "\n",
    "def power(a: int, b: int) -> float:\n",
    "   \n",
    "    if b < 0:\n",
    "        return 1 / actual_power(a, b)\n",
    "    return actual_power(a, b)\n",
    "\n",
    "\n",
    "if __name__ == \"__main__\":\n",
    "    print(power(-2, -3))"
   ]
  },
  {
   "cell_type": "code",
   "execution_count": 20,
   "metadata": {},
   "outputs": [
    {
     "name": "stdout",
     "output_type": "stream",
     "text": [
      "[[121, 73, 149, 59], [83, 37, 61, 43], [151, 99, 207, 81], [72, 56, 108, 36], [121, 73, 149, 59], [83, 37, 61, 43], [151, 99, 207, 81], [72, 56, 108, 36], [121, 73, 149, 59], [51, 33, 55, 37]]\n"
     ]
    }
   ],
   "source": [
    "from __future__ import annotations\n",
    "\n",
    "import math\n",
    "\n",
    "\n",
    "def default_matrix_multiplication(a: list, b: list) -> list:\n",
    "   \n",
    "    if len(a) != 2 or len(a[0]) != 2 or len(b) != 2 or len(b[0]) != 2:\n",
    "        raise Exception(\"Matrices are not 2x2\")\n",
    "    new_matrix = [\n",
    "        [a[0][0] * b[0][0] + a[0][1] * b[1][0], a[0][0] * b[0][1] + a[0][1] * b[1][1]],\n",
    "        [a[1][0] * b[0][0] + a[1][1] * b[1][0], a[1][0] * b[0][1] + a[1][1] * b[1][1]],\n",
    "    ]\n",
    "    return new_matrix\n",
    "\n",
    "\n",
    "def matrix_addition(matrix_a: list, matrix_b: list):\n",
    "    return [\n",
    "        [matrix_a[row][col] + matrix_b[row][col] for col in range(len(matrix_a[row]))]\n",
    "        for row in range(len(matrix_a))\n",
    "    ]\n",
    "\n",
    "\n",
    "def matrix_subtraction(matrix_a: list, matrix_b: list):\n",
    "    return [\n",
    "        [matrix_a[row][col] - matrix_b[row][col] for col in range(len(matrix_a[row]))]\n",
    "        for row in range(len(matrix_a))\n",
    "    ]\n",
    "\n",
    "\n",
    "def split_matrix(a: list) -> tuple[list, list, list, list]:\n",
    "   \n",
    "    if len(a) % 2 != 0 or len(a[0]) % 2 != 0:\n",
    "        raise Exception(\"Odd matrices are not supported!\")\n",
    "\n",
    "    matrix_length = len(a)\n",
    "    mid = matrix_length // 2\n",
    "\n",
    "    top_right = [[a[i][j] for j in range(mid, matrix_length)] for i in range(mid)]\n",
    "    bot_right = [\n",
    "        [a[i][j] for j in range(mid, matrix_length)] for i in range(mid, matrix_length)\n",
    "    ]\n",
    "\n",
    "    top_left = [[a[i][j] for j in range(mid)] for i in range(mid)]\n",
    "    bot_left = [[a[i][j] for j in range(mid)] for i in range(mid, matrix_length)]\n",
    "\n",
    "    return top_left, top_right, bot_left, bot_right\n",
    "\n",
    "\n",
    "def matrix_dimensions(matrix: list) -> tuple[int, int]:\n",
    "    return len(matrix), len(matrix[0])\n",
    "\n",
    "\n",
    "def print_matrix(matrix: list) -> None:\n",
    "    for i in range(len(matrix)):\n",
    "        print(matrix[i])\n",
    "\n",
    "\n",
    "def actual_strassen(matrix_a: list, matrix_b: list) -> list:\n",
    "   \n",
    "    if matrix_dimensions(matrix_a) == (2, 2):\n",
    "        return default_matrix_multiplication(matrix_a, matrix_b)\n",
    "\n",
    "    a, b, c, d = split_matrix(matrix_a)\n",
    "    e, f, g, h = split_matrix(matrix_b)\n",
    "\n",
    "    t1 = actual_strassen(a, matrix_subtraction(f, h))\n",
    "    t2 = actual_strassen(matrix_addition(a, b), h)\n",
    "    t3 = actual_strassen(matrix_addition(c, d), e)\n",
    "    t4 = actual_strassen(d, matrix_subtraction(g, e))\n",
    "    t5 = actual_strassen(matrix_addition(a, d), matrix_addition(e, h))\n",
    "    t6 = actual_strassen(matrix_subtraction(b, d), matrix_addition(g, h))\n",
    "    t7 = actual_strassen(matrix_subtraction(a, c), matrix_addition(e, f))\n",
    "\n",
    "    top_left = matrix_addition(matrix_subtraction(matrix_addition(t5, t4), t2), t6)\n",
    "    top_right = matrix_addition(t1, t2)\n",
    "    bot_left = matrix_addition(t3, t4)\n",
    "    bot_right = matrix_subtraction(matrix_subtraction(matrix_addition(t1, t5), t3), t7)\n",
    "\n",
    "    # construct the new matrix from our 4 quadrants\n",
    "    new_matrix = []\n",
    "    for i in range(len(top_right)):\n",
    "        new_matrix.append(top_left[i] + top_right[i])\n",
    "    for i in range(len(bot_right)):\n",
    "        new_matrix.append(bot_left[i] + bot_right[i])\n",
    "    return new_matrix\n",
    "\n",
    "\n",
    "def strassen(matrix1: list, matrix2: list) -> list:\n",
    "   \n",
    "    if matrix_dimensions(matrix1)[1] != matrix_dimensions(matrix2)[0]:\n",
    "        raise Exception(\n",
    "            f\"Unable to multiply these matrices, please check the dimensions. \\n\"\n",
    "            f\"Matrix A:{matrix1} \\nMatrix B:{matrix2}\"\n",
    "        )\n",
    "    dimension1 = matrix_dimensions(matrix1)\n",
    "    dimension2 = matrix_dimensions(matrix2)\n",
    "\n",
    "    if dimension1[0] == dimension1[1] and dimension2[0] == dimension2[1]:\n",
    "        return matrix1, matrix2\n",
    "\n",
    "    maximum = max(max(dimension1), max(dimension2))\n",
    "    maxim = int(math.pow(2, math.ceil(math.log2(maximum))))\n",
    "    new_matrix1 = matrix1\n",
    "    new_matrix2 = matrix2\n",
    "\n",
    "    # Adding zeros to the matrices so that the arrays dimensions are the same and also\n",
    "    # power of 2\n",
    "    for i in range(0, maxim):\n",
    "        if i < dimension1[0]:\n",
    "            for j in range(dimension1[1], maxim):\n",
    "                new_matrix1[i].append(0)\n",
    "        else:\n",
    "            new_matrix1.append([0] * maxim)\n",
    "        if i < dimension2[0]:\n",
    "            for j in range(dimension2[1], maxim):\n",
    "                new_matrix2[i].append(0)\n",
    "        else:\n",
    "            new_matrix2.append([0] * maxim)\n",
    "\n",
    "    final_matrix = actual_strassen(new_matrix1, new_matrix2)\n",
    "\n",
    "    # Removing the additional zeros\n",
    "    for i in range(0, maxim):\n",
    "        if i < dimension1[0]:\n",
    "            for j in range(dimension2[1], maxim):\n",
    "                final_matrix[i].pop()\n",
    "        else:\n",
    "            final_matrix.pop()\n",
    "    return final_matrix\n",
    "\n",
    "\n",
    "if __name__ == \"__main__\":\n",
    "    matrix1 = [\n",
    "        [2, 3, 4, 5],\n",
    "        [6, 4, 3, 1],\n",
    "        [2, 3, 6, 7],\n",
    "        [3, 1, 2, 4],\n",
    "        [2, 3, 4, 5],\n",
    "        [6, 4, 3, 1],\n",
    "        [2, 3, 6, 7],\n",
    "        [3, 1, 2, 4],\n",
    "        [2, 3, 4, 5],\n",
    "        [6, 2, 3, 1],\n",
    "    ]\n",
    "    matrix2 = [[0, 2, 1, 1], [16, 2, 3, 3], [2, 2, 7, 7], [13, 11, 22, 4]]\n",
    "    print(strassen(matrix1, matrix2))"
   ]
  },
  {
   "cell_type": "code",
   "execution_count": 21,
   "metadata": {},
   "outputs": [
    {
     "name": "stdin",
     "output_type": "stream",
     "text": [
      "1: 12\n",
      "2: 23\n"
     ]
    },
    {
     "name": "stdout",
     "output_type": "stream",
     "text": [
      "23\n",
      "12\n"
     ]
    }
   ],
   "source": [
    "Max=lambda x,y:x*(x>=y)+y*(y>x)\n",
    "Min=lambda x,y:x*(x<=y)+y*(y<x)\n",
    "\n",
    "a=int(input('1:'))\n",
    "b=int(input('2:'))\n",
    "\n",
    "print(Max(a,b))\n",
    "print(Min(a,b))"
   ]
  },
  {
   "cell_type": "code",
   "execution_count": 22,
   "metadata": {},
   "outputs": [],
   "source": [
    "if __name__ == '__main__':\n",
    "    from tkinter import *\n",
    " \n",
    "    canvas = Canvas(width=300, height=300, bg='green')   \n",
    "    canvas.pack(expand=YES, fill=BOTH)                  \n",
    "    x0 = 263\n",
    "    y0 = 263\n",
    "    y1 = 275\n",
    "    x1 = 275\n",
    "    for i in range(19):\n",
    "        canvas.create_line(x0,y0,x0,y1, width=1, fill='red')\n",
    "        x0 = x0 - 5\n",
    "        y0 = y0 - 5\n",
    "        x1 = x1 + 5\n",
    "        y1 = y1 + 5\n",
    " \n",
    "    x0 = 263\n",
    "    y1 = 275\n",
    "    y0 = 263\n",
    "    for i in range(21):\n",
    "        canvas.create_line(x0,y0,x0,y1,fill = 'red')\n",
    "        x0 += 5\n",
    "        y0 += 5\n",
    "        y1 += 5\n",
    " \n",
    "    mainloop()"
   ]
  },
  {
   "cell_type": "code",
   "execution_count": 23,
   "metadata": {},
   "outputs": [
    {
     "name": "stdout",
     "output_type": "stream",
     "text": [
      "[1]\n",
      "[1, 1]\n",
      "[1, 2, 1]\n",
      "[1, 3, 3, 1]\n",
      "[1, 4, 6, 4, 1]\n",
      "[1, 5, 10, 10, 5, 1]\n",
      "[1, 6, 15, 20, 15, 6, 1]\n",
      "[1, 7, 21, 35, 35, 21, 7, 1]\n",
      "[1, 8, 28, 56, 70, 56, 28, 8, 1]\n",
      "[1, 9, 36, 84, 126, 126, 84, 36, 9, 1]\n"
     ]
    }
   ],
   "source": [
    "def generate(numRows):\n",
    "    r = [[1]]\n",
    "    for i in range(1,numRows):\n",
    "        r.append(list(map(lambda x,y:x+y, [0]+r[-1],r[-1]+[0])))\n",
    "    return r[:numRows]\n",
    "a=generate(10)\n",
    "for i in a:\n",
    "    print(i)"
   ]
  },
  {
   "cell_type": "code",
   "execution_count": null,
   "metadata": {},
   "outputs": [],
   "source": []
  }
 ],
 "metadata": {
  "kernelspec": {
   "display_name": "Python 3",
   "language": "python",
   "name": "python3"
  },
  "language_info": {
   "codemirror_mode": {
    "name": "ipython",
    "version": 3
   },
   "file_extension": ".py",
   "mimetype": "text/x-python",
   "name": "python",
   "nbconvert_exporter": "python",
   "pygments_lexer": "ipython3",
   "version": "3.8.3"
  }
 },
 "nbformat": 4,
 "nbformat_minor": 4
}
