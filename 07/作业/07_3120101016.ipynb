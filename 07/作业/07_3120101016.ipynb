{
 "cells": [
  {
   "cell_type": "code",
   "execution_count": 2,
   "metadata": {},
   "outputs": [
    {
     "name": "stdout",
     "output_type": "stream",
     "text": [
      "<class 'str'>\n",
      "str1[3]: y\n",
      "str2[1:6]  want\n"
     ]
    }
   ],
   "source": [
    "str1=\"jupyter lab\"\n",
    "str2=\"i want to have a rest.\"\n",
    "print(type(str1))\n",
    "print(\"str1[3]:\",str1[3])\n",
    "print(\"str2[1:6]\",str2[1:6])"
   ]
  },
  {
   "cell_type": "code",
   "execution_count": 3,
   "metadata": {},
   "outputs": [
    {
     "name": "stdout",
     "output_type": "stream",
     "text": [
      "已更新字符串: jupyter mars\n"
     ]
    }
   ],
   "source": [
    "print(\"已更新字符串:\",str1[:8]+'mars')\n"
   ]
  },
  {
   "cell_type": "code",
   "execution_count": 4,
   "metadata": {},
   "outputs": [
    {
     "data": {
      "text/plain": [
       "False"
      ]
     },
     "execution_count": 4,
     "metadata": {},
     "output_type": "execute_result"
    }
   ],
   "source": [
    "'hi'*5\n",
    "'e'in'hi'"
   ]
  },
  {
   "cell_type": "code",
   "execution_count": 5,
   "metadata": {},
   "outputs": [
    {
     "name": "stdout",
     "output_type": "stream",
     "text": [
      "her name is lin.\n",
      "she\\'s fine\n"
     ]
    }
   ],
   "source": [
    "name='lin'\n",
    "print(f\"her name is {name}.\")\n",
    "print(r'she\\'s fine')"
   ]
  },
  {
   "cell_type": "code",
   "execution_count": 6,
   "metadata": {},
   "outputs": [
    {
     "name": "stdout",
     "output_type": "stream",
     "text": [
      "Saving completed\n",
      "SAVING COMPLETED\n",
      "Saving Completed\n"
     ]
    }
   ],
   "source": [
    "sentence=\"saving completed\"\n",
    "print(sentence.capitalize())\n",
    "print(sentence.upper())\n",
    "print(sentence.title())\n"
   ]
  },
  {
   "cell_type": "code",
   "execution_count": 7,
   "metadata": {},
   "outputs": [
    {
     "name": "stdout",
     "output_type": "stream",
     "text": [
      "str3.count('o')= 2\n",
      "str3.count('on',0,5)= 1\n"
     ]
    }
   ],
   "source": [
    "\n",
    "str3=\"coconut juice\"\n",
    "print(\"str3.count('o')=\",str3.count('o'))\n",
    "print(\"str3.count('on',0,5)=\",str3.count('on',0,5))"
   ]
  },
  {
   "cell_type": "code",
   "execution_count": 8,
   "metadata": {},
   "outputs": [
    {
     "name": "stdout",
     "output_type": "stream",
     "text": [
      "True\n",
      "True\n",
      "False\n",
      "False\n",
      "False\n",
      "------------------------------\n",
      "<built-in method isalnum of str object at 0x0000029CBF2C8E30>\n",
      "<built-in method isalnum of str object at 0x0000029CBF2C8CB0>\n",
      "<built-in method isalnum of str object at 0x0000029CBF2C89F0>\n",
      "<built-in method isalnum of str object at 0x0000029CBF2C8F70>\n",
      "<built-in method isalnum of str object at 0x0000029CBF2C8FB0>\n",
      "------------------------------\n",
      "False\n",
      "False\n",
      "True\n",
      "False\n",
      "True\n",
      "------------------------------\n",
      "False\n",
      "False\n",
      "True\n",
      "False\n"
     ]
    }
   ],
   "source": [
    "s1=\"nihao\"\n",
    "s2=\"ciao\"\n",
    "s3=\"123\"\n",
    "s4=\"nihao 123\"\n",
    "s5=\"2020\"\n",
    "print(s1.isalpha())\n",
    "print(s2.isalpha())\n",
    "print(s3.isalpha())\n",
    "print(s4.isalpha())\n",
    "print(s5.isalpha())\n",
    "print('-'*30)\n",
    "print(s1.isalnum)\n",
    "print(s2.isalnum)\n",
    "print(s3.isalnum)\n",
    "print(s4.isalnum)\n",
    "print(s5.isalnum)\n",
    "print('-'*30)\n",
    "print(s1.isdigit())\n",
    "print(s2.isdigit())\n",
    "print(s3.isdigit())\n",
    "print(s4.isdigit())\n",
    "print(s5.isdigit())\n",
    "print('-'*30)\n",
    "print(s1.isnumeric())\n",
    "print(s2.isnumeric())\n",
    "print(s3.isnumeric())\n",
    "print(s4.isnumeric())"
   ]
  },
  {
   "cell_type": "code",
   "execution_count": 9,
   "metadata": {},
   "outputs": [
    {
     "name": "stdout",
     "output_type": "stream",
     "text": [
      "False\n",
      "True\n",
      "True\n"
     ]
    }
   ],
   "source": [
    "var=\"this is string example...wow!\"\n",
    "print(var.startswith('a'))\n",
    "print(var.startswith('string',8))\n",
    "print(var.startswith('is',2,4))"
   ]
  },
  {
   "cell_type": "code",
   "execution_count": 10,
   "metadata": {},
   "outputs": [
    {
     "name": "stdout",
     "output_type": "stream",
     "text": [
      "True\n",
      "True 21\n",
      "False\n",
      "False\n"
     ]
    }
   ],
   "source": [
    "var='runoob example. wow!!!'\n",
    "suffix='!!'\n",
    "print(var.endswith(suffix))\n",
    "print(var.endswith(suffix),len(var)-1)\n",
    "suffix='run'\n",
    "print(var.endswith(suffix))\n",
    "print(var.endswith(suffix,0,2))"
   ]
  },
  {
   "cell_type": "code",
   "execution_count": 11,
   "metadata": {},
   "outputs": [
    {
     "name": "stdout",
     "output_type": "stream",
     "text": [
      "\n",
      "请告诉我你的名字\n",
      "输入q结束\n",
      "如果没有中间名字，请输入空格\n",
      "First_name:q\n",
      "Last_name:q\n",
      "Middle_name:q\n"
     ]
    }
   ],
   "source": [
    "def name(first_name,last_name,middle_name):\n",
    "    if middle_name:\n",
    "        full_name=first_name+' '+middle_name+' '+last_name\n",
    "    else:\n",
    "        full_name=first_name+' '+last_name\n",
    "    return full_name.title()\n",
    "while True:\n",
    "    print(\"\\n请告诉我你的名字\")\n",
    "    print('输入q结束')\n",
    "    print(\"如果没有中间名字，请输入空格\")\n",
    "    f_name=input(\"First_name:\")\n",
    "    l_name=input(\"Last_name:\")\n",
    "    m_name=input(\"Middle_name:\")\n",
    "    if f_name=='q':\n",
    "        break\n",
    "    if l_name=='q':\n",
    "        break\n",
    "    if m_name=='q':\n",
    "        break\n",
    "    musician=name(f_name,l_name,m_name)\n",
    "    print(musician)"
   ]
  },
  {
   "cell_type": "code",
   "execution_count": 13,
   "metadata": {},
   "outputs": [
    {
     "name": "stdout",
     "output_type": "stream",
     "text": [
      "True\n",
      "True\n",
      "False\n",
      "False\n",
      "False\n",
      "True\n",
      "**************************************************\n",
      "True\n",
      "True\n",
      "False\n",
      "True\n",
      "True\n",
      "True\n",
      "**************************************************\n",
      "False\n",
      "False\n",
      "False\n",
      "False\n",
      "True\n",
      "False\n",
      "**************************************************\n",
      "False\n",
      "False\n",
      "False\n",
      "False\n",
      "True\n",
      "True\n"
     ]
    }
   ],
   "source": [
    "str1 = \"runoob\"\n",
    "str2 = \"runoob菜鸟教程\"\n",
    "str3 = \"Runoob example....wow!!!\"\n",
    "str4 = \"runoob2016\"\n",
    "str5 = \"2016\"\n",
    "str6 = \"二零一六\"\n",
    "\n",
    "print (str1.isalpha())\n",
    "print (str2.isalpha())\n",
    "print (str3.isalpha())\n",
    "print (str4.isalpha())\n",
    "print (str5.isalpha())\n",
    "print (str6.isalpha())\n",
    "print('*' * 50)\n",
    "print (str1.isalnum())\n",
    "print (str2.isalnum())\n",
    "print (str3.isalnum())\n",
    "print (str4.isalnum())\n",
    "print (str5.isalnum())\n",
    "print (str6.isalnum())\n",
    "print('*' * 50)\n",
    "print (str1.isdigit())\n",
    "print (str2.isdigit())\n",
    "print (str3.isdigit())\n",
    "print (str4.isdigit())\n",
    "print (str5.isdigit())\n",
    "print (str6.isdigit())\n",
    "print('*' * 50)\n",
    "print (str1.isnumeric())\n",
    "print (str2.isnumeric())\n",
    "print (str3.isnumeric())\n",
    "print (str4.isnumeric())\n",
    "print (str5.isnumeric())\n",
    "print (str6.isnumeric())"
   ]
  },
  {
   "cell_type": "code",
   "execution_count": 14,
   "metadata": {},
   "outputs": [
    {
     "ename": "TypeError",
     "evalue": "__init__() missing 1 required positional argument: 'r'",
     "output_type": "error",
     "traceback": [
      "\u001b[1;31m---------------------------------------------------------------------------\u001b[0m",
      "\u001b[1;31mTypeError\u001b[0m                                 Traceback (most recent call last)",
      "\u001b[1;32m<ipython-input-14-833aa6c961b7>\u001b[0m in \u001b[0;36m<module>\u001b[1;34m\u001b[0m\n\u001b[0;32m      7\u001b[0m     \u001b[1;31m#圆的面积\u001b[0m\u001b[1;33m\u001b[0m\u001b[1;33m\u001b[0m\u001b[1;33m\u001b[0m\u001b[0m\n\u001b[0;32m      8\u001b[0m        \u001b[1;32mreturn\u001b[0m \u001b[0mself\u001b[0m\u001b[1;33m.\u001b[0m\u001b[0mr\u001b[0m \u001b[1;33m**\u001b[0m\u001b[1;36m2\u001b[0m\u001b[1;33m*\u001b[0m \u001b[0mself\u001b[0m\u001b[1;33m.\u001b[0m\u001b[0m__pi\u001b[0m\u001b[1;33m\u001b[0m\u001b[1;33m\u001b[0m\u001b[0m\n\u001b[1;32m----> 9\u001b[1;33m \u001b[0mcircle1\u001b[0m \u001b[1;33m=\u001b[0m \u001b[0mCircle\u001b[0m\u001b[1;33m(\u001b[0m\u001b[1;33m)\u001b[0m\u001b[1;33m\u001b[0m\u001b[1;33m\u001b[0m\u001b[0m\n\u001b[0m\u001b[0;32m     10\u001b[0m \u001b[0mprint\u001b[0m\u001b[1;33m(\u001b[0m\u001b[0mCircle\u001b[0m\u001b[1;33m.\u001b[0m\u001b[0mpi\u001b[0m\u001b[1;33m)\u001b[0m  \u001b[1;31m# 抛出AttributeError异常\u001b[0m\u001b[1;33m\u001b[0m\u001b[1;33m\u001b[0m\u001b[0m\n\u001b[0;32m     11\u001b[0m \u001b[0mprint\u001b[0m\u001b[1;33m(\u001b[0m\u001b[0mcircle1\u001b[0m\u001b[1;33m.\u001b[0m\u001b[0mpi\u001b[0m\u001b[1;33m)\u001b[0m  \u001b[1;31m# 抛出AttributeError异常\u001b[0m\u001b[1;33m\u001b[0m\u001b[1;33m\u001b[0m\u001b[0m\n",
      "\u001b[1;31mTypeError\u001b[0m: __init__() missing 1 required positional argument: 'r'"
     ]
    }
   ],
   "source": [
    "#类的使用\n",
    "class Circle(object):\n",
    "    pi = 3.14\n",
    "    def __init__(self, r):\n",
    "        self.r = r\n",
    "    def area(self):\n",
    "    #圆的面积\n",
    "       return self.r **2* self.__pi\n",
    "circle1 = Circle()\n",
    "print(Circle.pi)  # 抛出AttributeError异常\n",
    "print(circle1.pi)  # 抛出AttributeError异常"
   ]
  },
  {
   "cell_type": "code",
   "execution_count": 15,
   "metadata": {},
   "outputs": [
    {
     "name": "stdout",
     "output_type": "stream",
     "text": [
      "----未修改前-----\n",
      "pi=\t 3.14\n",
      "circle1.pi=\t 3.14\n",
      "circle2.pi=\t 3.14\n",
      "----通过类名修改后-----\n",
      "pi=\t 3.14159\n",
      "circle1.pi=\t 3.14159\n",
      "circle2.pi=\t 3.14159\n",
      "----通过circle1实例名修改后-----\n",
      "pi=\t 3.14159\n",
      "circle1.pi=\t 3.14111\n",
      "circle2.pi=\t 3.14159\n",
      "----删除circle1实例属性pi-----\n"
     ]
    }
   ],
   "source": [
    "class Circle(object):\n",
    "   pi = 3.14  # 类属性\n",
    "   def __init__(self, r):\n",
    "       self.r = r\n",
    "circle1 = Circle(1)\n",
    "circle2 = Circle(2)\n",
    "print('----未修改前-----')\n",
    "print('pi=\\t', Circle.pi)\n",
    "print('circle1.pi=\\t', circle1.pi)  #  3.14\n",
    "print('circle2.pi=\\t', circle2.pi)  #  3.14\n",
    "print('----通过类名修改后-----')\n",
    "Circle.pi = 3.14159  # 通过类名修改类属性，所有实例的类属性被改变\n",
    "print('pi=\\t', Circle.pi)   #  3.14159\n",
    "print('circle1.pi=\\t', circle1.pi)   #  3.14159\n",
    "print('circle2.pi=\\t', circle2.pi)   #  3.14159\n",
    "print('----通过circle1实例名修改后-----')\n",
    "circle1.pi=3.14111   # 实际上这里是给circle1创建了一个与类属性同名的实例属性\n",
    "print('pi=\\t', Circle.pi)     #  3.14159\n",
    "print('circle1.pi=\\t', circle1.pi)  # 实例属性的访问优先级比类属性高，所以是3.14111   \n",
    "print('circle2.pi=\\t', circle2.pi)  #  3.14159\n",
    "print('----删除circle1实例属性pi-----')"
   ]
  },
  {
   "cell_type": "code",
   "execution_count": 16,
   "metadata": {},
   "outputs": [
    {
     "name": "stdout",
     "output_type": "stream",
     "text": [
      "12.56\n"
     ]
    }
   ],
   "source": [
    "class Circle(object):\n",
    "   pi = 3.14  # 类属性\n",
    "\n",
    "   def __init__(self, r):\n",
    "       self.r = r  # 实例属性\n",
    "\n",
    "   def get_area(self):\n",
    "       \"\"\" 圆的面积 \"\"\"\n",
    "       # return self.r**2 * Circle.pi # 通过实例修改pi的值对面积无影响，这个pi为类属性的值\n",
    "       return self.r**2 * self.pi  # 通过实例修改pi的值对面积我们圆的面积就会改变\n",
    "\n",
    "circle1 = Circle(2)\n",
    "print(circle1.get_area())"
   ]
  },
  {
   "cell_type": "code",
   "execution_count": 17,
   "metadata": {},
   "outputs": [
    {
     "name": "stdout",
     "output_type": "stream",
     "text": [
      "2.0\n"
     ]
    }
   ],
   "source": [
    "class Math(object):\n",
    "    pi=3.1415926\n",
    "    def __init__(self,A):\n",
    "        self.a=A\n",
    "    def pingfang(self):\n",
    "        return self.a**2\n",
    "    def kaifang(self):\n",
    "        return self.a**(0.5)\n",
    "    def get_area(self):\n",
    "        return self.a**2 * self.pi\n",
    "number=Math(4)\n",
    "print(number.kaifang())"
   ]
  },
  {
   "cell_type": "code",
   "execution_count": 18,
   "metadata": {},
   "outputs": [
    {
     "name": "stdout",
     "output_type": "stream",
     "text": [
      "anilaseyo\n",
      "None\n"
     ]
    }
   ],
   "source": [
    "#类的嵌套格式1\n",
    "class Chatting(object):\n",
    "    def __init__(self):\n",
    "        self.other=Other()\n",
    "    def language1(self):\n",
    "        self.other.English()\n",
    "    def language2(self):\n",
    "        self.other.Chinese()\n",
    "    def language3(self):\n",
    "        self.other.Korean()\n",
    "    def language4(self):\n",
    "        self.other.Japanese()\n",
    "class Other(object):\n",
    "    def English(self):\n",
    "        print('hello!')\n",
    "    def Chinese(self):\n",
    "        print('你好')\n",
    "    def Korean(self):\n",
    "        print('anilaseyo')\n",
    "    def Japanese(self):\n",
    "        print('konixiwa')\n",
    "xiaoming=Chatting()\n",
    "print(xiaoming.language3())"
   ]
  },
  {
   "cell_type": "code",
   "execution_count": 19,
   "metadata": {},
   "outputs": [
    {
     "name": "stdout",
     "output_type": "stream",
     "text": [
      "anilaseyo\n",
      "None\n"
     ]
    }
   ],
   "source": [
    "#类的嵌套格式2\n",
    "class Chatting(Other):\n",
    "    def language1(self):\n",
    "        self.English()\n",
    "    def language2(self):\n",
    "        self.Chinese()\n",
    "    def language3(self):\n",
    "        self.Korean()\n",
    "    def language4(self):\n",
    "        self.Japanese()\n",
    "class Other(object):\n",
    "    def English(self):\n",
    "        print('hello!')\n",
    "    def Chinese(self):\n",
    "        print('你好')\n",
    "    def Korean(self):\n",
    "        print('anilaseyo')\n",
    "    def Japanese(self):\n",
    "        print('konixiwa')\n",
    "xiaoming=Chatting()\n",
    "print(xiaoming.language3())"
   ]
  },
  {
   "cell_type": "code",
   "execution_count": 20,
   "metadata": {},
   "outputs": [
    {
     "name": "stdout",
     "output_type": "stream",
     "text": [
      "var = 0\n",
      "var = 0\n",
      "var = 0\n",
      "5\n",
      "6\n",
      "7\n",
      "8\n"
     ]
    }
   ],
   "source": [
    "def varfunc():\n",
    "    var = 0\n",
    "    print ('var = %d' % var)\n",
    "    var += 1\n",
    "if __name__ == '__main__':\n",
    "    for i in range(3):\n",
    "        varfunc()\n",
    "\n",
    "# 类的属性\n",
    "# 作为类的一个属性吧\n",
    "class Static:\n",
    "    StaticVar = 5\n",
    "    def varfunc(self):\n",
    "        self.StaticVar += 1\n",
    "        print (self.StaticVar)\n",
    "\n",
    "print (Static.StaticVar)\n",
    "a = Static()\n",
    "for i in range(3):\n",
    "    a.varfunc()"
   ]
  },
  {
   "cell_type": "code",
   "execution_count": 21,
   "metadata": {},
   "outputs": [
    {
     "name": "stdout",
     "output_type": "stream",
     "text": [
      "input a number:\n",
      "5\n",
      "1.5333333333333332\n"
     ]
    }
   ],
   "source": [
    "def peven(n):\n",
    "    i = 0\n",
    "    s = 0.0\n",
    "    for i in range(2,n + 1,2):\n",
    "        s += 1.0 / i   # Python里，整数除整数，只能得出整数，所以需要使用 浮点数 1.0\n",
    "    return s\n",
    " \n",
    "def podd(n):\n",
    "    s = 0.0\n",
    "    for i in range(1, n + 1,2):\n",
    "        s += 1.0 / i    # Python里，整数除整数，只能得出整数，所以需要使用 浮点数 1.0\n",
    "    return s\n",
    " \n",
    "def dcall(fp,n):\n",
    "    s = fp(n)\n",
    "    return s\n",
    " \n",
    "if __name__ == '__main__':\n",
    "    n = int(input('input a number:\\n'))\n",
    "    if n % 2 == 0:\n",
    "        sum = dcall(peven,n)\n",
    "    else:\n",
    "        sum = dcall(podd,n)\n",
    "    print(sum)"
   ]
  },
  {
   "cell_type": "code",
   "execution_count": 22,
   "metadata": {},
   "outputs": [
    {
     "name": "stdout",
     "output_type": "stream",
     "text": [
      "3\n",
      "['中国移动', [1, 2, 4, 5]]\n",
      "4\n",
      "i'm new here!\n",
      "中国移动\n",
      "3\n",
      "[10086, [1, 2, 4, 5], \"i'm new here!\"]\n",
      "[[1, 2, 3], [4, 5, 6], [7, 8, 9]]\n",
      "[4, 5, 6]\n",
      "[2, 5, 8]\n",
      "[2, 8]\n"
     ]
    }
   ],
   "source": [
    "\n",
    "testList=[10086,'中国移动',[1,2,4,5]]  \n",
    "#访问列表长度  \n",
    "print(len(testList))  \n",
    "#到列表结尾  \n",
    "print(testList[1:])  \n",
    "#向列表添加元素  \n",
    "testList.append('i\\'m new here!')  \n",
    "  \n",
    "print(len(testList))  \n",
    "print(testList[-1])\n",
    "#弹出列表的最后一个元素  \n",
    "print(testList.pop(1))  \n",
    "print(len(testList))\n",
    "print(testList)  \n",
    "#list comprehension  \n",
    "#后面有介绍，暂时掠过  \n",
    "matrix = [[1, 2, 3],  \n",
    "[4, 5, 6],  \n",
    "[7, 8, 9]]  \n",
    "print(matrix)  \n",
    "print(matrix[1])  \n",
    "col2 = [row[1] for row in matrix]#get a  column from a matrix  \n",
    "print(col2)  \n",
    "col2even = [row[1] for row in matrix if  row[1] % 2 == 0]#filter odd item  \n",
    "print(col2even)"
   ]
  },
  {
   "cell_type": "code",
   "execution_count": null,
   "metadata": {},
   "outputs": [
    {
     "name": "stdout",
     "output_type": "stream",
     "text": [
      "输入一个数字:\n",
      "5\n"
     ]
    }
   ],
   "source": [
    "if __name__ == '__main__':\n",
    "    zi = int(input('输入一个数字:\\n'))\n",
    "    n1 = 1\n",
    "    c9 = 1\n",
    "    m9 = 9\n",
    "    sum = 9\n",
    "    while n1 != 0:\n",
    "        if sum % zi == 0:\n",
    "            n1 = 0\n",
    "        else:\n",
    "            m9 *= 10\n",
    "            sum += m9\n",
    "            c9 += 1\n",
    "    print('%d 个 9 可以被 %d 整除 : %d' % (c9,zi,sum))\n",
    "    r = sum / zi\n",
    "    print('%d / %d = %d' % (sum,zi,r))"
   ]
  },
  {
   "cell_type": "code",
   "execution_count": null,
   "metadata": {},
   "outputs": [],
   "source": [
    "\n",
    "#可实现自动编号和替换字符\n",
    "ines = open('D://bishechengxulianxi//jiedian.txt').readlines()\n",
    "fp = open('D://bishechengxulianxi//jiedian.txt','w')\n",
    "for s in lines:\n",
    "    fp.write( s.replace('    ',','))\n",
    "fp.close()\n",
    "\n",
    "import os\n",
    "import codecs\n",
    "\n",
    "file_name='D://bishechengxulianxi//jiedian.txt'\n",
    "with codecs.open(file_name,encoding='utf-8')as file:\n",
    "   lines=file.readlines()\n",
    "\n",
    "row_count=1\n",
    "\n",
    "with codecs.open(file_name,'w',encoding='utf-8')as file:\n",
    "    for line in lines:\n",
    "        file.write(\"%-5d\"%row_count+' '+line)\n",
    "        row_count+=1"
   ]
  },
  {
   "cell_type": "code",
   "execution_count": null,
   "metadata": {},
   "outputs": [],
   "source": [
    "# -*- coding: utf-8 -*- \n",
    "#这个是我上周编的可以输出聚合物分子模型的程序\n",
    "import random\n",
    "dfe = 2.863 \n",
    "latxfe = 20\n",
    "latyfe = 20\n",
    "latzfe = 20\n",
    "unitx = dfe\n",
    "unity = dfe\n",
    "unitz = dfe\n",
    "unit = dfe\n",
    "zadd = 15.0\n",
    "xl = unitx*latxfe\n",
    "yl = unity*latyfe\n",
    "zl = unitz*latzfe\n",
    "unitfe = dfe\n",
    "ir = 0\n",
    "ife = 56\n",
    "inhhh = 14\n",
    "ih = 1\n",
    "jfe = 1\n",
    "jn = 2\n",
    "jh = 3\n",
    "zltotal=zl+zadd*2\n",
    "nnitrogenadd=2000\n",
    "# 生成20*20*20个铁原子，并写入数据文件和可视化文件中\n",
    "for i in range(0,latxfe):\n",
    "    for j in range(0,latyfe):\n",
    "        for k in range(0,latzfe):\n",
    "            x0=unitfe*i\n",
    "            y0=unitfe*j\n",
    "            z0=unitfe*k+zadd\n",
    "            ir=ir+1\n",
    "            x=x0\n",
    "            y=y0\n",
    "            z=z0\n",
    "            f=open('shuju.txt','a')\n",
    "            f.write(f'{str(ir)}{\"  \"}{jfe}{\"  \"}{x}{\"  \"}{y}{\"  \"}{z}\\n')\n",
    "            f.close()\n",
    "            f=open('keshihua.txt','a')\n",
    "            f.write('56\\n')\n",
    "            f.write('Fe\\n')\n",
    "            f.write(f'{\"  \"}{x/xl}{\"  \"}{y/yl}{\"  \"}{z/zltotal}\\n')\n",
    "            f.close()\n",
    "# 错位生成20*20*20个铁原子，并写入数据文件和可视化文件中\n",
    "for i in range(0,latxfe):\n",
    "    for j in range(0,latyfe):\n",
    "        for k in range(0,latzfe):\n",
    "            x0=unitfe*i\n",
    "            y0=unitfe*j\n",
    "            z0=unitfe*k+zadd\n",
    "            ir=ir+1\n",
    "            x=x0+0.5*unitfe\n",
    "            y=y0+0.5*unitfe\n",
    "            z=z0+0.5*unitfe\n",
    "            f=open('shuju.txt','a')\n",
    "            f.write(f'{str(ir)}{\"  \"}{jfe}{\"  \"}{x}{\"  \"}{y}{\"  \"}{z}\\n')\n",
    "            f.close()\n",
    "            f=open('keshihua.txt','a')\n",
    "            f.write('56\\n')\n",
    "            f.write('Fe\\n')\n",
    "            f.write(f'{\"  \"}{x/xl}{\"  \"}{y/yl}{\"  \"}{z/zltotal}\\n')\n",
    "            f.close()\n",
    "# 写入氨气分子的坐标，上下对称排列\n",
    "for k in range(0,nnitrogenadd):\n",
    "    xnitrogen=random.uniform(0, 1)\n",
    "    ynitrogen=random.uniform(0, 1)\n",
    "    znitrogen=random.uniform(0, 1)\n",
    "    ir=ir+1\n",
    "    x=xl*xnitrogen\n",
    "    y=yl*ynitrogen\n",
    "    z=zadd*znitrogen\n",
    "    f=open('shuju.txt','a')\n",
    "    f.write(f'{str(ir)}{\"  \"}{jn}{\"  \"}{x}{\"  \"}{y}{\"  \"}{z}\\n')\n",
    "    f.close()\n",
    "    f=open('keshihua.txt','a')\n",
    "    f.write('14\\n')\n",
    "    f.write('N\\n')\n",
    "    f.write(f'{\"  \"}{x/xl}{\"  \"}{y/yl}{\"  \"}{z/zltotal}\\n')\n",
    "    f.close()\n",
    "    ir=ir+1\n",
    "    x1=x\n",
    "    y1=y-0.9377\n",
    "    z1=z-0.3816\n",
    "    f=open('shuju.txt','a')\n",
    "    f.write(f'{str(ir)}{\"  \"}{jh}{\"  \"}{x1}{\"  \"}{y1}{\"  \"}{z1}\\n')\n",
    "    f.close()\n",
    "    f=open('keshihua.txt','a')\n",
    "    f.write('2\\n')\n",
    "    f.write('H\\n')\n",
    "    f.write(f'{\"  \"}{x1/xl}{\"  \"}{y1/yl}{\"  \"}{z1/zltotal}\\n')\n",
    "    f.close()\n",
    "    ir=ir+1\n",
    "    x2=x+0.8121\n",
    "    y2=y+0.4689\n",
    "    z2=z-0.3816\n",
    "    f=open('shuju.txt','a')\n",
    "    f.write(f'{str(ir)}{\"  \"}{jh}{\"  \"}{x2}{\"  \"}{y2}{\"  \"}{z2}\\n')\n",
    "    f.close()\n",
    "    f=open('keshihua.txt','a')\n",
    "    f.write('2\\n')\n",
    "    f.write('H\\n')\n",
    "    f.write(f'{\"  \"}{x2/xl}{\"  \"}{y2/yl}{\"  \"}{z2/zltotal}\\n')\n",
    "    f.close()\n",
    "    ir=ir+1\n",
    "    x3=x-0.8121\n",
    "    y3=y+0.4689\n",
    "    z3=z-0.3816\n",
    "    f=open('shuju.txt','a')\n",
    "    f.write(f'{str(ir)}{\"  \"}{jh}{\"  \"}{x3}{\"  \"}{y3}{\"  \"}{z3}\\n')\n",
    "    f.close()\n",
    "    f=open('keshihua.txt','a')\n",
    "    f.write('2\\n')\n",
    "    f.write('H\\n')\n",
    "    f.write(f'{\"  \"}{x3/xl}{\"  \"}{y3/yl}{\"  \"}{z3/zltotal}\\n')\n",
    "    f.close()\n",
    "    ir=ir+1\n",
    "    x4=x\n",
    "    y4=y\n",
    "    z4=z+zl+zadd\n",
    "    f=open('shuju.txt','a')\n",
    "    f.write(f'{str(ir)}{\"  \"}{jn}{\"  \"}{x4}{\"  \"}{y4}{\"  \"}{z4}\\n')\n",
    "    f.close()\n",
    "    f=open('keshihua.txt','a')\n",
    "    f.write('14\\n')\n",
    "    f.write('N\\n')\n",
    "    f.write(f'{\"  \"}{x4/xl}{\"  \"}{y4/yl}{\"  \"}{z4/zltotal}\\n')\n",
    "    f.close()\n",
    "    ir=ir+1\n",
    "    x5=x4\n",
    "    y5=y4-0.9377\n",
    "    z5=z4-0.3816\n",
    "    f=open('shuju.txt','a')\n",
    "    f.write(f'{str(ir)}{\"  \"}{jh}{\"  \"}{x5}{\"  \"}{y5}{\"  \"}{z5}\\n')\n",
    "    f.close()\n",
    "    f=open('keshihua.txt','a')\n",
    "    f.write('2\\n')\n",
    "    f.write('H\\n')\n",
    "    f.write(f'{\"  \"}{x5/xl}{\"  \"}{y5/yl}{\"  \"}{z5/zltotal}\\n')\n",
    "    f.close()\n",
    "    ir=ir+1\n",
    "    x6=x4+0.8121\n",
    "    y6=y4+0.4689\n",
    "    z6=z4-0.3816\n",
    "    f=open('shuju.txt','a')\n",
    "    f.write(f'{str(ir)}{\"  \"}{jh}{\"  \"}{x6}{\"  \"}{y6}{\"  \"}{z6}\\n')\n",
    "    f.close()\n",
    "    f=open('keshihua.txt','a')\n",
    "    f.write('2\\n')\n",
    "    f.write('H\\n')\n",
    "    f.write(f'{\"  \"}{x6/xl}{\"  \"}{y6/yl}{\"  \"}{z6/zltotal}\\n')\n",
    "    f.close()\n",
    "    ir=ir+1\n",
    "    x7=x4-0.8121\n",
    "    y7=y4+0.4689\n",
    "    z7=z4-0.3816\n",
    "    f=open('shuju.txt','a')\n",
    "    f.write(f'{str(ir)}{\"  \"}{jh}{\"  \"}{x7}{\"  \"}{y7}{\"  \"}{z7}\\n')\n",
    "    f.close()\n",
    "    f=open('keshihua.txt','a')\n",
    "    f.write('2\\n')\n",
    "    f.write('H\\n')\n",
    "    f.write(f'{\"  \"}{x7/xl}{\"  \"}{y7/yl}{\"  \"}{z7/zltotal}\\n')\n",
    "    f.close()\n",
    "with open('shuju.txt', 'r+') as f:\n",
    "    content = f.read()  \n",
    "    f.seek(0.0)\n",
    "    f.write('''# Position data for Iron system\n",
    "\n",
    "       32000 atoms\n",
    "           3 atom types\n",
    "\n",
    "   0.00000000       57.259999999999998      xloxhi\n",
    "   0.00000000       57.259999999999998      yloyhi\n",
    "   0.00000000       87.259999999999991      zlozhi\n",
    "\n",
    " Masses\n",
    "\n",
    "1  56\n",
    "2  14\n",
    "3   1\n",
    "\n",
    " Atoms\n",
    " \n",
    "'''+content)\n",
    "with open('keshihua.txt', 'r+') as f:\n",
    "    content = f.read()  \n",
    "    f.seek(0.0)\n",
    "    f.write('''Number of particles =     32000\n",
    "# (required) this must be the first line\n",
    "A = 1.0 Angstrom (basic length-scale)\n",
    "# (optional) basic length-scale: default            A = 1.0 [Angstrom]\n",
    "\n",
    "H0(1,1) =   0.5726000E+02 A\n",
    "H0(1,2) = 0 A\n",
    "H0(1,3) = 0 A\n",
    "# (required) this is the supercells 1st edge, in A\n",
    "\n",
    "H0(2,1) = 0 A\n",
    "H0(2,2) =   0.5726000E+02 A\n",
    "H0(2,3) = 0 A\n",
    "# (required) this is the supercells 2nd edge, in A\n",
    "\n",
    "H0(3,1) = 0 A\n",
    "H0(3,2) = 0 A\n",
    "H0(3,3) =   0.8726000E+02 A\n",
    "# (required) this is the supercells 3rd edge, in A\n",
    ".NO_VELOCITY.\n",
    "entry_count = 3\n",
    "\n",
    "'''+content)"
   ]
  },
  {
   "cell_type": "code",
   "execution_count": null,
   "metadata": {},
   "outputs": [],
   "source": []
  }
 ],
 "metadata": {
  "kernelspec": {
   "display_name": "Python 3",
   "language": "python",
   "name": "python3"
  },
  "language_info": {
   "codemirror_mode": {
    "name": "ipython",
    "version": 3
   },
   "file_extension": ".py",
   "mimetype": "text/x-python",
   "name": "python",
   "nbconvert_exporter": "python",
   "pygments_lexer": "ipython3",
   "version": "3.8.5"
  }
 },
 "nbformat": 4,
 "nbformat_minor": 4
}
