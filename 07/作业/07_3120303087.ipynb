{
 "cells": [
  {
   "cell_type": "code",
   "execution_count": null,
   "metadata": {},
   "outputs": [
    {
     "name": "stdout",
     "output_type": "stream",
     "text": [
      "=-==-==-==-==-==《密码猜猜猜》==-==-==-==-==-=\n",
      "正确密码是由六位不重复的大写字母和数字组成，猜猜看纳（可以帮助）\n"
     ]
    },
    {
     "name": "stdin",
     "output_type": "stream",
     "text": [
      "请输入： QWE234\n"
     ]
    },
    {
     "name": "stdout",
     "output_type": "stream",
     "text": [
      "位置对：0\n",
      "密码对：1\n"
     ]
    },
    {
     "name": "stdin",
     "output_type": "stream",
     "text": [
      "请输入： ABC789\n"
     ]
    },
    {
     "name": "stdout",
     "output_type": "stream",
     "text": [
      "位置对：1\n",
      "密码对：1\n"
     ]
    },
    {
     "name": "stdin",
     "output_type": "stream",
     "text": [
      "请输入： AOS798\n"
     ]
    },
    {
     "name": "stdout",
     "output_type": "stream",
     "text": [
      "位置对：0\n",
      "密码对：0\n"
     ]
    },
    {
     "name": "stdin",
     "output_type": "stream",
     "text": [
      "请输入： ABC123\n"
     ]
    },
    {
     "name": "stdout",
     "output_type": "stream",
     "text": [
      "位置对：1\n",
      "密码对：1\n"
     ]
    },
    {
     "name": "stdin",
     "output_type": "stream",
     "text": [
      "请输入： BCD789\n"
     ]
    },
    {
     "name": "stdout",
     "output_type": "stream",
     "text": [
      "位置对：0\n",
      "密码对：1\n"
     ]
    },
    {
     "name": "stdin",
     "output_type": "stream",
     "text": [
      "请输入： 777777\n"
     ]
    },
    {
     "name": "stdout",
     "output_type": "stream",
     "text": [
      "位置对：0\n",
      "密码对：0\n"
     ]
    },
    {
     "name": "stdin",
     "output_type": "stream",
     "text": [
      "请输入： \n"
     ]
    },
    {
     "name": "stdout",
     "output_type": "stream",
     "text": [
      "别乱输！\n"
     ]
    },
    {
     "name": "stdin",
     "output_type": "stream",
     "text": [
      "请输入： 888888\n"
     ]
    },
    {
     "name": "stdout",
     "output_type": "stream",
     "text": [
      "位置对：0\n",
      "密码对：0\n"
     ]
    },
    {
     "name": "stdin",
     "output_type": "stream",
     "text": [
      "请输入： 999999\n"
     ]
    },
    {
     "name": "stdout",
     "output_type": "stream",
     "text": [
      "位置对：0\n",
      "密码对：0\n"
     ]
    },
    {
     "name": "stdin",
     "output_type": "stream",
     "text": [
      "请输入： AAAAAA\n"
     ]
    },
    {
     "name": "stdout",
     "output_type": "stream",
     "text": [
      "位置对：0\n",
      "密码对：0\n"
     ]
    },
    {
     "name": "stdin",
     "output_type": "stream",
     "text": [
      "请输入： BBBBBB\n"
     ]
    },
    {
     "name": "stdout",
     "output_type": "stream",
     "text": [
      "位置对：1\n",
      "密码对：6\n"
     ]
    }
   ],
   "source": [
    "import random\n",
    "print(\"=-==-==-==-==-==《密码猜猜猜》==-==-==-==-==-=\")\n",
    "\n",
    "letterList = [\"A\",\"B\",\"C\",\"D\",\"E\",\n",
    "              \"F\",\"G\",\"H\",\"I\",\"J\",\n",
    "              \"K\",\"L\",\"M\",\"N\",\"O\",\n",
    "              \"P\",\"Q\",\"R\",\"S\",\"T\",\n",
    "              \"U\",\"V\",\"W\",\"X\",\"Y\",\n",
    "              \"Z\",\"1\",\"2\",\"3\",\"4\",\n",
    "              \"5\",\"6\",\"7\",\"8\",\"9\",\n",
    "              \"0\"]\n",
    "\n",
    "passwordList = []\n",
    "while True:\n",
    "    inanx = random.randint(0,len(letterList)-1)\n",
    "    letter = letterList[inanx]\n",
    "    \n",
    "    passwordList.append(letter)\n",
    "    letterList.pop(inanx)\n",
    "    if len(passwordList) == 6:\n",
    "        break\n",
    "\n",
    "print(\"正确密码是由六位不重复的大写字母和数字组成，猜猜看纳（可以帮助）\")\n",
    "while True:\n",
    "    \n",
    "    posCorrect = 0\n",
    "    letterCorrect = 0\n",
    "    user = input(\"请输入：\")\n",
    "    \n",
    "    if user == \"帮助\":\n",
    "        a = random.randint(0,3)\n",
    "        b = passwordList[a]\n",
    "        print(\"正确密码中存在字母\"+b)\n",
    "        continue\n",
    "    if user == \"Sans&Ness\":#暗号\n",
    "        print(\"欢迎回来，一条咸鱼\")\n",
    "        print(\"本次密码是\" + str(passwordList))\n",
    "        break\n",
    "    userList = list(user)\n",
    "    \n",
    "    \n",
    "    if len(userList) !=6:\n",
    "        print(\"别乱输！\")\n",
    "        continue\n",
    "    \n",
    "    if userList == passwordList:\n",
    "        print(\"猜对了\")\n",
    "        break\n",
    "    else:\n",
    "        if userList[0] == passwordList[0]:\n",
    "            posCorrect = posCorrect + 1\n",
    "        if userList[1] == passwordList[1]:\n",
    "            posCorrect = posCorrect + 1\n",
    "        if userList[2] == passwordList[2]:\n",
    "            posCorrect = posCorrect + 1\n",
    "        if userList[3] == passwordList[3]:\n",
    "            posCorrect = posCorrect + 1\n",
    "        if userList[4] == passwordList[4]:\n",
    "            posCorrect = posCorrect + 1\n",
    "        if userList[5] == passwordList[5]:\n",
    "            posCorrect = posCorrect + 1\n",
    "        print(\"位置对：\" + str(posCorrect))\n",
    "        \n",
    "        if userList[0] in passwordList:\n",
    "            letterCorrect = letterCorrect + 1\n",
    "        if userList[1] in passwordList:\n",
    "            letterCorrect = letterCorrect + 1\n",
    "        if userList[2] in passwordList:\n",
    "            letterCorrect = letterCorrect + 1\n",
    "        if userList[3] in passwordList:\n",
    "            letterCorrect = letterCorrect + 1\n",
    "        if userList[4] in passwordList:\n",
    "            letterCorrect = letterCorrect + 1\n",
    "        if userList[5] in passwordList:\n",
    "            letterCorrect = letterCorrect + 1\n",
    "        print(\"密码对：\" + str(letterCorrect))"
   ]
  },
  {
   "cell_type": "code",
   "execution_count": null,
   "metadata": {},
   "outputs": [
    {
     "name": "stdout",
     "output_type": "stream",
     "text": [
      "-- -- -- -- -- -- 口算大师-- -- -- -- -- --\n"
     ]
    },
    {
     "name": "stdin",
     "output_type": "stream",
     "text": [
      "8+4= 12\n"
     ]
    },
    {
     "name": "stdout",
     "output_type": "stream",
     "text": [
      "恭喜你,答对了!\n"
     ]
    },
    {
     "name": "stdin",
     "output_type": "stream",
     "text": [
      "4-3= 1\n"
     ]
    },
    {
     "name": "stdout",
     "output_type": "stream",
     "text": [
      "恭喜你,答对了!\n"
     ]
    },
    {
     "name": "stdin",
     "output_type": "stream",
     "text": [
      "4-7= -3\n"
     ]
    },
    {
     "name": "stdout",
     "output_type": "stream",
     "text": [
      "恭喜你,答对了!\n"
     ]
    },
    {
     "name": "stdin",
     "output_type": "stream",
     "text": [
      "7*6= 42\n"
     ]
    },
    {
     "name": "stdout",
     "output_type": "stream",
     "text": [
      "恭喜你,答对了!\n"
     ]
    },
    {
     "name": "stdin",
     "output_type": "stream",
     "text": [
      "1+3= 5\n"
     ]
    },
    {
     "name": "stdout",
     "output_type": "stream",
     "text": [
      "很遗憾，你打错了！答案是4\n"
     ]
    },
    {
     "name": "stdin",
     "output_type": "stream",
     "text": [
      "2/8= 1/4\n"
     ]
    },
    {
     "name": "stdout",
     "output_type": "stream",
     "text": [
      "很遗憾，你打错了！答案是0.25\n"
     ]
    },
    {
     "name": "stdin",
     "output_type": "stream",
     "text": [
      "4-1= 3\n"
     ]
    },
    {
     "name": "stdout",
     "output_type": "stream",
     "text": [
      "恭喜你,答对了!\n"
     ]
    },
    {
     "name": "stdin",
     "output_type": "stream",
     "text": [
      "3*3= 9\n"
     ]
    },
    {
     "name": "stdout",
     "output_type": "stream",
     "text": [
      "恭喜你,答对了!\n"
     ]
    }
   ],
   "source": [
    "import random\n",
    "print(\"-- -- -- -- -- -- 口算大师-- -- -- -- -- --\")\n",
    "while True:\n",
    "    coin = random.randint(1,4) #抛硬币\n",
    "    if coin ==1:\n",
    "        #加法\n",
    "        a = random.randint(0,10)\n",
    "        b = random.randint(0,10)\n",
    "        c = a+b\n",
    "        user = input(str(a)+\"+\"+str(b)+\"=\")    \n",
    "        if str(c) == user:\n",
    "            print(\"恭喜你,答对了!\")\n",
    "        else:\n",
    "            print(\"很遗憾，你打错了！\"+\"答案是\"+str(c))\n",
    "        \n",
    "    if coin ==2:\n",
    "        #减法\n",
    "        a = random.randint(0,10)\n",
    "        b = random.randint(0,10)\n",
    "        c = a-b\n",
    "        user = input(str(a)+\"-\"+str(b)+\"=\")    \n",
    "        if str(c) == user:\n",
    "            print(\"恭喜你,答对了!\")\n",
    "        else:\n",
    "            print(\"很遗憾，你打错了！\"+\"答案是\"+str(c))\n",
    "    if coin ==3:\n",
    "        #乘法\n",
    "        a = random.randint(0,10)\n",
    "        b = random.randint(0,10)\n",
    "        c = a*b\n",
    "        user = input(str(a)+\"*\"+str(b)+\"=\")    \n",
    "        if str(c) == user:\n",
    "            print(\"恭喜你,答对了!\")\n",
    "        else:\n",
    "            print(\"很遗憾，你打错了！\"+\"答案是\"+str(c))\n",
    "    if coin ==4:\n",
    "        #除法\n",
    "        a = random.randint(0,10)\n",
    "        b = random.randint(0,10)\n",
    "        c = round(a/b,2)\n",
    "        user = input(str(a)+\"/\"+str(b)+\"=\")    \n",
    "        if str(c) == user:\n",
    "            print(\"恭喜你,答对了!\")\n",
    "        else:\n",
    "            print(\"很遗憾，你打错了！\"+\"答案是\"+str(c))"
   ]
  },
  {
   "cell_type": "code",
   "execution_count": null,
   "metadata": {},
   "outputs": [
    {
     "name": "stdin",
     "output_type": "stream",
     "text": [
      "输入算π的个数 5\n"
     ]
    },
    {
     "name": "stdout",
     "output_type": "stream",
     "text": [
      "1π=3.14\n",
      "2π=6.28\n",
      "3π=9.42\n",
      "4π=12.56\n",
      "5π=15.7\n"
     ]
    }
   ],
   "source": [
    "mubea = input (\"输入算π的个数\")\n",
    "mube = int(mubea) #目标算的π数\n",
    "ji = 0 #已经算的π数\n",
    "a=0\n",
    "b=0\n",
    "while ji != mube:\n",
    "    a=a+1\n",
    "    b=a\n",
    "    b=b*3.14\n",
    "    b1=round(b, 2)\n",
    "    c=str (b1)\n",
    "    d=\"π\"\n",
    "    e=str (a)\n",
    "    f=e+d #多少π\n",
    "    g=\"=\"\n",
    "    h=f+g #多少π等于\n",
    "    i=h+c\n",
    "    print(i)\n",
    "    ji=ji+1\n",
    "input(\"计算完毕\")\n"
   ]
  },
  {
   "cell_type": "code",
   "execution_count": 2,
   "metadata": {},
   "outputs": [
    {
     "name": "stdin",
     "output_type": "stream",
     "text": [
      "请输入密码: 123456\n"
     ]
    },
    {
     "name": "stdout",
     "output_type": "stream",
     "text": [
      "密码长度必须大于8位\n",
      "密码必须包含大写字母!\n",
      "密码必须包含小写字母!\n",
      "密码强度不合格\n",
      "\n"
     ]
    },
    {
     "name": "stdin",
     "output_type": "stream",
     "text": [
      "请输入密码: Abc123456789\n"
     ]
    },
    {
     "name": "stdout",
     "output_type": "stream",
     "text": [
      "密码强度合格\n"
     ]
    }
   ],
   "source": [
    "def pdsz(cd):\n",
    "    nnnn = False\n",
    "    for c in cd:\n",
    "        if c.isnumeric():\n",
    "            nnnn = True\n",
    "            break\n",
    "    return nnnn\n",
    "\n",
    "\n",
    "def pdzm(cd):\n",
    "    nnnn = False\n",
    "    for c in cd:\n",
    "        if c.isupper():\n",
    "            nnnn = True\n",
    "            break\n",
    "    return nnnn\n",
    "\n",
    "def pdhh(cd):\n",
    "    nnnn = False\n",
    "    for c in cd:\n",
    "        if c.islower():\n",
    "            nnnn = True\n",
    "            break\n",
    "    return nnnn\n",
    "def main():\n",
    "    \"\"\"\n",
    "    主函数\n",
    "    \"\"\"\n",
    "    cscs = 5\n",
    "    while cscs >0:\n",
    "        password = input('请输入密码:')\n",
    "        #密码强度判断\n",
    "        stregth_level = 0\n",
    "        jch = 0\n",
    "        #\n",
    "        if len(password) >= 8:\n",
    "            stregth_level += 1\n",
    "        else:\n",
    "            print('密码长度必须大于8位')\n",
    "\n",
    "\n",
    "        if pdsz(password):\n",
    "            stregth_level += 1\n",
    "            jch = '弱'\n",
    "        else:\n",
    "            print('密码必须包含数字!')\n",
    "\n",
    "\n",
    "        if pdzm(password):\n",
    "            stregth_level += 1\n",
    "            jch = '中'\n",
    "        else:\n",
    "            print('密码必须包含大写字母!')\n",
    "\n",
    "        if pdhh(password):\n",
    "            stregth_level += 1\n",
    "            jch = '较强'\n",
    "        else:\n",
    "            print('密码必须包含小写字母!')\n",
    "\n",
    "        # f = open('111', 'a')\n",
    "        # f.write(password)\n",
    "        # f.close()\n",
    "        if stregth_level == 4:\n",
    "            jch = '强'\n",
    "            print('密码强度合格')\n",
    "            f = open('111', 'a')\n",
    "            f.write('密码：{}, 强度:{}\\n'.format(password,jch))\n",
    "            f.close()\n",
    "            break\n",
    "        else:\n",
    "            print('密码强度不合格')\n",
    "            cscs -= 1\n",
    "        print()\n",
    "\n",
    "    if cscs <= 0:\n",
    "        print('尝试次数过多！')\n",
    "if __name__ == '__main__':\n",
    "    main()"
   ]
  },
  {
   "cell_type": "code",
   "execution_count": null,
   "metadata": {},
   "outputs": [],
   "source": []
  }
 ],
 "metadata": {
  "kernelspec": {
   "display_name": "Python 3",
   "language": "python",
   "name": "python3"
  },
  "language_info": {
   "codemirror_mode": {
    "name": "ipython",
    "version": 3
   },
   "file_extension": ".py",
   "mimetype": "text/x-python",
   "name": "python",
   "nbconvert_exporter": "python",
   "pygments_lexer": "ipython3",
   "version": "3.8.3"
  }
 },
 "nbformat": 4,
 "nbformat_minor": 4
}
