{
 "cells": [
  {
   "cell_type": "code",
   "execution_count": 2,
   "metadata": {},
   "outputs": [
    {
     "name": "stdout",
     "output_type": "stream",
     "text": [
      "6\n"
     ]
    }
   ],
   "source": [
    "class bearing4:\n",
    "    da = {}\n",
    "    de,fe,ba = [],[],[]\n",
    "    sampling_rate = 0\n",
    "    \n",
    "    def __init__(self,ad,rate):    \n",
    "        self.da = io.loadmat(str(ad)+'.mat')\n",
    "        self.de = np.array([x[0] for x in self.da['X'+str(ad)+'_DE_time']])\n",
    "        self.fe = np.array([x[0] for x in self.da['X'+str(ad)+'_FE_time']])\n",
    "        self.ba = np.array([x[0] for x in self.da['X'+str(ad)+'_BA_time']])\n",
    "        self.sampling_rate = rate\n",
    "        return\n",
    "    \n",
    "    def STFT_img1(self,data,name = 'hann'):\n",
    "        #短时傅里叶变换\n",
    "        f, t, zxx = signal.stft(data,fs = self.sampling_rate,window = 'hann',nperseg = 128,noverlap=127)\n",
    "        plt.figure(figsize = (12, 4))\n",
    "        plt.contourf(t,f, np.abs(zxx))\n",
    "        plt.colorbar()\n",
    "        plt.title('STFT Manitude' + '-' + name)\n",
    "        plt.ylabel('Frequency [Hz]')\n",
    "        plt.xlabel('Time [sec]')\n",
    "        fig = plt.figure(figsize=(12, 9))\n",
    "        axes3d = Axes3D(fig)\n",
    "        print(t.shape,f.shape,zxx.shape)\n",
    "        T,F=np.meshgrid(t,f)\n",
    "        print(F.shape,T.shape,zxx.shape)\n",
    "        axes3d.plot_surface(F,T, np.abs(zxx))\n",
    "        axes3d.set_xlabel('Frequency [Hz]')\n",
    "        axes3d.set_ylabel('Time [sec]')\n",
    "        axes3d.set_zlabel('STFT')\n",
    "        return \n",
    "    \n",
    "    def CWT_img2(self,data,name = 'morl',wavename = 'morl'):\n",
    "        #连续小波分析\n",
    "        '''墨西哥帽小波\"mexh\"\n",
    "        Morlet小波\"morl\"\n",
    "        复数Morlet小波（\"cmorB-C\"浮点值B，C）\n",
    "        高斯小波（\"gausP\"其中P是1到8之间的整数）\n",
    "        复数高斯小波（\"cgauP\"其中P是1到8之间的整数）\n",
    "        香农小波（\"shanB-C\"具有浮点值B和C）哪里 B 是带宽和 C 是中心频率。\n",
    "        频率B样条小波（\"fpspM-B-C\"具有整数M和浮点B，C）\n",
    "        M  是样条顺序， B 是带宽和 C 是中心频率。\n",
    "        '''\n",
    "        T = 1.0 / self.sampling_rate\n",
    "        #采样周期\n",
    "        t = np.arange(0, len(data) * T, T)\n",
    "        fc = pywt.central_frequency(wavename)\n",
    "        #中心频率\n",
    "        totalscal = 20\n",
    "        #小波尺度\n",
    "        cparam = 2 * fc * totalscal\n",
    "        #计算小波尺度\n",
    "        scales = cparam / np.arange(totalscal, 0, -1)\n",
    "        [cwtmatr, frequencies] = pywt.cwt(data, scales, wavename, T)\n",
    "        plt.figure(figsize = (12, 4))\n",
    "        plt.plot(t, data)\n",
    "        plt.figure(figsize = (12, 4))\n",
    "        plt.contourf(t, frequencies, abs(cwtmatr))\n",
    "        plt.colorbar()\n",
    "        plt.title('CWT Manitude' + '-' + name)\n",
    "        plt.ylabel('Frequency [Hz]')\n",
    "        plt.xlabel('Time [sec]')\n",
    "        return\n",
    "    \n",
    "    def CYWT_img3(self,data,wavelet,maxlevel = 3):\n",
    "        #小波包分析\n",
    "        plt.rcParams['font.sans-serif'] = ['Simhei']\n",
    "        #正常显示中文字体\n",
    "        plt.rcParams['axes.unicode_minus'] = False\n",
    "        #显示正负号\n",
    "        energy = []\n",
    "        wp = pywt.WaveletPacket(data = data,wavelet = wavelet,mode = 'symmetric',maxlevel = maxlevel)\n",
    "        freqTree = [node.path for node in wp.get_level(maxlevel,'freq')]\n",
    "        freqBand = self.sampling_rate / (2 ** maxlevel)\n",
    "\n",
    "        fig,axes = plt.subplots(len(freqTree) + 1,1,figsize = (10,7))\n",
    "        axes[0].plot(data)\n",
    "        axes[0].set_title('原始数据')\n",
    "\n",
    "        for i in range(len(freqTree)):\n",
    "            axes[i + 1].plot(wp[freqTree[i]].reconstruct(update = True))\n",
    "            axes[i + 1].set_title('S'+str(i + 1),y = 0.15,x = 1.02)\n",
    "            energy.append(pow(np.linalg.norm(wp[freqTree[i]].data,ord=None),2))\n",
    "        plt.figure(figsize = (12,4))\n",
    "        plt.bar(np.arange(2 ** maxlevel),energy)\n",
    "        plt.xlabel('频带段')\n",
    "        plt.ylabel('振动能量')\n",
    "        return\n",
    "    \n",
    "    def EMD_img4(self,data):\n",
    "        #EMD分析\n",
    "        T = 1.0 / self.sampling_rate  # 采样周期\n",
    "        t = np.arange(0, len(data) * T, T)\n",
    "        emd = EMD()\n",
    "        emd.emd(data, t)\n",
    "        # 提取IMF，与残差\n",
    "        IMFs,res=emd.get_imfs_and_residue()\n",
    "        # 绘制IMF\n",
    "        vis1 = Visualisation()\n",
    "        vis1.plot_imfs(imfs=IMFs,residue=res,t=t,include_residue=True)\n",
    "        # 绘制并显示所提供IMF的瞬时频率\n",
    "        vis2 = Visualisation()\n",
    "        vis2.plot_instant_freq(t,imfs=IMFs)\n",
    "print(6)"
   ]
  },
  {
   "cell_type": "code",
   "execution_count": 3,
   "metadata": {},
   "outputs": [
    {
     "name": "stdout",
     "output_type": "stream",
     "text": [
      "5\n"
     ]
    }
   ],
   "source": [
    "class bearing3:\n",
    "    da = {}\n",
    "    de,fe,ba = [],[],[]\n",
    "    sampling_rate = 0\n",
    "    \n",
    "    def __init__(self,ad,rate):    \n",
    "        self.da = io.loadmat(str(ad)+'.mat')\n",
    "        self.de = np.array([x[0] for x in self.da['X'+str(ad)+'_DE_time']])\n",
    "        self.fe = np.array([x[0] for x in self.da['X'+str(ad)+'_FE_time']])\n",
    "        self.ba = np.array([x[0] for x in self.da['X'+str(ad)+'_BA_time']])\n",
    "        self.sampling_rate = rate\n",
    "        return\n",
    "    \n",
    "    def __pl132(self,x,y,xlabel,ylabel,title):\n",
    "        #内部绘图函数\n",
    "        plt.figure(figsize = (12,4))\n",
    "        plt.plot(x,y)\n",
    "        plt.xlabel(xlabel)\n",
    "        plt.ylabel(ylabel)\n",
    "        plt.title(title)\n",
    "        return\n",
    "    \n",
    "    def __FFT(self,da):\n",
    "        #内部傅里叶变换函数\n",
    "        N = len(da)\n",
    "        df = self.sampling_rate/N\n",
    "        f = np.arange(0,self.sampling_rate / 2,df)\n",
    "        y = fft(da)\n",
    "        yf = abs(y)[0:len(f)]\n",
    "        return [f,yf]\n",
    "    \n",
    "    def ft_img(self,da):\n",
    "        #绘制信号的时域图像\n",
    "        N = len(da)\n",
    "        dt = 1 / self.sampling_rate\n",
    "        t = np.arange(0,N*dt,dt)\n",
    "        self.__pl(t,da,'t/s','x(t)','Signal')\n",
    "        return\n",
    "    \n",
    "    def fft_img3(self,da,title):\n",
    "        #对信号进行傅里叶变换并绘制其频谱图像\n",
    "        f = self.__FFT(da)       \n",
    "        self.__pl(f[0],f[1],'fs/Hz','al',str(title)  + ' FFT')\n",
    "        return\n",
    "    \n",
    "    def corx_img(self,da):\n",
    "        #对信号进行自相关分析并绘制其自相关图像和自谱图像\n",
    "        cor_x = np.correlate(da,da,'full')\n",
    "        de1 = np.arange(len(cor_x) / 2, 0, -1)\n",
    "        de = np.hstack([de1[::-1], de1[1:]])\n",
    "        dt=1/self.sampling_rate\n",
    "        x = np.arange(-(len(cor_x)-1)/2*dt,((len(cor_x)-1)/2+1)*dt,dt)\n",
    "        self.__pl(x,cor_x/de,'t/s','al','Autucorrelation')\n",
    "        f = self.__FFT(cor_x/de)\n",
    "        self.__pl(f[0],f[1],'fs/Hz','al','Self power spectrum')\n",
    "        return\n",
    "    \n",
    "    def corxy_img1(self,dax,day):\n",
    "        #对信号进行互相关分析并绘制其互相关图像和互谱图像\n",
    "        cor_xy = np.correlate(dax,day,'full')\n",
    "        N = len(cor_xy)\n",
    "        x = range(-N//2,N//2)\n",
    "        self.__pl(x,cor_xy,'t/s','al','Cross-correlation')\n",
    "        f = self.__FFT(cor_xy)\n",
    "        self.__pl(f[0],f[1],'fs/Hz','al','Cross power spectrum')\n",
    "        return\n",
    "    \n",
    "    def pro_den_img2(self,da):\n",
    "        #绘制信号的概率密度函数图像\n",
    "        plt.figure(figsize = (12,4))\n",
    "        sns.distplot(da,bins = 500)\n",
    "        sns.kdeplot(da)\n",
    "        plt.title('Probability density function')\n",
    "        return\n",
    "    \n",
    "    def compare_fft3(self,da1,da2):\n",
    "        #比较两个信号的频谱\n",
    "        f1 = self.__FFT(da1)\n",
    "        f2 = self.__FFT(da2)\n",
    "        delta_f = [f2[1][i]-f1[1][i] for i in range(0,len(f1[0]))]\n",
    "        self.__pl(f1[0],delta_f,'fs/Hz','delta_al','Compare FFT')\n",
    "        return\n",
    "print(5)"
   ]
  },
  {
   "cell_type": "code",
   "execution_count": 4,
   "metadata": {},
   "outputs": [
    {
     "name": "stdout",
     "output_type": "stream",
     "text": [
      "0123456789\n",
      "012345678\n",
      "0\n",
      "234\n",
      "23456789\n",
      "13\n",
      "01234567890123456789\n",
      "0123456789abc\n",
      "hello\n",
      "python\n",
      "hello\\npython\n"
     ]
    }
   ],
   "source": [
    "str = '0123456789'\n",
    "print(str)\n",
    "print(str[0:-1])\n",
    "print(str[0])                 #20\n",
    "print(str[2:5])\n",
    "print(str[2:])\n",
    "print(str[1:5:2])\n",
    "print(str*2)\n",
    "print(str+'abc')\n",
    "print('hello\\npython')\n",
    "print(r'hello\\npython')"
   ]
  },
  {
   "cell_type": "code",
   "execution_count": 5,
   "metadata": {},
   "outputs": [
    {
     "name": "stdout",
     "output_type": "stream",
     "text": [
      "6 6 6\n",
      "6 6 6\n",
      "10 6 6\n",
      "1 2 123\n"
     ]
    }
   ],
   "source": [
    "x = [1,2,3,4,5,6,7,8,9]\n",
    "a = b = c = x[5]\n",
    "print(a,b,c)\n",
    "x[5] = 10\n",
    "print(a,b,c)\n",
    "a = 10\n",
    "print(a,b,c)\n",
    "a,b,c = 1,2,'123'\n",
    "print(a,b,c)       "
   ]
  },
  {
   "cell_type": "code",
   "execution_count": 6,
   "metadata": {},
   "outputs": [
    {
     "name": "stdout",
     "output_type": "stream",
     "text": [
      "python like I\n",
      "8\n"
     ]
    }
   ],
   "source": [
    "def reverseWords(input):\n",
    "    inputWords = input.split(' ')\n",
    "    inputWords = inputWords[-1::-1]            #70\n",
    "    output = ' '.join(inputWords)\n",
    "    return output\n",
    "if __name__ == '__main__':\n",
    "    input = 'I like python'\n",
    "    rw = reverseWords(input)\n",
    "    print(rw)\n",
    "print(8)"
   ]
  },
  {
   "cell_type": "code",
   "execution_count": 7,
   "metadata": {},
   "outputs": [
    {
     "name": "stdout",
     "output_type": "stream",
     "text": [
      "('abcd', 123, 1.23, 'python', 3.14)\n",
      "abcd\n",
      "(123, 1.23)\n",
      "(1.23, 'python', 3.14)\n",
      "(123, 'runoob', 123, 'runoob')\n",
      "('abcd', 123, 1.23, 'python', 3.14, 123, 'runoob')\n"
     ]
    }
   ],
   "source": [
    "tuple = ('abcd',123,1.23,'python',3.14)\n",
    "tinytuple = (123,'runoob')\n",
    "print(tuple)\n",
    "print(tuple[0])                              #80\n",
    "print(tuple[1:3])\n",
    "print(tuple[2:])\n",
    "print(tinytuple*2)\n",
    "print(tuple + tinytuple)"
   ]
  },
  {
   "cell_type": "code",
   "execution_count": 8,
   "metadata": {},
   "outputs": [
    {
     "name": "stdout",
     "output_type": "stream",
     "text": [
      "{'e', 'c', 'd', 'f', 'a', 'g', 'y', 'z', 'x', 'b'}\n",
      "{'x', 'z', 'y'}\n",
      "{'r', 'd', 'g', 'z', 'x', 'b', 't', 'e', 'c', 'f', 'a', 'y', 's'}\n",
      "{'e', 'c', 'd', 'f', 'a', 'g', 'b'}\n",
      "{'r', 't', 'y', 'z', 's', 'x'}\n"
     ]
    }
   ],
   "source": [
    "a = set('abcdefgxyz')\n",
    "b = set('cdefgababcrst')\n",
    "print(a)\n",
    "print(a - b)\n",
    "print(a | b)\n",
    "print(a & b)\n",
    "print(a ^ b)"
   ]
  },
  {
   "cell_type": "code",
   "execution_count": 10,
   "metadata": {},
   "outputs": [
    {
     "name": "stdout",
     "output_type": "stream",
     "text": [
      "1 - c 的值为： 31\n",
      "2 - c 的值为： 11\n",
      "3 - c 的值为： 210\n",
      "4 - c 的值为： 2.1\n",
      "5 - c 的值为： 2\n",
      "6 - c 的值为： 1\n",
      "7 - c 的值为： 8\n"
     ]
    }
   ],
   "source": [
    "a = 21\n",
    "b = 10\n",
    "c = 0\n",
    "c = a + b\n",
    "print('1 - c 的值为：',c)\n",
    "c = a - b                                     \n",
    "print('2 - c 的值为：',c)\n",
    "c = a * b\n",
    "print('3 - c 的值为：',c)\n",
    "c = a / b\n",
    "print('4 - c 的值为：',c)\n",
    "c = a // b\n",
    "print('5 - c 的值为：',c)\n",
    "c = a % b\n",
    "print('6 - c 的值为：',c)\n",
    "a = 2                                         \n",
    "b = 3\n",
    "c = a ** b\n",
    "print('7 - c 的值为：',c)"
   ]
  },
  {
   "cell_type": "code",
   "execution_count": null,
   "metadata": {},
   "outputs": [],
   "source": []
  }
 ],
 "metadata": {
  "kernelspec": {
   "display_name": "Python 3",
   "language": "python",
   "name": "python3"
  },
  "language_info": {
   "codemirror_mode": {
    "name": "ipython",
    "version": 3
   },
   "file_extension": ".py",
   "mimetype": "text/x-python",
   "name": "python",
   "nbconvert_exporter": "python",
   "pygments_lexer": "ipython3",
   "version": "3.8.5"
  }
 },
 "nbformat": 4,
 "nbformat_minor": 4
}
