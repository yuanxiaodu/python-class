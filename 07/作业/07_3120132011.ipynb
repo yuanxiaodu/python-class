{
 "cells": [
  {
   "cell_type": "code",
   "execution_count": 2,
   "metadata": {},
   "outputs": [
    {
     "name": "stdout",
     "output_type": "stream",
     "text": [
      "Vector (7, 8)\n"
     ]
    }
   ],
   "source": [
    "class Vector:\n",
    "   def __init__(self, a, b):\n",
    "      self.a = a\n",
    "      self.b = b\n",
    " \n",
    "   def __str__(self):\n",
    "      return 'Vector (%d, %d)' % (self.a, self.b)\n",
    "   \n",
    "   def __add__(self,other):\n",
    "      return Vector(self.a + other.a, self.b + other.b)\n",
    " \n",
    "v1 = Vector(2,10)\n",
    "v2 = Vector(5,-2)\n",
    "print (v1 + v2)"
   ]
  },
  {
   "cell_type": "code",
   "execution_count": 3,
   "metadata": {},
   "outputs": [
    {
     "name": "stdout",
     "output_type": "stream",
     "text": [
      "函数内是局部变量 :  30\n",
      "函数外是全局变量 :  0\n"
     ]
    }
   ],
   "source": [
    "total = 0 # 这是一个全局变量\n",
    "# 可写函数说明\n",
    "def sum( arg1, arg2 ):\n",
    "    #返回2个参数的和.\"\n",
    "    total = arg1 + arg2 # total在这里是局部变量.\n",
    "    print (\"函数内是局部变量 : \", total)\n",
    "    return total\n",
    " \n",
    "#调用sum函数\n",
    "sum( 10, 20 )\n",
    "print (\"函数外是全局变量 : \", total)"
   ]
  },
  {
   "cell_type": "code",
   "execution_count": 4,
   "metadata": {},
   "outputs": [
    {
     "name": "stdout",
     "output_type": "stream",
     "text": [
      "1\n",
      "123\n",
      "123\n"
     ]
    }
   ],
   "source": [
    "num = 1\n",
    "def fun1():\n",
    "    global num  # 需要使用 global 关键字声明\n",
    "    print(num) \n",
    "    num = 123\n",
    "    print(num)\n",
    "fun1()\n",
    "print(num)"
   ]
  },
  {
   "cell_type": "code",
   "execution_count": 5,
   "metadata": {},
   "outputs": [
    {
     "name": "stdout",
     "output_type": "stream",
     "text": [
      "100\n",
      "100\n"
     ]
    }
   ],
   "source": [
    "def outer():\n",
    "    num = 10\n",
    "    def inner():\n",
    "        nonlocal num   # nonlocal关键字声明\n",
    "        num = 100\n",
    "        print(num)\n",
    "    inner()\n",
    "    print(num)\n",
    "outer()"
   ]
  },
  {
   "cell_type": "code",
   "execution_count": 6,
   "metadata": {},
   "outputs": [
    {
     "name": "stdout",
     "output_type": "stream",
     "text": [
      "11\n"
     ]
    }
   ],
   "source": [
    "a = 10\n",
    "def test():\n",
    "    global a\n",
    "    a = a + 1\n",
    "    print(a)\n",
    "test()"
   ]
  },
  {
   "cell_type": "code",
   "execution_count": 7,
   "metadata": {},
   "outputs": [
    {
     "name": "stdout",
     "output_type": "stream",
     "text": [
      "11\n"
     ]
    }
   ],
   "source": [
    "a = 10\n",
    "def test(a):\n",
    "    a = a + 1\n",
    "    print(a)\n",
    "test(a)"
   ]
  },
  {
   "cell_type": "code",
   "execution_count": 8,
   "metadata": {},
   "outputs": [
    {
     "name": "stdout",
     "output_type": "stream",
     "text": [
      "Hello World!\n"
     ]
    }
   ],
   "source": [
    "# -*- coding: UTF-8 -*-\n",
    "\n",
    "# Filename : helloworld.py\n",
    "# author by : www.runoob.com\n",
    "\n",
    "# 该实例输出 Hello World!\n",
    "print('Hello World!')"
   ]
  },
  {
   "cell_type": "code",
   "execution_count": 9,
   "metadata": {},
   "outputs": [
    {
     "name": "stdin",
     "output_type": "stream",
     "text": [
      "输入第一个数字： 2\n",
      "输入第二个数字： 3\n"
     ]
    },
    {
     "name": "stdout",
     "output_type": "stream",
     "text": [
      "数字 2 和 3 相加结果为： 5.0\n"
     ]
    }
   ],
   "source": [
    "\n",
    "# -*- coding: UTF-8 -*-\n",
    " \n",
    "# Filename : test.py\n",
    "# author by : www.runoob.com\n",
    " \n",
    "# 用户输入数字\n",
    "num1 = input('输入第一个数字：')\n",
    "num2 = input('输入第二个数字：')\n",
    " \n",
    "# 求和\n",
    "sum = float(num1) + float(num2)\n",
    " \n",
    "# 显示计算结果\n",
    "print('数字 {0} 和 {1} 相加结果为： {2}'.format(num1, num2, sum))\n"
   ]
  },
  {
   "cell_type": "code",
   "execution_count": 10,
   "metadata": {},
   "outputs": [
    {
     "name": "stdin",
     "output_type": "stream",
     "text": [
      "请输入一个数字：  4\n"
     ]
    },
    {
     "name": "stdout",
     "output_type": "stream",
     "text": [
      " 4.000 的平方根为 2.000\n"
     ]
    }
   ],
   "source": [
    "\n",
    "# -*- coding: UTF-8 -*-\n",
    " \n",
    "# Filename : test.py\n",
    "# author by : www.runoob.com\n",
    " \n",
    "num = float(input('请输入一个数字： '))\n",
    "num_sqrt = num ** 0.5\n",
    "print(' %0.3f 的平方根为 %0.3f'%(num ,num_sqrt))\n"
   ]
  },
  {
   "cell_type": "code",
   "execution_count": 11,
   "metadata": {},
   "outputs": [
    {
     "name": "stdin",
     "output_type": "stream",
     "text": [
      "输入 a:  2\n",
      "输入 b:  4\n",
      "输入 c:  8\n"
     ]
    },
    {
     "name": "stdout",
     "output_type": "stream",
     "text": [
      "结果为 (-1-1.7320508075688772j) 和 (-1+1.7320508075688772j)\n"
     ]
    }
   ],
   "source": [
    "\n",
    "# Filename : test.py\n",
    "# author by : www.runoob.com\n",
    " \n",
    "# 二次方程式 ax**2 + bx + c = 0\n",
    "# a、b、c 用户提供，为实数，a ≠ 0\n",
    " \n",
    "# 导入 cmath(复杂数学运算) 模块\n",
    "import cmath\n",
    " \n",
    "a = float(input('输入 a: '))\n",
    "b = float(input('输入 b: '))\n",
    "c = float(input('输入 c: '))\n",
    " \n",
    "# 计算\n",
    "d = (b**2) - (4*a*c)\n",
    " \n",
    "# 两种求解方式\n",
    "sol1 = (-b-cmath.sqrt(d))/(2*a)\n",
    "sol2 = (-b+cmath.sqrt(d))/(2*a)\n",
    " \n",
    "print('结果为 {0} 和 {1}'.format(sol1,sol2))\n"
   ]
  },
  {
   "cell_type": "code",
   "execution_count": 12,
   "metadata": {},
   "outputs": [
    {
     "name": "stdin",
     "output_type": "stream",
     "text": [
      "输入一个年份:  2021\n"
     ]
    },
    {
     "name": "stdout",
     "output_type": "stream",
     "text": [
      "2021 不是闰年\n"
     ]
    }
   ],
   "source": [
    "\n",
    "# -*- coding: UTF-8 -*-\n",
    " \n",
    "# Filename : test.py\n",
    "# author by : www.runoob.com\n",
    " \n",
    "year = int(input(\"输入一个年份: \"))\n",
    "if (year % 4) == 0:\n",
    "   if (year % 100) == 0:\n",
    "       if (year % 400) == 0:\n",
    "           print(\"{0} 是闰年\".format(year))   # 整百年能被400整除的是闰年\n",
    "       else:\n",
    "           print(\"{0} 不是闰年\".format(year))\n",
    "   else:\n",
    "       print(\"{0} 是闰年\".format(year))       # 非整百年能被4整除的为闰年\n",
    "else:\n",
    "   print(\"{0} 不是闰年\".format(year))\n"
   ]
  },
  {
   "cell_type": "code",
   "execution_count": 13,
   "metadata": {},
   "outputs": [
    {
     "name": "stdout",
     "output_type": "stream",
     "text": [
      "1x1=1\t\n",
      "1x2=2\t2x2=4\t\n",
      "1x3=3\t2x3=6\t3x3=9\t\n",
      "1x4=4\t2x4=8\t3x4=12\t4x4=16\t\n",
      "1x5=5\t2x5=10\t3x5=15\t4x5=20\t5x5=25\t\n",
      "1x6=6\t2x6=12\t3x6=18\t4x6=24\t5x6=30\t6x6=36\t\n",
      "1x7=7\t2x7=14\t3x7=21\t4x7=28\t5x7=35\t6x7=42\t7x7=49\t\n",
      "1x8=8\t2x8=16\t3x8=24\t4x8=32\t5x8=40\t6x8=48\t7x8=56\t8x8=64\t\n",
      "1x9=9\t2x9=18\t3x9=27\t4x9=36\t5x9=45\t6x9=54\t7x9=63\t8x9=72\t9x9=81\t\n"
     ]
    }
   ],
   "source": [
    "\n",
    "# -*- coding: UTF-8 -*-\n",
    " \n",
    "# Filename : test.py\n",
    "# author by : www.runoob.com\n",
    " \n",
    "# 九九乘法表\n",
    "for i in range(1, 10):\n",
    "    for j in range(1, i+1):\n",
    "        print('{}x{}={}\\t'.format(j, i, i*j), end='')\n",
    "    print()\n"
   ]
  },
  {
   "cell_type": "code",
   "execution_count": 14,
   "metadata": {},
   "outputs": [
    {
     "name": "stdin",
     "output_type": "stream",
     "text": [
      "输入年份:  2021\n",
      "输入月份:  1\n"
     ]
    },
    {
     "name": "stdout",
     "output_type": "stream",
     "text": [
      "    January 2021\n",
      "Mo Tu We Th Fr Sa Su\n",
      "             1  2  3\n",
      " 4  5  6  7  8  9 10\n",
      "11 12 13 14 15 16 17\n",
      "18 19 20 21 22 23 24\n",
      "25 26 27 28 29 30 31\n",
      "\n"
     ]
    }
   ],
   "source": [
    "\n",
    "# Filename : test.py\n",
    "# author by : www.runoob.com\n",
    " \n",
    "# 引入日历模块\n",
    "import calendar\n",
    " \n",
    "# 输入指定年月\n",
    "yy = int(input(\"输入年份: \"))\n",
    "mm = int(input(\"输入月份: \"))\n",
    " \n",
    "# 显示日历\n",
    "print(calendar.month(yy,mm))\n"
   ]
  },
  {
   "cell_type": "code",
   "execution_count": 15,
   "metadata": {},
   "outputs": [
    {
     "name": "stdout",
     "output_type": "stream",
     "text": [
      "9号下船了\n",
      "18号下船了\n",
      "27号下船了\n",
      "6号下船了\n",
      "16号下船了\n",
      "26号下船了\n",
      "7号下船了\n",
      "19号下船了\n",
      "30号下船了\n",
      "12号下船了\n",
      "24号下船了\n",
      "8号下船了\n",
      "22号下船了\n",
      "5号下船了\n",
      "23号下船了\n"
     ]
    }
   ],
   "source": [
    "people={}\n",
    "for x in range(1,31):\n",
    "    people[x]=1\n",
    "# print(people)\n",
    "check=0\n",
    "i=1\n",
    "j=0\n",
    "while i<=31:\n",
    "    if i == 31:\n",
    "        i=1\n",
    "    elif j == 15:\n",
    "        break\n",
    "    else:\n",
    "        if people[i] == 0:\n",
    "            i+=1\n",
    "            continue\n",
    "        else:\n",
    "            check+=1\n",
    "            if check == 9:\n",
    "                people[i]=0\n",
    "                check = 0\n",
    "                print(\"{}号下船了\".format(i))\n",
    "                j+=1\n",
    "            else:\n",
    "                i+=1\n",
    "                continue"
   ]
  },
  {
   "cell_type": "code",
   "execution_count": 16,
   "metadata": {},
   "outputs": [
    {
     "name": "stdout",
     "output_type": "stream",
     "text": [
      "总共有3121条鱼\n"
     ]
    }
   ],
   "source": [
    "def main():\n",
    "    fish = 1\n",
    "    while True:\n",
    "        total, enough = fish, True\n",
    "        for _ in range(5):\n",
    "            if (total - 1) % 5 == 0:\n",
    "                total = (total - 1)  //  5 * 4\n",
    "            else:\n",
    "                enough = False\n",
    "                break\n",
    "        if enough:\n",
    "            print(f'总共有{fish}条鱼')\n",
    "            break\n",
    "        fish += 1\n",
    "\n",
    "\n",
    "if __name__ == '__main__':\n",
    "    main()"
   ]
  },
  {
   "cell_type": "code",
   "execution_count": 17,
   "metadata": {},
   "outputs": [
    {
     "name": "stdout",
     "output_type": "stream",
     "text": [
      "按下回车开始计时，按下 Ctrl + C 停止计时。\n"
     ]
    },
    {
     "name": "stdin",
     "output_type": "stream",
     "text": [
      " \n"
     ]
    },
    {
     "name": "stdout",
     "output_type": "stream",
     "text": [
      "开始\n",
      "结束:  38.0 秒\n",
      "总共的时间为: 39.22 secs\n"
     ]
    }
   ],
   "source": [
    "import time\n",
    "  \n",
    "print('按下回车开始计时，按下 Ctrl + C 停止计时。')\n",
    "while True:\n",
    "    \n",
    "    input(\"\") # 如果是 python 2.x 版本请使用 raw_input() \n",
    "    starttime = time.time()\n",
    "    print('开始')\n",
    "    try:\n",
    "        while True:\n",
    "            print('计时: ', round(time.time() - starttime, 0), '秒', end=\"\\r\")\n",
    "            time.sleep(1)\n",
    "    except KeyboardInterrupt:\n",
    "        print('结束')\n",
    "        endtime = time.time()\n",
    "        print('总共的时间为:', round(endtime - starttime, 2),'secs')\n",
    "        break"
   ]
  },
  {
   "cell_type": "code",
   "execution_count": 18,
   "metadata": {},
   "outputs": [
    {
     "name": "stdout",
     "output_type": "stream",
     "text": [
      "拓扑排序结果：\n",
      "[5, 4, 2, 3, 1, 0]\n"
     ]
    }
   ],
   "source": [
    "\n",
    "from collections import defaultdict \n",
    " \n",
    "class Graph: \n",
    "    def __init__(self,vertices): \n",
    "        self.graph = defaultdict(list) \n",
    "        self.V = vertices\n",
    "  \n",
    "    def addEdge(self,u,v): \n",
    "        self.graph[u].append(v) \n",
    "  \n",
    "    def topologicalSortUtil(self,v,visited,stack): \n",
    "  \n",
    "        visited[v] = True\n",
    "  \n",
    "        for i in self.graph[v]: \n",
    "            if visited[i] == False: \n",
    "                self.topologicalSortUtil(i,visited,stack) \n",
    "  \n",
    "        stack.insert(0,v) \n",
    "  \n",
    "    def topologicalSort(self): \n",
    "        visited = [False]*self.V \n",
    "        stack =[] \n",
    "  \n",
    "        for i in range(self.V): \n",
    "            if visited[i] == False: \n",
    "                self.topologicalSortUtil(i,visited,stack) \n",
    "  \n",
    "        print (stack) \n",
    "  \n",
    "g= Graph(6) \n",
    "g.addEdge(5, 2); \n",
    "g.addEdge(5, 0); \n",
    "g.addEdge(4, 0); \n",
    "g.addEdge(4, 1); \n",
    "g.addEdge(2, 3); \n",
    "g.addEdge(3, 1); \n",
    "  \n",
    "print (\"拓扑排序结果：\")\n",
    "g.topologicalSort()\n"
   ]
  },
  {
   "cell_type": "code",
   "execution_count": 20,
   "metadata": {},
   "outputs": [
    {
     "name": "stdout",
     "output_type": "stream",
     "text": [
      "2020-12-29 15:51:57\n"
     ]
    }
   ],
   "source": [
    "\n",
    "import time\n",
    "import datetime\n",
    " \n",
    "# 先获得时间数组格式的日期\n",
    "threeDayAgo = (datetime.datetime.now() - datetime.timedelta(days = 3))\n",
    "# 转换为时间戳\n",
    "timeStamp = int(time.mktime(threeDayAgo.timetuple()))\n",
    "# 转换为其他字符串格式\n",
    "otherStyleTime = threeDayAgo.strftime(\"%Y-%m-%d %H:%M:%S\")\n",
    "print(otherStyleTime)\n"
   ]
  },
  {
   "cell_type": "code",
   "execution_count": 21,
   "metadata": {},
   "outputs": [
    {
     "name": "stdout",
     "output_type": "stream",
     "text": [
      "2019-05-07 15:40:00\n"
     ]
    }
   ],
   "source": [
    "\n",
    "import time\n",
    "import datetime\n",
    " \n",
    "#给定时间戳\n",
    "timeStamp = 1557502800\n",
    "dateArray = datetime.datetime.utcfromtimestamp(timeStamp)\n",
    "threeDayAgo = dateArray - datetime.timedelta(days = 3)\n",
    "print(threeDayAgo)\n"
   ]
  },
  {
   "cell_type": "code",
   "execution_count": null,
   "metadata": {},
   "outputs": [],
   "source": []
  }
 ],
 "metadata": {
  "kernelspec": {
   "display_name": "Python 3",
   "language": "python",
   "name": "python3"
  },
  "language_info": {
   "codemirror_mode": {
    "name": "ipython",
    "version": 3
   },
   "file_extension": ".py",
   "mimetype": "text/x-python",
   "name": "python",
   "nbconvert_exporter": "python",
   "pygments_lexer": "ipython3",
   "version": "3.8.3"
  }
 },
 "nbformat": 4,
 "nbformat_minor": 4
}
