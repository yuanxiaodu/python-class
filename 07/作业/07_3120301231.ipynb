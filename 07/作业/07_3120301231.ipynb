{
 "cells": [
  {
   "cell_type": "code",
   "execution_count": 1,
   "metadata": {},
   "outputs": [
    {
     "name": "stdout",
     "output_type": "stream",
     "text": [
      "https://blog.csdn.net/zzc15806/article/details/105443270\n",
      "https://blog.csdn.net/zzc15806/article/details/105443270\n",
      "https://blog.csdn.net/zzc15806/article/details/90510292\n",
      "https://blog.csdn.net/zzc15806/article/details/90510292\n",
      "https://blog.csdn.net/zzc15806/article/details/90376023\n",
      "https://blog.csdn.net/zzc15806/article/details/90376023\n",
      "https://blog.csdn.net/zzc15806/article/details/89920539\n",
      "https://blog.csdn.net/zzc15806/article/details/89920539\n",
      "https://blog.csdn.net/zzc15806/article/details/90140937\n",
      "https://blog.csdn.net/zzc15806/article/details/90140937\n",
      "https://blog.csdn.net/zzc15806/article/details/89135069\n",
      "https://blog.csdn.net/zzc15806/article/details/89135069\n",
      "https://blog.csdn.net/zzc15806/article/details/89034076\n",
      "https://blog.csdn.net/zzc15806/article/details/89034076\n",
      "https://blog.csdn.net/zzc15806/article/details/88555361\n",
      "https://blog.csdn.net/zzc15806/article/details/88555361\n",
      "https://blog.csdn.net/zzc15806/article/details/88222125\n",
      "https://blog.csdn.net/zzc15806/article/details/88222125\n",
      "https://blog.csdn.net/zzc15806/article/details/87728806\n",
      "https://blog.csdn.net/zzc15806/article/details/87728806\n",
      "https://blog.csdn.net/zzc15806/article/details/86022593\n",
      "https://blog.csdn.net/zzc15806/article/details/86022593\n",
      "https://blog.csdn.net/zzc15806/article/details/85342434\n",
      "https://blog.csdn.net/zzc15806/article/details/85342434\n",
      "https://blog.csdn.net/zzc15806/article/details/85341923\n",
      "https://blog.csdn.net/zzc15806/article/details/85341923\n",
      "https://blog.csdn.net/zzc15806/article/details/84996039\n",
      "https://blog.csdn.net/zzc15806/article/details/84996039\n",
      "https://blog.csdn.net/zzc15806/article/details/84975709\n",
      "https://blog.csdn.net/zzc15806/article/details/84975709\n",
      "https://blog.csdn.net/zzc15806/article/details/84975539\n",
      "https://blog.csdn.net/zzc15806/article/details/84975539\n",
      "https://blog.csdn.net/zzc15806/article/details/84975137\n",
      "https://blog.csdn.net/zzc15806/article/details/84975137\n",
      "https://blog.csdn.net/zzc15806/article/details/84974458\n",
      "https://blog.csdn.net/zzc15806/article/details/84974458\n",
      "https://blog.csdn.net/zzc15806/article/details/84973370\n",
      "https://blog.csdn.net/zzc15806/article/details/84973370\n",
      "https://blog.csdn.net/zzc15806/article/details/84972108\n",
      "https://blog.csdn.net/zzc15806/article/details/84972108\n",
      "https://blog.csdn.net/zzc15806/article/details/84971215\n",
      "https://blog.csdn.net/zzc15806/article/details/84971215\n",
      "https://blog.csdn.net/zzc15806/article/details/84875070\n",
      "https://blog.csdn.net/zzc15806/article/details/84875070\n",
      "https://blog.csdn.net/zzc15806/article/details/84779131\n",
      "https://blog.csdn.net/zzc15806/article/details/84779131\n",
      "https://blog.csdn.net/zzc15806/article/details/84137013\n",
      "https://blog.csdn.net/zzc15806/article/details/84137013\n",
      "https://blog.csdn.net/zzc15806/article/details/84067017\n",
      "https://blog.csdn.net/zzc15806/article/details/84067017\n",
      "https://blog.csdn.net/zzc15806/article/details/83999940\n",
      "https://blog.csdn.net/zzc15806/article/details/83999940\n",
      "https://blog.csdn.net/zzc15806/article/details/83999668\n",
      "https://blog.csdn.net/zzc15806/article/details/83999668\n",
      "https://blog.csdn.net/zzc15806/article/details/83540661\n",
      "https://blog.csdn.net/zzc15806/article/details/83540661\n",
      "https://blog.csdn.net/zzc15806/article/details/83504130\n",
      "https://blog.csdn.net/zzc15806/article/details/83504130\n",
      "https://blog.csdn.net/zzc15806/article/details/83474661\n",
      "https://blog.csdn.net/zzc15806/article/details/83474661\n",
      "https://blog.csdn.net/zzc15806/article/details/83472329\n",
      "https://blog.csdn.net/zzc15806/article/details/83472329\n",
      "https://blog.csdn.net/zzc15806/article/details/83448761\n",
      "https://blog.csdn.net/zzc15806/article/details/83448761\n",
      "https://blog.csdn.net/zzc15806/article/details/83447006\n",
      "https://blog.csdn.net/zzc15806/article/details/83447006\n",
      "https://blog.csdn.net/zzc15806/article/details/83420899\n",
      "https://blog.csdn.net/zzc15806/article/details/83420899\n",
      "https://blog.csdn.net/zzc15806/article/details/83420686\n",
      "https://blog.csdn.net/zzc15806/article/details/83420686\n",
      "https://blog.csdn.net/zzc15806/article/details/83418561\n",
      "https://blog.csdn.net/zzc15806/article/details/83418561\n",
      "https://blog.csdn.net/zzc15806/article/details/83413333\n",
      "https://blog.csdn.net/zzc15806/article/details/83413333\n",
      "https://blog.csdn.net/zzc15806/article/details/83186748\n",
      "https://blog.csdn.net/zzc15806/article/details/83186748\n",
      "https://blog.csdn.net/zzc15806/article/details/83186423\n",
      "https://blog.csdn.net/zzc15806/article/details/83186423\n",
      "https://blog.csdn.net/zzc15806/article/details/82633865\n",
      "https://blog.csdn.net/zzc15806/article/details/82633865\n",
      "https://blog.csdn.net/blogdevteam/article/details/103478461#博客等级\n",
      "https://blog.csdn.net/zzc15806/article/details/105443270\n",
      "https://blog.csdn.net/zzc15806/article/details/90510292\n",
      "https://blog.csdn.net/zzc15806/article/details/90376023\n",
      "https://blog.csdn.net/zzc15806/article/details/89920539\n",
      "https://blog.csdn.net/zzc15806/article/details/90140937\n",
      "https://blog.csdn.net/zzc15806/article/details/79603994\n",
      "https://blog.csdn.net/zzc15806/article/details/84875070\n",
      "https://blog.csdn.net/zzc15806/article/details/79711114\n",
      "https://blog.csdn.net/zzc15806/article/details/82633865\n",
      "https://blog.csdn.net/zzc15806/article/details/80712320\n"
     ]
    }
   ],
   "source": [
    "from urllib.request import urlopen\n",
    "from bs4 import BeautifulSoup\n",
    " \n",
    "html = urlopen('https://blog.csdn.net/zzc15806/') #获取网页\n",
    "bs = BeautifulSoup(html, 'html.parser') #解析网页\n",
    "hyperlink = bs.find_all('a')  #获取所有超链接\n",
    " \n",
    "file = open('./blog.txt', 'w')\n",
    " \n",
    "for h in hyperlink:\n",
    "    hh = h.get('href')\n",
    "    if hh and '/article/details/' in hh and '#comments' not in hh:  #筛选博客链接\n",
    "        print(hh)\n",
    "        file.write(hh)   #写入到“blog.txt”文件中\n",
    "        file.write('\\n')\n",
    "        \n",
    "file.close()"
   ]
  },
  {
   "cell_type": "code",
   "execution_count": 8,
   "metadata": {},
   "outputs": [
    {
     "name": "stdout",
     "output_type": "stream",
     "text": [
      "Sucessful to download tricks.pdf\n",
      "Sucessful to download symbols-a4.pdf\n",
      "Sucessful to download AmsLatex.pdf\n"
     ]
    }
   ],
   "source": [
    "# coding = UTF-8\n",
    "# 爬取李东风PDF文档,网址：http://www.math.pku.edu.cn/teachers/lidf/docs/textrick/index.htm\n",
    "import urllib.request\n",
    "import re\n",
    "import os\n",
    "\n",
    "# open the url and read\n",
    "def getHtml(url):\n",
    "    page = urllib.request.urlopen(url)\n",
    "    html = page.read()\n",
    "    page.close()\n",
    "    return html\n",
    "\n",
    "# compile the regular expressions and find\n",
    "# all stuff we need\n",
    "def getUrl(html):\n",
    "    reg = r'(?:href|HREF)=\"?((?:http://)?.+?\\.pdf)'\n",
    "    url_re = re.compile(reg)\n",
    "    url_lst = url_re.findall(html.decode('gb2312'))\n",
    "    return(url_lst)\n",
    "\n",
    "def getFile(url):\n",
    "    file_name = url.split('/')[-1]\n",
    "    u = urllib.request.urlopen(url)\n",
    "    f = open(file_name, 'wb')\n",
    "\n",
    "    block_sz = 8192\n",
    "    while True:\n",
    "        buffer = u.read(block_sz)\n",
    "        if not buffer:\n",
    "            break\n",
    "\n",
    "        f.write(buffer)\n",
    "    f.close()\n",
    "    print (\"Sucessful to download\" + \" \" + file_name)\n",
    "\n",
    "\n",
    "root_url = 'http://www.math.pku.edu.cn/teachers/lidf/docs/textrick/'\n",
    "\n",
    "raw_url = 'http://www.math.pku.edu.cn/teachers/lidf/docs/textrick/index.htm'\n",
    "\n",
    "html = getHtml(raw_url)\n",
    "url_lst = getUrl(html)\n",
    "\n",
    "os.mkdir('ldf_download')\n",
    "os.chdir(os.path.join(os.getcwd(), 'ldf_download'))\n",
    "\n",
    "for url in url_lst[:]:\n",
    "    url = root_url + url\n",
    "    getFile(url)\n"
   ]
  },
  {
   "cell_type": "code",
   "execution_count": 4,
   "metadata": {},
   "outputs": [
    {
     "name": "stdout",
     "output_type": "stream",
     "text": [
      "<HTML>\n",
      "<HEAD>\n",
      "<meta http-equiv=\"Content-Type\" content=\"text/html; charset=gb2312\">\n",
      "<meta name=\"keywords\" content=\"Li Dongfeng,LaTeX\">\n",
      "<meta name=\"description\" content=\"Li Dongfeng's LaTeX tricks, e.g. CJK, PDF\">\n",
      "\n",
      "   <LINK rel=\"stylesheet\" href=\"http://www.math.pku.edu.cn/teachers/lidf/local.css\">\n",
      "   \n",
      "   <TITLE>LaTeX排版心得</TITLE>\n",
      "\n",
      "</HEAD>\n",
      "<BODY>\n",
      " \n",
      "\n",
      " \n",
      "\n",
      "<H1 align=\"center\">LaTeX排版心得</H1>\n",
      "\n",
      "\n",
      "<P>\n",
      "本文保存了用LaTeX和PDFLaTeX打印《统计软件教程》一书的心得。\n",
      "本文排版结果展示了一些特殊技巧，要知道自己如何使用这些技巧要参考本文的LaTeX源程序。\n",
      "内容包括：\n",
      "CJK中文的设置与使用；\n",
      "Emacs编辑器；\n",
      "PS与PDF文件生成，Type 1 PS字体的使用；带导航的PDF文件；插图；\n",
      "页眉、页脚的自制；源程序排版；屏幕演示，等等。\n",
      "</P>\n",
      "\n",
      "<P>另外还有一些参考文档。</P>\n",
      "\n",
      "<UL>\n",
      "    <LI> <A HREF=\"tricks.pdf\">LaTeX排版心得</A> (PDF格式)\n",
      "\n",
      "    <LI> <A HREF=\"files.zip\">LaTeX排版心得相关的文件</A> \n",
      "    \n",
      "    <LI> <A HREF=\"symbols-a4.pdf\">符号大全</A> (所有常见、不常见符号的文档)\n",
      "\n",
      "    <LI> <A HREF=\"AmsLatex.pdf\">AMS LaTeX文档</A> (对排版数学公式很有帮助)\n",
      "\n",
      "</UL>\n",
      "\n",
      "</BODY>\n",
      "</HTML>\n",
      "\n"
     ]
    }
   ],
   "source": [
    "import urllib.request\n",
    "import re\n",
    "import os\n",
    "\n",
    "# open the url and read\n",
    "def getHtml(url):\n",
    "    page = urllib.request.urlopen(url)\n",
    "    html = page.read()\n",
    "    page.close()\n",
    "    return html\n",
    "\n",
    "html = getHtml(raw_url)\n",
    "# print(html)\n",
    "print(html.decode('gb2312'))"
   ]
  },
  {
   "cell_type": "code",
   "execution_count": 5,
   "metadata": {},
   "outputs": [
    {
     "name": "stdout",
     "output_type": "stream",
     "text": [
      "['tricks.pdf', 'symbols-a4.pdf', 'AmsLatex.pdf']\n"
     ]
    }
   ],
   "source": [
    "def getUrl(html):\n",
    "    reg = r'(?:href|HREF)=\"?((?:http://)?.+?\\.pdf)'\n",
    "    url_re = re.compile(reg)\n",
    "    url_lst = url_re.findall(html.decode('gb2312'))\n",
    "    return(url_lst)\n",
    "\n",
    "url_lst = getUrl(html)\n",
    "print(url_lst)"
   ]
  },
  {
   "cell_type": "code",
   "execution_count": 6,
   "metadata": {},
   "outputs": [
    {
     "name": "stdout",
     "output_type": "stream",
     "text": [
      "Sucessful to download tricks.pdf\n",
      "Sucessful to download symbols-a4.pdf\n",
      "Sucessful to download AmsLatex.pdf\n"
     ]
    }
   ],
   "source": [
    "def getFile(url):\n",
    "    file_name = url.split('/')[-1]\n",
    "    u = urllib.request.urlopen(url)\n",
    "    f = open(file_name, 'wb')\n",
    "\n",
    "    block_sz = 8192\n",
    "    while True:\n",
    "        buffer = u.read(block_sz)\n",
    "        if not buffer:\n",
    "            break\n",
    "\n",
    "        f.write(buffer)\n",
    "    f.close()\n",
    "    print (\"Sucessful to download\" + \" \" + file_name)\n",
    "    \n",
    "os.mkdir('ldf_download')\n",
    "os.chdir(os.path.join(os.getcwd(), 'ldf_download'))\n",
    "\n",
    "for url in url_lst[:]:\n",
    "    url = root_url + url\n",
    "    getFile(url)\n"
   ]
  },
  {
   "cell_type": "code",
   "execution_count": 16,
   "metadata": {},
   "outputs": [
    {
     "name": "stdout",
     "output_type": "stream",
     "text": [
      "tricks.pdf\n",
      "symbols-a4.pdf\n",
      "AmsLatex.pdf\n",
      "http://www.math.pku.edu.cn/teachers/lidf/docs/textrick/tricks.pdf\n",
      "http://www.math.pku.edu.cn/teachers/lidf/docs/textrick/symbols-a4.pdf\n",
      "http://www.math.pku.edu.cn/teachers/lidf/docs/textrick/AmsLatex.pdf\n"
     ]
    }
   ],
   "source": [
    "for url in url_lst[:]:\n",
    "    print(url)\n",
    "    \n",
    "root_url = 'http://www.math.pku.edu.cn/teachers/lidf/docs/textrick/'\n",
    "\n",
    "for url in url_lst[:]:\n",
    "    url = root_url + url\n",
    "    print(url)"
   ]
  },
  {
   "cell_type": "code",
   "execution_count": 18,
   "metadata": {},
   "outputs": [
    {
     "name": "stdout",
     "output_type": "stream",
     "text": [
      "tricks.pdf\n"
     ]
    }
   ],
   "source": [
    "url = 'http://www.math.pku.edu.cn/teachers/lidf/docs/textrick/tricks.pdf'\n",
    "file_name = url.split('/')[-1]\n",
    "print(file_name)\n",
    "f = open(file_name, 'wb')"
   ]
  },
  {
   "cell_type": "code",
   "execution_count": 19,
   "metadata": {},
   "outputs": [
    {
     "name": "stdout",
     "output_type": "stream",
     "text": [
      "<http.client.HTTPResponse object at 0x000001F6B68EDDA0>\n"
     ]
    }
   ],
   "source": [
    "u = urllib.request.urlopen(url)\n",
    "print(u)"
   ]
  },
  {
   "cell_type": "code",
   "execution_count": 22,
   "metadata": {},
   "outputs": [],
   "source": [
    "block_sz = 8192\n",
    "buffer = u.read(block_sz)\n",
    "# print(buffer)"
   ]
  },
  {
   "cell_type": "code",
   "execution_count": 21,
   "metadata": {},
   "outputs": [],
   "source": [
    "f.write(buffer)\n",
    "f.close()"
   ]
  },
  {
   "cell_type": "code",
   "execution_count": 11,
   "metadata": {},
   "outputs": [
    {
     "data": {
      "image/png": "[encoded data removed]",
      "text/plain": [
       "<Figure size 432x288 with 1 Axes>"
      ]
     },
     "metadata": {},
     "output_type": "display_data"
    }
   ],
   "source": [
    "import matplotlib.pyplot as plt\n",
    "import numpy as np\n",
    "name_list = ['kw1', 'kw2' , 'kw3' ,\n",
    "             'kw4', 'kw5' , 'kw6' , \n",
    "             'kw7', 'kw8' , 'kw9' ,\n",
    "             'kw10']\n",
    "num_list = [52,50,48,40,32,30,25,23,22,18]\n",
    "x =list(range(len(num_list)))\n",
    "plt.bar(x, num_list,label='MSSP_ALL',tick_label = name_list,fc = 'r')\n",
    "plt.xlabel('Keywords')\n",
    "plt.legend()\n",
    "plt.show()"
   ]
  },
  {
   "cell_type": "code",
   "execution_count": 10,
   "metadata": {},
   "outputs": [
    {
     "data": {
      "image/png": "[encoded data removed]",
      "text/plain": [
       "<Figure size 432x288 with 1 Axes>"
      ]
     },
     "metadata": {},
     "output_type": "display_data"
    }
   ],
   "source": [
    "x = [2010,2011,2012,2013,2014,2015,2016,2017,2018,2019,2020]\n",
    "y = [15,20,26,30,33,35,38,40,45,50,60]\n",
    "plt.plot(x,y,label='keywords')\n",
    "plt.xlabel('Year')\n",
    "plt.legend()\n",
    "plt.show()"
   ]
  },
  {
   "cell_type": "code",
   "execution_count": 12,
   "metadata": {},
   "outputs": [
    {
     "data": {
      "image/png": "[encoded data removed]",
      "text/plain": [
       "<Figure size 432x288 with 1 Axes>"
      ]
     },
     "metadata": {},
     "output_type": "display_data"
    }
   ],
   "source": [
    "name_list1 = ['kw1', 'kw2' , 'kw3' ,\n",
    "             'kw4', 'kw5' , 'kw6' , \n",
    "             'kw7', 'kw8' , 'kw9' ,\n",
    "             'kw10']\n",
    "num_list1 = [52,50,48,40,32,30,25,23,22,18]\n",
    "x1 =list(range(len(num_list)))\n",
    "plt.bar(x1, num_list1,label='2020',tick_label = name_list1)\n",
    "plt.xlabel('Keywords')\n",
    "plt.legend()\n",
    "plt.show()"
   ]
  },
  {
   "cell_type": "code",
   "execution_count": 16,
   "metadata": {},
   "outputs": [
    {
     "name": "stdout",
     "output_type": "stream",
     "text": [
      "[('数据', 159), ('学习', 91), ('网络', 77), ('深度', 76), ('of', 66), ('故障诊断', 66), ('特征', 60), ('模型', 57), ('and', 57), ('et', 57), ('al', 57), ('研究', 52), ('方法', 46), ('一种', 45), ('diagnosis', 43), ('训练', 42), ('故障', 41), ('fault', 40), ('机械', 39), ('神经网络', 37), ('for', 37), ('learning', 34), ('提出', 34), ('on', 33), ('卷积', 31), ('CNN', 31), ('领域', 31), ('data', 31), ('输入', 31), ('诊断', 30), ('分类', 30), ('based', 29), ('堆叠', 27), ('network', 27), ('neural', 27), ('deep', 27), ('提取', 27), ('2018', 27), ('DBN', 25), ('the', 25), ('过程', 25), ('传统', 24), ('2020', 23), ('2019', 23), ('编码', 22), ('SAE', 22), ('自动', 22), ('发展', 21), ('RNN', 21), ('算法', 21), ('信号', 21), ('特征提取', 20), ('in', 20), ('with', 20), ('IEEE', 20), ('技术', 19), ('WANG', 19), ('分析', 18), ('能力', 18), ('convolutional', 18), ('参数', 18), ('性能', 17), ('信息', 17), ('networks', 17), ('Systems', 17), ('Journal', 16), ('识别', 16), ('样本', 16), ('LI', 16), ('ZHANG', 15), ('用于', 15), ('2016', 15), ('预测', 14), ('利用', 14), ('生成', 14), ('理论', 14), ('Transactions', 14), ('时间', 13), ('to', 13), ('2015', 13), ('工作', 13), ('编码器', 13), ('优化', 13), ('效果', 13), ('轴承', 13), ('using', 13), ('智能', 12), ('平衡', 12), ('之间', 12), ('结构', 12), ('标签', 12), ('稀疏', 12), ('采用', 12), ('迁移', 12), ('解决', 12), ('监督', 11), ('Deep', 11), ('LIU', 11), ('AE', 11), ('11', 11), ('滚动轴承', 11), ('验证', 11), ('提高', 11), ('GAN', 11), ('bearing', 11), ('12', 10), ('Fault', 10), ('采样', 10), ('监测', 10), ('隐层', 10), ('序列', 10), ('2017', 10), ('图像', 10), ('RBM', 10), ('Mechanical', 10), ('method', 10), ('intelligent', 9), ('mechanical', 9), ('feature', 9), ('2014', 9), ('状态', 9), ('10', 9), ('改进', 9), ('池化', 9), ('建立', 9), ('融合', 9), ('受限', 9), ('玻尔兹曼', 9), ('classification', 9), ('Measurement', 9), ('Industrial', 9), ('特性', 8), ('相关', 8), ('Learning', 8), ('测试', 8), ('神经元', 8), ('方式', 8), ('原始', 8), ('转换', 8), ('引入', 8), ('29', 8), ('连接', 8), ('一维', 8), ('振动', 8), ('高斯', 8), ('87', 8), ('西安交通大学', 7), ('University', 7), ('展望', 7), ('西宁', 7), ('54', 7), ('挑战', 7), ('模式', 7), ('框架', 7), ('机械设备', 7), ('健康', 7), ('Engineering', 7), ('big', 7), ('stacked', 7), ('auto', 7), ('its', 7), ('战略', 7), ('原始数据', 7), ('选择', 7), ('拟合', 7), ('策略', 7), ('变体', 7), ('25', 7), ('空间', 7), ('49', 7), ('56', 7), ('判别', 7), ('标准', 7), ('Research', 7), ('Based', 7), ('machine', 7), ('rolling', 7), ('Knowledge', 7), ('学报', 6), ('an', 6), ('23', 6), ('15', 6), ('带来', 6), ('循环', 6), ('高维', 6), ('优势', 6), ('简单', 6), ('未来', 6), ('Technology', 6), ('application', 6), ('基础', 6), ('2012', 6), ('准确', 6), ('设计', 6), ('多层', 6), ('现状', 6), ('典型', 6), ('分类器', 6), ('重构', 6), ('齿轮箱', 6), ('局部', 6), ('网络结构', 6), ('集上', 6), ('24', 6), ('构造', 6), ('30', 6), ('传感器', 6), ('二维', 6), ('架构', 6), ('44', 6), ('52', 6), ('知识', 6), ('67', 6), ('77', 6), ('可视化', 6), ('Science', 6), ('USA', 6), ('Machine', 6), ('sparse', 6), ('Signal', 6), ('Processing', 6), ('JIA', 6), ('XU', 6), ('transfer', 6), ('YAN', 6), ('imbalanced', 6), ('CHEN', 6), ('belief', 6), ('adversarial', 6), ('Xi', 5), ('28', 5), ('人工', 5), ('影响', 5), ('置信', 5), ('包括', 5), ('处于', 5), ('The', 5), ('recognition', 5), ('recurrent', 5), ('are', 5), ('monitoring', 5), ('人员', 5), ('驱动', 5), ('依赖', 5), ('内部', 5), ('国内外', 5), ('非线性', 5), ('映射', 5), ('如图', 5), ('所示', 5), ('两个', 5), ('维度', 5), ('示意图', 5), ('情况', 5), ('分布', 5), ('角度', 5), ('实验', 5), ('泛化', 5), ('21', 5), ('数目', 5), ('逐层', 5), ('有效性', 5), ('27', 5), ('31', 5), ('权值', 5), ('尺度', 5), ('40', 5), ('41', 5), ('Wang', 5), ('50', 5), ('现有', 5), ('关系', 5), ('频域', 5), ('伯努利', 5), ('解释', 5), ('An', 5), ('Neural', 5), ('89', 5), ('机理', 5), ('数据库', 5), ('90', 5), ('93', 5), ('International', 5), ('Conference', 5), ('approach', 5), ('machinery', 5), ('autoencoder', 5), ('LEI', 5), ('Yaguo', 5), ('ZHOU', 5), ('YANG', 5), ('Neurocomputing', 5), ('Electronics', 5), ('Jiaotong', 4), ('首发', 4), ('09', 4), ('国家', 4), ('时代', 4), ('价值', 4), ('强大', 4), ('时序', 4), ('Application', 4), ('new', 4), ('extraction', 4), ('encoder', 4), ('prediction', 4), ('health', 4), ('is', 4), ('time', 4), ('analysis', 4), ('海量', 4), ('资源', 4), ('规模', 4), ('异常', 4), ('导致', 4), ('程度', 4), ('机器', 4), ('2011', 4), ('分为', 4), ('全局', 4), ('添加', 4), ('Sun', 4), ('输出', 4), ('降噪', 4), ('约束', 4), ('构建', 4), ('证明', 4), ('13', 4), ('噪声', 4), ('14', 4), ('预处理', 4), ('16', 4), ('转速', 4), ('准确性', 4), ('梯度', 4), ('归一化', 4), ('计算', 4), ('损失', 4), ('精度', 4), ('剩余', 4), ('压缩', 4), ('新颖', 4), ('正则', 4), ('工业', 4), ('共享', 4), ('图像识别', 4), ('深层', 4), ('33', 4), ('37', 4), ('38', 4)]\n"
     ]
    }
   ],
   "source": [
    "import jieba.analyse\n",
    "import imageio\n",
    "import jieba.posseg as pseg\n",
    "def jieba_cut():\n",
    "    #西游记停用词\n",
    "    fr = open('stop.txt', 'r',encoding='utf-8')\n",
    "    stop_word_list = fr.readlines()\n",
    "    new_stop_word_list = []\n",
    "    for stop_word in stop_word_list:\n",
    "        stop_word = stop_word.replace('\\ufeef', '').strip()\n",
    "        new_stop_word_list.append(stop_word)\n",
    "#     print(stop_word_list)  #输出停用词\n",
    "    #输出西游记 词语出现的次数\n",
    "    fr_xyj=open('outfile.txt','r',encoding='utf-8')\n",
    "    s=fr_xyj.read()\n",
    "    words=jieba.cut(s,cut_all=False)\n",
    "    word_dict={}\n",
    "    word_list=''\n",
    "    for word in words:\n",
    "        if (len(word) > 1 and not word in new_stop_word_list):\n",
    "            word_list = word_list + ' ' + word\n",
    "            if (word_dict.get(word)):\n",
    "                word_dict[word] = word_dict[word] + 1\n",
    "            else:\n",
    "                word_dict[word] = 1\n",
    "    fr.close()\n",
    "    ##print(word_list)\n",
    "    #print(word_dict) #输出西游记 词语出现的次数\n",
    "\n",
    "    #按次数进行排序\n",
    "    sort_words=sorted(word_dict.items(),key=lambda x:x[1],reverse=True)\n",
    "    print(sort_words[0:350])#输出前0-100的词\n",
    "\n",
    "    from wordcloud import WordCloud\n",
    "    color_mask =imageio.imread(\"MSSP.png\")\n",
    "    wc = WordCloud(\n",
    "            background_color=\"white\",  # 背景颜色\n",
    "            max_words=500,  # 显示最大词数\n",
    "            font_path=\"msyh.ttc\",  # 使用字体\n",
    "            min_font_size=5,\n",
    "            max_font_size=70,\n",
    "            width=400,\n",
    "            height=860,\n",
    "\n",
    "            mask=color_mask) # 图幅宽度\n",
    "    i=str('new2')\n",
    "    wc.generate(word_list)\n",
    "    wc.to_file(str(i)+\".png\")\n",
    "jieba_cut()"
   ]
  },
  {
   "cell_type": "code",
   "execution_count": null,
   "metadata": {},
   "outputs": [],
   "source": []
  }
 ],
 "metadata": {
  "kernelspec": {
   "display_name": "Python 3",
   "language": "python",
   "name": "python3"
  },
  "language_info": {
   "codemirror_mode": {
    "name": "ipython",
    "version": 3
   },
   "file_extension": ".py",
   "mimetype": "text/x-python",
   "name": "python",
   "nbconvert_exporter": "python",
   "pygments_lexer": "ipython3",
   "version": "3.6.5"
  }
 },
 "nbformat": 4,
 "nbformat_minor": 2
}
