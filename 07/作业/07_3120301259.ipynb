{
 "cells": [
  {
   "cell_type": "code",
   "execution_count": 5,
   "metadata": {},
   "outputs": [
    {
     "name": "stdout",
     "output_type": "stream",
     "text": [
      "5\n"
     ]
    }
   ],
   "source": [
    "def findmax(x,y):\n",
    "    if(x>y):\n",
    "        max=x \n",
    "    else:\n",
    "        max=y\n",
    "    return max\n",
    "    \n",
    "print(findmax(3,5))"
   ]
  },
  {
   "cell_type": "code",
   "execution_count": 9,
   "metadata": {},
   "outputs": [
    {
     "name": "stderr",
     "output_type": "stream",
     "text": [
      "Exception in Tkinter callback\n",
      "Traceback (most recent call last):\n",
      "  File \"D:\\anaconda3\\lib\\tkinter\\__init__.py\", line 1883, in __call__\n",
      "    return self.func(*args)\n",
      "  File \"D:\\anaconda3\\lib\\tkinter\\__init__.py\", line 804, in callit\n",
      "    func(*args)\n",
      "  File \"<ipython-input-9-79071eefa7ec>\", line 81, in Tick\n",
      "    hurHand.setheading(30*hour)\n",
      "  File \"D:\\anaconda3\\lib\\turtle.py\", line 1936, in setheading\n",
      "    self._rotate(angle)\n",
      "  File \"D:\\anaconda3\\lib\\turtle.py\", line 3278, in _rotate\n",
      "    self._update()\n",
      "  File \"D:\\anaconda3\\lib\\turtle.py\", line 2660, in _update\n",
      "    self._update_data()\n",
      "  File \"D:\\anaconda3\\lib\\turtle.py\", line 2646, in _update_data\n",
      "    self.screen._incrementudc()\n",
      "  File \"D:\\anaconda3\\lib\\turtle.py\", line 1292, in _incrementudc\n",
      "    raise Terminator\n",
      "turtle.Terminator\n"
     ]
    }
   ],
   "source": [
    "import turtle \n",
    "from datetime import*\n",
    "#抬起画笔，向前运动一段距离放下\n",
    "def Skip(step):\n",
    "    turtle.penup()\n",
    "    turtle.fd(step)\n",
    "    turtle.pendown()\n",
    "def mkHand(name,length):\n",
    "    #注册turtle形状，简历表针turtle\n",
    "    turtle.reset()\n",
    "    Skip(-length*0.1)\n",
    "    turtle.begin_poly()\n",
    "    turtle.fd(length*1.1)\n",
    "    turtle.end_poly()\n",
    "    handForm=turtle.get_poly()\n",
    "    turtle.register_shape(name,handForm)\n",
    "def Init():\n",
    "    global secHand,minHand,hurHand,printer\n",
    "    turtle.mode(\"logo\")\n",
    "    mkHand(\"secHand\",135)\n",
    "    mkHand(\"minHand\",125)\n",
    "    mkHand(\"hurHand\",90)\n",
    "    secHand=turtle.Turtle()\n",
    "    secHand.shape('secHand')\n",
    "    minHand=turtle.Turtle()\n",
    "    minHand.shape(\"minHand\")\n",
    "    hurHand=turtle.Turtle()\n",
    "    hurHand.shape(\"hurHand\")\n",
    "    \n",
    "    for hand in secHand,minHand,hurHand:\n",
    "        hand.shapesize(1,1,3)\n",
    "        hand.speed(0)\n",
    "        \n",
    "    printer=turtle.Turtle()\n",
    "    printer.hideturtle()\n",
    "    printer.penup()\n",
    "def SetupClock(radius):\n",
    "    turtle.reset()\n",
    "    turtle.pensize(7)\n",
    "    for i in range(60):\n",
    "        Skip(radius)\n",
    "        if i%5==0:\n",
    "            turtle.fd(20)\n",
    "            Skip(-radius-20)\n",
    "            Skip(radius+20)\n",
    "            if(i==0):\n",
    "                turtle.write(int(12),align=\"center\",font=(\"Courier\",14,\"bold\"))\n",
    "            elif i==30:\n",
    "                Skip(25)\n",
    "                turtle.write(int(i/5),align=\"center\",font=(\"Courier\",14,\"bold\"))\n",
    "                Skip(-25)\n",
    "            elif(i==25 or i==35):\n",
    "                Skip(20)\n",
    "                turtle.write(int(i/5),align=\"center\",font=(\"Courier\",14,\"bold\"))\n",
    "                Skip(-20)\n",
    "            else:\n",
    "                turtle.write(int(i/5),align=\"center\",font=(\"Courier\",14,\"bold\"))\n",
    "            Skip(-radius-20)\n",
    "        else:\n",
    "            turtle.dot(5)\n",
    "            Skip(-radius)\n",
    "        turtle.right(6)\n",
    "        \n",
    "def Week(t):\n",
    "    week=[\"星期一\",'星期二',\"星期三\",\"星期四\",\"星期五\",\"星期六\",\"星期日\"]\n",
    "    return week[t.weekday()]\n",
    "def Data(t):\n",
    "    y=t.year\n",
    "    m=t.month\n",
    "    d=t.day\n",
    "    return \"%s %d%d\"%(y,m,d)\n",
    "\n",
    "def Tick():\n",
    "    #绘制表针的动态显示\n",
    "    t=datetime.today()\n",
    "    second=t.second+t.microsecond*0.000001\n",
    "    minute=t.minute+second/60.0\n",
    "    hour=t.hour+minute/60.0\n",
    "    secHand.setheading(6*second)\n",
    "    minHand.setheading(6*minute)\n",
    "    hurHand.setheading(30*hour)\n",
    "    turtle.tracer(False)\n",
    "    printer.forward(65)\n",
    "    printer.write(Week(t),align=\"center\",font=(\"Courier\",14,\"bold\"))\n",
    "    printer.home()\n",
    "    turtle.tracer(True)\n",
    "    turtle.ontimer(Tick,100)\n",
    "def main():\n",
    "    turtle.tracer(False)\n",
    "    Init()\n",
    "    SetupClock(160)\n",
    "    turtle.tracer(True)\n",
    "    Tick()\n",
    "    turtle.mainloop()\n",
    "if __name__==\"__main__\":\n",
    "    main()\n",
    "        "
   ]
  },
  {
   "cell_type": "code",
   "execution_count": 10,
   "metadata": {},
   "outputs": [
    {
     "name": "stdin",
     "output_type": "stream",
     "text": [
      "请输入要编码的内容： 568948\n",
      "请输入偏移量： 5\n"
     ]
    },
    {
     "name": "stdout",
     "output_type": "stream",
     "text": [
      "[53, 54, 56, 57, 52, 56]\n",
      "编码结果已经写入文件!\n"
     ]
    },
    {
     "name": "stdin",
     "output_type": "stream",
     "text": [
      "请输入要编码的内容： break\n",
      "请输入偏移量： 1\n"
     ]
    }
   ],
   "source": [
    "while True:\n",
    "    words=input('请输入要编码的内容：')\n",
    "    ans=int(input(\"请输入偏移量：\"))\n",
    "    if(words=='break')or(ans=='break'):\n",
    "        break\n",
    "    code=[]\n",
    "    for w in words:\n",
    "        num=ord(w)\n",
    "        code.append(num)\n",
    "        num=num+ans\n",
    "    print(code)\n",
    "    f=open('1.txt','w')\n",
    "    res=str(code)\n",
    "    f.write(res)\n",
    "    f.close()\n",
    "    print('编码结果已经写入文件!')"
   ]
  },
  {
   "cell_type": "code",
   "execution_count": 11,
   "metadata": {},
   "outputs": [
    {
     "name": "stdin",
     "output_type": "stream",
     "text": [
      "plz input a command hhh\n"
     ]
    },
    {
     "name": "stdout",
     "output_type": "stream",
     "text": [
      "unknown commandhhh\n"
     ]
    },
    {
     "name": "stdin",
     "output_type": "stream",
     "text": [
      "plz input a command quit\n"
     ]
    },
    {
     "data": {
      "text/plain": [
       "<__main__.Dispatcher at 0x1cb0bf92d30>"
      ]
     },
     "execution_count": 11,
     "metadata": {},
     "output_type": "execute_result"
    }
   ],
   "source": [
    "class Dispatcher:\n",
    "    def __init__(self):\n",
    "        self._run()\n",
    "    def cmdl(self):\n",
    "        print(\"I\\'m cmdl'\")\n",
    "    def cmd2(self):\n",
    "        print(\"I\\'m cmd2'\")\n",
    "    def _run(self):\n",
    "        while True:\n",
    "            cmd=input(\"plz input a command\").strip()\n",
    "            if cmd=='quit':\n",
    "                break\n",
    "            getattr(self,cmd,lambda:print('unknown command{}'.format(cmd)))()\n",
    "Dispatcher()"
   ]
  },
  {
   "cell_type": "code",
   "execution_count": 15,
   "metadata": {},
   "outputs": [
    {
     "name": "stdin",
     "output_type": "stream",
     "text": [
      "a= 5\n",
      "b= 6\n",
      "e= 0.1\n"
     ]
    },
    {
     "name": "stdout",
     "output_type": "stream",
     "text": [
      "x= 5.9375\n"
     ]
    }
   ],
   "source": [
    "import math\n",
    "def f(x):\n",
    "    y=(2**x)+(3*x)-7\n",
    "    return y\n",
    "a=float(input('a='))\n",
    "b=float(input('b='))\n",
    "e=float(input('e='))\n",
    "while math.fabs(a-b)>=e:\n",
    "    c=(a+b)/2\n",
    "    if(f(a)*f(c))<0:\n",
    "        b=c\n",
    "    else:\n",
    "        if(f(c)==0):\n",
    "            a=c\n",
    "            break\n",
    "        else:\n",
    "            a=c\n",
    "print(\"x=\",a)"
   ]
  },
  {
   "cell_type": "code",
   "execution_count": 22,
   "metadata": {},
   "outputs": [
    {
     "name": "stdin",
     "output_type": "stream",
     "text": [
      "请输入想要解码的内容： break\n",
      "请输入偏移量 1\n"
     ]
    }
   ],
   "source": [
    "while True:\n",
    "    code=input('请输入想要解码的内容：')\n",
    "    ans=int(input('请输入偏移量'))\n",
    "    if(code=='break')or(ans==\"break\"):\n",
    "        break\n",
    "    code=eval(code)\n",
    "    words=''\n",
    "    for num in code:\n",
    "        w=chr(num)\n",
    "        num=num-ans\n",
    "        words=words+w\n",
    "    print('解码的结果为：'+words)"
   ]
  },
  {
   "cell_type": "code",
   "execution_count": 4,
   "metadata": {},
   "outputs": [
    {
     "name": "stdout",
     "output_type": "stream",
     "text": [
      " 1 | 2 | 3 \n",
      "-----------\n",
      " 4 | 5 | 6 \n",
      "-----------\n",
      " 7 | 8 | 9 \n",
      "电脑出子：\n",
      " 1 | 2 | 3 \n",
      "-----------\n",
      " 4 | 5 | 6 \n",
      "-----------\n",
      " x | 8 | 9 \n"
     ]
    },
    {
     "name": "stdin",
     "output_type": "stream",
     "text": [
      "玩家出子: 5\n"
     ]
    },
    {
     "name": "stdout",
     "output_type": "stream",
     "text": [
      " 1 | 2 | 3 \n",
      "-----------\n",
      " 4 | 5 | 6 \n",
      "-----------\n",
      " x | 8 | 9 \n",
      "电脑出子：\n",
      " 1 | 2 | 3 \n",
      "-----------\n",
      " 4 | 5 | 6 \n",
      "-----------\n",
      " x | 8 | x \n"
     ]
    },
    {
     "name": "stdin",
     "output_type": "stream",
     "text": [
      "玩家出子: 9\n"
     ]
    },
    {
     "name": "stdout",
     "output_type": "stream",
     "text": [
      "此处有子，请重新出子！\n"
     ]
    },
    {
     "name": "stdin",
     "output_type": "stream",
     "text": [
      "玩家出子: 9\n"
     ]
    },
    {
     "name": "stdout",
     "output_type": "stream",
     "text": [
      "此处有子，请重新出子！\n"
     ]
    },
    {
     "name": "stdin",
     "output_type": "stream",
     "text": [
      "玩家出子: 5\n"
     ]
    },
    {
     "name": "stdout",
     "output_type": "stream",
     "text": [
      " 1 | 2 | 3 \n",
      "-----------\n",
      " 4 | 5 | 6 \n",
      "-----------\n",
      " x | 8 | x \n",
      "电脑出子：\n",
      " 1 | 2 | 3 \n",
      "-----------\n",
      " 4 | 5 | 6 \n",
      "-----------\n",
      " x | x | x \n",
      "电脑获胜\n"
     ]
    },
    {
     "name": "stdin",
     "output_type": "stream",
     "text": [
      "玩家出子: 5\n"
     ]
    },
    {
     "name": "stdout",
     "output_type": "stream",
     "text": [
      " 1 | 2 | 3 \n",
      "-----------\n",
      " 4 | 5 | 6 \n",
      "-----------\n",
      " x | x | x \n",
      "玩家获胜\n",
      "电脑出子：\n",
      " 1 | x | 3 \n",
      "-----------\n",
      " 4 | 5 | 6 \n",
      "-----------\n",
      " x | x | x \n",
      "电脑获胜\n"
     ]
    },
    {
     "name": "stdin",
     "output_type": "stream",
     "text": [
      "玩家出子: 1\n"
     ]
    },
    {
     "name": "stdout",
     "output_type": "stream",
     "text": [
      " 1 | x | 3 \n",
      "-----------\n",
      " 4 | 5 | 6 \n",
      "-----------\n",
      " x | x | x \n",
      "玩家获胜\n",
      "电脑出子：\n",
      " 1 | x | 3 \n",
      "-----------\n",
      " 4 | 5 | x \n",
      "-----------\n",
      " x | x | x \n",
      "电脑获胜\n"
     ]
    },
    {
     "name": "stdin",
     "output_type": "stream",
     "text": [
      "玩家出子: 10\n"
     ]
    },
    {
     "ename": "IndexError",
     "evalue": "list index out of range",
     "output_type": "error",
     "traceback": [
      "\u001b[1;31m---------------------------------------------------------------------------\u001b[0m",
      "\u001b[1;31mIndexError\u001b[0m                                Traceback (most recent call last)",
      "\u001b[1;32m<ipython-input-4-fa65dd277b97>\u001b[0m in \u001b[0;36m<module>\u001b[1;34m\u001b[0m\n\u001b[0;32m     14\u001b[0m             \u001b[0muser\u001b[0m\u001b[1;33m=\u001b[0m\u001b[0minput\u001b[0m\u001b[1;33m(\u001b[0m\u001b[1;34m\"玩家出子:\"\u001b[0m\u001b[1;33m)\u001b[0m\u001b[1;33m\u001b[0m\u001b[1;33m\u001b[0m\u001b[0m\n\u001b[0;32m     15\u001b[0m             \u001b[1;31m#idx=random.randint(0,len(chessList)-1)\u001b[0m\u001b[1;33m\u001b[0m\u001b[1;33m\u001b[0m\u001b[1;33m\u001b[0m\u001b[0m\n\u001b[1;32m---> 16\u001b[1;33m             \u001b[1;32mif\u001b[0m \u001b[0mint\u001b[0m\u001b[1;33m(\u001b[0m\u001b[0muser\u001b[0m\u001b[1;33m)\u001b[0m\u001b[1;33m==\u001b[0m\u001b[0mchessList\u001b[0m\u001b[1;33m[\u001b[0m\u001b[0mint\u001b[0m\u001b[1;33m(\u001b[0m\u001b[0muser\u001b[0m\u001b[1;33m)\u001b[0m\u001b[1;33m]\u001b[0m\u001b[1;33m:\u001b[0m\u001b[1;33m\u001b[0m\u001b[1;33m\u001b[0m\u001b[0m\n\u001b[0m\u001b[0;32m     17\u001b[0m                 \u001b[0mchessList\u001b[0m\u001b[1;33m[\u001b[0m\u001b[0mint\u001b[0m\u001b[1;33m(\u001b[0m\u001b[0muser\u001b[0m\u001b[1;33m)\u001b[0m\u001b[1;33m]\u001b[0m\u001b[1;33m==\u001b[0m\u001b[1;34m'o'\u001b[0m\u001b[1;33m\u001b[0m\u001b[1;33m\u001b[0m\u001b[0m\n\u001b[0;32m     18\u001b[0m                 \u001b[0mcoin\u001b[0m\u001b[1;33m=\u001b[0m\u001b[1;36m1\u001b[0m\u001b[1;33m\u001b[0m\u001b[1;33m\u001b[0m\u001b[0m\n",
      "\u001b[1;31mIndexError\u001b[0m: list index out of range"
     ]
    }
   ],
   "source": [
    "import random\n",
    "print(\" 1 | 2 | 3 \")\n",
    "print(\"-----------\")\n",
    "print(\" 4 | 5 | 6 \")\n",
    "print(\"-----------\")\n",
    "print(\" 7 | 8 | 9 \")\n",
    "coin=random.randint(0,1)\n",
    "chessList=list(range(10))\n",
    "count=0\n",
    "while True:\n",
    "    count+=1\n",
    "    if coin==0:\n",
    "        while True:\n",
    "            user=input(\"玩家出子:\")\n",
    "            #idx=random.randint(0,len(chessList)-1)\n",
    "            if int(user)==chessList[int(user)]:\n",
    "                chessList[int(user)]=='o'\n",
    "                coin=1\n",
    "                break\n",
    "            else:\n",
    "                print(\"此处有子，请重新出子！\")\n",
    "    elif coin==1:\n",
    "        print(\"电脑出子：\")\n",
    "        while True:\n",
    "            idx=random.randint(0,len(chessList)-1)\n",
    "            if idx==chessList[idx]:\n",
    "                chessList[idx]='x'\n",
    "                coin=0\n",
    "                break\n",
    "                \n",
    "    print(\" \"+str(chessList[1])+\" | \"+str(chessList[2])+\" | \"+str(chessList[3])+\" \")\n",
    "    print(\"-----------\")\n",
    "    print(\" \"+str(chessList[4])+\" | \"+str(chessList[5])+\" | \"+str(chessList[6])+\" \")\n",
    "    print(\"-----------\")\n",
    "    print(\" \"+str(chessList[7])+\" | \"+str(chessList[8])+\" | \"+str(chessList[9])+\" \")\n",
    "    win1=chessList[1]==chessList[2]==chessList[3]    \n",
    "    win2=chessList[4]==chessList[5]==chessList[6] \n",
    "    win3=chessList[7]==chessList[8]==chessList[9] \n",
    "    win4=chessList[1]==chessList[4]==chessList[7] \n",
    "    win5=chessList[2]==chessList[5]==chessList[8] \n",
    "    win6=chessList[3]==chessList[6]==chessList[9] \n",
    "    win7=chessList[1]==chessList[5]==chessList[9] \n",
    "    if win1 or win2 or win3 or win4 or win5 or win6 or win7:\n",
    "        if coin==1:\n",
    "            print(\"玩家获胜\")\n",
    "            break\n",
    "        else:\n",
    "            print(\"电脑获胜\")\n",
    "            break\n",
    "    elif count==9:\n",
    "        print(\"和棋\")\n",
    "        break"
   ]
  },
  {
   "cell_type": "code",
   "execution_count": 8,
   "metadata": {},
   "outputs": [
    {
     "data": {
      "text/plain": [
       "' 1 2 3'"
      ]
     },
     "execution_count": 8,
     "metadata": {},
     "output_type": "execute_result"
    }
   ],
   "source": [
    "def find_factor(nums):\n",
    "    if type(nums)!=int:\n",
    "        print(\"输入值类型出错，必须是整数！\")\n",
    "        return\n",
    "    elif nums<=0:\n",
    "        print(\"输入值范围出错，必须是正数！\")\n",
    "        return\n",
    "    i=1\n",
    "    str1=''\n",
    "    while i<nums:\n",
    "        if nums%i==0:\n",
    "            str1=str1+' '+str(i)\n",
    "        i+=1\n",
    "    return str1\n",
    "find_factor(6)"
   ]
  },
  {
   "cell_type": "code",
   "execution_count": 1,
   "metadata": {},
   "outputs": [
    {
     "name": "stdout",
     "output_type": "stream",
     "text": [
      "pygame 2.0.1 (SDL 2.0.14, Python 3.8.5)\n",
      "Hello from the pygame community. https://www.pygame.org/contribute.html\n"
     ]
    },
    {
     "ename": "SystemExit",
     "evalue": "",
     "output_type": "error",
     "traceback": [
      "An exception has occurred, use %tb to see the full traceback.\n",
      "\u001b[1;31mSystemExit\u001b[0m\n"
     ]
    },
    {
     "name": "stderr",
     "output_type": "stream",
     "text": [
      "D:\\anaconda3\\lib\\site-packages\\IPython\\core\\interactiveshell.py:3426: UserWarning: To exit: use 'exit', 'quit', or Ctrl-D.\n",
      "  warn(\"To exit: use 'exit', 'quit', or Ctrl-D.\", stacklevel=1)\n"
     ]
    }
   ],
   "source": [
    "import sys\n",
    "import pygame\n",
    "pygame.init()\n",
    "size=width,height=640,480\n",
    "screen=pygame.display.set_mode(size)\n",
    "color=(0,0,0)\n",
    "ball=pygame.image.load(\"ball.png\")\n",
    "ballrect=ball.get_rect()\n",
    "speed=[5,5]\n",
    "clock=pygame.time.Clock()\n",
    "while True:\n",
    "    clock.tick(60)\n",
    "    for event in pygame.event.get():\n",
    "        if event.type==pygame.QUIT:\n",
    "            sys.exit()\n",
    "    ballrect=ballrect.move(speed)\n",
    "    if ballrect.left<0 or ballrect.right>width:\n",
    "        speed[0]=-speed[0]\n",
    "    if ballrect.top<0 or ballrect.bottom>height:\n",
    "        speed[1]=-speed[1]\n",
    "    screen.fill(color)\n",
    "    screen.blit(ball,ballrect)\n",
    "    pygame.display.flip()\n",
    "pygame.quit()"
   ]
  },
  {
   "cell_type": "code",
   "execution_count": 3,
   "metadata": {},
   "outputs": [
    {
     "name": "stdout",
     "output_type": "stream",
     "text": [
      "--------欢迎来到千词斩---------\n"
     ]
    },
    {
     "name": "stdin",
     "output_type": "stream",
     "text": [
      "请问随机的英文单词是: random\n"
     ]
    },
    {
     "name": "stdout",
     "output_type": "stream",
     "text": [
      "你答对了\n"
     ]
    },
    {
     "name": "stdin",
     "output_type": "stream",
     "text": [
      "请问错误的英文单词是: error\n"
     ]
    },
    {
     "name": "stdout",
     "output_type": "stream",
     "text": [
      "你答对了\n"
     ]
    },
    {
     "name": "stdin",
     "output_type": "stream",
     "text": [
      "请问如果的英文单词是: if\n"
     ]
    },
    {
     "name": "stdout",
     "output_type": "stream",
     "text": [
      "你答对了\n"
     ]
    },
    {
     "name": "stdin",
     "output_type": "stream",
     "text": [
      "请问继续的英文单词是: continue\n"
     ]
    },
    {
     "name": "stdout",
     "output_type": "stream",
     "text": [
      "你答对了\n"
     ]
    },
    {
     "name": "stdin",
     "output_type": "stream",
     "text": [
      "请问答案的英文单词是: answer\n"
     ]
    },
    {
     "name": "stdout",
     "output_type": "stream",
     "text": [
      "你答对了\n"
     ]
    },
    {
     "name": "stdin",
     "output_type": "stream",
     "text": [
      "请问硬币的英文单词是: coin\n"
     ]
    },
    {
     "name": "stdout",
     "output_type": "stream",
     "text": [
      "你背完了\n"
     ]
    }
   ],
   "source": [
    "import random\n",
    "print(\"--------欢迎来到千词斩---------\")\n",
    "questionlist=[\"随机\",\"错误\",\"继续\",\"硬币\",\"答案\",\"如果\"]\n",
    "answerlist=[\"random\",\"error\",\"continue\",\"coin\",\"answer\",\"if\"]\n",
    "count=0\n",
    "while True:\n",
    "    index=random.randint(0,5)\n",
    "    question=questionlist[index]\n",
    "    if question==None:\n",
    "        continue\n",
    "    answer=answerlist[index]\n",
    "    user=input(\"请问\"+question+\"的英文单词是:\")\n",
    "    if user==answer:\n",
    "        count+=1\n",
    "        if count==6:\n",
    "            print(\"你背完了\")\n",
    "            break\n",
    "        questionlist[index]=None\n",
    "        print('你答对了')\n",
    "    else:\n",
    "        print(\"你答错了\")\n",
    "    "
   ]
  },
  {
   "cell_type": "code",
   "execution_count": null,
   "metadata": {},
   "outputs": [],
   "source": []
  }
 ],
 "metadata": {
  "kernelspec": {
   "display_name": "Python 3",
   "language": "python",
   "name": "python3"
  },
  "language_info": {
   "codemirror_mode": {
    "name": "ipython",
    "version": 3
   },
   "file_extension": ".py",
   "mimetype": "text/x-python",
   "name": "python",
   "nbconvert_exporter": "python",
   "pygments_lexer": "ipython3",
   "version": "3.8.5"
  }
 },
 "nbformat": 4,
 "nbformat_minor": 4
}
