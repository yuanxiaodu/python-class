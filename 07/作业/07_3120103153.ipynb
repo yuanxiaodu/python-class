{
 "cells": [
  {
   "cell_type": "code",
   "execution_count": 1,
   "metadata": {},
   "outputs": [
    {
     "name": "stdout",
     "output_type": "stream",
     "text": [
      "Please enter initial username:zsh\n",
      "Please enter initial password:123456\n",
      "zsh\n",
      "123456\n",
      ">>>User Login<<<\n",
      "enter username:zsh\n",
      "enter password:12345\n",
      "Wrong Password,enter again!\n",
      "enter password:123456\n",
      "Success Login!\n"
     ]
    }
   ],
   "source": [
    "#先设定初始用户名和登录密码\n",
    "init_usrname=input('Please enter initial username:')\n",
    "init_password=input('Please enter initial password:')\n",
    "#打印输出设置好的用户名和初始登录密码\n",
    "print (init_usrname)\n",
    "print (init_password)\n",
    "\n",
    "\n",
    "#进入登录见面，flag0指的是输入密码的错误次数\n",
    "#flag1指的是登录成功标志位\n",
    "flag0=0\n",
    "flag1=0\n",
    "print('>>>User Login<<<')\n",
    "\n",
    "\n",
    "while True:\n",
    "#提示用户输入用户名\n",
    "    usr=input('enter username:')\n",
    "    if usr==init_usrname:\n",
    "    #输入用户名正确则进入到输入登录密码阶段\n",
    "        #判断输错登录密码次数\n",
    "        while flag0<3:\n",
    "            password=input('enter password:')\n",
    "            if password==init_password:\n",
    "            #若密码输入正确则登录成功因而跳出循环\n",
    "                print('Success Login!')\n",
    "                flag1=1\n",
    "                break\n",
    "            else: \n",
    "            #计算输错次数，每输错一次flag加一\n",
    "                flag0 +=1\n",
    "                if flag0<=2:\n",
    "                   print('Wrong Password,enter again!')\n",
    "    #输错三次跳出输入登录密码环节重新进行用户名的输入，相应地flag也要归零\n",
    "        if flag1==1:\n",
    "             break\n",
    "        flag0=0\n",
    "        print ('You have tried three times,login again!')\n",
    "    else:\n",
    "        print ('Wrong Username,enter again!')"
   ]
  },
  {
   "cell_type": "code",
   "execution_count": 2,
   "metadata": {},
   "outputs": [
    {
     "name": "stdout",
     "output_type": "stream",
     "text": [
      "点数1的次数：0，频率：0.0\n",
      "点数2的次数：3，频率：0.3\n",
      "点数3的次数：2，频率：0.2\n",
      "点数4的次数：3，频率：0.3\n",
      "点数5的次数：0，频率：0.0\n",
      "点数6的次数：2，频率：0.2\n"
     ]
    }
   ],
   "source": [
    "import random\n",
    "def roll_dice():\n",
    "    '''\n",
    "    模拟掷骰子\n",
    "    '''\n",
    "    roll = random.randint(1,6)\n",
    "    return roll\n",
    " \n",
    "def main():\n",
    "    total_times = 10\n",
    "    #初始化列表[0,0,0,0,0,0]\n",
    "    result_list = [0] * 6\n",
    " \n",
    "    for i in range(total_times ):\n",
    "        roll = roll_dice()\n",
    "        for j in range(1,7):\n",
    "            if roll == j:\n",
    "                result_list [j-1] += 1\n",
    "    for i, result in enumerate(result_list):\n",
    "        print('点数{}的次数：{}，频率：{}'.format(i + 1, result, result / total_times))\n",
    "if __name__ == '__main__':\n",
    "    main()"
   ]
  },
  {
   "cell_type": "code",
   "execution_count": 3,
   "metadata": {},
   "outputs": [
    {
     "name": "stdout",
     "output_type": "stream",
     "text": [
      "点数2的次数：1，频率：0.01\n",
      "点数3的次数：8，频率：0.08\n",
      "点数4的次数：11，频率：0.11\n",
      "点数5的次数：12，频率：0.12\n",
      "点数6的次数：12，频率：0.12\n",
      "点数7的次数：23，频率：0.23\n",
      "点数8的次数：11，频率：0.11\n",
      "点数9的次数：12，频率：0.12\n",
      "点数10的次数：2，频率：0.02\n",
      "点数11的次数：6，频率：0.06\n",
      "点数12的次数：2，频率：0.02\n"
     ]
    }
   ],
   "source": [
    "\n",
    "import random\n",
    "def roll_dice():\n",
    "    '''\n",
    "    模拟掷骰子\n",
    "    '''\n",
    "    roll = random.randint(1,6)\n",
    "    return roll\n",
    " \n",
    "def main():\n",
    "    total_times = 100\n",
    "    #初始化列表[0,0,0,0,0,0]\n",
    "    result_list = [0] * 11\n",
    " \n",
    "    #初始化点数列表\n",
    "    roll_list = list(range(2,13))\n",
    " \n",
    "    roll_dict = dict(zip(roll_list ,result_list ))  #元组结构\n",
    " \n",
    "    for i in range(total_times ):\n",
    "        roll1 = roll_dice()\n",
    "        roll2 = roll_dice()\n",
    " \n",
    "        for j in range(2,13):\n",
    "            if (roll1+roll2) == j:\n",
    "                roll_dict[j] += 1\n",
    "    #遍历列表\n",
    "    for i, result in roll_dict.items():\n",
    "        print('点数{}的次数：{}，频率：{}'.format(i, result, result / total_times))\n",
    "if __name__ == '__main__':\n",
    "    main()"
   ]
  },
  {
   "cell_type": "code",
   "execution_count": 9,
   "metadata": {},
   "outputs": [
    {
     "name": "stdout",
     "output_type": "stream",
     "text": [
      "点数2的次数：2，频率：0.02\n",
      "点数3的次数：3，频率：0.03\n",
      "点数4的次数：8，频率：0.08\n",
      "点数5的次数：8，频率：0.08\n",
      "点数6的次数：12，频率：0.12\n",
      "点数7的次数：21，频率：0.21\n",
      "点数8的次数：19，频率：0.19\n",
      "点数9的次数：10，频率：0.1\n",
      "点数10的次数：11，频率：0.11\n",
      "点数11的次数：4，频率：0.04\n",
      "点数12的次数：2，频率：0.02\n"
     ]
    },
    {
     "data": {
      "image/png": "[encoded data removed]",
      "text/plain": [
       "<Figure size 432x288 with 1 Axes>"
      ]
     },
     "metadata": {
      "needs_background": "light"
     },
     "output_type": "display_data"
    }
   ],
   "source": [
    "%matplotlib inline\n",
    "'''\n",
    "功能：模拟掷骰子\n",
    "版本：3.0\n",
    "'''\n",
    "import random\n",
    "import matplotlib.pyplot as plt\n",
    "def roll_dice():\n",
    "    '''\n",
    "    模拟掷骰子\n",
    "    '''\n",
    "    roll = random.randint(1,6)\n",
    "    return roll\n",
    " \n",
    "def main():\n",
    "    total_times = 100\n",
    "    #初始化列表[0,0,0,0,0,0]\n",
    "    result_list = [0] * 11\n",
    " \n",
    "    #初始化点数列表\n",
    "    roll_list = list(range(2,13))\n",
    " \n",
    "    roll_dict = dict(zip(roll_list ,result_list ))  #元组结构\n",
    "    # 记录骰子的结果\n",
    "    roll1_list = []\n",
    "    roll2_list = []\n",
    "    for i in range(total_times ):\n",
    "        roll1 = roll_dice()\n",
    "        roll2 = roll_dice()\n",
    "        roll1_list.append(roll1)\n",
    "        roll2_list.append(roll2)\n",
    "        for j in range(2,13):\n",
    "            if (roll1+roll2) == j:\n",
    "                roll_dict[j] += 1\n",
    "    #遍历列表\n",
    "    for i, result in roll_dict.items():\n",
    "        print('点数{}的次数：{}，频率：{}'.format(i, result, result / total_times))\n",
    " \n",
    "    #数据可视化\n",
    "    x = range(1,total_times +1)\n",
    "    plt.scatter (x,roll1_list ,c='red',alpha = 0.5)  #alpha:透明度 c:颜色\n",
    "    plt.scatter (x, roll2_list, c='green',alpha=0.5)\n",
    "    plt.show()\n",
    "if __name__ == '__main__':\n",
    "    main()"
   ]
  },
  {
   "cell_type": "code",
   "execution_count": 5,
   "metadata": {},
   "outputs": [
    {
     "name": "stderr",
     "output_type": "stream",
     "text": [
      "D:\\software\\Anaconda\\lib\\site-packages\\ipykernel_launcher.py:28: MatplotlibDeprecationWarning: \n",
      "The 'normed' kwarg was deprecated in Matplotlib 2.1 and will be removed in 3.1. Use 'density' instead.\n"
     ]
    },
    {
     "data": {
      "image/png": "[encoded data removed]",
      "text/plain": [
       "<Figure size 432x288 with 1 Axes>"
      ]
     },
     "metadata": {
      "needs_background": "light"
     },
     "output_type": "display_data"
    }
   ],
   "source": [
    "\n",
    "'''\n",
    "功能：模拟掷骰子\n",
    "版本：4.0\n",
    "'''\n",
    "import random\n",
    "import matplotlib.pyplot as plt\n",
    "# 解决中文显示问题\n",
    "plt.rcParams['font.sans-serif'] = ['SimHei']  #SimHei黑体\n",
    "plt.rcParams['axes.unicode_minus'] = False\n",
    " \n",
    "def roll_dice():\n",
    "    '''\n",
    "    模拟掷骰子\n",
    "    '''\n",
    "    roll = random.randint(1,6)\n",
    "    return roll\n",
    " \n",
    "def main():\n",
    "    total_times = 100\n",
    "    # 记录骰子的结果\n",
    "    roll_list=[]\n",
    " \n",
    "    for i in range(total_times ):\n",
    "        roll1 = roll_dice()\n",
    "        roll2 = roll_dice()\n",
    "        roll_list.append(roll1 + roll2)\n",
    "    #数据可视化\n",
    "    plt.hist(roll_list ,bins=range(2,14),normed= 1,edgecolor='black',linewidth=1)\n",
    "            #edgeclor:边缘颜色   linewidth:边缘宽度  normed=1时转化为概率图\n",
    "    plt.title('骰子点数统计')  #名称\n",
    "    plt.xlabel('点数')\n",
    "    plt.ylabel('频率')\n",
    "    plt.show()\n",
    "if __name__ == '__main__':\n",
    "    main()"
   ]
  },
  {
   "cell_type": "code",
   "execution_count": 6,
   "metadata": {},
   "outputs": [
    {
     "name": "stderr",
     "output_type": "stream",
     "text": [
      "D:\\software\\Anaconda\\lib\\site-packages\\ipykernel_launcher.py:29: MatplotlibDeprecationWarning: \n",
      "The 'normed' kwarg was deprecated in Matplotlib 2.1 and will be removed in 3.1. Use 'density' instead.\n"
     ]
    },
    {
     "data": {
      "image/png": "[encoded data removed]",
      "text/plain": [
       "<Figure size 432x288 with 1 Axes>"
      ]
     },
     "metadata": {
      "needs_background": "light"
     },
     "output_type": "display_data"
    }
   ],
   "source": [
    "\n",
    "'''\n",
    "功能：模拟掷骰子\n",
    "版本：5.0\n",
    "'''\n",
    "import random\n",
    "import matplotlib.pyplot as plt\n",
    "import numpy as np\n",
    "# 解决中文显示问题\n",
    "plt.rcParams['font.sans-serif'] = ['SimHei']  #SimHei黑体\n",
    "plt.rcParams['axes.unicode_minus'] = False\n",
    " \n",
    "def roll_dice():\n",
    "    '''\n",
    "    模拟掷骰子\n",
    "    '''\n",
    "    roll = random.randint(1,6)\n",
    "    return roll\n",
    " \n",
    "def main():\n",
    "    total_times = 1000\n",
    "    # 记录骰子的结果\n",
    "    roll1_arr = np.random.randint(1,7,size=total_times)\n",
    "    roll2_arr = np.random.randint(1, 7, size=total_times)\n",
    "    result_arr = roll1_arr + roll2_arr\n",
    "    # hist,bins = np.histogram(result_arr ,bins=range(2,14))\n",
    "    # print(hist)\n",
    "    # print(bins)\n",
    "    #数据可视化\n",
    "    plt.hist(result_arr  ,bins=range(2,14),normed= 1,edgecolor='black',linewidth=1,rwidth= 0.8)\n",
    "            #edgeclor:边缘颜色   linewidth:边缘宽度  normed=1时转化为概率图  rwidth:柱子宽度\n",
    "    #设置X轴坐标点\n",
    "    tick_labels = ['2点', '3点', '4点', '5点',\n",
    "                   '6点', '7点', '8点', '9点', '10点', '11点', '12点']\n",
    "    tick_pos = np.arange(2, 13) + 0.5\n",
    "    plt.xticks(tick_pos,tick_labels)\n",
    " \n",
    "    plt.title('骰子点数统计')  #名称\n",
    "    plt.xlabel('点数')\n",
    "    plt.ylabel('频率')\n",
    "    plt.show()\n",
    "if __name__ == '__main__':\n",
    "    main()"
   ]
  },
  {
   "cell_type": "code",
   "execution_count": 1,
   "metadata": {},
   "outputs": [
    {
     "name": "stdout",
     "output_type": "stream",
     "text": [
      "-------------你有1000本金---------------\n",
      "------------投骰子游戏开始------------ \n",
      "请下注大或者小：大\n",
      "下注金额:100\n",
      "三个骰子数是 [2, 2, 3]\n",
      "骰子点数： 7\n",
      "骰子点数是小\n",
      "你选择的是大，哈哈你输了100元\n",
      "你现在有900元\n",
      "------------投骰子游戏开始------------ \n",
      "请下注大或者小：小\n",
      "下注金额:900\n",
      "三个骰子数是 [1, 6, 2]\n",
      "骰子点数： 9\n",
      "骰子点数是小\n",
      "你选择的是小,恭喜你赢了900元\n",
      "你现在有1800元\n",
      "------------投骰子游戏开始------------ \n",
      "请下注大或者小：大\n",
      "下注金额:1800\n",
      "三个骰子数是 [5, 2, 2]\n",
      "骰子点数： 9\n",
      "骰子点数是小\n",
      "你选择的是大，哈哈你输了1800元\n",
      "你现在有0元\n",
      "游戏结束\n"
     ]
    }
   ],
   "source": [
    "print ('-------------你有1000本金---------------')\n",
    "s=1000 #初始金额\n",
    "while s>0:\n",
    "    print ('------------投骰子游戏开始------------ ')\n",
    "    import random\n",
    "    import time\n",
    "    point=[]\n",
    "    for i in range(3):  \n",
    "        a=random.randint(1,6)\n",
    "        point.append(a)\n",
    "    i=input('请下注大或者小：')\n",
    "    choices=['大','小']\n",
    "    while i not in choices:\n",
    "        print ('输入格式错误,请重新输入')\n",
    "        i=input('请下注大或者小：')\n",
    "    j=int(input('下注金额:'))   \n",
    "    while j<=0 or j>s:\n",
    "        print ('输入金额有误,请重新输入')\n",
    "        j=int(input('下注金额:'))    \n",
    "    if 0<j<=s and i in choices:                 \n",
    "                if 11<=sum(point)<=18:\n",
    "                    time.sleep(1) \n",
    "                    print ('三个骰子数是',point)\n",
    "                    time.sleep(2)\n",
    "                    print ('骰子点数：',sum(point))\n",
    "                    time.sleep(1)\n",
    "                    print ('骰子点数是大')                \n",
    "                else:\n",
    "                    time.sleep(1)\n",
    "                    print ('三个骰子数是',point)\n",
    "                    time.sleep(1)\n",
    "                    print ('骰子点数：',sum(point))\n",
    "                    time.sleep(1)\n",
    "                    print ('骰子点数是小')\n",
    "            \n",
    "                if i=='大' and 11<=sum(point)<=18 or (i=='小' and 3<=sum(point)<=10):                          \n",
    "                    time.sleep(2)\n",
    "                    print ('你选择的是'+ i +',恭喜你赢了%d元'%j)\n",
    "                    time.sleep(2)\n",
    "                    print ('你现在有%d元'%(s+j))\n",
    "                    s=s+j\n",
    "                else:                \n",
    "                    time.sleep(2)\n",
    "                    print ('你选择的是'+ i +'，哈哈你输了%d元'%j)\n",
    "                    time.sleep(2)\n",
    "                    print ('你现在有%d元'%(s-j))\n",
    "                    s=s-j\n",
    "                if s==0:\n",
    "                    print ('游戏结束')\n",
    "    else:\n",
    "        print ('输入格式错误')\n",
    "        print ('输入金额有误')"
   ]
  },
  {
   "cell_type": "code",
   "execution_count": 4,
   "metadata": {},
   "outputs": [
    {
     "name": "stdout",
     "output_type": "stream",
     "text": [
      "掷三次骰子，得到的点数3，在10000次中出现了42次\n",
      "掷三次骰子，得到的点数4，在10000次中出现了130次\n",
      "掷三次骰子，得到的点数5，在10000次中出现了283次\n",
      "掷三次骰子，得到的点数6，在10000次中出现了480次\n",
      "掷三次骰子，得到的点数7，在10000次中出现了696次\n",
      "掷三次骰子，得到的点数8，在10000次中出现了1011次\n",
      "掷三次骰子，得到的点数9，在10000次中出现了1161次\n",
      "掷三次骰子，得到的点数10，在10000次中出现了1294次\n",
      "掷三次骰子，得到的点数11，在10000次中出现了1224次\n",
      "掷三次骰子，得到的点数12，在10000次中出现了1112次\n",
      "掷三次骰子，得到的点数13，在10000次中出现了928次\n",
      "掷三次骰子，得到的点数14，在10000次中出现了729次\n",
      "掷三次骰子，得到的点数15，在10000次中出现了464次\n",
      "掷三次骰子，得到的点数16，在10000次中出现了276次\n",
      "掷三次骰子，得到的点数17，在10000次中出现了124次\n",
      "掷三次骰子，得到的点数18，在10000次中出现了46次\n"
     ]
    }
   ],
   "source": [
    "\n",
    "#模拟投掷三个骰子，对游戏结果进行统计\n",
    "import random\n",
    "def roll_dice():\n",
    "    '''模拟掷骰子'''\n",
    "    roll_dot = random.randint(1, 6)\n",
    "    return roll_dot\n",
    "def main():\n",
    "    dot_list=[0]*16\n",
    "    key=list(range(3,19))  #[3, 4, 5, 6, 7, 8, 9, 10, 11, 12, 13, 14, 15, 16, 17, 18]\n",
    "    dot_dict=dict(zip(key,dot_list)) #{3: 0, 4: 0, 5: 0, 6: 0, 7: 0, 8: 0, 9: 0, 10: 0, 11: 0, 12: 0, 13: 0, 14: 0, 15: 0, 16: 0, 17: 0, 18: 0}\n",
    "    total_times=10000  #掷骰子次数\n",
    "    for i in range(total_times):\n",
    "        roll_dot1=roll_dice()\n",
    "        roll_dot2 = roll_dice()\n",
    "        roll_dot3 = roll_dice()\n",
    "        for j in range(3,19):\n",
    "            if roll_dot1+roll_dot2+roll_dot3==j:\n",
    "                dot_dict[j]+=1\n",
    "    for k,v in dot_dict.items():\n",
    "        print('掷三次骰子，得到的点数{}，在{}次中出现了{}次'.format(k,total_times,v))\n",
    " \n",
    "if __name__ == '__main__':\n",
    "    main()"
   ]
  },
  {
   "cell_type": "code",
   "execution_count": 6,
   "metadata": {},
   "outputs": [
    {
     "name": "stdout",
     "output_type": "stream",
     "text": [
      "欢迎大家来到我们的小游戏\n",
      "你多少岁啦？\n",
      "18\n",
      "成年人啦，游戏愉快\n",
      "你叫什么名字？\n",
      "彭于晏\n",
      "你好！ 彭于晏!\n",
      "你现在面前有两扇门A/B\n",
      "你选择哪个\n",
      "B\n",
      "里面是一只狮子\n",
      "A.逃跑 \n",
      "B.搏斗\n",
      "你的选择是？\n",
      "A\n",
      "你逃到了一个门后面，眼前是一家A.高级酒店 B.普通旅馆\n",
      "你喜欢哪一个住宿环境\n",
      "A\n",
      "好好休息，次日请将房费转入到支付宝账号13xxxxxxxx\n",
      "还想继续玩吗？1\n",
      "那就继续期待吧\n",
      "你多少岁啦？\n",
      "17\n",
      "好好学习，天天向上\n",
      "你多少岁啦？\n",
      "17\n",
      "好好学习，天天向上\n",
      "给别人玩一下好不好！！！\n"
     ]
    }
   ],
   "source": [
    "i = 1\n",
    "print('欢迎大家来到我们的小游戏')\n",
    "while i<= 3:\n",
    "   age = int(input('你多少岁啦？\\n'))\n",
    "   if age >= 18:\n",
    "       print('成年人啦，游戏愉快')\n",
    "       name = input('你叫什么名字？\\n')\n",
    "       print('你好！',name+'!')\n",
    "       print('你现在面前有两扇门A/B')\n",
    "       door_number =input('你选择哪个\\n')\n",
    "       if door_number == 'A':\n",
    "           print('门里面是毒气，玩家中毒，游戏结束')\n",
    "       elif door_number == 'B':\n",
    "           print('里面是一只狮子\\nA.逃跑 \\nB.搏斗')\n",
    "           lion_number =input('你的选择是？\\n')\n",
    "           if lion_number == 'A':\n",
    "               print('你逃到了一个门后面，眼前是一家A.高级酒店 B.普通旅馆')\n",
    "               hotel_number = input('你喜欢哪一个住宿环境\\n')\n",
    "               if hotel_number == 'A':\n",
    "                   print('好好休息，次日请将房费转入到支付宝账号13xxxxxxxx')\n",
    "                   game = input('还想继续玩吗？')\n",
    "                   print('那就继续期待吧')\n",
    "               elif hotel_number == 'B':\n",
    "                   print('好好休息，房费是高级酒店的95折，次日请将房费转入到支付宝账号13xxxxxxxx')\n",
    "                   game = input('还想继续玩吗？')\n",
    "                   print('根据用户画像，你不是一个爱消费的人，再见')\n",
    "           elif lion_number == 'B':\n",
    "               print('一不小心打死狮子，根据有关法律规定，判有期徒刑8——10年，再见！')\n",
    "\n",
    "   else:\n",
    "       print('好好学习，天天向上')\n",
    "\n",
    "   i = i+1\n",
    "if i >3:\n",
    "   print(\"给别人玩一下好不好！！！\")"
   ]
  },
  {
   "cell_type": "code",
   "execution_count": 8,
   "metadata": {},
   "outputs": [
    {
     "name": "stdout",
     "output_type": "stream",
     "text": [
      "k= 0.9004584204388926 b= 0.831055638876812\n",
      "cost：1\n",
      "求解的拟合直线为:\n",
      "y=0.9x+0.83\n"
     ]
    },
    {
     "name": "stderr",
     "output_type": "stream",
     "text": [
      "D:\\software\\Anaconda\\lib\\site-packages\\matplotlib\\backends\\backend_agg.py:211: RuntimeWarning: Glyph 25311 missing from current font.\n",
      "  font.set_text(s, 0.0, flags=flags)\n",
      "D:\\software\\Anaconda\\lib\\site-packages\\matplotlib\\backends\\backend_agg.py:211: RuntimeWarning: Glyph 21512 missing from current font.\n",
      "  font.set_text(s, 0.0, flags=flags)\n",
      "D:\\software\\Anaconda\\lib\\site-packages\\matplotlib\\backends\\backend_agg.py:211: RuntimeWarning: Glyph 30452 missing from current font.\n",
      "  font.set_text(s, 0.0, flags=flags)\n",
      "D:\\software\\Anaconda\\lib\\site-packages\\matplotlib\\backends\\backend_agg.py:211: RuntimeWarning: Glyph 32447 missing from current font.\n",
      "  font.set_text(s, 0.0, flags=flags)\n",
      "D:\\software\\Anaconda\\lib\\site-packages\\matplotlib\\backends\\backend_agg.py:211: RuntimeWarning: Glyph 26679 missing from current font.\n",
      "  font.set_text(s, 0.0, flags=flags)\n",
      "D:\\software\\Anaconda\\lib\\site-packages\\matplotlib\\backends\\backend_agg.py:211: RuntimeWarning: Glyph 26412 missing from current font.\n",
      "  font.set_text(s, 0.0, flags=flags)\n",
      "D:\\software\\Anaconda\\lib\\site-packages\\matplotlib\\backends\\backend_agg.py:211: RuntimeWarning: Glyph 25968 missing from current font.\n",
      "  font.set_text(s, 0.0, flags=flags)\n",
      "D:\\software\\Anaconda\\lib\\site-packages\\matplotlib\\backends\\backend_agg.py:211: RuntimeWarning: Glyph 25454 missing from current font.\n",
      "  font.set_text(s, 0.0, flags=flags)\n",
      "D:\\software\\Anaconda\\lib\\site-packages\\matplotlib\\backends\\backend_agg.py:180: RuntimeWarning: Glyph 25311 missing from current font.\n",
      "  font.set_text(s, 0, flags=flags)\n",
      "D:\\software\\Anaconda\\lib\\site-packages\\matplotlib\\backends\\backend_agg.py:180: RuntimeWarning: Glyph 21512 missing from current font.\n",
      "  font.set_text(s, 0, flags=flags)\n",
      "D:\\software\\Anaconda\\lib\\site-packages\\matplotlib\\backends\\backend_agg.py:180: RuntimeWarning: Glyph 30452 missing from current font.\n",
      "  font.set_text(s, 0, flags=flags)\n",
      "D:\\software\\Anaconda\\lib\\site-packages\\matplotlib\\backends\\backend_agg.py:180: RuntimeWarning: Glyph 32447 missing from current font.\n",
      "  font.set_text(s, 0, flags=flags)\n",
      "D:\\software\\Anaconda\\lib\\site-packages\\matplotlib\\backends\\backend_agg.py:180: RuntimeWarning: Glyph 26679 missing from current font.\n",
      "  font.set_text(s, 0, flags=flags)\n",
      "D:\\software\\Anaconda\\lib\\site-packages\\matplotlib\\backends\\backend_agg.py:180: RuntimeWarning: Glyph 26412 missing from current font.\n",
      "  font.set_text(s, 0, flags=flags)\n",
      "D:\\software\\Anaconda\\lib\\site-packages\\matplotlib\\backends\\backend_agg.py:180: RuntimeWarning: Glyph 25968 missing from current font.\n",
      "  font.set_text(s, 0, flags=flags)\n",
      "D:\\software\\Anaconda\\lib\\site-packages\\matplotlib\\backends\\backend_agg.py:180: RuntimeWarning: Glyph 25454 missing from current font.\n",
      "  font.set_text(s, 0, flags=flags)\n"
     ]
    },
    {
     "data": {
      "image/png": "[encoded data removed]",
      "text/plain": [
       "<Figure size 576x432 with 1 Axes>"
      ]
     },
     "metadata": {
      "needs_background": "light"
     },
     "output_type": "display_data"
    }
   ],
   "source": [
    "%matplotlib inline\n",
    "##最小二乘法\n",
    "import numpy as np   ##科学计算库 \n",
    "import scipy as sp   ##在numpy基础上实现的部分算法库\n",
    "import matplotlib.pyplot as plt  ##绘图库\n",
    "from scipy.optimize import leastsq  ##引入最小二乘法算法\n",
    "\n",
    "'''\n",
    "     设置样本数据，真实数据需要在这里处理\n",
    "'''\n",
    "##样本数据(Xi,Yi)，需要转换成数组(列表)形式\n",
    "Xi=np.array([6.19,2.51,7.29,7.01,5.7,2.66,3.98,2.5,9.1,4.2])\n",
    "Yi=np.array([5.25,2.83,6.41,6.71,5.1,4.23,5.05,1.98,10.5,6.3])\n",
    "\n",
    "'''\n",
    "    设定拟合函数和偏差函数\n",
    "    函数的形状确定过程：\n",
    "    1.先画样本图像\n",
    "    2.根据样本图像大致形状确定函数形式(直线、抛物线、正弦余弦等)\n",
    "'''\n",
    "\n",
    "##需要拟合的函数func :指定函数的形状\n",
    "def func(p,x):\n",
    "    k,b=p\n",
    "    return k*x+b\n",
    "\n",
    "##偏差函数：x,y都是列表:这里的x,y更上面的Xi,Yi中是一一对应的\n",
    "def error(p,x,y):\n",
    "    return func(p,x)-y\n",
    "\n",
    "'''\n",
    "    主要部分：附带部分说明\n",
    "    1.leastsq函数的返回值tuple，第一个元素是求解结果，第二个是求解的代价值(个人理解)\n",
    "    2.官网的原话（第二个值）：Value of the cost function at the solution\n",
    "    3.实例：Para=>(array([ 0.61349535,  1.79409255]), 3)\n",
    "    4.返回值元组中第一个值的数量跟需要求解的参数的数量一致\n",
    "'''\n",
    "\n",
    "#k,b的初始值，可以任意设定,经过几次试验，发现p0的值会影响cost的值：Para[1]\n",
    "p0=[1,20]\n",
    "\n",
    "#把error函数中除了p0以外的参数打包到args中(使用要求)\n",
    "Para=leastsq(error,p0,args=(Xi,Yi))\n",
    "\n",
    "#读取结果\n",
    "k,b=Para[0]\n",
    "print(\"k=\",k,\"b=\",b)\n",
    "print(\"cost：\"+str(Para[1]))\n",
    "print(\"求解的拟合直线为:\")\n",
    "print(\"y=\"+str(round(k,2))+\"x+\"+str(round(b,2)))\n",
    "\n",
    "'''\n",
    "   绘图，看拟合效果.\n",
    "   matplotlib默认不支持中文，label设置中文的话需要另行设置\n",
    "   如果报错，改成英文就可以\n",
    "'''\n",
    "\n",
    "#画样本点\n",
    "plt.figure(figsize=(8,6)) ##指定图像比例： 8：6\n",
    "plt.scatter(Xi,Yi,color=\"green\",label=\"样本数据\",linewidth=2) \n",
    "\n",
    "#画拟合直线\n",
    "x=np.linspace(0,12,100) ##在0-15直接画100个连续点\n",
    "y=k*x+b ##函数式\n",
    "plt.plot(x,y,color=\"red\",label=\"拟合直线\",linewidth=2) \n",
    "plt.legend() #绘制图例\n",
    "plt.show()"
   ]
  },
  {
   "cell_type": "code",
   "execution_count": 10,
   "metadata": {},
   "outputs": [
    {
     "name": "stdout",
     "output_type": "stream",
     "text": [
      "Fitting Parameters:  [ 2.07225466e+03 -7.94250361e+03  1.23002619e+04 -9.88093119e+03\n",
      "  4.40890667e+03 -1.07149634e+03  1.10858736e+02  2.65067241e+00\n",
      " -1.33377167e-02]\n"
     ]
    },
    {
     "data": {
      "image/png": "[encoded data removed]",
      "text/plain": [
       "<Figure size 432x288 with 1 Axes>"
      ]
     },
     "metadata": {
      "needs_background": "light"
     },
     "output_type": "display_data"
    }
   ],
   "source": [
    "%matplotlib inline\n",
    "'''最小二乘法'''\n",
    "# _*_ coding: utf-8 _*_\n",
    "\n",
    "import numpy as np  # 引入numpy\n",
    "import scipy as sp\n",
    "import pylab as pl\n",
    "from scipy.optimize import leastsq  # 引入最小二乘函数\n",
    "\n",
    "n = 9  # 多项式次数\n",
    "\n",
    "\n",
    "# 目标函数\n",
    "def real_func(x):\n",
    "    return np.sin(2 * np.pi * x)\n",
    "\n",
    "\n",
    "# 多项式函数\n",
    "def fit_func(p, x):\n",
    "    f = np.poly1d(p)\n",
    "    return f(x)\n",
    "\n",
    "\n",
    "# 残差函数\n",
    "def residuals_func(p, y, x):\n",
    "    ret = fit_func(p, x) - y\n",
    "    return ret\n",
    "\n",
    "\n",
    "x = np.linspace(0, 1, 9)  # 随机选择9个点作为x\n",
    "x_points = np.linspace(0, 1, 1000)  # 画图时需要的连续点\n",
    "\n",
    "y0 = real_func(x)  # 目标函数\n",
    "y1 = [np.random.normal(0, 0.1) + y for y in y0]  # 添加正太分布噪声后的函数\n",
    "\n",
    "p_init = np.random.randn(n)  # 随机初始化多项式参数\n",
    "\n",
    "plsq = leastsq(residuals_func, p_init, args=(y1, x))\n",
    "\n",
    "print('Fitting Parameters: ', plsq[0])  # 输出拟合参数\n",
    "\n",
    "pl.plot(x_points, real_func(x_points), label='real')\n",
    "pl.plot(x_points, fit_func(plsq[0], x_points), label='fitted curve')\n",
    "pl.plot(x, y1, 'bo', label='with noise')\n",
    "pl.legend()\n",
    "pl.show()"
   ]
  },
  {
   "cell_type": "code",
   "execution_count": 12,
   "metadata": {},
   "outputs": [
    {
     "name": "stdout",
     "output_type": "stream",
     "text": [
      "Fitting Parameters:  [-5.19632844e+03  2.13093480e+04 -3.57220981e+04  3.13943743e+04\n",
      " -1.53945364e+04  4.14710891e+03 -5.74600870e+02  3.64692739e+01\n",
      " -1.00019739e-02]\n"
     ]
    },
    {
     "data": {
      "image/png": "[encoded data removed]",
      "text/plain": [
       "<Figure size 432x288 with 1 Axes>"
      ]
     },
     "metadata": {
      "needs_background": "light"
     },
     "output_type": "display_data"
    }
   ],
   "source": [
    "%matplotlib inline\n",
    "'''最小二乘法'''\n",
    "# _*_ coding: utf-8 _*_\n",
    "\n",
    "import numpy as np  # 引入numpy\n",
    "import scipy as sp\n",
    "import pylab as pl\n",
    "from scipy.optimize import leastsq  # 引入最小二乘函数\n",
    "\n",
    "n = 9  # 多项式次数\n",
    "\n",
    "\n",
    "# 目标函数\n",
    "def real_func(x):\n",
    "    return np.sin(2 * np.pi * x)\n",
    "\n",
    "\n",
    "# 多项式函数\n",
    "def fit_func(p, x):\n",
    "    f = np.poly1d(p)\n",
    "    return f(x)\n",
    "\n",
    "regularization = 0  # 正则化系数lambda \n",
    "# 残差函数\n",
    "def residuals_func(p, y, x):\n",
    "    ret = fit_func(p, x) - y\n",
    "    ret = np.append(ret, np.sqrt(regularization) * p)\n",
    "    return ret\n",
    "\n",
    "\n",
    "x = np.linspace(0, 1, 9)  # 随机选择9个点作为x\n",
    "x_points = np.linspace(0, 1, 1000)  # 画图时需要的连续点\n",
    "\n",
    "y0 = real_func(x)  # 目标函数\n",
    "y1 = [np.random.normal(0, 0.1) + y for y in y0]  # 添加正太分布噪声后的函数\n",
    "\n",
    "p_init = np.random.randn(n)  # 随机初始化多项式参数\n",
    "\n",
    "plsq = leastsq(residuals_func, p_init, args=(y1, x))\n",
    "\n",
    "print('Fitting Parameters: ', plsq[0])  # 输出拟合参数\n",
    "\n",
    "pl.plot(x_points, real_func(x_points), label='real')\n",
    "pl.plot(x_points, fit_func(plsq[0], x_points), label='fitted curve')\n",
    "pl.plot(x, y1, 'bo', label='with noise')\n",
    "pl.legend()\n",
    "pl.show()"
   ]
  },
  {
   "cell_type": "code",
   "execution_count": 14,
   "metadata": {},
   "outputs": [
    {
     "data": {
      "image/png": "[encoded data removed]",
      "text/plain": [
       "<Figure size 432x288 with 1 Axes>"
      ]
     },
     "metadata": {
      "needs_background": "light"
     },
     "output_type": "display_data"
    }
   ],
   "source": [
    "%matplotlib inline\n",
    "import numpy as np\n",
    "import math\n",
    "import matplotlib.pyplot as plt\n",
    "SAMPLE_NUM=200#要生成的sample个数\n",
    "M=9#多项式阶数\n",
    "\n",
    "#产生带有高斯噪声的信号\n",
    "mid, sigma = 0, 0.3 # 设置均值和方差\n",
    "noise = np.random.normal(mid, sigma, SAMPLE_NUM).reshape(SAMPLE_NUM,1) #生成SAMPLE_NUM个数据\n",
    "\n",
    "#产生SAMPLE_NUM个序号(范围是2pi)\n",
    "x = np.arange(0, SAMPLE_NUM).reshape(SAMPLE_NUM,1)/(SAMPLE_NUM-1)*(2*math.pi)\n",
    "\n",
    "#generate y and y_noise, and both y's and y_noise's shape is (SAMPLE_NUM*1)\n",
    "y=np.sin(x)\n",
    "y_noise=np.sin(x)+noise\n",
    "\n",
    "#绿色曲线显示x - y，散点显示x - y_noise\n",
    "plt.title(\"\")\n",
    "plt.plot(x,y,'g',lw=4.0)\n",
    "plt.plot(x,y_noise,'bo')\n",
    " \n",
    "\n",
    "#generate Matrix X which has M order\n",
    "X=x\n",
    "for i in range(2,M+1):\n",
    "         X = np.column_stack((X, pow(x,i)))\n",
    "\n",
    "#add 1 on the first column of X, now X's shape is (SAMPLE_NUM*(M+1))\n",
    "X = np.insert(X,0,[1],1)\n",
    "#print(X)\n",
    "\n",
    "#calculate W, W's shape is ((M+1)*1)#\n",
    "#W=np.linalg.inv((X.T.dot(X))).dot(X.T).dot(y_noise)#have no regularization\n",
    "W=np.linalg.inv((X.T.dot(X))+np.exp(-8) * np.eye(M+1)).dot(X.T).dot(y_noise)#introduce regularization\n",
    "y_estimate=X.dot(W)\n",
    "\n",
    "#红色曲线显示x - y_estimate\n",
    "plt.plot(x,y_estimate,'r',lw=4.0)\n",
    "plt.show()  "
   ]
  },
  {
   "cell_type": "code",
   "execution_count": 15,
   "metadata": {},
   "outputs": [
    {
     "data": {
      "image/png": "[encoded data removed]",
      "text/plain": [
       "<Figure size 432x288 with 1 Axes>"
      ]
     },
     "metadata": {
      "needs_background": "light"
     },
     "output_type": "display_data"
    }
   ],
   "source": [
    "%matplotlib inline\n",
    "import numpy as np\n",
    "import math\n",
    "import matplotlib.pyplot as plt\n",
    "SAMPLE_NUM=100#要生成的sample个数\n",
    "M=9#多项式阶数\n",
    "\n",
    "#产生带有高斯噪声的信号\n",
    "mid, sigma = 0, 0.3 # 设置均值和方差\n",
    "noise = np.random.normal(mid, sigma, SAMPLE_NUM).reshape(SAMPLE_NUM,1) #生成SAMPLE_NUM个数据\n",
    "\n",
    "#产生SAMPLE_NUM个序号(范围是2pi)\n",
    "x = np.arange(0, SAMPLE_NUM).reshape(SAMPLE_NUM,1)/(SAMPLE_NUM-1)*(2*math.pi)\n",
    "\n",
    "#generate y and y_noise, and both y's and y_noise's shape is (SAMPLE_NUM*1)\n",
    "y=np.sin(x)\n",
    "y_noise=np.sin(x)+noise\n",
    "\n",
    "#绿色曲线显示x - y，散点显示x - y_noise\n",
    "plt.title(\"\")\n",
    "plt.plot(x,y,'g',lw=4.0)\n",
    "plt.plot(x,y_noise,'bo')\n",
    " \n",
    "\n",
    "#generate Matrix X which has M order\n",
    "X=x\n",
    "for i in range(2,M+1):\n",
    "         X = np.column_stack((X, pow(x,i)))\n",
    "\n",
    "#add 1 on the first column of X, now X's shape is (SAMPLE_NUM*(M+1))\n",
    "X = np.insert(X,0,[1],1)\n",
    "#print(X)\n",
    "\n",
    "#calculate W, W's shape is ((M+1)*1)#\n",
    "#W=np.linalg.inv((X.T.dot(X))).dot(X.T).dot(y_noise)#have no regularization\n",
    "W=np.linalg.inv((X.T.dot(X))+np.exp(-8) * np.eye(M+1)).dot(X.T).dot(y_noise)#introduce regularization\n",
    "y_estimate=X.dot(W)\n",
    "\n",
    "#红色曲线显示x - y_estimate\n",
    "plt.plot(x,y_estimate,'r',lw=4.0)\n",
    "plt.show() "
   ]
  },
  {
   "cell_type": "code",
   "execution_count": 16,
   "metadata": {},
   "outputs": [
    {
     "data": {
      "image/png": "[encoded data removed]",
      "text/plain": [
       "<Figure size 432x288 with 1 Axes>"
      ]
     },
     "metadata": {
      "needs_background": "light"
     },
     "output_type": "display_data"
    }
   ],
   "source": [
    "%matplotlib inline\n",
    "import numpy as np\n",
    "import math\n",
    "import matplotlib.pyplot as plt\n",
    "SAMPLE_NUM=10#要生成的sample个数\n",
    "M=9#多项式阶数\n",
    "\n",
    "#产生带有高斯噪声的信号\n",
    "mid, sigma = 0, 0.3 # 设置均值和方差\n",
    "noise = np.random.normal(mid, sigma, SAMPLE_NUM).reshape(SAMPLE_NUM,1) #生成SAMPLE_NUM个数据\n",
    "\n",
    "#产生SAMPLE_NUM个序号(范围是2pi)\n",
    "x = np.arange(0, SAMPLE_NUM).reshape(SAMPLE_NUM,1)/(SAMPLE_NUM-1)*(2*math.pi)\n",
    "\n",
    "#generate y and y_noise, and both y's and y_noise's shape is (SAMPLE_NUM*1)\n",
    "y=np.sin(x)\n",
    "y_noise=np.sin(x)+noise\n",
    "\n",
    "#绿色曲线显示x - y，散点显示x - y_noise\n",
    "plt.title(\"\")\n",
    "plt.plot(x,y,'g',lw=4.0)\n",
    "plt.plot(x,y_noise,'bo')\n",
    " \n",
    "\n",
    "#generate Matrix X which has M order\n",
    "X=x\n",
    "for i in range(2,M+1):\n",
    "         X = np.column_stack((X, pow(x,i)))\n",
    "\n",
    "#add 1 on the first column of X, now X's shape is (SAMPLE_NUM*(M+1))\n",
    "X = np.insert(X,0,[1],1)\n",
    "#print(X)\n",
    "\n",
    "#calculate W, W's shape is ((M+1)*1)#\n",
    "#W=np.linalg.inv((X.T.dot(X))).dot(X.T).dot(y_noise)#have no regularization\n",
    "W=np.linalg.inv((X.T.dot(X))+np.exp(-8) * np.eye(M+1)).dot(X.T).dot(y_noise)#introduce regularization\n",
    "y_estimate=X.dot(W)\n",
    "\n",
    "#红色曲线显示x - y_estimate\n",
    "plt.plot(x,y_estimate,'r',lw=4.0)\n",
    "plt.show() "
   ]
  },
  {
   "cell_type": "code",
   "execution_count": null,
   "metadata": {},
   "outputs": [],
   "source": []
  }
 ],
 "metadata": {
  "kernelspec": {
   "display_name": "Python 3",
   "language": "python",
   "name": "python3"
  },
  "language_info": {
   "codemirror_mode": {
    "name": "ipython",
    "version": 3
   },
   "file_extension": ".py",
   "mimetype": "text/x-python",
   "name": "python",
   "nbconvert_exporter": "python",
   "pygments_lexer": "ipython3",
   "version": "3.7.4"
  }
 },
 "nbformat": 4,
 "nbformat_minor": 2
}
